{
 "cells": [
  {
   "cell_type": "markdown",
   "metadata": {},
   "source": [
    "# Dr. Sormanni Presentation Region"
   ]
  },
  {
   "cell_type": "markdown",
   "metadata": {},
   "source": [
    "#### Build Model"
   ]
  },
  {
   "cell_type": "code",
   "execution_count": 1,
   "metadata": {},
   "outputs": [],
   "source": [
    "from TransformerBeta import *"
   ]
  },
  {
   "cell_type": "code",
   "execution_count": 2,
   "metadata": {},
   "outputs": [
    {
     "name": "stdout",
     "output_type": "stream",
     "text": [
      "Wide model: total number of parameters: 29437976\n",
      "Wide model: total number of trainable parameters: 29437976\n"
     ]
    },
    {
     "data": {
      "text/plain": [
       "<All keys matched successfully>"
      ]
     },
     "execution_count": 2,
     "metadata": {},
     "output_type": "execute_result"
    }
   ],
   "source": [
    "# build model wide\n",
    "query_size, key_size, value_size, num_hiddens = 512, 512, 512, 512\n",
    "num_layers, dropout = 4, 0.1\n",
    "lr, num_epochs, batch_size, label_smoothing = 0.0004, 500, 6000, 0.1\n",
    "ffn_num_input, ffn_num_hiddens, num_heads = 512, 2048, 8\n",
    "\n",
    "norm_shape = [512] # 32 corresponds to the dim of such number to normalize\n",
    "device = d2l.try_gpu()\n",
    "\n",
    "\n",
    "encoder_wide = TransformerEncoder(\n",
    "\tlen(amino_dict), key_size, query_size, value_size, num_hiddens, \n",
    "\tnorm_shape, ffn_num_input, ffn_num_hiddens, num_heads,\n",
    "\tnum_layers, dropout)\n",
    "decoder_wide = TransformerDecoder(\n",
    "\tlen(amino_dict), key_size, query_size, value_size, num_hiddens, \n",
    "\tnorm_shape, ffn_num_input, ffn_num_hiddens, num_heads,\n",
    "\tnum_layers, dropout)\n",
    "model_wide = EncoderDecoder(encoder_wide, decoder_wide)\n",
    "\n",
    "\n",
    "model_wide_total_params = sum(p.numel() for p in model_wide.parameters())\n",
    "model_wide_total_trainable_params = sum(p.numel() for p in model_wide.parameters() if p.requires_grad)\n",
    "\n",
    "print('Wide model: total number of parameters: {}'.format(model_wide_total_params))\n",
    "print('Wide model: total number of trainable parameters: {}'.format(model_wide_total_trainable_params))\n",
    "\n",
    "\n",
    "model_wide.load_state_dict(torch.load(\"model_wide_22Jul16_1011AM\", map_location = ('cpu')))"
   ]
  },
  {
   "cell_type": "markdown",
   "metadata": {},
   "source": [
    "#### Target of interest"
   ]
  },
  {
   "cell_type": "code",
   "execution_count": 3,
   "metadata": {},
   "outputs": [],
   "source": [
    "PDB_beta_strand = 'NRIELKGT' # PDB label = 'VVARTKYK' (training sample that generate different labels)\n",
    "\n",
    "PNAS_2015_target = 'EQVTNVGG' # paper chosen peptide = 'QYSVLIDA',  paper chosen peptide 2 = 'QYSVLIEF' (alpha-synuclein residues 61-68)"
   ]
  },
  {
   "cell_type": "markdown",
   "metadata": {},
   "source": [
    "#### Target of selection"
   ]
  },
  {
   "cell_type": "code",
   "execution_count": 8,
   "metadata": {},
   "outputs": [],
   "source": [
    "task_target = 'EQVTNVGG'\n",
    "model_use = model_wide\n",
    "prediction_length = 8"
   ]
  },
  {
   "cell_type": "markdown",
   "metadata": {},
   "source": [
    "#### Greedy single prediction"
   ]
  },
  {
   "cell_type": "code",
   "execution_count": 9,
   "metadata": {},
   "outputs": [
    {
     "name": "stdout",
     "output_type": "stream",
     "text": [
      "Conditional probability at position 1 is 0.8633506298065186\n",
      "Conditional probability at position 2 is 0.9360931515693665\n",
      "Conditional probability at position 3 is 0.9199482798576355\n",
      "Conditional probability at position 4 is 0.9479291439056396\n",
      "Conditional probability at position 5 is 0.9067015647888184\n",
      "Conditional probability at position 6 is 0.723145604133606\n",
      "Conditional probability at position 7 is 0.6093640923500061\n",
      "Conditional probability at position 8 is 0.32506802678108215\n",
      "Conditional probability at position 9 is 0.9241384267807007\n",
      "Input target sequence is EQVTNVGG, predicted complementary peptide is QYSVLIFL\n",
      "Condition on input, predicted probability is 0.08459093488266128\n"
     ]
    }
   ],
   "source": [
    "dec_comple_peptide_pred, dec_prob, dec_attention_weight_seq = predict_greedy_single(model_use, task_target, amino_dict, prediction_length + 2, device, save_attention_weights=True, print_info=True)"
   ]
  },
  {
   "cell_type": "markdown",
   "metadata": {},
   "source": [
    "#### Candidates sampling"
   ]
  },
  {
   "cell_type": "code",
   "execution_count": 10,
   "metadata": {},
   "outputs": [
    {
     "name": "stdout",
     "output_type": "stream",
     "text": [
      "number of total candidates sampled: 200\n",
      "number of unique top candidates successfully sampled: 100\n",
      "[['QYSVLIFL' '0.08459067344665527']\n",
      " ['QYSVLIFG' '0.05803714320063591']\n",
      " ['QYSVLSYY' '0.039539407938718796']\n",
      " ['QYSVLIAL' '0.03525225818157196']\n",
      " ['QYSVLIFF' '0.03364912420511246']\n",
      " ['QYSVLITL' '0.029616713523864746']\n",
      " ['QYSVLIFW' '0.01687812991440296']\n",
      " ['QYSVLIFA' '0.01644524373114109']\n",
      " ['QYSVLSYL' '0.015118086710572243']\n",
      " ['QYSVLISL' '0.011400229297578335']\n",
      " ['QYSVLIGY' '0.011086122132837772']\n",
      " ['QYSVLIFQ' '0.00900103710591793']\n",
      " ['QYSVLIHF' '0.005809905007481575']\n",
      " ['QYSVLSYV' '0.004839177709072828']\n",
      " ['QYSVLIFY' '0.004783081356436014']\n",
      " ['QYSVLVYF' '0.004712470341473818']\n",
      " ['QYSVLSYF' '0.004016211722046137']\n",
      " ['QYSVTITP' '0.003600770840421319']\n",
      " ['QYSVLIFH' '0.003430353244766593']\n",
      " ['QYSVLCNV' '0.003339572111144662']\n",
      " ['QYSVLIFN' '0.002169572515413165']\n",
      " ['QYSVLVYW' '0.0020870205480605364']\n",
      " ['QYSVLSYM' '0.0017096661031246185']\n",
      " ['QYSVLERL' '0.0011118578258901834']\n",
      " ['QYSVLSAG' '0.001062168157659471']\n",
      " ['QYNVLCNV' '0.0010381919564679265']\n",
      " ['QYSVLSYE' '0.0008793777669779956']\n",
      " ['QYSVLSFR' '0.0007523888489231467']\n",
      " ['QYSVILRL' '0.0006381428684107959']\n",
      " ['QYSVLIQY' '0.0005844040424562991']\n",
      " ['QYSVLIIF' '0.0005328563856892288']\n",
      " ['QYSVTITY' '0.00044999600504525006']\n",
      " ['QYNVIRQV' '0.000386078841984272']\n",
      " ['QYSVPIVK' '0.00038363676867447793']\n",
      " ['QYSVLSVY' '0.0003694152692332864']\n",
      " ['QYSVLVFF' '0.0003418522246647626']\n",
      " ['QYSVLRLG' '0.00034153429442085326']\n",
      " ['QYSVLVLI' '0.0003219454374630004']\n",
      " ['QYDLTSFV' '0.00025729232584126294']\n",
      " ['QYSVLPVI' '0.0002475898072589189']\n",
      " ['QYSVWYWG' '0.000219656532863155']\n",
      " ['QYWVHFQF' '0.00021510217629838735']\n",
      " ['HYSVLIFW' '0.00020833803864661604']\n",
      " ['QYQVLSYY' '0.00012202143989270553']\n",
      " ['NYSVLINA' '0.00010310934885637835']\n",
      " ['QYSVLVEF' '9.849506022874266e-05']\n",
      " ['KYSVLIDF' '8.738650649320334e-05']\n",
      " ['QYSILYST' '7.61752380640246e-05']\n",
      " ['NYSVLIAT' '6.946856592549011e-05']\n",
      " ['QYGVIAEI' '6.435046816477552e-05']\n",
      " ['QYSVLRWS' '6.289144948823377e-05']\n",
      " ['KYSVLCNV' '5.9011268604081124e-05']\n",
      " ['QYSVLFSV' '5.801791849080473e-05']\n",
      " ['QYSVLSAI' '5.7331071730004624e-05']\n",
      " ['QYSVDIYI' '5.619608054985292e-05']\n",
      " ['QYSVLNYS' '4.8992096708389e-05']\n",
      " ['QYTVIAFY' '4.1170806071022525e-05']\n",
      " ['QYSVHCFN' '3.3446282031945884e-05']\n",
      " ['LYSVLISA' '3.2951349567156285e-05']\n",
      " ['TYSVLIFL' '3.086183642153628e-05']\n",
      " ['QYSVFRFE' '2.6031138986581936e-05']\n",
      " ['QYSVQVYF' '2.5530189304845408e-05']\n",
      " ['QRSVLIAL' '2.479564500390552e-05']\n",
      " ['QYGVIAWV' '2.2221196559257805e-05']\n",
      " ['QYSVLINR' '2.072002098429948e-05']\n",
      " ['QVAFLINA' '2.0686295101768337e-05']\n",
      " ['QKVLICFA' '2.0051162209711038e-05']\n",
      " ['QNAFLISV' '1.8618717149365693e-05']\n",
      " ['QYSVDIEV' '1.857173629105091e-05']\n",
      " ['QYSMLVTY' '1.7347665561828762e-05']\n",
      " ['QYSVLQAP' '1.516058182460256e-05']\n",
      " ['QCYIAVTL' '1.3718105947191361e-05']\n",
      " ['QYSVLPTT' '1.240028996107867e-05']\n",
      " ['QYFITAAV' '8.663852895551827e-06']\n",
      " ['QYSVLTYW' '8.177913514373358e-06']\n",
      " ['QYDVFYTL' '8.164269274857361e-06']\n",
      " ['QMTFSAYL' '7.448479664162733e-06']\n",
      " ['QYSVILDY' '3.749528559637838e-06']\n",
      " ['YTYCELRL' '3.1848687740421155e-06']\n",
      " ['NTYSWLKN' '2.949548616015818e-06']\n",
      " ['NYSVLIVQ' '2.6312754926038906e-06']\n",
      " ['QWYSGAFT' '2.2550434550794307e-06']\n",
      " ['NYSVLTQF' '2.0027127902721986e-06']\n",
      " ['QYSVLVNI' '1.8581547465146286e-06']\n",
      " ['NKISINKY' '8.602703474025475e-07']\n",
      " ['HYSVLITE' '8.455838269583182e-07']\n",
      " ['QYDLTNKY' '7.042553988867439e-07']\n",
      " ['PKYFVYTL' '5.87745375923987e-07']\n",
      " ['CDFLWMQF' '5.259872750684735e-07']\n",
      " ['QYSWLCSV' '4.425345423442195e-07']\n",
      " ['QYNVTSFV' '3.162071493534313e-07']\n",
      " ['QYNVIRDQ' '1.6236549527093302e-07']\n",
      " ['DKLTILRL' '1.2249043379597424e-07']\n",
      " ['LYSVLQWS' '1.0745639400511209e-07']\n",
      " ['QYSITIFH' '7.481649788587674e-08']\n",
      " ['QYSARHTL' '4.7698495819759046e-08']\n",
      " ['GTLWEITS' '1.9517099048016462e-08']\n",
      " ['QYAVPPSQ' '1.1477994110720147e-09']\n",
      " ['QYSPGAWL' '7.246961919449291e-10']\n",
      " ['EQSVEQEL' '6.198487556563492e-11']]\n"
     ]
    }
   ],
   "source": [
    "num_candidates = 100\n",
    "max_iter = 20\n",
    "\n",
    "peptide_candidates = sample_candidates(model_use, task_target, num_candidates, amino_dict, prediction_length + 2, device, max_iter=max_iter)\n",
    "print(peptide_candidates)"
   ]
  },
  {
   "cell_type": "markdown",
   "metadata": {},
   "source": [
    "#### Peptides pair evaulation"
   ]
  },
  {
   "cell_type": "code",
   "execution_count": 11,
   "metadata": {},
   "outputs": [
    {
     "name": "stdout",
     "output_type": "stream",
     "text": [
      "Conditional probability at position 1 is 0.012247689068317413\n",
      "Conditional probability at position 2 is 0.00828417669981718\n",
      "Conditional probability at position 3 is 0.10578251630067825\n",
      "Conditional probability at position 4 is 0.5253966450691223\n",
      "Conditional probability at position 5 is 0.029865358024835587\n",
      "Conditional probability at position 6 is 0.030841505154967308\n",
      "Conditional probability at position 7 is 0.8573779463768005\n",
      "Conditional probability at position 8 is 0.01506110094487667\n",
      "Conditional probability at position 9 is 0.9241788387298584\n",
      "Input target sequence is EQVTNVGG, complementary peptide is EQSVEQEL\n",
      "Evaluated probability is 6.19859173534822e-11\n"
     ]
    }
   ],
   "source": [
    "task_target = task_target\n",
    "dec_comple_peptide_pred = 'EQSVEQEL'\n",
    "\n",
    "dec_prob, dec_attention_weight_seq = evaluate_single(model_use, task_target, dec_comple_peptide_pred,amino_dict, prediction_length + 2, device, save_attention_weights=True, print_info=True)"
   ]
  }
 ],
 "metadata": {
  "kernelspec": {
   "display_name": "Python 3.10.4 ('pt')",
   "language": "python",
   "name": "python3"
  },
  "language_info": {
   "codemirror_mode": {
    "name": "ipython",
    "version": 3
   },
   "file_extension": ".py",
   "mimetype": "text/x-python",
   "name": "python",
   "nbconvert_exporter": "python",
   "pygments_lexer": "ipython3",
   "version": "3.10.4"
  },
  "orig_nbformat": 4,
  "vscode": {
   "interpreter": {
    "hash": "78bf9874701a3957232b8c741c196d0ac3fa790968bd4270c0e2fd5bdf999274"
   }
  }
 },
 "nbformat": 4,
 "nbformat_minor": 2
}
