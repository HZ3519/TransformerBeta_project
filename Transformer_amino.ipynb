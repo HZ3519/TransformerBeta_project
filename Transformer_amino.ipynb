{
 "cells": [
  {
   "cell_type": "code",
   "execution_count": 1,
   "metadata": {},
   "outputs": [],
   "source": [
    "import math\n",
    "import os\n",
    "# os.environ['CUDA_LAUNCH_BLOCKING'] = '1'\n",
    "import torch\n",
    "from torch import nn\n",
    "from torch.distributions.categorical import Categorical\n",
    "from d2l import torch as d2l\n",
    "import pandas as pd\n",
    "import pickle\n",
    "import numpy as np \n",
    "import time \n",
    "import matplotlib.pyplot as plt "
   ]
  },
  {
   "cell_type": "markdown",
   "metadata": {},
   "source": [
    "#### Check GPU availability"
   ]
  },
  {
   "cell_type": "code",
   "execution_count": 2,
   "metadata": {},
   "outputs": [
    {
     "name": "stdout",
     "output_type": "stream",
     "text": [
      "GPU availability: False\n",
      "Number of GPU available: 0\n"
     ]
    }
   ],
   "source": [
    "print(\"GPU availability: {}\".format(torch.cuda.is_available()))\n",
    "print(\"Number of GPU available: {}\".format(torch.cuda.device_count()))"
   ]
  },
  {
   "cell_type": "markdown",
   "metadata": {},
   "source": [
    "#### Clean GPU usage"
   ]
  },
  {
   "cell_type": "code",
   "execution_count": 3,
   "metadata": {},
   "outputs": [],
   "source": [
    "# to train a new model, restart kernel after freeing gpu memory\n",
    "# and load all pretraining data\n",
    "\n",
    "from GPUtil import showUtilization as gpu_usage\n",
    "from numba import cuda\n",
    "\n",
    "def free_gpu_cache():\n",
    "    print(\"Initial GPU Usage\")\n",
    "    gpu_usage()                             \n",
    "\n",
    "    torch.cuda.empty_cache()\n",
    "\n",
    "    cuda.select_device(0)\n",
    "    cuda.close()\n",
    "    cuda.select_device(0)\n",
    "\n",
    "    print(\"GPU Usage after emptying the cache\")\n",
    "    gpu_usage()"
   ]
  },
  {
   "cell_type": "code",
   "execution_count": 4,
   "metadata": {},
   "outputs": [],
   "source": [
    "# check gpu_usage\n",
    "#gpu_usage()"
   ]
  },
  {
   "cell_type": "markdown",
   "metadata": {},
   "source": [
    "#### Masked sequence"
   ]
  },
  {
   "cell_type": "code",
   "execution_count": 5,
   "metadata": {},
   "outputs": [],
   "source": [
    "# X: (5, 10)\n",
    "# value: [1, 5, 3, 6, 2] -- matching the rows \n",
    "\n",
    "def sequence_mask(X, valid_len, value=0):\n",
    "\t\"\"\"Mask irrelevant entries in sequences.\"\"\"\n",
    "\n",
    "\tmaxlen = X.size(1)\n",
    "\tmask = torch.arange((maxlen), dtype=torch.float32, device=X.device)[None, :] < valid_len[:, None]\n",
    "\t#print(mask)\n",
    "\n",
    "\tX[~mask] = value # set the masked elements to value \n",
    "\treturn X"
   ]
  },
  {
   "cell_type": "markdown",
   "metadata": {},
   "source": [
    "#### Masked softmax operation"
   ]
  },
  {
   "cell_type": "code",
   "execution_count": 6,
   "metadata": {},
   "outputs": [],
   "source": [
    "# X: (2, 3, 4) -- attention weights\n",
    "# valid lens: specify how many elements to mask in each minibatch \n",
    "# valid lens (high dim): specify how to mask each minibatch \n",
    "def masked_softmax(X, valid_lens):\n",
    "\t\"\"\"Perform softmax operation by masking elements on the last axis\"\"\"\n",
    "\n",
    "\tif valid_lens == None:\n",
    "\t\treturn nn.functional.softmax(X, dim=-1)\n",
    "\telse:\n",
    "\t\tshape = X.shape\n",
    "\t\tif valid_lens.dim() == 1:\n",
    "\t\t\t# \n",
    "\t\t\tvalid_lens = torch.repeat_interleave(valid_lens, shape[1])\n",
    "\t\telse:\n",
    "\t\t\tvalid_lens = valid_lens.reshape(-1)\n",
    "\t\tX = sequence_mask(X.reshape(-1, shape[-1]), valid_lens, value=-1e6)\n",
    "\n",
    "\t\treturn nn.functional.softmax(X.reshape(shape), dim=-1)"
   ]
  },
  {
   "cell_type": "markdown",
   "metadata": {},
   "source": [
    "#### Positional encoding"
   ]
  },
  {
   "cell_type": "code",
   "execution_count": 7,
   "metadata": {},
   "outputs": [],
   "source": [
    "class PositionalEncoding(nn.Module):\n",
    "\t\"\"\"Position encoding X+P with dropout\"\"\"\n",
    "\n",
    "\tdef __init__(self, num_hiddens, dropout, max_len=1000):\n",
    "\t\tsuper(PositionalEncoding, self).__init__()\n",
    "\t\tself.dropout = nn.Dropout(dropout)\n",
    "\n",
    "\t\t# create a single batch_size 1, long enough P, longer than sequence length\n",
    "\t\tself.P = torch.zeros((1, max_len, num_hiddens))\n",
    "\t\tX = torch.arange(max_len, dtype=torch.float32).reshape(-1, 1) / torch.pow(10000, torch.arange(0, num_hiddens, 2, dtype=torch.float32)/num_hiddens)\n",
    "\t\tself.P[:, :, 0::2] = torch.sin(X)\n",
    "\t\tself.P[:, :, 1::2] = torch.cos(X)\n",
    "\n",
    "\tdef forward(self, X):\n",
    "\t\tX = X + self.P[:, :X.shape[1], :].to(X.device)\n",
    "\t\treturn self.dropout(X)"
   ]
  },
  {
   "cell_type": "markdown",
   "metadata": {},
   "source": [
    "#### Scaled dot-product attention"
   ]
  },
  {
   "cell_type": "code",
   "execution_count": 8,
   "metadata": {},
   "outputs": [],
   "source": [
    "class DotProductAttention(nn.Module):\n",
    "\t\"\"\"\"Scaled dot product attention with dropout\"\"\"\n",
    "\n",
    "\tdef __init__(self, dropout, **kwargs):\n",
    "\t\tsuper(DotProductAttention, self).__init__(**kwargs)\n",
    "\t\tself.dropout = nn.Dropout(dropout)\n",
    "\n",
    "\t\t# query: (batch_size, no. of queries, 'd')\n",
    "\t\t# key: (batch_size, no. of key-value pairs, 'd')\n",
    "\t\t# value: (batch_size, no. of key-value pairs, d_value)\n",
    "\t\t# valid_lens: (batch_size, ) or (batch_size, no. of queries)\n",
    "\t\n",
    "\tdef forward(self, queries, keys, values, valid_lens=None):\n",
    "\t\td = queries.shape[-1]\n",
    "\n",
    "\t\tscores = torch.bmm(queries, keys.transpose(1, 2)) / math.sqrt(d)\n",
    "\t\tself.attention_weights = masked_softmax(scores, valid_lens)\n",
    "\t\treturn torch.bmm(self.dropout(self.attention_weights), values)"
   ]
  },
  {
   "cell_type": "markdown",
   "metadata": {},
   "source": [
    "#### Multi-head attention"
   ]
  },
  {
   "cell_type": "code",
   "execution_count": 9,
   "metadata": {},
   "outputs": [],
   "source": [
    "def transpose_qkv(X, num_heads):\n",
    "\t\"\"\"Transposition for parallel computation of multiple attention heads\"\"\"\n",
    "\n",
    "\tX = X.reshape(X.shape[0], X.shape[1], num_heads, -1)\n",
    "\tX = X.permute(0, 2, 1, 3)\n",
    "\n",
    "\treturn X.reshape(-1, X.shape[2], X.shape[3])\n",
    "\n",
    "def transpose_output(X, num_heads):\n",
    "\t\"\"\"Reverse the operation of transpose_qkv\"\"\"\n",
    "\n",
    "\tX = X.reshape(-1, num_heads, X.shape[1], X.shape[2])\n",
    "\tX = X.permute(0, 2, 1, 3)\n",
    "\n",
    "\treturn X.reshape(X.shape[0], X.shape[1], -1)"
   ]
  },
  {
   "cell_type": "code",
   "execution_count": 10,
   "metadata": {},
   "outputs": [],
   "source": [
    "# valid_lens: (batch_size, ) or (batch_size, no. of queries)\n",
    "# Note: the mask (valid_len) used here, I copy it num_heads times\n",
    "\n",
    "class MultiHeadAttention(nn.Module):\n",
    "\t\"\"\"Multi-head attention\"\"\"\n",
    "\n",
    "\tdef __init__(self, key_size, query_size, value_size, num_hiddens, num_heads, dropout, use_bias=False, **kwargs):\n",
    "\t\tsuper(MultiHeadAttention, self).__init__(**kwargs)\n",
    "\t\tself.num_heads = num_heads\n",
    "\t\tself.attention = DotProductAttention(dropout)\n",
    "\t\tself.W_q = nn.Linear(query_size, num_hiddens, bias=use_bias) # (in_feature, out_feature)\n",
    "\t\tself.W_k = nn.Linear(key_size, num_hiddens, bias=use_bias)\n",
    "\t\tself.W_v = nn.Linear(value_size, num_hiddens, bias=use_bias)\n",
    "\t\tself.W_o = nn.Linear(num_hiddens, num_hiddens, bias=use_bias)\n",
    "\t\n",
    "\tdef forward(self, queries, keys, values, valid_lens):\n",
    "\t\t\n",
    "\t\t# queries, keys, values:\n",
    "\t\t# (batch_size, no. of queries / keys/ values, num_hiddens) ---------------------note here we choose queries_size, value_size, key_size to be num_hiddens\n",
    "\t\t# valid_lens: (batch_size, ) or (batch_size, no. of queries)\n",
    "\n",
    "\t\tqueries = transpose_qkv(self.W_q(queries), self.num_heads)\n",
    "\t\tkeys = transpose_qkv(self.W_k(keys), self.num_heads)\n",
    "\t\tvalues = transpose_qkv(self.W_v(values), self.num_heads)\n",
    "\n",
    "\t\tif valid_lens is not None:\n",
    "\t\t\tvalid_lens = torch.repeat_interleave(valid_lens, repeats=self.num_heads, dim=0)\n",
    "\t\t\n",
    "\t\toutput = self.attention(queries, keys, values, valid_lens)\n",
    "\n",
    "\t\toutput_concat = transpose_output(output, self.num_heads)\n",
    "\n",
    "\t\treturn self.W_o(output_concat)"
   ]
  },
  {
   "cell_type": "markdown",
   "metadata": {},
   "source": [
    "#### Positionwise Feed-Forward Networks"
   ]
  },
  {
   "cell_type": "code",
   "execution_count": 11,
   "metadata": {},
   "outputs": [],
   "source": [
    "class PositionWiseFFN(nn.Module):\n",
    "\t\"\"\"Positionwise feed-forward network\"\"\"\n",
    "\n",
    "\tdef __init__(self, ffn_num_input, ffn_num_hiddens, ffn_num_outputs, **kwargs):\n",
    "\t\tsuper(PositionWiseFFN, self).__init__(**kwargs)\n",
    "\t\tself.dense1 = nn.Linear(ffn_num_input, ffn_num_hiddens)\n",
    "\t\tself.relu = nn.ReLU()\n",
    "\t\tself.dense2 = nn.Linear(ffn_num_hiddens, ffn_num_outputs)\n",
    "\n",
    "\tdef forward(self, X):\n",
    "\t\treturn self.dense2(self.relu(self.dense1(X)))"
   ]
  },
  {
   "cell_type": "markdown",
   "metadata": {},
   "source": [
    "#### Residual connection and layer normalization"
   ]
  },
  {
   "cell_type": "code",
   "execution_count": 12,
   "metadata": {},
   "outputs": [],
   "source": [
    "# input: (batch_size, seq_length, features_dim)\n",
    "# normalized shape is input.size()[1: ]\n",
    "# the normalizing direction is features_dim -- nomalizing along second dimension\n",
    "\n",
    "# X is input \n",
    "# Y is Multiattention(X)\n",
    "\n",
    "class AddNorm(nn.Module):\n",
    "\t\"\"\"Residual connection followed by layer normalization with dropout implementation\"\"\"\n",
    "\n",
    "\tdef __init__(self, normalized_shape, dropout, **kwargs):\n",
    "\t\tsuper(AddNorm, self).__init__(**kwargs)\n",
    "\t\tself.dropout = nn.Dropout(dropout)\n",
    "\t\tself.ln = nn.LayerNorm(normalized_shape)\n",
    "\n",
    "\tdef forward(self, X, Y): \n",
    "\t\treturn self.ln(self.dropout(Y) + X)"
   ]
  },
  {
   "cell_type": "markdown",
   "metadata": {},
   "source": [
    "#### Encoder"
   ]
  },
  {
   "cell_type": "code",
   "execution_count": 13,
   "metadata": {},
   "outputs": [],
   "source": [
    "class EncoderBlock(nn.Module):\n",
    "\t\"\"\"Transformer encoder block.\"\"\"\n",
    "\n",
    "\tdef __init__(self, key_size, query_size, value_size, num_hiddens, norm_shape, ffn_num_input, ffn_num_hiddens, num_heads, dropout, use_bias=False, **kwargs):\n",
    "\t\tsuper(EncoderBlock, self).__init__(**kwargs)\n",
    "\t\tself.attention = MultiHeadAttention(key_size=key_size, query_size=query_size, value_size=value_size, num_hiddens=num_hiddens, num_heads=num_heads, dropout=dropout, use_bias=use_bias)\n",
    "\t\tself.addnorm1 = AddNorm(norm_shape, dropout)\n",
    "\t\tself.ffn = PositionWiseFFN(ffn_num_input, ffn_num_hiddens, num_hiddens)\n",
    "\t\tself.addnorm2 = AddNorm(norm_shape, dropout)\n",
    "\n",
    "\tdef forward(self, X, valid_lens):\n",
    "\t\tY = self.addnorm1(X, self.attention(X, X, X, valid_lens))\n",
    "\t\treturn self.addnorm2(Y, self.ffn(Y))"
   ]
  },
  {
   "cell_type": "markdown",
   "metadata": {},
   "source": [
    "#### Transformer encoder"
   ]
  },
  {
   "cell_type": "code",
   "execution_count": 14,
   "metadata": {},
   "outputs": [],
   "source": [
    "# we can now stack the blocks of encoders\n",
    "# we also need to rescale to learnable input embeddings by sqrt(embedding dim) to [-1, 1]. This is because each value of positional embeddding is [-1, 1]\n",
    "# num_layers: number of blocks of encoder\n",
    "# vocab_size: size of vocabulary dictionary\n",
    "\n",
    "class TransformerEncoder(d2l.Encoder):\n",
    "\t\"\"\"Transformer encoder.\"\"\"\n",
    "\n",
    "\tdef __init__(self, vocab_size, key_size, query_size, value_size, num_hiddens, norm_shape, ffn_num_input, ffn_num_hiddens, num_heads, num_layers, dropout, use_bias=False, **kwargs):\n",
    "\t\tsuper(TransformerEncoder, self).__init__(**kwargs)\n",
    "\t\tself.num_hiddens = num_hiddens\n",
    "\t\tself.embedding = nn.Embedding(vocab_size, num_hiddens) # here we randomly initialize a input embedding matrix \n",
    "\t\tself.pos_encoding = PositionalEncoding(num_hiddens, dropout)\n",
    "\t\tself.blks = nn.Sequential()\n",
    "\t\tfor i in range(num_layers):\n",
    "\t\t\tself.blks.add_module(\"Block\"+str(i), EncoderBlock(key_size, query_size, value_size, num_hiddens, norm_shape, ffn_num_input, ffn_num_hiddens, num_heads, dropout, use_bias=use_bias))\n",
    "\t\n",
    "\tdef forward(self, X, valid_lens, *args):\n",
    "\t\tX = self.pos_encoding(self.embedding(X) * math.sqrt(self.num_hiddens))\n",
    "\t\tself.attention_weights = [None] * len(self.blks) # create a attention weight list to hold attention weights at each block\n",
    "\t\tfor i, blk in enumerate(self.blks):\n",
    "\t\t\tX = blk(X, valid_lens)\n",
    "\t\t\tself.attention_weights[i] = blk.attention.attention.attention_weights # the actual attention weights is stored in the ScaledDotAttention\n",
    "\t\t\n",
    "\t\treturn X"
   ]
  },
  {
   "cell_type": "markdown",
   "metadata": {},
   "source": [
    "#### Decoder"
   ]
  },
  {
   "cell_type": "code",
   "execution_count": 15,
   "metadata": {},
   "outputs": [],
   "source": [
    "# self.i stores all previous representations\n",
    "\n",
    "class DecoderBlock(nn.Module):\n",
    "\t\"\"\"The ith decoder block\"\"\"\n",
    "\tdef __init__(self, key_size, query_size, value_size, num_hiddens, norm_shape, ffn_num_input, ffn_num_hiddens, num_heads, dropout, i, **kwargs):\n",
    "\t\tsuper(DecoderBlock, self).__init__(**kwargs)\n",
    "\t\tself.i = i\n",
    "\t\tself.attention1 = MultiHeadAttention(key_size=key_size, query_size=query_size, value_size=value_size, num_hiddens=num_hiddens, num_heads=num_heads, dropout=dropout)\n",
    "\t\tself.addnorm1 = AddNorm(norm_shape, dropout)\n",
    "\t\tself.attention2 = MultiHeadAttention(key_size=key_size, query_size=query_size, value_size=value_size, num_hiddens=num_hiddens, num_heads=num_heads, dropout=dropout)\n",
    "\t\tself.addnorm2 = AddNorm(norm_shape, dropout)\n",
    "\t\tself.ffn = PositionWiseFFN(ffn_num_input, ffn_num_hiddens, num_hiddens)\n",
    "\t\tself.addnorm3 = AddNorm(norm_shape, dropout)\n",
    "\n",
    "\tdef forward(self, X, state):\n",
    "\t\t# state: (encoder_output, encoder_valid_len, some info)\n",
    "\t\tenc_outputs, enc_valid_lens = state[0], state[1]\n",
    "\t\t\n",
    "\t\tbatch_size, num_steps, _ = X.shape # (batch_size, previous_timesteps, hidden_dimension)\n",
    "\t\tdec_valid_lens = torch.arange(1, num_steps + 1, device=X.device).repeat(batch_size, 1) # repeat to size (2, 1), this specifies how we mask each row in each minibatch\n",
    "\t\t\n",
    "\t\t# main model\n",
    "\t\t# q, k, v as defined\n",
    "\t\tX2 = self.attention1(X, X, X, dec_valid_lens) # training: all X, but we mask all after, prediction: queries=current timestep repr, keys_values, all previous \n",
    "\t\tY = self.addnorm1(X, X2)\n",
    "\t\tY2 = self.attention2(Y, enc_outputs, enc_outputs, enc_valid_lens) # in the case encoder is masked \n",
    "\t\tZ = self.addnorm2(Y, Y2)\n",
    "\n",
    "\t\treturn self.addnorm3(Z, self.ffn(Z)), state # state here is passed as it was \n",
    "\n",
    "\t# some additional notes: \n",
    "\t# decoder consists of 2 functionality: training and prediction \n",
    "\n",
    "\t# during training: we use the whole sequence but mask attention weights\n",
    "\t# The attention weights matrix has dimension (q, k) -- the second query will only get acess to the first 2 key\n",
    "\t# state[2] is [None]\n",
    "\n",
    "\t# during prediction: we only have current embedding -- 1 query \n",
    "\t# the key-values combine current and all previous key-valuee to search for -- decoder self attention "
   ]
  },
  {
   "cell_type": "markdown",
   "metadata": {},
   "source": [
    "#### Transformer Decoder"
   ]
  },
  {
   "cell_type": "code",
   "execution_count": 16,
   "metadata": {},
   "outputs": [],
   "source": [
    "class TransformerDecoder(d2l.AttentionDecoder):\n",
    "\n",
    "\tdef __init__(self, vocab_size,  key_size, query_size, value_size, num_hiddens, norm_shape, ffn_num_input, ffn_num_hiddens, num_heads, num_layers, dropout, **kwargs):\n",
    "\t\tsuper(TransformerDecoder, self).__init__(**kwargs)\n",
    "\t\tself.num_hiddens = num_hiddens\n",
    "\t\tself.num_layers = num_layers\n",
    "\t\tself.embedding = nn.Embedding(vocab_size, num_hiddens)\n",
    "\t\tself.pos_encoding = PositionalEncoding(num_hiddens, dropout)\n",
    "\t\tself.blks = nn.Sequential()\n",
    "\t\tfor i in range(num_layers):\n",
    "\t\t\tself.blks.add_module(\"block\"+str(i), DecoderBlock(key_size, query_size, value_size, num_hiddens, norm_shape, ffn_num_input, ffn_num_hiddens, num_heads, dropout, i))\n",
    "\t\tself.dense = nn.Linear(num_hiddens, vocab_size)\n",
    "\t\t# prediction: we have (1, num_hiddens) --> (1, num_vocab_size)\n",
    "\n",
    "\tdef init_state(self, enc_outputs, enc_valid_lens, *args):\n",
    "\t\tself.seqX = None\n",
    "\t\treturn [enc_outputs, enc_valid_lens]\n",
    "\n",
    "\tdef forward(self, X, state):\n",
    "\n",
    "\t\tif not self.training:\n",
    "\t\t\tif self.seqX is None:\n",
    "\t\t\t\tself.seqX = X\n",
    "\t\t\telse:\n",
    "\t\t\t\tself.seqX = torch.cat((self.seqX, X), dim=1)\n",
    "\t\t\tX = self.seqX\n",
    "\n",
    "\t\tX = self.pos_encoding(self.embedding(X) * math.sqrt(self.num_hiddens))\n",
    "\t\tself._attention_weights = [[None] * len(self.blks) for _ in range(2)] # here we record attention from 2 attention module (2, i)\n",
    "\t\t\n",
    "\t\tfor i, blk in enumerate(self.blks):\n",
    "\n",
    "\t\t\tX, state = blk(X, state)\n",
    "\t\t\t# Decoder self-attention weights\n",
    "\t\t\tself._attention_weights[0][i] = blk.attention1.attention.attention_weights\n",
    "\t\t\t# Encoder-decoder attention weights\n",
    "\t\t\tself._attention_weights[1][i] = blk.attention2.attention.attention_weights\n",
    "\t\t\n",
    "\t\tif not self.training:\n",
    "\t\t\treturn self.dense(X)[:, -1:, :], state\n",
    "\t\t\n",
    "\t\treturn self.dense(X), state\n",
    "\n",
    "\tdef attention_weights(self):\n",
    "\t\treturn self._attention_weights"
   ]
  },
  {
   "cell_type": "markdown",
   "metadata": {},
   "source": [
    "#### Encoder to Decoder architecture"
   ]
  },
  {
   "cell_type": "code",
   "execution_count": 17,
   "metadata": {},
   "outputs": [],
   "source": [
    "class EncoderDecoder(nn.Module):\n",
    "    \"\"\"The base class for the encoder-decoder architecture.\"\"\"\n",
    "    def __init__(self, encoder, decoder, **kwargs):\n",
    "        super(EncoderDecoder, self).__init__(**kwargs)\n",
    "        self.encoder = encoder\n",
    "        self.decoder = decoder\n",
    "\n",
    "    def forward(self, enc_X, dec_X, *args):\n",
    "        enc_outputs = self.encoder(enc_X, *args)  # feature representation from encoder\n",
    "        dec_state = self.decoder.init_state(enc_outputs, *args) # use the feature representation from encoder to process a decoder init: (training--None), (prediction -- previous important information)\n",
    "        return self.decoder(dec_X, dec_state)"
   ]
  },
  {
   "cell_type": "markdown",
   "metadata": {},
   "source": [
    "#### The softmax cross-entropy loss with mask"
   ]
  },
  {
   "cell_type": "code",
   "execution_count": 18,
   "metadata": {},
   "outputs": [],
   "source": [
    "class MaskedSoftmaxCELoss(nn.CrossEntropyLoss):\n",
    "\t\"\"\"The softmax cross-entropy loss with masks.\"\"\"\n",
    "\t# 'pred' shape: ('batch_size', 'num_steps', 'vocab_size')  ---> shape should be (0, 2, 1)\n",
    "\t# 'label' shape: ('batch_size', num_steps) --- each number is a number between 0 and vocab_size/prob\n",
    "\t# 'valid_len' shape: ('batch_size', )\n",
    "\n",
    "\t# \"none\" return same shape as 'label'\n",
    "\t\n",
    "\t# num_steps have to be the same \n",
    "\t# during training, our labeled/pred length can be very long. We can restrict the length of each batch.\n",
    "\t# we ignore the irrelevant part\n",
    "\tdef forward(self, pred, label, valid_len, sample_weights, label_smoothing):\n",
    "\t\tmasks = torch.ones_like(label)\n",
    "\t\tmasks = sequence_mask(masks, valid_len)\n",
    "\t\tself.reduction = 'none'\n",
    "\t\tself.label_smoothing = label_smoothing\n",
    "\t\tunmaskeded_loss = super(MaskedSoftmaxCELoss, self).forward(pred.permute(0, 2, 1), label)\n",
    "\t\tmasked_loss = (unmaskeded_loss * masks).mean(dim=1) # mean of each batch along num_steps\n",
    "\n",
    "\t\tweighted_masked_loss = masked_loss * sample_weights\n",
    "\t\tweighted_average_masked_loss = weighted_masked_loss.sum() / sample_weights.sum()  # weighted average across batch\n",
    "\t\treturn weighted_average_masked_loss"
   ]
  },
  {
   "cell_type": "markdown",
   "metadata": {},
   "source": [
    "#### Hamming distance"
   ]
  },
  {
   "cell_type": "code",
   "execution_count": 19,
   "metadata": {},
   "outputs": [],
   "source": [
    "def hamming_distance_training(seq_pred, seq_true):\n",
    "\t\"\"\"Return the Hamming distancefor training between 2 equal lists of equal-length sequences(list of number).\"\"\"\n",
    "\t\n",
    "\thd_list = [(x!=y).sum() for x, y in zip(seq_pred, seq_true)]\n",
    "\n",
    "\treturn torch.sum(torch.stack(hd_list))\n"
   ]
  },
  {
   "cell_type": "code",
   "execution_count": 20,
   "metadata": {},
   "outputs": [],
   "source": [
    "def hamming_distance_sum(seq_pred, seq_true):\n",
    "\t\"\"\"Return the Hamming distance sum between 2 equal list of equal-length sequences(list of amino sequences).\"\"\"\n",
    "\n",
    "\thd_list = [sum(np.array(list(x))!=np.array(list(y))) for x, y in zip(seq_pred, seq_true)]\n",
    "\n",
    "\treturn sum(hd_list)"
   ]
  },
  {
   "cell_type": "code",
   "execution_count": 21,
   "metadata": {},
   "outputs": [],
   "source": [
    "def hamming_distance_list(seq_pred, seq_true):\n",
    "\t\"\"\"Return the Hamming distance list between 2 equal list of equal-length sequences(list of amino sequences).\"\"\"\n",
    "\n",
    "\thd_list = [sum(np.array(list(x))!=np.array(list(y))) for x, y in zip(seq_pred, seq_true)]\n",
    "\n",
    "\treturn hd_list"
   ]
  },
  {
   "cell_type": "markdown",
   "metadata": {},
   "source": [
    "#### Transformer training"
   ]
  },
  {
   "cell_type": "code",
   "execution_count": 22,
   "metadata": {},
   "outputs": [],
   "source": [
    "# input: list of training target sequences, list of training complementary peptides \n",
    "\n",
    "def preprocess_train(X_train_letter, Y_train_letter, amino_dict, num_steps, X_validation_letter=None, Y_validation_letter=None):\n",
    "\n",
    "\tX_train_letter_split = [list(sequence) for sequence in X_train_letter]\n",
    "\tY_train_letter_split = [list(sequence) for sequence in Y_train_letter]\n",
    "\n",
    "\tX_train_unpad= [[amino_dict[letter] for letter in sequence] + [amino_dict['<eos>']] for sequence in X_train_letter_split]\n",
    "\tY_train_unpad = [[amino_dict[letter] for letter in sequence] + [amino_dict['<eos>']] for sequence in Y_train_letter_split]\n",
    "\n",
    "\tX_valid_len = torch.tensor([len(sequence) for sequence in X_train_unpad])\n",
    "\tY_valid_len = torch.tensor([len(sequence) for sequence in Y_train_unpad])\n",
    "\n",
    "\tX_train = torch.tensor([d2l.truncate_pad(sequence, num_steps, amino_dict['<pad>']) for sequence in X_train_unpad])\n",
    "\tY_train = torch.tensor([d2l.truncate_pad(sequence, num_steps, amino_dict['<pad>']) for sequence in Y_train_unpad])\n",
    "\t# 2 more space for bos and eos \n",
    "\n",
    "\tif X_validation_letter is not None:\n",
    "\n",
    "\t\tX_validation_letter_split = [list(sequence) for sequence in X_validation_letter]\n",
    "\t\tY_validation_letter_split = [list(sequence) for sequence in Y_validation_letter]\n",
    "\n",
    "\t\tX_validation_unpad= [[amino_dict[letter] for letter in sequence] + [amino_dict['<eos>']] for sequence in X_validation_letter_split]\n",
    "\t\tY_validation_unpad = [[amino_dict[letter] for letter in sequence] + [amino_dict['<eos>']] for sequence in Y_validation_letter_split]\n",
    "\n",
    "\t\tX_validation_valid_len = torch.tensor([len(sequence) for sequence in X_validation_unpad])\n",
    "\t\tY_validation_valid_len = torch.tensor([len(sequence) for sequence in Y_validation_unpad])\n",
    "\n",
    "\t\tX_validation = torch.tensor([d2l.truncate_pad(sequence, num_steps, amino_dict['<pad>']) for sequence in X_validation_unpad])\n",
    "\t\tY_validation = torch.tensor([d2l.truncate_pad(sequence, num_steps, amino_dict['<pad>']) for sequence in Y_validation_unpad])\n",
    "\t\t\n",
    "\t\treturn X_train, X_valid_len, Y_train, Y_valid_len, X_validation, X_validation_valid_len, Y_validation, Y_validation_valid_len\n",
    "\n",
    "\treturn X_train, X_valid_len, Y_train, Y_valid_len"
   ]
  },
  {
   "cell_type": "code",
   "execution_count": 23,
   "metadata": {},
   "outputs": [],
   "source": [
    "# Here we enforce the first word <bos>\n",
    "\n",
    "def train_seq2seq(net, X_train, X_valid_len, Y_train, Y_valid_len, sample_weights, lr, num_epochs, batch_size, label_smoothing, amino_dict, device, warmup=1, model_name = 'model_demo', X_validation=None, X_validation_valid_len=None, Y_validation=None, Y_validation_valid_len=None):\n",
    "\t\"\"\"Train a model for sequence to sequence.\"\"\"\n",
    "\n",
    "\tdef init_weights(module):\n",
    "\t\tif isinstance(module, (nn.Linear)):\n",
    "\t\t\tnn.init.normal_(module.weight, mean=0.0, std=0.01) # I always use 0.01 instead of 0.02\n",
    "\t\tif isinstance(module, (nn.Embedding)):\n",
    "\t\t\tnn.init.normal_(module.weight, mean=0.0, std=1e-5) # tiny values, instead of 0.01\n",
    "\n",
    "\tnet.apply(init_weights)\n",
    "\tnet.to(device)\n",
    "\toptimizer = torch.optim.Adam(net.parameters(), lr=lr, betas=(0.9, 0.98), eps = 1.0e-9)\n",
    "\tscheduler = torch.optim.lr_scheduler.LinearLR(optimizer, total_iters=warmup, start_factor=1/warmup)\n",
    "\tloss = MaskedSoftmaxCELoss()\n",
    "\tnet.train()\n",
    "\n",
    "\tanimator = d2l.Animator(xlabel='epoch', ylabel='loss')\n",
    "\ttraining_loss = []\n",
    "\tvalidation_score = []\n",
    "\n",
    "\n",
    "\tfor epoch in range(num_epochs):\n",
    "\t\t\n",
    "\t\t# training step\n",
    "\t\tnet.train()\n",
    "\n",
    "\t\ttimer = d2l.Timer()\n",
    "\t\tmetric = d2l.Accumulator(2)  # Sum of training loss, no. of tokens\n",
    "\n",
    "\t\t# random shuffle\n",
    "\t\tindex = torch.randperm(X_train.shape[0])\n",
    "\t\tX_train_shuffled = X_train[index]\n",
    "\t\tX_valid_len_shuffled = X_valid_len[index]\n",
    "\t\tY_train_shuffled = Y_train[index]\n",
    "\t\tY_valid_len_shuffled = Y_valid_len[index]\n",
    "\t\tsample_weights_shuffled = sample_weights[index]\n",
    "\n",
    "\t\t# batch operation at each epoch\n",
    "\t\tX_train_batch = torch.split(X_train_shuffled, batch_size)\n",
    "\t\tX_valid_len_batch = torch.split(X_valid_len_shuffled, batch_size)\n",
    "\t\tY_train_batch = torch.split(Y_train_shuffled, batch_size)\n",
    "\t\tY_valid_len_batch = torch.split(Y_valid_len_shuffled, batch_size)\n",
    "\t\tsample_weights_batch = torch.split(sample_weights_shuffled, batch_size)\n",
    "\n",
    "\n",
    "\n",
    "\t\tfor batch in zip(X_train_batch, X_valid_len_batch, Y_train_batch, Y_valid_len_batch, sample_weights_batch):\n",
    "\t\t\t\n",
    "\t\t\toptimizer.zero_grad()\n",
    "\t\t\tX_train_minibatch, X_valid_len_minibatch, Y_train_minibatch, Y_valid_len_minibatch, sample_weights_minibatch = [x.to(device) for x in batch]\n",
    "\t\t\tbos = torch.tensor([amino_dict['<bos>']] * Y_train_minibatch.shape[0],\n",
    "\t\t\t\t\t\t\t\tdevice=device).reshape(-1, 1)\n",
    "\t\t\tdec_input = torch.cat([bos, Y_train_minibatch[:, :-1]], 1)  # Teacher forcing -------> the first word at all batch is <bos>\n",
    "\t\t\t\n",
    "\t\t\tY_hat, _ = net(X_train_minibatch, dec_input, X_valid_len_minibatch)\n",
    "\t\t\tl = loss(Y_hat, Y_train_minibatch, Y_valid_len_minibatch, sample_weights_minibatch, label_smoothing)\n",
    "\t\t\tl.backward()  # l is loss per token\n",
    "\t\t\td2l.grad_clipping(net, 1)\n",
    "\t\t\tnum_tokens = Y_valid_len_minibatch.sum()\n",
    "\t\t\toptimizer.step()\n",
    "\t\t\tscheduler.step()\n",
    "\t\t\twith torch.no_grad():\n",
    "\t\t\t\tmetric.add(l*num_tokens, num_tokens) # loss per batch, num_tokens per batch\n",
    "\n",
    "\t\t# print + save training loss at each epoch\n",
    "\t\tanimator.add(epoch + 1, (metric[0] / metric[1],))\n",
    "\t\ttraining_loss.append(metric[0] / metric[1])\n",
    "\t\tprint(\"epoch {}, loss: {}\".format(epoch+1, metric[0] / metric[1]))\n",
    "\n",
    "\t\t# evaluation step:\n",
    "\t\tif X_validation is not None:\n",
    "\t\t\tnet.eval()\n",
    "\n",
    "\t\t\twith torch.no_grad():\n",
    "\t\t\t\t# set device\n",
    "\t\t\t\tsoftmax_layer = nn.Softmax(dim=2)\n",
    "\t\t\t\tX_validation = X_validation.to(device)\n",
    "\t\t\t\tX_validation_valid_len = X_validation_valid_len.to(device)\n",
    "\t\t\t\tY_validation = Y_validation.to(device)\n",
    "\t\t\t\tY_validation_valid_len = Y_validation_valid_len.to(device)\n",
    "\n",
    "\t\t\t\t# teacher force Y_truth\n",
    "\t\t\t\tbos = torch.tensor([amino_dict['<bos>']] * Y_validation.shape[0],\n",
    "\t\t\t\t\t\t\t\t\tdevice=device).reshape(-1, 1)\n",
    "\t\t\t\tY_true = torch.cat([bos, Y_validation[:, :-1]], 1)  # Teacher forcing -------> the first word at all batch is <bos> + keep total length same\n",
    "\t\t\t\tY_true = Y_true.type(torch.int32)\n",
    "\n",
    "\t\t\t\t# construct Y_pred\n",
    "\t\t\t\tenc_outputs = net.encoder(X_validation, X_validation_valid_len) # encoder only use X infomation\n",
    "\t\t\t\tdec_state = net.decoder.init_state(enc_outputs, X_validation_valid_len)\n",
    "\n",
    "\t\t\t\tdec_X = torch.tensor([amino_dict['<bos>']] * X_validation.shape[0],\n",
    "\t\t\t\t\t\t\t\t\tdevice=device).reshape(-1, 1) # only use info from X\n",
    "\n",
    "\t\t\t\tfor i in range(Y_validation.shape[1]-1): # here we have <bos> in pos 0\n",
    "\n",
    "\t\t\t\t\t\tY_raw, dec_state = net.decoder(dec_X, dec_state)\n",
    "\n",
    "\t\t\t\t\t\t# apply softmax to the output\n",
    "\t\t\t\t\t\tY = softmax_layer(Y_raw)\n",
    "\n",
    "\t\t\t\t\t\t# We use the token with the highest prediction likelihood as the input\n",
    "\t\t\t\t\t\t# of the decoder at the next time step\n",
    "\t\t\t\t\t\tdec_X = Y.argmax(dim=2)\n",
    "\t\t\t\t\t\tY_pred = dec_X.type(torch.int32) # (batch, 1)\n",
    "\n",
    "\t\t\t\t\t\t# we fill in prediction and do not stop\n",
    "\n",
    "\t\t\t\t# concatenate last prediction with previous ones saved by the model\n",
    "\t\t\t\tY_pred = torch.cat((net.decoder.seqX, dec_X), dim=1).type(torch.int32)\n",
    "\t\t\t\t\n",
    "\t\t\t\t# evaluate + print + save validation metric at each epoch\n",
    "\t\t\t\thamming_scores = hamming_distance_training(Y_pred, Y_true)\n",
    "\t\t\t\tvalidation_score.append(hamming_scores.cpu().numpy())\n",
    "\t\t\t\tprint(\"epoch {}, hamming distance: {}\".format(epoch+1,hamming_scores))\n",
    "\n",
    "\n",
    "\t# print useful info after all\n",
    "\tprint(f'loss {metric[0] / metric[1]:.3f}, {metric[1] / timer.stop():.1f} tokens/sec on {str(device)}')\n",
    "\n",
    "\n",
    "\t# save training loss plot\n",
    "\tplt.figure(figsize=(12, 8), facecolor=(1, 1, 1))\n",
    "\tx = list(range(1, num_epochs+1))\n",
    "\tfile_time = time.strftime('%y%b%d_%I%M%p', time.gmtime())\n",
    "\tplt.plot(x,training_loss,label=\"weighted_average_loss\")\n",
    "\tplt.xlabel('Epochs')\n",
    "\tplt.ylabel('Weighted average loss')\n",
    "\tplt.title(\"transformer <{}> training loss\".format(model_name))\n",
    "\tplt.grid()\n",
    "\tplt.legend()\n",
    "\tplt.savefig('{}_lossplot_{}.png'.format(model_name, file_time))\n",
    "\n",
    "\t# save validation metic plot\n",
    "\tplt.figure(figsize=(12, 8), facecolor=(1, 1, 1))\n",
    "\tx = list(range(1, num_epochs+1))\n",
    "\tplt.plot(x,validation_score,label=\"hamming_distance\")\n",
    "\tplt.xlabel('Epochs')\n",
    "\tplt.ylabel('Hamming distance sum')\n",
    "\tplt.title(\"transformer <{}> validation scores\".format(model_name))\n",
    "\tplt.grid()\n",
    "\tplt.legend()\n",
    "\tplt.savefig('{}_validationplot_{}.png'.format(model_name, file_time))\n",
    "\t\n",
    "\n",
    "\t# save model weights\n",
    "\t#file_time = time.strftime('%y%b%d_%I%M%p', time.gmtime())\n",
    "\tfile_name = model_name + '_' + file_time\n",
    "\n",
    "\ttorch.save(net.state_dict(), file_name)\n",
    "\t#pickle.dump(net, open(file_name, \"wb\"))"
   ]
  },
  {
   "cell_type": "code",
   "execution_count": 24,
   "metadata": {},
   "outputs": [],
   "source": [
    "# some notes about validation implementation\n",
    "\n",
    "# example: X_validation and Y_validation input has to be design to hold equal length sequence + <bos> + <eos>: \n",
    "# in this case: 8+1+1\n",
    "\n",
    "# total possible missmatch is num_steps*batch: 10*5000"
   ]
  },
  {
   "cell_type": "markdown",
   "metadata": {},
   "source": [
    "#### Transformer prediction"
   ]
  },
  {
   "cell_type": "code",
   "execution_count": 25,
   "metadata": {},
   "outputs": [],
   "source": [
    "# function to return key for any value\n",
    "\n",
    "def get_key(val, my_dict):\n",
    "    for key, value in my_dict.items():\n",
    "         if val == value:\n",
    "             return key\n",
    " \n",
    "    return \"key doesn't exist\""
   ]
  },
  {
   "cell_type": "code",
   "execution_count": 26,
   "metadata": {},
   "outputs": [],
   "source": [
    "# greedy single prediction with attention weights saved\n",
    "def predict_greedy_single(net, target_sequence_raw, amino_dict, num_steps, device, save_attention_weights=False, print_info=False):\n",
    "\t\"\"\"Predict for sequence to sequence.\"\"\"\n",
    "\n",
    "\tsoftmax_layer = nn.Softmax(dim=2)\n",
    "\ttarget_sequence = list(target_sequence_raw) # 'AEAG' -----------> ['A', 'E', 'A', 'G']\n",
    "\t\n",
    "\t# Set `net` to eval mode for inference\n",
    "\tnet.eval()\n",
    "\ttarget_sequence_unpad = [amino_dict[letter] for letter in target_sequence] + [amino_dict['<eos>']]\n",
    "\ttarget_valid_len = torch.tensor([len(target_sequence_unpad)], dtype=torch.long, device=device)\n",
    "\ttarget_sequence = d2l.truncate_pad(target_sequence_unpad, num_steps, amino_dict['<pad>'])\n",
    "\n",
    "\t# add batch to axis\n",
    "\ttarget_sequence_batch = torch.unsqueeze(torch.tensor(target_sequence, dtype=torch.long, device=device), dim=0)\n",
    "\n",
    "\tenc_outputs = net.encoder(target_sequence_batch, target_valid_len)\n",
    "\tdec_state = net.decoder.init_state(enc_outputs, target_valid_len)\n",
    "\n",
    "\t# add batch to axis\n",
    "\tdec_X = torch.unsqueeze(torch.tensor([amino_dict['<bos>']], dtype=torch.long, device=device), dim=0)\n",
    "\toutput_seq, attention_weight_seq = [], []\n",
    "\n",
    "\t# track probability\n",
    "\tprob = 1\n",
    "\n",
    "\tfor i in range(num_steps):\n",
    "\n",
    "\t\tY_raw, dec_state = net.decoder(dec_X, dec_state)\n",
    "\n",
    "\t\t# apply softmax to the output\n",
    "\t\tY = softmax_layer(Y_raw)\n",
    "\n",
    "\t\t# We use the token with the highest prediction likelihood as the input\n",
    "\t\t# of the decoder at the next time step\n",
    "\t\tdec_X = Y.argmax(dim=2)\n",
    "\t\tpred = dec_X.squeeze(dim=0).type(torch.int32).item()\n",
    "\n",
    "\t\t# track proba\n",
    "\t\tprob_i = torch.max(Y, dim=2).values.squeeze(dim=0).type(torch.float32).item()\n",
    "\t\tprob *= prob_i\n",
    "\n",
    "\t\tif print_info == True:\n",
    "\t\t\tprint(\"Conditional probability at position {} is {}\".format(i+1, prob_i))\n",
    "\n",
    "\t\t# Save attention weights (to be covered later)\n",
    "\t\tif save_attention_weights:\n",
    "\t\t\tattention_weight_seq.append(net.decoder.attention_weights())\n",
    "\t\t# Once the end-of-sequence token is predicted, the generation of the\n",
    "\t\t# output sequence is complete\n",
    "\t\tif pred == amino_dict['<eos>']:\n",
    "\t\t\tbreak\n",
    "\t\toutput_seq.append(pred) # do not append last token\n",
    "\n",
    "\tcomple_peptide_pred = \"\".join([get_key(number, amino_dict) for number in output_seq])\n",
    "\n",
    "\t# print info \n",
    "\tif print_info == True:\n",
    "\t\tprint('Input target sequence is {}, predicted complementary peptide is {}'.format(target_sequence_raw, comple_peptide_pred))\n",
    "\t\tprint(\"Condition on input, predicted probability is {}\".format(prob))\n",
    "\n",
    "\treturn comple_peptide_pred, prob, attention_weight_seq"
   ]
  },
  {
   "cell_type": "code",
   "execution_count": 27,
   "metadata": {},
   "outputs": [],
   "source": [
    "# greedy batch prediction (equal length target)\n",
    "# num_step chosen to be appropriate avoid unnecessary computational cost and correct final prediction -- prediction length + 1 + 1\n",
    "# prob includes <eos> position\n",
    "def predict_greedy_batch(net, target_sequence_list, amino_dict, num_steps, device):\n",
    "\t\"\"\"Predict for lists of target sequence to lists of complementary peptides sequence.\"\"\"\n",
    "\n",
    "\t# Set `net` to eval mode for inference\n",
    "\tnet.eval()\n",
    "\tsoftmax_layer = nn.Softmax(dim=2)\n",
    "\n",
    "\t# Preprocess batched target sequence list   \n",
    "\ttarget_sequence_list_split = [list(sequence) for sequence in target_sequence_list]\n",
    "\ttarget_sequence_unpad= [[amino_dict[letter] for letter in sequence] + [amino_dict['<eos>']] for sequence in target_sequence_list_split]\n",
    "\ttarget_valid_len = torch.tensor([len(sequence) for sequence in target_sequence_unpad], dtype=torch.long, device=device)\n",
    "\ttarget_sequence_batch = torch.tensor([d2l.truncate_pad(sequence, num_steps, amino_dict['<pad>']) for sequence in target_sequence_unpad], dtype=torch.long, device=device)\n",
    "\n",
    "\t# Encode target data\n",
    "\tenc_outputs = net.encoder(target_sequence_batch, target_valid_len)\n",
    "\tdec_state = net.decoder.init_state(enc_outputs, target_valid_len)\n",
    "\n",
    "\t# teacher enforce first \n",
    "\tdec_X = torch.tensor([amino_dict['<bos>']] * target_sequence_batch.shape[0], device=device).reshape(-1, 1) # only use info from X\n",
    "\t\n",
    "\t# track probability\n",
    "\tprob = torch.tensor([1] * target_sequence_batch.shape[0], device=device).reshape(-1, 1)\n",
    "\n",
    "\tfor i in range(num_steps-1): # here we have <bos> in pos 0\n",
    "\n",
    "\t\t\tY_raw, dec_state = net.decoder(dec_X, dec_state)\n",
    "\n",
    "\t\t\t# apply softmax to the output\n",
    "\t\t\tY = softmax_layer(Y_raw)\n",
    "\n",
    "\t\t\t# We use the token with the highest prediction likelihood as the input\n",
    "\t\t\t# of the decoder at the next time step\n",
    "\t\t\tdec_X = Y.argmax(dim=2)\n",
    "\t\t\tY_pred = dec_X.type(torch.int32) # (batch, 1)\n",
    "\n",
    "\t\t\t# track prob\n",
    "\t\t\tprob_i = torch.max(Y, dim=2).values.squeeze(dim=0)\n",
    "\t\t\tprob = torch.mul(prob, prob_i)\n",
    "\n",
    "\t\t\t# we fill in prediction and do not stop\n",
    "\n",
    "\t# concatenate last prediction with previous ones saved by the model\n",
    "\tY_pred = torch.cat((net.decoder.seqX, dec_X), dim=1).type(torch.int32)\n",
    "\n",
    "\t# join all prediction string back \n",
    "\tcomple_peptide_pred = [\"\".join([get_key(number, amino_dict) for number in output_seq]) for output_seq in Y_pred[:, 1:-1]]\n",
    "\n",
    "\t# put info together \n",
    "\tfinal = zip(target_sequence_list, comple_peptide_pred, prob.reshape(-1).tolist())\n",
    "\treturn np.array(list(final)) # to print zip object"
   ]
  },
  {
   "cell_type": "code",
   "execution_count": 69,
   "metadata": {},
   "outputs": [],
   "source": [
    "def predict_greedy_minibatch(net, target_sequence_list, amino_dict, num_steps, device, num_minibatch):\n",
    "\n",
    "\tpeptide_pred_list = []\n",
    "\n",
    "\tif len(target_sequence_list)%num_minibatch == 0:\n",
    "\t\tnum_iter = int(len(target_sequence_list)//num_minibatch)\n",
    "\telse:\n",
    "\t\tnum_iter = int(len(target_sequence_list)//num_minibatch + 1)\n",
    "\n",
    "\tfor i in range(num_iter):\n",
    "\n",
    "\t\t# deal with minibatch ending\n",
    "\t\tif num_minibatch*i+num_minibatch > len(target_sequence_list):\n",
    "\t\t\tpeptide_pred = predict_greedy_batch(net, target_sequence_list[num_minibatch*i:], amino_dict, num_steps, device)\n",
    "\t\t\tpeptide_pred_list.append(peptide_pred)\n",
    "\t\t\tbreak\n",
    "\n",
    "\t\tpeptide_pred = predict_greedy_batch(net, target_sequence_list[num_minibatch*i:num_minibatch*i+num_minibatch], amino_dict, num_steps, device)\n",
    "\t\tpeptide_pred_list.append(peptide_pred)\n",
    "\n",
    "\t\t# track iteration\n",
    "\t\tif i%1 == 0:\n",
    "\t\t\tprint(\"Iteration: {}\".format(i))\n",
    "\n",
    "\tpeptide_pred_array = np.vstack(peptide_pred_list)\n",
    "\treturn peptide_pred_array"
   ]
  },
  {
   "cell_type": "code",
   "execution_count": 29,
   "metadata": {},
   "outputs": [],
   "source": [
    "# Given one target sequence, sample a list of unique probable candidates\n",
    "# 2 common reasons: select a few less good candidates or select one better than greedy\n",
    "# 2 common uses: sample a large number if enough memory (not recommended) or select a small number but repeat frequently\n",
    "# note: repeatation is possible since last token not shown or rounding error\n",
    "\n",
    "def unique(x, dim=None):\n",
    "    \"\"\"Unique elements of x and indices of those unique elements\"\"\"\n",
    "    unique, inverse = torch.unique(\n",
    "        x, sorted=True, return_inverse=True, dim=dim)\n",
    "    perm = torch.arange(inverse.size(0), dtype=inverse.dtype,\n",
    "                        device=inverse.device)\n",
    "    inverse, perm = inverse.flip([0]), perm.flip([0])\n",
    "    return unique, inverse.new_empty(unique.size(0)).scatter_(0, inverse, perm)\n",
    "\n",
    "\n",
    "def sample_candidates(net, target_sequence_raw, num_candidates, amino_dict, num_steps, device, max_iter=100):\n",
    "\t\"\"\"Given one target sequence, sample a list of unique probable candidates.\"\"\"\n",
    "\n",
    "\t# extract special tokens to remove\n",
    "\tbos = amino_dict['<bos>']\n",
    "\teos = amino_dict['<eos>']\n",
    "\tpad = amino_dict['<pad>']\n",
    "\tunk = amino_dict['<unk>']\n",
    "\t\n",
    "\t# Set `net` to eval mode for inference\n",
    "\tnet.eval()\n",
    "\tsoftmax_layer = nn.Softmax(dim=2)\n",
    "\ttarget_sequence = list(target_sequence_raw)\n",
    "\n",
    "\t# num_remaining to produce\n",
    "\tnum_remaining = num_candidates\n",
    "\n",
    "\t# track pred and prob \n",
    "\tY_pred_track = torch.tensor([1] *(num_steps-2), device=device, dtype=torch.int32).reshape(1, -1) # track all other than <eos> and <bos>\n",
    "\tprob_track = torch.tensor([1], device=device, dtype=torch.long).reshape(1, 1) # only use info from X\n",
    "\n",
    "\t# move out for stability\n",
    "\ttarget_sequence_unpad = [amino_dict[letter] for letter in target_sequence] + [amino_dict['<eos>']]\n",
    "\n",
    "\t# track total number \n",
    "\tsamples_total = 0\n",
    "\n",
    "\tfor j in range(max_iter):\n",
    "\n",
    "\t\t# Preprocess batched target sequence\n",
    "\t\ttarget_valid_len = torch.tensor([len(target_sequence_unpad)], dtype=torch.long, device=device).repeat_interleave(num_remaining*2)\n",
    "\t\ttarget_sequence = torch.tensor(d2l.truncate_pad(target_sequence_unpad, num_steps, amino_dict['<pad>']), dtype=torch.long, device=device)\n",
    "\t\ttarget_sequence_batch = target_sequence.repeat(num_remaining*2, 1)\n",
    "\n",
    "\t\t# Encode target data\n",
    "\t\tenc_outputs = net.encoder(target_sequence_batch, target_valid_len)\n",
    "\t\tdec_state = net.decoder.init_state(enc_outputs, target_valid_len)\n",
    "\n",
    "\t\t# teacher enforce first \n",
    "\t\tdec_X = torch.tensor([amino_dict['<bos>']] * target_sequence_batch.shape[0], device=device).reshape(-1, 1) # only use info from X\n",
    "\t\t\n",
    "\t\t# track probability\n",
    "\t\tprob = torch.tensor([1] * target_sequence_batch.shape[0], dtype = torch.long, device=device).reshape(-1, 1)\n",
    "\n",
    "\n",
    "\t\tfor i in range(num_steps-2): # here we have <bos> in pos 0 and <eos> in pos -1\n",
    "\n",
    "\t\t\t\tY_raw, dec_state = net.decoder(dec_X, dec_state)\n",
    "\n",
    "\t\t\t\t# apply softmax to the output\n",
    "\t\t\t\tY = softmax_layer(Y_raw)\n",
    "\n",
    "\t\t\t\t# We sample a token from the probability distribution as the input\n",
    "\t\t\t\t# of the decoder at the next time step\n",
    "\t\t\t\t\n",
    "\t\t\t\tm = Categorical(probs=Y)\n",
    "\t\t\t\tdec_X = m.sample()\n",
    "\t\t\t\tY_pred = dec_X.type(torch.int32) # (batch, 1)\n",
    "\t\t\t\t\n",
    "\t\t\t\tindex = Y_pred.type(torch.int64)\n",
    "\t\t\t\t# track prob\n",
    "\t\t\t\tprob_i = torch.gather(Y, dim=2, index = index.unsqueeze(dim=2))\n",
    "\t\t\t\tprob_i = prob_i.squeeze(dim=2).squeeze(dim=0)\n",
    "\t\t\t\tprob = torch.mul(prob, prob_i)\n",
    "\n",
    "\t\t\t\t# we fill in prediction and do not stop for seq \n",
    "\t\t\t\t\n",
    "\t\t# concatenate last prediction with previous ones saved by the model\n",
    "\t\tY_pred = torch.cat((net.decoder.seqX, dec_X), dim=1).type(torch.int32)\n",
    "\t\tsamples_total += Y_pred.shape[0]\n",
    "\n",
    "\t\t# multiply prob for <eos> to be consistent -- go through one more time and take max\n",
    "\t\tY_raw, dec_state = net.decoder(dec_X, dec_state)\n",
    "\t\tY = softmax_layer(Y_raw)\n",
    "\t\tprob_i = torch.max(Y, dim=2).values.squeeze(dim=0)\n",
    "\t\tprob = torch.mul(prob, prob_i)\n",
    "\n",
    "\t\t# keep track\n",
    "\t\tY_pred = Y_pred[:, 1:] # remove <bos>\n",
    "\t\tY_pred_track = torch.cat((Y_pred_track, Y_pred), dim=0)\n",
    "\t\tprob_track = torch.cat((prob_track, prob), dim=0)\n",
    "\n",
    "\t\t# remove the track first rows\n",
    "\t\tif j==0:\n",
    "\t\t\tY_pred_track = Y_pred_track[1:, :]\n",
    "\t\t\tprob_track = prob_track[1:, :]\n",
    "\n",
    "\t\t# uniqueness check for the main track\n",
    "\t\tY_pred_track, unique_indices = unique(Y_pred_track, dim=0)\n",
    "\t\tprob_track = prob_track[unique_indices] # sequential undate prob track \n",
    "\t\t\n",
    "\t\t# remove the sequences containing special tokens\n",
    "\t\t\n",
    "\t\tprob_track = prob_track[~(Y_pred_track == bos).any(1), :]\n",
    "\t\tY_pred_track = Y_pred_track[~(Y_pred_track == bos).any(1), :]\n",
    "\n",
    "\t\tprob_track = prob_track[~(Y_pred_track == eos).any(1), :]\n",
    "\t\tY_pred_track = Y_pred_track[~(Y_pred_track == eos).any(1), :]\n",
    "\n",
    "\t\tprob_track = prob_track[~(Y_pred_track == pad).any(1), :]\n",
    "\t\tY_pred_track = Y_pred_track[~(Y_pred_track == pad).any(1), :]\n",
    "\n",
    "\t\tprob_track = prob_track[~(Y_pred_track == unk).any(1), :]\n",
    "\t\tY_pred_track = Y_pred_track[~(Y_pred_track == unk).any(1), :]\t\t\n",
    "\n",
    "\t\t# check whether we have enough candidates, if yes stop and produce the required amount\n",
    "\t\tif Y_pred_track.shape[0] >= num_candidates:\n",
    "\t\n",
    "\t\t\t\t# join all prediction string back \n",
    "\t\t\t\tcomple_peptide_pred = [\"\".join([get_key(number, amino_dict) for number in output_seq]) for output_seq in Y_pred_track] \n",
    "\n",
    "\t\t\t\tprob_track = prob_track.reshape(-1).tolist()\n",
    "\n",
    "\t\t\t\tdtype = [('peptide', '<U21'), ('prob', float)]\n",
    "\t\t\t\tvalues = list(zip(comple_peptide_pred, prob_track))\n",
    "\n",
    "\t\t\t\ta = np.array(values, dtype=dtype)\n",
    "\n",
    "\t\t\t\tfinal = list(np.sort(a, order='prob')[-1::-1])\n",
    "\n",
    "\t\t\t\tprint(\"number of total candidates sampled: {}\".format(samples_total))\n",
    "\t\t\t\tprint(\"number of unique top candidates successfully sampled: {}\".format(num_candidates))\n",
    "\t\t\t\treturn final[0:num_candidates]\n",
    "\n",
    "\n",
    "\t\t# if not update remaining\n",
    "\t\tnum_remaining = num_candidates - Y_pred_track.shape[0]\n",
    "\n",
    "\t# if exceeds maximum iteration, stop and return all produced \n",
    "\n",
    "\t# join all prediction string back \n",
    "\tcomple_peptide_pred = [\"\".join([get_key(number, amino_dict) for number in output_seq]) for output_seq in Y_pred_track[:, 1:-1]]\n",
    "\n",
    "\tprob_track = prob_track.reshape(-1).tolist()\n",
    "\n",
    "\tdtype = [('peptide', '<U21'), ('prob', float)]\n",
    "\tvalues = list(zip(comple_peptide_pred, prob_track))\n",
    "\n",
    "\ta = np.array(values, dtype=dtype)\n",
    "\tfinal = list(np.sort(a, order='prob')[-1::-1])\n",
    "\n",
    "\tprint(\"number of total candidates sampled: {}\".format(samples_total))\n",
    "\tprint(\"number of unique candidates successfully sampled: {}\".format(len(final)))\n",
    "\treturn final\n"
   ]
  },
  {
   "cell_type": "code",
   "execution_count": 30,
   "metadata": {},
   "outputs": [],
   "source": [
    "# evaluate a complementary peptide against a target\n",
    "def evaluate_single(net, target_sequence_raw, peptide_sequence_raw,amino_dict, num_steps, device, print_info=False):\n",
    "\t\"\"\"Predict for sequence to sequence.\"\"\"\n",
    "\n",
    "\t# Set `net` to eval mode for inference\n",
    "\tnet.eval()\n",
    "\tsoftmax_layer = nn.Softmax(dim=2)\n",
    "\n",
    "\ttarget_sequence = list(target_sequence_raw)\n",
    "\tpeptide_sequence = list(peptide_sequence_raw)\n",
    "\t\n",
    "\t# preprocess target sequence\n",
    "\ttarget_sequence_unpad = [amino_dict[letter] for letter in target_sequence] + [amino_dict['<eos>']]\n",
    "\ttarget_valid_len = torch.tensor([len(target_sequence_unpad)], dtype=torch.long, device=device)\n",
    "\ttarget_sequence = d2l.truncate_pad(target_sequence_unpad, num_steps, amino_dict['<pad>'])\n",
    "\ttarget_sequence_batch = torch.unsqueeze(torch.tensor(target_sequence, dtype=torch.long, device=device), dim=0)\n",
    "\n",
    "\t# preprocess peptide sequence\n",
    "\tpeptide_sequence_unpad = [amino_dict[letter] for letter in peptide_sequence] + [amino_dict['<eos>']]\n",
    "\tpeptide_valid_len = torch.tensor([len(peptide_sequence_unpad)], dtype=torch.long, device=device)\n",
    "\tpeptide_sequence = d2l.truncate_pad(peptide_sequence_unpad, num_steps, amino_dict['<pad>'])\n",
    "\tpeptide_sequence_batch = torch.unsqueeze(torch.tensor(peptide_sequence, dtype=torch.long, device=device), dim=0)\n",
    "\n",
    "\n",
    "\tenc_outputs = net.encoder(target_sequence_batch, target_valid_len)\n",
    "\tdec_state = net.decoder.init_state(enc_outputs, target_valid_len)\n",
    "\tdec_X = torch.unsqueeze(torch.tensor([amino_dict['<bos>']], dtype=torch.long, device=device), dim=0)\n",
    "\toutput_seq = []\n",
    "\n",
    "\t# track probability\n",
    "\tprob = 1\n",
    "\n",
    "\tfor i in range(num_steps):\n",
    "\t\n",
    "\t\tY_raw, dec_state = net.decoder(dec_X, dec_state)\n",
    "\n",
    "\t\t# apply softmax to the output\n",
    "\t\tY = softmax_layer(Y_raw)\n",
    "\n",
    "\t\t# We use the token with the highest prediction likelihood as the input\n",
    "\t\t# of the decoder at the next time step\n",
    "\t\tdec_X = peptide_sequence_batch[:, i].reshape(1,-1) # (1, 1)\n",
    "\n",
    "\t\t# track proba\n",
    "\t\tindex_i =  peptide_sequence_batch[:, i].squeeze(dim=0).item()\n",
    "\t\tprob_i = Y[:, :, index_i].squeeze(dim=0).squeeze(dim=0).type(torch.float32).item()\n",
    "\t\tprob *= prob_i\n",
    "\n",
    "\t\tif print_info == True:\n",
    "\t\t\tprint(\"Conditional probability at position {} is {}\".format(i+1, prob_i))\n",
    "\n",
    "\t\tif peptide_sequence_unpad[i] == amino_dict['<eos>']:\n",
    "\t\t\tbreak\n",
    "\n",
    "\t# print info \n",
    "\tif print_info == True:\n",
    "\t\tprint('Input target sequence is {}, complementary peptide is {}, evaluated probability is {}'.format(target_sequence_raw, peptide_sequence_raw, prob))\n",
    "\n",
    "\treturn prob"
   ]
  },
  {
   "cell_type": "markdown",
   "metadata": {},
   "source": [
    "#### Dateset target search"
   ]
  },
  {
   "cell_type": "code",
   "execution_count": 31,
   "metadata": {},
   "outputs": [],
   "source": [
    "def search_target(seq_list, seq):\n",
    "\t\"\"\"Search whether one target are in the dataset or not.\"\"\"\n",
    "\n",
    "\treturn seq_list[seq_list[:, 0]==seq]"
   ]
  },
  {
   "cell_type": "markdown",
   "metadata": {},
   "source": [
    "# Data Preprocessing"
   ]
  },
  {
   "cell_type": "markdown",
   "metadata": {},
   "source": [
    "#### Initialize amino dictionary"
   ]
  },
  {
   "cell_type": "code",
   "execution_count": 32,
   "metadata": {},
   "outputs": [],
   "source": [
    "amino_dict = {\n",
    "\t\t'<bos>': 0, \n",
    "\t\t'<eos>': 1, \n",
    "\t\t'<pad>': 2, \n",
    "\t\t'<unk>': 3,\n",
    "\t\t'A': 4,\n",
    "\t\t'C': 5,\n",
    "\t\t'D': 6, \n",
    "\t\t'E': 7,\n",
    "\t\t'F': 8, \n",
    "\t\t'G': 9, \n",
    "\t\t'H': 10,\n",
    "\t\t'I': 11, \n",
    "\t\t'K': 12, \n",
    "\t\t'L': 13, \n",
    "\t\t'M': 14, \n",
    "\t\t'N': 15, \n",
    "\t\t'P': 16, \n",
    "\t\t'Q': 17, \n",
    "\t\t'R': 18, \n",
    "\t\t'S': 19, \n",
    "\t\t'T': 20, \n",
    "\t\t'V': 21, \n",
    "\t\t'W': 22, \n",
    "\t\t'Y': 23 \n",
    "\t\t }"
   ]
  },
  {
   "cell_type": "markdown",
   "metadata": {},
   "source": [
    "#### Inspection of dataset"
   ]
  },
  {
   "cell_type": "code",
   "execution_count": 33,
   "metadata": {},
   "outputs": [
    {
     "name": "stderr",
     "output_type": "stream",
     "text": [
      "WARNING mybio.py module not found - excecution may fail\n",
      "WARNING zyggregator not found!!!\n"
     ]
    }
   ],
   "source": [
    "data_list_antiparallel= []\n",
    "data_list_parallel= []\n",
    "\n",
    "for i in range(1, 9):\n",
    "\twith open('BSn_libraries/BSn_libraries_copy/anti_frag_dic_{}.pkl'.format(i), 'rb') as f:\n",
    "\t\tdata = pickle.load(f, encoding='latin1')\n",
    "\t\tdata_list_antiparallel.append(data)\n",
    "\n",
    "\twith open('BSn_libraries/BSn_libraries_copy/para_frag_dic_{}.pkl'.format(i), 'rb') as f:\n",
    "\t\tdata = pickle.load(f, encoding='latin1')\n",
    "\t\tdata_list_parallel.append(data)"
   ]
  },
  {
   "cell_type": "markdown",
   "metadata": {},
   "source": [
    "Working score: $C = \\sum_{i=1}^{n} (l_i^2c_i - 0.01l_ip_i)$"
   ]
  },
  {
   "cell_type": "code",
   "execution_count": 34,
   "metadata": {},
   "outputs": [],
   "source": [
    "# 0 for parallel\n",
    "# 1 for antiparallel\n",
    "\n",
    "# target, complementary_seq, counts, promiscuity, length, working_score, hb_pattern, para/anti, freq\n",
    "BSn_data = []\n",
    "least_length = 3\n",
    "\n",
    "for frag_i_data in data_list_parallel[least_length-1:]:\n",
    "\tfor keys in frag_i_data.keys():\n",
    "\n",
    "\t\tlength = len(keys)\n",
    "\t\tfreq = len(frag_i_data[keys])\n",
    "\t\tfor element in frag_i_data[keys]:\n",
    "\n",
    "\t\t\tworking_score = length**2 * element.count_score - 0.01 * length * element.promiscuity_score\n",
    "\t\t\tlist_i = [keys, element.complementary_sequence, element.count_score, element.promiscuity_score, length, working_score, element.hb_pattern, 0, freq]\n",
    "\t\t\tBSn_data.append(list_i)\n",
    "\n",
    "for frag_i_data in data_list_antiparallel[least_length-1:]:\n",
    "\tfor keys in frag_i_data.keys():\n",
    "\n",
    "\t\tlength = len(keys)\n",
    "\t\tfreq = len(frag_i_data[keys])\n",
    "\t\tfor element in frag_i_data[keys]:\n",
    "\n",
    "\t\t\tworking_score = length**2 * element.count_score - 0.01 * length * element.promiscuity_score\n",
    "\t\t\tlist_i = [keys, element.complementary_sequence, element.count_score, element.promiscuity_score, length, working_score, element.hb_pattern, 1, freq]\n",
    "\t\t\tBSn_data.append(list_i)"
   ]
  },
  {
   "cell_type": "code",
   "execution_count": 35,
   "metadata": {},
   "outputs": [
    {
     "name": "stdout",
     "output_type": "stream",
     "text": [
      "2206533\n",
      "['MLGVTFE', 'ALSFETK', 1, 0, 7, 49.0, ((None, None), (0, 0), (None, None), (0, 0), (None, None), (0, 0), (None, None)), 1, 2]\n",
      "['MLGVTFE', 'VYTKTLR', 1, 0, 7, 49.0, ((0, 0), (None, None), (0, 0), (None, None), (0, 0), (None, None), (0, 0)), 1, 2]\n"
     ]
    }
   ],
   "source": [
    "print(len(BSn_data))\n",
    "print(BSn_data[2100004])\n",
    "print(BSn_data[2100005])\n",
    "# target, complementary_seq, counts, promiscuity, length, working_score, hb_pattern, para/anti, freq"
   ]
  },
  {
   "cell_type": "markdown",
   "metadata": {},
   "source": [
    "#### Tailor the dataset for training"
   ]
  },
  {
   "cell_type": "code",
   "execution_count": 36,
   "metadata": {},
   "outputs": [
    {
     "name": "stdout",
     "output_type": "stream",
     "text": [
      "(2105108, 9)\n",
      "(2105108, 9)\n"
     ]
    }
   ],
   "source": [
    "# assign working scores and remove bad samples\n",
    "\n",
    "BSn_data_dataset_sequence = np.array(BSn_data, dtype=object)\n",
    "\n",
    "# here we manually eliminate those with sample negative weights\n",
    "BSn_data_dataset1 = np.array(BSn_data_dataset_sequence[BSn_data_dataset_sequence[:, 5] >= 0])\n",
    "BSn_data_dataset2 = np.array(BSn_data_dataset_sequence[BSn_data_dataset_sequence[:, 5] >= 0])\n",
    "\n",
    "print(BSn_data_dataset1.shape)\n",
    "print(BSn_data_dataset2.shape)"
   ]
  },
  {
   "cell_type": "markdown",
   "metadata": {},
   "source": [
    "Only run one of following!"
   ]
  },
  {
   "cell_type": "code",
   "execution_count": 37,
   "metadata": {},
   "outputs": [
    {
     "name": "stdout",
     "output_type": "stream",
     "text": [
      "torch.Size([2105108, 10])\n",
      "torch.Size([2105108, 10])\n",
      "torch.Size([2105108])\n",
      "torch.Size([2105108])\n",
      "torch.Size([2105108])\n"
     ]
    }
   ],
   "source": [
    "# use the whole dataset in training\n",
    "\n",
    "num_steps_training = 10 # maximum length of training sequences\n",
    "\n",
    "X_train, X_valid_len, Y_train, Y_valid_len = preprocess_train(BSn_data_dataset1[:, 0], BSn_data_dataset1[:, 1], amino_dict, num_steps_training)\n",
    "\n",
    "working_score_tensor = torch.tensor(list(BSn_data_dataset1[:, 5]))\n",
    "\n",
    "print(X_train.shape)\n",
    "print(Y_train.shape)\n",
    "print(X_valid_len.shape)\n",
    "print(Y_valid_len.shape)\n",
    "print(working_score_tensor.shape)"
   ]
  },
  {
   "cell_type": "code",
   "execution_count": 38,
   "metadata": {},
   "outputs": [
    {
     "name": "stdout",
     "output_type": "stream",
     "text": [
      "number of length 8 samples:  (51714, 10)\n",
      "number of unique length 8 sample:  (39952, 10)\n",
      "[2087203 2061823 2089262 ... 2085913 2079467 2060323]\n",
      "------------data below---------\n",
      "(2100108,)\n",
      "(2100108,)\n",
      "(5000,)\n",
      "(5000,)\n"
     ]
    }
   ],
   "source": [
    "# or the follow two cells: 5000 unique length 8 seq\n",
    "\n",
    "target_indices = np.arange(BSn_data_dataset2.shape[0]).reshape(-1, 1)\n",
    "BSn_data_dataset2_indices = np.hstack([BSn_data_dataset2, target_indices])\n",
    "\n",
    "condition1 = np.nonzero(np.array([length==8 for length in BSn_data_dataset2_indices[:, 4]]))\n",
    "BSn_data_dataset2_indices_length8 = BSn_data_dataset2_indices[condition1]\n",
    "\n",
    "condition2 = np.nonzero(np.array([freq==1 for freq in BSn_data_dataset2_indices_length8[:, -2]]))\n",
    "BSn_data_dataset2_indices_length8_unique = BSn_data_dataset2_indices_length8[condition2]\n",
    "\n",
    "# set seed\n",
    "np.random.seed(0)\n",
    "validation_indices = np.random.choice(BSn_data_dataset2_indices_length8_unique[:, -1], size=5000, replace=False).astype(np.int32)\n",
    "\n",
    "X_train_letter = np.delete(BSn_data_dataset2[:, 0], validation_indices, axis=0)\n",
    "Y_train_letter = np.delete(BSn_data_dataset2[:, 1], validation_indices, axis=0)\n",
    "X_validation_letter = BSn_data_dataset2[validation_indices, 0]\n",
    "Y_validation_letter = BSn_data_dataset2[validation_indices, 1]\n",
    "\n",
    "print(\"number of length 8 samples: \", BSn_data_dataset2_indices_length8.shape)\n",
    "print(\"number of unique length 8 sample: \", BSn_data_dataset2_indices_length8_unique.shape)\n",
    "print(validation_indices)\n",
    "print(\"------------data below---------\")\n",
    "print(X_train_letter.shape)\n",
    "print(Y_train_letter.shape)\n",
    "print(X_validation_letter.shape)\n",
    "print(Y_validation_letter.shape)"
   ]
  },
  {
   "cell_type": "code",
   "execution_count": 39,
   "metadata": {},
   "outputs": [
    {
     "name": "stdout",
     "output_type": "stream",
     "text": [
      "---------training info----------\n",
      "torch.Size([2100108, 10])\n",
      "torch.Size([2100108, 10])\n",
      "torch.Size([2100108])\n",
      "torch.Size([2100108])\n",
      "tensor([ 8.9400,  8.5500,  8.6400,  5.8500,  3.3600,  8.1900,  7.8000, 14.9100,\n",
      "         8.4600,  8.4300,  8.3400,  7.9500,  7.5900,  5.0700, 20.0400,  7.1100,\n",
      "         6.5700,  5.2500,  5.0100,  8.9400])\n",
      "---------validation info------------\n",
      "torch.Size([5000, 10])\n",
      "torch.Size([5000, 10])\n",
      "torch.Size([5000])\n",
      "torch.Size([5000])\n"
     ]
    }
   ],
   "source": [
    "# split the data in training and validation\n",
    "\n",
    "num_steps_training = 10 # maximum length of training sequences\n",
    "\n",
    "X_train, X_valid_len, Y_train, Y_valid_len, X_validation, X_validation_valid_len, Y_validation, Y_validation_valid_len = preprocess_train(X_train_letter, Y_train_letter, amino_dict, num_steps_training, X_validation_letter=X_validation_letter, Y_validation_letter=Y_validation_letter)\n",
    "\n",
    "working_score_tensor = torch.tensor(list(np.delete(BSn_data_dataset2[:, 5], validation_indices, axis=0)))\n",
    "\n",
    "print('---------training info----------')\n",
    "print(X_train.shape)\n",
    "print(Y_train.shape)\n",
    "print(X_valid_len.shape)\n",
    "print(Y_valid_len.shape)\n",
    "print(working_score_tensor[:20])\n",
    "print('---------validation info------------')\n",
    "print(X_validation.shape)\n",
    "print(Y_validation.shape)\n",
    "print(X_validation_valid_len.shape)\n",
    "print(Y_validation_valid_len.shape)"
   ]
  },
  {
   "cell_type": "markdown",
   "metadata": {},
   "source": [
    "# Task 1: Generative ability test on protein dataset"
   ]
  },
  {
   "cell_type": "markdown",
   "metadata": {},
   "source": [
    "#### Build demo model"
   ]
  },
  {
   "cell_type": "code",
   "execution_count": null,
   "metadata": {},
   "outputs": [],
   "source": [
    "query_size, key_size, value_size, num_hiddens = 32, 32, 32, 32\n",
    "num_layers, dropout = 1, 0.1\n",
    "lr, num_epochs, batch_size, label_smoothing = 0.005, 3, 6000, 0.1\n",
    "ffn_num_input, ffn_num_hiddens, num_heads = 32, 64, 4\n",
    "\n",
    "norm_shape = [32] # 32 corresponds to the dim of such number to normalize\n",
    "device = d2l.try_gpu()"
   ]
  },
  {
   "cell_type": "code",
   "execution_count": null,
   "metadata": {},
   "outputs": [],
   "source": [
    "encoder_demo = TransformerEncoder(\n",
    "\tlen(amino_dict), key_size, query_size, value_size, num_hiddens, \n",
    "\tnorm_shape, ffn_num_input, ffn_num_hiddens, num_heads,\n",
    "\tnum_layers, dropout)\n",
    "decoder_demo = TransformerDecoder(\n",
    "\tlen(amino_dict), key_size, query_size, value_size, num_hiddens, \n",
    "\tnorm_shape, ffn_num_input, ffn_num_hiddens, num_heads,\n",
    "\tnum_layers, dropout)\n",
    "model_demo = EncoderDecoder(encoder_demo, decoder_demo)"
   ]
  },
  {
   "cell_type": "code",
   "execution_count": null,
   "metadata": {},
   "outputs": [
    {
     "name": "stdout",
     "output_type": "stream",
     "text": [
      "total number of parameters: 23320\n",
      "total number of trainable parameters: 23320\n"
     ]
    }
   ],
   "source": [
    "pytorch_total_params = sum(p.numel() for p in model_demo.parameters())\n",
    "pytorch_total_trainable_params = sum(p.numel() for p in model_demo.parameters() if p.requires_grad)\n",
    "\n",
    "print('total number of parameters: {}'.format(pytorch_total_params))\n",
    "print('total number of trainable parameters: {}'.format(pytorch_total_trainable_params))"
   ]
  },
  {
   "cell_type": "markdown",
   "metadata": {},
   "source": [
    "#### Model training"
   ]
  },
  {
   "cell_type": "code",
   "execution_count": null,
   "metadata": {},
   "outputs": [
    {
     "name": "stdout",
     "output_type": "stream",
     "text": [
      "epoch 3, loss: 1.508983238801253\n",
      "epoch 3, hamming distance: 34884\n",
      "loss 1.509, 26065.3 tokens/sec on cpu\n"
     ]
    },
    {
     "data": {
      "image/svg+xml": "<?xml version=\"1.0\" encoding=\"utf-8\" standalone=\"no\"?>\n<!DOCTYPE svg PUBLIC \"-//W3C//DTD SVG 1.1//EN\"\n  \"http://www.w3.org/Graphics/SVG/1.1/DTD/svg11.dtd\">\n<svg xmlns:xlink=\"http://www.w3.org/1999/xlink\" width=\"252.64375pt\" height=\"180.65625pt\" viewBox=\"0 0 252.64375 180.65625\" xmlns=\"http://www.w3.org/2000/svg\" version=\"1.1\">\n <metadata>\n  <rdf:RDF xmlns:dc=\"http://purl.org/dc/elements/1.1/\" xmlns:cc=\"http://creativecommons.org/ns#\" xmlns:rdf=\"http://www.w3.org/1999/02/22-rdf-syntax-ns#\">\n   <cc:Work>\n    <dc:type rdf:resource=\"http://purl.org/dc/dcmitype/StillImage\"/>\n    <dc:date>2022-07-15T15:51:07.172768</dc:date>\n    <dc:format>image/svg+xml</dc:format>\n    <dc:creator>\n     <cc:Agent>\n      <dc:title>Matplotlib v3.5.2, https://matplotlib.org/</dc:title>\n     </cc:Agent>\n    </dc:creator>\n   </cc:Work>\n  </rdf:RDF>\n </metadata>\n <defs>\n  <style type=\"text/css\">*{stroke-linejoin: round; stroke-linecap: butt}</style>\n </defs>\n <g id=\"figure_1\">\n  <g id=\"patch_1\">\n   <path d=\"M 0 180.65625 \nL 252.64375 180.65625 \nL 252.64375 0 \nL 0 0 \nL 0 180.65625 \nz\n\" style=\"fill: none\"/>\n  </g>\n  <g id=\"axes_1\">\n   <g id=\"patch_2\">\n    <path d=\"M 50.14375 143.1 \nL 245.44375 143.1 \nL 245.44375 7.2 \nL 50.14375 7.2 \nz\n\" style=\"fill: #ffffff\"/>\n   </g>\n   <g id=\"matplotlib.axis_1\">\n    <g id=\"xtick_1\">\n     <g id=\"line2d_1\">\n      <path d=\"M 59.021023 143.1 \nL 59.021023 7.2 \n\" clip-path=\"url(#pfe7605b769)\" style=\"fill: none; stroke: #b0b0b0; stroke-width: 0.8; stroke-linecap: square\"/>\n     </g>\n     <g id=\"line2d_2\">\n      <defs>\n       <path id=\"mfbd79eb955\" d=\"M 0 0 \nL 0 3.5 \n\" style=\"stroke: #000000; stroke-width: 0.8\"/>\n      </defs>\n      <g>\n       <use xlink:href=\"#mfbd79eb955\" x=\"59.021023\" y=\"143.1\" style=\"stroke: #000000; stroke-width: 0.8\"/>\n      </g>\n     </g>\n     <g id=\"text_1\">\n      <!-- 1.0 -->\n      <g transform=\"translate(51.06946 157.698438)scale(0.1 -0.1)\">\n       <defs>\n        <path id=\"DejaVuSans-31\" d=\"M 794 531 \nL 1825 531 \nL 1825 4091 \nL 703 3866 \nL 703 4441 \nL 1819 4666 \nL 2450 4666 \nL 2450 531 \nL 3481 531 \nL 3481 0 \nL 794 0 \nL 794 531 \nz\n\" transform=\"scale(0.015625)\"/>\n        <path id=\"DejaVuSans-2e\" d=\"M 684 794 \nL 1344 794 \nL 1344 0 \nL 684 0 \nL 684 794 \nz\n\" transform=\"scale(0.015625)\"/>\n        <path id=\"DejaVuSans-30\" d=\"M 2034 4250 \nQ 1547 4250 1301 3770 \nQ 1056 3291 1056 2328 \nQ 1056 1369 1301 889 \nQ 1547 409 2034 409 \nQ 2525 409 2770 889 \nQ 3016 1369 3016 2328 \nQ 3016 3291 2770 3770 \nQ 2525 4250 2034 4250 \nz\nM 2034 4750 \nQ 2819 4750 3233 4129 \nQ 3647 3509 3647 2328 \nQ 3647 1150 3233 529 \nQ 2819 -91 2034 -91 \nQ 1250 -91 836 529 \nQ 422 1150 422 2328 \nQ 422 3509 836 4129 \nQ 1250 4750 2034 4750 \nz\n\" transform=\"scale(0.015625)\"/>\n       </defs>\n       <use xlink:href=\"#DejaVuSans-31\"/>\n       <use xlink:href=\"#DejaVuSans-2e\" x=\"63.623047\"/>\n       <use xlink:href=\"#DejaVuSans-30\" x=\"95.410156\"/>\n      </g>\n     </g>\n    </g>\n    <g id=\"xtick_2\">\n     <g id=\"line2d_3\">\n      <path d=\"M 103.407386 143.1 \nL 103.407386 7.2 \n\" clip-path=\"url(#pfe7605b769)\" style=\"fill: none; stroke: #b0b0b0; stroke-width: 0.8; stroke-linecap: square\"/>\n     </g>\n     <g id=\"line2d_4\">\n      <g>\n       <use xlink:href=\"#mfbd79eb955\" x=\"103.407386\" y=\"143.1\" style=\"stroke: #000000; stroke-width: 0.8\"/>\n      </g>\n     </g>\n     <g id=\"text_2\">\n      <!-- 1.5 -->\n      <g transform=\"translate(95.455824 157.698438)scale(0.1 -0.1)\">\n       <defs>\n        <path id=\"DejaVuSans-35\" d=\"M 691 4666 \nL 3169 4666 \nL 3169 4134 \nL 1269 4134 \nL 1269 2991 \nQ 1406 3038 1543 3061 \nQ 1681 3084 1819 3084 \nQ 2600 3084 3056 2656 \nQ 3513 2228 3513 1497 \nQ 3513 744 3044 326 \nQ 2575 -91 1722 -91 \nQ 1428 -91 1123 -41 \nQ 819 9 494 109 \nL 494 744 \nQ 775 591 1075 516 \nQ 1375 441 1709 441 \nQ 2250 441 2565 725 \nQ 2881 1009 2881 1497 \nQ 2881 1984 2565 2268 \nQ 2250 2553 1709 2553 \nQ 1456 2553 1204 2497 \nQ 953 2441 691 2322 \nL 691 4666 \nz\n\" transform=\"scale(0.015625)\"/>\n       </defs>\n       <use xlink:href=\"#DejaVuSans-31\"/>\n       <use xlink:href=\"#DejaVuSans-2e\" x=\"63.623047\"/>\n       <use xlink:href=\"#DejaVuSans-35\" x=\"95.410156\"/>\n      </g>\n     </g>\n    </g>\n    <g id=\"xtick_3\">\n     <g id=\"line2d_5\">\n      <path d=\"M 147.79375 143.1 \nL 147.79375 7.2 \n\" clip-path=\"url(#pfe7605b769)\" style=\"fill: none; stroke: #b0b0b0; stroke-width: 0.8; stroke-linecap: square\"/>\n     </g>\n     <g id=\"line2d_6\">\n      <g>\n       <use xlink:href=\"#mfbd79eb955\" x=\"147.79375\" y=\"143.1\" style=\"stroke: #000000; stroke-width: 0.8\"/>\n      </g>\n     </g>\n     <g id=\"text_3\">\n      <!-- 2.0 -->\n      <g transform=\"translate(139.842188 157.698438)scale(0.1 -0.1)\">\n       <defs>\n        <path id=\"DejaVuSans-32\" d=\"M 1228 531 \nL 3431 531 \nL 3431 0 \nL 469 0 \nL 469 531 \nQ 828 903 1448 1529 \nQ 2069 2156 2228 2338 \nQ 2531 2678 2651 2914 \nQ 2772 3150 2772 3378 \nQ 2772 3750 2511 3984 \nQ 2250 4219 1831 4219 \nQ 1534 4219 1204 4116 \nQ 875 4013 500 3803 \nL 500 4441 \nQ 881 4594 1212 4672 \nQ 1544 4750 1819 4750 \nQ 2544 4750 2975 4387 \nQ 3406 4025 3406 3419 \nQ 3406 3131 3298 2873 \nQ 3191 2616 2906 2266 \nQ 2828 2175 2409 1742 \nQ 1991 1309 1228 531 \nz\n\" transform=\"scale(0.015625)\"/>\n       </defs>\n       <use xlink:href=\"#DejaVuSans-32\"/>\n       <use xlink:href=\"#DejaVuSans-2e\" x=\"63.623047\"/>\n       <use xlink:href=\"#DejaVuSans-30\" x=\"95.410156\"/>\n      </g>\n     </g>\n    </g>\n    <g id=\"xtick_4\">\n     <g id=\"line2d_7\">\n      <path d=\"M 192.180114 143.1 \nL 192.180114 7.2 \n\" clip-path=\"url(#pfe7605b769)\" style=\"fill: none; stroke: #b0b0b0; stroke-width: 0.8; stroke-linecap: square\"/>\n     </g>\n     <g id=\"line2d_8\">\n      <g>\n       <use xlink:href=\"#mfbd79eb955\" x=\"192.180114\" y=\"143.1\" style=\"stroke: #000000; stroke-width: 0.8\"/>\n      </g>\n     </g>\n     <g id=\"text_4\">\n      <!-- 2.5 -->\n      <g transform=\"translate(184.228551 157.698438)scale(0.1 -0.1)\">\n       <use xlink:href=\"#DejaVuSans-32\"/>\n       <use xlink:href=\"#DejaVuSans-2e\" x=\"63.623047\"/>\n       <use xlink:href=\"#DejaVuSans-35\" x=\"95.410156\"/>\n      </g>\n     </g>\n    </g>\n    <g id=\"xtick_5\">\n     <g id=\"line2d_9\">\n      <path d=\"M 236.566477 143.1 \nL 236.566477 7.2 \n\" clip-path=\"url(#pfe7605b769)\" style=\"fill: none; stroke: #b0b0b0; stroke-width: 0.8; stroke-linecap: square\"/>\n     </g>\n     <g id=\"line2d_10\">\n      <g>\n       <use xlink:href=\"#mfbd79eb955\" x=\"236.566477\" y=\"143.1\" style=\"stroke: #000000; stroke-width: 0.8\"/>\n      </g>\n     </g>\n     <g id=\"text_5\">\n      <!-- 3.0 -->\n      <g transform=\"translate(228.614915 157.698438)scale(0.1 -0.1)\">\n       <defs>\n        <path id=\"DejaVuSans-33\" d=\"M 2597 2516 \nQ 3050 2419 3304 2112 \nQ 3559 1806 3559 1356 \nQ 3559 666 3084 287 \nQ 2609 -91 1734 -91 \nQ 1441 -91 1130 -33 \nQ 819 25 488 141 \nL 488 750 \nQ 750 597 1062 519 \nQ 1375 441 1716 441 \nQ 2309 441 2620 675 \nQ 2931 909 2931 1356 \nQ 2931 1769 2642 2001 \nQ 2353 2234 1838 2234 \nL 1294 2234 \nL 1294 2753 \nL 1863 2753 \nQ 2328 2753 2575 2939 \nQ 2822 3125 2822 3475 \nQ 2822 3834 2567 4026 \nQ 2313 4219 1838 4219 \nQ 1578 4219 1281 4162 \nQ 984 4106 628 3988 \nL 628 4550 \nQ 988 4650 1302 4700 \nQ 1616 4750 1894 4750 \nQ 2613 4750 3031 4423 \nQ 3450 4097 3450 3541 \nQ 3450 3153 3228 2886 \nQ 3006 2619 2597 2516 \nz\n\" transform=\"scale(0.015625)\"/>\n       </defs>\n       <use xlink:href=\"#DejaVuSans-33\"/>\n       <use xlink:href=\"#DejaVuSans-2e\" x=\"63.623047\"/>\n       <use xlink:href=\"#DejaVuSans-30\" x=\"95.410156\"/>\n      </g>\n     </g>\n    </g>\n    <g id=\"text_6\">\n     <!-- epoch -->\n     <g transform=\"translate(132.565625 171.376563)scale(0.1 -0.1)\">\n      <defs>\n       <path id=\"DejaVuSans-65\" d=\"M 3597 1894 \nL 3597 1613 \nL 953 1613 \nQ 991 1019 1311 708 \nQ 1631 397 2203 397 \nQ 2534 397 2845 478 \nQ 3156 559 3463 722 \nL 3463 178 \nQ 3153 47 2828 -22 \nQ 2503 -91 2169 -91 \nQ 1331 -91 842 396 \nQ 353 884 353 1716 \nQ 353 2575 817 3079 \nQ 1281 3584 2069 3584 \nQ 2775 3584 3186 3129 \nQ 3597 2675 3597 1894 \nz\nM 3022 2063 \nQ 3016 2534 2758 2815 \nQ 2500 3097 2075 3097 \nQ 1594 3097 1305 2825 \nQ 1016 2553 972 2059 \nL 3022 2063 \nz\n\" transform=\"scale(0.015625)\"/>\n       <path id=\"DejaVuSans-70\" d=\"M 1159 525 \nL 1159 -1331 \nL 581 -1331 \nL 581 3500 \nL 1159 3500 \nL 1159 2969 \nQ 1341 3281 1617 3432 \nQ 1894 3584 2278 3584 \nQ 2916 3584 3314 3078 \nQ 3713 2572 3713 1747 \nQ 3713 922 3314 415 \nQ 2916 -91 2278 -91 \nQ 1894 -91 1617 61 \nQ 1341 213 1159 525 \nz\nM 3116 1747 \nQ 3116 2381 2855 2742 \nQ 2594 3103 2138 3103 \nQ 1681 3103 1420 2742 \nQ 1159 2381 1159 1747 \nQ 1159 1113 1420 752 \nQ 1681 391 2138 391 \nQ 2594 391 2855 752 \nQ 3116 1113 3116 1747 \nz\n\" transform=\"scale(0.015625)\"/>\n       <path id=\"DejaVuSans-6f\" d=\"M 1959 3097 \nQ 1497 3097 1228 2736 \nQ 959 2375 959 1747 \nQ 959 1119 1226 758 \nQ 1494 397 1959 397 \nQ 2419 397 2687 759 \nQ 2956 1122 2956 1747 \nQ 2956 2369 2687 2733 \nQ 2419 3097 1959 3097 \nz\nM 1959 3584 \nQ 2709 3584 3137 3096 \nQ 3566 2609 3566 1747 \nQ 3566 888 3137 398 \nQ 2709 -91 1959 -91 \nQ 1206 -91 779 398 \nQ 353 888 353 1747 \nQ 353 2609 779 3096 \nQ 1206 3584 1959 3584 \nz\n\" transform=\"scale(0.015625)\"/>\n       <path id=\"DejaVuSans-63\" d=\"M 3122 3366 \nL 3122 2828 \nQ 2878 2963 2633 3030 \nQ 2388 3097 2138 3097 \nQ 1578 3097 1268 2742 \nQ 959 2388 959 1747 \nQ 959 1106 1268 751 \nQ 1578 397 2138 397 \nQ 2388 397 2633 464 \nQ 2878 531 3122 666 \nL 3122 134 \nQ 2881 22 2623 -34 \nQ 2366 -91 2075 -91 \nQ 1284 -91 818 406 \nQ 353 903 353 1747 \nQ 353 2603 823 3093 \nQ 1294 3584 2113 3584 \nQ 2378 3584 2631 3529 \nQ 2884 3475 3122 3366 \nz\n\" transform=\"scale(0.015625)\"/>\n       <path id=\"DejaVuSans-68\" d=\"M 3513 2113 \nL 3513 0 \nL 2938 0 \nL 2938 2094 \nQ 2938 2591 2744 2837 \nQ 2550 3084 2163 3084 \nQ 1697 3084 1428 2787 \nQ 1159 2491 1159 1978 \nL 1159 0 \nL 581 0 \nL 581 4863 \nL 1159 4863 \nL 1159 2956 \nQ 1366 3272 1645 3428 \nQ 1925 3584 2291 3584 \nQ 2894 3584 3203 3211 \nQ 3513 2838 3513 2113 \nz\n\" transform=\"scale(0.015625)\"/>\n      </defs>\n      <use xlink:href=\"#DejaVuSans-65\"/>\n      <use xlink:href=\"#DejaVuSans-70\" x=\"61.523438\"/>\n      <use xlink:href=\"#DejaVuSans-6f\" x=\"125\"/>\n      <use xlink:href=\"#DejaVuSans-63\" x=\"186.181641\"/>\n      <use xlink:href=\"#DejaVuSans-68\" x=\"241.162109\"/>\n     </g>\n    </g>\n   </g>\n   <g id=\"matplotlib.axis_2\">\n    <g id=\"ytick_1\">\n     <g id=\"line2d_11\">\n      <path d=\"M 50.14375 134.428712 \nL 245.44375 134.428712 \n\" clip-path=\"url(#pfe7605b769)\" style=\"fill: none; stroke: #b0b0b0; stroke-width: 0.8; stroke-linecap: square\"/>\n     </g>\n     <g id=\"line2d_12\">\n      <defs>\n       <path id=\"mb4eb5a2207\" d=\"M 0 0 \nL -3.5 0 \n\" style=\"stroke: #000000; stroke-width: 0.8\"/>\n      </defs>\n      <g>\n       <use xlink:href=\"#mb4eb5a2207\" x=\"50.14375\" y=\"134.428712\" style=\"stroke: #000000; stroke-width: 0.8\"/>\n      </g>\n     </g>\n     <g id=\"text_7\">\n      <!-- 1.51 -->\n      <g transform=\"translate(20.878125 138.22793)scale(0.1 -0.1)\">\n       <use xlink:href=\"#DejaVuSans-31\"/>\n       <use xlink:href=\"#DejaVuSans-2e\" x=\"63.623047\"/>\n       <use xlink:href=\"#DejaVuSans-35\" x=\"95.410156\"/>\n       <use xlink:href=\"#DejaVuSans-31\" x=\"159.033203\"/>\n      </g>\n     </g>\n    </g>\n    <g id=\"ytick_2\">\n     <g id=\"line2d_13\">\n      <path d=\"M 50.14375 109.899691 \nL 245.44375 109.899691 \n\" clip-path=\"url(#pfe7605b769)\" style=\"fill: none; stroke: #b0b0b0; stroke-width: 0.8; stroke-linecap: square\"/>\n     </g>\n     <g id=\"line2d_14\">\n      <g>\n       <use xlink:href=\"#mb4eb5a2207\" x=\"50.14375\" y=\"109.899691\" style=\"stroke: #000000; stroke-width: 0.8\"/>\n      </g>\n     </g>\n     <g id=\"text_8\">\n      <!-- 1.52 -->\n      <g transform=\"translate(20.878125 113.69891)scale(0.1 -0.1)\">\n       <use xlink:href=\"#DejaVuSans-31\"/>\n       <use xlink:href=\"#DejaVuSans-2e\" x=\"63.623047\"/>\n       <use xlink:href=\"#DejaVuSans-35\" x=\"95.410156\"/>\n       <use xlink:href=\"#DejaVuSans-32\" x=\"159.033203\"/>\n      </g>\n     </g>\n    </g>\n    <g id=\"ytick_3\">\n     <g id=\"line2d_15\">\n      <path d=\"M 50.14375 85.370671 \nL 245.44375 85.370671 \n\" clip-path=\"url(#pfe7605b769)\" style=\"fill: none; stroke: #b0b0b0; stroke-width: 0.8; stroke-linecap: square\"/>\n     </g>\n     <g id=\"line2d_16\">\n      <g>\n       <use xlink:href=\"#mb4eb5a2207\" x=\"50.14375\" y=\"85.370671\" style=\"stroke: #000000; stroke-width: 0.8\"/>\n      </g>\n     </g>\n     <g id=\"text_9\">\n      <!-- 1.53 -->\n      <g transform=\"translate(20.878125 89.16989)scale(0.1 -0.1)\">\n       <use xlink:href=\"#DejaVuSans-31\"/>\n       <use xlink:href=\"#DejaVuSans-2e\" x=\"63.623047\"/>\n       <use xlink:href=\"#DejaVuSans-35\" x=\"95.410156\"/>\n       <use xlink:href=\"#DejaVuSans-33\" x=\"159.033203\"/>\n      </g>\n     </g>\n    </g>\n    <g id=\"ytick_4\">\n     <g id=\"line2d_17\">\n      <path d=\"M 50.14375 60.841651 \nL 245.44375 60.841651 \n\" clip-path=\"url(#pfe7605b769)\" style=\"fill: none; stroke: #b0b0b0; stroke-width: 0.8; stroke-linecap: square\"/>\n     </g>\n     <g id=\"line2d_18\">\n      <g>\n       <use xlink:href=\"#mb4eb5a2207\" x=\"50.14375\" y=\"60.841651\" style=\"stroke: #000000; stroke-width: 0.8\"/>\n      </g>\n     </g>\n     <g id=\"text_10\">\n      <!-- 1.54 -->\n      <g transform=\"translate(20.878125 64.640869)scale(0.1 -0.1)\">\n       <defs>\n        <path id=\"DejaVuSans-34\" d=\"M 2419 4116 \nL 825 1625 \nL 2419 1625 \nL 2419 4116 \nz\nM 2253 4666 \nL 3047 4666 \nL 3047 1625 \nL 3713 1625 \nL 3713 1100 \nL 3047 1100 \nL 3047 0 \nL 2419 0 \nL 2419 1100 \nL 313 1100 \nL 313 1709 \nL 2253 4666 \nz\n\" transform=\"scale(0.015625)\"/>\n       </defs>\n       <use xlink:href=\"#DejaVuSans-31\"/>\n       <use xlink:href=\"#DejaVuSans-2e\" x=\"63.623047\"/>\n       <use xlink:href=\"#DejaVuSans-35\" x=\"95.410156\"/>\n       <use xlink:href=\"#DejaVuSans-34\" x=\"159.033203\"/>\n      </g>\n     </g>\n    </g>\n    <g id=\"ytick_5\">\n     <g id=\"line2d_19\">\n      <path d=\"M 50.14375 36.31263 \nL 245.44375 36.31263 \n\" clip-path=\"url(#pfe7605b769)\" style=\"fill: none; stroke: #b0b0b0; stroke-width: 0.8; stroke-linecap: square\"/>\n     </g>\n     <g id=\"line2d_20\">\n      <g>\n       <use xlink:href=\"#mb4eb5a2207\" x=\"50.14375\" y=\"36.31263\" style=\"stroke: #000000; stroke-width: 0.8\"/>\n      </g>\n     </g>\n     <g id=\"text_11\">\n      <!-- 1.55 -->\n      <g transform=\"translate(20.878125 40.111849)scale(0.1 -0.1)\">\n       <use xlink:href=\"#DejaVuSans-31\"/>\n       <use xlink:href=\"#DejaVuSans-2e\" x=\"63.623047\"/>\n       <use xlink:href=\"#DejaVuSans-35\" x=\"95.410156\"/>\n       <use xlink:href=\"#DejaVuSans-35\" x=\"159.033203\"/>\n      </g>\n     </g>\n    </g>\n    <g id=\"ytick_6\">\n     <g id=\"line2d_21\">\n      <path d=\"M 50.14375 11.78361 \nL 245.44375 11.78361 \n\" clip-path=\"url(#pfe7605b769)\" style=\"fill: none; stroke: #b0b0b0; stroke-width: 0.8; stroke-linecap: square\"/>\n     </g>\n     <g id=\"line2d_22\">\n      <g>\n       <use xlink:href=\"#mb4eb5a2207\" x=\"50.14375\" y=\"11.78361\" style=\"stroke: #000000; stroke-width: 0.8\"/>\n      </g>\n     </g>\n     <g id=\"text_12\">\n      <!-- 1.56 -->\n      <g transform=\"translate(20.878125 15.582829)scale(0.1 -0.1)\">\n       <defs>\n        <path id=\"DejaVuSans-36\" d=\"M 2113 2584 \nQ 1688 2584 1439 2293 \nQ 1191 2003 1191 1497 \nQ 1191 994 1439 701 \nQ 1688 409 2113 409 \nQ 2538 409 2786 701 \nQ 3034 994 3034 1497 \nQ 3034 2003 2786 2293 \nQ 2538 2584 2113 2584 \nz\nM 3366 4563 \nL 3366 3988 \nQ 3128 4100 2886 4159 \nQ 2644 4219 2406 4219 \nQ 1781 4219 1451 3797 \nQ 1122 3375 1075 2522 \nQ 1259 2794 1537 2939 \nQ 1816 3084 2150 3084 \nQ 2853 3084 3261 2657 \nQ 3669 2231 3669 1497 \nQ 3669 778 3244 343 \nQ 2819 -91 2113 -91 \nQ 1303 -91 875 529 \nQ 447 1150 447 2328 \nQ 447 3434 972 4092 \nQ 1497 4750 2381 4750 \nQ 2619 4750 2861 4703 \nQ 3103 4656 3366 4563 \nz\n\" transform=\"scale(0.015625)\"/>\n       </defs>\n       <use xlink:href=\"#DejaVuSans-31\"/>\n       <use xlink:href=\"#DejaVuSans-2e\" x=\"63.623047\"/>\n       <use xlink:href=\"#DejaVuSans-35\" x=\"95.410156\"/>\n       <use xlink:href=\"#DejaVuSans-36\" x=\"159.033203\"/>\n      </g>\n     </g>\n    </g>\n    <g id=\"text_13\">\n     <!-- loss -->\n     <g transform=\"translate(14.798437 84.807813)rotate(-90)scale(0.1 -0.1)\">\n      <defs>\n       <path id=\"DejaVuSans-6c\" d=\"M 603 4863 \nL 1178 4863 \nL 1178 0 \nL 603 0 \nL 603 4863 \nz\n\" transform=\"scale(0.015625)\"/>\n       <path id=\"DejaVuSans-73\" d=\"M 2834 3397 \nL 2834 2853 \nQ 2591 2978 2328 3040 \nQ 2066 3103 1784 3103 \nQ 1356 3103 1142 2972 \nQ 928 2841 928 2578 \nQ 928 2378 1081 2264 \nQ 1234 2150 1697 2047 \nL 1894 2003 \nQ 2506 1872 2764 1633 \nQ 3022 1394 3022 966 \nQ 3022 478 2636 193 \nQ 2250 -91 1575 -91 \nQ 1294 -91 989 -36 \nQ 684 19 347 128 \nL 347 722 \nQ 666 556 975 473 \nQ 1284 391 1588 391 \nQ 1994 391 2212 530 \nQ 2431 669 2431 922 \nQ 2431 1156 2273 1281 \nQ 2116 1406 1581 1522 \nL 1381 1569 \nQ 847 1681 609 1914 \nQ 372 2147 372 2553 \nQ 372 3047 722 3315 \nQ 1072 3584 1716 3584 \nQ 2034 3584 2315 3537 \nQ 2597 3491 2834 3397 \nz\n\" transform=\"scale(0.015625)\"/>\n      </defs>\n      <use xlink:href=\"#DejaVuSans-6c\"/>\n      <use xlink:href=\"#DejaVuSans-6f\" x=\"27.783203\"/>\n      <use xlink:href=\"#DejaVuSans-73\" x=\"88.964844\"/>\n      <use xlink:href=\"#DejaVuSans-73\" x=\"141.064453\"/>\n     </g>\n    </g>\n   </g>\n   <g id=\"line2d_23\">\n    <path d=\"M 59.021023 13.377273 \nL 147.79375 114.785596 \nL 236.566477 136.922727 \n\" clip-path=\"url(#pfe7605b769)\" style=\"fill: none; stroke: #1f77b4; stroke-width: 1.5; stroke-linecap: square\"/>\n   </g>\n   <g id=\"patch_3\">\n    <path d=\"M 50.14375 143.1 \nL 50.14375 7.2 \n\" style=\"fill: none; stroke: #000000; stroke-width: 0.8; stroke-linejoin: miter; stroke-linecap: square\"/>\n   </g>\n   <g id=\"patch_4\">\n    <path d=\"M 245.44375 143.1 \nL 245.44375 7.2 \n\" style=\"fill: none; stroke: #000000; stroke-width: 0.8; stroke-linejoin: miter; stroke-linecap: square\"/>\n   </g>\n   <g id=\"patch_5\">\n    <path d=\"M 50.14375 143.1 \nL 245.44375 143.1 \n\" style=\"fill: none; stroke: #000000; stroke-width: 0.8; stroke-linejoin: miter; stroke-linecap: square\"/>\n   </g>\n   <g id=\"patch_6\">\n    <path d=\"M 50.14375 7.2 \nL 245.44375 7.2 \n\" style=\"fill: none; stroke: #000000; stroke-width: 0.8; stroke-linejoin: miter; stroke-linecap: square\"/>\n   </g>\n  </g>\n </g>\n <defs>\n  <clipPath id=\"pfe7605b769\">\n   <rect x=\"50.14375\" y=\"7.2\" width=\"195.3\" height=\"135.9\"/>\n  </clipPath>\n </defs>\n</svg>\n",
      "text/plain": [
       "<Figure size 252x180 with 1 Axes>"
      ]
     },
     "metadata": {
      "needs_background": "light"
     },
     "output_type": "display_data"
    },
    {
     "data": {
      "image/svg+xml": "<?xml version=\"1.0\" encoding=\"utf-8\" standalone=\"no\"?>\n<!DOCTYPE svg PUBLIC \"-//W3C//DTD SVG 1.1//EN\"\n  \"http://www.w3.org/Graphics/SVG/1.1/DTD/svg11.dtd\">\n<svg xmlns:xlink=\"http://www.w3.org/1999/xlink\" width=\"726.94375pt\" height=\"494.754375pt\" viewBox=\"0 0 726.94375 494.754375\" xmlns=\"http://www.w3.org/2000/svg\" version=\"1.1\">\n <metadata>\n  <rdf:RDF xmlns:dc=\"http://purl.org/dc/elements/1.1/\" xmlns:cc=\"http://creativecommons.org/ns#\" xmlns:rdf=\"http://www.w3.org/1999/02/22-rdf-syntax-ns#\">\n   <cc:Work>\n    <dc:type rdf:resource=\"http://purl.org/dc/dcmitype/StillImage\"/>\n    <dc:date>2022-07-15T15:51:07.322701</dc:date>\n    <dc:format>image/svg+xml</dc:format>\n    <dc:creator>\n     <cc:Agent>\n      <dc:title>Matplotlib v3.5.2, https://matplotlib.org/</dc:title>\n     </cc:Agent>\n    </dc:creator>\n   </cc:Work>\n  </rdf:RDF>\n </metadata>\n <defs>\n  <style type=\"text/css\">*{stroke-linejoin: round; stroke-linecap: butt}</style>\n </defs>\n <g id=\"figure_1\">\n  <g id=\"patch_1\">\n   <path d=\"M 0 494.754375 \nL 726.94375 494.754375 \nL 726.94375 0 \nL 0 0 \nz\n\" style=\"fill: #ffffff\"/>\n  </g>\n  <g id=\"axes_1\">\n   <g id=\"patch_2\">\n    <path d=\"M 50.14375 457.198125 \nL 719.74375 457.198125 \nL 719.74375 22.318125 \nL 50.14375 22.318125 \nz\n\" style=\"fill: #ffffff\"/>\n   </g>\n   <g id=\"matplotlib.axis_1\">\n    <g id=\"xtick_1\">\n     <g id=\"line2d_1\">\n      <path d=\"M 80.580114 457.198125 \nL 80.580114 22.318125 \n\" clip-path=\"url(#pd83c086792)\" style=\"fill: none; stroke: #b0b0b0; stroke-width: 0.8; stroke-linecap: square\"/>\n     </g>\n     <g id=\"line2d_2\">\n      <defs>\n       <path id=\"m534cce887f\" d=\"M 0 0 \nL 0 3.5 \n\" style=\"stroke: #000000; stroke-width: 0.8\"/>\n      </defs>\n      <g>\n       <use xlink:href=\"#m534cce887f\" x=\"80.580114\" y=\"457.198125\" style=\"stroke: #000000; stroke-width: 0.8\"/>\n      </g>\n     </g>\n     <g id=\"text_1\">\n      <!-- 1.00 -->\n      <g transform=\"translate(69.447301 471.796562)scale(0.1 -0.1)\">\n       <defs>\n        <path id=\"DejaVuSans-31\" d=\"M 794 531 \nL 1825 531 \nL 1825 4091 \nL 703 3866 \nL 703 4441 \nL 1819 4666 \nL 2450 4666 \nL 2450 531 \nL 3481 531 \nL 3481 0 \nL 794 0 \nL 794 531 \nz\n\" transform=\"scale(0.015625)\"/>\n        <path id=\"DejaVuSans-2e\" d=\"M 684 794 \nL 1344 794 \nL 1344 0 \nL 684 0 \nL 684 794 \nz\n\" transform=\"scale(0.015625)\"/>\n        <path id=\"DejaVuSans-30\" d=\"M 2034 4250 \nQ 1547 4250 1301 3770 \nQ 1056 3291 1056 2328 \nQ 1056 1369 1301 889 \nQ 1547 409 2034 409 \nQ 2525 409 2770 889 \nQ 3016 1369 3016 2328 \nQ 3016 3291 2770 3770 \nQ 2525 4250 2034 4250 \nz\nM 2034 4750 \nQ 2819 4750 3233 4129 \nQ 3647 3509 3647 2328 \nQ 3647 1150 3233 529 \nQ 2819 -91 2034 -91 \nQ 1250 -91 836 529 \nQ 422 1150 422 2328 \nQ 422 3509 836 4129 \nQ 1250 4750 2034 4750 \nz\n\" transform=\"scale(0.015625)\"/>\n       </defs>\n       <use xlink:href=\"#DejaVuSans-31\"/>\n       <use xlink:href=\"#DejaVuSans-2e\" x=\"63.623047\"/>\n       <use xlink:href=\"#DejaVuSans-30\" x=\"95.410156\"/>\n       <use xlink:href=\"#DejaVuSans-30\" x=\"159.033203\"/>\n      </g>\n     </g>\n    </g>\n    <g id=\"xtick_2\">\n     <g id=\"line2d_3\">\n      <path d=\"M 156.671023 457.198125 \nL 156.671023 22.318125 \n\" clip-path=\"url(#pd83c086792)\" style=\"fill: none; stroke: #b0b0b0; stroke-width: 0.8; stroke-linecap: square\"/>\n     </g>\n     <g id=\"line2d_4\">\n      <g>\n       <use xlink:href=\"#m534cce887f\" x=\"156.671023\" y=\"457.198125\" style=\"stroke: #000000; stroke-width: 0.8\"/>\n      </g>\n     </g>\n     <g id=\"text_2\">\n      <!-- 1.25 -->\n      <g transform=\"translate(145.53821 471.796562)scale(0.1 -0.1)\">\n       <defs>\n        <path id=\"DejaVuSans-32\" d=\"M 1228 531 \nL 3431 531 \nL 3431 0 \nL 469 0 \nL 469 531 \nQ 828 903 1448 1529 \nQ 2069 2156 2228 2338 \nQ 2531 2678 2651 2914 \nQ 2772 3150 2772 3378 \nQ 2772 3750 2511 3984 \nQ 2250 4219 1831 4219 \nQ 1534 4219 1204 4116 \nQ 875 4013 500 3803 \nL 500 4441 \nQ 881 4594 1212 4672 \nQ 1544 4750 1819 4750 \nQ 2544 4750 2975 4387 \nQ 3406 4025 3406 3419 \nQ 3406 3131 3298 2873 \nQ 3191 2616 2906 2266 \nQ 2828 2175 2409 1742 \nQ 1991 1309 1228 531 \nz\n\" transform=\"scale(0.015625)\"/>\n        <path id=\"DejaVuSans-35\" d=\"M 691 4666 \nL 3169 4666 \nL 3169 4134 \nL 1269 4134 \nL 1269 2991 \nQ 1406 3038 1543 3061 \nQ 1681 3084 1819 3084 \nQ 2600 3084 3056 2656 \nQ 3513 2228 3513 1497 \nQ 3513 744 3044 326 \nQ 2575 -91 1722 -91 \nQ 1428 -91 1123 -41 \nQ 819 9 494 109 \nL 494 744 \nQ 775 591 1075 516 \nQ 1375 441 1709 441 \nQ 2250 441 2565 725 \nQ 2881 1009 2881 1497 \nQ 2881 1984 2565 2268 \nQ 2250 2553 1709 2553 \nQ 1456 2553 1204 2497 \nQ 953 2441 691 2322 \nL 691 4666 \nz\n\" transform=\"scale(0.015625)\"/>\n       </defs>\n       <use xlink:href=\"#DejaVuSans-31\"/>\n       <use xlink:href=\"#DejaVuSans-2e\" x=\"63.623047\"/>\n       <use xlink:href=\"#DejaVuSans-32\" x=\"95.410156\"/>\n       <use xlink:href=\"#DejaVuSans-35\" x=\"159.033203\"/>\n      </g>\n     </g>\n    </g>\n    <g id=\"xtick_3\">\n     <g id=\"line2d_5\">\n      <path d=\"M 232.761932 457.198125 \nL 232.761932 22.318125 \n\" clip-path=\"url(#pd83c086792)\" style=\"fill: none; stroke: #b0b0b0; stroke-width: 0.8; stroke-linecap: square\"/>\n     </g>\n     <g id=\"line2d_6\">\n      <g>\n       <use xlink:href=\"#m534cce887f\" x=\"232.761932\" y=\"457.198125\" style=\"stroke: #000000; stroke-width: 0.8\"/>\n      </g>\n     </g>\n     <g id=\"text_3\">\n      <!-- 1.50 -->\n      <g transform=\"translate(221.629119 471.796562)scale(0.1 -0.1)\">\n       <use xlink:href=\"#DejaVuSans-31\"/>\n       <use xlink:href=\"#DejaVuSans-2e\" x=\"63.623047\"/>\n       <use xlink:href=\"#DejaVuSans-35\" x=\"95.410156\"/>\n       <use xlink:href=\"#DejaVuSans-30\" x=\"159.033203\"/>\n      </g>\n     </g>\n    </g>\n    <g id=\"xtick_4\">\n     <g id=\"line2d_7\">\n      <path d=\"M 308.852841 457.198125 \nL 308.852841 22.318125 \n\" clip-path=\"url(#pd83c086792)\" style=\"fill: none; stroke: #b0b0b0; stroke-width: 0.8; stroke-linecap: square\"/>\n     </g>\n     <g id=\"line2d_8\">\n      <g>\n       <use xlink:href=\"#m534cce887f\" x=\"308.852841\" y=\"457.198125\" style=\"stroke: #000000; stroke-width: 0.8\"/>\n      </g>\n     </g>\n     <g id=\"text_4\">\n      <!-- 1.75 -->\n      <g transform=\"translate(297.720028 471.796562)scale(0.1 -0.1)\">\n       <defs>\n        <path id=\"DejaVuSans-37\" d=\"M 525 4666 \nL 3525 4666 \nL 3525 4397 \nL 1831 0 \nL 1172 0 \nL 2766 4134 \nL 525 4134 \nL 525 4666 \nz\n\" transform=\"scale(0.015625)\"/>\n       </defs>\n       <use xlink:href=\"#DejaVuSans-31\"/>\n       <use xlink:href=\"#DejaVuSans-2e\" x=\"63.623047\"/>\n       <use xlink:href=\"#DejaVuSans-37\" x=\"95.410156\"/>\n       <use xlink:href=\"#DejaVuSans-35\" x=\"159.033203\"/>\n      </g>\n     </g>\n    </g>\n    <g id=\"xtick_5\">\n     <g id=\"line2d_9\">\n      <path d=\"M 384.94375 457.198125 \nL 384.94375 22.318125 \n\" clip-path=\"url(#pd83c086792)\" style=\"fill: none; stroke: #b0b0b0; stroke-width: 0.8; stroke-linecap: square\"/>\n     </g>\n     <g id=\"line2d_10\">\n      <g>\n       <use xlink:href=\"#m534cce887f\" x=\"384.94375\" y=\"457.198125\" style=\"stroke: #000000; stroke-width: 0.8\"/>\n      </g>\n     </g>\n     <g id=\"text_5\">\n      <!-- 2.00 -->\n      <g transform=\"translate(373.810938 471.796562)scale(0.1 -0.1)\">\n       <use xlink:href=\"#DejaVuSans-32\"/>\n       <use xlink:href=\"#DejaVuSans-2e\" x=\"63.623047\"/>\n       <use xlink:href=\"#DejaVuSans-30\" x=\"95.410156\"/>\n       <use xlink:href=\"#DejaVuSans-30\" x=\"159.033203\"/>\n      </g>\n     </g>\n    </g>\n    <g id=\"xtick_6\">\n     <g id=\"line2d_11\">\n      <path d=\"M 461.034659 457.198125 \nL 461.034659 22.318125 \n\" clip-path=\"url(#pd83c086792)\" style=\"fill: none; stroke: #b0b0b0; stroke-width: 0.8; stroke-linecap: square\"/>\n     </g>\n     <g id=\"line2d_12\">\n      <g>\n       <use xlink:href=\"#m534cce887f\" x=\"461.034659\" y=\"457.198125\" style=\"stroke: #000000; stroke-width: 0.8\"/>\n      </g>\n     </g>\n     <g id=\"text_6\">\n      <!-- 2.25 -->\n      <g transform=\"translate(449.901847 471.796562)scale(0.1 -0.1)\">\n       <use xlink:href=\"#DejaVuSans-32\"/>\n       <use xlink:href=\"#DejaVuSans-2e\" x=\"63.623047\"/>\n       <use xlink:href=\"#DejaVuSans-32\" x=\"95.410156\"/>\n       <use xlink:href=\"#DejaVuSans-35\" x=\"159.033203\"/>\n      </g>\n     </g>\n    </g>\n    <g id=\"xtick_7\">\n     <g id=\"line2d_13\">\n      <path d=\"M 537.125568 457.198125 \nL 537.125568 22.318125 \n\" clip-path=\"url(#pd83c086792)\" style=\"fill: none; stroke: #b0b0b0; stroke-width: 0.8; stroke-linecap: square\"/>\n     </g>\n     <g id=\"line2d_14\">\n      <g>\n       <use xlink:href=\"#m534cce887f\" x=\"537.125568\" y=\"457.198125\" style=\"stroke: #000000; stroke-width: 0.8\"/>\n      </g>\n     </g>\n     <g id=\"text_7\">\n      <!-- 2.50 -->\n      <g transform=\"translate(525.992756 471.796562)scale(0.1 -0.1)\">\n       <use xlink:href=\"#DejaVuSans-32\"/>\n       <use xlink:href=\"#DejaVuSans-2e\" x=\"63.623047\"/>\n       <use xlink:href=\"#DejaVuSans-35\" x=\"95.410156\"/>\n       <use xlink:href=\"#DejaVuSans-30\" x=\"159.033203\"/>\n      </g>\n     </g>\n    </g>\n    <g id=\"xtick_8\">\n     <g id=\"line2d_15\">\n      <path d=\"M 613.216477 457.198125 \nL 613.216477 22.318125 \n\" clip-path=\"url(#pd83c086792)\" style=\"fill: none; stroke: #b0b0b0; stroke-width: 0.8; stroke-linecap: square\"/>\n     </g>\n     <g id=\"line2d_16\">\n      <g>\n       <use xlink:href=\"#m534cce887f\" x=\"613.216477\" y=\"457.198125\" style=\"stroke: #000000; stroke-width: 0.8\"/>\n      </g>\n     </g>\n     <g id=\"text_8\">\n      <!-- 2.75 -->\n      <g transform=\"translate(602.083665 471.796562)scale(0.1 -0.1)\">\n       <use xlink:href=\"#DejaVuSans-32\"/>\n       <use xlink:href=\"#DejaVuSans-2e\" x=\"63.623047\"/>\n       <use xlink:href=\"#DejaVuSans-37\" x=\"95.410156\"/>\n       <use xlink:href=\"#DejaVuSans-35\" x=\"159.033203\"/>\n      </g>\n     </g>\n    </g>\n    <g id=\"xtick_9\">\n     <g id=\"line2d_17\">\n      <path d=\"M 689.307386 457.198125 \nL 689.307386 22.318125 \n\" clip-path=\"url(#pd83c086792)\" style=\"fill: none; stroke: #b0b0b0; stroke-width: 0.8; stroke-linecap: square\"/>\n     </g>\n     <g id=\"line2d_18\">\n      <g>\n       <use xlink:href=\"#m534cce887f\" x=\"689.307386\" y=\"457.198125\" style=\"stroke: #000000; stroke-width: 0.8\"/>\n      </g>\n     </g>\n     <g id=\"text_9\">\n      <!-- 3.00 -->\n      <g transform=\"translate(678.174574 471.796562)scale(0.1 -0.1)\">\n       <defs>\n        <path id=\"DejaVuSans-33\" d=\"M 2597 2516 \nQ 3050 2419 3304 2112 \nQ 3559 1806 3559 1356 \nQ 3559 666 3084 287 \nQ 2609 -91 1734 -91 \nQ 1441 -91 1130 -33 \nQ 819 25 488 141 \nL 488 750 \nQ 750 597 1062 519 \nQ 1375 441 1716 441 \nQ 2309 441 2620 675 \nQ 2931 909 2931 1356 \nQ 2931 1769 2642 2001 \nQ 2353 2234 1838 2234 \nL 1294 2234 \nL 1294 2753 \nL 1863 2753 \nQ 2328 2753 2575 2939 \nQ 2822 3125 2822 3475 \nQ 2822 3834 2567 4026 \nQ 2313 4219 1838 4219 \nQ 1578 4219 1281 4162 \nQ 984 4106 628 3988 \nL 628 4550 \nQ 988 4650 1302 4700 \nQ 1616 4750 1894 4750 \nQ 2613 4750 3031 4423 \nQ 3450 4097 3450 3541 \nQ 3450 3153 3228 2886 \nQ 3006 2619 2597 2516 \nz\n\" transform=\"scale(0.015625)\"/>\n       </defs>\n       <use xlink:href=\"#DejaVuSans-33\"/>\n       <use xlink:href=\"#DejaVuSans-2e\" x=\"63.623047\"/>\n       <use xlink:href=\"#DejaVuSans-30\" x=\"95.410156\"/>\n       <use xlink:href=\"#DejaVuSans-30\" x=\"159.033203\"/>\n      </g>\n     </g>\n    </g>\n    <g id=\"text_10\">\n     <!-- Epochs -->\n     <g transform=\"translate(367.028125 485.474687)scale(0.1 -0.1)\">\n      <defs>\n       <path id=\"DejaVuSans-45\" d=\"M 628 4666 \nL 3578 4666 \nL 3578 4134 \nL 1259 4134 \nL 1259 2753 \nL 3481 2753 \nL 3481 2222 \nL 1259 2222 \nL 1259 531 \nL 3634 531 \nL 3634 0 \nL 628 0 \nL 628 4666 \nz\n\" transform=\"scale(0.015625)\"/>\n       <path id=\"DejaVuSans-70\" d=\"M 1159 525 \nL 1159 -1331 \nL 581 -1331 \nL 581 3500 \nL 1159 3500 \nL 1159 2969 \nQ 1341 3281 1617 3432 \nQ 1894 3584 2278 3584 \nQ 2916 3584 3314 3078 \nQ 3713 2572 3713 1747 \nQ 3713 922 3314 415 \nQ 2916 -91 2278 -91 \nQ 1894 -91 1617 61 \nQ 1341 213 1159 525 \nz\nM 3116 1747 \nQ 3116 2381 2855 2742 \nQ 2594 3103 2138 3103 \nQ 1681 3103 1420 2742 \nQ 1159 2381 1159 1747 \nQ 1159 1113 1420 752 \nQ 1681 391 2138 391 \nQ 2594 391 2855 752 \nQ 3116 1113 3116 1747 \nz\n\" transform=\"scale(0.015625)\"/>\n       <path id=\"DejaVuSans-6f\" d=\"M 1959 3097 \nQ 1497 3097 1228 2736 \nQ 959 2375 959 1747 \nQ 959 1119 1226 758 \nQ 1494 397 1959 397 \nQ 2419 397 2687 759 \nQ 2956 1122 2956 1747 \nQ 2956 2369 2687 2733 \nQ 2419 3097 1959 3097 \nz\nM 1959 3584 \nQ 2709 3584 3137 3096 \nQ 3566 2609 3566 1747 \nQ 3566 888 3137 398 \nQ 2709 -91 1959 -91 \nQ 1206 -91 779 398 \nQ 353 888 353 1747 \nQ 353 2609 779 3096 \nQ 1206 3584 1959 3584 \nz\n\" transform=\"scale(0.015625)\"/>\n       <path id=\"DejaVuSans-63\" d=\"M 3122 3366 \nL 3122 2828 \nQ 2878 2963 2633 3030 \nQ 2388 3097 2138 3097 \nQ 1578 3097 1268 2742 \nQ 959 2388 959 1747 \nQ 959 1106 1268 751 \nQ 1578 397 2138 397 \nQ 2388 397 2633 464 \nQ 2878 531 3122 666 \nL 3122 134 \nQ 2881 22 2623 -34 \nQ 2366 -91 2075 -91 \nQ 1284 -91 818 406 \nQ 353 903 353 1747 \nQ 353 2603 823 3093 \nQ 1294 3584 2113 3584 \nQ 2378 3584 2631 3529 \nQ 2884 3475 3122 3366 \nz\n\" transform=\"scale(0.015625)\"/>\n       <path id=\"DejaVuSans-68\" d=\"M 3513 2113 \nL 3513 0 \nL 2938 0 \nL 2938 2094 \nQ 2938 2591 2744 2837 \nQ 2550 3084 2163 3084 \nQ 1697 3084 1428 2787 \nQ 1159 2491 1159 1978 \nL 1159 0 \nL 581 0 \nL 581 4863 \nL 1159 4863 \nL 1159 2956 \nQ 1366 3272 1645 3428 \nQ 1925 3584 2291 3584 \nQ 2894 3584 3203 3211 \nQ 3513 2838 3513 2113 \nz\n\" transform=\"scale(0.015625)\"/>\n       <path id=\"DejaVuSans-73\" d=\"M 2834 3397 \nL 2834 2853 \nQ 2591 2978 2328 3040 \nQ 2066 3103 1784 3103 \nQ 1356 3103 1142 2972 \nQ 928 2841 928 2578 \nQ 928 2378 1081 2264 \nQ 1234 2150 1697 2047 \nL 1894 2003 \nQ 2506 1872 2764 1633 \nQ 3022 1394 3022 966 \nQ 3022 478 2636 193 \nQ 2250 -91 1575 -91 \nQ 1294 -91 989 -36 \nQ 684 19 347 128 \nL 347 722 \nQ 666 556 975 473 \nQ 1284 391 1588 391 \nQ 1994 391 2212 530 \nQ 2431 669 2431 922 \nQ 2431 1156 2273 1281 \nQ 2116 1406 1581 1522 \nL 1381 1569 \nQ 847 1681 609 1914 \nQ 372 2147 372 2553 \nQ 372 3047 722 3315 \nQ 1072 3584 1716 3584 \nQ 2034 3584 2315 3537 \nQ 2597 3491 2834 3397 \nz\n\" transform=\"scale(0.015625)\"/>\n      </defs>\n      <use xlink:href=\"#DejaVuSans-45\"/>\n      <use xlink:href=\"#DejaVuSans-70\" x=\"63.183594\"/>\n      <use xlink:href=\"#DejaVuSans-6f\" x=\"126.660156\"/>\n      <use xlink:href=\"#DejaVuSans-63\" x=\"187.841797\"/>\n      <use xlink:href=\"#DejaVuSans-68\" x=\"242.822266\"/>\n      <use xlink:href=\"#DejaVuSans-73\" x=\"306.201172\"/>\n     </g>\n    </g>\n   </g>\n   <g id=\"matplotlib.axis_2\">\n    <g id=\"ytick_1\">\n     <g id=\"line2d_19\">\n      <path d=\"M 50.14375 429.450002 \nL 719.74375 429.450002 \n\" clip-path=\"url(#pd83c086792)\" style=\"fill: none; stroke: #b0b0b0; stroke-width: 0.8; stroke-linecap: square\"/>\n     </g>\n     <g id=\"line2d_20\">\n      <defs>\n       <path id=\"m28a6f15813\" d=\"M 0 0 \nL -3.5 0 \n\" style=\"stroke: #000000; stroke-width: 0.8\"/>\n      </defs>\n      <g>\n       <use xlink:href=\"#m28a6f15813\" x=\"50.14375\" y=\"429.450002\" style=\"stroke: #000000; stroke-width: 0.8\"/>\n      </g>\n     </g>\n     <g id=\"text_11\">\n      <!-- 1.51 -->\n      <g transform=\"translate(20.878125 433.249221)scale(0.1 -0.1)\">\n       <use xlink:href=\"#DejaVuSans-31\"/>\n       <use xlink:href=\"#DejaVuSans-2e\" x=\"63.623047\"/>\n       <use xlink:href=\"#DejaVuSans-35\" x=\"95.410156\"/>\n       <use xlink:href=\"#DejaVuSans-31\" x=\"159.033203\"/>\n      </g>\n     </g>\n    </g>\n    <g id=\"ytick_2\">\n     <g id=\"line2d_21\">\n      <path d=\"M 50.14375 350.957137 \nL 719.74375 350.957137 \n\" clip-path=\"url(#pd83c086792)\" style=\"fill: none; stroke: #b0b0b0; stroke-width: 0.8; stroke-linecap: square\"/>\n     </g>\n     <g id=\"line2d_22\">\n      <g>\n       <use xlink:href=\"#m28a6f15813\" x=\"50.14375\" y=\"350.957137\" style=\"stroke: #000000; stroke-width: 0.8\"/>\n      </g>\n     </g>\n     <g id=\"text_12\">\n      <!-- 1.52 -->\n      <g transform=\"translate(20.878125 354.756356)scale(0.1 -0.1)\">\n       <use xlink:href=\"#DejaVuSans-31\"/>\n       <use xlink:href=\"#DejaVuSans-2e\" x=\"63.623047\"/>\n       <use xlink:href=\"#DejaVuSans-35\" x=\"95.410156\"/>\n       <use xlink:href=\"#DejaVuSans-32\" x=\"159.033203\"/>\n      </g>\n     </g>\n    </g>\n    <g id=\"ytick_3\">\n     <g id=\"line2d_23\">\n      <path d=\"M 50.14375 272.464272 \nL 719.74375 272.464272 \n\" clip-path=\"url(#pd83c086792)\" style=\"fill: none; stroke: #b0b0b0; stroke-width: 0.8; stroke-linecap: square\"/>\n     </g>\n     <g id=\"line2d_24\">\n      <g>\n       <use xlink:href=\"#m28a6f15813\" x=\"50.14375\" y=\"272.464272\" style=\"stroke: #000000; stroke-width: 0.8\"/>\n      </g>\n     </g>\n     <g id=\"text_13\">\n      <!-- 1.53 -->\n      <g transform=\"translate(20.878125 276.263491)scale(0.1 -0.1)\">\n       <use xlink:href=\"#DejaVuSans-31\"/>\n       <use xlink:href=\"#DejaVuSans-2e\" x=\"63.623047\"/>\n       <use xlink:href=\"#DejaVuSans-35\" x=\"95.410156\"/>\n       <use xlink:href=\"#DejaVuSans-33\" x=\"159.033203\"/>\n      </g>\n     </g>\n    </g>\n    <g id=\"ytick_4\">\n     <g id=\"line2d_25\">\n      <path d=\"M 50.14375 193.971407 \nL 719.74375 193.971407 \n\" clip-path=\"url(#pd83c086792)\" style=\"fill: none; stroke: #b0b0b0; stroke-width: 0.8; stroke-linecap: square\"/>\n     </g>\n     <g id=\"line2d_26\">\n      <g>\n       <use xlink:href=\"#m28a6f15813\" x=\"50.14375\" y=\"193.971407\" style=\"stroke: #000000; stroke-width: 0.8\"/>\n      </g>\n     </g>\n     <g id=\"text_14\">\n      <!-- 1.54 -->\n      <g transform=\"translate(20.878125 197.770626)scale(0.1 -0.1)\">\n       <defs>\n        <path id=\"DejaVuSans-34\" d=\"M 2419 4116 \nL 825 1625 \nL 2419 1625 \nL 2419 4116 \nz\nM 2253 4666 \nL 3047 4666 \nL 3047 1625 \nL 3713 1625 \nL 3713 1100 \nL 3047 1100 \nL 3047 0 \nL 2419 0 \nL 2419 1100 \nL 313 1100 \nL 313 1709 \nL 2253 4666 \nz\n\" transform=\"scale(0.015625)\"/>\n       </defs>\n       <use xlink:href=\"#DejaVuSans-31\"/>\n       <use xlink:href=\"#DejaVuSans-2e\" x=\"63.623047\"/>\n       <use xlink:href=\"#DejaVuSans-35\" x=\"95.410156\"/>\n       <use xlink:href=\"#DejaVuSans-34\" x=\"159.033203\"/>\n      </g>\n     </g>\n    </g>\n    <g id=\"ytick_5\">\n     <g id=\"line2d_27\">\n      <path d=\"M 50.14375 115.478542 \nL 719.74375 115.478542 \n\" clip-path=\"url(#pd83c086792)\" style=\"fill: none; stroke: #b0b0b0; stroke-width: 0.8; stroke-linecap: square\"/>\n     </g>\n     <g id=\"line2d_28\">\n      <g>\n       <use xlink:href=\"#m28a6f15813\" x=\"50.14375\" y=\"115.478542\" style=\"stroke: #000000; stroke-width: 0.8\"/>\n      </g>\n     </g>\n     <g id=\"text_15\">\n      <!-- 1.55 -->\n      <g transform=\"translate(20.878125 119.277761)scale(0.1 -0.1)\">\n       <use xlink:href=\"#DejaVuSans-31\"/>\n       <use xlink:href=\"#DejaVuSans-2e\" x=\"63.623047\"/>\n       <use xlink:href=\"#DejaVuSans-35\" x=\"95.410156\"/>\n       <use xlink:href=\"#DejaVuSans-35\" x=\"159.033203\"/>\n      </g>\n     </g>\n    </g>\n    <g id=\"ytick_6\">\n     <g id=\"line2d_29\">\n      <path d=\"M 50.14375 36.985677 \nL 719.74375 36.985677 \n\" clip-path=\"url(#pd83c086792)\" style=\"fill: none; stroke: #b0b0b0; stroke-width: 0.8; stroke-linecap: square\"/>\n     </g>\n     <g id=\"line2d_30\">\n      <g>\n       <use xlink:href=\"#m28a6f15813\" x=\"50.14375\" y=\"36.985677\" style=\"stroke: #000000; stroke-width: 0.8\"/>\n      </g>\n     </g>\n     <g id=\"text_16\">\n      <!-- 1.56 -->\n      <g transform=\"translate(20.878125 40.784896)scale(0.1 -0.1)\">\n       <defs>\n        <path id=\"DejaVuSans-36\" d=\"M 2113 2584 \nQ 1688 2584 1439 2293 \nQ 1191 2003 1191 1497 \nQ 1191 994 1439 701 \nQ 1688 409 2113 409 \nQ 2538 409 2786 701 \nQ 3034 994 3034 1497 \nQ 3034 2003 2786 2293 \nQ 2538 2584 2113 2584 \nz\nM 3366 4563 \nL 3366 3988 \nQ 3128 4100 2886 4159 \nQ 2644 4219 2406 4219 \nQ 1781 4219 1451 3797 \nQ 1122 3375 1075 2522 \nQ 1259 2794 1537 2939 \nQ 1816 3084 2150 3084 \nQ 2853 3084 3261 2657 \nQ 3669 2231 3669 1497 \nQ 3669 778 3244 343 \nQ 2819 -91 2113 -91 \nQ 1303 -91 875 529 \nQ 447 1150 447 2328 \nQ 447 3434 972 4092 \nQ 1497 4750 2381 4750 \nQ 2619 4750 2861 4703 \nQ 3103 4656 3366 4563 \nz\n\" transform=\"scale(0.015625)\"/>\n       </defs>\n       <use xlink:href=\"#DejaVuSans-31\"/>\n       <use xlink:href=\"#DejaVuSans-2e\" x=\"63.623047\"/>\n       <use xlink:href=\"#DejaVuSans-35\" x=\"95.410156\"/>\n       <use xlink:href=\"#DejaVuSans-36\" x=\"159.033203\"/>\n      </g>\n     </g>\n    </g>\n    <g id=\"text_17\">\n     <!-- Weighted average loss -->\n     <g transform=\"translate(14.798438 296.733906)rotate(-90)scale(0.1 -0.1)\">\n      <defs>\n       <path id=\"DejaVuSans-57\" d=\"M 213 4666 \nL 850 4666 \nL 1831 722 \nL 2809 4666 \nL 3519 4666 \nL 4500 722 \nL 5478 4666 \nL 6119 4666 \nL 4947 0 \nL 4153 0 \nL 3169 4050 \nL 2175 0 \nL 1381 0 \nL 213 4666 \nz\n\" transform=\"scale(0.015625)\"/>\n       <path id=\"DejaVuSans-65\" d=\"M 3597 1894 \nL 3597 1613 \nL 953 1613 \nQ 991 1019 1311 708 \nQ 1631 397 2203 397 \nQ 2534 397 2845 478 \nQ 3156 559 3463 722 \nL 3463 178 \nQ 3153 47 2828 -22 \nQ 2503 -91 2169 -91 \nQ 1331 -91 842 396 \nQ 353 884 353 1716 \nQ 353 2575 817 3079 \nQ 1281 3584 2069 3584 \nQ 2775 3584 3186 3129 \nQ 3597 2675 3597 1894 \nz\nM 3022 2063 \nQ 3016 2534 2758 2815 \nQ 2500 3097 2075 3097 \nQ 1594 3097 1305 2825 \nQ 1016 2553 972 2059 \nL 3022 2063 \nz\n\" transform=\"scale(0.015625)\"/>\n       <path id=\"DejaVuSans-69\" d=\"M 603 3500 \nL 1178 3500 \nL 1178 0 \nL 603 0 \nL 603 3500 \nz\nM 603 4863 \nL 1178 4863 \nL 1178 4134 \nL 603 4134 \nL 603 4863 \nz\n\" transform=\"scale(0.015625)\"/>\n       <path id=\"DejaVuSans-67\" d=\"M 2906 1791 \nQ 2906 2416 2648 2759 \nQ 2391 3103 1925 3103 \nQ 1463 3103 1205 2759 \nQ 947 2416 947 1791 \nQ 947 1169 1205 825 \nQ 1463 481 1925 481 \nQ 2391 481 2648 825 \nQ 2906 1169 2906 1791 \nz\nM 3481 434 \nQ 3481 -459 3084 -895 \nQ 2688 -1331 1869 -1331 \nQ 1566 -1331 1297 -1286 \nQ 1028 -1241 775 -1147 \nL 775 -588 \nQ 1028 -725 1275 -790 \nQ 1522 -856 1778 -856 \nQ 2344 -856 2625 -561 \nQ 2906 -266 2906 331 \nL 2906 616 \nQ 2728 306 2450 153 \nQ 2172 0 1784 0 \nQ 1141 0 747 490 \nQ 353 981 353 1791 \nQ 353 2603 747 3093 \nQ 1141 3584 1784 3584 \nQ 2172 3584 2450 3431 \nQ 2728 3278 2906 2969 \nL 2906 3500 \nL 3481 3500 \nL 3481 434 \nz\n\" transform=\"scale(0.015625)\"/>\n       <path id=\"DejaVuSans-74\" d=\"M 1172 4494 \nL 1172 3500 \nL 2356 3500 \nL 2356 3053 \nL 1172 3053 \nL 1172 1153 \nQ 1172 725 1289 603 \nQ 1406 481 1766 481 \nL 2356 481 \nL 2356 0 \nL 1766 0 \nQ 1100 0 847 248 \nQ 594 497 594 1153 \nL 594 3053 \nL 172 3053 \nL 172 3500 \nL 594 3500 \nL 594 4494 \nL 1172 4494 \nz\n\" transform=\"scale(0.015625)\"/>\n       <path id=\"DejaVuSans-64\" d=\"M 2906 2969 \nL 2906 4863 \nL 3481 4863 \nL 3481 0 \nL 2906 0 \nL 2906 525 \nQ 2725 213 2448 61 \nQ 2172 -91 1784 -91 \nQ 1150 -91 751 415 \nQ 353 922 353 1747 \nQ 353 2572 751 3078 \nQ 1150 3584 1784 3584 \nQ 2172 3584 2448 3432 \nQ 2725 3281 2906 2969 \nz\nM 947 1747 \nQ 947 1113 1208 752 \nQ 1469 391 1925 391 \nQ 2381 391 2643 752 \nQ 2906 1113 2906 1747 \nQ 2906 2381 2643 2742 \nQ 2381 3103 1925 3103 \nQ 1469 3103 1208 2742 \nQ 947 2381 947 1747 \nz\n\" transform=\"scale(0.015625)\"/>\n       <path id=\"DejaVuSans-20\" transform=\"scale(0.015625)\"/>\n       <path id=\"DejaVuSans-61\" d=\"M 2194 1759 \nQ 1497 1759 1228 1600 \nQ 959 1441 959 1056 \nQ 959 750 1161 570 \nQ 1363 391 1709 391 \nQ 2188 391 2477 730 \nQ 2766 1069 2766 1631 \nL 2766 1759 \nL 2194 1759 \nz\nM 3341 1997 \nL 3341 0 \nL 2766 0 \nL 2766 531 \nQ 2569 213 2275 61 \nQ 1981 -91 1556 -91 \nQ 1019 -91 701 211 \nQ 384 513 384 1019 \nQ 384 1609 779 1909 \nQ 1175 2209 1959 2209 \nL 2766 2209 \nL 2766 2266 \nQ 2766 2663 2505 2880 \nQ 2244 3097 1772 3097 \nQ 1472 3097 1187 3025 \nQ 903 2953 641 2809 \nL 641 3341 \nQ 956 3463 1253 3523 \nQ 1550 3584 1831 3584 \nQ 2591 3584 2966 3190 \nQ 3341 2797 3341 1997 \nz\n\" transform=\"scale(0.015625)\"/>\n       <path id=\"DejaVuSans-76\" d=\"M 191 3500 \nL 800 3500 \nL 1894 563 \nL 2988 3500 \nL 3597 3500 \nL 2284 0 \nL 1503 0 \nL 191 3500 \nz\n\" transform=\"scale(0.015625)\"/>\n       <path id=\"DejaVuSans-72\" d=\"M 2631 2963 \nQ 2534 3019 2420 3045 \nQ 2306 3072 2169 3072 \nQ 1681 3072 1420 2755 \nQ 1159 2438 1159 1844 \nL 1159 0 \nL 581 0 \nL 581 3500 \nL 1159 3500 \nL 1159 2956 \nQ 1341 3275 1631 3429 \nQ 1922 3584 2338 3584 \nQ 2397 3584 2469 3576 \nQ 2541 3569 2628 3553 \nL 2631 2963 \nz\n\" transform=\"scale(0.015625)\"/>\n       <path id=\"DejaVuSans-6c\" d=\"M 603 4863 \nL 1178 4863 \nL 1178 0 \nL 603 0 \nL 603 4863 \nz\n\" transform=\"scale(0.015625)\"/>\n      </defs>\n      <use xlink:href=\"#DejaVuSans-57\"/>\n      <use xlink:href=\"#DejaVuSans-65\" x=\"93.001953\"/>\n      <use xlink:href=\"#DejaVuSans-69\" x=\"154.525391\"/>\n      <use xlink:href=\"#DejaVuSans-67\" x=\"182.308594\"/>\n      <use xlink:href=\"#DejaVuSans-68\" x=\"245.785156\"/>\n      <use xlink:href=\"#DejaVuSans-74\" x=\"309.164062\"/>\n      <use xlink:href=\"#DejaVuSans-65\" x=\"348.373047\"/>\n      <use xlink:href=\"#DejaVuSans-64\" x=\"409.896484\"/>\n      <use xlink:href=\"#DejaVuSans-20\" x=\"473.373047\"/>\n      <use xlink:href=\"#DejaVuSans-61\" x=\"505.160156\"/>\n      <use xlink:href=\"#DejaVuSans-76\" x=\"566.439453\"/>\n      <use xlink:href=\"#DejaVuSans-65\" x=\"625.619141\"/>\n      <use xlink:href=\"#DejaVuSans-72\" x=\"687.142578\"/>\n      <use xlink:href=\"#DejaVuSans-61\" x=\"728.255859\"/>\n      <use xlink:href=\"#DejaVuSans-67\" x=\"789.535156\"/>\n      <use xlink:href=\"#DejaVuSans-65\" x=\"853.011719\"/>\n      <use xlink:href=\"#DejaVuSans-20\" x=\"914.535156\"/>\n      <use xlink:href=\"#DejaVuSans-6c\" x=\"946.322266\"/>\n      <use xlink:href=\"#DejaVuSans-6f\" x=\"974.105469\"/>\n      <use xlink:href=\"#DejaVuSans-73\" x=\"1035.287109\"/>\n      <use xlink:href=\"#DejaVuSans-73\" x=\"1087.386719\"/>\n     </g>\n    </g>\n   </g>\n   <g id=\"line2d_31\">\n    <path d=\"M 80.580114 42.085398 \nL 384.94375 366.592034 \nL 689.307386 437.430852 \n\" clip-path=\"url(#pd83c086792)\" style=\"fill: none; stroke: #1f77b4; stroke-width: 1.5; stroke-linecap: square\"/>\n   </g>\n   <g id=\"patch_3\">\n    <path d=\"M 50.14375 457.198125 \nL 50.14375 22.318125 \n\" style=\"fill: none; stroke: #000000; stroke-width: 0.8; stroke-linejoin: miter; stroke-linecap: square\"/>\n   </g>\n   <g id=\"patch_4\">\n    <path d=\"M 719.74375 457.198125 \nL 719.74375 22.318125 \n\" style=\"fill: none; stroke: #000000; stroke-width: 0.8; stroke-linejoin: miter; stroke-linecap: square\"/>\n   </g>\n   <g id=\"patch_5\">\n    <path d=\"M 50.14375 457.198125 \nL 719.74375 457.198125 \n\" style=\"fill: none; stroke: #000000; stroke-width: 0.8; stroke-linejoin: miter; stroke-linecap: square\"/>\n   </g>\n   <g id=\"patch_6\">\n    <path d=\"M 50.14375 22.318125 \nL 719.74375 22.318125 \n\" style=\"fill: none; stroke: #000000; stroke-width: 0.8; stroke-linejoin: miter; stroke-linecap: square\"/>\n   </g>\n   <g id=\"text_18\">\n    <!-- transformer &lt;model_demo&gt; training loss -->\n    <g transform=\"translate(260.063125 16.318125)scale(0.12 -0.12)\">\n     <defs>\n      <path id=\"DejaVuSans-6e\" d=\"M 3513 2113 \nL 3513 0 \nL 2938 0 \nL 2938 2094 \nQ 2938 2591 2744 2837 \nQ 2550 3084 2163 3084 \nQ 1697 3084 1428 2787 \nQ 1159 2491 1159 1978 \nL 1159 0 \nL 581 0 \nL 581 3500 \nL 1159 3500 \nL 1159 2956 \nQ 1366 3272 1645 3428 \nQ 1925 3584 2291 3584 \nQ 2894 3584 3203 3211 \nQ 3513 2838 3513 2113 \nz\n\" transform=\"scale(0.015625)\"/>\n      <path id=\"DejaVuSans-66\" d=\"M 2375 4863 \nL 2375 4384 \nL 1825 4384 \nQ 1516 4384 1395 4259 \nQ 1275 4134 1275 3809 \nL 1275 3500 \nL 2222 3500 \nL 2222 3053 \nL 1275 3053 \nL 1275 0 \nL 697 0 \nL 697 3053 \nL 147 3053 \nL 147 3500 \nL 697 3500 \nL 697 3744 \nQ 697 4328 969 4595 \nQ 1241 4863 1831 4863 \nL 2375 4863 \nz\n\" transform=\"scale(0.015625)\"/>\n      <path id=\"DejaVuSans-6d\" d=\"M 3328 2828 \nQ 3544 3216 3844 3400 \nQ 4144 3584 4550 3584 \nQ 5097 3584 5394 3201 \nQ 5691 2819 5691 2113 \nL 5691 0 \nL 5113 0 \nL 5113 2094 \nQ 5113 2597 4934 2840 \nQ 4756 3084 4391 3084 \nQ 3944 3084 3684 2787 \nQ 3425 2491 3425 1978 \nL 3425 0 \nL 2847 0 \nL 2847 2094 \nQ 2847 2600 2669 2842 \nQ 2491 3084 2119 3084 \nQ 1678 3084 1418 2786 \nQ 1159 2488 1159 1978 \nL 1159 0 \nL 581 0 \nL 581 3500 \nL 1159 3500 \nL 1159 2956 \nQ 1356 3278 1631 3431 \nQ 1906 3584 2284 3584 \nQ 2666 3584 2933 3390 \nQ 3200 3197 3328 2828 \nz\n\" transform=\"scale(0.015625)\"/>\n      <path id=\"DejaVuSans-3c\" d=\"M 4684 3150 \nL 1459 2003 \nL 4684 863 \nL 4684 294 \nL 678 1747 \nL 678 2266 \nL 4684 3719 \nL 4684 3150 \nz\n\" transform=\"scale(0.015625)\"/>\n      <path id=\"DejaVuSans-5f\" d=\"M 3263 -1063 \nL 3263 -1509 \nL -63 -1509 \nL -63 -1063 \nL 3263 -1063 \nz\n\" transform=\"scale(0.015625)\"/>\n      <path id=\"DejaVuSans-3e\" d=\"M 678 3150 \nL 678 3719 \nL 4684 2266 \nL 4684 1747 \nL 678 294 \nL 678 863 \nL 3897 2003 \nL 678 3150 \nz\n\" transform=\"scale(0.015625)\"/>\n     </defs>\n     <use xlink:href=\"#DejaVuSans-74\"/>\n     <use xlink:href=\"#DejaVuSans-72\" x=\"39.208984\"/>\n     <use xlink:href=\"#DejaVuSans-61\" x=\"80.322266\"/>\n     <use xlink:href=\"#DejaVuSans-6e\" x=\"141.601562\"/>\n     <use xlink:href=\"#DejaVuSans-73\" x=\"204.980469\"/>\n     <use xlink:href=\"#DejaVuSans-66\" x=\"257.080078\"/>\n     <use xlink:href=\"#DejaVuSans-6f\" x=\"292.285156\"/>\n     <use xlink:href=\"#DejaVuSans-72\" x=\"353.466797\"/>\n     <use xlink:href=\"#DejaVuSans-6d\" x=\"392.830078\"/>\n     <use xlink:href=\"#DejaVuSans-65\" x=\"490.242188\"/>\n     <use xlink:href=\"#DejaVuSans-72\" x=\"551.765625\"/>\n     <use xlink:href=\"#DejaVuSans-20\" x=\"592.878906\"/>\n     <use xlink:href=\"#DejaVuSans-3c\" x=\"624.666016\"/>\n     <use xlink:href=\"#DejaVuSans-6d\" x=\"708.455078\"/>\n     <use xlink:href=\"#DejaVuSans-6f\" x=\"805.867188\"/>\n     <use xlink:href=\"#DejaVuSans-64\" x=\"867.048828\"/>\n     <use xlink:href=\"#DejaVuSans-65\" x=\"930.525391\"/>\n     <use xlink:href=\"#DejaVuSans-6c\" x=\"992.048828\"/>\n     <use xlink:href=\"#DejaVuSans-5f\" x=\"1019.832031\"/>\n     <use xlink:href=\"#DejaVuSans-64\" x=\"1069.832031\"/>\n     <use xlink:href=\"#DejaVuSans-65\" x=\"1133.308594\"/>\n     <use xlink:href=\"#DejaVuSans-6d\" x=\"1194.832031\"/>\n     <use xlink:href=\"#DejaVuSans-6f\" x=\"1292.244141\"/>\n     <use xlink:href=\"#DejaVuSans-3e\" x=\"1353.425781\"/>\n     <use xlink:href=\"#DejaVuSans-20\" x=\"1437.214844\"/>\n     <use xlink:href=\"#DejaVuSans-74\" x=\"1469.001953\"/>\n     <use xlink:href=\"#DejaVuSans-72\" x=\"1508.210938\"/>\n     <use xlink:href=\"#DejaVuSans-61\" x=\"1549.324219\"/>\n     <use xlink:href=\"#DejaVuSans-69\" x=\"1610.603516\"/>\n     <use xlink:href=\"#DejaVuSans-6e\" x=\"1638.386719\"/>\n     <use xlink:href=\"#DejaVuSans-69\" x=\"1701.765625\"/>\n     <use xlink:href=\"#DejaVuSans-6e\" x=\"1729.548828\"/>\n     <use xlink:href=\"#DejaVuSans-67\" x=\"1792.927734\"/>\n     <use xlink:href=\"#DejaVuSans-20\" x=\"1856.404297\"/>\n     <use xlink:href=\"#DejaVuSans-6c\" x=\"1888.191406\"/>\n     <use xlink:href=\"#DejaVuSans-6f\" x=\"1915.974609\"/>\n     <use xlink:href=\"#DejaVuSans-73\" x=\"1977.15625\"/>\n     <use xlink:href=\"#DejaVuSans-73\" x=\"2029.255859\"/>\n    </g>\n   </g>\n   <g id=\"legend_1\">\n    <g id=\"patch_7\">\n     <path d=\"M 564.270313 45.274375 \nL 712.74375 45.274375 \nQ 714.74375 45.274375 714.74375 43.274375 \nL 714.74375 29.318125 \nQ 714.74375 27.318125 712.74375 27.318125 \nL 564.270313 27.318125 \nQ 562.270313 27.318125 562.270313 29.318125 \nL 562.270313 43.274375 \nQ 562.270313 45.274375 564.270313 45.274375 \nz\n\" style=\"fill: #ffffff; opacity: 0.8; stroke: #cccccc; stroke-linejoin: miter\"/>\n    </g>\n    <g id=\"line2d_32\">\n     <path d=\"M 566.270313 35.416562 \nL 576.270313 35.416562 \nL 586.270313 35.416562 \n\" style=\"fill: none; stroke: #1f77b4; stroke-width: 1.5; stroke-linecap: square\"/>\n    </g>\n    <g id=\"text_19\">\n     <!-- weighted_average_loss -->\n     <g transform=\"translate(594.270313 38.916562)scale(0.1 -0.1)\">\n      <defs>\n       <path id=\"DejaVuSans-77\" d=\"M 269 3500 \nL 844 3500 \nL 1563 769 \nL 2278 3500 \nL 2956 3500 \nL 3675 769 \nL 4391 3500 \nL 4966 3500 \nL 4050 0 \nL 3372 0 \nL 2619 2869 \nL 1863 0 \nL 1184 0 \nL 269 3500 \nz\n\" transform=\"scale(0.015625)\"/>\n      </defs>\n      <use xlink:href=\"#DejaVuSans-77\"/>\n      <use xlink:href=\"#DejaVuSans-65\" x=\"81.787109\"/>\n      <use xlink:href=\"#DejaVuSans-69\" x=\"143.310547\"/>\n      <use xlink:href=\"#DejaVuSans-67\" x=\"171.09375\"/>\n      <use xlink:href=\"#DejaVuSans-68\" x=\"234.570312\"/>\n      <use xlink:href=\"#DejaVuSans-74\" x=\"297.949219\"/>\n      <use xlink:href=\"#DejaVuSans-65\" x=\"337.158203\"/>\n      <use xlink:href=\"#DejaVuSans-64\" x=\"398.681641\"/>\n      <use xlink:href=\"#DejaVuSans-5f\" x=\"462.158203\"/>\n      <use xlink:href=\"#DejaVuSans-61\" x=\"512.158203\"/>\n      <use xlink:href=\"#DejaVuSans-76\" x=\"573.4375\"/>\n      <use xlink:href=\"#DejaVuSans-65\" x=\"632.617188\"/>\n      <use xlink:href=\"#DejaVuSans-72\" x=\"694.140625\"/>\n      <use xlink:href=\"#DejaVuSans-61\" x=\"735.253906\"/>\n      <use xlink:href=\"#DejaVuSans-67\" x=\"796.533203\"/>\n      <use xlink:href=\"#DejaVuSans-65\" x=\"860.009766\"/>\n      <use xlink:href=\"#DejaVuSans-5f\" x=\"921.533203\"/>\n      <use xlink:href=\"#DejaVuSans-6c\" x=\"971.533203\"/>\n      <use xlink:href=\"#DejaVuSans-6f\" x=\"999.316406\"/>\n      <use xlink:href=\"#DejaVuSans-73\" x=\"1060.498047\"/>\n      <use xlink:href=\"#DejaVuSans-73\" x=\"1112.597656\"/>\n     </g>\n    </g>\n   </g>\n  </g>\n </g>\n <defs>\n  <clipPath id=\"pd83c086792\">\n   <rect x=\"50.14375\" y=\"22.318125\" width=\"669.6\" height=\"434.88\"/>\n  </clipPath>\n </defs>\n</svg>\n",
      "text/plain": [
       "<Figure size 864x576 with 1 Axes>"
      ]
     },
     "metadata": {},
     "output_type": "display_data"
    },
    {
     "data": {
      "image/svg+xml": "<?xml version=\"1.0\" encoding=\"utf-8\" standalone=\"no\"?>\n<!DOCTYPE svg PUBLIC \"-//W3C//DTD SVG 1.1//EN\"\n  \"http://www.w3.org/Graphics/SVG/1.1/DTD/svg11.dtd\">\n<svg xmlns:xlink=\"http://www.w3.org/1999/xlink\" width=\"736.490625pt\" height=\"494.754375pt\" viewBox=\"0 0 736.490625 494.754375\" xmlns=\"http://www.w3.org/2000/svg\" version=\"1.1\">\n <metadata>\n  <rdf:RDF xmlns:dc=\"http://purl.org/dc/elements/1.1/\" xmlns:cc=\"http://creativecommons.org/ns#\" xmlns:rdf=\"http://www.w3.org/1999/02/22-rdf-syntax-ns#\">\n   <cc:Work>\n    <dc:type rdf:resource=\"http://purl.org/dc/dcmitype/StillImage\"/>\n    <dc:date>2022-07-15T15:51:07.568600</dc:date>\n    <dc:format>image/svg+xml</dc:format>\n    <dc:creator>\n     <cc:Agent>\n      <dc:title>Matplotlib v3.5.2, https://matplotlib.org/</dc:title>\n     </cc:Agent>\n    </dc:creator>\n   </cc:Work>\n  </rdf:RDF>\n </metadata>\n <defs>\n  <style type=\"text/css\">*{stroke-linejoin: round; stroke-linecap: butt}</style>\n </defs>\n <g id=\"figure_1\">\n  <g id=\"patch_1\">\n   <path d=\"M 0 494.754375 \nL 736.490625 494.754375 \nL 736.490625 0 \nL 0 0 \nz\n\" style=\"fill: #ffffff\"/>\n  </g>\n  <g id=\"axes_1\">\n   <g id=\"patch_2\">\n    <path d=\"M 59.690625 457.198125 \nL 729.290625 457.198125 \nL 729.290625 22.318125 \nL 59.690625 22.318125 \nz\n\" style=\"fill: #ffffff\"/>\n   </g>\n   <g id=\"matplotlib.axis_1\">\n    <g id=\"xtick_1\">\n     <g id=\"line2d_1\">\n      <path d=\"M 90.126989 457.198125 \nL 90.126989 22.318125 \n\" clip-path=\"url(#p7c04271152)\" style=\"fill: none; stroke: #b0b0b0; stroke-width: 0.8; stroke-linecap: square\"/>\n     </g>\n     <g id=\"line2d_2\">\n      <defs>\n       <path id=\"m7ea190433b\" d=\"M 0 0 \nL 0 3.5 \n\" style=\"stroke: #000000; stroke-width: 0.8\"/>\n      </defs>\n      <g>\n       <use xlink:href=\"#m7ea190433b\" x=\"90.126989\" y=\"457.198125\" style=\"stroke: #000000; stroke-width: 0.8\"/>\n      </g>\n     </g>\n     <g id=\"text_1\">\n      <!-- 1.00 -->\n      <g transform=\"translate(78.994176 471.796562)scale(0.1 -0.1)\">\n       <defs>\n        <path id=\"DejaVuSans-31\" d=\"M 794 531 \nL 1825 531 \nL 1825 4091 \nL 703 3866 \nL 703 4441 \nL 1819 4666 \nL 2450 4666 \nL 2450 531 \nL 3481 531 \nL 3481 0 \nL 794 0 \nL 794 531 \nz\n\" transform=\"scale(0.015625)\"/>\n        <path id=\"DejaVuSans-2e\" d=\"M 684 794 \nL 1344 794 \nL 1344 0 \nL 684 0 \nL 684 794 \nz\n\" transform=\"scale(0.015625)\"/>\n        <path id=\"DejaVuSans-30\" d=\"M 2034 4250 \nQ 1547 4250 1301 3770 \nQ 1056 3291 1056 2328 \nQ 1056 1369 1301 889 \nQ 1547 409 2034 409 \nQ 2525 409 2770 889 \nQ 3016 1369 3016 2328 \nQ 3016 3291 2770 3770 \nQ 2525 4250 2034 4250 \nz\nM 2034 4750 \nQ 2819 4750 3233 4129 \nQ 3647 3509 3647 2328 \nQ 3647 1150 3233 529 \nQ 2819 -91 2034 -91 \nQ 1250 -91 836 529 \nQ 422 1150 422 2328 \nQ 422 3509 836 4129 \nQ 1250 4750 2034 4750 \nz\n\" transform=\"scale(0.015625)\"/>\n       </defs>\n       <use xlink:href=\"#DejaVuSans-31\"/>\n       <use xlink:href=\"#DejaVuSans-2e\" x=\"63.623047\"/>\n       <use xlink:href=\"#DejaVuSans-30\" x=\"95.410156\"/>\n       <use xlink:href=\"#DejaVuSans-30\" x=\"159.033203\"/>\n      </g>\n     </g>\n    </g>\n    <g id=\"xtick_2\">\n     <g id=\"line2d_3\">\n      <path d=\"M 166.217898 457.198125 \nL 166.217898 22.318125 \n\" clip-path=\"url(#p7c04271152)\" style=\"fill: none; stroke: #b0b0b0; stroke-width: 0.8; stroke-linecap: square\"/>\n     </g>\n     <g id=\"line2d_4\">\n      <g>\n       <use xlink:href=\"#m7ea190433b\" x=\"166.217898\" y=\"457.198125\" style=\"stroke: #000000; stroke-width: 0.8\"/>\n      </g>\n     </g>\n     <g id=\"text_2\">\n      <!-- 1.25 -->\n      <g transform=\"translate(155.085085 471.796562)scale(0.1 -0.1)\">\n       <defs>\n        <path id=\"DejaVuSans-32\" d=\"M 1228 531 \nL 3431 531 \nL 3431 0 \nL 469 0 \nL 469 531 \nQ 828 903 1448 1529 \nQ 2069 2156 2228 2338 \nQ 2531 2678 2651 2914 \nQ 2772 3150 2772 3378 \nQ 2772 3750 2511 3984 \nQ 2250 4219 1831 4219 \nQ 1534 4219 1204 4116 \nQ 875 4013 500 3803 \nL 500 4441 \nQ 881 4594 1212 4672 \nQ 1544 4750 1819 4750 \nQ 2544 4750 2975 4387 \nQ 3406 4025 3406 3419 \nQ 3406 3131 3298 2873 \nQ 3191 2616 2906 2266 \nQ 2828 2175 2409 1742 \nQ 1991 1309 1228 531 \nz\n\" transform=\"scale(0.015625)\"/>\n        <path id=\"DejaVuSans-35\" d=\"M 691 4666 \nL 3169 4666 \nL 3169 4134 \nL 1269 4134 \nL 1269 2991 \nQ 1406 3038 1543 3061 \nQ 1681 3084 1819 3084 \nQ 2600 3084 3056 2656 \nQ 3513 2228 3513 1497 \nQ 3513 744 3044 326 \nQ 2575 -91 1722 -91 \nQ 1428 -91 1123 -41 \nQ 819 9 494 109 \nL 494 744 \nQ 775 591 1075 516 \nQ 1375 441 1709 441 \nQ 2250 441 2565 725 \nQ 2881 1009 2881 1497 \nQ 2881 1984 2565 2268 \nQ 2250 2553 1709 2553 \nQ 1456 2553 1204 2497 \nQ 953 2441 691 2322 \nL 691 4666 \nz\n\" transform=\"scale(0.015625)\"/>\n       </defs>\n       <use xlink:href=\"#DejaVuSans-31\"/>\n       <use xlink:href=\"#DejaVuSans-2e\" x=\"63.623047\"/>\n       <use xlink:href=\"#DejaVuSans-32\" x=\"95.410156\"/>\n       <use xlink:href=\"#DejaVuSans-35\" x=\"159.033203\"/>\n      </g>\n     </g>\n    </g>\n    <g id=\"xtick_3\">\n     <g id=\"line2d_5\">\n      <path d=\"M 242.308807 457.198125 \nL 242.308807 22.318125 \n\" clip-path=\"url(#p7c04271152)\" style=\"fill: none; stroke: #b0b0b0; stroke-width: 0.8; stroke-linecap: square\"/>\n     </g>\n     <g id=\"line2d_6\">\n      <g>\n       <use xlink:href=\"#m7ea190433b\" x=\"242.308807\" y=\"457.198125\" style=\"stroke: #000000; stroke-width: 0.8\"/>\n      </g>\n     </g>\n     <g id=\"text_3\">\n      <!-- 1.50 -->\n      <g transform=\"translate(231.175994 471.796562)scale(0.1 -0.1)\">\n       <use xlink:href=\"#DejaVuSans-31\"/>\n       <use xlink:href=\"#DejaVuSans-2e\" x=\"63.623047\"/>\n       <use xlink:href=\"#DejaVuSans-35\" x=\"95.410156\"/>\n       <use xlink:href=\"#DejaVuSans-30\" x=\"159.033203\"/>\n      </g>\n     </g>\n    </g>\n    <g id=\"xtick_4\">\n     <g id=\"line2d_7\">\n      <path d=\"M 318.399716 457.198125 \nL 318.399716 22.318125 \n\" clip-path=\"url(#p7c04271152)\" style=\"fill: none; stroke: #b0b0b0; stroke-width: 0.8; stroke-linecap: square\"/>\n     </g>\n     <g id=\"line2d_8\">\n      <g>\n       <use xlink:href=\"#m7ea190433b\" x=\"318.399716\" y=\"457.198125\" style=\"stroke: #000000; stroke-width: 0.8\"/>\n      </g>\n     </g>\n     <g id=\"text_4\">\n      <!-- 1.75 -->\n      <g transform=\"translate(307.266903 471.796562)scale(0.1 -0.1)\">\n       <defs>\n        <path id=\"DejaVuSans-37\" d=\"M 525 4666 \nL 3525 4666 \nL 3525 4397 \nL 1831 0 \nL 1172 0 \nL 2766 4134 \nL 525 4134 \nL 525 4666 \nz\n\" transform=\"scale(0.015625)\"/>\n       </defs>\n       <use xlink:href=\"#DejaVuSans-31\"/>\n       <use xlink:href=\"#DejaVuSans-2e\" x=\"63.623047\"/>\n       <use xlink:href=\"#DejaVuSans-37\" x=\"95.410156\"/>\n       <use xlink:href=\"#DejaVuSans-35\" x=\"159.033203\"/>\n      </g>\n     </g>\n    </g>\n    <g id=\"xtick_5\">\n     <g id=\"line2d_9\">\n      <path d=\"M 394.490625 457.198125 \nL 394.490625 22.318125 \n\" clip-path=\"url(#p7c04271152)\" style=\"fill: none; stroke: #b0b0b0; stroke-width: 0.8; stroke-linecap: square\"/>\n     </g>\n     <g id=\"line2d_10\">\n      <g>\n       <use xlink:href=\"#m7ea190433b\" x=\"394.490625\" y=\"457.198125\" style=\"stroke: #000000; stroke-width: 0.8\"/>\n      </g>\n     </g>\n     <g id=\"text_5\">\n      <!-- 2.00 -->\n      <g transform=\"translate(383.357813 471.796562)scale(0.1 -0.1)\">\n       <use xlink:href=\"#DejaVuSans-32\"/>\n       <use xlink:href=\"#DejaVuSans-2e\" x=\"63.623047\"/>\n       <use xlink:href=\"#DejaVuSans-30\" x=\"95.410156\"/>\n       <use xlink:href=\"#DejaVuSans-30\" x=\"159.033203\"/>\n      </g>\n     </g>\n    </g>\n    <g id=\"xtick_6\">\n     <g id=\"line2d_11\">\n      <path d=\"M 470.581534 457.198125 \nL 470.581534 22.318125 \n\" clip-path=\"url(#p7c04271152)\" style=\"fill: none; stroke: #b0b0b0; stroke-width: 0.8; stroke-linecap: square\"/>\n     </g>\n     <g id=\"line2d_12\">\n      <g>\n       <use xlink:href=\"#m7ea190433b\" x=\"470.581534\" y=\"457.198125\" style=\"stroke: #000000; stroke-width: 0.8\"/>\n      </g>\n     </g>\n     <g id=\"text_6\">\n      <!-- 2.25 -->\n      <g transform=\"translate(459.448722 471.796562)scale(0.1 -0.1)\">\n       <use xlink:href=\"#DejaVuSans-32\"/>\n       <use xlink:href=\"#DejaVuSans-2e\" x=\"63.623047\"/>\n       <use xlink:href=\"#DejaVuSans-32\" x=\"95.410156\"/>\n       <use xlink:href=\"#DejaVuSans-35\" x=\"159.033203\"/>\n      </g>\n     </g>\n    </g>\n    <g id=\"xtick_7\">\n     <g id=\"line2d_13\">\n      <path d=\"M 546.672443 457.198125 \nL 546.672443 22.318125 \n\" clip-path=\"url(#p7c04271152)\" style=\"fill: none; stroke: #b0b0b0; stroke-width: 0.8; stroke-linecap: square\"/>\n     </g>\n     <g id=\"line2d_14\">\n      <g>\n       <use xlink:href=\"#m7ea190433b\" x=\"546.672443\" y=\"457.198125\" style=\"stroke: #000000; stroke-width: 0.8\"/>\n      </g>\n     </g>\n     <g id=\"text_7\">\n      <!-- 2.50 -->\n      <g transform=\"translate(535.539631 471.796562)scale(0.1 -0.1)\">\n       <use xlink:href=\"#DejaVuSans-32\"/>\n       <use xlink:href=\"#DejaVuSans-2e\" x=\"63.623047\"/>\n       <use xlink:href=\"#DejaVuSans-35\" x=\"95.410156\"/>\n       <use xlink:href=\"#DejaVuSans-30\" x=\"159.033203\"/>\n      </g>\n     </g>\n    </g>\n    <g id=\"xtick_8\">\n     <g id=\"line2d_15\">\n      <path d=\"M 622.763352 457.198125 \nL 622.763352 22.318125 \n\" clip-path=\"url(#p7c04271152)\" style=\"fill: none; stroke: #b0b0b0; stroke-width: 0.8; stroke-linecap: square\"/>\n     </g>\n     <g id=\"line2d_16\">\n      <g>\n       <use xlink:href=\"#m7ea190433b\" x=\"622.763352\" y=\"457.198125\" style=\"stroke: #000000; stroke-width: 0.8\"/>\n      </g>\n     </g>\n     <g id=\"text_8\">\n      <!-- 2.75 -->\n      <g transform=\"translate(611.63054 471.796562)scale(0.1 -0.1)\">\n       <use xlink:href=\"#DejaVuSans-32\"/>\n       <use xlink:href=\"#DejaVuSans-2e\" x=\"63.623047\"/>\n       <use xlink:href=\"#DejaVuSans-37\" x=\"95.410156\"/>\n       <use xlink:href=\"#DejaVuSans-35\" x=\"159.033203\"/>\n      </g>\n     </g>\n    </g>\n    <g id=\"xtick_9\">\n     <g id=\"line2d_17\">\n      <path d=\"M 698.854261 457.198125 \nL 698.854261 22.318125 \n\" clip-path=\"url(#p7c04271152)\" style=\"fill: none; stroke: #b0b0b0; stroke-width: 0.8; stroke-linecap: square\"/>\n     </g>\n     <g id=\"line2d_18\">\n      <g>\n       <use xlink:href=\"#m7ea190433b\" x=\"698.854261\" y=\"457.198125\" style=\"stroke: #000000; stroke-width: 0.8\"/>\n      </g>\n     </g>\n     <g id=\"text_9\">\n      <!-- 3.00 -->\n      <g transform=\"translate(687.721449 471.796562)scale(0.1 -0.1)\">\n       <defs>\n        <path id=\"DejaVuSans-33\" d=\"M 2597 2516 \nQ 3050 2419 3304 2112 \nQ 3559 1806 3559 1356 \nQ 3559 666 3084 287 \nQ 2609 -91 1734 -91 \nQ 1441 -91 1130 -33 \nQ 819 25 488 141 \nL 488 750 \nQ 750 597 1062 519 \nQ 1375 441 1716 441 \nQ 2309 441 2620 675 \nQ 2931 909 2931 1356 \nQ 2931 1769 2642 2001 \nQ 2353 2234 1838 2234 \nL 1294 2234 \nL 1294 2753 \nL 1863 2753 \nQ 2328 2753 2575 2939 \nQ 2822 3125 2822 3475 \nQ 2822 3834 2567 4026 \nQ 2313 4219 1838 4219 \nQ 1578 4219 1281 4162 \nQ 984 4106 628 3988 \nL 628 4550 \nQ 988 4650 1302 4700 \nQ 1616 4750 1894 4750 \nQ 2613 4750 3031 4423 \nQ 3450 4097 3450 3541 \nQ 3450 3153 3228 2886 \nQ 3006 2619 2597 2516 \nz\n\" transform=\"scale(0.015625)\"/>\n       </defs>\n       <use xlink:href=\"#DejaVuSans-33\"/>\n       <use xlink:href=\"#DejaVuSans-2e\" x=\"63.623047\"/>\n       <use xlink:href=\"#DejaVuSans-30\" x=\"95.410156\"/>\n       <use xlink:href=\"#DejaVuSans-30\" x=\"159.033203\"/>\n      </g>\n     </g>\n    </g>\n    <g id=\"text_10\">\n     <!-- Epochs -->\n     <g transform=\"translate(376.575 485.474687)scale(0.1 -0.1)\">\n      <defs>\n       <path id=\"DejaVuSans-45\" d=\"M 628 4666 \nL 3578 4666 \nL 3578 4134 \nL 1259 4134 \nL 1259 2753 \nL 3481 2753 \nL 3481 2222 \nL 1259 2222 \nL 1259 531 \nL 3634 531 \nL 3634 0 \nL 628 0 \nL 628 4666 \nz\n\" transform=\"scale(0.015625)\"/>\n       <path id=\"DejaVuSans-70\" d=\"M 1159 525 \nL 1159 -1331 \nL 581 -1331 \nL 581 3500 \nL 1159 3500 \nL 1159 2969 \nQ 1341 3281 1617 3432 \nQ 1894 3584 2278 3584 \nQ 2916 3584 3314 3078 \nQ 3713 2572 3713 1747 \nQ 3713 922 3314 415 \nQ 2916 -91 2278 -91 \nQ 1894 -91 1617 61 \nQ 1341 213 1159 525 \nz\nM 3116 1747 \nQ 3116 2381 2855 2742 \nQ 2594 3103 2138 3103 \nQ 1681 3103 1420 2742 \nQ 1159 2381 1159 1747 \nQ 1159 1113 1420 752 \nQ 1681 391 2138 391 \nQ 2594 391 2855 752 \nQ 3116 1113 3116 1747 \nz\n\" transform=\"scale(0.015625)\"/>\n       <path id=\"DejaVuSans-6f\" d=\"M 1959 3097 \nQ 1497 3097 1228 2736 \nQ 959 2375 959 1747 \nQ 959 1119 1226 758 \nQ 1494 397 1959 397 \nQ 2419 397 2687 759 \nQ 2956 1122 2956 1747 \nQ 2956 2369 2687 2733 \nQ 2419 3097 1959 3097 \nz\nM 1959 3584 \nQ 2709 3584 3137 3096 \nQ 3566 2609 3566 1747 \nQ 3566 888 3137 398 \nQ 2709 -91 1959 -91 \nQ 1206 -91 779 398 \nQ 353 888 353 1747 \nQ 353 2609 779 3096 \nQ 1206 3584 1959 3584 \nz\n\" transform=\"scale(0.015625)\"/>\n       <path id=\"DejaVuSans-63\" d=\"M 3122 3366 \nL 3122 2828 \nQ 2878 2963 2633 3030 \nQ 2388 3097 2138 3097 \nQ 1578 3097 1268 2742 \nQ 959 2388 959 1747 \nQ 959 1106 1268 751 \nQ 1578 397 2138 397 \nQ 2388 397 2633 464 \nQ 2878 531 3122 666 \nL 3122 134 \nQ 2881 22 2623 -34 \nQ 2366 -91 2075 -91 \nQ 1284 -91 818 406 \nQ 353 903 353 1747 \nQ 353 2603 823 3093 \nQ 1294 3584 2113 3584 \nQ 2378 3584 2631 3529 \nQ 2884 3475 3122 3366 \nz\n\" transform=\"scale(0.015625)\"/>\n       <path id=\"DejaVuSans-68\" d=\"M 3513 2113 \nL 3513 0 \nL 2938 0 \nL 2938 2094 \nQ 2938 2591 2744 2837 \nQ 2550 3084 2163 3084 \nQ 1697 3084 1428 2787 \nQ 1159 2491 1159 1978 \nL 1159 0 \nL 581 0 \nL 581 4863 \nL 1159 4863 \nL 1159 2956 \nQ 1366 3272 1645 3428 \nQ 1925 3584 2291 3584 \nQ 2894 3584 3203 3211 \nQ 3513 2838 3513 2113 \nz\n\" transform=\"scale(0.015625)\"/>\n       <path id=\"DejaVuSans-73\" d=\"M 2834 3397 \nL 2834 2853 \nQ 2591 2978 2328 3040 \nQ 2066 3103 1784 3103 \nQ 1356 3103 1142 2972 \nQ 928 2841 928 2578 \nQ 928 2378 1081 2264 \nQ 1234 2150 1697 2047 \nL 1894 2003 \nQ 2506 1872 2764 1633 \nQ 3022 1394 3022 966 \nQ 3022 478 2636 193 \nQ 2250 -91 1575 -91 \nQ 1294 -91 989 -36 \nQ 684 19 347 128 \nL 347 722 \nQ 666 556 975 473 \nQ 1284 391 1588 391 \nQ 1994 391 2212 530 \nQ 2431 669 2431 922 \nQ 2431 1156 2273 1281 \nQ 2116 1406 1581 1522 \nL 1381 1569 \nQ 847 1681 609 1914 \nQ 372 2147 372 2553 \nQ 372 3047 722 3315 \nQ 1072 3584 1716 3584 \nQ 2034 3584 2315 3537 \nQ 2597 3491 2834 3397 \nz\n\" transform=\"scale(0.015625)\"/>\n      </defs>\n      <use xlink:href=\"#DejaVuSans-45\"/>\n      <use xlink:href=\"#DejaVuSans-70\" x=\"63.183594\"/>\n      <use xlink:href=\"#DejaVuSans-6f\" x=\"126.660156\"/>\n      <use xlink:href=\"#DejaVuSans-63\" x=\"187.841797\"/>\n      <use xlink:href=\"#DejaVuSans-68\" x=\"242.822266\"/>\n      <use xlink:href=\"#DejaVuSans-73\" x=\"306.201172\"/>\n     </g>\n    </g>\n   </g>\n   <g id=\"matplotlib.axis_2\">\n    <g id=\"ytick_1\">\n     <g id=\"line2d_19\">\n      <path d=\"M 59.690625 420.195083 \nL 729.290625 420.195083 \n\" clip-path=\"url(#p7c04271152)\" style=\"fill: none; stroke: #b0b0b0; stroke-width: 0.8; stroke-linecap: square\"/>\n     </g>\n     <g id=\"line2d_20\">\n      <defs>\n       <path id=\"md408a2e3b7\" d=\"M 0 0 \nL -3.5 0 \n\" style=\"stroke: #000000; stroke-width: 0.8\"/>\n      </defs>\n      <g>\n       <use xlink:href=\"#md408a2e3b7\" x=\"59.690625\" y=\"420.195083\" style=\"stroke: #000000; stroke-width: 0.8\"/>\n      </g>\n     </g>\n     <g id=\"text_11\">\n      <!-- 34900 -->\n      <g transform=\"translate(20.878125 423.994302)scale(0.1 -0.1)\">\n       <defs>\n        <path id=\"DejaVuSans-34\" d=\"M 2419 4116 \nL 825 1625 \nL 2419 1625 \nL 2419 4116 \nz\nM 2253 4666 \nL 3047 4666 \nL 3047 1625 \nL 3713 1625 \nL 3713 1100 \nL 3047 1100 \nL 3047 0 \nL 2419 0 \nL 2419 1100 \nL 313 1100 \nL 313 1709 \nL 2253 4666 \nz\n\" transform=\"scale(0.015625)\"/>\n        <path id=\"DejaVuSans-39\" d=\"M 703 97 \nL 703 672 \nQ 941 559 1184 500 \nQ 1428 441 1663 441 \nQ 2288 441 2617 861 \nQ 2947 1281 2994 2138 \nQ 2813 1869 2534 1725 \nQ 2256 1581 1919 1581 \nQ 1219 1581 811 2004 \nQ 403 2428 403 3163 \nQ 403 3881 828 4315 \nQ 1253 4750 1959 4750 \nQ 2769 4750 3195 4129 \nQ 3622 3509 3622 2328 \nQ 3622 1225 3098 567 \nQ 2575 -91 1691 -91 \nQ 1453 -91 1209 -44 \nQ 966 3 703 97 \nz\nM 1959 2075 \nQ 2384 2075 2632 2365 \nQ 2881 2656 2881 3163 \nQ 2881 3666 2632 3958 \nQ 2384 4250 1959 4250 \nQ 1534 4250 1286 3958 \nQ 1038 3666 1038 3163 \nQ 1038 2656 1286 2365 \nQ 1534 2075 1959 2075 \nz\n\" transform=\"scale(0.015625)\"/>\n       </defs>\n       <use xlink:href=\"#DejaVuSans-33\"/>\n       <use xlink:href=\"#DejaVuSans-34\" x=\"63.623047\"/>\n       <use xlink:href=\"#DejaVuSans-39\" x=\"127.246094\"/>\n       <use xlink:href=\"#DejaVuSans-30\" x=\"190.869141\"/>\n       <use xlink:href=\"#DejaVuSans-30\" x=\"254.492188\"/>\n      </g>\n     </g>\n    </g>\n    <g id=\"ytick_2\">\n     <g id=\"line2d_21\">\n      <path d=\"M 59.690625 366.333305 \nL 729.290625 366.333305 \n\" clip-path=\"url(#p7c04271152)\" style=\"fill: none; stroke: #b0b0b0; stroke-width: 0.8; stroke-linecap: square\"/>\n     </g>\n     <g id=\"line2d_22\">\n      <g>\n       <use xlink:href=\"#md408a2e3b7\" x=\"59.690625\" y=\"366.333305\" style=\"stroke: #000000; stroke-width: 0.8\"/>\n      </g>\n     </g>\n     <g id=\"text_12\">\n      <!-- 34950 -->\n      <g transform=\"translate(20.878125 370.132523)scale(0.1 -0.1)\">\n       <use xlink:href=\"#DejaVuSans-33\"/>\n       <use xlink:href=\"#DejaVuSans-34\" x=\"63.623047\"/>\n       <use xlink:href=\"#DejaVuSans-39\" x=\"127.246094\"/>\n       <use xlink:href=\"#DejaVuSans-35\" x=\"190.869141\"/>\n       <use xlink:href=\"#DejaVuSans-30\" x=\"254.492188\"/>\n      </g>\n     </g>\n    </g>\n    <g id=\"ytick_3\">\n     <g id=\"line2d_23\">\n      <path d=\"M 59.690625 312.471526 \nL 729.290625 312.471526 \n\" clip-path=\"url(#p7c04271152)\" style=\"fill: none; stroke: #b0b0b0; stroke-width: 0.8; stroke-linecap: square\"/>\n     </g>\n     <g id=\"line2d_24\">\n      <g>\n       <use xlink:href=\"#md408a2e3b7\" x=\"59.690625\" y=\"312.471526\" style=\"stroke: #000000; stroke-width: 0.8\"/>\n      </g>\n     </g>\n     <g id=\"text_13\">\n      <!-- 35000 -->\n      <g transform=\"translate(20.878125 316.270745)scale(0.1 -0.1)\">\n       <use xlink:href=\"#DejaVuSans-33\"/>\n       <use xlink:href=\"#DejaVuSans-35\" x=\"63.623047\"/>\n       <use xlink:href=\"#DejaVuSans-30\" x=\"127.246094\"/>\n       <use xlink:href=\"#DejaVuSans-30\" x=\"190.869141\"/>\n       <use xlink:href=\"#DejaVuSans-30\" x=\"254.492188\"/>\n      </g>\n     </g>\n    </g>\n    <g id=\"ytick_4\">\n     <g id=\"line2d_25\">\n      <path d=\"M 59.690625 258.609747 \nL 729.290625 258.609747 \n\" clip-path=\"url(#p7c04271152)\" style=\"fill: none; stroke: #b0b0b0; stroke-width: 0.8; stroke-linecap: square\"/>\n     </g>\n     <g id=\"line2d_26\">\n      <g>\n       <use xlink:href=\"#md408a2e3b7\" x=\"59.690625\" y=\"258.609747\" style=\"stroke: #000000; stroke-width: 0.8\"/>\n      </g>\n     </g>\n     <g id=\"text_14\">\n      <!-- 35050 -->\n      <g transform=\"translate(20.878125 262.408966)scale(0.1 -0.1)\">\n       <use xlink:href=\"#DejaVuSans-33\"/>\n       <use xlink:href=\"#DejaVuSans-35\" x=\"63.623047\"/>\n       <use xlink:href=\"#DejaVuSans-30\" x=\"127.246094\"/>\n       <use xlink:href=\"#DejaVuSans-35\" x=\"190.869141\"/>\n       <use xlink:href=\"#DejaVuSans-30\" x=\"254.492188\"/>\n      </g>\n     </g>\n    </g>\n    <g id=\"ytick_5\">\n     <g id=\"line2d_27\">\n      <path d=\"M 59.690625 204.747969 \nL 729.290625 204.747969 \n\" clip-path=\"url(#p7c04271152)\" style=\"fill: none; stroke: #b0b0b0; stroke-width: 0.8; stroke-linecap: square\"/>\n     </g>\n     <g id=\"line2d_28\">\n      <g>\n       <use xlink:href=\"#md408a2e3b7\" x=\"59.690625\" y=\"204.747969\" style=\"stroke: #000000; stroke-width: 0.8\"/>\n      </g>\n     </g>\n     <g id=\"text_15\">\n      <!-- 35100 -->\n      <g transform=\"translate(20.878125 208.547188)scale(0.1 -0.1)\">\n       <use xlink:href=\"#DejaVuSans-33\"/>\n       <use xlink:href=\"#DejaVuSans-35\" x=\"63.623047\"/>\n       <use xlink:href=\"#DejaVuSans-31\" x=\"127.246094\"/>\n       <use xlink:href=\"#DejaVuSans-30\" x=\"190.869141\"/>\n       <use xlink:href=\"#DejaVuSans-30\" x=\"254.492188\"/>\n      </g>\n     </g>\n    </g>\n    <g id=\"ytick_6\">\n     <g id=\"line2d_29\">\n      <path d=\"M 59.690625 150.88619 \nL 729.290625 150.88619 \n\" clip-path=\"url(#p7c04271152)\" style=\"fill: none; stroke: #b0b0b0; stroke-width: 0.8; stroke-linecap: square\"/>\n     </g>\n     <g id=\"line2d_30\">\n      <g>\n       <use xlink:href=\"#md408a2e3b7\" x=\"59.690625\" y=\"150.88619\" style=\"stroke: #000000; stroke-width: 0.8\"/>\n      </g>\n     </g>\n     <g id=\"text_16\">\n      <!-- 35150 -->\n      <g transform=\"translate(20.878125 154.685409)scale(0.1 -0.1)\">\n       <use xlink:href=\"#DejaVuSans-33\"/>\n       <use xlink:href=\"#DejaVuSans-35\" x=\"63.623047\"/>\n       <use xlink:href=\"#DejaVuSans-31\" x=\"127.246094\"/>\n       <use xlink:href=\"#DejaVuSans-35\" x=\"190.869141\"/>\n       <use xlink:href=\"#DejaVuSans-30\" x=\"254.492188\"/>\n      </g>\n     </g>\n    </g>\n    <g id=\"ytick_7\">\n     <g id=\"line2d_31\">\n      <path d=\"M 59.690625 97.024412 \nL 729.290625 97.024412 \n\" clip-path=\"url(#p7c04271152)\" style=\"fill: none; stroke: #b0b0b0; stroke-width: 0.8; stroke-linecap: square\"/>\n     </g>\n     <g id=\"line2d_32\">\n      <g>\n       <use xlink:href=\"#md408a2e3b7\" x=\"59.690625\" y=\"97.024412\" style=\"stroke: #000000; stroke-width: 0.8\"/>\n      </g>\n     </g>\n     <g id=\"text_17\">\n      <!-- 35200 -->\n      <g transform=\"translate(20.878125 100.823631)scale(0.1 -0.1)\">\n       <use xlink:href=\"#DejaVuSans-33\"/>\n       <use xlink:href=\"#DejaVuSans-35\" x=\"63.623047\"/>\n       <use xlink:href=\"#DejaVuSans-32\" x=\"127.246094\"/>\n       <use xlink:href=\"#DejaVuSans-30\" x=\"190.869141\"/>\n       <use xlink:href=\"#DejaVuSans-30\" x=\"254.492188\"/>\n      </g>\n     </g>\n    </g>\n    <g id=\"ytick_8\">\n     <g id=\"line2d_33\">\n      <path d=\"M 59.690625 43.162633 \nL 729.290625 43.162633 \n\" clip-path=\"url(#p7c04271152)\" style=\"fill: none; stroke: #b0b0b0; stroke-width: 0.8; stroke-linecap: square\"/>\n     </g>\n     <g id=\"line2d_34\">\n      <g>\n       <use xlink:href=\"#md408a2e3b7\" x=\"59.690625\" y=\"43.162633\" style=\"stroke: #000000; stroke-width: 0.8\"/>\n      </g>\n     </g>\n     <g id=\"text_18\">\n      <!-- 35250 -->\n      <g transform=\"translate(20.878125 46.961852)scale(0.1 -0.1)\">\n       <use xlink:href=\"#DejaVuSans-33\"/>\n       <use xlink:href=\"#DejaVuSans-35\" x=\"63.623047\"/>\n       <use xlink:href=\"#DejaVuSans-32\" x=\"127.246094\"/>\n       <use xlink:href=\"#DejaVuSans-35\" x=\"190.869141\"/>\n       <use xlink:href=\"#DejaVuSans-30\" x=\"254.492188\"/>\n      </g>\n     </g>\n    </g>\n    <g id=\"text_19\">\n     <!-- Hamming distance sum -->\n     <g transform=\"translate(14.798438 299.063594)rotate(-90)scale(0.1 -0.1)\">\n      <defs>\n       <path id=\"DejaVuSans-48\" d=\"M 628 4666 \nL 1259 4666 \nL 1259 2753 \nL 3553 2753 \nL 3553 4666 \nL 4184 4666 \nL 4184 0 \nL 3553 0 \nL 3553 2222 \nL 1259 2222 \nL 1259 0 \nL 628 0 \nL 628 4666 \nz\n\" transform=\"scale(0.015625)\"/>\n       <path id=\"DejaVuSans-61\" d=\"M 2194 1759 \nQ 1497 1759 1228 1600 \nQ 959 1441 959 1056 \nQ 959 750 1161 570 \nQ 1363 391 1709 391 \nQ 2188 391 2477 730 \nQ 2766 1069 2766 1631 \nL 2766 1759 \nL 2194 1759 \nz\nM 3341 1997 \nL 3341 0 \nL 2766 0 \nL 2766 531 \nQ 2569 213 2275 61 \nQ 1981 -91 1556 -91 \nQ 1019 -91 701 211 \nQ 384 513 384 1019 \nQ 384 1609 779 1909 \nQ 1175 2209 1959 2209 \nL 2766 2209 \nL 2766 2266 \nQ 2766 2663 2505 2880 \nQ 2244 3097 1772 3097 \nQ 1472 3097 1187 3025 \nQ 903 2953 641 2809 \nL 641 3341 \nQ 956 3463 1253 3523 \nQ 1550 3584 1831 3584 \nQ 2591 3584 2966 3190 \nQ 3341 2797 3341 1997 \nz\n\" transform=\"scale(0.015625)\"/>\n       <path id=\"DejaVuSans-6d\" d=\"M 3328 2828 \nQ 3544 3216 3844 3400 \nQ 4144 3584 4550 3584 \nQ 5097 3584 5394 3201 \nQ 5691 2819 5691 2113 \nL 5691 0 \nL 5113 0 \nL 5113 2094 \nQ 5113 2597 4934 2840 \nQ 4756 3084 4391 3084 \nQ 3944 3084 3684 2787 \nQ 3425 2491 3425 1978 \nL 3425 0 \nL 2847 0 \nL 2847 2094 \nQ 2847 2600 2669 2842 \nQ 2491 3084 2119 3084 \nQ 1678 3084 1418 2786 \nQ 1159 2488 1159 1978 \nL 1159 0 \nL 581 0 \nL 581 3500 \nL 1159 3500 \nL 1159 2956 \nQ 1356 3278 1631 3431 \nQ 1906 3584 2284 3584 \nQ 2666 3584 2933 3390 \nQ 3200 3197 3328 2828 \nz\n\" transform=\"scale(0.015625)\"/>\n       <path id=\"DejaVuSans-69\" d=\"M 603 3500 \nL 1178 3500 \nL 1178 0 \nL 603 0 \nL 603 3500 \nz\nM 603 4863 \nL 1178 4863 \nL 1178 4134 \nL 603 4134 \nL 603 4863 \nz\n\" transform=\"scale(0.015625)\"/>\n       <path id=\"DejaVuSans-6e\" d=\"M 3513 2113 \nL 3513 0 \nL 2938 0 \nL 2938 2094 \nQ 2938 2591 2744 2837 \nQ 2550 3084 2163 3084 \nQ 1697 3084 1428 2787 \nQ 1159 2491 1159 1978 \nL 1159 0 \nL 581 0 \nL 581 3500 \nL 1159 3500 \nL 1159 2956 \nQ 1366 3272 1645 3428 \nQ 1925 3584 2291 3584 \nQ 2894 3584 3203 3211 \nQ 3513 2838 3513 2113 \nz\n\" transform=\"scale(0.015625)\"/>\n       <path id=\"DejaVuSans-67\" d=\"M 2906 1791 \nQ 2906 2416 2648 2759 \nQ 2391 3103 1925 3103 \nQ 1463 3103 1205 2759 \nQ 947 2416 947 1791 \nQ 947 1169 1205 825 \nQ 1463 481 1925 481 \nQ 2391 481 2648 825 \nQ 2906 1169 2906 1791 \nz\nM 3481 434 \nQ 3481 -459 3084 -895 \nQ 2688 -1331 1869 -1331 \nQ 1566 -1331 1297 -1286 \nQ 1028 -1241 775 -1147 \nL 775 -588 \nQ 1028 -725 1275 -790 \nQ 1522 -856 1778 -856 \nQ 2344 -856 2625 -561 \nQ 2906 -266 2906 331 \nL 2906 616 \nQ 2728 306 2450 153 \nQ 2172 0 1784 0 \nQ 1141 0 747 490 \nQ 353 981 353 1791 \nQ 353 2603 747 3093 \nQ 1141 3584 1784 3584 \nQ 2172 3584 2450 3431 \nQ 2728 3278 2906 2969 \nL 2906 3500 \nL 3481 3500 \nL 3481 434 \nz\n\" transform=\"scale(0.015625)\"/>\n       <path id=\"DejaVuSans-20\" transform=\"scale(0.015625)\"/>\n       <path id=\"DejaVuSans-64\" d=\"M 2906 2969 \nL 2906 4863 \nL 3481 4863 \nL 3481 0 \nL 2906 0 \nL 2906 525 \nQ 2725 213 2448 61 \nQ 2172 -91 1784 -91 \nQ 1150 -91 751 415 \nQ 353 922 353 1747 \nQ 353 2572 751 3078 \nQ 1150 3584 1784 3584 \nQ 2172 3584 2448 3432 \nQ 2725 3281 2906 2969 \nz\nM 947 1747 \nQ 947 1113 1208 752 \nQ 1469 391 1925 391 \nQ 2381 391 2643 752 \nQ 2906 1113 2906 1747 \nQ 2906 2381 2643 2742 \nQ 2381 3103 1925 3103 \nQ 1469 3103 1208 2742 \nQ 947 2381 947 1747 \nz\n\" transform=\"scale(0.015625)\"/>\n       <path id=\"DejaVuSans-74\" d=\"M 1172 4494 \nL 1172 3500 \nL 2356 3500 \nL 2356 3053 \nL 1172 3053 \nL 1172 1153 \nQ 1172 725 1289 603 \nQ 1406 481 1766 481 \nL 2356 481 \nL 2356 0 \nL 1766 0 \nQ 1100 0 847 248 \nQ 594 497 594 1153 \nL 594 3053 \nL 172 3053 \nL 172 3500 \nL 594 3500 \nL 594 4494 \nL 1172 4494 \nz\n\" transform=\"scale(0.015625)\"/>\n       <path id=\"DejaVuSans-65\" d=\"M 3597 1894 \nL 3597 1613 \nL 953 1613 \nQ 991 1019 1311 708 \nQ 1631 397 2203 397 \nQ 2534 397 2845 478 \nQ 3156 559 3463 722 \nL 3463 178 \nQ 3153 47 2828 -22 \nQ 2503 -91 2169 -91 \nQ 1331 -91 842 396 \nQ 353 884 353 1716 \nQ 353 2575 817 3079 \nQ 1281 3584 2069 3584 \nQ 2775 3584 3186 3129 \nQ 3597 2675 3597 1894 \nz\nM 3022 2063 \nQ 3016 2534 2758 2815 \nQ 2500 3097 2075 3097 \nQ 1594 3097 1305 2825 \nQ 1016 2553 972 2059 \nL 3022 2063 \nz\n\" transform=\"scale(0.015625)\"/>\n       <path id=\"DejaVuSans-75\" d=\"M 544 1381 \nL 544 3500 \nL 1119 3500 \nL 1119 1403 \nQ 1119 906 1312 657 \nQ 1506 409 1894 409 \nQ 2359 409 2629 706 \nQ 2900 1003 2900 1516 \nL 2900 3500 \nL 3475 3500 \nL 3475 0 \nL 2900 0 \nL 2900 538 \nQ 2691 219 2414 64 \nQ 2138 -91 1772 -91 \nQ 1169 -91 856 284 \nQ 544 659 544 1381 \nz\nM 1991 3584 \nL 1991 3584 \nz\n\" transform=\"scale(0.015625)\"/>\n      </defs>\n      <use xlink:href=\"#DejaVuSans-48\"/>\n      <use xlink:href=\"#DejaVuSans-61\" x=\"75.195312\"/>\n      <use xlink:href=\"#DejaVuSans-6d\" x=\"136.474609\"/>\n      <use xlink:href=\"#DejaVuSans-6d\" x=\"233.886719\"/>\n      <use xlink:href=\"#DejaVuSans-69\" x=\"331.298828\"/>\n      <use xlink:href=\"#DejaVuSans-6e\" x=\"359.082031\"/>\n      <use xlink:href=\"#DejaVuSans-67\" x=\"422.460938\"/>\n      <use xlink:href=\"#DejaVuSans-20\" x=\"485.9375\"/>\n      <use xlink:href=\"#DejaVuSans-64\" x=\"517.724609\"/>\n      <use xlink:href=\"#DejaVuSans-69\" x=\"581.201172\"/>\n      <use xlink:href=\"#DejaVuSans-73\" x=\"608.984375\"/>\n      <use xlink:href=\"#DejaVuSans-74\" x=\"661.083984\"/>\n      <use xlink:href=\"#DejaVuSans-61\" x=\"700.292969\"/>\n      <use xlink:href=\"#DejaVuSans-6e\" x=\"761.572266\"/>\n      <use xlink:href=\"#DejaVuSans-63\" x=\"824.951172\"/>\n      <use xlink:href=\"#DejaVuSans-65\" x=\"879.931641\"/>\n      <use xlink:href=\"#DejaVuSans-20\" x=\"941.455078\"/>\n      <use xlink:href=\"#DejaVuSans-73\" x=\"973.242188\"/>\n      <use xlink:href=\"#DejaVuSans-75\" x=\"1025.341797\"/>\n      <use xlink:href=\"#DejaVuSans-6d\" x=\"1088.720703\"/>\n     </g>\n    </g>\n   </g>\n   <g id=\"line2d_35\">\n    <path d=\"M 90.126989 42.085398 \nL 394.490625 426.658497 \nL 698.854261 437.430852 \n\" clip-path=\"url(#p7c04271152)\" style=\"fill: none; stroke: #1f77b4; stroke-width: 1.5; stroke-linecap: square\"/>\n   </g>\n   <g id=\"patch_3\">\n    <path d=\"M 59.690625 457.198125 \nL 59.690625 22.318125 \n\" style=\"fill: none; stroke: #000000; stroke-width: 0.8; stroke-linejoin: miter; stroke-linecap: square\"/>\n   </g>\n   <g id=\"patch_4\">\n    <path d=\"M 729.290625 457.198125 \nL 729.290625 22.318125 \n\" style=\"fill: none; stroke: #000000; stroke-width: 0.8; stroke-linejoin: miter; stroke-linecap: square\"/>\n   </g>\n   <g id=\"patch_5\">\n    <path d=\"M 59.690625 457.198125 \nL 729.290625 457.198125 \n\" style=\"fill: none; stroke: #000000; stroke-width: 0.8; stroke-linejoin: miter; stroke-linecap: square\"/>\n   </g>\n   <g id=\"patch_6\">\n    <path d=\"M 59.690625 22.318125 \nL 729.290625 22.318125 \n\" style=\"fill: none; stroke: #000000; stroke-width: 0.8; stroke-linejoin: miter; stroke-linecap: square\"/>\n   </g>\n   <g id=\"text_20\">\n    <!-- transformer &lt;model_demo&gt; validation scores -->\n    <g transform=\"translate(255.657188 16.318125)scale(0.12 -0.12)\">\n     <defs>\n      <path id=\"DejaVuSans-72\" d=\"M 2631 2963 \nQ 2534 3019 2420 3045 \nQ 2306 3072 2169 3072 \nQ 1681 3072 1420 2755 \nQ 1159 2438 1159 1844 \nL 1159 0 \nL 581 0 \nL 581 3500 \nL 1159 3500 \nL 1159 2956 \nQ 1341 3275 1631 3429 \nQ 1922 3584 2338 3584 \nQ 2397 3584 2469 3576 \nQ 2541 3569 2628 3553 \nL 2631 2963 \nz\n\" transform=\"scale(0.015625)\"/>\n      <path id=\"DejaVuSans-66\" d=\"M 2375 4863 \nL 2375 4384 \nL 1825 4384 \nQ 1516 4384 1395 4259 \nQ 1275 4134 1275 3809 \nL 1275 3500 \nL 2222 3500 \nL 2222 3053 \nL 1275 3053 \nL 1275 0 \nL 697 0 \nL 697 3053 \nL 147 3053 \nL 147 3500 \nL 697 3500 \nL 697 3744 \nQ 697 4328 969 4595 \nQ 1241 4863 1831 4863 \nL 2375 4863 \nz\n\" transform=\"scale(0.015625)\"/>\n      <path id=\"DejaVuSans-3c\" d=\"M 4684 3150 \nL 1459 2003 \nL 4684 863 \nL 4684 294 \nL 678 1747 \nL 678 2266 \nL 4684 3719 \nL 4684 3150 \nz\n\" transform=\"scale(0.015625)\"/>\n      <path id=\"DejaVuSans-6c\" d=\"M 603 4863 \nL 1178 4863 \nL 1178 0 \nL 603 0 \nL 603 4863 \nz\n\" transform=\"scale(0.015625)\"/>\n      <path id=\"DejaVuSans-5f\" d=\"M 3263 -1063 \nL 3263 -1509 \nL -63 -1509 \nL -63 -1063 \nL 3263 -1063 \nz\n\" transform=\"scale(0.015625)\"/>\n      <path id=\"DejaVuSans-3e\" d=\"M 678 3150 \nL 678 3719 \nL 4684 2266 \nL 4684 1747 \nL 678 294 \nL 678 863 \nL 3897 2003 \nL 678 3150 \nz\n\" transform=\"scale(0.015625)\"/>\n      <path id=\"DejaVuSans-76\" d=\"M 191 3500 \nL 800 3500 \nL 1894 563 \nL 2988 3500 \nL 3597 3500 \nL 2284 0 \nL 1503 0 \nL 191 3500 \nz\n\" transform=\"scale(0.015625)\"/>\n     </defs>\n     <use xlink:href=\"#DejaVuSans-74\"/>\n     <use xlink:href=\"#DejaVuSans-72\" x=\"39.208984\"/>\n     <use xlink:href=\"#DejaVuSans-61\" x=\"80.322266\"/>\n     <use xlink:href=\"#DejaVuSans-6e\" x=\"141.601562\"/>\n     <use xlink:href=\"#DejaVuSans-73\" x=\"204.980469\"/>\n     <use xlink:href=\"#DejaVuSans-66\" x=\"257.080078\"/>\n     <use xlink:href=\"#DejaVuSans-6f\" x=\"292.285156\"/>\n     <use xlink:href=\"#DejaVuSans-72\" x=\"353.466797\"/>\n     <use xlink:href=\"#DejaVuSans-6d\" x=\"392.830078\"/>\n     <use xlink:href=\"#DejaVuSans-65\" x=\"490.242188\"/>\n     <use xlink:href=\"#DejaVuSans-72\" x=\"551.765625\"/>\n     <use xlink:href=\"#DejaVuSans-20\" x=\"592.878906\"/>\n     <use xlink:href=\"#DejaVuSans-3c\" x=\"624.666016\"/>\n     <use xlink:href=\"#DejaVuSans-6d\" x=\"708.455078\"/>\n     <use xlink:href=\"#DejaVuSans-6f\" x=\"805.867188\"/>\n     <use xlink:href=\"#DejaVuSans-64\" x=\"867.048828\"/>\n     <use xlink:href=\"#DejaVuSans-65\" x=\"930.525391\"/>\n     <use xlink:href=\"#DejaVuSans-6c\" x=\"992.048828\"/>\n     <use xlink:href=\"#DejaVuSans-5f\" x=\"1019.832031\"/>\n     <use xlink:href=\"#DejaVuSans-64\" x=\"1069.832031\"/>\n     <use xlink:href=\"#DejaVuSans-65\" x=\"1133.308594\"/>\n     <use xlink:href=\"#DejaVuSans-6d\" x=\"1194.832031\"/>\n     <use xlink:href=\"#DejaVuSans-6f\" x=\"1292.244141\"/>\n     <use xlink:href=\"#DejaVuSans-3e\" x=\"1353.425781\"/>\n     <use xlink:href=\"#DejaVuSans-20\" x=\"1437.214844\"/>\n     <use xlink:href=\"#DejaVuSans-76\" x=\"1469.001953\"/>\n     <use xlink:href=\"#DejaVuSans-61\" x=\"1528.181641\"/>\n     <use xlink:href=\"#DejaVuSans-6c\" x=\"1589.460938\"/>\n     <use xlink:href=\"#DejaVuSans-69\" x=\"1617.244141\"/>\n     <use xlink:href=\"#DejaVuSans-64\" x=\"1645.027344\"/>\n     <use xlink:href=\"#DejaVuSans-61\" x=\"1708.503906\"/>\n     <use xlink:href=\"#DejaVuSans-74\" x=\"1769.783203\"/>\n     <use xlink:href=\"#DejaVuSans-69\" x=\"1808.992188\"/>\n     <use xlink:href=\"#DejaVuSans-6f\" x=\"1836.775391\"/>\n     <use xlink:href=\"#DejaVuSans-6e\" x=\"1897.957031\"/>\n     <use xlink:href=\"#DejaVuSans-20\" x=\"1961.335938\"/>\n     <use xlink:href=\"#DejaVuSans-73\" x=\"1993.123047\"/>\n     <use xlink:href=\"#DejaVuSans-63\" x=\"2045.222656\"/>\n     <use xlink:href=\"#DejaVuSans-6f\" x=\"2100.203125\"/>\n     <use xlink:href=\"#DejaVuSans-72\" x=\"2161.384766\"/>\n     <use xlink:href=\"#DejaVuSans-65\" x=\"2200.248047\"/>\n     <use xlink:href=\"#DejaVuSans-73\" x=\"2261.771484\"/>\n    </g>\n   </g>\n   <g id=\"legend_1\">\n    <g id=\"patch_7\">\n     <path d=\"M 595.50625 45.274375 \nL 722.290625 45.274375 \nQ 724.290625 45.274375 724.290625 43.274375 \nL 724.290625 29.318125 \nQ 724.290625 27.318125 722.290625 27.318125 \nL 595.50625 27.318125 \nQ 593.50625 27.318125 593.50625 29.318125 \nL 593.50625 43.274375 \nQ 593.50625 45.274375 595.50625 45.274375 \nz\n\" style=\"fill: #ffffff; opacity: 0.8; stroke: #cccccc; stroke-linejoin: miter\"/>\n    </g>\n    <g id=\"line2d_36\">\n     <path d=\"M 597.50625 35.416562 \nL 607.50625 35.416562 \nL 617.50625 35.416562 \n\" style=\"fill: none; stroke: #1f77b4; stroke-width: 1.5; stroke-linecap: square\"/>\n    </g>\n    <g id=\"text_21\">\n     <!-- hamming_distance -->\n     <g transform=\"translate(625.50625 38.916562)scale(0.1 -0.1)\">\n      <use xlink:href=\"#DejaVuSans-68\"/>\n      <use xlink:href=\"#DejaVuSans-61\" x=\"63.378906\"/>\n      <use xlink:href=\"#DejaVuSans-6d\" x=\"124.658203\"/>\n      <use xlink:href=\"#DejaVuSans-6d\" x=\"222.070312\"/>\n      <use xlink:href=\"#DejaVuSans-69\" x=\"319.482422\"/>\n      <use xlink:href=\"#DejaVuSans-6e\" x=\"347.265625\"/>\n      <use xlink:href=\"#DejaVuSans-67\" x=\"410.644531\"/>\n      <use xlink:href=\"#DejaVuSans-5f\" x=\"474.121094\"/>\n      <use xlink:href=\"#DejaVuSans-64\" x=\"524.121094\"/>\n      <use xlink:href=\"#DejaVuSans-69\" x=\"587.597656\"/>\n      <use xlink:href=\"#DejaVuSans-73\" x=\"615.380859\"/>\n      <use xlink:href=\"#DejaVuSans-74\" x=\"667.480469\"/>\n      <use xlink:href=\"#DejaVuSans-61\" x=\"706.689453\"/>\n      <use xlink:href=\"#DejaVuSans-6e\" x=\"767.96875\"/>\n      <use xlink:href=\"#DejaVuSans-63\" x=\"831.347656\"/>\n      <use xlink:href=\"#DejaVuSans-65\" x=\"886.328125\"/>\n     </g>\n    </g>\n   </g>\n  </g>\n </g>\n <defs>\n  <clipPath id=\"p7c04271152\">\n   <rect x=\"59.690625\" y=\"22.318125\" width=\"669.6\" height=\"434.88\"/>\n  </clipPath>\n </defs>\n</svg>\n",
      "text/plain": [
       "<Figure size 864x576 with 1 Axes>"
      ]
     },
     "metadata": {},
     "output_type": "display_data"
    }
   ],
   "source": [
    "# train without validation\n",
    "# train_seq2seq(model_demo, X_train, X_valid_len, Y_train, Y_valid_len, working_score_tensor, lr, num_epochs, batch_size, label_smoothing, amino_dict, device, model_name='model_demo')\n",
    "\n",
    "# train with validation \n",
    "train_seq2seq(model_demo, X_train, X_valid_len, Y_train, Y_valid_len, working_score_tensor, lr, num_epochs, batch_size, label_smoothing, amino_dict, device, model_name='model_demo', X_validation=X_validation, Y_validation=Y_validation, X_validation_valid_len=X_validation_valid_len, Y_validation_valid_len=Y_validation_valid_len)"
   ]
  },
  {
   "cell_type": "code",
   "execution_count": null,
   "metadata": {},
   "outputs": [
    {
     "data": {
      "text/plain": [
       "<All keys matched successfully>"
      ]
     },
     "execution_count": 87,
     "metadata": {},
     "output_type": "execute_result"
    }
   ],
   "source": [
    "# save model \n",
    "# torch.save(net.state_dict(), file_name)\n",
    "# pickle.dump(model_demo, open(\"model_demo.pkl\", \"wb\"))\n",
    "\n",
    "# load model\n",
    "# model_demo = pickle.load(open(\"model_demo_22Jul12_0913AM\", \"rb\"))\n",
    "# model_demo = EncoderDecoder(encoder_demo, decoder_demo)\n",
    "model_demo.load_state_dict(torch.load(\"model_demo_22Jul12_1024AM\", map_location = ('cpu')))\n",
    "# model.eval()\n"
   ]
  },
  {
   "cell_type": "markdown",
   "metadata": {},
   "source": [
    "#### Model predicting"
   ]
  },
  {
   "cell_type": "code",
   "execution_count": null,
   "metadata": {},
   "outputs": [
    {
     "name": "stdout",
     "output_type": "stream",
     "text": [
      "Conditional probability at position 1 is 0.08397284150123596\n",
      "Conditional probability at position 2 is 0.13720513880252838\n",
      "Conditional probability at position 3 is 0.16785955429077148\n",
      "Conditional probability at position 4 is 0.9203442931175232\n",
      "Input target sequence is SPT, predicted complementary peptide is TVT\n",
      "Condition on input, predicted probability is 0.0017799410373475649\n"
     ]
    }
   ],
   "source": [
    "target = ['SPT']\n",
    "num_steps_prediction = 10 # max length of sequence to predict\n",
    "\n",
    "dec_comple_peptide_pred, dec_prob, dec_attention_weight_seq = predict_greedy_single(model_demo, target[0], amino_dict, num_steps_prediction, device, save_attention_weights=True, print_info=True)"
   ]
  },
  {
   "cell_type": "markdown",
   "metadata": {},
   "source": [
    "# Task 2: Train a base model "
   ]
  },
  {
   "cell_type": "markdown",
   "metadata": {},
   "source": [
    "#### Build base model"
   ]
  },
  {
   "cell_type": "code",
   "execution_count": null,
   "metadata": {},
   "outputs": [],
   "source": [
    "query_size, key_size, value_size, num_hiddens = 256, 256, 256, 256\n",
    "num_layers, dropout = 4, 0.1\n",
    "lr, num_epochs, batch_size, label_smoothing = 0.0004, 500, 6000, 0.1\n",
    "ffn_num_input, ffn_num_hiddens, num_heads = 256, 1024, 8\n",
    "\n",
    "norm_shape = [256] # 32 corresponds to the dim of such number to normalize\n",
    "device = d2l.try_gpu()"
   ]
  },
  {
   "cell_type": "code",
   "execution_count": null,
   "metadata": {},
   "outputs": [],
   "source": [
    "encoder_base = TransformerEncoder(\n",
    "\tlen(amino_dict), key_size, query_size, value_size, num_hiddens, \n",
    "\tnorm_shape, ffn_num_input, ffn_num_hiddens, num_heads,\n",
    "\tnum_layers, dropout)\n",
    "decoder_base = TransformerDecoder(\n",
    "\tlen(amino_dict), key_size, query_size, value_size, num_hiddens, \n",
    "\tnorm_shape, ffn_num_input, ffn_num_hiddens, num_heads,\n",
    "\tnum_layers, dropout)\n",
    "model_base = EncoderDecoder(encoder_base, decoder_base)"
   ]
  },
  {
   "cell_type": "code",
   "execution_count": null,
   "metadata": {},
   "outputs": [
    {
     "name": "stdout",
     "output_type": "stream",
     "text": [
      "Base model: total number of parameters: 7378968\n",
      "Base model: total number of trainable parameters: 7378968\n"
     ]
    }
   ],
   "source": [
    "model_base_total_params = sum(p.numel() for p in model_base.parameters())\n",
    "model_base_total_trainable_params = sum(p.numel() for p in model_base.parameters() if p.requires_grad)\n",
    "\n",
    "print('Base model: total number of parameters: {}'.format(model_base_total_params))\n",
    "print('Base model: total number of trainable parameters: {}'.format(model_base_total_trainable_params))"
   ]
  },
  {
   "cell_type": "markdown",
   "metadata": {},
   "source": [
    "#### Model training"
   ]
  },
  {
   "cell_type": "code",
   "execution_count": null,
   "metadata": {},
   "outputs": [],
   "source": [
    "# To train a new model on GPU:\n",
    "# 1. free GPU usage\n",
    "# 2. restart kernel\n",
    "# 3. reload all pretraining data\n",
    "\n",
    "# check gpu_usage\n",
    "#gpu_usage()\n",
    "\n",
    "# free GPU usage\n",
    "#free_gpu_cache()    "
   ]
  },
  {
   "cell_type": "code",
   "execution_count": null,
   "metadata": {},
   "outputs": [],
   "source": [
    "# train without validation\n",
    "# train_seq2seq(model_base, X_train, X_valid_len, Y_train, Y_valid_len, working_score_tensor, lr, num_epochs, batch_size, label_smoothing, amino_dict, device, model_name='model_base', warmup=16000)\n",
    "\n",
    "# train with validation\n",
    "# train_seq2seq(model_base, X_train, X_valid_len, Y_train, Y_valid_len, working_score_tensor, lr, num_epochs, batch_size, label_smoothing, amino_dict, device, model_name='model_base_validation', warmup=16000, X_validation=X_validation, Y_validation=Y_validation, X_validation_valid_len=X_validation_valid_len, Y_validation_valid_len=Y_validation_valid_len)\n"
   ]
  },
  {
   "cell_type": "code",
   "execution_count": null,
   "metadata": {},
   "outputs": [
    {
     "data": {
      "text/plain": [
       "<All keys matched successfully>"
      ]
     },
     "execution_count": 43,
     "metadata": {},
     "output_type": "execute_result"
    }
   ],
   "source": [
    "# save model \n",
    "# torch.save(net.state_dict(), file_name)\n",
    "# pickle.dump(model_base, open(\"model_base.pkl\", \"wb\"))\n",
    "\n",
    "# load model\n",
    "# model_base = pickle.load(open(\"model_base.pkl\", \"rb\"))\n",
    "# model_demo = EncoderDecoder(encoder_demo, decoder_demo)\n",
    "model_base.load_state_dict(torch.load(\"model_base_22Jul14_0326AM\", map_location = ('cpu')))\n",
    "# model.eval()"
   ]
  },
  {
   "cell_type": "markdown",
   "metadata": {},
   "source": [
    "#### Model prediction"
   ]
  },
  {
   "cell_type": "code",
   "execution_count": null,
   "metadata": {},
   "outputs": [
    {
     "name": "stdout",
     "output_type": "stream",
     "text": [
      "['KEMIQEVI' 'FTMLELYE' 'KQVFTVPY' 'DYEVTLTR' 'FHLDVDIS' 'DLRAMPAH'\n",
      " 'KTIYIYNV' 'SREYHICV' 'VYSILTSS' 'KVRVKMET']\n",
      "['LAKPIYLT' 'VRGIEYVK' 'HIIVKLEG' 'RVTLTALY' 'LHFTVKGI' 'SNVWKLGA'\n",
      " 'GTFICGIN' 'TLTVVAHV' 'FYLTAETI' 'TVEVEFSN']\n",
      "Conditional probability at position 1 is 0.9551613330841064\n",
      "Conditional probability at position 2 is 0.9726256132125854\n",
      "Conditional probability at position 3 is 0.9443170428276062\n",
      "Conditional probability at position 4 is 0.9340344071388245\n",
      "Conditional probability at position 5 is 0.954649806022644\n",
      "Conditional probability at position 6 is 0.9690737724304199\n",
      "Conditional probability at position 7 is 0.9708462953567505\n",
      "Conditional probability at position 8 is 0.9615175724029541\n",
      "Conditional probability at position 9 is 0.9101818203926086\n",
      "Input target sequence is KSATTTVM, predicted complementary peptide is EVAIALGG\n",
      "Condition on input, predicted probability is 0.6440801670176379\n"
     ]
    }
   ],
   "source": [
    "num_steps_prediction = 10 # max length of target sequence to predict\n",
    "\n",
    "print(X_validation_letter[0:10])\n",
    "print(Y_validation_letter[0:10])\n",
    "\n",
    "dec_comple_peptide_pred, dec_prob, dec_attention_weight_seq = predict_greedy_single(model_base, 'KSATTTVM', amino_dict, num_steps_prediction, device, save_attention_weights=True, print_info=True)"
   ]
  },
  {
   "cell_type": "markdown",
   "metadata": {},
   "source": [
    "# Task 3: Train a wide model "
   ]
  },
  {
   "cell_type": "markdown",
   "metadata": {},
   "source": [
    "#### Build wide model"
   ]
  },
  {
   "cell_type": "code",
   "execution_count": 40,
   "metadata": {},
   "outputs": [],
   "source": [
    "query_size, key_size, value_size, num_hiddens = 512, 512, 512, 512\n",
    "num_layers, dropout = 4, 0.1\n",
    "lr, num_epochs, batch_size, label_smoothing = 0.0004, 500, 6000, 0.1\n",
    "ffn_num_input, ffn_num_hiddens, num_heads = 512, 2048, 8\n",
    "\n",
    "norm_shape = [512] # 32 corresponds to the dim of such number to normalize\n",
    "device = d2l.try_gpu()"
   ]
  },
  {
   "cell_type": "code",
   "execution_count": 41,
   "metadata": {},
   "outputs": [],
   "source": [
    "encoder_wide = TransformerEncoder(\n",
    "\tlen(amino_dict), key_size, query_size, value_size, num_hiddens, \n",
    "\tnorm_shape, ffn_num_input, ffn_num_hiddens, num_heads,\n",
    "\tnum_layers, dropout)\n",
    "decoder_wide = TransformerDecoder(\n",
    "\tlen(amino_dict), key_size, query_size, value_size, num_hiddens, \n",
    "\tnorm_shape, ffn_num_input, ffn_num_hiddens, num_heads,\n",
    "\tnum_layers, dropout)\n",
    "model_wide = EncoderDecoder(encoder_wide, decoder_wide)"
   ]
  },
  {
   "cell_type": "code",
   "execution_count": 42,
   "metadata": {},
   "outputs": [
    {
     "name": "stdout",
     "output_type": "stream",
     "text": [
      "Base model: total number of parameters: 29437976\n",
      "Base model: total number of trainable parameters: 29437976\n"
     ]
    }
   ],
   "source": [
    "model_wide_total_params = sum(p.numel() for p in model_wide.parameters())\n",
    "model_wide_total_trainable_params = sum(p.numel() for p in model_wide.parameters() if p.requires_grad)\n",
    "\n",
    "print('Base model: total number of parameters: {}'.format(model_wide_total_params))\n",
    "print('Base model: total number of trainable parameters: {}'.format(model_wide_total_trainable_params))"
   ]
  },
  {
   "cell_type": "markdown",
   "metadata": {},
   "source": [
    "#### Model training"
   ]
  },
  {
   "cell_type": "code",
   "execution_count": 114,
   "metadata": {},
   "outputs": [],
   "source": [
    "# train without validation\n",
    "# train_seq2seq(model_wide, X_train, X_valid_len, Y_train, Y_valid_len, working_score_tensor, lr, num_epochs, batch_size, label_smoothing, amino_dict, device, model_name='model_wide', warmup=35000)\n",
    "\n",
    "# train with validation \n",
    "# train_seq2seq(model_wide, X_train, X_valid_len, Y_train, Y_valid_len, working_score_tensor, lr, num_epochs, batch_size, label_smoothing, amino_dict, device, model_name='model_wide_validation', warmup=35000, X_validation=X_validation, Y_validation=Y_validation, X_validation_valid_len=X_validation_valid_len, Y_validation_valid_len=Y_validation_valid_len)"
   ]
  },
  {
   "cell_type": "code",
   "execution_count": 43,
   "metadata": {},
   "outputs": [
    {
     "data": {
      "text/plain": [
       "<All keys matched successfully>"
      ]
     },
     "execution_count": 43,
     "metadata": {},
     "output_type": "execute_result"
    }
   ],
   "source": [
    "model_wide.load_state_dict(torch.load(\"model_wide_22Jul16_1011AM\", map_location = ('cpu')))"
   ]
  },
  {
   "cell_type": "markdown",
   "metadata": {},
   "source": [
    "#### Model prediction"
   ]
  },
  {
   "cell_type": "code",
   "execution_count": 67,
   "metadata": {},
   "outputs": [],
   "source": [
    "# interesting examples to demonstrate the power of the model\n",
    "\n",
    "PDB_beta_strand_1 = 'NRIELKGT' # PDB labels = 'VVARTKYK' (training sample that generate different labels)\n",
    "PNAS_target_1 = 'EQVTNVG' # paper chosen peptide = 'EILVSYQ' (alpha-synuclein residues 61-67)\n",
    "PNAS_target_2 = 'QKLVFFA' # paper chosen peptide = 'FKLSVIT' (Abeta42 residues 15-22)\n",
    "PNAS_target_3 = 'VVTGVTA' # paper chosen peptide = 'FQEAVSG' (alpha-synuclein residues 70-76)\n",
    "\n",
    "task_target_1 = None\n",
    "\n",
    "prediction_length = 8"
   ]
  },
  {
   "cell_type": "code",
   "execution_count": 45,
   "metadata": {},
   "outputs": [
    {
     "name": "stdout",
     "output_type": "stream",
     "text": [
      "Dataset search result: \n",
      " []\n"
     ]
    }
   ],
   "source": [
    "# search whether the target exists in PDB\n",
    "\n",
    "# target, complementary_seq, counts, promiscuity, length, working_score, hb_pattern, para/anti, freq\n",
    "\n",
    "# BSn_data_dataset_sequence -- dataset contains all samples\n",
    "# BSn_data_dataset2 -- dataset with negative working scores removed\n",
    "\n",
    "print(\"Dataset search result: \\n\", search_target(BSn_data_dataset_sequence[:, :6], 'EQVTNVG'))"
   ]
  },
  {
   "cell_type": "code",
   "execution_count": 46,
   "metadata": {},
   "outputs": [
    {
     "name": "stdout",
     "output_type": "stream",
     "text": [
      "Conditional probability at position 1 is 0.8766991496086121\n",
      "Conditional probability at position 2 is 0.9402917623519897\n",
      "Conditional probability at position 3 is 0.9251704216003418\n",
      "Conditional probability at position 4 is 0.955545961856842\n",
      "Conditional probability at position 5 is 0.9349386692047119\n",
      "Conditional probability at position 6 is 0.9246085286140442\n",
      "Conditional probability at position 7 is 0.8873682618141174\n",
      "Conditional probability at position 8 is 0.924082338809967\n",
      "Input target sequence is EQVTNVG, predicted complementary peptide is QYSVLIF\n",
      "Condition on input, predicted probability is 0.5165853870927324\n"
     ]
    }
   ],
   "source": [
    "# greedy single prediction\n",
    "\n",
    "dec_comple_peptide_pred, dec_prob, dec_attention_weight_seq = predict_greedy_single(model_wide, 'EQVTNVG', amino_dict, prediction_length + 2, device, save_attention_weights=True, print_info=True)"
   ]
  },
  {
   "cell_type": "code",
   "execution_count": 47,
   "metadata": {},
   "outputs": [
    {
     "name": "stdout",
     "output_type": "stream",
     "text": [
      "number of total candidates sampled: 298\n",
      "number of unique top candidates successfully sampled: 100\n"
     ]
    },
    {
     "data": {
      "text/plain": [
       "[('QYSVLIF', 0.51658571),\n",
       " ('QYSVLIA', 0.01648752),\n",
       " ('KYSVLIF', 0.00980916),\n",
       " ('QYSVLIT', 0.0080247),\n",
       " ('QYSVLIG', 0.00696116),\n",
       " ('QYSVLVY', 0.00650664),\n",
       " ('QYSVLSY', 0.0054762),\n",
       " ('NYSVLIF', 0.00345615),\n",
       " ('QYSVLIV', 0.00343376),\n",
       " ('QYSVLIC', 0.0032301),\n",
       " ('QYSVLIH', 0.0031378),\n",
       " ('QYSVLIY', 0.00290271),\n",
       " ('QYSVLIN', 0.00269287),\n",
       " ('HYSVLIF', 0.00251687),\n",
       " ('CYSVLIF', 0.00214169),\n",
       " ('QYSILIS', 0.0020321),\n",
       " ('QYSVLIP', 0.00189819),\n",
       " ('QYSVLCF', 0.0017433),\n",
       " ('QYSVLYG', 0.00152109),\n",
       " ('QYSVLSF', 0.00147748),\n",
       " ('QYSVMIF', 0.00146673),\n",
       " ('QYSVLWR', 0.00102337),\n",
       " ('QYSVLIW', 0.00101525),\n",
       " ('QYSVWLF', 0.00091527),\n",
       " ('QYSVLPI', 0.00070833),\n",
       " ('QYSVMIA', 0.00070458),\n",
       " ('QYSLTIT', 0.00069764),\n",
       " ('QYWVHFY', 0.00049875),\n",
       " ('QYNVLCN', 0.000478),\n",
       " ('QYSVEIF', 0.00047491),\n",
       " ('QITSRII', 0.00043561),\n",
       " ('QYSVLAV', 0.00042895),\n",
       " ('QYSVDIT', 0.00040053),\n",
       " ('QYFVLIF', 0.00039766),\n",
       " ('QYHVLIF', 0.00030573),\n",
       " ('QYSVWLI', 0.00027586),\n",
       " ('QYAVLIF', 0.0002725),\n",
       " ('TKIYIAP', 0.00024617),\n",
       " ('QYSDTYF', 0.00024174),\n",
       " ('QYSVEVS', 0.0001951),\n",
       " ('QDYSGVL', 0.00014613),\n",
       " ('QYFVLIA', 0.00014377),\n",
       " ('LYSVLIA', 0.00011994),\n",
       " ('QYSHLVY', 9.68625609e-05),\n",
       " ('QYPVILA', 8.84598412e-05),\n",
       " ('QYSVLTA', 8.63596288e-05),\n",
       " ('QPNSVEF', 7.52354827e-05),\n",
       " ('FTALWMV', 7.31202526e-05),\n",
       " ('QYYITAY', 5.95130878e-05),\n",
       " ('MTYSWYI', 5.27885095e-05),\n",
       " ('KYSVFIF', 4.73295804e-05),\n",
       " ('QYYGSKN', 4.72463435e-05),\n",
       " ('CKALWMV', 4.44956531e-05),\n",
       " ('QYQVYAR', 4.35636175e-05),\n",
       " ('QYSVPIW', 4.31693916e-05),\n",
       " ('TTYSWVL', 3.24262473e-05),\n",
       " ('QYSVTII', 3.05440299e-05),\n",
       " ('QYYINAY', 3.01605487e-05),\n",
       " ('KYSVPIS', 2.82149049e-05),\n",
       " ('QHFVLIA', 2.09627015e-05),\n",
       " ('QRSVLIG', 1.94558361e-05),\n",
       " ('QYQVKYI', 1.9145069e-05),\n",
       " ('QMSTITQ', 1.89458733e-05),\n",
       " ('KYSVLMV', 1.20956465e-05),\n",
       " ('QYSQRYT', 1.12708422e-05),\n",
       " ('QYSVMWG', 1.06422085e-05),\n",
       " ('NAISIPV', 9.11501775e-06),\n",
       " ('QYSFAIT', 8.38253709e-06),\n",
       " ('QLYSASR', 6.25934581e-06),\n",
       " ('TTYITAG', 5.55185215e-06),\n",
       " ('YTYIIKF', 4.80922517e-06),\n",
       " ('TKVQVVY', 4.64483037e-06),\n",
       " ('KYSVLTA', 4.32515071e-06),\n",
       " ('DKLFLWR', 4.1839985e-06),\n",
       " ('QYCVILQ', 4.0025061e-06),\n",
       " ('QYSVQVK', 3.77356901e-06),\n",
       " ('QEYRAAG', 3.541051e-06),\n",
       " ('QYHVLID', 3.53647556e-06),\n",
       " ('TTYSWEF', 3.51096764e-06),\n",
       " ('ITWAKLR', 3.39812959e-06),\n",
       " ('QYGIAVE', 1.94702466e-06),\n",
       " ('QEVKIPV', 1.81084238e-06),\n",
       " ('QCYFKVY', 1.79742869e-06),\n",
       " ('QYVILSV', 1.69456086e-06),\n",
       " ('QYSVFIQ', 1.66613597e-06),\n",
       " ('EDIFLIW', 1.616963e-06),\n",
       " ('KYSVGIM', 1.6125083e-06),\n",
       " ('QYLHLAY', 1.02067975e-06),\n",
       " ('QYSVEMW', 6.92742731e-07),\n",
       " ('RKFTVKT', 5.38798702e-07),\n",
       " ('QGVIRYV', 4.31085624e-07),\n",
       " ('QWWSKIQ', 2.10109974e-07),\n",
       " ('QYYHLYA', 1.61365008e-07),\n",
       " ('EDTYNGY', 1.19977003e-07),\n",
       " ('MTESCVF', 7.56386171e-08),\n",
       " ('EDIEVVE', 7.38396082e-08),\n",
       " ('MKILRPV', 3.95191329e-08),\n",
       " ('QYFGVLV', 3.14598658e-08),\n",
       " ('HDVFCVF', 3.02287688e-08),\n",
       " ('NLYAQIT', 1.92792307e-08)]"
      ]
     },
     "execution_count": 47,
     "metadata": {},
     "output_type": "execute_result"
    }
   ],
   "source": [
    "# unique top candidates sampling\n",
    "\n",
    "# large num_candidates is recommended if we have enough memory\n",
    "\n",
    "num_candidates = 100\n",
    "max_iter = 20\n",
    "\n",
    "peptide_candidates = sample_candidates(model_wide, 'EQVTNVG', num_candidates, amino_dict, prediction_length + 2, device, max_iter=max_iter)\n",
    "peptide_candidates"
   ]
  },
  {
   "cell_type": "code",
   "execution_count": 49,
   "metadata": {},
   "outputs": [
    {
     "name": "stdout",
     "output_type": "stream",
     "text": [
      "Conditional probability at position 1 is 0.8766991496086121\n",
      "Conditional probability at position 2 is 0.9402917623519897\n",
      "Conditional probability at position 3 is 0.9251704216003418\n",
      "Conditional probability at position 4 is 0.955545961856842\n",
      "Conditional probability at position 5 is 0.9349386692047119\n",
      "Conditional probability at position 6 is 0.9246085286140442\n",
      "Conditional probability at position 7 is 0.000687932304572314\n",
      "Conditional probability at position 8 is 0.924099862575531\n",
      "Input target sequence is EQVTNVG, complementary peptide is QYSVLIE, evaluated probability is 0.0004004904505669424\n"
     ]
    }
   ],
   "source": [
    "# target and complementary peptide evaluation\n",
    "\n",
    "eval_prob = evaluate_single(model_wide, 'EQVTNVG', 'QYSVLIE',amino_dict, prediction_length + 2, device, print_info=True)"
   ]
  },
  {
   "cell_type": "code",
   "execution_count": 70,
   "metadata": {},
   "outputs": [
    {
     "name": "stdout",
     "output_type": "stream",
     "text": [
      "['KEMIQEVI' 'FTMLELYE' 'KQVFTVPY' 'DYEVTLTR' 'FHLDVDIS' 'DLRAMPAH'\n",
      " 'KTIYIYNV' 'SREYHICV' 'VYSILTSS' 'KVRVKMET']\n",
      "['LAKPIYLT' 'VRGIEYVK' 'HIIVKLEG' 'RVTLTALY' 'LHFTVKGI' 'SNVWKLGA'\n",
      " 'GTFICGIN' 'TLTVVAHV' 'FYLTAETI' 'TVEVEFSN']\n",
      "Greedy batch prediction: \n",
      " [['KEMIQEVI' 'LAKPIYLT' '0.601555347442627']\n",
      " ['FTMLELYE' 'VRGIEYVK' '0.44587305188179016']\n",
      " ['KQVFTVPY' 'HIIVKLEG' '0.6263747215270996']\n",
      " ['DYEVTLTR' 'RVTLTALY' '0.6022646427154541']\n",
      " ['FHLDVDIS' 'LHFTVKGI' '0.6096101403236389']\n",
      " ['DLRAMPAH' 'SNVWKLGA' '0.5396904945373535']\n",
      " ['KTIYIYNV' 'GTFICGIN' '0.5399317145347595']\n",
      " ['SREYHICV' 'TLTVVAHV' '0.5907752513885498']\n",
      " ['VYSILTSS' 'FYLTAETI' '0.5898668169975281']\n",
      " ['KVRVKMET' 'TVEVEFSN' '0.5440295338630676']]\n"
     ]
    }
   ],
   "source": [
    "# greedy batch prediction -- can be used to scan possible target region\n",
    "\n",
    "print(X_validation_letter[:10])\n",
    "print(Y_validation_letter[:10])\n",
    "\n",
    "peptide_pred = predict_greedy_batch(model_wide, X_validation_letter[:10], amino_dict, prediction_length + 2, device)\n",
    "print(\"Greedy batch prediction: \\n\", peptide_pred)"
   ]
  },
  {
   "cell_type": "code",
   "execution_count": 71,
   "metadata": {},
   "outputs": [
    {
     "name": "stdout",
     "output_type": "stream",
     "text": [
      "Iteration: 0\n",
      "Iteration: 1\n",
      "Iteration: 2\n",
      "Iteration: 3\n",
      "Iteration: 4\n",
      "Iteration: 5\n",
      "Iteration: 6\n",
      "Iteration: 7\n",
      "Iteration: 8\n",
      "Iteration: 9\n",
      "Greedy minibatch prediction number: \n",
      " 501\n",
      "Greedy minibatch prediction: \n",
      " [['KEMIQEVI' 'LAKPIYLT' '0.6015552878379822']\n",
      " ['FTMLELYE' 'VRGIEYVK' '0.4458731412887573']\n",
      " ['KQVFTVPY' 'HIIVKLEG' '0.6263746023178101']\n",
      " ['DYEVTLTR' 'RVTLTALY' '0.6022647619247437']\n",
      " ['FHLDVDIS' 'LHFTVKGI' '0.6096100807189941']\n",
      " ['DLRAMPAH' 'SNVWKLGA' '0.5396904945373535']\n",
      " ['KTIYIYNV' 'GTFICGIN' '0.5399318933486938']\n",
      " ['SREYHICV' 'TLTVVAHV' '0.5907752513885498']\n",
      " ['VYSILTSS' 'FYLTAETI' '0.5898668169975281']\n",
      " ['KVRVKMET' 'TVEVEFSN' '0.5440292358398438']]\n"
     ]
    }
   ],
   "source": [
    "# greedy mini_batch prediction -- can be used to scan possible target region\n",
    "\n",
    "num_minibatch = 50\n",
    "peptide_pred = predict_greedy_minibatch(model_wide, X_validation_letter[:501], amino_dict, prediction_length + 2, device, num_minibatch=num_minibatch)\n",
    "print(\"Greedy minibatch prediction number: \\n\", len(peptide_pred))\n",
    "print(\"Greedy minibatch prediction: \\n\", peptide_pred[:10])"
   ]
  },
  {
   "cell_type": "markdown",
   "metadata": {},
   "source": [
    "# Task 4: Model Base Validation analysis"
   ]
  },
  {
   "cell_type": "markdown",
   "metadata": {},
   "source": [
    "#### Build model base validation"
   ]
  },
  {
   "cell_type": "code",
   "execution_count": 58,
   "metadata": {},
   "outputs": [],
   "source": [
    "query_size, key_size, value_size, num_hiddens = 256, 256, 256, 256\n",
    "num_layers, dropout = 4, 0.1\n",
    "lr, num_epochs, batch_size, label_smoothing = 0.0004, 500, 6000, 0.1\n",
    "ffn_num_input, ffn_num_hiddens, num_heads = 256, 1024, 8\n",
    "\n",
    "norm_shape = [256] # 32 corresponds to the dim of such number to normalize\n",
    "device = d2l.try_gpu()"
   ]
  },
  {
   "cell_type": "code",
   "execution_count": 59,
   "metadata": {},
   "outputs": [],
   "source": [
    "encoder_base = TransformerEncoder(\n",
    "\tlen(amino_dict), key_size, query_size, value_size, num_hiddens, \n",
    "\tnorm_shape, ffn_num_input, ffn_num_hiddens, num_heads,\n",
    "\tnum_layers, dropout)\n",
    "decoder_base = TransformerDecoder(\n",
    "\tlen(amino_dict), key_size, query_size, value_size, num_hiddens, \n",
    "\tnorm_shape, ffn_num_input, ffn_num_hiddens, num_heads,\n",
    "\tnum_layers, dropout)\n",
    "model_base_validation = EncoderDecoder(encoder_base, decoder_base)"
   ]
  },
  {
   "cell_type": "code",
   "execution_count": 60,
   "metadata": {},
   "outputs": [
    {
     "name": "stdout",
     "output_type": "stream",
     "text": [
      "Base model: total number of parameters: 7378968\n",
      "Base model: total number of trainable parameters: 7378968\n"
     ]
    }
   ],
   "source": [
    "model_base_validation_total_params = sum(p.numel() for p in model_base_validation.parameters())\n",
    "model_base_validation_total_trainable_params = sum(p.numel() for p in model_base_validation.parameters() if p.requires_grad)\n",
    "\n",
    "print('Base model: total number of parameters: {}'.format(model_base_validation_total_params))\n",
    "print('Base model: total number of trainable parameters: {}'.format(model_base_validation_total_trainable_params))"
   ]
  },
  {
   "cell_type": "code",
   "execution_count": 61,
   "metadata": {},
   "outputs": [
    {
     "data": {
      "text/plain": [
       "<All keys matched successfully>"
      ]
     },
     "execution_count": 61,
     "metadata": {},
     "output_type": "execute_result"
    }
   ],
   "source": [
    "# load the model\n",
    "model_base_validation.load_state_dict(torch.load(\"model_base_validation_22Jul18_0536AM\", map_location = ('cpu')))\n"
   ]
  },
  {
   "cell_type": "markdown",
   "metadata": {},
   "source": [
    "#### Hamming distance analysis on validation set"
   ]
  },
  {
   "cell_type": "code",
   "execution_count": 62,
   "metadata": {},
   "outputs": [
    {
     "name": "stdout",
     "output_type": "stream",
     "text": [
      "['KEMIQEVI' 'FTMLELYE' 'KQVFTVPY' 'DYEVTLTR' 'FHLDVDIS' 'DLRAMPAH'\n",
      " 'KTIYIYNV' 'SREYHICV' 'VYSILTSS' 'KVRVKMET']\n",
      "['LAKPIYLT' 'VRGIEYVK' 'HIIVKLEG' 'RVTLTALY' 'LHFTVKGI' 'SNVWKLGA'\n",
      " 'GTFICGIN' 'TLTVVAHV' 'FYLTAETI' 'TVEVEFSN']\n",
      "(5000, 4)\n"
     ]
    }
   ],
   "source": [
    "prediction_length = 8\n",
    "\n",
    "num_minibatch = 50\n",
    "\n",
    "print(X_validation_letter[:10])\n",
    "print(Y_validation_letter[:10])\n",
    "\n",
    "peptide_pred_list = []\n",
    "num_iter = int(len(X_validation_letter)/num_minibatch)\n",
    "\n",
    "for i in range(num_iter):\n",
    "\tpeptide_pred = predict_greedy_batch(model_base_validation, X_validation_letter[num_minibatch*i:num_minibatch*i+num_minibatch], amino_dict, prediction_length + 2, device)\n",
    "\tpeptide_pred_list.append(peptide_pred)\n",
    "peptide_pred_array = np.vstack(peptide_pred_list)\n",
    "peptide_pred_array_new = np.hstack([peptide_pred_array, np.array(Y_validation_letter).reshape(-1, 1)])\n",
    "# target, prediction, greedy_prob, label\n",
    "\n",
    "print(peptide_pred_array_new.shape)"
   ]
  },
  {
   "cell_type": "code",
   "execution_count": 63,
   "metadata": {},
   "outputs": [
    {
     "name": "stdout",
     "output_type": "stream",
     "text": [
      "Sequence length: 8\n",
      "mismatched sequences: 1428, total sequences: 5000\n",
      "mismatched residues: 6164, total residues: 40000\n",
      "----------------------------------------------------------\n",
      "Sequences prediction accuracy:  0.7144\n",
      "Residue prediction accuracy:  0.8459\n"
     ]
    }
   ],
   "source": [
    "# process the results to study mismatched sequences\n",
    "# target, prediction, prob, label\n",
    "\n",
    "num_validation = len(X_validation_letter)\n",
    "total_residue = num_validation * prediction_length\n",
    "print(\"Sequence length:\", prediction_length)\n",
    "\n",
    "peptide_validation_mismatchs = peptide_pred_array_new[peptide_pred_array_new[:, 1] != np.array(Y_validation_letter)]\n",
    "print(\"mismatched sequences: {}, total sequences: {}\".format(peptide_validation_mismatchs.shape[0], num_validation))\n",
    "\n",
    "peptide_validation_hamming = hamming_distance_sum(peptide_pred_array_new[:, 1], np.array(Y_validation_letter))\n",
    "print(\"mismatched residues: {}, total residues: {}\".format(peptide_validation_hamming, total_residue))\n",
    "\n",
    "print(\"----------------------------------------------------------\")\n",
    "print(\"Sequences prediction accuracy: \", (num_validation-peptide_validation_mismatchs.shape[0])/num_validation)\n",
    "print(\"Residue prediction accuracy: \", (total_residue-peptide_validation_hamming)/total_residue) "
   ]
  },
  {
   "cell_type": "code",
   "execution_count": 64,
   "metadata": {},
   "outputs": [
    {
     "name": "stdout",
     "output_type": "stream",
     "text": [
      "target      prediction      probability       PDB_label\n",
      "[['KVRVKMET' 'SILVDFAT' '0.008602997288107872' 'TVEVEFSN']\n",
      " ['TEGIWRGV' 'WTFPVNII' '0.11936737596988678' 'ATFPVNII']\n",
      " ['LVYETVRV' 'LTYVKVEL' '0.01129102148115635' 'AVPYTYLS']\n",
      " ['TMQMMFGC' 'VSTSFYRM' '0.13841383159160614' 'MGTLFYRL']\n",
      " ['VAGQYEAA' 'AVVRHVQH' '0.3287472426891327' 'AAVQTQEH']\n",
      " ['FFQLFYTL' 'CLSLVIIF' '0.002241917420178652' 'KCGTHIQF']\n",
      " ['KLVHYDVL' 'VVNYIRTV' '0.49400004744529724' 'VVNYIRTI']\n",
      " ['IAIEYTSI' 'LNIRYADY' '0.0031037142034620047' 'REIVTDER']\n",
      " ['HLSVQGPY' 'YFSYTAEY' '0.1979689598083496' 'YFSYTAEF']\n",
      " ['YRLRIDLT' 'PLLKMTTH' '0.26479727029800415' 'PLLKMTTM']\n",
      " ['EIRLTRIL' 'EVRYVLEF' '0.10515044629573822' 'AVRYVLEF']\n",
      " ['NRIELKGT' 'VEARTKYK' '0.2505059540271759' 'VVARTKYK']\n",
      " ['TGWTGYFD' 'LNWDTKLS' '0.2468978762626648' 'LNWDTKLV']\n",
      " ['QFEISITS' 'QFVFMYLH' '0.00542890839278698' 'YSKYSITV']\n",
      " ['PQFKVDGK' 'YEWRSGIW' '0.021402446553111076' 'FKAETNIS']\n",
      " ['LHKTFISV' 'KITYEYKE' '0.167838454246521' 'KITYEYKF']\n",
      " ['RVLVVCAE' 'GVILAAAG' '0.4933861196041107' 'GIILAAAG']\n",
      " ['GVRAIHYS' 'FLSYSEIK' '0.11568101495504379' 'GAGIRDEF']\n",
      " ['AQGFILDL' 'KVGLMGMR' '0.08665251731872559' 'VTRAELRA']\n",
      " ['KGLFYALD' 'TLEYIEIE' '0.0018249814165756106' 'GLLVRMVR']]\n"
     ]
    }
   ],
   "source": [
    "print(\"target      prediction      probability       PDB_label\")\n",
    "print(peptide_validation_mismatchs[0:20, :])"
   ]
  },
  {
   "cell_type": "code",
   "execution_count": 65,
   "metadata": {},
   "outputs": [
    {
     "name": "stdout",
     "output_type": "stream",
     "text": [
      "Conditional probability at position 1 is 0.5547669529914856\n",
      "Conditional probability at position 2 is 0.5106884837150574\n",
      "Conditional probability at position 3 is 0.35666120052337646\n",
      "Conditional probability at position 4 is 0.928555428981781\n",
      "Conditional probability at position 5 is 0.8865200281143188\n",
      "Conditional probability at position 6 is 0.35324156284332275\n",
      "Conditional probability at position 7 is 0.3998695909976959\n",
      "Conditional probability at position 8 is 0.8044186234474182\n",
      "Conditional probability at position 9 is 0.9102398753166199\n",
      "Input target sequence is KVRVKMET, predicted complementary peptide is SILVDFAT\n",
      "Condition on input, predicted probability is 0.00860294306477206\n"
     ]
    }
   ],
   "source": [
    "dec_comple_peptide_pred, dec_prob, dec_attention_weight_seq = predict_greedy_single(model_base_validation, 'KVRVKMET', amino_dict, prediction_length + 2, device, save_attention_weights=True, print_info=True)"
   ]
  },
  {
   "cell_type": "code",
   "execution_count": 66,
   "metadata": {},
   "outputs": [
    {
     "name": "stdout",
     "output_type": "stream",
     "text": [
      "number of total candidates sampled: 400\n",
      "number of unique top candidates successfully sampled: 200\n"
     ]
    },
    {
     "data": {
      "text/plain": [
       "[('TVEVEFSN', 0.03208165),\n",
       " ('TVEVEFSA', 0.03043992),\n",
       " ('SVEVEFSN', 0.02112612),\n",
       " ('SIVVEFSN', 0.01900584),\n",
       " ('SIEVEFSA', 0.01688151),\n",
       " ('SIEVEFSN', 0.01668579),\n",
       " ('SVEVEFSA', 0.01624979),\n",
       " ('EVEVEFSN', 0.01564283),\n",
       " ('EVEVEFSA', 0.00834312),\n",
       " ('SIVVEFSA', 0.00530461),\n",
       " ('EIEVEFSN', 0.00451858),\n",
       " ('VVEVEFSN', 0.00445714),\n",
       " ('NVEVEFSA', 0.00428088),\n",
       " ('EIEVEFSA', 0.00379015),\n",
       " ('TVEVEFAK', 0.00341043),\n",
       " ('STLILVHG', 0.00337687),\n",
       " ('SVEVEFAK', 0.00321075),\n",
       " ('VVEVEFSA', 0.00316605),\n",
       " ('SYLVEFSN', 0.00303602),\n",
       " ('TIEVEFSA', 0.00291795),\n",
       " ('IVEVEFSN', 0.00265904),\n",
       " ('TVVVEFSN', 0.00258578),\n",
       " ('SILVDFSI', 0.00222193),\n",
       " ('DVEVEFSN', 0.00215328),\n",
       " ('DVEVEFSA', 0.00213032),\n",
       " ('SILVDLTI', 0.0020582),\n",
       " ('SLEVEFSN', 0.00198717),\n",
       " ('SYTVEFSA', 0.00193645),\n",
       " ('SYLVEFSA', 0.00187258),\n",
       " ('IVEVEFSA', 0.00187005),\n",
       " ('SVTVEFSA', 0.00164539),\n",
       " ('SVVVEFSN', 0.0016094),\n",
       " ('SILVDLIK', 0.00143755),\n",
       " ('SVTVEFSN', 0.00142241),\n",
       " ('WVEVEFSN', 0.00127238),\n",
       " ('SILVDEEG', 0.0011791),\n",
       " ('SILVDEYE', 0.00103522),\n",
       " ('SYTVEFSN', 0.00102662),\n",
       " ('SISVEFSN', 0.00102141),\n",
       " ('SILVDSVA', 0.00099049),\n",
       " ('SVIVEFAK', 0.00093816),\n",
       " ('SIAVEFSA', 0.00081942),\n",
       " ('KVEVEFSA', 0.00080043),\n",
       " ('FVEVEFSN', 0.00078246),\n",
       " ('TVEVEFSC', 0.00075491),\n",
       " ('SIVVEFQE', 0.00075156),\n",
       " ('SILVDEQE', 0.00073679),\n",
       " ('SILILVHG', 0.00070703),\n",
       " ('NVEVEFAK', 0.00070308),\n",
       " ('SISVEFSA', 0.00066328),\n",
       " ('SVVVEFSA', 0.00058071),\n",
       " ('SILVDLMV', 0.00051226),\n",
       " ('TIVVEFSN', 0.00045466),\n",
       " ('MVEVEFSA', 0.00042254),\n",
       " ('SILVDFQI', 0.00041937),\n",
       " ('SVEVEFSC', 0.00039571),\n",
       " ('TVIVEFSN', 0.00039331),\n",
       " ('SILVDFQV', 0.00036038),\n",
       " ('EVEVTFVN', 0.00035889),\n",
       " ('SILVDLRS', 0.00035666),\n",
       " ('EVEVEFSH', 0.00032353),\n",
       " ('SILVDFWT', 0.00030792),\n",
       " ('TIEVEFAK', 0.00029245),\n",
       " ('TVEVEFSY', 0.00027008),\n",
       " ('RYTVEFSA', 0.0002667),\n",
       " ('SYLVDFRV', 0.00025745),\n",
       " ('SVDIFVTG', 0.00024726),\n",
       " ('TVEVESNV', 0.00024409),\n",
       " ('SVEVEFSS', 0.00023052),\n",
       " ('SILVDMFC', 0.0002288),\n",
       " ('TVSVEFSN', 0.00022713),\n",
       " ('SILVDVWA', 0.0002177),\n",
       " ('NVVVEFSA', 0.00019962),\n",
       " ('SIRVEFSN', 0.00019297),\n",
       " ('SEEVEFSN', 0.00018893),\n",
       " ('GVEVEFSN', 0.00018009),\n",
       " ('TYLVEFSN', 0.00016601),\n",
       " ('NVEVTFSN', 0.00015009),\n",
       " ('EVEVTFGS', 0.00014607),\n",
       " ('SILVDFTV', 0.00013536),\n",
       " ('SILVDFET', 0.00013362),\n",
       " ('EFEVTFSN', 0.00013276),\n",
       " ('SILIVAHG', 0.00012568),\n",
       " ('SILVESRL', 0.00012289),\n",
       " ('NYTVEFSA', 0.00012131),\n",
       " ('SIVVEFSP', 0.00011338),\n",
       " ('SILVDFWQ', 0.00010543),\n",
       " ('SIVVEAVG', 9.97296738e-05),\n",
       " ('TVEVEFSG', 9.01891108e-05),\n",
       " ('SIEIVAVK', 8.37164553e-05),\n",
       " ('SIVVEFSY', 8.13387815e-05),\n",
       " ('SILVDVSG', 7.83077267e-05),\n",
       " ('IVEVEFSH', 7.62673735e-05),\n",
       " ('TVHIEFSN', 7.32409026e-05),\n",
       " ('YAEIVVHG', 6.57430137e-05),\n",
       " ('SIRVDMFL', 6.41694787e-05),\n",
       " ('TVEVTYVE', 6.11333817e-05),\n",
       " ('SVIVEFNG', 5.84296686e-05),\n",
       " ('SVEVFAKF', 5.79427833e-05),\n",
       " ('TDTVEFSA', 5.37283377e-05),\n",
       " ('SILVDFRQ', 4.92812469e-05),\n",
       " ('STLILVSG', 4.81588577e-05),\n",
       " ('TVEVQARY', 3.98354205e-05),\n",
       " ('SIRVDMAT', 3.81306818e-05),\n",
       " ('SIPVDKRI', 3.69022673e-05),\n",
       " ('SILVEFAT', 3.30867661e-05),\n",
       " ('EVEVVFTV', 2.82660203e-05),\n",
       " ('QIEVEFSA', 2.78646676e-05),\n",
       " ('SVDVFVAT', 2.65752915e-05),\n",
       " ('EVEVEFAC', 2.64901064e-05),\n",
       " ('MLEVTFSN', 2.6437936e-05),\n",
       " ('SYLRPSRY', 2.48890919e-05),\n",
       " ('SIFVEQSI', 2.40564004e-05),\n",
       " ('SIFVQAKC', 2.35320204e-05),\n",
       " ('EVEVCEFK', 2.2889044e-05),\n",
       " ('SIRVDLRI', 2.23347488e-05),\n",
       " ('TVPESVTG', 2.16227745e-05),\n",
       " ('TVEVESWA', 2.13672993e-05),\n",
       " ('SILVDMSE', 2.09531809e-05),\n",
       " ('SYLRSFRV', 2.07976664e-05),\n",
       " ('DVEVEFNL', 2.07238209e-05),\n",
       " ('ILTVEFSN', 1.82028143e-05),\n",
       " ('SILVAFTV', 1.80273928e-05),\n",
       " ('SVDEHASA', 1.77831771e-05),\n",
       " ('YLVVEFSA', 1.6835631e-05),\n",
       " ('CYELVARY', 1.65451675e-05),\n",
       " ('SIRVDMPG', 1.61346597e-05),\n",
       " ('TVIVEFAN', 1.55403195e-05),\n",
       " ('SIVVEFKT', 1.39194544e-05),\n",
       " ('STLVVAVQ', 1.34099037e-05),\n",
       " ('SILVEDSG', 1.30449653e-05),\n",
       " ('NYEIVAVK', 1.2791179e-05),\n",
       " ('SVVVEFSP', 1.21647463e-05),\n",
       " ('SIVVESEA', 9.90218086e-06),\n",
       " ('SVTGEIEG', 9.72758062e-06),\n",
       " ('HVTVEFAA', 9.51339916e-06),\n",
       " ('TVEVWGSG', 9.18622209e-06),\n",
       " ('TVEVPFSA', 9.09463688e-06),\n",
       " ('SILIEFRL', 8.58292606e-06),\n",
       " ('SEEVVETG', 7.34911009e-06),\n",
       " ('SYLVDMTI', 7.08114612e-06),\n",
       " ('SILVEFGV', 6.87547572e-06),\n",
       " ('SEEVVISG', 6.32416413e-06),\n",
       " ('DVEVIVSG', 6.12424856e-06),\n",
       " ('SYRVDMHG', 5.73471834e-06),\n",
       " ('TVEEDQEG', 4.76845162e-06),\n",
       " ('YAEIVVIS', 4.34248523e-06),\n",
       " ('SYSYVFSH', 4.18197033e-06),\n",
       " ('EWTIEFSN', 4.1577814e-06),\n",
       " ('HYTREMNV', 4.07280777e-06),\n",
       " ('TVEVTWEL', 3.67099551e-06),\n",
       " ('QVDVFVFG', 3.49607376e-06),\n",
       " ('SVEEEQES', 2.97404563e-06),\n",
       " ('DYEIVVIH', 2.85481087e-06),\n",
       " ('RYLVEFSH', 2.42663009e-06),\n",
       " ('SILVDSQD', 2.21548726e-06),\n",
       " ('TVEVWLHG', 1.98738144e-06),\n",
       " ('SVDFQRSS', 1.88526792e-06),\n",
       " ('EVYVEFAK', 1.8790106e-06),\n",
       " ('SYLAEFSA', 1.81531277e-06),\n",
       " ('SILVECGY', 1.7935447e-06),\n",
       " ('SILILLIK', 1.6466779e-06),\n",
       " ('EVEVETHA', 1.64144751e-06),\n",
       " ('SIVVDCDY', 1.62572246e-06),\n",
       " ('TVPVDMHE', 1.61770743e-06),\n",
       " ('VNVVEFSN', 1.51894847e-06),\n",
       " ('STLILLHR', 1.49378468e-06),\n",
       " ('TVRITMPI', 1.39385338e-06),\n",
       " ('SIGVFAVD', 1.38380312e-06),\n",
       " ('TYTEEMNV', 1.30026763e-06),\n",
       " ('SILVDFMH', 1.29942146e-06),\n",
       " ('SIRIHAKF', 1.29550233e-06),\n",
       " ('STEITQES', 1.25083307e-06),\n",
       " ('SITIRQSV', 1.24949065e-06),\n",
       " ('TVEVVTYK', 1.23415634e-06),\n",
       " ('SREIVLYE', 1.16191472e-06),\n",
       " ('TTQVWGSG', 1.05201468e-06),\n",
       " ('SVVVEFNS', 1.02893125e-06),\n",
       " ('NLAIITSA', 8.96859603e-07),\n",
       " ('SREVLFSE', 8.78836829e-07),\n",
       " ('SVRIIFTQ', 8.72103783e-07),\n",
       " ('DTEITVSD', 8.32473177e-07),\n",
       " ('TVEVPIVG', 7.81315634e-07),\n",
       " ('SVQVLFTH', 7.49540845e-07),\n",
       " ('SVKVQFDS', 7.07188633e-07),\n",
       " ('TYEIFWRE', 5.9753836e-07),\n",
       " ('EIVVEFDS', 5.19432319e-07),\n",
       " ('EVEVEAME', 4.94748178e-07),\n",
       " ('SYLFDVTM', 4.76108625e-07),\n",
       " ('TIEIIFKA', 4.67943778e-07),\n",
       " ('NHVTFGSA', 4.47425862e-07),\n",
       " ('SILVQANT', 4.40103094e-07),\n",
       " ('WVEIIFTV', 4.21102698e-07),\n",
       " ('SYLVDWAW', 4.20037992e-07),\n",
       " ('HVVGEGEA', 4.09999359e-07),\n",
       " ('SILVKVKL', 3.95819626e-07),\n",
       " ('PIAVDCNV', 3.9195865e-07),\n",
       " ('YAEVAVMK', 3.77024435e-07),\n",
       " ('SVEVIAAK', 3.66566951e-07),\n",
       " ('NVEFRVKT', 3.50839059e-07)]"
      ]
     },
     "execution_count": 66,
     "metadata": {},
     "output_type": "execute_result"
    }
   ],
   "source": [
    "num_candidates = 200\n",
    "max_iter = 20\n",
    "\n",
    "peptide_candidates = sample_candidates(model_base_validation, 'KVRVKMET', num_candidates, amino_dict, prediction_length + 2, device, max_iter=max_iter)\n",
    "peptide_candidates"
   ]
  },
  {
   "cell_type": "markdown",
   "metadata": {},
   "source": [
    "# Task 5: Conditional probability vs Hamming distance analysis (model wide)"
   ]
  },
  {
   "cell_type": "markdown",
   "metadata": {},
   "source": [
    "#### Build a wide model"
   ]
  },
  {
   "cell_type": "code",
   "execution_count": 67,
   "metadata": {},
   "outputs": [
    {
     "name": "stdout",
     "output_type": "stream",
     "text": [
      "Base model: total number of parameters: 29437976\n",
      "Base model: total number of trainable parameters: 29437976\n"
     ]
    },
    {
     "data": {
      "text/plain": [
       "<All keys matched successfully>"
      ]
     },
     "execution_count": 67,
     "metadata": {},
     "output_type": "execute_result"
    }
   ],
   "source": [
    "query_size, key_size, value_size, num_hiddens = 512, 512, 512, 512\n",
    "num_layers, dropout = 4, 0.1\n",
    "lr, num_epochs, batch_size, label_smoothing = 0.0004, 500, 6000, 0.1\n",
    "ffn_num_input, ffn_num_hiddens, num_heads = 512, 2048, 8\n",
    "\n",
    "norm_shape = [512] # 32 corresponds to the dim of such number to normalize\n",
    "device = d2l.try_gpu()\n",
    "\n",
    "\n",
    "encoder_wide = TransformerEncoder(\n",
    "\tlen(amino_dict), key_size, query_size, value_size, num_hiddens, \n",
    "\tnorm_shape, ffn_num_input, ffn_num_hiddens, num_heads,\n",
    "\tnum_layers, dropout)\n",
    "decoder_wide = TransformerDecoder(\n",
    "\tlen(amino_dict), key_size, query_size, value_size, num_hiddens, \n",
    "\tnorm_shape, ffn_num_input, ffn_num_hiddens, num_heads,\n",
    "\tnum_layers, dropout)\n",
    "model_wide = EncoderDecoder(encoder_wide, decoder_wide)\n",
    "\n",
    "\n",
    "model_wide_total_params = sum(p.numel() for p in model_wide.parameters())\n",
    "model_wide_total_trainable_params = sum(p.numel() for p in model_wide.parameters() if p.requires_grad)\n",
    "\n",
    "print('Wide model: total number of parameters: {}'.format(model_wide_total_params))\n",
    "print('Wide model: total number of trainable parameters: {}'.format(model_wide_total_trainable_params))\n",
    "\n",
    "\n",
    "model_wide.load_state_dict(torch.load(\"model_wide_22Jul16_1011AM\", map_location = ('cpu')))"
   ]
  },
  {
   "cell_type": "markdown",
   "metadata": {},
   "source": [
    "#### Select random targets"
   ]
  },
  {
   "cell_type": "code",
   "execution_count": 41,
   "metadata": {},
   "outputs": [
    {
     "name": "stdout",
     "output_type": "stream",
     "text": [
      "['YIRPMYWA' 'ELCLAFDT']\n"
     ]
    }
   ],
   "source": [
    "np.random.seed(0)\n",
    "max_index = BSn_data_dataset2_indices_length8_unique.shape[0]\n",
    "random_index = np.random.choice(max_index)\n",
    "\n",
    "random_target_info = BSn_data_dataset2_indices_length8_unique[random_index, :2]\n",
    "print(random_target_info)"
   ]
  },
  {
   "cell_type": "markdown",
   "metadata": {},
   "source": [
    "#### Sampling from model"
   ]
  },
  {
   "cell_type": "markdown",
   "metadata": {},
   "source": [
    "Do not run following cells on local machine! This is time consuming. "
   ]
  },
  {
   "cell_type": "code",
   "execution_count": 42,
   "metadata": {},
   "outputs": [
    {
     "name": "stdout",
     "output_type": "stream",
     "text": [
      "random target: YIRPMYWA\n",
      "random label: ELCLAFDT\n"
     ]
    }
   ],
   "source": [
    "target = random_target_info[0]\n",
    "label = random_target_info[1]\n",
    "\n",
    "print(\"random target:\", target)\n",
    "print(\"random label:\", label)"
   ]
  },
  {
   "cell_type": "code",
   "execution_count": 44,
   "metadata": {},
   "outputs": [
    {
     "name": "stdout",
     "output_type": "stream",
     "text": [
      "number of total candidates sampled: 312\n",
      "number of unique top candidates successfully sampled: 100\n",
      "number of clean samples obtained: 100\n"
     ]
    }
   ],
   "source": [
    "# unique top candidates sampling\n",
    "\n",
    "# large num_candidates is recommended if we have enough memory\n",
    "\n",
    "num_candidates = 100\n",
    "max_iter = 10\n",
    "prediction_length = 8\n",
    "\n",
    "peptide_candidates = sample_candidates(model_wide, target, num_candidates, amino_dict, prediction_length + 2, device, max_iter=max_iter)\n",
    "peptide_candidates_array = np.array(peptide_candidates)"
   ]
  },
  {
   "cell_type": "code",
   "execution_count": 45,
   "metadata": {},
   "outputs": [
    {
     "data": {
      "text/plain": [
       "Text(0.5, 1.0, '<model_wide> sampling distribution plot')"
      ]
     },
     "execution_count": 45,
     "metadata": {},
     "output_type": "execute_result"
    },
    {
     "data": {
      "image/png": "[encoded data removed]",
      "text/plain": [
       "<Figure size 1728x1152 with 1 Axes>"
      ]
     },
     "metadata": {},
     "output_type": "display_data"
    }
   ],
   "source": [
    "random_samples = list(list(zip(*peptide_candidates_array))[0])\n",
    "random_samples_probs = list(list(zip(*peptide_candidates_array))[1])\n",
    "label_list = [label]*num_candidates\n",
    "random_samples_hamming = hamming_distance_list(random_samples, label_list)\n",
    "\n",
    "# prob vs hamming plot \n",
    "plt.figure(figsize=(24, 16), facecolor=(1, 1, 1))\n",
    "file_time = time.strftime('%y%b%d_%I%M%p', time.gmtime())\n",
    "model_name = 'model_wide'\n",
    "\n",
    "plt.scatter(random_samples_hamming, random_samples_probs, label='Target:       {} \\n PDB label: {}'.format(target, label), c='r', s=5)\n",
    "plt.xlabel('Hamming distances')\n",
    "plt.ylabel('Probability of generation')\n",
    "plt.legend()\n",
    "plt.yscale('log')\n",
    "plt.title(\"<{}> sampling distribution plot\".format(model_name))\n",
    "# plt.grid()\n",
    "# plt.savefig('{}_prob_hamming_plot_{}.png'.format(model_name, file_time))"
   ]
  },
  {
   "cell_type": "markdown",
   "metadata": {},
   "source": [
    "#### Save unique length 7 predictions in a folder/files/table"
   ]
  },
  {
   "cell_type": "code",
   "execution_count": 107,
   "metadata": {},
   "outputs": [
    {
     "name": "stdout",
     "output_type": "stream",
     "text": [
      "number of length 7 samples:  (99856, 10)\n",
      "number of unique length 7 sample:  (76435, 10)\n"
     ]
    }
   ],
   "source": [
    "prediction_length = 7\n",
    "\n",
    "# unique length 7 targets\n",
    "target_indices = np.arange(BSn_data_dataset2.shape[0]).reshape(-1, 1)\n",
    "BSn_data_dataset2_indices = np.hstack([BSn_data_dataset2, target_indices])\n",
    "\n",
    "condition1 = np.nonzero(np.array([length==prediction_length for length in BSn_data_dataset2_indices[:, 4]]))\n",
    "BSn_data_dataset2_indices_length_7 = BSn_data_dataset2_indices[condition1]\n",
    "\n",
    "condition2 = np.nonzero(np.array([freq==1 for freq in BSn_data_dataset2_indices_length_7[:, -2]]))\n",
    "BSn_data_dataset2_indices_length_7_unique = BSn_data_dataset2_indices_length_7[condition2]\n",
    "\n",
    "\n",
    "print(\"number of length 7 samples: \", BSn_data_dataset2_indices_length_7.shape)\n",
    "print(\"number of unique length 7 sample: \", BSn_data_dataset2_indices_length_7_unique.shape)\n",
    "# target, complementary_seq, counts, promiscuity, length, working_score, hb_pattern, para/anti, freq, indices"
   ]
  },
  {
   "cell_type": "code",
   "execution_count": 69,
   "metadata": {},
   "outputs": [
    {
     "name": "stdout",
     "output_type": "stream",
     "text": [
      "['WLLTGYI' 'TVNLHGF' 'LYELISR' 'IFVTLLI' 'AVQQRII' 'EVIVQWT' 'EIRIRDG'\n",
      " 'HVMVVGH' 'YQLNQVF' 'KIRIFVP']\n",
      "['FRLELRS' 'KVNLFLI' 'IKRIFVP' 'VHLTAIA' 'NLKANVV' 'TLALSID' 'QIDIGCF'\n",
      " 'FVHGWLY' 'IKISVVY' 'EAVIIDV']\n"
     ]
    }
   ],
   "source": [
    "target_array = BSn_data_dataset2_indices_length_7_unique[:, 0]\n",
    "label_array = BSn_data_dataset2_indices_length_7_unique[:, 1]\n",
    "\n",
    "print(target_array[:10])\n",
    "print(label_array[:10])"
   ]
  },
  {
   "cell_type": "code",
   "execution_count": 104,
   "metadata": {},
   "outputs": [
    {
     "name": "stdout",
     "output_type": "stream",
     "text": [
      "number of total candidates sampled: 348\n",
      "number of unique top candidates successfully sampled: 100\n"
     ]
    }
   ],
   "source": [
    "# predicted peptides, prob, hamming\n",
    "\n",
    "num_candidates = 2000\n",
    "max_iter = 1000\n",
    "\n",
    "total_num_files = target_array.shape[0]\n",
    "\n",
    "count = 1\n",
    "\n",
    "for target, label in zip(target_array, label_array):\n",
    "\tfinal_array = np.zeros((num_candidates, 3), dtype=object)\n",
    "\n",
    "\tpeptide_candidates = sample_candidates(model_wide, target, num_candidates, amino_dict, prediction_length + 2, device, max_iter=max_iter)\n",
    "\tpeptide_candidates_array = np.array(peptide_candidates)\n",
    "\trandom_samples = list(list(zip(*peptide_candidates_array))[0]) # < ----------------\n",
    "\trandom_samples_probs = list(list(zip(*peptide_candidates_array))[1]) # <-----------\n",
    "\tlabel_list = [label]*num_candidates\n",
    "\trandom_samples_hamming = hamming_distance_list(random_samples, label_list) # < -----\n",
    "\n",
    "\trandom_samples_array = np.array(random_samples)\n",
    "\trandom_samples_probs_array = np.array(random_samples_probs)\n",
    "\trandom_samples_hamming_array = np.array(random_samples_hamming)\n",
    "\n",
    "\tfinal_array[:, 0] = random_samples_array\n",
    "\tfinal_array[:, 1] = random_samples_probs_array\n",
    "\tfinal_array[:, 2] = random_samples_hamming_array\n",
    "\n",
    "\t# save to csv file\n",
    "\tnp.savetxt('{}_{}.csv'.format(target, label), final_array, delimiter=',', fmt='%s')\n",
    "\n",
    "\tprint(\"{}/{} file saved\".format(count, total_num_files))\n",
    "\tcount += 1\n"
   ]
  },
  {
   "cell_type": "code",
   "execution_count": 105,
   "metadata": {},
   "outputs": [],
   "source": [
    "# load data \n",
    "# data = np.loadtxt('data.csv', delimiter=',', dtype=object)\n",
    "# data[:, 1] = data[:, 1].astype(np.float64)\n",
    "# data[:, 2] = data[:, 2].astype(np.int64)"
   ]
  },
  {
   "cell_type": "markdown",
   "metadata": {},
   "source": [
    "# Task 6: Model Wide Validation analysis"
   ]
  },
  {
   "cell_type": "markdown",
   "metadata": {},
   "source": [
    "#### Build Model Wide Validation"
   ]
  },
  {
   "cell_type": "code",
   "execution_count": 77,
   "metadata": {},
   "outputs": [
    {
     "name": "stdout",
     "output_type": "stream",
     "text": [
      "Wide model: total number of parameters: 29437976\n",
      "Wide model: total number of trainable parameters: 29437976\n"
     ]
    },
    {
     "data": {
      "text/plain": [
       "<All keys matched successfully>"
      ]
     },
     "execution_count": 77,
     "metadata": {},
     "output_type": "execute_result"
    }
   ],
   "source": [
    "query_size, key_size, value_size, num_hiddens = 512, 512, 512, 512\n",
    "num_layers, dropout = 4, 0.1\n",
    "lr, num_epochs, batch_size, label_smoothing = 0.0004, 500, 6000, 0.1\n",
    "ffn_num_input, ffn_num_hiddens, num_heads = 512, 2048, 8\n",
    "\n",
    "norm_shape = [512] # 32 corresponds to the dim of such number to normalize\n",
    "device = d2l.try_gpu()\n",
    "\n",
    "\n",
    "encoder_wide = TransformerEncoder(\n",
    "\tlen(amino_dict), key_size, query_size, value_size, num_hiddens, \n",
    "\tnorm_shape, ffn_num_input, ffn_num_hiddens, num_heads,\n",
    "\tnum_layers, dropout)\n",
    "decoder_wide = TransformerDecoder(\n",
    "\tlen(amino_dict), key_size, query_size, value_size, num_hiddens, \n",
    "\tnorm_shape, ffn_num_input, ffn_num_hiddens, num_heads,\n",
    "\tnum_layers, dropout)\n",
    "model_wide_validation = EncoderDecoder(encoder_wide, decoder_wide)\n",
    "\n",
    "\n",
    "model_wide_validation_total_params = sum(p.numel() for p in model_wide_validation.parameters())\n",
    "model_wide_validation_total_trainable_params = sum(p.numel() for p in model_wide_validation.parameters() if p.requires_grad)\n",
    "\n",
    "print('Wide model: total number of parameters: {}'.format(model_wide_validation_total_params))\n",
    "print('Wide model: total number of trainable parameters: {}'.format(model_wide_validation_total_trainable_params))\n",
    "\n",
    "\n",
    "model_wide_validation.load_state_dict(torch.load(\"model_wide_validation_22Jul19_0332PM\", map_location = ('cpu')))"
   ]
  },
  {
   "cell_type": "markdown",
   "metadata": {},
   "source": [
    "#### Hamming distance analysis on validation set"
   ]
  },
  {
   "cell_type": "code",
   "execution_count": 78,
   "metadata": {},
   "outputs": [
    {
     "name": "stdout",
     "output_type": "stream",
     "text": [
      "['KEMIQEVI' 'FTMLELYE' 'KQVFTVPY' 'DYEVTLTR' 'FHLDVDIS' 'DLRAMPAH'\n",
      " 'KTIYIYNV' 'SREYHICV' 'VYSILTSS' 'KVRVKMET']\n",
      "['LAKPIYLT' 'VRGIEYVK' 'HIIVKLEG' 'RVTLTALY' 'LHFTVKGI' 'SNVWKLGA'\n",
      " 'GTFICGIN' 'TLTVVAHV' 'FYLTAETI' 'TVEVEFSN']\n",
      "(5000, 4)\n"
     ]
    }
   ],
   "source": [
    "prediction_length = 8\n",
    "\n",
    "num_minibatch = 50\n",
    "\n",
    "print(X_validation_letter[:10])\n",
    "print(Y_validation_letter[:10])\n",
    "\n",
    "peptide_pred_list = []\n",
    "num_iter = int(len(X_validation_letter)/num_minibatch)\n",
    "\n",
    "for i in range(num_iter):\n",
    "\tpeptide_pred = predict_greedy_batch(model_wide_validation, X_validation_letter[num_minibatch*i:num_minibatch*i+num_minibatch], amino_dict, prediction_length + 2, device)\n",
    "\tpeptide_pred_list.append(peptide_pred)\n",
    "peptide_pred_array = np.vstack(peptide_pred_list)\n",
    "peptide_pred_array_new = np.hstack([peptide_pred_array, np.array(Y_validation_letter).reshape(-1, 1)])\n",
    "# target, prediction, greedy_prob, label\n",
    "\n",
    "print(peptide_pred_array_new.shape)"
   ]
  },
  {
   "cell_type": "code",
   "execution_count": 80,
   "metadata": {},
   "outputs": [
    {
     "name": "stdout",
     "output_type": "stream",
     "text": [
      "target      prediction      probability       PDB_label\n",
      "[['KEMIQEVI' 'LAKPIYLT' '0.5870164036750793' 'LAKPIYLT']\n",
      " ['FTMLELYE' 'VRGIEYVK' '0.5109961628913879' 'VRGIEYVK']\n",
      " ['KQVFTVPY' 'HIIVKLEG' '0.6000309586524963' 'HIIVKLEG']\n",
      " ['DYEVTLTR' 'RVTLTALY' '0.6115418672561646' 'RVTLTALY']\n",
      " ['FHLDVDIS' 'LHFTVKGI' '0.4980522394180298' 'LHFTVKGI']\n",
      " ['DLRAMPAH' 'SNVWKLGA' '0.6242100596427917' 'SNVWKLGA']\n",
      " ['KTIYIYNV' 'GTFICGIN' '0.5452306270599365' 'GTFICGIN']\n",
      " ['SREYHICV' 'TLTVVAHV' '0.5450505018234253' 'TLTVVAHV']\n",
      " ['VYSILTSS' 'FYLTAETI' '0.5651091933250427' 'FYLTAETI']\n",
      " ['KVRVKMET' 'TVEVEFSN' '0.45552313327789307' 'TVEVEFSN']\n",
      " ['LEGVFSFS' 'VRITQSDR' '0.5577001571655273' 'VRITQSDR']\n",
      " ['GTNSIKLV' 'ASLSWVIS' '0.572431206703186' 'ASLSWVIS']\n",
      " ['TEGIWRGV' 'ATFPVNII' '0.5230062007904053' 'ATFPVNII']\n",
      " ['KRTEDKTS' 'DFQINQTV' '0.5170217752456665' 'DFQINQTV']\n",
      " ['FVEEVFEN' 'RLRVWRRR' '0.5139182209968567' 'RLRVWRRR']\n",
      " ['EFFIIAYE' 'RIFEFKVV' '0.5361490845680237' 'RIFEFKVV']\n",
      " ['TNASLVIK' 'GFSNSLVY' '0.5385259985923767' 'GFSNSLVY']\n",
      " ['AIFDGTVT' 'IYESFKYS' '0.5170488953590393' 'IYESFKYS']\n",
      " ['CFEVASIP' 'RIREMRLI' '0.602592945098877' 'RIREMRLI']\n",
      " ['KCNYRIWT' 'VFRVNTVN' '0.5146044492721558' 'VFRVNTVN']]\n"
     ]
    }
   ],
   "source": [
    "print(\"target      prediction      probability       PDB_label\")\n",
    "print(peptide_pred_array_new[0:20, :])"
   ]
  },
  {
   "cell_type": "code",
   "execution_count": 79,
   "metadata": {},
   "outputs": [
    {
     "name": "stdout",
     "output_type": "stream",
     "text": [
      "Sequence length: 8\n",
      "mismatched sequences: 346, total sequences: 5000\n",
      "mismatched residues: 1931, total residues: 40000\n",
      "hamming distance (per sequence): 0.3862\n",
      "----------------------------------------------------------\n",
      "Sequences prediction accuracy:  0.9308\n",
      "Residue prediction accuracy:  0.951725\n"
     ]
    }
   ],
   "source": [
    "# process the results to study mismatched sequences\n",
    "# target, prediction, prob, label\n",
    "\n",
    "num_validation = len(X_validation_letter)\n",
    "total_residue = num_validation * prediction_length\n",
    "print(\"Sequence length:\", prediction_length)\n",
    "\n",
    "peptide_validation_mismatchs = peptide_pred_array_new[peptide_pred_array_new[:, 1] != np.array(Y_validation_letter)]\n",
    "print(\"mismatched sequences: {}, total sequences: {}\".format(peptide_validation_mismatchs.shape[0], num_validation))\n",
    "\n",
    "peptide_validation_hamming = hamming_distance_sum(peptide_pred_array_new[:, 1], np.array(Y_validation_letter))\n",
    "print(\"mismatched residues: {}, total residues: {}\".format(peptide_validation_hamming, total_residue))\n",
    "\n",
    "print(\"hamming distance (per sequence): {}\".format(peptide_validation_hamming/peptide_pred_array_new.shape[0]))\n",
    "\n",
    "print(\"----------------------------------------------------------\")\n",
    "print(\"Sequences prediction accuracy: \", (num_validation-peptide_validation_mismatchs.shape[0])/num_validation)\n",
    "print(\"Residue prediction accuracy: \", (total_residue-peptide_validation_hamming)/total_residue) "
   ]
  },
  {
   "cell_type": "code",
   "execution_count": 76,
   "metadata": {},
   "outputs": [
    {
     "name": "stdout",
     "output_type": "stream",
     "text": [
      "target      prediction      probability       PDB_label\n",
      "[['LLETNQTL' 'PQKLTFTS' '0.2816137373447418' 'PQKLTFTF']\n",
      " ['NRIELKGT' 'VELDGDVK' '0.2329992800951004' 'VVARTKYK']\n",
      " ['PQFKVDGK' 'NYFEVNCT' '0.06316174566745758' 'FKAETNIS']\n",
      " ['IRATWVLG' 'PSNHYALT' '0.07798828184604645' 'GQTILIAT']\n",
      " ['NIGCIFTG' 'CDLIDIYA' '0.34383484721183777' 'VNYIYITK']\n",
      " ['AQGFILDL' 'KVGFLGLL' '0.12808415293693542' 'VTRAELRA']\n",
      " ['LKLFSIDR' 'VVVCSASF' '0.3233669698238373' 'VVVCSASH']\n",
      " ['SRIIHLSV' 'ALTFSVET' '0.2309432029724121' 'LLTFSVET']\n",
      " ['KGEFQVIG' 'ELHIFGSI' '0.5181494355201721' 'TYRYIGTL']\n",
      " ['ALENRSIT' 'AVSEESIA' '0.3945940136909485' 'ALGMENRQ']\n",
      " ['HIKADMKL' 'THDIHLHG' '0.3814409077167511' 'EYSYKFET']\n",
      " ['NSAILKTW' 'FSISQNLV' '0.42294007539749146' 'FNISQNLV']\n",
      " ['TLSLDVLY' 'NYRVGFYY' '0.26332971453666687' 'GVGLRVGL']\n",
      " ['KLRMEGNV' 'YNKVRFYG' '0.23072834312915802' 'DGDIVFHH']\n",
      " ['HRVVAGYD' 'GAYQGFFQ' '0.17023536562919617' 'YQGAVSVY']\n",
      " ['SLYVSATV' 'PIRAVSVA' '0.05192862078547478' 'QIGFIVFA']\n",
      " ['NIEVTVIN' 'TVAYQLTL' '0.49306103587150574' 'RFKYTKRG']\n",
      " ['GIFSKDLV' 'MEIFKYPL' '0.2678166925907135' 'MEIFKYPV']\n",
      " ['DIEITFAF' 'NLSQTASV' '0.15161684155464172' 'GVKIRCTA']\n",
      " ['HMKIEEKI' 'RLMIMGHL' '0.48440036177635193' 'STETTFLV']]\n"
     ]
    }
   ],
   "source": [
    "print(\"target      prediction      probability       PDB_label\")\n",
    "print(peptide_validation_mismatchs[0:20, :])"
   ]
  },
  {
   "cell_type": "markdown",
   "metadata": {},
   "source": [
    "#### Individual mismatch sampling"
   ]
  },
  {
   "cell_type": "code",
   "execution_count": 89,
   "metadata": {},
   "outputs": [
    {
     "name": "stdout",
     "output_type": "stream",
     "text": [
      "Conditional probability at position 1 is 0.9628952741622925\n",
      "Conditional probability at position 2 is 0.9390546679496765\n",
      "Conditional probability at position 3 is 0.9531745314598083\n",
      "Conditional probability at position 4 is 0.9435302019119263\n",
      "Conditional probability at position 5 is 0.9461644887924194\n",
      "Conditional probability at position 6 is 0.9449514150619507\n",
      "Conditional probability at position 7 is 0.9540488123893738\n",
      "Conditional probability at position 8 is 0.50467449426651\n",
      "Conditional probability at position 9 is 0.9237192869186401\n",
      "Input target sequence is LKLFSIDR, predicted complementary peptide is VVVCSASF\n",
      "Condition on input, predicted probability is 0.32336741449507644\n"
     ]
    }
   ],
   "source": [
    "dec_comple_peptide_pred, dec_prob, dec_attention_weight_seq = predict_greedy_single(model_wide_validation, 'HIKADMKL', amino_dict, prediction_length + 2, device, save_attention_weights=True, print_info=True)"
   ]
  },
  {
   "cell_type": "code",
   "execution_count": 103,
   "metadata": {},
   "outputs": [
    {
     "name": "stdout",
     "output_type": "stream",
     "text": [
      "number of total candidates sampled: 324\n",
      "number of unique top candidates successfully sampled: 100\n"
     ]
    },
    {
     "data": {
      "text/plain": [
       "[('RLMIMGHL', 0.48440048),\n",
       " ('STETTFLV', 0.08871287),\n",
       " ('ELMIMGHL', 0.00347034),\n",
       " ('RLMIMGHR', 0.00267642),\n",
       " ('RLMIMGHN', 0.00235397),\n",
       " ('RLMIMGHS', 0.00229233),\n",
       " ('RLMIMGEG', 0.00189569),\n",
       " ('RLMIMGHP', 0.00178945),\n",
       " ('RLMIMGHF', 0.00171192),\n",
       " ('RLMIMGCK', 0.00166817),\n",
       " ('RLRIMGHL', 0.00145146),\n",
       " ('RLMIMGPW', 0.00133409),\n",
       " ('RLMIMGHV', 0.00133044),\n",
       " ('RLMIMGSR', 0.00123854),\n",
       " ('RLMITLLR', 0.00106754),\n",
       " ('RLMIMGHT', 0.00101379),\n",
       " ('RLLIMGHL', 0.00069795),\n",
       " ('RLMIMGDY', 0.00068726),\n",
       " ('RLMIMGVL', 0.00067319),\n",
       " ('SLETTFLV', 0.00062553),\n",
       " ('RLMIMGFH', 0.00059342),\n",
       " ('RLMIHSVK', 0.00053626),\n",
       " ('RLMIMGNL', 0.00052722),\n",
       " ('RLMIMGWG', 0.00043342),\n",
       " ('KLMIMGHL', 0.00036688),\n",
       " ('RLKIAIST', 0.00035189),\n",
       " ('RLMIMGQH', 0.00034069),\n",
       " ('STETTFPV', 0.00031824),\n",
       " ('RLMIMIAH', 0.00031623),\n",
       " ('STETTFLR', 0.00031487),\n",
       " ('RLMSNAYL', 0.00026317),\n",
       " ('RLMIMTGF', 0.000201),\n",
       " ('RLMIMGPS', 0.00019776),\n",
       " ('STETTFTS', 0.00018746),\n",
       " ('RLMIMTSK', 0.00018731),\n",
       " ('STETTFLN', 0.00018028),\n",
       " ('STETTFEL', 0.00016491),\n",
       " ('STETTPTK', 0.00015704),\n",
       " ('RLMWLVLL', 0.00014117),\n",
       " ('STETTFCL', 0.00013821),\n",
       " ('RLMISLFK', 0.00012452),\n",
       " ('STETTFNL', 0.00011729),\n",
       " ('STETTITK', 8.54830796e-05),\n",
       " ('RLMPTSLV', 8.41732763e-05),\n",
       " ('RLAYGRWF', 4.83518888e-05),\n",
       " ('RLSYRRSF', 4.62539392e-05),\n",
       " ('RLFIYSKH', 4.34987851e-05),\n",
       " ('RLMIMGGW', 4.10191969e-05),\n",
       " ('RLMIWAKR', 3.57892932e-05),\n",
       " ('RLMIKIMH', 2.86002978e-05),\n",
       " ('RLMIIKSV', 2.84875168e-05),\n",
       " ('RLMIGISI', 2.55055184e-05),\n",
       " ('DWEIYKWV', 2.09575755e-05),\n",
       " ('RLMCMFLV', 2.0282745e-05),\n",
       " ('RRSMYLGY', 1.98378893e-05),\n",
       " ('RLMIMHSW', 1.96274705e-05),\n",
       " ('RLMIMGCT', 1.66688969e-05),\n",
       " ('RLMICTSL', 1.63516652e-05),\n",
       " ('RLMIMGDD', 1.47508999e-05),\n",
       " ('RLMIMSLV', 1.11670615e-05),\n",
       " ('RLMICIVR', 1.06163843e-05),\n",
       " ('RLQLTFLV', 8.78384708e-06),\n",
       " ('RLMLMIKR', 7.73426746e-06),\n",
       " ('RLMINLKI', 5.51023504e-06),\n",
       " ('STETTAGY', 4.54835936e-06),\n",
       " ('RCRYIVKH', 4.38785037e-06),\n",
       " ('RLMIEGPY', 3.91991307e-06),\n",
       " ('RKVVYAGH', 3.8358603e-06),\n",
       " ('RLMIGLYR', 2.73627074e-06),\n",
       " ('RLHPVAGH', 2.65593371e-06),\n",
       " ('RLCIYLFK', 2.54014867e-06),\n",
       " ('REKIVISC', 6.28397743e-07),\n",
       " ('RLYIFYKA', 4.23724686e-07),\n",
       " ('STERKLEK', 3.97041703e-07),\n",
       " ('SLVGVYWG', 3.21661474e-07),\n",
       " ('SMEYYKEG', 3.04987282e-07),\n",
       " ('EGEGDYKS', 2.84919707e-07),\n",
       " ('RTVLTLLV', 2.76992552e-07),\n",
       " ('RLMIVWGA', 2.5128827e-07),\n",
       " ('DWEQGKSV', 2.37149479e-07),\n",
       " ('FVMYRSTL', 2.36652809e-07),\n",
       " ('RHVIADIK', 2.20334258e-07),\n",
       " ('RLMDNASM', 1.87264604e-07),\n",
       " ('HIVMGHFS', 1.86418433e-07),\n",
       " ('RLMTKQSY', 1.64163708e-07),\n",
       " ('STETDFSL', 1.10783638e-07),\n",
       " ('STDVVYAS', 5.63930698e-08),\n",
       " ('RLMHTRTL', 3.7938495e-08),\n",
       " ('RDVHVVEG', 3.48733877e-08),\n",
       " ('DWEIYSRI', 9.99386529e-09),\n",
       " ('RLMRWTVV', 8.50812931e-09),\n",
       " ('ALMYRSTY', 6.41347908e-09),\n",
       " ('TLTIEYWT', 5.49727996e-09),\n",
       " ('STKIQSTP', 5.0492992e-09),\n",
       " ('RLKMYLGM', 4.21701518e-09),\n",
       " ('RAMLYKKR', 2.48994048e-09),\n",
       " ('REERHSAT', 2.29135155e-09),\n",
       " ('SDTETYLV', 2.13989693e-09),\n",
       " ('RLDDVTME', 1.36791234e-09),\n",
       " ('RGPFGRIG', 7.84691867e-10)]"
      ]
     },
     "execution_count": 103,
     "metadata": {},
     "output_type": "execute_result"
    }
   ],
   "source": [
    "num_candidates = 100\n",
    "max_iter = 20\n",
    "\n",
    "peptide_candidates = sample_candidates(model_wide_validation, 'HMKIEEKI', num_candidates, amino_dict, prediction_length + 2, device, max_iter=max_iter)\n",
    "peptide_candidates"
   ]
  },
  {
   "cell_type": "markdown",
   "metadata": {},
   "source": [
    "#### Further sampling validation"
   ]
  },
  {
   "cell_type": "code",
   "execution_count": 91,
   "metadata": {},
   "outputs": [
    {
     "name": "stdout",
     "output_type": "stream",
     "text": [
      "number of total candidates sampled: 384\n",
      "number of unique top candidates successfully sampled: 100\n",
      "Quality of current prediction: 1\n",
      "number of total candidates sampled: 260\n",
      "number of unique top candidates successfully sampled: 100\n",
      "Quality of current prediction: 3\n",
      "number of total candidates sampled: 200\n",
      "number of unique top candidates successfully sampled: 100\n",
      "Quality of current prediction: 0\n",
      "number of total candidates sampled: 226\n",
      "number of unique top candidates successfully sampled: 100\n",
      "Quality of current prediction: 0\n",
      "number of total candidates sampled: 274\n",
      "number of unique top candidates successfully sampled: 100\n",
      "Quality of current prediction: 1\n",
      "number of total candidates sampled: 218\n",
      "number of unique top candidates successfully sampled: 100\n",
      "Quality of current prediction: 2\n",
      "number of total candidates sampled: 374\n",
      "number of unique top candidates successfully sampled: 100\n",
      "Quality of current prediction: 1\n",
      "number of total candidates sampled: 256\n",
      "number of unique top candidates successfully sampled: 100\n",
      "Quality of current prediction: 0\n",
      "number of total candidates sampled: 386\n",
      "number of unique top candidates successfully sampled: 100\n",
      "Quality of current prediction: 1\n",
      "number of total candidates sampled: 264\n",
      "number of unique top candidates successfully sampled: 100\n",
      "Quality of current prediction: 1\n",
      "number of total candidates sampled: 264\n",
      "number of unique top candidates successfully sampled: 100\n",
      "Quality of current prediction: 1\n",
      "number of total candidates sampled: 296\n",
      "number of unique top candidates successfully sampled: 100\n",
      "Quality of current prediction: 1\n",
      "number of total candidates sampled: 326\n",
      "number of unique top candidates successfully sampled: 100\n",
      "Quality of current prediction: 1\n",
      "number of total candidates sampled: 272\n",
      "number of unique top candidates successfully sampled: 100\n",
      "Quality of current prediction: 1\n",
      "number of total candidates sampled: 252\n",
      "number of unique top candidates successfully sampled: 100\n",
      "Quality of current prediction: 1\n",
      "number of total candidates sampled: 200\n",
      "number of unique top candidates successfully sampled: 100\n",
      "Quality of current prediction: 0\n",
      "number of total candidates sampled: 294\n",
      "number of unique top candidates successfully sampled: 100\n",
      "Quality of current prediction: 1\n",
      "number of total candidates sampled: 340\n",
      "number of unique top candidates successfully sampled: 100\n",
      "Quality of current prediction: 2\n",
      "number of total candidates sampled: 332\n",
      "number of unique top candidates successfully sampled: 100\n",
      "Quality of current prediction: 0\n",
      "number of total candidates sampled: 376\n",
      "number of unique top candidates successfully sampled: 100\n",
      "Quality of current prediction: 1\n",
      "number of total candidates sampled: 314\n",
      "number of unique top candidates successfully sampled: 100\n",
      "Quality of current prediction: 1\n",
      "number of total candidates sampled: 362\n",
      "number of unique top candidates successfully sampled: 100\n",
      "Quality of current prediction: 1\n",
      "number of total candidates sampled: 282\n",
      "number of unique top candidates successfully sampled: 100\n",
      "Quality of current prediction: 1\n",
      "number of total candidates sampled: 244\n",
      "number of unique top candidates successfully sampled: 100\n",
      "Quality of current prediction: 1\n",
      "number of total candidates sampled: 326\n",
      "number of unique top candidates successfully sampled: 100\n",
      "Quality of current prediction: 1\n",
      "number of total candidates sampled: 292\n",
      "number of unique top candidates successfully sampled: 100\n",
      "Quality of current prediction: 1\n",
      "number of total candidates sampled: 320\n",
      "number of unique top candidates successfully sampled: 100\n",
      "Quality of current prediction: 1\n",
      "number of total candidates sampled: 348\n",
      "number of unique top candidates successfully sampled: 100\n",
      "Quality of current prediction: 1\n",
      "number of total candidates sampled: 338\n",
      "number of unique top candidates successfully sampled: 100\n",
      "Quality of current prediction: 1\n",
      "number of total candidates sampled: 272\n",
      "number of unique top candidates successfully sampled: 100\n",
      "Quality of current prediction: 2\n",
      "number of total candidates sampled: 290\n",
      "number of unique top candidates successfully sampled: 100\n",
      "Quality of current prediction: 3\n",
      "number of total candidates sampled: 350\n",
      "number of unique top candidates successfully sampled: 100\n",
      "Quality of current prediction: 0\n",
      "number of total candidates sampled: 366\n",
      "number of unique top candidates successfully sampled: 100\n",
      "Quality of current prediction: 2\n",
      "number of total candidates sampled: 306\n",
      "number of unique top candidates successfully sampled: 100\n",
      "Quality of current prediction: 1\n",
      "number of total candidates sampled: 266\n",
      "number of unique top candidates successfully sampled: 100\n",
      "Quality of current prediction: 1\n",
      "number of total candidates sampled: 596\n",
      "number of unique top candidates successfully sampled: 100\n",
      "Quality of current prediction: 1\n",
      "number of total candidates sampled: 224\n",
      "number of unique top candidates successfully sampled: 100\n",
      "Quality of current prediction: 0\n",
      "number of total candidates sampled: 334\n",
      "number of unique top candidates successfully sampled: 100\n",
      "Quality of current prediction: 1\n",
      "number of total candidates sampled: 200\n",
      "number of unique top candidates successfully sampled: 100\n",
      "Quality of current prediction: 3\n",
      "number of total candidates sampled: 238\n",
      "number of unique top candidates successfully sampled: 100\n",
      "Quality of current prediction: 1\n",
      "number of total candidates sampled: 322\n",
      "number of unique top candidates successfully sampled: 100\n",
      "Quality of current prediction: 0\n",
      "number of total candidates sampled: 224\n",
      "number of unique top candidates successfully sampled: 100\n",
      "Quality of current prediction: 0\n",
      "number of total candidates sampled: 270\n",
      "number of unique top candidates successfully sampled: 100\n",
      "Quality of current prediction: 2\n",
      "number of total candidates sampled: 216\n",
      "number of unique top candidates successfully sampled: 100\n",
      "Quality of current prediction: 2\n",
      "number of total candidates sampled: 352\n",
      "number of unique top candidates successfully sampled: 100\n",
      "Quality of current prediction: 3\n",
      "number of total candidates sampled: 254\n",
      "number of unique top candidates successfully sampled: 100\n",
      "Quality of current prediction: 1\n",
      "number of total candidates sampled: 274\n",
      "number of unique top candidates successfully sampled: 100\n",
      "Quality of current prediction: 1\n",
      "number of total candidates sampled: 298\n",
      "number of unique top candidates successfully sampled: 100\n",
      "Quality of current prediction: 5\n",
      "number of total candidates sampled: 310\n",
      "number of unique top candidates successfully sampled: 100\n",
      "Quality of current prediction: 1\n",
      "number of total candidates sampled: 424\n",
      "number of unique top candidates successfully sampled: 100\n",
      "Quality of current prediction: 1\n",
      "number of total candidates sampled: 314\n",
      "number of unique top candidates successfully sampled: 100\n",
      "Quality of current prediction: 1\n",
      "number of total candidates sampled: 350\n",
      "number of unique top candidates successfully sampled: 100\n",
      "Quality of current prediction: 1\n",
      "number of total candidates sampled: 268\n",
      "number of unique top candidates successfully sampled: 100\n",
      "Quality of current prediction: 1\n",
      "number of total candidates sampled: 348\n",
      "number of unique top candidates successfully sampled: 100\n",
      "Quality of current prediction: 2\n",
      "number of total candidates sampled: 292\n",
      "number of unique top candidates successfully sampled: 100\n",
      "Quality of current prediction: 3\n",
      "number of total candidates sampled: 296\n",
      "number of unique top candidates successfully sampled: 100\n",
      "Quality of current prediction: 1\n",
      "number of total candidates sampled: 222\n",
      "number of unique top candidates successfully sampled: 100\n",
      "Quality of current prediction: 2\n",
      "number of total candidates sampled: 288\n",
      "number of unique top candidates successfully sampled: 100\n",
      "Quality of current prediction: 1\n",
      "number of total candidates sampled: 382\n",
      "number of unique top candidates successfully sampled: 100\n",
      "Quality of current prediction: 1\n",
      "number of total candidates sampled: 278\n",
      "number of unique top candidates successfully sampled: 100\n",
      "Quality of current prediction: 0\n",
      "number of total candidates sampled: 278\n",
      "number of unique top candidates successfully sampled: 100\n",
      "Quality of current prediction: 1\n",
      "number of total candidates sampled: 274\n",
      "number of unique top candidates successfully sampled: 100\n",
      "Quality of current prediction: 1\n",
      "number of total candidates sampled: 316\n",
      "number of unique top candidates successfully sampled: 100\n",
      "Quality of current prediction: 1\n",
      "number of total candidates sampled: 242\n",
      "number of unique top candidates successfully sampled: 100\n",
      "Quality of current prediction: 0\n",
      "number of total candidates sampled: 270\n",
      "number of unique top candidates successfully sampled: 100\n",
      "Quality of current prediction: 3\n",
      "number of total candidates sampled: 224\n",
      "number of unique top candidates successfully sampled: 100\n",
      "Quality of current prediction: 1\n",
      "number of total candidates sampled: 284\n",
      "number of unique top candidates successfully sampled: 100\n",
      "Quality of current prediction: 0\n",
      "number of total candidates sampled: 260\n",
      "number of unique top candidates successfully sampled: 100\n",
      "Quality of current prediction: 1\n",
      "number of total candidates sampled: 366\n",
      "number of unique top candidates successfully sampled: 100\n",
      "Quality of current prediction: 1\n",
      "number of total candidates sampled: 218\n",
      "number of unique top candidates successfully sampled: 100\n",
      "Quality of current prediction: 0\n",
      "number of total candidates sampled: 200\n",
      "number of unique top candidates successfully sampled: 100\n",
      "Quality of current prediction: 0\n",
      "number of total candidates sampled: 288\n",
      "number of unique top candidates successfully sampled: 100\n",
      "Quality of current prediction: 0\n",
      "number of total candidates sampled: 294\n",
      "number of unique top candidates successfully sampled: 100\n",
      "Quality of current prediction: 2\n",
      "number of total candidates sampled: 200\n",
      "number of unique top candidates successfully sampled: 100\n",
      "Quality of current prediction: 0\n",
      "number of total candidates sampled: 330\n",
      "number of unique top candidates successfully sampled: 100\n",
      "Quality of current prediction: 1\n",
      "number of total candidates sampled: 292\n",
      "number of unique top candidates successfully sampled: 100\n",
      "Quality of current prediction: 1\n",
      "number of total candidates sampled: 244\n",
      "number of unique top candidates successfully sampled: 100\n",
      "Quality of current prediction: 1\n",
      "number of total candidates sampled: 314\n",
      "number of unique top candidates successfully sampled: 100\n",
      "Quality of current prediction: 1\n",
      "number of total candidates sampled: 268\n",
      "number of unique top candidates successfully sampled: 100\n",
      "Quality of current prediction: 0\n",
      "number of total candidates sampled: 262\n",
      "number of unique top candidates successfully sampled: 100\n",
      "Quality of current prediction: 0\n",
      "number of total candidates sampled: 224\n",
      "number of unique top candidates successfully sampled: 100\n",
      "Quality of current prediction: 0\n",
      "number of total candidates sampled: 252\n",
      "number of unique top candidates successfully sampled: 100\n",
      "Quality of current prediction: 0\n",
      "number of total candidates sampled: 236\n",
      "number of unique top candidates successfully sampled: 100\n",
      "Quality of current prediction: 0\n",
      "number of total candidates sampled: 286\n",
      "number of unique top candidates successfully sampled: 100\n",
      "Quality of current prediction: 1\n",
      "number of total candidates sampled: 370\n",
      "number of unique top candidates successfully sampled: 100\n",
      "Quality of current prediction: 1\n",
      "number of total candidates sampled: 258\n",
      "number of unique top candidates successfully sampled: 100\n",
      "Quality of current prediction: 1\n",
      "number of total candidates sampled: 302\n",
      "number of unique top candidates successfully sampled: 100\n",
      "Quality of current prediction: 0\n",
      "number of total candidates sampled: 434\n",
      "number of unique top candidates successfully sampled: 100\n",
      "Quality of current prediction: 2\n",
      "number of total candidates sampled: 236\n",
      "number of unique top candidates successfully sampled: 100\n",
      "Quality of current prediction: 0\n",
      "number of total candidates sampled: 376\n",
      "number of unique top candidates successfully sampled: 100\n",
      "Quality of current prediction: 1\n",
      "number of total candidates sampled: 262\n",
      "number of unique top candidates successfully sampled: 100\n",
      "Quality of current prediction: 3\n",
      "number of total candidates sampled: 310\n",
      "number of unique top candidates successfully sampled: 100\n",
      "Quality of current prediction: 1\n",
      "number of total candidates sampled: 366\n",
      "number of unique top candidates successfully sampled: 100\n",
      "Quality of current prediction: 1\n",
      "number of total candidates sampled: 200\n",
      "number of unique top candidates successfully sampled: 100\n",
      "Quality of current prediction: 0\n",
      "number of total candidates sampled: 308\n",
      "number of unique top candidates successfully sampled: 100\n",
      "Quality of current prediction: 0\n",
      "number of total candidates sampled: 200\n",
      "number of unique top candidates successfully sampled: 100\n",
      "Quality of current prediction: 1\n",
      "number of total candidates sampled: 264\n",
      "number of unique top candidates successfully sampled: 100\n",
      "Quality of current prediction: 1\n",
      "number of total candidates sampled: 320\n",
      "number of unique top candidates successfully sampled: 100\n",
      "Quality of current prediction: 3\n",
      "number of total candidates sampled: 284\n",
      "number of unique top candidates successfully sampled: 100\n",
      "Quality of current prediction: 0\n",
      "number of total candidates sampled: 310\n",
      "number of unique top candidates successfully sampled: 100\n",
      "Quality of current prediction: 0\n",
      "number of total candidates sampled: 298\n",
      "number of unique top candidates successfully sampled: 100\n",
      "Quality of current prediction: 1\n",
      "number of total candidates sampled: 414\n",
      "number of unique top candidates successfully sampled: 100\n",
      "Quality of current prediction: 1\n",
      "number of total candidates sampled: 238\n",
      "number of unique top candidates successfully sampled: 100\n",
      "Quality of current prediction: 3\n",
      "number of total candidates sampled: 374\n",
      "number of unique top candidates successfully sampled: 100\n",
      "Quality of current prediction: 0\n",
      "number of total candidates sampled: 246\n",
      "number of unique top candidates successfully sampled: 100\n",
      "Quality of current prediction: 1\n",
      "number of total candidates sampled: 324\n",
      "number of unique top candidates successfully sampled: 100\n",
      "Quality of current prediction: 1\n",
      "number of total candidates sampled: 278\n",
      "number of unique top candidates successfully sampled: 100\n",
      "Quality of current prediction: 1\n",
      "number of total candidates sampled: 220\n",
      "number of unique top candidates successfully sampled: 100\n",
      "Quality of current prediction: 0\n",
      "number of total candidates sampled: 340\n",
      "number of unique top candidates successfully sampled: 100\n",
      "Quality of current prediction: 2\n",
      "number of total candidates sampled: 342\n",
      "number of unique top candidates successfully sampled: 100\n",
      "Quality of current prediction: 0\n",
      "number of total candidates sampled: 354\n",
      "number of unique top candidates successfully sampled: 100\n",
      "Quality of current prediction: 1\n",
      "number of total candidates sampled: 248\n",
      "number of unique top candidates successfully sampled: 100\n",
      "Quality of current prediction: 2\n",
      "number of total candidates sampled: 220\n",
      "number of unique top candidates successfully sampled: 100\n",
      "Quality of current prediction: 1\n",
      "number of total candidates sampled: 312\n",
      "number of unique top candidates successfully sampled: 100\n",
      "Quality of current prediction: 1\n",
      "number of total candidates sampled: 346\n",
      "number of unique top candidates successfully sampled: 100\n",
      "Quality of current prediction: 1\n",
      "number of total candidates sampled: 308\n",
      "number of unique top candidates successfully sampled: 100\n",
      "Quality of current prediction: 1\n",
      "number of total candidates sampled: 266\n",
      "number of unique top candidates successfully sampled: 100\n",
      "Quality of current prediction: 1\n",
      "number of total candidates sampled: 268\n",
      "number of unique top candidates successfully sampled: 100\n",
      "Quality of current prediction: 1\n",
      "number of total candidates sampled: 288\n",
      "number of unique top candidates successfully sampled: 100\n",
      "Quality of current prediction: 1\n",
      "number of total candidates sampled: 358\n",
      "number of unique top candidates successfully sampled: 100\n",
      "Quality of current prediction: 1\n",
      "number of total candidates sampled: 200\n",
      "number of unique top candidates successfully sampled: 100\n",
      "Quality of current prediction: 0\n",
      "number of total candidates sampled: 278\n",
      "number of unique top candidates successfully sampled: 100\n",
      "Quality of current prediction: 1\n",
      "number of total candidates sampled: 200\n",
      "number of unique top candidates successfully sampled: 100\n",
      "Quality of current prediction: 0\n",
      "number of total candidates sampled: 290\n",
      "number of unique top candidates successfully sampled: 100\n",
      "Quality of current prediction: 0\n",
      "number of total candidates sampled: 290\n",
      "number of unique top candidates successfully sampled: 100\n",
      "Quality of current prediction: 1\n",
      "number of total candidates sampled: 288\n",
      "number of unique top candidates successfully sampled: 100\n",
      "Quality of current prediction: 1\n",
      "number of total candidates sampled: 324\n",
      "number of unique top candidates successfully sampled: 100\n",
      "Quality of current prediction: 1\n",
      "number of total candidates sampled: 298\n",
      "number of unique top candidates successfully sampled: 100\n",
      "Quality of current prediction: 1\n",
      "number of total candidates sampled: 200\n",
      "number of unique top candidates successfully sampled: 100\n",
      "Quality of current prediction: 0\n",
      "number of total candidates sampled: 256\n",
      "number of unique top candidates successfully sampled: 100\n",
      "Quality of current prediction: 1\n",
      "number of total candidates sampled: 260\n",
      "number of unique top candidates successfully sampled: 100\n",
      "Quality of current prediction: 1\n",
      "number of total candidates sampled: 254\n",
      "number of unique top candidates successfully sampled: 100\n",
      "Quality of current prediction: 2\n",
      "number of total candidates sampled: 258\n",
      "number of unique top candidates successfully sampled: 100\n",
      "Quality of current prediction: 1\n",
      "number of total candidates sampled: 262\n",
      "number of unique top candidates successfully sampled: 100\n",
      "Quality of current prediction: 0\n",
      "number of total candidates sampled: 300\n",
      "number of unique top candidates successfully sampled: 100\n",
      "Quality of current prediction: 1\n",
      "number of total candidates sampled: 248\n",
      "number of unique top candidates successfully sampled: 100\n",
      "Quality of current prediction: 4\n",
      "number of total candidates sampled: 314\n",
      "number of unique top candidates successfully sampled: 100\n",
      "Quality of current prediction: 2\n",
      "number of total candidates sampled: 300\n",
      "number of unique top candidates successfully sampled: 100\n",
      "Quality of current prediction: 2\n",
      "number of total candidates sampled: 298\n",
      "number of unique top candidates successfully sampled: 100\n",
      "Quality of current prediction: 2\n",
      "number of total candidates sampled: 388\n",
      "number of unique top candidates successfully sampled: 100\n",
      "Quality of current prediction: 1\n",
      "number of total candidates sampled: 258\n",
      "number of unique top candidates successfully sampled: 100\n",
      "Quality of current prediction: 1\n",
      "number of total candidates sampled: 254\n",
      "number of unique top candidates successfully sampled: 100\n",
      "Quality of current prediction: 1\n",
      "number of total candidates sampled: 206\n",
      "number of unique top candidates successfully sampled: 100\n",
      "Quality of current prediction: 2\n",
      "number of total candidates sampled: 276\n",
      "number of unique top candidates successfully sampled: 100\n",
      "Quality of current prediction: 0\n",
      "number of total candidates sampled: 348\n",
      "number of unique top candidates successfully sampled: 100\n",
      "Quality of current prediction: 1\n",
      "number of total candidates sampled: 278\n",
      "number of unique top candidates successfully sampled: 100\n",
      "Quality of current prediction: 1\n",
      "number of total candidates sampled: 272\n",
      "number of unique top candidates successfully sampled: 100\n",
      "Quality of current prediction: 1\n",
      "number of total candidates sampled: 218\n",
      "number of unique top candidates successfully sampled: 100\n",
      "Quality of current prediction: 1\n",
      "number of total candidates sampled: 352\n",
      "number of unique top candidates successfully sampled: 100\n",
      "Quality of current prediction: 1\n",
      "number of total candidates sampled: 224\n",
      "number of unique top candidates successfully sampled: 100\n",
      "Quality of current prediction: 0\n",
      "number of total candidates sampled: 284\n",
      "number of unique top candidates successfully sampled: 100\n",
      "Quality of current prediction: 3\n",
      "number of total candidates sampled: 228\n",
      "number of unique top candidates successfully sampled: 100\n",
      "Quality of current prediction: 0\n",
      "number of total candidates sampled: 280\n",
      "number of unique top candidates successfully sampled: 100\n",
      "Quality of current prediction: 0\n",
      "number of total candidates sampled: 274\n",
      "number of unique top candidates successfully sampled: 100\n",
      "Quality of current prediction: 0\n",
      "number of total candidates sampled: 324\n",
      "number of unique top candidates successfully sampled: 100\n",
      "Quality of current prediction: 2\n",
      "number of total candidates sampled: 244\n",
      "number of unique top candidates successfully sampled: 100\n",
      "Quality of current prediction: 0\n",
      "number of total candidates sampled: 302\n",
      "number of unique top candidates successfully sampled: 100\n",
      "Quality of current prediction: 1\n",
      "number of total candidates sampled: 272\n",
      "number of unique top candidates successfully sampled: 100\n",
      "Quality of current prediction: 0\n",
      "number of total candidates sampled: 334\n",
      "number of unique top candidates successfully sampled: 100\n",
      "Quality of current prediction: 1\n",
      "number of total candidates sampled: 314\n",
      "number of unique top candidates successfully sampled: 100\n",
      "Quality of current prediction: 1\n",
      "number of total candidates sampled: 334\n",
      "number of unique top candidates successfully sampled: 100\n",
      "Quality of current prediction: 1\n",
      "number of total candidates sampled: 278\n",
      "number of unique top candidates successfully sampled: 100\n",
      "Quality of current prediction: 6\n",
      "number of total candidates sampled: 294\n",
      "number of unique top candidates successfully sampled: 100\n",
      "Quality of current prediction: 1\n",
      "number of total candidates sampled: 302\n",
      "number of unique top candidates successfully sampled: 100\n",
      "Quality of current prediction: 2\n",
      "number of total candidates sampled: 294\n",
      "number of unique top candidates successfully sampled: 100\n",
      "Quality of current prediction: 0\n",
      "number of total candidates sampled: 302\n",
      "number of unique top candidates successfully sampled: 100\n",
      "Quality of current prediction: 2\n",
      "number of total candidates sampled: 276\n",
      "number of unique top candidates successfully sampled: 100\n",
      "Quality of current prediction: 1\n",
      "number of total candidates sampled: 286\n",
      "number of unique top candidates successfully sampled: 100\n",
      "Quality of current prediction: 0\n",
      "number of total candidates sampled: 272\n",
      "number of unique top candidates successfully sampled: 100\n",
      "Quality of current prediction: 3\n",
      "number of total candidates sampled: 316\n",
      "number of unique top candidates successfully sampled: 100\n",
      "Quality of current prediction: 2\n",
      "number of total candidates sampled: 314\n",
      "number of unique top candidates successfully sampled: 100\n",
      "Quality of current prediction: 0\n",
      "number of total candidates sampled: 352\n",
      "number of unique top candidates successfully sampled: 100\n",
      "Quality of current prediction: 1\n",
      "number of total candidates sampled: 304\n",
      "number of unique top candidates successfully sampled: 100\n",
      "Quality of current prediction: 2\n",
      "number of total candidates sampled: 254\n",
      "number of unique top candidates successfully sampled: 100\n",
      "Quality of current prediction: 1\n",
      "number of total candidates sampled: 250\n",
      "number of unique top candidates successfully sampled: 100\n",
      "Quality of current prediction: 2\n",
      "number of total candidates sampled: 232\n",
      "number of unique top candidates successfully sampled: 100\n",
      "Quality of current prediction: 0\n",
      "number of total candidates sampled: 294\n",
      "number of unique top candidates successfully sampled: 100\n",
      "Quality of current prediction: 1\n",
      "number of total candidates sampled: 362\n",
      "number of unique top candidates successfully sampled: 100\n",
      "Quality of current prediction: 1\n",
      "number of total candidates sampled: 252\n",
      "number of unique top candidates successfully sampled: 100\n",
      "Quality of current prediction: 1\n",
      "number of total candidates sampled: 330\n",
      "number of unique top candidates successfully sampled: 100\n",
      "Quality of current prediction: 1\n",
      "number of total candidates sampled: 282\n",
      "number of unique top candidates successfully sampled: 100\n",
      "Quality of current prediction: 1\n",
      "number of total candidates sampled: 294\n",
      "number of unique top candidates successfully sampled: 100\n",
      "Quality of current prediction: 2\n",
      "number of total candidates sampled: 290\n",
      "number of unique top candidates successfully sampled: 100\n",
      "Quality of current prediction: 1\n",
      "number of total candidates sampled: 278\n",
      "number of unique top candidates successfully sampled: 100\n",
      "Quality of current prediction: 1\n",
      "number of total candidates sampled: 322\n",
      "number of unique top candidates successfully sampled: 100\n",
      "Quality of current prediction: 2\n",
      "number of total candidates sampled: 252\n",
      "number of unique top candidates successfully sampled: 100\n",
      "Quality of current prediction: 1\n",
      "number of total candidates sampled: 272\n",
      "number of unique top candidates successfully sampled: 100\n",
      "Quality of current prediction: 0\n",
      "number of total candidates sampled: 260\n",
      "number of unique top candidates successfully sampled: 100\n",
      "Quality of current prediction: 1\n",
      "number of total candidates sampled: 236\n",
      "number of unique top candidates successfully sampled: 100\n",
      "Quality of current prediction: 1\n",
      "number of total candidates sampled: 274\n",
      "number of unique top candidates successfully sampled: 100\n",
      "Quality of current prediction: 3\n",
      "number of total candidates sampled: 304\n",
      "number of unique top candidates successfully sampled: 100\n",
      "Quality of current prediction: 2\n",
      "number of total candidates sampled: 278\n",
      "number of unique top candidates successfully sampled: 100\n",
      "Quality of current prediction: 1\n",
      "number of total candidates sampled: 332\n",
      "number of unique top candidates successfully sampled: 100\n",
      "Quality of current prediction: 1\n",
      "number of total candidates sampled: 340\n",
      "number of unique top candidates successfully sampled: 100\n",
      "Quality of current prediction: 1\n",
      "number of total candidates sampled: 300\n",
      "number of unique top candidates successfully sampled: 100\n",
      "Quality of current prediction: 1\n",
      "number of total candidates sampled: 238\n",
      "number of unique top candidates successfully sampled: 100\n",
      "Quality of current prediction: 0\n",
      "number of total candidates sampled: 252\n",
      "number of unique top candidates successfully sampled: 100\n",
      "Quality of current prediction: 0\n",
      "number of total candidates sampled: 324\n",
      "number of unique top candidates successfully sampled: 100\n",
      "Quality of current prediction: 1\n",
      "number of total candidates sampled: 322\n",
      "number of unique top candidates successfully sampled: 100\n",
      "Quality of current prediction: 1\n",
      "number of total candidates sampled: 320\n",
      "number of unique top candidates successfully sampled: 100\n",
      "Quality of current prediction: 1\n",
      "number of total candidates sampled: 302\n",
      "number of unique top candidates successfully sampled: 100\n",
      "Quality of current prediction: 0\n",
      "number of total candidates sampled: 302\n",
      "number of unique top candidates successfully sampled: 100\n",
      "Quality of current prediction: 1\n",
      "number of total candidates sampled: 340\n",
      "number of unique top candidates successfully sampled: 100\n",
      "Quality of current prediction: 1\n",
      "number of total candidates sampled: 212\n",
      "number of unique top candidates successfully sampled: 100\n",
      "Quality of current prediction: 0\n",
      "number of total candidates sampled: 300\n",
      "number of unique top candidates successfully sampled: 100\n",
      "Quality of current prediction: 1\n",
      "number of total candidates sampled: 280\n",
      "number of unique top candidates successfully sampled: 100\n",
      "Quality of current prediction: 1\n",
      "number of total candidates sampled: 424\n",
      "number of unique top candidates successfully sampled: 100\n",
      "Quality of current prediction: 1\n",
      "number of total candidates sampled: 422\n",
      "number of unique top candidates successfully sampled: 100\n",
      "Quality of current prediction: 1\n",
      "number of total candidates sampled: 266\n",
      "number of unique top candidates successfully sampled: 100\n",
      "Quality of current prediction: 1\n",
      "number of total candidates sampled: 248\n",
      "number of unique top candidates successfully sampled: 100\n",
      "Quality of current prediction: 3\n",
      "number of total candidates sampled: 284\n",
      "number of unique top candidates successfully sampled: 100\n",
      "Quality of current prediction: 0\n",
      "number of total candidates sampled: 300\n",
      "number of unique top candidates successfully sampled: 100\n",
      "Quality of current prediction: 1\n",
      "number of total candidates sampled: 282\n",
      "number of unique top candidates successfully sampled: 100\n",
      "Quality of current prediction: 1\n",
      "number of total candidates sampled: 466\n",
      "number of unique top candidates successfully sampled: 100\n",
      "Quality of current prediction: 1\n",
      "number of total candidates sampled: 342\n",
      "number of unique top candidates successfully sampled: 100\n",
      "Quality of current prediction: 3\n",
      "number of total candidates sampled: 296\n",
      "number of unique top candidates successfully sampled: 100\n",
      "Quality of current prediction: 1\n",
      "number of total candidates sampled: 336\n",
      "number of unique top candidates successfully sampled: 100\n",
      "Quality of current prediction: 1\n",
      "number of total candidates sampled: 266\n",
      "number of unique top candidates successfully sampled: 100\n",
      "Quality of current prediction: 1\n",
      "number of total candidates sampled: 372\n",
      "number of unique top candidates successfully sampled: 100\n",
      "Quality of current prediction: 1\n",
      "number of total candidates sampled: 340\n",
      "number of unique top candidates successfully sampled: 100\n",
      "Quality of current prediction: 1\n",
      "number of total candidates sampled: 306\n",
      "number of unique top candidates successfully sampled: 100\n",
      "Quality of current prediction: 1\n",
      "number of total candidates sampled: 324\n",
      "number of unique top candidates successfully sampled: 100\n",
      "Quality of current prediction: 1\n",
      "number of total candidates sampled: 292\n",
      "number of unique top candidates successfully sampled: 100\n",
      "Quality of current prediction: 1\n",
      "number of total candidates sampled: 242\n",
      "number of unique top candidates successfully sampled: 100\n",
      "Quality of current prediction: 0\n",
      "number of total candidates sampled: 224\n",
      "number of unique top candidates successfully sampled: 100\n",
      "Quality of current prediction: 2\n",
      "number of total candidates sampled: 200\n",
      "number of unique top candidates successfully sampled: 100\n",
      "Quality of current prediction: 0\n",
      "number of total candidates sampled: 274\n",
      "number of unique top candidates successfully sampled: 100\n",
      "Quality of current prediction: 1\n",
      "number of total candidates sampled: 330\n",
      "number of unique top candidates successfully sampled: 100\n",
      "Quality of current prediction: 1\n",
      "number of total candidates sampled: 332\n",
      "number of unique top candidates successfully sampled: 100\n",
      "Quality of current prediction: 1\n",
      "number of total candidates sampled: 290\n",
      "number of unique top candidates successfully sampled: 100\n",
      "Quality of current prediction: 4\n",
      "number of total candidates sampled: 346\n",
      "number of unique top candidates successfully sampled: 100\n",
      "Quality of current prediction: 1\n",
      "number of total candidates sampled: 220\n",
      "number of unique top candidates successfully sampled: 100\n",
      "Quality of current prediction: 5\n",
      "number of total candidates sampled: 400\n",
      "number of unique top candidates successfully sampled: 100\n",
      "Quality of current prediction: 4\n",
      "number of total candidates sampled: 368\n",
      "number of unique top candidates successfully sampled: 100\n",
      "Quality of current prediction: 1\n",
      "number of total candidates sampled: 246\n",
      "number of unique top candidates successfully sampled: 100\n",
      "Quality of current prediction: 0\n",
      "number of total candidates sampled: 298\n",
      "number of unique top candidates successfully sampled: 100\n",
      "Quality of current prediction: 1\n",
      "number of total candidates sampled: 336\n",
      "number of unique top candidates successfully sampled: 100\n",
      "Quality of current prediction: 1\n",
      "number of total candidates sampled: 298\n",
      "number of unique top candidates successfully sampled: 100\n",
      "Quality of current prediction: 2\n",
      "number of total candidates sampled: 272\n",
      "number of unique top candidates successfully sampled: 100\n",
      "Quality of current prediction: 1\n",
      "number of total candidates sampled: 328\n",
      "number of unique top candidates successfully sampled: 100\n",
      "Quality of current prediction: 1\n",
      "number of total candidates sampled: 226\n",
      "number of unique top candidates successfully sampled: 100\n",
      "Quality of current prediction: 4\n",
      "number of total candidates sampled: 276\n",
      "number of unique top candidates successfully sampled: 100\n",
      "Quality of current prediction: 0\n",
      "number of total candidates sampled: 238\n",
      "number of unique top candidates successfully sampled: 100\n",
      "Quality of current prediction: 2\n",
      "number of total candidates sampled: 220\n",
      "number of unique top candidates successfully sampled: 100\n",
      "Quality of current prediction: 0\n",
      "number of total candidates sampled: 302\n",
      "number of unique top candidates successfully sampled: 100\n",
      "Quality of current prediction: 1\n",
      "number of total candidates sampled: 300\n",
      "number of unique top candidates successfully sampled: 100\n",
      "Quality of current prediction: 1\n",
      "number of total candidates sampled: 288\n",
      "number of unique top candidates successfully sampled: 100\n",
      "Quality of current prediction: 1\n",
      "number of total candidates sampled: 316\n",
      "number of unique top candidates successfully sampled: 100\n",
      "Quality of current prediction: 1\n",
      "number of total candidates sampled: 320\n",
      "number of unique top candidates successfully sampled: 100\n",
      "Quality of current prediction: 4\n",
      "number of total candidates sampled: 200\n",
      "number of unique top candidates successfully sampled: 100\n",
      "Quality of current prediction: 0\n",
      "number of total candidates sampled: 330\n",
      "number of unique top candidates successfully sampled: 100\n",
      "Quality of current prediction: 0\n",
      "number of total candidates sampled: 466\n",
      "number of unique top candidates successfully sampled: 100\n",
      "Quality of current prediction: 2\n",
      "number of total candidates sampled: 230\n",
      "number of unique top candidates successfully sampled: 100\n",
      "Quality of current prediction: 2\n",
      "number of total candidates sampled: 264\n",
      "number of unique top candidates successfully sampled: 100\n",
      "Quality of current prediction: 1\n",
      "number of total candidates sampled: 272\n",
      "number of unique top candidates successfully sampled: 100\n",
      "Quality of current prediction: 0\n",
      "number of total candidates sampled: 374\n",
      "number of unique top candidates successfully sampled: 100\n",
      "Quality of current prediction: 1\n",
      "number of total candidates sampled: 244\n",
      "number of unique top candidates successfully sampled: 100\n",
      "Quality of current prediction: 1\n",
      "number of total candidates sampled: 240\n",
      "number of unique top candidates successfully sampled: 100\n",
      "Quality of current prediction: 0\n",
      "number of total candidates sampled: 262\n",
      "number of unique top candidates successfully sampled: 100\n",
      "Quality of current prediction: 4\n",
      "number of total candidates sampled: 286\n",
      "number of unique top candidates successfully sampled: 100\n",
      "Quality of current prediction: 1\n",
      "number of total candidates sampled: 266\n",
      "number of unique top candidates successfully sampled: 100\n",
      "Quality of current prediction: 0\n",
      "number of total candidates sampled: 366\n",
      "number of unique top candidates successfully sampled: 100\n",
      "Quality of current prediction: 1\n",
      "number of total candidates sampled: 214\n",
      "number of unique top candidates successfully sampled: 100\n",
      "Quality of current prediction: 0\n",
      "number of total candidates sampled: 240\n",
      "number of unique top candidates successfully sampled: 100\n",
      "Quality of current prediction: 0\n",
      "number of total candidates sampled: 250\n",
      "number of unique top candidates successfully sampled: 100\n",
      "Quality of current prediction: 0\n",
      "number of total candidates sampled: 244\n",
      "number of unique top candidates successfully sampled: 100\n",
      "Quality of current prediction: 2\n",
      "number of total candidates sampled: 336\n",
      "number of unique top candidates successfully sampled: 100\n",
      "Quality of current prediction: 2\n",
      "number of total candidates sampled: 330\n",
      "number of unique top candidates successfully sampled: 100\n",
      "Quality of current prediction: 0\n",
      "number of total candidates sampled: 298\n",
      "number of unique top candidates successfully sampled: 100\n",
      "Quality of current prediction: 1\n",
      "number of total candidates sampled: 338\n",
      "number of unique top candidates successfully sampled: 100\n",
      "Quality of current prediction: 1\n",
      "number of total candidates sampled: 300\n",
      "number of unique top candidates successfully sampled: 100\n",
      "Quality of current prediction: 1\n",
      "number of total candidates sampled: 306\n",
      "number of unique top candidates successfully sampled: 100\n",
      "Quality of current prediction: 1\n",
      "number of total candidates sampled: 354\n",
      "number of unique top candidates successfully sampled: 100\n",
      "Quality of current prediction: 2\n",
      "number of total candidates sampled: 218\n",
      "number of unique top candidates successfully sampled: 100\n",
      "Quality of current prediction: 0\n",
      "number of total candidates sampled: 258\n",
      "number of unique top candidates successfully sampled: 100\n",
      "Quality of current prediction: 1\n",
      "number of total candidates sampled: 222\n",
      "number of unique top candidates successfully sampled: 100\n",
      "Quality of current prediction: 0\n",
      "number of total candidates sampled: 294\n",
      "number of unique top candidates successfully sampled: 100\n",
      "Quality of current prediction: 1\n",
      "number of total candidates sampled: 252\n",
      "number of unique top candidates successfully sampled: 100\n",
      "Quality of current prediction: 1\n",
      "number of total candidates sampled: 270\n",
      "number of unique top candidates successfully sampled: 100\n",
      "Quality of current prediction: 6\n",
      "number of total candidates sampled: 244\n",
      "number of unique top candidates successfully sampled: 100\n",
      "Quality of current prediction: 2\n",
      "number of total candidates sampled: 234\n",
      "number of unique top candidates successfully sampled: 100\n",
      "Quality of current prediction: 3\n",
      "number of total candidates sampled: 346\n",
      "number of unique top candidates successfully sampled: 100\n",
      "Quality of current prediction: 1\n",
      "number of total candidates sampled: 248\n",
      "number of unique top candidates successfully sampled: 100\n",
      "Quality of current prediction: 1\n",
      "number of total candidates sampled: 282\n",
      "number of unique top candidates successfully sampled: 100\n",
      "Quality of current prediction: 1\n",
      "number of total candidates sampled: 396\n",
      "number of unique top candidates successfully sampled: 100\n",
      "Quality of current prediction: 1\n",
      "number of total candidates sampled: 326\n",
      "number of unique top candidates successfully sampled: 100\n",
      "Quality of current prediction: 0\n",
      "number of total candidates sampled: 340\n",
      "number of unique top candidates successfully sampled: 100\n",
      "Quality of current prediction: 1\n",
      "number of total candidates sampled: 352\n",
      "number of unique top candidates successfully sampled: 100\n",
      "Quality of current prediction: 1\n",
      "number of total candidates sampled: 294\n",
      "number of unique top candidates successfully sampled: 100\n",
      "Quality of current prediction: 1\n",
      "number of total candidates sampled: 200\n",
      "number of unique top candidates successfully sampled: 100\n",
      "Quality of current prediction: 0\n",
      "number of total candidates sampled: 354\n",
      "number of unique top candidates successfully sampled: 100\n",
      "Quality of current prediction: 3\n",
      "number of total candidates sampled: 272\n",
      "number of unique top candidates successfully sampled: 100\n",
      "Quality of current prediction: 1\n",
      "number of total candidates sampled: 300\n",
      "number of unique top candidates successfully sampled: 100\n",
      "Quality of current prediction: 1\n",
      "number of total candidates sampled: 260\n",
      "number of unique top candidates successfully sampled: 100\n",
      "Quality of current prediction: 1\n",
      "number of total candidates sampled: 228\n",
      "number of unique top candidates successfully sampled: 100\n",
      "Quality of current prediction: 1\n",
      "number of total candidates sampled: 288\n",
      "number of unique top candidates successfully sampled: 100\n",
      "Quality of current prediction: 1\n",
      "number of total candidates sampled: 364\n",
      "number of unique top candidates successfully sampled: 100\n",
      "Quality of current prediction: 2\n",
      "number of total candidates sampled: 358\n",
      "number of unique top candidates successfully sampled: 100\n",
      "Quality of current prediction: 1\n",
      "number of total candidates sampled: 258\n",
      "number of unique top candidates successfully sampled: 100\n",
      "Quality of current prediction: 1\n",
      "number of total candidates sampled: 314\n",
      "number of unique top candidates successfully sampled: 100\n",
      "Quality of current prediction: 0\n",
      "number of total candidates sampled: 316\n",
      "number of unique top candidates successfully sampled: 100\n",
      "Quality of current prediction: 1\n",
      "number of total candidates sampled: 258\n",
      "number of unique top candidates successfully sampled: 100\n",
      "Quality of current prediction: 0\n",
      "number of total candidates sampled: 244\n",
      "number of unique top candidates successfully sampled: 100\n",
      "Quality of current prediction: 1\n",
      "number of total candidates sampled: 248\n",
      "number of unique top candidates successfully sampled: 100\n",
      "Quality of current prediction: 0\n",
      "number of total candidates sampled: 302\n",
      "number of unique top candidates successfully sampled: 100\n",
      "Quality of current prediction: 1\n",
      "number of total candidates sampled: 308\n",
      "number of unique top candidates successfully sampled: 100\n",
      "Quality of current prediction: 0\n",
      "number of total candidates sampled: 264\n",
      "number of unique top candidates successfully sampled: 100\n",
      "Quality of current prediction: 2\n",
      "number of total candidates sampled: 352\n",
      "number of unique top candidates successfully sampled: 100\n",
      "Quality of current prediction: 1\n",
      "number of total candidates sampled: 260\n",
      "number of unique top candidates successfully sampled: 100\n",
      "Quality of current prediction: 2\n",
      "number of total candidates sampled: 338\n",
      "number of unique top candidates successfully sampled: 100\n",
      "Quality of current prediction: 1\n",
      "number of total candidates sampled: 248\n",
      "number of unique top candidates successfully sampled: 100\n",
      "Quality of current prediction: 0\n",
      "number of total candidates sampled: 358\n",
      "number of unique top candidates successfully sampled: 100\n",
      "Quality of current prediction: 1\n",
      "number of total candidates sampled: 220\n",
      "number of unique top candidates successfully sampled: 100\n",
      "Quality of current prediction: 0\n",
      "number of total candidates sampled: 220\n",
      "number of unique top candidates successfully sampled: 100\n",
      "Quality of current prediction: 2\n",
      "number of total candidates sampled: 376\n",
      "number of unique top candidates successfully sampled: 100\n",
      "Quality of current prediction: 1\n",
      "number of total candidates sampled: 292\n",
      "number of unique top candidates successfully sampled: 100\n",
      "Quality of current prediction: 1\n",
      "number of total candidates sampled: 316\n",
      "number of unique top candidates successfully sampled: 100\n",
      "Quality of current prediction: 3\n",
      "number of total candidates sampled: 266\n",
      "number of unique top candidates successfully sampled: 100\n",
      "Quality of current prediction: 0\n",
      "number of total candidates sampled: 334\n",
      "number of unique top candidates successfully sampled: 100\n",
      "Quality of current prediction: 1\n",
      "number of total candidates sampled: 276\n",
      "number of unique top candidates successfully sampled: 100\n",
      "Quality of current prediction: 0\n",
      "number of total candidates sampled: 298\n",
      "number of unique top candidates successfully sampled: 100\n",
      "Quality of current prediction: 0\n",
      "number of total candidates sampled: 278\n",
      "number of unique top candidates successfully sampled: 100\n",
      "Quality of current prediction: 0\n",
      "number of total candidates sampled: 334\n",
      "number of unique top candidates successfully sampled: 100\n",
      "Quality of current prediction: 1\n",
      "number of total candidates sampled: 334\n",
      "number of unique top candidates successfully sampled: 100\n",
      "Quality of current prediction: 3\n",
      "number of total candidates sampled: 238\n",
      "number of unique top candidates successfully sampled: 100\n",
      "Quality of current prediction: 2\n",
      "number of total candidates sampled: 334\n",
      "number of unique top candidates successfully sampled: 100\n",
      "Quality of current prediction: 1\n",
      "number of total candidates sampled: 232\n",
      "number of unique top candidates successfully sampled: 100\n",
      "Quality of current prediction: 0\n",
      "number of total candidates sampled: 342\n",
      "number of unique top candidates successfully sampled: 100\n",
      "Quality of current prediction: 1\n",
      "number of total candidates sampled: 282\n",
      "number of unique top candidates successfully sampled: 100\n",
      "Quality of current prediction: 1\n",
      "number of total candidates sampled: 260\n",
      "number of unique top candidates successfully sampled: 100\n",
      "Quality of current prediction: 1\n",
      "number of total candidates sampled: 276\n",
      "number of unique top candidates successfully sampled: 100\n",
      "Quality of current prediction: 1\n",
      "number of total candidates sampled: 332\n",
      "number of unique top candidates successfully sampled: 100\n",
      "Quality of current prediction: 0\n",
      "number of total candidates sampled: 322\n",
      "number of unique top candidates successfully sampled: 100\n",
      "Quality of current prediction: 2\n",
      "number of total candidates sampled: 234\n",
      "number of unique top candidates successfully sampled: 100\n",
      "Quality of current prediction: 1\n",
      "number of total candidates sampled: 296\n",
      "number of unique top candidates successfully sampled: 100\n",
      "Quality of current prediction: 0\n",
      "number of total candidates sampled: 396\n",
      "number of unique top candidates successfully sampled: 100\n",
      "Quality of current prediction: 1\n",
      "number of total candidates sampled: 284\n",
      "number of unique top candidates successfully sampled: 100\n",
      "Quality of current prediction: 0\n",
      "number of total candidates sampled: 212\n",
      "number of unique top candidates successfully sampled: 100\n",
      "Quality of current prediction: 2\n",
      "number of total candidates sampled: 376\n",
      "number of unique top candidates successfully sampled: 100\n",
      "Quality of current prediction: 1\n",
      "number of total candidates sampled: 238\n",
      "number of unique top candidates successfully sampled: 100\n",
      "Quality of current prediction: 1\n",
      "number of total candidates sampled: 316\n",
      "number of unique top candidates successfully sampled: 100\n",
      "Quality of current prediction: 1\n",
      "number of total candidates sampled: 280\n",
      "number of unique top candidates successfully sampled: 100\n",
      "Quality of current prediction: 1\n",
      "number of total candidates sampled: 278\n",
      "number of unique top candidates successfully sampled: 100\n",
      "Quality of current prediction: 1\n",
      "number of total candidates sampled: 268\n",
      "number of unique top candidates successfully sampled: 100\n",
      "Quality of current prediction: 0\n",
      "number of total candidates sampled: 218\n",
      "number of unique top candidates successfully sampled: 100\n",
      "Quality of current prediction: 1\n",
      "number of total candidates sampled: 320\n",
      "number of unique top candidates successfully sampled: 100\n",
      "Quality of current prediction: 1\n"
     ]
    }
   ],
   "source": [
    "prediction_length = 8\n",
    "num_candidates = 100\n",
    "max_iter = 100\n",
    "\n",
    "target_list = peptide_validation_mismatchs[:, 0]\n",
    "label_list = peptide_validation_mismatchs[:, 3]\n",
    "\n",
    "validation_rank_list = []\n",
    "\n",
    "for target, label in zip(target_list, label_list):\n",
    "\tpeptide_candidates = sample_candidates(model_wide_validation, target, num_candidates, amino_dict, prediction_length + 2, device, max_iter=max_iter)\n",
    "\t\n",
    "\tcount = 0\n",
    "\tfor pred, prob in peptide_candidates:\n",
    "\t\tif pred == label:\n",
    "\t\t\tvalidation_rank_list.append(count)\n",
    "\t\t\tprint(\"Quality of current prediction:\", count)\n",
    "\t\t\tbreak \n",
    "\t\tcount += 1\n"
   ]
  },
  {
   "cell_type": "code",
   "execution_count": 92,
   "metadata": {},
   "outputs": [
    {
     "name": "stdout",
     "output_type": "stream",
     "text": [
      "------------------------\n",
      "Frequency of elements is:\n",
      "Counter({1: 191, 0: 85, 2: 42, 3: 18, 4: 6, 5: 2, 6: 2})\n"
     ]
    }
   ],
   "source": [
    "import collections\n",
    "\n",
    "frequencyDict = collections.Counter(validation_rank_list)\n",
    "\n",
    "print('------------------------')\n",
    "print(\"Frequency of elements is:\")\n",
    "print(frequencyDict)"
   ]
  },
  {
   "cell_type": "markdown",
   "metadata": {},
   "source": [
    "# Task 6+: Model Wide Validation comparison with Model Wide"
   ]
  },
  {
   "cell_type": "markdown",
   "metadata": {},
   "source": [
    "#### Build Model Wide"
   ]
  },
  {
   "cell_type": "code",
   "execution_count": 85,
   "metadata": {},
   "outputs": [
    {
     "name": "stdout",
     "output_type": "stream",
     "text": [
      "Wide model: total number of parameters: 29437976\n",
      "Wide model: total number of trainable parameters: 29437976\n"
     ]
    },
    {
     "data": {
      "text/plain": [
       "<All keys matched successfully>"
      ]
     },
     "execution_count": 85,
     "metadata": {},
     "output_type": "execute_result"
    }
   ],
   "source": [
    "query_size, key_size, value_size, num_hiddens = 512, 512, 512, 512\n",
    "num_layers, dropout = 4, 0.1\n",
    "lr, num_epochs, batch_size, label_smoothing = 0.0004, 500, 6000, 0.1\n",
    "ffn_num_input, ffn_num_hiddens, num_heads = 512, 2048, 8\n",
    "\n",
    "norm_shape = [512] # 32 corresponds to the dim of such number to normalize\n",
    "device = d2l.try_gpu()\n",
    "\n",
    "\n",
    "encoder_wide = TransformerEncoder(\n",
    "\tlen(amino_dict), key_size, query_size, value_size, num_hiddens, \n",
    "\tnorm_shape, ffn_num_input, ffn_num_hiddens, num_heads,\n",
    "\tnum_layers, dropout)\n",
    "decoder_wide = TransformerDecoder(\n",
    "\tlen(amino_dict), key_size, query_size, value_size, num_hiddens, \n",
    "\tnorm_shape, ffn_num_input, ffn_num_hiddens, num_heads,\n",
    "\tnum_layers, dropout)\n",
    "model_wide = EncoderDecoder(encoder_wide, decoder_wide)\n",
    "\n",
    "\n",
    "model_wide_total_params = sum(p.numel() for p in model_wide.parameters())\n",
    "model_wide_total_trainable_params = sum(p.numel() for p in model_wide.parameters() if p.requires_grad)\n",
    "\n",
    "print('Wide model: total number of parameters: {}'.format(model_wide_total_params))\n",
    "print('Wide model: total number of trainable parameters: {}'.format(model_wide_total_trainable_params))\n",
    "\n",
    "\n",
    "model_wide.load_state_dict(torch.load(\"model_wide_22Jul16_1011AM\", map_location = ('cpu')))"
   ]
  },
  {
   "cell_type": "code",
   "execution_count": 86,
   "metadata": {},
   "outputs": [
    {
     "name": "stdout",
     "output_type": "stream",
     "text": [
      "Iteration: 0\n",
      "Iteration: 1\n",
      "Iteration: 2\n",
      "(346, 4)\n"
     ]
    }
   ],
   "source": [
    "# generated peptides 2d array\n",
    "\n",
    "PDB_targets = list(peptide_validation_mismatchs[:, 0])\n",
    "\n",
    "num_minibatch = 100\n",
    "\n",
    "peptide_pred_list = []\n",
    "num_iter = int(len(PDB_targets)//num_minibatch + 1)\n",
    "\n",
    "for i in range(num_iter):\n",
    "\n",
    "\t# deal with minibatch ending\n",
    "\tif num_minibatch*i+num_minibatch > len(PDB_targets):\n",
    "\t\tpeptide_pred = predict_greedy_batch(model_wide, PDB_targets[num_minibatch*i:], amino_dict, prediction_length + 2, device)\n",
    "\t\tpeptide_pred_list.append(peptide_pred)\n",
    "\t\tbreak\n",
    "\n",
    "\tpeptide_pred = predict_greedy_batch(model_wide, PDB_targets[num_minibatch*i:num_minibatch*i+num_minibatch], amino_dict, prediction_length + 2, device)\n",
    "\tpeptide_pred_list.append(peptide_pred)\n",
    "\n",
    "\t# track iteration\n",
    "\tif i%1 == 0:\n",
    "\t\tprint(\"Iteration: {}\".format(i))\n",
    "\n",
    "peptide_pred_array = np.vstack(peptide_pred_list)\n",
    "peptide_pred_array_new = np.hstack([peptide_pred_array, np.array(peptide_validation_mismatchs[:, 3]).reshape(-1, 1)])\n",
    "# target, prediction, greedy_prob, label\n",
    "\n",
    "print(peptide_pred_array_new.shape)"
   ]
  },
  {
   "cell_type": "code",
   "execution_count": 89,
   "metadata": {},
   "outputs": [
    {
     "name": "stdout",
     "output_type": "stream",
     "text": [
      "target      prediction      probability       PDB_label\n",
      "[['LLETNQTL' 'PQKLTFTF' '0.5374112129211426' 'PQKLTFTF']\n",
      " ['NRIELKGT' 'VEARTKYK' '0.4158034920692444' 'VVARTKYK']\n",
      " ['PQFKVDGK' 'FKAETNIS' '0.4542434513568878' 'FKAETNIS']\n",
      " ['IRATWVLG' 'GQTILIAT' '0.4963897168636322' 'GQTILIAT']\n",
      " ['NIGCIFTG' 'VNYIYITK' '0.32092902064323425' 'VNYIYITK']\n",
      " ['AQGFILDL' 'VTRAELRA' '0.35875627398490906' 'VTRAELRA']\n",
      " ['LKLFSIDR' 'VVVCSASH' '0.5300334095954895' 'VVVCSASH']\n",
      " ['SRIIHLSV' 'LLTFSVET' '0.6091046333312988' 'LLTFSVET']\n",
      " ['KGEFQVIG' 'TYRYIGTL' '0.39827749133110046' 'TYRYIGTL']\n",
      " ['ALENRSIT' 'AVSEESIA' '0.34858235716819763' 'ALGMENRQ']\n",
      " ['HIKADMKL' 'EYSYKFET' '0.35157835483551025' 'EYSYKFET']\n",
      " ['NSAILKTW' 'FNISQNLV' '0.5170300006866455' 'FNISQNLV']\n",
      " ['TLSLDVLY' 'GVGLRVGL' '0.43975403904914856' 'GVGLRVGL']\n",
      " ['KLRMEGNV' 'DGDIVFHH' '0.12972690165042877' 'DGDIVFHH']\n",
      " ['HRVVAGYD' 'YQGAVSVY' '0.3505645990371704' 'YQGAVSVY']\n",
      " ['SLYVSATV' 'QIGFIVFA' '0.5406473278999329' 'QIGFIVFA']\n",
      " ['NIEVTVIN' 'TVAYQLTL' '0.49298208951950073' 'RFKYTKRG']\n",
      " ['GIFSKDLV' 'MEIFKYPV' '0.3879748284816742' 'MEIFKYPV']\n",
      " ['DIEITFAF' 'GVKIRCTA' '0.3516589105129242' 'GVKIRCTA']\n",
      " ['HMKIEEKI' 'RLMIMGHL' '0.3747875690460205' 'STETTFLV']]\n",
      "Number of model wide validation mismatches classified correct by model wide: 274\n"
     ]
    }
   ],
   "source": [
    "print(\"target      prediction      probability       PDB_label\")\n",
    "print(peptide_pred_array_new[0:20, :])\n",
    "print(\"Number of model wide validation mismatches classified correct by model wide:\", sum(peptide_pred_array_new[:,1] == peptide_pred_array_new[:,3]))"
   ]
  },
  {
   "cell_type": "markdown",
   "metadata": {},
   "source": [
    "# Task 7: Model Wide Random Peptides Scoring"
   ]
  },
  {
   "cell_type": "markdown",
   "metadata": {},
   "source": [
    "#### Build model wide"
   ]
  },
  {
   "cell_type": "code",
   "execution_count": 40,
   "metadata": {},
   "outputs": [
    {
     "name": "stdout",
     "output_type": "stream",
     "text": [
      "Wide model: total number of parameters: 29437976\n",
      "Wide model: total number of trainable parameters: 29437976\n"
     ]
    },
    {
     "data": {
      "text/plain": [
       "<All keys matched successfully>"
      ]
     },
     "execution_count": 40,
     "metadata": {},
     "output_type": "execute_result"
    }
   ],
   "source": [
    "query_size, key_size, value_size, num_hiddens = 512, 512, 512, 512\n",
    "num_layers, dropout = 4, 0.1\n",
    "lr, num_epochs, batch_size, label_smoothing = 0.0004, 500, 6000, 0.1\n",
    "ffn_num_input, ffn_num_hiddens, num_heads = 512, 2048, 8\n",
    "\n",
    "norm_shape = [512] # 32 corresponds to the dim of such number to normalize\n",
    "device = d2l.try_gpu()\n",
    "\n",
    "\n",
    "encoder_wide = TransformerEncoder(\n",
    "\tlen(amino_dict), key_size, query_size, value_size, num_hiddens, \n",
    "\tnorm_shape, ffn_num_input, ffn_num_hiddens, num_heads,\n",
    "\tnum_layers, dropout)\n",
    "decoder_wide = TransformerDecoder(\n",
    "\tlen(amino_dict), key_size, query_size, value_size, num_hiddens, \n",
    "\tnorm_shape, ffn_num_input, ffn_num_hiddens, num_heads,\n",
    "\tnum_layers, dropout)\n",
    "model_wide = EncoderDecoder(encoder_wide, decoder_wide)\n",
    "\n",
    "\n",
    "model_wide_total_params = sum(p.numel() for p in model_wide.parameters())\n",
    "model_wide_total_trainable_params = sum(p.numel() for p in model_wide.parameters() if p.requires_grad)\n",
    "\n",
    "print('Wide model: total number of parameters: {}'.format(model_wide_total_params))\n",
    "print('Wide model: total number of trainable parameters: {}'.format(model_wide_total_trainable_params))\n",
    "\n",
    "\n",
    "model_wide.load_state_dict(torch.load(\"model_wide_22Jul16_1011AM\", map_location = ('cpu')))"
   ]
  },
  {
   "cell_type": "markdown",
   "metadata": {},
   "source": [
    "#### Sample_random_labels"
   ]
  },
  {
   "cell_type": "code",
   "execution_count": 81,
   "metadata": {},
   "outputs": [],
   "source": [
    "num_random_sequences = 10000\n",
    "PBD_target = 'HMKIEEKI' \n",
    "\n",
    "amino_list = list(amino_dict.keys())[4:]\n",
    "\n",
    "random_labels = [\"\".join(list(np.random.choice(amino_list, 8))) for i in range(num_random_sequences)]"
   ]
  },
  {
   "cell_type": "code",
   "execution_count": 82,
   "metadata": {},
   "outputs": [],
   "source": [
    "prediction_length = 8\n",
    "\n",
    "random_probs = []\n",
    "for random_label in random_labels:\n",
    "\tprob = evaluate_single(model_wide, PBD_target, random_label,amino_dict, prediction_length + 2, device, print_info=False)\n",
    "\trandom_probs.append(prob)\n",
    "\n",
    "random_evaluation = list(zip(random_labels, random_probs))"
   ]
  },
  {
   "cell_type": "code",
   "execution_count": 83,
   "metadata": {},
   "outputs": [
    {
     "name": "stdout",
     "output_type": "stream",
     "text": [
      "Number of random labels evaluated: 10000\n"
     ]
    },
    {
     "data": {
      "text/plain": [
       "[('VDRWFFNR', 1.6898096544368358e-19),\n",
       " ('DKEEYDEL', 4.054197965552743e-15),\n",
       " ('EHCYTFLG', 7.159238665080767e-15),\n",
       " ('RYWFFNED', 3.928847362980809e-15),\n",
       " ('FGNSKPGF', 5.030933287987126e-20),\n",
       " ('DHGLMRHS', 9.792497540585932e-20),\n",
       " ('LCFWCIRF', 1.3745241553917255e-20),\n",
       " ('HGTGRQCN', 1.506221163107636e-13),\n",
       " ('NYQVYSAH', 6.390941832776163e-17),\n",
       " ('HSMWDITT', 4.2444908051179135e-16),\n",
       " ('VCTTQLEF', 1.576450439330073e-17),\n",
       " ('LYASQHNI', 7.372559497277601e-15),\n",
       " ('YNLMRYNV', 5.3469059956310115e-17),\n",
       " ('DRCPKFCQ', 4.4248493653467896e-17),\n",
       " ('KLKVQMPV', 8.249862578802475e-15),\n",
       " ('MWREFCEQ', 6.501000107068834e-19),\n",
       " ('SRIKQLIN', 5.364662895734981e-16),\n",
       " ('PMNSNWHR', 1.533988095089106e-19),\n",
       " ('GKNICKCV', 2.3185984424901615e-18),\n",
       " ('YTGGNGKD', 4.806006310216482e-18)]"
      ]
     },
     "execution_count": 83,
     "metadata": {},
     "output_type": "execute_result"
    }
   ],
   "source": [
    "print('Number of random labels evaluated: {}'.format(num_random_sequences))\n",
    "random_evaluation[:20]"
   ]
  },
  {
   "cell_type": "markdown",
   "metadata": {},
   "source": [
    "#### Statistical analysis"
   ]
  },
  {
   "cell_type": "code",
   "execution_count": 84,
   "metadata": {},
   "outputs": [
    {
     "data": {
      "text/plain": [
       "count    1.000000e+04\n",
       "mean     2.784817e-11\n",
       "std      2.757911e-09\n",
       "min      5.837174e-24\n",
       "25%      4.414028e-19\n",
       "50%      8.484333e-18\n",
       "75%      2.069746e-16\n",
       "max      2.757901e-07\n",
       "dtype: float64"
      ]
     },
     "execution_count": 84,
     "metadata": {},
     "output_type": "execute_result"
    }
   ],
   "source": [
    "random_probs_series = pd.Series(random_probs)\n",
    "random_probs_series.describe()"
   ]
  },
  {
   "cell_type": "markdown",
   "metadata": {},
   "source": [
    "# Task 8: Model Wide Generation Frequency Check"
   ]
  },
  {
   "cell_type": "markdown",
   "metadata": {},
   "source": [
    "#### Build model wide"
   ]
  },
  {
   "cell_type": "code",
   "execution_count": 40,
   "metadata": {},
   "outputs": [
    {
     "name": "stdout",
     "output_type": "stream",
     "text": [
      "Wide model: total number of parameters: 29437976\n",
      "Wide model: total number of trainable parameters: 29437976\n"
     ]
    },
    {
     "data": {
      "text/plain": [
       "<All keys matched successfully>"
      ]
     },
     "execution_count": 40,
     "metadata": {},
     "output_type": "execute_result"
    }
   ],
   "source": [
    "query_size, key_size, value_size, num_hiddens = 512, 512, 512, 512\n",
    "num_layers, dropout = 4, 0.1\n",
    "lr, num_epochs, batch_size, label_smoothing = 0.0004, 500, 6000, 0.1\n",
    "ffn_num_input, ffn_num_hiddens, num_heads = 512, 2048, 8\n",
    "\n",
    "norm_shape = [512] # 32 corresponds to the dim of such number to normalize\n",
    "device = d2l.try_gpu()\n",
    "\n",
    "\n",
    "encoder_wide = TransformerEncoder(\n",
    "\tlen(amino_dict), key_size, query_size, value_size, num_hiddens, \n",
    "\tnorm_shape, ffn_num_input, ffn_num_hiddens, num_heads,\n",
    "\tnum_layers, dropout)\n",
    "decoder_wide = TransformerDecoder(\n",
    "\tlen(amino_dict), key_size, query_size, value_size, num_hiddens, \n",
    "\tnorm_shape, ffn_num_input, ffn_num_hiddens, num_heads,\n",
    "\tnum_layers, dropout)\n",
    "model_wide = EncoderDecoder(encoder_wide, decoder_wide)\n",
    "\n",
    "\n",
    "model_wide_total_params = sum(p.numel() for p in model_wide.parameters())\n",
    "model_wide_total_trainable_params = sum(p.numel() for p in model_wide.parameters() if p.requires_grad)\n",
    "\n",
    "print('Wide model: total number of parameters: {}'.format(model_wide_total_params))\n",
    "print('Wide model: total number of trainable parameters: {}'.format(model_wide_total_trainable_params))\n",
    "\n",
    "\n",
    "model_wide.load_state_dict(torch.load(\"model_wide_22Jul16_1011AM\", map_location = ('cpu')))"
   ]
  },
  {
   "cell_type": "markdown",
   "metadata": {},
   "source": [
    "#### Prepare length 8 samples"
   ]
  },
  {
   "cell_type": "code",
   "execution_count": 41,
   "metadata": {},
   "outputs": [
    {
     "name": "stdout",
     "output_type": "stream",
     "text": [
      "number of length 8 samples:  (51714, 10)\n",
      "number of unique length 8 sample:  (39952, 10)\n"
     ]
    }
   ],
   "source": [
    "# select unique length 8 samples\n",
    "\n",
    "prediction_length = 8\n",
    "\n",
    "# unique length 8 targets\n",
    "target_indices = np.arange(BSn_data_dataset2.shape[0]).reshape(-1, 1)\n",
    "BSn_data_dataset2_indices = np.hstack([BSn_data_dataset2, target_indices])\n",
    "\n",
    "condition1 = np.nonzero(np.array([length==prediction_length for length in BSn_data_dataset2_indices[:, 4]]))\n",
    "BSn_data_dataset2_indices_length_8 = BSn_data_dataset2_indices[condition1]\n",
    "\n",
    "condition2 = np.nonzero(np.array([freq==1 for freq in BSn_data_dataset2_indices_length_8[:, -2]]))\n",
    "BSn_data_dataset2_indices_length_8_unique = BSn_data_dataset2_indices_length_8[condition2]\n",
    "\n",
    "\n",
    "print(\"number of length 8 samples: \", BSn_data_dataset2_indices_length_8.shape)\n",
    "print(\"number of unique length 8 sample: \", BSn_data_dataset2_indices_length_8_unique.shape)\n",
    "# target, complementary_seq, counts, promiscuity, length, working_score, hb_pattern, para/anti, freq, indices"
   ]
  },
  {
   "cell_type": "code",
   "execution_count": 43,
   "metadata": {},
   "outputs": [
    {
     "name": "stdout",
     "output_type": "stream",
     "text": [
      "(39952, 8)\n",
      "[[ 4 12 21  7 11  5 22 21]\n",
      " [13  6  8 21 13  4 20  4]\n",
      " [21 13 18 10 15 20 19 20]\n",
      " [12 22 15  4 21  4 13 22]]\n"
     ]
    }
   ],
   "source": [
    "# process PDB label to 2d array \n",
    "PDB_labels = BSn_data_dataset2_indices_length_8_unique[:, 1]\n",
    "PDB_label_2darray = np.array([[amino_dict[letter] for letter in label] for label in PDB_labels])\n",
    "print(PDB_label_2darray.shape)\n",
    "print(PDB_label_2darray[1:5, :])"
   ]
  },
  {
   "cell_type": "code",
   "execution_count": 49,
   "metadata": {},
   "outputs": [
    {
     "name": "stdout",
     "output_type": "stream",
     "text": [
      "Iteration: 0\n",
      "Iteration: 50\n",
      "Iteration: 100\n",
      "Iteration: 150\n",
      "Iteration: 200\n",
      "Iteration: 250\n",
      "Iteration: 300\n",
      "Iteration: 350\n",
      "(39952, 4)\n"
     ]
    }
   ],
   "source": [
    "# generated peptides 2d array\n",
    "\n",
    "PDB_targets = list(BSn_data_dataset2_indices_length_8_unique[:, 0])\n",
    "\n",
    "num_minibatch = 100\n",
    "\n",
    "peptide_pred_list = []\n",
    "num_iter = int(len(PDB_targets)//num_minibatch + 1)\n",
    "\n",
    "for i in range(num_iter):\n",
    "\n",
    "\t# deal with minibatch ending\n",
    "\tif num_minibatch*i+num_minibatch > len(PDB_targets):\n",
    "\t\tpeptide_pred = predict_greedy_batch(model_wide, PDB_targets[num_minibatch*i:], amino_dict, prediction_length + 2, device)\n",
    "\t\tpeptide_pred_list.append(peptide_pred)\n",
    "\t\tbreak\n",
    "\n",
    "\tpeptide_pred = predict_greedy_batch(model_wide, PDB_targets[num_minibatch*i:num_minibatch*i+num_minibatch], amino_dict, prediction_length + 2, device)\n",
    "\tpeptide_pred_list.append(peptide_pred)\n",
    "\n",
    "\t# track iteration\n",
    "\tif i%50 == 0:\n",
    "\t\tprint(\"Iteration: {}\".format(i))\n",
    "\n",
    "peptide_pred_array = np.vstack(peptide_pred_list)\n",
    "peptide_pred_array_new = np.hstack([peptide_pred_array, np.array(PDB_labels).reshape(-1, 1)])\n",
    "# target, prediction, greedy_prob, label\n",
    "\n",
    "print(peptide_pred_array_new.shape)"
   ]
  },
  {
   "cell_type": "code",
   "execution_count": 50,
   "metadata": {},
   "outputs": [
    {
     "name": "stdout",
     "output_type": "stream",
     "text": [
      "(39952, 8)\n",
      "[[ 4 12 21  7 11  5 22 21]\n",
      " [13  6  8 21 13  4 20  4]\n",
      " [21 13 18 10 15 20 19 20]\n",
      " [12 22 15  4 21  4 13 22]]\n"
     ]
    }
   ],
   "source": [
    "# Process model prediction to 2d array \n",
    "\n",
    "Generated_peptides_2darray = np.array([[amino_dict[letter] for letter in label] for label in peptide_pred_array_new[:, 1]])\n",
    "print(Generated_peptides_2darray.shape)\n",
    "print(Generated_peptides_2darray[1:5, :])"
   ]
  },
  {
   "cell_type": "markdown",
   "metadata": {},
   "source": [
    "#### Save frequency table"
   ]
  },
  {
   "cell_type": "code",
   "execution_count": 66,
   "metadata": {},
   "outputs": [
    {
     "name": "stdout",
     "output_type": "stream",
     "text": [
      "------------------------\n",
      "(20, 8)\n",
      "Frequency Table is:\n",
      "[[0.05724369 0.06750601 0.07101021]\n",
      " [0.01281538 0.01486784 0.01704545]\n",
      " [0.04465358 0.02961053 0.03051161]\n",
      " [0.05749399 0.0551662  0.05321386]\n",
      " [0.05456548 0.06132359 0.0597467 ]\n",
      " [0.04703144 0.05188726 0.05551662]\n",
      " [0.02490489 0.02182619 0.02215158]\n",
      " [0.07291249 0.08415098 0.08269924]\n",
      " [0.05401482 0.04680617 0.04385262]\n",
      " [0.08840609 0.09731678 0.09749199]\n",
      " [0.01596916 0.01842211 0.01829696]\n",
      " [0.0384962  0.02625651 0.02610633]\n",
      " [0.02738286 0.01168903 0.00971165]\n",
      " [0.03524229 0.03153785 0.03128755]\n",
      " [0.05444033 0.05231278 0.04813276]\n",
      " [0.05829495 0.0534141  0.0574189 ]\n",
      " [0.07388867 0.07664197 0.08164798]\n",
      " [0.10770425 0.12297257 0.12685222]\n",
      " [0.01732078 0.01897277 0.0164197 ]\n",
      " [0.05721866 0.05731878 0.05088606]]\n"
     ]
    }
   ],
   "source": [
    "import collections\n",
    "PDB_frequency = np.zeros((24, 8))\n",
    "\n",
    "for pos in range(8):\n",
    "\tPDB_frequency_dict = collections.Counter(PDB_label_2darray[:, pos])\n",
    "\tfor key in PDB_frequency_dict.keys():\n",
    "\t\tPDB_frequency[key, pos] = PDB_frequency_dict[key]\n",
    "\n",
    "PDB_frequency_new = np.delete(PDB_frequency, [0, 1, 2, 3], axis=0) / PDB_label_2darray.shape[0]\n",
    "\n",
    "# save to csv file\n",
    "np.savetxt('PDB_label_frequency.csv', PDB_frequency_new, delimiter=',', fmt='%s')\n",
    "\n",
    "\n",
    "print('------------------------')\n",
    "print(PDB_frequency_new.shape)\n",
    "print(\"Frequency Table is:\")\n",
    "print(PDB_frequency_new[:, 0:3])"
   ]
  },
  {
   "cell_type": "code",
   "execution_count": 67,
   "metadata": {},
   "outputs": [
    {
     "name": "stdout",
     "output_type": "stream",
     "text": [
      "------------------------\n",
      "(20, 8)\n",
      "Frequency Table is:\n",
      "[[0.05671806 0.06725571 0.07113536]\n",
      " [0.01306568 0.0149179  0.01697036]\n",
      " [0.04477873 0.02956047 0.0305867 ]\n",
      " [0.05751902 0.05536644 0.05338907]\n",
      " [0.05504105 0.06192431 0.0597467 ]\n",
      " [0.04745695 0.05188726 0.05511614]\n",
      " [0.0250801  0.02177613 0.02210152]\n",
      " [0.07246195 0.08422607 0.08292451]\n",
      " [0.05411494 0.04680617 0.0437525 ]\n",
      " [0.08780537 0.09731678 0.09711654]\n",
      " [0.01619443 0.01827193 0.01822187]\n",
      " [0.03859632 0.0263316  0.02613136]\n",
      " [0.02775831 0.01171406 0.00973668]\n",
      " [0.03511714 0.03128755 0.03121245]\n",
      " [0.05429015 0.05233781 0.04843312]\n",
      " [0.05784441 0.05313877 0.0571686 ]\n",
      " [0.07383861 0.07634161 0.08182319]\n",
      " [0.10742891 0.12367341 0.12687725]\n",
      " [0.01744594 0.01884762 0.01656988]\n",
      " [0.05744393 0.05701842 0.05098618]]\n"
     ]
    }
   ],
   "source": [
    "import collections\n",
    "generated_frequency = np.zeros((24, 8))\n",
    "\n",
    "for pos in range(8):\n",
    "\tgenerated_frequency_dict = collections.Counter(Generated_peptides_2darray[:, pos])\n",
    "\tfor key in generated_frequency_dict.keys():\n",
    "\t\tgenerated_frequency[key, pos] = generated_frequency_dict[key]\n",
    "\n",
    "generated_frequency_new = np.delete(generated_frequency, [0, 1, 2, 3], axis=0) / Generated_peptides_2darray.shape[0]\n",
    "\n",
    "# save to csv file\n",
    "np.savetxt('Generated_peptides_frequency.csv', generated_frequency_new, delimiter=',', fmt='%s')\n",
    "\n",
    "\n",
    "print('------------------------')\n",
    "print(generated_frequency_new.shape)\n",
    "print(\"Frequency Table is:\")\n",
    "print(generated_frequency_new[:, 0:3])"
   ]
  },
  {
   "cell_type": "markdown",
   "metadata": {},
   "source": [
    "# Task 9: Visualize attention weights"
   ]
  },
  {
   "cell_type": "markdown",
   "metadata": {},
   "source": [
    "#### Build Model Wide"
   ]
  },
  {
   "cell_type": "code",
   "execution_count": 39,
   "metadata": {},
   "outputs": [
    {
     "name": "stdout",
     "output_type": "stream",
     "text": [
      "Wide model: total number of parameters: 29437976\n",
      "Wide model: total number of trainable parameters: 29437976\n"
     ]
    },
    {
     "data": {
      "text/plain": [
       "<All keys matched successfully>"
      ]
     },
     "execution_count": 39,
     "metadata": {},
     "output_type": "execute_result"
    }
   ],
   "source": [
    "query_size, key_size, value_size, num_hiddens = 512, 512, 512, 512\n",
    "num_layers, dropout = 4, 0.1\n",
    "lr, num_epochs, batch_size, label_smoothing = 0.0004, 500, 6000, 0.1\n",
    "ffn_num_input, ffn_num_hiddens, num_heads = 512, 2048, 8\n",
    "\n",
    "norm_shape = [512] # 32 corresponds to the dim of such number to normalize\n",
    "device = d2l.try_gpu()\n",
    "\n",
    "\n",
    "encoder_wide = TransformerEncoder(\n",
    "\tlen(amino_dict), key_size, query_size, value_size, num_hiddens, \n",
    "\tnorm_shape, ffn_num_input, ffn_num_hiddens, num_heads,\n",
    "\tnum_layers, dropout)\n",
    "decoder_wide = TransformerDecoder(\n",
    "\tlen(amino_dict), key_size, query_size, value_size, num_hiddens, \n",
    "\tnorm_shape, ffn_num_input, ffn_num_hiddens, num_heads,\n",
    "\tnum_layers, dropout)\n",
    "model_wide = EncoderDecoder(encoder_wide, decoder_wide)\n",
    "\n",
    "\n",
    "model_wide_total_params = sum(p.numel() for p in model_wide.parameters())\n",
    "model_wide_total_trainable_params = sum(p.numel() for p in model_wide.parameters() if p.requires_grad)\n",
    "\n",
    "print('Wide model: total number of parameters: {}'.format(model_wide_total_params))\n",
    "print('Wide model: total number of trainable parameters: {}'.format(model_wide_total_trainable_params))\n",
    "\n",
    "\n",
    "model_wide.load_state_dict(torch.load(\"model_wide_22Jul16_1011AM\", map_location = ('cpu')))"
   ]
  },
  {
   "cell_type": "markdown",
   "metadata": {},
   "source": [
    "#### Save attention weights for one prediction"
   ]
  },
  {
   "cell_type": "code",
   "execution_count": 54,
   "metadata": {},
   "outputs": [],
   "source": [
    "# interesting examples to demonstrate the power of the model\n",
    "\n",
    "PDB_beta_strand_1 = 'NRIELKGT' # PDB labels = 'VVARTKYK' (training sample that generate different labels)\n",
    "PNAS_target_1 = 'EQVTNVG' # paper chosen peptide = 'EILVSYQ' (alpha-synuclein residues 61-67)\n",
    "PNAS_target_2 = 'QKLVFFA' # paper chosen peptide = 'FKLSVIT' (Abeta42 residues 15-22)\n",
    "PNAS_target_3 = 'VVTGVTA' # paper chosen peptide = 'FQEAVSG' (alpha-synuclein residues 70-76)\n",
    "\n",
    "task_target = 'QKLVFFA'\n",
    "prediction_length = 7"
   ]
  },
  {
   "cell_type": "code",
   "execution_count": 55,
   "metadata": {},
   "outputs": [
    {
     "name": "stdout",
     "output_type": "stream",
     "text": [
      "Conditional probability at position 1 is 0.4625701606273651\n",
      "Conditional probability at position 2 is 0.8004001379013062\n",
      "Conditional probability at position 3 is 0.9314331412315369\n",
      "Conditional probability at position 4 is 0.6901359558105469\n",
      "Conditional probability at position 5 is 0.9444414973258972\n",
      "Conditional probability at position 6 is 0.46392005681991577\n",
      "Conditional probability at position 7 is 0.9051060676574707\n",
      "Conditional probability at position 8 is 0.924258828163147\n",
      "Input target sequence is QKLVFFA, predicted complementary peptide is TIVSLGV\n",
      "Condition on input, predicted probability is 0.08723332041189082\n"
     ]
    }
   ],
   "source": [
    "dec_comple_peptide_pred, dec_prob, dec_attention_weight_seq = predict_greedy_single(model_wide, task_target, amino_dict, prediction_length + 2, device, save_attention_weights=True, print_info=True)"
   ]
  },
  {
   "cell_type": "markdown",
   "metadata": {},
   "source": [
    "#### Bertviz visualization"
   ]
  },
  {
   "cell_type": "code",
   "execution_count": 56,
   "metadata": {},
   "outputs": [
    {
     "name": "stdout",
     "output_type": "stream",
     "text": [
      "torch.Size([1, 8, 9, 9])\n",
      "torch.Size([1, 8, 8, 8])\n",
      "torch.Size([1, 8, 8, 9])\n",
      "['Q', 'K', 'L', 'V', 'F', 'F', 'A', '<eos>', '<pad>']\n",
      "['T', 'I', 'V', 'S', 'L', 'G', 'V', '<eos>']\n"
     ]
    }
   ],
   "source": [
    "encoder_self_attention = [torch.unsqueeze(attention, dim=0) for attention in model_wide.encoder.attention_weights]\n",
    "decoder_self_attention = [torch.unsqueeze(attention, dim=0) for attention in dec_attention_weight_seq[-1][0]]\n",
    "decoder_encoder_attention = [torch.unsqueeze(attention, dim=0) for attention in dec_attention_weight_seq[-1][1]]\n",
    "# decoder_self_attention = dec_attention_weight_seq[-1][0]\n",
    "# decoder_encoder_attention = dec_attention_weight_seq[-1][1]\n",
    "\n",
    "\n",
    "encoder_text = d2l.truncate_pad(list(task_target) + ['<eos>'], prediction_length+2, '<pad>')\n",
    "#encoder_text = list(task_target) + ['<eos>', '<pad>']\n",
    "decoder_text = list(dec_comple_peptide_pred) + ['<eos>']\n",
    "\n",
    "print(encoder_self_attention[0].shape)\n",
    "print(decoder_self_attention[0].shape)\n",
    "print(decoder_encoder_attention[0].shape)\n",
    "print(encoder_text)\n",
    "print(decoder_text)"
   ]
  },
  {
   "cell_type": "code",
   "execution_count": 57,
   "metadata": {},
   "outputs": [
    {
     "data": {
      "text/html": [
       "<script src=\"https://cdnjs.cloudflare.com/ajax/libs/require.js/2.3.6/require.min.js\"></script>"
      ],
      "text/plain": [
       "<IPython.core.display.HTML object>"
      ]
     },
     "metadata": {},
     "output_type": "display_data"
    },
    {
     "data": {
      "text/html": [
       "      \n",
       "        <div id=\"bertviz-16182a253ccf4b0bbb6ba46af52d8157\" style=\"font-family:'Helvetica Neue', Helvetica, Arial, sans-serif;\">\n",
       "            <span style=\"user-select:none\">\n",
       "                Attention: <select id=\"filter\"><option value=\"0\">Encoder</option>\n",
       "<option value=\"1\">Decoder</option>\n",
       "<option value=\"2\">Cross</option></select>\n",
       "            </span>\n",
       "            <div id='vis'></div>\n",
       "        </div>\n",
       "    "
      ],
      "text/plain": [
       "<IPython.core.display.HTML object>"
      ]
     },
     "metadata": {},
     "output_type": "display_data"
    },
    {
     "data": {
      "application/javascript": "/**\n * @fileoverview Transformer Visualization D3 javascript code.\n *\n * Based on: https://github.com/tensorflow/tensor2tensor/blob/master/tensor2tensor/visualization/attention.js\n *\n * Change log:\n *\n * 02/01/19  Jesse Vig   Initial implementation\n * 12/31/20  Jesse Vig   Support multiple visualizations in single notebook.\n * 01/19/21  Jesse Vig   Support light/dark modes\n * 02/06/21  Jesse Vig   Move require config from separate jupyter notebook step\n * 05/03/21  Jesse Vig   Adjust visualization height dynamically\n * 03/23/22  Daniel SC   Update requirement URLs for d3 and jQuery (source of bug not allowing end result to be displayed on browsers)\n **/\n\nrequire.config({\n  paths: {\n      d3: 'https://cdnjs.cloudflare.com/ajax/libs/d3/5.7.0/d3.min',\n    jquery: 'https://cdnjs.cloudflare.com/ajax/libs/jquery/2.0.0/jquery.min',\n  }\n});\n\nrequirejs(['jquery', 'd3'], function($, d3) {\n\n        const params = {\"attention\": [{\"name\": \"Encoder\", \"attn\": [[[[0.009657680056989193, 0.5535450577735901, 0.43669018149375916, 0.00010674286022549495, 2.686704476673185e-07, 4.508845741213463e-09, 1.724902443100973e-09, 6.237483390340479e-16, 0.0], [0.9909327030181885, 0.008782354183495045, 0.00028486852534115314, 1.9517678584435316e-09, 1.0150199908007251e-12, 3.949912499943281e-13, 9.476911616568273e-11, 8.696042068942825e-14, 0.0], [1.835090370150283e-05, 0.997805655002594, 0.002174929017201066, 1.0133998102901387e-06, 9.087546253699896e-13, 4.757518705186898e-17, 1.910310593528541e-17, 4.513852741386156e-19, 0.0], [1.736626123734577e-16, 2.5924657165887766e-05, 0.9984143972396851, 0.0015595188597217202, 7.688179692877384e-08, 5.032518671773745e-16, 1.668870106336174e-21, 1.0056100685802067e-26, 0.0], [1.0189666250927456e-32, 6.429898240140073e-19, 2.645826384650718e-07, 0.9995335340499878, 0.00046620401553809643, 2.5966596494536587e-12, 7.203582335981169e-21, 8.615588214364224e-33, 0.0], [1.5414283107572988e-44, 2.2414270445497714e-32, 3.087812287101249e-18, 2.9880902729928493e-05, 0.9986506104469299, 0.001319557661190629, 6.461081669684177e-12, 1.0384809260542845e-28, 0.0], [0.0, 0.0, 1.8205009580879388e-35, 1.4829618089255387e-20, 8.711494956514798e-07, 0.9999970197677612, 2.156650452889153e-06, 4.8724634366030834e-23, 0.0], [0.0, 0.0, 0.0, 0.0, 0.0, 0.0, 0.0, 1.0, 0.0], [8.407790785948902e-45, 0.0, 0.0, 0.0, 1.8188854066936126e-42, 7.215952288708819e-25, 2.9660351952287556e-09, 1.0, 0.0]], [[3.760880548857277e-16, 1.0, 1.6018991559112578e-18, 0.0, 0.0, 0.0, 0.0, 0.0, 0.0], [1.1167049341081329e-22, 1.067992569381282e-11, 1.0, 5.2881130473645476e-17, 1.401298464324817e-44, 0.0, 0.0, 0.0, 0.0], [0.0, 8.574097624410968e-24, 1.9657473870893227e-08, 1.0, 2.1982123152991528e-13, 9.636707566801846e-37, 0.0, 0.0, 0.0], [0.0, 3.587324068671532e-43, 2.5144702802382012e-22, 7.43829775551319e-10, 1.0, 1.1022090358470127e-12, 2.526905908225568e-35, 0.0, 0.0], [0.0, 0.0, 1.607595972279983e-34, 1.3749955289480732e-14, 8.854684710968286e-05, 0.9999113082885742, 8.93551401759396e-08, 1.1406288118872375e-37, 0.0], [1.961817850054744e-44, 0.0, 0.0, 8.799033317188391e-41, 4.224507396629212e-30, 1.3334923443242275e-12, 1.0, 5.679479600691055e-20, 0.0], [6.683500326095084e-23, 2.5225858623448435e-30, 0.0, 0.0, 2.802596928649634e-45, 2.0502830192578816e-24, 8.189987283913069e-07, 0.9999991655349731, 0.0], [0.0, 0.0, 0.0, 0.0, 0.0, 0.0, 6.221765181602188e-43, 1.0, 0.0], [1.6954197339706482e-31, 4.150372660660651e-06, 0.9999958276748657, 2.181274605383976e-10, 8.288763676764134e-25, 2.3715538260795297e-35, 1.405825122026222e-32, 3.335083341765338e-23, 0.0]], [[0.0048850285820662975, 0.056247979402542114, 0.20841066539287567, 0.519554078578949, 0.132023885846138, 0.03140682727098465, 0.03744852915406227, 0.010023067705333233, 0.0], [0.10374940931797028, 0.07058615237474442, 0.09204094111919403, 0.16767020523548126, 0.1317422240972519, 0.10370869934558868, 0.1479940116405487, 0.1825084537267685, 0.0], [0.3558551073074341, 0.13935619592666626, 0.05802037566900253, 0.039503537118434906, 0.02572702243924141, 0.026761407032608986, 0.075920470058918, 0.27885594964027405, 0.0], [0.27066317200660706, 0.3699371814727783, 0.1338624209165573, 0.04383036494255066, 0.01666058599948883, 0.011617882177233696, 0.03160761296749115, 0.12182088196277618, 0.0], [0.04405415058135986, 0.4727693200111389, 0.3066950738430023, 0.11997547000646591, 0.02190971001982689, 0.0064436206594109535, 0.011181111447513103, 0.016971556469798088, 0.0], [0.004427679348737001, 0.13395652174949646, 0.3223211169242859, 0.40650901198387146, 0.09602701663970947, 0.01870383694767952, 0.015287075191736221, 0.0027676743920892477, 0.0], [0.0004671888018492609, 0.007342569995671511, 0.06787914782762527, 0.4043894112110138, 0.3670702278614044, 0.11683163791894913, 0.03523243963718414, 0.0007873784634284675, 0.0], [9.51185284066014e-05, 7.58882742957212e-05, 0.0001801560283638537, 0.003820106154307723, 0.0006126107764430344, 0.00044984836131334305, 0.002734112786129117, 0.9920321702957153, 0.0], [0.014652491547167301, 0.0020817029289901257, 0.00459749810397625, 0.027719957754015923, 0.1020762100815773, 0.26841965317726135, 0.5372626781463623, 0.04318981617689133, 0.0]], [[0.0382201224565506, 0.3227595388889313, 0.08736035972833633, 0.194540873169899, 0.25100603699684143, 0.08014027774333954, 0.014335338957607746, 0.011637399904429913, 0.0], [0.22774575650691986, 0.12338109314441681, 0.12676192820072174, 0.16575512290000916, 0.22626294195652008, 0.09058617055416107, 0.022424733266234398, 0.017082221806049347, 0.0], [0.13074354827404022, 0.13677524030208588, 0.08139452338218689, 0.17558635771274567, 0.29871535301208496, 0.13368827104568481, 0.020677879452705383, 0.02241886407136917, 0.0], [0.08877602219581604, 0.04534219205379486, 0.042818859219551086, 0.057640135288238525, 0.49150562286376953, 0.23519361019134521, 0.027981238439679146, 0.010742433369159698, 0.0], [0.10380879044532776, 0.087206169962883, 0.11220268160104752, 0.32944613695144653, 0.17742687463760376, 0.09404589980840683, 0.06707631796598434, 0.028787100687623024, 0.0], [0.0487995445728302, 0.044440723955631256, 0.06758846342563629, 0.25063249468803406, 0.18962939083576202, 0.16166265308856964, 0.17483985424041748, 0.062406931072473526, 0.0], [0.00811111181974411, 0.012593246065080166, 0.014636374078691006, 0.05462081357836723, 0.2809031307697296, 0.4670554995536804, 0.08511801064014435, 0.07696181535720825, 0.0], [7.187948085629614e-06, 9.523701919533778e-06, 2.459603138049715e-06, 3.06039655697532e-05, 3.9190505049191415e-05, 0.00040294750942848623, 0.010877883061766624, 0.9886301755905151, 0.0], [0.016769930720329285, 0.008838721551001072, 0.015170308761298656, 0.012518525123596191, 0.10733429342508316, 0.2787938416004181, 0.40568554401397705, 0.1548888236284256, 0.0]], [[0.5451481342315674, 0.17269837856292725, 0.034054022282361984, 0.020941313356161118, 0.10866124927997589, 0.03799128159880638, 0.004860469605773687, 0.07564511895179749, 0.0], [0.8423455953598022, 0.042294856160879135, 0.012369957752525806, 0.006520405877381563, 0.03239656612277031, 0.020758112892508507, 0.006766194012016058, 0.0365484356880188, 0.0], [0.8760918974876404, 0.08257228881120682, 0.008564495481550694, 0.0035039042122662067, 0.013460343703627586, 0.007248932961374521, 0.001927345059812069, 0.0066309161484241486, 0.0], [0.6997849941253662, 0.1886187046766281, 0.031631503254175186, 0.011298410594463348, 0.036198101937770844, 0.01815035566687584, 0.00547001650556922, 0.008847958408296108, 0.0], [0.3812223970890045, 0.3851568400859833, 0.10162908583879471, 0.04331785440444946, 0.053774043917655945, 0.01934080757200718, 0.010109852068126202, 0.005449069198220968, 0.0], [0.06271373480558395, 0.20135793089866638, 0.15788033604621887, 0.1443115472793579, 0.29601073265075684, 0.09878948330879211, 0.03527781367301941, 0.003658367320895195, 0.0], [0.0007281686994247139, 0.006965139415115118, 0.019322624430060387, 0.052659809589385986, 0.6261683106422424, 0.27316832542419434, 0.020398104563355446, 0.0005895456415601075, 0.0], [0.00020446818962227553, 0.00015210386482067406, 0.0006216110778041184, 0.0010829656384885311, 0.001103766611777246, 0.001879250630736351, 0.006236647721379995, 0.9887191653251648, 0.0], [0.0038277774583548307, 0.004097022116184235, 0.008147357031702995, 0.034007325768470764, 0.18839552998542786, 0.35446733236312866, 0.4003954827785492, 0.006662164814770222, 0.0]], [[0.0481431744992733, 0.2868683934211731, 0.2623375952243805, 0.1408068686723709, 0.10246364772319794, 0.0507042333483696, 0.045887287706136703, 0.06278881430625916, 0.0], [0.21693478524684906, 0.09507375210523605, 0.24272949993610382, 0.13532763719558716, 0.09899244457483292, 0.06355316936969757, 0.07349026948213577, 0.07389844208955765, 0.0], [0.11732342094182968, 0.2770580053329468, 0.11779528111219406, 0.18581877648830414, 0.1395128220319748, 0.0757957175374031, 0.04467804357409477, 0.04201792553067207, 0.0], [0.07797534018754959, 0.15455420315265656, 0.34069257974624634, 0.11630763113498688, 0.1323709636926651, 0.07154155522584915, 0.059140630066394806, 0.04741709306836128, 0.0], [0.032622113823890686, 0.12944376468658447, 0.29363149404525757, 0.25033774971961975, 0.12661583721637726, 0.06343162804841995, 0.055771224200725555, 0.04814614728093147, 0.0], [0.016827495768666267, 0.06787946820259094, 0.1795976758003235, 0.23004870116710663, 0.17659279704093933, 0.12332109361886978, 0.10609853267669678, 0.09963434189558029, 0.0], [0.008814874105155468, 0.025244316086173058, 0.07702207565307617, 0.10254253447055817, 0.24184530973434448, 0.2779638469219208, 0.06898319721221924, 0.19758379459381104, 0.0], [0.00023775320732966065, 0.00033495627576485276, 0.0006378514226526022, 0.0009916686685755849, 0.001485312357544899, 0.005022851750254631, 0.014795441180467606, 0.9764941334724426, 0.0], [0.06198727712035179, 0.04571710526943207, 0.05531255528330803, 0.08139941841363907, 0.11818388104438782, 0.22012728452682495, 0.20463278889656067, 0.2126396745443344, 0.0]], [[0.024702545255422592, 0.00010748729255283251, 3.0704391974722967e-05, 0.0004942430532537401, 0.007919616997241974, 0.01689738966524601, 0.0003925818600691855, 0.9494554400444031, 0.0], [0.58742356300354, 0.03780391812324524, 0.003028810489922762, 0.0012151094852015376, 0.003377569140866399, 0.011341286823153496, 0.011001757346093655, 0.34480804204940796, 0.0], [0.48193851113319397, 0.46865057945251465, 0.030344592407345772, 0.0008597584092058241, 0.00012721992970909923, 0.00010540215589571744, 0.0002913759963121265, 0.017682719975709915, 0.0], [0.05681357532739639, 0.7576019167900085, 0.17628814280033112, 0.007833757437765598, 0.00023963330022525042, 3.028946593985893e-05, 3.3061554859159514e-05, 0.0011595768155530095, 0.0], [0.006095355376601219, 0.22744375467300415, 0.5510206818580627, 0.2052673101425171, 0.009555594995617867, 0.00023888074792921543, 2.0328780010459013e-05, 0.000358054181560874, 0.0], [0.00012952332326676697, 0.0040189120918512344, 0.0869843065738678, 0.6076556444168091, 0.2926032543182373, 0.008327129296958447, 0.00010726653272286057, 0.00017392871086485684, 0.0], [8.16175145246234e-07, 7.098742571542971e-06, 0.000518074375577271, 0.039681319147348404, 0.7398400902748108, 0.2161971777677536, 0.003680855268612504, 7.463661313522607e-05, 0.0], [1.9141049856230552e-10, 1.3740033555365017e-09, 2.1135740269073722e-07, 8.17468753666617e-05, 0.07115848362445831, 0.8107808828353882, 0.11792545765638351, 5.3236533858580515e-05, 0.0], [4.423676273290766e-06, 2.4095686967484653e-05, 5.3740783187095076e-05, 0.00016057197353802621, 0.012869706377387047, 0.2060495764017105, 0.7805291414260864, 0.00030886600143276155, 0.0]], [[0.021037522703409195, 0.15867963433265686, 0.39479172229766846, 0.3116922676563263, 0.08239156752824783, 0.018202507868409157, 0.009159240871667862, 0.004045393317937851, 0.0], [0.0051363143138587475, 0.03317860886454582, 0.19626480340957642, 0.44902923703193665, 0.25608474016189575, 0.04810287430882454, 0.008876312524080276, 0.0033270400017499924, 0.0], [0.0008801957592368126, 0.004092487972229719, 0.025730598717927933, 0.22180965542793274, 0.5121805667877197, 0.19804850220680237, 0.031980160623788834, 0.005277715623378754, 0.0], [0.0016068994300439954, 0.001790546579286456, 0.005446259398013353, 0.052279453724622726, 0.33597996830940247, 0.4350271224975586, 0.14595648646354675, 0.021913258358836174, 0.0], [0.003685144241899252, 0.002832012949511409, 0.003211681265383959, 0.017750144004821777, 0.09883375465869904, 0.3069806694984436, 0.3580242693424225, 0.2086823731660843, 0.0], [0.0045882356353104115, 0.00420148903504014, 0.0023279080633074045, 0.004722316283732653, 0.014915664680302143, 0.07281550765037537, 0.26522478461265564, 0.6312041282653809, 0.0], [0.004739535041153431, 0.010878036729991436, 0.005298845004290342, 0.0029636279214173555, 0.003958823159337044, 0.01599583588540554, 0.11277256160974503, 0.8433927893638611, 0.0], [0.008769203908741474, 0.04787122830748558, 0.022288557142019272, 0.003945180214941502, 0.0016101630171760917, 0.003923223819583654, 0.03312099352478981, 0.8784714341163635, 0.0], [0.018402768298983574, 0.1684451699256897, 0.29024651646614075, 0.2027498334646225, 0.09374897927045822, 0.0498330183327198, 0.04837292060256004, 0.12820079922676086, 0.0]]], [[[0.02142605371773243, 0.010300143621861935, 0.0015791060868650675, 0.002167453756555915, 0.010933365672826767, 0.009847384877502918, 0.004171800799667835, 0.939574658870697, 0.0], [0.026888251304626465, 0.0151550667360425, 0.0025674416683614254, 0.0032740202732384205, 0.003357621841132641, 0.0033780294470489025, 0.004439247772097588, 0.9409403204917908, 0.0], [0.0419984832406044, 0.025915175676345825, 0.009155604988336563, 0.004513774532824755, 0.003465575398877263, 0.0029399169143289328, 0.004300730302929878, 0.9077107310295105, 0.0], [0.010337378829717636, 0.23429055511951447, 0.017170054838061333, 0.005979764275252819, 0.0016487464308738708, 0.0010780669981613755, 0.0024098942521959543, 0.727085530757904, 0.0], [0.00625763600692153, 0.02739884704351425, 0.26654377579689026, 0.024374011904001236, 0.01331169344484806, 0.0010412667179480195, 0.0016834314446896315, 0.6593893766403198, 0.0], [0.004801772069185972, 0.014309730380773544, 0.050277721136808395, 0.22621242702007294, 0.13071231544017792, 0.008512400090694427, 0.0013506299583241343, 0.5638229250907898, 0.0], [0.005787604488432407, 0.00343903386965394, 0.011713803745806217, 0.051521409302949905, 0.3485445976257324, 0.024421826004981995, 0.017142953351140022, 0.5374287962913513, 0.0], [0.0011288097593933344, 0.003999015316367149, 0.0008240524330176413, 0.0006488771177828312, 0.0010015455773100257, 0.0007667001918889582, 0.0035339181777089834, 0.988097071647644, 0.0], [0.001974421786144376, 0.004997076001018286, 0.000502105918712914, 0.0003926943172700703, 0.0005969761405140162, 0.0005340315983630717, 0.0009953764965757728, 0.9900072813034058, 0.0]], [[0.00994419027119875, 0.02979901432991028, 0.061031851917505264, 0.05246196687221527, 0.0952313095331192, 0.010530584491789341, 0.008840895257890224, 0.7321601510047913, 0.0], [0.020105332136154175, 0.015152167528867722, 0.023068977519869804, 0.060750000178813934, 0.05214753746986389, 0.010568175464868546, 0.007019293960183859, 0.8111885786056519, 0.0], [0.03648274019360542, 0.044310469180345535, 0.013190997764468193, 0.05658825486898422, 0.03603958711028099, 0.003828197019174695, 0.038187913596630096, 0.7713718414306641, 0.0], [0.026191003620624542, 0.10448475182056427, 0.026096682995557785, 0.025019995868206024, 0.006023556925356388, 0.004661298356950283, 0.05535165220499039, 0.7521710395812988, 0.0], [0.026518244296312332, 0.031024547293782234, 0.034299466758966446, 0.037895530462265015, 0.016973217949271202, 0.01302096527069807, 0.06182360649108887, 0.7784444689750671, 0.0], [0.008698300458490849, 0.027553992345929146, 0.023253142833709717, 0.03431810066103935, 0.03437972441315651, 0.010837492533028126, 0.025306524708867073, 0.8356527090072632, 0.0], [0.00510802399367094, 0.017271680757403374, 0.015620413236320019, 0.058308910578489304, 0.015369054861366749, 0.016716523095965385, 0.021451350301504135, 0.8501541018486023, 0.0], [0.0019179941155016422, 0.0021291279699653387, 0.0019514791201800108, 0.0010330395307391882, 0.003243809100240469, 0.0007542631938122213, 0.00030899301054887474, 0.9886612892150879, 0.0], [0.004786649718880653, 0.0051665655337274075, 0.0026238583959639072, 0.0019933346193283796, 0.0033313408493995667, 0.0010508432751521468, 0.00014349860430229455, 0.9809039235115051, 0.0]], [[0.004421834368258715, 0.15372364223003387, 0.04102874919772148, 0.044022489339113235, 0.008525866083800793, 0.004323750734329224, 0.008876715786755085, 0.735076904296875, 0.0], [0.021020036190748215, 0.013954870402812958, 0.18647368252277374, 0.014383328147232533, 0.014104295521974564, 0.0066255261190235615, 0.013731034472584724, 0.7297071814537048, 0.0], [0.009431734681129456, 0.031137801706790924, 0.00507916696369648, 0.03395781293511391, 0.07421216368675232, 0.013289394788444042, 0.00391380675137043, 0.8289781212806702, 0.0], [0.01716378889977932, 0.03515208512544632, 0.013244432397186756, 0.011718209832906723, 0.1068221777677536, 0.01223879773169756, 0.009536918252706528, 0.7941235303878784, 0.0], [0.012889698147773743, 0.035002756863832474, 0.06252744793891907, 0.022181762382388115, 0.004771925508975983, 0.009728267788887024, 0.09083253145217896, 0.762065589427948, 0.0], [0.009783723391592503, 0.008956585079431534, 0.034307245165109634, 0.013048144057393074, 0.00877473410218954, 0.00609764875844121, 0.07773325592279434, 0.8412986397743225, 0.0], [0.004593225661665201, 0.014818844385445118, 0.01751858927309513, 0.02545221336185932, 0.009327344596385956, 0.020773183554410934, 0.032611262053251266, 0.8749053478240967, 0.0], [0.0003221296356059611, 0.0017495063366368413, 0.0021929480135440826, 0.0009377431706525385, 0.0016862651100382209, 0.0006802045390941203, 0.00039354077307507396, 0.9920376539230347, 0.0], [0.000736940186470747, 0.0039487192407250404, 0.00201469287276268, 0.0015441016294062138, 0.00169387087225914, 0.0005373136955313385, 0.00018519953300710768, 0.9893391728401184, 0.0]], [[0.03332677111029625, 0.03535648062825203, 0.018368160352110863, 0.004936890210956335, 0.004635550547391176, 0.003785664215683937, 0.00279028108343482, 0.8968002200126648, 0.0], [0.07211466133594513, 0.014198814518749714, 0.01506077405065298, 0.0045517259277403355, 0.004169100429862738, 0.003916812129318714, 0.0023013355676084757, 0.8836867809295654, 0.0], [0.010234342887997627, 0.12412136793136597, 0.031561385840177536, 0.011388558894395828, 0.005937022157013416, 0.006034534890204668, 0.004122440703213215, 0.8066003322601318, 0.0], [0.004503106232732534, 0.04247888922691345, 0.11803039908409119, 0.015237249433994293, 0.00463414890691638, 0.0022997413761913776, 0.001982378074899316, 0.8108340501785278, 0.0], [0.006224508862942457, 0.018340932205319405, 0.020479032769799232, 0.17522796988487244, 0.026255730539560318, 0.005303367972373962, 0.0028376488480716944, 0.745330810546875, 0.0], [0.006483484525233507, 0.005893033463507891, 0.005112157668918371, 0.02933863177895546, 0.12857356667518616, 0.009339787997305393, 0.004609222058206797, 0.810650110244751, 0.0], [0.0023533778730779886, 0.007972806692123413, 0.0014588526682928205, 0.008724801242351532, 0.013196238316595554, 0.18675406277179718, 0.020588606595993042, 0.7589512467384338, 0.0], [0.0007409076788462698, 0.001980105647817254, 0.0018268241547048092, 0.0010584549745544791, 0.0007322228047996759, 0.0005037549999542534, 0.0021706116385757923, 0.9909871220588684, 0.0], [0.0010217841481789947, 0.003443509805947542, 0.0016777782002463937, 0.0007391526596620679, 0.0005962117575109005, 0.0003899862931575626, 0.0007548540597781539, 0.9913767576217651, 0.0]], [[0.0060121542774140835, 0.03470943495631218, 0.23193848133087158, 0.08671754598617554, 0.03322996571660042, 0.009337066672742367, 0.008541804738342762, 0.5895135402679443, 0.0], [0.005705665796995163, 0.009945900179445744, 0.023939019069075584, 0.09284432232379913, 0.009179534390568733, 0.005841570440679789, 0.0022838665172457695, 0.8502601385116577, 0.0], [0.054814890027046204, 0.018949264660477638, 0.014622196555137634, 0.03141283988952637, 0.03000744804739952, 0.017607560381293297, 0.015835050493478775, 0.8167507648468018, 0.0], [0.1296800822019577, 0.04976026341319084, 0.021617190912365913, 0.008092284202575684, 0.005277043674141169, 0.02482682652771473, 0.03076864778995514, 0.7299776673316956, 0.0], [0.05441184714436531, 0.06395889073610306, 0.04887322708964348, 0.01659202203154564, 0.006566982716321945, 0.009286640211939812, 0.008851580321788788, 0.7914588451385498, 0.0], [0.008514062501490116, 0.03222557529807091, 0.04362667351961136, 0.03281066194176674, 0.011689250357449055, 0.0017757570603862405, 0.0025225926656275988, 0.8668354153633118, 0.0], [0.0051646362990140915, 0.0049694618210196495, 0.01963062770664692, 0.18962256610393524, 0.03930963575839996, 0.0030444979202002287, 0.004849989898502827, 0.7334085702896118, 0.0], [0.0016285170568153262, 0.0015156751032918692, 0.0014792026486247778, 0.0020141860004514456, 0.0011100999545305967, 0.0010215042857453227, 0.00022765556059312075, 0.991003155708313, 0.0], [0.0027150206733494997, 0.001889701932668686, 0.0011292484123259783, 0.002141199540346861, 0.0009368116734549403, 0.0009010192006826401, 8.549789345124736e-05, 0.9902015328407288, 0.0]], [[0.00895188469439745, 0.04460742324590683, 0.04748408496379852, 0.010906745679676533, 0.013720483519136906, 0.007145066745579243, 0.005261382553726435, 0.8619229197502136, 0.0], [0.00611963402479887, 0.02208874747157097, 0.10336878895759583, 0.020104985684156418, 0.011718721129000187, 0.0036781132221221924, 0.003489816328510642, 0.8294311761856079, 0.0], [0.010429641231894493, 0.017815925180912018, 0.016592852771282196, 0.10796312242746353, 0.029667098075151443, 0.004857373423874378, 0.001562576973810792, 0.8111113905906677, 0.0], [0.003189046634361148, 0.017550097778439522, 0.005413043312728405, 0.033888079226017, 0.07406981289386749, 0.0037460438907146454, 0.0032667499035596848, 0.8588771224021912, 0.0], [0.00261397915892303, 0.013246382586658001, 0.004652379546314478, 0.007721677888184786, 0.004100015386939049, 0.11405440419912338, 0.022284766659140587, 0.831326425075531, 0.0], [0.001263260841369629, 0.004676042590290308, 0.004041468724608421, 0.002081254031509161, 0.003965883981436491, 0.02290055900812149, 0.05741247534751892, 0.9036590456962585, 0.0], [0.0016006287187337875, 0.0077517214231193066, 0.003620399395003915, 0.0035697894636541605, 0.0020041174720972776, 0.008802534081041813, 0.030410565435886383, 0.942240297794342, 0.0], [9.402065916219726e-05, 0.0005997661501169205, 0.0006198981427587569, 0.0005338207120075822, 0.001577232382260263, 0.0006593862199224532, 9.423106530448422e-05, 0.9958215951919556, 0.0], [0.00011078262468799949, 0.0007277580443769693, 0.0005311626009643078, 0.0005981409340165555, 0.0011436592321842909, 0.00038441549986600876, 4.724535028799437e-05, 0.9964568018913269, 0.0]], [[0.018051866441965103, 0.05880121514201164, 0.0022840239107608795, 0.010625684633851051, 0.004226724151521921, 0.007549443747848272, 0.004570899996906519, 0.8938900828361511, 0.0], [0.024870537221431732, 0.01691683568060398, 0.0021137776784598827, 0.011217434890568256, 0.004535639192909002, 0.004429956432431936, 0.0016187818255275488, 0.9342970252037048, 0.0], [0.025513391941785812, 0.030749596655368805, 0.001259832875803113, 0.005546664819121361, 0.006473897956311703, 0.01019187644124031, 0.002780636539682746, 0.9174841642379761, 0.0], [0.03760826215147972, 0.0597129762172699, 0.0065558296628296375, 0.008862380869686604, 0.006541874259710312, 0.00947577878832817, 0.0018937647109851241, 0.8693491220474243, 0.0], [0.049246713519096375, 0.08659807592630386, 0.015199217014014721, 0.013783556409180164, 0.00753738172352314, 0.008973752148449421, 0.003389896359294653, 0.8152714371681213, 0.0], [0.0248151533305645, 0.04962184652686119, 0.007486495189368725, 0.014305337332189083, 0.03328818082809448, 0.01481528952717781, 0.003353360341861844, 0.8523143529891968, 0.0], [0.007160970475524664, 0.005511969327926636, 0.0009751442121341825, 0.007848663255572319, 0.03531156852841377, 0.05486467480659485, 0.0034459256567060947, 0.8848810791969299, 0.0], [0.0009220985812135041, 0.002915632212534547, 1.9390010493225418e-05, 9.257384954253212e-05, 0.0006907388451509178, 0.00045560969738289714, 1.751998752297368e-05, 0.9948864579200745, 0.0], [0.002004575217142701, 0.0035428067203611135, 1.8970556993735954e-05, 0.0001132548859459348, 0.0005540616111829877, 0.0003686817944981158, 1.0250452760374174e-05, 0.9933873414993286, 0.0]], [[0.017112018540501595, 0.05304677411913872, 0.13788099586963654, 0.0927506536245346, 0.02071424387395382, 0.004232366569340229, 0.007343914359807968, 0.6669190526008606, 0.0], [0.0026360570918768644, 0.01146620698273182, 0.03078823909163475, 0.06152646988630295, 0.06292794644832611, 0.0074205175042152405, 0.006751340348273516, 0.816483199596405, 0.0], [0.0020479061640799046, 0.004711997229605913, 0.013852420262992382, 0.0521242655813694, 0.0624389611184597, 0.013949449174106121, 0.011417201720178127, 0.8394578099250793, 0.0], [0.0017023399705067277, 0.003512568539008498, 0.004557060077786446, 0.01427021250128746, 0.006590303964912891, 0.012514717876911163, 0.01621699333190918, 0.9406358003616333, 0.0], [0.0024494563695043325, 0.0027173117268830538, 0.005147581920027733, 0.0044891866855323315, 0.0025681089609861374, 0.11201920360326767, 0.06367260217666626, 0.8069366216659546, 0.0], [0.004153799265623093, 0.0028558855410665274, 0.00358093180693686, 0.002480055671185255, 0.0054869093000888824, 0.06462759524583817, 0.05216914042830467, 0.8646456599235535, 0.0], [0.004487093538045883, 0.0026251128874719143, 0.005021009594202042, 0.006426953244954348, 0.006461180746555328, 0.009012327529489994, 0.03278952091932297, 0.9331768155097961, 0.0], [0.0007373610278591514, 0.0004514091124292463, 0.0008832865278236568, 0.0019547021947801113, 0.003172722179442644, 0.0028055948205292225, 0.001129603828303516, 0.988865315914154, 0.0], [0.00034003835753537714, 0.0003830480563919991, 0.0006494339904747903, 0.0029567682649940252, 0.005182069260627031, 0.002921153325587511, 0.0007601241813972592, 0.9868074059486389, 0.0]]], [[[0.003186788409948349, 0.036892570555210114, 0.010060626082122326, 0.0028292841743677855, 0.0009583277278579772, 0.005585988983511925, 0.003228625748306513, 0.9372577667236328, 0.0], [0.004188256803900003, 0.008911213837563992, 0.04597759619355202, 0.0076970672234892845, 0.010102340951561928, 0.0035971798934042454, 0.005163837224245071, 0.9143624305725098, 0.0], [0.006243554875254631, 0.034095101058483124, 0.009415464475750923, 0.0474386140704155, 0.004960997961461544, 0.003925647586584091, 0.0011849156580865383, 0.8927357196807861, 0.0], [0.0010237285168841481, 0.0013521815417334437, 0.00458694389089942, 0.022936787456274033, 0.11631809920072556, 0.0032419662456959486, 0.004780408926308155, 0.8457598090171814, 0.0], [0.0008587936172261834, 0.001905351411551237, 0.0004821523034479469, 0.004824039060622454, 0.001634944579564035, 0.09207924455404282, 0.019755078479647636, 0.8784604072570801, 0.0], [0.0017825075192376971, 0.0015749915037304163, 0.0012061485322192311, 0.0014681837055832148, 0.003798970952630043, 0.014131300151348114, 0.030060989782214165, 0.9459769129753113, 0.0], [0.00042052133358083665, 0.006728969980031252, 0.002467498416081071, 0.00909580010920763, 0.0021611012052744627, 0.016901034861803055, 0.02171916514635086, 0.940505862236023, 0.0], [0.00038850156124681234, 0.0014595250831916928, 0.0016744154272601008, 0.002485115546733141, 0.0036067089531570673, 0.005530701018869877, 0.0013393720146268606, 0.9835156798362732, 0.0], [0.0003606799291446805, 0.00159754219930619, 0.0019215871579945087, 0.003503981977701187, 0.003686644369736314, 0.003893329994753003, 0.0008832854218780994, 0.9841529726982117, 0.0]], [[0.005228152498602867, 0.1361849308013916, 0.11187390238046646, 0.016653895378112793, 0.00215670233592391, 0.0010222616838291287, 0.0030963888857513666, 0.7237837314605713, 0.0], [0.011492905206978321, 0.010959094390273094, 0.2582955062389374, 0.039925772696733475, 0.00105767953209579, 0.00046844742610119283, 0.006214374676346779, 0.671586275100708, 0.0], [0.0002244719216832891, 0.000793932587839663, 0.005041064228862524, 0.04452488198876381, 0.05515601113438606, 0.007587000727653503, 0.00022551858273800462, 0.8864471316337585, 0.0], [0.007158811204135418, 0.00698497612029314, 0.0011525166919454932, 0.011823981069028378, 0.02953956089913845, 0.032593127340078354, 0.007373676169663668, 0.9033733010292053, 0.0], [0.00033146722125820816, 0.001318805618211627, 0.0029574711807072163, 0.015056874603033066, 0.002487740246579051, 0.02799414098262787, 0.05336415395140648, 0.8964893817901611, 0.0], [0.00016035033331718296, 0.0005833899485878646, 0.001185532775707543, 0.007951365783810616, 0.0019201949471607804, 0.016437280923128128, 0.020572442561388016, 0.951189398765564, 0.0], [0.0003836634859908372, 0.0014829087303951383, 0.0010120754595845938, 0.0205365102738142, 0.0066194795072078705, 0.021655334159731865, 0.005151589401066303, 0.9431584477424622, 0.0], [0.0004872475692536682, 0.00077938346657902, 0.003440744709223509, 0.0020488109439611435, 0.001309092971496284, 0.003571246052160859, 0.002864920301362872, 0.9854985475540161, 0.0], [0.0004988135187886655, 0.001094343839213252, 0.004152563866227865, 0.003267892636358738, 0.001860080286860466, 0.003455531317740679, 0.0021446787286549807, 0.9835260510444641, 0.0]], [[0.007477750536054373, 0.0029770575929433107, 0.0005896291695535183, 0.0058269198052585125, 0.04159102961421013, 0.032324209809303284, 0.002178959548473358, 0.9070343971252441, 0.0], [0.13347508013248444, 0.0030968368519097567, 0.017080511897802353, 0.0026611958164721727, 0.013725810684263706, 0.01524274330586195, 0.004080136306583881, 0.8106377124786377, 0.0], [0.0044901748187839985, 0.07776964455842972, 0.015520951710641384, 0.002091222908347845, 0.002171364612877369, 0.0038113868795335293, 0.00901435874402523, 0.8851309418678284, 0.0], [0.0024700129870325327, 0.014801278710365295, 0.0992608368396759, 0.005215132609009743, 0.00386175699532032, 0.001744952634908259, 0.011194583028554916, 0.8614515066146851, 0.0], [0.0018640904454514384, 0.011502929963171482, 0.007986648939549923, 0.03726733475923538, 0.011124461889266968, 0.0008927599410526454, 0.0015029213391244411, 0.9278588891029358, 0.0], [0.0019031902775168419, 0.003931587096303701, 0.004013432189822197, 0.0817631185054779, 0.059135034680366516, 0.0023056918289512396, 0.015350609086453915, 0.8315973877906799, 0.0], [0.004110276699066162, 0.0034508949611335993, 0.0003582548233680427, 0.007088333833962679, 0.0010530102299526334, 0.022479191422462463, 0.013827592134475708, 0.9476324319839478, 0.0], [0.0016450544353574514, 0.0028980320785194635, 0.001983274705708027, 0.0036308220587670803, 0.004451661370694637, 0.0029675548430532217, 0.007477922830730677, 0.9749456644058228, 0.0], [0.002554085338488221, 0.004877664148807526, 0.0022533093579113483, 0.002595240715891123, 0.002989606000483036, 0.0021239020861685276, 0.005031393840909004, 0.9775747656822205, 0.0]], [[0.004254018422216177, 0.008752894587814808, 0.01780288852751255, 0.34858009219169617, 0.01569545269012451, 0.005402722395956516, 0.0034851841628551483, 0.5960267186164856, 0.0], [0.010570555925369263, 0.0036665955558419228, 0.0006243356037884951, 0.25940629839897156, 0.009075140580534935, 0.0045657092705369, 0.005472681485116482, 0.7066187262535095, 0.0], [0.008295931853353977, 0.0026287741493433714, 0.01017791498452425, 0.013954086229205132, 0.08515267074108124, 0.01728728413581848, 0.0019380951998755336, 0.8605653047561646, 0.0], [0.00829373300075531, 0.011891468428075314, 0.006057781632989645, 0.0365658737719059, 0.048259370028972626, 0.02324850857257843, 0.004761225543916225, 0.8609220385551453, 0.0], [0.002061922335997224, 0.004022172186523676, 0.039738304913043976, 0.07087325304746628, 0.008001070469617844, 0.015905989333987236, 0.0011878269724547863, 0.858209490776062, 0.0], [0.001558387652039528, 0.004753683693706989, 0.033266931772232056, 0.007162371184676886, 0.006967068184167147, 0.010969353839755058, 0.0022679767571389675, 0.9330542087554932, 0.0], [0.0017683511832728982, 0.012174923904240131, 0.054354362189769745, 0.003405606606975198, 0.005236709024757147, 0.00906545389443636, 0.013100366108119488, 0.9008942246437073, 0.0], [0.000927979126572609, 0.0011387700214982033, 0.00391114316880703, 0.003149690106511116, 0.004067228641360998, 0.0022455479484051466, 0.0022786338813602924, 0.982280969619751, 0.0], [0.0013457160675898194, 0.0016176732024177909, 0.004171968437731266, 0.0036608469672501087, 0.004376446362584829, 0.0024377256631851196, 0.0018554046982899308, 0.9805342555046082, 0.0]], [[0.0007862363127060235, 0.0029869896825402975, 0.0872754231095314, 0.024476639926433563, 0.14371582865715027, 0.03331242874264717, 0.004330527503043413, 0.7031158208847046, 0.0], [0.0019989970605820417, 0.001928458921611309, 0.0030962491873651743, 0.027640026062726974, 0.16747553646564484, 0.036551930010318756, 0.001294631976634264, 0.7600141763687134, 0.0], [0.031010989099740982, 0.004461595322936773, 0.0018238704651594162, 0.002470047678798437, 0.06238371506333351, 0.06285615265369415, 0.008147843182086945, 0.8268457651138306, 0.0], [0.043937359005212784, 0.010891444981098175, 0.006901928689330816, 0.004291991703212261, 0.007093663327395916, 0.007129710633307695, 0.03642788529396057, 0.88332599401474, 0.0], [0.022934069857001305, 0.026426661759614944, 0.006451200693845749, 0.005432714708149433, 0.009967607446014881, 0.0064195385202765465, 0.031489718705415726, 0.8908784985542297, 0.0], [0.00347073283046484, 0.010984309017658234, 0.015166299417614937, 0.0070826211012899876, 0.011180181987583637, 0.0011076214723289013, 0.007113366853445768, 0.9438948631286621, 0.0], [0.0020811092108488083, 0.005873112473636866, 0.0207986943423748, 0.08743854612112045, 0.046911150217056274, 0.004966413136571646, 0.005328231491148472, 0.8266027569770813, 0.0], [0.0009997572051361203, 0.0014943606220185757, 0.0025569729041308165, 0.0017372206784784794, 0.0036501516588032246, 0.0029347629752010107, 0.0019002804765477777, 0.9847264885902405, 0.0], [0.001642404356971383, 0.0015885955654084682, 0.0019495832966640592, 0.001666249125264585, 0.004901716951280832, 0.00445509934797883, 0.001407918520271778, 0.982388436794281, 0.0]], [[0.023948634043335915, 0.020517567172646523, 0.036271266639232635, 0.0019089998677372932, 0.00050112244207412, 0.0037895257119089365, 0.0036702854558825493, 0.9093925356864929, 0.0], [0.0030976375564932823, 0.011381040327250957, 0.09431449323892593, 0.013016038574278355, 0.0028985305689275265, 0.0017787371762096882, 0.0014820406213402748, 0.8720315098762512, 0.0], [0.0002818696666508913, 0.0018113225232809782, 0.01572815328836441, 0.06370115280151367, 0.004125918261706829, 0.0008529514889232814, 0.0002708574465941638, 0.9132277965545654, 0.0], [0.0006398589466698468, 0.007733549457043409, 0.002531697740778327, 0.012516168877482414, 0.09752453863620758, 0.007060233969241381, 0.003304459387436509, 0.8686895370483398, 0.0], [0.002190385479480028, 0.009191356599330902, 0.00240365881472826, 0.0031613733153790236, 0.0054250857792794704, 0.05646544322371483, 0.019573483616113663, 0.9015892148017883, 0.0], [0.0012525608763098717, 0.005809382069855928, 0.0029424994718283415, 0.0012694448232650757, 0.0017533950740471482, 0.013496621511876583, 0.04637760668992996, 0.9270985126495361, 0.0], [0.001670579775236547, 0.00776183744892478, 0.003149664495140314, 0.011232794262468815, 0.0024582515470683575, 0.011300420388579369, 0.019453037530183792, 0.9429734349250793, 0.0], [0.0014890186721459031, 0.0014057738007977605, 0.002103641163557768, 0.002482811687514186, 0.0025076274760067463, 0.008520873263478279, 0.002172403736039996, 0.9793179035186768, 0.0], [0.0010437146993353963, 0.0016038407338783145, 0.002683004131540656, 0.003519786987453699, 0.002532042097300291, 0.00570638244971633, 0.0012263484532013535, 0.9816848635673523, 0.0]], [[0.0017624078318476677, 0.0007659168331883848, 0.00034354208037257195, 0.0014296886511147022, 0.015817582607269287, 0.1384255439043045, 0.014456291683018208, 0.8269990086555481, 0.0], [0.008187215775251389, 0.00308111310005188, 0.0017422224627807736, 0.00032805034425109625, 0.0051678321324288845, 0.019071709364652634, 0.02018454484641552, 0.9422373175621033, 0.0], [0.07224909216165543, 0.006870804354548454, 0.0024942795280367136, 0.0011500584660097957, 0.005658417008817196, 0.024394210427999496, 0.009615300223231316, 0.8775678873062134, 0.0], [0.008971760049462318, 0.3376547694206238, 0.016451947391033173, 0.005838651210069656, 0.002905030967667699, 0.004374953918159008, 0.003996378276497126, 0.6198064684867859, 0.0], [0.0031626864802092314, 0.06343508511781693, 0.049091074615716934, 0.01605343632400036, 0.006066279951483011, 0.0008554932428523898, 0.0024574915878474712, 0.8588784337043762, 0.0], [0.0007104827091097832, 0.008148289285600185, 0.019351636990904808, 0.06236962601542473, 0.05104810371994972, 0.0017720845062285662, 0.0006414502859115601, 0.8559582829475403, 0.0], [0.0023086462169885635, 0.0008434579358436167, 0.0015716252382844687, 0.03839545696973801, 0.029349617660045624, 0.0012919394066557288, 0.005364477634429932, 0.9208747148513794, 0.0], [0.0012956386199221015, 0.0023398755583912134, 0.004405187908560038, 0.005204557906836271, 0.004162191413342953, 0.007530259899795055, 0.0068114688619971275, 0.9682508707046509, 0.0], [0.002400183118879795, 0.002638538833707571, 0.002614861587062478, 0.002803768264129758, 0.003056599060073495, 0.007638178765773773, 0.004951728042215109, 0.9738962054252625, 0.0]], [[0.0031581928487867117, 0.03096727654337883, 0.08199451863765717, 0.012122574262320995, 0.00680722389370203, 0.00149885518476367, 0.0034372685477137566, 0.8600141406059265, 0.0], [0.032845642417669296, 0.021923620253801346, 0.025246787816286087, 0.07848803699016571, 0.007110820151865482, 0.0014505076687783003, 0.012456501834094524, 0.820478081703186, 0.0], [0.006587850395590067, 0.07438444346189499, 0.026085536926984787, 0.037373147904872894, 0.0326877161860466, 0.0018143882043659687, 0.007448336109519005, 0.8136186003684998, 0.0], [0.004311867989599705, 0.028155632317066193, 0.049670279026031494, 0.006918435450643301, 0.026128409430384636, 0.0071761468425393105, 0.008180631324648857, 0.8694586157798767, 0.0], [0.0020789052359759808, 0.0034661805257201195, 0.020325196906924248, 0.03360309079289436, 0.010999207384884357, 0.012278539128601551, 0.022355906665325165, 0.8948929905891418, 0.0], [0.0018688717391341925, 0.004002667963504791, 0.017589319497346878, 0.03975309431552887, 0.01497986726462841, 0.012599688023328781, 0.0566583126783371, 0.8525481224060059, 0.0], [0.0005258013843558729, 0.003815634874626994, 0.004632193595170975, 0.013878596015274525, 0.011378380469977856, 0.023866944015026093, 0.018647314980626106, 0.923255205154419, 0.0], [0.0002931338094640523, 0.001210918533615768, 0.0018497761338949203, 0.0016365026822313666, 0.004975282587110996, 0.004846899304538965, 0.0007889646803960204, 0.9843984842300415, 0.0], [0.0005006667342968285, 0.0023338133469223976, 0.002385542495176196, 0.0025542599614709616, 0.005595212336629629, 0.004305059555917978, 0.0005785728571936488, 0.9817469120025635, 0.0]]], [[[0.0008506698068231344, 0.0011329739354550838, 0.023489423096179962, 0.01550225354731083, 0.17097073793411255, 0.07219935208559036, 0.01420250441879034, 0.7016521096229553, 0.0], [0.018239470198750496, 0.009755274280905724, 0.001129164476878941, 0.0010362225584685802, 0.0353432334959507, 0.0351383239030838, 0.0055745067074894905, 0.8937838077545166, 0.0], [0.024163085967302322, 0.009306149557232857, 0.0018027937039732933, 0.0025412729009985924, 0.00800496619194746, 0.007723833434283733, 0.0052631692960858345, 0.9411947131156921, 0.0], [0.004700732883065939, 0.07014200091362, 0.0070573086850345135, 0.007428580429404974, 0.0015890586655586958, 0.007027174346148968, 0.0021375485230237246, 0.8999176025390625, 0.0], [0.0019508089171722531, 0.01784490793943405, 0.06862114369869232, 0.0038811862468719482, 0.004274424165487289, 0.0037276912480592728, 0.00255278660915792, 0.8971471190452576, 0.0], [0.0004493740270845592, 0.0040292595513165, 0.055669721215963364, 0.02632118947803974, 0.013092797249555588, 0.003927771933376789, 0.0004823997733183205, 0.8960274457931519, 0.0], [0.0016807923093438148, 0.000738729489967227, 0.003041512332856655, 0.010329702869057655, 0.05362056940793991, 0.008840356022119522, 0.001785983913578093, 0.9199624061584473, 0.0], [0.0019813752733170986, 0.006882311776280403, 0.013828305527567863, 0.028329286724328995, 0.026583490893244743, 0.06745139509439468, 0.058747097849845886, 0.7961967587471008, 0.0], [0.002880778396502137, 0.008243164978921413, 0.011346470564603806, 0.020561426877975464, 0.022498754784464836, 0.06735029071569443, 0.050124820321798325, 0.8169942498207092, 0.0]], [[0.012281648814678192, 0.0022912505082786083, 0.0022035434376448393, 0.004497222136706114, 0.0071899304166436195, 0.00853243749588728, 0.003490887116640806, 0.9595130681991577, 0.0], [0.03508936986327171, 0.00866522267460823, 0.0038268323987722397, 0.002623193198814988, 0.0023250989615917206, 0.004074957221746445, 0.001921825110912323, 0.9414734840393066, 0.0], [0.004367183893918991, 0.06925760954618454, 0.018933968618512154, 0.0028486824594438076, 0.0013465119991451502, 0.005316099617630243, 0.0016431892290711403, 0.8962867856025696, 0.0], [0.0007391489343717694, 0.006621106062084436, 0.08986443281173706, 0.005992822349071503, 0.0029306302312761545, 0.0032463199459016323, 0.001785406144335866, 0.8888201117515564, 0.0], [0.000521295121870935, 0.00048540468560531735, 0.007929032668471336, 0.06561659276485443, 0.02496901899576187, 0.0024419287219643593, 0.00017536622181069106, 0.8978613615036011, 0.0], [0.000875726924277842, 0.0007747590425424278, 0.0022448915988206863, 0.047569721937179565, 0.10108459740877151, 0.04253849387168884, 0.001781019032932818, 0.8031308054924011, 0.0], [0.0028153674211353064, 0.001382351852953434, 0.0015741655370220542, 0.003913215361535549, 0.014019056223332882, 0.08067702502012253, 0.003901295131072402, 0.8917175531387329, 0.0], [0.0028002073522657156, 0.004542256239801645, 0.00784138310700655, 0.016302645206451416, 0.02661987394094467, 0.026589402928948402, 0.04683668538928032, 0.8684675693511963, 0.0], [0.002931764116510749, 0.005652991123497486, 0.008892267011106014, 0.013767726719379425, 0.018955204635858536, 0.02128850668668747, 0.041042789816856384, 0.8874688148498535, 0.0]], [[0.004581324756145477, 0.12613792717456818, 0.00294662406668067, 0.0026186632458120584, 0.002682723104953766, 0.020627200603485107, 0.0020152840297669172, 0.8383902907371521, 0.0], [0.02500852197408676, 0.027473201975226402, 0.003829685039818287, 0.011745364405214787, 0.003897956106811762, 0.008539272472262383, 0.003102218033745885, 0.9164037704467773, 0.0], [0.0017276236321777105, 0.027671800926327705, 0.0031020892783999443, 0.01735294982790947, 0.03338031470775604, 0.022360602393746376, 0.0043853698298335075, 0.8900192975997925, 0.0], [0.006960023660212755, 0.005948547273874283, 0.1446506530046463, 0.009664482437074184, 0.00913057941943407, 0.005610383581370115, 0.01519460417330265, 0.8028407096862793, 0.0], [0.005041789263486862, 0.001899749506264925, 0.010768316686153412, 0.029551919549703598, 0.013984976336359978, 0.0037225736305117607, 0.004211849067360163, 0.9308187961578369, 0.0], [0.005782315973192453, 0.0011200105072930455, 0.009245478548109531, 0.010090814903378487, 0.0062392279505729675, 0.03153769299387932, 0.004731179215013981, 0.9312532544136047, 0.0], [0.001206728513352573, 0.0012005981989204884, 0.0020449759904295206, 0.017953962087631226, 0.006853715516626835, 0.033884450793266296, 0.005045325495302677, 0.9318102598190308, 0.0], [0.0009111863910220563, 0.003360150847584009, 0.008074061945080757, 0.005136171355843544, 0.014567745849490166, 0.016446685418486595, 0.04502084478735924, 0.9064831733703613, 0.0], [0.001184447668492794, 0.004178663715720177, 0.008552290499210358, 0.005777152255177498, 0.01493842713534832, 0.015205332078039646, 0.03739597275853157, 0.9127677083015442, 0.0]], [[0.01770210824906826, 0.010923290625214577, 0.02029573917388916, 0.00733494246378541, 0.0053146006539464, 0.015606892295181751, 0.0010223517892882228, 0.9218000173568726, 0.0], [0.056281398981809616, 0.020106859505176544, 0.014225886203348637, 0.0009837470715865493, 0.005264416337013245, 0.03652631863951683, 0.004898508079349995, 0.8617129325866699, 0.0], [0.004348778631538153, 0.036803778260946274, 0.015015317127108574, 0.0035097533836960793, 0.001005117199383676, 0.01341981440782547, 0.005898496601730585, 0.9199988842010498, 0.0], [0.0027146944776177406, 0.024987922981381416, 0.093856580555439, 0.021271012723445892, 0.005042404402047396, 0.001606063568033278, 0.006648255977779627, 0.8438730835914612, 0.0], [0.0003920441085938364, 0.005355090368539095, 0.004794909618794918, 0.08552898466587067, 0.007760019972920418, 0.0004840593028347939, 0.001227914821356535, 0.8944570422172546, 0.0], [0.001368206343613565, 0.004585097078233957, 0.0015043002786114812, 0.0315120667219162, 0.03275959938764572, 0.00043484268826432526, 0.010777532123029232, 0.9170583486557007, 0.0], [0.0013690852792933583, 0.00241620815359056, 0.0011443380499258637, 0.004852958954870701, 0.000477234018035233, 0.03341727331280708, 0.017316345125436783, 0.9390066266059875, 0.0], [0.0051290192641317844, 0.004449767526239157, 0.005414607468992472, 0.018320167437195778, 0.024361591786146164, 0.0360410213470459, 0.07263316959142685, 0.8336506485939026, 0.0], [0.006014357786625624, 0.00695784343406558, 0.006649387534707785, 0.016134729608893394, 0.017697034403681755, 0.028485501185059547, 0.05554075166583061, 0.8625203967094421, 0.0]], [[0.0016996609047055244, 0.0019434622954577208, 0.35561978816986084, 0.03138386830687523, 0.015983816236257553, 0.013849765993654728, 0.0035435918252915144, 0.5759760737419128, 0.0], [0.004363602492958307, 0.0040495553985238075, 0.10861650854349136, 0.046238213777542114, 0.002656542230397463, 0.004805206786841154, 0.0016766246408224106, 0.8275937438011169, 0.0], [0.005790183320641518, 0.04661617800593376, 0.007392202038317919, 0.01262971106916666, 0.02075384184718132, 0.0038887541741132736, 0.002291574841365218, 0.9006375074386597, 0.0], [0.0015581599436700344, 0.0030569497030228376, 0.006484298035502434, 0.006105901673436165, 0.1495896279811859, 0.048137929290533066, 0.009126214310526848, 0.7759408950805664, 0.0], [0.0006015867693349719, 0.006108028814196587, 0.000483636133139953, 0.007527081295847893, 0.0019734168890863657, 0.007904195226728916, 0.02028949186205864, 0.9551125168800354, 0.0], [0.0009071202366612852, 0.005132121033966541, 0.00681684585288167, 0.002936597215011716, 0.0025158573407679796, 0.010071014054119587, 0.01244634110480547, 0.9591741561889648, 0.0], [0.00037029964732937515, 0.005834474228322506, 0.015874462202191353, 0.0036911058705300093, 0.00549143273383379, 0.008320027031004429, 0.004626472946256399, 0.955791711807251, 0.0], [0.0011582920560613275, 0.0019029596587643027, 0.0591241829097271, 0.009343788959085941, 0.012927006930112839, 0.012022173032164574, 0.0026317064184695482, 0.9008898735046387, 0.0], [0.0013201874680817127, 0.0023867464624345303, 0.05726979300379753, 0.010705207474529743, 0.013878454454243183, 0.010691545903682709, 0.002319617895409465, 0.9014285206794739, 0.0]], [[0.019365275278687477, 0.016895394772291183, 0.027311500161886215, 0.04714837670326233, 0.07083503901958466, 0.01632506586611271, 0.008688290603458881, 0.7934311032295227, 0.0], [0.002474494744092226, 0.001150199444964528, 0.0026859412901103497, 0.011430659331381321, 0.10446725785732269, 0.03545284643769264, 0.0026195324026048183, 0.8397190570831299, 0.0], [0.0002119302371283993, 0.003521896433085203, 0.004358471836894751, 0.02802967093884945, 0.21768370270729065, 0.03508428484201431, 0.0037323704455047846, 0.7073776721954346, 0.0], [0.0021945973858237267, 0.008064942434430122, 0.017567988485097885, 0.006847723387181759, 0.003920614719390869, 0.1277073472738266, 0.0008100110571831465, 0.8328867554664612, 0.0], [0.0007426560623571277, 0.0047693559899926186, 0.07879394292831421, 0.0031879812013357878, 0.00225341715849936, 0.007290002424269915, 0.007741458714008331, 0.8952211737632751, 0.0], [0.0007999096997082233, 0.0018256829353049397, 0.10726196318864822, 0.04676729068160057, 0.0016383775509893894, 0.000983471400104463, 0.005290628876537085, 0.8354327082633972, 0.0], [0.0010451702401041985, 0.0018312877509742975, 0.045664556324481964, 0.010910509154200554, 0.010091192089021206, 0.027215996757149696, 0.0011063411366194487, 0.902134895324707, 0.0], [0.0020012182649224997, 0.0031067728996276855, 0.06546882539987564, 0.004990965127944946, 0.024111725389957428, 0.017885785549879074, 0.0073988293297588825, 0.87503582239151, 0.0], [0.0021672777365893126, 0.003254223382100463, 0.061345357447862625, 0.0057940431870520115, 0.025485603138804436, 0.018202777951955795, 0.0074530234560370445, 0.8762977123260498, 0.0]], [[0.023091323673725128, 0.22228990495204926, 0.006662648171186447, 0.0024807441513985395, 0.001983844907954335, 0.007565886247903109, 0.00634255213662982, 0.7295830845832825, 0.0], [0.001944696414284408, 0.0359448567032814, 0.024464253336191177, 0.011700214818120003, 0.0018890248611569405, 0.003711891593411565, 0.0029909030999988317, 0.9173542261123657, 0.0], [0.001645462354645133, 0.0022644030395895243, 0.027077283710241318, 0.04440569505095482, 0.005082306452095509, 0.0018503527389839292, 0.002971859648823738, 0.9147026538848877, 0.0], [0.001384506467729807, 0.0035213083028793335, 0.0017211969243362546, 0.008232471533119678, 0.12066930532455444, 0.004350512754172087, 0.002305235480889678, 0.8578154444694519, 0.0], [0.002621055580675602, 0.0072127715684473515, 0.000503113551530987, 0.004929565824568272, 0.000883726344909519, 0.08210552483797073, 0.010621837340295315, 0.8911223411560059, 0.0], [0.0016358632128685713, 0.0053886426612734795, 0.0012456871336326003, 0.0030842020642012358, 0.003736772807314992, 0.051506273448467255, 0.0372139997780323, 0.8961885571479797, 0.0], [0.0008399650687351823, 0.007574938703328371, 0.0012246901169419289, 0.00459875725209713, 0.0011929844040423632, 0.021797627210617065, 0.014963548630475998, 0.9478074908256531, 0.0], [0.007471340708434582, 0.014363851398229599, 0.006361626088619232, 0.008518433198332787, 0.009753260761499405, 0.011707077734172344, 0.006503751967102289, 0.9353206157684326, 0.0], [0.006408926099538803, 0.013959215022623539, 0.007129166275262833, 0.010844948701560497, 0.009923888370394707, 0.00961233489215374, 0.004591869655996561, 0.9375296235084534, 0.0]], [[0.0016985193360596895, 0.0030564849730581045, 0.0002465462312102318, 0.02317311055958271, 0.11663960665464401, 0.23702694475650787, 0.0018489257199689746, 0.6163098216056824, 0.0], [0.014558079652488232, 0.00211280956864357, 0.003979073371738195, 0.053119294345378876, 0.018300145864486694, 0.05923920124769211, 0.0045631201937794685, 0.8441282510757446, 0.0], [0.005667717661708593, 0.3480970561504364, 0.008694279938936234, 0.001864725025370717, 0.04214935749769211, 0.020625650882720947, 0.0018040230497717857, 0.571097195148468, 0.0], [0.005488522816449404, 0.08465483039617538, 0.004714781418442726, 0.004605748225003481, 0.01606597751379013, 0.002027307404205203, 0.0020549187902361155, 0.8803879022598267, 0.0], [0.00040799801354296505, 0.0012463058810681105, 0.014995339326560497, 0.04966631159186363, 0.0030164113268256187, 0.0018139921594411135, 0.00908567849546671, 0.9197680354118347, 0.0], [5.624017649097368e-05, 0.0012831996427848935, 0.01783084124326706, 0.04819101095199585, 0.006102078594267368, 0.0026627732440829277, 0.013799275271594524, 0.9100745916366577, 0.0], [0.0031807872001081705, 0.0019146651029586792, 0.0041815186850726604, 0.005233579780906439, 0.008461741730570793, 0.008139308542013168, 0.003124426119029522, 0.9657639265060425, 0.0], [0.0009385272278450429, 0.004246573429554701, 0.007023381069302559, 0.00921771489083767, 0.007765619084239006, 0.016345951706171036, 0.022226965054869652, 0.9322352409362793, 0.0], [0.00109983014408499, 0.005100766196846962, 0.006941717583686113, 0.009381933137774467, 0.007898548617959023, 0.015505152754485607, 0.019000086933374405, 0.9350719451904297, 0.0]]]], \"left_text\": [\"Q\", \"K\", \"L\", \"V\", \"F\", \"F\", \"A\", \"<eos>\", \"<pad>\"], \"right_text\": [\"Q\", \"K\", \"L\", \"V\", \"F\", \"F\", \"A\", \"<eos>\", \"<pad>\"]}, {\"name\": \"Decoder\", \"attn\": [[[[1.0, 0.0, 0.0, 0.0, 0.0, 0.0, 0.0, 0.0], [0.0, 1.0, 0.0, 0.0, 0.0, 0.0, 0.0, 0.0], [0.0, 2.4808567277401167e-22, 1.0, 0.0, 0.0, 0.0, 0.0, 0.0], [0.0, 7.6662130441983865e-31, 1.0, 6.766070127948335e-19, 0.0, 0.0, 0.0, 0.0], [0.0, 0.0, 0.0, 6.117858900472503e-40, 1.0, 0.0, 0.0, 0.0], [0.0, 0.0, 0.0, 0.0, 1.0, 7.006492321624085e-45, 0.0, 0.0], [0.0, 0.0, 0.0, 0.0, 0.0, 0.0, 1.0, 0.0], [0.0, 0.0, 0.0, 0.0, 0.0, 0.0, 1.0, 0.0]], [[1.0, 0.0, 0.0, 0.0, 0.0, 0.0, 0.0, 0.0], [1.0, 0.0, 0.0, 0.0, 0.0, 0.0, 0.0, 0.0], [0.0, 1.0, 1.984336200698609e-36, 0.0, 0.0, 0.0, 0.0, 0.0], [0.0, 0.0, 1.0, 1.375071251072834e-35, 0.0, 0.0, 0.0, 0.0], [0.0, 0.0, 0.0, 1.0, 0.0, 0.0, 0.0, 0.0], [0.0, 0.0, 0.0, 0.0, 1.0, 0.0, 0.0, 0.0], [0.0, 0.0, 0.0, 0.0, 0.0, 1.0, 0.0, 0.0], [0.0, 0.0, 0.0, 0.0, 0.0, 0.0, 1.0, 0.0]], [[1.0, 0.0, 0.0, 0.0, 0.0, 0.0, 0.0, 0.0], [0.9576599597930908, 0.04234006628394127, 0.0, 0.0, 0.0, 0.0, 0.0, 0.0], [0.06292805820703506, 0.9161285758018494, 0.02094339393079281, 0.0, 0.0, 0.0, 0.0, 0.0], [0.022362256422638893, 0.07536663860082626, 0.8595830202102661, 0.04268806055188179, 0.0, 0.0, 0.0, 0.0], [0.03619980812072754, 0.0006220238865353167, 0.050911348313093185, 0.8318561315536499, 0.0804106742143631, 0.0, 0.0, 0.0], [0.006565080024302006, 3.5507378015608992e-06, 0.00040662908577360213, 0.05739247798919678, 0.8983779549598694, 0.03725425526499748, 0.0, 0.0], [0.008374590426683426, 9.218956051881833e-07, 2.431643451927812e-06, 0.0006316931103356183, 0.11973530799150467, 0.7439307570457458, 0.12732426822185516, 0.0], [0.015400848351418972, 6.70945428282721e-06, 1.1482584341138136e-06, 1.60190143105865e-06, 0.0009400022099725902, 0.05635923519730568, 0.7885937690734863, 0.13869670033454895]], [[1.0, 0.0, 0.0, 0.0, 0.0, 0.0, 0.0, 0.0], [1.0, 0.0, 0.0, 0.0, 0.0, 0.0, 0.0, 0.0], [0.0, 0.0, 1.0, 0.0, 0.0, 0.0, 0.0, 0.0], [0.0, 0.0, 0.0, 1.0, 0.0, 0.0, 0.0, 0.0], [0.0, 0.0, 0.0, 1.0, 0.0, 0.0, 0.0, 0.0], [0.0, 0.0, 0.0, 0.0, 0.0, 1.0, 0.0, 0.0], [0.0, 0.0, 0.0, 0.0, 0.0, 0.0, 1.0, 0.0], [0.0, 0.0, 0.0, 0.0, 0.0, 0.0, 0.0, 1.0]], [[1.0, 0.0, 0.0, 0.0, 0.0, 0.0, 0.0, 0.0], [0.9997527003288269, 0.0002473281347192824, 0.0, 0.0, 0.0, 0.0, 0.0, 0.0], [0.9308361411094666, 0.06909788399934769, 6.595009472221136e-05, 0.0, 0.0, 0.0, 0.0, 0.0], [0.05297974869608879, 0.8959234356880188, 0.05076735466718674, 0.00032953190384432673, 0.0, 0.0, 0.0, 0.0], [3.8836376916151494e-05, 0.02384207770228386, 0.9474923014640808, 0.028622213751077652, 4.60886258224491e-06, 0.0, 0.0, 0.0], [6.184214806914667e-10, 5.600327881438716e-07, 0.085454560816288, 0.9063146114349365, 0.008230148814618587, 1.2680149552579678e-07, 0.0, 0.0], [2.2658811281516053e-17, 6.56984164878853e-16, 1.0523214299951178e-08, 0.0023879683576524258, 0.9947401881217957, 0.0028718337416648865, 5.151398418945519e-09, 0.0], [8.717194958836039e-27, 2.271103390519077e-27, 1.880822855801702e-19, 1.8141263491422421e-10, 0.011424675583839417, 0.9873712062835693, 0.0012041290756314993, 1.739013794077593e-10]], [[1.0, 0.0, 0.0, 0.0, 0.0, 0.0, 0.0, 0.0], [1.0, 1.622440177576845e-39, 0.0, 0.0, 0.0, 0.0, 0.0, 0.0], [5.038124706586168e-32, 1.0, 3.640969883001691e-18, 0.0, 0.0, 0.0, 0.0, 0.0], [0.0, 6.688804370441996e-25, 1.0, 2.9710147536610165e-11, 0.0, 0.0, 0.0, 0.0], [0.0, 0.0, 6.157068633787855e-29, 1.0, 5.203311748280142e-16, 0.0, 0.0, 0.0], [0.0, 0.0, 0.0, 1.0396461136706388e-28, 1.0, 3.3918355724502285e-29, 0.0, 0.0], [0.0, 0.0, 0.0, 0.0, 2.382440571017106e-16, 1.0, 1.3378886072350334e-21, 0.0], [0.0, 0.0, 0.0, 0.0, 0.0, 1.0591108885866394e-31, 1.0, 1.5614965193434378e-22]], [[1.0, 0.0, 0.0, 0.0, 0.0, 0.0, 0.0, 0.0], [1.0, 4.7082204951123405e-35, 0.0, 0.0, 0.0, 0.0, 0.0, 0.0], [0.0, 0.0, 1.0, 0.0, 0.0, 0.0, 0.0, 0.0], [0.0, 0.0, 1.0, 1.9648108704942548e-15, 0.0, 0.0, 0.0, 0.0], [0.0, 0.0, 4.725470181306127e-15, 1.0, 2.7337888244208524e-36, 0.0, 0.0, 0.0], [0.0, 0.0, 0.0, 0.0, 0.0, 1.0, 0.0, 0.0], [0.0, 0.0, 0.0, 0.0, 0.0, 1.0, 0.0, 0.0], [0.0, 0.0, 0.0, 0.0, 0.0, 1.0, 7.096235511019024e-37, 0.0]], [[1.0, 0.0, 0.0, 0.0, 0.0, 0.0, 0.0, 0.0], [0.21410848200321198, 0.7858915328979492, 0.0, 0.0, 0.0, 0.0, 0.0, 0.0], [0.4689193069934845, 0.09970777481794357, 0.4313729405403137, 0.0, 0.0, 0.0, 0.0, 0.0], [0.5323328971862793, 0.01518351398408413, 0.07595354318618774, 0.37653008103370667, 0.0, 0.0, 0.0, 0.0], [0.39753663539886475, 0.009755939245223999, 0.02027013711631298, 0.08431503176689148, 0.48812228441238403, 0.0, 0.0, 0.0], [0.4478354752063751, 0.011745581403374672, 0.031318549066782, 0.0764039009809494, 0.1261330097913742, 0.30656346678733826, 0.0, 0.0], [0.3947579264640808, 0.007280644029378891, 0.0260393675416708, 0.09014838188886642, 0.13195180892944336, 0.10155238956212997, 0.2482694685459137, 0.0], [0.46597805619239807, 0.010879892855882645, 0.04537464678287506, 0.07337743043899536, 0.07064435631036758, 0.02237190492451191, 0.02606780081987381, 0.2853059470653534]]], [[[1.0, 0.0, 0.0, 0.0, 0.0, 0.0, 0.0, 0.0], [0.9954795837402344, 0.00452036689966917, 0.0, 0.0, 0.0, 0.0, 0.0, 0.0], [0.8685206770896912, 0.1272745281457901, 0.004204839002341032, 0.0, 0.0, 0.0, 0.0, 0.0], [0.9564710855484009, 0.0024042457807809114, 0.005539244506508112, 0.035585470497608185, 0.0, 0.0, 0.0, 0.0], [0.530926525592804, 0.005108471494168043, 0.003434800775721669, 0.4588368833065033, 0.0016932031139731407, 0.0, 0.0, 0.0], [0.5975176095962524, 0.004432098474353552, 0.01184130646288395, 0.2483057826757431, 0.11118187755346298, 0.02672128938138485, 0.0, 0.0], [0.863976776599884, 0.001124324626289308, 0.017828861251473427, 0.08065396547317505, 0.0066911461763083935, 0.020842311903834343, 0.008882683701813221, 0.0], [0.9260956645011902, 0.0012159848120063543, 0.0013474604347720742, 0.0068190377205610275, 0.0036970132496207952, 0.00903455913066864, 0.039483144879341125, 0.012307240627706051]], [[1.0, 0.0, 0.0, 0.0, 0.0, 0.0, 0.0, 0.0], [0.9832155108451843, 0.0167844258248806, 0.0, 0.0, 0.0, 0.0, 0.0, 0.0], [0.887950599193573, 0.10253861546516418, 0.00951081421226263, 0.0, 0.0, 0.0, 0.0, 0.0], [0.5975931286811829, 0.005497659556567669, 0.3743298053741455, 0.022579485550522804, 0.0, 0.0, 0.0, 0.0], [0.7539136409759521, 0.0040139625780284405, 0.05165145918726921, 0.16094675660133362, 0.029474202543497086, 0.0, 0.0, 0.0], [0.8679273128509521, 0.0033520665019750595, 0.04091908782720566, 0.006014244630932808, 0.0742078647017479, 0.007579417433589697, 0.0, 0.0], [0.7976328134536743, 0.005657630506902933, 0.00901593267917633, 0.005557822063565254, 0.03962235152721405, 0.1275743544101715, 0.014939147047698498, 0.0], [0.8676915168762207, 0.009465855546295643, 0.012178846634924412, 0.0012154607102274895, 0.008615928702056408, 0.06023624539375305, 0.03171415254473686, 0.008882050402462482]], [[1.0, 0.0, 0.0, 0.0, 0.0, 0.0, 0.0, 0.0], [0.98848557472229, 0.011514388024806976, 0.0, 0.0, 0.0, 0.0, 0.0, 0.0], [0.9863183498382568, 0.01340986043214798, 0.00027180943288840353, 0.0, 0.0, 0.0, 0.0, 0.0], [0.9625971913337708, 0.026961160823702812, 0.004647106863558292, 0.005794608499854803, 0.0, 0.0, 0.0, 0.0], [0.8903460502624512, 0.0019523447845131159, 0.04310280829668045, 0.05381380766630173, 0.010785086080431938, 0.0, 0.0, 0.0], [0.5473246574401855, 0.0009845226304605603, 0.09835804253816605, 0.03283839672803879, 0.31450867652893066, 0.005985720083117485, 0.0, 0.0], [0.8984814882278442, 0.0015218465123325586, 0.0038870295975357294, 0.03054271638393402, 0.05580638349056244, 0.007957663387060165, 0.0018028832273557782, 0.0], [0.6921517848968506, 0.003499633399769664, 0.0024126810021698475, 0.006111031398177147, 0.04535951465368271, 0.056460149586200714, 0.17771311104297638, 0.0162921454757452]], [[1.0, 0.0, 0.0, 0.0, 0.0, 0.0, 0.0, 0.0], [0.9977230429649353, 0.0022769428323954344, 0.0, 0.0, 0.0, 0.0, 0.0, 0.0], [0.972035825252533, 0.02198922075331211, 0.005974853411316872, 0.0, 0.0, 0.0, 0.0, 0.0], [0.7228218913078308, 0.2614792585372925, 0.008111109025776386, 0.007587746251374483, 0.0, 0.0, 0.0, 0.0], [0.5645841956138611, 0.04027730971574783, 0.35128745436668396, 0.03254340961575508, 0.011307723820209503, 0.0, 0.0, 0.0], [0.2168356478214264, 0.0005865918938070536, 0.017346665263175964, 0.009293702431023121, 0.7526464462280273, 0.0032908949069678783, 0.0, 0.0], [0.5339545011520386, 0.0010560675291344523, 0.039494194090366364, 0.12693166732788086, 0.24873961508274078, 0.04236968979239464, 0.007454313803464174, 0.0], [0.6675162315368652, 0.0030463391449302435, 0.0012854826636612415, 0.0052011157386004925, 0.1290891170501709, 0.15212814509868622, 0.03052251972258091, 0.011210997588932514]], [[1.0, 0.0, 0.0, 0.0, 0.0, 0.0, 0.0, 0.0], [0.985283613204956, 0.014716454781591892, 0.0, 0.0, 0.0, 0.0, 0.0, 0.0], [0.9070826768875122, 0.08021978288888931, 0.012697580270469189, 0.0, 0.0, 0.0, 0.0, 0.0], [0.9200254678726196, 0.002180421259254217, 0.041239552199840546, 0.03655451536178589, 0.0, 0.0, 0.0, 0.0], [0.4085419774055481, 0.004735422786325216, 0.05944196134805679, 0.5237752795219421, 0.003505342872813344, 0.0, 0.0, 0.0], [0.8290573358535767, 0.004967065062373877, 0.014803312718868256, 0.01234525628387928, 0.10045041888952255, 0.0383765734732151, 0.0, 0.0], [0.44361209869384766, 0.0022373655810952187, 0.0017636726843193173, 0.0038785261567682028, 0.021324241533875465, 0.4953858256340027, 0.03179828077554703, 0.0], [0.8879283666610718, 0.004851029720157385, 0.002216914901509881, 0.0014184352476149797, 0.00119828712195158, 0.025934472680091858, 0.0537034310400486, 0.022749051451683044]], [[1.0, 0.0, 0.0, 0.0, 0.0, 0.0, 0.0, 0.0], [0.9961942434310913, 0.0038057449273765087, 0.0, 0.0, 0.0, 0.0, 0.0, 0.0], [0.995241641998291, 0.0025646379217505455, 0.002193665597587824, 0.0, 0.0, 0.0, 0.0, 0.0], [0.9112597703933716, 0.03196783736348152, 0.05158459395170212, 0.005187915172427893, 0.0, 0.0, 0.0, 0.0], [0.8461525440216064, 0.030250461772084236, 0.0957912728190422, 0.011789998970925808, 0.01601566933095455, 0.0, 0.0, 0.0], [0.9500814080238342, 0.0017172228544950485, 0.024682261049747467, 0.004361436702311039, 0.015029539354145527, 0.004128140397369862, 0.0, 0.0], [0.8340150117874146, 0.0012906695483252406, 0.0093914195895195, 0.015805870294570923, 0.11698034405708313, 0.0196978896856308, 0.0028187762945890427, 0.0], [0.6135286688804626, 0.005919869523495436, 0.0034800274297595024, 0.0010444673243910074, 0.06321115791797638, 0.2648521065711975, 0.03898489475250244, 0.008978776633739471]], [[1.0, 0.0, 0.0, 0.0, 0.0, 0.0, 0.0, 0.0], [0.9990447163581848, 0.0009552539559081197, 0.0, 0.0, 0.0, 0.0, 0.0, 0.0], [0.9410741329193115, 0.046876292675733566, 0.012049595825374126, 0.0, 0.0, 0.0, 0.0, 0.0], [0.9174807071685791, 0.06269221752882004, 0.007826550863683224, 0.01200040802359581, 0.0, 0.0, 0.0, 0.0], [0.9681063890457153, 0.003026476362720132, 0.001524015562608838, 0.017378682270646095, 0.00996436458081007, 0.0, 0.0, 0.0], [0.9169861078262329, 0.0036538445856422186, 0.001766679808497429, 0.002049263333901763, 0.06550321727991104, 0.010040883906185627, 0.0, 0.0], [0.8951928615570068, 0.0017010485753417015, 0.0005367116536945105, 0.0005545779131352901, 0.04744870960712433, 0.00840709637850523, 0.04615897685289383, 0.0], [0.6539345979690552, 0.0051076654344797134, 0.0024528088979423046, 0.0005524962907657027, 0.0435185581445694, 0.0129695450887084, 0.2687264382839203, 0.01273795124143362]], [[1.0, 0.0, 0.0, 0.0, 0.0, 0.0, 0.0, 0.0], [0.9972641468048096, 0.00273580988869071, 0.0, 0.0, 0.0, 0.0, 0.0, 0.0], [0.9030501246452332, 0.08858274668455124, 0.008367175236344337, 0.0, 0.0, 0.0, 0.0, 0.0], [0.7198695540428162, 0.2208876758813858, 0.031268540769815445, 0.02797430381178856, 0.0, 0.0, 0.0, 0.0], [0.8811336159706116, 0.00778460968285799, 0.02645029127597809, 0.08250387012958527, 0.0021276569459587336, 0.0, 0.0, 0.0], [0.6240514516830444, 0.009715141728520393, 0.04113457724452019, 0.260613352060318, 0.027566032484173775, 0.036919474601745605, 0.0, 0.0], [0.9253389239311218, 0.001407287665642798, 0.0023896810598671436, 0.006236508022993803, 0.019141189754009247, 0.027810348197817802, 0.017676016315817833, 0.0], [0.6876187324523926, 0.0018347683362662792, 0.0021949755027890205, 0.0013173307524994016, 0.006535564549267292, 0.11224227398633957, 0.165675088763237, 0.02258121967315674]]], [[[1.0, 0.0, 0.0, 0.0, 0.0, 0.0, 0.0, 0.0], [0.9681124091148376, 0.031887561082839966, 0.0, 0.0, 0.0, 0.0, 0.0, 0.0], [0.4323963522911072, 0.5141690969467163, 0.05343452841043472, 0.0, 0.0, 0.0, 0.0, 0.0], [0.3502473533153534, 0.04555075615644455, 0.11132306605577469, 0.492878794670105, 0.0, 0.0, 0.0, 0.0], [0.21661454439163208, 0.0017206479096785188, 0.03073730692267418, 0.7282823324203491, 0.022645192220807076, 0.0, 0.0, 0.0], [0.40228986740112305, 0.00042400360689498484, 0.006410383619368076, 0.019389290362596512, 0.4863514304161072, 0.08513499796390533, 0.0, 0.0], [0.130034402012825, 0.005115948151797056, 0.0007295190589502454, 0.0007072599837556481, 0.003341452218592167, 0.858142077922821, 0.001929391990415752, 0.0], [0.005649239290505648, 0.001215368858538568, 4.674216143030208e-06, 6.437890260713175e-05, 0.0010907199466601014, 0.03177180141210556, 0.9273799657821655, 0.032823819667100906]], [[1.0, 0.0, 0.0, 0.0, 0.0, 0.0, 0.0, 0.0], [0.6403843760490417, 0.35961565375328064, 0.0, 0.0, 0.0, 0.0, 0.0, 0.0], [0.4969860017299652, 0.5021259188652039, 0.0008880876121111214, 0.0, 0.0, 0.0, 0.0, 0.0], [0.1699216365814209, 0.8196037411689758, 0.010013342835009098, 0.00046137606841512024, 0.0, 0.0, 0.0, 0.0], [0.31258898973464966, 0.006172476336359978, 0.054505929350852966, 0.044205520302057266, 0.5825271010398865, 0.0, 0.0, 0.0], [0.009562971070408821, 7.266764441737905e-05, 0.0006926184287294745, 0.0005104133160784841, 0.9886468052864075, 0.0005145034519955516, 0.0, 0.0], [0.031820155680179596, 4.5811557356501e-05, 0.023692572489380836, 0.003658534260466695, 0.9314096570014954, 0.0062866914086043835, 0.0030865499284118414, 0.0], [0.05086612328886986, 0.0008355074096471071, 0.0016507053514942527, 0.0016042989445850253, 0.10352422297000885, 0.011254973709583282, 0.4332086741924286, 0.39705541729927063]], [[1.0, 0.0, 0.0, 0.0, 0.0, 0.0, 0.0, 0.0], [0.955640435218811, 0.04435950145125389, 0.0, 0.0, 0.0, 0.0, 0.0, 0.0], [0.8828866481781006, 0.0008399512735195458, 0.11627332121133804, 0.0, 0.0, 0.0, 0.0, 0.0], [0.6371557712554932, 0.0052472567185759544, 0.19907940924167633, 0.1585175096988678, 0.0, 0.0, 0.0, 0.0], [0.20413294434547424, 0.0017274417914450169, 0.014981033280491829, 0.7403924465179443, 0.03876607120037079, 0.0, 0.0, 0.0], [0.3595886528491974, 0.00038274668622761965, 0.04907557740807533, 0.15913622081279755, 0.10539893060922623, 0.32641780376434326, 0.0, 0.0], [0.07779186964035034, 0.004352092742919922, 0.06335815042257309, 0.009638032875955105, 0.45854106545448303, 0.3812372386455536, 0.0050814710557460785, 0.0], [0.034635238349437714, 0.0016365201445296407, 0.006195686757564545, 0.0002661426260601729, 0.010906166397035122, 0.9237270951271057, 0.0014315793523564935, 0.021201474592089653]], [[1.0, 0.0, 0.0, 0.0, 0.0, 0.0, 0.0, 0.0], [0.6024919152259827, 0.39750802516937256, 0.0, 0.0, 0.0, 0.0, 0.0, 0.0], [0.013035548850893974, 0.9837051630020142, 0.003259311430156231, 0.0, 0.0, 0.0, 0.0, 0.0], [0.00386956543661654, 0.00014535017544403672, 0.9943569302558899, 0.0016280474374070764, 0.0, 0.0, 0.0, 0.0], [0.012548496015369892, 4.340104715083726e-05, 0.00038718662108294666, 0.7316657304763794, 0.25535523891448975, 0.0, 0.0, 0.0], [0.7730218768119812, 0.02181377075612545, 0.0025960328057408333, 0.05353974923491478, 0.07601815462112427, 0.07301034778356552, 0.0, 0.0], [0.006972107104957104, 7.641632691957057e-05, 0.0013853417476639152, 0.00010180863318964839, 0.002565272618085146, 0.9836795926094055, 0.00521957129240036, 0.0], [0.03742654249072075, 0.002971444744616747, 0.028737567365169525, 0.0010624643182381988, 0.0005686010117642581, 0.15433120727539062, 0.2860986292362213, 0.48880356550216675]], [[1.0, 0.0, 0.0, 0.0, 0.0, 0.0, 0.0, 0.0], [0.9962577819824219, 0.0037422834429889917, 0.0, 0.0, 0.0, 0.0, 0.0, 0.0], [0.9795815944671631, 0.01468746829777956, 0.0057308669202029705, 0.0, 0.0, 0.0, 0.0, 0.0], [0.11813420802354813, 0.7658095955848694, 0.11453383415937424, 0.0015224139206111431, 0.0, 0.0, 0.0, 0.0], [0.012266416102647781, 0.00017230641969945282, 0.9842342734336853, 0.003306064521893859, 2.0863128156634048e-05, 0.0, 0.0, 0.0], [0.12420694530010223, 0.0010989602888002992, 0.005670290905982256, 0.7176538109779358, 0.14971980452537537, 0.0016502116341143847, 0.0, 0.0], [0.07942438870668411, 0.001544214435853064, 0.02498939260840416, 0.4918038547039032, 0.20849423110485077, 0.14522486925125122, 0.048519037663936615, 0.0], [0.0012384686851873994, 0.00011414597247494385, 5.2954528655391186e-05, 0.001101010711863637, 0.14670401811599731, 0.7471590638160706, 0.1031954437494278, 0.0004349264781922102]], [[1.0, 0.0, 0.0, 0.0, 0.0, 0.0, 0.0, 0.0], [0.9773524403572083, 0.022647595033049583, 0.0, 0.0, 0.0, 0.0, 0.0, 0.0], [0.8958463072776794, 0.10247471183538437, 0.0016789590008556843, 0.0, 0.0, 0.0, 0.0, 0.0], [0.5256983041763306, 0.003683451097458601, 0.45670464634895325, 0.013913610018789768, 0.0, 0.0, 0.0, 0.0], [0.5932064056396484, 0.004751723725348711, 0.26815786957740784, 0.002800366608425975, 0.1310836225748062, 0.0, 0.0, 0.0], [0.022383123636245728, 0.0004973237519152462, 0.0003374012012500316, 0.011418147012591362, 0.9560398459434509, 0.009324113838374615, 0.0, 0.0], [0.41451790928840637, 0.0013420155737549067, 0.0033724596723914146, 0.3108028471469879, 0.19197283685207367, 0.021862709894776344, 0.05612918734550476, 0.0], [0.045264605432748795, 0.0007499123457819223, 0.0005771918222308159, 0.0016565131954848766, 0.0032013962045311928, 0.0028485606890171766, 0.9427391290664673, 0.002962671685963869]], [[1.0, 0.0, 0.0, 0.0, 0.0, 0.0, 0.0, 0.0], [0.9802496433258057, 0.019750358536839485, 0.0, 0.0, 0.0, 0.0, 0.0, 0.0], [0.11055706441402435, 0.0009111181716434658, 0.8885318636894226, 0.0, 0.0, 0.0, 0.0, 0.0], [0.17536607384681702, 0.0040614246390759945, 0.8191068768501282, 0.001465605921112001, 0.0, 0.0, 0.0, 0.0], [0.3742722272872925, 0.001931436127051711, 0.5435328483581543, 0.07128717005252838, 0.008976339362561703, 0.0, 0.0, 0.0], [0.27618518471717834, 0.0003496543213259429, 0.26894402503967285, 0.43409305810928345, 0.014905955642461777, 0.005521995481103659, 0.0, 0.0], [0.1950726956129074, 0.016175154596567154, 0.35177671909332275, 0.13488273322582245, 0.005986557807773352, 0.0600418783724308, 0.23606425523757935, 0.0], [0.2423359453678131, 0.05300241336226463, 0.03166835010051727, 0.009549224749207497, 0.015093614347279072, 0.028049645945429802, 0.012327340431511402, 0.6079734563827515]], [[1.0, 0.0, 0.0, 0.0, 0.0, 0.0, 0.0, 0.0], [0.9989461302757263, 0.0010539196664467454, 0.0, 0.0, 0.0, 0.0, 0.0, 0.0], [0.6412780284881592, 0.21360798180103302, 0.1451139897108078, 0.0, 0.0, 0.0, 0.0, 0.0], [0.8858706951141357, 0.061845600605010986, 0.03707066923379898, 0.015212999656796455, 0.0, 0.0, 0.0, 0.0], [0.26974037289619446, 0.048687465488910675, 0.06635095179080963, 0.005411750171333551, 0.6098095178604126, 0.0, 0.0, 0.0], [0.3533965051174164, 0.002262693829834461, 0.0007973330211825669, 4.1674396925373e-05, 0.5710155367851257, 0.07248624414205551, 0.0, 0.0], [0.22251184284687042, 0.007042197044938803, 0.011503325775265694, 5.133685772307217e-05, 0.5910860300064087, 0.03971325233578682, 0.12809200584888458, 0.0], [0.03950271010398865, 0.0008826337871141732, 2.614518962218426e-05, 0.0002696366864256561, 0.27313166856765747, 0.020688652992248535, 0.6619071960449219, 0.0035913693718612194]]], [[[1.0, 0.0, 0.0, 0.0, 0.0, 0.0, 0.0, 0.0], [0.9089276790618896, 0.09107238054275513, 0.0, 0.0, 0.0, 0.0, 0.0, 0.0], [0.4857313632965088, 0.47880253195762634, 0.035466112196445465, 0.0, 0.0, 0.0, 0.0, 0.0], [0.8073618412017822, 0.0391751192510128, 0.009517520666122437, 0.14394564926624298, 0.0, 0.0, 0.0, 0.0], [0.16329318284988403, 0.7691207528114319, 0.011607175692915916, 0.05585445091128349, 0.0001243119186256081, 0.0, 0.0, 0.0], [0.20379352569580078, 0.15126308798789978, 0.11076772958040237, 0.01804243214428425, 0.5042489171028137, 0.011884362436830997, 0.0, 0.0], [0.20048260688781738, 0.029325157403945923, 0.20707963407039642, 0.3416883051395416, 0.03308199718594551, 0.0902906209230423, 0.0980517715215683, 0.0], [0.4104434549808502, 0.004846959374845028, 0.0025217137299478054, 0.0010161919053643942, 0.30273720622062683, 0.00681389169767499, 0.159257709980011, 0.112362802028656]], [[1.0, 0.0, 0.0, 0.0, 0.0, 0.0, 0.0, 0.0], [0.986639142036438, 0.013360841199755669, 0.0, 0.0, 0.0, 0.0, 0.0, 0.0], [0.42400676012039185, 0.3488519489765167, 0.227141335606575, 0.0, 0.0, 0.0, 0.0, 0.0], [0.28650030493736267, 0.31444889307022095, 0.2689380943775177, 0.1301126480102539, 0.0, 0.0, 0.0, 0.0], [0.1851090043783188, 0.00027620181208476424, 0.07215064018964767, 0.02718503586947918, 0.7152791023254395, 0.0, 0.0, 0.0], [0.009038354270160198, 0.0001377876178594306, 0.006507751066237688, 0.00498571339994669, 0.9791295528411865, 0.00020084991410840303, 0.0, 0.0], [0.0033583848271518946, 0.00010557724453974515, 0.00130082864779979, 0.0011781229404732585, 0.993841290473938, 0.00015407717728521675, 6.155353912618011e-05, 0.0], [0.14035198092460632, 0.019478829577565193, 0.034490916877985, 0.007303927559405565, 0.6510661840438843, 0.05229600518941879, 0.07836751639842987, 0.016644684597849846]], [[1.0, 0.0, 0.0, 0.0, 0.0, 0.0, 0.0, 0.0], [0.9691373705863953, 0.030862586572766304, 0.0, 0.0, 0.0, 0.0, 0.0, 0.0], [0.7219007611274719, 0.11893567442893982, 0.1591636687517166, 0.0, 0.0, 0.0, 0.0, 0.0], [0.6850113272666931, 0.17324036359786987, 0.1309320479631424, 0.010816308669745922, 0.0, 0.0, 0.0, 0.0], [0.7259353995323181, 0.07367133349180222, 0.07948135584592819, 0.11449848115444183, 0.0064134844578802586, 0.0, 0.0, 0.0], [0.16698522865772247, 0.017640097066760063, 0.014365038834512234, 0.000488442019559443, 0.6433541774749756, 0.15716706216335297, 0.0, 0.0], [0.154941588640213, 0.015710437670350075, 0.6915441155433655, 0.007757248822599649, 0.014359557069838047, 0.10601917654275894, 0.009667863138020039, 0.0], [0.40327441692352295, 0.0024678283371031284, 0.010794083587825298, 0.14747917652130127, 0.03244037926197052, 0.16746991872787476, 0.12596827745437622, 0.110105961561203]], [[1.0, 0.0, 0.0, 0.0, 0.0, 0.0, 0.0, 0.0], [0.9973601698875427, 0.0026398368645459414, 0.0, 0.0, 0.0, 0.0, 0.0, 0.0], [0.9727964997291565, 0.02148710936307907, 0.0057164141908288, 0.0, 0.0, 0.0, 0.0, 0.0], [0.588632345199585, 0.027858857065439224, 0.24171443283557892, 0.14179441332817078, 0.0, 0.0, 0.0, 0.0], [0.13694313168525696, 0.007056967355310917, 0.7983402609825134, 0.023408524692058563, 0.03425110504031181, 0.0, 0.0, 0.0], [0.024985626339912415, 5.019149466534145e-05, 0.001866821781732142, 0.0007261799764819443, 0.8810697793960571, 0.09130142629146576, 0.0, 0.0], [0.03178056702017784, 0.0013582799583673477, 0.002647493267431855, 0.0057340324856340885, 0.46353989839553833, 0.49304839968681335, 0.0018912419909611344, 0.0], [0.16318143904209137, 0.022676873952150345, 0.0350131019949913, 0.003385270945727825, 0.477830171585083, 0.25425752997398376, 0.007569562178105116, 0.0360860601067543]], [[1.0, 0.0, 0.0, 0.0, 0.0, 0.0, 0.0, 0.0], [0.5117851495742798, 0.4882148206233978, 0.0, 0.0, 0.0, 0.0, 0.0, 0.0], [0.476398766040802, 0.5003498792648315, 0.023251326754689217, 0.0, 0.0, 0.0, 0.0, 0.0], [0.15786859393119812, 0.01749873347580433, 0.4289815127849579, 0.3956511318683624, 0.0, 0.0, 0.0, 0.0], [0.008585987612605095, 0.015289431437849998, 0.9563630819320679, 0.0007823205669410527, 0.018979130312800407, 0.0, 0.0, 0.0], [0.637352705001831, 0.08979705721139908, 0.17247195541858673, 0.04216696694493294, 0.04922105371952057, 0.008990183472633362, 0.0, 0.0], [0.02151678130030632, 0.014581345953047276, 0.00031461528851650655, 0.0009936002315953374, 0.6151641011238098, 0.34654146432876587, 0.0008881069952622056, 0.0], [0.39397740364074707, 0.09850261360406876, 0.05296888202428818, 0.04160308092832565, 0.010038875974714756, 0.13078062236309052, 0.19858333468437195, 0.0735451877117157]], [[1.0, 0.0, 0.0, 0.0, 0.0, 0.0, 0.0, 0.0], [0.9812910556793213, 0.0187089741230011, 0.0, 0.0, 0.0, 0.0, 0.0, 0.0], [0.14114563167095184, 0.8583816289901733, 0.00047278410056605935, 0.0, 0.0, 0.0, 0.0, 0.0], [0.22131162881851196, 0.5875489711761475, 0.008053997531533241, 0.1830853968858719, 0.0, 0.0, 0.0, 0.0], [0.006234481930732727, 0.0003871168300975114, 0.0022548455744981766, 0.968917965888977, 0.022205572575330734, 0.0, 0.0, 0.0], [0.022869477048516273, 0.009121660143136978, 0.001552879810333252, 0.741695761680603, 0.0879201665520668, 0.13684013485908508, 0.0, 0.0], [0.19915297627449036, 0.006063925102353096, 0.0050040483474731445, 0.01027645729482174, 0.005425570532679558, 0.3192971348762512, 0.45477989315986633, 0.0], [0.7745933532714844, 0.0005985961179248989, 0.0040394761599600315, 0.11357714980840683, 0.011209568940103054, 0.017616409808397293, 0.07280285656452179, 0.005562581121921539]], [[1.0, 0.0, 0.0, 0.0, 0.0, 0.0, 0.0, 0.0], [0.6779154539108276, 0.32208454608917236, 0.0, 0.0, 0.0, 0.0, 0.0, 0.0], [0.6533519625663757, 0.20631833374500275, 0.1403297632932663, 0.0, 0.0, 0.0, 0.0, 0.0], [0.038565345108509064, 0.9603832960128784, 0.0006087123765610158, 0.00044257196714170277, 0.0, 0.0, 0.0, 0.0], [0.004130192566663027, 0.006705166772007942, 0.0016388131771236658, 0.004526106175035238, 0.9829997420310974, 0.0, 0.0, 0.0], [0.045461878180503845, 0.002373131224885583, 0.0006577885360457003, 0.00029897724743932486, 0.9483485817909241, 0.0028596995398402214, 0.0, 0.0], [0.002449427032843232, 0.00040875442209653556, 4.6649463911307976e-05, 0.019498253241181374, 0.8832848072052002, 0.08834012597799301, 0.005972028244286776, 0.0], [0.13678546249866486, 0.009481088258326054, 0.0029193630907684565, 0.0047372314147651196, 0.38686439394950867, 0.0002448569575790316, 0.013218601234257221, 0.4457489252090454]], [[1.0, 0.0, 0.0, 0.0, 0.0, 0.0, 0.0, 0.0], [0.29775235056877136, 0.7022476196289062, 0.0, 0.0, 0.0, 0.0, 0.0, 0.0], [0.6490616798400879, 0.03004029579460621, 0.32089805603027344, 0.0, 0.0, 0.0, 0.0, 0.0], [0.16023598611354828, 0.03071453981101513, 0.8000297546386719, 0.00901973620057106, 0.0, 0.0, 0.0, 0.0], [0.14993952214717865, 0.0025489600375294685, 0.2604857385158539, 0.584437370300293, 0.0025884807109832764, 0.0, 0.0, 0.0], [0.1241004690527916, 0.0028327994514256716, 0.8600408434867859, 0.012745562009513378, 0.00022745160094927996, 5.2791136113228276e-05, 0.0, 0.0], [0.23382222652435303, 0.09756526350975037, 0.029823554679751396, 0.5479697585105896, 0.06562907993793488, 0.02437085658311844, 0.0008192976238206029, 0.0], [0.5238203406333923, 0.0003271613968536258, 0.011549752205610275, 0.3373531997203827, 0.0037193975877016783, 0.1037672832608223, 0.006815681234002113, 0.01264729630202055]]]], \"left_text\": [\"T\", \"I\", \"V\", \"S\", \"L\", \"G\", \"V\", \"<eos>\"], \"right_text\": [\"T\", \"I\", \"V\", \"S\", \"L\", \"G\", \"V\", \"<eos>\"]}, {\"name\": \"Cross\", \"attn\": [[[[0.8566480875015259, 0.14157675206661224, 0.00011571869254112244, 0.00015780047397129238, 0.00021002563880756497, 0.00012596497253980488, 0.0008230819366872311, 0.0003426106704864651, 0.0], [0.0019886295776814222, 0.9938787817955017, 0.0019860994070768356, 1.97241624846356e-05, 1.1124968750664266e-06, 3.533670906108455e-06, 0.00018105513299815357, 0.0019411880057305098, 0.0], [9.930101805366576e-05, 0.14397528767585754, 0.8441210985183716, 0.009937454015016556, 2.553675528815802e-07, 1.2136135651985569e-08, 6.134303021099186e-07, 0.0018659105990082026, 0.0], [1.183356175715744e-06, 4.8781475925352424e-05, 0.005040408112108707, 0.9917144179344177, 0.002886474598199129, 1.625441967689767e-07, 2.0874431072570587e-09, 0.0003085072385147214, 0.0], [2.076248950544368e-09, 2.469503712632104e-09, 4.5446796548276325e-08, 0.007813222706317902, 0.9813238978385925, 0.010825433768332005, 1.3763590800408565e-07, 3.717683284776285e-05, 0.0], [1.539995355415158e-05, 4.156547959155432e-07, 8.794940775658233e-09, 1.517661303296336e-06, 0.006964933127164841, 0.9525611400604248, 0.03940160945057869, 0.0010549265425652266, 0.0], [3.6748247111972887e-07, 1.6153670401308773e-07, 3.874431331318817e-11, 5.3759405781173e-13, 8.63989046973046e-10, 0.0001722228480502963, 0.9896626472473145, 0.01016461942344904, 0.0], [3.0375456844922155e-05, 0.001629337901249528, 7.048835470868653e-08, 8.6851722645373e-13, 6.603972417881668e-15, 3.410560722727496e-10, 0.011984101496636868, 0.9863561391830444, 0.0]], [[0.4974479377269745, 0.11996177583932877, 0.1550469696521759, 0.000861109874676913, 0.003492584452033043, 0.001285157515667379, 0.004111763089895248, 0.21779267489910126, 0.0], [0.1621582806110382, 0.7359753847122192, 0.02033555693924427, 0.0168137326836586, 0.0020785860251635313, 0.0008846417767927051, 0.0009950820822268724, 0.06075863167643547, 0.0], [0.24330632388591766, 0.1694432497024536, 0.23815901577472687, 0.023126548156142235, 0.008375732228159904, 0.016077717766165733, 0.0028917326126247644, 0.2986196279525757, 0.0], [0.0023229264188557863, 0.01884981244802475, 0.9595346450805664, 0.001046897261403501, 0.00022546235413756222, 0.0003019581490661949, 0.0003075750428251922, 0.017410680651664734, 0.0], [0.0017143257427960634, 0.03726307675242424, 0.042327217757701874, 0.7588425278663635, 0.062070153653621674, 0.014649439603090286, 0.00615872023627162, 0.07697460800409317, 0.0], [0.024407414719462395, 0.005246757064014673, 0.021552525460720062, 0.010831999592483044, 0.06472542136907578, 0.4575962722301483, 0.06405173987150192, 0.3515879213809967, 0.0], [0.000654942006804049, 0.0011108177714049816, 0.001373573555611074, 0.015845490619540215, 0.05359655246138573, 0.34353575110435486, 0.3181400001049042, 0.26574280858039856, 0.0], [0.00511162169277668, 0.005553337745368481, 0.017979610711336136, 0.0008379418286494911, 0.006243348121643066, 0.13962027430534363, 0.29037320613861084, 0.5342806577682495, 0.0]], [[0.18382427096366882, 0.025608722120523453, 0.0028351808432489634, 0.00021298894716892391, 0.0010375428246334195, 0.0030942384619265795, 0.01470481138676405, 0.7686822414398193, 0.0], [0.793197512626648, 0.031395573168992996, 0.004060907289385796, 0.002486020792275667, 0.002849834505468607, 0.00631519453600049, 0.004701720084995031, 0.15499311685562134, 0.0], [0.8620779514312744, 0.1039842888712883, 0.010618903674185276, 0.0007037762552499771, 0.00014063864364288747, 0.0004923584056086838, 0.0030576344579458237, 0.018924420699477196, 0.0], [0.20953376591205597, 0.5026084780693054, 0.2599151134490967, 0.0012286575511097908, 0.0001520765363238752, 8.45820177346468e-05, 0.0007562346290796995, 0.025721101090312004, 0.0], [0.0005967805627733469, 0.023646941408514977, 0.5875135660171509, 0.37211254239082336, 0.009009703993797302, 0.0006675503682345152, 0.00030214281287044287, 0.006150692235678434, 0.0], [0.0014117468381300569, 0.0027375752106308937, 0.10097433626651764, 0.612521231174469, 0.23693203926086426, 0.013331466354429722, 0.0017252585384994745, 0.030366340652108192, 0.0], [0.0006295449566096067, 0.0002844670962076634, 0.012849466875195503, 0.12167536467313766, 0.338664710521698, 0.4665115475654602, 0.03003280609846115, 0.029352139681577682, 0.0], [0.0029789707623422146, 0.0002181969757657498, 0.00024202998611144722, 0.0025301012210547924, 0.023572269827127457, 0.5056849718093872, 0.4384150207042694, 0.02635849453508854, 0.0]], [[0.001364882686175406, 0.6261237263679504, 0.2320604920387268, 0.06209452450275421, 0.05304420366883278, 0.00834291148930788, 0.0003770387847907841, 0.01659216545522213, 0.0], [0.0007966830744408071, 0.014224527403712273, 0.0073113818652927876, 0.44918954372406006, 0.47140082716941833, 0.01146444957703352, 2.898073580581695e-05, 0.04558354988694191, 0.0], [0.005709526129066944, 0.01239619217813015, 0.0010839855531230569, 0.1028805524110794, 0.6298539638519287, 0.12402957677841187, 0.0017846710979938507, 0.12226146459579468, 0.0], [0.04233190789818764, 0.013800251297652721, 0.00040734431240707636, 0.0026428494602441788, 0.1990981251001358, 0.45581328868865967, 0.10498261451721191, 0.18092359602451324, 0.0], [0.014295988716185093, 0.008090044371783733, 0.00039650691905990243, 0.0008384278626181185, 0.0076742954552173615, 0.13979364931583405, 0.5336958169937134, 0.29521530866622925, 0.0], [0.00792450550943613, 0.038378968834877014, 0.03741351515054703, 0.007917235605418682, 0.012116269208490849, 0.027896855026483536, 0.13312304019927979, 0.7352296113967896, 0.0], [0.0026912952307611704, 0.008611823432147503, 0.02601885236799717, 0.020716853439807892, 0.012010441161692142, 0.001496327226050198, 0.026948144659399986, 0.9015063047409058, 0.0], [0.004285546950995922, 0.0035163925494998693, 0.0193613413721323, 0.05059137940406799, 0.1888076663017273, 0.0021276308689266443, 0.001997569343075156, 0.729312539100647, 0.0]], [[0.6775115728378296, 0.018100555986166, 0.22062928974628448, 0.0007762090535834432, 0.0023658087011426687, 0.005188583862036467, 0.002479777904227376, 0.07294826954603195, 0.0], [0.016962336376309395, 0.17120523750782013, 0.7995418906211853, 0.0015302908141165972, 4.609545794664882e-05, 1.0571595339570194e-05, 0.0017966794548556209, 0.008907012641429901, 0.0], [0.3246557116508484, 0.03410390019416809, 0.374747633934021, 0.03345121070742607, 0.008764571510255337, 0.006342187523841858, 0.002691742032766342, 0.21524305641651154, 0.0], [0.025995051488280296, 0.009761820547282696, 0.5570268630981445, 0.03520458936691284, 0.14814338088035583, 0.037522658705711365, 0.001823166268877685, 0.18452240526676178, 0.0], [0.00022136089683044702, 0.013081722892820835, 0.013562309555709362, 0.06196988373994827, 0.216737300157547, 0.10049407929182053, 0.1887364387512207, 0.405196875333786, 0.0], [0.00010493107401998714, 0.0004477925831452012, 0.0034647902939468622, 0.00047614204231649637, 0.08513486385345459, 0.7361457943916321, 0.049175798892974854, 0.12504984438419342, 0.0], [0.0006445381441153586, 0.007085979916155338, 0.00022178726794663817, 0.0074715809896588326, 0.011518189683556557, 0.23043569922447205, 0.2800484001636505, 0.4625738263130188, 0.0], [0.00369410146959126, 0.00149395817425102, 0.028902634978294373, 0.00017439917428418994, 0.0009630451677367091, 0.03478126600384712, 0.3740834593772888, 0.5559071898460388, 0.0]], [[0.04730677232146263, 0.3055632412433624, 0.11227650940418243, 0.32156577706336975, 0.028909554705023766, 0.0044112359173595905, 0.0010976920602843165, 0.17886918783187866, 0.0], [0.40398073196411133, 0.027193583548069, 0.4183158874511719, 0.02711939625442028, 0.011766725219786167, 0.0018890934297814965, 0.012310515157878399, 0.09742407500743866, 0.0], [0.29590097069740295, 0.07927311956882477, 0.08009101450443268, 0.06851459294557571, 0.3091413378715515, 0.02600056864321232, 0.06226649135351181, 0.07881201803684235, 0.0], [0.05142708867788315, 0.007966808043420315, 0.28755953907966614, 0.3131561279296875, 0.01593802310526371, 0.11303482949733734, 0.005708091892302036, 0.20520949363708496, 0.0], [0.11167094856500626, 0.05654602125287056, 0.04376409575343132, 0.13740728795528412, 0.034401558339595795, 0.08697979152202606, 0.09586945921182632, 0.43336087465286255, 0.0], [0.0003238365170545876, 0.0018031462095677853, 0.006714026443660259, 0.10788900405168533, 0.2735903859138489, 0.11648132652044296, 0.10883906483650208, 0.3843591511249542, 0.0], [0.00046913683763705194, 0.005868272390216589, 0.0017254343256354332, 0.016029588878154755, 0.001464918488636613, 0.045390453189611435, 0.1651294231414795, 0.7639228105545044, 0.0], [0.007889947853982449, 0.0014704596251249313, 0.01000165194272995, 0.007079265546053648, 0.0013975928304716945, 0.05208555608987808, 0.26753032207489014, 0.6525452136993408, 0.0]], [[0.009533889591693878, 1.724693902360741e-05, 1.2690877156273928e-05, 4.582856854540296e-05, 0.00021943633328191936, 1.6355801562895067e-05, 0.00012988581147510558, 0.9900246858596802, 0.0], [0.9882113337516785, 0.005691236350685358, 2.79768410109682e-05, 2.8516053589555668e-06, 2.1492348878382472e-06, 6.05006716796197e-05, 0.005124382209032774, 0.0008795919129624963, 0.0], [0.1705842912197113, 0.8280898332595825, 0.0005066058365628123, 9.809052698983578e-07, 3.2772824454241345e-08, 2.1235423730558978e-07, 7.860537152737379e-05, 0.0007394933491013944, 0.0], [0.0038571434561163187, 0.17496368288993835, 0.7767688035964966, 0.009550856426358223, 2.5926919988705777e-05, 2.1000904837364942e-07, 7.451412966474891e-05, 0.03475888445973396, 0.0], [6.4180121626122855e-06, 3.297189323347993e-05, 0.016203509643673897, 0.9548854827880859, 0.019975412636995316, 3.1109459087019786e-05, 1.3789994000035222e-06, 0.008863731287419796, 0.0], [8.80832303664647e-05, 5.37505957254325e-06, 4.848677690461045e-06, 0.12678076326847076, 0.7857766151428223, 0.07025870680809021, 0.00017933882190845907, 0.016906164586544037, 0.0], [2.9223696401459165e-05, 1.7608694236059819e-07, 2.0408157386242465e-09, 7.703843948547728e-06, 0.04323257878422737, 0.918993353843689, 0.03618352860212326, 0.0015534478006884456, 0.0], [9.324702114099637e-05, 1.239479615833261e-06, 1.648227387907042e-11, 8.223064590362483e-11, 2.944218806533172e-07, 0.0009390669292770326, 0.9979076385498047, 0.0010584606789052486, 0.0]], [[4.069534770678729e-05, 2.8630514862015843e-05, 2.0042733012815006e-05, 0.0017879692604765296, 0.9938574433326721, 0.003631920786574483, 2.1450465283123776e-05, 0.000611873110756278, 0.0], [0.04428638517856598, 0.03938031941652298, 0.010558748617768288, 0.08998208492994308, 0.6945963501930237, 0.05578077211976051, 0.00044895653263665736, 0.06496637314558029, 0.0], [0.0011115408269688487, 0.022985374554991722, 0.04415339604020119, 0.02640172466635704, 0.8712374567985535, 0.012415026314556599, 0.00015743020048830658, 0.021538008004426956, 0.0], [0.00011663943587336689, 0.00031005285563878715, 0.0012058477150276303, 0.03325445204973221, 0.8070560693740845, 0.14130264520645142, 6.726056744810194e-05, 0.01668698340654373, 0.0], [5.9101847000420094e-05, 1.1172254744451493e-05, 0.00014617708802688867, 0.04548206925392151, 0.7676811218261719, 0.1496923267841339, 0.0008924078429117799, 0.036035604774951935, 0.0], [1.2963251720066182e-05, 2.0119337932555936e-05, 7.519104838138446e-05, 0.0023041970562189817, 0.6072311401367188, 0.32363152503967285, 0.02723090909421444, 0.03949393704533577, 0.0], [2.1664593077730387e-05, 0.00012647497351281345, 4.964838080923073e-05, 0.0024066960904747248, 0.0023508991580456495, 0.020529737696051598, 0.782459557056427, 0.19205531477928162, 0.0], [0.0005599394207820296, 0.00010555663175182417, 0.00013130948354955763, 0.0009993939893320203, 0.05077730491757393, 0.4700658917427063, 0.042220260947942734, 0.43514037132263184, 0.0]]], [[[8.303958020405844e-05, 0.00045802973909303546, 0.6344191431999207, 0.3594902753829956, 0.00041313315159641206, 4.909358176519163e-05, 3.317127266200259e-05, 0.00505418935790658, 0.0], [9.94117435766384e-05, 0.00030822868575342, 0.14333315193653107, 0.8101341128349304, 0.005412825383245945, 0.0007979609072208405, 0.0008332300349138677, 0.03908097743988037, 0.0], [0.0008439351804554462, 0.0005073638749308884, 0.003225651802495122, 0.007678693160414696, 0.044016383588314056, 0.05930463224649429, 0.042852189391851425, 0.8415711522102356, 0.0], [6.9977018029021565e-06, 7.0544692789553665e-06, 3.817864126176573e-05, 0.0001872024149633944, 0.002088044537231326, 0.6135746836662292, 0.06513376533985138, 0.3189640939235687, 0.0], [0.0002022504631895572, 0.0001800616446416825, 0.0010184049606323242, 0.0004654882359318435, 0.004194797482341528, 0.08300376683473587, 0.34374484419822693, 0.5671903491020203, 0.0], [0.0005025184946134686, 0.00022263688151724637, 0.0004722764133475721, 0.00020684821356553584, 0.02115972340106964, 0.009645074605941772, 0.24342963099479675, 0.7243613004684448, 0.0], [0.0002920632541645318, 0.00011137298861285672, 0.0014868649886921048, 0.0027934780810028315, 0.13478730618953705, 0.15147438645362854, 0.011259413324296474, 0.6977950930595398, 0.0], [0.0004634158394765109, 0.00035366922384127975, 0.0005724250222556293, 0.0029820187482982874, 0.015257163904607296, 0.028090260922908783, 0.018775001168251038, 0.9335060715675354, 0.0]], [[3.320156515716746e-23, 1.753024378870346e-42, 0.0, 4.949312894139179e-34, 1.0228310627710739e-32, 0.0, 0.0, 1.0, 0.0], [1.0, 1.5569644640396618e-14, 4.708061504909617e-34, 1.1312964555849148e-36, 2.8044066317327124e-24, 7.337345825592177e-15, 7.558626467785157e-12, 1.6251164199853656e-17, 0.0], [5.351795395736048e-13, 1.0, 2.423495015779764e-10, 3.1221999823659565e-31, 2.8673789566553704e-40, 4.61481587470812e-34, 1.011567178199427e-16, 3.4308548404749527e-18, 0.0], [1.0995008039512321e-30, 6.389876475165757e-12, 1.0, 1.0472758077417765e-11, 1.273877491573681e-30, 1.2202217350921962e-36, 4.440675729609835e-30, 1.1920435701004209e-18, 0.0], [2.950226569433877e-31, 1.1396327385005792e-24, 5.516814227668476e-10, 1.0, 1.3630813491816163e-11, 5.8308109495386485e-24, 5.62178762687538e-31, 4.30935042950832e-18, 0.0], [5.775648439804792e-29, 8.877259869012989e-32, 2.747376603121529e-22, 4.554547956558963e-07, 0.9999994039535522, 1.4561361183496047e-07, 4.98179651602185e-26, 4.956059588428611e-17, 0.0], [7.255849205091688e-22, 2.1863348569361956e-30, 1.0465107077021677e-34, 1.781120227130012e-25, 1.0631220348500392e-09, 1.0, 7.07249016296263e-12, 1.309020916191912e-15, 0.0], [3.5516581342598386e-10, 1.2206048671803416e-11, 2.2247682945854658e-21, 8.030154888286869e-27, 1.8435896146613575e-20, 8.212624180714556e-08, 0.9999998807907104, 3.0208432977296695e-10, 0.0]], [[1.4925663786510834e-12, 2.973661139549222e-08, 1.0, 1.0863349282630441e-11, 9.648418712504808e-19, 7.898294497077804e-22, 5.0501366394392795e-15, 1.5927288248453418e-18, 0.0], [0.003966598771512508, 0.0006263665854930878, 0.01661885716021061, 0.8813760280609131, 0.07575871795415878, 3.213249510736205e-05, 1.4652688150817994e-05, 0.021606706082820892, 0.0], [0.0028965016826987267, 0.006903514266014099, 0.00017037594807334244, 0.008614104241132736, 0.9310901165008545, 0.008424847386777401, 0.00012982673069927841, 0.04177069664001465, 0.0], [0.003325382713228464, 0.009293654933571815, 0.00011888312292285264, 0.0005409501609392464, 0.019843369722366333, 0.3582146167755127, 0.13471226394176483, 0.4739508628845215, 0.0], [0.00499991187825799, 0.03076176717877388, 0.0005779183702543378, 0.0005772458389401436, 0.0011529012117534876, 0.02590600587427616, 0.054285671561956406, 0.8817386031150818, 0.0], [0.0001745429472066462, 0.009581081569194794, 0.0009257992496713996, 0.0006180426571518183, 6.159138138173148e-05, 0.006234748288989067, 0.010881872847676277, 0.9715223908424377, 0.0], [0.010421025566756725, 0.0037722771521657705, 0.0005080779083073139, 0.004923800006508827, 0.0008982543367892504, 0.0009681376977823675, 0.0024330313317477703, 0.9760754108428955, 0.0], [0.03578194975852966, 0.02211397886276245, 0.000859519699588418, 0.004531601909548044, 0.01328878290951252, 0.004980397876352072, 0.0007898857002146542, 0.9176538586616516, 0.0]], [[0.014321085065603256, 0.9713633060455322, 0.004126136656850576, 0.0004668894980568439, 4.20401556766592e-05, 0.00023182785662356764, 0.0021056353580206633, 0.007343084551393986, 0.0], [1.2558801245177165e-05, 0.09409499913454056, 0.8787543177604675, 0.026324095204472542, 1.2585873321313557e-07, 5.165790906147549e-09, 1.9368310404388467e-06, 0.0008120558923110366, 0.0], [0.0005329828709363937, 0.00019937170145567507, 0.00646563433110714, 0.943354606628418, 0.03820733726024628, 8.766917744651437e-06, 1.67580736842865e-07, 0.01123116910457611, 0.0], [0.00029828501283191144, 1.014033045976248e-06, 1.252869651580113e-06, 0.01670464314520359, 0.8802095055580139, 0.08410198241472244, 4.2121869228139985e-06, 0.018679065629839897, 0.0], [0.000166643105330877, 2.061544819298433e-06, 4.6411642529164965e-07, 1.4243772966437973e-05, 0.00960821844637394, 0.9528911709785461, 0.022048769518733025, 0.015268497169017792, 0.0], [2.174552946598851e-06, 1.1216501661692746e-05, 4.494715994951548e-07, 5.6223001365651726e-08, 1.5568272146992967e-06, 0.0025540317874401808, 0.7207891941070557, 0.276641309261322, 0.0], [1.9212206098018214e-05, 0.0009519461309537292, 0.0008523825090378523, 5.120507012179587e-06, 1.530069759780872e-08, 3.728882802533917e-05, 0.015017140656709671, 0.983116865158081, 0.0], [1.1748184988391586e-05, 0.00020629122445825487, 0.0009174608276225626, 0.0026669122744351625, 1.5481464288313873e-05, 7.041134267637972e-06, 6.2681341660209e-05, 0.9961124062538147, 0.0]], [[0.22721914947032928, 0.7133192420005798, 0.012082063592970371, 0.02025415748357773, 0.0006029175710864365, 0.00012694575707428157, 0.01449616439640522, 0.011899355798959732, 0.0], [0.0005528015899471939, 0.5395759344100952, 0.3595610558986664, 0.0950116291642189, 7.804402412148193e-05, 1.9924062144127674e-05, 0.0014425134286284447, 0.0037581436336040497, 0.0], [0.0007482231594622135, 0.00788626354187727, 0.001985612092539668, 0.9416998028755188, 0.028070753440260887, 0.00040138931944966316, 0.0004218996618874371, 0.018786005675792694, 0.0], [0.0027716890908777714, 0.001239302451722324, 0.00022492579591926187, 0.29525527358055115, 0.2549198269844055, 0.0034466951619833708, 0.015619475394487381, 0.42652270197868347, 0.0], [0.00275228638201952, 0.0002165610931115225, 0.0030158155132085085, 0.16123084723949432, 0.10245484858751297, 0.03187140077352524, 0.18882128596305847, 0.5096369981765747, 0.0], [0.0012425233144313097, 0.007086172699928284, 0.00012235812027938664, 0.0008311104611493647, 0.01211222168058157, 0.07457426935434341, 0.30830055475234985, 0.5957307815551758, 0.0], [7.094175089150667e-05, 0.00047221287968568504, 0.0004923060769215226, 0.0013727180194109678, 0.0001335710403509438, 0.010334995575249195, 0.3656325042247772, 0.6214907765388489, 0.0], [0.0014253752306103706, 0.009689075872302055, 0.0030559159349650145, 0.023080876097083092, 0.0009323746780864894, 0.006358894985169172, 0.43069976568222046, 0.5247577428817749, 0.0]], [[0.8369686007499695, 0.04087137058377266, 0.07239875197410583, 0.0005168007337488234, 0.02130122110247612, 0.0060079083777964115, 4.898563929600641e-05, 0.02188628353178501, 0.0], [0.4922209680080414, 0.009624782018363476, 0.08532548695802689, 0.004664156120270491, 0.21067044138908386, 0.02175774984061718, 0.006733905989676714, 0.16900251805782318, 0.0], [0.0070970323868095875, 0.7134100794792175, 0.012090208008885384, 0.002196570159867406, 0.16438637673854828, 0.05037202686071396, 0.002975685754790902, 0.0474720299243927, 0.0], [0.0019322026055306196, 0.9483952522277832, 0.004034669138491154, 0.0006724167033098638, 0.023101454600691795, 0.007739033084362745, 0.0007327895727939904, 0.013392128981649876, 0.0], [0.12849530577659607, 0.4388194680213928, 0.11730464547872543, 0.036222197115421295, 0.01203598827123642, 0.01978951133787632, 0.041506096720695496, 0.20582683384418488, 0.0], [0.0019623993430286646, 0.1422194540500641, 0.20439490675926208, 0.24491001665592194, 0.06980331987142563, 0.020109549164772034, 0.012388430535793304, 0.30421194434165955, 0.0], [0.011901984922587872, 0.013978135772049427, 0.28252553939819336, 0.019812610000371933, 0.03230525180697441, 0.3319404423236847, 0.028687989339232445, 0.2788480520248413, 0.0], [0.062318988144397736, 0.021699946373701096, 0.02828778512775898, 0.04176076874136925, 0.11564944684505463, 0.23387378454208374, 0.1609281450510025, 0.33548107743263245, 0.0]], [[2.0907314311860786e-31, 2.800004038463719e-23, 1.0, 7.388056470027173e-26, 9.056591974931293e-41, 2.6100585196514043e-41, 1.7343164658811655e-30, 7.733096227731925e-30, 0.0], [4.496109498705776e-14, 7.053427052056995e-16, 7.950028829695199e-11, 1.0, 4.4769546292400264e-08, 4.4304311226325656e-26, 6.7934223117343226e-37, 4.319152649014044e-21, 0.0], [1.8099120292769388e-12, 6.593170291408629e-14, 1.0513411818809166e-17, 9.39848021630496e-09, 0.9999997615814209, 1.8547540037161525e-07, 2.6219072790259427e-21, 3.6842005090269173e-16, 0.0], [5.611858634041456e-13, 1.1294735085360871e-13, 6.6472593492898595e-21, 1.382282619267898e-20, 2.3999380260875114e-08, 0.9999549388885498, 4.5049964683130383e-05, 1.6720611561993337e-09, 0.0], [2.450218305159735e-13, 1.2855936747015878e-13, 8.558003172848111e-18, 1.932169834147534e-24, 4.9110323659209864e-20, 1.025126081799499e-07, 0.9999949932098389, 4.90776619699318e-06, 0.0], [1.5985344603564045e-08, 1.572629138024695e-08, 8.638600251797968e-11, 1.7398957071001305e-19, 4.242507074924064e-22, 2.2860611176961886e-14, 0.002402310026809573, 0.9975976347923279, 0.0], [0.0002052886557066813, 4.0555249142926186e-05, 2.4269345644256646e-08, 3.096853676276545e-11, 3.252242632102373e-14, 5.465608305153319e-18, 2.1076341355768385e-14, 0.9997541308403015, 0.0], [0.44430777430534363, 0.24988988041877747, 2.7725807285605697e-06, 0.0003497408179100603, 0.00578240305185318, 9.78297554077301e-10, 4.387963787894772e-13, 0.29966744780540466, 0.0]], [[0.45458903908729553, 0.19437330961227417, 0.006200903560966253, 0.00366047746501863, 0.011521878652274609, 0.0033437954261898994, 0.0014418185455724597, 0.3248688280582428, 0.0], [0.15661115944385529, 0.3062637150287628, 0.005062550771981478, 0.0025975292082875967, 0.0640949159860611, 0.012346300296485424, 0.004363748710602522, 0.44866007566452026, 0.0], [0.055707208812236786, 0.3597736954689026, 0.36000555753707886, 0.0017414186149835587, 0.0002033970959018916, 0.00021861745335627347, 0.02841712348163128, 0.19393296539783478, 0.0], [0.014055673032999039, 0.1928340196609497, 0.6610445976257324, 0.028036031872034073, 0.000734554894734174, 8.523866563336924e-05, 0.0008874867344275117, 0.10232242196798325, 0.0], [0.0012378802057355642, 0.06370356678962708, 0.19423136115074158, 0.1411409229040146, 0.49164071679115295, 0.023350995033979416, 0.002050620736554265, 0.08264387398958206, 0.0], [0.002841911045834422, 0.001219810452312231, 0.020752811804413795, 0.35839396715164185, 0.45209240913391113, 0.0786694660782814, 0.02372777834534645, 0.06230192258954048, 0.0], [0.025499429553747177, 0.008593697100877762, 0.0004351547104306519, 0.049856655299663544, 0.0573236458003521, 0.6360328793525696, 0.049076855182647705, 0.1731816530227661, 0.0], [0.01927778869867325, 0.021075870841741562, 0.0035123429261147976, 0.008086219429969788, 0.010531186126172543, 0.33025529980659485, 0.5304774641990662, 0.07678379863500595, 0.0]]], [[[7.389087841147557e-05, 0.00018483673920854926, 0.017145363613963127, 0.9672859907150269, 0.00803092960268259, 0.00013324899191502482, 2.450737611070508e-06, 0.007143145892769098, 0.0], [0.0007159642409533262, 8.724271538085304e-06, 4.924726454191841e-06, 0.013149140402674675, 0.9727029800415039, 0.012843707576394081, 1.4468737390416209e-05, 0.0005600799340754747, 0.0], [6.751815089955926e-05, 3.3156038625747897e-06, 5.139173026691424e-06, 2.356355616939254e-05, 0.0001681244175415486, 0.9470673203468323, 0.010642945766448975, 0.04202215000987053, 0.0], [9.380873234476894e-05, 8.118391269817948e-05, 7.105291297193617e-05, 1.3903932085668202e-05, 6.607372051803395e-05, 0.14275594055652618, 0.09304280579090118, 0.7638752460479736, 0.0], [0.00044628707109950483, 0.0002237749722553417, 0.0003362138522788882, 7.135028135962784e-05, 8.314997830893844e-05, 5.709955075872131e-05, 0.03927604481577873, 0.9595061540603638, 0.0], [0.00040171394357457757, 0.00010294782259734347, 0.00022081386123318225, 0.0001908851700136438, 0.0003428126801736653, 4.5177392166806385e-05, 0.004000674933195114, 0.9946950078010559, 0.0], [0.00032944019767455757, 0.0020932217594236135, 0.009451334364712238, 0.002701552351936698, 0.0018876196118071675, 0.00048679791507311165, 0.003706564661115408, 0.9793435335159302, 0.0], [0.004311613738536835, 0.049760252237319946, 0.05076131224632263, 0.0015431531937792897, 0.008114141412079334, 0.0047881221398711205, 0.0011211219243705273, 0.8796002864837646, 0.0]], [[0.0001555757480673492, 0.02354537509381771, 0.9695655107498169, 0.0016938339686021209, 0.0003597430477384478, 5.648019214277156e-05, 3.482020110823214e-05, 0.004588743206113577, 0.0], [0.00886713620275259, 0.00045898021198809147, 0.08102802187204361, 0.7521423697471619, 0.1301153600215912, 0.004625884350389242, 9.40397585509345e-05, 0.022668229416012764, 0.0], [0.003596572671085596, 0.0014362526126205921, 0.04188503324985504, 0.08458641916513443, 0.3955517113208771, 0.019933316856622696, 0.0024372392799705267, 0.4505734145641327, 0.0], [4.379510210128501e-05, 7.750539953121915e-05, 0.0006426554173231125, 0.0001566957653267309, 0.010328078642487526, 0.28647953271865845, 0.014964550733566284, 0.6873071789741516, 0.0], [7.376453868346289e-05, 0.0005609974032267928, 0.0005709349643439054, 5.1076051022391766e-05, 0.0006579761393368244, 0.3062829375267029, 0.011730212718248367, 0.6800720691680908, 0.0], [8.376649930141866e-05, 0.004260467365384102, 2.4473878511344083e-05, 5.718510874430649e-05, 0.0012396733509376645, 0.005003004334867001, 0.04369961842894554, 0.9456318020820618, 0.0], [0.0002651334216352552, 0.0026336635928601027, 0.0004006901872344315, 0.00027170320390723646, 0.003889610292389989, 0.0039796424098312855, 0.007921120151877403, 0.9806384444236755, 0.0], [8.679928578203544e-05, 8.718405297258869e-05, 0.0005419247318059206, 0.0028941058553755283, 0.01656409353017807, 0.010049262084066868, 0.0013848525704815984, 0.9683918356895447, 0.0]], [[0.0011447356082499027, 0.000758258393034339, 0.02420416846871376, 0.008180818520486355, 0.9409728050231934, 0.016671737655997276, 0.00013721946743316948, 0.00793026015162468, 0.0], [0.003029625630006194, 0.0001289485808229074, 0.0007539770449511707, 4.758034265250899e-05, 0.055457595735788345, 0.8457767963409424, 0.03476094454526901, 0.06004448980093002, 0.0], [0.23822589218616486, 0.0025991653092205524, 0.0011112162610515952, 0.0028898734599351883, 0.053590040653944016, 0.30996236205101013, 0.11830241978168488, 0.2733190357685089, 0.0], [0.002554656472057104, 0.00018717735656537116, 8.126594184432179e-05, 9.889399370877072e-05, 0.005337658803910017, 0.30331340432167053, 0.006661004852503538, 0.6817659735679626, 0.0], [0.014132223092019558, 0.0026239946018904448, 0.005524863488972187, 0.00038538710214197636, 0.002141763688996434, 0.02696489542722702, 0.0013085434911772609, 0.9469183087348938, 0.0], [1.8262477169628255e-05, 0.00013978316565044224, 0.00019481645722407848, 0.010756120085716248, 0.00034568452974781394, 0.0063945394940674305, 0.005606731865555048, 0.9765440225601196, 0.0], [0.0017334342701360583, 0.0018606499070301652, 0.011914708651602268, 0.03819660469889641, 0.043521780520677567, 0.005503169260919094, 0.034133121371269226, 0.8631365299224854, 0.0], [0.00011989558697678149, 0.0003836561809293926, 0.0006173258880153298, 0.04836275056004524, 0.0002253400016343221, 0.006375409197062254, 0.03317135199904442, 0.910744309425354, 0.0]], [[0.5946072340011597, 0.07358191162347794, 0.10419300943613052, 0.0027924389578402042, 0.02470078505575657, 0.041339676827192307, 0.032130662351846695, 0.12665437161922455, 0.0], [0.6817650198936462, 0.0016592732863500714, 0.18292683362960815, 0.00020163362205494195, 0.001099359360523522, 0.01772804744541645, 0.06422745436429977, 0.050392333418130875, 0.0], [0.18610893189907074, 0.262905091047287, 0.3304149806499481, 0.0013126201229169965, 0.00023909102310426533, 0.003951129969209433, 0.06811568886041641, 0.14695246517658234, 0.0], [0.009356766007840633, 0.049956366419792175, 0.8070741891860962, 0.004244897980242968, 0.0008157190168276429, 0.0038093936163932085, 0.0002798937784973532, 0.12446286529302597, 0.0], [0.00015346906729973853, 0.0002561802975833416, 0.9297688603401184, 0.0001971264136955142, 0.0012957631843164563, 0.004159581381827593, 0.0015764301642775536, 0.06259247660636902, 0.0], [0.008795167319476604, 0.06599617749452591, 0.038941506296396255, 0.03736996650695801, 0.04610184207558632, 0.17987202107906342, 0.027662979438900948, 0.5952603816986084, 0.0], [0.001514505478553474, 0.00033497827826067805, 0.07294032722711563, 0.17399603128433228, 0.028057653456926346, 0.3331230878829956, 0.07337392121553421, 0.31665951013565063, 0.0], [3.919710798072629e-05, 5.557649637921713e-05, 0.0003871880762744695, 0.0024558010045439005, 0.0069320593029260635, 0.9356045722961426, 0.041157316416502, 0.013368330895900726, 0.0]], [[0.03118288330733776, 0.004928924608975649, 0.002856712555512786, 0.017094716429710388, 0.5740852355957031, 0.2318606674671173, 0.04799288138747215, 0.08999807387590408, 0.0], [0.028844203799962997, 0.0735216960310936, 0.10611365735530853, 0.012229281477630138, 0.002467036945745349, 0.20064698159694672, 0.4064360558986664, 0.16974104940891266, 0.0], [0.0024970180820673704, 0.023319575935602188, 0.004790483508259058, 0.003018458839505911, 0.020417220890522003, 0.0071912542916834354, 0.0061948723159730434, 0.9325711727142334, 0.0], [0.0003687702992465347, 0.06000932678580284, 0.0037748145405203104, 8.014640479814261e-05, 0.007364333141595125, 0.011226193979382515, 0.0031919691246002913, 0.913984477519989, 0.0], [0.003153040772303939, 0.0946243405342102, 0.01608653925359249, 0.014727524481713772, 0.15896357595920563, 0.034834444522857666, 0.02395642362535, 0.6536540389060974, 0.0], [0.008907848969101906, 0.00479590380564332, 0.004141912329941988, 0.04339972138404846, 0.344364732503891, 0.055415306240320206, 0.016841234639286995, 0.5221332907676697, 0.0], [0.004773992113769054, 0.04370516538619995, 0.03020324744284153, 0.3648587763309479, 0.04509530961513519, 0.18965882062911987, 0.05564512312412262, 0.2660595774650574, 0.0], [0.0017588100163266063, 0.005316338036209345, 0.00165093457326293, 0.007444028742611408, 0.03846035152673721, 0.27331921458244324, 0.23760291934013367, 0.43444743752479553, 0.0]], [[0.3800463080406189, 0.09588269889354706, 0.04888692498207092, 0.35321006178855896, 0.009325656108558178, 0.0073829335160553455, 0.002924539614468813, 0.10234081000089645, 0.0], [0.006450660992413759, 0.6508159041404724, 0.029127202928066254, 0.05455219745635986, 0.037383925169706345, 0.08011039346456528, 0.01368830818682909, 0.12787137925624847, 0.0], [0.09280278533697128, 0.30105358362197876, 0.05586930736899376, 0.02979428321123123, 0.07162120193243027, 0.03816263750195503, 0.002794927451759577, 0.4079013168811798, 0.0], [0.07825402170419693, 0.03814546391367912, 0.005869808606803417, 0.18409591913223267, 0.1397310346364975, 0.05136391520500183, 0.02568894624710083, 0.47685086727142334, 0.0], [0.00976209994405508, 0.02773970365524292, 0.02185816317796707, 0.03366754576563835, 0.012674197554588318, 0.01569446176290512, 0.1118689477443695, 0.7667348980903625, 0.0], [0.0017581852152943611, 0.014965678565204144, 0.0021971301175653934, 0.011870733462274075, 0.018350515514612198, 0.037559155374765396, 0.1795579195022583, 0.7337406873703003, 0.0], [0.0014121875865384936, 0.01596442610025406, 0.004084124695509672, 0.011313002556562424, 0.004588492214679718, 0.007039682008326054, 0.5752949118614197, 0.38030320405960083, 0.0], [0.0021993471309542656, 0.001879208954051137, 0.002256444888189435, 0.0071674520149827, 0.015657849609851837, 0.11902080476284027, 0.5422948598861694, 0.3095241189002991, 0.0]], [[0.007850182242691517, 0.038843851536512375, 0.010465671308338642, 0.07710785418748856, 0.7324777841567993, 0.071357361972332, 0.0008022043621167541, 0.061095111072063446, 0.0], [0.5412281155586243, 0.030129045248031616, 0.004476552363485098, 0.006593718193471432, 0.24806061387062073, 0.05882202088832855, 0.00022165506379678845, 0.11046835035085678, 0.0], [0.07283319532871246, 0.16075390577316284, 0.02535463683307171, 0.016961297020316124, 0.10833167284727097, 0.004693308845162392, 0.07095987349748611, 0.5401120781898499, 0.0], [0.003838212927803397, 0.4320162832736969, 0.03613879904150963, 0.02094166725873947, 0.003826375352218747, 0.00038054698961786926, 0.007782851345837116, 0.4950753450393677, 0.0], [0.00024687734548933804, 0.00017281723557971418, 8.825142140267417e-05, 0.001242951606400311, 0.12043177336454391, 0.8538528084754944, 0.00011379204806871712, 0.023850707337260246, 0.0], [0.00010917446343228221, 0.015315345488488674, 0.0010660146363079548, 0.01418252196162939, 0.06842755526304245, 0.3275146782398224, 0.03760899603366852, 0.5357757210731506, 0.0], [0.00011476337385829538, 0.0059466902166605, 0.0002581612206995487, 0.0001122888206737116, 0.23565654456615448, 0.7033969163894653, 0.010168374516069889, 0.04434628412127495, 0.0], [0.0007671992643736303, 0.03165454789996147, 0.006348866969347, 0.004040963482111692, 0.011478368192911148, 0.13905125856399536, 0.5848493576049805, 0.221809521317482, 0.0]], [[1.0, 5.733228822246694e-11, 5.559591015387945e-19, 5.972086858316475e-18, 1.2913963301497411e-11, 3.903232598245765e-11, 4.2877598173396425e-12, 2.950732974780145e-16, 0.0], [8.01522459514814e-11, 1.0, 1.4930413572145085e-09, 8.810549504720917e-21, 9.490445800120843e-31, 3.0023574585061323e-26, 7.142279108367812e-19, 7.700240998217284e-16, 0.0], [2.890225411939509e-19, 4.431677464236672e-13, 1.0, 3.1546610484468884e-13, 4.307963092524704e-21, 1.053032041920437e-23, 4.0227049741323835e-26, 3.974852289970771e-19, 0.0], [9.332787270269886e-19, 4.246557991156562e-17, 2.781628660047941e-12, 1.0, 2.77756512234717e-10, 2.4044969946349752e-18, 1.5492021221355684e-23, 4.014316560007793e-20, 0.0], [1.708548172673179e-16, 2.6193440065738845e-17, 5.3575757047398106e-17, 6.59809053639264e-14, 1.0, 9.173371784410023e-11, 3.459980076638098e-18, 1.4402842355993716e-17, 0.0], [2.8746335823878755e-13, 4.9364953111038536e-15, 9.322253373323207e-17, 3.524310631199991e-14, 2.9645965682334463e-08, 0.9999873638153076, 1.2580043403431773e-05, 7.800410095626376e-09, 0.0], [9.694721692099506e-10, 5.007312381573314e-13, 4.606607605399025e-19, 1.0849487261493907e-15, 2.9453257943775596e-17, 1.3189995762274975e-08, 0.9999935626983643, 6.4383070821349975e-06, 0.0], [1.9852555723932338e-16, 2.3661230003440863e-19, 2.797675636615869e-22, 1.3795398824290766e-22, 1.6054585296481437e-25, 1.1035819802618562e-19, 8.033585459088499e-07, 0.9999991655349731, 0.0]]], [[[0.19031688570976257, 0.05635618418455124, 0.21342602372169495, 0.41150951385498047, 0.048131491988897324, 0.0050043268129229546, 0.006072225980460644, 0.06918340921401978, 0.0], [0.23892736434936523, 0.1591426432132721, 0.043724920600652695, 0.14379630982875824, 0.1610793173313141, 0.0035926245618611574, 0.010332263074815273, 0.23940441012382507, 0.0], [0.0018526989733800292, 0.6378689408302307, 0.0027949907816946507, 0.20212328433990479, 0.022355033084750175, 0.002889143070206046, 0.020742563530802727, 0.10937337577342987, 0.0], [0.0037511195987462997, 0.8817709684371948, 0.006136489566415548, 0.01000057253986597, 0.004086900502443314, 0.0012470940127968788, 0.00047114930930547416, 0.09253572672605515, 0.0], [0.009437701664865017, 0.0874919518828392, 0.035262078046798706, 0.0259880218654871, 0.26097571849823, 0.0415053591132164, 0.0044973767362535, 0.5348418354988098, 0.0], [0.0001551446330267936, 0.00111444725189358, 0.00029097404330968857, 0.002099487232044339, 0.02678961493074894, 0.8078405261039734, 0.0007866228697821498, 0.16092315316200256, 0.0], [0.0010923058725893497, 0.0038105903659015894, 0.0019215758657082915, 0.008487086743116379, 0.06722470372915268, 0.8236289620399475, 0.024423586204648018, 0.06941123306751251, 0.0], [0.00021877737890463322, 0.007560206577181816, 0.007140525616705418, 0.033290132880210876, 0.004167524632066488, 0.006254390813410282, 0.004351540468633175, 0.9370169043540955, 0.0]], [[0.8042213916778564, 0.14739274978637695, 0.026301363483071327, 0.001091811340302229, 0.0003648940473794937, 0.0028521614149212837, 0.006479669362306595, 0.011296051554381847, 0.0], [0.013180281966924667, 0.19335006177425385, 0.7296023964881897, 0.007627398706972599, 0.0008443295955657959, 0.0030926926992833614, 0.00220307894051075, 0.05009973794221878, 0.0], [0.03403918817639351, 0.019856907427310944, 0.6820119619369507, 0.005051499232649803, 0.03610434755682945, 0.01565518043935299, 0.004684914369136095, 0.2025960236787796, 0.0], [0.003450770163908601, 4.452902066987008e-05, 0.0037379481364041567, 0.011382412165403366, 0.886465311050415, 0.008172297850251198, 0.012985480017960072, 0.07376128435134888, 0.0], [9.56144358497113e-05, 0.005059308838099241, 0.00020961953850928694, 0.1907443404197693, 0.24877041578292847, 0.033791434019804, 0.024608198553323746, 0.4967210292816162, 0.0], [0.00040422199526801705, 0.00022336676192935556, 0.0006742557743564248, 0.03817295655608177, 0.013594458810985088, 0.01836007833480835, 0.5396302938461304, 0.38894039392471313, 0.0], [0.0007854605792090297, 0.05210943892598152, 0.0005485205329023302, 0.010313667356967926, 0.006361226551234722, 0.07936125248670578, 0.5899244546890259, 0.26059597730636597, 0.0], [6.795795343350619e-05, 0.0022816171403974295, 0.0003736183571163565, 0.004182174801826477, 0.07452012598514557, 0.02777234837412834, 0.17369286715984344, 0.7171092629432678, 0.0]], [[0.007692935410887003, 0.00399752939119935, 0.0011411471059545875, 0.0020718607120215893, 0.08523496985435486, 0.18942901492118835, 0.2565207779407501, 0.45391181111335754, 0.0], [0.417602002620697, 0.04681374877691269, 0.034044135361909866, 0.0021409750916063786, 0.0021652847062796354, 0.0034966226667165756, 0.04323503002524376, 0.4505021572113037, 0.0], [0.8196360468864441, 0.05221991240978241, 0.0011540661798790097, 0.00019447918748483062, 3.55439078703057e-05, 0.00029636608087457716, 0.01319813821464777, 0.11326558142900467, 0.0], [0.003377694170922041, 0.9532459378242493, 0.014504087157547474, 5.381244045565836e-05, 3.057803405681625e-05, 8.27415133244358e-05, 0.00012644531670957804, 0.028578558936715126, 0.0], [0.0047860099002718925, 0.021861927583813667, 0.8596840500831604, 0.031941331923007965, 0.0013374191476032138, 0.0003153043508064002, 0.008031765930354595, 0.07204212993383408, 0.0], [1.907961632241495e-05, 0.0008049689931795001, 0.020618515089154243, 0.006979007739573717, 0.965704083442688, 0.0028139902278780937, 0.0001340829039691016, 0.0029261831659823656, 0.0], [4.58808135590516e-05, 0.00013346178457140923, 0.0005058920360170305, 0.010072576813399792, 0.9638651609420776, 0.020654961466789246, 0.0017902115359902382, 0.0029319608584046364, 0.0], [0.00776778906583786, 0.0042463988065719604, 0.010800969786942005, 0.0008685981156304479, 0.0034572083968669176, 0.016618238762021065, 0.021212909370660782, 0.9350278377532959, 0.0]], [[0.0005855903145857155, 0.021940305829048157, 0.005230316426604986, 0.06755664199590683, 0.6626277565956116, 0.19704538583755493, 0.0003660171933006495, 0.044648073613643646, 0.0], [0.05090397596359253, 0.014694422483444214, 0.0012853853404521942, 0.1877734661102295, 0.039453521370887756, 0.26085764169692993, 0.25358155369758606, 0.19145002961158752, 0.0], [0.04052821546792984, 0.01111037191003561, 0.0012824659934267402, 0.022216252982616425, 0.01070824358612299, 0.12489235401153564, 0.4027133285999298, 0.3865487277507782, 0.0], [0.025513021275401115, 0.29819953441619873, 0.0030410888139158487, 0.06674982607364655, 0.006001316476613283, 0.04023488610982895, 0.03558943420648575, 0.5246708989143372, 0.0], [0.0015881662257015705, 0.000452730106189847, 0.08804752677679062, 0.770876407623291, 0.010722454637289047, 0.03425511345267296, 0.01043604128062725, 0.0836215615272522, 0.0], [0.0030006151646375656, 0.0003954817948397249, 0.07948968559503555, 0.31363821029663086, 0.16540341079235077, 0.012807316146790981, 0.09627803415060043, 0.3289872407913208, 0.0], [0.038395561277866364, 0.002136022550985217, 0.0480666309595108, 0.006050271913409233, 0.1007913127541542, 0.2934594750404358, 0.0648517981171608, 0.4462488889694214, 0.0], [0.0014668625080958009, 0.0028682411648333073, 0.004135538823902607, 0.003761031199246645, 0.013471661135554314, 0.11433155089616776, 0.01416054181754589, 0.8458045125007629, 0.0]], [[0.002086065011098981, 0.0008739082259126008, 4.871575583820231e-05, 0.02656523883342743, 0.9297987222671509, 0.03219643235206604, 0.0009638731717132032, 0.007466989569365978, 0.0], [0.00945251900702715, 0.0009552333503961563, 0.06676576286554337, 0.10082576423883438, 0.06742030382156372, 0.6961115598678589, 0.002295552985742688, 0.05617327615618706, 0.0], [0.007106429431587458, 0.058183133602142334, 0.006480040028691292, 0.07248245179653168, 0.13916617631912231, 0.26347222924232483, 0.010376746766269207, 0.4427328407764435, 0.0], [0.0042285798117518425, 0.01360626332461834, 0.11284241080284119, 0.06676279008388519, 0.005282111931592226, 0.01196527574211359, 0.010260951705276966, 0.7750515937805176, 0.0], [0.0018269874854013324, 0.025364793837070465, 0.030006753280758858, 0.0011039406526833773, 0.007259839214384556, 0.023827580735087395, 0.030237939208745956, 0.8803721070289612, 0.0], [0.009206150658428669, 0.06979722529649734, 0.0036759197246283293, 0.03794565051794052, 0.0021208066027611494, 0.009991351515054703, 0.10286719352006912, 0.7643956542015076, 0.0], [0.001744002103805542, 0.0002620310115162283, 7.440123590640724e-05, 0.8268464803695679, 0.005406086333096027, 0.0042334371246397495, 0.02755863033235073, 0.13387486338615417, 0.0], [0.000248890311922878, 0.0004356045392341912, 0.00044138176599517465, 0.0005218993173912168, 0.02876000665128231, 0.1281086653470993, 0.0031539788469672203, 0.838329553604126, 0.0]], [[0.4809638559818268, 0.06200280040502548, 0.31977567076683044, 0.03699755668640137, 0.01913449354469776, 0.030170224606990814, 0.017545387148857117, 0.0334099680185318, 0.0], [0.001499723643064499, 0.0018537385622039437, 0.9885352253913879, 0.0002620302839204669, 0.0025368030183017254, 0.001261524623259902, 5.060348485130817e-05, 0.004000382497906685, 0.0], [0.002782982774078846, 0.009603571146726608, 0.9371564388275146, 0.0066640544682741165, 0.00575321726500988, 0.0018892257940024137, 0.0003399498818907887, 0.035810455679893494, 0.0], [0.014806251041591167, 0.0063756247982382774, 0.7285807728767395, 0.0753532201051712, 0.041726455092430115, 0.009563030675053596, 0.0002598799765110016, 0.12333478778600693, 0.0], [0.0060701631009578705, 0.004103336948901415, 0.014256421476602554, 0.7112489342689514, 0.004450686741620302, 0.013808055780827999, 0.020533040165901184, 0.22552940249443054, 0.0], [0.008474349975585938, 0.000347627472365275, 0.014490523375570774, 0.007683593779802322, 0.012444308958947659, 0.03354951739311218, 0.4365140497684479, 0.4864960312843323, 0.0], [0.0011749840341508389, 0.0003804810403380543, 0.0026107942685484886, 0.0020046548452228308, 0.009237295016646385, 0.0011027205036953092, 0.7176320552825928, 0.2658570110797882, 0.0], [0.0004617109370883554, 0.0010871136328205466, 0.06465569138526917, 0.005535202566534281, 0.0003664027317427099, 0.001136696431785822, 0.0005128444172441959, 0.9262443780899048, 0.0]], [[0.9447973370552063, 0.02277621626853943, 0.000476761138997972, 0.00045792930177412927, 0.0003392330836504698, 0.012503514997661114, 0.0020782428327947855, 0.01657087355852127, 0.0], [0.036630768328905106, 0.6818385720252991, 0.04993118345737457, 0.019929450005292892, 0.017781198024749756, 0.0015374533832073212, 0.004527352284640074, 0.18782395124435425, 0.0], [0.0034910759422928095, 0.003908685874193907, 0.7892277836799622, 0.0400894470512867, 0.00039994073449634016, 0.0005891055334359407, 0.00047009263653308153, 0.1618238091468811, 0.0], [5.357561894925311e-05, 0.09485630691051483, 0.13003970682621002, 0.27620938420295715, 0.11193646490573883, 0.0033926786854863167, 0.0007355261477641761, 0.3827763497829437, 0.0], [0.0005649258382618427, 0.00016762936138547957, 0.005496910773217678, 0.02316073328256607, 0.9358853697776794, 0.015551019459962845, 0.001963932765647769, 0.01720951497554779, 0.0], [0.0001743649918353185, 0.00026397162582725286, 0.0005537564866244793, 0.01001782901585102, 0.009807792492210865, 0.9501947164535522, 0.009134943597018719, 0.019852591678500175, 0.0], [0.004863970912992954, 0.000829423195682466, 0.002116285264492035, 0.0008702304912731051, 0.016449423506855965, 0.15036529302597046, 0.7783400416374207, 0.04616537317633629, 0.0], [0.00011774768063332886, 0.0009915325790643692, 0.0004015913582406938, 0.006451683584600687, 0.009435107931494713, 0.02021257020533085, 0.19243022799491882, 0.7699595093727112, 0.0]], [[0.6433873772621155, 0.24268169701099396, 0.09077554941177368, 0.0018219721969217062, 0.0010428889654576778, 0.0042106821201741695, 0.002559361979365349, 0.013520573265850544, 0.0], [0.003021141979843378, 0.004264332354068756, 0.8072872161865234, 0.16601867973804474, 0.003302121302112937, 0.001720299245789647, 0.00044699941645376384, 0.013939144089818, 0.0], [0.05327906832098961, 0.03651052340865135, 0.023755772039294243, 0.16105523705482483, 0.15797720849514008, 0.12770159542560577, 0.01948995143175125, 0.4202306568622589, 0.0], [6.503221084130928e-05, 0.0001836946321418509, 0.00038909781142137945, 0.005309394560754299, 0.014411772601306438, 0.8739598989486694, 0.0007021737983450294, 0.10497882962226868, 0.0], [0.000541111861821264, 0.00011646219354588538, 4.5693537686020136e-05, 0.00023743764904793352, 0.0020989251788705587, 0.29383307695388794, 0.004551008343696594, 0.6985763311386108, 0.0], [0.0028776745311915874, 0.00023588670592289418, 0.0008867293945513666, 0.0008614144753664732, 0.00027755970950238407, 0.0028655657079070807, 0.24649973213672638, 0.7454953789710999, 0.0], [0.0024892115034163, 0.004186767153441906, 0.011498970910906792, 0.0007336905691772699, 0.008132646791636944, 0.003328865859657526, 0.013903788290917873, 0.9557260274887085, 0.0], [4.025368070870172e-06, 4.8460606194566935e-06, 1.2317179425735958e-05, 0.00018129055388271809, 0.0005112995859235525, 0.00036739339702762663, 0.0003194520832039416, 0.9985993504524231, 0.0]]]], \"left_text\": [\"T\", \"I\", \"V\", \"S\", \"L\", \"G\", \"V\", \"<eos>\"], \"right_text\": [\"Q\", \"K\", \"L\", \"V\", \"F\", \"F\", \"A\", \"<eos>\", \"<pad>\"]}], \"default_filter\": \"0\", \"display_mode\": \"light\", \"root_div_id\": \"bertviz-16182a253ccf4b0bbb6ba46af52d8157\", \"include_layers\": [0, 1, 2, 3], \"include_heads\": [0, 1, 2, 3, 4, 5, 6, 7], \"total_heads\": 8}; // HACK: {\"attention\": [{\"name\": \"Encoder\", \"attn\": [[[[0.009657680056989193, 0.5535450577735901, 0.43669018149375916, 0.00010674286022549495, 2.686704476673185e-07, 4.508845741213463e-09, 1.724902443100973e-09, 6.237483390340479e-16, 0.0], [0.9909327030181885, 0.008782354183495045, 0.00028486852534115314, 1.9517678584435316e-09, 1.0150199908007251e-12, 3.949912499943281e-13, 9.476911616568273e-11, 8.696042068942825e-14, 0.0], [1.835090370150283e-05, 0.997805655002594, 0.002174929017201066, 1.0133998102901387e-06, 9.087546253699896e-13, 4.757518705186898e-17, 1.910310593528541e-17, 4.513852741386156e-19, 0.0], [1.736626123734577e-16, 2.5924657165887766e-05, 0.9984143972396851, 0.0015595188597217202, 7.688179692877384e-08, 5.032518671773745e-16, 1.668870106336174e-21, 1.0056100685802067e-26, 0.0], [1.0189666250927456e-32, 6.429898240140073e-19, 2.645826384650718e-07, 0.9995335340499878, 0.00046620401553809643, 2.5966596494536587e-12, 7.203582335981169e-21, 8.615588214364224e-33, 0.0], [1.5414283107572988e-44, 2.2414270445497714e-32, 3.087812287101249e-18, 2.9880902729928493e-05, 0.9986506104469299, 0.001319557661190629, 6.461081669684177e-12, 1.0384809260542845e-28, 0.0], [0.0, 0.0, 1.8205009580879388e-35, 1.4829618089255387e-20, 8.711494956514798e-07, 0.9999970197677612, 2.156650452889153e-06, 4.8724634366030834e-23, 0.0], [0.0, 0.0, 0.0, 0.0, 0.0, 0.0, 0.0, 1.0, 0.0], [8.407790785948902e-45, 0.0, 0.0, 0.0, 1.8188854066936126e-42, 7.215952288708819e-25, 2.9660351952287556e-09, 1.0, 0.0]], [[3.760880548857277e-16, 1.0, 1.6018991559112578e-18, 0.0, 0.0, 0.0, 0.0, 0.0, 0.0], [1.1167049341081329e-22, 1.067992569381282e-11, 1.0, 5.2881130473645476e-17, 1.401298464324817e-44, 0.0, 0.0, 0.0, 0.0], [0.0, 8.574097624410968e-24, 1.9657473870893227e-08, 1.0, 2.1982123152991528e-13, 9.636707566801846e-37, 0.0, 0.0, 0.0], [0.0, 3.587324068671532e-43, 2.5144702802382012e-22, 7.43829775551319e-10, 1.0, 1.1022090358470127e-12, 2.526905908225568e-35, 0.0, 0.0], [0.0, 0.0, 1.607595972279983e-34, 1.3749955289480732e-14, 8.854684710968286e-05, 0.9999113082885742, 8.93551401759396e-08, 1.1406288118872375e-37, 0.0], [1.961817850054744e-44, 0.0, 0.0, 8.799033317188391e-41, 4.224507396629212e-30, 1.3334923443242275e-12, 1.0, 5.679479600691055e-20, 0.0], [6.683500326095084e-23, 2.5225858623448435e-30, 0.0, 0.0, 2.802596928649634e-45, 2.0502830192578816e-24, 8.189987283913069e-07, 0.9999991655349731, 0.0], [0.0, 0.0, 0.0, 0.0, 0.0, 0.0, 6.221765181602188e-43, 1.0, 0.0], [1.6954197339706482e-31, 4.150372660660651e-06, 0.9999958276748657, 2.181274605383976e-10, 8.288763676764134e-25, 2.3715538260795297e-35, 1.405825122026222e-32, 3.335083341765338e-23, 0.0]], [[0.0048850285820662975, 0.056247979402542114, 0.20841066539287567, 0.519554078578949, 0.132023885846138, 0.03140682727098465, 0.03744852915406227, 0.010023067705333233, 0.0], [0.10374940931797028, 0.07058615237474442, 0.09204094111919403, 0.16767020523548126, 0.1317422240972519, 0.10370869934558868, 0.1479940116405487, 0.1825084537267685, 0.0], [0.3558551073074341, 0.13935619592666626, 0.05802037566900253, 0.039503537118434906, 0.02572702243924141, 0.026761407032608986, 0.075920470058918, 0.27885594964027405, 0.0], [0.27066317200660706, 0.3699371814727783, 0.1338624209165573, 0.04383036494255066, 0.01666058599948883, 0.011617882177233696, 0.03160761296749115, 0.12182088196277618, 0.0], [0.04405415058135986, 0.4727693200111389, 0.3066950738430023, 0.11997547000646591, 0.02190971001982689, 0.0064436206594109535, 0.011181111447513103, 0.016971556469798088, 0.0], [0.004427679348737001, 0.13395652174949646, 0.3223211169242859, 0.40650901198387146, 0.09602701663970947, 0.01870383694767952, 0.015287075191736221, 0.0027676743920892477, 0.0], [0.0004671888018492609, 0.007342569995671511, 0.06787914782762527, 0.4043894112110138, 0.3670702278614044, 0.11683163791894913, 0.03523243963718414, 0.0007873784634284675, 0.0], [9.51185284066014e-05, 7.58882742957212e-05, 0.0001801560283638537, 0.003820106154307723, 0.0006126107764430344, 0.00044984836131334305, 0.002734112786129117, 0.9920321702957153, 0.0], [0.014652491547167301, 0.0020817029289901257, 0.00459749810397625, 0.027719957754015923, 0.1020762100815773, 0.26841965317726135, 0.5372626781463623, 0.04318981617689133, 0.0]], [[0.0382201224565506, 0.3227595388889313, 0.08736035972833633, 0.194540873169899, 0.25100603699684143, 0.08014027774333954, 0.014335338957607746, 0.011637399904429913, 0.0], [0.22774575650691986, 0.12338109314441681, 0.12676192820072174, 0.16575512290000916, 0.22626294195652008, 0.09058617055416107, 0.022424733266234398, 0.017082221806049347, 0.0], [0.13074354827404022, 0.13677524030208588, 0.08139452338218689, 0.17558635771274567, 0.29871535301208496, 0.13368827104568481, 0.020677879452705383, 0.02241886407136917, 0.0], [0.08877602219581604, 0.04534219205379486, 0.042818859219551086, 0.057640135288238525, 0.49150562286376953, 0.23519361019134521, 0.027981238439679146, 0.010742433369159698, 0.0], [0.10380879044532776, 0.087206169962883, 0.11220268160104752, 0.32944613695144653, 0.17742687463760376, 0.09404589980840683, 0.06707631796598434, 0.028787100687623024, 0.0], [0.0487995445728302, 0.044440723955631256, 0.06758846342563629, 0.25063249468803406, 0.18962939083576202, 0.16166265308856964, 0.17483985424041748, 0.062406931072473526, 0.0], [0.00811111181974411, 0.012593246065080166, 0.014636374078691006, 0.05462081357836723, 0.2809031307697296, 0.4670554995536804, 0.08511801064014435, 0.07696181535720825, 0.0], [7.187948085629614e-06, 9.523701919533778e-06, 2.459603138049715e-06, 3.06039655697532e-05, 3.9190505049191415e-05, 0.00040294750942848623, 0.010877883061766624, 0.9886301755905151, 0.0], [0.016769930720329285, 0.008838721551001072, 0.015170308761298656, 0.012518525123596191, 0.10733429342508316, 0.2787938416004181, 0.40568554401397705, 0.1548888236284256, 0.0]], [[0.5451481342315674, 0.17269837856292725, 0.034054022282361984, 0.020941313356161118, 0.10866124927997589, 0.03799128159880638, 0.004860469605773687, 0.07564511895179749, 0.0], [0.8423455953598022, 0.042294856160879135, 0.012369957752525806, 0.006520405877381563, 0.03239656612277031, 0.020758112892508507, 0.006766194012016058, 0.0365484356880188, 0.0], [0.8760918974876404, 0.08257228881120682, 0.008564495481550694, 0.0035039042122662067, 0.013460343703627586, 0.007248932961374521, 0.001927345059812069, 0.0066309161484241486, 0.0], [0.6997849941253662, 0.1886187046766281, 0.031631503254175186, 0.011298410594463348, 0.036198101937770844, 0.01815035566687584, 0.00547001650556922, 0.008847958408296108, 0.0], [0.3812223970890045, 0.3851568400859833, 0.10162908583879471, 0.04331785440444946, 0.053774043917655945, 0.01934080757200718, 0.010109852068126202, 0.005449069198220968, 0.0], [0.06271373480558395, 0.20135793089866638, 0.15788033604621887, 0.1443115472793579, 0.29601073265075684, 0.09878948330879211, 0.03527781367301941, 0.003658367320895195, 0.0], [0.0007281686994247139, 0.006965139415115118, 0.019322624430060387, 0.052659809589385986, 0.6261683106422424, 0.27316832542419434, 0.020398104563355446, 0.0005895456415601075, 0.0], [0.00020446818962227553, 0.00015210386482067406, 0.0006216110778041184, 0.0010829656384885311, 0.001103766611777246, 0.001879250630736351, 0.006236647721379995, 0.9887191653251648, 0.0], [0.0038277774583548307, 0.004097022116184235, 0.008147357031702995, 0.034007325768470764, 0.18839552998542786, 0.35446733236312866, 0.4003954827785492, 0.006662164814770222, 0.0]], [[0.0481431744992733, 0.2868683934211731, 0.2623375952243805, 0.1408068686723709, 0.10246364772319794, 0.0507042333483696, 0.045887287706136703, 0.06278881430625916, 0.0], [0.21693478524684906, 0.09507375210523605, 0.24272949993610382, 0.13532763719558716, 0.09899244457483292, 0.06355316936969757, 0.07349026948213577, 0.07389844208955765, 0.0], [0.11732342094182968, 0.2770580053329468, 0.11779528111219406, 0.18581877648830414, 0.1395128220319748, 0.0757957175374031, 0.04467804357409477, 0.04201792553067207, 0.0], [0.07797534018754959, 0.15455420315265656, 0.34069257974624634, 0.11630763113498688, 0.1323709636926651, 0.07154155522584915, 0.059140630066394806, 0.04741709306836128, 0.0], [0.032622113823890686, 0.12944376468658447, 0.29363149404525757, 0.25033774971961975, 0.12661583721637726, 0.06343162804841995, 0.055771224200725555, 0.04814614728093147, 0.0], [0.016827495768666267, 0.06787946820259094, 0.1795976758003235, 0.23004870116710663, 0.17659279704093933, 0.12332109361886978, 0.10609853267669678, 0.09963434189558029, 0.0], [0.008814874105155468, 0.025244316086173058, 0.07702207565307617, 0.10254253447055817, 0.24184530973434448, 0.2779638469219208, 0.06898319721221924, 0.19758379459381104, 0.0], [0.00023775320732966065, 0.00033495627576485276, 0.0006378514226526022, 0.0009916686685755849, 0.001485312357544899, 0.005022851750254631, 0.014795441180467606, 0.9764941334724426, 0.0], [0.06198727712035179, 0.04571710526943207, 0.05531255528330803, 0.08139941841363907, 0.11818388104438782, 0.22012728452682495, 0.20463278889656067, 0.2126396745443344, 0.0]], [[0.024702545255422592, 0.00010748729255283251, 3.0704391974722967e-05, 0.0004942430532537401, 0.007919616997241974, 0.01689738966524601, 0.0003925818600691855, 0.9494554400444031, 0.0], [0.58742356300354, 0.03780391812324524, 0.003028810489922762, 0.0012151094852015376, 0.003377569140866399, 0.011341286823153496, 0.011001757346093655, 0.34480804204940796, 0.0], [0.48193851113319397, 0.46865057945251465, 0.030344592407345772, 0.0008597584092058241, 0.00012721992970909923, 0.00010540215589571744, 0.0002913759963121265, 0.017682719975709915, 0.0], [0.05681357532739639, 0.7576019167900085, 0.17628814280033112, 0.007833757437765598, 0.00023963330022525042, 3.028946593985893e-05, 3.3061554859159514e-05, 0.0011595768155530095, 0.0], [0.006095355376601219, 0.22744375467300415, 0.5510206818580627, 0.2052673101425171, 0.009555594995617867, 0.00023888074792921543, 2.0328780010459013e-05, 0.000358054181560874, 0.0], [0.00012952332326676697, 0.0040189120918512344, 0.0869843065738678, 0.6076556444168091, 0.2926032543182373, 0.008327129296958447, 0.00010726653272286057, 0.00017392871086485684, 0.0], [8.16175145246234e-07, 7.098742571542971e-06, 0.000518074375577271, 0.039681319147348404, 0.7398400902748108, 0.2161971777677536, 0.003680855268612504, 7.463661313522607e-05, 0.0], [1.9141049856230552e-10, 1.3740033555365017e-09, 2.1135740269073722e-07, 8.17468753666617e-05, 0.07115848362445831, 0.8107808828353882, 0.11792545765638351, 5.3236533858580515e-05, 0.0], [4.423676273290766e-06, 2.4095686967484653e-05, 5.3740783187095076e-05, 0.00016057197353802621, 0.012869706377387047, 0.2060495764017105, 0.7805291414260864, 0.00030886600143276155, 0.0]], [[0.021037522703409195, 0.15867963433265686, 0.39479172229766846, 0.3116922676563263, 0.08239156752824783, 0.018202507868409157, 0.009159240871667862, 0.004045393317937851, 0.0], [0.0051363143138587475, 0.03317860886454582, 0.19626480340957642, 0.44902923703193665, 0.25608474016189575, 0.04810287430882454, 0.008876312524080276, 0.0033270400017499924, 0.0], [0.0008801957592368126, 0.004092487972229719, 0.025730598717927933, 0.22180965542793274, 0.5121805667877197, 0.19804850220680237, 0.031980160623788834, 0.005277715623378754, 0.0], [0.0016068994300439954, 0.001790546579286456, 0.005446259398013353, 0.052279453724622726, 0.33597996830940247, 0.4350271224975586, 0.14595648646354675, 0.021913258358836174, 0.0], [0.003685144241899252, 0.002832012949511409, 0.003211681265383959, 0.017750144004821777, 0.09883375465869904, 0.3069806694984436, 0.3580242693424225, 0.2086823731660843, 0.0], [0.0045882356353104115, 0.00420148903504014, 0.0023279080633074045, 0.004722316283732653, 0.014915664680302143, 0.07281550765037537, 0.26522478461265564, 0.6312041282653809, 0.0], [0.004739535041153431, 0.010878036729991436, 0.005298845004290342, 0.0029636279214173555, 0.003958823159337044, 0.01599583588540554, 0.11277256160974503, 0.8433927893638611, 0.0], [0.008769203908741474, 0.04787122830748558, 0.022288557142019272, 0.003945180214941502, 0.0016101630171760917, 0.003923223819583654, 0.03312099352478981, 0.8784714341163635, 0.0], [0.018402768298983574, 0.1684451699256897, 0.29024651646614075, 0.2027498334646225, 0.09374897927045822, 0.0498330183327198, 0.04837292060256004, 0.12820079922676086, 0.0]]], [[[0.02142605371773243, 0.010300143621861935, 0.0015791060868650675, 0.002167453756555915, 0.010933365672826767, 0.009847384877502918, 0.004171800799667835, 0.939574658870697, 0.0], [0.026888251304626465, 0.0151550667360425, 0.0025674416683614254, 0.0032740202732384205, 0.003357621841132641, 0.0033780294470489025, 0.004439247772097588, 0.9409403204917908, 0.0], [0.0419984832406044, 0.025915175676345825, 0.009155604988336563, 0.004513774532824755, 0.003465575398877263, 0.0029399169143289328, 0.004300730302929878, 0.9077107310295105, 0.0], [0.010337378829717636, 0.23429055511951447, 0.017170054838061333, 0.005979764275252819, 0.0016487464308738708, 0.0010780669981613755, 0.0024098942521959543, 0.727085530757904, 0.0], [0.00625763600692153, 0.02739884704351425, 0.26654377579689026, 0.024374011904001236, 0.01331169344484806, 0.0010412667179480195, 0.0016834314446896315, 0.6593893766403198, 0.0], [0.004801772069185972, 0.014309730380773544, 0.050277721136808395, 0.22621242702007294, 0.13071231544017792, 0.008512400090694427, 0.0013506299583241343, 0.5638229250907898, 0.0], [0.005787604488432407, 0.00343903386965394, 0.011713803745806217, 0.051521409302949905, 0.3485445976257324, 0.024421826004981995, 0.017142953351140022, 0.5374287962913513, 0.0], [0.0011288097593933344, 0.003999015316367149, 0.0008240524330176413, 0.0006488771177828312, 0.0010015455773100257, 0.0007667001918889582, 0.0035339181777089834, 0.988097071647644, 0.0], [0.001974421786144376, 0.004997076001018286, 0.000502105918712914, 0.0003926943172700703, 0.0005969761405140162, 0.0005340315983630717, 0.0009953764965757728, 0.9900072813034058, 0.0]], [[0.00994419027119875, 0.02979901432991028, 0.061031851917505264, 0.05246196687221527, 0.0952313095331192, 0.010530584491789341, 0.008840895257890224, 0.7321601510047913, 0.0], [0.020105332136154175, 0.015152167528867722, 0.023068977519869804, 0.060750000178813934, 0.05214753746986389, 0.010568175464868546, 0.007019293960183859, 0.8111885786056519, 0.0], [0.03648274019360542, 0.044310469180345535, 0.013190997764468193, 0.05658825486898422, 0.03603958711028099, 0.003828197019174695, 0.038187913596630096, 0.7713718414306641, 0.0], [0.026191003620624542, 0.10448475182056427, 0.026096682995557785, 0.025019995868206024, 0.006023556925356388, 0.004661298356950283, 0.05535165220499039, 0.7521710395812988, 0.0], [0.026518244296312332, 0.031024547293782234, 0.034299466758966446, 0.037895530462265015, 0.016973217949271202, 0.01302096527069807, 0.06182360649108887, 0.7784444689750671, 0.0], [0.008698300458490849, 0.027553992345929146, 0.023253142833709717, 0.03431810066103935, 0.03437972441315651, 0.010837492533028126, 0.025306524708867073, 0.8356527090072632, 0.0], [0.00510802399367094, 0.017271680757403374, 0.015620413236320019, 0.058308910578489304, 0.015369054861366749, 0.016716523095965385, 0.021451350301504135, 0.8501541018486023, 0.0], [0.0019179941155016422, 0.0021291279699653387, 0.0019514791201800108, 0.0010330395307391882, 0.003243809100240469, 0.0007542631938122213, 0.00030899301054887474, 0.9886612892150879, 0.0], [0.004786649718880653, 0.0051665655337274075, 0.0026238583959639072, 0.0019933346193283796, 0.0033313408493995667, 0.0010508432751521468, 0.00014349860430229455, 0.9809039235115051, 0.0]], [[0.004421834368258715, 0.15372364223003387, 0.04102874919772148, 0.044022489339113235, 0.008525866083800793, 0.004323750734329224, 0.008876715786755085, 0.735076904296875, 0.0], [0.021020036190748215, 0.013954870402812958, 0.18647368252277374, 0.014383328147232533, 0.014104295521974564, 0.0066255261190235615, 0.013731034472584724, 0.7297071814537048, 0.0], [0.009431734681129456, 0.031137801706790924, 0.00507916696369648, 0.03395781293511391, 0.07421216368675232, 0.013289394788444042, 0.00391380675137043, 0.8289781212806702, 0.0], [0.01716378889977932, 0.03515208512544632, 0.013244432397186756, 0.011718209832906723, 0.1068221777677536, 0.01223879773169756, 0.009536918252706528, 0.7941235303878784, 0.0], [0.012889698147773743, 0.035002756863832474, 0.06252744793891907, 0.022181762382388115, 0.004771925508975983, 0.009728267788887024, 0.09083253145217896, 0.762065589427948, 0.0], [0.009783723391592503, 0.008956585079431534, 0.034307245165109634, 0.013048144057393074, 0.00877473410218954, 0.00609764875844121, 0.07773325592279434, 0.8412986397743225, 0.0], [0.004593225661665201, 0.014818844385445118, 0.01751858927309513, 0.02545221336185932, 0.009327344596385956, 0.020773183554410934, 0.032611262053251266, 0.8749053478240967, 0.0], [0.0003221296356059611, 0.0017495063366368413, 0.0021929480135440826, 0.0009377431706525385, 0.0016862651100382209, 0.0006802045390941203, 0.00039354077307507396, 0.9920376539230347, 0.0], [0.000736940186470747, 0.0039487192407250404, 0.00201469287276268, 0.0015441016294062138, 0.00169387087225914, 0.0005373136955313385, 0.00018519953300710768, 0.9893391728401184, 0.0]], [[0.03332677111029625, 0.03535648062825203, 0.018368160352110863, 0.004936890210956335, 0.004635550547391176, 0.003785664215683937, 0.00279028108343482, 0.8968002200126648, 0.0], [0.07211466133594513, 0.014198814518749714, 0.01506077405065298, 0.0045517259277403355, 0.004169100429862738, 0.003916812129318714, 0.0023013355676084757, 0.8836867809295654, 0.0], [0.010234342887997627, 0.12412136793136597, 0.031561385840177536, 0.011388558894395828, 0.005937022157013416, 0.006034534890204668, 0.004122440703213215, 0.8066003322601318, 0.0], [0.004503106232732534, 0.04247888922691345, 0.11803039908409119, 0.015237249433994293, 0.00463414890691638, 0.0022997413761913776, 0.001982378074899316, 0.8108340501785278, 0.0], [0.006224508862942457, 0.018340932205319405, 0.020479032769799232, 0.17522796988487244, 0.026255730539560318, 0.005303367972373962, 0.0028376488480716944, 0.745330810546875, 0.0], [0.006483484525233507, 0.005893033463507891, 0.005112157668918371, 0.02933863177895546, 0.12857356667518616, 0.009339787997305393, 0.004609222058206797, 0.810650110244751, 0.0], [0.0023533778730779886, 0.007972806692123413, 0.0014588526682928205, 0.008724801242351532, 0.013196238316595554, 0.18675406277179718, 0.020588606595993042, 0.7589512467384338, 0.0], [0.0007409076788462698, 0.001980105647817254, 0.0018268241547048092, 0.0010584549745544791, 0.0007322228047996759, 0.0005037549999542534, 0.0021706116385757923, 0.9909871220588684, 0.0], [0.0010217841481789947, 0.003443509805947542, 0.0016777782002463937, 0.0007391526596620679, 0.0005962117575109005, 0.0003899862931575626, 0.0007548540597781539, 0.9913767576217651, 0.0]], [[0.0060121542774140835, 0.03470943495631218, 0.23193848133087158, 0.08671754598617554, 0.03322996571660042, 0.009337066672742367, 0.008541804738342762, 0.5895135402679443, 0.0], [0.005705665796995163, 0.009945900179445744, 0.023939019069075584, 0.09284432232379913, 0.009179534390568733, 0.005841570440679789, 0.0022838665172457695, 0.8502601385116577, 0.0], [0.054814890027046204, 0.018949264660477638, 0.014622196555137634, 0.03141283988952637, 0.03000744804739952, 0.017607560381293297, 0.015835050493478775, 0.8167507648468018, 0.0], [0.1296800822019577, 0.04976026341319084, 0.021617190912365913, 0.008092284202575684, 0.005277043674141169, 0.02482682652771473, 0.03076864778995514, 0.7299776673316956, 0.0], [0.05441184714436531, 0.06395889073610306, 0.04887322708964348, 0.01659202203154564, 0.006566982716321945, 0.009286640211939812, 0.008851580321788788, 0.7914588451385498, 0.0], [0.008514062501490116, 0.03222557529807091, 0.04362667351961136, 0.03281066194176674, 0.011689250357449055, 0.0017757570603862405, 0.0025225926656275988, 0.8668354153633118, 0.0], [0.0051646362990140915, 0.0049694618210196495, 0.01963062770664692, 0.18962256610393524, 0.03930963575839996, 0.0030444979202002287, 0.004849989898502827, 0.7334085702896118, 0.0], [0.0016285170568153262, 0.0015156751032918692, 0.0014792026486247778, 0.0020141860004514456, 0.0011100999545305967, 0.0010215042857453227, 0.00022765556059312075, 0.991003155708313, 0.0], [0.0027150206733494997, 0.001889701932668686, 0.0011292484123259783, 0.002141199540346861, 0.0009368116734549403, 0.0009010192006826401, 8.549789345124736e-05, 0.9902015328407288, 0.0]], [[0.00895188469439745, 0.04460742324590683, 0.04748408496379852, 0.010906745679676533, 0.013720483519136906, 0.007145066745579243, 0.005261382553726435, 0.8619229197502136, 0.0], [0.00611963402479887, 0.02208874747157097, 0.10336878895759583, 0.020104985684156418, 0.011718721129000187, 0.0036781132221221924, 0.003489816328510642, 0.8294311761856079, 0.0], [0.010429641231894493, 0.017815925180912018, 0.016592852771282196, 0.10796312242746353, 0.029667098075151443, 0.004857373423874378, 0.001562576973810792, 0.8111113905906677, 0.0], [0.003189046634361148, 0.017550097778439522, 0.005413043312728405, 0.033888079226017, 0.07406981289386749, 0.0037460438907146454, 0.0032667499035596848, 0.8588771224021912, 0.0], [0.00261397915892303, 0.013246382586658001, 0.004652379546314478, 0.007721677888184786, 0.004100015386939049, 0.11405440419912338, 0.022284766659140587, 0.831326425075531, 0.0], [0.001263260841369629, 0.004676042590290308, 0.004041468724608421, 0.002081254031509161, 0.003965883981436491, 0.02290055900812149, 0.05741247534751892, 0.9036590456962585, 0.0], [0.0016006287187337875, 0.0077517214231193066, 0.003620399395003915, 0.0035697894636541605, 0.0020041174720972776, 0.008802534081041813, 0.030410565435886383, 0.942240297794342, 0.0], [9.402065916219726e-05, 0.0005997661501169205, 0.0006198981427587569, 0.0005338207120075822, 0.001577232382260263, 0.0006593862199224532, 9.423106530448422e-05, 0.9958215951919556, 0.0], [0.00011078262468799949, 0.0007277580443769693, 0.0005311626009643078, 0.0005981409340165555, 0.0011436592321842909, 0.00038441549986600876, 4.724535028799437e-05, 0.9964568018913269, 0.0]], [[0.018051866441965103, 0.05880121514201164, 0.0022840239107608795, 0.010625684633851051, 0.004226724151521921, 0.007549443747848272, 0.004570899996906519, 0.8938900828361511, 0.0], [0.024870537221431732, 0.01691683568060398, 0.0021137776784598827, 0.011217434890568256, 0.004535639192909002, 0.004429956432431936, 0.0016187818255275488, 0.9342970252037048, 0.0], [0.025513391941785812, 0.030749596655368805, 0.001259832875803113, 0.005546664819121361, 0.006473897956311703, 0.01019187644124031, 0.002780636539682746, 0.9174841642379761, 0.0], [0.03760826215147972, 0.0597129762172699, 0.0065558296628296375, 0.008862380869686604, 0.006541874259710312, 0.00947577878832817, 0.0018937647109851241, 0.8693491220474243, 0.0], [0.049246713519096375, 0.08659807592630386, 0.015199217014014721, 0.013783556409180164, 0.00753738172352314, 0.008973752148449421, 0.003389896359294653, 0.8152714371681213, 0.0], [0.0248151533305645, 0.04962184652686119, 0.007486495189368725, 0.014305337332189083, 0.03328818082809448, 0.01481528952717781, 0.003353360341861844, 0.8523143529891968, 0.0], [0.007160970475524664, 0.005511969327926636, 0.0009751442121341825, 0.007848663255572319, 0.03531156852841377, 0.05486467480659485, 0.0034459256567060947, 0.8848810791969299, 0.0], [0.0009220985812135041, 0.002915632212534547, 1.9390010493225418e-05, 9.257384954253212e-05, 0.0006907388451509178, 0.00045560969738289714, 1.751998752297368e-05, 0.9948864579200745, 0.0], [0.002004575217142701, 0.0035428067203611135, 1.8970556993735954e-05, 0.0001132548859459348, 0.0005540616111829877, 0.0003686817944981158, 1.0250452760374174e-05, 0.9933873414993286, 0.0]], [[0.017112018540501595, 0.05304677411913872, 0.13788099586963654, 0.0927506536245346, 0.02071424387395382, 0.004232366569340229, 0.007343914359807968, 0.6669190526008606, 0.0], [0.0026360570918768644, 0.01146620698273182, 0.03078823909163475, 0.06152646988630295, 0.06292794644832611, 0.0074205175042152405, 0.006751340348273516, 0.816483199596405, 0.0], [0.0020479061640799046, 0.004711997229605913, 0.013852420262992382, 0.0521242655813694, 0.0624389611184597, 0.013949449174106121, 0.011417201720178127, 0.8394578099250793, 0.0], [0.0017023399705067277, 0.003512568539008498, 0.004557060077786446, 0.01427021250128746, 0.006590303964912891, 0.012514717876911163, 0.01621699333190918, 0.9406358003616333, 0.0], [0.0024494563695043325, 0.0027173117268830538, 0.005147581920027733, 0.0044891866855323315, 0.0025681089609861374, 0.11201920360326767, 0.06367260217666626, 0.8069366216659546, 0.0], [0.004153799265623093, 0.0028558855410665274, 0.00358093180693686, 0.002480055671185255, 0.0054869093000888824, 0.06462759524583817, 0.05216914042830467, 0.8646456599235535, 0.0], [0.004487093538045883, 0.0026251128874719143, 0.005021009594202042, 0.006426953244954348, 0.006461180746555328, 0.009012327529489994, 0.03278952091932297, 0.9331768155097961, 0.0], [0.0007373610278591514, 0.0004514091124292463, 0.0008832865278236568, 0.0019547021947801113, 0.003172722179442644, 0.0028055948205292225, 0.001129603828303516, 0.988865315914154, 0.0], [0.00034003835753537714, 0.0003830480563919991, 0.0006494339904747903, 0.0029567682649940252, 0.005182069260627031, 0.002921153325587511, 0.0007601241813972592, 0.9868074059486389, 0.0]]], [[[0.003186788409948349, 0.036892570555210114, 0.010060626082122326, 0.0028292841743677855, 0.0009583277278579772, 0.005585988983511925, 0.003228625748306513, 0.9372577667236328, 0.0], [0.004188256803900003, 0.008911213837563992, 0.04597759619355202, 0.0076970672234892845, 0.010102340951561928, 0.0035971798934042454, 0.005163837224245071, 0.9143624305725098, 0.0], [0.006243554875254631, 0.034095101058483124, 0.009415464475750923, 0.0474386140704155, 0.004960997961461544, 0.003925647586584091, 0.0011849156580865383, 0.8927357196807861, 0.0], [0.0010237285168841481, 0.0013521815417334437, 0.00458694389089942, 0.022936787456274033, 0.11631809920072556, 0.0032419662456959486, 0.004780408926308155, 0.8457598090171814, 0.0], [0.0008587936172261834, 0.001905351411551237, 0.0004821523034479469, 0.004824039060622454, 0.001634944579564035, 0.09207924455404282, 0.019755078479647636, 0.8784604072570801, 0.0], [0.0017825075192376971, 0.0015749915037304163, 0.0012061485322192311, 0.0014681837055832148, 0.003798970952630043, 0.014131300151348114, 0.030060989782214165, 0.9459769129753113, 0.0], [0.00042052133358083665, 0.006728969980031252, 0.002467498416081071, 0.00909580010920763, 0.0021611012052744627, 0.016901034861803055, 0.02171916514635086, 0.940505862236023, 0.0], [0.00038850156124681234, 0.0014595250831916928, 0.0016744154272601008, 0.002485115546733141, 0.0036067089531570673, 0.005530701018869877, 0.0013393720146268606, 0.9835156798362732, 0.0], [0.0003606799291446805, 0.00159754219930619, 0.0019215871579945087, 0.003503981977701187, 0.003686644369736314, 0.003893329994753003, 0.0008832854218780994, 0.9841529726982117, 0.0]], [[0.005228152498602867, 0.1361849308013916, 0.11187390238046646, 0.016653895378112793, 0.00215670233592391, 0.0010222616838291287, 0.0030963888857513666, 0.7237837314605713, 0.0], [0.011492905206978321, 0.010959094390273094, 0.2582955062389374, 0.039925772696733475, 0.00105767953209579, 0.00046844742610119283, 0.006214374676346779, 0.671586275100708, 0.0], [0.0002244719216832891, 0.000793932587839663, 0.005041064228862524, 0.04452488198876381, 0.05515601113438606, 0.007587000727653503, 0.00022551858273800462, 0.8864471316337585, 0.0], [0.007158811204135418, 0.00698497612029314, 0.0011525166919454932, 0.011823981069028378, 0.02953956089913845, 0.032593127340078354, 0.007373676169663668, 0.9033733010292053, 0.0], [0.00033146722125820816, 0.001318805618211627, 0.0029574711807072163, 0.015056874603033066, 0.002487740246579051, 0.02799414098262787, 0.05336415395140648, 0.8964893817901611, 0.0], [0.00016035033331718296, 0.0005833899485878646, 0.001185532775707543, 0.007951365783810616, 0.0019201949471607804, 0.016437280923128128, 0.020572442561388016, 0.951189398765564, 0.0], [0.0003836634859908372, 0.0014829087303951383, 0.0010120754595845938, 0.0205365102738142, 0.0066194795072078705, 0.021655334159731865, 0.005151589401066303, 0.9431584477424622, 0.0], [0.0004872475692536682, 0.00077938346657902, 0.003440744709223509, 0.0020488109439611435, 0.001309092971496284, 0.003571246052160859, 0.002864920301362872, 0.9854985475540161, 0.0], [0.0004988135187886655, 0.001094343839213252, 0.004152563866227865, 0.003267892636358738, 0.001860080286860466, 0.003455531317740679, 0.0021446787286549807, 0.9835260510444641, 0.0]], [[0.007477750536054373, 0.0029770575929433107, 0.0005896291695535183, 0.0058269198052585125, 0.04159102961421013, 0.032324209809303284, 0.002178959548473358, 0.9070343971252441, 0.0], [0.13347508013248444, 0.0030968368519097567, 0.017080511897802353, 0.0026611958164721727, 0.013725810684263706, 0.01524274330586195, 0.004080136306583881, 0.8106377124786377, 0.0], [0.0044901748187839985, 0.07776964455842972, 0.015520951710641384, 0.002091222908347845, 0.002171364612877369, 0.0038113868795335293, 0.00901435874402523, 0.8851309418678284, 0.0], [0.0024700129870325327, 0.014801278710365295, 0.0992608368396759, 0.005215132609009743, 0.00386175699532032, 0.001744952634908259, 0.011194583028554916, 0.8614515066146851, 0.0], [0.0018640904454514384, 0.011502929963171482, 0.007986648939549923, 0.03726733475923538, 0.011124461889266968, 0.0008927599410526454, 0.0015029213391244411, 0.9278588891029358, 0.0], [0.0019031902775168419, 0.003931587096303701, 0.004013432189822197, 0.0817631185054779, 0.059135034680366516, 0.0023056918289512396, 0.015350609086453915, 0.8315973877906799, 0.0], [0.004110276699066162, 0.0034508949611335993, 0.0003582548233680427, 0.007088333833962679, 0.0010530102299526334, 0.022479191422462463, 0.013827592134475708, 0.9476324319839478, 0.0], [0.0016450544353574514, 0.0028980320785194635, 0.001983274705708027, 0.0036308220587670803, 0.004451661370694637, 0.0029675548430532217, 0.007477922830730677, 0.9749456644058228, 0.0], [0.002554085338488221, 0.004877664148807526, 0.0022533093579113483, 0.002595240715891123, 0.002989606000483036, 0.0021239020861685276, 0.005031393840909004, 0.9775747656822205, 0.0]], [[0.004254018422216177, 0.008752894587814808, 0.01780288852751255, 0.34858009219169617, 0.01569545269012451, 0.005402722395956516, 0.0034851841628551483, 0.5960267186164856, 0.0], [0.010570555925369263, 0.0036665955558419228, 0.0006243356037884951, 0.25940629839897156, 0.009075140580534935, 0.0045657092705369, 0.005472681485116482, 0.7066187262535095, 0.0], [0.008295931853353977, 0.0026287741493433714, 0.01017791498452425, 0.013954086229205132, 0.08515267074108124, 0.01728728413581848, 0.0019380951998755336, 0.8605653047561646, 0.0], [0.00829373300075531, 0.011891468428075314, 0.006057781632989645, 0.0365658737719059, 0.048259370028972626, 0.02324850857257843, 0.004761225543916225, 0.8609220385551453, 0.0], [0.002061922335997224, 0.004022172186523676, 0.039738304913043976, 0.07087325304746628, 0.008001070469617844, 0.015905989333987236, 0.0011878269724547863, 0.858209490776062, 0.0], [0.001558387652039528, 0.004753683693706989, 0.033266931772232056, 0.007162371184676886, 0.006967068184167147, 0.010969353839755058, 0.0022679767571389675, 0.9330542087554932, 0.0], [0.0017683511832728982, 0.012174923904240131, 0.054354362189769745, 0.003405606606975198, 0.005236709024757147, 0.00906545389443636, 0.013100366108119488, 0.9008942246437073, 0.0], [0.000927979126572609, 0.0011387700214982033, 0.00391114316880703, 0.003149690106511116, 0.004067228641360998, 0.0022455479484051466, 0.0022786338813602924, 0.982280969619751, 0.0], [0.0013457160675898194, 0.0016176732024177909, 0.004171968437731266, 0.0036608469672501087, 0.004376446362584829, 0.0024377256631851196, 0.0018554046982899308, 0.9805342555046082, 0.0]], [[0.0007862363127060235, 0.0029869896825402975, 0.0872754231095314, 0.024476639926433563, 0.14371582865715027, 0.03331242874264717, 0.004330527503043413, 0.7031158208847046, 0.0], [0.0019989970605820417, 0.001928458921611309, 0.0030962491873651743, 0.027640026062726974, 0.16747553646564484, 0.036551930010318756, 0.001294631976634264, 0.7600141763687134, 0.0], [0.031010989099740982, 0.004461595322936773, 0.0018238704651594162, 0.002470047678798437, 0.06238371506333351, 0.06285615265369415, 0.008147843182086945, 0.8268457651138306, 0.0], [0.043937359005212784, 0.010891444981098175, 0.006901928689330816, 0.004291991703212261, 0.007093663327395916, 0.007129710633307695, 0.03642788529396057, 0.88332599401474, 0.0], [0.022934069857001305, 0.026426661759614944, 0.006451200693845749, 0.005432714708149433, 0.009967607446014881, 0.0064195385202765465, 0.031489718705415726, 0.8908784985542297, 0.0], [0.00347073283046484, 0.010984309017658234, 0.015166299417614937, 0.0070826211012899876, 0.011180181987583637, 0.0011076214723289013, 0.007113366853445768, 0.9438948631286621, 0.0], [0.0020811092108488083, 0.005873112473636866, 0.0207986943423748, 0.08743854612112045, 0.046911150217056274, 0.004966413136571646, 0.005328231491148472, 0.8266027569770813, 0.0], [0.0009997572051361203, 0.0014943606220185757, 0.0025569729041308165, 0.0017372206784784794, 0.0036501516588032246, 0.0029347629752010107, 0.0019002804765477777, 0.9847264885902405, 0.0], [0.001642404356971383, 0.0015885955654084682, 0.0019495832966640592, 0.001666249125264585, 0.004901716951280832, 0.00445509934797883, 0.001407918520271778, 0.982388436794281, 0.0]], [[0.023948634043335915, 0.020517567172646523, 0.036271266639232635, 0.0019089998677372932, 0.00050112244207412, 0.0037895257119089365, 0.0036702854558825493, 0.9093925356864929, 0.0], [0.0030976375564932823, 0.011381040327250957, 0.09431449323892593, 0.013016038574278355, 0.0028985305689275265, 0.0017787371762096882, 0.0014820406213402748, 0.8720315098762512, 0.0], [0.0002818696666508913, 0.0018113225232809782, 0.01572815328836441, 0.06370115280151367, 0.004125918261706829, 0.0008529514889232814, 0.0002708574465941638, 0.9132277965545654, 0.0], [0.0006398589466698468, 0.007733549457043409, 0.002531697740778327, 0.012516168877482414, 0.09752453863620758, 0.007060233969241381, 0.003304459387436509, 0.8686895370483398, 0.0], [0.002190385479480028, 0.009191356599330902, 0.00240365881472826, 0.0031613733153790236, 0.0054250857792794704, 0.05646544322371483, 0.019573483616113663, 0.9015892148017883, 0.0], [0.0012525608763098717, 0.005809382069855928, 0.0029424994718283415, 0.0012694448232650757, 0.0017533950740471482, 0.013496621511876583, 0.04637760668992996, 0.9270985126495361, 0.0], [0.001670579775236547, 0.00776183744892478, 0.003149664495140314, 0.011232794262468815, 0.0024582515470683575, 0.011300420388579369, 0.019453037530183792, 0.9429734349250793, 0.0], [0.0014890186721459031, 0.0014057738007977605, 0.002103641163557768, 0.002482811687514186, 0.0025076274760067463, 0.008520873263478279, 0.002172403736039996, 0.9793179035186768, 0.0], [0.0010437146993353963, 0.0016038407338783145, 0.002683004131540656, 0.003519786987453699, 0.002532042097300291, 0.00570638244971633, 0.0012263484532013535, 0.9816848635673523, 0.0]], [[0.0017624078318476677, 0.0007659168331883848, 0.00034354208037257195, 0.0014296886511147022, 0.015817582607269287, 0.1384255439043045, 0.014456291683018208, 0.8269990086555481, 0.0], [0.008187215775251389, 0.00308111310005188, 0.0017422224627807736, 0.00032805034425109625, 0.0051678321324288845, 0.019071709364652634, 0.02018454484641552, 0.9422373175621033, 0.0], [0.07224909216165543, 0.006870804354548454, 0.0024942795280367136, 0.0011500584660097957, 0.005658417008817196, 0.024394210427999496, 0.009615300223231316, 0.8775678873062134, 0.0], [0.008971760049462318, 0.3376547694206238, 0.016451947391033173, 0.005838651210069656, 0.002905030967667699, 0.004374953918159008, 0.003996378276497126, 0.6198064684867859, 0.0], [0.0031626864802092314, 0.06343508511781693, 0.049091074615716934, 0.01605343632400036, 0.006066279951483011, 0.0008554932428523898, 0.0024574915878474712, 0.8588784337043762, 0.0], [0.0007104827091097832, 0.008148289285600185, 0.019351636990904808, 0.06236962601542473, 0.05104810371994972, 0.0017720845062285662, 0.0006414502859115601, 0.8559582829475403, 0.0], [0.0023086462169885635, 0.0008434579358436167, 0.0015716252382844687, 0.03839545696973801, 0.029349617660045624, 0.0012919394066557288, 0.005364477634429932, 0.9208747148513794, 0.0], [0.0012956386199221015, 0.0023398755583912134, 0.004405187908560038, 0.005204557906836271, 0.004162191413342953, 0.007530259899795055, 0.0068114688619971275, 0.9682508707046509, 0.0], [0.002400183118879795, 0.002638538833707571, 0.002614861587062478, 0.002803768264129758, 0.003056599060073495, 0.007638178765773773, 0.004951728042215109, 0.9738962054252625, 0.0]], [[0.0031581928487867117, 0.03096727654337883, 0.08199451863765717, 0.012122574262320995, 0.00680722389370203, 0.00149885518476367, 0.0034372685477137566, 0.8600141406059265, 0.0], [0.032845642417669296, 0.021923620253801346, 0.025246787816286087, 0.07848803699016571, 0.007110820151865482, 0.0014505076687783003, 0.012456501834094524, 0.820478081703186, 0.0], [0.006587850395590067, 0.07438444346189499, 0.026085536926984787, 0.037373147904872894, 0.0326877161860466, 0.0018143882043659687, 0.007448336109519005, 0.8136186003684998, 0.0], [0.004311867989599705, 0.028155632317066193, 0.049670279026031494, 0.006918435450643301, 0.026128409430384636, 0.0071761468425393105, 0.008180631324648857, 0.8694586157798767, 0.0], [0.0020789052359759808, 0.0034661805257201195, 0.020325196906924248, 0.03360309079289436, 0.010999207384884357, 0.012278539128601551, 0.022355906665325165, 0.8948929905891418, 0.0], [0.0018688717391341925, 0.004002667963504791, 0.017589319497346878, 0.03975309431552887, 0.01497986726462841, 0.012599688023328781, 0.0566583126783371, 0.8525481224060059, 0.0], [0.0005258013843558729, 0.003815634874626994, 0.004632193595170975, 0.013878596015274525, 0.011378380469977856, 0.023866944015026093, 0.018647314980626106, 0.923255205154419, 0.0], [0.0002931338094640523, 0.001210918533615768, 0.0018497761338949203, 0.0016365026822313666, 0.004975282587110996, 0.004846899304538965, 0.0007889646803960204, 0.9843984842300415, 0.0], [0.0005006667342968285, 0.0023338133469223976, 0.002385542495176196, 0.0025542599614709616, 0.005595212336629629, 0.004305059555917978, 0.0005785728571936488, 0.9817469120025635, 0.0]]], [[[0.0008506698068231344, 0.0011329739354550838, 0.023489423096179962, 0.01550225354731083, 0.17097073793411255, 0.07219935208559036, 0.01420250441879034, 0.7016521096229553, 0.0], [0.018239470198750496, 0.009755274280905724, 0.001129164476878941, 0.0010362225584685802, 0.0353432334959507, 0.0351383239030838, 0.0055745067074894905, 0.8937838077545166, 0.0], [0.024163085967302322, 0.009306149557232857, 0.0018027937039732933, 0.0025412729009985924, 0.00800496619194746, 0.007723833434283733, 0.0052631692960858345, 0.9411947131156921, 0.0], [0.004700732883065939, 0.07014200091362, 0.0070573086850345135, 0.007428580429404974, 0.0015890586655586958, 0.007027174346148968, 0.0021375485230237246, 0.8999176025390625, 0.0], [0.0019508089171722531, 0.01784490793943405, 0.06862114369869232, 0.0038811862468719482, 0.004274424165487289, 0.0037276912480592728, 0.00255278660915792, 0.8971471190452576, 0.0], [0.0004493740270845592, 0.0040292595513165, 0.055669721215963364, 0.02632118947803974, 0.013092797249555588, 0.003927771933376789, 0.0004823997733183205, 0.8960274457931519, 0.0], [0.0016807923093438148, 0.000738729489967227, 0.003041512332856655, 0.010329702869057655, 0.05362056940793991, 0.008840356022119522, 0.001785983913578093, 0.9199624061584473, 0.0], [0.0019813752733170986, 0.006882311776280403, 0.013828305527567863, 0.028329286724328995, 0.026583490893244743, 0.06745139509439468, 0.058747097849845886, 0.7961967587471008, 0.0], [0.002880778396502137, 0.008243164978921413, 0.011346470564603806, 0.020561426877975464, 0.022498754784464836, 0.06735029071569443, 0.050124820321798325, 0.8169942498207092, 0.0]], [[0.012281648814678192, 0.0022912505082786083, 0.0022035434376448393, 0.004497222136706114, 0.0071899304166436195, 0.00853243749588728, 0.003490887116640806, 0.9595130681991577, 0.0], [0.03508936986327171, 0.00866522267460823, 0.0038268323987722397, 0.002623193198814988, 0.0023250989615917206, 0.004074957221746445, 0.001921825110912323, 0.9414734840393066, 0.0], [0.004367183893918991, 0.06925760954618454, 0.018933968618512154, 0.0028486824594438076, 0.0013465119991451502, 0.005316099617630243, 0.0016431892290711403, 0.8962867856025696, 0.0], [0.0007391489343717694, 0.006621106062084436, 0.08986443281173706, 0.005992822349071503, 0.0029306302312761545, 0.0032463199459016323, 0.001785406144335866, 0.8888201117515564, 0.0], [0.000521295121870935, 0.00048540468560531735, 0.007929032668471336, 0.06561659276485443, 0.02496901899576187, 0.0024419287219643593, 0.00017536622181069106, 0.8978613615036011, 0.0], [0.000875726924277842, 0.0007747590425424278, 0.0022448915988206863, 0.047569721937179565, 0.10108459740877151, 0.04253849387168884, 0.001781019032932818, 0.8031308054924011, 0.0], [0.0028153674211353064, 0.001382351852953434, 0.0015741655370220542, 0.003913215361535549, 0.014019056223332882, 0.08067702502012253, 0.003901295131072402, 0.8917175531387329, 0.0], [0.0028002073522657156, 0.004542256239801645, 0.00784138310700655, 0.016302645206451416, 0.02661987394094467, 0.026589402928948402, 0.04683668538928032, 0.8684675693511963, 0.0], [0.002931764116510749, 0.005652991123497486, 0.008892267011106014, 0.013767726719379425, 0.018955204635858536, 0.02128850668668747, 0.041042789816856384, 0.8874688148498535, 0.0]], [[0.004581324756145477, 0.12613792717456818, 0.00294662406668067, 0.0026186632458120584, 0.002682723104953766, 0.020627200603485107, 0.0020152840297669172, 0.8383902907371521, 0.0], [0.02500852197408676, 0.027473201975226402, 0.003829685039818287, 0.011745364405214787, 0.003897956106811762, 0.008539272472262383, 0.003102218033745885, 0.9164037704467773, 0.0], [0.0017276236321777105, 0.027671800926327705, 0.0031020892783999443, 0.01735294982790947, 0.03338031470775604, 0.022360602393746376, 0.0043853698298335075, 0.8900192975997925, 0.0], [0.006960023660212755, 0.005948547273874283, 0.1446506530046463, 0.009664482437074184, 0.00913057941943407, 0.005610383581370115, 0.01519460417330265, 0.8028407096862793, 0.0], [0.005041789263486862, 0.001899749506264925, 0.010768316686153412, 0.029551919549703598, 0.013984976336359978, 0.0037225736305117607, 0.004211849067360163, 0.9308187961578369, 0.0], [0.005782315973192453, 0.0011200105072930455, 0.009245478548109531, 0.010090814903378487, 0.0062392279505729675, 0.03153769299387932, 0.004731179215013981, 0.9312532544136047, 0.0], [0.001206728513352573, 0.0012005981989204884, 0.0020449759904295206, 0.017953962087631226, 0.006853715516626835, 0.033884450793266296, 0.005045325495302677, 0.9318102598190308, 0.0], [0.0009111863910220563, 0.003360150847584009, 0.008074061945080757, 0.005136171355843544, 0.014567745849490166, 0.016446685418486595, 0.04502084478735924, 0.9064831733703613, 0.0], [0.001184447668492794, 0.004178663715720177, 0.008552290499210358, 0.005777152255177498, 0.01493842713534832, 0.015205332078039646, 0.03739597275853157, 0.9127677083015442, 0.0]], [[0.01770210824906826, 0.010923290625214577, 0.02029573917388916, 0.00733494246378541, 0.0053146006539464, 0.015606892295181751, 0.0010223517892882228, 0.9218000173568726, 0.0], [0.056281398981809616, 0.020106859505176544, 0.014225886203348637, 0.0009837470715865493, 0.005264416337013245, 0.03652631863951683, 0.004898508079349995, 0.8617129325866699, 0.0], [0.004348778631538153, 0.036803778260946274, 0.015015317127108574, 0.0035097533836960793, 0.001005117199383676, 0.01341981440782547, 0.005898496601730585, 0.9199988842010498, 0.0], [0.0027146944776177406, 0.024987922981381416, 0.093856580555439, 0.021271012723445892, 0.005042404402047396, 0.001606063568033278, 0.006648255977779627, 0.8438730835914612, 0.0], [0.0003920441085938364, 0.005355090368539095, 0.004794909618794918, 0.08552898466587067, 0.007760019972920418, 0.0004840593028347939, 0.001227914821356535, 0.8944570422172546, 0.0], [0.001368206343613565, 0.004585097078233957, 0.0015043002786114812, 0.0315120667219162, 0.03275959938764572, 0.00043484268826432526, 0.010777532123029232, 0.9170583486557007, 0.0], [0.0013690852792933583, 0.00241620815359056, 0.0011443380499258637, 0.004852958954870701, 0.000477234018035233, 0.03341727331280708, 0.017316345125436783, 0.9390066266059875, 0.0], [0.0051290192641317844, 0.004449767526239157, 0.005414607468992472, 0.018320167437195778, 0.024361591786146164, 0.0360410213470459, 0.07263316959142685, 0.8336506485939026, 0.0], [0.006014357786625624, 0.00695784343406558, 0.006649387534707785, 0.016134729608893394, 0.017697034403681755, 0.028485501185059547, 0.05554075166583061, 0.8625203967094421, 0.0]], [[0.0016996609047055244, 0.0019434622954577208, 0.35561978816986084, 0.03138386830687523, 0.015983816236257553, 0.013849765993654728, 0.0035435918252915144, 0.5759760737419128, 0.0], [0.004363602492958307, 0.0040495553985238075, 0.10861650854349136, 0.046238213777542114, 0.002656542230397463, 0.004805206786841154, 0.0016766246408224106, 0.8275937438011169, 0.0], [0.005790183320641518, 0.04661617800593376, 0.007392202038317919, 0.01262971106916666, 0.02075384184718132, 0.0038887541741132736, 0.002291574841365218, 0.9006375074386597, 0.0], [0.0015581599436700344, 0.0030569497030228376, 0.006484298035502434, 0.006105901673436165, 0.1495896279811859, 0.048137929290533066, 0.009126214310526848, 0.7759408950805664, 0.0], [0.0006015867693349719, 0.006108028814196587, 0.000483636133139953, 0.007527081295847893, 0.0019734168890863657, 0.007904195226728916, 0.02028949186205864, 0.9551125168800354, 0.0], [0.0009071202366612852, 0.005132121033966541, 0.00681684585288167, 0.002936597215011716, 0.0025158573407679796, 0.010071014054119587, 0.01244634110480547, 0.9591741561889648, 0.0], [0.00037029964732937515, 0.005834474228322506, 0.015874462202191353, 0.0036911058705300093, 0.00549143273383379, 0.008320027031004429, 0.004626472946256399, 0.955791711807251, 0.0], [0.0011582920560613275, 0.0019029596587643027, 0.0591241829097271, 0.009343788959085941, 0.012927006930112839, 0.012022173032164574, 0.0026317064184695482, 0.9008898735046387, 0.0], [0.0013201874680817127, 0.0023867464624345303, 0.05726979300379753, 0.010705207474529743, 0.013878454454243183, 0.010691545903682709, 0.002319617895409465, 0.9014285206794739, 0.0]], [[0.019365275278687477, 0.016895394772291183, 0.027311500161886215, 0.04714837670326233, 0.07083503901958466, 0.01632506586611271, 0.008688290603458881, 0.7934311032295227, 0.0], [0.002474494744092226, 0.001150199444964528, 0.0026859412901103497, 0.011430659331381321, 0.10446725785732269, 0.03545284643769264, 0.0026195324026048183, 0.8397190570831299, 0.0], [0.0002119302371283993, 0.003521896433085203, 0.004358471836894751, 0.02802967093884945, 0.21768370270729065, 0.03508428484201431, 0.0037323704455047846, 0.7073776721954346, 0.0], [0.0021945973858237267, 0.008064942434430122, 0.017567988485097885, 0.006847723387181759, 0.003920614719390869, 0.1277073472738266, 0.0008100110571831465, 0.8328867554664612, 0.0], [0.0007426560623571277, 0.0047693559899926186, 0.07879394292831421, 0.0031879812013357878, 0.00225341715849936, 0.007290002424269915, 0.007741458714008331, 0.8952211737632751, 0.0], [0.0007999096997082233, 0.0018256829353049397, 0.10726196318864822, 0.04676729068160057, 0.0016383775509893894, 0.000983471400104463, 0.005290628876537085, 0.8354327082633972, 0.0], [0.0010451702401041985, 0.0018312877509742975, 0.045664556324481964, 0.010910509154200554, 0.010091192089021206, 0.027215996757149696, 0.0011063411366194487, 0.902134895324707, 0.0], [0.0020012182649224997, 0.0031067728996276855, 0.06546882539987564, 0.004990965127944946, 0.024111725389957428, 0.017885785549879074, 0.0073988293297588825, 0.87503582239151, 0.0], [0.0021672777365893126, 0.003254223382100463, 0.061345357447862625, 0.0057940431870520115, 0.025485603138804436, 0.018202777951955795, 0.0074530234560370445, 0.8762977123260498, 0.0]], [[0.023091323673725128, 0.22228990495204926, 0.006662648171186447, 0.0024807441513985395, 0.001983844907954335, 0.007565886247903109, 0.00634255213662982, 0.7295830845832825, 0.0], [0.001944696414284408, 0.0359448567032814, 0.024464253336191177, 0.011700214818120003, 0.0018890248611569405, 0.003711891593411565, 0.0029909030999988317, 0.9173542261123657, 0.0], [0.001645462354645133, 0.0022644030395895243, 0.027077283710241318, 0.04440569505095482, 0.005082306452095509, 0.0018503527389839292, 0.002971859648823738, 0.9147026538848877, 0.0], [0.001384506467729807, 0.0035213083028793335, 0.0017211969243362546, 0.008232471533119678, 0.12066930532455444, 0.004350512754172087, 0.002305235480889678, 0.8578154444694519, 0.0], [0.002621055580675602, 0.0072127715684473515, 0.000503113551530987, 0.004929565824568272, 0.000883726344909519, 0.08210552483797073, 0.010621837340295315, 0.8911223411560059, 0.0], [0.0016358632128685713, 0.0053886426612734795, 0.0012456871336326003, 0.0030842020642012358, 0.003736772807314992, 0.051506273448467255, 0.0372139997780323, 0.8961885571479797, 0.0], [0.0008399650687351823, 0.007574938703328371, 0.0012246901169419289, 0.00459875725209713, 0.0011929844040423632, 0.021797627210617065, 0.014963548630475998, 0.9478074908256531, 0.0], [0.007471340708434582, 0.014363851398229599, 0.006361626088619232, 0.008518433198332787, 0.009753260761499405, 0.011707077734172344, 0.006503751967102289, 0.9353206157684326, 0.0], [0.006408926099538803, 0.013959215022623539, 0.007129166275262833, 0.010844948701560497, 0.009923888370394707, 0.00961233489215374, 0.004591869655996561, 0.9375296235084534, 0.0]], [[0.0016985193360596895, 0.0030564849730581045, 0.0002465462312102318, 0.02317311055958271, 0.11663960665464401, 0.23702694475650787, 0.0018489257199689746, 0.6163098216056824, 0.0], [0.014558079652488232, 0.00211280956864357, 0.003979073371738195, 0.053119294345378876, 0.018300145864486694, 0.05923920124769211, 0.0045631201937794685, 0.8441282510757446, 0.0], [0.005667717661708593, 0.3480970561504364, 0.008694279938936234, 0.001864725025370717, 0.04214935749769211, 0.020625650882720947, 0.0018040230497717857, 0.571097195148468, 0.0], [0.005488522816449404, 0.08465483039617538, 0.004714781418442726, 0.004605748225003481, 0.01606597751379013, 0.002027307404205203, 0.0020549187902361155, 0.8803879022598267, 0.0], [0.00040799801354296505, 0.0012463058810681105, 0.014995339326560497, 0.04966631159186363, 0.0030164113268256187, 0.0018139921594411135, 0.00908567849546671, 0.9197680354118347, 0.0], [5.624017649097368e-05, 0.0012831996427848935, 0.01783084124326706, 0.04819101095199585, 0.006102078594267368, 0.0026627732440829277, 0.013799275271594524, 0.9100745916366577, 0.0], [0.0031807872001081705, 0.0019146651029586792, 0.0041815186850726604, 0.005233579780906439, 0.008461741730570793, 0.008139308542013168, 0.003124426119029522, 0.9657639265060425, 0.0], [0.0009385272278450429, 0.004246573429554701, 0.007023381069302559, 0.00921771489083767, 0.007765619084239006, 0.016345951706171036, 0.022226965054869652, 0.9322352409362793, 0.0], [0.00109983014408499, 0.005100766196846962, 0.006941717583686113, 0.009381933137774467, 0.007898548617959023, 0.015505152754485607, 0.019000086933374405, 0.9350719451904297, 0.0]]]], \"left_text\": [\"Q\", \"K\", \"L\", \"V\", \"F\", \"F\", \"A\", \"<eos>\", \"<pad>\"], \"right_text\": [\"Q\", \"K\", \"L\", \"V\", \"F\", \"F\", \"A\", \"<eos>\", \"<pad>\"]}, {\"name\": \"Decoder\", \"attn\": [[[[1.0, 0.0, 0.0, 0.0, 0.0, 0.0, 0.0, 0.0], [0.0, 1.0, 0.0, 0.0, 0.0, 0.0, 0.0, 0.0], [0.0, 2.4808567277401167e-22, 1.0, 0.0, 0.0, 0.0, 0.0, 0.0], [0.0, 7.6662130441983865e-31, 1.0, 6.766070127948335e-19, 0.0, 0.0, 0.0, 0.0], [0.0, 0.0, 0.0, 6.117858900472503e-40, 1.0, 0.0, 0.0, 0.0], [0.0, 0.0, 0.0, 0.0, 1.0, 7.006492321624085e-45, 0.0, 0.0], [0.0, 0.0, 0.0, 0.0, 0.0, 0.0, 1.0, 0.0], [0.0, 0.0, 0.0, 0.0, 0.0, 0.0, 1.0, 0.0]], [[1.0, 0.0, 0.0, 0.0, 0.0, 0.0, 0.0, 0.0], [1.0, 0.0, 0.0, 0.0, 0.0, 0.0, 0.0, 0.0], [0.0, 1.0, 1.984336200698609e-36, 0.0, 0.0, 0.0, 0.0, 0.0], [0.0, 0.0, 1.0, 1.375071251072834e-35, 0.0, 0.0, 0.0, 0.0], [0.0, 0.0, 0.0, 1.0, 0.0, 0.0, 0.0, 0.0], [0.0, 0.0, 0.0, 0.0, 1.0, 0.0, 0.0, 0.0], [0.0, 0.0, 0.0, 0.0, 0.0, 1.0, 0.0, 0.0], [0.0, 0.0, 0.0, 0.0, 0.0, 0.0, 1.0, 0.0]], [[1.0, 0.0, 0.0, 0.0, 0.0, 0.0, 0.0, 0.0], [0.9576599597930908, 0.04234006628394127, 0.0, 0.0, 0.0, 0.0, 0.0, 0.0], [0.06292805820703506, 0.9161285758018494, 0.02094339393079281, 0.0, 0.0, 0.0, 0.0, 0.0], [0.022362256422638893, 0.07536663860082626, 0.8595830202102661, 0.04268806055188179, 0.0, 0.0, 0.0, 0.0], [0.03619980812072754, 0.0006220238865353167, 0.050911348313093185, 0.8318561315536499, 0.0804106742143631, 0.0, 0.0, 0.0], [0.006565080024302006, 3.5507378015608992e-06, 0.00040662908577360213, 0.05739247798919678, 0.8983779549598694, 0.03725425526499748, 0.0, 0.0], [0.008374590426683426, 9.218956051881833e-07, 2.431643451927812e-06, 0.0006316931103356183, 0.11973530799150467, 0.7439307570457458, 0.12732426822185516, 0.0], [0.015400848351418972, 6.70945428282721e-06, 1.1482584341138136e-06, 1.60190143105865e-06, 0.0009400022099725902, 0.05635923519730568, 0.7885937690734863, 0.13869670033454895]], [[1.0, 0.0, 0.0, 0.0, 0.0, 0.0, 0.0, 0.0], [1.0, 0.0, 0.0, 0.0, 0.0, 0.0, 0.0, 0.0], [0.0, 0.0, 1.0, 0.0, 0.0, 0.0, 0.0, 0.0], [0.0, 0.0, 0.0, 1.0, 0.0, 0.0, 0.0, 0.0], [0.0, 0.0, 0.0, 1.0, 0.0, 0.0, 0.0, 0.0], [0.0, 0.0, 0.0, 0.0, 0.0, 1.0, 0.0, 0.0], [0.0, 0.0, 0.0, 0.0, 0.0, 0.0, 1.0, 0.0], [0.0, 0.0, 0.0, 0.0, 0.0, 0.0, 0.0, 1.0]], [[1.0, 0.0, 0.0, 0.0, 0.0, 0.0, 0.0, 0.0], [0.9997527003288269, 0.0002473281347192824, 0.0, 0.0, 0.0, 0.0, 0.0, 0.0], [0.9308361411094666, 0.06909788399934769, 6.595009472221136e-05, 0.0, 0.0, 0.0, 0.0, 0.0], [0.05297974869608879, 0.8959234356880188, 0.05076735466718674, 0.00032953190384432673, 0.0, 0.0, 0.0, 0.0], [3.8836376916151494e-05, 0.02384207770228386, 0.9474923014640808, 0.028622213751077652, 4.60886258224491e-06, 0.0, 0.0, 0.0], [6.184214806914667e-10, 5.600327881438716e-07, 0.085454560816288, 0.9063146114349365, 0.008230148814618587, 1.2680149552579678e-07, 0.0, 0.0], [2.2658811281516053e-17, 6.56984164878853e-16, 1.0523214299951178e-08, 0.0023879683576524258, 0.9947401881217957, 0.0028718337416648865, 5.151398418945519e-09, 0.0], [8.717194958836039e-27, 2.271103390519077e-27, 1.880822855801702e-19, 1.8141263491422421e-10, 0.011424675583839417, 0.9873712062835693, 0.0012041290756314993, 1.739013794077593e-10]], [[1.0, 0.0, 0.0, 0.0, 0.0, 0.0, 0.0, 0.0], [1.0, 1.622440177576845e-39, 0.0, 0.0, 0.0, 0.0, 0.0, 0.0], [5.038124706586168e-32, 1.0, 3.640969883001691e-18, 0.0, 0.0, 0.0, 0.0, 0.0], [0.0, 6.688804370441996e-25, 1.0, 2.9710147536610165e-11, 0.0, 0.0, 0.0, 0.0], [0.0, 0.0, 6.157068633787855e-29, 1.0, 5.203311748280142e-16, 0.0, 0.0, 0.0], [0.0, 0.0, 0.0, 1.0396461136706388e-28, 1.0, 3.3918355724502285e-29, 0.0, 0.0], [0.0, 0.0, 0.0, 0.0, 2.382440571017106e-16, 1.0, 1.3378886072350334e-21, 0.0], [0.0, 0.0, 0.0, 0.0, 0.0, 1.0591108885866394e-31, 1.0, 1.5614965193434378e-22]], [[1.0, 0.0, 0.0, 0.0, 0.0, 0.0, 0.0, 0.0], [1.0, 4.7082204951123405e-35, 0.0, 0.0, 0.0, 0.0, 0.0, 0.0], [0.0, 0.0, 1.0, 0.0, 0.0, 0.0, 0.0, 0.0], [0.0, 0.0, 1.0, 1.9648108704942548e-15, 0.0, 0.0, 0.0, 0.0], [0.0, 0.0, 4.725470181306127e-15, 1.0, 2.7337888244208524e-36, 0.0, 0.0, 0.0], [0.0, 0.0, 0.0, 0.0, 0.0, 1.0, 0.0, 0.0], [0.0, 0.0, 0.0, 0.0, 0.0, 1.0, 0.0, 0.0], [0.0, 0.0, 0.0, 0.0, 0.0, 1.0, 7.096235511019024e-37, 0.0]], [[1.0, 0.0, 0.0, 0.0, 0.0, 0.0, 0.0, 0.0], [0.21410848200321198, 0.7858915328979492, 0.0, 0.0, 0.0, 0.0, 0.0, 0.0], [0.4689193069934845, 0.09970777481794357, 0.4313729405403137, 0.0, 0.0, 0.0, 0.0, 0.0], [0.5323328971862793, 0.01518351398408413, 0.07595354318618774, 0.37653008103370667, 0.0, 0.0, 0.0, 0.0], [0.39753663539886475, 0.009755939245223999, 0.02027013711631298, 0.08431503176689148, 0.48812228441238403, 0.0, 0.0, 0.0], [0.4478354752063751, 0.011745581403374672, 0.031318549066782, 0.0764039009809494, 0.1261330097913742, 0.30656346678733826, 0.0, 0.0], [0.3947579264640808, 0.007280644029378891, 0.0260393675416708, 0.09014838188886642, 0.13195180892944336, 0.10155238956212997, 0.2482694685459137, 0.0], [0.46597805619239807, 0.010879892855882645, 0.04537464678287506, 0.07337743043899536, 0.07064435631036758, 0.02237190492451191, 0.02606780081987381, 0.2853059470653534]]], [[[1.0, 0.0, 0.0, 0.0, 0.0, 0.0, 0.0, 0.0], [0.9954795837402344, 0.00452036689966917, 0.0, 0.0, 0.0, 0.0, 0.0, 0.0], [0.8685206770896912, 0.1272745281457901, 0.004204839002341032, 0.0, 0.0, 0.0, 0.0, 0.0], [0.9564710855484009, 0.0024042457807809114, 0.005539244506508112, 0.035585470497608185, 0.0, 0.0, 0.0, 0.0], [0.530926525592804, 0.005108471494168043, 0.003434800775721669, 0.4588368833065033, 0.0016932031139731407, 0.0, 0.0, 0.0], [0.5975176095962524, 0.004432098474353552, 0.01184130646288395, 0.2483057826757431, 0.11118187755346298, 0.02672128938138485, 0.0, 0.0], [0.863976776599884, 0.001124324626289308, 0.017828861251473427, 0.08065396547317505, 0.0066911461763083935, 0.020842311903834343, 0.008882683701813221, 0.0], [0.9260956645011902, 0.0012159848120063543, 0.0013474604347720742, 0.0068190377205610275, 0.0036970132496207952, 0.00903455913066864, 0.039483144879341125, 0.012307240627706051]], [[1.0, 0.0, 0.0, 0.0, 0.0, 0.0, 0.0, 0.0], [0.9832155108451843, 0.0167844258248806, 0.0, 0.0, 0.0, 0.0, 0.0, 0.0], [0.887950599193573, 0.10253861546516418, 0.00951081421226263, 0.0, 0.0, 0.0, 0.0, 0.0], [0.5975931286811829, 0.005497659556567669, 0.3743298053741455, 0.022579485550522804, 0.0, 0.0, 0.0, 0.0], [0.7539136409759521, 0.0040139625780284405, 0.05165145918726921, 0.16094675660133362, 0.029474202543497086, 0.0, 0.0, 0.0], [0.8679273128509521, 0.0033520665019750595, 0.04091908782720566, 0.006014244630932808, 0.0742078647017479, 0.007579417433589697, 0.0, 0.0], [0.7976328134536743, 0.005657630506902933, 0.00901593267917633, 0.005557822063565254, 0.03962235152721405, 0.1275743544101715, 0.014939147047698498, 0.0], [0.8676915168762207, 0.009465855546295643, 0.012178846634924412, 0.0012154607102274895, 0.008615928702056408, 0.06023624539375305, 0.03171415254473686, 0.008882050402462482]], [[1.0, 0.0, 0.0, 0.0, 0.0, 0.0, 0.0, 0.0], [0.98848557472229, 0.011514388024806976, 0.0, 0.0, 0.0, 0.0, 0.0, 0.0], [0.9863183498382568, 0.01340986043214798, 0.00027180943288840353, 0.0, 0.0, 0.0, 0.0, 0.0], [0.9625971913337708, 0.026961160823702812, 0.004647106863558292, 0.005794608499854803, 0.0, 0.0, 0.0, 0.0], [0.8903460502624512, 0.0019523447845131159, 0.04310280829668045, 0.05381380766630173, 0.010785086080431938, 0.0, 0.0, 0.0], [0.5473246574401855, 0.0009845226304605603, 0.09835804253816605, 0.03283839672803879, 0.31450867652893066, 0.005985720083117485, 0.0, 0.0], [0.8984814882278442, 0.0015218465123325586, 0.0038870295975357294, 0.03054271638393402, 0.05580638349056244, 0.007957663387060165, 0.0018028832273557782, 0.0], [0.6921517848968506, 0.003499633399769664, 0.0024126810021698475, 0.006111031398177147, 0.04535951465368271, 0.056460149586200714, 0.17771311104297638, 0.0162921454757452]], [[1.0, 0.0, 0.0, 0.0, 0.0, 0.0, 0.0, 0.0], [0.9977230429649353, 0.0022769428323954344, 0.0, 0.0, 0.0, 0.0, 0.0, 0.0], [0.972035825252533, 0.02198922075331211, 0.005974853411316872, 0.0, 0.0, 0.0, 0.0, 0.0], [0.7228218913078308, 0.2614792585372925, 0.008111109025776386, 0.007587746251374483, 0.0, 0.0, 0.0, 0.0], [0.5645841956138611, 0.04027730971574783, 0.35128745436668396, 0.03254340961575508, 0.011307723820209503, 0.0, 0.0, 0.0], [0.2168356478214264, 0.0005865918938070536, 0.017346665263175964, 0.009293702431023121, 0.7526464462280273, 0.0032908949069678783, 0.0, 0.0], [0.5339545011520386, 0.0010560675291344523, 0.039494194090366364, 0.12693166732788086, 0.24873961508274078, 0.04236968979239464, 0.007454313803464174, 0.0], [0.6675162315368652, 0.0030463391449302435, 0.0012854826636612415, 0.0052011157386004925, 0.1290891170501709, 0.15212814509868622, 0.03052251972258091, 0.011210997588932514]], [[1.0, 0.0, 0.0, 0.0, 0.0, 0.0, 0.0, 0.0], [0.985283613204956, 0.014716454781591892, 0.0, 0.0, 0.0, 0.0, 0.0, 0.0], [0.9070826768875122, 0.08021978288888931, 0.012697580270469189, 0.0, 0.0, 0.0, 0.0, 0.0], [0.9200254678726196, 0.002180421259254217, 0.041239552199840546, 0.03655451536178589, 0.0, 0.0, 0.0, 0.0], [0.4085419774055481, 0.004735422786325216, 0.05944196134805679, 0.5237752795219421, 0.003505342872813344, 0.0, 0.0, 0.0], [0.8290573358535767, 0.004967065062373877, 0.014803312718868256, 0.01234525628387928, 0.10045041888952255, 0.0383765734732151, 0.0, 0.0], [0.44361209869384766, 0.0022373655810952187, 0.0017636726843193173, 0.0038785261567682028, 0.021324241533875465, 0.4953858256340027, 0.03179828077554703, 0.0], [0.8879283666610718, 0.004851029720157385, 0.002216914901509881, 0.0014184352476149797, 0.00119828712195158, 0.025934472680091858, 0.0537034310400486, 0.022749051451683044]], [[1.0, 0.0, 0.0, 0.0, 0.0, 0.0, 0.0, 0.0], [0.9961942434310913, 0.0038057449273765087, 0.0, 0.0, 0.0, 0.0, 0.0, 0.0], [0.995241641998291, 0.0025646379217505455, 0.002193665597587824, 0.0, 0.0, 0.0, 0.0, 0.0], [0.9112597703933716, 0.03196783736348152, 0.05158459395170212, 0.005187915172427893, 0.0, 0.0, 0.0, 0.0], [0.8461525440216064, 0.030250461772084236, 0.0957912728190422, 0.011789998970925808, 0.01601566933095455, 0.0, 0.0, 0.0], [0.9500814080238342, 0.0017172228544950485, 0.024682261049747467, 0.004361436702311039, 0.015029539354145527, 0.004128140397369862, 0.0, 0.0], [0.8340150117874146, 0.0012906695483252406, 0.0093914195895195, 0.015805870294570923, 0.11698034405708313, 0.0196978896856308, 0.0028187762945890427, 0.0], [0.6135286688804626, 0.005919869523495436, 0.0034800274297595024, 0.0010444673243910074, 0.06321115791797638, 0.2648521065711975, 0.03898489475250244, 0.008978776633739471]], [[1.0, 0.0, 0.0, 0.0, 0.0, 0.0, 0.0, 0.0], [0.9990447163581848, 0.0009552539559081197, 0.0, 0.0, 0.0, 0.0, 0.0, 0.0], [0.9410741329193115, 0.046876292675733566, 0.012049595825374126, 0.0, 0.0, 0.0, 0.0, 0.0], [0.9174807071685791, 0.06269221752882004, 0.007826550863683224, 0.01200040802359581, 0.0, 0.0, 0.0, 0.0], [0.9681063890457153, 0.003026476362720132, 0.001524015562608838, 0.017378682270646095, 0.00996436458081007, 0.0, 0.0, 0.0], [0.9169861078262329, 0.0036538445856422186, 0.001766679808497429, 0.002049263333901763, 0.06550321727991104, 0.010040883906185627, 0.0, 0.0], [0.8951928615570068, 0.0017010485753417015, 0.0005367116536945105, 0.0005545779131352901, 0.04744870960712433, 0.00840709637850523, 0.04615897685289383, 0.0], [0.6539345979690552, 0.0051076654344797134, 0.0024528088979423046, 0.0005524962907657027, 0.0435185581445694, 0.0129695450887084, 0.2687264382839203, 0.01273795124143362]], [[1.0, 0.0, 0.0, 0.0, 0.0, 0.0, 0.0, 0.0], [0.9972641468048096, 0.00273580988869071, 0.0, 0.0, 0.0, 0.0, 0.0, 0.0], [0.9030501246452332, 0.08858274668455124, 0.008367175236344337, 0.0, 0.0, 0.0, 0.0, 0.0], [0.7198695540428162, 0.2208876758813858, 0.031268540769815445, 0.02797430381178856, 0.0, 0.0, 0.0, 0.0], [0.8811336159706116, 0.00778460968285799, 0.02645029127597809, 0.08250387012958527, 0.0021276569459587336, 0.0, 0.0, 0.0], [0.6240514516830444, 0.009715141728520393, 0.04113457724452019, 0.260613352060318, 0.027566032484173775, 0.036919474601745605, 0.0, 0.0], [0.9253389239311218, 0.001407287665642798, 0.0023896810598671436, 0.006236508022993803, 0.019141189754009247, 0.027810348197817802, 0.017676016315817833, 0.0], [0.6876187324523926, 0.0018347683362662792, 0.0021949755027890205, 0.0013173307524994016, 0.006535564549267292, 0.11224227398633957, 0.165675088763237, 0.02258121967315674]]], [[[1.0, 0.0, 0.0, 0.0, 0.0, 0.0, 0.0, 0.0], [0.9681124091148376, 0.031887561082839966, 0.0, 0.0, 0.0, 0.0, 0.0, 0.0], [0.4323963522911072, 0.5141690969467163, 0.05343452841043472, 0.0, 0.0, 0.0, 0.0, 0.0], [0.3502473533153534, 0.04555075615644455, 0.11132306605577469, 0.492878794670105, 0.0, 0.0, 0.0, 0.0], [0.21661454439163208, 0.0017206479096785188, 0.03073730692267418, 0.7282823324203491, 0.022645192220807076, 0.0, 0.0, 0.0], [0.40228986740112305, 0.00042400360689498484, 0.006410383619368076, 0.019389290362596512, 0.4863514304161072, 0.08513499796390533, 0.0, 0.0], [0.130034402012825, 0.005115948151797056, 0.0007295190589502454, 0.0007072599837556481, 0.003341452218592167, 0.858142077922821, 0.001929391990415752, 0.0], [0.005649239290505648, 0.001215368858538568, 4.674216143030208e-06, 6.437890260713175e-05, 0.0010907199466601014, 0.03177180141210556, 0.9273799657821655, 0.032823819667100906]], [[1.0, 0.0, 0.0, 0.0, 0.0, 0.0, 0.0, 0.0], [0.6403843760490417, 0.35961565375328064, 0.0, 0.0, 0.0, 0.0, 0.0, 0.0], [0.4969860017299652, 0.5021259188652039, 0.0008880876121111214, 0.0, 0.0, 0.0, 0.0, 0.0], [0.1699216365814209, 0.8196037411689758, 0.010013342835009098, 0.00046137606841512024, 0.0, 0.0, 0.0, 0.0], [0.31258898973464966, 0.006172476336359978, 0.054505929350852966, 0.044205520302057266, 0.5825271010398865, 0.0, 0.0, 0.0], [0.009562971070408821, 7.266764441737905e-05, 0.0006926184287294745, 0.0005104133160784841, 0.9886468052864075, 0.0005145034519955516, 0.0, 0.0], [0.031820155680179596, 4.5811557356501e-05, 0.023692572489380836, 0.003658534260466695, 0.9314096570014954, 0.0062866914086043835, 0.0030865499284118414, 0.0], [0.05086612328886986, 0.0008355074096471071, 0.0016507053514942527, 0.0016042989445850253, 0.10352422297000885, 0.011254973709583282, 0.4332086741924286, 0.39705541729927063]], [[1.0, 0.0, 0.0, 0.0, 0.0, 0.0, 0.0, 0.0], [0.955640435218811, 0.04435950145125389, 0.0, 0.0, 0.0, 0.0, 0.0, 0.0], [0.8828866481781006, 0.0008399512735195458, 0.11627332121133804, 0.0, 0.0, 0.0, 0.0, 0.0], [0.6371557712554932, 0.0052472567185759544, 0.19907940924167633, 0.1585175096988678, 0.0, 0.0, 0.0, 0.0], [0.20413294434547424, 0.0017274417914450169, 0.014981033280491829, 0.7403924465179443, 0.03876607120037079, 0.0, 0.0, 0.0], [0.3595886528491974, 0.00038274668622761965, 0.04907557740807533, 0.15913622081279755, 0.10539893060922623, 0.32641780376434326, 0.0, 0.0], [0.07779186964035034, 0.004352092742919922, 0.06335815042257309, 0.009638032875955105, 0.45854106545448303, 0.3812372386455536, 0.0050814710557460785, 0.0], [0.034635238349437714, 0.0016365201445296407, 0.006195686757564545, 0.0002661426260601729, 0.010906166397035122, 0.9237270951271057, 0.0014315793523564935, 0.021201474592089653]], [[1.0, 0.0, 0.0, 0.0, 0.0, 0.0, 0.0, 0.0], [0.6024919152259827, 0.39750802516937256, 0.0, 0.0, 0.0, 0.0, 0.0, 0.0], [0.013035548850893974, 0.9837051630020142, 0.003259311430156231, 0.0, 0.0, 0.0, 0.0, 0.0], [0.00386956543661654, 0.00014535017544403672, 0.9943569302558899, 0.0016280474374070764, 0.0, 0.0, 0.0, 0.0], [0.012548496015369892, 4.340104715083726e-05, 0.00038718662108294666, 0.7316657304763794, 0.25535523891448975, 0.0, 0.0, 0.0], [0.7730218768119812, 0.02181377075612545, 0.0025960328057408333, 0.05353974923491478, 0.07601815462112427, 0.07301034778356552, 0.0, 0.0], [0.006972107104957104, 7.641632691957057e-05, 0.0013853417476639152, 0.00010180863318964839, 0.002565272618085146, 0.9836795926094055, 0.00521957129240036, 0.0], [0.03742654249072075, 0.002971444744616747, 0.028737567365169525, 0.0010624643182381988, 0.0005686010117642581, 0.15433120727539062, 0.2860986292362213, 0.48880356550216675]], [[1.0, 0.0, 0.0, 0.0, 0.0, 0.0, 0.0, 0.0], [0.9962577819824219, 0.0037422834429889917, 0.0, 0.0, 0.0, 0.0, 0.0, 0.0], [0.9795815944671631, 0.01468746829777956, 0.0057308669202029705, 0.0, 0.0, 0.0, 0.0, 0.0], [0.11813420802354813, 0.7658095955848694, 0.11453383415937424, 0.0015224139206111431, 0.0, 0.0, 0.0, 0.0], [0.012266416102647781, 0.00017230641969945282, 0.9842342734336853, 0.003306064521893859, 2.0863128156634048e-05, 0.0, 0.0, 0.0], [0.12420694530010223, 0.0010989602888002992, 0.005670290905982256, 0.7176538109779358, 0.14971980452537537, 0.0016502116341143847, 0.0, 0.0], [0.07942438870668411, 0.001544214435853064, 0.02498939260840416, 0.4918038547039032, 0.20849423110485077, 0.14522486925125122, 0.048519037663936615, 0.0], [0.0012384686851873994, 0.00011414597247494385, 5.2954528655391186e-05, 0.001101010711863637, 0.14670401811599731, 0.7471590638160706, 0.1031954437494278, 0.0004349264781922102]], [[1.0, 0.0, 0.0, 0.0, 0.0, 0.0, 0.0, 0.0], [0.9773524403572083, 0.022647595033049583, 0.0, 0.0, 0.0, 0.0, 0.0, 0.0], [0.8958463072776794, 0.10247471183538437, 0.0016789590008556843, 0.0, 0.0, 0.0, 0.0, 0.0], [0.5256983041763306, 0.003683451097458601, 0.45670464634895325, 0.013913610018789768, 0.0, 0.0, 0.0, 0.0], [0.5932064056396484, 0.004751723725348711, 0.26815786957740784, 0.002800366608425975, 0.1310836225748062, 0.0, 0.0, 0.0], [0.022383123636245728, 0.0004973237519152462, 0.0003374012012500316, 0.011418147012591362, 0.9560398459434509, 0.009324113838374615, 0.0, 0.0], [0.41451790928840637, 0.0013420155737549067, 0.0033724596723914146, 0.3108028471469879, 0.19197283685207367, 0.021862709894776344, 0.05612918734550476, 0.0], [0.045264605432748795, 0.0007499123457819223, 0.0005771918222308159, 0.0016565131954848766, 0.0032013962045311928, 0.0028485606890171766, 0.9427391290664673, 0.002962671685963869]], [[1.0, 0.0, 0.0, 0.0, 0.0, 0.0, 0.0, 0.0], [0.9802496433258057, 0.019750358536839485, 0.0, 0.0, 0.0, 0.0, 0.0, 0.0], [0.11055706441402435, 0.0009111181716434658, 0.8885318636894226, 0.0, 0.0, 0.0, 0.0, 0.0], [0.17536607384681702, 0.0040614246390759945, 0.8191068768501282, 0.001465605921112001, 0.0, 0.0, 0.0, 0.0], [0.3742722272872925, 0.001931436127051711, 0.5435328483581543, 0.07128717005252838, 0.008976339362561703, 0.0, 0.0, 0.0], [0.27618518471717834, 0.0003496543213259429, 0.26894402503967285, 0.43409305810928345, 0.014905955642461777, 0.005521995481103659, 0.0, 0.0], [0.1950726956129074, 0.016175154596567154, 0.35177671909332275, 0.13488273322582245, 0.005986557807773352, 0.0600418783724308, 0.23606425523757935, 0.0], [0.2423359453678131, 0.05300241336226463, 0.03166835010051727, 0.009549224749207497, 0.015093614347279072, 0.028049645945429802, 0.012327340431511402, 0.6079734563827515]], [[1.0, 0.0, 0.0, 0.0, 0.0, 0.0, 0.0, 0.0], [0.9989461302757263, 0.0010539196664467454, 0.0, 0.0, 0.0, 0.0, 0.0, 0.0], [0.6412780284881592, 0.21360798180103302, 0.1451139897108078, 0.0, 0.0, 0.0, 0.0, 0.0], [0.8858706951141357, 0.061845600605010986, 0.03707066923379898, 0.015212999656796455, 0.0, 0.0, 0.0, 0.0], [0.26974037289619446, 0.048687465488910675, 0.06635095179080963, 0.005411750171333551, 0.6098095178604126, 0.0, 0.0, 0.0], [0.3533965051174164, 0.002262693829834461, 0.0007973330211825669, 4.1674396925373e-05, 0.5710155367851257, 0.07248624414205551, 0.0, 0.0], [0.22251184284687042, 0.007042197044938803, 0.011503325775265694, 5.133685772307217e-05, 0.5910860300064087, 0.03971325233578682, 0.12809200584888458, 0.0], [0.03950271010398865, 0.0008826337871141732, 2.614518962218426e-05, 0.0002696366864256561, 0.27313166856765747, 0.020688652992248535, 0.6619071960449219, 0.0035913693718612194]]], [[[1.0, 0.0, 0.0, 0.0, 0.0, 0.0, 0.0, 0.0], [0.9089276790618896, 0.09107238054275513, 0.0, 0.0, 0.0, 0.0, 0.0, 0.0], [0.4857313632965088, 0.47880253195762634, 0.035466112196445465, 0.0, 0.0, 0.0, 0.0, 0.0], [0.8073618412017822, 0.0391751192510128, 0.009517520666122437, 0.14394564926624298, 0.0, 0.0, 0.0, 0.0], [0.16329318284988403, 0.7691207528114319, 0.011607175692915916, 0.05585445091128349, 0.0001243119186256081, 0.0, 0.0, 0.0], [0.20379352569580078, 0.15126308798789978, 0.11076772958040237, 0.01804243214428425, 0.5042489171028137, 0.011884362436830997, 0.0, 0.0], [0.20048260688781738, 0.029325157403945923, 0.20707963407039642, 0.3416883051395416, 0.03308199718594551, 0.0902906209230423, 0.0980517715215683, 0.0], [0.4104434549808502, 0.004846959374845028, 0.0025217137299478054, 0.0010161919053643942, 0.30273720622062683, 0.00681389169767499, 0.159257709980011, 0.112362802028656]], [[1.0, 0.0, 0.0, 0.0, 0.0, 0.0, 0.0, 0.0], [0.986639142036438, 0.013360841199755669, 0.0, 0.0, 0.0, 0.0, 0.0, 0.0], [0.42400676012039185, 0.3488519489765167, 0.227141335606575, 0.0, 0.0, 0.0, 0.0, 0.0], [0.28650030493736267, 0.31444889307022095, 0.2689380943775177, 0.1301126480102539, 0.0, 0.0, 0.0, 0.0], [0.1851090043783188, 0.00027620181208476424, 0.07215064018964767, 0.02718503586947918, 0.7152791023254395, 0.0, 0.0, 0.0], [0.009038354270160198, 0.0001377876178594306, 0.006507751066237688, 0.00498571339994669, 0.9791295528411865, 0.00020084991410840303, 0.0, 0.0], [0.0033583848271518946, 0.00010557724453974515, 0.00130082864779979, 0.0011781229404732585, 0.993841290473938, 0.00015407717728521675, 6.155353912618011e-05, 0.0], [0.14035198092460632, 0.019478829577565193, 0.034490916877985, 0.007303927559405565, 0.6510661840438843, 0.05229600518941879, 0.07836751639842987, 0.016644684597849846]], [[1.0, 0.0, 0.0, 0.0, 0.0, 0.0, 0.0, 0.0], [0.9691373705863953, 0.030862586572766304, 0.0, 0.0, 0.0, 0.0, 0.0, 0.0], [0.7219007611274719, 0.11893567442893982, 0.1591636687517166, 0.0, 0.0, 0.0, 0.0, 0.0], [0.6850113272666931, 0.17324036359786987, 0.1309320479631424, 0.010816308669745922, 0.0, 0.0, 0.0, 0.0], [0.7259353995323181, 0.07367133349180222, 0.07948135584592819, 0.11449848115444183, 0.0064134844578802586, 0.0, 0.0, 0.0], [0.16698522865772247, 0.017640097066760063, 0.014365038834512234, 0.000488442019559443, 0.6433541774749756, 0.15716706216335297, 0.0, 0.0], [0.154941588640213, 0.015710437670350075, 0.6915441155433655, 0.007757248822599649, 0.014359557069838047, 0.10601917654275894, 0.009667863138020039, 0.0], [0.40327441692352295, 0.0024678283371031284, 0.010794083587825298, 0.14747917652130127, 0.03244037926197052, 0.16746991872787476, 0.12596827745437622, 0.110105961561203]], [[1.0, 0.0, 0.0, 0.0, 0.0, 0.0, 0.0, 0.0], [0.9973601698875427, 0.0026398368645459414, 0.0, 0.0, 0.0, 0.0, 0.0, 0.0], [0.9727964997291565, 0.02148710936307907, 0.0057164141908288, 0.0, 0.0, 0.0, 0.0, 0.0], [0.588632345199585, 0.027858857065439224, 0.24171443283557892, 0.14179441332817078, 0.0, 0.0, 0.0, 0.0], [0.13694313168525696, 0.007056967355310917, 0.7983402609825134, 0.023408524692058563, 0.03425110504031181, 0.0, 0.0, 0.0], [0.024985626339912415, 5.019149466534145e-05, 0.001866821781732142, 0.0007261799764819443, 0.8810697793960571, 0.09130142629146576, 0.0, 0.0], [0.03178056702017784, 0.0013582799583673477, 0.002647493267431855, 0.0057340324856340885, 0.46353989839553833, 0.49304839968681335, 0.0018912419909611344, 0.0], [0.16318143904209137, 0.022676873952150345, 0.0350131019949913, 0.003385270945727825, 0.477830171585083, 0.25425752997398376, 0.007569562178105116, 0.0360860601067543]], [[1.0, 0.0, 0.0, 0.0, 0.0, 0.0, 0.0, 0.0], [0.5117851495742798, 0.4882148206233978, 0.0, 0.0, 0.0, 0.0, 0.0, 0.0], [0.476398766040802, 0.5003498792648315, 0.023251326754689217, 0.0, 0.0, 0.0, 0.0, 0.0], [0.15786859393119812, 0.01749873347580433, 0.4289815127849579, 0.3956511318683624, 0.0, 0.0, 0.0, 0.0], [0.008585987612605095, 0.015289431437849998, 0.9563630819320679, 0.0007823205669410527, 0.018979130312800407, 0.0, 0.0, 0.0], [0.637352705001831, 0.08979705721139908, 0.17247195541858673, 0.04216696694493294, 0.04922105371952057, 0.008990183472633362, 0.0, 0.0], [0.02151678130030632, 0.014581345953047276, 0.00031461528851650655, 0.0009936002315953374, 0.6151641011238098, 0.34654146432876587, 0.0008881069952622056, 0.0], [0.39397740364074707, 0.09850261360406876, 0.05296888202428818, 0.04160308092832565, 0.010038875974714756, 0.13078062236309052, 0.19858333468437195, 0.0735451877117157]], [[1.0, 0.0, 0.0, 0.0, 0.0, 0.0, 0.0, 0.0], [0.9812910556793213, 0.0187089741230011, 0.0, 0.0, 0.0, 0.0, 0.0, 0.0], [0.14114563167095184, 0.8583816289901733, 0.00047278410056605935, 0.0, 0.0, 0.0, 0.0, 0.0], [0.22131162881851196, 0.5875489711761475, 0.008053997531533241, 0.1830853968858719, 0.0, 0.0, 0.0, 0.0], [0.006234481930732727, 0.0003871168300975114, 0.0022548455744981766, 0.968917965888977, 0.022205572575330734, 0.0, 0.0, 0.0], [0.022869477048516273, 0.009121660143136978, 0.001552879810333252, 0.741695761680603, 0.0879201665520668, 0.13684013485908508, 0.0, 0.0], [0.19915297627449036, 0.006063925102353096, 0.0050040483474731445, 0.01027645729482174, 0.005425570532679558, 0.3192971348762512, 0.45477989315986633, 0.0], [0.7745933532714844, 0.0005985961179248989, 0.0040394761599600315, 0.11357714980840683, 0.011209568940103054, 0.017616409808397293, 0.07280285656452179, 0.005562581121921539]], [[1.0, 0.0, 0.0, 0.0, 0.0, 0.0, 0.0, 0.0], [0.6779154539108276, 0.32208454608917236, 0.0, 0.0, 0.0, 0.0, 0.0, 0.0], [0.6533519625663757, 0.20631833374500275, 0.1403297632932663, 0.0, 0.0, 0.0, 0.0, 0.0], [0.038565345108509064, 0.9603832960128784, 0.0006087123765610158, 0.00044257196714170277, 0.0, 0.0, 0.0, 0.0], [0.004130192566663027, 0.006705166772007942, 0.0016388131771236658, 0.004526106175035238, 0.9829997420310974, 0.0, 0.0, 0.0], [0.045461878180503845, 0.002373131224885583, 0.0006577885360457003, 0.00029897724743932486, 0.9483485817909241, 0.0028596995398402214, 0.0, 0.0], [0.002449427032843232, 0.00040875442209653556, 4.6649463911307976e-05, 0.019498253241181374, 0.8832848072052002, 0.08834012597799301, 0.005972028244286776, 0.0], [0.13678546249866486, 0.009481088258326054, 0.0029193630907684565, 0.0047372314147651196, 0.38686439394950867, 0.0002448569575790316, 0.013218601234257221, 0.4457489252090454]], [[1.0, 0.0, 0.0, 0.0, 0.0, 0.0, 0.0, 0.0], [0.29775235056877136, 0.7022476196289062, 0.0, 0.0, 0.0, 0.0, 0.0, 0.0], [0.6490616798400879, 0.03004029579460621, 0.32089805603027344, 0.0, 0.0, 0.0, 0.0, 0.0], [0.16023598611354828, 0.03071453981101513, 0.8000297546386719, 0.00901973620057106, 0.0, 0.0, 0.0, 0.0], [0.14993952214717865, 0.0025489600375294685, 0.2604857385158539, 0.584437370300293, 0.0025884807109832764, 0.0, 0.0, 0.0], [0.1241004690527916, 0.0028327994514256716, 0.8600408434867859, 0.012745562009513378, 0.00022745160094927996, 5.2791136113228276e-05, 0.0, 0.0], [0.23382222652435303, 0.09756526350975037, 0.029823554679751396, 0.5479697585105896, 0.06562907993793488, 0.02437085658311844, 0.0008192976238206029, 0.0], [0.5238203406333923, 0.0003271613968536258, 0.011549752205610275, 0.3373531997203827, 0.0037193975877016783, 0.1037672832608223, 0.006815681234002113, 0.01264729630202055]]]], \"left_text\": [\"T\", \"I\", \"V\", \"S\", \"L\", \"G\", \"V\", \"<eos>\"], \"right_text\": [\"T\", \"I\", \"V\", \"S\", \"L\", \"G\", \"V\", \"<eos>\"]}, {\"name\": \"Cross\", \"attn\": [[[[0.8566480875015259, 0.14157675206661224, 0.00011571869254112244, 0.00015780047397129238, 0.00021002563880756497, 0.00012596497253980488, 0.0008230819366872311, 0.0003426106704864651, 0.0], [0.0019886295776814222, 0.9938787817955017, 0.0019860994070768356, 1.97241624846356e-05, 1.1124968750664266e-06, 3.533670906108455e-06, 0.00018105513299815357, 0.0019411880057305098, 0.0], [9.930101805366576e-05, 0.14397528767585754, 0.8441210985183716, 0.009937454015016556, 2.553675528815802e-07, 1.2136135651985569e-08, 6.134303021099186e-07, 0.0018659105990082026, 0.0], [1.183356175715744e-06, 4.8781475925352424e-05, 0.005040408112108707, 0.9917144179344177, 0.002886474598199129, 1.625441967689767e-07, 2.0874431072570587e-09, 0.0003085072385147214, 0.0], [2.076248950544368e-09, 2.469503712632104e-09, 4.5446796548276325e-08, 0.007813222706317902, 0.9813238978385925, 0.010825433768332005, 1.3763590800408565e-07, 3.717683284776285e-05, 0.0], [1.539995355415158e-05, 4.156547959155432e-07, 8.794940775658233e-09, 1.517661303296336e-06, 0.006964933127164841, 0.9525611400604248, 0.03940160945057869, 0.0010549265425652266, 0.0], [3.6748247111972887e-07, 1.6153670401308773e-07, 3.874431331318817e-11, 5.3759405781173e-13, 8.63989046973046e-10, 0.0001722228480502963, 0.9896626472473145, 0.01016461942344904, 0.0], [3.0375456844922155e-05, 0.001629337901249528, 7.048835470868653e-08, 8.6851722645373e-13, 6.603972417881668e-15, 3.410560722727496e-10, 0.011984101496636868, 0.9863561391830444, 0.0]], [[0.4974479377269745, 0.11996177583932877, 0.1550469696521759, 0.000861109874676913, 0.003492584452033043, 0.001285157515667379, 0.004111763089895248, 0.21779267489910126, 0.0], [0.1621582806110382, 0.7359753847122192, 0.02033555693924427, 0.0168137326836586, 0.0020785860251635313, 0.0008846417767927051, 0.0009950820822268724, 0.06075863167643547, 0.0], [0.24330632388591766, 0.1694432497024536, 0.23815901577472687, 0.023126548156142235, 0.008375732228159904, 0.016077717766165733, 0.0028917326126247644, 0.2986196279525757, 0.0], [0.0023229264188557863, 0.01884981244802475, 0.9595346450805664, 0.001046897261403501, 0.00022546235413756222, 0.0003019581490661949, 0.0003075750428251922, 0.017410680651664734, 0.0], [0.0017143257427960634, 0.03726307675242424, 0.042327217757701874, 0.7588425278663635, 0.062070153653621674, 0.014649439603090286, 0.00615872023627162, 0.07697460800409317, 0.0], [0.024407414719462395, 0.005246757064014673, 0.021552525460720062, 0.010831999592483044, 0.06472542136907578, 0.4575962722301483, 0.06405173987150192, 0.3515879213809967, 0.0], [0.000654942006804049, 0.0011108177714049816, 0.001373573555611074, 0.015845490619540215, 0.05359655246138573, 0.34353575110435486, 0.3181400001049042, 0.26574280858039856, 0.0], [0.00511162169277668, 0.005553337745368481, 0.017979610711336136, 0.0008379418286494911, 0.006243348121643066, 0.13962027430534363, 0.29037320613861084, 0.5342806577682495, 0.0]], [[0.18382427096366882, 0.025608722120523453, 0.0028351808432489634, 0.00021298894716892391, 0.0010375428246334195, 0.0030942384619265795, 0.01470481138676405, 0.7686822414398193, 0.0], [0.793197512626648, 0.031395573168992996, 0.004060907289385796, 0.002486020792275667, 0.002849834505468607, 0.00631519453600049, 0.004701720084995031, 0.15499311685562134, 0.0], [0.8620779514312744, 0.1039842888712883, 0.010618903674185276, 0.0007037762552499771, 0.00014063864364288747, 0.0004923584056086838, 0.0030576344579458237, 0.018924420699477196, 0.0], [0.20953376591205597, 0.5026084780693054, 0.2599151134490967, 0.0012286575511097908, 0.0001520765363238752, 8.45820177346468e-05, 0.0007562346290796995, 0.025721101090312004, 0.0], [0.0005967805627733469, 0.023646941408514977, 0.5875135660171509, 0.37211254239082336, 0.009009703993797302, 0.0006675503682345152, 0.00030214281287044287, 0.006150692235678434, 0.0], [0.0014117468381300569, 0.0027375752106308937, 0.10097433626651764, 0.612521231174469, 0.23693203926086426, 0.013331466354429722, 0.0017252585384994745, 0.030366340652108192, 0.0], [0.0006295449566096067, 0.0002844670962076634, 0.012849466875195503, 0.12167536467313766, 0.338664710521698, 0.4665115475654602, 0.03003280609846115, 0.029352139681577682, 0.0], [0.0029789707623422146, 0.0002181969757657498, 0.00024202998611144722, 0.0025301012210547924, 0.023572269827127457, 0.5056849718093872, 0.4384150207042694, 0.02635849453508854, 0.0]], [[0.001364882686175406, 0.6261237263679504, 0.2320604920387268, 0.06209452450275421, 0.05304420366883278, 0.00834291148930788, 0.0003770387847907841, 0.01659216545522213, 0.0], [0.0007966830744408071, 0.014224527403712273, 0.0073113818652927876, 0.44918954372406006, 0.47140082716941833, 0.01146444957703352, 2.898073580581695e-05, 0.04558354988694191, 0.0], [0.005709526129066944, 0.01239619217813015, 0.0010839855531230569, 0.1028805524110794, 0.6298539638519287, 0.12402957677841187, 0.0017846710979938507, 0.12226146459579468, 0.0], [0.04233190789818764, 0.013800251297652721, 0.00040734431240707636, 0.0026428494602441788, 0.1990981251001358, 0.45581328868865967, 0.10498261451721191, 0.18092359602451324, 0.0], [0.014295988716185093, 0.008090044371783733, 0.00039650691905990243, 0.0008384278626181185, 0.0076742954552173615, 0.13979364931583405, 0.5336958169937134, 0.29521530866622925, 0.0], [0.00792450550943613, 0.038378968834877014, 0.03741351515054703, 0.007917235605418682, 0.012116269208490849, 0.027896855026483536, 0.13312304019927979, 0.7352296113967896, 0.0], [0.0026912952307611704, 0.008611823432147503, 0.02601885236799717, 0.020716853439807892, 0.012010441161692142, 0.001496327226050198, 0.026948144659399986, 0.9015063047409058, 0.0], [0.004285546950995922, 0.0035163925494998693, 0.0193613413721323, 0.05059137940406799, 0.1888076663017273, 0.0021276308689266443, 0.001997569343075156, 0.729312539100647, 0.0]], [[0.6775115728378296, 0.018100555986166, 0.22062928974628448, 0.0007762090535834432, 0.0023658087011426687, 0.005188583862036467, 0.002479777904227376, 0.07294826954603195, 0.0], [0.016962336376309395, 0.17120523750782013, 0.7995418906211853, 0.0015302908141165972, 4.609545794664882e-05, 1.0571595339570194e-05, 0.0017966794548556209, 0.008907012641429901, 0.0], [0.3246557116508484, 0.03410390019416809, 0.374747633934021, 0.03345121070742607, 0.008764571510255337, 0.006342187523841858, 0.002691742032766342, 0.21524305641651154, 0.0], [0.025995051488280296, 0.009761820547282696, 0.5570268630981445, 0.03520458936691284, 0.14814338088035583, 0.037522658705711365, 0.001823166268877685, 0.18452240526676178, 0.0], [0.00022136089683044702, 0.013081722892820835, 0.013562309555709362, 0.06196988373994827, 0.216737300157547, 0.10049407929182053, 0.1887364387512207, 0.405196875333786, 0.0], [0.00010493107401998714, 0.0004477925831452012, 0.0034647902939468622, 0.00047614204231649637, 0.08513486385345459, 0.7361457943916321, 0.049175798892974854, 0.12504984438419342, 0.0], [0.0006445381441153586, 0.007085979916155338, 0.00022178726794663817, 0.0074715809896588326, 0.011518189683556557, 0.23043569922447205, 0.2800484001636505, 0.4625738263130188, 0.0], [0.00369410146959126, 0.00149395817425102, 0.028902634978294373, 0.00017439917428418994, 0.0009630451677367091, 0.03478126600384712, 0.3740834593772888, 0.5559071898460388, 0.0]], [[0.04730677232146263, 0.3055632412433624, 0.11227650940418243, 0.32156577706336975, 0.028909554705023766, 0.0044112359173595905, 0.0010976920602843165, 0.17886918783187866, 0.0], [0.40398073196411133, 0.027193583548069, 0.4183158874511719, 0.02711939625442028, 0.011766725219786167, 0.0018890934297814965, 0.012310515157878399, 0.09742407500743866, 0.0], [0.29590097069740295, 0.07927311956882477, 0.08009101450443268, 0.06851459294557571, 0.3091413378715515, 0.02600056864321232, 0.06226649135351181, 0.07881201803684235, 0.0], [0.05142708867788315, 0.007966808043420315, 0.28755953907966614, 0.3131561279296875, 0.01593802310526371, 0.11303482949733734, 0.005708091892302036, 0.20520949363708496, 0.0], [0.11167094856500626, 0.05654602125287056, 0.04376409575343132, 0.13740728795528412, 0.034401558339595795, 0.08697979152202606, 0.09586945921182632, 0.43336087465286255, 0.0], [0.0003238365170545876, 0.0018031462095677853, 0.006714026443660259, 0.10788900405168533, 0.2735903859138489, 0.11648132652044296, 0.10883906483650208, 0.3843591511249542, 0.0], [0.00046913683763705194, 0.005868272390216589, 0.0017254343256354332, 0.016029588878154755, 0.001464918488636613, 0.045390453189611435, 0.1651294231414795, 0.7639228105545044, 0.0], [0.007889947853982449, 0.0014704596251249313, 0.01000165194272995, 0.007079265546053648, 0.0013975928304716945, 0.05208555608987808, 0.26753032207489014, 0.6525452136993408, 0.0]], [[0.009533889591693878, 1.724693902360741e-05, 1.2690877156273928e-05, 4.582856854540296e-05, 0.00021943633328191936, 1.6355801562895067e-05, 0.00012988581147510558, 0.9900246858596802, 0.0], [0.9882113337516785, 0.005691236350685358, 2.79768410109682e-05, 2.8516053589555668e-06, 2.1492348878382472e-06, 6.05006716796197e-05, 0.005124382209032774, 0.0008795919129624963, 0.0], [0.1705842912197113, 0.8280898332595825, 0.0005066058365628123, 9.809052698983578e-07, 3.2772824454241345e-08, 2.1235423730558978e-07, 7.860537152737379e-05, 0.0007394933491013944, 0.0], [0.0038571434561163187, 0.17496368288993835, 0.7767688035964966, 0.009550856426358223, 2.5926919988705777e-05, 2.1000904837364942e-07, 7.451412966474891e-05, 0.03475888445973396, 0.0], [6.4180121626122855e-06, 3.297189323347993e-05, 0.016203509643673897, 0.9548854827880859, 0.019975412636995316, 3.1109459087019786e-05, 1.3789994000035222e-06, 0.008863731287419796, 0.0], [8.80832303664647e-05, 5.37505957254325e-06, 4.848677690461045e-06, 0.12678076326847076, 0.7857766151428223, 0.07025870680809021, 0.00017933882190845907, 0.016906164586544037, 0.0], [2.9223696401459165e-05, 1.7608694236059819e-07, 2.0408157386242465e-09, 7.703843948547728e-06, 0.04323257878422737, 0.918993353843689, 0.03618352860212326, 0.0015534478006884456, 0.0], [9.324702114099637e-05, 1.239479615833261e-06, 1.648227387907042e-11, 8.223064590362483e-11, 2.944218806533172e-07, 0.0009390669292770326, 0.9979076385498047, 0.0010584606789052486, 0.0]], [[4.069534770678729e-05, 2.8630514862015843e-05, 2.0042733012815006e-05, 0.0017879692604765296, 0.9938574433326721, 0.003631920786574483, 2.1450465283123776e-05, 0.000611873110756278, 0.0], [0.04428638517856598, 0.03938031941652298, 0.010558748617768288, 0.08998208492994308, 0.6945963501930237, 0.05578077211976051, 0.00044895653263665736, 0.06496637314558029, 0.0], [0.0011115408269688487, 0.022985374554991722, 0.04415339604020119, 0.02640172466635704, 0.8712374567985535, 0.012415026314556599, 0.00015743020048830658, 0.021538008004426956, 0.0], [0.00011663943587336689, 0.00031005285563878715, 0.0012058477150276303, 0.03325445204973221, 0.8070560693740845, 0.14130264520645142, 6.726056744810194e-05, 0.01668698340654373, 0.0], [5.9101847000420094e-05, 1.1172254744451493e-05, 0.00014617708802688867, 0.04548206925392151, 0.7676811218261719, 0.1496923267841339, 0.0008924078429117799, 0.036035604774951935, 0.0], [1.2963251720066182e-05, 2.0119337932555936e-05, 7.519104838138446e-05, 0.0023041970562189817, 0.6072311401367188, 0.32363152503967285, 0.02723090909421444, 0.03949393704533577, 0.0], [2.1664593077730387e-05, 0.00012647497351281345, 4.964838080923073e-05, 0.0024066960904747248, 0.0023508991580456495, 0.020529737696051598, 0.782459557056427, 0.19205531477928162, 0.0], [0.0005599394207820296, 0.00010555663175182417, 0.00013130948354955763, 0.0009993939893320203, 0.05077730491757393, 0.4700658917427063, 0.042220260947942734, 0.43514037132263184, 0.0]]], [[[8.303958020405844e-05, 0.00045802973909303546, 0.6344191431999207, 0.3594902753829956, 0.00041313315159641206, 4.909358176519163e-05, 3.317127266200259e-05, 0.00505418935790658, 0.0], [9.94117435766384e-05, 0.00030822868575342, 0.14333315193653107, 0.8101341128349304, 0.005412825383245945, 0.0007979609072208405, 0.0008332300349138677, 0.03908097743988037, 0.0], [0.0008439351804554462, 0.0005073638749308884, 0.003225651802495122, 0.007678693160414696, 0.044016383588314056, 0.05930463224649429, 0.042852189391851425, 0.8415711522102356, 0.0], [6.9977018029021565e-06, 7.0544692789553665e-06, 3.817864126176573e-05, 0.0001872024149633944, 0.002088044537231326, 0.6135746836662292, 0.06513376533985138, 0.3189640939235687, 0.0], [0.0002022504631895572, 0.0001800616446416825, 0.0010184049606323242, 0.0004654882359318435, 0.004194797482341528, 0.08300376683473587, 0.34374484419822693, 0.5671903491020203, 0.0], [0.0005025184946134686, 0.00022263688151724637, 0.0004722764133475721, 0.00020684821356553584, 0.02115972340106964, 0.009645074605941772, 0.24342963099479675, 0.7243613004684448, 0.0], [0.0002920632541645318, 0.00011137298861285672, 0.0014868649886921048, 0.0027934780810028315, 0.13478730618953705, 0.15147438645362854, 0.011259413324296474, 0.6977950930595398, 0.0], [0.0004634158394765109, 0.00035366922384127975, 0.0005724250222556293, 0.0029820187482982874, 0.015257163904607296, 0.028090260922908783, 0.018775001168251038, 0.9335060715675354, 0.0]], [[3.320156515716746e-23, 1.753024378870346e-42, 0.0, 4.949312894139179e-34, 1.0228310627710739e-32, 0.0, 0.0, 1.0, 0.0], [1.0, 1.5569644640396618e-14, 4.708061504909617e-34, 1.1312964555849148e-36, 2.8044066317327124e-24, 7.337345825592177e-15, 7.558626467785157e-12, 1.6251164199853656e-17, 0.0], [5.351795395736048e-13, 1.0, 2.423495015779764e-10, 3.1221999823659565e-31, 2.8673789566553704e-40, 4.61481587470812e-34, 1.011567178199427e-16, 3.4308548404749527e-18, 0.0], [1.0995008039512321e-30, 6.389876475165757e-12, 1.0, 1.0472758077417765e-11, 1.273877491573681e-30, 1.2202217350921962e-36, 4.440675729609835e-30, 1.1920435701004209e-18, 0.0], [2.950226569433877e-31, 1.1396327385005792e-24, 5.516814227668476e-10, 1.0, 1.3630813491816163e-11, 5.8308109495386485e-24, 5.62178762687538e-31, 4.30935042950832e-18, 0.0], [5.775648439804792e-29, 8.877259869012989e-32, 2.747376603121529e-22, 4.554547956558963e-07, 0.9999994039535522, 1.4561361183496047e-07, 4.98179651602185e-26, 4.956059588428611e-17, 0.0], [7.255849205091688e-22, 2.1863348569361956e-30, 1.0465107077021677e-34, 1.781120227130012e-25, 1.0631220348500392e-09, 1.0, 7.07249016296263e-12, 1.309020916191912e-15, 0.0], [3.5516581342598386e-10, 1.2206048671803416e-11, 2.2247682945854658e-21, 8.030154888286869e-27, 1.8435896146613575e-20, 8.212624180714556e-08, 0.9999998807907104, 3.0208432977296695e-10, 0.0]], [[1.4925663786510834e-12, 2.973661139549222e-08, 1.0, 1.0863349282630441e-11, 9.648418712504808e-19, 7.898294497077804e-22, 5.0501366394392795e-15, 1.5927288248453418e-18, 0.0], [0.003966598771512508, 0.0006263665854930878, 0.01661885716021061, 0.8813760280609131, 0.07575871795415878, 3.213249510736205e-05, 1.4652688150817994e-05, 0.021606706082820892, 0.0], [0.0028965016826987267, 0.006903514266014099, 0.00017037594807334244, 0.008614104241132736, 0.9310901165008545, 0.008424847386777401, 0.00012982673069927841, 0.04177069664001465, 0.0], [0.003325382713228464, 0.009293654933571815, 0.00011888312292285264, 0.0005409501609392464, 0.019843369722366333, 0.3582146167755127, 0.13471226394176483, 0.4739508628845215, 0.0], [0.00499991187825799, 0.03076176717877388, 0.0005779183702543378, 0.0005772458389401436, 0.0011529012117534876, 0.02590600587427616, 0.054285671561956406, 0.8817386031150818, 0.0], [0.0001745429472066462, 0.009581081569194794, 0.0009257992496713996, 0.0006180426571518183, 6.159138138173148e-05, 0.006234748288989067, 0.010881872847676277, 0.9715223908424377, 0.0], [0.010421025566756725, 0.0037722771521657705, 0.0005080779083073139, 0.004923800006508827, 0.0008982543367892504, 0.0009681376977823675, 0.0024330313317477703, 0.9760754108428955, 0.0], [0.03578194975852966, 0.02211397886276245, 0.000859519699588418, 0.004531601909548044, 0.01328878290951252, 0.004980397876352072, 0.0007898857002146542, 0.9176538586616516, 0.0]], [[0.014321085065603256, 0.9713633060455322, 0.004126136656850576, 0.0004668894980568439, 4.20401556766592e-05, 0.00023182785662356764, 0.0021056353580206633, 0.007343084551393986, 0.0], [1.2558801245177165e-05, 0.09409499913454056, 0.8787543177604675, 0.026324095204472542, 1.2585873321313557e-07, 5.165790906147549e-09, 1.9368310404388467e-06, 0.0008120558923110366, 0.0], [0.0005329828709363937, 0.00019937170145567507, 0.00646563433110714, 0.943354606628418, 0.03820733726024628, 8.766917744651437e-06, 1.67580736842865e-07, 0.01123116910457611, 0.0], [0.00029828501283191144, 1.014033045976248e-06, 1.252869651580113e-06, 0.01670464314520359, 0.8802095055580139, 0.08410198241472244, 4.2121869228139985e-06, 0.018679065629839897, 0.0], [0.000166643105330877, 2.061544819298433e-06, 4.6411642529164965e-07, 1.4243772966437973e-05, 0.00960821844637394, 0.9528911709785461, 0.022048769518733025, 0.015268497169017792, 0.0], [2.174552946598851e-06, 1.1216501661692746e-05, 4.494715994951548e-07, 5.6223001365651726e-08, 1.5568272146992967e-06, 0.0025540317874401808, 0.7207891941070557, 0.276641309261322, 0.0], [1.9212206098018214e-05, 0.0009519461309537292, 0.0008523825090378523, 5.120507012179587e-06, 1.530069759780872e-08, 3.728882802533917e-05, 0.015017140656709671, 0.983116865158081, 0.0], [1.1748184988391586e-05, 0.00020629122445825487, 0.0009174608276225626, 0.0026669122744351625, 1.5481464288313873e-05, 7.041134267637972e-06, 6.2681341660209e-05, 0.9961124062538147, 0.0]], [[0.22721914947032928, 0.7133192420005798, 0.012082063592970371, 0.02025415748357773, 0.0006029175710864365, 0.00012694575707428157, 0.01449616439640522, 0.011899355798959732, 0.0], [0.0005528015899471939, 0.5395759344100952, 0.3595610558986664, 0.0950116291642189, 7.804402412148193e-05, 1.9924062144127674e-05, 0.0014425134286284447, 0.0037581436336040497, 0.0], [0.0007482231594622135, 0.00788626354187727, 0.001985612092539668, 0.9416998028755188, 0.028070753440260887, 0.00040138931944966316, 0.0004218996618874371, 0.018786005675792694, 0.0], [0.0027716890908777714, 0.001239302451722324, 0.00022492579591926187, 0.29525527358055115, 0.2549198269844055, 0.0034466951619833708, 0.015619475394487381, 0.42652270197868347, 0.0], [0.00275228638201952, 0.0002165610931115225, 0.0030158155132085085, 0.16123084723949432, 0.10245484858751297, 0.03187140077352524, 0.18882128596305847, 0.5096369981765747, 0.0], [0.0012425233144313097, 0.007086172699928284, 0.00012235812027938664, 0.0008311104611493647, 0.01211222168058157, 0.07457426935434341, 0.30830055475234985, 0.5957307815551758, 0.0], [7.094175089150667e-05, 0.00047221287968568504, 0.0004923060769215226, 0.0013727180194109678, 0.0001335710403509438, 0.010334995575249195, 0.3656325042247772, 0.6214907765388489, 0.0], [0.0014253752306103706, 0.009689075872302055, 0.0030559159349650145, 0.023080876097083092, 0.0009323746780864894, 0.006358894985169172, 0.43069976568222046, 0.5247577428817749, 0.0]], [[0.8369686007499695, 0.04087137058377266, 0.07239875197410583, 0.0005168007337488234, 0.02130122110247612, 0.0060079083777964115, 4.898563929600641e-05, 0.02188628353178501, 0.0], [0.4922209680080414, 0.009624782018363476, 0.08532548695802689, 0.004664156120270491, 0.21067044138908386, 0.02175774984061718, 0.006733905989676714, 0.16900251805782318, 0.0], [0.0070970323868095875, 0.7134100794792175, 0.012090208008885384, 0.002196570159867406, 0.16438637673854828, 0.05037202686071396, 0.002975685754790902, 0.0474720299243927, 0.0], [0.0019322026055306196, 0.9483952522277832, 0.004034669138491154, 0.0006724167033098638, 0.023101454600691795, 0.007739033084362745, 0.0007327895727939904, 0.013392128981649876, 0.0], [0.12849530577659607, 0.4388194680213928, 0.11730464547872543, 0.036222197115421295, 0.01203598827123642, 0.01978951133787632, 0.041506096720695496, 0.20582683384418488, 0.0], [0.0019623993430286646, 0.1422194540500641, 0.20439490675926208, 0.24491001665592194, 0.06980331987142563, 0.020109549164772034, 0.012388430535793304, 0.30421194434165955, 0.0], [0.011901984922587872, 0.013978135772049427, 0.28252553939819336, 0.019812610000371933, 0.03230525180697441, 0.3319404423236847, 0.028687989339232445, 0.2788480520248413, 0.0], [0.062318988144397736, 0.021699946373701096, 0.02828778512775898, 0.04176076874136925, 0.11564944684505463, 0.23387378454208374, 0.1609281450510025, 0.33548107743263245, 0.0]], [[2.0907314311860786e-31, 2.800004038463719e-23, 1.0, 7.388056470027173e-26, 9.056591974931293e-41, 2.6100585196514043e-41, 1.7343164658811655e-30, 7.733096227731925e-30, 0.0], [4.496109498705776e-14, 7.053427052056995e-16, 7.950028829695199e-11, 1.0, 4.4769546292400264e-08, 4.4304311226325656e-26, 6.7934223117343226e-37, 4.319152649014044e-21, 0.0], [1.8099120292769388e-12, 6.593170291408629e-14, 1.0513411818809166e-17, 9.39848021630496e-09, 0.9999997615814209, 1.8547540037161525e-07, 2.6219072790259427e-21, 3.6842005090269173e-16, 0.0], [5.611858634041456e-13, 1.1294735085360871e-13, 6.6472593492898595e-21, 1.382282619267898e-20, 2.3999380260875114e-08, 0.9999549388885498, 4.5049964683130383e-05, 1.6720611561993337e-09, 0.0], [2.450218305159735e-13, 1.2855936747015878e-13, 8.558003172848111e-18, 1.932169834147534e-24, 4.9110323659209864e-20, 1.025126081799499e-07, 0.9999949932098389, 4.90776619699318e-06, 0.0], [1.5985344603564045e-08, 1.572629138024695e-08, 8.638600251797968e-11, 1.7398957071001305e-19, 4.242507074924064e-22, 2.2860611176961886e-14, 0.002402310026809573, 0.9975976347923279, 0.0], [0.0002052886557066813, 4.0555249142926186e-05, 2.4269345644256646e-08, 3.096853676276545e-11, 3.252242632102373e-14, 5.465608305153319e-18, 2.1076341355768385e-14, 0.9997541308403015, 0.0], [0.44430777430534363, 0.24988988041877747, 2.7725807285605697e-06, 0.0003497408179100603, 0.00578240305185318, 9.78297554077301e-10, 4.387963787894772e-13, 0.29966744780540466, 0.0]], [[0.45458903908729553, 0.19437330961227417, 0.006200903560966253, 0.00366047746501863, 0.011521878652274609, 0.0033437954261898994, 0.0014418185455724597, 0.3248688280582428, 0.0], [0.15661115944385529, 0.3062637150287628, 0.005062550771981478, 0.0025975292082875967, 0.0640949159860611, 0.012346300296485424, 0.004363748710602522, 0.44866007566452026, 0.0], [0.055707208812236786, 0.3597736954689026, 0.36000555753707886, 0.0017414186149835587, 0.0002033970959018916, 0.00021861745335627347, 0.02841712348163128, 0.19393296539783478, 0.0], [0.014055673032999039, 0.1928340196609497, 0.6610445976257324, 0.028036031872034073, 0.000734554894734174, 8.523866563336924e-05, 0.0008874867344275117, 0.10232242196798325, 0.0], [0.0012378802057355642, 0.06370356678962708, 0.19423136115074158, 0.1411409229040146, 0.49164071679115295, 0.023350995033979416, 0.002050620736554265, 0.08264387398958206, 0.0], [0.002841911045834422, 0.001219810452312231, 0.020752811804413795, 0.35839396715164185, 0.45209240913391113, 0.0786694660782814, 0.02372777834534645, 0.06230192258954048, 0.0], [0.025499429553747177, 0.008593697100877762, 0.0004351547104306519, 0.049856655299663544, 0.0573236458003521, 0.6360328793525696, 0.049076855182647705, 0.1731816530227661, 0.0], [0.01927778869867325, 0.021075870841741562, 0.0035123429261147976, 0.008086219429969788, 0.010531186126172543, 0.33025529980659485, 0.5304774641990662, 0.07678379863500595, 0.0]]], [[[7.389087841147557e-05, 0.00018483673920854926, 0.017145363613963127, 0.9672859907150269, 0.00803092960268259, 0.00013324899191502482, 2.450737611070508e-06, 0.007143145892769098, 0.0], [0.0007159642409533262, 8.724271538085304e-06, 4.924726454191841e-06, 0.013149140402674675, 0.9727029800415039, 0.012843707576394081, 1.4468737390416209e-05, 0.0005600799340754747, 0.0], [6.751815089955926e-05, 3.3156038625747897e-06, 5.139173026691424e-06, 2.356355616939254e-05, 0.0001681244175415486, 0.9470673203468323, 0.010642945766448975, 0.04202215000987053, 0.0], [9.380873234476894e-05, 8.118391269817948e-05, 7.105291297193617e-05, 1.3903932085668202e-05, 6.607372051803395e-05, 0.14275594055652618, 0.09304280579090118, 0.7638752460479736, 0.0], [0.00044628707109950483, 0.0002237749722553417, 0.0003362138522788882, 7.135028135962784e-05, 8.314997830893844e-05, 5.709955075872131e-05, 0.03927604481577873, 0.9595061540603638, 0.0], [0.00040171394357457757, 0.00010294782259734347, 0.00022081386123318225, 0.0001908851700136438, 0.0003428126801736653, 4.5177392166806385e-05, 0.004000674933195114, 0.9946950078010559, 0.0], [0.00032944019767455757, 0.0020932217594236135, 0.009451334364712238, 0.002701552351936698, 0.0018876196118071675, 0.00048679791507311165, 0.003706564661115408, 0.9793435335159302, 0.0], [0.004311613738536835, 0.049760252237319946, 0.05076131224632263, 0.0015431531937792897, 0.008114141412079334, 0.0047881221398711205, 0.0011211219243705273, 0.8796002864837646, 0.0]], [[0.0001555757480673492, 0.02354537509381771, 0.9695655107498169, 0.0016938339686021209, 0.0003597430477384478, 5.648019214277156e-05, 3.482020110823214e-05, 0.004588743206113577, 0.0], [0.00886713620275259, 0.00045898021198809147, 0.08102802187204361, 0.7521423697471619, 0.1301153600215912, 0.004625884350389242, 9.40397585509345e-05, 0.022668229416012764, 0.0], [0.003596572671085596, 0.0014362526126205921, 0.04188503324985504, 0.08458641916513443, 0.3955517113208771, 0.019933316856622696, 0.0024372392799705267, 0.4505734145641327, 0.0], [4.379510210128501e-05, 7.750539953121915e-05, 0.0006426554173231125, 0.0001566957653267309, 0.010328078642487526, 0.28647953271865845, 0.014964550733566284, 0.6873071789741516, 0.0], [7.376453868346289e-05, 0.0005609974032267928, 0.0005709349643439054, 5.1076051022391766e-05, 0.0006579761393368244, 0.3062829375267029, 0.011730212718248367, 0.6800720691680908, 0.0], [8.376649930141866e-05, 0.004260467365384102, 2.4473878511344083e-05, 5.718510874430649e-05, 0.0012396733509376645, 0.005003004334867001, 0.04369961842894554, 0.9456318020820618, 0.0], [0.0002651334216352552, 0.0026336635928601027, 0.0004006901872344315, 0.00027170320390723646, 0.003889610292389989, 0.0039796424098312855, 0.007921120151877403, 0.9806384444236755, 0.0], [8.679928578203544e-05, 8.718405297258869e-05, 0.0005419247318059206, 0.0028941058553755283, 0.01656409353017807, 0.010049262084066868, 0.0013848525704815984, 0.9683918356895447, 0.0]], [[0.0011447356082499027, 0.000758258393034339, 0.02420416846871376, 0.008180818520486355, 0.9409728050231934, 0.016671737655997276, 0.00013721946743316948, 0.00793026015162468, 0.0], [0.003029625630006194, 0.0001289485808229074, 0.0007539770449511707, 4.758034265250899e-05, 0.055457595735788345, 0.8457767963409424, 0.03476094454526901, 0.06004448980093002, 0.0], [0.23822589218616486, 0.0025991653092205524, 0.0011112162610515952, 0.0028898734599351883, 0.053590040653944016, 0.30996236205101013, 0.11830241978168488, 0.2733190357685089, 0.0], [0.002554656472057104, 0.00018717735656537116, 8.126594184432179e-05, 9.889399370877072e-05, 0.005337658803910017, 0.30331340432167053, 0.006661004852503538, 0.6817659735679626, 0.0], [0.014132223092019558, 0.0026239946018904448, 0.005524863488972187, 0.00038538710214197636, 0.002141763688996434, 0.02696489542722702, 0.0013085434911772609, 0.9469183087348938, 0.0], [1.8262477169628255e-05, 0.00013978316565044224, 0.00019481645722407848, 0.010756120085716248, 0.00034568452974781394, 0.0063945394940674305, 0.005606731865555048, 0.9765440225601196, 0.0], [0.0017334342701360583, 0.0018606499070301652, 0.011914708651602268, 0.03819660469889641, 0.043521780520677567, 0.005503169260919094, 0.034133121371269226, 0.8631365299224854, 0.0], [0.00011989558697678149, 0.0003836561809293926, 0.0006173258880153298, 0.04836275056004524, 0.0002253400016343221, 0.006375409197062254, 0.03317135199904442, 0.910744309425354, 0.0]], [[0.5946072340011597, 0.07358191162347794, 0.10419300943613052, 0.0027924389578402042, 0.02470078505575657, 0.041339676827192307, 0.032130662351846695, 0.12665437161922455, 0.0], [0.6817650198936462, 0.0016592732863500714, 0.18292683362960815, 0.00020163362205494195, 0.001099359360523522, 0.01772804744541645, 0.06422745436429977, 0.050392333418130875, 0.0], [0.18610893189907074, 0.262905091047287, 0.3304149806499481, 0.0013126201229169965, 0.00023909102310426533, 0.003951129969209433, 0.06811568886041641, 0.14695246517658234, 0.0], [0.009356766007840633, 0.049956366419792175, 0.8070741891860962, 0.004244897980242968, 0.0008157190168276429, 0.0038093936163932085, 0.0002798937784973532, 0.12446286529302597, 0.0], [0.00015346906729973853, 0.0002561802975833416, 0.9297688603401184, 0.0001971264136955142, 0.0012957631843164563, 0.004159581381827593, 0.0015764301642775536, 0.06259247660636902, 0.0], [0.008795167319476604, 0.06599617749452591, 0.038941506296396255, 0.03736996650695801, 0.04610184207558632, 0.17987202107906342, 0.027662979438900948, 0.5952603816986084, 0.0], [0.001514505478553474, 0.00033497827826067805, 0.07294032722711563, 0.17399603128433228, 0.028057653456926346, 0.3331230878829956, 0.07337392121553421, 0.31665951013565063, 0.0], [3.919710798072629e-05, 5.557649637921713e-05, 0.0003871880762744695, 0.0024558010045439005, 0.0069320593029260635, 0.9356045722961426, 0.041157316416502, 0.013368330895900726, 0.0]], [[0.03118288330733776, 0.004928924608975649, 0.002856712555512786, 0.017094716429710388, 0.5740852355957031, 0.2318606674671173, 0.04799288138747215, 0.08999807387590408, 0.0], [0.028844203799962997, 0.0735216960310936, 0.10611365735530853, 0.012229281477630138, 0.002467036945745349, 0.20064698159694672, 0.4064360558986664, 0.16974104940891266, 0.0], [0.0024970180820673704, 0.023319575935602188, 0.004790483508259058, 0.003018458839505911, 0.020417220890522003, 0.0071912542916834354, 0.0061948723159730434, 0.9325711727142334, 0.0], [0.0003687702992465347, 0.06000932678580284, 0.0037748145405203104, 8.014640479814261e-05, 0.007364333141595125, 0.011226193979382515, 0.0031919691246002913, 0.913984477519989, 0.0], [0.003153040772303939, 0.0946243405342102, 0.01608653925359249, 0.014727524481713772, 0.15896357595920563, 0.034834444522857666, 0.02395642362535, 0.6536540389060974, 0.0], [0.008907848969101906, 0.00479590380564332, 0.004141912329941988, 0.04339972138404846, 0.344364732503891, 0.055415306240320206, 0.016841234639286995, 0.5221332907676697, 0.0], [0.004773992113769054, 0.04370516538619995, 0.03020324744284153, 0.3648587763309479, 0.04509530961513519, 0.18965882062911987, 0.05564512312412262, 0.2660595774650574, 0.0], [0.0017588100163266063, 0.005316338036209345, 0.00165093457326293, 0.007444028742611408, 0.03846035152673721, 0.27331921458244324, 0.23760291934013367, 0.43444743752479553, 0.0]], [[0.3800463080406189, 0.09588269889354706, 0.04888692498207092, 0.35321006178855896, 0.009325656108558178, 0.0073829335160553455, 0.002924539614468813, 0.10234081000089645, 0.0], [0.006450660992413759, 0.6508159041404724, 0.029127202928066254, 0.05455219745635986, 0.037383925169706345, 0.08011039346456528, 0.01368830818682909, 0.12787137925624847, 0.0], [0.09280278533697128, 0.30105358362197876, 0.05586930736899376, 0.02979428321123123, 0.07162120193243027, 0.03816263750195503, 0.002794927451759577, 0.4079013168811798, 0.0], [0.07825402170419693, 0.03814546391367912, 0.005869808606803417, 0.18409591913223267, 0.1397310346364975, 0.05136391520500183, 0.02568894624710083, 0.47685086727142334, 0.0], [0.00976209994405508, 0.02773970365524292, 0.02185816317796707, 0.03366754576563835, 0.012674197554588318, 0.01569446176290512, 0.1118689477443695, 0.7667348980903625, 0.0], [0.0017581852152943611, 0.014965678565204144, 0.0021971301175653934, 0.011870733462274075, 0.018350515514612198, 0.037559155374765396, 0.1795579195022583, 0.7337406873703003, 0.0], [0.0014121875865384936, 0.01596442610025406, 0.004084124695509672, 0.011313002556562424, 0.004588492214679718, 0.007039682008326054, 0.5752949118614197, 0.38030320405960083, 0.0], [0.0021993471309542656, 0.001879208954051137, 0.002256444888189435, 0.0071674520149827, 0.015657849609851837, 0.11902080476284027, 0.5422948598861694, 0.3095241189002991, 0.0]], [[0.007850182242691517, 0.038843851536512375, 0.010465671308338642, 0.07710785418748856, 0.7324777841567993, 0.071357361972332, 0.0008022043621167541, 0.061095111072063446, 0.0], [0.5412281155586243, 0.030129045248031616, 0.004476552363485098, 0.006593718193471432, 0.24806061387062073, 0.05882202088832855, 0.00022165506379678845, 0.11046835035085678, 0.0], [0.07283319532871246, 0.16075390577316284, 0.02535463683307171, 0.016961297020316124, 0.10833167284727097, 0.004693308845162392, 0.07095987349748611, 0.5401120781898499, 0.0], [0.003838212927803397, 0.4320162832736969, 0.03613879904150963, 0.02094166725873947, 0.003826375352218747, 0.00038054698961786926, 0.007782851345837116, 0.4950753450393677, 0.0], [0.00024687734548933804, 0.00017281723557971418, 8.825142140267417e-05, 0.001242951606400311, 0.12043177336454391, 0.8538528084754944, 0.00011379204806871712, 0.023850707337260246, 0.0], [0.00010917446343228221, 0.015315345488488674, 0.0010660146363079548, 0.01418252196162939, 0.06842755526304245, 0.3275146782398224, 0.03760899603366852, 0.5357757210731506, 0.0], [0.00011476337385829538, 0.0059466902166605, 0.0002581612206995487, 0.0001122888206737116, 0.23565654456615448, 0.7033969163894653, 0.010168374516069889, 0.04434628412127495, 0.0], [0.0007671992643736303, 0.03165454789996147, 0.006348866969347, 0.004040963482111692, 0.011478368192911148, 0.13905125856399536, 0.5848493576049805, 0.221809521317482, 0.0]], [[1.0, 5.733228822246694e-11, 5.559591015387945e-19, 5.972086858316475e-18, 1.2913963301497411e-11, 3.903232598245765e-11, 4.2877598173396425e-12, 2.950732974780145e-16, 0.0], [8.01522459514814e-11, 1.0, 1.4930413572145085e-09, 8.810549504720917e-21, 9.490445800120843e-31, 3.0023574585061323e-26, 7.142279108367812e-19, 7.700240998217284e-16, 0.0], [2.890225411939509e-19, 4.431677464236672e-13, 1.0, 3.1546610484468884e-13, 4.307963092524704e-21, 1.053032041920437e-23, 4.0227049741323835e-26, 3.974852289970771e-19, 0.0], [9.332787270269886e-19, 4.246557991156562e-17, 2.781628660047941e-12, 1.0, 2.77756512234717e-10, 2.4044969946349752e-18, 1.5492021221355684e-23, 4.014316560007793e-20, 0.0], [1.708548172673179e-16, 2.6193440065738845e-17, 5.3575757047398106e-17, 6.59809053639264e-14, 1.0, 9.173371784410023e-11, 3.459980076638098e-18, 1.4402842355993716e-17, 0.0], [2.8746335823878755e-13, 4.9364953111038536e-15, 9.322253373323207e-17, 3.524310631199991e-14, 2.9645965682334463e-08, 0.9999873638153076, 1.2580043403431773e-05, 7.800410095626376e-09, 0.0], [9.694721692099506e-10, 5.007312381573314e-13, 4.606607605399025e-19, 1.0849487261493907e-15, 2.9453257943775596e-17, 1.3189995762274975e-08, 0.9999935626983643, 6.4383070821349975e-06, 0.0], [1.9852555723932338e-16, 2.3661230003440863e-19, 2.797675636615869e-22, 1.3795398824290766e-22, 1.6054585296481437e-25, 1.1035819802618562e-19, 8.033585459088499e-07, 0.9999991655349731, 0.0]]], [[[0.19031688570976257, 0.05635618418455124, 0.21342602372169495, 0.41150951385498047, 0.048131491988897324, 0.0050043268129229546, 0.006072225980460644, 0.06918340921401978, 0.0], [0.23892736434936523, 0.1591426432132721, 0.043724920600652695, 0.14379630982875824, 0.1610793173313141, 0.0035926245618611574, 0.010332263074815273, 0.23940441012382507, 0.0], [0.0018526989733800292, 0.6378689408302307, 0.0027949907816946507, 0.20212328433990479, 0.022355033084750175, 0.002889143070206046, 0.020742563530802727, 0.10937337577342987, 0.0], [0.0037511195987462997, 0.8817709684371948, 0.006136489566415548, 0.01000057253986597, 0.004086900502443314, 0.0012470940127968788, 0.00047114930930547416, 0.09253572672605515, 0.0], [0.009437701664865017, 0.0874919518828392, 0.035262078046798706, 0.0259880218654871, 0.26097571849823, 0.0415053591132164, 0.0044973767362535, 0.5348418354988098, 0.0], [0.0001551446330267936, 0.00111444725189358, 0.00029097404330968857, 0.002099487232044339, 0.02678961493074894, 0.8078405261039734, 0.0007866228697821498, 0.16092315316200256, 0.0], [0.0010923058725893497, 0.0038105903659015894, 0.0019215758657082915, 0.008487086743116379, 0.06722470372915268, 0.8236289620399475, 0.024423586204648018, 0.06941123306751251, 0.0], [0.00021877737890463322, 0.007560206577181816, 0.007140525616705418, 0.033290132880210876, 0.004167524632066488, 0.006254390813410282, 0.004351540468633175, 0.9370169043540955, 0.0]], [[0.8042213916778564, 0.14739274978637695, 0.026301363483071327, 0.001091811340302229, 0.0003648940473794937, 0.0028521614149212837, 0.006479669362306595, 0.011296051554381847, 0.0], [0.013180281966924667, 0.19335006177425385, 0.7296023964881897, 0.007627398706972599, 0.0008443295955657959, 0.0030926926992833614, 0.00220307894051075, 0.05009973794221878, 0.0], [0.03403918817639351, 0.019856907427310944, 0.6820119619369507, 0.005051499232649803, 0.03610434755682945, 0.01565518043935299, 0.004684914369136095, 0.2025960236787796, 0.0], [0.003450770163908601, 4.452902066987008e-05, 0.0037379481364041567, 0.011382412165403366, 0.886465311050415, 0.008172297850251198, 0.012985480017960072, 0.07376128435134888, 0.0], [9.56144358497113e-05, 0.005059308838099241, 0.00020961953850928694, 0.1907443404197693, 0.24877041578292847, 0.033791434019804, 0.024608198553323746, 0.4967210292816162, 0.0], [0.00040422199526801705, 0.00022336676192935556, 0.0006742557743564248, 0.03817295655608177, 0.013594458810985088, 0.01836007833480835, 0.5396302938461304, 0.38894039392471313, 0.0], [0.0007854605792090297, 0.05210943892598152, 0.0005485205329023302, 0.010313667356967926, 0.006361226551234722, 0.07936125248670578, 0.5899244546890259, 0.26059597730636597, 0.0], [6.795795343350619e-05, 0.0022816171403974295, 0.0003736183571163565, 0.004182174801826477, 0.07452012598514557, 0.02777234837412834, 0.17369286715984344, 0.7171092629432678, 0.0]], [[0.007692935410887003, 0.00399752939119935, 0.0011411471059545875, 0.0020718607120215893, 0.08523496985435486, 0.18942901492118835, 0.2565207779407501, 0.45391181111335754, 0.0], [0.417602002620697, 0.04681374877691269, 0.034044135361909866, 0.0021409750916063786, 0.0021652847062796354, 0.0034966226667165756, 0.04323503002524376, 0.4505021572113037, 0.0], [0.8196360468864441, 0.05221991240978241, 0.0011540661798790097, 0.00019447918748483062, 3.55439078703057e-05, 0.00029636608087457716, 0.01319813821464777, 0.11326558142900467, 0.0], [0.003377694170922041, 0.9532459378242493, 0.014504087157547474, 5.381244045565836e-05, 3.057803405681625e-05, 8.27415133244358e-05, 0.00012644531670957804, 0.028578558936715126, 0.0], [0.0047860099002718925, 0.021861927583813667, 0.8596840500831604, 0.031941331923007965, 0.0013374191476032138, 0.0003153043508064002, 0.008031765930354595, 0.07204212993383408, 0.0], [1.907961632241495e-05, 0.0008049689931795001, 0.020618515089154243, 0.006979007739573717, 0.965704083442688, 0.0028139902278780937, 0.0001340829039691016, 0.0029261831659823656, 0.0], [4.58808135590516e-05, 0.00013346178457140923, 0.0005058920360170305, 0.010072576813399792, 0.9638651609420776, 0.020654961466789246, 0.0017902115359902382, 0.0029319608584046364, 0.0], [0.00776778906583786, 0.0042463988065719604, 0.010800969786942005, 0.0008685981156304479, 0.0034572083968669176, 0.016618238762021065, 0.021212909370660782, 0.9350278377532959, 0.0]], [[0.0005855903145857155, 0.021940305829048157, 0.005230316426604986, 0.06755664199590683, 0.6626277565956116, 0.19704538583755493, 0.0003660171933006495, 0.044648073613643646, 0.0], [0.05090397596359253, 0.014694422483444214, 0.0012853853404521942, 0.1877734661102295, 0.039453521370887756, 0.26085764169692993, 0.25358155369758606, 0.19145002961158752, 0.0], [0.04052821546792984, 0.01111037191003561, 0.0012824659934267402, 0.022216252982616425, 0.01070824358612299, 0.12489235401153564, 0.4027133285999298, 0.3865487277507782, 0.0], [0.025513021275401115, 0.29819953441619873, 0.0030410888139158487, 0.06674982607364655, 0.006001316476613283, 0.04023488610982895, 0.03558943420648575, 0.5246708989143372, 0.0], [0.0015881662257015705, 0.000452730106189847, 0.08804752677679062, 0.770876407623291, 0.010722454637289047, 0.03425511345267296, 0.01043604128062725, 0.0836215615272522, 0.0], [0.0030006151646375656, 0.0003954817948397249, 0.07948968559503555, 0.31363821029663086, 0.16540341079235077, 0.012807316146790981, 0.09627803415060043, 0.3289872407913208, 0.0], [0.038395561277866364, 0.002136022550985217, 0.0480666309595108, 0.006050271913409233, 0.1007913127541542, 0.2934594750404358, 0.0648517981171608, 0.4462488889694214, 0.0], [0.0014668625080958009, 0.0028682411648333073, 0.004135538823902607, 0.003761031199246645, 0.013471661135554314, 0.11433155089616776, 0.01416054181754589, 0.8458045125007629, 0.0]], [[0.002086065011098981, 0.0008739082259126008, 4.871575583820231e-05, 0.02656523883342743, 0.9297987222671509, 0.03219643235206604, 0.0009638731717132032, 0.007466989569365978, 0.0], [0.00945251900702715, 0.0009552333503961563, 0.06676576286554337, 0.10082576423883438, 0.06742030382156372, 0.6961115598678589, 0.002295552985742688, 0.05617327615618706, 0.0], [0.007106429431587458, 0.058183133602142334, 0.006480040028691292, 0.07248245179653168, 0.13916617631912231, 0.26347222924232483, 0.010376746766269207, 0.4427328407764435, 0.0], [0.0042285798117518425, 0.01360626332461834, 0.11284241080284119, 0.06676279008388519, 0.005282111931592226, 0.01196527574211359, 0.010260951705276966, 0.7750515937805176, 0.0], [0.0018269874854013324, 0.025364793837070465, 0.030006753280758858, 0.0011039406526833773, 0.007259839214384556, 0.023827580735087395, 0.030237939208745956, 0.8803721070289612, 0.0], [0.009206150658428669, 0.06979722529649734, 0.0036759197246283293, 0.03794565051794052, 0.0021208066027611494, 0.009991351515054703, 0.10286719352006912, 0.7643956542015076, 0.0], [0.001744002103805542, 0.0002620310115162283, 7.440123590640724e-05, 0.8268464803695679, 0.005406086333096027, 0.0042334371246397495, 0.02755863033235073, 0.13387486338615417, 0.0], [0.000248890311922878, 0.0004356045392341912, 0.00044138176599517465, 0.0005218993173912168, 0.02876000665128231, 0.1281086653470993, 0.0031539788469672203, 0.838329553604126, 0.0]], [[0.4809638559818268, 0.06200280040502548, 0.31977567076683044, 0.03699755668640137, 0.01913449354469776, 0.030170224606990814, 0.017545387148857117, 0.0334099680185318, 0.0], [0.001499723643064499, 0.0018537385622039437, 0.9885352253913879, 0.0002620302839204669, 0.0025368030183017254, 0.001261524623259902, 5.060348485130817e-05, 0.004000382497906685, 0.0], [0.002782982774078846, 0.009603571146726608, 0.9371564388275146, 0.0066640544682741165, 0.00575321726500988, 0.0018892257940024137, 0.0003399498818907887, 0.035810455679893494, 0.0], [0.014806251041591167, 0.0063756247982382774, 0.7285807728767395, 0.0753532201051712, 0.041726455092430115, 0.009563030675053596, 0.0002598799765110016, 0.12333478778600693, 0.0], [0.0060701631009578705, 0.004103336948901415, 0.014256421476602554, 0.7112489342689514, 0.004450686741620302, 0.013808055780827999, 0.020533040165901184, 0.22552940249443054, 0.0], [0.008474349975585938, 0.000347627472365275, 0.014490523375570774, 0.007683593779802322, 0.012444308958947659, 0.03354951739311218, 0.4365140497684479, 0.4864960312843323, 0.0], [0.0011749840341508389, 0.0003804810403380543, 0.0026107942685484886, 0.0020046548452228308, 0.009237295016646385, 0.0011027205036953092, 0.7176320552825928, 0.2658570110797882, 0.0], [0.0004617109370883554, 0.0010871136328205466, 0.06465569138526917, 0.005535202566534281, 0.0003664027317427099, 0.001136696431785822, 0.0005128444172441959, 0.9262443780899048, 0.0]], [[0.9447973370552063, 0.02277621626853943, 0.000476761138997972, 0.00045792930177412927, 0.0003392330836504698, 0.012503514997661114, 0.0020782428327947855, 0.01657087355852127, 0.0], [0.036630768328905106, 0.6818385720252991, 0.04993118345737457, 0.019929450005292892, 0.017781198024749756, 0.0015374533832073212, 0.004527352284640074, 0.18782395124435425, 0.0], [0.0034910759422928095, 0.003908685874193907, 0.7892277836799622, 0.0400894470512867, 0.00039994073449634016, 0.0005891055334359407, 0.00047009263653308153, 0.1618238091468811, 0.0], [5.357561894925311e-05, 0.09485630691051483, 0.13003970682621002, 0.27620938420295715, 0.11193646490573883, 0.0033926786854863167, 0.0007355261477641761, 0.3827763497829437, 0.0], [0.0005649258382618427, 0.00016762936138547957, 0.005496910773217678, 0.02316073328256607, 0.9358853697776794, 0.015551019459962845, 0.001963932765647769, 0.01720951497554779, 0.0], [0.0001743649918353185, 0.00026397162582725286, 0.0005537564866244793, 0.01001782901585102, 0.009807792492210865, 0.9501947164535522, 0.009134943597018719, 0.019852591678500175, 0.0], [0.004863970912992954, 0.000829423195682466, 0.002116285264492035, 0.0008702304912731051, 0.016449423506855965, 0.15036529302597046, 0.7783400416374207, 0.04616537317633629, 0.0], [0.00011774768063332886, 0.0009915325790643692, 0.0004015913582406938, 0.006451683584600687, 0.009435107931494713, 0.02021257020533085, 0.19243022799491882, 0.7699595093727112, 0.0]], [[0.6433873772621155, 0.24268169701099396, 0.09077554941177368, 0.0018219721969217062, 0.0010428889654576778, 0.0042106821201741695, 0.002559361979365349, 0.013520573265850544, 0.0], [0.003021141979843378, 0.004264332354068756, 0.8072872161865234, 0.16601867973804474, 0.003302121302112937, 0.001720299245789647, 0.00044699941645376384, 0.013939144089818, 0.0], [0.05327906832098961, 0.03651052340865135, 0.023755772039294243, 0.16105523705482483, 0.15797720849514008, 0.12770159542560577, 0.01948995143175125, 0.4202306568622589, 0.0], [6.503221084130928e-05, 0.0001836946321418509, 0.00038909781142137945, 0.005309394560754299, 0.014411772601306438, 0.8739598989486694, 0.0007021737983450294, 0.10497882962226868, 0.0], [0.000541111861821264, 0.00011646219354588538, 4.5693537686020136e-05, 0.00023743764904793352, 0.0020989251788705587, 0.29383307695388794, 0.004551008343696594, 0.6985763311386108, 0.0], [0.0028776745311915874, 0.00023588670592289418, 0.0008867293945513666, 0.0008614144753664732, 0.00027755970950238407, 0.0028655657079070807, 0.24649973213672638, 0.7454953789710999, 0.0], [0.0024892115034163, 0.004186767153441906, 0.011498970910906792, 0.0007336905691772699, 0.008132646791636944, 0.003328865859657526, 0.013903788290917873, 0.9557260274887085, 0.0], [4.025368070870172e-06, 4.8460606194566935e-06, 1.2317179425735958e-05, 0.00018129055388271809, 0.0005112995859235525, 0.00036739339702762663, 0.0003194520832039416, 0.9985993504524231, 0.0]]]], \"left_text\": [\"T\", \"I\", \"V\", \"S\", \"L\", \"G\", \"V\", \"<eos>\"], \"right_text\": [\"Q\", \"K\", \"L\", \"V\", \"F\", \"F\", \"A\", \"<eos>\", \"<pad>\"]}], \"default_filter\": \"0\", \"display_mode\": \"light\", \"root_div_id\": \"bertviz-16182a253ccf4b0bbb6ba46af52d8157\", \"include_layers\": [0, 1, 2, 3], \"include_heads\": [0, 1, 2, 3, 4, 5, 6, 7], \"total_heads\": 8} is a template marker that is replaced by actual params.\n        const config = {};\n\n        const MIN_X = 0;\n        const MIN_Y = 0;\n        const DIV_WIDTH = 970;\n        const THUMBNAIL_PADDING = 5;\n        const DETAIL_WIDTH = 300;\n        const DETAIL_ATTENTION_WIDTH = 140;\n        const DETAIL_BOX_WIDTH = 80;\n        const DETAIL_BOX_HEIGHT = 18;\n        const DETAIL_PADDING = 15;\n        const ATTN_PADDING = 0;\n        const DETAIL_HEADING_HEIGHT = 25;\n        const HEADING_TEXT_SIZE = 15;\n        const HEADING_PADDING = 5;\n        const TEXT_SIZE = 13;\n        const TEXT_PADDING = 5;\n        const LAYER_COLORS = d3.schemeCategory10;\n        const PALETTE = {\n            'light': {\n                'text': 'black',\n                'background': 'white',\n                'highlight': '#F5F5F5'\n            },\n            'dark': {\n                'text': '#ccc',\n                'background': 'black',\n                'highlight': '#222'\n            }\n        }\n\n        function render() {\n\n            // Set global state variables\n\n            var attData = config.attention[config.filter];\n            config.leftText = attData.left_text;\n            config.rightText = attData.right_text;\n            config.attn = attData.attn;\n            config.numLayers = config.attn.length;\n            config.numHeads = config.attn[0].length;\n            config.thumbnailBoxHeight = 7 * (12 / config.totalHeads);\n            const axisSize = HEADING_TEXT_SIZE + HEADING_PADDING + TEXT_SIZE + TEXT_PADDING;\n            config.thumbnailHeight = Math.max(config.leftText.length, config.rightText.length) * config.thumbnailBoxHeight + 2 * THUMBNAIL_PADDING;\n            config.thumbnailWidth = (DIV_WIDTH - axisSize) / config.totalHeads;\n            config.detailHeight = Math.max(config.leftText.length, config.rightText.length) * DETAIL_BOX_HEIGHT + 2 * DETAIL_PADDING + DETAIL_HEADING_HEIGHT;\n            config.divHeight = Math.max(config.numLayers * config.thumbnailHeight + axisSize, config.detailHeight);\n\n            const vis = $(`#${config.rootDivId} #vis`)\n            vis.empty();\n            vis.attr(\"height\", config.divHeight);\n            config.svg = d3.select(`#${config.rootDivId} #vis`)\n                .append('svg')\n                .attr(\"width\", DIV_WIDTH)\n                .attr(\"height\", config.divHeight)\n                .attr(\"fill\", getBackgroundColor());\n\n            renderAxisLabels();\n\n            var i;\n            var j;\n            for (i = 0; i < config.numLayers; i++) {\n                for (j = 0; j < config.numHeads; j++) {\n                    renderThumbnail(i, j);\n                }\n            }\n        }\n\n        function renderAxisLabels() {\n            const axisSize = HEADING_TEXT_SIZE + HEADING_PADDING + TEXT_SIZE + TEXT_PADDING;\n            const tableWidth = config.thumbnailWidth * config.heads.length;\n            config.svg.append(\"text\")\n                .text(\"Heads\")\n                .attr(\"fill\", \"black\")\n                .attr(\"font-weight\", \"bold\")\n                .attr(\"font-size\", HEADING_TEXT_SIZE + \"px\")\n                .attr(\"x\", axisSize + tableWidth / 2)\n                .attr(\"text-anchor\", \"middle\")\n                .attr(\"y\", 0)\n                .attr(\"dy\", HEADING_TEXT_SIZE);\n            for (let i = 0; i < config.numHeads; i++) {\n                config.svg.append(\"text\")\n                    .text(config.heads[i])\n                    .attr(\"fill\", \"black\")\n                    .attr(\"font-size\", TEXT_SIZE + \"px\")\n                    .attr(\"x\", axisSize + (i + .5) * config.thumbnailWidth)\n                    .attr(\"text-anchor\", \"middle\")\n                    .attr(\"y\", HEADING_TEXT_SIZE + HEADING_PADDING)\n                    .attr(\"dy\", TEXT_SIZE);\n            }\n            let x = 0;\n            let y = axisSize + config.thumbnailHeight * config.layers.length / 2;\n            console.log(\"x\", x, y)\n            config.svg.append(\"text\")\n                .text(\"Layers\")\n                .attr(\"fill\", \"black\")\n                .attr(\"font-weight\", \"bold\")\n                .attr(\"transform\", \"rotate(270, \" + x  + \", \" + y + \")\")\n                .attr(\"font-size\", HEADING_TEXT_SIZE + \"px\")\n                .attr(\"x\", x)\n                .attr(\"text-anchor\", \"middle\")\n                .attr(\"y\", y)\n                .attr(\"dy\", HEADING_TEXT_SIZE);\n            for (let i = 0; i < config.numLayers; i++) {\n                x = HEADING_TEXT_SIZE + HEADING_PADDING + TEXT_SIZE; // HACK\n                y = axisSize + (i + .5) * config.thumbnailHeight;\n                config.svg.append(\"text\")\n                    .text(config.layers[i])\n                    .attr(\"fill\", \"black\")\n                    .attr(\"font-size\", TEXT_SIZE + \"px\")\n                    .attr(\"x\", x)\n                    .attr(\"text-anchor\", \"end\")\n                    .attr(\"y\", y)\n                    .attr(\"dy\", TEXT_SIZE / 2);\n            }\n        }\n\n\n        function renderThumbnail(layerIndex, headIndex) {\n            const axisSize = HEADING_TEXT_SIZE + HEADING_PADDING + TEXT_SIZE + TEXT_PADDING\n            const x = headIndex * config.thumbnailWidth + axisSize;\n            const y = layerIndex * config.thumbnailHeight + axisSize;\n            renderThumbnailAttn(x, y, config.attn[layerIndex][headIndex], layerIndex, headIndex);\n        }\n\n        function renderDetail(att, layerIndex, headIndex) {\n            const axisSize = TEXT_SIZE + HEADING_PADDING + TEXT_SIZE + TEXT_PADDING;\n            var xOffset = .8 * config.thumbnailWidth;\n            var maxX = DIV_WIDTH;\n            var maxY = config.divHeight - 3;\n            var leftPos = axisSize + headIndex * config.thumbnailWidth;\n            var x = leftPos + THUMBNAIL_PADDING + xOffset;\n            if (x < MIN_X) {\n                x = MIN_X;\n            } else if (x + DETAIL_WIDTH > maxX) {\n                x = leftPos + THUMBNAIL_PADDING - DETAIL_WIDTH + 8;\n            }\n            var posLeftText = x;\n            var posAttention = posLeftText + DETAIL_BOX_WIDTH;\n            var posRightText = posAttention + DETAIL_ATTENTION_WIDTH;\n            var thumbnailHeight = Math.max(config.leftText.length, config.rightText.length) * config.thumbnailBoxHeight + 2 * THUMBNAIL_PADDING;\n            var yOffset = 20;\n            var y = layerIndex * thumbnailHeight + THUMBNAIL_PADDING + yOffset;\n            if (y < MIN_Y) {\n                y = MIN_Y;\n            } else if (y + config.detailHeight > maxY) {\n                y = maxY - config.detailHeight;\n            }\n            renderDetailFrame(x, y, layerIndex);\n            y = y + DETAIL_PADDING;\n            renderDetailHeading(x, y, layerIndex, headIndex);\n            y = y + DETAIL_HEADING_HEIGHT;\n            renderDetailText(config.leftText, \"leftText\", posLeftText, y , layerIndex);\n            renderDetailAttn(posAttention, y, att, layerIndex, headIndex);\n            renderDetailText(config.rightText, \"rightText\", posRightText, y, layerIndex);\n        }\n\n        function renderDetailHeading(x, y, layerIndex, headIndex) {\n            var fillColor = getTextColor();\n            config.svg.append(\"text\")\n                .classed(\"detail\", true)\n                .text('Layer ' + config.layers[layerIndex] + \", Head \" + config.heads[headIndex])\n                .attr(\"font-size\", TEXT_SIZE + \"px\")\n                .attr(\"font-weight\", \"bold\")\n                .style(\"cursor\", \"default\")\n                .style(\"-webkit-user-select\", \"none\")\n                .attr(\"fill\", fillColor)\n                .attr(\"x\", x + DETAIL_WIDTH / 2)\n                .attr(\"text-anchor\", \"middle\")\n                .attr(\"y\", y)\n                .attr(\"height\", DETAIL_HEADING_HEIGHT)\n                .attr(\"width\", DETAIL_WIDTH)\n                .attr(\"dy\", HEADING_TEXT_SIZE);\n        }\n\n        function renderDetailText(text, id, x, y, layerIndex) {\n            var tokenContainer = config.svg.append(\"svg:g\")\n                .classed(\"detail\", true)\n                .selectAll(\"g\")\n                .data(text)\n                .enter()\n                .append(\"g\");\n\n            var fillColor = getTextColor();\n\n            tokenContainer.append(\"rect\")\n                .classed(\"highlight\", true)\n                .attr(\"fill\", fillColor)\n                .style(\"opacity\", 0.0)\n                .attr(\"height\", DETAIL_BOX_HEIGHT)\n                .attr(\"width\", DETAIL_BOX_WIDTH)\n                .attr(\"x\", x)\n                .attr(\"y\", function (d, i) {\n                    return y + i * DETAIL_BOX_HEIGHT;\n                });\n\n            var textContainer = tokenContainer.append(\"text\")\n                .classed(\"token\", true)\n                .text(function (d) {\n                    return d;\n                })\n                .attr(\"font-size\", TEXT_SIZE + \"px\")\n                .style(\"cursor\", \"default\")\n                .style(\"-webkit-user-select\", \"none\")\n                .attr(\"fill\", fillColor)\n                .attr(\"x\", x)\n                .attr(\"y\", function (d, i) {\n                    return i * DETAIL_BOX_HEIGHT + y;\n                })\n                .attr(\"height\", DETAIL_BOX_HEIGHT)\n                .attr(\"width\", DETAIL_BOX_WIDTH)\n                .attr(\"dy\", TEXT_SIZE);\n\n            if (id == \"leftText\") {\n                textContainer.style(\"text-anchor\", \"end\")\n                    .attr(\"dx\", DETAIL_BOX_WIDTH - 2);\n                tokenContainer.on(\"mouseover\", function (d, index) {\n                    highlightSelection(index);\n                });\n                tokenContainer.on(\"mouseleave\", function () {\n                    unhighlightSelection();\n                });\n            }\n        }\n\n        function highlightSelection(index) {\n            config.svg.select(\"#leftText\")\n                .selectAll(\".highlight\")\n                .style(\"opacity\", function (d, i) {\n                    return i == index ? 1.0 : 0.0;\n                });\n            config.svg.selectAll(\".attn-line-group\")\n                .style(\"opacity\", function (d, i) {\n                    return i == index ? 1.0 : 0.0;\n                });\n        }\n\n        function unhighlightSelection() {\n            config.svg.select(\"#leftText\")\n                .selectAll(\".highlight\")\n                .style(\"opacity\", 0.0);\n            config.svg.selectAll(\".attn-line-group\")\n                .style(\"opacity\", 1);\n        }\n\n        function renderThumbnailAttn(x, y, att, layerIndex, headIndex) {\n\n            var attnContainer = config.svg.append(\"svg:g\");\n\n            var attnBackground = attnContainer.append(\"rect\")\n                .attr(\"id\", 'attn_background_' + layerIndex + \"_\" + headIndex)\n                .classed(\"attn_background\", true)\n                .attr(\"x\", x)\n                .attr(\"y\", y)\n                .attr(\"height\", config.thumbnailHeight)\n                .attr(\"width\", config.thumbnailWidth)\n                .attr(\"stroke-width\", 2)\n                .attr(\"stroke\", getLayerColor(layerIndex))\n                .attr(\"stroke-opacity\", 0)\n                .attr(\"fill\", getBackgroundColor());\n            var x1 = x + THUMBNAIL_PADDING;\n            var x2 = x1 + config.thumbnailWidth - 14;\n            var y1 = y + THUMBNAIL_PADDING;\n\n            attnContainer.selectAll(\"g\")\n                .data(att)\n                .enter()\n                .append(\"g\") // Add group for each source token\n                .attr(\"source-index\", function (d, i) { // Save index of source token\n                    return i;\n                })\n                .selectAll(\"line\")\n                .data(function (d) { // Loop over all target tokens\n                    return d;\n                })\n                .enter() // When entering\n                .append(\"line\")\n                .attr(\"x1\", x1)\n                .attr(\"y1\", function (d) {\n                    var sourceIndex = +this.parentNode.getAttribute(\"source-index\");\n                    return y1 + (sourceIndex + .5) * config.thumbnailBoxHeight;\n                })\n                .attr(\"x2\", x2)\n                .attr(\"y2\", function (d, targetIndex) {\n                    return y1 + (targetIndex + .5) * config.thumbnailBoxHeight;\n                })\n                .attr(\"stroke-width\", 2.2)\n                .attr(\"stroke\", getLayerColor(layerIndex))\n                .attr(\"stroke-opacity\", function (d) {\n                    return d;\n                });\n\n            var clickRegion = attnContainer.append(\"rect\")\n                .attr(\"x\", x)\n                .attr(\"y\", y)\n                .attr(\"height\", config.thumbnailHeight)\n                .attr(\"width\", config.thumbnailWidth)\n                .style(\"opacity\", 0);\n\n            clickRegion.on(\"click\", function (d, index) {\n                var attnBackgroundOther = config.svg.selectAll(\".attn_background\");\n                attnBackgroundOther.attr(\"fill\", getBackgroundColor());\n                attnBackgroundOther.attr(\"stroke-opacity\", 0);\n\n                config.svg.selectAll(\".detail\").remove();\n                if (config.detail_layer != layerIndex || config.detail_head != headIndex) {\n                    renderDetail(att, layerIndex, headIndex);\n                    config.detail_layer = layerIndex;\n                    config.detail_head = headIndex;\n                    attnBackground.attr(\"fill\", getHighlightColor());\n                    attnBackground.attr(\"stroke-opacity\", .8);\n                } else {\n                    config.detail_layer = null;\n                    config.detail_head = null;\n                    attnBackground.attr(\"fill\", getBackgroundColor());\n                    attnBackground.attr(\"stroke-opacity\", 0);\n                }\n            });\n\n            clickRegion.on(\"mouseover\", function (d) {\n                d3.select(this).style(\"cursor\", \"pointer\");\n            });\n        }\n\n        function renderDetailFrame(x, y, layerIndex) {\n            var detailFrame = config.svg.append(\"rect\")\n                .classed(\"detail\", true)\n                .attr(\"x\", x)\n                .attr(\"y\", y)\n                .attr(\"height\", config.detailHeight)\n                .attr(\"width\", DETAIL_WIDTH)\n                .style(\"opacity\", 1)\n                .attr(\"stroke-width\", 1.5)\n                .attr(\"stroke-opacity\", 0.7)\n                .attr(\"stroke\", getLayerColor(layerIndex));\n        }\n\n        function renderDetailAttn(x, y, att, layerIndex) {\n            var attnContainer = config.svg.append(\"svg:g\")\n                .classed(\"detail\", true)\n                .attr(\"pointer-events\", \"none\");\n            attnContainer.selectAll(\"g\")\n                .data(att)\n                .enter()\n                .append(\"g\") // Add group for each source token\n                .classed('attn-line-group', true)\n                .attr(\"source-index\", function (d, i) { // Save index of source token\n                    return i;\n                })\n                .selectAll(\"line\")\n                .data(function (d) { // Loop over all target tokens\n                    return d;\n                })\n                .enter()\n                .append(\"line\")\n                .attr(\"x1\", x + ATTN_PADDING)\n                .attr(\"y1\", function (d) {\n                    var sourceIndex = +this.parentNode.getAttribute(\"source-index\");\n                    return y + (sourceIndex + .5) * DETAIL_BOX_HEIGHT;\n                })\n                .attr(\"x2\", x + DETAIL_ATTENTION_WIDTH - ATTN_PADDING)\n                .attr(\"y2\", function (d, targetIndex) {\n                    return y + (targetIndex + .5) * DETAIL_BOX_HEIGHT;\n                })\n                .attr(\"stroke-width\", 2.2)\n                .attr(\"stroke\", getLayerColor(layerIndex))\n                .attr(\"stroke-opacity\", function (d) {\n                    return d;\n                });\n        }\n\n        function getLayerColor(layer) {\n          return LAYER_COLORS[config.layers[layer] % 10];\n        }\n\n        function getTextColor() {\n            return PALETTE[config.mode]['text']\n        }\n\n        function getBackgroundColor() {\n           return PALETTE[config.mode]['background']\n        }\n\n        function getHighlightColor() {\n           return PALETTE[config.mode]['highlight']\n        }\n\n        function initialize() {\n            config.attention = params['attention'];\n            config.filter = params['default_filter'];\n            config.mode = params['display_mode'];\n            config.layers = params['include_layers']\n            config.heads = params['include_heads']\n            config.totalHeads = params['total_heads']\n            config.rootDivId = params['root_div_id'];\n            $(`#${config.rootDivId} #filter`).on('change', function (e) {\n                config.filter = e.currentTarget.value;\n                render();\n            });\n        }\n\n        initialize();\n        render();\n\n    });",
      "text/plain": [
       "<IPython.core.display.Javascript object>"
      ]
     },
     "metadata": {},
     "output_type": "display_data"
    }
   ],
   "source": [
    "from bertviz import model_view\n",
    "\n",
    "model_view(\n",
    "\tencoder_attention=encoder_self_attention, \n",
    "\tdecoder_attention=decoder_self_attention,\n",
    "\tcross_attention=decoder_encoder_attention, \n",
    "\tencoder_tokens=encoder_text,\n",
    "\tdecoder_tokens=decoder_text, \n",
    "\tdisplay_mode=\"light\"\n",
    ")"
   ]
  },
  {
   "cell_type": "code",
   "execution_count": 58,
   "metadata": {},
   "outputs": [
    {
     "data": {
      "text/html": [
       "<script src=\"https://cdnjs.cloudflare.com/ajax/libs/require.js/2.3.6/require.min.js\"></script>"
      ],
      "text/plain": [
       "<IPython.core.display.HTML object>"
      ]
     },
     "metadata": {},
     "output_type": "display_data"
    },
    {
     "data": {
      "text/html": [
       "      \n",
       "        <div id=\"bertviz-3ddfaeebb36b479bbade7c9a432b0d82\" style=\"font-family:'Helvetica Neue', Helvetica, Arial, sans-serif;\">\n",
       "            <span style=\"user-select:none\">\n",
       "                Layer: <select id=\"layer\"></select>\n",
       "                Attention: <select id=\"filter\"><option value=\"0\">Encoder</option>\n",
       "<option value=\"1\">Decoder</option>\n",
       "<option value=\"2\">Cross</option></select>\n",
       "            </span>\n",
       "            <div id='vis'></div>\n",
       "        </div>\n",
       "    "
      ],
      "text/plain": [
       "<IPython.core.display.HTML object>"
      ]
     },
     "metadata": {},
     "output_type": "display_data"
    },
    {
     "data": {
      "application/javascript": "/**\n * @fileoverview Transformer Visualization D3 javascript code.\n *\n *\n *  Based on: https://github.com/tensorflow/tensor2tensor/blob/master/tensor2tensor/visualization/attention.js\n *\n * Change log:\n *\n * 12/19/18  Jesse Vig   Assorted cleanup. Changed orientation of attention matrices.\n * 12/29/20  Jesse Vig   Significant refactor.\n * 12/31/20  Jesse Vig   Support multiple visualizations in single notebook.\n * 02/06/21  Jesse Vig   Move require config from separate jupyter notebook step\n * 05/03/21  Jesse Vig   Adjust height of visualization dynamically\n * 07/25/21  Jesse Vig   Support layer filtering\n * 03/23/22  Daniel SC   Update requirement URLs for d3 and jQuery (source of bug not allowing end result to be displayed on browsers)\n **/\n\nrequire.config({\n  paths: {\n      d3: 'https://cdnjs.cloudflare.com/ajax/libs/d3/5.7.0/d3.min',\n    jquery: 'https://cdnjs.cloudflare.com/ajax/libs/jquery/2.0.0/jquery.min',\n  }\n});\n\nrequirejs(['jquery', 'd3'], function ($, d3) {\n\n    const params = {\"attention\": [{\"name\": \"Encoder\", \"attn\": [[[[0.009657680056989193, 0.5535450577735901, 0.43669018149375916, 0.00010674286022549495, 2.686704476673185e-07, 4.508845741213463e-09, 1.724902443100973e-09, 6.237483390340479e-16, 0.0], [0.9909327030181885, 0.008782354183495045, 0.00028486852534115314, 1.9517678584435316e-09, 1.0150199908007251e-12, 3.949912499943281e-13, 9.476911616568273e-11, 8.696042068942825e-14, 0.0], [1.835090370150283e-05, 0.997805655002594, 0.002174929017201066, 1.0133998102901387e-06, 9.087546253699896e-13, 4.757518705186898e-17, 1.910310593528541e-17, 4.513852741386156e-19, 0.0], [1.736626123734577e-16, 2.5924657165887766e-05, 0.9984143972396851, 0.0015595188597217202, 7.688179692877384e-08, 5.032518671773745e-16, 1.668870106336174e-21, 1.0056100685802067e-26, 0.0], [1.0189666250927456e-32, 6.429898240140073e-19, 2.645826384650718e-07, 0.9995335340499878, 0.00046620401553809643, 2.5966596494536587e-12, 7.203582335981169e-21, 8.615588214364224e-33, 0.0], [1.5414283107572988e-44, 2.2414270445497714e-32, 3.087812287101249e-18, 2.9880902729928493e-05, 0.9986506104469299, 0.001319557661190629, 6.461081669684177e-12, 1.0384809260542845e-28, 0.0], [0.0, 0.0, 1.8205009580879388e-35, 1.4829618089255387e-20, 8.711494956514798e-07, 0.9999970197677612, 2.156650452889153e-06, 4.8724634366030834e-23, 0.0], [0.0, 0.0, 0.0, 0.0, 0.0, 0.0, 0.0, 1.0, 0.0], [8.407790785948902e-45, 0.0, 0.0, 0.0, 1.8188854066936126e-42, 7.215952288708819e-25, 2.9660351952287556e-09, 1.0, 0.0]], [[3.760880548857277e-16, 1.0, 1.6018991559112578e-18, 0.0, 0.0, 0.0, 0.0, 0.0, 0.0], [1.1167049341081329e-22, 1.067992569381282e-11, 1.0, 5.2881130473645476e-17, 1.401298464324817e-44, 0.0, 0.0, 0.0, 0.0], [0.0, 8.574097624410968e-24, 1.9657473870893227e-08, 1.0, 2.1982123152991528e-13, 9.636707566801846e-37, 0.0, 0.0, 0.0], [0.0, 3.587324068671532e-43, 2.5144702802382012e-22, 7.43829775551319e-10, 1.0, 1.1022090358470127e-12, 2.526905908225568e-35, 0.0, 0.0], [0.0, 0.0, 1.607595972279983e-34, 1.3749955289480732e-14, 8.854684710968286e-05, 0.9999113082885742, 8.93551401759396e-08, 1.1406288118872375e-37, 0.0], [1.961817850054744e-44, 0.0, 0.0, 8.799033317188391e-41, 4.224507396629212e-30, 1.3334923443242275e-12, 1.0, 5.679479600691055e-20, 0.0], [6.683500326095084e-23, 2.5225858623448435e-30, 0.0, 0.0, 2.802596928649634e-45, 2.0502830192578816e-24, 8.189987283913069e-07, 0.9999991655349731, 0.0], [0.0, 0.0, 0.0, 0.0, 0.0, 0.0, 6.221765181602188e-43, 1.0, 0.0], [1.6954197339706482e-31, 4.150372660660651e-06, 0.9999958276748657, 2.181274605383976e-10, 8.288763676764134e-25, 2.3715538260795297e-35, 1.405825122026222e-32, 3.335083341765338e-23, 0.0]], [[0.0048850285820662975, 0.056247979402542114, 0.20841066539287567, 0.519554078578949, 0.132023885846138, 0.03140682727098465, 0.03744852915406227, 0.010023067705333233, 0.0], [0.10374940931797028, 0.07058615237474442, 0.09204094111919403, 0.16767020523548126, 0.1317422240972519, 0.10370869934558868, 0.1479940116405487, 0.1825084537267685, 0.0], [0.3558551073074341, 0.13935619592666626, 0.05802037566900253, 0.039503537118434906, 0.02572702243924141, 0.026761407032608986, 0.075920470058918, 0.27885594964027405, 0.0], [0.27066317200660706, 0.3699371814727783, 0.1338624209165573, 0.04383036494255066, 0.01666058599948883, 0.011617882177233696, 0.03160761296749115, 0.12182088196277618, 0.0], [0.04405415058135986, 0.4727693200111389, 0.3066950738430023, 0.11997547000646591, 0.02190971001982689, 0.0064436206594109535, 0.011181111447513103, 0.016971556469798088, 0.0], [0.004427679348737001, 0.13395652174949646, 0.3223211169242859, 0.40650901198387146, 0.09602701663970947, 0.01870383694767952, 0.015287075191736221, 0.0027676743920892477, 0.0], [0.0004671888018492609, 0.007342569995671511, 0.06787914782762527, 0.4043894112110138, 0.3670702278614044, 0.11683163791894913, 0.03523243963718414, 0.0007873784634284675, 0.0], [9.51185284066014e-05, 7.58882742957212e-05, 0.0001801560283638537, 0.003820106154307723, 0.0006126107764430344, 0.00044984836131334305, 0.002734112786129117, 0.9920321702957153, 0.0], [0.014652491547167301, 0.0020817029289901257, 0.00459749810397625, 0.027719957754015923, 0.1020762100815773, 0.26841965317726135, 0.5372626781463623, 0.04318981617689133, 0.0]], [[0.0382201224565506, 0.3227595388889313, 0.08736035972833633, 0.194540873169899, 0.25100603699684143, 0.08014027774333954, 0.014335338957607746, 0.011637399904429913, 0.0], [0.22774575650691986, 0.12338109314441681, 0.12676192820072174, 0.16575512290000916, 0.22626294195652008, 0.09058617055416107, 0.022424733266234398, 0.017082221806049347, 0.0], [0.13074354827404022, 0.13677524030208588, 0.08139452338218689, 0.17558635771274567, 0.29871535301208496, 0.13368827104568481, 0.020677879452705383, 0.02241886407136917, 0.0], [0.08877602219581604, 0.04534219205379486, 0.042818859219551086, 0.057640135288238525, 0.49150562286376953, 0.23519361019134521, 0.027981238439679146, 0.010742433369159698, 0.0], [0.10380879044532776, 0.087206169962883, 0.11220268160104752, 0.32944613695144653, 0.17742687463760376, 0.09404589980840683, 0.06707631796598434, 0.028787100687623024, 0.0], [0.0487995445728302, 0.044440723955631256, 0.06758846342563629, 0.25063249468803406, 0.18962939083576202, 0.16166265308856964, 0.17483985424041748, 0.062406931072473526, 0.0], [0.00811111181974411, 0.012593246065080166, 0.014636374078691006, 0.05462081357836723, 0.2809031307697296, 0.4670554995536804, 0.08511801064014435, 0.07696181535720825, 0.0], [7.187948085629614e-06, 9.523701919533778e-06, 2.459603138049715e-06, 3.06039655697532e-05, 3.9190505049191415e-05, 0.00040294750942848623, 0.010877883061766624, 0.9886301755905151, 0.0], [0.016769930720329285, 0.008838721551001072, 0.015170308761298656, 0.012518525123596191, 0.10733429342508316, 0.2787938416004181, 0.40568554401397705, 0.1548888236284256, 0.0]], [[0.5451481342315674, 0.17269837856292725, 0.034054022282361984, 0.020941313356161118, 0.10866124927997589, 0.03799128159880638, 0.004860469605773687, 0.07564511895179749, 0.0], [0.8423455953598022, 0.042294856160879135, 0.012369957752525806, 0.006520405877381563, 0.03239656612277031, 0.020758112892508507, 0.006766194012016058, 0.0365484356880188, 0.0], [0.8760918974876404, 0.08257228881120682, 0.008564495481550694, 0.0035039042122662067, 0.013460343703627586, 0.007248932961374521, 0.001927345059812069, 0.0066309161484241486, 0.0], [0.6997849941253662, 0.1886187046766281, 0.031631503254175186, 0.011298410594463348, 0.036198101937770844, 0.01815035566687584, 0.00547001650556922, 0.008847958408296108, 0.0], [0.3812223970890045, 0.3851568400859833, 0.10162908583879471, 0.04331785440444946, 0.053774043917655945, 0.01934080757200718, 0.010109852068126202, 0.005449069198220968, 0.0], [0.06271373480558395, 0.20135793089866638, 0.15788033604621887, 0.1443115472793579, 0.29601073265075684, 0.09878948330879211, 0.03527781367301941, 0.003658367320895195, 0.0], [0.0007281686994247139, 0.006965139415115118, 0.019322624430060387, 0.052659809589385986, 0.6261683106422424, 0.27316832542419434, 0.020398104563355446, 0.0005895456415601075, 0.0], [0.00020446818962227553, 0.00015210386482067406, 0.0006216110778041184, 0.0010829656384885311, 0.001103766611777246, 0.001879250630736351, 0.006236647721379995, 0.9887191653251648, 0.0], [0.0038277774583548307, 0.004097022116184235, 0.008147357031702995, 0.034007325768470764, 0.18839552998542786, 0.35446733236312866, 0.4003954827785492, 0.006662164814770222, 0.0]], [[0.0481431744992733, 0.2868683934211731, 0.2623375952243805, 0.1408068686723709, 0.10246364772319794, 0.0507042333483696, 0.045887287706136703, 0.06278881430625916, 0.0], [0.21693478524684906, 0.09507375210523605, 0.24272949993610382, 0.13532763719558716, 0.09899244457483292, 0.06355316936969757, 0.07349026948213577, 0.07389844208955765, 0.0], [0.11732342094182968, 0.2770580053329468, 0.11779528111219406, 0.18581877648830414, 0.1395128220319748, 0.0757957175374031, 0.04467804357409477, 0.04201792553067207, 0.0], [0.07797534018754959, 0.15455420315265656, 0.34069257974624634, 0.11630763113498688, 0.1323709636926651, 0.07154155522584915, 0.059140630066394806, 0.04741709306836128, 0.0], [0.032622113823890686, 0.12944376468658447, 0.29363149404525757, 0.25033774971961975, 0.12661583721637726, 0.06343162804841995, 0.055771224200725555, 0.04814614728093147, 0.0], [0.016827495768666267, 0.06787946820259094, 0.1795976758003235, 0.23004870116710663, 0.17659279704093933, 0.12332109361886978, 0.10609853267669678, 0.09963434189558029, 0.0], [0.008814874105155468, 0.025244316086173058, 0.07702207565307617, 0.10254253447055817, 0.24184530973434448, 0.2779638469219208, 0.06898319721221924, 0.19758379459381104, 0.0], [0.00023775320732966065, 0.00033495627576485276, 0.0006378514226526022, 0.0009916686685755849, 0.001485312357544899, 0.005022851750254631, 0.014795441180467606, 0.9764941334724426, 0.0], [0.06198727712035179, 0.04571710526943207, 0.05531255528330803, 0.08139941841363907, 0.11818388104438782, 0.22012728452682495, 0.20463278889656067, 0.2126396745443344, 0.0]], [[0.024702545255422592, 0.00010748729255283251, 3.0704391974722967e-05, 0.0004942430532537401, 0.007919616997241974, 0.01689738966524601, 0.0003925818600691855, 0.9494554400444031, 0.0], [0.58742356300354, 0.03780391812324524, 0.003028810489922762, 0.0012151094852015376, 0.003377569140866399, 0.011341286823153496, 0.011001757346093655, 0.34480804204940796, 0.0], [0.48193851113319397, 0.46865057945251465, 0.030344592407345772, 0.0008597584092058241, 0.00012721992970909923, 0.00010540215589571744, 0.0002913759963121265, 0.017682719975709915, 0.0], [0.05681357532739639, 0.7576019167900085, 0.17628814280033112, 0.007833757437765598, 0.00023963330022525042, 3.028946593985893e-05, 3.3061554859159514e-05, 0.0011595768155530095, 0.0], [0.006095355376601219, 0.22744375467300415, 0.5510206818580627, 0.2052673101425171, 0.009555594995617867, 0.00023888074792921543, 2.0328780010459013e-05, 0.000358054181560874, 0.0], [0.00012952332326676697, 0.0040189120918512344, 0.0869843065738678, 0.6076556444168091, 0.2926032543182373, 0.008327129296958447, 0.00010726653272286057, 0.00017392871086485684, 0.0], [8.16175145246234e-07, 7.098742571542971e-06, 0.000518074375577271, 0.039681319147348404, 0.7398400902748108, 0.2161971777677536, 0.003680855268612504, 7.463661313522607e-05, 0.0], [1.9141049856230552e-10, 1.3740033555365017e-09, 2.1135740269073722e-07, 8.17468753666617e-05, 0.07115848362445831, 0.8107808828353882, 0.11792545765638351, 5.3236533858580515e-05, 0.0], [4.423676273290766e-06, 2.4095686967484653e-05, 5.3740783187095076e-05, 0.00016057197353802621, 0.012869706377387047, 0.2060495764017105, 0.7805291414260864, 0.00030886600143276155, 0.0]], [[0.021037522703409195, 0.15867963433265686, 0.39479172229766846, 0.3116922676563263, 0.08239156752824783, 0.018202507868409157, 0.009159240871667862, 0.004045393317937851, 0.0], [0.0051363143138587475, 0.03317860886454582, 0.19626480340957642, 0.44902923703193665, 0.25608474016189575, 0.04810287430882454, 0.008876312524080276, 0.0033270400017499924, 0.0], [0.0008801957592368126, 0.004092487972229719, 0.025730598717927933, 0.22180965542793274, 0.5121805667877197, 0.19804850220680237, 0.031980160623788834, 0.005277715623378754, 0.0], [0.0016068994300439954, 0.001790546579286456, 0.005446259398013353, 0.052279453724622726, 0.33597996830940247, 0.4350271224975586, 0.14595648646354675, 0.021913258358836174, 0.0], [0.003685144241899252, 0.002832012949511409, 0.003211681265383959, 0.017750144004821777, 0.09883375465869904, 0.3069806694984436, 0.3580242693424225, 0.2086823731660843, 0.0], [0.0045882356353104115, 0.00420148903504014, 0.0023279080633074045, 0.004722316283732653, 0.014915664680302143, 0.07281550765037537, 0.26522478461265564, 0.6312041282653809, 0.0], [0.004739535041153431, 0.010878036729991436, 0.005298845004290342, 0.0029636279214173555, 0.003958823159337044, 0.01599583588540554, 0.11277256160974503, 0.8433927893638611, 0.0], [0.008769203908741474, 0.04787122830748558, 0.022288557142019272, 0.003945180214941502, 0.0016101630171760917, 0.003923223819583654, 0.03312099352478981, 0.8784714341163635, 0.0], [0.018402768298983574, 0.1684451699256897, 0.29024651646614075, 0.2027498334646225, 0.09374897927045822, 0.0498330183327198, 0.04837292060256004, 0.12820079922676086, 0.0]]], [[[0.02142605371773243, 0.010300143621861935, 0.0015791060868650675, 0.002167453756555915, 0.010933365672826767, 0.009847384877502918, 0.004171800799667835, 0.939574658870697, 0.0], [0.026888251304626465, 0.0151550667360425, 0.0025674416683614254, 0.0032740202732384205, 0.003357621841132641, 0.0033780294470489025, 0.004439247772097588, 0.9409403204917908, 0.0], [0.0419984832406044, 0.025915175676345825, 0.009155604988336563, 0.004513774532824755, 0.003465575398877263, 0.0029399169143289328, 0.004300730302929878, 0.9077107310295105, 0.0], [0.010337378829717636, 0.23429055511951447, 0.017170054838061333, 0.005979764275252819, 0.0016487464308738708, 0.0010780669981613755, 0.0024098942521959543, 0.727085530757904, 0.0], [0.00625763600692153, 0.02739884704351425, 0.26654377579689026, 0.024374011904001236, 0.01331169344484806, 0.0010412667179480195, 0.0016834314446896315, 0.6593893766403198, 0.0], [0.004801772069185972, 0.014309730380773544, 0.050277721136808395, 0.22621242702007294, 0.13071231544017792, 0.008512400090694427, 0.0013506299583241343, 0.5638229250907898, 0.0], [0.005787604488432407, 0.00343903386965394, 0.011713803745806217, 0.051521409302949905, 0.3485445976257324, 0.024421826004981995, 0.017142953351140022, 0.5374287962913513, 0.0], [0.0011288097593933344, 0.003999015316367149, 0.0008240524330176413, 0.0006488771177828312, 0.0010015455773100257, 0.0007667001918889582, 0.0035339181777089834, 0.988097071647644, 0.0], [0.001974421786144376, 0.004997076001018286, 0.000502105918712914, 0.0003926943172700703, 0.0005969761405140162, 0.0005340315983630717, 0.0009953764965757728, 0.9900072813034058, 0.0]], [[0.00994419027119875, 0.02979901432991028, 0.061031851917505264, 0.05246196687221527, 0.0952313095331192, 0.010530584491789341, 0.008840895257890224, 0.7321601510047913, 0.0], [0.020105332136154175, 0.015152167528867722, 0.023068977519869804, 0.060750000178813934, 0.05214753746986389, 0.010568175464868546, 0.007019293960183859, 0.8111885786056519, 0.0], [0.03648274019360542, 0.044310469180345535, 0.013190997764468193, 0.05658825486898422, 0.03603958711028099, 0.003828197019174695, 0.038187913596630096, 0.7713718414306641, 0.0], [0.026191003620624542, 0.10448475182056427, 0.026096682995557785, 0.025019995868206024, 0.006023556925356388, 0.004661298356950283, 0.05535165220499039, 0.7521710395812988, 0.0], [0.026518244296312332, 0.031024547293782234, 0.034299466758966446, 0.037895530462265015, 0.016973217949271202, 0.01302096527069807, 0.06182360649108887, 0.7784444689750671, 0.0], [0.008698300458490849, 0.027553992345929146, 0.023253142833709717, 0.03431810066103935, 0.03437972441315651, 0.010837492533028126, 0.025306524708867073, 0.8356527090072632, 0.0], [0.00510802399367094, 0.017271680757403374, 0.015620413236320019, 0.058308910578489304, 0.015369054861366749, 0.016716523095965385, 0.021451350301504135, 0.8501541018486023, 0.0], [0.0019179941155016422, 0.0021291279699653387, 0.0019514791201800108, 0.0010330395307391882, 0.003243809100240469, 0.0007542631938122213, 0.00030899301054887474, 0.9886612892150879, 0.0], [0.004786649718880653, 0.0051665655337274075, 0.0026238583959639072, 0.0019933346193283796, 0.0033313408493995667, 0.0010508432751521468, 0.00014349860430229455, 0.9809039235115051, 0.0]], [[0.004421834368258715, 0.15372364223003387, 0.04102874919772148, 0.044022489339113235, 0.008525866083800793, 0.004323750734329224, 0.008876715786755085, 0.735076904296875, 0.0], [0.021020036190748215, 0.013954870402812958, 0.18647368252277374, 0.014383328147232533, 0.014104295521974564, 0.0066255261190235615, 0.013731034472584724, 0.7297071814537048, 0.0], [0.009431734681129456, 0.031137801706790924, 0.00507916696369648, 0.03395781293511391, 0.07421216368675232, 0.013289394788444042, 0.00391380675137043, 0.8289781212806702, 0.0], [0.01716378889977932, 0.03515208512544632, 0.013244432397186756, 0.011718209832906723, 0.1068221777677536, 0.01223879773169756, 0.009536918252706528, 0.7941235303878784, 0.0], [0.012889698147773743, 0.035002756863832474, 0.06252744793891907, 0.022181762382388115, 0.004771925508975983, 0.009728267788887024, 0.09083253145217896, 0.762065589427948, 0.0], [0.009783723391592503, 0.008956585079431534, 0.034307245165109634, 0.013048144057393074, 0.00877473410218954, 0.00609764875844121, 0.07773325592279434, 0.8412986397743225, 0.0], [0.004593225661665201, 0.014818844385445118, 0.01751858927309513, 0.02545221336185932, 0.009327344596385956, 0.020773183554410934, 0.032611262053251266, 0.8749053478240967, 0.0], [0.0003221296356059611, 0.0017495063366368413, 0.0021929480135440826, 0.0009377431706525385, 0.0016862651100382209, 0.0006802045390941203, 0.00039354077307507396, 0.9920376539230347, 0.0], [0.000736940186470747, 0.0039487192407250404, 0.00201469287276268, 0.0015441016294062138, 0.00169387087225914, 0.0005373136955313385, 0.00018519953300710768, 0.9893391728401184, 0.0]], [[0.03332677111029625, 0.03535648062825203, 0.018368160352110863, 0.004936890210956335, 0.004635550547391176, 0.003785664215683937, 0.00279028108343482, 0.8968002200126648, 0.0], [0.07211466133594513, 0.014198814518749714, 0.01506077405065298, 0.0045517259277403355, 0.004169100429862738, 0.003916812129318714, 0.0023013355676084757, 0.8836867809295654, 0.0], [0.010234342887997627, 0.12412136793136597, 0.031561385840177536, 0.011388558894395828, 0.005937022157013416, 0.006034534890204668, 0.004122440703213215, 0.8066003322601318, 0.0], [0.004503106232732534, 0.04247888922691345, 0.11803039908409119, 0.015237249433994293, 0.00463414890691638, 0.0022997413761913776, 0.001982378074899316, 0.8108340501785278, 0.0], [0.006224508862942457, 0.018340932205319405, 0.020479032769799232, 0.17522796988487244, 0.026255730539560318, 0.005303367972373962, 0.0028376488480716944, 0.745330810546875, 0.0], [0.006483484525233507, 0.005893033463507891, 0.005112157668918371, 0.02933863177895546, 0.12857356667518616, 0.009339787997305393, 0.004609222058206797, 0.810650110244751, 0.0], [0.0023533778730779886, 0.007972806692123413, 0.0014588526682928205, 0.008724801242351532, 0.013196238316595554, 0.18675406277179718, 0.020588606595993042, 0.7589512467384338, 0.0], [0.0007409076788462698, 0.001980105647817254, 0.0018268241547048092, 0.0010584549745544791, 0.0007322228047996759, 0.0005037549999542534, 0.0021706116385757923, 0.9909871220588684, 0.0], [0.0010217841481789947, 0.003443509805947542, 0.0016777782002463937, 0.0007391526596620679, 0.0005962117575109005, 0.0003899862931575626, 0.0007548540597781539, 0.9913767576217651, 0.0]], [[0.0060121542774140835, 0.03470943495631218, 0.23193848133087158, 0.08671754598617554, 0.03322996571660042, 0.009337066672742367, 0.008541804738342762, 0.5895135402679443, 0.0], [0.005705665796995163, 0.009945900179445744, 0.023939019069075584, 0.09284432232379913, 0.009179534390568733, 0.005841570440679789, 0.0022838665172457695, 0.8502601385116577, 0.0], [0.054814890027046204, 0.018949264660477638, 0.014622196555137634, 0.03141283988952637, 0.03000744804739952, 0.017607560381293297, 0.015835050493478775, 0.8167507648468018, 0.0], [0.1296800822019577, 0.04976026341319084, 0.021617190912365913, 0.008092284202575684, 0.005277043674141169, 0.02482682652771473, 0.03076864778995514, 0.7299776673316956, 0.0], [0.05441184714436531, 0.06395889073610306, 0.04887322708964348, 0.01659202203154564, 0.006566982716321945, 0.009286640211939812, 0.008851580321788788, 0.7914588451385498, 0.0], [0.008514062501490116, 0.03222557529807091, 0.04362667351961136, 0.03281066194176674, 0.011689250357449055, 0.0017757570603862405, 0.0025225926656275988, 0.8668354153633118, 0.0], [0.0051646362990140915, 0.0049694618210196495, 0.01963062770664692, 0.18962256610393524, 0.03930963575839996, 0.0030444979202002287, 0.004849989898502827, 0.7334085702896118, 0.0], [0.0016285170568153262, 0.0015156751032918692, 0.0014792026486247778, 0.0020141860004514456, 0.0011100999545305967, 0.0010215042857453227, 0.00022765556059312075, 0.991003155708313, 0.0], [0.0027150206733494997, 0.001889701932668686, 0.0011292484123259783, 0.002141199540346861, 0.0009368116734549403, 0.0009010192006826401, 8.549789345124736e-05, 0.9902015328407288, 0.0]], [[0.00895188469439745, 0.04460742324590683, 0.04748408496379852, 0.010906745679676533, 0.013720483519136906, 0.007145066745579243, 0.005261382553726435, 0.8619229197502136, 0.0], [0.00611963402479887, 0.02208874747157097, 0.10336878895759583, 0.020104985684156418, 0.011718721129000187, 0.0036781132221221924, 0.003489816328510642, 0.8294311761856079, 0.0], [0.010429641231894493, 0.017815925180912018, 0.016592852771282196, 0.10796312242746353, 0.029667098075151443, 0.004857373423874378, 0.001562576973810792, 0.8111113905906677, 0.0], [0.003189046634361148, 0.017550097778439522, 0.005413043312728405, 0.033888079226017, 0.07406981289386749, 0.0037460438907146454, 0.0032667499035596848, 0.8588771224021912, 0.0], [0.00261397915892303, 0.013246382586658001, 0.004652379546314478, 0.007721677888184786, 0.004100015386939049, 0.11405440419912338, 0.022284766659140587, 0.831326425075531, 0.0], [0.001263260841369629, 0.004676042590290308, 0.004041468724608421, 0.002081254031509161, 0.003965883981436491, 0.02290055900812149, 0.05741247534751892, 0.9036590456962585, 0.0], [0.0016006287187337875, 0.0077517214231193066, 0.003620399395003915, 0.0035697894636541605, 0.0020041174720972776, 0.008802534081041813, 0.030410565435886383, 0.942240297794342, 0.0], [9.402065916219726e-05, 0.0005997661501169205, 0.0006198981427587569, 0.0005338207120075822, 0.001577232382260263, 0.0006593862199224532, 9.423106530448422e-05, 0.9958215951919556, 0.0], [0.00011078262468799949, 0.0007277580443769693, 0.0005311626009643078, 0.0005981409340165555, 0.0011436592321842909, 0.00038441549986600876, 4.724535028799437e-05, 0.9964568018913269, 0.0]], [[0.018051866441965103, 0.05880121514201164, 0.0022840239107608795, 0.010625684633851051, 0.004226724151521921, 0.007549443747848272, 0.004570899996906519, 0.8938900828361511, 0.0], [0.024870537221431732, 0.01691683568060398, 0.0021137776784598827, 0.011217434890568256, 0.004535639192909002, 0.004429956432431936, 0.0016187818255275488, 0.9342970252037048, 0.0], [0.025513391941785812, 0.030749596655368805, 0.001259832875803113, 0.005546664819121361, 0.006473897956311703, 0.01019187644124031, 0.002780636539682746, 0.9174841642379761, 0.0], [0.03760826215147972, 0.0597129762172699, 0.0065558296628296375, 0.008862380869686604, 0.006541874259710312, 0.00947577878832817, 0.0018937647109851241, 0.8693491220474243, 0.0], [0.049246713519096375, 0.08659807592630386, 0.015199217014014721, 0.013783556409180164, 0.00753738172352314, 0.008973752148449421, 0.003389896359294653, 0.8152714371681213, 0.0], [0.0248151533305645, 0.04962184652686119, 0.007486495189368725, 0.014305337332189083, 0.03328818082809448, 0.01481528952717781, 0.003353360341861844, 0.8523143529891968, 0.0], [0.007160970475524664, 0.005511969327926636, 0.0009751442121341825, 0.007848663255572319, 0.03531156852841377, 0.05486467480659485, 0.0034459256567060947, 0.8848810791969299, 0.0], [0.0009220985812135041, 0.002915632212534547, 1.9390010493225418e-05, 9.257384954253212e-05, 0.0006907388451509178, 0.00045560969738289714, 1.751998752297368e-05, 0.9948864579200745, 0.0], [0.002004575217142701, 0.0035428067203611135, 1.8970556993735954e-05, 0.0001132548859459348, 0.0005540616111829877, 0.0003686817944981158, 1.0250452760374174e-05, 0.9933873414993286, 0.0]], [[0.017112018540501595, 0.05304677411913872, 0.13788099586963654, 0.0927506536245346, 0.02071424387395382, 0.004232366569340229, 0.007343914359807968, 0.6669190526008606, 0.0], [0.0026360570918768644, 0.01146620698273182, 0.03078823909163475, 0.06152646988630295, 0.06292794644832611, 0.0074205175042152405, 0.006751340348273516, 0.816483199596405, 0.0], [0.0020479061640799046, 0.004711997229605913, 0.013852420262992382, 0.0521242655813694, 0.0624389611184597, 0.013949449174106121, 0.011417201720178127, 0.8394578099250793, 0.0], [0.0017023399705067277, 0.003512568539008498, 0.004557060077786446, 0.01427021250128746, 0.006590303964912891, 0.012514717876911163, 0.01621699333190918, 0.9406358003616333, 0.0], [0.0024494563695043325, 0.0027173117268830538, 0.005147581920027733, 0.0044891866855323315, 0.0025681089609861374, 0.11201920360326767, 0.06367260217666626, 0.8069366216659546, 0.0], [0.004153799265623093, 0.0028558855410665274, 0.00358093180693686, 0.002480055671185255, 0.0054869093000888824, 0.06462759524583817, 0.05216914042830467, 0.8646456599235535, 0.0], [0.004487093538045883, 0.0026251128874719143, 0.005021009594202042, 0.006426953244954348, 0.006461180746555328, 0.009012327529489994, 0.03278952091932297, 0.9331768155097961, 0.0], [0.0007373610278591514, 0.0004514091124292463, 0.0008832865278236568, 0.0019547021947801113, 0.003172722179442644, 0.0028055948205292225, 0.001129603828303516, 0.988865315914154, 0.0], [0.00034003835753537714, 0.0003830480563919991, 0.0006494339904747903, 0.0029567682649940252, 0.005182069260627031, 0.002921153325587511, 0.0007601241813972592, 0.9868074059486389, 0.0]]], [[[0.003186788409948349, 0.036892570555210114, 0.010060626082122326, 0.0028292841743677855, 0.0009583277278579772, 0.005585988983511925, 0.003228625748306513, 0.9372577667236328, 0.0], [0.004188256803900003, 0.008911213837563992, 0.04597759619355202, 0.0076970672234892845, 0.010102340951561928, 0.0035971798934042454, 0.005163837224245071, 0.9143624305725098, 0.0], [0.006243554875254631, 0.034095101058483124, 0.009415464475750923, 0.0474386140704155, 0.004960997961461544, 0.003925647586584091, 0.0011849156580865383, 0.8927357196807861, 0.0], [0.0010237285168841481, 0.0013521815417334437, 0.00458694389089942, 0.022936787456274033, 0.11631809920072556, 0.0032419662456959486, 0.004780408926308155, 0.8457598090171814, 0.0], [0.0008587936172261834, 0.001905351411551237, 0.0004821523034479469, 0.004824039060622454, 0.001634944579564035, 0.09207924455404282, 0.019755078479647636, 0.8784604072570801, 0.0], [0.0017825075192376971, 0.0015749915037304163, 0.0012061485322192311, 0.0014681837055832148, 0.003798970952630043, 0.014131300151348114, 0.030060989782214165, 0.9459769129753113, 0.0], [0.00042052133358083665, 0.006728969980031252, 0.002467498416081071, 0.00909580010920763, 0.0021611012052744627, 0.016901034861803055, 0.02171916514635086, 0.940505862236023, 0.0], [0.00038850156124681234, 0.0014595250831916928, 0.0016744154272601008, 0.002485115546733141, 0.0036067089531570673, 0.005530701018869877, 0.0013393720146268606, 0.9835156798362732, 0.0], [0.0003606799291446805, 0.00159754219930619, 0.0019215871579945087, 0.003503981977701187, 0.003686644369736314, 0.003893329994753003, 0.0008832854218780994, 0.9841529726982117, 0.0]], [[0.005228152498602867, 0.1361849308013916, 0.11187390238046646, 0.016653895378112793, 0.00215670233592391, 0.0010222616838291287, 0.0030963888857513666, 0.7237837314605713, 0.0], [0.011492905206978321, 0.010959094390273094, 0.2582955062389374, 0.039925772696733475, 0.00105767953209579, 0.00046844742610119283, 0.006214374676346779, 0.671586275100708, 0.0], [0.0002244719216832891, 0.000793932587839663, 0.005041064228862524, 0.04452488198876381, 0.05515601113438606, 0.007587000727653503, 0.00022551858273800462, 0.8864471316337585, 0.0], [0.007158811204135418, 0.00698497612029314, 0.0011525166919454932, 0.011823981069028378, 0.02953956089913845, 0.032593127340078354, 0.007373676169663668, 0.9033733010292053, 0.0], [0.00033146722125820816, 0.001318805618211627, 0.0029574711807072163, 0.015056874603033066, 0.002487740246579051, 0.02799414098262787, 0.05336415395140648, 0.8964893817901611, 0.0], [0.00016035033331718296, 0.0005833899485878646, 0.001185532775707543, 0.007951365783810616, 0.0019201949471607804, 0.016437280923128128, 0.020572442561388016, 0.951189398765564, 0.0], [0.0003836634859908372, 0.0014829087303951383, 0.0010120754595845938, 0.0205365102738142, 0.0066194795072078705, 0.021655334159731865, 0.005151589401066303, 0.9431584477424622, 0.0], [0.0004872475692536682, 0.00077938346657902, 0.003440744709223509, 0.0020488109439611435, 0.001309092971496284, 0.003571246052160859, 0.002864920301362872, 0.9854985475540161, 0.0], [0.0004988135187886655, 0.001094343839213252, 0.004152563866227865, 0.003267892636358738, 0.001860080286860466, 0.003455531317740679, 0.0021446787286549807, 0.9835260510444641, 0.0]], [[0.007477750536054373, 0.0029770575929433107, 0.0005896291695535183, 0.0058269198052585125, 0.04159102961421013, 0.032324209809303284, 0.002178959548473358, 0.9070343971252441, 0.0], [0.13347508013248444, 0.0030968368519097567, 0.017080511897802353, 0.0026611958164721727, 0.013725810684263706, 0.01524274330586195, 0.004080136306583881, 0.8106377124786377, 0.0], [0.0044901748187839985, 0.07776964455842972, 0.015520951710641384, 0.002091222908347845, 0.002171364612877369, 0.0038113868795335293, 0.00901435874402523, 0.8851309418678284, 0.0], [0.0024700129870325327, 0.014801278710365295, 0.0992608368396759, 0.005215132609009743, 0.00386175699532032, 0.001744952634908259, 0.011194583028554916, 0.8614515066146851, 0.0], [0.0018640904454514384, 0.011502929963171482, 0.007986648939549923, 0.03726733475923538, 0.011124461889266968, 0.0008927599410526454, 0.0015029213391244411, 0.9278588891029358, 0.0], [0.0019031902775168419, 0.003931587096303701, 0.004013432189822197, 0.0817631185054779, 0.059135034680366516, 0.0023056918289512396, 0.015350609086453915, 0.8315973877906799, 0.0], [0.004110276699066162, 0.0034508949611335993, 0.0003582548233680427, 0.007088333833962679, 0.0010530102299526334, 0.022479191422462463, 0.013827592134475708, 0.9476324319839478, 0.0], [0.0016450544353574514, 0.0028980320785194635, 0.001983274705708027, 0.0036308220587670803, 0.004451661370694637, 0.0029675548430532217, 0.007477922830730677, 0.9749456644058228, 0.0], [0.002554085338488221, 0.004877664148807526, 0.0022533093579113483, 0.002595240715891123, 0.002989606000483036, 0.0021239020861685276, 0.005031393840909004, 0.9775747656822205, 0.0]], [[0.004254018422216177, 0.008752894587814808, 0.01780288852751255, 0.34858009219169617, 0.01569545269012451, 0.005402722395956516, 0.0034851841628551483, 0.5960267186164856, 0.0], [0.010570555925369263, 0.0036665955558419228, 0.0006243356037884951, 0.25940629839897156, 0.009075140580534935, 0.0045657092705369, 0.005472681485116482, 0.7066187262535095, 0.0], [0.008295931853353977, 0.0026287741493433714, 0.01017791498452425, 0.013954086229205132, 0.08515267074108124, 0.01728728413581848, 0.0019380951998755336, 0.8605653047561646, 0.0], [0.00829373300075531, 0.011891468428075314, 0.006057781632989645, 0.0365658737719059, 0.048259370028972626, 0.02324850857257843, 0.004761225543916225, 0.8609220385551453, 0.0], [0.002061922335997224, 0.004022172186523676, 0.039738304913043976, 0.07087325304746628, 0.008001070469617844, 0.015905989333987236, 0.0011878269724547863, 0.858209490776062, 0.0], [0.001558387652039528, 0.004753683693706989, 0.033266931772232056, 0.007162371184676886, 0.006967068184167147, 0.010969353839755058, 0.0022679767571389675, 0.9330542087554932, 0.0], [0.0017683511832728982, 0.012174923904240131, 0.054354362189769745, 0.003405606606975198, 0.005236709024757147, 0.00906545389443636, 0.013100366108119488, 0.9008942246437073, 0.0], [0.000927979126572609, 0.0011387700214982033, 0.00391114316880703, 0.003149690106511116, 0.004067228641360998, 0.0022455479484051466, 0.0022786338813602924, 0.982280969619751, 0.0], [0.0013457160675898194, 0.0016176732024177909, 0.004171968437731266, 0.0036608469672501087, 0.004376446362584829, 0.0024377256631851196, 0.0018554046982899308, 0.9805342555046082, 0.0]], [[0.0007862363127060235, 0.0029869896825402975, 0.0872754231095314, 0.024476639926433563, 0.14371582865715027, 0.03331242874264717, 0.004330527503043413, 0.7031158208847046, 0.0], [0.0019989970605820417, 0.001928458921611309, 0.0030962491873651743, 0.027640026062726974, 0.16747553646564484, 0.036551930010318756, 0.001294631976634264, 0.7600141763687134, 0.0], [0.031010989099740982, 0.004461595322936773, 0.0018238704651594162, 0.002470047678798437, 0.06238371506333351, 0.06285615265369415, 0.008147843182086945, 0.8268457651138306, 0.0], [0.043937359005212784, 0.010891444981098175, 0.006901928689330816, 0.004291991703212261, 0.007093663327395916, 0.007129710633307695, 0.03642788529396057, 0.88332599401474, 0.0], [0.022934069857001305, 0.026426661759614944, 0.006451200693845749, 0.005432714708149433, 0.009967607446014881, 0.0064195385202765465, 0.031489718705415726, 0.8908784985542297, 0.0], [0.00347073283046484, 0.010984309017658234, 0.015166299417614937, 0.0070826211012899876, 0.011180181987583637, 0.0011076214723289013, 0.007113366853445768, 0.9438948631286621, 0.0], [0.0020811092108488083, 0.005873112473636866, 0.0207986943423748, 0.08743854612112045, 0.046911150217056274, 0.004966413136571646, 0.005328231491148472, 0.8266027569770813, 0.0], [0.0009997572051361203, 0.0014943606220185757, 0.0025569729041308165, 0.0017372206784784794, 0.0036501516588032246, 0.0029347629752010107, 0.0019002804765477777, 0.9847264885902405, 0.0], [0.001642404356971383, 0.0015885955654084682, 0.0019495832966640592, 0.001666249125264585, 0.004901716951280832, 0.00445509934797883, 0.001407918520271778, 0.982388436794281, 0.0]], [[0.023948634043335915, 0.020517567172646523, 0.036271266639232635, 0.0019089998677372932, 0.00050112244207412, 0.0037895257119089365, 0.0036702854558825493, 0.9093925356864929, 0.0], [0.0030976375564932823, 0.011381040327250957, 0.09431449323892593, 0.013016038574278355, 0.0028985305689275265, 0.0017787371762096882, 0.0014820406213402748, 0.8720315098762512, 0.0], [0.0002818696666508913, 0.0018113225232809782, 0.01572815328836441, 0.06370115280151367, 0.004125918261706829, 0.0008529514889232814, 0.0002708574465941638, 0.9132277965545654, 0.0], [0.0006398589466698468, 0.007733549457043409, 0.002531697740778327, 0.012516168877482414, 0.09752453863620758, 0.007060233969241381, 0.003304459387436509, 0.8686895370483398, 0.0], [0.002190385479480028, 0.009191356599330902, 0.00240365881472826, 0.0031613733153790236, 0.0054250857792794704, 0.05646544322371483, 0.019573483616113663, 0.9015892148017883, 0.0], [0.0012525608763098717, 0.005809382069855928, 0.0029424994718283415, 0.0012694448232650757, 0.0017533950740471482, 0.013496621511876583, 0.04637760668992996, 0.9270985126495361, 0.0], [0.001670579775236547, 0.00776183744892478, 0.003149664495140314, 0.011232794262468815, 0.0024582515470683575, 0.011300420388579369, 0.019453037530183792, 0.9429734349250793, 0.0], [0.0014890186721459031, 0.0014057738007977605, 0.002103641163557768, 0.002482811687514186, 0.0025076274760067463, 0.008520873263478279, 0.002172403736039996, 0.9793179035186768, 0.0], [0.0010437146993353963, 0.0016038407338783145, 0.002683004131540656, 0.003519786987453699, 0.002532042097300291, 0.00570638244971633, 0.0012263484532013535, 0.9816848635673523, 0.0]], [[0.0017624078318476677, 0.0007659168331883848, 0.00034354208037257195, 0.0014296886511147022, 0.015817582607269287, 0.1384255439043045, 0.014456291683018208, 0.8269990086555481, 0.0], [0.008187215775251389, 0.00308111310005188, 0.0017422224627807736, 0.00032805034425109625, 0.0051678321324288845, 0.019071709364652634, 0.02018454484641552, 0.9422373175621033, 0.0], [0.07224909216165543, 0.006870804354548454, 0.0024942795280367136, 0.0011500584660097957, 0.005658417008817196, 0.024394210427999496, 0.009615300223231316, 0.8775678873062134, 0.0], [0.008971760049462318, 0.3376547694206238, 0.016451947391033173, 0.005838651210069656, 0.002905030967667699, 0.004374953918159008, 0.003996378276497126, 0.6198064684867859, 0.0], [0.0031626864802092314, 0.06343508511781693, 0.049091074615716934, 0.01605343632400036, 0.006066279951483011, 0.0008554932428523898, 0.0024574915878474712, 0.8588784337043762, 0.0], [0.0007104827091097832, 0.008148289285600185, 0.019351636990904808, 0.06236962601542473, 0.05104810371994972, 0.0017720845062285662, 0.0006414502859115601, 0.8559582829475403, 0.0], [0.0023086462169885635, 0.0008434579358436167, 0.0015716252382844687, 0.03839545696973801, 0.029349617660045624, 0.0012919394066557288, 0.005364477634429932, 0.9208747148513794, 0.0], [0.0012956386199221015, 0.0023398755583912134, 0.004405187908560038, 0.005204557906836271, 0.004162191413342953, 0.007530259899795055, 0.0068114688619971275, 0.9682508707046509, 0.0], [0.002400183118879795, 0.002638538833707571, 0.002614861587062478, 0.002803768264129758, 0.003056599060073495, 0.007638178765773773, 0.004951728042215109, 0.9738962054252625, 0.0]], [[0.0031581928487867117, 0.03096727654337883, 0.08199451863765717, 0.012122574262320995, 0.00680722389370203, 0.00149885518476367, 0.0034372685477137566, 0.8600141406059265, 0.0], [0.032845642417669296, 0.021923620253801346, 0.025246787816286087, 0.07848803699016571, 0.007110820151865482, 0.0014505076687783003, 0.012456501834094524, 0.820478081703186, 0.0], [0.006587850395590067, 0.07438444346189499, 0.026085536926984787, 0.037373147904872894, 0.0326877161860466, 0.0018143882043659687, 0.007448336109519005, 0.8136186003684998, 0.0], [0.004311867989599705, 0.028155632317066193, 0.049670279026031494, 0.006918435450643301, 0.026128409430384636, 0.0071761468425393105, 0.008180631324648857, 0.8694586157798767, 0.0], [0.0020789052359759808, 0.0034661805257201195, 0.020325196906924248, 0.03360309079289436, 0.010999207384884357, 0.012278539128601551, 0.022355906665325165, 0.8948929905891418, 0.0], [0.0018688717391341925, 0.004002667963504791, 0.017589319497346878, 0.03975309431552887, 0.01497986726462841, 0.012599688023328781, 0.0566583126783371, 0.8525481224060059, 0.0], [0.0005258013843558729, 0.003815634874626994, 0.004632193595170975, 0.013878596015274525, 0.011378380469977856, 0.023866944015026093, 0.018647314980626106, 0.923255205154419, 0.0], [0.0002931338094640523, 0.001210918533615768, 0.0018497761338949203, 0.0016365026822313666, 0.004975282587110996, 0.004846899304538965, 0.0007889646803960204, 0.9843984842300415, 0.0], [0.0005006667342968285, 0.0023338133469223976, 0.002385542495176196, 0.0025542599614709616, 0.005595212336629629, 0.004305059555917978, 0.0005785728571936488, 0.9817469120025635, 0.0]]], [[[0.0008506698068231344, 0.0011329739354550838, 0.023489423096179962, 0.01550225354731083, 0.17097073793411255, 0.07219935208559036, 0.01420250441879034, 0.7016521096229553, 0.0], [0.018239470198750496, 0.009755274280905724, 0.001129164476878941, 0.0010362225584685802, 0.0353432334959507, 0.0351383239030838, 0.0055745067074894905, 0.8937838077545166, 0.0], [0.024163085967302322, 0.009306149557232857, 0.0018027937039732933, 0.0025412729009985924, 0.00800496619194746, 0.007723833434283733, 0.0052631692960858345, 0.9411947131156921, 0.0], [0.004700732883065939, 0.07014200091362, 0.0070573086850345135, 0.007428580429404974, 0.0015890586655586958, 0.007027174346148968, 0.0021375485230237246, 0.8999176025390625, 0.0], [0.0019508089171722531, 0.01784490793943405, 0.06862114369869232, 0.0038811862468719482, 0.004274424165487289, 0.0037276912480592728, 0.00255278660915792, 0.8971471190452576, 0.0], [0.0004493740270845592, 0.0040292595513165, 0.055669721215963364, 0.02632118947803974, 0.013092797249555588, 0.003927771933376789, 0.0004823997733183205, 0.8960274457931519, 0.0], [0.0016807923093438148, 0.000738729489967227, 0.003041512332856655, 0.010329702869057655, 0.05362056940793991, 0.008840356022119522, 0.001785983913578093, 0.9199624061584473, 0.0], [0.0019813752733170986, 0.006882311776280403, 0.013828305527567863, 0.028329286724328995, 0.026583490893244743, 0.06745139509439468, 0.058747097849845886, 0.7961967587471008, 0.0], [0.002880778396502137, 0.008243164978921413, 0.011346470564603806, 0.020561426877975464, 0.022498754784464836, 0.06735029071569443, 0.050124820321798325, 0.8169942498207092, 0.0]], [[0.012281648814678192, 0.0022912505082786083, 0.0022035434376448393, 0.004497222136706114, 0.0071899304166436195, 0.00853243749588728, 0.003490887116640806, 0.9595130681991577, 0.0], [0.03508936986327171, 0.00866522267460823, 0.0038268323987722397, 0.002623193198814988, 0.0023250989615917206, 0.004074957221746445, 0.001921825110912323, 0.9414734840393066, 0.0], [0.004367183893918991, 0.06925760954618454, 0.018933968618512154, 0.0028486824594438076, 0.0013465119991451502, 0.005316099617630243, 0.0016431892290711403, 0.8962867856025696, 0.0], [0.0007391489343717694, 0.006621106062084436, 0.08986443281173706, 0.005992822349071503, 0.0029306302312761545, 0.0032463199459016323, 0.001785406144335866, 0.8888201117515564, 0.0], [0.000521295121870935, 0.00048540468560531735, 0.007929032668471336, 0.06561659276485443, 0.02496901899576187, 0.0024419287219643593, 0.00017536622181069106, 0.8978613615036011, 0.0], [0.000875726924277842, 0.0007747590425424278, 0.0022448915988206863, 0.047569721937179565, 0.10108459740877151, 0.04253849387168884, 0.001781019032932818, 0.8031308054924011, 0.0], [0.0028153674211353064, 0.001382351852953434, 0.0015741655370220542, 0.003913215361535549, 0.014019056223332882, 0.08067702502012253, 0.003901295131072402, 0.8917175531387329, 0.0], [0.0028002073522657156, 0.004542256239801645, 0.00784138310700655, 0.016302645206451416, 0.02661987394094467, 0.026589402928948402, 0.04683668538928032, 0.8684675693511963, 0.0], [0.002931764116510749, 0.005652991123497486, 0.008892267011106014, 0.013767726719379425, 0.018955204635858536, 0.02128850668668747, 0.041042789816856384, 0.8874688148498535, 0.0]], [[0.004581324756145477, 0.12613792717456818, 0.00294662406668067, 0.0026186632458120584, 0.002682723104953766, 0.020627200603485107, 0.0020152840297669172, 0.8383902907371521, 0.0], [0.02500852197408676, 0.027473201975226402, 0.003829685039818287, 0.011745364405214787, 0.003897956106811762, 0.008539272472262383, 0.003102218033745885, 0.9164037704467773, 0.0], [0.0017276236321777105, 0.027671800926327705, 0.0031020892783999443, 0.01735294982790947, 0.03338031470775604, 0.022360602393746376, 0.0043853698298335075, 0.8900192975997925, 0.0], [0.006960023660212755, 0.005948547273874283, 0.1446506530046463, 0.009664482437074184, 0.00913057941943407, 0.005610383581370115, 0.01519460417330265, 0.8028407096862793, 0.0], [0.005041789263486862, 0.001899749506264925, 0.010768316686153412, 0.029551919549703598, 0.013984976336359978, 0.0037225736305117607, 0.004211849067360163, 0.9308187961578369, 0.0], [0.005782315973192453, 0.0011200105072930455, 0.009245478548109531, 0.010090814903378487, 0.0062392279505729675, 0.03153769299387932, 0.004731179215013981, 0.9312532544136047, 0.0], [0.001206728513352573, 0.0012005981989204884, 0.0020449759904295206, 0.017953962087631226, 0.006853715516626835, 0.033884450793266296, 0.005045325495302677, 0.9318102598190308, 0.0], [0.0009111863910220563, 0.003360150847584009, 0.008074061945080757, 0.005136171355843544, 0.014567745849490166, 0.016446685418486595, 0.04502084478735924, 0.9064831733703613, 0.0], [0.001184447668492794, 0.004178663715720177, 0.008552290499210358, 0.005777152255177498, 0.01493842713534832, 0.015205332078039646, 0.03739597275853157, 0.9127677083015442, 0.0]], [[0.01770210824906826, 0.010923290625214577, 0.02029573917388916, 0.00733494246378541, 0.0053146006539464, 0.015606892295181751, 0.0010223517892882228, 0.9218000173568726, 0.0], [0.056281398981809616, 0.020106859505176544, 0.014225886203348637, 0.0009837470715865493, 0.005264416337013245, 0.03652631863951683, 0.004898508079349995, 0.8617129325866699, 0.0], [0.004348778631538153, 0.036803778260946274, 0.015015317127108574, 0.0035097533836960793, 0.001005117199383676, 0.01341981440782547, 0.005898496601730585, 0.9199988842010498, 0.0], [0.0027146944776177406, 0.024987922981381416, 0.093856580555439, 0.021271012723445892, 0.005042404402047396, 0.001606063568033278, 0.006648255977779627, 0.8438730835914612, 0.0], [0.0003920441085938364, 0.005355090368539095, 0.004794909618794918, 0.08552898466587067, 0.007760019972920418, 0.0004840593028347939, 0.001227914821356535, 0.8944570422172546, 0.0], [0.001368206343613565, 0.004585097078233957, 0.0015043002786114812, 0.0315120667219162, 0.03275959938764572, 0.00043484268826432526, 0.010777532123029232, 0.9170583486557007, 0.0], [0.0013690852792933583, 0.00241620815359056, 0.0011443380499258637, 0.004852958954870701, 0.000477234018035233, 0.03341727331280708, 0.017316345125436783, 0.9390066266059875, 0.0], [0.0051290192641317844, 0.004449767526239157, 0.005414607468992472, 0.018320167437195778, 0.024361591786146164, 0.0360410213470459, 0.07263316959142685, 0.8336506485939026, 0.0], [0.006014357786625624, 0.00695784343406558, 0.006649387534707785, 0.016134729608893394, 0.017697034403681755, 0.028485501185059547, 0.05554075166583061, 0.8625203967094421, 0.0]], [[0.0016996609047055244, 0.0019434622954577208, 0.35561978816986084, 0.03138386830687523, 0.015983816236257553, 0.013849765993654728, 0.0035435918252915144, 0.5759760737419128, 0.0], [0.004363602492958307, 0.0040495553985238075, 0.10861650854349136, 0.046238213777542114, 0.002656542230397463, 0.004805206786841154, 0.0016766246408224106, 0.8275937438011169, 0.0], [0.005790183320641518, 0.04661617800593376, 0.007392202038317919, 0.01262971106916666, 0.02075384184718132, 0.0038887541741132736, 0.002291574841365218, 0.9006375074386597, 0.0], [0.0015581599436700344, 0.0030569497030228376, 0.006484298035502434, 0.006105901673436165, 0.1495896279811859, 0.048137929290533066, 0.009126214310526848, 0.7759408950805664, 0.0], [0.0006015867693349719, 0.006108028814196587, 0.000483636133139953, 0.007527081295847893, 0.0019734168890863657, 0.007904195226728916, 0.02028949186205864, 0.9551125168800354, 0.0], [0.0009071202366612852, 0.005132121033966541, 0.00681684585288167, 0.002936597215011716, 0.0025158573407679796, 0.010071014054119587, 0.01244634110480547, 0.9591741561889648, 0.0], [0.00037029964732937515, 0.005834474228322506, 0.015874462202191353, 0.0036911058705300093, 0.00549143273383379, 0.008320027031004429, 0.004626472946256399, 0.955791711807251, 0.0], [0.0011582920560613275, 0.0019029596587643027, 0.0591241829097271, 0.009343788959085941, 0.012927006930112839, 0.012022173032164574, 0.0026317064184695482, 0.9008898735046387, 0.0], [0.0013201874680817127, 0.0023867464624345303, 0.05726979300379753, 0.010705207474529743, 0.013878454454243183, 0.010691545903682709, 0.002319617895409465, 0.9014285206794739, 0.0]], [[0.019365275278687477, 0.016895394772291183, 0.027311500161886215, 0.04714837670326233, 0.07083503901958466, 0.01632506586611271, 0.008688290603458881, 0.7934311032295227, 0.0], [0.002474494744092226, 0.001150199444964528, 0.0026859412901103497, 0.011430659331381321, 0.10446725785732269, 0.03545284643769264, 0.0026195324026048183, 0.8397190570831299, 0.0], [0.0002119302371283993, 0.003521896433085203, 0.004358471836894751, 0.02802967093884945, 0.21768370270729065, 0.03508428484201431, 0.0037323704455047846, 0.7073776721954346, 0.0], [0.0021945973858237267, 0.008064942434430122, 0.017567988485097885, 0.006847723387181759, 0.003920614719390869, 0.1277073472738266, 0.0008100110571831465, 0.8328867554664612, 0.0], [0.0007426560623571277, 0.0047693559899926186, 0.07879394292831421, 0.0031879812013357878, 0.00225341715849936, 0.007290002424269915, 0.007741458714008331, 0.8952211737632751, 0.0], [0.0007999096997082233, 0.0018256829353049397, 0.10726196318864822, 0.04676729068160057, 0.0016383775509893894, 0.000983471400104463, 0.005290628876537085, 0.8354327082633972, 0.0], [0.0010451702401041985, 0.0018312877509742975, 0.045664556324481964, 0.010910509154200554, 0.010091192089021206, 0.027215996757149696, 0.0011063411366194487, 0.902134895324707, 0.0], [0.0020012182649224997, 0.0031067728996276855, 0.06546882539987564, 0.004990965127944946, 0.024111725389957428, 0.017885785549879074, 0.0073988293297588825, 0.87503582239151, 0.0], [0.0021672777365893126, 0.003254223382100463, 0.061345357447862625, 0.0057940431870520115, 0.025485603138804436, 0.018202777951955795, 0.0074530234560370445, 0.8762977123260498, 0.0]], [[0.023091323673725128, 0.22228990495204926, 0.006662648171186447, 0.0024807441513985395, 0.001983844907954335, 0.007565886247903109, 0.00634255213662982, 0.7295830845832825, 0.0], [0.001944696414284408, 0.0359448567032814, 0.024464253336191177, 0.011700214818120003, 0.0018890248611569405, 0.003711891593411565, 0.0029909030999988317, 0.9173542261123657, 0.0], [0.001645462354645133, 0.0022644030395895243, 0.027077283710241318, 0.04440569505095482, 0.005082306452095509, 0.0018503527389839292, 0.002971859648823738, 0.9147026538848877, 0.0], [0.001384506467729807, 0.0035213083028793335, 0.0017211969243362546, 0.008232471533119678, 0.12066930532455444, 0.004350512754172087, 0.002305235480889678, 0.8578154444694519, 0.0], [0.002621055580675602, 0.0072127715684473515, 0.000503113551530987, 0.004929565824568272, 0.000883726344909519, 0.08210552483797073, 0.010621837340295315, 0.8911223411560059, 0.0], [0.0016358632128685713, 0.0053886426612734795, 0.0012456871336326003, 0.0030842020642012358, 0.003736772807314992, 0.051506273448467255, 0.0372139997780323, 0.8961885571479797, 0.0], [0.0008399650687351823, 0.007574938703328371, 0.0012246901169419289, 0.00459875725209713, 0.0011929844040423632, 0.021797627210617065, 0.014963548630475998, 0.9478074908256531, 0.0], [0.007471340708434582, 0.014363851398229599, 0.006361626088619232, 0.008518433198332787, 0.009753260761499405, 0.011707077734172344, 0.006503751967102289, 0.9353206157684326, 0.0], [0.006408926099538803, 0.013959215022623539, 0.007129166275262833, 0.010844948701560497, 0.009923888370394707, 0.00961233489215374, 0.004591869655996561, 0.9375296235084534, 0.0]], [[0.0016985193360596895, 0.0030564849730581045, 0.0002465462312102318, 0.02317311055958271, 0.11663960665464401, 0.23702694475650787, 0.0018489257199689746, 0.6163098216056824, 0.0], [0.014558079652488232, 0.00211280956864357, 0.003979073371738195, 0.053119294345378876, 0.018300145864486694, 0.05923920124769211, 0.0045631201937794685, 0.8441282510757446, 0.0], [0.005667717661708593, 0.3480970561504364, 0.008694279938936234, 0.001864725025370717, 0.04214935749769211, 0.020625650882720947, 0.0018040230497717857, 0.571097195148468, 0.0], [0.005488522816449404, 0.08465483039617538, 0.004714781418442726, 0.004605748225003481, 0.01606597751379013, 0.002027307404205203, 0.0020549187902361155, 0.8803879022598267, 0.0], [0.00040799801354296505, 0.0012463058810681105, 0.014995339326560497, 0.04966631159186363, 0.0030164113268256187, 0.0018139921594411135, 0.00908567849546671, 0.9197680354118347, 0.0], [5.624017649097368e-05, 0.0012831996427848935, 0.01783084124326706, 0.04819101095199585, 0.006102078594267368, 0.0026627732440829277, 0.013799275271594524, 0.9100745916366577, 0.0], [0.0031807872001081705, 0.0019146651029586792, 0.0041815186850726604, 0.005233579780906439, 0.008461741730570793, 0.008139308542013168, 0.003124426119029522, 0.9657639265060425, 0.0], [0.0009385272278450429, 0.004246573429554701, 0.007023381069302559, 0.00921771489083767, 0.007765619084239006, 0.016345951706171036, 0.022226965054869652, 0.9322352409362793, 0.0], [0.00109983014408499, 0.005100766196846962, 0.006941717583686113, 0.009381933137774467, 0.007898548617959023, 0.015505152754485607, 0.019000086933374405, 0.9350719451904297, 0.0]]]], \"left_text\": [\"Q\", \"K\", \"L\", \"V\", \"F\", \"F\", \"A\", \"<eos>\", \"<pad>\"], \"right_text\": [\"Q\", \"K\", \"L\", \"V\", \"F\", \"F\", \"A\", \"<eos>\", \"<pad>\"]}, {\"name\": \"Decoder\", \"attn\": [[[[1.0, 0.0, 0.0, 0.0, 0.0, 0.0, 0.0, 0.0], [0.0, 1.0, 0.0, 0.0, 0.0, 0.0, 0.0, 0.0], [0.0, 2.4808567277401167e-22, 1.0, 0.0, 0.0, 0.0, 0.0, 0.0], [0.0, 7.6662130441983865e-31, 1.0, 6.766070127948335e-19, 0.0, 0.0, 0.0, 0.0], [0.0, 0.0, 0.0, 6.117858900472503e-40, 1.0, 0.0, 0.0, 0.0], [0.0, 0.0, 0.0, 0.0, 1.0, 7.006492321624085e-45, 0.0, 0.0], [0.0, 0.0, 0.0, 0.0, 0.0, 0.0, 1.0, 0.0], [0.0, 0.0, 0.0, 0.0, 0.0, 0.0, 1.0, 0.0]], [[1.0, 0.0, 0.0, 0.0, 0.0, 0.0, 0.0, 0.0], [1.0, 0.0, 0.0, 0.0, 0.0, 0.0, 0.0, 0.0], [0.0, 1.0, 1.984336200698609e-36, 0.0, 0.0, 0.0, 0.0, 0.0], [0.0, 0.0, 1.0, 1.375071251072834e-35, 0.0, 0.0, 0.0, 0.0], [0.0, 0.0, 0.0, 1.0, 0.0, 0.0, 0.0, 0.0], [0.0, 0.0, 0.0, 0.0, 1.0, 0.0, 0.0, 0.0], [0.0, 0.0, 0.0, 0.0, 0.0, 1.0, 0.0, 0.0], [0.0, 0.0, 0.0, 0.0, 0.0, 0.0, 1.0, 0.0]], [[1.0, 0.0, 0.0, 0.0, 0.0, 0.0, 0.0, 0.0], [0.9576599597930908, 0.04234006628394127, 0.0, 0.0, 0.0, 0.0, 0.0, 0.0], [0.06292805820703506, 0.9161285758018494, 0.02094339393079281, 0.0, 0.0, 0.0, 0.0, 0.0], [0.022362256422638893, 0.07536663860082626, 0.8595830202102661, 0.04268806055188179, 0.0, 0.0, 0.0, 0.0], [0.03619980812072754, 0.0006220238865353167, 0.050911348313093185, 0.8318561315536499, 0.0804106742143631, 0.0, 0.0, 0.0], [0.006565080024302006, 3.5507378015608992e-06, 0.00040662908577360213, 0.05739247798919678, 0.8983779549598694, 0.03725425526499748, 0.0, 0.0], [0.008374590426683426, 9.218956051881833e-07, 2.431643451927812e-06, 0.0006316931103356183, 0.11973530799150467, 0.7439307570457458, 0.12732426822185516, 0.0], [0.015400848351418972, 6.70945428282721e-06, 1.1482584341138136e-06, 1.60190143105865e-06, 0.0009400022099725902, 0.05635923519730568, 0.7885937690734863, 0.13869670033454895]], [[1.0, 0.0, 0.0, 0.0, 0.0, 0.0, 0.0, 0.0], [1.0, 0.0, 0.0, 0.0, 0.0, 0.0, 0.0, 0.0], [0.0, 0.0, 1.0, 0.0, 0.0, 0.0, 0.0, 0.0], [0.0, 0.0, 0.0, 1.0, 0.0, 0.0, 0.0, 0.0], [0.0, 0.0, 0.0, 1.0, 0.0, 0.0, 0.0, 0.0], [0.0, 0.0, 0.0, 0.0, 0.0, 1.0, 0.0, 0.0], [0.0, 0.0, 0.0, 0.0, 0.0, 0.0, 1.0, 0.0], [0.0, 0.0, 0.0, 0.0, 0.0, 0.0, 0.0, 1.0]], [[1.0, 0.0, 0.0, 0.0, 0.0, 0.0, 0.0, 0.0], [0.9997527003288269, 0.0002473281347192824, 0.0, 0.0, 0.0, 0.0, 0.0, 0.0], [0.9308361411094666, 0.06909788399934769, 6.595009472221136e-05, 0.0, 0.0, 0.0, 0.0, 0.0], [0.05297974869608879, 0.8959234356880188, 0.05076735466718674, 0.00032953190384432673, 0.0, 0.0, 0.0, 0.0], [3.8836376916151494e-05, 0.02384207770228386, 0.9474923014640808, 0.028622213751077652, 4.60886258224491e-06, 0.0, 0.0, 0.0], [6.184214806914667e-10, 5.600327881438716e-07, 0.085454560816288, 0.9063146114349365, 0.008230148814618587, 1.2680149552579678e-07, 0.0, 0.0], [2.2658811281516053e-17, 6.56984164878853e-16, 1.0523214299951178e-08, 0.0023879683576524258, 0.9947401881217957, 0.0028718337416648865, 5.151398418945519e-09, 0.0], [8.717194958836039e-27, 2.271103390519077e-27, 1.880822855801702e-19, 1.8141263491422421e-10, 0.011424675583839417, 0.9873712062835693, 0.0012041290756314993, 1.739013794077593e-10]], [[1.0, 0.0, 0.0, 0.0, 0.0, 0.0, 0.0, 0.0], [1.0, 1.622440177576845e-39, 0.0, 0.0, 0.0, 0.0, 0.0, 0.0], [5.038124706586168e-32, 1.0, 3.640969883001691e-18, 0.0, 0.0, 0.0, 0.0, 0.0], [0.0, 6.688804370441996e-25, 1.0, 2.9710147536610165e-11, 0.0, 0.0, 0.0, 0.0], [0.0, 0.0, 6.157068633787855e-29, 1.0, 5.203311748280142e-16, 0.0, 0.0, 0.0], [0.0, 0.0, 0.0, 1.0396461136706388e-28, 1.0, 3.3918355724502285e-29, 0.0, 0.0], [0.0, 0.0, 0.0, 0.0, 2.382440571017106e-16, 1.0, 1.3378886072350334e-21, 0.0], [0.0, 0.0, 0.0, 0.0, 0.0, 1.0591108885866394e-31, 1.0, 1.5614965193434378e-22]], [[1.0, 0.0, 0.0, 0.0, 0.0, 0.0, 0.0, 0.0], [1.0, 4.7082204951123405e-35, 0.0, 0.0, 0.0, 0.0, 0.0, 0.0], [0.0, 0.0, 1.0, 0.0, 0.0, 0.0, 0.0, 0.0], [0.0, 0.0, 1.0, 1.9648108704942548e-15, 0.0, 0.0, 0.0, 0.0], [0.0, 0.0, 4.725470181306127e-15, 1.0, 2.7337888244208524e-36, 0.0, 0.0, 0.0], [0.0, 0.0, 0.0, 0.0, 0.0, 1.0, 0.0, 0.0], [0.0, 0.0, 0.0, 0.0, 0.0, 1.0, 0.0, 0.0], [0.0, 0.0, 0.0, 0.0, 0.0, 1.0, 7.096235511019024e-37, 0.0]], [[1.0, 0.0, 0.0, 0.0, 0.0, 0.0, 0.0, 0.0], [0.21410848200321198, 0.7858915328979492, 0.0, 0.0, 0.0, 0.0, 0.0, 0.0], [0.4689193069934845, 0.09970777481794357, 0.4313729405403137, 0.0, 0.0, 0.0, 0.0, 0.0], [0.5323328971862793, 0.01518351398408413, 0.07595354318618774, 0.37653008103370667, 0.0, 0.0, 0.0, 0.0], [0.39753663539886475, 0.009755939245223999, 0.02027013711631298, 0.08431503176689148, 0.48812228441238403, 0.0, 0.0, 0.0], [0.4478354752063751, 0.011745581403374672, 0.031318549066782, 0.0764039009809494, 0.1261330097913742, 0.30656346678733826, 0.0, 0.0], [0.3947579264640808, 0.007280644029378891, 0.0260393675416708, 0.09014838188886642, 0.13195180892944336, 0.10155238956212997, 0.2482694685459137, 0.0], [0.46597805619239807, 0.010879892855882645, 0.04537464678287506, 0.07337743043899536, 0.07064435631036758, 0.02237190492451191, 0.02606780081987381, 0.2853059470653534]]], [[[1.0, 0.0, 0.0, 0.0, 0.0, 0.0, 0.0, 0.0], [0.9954795837402344, 0.00452036689966917, 0.0, 0.0, 0.0, 0.0, 0.0, 0.0], [0.8685206770896912, 0.1272745281457901, 0.004204839002341032, 0.0, 0.0, 0.0, 0.0, 0.0], [0.9564710855484009, 0.0024042457807809114, 0.005539244506508112, 0.035585470497608185, 0.0, 0.0, 0.0, 0.0], [0.530926525592804, 0.005108471494168043, 0.003434800775721669, 0.4588368833065033, 0.0016932031139731407, 0.0, 0.0, 0.0], [0.5975176095962524, 0.004432098474353552, 0.01184130646288395, 0.2483057826757431, 0.11118187755346298, 0.02672128938138485, 0.0, 0.0], [0.863976776599884, 0.001124324626289308, 0.017828861251473427, 0.08065396547317505, 0.0066911461763083935, 0.020842311903834343, 0.008882683701813221, 0.0], [0.9260956645011902, 0.0012159848120063543, 0.0013474604347720742, 0.0068190377205610275, 0.0036970132496207952, 0.00903455913066864, 0.039483144879341125, 0.012307240627706051]], [[1.0, 0.0, 0.0, 0.0, 0.0, 0.0, 0.0, 0.0], [0.9832155108451843, 0.0167844258248806, 0.0, 0.0, 0.0, 0.0, 0.0, 0.0], [0.887950599193573, 0.10253861546516418, 0.00951081421226263, 0.0, 0.0, 0.0, 0.0, 0.0], [0.5975931286811829, 0.005497659556567669, 0.3743298053741455, 0.022579485550522804, 0.0, 0.0, 0.0, 0.0], [0.7539136409759521, 0.0040139625780284405, 0.05165145918726921, 0.16094675660133362, 0.029474202543497086, 0.0, 0.0, 0.0], [0.8679273128509521, 0.0033520665019750595, 0.04091908782720566, 0.006014244630932808, 0.0742078647017479, 0.007579417433589697, 0.0, 0.0], [0.7976328134536743, 0.005657630506902933, 0.00901593267917633, 0.005557822063565254, 0.03962235152721405, 0.1275743544101715, 0.014939147047698498, 0.0], [0.8676915168762207, 0.009465855546295643, 0.012178846634924412, 0.0012154607102274895, 0.008615928702056408, 0.06023624539375305, 0.03171415254473686, 0.008882050402462482]], [[1.0, 0.0, 0.0, 0.0, 0.0, 0.0, 0.0, 0.0], [0.98848557472229, 0.011514388024806976, 0.0, 0.0, 0.0, 0.0, 0.0, 0.0], [0.9863183498382568, 0.01340986043214798, 0.00027180943288840353, 0.0, 0.0, 0.0, 0.0, 0.0], [0.9625971913337708, 0.026961160823702812, 0.004647106863558292, 0.005794608499854803, 0.0, 0.0, 0.0, 0.0], [0.8903460502624512, 0.0019523447845131159, 0.04310280829668045, 0.05381380766630173, 0.010785086080431938, 0.0, 0.0, 0.0], [0.5473246574401855, 0.0009845226304605603, 0.09835804253816605, 0.03283839672803879, 0.31450867652893066, 0.005985720083117485, 0.0, 0.0], [0.8984814882278442, 0.0015218465123325586, 0.0038870295975357294, 0.03054271638393402, 0.05580638349056244, 0.007957663387060165, 0.0018028832273557782, 0.0], [0.6921517848968506, 0.003499633399769664, 0.0024126810021698475, 0.006111031398177147, 0.04535951465368271, 0.056460149586200714, 0.17771311104297638, 0.0162921454757452]], [[1.0, 0.0, 0.0, 0.0, 0.0, 0.0, 0.0, 0.0], [0.9977230429649353, 0.0022769428323954344, 0.0, 0.0, 0.0, 0.0, 0.0, 0.0], [0.972035825252533, 0.02198922075331211, 0.005974853411316872, 0.0, 0.0, 0.0, 0.0, 0.0], [0.7228218913078308, 0.2614792585372925, 0.008111109025776386, 0.007587746251374483, 0.0, 0.0, 0.0, 0.0], [0.5645841956138611, 0.04027730971574783, 0.35128745436668396, 0.03254340961575508, 0.011307723820209503, 0.0, 0.0, 0.0], [0.2168356478214264, 0.0005865918938070536, 0.017346665263175964, 0.009293702431023121, 0.7526464462280273, 0.0032908949069678783, 0.0, 0.0], [0.5339545011520386, 0.0010560675291344523, 0.039494194090366364, 0.12693166732788086, 0.24873961508274078, 0.04236968979239464, 0.007454313803464174, 0.0], [0.6675162315368652, 0.0030463391449302435, 0.0012854826636612415, 0.0052011157386004925, 0.1290891170501709, 0.15212814509868622, 0.03052251972258091, 0.011210997588932514]], [[1.0, 0.0, 0.0, 0.0, 0.0, 0.0, 0.0, 0.0], [0.985283613204956, 0.014716454781591892, 0.0, 0.0, 0.0, 0.0, 0.0, 0.0], [0.9070826768875122, 0.08021978288888931, 0.012697580270469189, 0.0, 0.0, 0.0, 0.0, 0.0], [0.9200254678726196, 0.002180421259254217, 0.041239552199840546, 0.03655451536178589, 0.0, 0.0, 0.0, 0.0], [0.4085419774055481, 0.004735422786325216, 0.05944196134805679, 0.5237752795219421, 0.003505342872813344, 0.0, 0.0, 0.0], [0.8290573358535767, 0.004967065062373877, 0.014803312718868256, 0.01234525628387928, 0.10045041888952255, 0.0383765734732151, 0.0, 0.0], [0.44361209869384766, 0.0022373655810952187, 0.0017636726843193173, 0.0038785261567682028, 0.021324241533875465, 0.4953858256340027, 0.03179828077554703, 0.0], [0.8879283666610718, 0.004851029720157385, 0.002216914901509881, 0.0014184352476149797, 0.00119828712195158, 0.025934472680091858, 0.0537034310400486, 0.022749051451683044]], [[1.0, 0.0, 0.0, 0.0, 0.0, 0.0, 0.0, 0.0], [0.9961942434310913, 0.0038057449273765087, 0.0, 0.0, 0.0, 0.0, 0.0, 0.0], [0.995241641998291, 0.0025646379217505455, 0.002193665597587824, 0.0, 0.0, 0.0, 0.0, 0.0], [0.9112597703933716, 0.03196783736348152, 0.05158459395170212, 0.005187915172427893, 0.0, 0.0, 0.0, 0.0], [0.8461525440216064, 0.030250461772084236, 0.0957912728190422, 0.011789998970925808, 0.01601566933095455, 0.0, 0.0, 0.0], [0.9500814080238342, 0.0017172228544950485, 0.024682261049747467, 0.004361436702311039, 0.015029539354145527, 0.004128140397369862, 0.0, 0.0], [0.8340150117874146, 0.0012906695483252406, 0.0093914195895195, 0.015805870294570923, 0.11698034405708313, 0.0196978896856308, 0.0028187762945890427, 0.0], [0.6135286688804626, 0.005919869523495436, 0.0034800274297595024, 0.0010444673243910074, 0.06321115791797638, 0.2648521065711975, 0.03898489475250244, 0.008978776633739471]], [[1.0, 0.0, 0.0, 0.0, 0.0, 0.0, 0.0, 0.0], [0.9990447163581848, 0.0009552539559081197, 0.0, 0.0, 0.0, 0.0, 0.0, 0.0], [0.9410741329193115, 0.046876292675733566, 0.012049595825374126, 0.0, 0.0, 0.0, 0.0, 0.0], [0.9174807071685791, 0.06269221752882004, 0.007826550863683224, 0.01200040802359581, 0.0, 0.0, 0.0, 0.0], [0.9681063890457153, 0.003026476362720132, 0.001524015562608838, 0.017378682270646095, 0.00996436458081007, 0.0, 0.0, 0.0], [0.9169861078262329, 0.0036538445856422186, 0.001766679808497429, 0.002049263333901763, 0.06550321727991104, 0.010040883906185627, 0.0, 0.0], [0.8951928615570068, 0.0017010485753417015, 0.0005367116536945105, 0.0005545779131352901, 0.04744870960712433, 0.00840709637850523, 0.04615897685289383, 0.0], [0.6539345979690552, 0.0051076654344797134, 0.0024528088979423046, 0.0005524962907657027, 0.0435185581445694, 0.0129695450887084, 0.2687264382839203, 0.01273795124143362]], [[1.0, 0.0, 0.0, 0.0, 0.0, 0.0, 0.0, 0.0], [0.9972641468048096, 0.00273580988869071, 0.0, 0.0, 0.0, 0.0, 0.0, 0.0], [0.9030501246452332, 0.08858274668455124, 0.008367175236344337, 0.0, 0.0, 0.0, 0.0, 0.0], [0.7198695540428162, 0.2208876758813858, 0.031268540769815445, 0.02797430381178856, 0.0, 0.0, 0.0, 0.0], [0.8811336159706116, 0.00778460968285799, 0.02645029127597809, 0.08250387012958527, 0.0021276569459587336, 0.0, 0.0, 0.0], [0.6240514516830444, 0.009715141728520393, 0.04113457724452019, 0.260613352060318, 0.027566032484173775, 0.036919474601745605, 0.0, 0.0], [0.9253389239311218, 0.001407287665642798, 0.0023896810598671436, 0.006236508022993803, 0.019141189754009247, 0.027810348197817802, 0.017676016315817833, 0.0], [0.6876187324523926, 0.0018347683362662792, 0.0021949755027890205, 0.0013173307524994016, 0.006535564549267292, 0.11224227398633957, 0.165675088763237, 0.02258121967315674]]], [[[1.0, 0.0, 0.0, 0.0, 0.0, 0.0, 0.0, 0.0], [0.9681124091148376, 0.031887561082839966, 0.0, 0.0, 0.0, 0.0, 0.0, 0.0], [0.4323963522911072, 0.5141690969467163, 0.05343452841043472, 0.0, 0.0, 0.0, 0.0, 0.0], [0.3502473533153534, 0.04555075615644455, 0.11132306605577469, 0.492878794670105, 0.0, 0.0, 0.0, 0.0], [0.21661454439163208, 0.0017206479096785188, 0.03073730692267418, 0.7282823324203491, 0.022645192220807076, 0.0, 0.0, 0.0], [0.40228986740112305, 0.00042400360689498484, 0.006410383619368076, 0.019389290362596512, 0.4863514304161072, 0.08513499796390533, 0.0, 0.0], [0.130034402012825, 0.005115948151797056, 0.0007295190589502454, 0.0007072599837556481, 0.003341452218592167, 0.858142077922821, 0.001929391990415752, 0.0], [0.005649239290505648, 0.001215368858538568, 4.674216143030208e-06, 6.437890260713175e-05, 0.0010907199466601014, 0.03177180141210556, 0.9273799657821655, 0.032823819667100906]], [[1.0, 0.0, 0.0, 0.0, 0.0, 0.0, 0.0, 0.0], [0.6403843760490417, 0.35961565375328064, 0.0, 0.0, 0.0, 0.0, 0.0, 0.0], [0.4969860017299652, 0.5021259188652039, 0.0008880876121111214, 0.0, 0.0, 0.0, 0.0, 0.0], [0.1699216365814209, 0.8196037411689758, 0.010013342835009098, 0.00046137606841512024, 0.0, 0.0, 0.0, 0.0], [0.31258898973464966, 0.006172476336359978, 0.054505929350852966, 0.044205520302057266, 0.5825271010398865, 0.0, 0.0, 0.0], [0.009562971070408821, 7.266764441737905e-05, 0.0006926184287294745, 0.0005104133160784841, 0.9886468052864075, 0.0005145034519955516, 0.0, 0.0], [0.031820155680179596, 4.5811557356501e-05, 0.023692572489380836, 0.003658534260466695, 0.9314096570014954, 0.0062866914086043835, 0.0030865499284118414, 0.0], [0.05086612328886986, 0.0008355074096471071, 0.0016507053514942527, 0.0016042989445850253, 0.10352422297000885, 0.011254973709583282, 0.4332086741924286, 0.39705541729927063]], [[1.0, 0.0, 0.0, 0.0, 0.0, 0.0, 0.0, 0.0], [0.955640435218811, 0.04435950145125389, 0.0, 0.0, 0.0, 0.0, 0.0, 0.0], [0.8828866481781006, 0.0008399512735195458, 0.11627332121133804, 0.0, 0.0, 0.0, 0.0, 0.0], [0.6371557712554932, 0.0052472567185759544, 0.19907940924167633, 0.1585175096988678, 0.0, 0.0, 0.0, 0.0], [0.20413294434547424, 0.0017274417914450169, 0.014981033280491829, 0.7403924465179443, 0.03876607120037079, 0.0, 0.0, 0.0], [0.3595886528491974, 0.00038274668622761965, 0.04907557740807533, 0.15913622081279755, 0.10539893060922623, 0.32641780376434326, 0.0, 0.0], [0.07779186964035034, 0.004352092742919922, 0.06335815042257309, 0.009638032875955105, 0.45854106545448303, 0.3812372386455536, 0.0050814710557460785, 0.0], [0.034635238349437714, 0.0016365201445296407, 0.006195686757564545, 0.0002661426260601729, 0.010906166397035122, 0.9237270951271057, 0.0014315793523564935, 0.021201474592089653]], [[1.0, 0.0, 0.0, 0.0, 0.0, 0.0, 0.0, 0.0], [0.6024919152259827, 0.39750802516937256, 0.0, 0.0, 0.0, 0.0, 0.0, 0.0], [0.013035548850893974, 0.9837051630020142, 0.003259311430156231, 0.0, 0.0, 0.0, 0.0, 0.0], [0.00386956543661654, 0.00014535017544403672, 0.9943569302558899, 0.0016280474374070764, 0.0, 0.0, 0.0, 0.0], [0.012548496015369892, 4.340104715083726e-05, 0.00038718662108294666, 0.7316657304763794, 0.25535523891448975, 0.0, 0.0, 0.0], [0.7730218768119812, 0.02181377075612545, 0.0025960328057408333, 0.05353974923491478, 0.07601815462112427, 0.07301034778356552, 0.0, 0.0], [0.006972107104957104, 7.641632691957057e-05, 0.0013853417476639152, 0.00010180863318964839, 0.002565272618085146, 0.9836795926094055, 0.00521957129240036, 0.0], [0.03742654249072075, 0.002971444744616747, 0.028737567365169525, 0.0010624643182381988, 0.0005686010117642581, 0.15433120727539062, 0.2860986292362213, 0.48880356550216675]], [[1.0, 0.0, 0.0, 0.0, 0.0, 0.0, 0.0, 0.0], [0.9962577819824219, 0.0037422834429889917, 0.0, 0.0, 0.0, 0.0, 0.0, 0.0], [0.9795815944671631, 0.01468746829777956, 0.0057308669202029705, 0.0, 0.0, 0.0, 0.0, 0.0], [0.11813420802354813, 0.7658095955848694, 0.11453383415937424, 0.0015224139206111431, 0.0, 0.0, 0.0, 0.0], [0.012266416102647781, 0.00017230641969945282, 0.9842342734336853, 0.003306064521893859, 2.0863128156634048e-05, 0.0, 0.0, 0.0], [0.12420694530010223, 0.0010989602888002992, 0.005670290905982256, 0.7176538109779358, 0.14971980452537537, 0.0016502116341143847, 0.0, 0.0], [0.07942438870668411, 0.001544214435853064, 0.02498939260840416, 0.4918038547039032, 0.20849423110485077, 0.14522486925125122, 0.048519037663936615, 0.0], [0.0012384686851873994, 0.00011414597247494385, 5.2954528655391186e-05, 0.001101010711863637, 0.14670401811599731, 0.7471590638160706, 0.1031954437494278, 0.0004349264781922102]], [[1.0, 0.0, 0.0, 0.0, 0.0, 0.0, 0.0, 0.0], [0.9773524403572083, 0.022647595033049583, 0.0, 0.0, 0.0, 0.0, 0.0, 0.0], [0.8958463072776794, 0.10247471183538437, 0.0016789590008556843, 0.0, 0.0, 0.0, 0.0, 0.0], [0.5256983041763306, 0.003683451097458601, 0.45670464634895325, 0.013913610018789768, 0.0, 0.0, 0.0, 0.0], [0.5932064056396484, 0.004751723725348711, 0.26815786957740784, 0.002800366608425975, 0.1310836225748062, 0.0, 0.0, 0.0], [0.022383123636245728, 0.0004973237519152462, 0.0003374012012500316, 0.011418147012591362, 0.9560398459434509, 0.009324113838374615, 0.0, 0.0], [0.41451790928840637, 0.0013420155737549067, 0.0033724596723914146, 0.3108028471469879, 0.19197283685207367, 0.021862709894776344, 0.05612918734550476, 0.0], [0.045264605432748795, 0.0007499123457819223, 0.0005771918222308159, 0.0016565131954848766, 0.0032013962045311928, 0.0028485606890171766, 0.9427391290664673, 0.002962671685963869]], [[1.0, 0.0, 0.0, 0.0, 0.0, 0.0, 0.0, 0.0], [0.9802496433258057, 0.019750358536839485, 0.0, 0.0, 0.0, 0.0, 0.0, 0.0], [0.11055706441402435, 0.0009111181716434658, 0.8885318636894226, 0.0, 0.0, 0.0, 0.0, 0.0], [0.17536607384681702, 0.0040614246390759945, 0.8191068768501282, 0.001465605921112001, 0.0, 0.0, 0.0, 0.0], [0.3742722272872925, 0.001931436127051711, 0.5435328483581543, 0.07128717005252838, 0.008976339362561703, 0.0, 0.0, 0.0], [0.27618518471717834, 0.0003496543213259429, 0.26894402503967285, 0.43409305810928345, 0.014905955642461777, 0.005521995481103659, 0.0, 0.0], [0.1950726956129074, 0.016175154596567154, 0.35177671909332275, 0.13488273322582245, 0.005986557807773352, 0.0600418783724308, 0.23606425523757935, 0.0], [0.2423359453678131, 0.05300241336226463, 0.03166835010051727, 0.009549224749207497, 0.015093614347279072, 0.028049645945429802, 0.012327340431511402, 0.6079734563827515]], [[1.0, 0.0, 0.0, 0.0, 0.0, 0.0, 0.0, 0.0], [0.9989461302757263, 0.0010539196664467454, 0.0, 0.0, 0.0, 0.0, 0.0, 0.0], [0.6412780284881592, 0.21360798180103302, 0.1451139897108078, 0.0, 0.0, 0.0, 0.0, 0.0], [0.8858706951141357, 0.061845600605010986, 0.03707066923379898, 0.015212999656796455, 0.0, 0.0, 0.0, 0.0], [0.26974037289619446, 0.048687465488910675, 0.06635095179080963, 0.005411750171333551, 0.6098095178604126, 0.0, 0.0, 0.0], [0.3533965051174164, 0.002262693829834461, 0.0007973330211825669, 4.1674396925373e-05, 0.5710155367851257, 0.07248624414205551, 0.0, 0.0], [0.22251184284687042, 0.007042197044938803, 0.011503325775265694, 5.133685772307217e-05, 0.5910860300064087, 0.03971325233578682, 0.12809200584888458, 0.0], [0.03950271010398865, 0.0008826337871141732, 2.614518962218426e-05, 0.0002696366864256561, 0.27313166856765747, 0.020688652992248535, 0.6619071960449219, 0.0035913693718612194]]], [[[1.0, 0.0, 0.0, 0.0, 0.0, 0.0, 0.0, 0.0], [0.9089276790618896, 0.09107238054275513, 0.0, 0.0, 0.0, 0.0, 0.0, 0.0], [0.4857313632965088, 0.47880253195762634, 0.035466112196445465, 0.0, 0.0, 0.0, 0.0, 0.0], [0.8073618412017822, 0.0391751192510128, 0.009517520666122437, 0.14394564926624298, 0.0, 0.0, 0.0, 0.0], [0.16329318284988403, 0.7691207528114319, 0.011607175692915916, 0.05585445091128349, 0.0001243119186256081, 0.0, 0.0, 0.0], [0.20379352569580078, 0.15126308798789978, 0.11076772958040237, 0.01804243214428425, 0.5042489171028137, 0.011884362436830997, 0.0, 0.0], [0.20048260688781738, 0.029325157403945923, 0.20707963407039642, 0.3416883051395416, 0.03308199718594551, 0.0902906209230423, 0.0980517715215683, 0.0], [0.4104434549808502, 0.004846959374845028, 0.0025217137299478054, 0.0010161919053643942, 0.30273720622062683, 0.00681389169767499, 0.159257709980011, 0.112362802028656]], [[1.0, 0.0, 0.0, 0.0, 0.0, 0.0, 0.0, 0.0], [0.986639142036438, 0.013360841199755669, 0.0, 0.0, 0.0, 0.0, 0.0, 0.0], [0.42400676012039185, 0.3488519489765167, 0.227141335606575, 0.0, 0.0, 0.0, 0.0, 0.0], [0.28650030493736267, 0.31444889307022095, 0.2689380943775177, 0.1301126480102539, 0.0, 0.0, 0.0, 0.0], [0.1851090043783188, 0.00027620181208476424, 0.07215064018964767, 0.02718503586947918, 0.7152791023254395, 0.0, 0.0, 0.0], [0.009038354270160198, 0.0001377876178594306, 0.006507751066237688, 0.00498571339994669, 0.9791295528411865, 0.00020084991410840303, 0.0, 0.0], [0.0033583848271518946, 0.00010557724453974515, 0.00130082864779979, 0.0011781229404732585, 0.993841290473938, 0.00015407717728521675, 6.155353912618011e-05, 0.0], [0.14035198092460632, 0.019478829577565193, 0.034490916877985, 0.007303927559405565, 0.6510661840438843, 0.05229600518941879, 0.07836751639842987, 0.016644684597849846]], [[1.0, 0.0, 0.0, 0.0, 0.0, 0.0, 0.0, 0.0], [0.9691373705863953, 0.030862586572766304, 0.0, 0.0, 0.0, 0.0, 0.0, 0.0], [0.7219007611274719, 0.11893567442893982, 0.1591636687517166, 0.0, 0.0, 0.0, 0.0, 0.0], [0.6850113272666931, 0.17324036359786987, 0.1309320479631424, 0.010816308669745922, 0.0, 0.0, 0.0, 0.0], [0.7259353995323181, 0.07367133349180222, 0.07948135584592819, 0.11449848115444183, 0.0064134844578802586, 0.0, 0.0, 0.0], [0.16698522865772247, 0.017640097066760063, 0.014365038834512234, 0.000488442019559443, 0.6433541774749756, 0.15716706216335297, 0.0, 0.0], [0.154941588640213, 0.015710437670350075, 0.6915441155433655, 0.007757248822599649, 0.014359557069838047, 0.10601917654275894, 0.009667863138020039, 0.0], [0.40327441692352295, 0.0024678283371031284, 0.010794083587825298, 0.14747917652130127, 0.03244037926197052, 0.16746991872787476, 0.12596827745437622, 0.110105961561203]], [[1.0, 0.0, 0.0, 0.0, 0.0, 0.0, 0.0, 0.0], [0.9973601698875427, 0.0026398368645459414, 0.0, 0.0, 0.0, 0.0, 0.0, 0.0], [0.9727964997291565, 0.02148710936307907, 0.0057164141908288, 0.0, 0.0, 0.0, 0.0, 0.0], [0.588632345199585, 0.027858857065439224, 0.24171443283557892, 0.14179441332817078, 0.0, 0.0, 0.0, 0.0], [0.13694313168525696, 0.007056967355310917, 0.7983402609825134, 0.023408524692058563, 0.03425110504031181, 0.0, 0.0, 0.0], [0.024985626339912415, 5.019149466534145e-05, 0.001866821781732142, 0.0007261799764819443, 0.8810697793960571, 0.09130142629146576, 0.0, 0.0], [0.03178056702017784, 0.0013582799583673477, 0.002647493267431855, 0.0057340324856340885, 0.46353989839553833, 0.49304839968681335, 0.0018912419909611344, 0.0], [0.16318143904209137, 0.022676873952150345, 0.0350131019949913, 0.003385270945727825, 0.477830171585083, 0.25425752997398376, 0.007569562178105116, 0.0360860601067543]], [[1.0, 0.0, 0.0, 0.0, 0.0, 0.0, 0.0, 0.0], [0.5117851495742798, 0.4882148206233978, 0.0, 0.0, 0.0, 0.0, 0.0, 0.0], [0.476398766040802, 0.5003498792648315, 0.023251326754689217, 0.0, 0.0, 0.0, 0.0, 0.0], [0.15786859393119812, 0.01749873347580433, 0.4289815127849579, 0.3956511318683624, 0.0, 0.0, 0.0, 0.0], [0.008585987612605095, 0.015289431437849998, 0.9563630819320679, 0.0007823205669410527, 0.018979130312800407, 0.0, 0.0, 0.0], [0.637352705001831, 0.08979705721139908, 0.17247195541858673, 0.04216696694493294, 0.04922105371952057, 0.008990183472633362, 0.0, 0.0], [0.02151678130030632, 0.014581345953047276, 0.00031461528851650655, 0.0009936002315953374, 0.6151641011238098, 0.34654146432876587, 0.0008881069952622056, 0.0], [0.39397740364074707, 0.09850261360406876, 0.05296888202428818, 0.04160308092832565, 0.010038875974714756, 0.13078062236309052, 0.19858333468437195, 0.0735451877117157]], [[1.0, 0.0, 0.0, 0.0, 0.0, 0.0, 0.0, 0.0], [0.9812910556793213, 0.0187089741230011, 0.0, 0.0, 0.0, 0.0, 0.0, 0.0], [0.14114563167095184, 0.8583816289901733, 0.00047278410056605935, 0.0, 0.0, 0.0, 0.0, 0.0], [0.22131162881851196, 0.5875489711761475, 0.008053997531533241, 0.1830853968858719, 0.0, 0.0, 0.0, 0.0], [0.006234481930732727, 0.0003871168300975114, 0.0022548455744981766, 0.968917965888977, 0.022205572575330734, 0.0, 0.0, 0.0], [0.022869477048516273, 0.009121660143136978, 0.001552879810333252, 0.741695761680603, 0.0879201665520668, 0.13684013485908508, 0.0, 0.0], [0.19915297627449036, 0.006063925102353096, 0.0050040483474731445, 0.01027645729482174, 0.005425570532679558, 0.3192971348762512, 0.45477989315986633, 0.0], [0.7745933532714844, 0.0005985961179248989, 0.0040394761599600315, 0.11357714980840683, 0.011209568940103054, 0.017616409808397293, 0.07280285656452179, 0.005562581121921539]], [[1.0, 0.0, 0.0, 0.0, 0.0, 0.0, 0.0, 0.0], [0.6779154539108276, 0.32208454608917236, 0.0, 0.0, 0.0, 0.0, 0.0, 0.0], [0.6533519625663757, 0.20631833374500275, 0.1403297632932663, 0.0, 0.0, 0.0, 0.0, 0.0], [0.038565345108509064, 0.9603832960128784, 0.0006087123765610158, 0.00044257196714170277, 0.0, 0.0, 0.0, 0.0], [0.004130192566663027, 0.006705166772007942, 0.0016388131771236658, 0.004526106175035238, 0.9829997420310974, 0.0, 0.0, 0.0], [0.045461878180503845, 0.002373131224885583, 0.0006577885360457003, 0.00029897724743932486, 0.9483485817909241, 0.0028596995398402214, 0.0, 0.0], [0.002449427032843232, 0.00040875442209653556, 4.6649463911307976e-05, 0.019498253241181374, 0.8832848072052002, 0.08834012597799301, 0.005972028244286776, 0.0], [0.13678546249866486, 0.009481088258326054, 0.0029193630907684565, 0.0047372314147651196, 0.38686439394950867, 0.0002448569575790316, 0.013218601234257221, 0.4457489252090454]], [[1.0, 0.0, 0.0, 0.0, 0.0, 0.0, 0.0, 0.0], [0.29775235056877136, 0.7022476196289062, 0.0, 0.0, 0.0, 0.0, 0.0, 0.0], [0.6490616798400879, 0.03004029579460621, 0.32089805603027344, 0.0, 0.0, 0.0, 0.0, 0.0], [0.16023598611354828, 0.03071453981101513, 0.8000297546386719, 0.00901973620057106, 0.0, 0.0, 0.0, 0.0], [0.14993952214717865, 0.0025489600375294685, 0.2604857385158539, 0.584437370300293, 0.0025884807109832764, 0.0, 0.0, 0.0], [0.1241004690527916, 0.0028327994514256716, 0.8600408434867859, 0.012745562009513378, 0.00022745160094927996, 5.2791136113228276e-05, 0.0, 0.0], [0.23382222652435303, 0.09756526350975037, 0.029823554679751396, 0.5479697585105896, 0.06562907993793488, 0.02437085658311844, 0.0008192976238206029, 0.0], [0.5238203406333923, 0.0003271613968536258, 0.011549752205610275, 0.3373531997203827, 0.0037193975877016783, 0.1037672832608223, 0.006815681234002113, 0.01264729630202055]]]], \"left_text\": [\"T\", \"I\", \"V\", \"S\", \"L\", \"G\", \"V\", \"<eos>\"], \"right_text\": [\"T\", \"I\", \"V\", \"S\", \"L\", \"G\", \"V\", \"<eos>\"]}, {\"name\": \"Cross\", \"attn\": [[[[0.8566480875015259, 0.14157675206661224, 0.00011571869254112244, 0.00015780047397129238, 0.00021002563880756497, 0.00012596497253980488, 0.0008230819366872311, 0.0003426106704864651, 0.0], [0.0019886295776814222, 0.9938787817955017, 0.0019860994070768356, 1.97241624846356e-05, 1.1124968750664266e-06, 3.533670906108455e-06, 0.00018105513299815357, 0.0019411880057305098, 0.0], [9.930101805366576e-05, 0.14397528767585754, 0.8441210985183716, 0.009937454015016556, 2.553675528815802e-07, 1.2136135651985569e-08, 6.134303021099186e-07, 0.0018659105990082026, 0.0], [1.183356175715744e-06, 4.8781475925352424e-05, 0.005040408112108707, 0.9917144179344177, 0.002886474598199129, 1.625441967689767e-07, 2.0874431072570587e-09, 0.0003085072385147214, 0.0], [2.076248950544368e-09, 2.469503712632104e-09, 4.5446796548276325e-08, 0.007813222706317902, 0.9813238978385925, 0.010825433768332005, 1.3763590800408565e-07, 3.717683284776285e-05, 0.0], [1.539995355415158e-05, 4.156547959155432e-07, 8.794940775658233e-09, 1.517661303296336e-06, 0.006964933127164841, 0.9525611400604248, 0.03940160945057869, 0.0010549265425652266, 0.0], [3.6748247111972887e-07, 1.6153670401308773e-07, 3.874431331318817e-11, 5.3759405781173e-13, 8.63989046973046e-10, 0.0001722228480502963, 0.9896626472473145, 0.01016461942344904, 0.0], [3.0375456844922155e-05, 0.001629337901249528, 7.048835470868653e-08, 8.6851722645373e-13, 6.603972417881668e-15, 3.410560722727496e-10, 0.011984101496636868, 0.9863561391830444, 0.0]], [[0.4974479377269745, 0.11996177583932877, 0.1550469696521759, 0.000861109874676913, 0.003492584452033043, 0.001285157515667379, 0.004111763089895248, 0.21779267489910126, 0.0], [0.1621582806110382, 0.7359753847122192, 0.02033555693924427, 0.0168137326836586, 0.0020785860251635313, 0.0008846417767927051, 0.0009950820822268724, 0.06075863167643547, 0.0], [0.24330632388591766, 0.1694432497024536, 0.23815901577472687, 0.023126548156142235, 0.008375732228159904, 0.016077717766165733, 0.0028917326126247644, 0.2986196279525757, 0.0], [0.0023229264188557863, 0.01884981244802475, 0.9595346450805664, 0.001046897261403501, 0.00022546235413756222, 0.0003019581490661949, 0.0003075750428251922, 0.017410680651664734, 0.0], [0.0017143257427960634, 0.03726307675242424, 0.042327217757701874, 0.7588425278663635, 0.062070153653621674, 0.014649439603090286, 0.00615872023627162, 0.07697460800409317, 0.0], [0.024407414719462395, 0.005246757064014673, 0.021552525460720062, 0.010831999592483044, 0.06472542136907578, 0.4575962722301483, 0.06405173987150192, 0.3515879213809967, 0.0], [0.000654942006804049, 0.0011108177714049816, 0.001373573555611074, 0.015845490619540215, 0.05359655246138573, 0.34353575110435486, 0.3181400001049042, 0.26574280858039856, 0.0], [0.00511162169277668, 0.005553337745368481, 0.017979610711336136, 0.0008379418286494911, 0.006243348121643066, 0.13962027430534363, 0.29037320613861084, 0.5342806577682495, 0.0]], [[0.18382427096366882, 0.025608722120523453, 0.0028351808432489634, 0.00021298894716892391, 0.0010375428246334195, 0.0030942384619265795, 0.01470481138676405, 0.7686822414398193, 0.0], [0.793197512626648, 0.031395573168992996, 0.004060907289385796, 0.002486020792275667, 0.002849834505468607, 0.00631519453600049, 0.004701720084995031, 0.15499311685562134, 0.0], [0.8620779514312744, 0.1039842888712883, 0.010618903674185276, 0.0007037762552499771, 0.00014063864364288747, 0.0004923584056086838, 0.0030576344579458237, 0.018924420699477196, 0.0], [0.20953376591205597, 0.5026084780693054, 0.2599151134490967, 0.0012286575511097908, 0.0001520765363238752, 8.45820177346468e-05, 0.0007562346290796995, 0.025721101090312004, 0.0], [0.0005967805627733469, 0.023646941408514977, 0.5875135660171509, 0.37211254239082336, 0.009009703993797302, 0.0006675503682345152, 0.00030214281287044287, 0.006150692235678434, 0.0], [0.0014117468381300569, 0.0027375752106308937, 0.10097433626651764, 0.612521231174469, 0.23693203926086426, 0.013331466354429722, 0.0017252585384994745, 0.030366340652108192, 0.0], [0.0006295449566096067, 0.0002844670962076634, 0.012849466875195503, 0.12167536467313766, 0.338664710521698, 0.4665115475654602, 0.03003280609846115, 0.029352139681577682, 0.0], [0.0029789707623422146, 0.0002181969757657498, 0.00024202998611144722, 0.0025301012210547924, 0.023572269827127457, 0.5056849718093872, 0.4384150207042694, 0.02635849453508854, 0.0]], [[0.001364882686175406, 0.6261237263679504, 0.2320604920387268, 0.06209452450275421, 0.05304420366883278, 0.00834291148930788, 0.0003770387847907841, 0.01659216545522213, 0.0], [0.0007966830744408071, 0.014224527403712273, 0.0073113818652927876, 0.44918954372406006, 0.47140082716941833, 0.01146444957703352, 2.898073580581695e-05, 0.04558354988694191, 0.0], [0.005709526129066944, 0.01239619217813015, 0.0010839855531230569, 0.1028805524110794, 0.6298539638519287, 0.12402957677841187, 0.0017846710979938507, 0.12226146459579468, 0.0], [0.04233190789818764, 0.013800251297652721, 0.00040734431240707636, 0.0026428494602441788, 0.1990981251001358, 0.45581328868865967, 0.10498261451721191, 0.18092359602451324, 0.0], [0.014295988716185093, 0.008090044371783733, 0.00039650691905990243, 0.0008384278626181185, 0.0076742954552173615, 0.13979364931583405, 0.5336958169937134, 0.29521530866622925, 0.0], [0.00792450550943613, 0.038378968834877014, 0.03741351515054703, 0.007917235605418682, 0.012116269208490849, 0.027896855026483536, 0.13312304019927979, 0.7352296113967896, 0.0], [0.0026912952307611704, 0.008611823432147503, 0.02601885236799717, 0.020716853439807892, 0.012010441161692142, 0.001496327226050198, 0.026948144659399986, 0.9015063047409058, 0.0], [0.004285546950995922, 0.0035163925494998693, 0.0193613413721323, 0.05059137940406799, 0.1888076663017273, 0.0021276308689266443, 0.001997569343075156, 0.729312539100647, 0.0]], [[0.6775115728378296, 0.018100555986166, 0.22062928974628448, 0.0007762090535834432, 0.0023658087011426687, 0.005188583862036467, 0.002479777904227376, 0.07294826954603195, 0.0], [0.016962336376309395, 0.17120523750782013, 0.7995418906211853, 0.0015302908141165972, 4.609545794664882e-05, 1.0571595339570194e-05, 0.0017966794548556209, 0.008907012641429901, 0.0], [0.3246557116508484, 0.03410390019416809, 0.374747633934021, 0.03345121070742607, 0.008764571510255337, 0.006342187523841858, 0.002691742032766342, 0.21524305641651154, 0.0], [0.025995051488280296, 0.009761820547282696, 0.5570268630981445, 0.03520458936691284, 0.14814338088035583, 0.037522658705711365, 0.001823166268877685, 0.18452240526676178, 0.0], [0.00022136089683044702, 0.013081722892820835, 0.013562309555709362, 0.06196988373994827, 0.216737300157547, 0.10049407929182053, 0.1887364387512207, 0.405196875333786, 0.0], [0.00010493107401998714, 0.0004477925831452012, 0.0034647902939468622, 0.00047614204231649637, 0.08513486385345459, 0.7361457943916321, 0.049175798892974854, 0.12504984438419342, 0.0], [0.0006445381441153586, 0.007085979916155338, 0.00022178726794663817, 0.0074715809896588326, 0.011518189683556557, 0.23043569922447205, 0.2800484001636505, 0.4625738263130188, 0.0], [0.00369410146959126, 0.00149395817425102, 0.028902634978294373, 0.00017439917428418994, 0.0009630451677367091, 0.03478126600384712, 0.3740834593772888, 0.5559071898460388, 0.0]], [[0.04730677232146263, 0.3055632412433624, 0.11227650940418243, 0.32156577706336975, 0.028909554705023766, 0.0044112359173595905, 0.0010976920602843165, 0.17886918783187866, 0.0], [0.40398073196411133, 0.027193583548069, 0.4183158874511719, 0.02711939625442028, 0.011766725219786167, 0.0018890934297814965, 0.012310515157878399, 0.09742407500743866, 0.0], [0.29590097069740295, 0.07927311956882477, 0.08009101450443268, 0.06851459294557571, 0.3091413378715515, 0.02600056864321232, 0.06226649135351181, 0.07881201803684235, 0.0], [0.05142708867788315, 0.007966808043420315, 0.28755953907966614, 0.3131561279296875, 0.01593802310526371, 0.11303482949733734, 0.005708091892302036, 0.20520949363708496, 0.0], [0.11167094856500626, 0.05654602125287056, 0.04376409575343132, 0.13740728795528412, 0.034401558339595795, 0.08697979152202606, 0.09586945921182632, 0.43336087465286255, 0.0], [0.0003238365170545876, 0.0018031462095677853, 0.006714026443660259, 0.10788900405168533, 0.2735903859138489, 0.11648132652044296, 0.10883906483650208, 0.3843591511249542, 0.0], [0.00046913683763705194, 0.005868272390216589, 0.0017254343256354332, 0.016029588878154755, 0.001464918488636613, 0.045390453189611435, 0.1651294231414795, 0.7639228105545044, 0.0], [0.007889947853982449, 0.0014704596251249313, 0.01000165194272995, 0.007079265546053648, 0.0013975928304716945, 0.05208555608987808, 0.26753032207489014, 0.6525452136993408, 0.0]], [[0.009533889591693878, 1.724693902360741e-05, 1.2690877156273928e-05, 4.582856854540296e-05, 0.00021943633328191936, 1.6355801562895067e-05, 0.00012988581147510558, 0.9900246858596802, 0.0], [0.9882113337516785, 0.005691236350685358, 2.79768410109682e-05, 2.8516053589555668e-06, 2.1492348878382472e-06, 6.05006716796197e-05, 0.005124382209032774, 0.0008795919129624963, 0.0], [0.1705842912197113, 0.8280898332595825, 0.0005066058365628123, 9.809052698983578e-07, 3.2772824454241345e-08, 2.1235423730558978e-07, 7.860537152737379e-05, 0.0007394933491013944, 0.0], [0.0038571434561163187, 0.17496368288993835, 0.7767688035964966, 0.009550856426358223, 2.5926919988705777e-05, 2.1000904837364942e-07, 7.451412966474891e-05, 0.03475888445973396, 0.0], [6.4180121626122855e-06, 3.297189323347993e-05, 0.016203509643673897, 0.9548854827880859, 0.019975412636995316, 3.1109459087019786e-05, 1.3789994000035222e-06, 0.008863731287419796, 0.0], [8.80832303664647e-05, 5.37505957254325e-06, 4.848677690461045e-06, 0.12678076326847076, 0.7857766151428223, 0.07025870680809021, 0.00017933882190845907, 0.016906164586544037, 0.0], [2.9223696401459165e-05, 1.7608694236059819e-07, 2.0408157386242465e-09, 7.703843948547728e-06, 0.04323257878422737, 0.918993353843689, 0.03618352860212326, 0.0015534478006884456, 0.0], [9.324702114099637e-05, 1.239479615833261e-06, 1.648227387907042e-11, 8.223064590362483e-11, 2.944218806533172e-07, 0.0009390669292770326, 0.9979076385498047, 0.0010584606789052486, 0.0]], [[4.069534770678729e-05, 2.8630514862015843e-05, 2.0042733012815006e-05, 0.0017879692604765296, 0.9938574433326721, 0.003631920786574483, 2.1450465283123776e-05, 0.000611873110756278, 0.0], [0.04428638517856598, 0.03938031941652298, 0.010558748617768288, 0.08998208492994308, 0.6945963501930237, 0.05578077211976051, 0.00044895653263665736, 0.06496637314558029, 0.0], [0.0011115408269688487, 0.022985374554991722, 0.04415339604020119, 0.02640172466635704, 0.8712374567985535, 0.012415026314556599, 0.00015743020048830658, 0.021538008004426956, 0.0], [0.00011663943587336689, 0.00031005285563878715, 0.0012058477150276303, 0.03325445204973221, 0.8070560693740845, 0.14130264520645142, 6.726056744810194e-05, 0.01668698340654373, 0.0], [5.9101847000420094e-05, 1.1172254744451493e-05, 0.00014617708802688867, 0.04548206925392151, 0.7676811218261719, 0.1496923267841339, 0.0008924078429117799, 0.036035604774951935, 0.0], [1.2963251720066182e-05, 2.0119337932555936e-05, 7.519104838138446e-05, 0.0023041970562189817, 0.6072311401367188, 0.32363152503967285, 0.02723090909421444, 0.03949393704533577, 0.0], [2.1664593077730387e-05, 0.00012647497351281345, 4.964838080923073e-05, 0.0024066960904747248, 0.0023508991580456495, 0.020529737696051598, 0.782459557056427, 0.19205531477928162, 0.0], [0.0005599394207820296, 0.00010555663175182417, 0.00013130948354955763, 0.0009993939893320203, 0.05077730491757393, 0.4700658917427063, 0.042220260947942734, 0.43514037132263184, 0.0]]], [[[8.303958020405844e-05, 0.00045802973909303546, 0.6344191431999207, 0.3594902753829956, 0.00041313315159641206, 4.909358176519163e-05, 3.317127266200259e-05, 0.00505418935790658, 0.0], [9.94117435766384e-05, 0.00030822868575342, 0.14333315193653107, 0.8101341128349304, 0.005412825383245945, 0.0007979609072208405, 0.0008332300349138677, 0.03908097743988037, 0.0], [0.0008439351804554462, 0.0005073638749308884, 0.003225651802495122, 0.007678693160414696, 0.044016383588314056, 0.05930463224649429, 0.042852189391851425, 0.8415711522102356, 0.0], [6.9977018029021565e-06, 7.0544692789553665e-06, 3.817864126176573e-05, 0.0001872024149633944, 0.002088044537231326, 0.6135746836662292, 0.06513376533985138, 0.3189640939235687, 0.0], [0.0002022504631895572, 0.0001800616446416825, 0.0010184049606323242, 0.0004654882359318435, 0.004194797482341528, 0.08300376683473587, 0.34374484419822693, 0.5671903491020203, 0.0], [0.0005025184946134686, 0.00022263688151724637, 0.0004722764133475721, 0.00020684821356553584, 0.02115972340106964, 0.009645074605941772, 0.24342963099479675, 0.7243613004684448, 0.0], [0.0002920632541645318, 0.00011137298861285672, 0.0014868649886921048, 0.0027934780810028315, 0.13478730618953705, 0.15147438645362854, 0.011259413324296474, 0.6977950930595398, 0.0], [0.0004634158394765109, 0.00035366922384127975, 0.0005724250222556293, 0.0029820187482982874, 0.015257163904607296, 0.028090260922908783, 0.018775001168251038, 0.9335060715675354, 0.0]], [[3.320156515716746e-23, 1.753024378870346e-42, 0.0, 4.949312894139179e-34, 1.0228310627710739e-32, 0.0, 0.0, 1.0, 0.0], [1.0, 1.5569644640396618e-14, 4.708061504909617e-34, 1.1312964555849148e-36, 2.8044066317327124e-24, 7.337345825592177e-15, 7.558626467785157e-12, 1.6251164199853656e-17, 0.0], [5.351795395736048e-13, 1.0, 2.423495015779764e-10, 3.1221999823659565e-31, 2.8673789566553704e-40, 4.61481587470812e-34, 1.011567178199427e-16, 3.4308548404749527e-18, 0.0], [1.0995008039512321e-30, 6.389876475165757e-12, 1.0, 1.0472758077417765e-11, 1.273877491573681e-30, 1.2202217350921962e-36, 4.440675729609835e-30, 1.1920435701004209e-18, 0.0], [2.950226569433877e-31, 1.1396327385005792e-24, 5.516814227668476e-10, 1.0, 1.3630813491816163e-11, 5.8308109495386485e-24, 5.62178762687538e-31, 4.30935042950832e-18, 0.0], [5.775648439804792e-29, 8.877259869012989e-32, 2.747376603121529e-22, 4.554547956558963e-07, 0.9999994039535522, 1.4561361183496047e-07, 4.98179651602185e-26, 4.956059588428611e-17, 0.0], [7.255849205091688e-22, 2.1863348569361956e-30, 1.0465107077021677e-34, 1.781120227130012e-25, 1.0631220348500392e-09, 1.0, 7.07249016296263e-12, 1.309020916191912e-15, 0.0], [3.5516581342598386e-10, 1.2206048671803416e-11, 2.2247682945854658e-21, 8.030154888286869e-27, 1.8435896146613575e-20, 8.212624180714556e-08, 0.9999998807907104, 3.0208432977296695e-10, 0.0]], [[1.4925663786510834e-12, 2.973661139549222e-08, 1.0, 1.0863349282630441e-11, 9.648418712504808e-19, 7.898294497077804e-22, 5.0501366394392795e-15, 1.5927288248453418e-18, 0.0], [0.003966598771512508, 0.0006263665854930878, 0.01661885716021061, 0.8813760280609131, 0.07575871795415878, 3.213249510736205e-05, 1.4652688150817994e-05, 0.021606706082820892, 0.0], [0.0028965016826987267, 0.006903514266014099, 0.00017037594807334244, 0.008614104241132736, 0.9310901165008545, 0.008424847386777401, 0.00012982673069927841, 0.04177069664001465, 0.0], [0.003325382713228464, 0.009293654933571815, 0.00011888312292285264, 0.0005409501609392464, 0.019843369722366333, 0.3582146167755127, 0.13471226394176483, 0.4739508628845215, 0.0], [0.00499991187825799, 0.03076176717877388, 0.0005779183702543378, 0.0005772458389401436, 0.0011529012117534876, 0.02590600587427616, 0.054285671561956406, 0.8817386031150818, 0.0], [0.0001745429472066462, 0.009581081569194794, 0.0009257992496713996, 0.0006180426571518183, 6.159138138173148e-05, 0.006234748288989067, 0.010881872847676277, 0.9715223908424377, 0.0], [0.010421025566756725, 0.0037722771521657705, 0.0005080779083073139, 0.004923800006508827, 0.0008982543367892504, 0.0009681376977823675, 0.0024330313317477703, 0.9760754108428955, 0.0], [0.03578194975852966, 0.02211397886276245, 0.000859519699588418, 0.004531601909548044, 0.01328878290951252, 0.004980397876352072, 0.0007898857002146542, 0.9176538586616516, 0.0]], [[0.014321085065603256, 0.9713633060455322, 0.004126136656850576, 0.0004668894980568439, 4.20401556766592e-05, 0.00023182785662356764, 0.0021056353580206633, 0.007343084551393986, 0.0], [1.2558801245177165e-05, 0.09409499913454056, 0.8787543177604675, 0.026324095204472542, 1.2585873321313557e-07, 5.165790906147549e-09, 1.9368310404388467e-06, 0.0008120558923110366, 0.0], [0.0005329828709363937, 0.00019937170145567507, 0.00646563433110714, 0.943354606628418, 0.03820733726024628, 8.766917744651437e-06, 1.67580736842865e-07, 0.01123116910457611, 0.0], [0.00029828501283191144, 1.014033045976248e-06, 1.252869651580113e-06, 0.01670464314520359, 0.8802095055580139, 0.08410198241472244, 4.2121869228139985e-06, 0.018679065629839897, 0.0], [0.000166643105330877, 2.061544819298433e-06, 4.6411642529164965e-07, 1.4243772966437973e-05, 0.00960821844637394, 0.9528911709785461, 0.022048769518733025, 0.015268497169017792, 0.0], [2.174552946598851e-06, 1.1216501661692746e-05, 4.494715994951548e-07, 5.6223001365651726e-08, 1.5568272146992967e-06, 0.0025540317874401808, 0.7207891941070557, 0.276641309261322, 0.0], [1.9212206098018214e-05, 0.0009519461309537292, 0.0008523825090378523, 5.120507012179587e-06, 1.530069759780872e-08, 3.728882802533917e-05, 0.015017140656709671, 0.983116865158081, 0.0], [1.1748184988391586e-05, 0.00020629122445825487, 0.0009174608276225626, 0.0026669122744351625, 1.5481464288313873e-05, 7.041134267637972e-06, 6.2681341660209e-05, 0.9961124062538147, 0.0]], [[0.22721914947032928, 0.7133192420005798, 0.012082063592970371, 0.02025415748357773, 0.0006029175710864365, 0.00012694575707428157, 0.01449616439640522, 0.011899355798959732, 0.0], [0.0005528015899471939, 0.5395759344100952, 0.3595610558986664, 0.0950116291642189, 7.804402412148193e-05, 1.9924062144127674e-05, 0.0014425134286284447, 0.0037581436336040497, 0.0], [0.0007482231594622135, 0.00788626354187727, 0.001985612092539668, 0.9416998028755188, 0.028070753440260887, 0.00040138931944966316, 0.0004218996618874371, 0.018786005675792694, 0.0], [0.0027716890908777714, 0.001239302451722324, 0.00022492579591926187, 0.29525527358055115, 0.2549198269844055, 0.0034466951619833708, 0.015619475394487381, 0.42652270197868347, 0.0], [0.00275228638201952, 0.0002165610931115225, 0.0030158155132085085, 0.16123084723949432, 0.10245484858751297, 0.03187140077352524, 0.18882128596305847, 0.5096369981765747, 0.0], [0.0012425233144313097, 0.007086172699928284, 0.00012235812027938664, 0.0008311104611493647, 0.01211222168058157, 0.07457426935434341, 0.30830055475234985, 0.5957307815551758, 0.0], [7.094175089150667e-05, 0.00047221287968568504, 0.0004923060769215226, 0.0013727180194109678, 0.0001335710403509438, 0.010334995575249195, 0.3656325042247772, 0.6214907765388489, 0.0], [0.0014253752306103706, 0.009689075872302055, 0.0030559159349650145, 0.023080876097083092, 0.0009323746780864894, 0.006358894985169172, 0.43069976568222046, 0.5247577428817749, 0.0]], [[0.8369686007499695, 0.04087137058377266, 0.07239875197410583, 0.0005168007337488234, 0.02130122110247612, 0.0060079083777964115, 4.898563929600641e-05, 0.02188628353178501, 0.0], [0.4922209680080414, 0.009624782018363476, 0.08532548695802689, 0.004664156120270491, 0.21067044138908386, 0.02175774984061718, 0.006733905989676714, 0.16900251805782318, 0.0], [0.0070970323868095875, 0.7134100794792175, 0.012090208008885384, 0.002196570159867406, 0.16438637673854828, 0.05037202686071396, 0.002975685754790902, 0.0474720299243927, 0.0], [0.0019322026055306196, 0.9483952522277832, 0.004034669138491154, 0.0006724167033098638, 0.023101454600691795, 0.007739033084362745, 0.0007327895727939904, 0.013392128981649876, 0.0], [0.12849530577659607, 0.4388194680213928, 0.11730464547872543, 0.036222197115421295, 0.01203598827123642, 0.01978951133787632, 0.041506096720695496, 0.20582683384418488, 0.0], [0.0019623993430286646, 0.1422194540500641, 0.20439490675926208, 0.24491001665592194, 0.06980331987142563, 0.020109549164772034, 0.012388430535793304, 0.30421194434165955, 0.0], [0.011901984922587872, 0.013978135772049427, 0.28252553939819336, 0.019812610000371933, 0.03230525180697441, 0.3319404423236847, 0.028687989339232445, 0.2788480520248413, 0.0], [0.062318988144397736, 0.021699946373701096, 0.02828778512775898, 0.04176076874136925, 0.11564944684505463, 0.23387378454208374, 0.1609281450510025, 0.33548107743263245, 0.0]], [[2.0907314311860786e-31, 2.800004038463719e-23, 1.0, 7.388056470027173e-26, 9.056591974931293e-41, 2.6100585196514043e-41, 1.7343164658811655e-30, 7.733096227731925e-30, 0.0], [4.496109498705776e-14, 7.053427052056995e-16, 7.950028829695199e-11, 1.0, 4.4769546292400264e-08, 4.4304311226325656e-26, 6.7934223117343226e-37, 4.319152649014044e-21, 0.0], [1.8099120292769388e-12, 6.593170291408629e-14, 1.0513411818809166e-17, 9.39848021630496e-09, 0.9999997615814209, 1.8547540037161525e-07, 2.6219072790259427e-21, 3.6842005090269173e-16, 0.0], [5.611858634041456e-13, 1.1294735085360871e-13, 6.6472593492898595e-21, 1.382282619267898e-20, 2.3999380260875114e-08, 0.9999549388885498, 4.5049964683130383e-05, 1.6720611561993337e-09, 0.0], [2.450218305159735e-13, 1.2855936747015878e-13, 8.558003172848111e-18, 1.932169834147534e-24, 4.9110323659209864e-20, 1.025126081799499e-07, 0.9999949932098389, 4.90776619699318e-06, 0.0], [1.5985344603564045e-08, 1.572629138024695e-08, 8.638600251797968e-11, 1.7398957071001305e-19, 4.242507074924064e-22, 2.2860611176961886e-14, 0.002402310026809573, 0.9975976347923279, 0.0], [0.0002052886557066813, 4.0555249142926186e-05, 2.4269345644256646e-08, 3.096853676276545e-11, 3.252242632102373e-14, 5.465608305153319e-18, 2.1076341355768385e-14, 0.9997541308403015, 0.0], [0.44430777430534363, 0.24988988041877747, 2.7725807285605697e-06, 0.0003497408179100603, 0.00578240305185318, 9.78297554077301e-10, 4.387963787894772e-13, 0.29966744780540466, 0.0]], [[0.45458903908729553, 0.19437330961227417, 0.006200903560966253, 0.00366047746501863, 0.011521878652274609, 0.0033437954261898994, 0.0014418185455724597, 0.3248688280582428, 0.0], [0.15661115944385529, 0.3062637150287628, 0.005062550771981478, 0.0025975292082875967, 0.0640949159860611, 0.012346300296485424, 0.004363748710602522, 0.44866007566452026, 0.0], [0.055707208812236786, 0.3597736954689026, 0.36000555753707886, 0.0017414186149835587, 0.0002033970959018916, 0.00021861745335627347, 0.02841712348163128, 0.19393296539783478, 0.0], [0.014055673032999039, 0.1928340196609497, 0.6610445976257324, 0.028036031872034073, 0.000734554894734174, 8.523866563336924e-05, 0.0008874867344275117, 0.10232242196798325, 0.0], [0.0012378802057355642, 0.06370356678962708, 0.19423136115074158, 0.1411409229040146, 0.49164071679115295, 0.023350995033979416, 0.002050620736554265, 0.08264387398958206, 0.0], [0.002841911045834422, 0.001219810452312231, 0.020752811804413795, 0.35839396715164185, 0.45209240913391113, 0.0786694660782814, 0.02372777834534645, 0.06230192258954048, 0.0], [0.025499429553747177, 0.008593697100877762, 0.0004351547104306519, 0.049856655299663544, 0.0573236458003521, 0.6360328793525696, 0.049076855182647705, 0.1731816530227661, 0.0], [0.01927778869867325, 0.021075870841741562, 0.0035123429261147976, 0.008086219429969788, 0.010531186126172543, 0.33025529980659485, 0.5304774641990662, 0.07678379863500595, 0.0]]], [[[7.389087841147557e-05, 0.00018483673920854926, 0.017145363613963127, 0.9672859907150269, 0.00803092960268259, 0.00013324899191502482, 2.450737611070508e-06, 0.007143145892769098, 0.0], [0.0007159642409533262, 8.724271538085304e-06, 4.924726454191841e-06, 0.013149140402674675, 0.9727029800415039, 0.012843707576394081, 1.4468737390416209e-05, 0.0005600799340754747, 0.0], [6.751815089955926e-05, 3.3156038625747897e-06, 5.139173026691424e-06, 2.356355616939254e-05, 0.0001681244175415486, 0.9470673203468323, 0.010642945766448975, 0.04202215000987053, 0.0], [9.380873234476894e-05, 8.118391269817948e-05, 7.105291297193617e-05, 1.3903932085668202e-05, 6.607372051803395e-05, 0.14275594055652618, 0.09304280579090118, 0.7638752460479736, 0.0], [0.00044628707109950483, 0.0002237749722553417, 0.0003362138522788882, 7.135028135962784e-05, 8.314997830893844e-05, 5.709955075872131e-05, 0.03927604481577873, 0.9595061540603638, 0.0], [0.00040171394357457757, 0.00010294782259734347, 0.00022081386123318225, 0.0001908851700136438, 0.0003428126801736653, 4.5177392166806385e-05, 0.004000674933195114, 0.9946950078010559, 0.0], [0.00032944019767455757, 0.0020932217594236135, 0.009451334364712238, 0.002701552351936698, 0.0018876196118071675, 0.00048679791507311165, 0.003706564661115408, 0.9793435335159302, 0.0], [0.004311613738536835, 0.049760252237319946, 0.05076131224632263, 0.0015431531937792897, 0.008114141412079334, 0.0047881221398711205, 0.0011211219243705273, 0.8796002864837646, 0.0]], [[0.0001555757480673492, 0.02354537509381771, 0.9695655107498169, 0.0016938339686021209, 0.0003597430477384478, 5.648019214277156e-05, 3.482020110823214e-05, 0.004588743206113577, 0.0], [0.00886713620275259, 0.00045898021198809147, 0.08102802187204361, 0.7521423697471619, 0.1301153600215912, 0.004625884350389242, 9.40397585509345e-05, 0.022668229416012764, 0.0], [0.003596572671085596, 0.0014362526126205921, 0.04188503324985504, 0.08458641916513443, 0.3955517113208771, 0.019933316856622696, 0.0024372392799705267, 0.4505734145641327, 0.0], [4.379510210128501e-05, 7.750539953121915e-05, 0.0006426554173231125, 0.0001566957653267309, 0.010328078642487526, 0.28647953271865845, 0.014964550733566284, 0.6873071789741516, 0.0], [7.376453868346289e-05, 0.0005609974032267928, 0.0005709349643439054, 5.1076051022391766e-05, 0.0006579761393368244, 0.3062829375267029, 0.011730212718248367, 0.6800720691680908, 0.0], [8.376649930141866e-05, 0.004260467365384102, 2.4473878511344083e-05, 5.718510874430649e-05, 0.0012396733509376645, 0.005003004334867001, 0.04369961842894554, 0.9456318020820618, 0.0], [0.0002651334216352552, 0.0026336635928601027, 0.0004006901872344315, 0.00027170320390723646, 0.003889610292389989, 0.0039796424098312855, 0.007921120151877403, 0.9806384444236755, 0.0], [8.679928578203544e-05, 8.718405297258869e-05, 0.0005419247318059206, 0.0028941058553755283, 0.01656409353017807, 0.010049262084066868, 0.0013848525704815984, 0.9683918356895447, 0.0]], [[0.0011447356082499027, 0.000758258393034339, 0.02420416846871376, 0.008180818520486355, 0.9409728050231934, 0.016671737655997276, 0.00013721946743316948, 0.00793026015162468, 0.0], [0.003029625630006194, 0.0001289485808229074, 0.0007539770449511707, 4.758034265250899e-05, 0.055457595735788345, 0.8457767963409424, 0.03476094454526901, 0.06004448980093002, 0.0], [0.23822589218616486, 0.0025991653092205524, 0.0011112162610515952, 0.0028898734599351883, 0.053590040653944016, 0.30996236205101013, 0.11830241978168488, 0.2733190357685089, 0.0], [0.002554656472057104, 0.00018717735656537116, 8.126594184432179e-05, 9.889399370877072e-05, 0.005337658803910017, 0.30331340432167053, 0.006661004852503538, 0.6817659735679626, 0.0], [0.014132223092019558, 0.0026239946018904448, 0.005524863488972187, 0.00038538710214197636, 0.002141763688996434, 0.02696489542722702, 0.0013085434911772609, 0.9469183087348938, 0.0], [1.8262477169628255e-05, 0.00013978316565044224, 0.00019481645722407848, 0.010756120085716248, 0.00034568452974781394, 0.0063945394940674305, 0.005606731865555048, 0.9765440225601196, 0.0], [0.0017334342701360583, 0.0018606499070301652, 0.011914708651602268, 0.03819660469889641, 0.043521780520677567, 0.005503169260919094, 0.034133121371269226, 0.8631365299224854, 0.0], [0.00011989558697678149, 0.0003836561809293926, 0.0006173258880153298, 0.04836275056004524, 0.0002253400016343221, 0.006375409197062254, 0.03317135199904442, 0.910744309425354, 0.0]], [[0.5946072340011597, 0.07358191162347794, 0.10419300943613052, 0.0027924389578402042, 0.02470078505575657, 0.041339676827192307, 0.032130662351846695, 0.12665437161922455, 0.0], [0.6817650198936462, 0.0016592732863500714, 0.18292683362960815, 0.00020163362205494195, 0.001099359360523522, 0.01772804744541645, 0.06422745436429977, 0.050392333418130875, 0.0], [0.18610893189907074, 0.262905091047287, 0.3304149806499481, 0.0013126201229169965, 0.00023909102310426533, 0.003951129969209433, 0.06811568886041641, 0.14695246517658234, 0.0], [0.009356766007840633, 0.049956366419792175, 0.8070741891860962, 0.004244897980242968, 0.0008157190168276429, 0.0038093936163932085, 0.0002798937784973532, 0.12446286529302597, 0.0], [0.00015346906729973853, 0.0002561802975833416, 0.9297688603401184, 0.0001971264136955142, 0.0012957631843164563, 0.004159581381827593, 0.0015764301642775536, 0.06259247660636902, 0.0], [0.008795167319476604, 0.06599617749452591, 0.038941506296396255, 0.03736996650695801, 0.04610184207558632, 0.17987202107906342, 0.027662979438900948, 0.5952603816986084, 0.0], [0.001514505478553474, 0.00033497827826067805, 0.07294032722711563, 0.17399603128433228, 0.028057653456926346, 0.3331230878829956, 0.07337392121553421, 0.31665951013565063, 0.0], [3.919710798072629e-05, 5.557649637921713e-05, 0.0003871880762744695, 0.0024558010045439005, 0.0069320593029260635, 0.9356045722961426, 0.041157316416502, 0.013368330895900726, 0.0]], [[0.03118288330733776, 0.004928924608975649, 0.002856712555512786, 0.017094716429710388, 0.5740852355957031, 0.2318606674671173, 0.04799288138747215, 0.08999807387590408, 0.0], [0.028844203799962997, 0.0735216960310936, 0.10611365735530853, 0.012229281477630138, 0.002467036945745349, 0.20064698159694672, 0.4064360558986664, 0.16974104940891266, 0.0], [0.0024970180820673704, 0.023319575935602188, 0.004790483508259058, 0.003018458839505911, 0.020417220890522003, 0.0071912542916834354, 0.0061948723159730434, 0.9325711727142334, 0.0], [0.0003687702992465347, 0.06000932678580284, 0.0037748145405203104, 8.014640479814261e-05, 0.007364333141595125, 0.011226193979382515, 0.0031919691246002913, 0.913984477519989, 0.0], [0.003153040772303939, 0.0946243405342102, 0.01608653925359249, 0.014727524481713772, 0.15896357595920563, 0.034834444522857666, 0.02395642362535, 0.6536540389060974, 0.0], [0.008907848969101906, 0.00479590380564332, 0.004141912329941988, 0.04339972138404846, 0.344364732503891, 0.055415306240320206, 0.016841234639286995, 0.5221332907676697, 0.0], [0.004773992113769054, 0.04370516538619995, 0.03020324744284153, 0.3648587763309479, 0.04509530961513519, 0.18965882062911987, 0.05564512312412262, 0.2660595774650574, 0.0], [0.0017588100163266063, 0.005316338036209345, 0.00165093457326293, 0.007444028742611408, 0.03846035152673721, 0.27331921458244324, 0.23760291934013367, 0.43444743752479553, 0.0]], [[0.3800463080406189, 0.09588269889354706, 0.04888692498207092, 0.35321006178855896, 0.009325656108558178, 0.0073829335160553455, 0.002924539614468813, 0.10234081000089645, 0.0], [0.006450660992413759, 0.6508159041404724, 0.029127202928066254, 0.05455219745635986, 0.037383925169706345, 0.08011039346456528, 0.01368830818682909, 0.12787137925624847, 0.0], [0.09280278533697128, 0.30105358362197876, 0.05586930736899376, 0.02979428321123123, 0.07162120193243027, 0.03816263750195503, 0.002794927451759577, 0.4079013168811798, 0.0], [0.07825402170419693, 0.03814546391367912, 0.005869808606803417, 0.18409591913223267, 0.1397310346364975, 0.05136391520500183, 0.02568894624710083, 0.47685086727142334, 0.0], [0.00976209994405508, 0.02773970365524292, 0.02185816317796707, 0.03366754576563835, 0.012674197554588318, 0.01569446176290512, 0.1118689477443695, 0.7667348980903625, 0.0], [0.0017581852152943611, 0.014965678565204144, 0.0021971301175653934, 0.011870733462274075, 0.018350515514612198, 0.037559155374765396, 0.1795579195022583, 0.7337406873703003, 0.0], [0.0014121875865384936, 0.01596442610025406, 0.004084124695509672, 0.011313002556562424, 0.004588492214679718, 0.007039682008326054, 0.5752949118614197, 0.38030320405960083, 0.0], [0.0021993471309542656, 0.001879208954051137, 0.002256444888189435, 0.0071674520149827, 0.015657849609851837, 0.11902080476284027, 0.5422948598861694, 0.3095241189002991, 0.0]], [[0.007850182242691517, 0.038843851536512375, 0.010465671308338642, 0.07710785418748856, 0.7324777841567993, 0.071357361972332, 0.0008022043621167541, 0.061095111072063446, 0.0], [0.5412281155586243, 0.030129045248031616, 0.004476552363485098, 0.006593718193471432, 0.24806061387062073, 0.05882202088832855, 0.00022165506379678845, 0.11046835035085678, 0.0], [0.07283319532871246, 0.16075390577316284, 0.02535463683307171, 0.016961297020316124, 0.10833167284727097, 0.004693308845162392, 0.07095987349748611, 0.5401120781898499, 0.0], [0.003838212927803397, 0.4320162832736969, 0.03613879904150963, 0.02094166725873947, 0.003826375352218747, 0.00038054698961786926, 0.007782851345837116, 0.4950753450393677, 0.0], [0.00024687734548933804, 0.00017281723557971418, 8.825142140267417e-05, 0.001242951606400311, 0.12043177336454391, 0.8538528084754944, 0.00011379204806871712, 0.023850707337260246, 0.0], [0.00010917446343228221, 0.015315345488488674, 0.0010660146363079548, 0.01418252196162939, 0.06842755526304245, 0.3275146782398224, 0.03760899603366852, 0.5357757210731506, 0.0], [0.00011476337385829538, 0.0059466902166605, 0.0002581612206995487, 0.0001122888206737116, 0.23565654456615448, 0.7033969163894653, 0.010168374516069889, 0.04434628412127495, 0.0], [0.0007671992643736303, 0.03165454789996147, 0.006348866969347, 0.004040963482111692, 0.011478368192911148, 0.13905125856399536, 0.5848493576049805, 0.221809521317482, 0.0]], [[1.0, 5.733228822246694e-11, 5.559591015387945e-19, 5.972086858316475e-18, 1.2913963301497411e-11, 3.903232598245765e-11, 4.2877598173396425e-12, 2.950732974780145e-16, 0.0], [8.01522459514814e-11, 1.0, 1.4930413572145085e-09, 8.810549504720917e-21, 9.490445800120843e-31, 3.0023574585061323e-26, 7.142279108367812e-19, 7.700240998217284e-16, 0.0], [2.890225411939509e-19, 4.431677464236672e-13, 1.0, 3.1546610484468884e-13, 4.307963092524704e-21, 1.053032041920437e-23, 4.0227049741323835e-26, 3.974852289970771e-19, 0.0], [9.332787270269886e-19, 4.246557991156562e-17, 2.781628660047941e-12, 1.0, 2.77756512234717e-10, 2.4044969946349752e-18, 1.5492021221355684e-23, 4.014316560007793e-20, 0.0], [1.708548172673179e-16, 2.6193440065738845e-17, 5.3575757047398106e-17, 6.59809053639264e-14, 1.0, 9.173371784410023e-11, 3.459980076638098e-18, 1.4402842355993716e-17, 0.0], [2.8746335823878755e-13, 4.9364953111038536e-15, 9.322253373323207e-17, 3.524310631199991e-14, 2.9645965682334463e-08, 0.9999873638153076, 1.2580043403431773e-05, 7.800410095626376e-09, 0.0], [9.694721692099506e-10, 5.007312381573314e-13, 4.606607605399025e-19, 1.0849487261493907e-15, 2.9453257943775596e-17, 1.3189995762274975e-08, 0.9999935626983643, 6.4383070821349975e-06, 0.0], [1.9852555723932338e-16, 2.3661230003440863e-19, 2.797675636615869e-22, 1.3795398824290766e-22, 1.6054585296481437e-25, 1.1035819802618562e-19, 8.033585459088499e-07, 0.9999991655349731, 0.0]]], [[[0.19031688570976257, 0.05635618418455124, 0.21342602372169495, 0.41150951385498047, 0.048131491988897324, 0.0050043268129229546, 0.006072225980460644, 0.06918340921401978, 0.0], [0.23892736434936523, 0.1591426432132721, 0.043724920600652695, 0.14379630982875824, 0.1610793173313141, 0.0035926245618611574, 0.010332263074815273, 0.23940441012382507, 0.0], [0.0018526989733800292, 0.6378689408302307, 0.0027949907816946507, 0.20212328433990479, 0.022355033084750175, 0.002889143070206046, 0.020742563530802727, 0.10937337577342987, 0.0], [0.0037511195987462997, 0.8817709684371948, 0.006136489566415548, 0.01000057253986597, 0.004086900502443314, 0.0012470940127968788, 0.00047114930930547416, 0.09253572672605515, 0.0], [0.009437701664865017, 0.0874919518828392, 0.035262078046798706, 0.0259880218654871, 0.26097571849823, 0.0415053591132164, 0.0044973767362535, 0.5348418354988098, 0.0], [0.0001551446330267936, 0.00111444725189358, 0.00029097404330968857, 0.002099487232044339, 0.02678961493074894, 0.8078405261039734, 0.0007866228697821498, 0.16092315316200256, 0.0], [0.0010923058725893497, 0.0038105903659015894, 0.0019215758657082915, 0.008487086743116379, 0.06722470372915268, 0.8236289620399475, 0.024423586204648018, 0.06941123306751251, 0.0], [0.00021877737890463322, 0.007560206577181816, 0.007140525616705418, 0.033290132880210876, 0.004167524632066488, 0.006254390813410282, 0.004351540468633175, 0.9370169043540955, 0.0]], [[0.8042213916778564, 0.14739274978637695, 0.026301363483071327, 0.001091811340302229, 0.0003648940473794937, 0.0028521614149212837, 0.006479669362306595, 0.011296051554381847, 0.0], [0.013180281966924667, 0.19335006177425385, 0.7296023964881897, 0.007627398706972599, 0.0008443295955657959, 0.0030926926992833614, 0.00220307894051075, 0.05009973794221878, 0.0], [0.03403918817639351, 0.019856907427310944, 0.6820119619369507, 0.005051499232649803, 0.03610434755682945, 0.01565518043935299, 0.004684914369136095, 0.2025960236787796, 0.0], [0.003450770163908601, 4.452902066987008e-05, 0.0037379481364041567, 0.011382412165403366, 0.886465311050415, 0.008172297850251198, 0.012985480017960072, 0.07376128435134888, 0.0], [9.56144358497113e-05, 0.005059308838099241, 0.00020961953850928694, 0.1907443404197693, 0.24877041578292847, 0.033791434019804, 0.024608198553323746, 0.4967210292816162, 0.0], [0.00040422199526801705, 0.00022336676192935556, 0.0006742557743564248, 0.03817295655608177, 0.013594458810985088, 0.01836007833480835, 0.5396302938461304, 0.38894039392471313, 0.0], [0.0007854605792090297, 0.05210943892598152, 0.0005485205329023302, 0.010313667356967926, 0.006361226551234722, 0.07936125248670578, 0.5899244546890259, 0.26059597730636597, 0.0], [6.795795343350619e-05, 0.0022816171403974295, 0.0003736183571163565, 0.004182174801826477, 0.07452012598514557, 0.02777234837412834, 0.17369286715984344, 0.7171092629432678, 0.0]], [[0.007692935410887003, 0.00399752939119935, 0.0011411471059545875, 0.0020718607120215893, 0.08523496985435486, 0.18942901492118835, 0.2565207779407501, 0.45391181111335754, 0.0], [0.417602002620697, 0.04681374877691269, 0.034044135361909866, 0.0021409750916063786, 0.0021652847062796354, 0.0034966226667165756, 0.04323503002524376, 0.4505021572113037, 0.0], [0.8196360468864441, 0.05221991240978241, 0.0011540661798790097, 0.00019447918748483062, 3.55439078703057e-05, 0.00029636608087457716, 0.01319813821464777, 0.11326558142900467, 0.0], [0.003377694170922041, 0.9532459378242493, 0.014504087157547474, 5.381244045565836e-05, 3.057803405681625e-05, 8.27415133244358e-05, 0.00012644531670957804, 0.028578558936715126, 0.0], [0.0047860099002718925, 0.021861927583813667, 0.8596840500831604, 0.031941331923007965, 0.0013374191476032138, 0.0003153043508064002, 0.008031765930354595, 0.07204212993383408, 0.0], [1.907961632241495e-05, 0.0008049689931795001, 0.020618515089154243, 0.006979007739573717, 0.965704083442688, 0.0028139902278780937, 0.0001340829039691016, 0.0029261831659823656, 0.0], [4.58808135590516e-05, 0.00013346178457140923, 0.0005058920360170305, 0.010072576813399792, 0.9638651609420776, 0.020654961466789246, 0.0017902115359902382, 0.0029319608584046364, 0.0], [0.00776778906583786, 0.0042463988065719604, 0.010800969786942005, 0.0008685981156304479, 0.0034572083968669176, 0.016618238762021065, 0.021212909370660782, 0.9350278377532959, 0.0]], [[0.0005855903145857155, 0.021940305829048157, 0.005230316426604986, 0.06755664199590683, 0.6626277565956116, 0.19704538583755493, 0.0003660171933006495, 0.044648073613643646, 0.0], [0.05090397596359253, 0.014694422483444214, 0.0012853853404521942, 0.1877734661102295, 0.039453521370887756, 0.26085764169692993, 0.25358155369758606, 0.19145002961158752, 0.0], [0.04052821546792984, 0.01111037191003561, 0.0012824659934267402, 0.022216252982616425, 0.01070824358612299, 0.12489235401153564, 0.4027133285999298, 0.3865487277507782, 0.0], [0.025513021275401115, 0.29819953441619873, 0.0030410888139158487, 0.06674982607364655, 0.006001316476613283, 0.04023488610982895, 0.03558943420648575, 0.5246708989143372, 0.0], [0.0015881662257015705, 0.000452730106189847, 0.08804752677679062, 0.770876407623291, 0.010722454637289047, 0.03425511345267296, 0.01043604128062725, 0.0836215615272522, 0.0], [0.0030006151646375656, 0.0003954817948397249, 0.07948968559503555, 0.31363821029663086, 0.16540341079235077, 0.012807316146790981, 0.09627803415060043, 0.3289872407913208, 0.0], [0.038395561277866364, 0.002136022550985217, 0.0480666309595108, 0.006050271913409233, 0.1007913127541542, 0.2934594750404358, 0.0648517981171608, 0.4462488889694214, 0.0], [0.0014668625080958009, 0.0028682411648333073, 0.004135538823902607, 0.003761031199246645, 0.013471661135554314, 0.11433155089616776, 0.01416054181754589, 0.8458045125007629, 0.0]], [[0.002086065011098981, 0.0008739082259126008, 4.871575583820231e-05, 0.02656523883342743, 0.9297987222671509, 0.03219643235206604, 0.0009638731717132032, 0.007466989569365978, 0.0], [0.00945251900702715, 0.0009552333503961563, 0.06676576286554337, 0.10082576423883438, 0.06742030382156372, 0.6961115598678589, 0.002295552985742688, 0.05617327615618706, 0.0], [0.007106429431587458, 0.058183133602142334, 0.006480040028691292, 0.07248245179653168, 0.13916617631912231, 0.26347222924232483, 0.010376746766269207, 0.4427328407764435, 0.0], [0.0042285798117518425, 0.01360626332461834, 0.11284241080284119, 0.06676279008388519, 0.005282111931592226, 0.01196527574211359, 0.010260951705276966, 0.7750515937805176, 0.0], [0.0018269874854013324, 0.025364793837070465, 0.030006753280758858, 0.0011039406526833773, 0.007259839214384556, 0.023827580735087395, 0.030237939208745956, 0.8803721070289612, 0.0], [0.009206150658428669, 0.06979722529649734, 0.0036759197246283293, 0.03794565051794052, 0.0021208066027611494, 0.009991351515054703, 0.10286719352006912, 0.7643956542015076, 0.0], [0.001744002103805542, 0.0002620310115162283, 7.440123590640724e-05, 0.8268464803695679, 0.005406086333096027, 0.0042334371246397495, 0.02755863033235073, 0.13387486338615417, 0.0], [0.000248890311922878, 0.0004356045392341912, 0.00044138176599517465, 0.0005218993173912168, 0.02876000665128231, 0.1281086653470993, 0.0031539788469672203, 0.838329553604126, 0.0]], [[0.4809638559818268, 0.06200280040502548, 0.31977567076683044, 0.03699755668640137, 0.01913449354469776, 0.030170224606990814, 0.017545387148857117, 0.0334099680185318, 0.0], [0.001499723643064499, 0.0018537385622039437, 0.9885352253913879, 0.0002620302839204669, 0.0025368030183017254, 0.001261524623259902, 5.060348485130817e-05, 0.004000382497906685, 0.0], [0.002782982774078846, 0.009603571146726608, 0.9371564388275146, 0.0066640544682741165, 0.00575321726500988, 0.0018892257940024137, 0.0003399498818907887, 0.035810455679893494, 0.0], [0.014806251041591167, 0.0063756247982382774, 0.7285807728767395, 0.0753532201051712, 0.041726455092430115, 0.009563030675053596, 0.0002598799765110016, 0.12333478778600693, 0.0], [0.0060701631009578705, 0.004103336948901415, 0.014256421476602554, 0.7112489342689514, 0.004450686741620302, 0.013808055780827999, 0.020533040165901184, 0.22552940249443054, 0.0], [0.008474349975585938, 0.000347627472365275, 0.014490523375570774, 0.007683593779802322, 0.012444308958947659, 0.03354951739311218, 0.4365140497684479, 0.4864960312843323, 0.0], [0.0011749840341508389, 0.0003804810403380543, 0.0026107942685484886, 0.0020046548452228308, 0.009237295016646385, 0.0011027205036953092, 0.7176320552825928, 0.2658570110797882, 0.0], [0.0004617109370883554, 0.0010871136328205466, 0.06465569138526917, 0.005535202566534281, 0.0003664027317427099, 0.001136696431785822, 0.0005128444172441959, 0.9262443780899048, 0.0]], [[0.9447973370552063, 0.02277621626853943, 0.000476761138997972, 0.00045792930177412927, 0.0003392330836504698, 0.012503514997661114, 0.0020782428327947855, 0.01657087355852127, 0.0], [0.036630768328905106, 0.6818385720252991, 0.04993118345737457, 0.019929450005292892, 0.017781198024749756, 0.0015374533832073212, 0.004527352284640074, 0.18782395124435425, 0.0], [0.0034910759422928095, 0.003908685874193907, 0.7892277836799622, 0.0400894470512867, 0.00039994073449634016, 0.0005891055334359407, 0.00047009263653308153, 0.1618238091468811, 0.0], [5.357561894925311e-05, 0.09485630691051483, 0.13003970682621002, 0.27620938420295715, 0.11193646490573883, 0.0033926786854863167, 0.0007355261477641761, 0.3827763497829437, 0.0], [0.0005649258382618427, 0.00016762936138547957, 0.005496910773217678, 0.02316073328256607, 0.9358853697776794, 0.015551019459962845, 0.001963932765647769, 0.01720951497554779, 0.0], [0.0001743649918353185, 0.00026397162582725286, 0.0005537564866244793, 0.01001782901585102, 0.009807792492210865, 0.9501947164535522, 0.009134943597018719, 0.019852591678500175, 0.0], [0.004863970912992954, 0.000829423195682466, 0.002116285264492035, 0.0008702304912731051, 0.016449423506855965, 0.15036529302597046, 0.7783400416374207, 0.04616537317633629, 0.0], [0.00011774768063332886, 0.0009915325790643692, 0.0004015913582406938, 0.006451683584600687, 0.009435107931494713, 0.02021257020533085, 0.19243022799491882, 0.7699595093727112, 0.0]], [[0.6433873772621155, 0.24268169701099396, 0.09077554941177368, 0.0018219721969217062, 0.0010428889654576778, 0.0042106821201741695, 0.002559361979365349, 0.013520573265850544, 0.0], [0.003021141979843378, 0.004264332354068756, 0.8072872161865234, 0.16601867973804474, 0.003302121302112937, 0.001720299245789647, 0.00044699941645376384, 0.013939144089818, 0.0], [0.05327906832098961, 0.03651052340865135, 0.023755772039294243, 0.16105523705482483, 0.15797720849514008, 0.12770159542560577, 0.01948995143175125, 0.4202306568622589, 0.0], [6.503221084130928e-05, 0.0001836946321418509, 0.00038909781142137945, 0.005309394560754299, 0.014411772601306438, 0.8739598989486694, 0.0007021737983450294, 0.10497882962226868, 0.0], [0.000541111861821264, 0.00011646219354588538, 4.5693537686020136e-05, 0.00023743764904793352, 0.0020989251788705587, 0.29383307695388794, 0.004551008343696594, 0.6985763311386108, 0.0], [0.0028776745311915874, 0.00023588670592289418, 0.0008867293945513666, 0.0008614144753664732, 0.00027755970950238407, 0.0028655657079070807, 0.24649973213672638, 0.7454953789710999, 0.0], [0.0024892115034163, 0.004186767153441906, 0.011498970910906792, 0.0007336905691772699, 0.008132646791636944, 0.003328865859657526, 0.013903788290917873, 0.9557260274887085, 0.0], [4.025368070870172e-06, 4.8460606194566935e-06, 1.2317179425735958e-05, 0.00018129055388271809, 0.0005112995859235525, 0.00036739339702762663, 0.0003194520832039416, 0.9985993504524231, 0.0]]]], \"left_text\": [\"T\", \"I\", \"V\", \"S\", \"L\", \"G\", \"V\", \"<eos>\"], \"right_text\": [\"Q\", \"K\", \"L\", \"V\", \"F\", \"F\", \"A\", \"<eos>\", \"<pad>\"]}], \"default_filter\": \"0\", \"root_div_id\": \"bertviz-3ddfaeebb36b479bbade7c9a432b0d82\", \"layer\": null, \"heads\": null, \"include_layers\": [0, 1, 2, 3]}; // HACK: {\"attention\": [{\"name\": \"Encoder\", \"attn\": [[[[0.009657680056989193, 0.5535450577735901, 0.43669018149375916, 0.00010674286022549495, 2.686704476673185e-07, 4.508845741213463e-09, 1.724902443100973e-09, 6.237483390340479e-16, 0.0], [0.9909327030181885, 0.008782354183495045, 0.00028486852534115314, 1.9517678584435316e-09, 1.0150199908007251e-12, 3.949912499943281e-13, 9.476911616568273e-11, 8.696042068942825e-14, 0.0], [1.835090370150283e-05, 0.997805655002594, 0.002174929017201066, 1.0133998102901387e-06, 9.087546253699896e-13, 4.757518705186898e-17, 1.910310593528541e-17, 4.513852741386156e-19, 0.0], [1.736626123734577e-16, 2.5924657165887766e-05, 0.9984143972396851, 0.0015595188597217202, 7.688179692877384e-08, 5.032518671773745e-16, 1.668870106336174e-21, 1.0056100685802067e-26, 0.0], [1.0189666250927456e-32, 6.429898240140073e-19, 2.645826384650718e-07, 0.9995335340499878, 0.00046620401553809643, 2.5966596494536587e-12, 7.203582335981169e-21, 8.615588214364224e-33, 0.0], [1.5414283107572988e-44, 2.2414270445497714e-32, 3.087812287101249e-18, 2.9880902729928493e-05, 0.9986506104469299, 0.001319557661190629, 6.461081669684177e-12, 1.0384809260542845e-28, 0.0], [0.0, 0.0, 1.8205009580879388e-35, 1.4829618089255387e-20, 8.711494956514798e-07, 0.9999970197677612, 2.156650452889153e-06, 4.8724634366030834e-23, 0.0], [0.0, 0.0, 0.0, 0.0, 0.0, 0.0, 0.0, 1.0, 0.0], [8.407790785948902e-45, 0.0, 0.0, 0.0, 1.8188854066936126e-42, 7.215952288708819e-25, 2.9660351952287556e-09, 1.0, 0.0]], [[3.760880548857277e-16, 1.0, 1.6018991559112578e-18, 0.0, 0.0, 0.0, 0.0, 0.0, 0.0], [1.1167049341081329e-22, 1.067992569381282e-11, 1.0, 5.2881130473645476e-17, 1.401298464324817e-44, 0.0, 0.0, 0.0, 0.0], [0.0, 8.574097624410968e-24, 1.9657473870893227e-08, 1.0, 2.1982123152991528e-13, 9.636707566801846e-37, 0.0, 0.0, 0.0], [0.0, 3.587324068671532e-43, 2.5144702802382012e-22, 7.43829775551319e-10, 1.0, 1.1022090358470127e-12, 2.526905908225568e-35, 0.0, 0.0], [0.0, 0.0, 1.607595972279983e-34, 1.3749955289480732e-14, 8.854684710968286e-05, 0.9999113082885742, 8.93551401759396e-08, 1.1406288118872375e-37, 0.0], [1.961817850054744e-44, 0.0, 0.0, 8.799033317188391e-41, 4.224507396629212e-30, 1.3334923443242275e-12, 1.0, 5.679479600691055e-20, 0.0], [6.683500326095084e-23, 2.5225858623448435e-30, 0.0, 0.0, 2.802596928649634e-45, 2.0502830192578816e-24, 8.189987283913069e-07, 0.9999991655349731, 0.0], [0.0, 0.0, 0.0, 0.0, 0.0, 0.0, 6.221765181602188e-43, 1.0, 0.0], [1.6954197339706482e-31, 4.150372660660651e-06, 0.9999958276748657, 2.181274605383976e-10, 8.288763676764134e-25, 2.3715538260795297e-35, 1.405825122026222e-32, 3.335083341765338e-23, 0.0]], [[0.0048850285820662975, 0.056247979402542114, 0.20841066539287567, 0.519554078578949, 0.132023885846138, 0.03140682727098465, 0.03744852915406227, 0.010023067705333233, 0.0], [0.10374940931797028, 0.07058615237474442, 0.09204094111919403, 0.16767020523548126, 0.1317422240972519, 0.10370869934558868, 0.1479940116405487, 0.1825084537267685, 0.0], [0.3558551073074341, 0.13935619592666626, 0.05802037566900253, 0.039503537118434906, 0.02572702243924141, 0.026761407032608986, 0.075920470058918, 0.27885594964027405, 0.0], [0.27066317200660706, 0.3699371814727783, 0.1338624209165573, 0.04383036494255066, 0.01666058599948883, 0.011617882177233696, 0.03160761296749115, 0.12182088196277618, 0.0], [0.04405415058135986, 0.4727693200111389, 0.3066950738430023, 0.11997547000646591, 0.02190971001982689, 0.0064436206594109535, 0.011181111447513103, 0.016971556469798088, 0.0], [0.004427679348737001, 0.13395652174949646, 0.3223211169242859, 0.40650901198387146, 0.09602701663970947, 0.01870383694767952, 0.015287075191736221, 0.0027676743920892477, 0.0], [0.0004671888018492609, 0.007342569995671511, 0.06787914782762527, 0.4043894112110138, 0.3670702278614044, 0.11683163791894913, 0.03523243963718414, 0.0007873784634284675, 0.0], [9.51185284066014e-05, 7.58882742957212e-05, 0.0001801560283638537, 0.003820106154307723, 0.0006126107764430344, 0.00044984836131334305, 0.002734112786129117, 0.9920321702957153, 0.0], [0.014652491547167301, 0.0020817029289901257, 0.00459749810397625, 0.027719957754015923, 0.1020762100815773, 0.26841965317726135, 0.5372626781463623, 0.04318981617689133, 0.0]], [[0.0382201224565506, 0.3227595388889313, 0.08736035972833633, 0.194540873169899, 0.25100603699684143, 0.08014027774333954, 0.014335338957607746, 0.011637399904429913, 0.0], [0.22774575650691986, 0.12338109314441681, 0.12676192820072174, 0.16575512290000916, 0.22626294195652008, 0.09058617055416107, 0.022424733266234398, 0.017082221806049347, 0.0], [0.13074354827404022, 0.13677524030208588, 0.08139452338218689, 0.17558635771274567, 0.29871535301208496, 0.13368827104568481, 0.020677879452705383, 0.02241886407136917, 0.0], [0.08877602219581604, 0.04534219205379486, 0.042818859219551086, 0.057640135288238525, 0.49150562286376953, 0.23519361019134521, 0.027981238439679146, 0.010742433369159698, 0.0], [0.10380879044532776, 0.087206169962883, 0.11220268160104752, 0.32944613695144653, 0.17742687463760376, 0.09404589980840683, 0.06707631796598434, 0.028787100687623024, 0.0], [0.0487995445728302, 0.044440723955631256, 0.06758846342563629, 0.25063249468803406, 0.18962939083576202, 0.16166265308856964, 0.17483985424041748, 0.062406931072473526, 0.0], [0.00811111181974411, 0.012593246065080166, 0.014636374078691006, 0.05462081357836723, 0.2809031307697296, 0.4670554995536804, 0.08511801064014435, 0.07696181535720825, 0.0], [7.187948085629614e-06, 9.523701919533778e-06, 2.459603138049715e-06, 3.06039655697532e-05, 3.9190505049191415e-05, 0.00040294750942848623, 0.010877883061766624, 0.9886301755905151, 0.0], [0.016769930720329285, 0.008838721551001072, 0.015170308761298656, 0.012518525123596191, 0.10733429342508316, 0.2787938416004181, 0.40568554401397705, 0.1548888236284256, 0.0]], [[0.5451481342315674, 0.17269837856292725, 0.034054022282361984, 0.020941313356161118, 0.10866124927997589, 0.03799128159880638, 0.004860469605773687, 0.07564511895179749, 0.0], [0.8423455953598022, 0.042294856160879135, 0.012369957752525806, 0.006520405877381563, 0.03239656612277031, 0.020758112892508507, 0.006766194012016058, 0.0365484356880188, 0.0], [0.8760918974876404, 0.08257228881120682, 0.008564495481550694, 0.0035039042122662067, 0.013460343703627586, 0.007248932961374521, 0.001927345059812069, 0.0066309161484241486, 0.0], [0.6997849941253662, 0.1886187046766281, 0.031631503254175186, 0.011298410594463348, 0.036198101937770844, 0.01815035566687584, 0.00547001650556922, 0.008847958408296108, 0.0], [0.3812223970890045, 0.3851568400859833, 0.10162908583879471, 0.04331785440444946, 0.053774043917655945, 0.01934080757200718, 0.010109852068126202, 0.005449069198220968, 0.0], [0.06271373480558395, 0.20135793089866638, 0.15788033604621887, 0.1443115472793579, 0.29601073265075684, 0.09878948330879211, 0.03527781367301941, 0.003658367320895195, 0.0], [0.0007281686994247139, 0.006965139415115118, 0.019322624430060387, 0.052659809589385986, 0.6261683106422424, 0.27316832542419434, 0.020398104563355446, 0.0005895456415601075, 0.0], [0.00020446818962227553, 0.00015210386482067406, 0.0006216110778041184, 0.0010829656384885311, 0.001103766611777246, 0.001879250630736351, 0.006236647721379995, 0.9887191653251648, 0.0], [0.0038277774583548307, 0.004097022116184235, 0.008147357031702995, 0.034007325768470764, 0.18839552998542786, 0.35446733236312866, 0.4003954827785492, 0.006662164814770222, 0.0]], [[0.0481431744992733, 0.2868683934211731, 0.2623375952243805, 0.1408068686723709, 0.10246364772319794, 0.0507042333483696, 0.045887287706136703, 0.06278881430625916, 0.0], [0.21693478524684906, 0.09507375210523605, 0.24272949993610382, 0.13532763719558716, 0.09899244457483292, 0.06355316936969757, 0.07349026948213577, 0.07389844208955765, 0.0], [0.11732342094182968, 0.2770580053329468, 0.11779528111219406, 0.18581877648830414, 0.1395128220319748, 0.0757957175374031, 0.04467804357409477, 0.04201792553067207, 0.0], [0.07797534018754959, 0.15455420315265656, 0.34069257974624634, 0.11630763113498688, 0.1323709636926651, 0.07154155522584915, 0.059140630066394806, 0.04741709306836128, 0.0], [0.032622113823890686, 0.12944376468658447, 0.29363149404525757, 0.25033774971961975, 0.12661583721637726, 0.06343162804841995, 0.055771224200725555, 0.04814614728093147, 0.0], [0.016827495768666267, 0.06787946820259094, 0.1795976758003235, 0.23004870116710663, 0.17659279704093933, 0.12332109361886978, 0.10609853267669678, 0.09963434189558029, 0.0], [0.008814874105155468, 0.025244316086173058, 0.07702207565307617, 0.10254253447055817, 0.24184530973434448, 0.2779638469219208, 0.06898319721221924, 0.19758379459381104, 0.0], [0.00023775320732966065, 0.00033495627576485276, 0.0006378514226526022, 0.0009916686685755849, 0.001485312357544899, 0.005022851750254631, 0.014795441180467606, 0.9764941334724426, 0.0], [0.06198727712035179, 0.04571710526943207, 0.05531255528330803, 0.08139941841363907, 0.11818388104438782, 0.22012728452682495, 0.20463278889656067, 0.2126396745443344, 0.0]], [[0.024702545255422592, 0.00010748729255283251, 3.0704391974722967e-05, 0.0004942430532537401, 0.007919616997241974, 0.01689738966524601, 0.0003925818600691855, 0.9494554400444031, 0.0], [0.58742356300354, 0.03780391812324524, 0.003028810489922762, 0.0012151094852015376, 0.003377569140866399, 0.011341286823153496, 0.011001757346093655, 0.34480804204940796, 0.0], [0.48193851113319397, 0.46865057945251465, 0.030344592407345772, 0.0008597584092058241, 0.00012721992970909923, 0.00010540215589571744, 0.0002913759963121265, 0.017682719975709915, 0.0], [0.05681357532739639, 0.7576019167900085, 0.17628814280033112, 0.007833757437765598, 0.00023963330022525042, 3.028946593985893e-05, 3.3061554859159514e-05, 0.0011595768155530095, 0.0], [0.006095355376601219, 0.22744375467300415, 0.5510206818580627, 0.2052673101425171, 0.009555594995617867, 0.00023888074792921543, 2.0328780010459013e-05, 0.000358054181560874, 0.0], [0.00012952332326676697, 0.0040189120918512344, 0.0869843065738678, 0.6076556444168091, 0.2926032543182373, 0.008327129296958447, 0.00010726653272286057, 0.00017392871086485684, 0.0], [8.16175145246234e-07, 7.098742571542971e-06, 0.000518074375577271, 0.039681319147348404, 0.7398400902748108, 0.2161971777677536, 0.003680855268612504, 7.463661313522607e-05, 0.0], [1.9141049856230552e-10, 1.3740033555365017e-09, 2.1135740269073722e-07, 8.17468753666617e-05, 0.07115848362445831, 0.8107808828353882, 0.11792545765638351, 5.3236533858580515e-05, 0.0], [4.423676273290766e-06, 2.4095686967484653e-05, 5.3740783187095076e-05, 0.00016057197353802621, 0.012869706377387047, 0.2060495764017105, 0.7805291414260864, 0.00030886600143276155, 0.0]], [[0.021037522703409195, 0.15867963433265686, 0.39479172229766846, 0.3116922676563263, 0.08239156752824783, 0.018202507868409157, 0.009159240871667862, 0.004045393317937851, 0.0], [0.0051363143138587475, 0.03317860886454582, 0.19626480340957642, 0.44902923703193665, 0.25608474016189575, 0.04810287430882454, 0.008876312524080276, 0.0033270400017499924, 0.0], [0.0008801957592368126, 0.004092487972229719, 0.025730598717927933, 0.22180965542793274, 0.5121805667877197, 0.19804850220680237, 0.031980160623788834, 0.005277715623378754, 0.0], [0.0016068994300439954, 0.001790546579286456, 0.005446259398013353, 0.052279453724622726, 0.33597996830940247, 0.4350271224975586, 0.14595648646354675, 0.021913258358836174, 0.0], [0.003685144241899252, 0.002832012949511409, 0.003211681265383959, 0.017750144004821777, 0.09883375465869904, 0.3069806694984436, 0.3580242693424225, 0.2086823731660843, 0.0], [0.0045882356353104115, 0.00420148903504014, 0.0023279080633074045, 0.004722316283732653, 0.014915664680302143, 0.07281550765037537, 0.26522478461265564, 0.6312041282653809, 0.0], [0.004739535041153431, 0.010878036729991436, 0.005298845004290342, 0.0029636279214173555, 0.003958823159337044, 0.01599583588540554, 0.11277256160974503, 0.8433927893638611, 0.0], [0.008769203908741474, 0.04787122830748558, 0.022288557142019272, 0.003945180214941502, 0.0016101630171760917, 0.003923223819583654, 0.03312099352478981, 0.8784714341163635, 0.0], [0.018402768298983574, 0.1684451699256897, 0.29024651646614075, 0.2027498334646225, 0.09374897927045822, 0.0498330183327198, 0.04837292060256004, 0.12820079922676086, 0.0]]], [[[0.02142605371773243, 0.010300143621861935, 0.0015791060868650675, 0.002167453756555915, 0.010933365672826767, 0.009847384877502918, 0.004171800799667835, 0.939574658870697, 0.0], [0.026888251304626465, 0.0151550667360425, 0.0025674416683614254, 0.0032740202732384205, 0.003357621841132641, 0.0033780294470489025, 0.004439247772097588, 0.9409403204917908, 0.0], [0.0419984832406044, 0.025915175676345825, 0.009155604988336563, 0.004513774532824755, 0.003465575398877263, 0.0029399169143289328, 0.004300730302929878, 0.9077107310295105, 0.0], [0.010337378829717636, 0.23429055511951447, 0.017170054838061333, 0.005979764275252819, 0.0016487464308738708, 0.0010780669981613755, 0.0024098942521959543, 0.727085530757904, 0.0], [0.00625763600692153, 0.02739884704351425, 0.26654377579689026, 0.024374011904001236, 0.01331169344484806, 0.0010412667179480195, 0.0016834314446896315, 0.6593893766403198, 0.0], [0.004801772069185972, 0.014309730380773544, 0.050277721136808395, 0.22621242702007294, 0.13071231544017792, 0.008512400090694427, 0.0013506299583241343, 0.5638229250907898, 0.0], [0.005787604488432407, 0.00343903386965394, 0.011713803745806217, 0.051521409302949905, 0.3485445976257324, 0.024421826004981995, 0.017142953351140022, 0.5374287962913513, 0.0], [0.0011288097593933344, 0.003999015316367149, 0.0008240524330176413, 0.0006488771177828312, 0.0010015455773100257, 0.0007667001918889582, 0.0035339181777089834, 0.988097071647644, 0.0], [0.001974421786144376, 0.004997076001018286, 0.000502105918712914, 0.0003926943172700703, 0.0005969761405140162, 0.0005340315983630717, 0.0009953764965757728, 0.9900072813034058, 0.0]], [[0.00994419027119875, 0.02979901432991028, 0.061031851917505264, 0.05246196687221527, 0.0952313095331192, 0.010530584491789341, 0.008840895257890224, 0.7321601510047913, 0.0], [0.020105332136154175, 0.015152167528867722, 0.023068977519869804, 0.060750000178813934, 0.05214753746986389, 0.010568175464868546, 0.007019293960183859, 0.8111885786056519, 0.0], [0.03648274019360542, 0.044310469180345535, 0.013190997764468193, 0.05658825486898422, 0.03603958711028099, 0.003828197019174695, 0.038187913596630096, 0.7713718414306641, 0.0], [0.026191003620624542, 0.10448475182056427, 0.026096682995557785, 0.025019995868206024, 0.006023556925356388, 0.004661298356950283, 0.05535165220499039, 0.7521710395812988, 0.0], [0.026518244296312332, 0.031024547293782234, 0.034299466758966446, 0.037895530462265015, 0.016973217949271202, 0.01302096527069807, 0.06182360649108887, 0.7784444689750671, 0.0], [0.008698300458490849, 0.027553992345929146, 0.023253142833709717, 0.03431810066103935, 0.03437972441315651, 0.010837492533028126, 0.025306524708867073, 0.8356527090072632, 0.0], [0.00510802399367094, 0.017271680757403374, 0.015620413236320019, 0.058308910578489304, 0.015369054861366749, 0.016716523095965385, 0.021451350301504135, 0.8501541018486023, 0.0], [0.0019179941155016422, 0.0021291279699653387, 0.0019514791201800108, 0.0010330395307391882, 0.003243809100240469, 0.0007542631938122213, 0.00030899301054887474, 0.9886612892150879, 0.0], [0.004786649718880653, 0.0051665655337274075, 0.0026238583959639072, 0.0019933346193283796, 0.0033313408493995667, 0.0010508432751521468, 0.00014349860430229455, 0.9809039235115051, 0.0]], [[0.004421834368258715, 0.15372364223003387, 0.04102874919772148, 0.044022489339113235, 0.008525866083800793, 0.004323750734329224, 0.008876715786755085, 0.735076904296875, 0.0], [0.021020036190748215, 0.013954870402812958, 0.18647368252277374, 0.014383328147232533, 0.014104295521974564, 0.0066255261190235615, 0.013731034472584724, 0.7297071814537048, 0.0], [0.009431734681129456, 0.031137801706790924, 0.00507916696369648, 0.03395781293511391, 0.07421216368675232, 0.013289394788444042, 0.00391380675137043, 0.8289781212806702, 0.0], [0.01716378889977932, 0.03515208512544632, 0.013244432397186756, 0.011718209832906723, 0.1068221777677536, 0.01223879773169756, 0.009536918252706528, 0.7941235303878784, 0.0], [0.012889698147773743, 0.035002756863832474, 0.06252744793891907, 0.022181762382388115, 0.004771925508975983, 0.009728267788887024, 0.09083253145217896, 0.762065589427948, 0.0], [0.009783723391592503, 0.008956585079431534, 0.034307245165109634, 0.013048144057393074, 0.00877473410218954, 0.00609764875844121, 0.07773325592279434, 0.8412986397743225, 0.0], [0.004593225661665201, 0.014818844385445118, 0.01751858927309513, 0.02545221336185932, 0.009327344596385956, 0.020773183554410934, 0.032611262053251266, 0.8749053478240967, 0.0], [0.0003221296356059611, 0.0017495063366368413, 0.0021929480135440826, 0.0009377431706525385, 0.0016862651100382209, 0.0006802045390941203, 0.00039354077307507396, 0.9920376539230347, 0.0], [0.000736940186470747, 0.0039487192407250404, 0.00201469287276268, 0.0015441016294062138, 0.00169387087225914, 0.0005373136955313385, 0.00018519953300710768, 0.9893391728401184, 0.0]], [[0.03332677111029625, 0.03535648062825203, 0.018368160352110863, 0.004936890210956335, 0.004635550547391176, 0.003785664215683937, 0.00279028108343482, 0.8968002200126648, 0.0], [0.07211466133594513, 0.014198814518749714, 0.01506077405065298, 0.0045517259277403355, 0.004169100429862738, 0.003916812129318714, 0.0023013355676084757, 0.8836867809295654, 0.0], [0.010234342887997627, 0.12412136793136597, 0.031561385840177536, 0.011388558894395828, 0.005937022157013416, 0.006034534890204668, 0.004122440703213215, 0.8066003322601318, 0.0], [0.004503106232732534, 0.04247888922691345, 0.11803039908409119, 0.015237249433994293, 0.00463414890691638, 0.0022997413761913776, 0.001982378074899316, 0.8108340501785278, 0.0], [0.006224508862942457, 0.018340932205319405, 0.020479032769799232, 0.17522796988487244, 0.026255730539560318, 0.005303367972373962, 0.0028376488480716944, 0.745330810546875, 0.0], [0.006483484525233507, 0.005893033463507891, 0.005112157668918371, 0.02933863177895546, 0.12857356667518616, 0.009339787997305393, 0.004609222058206797, 0.810650110244751, 0.0], [0.0023533778730779886, 0.007972806692123413, 0.0014588526682928205, 0.008724801242351532, 0.013196238316595554, 0.18675406277179718, 0.020588606595993042, 0.7589512467384338, 0.0], [0.0007409076788462698, 0.001980105647817254, 0.0018268241547048092, 0.0010584549745544791, 0.0007322228047996759, 0.0005037549999542534, 0.0021706116385757923, 0.9909871220588684, 0.0], [0.0010217841481789947, 0.003443509805947542, 0.0016777782002463937, 0.0007391526596620679, 0.0005962117575109005, 0.0003899862931575626, 0.0007548540597781539, 0.9913767576217651, 0.0]], [[0.0060121542774140835, 0.03470943495631218, 0.23193848133087158, 0.08671754598617554, 0.03322996571660042, 0.009337066672742367, 0.008541804738342762, 0.5895135402679443, 0.0], [0.005705665796995163, 0.009945900179445744, 0.023939019069075584, 0.09284432232379913, 0.009179534390568733, 0.005841570440679789, 0.0022838665172457695, 0.8502601385116577, 0.0], [0.054814890027046204, 0.018949264660477638, 0.014622196555137634, 0.03141283988952637, 0.03000744804739952, 0.017607560381293297, 0.015835050493478775, 0.8167507648468018, 0.0], [0.1296800822019577, 0.04976026341319084, 0.021617190912365913, 0.008092284202575684, 0.005277043674141169, 0.02482682652771473, 0.03076864778995514, 0.7299776673316956, 0.0], [0.05441184714436531, 0.06395889073610306, 0.04887322708964348, 0.01659202203154564, 0.006566982716321945, 0.009286640211939812, 0.008851580321788788, 0.7914588451385498, 0.0], [0.008514062501490116, 0.03222557529807091, 0.04362667351961136, 0.03281066194176674, 0.011689250357449055, 0.0017757570603862405, 0.0025225926656275988, 0.8668354153633118, 0.0], [0.0051646362990140915, 0.0049694618210196495, 0.01963062770664692, 0.18962256610393524, 0.03930963575839996, 0.0030444979202002287, 0.004849989898502827, 0.7334085702896118, 0.0], [0.0016285170568153262, 0.0015156751032918692, 0.0014792026486247778, 0.0020141860004514456, 0.0011100999545305967, 0.0010215042857453227, 0.00022765556059312075, 0.991003155708313, 0.0], [0.0027150206733494997, 0.001889701932668686, 0.0011292484123259783, 0.002141199540346861, 0.0009368116734549403, 0.0009010192006826401, 8.549789345124736e-05, 0.9902015328407288, 0.0]], [[0.00895188469439745, 0.04460742324590683, 0.04748408496379852, 0.010906745679676533, 0.013720483519136906, 0.007145066745579243, 0.005261382553726435, 0.8619229197502136, 0.0], [0.00611963402479887, 0.02208874747157097, 0.10336878895759583, 0.020104985684156418, 0.011718721129000187, 0.0036781132221221924, 0.003489816328510642, 0.8294311761856079, 0.0], [0.010429641231894493, 0.017815925180912018, 0.016592852771282196, 0.10796312242746353, 0.029667098075151443, 0.004857373423874378, 0.001562576973810792, 0.8111113905906677, 0.0], [0.003189046634361148, 0.017550097778439522, 0.005413043312728405, 0.033888079226017, 0.07406981289386749, 0.0037460438907146454, 0.0032667499035596848, 0.8588771224021912, 0.0], [0.00261397915892303, 0.013246382586658001, 0.004652379546314478, 0.007721677888184786, 0.004100015386939049, 0.11405440419912338, 0.022284766659140587, 0.831326425075531, 0.0], [0.001263260841369629, 0.004676042590290308, 0.004041468724608421, 0.002081254031509161, 0.003965883981436491, 0.02290055900812149, 0.05741247534751892, 0.9036590456962585, 0.0], [0.0016006287187337875, 0.0077517214231193066, 0.003620399395003915, 0.0035697894636541605, 0.0020041174720972776, 0.008802534081041813, 0.030410565435886383, 0.942240297794342, 0.0], [9.402065916219726e-05, 0.0005997661501169205, 0.0006198981427587569, 0.0005338207120075822, 0.001577232382260263, 0.0006593862199224532, 9.423106530448422e-05, 0.9958215951919556, 0.0], [0.00011078262468799949, 0.0007277580443769693, 0.0005311626009643078, 0.0005981409340165555, 0.0011436592321842909, 0.00038441549986600876, 4.724535028799437e-05, 0.9964568018913269, 0.0]], [[0.018051866441965103, 0.05880121514201164, 0.0022840239107608795, 0.010625684633851051, 0.004226724151521921, 0.007549443747848272, 0.004570899996906519, 0.8938900828361511, 0.0], [0.024870537221431732, 0.01691683568060398, 0.0021137776784598827, 0.011217434890568256, 0.004535639192909002, 0.004429956432431936, 0.0016187818255275488, 0.9342970252037048, 0.0], [0.025513391941785812, 0.030749596655368805, 0.001259832875803113, 0.005546664819121361, 0.006473897956311703, 0.01019187644124031, 0.002780636539682746, 0.9174841642379761, 0.0], [0.03760826215147972, 0.0597129762172699, 0.0065558296628296375, 0.008862380869686604, 0.006541874259710312, 0.00947577878832817, 0.0018937647109851241, 0.8693491220474243, 0.0], [0.049246713519096375, 0.08659807592630386, 0.015199217014014721, 0.013783556409180164, 0.00753738172352314, 0.008973752148449421, 0.003389896359294653, 0.8152714371681213, 0.0], [0.0248151533305645, 0.04962184652686119, 0.007486495189368725, 0.014305337332189083, 0.03328818082809448, 0.01481528952717781, 0.003353360341861844, 0.8523143529891968, 0.0], [0.007160970475524664, 0.005511969327926636, 0.0009751442121341825, 0.007848663255572319, 0.03531156852841377, 0.05486467480659485, 0.0034459256567060947, 0.8848810791969299, 0.0], [0.0009220985812135041, 0.002915632212534547, 1.9390010493225418e-05, 9.257384954253212e-05, 0.0006907388451509178, 0.00045560969738289714, 1.751998752297368e-05, 0.9948864579200745, 0.0], [0.002004575217142701, 0.0035428067203611135, 1.8970556993735954e-05, 0.0001132548859459348, 0.0005540616111829877, 0.0003686817944981158, 1.0250452760374174e-05, 0.9933873414993286, 0.0]], [[0.017112018540501595, 0.05304677411913872, 0.13788099586963654, 0.0927506536245346, 0.02071424387395382, 0.004232366569340229, 0.007343914359807968, 0.6669190526008606, 0.0], [0.0026360570918768644, 0.01146620698273182, 0.03078823909163475, 0.06152646988630295, 0.06292794644832611, 0.0074205175042152405, 0.006751340348273516, 0.816483199596405, 0.0], [0.0020479061640799046, 0.004711997229605913, 0.013852420262992382, 0.0521242655813694, 0.0624389611184597, 0.013949449174106121, 0.011417201720178127, 0.8394578099250793, 0.0], [0.0017023399705067277, 0.003512568539008498, 0.004557060077786446, 0.01427021250128746, 0.006590303964912891, 0.012514717876911163, 0.01621699333190918, 0.9406358003616333, 0.0], [0.0024494563695043325, 0.0027173117268830538, 0.005147581920027733, 0.0044891866855323315, 0.0025681089609861374, 0.11201920360326767, 0.06367260217666626, 0.8069366216659546, 0.0], [0.004153799265623093, 0.0028558855410665274, 0.00358093180693686, 0.002480055671185255, 0.0054869093000888824, 0.06462759524583817, 0.05216914042830467, 0.8646456599235535, 0.0], [0.004487093538045883, 0.0026251128874719143, 0.005021009594202042, 0.006426953244954348, 0.006461180746555328, 0.009012327529489994, 0.03278952091932297, 0.9331768155097961, 0.0], [0.0007373610278591514, 0.0004514091124292463, 0.0008832865278236568, 0.0019547021947801113, 0.003172722179442644, 0.0028055948205292225, 0.001129603828303516, 0.988865315914154, 0.0], [0.00034003835753537714, 0.0003830480563919991, 0.0006494339904747903, 0.0029567682649940252, 0.005182069260627031, 0.002921153325587511, 0.0007601241813972592, 0.9868074059486389, 0.0]]], [[[0.003186788409948349, 0.036892570555210114, 0.010060626082122326, 0.0028292841743677855, 0.0009583277278579772, 0.005585988983511925, 0.003228625748306513, 0.9372577667236328, 0.0], [0.004188256803900003, 0.008911213837563992, 0.04597759619355202, 0.0076970672234892845, 0.010102340951561928, 0.0035971798934042454, 0.005163837224245071, 0.9143624305725098, 0.0], [0.006243554875254631, 0.034095101058483124, 0.009415464475750923, 0.0474386140704155, 0.004960997961461544, 0.003925647586584091, 0.0011849156580865383, 0.8927357196807861, 0.0], [0.0010237285168841481, 0.0013521815417334437, 0.00458694389089942, 0.022936787456274033, 0.11631809920072556, 0.0032419662456959486, 0.004780408926308155, 0.8457598090171814, 0.0], [0.0008587936172261834, 0.001905351411551237, 0.0004821523034479469, 0.004824039060622454, 0.001634944579564035, 0.09207924455404282, 0.019755078479647636, 0.8784604072570801, 0.0], [0.0017825075192376971, 0.0015749915037304163, 0.0012061485322192311, 0.0014681837055832148, 0.003798970952630043, 0.014131300151348114, 0.030060989782214165, 0.9459769129753113, 0.0], [0.00042052133358083665, 0.006728969980031252, 0.002467498416081071, 0.00909580010920763, 0.0021611012052744627, 0.016901034861803055, 0.02171916514635086, 0.940505862236023, 0.0], [0.00038850156124681234, 0.0014595250831916928, 0.0016744154272601008, 0.002485115546733141, 0.0036067089531570673, 0.005530701018869877, 0.0013393720146268606, 0.9835156798362732, 0.0], [0.0003606799291446805, 0.00159754219930619, 0.0019215871579945087, 0.003503981977701187, 0.003686644369736314, 0.003893329994753003, 0.0008832854218780994, 0.9841529726982117, 0.0]], [[0.005228152498602867, 0.1361849308013916, 0.11187390238046646, 0.016653895378112793, 0.00215670233592391, 0.0010222616838291287, 0.0030963888857513666, 0.7237837314605713, 0.0], [0.011492905206978321, 0.010959094390273094, 0.2582955062389374, 0.039925772696733475, 0.00105767953209579, 0.00046844742610119283, 0.006214374676346779, 0.671586275100708, 0.0], [0.0002244719216832891, 0.000793932587839663, 0.005041064228862524, 0.04452488198876381, 0.05515601113438606, 0.007587000727653503, 0.00022551858273800462, 0.8864471316337585, 0.0], [0.007158811204135418, 0.00698497612029314, 0.0011525166919454932, 0.011823981069028378, 0.02953956089913845, 0.032593127340078354, 0.007373676169663668, 0.9033733010292053, 0.0], [0.00033146722125820816, 0.001318805618211627, 0.0029574711807072163, 0.015056874603033066, 0.002487740246579051, 0.02799414098262787, 0.05336415395140648, 0.8964893817901611, 0.0], [0.00016035033331718296, 0.0005833899485878646, 0.001185532775707543, 0.007951365783810616, 0.0019201949471607804, 0.016437280923128128, 0.020572442561388016, 0.951189398765564, 0.0], [0.0003836634859908372, 0.0014829087303951383, 0.0010120754595845938, 0.0205365102738142, 0.0066194795072078705, 0.021655334159731865, 0.005151589401066303, 0.9431584477424622, 0.0], [0.0004872475692536682, 0.00077938346657902, 0.003440744709223509, 0.0020488109439611435, 0.001309092971496284, 0.003571246052160859, 0.002864920301362872, 0.9854985475540161, 0.0], [0.0004988135187886655, 0.001094343839213252, 0.004152563866227865, 0.003267892636358738, 0.001860080286860466, 0.003455531317740679, 0.0021446787286549807, 0.9835260510444641, 0.0]], [[0.007477750536054373, 0.0029770575929433107, 0.0005896291695535183, 0.0058269198052585125, 0.04159102961421013, 0.032324209809303284, 0.002178959548473358, 0.9070343971252441, 0.0], [0.13347508013248444, 0.0030968368519097567, 0.017080511897802353, 0.0026611958164721727, 0.013725810684263706, 0.01524274330586195, 0.004080136306583881, 0.8106377124786377, 0.0], [0.0044901748187839985, 0.07776964455842972, 0.015520951710641384, 0.002091222908347845, 0.002171364612877369, 0.0038113868795335293, 0.00901435874402523, 0.8851309418678284, 0.0], [0.0024700129870325327, 0.014801278710365295, 0.0992608368396759, 0.005215132609009743, 0.00386175699532032, 0.001744952634908259, 0.011194583028554916, 0.8614515066146851, 0.0], [0.0018640904454514384, 0.011502929963171482, 0.007986648939549923, 0.03726733475923538, 0.011124461889266968, 0.0008927599410526454, 0.0015029213391244411, 0.9278588891029358, 0.0], [0.0019031902775168419, 0.003931587096303701, 0.004013432189822197, 0.0817631185054779, 0.059135034680366516, 0.0023056918289512396, 0.015350609086453915, 0.8315973877906799, 0.0], [0.004110276699066162, 0.0034508949611335993, 0.0003582548233680427, 0.007088333833962679, 0.0010530102299526334, 0.022479191422462463, 0.013827592134475708, 0.9476324319839478, 0.0], [0.0016450544353574514, 0.0028980320785194635, 0.001983274705708027, 0.0036308220587670803, 0.004451661370694637, 0.0029675548430532217, 0.007477922830730677, 0.9749456644058228, 0.0], [0.002554085338488221, 0.004877664148807526, 0.0022533093579113483, 0.002595240715891123, 0.002989606000483036, 0.0021239020861685276, 0.005031393840909004, 0.9775747656822205, 0.0]], [[0.004254018422216177, 0.008752894587814808, 0.01780288852751255, 0.34858009219169617, 0.01569545269012451, 0.005402722395956516, 0.0034851841628551483, 0.5960267186164856, 0.0], [0.010570555925369263, 0.0036665955558419228, 0.0006243356037884951, 0.25940629839897156, 0.009075140580534935, 0.0045657092705369, 0.005472681485116482, 0.7066187262535095, 0.0], [0.008295931853353977, 0.0026287741493433714, 0.01017791498452425, 0.013954086229205132, 0.08515267074108124, 0.01728728413581848, 0.0019380951998755336, 0.8605653047561646, 0.0], [0.00829373300075531, 0.011891468428075314, 0.006057781632989645, 0.0365658737719059, 0.048259370028972626, 0.02324850857257843, 0.004761225543916225, 0.8609220385551453, 0.0], [0.002061922335997224, 0.004022172186523676, 0.039738304913043976, 0.07087325304746628, 0.008001070469617844, 0.015905989333987236, 0.0011878269724547863, 0.858209490776062, 0.0], [0.001558387652039528, 0.004753683693706989, 0.033266931772232056, 0.007162371184676886, 0.006967068184167147, 0.010969353839755058, 0.0022679767571389675, 0.9330542087554932, 0.0], [0.0017683511832728982, 0.012174923904240131, 0.054354362189769745, 0.003405606606975198, 0.005236709024757147, 0.00906545389443636, 0.013100366108119488, 0.9008942246437073, 0.0], [0.000927979126572609, 0.0011387700214982033, 0.00391114316880703, 0.003149690106511116, 0.004067228641360998, 0.0022455479484051466, 0.0022786338813602924, 0.982280969619751, 0.0], [0.0013457160675898194, 0.0016176732024177909, 0.004171968437731266, 0.0036608469672501087, 0.004376446362584829, 0.0024377256631851196, 0.0018554046982899308, 0.9805342555046082, 0.0]], [[0.0007862363127060235, 0.0029869896825402975, 0.0872754231095314, 0.024476639926433563, 0.14371582865715027, 0.03331242874264717, 0.004330527503043413, 0.7031158208847046, 0.0], [0.0019989970605820417, 0.001928458921611309, 0.0030962491873651743, 0.027640026062726974, 0.16747553646564484, 0.036551930010318756, 0.001294631976634264, 0.7600141763687134, 0.0], [0.031010989099740982, 0.004461595322936773, 0.0018238704651594162, 0.002470047678798437, 0.06238371506333351, 0.06285615265369415, 0.008147843182086945, 0.8268457651138306, 0.0], [0.043937359005212784, 0.010891444981098175, 0.006901928689330816, 0.004291991703212261, 0.007093663327395916, 0.007129710633307695, 0.03642788529396057, 0.88332599401474, 0.0], [0.022934069857001305, 0.026426661759614944, 0.006451200693845749, 0.005432714708149433, 0.009967607446014881, 0.0064195385202765465, 0.031489718705415726, 0.8908784985542297, 0.0], [0.00347073283046484, 0.010984309017658234, 0.015166299417614937, 0.0070826211012899876, 0.011180181987583637, 0.0011076214723289013, 0.007113366853445768, 0.9438948631286621, 0.0], [0.0020811092108488083, 0.005873112473636866, 0.0207986943423748, 0.08743854612112045, 0.046911150217056274, 0.004966413136571646, 0.005328231491148472, 0.8266027569770813, 0.0], [0.0009997572051361203, 0.0014943606220185757, 0.0025569729041308165, 0.0017372206784784794, 0.0036501516588032246, 0.0029347629752010107, 0.0019002804765477777, 0.9847264885902405, 0.0], [0.001642404356971383, 0.0015885955654084682, 0.0019495832966640592, 0.001666249125264585, 0.004901716951280832, 0.00445509934797883, 0.001407918520271778, 0.982388436794281, 0.0]], [[0.023948634043335915, 0.020517567172646523, 0.036271266639232635, 0.0019089998677372932, 0.00050112244207412, 0.0037895257119089365, 0.0036702854558825493, 0.9093925356864929, 0.0], [0.0030976375564932823, 0.011381040327250957, 0.09431449323892593, 0.013016038574278355, 0.0028985305689275265, 0.0017787371762096882, 0.0014820406213402748, 0.8720315098762512, 0.0], [0.0002818696666508913, 0.0018113225232809782, 0.01572815328836441, 0.06370115280151367, 0.004125918261706829, 0.0008529514889232814, 0.0002708574465941638, 0.9132277965545654, 0.0], [0.0006398589466698468, 0.007733549457043409, 0.002531697740778327, 0.012516168877482414, 0.09752453863620758, 0.007060233969241381, 0.003304459387436509, 0.8686895370483398, 0.0], [0.002190385479480028, 0.009191356599330902, 0.00240365881472826, 0.0031613733153790236, 0.0054250857792794704, 0.05646544322371483, 0.019573483616113663, 0.9015892148017883, 0.0], [0.0012525608763098717, 0.005809382069855928, 0.0029424994718283415, 0.0012694448232650757, 0.0017533950740471482, 0.013496621511876583, 0.04637760668992996, 0.9270985126495361, 0.0], [0.001670579775236547, 0.00776183744892478, 0.003149664495140314, 0.011232794262468815, 0.0024582515470683575, 0.011300420388579369, 0.019453037530183792, 0.9429734349250793, 0.0], [0.0014890186721459031, 0.0014057738007977605, 0.002103641163557768, 0.002482811687514186, 0.0025076274760067463, 0.008520873263478279, 0.002172403736039996, 0.9793179035186768, 0.0], [0.0010437146993353963, 0.0016038407338783145, 0.002683004131540656, 0.003519786987453699, 0.002532042097300291, 0.00570638244971633, 0.0012263484532013535, 0.9816848635673523, 0.0]], [[0.0017624078318476677, 0.0007659168331883848, 0.00034354208037257195, 0.0014296886511147022, 0.015817582607269287, 0.1384255439043045, 0.014456291683018208, 0.8269990086555481, 0.0], [0.008187215775251389, 0.00308111310005188, 0.0017422224627807736, 0.00032805034425109625, 0.0051678321324288845, 0.019071709364652634, 0.02018454484641552, 0.9422373175621033, 0.0], [0.07224909216165543, 0.006870804354548454, 0.0024942795280367136, 0.0011500584660097957, 0.005658417008817196, 0.024394210427999496, 0.009615300223231316, 0.8775678873062134, 0.0], [0.008971760049462318, 0.3376547694206238, 0.016451947391033173, 0.005838651210069656, 0.002905030967667699, 0.004374953918159008, 0.003996378276497126, 0.6198064684867859, 0.0], [0.0031626864802092314, 0.06343508511781693, 0.049091074615716934, 0.01605343632400036, 0.006066279951483011, 0.0008554932428523898, 0.0024574915878474712, 0.8588784337043762, 0.0], [0.0007104827091097832, 0.008148289285600185, 0.019351636990904808, 0.06236962601542473, 0.05104810371994972, 0.0017720845062285662, 0.0006414502859115601, 0.8559582829475403, 0.0], [0.0023086462169885635, 0.0008434579358436167, 0.0015716252382844687, 0.03839545696973801, 0.029349617660045624, 0.0012919394066557288, 0.005364477634429932, 0.9208747148513794, 0.0], [0.0012956386199221015, 0.0023398755583912134, 0.004405187908560038, 0.005204557906836271, 0.004162191413342953, 0.007530259899795055, 0.0068114688619971275, 0.9682508707046509, 0.0], [0.002400183118879795, 0.002638538833707571, 0.002614861587062478, 0.002803768264129758, 0.003056599060073495, 0.007638178765773773, 0.004951728042215109, 0.9738962054252625, 0.0]], [[0.0031581928487867117, 0.03096727654337883, 0.08199451863765717, 0.012122574262320995, 0.00680722389370203, 0.00149885518476367, 0.0034372685477137566, 0.8600141406059265, 0.0], [0.032845642417669296, 0.021923620253801346, 0.025246787816286087, 0.07848803699016571, 0.007110820151865482, 0.0014505076687783003, 0.012456501834094524, 0.820478081703186, 0.0], [0.006587850395590067, 0.07438444346189499, 0.026085536926984787, 0.037373147904872894, 0.0326877161860466, 0.0018143882043659687, 0.007448336109519005, 0.8136186003684998, 0.0], [0.004311867989599705, 0.028155632317066193, 0.049670279026031494, 0.006918435450643301, 0.026128409430384636, 0.0071761468425393105, 0.008180631324648857, 0.8694586157798767, 0.0], [0.0020789052359759808, 0.0034661805257201195, 0.020325196906924248, 0.03360309079289436, 0.010999207384884357, 0.012278539128601551, 0.022355906665325165, 0.8948929905891418, 0.0], [0.0018688717391341925, 0.004002667963504791, 0.017589319497346878, 0.03975309431552887, 0.01497986726462841, 0.012599688023328781, 0.0566583126783371, 0.8525481224060059, 0.0], [0.0005258013843558729, 0.003815634874626994, 0.004632193595170975, 0.013878596015274525, 0.011378380469977856, 0.023866944015026093, 0.018647314980626106, 0.923255205154419, 0.0], [0.0002931338094640523, 0.001210918533615768, 0.0018497761338949203, 0.0016365026822313666, 0.004975282587110996, 0.004846899304538965, 0.0007889646803960204, 0.9843984842300415, 0.0], [0.0005006667342968285, 0.0023338133469223976, 0.002385542495176196, 0.0025542599614709616, 0.005595212336629629, 0.004305059555917978, 0.0005785728571936488, 0.9817469120025635, 0.0]]], [[[0.0008506698068231344, 0.0011329739354550838, 0.023489423096179962, 0.01550225354731083, 0.17097073793411255, 0.07219935208559036, 0.01420250441879034, 0.7016521096229553, 0.0], [0.018239470198750496, 0.009755274280905724, 0.001129164476878941, 0.0010362225584685802, 0.0353432334959507, 0.0351383239030838, 0.0055745067074894905, 0.8937838077545166, 0.0], [0.024163085967302322, 0.009306149557232857, 0.0018027937039732933, 0.0025412729009985924, 0.00800496619194746, 0.007723833434283733, 0.0052631692960858345, 0.9411947131156921, 0.0], [0.004700732883065939, 0.07014200091362, 0.0070573086850345135, 0.007428580429404974, 0.0015890586655586958, 0.007027174346148968, 0.0021375485230237246, 0.8999176025390625, 0.0], [0.0019508089171722531, 0.01784490793943405, 0.06862114369869232, 0.0038811862468719482, 0.004274424165487289, 0.0037276912480592728, 0.00255278660915792, 0.8971471190452576, 0.0], [0.0004493740270845592, 0.0040292595513165, 0.055669721215963364, 0.02632118947803974, 0.013092797249555588, 0.003927771933376789, 0.0004823997733183205, 0.8960274457931519, 0.0], [0.0016807923093438148, 0.000738729489967227, 0.003041512332856655, 0.010329702869057655, 0.05362056940793991, 0.008840356022119522, 0.001785983913578093, 0.9199624061584473, 0.0], [0.0019813752733170986, 0.006882311776280403, 0.013828305527567863, 0.028329286724328995, 0.026583490893244743, 0.06745139509439468, 0.058747097849845886, 0.7961967587471008, 0.0], [0.002880778396502137, 0.008243164978921413, 0.011346470564603806, 0.020561426877975464, 0.022498754784464836, 0.06735029071569443, 0.050124820321798325, 0.8169942498207092, 0.0]], [[0.012281648814678192, 0.0022912505082786083, 0.0022035434376448393, 0.004497222136706114, 0.0071899304166436195, 0.00853243749588728, 0.003490887116640806, 0.9595130681991577, 0.0], [0.03508936986327171, 0.00866522267460823, 0.0038268323987722397, 0.002623193198814988, 0.0023250989615917206, 0.004074957221746445, 0.001921825110912323, 0.9414734840393066, 0.0], [0.004367183893918991, 0.06925760954618454, 0.018933968618512154, 0.0028486824594438076, 0.0013465119991451502, 0.005316099617630243, 0.0016431892290711403, 0.8962867856025696, 0.0], [0.0007391489343717694, 0.006621106062084436, 0.08986443281173706, 0.005992822349071503, 0.0029306302312761545, 0.0032463199459016323, 0.001785406144335866, 0.8888201117515564, 0.0], [0.000521295121870935, 0.00048540468560531735, 0.007929032668471336, 0.06561659276485443, 0.02496901899576187, 0.0024419287219643593, 0.00017536622181069106, 0.8978613615036011, 0.0], [0.000875726924277842, 0.0007747590425424278, 0.0022448915988206863, 0.047569721937179565, 0.10108459740877151, 0.04253849387168884, 0.001781019032932818, 0.8031308054924011, 0.0], [0.0028153674211353064, 0.001382351852953434, 0.0015741655370220542, 0.003913215361535549, 0.014019056223332882, 0.08067702502012253, 0.003901295131072402, 0.8917175531387329, 0.0], [0.0028002073522657156, 0.004542256239801645, 0.00784138310700655, 0.016302645206451416, 0.02661987394094467, 0.026589402928948402, 0.04683668538928032, 0.8684675693511963, 0.0], [0.002931764116510749, 0.005652991123497486, 0.008892267011106014, 0.013767726719379425, 0.018955204635858536, 0.02128850668668747, 0.041042789816856384, 0.8874688148498535, 0.0]], [[0.004581324756145477, 0.12613792717456818, 0.00294662406668067, 0.0026186632458120584, 0.002682723104953766, 0.020627200603485107, 0.0020152840297669172, 0.8383902907371521, 0.0], [0.02500852197408676, 0.027473201975226402, 0.003829685039818287, 0.011745364405214787, 0.003897956106811762, 0.008539272472262383, 0.003102218033745885, 0.9164037704467773, 0.0], [0.0017276236321777105, 0.027671800926327705, 0.0031020892783999443, 0.01735294982790947, 0.03338031470775604, 0.022360602393746376, 0.0043853698298335075, 0.8900192975997925, 0.0], [0.006960023660212755, 0.005948547273874283, 0.1446506530046463, 0.009664482437074184, 0.00913057941943407, 0.005610383581370115, 0.01519460417330265, 0.8028407096862793, 0.0], [0.005041789263486862, 0.001899749506264925, 0.010768316686153412, 0.029551919549703598, 0.013984976336359978, 0.0037225736305117607, 0.004211849067360163, 0.9308187961578369, 0.0], [0.005782315973192453, 0.0011200105072930455, 0.009245478548109531, 0.010090814903378487, 0.0062392279505729675, 0.03153769299387932, 0.004731179215013981, 0.9312532544136047, 0.0], [0.001206728513352573, 0.0012005981989204884, 0.0020449759904295206, 0.017953962087631226, 0.006853715516626835, 0.033884450793266296, 0.005045325495302677, 0.9318102598190308, 0.0], [0.0009111863910220563, 0.003360150847584009, 0.008074061945080757, 0.005136171355843544, 0.014567745849490166, 0.016446685418486595, 0.04502084478735924, 0.9064831733703613, 0.0], [0.001184447668492794, 0.004178663715720177, 0.008552290499210358, 0.005777152255177498, 0.01493842713534832, 0.015205332078039646, 0.03739597275853157, 0.9127677083015442, 0.0]], [[0.01770210824906826, 0.010923290625214577, 0.02029573917388916, 0.00733494246378541, 0.0053146006539464, 0.015606892295181751, 0.0010223517892882228, 0.9218000173568726, 0.0], [0.056281398981809616, 0.020106859505176544, 0.014225886203348637, 0.0009837470715865493, 0.005264416337013245, 0.03652631863951683, 0.004898508079349995, 0.8617129325866699, 0.0], [0.004348778631538153, 0.036803778260946274, 0.015015317127108574, 0.0035097533836960793, 0.001005117199383676, 0.01341981440782547, 0.005898496601730585, 0.9199988842010498, 0.0], [0.0027146944776177406, 0.024987922981381416, 0.093856580555439, 0.021271012723445892, 0.005042404402047396, 0.001606063568033278, 0.006648255977779627, 0.8438730835914612, 0.0], [0.0003920441085938364, 0.005355090368539095, 0.004794909618794918, 0.08552898466587067, 0.007760019972920418, 0.0004840593028347939, 0.001227914821356535, 0.8944570422172546, 0.0], [0.001368206343613565, 0.004585097078233957, 0.0015043002786114812, 0.0315120667219162, 0.03275959938764572, 0.00043484268826432526, 0.010777532123029232, 0.9170583486557007, 0.0], [0.0013690852792933583, 0.00241620815359056, 0.0011443380499258637, 0.004852958954870701, 0.000477234018035233, 0.03341727331280708, 0.017316345125436783, 0.9390066266059875, 0.0], [0.0051290192641317844, 0.004449767526239157, 0.005414607468992472, 0.018320167437195778, 0.024361591786146164, 0.0360410213470459, 0.07263316959142685, 0.8336506485939026, 0.0], [0.006014357786625624, 0.00695784343406558, 0.006649387534707785, 0.016134729608893394, 0.017697034403681755, 0.028485501185059547, 0.05554075166583061, 0.8625203967094421, 0.0]], [[0.0016996609047055244, 0.0019434622954577208, 0.35561978816986084, 0.03138386830687523, 0.015983816236257553, 0.013849765993654728, 0.0035435918252915144, 0.5759760737419128, 0.0], [0.004363602492958307, 0.0040495553985238075, 0.10861650854349136, 0.046238213777542114, 0.002656542230397463, 0.004805206786841154, 0.0016766246408224106, 0.8275937438011169, 0.0], [0.005790183320641518, 0.04661617800593376, 0.007392202038317919, 0.01262971106916666, 0.02075384184718132, 0.0038887541741132736, 0.002291574841365218, 0.9006375074386597, 0.0], [0.0015581599436700344, 0.0030569497030228376, 0.006484298035502434, 0.006105901673436165, 0.1495896279811859, 0.048137929290533066, 0.009126214310526848, 0.7759408950805664, 0.0], [0.0006015867693349719, 0.006108028814196587, 0.000483636133139953, 0.007527081295847893, 0.0019734168890863657, 0.007904195226728916, 0.02028949186205864, 0.9551125168800354, 0.0], [0.0009071202366612852, 0.005132121033966541, 0.00681684585288167, 0.002936597215011716, 0.0025158573407679796, 0.010071014054119587, 0.01244634110480547, 0.9591741561889648, 0.0], [0.00037029964732937515, 0.005834474228322506, 0.015874462202191353, 0.0036911058705300093, 0.00549143273383379, 0.008320027031004429, 0.004626472946256399, 0.955791711807251, 0.0], [0.0011582920560613275, 0.0019029596587643027, 0.0591241829097271, 0.009343788959085941, 0.012927006930112839, 0.012022173032164574, 0.0026317064184695482, 0.9008898735046387, 0.0], [0.0013201874680817127, 0.0023867464624345303, 0.05726979300379753, 0.010705207474529743, 0.013878454454243183, 0.010691545903682709, 0.002319617895409465, 0.9014285206794739, 0.0]], [[0.019365275278687477, 0.016895394772291183, 0.027311500161886215, 0.04714837670326233, 0.07083503901958466, 0.01632506586611271, 0.008688290603458881, 0.7934311032295227, 0.0], [0.002474494744092226, 0.001150199444964528, 0.0026859412901103497, 0.011430659331381321, 0.10446725785732269, 0.03545284643769264, 0.0026195324026048183, 0.8397190570831299, 0.0], [0.0002119302371283993, 0.003521896433085203, 0.004358471836894751, 0.02802967093884945, 0.21768370270729065, 0.03508428484201431, 0.0037323704455047846, 0.7073776721954346, 0.0], [0.0021945973858237267, 0.008064942434430122, 0.017567988485097885, 0.006847723387181759, 0.003920614719390869, 0.1277073472738266, 0.0008100110571831465, 0.8328867554664612, 0.0], [0.0007426560623571277, 0.0047693559899926186, 0.07879394292831421, 0.0031879812013357878, 0.00225341715849936, 0.007290002424269915, 0.007741458714008331, 0.8952211737632751, 0.0], [0.0007999096997082233, 0.0018256829353049397, 0.10726196318864822, 0.04676729068160057, 0.0016383775509893894, 0.000983471400104463, 0.005290628876537085, 0.8354327082633972, 0.0], [0.0010451702401041985, 0.0018312877509742975, 0.045664556324481964, 0.010910509154200554, 0.010091192089021206, 0.027215996757149696, 0.0011063411366194487, 0.902134895324707, 0.0], [0.0020012182649224997, 0.0031067728996276855, 0.06546882539987564, 0.004990965127944946, 0.024111725389957428, 0.017885785549879074, 0.0073988293297588825, 0.87503582239151, 0.0], [0.0021672777365893126, 0.003254223382100463, 0.061345357447862625, 0.0057940431870520115, 0.025485603138804436, 0.018202777951955795, 0.0074530234560370445, 0.8762977123260498, 0.0]], [[0.023091323673725128, 0.22228990495204926, 0.006662648171186447, 0.0024807441513985395, 0.001983844907954335, 0.007565886247903109, 0.00634255213662982, 0.7295830845832825, 0.0], [0.001944696414284408, 0.0359448567032814, 0.024464253336191177, 0.011700214818120003, 0.0018890248611569405, 0.003711891593411565, 0.0029909030999988317, 0.9173542261123657, 0.0], [0.001645462354645133, 0.0022644030395895243, 0.027077283710241318, 0.04440569505095482, 0.005082306452095509, 0.0018503527389839292, 0.002971859648823738, 0.9147026538848877, 0.0], [0.001384506467729807, 0.0035213083028793335, 0.0017211969243362546, 0.008232471533119678, 0.12066930532455444, 0.004350512754172087, 0.002305235480889678, 0.8578154444694519, 0.0], [0.002621055580675602, 0.0072127715684473515, 0.000503113551530987, 0.004929565824568272, 0.000883726344909519, 0.08210552483797073, 0.010621837340295315, 0.8911223411560059, 0.0], [0.0016358632128685713, 0.0053886426612734795, 0.0012456871336326003, 0.0030842020642012358, 0.003736772807314992, 0.051506273448467255, 0.0372139997780323, 0.8961885571479797, 0.0], [0.0008399650687351823, 0.007574938703328371, 0.0012246901169419289, 0.00459875725209713, 0.0011929844040423632, 0.021797627210617065, 0.014963548630475998, 0.9478074908256531, 0.0], [0.007471340708434582, 0.014363851398229599, 0.006361626088619232, 0.008518433198332787, 0.009753260761499405, 0.011707077734172344, 0.006503751967102289, 0.9353206157684326, 0.0], [0.006408926099538803, 0.013959215022623539, 0.007129166275262833, 0.010844948701560497, 0.009923888370394707, 0.00961233489215374, 0.004591869655996561, 0.9375296235084534, 0.0]], [[0.0016985193360596895, 0.0030564849730581045, 0.0002465462312102318, 0.02317311055958271, 0.11663960665464401, 0.23702694475650787, 0.0018489257199689746, 0.6163098216056824, 0.0], [0.014558079652488232, 0.00211280956864357, 0.003979073371738195, 0.053119294345378876, 0.018300145864486694, 0.05923920124769211, 0.0045631201937794685, 0.8441282510757446, 0.0], [0.005667717661708593, 0.3480970561504364, 0.008694279938936234, 0.001864725025370717, 0.04214935749769211, 0.020625650882720947, 0.0018040230497717857, 0.571097195148468, 0.0], [0.005488522816449404, 0.08465483039617538, 0.004714781418442726, 0.004605748225003481, 0.01606597751379013, 0.002027307404205203, 0.0020549187902361155, 0.8803879022598267, 0.0], [0.00040799801354296505, 0.0012463058810681105, 0.014995339326560497, 0.04966631159186363, 0.0030164113268256187, 0.0018139921594411135, 0.00908567849546671, 0.9197680354118347, 0.0], [5.624017649097368e-05, 0.0012831996427848935, 0.01783084124326706, 0.04819101095199585, 0.006102078594267368, 0.0026627732440829277, 0.013799275271594524, 0.9100745916366577, 0.0], [0.0031807872001081705, 0.0019146651029586792, 0.0041815186850726604, 0.005233579780906439, 0.008461741730570793, 0.008139308542013168, 0.003124426119029522, 0.9657639265060425, 0.0], [0.0009385272278450429, 0.004246573429554701, 0.007023381069302559, 0.00921771489083767, 0.007765619084239006, 0.016345951706171036, 0.022226965054869652, 0.9322352409362793, 0.0], [0.00109983014408499, 0.005100766196846962, 0.006941717583686113, 0.009381933137774467, 0.007898548617959023, 0.015505152754485607, 0.019000086933374405, 0.9350719451904297, 0.0]]]], \"left_text\": [\"Q\", \"K\", \"L\", \"V\", \"F\", \"F\", \"A\", \"<eos>\", \"<pad>\"], \"right_text\": [\"Q\", \"K\", \"L\", \"V\", \"F\", \"F\", \"A\", \"<eos>\", \"<pad>\"]}, {\"name\": \"Decoder\", \"attn\": [[[[1.0, 0.0, 0.0, 0.0, 0.0, 0.0, 0.0, 0.0], [0.0, 1.0, 0.0, 0.0, 0.0, 0.0, 0.0, 0.0], [0.0, 2.4808567277401167e-22, 1.0, 0.0, 0.0, 0.0, 0.0, 0.0], [0.0, 7.6662130441983865e-31, 1.0, 6.766070127948335e-19, 0.0, 0.0, 0.0, 0.0], [0.0, 0.0, 0.0, 6.117858900472503e-40, 1.0, 0.0, 0.0, 0.0], [0.0, 0.0, 0.0, 0.0, 1.0, 7.006492321624085e-45, 0.0, 0.0], [0.0, 0.0, 0.0, 0.0, 0.0, 0.0, 1.0, 0.0], [0.0, 0.0, 0.0, 0.0, 0.0, 0.0, 1.0, 0.0]], [[1.0, 0.0, 0.0, 0.0, 0.0, 0.0, 0.0, 0.0], [1.0, 0.0, 0.0, 0.0, 0.0, 0.0, 0.0, 0.0], [0.0, 1.0, 1.984336200698609e-36, 0.0, 0.0, 0.0, 0.0, 0.0], [0.0, 0.0, 1.0, 1.375071251072834e-35, 0.0, 0.0, 0.0, 0.0], [0.0, 0.0, 0.0, 1.0, 0.0, 0.0, 0.0, 0.0], [0.0, 0.0, 0.0, 0.0, 1.0, 0.0, 0.0, 0.0], [0.0, 0.0, 0.0, 0.0, 0.0, 1.0, 0.0, 0.0], [0.0, 0.0, 0.0, 0.0, 0.0, 0.0, 1.0, 0.0]], [[1.0, 0.0, 0.0, 0.0, 0.0, 0.0, 0.0, 0.0], [0.9576599597930908, 0.04234006628394127, 0.0, 0.0, 0.0, 0.0, 0.0, 0.0], [0.06292805820703506, 0.9161285758018494, 0.02094339393079281, 0.0, 0.0, 0.0, 0.0, 0.0], [0.022362256422638893, 0.07536663860082626, 0.8595830202102661, 0.04268806055188179, 0.0, 0.0, 0.0, 0.0], [0.03619980812072754, 0.0006220238865353167, 0.050911348313093185, 0.8318561315536499, 0.0804106742143631, 0.0, 0.0, 0.0], [0.006565080024302006, 3.5507378015608992e-06, 0.00040662908577360213, 0.05739247798919678, 0.8983779549598694, 0.03725425526499748, 0.0, 0.0], [0.008374590426683426, 9.218956051881833e-07, 2.431643451927812e-06, 0.0006316931103356183, 0.11973530799150467, 0.7439307570457458, 0.12732426822185516, 0.0], [0.015400848351418972, 6.70945428282721e-06, 1.1482584341138136e-06, 1.60190143105865e-06, 0.0009400022099725902, 0.05635923519730568, 0.7885937690734863, 0.13869670033454895]], [[1.0, 0.0, 0.0, 0.0, 0.0, 0.0, 0.0, 0.0], [1.0, 0.0, 0.0, 0.0, 0.0, 0.0, 0.0, 0.0], [0.0, 0.0, 1.0, 0.0, 0.0, 0.0, 0.0, 0.0], [0.0, 0.0, 0.0, 1.0, 0.0, 0.0, 0.0, 0.0], [0.0, 0.0, 0.0, 1.0, 0.0, 0.0, 0.0, 0.0], [0.0, 0.0, 0.0, 0.0, 0.0, 1.0, 0.0, 0.0], [0.0, 0.0, 0.0, 0.0, 0.0, 0.0, 1.0, 0.0], [0.0, 0.0, 0.0, 0.0, 0.0, 0.0, 0.0, 1.0]], [[1.0, 0.0, 0.0, 0.0, 0.0, 0.0, 0.0, 0.0], [0.9997527003288269, 0.0002473281347192824, 0.0, 0.0, 0.0, 0.0, 0.0, 0.0], [0.9308361411094666, 0.06909788399934769, 6.595009472221136e-05, 0.0, 0.0, 0.0, 0.0, 0.0], [0.05297974869608879, 0.8959234356880188, 0.05076735466718674, 0.00032953190384432673, 0.0, 0.0, 0.0, 0.0], [3.8836376916151494e-05, 0.02384207770228386, 0.9474923014640808, 0.028622213751077652, 4.60886258224491e-06, 0.0, 0.0, 0.0], [6.184214806914667e-10, 5.600327881438716e-07, 0.085454560816288, 0.9063146114349365, 0.008230148814618587, 1.2680149552579678e-07, 0.0, 0.0], [2.2658811281516053e-17, 6.56984164878853e-16, 1.0523214299951178e-08, 0.0023879683576524258, 0.9947401881217957, 0.0028718337416648865, 5.151398418945519e-09, 0.0], [8.717194958836039e-27, 2.271103390519077e-27, 1.880822855801702e-19, 1.8141263491422421e-10, 0.011424675583839417, 0.9873712062835693, 0.0012041290756314993, 1.739013794077593e-10]], [[1.0, 0.0, 0.0, 0.0, 0.0, 0.0, 0.0, 0.0], [1.0, 1.622440177576845e-39, 0.0, 0.0, 0.0, 0.0, 0.0, 0.0], [5.038124706586168e-32, 1.0, 3.640969883001691e-18, 0.0, 0.0, 0.0, 0.0, 0.0], [0.0, 6.688804370441996e-25, 1.0, 2.9710147536610165e-11, 0.0, 0.0, 0.0, 0.0], [0.0, 0.0, 6.157068633787855e-29, 1.0, 5.203311748280142e-16, 0.0, 0.0, 0.0], [0.0, 0.0, 0.0, 1.0396461136706388e-28, 1.0, 3.3918355724502285e-29, 0.0, 0.0], [0.0, 0.0, 0.0, 0.0, 2.382440571017106e-16, 1.0, 1.3378886072350334e-21, 0.0], [0.0, 0.0, 0.0, 0.0, 0.0, 1.0591108885866394e-31, 1.0, 1.5614965193434378e-22]], [[1.0, 0.0, 0.0, 0.0, 0.0, 0.0, 0.0, 0.0], [1.0, 4.7082204951123405e-35, 0.0, 0.0, 0.0, 0.0, 0.0, 0.0], [0.0, 0.0, 1.0, 0.0, 0.0, 0.0, 0.0, 0.0], [0.0, 0.0, 1.0, 1.9648108704942548e-15, 0.0, 0.0, 0.0, 0.0], [0.0, 0.0, 4.725470181306127e-15, 1.0, 2.7337888244208524e-36, 0.0, 0.0, 0.0], [0.0, 0.0, 0.0, 0.0, 0.0, 1.0, 0.0, 0.0], [0.0, 0.0, 0.0, 0.0, 0.0, 1.0, 0.0, 0.0], [0.0, 0.0, 0.0, 0.0, 0.0, 1.0, 7.096235511019024e-37, 0.0]], [[1.0, 0.0, 0.0, 0.0, 0.0, 0.0, 0.0, 0.0], [0.21410848200321198, 0.7858915328979492, 0.0, 0.0, 0.0, 0.0, 0.0, 0.0], [0.4689193069934845, 0.09970777481794357, 0.4313729405403137, 0.0, 0.0, 0.0, 0.0, 0.0], [0.5323328971862793, 0.01518351398408413, 0.07595354318618774, 0.37653008103370667, 0.0, 0.0, 0.0, 0.0], [0.39753663539886475, 0.009755939245223999, 0.02027013711631298, 0.08431503176689148, 0.48812228441238403, 0.0, 0.0, 0.0], [0.4478354752063751, 0.011745581403374672, 0.031318549066782, 0.0764039009809494, 0.1261330097913742, 0.30656346678733826, 0.0, 0.0], [0.3947579264640808, 0.007280644029378891, 0.0260393675416708, 0.09014838188886642, 0.13195180892944336, 0.10155238956212997, 0.2482694685459137, 0.0], [0.46597805619239807, 0.010879892855882645, 0.04537464678287506, 0.07337743043899536, 0.07064435631036758, 0.02237190492451191, 0.02606780081987381, 0.2853059470653534]]], [[[1.0, 0.0, 0.0, 0.0, 0.0, 0.0, 0.0, 0.0], [0.9954795837402344, 0.00452036689966917, 0.0, 0.0, 0.0, 0.0, 0.0, 0.0], [0.8685206770896912, 0.1272745281457901, 0.004204839002341032, 0.0, 0.0, 0.0, 0.0, 0.0], [0.9564710855484009, 0.0024042457807809114, 0.005539244506508112, 0.035585470497608185, 0.0, 0.0, 0.0, 0.0], [0.530926525592804, 0.005108471494168043, 0.003434800775721669, 0.4588368833065033, 0.0016932031139731407, 0.0, 0.0, 0.0], [0.5975176095962524, 0.004432098474353552, 0.01184130646288395, 0.2483057826757431, 0.11118187755346298, 0.02672128938138485, 0.0, 0.0], [0.863976776599884, 0.001124324626289308, 0.017828861251473427, 0.08065396547317505, 0.0066911461763083935, 0.020842311903834343, 0.008882683701813221, 0.0], [0.9260956645011902, 0.0012159848120063543, 0.0013474604347720742, 0.0068190377205610275, 0.0036970132496207952, 0.00903455913066864, 0.039483144879341125, 0.012307240627706051]], [[1.0, 0.0, 0.0, 0.0, 0.0, 0.0, 0.0, 0.0], [0.9832155108451843, 0.0167844258248806, 0.0, 0.0, 0.0, 0.0, 0.0, 0.0], [0.887950599193573, 0.10253861546516418, 0.00951081421226263, 0.0, 0.0, 0.0, 0.0, 0.0], [0.5975931286811829, 0.005497659556567669, 0.3743298053741455, 0.022579485550522804, 0.0, 0.0, 0.0, 0.0], [0.7539136409759521, 0.0040139625780284405, 0.05165145918726921, 0.16094675660133362, 0.029474202543497086, 0.0, 0.0, 0.0], [0.8679273128509521, 0.0033520665019750595, 0.04091908782720566, 0.006014244630932808, 0.0742078647017479, 0.007579417433589697, 0.0, 0.0], [0.7976328134536743, 0.005657630506902933, 0.00901593267917633, 0.005557822063565254, 0.03962235152721405, 0.1275743544101715, 0.014939147047698498, 0.0], [0.8676915168762207, 0.009465855546295643, 0.012178846634924412, 0.0012154607102274895, 0.008615928702056408, 0.06023624539375305, 0.03171415254473686, 0.008882050402462482]], [[1.0, 0.0, 0.0, 0.0, 0.0, 0.0, 0.0, 0.0], [0.98848557472229, 0.011514388024806976, 0.0, 0.0, 0.0, 0.0, 0.0, 0.0], [0.9863183498382568, 0.01340986043214798, 0.00027180943288840353, 0.0, 0.0, 0.0, 0.0, 0.0], [0.9625971913337708, 0.026961160823702812, 0.004647106863558292, 0.005794608499854803, 0.0, 0.0, 0.0, 0.0], [0.8903460502624512, 0.0019523447845131159, 0.04310280829668045, 0.05381380766630173, 0.010785086080431938, 0.0, 0.0, 0.0], [0.5473246574401855, 0.0009845226304605603, 0.09835804253816605, 0.03283839672803879, 0.31450867652893066, 0.005985720083117485, 0.0, 0.0], [0.8984814882278442, 0.0015218465123325586, 0.0038870295975357294, 0.03054271638393402, 0.05580638349056244, 0.007957663387060165, 0.0018028832273557782, 0.0], [0.6921517848968506, 0.003499633399769664, 0.0024126810021698475, 0.006111031398177147, 0.04535951465368271, 0.056460149586200714, 0.17771311104297638, 0.0162921454757452]], [[1.0, 0.0, 0.0, 0.0, 0.0, 0.0, 0.0, 0.0], [0.9977230429649353, 0.0022769428323954344, 0.0, 0.0, 0.0, 0.0, 0.0, 0.0], [0.972035825252533, 0.02198922075331211, 0.005974853411316872, 0.0, 0.0, 0.0, 0.0, 0.0], [0.7228218913078308, 0.2614792585372925, 0.008111109025776386, 0.007587746251374483, 0.0, 0.0, 0.0, 0.0], [0.5645841956138611, 0.04027730971574783, 0.35128745436668396, 0.03254340961575508, 0.011307723820209503, 0.0, 0.0, 0.0], [0.2168356478214264, 0.0005865918938070536, 0.017346665263175964, 0.009293702431023121, 0.7526464462280273, 0.0032908949069678783, 0.0, 0.0], [0.5339545011520386, 0.0010560675291344523, 0.039494194090366364, 0.12693166732788086, 0.24873961508274078, 0.04236968979239464, 0.007454313803464174, 0.0], [0.6675162315368652, 0.0030463391449302435, 0.0012854826636612415, 0.0052011157386004925, 0.1290891170501709, 0.15212814509868622, 0.03052251972258091, 0.011210997588932514]], [[1.0, 0.0, 0.0, 0.0, 0.0, 0.0, 0.0, 0.0], [0.985283613204956, 0.014716454781591892, 0.0, 0.0, 0.0, 0.0, 0.0, 0.0], [0.9070826768875122, 0.08021978288888931, 0.012697580270469189, 0.0, 0.0, 0.0, 0.0, 0.0], [0.9200254678726196, 0.002180421259254217, 0.041239552199840546, 0.03655451536178589, 0.0, 0.0, 0.0, 0.0], [0.4085419774055481, 0.004735422786325216, 0.05944196134805679, 0.5237752795219421, 0.003505342872813344, 0.0, 0.0, 0.0], [0.8290573358535767, 0.004967065062373877, 0.014803312718868256, 0.01234525628387928, 0.10045041888952255, 0.0383765734732151, 0.0, 0.0], [0.44361209869384766, 0.0022373655810952187, 0.0017636726843193173, 0.0038785261567682028, 0.021324241533875465, 0.4953858256340027, 0.03179828077554703, 0.0], [0.8879283666610718, 0.004851029720157385, 0.002216914901509881, 0.0014184352476149797, 0.00119828712195158, 0.025934472680091858, 0.0537034310400486, 0.022749051451683044]], [[1.0, 0.0, 0.0, 0.0, 0.0, 0.0, 0.0, 0.0], [0.9961942434310913, 0.0038057449273765087, 0.0, 0.0, 0.0, 0.0, 0.0, 0.0], [0.995241641998291, 0.0025646379217505455, 0.002193665597587824, 0.0, 0.0, 0.0, 0.0, 0.0], [0.9112597703933716, 0.03196783736348152, 0.05158459395170212, 0.005187915172427893, 0.0, 0.0, 0.0, 0.0], [0.8461525440216064, 0.030250461772084236, 0.0957912728190422, 0.011789998970925808, 0.01601566933095455, 0.0, 0.0, 0.0], [0.9500814080238342, 0.0017172228544950485, 0.024682261049747467, 0.004361436702311039, 0.015029539354145527, 0.004128140397369862, 0.0, 0.0], [0.8340150117874146, 0.0012906695483252406, 0.0093914195895195, 0.015805870294570923, 0.11698034405708313, 0.0196978896856308, 0.0028187762945890427, 0.0], [0.6135286688804626, 0.005919869523495436, 0.0034800274297595024, 0.0010444673243910074, 0.06321115791797638, 0.2648521065711975, 0.03898489475250244, 0.008978776633739471]], [[1.0, 0.0, 0.0, 0.0, 0.0, 0.0, 0.0, 0.0], [0.9990447163581848, 0.0009552539559081197, 0.0, 0.0, 0.0, 0.0, 0.0, 0.0], [0.9410741329193115, 0.046876292675733566, 0.012049595825374126, 0.0, 0.0, 0.0, 0.0, 0.0], [0.9174807071685791, 0.06269221752882004, 0.007826550863683224, 0.01200040802359581, 0.0, 0.0, 0.0, 0.0], [0.9681063890457153, 0.003026476362720132, 0.001524015562608838, 0.017378682270646095, 0.00996436458081007, 0.0, 0.0, 0.0], [0.9169861078262329, 0.0036538445856422186, 0.001766679808497429, 0.002049263333901763, 0.06550321727991104, 0.010040883906185627, 0.0, 0.0], [0.8951928615570068, 0.0017010485753417015, 0.0005367116536945105, 0.0005545779131352901, 0.04744870960712433, 0.00840709637850523, 0.04615897685289383, 0.0], [0.6539345979690552, 0.0051076654344797134, 0.0024528088979423046, 0.0005524962907657027, 0.0435185581445694, 0.0129695450887084, 0.2687264382839203, 0.01273795124143362]], [[1.0, 0.0, 0.0, 0.0, 0.0, 0.0, 0.0, 0.0], [0.9972641468048096, 0.00273580988869071, 0.0, 0.0, 0.0, 0.0, 0.0, 0.0], [0.9030501246452332, 0.08858274668455124, 0.008367175236344337, 0.0, 0.0, 0.0, 0.0, 0.0], [0.7198695540428162, 0.2208876758813858, 0.031268540769815445, 0.02797430381178856, 0.0, 0.0, 0.0, 0.0], [0.8811336159706116, 0.00778460968285799, 0.02645029127597809, 0.08250387012958527, 0.0021276569459587336, 0.0, 0.0, 0.0], [0.6240514516830444, 0.009715141728520393, 0.04113457724452019, 0.260613352060318, 0.027566032484173775, 0.036919474601745605, 0.0, 0.0], [0.9253389239311218, 0.001407287665642798, 0.0023896810598671436, 0.006236508022993803, 0.019141189754009247, 0.027810348197817802, 0.017676016315817833, 0.0], [0.6876187324523926, 0.0018347683362662792, 0.0021949755027890205, 0.0013173307524994016, 0.006535564549267292, 0.11224227398633957, 0.165675088763237, 0.02258121967315674]]], [[[1.0, 0.0, 0.0, 0.0, 0.0, 0.0, 0.0, 0.0], [0.9681124091148376, 0.031887561082839966, 0.0, 0.0, 0.0, 0.0, 0.0, 0.0], [0.4323963522911072, 0.5141690969467163, 0.05343452841043472, 0.0, 0.0, 0.0, 0.0, 0.0], [0.3502473533153534, 0.04555075615644455, 0.11132306605577469, 0.492878794670105, 0.0, 0.0, 0.0, 0.0], [0.21661454439163208, 0.0017206479096785188, 0.03073730692267418, 0.7282823324203491, 0.022645192220807076, 0.0, 0.0, 0.0], [0.40228986740112305, 0.00042400360689498484, 0.006410383619368076, 0.019389290362596512, 0.4863514304161072, 0.08513499796390533, 0.0, 0.0], [0.130034402012825, 0.005115948151797056, 0.0007295190589502454, 0.0007072599837556481, 0.003341452218592167, 0.858142077922821, 0.001929391990415752, 0.0], [0.005649239290505648, 0.001215368858538568, 4.674216143030208e-06, 6.437890260713175e-05, 0.0010907199466601014, 0.03177180141210556, 0.9273799657821655, 0.032823819667100906]], [[1.0, 0.0, 0.0, 0.0, 0.0, 0.0, 0.0, 0.0], [0.6403843760490417, 0.35961565375328064, 0.0, 0.0, 0.0, 0.0, 0.0, 0.0], [0.4969860017299652, 0.5021259188652039, 0.0008880876121111214, 0.0, 0.0, 0.0, 0.0, 0.0], [0.1699216365814209, 0.8196037411689758, 0.010013342835009098, 0.00046137606841512024, 0.0, 0.0, 0.0, 0.0], [0.31258898973464966, 0.006172476336359978, 0.054505929350852966, 0.044205520302057266, 0.5825271010398865, 0.0, 0.0, 0.0], [0.009562971070408821, 7.266764441737905e-05, 0.0006926184287294745, 0.0005104133160784841, 0.9886468052864075, 0.0005145034519955516, 0.0, 0.0], [0.031820155680179596, 4.5811557356501e-05, 0.023692572489380836, 0.003658534260466695, 0.9314096570014954, 0.0062866914086043835, 0.0030865499284118414, 0.0], [0.05086612328886986, 0.0008355074096471071, 0.0016507053514942527, 0.0016042989445850253, 0.10352422297000885, 0.011254973709583282, 0.4332086741924286, 0.39705541729927063]], [[1.0, 0.0, 0.0, 0.0, 0.0, 0.0, 0.0, 0.0], [0.955640435218811, 0.04435950145125389, 0.0, 0.0, 0.0, 0.0, 0.0, 0.0], [0.8828866481781006, 0.0008399512735195458, 0.11627332121133804, 0.0, 0.0, 0.0, 0.0, 0.0], [0.6371557712554932, 0.0052472567185759544, 0.19907940924167633, 0.1585175096988678, 0.0, 0.0, 0.0, 0.0], [0.20413294434547424, 0.0017274417914450169, 0.014981033280491829, 0.7403924465179443, 0.03876607120037079, 0.0, 0.0, 0.0], [0.3595886528491974, 0.00038274668622761965, 0.04907557740807533, 0.15913622081279755, 0.10539893060922623, 0.32641780376434326, 0.0, 0.0], [0.07779186964035034, 0.004352092742919922, 0.06335815042257309, 0.009638032875955105, 0.45854106545448303, 0.3812372386455536, 0.0050814710557460785, 0.0], [0.034635238349437714, 0.0016365201445296407, 0.006195686757564545, 0.0002661426260601729, 0.010906166397035122, 0.9237270951271057, 0.0014315793523564935, 0.021201474592089653]], [[1.0, 0.0, 0.0, 0.0, 0.0, 0.0, 0.0, 0.0], [0.6024919152259827, 0.39750802516937256, 0.0, 0.0, 0.0, 0.0, 0.0, 0.0], [0.013035548850893974, 0.9837051630020142, 0.003259311430156231, 0.0, 0.0, 0.0, 0.0, 0.0], [0.00386956543661654, 0.00014535017544403672, 0.9943569302558899, 0.0016280474374070764, 0.0, 0.0, 0.0, 0.0], [0.012548496015369892, 4.340104715083726e-05, 0.00038718662108294666, 0.7316657304763794, 0.25535523891448975, 0.0, 0.0, 0.0], [0.7730218768119812, 0.02181377075612545, 0.0025960328057408333, 0.05353974923491478, 0.07601815462112427, 0.07301034778356552, 0.0, 0.0], [0.006972107104957104, 7.641632691957057e-05, 0.0013853417476639152, 0.00010180863318964839, 0.002565272618085146, 0.9836795926094055, 0.00521957129240036, 0.0], [0.03742654249072075, 0.002971444744616747, 0.028737567365169525, 0.0010624643182381988, 0.0005686010117642581, 0.15433120727539062, 0.2860986292362213, 0.48880356550216675]], [[1.0, 0.0, 0.0, 0.0, 0.0, 0.0, 0.0, 0.0], [0.9962577819824219, 0.0037422834429889917, 0.0, 0.0, 0.0, 0.0, 0.0, 0.0], [0.9795815944671631, 0.01468746829777956, 0.0057308669202029705, 0.0, 0.0, 0.0, 0.0, 0.0], [0.11813420802354813, 0.7658095955848694, 0.11453383415937424, 0.0015224139206111431, 0.0, 0.0, 0.0, 0.0], [0.012266416102647781, 0.00017230641969945282, 0.9842342734336853, 0.003306064521893859, 2.0863128156634048e-05, 0.0, 0.0, 0.0], [0.12420694530010223, 0.0010989602888002992, 0.005670290905982256, 0.7176538109779358, 0.14971980452537537, 0.0016502116341143847, 0.0, 0.0], [0.07942438870668411, 0.001544214435853064, 0.02498939260840416, 0.4918038547039032, 0.20849423110485077, 0.14522486925125122, 0.048519037663936615, 0.0], [0.0012384686851873994, 0.00011414597247494385, 5.2954528655391186e-05, 0.001101010711863637, 0.14670401811599731, 0.7471590638160706, 0.1031954437494278, 0.0004349264781922102]], [[1.0, 0.0, 0.0, 0.0, 0.0, 0.0, 0.0, 0.0], [0.9773524403572083, 0.022647595033049583, 0.0, 0.0, 0.0, 0.0, 0.0, 0.0], [0.8958463072776794, 0.10247471183538437, 0.0016789590008556843, 0.0, 0.0, 0.0, 0.0, 0.0], [0.5256983041763306, 0.003683451097458601, 0.45670464634895325, 0.013913610018789768, 0.0, 0.0, 0.0, 0.0], [0.5932064056396484, 0.004751723725348711, 0.26815786957740784, 0.002800366608425975, 0.1310836225748062, 0.0, 0.0, 0.0], [0.022383123636245728, 0.0004973237519152462, 0.0003374012012500316, 0.011418147012591362, 0.9560398459434509, 0.009324113838374615, 0.0, 0.0], [0.41451790928840637, 0.0013420155737549067, 0.0033724596723914146, 0.3108028471469879, 0.19197283685207367, 0.021862709894776344, 0.05612918734550476, 0.0], [0.045264605432748795, 0.0007499123457819223, 0.0005771918222308159, 0.0016565131954848766, 0.0032013962045311928, 0.0028485606890171766, 0.9427391290664673, 0.002962671685963869]], [[1.0, 0.0, 0.0, 0.0, 0.0, 0.0, 0.0, 0.0], [0.9802496433258057, 0.019750358536839485, 0.0, 0.0, 0.0, 0.0, 0.0, 0.0], [0.11055706441402435, 0.0009111181716434658, 0.8885318636894226, 0.0, 0.0, 0.0, 0.0, 0.0], [0.17536607384681702, 0.0040614246390759945, 0.8191068768501282, 0.001465605921112001, 0.0, 0.0, 0.0, 0.0], [0.3742722272872925, 0.001931436127051711, 0.5435328483581543, 0.07128717005252838, 0.008976339362561703, 0.0, 0.0, 0.0], [0.27618518471717834, 0.0003496543213259429, 0.26894402503967285, 0.43409305810928345, 0.014905955642461777, 0.005521995481103659, 0.0, 0.0], [0.1950726956129074, 0.016175154596567154, 0.35177671909332275, 0.13488273322582245, 0.005986557807773352, 0.0600418783724308, 0.23606425523757935, 0.0], [0.2423359453678131, 0.05300241336226463, 0.03166835010051727, 0.009549224749207497, 0.015093614347279072, 0.028049645945429802, 0.012327340431511402, 0.6079734563827515]], [[1.0, 0.0, 0.0, 0.0, 0.0, 0.0, 0.0, 0.0], [0.9989461302757263, 0.0010539196664467454, 0.0, 0.0, 0.0, 0.0, 0.0, 0.0], [0.6412780284881592, 0.21360798180103302, 0.1451139897108078, 0.0, 0.0, 0.0, 0.0, 0.0], [0.8858706951141357, 0.061845600605010986, 0.03707066923379898, 0.015212999656796455, 0.0, 0.0, 0.0, 0.0], [0.26974037289619446, 0.048687465488910675, 0.06635095179080963, 0.005411750171333551, 0.6098095178604126, 0.0, 0.0, 0.0], [0.3533965051174164, 0.002262693829834461, 0.0007973330211825669, 4.1674396925373e-05, 0.5710155367851257, 0.07248624414205551, 0.0, 0.0], [0.22251184284687042, 0.007042197044938803, 0.011503325775265694, 5.133685772307217e-05, 0.5910860300064087, 0.03971325233578682, 0.12809200584888458, 0.0], [0.03950271010398865, 0.0008826337871141732, 2.614518962218426e-05, 0.0002696366864256561, 0.27313166856765747, 0.020688652992248535, 0.6619071960449219, 0.0035913693718612194]]], [[[1.0, 0.0, 0.0, 0.0, 0.0, 0.0, 0.0, 0.0], [0.9089276790618896, 0.09107238054275513, 0.0, 0.0, 0.0, 0.0, 0.0, 0.0], [0.4857313632965088, 0.47880253195762634, 0.035466112196445465, 0.0, 0.0, 0.0, 0.0, 0.0], [0.8073618412017822, 0.0391751192510128, 0.009517520666122437, 0.14394564926624298, 0.0, 0.0, 0.0, 0.0], [0.16329318284988403, 0.7691207528114319, 0.011607175692915916, 0.05585445091128349, 0.0001243119186256081, 0.0, 0.0, 0.0], [0.20379352569580078, 0.15126308798789978, 0.11076772958040237, 0.01804243214428425, 0.5042489171028137, 0.011884362436830997, 0.0, 0.0], [0.20048260688781738, 0.029325157403945923, 0.20707963407039642, 0.3416883051395416, 0.03308199718594551, 0.0902906209230423, 0.0980517715215683, 0.0], [0.4104434549808502, 0.004846959374845028, 0.0025217137299478054, 0.0010161919053643942, 0.30273720622062683, 0.00681389169767499, 0.159257709980011, 0.112362802028656]], [[1.0, 0.0, 0.0, 0.0, 0.0, 0.0, 0.0, 0.0], [0.986639142036438, 0.013360841199755669, 0.0, 0.0, 0.0, 0.0, 0.0, 0.0], [0.42400676012039185, 0.3488519489765167, 0.227141335606575, 0.0, 0.0, 0.0, 0.0, 0.0], [0.28650030493736267, 0.31444889307022095, 0.2689380943775177, 0.1301126480102539, 0.0, 0.0, 0.0, 0.0], [0.1851090043783188, 0.00027620181208476424, 0.07215064018964767, 0.02718503586947918, 0.7152791023254395, 0.0, 0.0, 0.0], [0.009038354270160198, 0.0001377876178594306, 0.006507751066237688, 0.00498571339994669, 0.9791295528411865, 0.00020084991410840303, 0.0, 0.0], [0.0033583848271518946, 0.00010557724453974515, 0.00130082864779979, 0.0011781229404732585, 0.993841290473938, 0.00015407717728521675, 6.155353912618011e-05, 0.0], [0.14035198092460632, 0.019478829577565193, 0.034490916877985, 0.007303927559405565, 0.6510661840438843, 0.05229600518941879, 0.07836751639842987, 0.016644684597849846]], [[1.0, 0.0, 0.0, 0.0, 0.0, 0.0, 0.0, 0.0], [0.9691373705863953, 0.030862586572766304, 0.0, 0.0, 0.0, 0.0, 0.0, 0.0], [0.7219007611274719, 0.11893567442893982, 0.1591636687517166, 0.0, 0.0, 0.0, 0.0, 0.0], [0.6850113272666931, 0.17324036359786987, 0.1309320479631424, 0.010816308669745922, 0.0, 0.0, 0.0, 0.0], [0.7259353995323181, 0.07367133349180222, 0.07948135584592819, 0.11449848115444183, 0.0064134844578802586, 0.0, 0.0, 0.0], [0.16698522865772247, 0.017640097066760063, 0.014365038834512234, 0.000488442019559443, 0.6433541774749756, 0.15716706216335297, 0.0, 0.0], [0.154941588640213, 0.015710437670350075, 0.6915441155433655, 0.007757248822599649, 0.014359557069838047, 0.10601917654275894, 0.009667863138020039, 0.0], [0.40327441692352295, 0.0024678283371031284, 0.010794083587825298, 0.14747917652130127, 0.03244037926197052, 0.16746991872787476, 0.12596827745437622, 0.110105961561203]], [[1.0, 0.0, 0.0, 0.0, 0.0, 0.0, 0.0, 0.0], [0.9973601698875427, 0.0026398368645459414, 0.0, 0.0, 0.0, 0.0, 0.0, 0.0], [0.9727964997291565, 0.02148710936307907, 0.0057164141908288, 0.0, 0.0, 0.0, 0.0, 0.0], [0.588632345199585, 0.027858857065439224, 0.24171443283557892, 0.14179441332817078, 0.0, 0.0, 0.0, 0.0], [0.13694313168525696, 0.007056967355310917, 0.7983402609825134, 0.023408524692058563, 0.03425110504031181, 0.0, 0.0, 0.0], [0.024985626339912415, 5.019149466534145e-05, 0.001866821781732142, 0.0007261799764819443, 0.8810697793960571, 0.09130142629146576, 0.0, 0.0], [0.03178056702017784, 0.0013582799583673477, 0.002647493267431855, 0.0057340324856340885, 0.46353989839553833, 0.49304839968681335, 0.0018912419909611344, 0.0], [0.16318143904209137, 0.022676873952150345, 0.0350131019949913, 0.003385270945727825, 0.477830171585083, 0.25425752997398376, 0.007569562178105116, 0.0360860601067543]], [[1.0, 0.0, 0.0, 0.0, 0.0, 0.0, 0.0, 0.0], [0.5117851495742798, 0.4882148206233978, 0.0, 0.0, 0.0, 0.0, 0.0, 0.0], [0.476398766040802, 0.5003498792648315, 0.023251326754689217, 0.0, 0.0, 0.0, 0.0, 0.0], [0.15786859393119812, 0.01749873347580433, 0.4289815127849579, 0.3956511318683624, 0.0, 0.0, 0.0, 0.0], [0.008585987612605095, 0.015289431437849998, 0.9563630819320679, 0.0007823205669410527, 0.018979130312800407, 0.0, 0.0, 0.0], [0.637352705001831, 0.08979705721139908, 0.17247195541858673, 0.04216696694493294, 0.04922105371952057, 0.008990183472633362, 0.0, 0.0], [0.02151678130030632, 0.014581345953047276, 0.00031461528851650655, 0.0009936002315953374, 0.6151641011238098, 0.34654146432876587, 0.0008881069952622056, 0.0], [0.39397740364074707, 0.09850261360406876, 0.05296888202428818, 0.04160308092832565, 0.010038875974714756, 0.13078062236309052, 0.19858333468437195, 0.0735451877117157]], [[1.0, 0.0, 0.0, 0.0, 0.0, 0.0, 0.0, 0.0], [0.9812910556793213, 0.0187089741230011, 0.0, 0.0, 0.0, 0.0, 0.0, 0.0], [0.14114563167095184, 0.8583816289901733, 0.00047278410056605935, 0.0, 0.0, 0.0, 0.0, 0.0], [0.22131162881851196, 0.5875489711761475, 0.008053997531533241, 0.1830853968858719, 0.0, 0.0, 0.0, 0.0], [0.006234481930732727, 0.0003871168300975114, 0.0022548455744981766, 0.968917965888977, 0.022205572575330734, 0.0, 0.0, 0.0], [0.022869477048516273, 0.009121660143136978, 0.001552879810333252, 0.741695761680603, 0.0879201665520668, 0.13684013485908508, 0.0, 0.0], [0.19915297627449036, 0.006063925102353096, 0.0050040483474731445, 0.01027645729482174, 0.005425570532679558, 0.3192971348762512, 0.45477989315986633, 0.0], [0.7745933532714844, 0.0005985961179248989, 0.0040394761599600315, 0.11357714980840683, 0.011209568940103054, 0.017616409808397293, 0.07280285656452179, 0.005562581121921539]], [[1.0, 0.0, 0.0, 0.0, 0.0, 0.0, 0.0, 0.0], [0.6779154539108276, 0.32208454608917236, 0.0, 0.0, 0.0, 0.0, 0.0, 0.0], [0.6533519625663757, 0.20631833374500275, 0.1403297632932663, 0.0, 0.0, 0.0, 0.0, 0.0], [0.038565345108509064, 0.9603832960128784, 0.0006087123765610158, 0.00044257196714170277, 0.0, 0.0, 0.0, 0.0], [0.004130192566663027, 0.006705166772007942, 0.0016388131771236658, 0.004526106175035238, 0.9829997420310974, 0.0, 0.0, 0.0], [0.045461878180503845, 0.002373131224885583, 0.0006577885360457003, 0.00029897724743932486, 0.9483485817909241, 0.0028596995398402214, 0.0, 0.0], [0.002449427032843232, 0.00040875442209653556, 4.6649463911307976e-05, 0.019498253241181374, 0.8832848072052002, 0.08834012597799301, 0.005972028244286776, 0.0], [0.13678546249866486, 0.009481088258326054, 0.0029193630907684565, 0.0047372314147651196, 0.38686439394950867, 0.0002448569575790316, 0.013218601234257221, 0.4457489252090454]], [[1.0, 0.0, 0.0, 0.0, 0.0, 0.0, 0.0, 0.0], [0.29775235056877136, 0.7022476196289062, 0.0, 0.0, 0.0, 0.0, 0.0, 0.0], [0.6490616798400879, 0.03004029579460621, 0.32089805603027344, 0.0, 0.0, 0.0, 0.0, 0.0], [0.16023598611354828, 0.03071453981101513, 0.8000297546386719, 0.00901973620057106, 0.0, 0.0, 0.0, 0.0], [0.14993952214717865, 0.0025489600375294685, 0.2604857385158539, 0.584437370300293, 0.0025884807109832764, 0.0, 0.0, 0.0], [0.1241004690527916, 0.0028327994514256716, 0.8600408434867859, 0.012745562009513378, 0.00022745160094927996, 5.2791136113228276e-05, 0.0, 0.0], [0.23382222652435303, 0.09756526350975037, 0.029823554679751396, 0.5479697585105896, 0.06562907993793488, 0.02437085658311844, 0.0008192976238206029, 0.0], [0.5238203406333923, 0.0003271613968536258, 0.011549752205610275, 0.3373531997203827, 0.0037193975877016783, 0.1037672832608223, 0.006815681234002113, 0.01264729630202055]]]], \"left_text\": [\"T\", \"I\", \"V\", \"S\", \"L\", \"G\", \"V\", \"<eos>\"], \"right_text\": [\"T\", \"I\", \"V\", \"S\", \"L\", \"G\", \"V\", \"<eos>\"]}, {\"name\": \"Cross\", \"attn\": [[[[0.8566480875015259, 0.14157675206661224, 0.00011571869254112244, 0.00015780047397129238, 0.00021002563880756497, 0.00012596497253980488, 0.0008230819366872311, 0.0003426106704864651, 0.0], [0.0019886295776814222, 0.9938787817955017, 0.0019860994070768356, 1.97241624846356e-05, 1.1124968750664266e-06, 3.533670906108455e-06, 0.00018105513299815357, 0.0019411880057305098, 0.0], [9.930101805366576e-05, 0.14397528767585754, 0.8441210985183716, 0.009937454015016556, 2.553675528815802e-07, 1.2136135651985569e-08, 6.134303021099186e-07, 0.0018659105990082026, 0.0], [1.183356175715744e-06, 4.8781475925352424e-05, 0.005040408112108707, 0.9917144179344177, 0.002886474598199129, 1.625441967689767e-07, 2.0874431072570587e-09, 0.0003085072385147214, 0.0], [2.076248950544368e-09, 2.469503712632104e-09, 4.5446796548276325e-08, 0.007813222706317902, 0.9813238978385925, 0.010825433768332005, 1.3763590800408565e-07, 3.717683284776285e-05, 0.0], [1.539995355415158e-05, 4.156547959155432e-07, 8.794940775658233e-09, 1.517661303296336e-06, 0.006964933127164841, 0.9525611400604248, 0.03940160945057869, 0.0010549265425652266, 0.0], [3.6748247111972887e-07, 1.6153670401308773e-07, 3.874431331318817e-11, 5.3759405781173e-13, 8.63989046973046e-10, 0.0001722228480502963, 0.9896626472473145, 0.01016461942344904, 0.0], [3.0375456844922155e-05, 0.001629337901249528, 7.048835470868653e-08, 8.6851722645373e-13, 6.603972417881668e-15, 3.410560722727496e-10, 0.011984101496636868, 0.9863561391830444, 0.0]], [[0.4974479377269745, 0.11996177583932877, 0.1550469696521759, 0.000861109874676913, 0.003492584452033043, 0.001285157515667379, 0.004111763089895248, 0.21779267489910126, 0.0], [0.1621582806110382, 0.7359753847122192, 0.02033555693924427, 0.0168137326836586, 0.0020785860251635313, 0.0008846417767927051, 0.0009950820822268724, 0.06075863167643547, 0.0], [0.24330632388591766, 0.1694432497024536, 0.23815901577472687, 0.023126548156142235, 0.008375732228159904, 0.016077717766165733, 0.0028917326126247644, 0.2986196279525757, 0.0], [0.0023229264188557863, 0.01884981244802475, 0.9595346450805664, 0.001046897261403501, 0.00022546235413756222, 0.0003019581490661949, 0.0003075750428251922, 0.017410680651664734, 0.0], [0.0017143257427960634, 0.03726307675242424, 0.042327217757701874, 0.7588425278663635, 0.062070153653621674, 0.014649439603090286, 0.00615872023627162, 0.07697460800409317, 0.0], [0.024407414719462395, 0.005246757064014673, 0.021552525460720062, 0.010831999592483044, 0.06472542136907578, 0.4575962722301483, 0.06405173987150192, 0.3515879213809967, 0.0], [0.000654942006804049, 0.0011108177714049816, 0.001373573555611074, 0.015845490619540215, 0.05359655246138573, 0.34353575110435486, 0.3181400001049042, 0.26574280858039856, 0.0], [0.00511162169277668, 0.005553337745368481, 0.017979610711336136, 0.0008379418286494911, 0.006243348121643066, 0.13962027430534363, 0.29037320613861084, 0.5342806577682495, 0.0]], [[0.18382427096366882, 0.025608722120523453, 0.0028351808432489634, 0.00021298894716892391, 0.0010375428246334195, 0.0030942384619265795, 0.01470481138676405, 0.7686822414398193, 0.0], [0.793197512626648, 0.031395573168992996, 0.004060907289385796, 0.002486020792275667, 0.002849834505468607, 0.00631519453600049, 0.004701720084995031, 0.15499311685562134, 0.0], [0.8620779514312744, 0.1039842888712883, 0.010618903674185276, 0.0007037762552499771, 0.00014063864364288747, 0.0004923584056086838, 0.0030576344579458237, 0.018924420699477196, 0.0], [0.20953376591205597, 0.5026084780693054, 0.2599151134490967, 0.0012286575511097908, 0.0001520765363238752, 8.45820177346468e-05, 0.0007562346290796995, 0.025721101090312004, 0.0], [0.0005967805627733469, 0.023646941408514977, 0.5875135660171509, 0.37211254239082336, 0.009009703993797302, 0.0006675503682345152, 0.00030214281287044287, 0.006150692235678434, 0.0], [0.0014117468381300569, 0.0027375752106308937, 0.10097433626651764, 0.612521231174469, 0.23693203926086426, 0.013331466354429722, 0.0017252585384994745, 0.030366340652108192, 0.0], [0.0006295449566096067, 0.0002844670962076634, 0.012849466875195503, 0.12167536467313766, 0.338664710521698, 0.4665115475654602, 0.03003280609846115, 0.029352139681577682, 0.0], [0.0029789707623422146, 0.0002181969757657498, 0.00024202998611144722, 0.0025301012210547924, 0.023572269827127457, 0.5056849718093872, 0.4384150207042694, 0.02635849453508854, 0.0]], [[0.001364882686175406, 0.6261237263679504, 0.2320604920387268, 0.06209452450275421, 0.05304420366883278, 0.00834291148930788, 0.0003770387847907841, 0.01659216545522213, 0.0], [0.0007966830744408071, 0.014224527403712273, 0.0073113818652927876, 0.44918954372406006, 0.47140082716941833, 0.01146444957703352, 2.898073580581695e-05, 0.04558354988694191, 0.0], [0.005709526129066944, 0.01239619217813015, 0.0010839855531230569, 0.1028805524110794, 0.6298539638519287, 0.12402957677841187, 0.0017846710979938507, 0.12226146459579468, 0.0], [0.04233190789818764, 0.013800251297652721, 0.00040734431240707636, 0.0026428494602441788, 0.1990981251001358, 0.45581328868865967, 0.10498261451721191, 0.18092359602451324, 0.0], [0.014295988716185093, 0.008090044371783733, 0.00039650691905990243, 0.0008384278626181185, 0.0076742954552173615, 0.13979364931583405, 0.5336958169937134, 0.29521530866622925, 0.0], [0.00792450550943613, 0.038378968834877014, 0.03741351515054703, 0.007917235605418682, 0.012116269208490849, 0.027896855026483536, 0.13312304019927979, 0.7352296113967896, 0.0], [0.0026912952307611704, 0.008611823432147503, 0.02601885236799717, 0.020716853439807892, 0.012010441161692142, 0.001496327226050198, 0.026948144659399986, 0.9015063047409058, 0.0], [0.004285546950995922, 0.0035163925494998693, 0.0193613413721323, 0.05059137940406799, 0.1888076663017273, 0.0021276308689266443, 0.001997569343075156, 0.729312539100647, 0.0]], [[0.6775115728378296, 0.018100555986166, 0.22062928974628448, 0.0007762090535834432, 0.0023658087011426687, 0.005188583862036467, 0.002479777904227376, 0.07294826954603195, 0.0], [0.016962336376309395, 0.17120523750782013, 0.7995418906211853, 0.0015302908141165972, 4.609545794664882e-05, 1.0571595339570194e-05, 0.0017966794548556209, 0.008907012641429901, 0.0], [0.3246557116508484, 0.03410390019416809, 0.374747633934021, 0.03345121070742607, 0.008764571510255337, 0.006342187523841858, 0.002691742032766342, 0.21524305641651154, 0.0], [0.025995051488280296, 0.009761820547282696, 0.5570268630981445, 0.03520458936691284, 0.14814338088035583, 0.037522658705711365, 0.001823166268877685, 0.18452240526676178, 0.0], [0.00022136089683044702, 0.013081722892820835, 0.013562309555709362, 0.06196988373994827, 0.216737300157547, 0.10049407929182053, 0.1887364387512207, 0.405196875333786, 0.0], [0.00010493107401998714, 0.0004477925831452012, 0.0034647902939468622, 0.00047614204231649637, 0.08513486385345459, 0.7361457943916321, 0.049175798892974854, 0.12504984438419342, 0.0], [0.0006445381441153586, 0.007085979916155338, 0.00022178726794663817, 0.0074715809896588326, 0.011518189683556557, 0.23043569922447205, 0.2800484001636505, 0.4625738263130188, 0.0], [0.00369410146959126, 0.00149395817425102, 0.028902634978294373, 0.00017439917428418994, 0.0009630451677367091, 0.03478126600384712, 0.3740834593772888, 0.5559071898460388, 0.0]], [[0.04730677232146263, 0.3055632412433624, 0.11227650940418243, 0.32156577706336975, 0.028909554705023766, 0.0044112359173595905, 0.0010976920602843165, 0.17886918783187866, 0.0], [0.40398073196411133, 0.027193583548069, 0.4183158874511719, 0.02711939625442028, 0.011766725219786167, 0.0018890934297814965, 0.012310515157878399, 0.09742407500743866, 0.0], [0.29590097069740295, 0.07927311956882477, 0.08009101450443268, 0.06851459294557571, 0.3091413378715515, 0.02600056864321232, 0.06226649135351181, 0.07881201803684235, 0.0], [0.05142708867788315, 0.007966808043420315, 0.28755953907966614, 0.3131561279296875, 0.01593802310526371, 0.11303482949733734, 0.005708091892302036, 0.20520949363708496, 0.0], [0.11167094856500626, 0.05654602125287056, 0.04376409575343132, 0.13740728795528412, 0.034401558339595795, 0.08697979152202606, 0.09586945921182632, 0.43336087465286255, 0.0], [0.0003238365170545876, 0.0018031462095677853, 0.006714026443660259, 0.10788900405168533, 0.2735903859138489, 0.11648132652044296, 0.10883906483650208, 0.3843591511249542, 0.0], [0.00046913683763705194, 0.005868272390216589, 0.0017254343256354332, 0.016029588878154755, 0.001464918488636613, 0.045390453189611435, 0.1651294231414795, 0.7639228105545044, 0.0], [0.007889947853982449, 0.0014704596251249313, 0.01000165194272995, 0.007079265546053648, 0.0013975928304716945, 0.05208555608987808, 0.26753032207489014, 0.6525452136993408, 0.0]], [[0.009533889591693878, 1.724693902360741e-05, 1.2690877156273928e-05, 4.582856854540296e-05, 0.00021943633328191936, 1.6355801562895067e-05, 0.00012988581147510558, 0.9900246858596802, 0.0], [0.9882113337516785, 0.005691236350685358, 2.79768410109682e-05, 2.8516053589555668e-06, 2.1492348878382472e-06, 6.05006716796197e-05, 0.005124382209032774, 0.0008795919129624963, 0.0], [0.1705842912197113, 0.8280898332595825, 0.0005066058365628123, 9.809052698983578e-07, 3.2772824454241345e-08, 2.1235423730558978e-07, 7.860537152737379e-05, 0.0007394933491013944, 0.0], [0.0038571434561163187, 0.17496368288993835, 0.7767688035964966, 0.009550856426358223, 2.5926919988705777e-05, 2.1000904837364942e-07, 7.451412966474891e-05, 0.03475888445973396, 0.0], [6.4180121626122855e-06, 3.297189323347993e-05, 0.016203509643673897, 0.9548854827880859, 0.019975412636995316, 3.1109459087019786e-05, 1.3789994000035222e-06, 0.008863731287419796, 0.0], [8.80832303664647e-05, 5.37505957254325e-06, 4.848677690461045e-06, 0.12678076326847076, 0.7857766151428223, 0.07025870680809021, 0.00017933882190845907, 0.016906164586544037, 0.0], [2.9223696401459165e-05, 1.7608694236059819e-07, 2.0408157386242465e-09, 7.703843948547728e-06, 0.04323257878422737, 0.918993353843689, 0.03618352860212326, 0.0015534478006884456, 0.0], [9.324702114099637e-05, 1.239479615833261e-06, 1.648227387907042e-11, 8.223064590362483e-11, 2.944218806533172e-07, 0.0009390669292770326, 0.9979076385498047, 0.0010584606789052486, 0.0]], [[4.069534770678729e-05, 2.8630514862015843e-05, 2.0042733012815006e-05, 0.0017879692604765296, 0.9938574433326721, 0.003631920786574483, 2.1450465283123776e-05, 0.000611873110756278, 0.0], [0.04428638517856598, 0.03938031941652298, 0.010558748617768288, 0.08998208492994308, 0.6945963501930237, 0.05578077211976051, 0.00044895653263665736, 0.06496637314558029, 0.0], [0.0011115408269688487, 0.022985374554991722, 0.04415339604020119, 0.02640172466635704, 0.8712374567985535, 0.012415026314556599, 0.00015743020048830658, 0.021538008004426956, 0.0], [0.00011663943587336689, 0.00031005285563878715, 0.0012058477150276303, 0.03325445204973221, 0.8070560693740845, 0.14130264520645142, 6.726056744810194e-05, 0.01668698340654373, 0.0], [5.9101847000420094e-05, 1.1172254744451493e-05, 0.00014617708802688867, 0.04548206925392151, 0.7676811218261719, 0.1496923267841339, 0.0008924078429117799, 0.036035604774951935, 0.0], [1.2963251720066182e-05, 2.0119337932555936e-05, 7.519104838138446e-05, 0.0023041970562189817, 0.6072311401367188, 0.32363152503967285, 0.02723090909421444, 0.03949393704533577, 0.0], [2.1664593077730387e-05, 0.00012647497351281345, 4.964838080923073e-05, 0.0024066960904747248, 0.0023508991580456495, 0.020529737696051598, 0.782459557056427, 0.19205531477928162, 0.0], [0.0005599394207820296, 0.00010555663175182417, 0.00013130948354955763, 0.0009993939893320203, 0.05077730491757393, 0.4700658917427063, 0.042220260947942734, 0.43514037132263184, 0.0]]], [[[8.303958020405844e-05, 0.00045802973909303546, 0.6344191431999207, 0.3594902753829956, 0.00041313315159641206, 4.909358176519163e-05, 3.317127266200259e-05, 0.00505418935790658, 0.0], [9.94117435766384e-05, 0.00030822868575342, 0.14333315193653107, 0.8101341128349304, 0.005412825383245945, 0.0007979609072208405, 0.0008332300349138677, 0.03908097743988037, 0.0], [0.0008439351804554462, 0.0005073638749308884, 0.003225651802495122, 0.007678693160414696, 0.044016383588314056, 0.05930463224649429, 0.042852189391851425, 0.8415711522102356, 0.0], [6.9977018029021565e-06, 7.0544692789553665e-06, 3.817864126176573e-05, 0.0001872024149633944, 0.002088044537231326, 0.6135746836662292, 0.06513376533985138, 0.3189640939235687, 0.0], [0.0002022504631895572, 0.0001800616446416825, 0.0010184049606323242, 0.0004654882359318435, 0.004194797482341528, 0.08300376683473587, 0.34374484419822693, 0.5671903491020203, 0.0], [0.0005025184946134686, 0.00022263688151724637, 0.0004722764133475721, 0.00020684821356553584, 0.02115972340106964, 0.009645074605941772, 0.24342963099479675, 0.7243613004684448, 0.0], [0.0002920632541645318, 0.00011137298861285672, 0.0014868649886921048, 0.0027934780810028315, 0.13478730618953705, 0.15147438645362854, 0.011259413324296474, 0.6977950930595398, 0.0], [0.0004634158394765109, 0.00035366922384127975, 0.0005724250222556293, 0.0029820187482982874, 0.015257163904607296, 0.028090260922908783, 0.018775001168251038, 0.9335060715675354, 0.0]], [[3.320156515716746e-23, 1.753024378870346e-42, 0.0, 4.949312894139179e-34, 1.0228310627710739e-32, 0.0, 0.0, 1.0, 0.0], [1.0, 1.5569644640396618e-14, 4.708061504909617e-34, 1.1312964555849148e-36, 2.8044066317327124e-24, 7.337345825592177e-15, 7.558626467785157e-12, 1.6251164199853656e-17, 0.0], [5.351795395736048e-13, 1.0, 2.423495015779764e-10, 3.1221999823659565e-31, 2.8673789566553704e-40, 4.61481587470812e-34, 1.011567178199427e-16, 3.4308548404749527e-18, 0.0], [1.0995008039512321e-30, 6.389876475165757e-12, 1.0, 1.0472758077417765e-11, 1.273877491573681e-30, 1.2202217350921962e-36, 4.440675729609835e-30, 1.1920435701004209e-18, 0.0], [2.950226569433877e-31, 1.1396327385005792e-24, 5.516814227668476e-10, 1.0, 1.3630813491816163e-11, 5.8308109495386485e-24, 5.62178762687538e-31, 4.30935042950832e-18, 0.0], [5.775648439804792e-29, 8.877259869012989e-32, 2.747376603121529e-22, 4.554547956558963e-07, 0.9999994039535522, 1.4561361183496047e-07, 4.98179651602185e-26, 4.956059588428611e-17, 0.0], [7.255849205091688e-22, 2.1863348569361956e-30, 1.0465107077021677e-34, 1.781120227130012e-25, 1.0631220348500392e-09, 1.0, 7.07249016296263e-12, 1.309020916191912e-15, 0.0], [3.5516581342598386e-10, 1.2206048671803416e-11, 2.2247682945854658e-21, 8.030154888286869e-27, 1.8435896146613575e-20, 8.212624180714556e-08, 0.9999998807907104, 3.0208432977296695e-10, 0.0]], [[1.4925663786510834e-12, 2.973661139549222e-08, 1.0, 1.0863349282630441e-11, 9.648418712504808e-19, 7.898294497077804e-22, 5.0501366394392795e-15, 1.5927288248453418e-18, 0.0], [0.003966598771512508, 0.0006263665854930878, 0.01661885716021061, 0.8813760280609131, 0.07575871795415878, 3.213249510736205e-05, 1.4652688150817994e-05, 0.021606706082820892, 0.0], [0.0028965016826987267, 0.006903514266014099, 0.00017037594807334244, 0.008614104241132736, 0.9310901165008545, 0.008424847386777401, 0.00012982673069927841, 0.04177069664001465, 0.0], [0.003325382713228464, 0.009293654933571815, 0.00011888312292285264, 0.0005409501609392464, 0.019843369722366333, 0.3582146167755127, 0.13471226394176483, 0.4739508628845215, 0.0], [0.00499991187825799, 0.03076176717877388, 0.0005779183702543378, 0.0005772458389401436, 0.0011529012117534876, 0.02590600587427616, 0.054285671561956406, 0.8817386031150818, 0.0], [0.0001745429472066462, 0.009581081569194794, 0.0009257992496713996, 0.0006180426571518183, 6.159138138173148e-05, 0.006234748288989067, 0.010881872847676277, 0.9715223908424377, 0.0], [0.010421025566756725, 0.0037722771521657705, 0.0005080779083073139, 0.004923800006508827, 0.0008982543367892504, 0.0009681376977823675, 0.0024330313317477703, 0.9760754108428955, 0.0], [0.03578194975852966, 0.02211397886276245, 0.000859519699588418, 0.004531601909548044, 0.01328878290951252, 0.004980397876352072, 0.0007898857002146542, 0.9176538586616516, 0.0]], [[0.014321085065603256, 0.9713633060455322, 0.004126136656850576, 0.0004668894980568439, 4.20401556766592e-05, 0.00023182785662356764, 0.0021056353580206633, 0.007343084551393986, 0.0], [1.2558801245177165e-05, 0.09409499913454056, 0.8787543177604675, 0.026324095204472542, 1.2585873321313557e-07, 5.165790906147549e-09, 1.9368310404388467e-06, 0.0008120558923110366, 0.0], [0.0005329828709363937, 0.00019937170145567507, 0.00646563433110714, 0.943354606628418, 0.03820733726024628, 8.766917744651437e-06, 1.67580736842865e-07, 0.01123116910457611, 0.0], [0.00029828501283191144, 1.014033045976248e-06, 1.252869651580113e-06, 0.01670464314520359, 0.8802095055580139, 0.08410198241472244, 4.2121869228139985e-06, 0.018679065629839897, 0.0], [0.000166643105330877, 2.061544819298433e-06, 4.6411642529164965e-07, 1.4243772966437973e-05, 0.00960821844637394, 0.9528911709785461, 0.022048769518733025, 0.015268497169017792, 0.0], [2.174552946598851e-06, 1.1216501661692746e-05, 4.494715994951548e-07, 5.6223001365651726e-08, 1.5568272146992967e-06, 0.0025540317874401808, 0.7207891941070557, 0.276641309261322, 0.0], [1.9212206098018214e-05, 0.0009519461309537292, 0.0008523825090378523, 5.120507012179587e-06, 1.530069759780872e-08, 3.728882802533917e-05, 0.015017140656709671, 0.983116865158081, 0.0], [1.1748184988391586e-05, 0.00020629122445825487, 0.0009174608276225626, 0.0026669122744351625, 1.5481464288313873e-05, 7.041134267637972e-06, 6.2681341660209e-05, 0.9961124062538147, 0.0]], [[0.22721914947032928, 0.7133192420005798, 0.012082063592970371, 0.02025415748357773, 0.0006029175710864365, 0.00012694575707428157, 0.01449616439640522, 0.011899355798959732, 0.0], [0.0005528015899471939, 0.5395759344100952, 0.3595610558986664, 0.0950116291642189, 7.804402412148193e-05, 1.9924062144127674e-05, 0.0014425134286284447, 0.0037581436336040497, 0.0], [0.0007482231594622135, 0.00788626354187727, 0.001985612092539668, 0.9416998028755188, 0.028070753440260887, 0.00040138931944966316, 0.0004218996618874371, 0.018786005675792694, 0.0], [0.0027716890908777714, 0.001239302451722324, 0.00022492579591926187, 0.29525527358055115, 0.2549198269844055, 0.0034466951619833708, 0.015619475394487381, 0.42652270197868347, 0.0], [0.00275228638201952, 0.0002165610931115225, 0.0030158155132085085, 0.16123084723949432, 0.10245484858751297, 0.03187140077352524, 0.18882128596305847, 0.5096369981765747, 0.0], [0.0012425233144313097, 0.007086172699928284, 0.00012235812027938664, 0.0008311104611493647, 0.01211222168058157, 0.07457426935434341, 0.30830055475234985, 0.5957307815551758, 0.0], [7.094175089150667e-05, 0.00047221287968568504, 0.0004923060769215226, 0.0013727180194109678, 0.0001335710403509438, 0.010334995575249195, 0.3656325042247772, 0.6214907765388489, 0.0], [0.0014253752306103706, 0.009689075872302055, 0.0030559159349650145, 0.023080876097083092, 0.0009323746780864894, 0.006358894985169172, 0.43069976568222046, 0.5247577428817749, 0.0]], [[0.8369686007499695, 0.04087137058377266, 0.07239875197410583, 0.0005168007337488234, 0.02130122110247612, 0.0060079083777964115, 4.898563929600641e-05, 0.02188628353178501, 0.0], [0.4922209680080414, 0.009624782018363476, 0.08532548695802689, 0.004664156120270491, 0.21067044138908386, 0.02175774984061718, 0.006733905989676714, 0.16900251805782318, 0.0], [0.0070970323868095875, 0.7134100794792175, 0.012090208008885384, 0.002196570159867406, 0.16438637673854828, 0.05037202686071396, 0.002975685754790902, 0.0474720299243927, 0.0], [0.0019322026055306196, 0.9483952522277832, 0.004034669138491154, 0.0006724167033098638, 0.023101454600691795, 0.007739033084362745, 0.0007327895727939904, 0.013392128981649876, 0.0], [0.12849530577659607, 0.4388194680213928, 0.11730464547872543, 0.036222197115421295, 0.01203598827123642, 0.01978951133787632, 0.041506096720695496, 0.20582683384418488, 0.0], [0.0019623993430286646, 0.1422194540500641, 0.20439490675926208, 0.24491001665592194, 0.06980331987142563, 0.020109549164772034, 0.012388430535793304, 0.30421194434165955, 0.0], [0.011901984922587872, 0.013978135772049427, 0.28252553939819336, 0.019812610000371933, 0.03230525180697441, 0.3319404423236847, 0.028687989339232445, 0.2788480520248413, 0.0], [0.062318988144397736, 0.021699946373701096, 0.02828778512775898, 0.04176076874136925, 0.11564944684505463, 0.23387378454208374, 0.1609281450510025, 0.33548107743263245, 0.0]], [[2.0907314311860786e-31, 2.800004038463719e-23, 1.0, 7.388056470027173e-26, 9.056591974931293e-41, 2.6100585196514043e-41, 1.7343164658811655e-30, 7.733096227731925e-30, 0.0], [4.496109498705776e-14, 7.053427052056995e-16, 7.950028829695199e-11, 1.0, 4.4769546292400264e-08, 4.4304311226325656e-26, 6.7934223117343226e-37, 4.319152649014044e-21, 0.0], [1.8099120292769388e-12, 6.593170291408629e-14, 1.0513411818809166e-17, 9.39848021630496e-09, 0.9999997615814209, 1.8547540037161525e-07, 2.6219072790259427e-21, 3.6842005090269173e-16, 0.0], [5.611858634041456e-13, 1.1294735085360871e-13, 6.6472593492898595e-21, 1.382282619267898e-20, 2.3999380260875114e-08, 0.9999549388885498, 4.5049964683130383e-05, 1.6720611561993337e-09, 0.0], [2.450218305159735e-13, 1.2855936747015878e-13, 8.558003172848111e-18, 1.932169834147534e-24, 4.9110323659209864e-20, 1.025126081799499e-07, 0.9999949932098389, 4.90776619699318e-06, 0.0], [1.5985344603564045e-08, 1.572629138024695e-08, 8.638600251797968e-11, 1.7398957071001305e-19, 4.242507074924064e-22, 2.2860611176961886e-14, 0.002402310026809573, 0.9975976347923279, 0.0], [0.0002052886557066813, 4.0555249142926186e-05, 2.4269345644256646e-08, 3.096853676276545e-11, 3.252242632102373e-14, 5.465608305153319e-18, 2.1076341355768385e-14, 0.9997541308403015, 0.0], [0.44430777430534363, 0.24988988041877747, 2.7725807285605697e-06, 0.0003497408179100603, 0.00578240305185318, 9.78297554077301e-10, 4.387963787894772e-13, 0.29966744780540466, 0.0]], [[0.45458903908729553, 0.19437330961227417, 0.006200903560966253, 0.00366047746501863, 0.011521878652274609, 0.0033437954261898994, 0.0014418185455724597, 0.3248688280582428, 0.0], [0.15661115944385529, 0.3062637150287628, 0.005062550771981478, 0.0025975292082875967, 0.0640949159860611, 0.012346300296485424, 0.004363748710602522, 0.44866007566452026, 0.0], [0.055707208812236786, 0.3597736954689026, 0.36000555753707886, 0.0017414186149835587, 0.0002033970959018916, 0.00021861745335627347, 0.02841712348163128, 0.19393296539783478, 0.0], [0.014055673032999039, 0.1928340196609497, 0.6610445976257324, 0.028036031872034073, 0.000734554894734174, 8.523866563336924e-05, 0.0008874867344275117, 0.10232242196798325, 0.0], [0.0012378802057355642, 0.06370356678962708, 0.19423136115074158, 0.1411409229040146, 0.49164071679115295, 0.023350995033979416, 0.002050620736554265, 0.08264387398958206, 0.0], [0.002841911045834422, 0.001219810452312231, 0.020752811804413795, 0.35839396715164185, 0.45209240913391113, 0.0786694660782814, 0.02372777834534645, 0.06230192258954048, 0.0], [0.025499429553747177, 0.008593697100877762, 0.0004351547104306519, 0.049856655299663544, 0.0573236458003521, 0.6360328793525696, 0.049076855182647705, 0.1731816530227661, 0.0], [0.01927778869867325, 0.021075870841741562, 0.0035123429261147976, 0.008086219429969788, 0.010531186126172543, 0.33025529980659485, 0.5304774641990662, 0.07678379863500595, 0.0]]], [[[7.389087841147557e-05, 0.00018483673920854926, 0.017145363613963127, 0.9672859907150269, 0.00803092960268259, 0.00013324899191502482, 2.450737611070508e-06, 0.007143145892769098, 0.0], [0.0007159642409533262, 8.724271538085304e-06, 4.924726454191841e-06, 0.013149140402674675, 0.9727029800415039, 0.012843707576394081, 1.4468737390416209e-05, 0.0005600799340754747, 0.0], [6.751815089955926e-05, 3.3156038625747897e-06, 5.139173026691424e-06, 2.356355616939254e-05, 0.0001681244175415486, 0.9470673203468323, 0.010642945766448975, 0.04202215000987053, 0.0], [9.380873234476894e-05, 8.118391269817948e-05, 7.105291297193617e-05, 1.3903932085668202e-05, 6.607372051803395e-05, 0.14275594055652618, 0.09304280579090118, 0.7638752460479736, 0.0], [0.00044628707109950483, 0.0002237749722553417, 0.0003362138522788882, 7.135028135962784e-05, 8.314997830893844e-05, 5.709955075872131e-05, 0.03927604481577873, 0.9595061540603638, 0.0], [0.00040171394357457757, 0.00010294782259734347, 0.00022081386123318225, 0.0001908851700136438, 0.0003428126801736653, 4.5177392166806385e-05, 0.004000674933195114, 0.9946950078010559, 0.0], [0.00032944019767455757, 0.0020932217594236135, 0.009451334364712238, 0.002701552351936698, 0.0018876196118071675, 0.00048679791507311165, 0.003706564661115408, 0.9793435335159302, 0.0], [0.004311613738536835, 0.049760252237319946, 0.05076131224632263, 0.0015431531937792897, 0.008114141412079334, 0.0047881221398711205, 0.0011211219243705273, 0.8796002864837646, 0.0]], [[0.0001555757480673492, 0.02354537509381771, 0.9695655107498169, 0.0016938339686021209, 0.0003597430477384478, 5.648019214277156e-05, 3.482020110823214e-05, 0.004588743206113577, 0.0], [0.00886713620275259, 0.00045898021198809147, 0.08102802187204361, 0.7521423697471619, 0.1301153600215912, 0.004625884350389242, 9.40397585509345e-05, 0.022668229416012764, 0.0], [0.003596572671085596, 0.0014362526126205921, 0.04188503324985504, 0.08458641916513443, 0.3955517113208771, 0.019933316856622696, 0.0024372392799705267, 0.4505734145641327, 0.0], [4.379510210128501e-05, 7.750539953121915e-05, 0.0006426554173231125, 0.0001566957653267309, 0.010328078642487526, 0.28647953271865845, 0.014964550733566284, 0.6873071789741516, 0.0], [7.376453868346289e-05, 0.0005609974032267928, 0.0005709349643439054, 5.1076051022391766e-05, 0.0006579761393368244, 0.3062829375267029, 0.011730212718248367, 0.6800720691680908, 0.0], [8.376649930141866e-05, 0.004260467365384102, 2.4473878511344083e-05, 5.718510874430649e-05, 0.0012396733509376645, 0.005003004334867001, 0.04369961842894554, 0.9456318020820618, 0.0], [0.0002651334216352552, 0.0026336635928601027, 0.0004006901872344315, 0.00027170320390723646, 0.003889610292389989, 0.0039796424098312855, 0.007921120151877403, 0.9806384444236755, 0.0], [8.679928578203544e-05, 8.718405297258869e-05, 0.0005419247318059206, 0.0028941058553755283, 0.01656409353017807, 0.010049262084066868, 0.0013848525704815984, 0.9683918356895447, 0.0]], [[0.0011447356082499027, 0.000758258393034339, 0.02420416846871376, 0.008180818520486355, 0.9409728050231934, 0.016671737655997276, 0.00013721946743316948, 0.00793026015162468, 0.0], [0.003029625630006194, 0.0001289485808229074, 0.0007539770449511707, 4.758034265250899e-05, 0.055457595735788345, 0.8457767963409424, 0.03476094454526901, 0.06004448980093002, 0.0], [0.23822589218616486, 0.0025991653092205524, 0.0011112162610515952, 0.0028898734599351883, 0.053590040653944016, 0.30996236205101013, 0.11830241978168488, 0.2733190357685089, 0.0], [0.002554656472057104, 0.00018717735656537116, 8.126594184432179e-05, 9.889399370877072e-05, 0.005337658803910017, 0.30331340432167053, 0.006661004852503538, 0.6817659735679626, 0.0], [0.014132223092019558, 0.0026239946018904448, 0.005524863488972187, 0.00038538710214197636, 0.002141763688996434, 0.02696489542722702, 0.0013085434911772609, 0.9469183087348938, 0.0], [1.8262477169628255e-05, 0.00013978316565044224, 0.00019481645722407848, 0.010756120085716248, 0.00034568452974781394, 0.0063945394940674305, 0.005606731865555048, 0.9765440225601196, 0.0], [0.0017334342701360583, 0.0018606499070301652, 0.011914708651602268, 0.03819660469889641, 0.043521780520677567, 0.005503169260919094, 0.034133121371269226, 0.8631365299224854, 0.0], [0.00011989558697678149, 0.0003836561809293926, 0.0006173258880153298, 0.04836275056004524, 0.0002253400016343221, 0.006375409197062254, 0.03317135199904442, 0.910744309425354, 0.0]], [[0.5946072340011597, 0.07358191162347794, 0.10419300943613052, 0.0027924389578402042, 0.02470078505575657, 0.041339676827192307, 0.032130662351846695, 0.12665437161922455, 0.0], [0.6817650198936462, 0.0016592732863500714, 0.18292683362960815, 0.00020163362205494195, 0.001099359360523522, 0.01772804744541645, 0.06422745436429977, 0.050392333418130875, 0.0], [0.18610893189907074, 0.262905091047287, 0.3304149806499481, 0.0013126201229169965, 0.00023909102310426533, 0.003951129969209433, 0.06811568886041641, 0.14695246517658234, 0.0], [0.009356766007840633, 0.049956366419792175, 0.8070741891860962, 0.004244897980242968, 0.0008157190168276429, 0.0038093936163932085, 0.0002798937784973532, 0.12446286529302597, 0.0], [0.00015346906729973853, 0.0002561802975833416, 0.9297688603401184, 0.0001971264136955142, 0.0012957631843164563, 0.004159581381827593, 0.0015764301642775536, 0.06259247660636902, 0.0], [0.008795167319476604, 0.06599617749452591, 0.038941506296396255, 0.03736996650695801, 0.04610184207558632, 0.17987202107906342, 0.027662979438900948, 0.5952603816986084, 0.0], [0.001514505478553474, 0.00033497827826067805, 0.07294032722711563, 0.17399603128433228, 0.028057653456926346, 0.3331230878829956, 0.07337392121553421, 0.31665951013565063, 0.0], [3.919710798072629e-05, 5.557649637921713e-05, 0.0003871880762744695, 0.0024558010045439005, 0.0069320593029260635, 0.9356045722961426, 0.041157316416502, 0.013368330895900726, 0.0]], [[0.03118288330733776, 0.004928924608975649, 0.002856712555512786, 0.017094716429710388, 0.5740852355957031, 0.2318606674671173, 0.04799288138747215, 0.08999807387590408, 0.0], [0.028844203799962997, 0.0735216960310936, 0.10611365735530853, 0.012229281477630138, 0.002467036945745349, 0.20064698159694672, 0.4064360558986664, 0.16974104940891266, 0.0], [0.0024970180820673704, 0.023319575935602188, 0.004790483508259058, 0.003018458839505911, 0.020417220890522003, 0.0071912542916834354, 0.0061948723159730434, 0.9325711727142334, 0.0], [0.0003687702992465347, 0.06000932678580284, 0.0037748145405203104, 8.014640479814261e-05, 0.007364333141595125, 0.011226193979382515, 0.0031919691246002913, 0.913984477519989, 0.0], [0.003153040772303939, 0.0946243405342102, 0.01608653925359249, 0.014727524481713772, 0.15896357595920563, 0.034834444522857666, 0.02395642362535, 0.6536540389060974, 0.0], [0.008907848969101906, 0.00479590380564332, 0.004141912329941988, 0.04339972138404846, 0.344364732503891, 0.055415306240320206, 0.016841234639286995, 0.5221332907676697, 0.0], [0.004773992113769054, 0.04370516538619995, 0.03020324744284153, 0.3648587763309479, 0.04509530961513519, 0.18965882062911987, 0.05564512312412262, 0.2660595774650574, 0.0], [0.0017588100163266063, 0.005316338036209345, 0.00165093457326293, 0.007444028742611408, 0.03846035152673721, 0.27331921458244324, 0.23760291934013367, 0.43444743752479553, 0.0]], [[0.3800463080406189, 0.09588269889354706, 0.04888692498207092, 0.35321006178855896, 0.009325656108558178, 0.0073829335160553455, 0.002924539614468813, 0.10234081000089645, 0.0], [0.006450660992413759, 0.6508159041404724, 0.029127202928066254, 0.05455219745635986, 0.037383925169706345, 0.08011039346456528, 0.01368830818682909, 0.12787137925624847, 0.0], [0.09280278533697128, 0.30105358362197876, 0.05586930736899376, 0.02979428321123123, 0.07162120193243027, 0.03816263750195503, 0.002794927451759577, 0.4079013168811798, 0.0], [0.07825402170419693, 0.03814546391367912, 0.005869808606803417, 0.18409591913223267, 0.1397310346364975, 0.05136391520500183, 0.02568894624710083, 0.47685086727142334, 0.0], [0.00976209994405508, 0.02773970365524292, 0.02185816317796707, 0.03366754576563835, 0.012674197554588318, 0.01569446176290512, 0.1118689477443695, 0.7667348980903625, 0.0], [0.0017581852152943611, 0.014965678565204144, 0.0021971301175653934, 0.011870733462274075, 0.018350515514612198, 0.037559155374765396, 0.1795579195022583, 0.7337406873703003, 0.0], [0.0014121875865384936, 0.01596442610025406, 0.004084124695509672, 0.011313002556562424, 0.004588492214679718, 0.007039682008326054, 0.5752949118614197, 0.38030320405960083, 0.0], [0.0021993471309542656, 0.001879208954051137, 0.002256444888189435, 0.0071674520149827, 0.015657849609851837, 0.11902080476284027, 0.5422948598861694, 0.3095241189002991, 0.0]], [[0.007850182242691517, 0.038843851536512375, 0.010465671308338642, 0.07710785418748856, 0.7324777841567993, 0.071357361972332, 0.0008022043621167541, 0.061095111072063446, 0.0], [0.5412281155586243, 0.030129045248031616, 0.004476552363485098, 0.006593718193471432, 0.24806061387062073, 0.05882202088832855, 0.00022165506379678845, 0.11046835035085678, 0.0], [0.07283319532871246, 0.16075390577316284, 0.02535463683307171, 0.016961297020316124, 0.10833167284727097, 0.004693308845162392, 0.07095987349748611, 0.5401120781898499, 0.0], [0.003838212927803397, 0.4320162832736969, 0.03613879904150963, 0.02094166725873947, 0.003826375352218747, 0.00038054698961786926, 0.007782851345837116, 0.4950753450393677, 0.0], [0.00024687734548933804, 0.00017281723557971418, 8.825142140267417e-05, 0.001242951606400311, 0.12043177336454391, 0.8538528084754944, 0.00011379204806871712, 0.023850707337260246, 0.0], [0.00010917446343228221, 0.015315345488488674, 0.0010660146363079548, 0.01418252196162939, 0.06842755526304245, 0.3275146782398224, 0.03760899603366852, 0.5357757210731506, 0.0], [0.00011476337385829538, 0.0059466902166605, 0.0002581612206995487, 0.0001122888206737116, 0.23565654456615448, 0.7033969163894653, 0.010168374516069889, 0.04434628412127495, 0.0], [0.0007671992643736303, 0.03165454789996147, 0.006348866969347, 0.004040963482111692, 0.011478368192911148, 0.13905125856399536, 0.5848493576049805, 0.221809521317482, 0.0]], [[1.0, 5.733228822246694e-11, 5.559591015387945e-19, 5.972086858316475e-18, 1.2913963301497411e-11, 3.903232598245765e-11, 4.2877598173396425e-12, 2.950732974780145e-16, 0.0], [8.01522459514814e-11, 1.0, 1.4930413572145085e-09, 8.810549504720917e-21, 9.490445800120843e-31, 3.0023574585061323e-26, 7.142279108367812e-19, 7.700240998217284e-16, 0.0], [2.890225411939509e-19, 4.431677464236672e-13, 1.0, 3.1546610484468884e-13, 4.307963092524704e-21, 1.053032041920437e-23, 4.0227049741323835e-26, 3.974852289970771e-19, 0.0], [9.332787270269886e-19, 4.246557991156562e-17, 2.781628660047941e-12, 1.0, 2.77756512234717e-10, 2.4044969946349752e-18, 1.5492021221355684e-23, 4.014316560007793e-20, 0.0], [1.708548172673179e-16, 2.6193440065738845e-17, 5.3575757047398106e-17, 6.59809053639264e-14, 1.0, 9.173371784410023e-11, 3.459980076638098e-18, 1.4402842355993716e-17, 0.0], [2.8746335823878755e-13, 4.9364953111038536e-15, 9.322253373323207e-17, 3.524310631199991e-14, 2.9645965682334463e-08, 0.9999873638153076, 1.2580043403431773e-05, 7.800410095626376e-09, 0.0], [9.694721692099506e-10, 5.007312381573314e-13, 4.606607605399025e-19, 1.0849487261493907e-15, 2.9453257943775596e-17, 1.3189995762274975e-08, 0.9999935626983643, 6.4383070821349975e-06, 0.0], [1.9852555723932338e-16, 2.3661230003440863e-19, 2.797675636615869e-22, 1.3795398824290766e-22, 1.6054585296481437e-25, 1.1035819802618562e-19, 8.033585459088499e-07, 0.9999991655349731, 0.0]]], [[[0.19031688570976257, 0.05635618418455124, 0.21342602372169495, 0.41150951385498047, 0.048131491988897324, 0.0050043268129229546, 0.006072225980460644, 0.06918340921401978, 0.0], [0.23892736434936523, 0.1591426432132721, 0.043724920600652695, 0.14379630982875824, 0.1610793173313141, 0.0035926245618611574, 0.010332263074815273, 0.23940441012382507, 0.0], [0.0018526989733800292, 0.6378689408302307, 0.0027949907816946507, 0.20212328433990479, 0.022355033084750175, 0.002889143070206046, 0.020742563530802727, 0.10937337577342987, 0.0], [0.0037511195987462997, 0.8817709684371948, 0.006136489566415548, 0.01000057253986597, 0.004086900502443314, 0.0012470940127968788, 0.00047114930930547416, 0.09253572672605515, 0.0], [0.009437701664865017, 0.0874919518828392, 0.035262078046798706, 0.0259880218654871, 0.26097571849823, 0.0415053591132164, 0.0044973767362535, 0.5348418354988098, 0.0], [0.0001551446330267936, 0.00111444725189358, 0.00029097404330968857, 0.002099487232044339, 0.02678961493074894, 0.8078405261039734, 0.0007866228697821498, 0.16092315316200256, 0.0], [0.0010923058725893497, 0.0038105903659015894, 0.0019215758657082915, 0.008487086743116379, 0.06722470372915268, 0.8236289620399475, 0.024423586204648018, 0.06941123306751251, 0.0], [0.00021877737890463322, 0.007560206577181816, 0.007140525616705418, 0.033290132880210876, 0.004167524632066488, 0.006254390813410282, 0.004351540468633175, 0.9370169043540955, 0.0]], [[0.8042213916778564, 0.14739274978637695, 0.026301363483071327, 0.001091811340302229, 0.0003648940473794937, 0.0028521614149212837, 0.006479669362306595, 0.011296051554381847, 0.0], [0.013180281966924667, 0.19335006177425385, 0.7296023964881897, 0.007627398706972599, 0.0008443295955657959, 0.0030926926992833614, 0.00220307894051075, 0.05009973794221878, 0.0], [0.03403918817639351, 0.019856907427310944, 0.6820119619369507, 0.005051499232649803, 0.03610434755682945, 0.01565518043935299, 0.004684914369136095, 0.2025960236787796, 0.0], [0.003450770163908601, 4.452902066987008e-05, 0.0037379481364041567, 0.011382412165403366, 0.886465311050415, 0.008172297850251198, 0.012985480017960072, 0.07376128435134888, 0.0], [9.56144358497113e-05, 0.005059308838099241, 0.00020961953850928694, 0.1907443404197693, 0.24877041578292847, 0.033791434019804, 0.024608198553323746, 0.4967210292816162, 0.0], [0.00040422199526801705, 0.00022336676192935556, 0.0006742557743564248, 0.03817295655608177, 0.013594458810985088, 0.01836007833480835, 0.5396302938461304, 0.38894039392471313, 0.0], [0.0007854605792090297, 0.05210943892598152, 0.0005485205329023302, 0.010313667356967926, 0.006361226551234722, 0.07936125248670578, 0.5899244546890259, 0.26059597730636597, 0.0], [6.795795343350619e-05, 0.0022816171403974295, 0.0003736183571163565, 0.004182174801826477, 0.07452012598514557, 0.02777234837412834, 0.17369286715984344, 0.7171092629432678, 0.0]], [[0.007692935410887003, 0.00399752939119935, 0.0011411471059545875, 0.0020718607120215893, 0.08523496985435486, 0.18942901492118835, 0.2565207779407501, 0.45391181111335754, 0.0], [0.417602002620697, 0.04681374877691269, 0.034044135361909866, 0.0021409750916063786, 0.0021652847062796354, 0.0034966226667165756, 0.04323503002524376, 0.4505021572113037, 0.0], [0.8196360468864441, 0.05221991240978241, 0.0011540661798790097, 0.00019447918748483062, 3.55439078703057e-05, 0.00029636608087457716, 0.01319813821464777, 0.11326558142900467, 0.0], [0.003377694170922041, 0.9532459378242493, 0.014504087157547474, 5.381244045565836e-05, 3.057803405681625e-05, 8.27415133244358e-05, 0.00012644531670957804, 0.028578558936715126, 0.0], [0.0047860099002718925, 0.021861927583813667, 0.8596840500831604, 0.031941331923007965, 0.0013374191476032138, 0.0003153043508064002, 0.008031765930354595, 0.07204212993383408, 0.0], [1.907961632241495e-05, 0.0008049689931795001, 0.020618515089154243, 0.006979007739573717, 0.965704083442688, 0.0028139902278780937, 0.0001340829039691016, 0.0029261831659823656, 0.0], [4.58808135590516e-05, 0.00013346178457140923, 0.0005058920360170305, 0.010072576813399792, 0.9638651609420776, 0.020654961466789246, 0.0017902115359902382, 0.0029319608584046364, 0.0], [0.00776778906583786, 0.0042463988065719604, 0.010800969786942005, 0.0008685981156304479, 0.0034572083968669176, 0.016618238762021065, 0.021212909370660782, 0.9350278377532959, 0.0]], [[0.0005855903145857155, 0.021940305829048157, 0.005230316426604986, 0.06755664199590683, 0.6626277565956116, 0.19704538583755493, 0.0003660171933006495, 0.044648073613643646, 0.0], [0.05090397596359253, 0.014694422483444214, 0.0012853853404521942, 0.1877734661102295, 0.039453521370887756, 0.26085764169692993, 0.25358155369758606, 0.19145002961158752, 0.0], [0.04052821546792984, 0.01111037191003561, 0.0012824659934267402, 0.022216252982616425, 0.01070824358612299, 0.12489235401153564, 0.4027133285999298, 0.3865487277507782, 0.0], [0.025513021275401115, 0.29819953441619873, 0.0030410888139158487, 0.06674982607364655, 0.006001316476613283, 0.04023488610982895, 0.03558943420648575, 0.5246708989143372, 0.0], [0.0015881662257015705, 0.000452730106189847, 0.08804752677679062, 0.770876407623291, 0.010722454637289047, 0.03425511345267296, 0.01043604128062725, 0.0836215615272522, 0.0], [0.0030006151646375656, 0.0003954817948397249, 0.07948968559503555, 0.31363821029663086, 0.16540341079235077, 0.012807316146790981, 0.09627803415060043, 0.3289872407913208, 0.0], [0.038395561277866364, 0.002136022550985217, 0.0480666309595108, 0.006050271913409233, 0.1007913127541542, 0.2934594750404358, 0.0648517981171608, 0.4462488889694214, 0.0], [0.0014668625080958009, 0.0028682411648333073, 0.004135538823902607, 0.003761031199246645, 0.013471661135554314, 0.11433155089616776, 0.01416054181754589, 0.8458045125007629, 0.0]], [[0.002086065011098981, 0.0008739082259126008, 4.871575583820231e-05, 0.02656523883342743, 0.9297987222671509, 0.03219643235206604, 0.0009638731717132032, 0.007466989569365978, 0.0], [0.00945251900702715, 0.0009552333503961563, 0.06676576286554337, 0.10082576423883438, 0.06742030382156372, 0.6961115598678589, 0.002295552985742688, 0.05617327615618706, 0.0], [0.007106429431587458, 0.058183133602142334, 0.006480040028691292, 0.07248245179653168, 0.13916617631912231, 0.26347222924232483, 0.010376746766269207, 0.4427328407764435, 0.0], [0.0042285798117518425, 0.01360626332461834, 0.11284241080284119, 0.06676279008388519, 0.005282111931592226, 0.01196527574211359, 0.010260951705276966, 0.7750515937805176, 0.0], [0.0018269874854013324, 0.025364793837070465, 0.030006753280758858, 0.0011039406526833773, 0.007259839214384556, 0.023827580735087395, 0.030237939208745956, 0.8803721070289612, 0.0], [0.009206150658428669, 0.06979722529649734, 0.0036759197246283293, 0.03794565051794052, 0.0021208066027611494, 0.009991351515054703, 0.10286719352006912, 0.7643956542015076, 0.0], [0.001744002103805542, 0.0002620310115162283, 7.440123590640724e-05, 0.8268464803695679, 0.005406086333096027, 0.0042334371246397495, 0.02755863033235073, 0.13387486338615417, 0.0], [0.000248890311922878, 0.0004356045392341912, 0.00044138176599517465, 0.0005218993173912168, 0.02876000665128231, 0.1281086653470993, 0.0031539788469672203, 0.838329553604126, 0.0]], [[0.4809638559818268, 0.06200280040502548, 0.31977567076683044, 0.03699755668640137, 0.01913449354469776, 0.030170224606990814, 0.017545387148857117, 0.0334099680185318, 0.0], [0.001499723643064499, 0.0018537385622039437, 0.9885352253913879, 0.0002620302839204669, 0.0025368030183017254, 0.001261524623259902, 5.060348485130817e-05, 0.004000382497906685, 0.0], [0.002782982774078846, 0.009603571146726608, 0.9371564388275146, 0.0066640544682741165, 0.00575321726500988, 0.0018892257940024137, 0.0003399498818907887, 0.035810455679893494, 0.0], [0.014806251041591167, 0.0063756247982382774, 0.7285807728767395, 0.0753532201051712, 0.041726455092430115, 0.009563030675053596, 0.0002598799765110016, 0.12333478778600693, 0.0], [0.0060701631009578705, 0.004103336948901415, 0.014256421476602554, 0.7112489342689514, 0.004450686741620302, 0.013808055780827999, 0.020533040165901184, 0.22552940249443054, 0.0], [0.008474349975585938, 0.000347627472365275, 0.014490523375570774, 0.007683593779802322, 0.012444308958947659, 0.03354951739311218, 0.4365140497684479, 0.4864960312843323, 0.0], [0.0011749840341508389, 0.0003804810403380543, 0.0026107942685484886, 0.0020046548452228308, 0.009237295016646385, 0.0011027205036953092, 0.7176320552825928, 0.2658570110797882, 0.0], [0.0004617109370883554, 0.0010871136328205466, 0.06465569138526917, 0.005535202566534281, 0.0003664027317427099, 0.001136696431785822, 0.0005128444172441959, 0.9262443780899048, 0.0]], [[0.9447973370552063, 0.02277621626853943, 0.000476761138997972, 0.00045792930177412927, 0.0003392330836504698, 0.012503514997661114, 0.0020782428327947855, 0.01657087355852127, 0.0], [0.036630768328905106, 0.6818385720252991, 0.04993118345737457, 0.019929450005292892, 0.017781198024749756, 0.0015374533832073212, 0.004527352284640074, 0.18782395124435425, 0.0], [0.0034910759422928095, 0.003908685874193907, 0.7892277836799622, 0.0400894470512867, 0.00039994073449634016, 0.0005891055334359407, 0.00047009263653308153, 0.1618238091468811, 0.0], [5.357561894925311e-05, 0.09485630691051483, 0.13003970682621002, 0.27620938420295715, 0.11193646490573883, 0.0033926786854863167, 0.0007355261477641761, 0.3827763497829437, 0.0], [0.0005649258382618427, 0.00016762936138547957, 0.005496910773217678, 0.02316073328256607, 0.9358853697776794, 0.015551019459962845, 0.001963932765647769, 0.01720951497554779, 0.0], [0.0001743649918353185, 0.00026397162582725286, 0.0005537564866244793, 0.01001782901585102, 0.009807792492210865, 0.9501947164535522, 0.009134943597018719, 0.019852591678500175, 0.0], [0.004863970912992954, 0.000829423195682466, 0.002116285264492035, 0.0008702304912731051, 0.016449423506855965, 0.15036529302597046, 0.7783400416374207, 0.04616537317633629, 0.0], [0.00011774768063332886, 0.0009915325790643692, 0.0004015913582406938, 0.006451683584600687, 0.009435107931494713, 0.02021257020533085, 0.19243022799491882, 0.7699595093727112, 0.0]], [[0.6433873772621155, 0.24268169701099396, 0.09077554941177368, 0.0018219721969217062, 0.0010428889654576778, 0.0042106821201741695, 0.002559361979365349, 0.013520573265850544, 0.0], [0.003021141979843378, 0.004264332354068756, 0.8072872161865234, 0.16601867973804474, 0.003302121302112937, 0.001720299245789647, 0.00044699941645376384, 0.013939144089818, 0.0], [0.05327906832098961, 0.03651052340865135, 0.023755772039294243, 0.16105523705482483, 0.15797720849514008, 0.12770159542560577, 0.01948995143175125, 0.4202306568622589, 0.0], [6.503221084130928e-05, 0.0001836946321418509, 0.00038909781142137945, 0.005309394560754299, 0.014411772601306438, 0.8739598989486694, 0.0007021737983450294, 0.10497882962226868, 0.0], [0.000541111861821264, 0.00011646219354588538, 4.5693537686020136e-05, 0.00023743764904793352, 0.0020989251788705587, 0.29383307695388794, 0.004551008343696594, 0.6985763311386108, 0.0], [0.0028776745311915874, 0.00023588670592289418, 0.0008867293945513666, 0.0008614144753664732, 0.00027755970950238407, 0.0028655657079070807, 0.24649973213672638, 0.7454953789710999, 0.0], [0.0024892115034163, 0.004186767153441906, 0.011498970910906792, 0.0007336905691772699, 0.008132646791636944, 0.003328865859657526, 0.013903788290917873, 0.9557260274887085, 0.0], [4.025368070870172e-06, 4.8460606194566935e-06, 1.2317179425735958e-05, 0.00018129055388271809, 0.0005112995859235525, 0.00036739339702762663, 0.0003194520832039416, 0.9985993504524231, 0.0]]]], \"left_text\": [\"T\", \"I\", \"V\", \"S\", \"L\", \"G\", \"V\", \"<eos>\"], \"right_text\": [\"Q\", \"K\", \"L\", \"V\", \"F\", \"F\", \"A\", \"<eos>\", \"<pad>\"]}], \"default_filter\": \"0\", \"root_div_id\": \"bertviz-3ddfaeebb36b479bbade7c9a432b0d82\", \"layer\": null, \"heads\": null, \"include_layers\": [0, 1, 2, 3]} is a template marker that is replaced by actual params.\n    const TEXT_SIZE = 15;\n    const BOXWIDTH = 110;\n    const BOXHEIGHT = 22.5;\n    const MATRIX_WIDTH = 115;\n    const CHECKBOX_SIZE = 20;\n    const TEXT_TOP = 30;\n\n    console.log(\"d3 version\", d3.version)\n    let headColors;\n    try {\n        headColors = d3.scaleOrdinal(d3.schemeCategory10);\n    } catch (err) {\n        console.log('Older d3 version')\n        headColors = d3.scale.category10();\n    }\n    let config = {};\n    initialize();\n    renderVis();\n\n    function initialize() {\n        config.attention = params['attention'];\n        config.filter = params['default_filter'];\n        config.rootDivId = params['root_div_id'];\n        config.nLayers = config.attention[config.filter]['attn'].length;\n        config.nHeads = config.attention[config.filter]['attn'][0].length;\n        config.layers = params['include_layers']\n\n        if (params['heads']) {\n            config.headVis = new Array(config.nHeads).fill(false);\n            params['heads'].forEach(x => config.headVis[x] = true);\n        } else {\n            config.headVis = new Array(config.nHeads).fill(true);\n        }\n        config.initialTextLength = config.attention[config.filter].right_text.length;\n        config.layer_seq = (params['layer'] == null ? 0 : config.layers.findIndex(layer => params['layer'] === layer));\n        config.layer = config.layers[config.layer_seq]\n\n        let layerEl = $(`#${config.rootDivId} #layer`);\n        for (const layer of config.layers) {\n            layerEl.append($(\"<option />\").val(layer).text(layer));\n        }\n        layerEl.val(config.layer).change();\n        layerEl.on('change', function (e) {\n            config.layer = +e.currentTarget.value;\n            config.layer_seq = config.layers.findIndex(layer => config.layer === layer);\n            renderVis();\n        });\n\n        $(`#${config.rootDivId} #filter`).on('change', function (e) {\n            config.filter = e.currentTarget.value;\n            renderVis();\n        });\n    }\n\n    function renderVis() {\n\n        // Load parameters\n        const attnData = config.attention[config.filter];\n        const leftText = attnData.left_text;\n        const rightText = attnData.right_text;\n\n        // Select attention for given layer\n        const layerAttention = attnData.attn[config.layer_seq];\n\n        // Clear vis\n        $(`#${config.rootDivId} #vis`).empty();\n\n        // Determine size of visualization\n        const height = Math.max(leftText.length, rightText.length) * BOXHEIGHT + TEXT_TOP;\n        const svg = d3.select(`#${config.rootDivId} #vis`)\n            .append('svg')\n            .attr(\"width\", \"100%\")\n            .attr(\"height\", height + \"px\");\n\n        // Display tokens on left and right side of visualization\n        renderText(svg, leftText, true, layerAttention, 0);\n        renderText(svg, rightText, false, layerAttention, MATRIX_WIDTH + BOXWIDTH);\n\n        // Render attention arcs\n        renderAttention(svg, layerAttention);\n\n        // Draw squares at top of visualization, one for each head\n        drawCheckboxes(0, svg, layerAttention);\n    }\n\n    function renderText(svg, text, isLeft, attention, leftPos) {\n\n        const textContainer = svg.append(\"svg:g\")\n            .attr(\"id\", isLeft ? \"left\" : \"right\");\n\n        // Add attention highlights superimposed over words\n        textContainer.append(\"g\")\n            .classed(\"attentionBoxes\", true)\n            .selectAll(\"g\")\n            .data(attention)\n            .enter()\n            .append(\"g\")\n            .attr(\"head-index\", (d, i) => i)\n            .selectAll(\"rect\")\n            .data(d => isLeft ? d : transpose(d)) // if right text, transpose attention to get right-to-left weights\n            .enter()\n            .append(\"rect\")\n            .attr(\"x\", function () {\n                var headIndex = +this.parentNode.getAttribute(\"head-index\");\n                return leftPos + boxOffsets(headIndex);\n            })\n            .attr(\"y\", (+1) * BOXHEIGHT)\n            .attr(\"width\", BOXWIDTH / activeHeads())\n            .attr(\"height\", BOXHEIGHT)\n            .attr(\"fill\", function () {\n                return headColors(+this.parentNode.getAttribute(\"head-index\"))\n            })\n            .style(\"opacity\", 0.0);\n\n        const tokenContainer = textContainer.append(\"g\").selectAll(\"g\")\n            .data(text)\n            .enter()\n            .append(\"g\");\n\n        // Add gray background that appears when hovering over text\n        tokenContainer.append(\"rect\")\n            .classed(\"background\", true)\n            .style(\"opacity\", 0.0)\n            .attr(\"fill\", \"lightgray\")\n            .attr(\"x\", leftPos)\n            .attr(\"y\", (d, i) => TEXT_TOP + i * BOXHEIGHT)\n            .attr(\"width\", BOXWIDTH)\n            .attr(\"height\", BOXHEIGHT);\n\n        // Add token text\n        const textEl = tokenContainer.append(\"text\")\n            .text(d => d)\n            .attr(\"font-size\", TEXT_SIZE + \"px\")\n            .style(\"cursor\", \"default\")\n            .style(\"-webkit-user-select\", \"none\")\n            .attr(\"x\", leftPos)\n            .attr(\"y\", (d, i) => TEXT_TOP + i * BOXHEIGHT);\n\n        if (isLeft) {\n            textEl.style(\"text-anchor\", \"end\")\n                .attr(\"dx\", BOXWIDTH - 0.5 * TEXT_SIZE)\n                .attr(\"dy\", TEXT_SIZE);\n        } else {\n            textEl.style(\"text-anchor\", \"start\")\n                .attr(\"dx\", +0.5 * TEXT_SIZE)\n                .attr(\"dy\", TEXT_SIZE);\n        }\n\n        tokenContainer.on(\"mouseover\", function (d, index) {\n\n            // Show gray background for moused-over token\n            textContainer.selectAll(\".background\")\n                .style(\"opacity\", (d, i) => i === index ? 1.0 : 0.0)\n\n            // Reset visibility attribute for any previously highlighted attention arcs\n            svg.select(\"#attention\")\n                .selectAll(\"line[visibility='visible']\")\n                .attr(\"visibility\", null)\n\n            // Hide group containing attention arcs\n            svg.select(\"#attention\").attr(\"visibility\", \"hidden\");\n\n            // Set to visible appropriate attention arcs to be highlighted\n            if (isLeft) {\n                svg.select(\"#attention\").selectAll(\"line[left-token-index='\" + index + \"']\").attr(\"visibility\", \"visible\");\n            } else {\n                svg.select(\"#attention\").selectAll(\"line[right-token-index='\" + index + \"']\").attr(\"visibility\", \"visible\");\n            }\n\n            // Update color boxes superimposed over tokens\n            const id = isLeft ? \"right\" : \"left\";\n            const leftPos = isLeft ? MATRIX_WIDTH + BOXWIDTH : 0;\n            svg.select(\"#\" + id)\n                .selectAll(\".attentionBoxes\")\n                .selectAll(\"g\")\n                .attr(\"head-index\", (d, i) => i)\n                .selectAll(\"rect\")\n                .attr(\"x\", function () {\n                    const headIndex = +this.parentNode.getAttribute(\"head-index\");\n                    return leftPos + boxOffsets(headIndex);\n                })\n                .attr(\"y\", (d, i) => TEXT_TOP + i * BOXHEIGHT)\n                .attr(\"width\", BOXWIDTH / activeHeads())\n                .attr(\"height\", BOXHEIGHT)\n                .style(\"opacity\", function (d) {\n                    const headIndex = +this.parentNode.getAttribute(\"head-index\");\n                    if (config.headVis[headIndex])\n                        if (d) {\n                            return d[index];\n                        } else {\n                            return 0.0;\n                        }\n                    else\n                        return 0.0;\n                });\n        });\n\n        textContainer.on(\"mouseleave\", function () {\n\n            // Unhighlight selected token\n            d3.select(this).selectAll(\".background\")\n                .style(\"opacity\", 0.0);\n\n            // Reset visibility attributes for previously selected lines\n            svg.select(\"#attention\")\n                .selectAll(\"line[visibility='visible']\")\n                .attr(\"visibility\", null) ;\n            svg.select(\"#attention\").attr(\"visibility\", \"visible\");\n\n            // Reset highlights superimposed over tokens\n            svg.selectAll(\".attentionBoxes\")\n                .selectAll(\"g\")\n                .selectAll(\"rect\")\n                .style(\"opacity\", 0.0);\n        });\n    }\n\n    function renderAttention(svg, attention) {\n\n        // Remove previous dom elements\n        svg.select(\"#attention\").remove();\n\n        // Add new elements\n        svg.append(\"g\")\n            .attr(\"id\", \"attention\") // Container for all attention arcs\n            .selectAll(\".headAttention\")\n            .data(attention)\n            .enter()\n            .append(\"g\")\n            .classed(\"headAttention\", true) // Group attention arcs by head\n            .attr(\"head-index\", (d, i) => i)\n            .selectAll(\".tokenAttention\")\n            .data(d => d)\n            .enter()\n            .append(\"g\")\n            .classed(\"tokenAttention\", true) // Group attention arcs by left token\n            .attr(\"left-token-index\", (d, i) => i)\n            .selectAll(\"line\")\n            .data(d => d)\n            .enter()\n            .append(\"line\")\n            .attr(\"x1\", BOXWIDTH)\n            .attr(\"y1\", function () {\n                const leftTokenIndex = +this.parentNode.getAttribute(\"left-token-index\")\n                return TEXT_TOP + leftTokenIndex * BOXHEIGHT + (BOXHEIGHT / 2)\n            })\n            .attr(\"x2\", BOXWIDTH + MATRIX_WIDTH)\n            .attr(\"y2\", (d, rightTokenIndex) => TEXT_TOP + rightTokenIndex * BOXHEIGHT + (BOXHEIGHT / 2))\n            .attr(\"stroke-width\", 2)\n            .attr(\"stroke\", function () {\n                const headIndex = +this.parentNode.parentNode.getAttribute(\"head-index\");\n                return headColors(headIndex)\n            })\n            .attr(\"left-token-index\", function () {\n                return +this.parentNode.getAttribute(\"left-token-index\")\n            })\n            .attr(\"right-token-index\", (d, i) => i)\n        ;\n        updateAttention(svg)\n    }\n\n    function updateAttention(svg) {\n        svg.select(\"#attention\")\n            .selectAll(\"line\")\n            .attr(\"stroke-opacity\", function (d) {\n                const headIndex = +this.parentNode.parentNode.getAttribute(\"head-index\");\n                // If head is selected\n                if (config.headVis[headIndex]) {\n                    // Set opacity to attention weight divided by number of active heads\n                    return d / activeHeads()\n                } else {\n                    return 0.0;\n                }\n            })\n    }\n\n    function boxOffsets(i) {\n        const numHeadsAbove = config.headVis.reduce(\n            function (acc, val, cur) {\n                return val && cur < i ? acc + 1 : acc;\n            }, 0);\n        return numHeadsAbove * (BOXWIDTH / activeHeads());\n    }\n\n    function activeHeads() {\n        return config.headVis.reduce(function (acc, val) {\n            return val ? acc + 1 : acc;\n        }, 0);\n    }\n\n    function drawCheckboxes(top, svg) {\n        const checkboxContainer = svg.append(\"g\");\n        const checkbox = checkboxContainer.selectAll(\"rect\")\n            .data(config.headVis)\n            .enter()\n            .append(\"rect\")\n            .attr(\"fill\", (d, i) => headColors(i))\n            .attr(\"x\", (d, i) => i * CHECKBOX_SIZE)\n            .attr(\"y\", top)\n            .attr(\"width\", CHECKBOX_SIZE)\n            .attr(\"height\", CHECKBOX_SIZE);\n\n        function updateCheckboxes() {\n            checkboxContainer.selectAll(\"rect\")\n                .data(config.headVis)\n                .attr(\"fill\", (d, i) => d ? headColors(i): lighten(headColors(i)));\n        }\n\n        updateCheckboxes();\n\n        checkbox.on(\"click\", function (d, i) {\n            if (config.headVis[i] && activeHeads() === 1) return;\n            config.headVis[i] = !config.headVis[i];\n            updateCheckboxes();\n            updateAttention(svg);\n        });\n\n        checkbox.on(\"dblclick\", function (d, i) {\n            // If we double click on the only active head then reset\n            if (config.headVis[i] && activeHeads() === 1) {\n                config.headVis = new Array(config.nHeads).fill(true);\n            } else {\n                config.headVis = new Array(config.nHeads).fill(false);\n                config.headVis[i] = true;\n            }\n            updateCheckboxes();\n            updateAttention(svg);\n        });\n    }\n\n    function lighten(color) {\n        const c = d3.hsl(color);\n        const increment = (1 - c.l) * 0.6;\n        c.l += increment;\n        c.s -= increment;\n        return c;\n    }\n\n    function transpose(mat) {\n        return mat[0].map(function (col, i) {\n            return mat.map(function (row) {\n                return row[i];\n            });\n        });\n    }\n\n});",
      "text/plain": [
       "<IPython.core.display.Javascript object>"
      ]
     },
     "metadata": {},
     "output_type": "display_data"
    }
   ],
   "source": [
    "from bertviz import head_view\n",
    "head_view(\n",
    "\tencoder_attention=encoder_self_attention, \n",
    "\tdecoder_attention=decoder_self_attention,\n",
    "\tcross_attention=decoder_encoder_attention, \n",
    "\tencoder_tokens=encoder_text,\n",
    "\tdecoder_tokens=decoder_text, \n",
    ")"
   ]
  },
  {
   "cell_type": "markdown",
   "metadata": {},
   "source": [
    "neuron view requires access to key, value and query information. It is not currently available."
   ]
  },
  {
   "cell_type": "markdown",
   "metadata": {},
   "source": [
    "#### Probability interpretation"
   ]
  },
  {
   "cell_type": "markdown",
   "metadata": {},
   "source": [
    "\"Given the target sequence, if such a target-peptide $\\beta$-strand interaction exists in nature, the probality of generated sequence being such a peptide.\""
   ]
  },
  {
   "cell_type": "markdown",
   "metadata": {},
   "source": [
    "#### Probability quality guidance"
   ]
  },
  {
   "cell_type": "markdown",
   "metadata": {},
   "source": [
    "Training data are labeled with probability: $0.9^{(l+1)}$. <br>\n",
    "Training data length 8 labeled probability: $0.9^{9} = 0.387420489$ <br>\n",
    "Random data length 8 labeled probability with special token: $ (\\frac{1}{24}) ^{9} = 3.7852871 \\times 10^{-13} $ <br>\n",
    "Random data length 8 labeled probability without special token: $(\\frac{1}{20}) ^{9} = 1.953125 \\times 10^{-12} $"
   ]
  },
  {
   "cell_type": "markdown",
   "metadata": {},
   "source": [
    "#### Number of parameters calculation "
   ]
  },
  {
   "cell_type": "markdown",
   "metadata": {},
   "source": [
    "N: number of layers <br>\n",
    "H: hidden dimensions\n",
    "\n",
    "Encoder embedding: $24 \\times H$ <br>\n",
    "\n",
    "Encoder self attention -- key projection, value projection, query projection, final projection: $H^{2} \\times 4$ <br>\n",
    "Encoder pointwise MLP: $H \\times 4H \\times 2 = H^{2} \\times 8$\n",
    "\n",
    "Decoder embedding: $24 \\times H$ <br>\n",
    "\n",
    "Decoder self attention -- key projection, value projection, query projection, final projection: $H^{2} \\times 4$ <br>\n",
    "Decoder-encoder attention -- key projection, value projection, query projection, final projection: $H^{2} \\times 4$ <br>\n",
    "Decoder pointwise MLP: $H \\times 4H \\times 2 = H^{2} \\times 8$\n",
    "\n",
    "Ouput Projection: $H \\times 24$ \n",
    "\n",
    "Total parameters: $24 \\times H + (H^{2} \\times 4 + H^{2} \\times 8) \\times N + 24 \\times H + (H^{2} \\times 4 + H^{2} \\times 4 + H^{2} \\times 8) \\times N + H \\times 24  $ <br> \n",
    "$ = 28 \\times H^{2} \\times N + 72 \\times H$"
   ]
  },
  {
   "cell_type": "markdown",
   "metadata": {},
   "source": [
    "#### Potential problems"
   ]
  },
  {
   "cell_type": "markdown",
   "metadata": {},
   "source": [
    "1. Positional encoding failed to work in predict sequences------------- fixed \n",
    "2. 'bos', 'eos' not trained? ------------------------------------------ fixed \n",
    "3. Ramdomize each batch ----------------------------------------------- fixed \n",
    "4. Softmax in prediction ---------------------------------------------- fixed \n",
    "5. write functions for training-preposessing -------------------------- fixed\n",
    "6. write functions for prediction ------------------------------------- fixed\n",
    "7. label smoothing: alter learning truth distribution ----------------- fixed \n",
    "8. weighting of each sample: sample weights in loss ------------------- fixed\n",
    "9. adjust learning rate ----------------------------------------------- not changed since adam is insensitive to learning rate\n",
    "10. loss shown too small ---------------------------------------------- fixed \n",
    "11. batch size and training steps and all other hyperparameter--------- set"
   ]
  },
  {
   "cell_type": "markdown",
   "metadata": {},
   "source": [
    "#### Things to do"
   ]
  },
  {
   "cell_type": "markdown",
   "metadata": {},
   "source": [
    "1. Assigne weights to each sample ------------------------------- done \n",
    "2. hyperparameter for base model training ----------------------- done \n",
    "3. train on imperial GPU ---------------------------------------- done \n",
    "4. Write sampling sequence + prob function ---------------------- moved \n",
    "5. Write functions for prob of pair sequences ------------------- moved\n",
    "6. Consider anti para / para condition -------------------------- ignore this condition + ignore hb_pattern for now\n",
    "7. save model parameters with current time ---------------------- done \n",
    "8. check GPU availablity ---------------------------------------- done\n",
    "9. Request a notebook for longer or more GPU on jupyter? 100epochs==50hours for 1 GPU  ---- done \n",
    "10. Save loss plots --------------------------------------------- done \n",
    "11. Convert jupyter notebook to scriptfor trainning ------------- done \n",
    "12. Lean how to train on one GPU on imperial cluster ------------ done\n",
    "13. Embedding and linear initialization adjust ------------------ done \n",
    "14. Examine on both training and validation --------------------- done \n",
    "15. Hamming distance systematically lower (valida) -------------- done \n",
    "16. Prob of training model comple peptides by model systemtically higher than random comple peptides (train)\n",
    "17. Write sampling sequence + prob function --------------------- done \n",
    "18. Write functions for prob of pair sequences\n",
    "19. Extract attention weights to view correlation\n",
    "20. Maybe train a base line version with only equal weights length 7 and 8 ---- not now\n",
    "21. try to predict binding energy \n",
    "22. Track validation loss or find another good metric ----------- done\n",
    "23. clean notebook ---------------------------------------------- done \n",
    "24. maybe data augmentation or alphafold to add high quality model\n",
    "25. batch sampling procedure and batch prediction---------------- done \n",
    "26. try gated attention from alphafold2\n",
    "27. try data augmentation and expand dataset from alphafold2\n",
    "28. try bidirectional mask from BERT alphafold2\n"
   ]
  },
  {
   "cell_type": "markdown",
   "metadata": {},
   "source": [
    "#### HPC version tracker"
   ]
  },
  {
   "cell_type": "markdown",
   "metadata": {},
   "source": [
    "1. model_base: 13072022_UROP_model_base_modified\n",
    "2. model_wide: 14072022_UROP_model_wide\n",
    "3. model_base_validation: 17072022_UROP_model_base_validation\n",
    "4. model_wide_validation: 17072022_UROP_model_wide_validation"
   ]
  }
 ],
 "metadata": {
  "kernelspec": {
   "display_name": "Python 3.10.4 ('pt')",
   "language": "python",
   "name": "python3"
  },
  "language_info": {
   "codemirror_mode": {
    "name": "ipython",
    "version": 3
   },
   "file_extension": ".py",
   "mimetype": "text/x-python",
   "name": "python",
   "nbconvert_exporter": "python",
   "pygments_lexer": "ipython3",
   "version": "3.10.4"
  },
  "orig_nbformat": 4,
  "vscode": {
   "interpreter": {
    "hash": "78bf9874701a3957232b8c741c196d0ac3fa790968bd4270c0e2fd5bdf999274"
   }
  }
 },
 "nbformat": 4,
 "nbformat_minor": 2
}
