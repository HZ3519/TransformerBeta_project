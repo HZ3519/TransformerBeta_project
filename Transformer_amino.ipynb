{
 "cells": [
  {
   "cell_type": "code",
   "execution_count": 1,
   "metadata": {},
   "outputs": [],
   "source": [
    "import math\n",
    "import torch\n",
    "from torch import nn\n",
    "# from d2l import torch as d2l\n",
    "import pandas as pd\n",
    "import pickle\n",
    "import numpy as np "
   ]
  },
  {
   "cell_type": "markdown",
   "metadata": {},
   "source": [
    "#### Check GPU availability"
   ]
  },
  {
   "cell_type": "code",
   "execution_count": 7,
   "metadata": {},
   "outputs": [
    {
     "name": "stdout",
     "output_type": "stream",
     "text": [
      "GPU availability: False\n",
      "Number of GPU available: 0\n"
     ]
    }
   ],
   "source": [
    "print(\"GPU availability: {}\".format(torch.cuda.is_available()))\n",
    "print(\"Number of GPU available: {}\".format(torch.cuda.device_count()))"
   ]
  },
  {
   "cell_type": "code",
   "execution_count": 9,
   "metadata": {},
   "outputs": [],
   "source": [
    "# Request gpu even not available\n",
    "# device = ...\n",
    "\n",
    "def try_gpu(i=0):  #@save\n",
    "    \"\"\"Return gpu(i) if exists, otherwise return cpu().\"\"\"\n",
    "    if torch.cuda.device_count() >= i + 1:\n",
    "        return torch.device(f'cuda:{i}')\n",
    "    return torch.device('cpu')\n",
    "\n",
    "def try_all_gpus():  #@save\n",
    "    \"\"\"Return all available GPUs, or [cpu(),] if no GPU exists.\"\"\"\n",
    "    devices = [torch.device(f'cuda:{i}')\n",
    "             for i in range(torch.cuda.device_count())]\n",
    "    return devices if devices else [torch.device('cpu')]"
   ]
  },
  {
   "cell_type": "markdown",
   "metadata": {},
   "source": [
    "#### Heatmap"
   ]
  },
  {
   "cell_type": "code",
   "execution_count": 371,
   "metadata": {},
   "outputs": [],
   "source": [
    "def show_heatmaps(matrices, xlabel, ylabel, titles=None, figsize=(2.5, 2.5), cmap=\"Reds\"):\n",
    "\td2l.use_svg_display()\n",
    "\tnum_rows, num_cols = matrices.shape[0], matrices.shape[1]\n",
    "\tfig, axes = d2l.plt.subplots(num_rows, num_cols, figsize=figsize, sharex=True, sharey=True, squeeze=False) # shape0, shape1 -- number of subplots\n",
    "\n",
    "\tfor i, (row_axes, row_matrices) in enumerate(zip(axes, matrices)): # row_axes seperate out first dimension -- (1, 1, 10, 10) to (1, 10, 10)\n",
    "\t\tfor j, (ax, matrix) in enumerate(zip(row_axes, row_matrices)): # ax seperate out second dimension -- (1, 10, 10) to (10, 10)\n",
    "\t\t\tpcm = ax.imshow(matrix.detach().numpy(), cmap=cmap)\n",
    "\t\t\tif i == num_rows - 1:\n",
    "\t\t\t\tax.set_xlabel(xlabel) # we may have (row, col) subplots -- we set xlabel at once at the bottom\n",
    "\t\t\tif j == 0:\n",
    "\t\t\t\tax.set_ylabel(ylabel)\n",
    "\t\t\tif titles:\n",
    "\t\t\t\tax.set_title(titles[j]) # a list a subtitles\n",
    "\tfig.colorbar(pcm, ax=axes, shrink=0.6)"
   ]
  },
  {
   "cell_type": "markdown",
   "metadata": {},
   "source": [
    "#### Masked sequence"
   ]
  },
  {
   "cell_type": "code",
   "execution_count": 372,
   "metadata": {},
   "outputs": [],
   "source": [
    "# X: (5, 10)\n",
    "# value: [1, 5, 3, 6, 2] -- matching the rows \n",
    "\n",
    "def sequence_mask(X, valid_len, value=0):\n",
    "\t\"\"\"Mask irrelevant entries in sequences.\"\"\"\n",
    "\n",
    "\tmaxlen = X.size(1)\n",
    "\tmask = torch.arange((maxlen), dtype=torch.float32, device=X.device)[None, :] < valid_len[:, None]\n",
    "\t#print(mask)\n",
    "\n",
    "\tX[~mask] = value # set the masked elements to value \n",
    "\treturn X"
   ]
  },
  {
   "cell_type": "markdown",
   "metadata": {},
   "source": [
    "#### Masked softmax operation"
   ]
  },
  {
   "cell_type": "code",
   "execution_count": 373,
   "metadata": {},
   "outputs": [],
   "source": [
    "# X: (2, 3, 4) -- attention weights\n",
    "# valid lens: specify how many elements to mask in each minibatch \n",
    "# valid lens (high dim): specify how to mask each minibatch \n",
    "def masked_softmax(X, valid_lens):\n",
    "\t\"\"\"Perform softmax operation by masking elements on the last axis\"\"\"\n",
    "\n",
    "\tif valid_lens == None:\n",
    "\t\treturn nn.functional.softmax(X, dim=-1)\n",
    "\telse:\n",
    "\t\tshape = X.shape\n",
    "\t\tif valid_lens.dim() == 1:\n",
    "\t\t\t# \n",
    "\t\t\tvalid_lens = torch.repeat_interleave(valid_lens, shape[1])\n",
    "\t\telse:\n",
    "\t\t\tvalid_lens = valid_lens.reshape(-1)\n",
    "\t\tX = sequence_mask(X.reshape(-1, shape[-1]), valid_lens, value=-1e6)\n",
    "\n",
    "\t\treturn nn.functional.softmax(X.reshape(shape), dim=-1)"
   ]
  },
  {
   "cell_type": "markdown",
   "metadata": {},
   "source": [
    "#### Positional encoding"
   ]
  },
  {
   "cell_type": "code",
   "execution_count": 374,
   "metadata": {},
   "outputs": [],
   "source": [
    "class PositionalEncoding(nn.Module):\n",
    "\t\"\"\"Position encoding X+P with dropout\"\"\"\n",
    "\n",
    "\tdef __init__(self, num_hiddens, dropout, max_len=1000):\n",
    "\t\tsuper(PositionalEncoding, self).__init__()\n",
    "\t\tself.dropout = nn.Dropout(dropout)\n",
    "\n",
    "\t\t# create a single batch_size 1, long enough P, longer than sequence length\n",
    "\t\tself.P = torch.zeros((1, max_len, num_hiddens))\n",
    "\t\tX = torch.arange(max_len, dtype=torch.float32).reshape(-1, 1) / torch.pow(10000, torch.arange(0, num_hiddens, 2, dtype=torch.float32)/num_hiddens)\n",
    "\t\tself.P[:, :, 0::2] = torch.sin(X)\n",
    "\t\tself.P[:, :, 1::2] = torch.cos(X)\n",
    "\n",
    "\tdef forward(self, X):\n",
    "\t\tX = X + self.P[:, :X.shape[1], :].to(X.device)\n",
    "\t\treturn self.dropout(X)"
   ]
  },
  {
   "cell_type": "markdown",
   "metadata": {},
   "source": [
    "#### Scaled dot-product attention"
   ]
  },
  {
   "cell_type": "code",
   "execution_count": 375,
   "metadata": {},
   "outputs": [],
   "source": [
    "class DotProductAttention(nn.Module):\n",
    "\t\"\"\"\"Scaled dot product attention with dropout\"\"\"\n",
    "\n",
    "\tdef __init__(self, dropout, **kwargs):\n",
    "\t\tsuper(DotProductAttention, self).__init__(**kwargs)\n",
    "\t\tself.dropout = nn.Dropout(dropout)\n",
    "\n",
    "\t\t# query: (batch_size, no. of queries, 'd')\n",
    "\t\t# key: (batch_size, no. of key-value pairs, 'd')\n",
    "\t\t# value: (batch_size, no. of key-value pairs, d_value)\n",
    "\t\t# valid_lens: (batch_size, ) or (batch_size, no. of queries)\n",
    "\t\n",
    "\tdef forward(self, queries, keys, values, valid_lens=None):\n",
    "\t\td = queries.shape[-1]\n",
    "\n",
    "\t\tscores = torch.bmm(queries, keys.transpose(1, 2)) / math.sqrt(d)\n",
    "\t\tself.attention_weights = masked_softmax(scores, valid_lens)\n",
    "\t\treturn torch.bmm(self.dropout(self.attention_weights), values)"
   ]
  },
  {
   "cell_type": "markdown",
   "metadata": {},
   "source": [
    "#### Multi-head attention"
   ]
  },
  {
   "cell_type": "code",
   "execution_count": 376,
   "metadata": {},
   "outputs": [],
   "source": [
    "def transpose_qkv(X, num_heads):\n",
    "\t\"\"\"Transposition for parallel computation of multiple attention heads\"\"\"\n",
    "\n",
    "\tX = X.reshape(X.shape[0], X.shape[1], num_heads, -1)\n",
    "\tX = X.permute(0, 2, 1, 3)\n",
    "\n",
    "\treturn X.reshape(-1, X.shape[2], X.shape[3])\n",
    "\n",
    "def transpose_output(X, num_heads):\n",
    "\t\"\"\"Reverse the operation of transpose_qkv\"\"\"\n",
    "\n",
    "\tX = X.reshape(-1, num_heads, X.shape[1], X.shape[2])\n",
    "\tX = X.permute(0, 2, 1, 3)\n",
    "\n",
    "\treturn X.reshape(X.shape[0], X.shape[1], -1)"
   ]
  },
  {
   "cell_type": "code",
   "execution_count": 377,
   "metadata": {},
   "outputs": [],
   "source": [
    "# valid_lens: (batch_size, ) or (batch_size, no. of queries)\n",
    "# Note: the mask (valid_len) used here, I copy it num_heads times\n",
    "\n",
    "class MultiHeadAttention(nn.Module):\n",
    "\t\"\"\"Multi-head attention\"\"\"\n",
    "\n",
    "\tdef __init__(self, key_size, query_size, value_size, num_hiddens, num_heads, dropout, use_bias=False, **kwargs):\n",
    "\t\tsuper(MultiHeadAttention, self).__init__(**kwargs)\n",
    "\t\tself.num_heads = num_heads\n",
    "\t\tself.attention = DotProductAttention(dropout)\n",
    "\t\tself.W_q = nn.Linear(query_size, num_hiddens, bias=use_bias) # (in_feature, out_feature)\n",
    "\t\tself.W_k = nn.Linear(key_size, num_hiddens, bias=use_bias)\n",
    "\t\tself.W_v = nn.Linear(value_size, num_hiddens, bias=use_bias)\n",
    "\t\tself.W_o = nn.Linear(num_hiddens, num_hiddens, bias=use_bias)\n",
    "\t\n",
    "\tdef forward(self, queries, keys, values, valid_lens):\n",
    "\t\t\n",
    "\t\t# queries, keys, values:\n",
    "\t\t# (batch_size, no. of queries / keys/ values, num_hiddens) ---------------------note here we choose queries_size, value_size, key_size to be num_hiddens\n",
    "\t\t# valid_lens: (batch_size, ) or (batch_size, no. of queries)\n",
    "\n",
    "\t\tqueries = transpose_qkv(self.W_q(queries), self.num_heads)\n",
    "\t\tkeys = transpose_qkv(self.W_k(keys), self.num_heads)\n",
    "\t\tvalues = transpose_qkv(self.W_v(values), self.num_heads)\n",
    "\n",
    "\t\tif valid_lens is not None:\n",
    "\t\t\tvalid_lens = torch.repeat_interleave(valid_lens, repeats=self.num_heads, dim=0)\n",
    "\t\t\n",
    "\t\toutput = self.attention(queries, keys, values, valid_lens)\n",
    "\n",
    "\t\toutput_concat = transpose_output(output, self.num_heads)\n",
    "\n",
    "\t\treturn self.W_o(output_concat)"
   ]
  },
  {
   "cell_type": "markdown",
   "metadata": {},
   "source": [
    "#### Positionwise Feed-Forward Networks"
   ]
  },
  {
   "cell_type": "code",
   "execution_count": 378,
   "metadata": {},
   "outputs": [],
   "source": [
    "class PositionWiseFFN(nn.Module):\n",
    "\t\"\"\"Positionwise feed-forward network\"\"\"\n",
    "\n",
    "\tdef __init__(self, ffn_num_input, ffn_num_hiddens, ffn_num_outputs, **kwargs):\n",
    "\t\tsuper(PositionWiseFFN, self).__init__(**kwargs)\n",
    "\t\tself.dense1 = nn.Linear(ffn_num_input, ffn_num_hiddens)\n",
    "\t\tself.relu = nn.ReLU()\n",
    "\t\tself.dense2 = nn.Linear(ffn_num_hiddens, ffn_num_outputs)\n",
    "\n",
    "\tdef forward(self, X):\n",
    "\t\treturn self.dense2(self.relu(self.dense1(X)))"
   ]
  },
  {
   "cell_type": "markdown",
   "metadata": {},
   "source": [
    "#### Residual connection and layer normalization"
   ]
  },
  {
   "cell_type": "code",
   "execution_count": 379,
   "metadata": {},
   "outputs": [],
   "source": [
    "# input: (batch_size, seq_length, features_dim)\n",
    "# normalized shape is input.size()[1: ]\n",
    "# the normalizing direction is features_dim -- nomalizing along second dimension\n",
    "\n",
    "# X is input \n",
    "# Y is Multiattention(X)\n",
    "\n",
    "class AddNorm(nn.Module):\n",
    "\t\"\"\"Residual connection followed by layer normalization with dropout implementation\"\"\"\n",
    "\n",
    "\tdef __init__(self, normalized_shape, dropout, **kwargs):\n",
    "\t\tsuper(AddNorm, self).__init__(**kwargs)\n",
    "\t\tself.dropout = nn.Dropout(dropout)\n",
    "\t\tself.ln = nn.LayerNorm(normalized_shape)\n",
    "\n",
    "\tdef forward(self, X, Y): \n",
    "\t\treturn self.ln(self.dropout(Y) + X)"
   ]
  },
  {
   "cell_type": "markdown",
   "metadata": {},
   "source": [
    "#### Encoder"
   ]
  },
  {
   "cell_type": "code",
   "execution_count": 380,
   "metadata": {},
   "outputs": [],
   "source": [
    "class EncoderBlock(nn.Module):\n",
    "\t\"\"\"Transformer encoder block.\"\"\"\n",
    "\n",
    "\tdef __init__(self, key_size, query_size, value_size, num_hiddens, norm_shape, ffn_num_input, ffn_num_hiddens, num_heads, dropout, use_bias=False, **kwargs):\n",
    "\t\tsuper(EncoderBlock, self).__init__(**kwargs)\n",
    "\t\tself.attention = MultiHeadAttention(key_size=key_size, query_size=query_size, value_size=value_size, num_hiddens=num_hiddens, num_heads=num_heads, dropout=dropout, use_bias=use_bias)\n",
    "\t\tself.addnorm1 = AddNorm(norm_shape, dropout)\n",
    "\t\tself.ffn = PositionWiseFFN(ffn_num_input, ffn_num_hiddens, num_hiddens)\n",
    "\t\tself.addnorm2 = AddNorm(norm_shape, dropout)\n",
    "\n",
    "\tdef forward(self, X, valid_lens):\n",
    "\t\tY = self.addnorm1(X, self.attention(X, X, X, valid_lens))\n",
    "\t\treturn self.addnorm2(Y, self.ffn(Y))"
   ]
  },
  {
   "cell_type": "markdown",
   "metadata": {},
   "source": [
    "#### Transformer encoder"
   ]
  },
  {
   "cell_type": "code",
   "execution_count": 381,
   "metadata": {},
   "outputs": [],
   "source": [
    "# we can now stack the blocks of encoders\n",
    "# we also need to rescale to learnable input embeddings by sqrt(embedding dim) to [-1, 1]. This is because each value of positional embeddding is [-1, 1]\n",
    "# num_layers: number of blocks of encoder\n",
    "# vocab_size: size of vocabulary dictionary\n",
    "\n",
    "class TransformerEncoder(d2l.Encoder):\n",
    "\t\"\"\"Transformer encoder.\"\"\"\n",
    "\n",
    "\tdef __init__(self, vocab_size, key_size, query_size, value_size, num_hiddens, norm_shape, ffn_num_input, ffn_num_hiddens, num_heads, num_layers, dropout, use_bias=False, **kwargs):\n",
    "\t\tsuper(TransformerEncoder, self).__init__(**kwargs)\n",
    "\t\tself.num_hiddens = num_hiddens\n",
    "\t\tself.embedding = nn.Embedding(vocab_size, num_hiddens) # here we randomly initialize a input embedding matrix \n",
    "\t\tself.pos_encoding = PositionalEncoding(num_hiddens, dropout)\n",
    "\t\tself.blks = nn.Sequential()\n",
    "\t\tfor i in range(num_layers):\n",
    "\t\t\tself.blks.add_module(\"Block\"+str(i), EncoderBlock(key_size, query_size, value_size, num_hiddens, norm_shape, ffn_num_input, ffn_num_hiddens, num_heads, dropout, use_bias=use_bias))\n",
    "\t\n",
    "\tdef forward(self, X, valid_lens, *args):\n",
    "\t\tX = self.pos_encoding(self.embedding(X) * math.sqrt(self.num_hiddens))\n",
    "\t\tself.attention_weights = [None] * len(self.blks) # create a attention weight list to hold attention weights at each block\n",
    "\t\tfor i, blk in enumerate(self.blks):\n",
    "\t\t\tX = blk(X, valid_lens)\n",
    "\t\t\tself.attention_weights[i] = blk.attention.attention.attention_weights # the actual attention weights is stored in the ScaledDotAttention\n",
    "\t\t\n",
    "\t\treturn X"
   ]
  },
  {
   "cell_type": "markdown",
   "metadata": {},
   "source": [
    "#### Decoder"
   ]
  },
  {
   "cell_type": "code",
   "execution_count": 382,
   "metadata": {},
   "outputs": [],
   "source": [
    "# self.i stores all previous representations\n",
    "\n",
    "class DecoderBlock(nn.Module):\n",
    "\t\"\"\"The ith decoder block\"\"\"\n",
    "\tdef __init__(self, key_size, query_size, value_size, num_hiddens, norm_shape, ffn_num_input, ffn_num_hiddens, num_heads, dropout, i, **kwargs):\n",
    "\t\tsuper(DecoderBlock, self).__init__(**kwargs)\n",
    "\t\tself.i = i\n",
    "\t\tself.attention1 = MultiHeadAttention(key_size=key_size, query_size=query_size, value_size=value_size, num_hiddens=num_hiddens, num_heads=num_heads, dropout=dropout)\n",
    "\t\tself.addnorm1 = AddNorm(norm_shape, dropout)\n",
    "\t\tself.attention2 = MultiHeadAttention(key_size=key_size, query_size=query_size, value_size=value_size, num_hiddens=num_hiddens, num_heads=num_heads, dropout=dropout)\n",
    "\t\tself.addnorm2 = AddNorm(norm_shape, dropout)\n",
    "\t\tself.ffn = PositionWiseFFN(ffn_num_input, ffn_num_hiddens, num_hiddens)\n",
    "\t\tself.addnorm3 = AddNorm(norm_shape, dropout)\n",
    "\n",
    "\tdef forward(self, X, state):\n",
    "\t\t# state: (encoder_output, encoder_valid_len, some info)\n",
    "\t\tenc_outputs, enc_valid_lens = state[0], state[1]\n",
    "\t\t\n",
    "\t\tbatch_size, num_steps, _ = X.shape # (batch_size, previous_timesteps, hidden_dimension)\n",
    "\t\tdec_valid_lens = torch.arange(1, num_steps + 1, device=X.device).repeat(batch_size, 1) # repeat to size (2, 1), this specifies how we mask each row in each minibatch\n",
    "\t\t\n",
    "\t\t# main model\n",
    "\t\t# q, k, v as defined\n",
    "\t\tX2 = self.attention1(X, X, X, dec_valid_lens) # training: all X, but we mask all after, prediction: queries=current timestep repr, keys_values, all previous \n",
    "\t\tY = self.addnorm1(X, X2)\n",
    "\t\tY2 = self.attention2(Y, enc_outputs, enc_outputs, enc_valid_lens) # in the case encoder is masked \n",
    "\t\tZ = self.addnorm2(Y, Y2)\n",
    "\n",
    "\t\treturn self.addnorm3(Z, self.ffn(Z)), state # state here is passed as it was \n",
    "\n",
    "\t# some additional notes: \n",
    "\t# decoder consists of 2 functionality: training and prediction \n",
    "\n",
    "\t# during training: we use the whole sequence but mask attention weights\n",
    "\t# The attention weights matrix has dimension (q, k) -- the second query will only get acess to the first 2 key\n",
    "\t# state[2] is [None]\n",
    "\n",
    "\t# during prediction: we only have current embedding -- 1 query \n",
    "\t# the key-values combine current and all previous key-valuee to search for -- decoder self attention "
   ]
  },
  {
   "cell_type": "markdown",
   "metadata": {},
   "source": [
    "#### Transformer Decoder"
   ]
  },
  {
   "cell_type": "code",
   "execution_count": 383,
   "metadata": {},
   "outputs": [],
   "source": [
    "class TransformerDecoder(d2l.AttentionDecoder):\n",
    "\n",
    "\tdef __init__(self, vocab_size,  key_size, query_size, value_size, num_hiddens, norm_shape, ffn_num_input, ffn_num_hiddens, num_heads, num_layers, dropout, **kwargs):\n",
    "\t\tsuper(TransformerDecoder, self).__init__(**kwargs)\n",
    "\t\tself.num_hiddens = num_hiddens\n",
    "\t\tself.num_layers = num_layers\n",
    "\t\tself.embedding = nn.Embedding(vocab_size, num_hiddens)\n",
    "\t\tself.pos_encoding = PositionalEncoding(num_hiddens, dropout)\n",
    "\t\tself.blks = nn.Sequential()\n",
    "\t\tfor i in range(num_layers):\n",
    "\t\t\tself.blks.add_module(\"block\"+str(i), DecoderBlock(key_size, query_size, value_size, num_hiddens, norm_shape, ffn_num_input, ffn_num_hiddens, num_heads, dropout, i))\n",
    "\t\tself.dense = nn.Linear(num_hiddens, vocab_size)\n",
    "\t\t# prediction: we have (1, num_hiddens) --> (1, num_vocab_size)\n",
    "\n",
    "\tdef init_state(self, enc_outputs, enc_valid_lens, *args):\n",
    "\t\tself.seqX = None\n",
    "\t\treturn [enc_outputs, enc_valid_lens]\n",
    "\n",
    "\tdef forward(self, X, state):\n",
    "\n",
    "\t\tif not self.training:\n",
    "\t\t\tif self.seqX is None:\n",
    "\t\t\t\tself.seqX = X\n",
    "\t\t\telse:\n",
    "\t\t\t\tself.seqX = torch.cat((self.seqX, X), dim=1)\n",
    "\t\t\tX = self.seqX\n",
    "\n",
    "\t\tX = self.pos_encoding(self.embedding(X) * math.sqrt(self.num_hiddens))\n",
    "\t\tself._attention_weights = [[None] * len(self.blks) for _ in range(2)] # here we record attention from 2 attention module (2, i)\n",
    "\t\t\n",
    "\t\tfor i, blk in enumerate(self.blks):\n",
    "\n",
    "\t\t\tX, state = blk(X, state)\n",
    "\t\t\t# Decoder self-attention weights\n",
    "\t\t\tself._attention_weights[0][i] = blk.attention1.attention.attention_weights\n",
    "\t\t\t# Encoder-decoder attention weights\n",
    "\t\t\tself._attention_weights[1][i] = blk.attention2.attention.attention_weights\n",
    "\t\t\n",
    "\t\tif not self.training:\n",
    "\t\t\treturn self.dense(X)[:, -1:, :], state\n",
    "\t\t\n",
    "\t\treturn self.dense(X), state\n",
    "\n",
    "\tdef attention_weights(self):\n",
    "\t\treturn self._attention_weights"
   ]
  },
  {
   "cell_type": "markdown",
   "metadata": {},
   "source": [
    "#### Encoder to Decoder architecture"
   ]
  },
  {
   "cell_type": "code",
   "execution_count": 384,
   "metadata": {},
   "outputs": [],
   "source": [
    "class EncoderDecoder(nn.Module):\n",
    "    \"\"\"The base class for the encoder-decoder architecture.\"\"\"\n",
    "    def __init__(self, encoder, decoder, **kwargs):\n",
    "        super(EncoderDecoder, self).__init__(**kwargs)\n",
    "        self.encoder = encoder\n",
    "        self.decoder = decoder\n",
    "\n",
    "    def forward(self, enc_X, dec_X, *args):\n",
    "        enc_outputs = self.encoder(enc_X, *args)  # feature representation from encoder\n",
    "        dec_state = self.decoder.init_state(enc_outputs, *args) # use the feature representation from encoder to process a decoder init: (training--None), (prediction -- previous important information)\n",
    "        return self.decoder(dec_X, dec_state)"
   ]
  },
  {
   "cell_type": "markdown",
   "metadata": {},
   "source": [
    "#### The softmax cross-entropy loss with mask"
   ]
  },
  {
   "cell_type": "code",
   "execution_count": 385,
   "metadata": {},
   "outputs": [],
   "source": [
    "class MaskedSoftmaxCELoss(nn.CrossEntropyLoss):\n",
    "\t\"\"\"The softmax cross-entropy loss with masks.\"\"\"\n",
    "\t# 'pred' shape: ('batch_size', 'num_steps', 'vocab_size')  ---> shape should be (0, 2, 1)\n",
    "\t# 'label' shape: ('batch_size', num_steps) --- each number is a number between 0 and vocab_size/prob\n",
    "\t# 'valid_len' shape: ('batch_size', )\n",
    "\n",
    "\t# \"none\" return same shape as 'label'\n",
    "\t\n",
    "\t# num_steps have to be the same \n",
    "\t# during training, our labeled/pred length can be very long. We can restrict the length of each batch.\n",
    "\t# we ignore the irrelevant part\n",
    "\tdef forward(self, pred, label, valid_len, sample_weights, label_smoothing):\n",
    "\t\tmasks = torch.ones_like(label)\n",
    "\t\tmasks = sequence_mask(masks, valid_len)\n",
    "\t\tself.reduction = 'none'\n",
    "\t\tself.label_smoothing = label_smoothing\n",
    "\t\tunmaskeded_loss = super(MaskedSoftmaxCELoss, self).forward(pred.permute(0, 2, 1), label)\n",
    "\t\tmasked_loss = (unmaskeded_loss * masks).mean(dim=1) # mean of each batch along num_steps\n",
    "\n",
    "\t\tweighted_masked_loss = masked_loss * sample_weights\n",
    "\t\tweighted_average_masked_loss = weighted_masked_loss.sum() / sample_weights.sum()  # weighted average across batch\n",
    "\t\treturn weighted_average_masked_loss"
   ]
  },
  {
   "cell_type": "markdown",
   "metadata": {},
   "source": [
    "#### Transformer training"
   ]
  },
  {
   "cell_type": "code",
   "execution_count": 386,
   "metadata": {},
   "outputs": [],
   "source": [
    "# input: list of training target sequences, list of training complementary peptides \n",
    "\n",
    "def preprocess_train(X_train_letter, Y_train_letter, amino_dict, num_steps):\n",
    "\n",
    "\tX_train_letter_split = [list(sequence) for sequence in X_train_letter]\n",
    "\tY_train_letter_split = [list(sequence) for sequence in Y_train_letter]\n",
    "\n",
    "\tX_train_unpad= [[amino_dict[letter] for letter in sequence] + [amino_dict['<eos>']] for sequence in X_train_letter_split]\n",
    "\tY_train_unpad = [[amino_dict[letter] for letter in sequence] + [amino_dict['<eos>']] for sequence in Y_train_letter_split]\n",
    "\n",
    "\tX_valid_len = torch.tensor([len(sequence) for sequence in X_train_unpad])\n",
    "\tY_valid_len = torch.tensor([len(sequence) for sequence in Y_train_unpad])\n",
    "\n",
    "\tX_train = torch.tensor([d2l.truncate_pad(sequence, num_steps, amino_dict['<pad>']) for sequence in X_train_unpad])\n",
    "\tY_train = torch.tensor([d2l.truncate_pad(sequence, num_steps, amino_dict['<pad>']) for sequence in Y_train_unpad])\n",
    "\t# 2 more space for bos and eos \n",
    "\n",
    "\treturn X_train, X_valid_len, Y_train, Y_valid_len"
   ]
  },
  {
   "cell_type": "code",
   "execution_count": 387,
   "metadata": {},
   "outputs": [],
   "source": [
    "# Here we enforce the first word <bos>\n",
    "\n",
    "def train_seq2seq(net, X_train, X_valid_len, Y_train, Y_valid_len, sample_weights, lr, num_epochs, batch_size, label_smoothing, amino_dict, device):\n",
    "\t\"\"\"Train a model for sequence to sequence.\"\"\"\n",
    "\n",
    "\tdef xavier_init_weights(m):\n",
    "\t\tif type(m) == nn.Linear:\n",
    "\t\t\tnn.init.xavier_uniform_(m.weight)\n",
    "\t\tif type(m) == nn.GRU:\n",
    "\t\t\tfor param in m._flat_weights_names:\n",
    "\t\t\t\tif \"weight\" in param:\n",
    "\t\t\t\t\tnn.init.xavier_uniform_(m._parameters[param])\n",
    "\n",
    "\tnet.apply(xavier_init_weights)\n",
    "\tnet.to(device)\n",
    "\toptimizer = torch.optim.Adam(net.parameters(), lr=lr)\n",
    "\tloss = MaskedSoftmaxCELoss()\n",
    "\tnet.train()\n",
    "\tanimator = d2l.Animator(xlabel='epoch', ylabel='loss')\n",
    "\t#animator = d2l.Animator(xlabel='batch', ylabel='loss')\n",
    "\n",
    "\n",
    "\tfor epoch in range(num_epochs):\n",
    "\t\ttimer = d2l.Timer()\n",
    "\t\tmetric = d2l.Accumulator(2)  # Sum of training loss, no. of tokens\n",
    "\n",
    "\t\t# random shuffle\n",
    "\t\tindex = torch.randperm(X_train.shape[0])\n",
    "\t\tX_train_shuffled = X_train[index]\n",
    "\t\tX_valid_len_shuffled = X_valid_len[index]\n",
    "\t\tY_train_shuffled = Y_train[index]\n",
    "\t\tY_valid_len_shuffled = Y_valid_len[index]\n",
    "\t\tsample_weights_shuffled = sample_weights[index]\n",
    "\n",
    "\t\t# batch operation at each epoch\n",
    "\t\tX_train_batch = torch.split(X_train_shuffled, batch_size)\n",
    "\t\tX_valid_len_batch = torch.split(X_valid_len_shuffled, batch_size)\n",
    "\t\tY_train_batch = torch.split(Y_train_shuffled, batch_size)\n",
    "\t\tY_valid_len_batch = torch.split(Y_valid_len_shuffled, batch_size)\n",
    "\t\tsample_weights_batch = torch.split(sample_weights_shuffled, batch_size)\n",
    "\n",
    "\n",
    "\t\tfor batch in zip(X_train_batch, X_valid_len_batch, Y_train_batch, Y_valid_len_batch, sample_weights_batch):\n",
    "\t\t\t\n",
    "\t\t\toptimizer.zero_grad()\n",
    "\t\t\tX_train_minibatch, X_valid_len_minibatch, Y_train_minibatch, Y_valid_len_minibatch, sample_weights_minibatch = [x.to(device) for x in batch]\n",
    "\t\t\tbos = torch.tensor([amino_dict['<bos>']] * Y_train_minibatch.shape[0],\n",
    "\t\t\t\t\t\t\t\tdevice=device).reshape(-1, 1)\n",
    "\t\t\tdec_input = torch.cat([bos, Y_train_minibatch[:, :-1]], 1)  # Teacher forcing -------> the first word at all batch is <bos>\n",
    "\t\t\t\n",
    "\t\t\tY_hat, _ = net(X_train_minibatch, dec_input, X_valid_len_minibatch)\n",
    "\t\t\tl = loss(Y_hat, Y_train_minibatch, Y_valid_len_minibatch, sample_weights_minibatch, label_smoothing)\n",
    "\t\t\tl.backward()  # l is loss per token\n",
    "\t\t\td2l.grad_clipping(net, 1)\n",
    "\t\t\tnum_tokens = Y_valid_len_minibatch.sum()\n",
    "\t\t\toptimizer.step()\n",
    "\t\t\twith torch.no_grad():\n",
    "\t\t\t\tmetric.add(l*num_tokens, num_tokens) # loss per batch, num_tokens per batch\n",
    "\n",
    "\t\t#if (epoch + 1) % 10 == 0:\n",
    "\t\tanimator.add(epoch + 1, (metric[0] / metric[1],))\n",
    "\tprint(f'loss {metric[0] / metric[1]:.3f}, {metric[1] / timer.stop():.1f} tokens/sec on {str(device)}')"
   ]
  },
  {
   "cell_type": "markdown",
   "metadata": {},
   "source": [
    "#### Transformer prediction"
   ]
  },
  {
   "cell_type": "code",
   "execution_count": 388,
   "metadata": {},
   "outputs": [],
   "source": [
    "# function to return key for any value\n",
    "\n",
    "def get_key(val, my_dict):\n",
    "    for key, value in my_dict.items():\n",
    "         if val == value:\n",
    "             return key\n",
    " \n",
    "    return \"key doesn't exist\""
   ]
  },
  {
   "cell_type": "code",
   "execution_count": 389,
   "metadata": {},
   "outputs": [],
   "source": [
    "def predict_seq2seq(net, target_sequence_raw, amino_dict, num_steps, device, save_attention_weights=False, print_info=False):\n",
    "\t\"\"\"Predict for sequence to sequence.\"\"\"\n",
    "\n",
    "\tsoftmax_layer = nn.Softmax(dim=2)\n",
    "\ttarget_sequence = list(target_sequence_raw) # 'AEAG' -----------> ['A', 'E', 'A', 'G']\n",
    "\t\n",
    "\t# Set `net` to eval mode for inference\n",
    "\tnet.eval()\n",
    "\ttarget_sequence_unpad = [amino_dict[letter] for letter in target_sequence] + [amino_dict['<eos>']]\n",
    "\ttarget_valid_len = torch.tensor([len(target_sequence_unpad)])\n",
    "\ttarget_sequence = d2l.truncate_pad(target_sequence_unpad, num_steps, amino_dict['<pad>'])\n",
    "\n",
    "\t# add batch to axis\n",
    "\ttarget_sequence_batch = torch.unsqueeze(torch.tensor(target_sequence, dtype=torch.long, device=device), dim=0)\n",
    "\n",
    "\tenc_outputs = net.encoder(target_sequence_batch, target_valid_len)\n",
    "\tdec_state = net.decoder.init_state(enc_outputs, target_valid_len)\n",
    "\n",
    "\t# add batch to axis\n",
    "\tdec_X = torch.unsqueeze(torch.tensor([amino_dict['<bos>']], dtype=torch.long, device=device), dim=0)\n",
    "\toutput_seq, attention_weight_seq = [], []\n",
    "\n",
    "\t# track probability\n",
    "\tprob = 1\n",
    "\n",
    "\tfor i in range(num_steps):\n",
    "\n",
    "\n",
    "\t\tY_raw, dec_state = net.decoder(dec_X, dec_state)\n",
    "\n",
    "\t\t# apply softmax to the output\n",
    "\t\tY = softmax_layer(Y_raw)\n",
    "\n",
    "\t\t# We use the token with the highest prediction likelihood as the input\n",
    "\t\t# of the decoder at the next time step\n",
    "\t\tdec_X = Y.argmax(dim=2)\n",
    "\t\tpred = dec_X.squeeze(dim=0).type(torch.int32).item()\n",
    "\n",
    "\t\t# track proba\n",
    "\t\tprob_i = torch.max(Y, dim=2).values.squeeze(dim=0).type(torch.float32).item()\n",
    "\t\tprob *= prob_i\n",
    "\n",
    "\t\tif print_info == True:\n",
    "\t\t\tprint(\"Conditional probability at position {} is {}\".format(i+1, prob_i))\n",
    "\n",
    "\t\t# Save attention weights (to be covered later)\n",
    "\t\tif save_attention_weights:\n",
    "\t\t\tattention_weight_seq.append(net.decoder.attention_weights())\n",
    "\t\t# Once the end-of-sequence token is predicted, the generation of the\n",
    "\t\t# output sequence is complete\n",
    "\t\tif pred == amino_dict['<eos>']:\n",
    "\t\t\tbreak\n",
    "\t\toutput_seq.append(pred) # do not append last token\n",
    "\n",
    "\tcomple_peptide_pred = \"\".join([get_key(number, amino_dict) for number in output_seq])\n",
    "\n",
    "\t# print info \n",
    "\tif print_info == True:\n",
    "\t\tprint('Input target sequence is {}, predicted complementary peptide is {}'.format(target_sequence_raw, comple_peptide_pred))\n",
    "\t\tprint(\"Condition on input, predicted probability is {}\".format(prob))\n",
    "\n",
    "\treturn comple_peptide_pred, prob, attention_weight_seq"
   ]
  },
  {
   "cell_type": "markdown",
   "metadata": {},
   "source": [
    "## Task 1: Generative ability test on protein dataset"
   ]
  },
  {
   "cell_type": "markdown",
   "metadata": {},
   "source": [
    "#### Initialize amino dictionary"
   ]
  },
  {
   "cell_type": "code",
   "execution_count": 328,
   "metadata": {},
   "outputs": [],
   "source": [
    "amino_dict = {\n",
    "\t\t'<bos>': 0, \n",
    "\t\t'<eos>': 1, \n",
    "\t\t'<pad>': 2, \n",
    "\t\t'<unk>': 3,\n",
    "\t\t'A': 4,\n",
    "\t\t'C': 5,\n",
    "\t\t'D': 6, \n",
    "\t\t'E': 7,\n",
    "\t\t'F': 8, \n",
    "\t\t'G': 9, \n",
    "\t\t'H': 10,\n",
    "\t\t'I': 11, \n",
    "\t\t'K': 12, \n",
    "\t\t'L': 13, \n",
    "\t\t'M': 14, \n",
    "\t\t'N': 15, \n",
    "\t\t'P': 16, \n",
    "\t\t'Q': 17, \n",
    "\t\t'R': 18, \n",
    "\t\t'S': 19, \n",
    "\t\t'T': 20, \n",
    "\t\t'V': 21, \n",
    "\t\t'W': 22, \n",
    "\t\t'Y': 23 \n",
    "\t\t }"
   ]
  },
  {
   "cell_type": "markdown",
   "metadata": {},
   "source": [
    "#### Inspection of dataset"
   ]
  },
  {
   "cell_type": "code",
   "execution_count": 329,
   "metadata": {},
   "outputs": [],
   "source": [
    "data_list_antiparallel= []\n",
    "data_list_parallel= []\n",
    "\n",
    "for i in range(1, 9):\n",
    "\twith open('BSn_libraries/BSn_libraries_copy/anti_frag_dic_{}.pkl'.format(i), 'rb') as f:\n",
    "\t\tdata = pickle.load(f, encoding='latin1')\n",
    "\t\tdata_list_antiparallel.append(data)\n",
    "\n",
    "\twith open('BSn_libraries/BSn_libraries_copy/para_frag_dic_{}.pkl'.format(i), 'rb') as f:\n",
    "\t\tdata = pickle.load(f, encoding='latin1')\n",
    "\t\tdata_list_parallel.append(data)"
   ]
  },
  {
   "cell_type": "markdown",
   "metadata": {},
   "source": [
    "Working score: $C = \\sum_{i=1}^{n} (l_i^2c_i - 0.01l_ip_i)$"
   ]
  },
  {
   "cell_type": "code",
   "execution_count": 330,
   "metadata": {},
   "outputs": [],
   "source": [
    "# 0 for parallel\n",
    "# 1 for antiparallel\n",
    "\n",
    "# target, complementary_seq, counts, promiscuity, length, working_score, hb_pattern, para/anti\n",
    "BSn_data = []\n",
    "least_length = 3\n",
    "\n",
    "for frag_i_data in data_list_parallel[least_length-1:]:\n",
    "\tfor keys in frag_i_data.keys():\n",
    "\n",
    "\t\tlength = len(keys)\n",
    "\t\tfor element in frag_i_data[keys]:\n",
    "\n",
    "\t\t\tworking_score = length**2 * element.count_score - 0.01 * length * element.promiscuity_score\n",
    "\t\t\tlist_i = [keys, element.complementary_sequence, element.count_score, element.promiscuity_score, length, working_score, element.hb_pattern, 0]\n",
    "\t\t\tBSn_data.append(list_i)\n",
    "\n",
    "for frag_i_data in data_list_antiparallel[least_length-1:]:\n",
    "\tfor keys in frag_i_data.keys():\n",
    "\t\tlength = len(keys)\n",
    "\t\tfor element in frag_i_data[keys]:\n",
    "\n",
    "\t\t\tworking_score = length**2 * element.count_score - 0.01 * length * element.promiscuity_score\n",
    "\t\t\tlist_i = [keys, element.complementary_sequence, element.count_score, element.promiscuity_score, length, working_score, element.hb_pattern, 1]\n",
    "\t\t\tBSn_data.append(list_i)"
   ]
  },
  {
   "cell_type": "code",
   "execution_count": 331,
   "metadata": {},
   "outputs": [
    {
     "name": "stdout",
     "output_type": "stream",
     "text": [
      "2206533\n",
      "['VAA', 'IVV', 1, 606, 3, -9.18, ((0, 0), (None, None), (0, 0)), 1]\n"
     ]
    }
   ],
   "source": [
    "print(len(BSn_data))\n",
    "print(BSn_data[500000])\n",
    "# target, complementary_seq, counts, promiscuity, length, working_score, hb_pattern, para/anti"
   ]
  },
  {
   "cell_type": "markdown",
   "metadata": {},
   "source": [
    "#### Tailor the dataset for training"
   ]
  },
  {
   "cell_type": "code",
   "execution_count": 332,
   "metadata": {},
   "outputs": [],
   "source": [
    "BSn_data_dataset_sequence = np.array(BSn_data, dtype=object)[:, 0:2]\n",
    "scores_array = np.array(BSn_data, dtype=object)[:, 5].reshape(-1, 1)\n",
    "BSn_data_dataset_scores = np.hstack([BSn_data_dataset_sequence, scores_array])\n",
    "\n",
    "# here we manually eliminate those with sample negative weights\n",
    "BSn_data_dataset1 = BSn_data_dataset_scores[BSn_data_dataset_scores[:, 2] >= 0]"
   ]
  },
  {
   "cell_type": "code",
   "execution_count": 342,
   "metadata": {},
   "outputs": [
    {
     "name": "stdout",
     "output_type": "stream",
     "text": [
      "torch.Size([2105108, 10])\n",
      "torch.Size([2105108, 10])\n",
      "torch.Size([2105108])\n",
      "torch.Size([2105108])\n",
      "torch.Size([2105108])\n"
     ]
    }
   ],
   "source": [
    "num_steps_training = 10 # maximum length of training sequences\n",
    "\n",
    "X_train, X_valid_len, Y_train, Y_valid_len = preprocess_train(BSn_data_dataset1[:, 0], BSn_data_dataset1[:, 1], amino_dict, num_steps_training)\n",
    "\n",
    "working_score_tensor = torch.tensor(list(BSn_data_dataset1[:, 2]))\n",
    "\n",
    "print(X_train.shape)\n",
    "print(Y_train.shape)\n",
    "print(X_valid_len.shape)\n",
    "print(Y_valid_len.shape)\n",
    "print(working_score_tensor.shape)"
   ]
  },
  {
   "cell_type": "markdown",
   "metadata": {},
   "source": [
    "#### Build Model"
   ]
  },
  {
   "cell_type": "code",
   "execution_count": 390,
   "metadata": {},
   "outputs": [],
   "source": [
    "query_size, key_size, value_size, num_hiddens = 32, 32, 32, 32\n",
    "num_layers, dropout = 1, 0.1\n",
    "lr, num_epochs, batch_size, label_smoothing = 0.005, 3, 64, 0.1\n",
    "ffn_num_input, ffn_num_hiddens, num_heads = 32, 64, 4\n",
    "\n",
    "norm_shape = [32] # 32 corresponds to the dim of such number to normalize\n",
    "device = try_gpu()"
   ]
  },
  {
   "cell_type": "code",
   "execution_count": 391,
   "metadata": {},
   "outputs": [],
   "source": [
    "encoder = TransformerEncoder(\n",
    "\tlen(amino_dict), key_size, query_size, value_size, num_hiddens, \n",
    "\tnorm_shape, ffn_num_input, ffn_num_hiddens, num_heads,\n",
    "\tnum_layers, dropout)\n",
    "decoder = TransformerDecoder(\n",
    "\tlen(amino_dict), key_size, query_size, value_size, num_hiddens, \n",
    "\tnorm_shape, ffn_num_input, ffn_num_hiddens, num_heads,\n",
    "\tnum_layers, dropout)\n",
    "net = EncoderDecoder(encoder, decoder)"
   ]
  },
  {
   "cell_type": "code",
   "execution_count": 392,
   "metadata": {},
   "outputs": [
    {
     "name": "stdout",
     "output_type": "stream",
     "text": [
      "total number of parameters: 23320\n",
      "total number of trainable parameters: 23320\n"
     ]
    }
   ],
   "source": [
    "pytorch_total_params = sum(p.numel() for p in net.parameters())\n",
    "pytorch_total_trainable_params = sum(p.numel() for p in net.parameters() if p.requires_grad)\n",
    "\n",
    "print('total number of parameters: {}'.format(pytorch_total_params))\n",
    "print('total number of trainable parameters: {}'.format(pytorch_total_trainable_params))"
   ]
  },
  {
   "cell_type": "markdown",
   "metadata": {},
   "source": [
    "#### Model training"
   ]
  },
  {
   "cell_type": "code",
   "execution_count": 393,
   "metadata": {},
   "outputs": [
    {
     "name": "stdout",
     "output_type": "stream",
     "text": [
      "loss 1.544, 10903.0 tokens/sec on cpu\n"
     ]
    },
    {
     "data": {
      "image/svg+xml": "<?xml version=\"1.0\" encoding=\"utf-8\" standalone=\"no\"?>\n<!DOCTYPE svg PUBLIC \"-//W3C//DTD SVG 1.1//EN\"\n  \"http://www.w3.org/Graphics/SVG/1.1/DTD/svg11.dtd\">\n<svg xmlns:xlink=\"http://www.w3.org/1999/xlink\" width=\"252.64375pt\" height=\"180.65625pt\" viewBox=\"0 0 252.64375 180.65625\" xmlns=\"http://www.w3.org/2000/svg\" version=\"1.1\">\n <metadata>\n  <rdf:RDF xmlns:dc=\"http://purl.org/dc/elements/1.1/\" xmlns:cc=\"http://creativecommons.org/ns#\" xmlns:rdf=\"http://www.w3.org/1999/02/22-rdf-syntax-ns#\">\n   <cc:Work>\n    <dc:type rdf:resource=\"http://purl.org/dc/dcmitype/StillImage\"/>\n    <dc:date>2022-07-10T14:26:32.865865</dc:date>\n    <dc:format>image/svg+xml</dc:format>\n    <dc:creator>\n     <cc:Agent>\n      <dc:title>Matplotlib v3.5.2, https://matplotlib.org/</dc:title>\n     </cc:Agent>\n    </dc:creator>\n   </cc:Work>\n  </rdf:RDF>\n </metadata>\n <defs>\n  <style type=\"text/css\">*{stroke-linejoin: round; stroke-linecap: butt}</style>\n </defs>\n <g id=\"figure_1\">\n  <g id=\"patch_1\">\n   <path d=\"M 0 180.65625 \nL 252.64375 180.65625 \nL 252.64375 0 \nL 0 0 \nL 0 180.65625 \nz\n\" style=\"fill: none\"/>\n  </g>\n  <g id=\"axes_1\">\n   <g id=\"patch_2\">\n    <path d=\"M 50.14375 143.1 \nL 245.44375 143.1 \nL 245.44375 7.2 \nL 50.14375 7.2 \nz\n\" style=\"fill: #ffffff\"/>\n   </g>\n   <g id=\"matplotlib.axis_1\">\n    <g id=\"xtick_1\">\n     <g id=\"line2d_1\">\n      <path d=\"M 59.021023 143.1 \nL 59.021023 7.2 \n\" clip-path=\"url(#p0f86612a77)\" style=\"fill: none; stroke: #b0b0b0; stroke-width: 0.8; stroke-linecap: square\"/>\n     </g>\n     <g id=\"line2d_2\">\n      <defs>\n       <path id=\"m54dcaaf0ee\" d=\"M 0 0 \nL 0 3.5 \n\" style=\"stroke: #000000; stroke-width: 0.8\"/>\n      </defs>\n      <g>\n       <use xlink:href=\"#m54dcaaf0ee\" x=\"59.021023\" y=\"143.1\" style=\"stroke: #000000; stroke-width: 0.8\"/>\n      </g>\n     </g>\n     <g id=\"text_1\">\n      <!-- 1.0 -->\n      <g transform=\"translate(51.06946 157.698438)scale(0.1 -0.1)\">\n       <defs>\n        <path id=\"DejaVuSans-31\" d=\"M 794 531 \nL 1825 531 \nL 1825 4091 \nL 703 3866 \nL 703 4441 \nL 1819 4666 \nL 2450 4666 \nL 2450 531 \nL 3481 531 \nL 3481 0 \nL 794 0 \nL 794 531 \nz\n\" transform=\"scale(0.015625)\"/>\n        <path id=\"DejaVuSans-2e\" d=\"M 684 794 \nL 1344 794 \nL 1344 0 \nL 684 0 \nL 684 794 \nz\n\" transform=\"scale(0.015625)\"/>\n        <path id=\"DejaVuSans-30\" d=\"M 2034 4250 \nQ 1547 4250 1301 3770 \nQ 1056 3291 1056 2328 \nQ 1056 1369 1301 889 \nQ 1547 409 2034 409 \nQ 2525 409 2770 889 \nQ 3016 1369 3016 2328 \nQ 3016 3291 2770 3770 \nQ 2525 4250 2034 4250 \nz\nM 2034 4750 \nQ 2819 4750 3233 4129 \nQ 3647 3509 3647 2328 \nQ 3647 1150 3233 529 \nQ 2819 -91 2034 -91 \nQ 1250 -91 836 529 \nQ 422 1150 422 2328 \nQ 422 3509 836 4129 \nQ 1250 4750 2034 4750 \nz\n\" transform=\"scale(0.015625)\"/>\n       </defs>\n       <use xlink:href=\"#DejaVuSans-31\"/>\n       <use xlink:href=\"#DejaVuSans-2e\" x=\"63.623047\"/>\n       <use xlink:href=\"#DejaVuSans-30\" x=\"95.410156\"/>\n      </g>\n     </g>\n    </g>\n    <g id=\"xtick_2\">\n     <g id=\"line2d_3\">\n      <path d=\"M 103.407386 143.1 \nL 103.407386 7.2 \n\" clip-path=\"url(#p0f86612a77)\" style=\"fill: none; stroke: #b0b0b0; stroke-width: 0.8; stroke-linecap: square\"/>\n     </g>\n     <g id=\"line2d_4\">\n      <g>\n       <use xlink:href=\"#m54dcaaf0ee\" x=\"103.407386\" y=\"143.1\" style=\"stroke: #000000; stroke-width: 0.8\"/>\n      </g>\n     </g>\n     <g id=\"text_2\">\n      <!-- 1.5 -->\n      <g transform=\"translate(95.455824 157.698438)scale(0.1 -0.1)\">\n       <defs>\n        <path id=\"DejaVuSans-35\" d=\"M 691 4666 \nL 3169 4666 \nL 3169 4134 \nL 1269 4134 \nL 1269 2991 \nQ 1406 3038 1543 3061 \nQ 1681 3084 1819 3084 \nQ 2600 3084 3056 2656 \nQ 3513 2228 3513 1497 \nQ 3513 744 3044 326 \nQ 2575 -91 1722 -91 \nQ 1428 -91 1123 -41 \nQ 819 9 494 109 \nL 494 744 \nQ 775 591 1075 516 \nQ 1375 441 1709 441 \nQ 2250 441 2565 725 \nQ 2881 1009 2881 1497 \nQ 2881 1984 2565 2268 \nQ 2250 2553 1709 2553 \nQ 1456 2553 1204 2497 \nQ 953 2441 691 2322 \nL 691 4666 \nz\n\" transform=\"scale(0.015625)\"/>\n       </defs>\n       <use xlink:href=\"#DejaVuSans-31\"/>\n       <use xlink:href=\"#DejaVuSans-2e\" x=\"63.623047\"/>\n       <use xlink:href=\"#DejaVuSans-35\" x=\"95.410156\"/>\n      </g>\n     </g>\n    </g>\n    <g id=\"xtick_3\">\n     <g id=\"line2d_5\">\n      <path d=\"M 147.79375 143.1 \nL 147.79375 7.2 \n\" clip-path=\"url(#p0f86612a77)\" style=\"fill: none; stroke: #b0b0b0; stroke-width: 0.8; stroke-linecap: square\"/>\n     </g>\n     <g id=\"line2d_6\">\n      <g>\n       <use xlink:href=\"#m54dcaaf0ee\" x=\"147.79375\" y=\"143.1\" style=\"stroke: #000000; stroke-width: 0.8\"/>\n      </g>\n     </g>\n     <g id=\"text_3\">\n      <!-- 2.0 -->\n      <g transform=\"translate(139.842188 157.698438)scale(0.1 -0.1)\">\n       <defs>\n        <path id=\"DejaVuSans-32\" d=\"M 1228 531 \nL 3431 531 \nL 3431 0 \nL 469 0 \nL 469 531 \nQ 828 903 1448 1529 \nQ 2069 2156 2228 2338 \nQ 2531 2678 2651 2914 \nQ 2772 3150 2772 3378 \nQ 2772 3750 2511 3984 \nQ 2250 4219 1831 4219 \nQ 1534 4219 1204 4116 \nQ 875 4013 500 3803 \nL 500 4441 \nQ 881 4594 1212 4672 \nQ 1544 4750 1819 4750 \nQ 2544 4750 2975 4387 \nQ 3406 4025 3406 3419 \nQ 3406 3131 3298 2873 \nQ 3191 2616 2906 2266 \nQ 2828 2175 2409 1742 \nQ 1991 1309 1228 531 \nz\n\" transform=\"scale(0.015625)\"/>\n       </defs>\n       <use xlink:href=\"#DejaVuSans-32\"/>\n       <use xlink:href=\"#DejaVuSans-2e\" x=\"63.623047\"/>\n       <use xlink:href=\"#DejaVuSans-30\" x=\"95.410156\"/>\n      </g>\n     </g>\n    </g>\n    <g id=\"xtick_4\">\n     <g id=\"line2d_7\">\n      <path d=\"M 192.180114 143.1 \nL 192.180114 7.2 \n\" clip-path=\"url(#p0f86612a77)\" style=\"fill: none; stroke: #b0b0b0; stroke-width: 0.8; stroke-linecap: square\"/>\n     </g>\n     <g id=\"line2d_8\">\n      <g>\n       <use xlink:href=\"#m54dcaaf0ee\" x=\"192.180114\" y=\"143.1\" style=\"stroke: #000000; stroke-width: 0.8\"/>\n      </g>\n     </g>\n     <g id=\"text_4\">\n      <!-- 2.5 -->\n      <g transform=\"translate(184.228551 157.698438)scale(0.1 -0.1)\">\n       <use xlink:href=\"#DejaVuSans-32\"/>\n       <use xlink:href=\"#DejaVuSans-2e\" x=\"63.623047\"/>\n       <use xlink:href=\"#DejaVuSans-35\" x=\"95.410156\"/>\n      </g>\n     </g>\n    </g>\n    <g id=\"xtick_5\">\n     <g id=\"line2d_9\">\n      <path d=\"M 236.566477 143.1 \nL 236.566477 7.2 \n\" clip-path=\"url(#p0f86612a77)\" style=\"fill: none; stroke: #b0b0b0; stroke-width: 0.8; stroke-linecap: square\"/>\n     </g>\n     <g id=\"line2d_10\">\n      <g>\n       <use xlink:href=\"#m54dcaaf0ee\" x=\"236.566477\" y=\"143.1\" style=\"stroke: #000000; stroke-width: 0.8\"/>\n      </g>\n     </g>\n     <g id=\"text_5\">\n      <!-- 3.0 -->\n      <g transform=\"translate(228.614915 157.698438)scale(0.1 -0.1)\">\n       <defs>\n        <path id=\"DejaVuSans-33\" d=\"M 2597 2516 \nQ 3050 2419 3304 2112 \nQ 3559 1806 3559 1356 \nQ 3559 666 3084 287 \nQ 2609 -91 1734 -91 \nQ 1441 -91 1130 -33 \nQ 819 25 488 141 \nL 488 750 \nQ 750 597 1062 519 \nQ 1375 441 1716 441 \nQ 2309 441 2620 675 \nQ 2931 909 2931 1356 \nQ 2931 1769 2642 2001 \nQ 2353 2234 1838 2234 \nL 1294 2234 \nL 1294 2753 \nL 1863 2753 \nQ 2328 2753 2575 2939 \nQ 2822 3125 2822 3475 \nQ 2822 3834 2567 4026 \nQ 2313 4219 1838 4219 \nQ 1578 4219 1281 4162 \nQ 984 4106 628 3988 \nL 628 4550 \nQ 988 4650 1302 4700 \nQ 1616 4750 1894 4750 \nQ 2613 4750 3031 4423 \nQ 3450 4097 3450 3541 \nQ 3450 3153 3228 2886 \nQ 3006 2619 2597 2516 \nz\n\" transform=\"scale(0.015625)\"/>\n       </defs>\n       <use xlink:href=\"#DejaVuSans-33\"/>\n       <use xlink:href=\"#DejaVuSans-2e\" x=\"63.623047\"/>\n       <use xlink:href=\"#DejaVuSans-30\" x=\"95.410156\"/>\n      </g>\n     </g>\n    </g>\n    <g id=\"text_6\">\n     <!-- epoch -->\n     <g transform=\"translate(132.565625 171.376563)scale(0.1 -0.1)\">\n      <defs>\n       <path id=\"DejaVuSans-65\" d=\"M 3597 1894 \nL 3597 1613 \nL 953 1613 \nQ 991 1019 1311 708 \nQ 1631 397 2203 397 \nQ 2534 397 2845 478 \nQ 3156 559 3463 722 \nL 3463 178 \nQ 3153 47 2828 -22 \nQ 2503 -91 2169 -91 \nQ 1331 -91 842 396 \nQ 353 884 353 1716 \nQ 353 2575 817 3079 \nQ 1281 3584 2069 3584 \nQ 2775 3584 3186 3129 \nQ 3597 2675 3597 1894 \nz\nM 3022 2063 \nQ 3016 2534 2758 2815 \nQ 2500 3097 2075 3097 \nQ 1594 3097 1305 2825 \nQ 1016 2553 972 2059 \nL 3022 2063 \nz\n\" transform=\"scale(0.015625)\"/>\n       <path id=\"DejaVuSans-70\" d=\"M 1159 525 \nL 1159 -1331 \nL 581 -1331 \nL 581 3500 \nL 1159 3500 \nL 1159 2969 \nQ 1341 3281 1617 3432 \nQ 1894 3584 2278 3584 \nQ 2916 3584 3314 3078 \nQ 3713 2572 3713 1747 \nQ 3713 922 3314 415 \nQ 2916 -91 2278 -91 \nQ 1894 -91 1617 61 \nQ 1341 213 1159 525 \nz\nM 3116 1747 \nQ 3116 2381 2855 2742 \nQ 2594 3103 2138 3103 \nQ 1681 3103 1420 2742 \nQ 1159 2381 1159 1747 \nQ 1159 1113 1420 752 \nQ 1681 391 2138 391 \nQ 2594 391 2855 752 \nQ 3116 1113 3116 1747 \nz\n\" transform=\"scale(0.015625)\"/>\n       <path id=\"DejaVuSans-6f\" d=\"M 1959 3097 \nQ 1497 3097 1228 2736 \nQ 959 2375 959 1747 \nQ 959 1119 1226 758 \nQ 1494 397 1959 397 \nQ 2419 397 2687 759 \nQ 2956 1122 2956 1747 \nQ 2956 2369 2687 2733 \nQ 2419 3097 1959 3097 \nz\nM 1959 3584 \nQ 2709 3584 3137 3096 \nQ 3566 2609 3566 1747 \nQ 3566 888 3137 398 \nQ 2709 -91 1959 -91 \nQ 1206 -91 779 398 \nQ 353 888 353 1747 \nQ 353 2609 779 3096 \nQ 1206 3584 1959 3584 \nz\n\" transform=\"scale(0.015625)\"/>\n       <path id=\"DejaVuSans-63\" d=\"M 3122 3366 \nL 3122 2828 \nQ 2878 2963 2633 3030 \nQ 2388 3097 2138 3097 \nQ 1578 3097 1268 2742 \nQ 959 2388 959 1747 \nQ 959 1106 1268 751 \nQ 1578 397 2138 397 \nQ 2388 397 2633 464 \nQ 2878 531 3122 666 \nL 3122 134 \nQ 2881 22 2623 -34 \nQ 2366 -91 2075 -91 \nQ 1284 -91 818 406 \nQ 353 903 353 1747 \nQ 353 2603 823 3093 \nQ 1294 3584 2113 3584 \nQ 2378 3584 2631 3529 \nQ 2884 3475 3122 3366 \nz\n\" transform=\"scale(0.015625)\"/>\n       <path id=\"DejaVuSans-68\" d=\"M 3513 2113 \nL 3513 0 \nL 2938 0 \nL 2938 2094 \nQ 2938 2591 2744 2837 \nQ 2550 3084 2163 3084 \nQ 1697 3084 1428 2787 \nQ 1159 2491 1159 1978 \nL 1159 0 \nL 581 0 \nL 581 4863 \nL 1159 4863 \nL 1159 2956 \nQ 1366 3272 1645 3428 \nQ 1925 3584 2291 3584 \nQ 2894 3584 3203 3211 \nQ 3513 2838 3513 2113 \nz\n\" transform=\"scale(0.015625)\"/>\n      </defs>\n      <use xlink:href=\"#DejaVuSans-65\"/>\n      <use xlink:href=\"#DejaVuSans-70\" x=\"61.523438\"/>\n      <use xlink:href=\"#DejaVuSans-6f\" x=\"125\"/>\n      <use xlink:href=\"#DejaVuSans-63\" x=\"186.181641\"/>\n      <use xlink:href=\"#DejaVuSans-68\" x=\"241.162109\"/>\n     </g>\n    </g>\n   </g>\n   <g id=\"matplotlib.axis_2\">\n    <g id=\"ytick_1\">\n     <g id=\"line2d_11\">\n      <path d=\"M 50.14375 111.483951 \nL 245.44375 111.483951 \n\" clip-path=\"url(#p0f86612a77)\" style=\"fill: none; stroke: #b0b0b0; stroke-width: 0.8; stroke-linecap: square\"/>\n     </g>\n     <g id=\"line2d_12\">\n      <defs>\n       <path id=\"m6a6d433647\" d=\"M 0 0 \nL -3.5 0 \n\" style=\"stroke: #000000; stroke-width: 0.8\"/>\n      </defs>\n      <g>\n       <use xlink:href=\"#m6a6d433647\" x=\"50.14375\" y=\"111.483951\" style=\"stroke: #000000; stroke-width: 0.8\"/>\n      </g>\n     </g>\n     <g id=\"text_7\">\n      <!-- 1.55 -->\n      <g transform=\"translate(20.878125 115.28317)scale(0.1 -0.1)\">\n       <use xlink:href=\"#DejaVuSans-31\"/>\n       <use xlink:href=\"#DejaVuSans-2e\" x=\"63.623047\"/>\n       <use xlink:href=\"#DejaVuSans-35\" x=\"95.410156\"/>\n       <use xlink:href=\"#DejaVuSans-35\" x=\"159.033203\"/>\n      </g>\n     </g>\n    </g>\n    <g id=\"ytick_2\">\n     <g id=\"line2d_13\">\n      <path d=\"M 50.14375 67.072093 \nL 245.44375 67.072093 \n\" clip-path=\"url(#p0f86612a77)\" style=\"fill: none; stroke: #b0b0b0; stroke-width: 0.8; stroke-linecap: square\"/>\n     </g>\n     <g id=\"line2d_14\">\n      <g>\n       <use xlink:href=\"#m6a6d433647\" x=\"50.14375\" y=\"67.072093\" style=\"stroke: #000000; stroke-width: 0.8\"/>\n      </g>\n     </g>\n     <g id=\"text_8\">\n      <!-- 1.56 -->\n      <g transform=\"translate(20.878125 70.871311)scale(0.1 -0.1)\">\n       <defs>\n        <path id=\"DejaVuSans-36\" d=\"M 2113 2584 \nQ 1688 2584 1439 2293 \nQ 1191 2003 1191 1497 \nQ 1191 994 1439 701 \nQ 1688 409 2113 409 \nQ 2538 409 2786 701 \nQ 3034 994 3034 1497 \nQ 3034 2003 2786 2293 \nQ 2538 2584 2113 2584 \nz\nM 3366 4563 \nL 3366 3988 \nQ 3128 4100 2886 4159 \nQ 2644 4219 2406 4219 \nQ 1781 4219 1451 3797 \nQ 1122 3375 1075 2522 \nQ 1259 2794 1537 2939 \nQ 1816 3084 2150 3084 \nQ 2853 3084 3261 2657 \nQ 3669 2231 3669 1497 \nQ 3669 778 3244 343 \nQ 2819 -91 2113 -91 \nQ 1303 -91 875 529 \nQ 447 1150 447 2328 \nQ 447 3434 972 4092 \nQ 1497 4750 2381 4750 \nQ 2619 4750 2861 4703 \nQ 3103 4656 3366 4563 \nz\n\" transform=\"scale(0.015625)\"/>\n       </defs>\n       <use xlink:href=\"#DejaVuSans-31\"/>\n       <use xlink:href=\"#DejaVuSans-2e\" x=\"63.623047\"/>\n       <use xlink:href=\"#DejaVuSans-35\" x=\"95.410156\"/>\n       <use xlink:href=\"#DejaVuSans-36\" x=\"159.033203\"/>\n      </g>\n     </g>\n    </g>\n    <g id=\"ytick_3\">\n     <g id=\"line2d_15\">\n      <path d=\"M 50.14375 22.660235 \nL 245.44375 22.660235 \n\" clip-path=\"url(#p0f86612a77)\" style=\"fill: none; stroke: #b0b0b0; stroke-width: 0.8; stroke-linecap: square\"/>\n     </g>\n     <g id=\"line2d_16\">\n      <g>\n       <use xlink:href=\"#m6a6d433647\" x=\"50.14375\" y=\"22.660235\" style=\"stroke: #000000; stroke-width: 0.8\"/>\n      </g>\n     </g>\n     <g id=\"text_9\">\n      <!-- 1.57 -->\n      <g transform=\"translate(20.878125 26.459453)scale(0.1 -0.1)\">\n       <defs>\n        <path id=\"DejaVuSans-37\" d=\"M 525 4666 \nL 3525 4666 \nL 3525 4397 \nL 1831 0 \nL 1172 0 \nL 2766 4134 \nL 525 4134 \nL 525 4666 \nz\n\" transform=\"scale(0.015625)\"/>\n       </defs>\n       <use xlink:href=\"#DejaVuSans-31\"/>\n       <use xlink:href=\"#DejaVuSans-2e\" x=\"63.623047\"/>\n       <use xlink:href=\"#DejaVuSans-35\" x=\"95.410156\"/>\n       <use xlink:href=\"#DejaVuSans-37\" x=\"159.033203\"/>\n      </g>\n     </g>\n    </g>\n    <g id=\"text_10\">\n     <!-- loss -->\n     <g transform=\"translate(14.798437 84.807813)rotate(-90)scale(0.1 -0.1)\">\n      <defs>\n       <path id=\"DejaVuSans-6c\" d=\"M 603 4863 \nL 1178 4863 \nL 1178 0 \nL 603 0 \nL 603 4863 \nz\n\" transform=\"scale(0.015625)\"/>\n       <path id=\"DejaVuSans-73\" d=\"M 2834 3397 \nL 2834 2853 \nQ 2591 2978 2328 3040 \nQ 2066 3103 1784 3103 \nQ 1356 3103 1142 2972 \nQ 928 2841 928 2578 \nQ 928 2378 1081 2264 \nQ 1234 2150 1697 2047 \nL 1894 2003 \nQ 2506 1872 2764 1633 \nQ 3022 1394 3022 966 \nQ 3022 478 2636 193 \nQ 2250 -91 1575 -91 \nQ 1294 -91 989 -36 \nQ 684 19 347 128 \nL 347 722 \nQ 666 556 975 473 \nQ 1284 391 1588 391 \nQ 1994 391 2212 530 \nQ 2431 669 2431 922 \nQ 2431 1156 2273 1281 \nQ 2116 1406 1581 1522 \nL 1381 1569 \nQ 847 1681 609 1914 \nQ 372 2147 372 2553 \nQ 372 3047 722 3315 \nQ 1072 3584 1716 3584 \nQ 2034 3584 2315 3537 \nQ 2597 3491 2834 3397 \nz\n\" transform=\"scale(0.015625)\"/>\n      </defs>\n      <use xlink:href=\"#DejaVuSans-6c\"/>\n      <use xlink:href=\"#DejaVuSans-6f\" x=\"27.783203\"/>\n      <use xlink:href=\"#DejaVuSans-73\" x=\"88.964844\"/>\n      <use xlink:href=\"#DejaVuSans-73\" x=\"141.064453\"/>\n     </g>\n    </g>\n   </g>\n   <g id=\"line2d_17\">\n    <path d=\"M 59.021023 13.377273 \nL 147.79375 131.715391 \nL 236.566477 136.922727 \n\" clip-path=\"url(#p0f86612a77)\" style=\"fill: none; stroke: #1f77b4; stroke-width: 1.5; stroke-linecap: square\"/>\n   </g>\n   <g id=\"patch_3\">\n    <path d=\"M 50.14375 143.1 \nL 50.14375 7.2 \n\" style=\"fill: none; stroke: #000000; stroke-width: 0.8; stroke-linejoin: miter; stroke-linecap: square\"/>\n   </g>\n   <g id=\"patch_4\">\n    <path d=\"M 245.44375 143.1 \nL 245.44375 7.2 \n\" style=\"fill: none; stroke: #000000; stroke-width: 0.8; stroke-linejoin: miter; stroke-linecap: square\"/>\n   </g>\n   <g id=\"patch_5\">\n    <path d=\"M 50.14375 143.1 \nL 245.44375 143.1 \n\" style=\"fill: none; stroke: #000000; stroke-width: 0.8; stroke-linejoin: miter; stroke-linecap: square\"/>\n   </g>\n   <g id=\"patch_6\">\n    <path d=\"M 50.14375 7.2 \nL 245.44375 7.2 \n\" style=\"fill: none; stroke: #000000; stroke-width: 0.8; stroke-linejoin: miter; stroke-linecap: square\"/>\n   </g>\n  </g>\n </g>\n <defs>\n  <clipPath id=\"p0f86612a77\">\n   <rect x=\"50.14375\" y=\"7.2\" width=\"195.3\" height=\"135.9\"/>\n  </clipPath>\n </defs>\n</svg>\n",
      "text/plain": [
       "<Figure size 252x180 with 1 Axes>"
      ]
     },
     "metadata": {
      "needs_background": "light"
     },
     "output_type": "display_data"
    }
   ],
   "source": [
    "train_seq2seq(net, X_train, X_valid_len, Y_train, Y_valid_len, working_score_tensor, lr, num_epochs, batch_size, label_smoothing, amino_dict, device)"
   ]
  },
  {
   "cell_type": "markdown",
   "metadata": {},
   "source": [
    "#### Model predicting"
   ]
  },
  {
   "cell_type": "code",
   "execution_count": 405,
   "metadata": {},
   "outputs": [
    {
     "name": "stdout",
     "output_type": "stream",
     "text": [
      "Conditional probability at position 1 is 0.09674233943223953\n",
      "Conditional probability at position 2 is 0.09076384454965591\n",
      "Conditional probability at position 3 is 0.0909266546368599\n",
      "Conditional probability at position 4 is 0.09021279960870743\n",
      "Conditional probability at position 5 is 0.0881866067647934\n",
      "Conditional probability at position 6 is 0.099327951669693\n",
      "Conditional probability at position 7 is 0.09581107646226883\n",
      "Conditional probability at position 8 is 0.09100326150655746\n",
      "Conditional probability at position 9 is 0.9157262444496155\n",
      "Input target sequence is NVGGAVVTG, predicted complementary peptide is VVVVVVVV\n",
      "Condition on input, predicted probability is 5.0373403154294215e-09\n"
     ]
    }
   ],
   "source": [
    "target = ['SPY', 'SPQ', 'SFILKSFR', 'LDLRNFYQ', 'FGAILSS', 'NVGGAVVTG']\n",
    "num_steps_prediction = 10 # max length of sequence to predict\n",
    "\n",
    "dec_comple_peptide_pred, dec_prob, dec_attention_weight_seq = predict_seq2seq(net, target[5], amino_dict, num_steps_prediction, device, save_attention_weights=True, print_info=True)"
   ]
  },
  {
   "cell_type": "markdown",
   "metadata": {},
   "source": [
    "# Task 2: Train a base model "
   ]
  },
  {
   "cell_type": "markdown",
   "metadata": {},
   "source": [
    "#### Build base model"
   ]
  },
  {
   "cell_type": "code",
   "execution_count": 414,
   "metadata": {},
   "outputs": [],
   "source": [
    "query_size, key_size, value_size, num_hiddens = 512, 512, 512, 512\n",
    "num_layers, dropout = 4, 0.1\n",
    "lr, num_epochs, batch_size, label_smoothing = 0.005, 100000, 64, 0.1\n",
    "ffn_num_input, ffn_num_hiddens, num_heads = 512, 2048, 8\n",
    "\n",
    "norm_shape = [512] # 32 corresponds to the dim of such number to normalize\n",
    "device = try_gpu()"
   ]
  },
  {
   "cell_type": "code",
   "execution_count": 415,
   "metadata": {},
   "outputs": [],
   "source": [
    "encoder_base = TransformerEncoder(\n",
    "\tlen(amino_dict), key_size, query_size, value_size, num_hiddens, \n",
    "\tnorm_shape, ffn_num_input, ffn_num_hiddens, num_heads,\n",
    "\tnum_layers, dropout)\n",
    "decoder_base = TransformerDecoder(\n",
    "\tlen(amino_dict), key_size, query_size, value_size, num_hiddens, \n",
    "\tnorm_shape, ffn_num_input, ffn_num_hiddens, num_heads,\n",
    "\tnum_layers, dropout)\n",
    "net_base = EncoderDecoder(encoder_base, decoder_base)"
   ]
  },
  {
   "cell_type": "code",
   "execution_count": 416,
   "metadata": {},
   "outputs": [
    {
     "name": "stdout",
     "output_type": "stream",
     "text": [
      "Base model: total number of parameters: 29437976\n",
      "Base model: total number of trainable parameters: 29437976\n"
     ]
    }
   ],
   "source": [
    "net_base_total_params = sum(p.numel() for p in net_base.parameters())\n",
    "net_base_total_trainable_params = sum(p.numel() for p in net_base.parameters() if p.requires_grad)\n",
    "\n",
    "print('Base model: total number of parameters: {}'.format(net_base_total_params))\n",
    "print('Base model: total number of trainable parameters: {}'.format(net_base_total_trainable_params))"
   ]
  },
  {
   "cell_type": "markdown",
   "metadata": {},
   "source": [
    "#### Model training"
   ]
  },
  {
   "cell_type": "code",
   "execution_count": 412,
   "metadata": {},
   "outputs": [],
   "source": [
    "# train_seq2seq(net_base, X_train, X_valid_len, Y_train, Y_valid_len, working_score_tensor, lr, num_epochs, batch_size, label_smoothing, amino_dict, device)"
   ]
  },
  {
   "cell_type": "markdown",
   "metadata": {},
   "source": [
    "#### Model prediction"
   ]
  },
  {
   "cell_type": "code",
   "execution_count": 413,
   "metadata": {},
   "outputs": [],
   "source": [
    "target = ['SPY', 'SPQ', 'SFILKSFR', 'LDLRNFYQ', 'FGAILSS', 'NVGGAVVTG']\n",
    "num_steps_prediction = 10 # max length of sequence to predict\n",
    "\n",
    "# dec_comple_peptide_pred, dec_prob, dec_attention_weight_seq = predict_seq2seq(net_base, target[5], amino_dict, num_steps_prediction, device, save_attention_weights=True, print_info=True)"
   ]
  },
  {
   "cell_type": "markdown",
   "metadata": {},
   "source": [
    "#### Potential problems"
   ]
  },
  {
   "cell_type": "markdown",
   "metadata": {},
   "source": [
    "1. Positional encoding failed to work in predict sequences------- fixed \n",
    "2. 'bos', 'eos' not trained? ------------------------------------ fixed \n",
    "3. Ramdomize each batch ----------------------------------------- fixed \n",
    "4. Softmax in prediction ---------------------------------------- fixed \n",
    "5. write functions for training-preposessing -------------------- fixed\n",
    "6. write functions for prediction ------------------------------- fixed\n",
    "7. label smoothing: alter learning truth distribution ----------- fixed \n",
    "8. weighting of each sample: sample weights in loss ------------- fixed\n",
    "9. adjust learning rate ---------------------------------------- not changed since adam is insensitive to learning rate\n",
    "10. loss shown too small ---------------------------------------- fixed "
   ]
  },
  {
   "cell_type": "markdown",
   "metadata": {},
   "source": [
    "#### Things to do"
   ]
  },
  {
   "cell_type": "markdown",
   "metadata": {},
   "source": [
    "1. Assigne weights to each sample -------------------- done \n",
    "2. hyperparameter for base model training ------------ done \n",
    "3. train on imperial GPU\n",
    "4. Write sampling sequence + prob function\n",
    "5. Write functions for prob of pair sequences \n",
    "6. Consider anti para / para condition --------------- ignore this condition + ignore hb_pattern for now\n",
    "7. save model parameters\n",
    "8. check GPU availablity \n",
    "9. rewrite d2l functions"
   ]
  }
 ],
 "metadata": {
  "kernelspec": {
   "display_name": "Python 3.10.4 ('pt')",
   "language": "python",
   "name": "python3"
  },
  "language_info": {
   "codemirror_mode": {
    "name": "ipython",
    "version": 3
   },
   "file_extension": ".py",
   "mimetype": "text/x-python",
   "name": "python",
   "nbconvert_exporter": "python",
   "pygments_lexer": "ipython3",
   "version": "3.10.4"
  },
  "orig_nbformat": 4,
  "vscode": {
   "interpreter": {
    "hash": "78bf9874701a3957232b8c741c196d0ac3fa790968bd4270c0e2fd5bdf999274"
   }
  }
 },
 "nbformat": 4,
 "nbformat_minor": 2
}
