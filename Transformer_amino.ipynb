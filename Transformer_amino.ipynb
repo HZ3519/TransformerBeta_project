{
 "cells": [
  {
   "cell_type": "code",
   "execution_count": 34,
   "metadata": {},
   "outputs": [],
   "source": [
    "import math\n",
    "import os\n",
    "# os.environ['CUDA_LAUNCH_BLOCKING'] = '1'\n",
    "import torch\n",
    "from torch import nn\n",
    "from torch.distributions.categorical import Categorical\n",
    "from d2l import torch as d2l\n",
    "import pandas as pd\n",
    "import pickle\n",
    "import numpy as np \n",
    "import time \n",
    "import matplotlib.pyplot as plt "
   ]
  },
  {
   "cell_type": "markdown",
   "metadata": {},
   "source": [
    "#### Check GPU availability"
   ]
  },
  {
   "cell_type": "code",
   "execution_count": 35,
   "metadata": {},
   "outputs": [
    {
     "name": "stdout",
     "output_type": "stream",
     "text": [
      "GPU availability: False\n",
      "Number of GPU available: 0\n"
     ]
    }
   ],
   "source": [
    "print(\"GPU availability: {}\".format(torch.cuda.is_available()))\n",
    "print(\"Number of GPU available: {}\".format(torch.cuda.device_count()))"
   ]
  },
  {
   "cell_type": "markdown",
   "metadata": {},
   "source": [
    "#### Clean GPU usage"
   ]
  },
  {
   "cell_type": "code",
   "execution_count": 36,
   "metadata": {},
   "outputs": [],
   "source": [
    "# to train a new model, restart kernel after freeing gpu memory\n",
    "# and load all pretraining data\n",
    "\n",
    "from GPUtil import showUtilization as gpu_usage\n",
    "from numba import cuda\n",
    "\n",
    "def free_gpu_cache():\n",
    "    print(\"Initial GPU Usage\")\n",
    "    gpu_usage()                             \n",
    "\n",
    "    torch.cuda.empty_cache()\n",
    "\n",
    "    cuda.select_device(0)\n",
    "    cuda.close()\n",
    "    cuda.select_device(0)\n",
    "\n",
    "    print(\"GPU Usage after emptying the cache\")\n",
    "    gpu_usage()"
   ]
  },
  {
   "cell_type": "code",
   "execution_count": 37,
   "metadata": {},
   "outputs": [],
   "source": [
    "# check gpu_usage\n",
    "#gpu_usage()"
   ]
  },
  {
   "cell_type": "markdown",
   "metadata": {},
   "source": [
    "#### Masked sequence"
   ]
  },
  {
   "cell_type": "code",
   "execution_count": 38,
   "metadata": {},
   "outputs": [],
   "source": [
    "# X: (5, 10)\n",
    "# value: [1, 5, 3, 6, 2] -- matching the rows \n",
    "\n",
    "def sequence_mask(X, valid_len, value=0):\n",
    "\t\"\"\"Mask irrelevant entries in sequences.\"\"\"\n",
    "\n",
    "\tmaxlen = X.size(1)\n",
    "\tmask = torch.arange((maxlen), dtype=torch.float32, device=X.device)[None, :] < valid_len[:, None]\n",
    "\t#print(mask)\n",
    "\n",
    "\tX[~mask] = value # set the masked elements to value \n",
    "\treturn X"
   ]
  },
  {
   "cell_type": "markdown",
   "metadata": {},
   "source": [
    "#### Masked softmax operation"
   ]
  },
  {
   "cell_type": "code",
   "execution_count": 39,
   "metadata": {},
   "outputs": [],
   "source": [
    "# X: (2, 3, 4) -- attention weights\n",
    "# valid lens: specify how many elements to mask in each minibatch \n",
    "# valid lens (high dim): specify how to mask each minibatch \n",
    "def masked_softmax(X, valid_lens):\n",
    "\t\"\"\"Perform softmax operation by masking elements on the last axis\"\"\"\n",
    "\n",
    "\tif valid_lens == None:\n",
    "\t\treturn nn.functional.softmax(X, dim=-1)\n",
    "\telse:\n",
    "\t\tshape = X.shape\n",
    "\t\tif valid_lens.dim() == 1:\n",
    "\t\t\t# \n",
    "\t\t\tvalid_lens = torch.repeat_interleave(valid_lens, shape[1])\n",
    "\t\telse:\n",
    "\t\t\tvalid_lens = valid_lens.reshape(-1)\n",
    "\t\tX = sequence_mask(X.reshape(-1, shape[-1]), valid_lens, value=-1e6)\n",
    "\n",
    "\t\treturn nn.functional.softmax(X.reshape(shape), dim=-1)"
   ]
  },
  {
   "cell_type": "markdown",
   "metadata": {},
   "source": [
    "#### Positional encoding"
   ]
  },
  {
   "cell_type": "code",
   "execution_count": 40,
   "metadata": {},
   "outputs": [],
   "source": [
    "class PositionalEncoding(nn.Module):\n",
    "\t\"\"\"Position encoding X+P with dropout\"\"\"\n",
    "\n",
    "\tdef __init__(self, num_hiddens, dropout, max_len=1000):\n",
    "\t\tsuper(PositionalEncoding, self).__init__()\n",
    "\t\tself.dropout = nn.Dropout(dropout)\n",
    "\n",
    "\t\t# create a single batch_size 1, long enough P, longer than sequence length\n",
    "\t\tself.P = torch.zeros((1, max_len, num_hiddens))\n",
    "\t\tX = torch.arange(max_len, dtype=torch.float32).reshape(-1, 1) / torch.pow(10000, torch.arange(0, num_hiddens, 2, dtype=torch.float32)/num_hiddens)\n",
    "\t\tself.P[:, :, 0::2] = torch.sin(X)\n",
    "\t\tself.P[:, :, 1::2] = torch.cos(X)\n",
    "\n",
    "\tdef forward(self, X):\n",
    "\t\tX = X + self.P[:, :X.shape[1], :].to(X.device)\n",
    "\t\treturn self.dropout(X)"
   ]
  },
  {
   "cell_type": "markdown",
   "metadata": {},
   "source": [
    "#### Scaled dot-product attention"
   ]
  },
  {
   "cell_type": "code",
   "execution_count": 41,
   "metadata": {},
   "outputs": [],
   "source": [
    "class DotProductAttention(nn.Module):\n",
    "\t\"\"\"\"Scaled dot product attention with dropout\"\"\"\n",
    "\n",
    "\tdef __init__(self, dropout, **kwargs):\n",
    "\t\tsuper(DotProductAttention, self).__init__(**kwargs)\n",
    "\t\tself.dropout = nn.Dropout(dropout)\n",
    "\n",
    "\t\t# query: (batch_size, no. of queries, 'd')\n",
    "\t\t# key: (batch_size, no. of key-value pairs, 'd')\n",
    "\t\t# value: (batch_size, no. of key-value pairs, d_value)\n",
    "\t\t# valid_lens: (batch_size, ) or (batch_size, no. of queries)\n",
    "\t\n",
    "\tdef forward(self, queries, keys, values, valid_lens=None):\n",
    "\t\td = queries.shape[-1]\n",
    "\n",
    "\t\tscores = torch.bmm(queries, keys.transpose(1, 2)) / math.sqrt(d)\n",
    "\t\tself.attention_weights = masked_softmax(scores, valid_lens)\n",
    "\t\treturn torch.bmm(self.dropout(self.attention_weights), values)"
   ]
  },
  {
   "cell_type": "markdown",
   "metadata": {},
   "source": [
    "#### Multi-head attention"
   ]
  },
  {
   "cell_type": "code",
   "execution_count": 42,
   "metadata": {},
   "outputs": [],
   "source": [
    "def transpose_qkv(X, num_heads):\n",
    "\t\"\"\"Transposition for parallel computation of multiple attention heads\"\"\"\n",
    "\n",
    "\tX = X.reshape(X.shape[0], X.shape[1], num_heads, -1)\n",
    "\tX = X.permute(0, 2, 1, 3)\n",
    "\n",
    "\treturn X.reshape(-1, X.shape[2], X.shape[3])\n",
    "\n",
    "def transpose_output(X, num_heads):\n",
    "\t\"\"\"Reverse the operation of transpose_qkv\"\"\"\n",
    "\n",
    "\tX = X.reshape(-1, num_heads, X.shape[1], X.shape[2])\n",
    "\tX = X.permute(0, 2, 1, 3)\n",
    "\n",
    "\treturn X.reshape(X.shape[0], X.shape[1], -1)"
   ]
  },
  {
   "cell_type": "code",
   "execution_count": 43,
   "metadata": {},
   "outputs": [],
   "source": [
    "# valid_lens: (batch_size, ) or (batch_size, no. of queries)\n",
    "# Note: the mask (valid_len) used here, I copy it num_heads times\n",
    "\n",
    "class MultiHeadAttention(nn.Module):\n",
    "\t\"\"\"Multi-head attention\"\"\"\n",
    "\n",
    "\tdef __init__(self, key_size, query_size, value_size, num_hiddens, num_heads, dropout, use_bias=False, **kwargs):\n",
    "\t\tsuper(MultiHeadAttention, self).__init__(**kwargs)\n",
    "\t\tself.num_heads = num_heads\n",
    "\t\tself.attention = DotProductAttention(dropout)\n",
    "\t\tself.W_q = nn.Linear(query_size, num_hiddens, bias=use_bias) # (in_feature, out_feature)\n",
    "\t\tself.W_k = nn.Linear(key_size, num_hiddens, bias=use_bias)\n",
    "\t\tself.W_v = nn.Linear(value_size, num_hiddens, bias=use_bias)\n",
    "\t\tself.W_o = nn.Linear(num_hiddens, num_hiddens, bias=use_bias)\n",
    "\t\n",
    "\tdef forward(self, queries, keys, values, valid_lens):\n",
    "\t\t\n",
    "\t\t# queries, keys, values:\n",
    "\t\t# (batch_size, no. of queries / keys/ values, num_hiddens) ---------------------note here we choose queries_size, value_size, key_size to be num_hiddens\n",
    "\t\t# valid_lens: (batch_size, ) or (batch_size, no. of queries)\n",
    "\n",
    "\t\tqueries = transpose_qkv(self.W_q(queries), self.num_heads)\n",
    "\t\tkeys = transpose_qkv(self.W_k(keys), self.num_heads)\n",
    "\t\tvalues = transpose_qkv(self.W_v(values), self.num_heads)\n",
    "\n",
    "\t\tif valid_lens is not None:\n",
    "\t\t\tvalid_lens = torch.repeat_interleave(valid_lens, repeats=self.num_heads, dim=0)\n",
    "\t\t\n",
    "\t\toutput = self.attention(queries, keys, values, valid_lens)\n",
    "\n",
    "\t\toutput_concat = transpose_output(output, self.num_heads)\n",
    "\n",
    "\t\treturn self.W_o(output_concat)"
   ]
  },
  {
   "cell_type": "markdown",
   "metadata": {},
   "source": [
    "#### Positionwise Feed-Forward Networks"
   ]
  },
  {
   "cell_type": "code",
   "execution_count": 44,
   "metadata": {},
   "outputs": [],
   "source": [
    "class PositionWiseFFN(nn.Module):\n",
    "\t\"\"\"Positionwise feed-forward network\"\"\"\n",
    "\n",
    "\tdef __init__(self, ffn_num_input, ffn_num_hiddens, ffn_num_outputs, **kwargs):\n",
    "\t\tsuper(PositionWiseFFN, self).__init__(**kwargs)\n",
    "\t\tself.dense1 = nn.Linear(ffn_num_input, ffn_num_hiddens)\n",
    "\t\tself.relu = nn.ReLU()\n",
    "\t\tself.dense2 = nn.Linear(ffn_num_hiddens, ffn_num_outputs)\n",
    "\n",
    "\tdef forward(self, X):\n",
    "\t\treturn self.dense2(self.relu(self.dense1(X)))"
   ]
  },
  {
   "cell_type": "markdown",
   "metadata": {},
   "source": [
    "#### Residual connection and layer normalization"
   ]
  },
  {
   "cell_type": "code",
   "execution_count": 45,
   "metadata": {},
   "outputs": [],
   "source": [
    "# input: (batch_size, seq_length, features_dim)\n",
    "# normalized shape is input.size()[1: ]\n",
    "# the normalizing direction is features_dim -- nomalizing along second dimension\n",
    "\n",
    "# X is input \n",
    "# Y is Multiattention(X)\n",
    "\n",
    "class AddNorm(nn.Module):\n",
    "\t\"\"\"Residual connection followed by layer normalization with dropout implementation\"\"\"\n",
    "\n",
    "\tdef __init__(self, normalized_shape, dropout, **kwargs):\n",
    "\t\tsuper(AddNorm, self).__init__(**kwargs)\n",
    "\t\tself.dropout = nn.Dropout(dropout)\n",
    "\t\tself.ln = nn.LayerNorm(normalized_shape)\n",
    "\n",
    "\tdef forward(self, X, Y): \n",
    "\t\treturn self.ln(self.dropout(Y) + X)"
   ]
  },
  {
   "cell_type": "markdown",
   "metadata": {},
   "source": [
    "#### Encoder"
   ]
  },
  {
   "cell_type": "code",
   "execution_count": 46,
   "metadata": {},
   "outputs": [],
   "source": [
    "class EncoderBlock(nn.Module):\n",
    "\t\"\"\"Transformer encoder block.\"\"\"\n",
    "\n",
    "\tdef __init__(self, key_size, query_size, value_size, num_hiddens, norm_shape, ffn_num_input, ffn_num_hiddens, num_heads, dropout, use_bias=False, **kwargs):\n",
    "\t\tsuper(EncoderBlock, self).__init__(**kwargs)\n",
    "\t\tself.attention = MultiHeadAttention(key_size=key_size, query_size=query_size, value_size=value_size, num_hiddens=num_hiddens, num_heads=num_heads, dropout=dropout, use_bias=use_bias)\n",
    "\t\tself.addnorm1 = AddNorm(norm_shape, dropout)\n",
    "\t\tself.ffn = PositionWiseFFN(ffn_num_input, ffn_num_hiddens, num_hiddens)\n",
    "\t\tself.addnorm2 = AddNorm(norm_shape, dropout)\n",
    "\n",
    "\tdef forward(self, X, valid_lens):\n",
    "\t\tY = self.addnorm1(X, self.attention(X, X, X, valid_lens))\n",
    "\t\treturn self.addnorm2(Y, self.ffn(Y))"
   ]
  },
  {
   "cell_type": "markdown",
   "metadata": {},
   "source": [
    "#### Transformer encoder"
   ]
  },
  {
   "cell_type": "code",
   "execution_count": 47,
   "metadata": {},
   "outputs": [],
   "source": [
    "# we can now stack the blocks of encoders\n",
    "# we also need to rescale to learnable input embeddings by sqrt(embedding dim) to [-1, 1]. This is because each value of positional embeddding is [-1, 1]\n",
    "# num_layers: number of blocks of encoder\n",
    "# vocab_size: size of vocabulary dictionary\n",
    "\n",
    "class TransformerEncoder(d2l.Encoder):\n",
    "\t\"\"\"Transformer encoder.\"\"\"\n",
    "\n",
    "\tdef __init__(self, vocab_size, key_size, query_size, value_size, num_hiddens, norm_shape, ffn_num_input, ffn_num_hiddens, num_heads, num_layers, dropout, use_bias=False, **kwargs):\n",
    "\t\tsuper(TransformerEncoder, self).__init__(**kwargs)\n",
    "\t\tself.num_hiddens = num_hiddens\n",
    "\t\tself.embedding = nn.Embedding(vocab_size, num_hiddens) # here we randomly initialize a input embedding matrix \n",
    "\t\tself.pos_encoding = PositionalEncoding(num_hiddens, dropout)\n",
    "\t\tself.blks = nn.Sequential()\n",
    "\t\tfor i in range(num_layers):\n",
    "\t\t\tself.blks.add_module(\"Block\"+str(i), EncoderBlock(key_size, query_size, value_size, num_hiddens, norm_shape, ffn_num_input, ffn_num_hiddens, num_heads, dropout, use_bias=use_bias))\n",
    "\t\n",
    "\tdef forward(self, X, valid_lens, *args):\n",
    "\t\tX = self.pos_encoding(self.embedding(X) * math.sqrt(self.num_hiddens))\n",
    "\t\tself.attention_weights = [None] * len(self.blks) # create a attention weight list to hold attention weights at each block\n",
    "\t\tfor i, blk in enumerate(self.blks):\n",
    "\t\t\tX = blk(X, valid_lens)\n",
    "\t\t\tself.attention_weights[i] = blk.attention.attention.attention_weights # the actual attention weights is stored in the ScaledDotAttention\n",
    "\t\t\n",
    "\t\treturn X"
   ]
  },
  {
   "cell_type": "markdown",
   "metadata": {},
   "source": [
    "#### Decoder"
   ]
  },
  {
   "cell_type": "code",
   "execution_count": 48,
   "metadata": {},
   "outputs": [],
   "source": [
    "# self.i stores all previous representations\n",
    "\n",
    "class DecoderBlock(nn.Module):\n",
    "\t\"\"\"The ith decoder block\"\"\"\n",
    "\tdef __init__(self, key_size, query_size, value_size, num_hiddens, norm_shape, ffn_num_input, ffn_num_hiddens, num_heads, dropout, i, **kwargs):\n",
    "\t\tsuper(DecoderBlock, self).__init__(**kwargs)\n",
    "\t\tself.i = i\n",
    "\t\tself.attention1 = MultiHeadAttention(key_size=key_size, query_size=query_size, value_size=value_size, num_hiddens=num_hiddens, num_heads=num_heads, dropout=dropout)\n",
    "\t\tself.addnorm1 = AddNorm(norm_shape, dropout)\n",
    "\t\tself.attention2 = MultiHeadAttention(key_size=key_size, query_size=query_size, value_size=value_size, num_hiddens=num_hiddens, num_heads=num_heads, dropout=dropout)\n",
    "\t\tself.addnorm2 = AddNorm(norm_shape, dropout)\n",
    "\t\tself.ffn = PositionWiseFFN(ffn_num_input, ffn_num_hiddens, num_hiddens)\n",
    "\t\tself.addnorm3 = AddNorm(norm_shape, dropout)\n",
    "\n",
    "\tdef forward(self, X, state):\n",
    "\t\t# state: (encoder_output, encoder_valid_len, some info)\n",
    "\t\tenc_outputs, enc_valid_lens = state[0], state[1]\n",
    "\t\t\n",
    "\t\tbatch_size, num_steps, _ = X.shape # (batch_size, previous_timesteps, hidden_dimension)\n",
    "\t\tdec_valid_lens = torch.arange(1, num_steps + 1, device=X.device).repeat(batch_size, 1) # repeat to size (2, 1), this specifies how we mask each row in each minibatch\n",
    "\t\t\n",
    "\t\t# main model\n",
    "\t\t# q, k, v as defined\n",
    "\t\tX2 = self.attention1(X, X, X, dec_valid_lens) # training: all X, but we mask all after, prediction: queries=current timestep repr, keys_values, all previous \n",
    "\t\tY = self.addnorm1(X, X2)\n",
    "\t\tY2 = self.attention2(Y, enc_outputs, enc_outputs, enc_valid_lens) # in the case encoder is masked \n",
    "\t\tZ = self.addnorm2(Y, Y2)\n",
    "\n",
    "\t\treturn self.addnorm3(Z, self.ffn(Z)), state # state here is passed as it was \n",
    "\n",
    "\t# some additional notes: \n",
    "\t# decoder consists of 2 functionality: training and prediction \n",
    "\n",
    "\t# during training: we use the whole sequence but mask attention weights\n",
    "\t# The attention weights matrix has dimension (q, k) -- the second query will only get acess to the first 2 key\n",
    "\t# state[2] is [None]\n",
    "\n",
    "\t# during prediction: we only have current embedding -- 1 query \n",
    "\t# the key-values combine current and all previous key-valuee to search for -- decoder self attention "
   ]
  },
  {
   "cell_type": "markdown",
   "metadata": {},
   "source": [
    "#### Transformer Decoder"
   ]
  },
  {
   "cell_type": "code",
   "execution_count": 49,
   "metadata": {},
   "outputs": [],
   "source": [
    "class TransformerDecoder(d2l.AttentionDecoder):\n",
    "\n",
    "\tdef __init__(self, vocab_size,  key_size, query_size, value_size, num_hiddens, norm_shape, ffn_num_input, ffn_num_hiddens, num_heads, num_layers, dropout, **kwargs):\n",
    "\t\tsuper(TransformerDecoder, self).__init__(**kwargs)\n",
    "\t\tself.num_hiddens = num_hiddens\n",
    "\t\tself.num_layers = num_layers\n",
    "\t\tself.embedding = nn.Embedding(vocab_size, num_hiddens)\n",
    "\t\tself.pos_encoding = PositionalEncoding(num_hiddens, dropout)\n",
    "\t\tself.blks = nn.Sequential()\n",
    "\t\tfor i in range(num_layers):\n",
    "\t\t\tself.blks.add_module(\"block\"+str(i), DecoderBlock(key_size, query_size, value_size, num_hiddens, norm_shape, ffn_num_input, ffn_num_hiddens, num_heads, dropout, i))\n",
    "\t\tself.dense = nn.Linear(num_hiddens, vocab_size)\n",
    "\t\t# prediction: we have (1, num_hiddens) --> (1, num_vocab_size)\n",
    "\n",
    "\tdef init_state(self, enc_outputs, enc_valid_lens, *args):\n",
    "\t\tself.seqX = None\n",
    "\t\treturn [enc_outputs, enc_valid_lens]\n",
    "\n",
    "\tdef forward(self, X, state):\n",
    "\n",
    "\t\tif not self.training:\n",
    "\t\t\tif self.seqX is None:\n",
    "\t\t\t\tself.seqX = X\n",
    "\t\t\telse:\n",
    "\t\t\t\tself.seqX = torch.cat((self.seqX, X), dim=1)\n",
    "\t\t\tX = self.seqX\n",
    "\n",
    "\t\tX = self.pos_encoding(self.embedding(X) * math.sqrt(self.num_hiddens))\n",
    "\t\tself._attention_weights = [[None] * len(self.blks) for _ in range(2)] # here we record attention from 2 attention module (2, i)\n",
    "\t\t\n",
    "\t\tfor i, blk in enumerate(self.blks):\n",
    "\n",
    "\t\t\tX, state = blk(X, state)\n",
    "\t\t\t# Decoder self-attention weights\n",
    "\t\t\tself._attention_weights[0][i] = blk.attention1.attention.attention_weights\n",
    "\t\t\t# Encoder-decoder attention weights\n",
    "\t\t\tself._attention_weights[1][i] = blk.attention2.attention.attention_weights\n",
    "\t\t\n",
    "\t\tif not self.training:\n",
    "\t\t\treturn self.dense(X)[:, -1:, :], state\n",
    "\t\t\n",
    "\t\treturn self.dense(X), state\n",
    "\n",
    "\tdef attention_weights(self):\n",
    "\t\treturn self._attention_weights"
   ]
  },
  {
   "cell_type": "markdown",
   "metadata": {},
   "source": [
    "#### Encoder to Decoder architecture"
   ]
  },
  {
   "cell_type": "code",
   "execution_count": 50,
   "metadata": {},
   "outputs": [],
   "source": [
    "class EncoderDecoder(nn.Module):\n",
    "    \"\"\"The base class for the encoder-decoder architecture.\"\"\"\n",
    "    def __init__(self, encoder, decoder, **kwargs):\n",
    "        super(EncoderDecoder, self).__init__(**kwargs)\n",
    "        self.encoder = encoder\n",
    "        self.decoder = decoder\n",
    "\n",
    "    def forward(self, enc_X, dec_X, *args):\n",
    "        enc_outputs = self.encoder(enc_X, *args)  # feature representation from encoder\n",
    "        dec_state = self.decoder.init_state(enc_outputs, *args) # use the feature representation from encoder to process a decoder init: (training--None), (prediction -- previous important information)\n",
    "        return self.decoder(dec_X, dec_state)"
   ]
  },
  {
   "cell_type": "markdown",
   "metadata": {},
   "source": [
    "#### The softmax cross-entropy loss with mask"
   ]
  },
  {
   "cell_type": "code",
   "execution_count": 51,
   "metadata": {},
   "outputs": [],
   "source": [
    "class MaskedSoftmaxCELoss(nn.CrossEntropyLoss):\n",
    "\t\"\"\"The softmax cross-entropy loss with masks.\"\"\"\n",
    "\t# 'pred' shape: ('batch_size', 'num_steps', 'vocab_size')  ---> shape should be (0, 2, 1)\n",
    "\t# 'label' shape: ('batch_size', num_steps) --- each number is a number between 0 and vocab_size/prob\n",
    "\t# 'valid_len' shape: ('batch_size', )\n",
    "\n",
    "\t# \"none\" return same shape as 'label'\n",
    "\t\n",
    "\t# num_steps have to be the same \n",
    "\t# during training, our labeled/pred length can be very long. We can restrict the length of each batch.\n",
    "\t# we ignore the irrelevant part\n",
    "\tdef forward(self, pred, label, valid_len, sample_weights, label_smoothing):\n",
    "\t\tmasks = torch.ones_like(label)\n",
    "\t\tmasks = sequence_mask(masks, valid_len)\n",
    "\t\tself.reduction = 'none'\n",
    "\t\tself.label_smoothing = label_smoothing\n",
    "\t\tunmaskeded_loss = super(MaskedSoftmaxCELoss, self).forward(pred.permute(0, 2, 1), label)\n",
    "\t\tmasked_loss = (unmaskeded_loss * masks).mean(dim=1) # mean of each batch along num_steps\n",
    "\n",
    "\t\tweighted_masked_loss = masked_loss * sample_weights\n",
    "\t\tweighted_average_masked_loss = weighted_masked_loss.sum() / sample_weights.sum()  # weighted average across batch\n",
    "\t\treturn weighted_average_masked_loss"
   ]
  },
  {
   "cell_type": "markdown",
   "metadata": {},
   "source": [
    "#### Hamming distance"
   ]
  },
  {
   "cell_type": "code",
   "execution_count": 52,
   "metadata": {},
   "outputs": [],
   "source": [
    "def hamming_distance_training(seq_pred, seq_true):\n",
    "\t\"\"\"Return the Hamming distancefor training between 2 equal lists of equal-length sequences(list of number).\"\"\"\n",
    "\t\n",
    "\thd_list = [(x!=y).sum() for x, y in zip(seq_pred, seq_true)]\n",
    "\n",
    "\treturn torch.sum(torch.stack(hd_list))\n"
   ]
  },
  {
   "cell_type": "code",
   "execution_count": 53,
   "metadata": {},
   "outputs": [],
   "source": [
    "def hamming_distance_sum(seq_pred, seq_true):\n",
    "\t\"\"\"Return the Hamming distance sum between 2 equal list of equal-length sequences(list of amino sequences).\"\"\"\n",
    "\n",
    "\thd_list = [sum(np.array(list(x))!=np.array(list(y))) for x, y in zip(seq_pred, seq_true)]\n",
    "\n",
    "\treturn sum(hd_list)"
   ]
  },
  {
   "cell_type": "code",
   "execution_count": 54,
   "metadata": {},
   "outputs": [],
   "source": [
    "def hamming_distance_list(seq_pred, seq_true):\n",
    "\t\"\"\"Return the Hamming distance list between 2 equal list of equal-length sequences(list of amino sequences).\"\"\"\n",
    "\n",
    "\thd_list = [sum(np.array(list(x))!=np.array(list(y))) for x, y in zip(seq_pred, seq_true)]\n",
    "\n",
    "\treturn hd_list"
   ]
  },
  {
   "cell_type": "markdown",
   "metadata": {},
   "source": [
    "#### Transformer training"
   ]
  },
  {
   "cell_type": "code",
   "execution_count": 55,
   "metadata": {},
   "outputs": [],
   "source": [
    "# input: list of training target sequences, list of training complementary peptides \n",
    "\n",
    "def preprocess_train(X_train_letter, Y_train_letter, amino_dict, num_steps, X_validation_letter=None, Y_validation_letter=None):\n",
    "\n",
    "\tX_train_letter_split = [list(sequence) for sequence in X_train_letter]\n",
    "\tY_train_letter_split = [list(sequence) for sequence in Y_train_letter]\n",
    "\n",
    "\tX_train_unpad= [[amino_dict[letter] for letter in sequence] + [amino_dict['<eos>']] for sequence in X_train_letter_split]\n",
    "\tY_train_unpad = [[amino_dict[letter] for letter in sequence] + [amino_dict['<eos>']] for sequence in Y_train_letter_split]\n",
    "\n",
    "\tX_valid_len = torch.tensor([len(sequence) for sequence in X_train_unpad])\n",
    "\tY_valid_len = torch.tensor([len(sequence) for sequence in Y_train_unpad])\n",
    "\n",
    "\tX_train = torch.tensor([d2l.truncate_pad(sequence, num_steps, amino_dict['<pad>']) for sequence in X_train_unpad])\n",
    "\tY_train = torch.tensor([d2l.truncate_pad(sequence, num_steps, amino_dict['<pad>']) for sequence in Y_train_unpad])\n",
    "\t# 2 more space for bos and eos \n",
    "\n",
    "\tif X_validation_letter is not None:\n",
    "\n",
    "\t\tX_validation_letter_split = [list(sequence) for sequence in X_validation_letter]\n",
    "\t\tY_validation_letter_split = [list(sequence) for sequence in Y_validation_letter]\n",
    "\n",
    "\t\tX_validation_unpad= [[amino_dict[letter] for letter in sequence] + [amino_dict['<eos>']] for sequence in X_validation_letter_split]\n",
    "\t\tY_validation_unpad = [[amino_dict[letter] for letter in sequence] + [amino_dict['<eos>']] for sequence in Y_validation_letter_split]\n",
    "\n",
    "\t\tX_validation_valid_len = torch.tensor([len(sequence) for sequence in X_validation_unpad])\n",
    "\t\tY_validation_valid_len = torch.tensor([len(sequence) for sequence in Y_validation_unpad])\n",
    "\n",
    "\t\tX_validation = torch.tensor([d2l.truncate_pad(sequence, num_steps, amino_dict['<pad>']) for sequence in X_validation_unpad])\n",
    "\t\tY_validation = torch.tensor([d2l.truncate_pad(sequence, num_steps, amino_dict['<pad>']) for sequence in Y_validation_unpad])\n",
    "\t\t\n",
    "\t\treturn X_train, X_valid_len, Y_train, Y_valid_len, X_validation, X_validation_valid_len, Y_validation, Y_validation_valid_len\n",
    "\n",
    "\treturn X_train, X_valid_len, Y_train, Y_valid_len"
   ]
  },
  {
   "cell_type": "code",
   "execution_count": 56,
   "metadata": {},
   "outputs": [],
   "source": [
    "# Here we enforce the first word <bos>\n",
    "\n",
    "def train_seq2seq(net, X_train, X_valid_len, Y_train, Y_valid_len, sample_weights, lr, num_epochs, batch_size, label_smoothing, amino_dict, device, warmup=1, model_name = 'model_demo', X_validation=None, X_validation_valid_len=None, Y_validation=None, Y_validation_valid_len=None):\n",
    "\t\"\"\"Train a model for sequence to sequence.\"\"\"\n",
    "\n",
    "\tdef init_weights(module):\n",
    "\t\tif isinstance(module, (nn.Linear)):\n",
    "\t\t\tnn.init.normal_(module.weight, mean=0.0, std=0.01) # I always use 0.01 instead of 0.02\n",
    "\t\tif isinstance(module, (nn.Embedding)):\n",
    "\t\t\tnn.init.normal_(module.weight, mean=0.0, std=1e-5) # tiny values, instead of 0.01\n",
    "\n",
    "\tnet.apply(init_weights)\n",
    "\tnet.to(device)\n",
    "\toptimizer = torch.optim.Adam(net.parameters(), lr=lr, betas=(0.9, 0.98), eps = 1.0e-9)\n",
    "\tscheduler = torch.optim.lr_scheduler.LinearLR(optimizer, total_iters=warmup, start_factor=1/warmup)\n",
    "\tloss = MaskedSoftmaxCELoss()\n",
    "\tnet.train()\n",
    "\n",
    "\tanimator = d2l.Animator(xlabel='epoch', ylabel='loss')\n",
    "\ttraining_loss = []\n",
    "\tvalidation_score = []\n",
    "\n",
    "\n",
    "\tfor epoch in range(num_epochs):\n",
    "\t\t\n",
    "\t\t# training step\n",
    "\t\tnet.train()\n",
    "\n",
    "\t\ttimer = d2l.Timer()\n",
    "\t\tmetric = d2l.Accumulator(2)  # Sum of training loss, no. of tokens\n",
    "\n",
    "\t\t# random shuffle\n",
    "\t\tindex = torch.randperm(X_train.shape[0])\n",
    "\t\tX_train_shuffled = X_train[index]\n",
    "\t\tX_valid_len_shuffled = X_valid_len[index]\n",
    "\t\tY_train_shuffled = Y_train[index]\n",
    "\t\tY_valid_len_shuffled = Y_valid_len[index]\n",
    "\t\tsample_weights_shuffled = sample_weights[index]\n",
    "\n",
    "\t\t# batch operation at each epoch\n",
    "\t\tX_train_batch = torch.split(X_train_shuffled, batch_size)\n",
    "\t\tX_valid_len_batch = torch.split(X_valid_len_shuffled, batch_size)\n",
    "\t\tY_train_batch = torch.split(Y_train_shuffled, batch_size)\n",
    "\t\tY_valid_len_batch = torch.split(Y_valid_len_shuffled, batch_size)\n",
    "\t\tsample_weights_batch = torch.split(sample_weights_shuffled, batch_size)\n",
    "\n",
    "\n",
    "\n",
    "\t\tfor batch in zip(X_train_batch, X_valid_len_batch, Y_train_batch, Y_valid_len_batch, sample_weights_batch):\n",
    "\t\t\t\n",
    "\t\t\toptimizer.zero_grad()\n",
    "\t\t\tX_train_minibatch, X_valid_len_minibatch, Y_train_minibatch, Y_valid_len_minibatch, sample_weights_minibatch = [x.to(device) for x in batch]\n",
    "\t\t\tbos = torch.tensor([amino_dict['<bos>']] * Y_train_minibatch.shape[0],\n",
    "\t\t\t\t\t\t\t\tdevice=device).reshape(-1, 1)\n",
    "\t\t\tdec_input = torch.cat([bos, Y_train_minibatch[:, :-1]], 1)  # Teacher forcing -------> the first word at all batch is <bos>\n",
    "\t\t\t\n",
    "\t\t\tY_hat, _ = net(X_train_minibatch, dec_input, X_valid_len_minibatch)\n",
    "\t\t\tl = loss(Y_hat, Y_train_minibatch, Y_valid_len_minibatch, sample_weights_minibatch, label_smoothing)\n",
    "\t\t\tl.backward()  # l is loss per token\n",
    "\t\t\td2l.grad_clipping(net, 1)\n",
    "\t\t\tnum_tokens = Y_valid_len_minibatch.sum()\n",
    "\t\t\toptimizer.step()\n",
    "\t\t\tscheduler.step()\n",
    "\t\t\twith torch.no_grad():\n",
    "\t\t\t\tmetric.add(l*num_tokens, num_tokens) # loss per batch, num_tokens per batch\n",
    "\n",
    "\t\t# print + save training loss at each epoch\n",
    "\t\tanimator.add(epoch + 1, (metric[0] / metric[1],))\n",
    "\t\ttraining_loss.append(metric[0] / metric[1])\n",
    "\t\tprint(\"epoch {}, loss: {}\".format(epoch+1, metric[0] / metric[1]))\n",
    "\n",
    "\t\t# evaluation step:\n",
    "\t\tif X_validation is not None:\n",
    "\t\t\tnet.eval()\n",
    "\n",
    "\t\t\twith torch.no_grad():\n",
    "\t\t\t\t# set device\n",
    "\t\t\t\tsoftmax_layer = nn.Softmax(dim=2)\n",
    "\t\t\t\tX_validation = X_validation.to(device)\n",
    "\t\t\t\tX_validation_valid_len = X_validation_valid_len.to(device)\n",
    "\t\t\t\tY_validation = Y_validation.to(device)\n",
    "\t\t\t\tY_validation_valid_len = Y_validation_valid_len.to(device)\n",
    "\n",
    "\t\t\t\t# teacher force Y_truth\n",
    "\t\t\t\tbos = torch.tensor([amino_dict['<bos>']] * Y_validation.shape[0],\n",
    "\t\t\t\t\t\t\t\t\tdevice=device).reshape(-1, 1)\n",
    "\t\t\t\tY_true = torch.cat([bos, Y_validation[:, :-1]], 1)  # Teacher forcing -------> the first word at all batch is <bos> + keep total length same\n",
    "\t\t\t\tY_true = Y_true.type(torch.int32)\n",
    "\n",
    "\t\t\t\t# construct Y_pred\n",
    "\t\t\t\tenc_outputs = net.encoder(X_validation, X_validation_valid_len) # encoder only use X infomation\n",
    "\t\t\t\tdec_state = net.decoder.init_state(enc_outputs, X_validation_valid_len)\n",
    "\n",
    "\t\t\t\tdec_X = torch.tensor([amino_dict['<bos>']] * X_validation.shape[0],\n",
    "\t\t\t\t\t\t\t\t\tdevice=device).reshape(-1, 1) # only use info from X\n",
    "\n",
    "\t\t\t\tfor i in range(Y_validation.shape[1]-1): # here we have <bos> in pos 0\n",
    "\n",
    "\t\t\t\t\t\tY_raw, dec_state = net.decoder(dec_X, dec_state)\n",
    "\n",
    "\t\t\t\t\t\t# apply softmax to the output\n",
    "\t\t\t\t\t\tY = softmax_layer(Y_raw)\n",
    "\n",
    "\t\t\t\t\t\t# We use the token with the highest prediction likelihood as the input\n",
    "\t\t\t\t\t\t# of the decoder at the next time step\n",
    "\t\t\t\t\t\tdec_X = Y.argmax(dim=2)\n",
    "\t\t\t\t\t\tY_pred = dec_X.type(torch.int32) # (batch, 1)\n",
    "\n",
    "\t\t\t\t\t\t# we fill in prediction and do not stop\n",
    "\n",
    "\t\t\t\t# concatenate last prediction with previous ones saved by the model\n",
    "\t\t\t\tY_pred = torch.cat((net.decoder.seqX, dec_X), dim=1).type(torch.int32)\n",
    "\t\t\t\t\n",
    "\t\t\t\t# evaluate + print + save validation metric at each epoch\n",
    "\t\t\t\thamming_scores = hamming_distance_training(Y_pred, Y_true)\n",
    "\t\t\t\tvalidation_score.append(hamming_scores.cpu().numpy())\n",
    "\t\t\t\tprint(\"epoch {}, hamming distance: {}\".format(epoch+1,hamming_scores))\n",
    "\n",
    "\n",
    "\t# print useful info after all\n",
    "\tprint(f'loss {metric[0] / metric[1]:.3f}, {metric[1] / timer.stop():.1f} tokens/sec on {str(device)}')\n",
    "\n",
    "\n",
    "\t# save training loss plot\n",
    "\tplt.figure(figsize=(12, 8), facecolor=(1, 1, 1))\n",
    "\tx = list(range(1, num_epochs+1))\n",
    "\tfile_time = time.strftime('%y%b%d_%I%M%p', time.gmtime())\n",
    "\tplt.plot(x,training_loss,label=\"weighted_average_loss\")\n",
    "\tplt.xlabel('Epochs')\n",
    "\tplt.ylabel('Weighted average loss')\n",
    "\tplt.title(\"transformer <{}> training loss\".format(model_name))\n",
    "\tplt.grid()\n",
    "\tplt.legend()\n",
    "\tplt.savefig('{}_lossplot_{}.png'.format(model_name, file_time))\n",
    "\n",
    "\t# save validation metic plot\n",
    "\tplt.figure(figsize=(12, 8), facecolor=(1, 1, 1))\n",
    "\tx = list(range(1, num_epochs+1))\n",
    "\tplt.plot(x,validation_score,label=\"hamming_distance\")\n",
    "\tplt.xlabel('Epochs')\n",
    "\tplt.ylabel('Hamming distance sum')\n",
    "\tplt.title(\"transformer <{}> validation scores\".format(model_name))\n",
    "\tplt.grid()\n",
    "\tplt.legend()\n",
    "\tplt.savefig('{}_validationplot_{}.png'.format(model_name, file_time))\n",
    "\t\n",
    "\n",
    "\t# save model weights\n",
    "\t#file_time = time.strftime('%y%b%d_%I%M%p', time.gmtime())\n",
    "\tfile_name = model_name + '_' + file_time\n",
    "\n",
    "\ttorch.save(net.state_dict(), file_name)\n",
    "\t#pickle.dump(net, open(file_name, \"wb\"))"
   ]
  },
  {
   "cell_type": "code",
   "execution_count": 57,
   "metadata": {},
   "outputs": [],
   "source": [
    "# some notes about validation implementation\n",
    "\n",
    "# example: X_validation and Y_validation input has to be design to hold equal length sequence + <bos> + <eos>: \n",
    "# in this case: 8+1+1\n",
    "\n",
    "# total possible missmatch is num_steps*batch: 10*5000"
   ]
  },
  {
   "cell_type": "markdown",
   "metadata": {},
   "source": [
    "#### Transformer prediction"
   ]
  },
  {
   "cell_type": "code",
   "execution_count": 58,
   "metadata": {},
   "outputs": [],
   "source": [
    "# function to return key for any value\n",
    "\n",
    "def get_key(val, my_dict):\n",
    "    for key, value in my_dict.items():\n",
    "         if val == value:\n",
    "             return key\n",
    " \n",
    "    return \"key doesn't exist\""
   ]
  },
  {
   "cell_type": "code",
   "execution_count": 59,
   "metadata": {},
   "outputs": [],
   "source": [
    "# greedy single prediction with attention weights saved\n",
    "def predict_greedy_single(net, target_sequence_raw, amino_dict, num_steps, device, save_attention_weights=False, print_info=False):\n",
    "\t\"\"\"Predict for sequence to sequence.\"\"\"\n",
    "\n",
    "\tsoftmax_layer = nn.Softmax(dim=2)\n",
    "\ttarget_sequence = list(target_sequence_raw) # 'AEAG' -----------> ['A', 'E', 'A', 'G']\n",
    "\t\n",
    "\t# Set `net` to eval mode for inference\n",
    "\tnet.eval()\n",
    "\ttarget_sequence_unpad = [amino_dict[letter] for letter in target_sequence] + [amino_dict['<eos>']]\n",
    "\ttarget_valid_len = torch.tensor([len(target_sequence_unpad)], dtype=torch.long, device=device)\n",
    "\ttarget_sequence = d2l.truncate_pad(target_sequence_unpad, num_steps, amino_dict['<pad>'])\n",
    "\n",
    "\t# add batch to axis\n",
    "\ttarget_sequence_batch = torch.unsqueeze(torch.tensor(target_sequence, dtype=torch.long, device=device), dim=0)\n",
    "\n",
    "\tenc_outputs = net.encoder(target_sequence_batch, target_valid_len)\n",
    "\tdec_state = net.decoder.init_state(enc_outputs, target_valid_len)\n",
    "\n",
    "\t# add batch to axis\n",
    "\tdec_X = torch.unsqueeze(torch.tensor([amino_dict['<bos>']], dtype=torch.long, device=device), dim=0)\n",
    "\toutput_seq, attention_weight_seq = [], []\n",
    "\n",
    "\t# track probability\n",
    "\tprob = 1\n",
    "\n",
    "\tfor i in range(num_steps):\n",
    "\n",
    "\t\tY_raw, dec_state = net.decoder(dec_X, dec_state)\n",
    "\n",
    "\t\t# apply softmax to the output\n",
    "\t\tY = softmax_layer(Y_raw)\n",
    "\n",
    "\t\t# We use the token with the highest prediction likelihood as the input\n",
    "\t\t# of the decoder at the next time step\n",
    "\t\tdec_X = Y.argmax(dim=2)\n",
    "\t\tpred = dec_X.squeeze(dim=0).type(torch.int32).item()\n",
    "\n",
    "\t\t# track proba\n",
    "\t\tprob_i = torch.max(Y, dim=2).values.squeeze(dim=0).type(torch.float32).item()\n",
    "\t\tprob *= prob_i\n",
    "\n",
    "\t\tif print_info == True:\n",
    "\t\t\tprint(\"Conditional probability at position {} is {}\".format(i+1, prob_i))\n",
    "\n",
    "\t\t# Save attention weights (to be covered later)\n",
    "\t\tif save_attention_weights:\n",
    "\t\t\tattention_weight_seq.append(net.decoder.attention_weights())\n",
    "\t\t# Once the end-of-sequence token is predicted, the generation of the\n",
    "\t\t# output sequence is complete\n",
    "\t\tif pred == amino_dict['<eos>']:\n",
    "\t\t\tbreak\n",
    "\t\toutput_seq.append(pred) # do not append last token\n",
    "\n",
    "\tcomple_peptide_pred = \"\".join([get_key(number, amino_dict) for number in output_seq])\n",
    "\n",
    "\t# print info \n",
    "\tif print_info == True:\n",
    "\t\tprint('Input target sequence is {}, predicted complementary peptide is {}'.format(target_sequence_raw, comple_peptide_pred))\n",
    "\t\tprint(\"Condition on input, predicted probability is {}\".format(prob))\n",
    "\n",
    "\treturn comple_peptide_pred, prob, attention_weight_seq"
   ]
  },
  {
   "cell_type": "code",
   "execution_count": 60,
   "metadata": {},
   "outputs": [],
   "source": [
    "# greedy batch prediction (equal length target)\n",
    "# num_step chosen to be appropriate avoid unnecessary computational cost and correct final prediction -- prediction length + 1 + 1\n",
    "# prob includes <eos> position\n",
    "def predict_greedy_batch(net, target_sequence_list, amino_dict, num_steps, device):\n",
    "\t\"\"\"Predict for lists of target sequence to lists of complementary peptides sequence.\"\"\"\n",
    "\n",
    "\t# Set `net` to eval mode for inference\n",
    "\tnet.eval()\n",
    "\tsoftmax_layer = nn.Softmax(dim=2)\n",
    "\n",
    "\t# Preprocess batched target sequence list   \n",
    "\ttarget_sequence_list_split = [list(sequence) for sequence in target_sequence_list]\n",
    "\ttarget_sequence_unpad= [[amino_dict[letter] for letter in sequence] + [amino_dict['<eos>']] for sequence in target_sequence_list_split]\n",
    "\ttarget_valid_len = torch.tensor([len(sequence) for sequence in target_sequence_unpad], dtype=torch.long, device=device)\n",
    "\ttarget_sequence_batch = torch.tensor([d2l.truncate_pad(sequence, num_steps, amino_dict['<pad>']) for sequence in target_sequence_unpad], dtype=torch.long, device=device)\n",
    "\n",
    "\t# Encode target data\n",
    "\tenc_outputs = net.encoder(target_sequence_batch, target_valid_len)\n",
    "\tdec_state = net.decoder.init_state(enc_outputs, target_valid_len)\n",
    "\n",
    "\t# teacher enforce first \n",
    "\tdec_X = torch.tensor([amino_dict['<bos>']] * target_sequence_batch.shape[0], device=device).reshape(-1, 1) # only use info from X\n",
    "\t\n",
    "\t# track probability\n",
    "\tprob = torch.tensor([1] * target_sequence_batch.shape[0], device=device).reshape(-1, 1)\n",
    "\n",
    "\tfor i in range(num_steps-1): # here we have <bos> in pos 0\n",
    "\n",
    "\t\t\tY_raw, dec_state = net.decoder(dec_X, dec_state)\n",
    "\n",
    "\t\t\t# apply softmax to the output\n",
    "\t\t\tY = softmax_layer(Y_raw)\n",
    "\n",
    "\t\t\t# We use the token with the highest prediction likelihood as the input\n",
    "\t\t\t# of the decoder at the next time step\n",
    "\t\t\tdec_X = Y.argmax(dim=2)\n",
    "\t\t\tY_pred = dec_X.type(torch.int32) # (batch, 1)\n",
    "\n",
    "\t\t\t# track prob\n",
    "\t\t\tprob_i = torch.max(Y, dim=2).values.squeeze(dim=0)\n",
    "\t\t\tprob = torch.mul(prob, prob_i)\n",
    "\n",
    "\t\t\t# we fill in prediction and do not stop\n",
    "\n",
    "\t# concatenate last prediction with previous ones saved by the model\n",
    "\tY_pred = torch.cat((net.decoder.seqX, dec_X), dim=1).type(torch.int32)\n",
    "\n",
    "\t# join all prediction string back \n",
    "\tcomple_peptide_pred = [\"\".join([get_key(number, amino_dict) for number in output_seq]) for output_seq in Y_pred[:, 1:-1]]\n",
    "\n",
    "\t# put info together \n",
    "\tfinal = zip(target_sequence_list, comple_peptide_pred, prob.reshape(-1).tolist())\n",
    "\treturn np.array(list(final)) # to print zip object"
   ]
  },
  {
   "cell_type": "code",
   "execution_count": 61,
   "metadata": {},
   "outputs": [],
   "source": [
    "# Given one target sequence, sample a list of unique probable candidates\n",
    "# 2 common reasons: select a few less good candidates or select one better than greedy\n",
    "# 2 common uses: sample a large number if enough memory (not recommended) or select a small number but repeat frequently\n",
    "# note: repeatation is possible since last token not shown or rounding error\n",
    "\n",
    "def unique(x, dim=None):\n",
    "    \"\"\"Unique elements of x and indices of those unique elements\"\"\"\n",
    "    unique, inverse = torch.unique(\n",
    "        x, sorted=True, return_inverse=True, dim=dim)\n",
    "    perm = torch.arange(inverse.size(0), dtype=inverse.dtype,\n",
    "                        device=inverse.device)\n",
    "    inverse, perm = inverse.flip([0]), perm.flip([0])\n",
    "    return unique, inverse.new_empty(unique.size(0)).scatter_(0, inverse, perm)\n",
    "\n",
    "\n",
    "def sample_candidates(net, target_sequence_raw, num_candidates, amino_dict, num_steps, device, max_iter=100):\n",
    "\t\"\"\"Given one target sequence, sample a list of unique probable candidates.\"\"\"\n",
    "\n",
    "\t# extract special tokens to remove\n",
    "\tbos = amino_dict['<bos>']\n",
    "\teos = amino_dict['<eos>']\n",
    "\tpad = amino_dict['<pad>']\n",
    "\tunk = amino_dict['<unk>']\n",
    "\t\n",
    "\t# Set `net` to eval mode for inference\n",
    "\tnet.eval()\n",
    "\tsoftmax_layer = nn.Softmax(dim=2)\n",
    "\ttarget_sequence = list(target_sequence_raw)\n",
    "\n",
    "\t# num_remaining to produce\n",
    "\tnum_remaining = num_candidates\n",
    "\n",
    "\t# track pred and prob \n",
    "\tY_pred_track = torch.tensor([1] *(num_steps-2), device=device, dtype=torch.int32).reshape(1, -1) # track all other than <eos> and <bos>\n",
    "\tprob_track = torch.tensor([1], device=device, dtype=torch.long).reshape(1, 1) # only use info from X\n",
    "\n",
    "\t# move out for stability\n",
    "\ttarget_sequence_unpad = [amino_dict[letter] for letter in target_sequence] + [amino_dict['<eos>']]\n",
    "\n",
    "\t# track total number \n",
    "\tsamples_total = 0\n",
    "\n",
    "\tfor j in range(max_iter):\n",
    "\n",
    "\t\t# Preprocess batched target sequence\n",
    "\t\ttarget_valid_len = torch.tensor([len(target_sequence_unpad)], dtype=torch.long, device=device).repeat_interleave(num_remaining*2)\n",
    "\t\ttarget_sequence = torch.tensor(d2l.truncate_pad(target_sequence_unpad, num_steps, amino_dict['<pad>']), dtype=torch.long, device=device)\n",
    "\t\ttarget_sequence_batch = target_sequence.repeat(num_remaining*2, 1)\n",
    "\n",
    "\t\t# Encode target data\n",
    "\t\tenc_outputs = net.encoder(target_sequence_batch, target_valid_len)\n",
    "\t\tdec_state = net.decoder.init_state(enc_outputs, target_valid_len)\n",
    "\n",
    "\t\t# teacher enforce first \n",
    "\t\tdec_X = torch.tensor([amino_dict['<bos>']] * target_sequence_batch.shape[0], device=device).reshape(-1, 1) # only use info from X\n",
    "\t\t\n",
    "\t\t# track probability\n",
    "\t\tprob = torch.tensor([1] * target_sequence_batch.shape[0], dtype = torch.long, device=device).reshape(-1, 1)\n",
    "\n",
    "\n",
    "\t\tfor i in range(num_steps-2): # here we have <bos> in pos 0 and <eos> in pos -1\n",
    "\n",
    "\t\t\t\tY_raw, dec_state = net.decoder(dec_X, dec_state)\n",
    "\n",
    "\t\t\t\t# apply softmax to the output\n",
    "\t\t\t\tY = softmax_layer(Y_raw)\n",
    "\n",
    "\t\t\t\t# We sample a token from the probability distribution as the input\n",
    "\t\t\t\t# of the decoder at the next time step\n",
    "\t\t\t\t\n",
    "\t\t\t\tm = Categorical(probs=Y)\n",
    "\t\t\t\tdec_X = m.sample()\n",
    "\t\t\t\tY_pred = dec_X.type(torch.int32) # (batch, 1)\n",
    "\t\t\t\t\n",
    "\t\t\t\tindex = Y_pred.type(torch.int64)\n",
    "\t\t\t\t# track prob\n",
    "\t\t\t\tprob_i = torch.gather(Y, dim=2, index = index.unsqueeze(dim=2))\n",
    "\t\t\t\tprob_i = prob_i.squeeze(dim=2).squeeze(dim=0)\n",
    "\t\t\t\tprob = torch.mul(prob, prob_i)\n",
    "\n",
    "\t\t\t\t# we fill in prediction and do not stop for seq \n",
    "\t\t\t\t\n",
    "\t\t# concatenate last prediction with previous ones saved by the model\n",
    "\t\tY_pred = torch.cat((net.decoder.seqX, dec_X), dim=1).type(torch.int32)\n",
    "\t\tsamples_total += Y_pred.shape[0]\n",
    "\n",
    "\t\t# multiply prob for <eos> to be consistent -- go through one more time and take max\n",
    "\t\tY_raw, dec_state = net.decoder(dec_X, dec_state)\n",
    "\t\tY = softmax_layer(Y_raw)\n",
    "\t\tprob_i = torch.max(Y, dim=2).values.squeeze(dim=0)\n",
    "\t\tprob = torch.mul(prob, prob_i)\n",
    "\n",
    "\t\t# keep track\n",
    "\t\tY_pred = Y_pred[:, 1:] # remove <bos>\n",
    "\t\tY_pred_track = torch.cat((Y_pred_track, Y_pred), dim=0)\n",
    "\t\tprob_track = torch.cat((prob_track, prob), dim=0)\n",
    "\n",
    "\t\t# remove the track first rows\n",
    "\t\tif j==0:\n",
    "\t\t\tY_pred_track = Y_pred_track[1:, :]\n",
    "\t\t\tprob_track = prob_track[1:, :]\n",
    "\n",
    "\t\t# uniqueness check for the main track\n",
    "\t\tY_pred_track, unique_indices = unique(Y_pred_track, dim=0)\n",
    "\t\tprob_track = prob_track[unique_indices] # sequential undate prob track \n",
    "\t\t\n",
    "\t\t# remove the sequences containing special tokens\n",
    "\t\t\n",
    "\t\tprob_track = prob_track[~(Y_pred_track == bos).any(1), :]\n",
    "\t\tY_pred_track = Y_pred_track[~(Y_pred_track == bos).any(1), :]\n",
    "\n",
    "\t\tprob_track = prob_track[~(Y_pred_track == eos).any(1), :]\n",
    "\t\tY_pred_track = Y_pred_track[~(Y_pred_track == eos).any(1), :]\n",
    "\n",
    "\t\tprob_track = prob_track[~(Y_pred_track == pad).any(1), :]\n",
    "\t\tY_pred_track = Y_pred_track[~(Y_pred_track == pad).any(1), :]\n",
    "\n",
    "\t\tprob_track = prob_track[~(Y_pred_track == unk).any(1), :]\n",
    "\t\tY_pred_track = Y_pred_track[~(Y_pred_track == unk).any(1), :]\t\t\n",
    "\n",
    "\t\t# check whether we have enough candidates, if yes stop and produce the required amount\n",
    "\t\tif Y_pred_track.shape[0] >= num_candidates:\n",
    "\t\n",
    "\t\t\t\t# join all prediction string back \n",
    "\t\t\t\tcomple_peptide_pred = [\"\".join([get_key(number, amino_dict) for number in output_seq]) for output_seq in Y_pred_track] \n",
    "\n",
    "\t\t\t\tprob_track = prob_track.reshape(-1).tolist()\n",
    "\n",
    "\t\t\t\tdtype = [('peptide', '<U21'), ('prob', float)]\n",
    "\t\t\t\tvalues = list(zip(comple_peptide_pred, prob_track))\n",
    "\n",
    "\t\t\t\ta = np.array(values, dtype=dtype)\n",
    "\n",
    "\t\t\t\tfinal = list(np.sort(a, order='prob')[-1::-1])\n",
    "\n",
    "\t\t\t\tprint(\"number of total candidates sampled: {}\".format(samples_total))\n",
    "\t\t\t\tprint(\"number of unique top candidates successfully sampled: {}\".format(num_candidates))\n",
    "\t\t\t\treturn final[0:num_candidates]\n",
    "\n",
    "\n",
    "\t\t# if not update remaining\n",
    "\t\tnum_remaining = num_candidates - Y_pred_track.shape[0]\n",
    "\n",
    "\t# if exceeds maximum iteration, stop and return all produced \n",
    "\n",
    "\t# join all prediction string back \n",
    "\tcomple_peptide_pred = [\"\".join([get_key(number, amino_dict) for number in output_seq]) for output_seq in Y_pred_track[:, 1:-1]]\n",
    "\n",
    "\tprob_track = prob_track.reshape(-1).tolist()\n",
    "\n",
    "\tdtype = [('peptide', '<U21'), ('prob', float)]\n",
    "\tvalues = list(zip(comple_peptide_pred, prob_track))\n",
    "\n",
    "\ta = np.array(values, dtype=dtype)\n",
    "\tfinal = list(np.sort(a, order='prob')[-1::-1])\n",
    "\n",
    "\tprint(\"number of total candidates sampled: {}\".format(samples_total))\n",
    "\tprint(\"number of unique candidates successfully sampled: {}\".format(len(final)))\n",
    "\treturn final\n"
   ]
  },
  {
   "cell_type": "code",
   "execution_count": 62,
   "metadata": {},
   "outputs": [],
   "source": [
    "# evaluate a complementary peptide against a target\n",
    "def evaluate_single(net, target_sequence_raw, peptide_sequence_raw,amino_dict, num_steps, device, print_info=False):\n",
    "\t\"\"\"Predict for sequence to sequence.\"\"\"\n",
    "\n",
    "\t# Set `net` to eval mode for inference\n",
    "\tnet.eval()\n",
    "\tsoftmax_layer = nn.Softmax(dim=2)\n",
    "\n",
    "\ttarget_sequence = list(target_sequence_raw)\n",
    "\tpeptide_sequence = list(peptide_sequence_raw)\n",
    "\t\n",
    "\t# preprocess target sequence\n",
    "\ttarget_sequence_unpad = [amino_dict[letter] for letter in target_sequence] + [amino_dict['<eos>']]\n",
    "\ttarget_valid_len = torch.tensor([len(target_sequence_unpad)], dtype=torch.long, device=device)\n",
    "\ttarget_sequence = d2l.truncate_pad(target_sequence_unpad, num_steps, amino_dict['<pad>'])\n",
    "\ttarget_sequence_batch = torch.unsqueeze(torch.tensor(target_sequence, dtype=torch.long, device=device), dim=0)\n",
    "\n",
    "\t# preprocess peptide sequence\n",
    "\tpeptide_sequence_unpad = [amino_dict[letter] for letter in peptide_sequence] + [amino_dict['<eos>']]\n",
    "\tpeptide_valid_len = torch.tensor([len(peptide_sequence_unpad)], dtype=torch.long, device=device)\n",
    "\tpeptide_sequence = d2l.truncate_pad(peptide_sequence_unpad, num_steps, amino_dict['<pad>'])\n",
    "\tpeptide_sequence_batch = torch.unsqueeze(torch.tensor(peptide_sequence, dtype=torch.long, device=device), dim=0)\n",
    "\n",
    "\n",
    "\tenc_outputs = net.encoder(target_sequence_batch, target_valid_len)\n",
    "\tdec_state = net.decoder.init_state(enc_outputs, target_valid_len)\n",
    "\tdec_X = torch.unsqueeze(torch.tensor([amino_dict['<bos>']], dtype=torch.long, device=device), dim=0)\n",
    "\toutput_seq = []\n",
    "\n",
    "\t# track probability\n",
    "\tprob = 1\n",
    "\n",
    "\tfor i in range(num_steps):\n",
    "\t\n",
    "\t\tY_raw, dec_state = net.decoder(dec_X, dec_state)\n",
    "\n",
    "\t\t# apply softmax to the output\n",
    "\t\tY = softmax_layer(Y_raw)\n",
    "\n",
    "\t\t# We use the token with the highest prediction likelihood as the input\n",
    "\t\t# of the decoder at the next time step\n",
    "\t\tdec_X = peptide_sequence_batch[:, i].reshape(1,-1) # (1, 1)\n",
    "\n",
    "\t\t# track proba\n",
    "\t\tindex_i =  peptide_sequence_batch[:, i].squeeze(dim=0).item()\n",
    "\t\tprob_i = Y[:, :, index_i].squeeze(dim=0).squeeze(dim=0).type(torch.float32).item()\n",
    "\t\tprob *= prob_i\n",
    "\n",
    "\t\tif print_info == True:\n",
    "\t\t\tprint(\"Conditional probability at position {} is {}\".format(i+1, prob_i))\n",
    "\n",
    "\t\tif peptide_sequence_unpad[i] == amino_dict['<eos>']:\n",
    "\t\t\tbreak\n",
    "\n",
    "\t# print info \n",
    "\tif print_info == True:\n",
    "\t\tprint('Input target sequence is {}, complementary peptide is {}, evaluated probability is {}'.format(target_sequence_raw, peptide_sequence_raw, prob))\n",
    "\n",
    "\treturn prob"
   ]
  },
  {
   "cell_type": "markdown",
   "metadata": {},
   "source": [
    "#### Dateset target search"
   ]
  },
  {
   "cell_type": "code",
   "execution_count": 63,
   "metadata": {},
   "outputs": [],
   "source": [
    "def search_target(seq_list, seq):\n",
    "\t\"\"\"Search whether one target are in the dataset or not.\"\"\"\n",
    "\n",
    "\treturn seq_list[seq_list[:, 0]==seq]"
   ]
  },
  {
   "cell_type": "markdown",
   "metadata": {},
   "source": [
    "# Data Preprocessing"
   ]
  },
  {
   "cell_type": "markdown",
   "metadata": {},
   "source": [
    "#### Initialize amino dictionary"
   ]
  },
  {
   "cell_type": "code",
   "execution_count": 65,
   "metadata": {},
   "outputs": [],
   "source": [
    "amino_dict = {\n",
    "\t\t'<bos>': 0, \n",
    "\t\t'<eos>': 1, \n",
    "\t\t'<pad>': 2, \n",
    "\t\t'<unk>': 3,\n",
    "\t\t'A': 4,\n",
    "\t\t'C': 5,\n",
    "\t\t'D': 6, \n",
    "\t\t'E': 7,\n",
    "\t\t'F': 8, \n",
    "\t\t'G': 9, \n",
    "\t\t'H': 10,\n",
    "\t\t'I': 11, \n",
    "\t\t'K': 12, \n",
    "\t\t'L': 13, \n",
    "\t\t'M': 14, \n",
    "\t\t'N': 15, \n",
    "\t\t'P': 16, \n",
    "\t\t'Q': 17, \n",
    "\t\t'R': 18, \n",
    "\t\t'S': 19, \n",
    "\t\t'T': 20, \n",
    "\t\t'V': 21, \n",
    "\t\t'W': 22, \n",
    "\t\t'Y': 23 \n",
    "\t\t }"
   ]
  },
  {
   "cell_type": "markdown",
   "metadata": {},
   "source": [
    "#### Inspection of dataset"
   ]
  },
  {
   "cell_type": "code",
   "execution_count": 66,
   "metadata": {},
   "outputs": [
    {
     "name": "stderr",
     "output_type": "stream",
     "text": [
      "WARNING mybio.py module not found - excecution may fail\n",
      "WARNING zyggregator not found!!!\n"
     ]
    }
   ],
   "source": [
    "data_list_antiparallel= []\n",
    "data_list_parallel= []\n",
    "\n",
    "for i in range(1, 9):\n",
    "\twith open('BSn_libraries/BSn_libraries_copy/anti_frag_dic_{}.pkl'.format(i), 'rb') as f:\n",
    "\t\tdata = pickle.load(f, encoding='latin1')\n",
    "\t\tdata_list_antiparallel.append(data)\n",
    "\n",
    "\twith open('BSn_libraries/BSn_libraries_copy/para_frag_dic_{}.pkl'.format(i), 'rb') as f:\n",
    "\t\tdata = pickle.load(f, encoding='latin1')\n",
    "\t\tdata_list_parallel.append(data)"
   ]
  },
  {
   "cell_type": "markdown",
   "metadata": {},
   "source": [
    "Working score: $C = \\sum_{i=1}^{n} (l_i^2c_i - 0.01l_ip_i)$"
   ]
  },
  {
   "cell_type": "code",
   "execution_count": 67,
   "metadata": {},
   "outputs": [],
   "source": [
    "# 0 for parallel\n",
    "# 1 for antiparallel\n",
    "\n",
    "# target, complementary_seq, counts, promiscuity, length, working_score, hb_pattern, para/anti, freq\n",
    "BSn_data = []\n",
    "least_length = 3\n",
    "\n",
    "for frag_i_data in data_list_parallel[least_length-1:]:\n",
    "\tfor keys in frag_i_data.keys():\n",
    "\n",
    "\t\tlength = len(keys)\n",
    "\t\tfreq = len(frag_i_data[keys])\n",
    "\t\tfor element in frag_i_data[keys]:\n",
    "\n",
    "\t\t\tworking_score = length**2 * element.count_score - 0.01 * length * element.promiscuity_score\n",
    "\t\t\tlist_i = [keys, element.complementary_sequence, element.count_score, element.promiscuity_score, length, working_score, element.hb_pattern, 0, freq]\n",
    "\t\t\tBSn_data.append(list_i)\n",
    "\n",
    "for frag_i_data in data_list_antiparallel[least_length-1:]:\n",
    "\tfor keys in frag_i_data.keys():\n",
    "\n",
    "\t\tlength = len(keys)\n",
    "\t\tfreq = len(frag_i_data[keys])\n",
    "\t\tfor element in frag_i_data[keys]:\n",
    "\n",
    "\t\t\tworking_score = length**2 * element.count_score - 0.01 * length * element.promiscuity_score\n",
    "\t\t\tlist_i = [keys, element.complementary_sequence, element.count_score, element.promiscuity_score, length, working_score, element.hb_pattern, 1, freq]\n",
    "\t\t\tBSn_data.append(list_i)"
   ]
  },
  {
   "cell_type": "code",
   "execution_count": 68,
   "metadata": {},
   "outputs": [
    {
     "name": "stdout",
     "output_type": "stream",
     "text": [
      "2206533\n",
      "['MLGVTFE', 'ALSFETK', 1, 0, 7, 49.0, ((None, None), (0, 0), (None, None), (0, 0), (None, None), (0, 0), (None, None)), 1, 2]\n",
      "['MLGVTFE', 'VYTKTLR', 1, 0, 7, 49.0, ((0, 0), (None, None), (0, 0), (None, None), (0, 0), (None, None), (0, 0)), 1, 2]\n"
     ]
    }
   ],
   "source": [
    "print(len(BSn_data))\n",
    "print(BSn_data[2100004])\n",
    "print(BSn_data[2100005])\n",
    "# target, complementary_seq, counts, promiscuity, length, working_score, hb_pattern, para/anti, freq"
   ]
  },
  {
   "cell_type": "markdown",
   "metadata": {},
   "source": [
    "#### Tailor the dataset for training"
   ]
  },
  {
   "cell_type": "code",
   "execution_count": 69,
   "metadata": {},
   "outputs": [
    {
     "name": "stdout",
     "output_type": "stream",
     "text": [
      "(2105108, 9)\n",
      "(2105108, 9)\n"
     ]
    }
   ],
   "source": [
    "# assign working scores and remove bad samples\n",
    "\n",
    "BSn_data_dataset_sequence = np.array(BSn_data, dtype=object)\n",
    "\n",
    "# here we manually eliminate those with sample negative weights\n",
    "BSn_data_dataset1 = np.array(BSn_data_dataset_sequence[BSn_data_dataset_sequence[:, 5] >= 0])\n",
    "BSn_data_dataset2 = np.array(BSn_data_dataset_sequence[BSn_data_dataset_sequence[:, 5] >= 0])\n",
    "\n",
    "print(BSn_data_dataset1.shape)\n",
    "print(BSn_data_dataset2.shape)"
   ]
  },
  {
   "cell_type": "markdown",
   "metadata": {},
   "source": [
    "Only run one of following!"
   ]
  },
  {
   "cell_type": "code",
   "execution_count": 70,
   "metadata": {},
   "outputs": [
    {
     "name": "stdout",
     "output_type": "stream",
     "text": [
      "torch.Size([2105108, 10])\n",
      "torch.Size([2105108, 10])\n",
      "torch.Size([2105108])\n",
      "torch.Size([2105108])\n",
      "torch.Size([2105108])\n"
     ]
    }
   ],
   "source": [
    "# use the whole dataset in training\n",
    "\n",
    "num_steps_training = 10 # maximum length of training sequences\n",
    "\n",
    "X_train, X_valid_len, Y_train, Y_valid_len = preprocess_train(BSn_data_dataset1[:, 0], BSn_data_dataset1[:, 1], amino_dict, num_steps_training)\n",
    "\n",
    "working_score_tensor = torch.tensor(list(BSn_data_dataset1[:, 5]))\n",
    "\n",
    "print(X_train.shape)\n",
    "print(Y_train.shape)\n",
    "print(X_valid_len.shape)\n",
    "print(Y_valid_len.shape)\n",
    "print(working_score_tensor.shape)"
   ]
  },
  {
   "cell_type": "code",
   "execution_count": 71,
   "metadata": {},
   "outputs": [
    {
     "name": "stdout",
     "output_type": "stream",
     "text": [
      "number of length 8 samples:  (51714, 10)\n",
      "number of unique length 8 sample:  (39952, 10)\n",
      "[2087203 2061823 2089262 ... 2085913 2079467 2060323]\n",
      "------------data below---------\n",
      "(2100108,)\n",
      "(2100108,)\n",
      "(5000,)\n",
      "(5000,)\n"
     ]
    }
   ],
   "source": [
    "# or the follow two cells: 5000 unique length 8 seq\n",
    "\n",
    "target_indices = np.arange(BSn_data_dataset2.shape[0]).reshape(-1, 1)\n",
    "BSn_data_dataset2_indices = np.hstack([BSn_data_dataset2, target_indices])\n",
    "\n",
    "condition1 = np.nonzero(np.array([length==8 for length in BSn_data_dataset2_indices[:, 4]]))\n",
    "BSn_data_dataset2_indices_length8 = BSn_data_dataset2_indices[condition1]\n",
    "\n",
    "condition2 = np.nonzero(np.array([freq==1 for freq in BSn_data_dataset2_indices_length8[:, -2]]))\n",
    "BSn_data_dataset2_indices_length8_unique = BSn_data_dataset2_indices_length8[condition2]\n",
    "\n",
    "# set seed\n",
    "np.random.seed(0)\n",
    "validation_indices = np.random.choice(BSn_data_dataset2_indices_length8_unique[:, -1], size=5000, replace=False).astype(np.int32)\n",
    "\n",
    "X_train_letter = np.delete(BSn_data_dataset2[:, 0], validation_indices, axis=0)\n",
    "Y_train_letter = np.delete(BSn_data_dataset2[:, 1], validation_indices, axis=0)\n",
    "X_validation_letter = BSn_data_dataset2[validation_indices, 0]\n",
    "Y_validation_letter = BSn_data_dataset2[validation_indices, 1]\n",
    "\n",
    "print(\"number of length 8 samples: \", BSn_data_dataset2_indices_length8.shape)\n",
    "print(\"number of unique length 8 sample: \", BSn_data_dataset2_indices_length8_unique.shape)\n",
    "print(validation_indices)\n",
    "print(\"------------data below---------\")\n",
    "print(X_train_letter.shape)\n",
    "print(Y_train_letter.shape)\n",
    "print(X_validation_letter.shape)\n",
    "print(Y_validation_letter.shape)"
   ]
  },
  {
   "cell_type": "code",
   "execution_count": 72,
   "metadata": {},
   "outputs": [
    {
     "name": "stdout",
     "output_type": "stream",
     "text": [
      "---------training info----------\n",
      "torch.Size([2100108, 10])\n",
      "torch.Size([2100108, 10])\n",
      "torch.Size([2100108])\n",
      "torch.Size([2100108])\n",
      "tensor([ 8.9400,  8.5500,  8.6400,  5.8500,  3.3600,  8.1900,  7.8000, 14.9100,\n",
      "         8.4600,  8.4300,  8.3400,  7.9500,  7.5900,  5.0700, 20.0400,  7.1100,\n",
      "         6.5700,  5.2500,  5.0100,  8.9400])\n",
      "---------validation info------------\n",
      "torch.Size([5000, 10])\n",
      "torch.Size([5000, 10])\n",
      "torch.Size([5000])\n",
      "torch.Size([5000])\n"
     ]
    }
   ],
   "source": [
    "# split the data in training and validation\n",
    "\n",
    "num_steps_training = 10 # maximum length of training sequences\n",
    "\n",
    "X_train, X_valid_len, Y_train, Y_valid_len, X_validation, X_validation_valid_len, Y_validation, Y_validation_valid_len = preprocess_train(X_train_letter, Y_train_letter, amino_dict, num_steps_training, X_validation_letter=X_validation_letter, Y_validation_letter=Y_validation_letter)\n",
    "\n",
    "working_score_tensor = torch.tensor(list(np.delete(BSn_data_dataset2[:, 5], validation_indices, axis=0)))\n",
    "\n",
    "print('---------training info----------')\n",
    "print(X_train.shape)\n",
    "print(Y_train.shape)\n",
    "print(X_valid_len.shape)\n",
    "print(Y_valid_len.shape)\n",
    "print(working_score_tensor[:20])\n",
    "print('---------validation info------------')\n",
    "print(X_validation.shape)\n",
    "print(Y_validation.shape)\n",
    "print(X_validation_valid_len.shape)\n",
    "print(Y_validation_valid_len.shape)"
   ]
  },
  {
   "cell_type": "markdown",
   "metadata": {},
   "source": [
    "# Task 1: Generative ability test on protein dataset"
   ]
  },
  {
   "cell_type": "markdown",
   "metadata": {},
   "source": [
    "#### Build demo model"
   ]
  },
  {
   "cell_type": "code",
   "execution_count": null,
   "metadata": {},
   "outputs": [],
   "source": [
    "query_size, key_size, value_size, num_hiddens = 32, 32, 32, 32\n",
    "num_layers, dropout = 1, 0.1\n",
    "lr, num_epochs, batch_size, label_smoothing = 0.005, 3, 6000, 0.1\n",
    "ffn_num_input, ffn_num_hiddens, num_heads = 32, 64, 4\n",
    "\n",
    "norm_shape = [32] # 32 corresponds to the dim of such number to normalize\n",
    "device = d2l.try_gpu()"
   ]
  },
  {
   "cell_type": "code",
   "execution_count": null,
   "metadata": {},
   "outputs": [],
   "source": [
    "encoder_demo = TransformerEncoder(\n",
    "\tlen(amino_dict), key_size, query_size, value_size, num_hiddens, \n",
    "\tnorm_shape, ffn_num_input, ffn_num_hiddens, num_heads,\n",
    "\tnum_layers, dropout)\n",
    "decoder_demo = TransformerDecoder(\n",
    "\tlen(amino_dict), key_size, query_size, value_size, num_hiddens, \n",
    "\tnorm_shape, ffn_num_input, ffn_num_hiddens, num_heads,\n",
    "\tnum_layers, dropout)\n",
    "model_demo = EncoderDecoder(encoder_demo, decoder_demo)"
   ]
  },
  {
   "cell_type": "code",
   "execution_count": null,
   "metadata": {},
   "outputs": [
    {
     "name": "stdout",
     "output_type": "stream",
     "text": [
      "total number of parameters: 23320\n",
      "total number of trainable parameters: 23320\n"
     ]
    }
   ],
   "source": [
    "pytorch_total_params = sum(p.numel() for p in model_demo.parameters())\n",
    "pytorch_total_trainable_params = sum(p.numel() for p in model_demo.parameters() if p.requires_grad)\n",
    "\n",
    "print('total number of parameters: {}'.format(pytorch_total_params))\n",
    "print('total number of trainable parameters: {}'.format(pytorch_total_trainable_params))"
   ]
  },
  {
   "cell_type": "markdown",
   "metadata": {},
   "source": [
    "#### Model training"
   ]
  },
  {
   "cell_type": "code",
   "execution_count": null,
   "metadata": {},
   "outputs": [
    {
     "name": "stdout",
     "output_type": "stream",
     "text": [
      "epoch 3, loss: 1.508983238801253\n",
      "epoch 3, hamming distance: 34884\n",
      "loss 1.509, 26065.3 tokens/sec on cpu\n"
     ]
    },
    {
     "data": {
      "image/svg+xml": "<?xml version=\"1.0\" encoding=\"utf-8\" standalone=\"no\"?>\n<!DOCTYPE svg PUBLIC \"-//W3C//DTD SVG 1.1//EN\"\n  \"http://www.w3.org/Graphics/SVG/1.1/DTD/svg11.dtd\">\n<svg xmlns:xlink=\"http://www.w3.org/1999/xlink\" width=\"252.64375pt\" height=\"180.65625pt\" viewBox=\"0 0 252.64375 180.65625\" xmlns=\"http://www.w3.org/2000/svg\" version=\"1.1\">\n <metadata>\n  <rdf:RDF xmlns:dc=\"http://purl.org/dc/elements/1.1/\" xmlns:cc=\"http://creativecommons.org/ns#\" xmlns:rdf=\"http://www.w3.org/1999/02/22-rdf-syntax-ns#\">\n   <cc:Work>\n    <dc:type rdf:resource=\"http://purl.org/dc/dcmitype/StillImage\"/>\n    <dc:date>2022-07-15T15:51:07.172768</dc:date>\n    <dc:format>image/svg+xml</dc:format>\n    <dc:creator>\n     <cc:Agent>\n      <dc:title>Matplotlib v3.5.2, https://matplotlib.org/</dc:title>\n     </cc:Agent>\n    </dc:creator>\n   </cc:Work>\n  </rdf:RDF>\n </metadata>\n <defs>\n  <style type=\"text/css\">*{stroke-linejoin: round; stroke-linecap: butt}</style>\n </defs>\n <g id=\"figure_1\">\n  <g id=\"patch_1\">\n   <path d=\"M 0 180.65625 \nL 252.64375 180.65625 \nL 252.64375 0 \nL 0 0 \nL 0 180.65625 \nz\n\" style=\"fill: none\"/>\n  </g>\n  <g id=\"axes_1\">\n   <g id=\"patch_2\">\n    <path d=\"M 50.14375 143.1 \nL 245.44375 143.1 \nL 245.44375 7.2 \nL 50.14375 7.2 \nz\n\" style=\"fill: #ffffff\"/>\n   </g>\n   <g id=\"matplotlib.axis_1\">\n    <g id=\"xtick_1\">\n     <g id=\"line2d_1\">\n      <path d=\"M 59.021023 143.1 \nL 59.021023 7.2 \n\" clip-path=\"url(#pfe7605b769)\" style=\"fill: none; stroke: #b0b0b0; stroke-width: 0.8; stroke-linecap: square\"/>\n     </g>\n     <g id=\"line2d_2\">\n      <defs>\n       <path id=\"mfbd79eb955\" d=\"M 0 0 \nL 0 3.5 \n\" style=\"stroke: #000000; stroke-width: 0.8\"/>\n      </defs>\n      <g>\n       <use xlink:href=\"#mfbd79eb955\" x=\"59.021023\" y=\"143.1\" style=\"stroke: #000000; stroke-width: 0.8\"/>\n      </g>\n     </g>\n     <g id=\"text_1\">\n      <!-- 1.0 -->\n      <g transform=\"translate(51.06946 157.698438)scale(0.1 -0.1)\">\n       <defs>\n        <path id=\"DejaVuSans-31\" d=\"M 794 531 \nL 1825 531 \nL 1825 4091 \nL 703 3866 \nL 703 4441 \nL 1819 4666 \nL 2450 4666 \nL 2450 531 \nL 3481 531 \nL 3481 0 \nL 794 0 \nL 794 531 \nz\n\" transform=\"scale(0.015625)\"/>\n        <path id=\"DejaVuSans-2e\" d=\"M 684 794 \nL 1344 794 \nL 1344 0 \nL 684 0 \nL 684 794 \nz\n\" transform=\"scale(0.015625)\"/>\n        <path id=\"DejaVuSans-30\" d=\"M 2034 4250 \nQ 1547 4250 1301 3770 \nQ 1056 3291 1056 2328 \nQ 1056 1369 1301 889 \nQ 1547 409 2034 409 \nQ 2525 409 2770 889 \nQ 3016 1369 3016 2328 \nQ 3016 3291 2770 3770 \nQ 2525 4250 2034 4250 \nz\nM 2034 4750 \nQ 2819 4750 3233 4129 \nQ 3647 3509 3647 2328 \nQ 3647 1150 3233 529 \nQ 2819 -91 2034 -91 \nQ 1250 -91 836 529 \nQ 422 1150 422 2328 \nQ 422 3509 836 4129 \nQ 1250 4750 2034 4750 \nz\n\" transform=\"scale(0.015625)\"/>\n       </defs>\n       <use xlink:href=\"#DejaVuSans-31\"/>\n       <use xlink:href=\"#DejaVuSans-2e\" x=\"63.623047\"/>\n       <use xlink:href=\"#DejaVuSans-30\" x=\"95.410156\"/>\n      </g>\n     </g>\n    </g>\n    <g id=\"xtick_2\">\n     <g id=\"line2d_3\">\n      <path d=\"M 103.407386 143.1 \nL 103.407386 7.2 \n\" clip-path=\"url(#pfe7605b769)\" style=\"fill: none; stroke: #b0b0b0; stroke-width: 0.8; stroke-linecap: square\"/>\n     </g>\n     <g id=\"line2d_4\">\n      <g>\n       <use xlink:href=\"#mfbd79eb955\" x=\"103.407386\" y=\"143.1\" style=\"stroke: #000000; stroke-width: 0.8\"/>\n      </g>\n     </g>\n     <g id=\"text_2\">\n      <!-- 1.5 -->\n      <g transform=\"translate(95.455824 157.698438)scale(0.1 -0.1)\">\n       <defs>\n        <path id=\"DejaVuSans-35\" d=\"M 691 4666 \nL 3169 4666 \nL 3169 4134 \nL 1269 4134 \nL 1269 2991 \nQ 1406 3038 1543 3061 \nQ 1681 3084 1819 3084 \nQ 2600 3084 3056 2656 \nQ 3513 2228 3513 1497 \nQ 3513 744 3044 326 \nQ 2575 -91 1722 -91 \nQ 1428 -91 1123 -41 \nQ 819 9 494 109 \nL 494 744 \nQ 775 591 1075 516 \nQ 1375 441 1709 441 \nQ 2250 441 2565 725 \nQ 2881 1009 2881 1497 \nQ 2881 1984 2565 2268 \nQ 2250 2553 1709 2553 \nQ 1456 2553 1204 2497 \nQ 953 2441 691 2322 \nL 691 4666 \nz\n\" transform=\"scale(0.015625)\"/>\n       </defs>\n       <use xlink:href=\"#DejaVuSans-31\"/>\n       <use xlink:href=\"#DejaVuSans-2e\" x=\"63.623047\"/>\n       <use xlink:href=\"#DejaVuSans-35\" x=\"95.410156\"/>\n      </g>\n     </g>\n    </g>\n    <g id=\"xtick_3\">\n     <g id=\"line2d_5\">\n      <path d=\"M 147.79375 143.1 \nL 147.79375 7.2 \n\" clip-path=\"url(#pfe7605b769)\" style=\"fill: none; stroke: #b0b0b0; stroke-width: 0.8; stroke-linecap: square\"/>\n     </g>\n     <g id=\"line2d_6\">\n      <g>\n       <use xlink:href=\"#mfbd79eb955\" x=\"147.79375\" y=\"143.1\" style=\"stroke: #000000; stroke-width: 0.8\"/>\n      </g>\n     </g>\n     <g id=\"text_3\">\n      <!-- 2.0 -->\n      <g transform=\"translate(139.842188 157.698438)scale(0.1 -0.1)\">\n       <defs>\n        <path id=\"DejaVuSans-32\" d=\"M 1228 531 \nL 3431 531 \nL 3431 0 \nL 469 0 \nL 469 531 \nQ 828 903 1448 1529 \nQ 2069 2156 2228 2338 \nQ 2531 2678 2651 2914 \nQ 2772 3150 2772 3378 \nQ 2772 3750 2511 3984 \nQ 2250 4219 1831 4219 \nQ 1534 4219 1204 4116 \nQ 875 4013 500 3803 \nL 500 4441 \nQ 881 4594 1212 4672 \nQ 1544 4750 1819 4750 \nQ 2544 4750 2975 4387 \nQ 3406 4025 3406 3419 \nQ 3406 3131 3298 2873 \nQ 3191 2616 2906 2266 \nQ 2828 2175 2409 1742 \nQ 1991 1309 1228 531 \nz\n\" transform=\"scale(0.015625)\"/>\n       </defs>\n       <use xlink:href=\"#DejaVuSans-32\"/>\n       <use xlink:href=\"#DejaVuSans-2e\" x=\"63.623047\"/>\n       <use xlink:href=\"#DejaVuSans-30\" x=\"95.410156\"/>\n      </g>\n     </g>\n    </g>\n    <g id=\"xtick_4\">\n     <g id=\"line2d_7\">\n      <path d=\"M 192.180114 143.1 \nL 192.180114 7.2 \n\" clip-path=\"url(#pfe7605b769)\" style=\"fill: none; stroke: #b0b0b0; stroke-width: 0.8; stroke-linecap: square\"/>\n     </g>\n     <g id=\"line2d_8\">\n      <g>\n       <use xlink:href=\"#mfbd79eb955\" x=\"192.180114\" y=\"143.1\" style=\"stroke: #000000; stroke-width: 0.8\"/>\n      </g>\n     </g>\n     <g id=\"text_4\">\n      <!-- 2.5 -->\n      <g transform=\"translate(184.228551 157.698438)scale(0.1 -0.1)\">\n       <use xlink:href=\"#DejaVuSans-32\"/>\n       <use xlink:href=\"#DejaVuSans-2e\" x=\"63.623047\"/>\n       <use xlink:href=\"#DejaVuSans-35\" x=\"95.410156\"/>\n      </g>\n     </g>\n    </g>\n    <g id=\"xtick_5\">\n     <g id=\"line2d_9\">\n      <path d=\"M 236.566477 143.1 \nL 236.566477 7.2 \n\" clip-path=\"url(#pfe7605b769)\" style=\"fill: none; stroke: #b0b0b0; stroke-width: 0.8; stroke-linecap: square\"/>\n     </g>\n     <g id=\"line2d_10\">\n      <g>\n       <use xlink:href=\"#mfbd79eb955\" x=\"236.566477\" y=\"143.1\" style=\"stroke: #000000; stroke-width: 0.8\"/>\n      </g>\n     </g>\n     <g id=\"text_5\">\n      <!-- 3.0 -->\n      <g transform=\"translate(228.614915 157.698438)scale(0.1 -0.1)\">\n       <defs>\n        <path id=\"DejaVuSans-33\" d=\"M 2597 2516 \nQ 3050 2419 3304 2112 \nQ 3559 1806 3559 1356 \nQ 3559 666 3084 287 \nQ 2609 -91 1734 -91 \nQ 1441 -91 1130 -33 \nQ 819 25 488 141 \nL 488 750 \nQ 750 597 1062 519 \nQ 1375 441 1716 441 \nQ 2309 441 2620 675 \nQ 2931 909 2931 1356 \nQ 2931 1769 2642 2001 \nQ 2353 2234 1838 2234 \nL 1294 2234 \nL 1294 2753 \nL 1863 2753 \nQ 2328 2753 2575 2939 \nQ 2822 3125 2822 3475 \nQ 2822 3834 2567 4026 \nQ 2313 4219 1838 4219 \nQ 1578 4219 1281 4162 \nQ 984 4106 628 3988 \nL 628 4550 \nQ 988 4650 1302 4700 \nQ 1616 4750 1894 4750 \nQ 2613 4750 3031 4423 \nQ 3450 4097 3450 3541 \nQ 3450 3153 3228 2886 \nQ 3006 2619 2597 2516 \nz\n\" transform=\"scale(0.015625)\"/>\n       </defs>\n       <use xlink:href=\"#DejaVuSans-33\"/>\n       <use xlink:href=\"#DejaVuSans-2e\" x=\"63.623047\"/>\n       <use xlink:href=\"#DejaVuSans-30\" x=\"95.410156\"/>\n      </g>\n     </g>\n    </g>\n    <g id=\"text_6\">\n     <!-- epoch -->\n     <g transform=\"translate(132.565625 171.376563)scale(0.1 -0.1)\">\n      <defs>\n       <path id=\"DejaVuSans-65\" d=\"M 3597 1894 \nL 3597 1613 \nL 953 1613 \nQ 991 1019 1311 708 \nQ 1631 397 2203 397 \nQ 2534 397 2845 478 \nQ 3156 559 3463 722 \nL 3463 178 \nQ 3153 47 2828 -22 \nQ 2503 -91 2169 -91 \nQ 1331 -91 842 396 \nQ 353 884 353 1716 \nQ 353 2575 817 3079 \nQ 1281 3584 2069 3584 \nQ 2775 3584 3186 3129 \nQ 3597 2675 3597 1894 \nz\nM 3022 2063 \nQ 3016 2534 2758 2815 \nQ 2500 3097 2075 3097 \nQ 1594 3097 1305 2825 \nQ 1016 2553 972 2059 \nL 3022 2063 \nz\n\" transform=\"scale(0.015625)\"/>\n       <path id=\"DejaVuSans-70\" d=\"M 1159 525 \nL 1159 -1331 \nL 581 -1331 \nL 581 3500 \nL 1159 3500 \nL 1159 2969 \nQ 1341 3281 1617 3432 \nQ 1894 3584 2278 3584 \nQ 2916 3584 3314 3078 \nQ 3713 2572 3713 1747 \nQ 3713 922 3314 415 \nQ 2916 -91 2278 -91 \nQ 1894 -91 1617 61 \nQ 1341 213 1159 525 \nz\nM 3116 1747 \nQ 3116 2381 2855 2742 \nQ 2594 3103 2138 3103 \nQ 1681 3103 1420 2742 \nQ 1159 2381 1159 1747 \nQ 1159 1113 1420 752 \nQ 1681 391 2138 391 \nQ 2594 391 2855 752 \nQ 3116 1113 3116 1747 \nz\n\" transform=\"scale(0.015625)\"/>\n       <path id=\"DejaVuSans-6f\" d=\"M 1959 3097 \nQ 1497 3097 1228 2736 \nQ 959 2375 959 1747 \nQ 959 1119 1226 758 \nQ 1494 397 1959 397 \nQ 2419 397 2687 759 \nQ 2956 1122 2956 1747 \nQ 2956 2369 2687 2733 \nQ 2419 3097 1959 3097 \nz\nM 1959 3584 \nQ 2709 3584 3137 3096 \nQ 3566 2609 3566 1747 \nQ 3566 888 3137 398 \nQ 2709 -91 1959 -91 \nQ 1206 -91 779 398 \nQ 353 888 353 1747 \nQ 353 2609 779 3096 \nQ 1206 3584 1959 3584 \nz\n\" transform=\"scale(0.015625)\"/>\n       <path id=\"DejaVuSans-63\" d=\"M 3122 3366 \nL 3122 2828 \nQ 2878 2963 2633 3030 \nQ 2388 3097 2138 3097 \nQ 1578 3097 1268 2742 \nQ 959 2388 959 1747 \nQ 959 1106 1268 751 \nQ 1578 397 2138 397 \nQ 2388 397 2633 464 \nQ 2878 531 3122 666 \nL 3122 134 \nQ 2881 22 2623 -34 \nQ 2366 -91 2075 -91 \nQ 1284 -91 818 406 \nQ 353 903 353 1747 \nQ 353 2603 823 3093 \nQ 1294 3584 2113 3584 \nQ 2378 3584 2631 3529 \nQ 2884 3475 3122 3366 \nz\n\" transform=\"scale(0.015625)\"/>\n       <path id=\"DejaVuSans-68\" d=\"M 3513 2113 \nL 3513 0 \nL 2938 0 \nL 2938 2094 \nQ 2938 2591 2744 2837 \nQ 2550 3084 2163 3084 \nQ 1697 3084 1428 2787 \nQ 1159 2491 1159 1978 \nL 1159 0 \nL 581 0 \nL 581 4863 \nL 1159 4863 \nL 1159 2956 \nQ 1366 3272 1645 3428 \nQ 1925 3584 2291 3584 \nQ 2894 3584 3203 3211 \nQ 3513 2838 3513 2113 \nz\n\" transform=\"scale(0.015625)\"/>\n      </defs>\n      <use xlink:href=\"#DejaVuSans-65\"/>\n      <use xlink:href=\"#DejaVuSans-70\" x=\"61.523438\"/>\n      <use xlink:href=\"#DejaVuSans-6f\" x=\"125\"/>\n      <use xlink:href=\"#DejaVuSans-63\" x=\"186.181641\"/>\n      <use xlink:href=\"#DejaVuSans-68\" x=\"241.162109\"/>\n     </g>\n    </g>\n   </g>\n   <g id=\"matplotlib.axis_2\">\n    <g id=\"ytick_1\">\n     <g id=\"line2d_11\">\n      <path d=\"M 50.14375 134.428712 \nL 245.44375 134.428712 \n\" clip-path=\"url(#pfe7605b769)\" style=\"fill: none; stroke: #b0b0b0; stroke-width: 0.8; stroke-linecap: square\"/>\n     </g>\n     <g id=\"line2d_12\">\n      <defs>\n       <path id=\"mb4eb5a2207\" d=\"M 0 0 \nL -3.5 0 \n\" style=\"stroke: #000000; stroke-width: 0.8\"/>\n      </defs>\n      <g>\n       <use xlink:href=\"#mb4eb5a2207\" x=\"50.14375\" y=\"134.428712\" style=\"stroke: #000000; stroke-width: 0.8\"/>\n      </g>\n     </g>\n     <g id=\"text_7\">\n      <!-- 1.51 -->\n      <g transform=\"translate(20.878125 138.22793)scale(0.1 -0.1)\">\n       <use xlink:href=\"#DejaVuSans-31\"/>\n       <use xlink:href=\"#DejaVuSans-2e\" x=\"63.623047\"/>\n       <use xlink:href=\"#DejaVuSans-35\" x=\"95.410156\"/>\n       <use xlink:href=\"#DejaVuSans-31\" x=\"159.033203\"/>\n      </g>\n     </g>\n    </g>\n    <g id=\"ytick_2\">\n     <g id=\"line2d_13\">\n      <path d=\"M 50.14375 109.899691 \nL 245.44375 109.899691 \n\" clip-path=\"url(#pfe7605b769)\" style=\"fill: none; stroke: #b0b0b0; stroke-width: 0.8; stroke-linecap: square\"/>\n     </g>\n     <g id=\"line2d_14\">\n      <g>\n       <use xlink:href=\"#mb4eb5a2207\" x=\"50.14375\" y=\"109.899691\" style=\"stroke: #000000; stroke-width: 0.8\"/>\n      </g>\n     </g>\n     <g id=\"text_8\">\n      <!-- 1.52 -->\n      <g transform=\"translate(20.878125 113.69891)scale(0.1 -0.1)\">\n       <use xlink:href=\"#DejaVuSans-31\"/>\n       <use xlink:href=\"#DejaVuSans-2e\" x=\"63.623047\"/>\n       <use xlink:href=\"#DejaVuSans-35\" x=\"95.410156\"/>\n       <use xlink:href=\"#DejaVuSans-32\" x=\"159.033203\"/>\n      </g>\n     </g>\n    </g>\n    <g id=\"ytick_3\">\n     <g id=\"line2d_15\">\n      <path d=\"M 50.14375 85.370671 \nL 245.44375 85.370671 \n\" clip-path=\"url(#pfe7605b769)\" style=\"fill: none; stroke: #b0b0b0; stroke-width: 0.8; stroke-linecap: square\"/>\n     </g>\n     <g id=\"line2d_16\">\n      <g>\n       <use xlink:href=\"#mb4eb5a2207\" x=\"50.14375\" y=\"85.370671\" style=\"stroke: #000000; stroke-width: 0.8\"/>\n      </g>\n     </g>\n     <g id=\"text_9\">\n      <!-- 1.53 -->\n      <g transform=\"translate(20.878125 89.16989)scale(0.1 -0.1)\">\n       <use xlink:href=\"#DejaVuSans-31\"/>\n       <use xlink:href=\"#DejaVuSans-2e\" x=\"63.623047\"/>\n       <use xlink:href=\"#DejaVuSans-35\" x=\"95.410156\"/>\n       <use xlink:href=\"#DejaVuSans-33\" x=\"159.033203\"/>\n      </g>\n     </g>\n    </g>\n    <g id=\"ytick_4\">\n     <g id=\"line2d_17\">\n      <path d=\"M 50.14375 60.841651 \nL 245.44375 60.841651 \n\" clip-path=\"url(#pfe7605b769)\" style=\"fill: none; stroke: #b0b0b0; stroke-width: 0.8; stroke-linecap: square\"/>\n     </g>\n     <g id=\"line2d_18\">\n      <g>\n       <use xlink:href=\"#mb4eb5a2207\" x=\"50.14375\" y=\"60.841651\" style=\"stroke: #000000; stroke-width: 0.8\"/>\n      </g>\n     </g>\n     <g id=\"text_10\">\n      <!-- 1.54 -->\n      <g transform=\"translate(20.878125 64.640869)scale(0.1 -0.1)\">\n       <defs>\n        <path id=\"DejaVuSans-34\" d=\"M 2419 4116 \nL 825 1625 \nL 2419 1625 \nL 2419 4116 \nz\nM 2253 4666 \nL 3047 4666 \nL 3047 1625 \nL 3713 1625 \nL 3713 1100 \nL 3047 1100 \nL 3047 0 \nL 2419 0 \nL 2419 1100 \nL 313 1100 \nL 313 1709 \nL 2253 4666 \nz\n\" transform=\"scale(0.015625)\"/>\n       </defs>\n       <use xlink:href=\"#DejaVuSans-31\"/>\n       <use xlink:href=\"#DejaVuSans-2e\" x=\"63.623047\"/>\n       <use xlink:href=\"#DejaVuSans-35\" x=\"95.410156\"/>\n       <use xlink:href=\"#DejaVuSans-34\" x=\"159.033203\"/>\n      </g>\n     </g>\n    </g>\n    <g id=\"ytick_5\">\n     <g id=\"line2d_19\">\n      <path d=\"M 50.14375 36.31263 \nL 245.44375 36.31263 \n\" clip-path=\"url(#pfe7605b769)\" style=\"fill: none; stroke: #b0b0b0; stroke-width: 0.8; stroke-linecap: square\"/>\n     </g>\n     <g id=\"line2d_20\">\n      <g>\n       <use xlink:href=\"#mb4eb5a2207\" x=\"50.14375\" y=\"36.31263\" style=\"stroke: #000000; stroke-width: 0.8\"/>\n      </g>\n     </g>\n     <g id=\"text_11\">\n      <!-- 1.55 -->\n      <g transform=\"translate(20.878125 40.111849)scale(0.1 -0.1)\">\n       <use xlink:href=\"#DejaVuSans-31\"/>\n       <use xlink:href=\"#DejaVuSans-2e\" x=\"63.623047\"/>\n       <use xlink:href=\"#DejaVuSans-35\" x=\"95.410156\"/>\n       <use xlink:href=\"#DejaVuSans-35\" x=\"159.033203\"/>\n      </g>\n     </g>\n    </g>\n    <g id=\"ytick_6\">\n     <g id=\"line2d_21\">\n      <path d=\"M 50.14375 11.78361 \nL 245.44375 11.78361 \n\" clip-path=\"url(#pfe7605b769)\" style=\"fill: none; stroke: #b0b0b0; stroke-width: 0.8; stroke-linecap: square\"/>\n     </g>\n     <g id=\"line2d_22\">\n      <g>\n       <use xlink:href=\"#mb4eb5a2207\" x=\"50.14375\" y=\"11.78361\" style=\"stroke: #000000; stroke-width: 0.8\"/>\n      </g>\n     </g>\n     <g id=\"text_12\">\n      <!-- 1.56 -->\n      <g transform=\"translate(20.878125 15.582829)scale(0.1 -0.1)\">\n       <defs>\n        <path id=\"DejaVuSans-36\" d=\"M 2113 2584 \nQ 1688 2584 1439 2293 \nQ 1191 2003 1191 1497 \nQ 1191 994 1439 701 \nQ 1688 409 2113 409 \nQ 2538 409 2786 701 \nQ 3034 994 3034 1497 \nQ 3034 2003 2786 2293 \nQ 2538 2584 2113 2584 \nz\nM 3366 4563 \nL 3366 3988 \nQ 3128 4100 2886 4159 \nQ 2644 4219 2406 4219 \nQ 1781 4219 1451 3797 \nQ 1122 3375 1075 2522 \nQ 1259 2794 1537 2939 \nQ 1816 3084 2150 3084 \nQ 2853 3084 3261 2657 \nQ 3669 2231 3669 1497 \nQ 3669 778 3244 343 \nQ 2819 -91 2113 -91 \nQ 1303 -91 875 529 \nQ 447 1150 447 2328 \nQ 447 3434 972 4092 \nQ 1497 4750 2381 4750 \nQ 2619 4750 2861 4703 \nQ 3103 4656 3366 4563 \nz\n\" transform=\"scale(0.015625)\"/>\n       </defs>\n       <use xlink:href=\"#DejaVuSans-31\"/>\n       <use xlink:href=\"#DejaVuSans-2e\" x=\"63.623047\"/>\n       <use xlink:href=\"#DejaVuSans-35\" x=\"95.410156\"/>\n       <use xlink:href=\"#DejaVuSans-36\" x=\"159.033203\"/>\n      </g>\n     </g>\n    </g>\n    <g id=\"text_13\">\n     <!-- loss -->\n     <g transform=\"translate(14.798437 84.807813)rotate(-90)scale(0.1 -0.1)\">\n      <defs>\n       <path id=\"DejaVuSans-6c\" d=\"M 603 4863 \nL 1178 4863 \nL 1178 0 \nL 603 0 \nL 603 4863 \nz\n\" transform=\"scale(0.015625)\"/>\n       <path id=\"DejaVuSans-73\" d=\"M 2834 3397 \nL 2834 2853 \nQ 2591 2978 2328 3040 \nQ 2066 3103 1784 3103 \nQ 1356 3103 1142 2972 \nQ 928 2841 928 2578 \nQ 928 2378 1081 2264 \nQ 1234 2150 1697 2047 \nL 1894 2003 \nQ 2506 1872 2764 1633 \nQ 3022 1394 3022 966 \nQ 3022 478 2636 193 \nQ 2250 -91 1575 -91 \nQ 1294 -91 989 -36 \nQ 684 19 347 128 \nL 347 722 \nQ 666 556 975 473 \nQ 1284 391 1588 391 \nQ 1994 391 2212 530 \nQ 2431 669 2431 922 \nQ 2431 1156 2273 1281 \nQ 2116 1406 1581 1522 \nL 1381 1569 \nQ 847 1681 609 1914 \nQ 372 2147 372 2553 \nQ 372 3047 722 3315 \nQ 1072 3584 1716 3584 \nQ 2034 3584 2315 3537 \nQ 2597 3491 2834 3397 \nz\n\" transform=\"scale(0.015625)\"/>\n      </defs>\n      <use xlink:href=\"#DejaVuSans-6c\"/>\n      <use xlink:href=\"#DejaVuSans-6f\" x=\"27.783203\"/>\n      <use xlink:href=\"#DejaVuSans-73\" x=\"88.964844\"/>\n      <use xlink:href=\"#DejaVuSans-73\" x=\"141.064453\"/>\n     </g>\n    </g>\n   </g>\n   <g id=\"line2d_23\">\n    <path d=\"M 59.021023 13.377273 \nL 147.79375 114.785596 \nL 236.566477 136.922727 \n\" clip-path=\"url(#pfe7605b769)\" style=\"fill: none; stroke: #1f77b4; stroke-width: 1.5; stroke-linecap: square\"/>\n   </g>\n   <g id=\"patch_3\">\n    <path d=\"M 50.14375 143.1 \nL 50.14375 7.2 \n\" style=\"fill: none; stroke: #000000; stroke-width: 0.8; stroke-linejoin: miter; stroke-linecap: square\"/>\n   </g>\n   <g id=\"patch_4\">\n    <path d=\"M 245.44375 143.1 \nL 245.44375 7.2 \n\" style=\"fill: none; stroke: #000000; stroke-width: 0.8; stroke-linejoin: miter; stroke-linecap: square\"/>\n   </g>\n   <g id=\"patch_5\">\n    <path d=\"M 50.14375 143.1 \nL 245.44375 143.1 \n\" style=\"fill: none; stroke: #000000; stroke-width: 0.8; stroke-linejoin: miter; stroke-linecap: square\"/>\n   </g>\n   <g id=\"patch_6\">\n    <path d=\"M 50.14375 7.2 \nL 245.44375 7.2 \n\" style=\"fill: none; stroke: #000000; stroke-width: 0.8; stroke-linejoin: miter; stroke-linecap: square\"/>\n   </g>\n  </g>\n </g>\n <defs>\n  <clipPath id=\"pfe7605b769\">\n   <rect x=\"50.14375\" y=\"7.2\" width=\"195.3\" height=\"135.9\"/>\n  </clipPath>\n </defs>\n</svg>\n",
      "text/plain": [
       "<Figure size 252x180 with 1 Axes>"
      ]
     },
     "metadata": {
      "needs_background": "light"
     },
     "output_type": "display_data"
    },
    {
     "data": {
      "image/svg+xml": "<?xml version=\"1.0\" encoding=\"utf-8\" standalone=\"no\"?>\n<!DOCTYPE svg PUBLIC \"-//W3C//DTD SVG 1.1//EN\"\n  \"http://www.w3.org/Graphics/SVG/1.1/DTD/svg11.dtd\">\n<svg xmlns:xlink=\"http://www.w3.org/1999/xlink\" width=\"726.94375pt\" height=\"494.754375pt\" viewBox=\"0 0 726.94375 494.754375\" xmlns=\"http://www.w3.org/2000/svg\" version=\"1.1\">\n <metadata>\n  <rdf:RDF xmlns:dc=\"http://purl.org/dc/elements/1.1/\" xmlns:cc=\"http://creativecommons.org/ns#\" xmlns:rdf=\"http://www.w3.org/1999/02/22-rdf-syntax-ns#\">\n   <cc:Work>\n    <dc:type rdf:resource=\"http://purl.org/dc/dcmitype/StillImage\"/>\n    <dc:date>2022-07-15T15:51:07.322701</dc:date>\n    <dc:format>image/svg+xml</dc:format>\n    <dc:creator>\n     <cc:Agent>\n      <dc:title>Matplotlib v3.5.2, https://matplotlib.org/</dc:title>\n     </cc:Agent>\n    </dc:creator>\n   </cc:Work>\n  </rdf:RDF>\n </metadata>\n <defs>\n  <style type=\"text/css\">*{stroke-linejoin: round; stroke-linecap: butt}</style>\n </defs>\n <g id=\"figure_1\">\n  <g id=\"patch_1\">\n   <path d=\"M 0 494.754375 \nL 726.94375 494.754375 \nL 726.94375 0 \nL 0 0 \nz\n\" style=\"fill: #ffffff\"/>\n  </g>\n  <g id=\"axes_1\">\n   <g id=\"patch_2\">\n    <path d=\"M 50.14375 457.198125 \nL 719.74375 457.198125 \nL 719.74375 22.318125 \nL 50.14375 22.318125 \nz\n\" style=\"fill: #ffffff\"/>\n   </g>\n   <g id=\"matplotlib.axis_1\">\n    <g id=\"xtick_1\">\n     <g id=\"line2d_1\">\n      <path d=\"M 80.580114 457.198125 \nL 80.580114 22.318125 \n\" clip-path=\"url(#pd83c086792)\" style=\"fill: none; stroke: #b0b0b0; stroke-width: 0.8; stroke-linecap: square\"/>\n     </g>\n     <g id=\"line2d_2\">\n      <defs>\n       <path id=\"m534cce887f\" d=\"M 0 0 \nL 0 3.5 \n\" style=\"stroke: #000000; stroke-width: 0.8\"/>\n      </defs>\n      <g>\n       <use xlink:href=\"#m534cce887f\" x=\"80.580114\" y=\"457.198125\" style=\"stroke: #000000; stroke-width: 0.8\"/>\n      </g>\n     </g>\n     <g id=\"text_1\">\n      <!-- 1.00 -->\n      <g transform=\"translate(69.447301 471.796562)scale(0.1 -0.1)\">\n       <defs>\n        <path id=\"DejaVuSans-31\" d=\"M 794 531 \nL 1825 531 \nL 1825 4091 \nL 703 3866 \nL 703 4441 \nL 1819 4666 \nL 2450 4666 \nL 2450 531 \nL 3481 531 \nL 3481 0 \nL 794 0 \nL 794 531 \nz\n\" transform=\"scale(0.015625)\"/>\n        <path id=\"DejaVuSans-2e\" d=\"M 684 794 \nL 1344 794 \nL 1344 0 \nL 684 0 \nL 684 794 \nz\n\" transform=\"scale(0.015625)\"/>\n        <path id=\"DejaVuSans-30\" d=\"M 2034 4250 \nQ 1547 4250 1301 3770 \nQ 1056 3291 1056 2328 \nQ 1056 1369 1301 889 \nQ 1547 409 2034 409 \nQ 2525 409 2770 889 \nQ 3016 1369 3016 2328 \nQ 3016 3291 2770 3770 \nQ 2525 4250 2034 4250 \nz\nM 2034 4750 \nQ 2819 4750 3233 4129 \nQ 3647 3509 3647 2328 \nQ 3647 1150 3233 529 \nQ 2819 -91 2034 -91 \nQ 1250 -91 836 529 \nQ 422 1150 422 2328 \nQ 422 3509 836 4129 \nQ 1250 4750 2034 4750 \nz\n\" transform=\"scale(0.015625)\"/>\n       </defs>\n       <use xlink:href=\"#DejaVuSans-31\"/>\n       <use xlink:href=\"#DejaVuSans-2e\" x=\"63.623047\"/>\n       <use xlink:href=\"#DejaVuSans-30\" x=\"95.410156\"/>\n       <use xlink:href=\"#DejaVuSans-30\" x=\"159.033203\"/>\n      </g>\n     </g>\n    </g>\n    <g id=\"xtick_2\">\n     <g id=\"line2d_3\">\n      <path d=\"M 156.671023 457.198125 \nL 156.671023 22.318125 \n\" clip-path=\"url(#pd83c086792)\" style=\"fill: none; stroke: #b0b0b0; stroke-width: 0.8; stroke-linecap: square\"/>\n     </g>\n     <g id=\"line2d_4\">\n      <g>\n       <use xlink:href=\"#m534cce887f\" x=\"156.671023\" y=\"457.198125\" style=\"stroke: #000000; stroke-width: 0.8\"/>\n      </g>\n     </g>\n     <g id=\"text_2\">\n      <!-- 1.25 -->\n      <g transform=\"translate(145.53821 471.796562)scale(0.1 -0.1)\">\n       <defs>\n        <path id=\"DejaVuSans-32\" d=\"M 1228 531 \nL 3431 531 \nL 3431 0 \nL 469 0 \nL 469 531 \nQ 828 903 1448 1529 \nQ 2069 2156 2228 2338 \nQ 2531 2678 2651 2914 \nQ 2772 3150 2772 3378 \nQ 2772 3750 2511 3984 \nQ 2250 4219 1831 4219 \nQ 1534 4219 1204 4116 \nQ 875 4013 500 3803 \nL 500 4441 \nQ 881 4594 1212 4672 \nQ 1544 4750 1819 4750 \nQ 2544 4750 2975 4387 \nQ 3406 4025 3406 3419 \nQ 3406 3131 3298 2873 \nQ 3191 2616 2906 2266 \nQ 2828 2175 2409 1742 \nQ 1991 1309 1228 531 \nz\n\" transform=\"scale(0.015625)\"/>\n        <path id=\"DejaVuSans-35\" d=\"M 691 4666 \nL 3169 4666 \nL 3169 4134 \nL 1269 4134 \nL 1269 2991 \nQ 1406 3038 1543 3061 \nQ 1681 3084 1819 3084 \nQ 2600 3084 3056 2656 \nQ 3513 2228 3513 1497 \nQ 3513 744 3044 326 \nQ 2575 -91 1722 -91 \nQ 1428 -91 1123 -41 \nQ 819 9 494 109 \nL 494 744 \nQ 775 591 1075 516 \nQ 1375 441 1709 441 \nQ 2250 441 2565 725 \nQ 2881 1009 2881 1497 \nQ 2881 1984 2565 2268 \nQ 2250 2553 1709 2553 \nQ 1456 2553 1204 2497 \nQ 953 2441 691 2322 \nL 691 4666 \nz\n\" transform=\"scale(0.015625)\"/>\n       </defs>\n       <use xlink:href=\"#DejaVuSans-31\"/>\n       <use xlink:href=\"#DejaVuSans-2e\" x=\"63.623047\"/>\n       <use xlink:href=\"#DejaVuSans-32\" x=\"95.410156\"/>\n       <use xlink:href=\"#DejaVuSans-35\" x=\"159.033203\"/>\n      </g>\n     </g>\n    </g>\n    <g id=\"xtick_3\">\n     <g id=\"line2d_5\">\n      <path d=\"M 232.761932 457.198125 \nL 232.761932 22.318125 \n\" clip-path=\"url(#pd83c086792)\" style=\"fill: none; stroke: #b0b0b0; stroke-width: 0.8; stroke-linecap: square\"/>\n     </g>\n     <g id=\"line2d_6\">\n      <g>\n       <use xlink:href=\"#m534cce887f\" x=\"232.761932\" y=\"457.198125\" style=\"stroke: #000000; stroke-width: 0.8\"/>\n      </g>\n     </g>\n     <g id=\"text_3\">\n      <!-- 1.50 -->\n      <g transform=\"translate(221.629119 471.796562)scale(0.1 -0.1)\">\n       <use xlink:href=\"#DejaVuSans-31\"/>\n       <use xlink:href=\"#DejaVuSans-2e\" x=\"63.623047\"/>\n       <use xlink:href=\"#DejaVuSans-35\" x=\"95.410156\"/>\n       <use xlink:href=\"#DejaVuSans-30\" x=\"159.033203\"/>\n      </g>\n     </g>\n    </g>\n    <g id=\"xtick_4\">\n     <g id=\"line2d_7\">\n      <path d=\"M 308.852841 457.198125 \nL 308.852841 22.318125 \n\" clip-path=\"url(#pd83c086792)\" style=\"fill: none; stroke: #b0b0b0; stroke-width: 0.8; stroke-linecap: square\"/>\n     </g>\n     <g id=\"line2d_8\">\n      <g>\n       <use xlink:href=\"#m534cce887f\" x=\"308.852841\" y=\"457.198125\" style=\"stroke: #000000; stroke-width: 0.8\"/>\n      </g>\n     </g>\n     <g id=\"text_4\">\n      <!-- 1.75 -->\n      <g transform=\"translate(297.720028 471.796562)scale(0.1 -0.1)\">\n       <defs>\n        <path id=\"DejaVuSans-37\" d=\"M 525 4666 \nL 3525 4666 \nL 3525 4397 \nL 1831 0 \nL 1172 0 \nL 2766 4134 \nL 525 4134 \nL 525 4666 \nz\n\" transform=\"scale(0.015625)\"/>\n       </defs>\n       <use xlink:href=\"#DejaVuSans-31\"/>\n       <use xlink:href=\"#DejaVuSans-2e\" x=\"63.623047\"/>\n       <use xlink:href=\"#DejaVuSans-37\" x=\"95.410156\"/>\n       <use xlink:href=\"#DejaVuSans-35\" x=\"159.033203\"/>\n      </g>\n     </g>\n    </g>\n    <g id=\"xtick_5\">\n     <g id=\"line2d_9\">\n      <path d=\"M 384.94375 457.198125 \nL 384.94375 22.318125 \n\" clip-path=\"url(#pd83c086792)\" style=\"fill: none; stroke: #b0b0b0; stroke-width: 0.8; stroke-linecap: square\"/>\n     </g>\n     <g id=\"line2d_10\">\n      <g>\n       <use xlink:href=\"#m534cce887f\" x=\"384.94375\" y=\"457.198125\" style=\"stroke: #000000; stroke-width: 0.8\"/>\n      </g>\n     </g>\n     <g id=\"text_5\">\n      <!-- 2.00 -->\n      <g transform=\"translate(373.810938 471.796562)scale(0.1 -0.1)\">\n       <use xlink:href=\"#DejaVuSans-32\"/>\n       <use xlink:href=\"#DejaVuSans-2e\" x=\"63.623047\"/>\n       <use xlink:href=\"#DejaVuSans-30\" x=\"95.410156\"/>\n       <use xlink:href=\"#DejaVuSans-30\" x=\"159.033203\"/>\n      </g>\n     </g>\n    </g>\n    <g id=\"xtick_6\">\n     <g id=\"line2d_11\">\n      <path d=\"M 461.034659 457.198125 \nL 461.034659 22.318125 \n\" clip-path=\"url(#pd83c086792)\" style=\"fill: none; stroke: #b0b0b0; stroke-width: 0.8; stroke-linecap: square\"/>\n     </g>\n     <g id=\"line2d_12\">\n      <g>\n       <use xlink:href=\"#m534cce887f\" x=\"461.034659\" y=\"457.198125\" style=\"stroke: #000000; stroke-width: 0.8\"/>\n      </g>\n     </g>\n     <g id=\"text_6\">\n      <!-- 2.25 -->\n      <g transform=\"translate(449.901847 471.796562)scale(0.1 -0.1)\">\n       <use xlink:href=\"#DejaVuSans-32\"/>\n       <use xlink:href=\"#DejaVuSans-2e\" x=\"63.623047\"/>\n       <use xlink:href=\"#DejaVuSans-32\" x=\"95.410156\"/>\n       <use xlink:href=\"#DejaVuSans-35\" x=\"159.033203\"/>\n      </g>\n     </g>\n    </g>\n    <g id=\"xtick_7\">\n     <g id=\"line2d_13\">\n      <path d=\"M 537.125568 457.198125 \nL 537.125568 22.318125 \n\" clip-path=\"url(#pd83c086792)\" style=\"fill: none; stroke: #b0b0b0; stroke-width: 0.8; stroke-linecap: square\"/>\n     </g>\n     <g id=\"line2d_14\">\n      <g>\n       <use xlink:href=\"#m534cce887f\" x=\"537.125568\" y=\"457.198125\" style=\"stroke: #000000; stroke-width: 0.8\"/>\n      </g>\n     </g>\n     <g id=\"text_7\">\n      <!-- 2.50 -->\n      <g transform=\"translate(525.992756 471.796562)scale(0.1 -0.1)\">\n       <use xlink:href=\"#DejaVuSans-32\"/>\n       <use xlink:href=\"#DejaVuSans-2e\" x=\"63.623047\"/>\n       <use xlink:href=\"#DejaVuSans-35\" x=\"95.410156\"/>\n       <use xlink:href=\"#DejaVuSans-30\" x=\"159.033203\"/>\n      </g>\n     </g>\n    </g>\n    <g id=\"xtick_8\">\n     <g id=\"line2d_15\">\n      <path d=\"M 613.216477 457.198125 \nL 613.216477 22.318125 \n\" clip-path=\"url(#pd83c086792)\" style=\"fill: none; stroke: #b0b0b0; stroke-width: 0.8; stroke-linecap: square\"/>\n     </g>\n     <g id=\"line2d_16\">\n      <g>\n       <use xlink:href=\"#m534cce887f\" x=\"613.216477\" y=\"457.198125\" style=\"stroke: #000000; stroke-width: 0.8\"/>\n      </g>\n     </g>\n     <g id=\"text_8\">\n      <!-- 2.75 -->\n      <g transform=\"translate(602.083665 471.796562)scale(0.1 -0.1)\">\n       <use xlink:href=\"#DejaVuSans-32\"/>\n       <use xlink:href=\"#DejaVuSans-2e\" x=\"63.623047\"/>\n       <use xlink:href=\"#DejaVuSans-37\" x=\"95.410156\"/>\n       <use xlink:href=\"#DejaVuSans-35\" x=\"159.033203\"/>\n      </g>\n     </g>\n    </g>\n    <g id=\"xtick_9\">\n     <g id=\"line2d_17\">\n      <path d=\"M 689.307386 457.198125 \nL 689.307386 22.318125 \n\" clip-path=\"url(#pd83c086792)\" style=\"fill: none; stroke: #b0b0b0; stroke-width: 0.8; stroke-linecap: square\"/>\n     </g>\n     <g id=\"line2d_18\">\n      <g>\n       <use xlink:href=\"#m534cce887f\" x=\"689.307386\" y=\"457.198125\" style=\"stroke: #000000; stroke-width: 0.8\"/>\n      </g>\n     </g>\n     <g id=\"text_9\">\n      <!-- 3.00 -->\n      <g transform=\"translate(678.174574 471.796562)scale(0.1 -0.1)\">\n       <defs>\n        <path id=\"DejaVuSans-33\" d=\"M 2597 2516 \nQ 3050 2419 3304 2112 \nQ 3559 1806 3559 1356 \nQ 3559 666 3084 287 \nQ 2609 -91 1734 -91 \nQ 1441 -91 1130 -33 \nQ 819 25 488 141 \nL 488 750 \nQ 750 597 1062 519 \nQ 1375 441 1716 441 \nQ 2309 441 2620 675 \nQ 2931 909 2931 1356 \nQ 2931 1769 2642 2001 \nQ 2353 2234 1838 2234 \nL 1294 2234 \nL 1294 2753 \nL 1863 2753 \nQ 2328 2753 2575 2939 \nQ 2822 3125 2822 3475 \nQ 2822 3834 2567 4026 \nQ 2313 4219 1838 4219 \nQ 1578 4219 1281 4162 \nQ 984 4106 628 3988 \nL 628 4550 \nQ 988 4650 1302 4700 \nQ 1616 4750 1894 4750 \nQ 2613 4750 3031 4423 \nQ 3450 4097 3450 3541 \nQ 3450 3153 3228 2886 \nQ 3006 2619 2597 2516 \nz\n\" transform=\"scale(0.015625)\"/>\n       </defs>\n       <use xlink:href=\"#DejaVuSans-33\"/>\n       <use xlink:href=\"#DejaVuSans-2e\" x=\"63.623047\"/>\n       <use xlink:href=\"#DejaVuSans-30\" x=\"95.410156\"/>\n       <use xlink:href=\"#DejaVuSans-30\" x=\"159.033203\"/>\n      </g>\n     </g>\n    </g>\n    <g id=\"text_10\">\n     <!-- Epochs -->\n     <g transform=\"translate(367.028125 485.474687)scale(0.1 -0.1)\">\n      <defs>\n       <path id=\"DejaVuSans-45\" d=\"M 628 4666 \nL 3578 4666 \nL 3578 4134 \nL 1259 4134 \nL 1259 2753 \nL 3481 2753 \nL 3481 2222 \nL 1259 2222 \nL 1259 531 \nL 3634 531 \nL 3634 0 \nL 628 0 \nL 628 4666 \nz\n\" transform=\"scale(0.015625)\"/>\n       <path id=\"DejaVuSans-70\" d=\"M 1159 525 \nL 1159 -1331 \nL 581 -1331 \nL 581 3500 \nL 1159 3500 \nL 1159 2969 \nQ 1341 3281 1617 3432 \nQ 1894 3584 2278 3584 \nQ 2916 3584 3314 3078 \nQ 3713 2572 3713 1747 \nQ 3713 922 3314 415 \nQ 2916 -91 2278 -91 \nQ 1894 -91 1617 61 \nQ 1341 213 1159 525 \nz\nM 3116 1747 \nQ 3116 2381 2855 2742 \nQ 2594 3103 2138 3103 \nQ 1681 3103 1420 2742 \nQ 1159 2381 1159 1747 \nQ 1159 1113 1420 752 \nQ 1681 391 2138 391 \nQ 2594 391 2855 752 \nQ 3116 1113 3116 1747 \nz\n\" transform=\"scale(0.015625)\"/>\n       <path id=\"DejaVuSans-6f\" d=\"M 1959 3097 \nQ 1497 3097 1228 2736 \nQ 959 2375 959 1747 \nQ 959 1119 1226 758 \nQ 1494 397 1959 397 \nQ 2419 397 2687 759 \nQ 2956 1122 2956 1747 \nQ 2956 2369 2687 2733 \nQ 2419 3097 1959 3097 \nz\nM 1959 3584 \nQ 2709 3584 3137 3096 \nQ 3566 2609 3566 1747 \nQ 3566 888 3137 398 \nQ 2709 -91 1959 -91 \nQ 1206 -91 779 398 \nQ 353 888 353 1747 \nQ 353 2609 779 3096 \nQ 1206 3584 1959 3584 \nz\n\" transform=\"scale(0.015625)\"/>\n       <path id=\"DejaVuSans-63\" d=\"M 3122 3366 \nL 3122 2828 \nQ 2878 2963 2633 3030 \nQ 2388 3097 2138 3097 \nQ 1578 3097 1268 2742 \nQ 959 2388 959 1747 \nQ 959 1106 1268 751 \nQ 1578 397 2138 397 \nQ 2388 397 2633 464 \nQ 2878 531 3122 666 \nL 3122 134 \nQ 2881 22 2623 -34 \nQ 2366 -91 2075 -91 \nQ 1284 -91 818 406 \nQ 353 903 353 1747 \nQ 353 2603 823 3093 \nQ 1294 3584 2113 3584 \nQ 2378 3584 2631 3529 \nQ 2884 3475 3122 3366 \nz\n\" transform=\"scale(0.015625)\"/>\n       <path id=\"DejaVuSans-68\" d=\"M 3513 2113 \nL 3513 0 \nL 2938 0 \nL 2938 2094 \nQ 2938 2591 2744 2837 \nQ 2550 3084 2163 3084 \nQ 1697 3084 1428 2787 \nQ 1159 2491 1159 1978 \nL 1159 0 \nL 581 0 \nL 581 4863 \nL 1159 4863 \nL 1159 2956 \nQ 1366 3272 1645 3428 \nQ 1925 3584 2291 3584 \nQ 2894 3584 3203 3211 \nQ 3513 2838 3513 2113 \nz\n\" transform=\"scale(0.015625)\"/>\n       <path id=\"DejaVuSans-73\" d=\"M 2834 3397 \nL 2834 2853 \nQ 2591 2978 2328 3040 \nQ 2066 3103 1784 3103 \nQ 1356 3103 1142 2972 \nQ 928 2841 928 2578 \nQ 928 2378 1081 2264 \nQ 1234 2150 1697 2047 \nL 1894 2003 \nQ 2506 1872 2764 1633 \nQ 3022 1394 3022 966 \nQ 3022 478 2636 193 \nQ 2250 -91 1575 -91 \nQ 1294 -91 989 -36 \nQ 684 19 347 128 \nL 347 722 \nQ 666 556 975 473 \nQ 1284 391 1588 391 \nQ 1994 391 2212 530 \nQ 2431 669 2431 922 \nQ 2431 1156 2273 1281 \nQ 2116 1406 1581 1522 \nL 1381 1569 \nQ 847 1681 609 1914 \nQ 372 2147 372 2553 \nQ 372 3047 722 3315 \nQ 1072 3584 1716 3584 \nQ 2034 3584 2315 3537 \nQ 2597 3491 2834 3397 \nz\n\" transform=\"scale(0.015625)\"/>\n      </defs>\n      <use xlink:href=\"#DejaVuSans-45\"/>\n      <use xlink:href=\"#DejaVuSans-70\" x=\"63.183594\"/>\n      <use xlink:href=\"#DejaVuSans-6f\" x=\"126.660156\"/>\n      <use xlink:href=\"#DejaVuSans-63\" x=\"187.841797\"/>\n      <use xlink:href=\"#DejaVuSans-68\" x=\"242.822266\"/>\n      <use xlink:href=\"#DejaVuSans-73\" x=\"306.201172\"/>\n     </g>\n    </g>\n   </g>\n   <g id=\"matplotlib.axis_2\">\n    <g id=\"ytick_1\">\n     <g id=\"line2d_19\">\n      <path d=\"M 50.14375 429.450002 \nL 719.74375 429.450002 \n\" clip-path=\"url(#pd83c086792)\" style=\"fill: none; stroke: #b0b0b0; stroke-width: 0.8; stroke-linecap: square\"/>\n     </g>\n     <g id=\"line2d_20\">\n      <defs>\n       <path id=\"m28a6f15813\" d=\"M 0 0 \nL -3.5 0 \n\" style=\"stroke: #000000; stroke-width: 0.8\"/>\n      </defs>\n      <g>\n       <use xlink:href=\"#m28a6f15813\" x=\"50.14375\" y=\"429.450002\" style=\"stroke: #000000; stroke-width: 0.8\"/>\n      </g>\n     </g>\n     <g id=\"text_11\">\n      <!-- 1.51 -->\n      <g transform=\"translate(20.878125 433.249221)scale(0.1 -0.1)\">\n       <use xlink:href=\"#DejaVuSans-31\"/>\n       <use xlink:href=\"#DejaVuSans-2e\" x=\"63.623047\"/>\n       <use xlink:href=\"#DejaVuSans-35\" x=\"95.410156\"/>\n       <use xlink:href=\"#DejaVuSans-31\" x=\"159.033203\"/>\n      </g>\n     </g>\n    </g>\n    <g id=\"ytick_2\">\n     <g id=\"line2d_21\">\n      <path d=\"M 50.14375 350.957137 \nL 719.74375 350.957137 \n\" clip-path=\"url(#pd83c086792)\" style=\"fill: none; stroke: #b0b0b0; stroke-width: 0.8; stroke-linecap: square\"/>\n     </g>\n     <g id=\"line2d_22\">\n      <g>\n       <use xlink:href=\"#m28a6f15813\" x=\"50.14375\" y=\"350.957137\" style=\"stroke: #000000; stroke-width: 0.8\"/>\n      </g>\n     </g>\n     <g id=\"text_12\">\n      <!-- 1.52 -->\n      <g transform=\"translate(20.878125 354.756356)scale(0.1 -0.1)\">\n       <use xlink:href=\"#DejaVuSans-31\"/>\n       <use xlink:href=\"#DejaVuSans-2e\" x=\"63.623047\"/>\n       <use xlink:href=\"#DejaVuSans-35\" x=\"95.410156\"/>\n       <use xlink:href=\"#DejaVuSans-32\" x=\"159.033203\"/>\n      </g>\n     </g>\n    </g>\n    <g id=\"ytick_3\">\n     <g id=\"line2d_23\">\n      <path d=\"M 50.14375 272.464272 \nL 719.74375 272.464272 \n\" clip-path=\"url(#pd83c086792)\" style=\"fill: none; stroke: #b0b0b0; stroke-width: 0.8; stroke-linecap: square\"/>\n     </g>\n     <g id=\"line2d_24\">\n      <g>\n       <use xlink:href=\"#m28a6f15813\" x=\"50.14375\" y=\"272.464272\" style=\"stroke: #000000; stroke-width: 0.8\"/>\n      </g>\n     </g>\n     <g id=\"text_13\">\n      <!-- 1.53 -->\n      <g transform=\"translate(20.878125 276.263491)scale(0.1 -0.1)\">\n       <use xlink:href=\"#DejaVuSans-31\"/>\n       <use xlink:href=\"#DejaVuSans-2e\" x=\"63.623047\"/>\n       <use xlink:href=\"#DejaVuSans-35\" x=\"95.410156\"/>\n       <use xlink:href=\"#DejaVuSans-33\" x=\"159.033203\"/>\n      </g>\n     </g>\n    </g>\n    <g id=\"ytick_4\">\n     <g id=\"line2d_25\">\n      <path d=\"M 50.14375 193.971407 \nL 719.74375 193.971407 \n\" clip-path=\"url(#pd83c086792)\" style=\"fill: none; stroke: #b0b0b0; stroke-width: 0.8; stroke-linecap: square\"/>\n     </g>\n     <g id=\"line2d_26\">\n      <g>\n       <use xlink:href=\"#m28a6f15813\" x=\"50.14375\" y=\"193.971407\" style=\"stroke: #000000; stroke-width: 0.8\"/>\n      </g>\n     </g>\n     <g id=\"text_14\">\n      <!-- 1.54 -->\n      <g transform=\"translate(20.878125 197.770626)scale(0.1 -0.1)\">\n       <defs>\n        <path id=\"DejaVuSans-34\" d=\"M 2419 4116 \nL 825 1625 \nL 2419 1625 \nL 2419 4116 \nz\nM 2253 4666 \nL 3047 4666 \nL 3047 1625 \nL 3713 1625 \nL 3713 1100 \nL 3047 1100 \nL 3047 0 \nL 2419 0 \nL 2419 1100 \nL 313 1100 \nL 313 1709 \nL 2253 4666 \nz\n\" transform=\"scale(0.015625)\"/>\n       </defs>\n       <use xlink:href=\"#DejaVuSans-31\"/>\n       <use xlink:href=\"#DejaVuSans-2e\" x=\"63.623047\"/>\n       <use xlink:href=\"#DejaVuSans-35\" x=\"95.410156\"/>\n       <use xlink:href=\"#DejaVuSans-34\" x=\"159.033203\"/>\n      </g>\n     </g>\n    </g>\n    <g id=\"ytick_5\">\n     <g id=\"line2d_27\">\n      <path d=\"M 50.14375 115.478542 \nL 719.74375 115.478542 \n\" clip-path=\"url(#pd83c086792)\" style=\"fill: none; stroke: #b0b0b0; stroke-width: 0.8; stroke-linecap: square\"/>\n     </g>\n     <g id=\"line2d_28\">\n      <g>\n       <use xlink:href=\"#m28a6f15813\" x=\"50.14375\" y=\"115.478542\" style=\"stroke: #000000; stroke-width: 0.8\"/>\n      </g>\n     </g>\n     <g id=\"text_15\">\n      <!-- 1.55 -->\n      <g transform=\"translate(20.878125 119.277761)scale(0.1 -0.1)\">\n       <use xlink:href=\"#DejaVuSans-31\"/>\n       <use xlink:href=\"#DejaVuSans-2e\" x=\"63.623047\"/>\n       <use xlink:href=\"#DejaVuSans-35\" x=\"95.410156\"/>\n       <use xlink:href=\"#DejaVuSans-35\" x=\"159.033203\"/>\n      </g>\n     </g>\n    </g>\n    <g id=\"ytick_6\">\n     <g id=\"line2d_29\">\n      <path d=\"M 50.14375 36.985677 \nL 719.74375 36.985677 \n\" clip-path=\"url(#pd83c086792)\" style=\"fill: none; stroke: #b0b0b0; stroke-width: 0.8; stroke-linecap: square\"/>\n     </g>\n     <g id=\"line2d_30\">\n      <g>\n       <use xlink:href=\"#m28a6f15813\" x=\"50.14375\" y=\"36.985677\" style=\"stroke: #000000; stroke-width: 0.8\"/>\n      </g>\n     </g>\n     <g id=\"text_16\">\n      <!-- 1.56 -->\n      <g transform=\"translate(20.878125 40.784896)scale(0.1 -0.1)\">\n       <defs>\n        <path id=\"DejaVuSans-36\" d=\"M 2113 2584 \nQ 1688 2584 1439 2293 \nQ 1191 2003 1191 1497 \nQ 1191 994 1439 701 \nQ 1688 409 2113 409 \nQ 2538 409 2786 701 \nQ 3034 994 3034 1497 \nQ 3034 2003 2786 2293 \nQ 2538 2584 2113 2584 \nz\nM 3366 4563 \nL 3366 3988 \nQ 3128 4100 2886 4159 \nQ 2644 4219 2406 4219 \nQ 1781 4219 1451 3797 \nQ 1122 3375 1075 2522 \nQ 1259 2794 1537 2939 \nQ 1816 3084 2150 3084 \nQ 2853 3084 3261 2657 \nQ 3669 2231 3669 1497 \nQ 3669 778 3244 343 \nQ 2819 -91 2113 -91 \nQ 1303 -91 875 529 \nQ 447 1150 447 2328 \nQ 447 3434 972 4092 \nQ 1497 4750 2381 4750 \nQ 2619 4750 2861 4703 \nQ 3103 4656 3366 4563 \nz\n\" transform=\"scale(0.015625)\"/>\n       </defs>\n       <use xlink:href=\"#DejaVuSans-31\"/>\n       <use xlink:href=\"#DejaVuSans-2e\" x=\"63.623047\"/>\n       <use xlink:href=\"#DejaVuSans-35\" x=\"95.410156\"/>\n       <use xlink:href=\"#DejaVuSans-36\" x=\"159.033203\"/>\n      </g>\n     </g>\n    </g>\n    <g id=\"text_17\">\n     <!-- Weighted average loss -->\n     <g transform=\"translate(14.798438 296.733906)rotate(-90)scale(0.1 -0.1)\">\n      <defs>\n       <path id=\"DejaVuSans-57\" d=\"M 213 4666 \nL 850 4666 \nL 1831 722 \nL 2809 4666 \nL 3519 4666 \nL 4500 722 \nL 5478 4666 \nL 6119 4666 \nL 4947 0 \nL 4153 0 \nL 3169 4050 \nL 2175 0 \nL 1381 0 \nL 213 4666 \nz\n\" transform=\"scale(0.015625)\"/>\n       <path id=\"DejaVuSans-65\" d=\"M 3597 1894 \nL 3597 1613 \nL 953 1613 \nQ 991 1019 1311 708 \nQ 1631 397 2203 397 \nQ 2534 397 2845 478 \nQ 3156 559 3463 722 \nL 3463 178 \nQ 3153 47 2828 -22 \nQ 2503 -91 2169 -91 \nQ 1331 -91 842 396 \nQ 353 884 353 1716 \nQ 353 2575 817 3079 \nQ 1281 3584 2069 3584 \nQ 2775 3584 3186 3129 \nQ 3597 2675 3597 1894 \nz\nM 3022 2063 \nQ 3016 2534 2758 2815 \nQ 2500 3097 2075 3097 \nQ 1594 3097 1305 2825 \nQ 1016 2553 972 2059 \nL 3022 2063 \nz\n\" transform=\"scale(0.015625)\"/>\n       <path id=\"DejaVuSans-69\" d=\"M 603 3500 \nL 1178 3500 \nL 1178 0 \nL 603 0 \nL 603 3500 \nz\nM 603 4863 \nL 1178 4863 \nL 1178 4134 \nL 603 4134 \nL 603 4863 \nz\n\" transform=\"scale(0.015625)\"/>\n       <path id=\"DejaVuSans-67\" d=\"M 2906 1791 \nQ 2906 2416 2648 2759 \nQ 2391 3103 1925 3103 \nQ 1463 3103 1205 2759 \nQ 947 2416 947 1791 \nQ 947 1169 1205 825 \nQ 1463 481 1925 481 \nQ 2391 481 2648 825 \nQ 2906 1169 2906 1791 \nz\nM 3481 434 \nQ 3481 -459 3084 -895 \nQ 2688 -1331 1869 -1331 \nQ 1566 -1331 1297 -1286 \nQ 1028 -1241 775 -1147 \nL 775 -588 \nQ 1028 -725 1275 -790 \nQ 1522 -856 1778 -856 \nQ 2344 -856 2625 -561 \nQ 2906 -266 2906 331 \nL 2906 616 \nQ 2728 306 2450 153 \nQ 2172 0 1784 0 \nQ 1141 0 747 490 \nQ 353 981 353 1791 \nQ 353 2603 747 3093 \nQ 1141 3584 1784 3584 \nQ 2172 3584 2450 3431 \nQ 2728 3278 2906 2969 \nL 2906 3500 \nL 3481 3500 \nL 3481 434 \nz\n\" transform=\"scale(0.015625)\"/>\n       <path id=\"DejaVuSans-74\" d=\"M 1172 4494 \nL 1172 3500 \nL 2356 3500 \nL 2356 3053 \nL 1172 3053 \nL 1172 1153 \nQ 1172 725 1289 603 \nQ 1406 481 1766 481 \nL 2356 481 \nL 2356 0 \nL 1766 0 \nQ 1100 0 847 248 \nQ 594 497 594 1153 \nL 594 3053 \nL 172 3053 \nL 172 3500 \nL 594 3500 \nL 594 4494 \nL 1172 4494 \nz\n\" transform=\"scale(0.015625)\"/>\n       <path id=\"DejaVuSans-64\" d=\"M 2906 2969 \nL 2906 4863 \nL 3481 4863 \nL 3481 0 \nL 2906 0 \nL 2906 525 \nQ 2725 213 2448 61 \nQ 2172 -91 1784 -91 \nQ 1150 -91 751 415 \nQ 353 922 353 1747 \nQ 353 2572 751 3078 \nQ 1150 3584 1784 3584 \nQ 2172 3584 2448 3432 \nQ 2725 3281 2906 2969 \nz\nM 947 1747 \nQ 947 1113 1208 752 \nQ 1469 391 1925 391 \nQ 2381 391 2643 752 \nQ 2906 1113 2906 1747 \nQ 2906 2381 2643 2742 \nQ 2381 3103 1925 3103 \nQ 1469 3103 1208 2742 \nQ 947 2381 947 1747 \nz\n\" transform=\"scale(0.015625)\"/>\n       <path id=\"DejaVuSans-20\" transform=\"scale(0.015625)\"/>\n       <path id=\"DejaVuSans-61\" d=\"M 2194 1759 \nQ 1497 1759 1228 1600 \nQ 959 1441 959 1056 \nQ 959 750 1161 570 \nQ 1363 391 1709 391 \nQ 2188 391 2477 730 \nQ 2766 1069 2766 1631 \nL 2766 1759 \nL 2194 1759 \nz\nM 3341 1997 \nL 3341 0 \nL 2766 0 \nL 2766 531 \nQ 2569 213 2275 61 \nQ 1981 -91 1556 -91 \nQ 1019 -91 701 211 \nQ 384 513 384 1019 \nQ 384 1609 779 1909 \nQ 1175 2209 1959 2209 \nL 2766 2209 \nL 2766 2266 \nQ 2766 2663 2505 2880 \nQ 2244 3097 1772 3097 \nQ 1472 3097 1187 3025 \nQ 903 2953 641 2809 \nL 641 3341 \nQ 956 3463 1253 3523 \nQ 1550 3584 1831 3584 \nQ 2591 3584 2966 3190 \nQ 3341 2797 3341 1997 \nz\n\" transform=\"scale(0.015625)\"/>\n       <path id=\"DejaVuSans-76\" d=\"M 191 3500 \nL 800 3500 \nL 1894 563 \nL 2988 3500 \nL 3597 3500 \nL 2284 0 \nL 1503 0 \nL 191 3500 \nz\n\" transform=\"scale(0.015625)\"/>\n       <path id=\"DejaVuSans-72\" d=\"M 2631 2963 \nQ 2534 3019 2420 3045 \nQ 2306 3072 2169 3072 \nQ 1681 3072 1420 2755 \nQ 1159 2438 1159 1844 \nL 1159 0 \nL 581 0 \nL 581 3500 \nL 1159 3500 \nL 1159 2956 \nQ 1341 3275 1631 3429 \nQ 1922 3584 2338 3584 \nQ 2397 3584 2469 3576 \nQ 2541 3569 2628 3553 \nL 2631 2963 \nz\n\" transform=\"scale(0.015625)\"/>\n       <path id=\"DejaVuSans-6c\" d=\"M 603 4863 \nL 1178 4863 \nL 1178 0 \nL 603 0 \nL 603 4863 \nz\n\" transform=\"scale(0.015625)\"/>\n      </defs>\n      <use xlink:href=\"#DejaVuSans-57\"/>\n      <use xlink:href=\"#DejaVuSans-65\" x=\"93.001953\"/>\n      <use xlink:href=\"#DejaVuSans-69\" x=\"154.525391\"/>\n      <use xlink:href=\"#DejaVuSans-67\" x=\"182.308594\"/>\n      <use xlink:href=\"#DejaVuSans-68\" x=\"245.785156\"/>\n      <use xlink:href=\"#DejaVuSans-74\" x=\"309.164062\"/>\n      <use xlink:href=\"#DejaVuSans-65\" x=\"348.373047\"/>\n      <use xlink:href=\"#DejaVuSans-64\" x=\"409.896484\"/>\n      <use xlink:href=\"#DejaVuSans-20\" x=\"473.373047\"/>\n      <use xlink:href=\"#DejaVuSans-61\" x=\"505.160156\"/>\n      <use xlink:href=\"#DejaVuSans-76\" x=\"566.439453\"/>\n      <use xlink:href=\"#DejaVuSans-65\" x=\"625.619141\"/>\n      <use xlink:href=\"#DejaVuSans-72\" x=\"687.142578\"/>\n      <use xlink:href=\"#DejaVuSans-61\" x=\"728.255859\"/>\n      <use xlink:href=\"#DejaVuSans-67\" x=\"789.535156\"/>\n      <use xlink:href=\"#DejaVuSans-65\" x=\"853.011719\"/>\n      <use xlink:href=\"#DejaVuSans-20\" x=\"914.535156\"/>\n      <use xlink:href=\"#DejaVuSans-6c\" x=\"946.322266\"/>\n      <use xlink:href=\"#DejaVuSans-6f\" x=\"974.105469\"/>\n      <use xlink:href=\"#DejaVuSans-73\" x=\"1035.287109\"/>\n      <use xlink:href=\"#DejaVuSans-73\" x=\"1087.386719\"/>\n     </g>\n    </g>\n   </g>\n   <g id=\"line2d_31\">\n    <path d=\"M 80.580114 42.085398 \nL 384.94375 366.592034 \nL 689.307386 437.430852 \n\" clip-path=\"url(#pd83c086792)\" style=\"fill: none; stroke: #1f77b4; stroke-width: 1.5; stroke-linecap: square\"/>\n   </g>\n   <g id=\"patch_3\">\n    <path d=\"M 50.14375 457.198125 \nL 50.14375 22.318125 \n\" style=\"fill: none; stroke: #000000; stroke-width: 0.8; stroke-linejoin: miter; stroke-linecap: square\"/>\n   </g>\n   <g id=\"patch_4\">\n    <path d=\"M 719.74375 457.198125 \nL 719.74375 22.318125 \n\" style=\"fill: none; stroke: #000000; stroke-width: 0.8; stroke-linejoin: miter; stroke-linecap: square\"/>\n   </g>\n   <g id=\"patch_5\">\n    <path d=\"M 50.14375 457.198125 \nL 719.74375 457.198125 \n\" style=\"fill: none; stroke: #000000; stroke-width: 0.8; stroke-linejoin: miter; stroke-linecap: square\"/>\n   </g>\n   <g id=\"patch_6\">\n    <path d=\"M 50.14375 22.318125 \nL 719.74375 22.318125 \n\" style=\"fill: none; stroke: #000000; stroke-width: 0.8; stroke-linejoin: miter; stroke-linecap: square\"/>\n   </g>\n   <g id=\"text_18\">\n    <!-- transformer &lt;model_demo&gt; training loss -->\n    <g transform=\"translate(260.063125 16.318125)scale(0.12 -0.12)\">\n     <defs>\n      <path id=\"DejaVuSans-6e\" d=\"M 3513 2113 \nL 3513 0 \nL 2938 0 \nL 2938 2094 \nQ 2938 2591 2744 2837 \nQ 2550 3084 2163 3084 \nQ 1697 3084 1428 2787 \nQ 1159 2491 1159 1978 \nL 1159 0 \nL 581 0 \nL 581 3500 \nL 1159 3500 \nL 1159 2956 \nQ 1366 3272 1645 3428 \nQ 1925 3584 2291 3584 \nQ 2894 3584 3203 3211 \nQ 3513 2838 3513 2113 \nz\n\" transform=\"scale(0.015625)\"/>\n      <path id=\"DejaVuSans-66\" d=\"M 2375 4863 \nL 2375 4384 \nL 1825 4384 \nQ 1516 4384 1395 4259 \nQ 1275 4134 1275 3809 \nL 1275 3500 \nL 2222 3500 \nL 2222 3053 \nL 1275 3053 \nL 1275 0 \nL 697 0 \nL 697 3053 \nL 147 3053 \nL 147 3500 \nL 697 3500 \nL 697 3744 \nQ 697 4328 969 4595 \nQ 1241 4863 1831 4863 \nL 2375 4863 \nz\n\" transform=\"scale(0.015625)\"/>\n      <path id=\"DejaVuSans-6d\" d=\"M 3328 2828 \nQ 3544 3216 3844 3400 \nQ 4144 3584 4550 3584 \nQ 5097 3584 5394 3201 \nQ 5691 2819 5691 2113 \nL 5691 0 \nL 5113 0 \nL 5113 2094 \nQ 5113 2597 4934 2840 \nQ 4756 3084 4391 3084 \nQ 3944 3084 3684 2787 \nQ 3425 2491 3425 1978 \nL 3425 0 \nL 2847 0 \nL 2847 2094 \nQ 2847 2600 2669 2842 \nQ 2491 3084 2119 3084 \nQ 1678 3084 1418 2786 \nQ 1159 2488 1159 1978 \nL 1159 0 \nL 581 0 \nL 581 3500 \nL 1159 3500 \nL 1159 2956 \nQ 1356 3278 1631 3431 \nQ 1906 3584 2284 3584 \nQ 2666 3584 2933 3390 \nQ 3200 3197 3328 2828 \nz\n\" transform=\"scale(0.015625)\"/>\n      <path id=\"DejaVuSans-3c\" d=\"M 4684 3150 \nL 1459 2003 \nL 4684 863 \nL 4684 294 \nL 678 1747 \nL 678 2266 \nL 4684 3719 \nL 4684 3150 \nz\n\" transform=\"scale(0.015625)\"/>\n      <path id=\"DejaVuSans-5f\" d=\"M 3263 -1063 \nL 3263 -1509 \nL -63 -1509 \nL -63 -1063 \nL 3263 -1063 \nz\n\" transform=\"scale(0.015625)\"/>\n      <path id=\"DejaVuSans-3e\" d=\"M 678 3150 \nL 678 3719 \nL 4684 2266 \nL 4684 1747 \nL 678 294 \nL 678 863 \nL 3897 2003 \nL 678 3150 \nz\n\" transform=\"scale(0.015625)\"/>\n     </defs>\n     <use xlink:href=\"#DejaVuSans-74\"/>\n     <use xlink:href=\"#DejaVuSans-72\" x=\"39.208984\"/>\n     <use xlink:href=\"#DejaVuSans-61\" x=\"80.322266\"/>\n     <use xlink:href=\"#DejaVuSans-6e\" x=\"141.601562\"/>\n     <use xlink:href=\"#DejaVuSans-73\" x=\"204.980469\"/>\n     <use xlink:href=\"#DejaVuSans-66\" x=\"257.080078\"/>\n     <use xlink:href=\"#DejaVuSans-6f\" x=\"292.285156\"/>\n     <use xlink:href=\"#DejaVuSans-72\" x=\"353.466797\"/>\n     <use xlink:href=\"#DejaVuSans-6d\" x=\"392.830078\"/>\n     <use xlink:href=\"#DejaVuSans-65\" x=\"490.242188\"/>\n     <use xlink:href=\"#DejaVuSans-72\" x=\"551.765625\"/>\n     <use xlink:href=\"#DejaVuSans-20\" x=\"592.878906\"/>\n     <use xlink:href=\"#DejaVuSans-3c\" x=\"624.666016\"/>\n     <use xlink:href=\"#DejaVuSans-6d\" x=\"708.455078\"/>\n     <use xlink:href=\"#DejaVuSans-6f\" x=\"805.867188\"/>\n     <use xlink:href=\"#DejaVuSans-64\" x=\"867.048828\"/>\n     <use xlink:href=\"#DejaVuSans-65\" x=\"930.525391\"/>\n     <use xlink:href=\"#DejaVuSans-6c\" x=\"992.048828\"/>\n     <use xlink:href=\"#DejaVuSans-5f\" x=\"1019.832031\"/>\n     <use xlink:href=\"#DejaVuSans-64\" x=\"1069.832031\"/>\n     <use xlink:href=\"#DejaVuSans-65\" x=\"1133.308594\"/>\n     <use xlink:href=\"#DejaVuSans-6d\" x=\"1194.832031\"/>\n     <use xlink:href=\"#DejaVuSans-6f\" x=\"1292.244141\"/>\n     <use xlink:href=\"#DejaVuSans-3e\" x=\"1353.425781\"/>\n     <use xlink:href=\"#DejaVuSans-20\" x=\"1437.214844\"/>\n     <use xlink:href=\"#DejaVuSans-74\" x=\"1469.001953\"/>\n     <use xlink:href=\"#DejaVuSans-72\" x=\"1508.210938\"/>\n     <use xlink:href=\"#DejaVuSans-61\" x=\"1549.324219\"/>\n     <use xlink:href=\"#DejaVuSans-69\" x=\"1610.603516\"/>\n     <use xlink:href=\"#DejaVuSans-6e\" x=\"1638.386719\"/>\n     <use xlink:href=\"#DejaVuSans-69\" x=\"1701.765625\"/>\n     <use xlink:href=\"#DejaVuSans-6e\" x=\"1729.548828\"/>\n     <use xlink:href=\"#DejaVuSans-67\" x=\"1792.927734\"/>\n     <use xlink:href=\"#DejaVuSans-20\" x=\"1856.404297\"/>\n     <use xlink:href=\"#DejaVuSans-6c\" x=\"1888.191406\"/>\n     <use xlink:href=\"#DejaVuSans-6f\" x=\"1915.974609\"/>\n     <use xlink:href=\"#DejaVuSans-73\" x=\"1977.15625\"/>\n     <use xlink:href=\"#DejaVuSans-73\" x=\"2029.255859\"/>\n    </g>\n   </g>\n   <g id=\"legend_1\">\n    <g id=\"patch_7\">\n     <path d=\"M 564.270313 45.274375 \nL 712.74375 45.274375 \nQ 714.74375 45.274375 714.74375 43.274375 \nL 714.74375 29.318125 \nQ 714.74375 27.318125 712.74375 27.318125 \nL 564.270313 27.318125 \nQ 562.270313 27.318125 562.270313 29.318125 \nL 562.270313 43.274375 \nQ 562.270313 45.274375 564.270313 45.274375 \nz\n\" style=\"fill: #ffffff; opacity: 0.8; stroke: #cccccc; stroke-linejoin: miter\"/>\n    </g>\n    <g id=\"line2d_32\">\n     <path d=\"M 566.270313 35.416562 \nL 576.270313 35.416562 \nL 586.270313 35.416562 \n\" style=\"fill: none; stroke: #1f77b4; stroke-width: 1.5; stroke-linecap: square\"/>\n    </g>\n    <g id=\"text_19\">\n     <!-- weighted_average_loss -->\n     <g transform=\"translate(594.270313 38.916562)scale(0.1 -0.1)\">\n      <defs>\n       <path id=\"DejaVuSans-77\" d=\"M 269 3500 \nL 844 3500 \nL 1563 769 \nL 2278 3500 \nL 2956 3500 \nL 3675 769 \nL 4391 3500 \nL 4966 3500 \nL 4050 0 \nL 3372 0 \nL 2619 2869 \nL 1863 0 \nL 1184 0 \nL 269 3500 \nz\n\" transform=\"scale(0.015625)\"/>\n      </defs>\n      <use xlink:href=\"#DejaVuSans-77\"/>\n      <use xlink:href=\"#DejaVuSans-65\" x=\"81.787109\"/>\n      <use xlink:href=\"#DejaVuSans-69\" x=\"143.310547\"/>\n      <use xlink:href=\"#DejaVuSans-67\" x=\"171.09375\"/>\n      <use xlink:href=\"#DejaVuSans-68\" x=\"234.570312\"/>\n      <use xlink:href=\"#DejaVuSans-74\" x=\"297.949219\"/>\n      <use xlink:href=\"#DejaVuSans-65\" x=\"337.158203\"/>\n      <use xlink:href=\"#DejaVuSans-64\" x=\"398.681641\"/>\n      <use xlink:href=\"#DejaVuSans-5f\" x=\"462.158203\"/>\n      <use xlink:href=\"#DejaVuSans-61\" x=\"512.158203\"/>\n      <use xlink:href=\"#DejaVuSans-76\" x=\"573.4375\"/>\n      <use xlink:href=\"#DejaVuSans-65\" x=\"632.617188\"/>\n      <use xlink:href=\"#DejaVuSans-72\" x=\"694.140625\"/>\n      <use xlink:href=\"#DejaVuSans-61\" x=\"735.253906\"/>\n      <use xlink:href=\"#DejaVuSans-67\" x=\"796.533203\"/>\n      <use xlink:href=\"#DejaVuSans-65\" x=\"860.009766\"/>\n      <use xlink:href=\"#DejaVuSans-5f\" x=\"921.533203\"/>\n      <use xlink:href=\"#DejaVuSans-6c\" x=\"971.533203\"/>\n      <use xlink:href=\"#DejaVuSans-6f\" x=\"999.316406\"/>\n      <use xlink:href=\"#DejaVuSans-73\" x=\"1060.498047\"/>\n      <use xlink:href=\"#DejaVuSans-73\" x=\"1112.597656\"/>\n     </g>\n    </g>\n   </g>\n  </g>\n </g>\n <defs>\n  <clipPath id=\"pd83c086792\">\n   <rect x=\"50.14375\" y=\"22.318125\" width=\"669.6\" height=\"434.88\"/>\n  </clipPath>\n </defs>\n</svg>\n",
      "text/plain": [
       "<Figure size 864x576 with 1 Axes>"
      ]
     },
     "metadata": {},
     "output_type": "display_data"
    },
    {
     "data": {
      "image/svg+xml": "<?xml version=\"1.0\" encoding=\"utf-8\" standalone=\"no\"?>\n<!DOCTYPE svg PUBLIC \"-//W3C//DTD SVG 1.1//EN\"\n  \"http://www.w3.org/Graphics/SVG/1.1/DTD/svg11.dtd\">\n<svg xmlns:xlink=\"http://www.w3.org/1999/xlink\" width=\"736.490625pt\" height=\"494.754375pt\" viewBox=\"0 0 736.490625 494.754375\" xmlns=\"http://www.w3.org/2000/svg\" version=\"1.1\">\n <metadata>\n  <rdf:RDF xmlns:dc=\"http://purl.org/dc/elements/1.1/\" xmlns:cc=\"http://creativecommons.org/ns#\" xmlns:rdf=\"http://www.w3.org/1999/02/22-rdf-syntax-ns#\">\n   <cc:Work>\n    <dc:type rdf:resource=\"http://purl.org/dc/dcmitype/StillImage\"/>\n    <dc:date>2022-07-15T15:51:07.568600</dc:date>\n    <dc:format>image/svg+xml</dc:format>\n    <dc:creator>\n     <cc:Agent>\n      <dc:title>Matplotlib v3.5.2, https://matplotlib.org/</dc:title>\n     </cc:Agent>\n    </dc:creator>\n   </cc:Work>\n  </rdf:RDF>\n </metadata>\n <defs>\n  <style type=\"text/css\">*{stroke-linejoin: round; stroke-linecap: butt}</style>\n </defs>\n <g id=\"figure_1\">\n  <g id=\"patch_1\">\n   <path d=\"M 0 494.754375 \nL 736.490625 494.754375 \nL 736.490625 0 \nL 0 0 \nz\n\" style=\"fill: #ffffff\"/>\n  </g>\n  <g id=\"axes_1\">\n   <g id=\"patch_2\">\n    <path d=\"M 59.690625 457.198125 \nL 729.290625 457.198125 \nL 729.290625 22.318125 \nL 59.690625 22.318125 \nz\n\" style=\"fill: #ffffff\"/>\n   </g>\n   <g id=\"matplotlib.axis_1\">\n    <g id=\"xtick_1\">\n     <g id=\"line2d_1\">\n      <path d=\"M 90.126989 457.198125 \nL 90.126989 22.318125 \n\" clip-path=\"url(#p7c04271152)\" style=\"fill: none; stroke: #b0b0b0; stroke-width: 0.8; stroke-linecap: square\"/>\n     </g>\n     <g id=\"line2d_2\">\n      <defs>\n       <path id=\"m7ea190433b\" d=\"M 0 0 \nL 0 3.5 \n\" style=\"stroke: #000000; stroke-width: 0.8\"/>\n      </defs>\n      <g>\n       <use xlink:href=\"#m7ea190433b\" x=\"90.126989\" y=\"457.198125\" style=\"stroke: #000000; stroke-width: 0.8\"/>\n      </g>\n     </g>\n     <g id=\"text_1\">\n      <!-- 1.00 -->\n      <g transform=\"translate(78.994176 471.796562)scale(0.1 -0.1)\">\n       <defs>\n        <path id=\"DejaVuSans-31\" d=\"M 794 531 \nL 1825 531 \nL 1825 4091 \nL 703 3866 \nL 703 4441 \nL 1819 4666 \nL 2450 4666 \nL 2450 531 \nL 3481 531 \nL 3481 0 \nL 794 0 \nL 794 531 \nz\n\" transform=\"scale(0.015625)\"/>\n        <path id=\"DejaVuSans-2e\" d=\"M 684 794 \nL 1344 794 \nL 1344 0 \nL 684 0 \nL 684 794 \nz\n\" transform=\"scale(0.015625)\"/>\n        <path id=\"DejaVuSans-30\" d=\"M 2034 4250 \nQ 1547 4250 1301 3770 \nQ 1056 3291 1056 2328 \nQ 1056 1369 1301 889 \nQ 1547 409 2034 409 \nQ 2525 409 2770 889 \nQ 3016 1369 3016 2328 \nQ 3016 3291 2770 3770 \nQ 2525 4250 2034 4250 \nz\nM 2034 4750 \nQ 2819 4750 3233 4129 \nQ 3647 3509 3647 2328 \nQ 3647 1150 3233 529 \nQ 2819 -91 2034 -91 \nQ 1250 -91 836 529 \nQ 422 1150 422 2328 \nQ 422 3509 836 4129 \nQ 1250 4750 2034 4750 \nz\n\" transform=\"scale(0.015625)\"/>\n       </defs>\n       <use xlink:href=\"#DejaVuSans-31\"/>\n       <use xlink:href=\"#DejaVuSans-2e\" x=\"63.623047\"/>\n       <use xlink:href=\"#DejaVuSans-30\" x=\"95.410156\"/>\n       <use xlink:href=\"#DejaVuSans-30\" x=\"159.033203\"/>\n      </g>\n     </g>\n    </g>\n    <g id=\"xtick_2\">\n     <g id=\"line2d_3\">\n      <path d=\"M 166.217898 457.198125 \nL 166.217898 22.318125 \n\" clip-path=\"url(#p7c04271152)\" style=\"fill: none; stroke: #b0b0b0; stroke-width: 0.8; stroke-linecap: square\"/>\n     </g>\n     <g id=\"line2d_4\">\n      <g>\n       <use xlink:href=\"#m7ea190433b\" x=\"166.217898\" y=\"457.198125\" style=\"stroke: #000000; stroke-width: 0.8\"/>\n      </g>\n     </g>\n     <g id=\"text_2\">\n      <!-- 1.25 -->\n      <g transform=\"translate(155.085085 471.796562)scale(0.1 -0.1)\">\n       <defs>\n        <path id=\"DejaVuSans-32\" d=\"M 1228 531 \nL 3431 531 \nL 3431 0 \nL 469 0 \nL 469 531 \nQ 828 903 1448 1529 \nQ 2069 2156 2228 2338 \nQ 2531 2678 2651 2914 \nQ 2772 3150 2772 3378 \nQ 2772 3750 2511 3984 \nQ 2250 4219 1831 4219 \nQ 1534 4219 1204 4116 \nQ 875 4013 500 3803 \nL 500 4441 \nQ 881 4594 1212 4672 \nQ 1544 4750 1819 4750 \nQ 2544 4750 2975 4387 \nQ 3406 4025 3406 3419 \nQ 3406 3131 3298 2873 \nQ 3191 2616 2906 2266 \nQ 2828 2175 2409 1742 \nQ 1991 1309 1228 531 \nz\n\" transform=\"scale(0.015625)\"/>\n        <path id=\"DejaVuSans-35\" d=\"M 691 4666 \nL 3169 4666 \nL 3169 4134 \nL 1269 4134 \nL 1269 2991 \nQ 1406 3038 1543 3061 \nQ 1681 3084 1819 3084 \nQ 2600 3084 3056 2656 \nQ 3513 2228 3513 1497 \nQ 3513 744 3044 326 \nQ 2575 -91 1722 -91 \nQ 1428 -91 1123 -41 \nQ 819 9 494 109 \nL 494 744 \nQ 775 591 1075 516 \nQ 1375 441 1709 441 \nQ 2250 441 2565 725 \nQ 2881 1009 2881 1497 \nQ 2881 1984 2565 2268 \nQ 2250 2553 1709 2553 \nQ 1456 2553 1204 2497 \nQ 953 2441 691 2322 \nL 691 4666 \nz\n\" transform=\"scale(0.015625)\"/>\n       </defs>\n       <use xlink:href=\"#DejaVuSans-31\"/>\n       <use xlink:href=\"#DejaVuSans-2e\" x=\"63.623047\"/>\n       <use xlink:href=\"#DejaVuSans-32\" x=\"95.410156\"/>\n       <use xlink:href=\"#DejaVuSans-35\" x=\"159.033203\"/>\n      </g>\n     </g>\n    </g>\n    <g id=\"xtick_3\">\n     <g id=\"line2d_5\">\n      <path d=\"M 242.308807 457.198125 \nL 242.308807 22.318125 \n\" clip-path=\"url(#p7c04271152)\" style=\"fill: none; stroke: #b0b0b0; stroke-width: 0.8; stroke-linecap: square\"/>\n     </g>\n     <g id=\"line2d_6\">\n      <g>\n       <use xlink:href=\"#m7ea190433b\" x=\"242.308807\" y=\"457.198125\" style=\"stroke: #000000; stroke-width: 0.8\"/>\n      </g>\n     </g>\n     <g id=\"text_3\">\n      <!-- 1.50 -->\n      <g transform=\"translate(231.175994 471.796562)scale(0.1 -0.1)\">\n       <use xlink:href=\"#DejaVuSans-31\"/>\n       <use xlink:href=\"#DejaVuSans-2e\" x=\"63.623047\"/>\n       <use xlink:href=\"#DejaVuSans-35\" x=\"95.410156\"/>\n       <use xlink:href=\"#DejaVuSans-30\" x=\"159.033203\"/>\n      </g>\n     </g>\n    </g>\n    <g id=\"xtick_4\">\n     <g id=\"line2d_7\">\n      <path d=\"M 318.399716 457.198125 \nL 318.399716 22.318125 \n\" clip-path=\"url(#p7c04271152)\" style=\"fill: none; stroke: #b0b0b0; stroke-width: 0.8; stroke-linecap: square\"/>\n     </g>\n     <g id=\"line2d_8\">\n      <g>\n       <use xlink:href=\"#m7ea190433b\" x=\"318.399716\" y=\"457.198125\" style=\"stroke: #000000; stroke-width: 0.8\"/>\n      </g>\n     </g>\n     <g id=\"text_4\">\n      <!-- 1.75 -->\n      <g transform=\"translate(307.266903 471.796562)scale(0.1 -0.1)\">\n       <defs>\n        <path id=\"DejaVuSans-37\" d=\"M 525 4666 \nL 3525 4666 \nL 3525 4397 \nL 1831 0 \nL 1172 0 \nL 2766 4134 \nL 525 4134 \nL 525 4666 \nz\n\" transform=\"scale(0.015625)\"/>\n       </defs>\n       <use xlink:href=\"#DejaVuSans-31\"/>\n       <use xlink:href=\"#DejaVuSans-2e\" x=\"63.623047\"/>\n       <use xlink:href=\"#DejaVuSans-37\" x=\"95.410156\"/>\n       <use xlink:href=\"#DejaVuSans-35\" x=\"159.033203\"/>\n      </g>\n     </g>\n    </g>\n    <g id=\"xtick_5\">\n     <g id=\"line2d_9\">\n      <path d=\"M 394.490625 457.198125 \nL 394.490625 22.318125 \n\" clip-path=\"url(#p7c04271152)\" style=\"fill: none; stroke: #b0b0b0; stroke-width: 0.8; stroke-linecap: square\"/>\n     </g>\n     <g id=\"line2d_10\">\n      <g>\n       <use xlink:href=\"#m7ea190433b\" x=\"394.490625\" y=\"457.198125\" style=\"stroke: #000000; stroke-width: 0.8\"/>\n      </g>\n     </g>\n     <g id=\"text_5\">\n      <!-- 2.00 -->\n      <g transform=\"translate(383.357813 471.796562)scale(0.1 -0.1)\">\n       <use xlink:href=\"#DejaVuSans-32\"/>\n       <use xlink:href=\"#DejaVuSans-2e\" x=\"63.623047\"/>\n       <use xlink:href=\"#DejaVuSans-30\" x=\"95.410156\"/>\n       <use xlink:href=\"#DejaVuSans-30\" x=\"159.033203\"/>\n      </g>\n     </g>\n    </g>\n    <g id=\"xtick_6\">\n     <g id=\"line2d_11\">\n      <path d=\"M 470.581534 457.198125 \nL 470.581534 22.318125 \n\" clip-path=\"url(#p7c04271152)\" style=\"fill: none; stroke: #b0b0b0; stroke-width: 0.8; stroke-linecap: square\"/>\n     </g>\n     <g id=\"line2d_12\">\n      <g>\n       <use xlink:href=\"#m7ea190433b\" x=\"470.581534\" y=\"457.198125\" style=\"stroke: #000000; stroke-width: 0.8\"/>\n      </g>\n     </g>\n     <g id=\"text_6\">\n      <!-- 2.25 -->\n      <g transform=\"translate(459.448722 471.796562)scale(0.1 -0.1)\">\n       <use xlink:href=\"#DejaVuSans-32\"/>\n       <use xlink:href=\"#DejaVuSans-2e\" x=\"63.623047\"/>\n       <use xlink:href=\"#DejaVuSans-32\" x=\"95.410156\"/>\n       <use xlink:href=\"#DejaVuSans-35\" x=\"159.033203\"/>\n      </g>\n     </g>\n    </g>\n    <g id=\"xtick_7\">\n     <g id=\"line2d_13\">\n      <path d=\"M 546.672443 457.198125 \nL 546.672443 22.318125 \n\" clip-path=\"url(#p7c04271152)\" style=\"fill: none; stroke: #b0b0b0; stroke-width: 0.8; stroke-linecap: square\"/>\n     </g>\n     <g id=\"line2d_14\">\n      <g>\n       <use xlink:href=\"#m7ea190433b\" x=\"546.672443\" y=\"457.198125\" style=\"stroke: #000000; stroke-width: 0.8\"/>\n      </g>\n     </g>\n     <g id=\"text_7\">\n      <!-- 2.50 -->\n      <g transform=\"translate(535.539631 471.796562)scale(0.1 -0.1)\">\n       <use xlink:href=\"#DejaVuSans-32\"/>\n       <use xlink:href=\"#DejaVuSans-2e\" x=\"63.623047\"/>\n       <use xlink:href=\"#DejaVuSans-35\" x=\"95.410156\"/>\n       <use xlink:href=\"#DejaVuSans-30\" x=\"159.033203\"/>\n      </g>\n     </g>\n    </g>\n    <g id=\"xtick_8\">\n     <g id=\"line2d_15\">\n      <path d=\"M 622.763352 457.198125 \nL 622.763352 22.318125 \n\" clip-path=\"url(#p7c04271152)\" style=\"fill: none; stroke: #b0b0b0; stroke-width: 0.8; stroke-linecap: square\"/>\n     </g>\n     <g id=\"line2d_16\">\n      <g>\n       <use xlink:href=\"#m7ea190433b\" x=\"622.763352\" y=\"457.198125\" style=\"stroke: #000000; stroke-width: 0.8\"/>\n      </g>\n     </g>\n     <g id=\"text_8\">\n      <!-- 2.75 -->\n      <g transform=\"translate(611.63054 471.796562)scale(0.1 -0.1)\">\n       <use xlink:href=\"#DejaVuSans-32\"/>\n       <use xlink:href=\"#DejaVuSans-2e\" x=\"63.623047\"/>\n       <use xlink:href=\"#DejaVuSans-37\" x=\"95.410156\"/>\n       <use xlink:href=\"#DejaVuSans-35\" x=\"159.033203\"/>\n      </g>\n     </g>\n    </g>\n    <g id=\"xtick_9\">\n     <g id=\"line2d_17\">\n      <path d=\"M 698.854261 457.198125 \nL 698.854261 22.318125 \n\" clip-path=\"url(#p7c04271152)\" style=\"fill: none; stroke: #b0b0b0; stroke-width: 0.8; stroke-linecap: square\"/>\n     </g>\n     <g id=\"line2d_18\">\n      <g>\n       <use xlink:href=\"#m7ea190433b\" x=\"698.854261\" y=\"457.198125\" style=\"stroke: #000000; stroke-width: 0.8\"/>\n      </g>\n     </g>\n     <g id=\"text_9\">\n      <!-- 3.00 -->\n      <g transform=\"translate(687.721449 471.796562)scale(0.1 -0.1)\">\n       <defs>\n        <path id=\"DejaVuSans-33\" d=\"M 2597 2516 \nQ 3050 2419 3304 2112 \nQ 3559 1806 3559 1356 \nQ 3559 666 3084 287 \nQ 2609 -91 1734 -91 \nQ 1441 -91 1130 -33 \nQ 819 25 488 141 \nL 488 750 \nQ 750 597 1062 519 \nQ 1375 441 1716 441 \nQ 2309 441 2620 675 \nQ 2931 909 2931 1356 \nQ 2931 1769 2642 2001 \nQ 2353 2234 1838 2234 \nL 1294 2234 \nL 1294 2753 \nL 1863 2753 \nQ 2328 2753 2575 2939 \nQ 2822 3125 2822 3475 \nQ 2822 3834 2567 4026 \nQ 2313 4219 1838 4219 \nQ 1578 4219 1281 4162 \nQ 984 4106 628 3988 \nL 628 4550 \nQ 988 4650 1302 4700 \nQ 1616 4750 1894 4750 \nQ 2613 4750 3031 4423 \nQ 3450 4097 3450 3541 \nQ 3450 3153 3228 2886 \nQ 3006 2619 2597 2516 \nz\n\" transform=\"scale(0.015625)\"/>\n       </defs>\n       <use xlink:href=\"#DejaVuSans-33\"/>\n       <use xlink:href=\"#DejaVuSans-2e\" x=\"63.623047\"/>\n       <use xlink:href=\"#DejaVuSans-30\" x=\"95.410156\"/>\n       <use xlink:href=\"#DejaVuSans-30\" x=\"159.033203\"/>\n      </g>\n     </g>\n    </g>\n    <g id=\"text_10\">\n     <!-- Epochs -->\n     <g transform=\"translate(376.575 485.474687)scale(0.1 -0.1)\">\n      <defs>\n       <path id=\"DejaVuSans-45\" d=\"M 628 4666 \nL 3578 4666 \nL 3578 4134 \nL 1259 4134 \nL 1259 2753 \nL 3481 2753 \nL 3481 2222 \nL 1259 2222 \nL 1259 531 \nL 3634 531 \nL 3634 0 \nL 628 0 \nL 628 4666 \nz\n\" transform=\"scale(0.015625)\"/>\n       <path id=\"DejaVuSans-70\" d=\"M 1159 525 \nL 1159 -1331 \nL 581 -1331 \nL 581 3500 \nL 1159 3500 \nL 1159 2969 \nQ 1341 3281 1617 3432 \nQ 1894 3584 2278 3584 \nQ 2916 3584 3314 3078 \nQ 3713 2572 3713 1747 \nQ 3713 922 3314 415 \nQ 2916 -91 2278 -91 \nQ 1894 -91 1617 61 \nQ 1341 213 1159 525 \nz\nM 3116 1747 \nQ 3116 2381 2855 2742 \nQ 2594 3103 2138 3103 \nQ 1681 3103 1420 2742 \nQ 1159 2381 1159 1747 \nQ 1159 1113 1420 752 \nQ 1681 391 2138 391 \nQ 2594 391 2855 752 \nQ 3116 1113 3116 1747 \nz\n\" transform=\"scale(0.015625)\"/>\n       <path id=\"DejaVuSans-6f\" d=\"M 1959 3097 \nQ 1497 3097 1228 2736 \nQ 959 2375 959 1747 \nQ 959 1119 1226 758 \nQ 1494 397 1959 397 \nQ 2419 397 2687 759 \nQ 2956 1122 2956 1747 \nQ 2956 2369 2687 2733 \nQ 2419 3097 1959 3097 \nz\nM 1959 3584 \nQ 2709 3584 3137 3096 \nQ 3566 2609 3566 1747 \nQ 3566 888 3137 398 \nQ 2709 -91 1959 -91 \nQ 1206 -91 779 398 \nQ 353 888 353 1747 \nQ 353 2609 779 3096 \nQ 1206 3584 1959 3584 \nz\n\" transform=\"scale(0.015625)\"/>\n       <path id=\"DejaVuSans-63\" d=\"M 3122 3366 \nL 3122 2828 \nQ 2878 2963 2633 3030 \nQ 2388 3097 2138 3097 \nQ 1578 3097 1268 2742 \nQ 959 2388 959 1747 \nQ 959 1106 1268 751 \nQ 1578 397 2138 397 \nQ 2388 397 2633 464 \nQ 2878 531 3122 666 \nL 3122 134 \nQ 2881 22 2623 -34 \nQ 2366 -91 2075 -91 \nQ 1284 -91 818 406 \nQ 353 903 353 1747 \nQ 353 2603 823 3093 \nQ 1294 3584 2113 3584 \nQ 2378 3584 2631 3529 \nQ 2884 3475 3122 3366 \nz\n\" transform=\"scale(0.015625)\"/>\n       <path id=\"DejaVuSans-68\" d=\"M 3513 2113 \nL 3513 0 \nL 2938 0 \nL 2938 2094 \nQ 2938 2591 2744 2837 \nQ 2550 3084 2163 3084 \nQ 1697 3084 1428 2787 \nQ 1159 2491 1159 1978 \nL 1159 0 \nL 581 0 \nL 581 4863 \nL 1159 4863 \nL 1159 2956 \nQ 1366 3272 1645 3428 \nQ 1925 3584 2291 3584 \nQ 2894 3584 3203 3211 \nQ 3513 2838 3513 2113 \nz\n\" transform=\"scale(0.015625)\"/>\n       <path id=\"DejaVuSans-73\" d=\"M 2834 3397 \nL 2834 2853 \nQ 2591 2978 2328 3040 \nQ 2066 3103 1784 3103 \nQ 1356 3103 1142 2972 \nQ 928 2841 928 2578 \nQ 928 2378 1081 2264 \nQ 1234 2150 1697 2047 \nL 1894 2003 \nQ 2506 1872 2764 1633 \nQ 3022 1394 3022 966 \nQ 3022 478 2636 193 \nQ 2250 -91 1575 -91 \nQ 1294 -91 989 -36 \nQ 684 19 347 128 \nL 347 722 \nQ 666 556 975 473 \nQ 1284 391 1588 391 \nQ 1994 391 2212 530 \nQ 2431 669 2431 922 \nQ 2431 1156 2273 1281 \nQ 2116 1406 1581 1522 \nL 1381 1569 \nQ 847 1681 609 1914 \nQ 372 2147 372 2553 \nQ 372 3047 722 3315 \nQ 1072 3584 1716 3584 \nQ 2034 3584 2315 3537 \nQ 2597 3491 2834 3397 \nz\n\" transform=\"scale(0.015625)\"/>\n      </defs>\n      <use xlink:href=\"#DejaVuSans-45\"/>\n      <use xlink:href=\"#DejaVuSans-70\" x=\"63.183594\"/>\n      <use xlink:href=\"#DejaVuSans-6f\" x=\"126.660156\"/>\n      <use xlink:href=\"#DejaVuSans-63\" x=\"187.841797\"/>\n      <use xlink:href=\"#DejaVuSans-68\" x=\"242.822266\"/>\n      <use xlink:href=\"#DejaVuSans-73\" x=\"306.201172\"/>\n     </g>\n    </g>\n   </g>\n   <g id=\"matplotlib.axis_2\">\n    <g id=\"ytick_1\">\n     <g id=\"line2d_19\">\n      <path d=\"M 59.690625 420.195083 \nL 729.290625 420.195083 \n\" clip-path=\"url(#p7c04271152)\" style=\"fill: none; stroke: #b0b0b0; stroke-width: 0.8; stroke-linecap: square\"/>\n     </g>\n     <g id=\"line2d_20\">\n      <defs>\n       <path id=\"md408a2e3b7\" d=\"M 0 0 \nL -3.5 0 \n\" style=\"stroke: #000000; stroke-width: 0.8\"/>\n      </defs>\n      <g>\n       <use xlink:href=\"#md408a2e3b7\" x=\"59.690625\" y=\"420.195083\" style=\"stroke: #000000; stroke-width: 0.8\"/>\n      </g>\n     </g>\n     <g id=\"text_11\">\n      <!-- 34900 -->\n      <g transform=\"translate(20.878125 423.994302)scale(0.1 -0.1)\">\n       <defs>\n        <path id=\"DejaVuSans-34\" d=\"M 2419 4116 \nL 825 1625 \nL 2419 1625 \nL 2419 4116 \nz\nM 2253 4666 \nL 3047 4666 \nL 3047 1625 \nL 3713 1625 \nL 3713 1100 \nL 3047 1100 \nL 3047 0 \nL 2419 0 \nL 2419 1100 \nL 313 1100 \nL 313 1709 \nL 2253 4666 \nz\n\" transform=\"scale(0.015625)\"/>\n        <path id=\"DejaVuSans-39\" d=\"M 703 97 \nL 703 672 \nQ 941 559 1184 500 \nQ 1428 441 1663 441 \nQ 2288 441 2617 861 \nQ 2947 1281 2994 2138 \nQ 2813 1869 2534 1725 \nQ 2256 1581 1919 1581 \nQ 1219 1581 811 2004 \nQ 403 2428 403 3163 \nQ 403 3881 828 4315 \nQ 1253 4750 1959 4750 \nQ 2769 4750 3195 4129 \nQ 3622 3509 3622 2328 \nQ 3622 1225 3098 567 \nQ 2575 -91 1691 -91 \nQ 1453 -91 1209 -44 \nQ 966 3 703 97 \nz\nM 1959 2075 \nQ 2384 2075 2632 2365 \nQ 2881 2656 2881 3163 \nQ 2881 3666 2632 3958 \nQ 2384 4250 1959 4250 \nQ 1534 4250 1286 3958 \nQ 1038 3666 1038 3163 \nQ 1038 2656 1286 2365 \nQ 1534 2075 1959 2075 \nz\n\" transform=\"scale(0.015625)\"/>\n       </defs>\n       <use xlink:href=\"#DejaVuSans-33\"/>\n       <use xlink:href=\"#DejaVuSans-34\" x=\"63.623047\"/>\n       <use xlink:href=\"#DejaVuSans-39\" x=\"127.246094\"/>\n       <use xlink:href=\"#DejaVuSans-30\" x=\"190.869141\"/>\n       <use xlink:href=\"#DejaVuSans-30\" x=\"254.492188\"/>\n      </g>\n     </g>\n    </g>\n    <g id=\"ytick_2\">\n     <g id=\"line2d_21\">\n      <path d=\"M 59.690625 366.333305 \nL 729.290625 366.333305 \n\" clip-path=\"url(#p7c04271152)\" style=\"fill: none; stroke: #b0b0b0; stroke-width: 0.8; stroke-linecap: square\"/>\n     </g>\n     <g id=\"line2d_22\">\n      <g>\n       <use xlink:href=\"#md408a2e3b7\" x=\"59.690625\" y=\"366.333305\" style=\"stroke: #000000; stroke-width: 0.8\"/>\n      </g>\n     </g>\n     <g id=\"text_12\">\n      <!-- 34950 -->\n      <g transform=\"translate(20.878125 370.132523)scale(0.1 -0.1)\">\n       <use xlink:href=\"#DejaVuSans-33\"/>\n       <use xlink:href=\"#DejaVuSans-34\" x=\"63.623047\"/>\n       <use xlink:href=\"#DejaVuSans-39\" x=\"127.246094\"/>\n       <use xlink:href=\"#DejaVuSans-35\" x=\"190.869141\"/>\n       <use xlink:href=\"#DejaVuSans-30\" x=\"254.492188\"/>\n      </g>\n     </g>\n    </g>\n    <g id=\"ytick_3\">\n     <g id=\"line2d_23\">\n      <path d=\"M 59.690625 312.471526 \nL 729.290625 312.471526 \n\" clip-path=\"url(#p7c04271152)\" style=\"fill: none; stroke: #b0b0b0; stroke-width: 0.8; stroke-linecap: square\"/>\n     </g>\n     <g id=\"line2d_24\">\n      <g>\n       <use xlink:href=\"#md408a2e3b7\" x=\"59.690625\" y=\"312.471526\" style=\"stroke: #000000; stroke-width: 0.8\"/>\n      </g>\n     </g>\n     <g id=\"text_13\">\n      <!-- 35000 -->\n      <g transform=\"translate(20.878125 316.270745)scale(0.1 -0.1)\">\n       <use xlink:href=\"#DejaVuSans-33\"/>\n       <use xlink:href=\"#DejaVuSans-35\" x=\"63.623047\"/>\n       <use xlink:href=\"#DejaVuSans-30\" x=\"127.246094\"/>\n       <use xlink:href=\"#DejaVuSans-30\" x=\"190.869141\"/>\n       <use xlink:href=\"#DejaVuSans-30\" x=\"254.492188\"/>\n      </g>\n     </g>\n    </g>\n    <g id=\"ytick_4\">\n     <g id=\"line2d_25\">\n      <path d=\"M 59.690625 258.609747 \nL 729.290625 258.609747 \n\" clip-path=\"url(#p7c04271152)\" style=\"fill: none; stroke: #b0b0b0; stroke-width: 0.8; stroke-linecap: square\"/>\n     </g>\n     <g id=\"line2d_26\">\n      <g>\n       <use xlink:href=\"#md408a2e3b7\" x=\"59.690625\" y=\"258.609747\" style=\"stroke: #000000; stroke-width: 0.8\"/>\n      </g>\n     </g>\n     <g id=\"text_14\">\n      <!-- 35050 -->\n      <g transform=\"translate(20.878125 262.408966)scale(0.1 -0.1)\">\n       <use xlink:href=\"#DejaVuSans-33\"/>\n       <use xlink:href=\"#DejaVuSans-35\" x=\"63.623047\"/>\n       <use xlink:href=\"#DejaVuSans-30\" x=\"127.246094\"/>\n       <use xlink:href=\"#DejaVuSans-35\" x=\"190.869141\"/>\n       <use xlink:href=\"#DejaVuSans-30\" x=\"254.492188\"/>\n      </g>\n     </g>\n    </g>\n    <g id=\"ytick_5\">\n     <g id=\"line2d_27\">\n      <path d=\"M 59.690625 204.747969 \nL 729.290625 204.747969 \n\" clip-path=\"url(#p7c04271152)\" style=\"fill: none; stroke: #b0b0b0; stroke-width: 0.8; stroke-linecap: square\"/>\n     </g>\n     <g id=\"line2d_28\">\n      <g>\n       <use xlink:href=\"#md408a2e3b7\" x=\"59.690625\" y=\"204.747969\" style=\"stroke: #000000; stroke-width: 0.8\"/>\n      </g>\n     </g>\n     <g id=\"text_15\">\n      <!-- 35100 -->\n      <g transform=\"translate(20.878125 208.547188)scale(0.1 -0.1)\">\n       <use xlink:href=\"#DejaVuSans-33\"/>\n       <use xlink:href=\"#DejaVuSans-35\" x=\"63.623047\"/>\n       <use xlink:href=\"#DejaVuSans-31\" x=\"127.246094\"/>\n       <use xlink:href=\"#DejaVuSans-30\" x=\"190.869141\"/>\n       <use xlink:href=\"#DejaVuSans-30\" x=\"254.492188\"/>\n      </g>\n     </g>\n    </g>\n    <g id=\"ytick_6\">\n     <g id=\"line2d_29\">\n      <path d=\"M 59.690625 150.88619 \nL 729.290625 150.88619 \n\" clip-path=\"url(#p7c04271152)\" style=\"fill: none; stroke: #b0b0b0; stroke-width: 0.8; stroke-linecap: square\"/>\n     </g>\n     <g id=\"line2d_30\">\n      <g>\n       <use xlink:href=\"#md408a2e3b7\" x=\"59.690625\" y=\"150.88619\" style=\"stroke: #000000; stroke-width: 0.8\"/>\n      </g>\n     </g>\n     <g id=\"text_16\">\n      <!-- 35150 -->\n      <g transform=\"translate(20.878125 154.685409)scale(0.1 -0.1)\">\n       <use xlink:href=\"#DejaVuSans-33\"/>\n       <use xlink:href=\"#DejaVuSans-35\" x=\"63.623047\"/>\n       <use xlink:href=\"#DejaVuSans-31\" x=\"127.246094\"/>\n       <use xlink:href=\"#DejaVuSans-35\" x=\"190.869141\"/>\n       <use xlink:href=\"#DejaVuSans-30\" x=\"254.492188\"/>\n      </g>\n     </g>\n    </g>\n    <g id=\"ytick_7\">\n     <g id=\"line2d_31\">\n      <path d=\"M 59.690625 97.024412 \nL 729.290625 97.024412 \n\" clip-path=\"url(#p7c04271152)\" style=\"fill: none; stroke: #b0b0b0; stroke-width: 0.8; stroke-linecap: square\"/>\n     </g>\n     <g id=\"line2d_32\">\n      <g>\n       <use xlink:href=\"#md408a2e3b7\" x=\"59.690625\" y=\"97.024412\" style=\"stroke: #000000; stroke-width: 0.8\"/>\n      </g>\n     </g>\n     <g id=\"text_17\">\n      <!-- 35200 -->\n      <g transform=\"translate(20.878125 100.823631)scale(0.1 -0.1)\">\n       <use xlink:href=\"#DejaVuSans-33\"/>\n       <use xlink:href=\"#DejaVuSans-35\" x=\"63.623047\"/>\n       <use xlink:href=\"#DejaVuSans-32\" x=\"127.246094\"/>\n       <use xlink:href=\"#DejaVuSans-30\" x=\"190.869141\"/>\n       <use xlink:href=\"#DejaVuSans-30\" x=\"254.492188\"/>\n      </g>\n     </g>\n    </g>\n    <g id=\"ytick_8\">\n     <g id=\"line2d_33\">\n      <path d=\"M 59.690625 43.162633 \nL 729.290625 43.162633 \n\" clip-path=\"url(#p7c04271152)\" style=\"fill: none; stroke: #b0b0b0; stroke-width: 0.8; stroke-linecap: square\"/>\n     </g>\n     <g id=\"line2d_34\">\n      <g>\n       <use xlink:href=\"#md408a2e3b7\" x=\"59.690625\" y=\"43.162633\" style=\"stroke: #000000; stroke-width: 0.8\"/>\n      </g>\n     </g>\n     <g id=\"text_18\">\n      <!-- 35250 -->\n      <g transform=\"translate(20.878125 46.961852)scale(0.1 -0.1)\">\n       <use xlink:href=\"#DejaVuSans-33\"/>\n       <use xlink:href=\"#DejaVuSans-35\" x=\"63.623047\"/>\n       <use xlink:href=\"#DejaVuSans-32\" x=\"127.246094\"/>\n       <use xlink:href=\"#DejaVuSans-35\" x=\"190.869141\"/>\n       <use xlink:href=\"#DejaVuSans-30\" x=\"254.492188\"/>\n      </g>\n     </g>\n    </g>\n    <g id=\"text_19\">\n     <!-- Hamming distance sum -->\n     <g transform=\"translate(14.798438 299.063594)rotate(-90)scale(0.1 -0.1)\">\n      <defs>\n       <path id=\"DejaVuSans-48\" d=\"M 628 4666 \nL 1259 4666 \nL 1259 2753 \nL 3553 2753 \nL 3553 4666 \nL 4184 4666 \nL 4184 0 \nL 3553 0 \nL 3553 2222 \nL 1259 2222 \nL 1259 0 \nL 628 0 \nL 628 4666 \nz\n\" transform=\"scale(0.015625)\"/>\n       <path id=\"DejaVuSans-61\" d=\"M 2194 1759 \nQ 1497 1759 1228 1600 \nQ 959 1441 959 1056 \nQ 959 750 1161 570 \nQ 1363 391 1709 391 \nQ 2188 391 2477 730 \nQ 2766 1069 2766 1631 \nL 2766 1759 \nL 2194 1759 \nz\nM 3341 1997 \nL 3341 0 \nL 2766 0 \nL 2766 531 \nQ 2569 213 2275 61 \nQ 1981 -91 1556 -91 \nQ 1019 -91 701 211 \nQ 384 513 384 1019 \nQ 384 1609 779 1909 \nQ 1175 2209 1959 2209 \nL 2766 2209 \nL 2766 2266 \nQ 2766 2663 2505 2880 \nQ 2244 3097 1772 3097 \nQ 1472 3097 1187 3025 \nQ 903 2953 641 2809 \nL 641 3341 \nQ 956 3463 1253 3523 \nQ 1550 3584 1831 3584 \nQ 2591 3584 2966 3190 \nQ 3341 2797 3341 1997 \nz\n\" transform=\"scale(0.015625)\"/>\n       <path id=\"DejaVuSans-6d\" d=\"M 3328 2828 \nQ 3544 3216 3844 3400 \nQ 4144 3584 4550 3584 \nQ 5097 3584 5394 3201 \nQ 5691 2819 5691 2113 \nL 5691 0 \nL 5113 0 \nL 5113 2094 \nQ 5113 2597 4934 2840 \nQ 4756 3084 4391 3084 \nQ 3944 3084 3684 2787 \nQ 3425 2491 3425 1978 \nL 3425 0 \nL 2847 0 \nL 2847 2094 \nQ 2847 2600 2669 2842 \nQ 2491 3084 2119 3084 \nQ 1678 3084 1418 2786 \nQ 1159 2488 1159 1978 \nL 1159 0 \nL 581 0 \nL 581 3500 \nL 1159 3500 \nL 1159 2956 \nQ 1356 3278 1631 3431 \nQ 1906 3584 2284 3584 \nQ 2666 3584 2933 3390 \nQ 3200 3197 3328 2828 \nz\n\" transform=\"scale(0.015625)\"/>\n       <path id=\"DejaVuSans-69\" d=\"M 603 3500 \nL 1178 3500 \nL 1178 0 \nL 603 0 \nL 603 3500 \nz\nM 603 4863 \nL 1178 4863 \nL 1178 4134 \nL 603 4134 \nL 603 4863 \nz\n\" transform=\"scale(0.015625)\"/>\n       <path id=\"DejaVuSans-6e\" d=\"M 3513 2113 \nL 3513 0 \nL 2938 0 \nL 2938 2094 \nQ 2938 2591 2744 2837 \nQ 2550 3084 2163 3084 \nQ 1697 3084 1428 2787 \nQ 1159 2491 1159 1978 \nL 1159 0 \nL 581 0 \nL 581 3500 \nL 1159 3500 \nL 1159 2956 \nQ 1366 3272 1645 3428 \nQ 1925 3584 2291 3584 \nQ 2894 3584 3203 3211 \nQ 3513 2838 3513 2113 \nz\n\" transform=\"scale(0.015625)\"/>\n       <path id=\"DejaVuSans-67\" d=\"M 2906 1791 \nQ 2906 2416 2648 2759 \nQ 2391 3103 1925 3103 \nQ 1463 3103 1205 2759 \nQ 947 2416 947 1791 \nQ 947 1169 1205 825 \nQ 1463 481 1925 481 \nQ 2391 481 2648 825 \nQ 2906 1169 2906 1791 \nz\nM 3481 434 \nQ 3481 -459 3084 -895 \nQ 2688 -1331 1869 -1331 \nQ 1566 -1331 1297 -1286 \nQ 1028 -1241 775 -1147 \nL 775 -588 \nQ 1028 -725 1275 -790 \nQ 1522 -856 1778 -856 \nQ 2344 -856 2625 -561 \nQ 2906 -266 2906 331 \nL 2906 616 \nQ 2728 306 2450 153 \nQ 2172 0 1784 0 \nQ 1141 0 747 490 \nQ 353 981 353 1791 \nQ 353 2603 747 3093 \nQ 1141 3584 1784 3584 \nQ 2172 3584 2450 3431 \nQ 2728 3278 2906 2969 \nL 2906 3500 \nL 3481 3500 \nL 3481 434 \nz\n\" transform=\"scale(0.015625)\"/>\n       <path id=\"DejaVuSans-20\" transform=\"scale(0.015625)\"/>\n       <path id=\"DejaVuSans-64\" d=\"M 2906 2969 \nL 2906 4863 \nL 3481 4863 \nL 3481 0 \nL 2906 0 \nL 2906 525 \nQ 2725 213 2448 61 \nQ 2172 -91 1784 -91 \nQ 1150 -91 751 415 \nQ 353 922 353 1747 \nQ 353 2572 751 3078 \nQ 1150 3584 1784 3584 \nQ 2172 3584 2448 3432 \nQ 2725 3281 2906 2969 \nz\nM 947 1747 \nQ 947 1113 1208 752 \nQ 1469 391 1925 391 \nQ 2381 391 2643 752 \nQ 2906 1113 2906 1747 \nQ 2906 2381 2643 2742 \nQ 2381 3103 1925 3103 \nQ 1469 3103 1208 2742 \nQ 947 2381 947 1747 \nz\n\" transform=\"scale(0.015625)\"/>\n       <path id=\"DejaVuSans-74\" d=\"M 1172 4494 \nL 1172 3500 \nL 2356 3500 \nL 2356 3053 \nL 1172 3053 \nL 1172 1153 \nQ 1172 725 1289 603 \nQ 1406 481 1766 481 \nL 2356 481 \nL 2356 0 \nL 1766 0 \nQ 1100 0 847 248 \nQ 594 497 594 1153 \nL 594 3053 \nL 172 3053 \nL 172 3500 \nL 594 3500 \nL 594 4494 \nL 1172 4494 \nz\n\" transform=\"scale(0.015625)\"/>\n       <path id=\"DejaVuSans-65\" d=\"M 3597 1894 \nL 3597 1613 \nL 953 1613 \nQ 991 1019 1311 708 \nQ 1631 397 2203 397 \nQ 2534 397 2845 478 \nQ 3156 559 3463 722 \nL 3463 178 \nQ 3153 47 2828 -22 \nQ 2503 -91 2169 -91 \nQ 1331 -91 842 396 \nQ 353 884 353 1716 \nQ 353 2575 817 3079 \nQ 1281 3584 2069 3584 \nQ 2775 3584 3186 3129 \nQ 3597 2675 3597 1894 \nz\nM 3022 2063 \nQ 3016 2534 2758 2815 \nQ 2500 3097 2075 3097 \nQ 1594 3097 1305 2825 \nQ 1016 2553 972 2059 \nL 3022 2063 \nz\n\" transform=\"scale(0.015625)\"/>\n       <path id=\"DejaVuSans-75\" d=\"M 544 1381 \nL 544 3500 \nL 1119 3500 \nL 1119 1403 \nQ 1119 906 1312 657 \nQ 1506 409 1894 409 \nQ 2359 409 2629 706 \nQ 2900 1003 2900 1516 \nL 2900 3500 \nL 3475 3500 \nL 3475 0 \nL 2900 0 \nL 2900 538 \nQ 2691 219 2414 64 \nQ 2138 -91 1772 -91 \nQ 1169 -91 856 284 \nQ 544 659 544 1381 \nz\nM 1991 3584 \nL 1991 3584 \nz\n\" transform=\"scale(0.015625)\"/>\n      </defs>\n      <use xlink:href=\"#DejaVuSans-48\"/>\n      <use xlink:href=\"#DejaVuSans-61\" x=\"75.195312\"/>\n      <use xlink:href=\"#DejaVuSans-6d\" x=\"136.474609\"/>\n      <use xlink:href=\"#DejaVuSans-6d\" x=\"233.886719\"/>\n      <use xlink:href=\"#DejaVuSans-69\" x=\"331.298828\"/>\n      <use xlink:href=\"#DejaVuSans-6e\" x=\"359.082031\"/>\n      <use xlink:href=\"#DejaVuSans-67\" x=\"422.460938\"/>\n      <use xlink:href=\"#DejaVuSans-20\" x=\"485.9375\"/>\n      <use xlink:href=\"#DejaVuSans-64\" x=\"517.724609\"/>\n      <use xlink:href=\"#DejaVuSans-69\" x=\"581.201172\"/>\n      <use xlink:href=\"#DejaVuSans-73\" x=\"608.984375\"/>\n      <use xlink:href=\"#DejaVuSans-74\" x=\"661.083984\"/>\n      <use xlink:href=\"#DejaVuSans-61\" x=\"700.292969\"/>\n      <use xlink:href=\"#DejaVuSans-6e\" x=\"761.572266\"/>\n      <use xlink:href=\"#DejaVuSans-63\" x=\"824.951172\"/>\n      <use xlink:href=\"#DejaVuSans-65\" x=\"879.931641\"/>\n      <use xlink:href=\"#DejaVuSans-20\" x=\"941.455078\"/>\n      <use xlink:href=\"#DejaVuSans-73\" x=\"973.242188\"/>\n      <use xlink:href=\"#DejaVuSans-75\" x=\"1025.341797\"/>\n      <use xlink:href=\"#DejaVuSans-6d\" x=\"1088.720703\"/>\n     </g>\n    </g>\n   </g>\n   <g id=\"line2d_35\">\n    <path d=\"M 90.126989 42.085398 \nL 394.490625 426.658497 \nL 698.854261 437.430852 \n\" clip-path=\"url(#p7c04271152)\" style=\"fill: none; stroke: #1f77b4; stroke-width: 1.5; stroke-linecap: square\"/>\n   </g>\n   <g id=\"patch_3\">\n    <path d=\"M 59.690625 457.198125 \nL 59.690625 22.318125 \n\" style=\"fill: none; stroke: #000000; stroke-width: 0.8; stroke-linejoin: miter; stroke-linecap: square\"/>\n   </g>\n   <g id=\"patch_4\">\n    <path d=\"M 729.290625 457.198125 \nL 729.290625 22.318125 \n\" style=\"fill: none; stroke: #000000; stroke-width: 0.8; stroke-linejoin: miter; stroke-linecap: square\"/>\n   </g>\n   <g id=\"patch_5\">\n    <path d=\"M 59.690625 457.198125 \nL 729.290625 457.198125 \n\" style=\"fill: none; stroke: #000000; stroke-width: 0.8; stroke-linejoin: miter; stroke-linecap: square\"/>\n   </g>\n   <g id=\"patch_6\">\n    <path d=\"M 59.690625 22.318125 \nL 729.290625 22.318125 \n\" style=\"fill: none; stroke: #000000; stroke-width: 0.8; stroke-linejoin: miter; stroke-linecap: square\"/>\n   </g>\n   <g id=\"text_20\">\n    <!-- transformer &lt;model_demo&gt; validation scores -->\n    <g transform=\"translate(255.657188 16.318125)scale(0.12 -0.12)\">\n     <defs>\n      <path id=\"DejaVuSans-72\" d=\"M 2631 2963 \nQ 2534 3019 2420 3045 \nQ 2306 3072 2169 3072 \nQ 1681 3072 1420 2755 \nQ 1159 2438 1159 1844 \nL 1159 0 \nL 581 0 \nL 581 3500 \nL 1159 3500 \nL 1159 2956 \nQ 1341 3275 1631 3429 \nQ 1922 3584 2338 3584 \nQ 2397 3584 2469 3576 \nQ 2541 3569 2628 3553 \nL 2631 2963 \nz\n\" transform=\"scale(0.015625)\"/>\n      <path id=\"DejaVuSans-66\" d=\"M 2375 4863 \nL 2375 4384 \nL 1825 4384 \nQ 1516 4384 1395 4259 \nQ 1275 4134 1275 3809 \nL 1275 3500 \nL 2222 3500 \nL 2222 3053 \nL 1275 3053 \nL 1275 0 \nL 697 0 \nL 697 3053 \nL 147 3053 \nL 147 3500 \nL 697 3500 \nL 697 3744 \nQ 697 4328 969 4595 \nQ 1241 4863 1831 4863 \nL 2375 4863 \nz\n\" transform=\"scale(0.015625)\"/>\n      <path id=\"DejaVuSans-3c\" d=\"M 4684 3150 \nL 1459 2003 \nL 4684 863 \nL 4684 294 \nL 678 1747 \nL 678 2266 \nL 4684 3719 \nL 4684 3150 \nz\n\" transform=\"scale(0.015625)\"/>\n      <path id=\"DejaVuSans-6c\" d=\"M 603 4863 \nL 1178 4863 \nL 1178 0 \nL 603 0 \nL 603 4863 \nz\n\" transform=\"scale(0.015625)\"/>\n      <path id=\"DejaVuSans-5f\" d=\"M 3263 -1063 \nL 3263 -1509 \nL -63 -1509 \nL -63 -1063 \nL 3263 -1063 \nz\n\" transform=\"scale(0.015625)\"/>\n      <path id=\"DejaVuSans-3e\" d=\"M 678 3150 \nL 678 3719 \nL 4684 2266 \nL 4684 1747 \nL 678 294 \nL 678 863 \nL 3897 2003 \nL 678 3150 \nz\n\" transform=\"scale(0.015625)\"/>\n      <path id=\"DejaVuSans-76\" d=\"M 191 3500 \nL 800 3500 \nL 1894 563 \nL 2988 3500 \nL 3597 3500 \nL 2284 0 \nL 1503 0 \nL 191 3500 \nz\n\" transform=\"scale(0.015625)\"/>\n     </defs>\n     <use xlink:href=\"#DejaVuSans-74\"/>\n     <use xlink:href=\"#DejaVuSans-72\" x=\"39.208984\"/>\n     <use xlink:href=\"#DejaVuSans-61\" x=\"80.322266\"/>\n     <use xlink:href=\"#DejaVuSans-6e\" x=\"141.601562\"/>\n     <use xlink:href=\"#DejaVuSans-73\" x=\"204.980469\"/>\n     <use xlink:href=\"#DejaVuSans-66\" x=\"257.080078\"/>\n     <use xlink:href=\"#DejaVuSans-6f\" x=\"292.285156\"/>\n     <use xlink:href=\"#DejaVuSans-72\" x=\"353.466797\"/>\n     <use xlink:href=\"#DejaVuSans-6d\" x=\"392.830078\"/>\n     <use xlink:href=\"#DejaVuSans-65\" x=\"490.242188\"/>\n     <use xlink:href=\"#DejaVuSans-72\" x=\"551.765625\"/>\n     <use xlink:href=\"#DejaVuSans-20\" x=\"592.878906\"/>\n     <use xlink:href=\"#DejaVuSans-3c\" x=\"624.666016\"/>\n     <use xlink:href=\"#DejaVuSans-6d\" x=\"708.455078\"/>\n     <use xlink:href=\"#DejaVuSans-6f\" x=\"805.867188\"/>\n     <use xlink:href=\"#DejaVuSans-64\" x=\"867.048828\"/>\n     <use xlink:href=\"#DejaVuSans-65\" x=\"930.525391\"/>\n     <use xlink:href=\"#DejaVuSans-6c\" x=\"992.048828\"/>\n     <use xlink:href=\"#DejaVuSans-5f\" x=\"1019.832031\"/>\n     <use xlink:href=\"#DejaVuSans-64\" x=\"1069.832031\"/>\n     <use xlink:href=\"#DejaVuSans-65\" x=\"1133.308594\"/>\n     <use xlink:href=\"#DejaVuSans-6d\" x=\"1194.832031\"/>\n     <use xlink:href=\"#DejaVuSans-6f\" x=\"1292.244141\"/>\n     <use xlink:href=\"#DejaVuSans-3e\" x=\"1353.425781\"/>\n     <use xlink:href=\"#DejaVuSans-20\" x=\"1437.214844\"/>\n     <use xlink:href=\"#DejaVuSans-76\" x=\"1469.001953\"/>\n     <use xlink:href=\"#DejaVuSans-61\" x=\"1528.181641\"/>\n     <use xlink:href=\"#DejaVuSans-6c\" x=\"1589.460938\"/>\n     <use xlink:href=\"#DejaVuSans-69\" x=\"1617.244141\"/>\n     <use xlink:href=\"#DejaVuSans-64\" x=\"1645.027344\"/>\n     <use xlink:href=\"#DejaVuSans-61\" x=\"1708.503906\"/>\n     <use xlink:href=\"#DejaVuSans-74\" x=\"1769.783203\"/>\n     <use xlink:href=\"#DejaVuSans-69\" x=\"1808.992188\"/>\n     <use xlink:href=\"#DejaVuSans-6f\" x=\"1836.775391\"/>\n     <use xlink:href=\"#DejaVuSans-6e\" x=\"1897.957031\"/>\n     <use xlink:href=\"#DejaVuSans-20\" x=\"1961.335938\"/>\n     <use xlink:href=\"#DejaVuSans-73\" x=\"1993.123047\"/>\n     <use xlink:href=\"#DejaVuSans-63\" x=\"2045.222656\"/>\n     <use xlink:href=\"#DejaVuSans-6f\" x=\"2100.203125\"/>\n     <use xlink:href=\"#DejaVuSans-72\" x=\"2161.384766\"/>\n     <use xlink:href=\"#DejaVuSans-65\" x=\"2200.248047\"/>\n     <use xlink:href=\"#DejaVuSans-73\" x=\"2261.771484\"/>\n    </g>\n   </g>\n   <g id=\"legend_1\">\n    <g id=\"patch_7\">\n     <path d=\"M 595.50625 45.274375 \nL 722.290625 45.274375 \nQ 724.290625 45.274375 724.290625 43.274375 \nL 724.290625 29.318125 \nQ 724.290625 27.318125 722.290625 27.318125 \nL 595.50625 27.318125 \nQ 593.50625 27.318125 593.50625 29.318125 \nL 593.50625 43.274375 \nQ 593.50625 45.274375 595.50625 45.274375 \nz\n\" style=\"fill: #ffffff; opacity: 0.8; stroke: #cccccc; stroke-linejoin: miter\"/>\n    </g>\n    <g id=\"line2d_36\">\n     <path d=\"M 597.50625 35.416562 \nL 607.50625 35.416562 \nL 617.50625 35.416562 \n\" style=\"fill: none; stroke: #1f77b4; stroke-width: 1.5; stroke-linecap: square\"/>\n    </g>\n    <g id=\"text_21\">\n     <!-- hamming_distance -->\n     <g transform=\"translate(625.50625 38.916562)scale(0.1 -0.1)\">\n      <use xlink:href=\"#DejaVuSans-68\"/>\n      <use xlink:href=\"#DejaVuSans-61\" x=\"63.378906\"/>\n      <use xlink:href=\"#DejaVuSans-6d\" x=\"124.658203\"/>\n      <use xlink:href=\"#DejaVuSans-6d\" x=\"222.070312\"/>\n      <use xlink:href=\"#DejaVuSans-69\" x=\"319.482422\"/>\n      <use xlink:href=\"#DejaVuSans-6e\" x=\"347.265625\"/>\n      <use xlink:href=\"#DejaVuSans-67\" x=\"410.644531\"/>\n      <use xlink:href=\"#DejaVuSans-5f\" x=\"474.121094\"/>\n      <use xlink:href=\"#DejaVuSans-64\" x=\"524.121094\"/>\n      <use xlink:href=\"#DejaVuSans-69\" x=\"587.597656\"/>\n      <use xlink:href=\"#DejaVuSans-73\" x=\"615.380859\"/>\n      <use xlink:href=\"#DejaVuSans-74\" x=\"667.480469\"/>\n      <use xlink:href=\"#DejaVuSans-61\" x=\"706.689453\"/>\n      <use xlink:href=\"#DejaVuSans-6e\" x=\"767.96875\"/>\n      <use xlink:href=\"#DejaVuSans-63\" x=\"831.347656\"/>\n      <use xlink:href=\"#DejaVuSans-65\" x=\"886.328125\"/>\n     </g>\n    </g>\n   </g>\n  </g>\n </g>\n <defs>\n  <clipPath id=\"p7c04271152\">\n   <rect x=\"59.690625\" y=\"22.318125\" width=\"669.6\" height=\"434.88\"/>\n  </clipPath>\n </defs>\n</svg>\n",
      "text/plain": [
       "<Figure size 864x576 with 1 Axes>"
      ]
     },
     "metadata": {},
     "output_type": "display_data"
    }
   ],
   "source": [
    "# train without validation\n",
    "# train_seq2seq(model_demo, X_train, X_valid_len, Y_train, Y_valid_len, working_score_tensor, lr, num_epochs, batch_size, label_smoothing, amino_dict, device, model_name='model_demo')\n",
    "\n",
    "# train with validation \n",
    "train_seq2seq(model_demo, X_train, X_valid_len, Y_train, Y_valid_len, working_score_tensor, lr, num_epochs, batch_size, label_smoothing, amino_dict, device, model_name='model_demo', X_validation=X_validation, Y_validation=Y_validation, X_validation_valid_len=X_validation_valid_len, Y_validation_valid_len=Y_validation_valid_len)"
   ]
  },
  {
   "cell_type": "code",
   "execution_count": null,
   "metadata": {},
   "outputs": [
    {
     "data": {
      "text/plain": [
       "<All keys matched successfully>"
      ]
     },
     "execution_count": 87,
     "metadata": {},
     "output_type": "execute_result"
    }
   ],
   "source": [
    "# save model \n",
    "# torch.save(net.state_dict(), file_name)\n",
    "# pickle.dump(model_demo, open(\"model_demo.pkl\", \"wb\"))\n",
    "\n",
    "# load model\n",
    "# model_demo = pickle.load(open(\"model_demo_22Jul12_0913AM\", \"rb\"))\n",
    "# model_demo = EncoderDecoder(encoder_demo, decoder_demo)\n",
    "model_demo.load_state_dict(torch.load(\"model_demo_22Jul12_1024AM\", map_location = ('cpu')))\n",
    "# model.eval()\n"
   ]
  },
  {
   "cell_type": "markdown",
   "metadata": {},
   "source": [
    "#### Model predicting"
   ]
  },
  {
   "cell_type": "code",
   "execution_count": null,
   "metadata": {},
   "outputs": [
    {
     "name": "stdout",
     "output_type": "stream",
     "text": [
      "Conditional probability at position 1 is 0.08397284150123596\n",
      "Conditional probability at position 2 is 0.13720513880252838\n",
      "Conditional probability at position 3 is 0.16785955429077148\n",
      "Conditional probability at position 4 is 0.9203442931175232\n",
      "Input target sequence is SPT, predicted complementary peptide is TVT\n",
      "Condition on input, predicted probability is 0.0017799410373475649\n"
     ]
    }
   ],
   "source": [
    "target = ['SPT']\n",
    "num_steps_prediction = 10 # max length of sequence to predict\n",
    "\n",
    "dec_comple_peptide_pred, dec_prob, dec_attention_weight_seq = predict_greedy_single(model_demo, target[0], amino_dict, num_steps_prediction, device, save_attention_weights=True, print_info=True)"
   ]
  },
  {
   "cell_type": "markdown",
   "metadata": {},
   "source": [
    "# Task 2: Train a base model "
   ]
  },
  {
   "cell_type": "markdown",
   "metadata": {},
   "source": [
    "#### Build base model"
   ]
  },
  {
   "cell_type": "code",
   "execution_count": null,
   "metadata": {},
   "outputs": [],
   "source": [
    "query_size, key_size, value_size, num_hiddens = 256, 256, 256, 256\n",
    "num_layers, dropout = 4, 0.1\n",
    "lr, num_epochs, batch_size, label_smoothing = 0.0004, 500, 6000, 0.1\n",
    "ffn_num_input, ffn_num_hiddens, num_heads = 256, 1024, 8\n",
    "\n",
    "norm_shape = [256] # 32 corresponds to the dim of such number to normalize\n",
    "device = d2l.try_gpu()"
   ]
  },
  {
   "cell_type": "code",
   "execution_count": null,
   "metadata": {},
   "outputs": [],
   "source": [
    "encoder_base = TransformerEncoder(\n",
    "\tlen(amino_dict), key_size, query_size, value_size, num_hiddens, \n",
    "\tnorm_shape, ffn_num_input, ffn_num_hiddens, num_heads,\n",
    "\tnum_layers, dropout)\n",
    "decoder_base = TransformerDecoder(\n",
    "\tlen(amino_dict), key_size, query_size, value_size, num_hiddens, \n",
    "\tnorm_shape, ffn_num_input, ffn_num_hiddens, num_heads,\n",
    "\tnum_layers, dropout)\n",
    "model_base = EncoderDecoder(encoder_base, decoder_base)"
   ]
  },
  {
   "cell_type": "code",
   "execution_count": null,
   "metadata": {},
   "outputs": [
    {
     "name": "stdout",
     "output_type": "stream",
     "text": [
      "Base model: total number of parameters: 7378968\n",
      "Base model: total number of trainable parameters: 7378968\n"
     ]
    }
   ],
   "source": [
    "model_base_total_params = sum(p.numel() for p in model_base.parameters())\n",
    "model_base_total_trainable_params = sum(p.numel() for p in model_base.parameters() if p.requires_grad)\n",
    "\n",
    "print('Base model: total number of parameters: {}'.format(model_base_total_params))\n",
    "print('Base model: total number of trainable parameters: {}'.format(model_base_total_trainable_params))"
   ]
  },
  {
   "cell_type": "markdown",
   "metadata": {},
   "source": [
    "#### Model training"
   ]
  },
  {
   "cell_type": "code",
   "execution_count": null,
   "metadata": {},
   "outputs": [],
   "source": [
    "# To train a new model on GPU:\n",
    "# 1. free GPU usage\n",
    "# 2. restart kernel\n",
    "# 3. reload all pretraining data\n",
    "\n",
    "# check gpu_usage\n",
    "#gpu_usage()\n",
    "\n",
    "# free GPU usage\n",
    "#free_gpu_cache()    "
   ]
  },
  {
   "cell_type": "code",
   "execution_count": null,
   "metadata": {},
   "outputs": [],
   "source": [
    "# train without validation\n",
    "# train_seq2seq(model_base, X_train, X_valid_len, Y_train, Y_valid_len, working_score_tensor, lr, num_epochs, batch_size, label_smoothing, amino_dict, device, model_name='model_base', warmup=16000)\n",
    "\n",
    "# train with validation\n",
    "# train_seq2seq(model_base, X_train, X_valid_len, Y_train, Y_valid_len, working_score_tensor, lr, num_epochs, batch_size, label_smoothing, amino_dict, device, model_name='model_base_validation', warmup=16000, X_validation=X_validation, Y_validation=Y_validation, X_validation_valid_len=X_validation_valid_len, Y_validation_valid_len=Y_validation_valid_len)\n"
   ]
  },
  {
   "cell_type": "code",
   "execution_count": null,
   "metadata": {},
   "outputs": [
    {
     "data": {
      "text/plain": [
       "<All keys matched successfully>"
      ]
     },
     "execution_count": 43,
     "metadata": {},
     "output_type": "execute_result"
    }
   ],
   "source": [
    "# save model \n",
    "# torch.save(net.state_dict(), file_name)\n",
    "# pickle.dump(model_base, open(\"model_base.pkl\", \"wb\"))\n",
    "\n",
    "# load model\n",
    "# model_base = pickle.load(open(\"model_base.pkl\", \"rb\"))\n",
    "# model_demo = EncoderDecoder(encoder_demo, decoder_demo)\n",
    "model_base.load_state_dict(torch.load(\"model_base_22Jul14_0326AM\", map_location = ('cpu')))\n",
    "# model.eval()"
   ]
  },
  {
   "cell_type": "markdown",
   "metadata": {},
   "source": [
    "#### Model prediction"
   ]
  },
  {
   "cell_type": "code",
   "execution_count": null,
   "metadata": {},
   "outputs": [
    {
     "name": "stdout",
     "output_type": "stream",
     "text": [
      "['KEMIQEVI' 'FTMLELYE' 'KQVFTVPY' 'DYEVTLTR' 'FHLDVDIS' 'DLRAMPAH'\n",
      " 'KTIYIYNV' 'SREYHICV' 'VYSILTSS' 'KVRVKMET']\n",
      "['LAKPIYLT' 'VRGIEYVK' 'HIIVKLEG' 'RVTLTALY' 'LHFTVKGI' 'SNVWKLGA'\n",
      " 'GTFICGIN' 'TLTVVAHV' 'FYLTAETI' 'TVEVEFSN']\n",
      "Conditional probability at position 1 is 0.9551613330841064\n",
      "Conditional probability at position 2 is 0.9726256132125854\n",
      "Conditional probability at position 3 is 0.9443170428276062\n",
      "Conditional probability at position 4 is 0.9340344071388245\n",
      "Conditional probability at position 5 is 0.954649806022644\n",
      "Conditional probability at position 6 is 0.9690737724304199\n",
      "Conditional probability at position 7 is 0.9708462953567505\n",
      "Conditional probability at position 8 is 0.9615175724029541\n",
      "Conditional probability at position 9 is 0.9101818203926086\n",
      "Input target sequence is KSATTTVM, predicted complementary peptide is EVAIALGG\n",
      "Condition on input, predicted probability is 0.6440801670176379\n"
     ]
    }
   ],
   "source": [
    "num_steps_prediction = 10 # max length of target sequence to predict\n",
    "\n",
    "print(X_validation_letter[0:10])\n",
    "print(Y_validation_letter[0:10])\n",
    "\n",
    "dec_comple_peptide_pred, dec_prob, dec_attention_weight_seq = predict_greedy_single(model_base, 'KSATTTVM', amino_dict, num_steps_prediction, device, save_attention_weights=True, print_info=True)"
   ]
  },
  {
   "cell_type": "markdown",
   "metadata": {},
   "source": [
    "# Task 3: Train a wide model "
   ]
  },
  {
   "cell_type": "markdown",
   "metadata": {},
   "source": [
    "#### Build wide model"
   ]
  },
  {
   "cell_type": "code",
   "execution_count": 79,
   "metadata": {},
   "outputs": [],
   "source": [
    "query_size, key_size, value_size, num_hiddens = 512, 512, 512, 512\n",
    "num_layers, dropout = 4, 0.1\n",
    "lr, num_epochs, batch_size, label_smoothing = 0.0004, 500, 6000, 0.1\n",
    "ffn_num_input, ffn_num_hiddens, num_heads = 512, 2048, 8\n",
    "\n",
    "norm_shape = [512] # 32 corresponds to the dim of such number to normalize\n",
    "device = d2l.try_gpu()"
   ]
  },
  {
   "cell_type": "code",
   "execution_count": 80,
   "metadata": {},
   "outputs": [],
   "source": [
    "encoder_wide = TransformerEncoder(\n",
    "\tlen(amino_dict), key_size, query_size, value_size, num_hiddens, \n",
    "\tnorm_shape, ffn_num_input, ffn_num_hiddens, num_heads,\n",
    "\tnum_layers, dropout)\n",
    "decoder_wide = TransformerDecoder(\n",
    "\tlen(amino_dict), key_size, query_size, value_size, num_hiddens, \n",
    "\tnorm_shape, ffn_num_input, ffn_num_hiddens, num_heads,\n",
    "\tnum_layers, dropout)\n",
    "model_wide = EncoderDecoder(encoder_wide, decoder_wide)"
   ]
  },
  {
   "cell_type": "code",
   "execution_count": 81,
   "metadata": {},
   "outputs": [
    {
     "name": "stdout",
     "output_type": "stream",
     "text": [
      "Base model: total number of parameters: 29437976\n",
      "Base model: total number of trainable parameters: 29437976\n"
     ]
    }
   ],
   "source": [
    "model_wide_total_params = sum(p.numel() for p in model_wide.parameters())\n",
    "model_wide_total_trainable_params = sum(p.numel() for p in model_wide.parameters() if p.requires_grad)\n",
    "\n",
    "print('Base model: total number of parameters: {}'.format(model_wide_total_params))\n",
    "print('Base model: total number of trainable parameters: {}'.format(model_wide_total_trainable_params))"
   ]
  },
  {
   "cell_type": "markdown",
   "metadata": {},
   "source": [
    "#### Model training"
   ]
  },
  {
   "cell_type": "code",
   "execution_count": 114,
   "metadata": {},
   "outputs": [],
   "source": [
    "# train without validation\n",
    "# train_seq2seq(model_wide, X_train, X_valid_len, Y_train, Y_valid_len, working_score_tensor, lr, num_epochs, batch_size, label_smoothing, amino_dict, device, model_name='model_wide', warmup=35000)\n",
    "\n",
    "# train with validation \n",
    "# train_seq2seq(model_wide, X_train, X_valid_len, Y_train, Y_valid_len, working_score_tensor, lr, num_epochs, batch_size, label_smoothing, amino_dict, device, model_name='model_wide_validation', warmup=35000, X_validation=X_validation, Y_validation=Y_validation, X_validation_valid_len=X_validation_valid_len, Y_validation_valid_len=Y_validation_valid_len)"
   ]
  },
  {
   "cell_type": "code",
   "execution_count": 82,
   "metadata": {},
   "outputs": [
    {
     "data": {
      "text/plain": [
       "<All keys matched successfully>"
      ]
     },
     "execution_count": 82,
     "metadata": {},
     "output_type": "execute_result"
    }
   ],
   "source": [
    "model_wide.load_state_dict(torch.load(\"model_wide_22Jul16_1011AM\", map_location = ('cpu')))"
   ]
  },
  {
   "cell_type": "markdown",
   "metadata": {},
   "source": [
    "#### Model prediction"
   ]
  },
  {
   "cell_type": "code",
   "execution_count": 83,
   "metadata": {},
   "outputs": [],
   "source": [
    "# interesting examples to demonstrate the power of the model\n",
    "\n",
    "PDB_beta_strand_1 = 'NRIELKGT' # PDB labels = 'VVARTKYK' (training sample that generate different labels)\n",
    "PNAS_target_1 = 'EQVTNVG' # paper chosen peptide = 'EILVSYQ' (alpha-synuclein residues 61-67)\n",
    "PNAS_target_2 = 'QKLVFFA' # paper chosen peptide = 'FKLSVIT' (Abeta42 residues 15-22)\n",
    "PNAS_target_3 = 'VVTGVTA' # paper chosen peptide = 'FQEAVSG' (alpha-synuclein residues 70-76)\n",
    "\n",
    "task_target_1 = None\n",
    "\n",
    "prediction_length = 7"
   ]
  },
  {
   "cell_type": "code",
   "execution_count": 86,
   "metadata": {},
   "outputs": [
    {
     "name": "stdout",
     "output_type": "stream",
     "text": [
      "Dataset search result: \n",
      " []\n"
     ]
    }
   ],
   "source": [
    "# search whether the target exists in PDB\n",
    "\n",
    "# target, complementary_seq, counts, promiscuity, length, working_score, hb_pattern, para/anti, freq\n",
    "\n",
    "# BSn_data_dataset_sequence -- dataset contains all samples\n",
    "# BSn_data_dataset2 -- dataset with negative working scores removed\n",
    "\n",
    "print(\"Dataset search result: \\n\", search_target(BSn_data_dataset_sequence[:, :6], 'EQVTNVG'))"
   ]
  },
  {
   "cell_type": "code",
   "execution_count": 87,
   "metadata": {},
   "outputs": [
    {
     "name": "stdout",
     "output_type": "stream",
     "text": [
      "Conditional probability at position 1 is 0.8766991496086121\n",
      "Conditional probability at position 2 is 0.9402917623519897\n",
      "Conditional probability at position 3 is 0.9251704216003418\n",
      "Conditional probability at position 4 is 0.955545961856842\n",
      "Conditional probability at position 5 is 0.9349386692047119\n",
      "Conditional probability at position 6 is 0.9246085286140442\n",
      "Conditional probability at position 7 is 0.8873682618141174\n",
      "Conditional probability at position 8 is 0.924082338809967\n",
      "Input target sequence is EQVTNVG, predicted complementary peptide is QYSVLIF\n",
      "Condition on input, predicted probability is 0.5165853870927324\n"
     ]
    }
   ],
   "source": [
    "# greedy single prediction\n",
    "\n",
    "dec_comple_peptide_pred, dec_prob, dec_attention_weight_seq = predict_greedy_single(model_wide, 'EQVTNVG', amino_dict, prediction_length + 2, device, save_attention_weights=True, print_info=True)"
   ]
  },
  {
   "cell_type": "code",
   "execution_count": 90,
   "metadata": {},
   "outputs": [
    {
     "name": "stdout",
     "output_type": "stream",
     "text": [
      "number of total candidates sampled: 306\n",
      "number of unique top candidates successfully sampled: 100\n"
     ]
    },
    {
     "data": {
      "text/plain": [
       "[('QYSVLIF', 0.51658571),\n",
       " ('QYSVLIA', 0.01648752),\n",
       " ('KYSVLIF', 0.00980916),\n",
       " ('QYSVLIT', 0.00802468),\n",
       " ('QYSVLIG', 0.00696116),\n",
       " ('QYSVLVY', 0.00650664),\n",
       " ('QYSVLSY', 0.0054762),\n",
       " ('NYSVLIF', 0.00345615),\n",
       " ('QYSVLIV', 0.00343376),\n",
       " ('QYSVLIC', 0.0032301),\n",
       " ('QYSVLIH', 0.0031378),\n",
       " ('QYSVLIY', 0.00290269),\n",
       " ('LYSVLIF', 0.0027281),\n",
       " ('QYSVLIN', 0.00269287),\n",
       " ('QYSILIS', 0.0020321),\n",
       " ('QYSVLID', 0.001944),\n",
       " ('QYSVLIP', 0.00189819),\n",
       " ('QYSVLII', 0.00176123),\n",
       " ('QYSVLCF', 0.0017433),\n",
       " ('QYSVLER', 0.00160175),\n",
       " ('QYSVLYG', 0.00152109),\n",
       " ('QYSVLSF', 0.00147748),\n",
       " ('QYSVLVF', 0.00130378),\n",
       " ('QYSVFIF', 0.0009891),\n",
       " ('QEYRAAF', 0.00084956),\n",
       " ('QYSVLDY', 0.00079682),\n",
       " ('QYSVHIY', 0.00079174),\n",
       " ('QYNVLCF', 0.00074668),\n",
       " ('QYSVLPI', 0.00070833),\n",
       " ('TTYSWVR', 0.00066448),\n",
       " ('QYSVLIQ', 0.00064508),\n",
       " ('QKVNIKF', 0.00057903),\n",
       " ('QYSVLIL', 0.00056184),\n",
       " ('QYRVRVF', 0.00055912),\n",
       " ('QYSVLMV', 0.00052647),\n",
       " ('TTYSWKQ', 0.00051177),\n",
       " ('QYWVHFY', 0.00049875),\n",
       " ('QYSVDIP', 0.00046817),\n",
       " ('QYSVDIT', 0.00040053),\n",
       " ('QYSVLIE', 0.00040049),\n",
       " ('QYSVLKR', 0.00039863),\n",
       " ('QYKVLIF', 0.00036547),\n",
       " ('QYCAVAV', 0.0003643),\n",
       " ('QYSVLVH', 0.00020968),\n",
       " ('QYPVIRF', 0.00019638),\n",
       " ('YTYSWKQ', 0.00018551),\n",
       " ('WEYRAAF', 0.00016431),\n",
       " ('NTYSWKQ', 0.00012312),\n",
       " ('EDVFLIT', 0.00010349),\n",
       " ('QYSGSKI', 8.65771799e-05),\n",
       " ('EDYLTAV', 7.1948205e-05),\n",
       " ('QYNISKT', 5.94798694e-05),\n",
       " ('QYSMQVE', 5.61771885e-05),\n",
       " ('QYMVRVF', 5.43725e-05),\n",
       " ('QYSVHIN', 5.37195083e-05),\n",
       " ('QYTVTYT', 4.74011758e-05),\n",
       " ('QYISYNV', 3.47874302e-05),\n",
       " ('LKYSVVY', 3.26267618e-05),\n",
       " ('QYVSVKV', 3.12204284e-05),\n",
       " ('QYSVLLW', 2.97796178e-05),\n",
       " ('NKISIPV', 2.80313707e-05),\n",
       " ('QYSVLPD', 2.60105844e-05),\n",
       " ('TTYSGVM', 2.30360711e-05),\n",
       " ('QTSTEVF', 2.23954721e-05),\n",
       " ('QFGSSKQ', 1.79002818e-05),\n",
       " ('QYSVGVV', 1.71099346e-05),\n",
       " ('QYYIGVQ', 1.65899328e-05),\n",
       " ('QYQLTIL', 1.59788178e-05),\n",
       " ('GTLTSTT', 1.57062477e-05),\n",
       " ('DKLFKQY', 1.36371445e-05),\n",
       " ('NTYSWVQ', 1.21946705e-05),\n",
       " ('YTYFSAV', 1.10917626e-05),\n",
       " ('QYSVILN', 6.89251101e-06),\n",
       " ('QTLTGVY', 6.77192065e-06),\n",
       " ('QYGVSVQ', 5.90309037e-06),\n",
       " ('TKVFIAP', 4.92753907e-06),\n",
       " ('QQASYVF', 4.64928598e-06),\n",
       " ('QYNVLCP', 4.18458922e-06),\n",
       " ('TTYMTYI', 3.79608969e-06),\n",
       " ('QYSVYIQ', 3.7128134e-06),\n",
       " ('LVGSINI', 3.51422614e-06),\n",
       " ('QYSVLGH', 3.28866054e-06),\n",
       " ('EDVVILR', 1.70270891e-06),\n",
       " ('QYSVSDV', 1.49566836e-06),\n",
       " ('QTSAIVF', 1.32789353e-06),\n",
       " ('WEYVIRQ', 1.09935729e-06),\n",
       " ('EDVSMIS', 4.7563563e-07),\n",
       " ('HYSVLRW', 2.91938676e-07),\n",
       " ('QYNVLEP', 2.70085394e-07),\n",
       " ('DMATVKF', 2.45206962e-07),\n",
       " ('QYSVGMP', 2.33931289e-07),\n",
       " ('EDALNYR', 6.54386341e-08),\n",
       " ('QYKCLVY', 3.60105972e-08),\n",
       " ('NTGSYNK', 2.6816819e-08),\n",
       " ('QYVIFLQ', 6.0042944e-09),\n",
       " ('ITGSEPY', 5.82959236e-09),\n",
       " ('PDHLTAV', 2.70812017e-09),\n",
       " ('HYSVVFT', 1.83869142e-09),\n",
       " ('QFGVQVE', 9.90938664e-10),\n",
       " ('CYSYVKW', 2.35575726e-10)]"
      ]
     },
     "execution_count": 90,
     "metadata": {},
     "output_type": "execute_result"
    }
   ],
   "source": [
    "# unique top candidates sampling\n",
    "\n",
    "# large num_candidates is recommended if we have enough memory\n",
    "\n",
    "num_candidates = 100\n",
    "max_iter = 20\n",
    "\n",
    "peptide_candidates = sample_candidates(model_wide, 'EQVTNVG', num_candidates, amino_dict, prediction_length + 2, device, max_iter=max_iter)\n",
    "peptide_candidates"
   ]
  },
  {
   "cell_type": "code",
   "execution_count": 89,
   "metadata": {},
   "outputs": [
    {
     "name": "stdout",
     "output_type": "stream",
     "text": [
      "Conditional probability at position 1 is 0.8766991496086121\n",
      "Conditional probability at position 2 is 0.9402917623519897\n",
      "Conditional probability at position 3 is 0.9251704216003418\n",
      "Conditional probability at position 4 is 0.955545961856842\n",
      "Conditional probability at position 5 is 0.9349386692047119\n",
      "Conditional probability at position 6 is 0.9246085286140442\n",
      "Conditional probability at position 7 is 0.000687932304572314\n",
      "Conditional probability at position 8 is 0.924099862575531\n",
      "Input target sequence is EQVTNVG, complementary peptide is QYSVLIE, evaluated probability is 0.0004004904505669424\n"
     ]
    },
    {
     "data": {
      "text/plain": [
       "0.0004004904505669424"
      ]
     },
     "execution_count": 89,
     "metadata": {},
     "output_type": "execute_result"
    }
   ],
   "source": [
    "# target and complementary peptide evaluation\n",
    "\n",
    "evaluate_single(model_wide, 'EQVTNVG', 'QYSVLIE',amino_dict, prediction_length + 2, device, print_info=True)"
   ]
  },
  {
   "cell_type": "code",
   "execution_count": 57,
   "metadata": {},
   "outputs": [
    {
     "name": "stdout",
     "output_type": "stream",
     "text": [
      "['KEMIQEVI' 'FTMLELYE' 'KQVFTVPY' 'DYEVTLTR' 'FHLDVDIS' 'DLRAMPAH'\n",
      " 'KTIYIYNV' 'SREYHICV' 'VYSILTSS' 'KVRVKMET']\n",
      "['LAKPIYLT' 'VRGIEYVK' 'HIIVKLEG' 'RVTLTALY' 'LHFTVKGI' 'SNVWKLGA'\n",
      " 'GTFICGIN' 'TLTVVAHV' 'FYLTAETI' 'TVEVEFSN']\n",
      "Greedy batch prediction: \n",
      " [['KEMIQEVI' 'LAKPIYLT' '0.601555347442627']\n",
      " ['FTMLELYE' 'VRGIEYVK' '0.44587305188179016']\n",
      " ['KQVFTVPY' 'HIIVKLEG' '0.6263747215270996']\n",
      " ['DYEVTLTR' 'RVTLTALY' '0.6022646427154541']\n",
      " ['FHLDVDIS' 'LHFTVKGI' '0.6096101403236389']\n",
      " ['DLRAMPAH' 'SNVWKLGA' '0.5396904945373535']\n",
      " ['KTIYIYNV' 'GTFICGIN' '0.5399317145347595']\n",
      " ['SREYHICV' 'TLTVVAHV' '0.5907752513885498']\n",
      " ['VYSILTSS' 'FYLTAETI' '0.5898668169975281']\n",
      " ['KVRVKMET' 'TVEVEFSN' '0.5440295338630676']]\n"
     ]
    }
   ],
   "source": [
    "# greedy batch prediction -- can be used to scan possible target region\n",
    "\n",
    "print(X_validation_letter[:10])\n",
    "print(Y_validation_letter[:10])\n",
    "\n",
    "peptide_pred = predict_greedy_batch(model_wide, X_validation_letter[:10], amino_dict, prediction_length + 2, device)\n",
    "print(\"Greedy batch prediction: \\n\", peptide_pred)"
   ]
  },
  {
   "cell_type": "markdown",
   "metadata": {},
   "source": [
    "# Task 4: Model Base Validation analysis"
   ]
  },
  {
   "cell_type": "markdown",
   "metadata": {},
   "source": [
    "#### Build model base validation"
   ]
  },
  {
   "cell_type": "code",
   "execution_count": 58,
   "metadata": {},
   "outputs": [],
   "source": [
    "query_size, key_size, value_size, num_hiddens = 256, 256, 256, 256\n",
    "num_layers, dropout = 4, 0.1\n",
    "lr, num_epochs, batch_size, label_smoothing = 0.0004, 500, 6000, 0.1\n",
    "ffn_num_input, ffn_num_hiddens, num_heads = 256, 1024, 8\n",
    "\n",
    "norm_shape = [256] # 32 corresponds to the dim of such number to normalize\n",
    "device = d2l.try_gpu()"
   ]
  },
  {
   "cell_type": "code",
   "execution_count": 59,
   "metadata": {},
   "outputs": [],
   "source": [
    "encoder_base = TransformerEncoder(\n",
    "\tlen(amino_dict), key_size, query_size, value_size, num_hiddens, \n",
    "\tnorm_shape, ffn_num_input, ffn_num_hiddens, num_heads,\n",
    "\tnum_layers, dropout)\n",
    "decoder_base = TransformerDecoder(\n",
    "\tlen(amino_dict), key_size, query_size, value_size, num_hiddens, \n",
    "\tnorm_shape, ffn_num_input, ffn_num_hiddens, num_heads,\n",
    "\tnum_layers, dropout)\n",
    "model_base_validation = EncoderDecoder(encoder_base, decoder_base)"
   ]
  },
  {
   "cell_type": "code",
   "execution_count": 60,
   "metadata": {},
   "outputs": [
    {
     "name": "stdout",
     "output_type": "stream",
     "text": [
      "Base model: total number of parameters: 7378968\n",
      "Base model: total number of trainable parameters: 7378968\n"
     ]
    }
   ],
   "source": [
    "model_base_validation_total_params = sum(p.numel() for p in model_base_validation.parameters())\n",
    "model_base_validation_total_trainable_params = sum(p.numel() for p in model_base_validation.parameters() if p.requires_grad)\n",
    "\n",
    "print('Base model: total number of parameters: {}'.format(model_base_validation_total_params))\n",
    "print('Base model: total number of trainable parameters: {}'.format(model_base_validation_total_trainable_params))"
   ]
  },
  {
   "cell_type": "code",
   "execution_count": 61,
   "metadata": {},
   "outputs": [
    {
     "data": {
      "text/plain": [
       "<All keys matched successfully>"
      ]
     },
     "execution_count": 61,
     "metadata": {},
     "output_type": "execute_result"
    }
   ],
   "source": [
    "# load the model\n",
    "model_base_validation.load_state_dict(torch.load(\"model_base_validation_22Jul18_0536AM\", map_location = ('cpu')))\n"
   ]
  },
  {
   "cell_type": "markdown",
   "metadata": {},
   "source": [
    "#### Hamming distance analysis on validation set"
   ]
  },
  {
   "cell_type": "code",
   "execution_count": 62,
   "metadata": {},
   "outputs": [
    {
     "name": "stdout",
     "output_type": "stream",
     "text": [
      "['KEMIQEVI' 'FTMLELYE' 'KQVFTVPY' 'DYEVTLTR' 'FHLDVDIS' 'DLRAMPAH'\n",
      " 'KTIYIYNV' 'SREYHICV' 'VYSILTSS' 'KVRVKMET']\n",
      "['LAKPIYLT' 'VRGIEYVK' 'HIIVKLEG' 'RVTLTALY' 'LHFTVKGI' 'SNVWKLGA'\n",
      " 'GTFICGIN' 'TLTVVAHV' 'FYLTAETI' 'TVEVEFSN']\n",
      "(5000, 4)\n"
     ]
    }
   ],
   "source": [
    "prediction_length = 8\n",
    "\n",
    "num_minibatch = 50\n",
    "\n",
    "print(X_validation_letter[:10])\n",
    "print(Y_validation_letter[:10])\n",
    "\n",
    "peptide_pred_list = []\n",
    "num_iter = int(len(X_validation_letter)/num_minibatch)\n",
    "\n",
    "for i in range(num_iter):\n",
    "\tpeptide_pred = predict_greedy_batch(model_base_validation, X_validation_letter[num_minibatch*i:num_minibatch*i+num_minibatch], amino_dict, prediction_length + 2, device)\n",
    "\tpeptide_pred_list.append(peptide_pred)\n",
    "peptide_pred_array = np.vstack(peptide_pred_list)\n",
    "peptide_pred_array_new = np.hstack([peptide_pred_array, np.array(Y_validation_letter).reshape(-1, 1)])\n",
    "# target, prediction, greedy_prob, label\n",
    "\n",
    "print(peptide_pred_array_new.shape)"
   ]
  },
  {
   "cell_type": "code",
   "execution_count": 63,
   "metadata": {},
   "outputs": [
    {
     "name": "stdout",
     "output_type": "stream",
     "text": [
      "Sequence length: 8\n",
      "mismatched sequences: 1428, total sequences: 5000\n",
      "mismatched residues: 6164, total residues: 40000\n",
      "----------------------------------------------------------\n",
      "Sequences prediction accuracy:  0.7144\n",
      "Residue prediction accuracy:  0.8459\n"
     ]
    }
   ],
   "source": [
    "# process the results to study mismatched sequences\n",
    "# target, prediction, prob, label\n",
    "\n",
    "num_validation = len(X_validation_letter)\n",
    "total_residue = num_validation * prediction_length\n",
    "print(\"Sequence length:\", prediction_length)\n",
    "\n",
    "peptide_validation_mismatchs = peptide_pred_array_new[peptide_pred_array_new[:, 1] != np.array(Y_validation_letter)]\n",
    "print(\"mismatched sequences: {}, total sequences: {}\".format(peptide_validation_mismatchs.shape[0], num_validation))\n",
    "\n",
    "peptide_validation_hamming = hamming_distance_sum(peptide_pred_array_new[:, 1], np.array(Y_validation_letter))\n",
    "print(\"mismatched residues: {}, total residues: {}\".format(peptide_validation_hamming, total_residue))\n",
    "\n",
    "print(\"----------------------------------------------------------\")\n",
    "print(\"Sequences prediction accuracy: \", (num_validation-peptide_validation_mismatchs.shape[0])/num_validation)\n",
    "print(\"Residue prediction accuracy: \", (total_residue-peptide_validation_hamming)/total_residue) "
   ]
  },
  {
   "cell_type": "code",
   "execution_count": 64,
   "metadata": {},
   "outputs": [
    {
     "name": "stdout",
     "output_type": "stream",
     "text": [
      "target      prediction      probability       PDB_label\n",
      "[['KVRVKMET' 'SILVDFAT' '0.008602997288107872' 'TVEVEFSN']\n",
      " ['TEGIWRGV' 'WTFPVNII' '0.11936737596988678' 'ATFPVNII']\n",
      " ['LVYETVRV' 'LTYVKVEL' '0.01129102148115635' 'AVPYTYLS']\n",
      " ['TMQMMFGC' 'VSTSFYRM' '0.13841383159160614' 'MGTLFYRL']\n",
      " ['VAGQYEAA' 'AVVRHVQH' '0.3287472426891327' 'AAVQTQEH']\n",
      " ['FFQLFYTL' 'CLSLVIIF' '0.002241917420178652' 'KCGTHIQF']\n",
      " ['KLVHYDVL' 'VVNYIRTV' '0.49400004744529724' 'VVNYIRTI']\n",
      " ['IAIEYTSI' 'LNIRYADY' '0.0031037142034620047' 'REIVTDER']\n",
      " ['HLSVQGPY' 'YFSYTAEY' '0.1979689598083496' 'YFSYTAEF']\n",
      " ['YRLRIDLT' 'PLLKMTTH' '0.26479727029800415' 'PLLKMTTM']\n",
      " ['EIRLTRIL' 'EVRYVLEF' '0.10515044629573822' 'AVRYVLEF']\n",
      " ['NRIELKGT' 'VEARTKYK' '0.2505059540271759' 'VVARTKYK']\n",
      " ['TGWTGYFD' 'LNWDTKLS' '0.2468978762626648' 'LNWDTKLV']\n",
      " ['QFEISITS' 'QFVFMYLH' '0.00542890839278698' 'YSKYSITV']\n",
      " ['PQFKVDGK' 'YEWRSGIW' '0.021402446553111076' 'FKAETNIS']\n",
      " ['LHKTFISV' 'KITYEYKE' '0.167838454246521' 'KITYEYKF']\n",
      " ['RVLVVCAE' 'GVILAAAG' '0.4933861196041107' 'GIILAAAG']\n",
      " ['GVRAIHYS' 'FLSYSEIK' '0.11568101495504379' 'GAGIRDEF']\n",
      " ['AQGFILDL' 'KVGLMGMR' '0.08665251731872559' 'VTRAELRA']\n",
      " ['KGLFYALD' 'TLEYIEIE' '0.0018249814165756106' 'GLLVRMVR']]\n"
     ]
    }
   ],
   "source": [
    "print(\"target      prediction      probability       PDB_label\")\n",
    "print(peptide_validation_mismatchs[0:20, :])"
   ]
  },
  {
   "cell_type": "code",
   "execution_count": 65,
   "metadata": {},
   "outputs": [
    {
     "name": "stdout",
     "output_type": "stream",
     "text": [
      "Conditional probability at position 1 is 0.5547669529914856\n",
      "Conditional probability at position 2 is 0.5106884837150574\n",
      "Conditional probability at position 3 is 0.35666120052337646\n",
      "Conditional probability at position 4 is 0.928555428981781\n",
      "Conditional probability at position 5 is 0.8865200281143188\n",
      "Conditional probability at position 6 is 0.35324156284332275\n",
      "Conditional probability at position 7 is 0.3998695909976959\n",
      "Conditional probability at position 8 is 0.8044186234474182\n",
      "Conditional probability at position 9 is 0.9102398753166199\n",
      "Input target sequence is KVRVKMET, predicted complementary peptide is SILVDFAT\n",
      "Condition on input, predicted probability is 0.00860294306477206\n"
     ]
    }
   ],
   "source": [
    "dec_comple_peptide_pred, dec_prob, dec_attention_weight_seq = predict_greedy_single(model_base_validation, 'KVRVKMET', amino_dict, prediction_length + 2, device, save_attention_weights=True, print_info=True)"
   ]
  },
  {
   "cell_type": "code",
   "execution_count": 66,
   "metadata": {},
   "outputs": [
    {
     "name": "stdout",
     "output_type": "stream",
     "text": [
      "number of total candidates sampled: 400\n",
      "number of unique top candidates successfully sampled: 200\n"
     ]
    },
    {
     "data": {
      "text/plain": [
       "[('TVEVEFSN', 0.03208165),\n",
       " ('TVEVEFSA', 0.03043992),\n",
       " ('SVEVEFSN', 0.02112612),\n",
       " ('SIVVEFSN', 0.01900584),\n",
       " ('SIEVEFSA', 0.01688151),\n",
       " ('SIEVEFSN', 0.01668579),\n",
       " ('SVEVEFSA', 0.01624979),\n",
       " ('EVEVEFSN', 0.01564283),\n",
       " ('EVEVEFSA', 0.00834312),\n",
       " ('SIVVEFSA', 0.00530461),\n",
       " ('EIEVEFSN', 0.00451858),\n",
       " ('VVEVEFSN', 0.00445714),\n",
       " ('NVEVEFSA', 0.00428088),\n",
       " ('EIEVEFSA', 0.00379015),\n",
       " ('TVEVEFAK', 0.00341043),\n",
       " ('STLILVHG', 0.00337687),\n",
       " ('SVEVEFAK', 0.00321075),\n",
       " ('VVEVEFSA', 0.00316605),\n",
       " ('SYLVEFSN', 0.00303602),\n",
       " ('TIEVEFSA', 0.00291795),\n",
       " ('IVEVEFSN', 0.00265904),\n",
       " ('TVVVEFSN', 0.00258578),\n",
       " ('SILVDFSI', 0.00222193),\n",
       " ('DVEVEFSN', 0.00215328),\n",
       " ('DVEVEFSA', 0.00213032),\n",
       " ('SILVDLTI', 0.0020582),\n",
       " ('SLEVEFSN', 0.00198717),\n",
       " ('SYTVEFSA', 0.00193645),\n",
       " ('SYLVEFSA', 0.00187258),\n",
       " ('IVEVEFSA', 0.00187005),\n",
       " ('SVTVEFSA', 0.00164539),\n",
       " ('SVVVEFSN', 0.0016094),\n",
       " ('SILVDLIK', 0.00143755),\n",
       " ('SVTVEFSN', 0.00142241),\n",
       " ('WVEVEFSN', 0.00127238),\n",
       " ('SILVDEEG', 0.0011791),\n",
       " ('SILVDEYE', 0.00103522),\n",
       " ('SYTVEFSN', 0.00102662),\n",
       " ('SISVEFSN', 0.00102141),\n",
       " ('SILVDSVA', 0.00099049),\n",
       " ('SVIVEFAK', 0.00093816),\n",
       " ('SIAVEFSA', 0.00081942),\n",
       " ('KVEVEFSA', 0.00080043),\n",
       " ('FVEVEFSN', 0.00078246),\n",
       " ('TVEVEFSC', 0.00075491),\n",
       " ('SIVVEFQE', 0.00075156),\n",
       " ('SILVDEQE', 0.00073679),\n",
       " ('SILILVHG', 0.00070703),\n",
       " ('NVEVEFAK', 0.00070308),\n",
       " ('SISVEFSA', 0.00066328),\n",
       " ('SVVVEFSA', 0.00058071),\n",
       " ('SILVDLMV', 0.00051226),\n",
       " ('TIVVEFSN', 0.00045466),\n",
       " ('MVEVEFSA', 0.00042254),\n",
       " ('SILVDFQI', 0.00041937),\n",
       " ('SVEVEFSC', 0.00039571),\n",
       " ('TVIVEFSN', 0.00039331),\n",
       " ('SILVDFQV', 0.00036038),\n",
       " ('EVEVTFVN', 0.00035889),\n",
       " ('SILVDLRS', 0.00035666),\n",
       " ('EVEVEFSH', 0.00032353),\n",
       " ('SILVDFWT', 0.00030792),\n",
       " ('TIEVEFAK', 0.00029245),\n",
       " ('TVEVEFSY', 0.00027008),\n",
       " ('RYTVEFSA', 0.0002667),\n",
       " ('SYLVDFRV', 0.00025745),\n",
       " ('SVDIFVTG', 0.00024726),\n",
       " ('TVEVESNV', 0.00024409),\n",
       " ('SVEVEFSS', 0.00023052),\n",
       " ('SILVDMFC', 0.0002288),\n",
       " ('TVSVEFSN', 0.00022713),\n",
       " ('SILVDVWA', 0.0002177),\n",
       " ('NVVVEFSA', 0.00019962),\n",
       " ('SIRVEFSN', 0.00019297),\n",
       " ('SEEVEFSN', 0.00018893),\n",
       " ('GVEVEFSN', 0.00018009),\n",
       " ('TYLVEFSN', 0.00016601),\n",
       " ('NVEVTFSN', 0.00015009),\n",
       " ('EVEVTFGS', 0.00014607),\n",
       " ('SILVDFTV', 0.00013536),\n",
       " ('SILVDFET', 0.00013362),\n",
       " ('EFEVTFSN', 0.00013276),\n",
       " ('SILIVAHG', 0.00012568),\n",
       " ('SILVESRL', 0.00012289),\n",
       " ('NYTVEFSA', 0.00012131),\n",
       " ('SIVVEFSP', 0.00011338),\n",
       " ('SILVDFWQ', 0.00010543),\n",
       " ('SIVVEAVG', 9.97296738e-05),\n",
       " ('TVEVEFSG', 9.01891108e-05),\n",
       " ('SIEIVAVK', 8.37164553e-05),\n",
       " ('SIVVEFSY', 8.13387815e-05),\n",
       " ('SILVDVSG', 7.83077267e-05),\n",
       " ('IVEVEFSH', 7.62673735e-05),\n",
       " ('TVHIEFSN', 7.32409026e-05),\n",
       " ('YAEIVVHG', 6.57430137e-05),\n",
       " ('SIRVDMFL', 6.41694787e-05),\n",
       " ('TVEVTYVE', 6.11333817e-05),\n",
       " ('SVIVEFNG', 5.84296686e-05),\n",
       " ('SVEVFAKF', 5.79427833e-05),\n",
       " ('TDTVEFSA', 5.37283377e-05),\n",
       " ('SILVDFRQ', 4.92812469e-05),\n",
       " ('STLILVSG', 4.81588577e-05),\n",
       " ('TVEVQARY', 3.98354205e-05),\n",
       " ('SIRVDMAT', 3.81306818e-05),\n",
       " ('SIPVDKRI', 3.69022673e-05),\n",
       " ('SILVEFAT', 3.30867661e-05),\n",
       " ('EVEVVFTV', 2.82660203e-05),\n",
       " ('QIEVEFSA', 2.78646676e-05),\n",
       " ('SVDVFVAT', 2.65752915e-05),\n",
       " ('EVEVEFAC', 2.64901064e-05),\n",
       " ('MLEVTFSN', 2.6437936e-05),\n",
       " ('SYLRPSRY', 2.48890919e-05),\n",
       " ('SIFVEQSI', 2.40564004e-05),\n",
       " ('SIFVQAKC', 2.35320204e-05),\n",
       " ('EVEVCEFK', 2.2889044e-05),\n",
       " ('SIRVDLRI', 2.23347488e-05),\n",
       " ('TVPESVTG', 2.16227745e-05),\n",
       " ('TVEVESWA', 2.13672993e-05),\n",
       " ('SILVDMSE', 2.09531809e-05),\n",
       " ('SYLRSFRV', 2.07976664e-05),\n",
       " ('DVEVEFNL', 2.07238209e-05),\n",
       " ('ILTVEFSN', 1.82028143e-05),\n",
       " ('SILVAFTV', 1.80273928e-05),\n",
       " ('SVDEHASA', 1.77831771e-05),\n",
       " ('YLVVEFSA', 1.6835631e-05),\n",
       " ('CYELVARY', 1.65451675e-05),\n",
       " ('SIRVDMPG', 1.61346597e-05),\n",
       " ('TVIVEFAN', 1.55403195e-05),\n",
       " ('SIVVEFKT', 1.39194544e-05),\n",
       " ('STLVVAVQ', 1.34099037e-05),\n",
       " ('SILVEDSG', 1.30449653e-05),\n",
       " ('NYEIVAVK', 1.2791179e-05),\n",
       " ('SVVVEFSP', 1.21647463e-05),\n",
       " ('SIVVESEA', 9.90218086e-06),\n",
       " ('SVTGEIEG', 9.72758062e-06),\n",
       " ('HVTVEFAA', 9.51339916e-06),\n",
       " ('TVEVWGSG', 9.18622209e-06),\n",
       " ('TVEVPFSA', 9.09463688e-06),\n",
       " ('SILIEFRL', 8.58292606e-06),\n",
       " ('SEEVVETG', 7.34911009e-06),\n",
       " ('SYLVDMTI', 7.08114612e-06),\n",
       " ('SILVEFGV', 6.87547572e-06),\n",
       " ('SEEVVISG', 6.32416413e-06),\n",
       " ('DVEVIVSG', 6.12424856e-06),\n",
       " ('SYRVDMHG', 5.73471834e-06),\n",
       " ('TVEEDQEG', 4.76845162e-06),\n",
       " ('YAEIVVIS', 4.34248523e-06),\n",
       " ('SYSYVFSH', 4.18197033e-06),\n",
       " ('EWTIEFSN', 4.1577814e-06),\n",
       " ('HYTREMNV', 4.07280777e-06),\n",
       " ('TVEVTWEL', 3.67099551e-06),\n",
       " ('QVDVFVFG', 3.49607376e-06),\n",
       " ('SVEEEQES', 2.97404563e-06),\n",
       " ('DYEIVVIH', 2.85481087e-06),\n",
       " ('RYLVEFSH', 2.42663009e-06),\n",
       " ('SILVDSQD', 2.21548726e-06),\n",
       " ('TVEVWLHG', 1.98738144e-06),\n",
       " ('SVDFQRSS', 1.88526792e-06),\n",
       " ('EVYVEFAK', 1.8790106e-06),\n",
       " ('SYLAEFSA', 1.81531277e-06),\n",
       " ('SILVECGY', 1.7935447e-06),\n",
       " ('SILILLIK', 1.6466779e-06),\n",
       " ('EVEVETHA', 1.64144751e-06),\n",
       " ('SIVVDCDY', 1.62572246e-06),\n",
       " ('TVPVDMHE', 1.61770743e-06),\n",
       " ('VNVVEFSN', 1.51894847e-06),\n",
       " ('STLILLHR', 1.49378468e-06),\n",
       " ('TVRITMPI', 1.39385338e-06),\n",
       " ('SIGVFAVD', 1.38380312e-06),\n",
       " ('TYTEEMNV', 1.30026763e-06),\n",
       " ('SILVDFMH', 1.29942146e-06),\n",
       " ('SIRIHAKF', 1.29550233e-06),\n",
       " ('STEITQES', 1.25083307e-06),\n",
       " ('SITIRQSV', 1.24949065e-06),\n",
       " ('TVEVVTYK', 1.23415634e-06),\n",
       " ('SREIVLYE', 1.16191472e-06),\n",
       " ('TTQVWGSG', 1.05201468e-06),\n",
       " ('SVVVEFNS', 1.02893125e-06),\n",
       " ('NLAIITSA', 8.96859603e-07),\n",
       " ('SREVLFSE', 8.78836829e-07),\n",
       " ('SVRIIFTQ', 8.72103783e-07),\n",
       " ('DTEITVSD', 8.32473177e-07),\n",
       " ('TVEVPIVG', 7.81315634e-07),\n",
       " ('SVQVLFTH', 7.49540845e-07),\n",
       " ('SVKVQFDS', 7.07188633e-07),\n",
       " ('TYEIFWRE', 5.9753836e-07),\n",
       " ('EIVVEFDS', 5.19432319e-07),\n",
       " ('EVEVEAME', 4.94748178e-07),\n",
       " ('SYLFDVTM', 4.76108625e-07),\n",
       " ('TIEIIFKA', 4.67943778e-07),\n",
       " ('NHVTFGSA', 4.47425862e-07),\n",
       " ('SILVQANT', 4.40103094e-07),\n",
       " ('WVEIIFTV', 4.21102698e-07),\n",
       " ('SYLVDWAW', 4.20037992e-07),\n",
       " ('HVVGEGEA', 4.09999359e-07),\n",
       " ('SILVKVKL', 3.95819626e-07),\n",
       " ('PIAVDCNV', 3.9195865e-07),\n",
       " ('YAEVAVMK', 3.77024435e-07),\n",
       " ('SVEVIAAK', 3.66566951e-07),\n",
       " ('NVEFRVKT', 3.50839059e-07)]"
      ]
     },
     "execution_count": 66,
     "metadata": {},
     "output_type": "execute_result"
    }
   ],
   "source": [
    "num_candidates = 200\n",
    "max_iter = 20\n",
    "\n",
    "peptide_candidates = sample_candidates(model_base_validation, 'KVRVKMET', num_candidates, amino_dict, prediction_length + 2, device, max_iter=max_iter)\n",
    "peptide_candidates"
   ]
  },
  {
   "cell_type": "markdown",
   "metadata": {},
   "source": [
    "# Task 5: Conditional probability vs Hamming distance analysis (model wide)"
   ]
  },
  {
   "cell_type": "markdown",
   "metadata": {},
   "source": [
    "#### Build a wide model"
   ]
  },
  {
   "cell_type": "code",
   "execution_count": 67,
   "metadata": {},
   "outputs": [
    {
     "name": "stdout",
     "output_type": "stream",
     "text": [
      "Base model: total number of parameters: 29437976\n",
      "Base model: total number of trainable parameters: 29437976\n"
     ]
    },
    {
     "data": {
      "text/plain": [
       "<All keys matched successfully>"
      ]
     },
     "execution_count": 67,
     "metadata": {},
     "output_type": "execute_result"
    }
   ],
   "source": [
    "query_size, key_size, value_size, num_hiddens = 512, 512, 512, 512\n",
    "num_layers, dropout = 4, 0.1\n",
    "lr, num_epochs, batch_size, label_smoothing = 0.0004, 500, 6000, 0.1\n",
    "ffn_num_input, ffn_num_hiddens, num_heads = 512, 2048, 8\n",
    "\n",
    "norm_shape = [512] # 32 corresponds to the dim of such number to normalize\n",
    "device = d2l.try_gpu()\n",
    "\n",
    "\n",
    "encoder_wide = TransformerEncoder(\n",
    "\tlen(amino_dict), key_size, query_size, value_size, num_hiddens, \n",
    "\tnorm_shape, ffn_num_input, ffn_num_hiddens, num_heads,\n",
    "\tnum_layers, dropout)\n",
    "decoder_wide = TransformerDecoder(\n",
    "\tlen(amino_dict), key_size, query_size, value_size, num_hiddens, \n",
    "\tnorm_shape, ffn_num_input, ffn_num_hiddens, num_heads,\n",
    "\tnum_layers, dropout)\n",
    "model_wide = EncoderDecoder(encoder_wide, decoder_wide)\n",
    "\n",
    "\n",
    "model_wide_total_params = sum(p.numel() for p in model_wide.parameters())\n",
    "model_wide_total_trainable_params = sum(p.numel() for p in model_wide.parameters() if p.requires_grad)\n",
    "\n",
    "print('Wide model: total number of parameters: {}'.format(model_wide_total_params))\n",
    "print('Wide model: total number of trainable parameters: {}'.format(model_wide_total_trainable_params))\n",
    "\n",
    "\n",
    "model_wide.load_state_dict(torch.load(\"model_wide_22Jul16_1011AM\", map_location = ('cpu')))"
   ]
  },
  {
   "cell_type": "markdown",
   "metadata": {},
   "source": [
    "#### Select random targets"
   ]
  },
  {
   "cell_type": "code",
   "execution_count": 41,
   "metadata": {},
   "outputs": [
    {
     "name": "stdout",
     "output_type": "stream",
     "text": [
      "['YIRPMYWA' 'ELCLAFDT']\n"
     ]
    }
   ],
   "source": [
    "np.random.seed(0)\n",
    "max_index = BSn_data_dataset2_indices_length8_unique.shape[0]\n",
    "random_index = np.random.choice(max_index)\n",
    "\n",
    "random_target_info = BSn_data_dataset2_indices_length8_unique[random_index, :2]\n",
    "print(random_target_info)"
   ]
  },
  {
   "cell_type": "markdown",
   "metadata": {},
   "source": [
    "#### Sampling from model"
   ]
  },
  {
   "cell_type": "markdown",
   "metadata": {},
   "source": [
    "Do not run following cells on local machine! This is time consuming. "
   ]
  },
  {
   "cell_type": "code",
   "execution_count": 42,
   "metadata": {},
   "outputs": [
    {
     "name": "stdout",
     "output_type": "stream",
     "text": [
      "random target: YIRPMYWA\n",
      "random label: ELCLAFDT\n"
     ]
    }
   ],
   "source": [
    "target = random_target_info[0]\n",
    "label = random_target_info[1]\n",
    "\n",
    "print(\"random target:\", target)\n",
    "print(\"random label:\", label)"
   ]
  },
  {
   "cell_type": "code",
   "execution_count": 44,
   "metadata": {},
   "outputs": [
    {
     "name": "stdout",
     "output_type": "stream",
     "text": [
      "number of total candidates sampled: 312\n",
      "number of unique top candidates successfully sampled: 100\n",
      "number of clean samples obtained: 100\n"
     ]
    }
   ],
   "source": [
    "# unique top candidates sampling\n",
    "\n",
    "# large num_candidates is recommended if we have enough memory\n",
    "\n",
    "num_candidates = 100\n",
    "max_iter = 10\n",
    "prediction_length = 8\n",
    "\n",
    "peptide_candidates = sample_candidates(model_wide, target, num_candidates, amino_dict, prediction_length + 2, device, max_iter=max_iter)\n",
    "peptide_candidates_array = np.array(peptide_candidates)"
   ]
  },
  {
   "cell_type": "code",
   "execution_count": 45,
   "metadata": {},
   "outputs": [
    {
     "data": {
      "text/plain": [
       "Text(0.5, 1.0, '<model_wide> sampling distribution plot')"
      ]
     },
     "execution_count": 45,
     "metadata": {},
     "output_type": "execute_result"
    },
    {
     "data": {
      "image/png": "[encoded data removed]",
      "text/plain": [
       "<Figure size 1728x1152 with 1 Axes>"
      ]
     },
     "metadata": {},
     "output_type": "display_data"
    }
   ],
   "source": [
    "random_samples = list(list(zip(*peptide_candidates_array))[0])\n",
    "random_samples_probs = list(list(zip(*peptide_candidates_array))[1])\n",
    "label_list = [label]*num_candidates\n",
    "random_samples_hamming = hamming_distance_list(random_samples, label_list)\n",
    "\n",
    "# prob vs hamming plot \n",
    "plt.figure(figsize=(24, 16), facecolor=(1, 1, 1))\n",
    "file_time = time.strftime('%y%b%d_%I%M%p', time.gmtime())\n",
    "model_name = 'model_wide'\n",
    "\n",
    "plt.scatter(random_samples_hamming, random_samples_probs, label='Target:       {} \\n PDB label: {}'.format(target, label), c='r', s=5)\n",
    "plt.xlabel('Hamming distances')\n",
    "plt.ylabel('Probability of generation')\n",
    "plt.legend()\n",
    "plt.yscale('log')\n",
    "plt.title(\"<{}> sampling distribution plot\".format(model_name))\n",
    "# plt.grid()\n",
    "# plt.savefig('{}_prob_hamming_plot_{}.png'.format(model_name, file_time))"
   ]
  },
  {
   "cell_type": "markdown",
   "metadata": {},
   "source": [
    "#### Save unique length 7 predictions in a folder/files/table"
   ]
  },
  {
   "cell_type": "code",
   "execution_count": 107,
   "metadata": {},
   "outputs": [
    {
     "name": "stdout",
     "output_type": "stream",
     "text": [
      "number of length 7 samples:  (99856, 10)\n",
      "number of unique length 7 sample:  (76435, 10)\n"
     ]
    }
   ],
   "source": [
    "prediction_length = 7\n",
    "\n",
    "# unique length 7 targets\n",
    "target_indices = np.arange(BSn_data_dataset2.shape[0]).reshape(-1, 1)\n",
    "BSn_data_dataset2_indices = np.hstack([BSn_data_dataset2, target_indices])\n",
    "\n",
    "condition1 = np.nonzero(np.array([length==prediction_length for length in BSn_data_dataset2_indices[:, 4]]))\n",
    "BSn_data_dataset2_indices_length_7 = BSn_data_dataset2_indices[condition1]\n",
    "\n",
    "condition2 = np.nonzero(np.array([freq==1 for freq in BSn_data_dataset2_indices_length_7[:, -2]]))\n",
    "BSn_data_dataset2_indices_length_7_unique = BSn_data_dataset2_indices_length_7[condition2]\n",
    "\n",
    "\n",
    "print(\"number of length 7 samples: \", BSn_data_dataset2_indices_length_7.shape)\n",
    "print(\"number of unique length 7 sample: \", BSn_data_dataset2_indices_length_7_unique.shape)\n",
    "# target, complementary_seq, counts, promiscuity, length, working_score, hb_pattern, para/anti, freq, indices"
   ]
  },
  {
   "cell_type": "code",
   "execution_count": 69,
   "metadata": {},
   "outputs": [
    {
     "name": "stdout",
     "output_type": "stream",
     "text": [
      "['WLLTGYI' 'TVNLHGF' 'LYELISR' 'IFVTLLI' 'AVQQRII' 'EVIVQWT' 'EIRIRDG'\n",
      " 'HVMVVGH' 'YQLNQVF' 'KIRIFVP']\n",
      "['FRLELRS' 'KVNLFLI' 'IKRIFVP' 'VHLTAIA' 'NLKANVV' 'TLALSID' 'QIDIGCF'\n",
      " 'FVHGWLY' 'IKISVVY' 'EAVIIDV']\n"
     ]
    }
   ],
   "source": [
    "target_array = BSn_data_dataset2_indices_length_7_unique[:, 0]\n",
    "label_array = BSn_data_dataset2_indices_length_7_unique[:, 1]\n",
    "\n",
    "print(target_array[:10])\n",
    "print(label_array[:10])"
   ]
  },
  {
   "cell_type": "code",
   "execution_count": 104,
   "metadata": {},
   "outputs": [
    {
     "name": "stdout",
     "output_type": "stream",
     "text": [
      "number of total candidates sampled: 348\n",
      "number of unique top candidates successfully sampled: 100\n"
     ]
    }
   ],
   "source": [
    "# predicted peptides, prob, hamming\n",
    "\n",
    "num_candidates = 2000\n",
    "max_iter = 1000\n",
    "\n",
    "total_num_files = target_array.shape[0]\n",
    "\n",
    "count = 1\n",
    "\n",
    "for target, label in zip(target_array, label_array):\n",
    "\tfinal_array = np.zeros((num_candidates, 3), dtype=object)\n",
    "\n",
    "\tpeptide_candidates = sample_candidates(model_wide, target, num_candidates, amino_dict, prediction_length + 2, device, max_iter=max_iter)\n",
    "\tpeptide_candidates_array = np.array(peptide_candidates)\n",
    "\trandom_samples = list(list(zip(*peptide_candidates_array))[0]) # < ----------------\n",
    "\trandom_samples_probs = list(list(zip(*peptide_candidates_array))[1]) # <-----------\n",
    "\tlabel_list = [label]*num_candidates\n",
    "\trandom_samples_hamming = hamming_distance_list(random_samples, label_list) # < -----\n",
    "\n",
    "\trandom_samples_array = np.array(random_samples)\n",
    "\trandom_samples_probs_array = np.array(random_samples_probs)\n",
    "\trandom_samples_hamming_array = np.array(random_samples_hamming)\n",
    "\n",
    "\tfinal_array[:, 0] = random_samples_array\n",
    "\tfinal_array[:, 1] = random_samples_probs_array\n",
    "\tfinal_array[:, 2] = random_samples_hamming_array\n",
    "\n",
    "\t# save to csv file\n",
    "\tnp.savetxt('{}_{}.csv'.format(target, label), final_array, delimiter=',', fmt='%s')\n",
    "\n",
    "\tprint(\"{}/{} file saved\".format(count, total_num_files))\n",
    "\tcount += 1\n"
   ]
  },
  {
   "cell_type": "code",
   "execution_count": 105,
   "metadata": {},
   "outputs": [],
   "source": [
    "# load data \n",
    "# data = np.loadtxt('data.csv', delimiter=',', dtype=object)\n",
    "# data[:, 1] = data[:, 1].astype(np.float64)\n",
    "# data[:, 2] = data[:, 2].astype(np.int64)"
   ]
  },
  {
   "cell_type": "markdown",
   "metadata": {},
   "source": [
    "# Task 6: Model Wide Validation analysis"
   ]
  },
  {
   "cell_type": "markdown",
   "metadata": {},
   "source": [
    "#### Build Model Wide Validation"
   ]
  },
  {
   "cell_type": "code",
   "execution_count": 77,
   "metadata": {},
   "outputs": [
    {
     "name": "stdout",
     "output_type": "stream",
     "text": [
      "Wide model: total number of parameters: 29437976\n",
      "Wide model: total number of trainable parameters: 29437976\n"
     ]
    },
    {
     "data": {
      "text/plain": [
       "<All keys matched successfully>"
      ]
     },
     "execution_count": 77,
     "metadata": {},
     "output_type": "execute_result"
    }
   ],
   "source": [
    "query_size, key_size, value_size, num_hiddens = 512, 512, 512, 512\n",
    "num_layers, dropout = 4, 0.1\n",
    "lr, num_epochs, batch_size, label_smoothing = 0.0004, 500, 6000, 0.1\n",
    "ffn_num_input, ffn_num_hiddens, num_heads = 512, 2048, 8\n",
    "\n",
    "norm_shape = [512] # 32 corresponds to the dim of such number to normalize\n",
    "device = d2l.try_gpu()\n",
    "\n",
    "\n",
    "encoder_wide = TransformerEncoder(\n",
    "\tlen(amino_dict), key_size, query_size, value_size, num_hiddens, \n",
    "\tnorm_shape, ffn_num_input, ffn_num_hiddens, num_heads,\n",
    "\tnum_layers, dropout)\n",
    "decoder_wide = TransformerDecoder(\n",
    "\tlen(amino_dict), key_size, query_size, value_size, num_hiddens, \n",
    "\tnorm_shape, ffn_num_input, ffn_num_hiddens, num_heads,\n",
    "\tnum_layers, dropout)\n",
    "model_wide_validation = EncoderDecoder(encoder_wide, decoder_wide)\n",
    "\n",
    "\n",
    "model_wide_validation_total_params = sum(p.numel() for p in model_wide_validation.parameters())\n",
    "model_wide_validation_total_trainable_params = sum(p.numel() for p in model_wide_validation.parameters() if p.requires_grad)\n",
    "\n",
    "print('Wide model: total number of parameters: {}'.format(model_wide_validation_total_params))\n",
    "print('Wide model: total number of trainable parameters: {}'.format(model_wide_validation_total_trainable_params))\n",
    "\n",
    "\n",
    "model_wide_validation.load_state_dict(torch.load(\"model_wide_validation_22Jul19_0332PM\", map_location = ('cpu')))"
   ]
  },
  {
   "cell_type": "markdown",
   "metadata": {},
   "source": [
    "#### Hamming distance analysis on validation set"
   ]
  },
  {
   "cell_type": "code",
   "execution_count": 78,
   "metadata": {},
   "outputs": [
    {
     "name": "stdout",
     "output_type": "stream",
     "text": [
      "['KEMIQEVI' 'FTMLELYE' 'KQVFTVPY' 'DYEVTLTR' 'FHLDVDIS' 'DLRAMPAH'\n",
      " 'KTIYIYNV' 'SREYHICV' 'VYSILTSS' 'KVRVKMET']\n",
      "['LAKPIYLT' 'VRGIEYVK' 'HIIVKLEG' 'RVTLTALY' 'LHFTVKGI' 'SNVWKLGA'\n",
      " 'GTFICGIN' 'TLTVVAHV' 'FYLTAETI' 'TVEVEFSN']\n",
      "(5000, 4)\n"
     ]
    }
   ],
   "source": [
    "prediction_length = 8\n",
    "\n",
    "num_minibatch = 50\n",
    "\n",
    "print(X_validation_letter[:10])\n",
    "print(Y_validation_letter[:10])\n",
    "\n",
    "peptide_pred_list = []\n",
    "num_iter = int(len(X_validation_letter)/num_minibatch)\n",
    "\n",
    "for i in range(num_iter):\n",
    "\tpeptide_pred = predict_greedy_batch(model_wide_validation, X_validation_letter[num_minibatch*i:num_minibatch*i+num_minibatch], amino_dict, prediction_length + 2, device)\n",
    "\tpeptide_pred_list.append(peptide_pred)\n",
    "peptide_pred_array = np.vstack(peptide_pred_list)\n",
    "peptide_pred_array_new = np.hstack([peptide_pred_array, np.array(Y_validation_letter).reshape(-1, 1)])\n",
    "# target, prediction, greedy_prob, label\n",
    "\n",
    "print(peptide_pred_array_new.shape)"
   ]
  },
  {
   "cell_type": "code",
   "execution_count": 80,
   "metadata": {},
   "outputs": [
    {
     "name": "stdout",
     "output_type": "stream",
     "text": [
      "target      prediction      probability       PDB_label\n",
      "[['KEMIQEVI' 'LAKPIYLT' '0.5870164036750793' 'LAKPIYLT']\n",
      " ['FTMLELYE' 'VRGIEYVK' '0.5109961628913879' 'VRGIEYVK']\n",
      " ['KQVFTVPY' 'HIIVKLEG' '0.6000309586524963' 'HIIVKLEG']\n",
      " ['DYEVTLTR' 'RVTLTALY' '0.6115418672561646' 'RVTLTALY']\n",
      " ['FHLDVDIS' 'LHFTVKGI' '0.4980522394180298' 'LHFTVKGI']\n",
      " ['DLRAMPAH' 'SNVWKLGA' '0.6242100596427917' 'SNVWKLGA']\n",
      " ['KTIYIYNV' 'GTFICGIN' '0.5452306270599365' 'GTFICGIN']\n",
      " ['SREYHICV' 'TLTVVAHV' '0.5450505018234253' 'TLTVVAHV']\n",
      " ['VYSILTSS' 'FYLTAETI' '0.5651091933250427' 'FYLTAETI']\n",
      " ['KVRVKMET' 'TVEVEFSN' '0.45552313327789307' 'TVEVEFSN']\n",
      " ['LEGVFSFS' 'VRITQSDR' '0.5577001571655273' 'VRITQSDR']\n",
      " ['GTNSIKLV' 'ASLSWVIS' '0.572431206703186' 'ASLSWVIS']\n",
      " ['TEGIWRGV' 'ATFPVNII' '0.5230062007904053' 'ATFPVNII']\n",
      " ['KRTEDKTS' 'DFQINQTV' '0.5170217752456665' 'DFQINQTV']\n",
      " ['FVEEVFEN' 'RLRVWRRR' '0.5139182209968567' 'RLRVWRRR']\n",
      " ['EFFIIAYE' 'RIFEFKVV' '0.5361490845680237' 'RIFEFKVV']\n",
      " ['TNASLVIK' 'GFSNSLVY' '0.5385259985923767' 'GFSNSLVY']\n",
      " ['AIFDGTVT' 'IYESFKYS' '0.5170488953590393' 'IYESFKYS']\n",
      " ['CFEVASIP' 'RIREMRLI' '0.602592945098877' 'RIREMRLI']\n",
      " ['KCNYRIWT' 'VFRVNTVN' '0.5146044492721558' 'VFRVNTVN']]\n"
     ]
    }
   ],
   "source": [
    "print(\"target      prediction      probability       PDB_label\")\n",
    "print(peptide_pred_array_new[0:20, :])"
   ]
  },
  {
   "cell_type": "code",
   "execution_count": 79,
   "metadata": {},
   "outputs": [
    {
     "name": "stdout",
     "output_type": "stream",
     "text": [
      "Sequence length: 8\n",
      "mismatched sequences: 346, total sequences: 5000\n",
      "mismatched residues: 1931, total residues: 40000\n",
      "hamming distance (per sequence): 0.3862\n",
      "----------------------------------------------------------\n",
      "Sequences prediction accuracy:  0.9308\n",
      "Residue prediction accuracy:  0.951725\n"
     ]
    }
   ],
   "source": [
    "# process the results to study mismatched sequences\n",
    "# target, prediction, prob, label\n",
    "\n",
    "num_validation = len(X_validation_letter)\n",
    "total_residue = num_validation * prediction_length\n",
    "print(\"Sequence length:\", prediction_length)\n",
    "\n",
    "peptide_validation_mismatchs = peptide_pred_array_new[peptide_pred_array_new[:, 1] != np.array(Y_validation_letter)]\n",
    "print(\"mismatched sequences: {}, total sequences: {}\".format(peptide_validation_mismatchs.shape[0], num_validation))\n",
    "\n",
    "peptide_validation_hamming = hamming_distance_sum(peptide_pred_array_new[:, 1], np.array(Y_validation_letter))\n",
    "print(\"mismatched residues: {}, total residues: {}\".format(peptide_validation_hamming, total_residue))\n",
    "\n",
    "print(\"hamming distance (per sequence): {}\".format(peptide_validation_hamming/peptide_pred_array_new.shape[0]))\n",
    "\n",
    "print(\"----------------------------------------------------------\")\n",
    "print(\"Sequences prediction accuracy: \", (num_validation-peptide_validation_mismatchs.shape[0])/num_validation)\n",
    "print(\"Residue prediction accuracy: \", (total_residue-peptide_validation_hamming)/total_residue) "
   ]
  },
  {
   "cell_type": "code",
   "execution_count": 76,
   "metadata": {},
   "outputs": [
    {
     "name": "stdout",
     "output_type": "stream",
     "text": [
      "target      prediction      probability       PDB_label\n",
      "[['LLETNQTL' 'PQKLTFTS' '0.2816137373447418' 'PQKLTFTF']\n",
      " ['NRIELKGT' 'VELDGDVK' '0.2329992800951004' 'VVARTKYK']\n",
      " ['PQFKVDGK' 'NYFEVNCT' '0.06316174566745758' 'FKAETNIS']\n",
      " ['IRATWVLG' 'PSNHYALT' '0.07798828184604645' 'GQTILIAT']\n",
      " ['NIGCIFTG' 'CDLIDIYA' '0.34383484721183777' 'VNYIYITK']\n",
      " ['AQGFILDL' 'KVGFLGLL' '0.12808415293693542' 'VTRAELRA']\n",
      " ['LKLFSIDR' 'VVVCSASF' '0.3233669698238373' 'VVVCSASH']\n",
      " ['SRIIHLSV' 'ALTFSVET' '0.2309432029724121' 'LLTFSVET']\n",
      " ['KGEFQVIG' 'ELHIFGSI' '0.5181494355201721' 'TYRYIGTL']\n",
      " ['ALENRSIT' 'AVSEESIA' '0.3945940136909485' 'ALGMENRQ']\n",
      " ['HIKADMKL' 'THDIHLHG' '0.3814409077167511' 'EYSYKFET']\n",
      " ['NSAILKTW' 'FSISQNLV' '0.42294007539749146' 'FNISQNLV']\n",
      " ['TLSLDVLY' 'NYRVGFYY' '0.26332971453666687' 'GVGLRVGL']\n",
      " ['KLRMEGNV' 'YNKVRFYG' '0.23072834312915802' 'DGDIVFHH']\n",
      " ['HRVVAGYD' 'GAYQGFFQ' '0.17023536562919617' 'YQGAVSVY']\n",
      " ['SLYVSATV' 'PIRAVSVA' '0.05192862078547478' 'QIGFIVFA']\n",
      " ['NIEVTVIN' 'TVAYQLTL' '0.49306103587150574' 'RFKYTKRG']\n",
      " ['GIFSKDLV' 'MEIFKYPL' '0.2678166925907135' 'MEIFKYPV']\n",
      " ['DIEITFAF' 'NLSQTASV' '0.15161684155464172' 'GVKIRCTA']\n",
      " ['HMKIEEKI' 'RLMIMGHL' '0.48440036177635193' 'STETTFLV']]\n"
     ]
    }
   ],
   "source": [
    "print(\"target      prediction      probability       PDB_label\")\n",
    "print(peptide_validation_mismatchs[0:20, :])"
   ]
  },
  {
   "cell_type": "markdown",
   "metadata": {},
   "source": [
    "#### Individual mismatch sampling"
   ]
  },
  {
   "cell_type": "code",
   "execution_count": 89,
   "metadata": {},
   "outputs": [
    {
     "name": "stdout",
     "output_type": "stream",
     "text": [
      "Conditional probability at position 1 is 0.9628952741622925\n",
      "Conditional probability at position 2 is 0.9390546679496765\n",
      "Conditional probability at position 3 is 0.9531745314598083\n",
      "Conditional probability at position 4 is 0.9435302019119263\n",
      "Conditional probability at position 5 is 0.9461644887924194\n",
      "Conditional probability at position 6 is 0.9449514150619507\n",
      "Conditional probability at position 7 is 0.9540488123893738\n",
      "Conditional probability at position 8 is 0.50467449426651\n",
      "Conditional probability at position 9 is 0.9237192869186401\n",
      "Input target sequence is LKLFSIDR, predicted complementary peptide is VVVCSASF\n",
      "Condition on input, predicted probability is 0.32336741449507644\n"
     ]
    }
   ],
   "source": [
    "dec_comple_peptide_pred, dec_prob, dec_attention_weight_seq = predict_greedy_single(model_wide_validation, 'HIKADMKL', amino_dict, prediction_length + 2, device, save_attention_weights=True, print_info=True)"
   ]
  },
  {
   "cell_type": "code",
   "execution_count": 103,
   "metadata": {},
   "outputs": [
    {
     "name": "stdout",
     "output_type": "stream",
     "text": [
      "number of total candidates sampled: 324\n",
      "number of unique top candidates successfully sampled: 100\n"
     ]
    },
    {
     "data": {
      "text/plain": [
       "[('RLMIMGHL', 0.48440048),\n",
       " ('STETTFLV', 0.08871287),\n",
       " ('ELMIMGHL', 0.00347034),\n",
       " ('RLMIMGHR', 0.00267642),\n",
       " ('RLMIMGHN', 0.00235397),\n",
       " ('RLMIMGHS', 0.00229233),\n",
       " ('RLMIMGEG', 0.00189569),\n",
       " ('RLMIMGHP', 0.00178945),\n",
       " ('RLMIMGHF', 0.00171192),\n",
       " ('RLMIMGCK', 0.00166817),\n",
       " ('RLRIMGHL', 0.00145146),\n",
       " ('RLMIMGPW', 0.00133409),\n",
       " ('RLMIMGHV', 0.00133044),\n",
       " ('RLMIMGSR', 0.00123854),\n",
       " ('RLMITLLR', 0.00106754),\n",
       " ('RLMIMGHT', 0.00101379),\n",
       " ('RLLIMGHL', 0.00069795),\n",
       " ('RLMIMGDY', 0.00068726),\n",
       " ('RLMIMGVL', 0.00067319),\n",
       " ('SLETTFLV', 0.00062553),\n",
       " ('RLMIMGFH', 0.00059342),\n",
       " ('RLMIHSVK', 0.00053626),\n",
       " ('RLMIMGNL', 0.00052722),\n",
       " ('RLMIMGWG', 0.00043342),\n",
       " ('KLMIMGHL', 0.00036688),\n",
       " ('RLKIAIST', 0.00035189),\n",
       " ('RLMIMGQH', 0.00034069),\n",
       " ('STETTFPV', 0.00031824),\n",
       " ('RLMIMIAH', 0.00031623),\n",
       " ('STETTFLR', 0.00031487),\n",
       " ('RLMSNAYL', 0.00026317),\n",
       " ('RLMIMTGF', 0.000201),\n",
       " ('RLMIMGPS', 0.00019776),\n",
       " ('STETTFTS', 0.00018746),\n",
       " ('RLMIMTSK', 0.00018731),\n",
       " ('STETTFLN', 0.00018028),\n",
       " ('STETTFEL', 0.00016491),\n",
       " ('STETTPTK', 0.00015704),\n",
       " ('RLMWLVLL', 0.00014117),\n",
       " ('STETTFCL', 0.00013821),\n",
       " ('RLMISLFK', 0.00012452),\n",
       " ('STETTFNL', 0.00011729),\n",
       " ('STETTITK', 8.54830796e-05),\n",
       " ('RLMPTSLV', 8.41732763e-05),\n",
       " ('RLAYGRWF', 4.83518888e-05),\n",
       " ('RLSYRRSF', 4.62539392e-05),\n",
       " ('RLFIYSKH', 4.34987851e-05),\n",
       " ('RLMIMGGW', 4.10191969e-05),\n",
       " ('RLMIWAKR', 3.57892932e-05),\n",
       " ('RLMIKIMH', 2.86002978e-05),\n",
       " ('RLMIIKSV', 2.84875168e-05),\n",
       " ('RLMIGISI', 2.55055184e-05),\n",
       " ('DWEIYKWV', 2.09575755e-05),\n",
       " ('RLMCMFLV', 2.0282745e-05),\n",
       " ('RRSMYLGY', 1.98378893e-05),\n",
       " ('RLMIMHSW', 1.96274705e-05),\n",
       " ('RLMIMGCT', 1.66688969e-05),\n",
       " ('RLMICTSL', 1.63516652e-05),\n",
       " ('RLMIMGDD', 1.47508999e-05),\n",
       " ('RLMIMSLV', 1.11670615e-05),\n",
       " ('RLMICIVR', 1.06163843e-05),\n",
       " ('RLQLTFLV', 8.78384708e-06),\n",
       " ('RLMLMIKR', 7.73426746e-06),\n",
       " ('RLMINLKI', 5.51023504e-06),\n",
       " ('STETTAGY', 4.54835936e-06),\n",
       " ('RCRYIVKH', 4.38785037e-06),\n",
       " ('RLMIEGPY', 3.91991307e-06),\n",
       " ('RKVVYAGH', 3.8358603e-06),\n",
       " ('RLMIGLYR', 2.73627074e-06),\n",
       " ('RLHPVAGH', 2.65593371e-06),\n",
       " ('RLCIYLFK', 2.54014867e-06),\n",
       " ('REKIVISC', 6.28397743e-07),\n",
       " ('RLYIFYKA', 4.23724686e-07),\n",
       " ('STERKLEK', 3.97041703e-07),\n",
       " ('SLVGVYWG', 3.21661474e-07),\n",
       " ('SMEYYKEG', 3.04987282e-07),\n",
       " ('EGEGDYKS', 2.84919707e-07),\n",
       " ('RTVLTLLV', 2.76992552e-07),\n",
       " ('RLMIVWGA', 2.5128827e-07),\n",
       " ('DWEQGKSV', 2.37149479e-07),\n",
       " ('FVMYRSTL', 2.36652809e-07),\n",
       " ('RHVIADIK', 2.20334258e-07),\n",
       " ('RLMDNASM', 1.87264604e-07),\n",
       " ('HIVMGHFS', 1.86418433e-07),\n",
       " ('RLMTKQSY', 1.64163708e-07),\n",
       " ('STETDFSL', 1.10783638e-07),\n",
       " ('STDVVYAS', 5.63930698e-08),\n",
       " ('RLMHTRTL', 3.7938495e-08),\n",
       " ('RDVHVVEG', 3.48733877e-08),\n",
       " ('DWEIYSRI', 9.99386529e-09),\n",
       " ('RLMRWTVV', 8.50812931e-09),\n",
       " ('ALMYRSTY', 6.41347908e-09),\n",
       " ('TLTIEYWT', 5.49727996e-09),\n",
       " ('STKIQSTP', 5.0492992e-09),\n",
       " ('RLKMYLGM', 4.21701518e-09),\n",
       " ('RAMLYKKR', 2.48994048e-09),\n",
       " ('REERHSAT', 2.29135155e-09),\n",
       " ('SDTETYLV', 2.13989693e-09),\n",
       " ('RLDDVTME', 1.36791234e-09),\n",
       " ('RGPFGRIG', 7.84691867e-10)]"
      ]
     },
     "execution_count": 103,
     "metadata": {},
     "output_type": "execute_result"
    }
   ],
   "source": [
    "num_candidates = 100\n",
    "max_iter = 20\n",
    "\n",
    "peptide_candidates = sample_candidates(model_wide_validation, 'HMKIEEKI', num_candidates, amino_dict, prediction_length + 2, device, max_iter=max_iter)\n",
    "peptide_candidates"
   ]
  },
  {
   "cell_type": "markdown",
   "metadata": {},
   "source": [
    "#### Further sampling validation"
   ]
  },
  {
   "cell_type": "code",
   "execution_count": 91,
   "metadata": {},
   "outputs": [
    {
     "name": "stdout",
     "output_type": "stream",
     "text": [
      "number of total candidates sampled: 384\n",
      "number of unique top candidates successfully sampled: 100\n",
      "Quality of current prediction: 1\n",
      "number of total candidates sampled: 260\n",
      "number of unique top candidates successfully sampled: 100\n",
      "Quality of current prediction: 3\n",
      "number of total candidates sampled: 200\n",
      "number of unique top candidates successfully sampled: 100\n",
      "Quality of current prediction: 0\n",
      "number of total candidates sampled: 226\n",
      "number of unique top candidates successfully sampled: 100\n",
      "Quality of current prediction: 0\n",
      "number of total candidates sampled: 274\n",
      "number of unique top candidates successfully sampled: 100\n",
      "Quality of current prediction: 1\n",
      "number of total candidates sampled: 218\n",
      "number of unique top candidates successfully sampled: 100\n",
      "Quality of current prediction: 2\n",
      "number of total candidates sampled: 374\n",
      "number of unique top candidates successfully sampled: 100\n",
      "Quality of current prediction: 1\n",
      "number of total candidates sampled: 256\n",
      "number of unique top candidates successfully sampled: 100\n",
      "Quality of current prediction: 0\n",
      "number of total candidates sampled: 386\n",
      "number of unique top candidates successfully sampled: 100\n",
      "Quality of current prediction: 1\n",
      "number of total candidates sampled: 264\n",
      "number of unique top candidates successfully sampled: 100\n",
      "Quality of current prediction: 1\n",
      "number of total candidates sampled: 264\n",
      "number of unique top candidates successfully sampled: 100\n",
      "Quality of current prediction: 1\n",
      "number of total candidates sampled: 296\n",
      "number of unique top candidates successfully sampled: 100\n",
      "Quality of current prediction: 1\n",
      "number of total candidates sampled: 326\n",
      "number of unique top candidates successfully sampled: 100\n",
      "Quality of current prediction: 1\n",
      "number of total candidates sampled: 272\n",
      "number of unique top candidates successfully sampled: 100\n",
      "Quality of current prediction: 1\n",
      "number of total candidates sampled: 252\n",
      "number of unique top candidates successfully sampled: 100\n",
      "Quality of current prediction: 1\n",
      "number of total candidates sampled: 200\n",
      "number of unique top candidates successfully sampled: 100\n",
      "Quality of current prediction: 0\n",
      "number of total candidates sampled: 294\n",
      "number of unique top candidates successfully sampled: 100\n",
      "Quality of current prediction: 1\n",
      "number of total candidates sampled: 340\n",
      "number of unique top candidates successfully sampled: 100\n",
      "Quality of current prediction: 2\n",
      "number of total candidates sampled: 332\n",
      "number of unique top candidates successfully sampled: 100\n",
      "Quality of current prediction: 0\n",
      "number of total candidates sampled: 376\n",
      "number of unique top candidates successfully sampled: 100\n",
      "Quality of current prediction: 1\n",
      "number of total candidates sampled: 314\n",
      "number of unique top candidates successfully sampled: 100\n",
      "Quality of current prediction: 1\n",
      "number of total candidates sampled: 362\n",
      "number of unique top candidates successfully sampled: 100\n",
      "Quality of current prediction: 1\n",
      "number of total candidates sampled: 282\n",
      "number of unique top candidates successfully sampled: 100\n",
      "Quality of current prediction: 1\n",
      "number of total candidates sampled: 244\n",
      "number of unique top candidates successfully sampled: 100\n",
      "Quality of current prediction: 1\n",
      "number of total candidates sampled: 326\n",
      "number of unique top candidates successfully sampled: 100\n",
      "Quality of current prediction: 1\n",
      "number of total candidates sampled: 292\n",
      "number of unique top candidates successfully sampled: 100\n",
      "Quality of current prediction: 1\n",
      "number of total candidates sampled: 320\n",
      "number of unique top candidates successfully sampled: 100\n",
      "Quality of current prediction: 1\n",
      "number of total candidates sampled: 348\n",
      "number of unique top candidates successfully sampled: 100\n",
      "Quality of current prediction: 1\n",
      "number of total candidates sampled: 338\n",
      "number of unique top candidates successfully sampled: 100\n",
      "Quality of current prediction: 1\n",
      "number of total candidates sampled: 272\n",
      "number of unique top candidates successfully sampled: 100\n",
      "Quality of current prediction: 2\n",
      "number of total candidates sampled: 290\n",
      "number of unique top candidates successfully sampled: 100\n",
      "Quality of current prediction: 3\n",
      "number of total candidates sampled: 350\n",
      "number of unique top candidates successfully sampled: 100\n",
      "Quality of current prediction: 0\n",
      "number of total candidates sampled: 366\n",
      "number of unique top candidates successfully sampled: 100\n",
      "Quality of current prediction: 2\n",
      "number of total candidates sampled: 306\n",
      "number of unique top candidates successfully sampled: 100\n",
      "Quality of current prediction: 1\n",
      "number of total candidates sampled: 266\n",
      "number of unique top candidates successfully sampled: 100\n",
      "Quality of current prediction: 1\n",
      "number of total candidates sampled: 596\n",
      "number of unique top candidates successfully sampled: 100\n",
      "Quality of current prediction: 1\n",
      "number of total candidates sampled: 224\n",
      "number of unique top candidates successfully sampled: 100\n",
      "Quality of current prediction: 0\n",
      "number of total candidates sampled: 334\n",
      "number of unique top candidates successfully sampled: 100\n",
      "Quality of current prediction: 1\n",
      "number of total candidates sampled: 200\n",
      "number of unique top candidates successfully sampled: 100\n",
      "Quality of current prediction: 3\n",
      "number of total candidates sampled: 238\n",
      "number of unique top candidates successfully sampled: 100\n",
      "Quality of current prediction: 1\n",
      "number of total candidates sampled: 322\n",
      "number of unique top candidates successfully sampled: 100\n",
      "Quality of current prediction: 0\n",
      "number of total candidates sampled: 224\n",
      "number of unique top candidates successfully sampled: 100\n",
      "Quality of current prediction: 0\n",
      "number of total candidates sampled: 270\n",
      "number of unique top candidates successfully sampled: 100\n",
      "Quality of current prediction: 2\n",
      "number of total candidates sampled: 216\n",
      "number of unique top candidates successfully sampled: 100\n",
      "Quality of current prediction: 2\n",
      "number of total candidates sampled: 352\n",
      "number of unique top candidates successfully sampled: 100\n",
      "Quality of current prediction: 3\n",
      "number of total candidates sampled: 254\n",
      "number of unique top candidates successfully sampled: 100\n",
      "Quality of current prediction: 1\n",
      "number of total candidates sampled: 274\n",
      "number of unique top candidates successfully sampled: 100\n",
      "Quality of current prediction: 1\n",
      "number of total candidates sampled: 298\n",
      "number of unique top candidates successfully sampled: 100\n",
      "Quality of current prediction: 5\n",
      "number of total candidates sampled: 310\n",
      "number of unique top candidates successfully sampled: 100\n",
      "Quality of current prediction: 1\n",
      "number of total candidates sampled: 424\n",
      "number of unique top candidates successfully sampled: 100\n",
      "Quality of current prediction: 1\n",
      "number of total candidates sampled: 314\n",
      "number of unique top candidates successfully sampled: 100\n",
      "Quality of current prediction: 1\n",
      "number of total candidates sampled: 350\n",
      "number of unique top candidates successfully sampled: 100\n",
      "Quality of current prediction: 1\n",
      "number of total candidates sampled: 268\n",
      "number of unique top candidates successfully sampled: 100\n",
      "Quality of current prediction: 1\n",
      "number of total candidates sampled: 348\n",
      "number of unique top candidates successfully sampled: 100\n",
      "Quality of current prediction: 2\n",
      "number of total candidates sampled: 292\n",
      "number of unique top candidates successfully sampled: 100\n",
      "Quality of current prediction: 3\n",
      "number of total candidates sampled: 296\n",
      "number of unique top candidates successfully sampled: 100\n",
      "Quality of current prediction: 1\n",
      "number of total candidates sampled: 222\n",
      "number of unique top candidates successfully sampled: 100\n",
      "Quality of current prediction: 2\n",
      "number of total candidates sampled: 288\n",
      "number of unique top candidates successfully sampled: 100\n",
      "Quality of current prediction: 1\n",
      "number of total candidates sampled: 382\n",
      "number of unique top candidates successfully sampled: 100\n",
      "Quality of current prediction: 1\n",
      "number of total candidates sampled: 278\n",
      "number of unique top candidates successfully sampled: 100\n",
      "Quality of current prediction: 0\n",
      "number of total candidates sampled: 278\n",
      "number of unique top candidates successfully sampled: 100\n",
      "Quality of current prediction: 1\n",
      "number of total candidates sampled: 274\n",
      "number of unique top candidates successfully sampled: 100\n",
      "Quality of current prediction: 1\n",
      "number of total candidates sampled: 316\n",
      "number of unique top candidates successfully sampled: 100\n",
      "Quality of current prediction: 1\n",
      "number of total candidates sampled: 242\n",
      "number of unique top candidates successfully sampled: 100\n",
      "Quality of current prediction: 0\n",
      "number of total candidates sampled: 270\n",
      "number of unique top candidates successfully sampled: 100\n",
      "Quality of current prediction: 3\n",
      "number of total candidates sampled: 224\n",
      "number of unique top candidates successfully sampled: 100\n",
      "Quality of current prediction: 1\n",
      "number of total candidates sampled: 284\n",
      "number of unique top candidates successfully sampled: 100\n",
      "Quality of current prediction: 0\n",
      "number of total candidates sampled: 260\n",
      "number of unique top candidates successfully sampled: 100\n",
      "Quality of current prediction: 1\n",
      "number of total candidates sampled: 366\n",
      "number of unique top candidates successfully sampled: 100\n",
      "Quality of current prediction: 1\n",
      "number of total candidates sampled: 218\n",
      "number of unique top candidates successfully sampled: 100\n",
      "Quality of current prediction: 0\n",
      "number of total candidates sampled: 200\n",
      "number of unique top candidates successfully sampled: 100\n",
      "Quality of current prediction: 0\n",
      "number of total candidates sampled: 288\n",
      "number of unique top candidates successfully sampled: 100\n",
      "Quality of current prediction: 0\n",
      "number of total candidates sampled: 294\n",
      "number of unique top candidates successfully sampled: 100\n",
      "Quality of current prediction: 2\n",
      "number of total candidates sampled: 200\n",
      "number of unique top candidates successfully sampled: 100\n",
      "Quality of current prediction: 0\n",
      "number of total candidates sampled: 330\n",
      "number of unique top candidates successfully sampled: 100\n",
      "Quality of current prediction: 1\n",
      "number of total candidates sampled: 292\n",
      "number of unique top candidates successfully sampled: 100\n",
      "Quality of current prediction: 1\n",
      "number of total candidates sampled: 244\n",
      "number of unique top candidates successfully sampled: 100\n",
      "Quality of current prediction: 1\n",
      "number of total candidates sampled: 314\n",
      "number of unique top candidates successfully sampled: 100\n",
      "Quality of current prediction: 1\n",
      "number of total candidates sampled: 268\n",
      "number of unique top candidates successfully sampled: 100\n",
      "Quality of current prediction: 0\n",
      "number of total candidates sampled: 262\n",
      "number of unique top candidates successfully sampled: 100\n",
      "Quality of current prediction: 0\n",
      "number of total candidates sampled: 224\n",
      "number of unique top candidates successfully sampled: 100\n",
      "Quality of current prediction: 0\n",
      "number of total candidates sampled: 252\n",
      "number of unique top candidates successfully sampled: 100\n",
      "Quality of current prediction: 0\n",
      "number of total candidates sampled: 236\n",
      "number of unique top candidates successfully sampled: 100\n",
      "Quality of current prediction: 0\n",
      "number of total candidates sampled: 286\n",
      "number of unique top candidates successfully sampled: 100\n",
      "Quality of current prediction: 1\n",
      "number of total candidates sampled: 370\n",
      "number of unique top candidates successfully sampled: 100\n",
      "Quality of current prediction: 1\n",
      "number of total candidates sampled: 258\n",
      "number of unique top candidates successfully sampled: 100\n",
      "Quality of current prediction: 1\n",
      "number of total candidates sampled: 302\n",
      "number of unique top candidates successfully sampled: 100\n",
      "Quality of current prediction: 0\n",
      "number of total candidates sampled: 434\n",
      "number of unique top candidates successfully sampled: 100\n",
      "Quality of current prediction: 2\n",
      "number of total candidates sampled: 236\n",
      "number of unique top candidates successfully sampled: 100\n",
      "Quality of current prediction: 0\n",
      "number of total candidates sampled: 376\n",
      "number of unique top candidates successfully sampled: 100\n",
      "Quality of current prediction: 1\n",
      "number of total candidates sampled: 262\n",
      "number of unique top candidates successfully sampled: 100\n",
      "Quality of current prediction: 3\n",
      "number of total candidates sampled: 310\n",
      "number of unique top candidates successfully sampled: 100\n",
      "Quality of current prediction: 1\n",
      "number of total candidates sampled: 366\n",
      "number of unique top candidates successfully sampled: 100\n",
      "Quality of current prediction: 1\n",
      "number of total candidates sampled: 200\n",
      "number of unique top candidates successfully sampled: 100\n",
      "Quality of current prediction: 0\n",
      "number of total candidates sampled: 308\n",
      "number of unique top candidates successfully sampled: 100\n",
      "Quality of current prediction: 0\n",
      "number of total candidates sampled: 200\n",
      "number of unique top candidates successfully sampled: 100\n",
      "Quality of current prediction: 1\n",
      "number of total candidates sampled: 264\n",
      "number of unique top candidates successfully sampled: 100\n",
      "Quality of current prediction: 1\n",
      "number of total candidates sampled: 320\n",
      "number of unique top candidates successfully sampled: 100\n",
      "Quality of current prediction: 3\n",
      "number of total candidates sampled: 284\n",
      "number of unique top candidates successfully sampled: 100\n",
      "Quality of current prediction: 0\n",
      "number of total candidates sampled: 310\n",
      "number of unique top candidates successfully sampled: 100\n",
      "Quality of current prediction: 0\n",
      "number of total candidates sampled: 298\n",
      "number of unique top candidates successfully sampled: 100\n",
      "Quality of current prediction: 1\n",
      "number of total candidates sampled: 414\n",
      "number of unique top candidates successfully sampled: 100\n",
      "Quality of current prediction: 1\n",
      "number of total candidates sampled: 238\n",
      "number of unique top candidates successfully sampled: 100\n",
      "Quality of current prediction: 3\n",
      "number of total candidates sampled: 374\n",
      "number of unique top candidates successfully sampled: 100\n",
      "Quality of current prediction: 0\n",
      "number of total candidates sampled: 246\n",
      "number of unique top candidates successfully sampled: 100\n",
      "Quality of current prediction: 1\n",
      "number of total candidates sampled: 324\n",
      "number of unique top candidates successfully sampled: 100\n",
      "Quality of current prediction: 1\n",
      "number of total candidates sampled: 278\n",
      "number of unique top candidates successfully sampled: 100\n",
      "Quality of current prediction: 1\n",
      "number of total candidates sampled: 220\n",
      "number of unique top candidates successfully sampled: 100\n",
      "Quality of current prediction: 0\n",
      "number of total candidates sampled: 340\n",
      "number of unique top candidates successfully sampled: 100\n",
      "Quality of current prediction: 2\n",
      "number of total candidates sampled: 342\n",
      "number of unique top candidates successfully sampled: 100\n",
      "Quality of current prediction: 0\n",
      "number of total candidates sampled: 354\n",
      "number of unique top candidates successfully sampled: 100\n",
      "Quality of current prediction: 1\n",
      "number of total candidates sampled: 248\n",
      "number of unique top candidates successfully sampled: 100\n",
      "Quality of current prediction: 2\n",
      "number of total candidates sampled: 220\n",
      "number of unique top candidates successfully sampled: 100\n",
      "Quality of current prediction: 1\n",
      "number of total candidates sampled: 312\n",
      "number of unique top candidates successfully sampled: 100\n",
      "Quality of current prediction: 1\n",
      "number of total candidates sampled: 346\n",
      "number of unique top candidates successfully sampled: 100\n",
      "Quality of current prediction: 1\n",
      "number of total candidates sampled: 308\n",
      "number of unique top candidates successfully sampled: 100\n",
      "Quality of current prediction: 1\n",
      "number of total candidates sampled: 266\n",
      "number of unique top candidates successfully sampled: 100\n",
      "Quality of current prediction: 1\n",
      "number of total candidates sampled: 268\n",
      "number of unique top candidates successfully sampled: 100\n",
      "Quality of current prediction: 1\n",
      "number of total candidates sampled: 288\n",
      "number of unique top candidates successfully sampled: 100\n",
      "Quality of current prediction: 1\n",
      "number of total candidates sampled: 358\n",
      "number of unique top candidates successfully sampled: 100\n",
      "Quality of current prediction: 1\n",
      "number of total candidates sampled: 200\n",
      "number of unique top candidates successfully sampled: 100\n",
      "Quality of current prediction: 0\n",
      "number of total candidates sampled: 278\n",
      "number of unique top candidates successfully sampled: 100\n",
      "Quality of current prediction: 1\n",
      "number of total candidates sampled: 200\n",
      "number of unique top candidates successfully sampled: 100\n",
      "Quality of current prediction: 0\n",
      "number of total candidates sampled: 290\n",
      "number of unique top candidates successfully sampled: 100\n",
      "Quality of current prediction: 0\n",
      "number of total candidates sampled: 290\n",
      "number of unique top candidates successfully sampled: 100\n",
      "Quality of current prediction: 1\n",
      "number of total candidates sampled: 288\n",
      "number of unique top candidates successfully sampled: 100\n",
      "Quality of current prediction: 1\n",
      "number of total candidates sampled: 324\n",
      "number of unique top candidates successfully sampled: 100\n",
      "Quality of current prediction: 1\n",
      "number of total candidates sampled: 298\n",
      "number of unique top candidates successfully sampled: 100\n",
      "Quality of current prediction: 1\n",
      "number of total candidates sampled: 200\n",
      "number of unique top candidates successfully sampled: 100\n",
      "Quality of current prediction: 0\n",
      "number of total candidates sampled: 256\n",
      "number of unique top candidates successfully sampled: 100\n",
      "Quality of current prediction: 1\n",
      "number of total candidates sampled: 260\n",
      "number of unique top candidates successfully sampled: 100\n",
      "Quality of current prediction: 1\n",
      "number of total candidates sampled: 254\n",
      "number of unique top candidates successfully sampled: 100\n",
      "Quality of current prediction: 2\n",
      "number of total candidates sampled: 258\n",
      "number of unique top candidates successfully sampled: 100\n",
      "Quality of current prediction: 1\n",
      "number of total candidates sampled: 262\n",
      "number of unique top candidates successfully sampled: 100\n",
      "Quality of current prediction: 0\n",
      "number of total candidates sampled: 300\n",
      "number of unique top candidates successfully sampled: 100\n",
      "Quality of current prediction: 1\n",
      "number of total candidates sampled: 248\n",
      "number of unique top candidates successfully sampled: 100\n",
      "Quality of current prediction: 4\n",
      "number of total candidates sampled: 314\n",
      "number of unique top candidates successfully sampled: 100\n",
      "Quality of current prediction: 2\n",
      "number of total candidates sampled: 300\n",
      "number of unique top candidates successfully sampled: 100\n",
      "Quality of current prediction: 2\n",
      "number of total candidates sampled: 298\n",
      "number of unique top candidates successfully sampled: 100\n",
      "Quality of current prediction: 2\n",
      "number of total candidates sampled: 388\n",
      "number of unique top candidates successfully sampled: 100\n",
      "Quality of current prediction: 1\n",
      "number of total candidates sampled: 258\n",
      "number of unique top candidates successfully sampled: 100\n",
      "Quality of current prediction: 1\n",
      "number of total candidates sampled: 254\n",
      "number of unique top candidates successfully sampled: 100\n",
      "Quality of current prediction: 1\n",
      "number of total candidates sampled: 206\n",
      "number of unique top candidates successfully sampled: 100\n",
      "Quality of current prediction: 2\n",
      "number of total candidates sampled: 276\n",
      "number of unique top candidates successfully sampled: 100\n",
      "Quality of current prediction: 0\n",
      "number of total candidates sampled: 348\n",
      "number of unique top candidates successfully sampled: 100\n",
      "Quality of current prediction: 1\n",
      "number of total candidates sampled: 278\n",
      "number of unique top candidates successfully sampled: 100\n",
      "Quality of current prediction: 1\n",
      "number of total candidates sampled: 272\n",
      "number of unique top candidates successfully sampled: 100\n",
      "Quality of current prediction: 1\n",
      "number of total candidates sampled: 218\n",
      "number of unique top candidates successfully sampled: 100\n",
      "Quality of current prediction: 1\n",
      "number of total candidates sampled: 352\n",
      "number of unique top candidates successfully sampled: 100\n",
      "Quality of current prediction: 1\n",
      "number of total candidates sampled: 224\n",
      "number of unique top candidates successfully sampled: 100\n",
      "Quality of current prediction: 0\n",
      "number of total candidates sampled: 284\n",
      "number of unique top candidates successfully sampled: 100\n",
      "Quality of current prediction: 3\n",
      "number of total candidates sampled: 228\n",
      "number of unique top candidates successfully sampled: 100\n",
      "Quality of current prediction: 0\n",
      "number of total candidates sampled: 280\n",
      "number of unique top candidates successfully sampled: 100\n",
      "Quality of current prediction: 0\n",
      "number of total candidates sampled: 274\n",
      "number of unique top candidates successfully sampled: 100\n",
      "Quality of current prediction: 0\n",
      "number of total candidates sampled: 324\n",
      "number of unique top candidates successfully sampled: 100\n",
      "Quality of current prediction: 2\n",
      "number of total candidates sampled: 244\n",
      "number of unique top candidates successfully sampled: 100\n",
      "Quality of current prediction: 0\n",
      "number of total candidates sampled: 302\n",
      "number of unique top candidates successfully sampled: 100\n",
      "Quality of current prediction: 1\n",
      "number of total candidates sampled: 272\n",
      "number of unique top candidates successfully sampled: 100\n",
      "Quality of current prediction: 0\n",
      "number of total candidates sampled: 334\n",
      "number of unique top candidates successfully sampled: 100\n",
      "Quality of current prediction: 1\n",
      "number of total candidates sampled: 314\n",
      "number of unique top candidates successfully sampled: 100\n",
      "Quality of current prediction: 1\n",
      "number of total candidates sampled: 334\n",
      "number of unique top candidates successfully sampled: 100\n",
      "Quality of current prediction: 1\n",
      "number of total candidates sampled: 278\n",
      "number of unique top candidates successfully sampled: 100\n",
      "Quality of current prediction: 6\n",
      "number of total candidates sampled: 294\n",
      "number of unique top candidates successfully sampled: 100\n",
      "Quality of current prediction: 1\n",
      "number of total candidates sampled: 302\n",
      "number of unique top candidates successfully sampled: 100\n",
      "Quality of current prediction: 2\n",
      "number of total candidates sampled: 294\n",
      "number of unique top candidates successfully sampled: 100\n",
      "Quality of current prediction: 0\n",
      "number of total candidates sampled: 302\n",
      "number of unique top candidates successfully sampled: 100\n",
      "Quality of current prediction: 2\n",
      "number of total candidates sampled: 276\n",
      "number of unique top candidates successfully sampled: 100\n",
      "Quality of current prediction: 1\n",
      "number of total candidates sampled: 286\n",
      "number of unique top candidates successfully sampled: 100\n",
      "Quality of current prediction: 0\n",
      "number of total candidates sampled: 272\n",
      "number of unique top candidates successfully sampled: 100\n",
      "Quality of current prediction: 3\n",
      "number of total candidates sampled: 316\n",
      "number of unique top candidates successfully sampled: 100\n",
      "Quality of current prediction: 2\n",
      "number of total candidates sampled: 314\n",
      "number of unique top candidates successfully sampled: 100\n",
      "Quality of current prediction: 0\n",
      "number of total candidates sampled: 352\n",
      "number of unique top candidates successfully sampled: 100\n",
      "Quality of current prediction: 1\n",
      "number of total candidates sampled: 304\n",
      "number of unique top candidates successfully sampled: 100\n",
      "Quality of current prediction: 2\n",
      "number of total candidates sampled: 254\n",
      "number of unique top candidates successfully sampled: 100\n",
      "Quality of current prediction: 1\n",
      "number of total candidates sampled: 250\n",
      "number of unique top candidates successfully sampled: 100\n",
      "Quality of current prediction: 2\n",
      "number of total candidates sampled: 232\n",
      "number of unique top candidates successfully sampled: 100\n",
      "Quality of current prediction: 0\n",
      "number of total candidates sampled: 294\n",
      "number of unique top candidates successfully sampled: 100\n",
      "Quality of current prediction: 1\n",
      "number of total candidates sampled: 362\n",
      "number of unique top candidates successfully sampled: 100\n",
      "Quality of current prediction: 1\n",
      "number of total candidates sampled: 252\n",
      "number of unique top candidates successfully sampled: 100\n",
      "Quality of current prediction: 1\n",
      "number of total candidates sampled: 330\n",
      "number of unique top candidates successfully sampled: 100\n",
      "Quality of current prediction: 1\n",
      "number of total candidates sampled: 282\n",
      "number of unique top candidates successfully sampled: 100\n",
      "Quality of current prediction: 1\n",
      "number of total candidates sampled: 294\n",
      "number of unique top candidates successfully sampled: 100\n",
      "Quality of current prediction: 2\n",
      "number of total candidates sampled: 290\n",
      "number of unique top candidates successfully sampled: 100\n",
      "Quality of current prediction: 1\n",
      "number of total candidates sampled: 278\n",
      "number of unique top candidates successfully sampled: 100\n",
      "Quality of current prediction: 1\n",
      "number of total candidates sampled: 322\n",
      "number of unique top candidates successfully sampled: 100\n",
      "Quality of current prediction: 2\n",
      "number of total candidates sampled: 252\n",
      "number of unique top candidates successfully sampled: 100\n",
      "Quality of current prediction: 1\n",
      "number of total candidates sampled: 272\n",
      "number of unique top candidates successfully sampled: 100\n",
      "Quality of current prediction: 0\n",
      "number of total candidates sampled: 260\n",
      "number of unique top candidates successfully sampled: 100\n",
      "Quality of current prediction: 1\n",
      "number of total candidates sampled: 236\n",
      "number of unique top candidates successfully sampled: 100\n",
      "Quality of current prediction: 1\n",
      "number of total candidates sampled: 274\n",
      "number of unique top candidates successfully sampled: 100\n",
      "Quality of current prediction: 3\n",
      "number of total candidates sampled: 304\n",
      "number of unique top candidates successfully sampled: 100\n",
      "Quality of current prediction: 2\n",
      "number of total candidates sampled: 278\n",
      "number of unique top candidates successfully sampled: 100\n",
      "Quality of current prediction: 1\n",
      "number of total candidates sampled: 332\n",
      "number of unique top candidates successfully sampled: 100\n",
      "Quality of current prediction: 1\n",
      "number of total candidates sampled: 340\n",
      "number of unique top candidates successfully sampled: 100\n",
      "Quality of current prediction: 1\n",
      "number of total candidates sampled: 300\n",
      "number of unique top candidates successfully sampled: 100\n",
      "Quality of current prediction: 1\n",
      "number of total candidates sampled: 238\n",
      "number of unique top candidates successfully sampled: 100\n",
      "Quality of current prediction: 0\n",
      "number of total candidates sampled: 252\n",
      "number of unique top candidates successfully sampled: 100\n",
      "Quality of current prediction: 0\n",
      "number of total candidates sampled: 324\n",
      "number of unique top candidates successfully sampled: 100\n",
      "Quality of current prediction: 1\n",
      "number of total candidates sampled: 322\n",
      "number of unique top candidates successfully sampled: 100\n",
      "Quality of current prediction: 1\n",
      "number of total candidates sampled: 320\n",
      "number of unique top candidates successfully sampled: 100\n",
      "Quality of current prediction: 1\n",
      "number of total candidates sampled: 302\n",
      "number of unique top candidates successfully sampled: 100\n",
      "Quality of current prediction: 0\n",
      "number of total candidates sampled: 302\n",
      "number of unique top candidates successfully sampled: 100\n",
      "Quality of current prediction: 1\n",
      "number of total candidates sampled: 340\n",
      "number of unique top candidates successfully sampled: 100\n",
      "Quality of current prediction: 1\n",
      "number of total candidates sampled: 212\n",
      "number of unique top candidates successfully sampled: 100\n",
      "Quality of current prediction: 0\n",
      "number of total candidates sampled: 300\n",
      "number of unique top candidates successfully sampled: 100\n",
      "Quality of current prediction: 1\n",
      "number of total candidates sampled: 280\n",
      "number of unique top candidates successfully sampled: 100\n",
      "Quality of current prediction: 1\n",
      "number of total candidates sampled: 424\n",
      "number of unique top candidates successfully sampled: 100\n",
      "Quality of current prediction: 1\n",
      "number of total candidates sampled: 422\n",
      "number of unique top candidates successfully sampled: 100\n",
      "Quality of current prediction: 1\n",
      "number of total candidates sampled: 266\n",
      "number of unique top candidates successfully sampled: 100\n",
      "Quality of current prediction: 1\n",
      "number of total candidates sampled: 248\n",
      "number of unique top candidates successfully sampled: 100\n",
      "Quality of current prediction: 3\n",
      "number of total candidates sampled: 284\n",
      "number of unique top candidates successfully sampled: 100\n",
      "Quality of current prediction: 0\n",
      "number of total candidates sampled: 300\n",
      "number of unique top candidates successfully sampled: 100\n",
      "Quality of current prediction: 1\n",
      "number of total candidates sampled: 282\n",
      "number of unique top candidates successfully sampled: 100\n",
      "Quality of current prediction: 1\n",
      "number of total candidates sampled: 466\n",
      "number of unique top candidates successfully sampled: 100\n",
      "Quality of current prediction: 1\n",
      "number of total candidates sampled: 342\n",
      "number of unique top candidates successfully sampled: 100\n",
      "Quality of current prediction: 3\n",
      "number of total candidates sampled: 296\n",
      "number of unique top candidates successfully sampled: 100\n",
      "Quality of current prediction: 1\n",
      "number of total candidates sampled: 336\n",
      "number of unique top candidates successfully sampled: 100\n",
      "Quality of current prediction: 1\n",
      "number of total candidates sampled: 266\n",
      "number of unique top candidates successfully sampled: 100\n",
      "Quality of current prediction: 1\n",
      "number of total candidates sampled: 372\n",
      "number of unique top candidates successfully sampled: 100\n",
      "Quality of current prediction: 1\n",
      "number of total candidates sampled: 340\n",
      "number of unique top candidates successfully sampled: 100\n",
      "Quality of current prediction: 1\n",
      "number of total candidates sampled: 306\n",
      "number of unique top candidates successfully sampled: 100\n",
      "Quality of current prediction: 1\n",
      "number of total candidates sampled: 324\n",
      "number of unique top candidates successfully sampled: 100\n",
      "Quality of current prediction: 1\n",
      "number of total candidates sampled: 292\n",
      "number of unique top candidates successfully sampled: 100\n",
      "Quality of current prediction: 1\n",
      "number of total candidates sampled: 242\n",
      "number of unique top candidates successfully sampled: 100\n",
      "Quality of current prediction: 0\n",
      "number of total candidates sampled: 224\n",
      "number of unique top candidates successfully sampled: 100\n",
      "Quality of current prediction: 2\n",
      "number of total candidates sampled: 200\n",
      "number of unique top candidates successfully sampled: 100\n",
      "Quality of current prediction: 0\n",
      "number of total candidates sampled: 274\n",
      "number of unique top candidates successfully sampled: 100\n",
      "Quality of current prediction: 1\n",
      "number of total candidates sampled: 330\n",
      "number of unique top candidates successfully sampled: 100\n",
      "Quality of current prediction: 1\n",
      "number of total candidates sampled: 332\n",
      "number of unique top candidates successfully sampled: 100\n",
      "Quality of current prediction: 1\n",
      "number of total candidates sampled: 290\n",
      "number of unique top candidates successfully sampled: 100\n",
      "Quality of current prediction: 4\n",
      "number of total candidates sampled: 346\n",
      "number of unique top candidates successfully sampled: 100\n",
      "Quality of current prediction: 1\n",
      "number of total candidates sampled: 220\n",
      "number of unique top candidates successfully sampled: 100\n",
      "Quality of current prediction: 5\n",
      "number of total candidates sampled: 400\n",
      "number of unique top candidates successfully sampled: 100\n",
      "Quality of current prediction: 4\n",
      "number of total candidates sampled: 368\n",
      "number of unique top candidates successfully sampled: 100\n",
      "Quality of current prediction: 1\n",
      "number of total candidates sampled: 246\n",
      "number of unique top candidates successfully sampled: 100\n",
      "Quality of current prediction: 0\n",
      "number of total candidates sampled: 298\n",
      "number of unique top candidates successfully sampled: 100\n",
      "Quality of current prediction: 1\n",
      "number of total candidates sampled: 336\n",
      "number of unique top candidates successfully sampled: 100\n",
      "Quality of current prediction: 1\n",
      "number of total candidates sampled: 298\n",
      "number of unique top candidates successfully sampled: 100\n",
      "Quality of current prediction: 2\n",
      "number of total candidates sampled: 272\n",
      "number of unique top candidates successfully sampled: 100\n",
      "Quality of current prediction: 1\n",
      "number of total candidates sampled: 328\n",
      "number of unique top candidates successfully sampled: 100\n",
      "Quality of current prediction: 1\n",
      "number of total candidates sampled: 226\n",
      "number of unique top candidates successfully sampled: 100\n",
      "Quality of current prediction: 4\n",
      "number of total candidates sampled: 276\n",
      "number of unique top candidates successfully sampled: 100\n",
      "Quality of current prediction: 0\n",
      "number of total candidates sampled: 238\n",
      "number of unique top candidates successfully sampled: 100\n",
      "Quality of current prediction: 2\n",
      "number of total candidates sampled: 220\n",
      "number of unique top candidates successfully sampled: 100\n",
      "Quality of current prediction: 0\n",
      "number of total candidates sampled: 302\n",
      "number of unique top candidates successfully sampled: 100\n",
      "Quality of current prediction: 1\n",
      "number of total candidates sampled: 300\n",
      "number of unique top candidates successfully sampled: 100\n",
      "Quality of current prediction: 1\n",
      "number of total candidates sampled: 288\n",
      "number of unique top candidates successfully sampled: 100\n",
      "Quality of current prediction: 1\n",
      "number of total candidates sampled: 316\n",
      "number of unique top candidates successfully sampled: 100\n",
      "Quality of current prediction: 1\n",
      "number of total candidates sampled: 320\n",
      "number of unique top candidates successfully sampled: 100\n",
      "Quality of current prediction: 4\n",
      "number of total candidates sampled: 200\n",
      "number of unique top candidates successfully sampled: 100\n",
      "Quality of current prediction: 0\n",
      "number of total candidates sampled: 330\n",
      "number of unique top candidates successfully sampled: 100\n",
      "Quality of current prediction: 0\n",
      "number of total candidates sampled: 466\n",
      "number of unique top candidates successfully sampled: 100\n",
      "Quality of current prediction: 2\n",
      "number of total candidates sampled: 230\n",
      "number of unique top candidates successfully sampled: 100\n",
      "Quality of current prediction: 2\n",
      "number of total candidates sampled: 264\n",
      "number of unique top candidates successfully sampled: 100\n",
      "Quality of current prediction: 1\n",
      "number of total candidates sampled: 272\n",
      "number of unique top candidates successfully sampled: 100\n",
      "Quality of current prediction: 0\n",
      "number of total candidates sampled: 374\n",
      "number of unique top candidates successfully sampled: 100\n",
      "Quality of current prediction: 1\n",
      "number of total candidates sampled: 244\n",
      "number of unique top candidates successfully sampled: 100\n",
      "Quality of current prediction: 1\n",
      "number of total candidates sampled: 240\n",
      "number of unique top candidates successfully sampled: 100\n",
      "Quality of current prediction: 0\n",
      "number of total candidates sampled: 262\n",
      "number of unique top candidates successfully sampled: 100\n",
      "Quality of current prediction: 4\n",
      "number of total candidates sampled: 286\n",
      "number of unique top candidates successfully sampled: 100\n",
      "Quality of current prediction: 1\n",
      "number of total candidates sampled: 266\n",
      "number of unique top candidates successfully sampled: 100\n",
      "Quality of current prediction: 0\n",
      "number of total candidates sampled: 366\n",
      "number of unique top candidates successfully sampled: 100\n",
      "Quality of current prediction: 1\n",
      "number of total candidates sampled: 214\n",
      "number of unique top candidates successfully sampled: 100\n",
      "Quality of current prediction: 0\n",
      "number of total candidates sampled: 240\n",
      "number of unique top candidates successfully sampled: 100\n",
      "Quality of current prediction: 0\n",
      "number of total candidates sampled: 250\n",
      "number of unique top candidates successfully sampled: 100\n",
      "Quality of current prediction: 0\n",
      "number of total candidates sampled: 244\n",
      "number of unique top candidates successfully sampled: 100\n",
      "Quality of current prediction: 2\n",
      "number of total candidates sampled: 336\n",
      "number of unique top candidates successfully sampled: 100\n",
      "Quality of current prediction: 2\n",
      "number of total candidates sampled: 330\n",
      "number of unique top candidates successfully sampled: 100\n",
      "Quality of current prediction: 0\n",
      "number of total candidates sampled: 298\n",
      "number of unique top candidates successfully sampled: 100\n",
      "Quality of current prediction: 1\n",
      "number of total candidates sampled: 338\n",
      "number of unique top candidates successfully sampled: 100\n",
      "Quality of current prediction: 1\n",
      "number of total candidates sampled: 300\n",
      "number of unique top candidates successfully sampled: 100\n",
      "Quality of current prediction: 1\n",
      "number of total candidates sampled: 306\n",
      "number of unique top candidates successfully sampled: 100\n",
      "Quality of current prediction: 1\n",
      "number of total candidates sampled: 354\n",
      "number of unique top candidates successfully sampled: 100\n",
      "Quality of current prediction: 2\n",
      "number of total candidates sampled: 218\n",
      "number of unique top candidates successfully sampled: 100\n",
      "Quality of current prediction: 0\n",
      "number of total candidates sampled: 258\n",
      "number of unique top candidates successfully sampled: 100\n",
      "Quality of current prediction: 1\n",
      "number of total candidates sampled: 222\n",
      "number of unique top candidates successfully sampled: 100\n",
      "Quality of current prediction: 0\n",
      "number of total candidates sampled: 294\n",
      "number of unique top candidates successfully sampled: 100\n",
      "Quality of current prediction: 1\n",
      "number of total candidates sampled: 252\n",
      "number of unique top candidates successfully sampled: 100\n",
      "Quality of current prediction: 1\n",
      "number of total candidates sampled: 270\n",
      "number of unique top candidates successfully sampled: 100\n",
      "Quality of current prediction: 6\n",
      "number of total candidates sampled: 244\n",
      "number of unique top candidates successfully sampled: 100\n",
      "Quality of current prediction: 2\n",
      "number of total candidates sampled: 234\n",
      "number of unique top candidates successfully sampled: 100\n",
      "Quality of current prediction: 3\n",
      "number of total candidates sampled: 346\n",
      "number of unique top candidates successfully sampled: 100\n",
      "Quality of current prediction: 1\n",
      "number of total candidates sampled: 248\n",
      "number of unique top candidates successfully sampled: 100\n",
      "Quality of current prediction: 1\n",
      "number of total candidates sampled: 282\n",
      "number of unique top candidates successfully sampled: 100\n",
      "Quality of current prediction: 1\n",
      "number of total candidates sampled: 396\n",
      "number of unique top candidates successfully sampled: 100\n",
      "Quality of current prediction: 1\n",
      "number of total candidates sampled: 326\n",
      "number of unique top candidates successfully sampled: 100\n",
      "Quality of current prediction: 0\n",
      "number of total candidates sampled: 340\n",
      "number of unique top candidates successfully sampled: 100\n",
      "Quality of current prediction: 1\n",
      "number of total candidates sampled: 352\n",
      "number of unique top candidates successfully sampled: 100\n",
      "Quality of current prediction: 1\n",
      "number of total candidates sampled: 294\n",
      "number of unique top candidates successfully sampled: 100\n",
      "Quality of current prediction: 1\n",
      "number of total candidates sampled: 200\n",
      "number of unique top candidates successfully sampled: 100\n",
      "Quality of current prediction: 0\n",
      "number of total candidates sampled: 354\n",
      "number of unique top candidates successfully sampled: 100\n",
      "Quality of current prediction: 3\n",
      "number of total candidates sampled: 272\n",
      "number of unique top candidates successfully sampled: 100\n",
      "Quality of current prediction: 1\n",
      "number of total candidates sampled: 300\n",
      "number of unique top candidates successfully sampled: 100\n",
      "Quality of current prediction: 1\n",
      "number of total candidates sampled: 260\n",
      "number of unique top candidates successfully sampled: 100\n",
      "Quality of current prediction: 1\n",
      "number of total candidates sampled: 228\n",
      "number of unique top candidates successfully sampled: 100\n",
      "Quality of current prediction: 1\n",
      "number of total candidates sampled: 288\n",
      "number of unique top candidates successfully sampled: 100\n",
      "Quality of current prediction: 1\n",
      "number of total candidates sampled: 364\n",
      "number of unique top candidates successfully sampled: 100\n",
      "Quality of current prediction: 2\n",
      "number of total candidates sampled: 358\n",
      "number of unique top candidates successfully sampled: 100\n",
      "Quality of current prediction: 1\n",
      "number of total candidates sampled: 258\n",
      "number of unique top candidates successfully sampled: 100\n",
      "Quality of current prediction: 1\n",
      "number of total candidates sampled: 314\n",
      "number of unique top candidates successfully sampled: 100\n",
      "Quality of current prediction: 0\n",
      "number of total candidates sampled: 316\n",
      "number of unique top candidates successfully sampled: 100\n",
      "Quality of current prediction: 1\n",
      "number of total candidates sampled: 258\n",
      "number of unique top candidates successfully sampled: 100\n",
      "Quality of current prediction: 0\n",
      "number of total candidates sampled: 244\n",
      "number of unique top candidates successfully sampled: 100\n",
      "Quality of current prediction: 1\n",
      "number of total candidates sampled: 248\n",
      "number of unique top candidates successfully sampled: 100\n",
      "Quality of current prediction: 0\n",
      "number of total candidates sampled: 302\n",
      "number of unique top candidates successfully sampled: 100\n",
      "Quality of current prediction: 1\n",
      "number of total candidates sampled: 308\n",
      "number of unique top candidates successfully sampled: 100\n",
      "Quality of current prediction: 0\n",
      "number of total candidates sampled: 264\n",
      "number of unique top candidates successfully sampled: 100\n",
      "Quality of current prediction: 2\n",
      "number of total candidates sampled: 352\n",
      "number of unique top candidates successfully sampled: 100\n",
      "Quality of current prediction: 1\n",
      "number of total candidates sampled: 260\n",
      "number of unique top candidates successfully sampled: 100\n",
      "Quality of current prediction: 2\n",
      "number of total candidates sampled: 338\n",
      "number of unique top candidates successfully sampled: 100\n",
      "Quality of current prediction: 1\n",
      "number of total candidates sampled: 248\n",
      "number of unique top candidates successfully sampled: 100\n",
      "Quality of current prediction: 0\n",
      "number of total candidates sampled: 358\n",
      "number of unique top candidates successfully sampled: 100\n",
      "Quality of current prediction: 1\n",
      "number of total candidates sampled: 220\n",
      "number of unique top candidates successfully sampled: 100\n",
      "Quality of current prediction: 0\n",
      "number of total candidates sampled: 220\n",
      "number of unique top candidates successfully sampled: 100\n",
      "Quality of current prediction: 2\n",
      "number of total candidates sampled: 376\n",
      "number of unique top candidates successfully sampled: 100\n",
      "Quality of current prediction: 1\n",
      "number of total candidates sampled: 292\n",
      "number of unique top candidates successfully sampled: 100\n",
      "Quality of current prediction: 1\n",
      "number of total candidates sampled: 316\n",
      "number of unique top candidates successfully sampled: 100\n",
      "Quality of current prediction: 3\n",
      "number of total candidates sampled: 266\n",
      "number of unique top candidates successfully sampled: 100\n",
      "Quality of current prediction: 0\n",
      "number of total candidates sampled: 334\n",
      "number of unique top candidates successfully sampled: 100\n",
      "Quality of current prediction: 1\n",
      "number of total candidates sampled: 276\n",
      "number of unique top candidates successfully sampled: 100\n",
      "Quality of current prediction: 0\n",
      "number of total candidates sampled: 298\n",
      "number of unique top candidates successfully sampled: 100\n",
      "Quality of current prediction: 0\n",
      "number of total candidates sampled: 278\n",
      "number of unique top candidates successfully sampled: 100\n",
      "Quality of current prediction: 0\n",
      "number of total candidates sampled: 334\n",
      "number of unique top candidates successfully sampled: 100\n",
      "Quality of current prediction: 1\n",
      "number of total candidates sampled: 334\n",
      "number of unique top candidates successfully sampled: 100\n",
      "Quality of current prediction: 3\n",
      "number of total candidates sampled: 238\n",
      "number of unique top candidates successfully sampled: 100\n",
      "Quality of current prediction: 2\n",
      "number of total candidates sampled: 334\n",
      "number of unique top candidates successfully sampled: 100\n",
      "Quality of current prediction: 1\n",
      "number of total candidates sampled: 232\n",
      "number of unique top candidates successfully sampled: 100\n",
      "Quality of current prediction: 0\n",
      "number of total candidates sampled: 342\n",
      "number of unique top candidates successfully sampled: 100\n",
      "Quality of current prediction: 1\n",
      "number of total candidates sampled: 282\n",
      "number of unique top candidates successfully sampled: 100\n",
      "Quality of current prediction: 1\n",
      "number of total candidates sampled: 260\n",
      "number of unique top candidates successfully sampled: 100\n",
      "Quality of current prediction: 1\n",
      "number of total candidates sampled: 276\n",
      "number of unique top candidates successfully sampled: 100\n",
      "Quality of current prediction: 1\n",
      "number of total candidates sampled: 332\n",
      "number of unique top candidates successfully sampled: 100\n",
      "Quality of current prediction: 0\n",
      "number of total candidates sampled: 322\n",
      "number of unique top candidates successfully sampled: 100\n",
      "Quality of current prediction: 2\n",
      "number of total candidates sampled: 234\n",
      "number of unique top candidates successfully sampled: 100\n",
      "Quality of current prediction: 1\n",
      "number of total candidates sampled: 296\n",
      "number of unique top candidates successfully sampled: 100\n",
      "Quality of current prediction: 0\n",
      "number of total candidates sampled: 396\n",
      "number of unique top candidates successfully sampled: 100\n",
      "Quality of current prediction: 1\n",
      "number of total candidates sampled: 284\n",
      "number of unique top candidates successfully sampled: 100\n",
      "Quality of current prediction: 0\n",
      "number of total candidates sampled: 212\n",
      "number of unique top candidates successfully sampled: 100\n",
      "Quality of current prediction: 2\n",
      "number of total candidates sampled: 376\n",
      "number of unique top candidates successfully sampled: 100\n",
      "Quality of current prediction: 1\n",
      "number of total candidates sampled: 238\n",
      "number of unique top candidates successfully sampled: 100\n",
      "Quality of current prediction: 1\n",
      "number of total candidates sampled: 316\n",
      "number of unique top candidates successfully sampled: 100\n",
      "Quality of current prediction: 1\n",
      "number of total candidates sampled: 280\n",
      "number of unique top candidates successfully sampled: 100\n",
      "Quality of current prediction: 1\n",
      "number of total candidates sampled: 278\n",
      "number of unique top candidates successfully sampled: 100\n",
      "Quality of current prediction: 1\n",
      "number of total candidates sampled: 268\n",
      "number of unique top candidates successfully sampled: 100\n",
      "Quality of current prediction: 0\n",
      "number of total candidates sampled: 218\n",
      "number of unique top candidates successfully sampled: 100\n",
      "Quality of current prediction: 1\n",
      "number of total candidates sampled: 320\n",
      "number of unique top candidates successfully sampled: 100\n",
      "Quality of current prediction: 1\n"
     ]
    }
   ],
   "source": [
    "prediction_length = 8\n",
    "num_candidates = 100\n",
    "max_iter = 100\n",
    "\n",
    "target_list = peptide_validation_mismatchs[:, 0]\n",
    "label_list = peptide_validation_mismatchs[:, 3]\n",
    "\n",
    "validation_rank_list = []\n",
    "\n",
    "for target, label in zip(target_list, label_list):\n",
    "\tpeptide_candidates = sample_candidates(model_wide_validation, target, num_candidates, amino_dict, prediction_length + 2, device, max_iter=max_iter)\n",
    "\t\n",
    "\tcount = 0\n",
    "\tfor pred, prob in peptide_candidates:\n",
    "\t\tif pred == label:\n",
    "\t\t\tvalidation_rank_list.append(count)\n",
    "\t\t\tprint(\"Quality of current prediction:\", count)\n",
    "\t\t\tbreak \n",
    "\t\tcount += 1\n"
   ]
  },
  {
   "cell_type": "code",
   "execution_count": 92,
   "metadata": {},
   "outputs": [
    {
     "name": "stdout",
     "output_type": "stream",
     "text": [
      "------------------------\n",
      "Frequency of elements is:\n",
      "Counter({1: 191, 0: 85, 2: 42, 3: 18, 4: 6, 5: 2, 6: 2})\n"
     ]
    }
   ],
   "source": [
    "import collections\n",
    "\n",
    "frequencyDict = collections.Counter(validation_rank_list)\n",
    "\n",
    "print('------------------------')\n",
    "print(\"Frequency of elements is:\")\n",
    "print(frequencyDict)"
   ]
  },
  {
   "cell_type": "markdown",
   "metadata": {},
   "source": [
    "# Task 6+: Model Wide Validation comparison with Model Wide"
   ]
  },
  {
   "cell_type": "markdown",
   "metadata": {},
   "source": [
    "#### Build Model Wide"
   ]
  },
  {
   "cell_type": "code",
   "execution_count": 85,
   "metadata": {},
   "outputs": [
    {
     "name": "stdout",
     "output_type": "stream",
     "text": [
      "Wide model: total number of parameters: 29437976\n",
      "Wide model: total number of trainable parameters: 29437976\n"
     ]
    },
    {
     "data": {
      "text/plain": [
       "<All keys matched successfully>"
      ]
     },
     "execution_count": 85,
     "metadata": {},
     "output_type": "execute_result"
    }
   ],
   "source": [
    "query_size, key_size, value_size, num_hiddens = 512, 512, 512, 512\n",
    "num_layers, dropout = 4, 0.1\n",
    "lr, num_epochs, batch_size, label_smoothing = 0.0004, 500, 6000, 0.1\n",
    "ffn_num_input, ffn_num_hiddens, num_heads = 512, 2048, 8\n",
    "\n",
    "norm_shape = [512] # 32 corresponds to the dim of such number to normalize\n",
    "device = d2l.try_gpu()\n",
    "\n",
    "\n",
    "encoder_wide = TransformerEncoder(\n",
    "\tlen(amino_dict), key_size, query_size, value_size, num_hiddens, \n",
    "\tnorm_shape, ffn_num_input, ffn_num_hiddens, num_heads,\n",
    "\tnum_layers, dropout)\n",
    "decoder_wide = TransformerDecoder(\n",
    "\tlen(amino_dict), key_size, query_size, value_size, num_hiddens, \n",
    "\tnorm_shape, ffn_num_input, ffn_num_hiddens, num_heads,\n",
    "\tnum_layers, dropout)\n",
    "model_wide = EncoderDecoder(encoder_wide, decoder_wide)\n",
    "\n",
    "\n",
    "model_wide_total_params = sum(p.numel() for p in model_wide.parameters())\n",
    "model_wide_total_trainable_params = sum(p.numel() for p in model_wide.parameters() if p.requires_grad)\n",
    "\n",
    "print('Wide model: total number of parameters: {}'.format(model_wide_total_params))\n",
    "print('Wide model: total number of trainable parameters: {}'.format(model_wide_total_trainable_params))\n",
    "\n",
    "\n",
    "model_wide.load_state_dict(torch.load(\"model_wide_22Jul16_1011AM\", map_location = ('cpu')))"
   ]
  },
  {
   "cell_type": "code",
   "execution_count": 86,
   "metadata": {},
   "outputs": [
    {
     "name": "stdout",
     "output_type": "stream",
     "text": [
      "Iteration: 0\n",
      "Iteration: 1\n",
      "Iteration: 2\n",
      "(346, 4)\n"
     ]
    }
   ],
   "source": [
    "# generated peptides 2d array\n",
    "\n",
    "PDB_targets = list(peptide_validation_mismatchs[:, 0])\n",
    "\n",
    "num_minibatch = 100\n",
    "\n",
    "peptide_pred_list = []\n",
    "num_iter = int(len(PDB_targets)//num_minibatch + 1)\n",
    "\n",
    "for i in range(num_iter):\n",
    "\n",
    "\t# deal with minibatch ending\n",
    "\tif num_minibatch*i+num_minibatch > len(PDB_targets):\n",
    "\t\tpeptide_pred = predict_greedy_batch(model_wide, PDB_targets[num_minibatch*i:], amino_dict, prediction_length + 2, device)\n",
    "\t\tpeptide_pred_list.append(peptide_pred)\n",
    "\t\tbreak\n",
    "\n",
    "\tpeptide_pred = predict_greedy_batch(model_wide, PDB_targets[num_minibatch*i:num_minibatch*i+num_minibatch], amino_dict, prediction_length + 2, device)\n",
    "\tpeptide_pred_list.append(peptide_pred)\n",
    "\n",
    "\t# track iteration\n",
    "\tif i%1 == 0:\n",
    "\t\tprint(\"Iteration: {}\".format(i))\n",
    "\n",
    "peptide_pred_array = np.vstack(peptide_pred_list)\n",
    "peptide_pred_array_new = np.hstack([peptide_pred_array, np.array(peptide_validation_mismatchs[:, 3]).reshape(-1, 1)])\n",
    "# target, prediction, greedy_prob, label\n",
    "\n",
    "print(peptide_pred_array_new.shape)"
   ]
  },
  {
   "cell_type": "code",
   "execution_count": 89,
   "metadata": {},
   "outputs": [
    {
     "name": "stdout",
     "output_type": "stream",
     "text": [
      "target      prediction      probability       PDB_label\n",
      "[['LLETNQTL' 'PQKLTFTF' '0.5374112129211426' 'PQKLTFTF']\n",
      " ['NRIELKGT' 'VEARTKYK' '0.4158034920692444' 'VVARTKYK']\n",
      " ['PQFKVDGK' 'FKAETNIS' '0.4542434513568878' 'FKAETNIS']\n",
      " ['IRATWVLG' 'GQTILIAT' '0.4963897168636322' 'GQTILIAT']\n",
      " ['NIGCIFTG' 'VNYIYITK' '0.32092902064323425' 'VNYIYITK']\n",
      " ['AQGFILDL' 'VTRAELRA' '0.35875627398490906' 'VTRAELRA']\n",
      " ['LKLFSIDR' 'VVVCSASH' '0.5300334095954895' 'VVVCSASH']\n",
      " ['SRIIHLSV' 'LLTFSVET' '0.6091046333312988' 'LLTFSVET']\n",
      " ['KGEFQVIG' 'TYRYIGTL' '0.39827749133110046' 'TYRYIGTL']\n",
      " ['ALENRSIT' 'AVSEESIA' '0.34858235716819763' 'ALGMENRQ']\n",
      " ['HIKADMKL' 'EYSYKFET' '0.35157835483551025' 'EYSYKFET']\n",
      " ['NSAILKTW' 'FNISQNLV' '0.5170300006866455' 'FNISQNLV']\n",
      " ['TLSLDVLY' 'GVGLRVGL' '0.43975403904914856' 'GVGLRVGL']\n",
      " ['KLRMEGNV' 'DGDIVFHH' '0.12972690165042877' 'DGDIVFHH']\n",
      " ['HRVVAGYD' 'YQGAVSVY' '0.3505645990371704' 'YQGAVSVY']\n",
      " ['SLYVSATV' 'QIGFIVFA' '0.5406473278999329' 'QIGFIVFA']\n",
      " ['NIEVTVIN' 'TVAYQLTL' '0.49298208951950073' 'RFKYTKRG']\n",
      " ['GIFSKDLV' 'MEIFKYPV' '0.3879748284816742' 'MEIFKYPV']\n",
      " ['DIEITFAF' 'GVKIRCTA' '0.3516589105129242' 'GVKIRCTA']\n",
      " ['HMKIEEKI' 'RLMIMGHL' '0.3747875690460205' 'STETTFLV']]\n",
      "Number of model wide validation mismatches classified correct by model wide: 274\n"
     ]
    }
   ],
   "source": [
    "print(\"target      prediction      probability       PDB_label\")\n",
    "print(peptide_pred_array_new[0:20, :])\n",
    "print(\"Number of model wide validation mismatches classified correct by model wide:\", sum(peptide_pred_array_new[:,1] == peptide_pred_array_new[:,3]))"
   ]
  },
  {
   "cell_type": "markdown",
   "metadata": {},
   "source": [
    "# Task 7: Model Wide Random Peptides Scoring"
   ]
  },
  {
   "cell_type": "markdown",
   "metadata": {},
   "source": [
    "#### Build model wide"
   ]
  },
  {
   "cell_type": "code",
   "execution_count": 40,
   "metadata": {},
   "outputs": [
    {
     "name": "stdout",
     "output_type": "stream",
     "text": [
      "Wide model: total number of parameters: 29437976\n",
      "Wide model: total number of trainable parameters: 29437976\n"
     ]
    },
    {
     "data": {
      "text/plain": [
       "<All keys matched successfully>"
      ]
     },
     "execution_count": 40,
     "metadata": {},
     "output_type": "execute_result"
    }
   ],
   "source": [
    "query_size, key_size, value_size, num_hiddens = 512, 512, 512, 512\n",
    "num_layers, dropout = 4, 0.1\n",
    "lr, num_epochs, batch_size, label_smoothing = 0.0004, 500, 6000, 0.1\n",
    "ffn_num_input, ffn_num_hiddens, num_heads = 512, 2048, 8\n",
    "\n",
    "norm_shape = [512] # 32 corresponds to the dim of such number to normalize\n",
    "device = d2l.try_gpu()\n",
    "\n",
    "\n",
    "encoder_wide = TransformerEncoder(\n",
    "\tlen(amino_dict), key_size, query_size, value_size, num_hiddens, \n",
    "\tnorm_shape, ffn_num_input, ffn_num_hiddens, num_heads,\n",
    "\tnum_layers, dropout)\n",
    "decoder_wide = TransformerDecoder(\n",
    "\tlen(amino_dict), key_size, query_size, value_size, num_hiddens, \n",
    "\tnorm_shape, ffn_num_input, ffn_num_hiddens, num_heads,\n",
    "\tnum_layers, dropout)\n",
    "model_wide = EncoderDecoder(encoder_wide, decoder_wide)\n",
    "\n",
    "\n",
    "model_wide_total_params = sum(p.numel() for p in model_wide.parameters())\n",
    "model_wide_total_trainable_params = sum(p.numel() for p in model_wide.parameters() if p.requires_grad)\n",
    "\n",
    "print('Wide model: total number of parameters: {}'.format(model_wide_total_params))\n",
    "print('Wide model: total number of trainable parameters: {}'.format(model_wide_total_trainable_params))\n",
    "\n",
    "\n",
    "model_wide.load_state_dict(torch.load(\"model_wide_22Jul16_1011AM\", map_location = ('cpu')))"
   ]
  },
  {
   "cell_type": "markdown",
   "metadata": {},
   "source": [
    "#### Sample_random_labels"
   ]
  },
  {
   "cell_type": "code",
   "execution_count": 81,
   "metadata": {},
   "outputs": [],
   "source": [
    "num_random_sequences = 10000\n",
    "PBD_target = 'HMKIEEKI' \n",
    "\n",
    "amino_list = list(amino_dict.keys())[4:]\n",
    "\n",
    "random_labels = [\"\".join(list(np.random.choice(amino_list, 8))) for i in range(num_random_sequences)]"
   ]
  },
  {
   "cell_type": "code",
   "execution_count": 82,
   "metadata": {},
   "outputs": [],
   "source": [
    "prediction_length = 8\n",
    "\n",
    "random_probs = []\n",
    "for random_label in random_labels:\n",
    "\tprob = evaluate_single(model_wide, PBD_target, random_label,amino_dict, prediction_length + 2, device, print_info=False)\n",
    "\trandom_probs.append(prob)\n",
    "\n",
    "random_evaluation = list(zip(random_labels, random_probs))"
   ]
  },
  {
   "cell_type": "code",
   "execution_count": 83,
   "metadata": {},
   "outputs": [
    {
     "name": "stdout",
     "output_type": "stream",
     "text": [
      "Number of random labels evaluated: 10000\n"
     ]
    },
    {
     "data": {
      "text/plain": [
       "[('VDRWFFNR', 1.6898096544368358e-19),\n",
       " ('DKEEYDEL', 4.054197965552743e-15),\n",
       " ('EHCYTFLG', 7.159238665080767e-15),\n",
       " ('RYWFFNED', 3.928847362980809e-15),\n",
       " ('FGNSKPGF', 5.030933287987126e-20),\n",
       " ('DHGLMRHS', 9.792497540585932e-20),\n",
       " ('LCFWCIRF', 1.3745241553917255e-20),\n",
       " ('HGTGRQCN', 1.506221163107636e-13),\n",
       " ('NYQVYSAH', 6.390941832776163e-17),\n",
       " ('HSMWDITT', 4.2444908051179135e-16),\n",
       " ('VCTTQLEF', 1.576450439330073e-17),\n",
       " ('LYASQHNI', 7.372559497277601e-15),\n",
       " ('YNLMRYNV', 5.3469059956310115e-17),\n",
       " ('DRCPKFCQ', 4.4248493653467896e-17),\n",
       " ('KLKVQMPV', 8.249862578802475e-15),\n",
       " ('MWREFCEQ', 6.501000107068834e-19),\n",
       " ('SRIKQLIN', 5.364662895734981e-16),\n",
       " ('PMNSNWHR', 1.533988095089106e-19),\n",
       " ('GKNICKCV', 2.3185984424901615e-18),\n",
       " ('YTGGNGKD', 4.806006310216482e-18)]"
      ]
     },
     "execution_count": 83,
     "metadata": {},
     "output_type": "execute_result"
    }
   ],
   "source": [
    "print('Number of random labels evaluated: {}'.format(num_random_sequences))\n",
    "random_evaluation[:20]"
   ]
  },
  {
   "cell_type": "markdown",
   "metadata": {},
   "source": [
    "#### Statistical analysis"
   ]
  },
  {
   "cell_type": "code",
   "execution_count": 84,
   "metadata": {},
   "outputs": [
    {
     "data": {
      "text/plain": [
       "count    1.000000e+04\n",
       "mean     2.784817e-11\n",
       "std      2.757911e-09\n",
       "min      5.837174e-24\n",
       "25%      4.414028e-19\n",
       "50%      8.484333e-18\n",
       "75%      2.069746e-16\n",
       "max      2.757901e-07\n",
       "dtype: float64"
      ]
     },
     "execution_count": 84,
     "metadata": {},
     "output_type": "execute_result"
    }
   ],
   "source": [
    "random_probs_series = pd.Series(random_probs)\n",
    "random_probs_series.describe()"
   ]
  },
  {
   "cell_type": "markdown",
   "metadata": {},
   "source": [
    "# Task 8: Model Wide Generation Frequency Check"
   ]
  },
  {
   "cell_type": "markdown",
   "metadata": {},
   "source": [
    "#### Build model wide"
   ]
  },
  {
   "cell_type": "code",
   "execution_count": 40,
   "metadata": {},
   "outputs": [
    {
     "name": "stdout",
     "output_type": "stream",
     "text": [
      "Wide model: total number of parameters: 29437976\n",
      "Wide model: total number of trainable parameters: 29437976\n"
     ]
    },
    {
     "data": {
      "text/plain": [
       "<All keys matched successfully>"
      ]
     },
     "execution_count": 40,
     "metadata": {},
     "output_type": "execute_result"
    }
   ],
   "source": [
    "query_size, key_size, value_size, num_hiddens = 512, 512, 512, 512\n",
    "num_layers, dropout = 4, 0.1\n",
    "lr, num_epochs, batch_size, label_smoothing = 0.0004, 500, 6000, 0.1\n",
    "ffn_num_input, ffn_num_hiddens, num_heads = 512, 2048, 8\n",
    "\n",
    "norm_shape = [512] # 32 corresponds to the dim of such number to normalize\n",
    "device = d2l.try_gpu()\n",
    "\n",
    "\n",
    "encoder_wide = TransformerEncoder(\n",
    "\tlen(amino_dict), key_size, query_size, value_size, num_hiddens, \n",
    "\tnorm_shape, ffn_num_input, ffn_num_hiddens, num_heads,\n",
    "\tnum_layers, dropout)\n",
    "decoder_wide = TransformerDecoder(\n",
    "\tlen(amino_dict), key_size, query_size, value_size, num_hiddens, \n",
    "\tnorm_shape, ffn_num_input, ffn_num_hiddens, num_heads,\n",
    "\tnum_layers, dropout)\n",
    "model_wide = EncoderDecoder(encoder_wide, decoder_wide)\n",
    "\n",
    "\n",
    "model_wide_total_params = sum(p.numel() for p in model_wide.parameters())\n",
    "model_wide_total_trainable_params = sum(p.numel() for p in model_wide.parameters() if p.requires_grad)\n",
    "\n",
    "print('Wide model: total number of parameters: {}'.format(model_wide_total_params))\n",
    "print('Wide model: total number of trainable parameters: {}'.format(model_wide_total_trainable_params))\n",
    "\n",
    "\n",
    "model_wide.load_state_dict(torch.load(\"model_wide_22Jul16_1011AM\", map_location = ('cpu')))"
   ]
  },
  {
   "cell_type": "markdown",
   "metadata": {},
   "source": [
    "#### Prepare length 8 samples"
   ]
  },
  {
   "cell_type": "code",
   "execution_count": 41,
   "metadata": {},
   "outputs": [
    {
     "name": "stdout",
     "output_type": "stream",
     "text": [
      "number of length 8 samples:  (51714, 10)\n",
      "number of unique length 8 sample:  (39952, 10)\n"
     ]
    }
   ],
   "source": [
    "# select unique length 8 samples\n",
    "\n",
    "prediction_length = 8\n",
    "\n",
    "# unique length 8 targets\n",
    "target_indices = np.arange(BSn_data_dataset2.shape[0]).reshape(-1, 1)\n",
    "BSn_data_dataset2_indices = np.hstack([BSn_data_dataset2, target_indices])\n",
    "\n",
    "condition1 = np.nonzero(np.array([length==prediction_length for length in BSn_data_dataset2_indices[:, 4]]))\n",
    "BSn_data_dataset2_indices_length_8 = BSn_data_dataset2_indices[condition1]\n",
    "\n",
    "condition2 = np.nonzero(np.array([freq==1 for freq in BSn_data_dataset2_indices_length_8[:, -2]]))\n",
    "BSn_data_dataset2_indices_length_8_unique = BSn_data_dataset2_indices_length_8[condition2]\n",
    "\n",
    "\n",
    "print(\"number of length 8 samples: \", BSn_data_dataset2_indices_length_8.shape)\n",
    "print(\"number of unique length 8 sample: \", BSn_data_dataset2_indices_length_8_unique.shape)\n",
    "# target, complementary_seq, counts, promiscuity, length, working_score, hb_pattern, para/anti, freq, indices"
   ]
  },
  {
   "cell_type": "code",
   "execution_count": 43,
   "metadata": {},
   "outputs": [
    {
     "name": "stdout",
     "output_type": "stream",
     "text": [
      "(39952, 8)\n",
      "[[ 4 12 21  7 11  5 22 21]\n",
      " [13  6  8 21 13  4 20  4]\n",
      " [21 13 18 10 15 20 19 20]\n",
      " [12 22 15  4 21  4 13 22]]\n"
     ]
    }
   ],
   "source": [
    "# process PDB label to 2d array \n",
    "PDB_labels = BSn_data_dataset2_indices_length_8_unique[:, 1]\n",
    "PDB_label_2darray = np.array([[amino_dict[letter] for letter in label] for label in PDB_labels])\n",
    "print(PDB_label_2darray.shape)\n",
    "print(PDB_label_2darray[1:5, :])"
   ]
  },
  {
   "cell_type": "code",
   "execution_count": 49,
   "metadata": {},
   "outputs": [
    {
     "name": "stdout",
     "output_type": "stream",
     "text": [
      "Iteration: 0\n",
      "Iteration: 50\n",
      "Iteration: 100\n",
      "Iteration: 150\n",
      "Iteration: 200\n",
      "Iteration: 250\n",
      "Iteration: 300\n",
      "Iteration: 350\n",
      "(39952, 4)\n"
     ]
    }
   ],
   "source": [
    "# generated peptides 2d array\n",
    "\n",
    "PDB_targets = list(BSn_data_dataset2_indices_length_8_unique[:, 0])\n",
    "\n",
    "num_minibatch = 100\n",
    "\n",
    "peptide_pred_list = []\n",
    "num_iter = int(len(PDB_targets)//num_minibatch + 1)\n",
    "\n",
    "for i in range(num_iter):\n",
    "\n",
    "\t# deal with minibatch ending\n",
    "\tif num_minibatch*i+num_minibatch > len(PDB_targets):\n",
    "\t\tpeptide_pred = predict_greedy_batch(model_wide, PDB_targets[num_minibatch*i:], amino_dict, prediction_length + 2, device)\n",
    "\t\tpeptide_pred_list.append(peptide_pred)\n",
    "\t\tbreak\n",
    "\n",
    "\tpeptide_pred = predict_greedy_batch(model_wide, PDB_targets[num_minibatch*i:num_minibatch*i+num_minibatch], amino_dict, prediction_length + 2, device)\n",
    "\tpeptide_pred_list.append(peptide_pred)\n",
    "\n",
    "\t# track iteration\n",
    "\tif i%50 == 0:\n",
    "\t\tprint(\"Iteration: {}\".format(i))\n",
    "\n",
    "peptide_pred_array = np.vstack(peptide_pred_list)\n",
    "peptide_pred_array_new = np.hstack([peptide_pred_array, np.array(PDB_labels).reshape(-1, 1)])\n",
    "# target, prediction, greedy_prob, label\n",
    "\n",
    "print(peptide_pred_array_new.shape)"
   ]
  },
  {
   "cell_type": "code",
   "execution_count": 50,
   "metadata": {},
   "outputs": [
    {
     "name": "stdout",
     "output_type": "stream",
     "text": [
      "(39952, 8)\n",
      "[[ 4 12 21  7 11  5 22 21]\n",
      " [13  6  8 21 13  4 20  4]\n",
      " [21 13 18 10 15 20 19 20]\n",
      " [12 22 15  4 21  4 13 22]]\n"
     ]
    }
   ],
   "source": [
    "# Process model prediction to 2d array \n",
    "\n",
    "Generated_peptides_2darray = np.array([[amino_dict[letter] for letter in label] for label in peptide_pred_array_new[:, 1]])\n",
    "print(Generated_peptides_2darray.shape)\n",
    "print(Generated_peptides_2darray[1:5, :])"
   ]
  },
  {
   "cell_type": "markdown",
   "metadata": {},
   "source": [
    "#### Save frequency table"
   ]
  },
  {
   "cell_type": "code",
   "execution_count": 66,
   "metadata": {},
   "outputs": [
    {
     "name": "stdout",
     "output_type": "stream",
     "text": [
      "------------------------\n",
      "(20, 8)\n",
      "Frequency Table is:\n",
      "[[0.05724369 0.06750601 0.07101021]\n",
      " [0.01281538 0.01486784 0.01704545]\n",
      " [0.04465358 0.02961053 0.03051161]\n",
      " [0.05749399 0.0551662  0.05321386]\n",
      " [0.05456548 0.06132359 0.0597467 ]\n",
      " [0.04703144 0.05188726 0.05551662]\n",
      " [0.02490489 0.02182619 0.02215158]\n",
      " [0.07291249 0.08415098 0.08269924]\n",
      " [0.05401482 0.04680617 0.04385262]\n",
      " [0.08840609 0.09731678 0.09749199]\n",
      " [0.01596916 0.01842211 0.01829696]\n",
      " [0.0384962  0.02625651 0.02610633]\n",
      " [0.02738286 0.01168903 0.00971165]\n",
      " [0.03524229 0.03153785 0.03128755]\n",
      " [0.05444033 0.05231278 0.04813276]\n",
      " [0.05829495 0.0534141  0.0574189 ]\n",
      " [0.07388867 0.07664197 0.08164798]\n",
      " [0.10770425 0.12297257 0.12685222]\n",
      " [0.01732078 0.01897277 0.0164197 ]\n",
      " [0.05721866 0.05731878 0.05088606]]\n"
     ]
    }
   ],
   "source": [
    "import collections\n",
    "PDB_frequency = np.zeros((24, 8))\n",
    "\n",
    "for pos in range(8):\n",
    "\tPDB_frequency_dict = collections.Counter(PDB_label_2darray[:, pos])\n",
    "\tfor key in PDB_frequency_dict.keys():\n",
    "\t\tPDB_frequency[key, pos] = PDB_frequency_dict[key]\n",
    "\n",
    "PDB_frequency_new = np.delete(PDB_frequency, [0, 1, 2, 3], axis=0) / PDB_label_2darray.shape[0]\n",
    "\n",
    "# save to csv file\n",
    "np.savetxt('PDB_label_frequency.csv', PDB_frequency_new, delimiter=',', fmt='%s')\n",
    "\n",
    "\n",
    "print('------------------------')\n",
    "print(PDB_frequency_new.shape)\n",
    "print(\"Frequency Table is:\")\n",
    "print(PDB_frequency_new[:, 0:3])"
   ]
  },
  {
   "cell_type": "code",
   "execution_count": 67,
   "metadata": {},
   "outputs": [
    {
     "name": "stdout",
     "output_type": "stream",
     "text": [
      "------------------------\n",
      "(20, 8)\n",
      "Frequency Table is:\n",
      "[[0.05671806 0.06725571 0.07113536]\n",
      " [0.01306568 0.0149179  0.01697036]\n",
      " [0.04477873 0.02956047 0.0305867 ]\n",
      " [0.05751902 0.05536644 0.05338907]\n",
      " [0.05504105 0.06192431 0.0597467 ]\n",
      " [0.04745695 0.05188726 0.05511614]\n",
      " [0.0250801  0.02177613 0.02210152]\n",
      " [0.07246195 0.08422607 0.08292451]\n",
      " [0.05411494 0.04680617 0.0437525 ]\n",
      " [0.08780537 0.09731678 0.09711654]\n",
      " [0.01619443 0.01827193 0.01822187]\n",
      " [0.03859632 0.0263316  0.02613136]\n",
      " [0.02775831 0.01171406 0.00973668]\n",
      " [0.03511714 0.03128755 0.03121245]\n",
      " [0.05429015 0.05233781 0.04843312]\n",
      " [0.05784441 0.05313877 0.0571686 ]\n",
      " [0.07383861 0.07634161 0.08182319]\n",
      " [0.10742891 0.12367341 0.12687725]\n",
      " [0.01744594 0.01884762 0.01656988]\n",
      " [0.05744393 0.05701842 0.05098618]]\n"
     ]
    }
   ],
   "source": [
    "import collections\n",
    "generated_frequency = np.zeros((24, 8))\n",
    "\n",
    "for pos in range(8):\n",
    "\tgenerated_frequency_dict = collections.Counter(Generated_peptides_2darray[:, pos])\n",
    "\tfor key in generated_frequency_dict.keys():\n",
    "\t\tgenerated_frequency[key, pos] = generated_frequency_dict[key]\n",
    "\n",
    "generated_frequency_new = np.delete(generated_frequency, [0, 1, 2, 3], axis=0) / Generated_peptides_2darray.shape[0]\n",
    "\n",
    "# save to csv file\n",
    "np.savetxt('Generated_peptides_frequency.csv', generated_frequency_new, delimiter=',', fmt='%s')\n",
    "\n",
    "\n",
    "print('------------------------')\n",
    "print(generated_frequency_new.shape)\n",
    "print(\"Frequency Table is:\")\n",
    "print(generated_frequency_new[:, 0:3])"
   ]
  },
  {
   "cell_type": "markdown",
   "metadata": {},
   "source": [
    "# Task 9: Visualize attention weights"
   ]
  },
  {
   "cell_type": "markdown",
   "metadata": {},
   "source": [
    "#### Build Model Wide"
   ]
  },
  {
   "cell_type": "code",
   "execution_count": 73,
   "metadata": {},
   "outputs": [
    {
     "name": "stdout",
     "output_type": "stream",
     "text": [
      "Wide model: total number of parameters: 29437976\n",
      "Wide model: total number of trainable parameters: 29437976\n"
     ]
    },
    {
     "data": {
      "text/plain": [
       "<All keys matched successfully>"
      ]
     },
     "execution_count": 73,
     "metadata": {},
     "output_type": "execute_result"
    }
   ],
   "source": [
    "query_size, key_size, value_size, num_hiddens = 512, 512, 512, 512\n",
    "num_layers, dropout = 4, 0.1\n",
    "lr, num_epochs, batch_size, label_smoothing = 0.0004, 500, 6000, 0.1\n",
    "ffn_num_input, ffn_num_hiddens, num_heads = 512, 2048, 8\n",
    "\n",
    "norm_shape = [512] # 32 corresponds to the dim of such number to normalize\n",
    "device = d2l.try_gpu()\n",
    "\n",
    "\n",
    "encoder_wide = TransformerEncoder(\n",
    "\tlen(amino_dict), key_size, query_size, value_size, num_hiddens, \n",
    "\tnorm_shape, ffn_num_input, ffn_num_hiddens, num_heads,\n",
    "\tnum_layers, dropout)\n",
    "decoder_wide = TransformerDecoder(\n",
    "\tlen(amino_dict), key_size, query_size, value_size, num_hiddens, \n",
    "\tnorm_shape, ffn_num_input, ffn_num_hiddens, num_heads,\n",
    "\tnum_layers, dropout)\n",
    "model_wide = EncoderDecoder(encoder_wide, decoder_wide)\n",
    "\n",
    "\n",
    "model_wide_total_params = sum(p.numel() for p in model_wide.parameters())\n",
    "model_wide_total_trainable_params = sum(p.numel() for p in model_wide.parameters() if p.requires_grad)\n",
    "\n",
    "print('Wide model: total number of parameters: {}'.format(model_wide_total_params))\n",
    "print('Wide model: total number of trainable parameters: {}'.format(model_wide_total_trainable_params))\n",
    "\n",
    "\n",
    "model_wide.load_state_dict(torch.load(\"model_wide_22Jul16_1011AM\", map_location = ('cpu')))"
   ]
  },
  {
   "cell_type": "markdown",
   "metadata": {},
   "source": [
    "#### Save attention weights for one prediction"
   ]
  },
  {
   "cell_type": "code",
   "execution_count": 76,
   "metadata": {},
   "outputs": [],
   "source": [
    "# interesting examples to demonstrate the power of the model\n",
    "\n",
    "PNAS_target_1 = 'EQVTNVG' # paper chosen peptide = 'EILVSYQ' (alpha-synuclein residues 61-67)\n",
    "\n",
    "prediction_length = 7"
   ]
  },
  {
   "cell_type": "code",
   "execution_count": 77,
   "metadata": {},
   "outputs": [
    {
     "name": "stdout",
     "output_type": "stream",
     "text": [
      "Conditional probability at position 1 is 0.8766991496086121\n",
      "Conditional probability at position 2 is 0.9402917623519897\n",
      "Conditional probability at position 3 is 0.9251704216003418\n",
      "Conditional probability at position 4 is 0.955545961856842\n",
      "Conditional probability at position 5 is 0.9349386692047119\n",
      "Conditional probability at position 6 is 0.9246085286140442\n",
      "Conditional probability at position 7 is 0.8873682618141174\n",
      "Conditional probability at position 8 is 0.924082338809967\n",
      "Input target sequence is EQVTNVG, predicted complementary peptide is QYSVLIF\n",
      "Condition on input, predicted probability is 0.5165853870927324\n"
     ]
    }
   ],
   "source": [
    "dec_comple_peptide_pred, dec_prob, dec_attention_weight_seq = predict_greedy_single(model_wide, 'EQVTNVG', amino_dict, prediction_length + 2, device, save_attention_weights=True, print_info=True)"
   ]
  },
  {
   "cell_type": "markdown",
   "metadata": {},
   "source": [
    "#### Bertviz visualization"
   ]
  },
  {
   "cell_type": "code",
   "execution_count": 103,
   "metadata": {},
   "outputs": [
    {
     "name": "stdout",
     "output_type": "stream",
     "text": [
      "torch.Size([1, 8, 9, 9])\n",
      "torch.Size([1, 8, 8, 8])\n",
      "torch.Size([1, 8, 8, 9])\n",
      "['E', 'Q', 'V', 'T', 'N', 'V', 'G', '<eos>', '<pad>']\n",
      "['Q', 'Y', 'S', 'V', 'L', 'I', 'F', '<eos>']\n"
     ]
    }
   ],
   "source": [
    "encoder_self_attention = [torch.unsqueeze(attention, dim=0) for attention in model_wide.encoder.attention_weights]\n",
    "decoder_self_attention = [torch.unsqueeze(attention, dim=0) for attention in dec_attention_weight_seq[-1][0]]\n",
    "decoder_encoder_attention = [torch.unsqueeze(attention, dim=0) for attention in dec_attention_weight_seq[-1][1]]\n",
    "# decoder_self_attention = dec_attention_weight_seq[-1][0]\n",
    "# decoder_encoder_attention = dec_attention_weight_seq[-1][1]\n",
    "\n",
    "encoder_text = list('EQVTNVG') + ['<eos>', '<pad>']\n",
    "decoder_text = list(dec_comple_peptide_pred) + ['<eos>']\n",
    "\n",
    "print(encoder_self_attention[0].shape)\n",
    "print(decoder_self_attention[0].shape)\n",
    "print(decoder_encoder_attention[0].shape)\n",
    "print(encoder_text)\n",
    "print(decoder_text)"
   ]
  },
  {
   "cell_type": "code",
   "execution_count": 113,
   "metadata": {},
   "outputs": [
    {
     "data": {
      "text/html": [
       "<script src=\"https://cdnjs.cloudflare.com/ajax/libs/require.js/2.3.6/require.min.js\"></script>"
      ],
      "text/plain": [
       "<IPython.core.display.HTML object>"
      ]
     },
     "metadata": {},
     "output_type": "display_data"
    },
    {
     "data": {
      "text/html": [
       "      \n",
       "        <div id=\"bertviz-db5558ca8f5441c6adf55dfdccd23421\" style=\"font-family:'Helvetica Neue', Helvetica, Arial, sans-serif;\">\n",
       "            <span style=\"user-select:none\">\n",
       "                Attention: <select id=\"filter\"><option value=\"0\">Encoder</option>\n",
       "<option value=\"1\">Decoder</option>\n",
       "<option value=\"2\">Cross</option></select>\n",
       "            </span>\n",
       "            <div id='vis'></div>\n",
       "        </div>\n",
       "    "
      ],
      "text/plain": [
       "<IPython.core.display.HTML object>"
      ]
     },
     "metadata": {},
     "output_type": "display_data"
    },
    {
     "data": {
      "application/javascript": "/**\n * @fileoverview Transformer Visualization D3 javascript code.\n *\n * Based on: https://github.com/tensorflow/tensor2tensor/blob/master/tensor2tensor/visualization/attention.js\n *\n * Change log:\n *\n * 02/01/19  Jesse Vig   Initial implementation\n * 12/31/20  Jesse Vig   Support multiple visualizations in single notebook.\n * 01/19/21  Jesse Vig   Support light/dark modes\n * 02/06/21  Jesse Vig   Move require config from separate jupyter notebook step\n * 05/03/21  Jesse Vig   Adjust visualization height dynamically\n * 03/23/22  Daniel SC   Update requirement URLs for d3 and jQuery (source of bug not allowing end result to be displayed on browsers)\n **/\n\nrequire.config({\n  paths: {\n      d3: 'https://cdnjs.cloudflare.com/ajax/libs/d3/5.7.0/d3.min',\n    jquery: 'https://cdnjs.cloudflare.com/ajax/libs/jquery/2.0.0/jquery.min',\n  }\n});\n\nrequirejs(['jquery', 'd3'], function($, d3) {\n\n        const params = {\"attention\": [{\"name\": \"Encoder\", \"attn\": [[[[0.1146475151181221, 0.8302609324455261, 0.05499810352921486, 9.310716995969415e-05, 3.2050306231212744e-07, 1.2516911063187308e-08, 7.378405664226761e-10, 7.338711652984734e-18, 0.0], [0.9965884685516357, 0.00319258077070117, 0.00021891901269555092, 7.131946144767198e-09, 3.7235422671632115e-14, 1.0594716691618758e-15, 2.986244877680594e-13, 1.5077189563053843e-18, 0.0], [0.0007748212665319443, 0.9886252880096436, 0.010592875070869923, 7.099294634826947e-06, 2.9330312050629415e-12, 4.867065066800893e-19, 1.2053653386810058e-16, 4.915391026137773e-19, 0.0], [6.6201431238777e-15, 4.930248906021006e-06, 0.9982879757881165, 0.0017070421017706394, 8.053864775092734e-08, 3.4694178351960523e-16, 1.2884961705582968e-20, 8.40507865344103e-24, 0.0], [2.165715980726162e-31, 2.7438980921570674e-18, 5.929719577579817e-07, 0.9999587535858154, 4.0670773159945384e-05, 1.622509906377273e-13, 3.430885844425089e-24, 2.249003768865295e-36, 0.0], [8.407790785948902e-45, 2.530848750458741e-34, 3.639165050029902e-22, 4.833199227505247e-07, 0.9999983310699463, 1.2085919252058375e-06, 5.915515473298161e-15, 3.858943699851171e-30, 0.0], [0.0, 0.0, 2.0228700879005765e-35, 1.8551015454073948e-19, 5.715916131521226e-07, 0.9999796152114868, 1.9752867956412956e-05, 5.474055757912046e-20, 0.0], [0.0, 0.0, 0.0, 0.0, 0.0, 0.0, 0.0, 1.0, 0.0], [8.688050478813866e-44, 0.0, 0.0, 0.0, 6.848145595155381e-42, 5.8678960895539935e-24, 1.9878171331200178e-10, 1.0, 0.0]], [[3.6176526184428237e-12, 1.0, 4.7526499614604415e-19, 0.0, 0.0, 0.0, 0.0, 0.0, 0.0], [1.847306382190679e-28, 5.291930522260957e-12, 1.0, 2.1292922677592965e-17, 3.6952240504245426e-42, 0.0, 0.0, 0.0, 0.0], [0.0, 1.8163148738189084e-22, 9.327834504802013e-09, 1.0, 4.2203525396633523e-11, 2.6050979230876944e-40, 0.0, 0.0, 0.0], [0.0, 1.2833091336286675e-41, 8.848619846178817e-19, 6.295255289279211e-11, 1.0, 6.059313715654682e-17, 2.464183349515191e-40, 0.0, 0.0], [0.0, 0.0, 1.5391722202297358e-40, 1.1885753453899144e-24, 8.49358292032143e-11, 1.0, 1.8898755824170443e-11, 1.6639743277478012e-37, 0.0], [7.788332786809474e-39, 0.0, 0.0, 1.2611686178923354e-44, 1.2398003043717576e-23, 3.761607345054152e-11, 1.0, 1.2459634954940064e-16, 0.0], [1.0691054457403315e-22, 2.1468490121646038e-35, 0.0, 0.0, 9.80908925027372e-45, 2.5322756518413357e-24, 1.0390421856243393e-08, 1.0, 0.0], [0.0, 0.0, 0.0, 0.0, 0.0, 0.0, 2.1184045456522563e-39, 1.0, 0.0], [1.2099839945443403e-29, 2.361229917369201e-06, 0.999997615814209, 3.092370448598558e-08, 2.914712501651462e-17, 3.121961467215335e-34, 1.7909652275975748e-28, 2.9039857633777202e-21, 0.0]], [[0.005840528756380081, 0.01814328320324421, 0.20564234256744385, 0.4318316876888275, 0.2409166842699051, 0.07430310547351837, 0.01336608175188303, 0.009956233203411102, 0.0], [0.12840265035629272, 0.0821705088019371, 0.1577286422252655, 0.15655124187469482, 0.19041293859481812, 0.11191384494304657, 0.038688622415065765, 0.13413147628307343, 0.0], [0.3549915552139282, 0.1483001708984375, 0.0743449255824089, 0.0462186299264431, 0.04053156450390816, 0.031639084219932556, 0.043072961270809174, 0.2609011232852936, 0.0], [0.27902427315711975, 0.357711523771286, 0.16289390623569489, 0.03490887209773064, 0.013537702150642872, 0.00810605101287365, 0.01913018524646759, 0.12468738108873367, 0.0], [0.07186396420001984, 0.33080002665519714, 0.4159316122531891, 0.1206669732928276, 0.02593226358294487, 0.005744625348597765, 0.008949988521635532, 0.020110558718442917, 0.0], [0.004151626024395227, 0.057971831411123276, 0.29076075553894043, 0.4546601474285126, 0.15352682769298553, 0.023072965443134308, 0.013438382185995579, 0.0024174938444048166, 0.0], [0.000600641593337059, 0.005172075238078833, 0.06079595535993576, 0.38390177488327026, 0.3813099265098572, 0.14058658480644226, 0.0269246157258749, 0.0007083996315486729, 0.0], [0.0004775326233357191, 1.2995842553209513e-05, 0.0005075368680991232, 0.00224393792450428, 0.0086582126095891, 0.009983562864363194, 0.0006650147261098027, 0.9774511456489563, 0.0], [0.00827823393046856, 0.00330919586122036, 0.004306737333536148, 0.029630107805132866, 0.11275821924209595, 0.4726405143737793, 0.3284088969230652, 0.040668096393346786, 0.0]], [[0.03724818304181099, 0.19076916575431824, 0.1850205510854721, 0.16105258464813232, 0.3610203266143799, 0.03477085009217262, 0.01558060571551323, 0.014537589624524117, 0.0], [0.13475681841373444, 0.11252230405807495, 0.2728704512119293, 0.22096660733222961, 0.19573456048965454, 0.02594050206243992, 0.020253358408808708, 0.016955384984612465, 0.0], [0.09113786369562149, 0.3686482608318329, 0.09320414066314697, 0.13277789950370789, 0.250879168510437, 0.02427232265472412, 0.02134430781006813, 0.017736144363880157, 0.0], [0.07577396184206009, 0.28845006227493286, 0.13064342737197876, 0.10628533363342285, 0.33186212182044983, 0.036941710859537125, 0.01791125163435936, 0.012132174335420132, 0.0], [0.09656352549791336, 0.22966596484184265, 0.16008925437927246, 0.22617661952972412, 0.09786460548639297, 0.10056539624929428, 0.0650506392121315, 0.024024004116654396, 0.0], [0.012269849888980389, 0.0711890459060669, 0.024379471316933632, 0.08436507731676102, 0.4924497604370117, 0.12204565107822418, 0.14271734654903412, 0.05058377608656883, 0.0], [0.009878497570753098, 0.04762081801891327, 0.027717113494873047, 0.05304097756743431, 0.3847890794277191, 0.28548628091812134, 0.0813688114285469, 0.11009834706783295, 0.0], [4.776571131515084e-06, 4.6799282245046925e-06, 9.69502070802264e-06, 6.26429682597518e-05, 0.00016828264051582664, 0.0020492637995630503, 0.011923277750611305, 0.9857774376869202, 0.0], [0.019763847813010216, 0.02134031057357788, 0.009342550300061703, 0.038431450724601746, 0.09494511038064957, 0.13382816314697266, 0.45406919717788696, 0.22827935218811035, 0.0]], [[0.03647022694349289, 0.90770024061203, 0.008290794678032398, 0.004264139104634523, 0.027198616415262222, 0.0007861534249968827, 0.0013337767450138927, 0.013956255279481411, 0.0], [0.3660840690135956, 0.5009379982948303, 0.022206855937838554, 0.010289468802511692, 0.0328810028731823, 0.002872177865356207, 0.00414961576461792, 0.06057876721024513, 0.0], [0.21746470034122467, 0.7295443415641785, 0.010648240335285664, 0.0068717398680746555, 0.01651030406355858, 0.0015208981931209564, 0.0030436678789556026, 0.014396139420568943, 0.0], [0.11146926879882812, 0.8025796413421631, 0.025957804173231125, 0.016030212864279747, 0.03427140787243843, 0.001839831005781889, 0.004036250989884138, 0.0038156278897076845, 0.0], [0.0810311958193779, 0.7442671060562134, 0.0783277153968811, 0.040063679218292236, 0.04094884544610977, 0.0044021992944180965, 0.006498438771814108, 0.0044607967138290405, 0.0], [0.007494499906897545, 0.2646062672138214, 0.06948374211788177, 0.12429538369178772, 0.49139517545700073, 0.01779916323721409, 0.022612303495407104, 0.002313549630343914, 0.0], [0.000670968962367624, 0.023126276209950447, 0.024832911789417267, 0.1312142312526703, 0.739524781703949, 0.05184305086731911, 0.02801431715488434, 0.00077350705396384, 0.0], [0.00022512076247949153, 0.00011250108218519017, 0.00041636661626398563, 0.00029450684087350965, 0.0018047132762148976, 0.004061631392687559, 0.004527481272816658, 0.9885576963424683, 0.0], [0.001287722261622548, 0.004767010919749737, 0.005569335073232651, 0.05084673687815666, 0.4618363380432129, 0.25331175327301025, 0.2161525934934616, 0.006228458136320114, 0.0]], [[0.07087291032075882, 0.1789996474981308, 0.150530144572258, 0.2536708116531372, 0.15788958966732025, 0.059101033955812454, 0.05937585607171059, 0.06956009566783905, 0.0], [0.19300056993961334, 0.1204719990491867, 0.18810954689979553, 0.2005879431962967, 0.13934902846813202, 0.04043561965227127, 0.04765915125608444, 0.07038617879152298, 0.0], [0.10859354585409164, 0.22456154227256775, 0.12952794134616852, 0.2682099938392639, 0.11493097990751266, 0.03994433954358101, 0.052202533930540085, 0.06202913448214531, 0.0], [0.11935099959373474, 0.18800567090511322, 0.2110554426908493, 0.14449799060821533, 0.16162827610969543, 0.057631224393844604, 0.06395315378904343, 0.053877249360084534, 0.0], [0.03613826632499695, 0.11183816194534302, 0.14721901714801788, 0.37251901626586914, 0.11141204088926315, 0.09017626196146011, 0.07936438173055649, 0.05133288353681564, 0.0], [0.014515182934701443, 0.03868139162659645, 0.05089869350194931, 0.2692490518093109, 0.23981408774852753, 0.1323663890361786, 0.14339923858642578, 0.1110759899020195, 0.0], [0.01695718802511692, 0.02611851692199707, 0.05740595981478691, 0.15316814184188843, 0.20000715553760529, 0.219066321849823, 0.07769343256950378, 0.24958331882953644, 0.0], [0.00030540869920514524, 0.00016259332187473774, 0.0005990362842567265, 0.0007770265219733119, 0.0014136150712147355, 0.007517339661717415, 0.01645430363714695, 0.972770631313324, 0.0], [0.07339583337306976, 0.04524325951933861, 0.06283599138259888, 0.07709994912147522, 0.14787223935127258, 0.21003565192222595, 0.1930309385061264, 0.19048616290092468, 0.0]], [[0.04635489359498024, 6.984911306062713e-05, 7.39714305382222e-05, 0.00044742587488144636, 0.003537410404533148, 0.014280018396675587, 0.0005020117969252169, 0.9347344636917114, 0.0], [0.8145745992660522, 0.008531348779797554, 0.0008161806617863476, 0.00046914632548578084, 0.0009172986610792577, 0.001213714829646051, 0.001162051223218441, 0.172315776348114, 0.0], [0.819759726524353, 0.14433224499225616, 0.017875799909234047, 0.0009708505822345614, 0.00012210772547405213, 8.009112207219005e-05, 0.0003625847166404128, 0.016496503725647926, 0.0], [0.16070683300495148, 0.5430623292922974, 0.27663204073905945, 0.01567562110722065, 0.0006793388747610152, 6.612033030251041e-05, 0.00012976027210243046, 0.0030480599962174892, 0.0], [0.0044455332681536674, 0.18049871921539307, 0.6338465213775635, 0.17403730750083923, 0.006903178058564663, 9.568934183334932e-05, 1.9398446966079064e-05, 0.0001537070784252137, 0.0], [7.21483156667091e-05, 0.003014696529135108, 0.11025575548410416, 0.5922569036483765, 0.2864537239074707, 0.007599429227411747, 0.0001740127190714702, 0.00017334852600470185, 0.0], [7.007350291132752e-07, 1.3578436664829496e-05, 0.00037915914435870945, 0.048946741968393326, 0.8776665925979614, 0.07039632648229599, 0.002553352853283286, 4.350784729467705e-05, 0.0], [6.222900528207731e-10, 9.650412691186716e-10, 1.5240708250985335e-07, 0.0002495755616109818, 0.06980680674314499, 0.8155116438865662, 0.11432097852230072, 0.00011087138409493491, 0.0], [5.90021772950422e-06, 1.6094150851131417e-05, 2.6256360797560774e-05, 0.000613104784861207, 0.026450978592038155, 0.07495994120836258, 0.897473156452179, 0.00045455334475263953, 0.0]], [[0.02615111693739891, 0.20442746579647064, 0.32108190655708313, 0.31491619348526, 0.10228481888771057, 0.017900660634040833, 0.01020270586013794, 0.0030352335888892412, 0.0], [0.002417336218059063, 0.016429679468274117, 0.12207166850566864, 0.48819500207901, 0.3273407816886902, 0.03369263559579849, 0.008204986341297626, 0.0016478387406095862, 0.0], [0.000886776833795011, 0.0037130070850253105, 0.021397560834884644, 0.19363203644752502, 0.612265408039093, 0.14148373901844025, 0.023512907326221466, 0.003108557080850005, 0.0], [0.002192437183111906, 0.003128605894744396, 0.009046128951013088, 0.05100299045443535, 0.4285740852355957, 0.31837162375450134, 0.1540740728378296, 0.03361004590988159, 0.0], [0.004653386306017637, 0.0033664314541965723, 0.0049132779240608215, 0.01197745744138956, 0.11165765672922134, 0.2517492175102234, 0.3561273515224457, 0.25555527210235596, 0.0], [0.005932680331170559, 0.002386905951425433, 0.0019063025247305632, 0.0023831496946513653, 0.018999027088284492, 0.09459753334522247, 0.315588116645813, 0.5582062602043152, 0.0], [0.00833191443234682, 0.006267805118113756, 0.005792437121272087, 0.0022901101037859917, 0.0050352090038359165, 0.012549156323075294, 0.07203520089387894, 0.887698233127594, 0.0], [0.022771060466766357, 0.015926867723464966, 0.018484387546777725, 0.0028068311512470245, 0.002477807691320777, 0.004773993045091629, 0.04828726127743721, 0.8844717741012573, 0.0], [0.032943565398454666, 0.08942873775959015, 0.23690539598464966, 0.20228441059589386, 0.17092420160770416, 0.054543863981962204, 0.08565333485603333, 0.12731651961803436, 0.0]]], [[[0.028782334178686142, 0.007709038443863392, 0.0039958469569683075, 0.001997515093535185, 0.015389776788651943, 0.00984504260122776, 0.0033899543341249228, 0.9288905262947083, 0.0], [0.03547639399766922, 0.010259473696351051, 0.0037160171195864677, 0.002109269145876169, 0.004967539105564356, 0.006202328018844128, 0.0012623285874724388, 0.9360066652297974, 0.0], [0.08818719536066055, 0.016641933470964432, 0.008652674965560436, 0.00397805031388998, 0.009505596943199635, 0.0016494669253006577, 0.0015762019902467728, 0.8698088526725769, 0.0], [0.007101171649992466, 0.1034320741891861, 0.034239284694194794, 0.022815922275185585, 0.008245319128036499, 0.0005255262949503958, 0.0010683212894946337, 0.8225724101066589, 0.0], [0.011926737613976002, 0.016087068244814873, 0.09112237393856049, 0.0654430016875267, 0.02654046192765236, 0.0004405798972584307, 0.007019359152764082, 0.7814204692840576, 0.0], [0.005696816835552454, 0.025482768192887306, 0.012952140532433987, 0.1555335968732834, 0.06637894362211227, 0.004358042497187853, 0.002493835985660553, 0.7271038293838501, 0.0], [0.0037395216058939695, 0.00850803591310978, 0.010610447265207767, 0.03488911688327789, 0.12235672026872635, 0.03322873264551163, 0.017897339537739754, 0.7687700986862183, 0.0], [0.001145007205195725, 0.002511341357603669, 0.000999940442852676, 0.0012150303227826953, 0.0016077749896794558, 0.0006264746771194041, 0.002589364070445299, 0.9893051385879517, 0.0], [0.0019399395678192377, 0.0024599905591458082, 0.000548778974916786, 0.0007235176162794232, 0.0010708787012845278, 0.0004429281398188323, 0.0007450248231180012, 0.9920690059661865, 0.0]], [[0.008569694124162197, 0.022611984983086586, 0.02244097925722599, 0.03287903219461441, 0.20982535183429718, 0.0038413992151618004, 0.017956331372261047, 0.6818751692771912, 0.0], [0.054151348769664764, 0.009755207225680351, 0.02473207376897335, 0.08280102163553238, 0.05183159559965134, 0.003041465999558568, 0.012687056325376034, 0.7610002756118774, 0.0], [0.017994962632656097, 0.054551851004362106, 0.012451715767383575, 0.021545039489865303, 0.0725739598274231, 0.004685217514634132, 0.015595569275319576, 0.8006016612052917, 0.0], [0.01737508922815323, 0.04008695110678673, 0.039452120661735535, 0.018760891631245613, 0.11018198728561401, 0.004636949859559536, 0.04929990693926811, 0.7202061414718628, 0.0], [0.02239004708826542, 0.041626859456300735, 0.015612898394465446, 0.099403515458107, 0.02480638399720192, 0.0028034213464707136, 0.030239617452025414, 0.7631173133850098, 0.0], [0.008094589225947857, 0.05418743938207626, 0.018574636429548264, 0.049801118671894073, 0.039607103914022446, 0.02231721021234989, 0.033028725534677505, 0.7743892073631287, 0.0], [0.007080847397446632, 0.02930055931210518, 0.005053256172686815, 0.050682224333286285, 0.055608391761779785, 0.05050438642501831, 0.009227815084159374, 0.792542576789856, 0.0], [0.0009238098282366991, 0.003281167708337307, 0.0005999157438054681, 0.0023010659497231245, 0.005126649048179388, 0.00014692723925691098, 0.0004521585942711681, 0.9871683120727539, 0.0], [0.0021984875202178955, 0.007253697607666254, 0.0007133966428227723, 0.004320895299315453, 0.005967326927930117, 0.00015549793897662312, 0.0002669811074156314, 0.9791237115859985, 0.0]], [[0.007456254679709673, 0.14285118877887726, 0.009107501246035099, 0.01593688875436783, 0.02035382390022278, 0.0028016623109579086, 0.0042777894996106625, 0.7972148656845093, 0.0], [0.01949729211628437, 0.014325442723929882, 0.0639086663722992, 0.02584102749824524, 0.028857385739684105, 0.001936656073667109, 0.007946111261844635, 0.8376873731613159, 0.0], [0.004787852056324482, 0.017234405502676964, 0.00808787252753973, 0.1075650155544281, 0.020932834595441818, 0.006083475425839424, 0.009006267413496971, 0.8263023495674133, 0.0], [0.008531915955245495, 0.030951539054512978, 0.04262857139110565, 0.010879048146307468, 0.0733298659324646, 0.0063307262025773525, 0.014139299280941486, 0.8132089972496033, 0.0], [0.00487026060000062, 0.016089098528027534, 0.006010508630424738, 0.04998364672064781, 0.02481507882475853, 0.012965476140379906, 0.017555877566337585, 0.8677100539207458, 0.0], [0.0008116023964248598, 0.007685416378080845, 0.006059393752366304, 0.06453364342451096, 0.016190769150853157, 0.009754263795912266, 0.03579030558466911, 0.8591746091842651, 0.0], [0.004090255592018366, 0.012118171900510788, 0.002380045596510172, 0.016878405585885048, 0.01145442295819521, 0.01670430786907673, 0.008948738686740398, 0.9274256825447083, 0.0], [0.00013831359683535993, 0.001047008205205202, 0.0006872969097457826, 0.0014504592400044203, 0.0020427550189197063, 0.00027441440033726394, 0.00021508098870981485, 0.9941447377204895, 0.0], [0.00022914254805073142, 0.0020642683375626802, 0.0005782800726592541, 0.002174838213250041, 0.0019308467162773013, 0.00014202852617017925, 0.0001172056799987331, 0.992763340473175, 0.0]], [[0.01851704716682434, 0.01051325909793377, 0.011726749129593372, 0.016670050099492073, 0.016602369025349617, 0.0015704010147601366, 0.002418267074972391, 0.9219818711280823, 0.0], [0.10624030232429504, 0.009399842470884323, 0.020627181977033615, 0.00840042531490326, 0.004102638922631741, 0.008174259215593338, 0.004671861417591572, 0.8383834958076477, 0.0], [0.005889926105737686, 0.16493630409240723, 0.023129431530833244, 0.009332188405096531, 0.017360525205731392, 0.004496392328292131, 0.005293542984873056, 0.7695617079734802, 0.0], [0.00598836038261652, 0.013214590959250927, 0.08622252196073532, 0.015351480804383755, 0.02033437415957451, 0.001284502213820815, 0.0037528418470174074, 0.8538513779640198, 0.0], [0.004485324025154114, 0.005656546447426081, 0.010444432497024536, 0.22098127007484436, 0.011236390098929405, 0.005304633639752865, 0.002724127843976021, 0.7391672730445862, 0.0], [0.003017999930307269, 0.009448323398828506, 0.0030050056520849466, 0.009926454164087772, 0.16416369378566742, 0.013442210853099823, 0.0036323643289506435, 0.7933639287948608, 0.0], [0.0018254459137097, 0.01367349736392498, 0.0002954101946670562, 0.005424905568361282, 0.025476839393377304, 0.14769743382930756, 0.012034473940730095, 0.793571949005127, 0.0], [0.0004902015789411962, 0.0013012494891881943, 0.0007341228774748743, 0.0017564399167895317, 0.001060092938132584, 0.0002334576565772295, 0.0019056103192269802, 0.9925187826156616, 0.0], [0.0004687550535891205, 0.001744134584441781, 0.0007786498754285276, 0.0013107501436024904, 0.0007137136999517679, 0.00015506078489124775, 0.0006447048508562148, 0.9941841959953308, 0.0]], [[0.009645828045904636, 0.026887133717536926, 0.08102060854434967, 0.08730266988277435, 0.0456903874874115, 0.016938071697950363, 0.0029350186232477427, 0.729580283164978, 0.0], [0.015386897139251232, 0.015229126438498497, 0.01716230995953083, 0.04121062904596329, 0.07525626569986343, 0.027887465432286263, 0.0018261352088302374, 0.8060411214828491, 0.0], [0.05187153443694115, 0.013632627204060555, 0.006006333045661449, 0.01367124356329441, 0.03238306939601898, 0.0662594810128212, 0.007057970389723778, 0.8091177344322205, 0.0], [0.03988564386963844, 0.0510353185236454, 0.022000577300786972, 0.02402321994304657, 0.009325719438493252, 0.01730547472834587, 0.01974445953965187, 0.8166795969009399, 0.0], [0.014918632805347443, 0.0662417858839035, 0.024925269186496735, 0.011032532900571823, 0.01575404219329357, 0.0057418630458414555, 0.006338949780911207, 0.8550469279289246, 0.0], [0.001800236408598721, 0.024321522563695908, 0.020830800756812096, 0.04936649650335312, 0.03109847381711006, 0.001477811485528946, 0.0023034478072077036, 0.8688012361526489, 0.0], [0.0029686344787478447, 0.00686512840911746, 0.008972732350230217, 0.1923130452632904, 0.05723614990711212, 0.0032615484669804573, 0.0024486249312758446, 0.7259341478347778, 0.0], [0.0013038116740062833, 0.0017062285915017128, 0.0012921402230858803, 0.0011651746463030577, 0.0018800923135131598, 0.0010390988318249583, 0.0003512474650051445, 0.9912621974945068, 0.0], [0.0022013091947883368, 0.001618539565242827, 0.0010467426618561149, 0.0011091744527220726, 0.0019780679140239954, 0.001250176690518856, 0.0001363983319606632, 0.9906595945358276, 0.0]], [[0.0201546773314476, 0.06963133066892624, 0.012458357028663158, 0.012290148064494133, 0.0338284969329834, 0.0036112195812165737, 0.00275677558965981, 0.845268964767456, 0.0], [0.012497041374444962, 0.014466437511146069, 0.09328219294548035, 0.02810475416481495, 0.0224530640989542, 0.000744700722862035, 0.008057708851993084, 0.8203940391540527, 0.0], [0.010551484301686287, 0.009107982739806175, 0.027022361755371094, 0.10832364857196808, 0.024954903870821, 0.0027678522747009993, 0.004295589402318001, 0.8129761219024658, 0.0], [0.022416289895772934, 0.011951364576816559, 0.011804776266217232, 0.04053623229265213, 0.2505652606487274, 0.019866803660988808, 0.009729724377393723, 0.6331295371055603, 0.0], [0.0062362621538341045, 0.010979673825204372, 0.002312436467036605, 0.020846448838710785, 0.023875711485743523, 0.04155014827847481, 0.011424031108617783, 0.8827752470970154, 0.0], [0.004644498229026794, 0.009880218654870987, 0.0049367630854249, 0.007122177630662918, 0.025460902601480484, 0.007560846395790577, 0.049288999289274216, 0.891105592250824, 0.0], [0.004099688492715359, 0.006586066447198391, 0.001814653747715056, 0.0034431316889822483, 0.012667830102145672, 0.005284152925014496, 0.012107612565159798, 0.9539968967437744, 0.0], [0.00017012536409310997, 0.0008939224062487483, 0.0003570610424503684, 0.0008245101198554039, 0.004759080242365599, 0.0002664439962245524, 0.00010660326370270923, 0.9926222562789917, 0.0], [0.00019217294175177813, 0.0007283927407115698, 0.00019018474267795682, 0.0008517012465745211, 0.005549522582441568, 9.594613948138431e-05, 5.699706161976792e-05, 0.9923350214958191, 0.0]], [[0.027376996353268623, 0.032201606780290604, 0.0019899981562048197, 0.008865438401699066, 0.017885610461235046, 0.002852381905540824, 0.0008772119181230664, 0.907950758934021, 0.0], [0.06206472963094711, 0.005479990504682064, 0.0014400689397007227, 0.006875788327306509, 0.017009209841489792, 0.002784003969281912, 0.00031324930023401976, 0.9040330052375793, 0.0], [0.08423442393541336, 0.03923575580120087, 0.0011512420605868101, 0.014208642765879631, 0.008878162130713463, 0.0012522543547675014, 0.00035924784606322646, 0.8506803512573242, 0.0], [0.06046508997678757, 0.037817783653736115, 0.003717384533956647, 0.021662065759301186, 0.018160851672291756, 0.0007027775864116848, 0.00046491975081153214, 0.8570091724395752, 0.0], [0.011503971181809902, 0.04409725219011307, 0.005011227447539568, 0.037452612072229385, 0.01467384397983551, 0.0034658622462302446, 0.0037149512208998203, 0.8800802230834961, 0.0], [0.005664529744535685, 0.06834743171930313, 0.006894474849104881, 0.026721898466348648, 0.02596415765583515, 0.0014906978467479348, 0.0014941671397536993, 0.863422691822052, 0.0], [0.005536695476621389, 0.017198670655488968, 0.007660332135856152, 0.09787378460168839, 0.026748113334178925, 0.020809059962630272, 0.009139499627053738, 0.8150338530540466, 0.0], [0.0015635869931429625, 0.0011367257684469223, 2.608792965475004e-05, 0.0008143922896124423, 0.003591018496081233, 3.8515881897183135e-05, 1.6146434063557535e-05, 0.9928135275840759, 0.0], [0.0025543831288814545, 0.0015116542344912887, 2.185464109061286e-05, 0.0007871517445892096, 0.003182572778314352, 2.7098963983007707e-05, 8.610270924691577e-06, 0.9919066429138184, 0.0]], [[0.03614989295601845, 0.06278949230909348, 0.12652303278446198, 0.05286039039492607, 0.024236183613538742, 0.004993915092200041, 0.014107436873018742, 0.6783396601676941, 0.0], [0.004892418626695871, 0.008611498400568962, 0.042669910937547684, 0.09807988256216049, 0.05807005241513252, 0.010126597248017788, 0.018299954012036324, 0.7592496871948242, 0.0], [0.001549941604025662, 0.00555983604863286, 0.0029722219333052635, 0.021427003666758537, 0.14937961101531982, 0.05076758190989494, 0.014650396071374416, 0.7536934614181519, 0.0], [0.002512215869501233, 0.0036595165729522705, 0.0007422668859362602, 0.006204162258654833, 0.07252015173435211, 0.11109374463558197, 0.05753667280077934, 0.7457312941551208, 0.0], [0.0050852857530117035, 0.006982619408518076, 0.00205405056476593, 0.005263160448521376, 0.021374834701418877, 0.08103451877832413, 0.13399407267570496, 0.7442113757133484, 0.0], [0.003302175085991621, 0.012599275447428226, 0.003353092586621642, 0.007770265452563763, 0.015385588631033897, 0.012625599279999733, 0.03274708613753319, 0.9122169017791748, 0.0], [0.001463878434151411, 0.006428855936974287, 0.00521259568631649, 0.004551478195935488, 0.008257114328444004, 0.0047234524972736835, 0.01576969586312771, 0.9535928964614868, 0.0], [0.0006988248787820339, 0.00031467730877920985, 0.00042335555190220475, 0.0024814556818455458, 0.007574265822768211, 0.0011022057151421905, 0.0009031184599734843, 0.9865021109580994, 0.0], [0.00030910075292922556, 0.0002716558228712529, 0.0003050027007702738, 0.0031121608335524797, 0.011098519898951054, 0.0009162550559267402, 0.0006993162678554654, 0.9832879900932312, 0.0]]], [[[0.0027915253303945065, 0.050616465508937836, 0.018198661506175995, 0.01895286701619625, 0.006371527444571257, 0.004318739753216505, 0.011695853434503078, 0.8870543837547302, 0.0], [0.0019759577699005604, 0.006467735860496759, 0.2767632007598877, 0.004387059714645147, 0.0007458338513970375, 0.00038591603515669703, 0.0032598006073385477, 0.7060144543647766, 0.0], [0.0012707485584542155, 0.010495691560208797, 0.006442199926823378, 0.1376834660768509, 0.0040176622569561005, 0.004352486226707697, 0.0157750453799963, 0.8199626803398132, 0.0], [0.0017941247206181288, 0.010356608778238297, 0.004731117282062769, 0.002456143032759428, 0.08146917074918747, 0.00834702793508768, 0.0020447822753340006, 0.8888010382652283, 0.0], [0.00348247354850173, 0.014225480146706104, 0.001509610447101295, 0.0070510548539459705, 0.01437370851635933, 0.09985270351171494, 0.010165542364120483, 0.8493394255638123, 0.0], [0.008045919239521027, 0.007542060688138008, 0.004111044574528933, 0.009674846194684505, 0.004550375044345856, 0.009728392586112022, 0.06664591282606125, 0.8897014260292053, 0.0], [0.002625618362799287, 0.005922251380980015, 0.0015164759242907166, 0.002650067675858736, 0.003750093514099717, 0.017433403059840202, 0.011224277317523956, 0.9548777937889099, 0.0], [0.0005558761768043041, 0.001531958463601768, 0.001160302897915244, 0.0030323900282382965, 0.004296824336051941, 0.002680644392967224, 0.0016693215584382415, 0.985072672367096, 0.0], [0.000573394529055804, 0.0018162211636081338, 0.001552596571855247, 0.004380030557513237, 0.004265926778316498, 0.001635445049032569, 0.0011843966785818338, 0.9845920205116272, 0.0]], [[0.003871888853609562, 0.2497687190771103, 0.01651059277355671, 0.007687660399824381, 0.012747949920594692, 0.002835551043972373, 0.0075247022323310375, 0.6990528702735901, 0.0], [0.0015301121165975928, 0.005850393325090408, 0.02595159038901329, 0.2950977683067322, 0.005263383965939283, 0.002235466381534934, 0.002165094716474414, 0.6619061231613159, 0.0], [0.0006985099753364921, 0.007010727189481258, 0.01143074594438076, 0.011235722340643406, 0.02827143669128418, 0.006057284772396088, 0.005415475927293301, 0.9298800826072693, 0.0], [0.0007333795074373484, 0.025911808013916016, 0.020678134635090828, 0.004499292001128197, 0.023304225876927376, 0.0071489205583930016, 0.00457499735057354, 0.9131492376327515, 0.0], [0.0021411371417343616, 0.0006482505123130977, 0.0035130390897393227, 0.02341987006366253, 0.004093158524483442, 0.021489107981324196, 0.004119318909943104, 0.9405761361122131, 0.0], [0.00024896019021980464, 0.006471311207860708, 0.003035160480067134, 0.00405464181676507, 0.028622163459658623, 0.009955111891031265, 0.012875049374997616, 0.9347375631332397, 0.0], [0.002103908685967326, 0.0028387424536049366, 0.006578706670552492, 0.004676970653235912, 0.013360923156142235, 0.011052577756345272, 0.0024036853574216366, 0.9569844603538513, 0.0], [0.0002540729474276304, 0.0016922283684834838, 0.0018756571225821972, 0.005109373014420271, 0.004624255001544952, 0.002842488931491971, 0.0016465323278680444, 0.981955349445343, 0.0], [0.0002977143449243158, 0.0020927521400153637, 0.0025867202784866095, 0.006794265937060118, 0.005240767262876034, 0.0025565538089722395, 0.0013914004666730762, 0.9790398478507996, 0.0]], [[0.005265328101813793, 0.006344974506646395, 0.0008945164154283702, 0.007800351828336716, 0.016890766099095345, 0.016300691291689873, 0.003315350040793419, 0.9431880712509155, 0.0], [0.05664994567632675, 0.007747513707727194, 0.007825070060789585, 0.003699453780427575, 0.003551695728674531, 0.010439323261380196, 0.003929363563656807, 0.9061576128005981, 0.0], [0.005716606974601746, 0.12182588875293732, 0.01602497696876526, 0.005951174069195986, 0.003963912837207317, 0.0013194293715059757, 0.007038120646029711, 0.8381599187850952, 0.0], [0.0032976160291582346, 0.007953866384923458, 0.05247344821691513, 0.022531066089868546, 0.007698340807110071, 0.0003850519424304366, 0.007870352827012539, 0.897790253162384, 0.0], [0.0008800897048786283, 0.002103012753650546, 0.009418844245374203, 0.049327850341796875, 0.003985431045293808, 0.002233239822089672, 0.002783604897558689, 0.9292680025100708, 0.0], [0.0008445210405625403, 0.0010567331919446588, 0.0011073750210925937, 0.007163797039538622, 0.08824840933084488, 0.01615835539996624, 0.00527576357126236, 0.8801450729370117, 0.0], [0.0040530916303396225, 0.003787573892623186, 0.00014319409092422575, 0.01412623468786478, 0.05991946905851364, 0.11631210893392563, 0.007853523828089237, 0.7938047647476196, 0.0], [0.0020659705623984337, 0.002916343044489622, 0.004269586410373449, 0.004344424698501825, 0.004784072749316692, 0.004677900578826666, 0.009341821074485779, 0.9675998687744141, 0.0], [0.0030287746340036392, 0.005275943782180548, 0.004758775699883699, 0.003284275531768799, 0.0032299768645316362, 0.003550393506884575, 0.007915277034044266, 0.9689565896987915, 0.0]], [[0.0017981581622734666, 0.07398653030395508, 0.036526817828416824, 0.019149374216794968, 0.16676975786685944, 0.010220076888799667, 0.0035264277830719948, 0.6880228519439697, 0.0], [0.0025999583303928375, 0.016488762572407722, 0.07974620163440704, 0.04320424795150757, 0.015255718491971493, 0.053865429013967514, 0.0020790910348296165, 0.7867605686187744, 0.0], [0.024227475747466087, 0.00656643183901906, 0.003079986898228526, 0.008516883477568626, 0.03564407303929329, 0.0037518914323300123, 0.020945502445101738, 0.8972676992416382, 0.0], [0.002174090128391981, 0.024975817650556564, 0.006381757091730833, 0.004682866390794516, 0.007863066159188747, 0.029226599261164665, 0.012804643251001835, 0.9118911623954773, 0.0], [0.001881247153505683, 0.0019735645037144423, 0.032456062734127045, 0.010804757475852966, 0.005934939719736576, 0.024847541004419327, 0.007206960581243038, 0.9148949980735779, 0.0], [0.003162141889333725, 0.004344395361840725, 0.012060953304171562, 0.029406199231743813, 0.04763822630047798, 0.012461076490581036, 0.03561361879110336, 0.8553133606910706, 0.0], [0.0012321742251515388, 0.011182775720953941, 0.0038238053675740957, 0.016439465805888176, 0.02251237817108631, 0.01075577549636364, 0.0033895892556756735, 0.9306640028953552, 0.0], [0.000484548945678398, 0.002395718125626445, 0.0025354395620524883, 0.003055889392271638, 0.0059535265900194645, 0.0036373555194586515, 0.0017849468858912587, 0.9801525473594666, 0.0], [0.0006597937317565084, 0.002698916709050536, 0.002554824808612466, 0.0035910785663872957, 0.006083521526306868, 0.003602743148803711, 0.0016168701695278287, 0.9791922569274902, 0.0]], [[0.01501019299030304, 0.002845661249011755, 0.0467241033911705, 0.05849296599626541, 0.107782743871212, 0.017797213047742844, 0.003036028705537319, 0.7483111023902893, 0.0], [0.002001585904508829, 0.002612170297652483, 0.0020253134425729513, 0.026367956772446632, 0.26031196117401123, 0.009930195286870003, 0.00543853547424078, 0.6913122534751892, 0.0], [0.01046040840446949, 0.0020403238013386726, 0.0005907183513045311, 0.014520305208861828, 0.048084985464811325, 0.04973195120692253, 0.002432741690427065, 0.8721385598182678, 0.0], [0.02847186289727688, 0.016450906172394753, 0.003154470818117261, 0.020995937287807465, 0.005998946726322174, 0.005748855881392956, 0.007126561366021633, 0.9120524525642395, 0.0], [0.0030284645035862923, 0.040441352874040604, 0.010255697183310986, 0.004841612186282873, 0.002899449784308672, 0.002367623383179307, 0.018489453941583633, 0.9176763296127319, 0.0], [0.0017708067316561937, 0.003763073356822133, 0.01443635206669569, 0.01722417213022709, 0.004674031399190426, 0.0018289696890860796, 0.004151900298893452, 0.9521507620811462, 0.0], [0.0005974502419121563, 0.00118457549251616, 0.001725445850752294, 0.009994102641940117, 0.018265673890709877, 0.00646050414070487, 0.004893250297755003, 0.9568790197372437, 0.0], [0.0011214741971343756, 0.0051929340697824955, 0.001193306758068502, 0.0021127203945070505, 0.010055391117930412, 0.002375248121097684, 0.004761006683111191, 0.9731878638267517, 0.0], [0.0017224738840013742, 0.004596530459821224, 0.0009338529780507088, 0.002394990064203739, 0.014222517609596252, 0.003389134770259261, 0.003751312382519245, 0.9689891934394836, 0.0]], [[0.021451283246278763, 0.13179931044578552, 0.011362872086465359, 0.0073281037621200085, 0.003960355184972286, 0.0021914481185376644, 0.007524017710238695, 0.8143825531005859, 0.0], [0.0004978417418897152, 0.006556212902069092, 0.04678443819284439, 0.01060404721647501, 0.04118916392326355, 0.00031718998798169196, 0.0014106949092820287, 0.8926404118537903, 0.0], [0.0007793499389663339, 0.0028512966819107533, 0.006401699967682362, 0.0562111958861351, 0.025915151461958885, 0.001366378623060882, 0.003500149818137288, 0.9029747843742371, 0.0], [0.0028998011257499456, 0.005978183355182409, 0.0016938337357714772, 0.004490477964282036, 0.15655000507831573, 0.007417277432978153, 0.004423741716891527, 0.8165466785430908, 0.0], [0.0007791569223627448, 0.004195305053144693, 0.0006152585847303271, 0.003434550715610385, 0.0050958567298948765, 0.05818697437644005, 0.0077903177589178085, 0.9199025630950928, 0.0], [0.00285476166754961, 0.004078818950802088, 0.0007283801678568125, 0.004853087477385998, 0.006708165630698204, 0.009578180499374866, 0.1472344696521759, 0.8239641785621643, 0.0], [0.005603400524705648, 0.014578606933355331, 0.00481213815510273, 0.004589952994138002, 0.0020990921184420586, 0.0076896133832633495, 0.016214510425925255, 0.9444127082824707, 0.0], [0.0011164461029693484, 0.003279933240264654, 0.0017396027687937021, 0.0029572173953056335, 0.00698115723207593, 0.00430833688005805, 0.0019603644032031298, 0.977656900882721, 0.0], [0.0007800396997481585, 0.0031251395121216774, 0.0022150487639009953, 0.004670003429055214, 0.008577872067689896, 0.0027916706167161465, 0.0011726187076419592, 0.9766676425933838, 0.0]], [[0.004530205857008696, 0.0011802965309470892, 0.0026165477465838194, 0.003673253348097205, 0.08526653796434402, 0.03563104197382927, 0.04782875254750252, 0.8192733526229858, 0.0], [0.018359322100877762, 0.0030991153325885534, 0.0010755887487903237, 0.0018240307690575719, 0.002795272506773472, 0.01907879114151001, 0.01989663951098919, 0.9338712692260742, 0.0], [0.08022858202457428, 0.010565669275820255, 0.0030610805843025446, 0.00424110796302557, 0.010647638700902462, 0.0039141178131103516, 0.009932979941368103, 0.8774088025093079, 0.0], [0.015795260667800903, 0.14065437018871307, 0.016844071447849274, 0.006422355771064758, 0.004133273381739855, 0.0008748007821850479, 0.008128557354211807, 0.8071472644805908, 0.0], [0.004438004922121763, 0.015628401190042496, 0.08470674604177475, 0.012205323204398155, 0.010831430554389954, 0.0006749042076990008, 0.006720787845551968, 0.8647944331169128, 0.0], [0.0008247466175816953, 0.0042095729149878025, 0.014585443772375584, 0.08679056912660599, 0.02300211414694786, 0.004221935290843248, 0.0013610993046313524, 0.8650045394897461, 0.0], [0.003291295375674963, 0.002258456079289317, 0.004583908244967461, 0.026855118572711945, 0.13398583233356476, 0.02759764902293682, 0.004597170744091272, 0.7968305349349976, 0.0], [0.0017198041314259171, 0.003241518745198846, 0.0028692339546978474, 0.005095453467220068, 0.00743623124435544, 0.006933319848030806, 0.00934051163494587, 0.9633639454841614, 0.0], [0.0032940104138106108, 0.003416577121242881, 0.001700628432445228, 0.0033788762520998716, 0.005709515418857336, 0.0068205855786800385, 0.008251810446381569, 0.9674280285835266, 0.0]], [[0.00381774315610528, 0.07094961404800415, 0.04311571642756462, 0.03270943462848663, 0.016468504443764687, 0.0023284272756427526, 0.005709366872906685, 0.8249011635780334, 0.0], [0.017402222380042076, 0.006709027569741011, 0.015726812183856964, 0.04796534776687622, 0.0350969024002552, 0.0015322051476687193, 0.010200823657214642, 0.8653666377067566, 0.0], [0.005233787000179291, 0.11592508852481842, 0.006322537083178759, 0.0566486194729805, 0.11141721159219742, 0.0026407905388623476, 0.007840116508305073, 0.6939718127250671, 0.0], [0.01538387592881918, 0.015103533864021301, 0.007896172814071178, 0.009048670530319214, 0.04966510832309723, 0.0024268263950943947, 0.004949184600263834, 0.8955267071723938, 0.0], [0.011527442373335361, 0.004882473964244127, 0.0038543830160051584, 0.07340788096189499, 0.02275381237268448, 0.015047155320644379, 0.026240142062306404, 0.8422867059707642, 0.0], [0.0013624648563563824, 0.006087311077862978, 0.0025339839048683643, 0.033432282507419586, 0.04565528407692909, 0.05340858921408653, 0.030408456921577454, 0.8271116018295288, 0.0], [0.0008738341857679188, 0.0030243920627981424, 0.0005289425607770681, 0.015835290774703026, 0.06516890227794647, 0.041334737092256546, 0.011063405312597752, 0.8621704578399658, 0.0], [0.0003241034864913672, 0.0016860479954630136, 0.0010600980604067445, 0.003252627793699503, 0.0066440291702747345, 0.0012631752761080861, 0.0015786167932674289, 0.9841912984848022, 0.0], [0.0005355799221433699, 0.0027598494198173285, 0.001369177596643567, 0.005079435184597969, 0.008119627833366394, 0.0010928487172350287, 0.0012023337185382843, 0.9798411130905151, 0.0]]], [[[0.0018548760563135147, 0.002861026441678405, 0.004831510130316019, 0.007525406777858734, 0.05621568486094475, 0.012518814764916897, 0.0050843749195337296, 0.9091083407402039, 0.0], [0.006107337772846222, 0.0040931738913059235, 0.005238785408437252, 0.002625427208840847, 0.017818907275795937, 0.016193334013223648, 0.008314653299748898, 0.9396083354949951, 0.0], [0.046602874994277954, 0.0015281492378562689, 0.021493222564458847, 0.002476965542882681, 0.00870895478874445, 0.003903032513335347, 0.0014446640852838755, 0.9138420820236206, 0.0], [0.0030450376216322184, 0.062338899821043015, 0.05899573490023613, 0.007675107102841139, 0.0012015898246318102, 0.006274808198213577, 0.00535596301779151, 0.8551127910614014, 0.0], [0.0010944424429908395, 0.012010622769594193, 0.059417326003313065, 0.012767884880304337, 0.0032426174730062485, 0.001311154686845839, 0.007616178132593632, 0.9025397896766663, 0.0], [0.0007191530894488096, 0.0019969434943050146, 0.02927268110215664, 0.017442578449845314, 0.019630566239356995, 0.0055671329610049725, 0.0007911660941317677, 0.9245797991752625, 0.0], [0.000985901104286313, 0.0005716932937502861, 0.0020955675281584263, 0.006507915910333395, 0.1046571359038353, 0.011225560680031776, 0.0025574914179742336, 0.8713987469673157, 0.0], [0.0026195652317255735, 0.0046700891107320786, 0.009927792474627495, 0.014859350398182869, 0.04544001445174217, 0.03208578750491142, 0.05954068526625633, 0.8308567404747009, 0.0], [0.003263024613261223, 0.00466102035716176, 0.008494778536260128, 0.012500474229454994, 0.04272168129682541, 0.034267909824848175, 0.05772855877876282, 0.8363626003265381, 0.0]], [[0.002647607820108533, 0.0070641664788126945, 0.0020361102651804686, 0.030575944110751152, 0.01065432745963335, 0.00881655141711235, 0.0016024467768147588, 0.936602771282196, 0.0], [0.02249765954911709, 0.012596404179930687, 0.004388862289488316, 0.004805960692465305, 0.003705317620187998, 0.009289680048823357, 0.0036336504854261875, 0.9390825033187866, 0.0], [0.0016638519009575248, 0.04812515154480934, 0.021091265603899956, 0.0055088382214307785, 0.0064656734466552734, 0.004854450933635235, 0.00220564310438931, 0.910085141658783, 0.0], [0.000935319229029119, 0.0012410953640937805, 0.05677327886223793, 0.019723588600754738, 0.001434630830772221, 0.0012309426674619317, 0.00256327074021101, 0.9160978198051453, 0.0], [0.0012221201322972775, 0.0023393796291202307, 0.014674479141831398, 0.10696040093898773, 0.02276402711868286, 0.00430965656414628, 0.0017287223599851131, 0.8460012078285217, 0.0], [0.001349327969364822, 0.0029787037055939436, 0.003366635413840413, 0.008906546048820019, 0.06334623694419861, 0.012679590843617916, 0.0022239668760448694, 0.9051490426063538, 0.0], [0.005630579311400652, 0.0009308304288424551, 0.0008351791184395552, 0.003235215786844492, 0.012095564976334572, 0.1294420212507248, 0.0076868836767971516, 0.8401436805725098, 0.0], [0.002497212728485465, 0.002398850629106164, 0.011956235393881798, 0.008781902492046356, 0.01621514931321144, 0.027266427874565125, 0.06890076398849487, 0.8619834780693054, 0.0], [0.0026543813291937113, 0.0026667022611945868, 0.011836400255560875, 0.007750580087304115, 0.014084532856941223, 0.02436385117471218, 0.06830962002277374, 0.8683339357376099, 0.0]], [[0.02558172307908535, 0.02408337965607643, 0.005377933848649263, 0.04514813795685768, 0.018039520829916, 0.004798450507223606, 0.010902371257543564, 0.8660685420036316, 0.0], [0.005334846675395966, 0.0007815384306013584, 0.0034772211220115423, 0.005937517154961824, 0.01236055325716734, 0.0007449118420481682, 0.001689523458480835, 0.9696738719940186, 0.0], [0.008244127966463566, 0.039433520287275314, 0.003916864283382893, 0.008092358708381653, 0.0417327880859375, 0.0026199996937066317, 0.006294316612184048, 0.8896660804748535, 0.0], [0.005665309727191925, 0.0014719548635184765, 0.0021607354283332825, 0.025477835908532143, 0.14044688642024994, 0.0011837048223242164, 0.007237488403916359, 0.8163560628890991, 0.0], [0.001569629181176424, 0.002863195724785328, 0.0570196732878685, 0.03704330325126648, 0.0007331734523177147, 0.07489702105522156, 0.03944365680217743, 0.7864303588867188, 0.0], [0.0025485092774033546, 0.005160126369446516, 0.004625328816473484, 0.005752114113420248, 0.07975058257579803, 0.039497435092926025, 0.04848799854516983, 0.8141778707504272, 0.0], [0.0008626548806205392, 0.00021699345961678773, 0.0055845691822469234, 0.0002240924077341333, 0.04929887875914574, 0.0839877799153328, 0.005004122853279114, 0.8548209071159363, 0.0], [0.00284586101770401, 0.0020854021422564983, 0.015611144714057446, 0.0030667914543300867, 0.012038946151733398, 0.026577429845929146, 0.04830359295010567, 0.8894708156585693, 0.0], [0.0032394893933087587, 0.002320708241313696, 0.016012093052268028, 0.003202972700819373, 0.01216385792940855, 0.025189770385622978, 0.046507492661476135, 0.8913636207580566, 0.0]], [[0.014399734325706959, 0.02844618633389473, 0.009163238108158112, 0.058159247040748596, 0.011304006911814213, 0.009559497237205505, 0.00028834465774707496, 0.8686798214912415, 0.0], [0.08606042712926865, 0.0033040300477296114, 0.005856208968907595, 0.004138526041060686, 0.0065077212639153, 0.005301649682223797, 0.0031818212009966373, 0.885649561882019, 0.0], [0.004660776350647211, 0.05245204269886017, 0.01652878150343895, 0.003461205866187811, 0.008330892771482468, 0.002588753355666995, 0.0049430509097874165, 0.9070345163345337, 0.0], [0.004976159892976284, 0.006016547325998545, 0.08246520906686783, 0.013958380557596684, 0.00349253648892045, 0.00018839006952475756, 0.003712090663611889, 0.8851907253265381, 0.0], [0.00032070197630673647, 0.0011187952477484941, 0.012491033412516117, 0.4556606113910675, 0.007931782864034176, 0.01460694894194603, 0.0043749441392719746, 0.5034951567649841, 0.0], [0.0015943273901939392, 0.0011882444377988577, 0.0006968275993131101, 0.010454757139086723, 0.0743957906961441, 0.017874309793114662, 0.004216304048895836, 0.8895794749259949, 0.0], [0.0024382525589317083, 0.005546146538108587, 7.347141217906028e-05, 0.010356789454817772, 0.06900123506784439, 0.03935088962316513, 0.004411744419485331, 0.868821382522583, 0.0], [0.003663556184619665, 0.0036303242668509483, 0.006304402370005846, 0.04873830825090408, 0.026425417512655258, 0.030981579795479774, 0.09885723143815994, 0.7813991904258728, 0.0], [0.004134987015277147, 0.004563967697322369, 0.006321918684989214, 0.04162305220961571, 0.021892288699746132, 0.028884267434477806, 0.10049741715192795, 0.7920820713043213, 0.0]], [[0.004483578260987997, 0.04377297684550285, 0.05372508242726326, 0.01689450815320015, 0.013279425911605358, 0.006325123365968466, 0.007474383804947138, 0.8540448546409607, 0.0], [0.002311994321644306, 0.012745563872158527, 0.04673255607485771, 0.02328512817621231, 0.013978852890431881, 0.006749048829078674, 0.0708228349685669, 0.8233739733695984, 0.0], [0.0076003167778253555, 0.029847925528883934, 0.002012368757277727, 0.06754028797149658, 0.02877499908208847, 0.0024383647833019495, 0.02595643885433674, 0.8358292579650879, 0.0], [0.0011482067639008164, 0.006132904440164566, 0.005484743509441614, 0.00856288243085146, 0.01241245400160551, 0.017709584906697273, 0.0026853508315980434, 0.9458639025688171, 0.0], [0.001958186738193035, 0.0005764294182881713, 0.0038176747038960457, 0.0863003358244896, 0.015933239832520485, 0.12609009444713593, 0.004969912115484476, 0.7603541016578674, 0.0], [0.00020486197900027037, 0.004752629436552525, 0.001484669977799058, 0.023703135550022125, 0.00732350954785943, 0.004037150647491217, 0.1061270460486412, 0.8523669838905334, 0.0], [0.0006072674295864999, 0.00361602078191936, 0.003090726211667061, 0.0018901656148955226, 0.005785238463431597, 0.018814094364643097, 0.010359351523220539, 0.955837070941925, 0.0], [0.0017480440437793732, 0.005963433999568224, 0.008799228817224503, 0.017988255247473717, 0.013334409333765507, 0.011584058403968811, 0.009416443295776844, 0.9311661720275879, 0.0], [0.0018809845205396414, 0.006468234583735466, 0.009241628460586071, 0.018962254747748375, 0.013635686598718166, 0.010865922085940838, 0.009052232839167118, 0.9298930764198303, 0.0]], [[0.01711767166852951, 0.0037624335382133722, 0.03132336586713791, 0.09966239333152771, 0.017203476279973984, 0.024028554558753967, 0.0015441401628777385, 0.8053579926490784, 0.0], [0.007764886599034071, 0.0020051980391144753, 0.0020941265393048525, 0.012585782445967197, 0.05488519370555878, 0.01593008264899254, 0.0006145809311419725, 0.9041202068328857, 0.0], [0.0010560392402112484, 0.0012658580671995878, 0.027416370809078217, 0.009546887129545212, 0.01085919514298439, 0.08717402815818787, 0.08160509914159775, 0.7810765504837036, 0.0], [0.000422317796619609, 0.027309158816933632, 0.03175647556781769, 0.021383313462138176, 0.0056540025398135185, 0.03922165185213089, 0.004395460244268179, 0.869857668876648, 0.0], [0.014951517805457115, 0.01884707808494568, 0.0012142057530581951, 0.006922990083694458, 0.10350389033555984, 0.0045984117314219475, 0.009084117598831654, 0.8408778309822083, 0.0], [0.00028332037618383765, 0.0017475233180448413, 0.014350366778671741, 0.002956469776108861, 0.008568043820559978, 0.011403561569750309, 0.004716348834335804, 0.9559743404388428, 0.0], [0.0008144647581502795, 0.003971082624047995, 0.011982136406004429, 0.016505736857652664, 0.002278441097587347, 0.003837788011878729, 0.00931218359619379, 0.951298177242279, 0.0], [0.0025589861907064915, 0.009764263406395912, 0.010466896928846836, 0.009262281470000744, 0.010325695388019085, 0.01447649858891964, 0.031078172847628593, 0.9120671153068542, 0.0], [0.0026276179123669863, 0.008669386617839336, 0.01018714252859354, 0.010116771794855595, 0.01071107480674982, 0.01601269096136093, 0.032688867300748825, 0.9089864492416382, 0.0]], [[0.006042556371539831, 0.08247068524360657, 0.008275010623037815, 0.007345386315137148, 0.004627184476703405, 0.00527125084772706, 0.01231714803725481, 0.8736507892608643, 0.0], [0.001059369184076786, 0.006590271834284067, 0.09386400878429413, 0.002496382687240839, 0.010350273922085762, 0.0006363344728015363, 0.0012428462505340576, 0.8837605118751526, 0.0], [0.0011617469135671854, 0.002494239713996649, 0.0034868267830461264, 0.1515452265739441, 0.01370252389460802, 0.0017706857761368155, 0.0013183181872591376, 0.8245204091072083, 0.0], [0.005244460888206959, 0.0008886182331480086, 0.008660737425088882, 0.0036640057805925608, 0.13523855805397034, 0.005496105644851923, 0.0005710433470085263, 0.8402364253997803, 0.0], [0.0008602376910857856, 0.00904645211994648, 0.002445235149934888, 0.001549634849652648, 0.005999348126351833, 0.22174371778964996, 0.005965336691588163, 0.7523900270462036, 0.0], [0.0019199696835130453, 0.0033868735190480947, 0.0021653862204402685, 0.00376985059119761, 0.0026896607596427202, 0.012845330871641636, 0.17245535552501678, 0.8007675409317017, 0.0], [0.0007687798934057355, 0.005241393577307463, 0.002694835187867284, 0.002193479100242257, 0.0063689155504107475, 0.006593251600861549, 0.011825046502053738, 0.964314341545105, 0.0], [0.011722211726009846, 0.00755958491936326, 0.008491866290569305, 0.007974289357662201, 0.02694448083639145, 0.010356082580983639, 0.002846629125997424, 0.9241048693656921, 0.0], [0.01029165368527174, 0.00799936056137085, 0.009411816485226154, 0.009987454861402512, 0.025453567504882812, 0.008198780938982964, 0.0024163899943232536, 0.9262409806251526, 0.0]], [[0.007459969259798527, 0.008714204654097557, 0.02635175734758377, 0.00314122112467885, 0.005256625823676586, 0.06425759941339493, 0.01721583679318428, 0.8676027655601501, 0.0], [0.0033947229385375977, 0.004060268867760897, 0.005821122322231531, 0.00945256557315588, 0.011781349778175354, 0.0043143052607774734, 0.008755510672926903, 0.9524201154708862, 0.0], [0.044172316789627075, 0.023362034931778908, 0.017468610778450966, 0.006122624967247248, 0.019059818238019943, 0.01553729735314846, 0.003582895966246724, 0.8706944584846497, 0.0], [0.03044181689620018, 0.005248830653727055, 0.004083688370883465, 0.002090763533487916, 0.06409629434347153, 0.0038117924705147743, 0.001736196456477046, 0.888490617275238, 0.0], [0.0012497897259891033, 0.0015077247517183423, 0.0011972931679338217, 0.0343719907104969, 0.05540270730853081, 0.006372845731675625, 0.007413407787680626, 0.892484188079834, 0.0], [0.0014152884250506759, 0.0016148894792422652, 0.006405464373528957, 0.026226302608847618, 0.006539750844240189, 0.007012894377112389, 0.010548615828156471, 0.9402367472648621, 0.0], [0.002790699480101466, 0.0013892797287553549, 0.0026729670353233814, 0.0024124570190906525, 0.0327695831656456, 0.007693249266594648, 0.008289690129458904, 0.9419820308685303, 0.0], [0.0019220366375520825, 0.004330570809543133, 0.005054148379713297, 0.021266840398311615, 0.030727382749319077, 0.012342961505055428, 0.046145688742399216, 0.8782103061676025, 0.0], [0.0021264422684907913, 0.00471083726733923, 0.005357358604669571, 0.02083231694996357, 0.02946498990058899, 0.012748613953590393, 0.04464978724718094, 0.8801096081733704, 0.0]]]], \"left_text\": [\"E\", \"Q\", \"V\", \"T\", \"N\", \"V\", \"G\", \"<eos>\", \"<pad>\"], \"right_text\": [\"E\", \"Q\", \"V\", \"T\", \"N\", \"V\", \"G\", \"<eos>\", \"<pad>\"]}, {\"name\": \"Decoder\", \"attn\": [[[[1.0, 0.0, 0.0, 0.0, 0.0, 0.0, 0.0, 0.0], [1.0, 1.3751132945109188e-35, 0.0, 0.0, 0.0, 0.0, 0.0, 0.0], [0.0, 0.0, 1.0, 0.0, 0.0, 0.0, 0.0, 0.0], [0.0, 0.0, 1.0, 4.4060632286751624e-17, 0.0, 0.0, 0.0, 0.0], [0.0, 0.0, 2.0303143465057505e-23, 4.246482310655685e-37, 1.0, 0.0, 0.0, 0.0], [0.0, 0.0, 0.0, 0.0, 1.0, 0.0, 0.0, 0.0], [0.0, 0.0, 0.0, 0.0, 0.0, 0.0, 1.0, 0.0], [0.0, 0.0, 0.0, 0.0, 0.0, 0.0, 5.918524248621815e-31, 1.0]], [[1.0, 0.0, 0.0, 0.0, 0.0, 0.0, 0.0, 0.0], [1.0, 0.0, 0.0, 0.0, 0.0, 0.0, 0.0, 0.0], [0.0, 1.0, 0.0, 0.0, 0.0, 0.0, 0.0, 0.0], [0.0, 0.0, 1.0, 1.401298464324817e-45, 0.0, 0.0, 0.0, 0.0], [0.0, 0.0, 0.0, 1.0, 0.0, 0.0, 0.0, 0.0], [0.0, 0.0, 0.0, 2.802596928649634e-45, 1.0, 0.0, 0.0, 0.0], [0.0, 0.0, 0.0, 0.0, 0.0, 1.0, 0.0, 0.0], [0.0, 0.0, 0.0, 0.0, 0.0, 0.0, 1.0, 0.0]], [[1.0, 0.0, 0.0, 0.0, 0.0, 0.0, 0.0, 0.0], [0.9932088255882263, 0.0067911637015640736, 0.0, 0.0, 0.0, 0.0, 0.0, 0.0], [0.22654198110103607, 0.7454136610031128, 0.028044406324625015, 0.0, 0.0, 0.0, 0.0, 0.0], [0.04117241129279137, 0.044268421828746796, 0.8608278632164001, 0.053731389343738556, 0.0, 0.0, 0.0, 0.0], [0.01330542005598545, 0.001368849421851337, 0.1566973477602005, 0.7999187707901001, 0.02870960161089897, 0.0, 0.0, 0.0], [0.008237672969698906, 2.7061272703576833e-05, 0.0011693235719576478, 0.09571829438209534, 0.8481020331382751, 0.046745575964450836, 0.0, 0.0], [0.009078802540898323, 8.730989975447301e-07, 5.869722826901125e-06, 0.0003640104259829968, 0.0742054432630539, 0.7811369895935059, 0.13520798087120056, 0.0], [0.004875240381807089, 5.527743383026973e-07, 8.739606016661128e-08, 8.850443009578157e-07, 0.0002937337849289179, 0.02848631702363491, 0.9134148955345154, 0.05292823538184166]], [[1.0, 0.0, 0.0, 0.0, 0.0, 0.0, 0.0, 0.0], [1.0, 0.0, 0.0, 0.0, 0.0, 0.0, 0.0, 0.0], [0.0, 5.749118644180896e-37, 1.0, 0.0, 0.0, 0.0, 0.0, 0.0], [0.0, 0.0, 0.0, 1.0, 0.0, 0.0, 0.0, 0.0], [0.0, 0.0, 0.0, 0.0, 1.0, 0.0, 0.0, 0.0], [0.0, 0.0, 0.0, 0.0, 0.0, 1.0, 0.0, 0.0], [0.0, 0.0, 0.0, 0.0, 0.0, 0.0, 1.0, 0.0], [0.0, 0.0, 0.0, 0.0, 0.0, 0.0, 0.0, 1.0]], [[1.0, 0.0, 0.0, 0.0, 0.0, 0.0, 0.0, 0.0], [0.9997062087059021, 0.00029373078723438084, 0.0, 0.0, 0.0, 0.0, 0.0, 0.0], [0.9873046278953552, 0.01268297340720892, 1.2408178918121848e-05, 0.0, 0.0, 0.0, 0.0, 0.0], [0.0683666318655014, 0.8978580832481384, 0.03347519785165787, 0.00030009570764377713, 0.0, 0.0, 0.0, 0.0], [8.799839633866213e-06, 0.009379846975207329, 0.959180474281311, 0.03142998740077019, 9.285618034482468e-07, 0.0, 0.0, 0.0], [4.0733480477506134e-10, 1.0142993005501921e-06, 0.05383266508579254, 0.942733645439148, 0.003432667814195156, 8.352016322987765e-08, 0.0, 0.0], [1.957425725884765e-18, 9.138865049240037e-16, 1.7846457645021019e-09, 0.006382146384567022, 0.9914432168006897, 0.0021747068967670202, 1.4583478868956945e-09, 0.0], [4.1576008822599565e-27, 5.1846893067659586e-27, 2.1376592694486346e-21, 2.3420421851882978e-11, 0.005650314502418041, 0.9899404644966125, 0.004409240558743477, 3.6123739416416e-11]], [[1.0, 0.0, 0.0, 0.0, 0.0, 0.0, 0.0, 0.0], [1.0, 5.3252078772607445e-36, 0.0, 0.0, 0.0, 0.0, 0.0, 0.0], [8.756714103565782e-42, 1.0, 1.4804437750134928e-22, 0.0, 0.0, 0.0, 0.0, 0.0], [0.0, 7.394565651016016e-27, 1.0, 4.0842737447273315e-20, 0.0, 0.0, 0.0, 0.0], [0.0, 0.0, 8.104481066574786e-33, 1.0, 5.125351179094811e-19, 0.0, 0.0, 0.0], [0.0, 0.0, 0.0, 4.9498503758609025e-23, 1.0, 2.3404335173989144e-26, 0.0, 0.0], [0.0, 0.0, 0.0, 0.0, 9.389867381291088e-16, 1.0, 7.951543505840824e-19, 0.0], [0.0, 0.0, 0.0, 0.0, 0.0, 0.0, 1.0, 5.149169298054043e-40]], [[1.0, 0.0, 0.0, 0.0, 0.0, 0.0, 0.0, 0.0], [0.0, 1.0, 0.0, 0.0, 0.0, 0.0, 0.0, 0.0], [0.0, 1.0, 0.0, 0.0, 0.0, 0.0, 0.0, 0.0], [0.0, 1.0, 0.0, 0.0, 0.0, 0.0, 0.0, 0.0], [0.0, 0.0, 0.0, 0.0, 1.0, 0.0, 0.0, 0.0], [0.0, 0.0, 0.0, 0.0, 0.0, 1.0, 0.0, 0.0], [0.0, 0.0, 0.0, 0.0, 0.0, 1.0, 3.023018477626566e-35, 0.0], [0.0, 0.0, 0.0, 0.0, 0.0, 1.0, 6.402665661412319e-26, 0.0]], [[1.0, 0.0, 0.0, 0.0, 0.0, 0.0, 0.0, 0.0], [0.31315580010414124, 0.6868441700935364, 0.0, 0.0, 0.0, 0.0, 0.0, 0.0], [0.31578540802001953, 0.011760846711695194, 0.6724537014961243, 0.0, 0.0, 0.0, 0.0, 0.0], [0.40160834789276123, 0.005151915829628706, 0.07794369757175446, 0.5152960419654846, 0.0, 0.0, 0.0, 0.0], [0.42544811964035034, 0.004707967862486839, 0.051090508699417114, 0.15348151326179504, 0.3652719557285309, 0.0, 0.0, 0.0], [0.43328234553337097, 0.007426020223647356, 0.055265218019485474, 0.0620543509721756, 0.14537082612514496, 0.29660120606422424, 0.0, 0.0], [0.47264721989631653, 0.009583023376762867, 0.06695263832807541, 0.0687074139714241, 0.07377822697162628, 0.08100741356611252, 0.2273240089416504, 0.0], [0.3449081480503082, 0.013796275481581688, 0.05823880061507225, 0.09332268685102463, 0.04916948452591896, 0.032639384269714355, 0.08884558081626892, 0.31907960772514343]]], [[[1.0, 0.0, 0.0, 0.0, 0.0, 0.0, 0.0, 0.0], [0.9925340414047241, 0.007465919945389032, 0.0, 0.0, 0.0, 0.0, 0.0, 0.0], [0.9438528418540955, 0.049248240888118744, 0.006898933555930853, 0.0, 0.0, 0.0, 0.0, 0.0], [0.9129356741905212, 0.06138012930750847, 0.012881590984761715, 0.012802548706531525, 0.0, 0.0, 0.0, 0.0], [0.9824932813644409, 0.003159251296892762, 0.0030438615940511227, 0.003484707558527589, 0.00781880784779787, 0.0, 0.0, 0.0], [0.38225647807121277, 0.00033318373607471585, 0.010907383635640144, 0.1999835968017578, 0.3938804268836975, 0.012638832442462444, 0.0, 0.0], [0.4957408905029297, 0.0015448570484295487, 0.0007428014650940895, 0.281386137008667, 0.08908736705780029, 0.06571123749017715, 0.0657866969704628, 0.0], [0.7562954425811768, 0.006367218680679798, 0.003688866039738059, 0.009020513854920864, 0.04937279596924782, 0.0817592442035675, 0.0731469914317131, 0.020348893478512764]], [[1.0, 0.0, 0.0, 0.0, 0.0, 0.0, 0.0, 0.0], [0.9933788776397705, 0.0066211046651005745, 0.0, 0.0, 0.0, 0.0, 0.0, 0.0], [0.9237172603607178, 0.07194191962480545, 0.004340823274105787, 0.0, 0.0, 0.0, 0.0, 0.0], [0.9116879105567932, 0.02339426800608635, 0.03959384188055992, 0.025324011221528053, 0.0, 0.0, 0.0, 0.0], [0.6245944499969482, 0.02066783234477043, 0.041372332721948624, 0.2941748797893524, 0.019190458580851555, 0.0, 0.0, 0.0], [0.7424573302268982, 0.0010898245964199305, 0.005181383341550827, 0.05743135139346123, 0.13427995145320892, 0.05956006050109863, 0.0, 0.0], [0.536212682723999, 0.002063268795609474, 0.005606666672974825, 0.002919096266850829, 0.04183170199394226, 0.3855997323989868, 0.025766752660274506, 0.0], [0.7906786799430847, 0.005521468818187714, 0.0064881169237196445, 0.0017580834683030844, 0.006822335533797741, 0.07854263484477997, 0.09955497831106186, 0.010633794590830803]], [[1.0, 0.0, 0.0, 0.0, 0.0, 0.0, 0.0, 0.0], [0.9950142502784729, 0.004985733889043331, 0.0, 0.0, 0.0, 0.0, 0.0, 0.0], [0.968414843082428, 0.03038804419338703, 0.0011971464846283197, 0.0, 0.0, 0.0, 0.0, 0.0], [0.9435144662857056, 0.04686034098267555, 0.0027267485857009888, 0.006898495834320784, 0.0, 0.0, 0.0, 0.0], [0.5051921606063843, 0.0332537516951561, 0.01952768675982952, 0.4281145930290222, 0.013911849819123745, 0.0, 0.0, 0.0], [0.5827329158782959, 0.0033600563183426857, 0.03881167992949486, 0.35617172718048096, 0.015152920968830585, 0.0037707360461354256, 0.0, 0.0], [0.7385711073875427, 0.004330884665250778, 0.01365745160728693, 0.19773706793785095, 0.04157450795173645, 0.002811583224684, 0.0013172090984880924, 0.0], [0.7657648921012878, 0.01895167864859104, 0.01126040518283844, 0.0819249078631401, 0.045091208070516586, 0.04945547506213188, 0.014450562186539173, 0.013100949116051197]], [[1.0, 0.0, 0.0, 0.0, 0.0, 0.0, 0.0, 0.0], [0.9958117008209229, 0.004188315477222204, 0.0, 0.0, 0.0, 0.0, 0.0, 0.0], [0.9863730669021606, 0.010450072586536407, 0.0031767638865858316, 0.0, 0.0, 0.0, 0.0, 0.0], [0.81229567527771, 0.06690015643835068, 0.07207807898521423, 0.04872613027691841, 0.0, 0.0, 0.0, 0.0], [0.6674233078956604, 0.05165768787264824, 0.1961335986852646, 0.08075810223817825, 0.004027298651635647, 0.0, 0.0, 0.0], [0.2928240895271301, 0.005769429728388786, 0.08772432804107666, 0.5772979855537415, 0.03127378597855568, 0.005110353697091341, 0.0, 0.0], [0.5618669390678406, 0.012313145212829113, 0.012804915197193623, 0.13386081159114838, 0.14788725972175598, 0.08054178953170776, 0.050725072622299194, 0.0], [0.718855082988739, 0.0279677901417017, 0.003331379499286413, 0.014832944609224796, 0.02598356269299984, 0.09887798130512238, 0.10105567425489426, 0.009095589630305767]], [[1.0, 0.0, 0.0, 0.0, 0.0, 0.0, 0.0, 0.0], [0.9917705059051514, 0.008229498751461506, 0.0, 0.0, 0.0, 0.0, 0.0, 0.0], [0.9552366137504578, 0.03240841627120972, 0.012354949489235878, 0.0, 0.0, 0.0, 0.0, 0.0], [0.670482337474823, 0.02489667944610119, 0.2638304531574249, 0.04079053923487663, 0.0, 0.0, 0.0, 0.0], [0.8100218176841736, 0.0039072418585419655, 0.009050874970853329, 0.14533567428588867, 0.031684327870607376, 0.0, 0.0, 0.0], [0.5984808206558228, 0.0071801841259002686, 0.0054059624671936035, 0.038268979638814926, 0.3285527527332306, 0.022111261263489723, 0.0, 0.0], [0.7925899028778076, 0.007790687028318644, 0.006344677414745092, 0.0028846622444689274, 0.043698616325855255, 0.12896014750003815, 0.017731238156557083, 0.0], [0.7375054955482483, 0.007302801590412855, 0.005234701558947563, 0.0006601477507501841, 0.00557309715077281, 0.049880001693964005, 0.18246246874332428, 0.011381278745830059]], [[1.0, 0.0, 0.0, 0.0, 0.0, 0.0, 0.0, 0.0], [0.959634006023407, 0.040365952998399734, 0.0, 0.0, 0.0, 0.0, 0.0, 0.0], [0.9015865921974182, 0.08562343567609787, 0.01278993021696806, 0.0, 0.0, 0.0, 0.0, 0.0], [0.9145070910453796, 0.015868496149778366, 0.0662592351436615, 0.0033651271369308233, 0.0, 0.0, 0.0, 0.0], [0.6902948617935181, 0.1290857046842575, 0.1648252308368683, 0.010637261904776096, 0.005157007835805416, 0.0, 0.0, 0.0], [0.7724131345748901, 0.0337272509932518, 0.03201369568705559, 0.11065380275249481, 0.002436456037685275, 0.04875567927956581, 0.0, 0.0], [0.712204098701477, 0.004483533091843128, 0.040607091039419174, 0.10067781060934067, 0.0021667226683348417, 0.1296015828847885, 0.010259181261062622, 0.0], [0.8843401074409485, 0.015042872168123722, 0.048735737800598145, 0.007621161639690399, 0.006275765132158995, 0.02065144293010235, 0.00551548320800066, 0.011817453429102898]], [[1.0, 0.0, 0.0, 0.0, 0.0, 0.0, 0.0, 0.0], [0.9942194223403931, 0.005780586041510105, 0.0, 0.0, 0.0, 0.0, 0.0, 0.0], [0.9302158355712891, 0.04341861233115196, 0.02636561542749405, 0.0, 0.0, 0.0, 0.0, 0.0], [0.9603214859962463, 0.0008270363905467093, 0.008675508201122284, 0.030176077038049698, 0.0, 0.0, 0.0, 0.0], [0.4440273344516754, 0.014009686186909676, 0.02224244363605976, 0.5114194750785828, 0.008300979621708393, 0.0, 0.0, 0.0], [0.5001918077468872, 0.03368056192994118, 0.02387172169983387, 0.40720996260643005, 0.007519983220845461, 0.027525966987013817, 0.0, 0.0], [0.7966787815093994, 0.09459242969751358, 0.0035421436186879873, 0.046641264110803604, 0.0015977504663169384, 0.04638640955090523, 0.010561276227235794, 0.0], [0.8951393961906433, 0.012586679309606552, 0.004702612292021513, 0.014773991890251637, 0.001825117040425539, 0.017279885709285736, 0.025319118052721024, 0.028373191133141518]], [[1.0, 0.0, 0.0, 0.0, 0.0, 0.0, 0.0, 0.0], [0.9962899684906006, 0.003710043616592884, 0.0, 0.0, 0.0, 0.0, 0.0, 0.0], [0.9550417065620422, 0.006128603592514992, 0.03882965072989464, 0.0, 0.0, 0.0, 0.0, 0.0], [0.8310548067092896, 0.019861606881022453, 0.14717720448970795, 0.0019063486251980066, 0.0, 0.0, 0.0, 0.0], [0.5567519068717957, 0.03595517575740814, 0.4036800265312195, 0.002326369285583496, 0.0012864976888522506, 0.0, 0.0, 0.0], [0.5951518416404724, 0.03606075793504715, 0.14766815304756165, 0.05087588354945183, 0.13110938668251038, 0.03913396969437599, 0.0, 0.0], [0.3680802881717682, 0.004199481103569269, 0.043001674115657806, 0.014530119486153126, 0.26488566398620605, 0.2919972836971283, 0.013305477797985077, 0.0], [0.7016053199768066, 0.0059455097652971745, 0.022484734654426575, 0.005234438925981522, 0.06144722178578377, 0.08664656430482864, 0.0884471982717514, 0.02818898670375347]]], [[[1.0, 0.0, 0.0, 0.0, 0.0, 0.0, 0.0, 0.0], [0.9892802834510803, 0.010719723999500275, 0.0, 0.0, 0.0, 0.0, 0.0, 0.0], [0.30164650082588196, 0.6479396224021912, 0.05041389539837837, 0.0, 0.0, 0.0, 0.0, 0.0], [0.1095491498708725, 0.0006935088313184679, 0.8800163269042969, 0.009740901179611683, 0.0, 0.0, 0.0, 0.0], [0.030250191688537598, 0.011594301089644432, 0.003978311084210873, 0.9366228580474854, 0.01755439303815365, 0.0, 0.0, 0.0], [0.2556639015674591, 0.04902644455432892, 0.014173563569784164, 0.013148248195648193, 0.6563393473625183, 0.011648574844002724, 0.0, 0.0], [0.012211297638714314, 0.002584409434348345, 0.0001579755189595744, 0.00017461366951465607, 0.002188328420743346, 0.9432754516601562, 0.03940789774060249, 0.0], [0.06228712201118469, 0.04089570418000221, 0.01529034785926342, 0.0006447048508562148, 0.008846965618431568, 0.06594815105199814, 0.6975125074386597, 0.10857446491718292]], [[1.0, 0.0, 0.0, 0.0, 0.0, 0.0, 0.0, 0.0], [0.9688528776168823, 0.031147126108407974, 0.0, 0.0, 0.0, 0.0, 0.0, 0.0], [0.78211909532547, 0.20244072377681732, 0.0154402581974864, 0.0, 0.0, 0.0, 0.0, 0.0], [0.328712522983551, 0.6275190114974976, 0.005712693557143211, 0.03805578872561455, 0.0, 0.0, 0.0, 0.0], [0.5291469097137451, 0.13547174632549286, 0.05200745537877083, 0.24783019721508026, 0.03554370999336243, 0.0, 0.0, 0.0], [0.29298797249794006, 0.015982048586010933, 0.006242890376597643, 0.07853858172893524, 0.5968625545501709, 0.009386016987264156, 0.0, 0.0], [0.20692358911037445, 0.003083550138399005, 0.03752032294869423, 0.2027110606431961, 0.09917664527893066, 0.008925867266952991, 0.44165900349617004, 0.0], [0.02372431568801403, 0.0008827600395306945, 0.000252595724305138, 0.005334961693733931, 0.26690834760665894, 0.027847500517964363, 0.6720708012580872, 0.0029787258245050907]], [[1.0, 0.0, 0.0, 0.0, 0.0, 0.0, 0.0, 0.0], [0.7831052541732788, 0.21689467132091522, 0.0, 0.0, 0.0, 0.0, 0.0, 0.0], [0.5557984113693237, 0.25212037563323975, 0.19208112359046936, 0.0, 0.0, 0.0, 0.0, 0.0], [0.4751052260398865, 0.3516062796115875, 0.17214801907539368, 0.001140393316745758, 0.0, 0.0, 0.0, 0.0], [0.4738202691078186, 0.02964419685304165, 0.18677371740341187, 0.2852911055088043, 0.024470673874020576, 0.0, 0.0, 0.0], [0.37899526953697205, 0.005077532958239317, 0.0020358641631901264, 0.03436730429530144, 0.5635936260223389, 0.015930449590086937, 0.0, 0.0], [0.6322338581085205, 0.003537406912073493, 0.00012790414621122181, 0.00681457482278347, 0.3087661862373352, 0.047575097531080246, 0.0009449917706660926, 0.0], [0.09218136966228485, 0.01085731666535139, 0.0011022237595170736, 0.020226774737238884, 0.0126341562718153, 0.1911761611700058, 0.6714580059051514, 0.0003640189243014902]], [[1.0, 0.0, 0.0, 0.0, 0.0, 0.0, 0.0, 0.0], [0.5396891236305237, 0.46031084656715393, 0.0, 0.0, 0.0, 0.0, 0.0, 0.0], [0.5980775356292725, 0.13349521160125732, 0.2684272527694702, 0.0, 0.0, 0.0, 0.0, 0.0], [0.09177216142416, 0.015363314189016819, 0.8905492424964905, 0.0023153198417276144, 0.0, 0.0, 0.0, 0.0], [0.09023510664701462, 0.0007663407013751566, 0.03179578483104706, 0.8613736033439636, 0.01582925021648407, 0.0, 0.0, 0.0], [0.14720067381858826, 8.971868373919278e-05, 0.04897584393620491, 0.007804505061358213, 0.7360441088676453, 0.0598851777613163, 0.0, 0.0], [0.011444684118032455, 0.0006968713132664561, 2.914619653893169e-05, 0.00030073962989263237, 0.002061439212411642, 0.07695285975933075, 0.9085142016410828, 0.0], [0.0005338832852430642, 8.431283276877366e-06, 0.0001235382369486615, 4.025124326290097e-06, 3.1074621801963076e-05, 0.003328432561829686, 0.8967633843421936, 0.09920729696750641]], [[1.0, 0.0, 0.0, 0.0, 0.0, 0.0, 0.0, 0.0], [0.9990838766098022, 0.000916074903216213, 0.0, 0.0, 0.0, 0.0, 0.0, 0.0], [0.9275023937225342, 0.034331128001213074, 0.038166508078575134, 0.0, 0.0, 0.0, 0.0, 0.0], [0.7549185156822205, 0.18288347125053406, 0.047899309545755386, 0.014298714697360992, 0.0, 0.0, 0.0, 0.0], [0.4730452597141266, 0.09229151159524918, 0.09656830132007599, 0.32971709966659546, 0.008377841673791409, 0.0, 0.0, 0.0], [0.05762890353798866, 0.00010571356688160449, 0.16481398046016693, 0.7602958083152771, 0.015869664028286934, 0.0012859010603278875, 0.0, 0.0], [0.0772821381688118, 0.0015801341505721211, 0.010677050799131393, 0.0034087421372532845, 0.7507674098014832, 0.14697426557540894, 0.009310211054980755, 0.0], [0.0022188264410942793, 0.0006049997755326331, 0.001011960906907916, 0.00046269723679870367, 0.08077358454465866, 0.6441980004310608, 0.2704639136791229, 0.00026602085563354194]], [[1.0, 0.0, 0.0, 0.0, 0.0, 0.0, 0.0, 0.0], [0.7726597189903259, 0.22734032571315765, 0.0, 0.0, 0.0, 0.0, 0.0, 0.0], [0.8068283200263977, 0.04568597674369812, 0.1474856585264206, 0.0, 0.0, 0.0, 0.0, 0.0], [0.11925516277551651, 0.0037864907644689083, 0.8763779997825623, 0.0005803884123452008, 0.0, 0.0, 0.0, 0.0], [0.42215538024902344, 0.021348286420106888, 0.5304844379425049, 0.02293604612350464, 0.0030757777858525515, 0.0, 0.0, 0.0], [0.5326846241950989, 0.04261557012796402, 0.2118591070175171, 0.08780873566865921, 0.12199819833040237, 0.003033702727407217, 0.0, 0.0], [0.26691189408302307, 0.0010878723114728928, 0.06474192440509796, 0.14514145255088806, 0.08043140918016434, 0.4109424352645874, 0.030743049457669258, 0.0], [0.612298846244812, 0.06941544264554977, 0.02507081814110279, 0.0036892711650580168, 0.0012475935509428382, 0.0033724596723914146, 0.06784225255250931, 0.21706338226795197]], [[1.0, 0.0, 0.0, 0.0, 0.0, 0.0, 0.0, 0.0], [0.994204580783844, 0.0057954671792685986, 0.0, 0.0, 0.0, 0.0, 0.0, 0.0], [0.9852854609489441, 0.0015436233952641487, 0.013170914724469185, 0.0, 0.0, 0.0, 0.0, 0.0], [0.27268949151039124, 0.015068805776536465, 0.7087670564651489, 0.0034746399614959955, 0.0, 0.0, 0.0, 0.0], [0.554250955581665, 0.06328272074460983, 0.3638836443424225, 0.014391559176146984, 0.004191163461655378, 0.0, 0.0, 0.0], [0.5276049971580505, 0.017602890729904175, 0.12650920450687408, 0.0021492638625204563, 0.16436675190925598, 0.16176681220531464, 0.0, 0.0], [0.27736788988113403, 0.0018691731384024024, 0.035469356924295425, 0.001225322368554771, 0.0607706643640995, 0.009226026944816113, 0.6140715479850769, 0.0], [0.026277126744389534, 0.0004204515425954014, 0.010424706153571606, 2.8839656806667335e-05, 0.000662557256873697, 0.00937348511070013, 0.7445379495620728, 0.2082749456167221]], [[1.0, 0.0, 0.0, 0.0, 0.0, 0.0, 0.0, 0.0], [0.9891465902328491, 0.010853460058569908, 0.0, 0.0, 0.0, 0.0, 0.0, 0.0], [0.6437697410583496, 0.006057451944798231, 0.35017281770706177, 0.0, 0.0, 0.0, 0.0, 0.0], [0.08398483693599701, 0.0256227757781744, 0.8883921504020691, 0.002000190317630768, 0.0, 0.0, 0.0, 0.0], [0.36387237906455994, 0.0021839148830622435, 0.6058275699615479, 0.018219253048300743, 0.009897024370729923, 0.0, 0.0, 0.0], [0.7160477042198181, 0.0019690333865582943, 0.14005537331104279, 0.09681061655282974, 0.005746492184698582, 0.03937068209052086, 0.0, 0.0], [0.024168744683265686, 0.00020133661746513098, 0.10507325828075409, 0.0005788806010968983, 0.000751282786950469, 0.8418411612510681, 0.027385346591472626, 0.0], [0.07566327601671219, 0.0014250976964831352, 0.8754017949104309, 0.005718855187296867, 0.0013448683312162757, 0.01771392859518528, 0.009142361581325531, 0.013589899986982346]]], [[[1.0, 0.0, 0.0, 0.0, 0.0, 0.0, 0.0, 0.0], [0.8818316459655762, 0.11816836148500443, 0.0, 0.0, 0.0, 0.0, 0.0, 0.0], [0.013100570067763329, 0.9867021441459656, 0.0001972432219190523, 0.0, 0.0, 0.0, 0.0, 0.0], [0.9180817008018494, 0.017675694078207016, 0.043424736708402634, 0.020817873999476433, 0.0, 0.0, 0.0, 0.0], [0.14843198657035828, 0.0014647649368271232, 0.19868159294128418, 0.6470096111297607, 0.0044120620004832745, 0.0, 0.0, 0.0], [0.05087830126285553, 0.003370753489434719, 0.001879884977824986, 0.16589291393756866, 0.7636969089508057, 0.014281230047345161, 0.0, 0.0], [0.039746273308992386, 0.0007665865705348551, 0.0016381435561925173, 0.04599469527602196, 0.9111523628234863, 0.00016474119911435992, 0.0005371378501877189, 0.0], [0.739149808883667, 0.009047969244420528, 0.0023167349863797426, 0.02211753837764263, 0.04893636330962181, 0.019393956288695335, 0.058594826608896255, 0.1004428118467331]], [[1.0, 0.0, 0.0, 0.0, 0.0, 0.0, 0.0, 0.0], [0.8272583484649658, 0.17274169623851776, 0.0, 0.0, 0.0, 0.0, 0.0, 0.0], [0.7546809911727905, 0.24283456802368164, 0.0024844964500516653, 0.0, 0.0, 0.0, 0.0, 0.0], [0.8427939414978027, 0.05337890237569809, 0.09853124618530273, 0.005295946262776852, 0.0, 0.0, 0.0, 0.0], [0.23626968264579773, 0.4313364028930664, 0.18492388725280762, 0.0042739929631352425, 0.14319603145122528, 0.0, 0.0, 0.0], [0.10432624816894531, 0.007184556219726801, 0.286166250705719, 0.19521383941173553, 0.39408501982688904, 0.013024079613387585, 0.0, 0.0], [0.04429050162434578, 0.0055689685977995396, 0.12061186134815216, 0.02750316448509693, 0.6660147905349731, 0.01277645118534565, 0.12323428690433502, 0.0], [0.3534969389438629, 0.02369477041065693, 0.0005906331934966147, 0.05639388784766197, 0.3342531621456146, 0.12446831911802292, 0.011268297210335732, 0.09583409130573273]], [[1.0, 0.0, 0.0, 0.0, 0.0, 0.0, 0.0, 0.0], [0.9274395108222961, 0.07256048917770386, 0.0, 0.0, 0.0, 0.0, 0.0, 0.0], [0.6237738728523254, 0.36111509799957275, 0.015110976994037628, 0.0, 0.0, 0.0, 0.0, 0.0], [0.8735990524291992, 0.050089363008737564, 0.07161741703748703, 0.004694212228059769, 0.0, 0.0, 0.0, 0.0], [0.04232596233487129, 9.177710307994857e-05, 0.946806788444519, 0.00977962464094162, 0.000995889538899064, 0.0, 0.0, 0.0], [0.5194441676139832, 0.010706953704357147, 0.15071627497673035, 0.0711640864610672, 0.012589732185006142, 0.23537880182266235, 0.0, 0.0], [0.01935468055307865, 0.0020583143923431635, 0.00039848737651482224, 0.0033059478737413883, 0.0038679507561028004, 0.9628481268882751, 0.008166478946805, 0.0], [0.5130122303962708, 0.0083594536408782, 0.04167652502655983, 0.012273537926375866, 0.0029226343613117933, 0.27562415599823, 0.01663193851709366, 0.12949945032596588]], [[1.0, 0.0, 0.0, 0.0, 0.0, 0.0, 0.0, 0.0], [0.9934444427490234, 0.0065555265173316, 0.0, 0.0, 0.0, 0.0, 0.0, 0.0], [0.706883430480957, 0.11745188385248184, 0.17566470801830292, 0.0, 0.0, 0.0, 0.0, 0.0], [0.25726139545440674, 0.3914088308811188, 0.32947754859924316, 0.02185223437845707, 0.0, 0.0, 0.0, 0.0], [0.20533134043216705, 0.21227146685123444, 0.5022372603416443, 0.04952502250671387, 0.030634939670562744, 0.0, 0.0, 0.0], [0.05223727971315384, 0.03584021329879761, 0.15422971546649933, 0.036535486578941345, 0.04105581343173981, 0.6801015138626099, 0.0, 0.0], [0.016706977039575577, 0.0015481117879971862, 0.008324163034558296, 0.0002480811963323504, 0.001341668190434575, 0.9686247706413269, 0.0032062726095318794, 0.0], [0.38948842883110046, 0.010188027285039425, 0.20232278108596802, 0.01331623736768961, 0.15286211669445038, 0.13491219282150269, 0.07088153809309006, 0.026028627529740334]], [[1.0, 0.0, 0.0, 0.0, 0.0, 0.0, 0.0, 0.0], [0.9806705713272095, 0.01932939700782299, 0.0, 0.0, 0.0, 0.0, 0.0, 0.0], [0.828686535358429, 0.07299662381410599, 0.09831691533327103, 0.0, 0.0, 0.0, 0.0, 0.0], [0.12880054116249084, 0.022084396332502365, 0.8021527528762817, 0.04696226865053177, 0.0, 0.0, 0.0, 0.0], [0.2249060720205307, 0.41497373580932617, 0.22858324646949768, 0.126234233379364, 0.00530271977186203, 0.0, 0.0, 0.0], [0.3184986710548401, 0.022832153365015984, 0.26320987939834595, 0.08869591355323792, 0.10775955766439438, 0.19900383055210114, 0.0, 0.0], [0.02502172440290451, 0.004057659767568111, 0.005849204491823912, 0.003426403971388936, 0.04779203236103058, 0.8899871706962585, 0.023865777999162674, 0.0], [0.22395990788936615, 0.20496582984924316, 0.049734871834516525, 0.1489284634590149, 0.21377314627170563, 0.08807791769504547, 0.03899184241890907, 0.03156808763742447]], [[1.0, 0.0, 0.0, 0.0, 0.0, 0.0, 0.0, 0.0], [0.9583103656768799, 0.0416896715760231, 0.0, 0.0, 0.0, 0.0, 0.0, 0.0], [0.5195457935333252, 0.46232739090919495, 0.01812676712870598, 0.0, 0.0, 0.0, 0.0, 0.0], [0.12340303510427475, 0.11865293979644775, 0.04478117451071739, 0.7131628394126892, 0.0, 0.0, 0.0, 0.0], [0.01473979838192463, 0.0011618941789492965, 0.08083327859640121, 0.875813901424408, 0.02745114639401436, 0.0, 0.0, 0.0], [0.12528371810913086, 0.007969613187015057, 0.005363358184695244, 0.4898921847343445, 0.36892858147621155, 0.0025625794660300016, 0.0, 0.0], [0.03189248964190483, 0.002160806907340884, 0.04507650434970856, 0.5070335865020752, 0.07896691560745239, 0.28885042667388916, 0.04601912945508957, 0.0], [0.49114716053009033, 0.04495508596301079, 0.0282927043735981, 0.02201668545603752, 0.012357426807284355, 0.30364981293678284, 0.07781918346881866, 0.019761858507990837]], [[1.0, 0.0, 0.0, 0.0, 0.0, 0.0, 0.0, 0.0], [0.8277081251144409, 0.17229187488555908, 0.0, 0.0, 0.0, 0.0, 0.0, 0.0], [0.8934963345527649, 0.03053751215338707, 0.07596616446971893, 0.0, 0.0, 0.0, 0.0, 0.0], [0.39724409580230713, 0.021469581872224808, 0.5432333946228027, 0.03805297240614891, 0.0, 0.0, 0.0, 0.0], [0.17916004359722137, 0.37263354659080505, 0.07040046900510788, 0.22032524645328522, 0.15748059749603271, 0.0, 0.0, 0.0], [0.10993529856204987, 0.007008686196058989, 0.34388044476509094, 0.14878499507904053, 0.3827342987060547, 0.007656280416995287, 0.0, 0.0], [0.004703792277723551, 0.0009138330351561308, 0.0025175209157168865, 0.043799616396427155, 0.013071691617369652, 0.003881581826135516, 0.9311120510101318, 0.0], [0.13918066024780273, 0.00025889030075632036, 0.004870750475674868, 0.10512290894985199, 0.0029104556888341904, 0.0023291283287107944, 0.10004033893346786, 0.6452868580818176]], [[1.0, 0.0, 0.0, 0.0, 0.0, 0.0, 0.0, 0.0], [0.9773470759391785, 0.022652940824627876, 0.0, 0.0, 0.0, 0.0, 0.0, 0.0], [0.7418619394302368, 0.18094076216220856, 0.07719730585813522, 0.0, 0.0, 0.0, 0.0, 0.0], [0.033800769597291946, 0.006253779400140047, 0.9596149921417236, 0.00033046730095520616, 0.0, 0.0, 0.0, 0.0], [0.20509421825408936, 0.19735100865364075, 0.36151957511901855, 0.005614050198346376, 0.23042112588882446, 0.0, 0.0, 0.0], [0.061397965997457504, 0.10671523213386536, 0.05265360698103905, 0.0002276891900692135, 0.5226184725761414, 0.25638702511787415, 0.0, 0.0], [0.04804930463433266, 0.020806042477488518, 0.2706914246082306, 0.00017822142399381846, 0.580023467540741, 0.05750236287713051, 0.022749152034521103, 0.0], [0.11973903328180313, 0.0002405643608653918, 0.03256601095199585, 0.0031827474012970924, 0.7745680212974548, 0.046570755541324615, 0.019490031525492668, 0.003642876399680972]]]], \"left_text\": [\"Q\", \"Y\", \"S\", \"V\", \"L\", \"I\", \"F\", \"<eos>\"], \"right_text\": [\"Q\", \"Y\", \"S\", \"V\", \"L\", \"I\", \"F\", \"<eos>\"]}, {\"name\": \"Cross\", \"attn\": [[[[0.9942237734794617, 0.0054429760202765465, 7.035928865661845e-05, 4.435313167050481e-05, 1.2882705050287768e-05, 4.533458559308201e-05, 6.774735084036365e-05, 9.243898239219561e-05, 0.0], [0.008393458090722561, 0.9894208908081055, 0.0016692002536728978, 9.142259841610212e-06, 3.5682503494172124e-06, 5.5297723520197906e-06, 5.942282223259099e-05, 0.0004387483058962971, 0.0], [3.4707012673607096e-05, 0.017462238669395447, 0.9603572487831116, 0.020074844360351562, 1.0818483133334666e-05, 3.932965739750216e-07, 4.0776268406261806e-07, 0.002059416612610221, 0.0], [3.443529567448422e-05, 3.135976294288412e-05, 0.030443497002124786, 0.5634071826934814, 0.39667949080467224, 1.0901104360527825e-05, 1.125477027130728e-07, 0.009393061511218548, 0.0], [1.591765339981066e-06, 1.2799046089639887e-07, 2.8070362532162108e-06, 0.020575905218720436, 0.907551646232605, 0.07183542847633362, 6.546124495798722e-07, 3.186741378158331e-05, 0.0], [5.573531780100893e-06, 4.5167137585622186e-08, 6.880856440183436e-10, 5.876218551748025e-07, 0.0001591258478583768, 0.9970813393592834, 0.0026232702657580376, 0.00013006287917960435, 0.0], [3.299949457868934e-05, 3.3066453397623263e-06, 2.6364455063543346e-10, 1.7460723622172991e-12, 3.5468525338977486e-10, 0.0008811348816379905, 0.9943986535072327, 0.004683947190642357, 0.0], [1.922396222653333e-05, 0.0008240705356001854, 6.031012134144476e-08, 6.475726205268373e-12, 2.8167992569515243e-14, 2.7231097932123305e-10, 0.010695691220462322, 0.988460898399353, 0.0]], [[0.01734287478029728, 0.12547658383846283, 0.006581353023648262, 6.843497249064967e-05, 0.817101240158081, 0.024299263954162598, 0.00040671881288290024, 0.008723587729036808, 0.0], [0.02650091052055359, 0.2707943618297577, 0.6638835668563843, 0.0024990651290863752, 0.0021674344316124916, 0.010808113031089306, 0.0022411923855543137, 0.02110544964671135, 0.0], [0.039031725376844406, 0.39720508456230164, 0.4778381884098053, 0.0013764940667897463, 0.013789485208690166, 0.010522211901843548, 0.0019776264671236277, 0.05825914442539215, 0.0], [0.0034689183812588453, 0.003400427056476474, 0.846335232257843, 0.0045281401835381985, 0.06008516252040863, 0.02265038900077343, 0.005313567817211151, 0.054218217730522156, 0.0], [0.0062578883953392506, 0.004355236887931824, 0.02795826643705368, 0.03666766360402107, 0.7633800506591797, 0.046390146017074585, 0.003297232324257493, 0.11169341206550598, 0.0], [0.0009002566221170127, 0.000895257864613086, 0.004339669365435839, 9.015414252644405e-05, 0.9150159358978271, 0.04380720853805542, 0.008455781266093254, 0.026495780795812607, 0.0], [0.002714630449190736, 0.00020545523148030043, 0.00022681348491460085, 0.00033327945857308805, 0.8017846941947937, 0.07978826761245728, 0.06633878499269485, 0.048608142882585526, 0.0], [0.0034664066042751074, 0.01352139562368393, 0.009060995653271675, 0.0017179034184664488, 0.23414631187915802, 0.4086463153362274, 0.16565725207328796, 0.1637834757566452, 0.0]], [[0.14995938539505005, 0.14143891632556915, 0.000676328840199858, 0.000208633195143193, 0.08390258252620697, 0.0030914826784282923, 0.003453865647315979, 0.6172688007354736, 0.0], [0.5722790956497192, 0.07715749740600586, 0.0034543813671916723, 0.0017620316939428449, 0.023218845948576927, 0.001864384044893086, 0.005659595597535372, 0.31460413336753845, 0.0], [0.19234606623649597, 0.7451444268226624, 0.012743025086820126, 0.0038504665717482567, 0.00042103786836378276, 0.0031570978462696075, 0.007650384213775396, 0.034687433391809464, 0.0], [0.007503715809434652, 0.37872010469436646, 0.4561697542667389, 0.11561597138643265, 0.0009643036755733192, 0.0034950056578963995, 0.006037109065800905, 0.031494103372097015, 0.0], [0.001223713275976479, 0.603181004524231, 0.19408319890499115, 0.09390030801296234, 0.04354125261306763, 0.0007451640558429062, 0.002823387971147895, 0.060501981526613235, 0.0], [0.0004460587806534022, 0.00205022725276649, 0.0455506406724453, 0.2385970652103424, 0.6674513220787048, 0.0012025419855490327, 0.0036810734309256077, 0.04102097451686859, 0.0], [0.0006446763291023672, 0.00013232101628091186, 0.00019582109234761447, 0.018281487748026848, 0.8041113018989563, 0.1317669153213501, 0.03187974914908409, 0.012987782247364521, 0.0], [0.0010329129872843623, 0.00017526576993986964, 0.00014623893366660923, 0.0014053336344659328, 0.012575844302773476, 0.5167203545570374, 0.4547865688800812, 0.013157431967556477, 0.0]], [[0.0043885475024580956, 0.140689417719841, 0.12561719119548798, 0.2273242026567459, 0.4682104289531708, 0.0009561913320794702, 0.0015230124117806554, 0.03129097446799278, 0.0], [0.0007943891687318683, 0.005689246580004692, 0.01953379437327385, 0.33044981956481934, 0.5919407606124878, 0.001098734443075955, 0.00012246092956047505, 0.05037078633904457, 0.0], [0.004243409726768732, 0.002997836098074913, 0.0018213973380625248, 0.054536122828722, 0.7490350008010864, 0.07889808714389801, 0.003599154995754361, 0.10486889630556107, 0.0], [0.03427988290786743, 0.004288914147764444, 0.0011109631741419435, 0.0013663803692907095, 0.0363294817507267, 0.6161902546882629, 0.08185278624296188, 0.22458143532276154, 0.0], [0.09040750563144684, 0.01708425022661686, 0.008977762423455715, 0.0015854801749810576, 0.009205663576722145, 0.1524192988872528, 0.20795808732509613, 0.5123618841171265, 0.0], [0.005197267513722181, 0.04959340766072273, 0.04791399836540222, 0.0012554002460092306, 0.0028242762200534344, 0.014261731877923012, 0.20620845258235931, 0.6727454662322998, 0.0], [0.0009811740601435304, 0.028855571523308754, 0.08833519369363785, 0.029534678906202316, 0.002978378441184759, 0.0005658311420120299, 0.010724125429987907, 0.8380250334739685, 0.0], [0.0008060919935815036, 0.006312873680144548, 0.05248955264687538, 0.04339548572897911, 0.032533805817365646, 0.0009235410252586007, 0.001479536877013743, 0.8620590567588806, 0.0]], [[0.00048323863302357495, 0.79558926820755, 5.2622053772211075e-05, 8.755947055760771e-05, 0.1629532128572464, 0.0002917636011261493, 0.0337030403316021, 0.006839400622993708, 0.0], [0.011945059522986412, 0.6456836462020874, 0.2337782084941864, 0.030084820464253426, 0.014341557398438454, 0.00012747038272209466, 0.028578681871294975, 0.035460591316223145, 0.0], [0.005953589454293251, 0.44864344596862793, 0.1720438152551651, 0.09052657335996628, 0.1083763837814331, 0.0013115409528836608, 0.04306180030107498, 0.13008272647857666, 0.0], [0.0002915020158980042, 0.0026960275135934353, 0.01750253140926361, 0.03351934254169464, 0.7530529499053955, 0.002365842228755355, 0.029317514970898628, 0.16125431656837463, 0.0], [1.5063846149132587e-05, 0.0004682966391555965, 0.00015543855261057615, 0.0008267944795079529, 0.8840252161026001, 0.0009732955950312316, 0.08914471417665482, 0.0243911724537611, 0.0], [2.3383718144032173e-05, 0.0005982753355056047, 2.2120602807262912e-05, 0.00011199411528650671, 0.04864662140607834, 0.012830340303480625, 0.9081781506538391, 0.0295890960842371, 0.0], [5.877056537428871e-05, 0.0029540667310357094, 4.491508661885746e-05, 1.679992419667542e-05, 0.023327598348259926, 0.019342266023159027, 0.8753834366798401, 0.07887210696935654, 0.0], [0.00010063670197268948, 0.0027143422048538923, 9.347376180812716e-05, 2.586731716291979e-05, 0.00330998282879591, 0.0012646118411794305, 0.8709813952445984, 0.12150965631008148, 0.0]], [[0.037738069891929626, 0.03748279809951782, 0.03112304024398327, 0.7520806789398193, 0.07628581672906876, 0.005353787913918495, 0.0005960405105724931, 0.05933975428342819, 0.0], [0.03385035693645477, 0.13020385801792145, 0.2790958881378174, 0.26481345295906067, 0.23555544018745422, 0.00044652269571088254, 0.00040020805317908525, 0.05563434213399887, 0.0], [0.0033275692258030176, 0.01615176536142826, 0.052032992243766785, 0.567510724067688, 0.10779234766960144, 0.011439365334808826, 0.0067014433443546295, 0.23504377901554108, 0.0], [0.007332836277782917, 0.4028979539871216, 0.030859770253300667, 0.10973498970270157, 0.18369220197200775, 0.007737259846180677, 0.00738930469378829, 0.25035566091537476, 0.0], [0.0012917006388306618, 0.02743123099207878, 0.01712251454591751, 0.3389475643634796, 0.14375026524066925, 0.24605391919612885, 0.054161187261343, 0.17124156653881073, 0.0], [0.0011992144864052534, 7.970896695042029e-05, 0.0008213127148337662, 0.005379816982895136, 0.3583040237426758, 0.42725807428359985, 0.13541635870933533, 0.07154151052236557, 0.0], [0.0006443775491788983, 0.0003730918688233942, 0.007363417651504278, 0.004666088614612818, 0.008599127642810345, 0.4625249207019806, 0.2725777328014374, 0.2432512640953064, 0.0], [0.006568229757249355, 0.0004159352683927864, 0.002135275397449732, 0.004574236925691366, 0.02808312512934208, 0.0630401223897934, 0.49683189392089844, 0.39835119247436523, 0.0]], [[0.011167220771312714, 8.336173777934164e-05, 9.761512956174556e-06, 2.5043867935892195e-05, 5.4230138630373403e-05, 3.6082071801502025e-06, 2.671143192856107e-05, 0.9886300563812256, 0.0], [0.951503574848175, 0.027599796652793884, 0.0003333070199005306, 2.372666131122969e-05, 2.5238168746000156e-05, 0.00686733890324831, 0.010024935007095337, 0.0036221237387508154, 0.0], [0.00683793006464839, 0.9894207715988159, 0.003506503300741315, 5.5810564845160116e-06, 5.23849621458794e-07, 8.082557769739651e-07, 6.206572834344115e-06, 0.0002217860019300133, 0.0], [0.00014830045984126627, 0.11983270198106766, 0.7118616104125977, 0.13312627375125885, 0.0009381695417687297, 4.484538294491358e-06, 5.624729601549916e-05, 0.034032195806503296, 0.0], [4.5423911387842963e-07, 4.811701728613116e-05, 0.006181827746331692, 0.18817541003227234, 0.8021970987319946, 4.328925115260063e-06, 5.354151966230347e-08, 0.0033926109317690134, 0.0], [9.817928514621599e-08, 1.8430002413083457e-08, 2.066846889192675e-07, 0.0027344715781509876, 0.9969968795776367, 0.0001742878812365234, 1.5776305417602998e-06, 9.255918848793954e-05, 0.0], [7.43917280487949e-06, 2.0730055894091493e-07, 1.2204632859891262e-09, 1.8305563571630046e-06, 0.6912168860435486, 0.24309982359409332, 0.06509241461753845, 0.0005814238102175295, 0.0], [0.0002575214020907879, 8.298927241412457e-06, 3.7886269121933935e-10, 7.263083467989873e-10, 1.4680917047371622e-05, 0.0061233555898070335, 0.9922221302986145, 0.0013740193098783493, 0.0]], [[0.007857500575482845, 0.16611900925636292, 0.0037212788593024015, 0.39077186584472656, 0.004621764179319143, 0.008834750391542912, 0.33336585760116577, 0.08470793068408966, 0.0], [0.023881183937191963, 0.6744598150253296, 0.13516870141029358, 0.04613901674747467, 0.006012342870235443, 0.001883198507130146, 0.04239489883184433, 0.07006094604730606, 0.0], [0.01978195086121559, 0.22970031201839447, 0.29439568519592285, 0.26993170380592346, 0.006260276772081852, 0.003930558916181326, 0.010558422654867172, 0.16544109582901, 0.0], [0.002327350899577141, 0.014058375731110573, 0.033327315002679825, 0.3065134584903717, 0.027928439900279045, 0.035915620625019073, 0.02828708104789257, 0.5516423583030701, 0.0], [0.0002733347937464714, 0.00046753216884098947, 0.002952490234747529, 0.34913158416748047, 0.04651357978582382, 0.18585386872291565, 0.13062511384487152, 0.28418248891830444, 0.0], [0.00012928235810250044, 0.00023332223645411432, 0.00036295081372372806, 0.011107104830443859, 0.009445843286812305, 0.1135689988732338, 0.7113443613052368, 0.15380816161632538, 0.0], [3.6581841413863e-05, 3.775754521484487e-05, 1.1860143786179833e-05, 0.000415909948060289, 0.0004001575580332428, 0.010786803439259529, 0.9203729629516602, 0.06793802231550217, 0.0], [0.00040582945803180337, 0.002499717054888606, 0.0006950501701794565, 0.0005363185191527009, 0.0004920861683785915, 0.02107350528240204, 0.5903998613357544, 0.383897602558136, 0.0]]], [[[2.198546553699998e-06, 0.0001557814102852717, 0.9993057250976562, 0.0004529560683295131, 1.8055507098324597e-06, 8.649584742670413e-06, 4.849048451660565e-08, 7.292184454854578e-05, 0.0], [0.000286339083686471, 0.015536854043602943, 0.9036426544189453, 0.04704129695892334, 0.02224380522966385, 0.005845050327479839, 2.3379352569463663e-05, 0.005380585789680481, 0.0], [0.0005718792672269046, 0.0012865560129284859, 0.00929939839988947, 0.09321772307157516, 0.08262251317501068, 0.3004235625267029, 0.040642619132995605, 0.4719356894493103, 0.0], [0.0003565603110473603, 8.243834599852562e-05, 0.0011871422175318003, 3.71734713553451e-05, 0.016349544748663902, 0.6789891719818115, 0.02108093537390232, 0.2819169759750366, 0.0], [0.0015721656382083893, 0.0005368359852582216, 0.0044932374730706215, 1.923924901348073e-05, 0.00021005963208153844, 0.1644323468208313, 0.10728027671575546, 0.7214558124542236, 0.0], [0.0024313232861459255, 0.015657752752304077, 0.007405619136989117, 0.00010319556895410642, 3.0403600248973817e-05, 0.1368102878332138, 0.10146252065896988, 0.7360988855361938, 0.0], [0.000346485641784966, 0.007861579768359661, 0.0008327936520799994, 4.067030658916337e-06, 1.1970689229201525e-05, 0.016340870410203934, 0.009765902534127235, 0.9648362994194031, 0.0], [0.00020626701007131487, 0.0012334909988567233, 0.002402883255854249, 0.00046646010014228523, 0.005098176188766956, 0.030992962419986725, 0.0060766516253352165, 0.9535230994224548, 0.0]], [[1.1363184446413379e-20, 3.78922359982696e-37, 1.0789998175301091e-43, 5.465085534811199e-37, 2.2252577574524165e-39, 2.802596928649634e-45, 0.0, 1.0, 0.0], [1.0, 1.1362277221524386e-12, 5.7526140769286776e-27, 5.565310107414417e-30, 9.477094080842977e-24, 3.646076191345712e-15, 7.156027160341173e-18, 3.151142558287289e-17, 0.0], [5.1180941429418425e-11, 1.0, 2.6229642902109163e-09, 1.2085171882431017e-26, 1.1840360805225377e-32, 4.178818467271282e-27, 2.672709497618294e-16, 7.860531924968911e-17, 0.0], [1.2315716530130107e-28, 4.302532635724887e-11, 1.0, 4.0256509237224236e-08, 2.1301855077525535e-25, 1.7040284089925327e-34, 8.775620162221964e-31, 5.200987106061072e-17, 0.0], [6.176628046080136e-25, 8.234645036511332e-19, 1.3048131108917005e-07, 0.9999996423721313, 2.5519241830807005e-07, 1.4707973102243795e-19, 1.5474803962320686e-26, 1.5669091729415136e-13, 0.0], [7.282148565494309e-25, 5.424918252449156e-27, 3.349788736451101e-20, 6.851941236618586e-10, 0.9999994039535522, 6.501771849798388e-07, 1.1746195481643895e-17, 2.7701005551883373e-12, 0.0], [1.1129138183423732e-18, 1.4251673526401793e-24, 1.4404401698366093e-29, 6.820071533812992e-27, 1.1972087383960162e-11, 1.0, 2.066822490931486e-09, 4.5922091135167445e-14, 0.0], [7.0826417647440465e-12, 1.8350188176700227e-13, 1.4920819858874859e-24, 2.503336295994196e-32, 1.5519643974812903e-23, 1.525290893589215e-09, 1.0, 2.975661980274963e-13, 0.0]], [[5.404670461173211e-11, 1.4367012113325472e-07, 0.9999998807907104, 4.30730118239353e-08, 5.642068462210765e-16, 1.178277009960854e-18, 2.7977972586260003e-13, 1.813308678193999e-16, 0.0], [0.041235558688640594, 0.0014373447047546506, 0.03323647752404213, 0.7081244587898254, 0.13822698593139648, 0.0010381446918472648, 3.07760237774346e-05, 0.07667026668787003, 0.0], [0.05866041034460068, 0.024727020412683487, 0.012014842592179775, 0.013648449443280697, 0.659338653087616, 0.061107784509658813, 0.00011046182771679014, 0.17039239406585693, 0.0], [0.00036332698073238134, 0.002596708480268717, 0.0002688636595848948, 5.69868425372988e-05, 0.010537199676036835, 0.7518649697303772, 0.011233105324208736, 0.22307880222797394, 0.0], [0.003410171251744032, 0.002909198170527816, 0.0006732691545039415, 0.0002495491353329271, 0.00026314027491025627, 0.13988257944583893, 0.2162562757730484, 0.6363558173179626, 0.0], [0.00292275776155293, 0.001892710104584694, 0.0009037898271344602, 6.614213634748012e-05, 0.00019637620425783098, 0.012748956680297852, 0.014795615337789059, 0.9664736986160278, 0.0], [0.004104639869183302, 0.0018865062156692147, 0.0009722619433887303, 0.00024586240760982037, 9.691694867797196e-05, 0.0010907270479947329, 0.00015778260421939194, 0.9914453029632568, 0.0], [0.03744891658425331, 0.013630877248942852, 0.00337348785251379, 0.004143033642321825, 0.007261108607053757, 0.001584969344548881, 0.00032881926745176315, 0.9322288036346436, 0.0]], [[0.005324074067175388, 0.9893214702606201, 0.003571700071915984, 0.000282179971691221, 4.279776021576254e-06, 1.001117198029533e-05, 0.0003400716232135892, 0.0011460715904831886, 0.0], [8.118027471937239e-05, 0.0387376993894577, 0.9532591700553894, 0.0071536824107170105, 2.3010861696093343e-05, 7.882700714390012e-08, 3.6948611068510218e-06, 0.0007415027939714491, 0.0], [9.435413630853873e-06, 0.00011315463052596897, 0.02665131539106369, 0.9663771390914917, 0.005090953782200813, 6.710045909130713e-06, 5.972422201239169e-08, 0.0017512041376903653, 0.0], [8.554493433621246e-06, 1.0512051176192472e-06, 6.229562359294505e-07, 0.01203734427690506, 0.9639054536819458, 0.020959192886948586, 2.2547494609170826e-06, 0.0030854842625558376, 0.0], [9.120120375882834e-05, 0.00010766509512905031, 8.142197657434735e-06, 1.1148928933835123e-05, 0.008616293780505657, 0.908407986164093, 0.053366679698228836, 0.02939087711274624, 0.0], [2.7675650926539674e-05, 0.00025326089235022664, 1.1950067346333526e-05, 2.1153626050818275e-07, 2.5579223802196793e-05, 0.05012321472167969, 0.8440537452697754, 0.1055043563246727, 0.0], [3.035387180716498e-06, 0.000445127283455804, 0.00017975688388105482, 1.252420815944788e-06, 3.6554304188030073e-06, 1.5221405192278326e-05, 0.008951088413596153, 0.9904008507728577, 0.0], [6.046533599146642e-06, 0.0003579092735890299, 0.0033576320856809616, 0.002318119863048196, 4.084757165401243e-05, 1.109872414417623e-06, 4.493678716244176e-05, 0.9938734769821167, 0.0]], [[0.07913651317358017, 0.18200042843818665, 0.7115164995193481, 0.007847496308386326, 0.00011883587285410613, 0.00046119745820760727, 0.010912660509347916, 0.008006365969777107, 0.0], [0.0007238719845190644, 0.002549361437559128, 0.9551526308059692, 0.03989819809794426, 0.00012154912838013843, 1.535996671009343e-05, 0.00043465240742079914, 0.001104345778003335, 0.0], [0.0020186398178339005, 0.035375870764255524, 0.013032052665948868, 0.20768174529075623, 0.7127089500427246, 7.66617595218122e-05, 0.00014460398233495653, 0.028961550444364548, 0.0], [0.00016755542310420424, 9.030471119331196e-06, 0.000168259022757411, 0.015796035528182983, 0.8277527093887329, 0.0030801689717918634, 0.0164002925157547, 0.13662593066692352, 0.0], [0.0003627908881753683, 7.82975839683786e-05, 0.00036576707498170435, 0.0061694420874118805, 0.6213740110397339, 0.10038084536790848, 0.13769610226154327, 0.1335727721452713, 0.0], [0.0023959411773830652, 0.0004932906595058739, 9.926041821017861e-05, 0.0020922606345266104, 0.28547629714012146, 0.06802491098642349, 0.2401982694864273, 0.40121978521347046, 0.0], [0.0005555907846428454, 0.000748327118344605, 0.0020653423853218555, 0.000649237132165581, 0.013897872529923916, 0.005321401637047529, 0.2579456567764282, 0.7188165783882141, 0.0], [0.0018396517261862755, 0.01063894759863615, 0.007704947143793106, 0.0024620594922453165, 0.04020877182483673, 0.01652197726070881, 0.09613672643899918, 0.8244869709014893, 0.0]], [[0.030241696164011955, 0.7127370238304138, 0.003030825173482299, 0.1825309693813324, 0.02410528063774109, 4.706215622718446e-05, 4.266008181730285e-05, 0.047264404594898224, 0.0], [0.1623430699110031, 0.38117915391921997, 0.02127458155155182, 0.07272728532552719, 0.04440275952219963, 0.008889867924153805, 0.008865203708410263, 0.3003181219100952, 0.0], [0.005956081207841635, 0.009862354025244713, 0.13318659365177155, 0.03004634939134121, 0.5020563006401062, 0.0989997535943985, 0.03278905898332596, 0.18710342049598694, 0.0], [0.0059837899170815945, 0.9467135071754456, 0.0010754296090453863, 0.0036516652908176184, 0.003509112633764744, 0.0011400560615584254, 0.001224164734594524, 0.036702193319797516, 0.0], [0.03536941856145859, 0.1066044270992279, 0.19215795397758484, 0.02038155309855938, 0.039533115923404694, 0.3124222457408905, 0.010212155990302563, 0.2833192050457001, 0.0], [0.0029474617913365364, 0.005130082368850708, 0.2094460129737854, 0.02344461902976036, 0.014664312824606895, 0.5604850053787231, 0.042431753128767014, 0.1414506584405899, 0.0], [0.003908672835677862, 0.024184120818972588, 0.025620410218834877, 0.042927395552396774, 0.29310697317123413, 0.30192986130714417, 0.13413389027118683, 0.17418864369392395, 0.0], [0.00408909423276782, 0.006554063409566879, 0.01009261142462492, 0.012594204396009445, 0.04982056841254234, 0.5597888827323914, 0.18526287376880646, 0.17179764807224274, 0.0]], [[9.433616246244802e-27, 1.3211263101192711e-22, 1.0, 2.2638507279730546e-13, 1.8435724591799247e-31, 8.614481045622544e-33, 2.767171963132783e-23, 2.937769780039953e-25, 0.0], [1.6061015364887687e-12, 3.6866318916910223e-13, 1.6870715935368708e-09, 1.0, 4.938484288175005e-09, 6.609623186776774e-23, 1.130041561540398e-28, 3.745573406185861e-17, 0.0], [1.7142021135896357e-08, 1.0404629241511643e-10, 3.228282441716801e-13, 2.235772080894094e-05, 0.9999769926071167, 6.116595727689855e-07, 3.032374849243098e-19, 4.3205890254416346e-12, 0.0], [6.28160229994984e-13, 1.2629628855860726e-14, 1.2801500151128648e-19, 2.207062889392616e-19, 1.0961847607404707e-07, 0.9999661445617676, 3.378210385562852e-05, 3.277324939210402e-11, 0.0], [1.9174264953569775e-10, 1.3107749607943475e-10, 9.447479385989773e-15, 3.661627103213069e-20, 8.153811047845964e-15, 1.079567755368771e-05, 0.9996390342712402, 0.00035006547113880515, 0.0], [7.08105751812127e-09, 6.273328523320743e-08, 1.057599979814583e-10, 8.688450796218643e-19, 6.94780791238083e-20, 1.2720795011973707e-13, 4.0080845792545006e-05, 0.9999598264694214, 0.0], [3.034633209608728e-06, 1.2906405117973918e-06, 4.991120294839391e-10, 3.770118576053652e-14, 1.683622610028148e-19, 2.2283103482074903e-20, 5.622551764314842e-18, 0.9999957084655762, 0.0], [0.6388672590255737, 0.05297872796654701, 1.0867874152609147e-05, 8.633792276668828e-06, 6.1893490332920464e-09, 7.086131594696843e-12, 8.182492456942721e-17, 0.3081344962120056, 0.0]], [[0.8458365797996521, 0.011065257713198662, 0.004050227347761393, 0.005993987899273634, 0.0010388015070930123, 0.0008240656461566687, 0.003016981529071927, 0.12817412614822388, 0.0], [0.08667019009590149, 0.6693417429924011, 0.04151574522256851, 0.015266845934092999, 0.0014053693739697337, 0.00880101602524519, 0.0032967037986963987, 0.17370231449604034, 0.0], [0.02283669263124466, 0.8162437677383423, 0.05917692929506302, 0.0007659316179342568, 0.000785606331191957, 0.0002929088950622827, 0.022725911810994148, 0.07717221975326538, 0.0], [0.00029267813079059124, 0.3019638657569885, 0.23735001683235168, 0.030578501522541046, 0.12079434096813202, 5.387349665397778e-05, 0.00996658019721508, 0.29900020360946655, 0.0], [0.0007309620268642902, 0.016365572810173035, 0.1073123887181282, 0.7875643968582153, 0.02736865170300007, 0.008963244035840034, 0.0022583426907658577, 0.04943655803799629, 0.0], [0.0007737294654361904, 0.0014170052018016577, 0.013729611411690712, 0.5123659372329712, 0.036801040172576904, 0.2831575572490692, 0.007552944589406252, 0.14420214295387268, 0.0], [0.0019740022253245115, 0.0009468783973716199, 0.00043663056567311287, 0.0033716955222189426, 0.02883579209446907, 0.8764742612838745, 0.042484886944293976, 0.04547584056854248, 0.0], [0.0030217349994927645, 0.0046564810909330845, 0.00036701865610666573, 0.000277985556749627, 0.005222506821155548, 0.05044921487569809, 0.907507598400116, 0.02849746122956276, 0.0]]], [[[2.0323857370385667e-06, 2.8496246159193106e-05, 0.006367678288370371, 0.9896267652511597, 0.002940364880487323, 3.849954737233929e-06, 3.890916673299216e-07, 0.0010304262395948172, 0.0], [0.005808163434267044, 0.001929816440679133, 0.0010381662286818027, 0.03264019265770912, 0.9171988368034363, 0.02541988529264927, 5.759323903475888e-05, 0.015907227993011475, 0.0], [0.0006730430759489536, 0.0008753443253226578, 0.00029731192626059055, 0.0011234928388148546, 0.0019785594195127487, 0.6768373250961304, 0.04898658022284508, 0.26922836899757385, 0.0], [0.0004032964934594929, 3.188801656506257e-06, 0.0001440681517124176, 7.036383613012731e-05, 2.0502935512922704e-05, 0.010280276648700237, 0.6140223145484924, 0.37505608797073364, 0.0], [0.0005592556553892791, 1.1869446097989567e-05, 8.3002314568148e-06, 1.0972733434755355e-05, 0.0001238094555446878, 0.0001354682317469269, 0.04768320545554161, 0.9514670968055725, 0.0], [0.00022959803754929453, 6.836581451352686e-05, 0.0019380735466256738, 0.0006327654118649662, 4.443644866114482e-05, 0.0005031385226175189, 0.00539135467261076, 0.9911922812461853, 0.0], [0.0009630161803215742, 0.0004293151432648301, 0.0005788553971797228, 9.761498949956149e-05, 5.813631560158683e-06, 0.0001011048152577132, 0.0010430169058963656, 0.9967812299728394, 0.0], [0.0008446877473033965, 0.0016332130180671811, 0.0006799818947911263, 4.2851064790738747e-05, 0.00011038800585083663, 0.007253672927618027, 0.0009430301724933088, 0.9884922504425049, 0.0]], [[0.00011747934331651777, 0.014496293850243092, 0.9133173823356628, 0.05366542190313339, 0.00019380764570087194, 1.3219867469160818e-05, 0.0005248910747468472, 0.017671700567007065, 0.0], [0.0006620550411753356, 0.00011226896458538249, 0.004131819121539593, 0.9939557909965515, 0.00027032356592826545, 1.2366951523290481e-05, 8.000863999768626e-06, 0.0008474194910377264, 0.0], [0.0002952456707134843, 0.002518939785659313, 0.02603134885430336, 0.16227111220359802, 0.18477201461791992, 0.29195764660835266, 0.0040218583308160305, 0.3281318247318268, 0.0], [9.758941450854763e-05, 1.4931863006495405e-05, 0.0018365980358794332, 0.0013441042974591255, 0.020664473995566368, 0.3034959137439728, 0.05203733965754509, 0.6205090284347534, 0.0], [2.4212838980020024e-05, 4.198443639324978e-05, 0.0003548100357875228, 0.00012721598614007235, 0.0009089683298952878, 0.360532283782959, 0.3572152256965637, 0.28079527616500854, 0.0], [4.520405491348356e-05, 2.6771993361762725e-05, 0.0004702547157648951, 0.0001476950419601053, 0.0009782842826098204, 0.0965924859046936, 0.14185307919979095, 0.7598862648010254, 0.0], [4.375493881525472e-05, 0.00015276053454726934, 0.001530700596049428, 0.00026901077944785357, 0.00035483422107063234, 0.0003513636183924973, 0.006920139770954847, 0.9903774857521057, 0.0], [0.002394184935837984, 0.00034974110894836485, 0.0005002541001886129, 0.014741777442395687, 0.017026808112859726, 0.006851027719676495, 0.0005594472168013453, 0.9575767517089844, 0.0]], [[0.011423279531300068, 0.0002627447829581797, 0.006054676603525877, 0.9356169700622559, 0.018592853099107742, 0.022258006036281586, 2.3726002837065607e-05, 0.00576761644333601, 0.0], [0.010732139460742474, 0.00040124767110683024, 0.014573565684258938, 0.00585355656221509, 0.010277804918587208, 0.883339524269104, 0.043272435665130615, 0.03154986724257469, 0.0], [0.4670691192150116, 0.007364282384514809, 0.01965726912021637, 0.0011259918101131916, 0.0011211966630071402, 0.10511135309934616, 0.06094653531908989, 0.337604284286499, 0.0], [0.0005914297071285546, 0.003893786109983921, 0.007902532815933228, 0.013646177016198635, 0.00044725954649038613, 0.0023175524547696114, 0.03865205496549606, 0.9325491786003113, 0.0], [0.0019567215349525213, 0.0012783012352883816, 0.0006991669069975615, 0.0001541258825454861, 8.530842023901641e-05, 0.005415474530309439, 0.00661502918228507, 0.9837958812713623, 0.0], [0.00014159495185595006, 0.00626707449555397, 0.0006154911825433373, 1.0028369615611155e-05, 0.00010410381219116971, 0.008061453700065613, 0.012282688170671463, 0.9725176095962524, 0.0], [0.0004747029161080718, 0.004999886266887188, 0.004240009002387524, 0.0002736191963776946, 0.0005731041892431676, 0.0046182419173419476, 0.02412233129143715, 0.9606980681419373, 0.0], [0.002125260652974248, 0.007901309989392757, 0.07062464207410812, 0.00037303808494471014, 0.0037213307805359364, 0.10238371044397354, 0.010609129443764687, 0.8022616505622864, 0.0]], [[0.07443553954362869, 0.3873360753059387, 0.019676964730024338, 0.01671021804213524, 0.20828808844089508, 0.00024018072872422636, 0.18200670182704926, 0.11130620539188385, 0.0], [0.00021202854986768216, 0.803007960319519, 0.051204863935709, 0.00043811186333186924, 0.06867001205682755, 0.0017025797860696912, 0.007608452811837196, 0.06715589016675949, 0.0], [0.011376791633665562, 0.6824490427970886, 0.20543642342090607, 0.013001826591789722, 0.007190507370978594, 0.0023857925552874804, 0.008913877420127392, 0.06924563646316528, 0.0], [0.006016633938997984, 0.033087924122810364, 0.8101661801338196, 0.047595538198947906, 0.003069973085075617, 0.005126642528921366, 0.005029723513871431, 0.08990731090307236, 0.0], [0.0009992888662964106, 0.11828674376010895, 0.09254169464111328, 0.03345411270856857, 0.2503153681755066, 0.04396925866603851, 0.013239698484539986, 0.44719380140304565, 0.0], [0.006730559282004833, 0.019253429025411606, 0.007082509808242321, 0.0034237809013575315, 0.3603169322013855, 0.14044518768787384, 0.11056386679410934, 0.35218366980552673, 0.0], [0.001932725659571588, 0.00401858426630497, 0.00764235807582736, 0.0017317836172878742, 0.19616521894931793, 0.45303186774253845, 0.06356234103441238, 0.27191513776779175, 0.0], [0.0004942635423503816, 0.001290152664296329, 0.00027921912260353565, 0.01193612813949585, 0.0050151473842561245, 0.9430933594703674, 0.007778724655508995, 0.030113104730844498, 0.0]], [[0.007838593795895576, 0.012748491019010544, 0.0012045884504914284, 0.0733615905046463, 0.7748413681983948, 0.03777008131146431, 0.022295381873846054, 0.06993992626667023, 0.0], [0.044793374836444855, 0.09512245655059814, 0.09286820888519287, 0.14890147745609283, 0.019606543704867363, 0.08791890740394592, 0.22996965050697327, 0.2808193266391754, 0.0], [0.008689944632351398, 0.09070217609405518, 0.10229168832302094, 0.05085163190960884, 0.017715446650981903, 0.01583779603242874, 0.20065321028232574, 0.513258159160614, 0.0], [0.0245809406042099, 0.09793750196695328, 0.0217093825340271, 0.32636669278144836, 0.009297451935708523, 0.013938971795141697, 0.0173441581428051, 0.4888249635696411, 0.0], [0.09695497900247574, 0.012085596099495888, 0.005598457995802164, 0.25809940695762634, 0.1441739946603775, 0.0487944521009922, 0.07152476906776428, 0.36276835203170776, 0.0], [0.0009994328720495105, 0.0015695838956162333, 0.0017599238781258464, 0.06466025114059448, 0.022455373778939247, 0.07846131175756454, 0.05482163280248642, 0.7752724885940552, 0.0], [0.0011631351662799716, 0.0014314708532765508, 0.003082993673160672, 0.015958182513713837, 0.00274115358479321, 0.034831732511520386, 0.02320416085422039, 0.9175872206687927, 0.0], [0.0020506861619651318, 0.023989450186491013, 0.041761308908462524, 0.002803155919536948, 0.005892367102205753, 0.1200854629278183, 0.19802065193653107, 0.6053968667984009, 0.0]], [[0.14430809020996094, 0.13790415227413177, 0.2122969627380371, 0.4419301748275757, 0.0045307232066988945, 0.011677948758006096, 0.00027586345095187426, 0.0470760278403759, 0.0], [0.06711935997009277, 0.1114119365811348, 0.2664525508880615, 0.16534070670604706, 0.007552450057119131, 0.055337969213724136, 0.02210664376616478, 0.304678350687027, 0.0], [0.00015217794862110168, 0.008696082979440689, 0.08750880509614944, 0.5824168920516968, 0.11445536464452744, 0.00848470814526081, 0.0016038503963500261, 0.19668211042881012, 0.0], [0.008801238611340523, 0.001874048262834549, 0.007951807230710983, 0.3282667100429535, 0.14080892503261566, 0.007796484045684338, 0.0034799666609615088, 0.5010208487510681, 0.0], [0.0012345992727205157, 0.0009821339044719934, 0.05342288687825203, 0.027498722076416016, 0.02945554070174694, 0.06186212599277496, 0.0317278653383255, 0.7938161492347717, 0.0], [0.0018295617774128914, 0.008935176767408848, 0.01052806992083788, 0.0014105860609561205, 0.17607800662517548, 0.424378365278244, 0.024166040122509003, 0.3526741862297058, 0.0], [0.006010671146214008, 0.03654509410262108, 0.019101230427622795, 0.0005240535829216242, 0.052588511258363724, 0.05577889829874039, 0.08019945025444031, 0.7492520809173584, 0.0], [0.0002272245765198022, 0.005622636526823044, 0.0032812959980219603, 0.00016698356193955988, 0.06520337611436844, 0.01284510176628828, 0.6371167302131653, 0.27553656697273254, 0.0]], [[0.0034034771379083395, 0.07197874039411545, 0.0072906771674752235, 0.5989660024642944, 0.22414624691009521, 0.004103498067706823, 0.008199895732104778, 0.08191142231225967, 0.0], [0.015123465098440647, 0.11761016398668289, 0.05627267062664032, 0.037838421761989594, 0.5049026608467102, 0.014040450565516949, 0.13776281476020813, 0.11644937098026276, 0.0], [0.004544953815639019, 0.10616951435804367, 0.8311175107955933, 0.0035502153914421797, 0.0011039678938686848, 0.023041455075144768, 0.00018709454161580652, 0.030285250395536423, 0.0], [0.0006569360266439617, 0.02082185447216034, 0.6971856355667114, 0.18249057233333588, 0.0011296378215774894, 0.04908793047070503, 0.002096449490636587, 0.04653097316622734, 0.0], [0.00032500349334441125, 0.00026577210519462824, 0.23168344795703888, 0.45831048488616943, 0.006938080303370953, 0.07723287492990494, 0.005980808287858963, 0.21926353871822357, 0.0], [0.00034684306592680514, 0.024620825424790382, 0.0011141435243189335, 0.0048552812077105045, 0.01417325995862484, 0.04685365781188011, 0.09667909890413284, 0.8113568425178528, 0.0], [6.439710705308244e-05, 0.00037110038101673126, 0.001202041283249855, 0.006757598835974932, 0.008389264345169067, 0.36393290758132935, 0.32012584805488586, 0.2991568446159363, 0.0], [0.0022850707173347473, 0.00048765004612505436, 0.000921019702218473, 6.118592864368111e-05, 0.11667950451374054, 0.33676275610923767, 0.3720707893371582, 0.17073212563991547, 0.0]], [[1.0, 5.167519190329983e-12, 2.360301458289303e-19, 1.7812198733574324e-20, 2.015337232830921e-15, 4.880497395109984e-11, 2.2653655616959242e-14, 2.463003231206667e-17, 0.0], [4.0501633158385175e-09, 1.0, 8.347150748377885e-10, 5.7495471493988835e-18, 7.265704096550763e-16, 4.793273008138074e-18, 9.44897545793286e-16, 1.0597561890535179e-11, 0.0], [7.092779488737655e-12, 1.8322666051062697e-07, 0.9929296374320984, 0.007070181425660849, 1.1447831614955217e-12, 1.636899640898408e-14, 1.2469416861991871e-18, 7.260949111929926e-13, 0.0], [2.17372543241544e-17, 3.1760614983175406e-18, 1.1678610552581792e-12, 1.0, 3.5477060200163335e-13, 7.6940514667401185e-22, 3.385100089273354e-22, 7.161809876605955e-20, 0.0], [2.474782738078759e-19, 1.172520039692638e-18, 1.161098174698141e-19, 6.68431442466498e-14, 1.0, 5.8332626448891374e-15, 1.3441442615916616e-22, 1.8642259937987083e-20, 0.0], [1.7865859798482078e-16, 1.963340315418703e-17, 3.496192864296116e-15, 7.074951052601788e-18, 9.310124692669605e-14, 1.0, 2.4906931985618774e-12, 6.808704939914242e-14, 0.0], [7.258015369271398e-12, 5.030739280015295e-13, 1.5937243598736065e-15, 1.7279145169270087e-14, 1.1372441616891438e-12, 3.5412017762581627e-09, 0.9999786615371704, 2.13574730878463e-05, 0.0], [6.220595734482068e-14, 1.4392281947908405e-18, 1.1351845396415365e-17, 9.27738526521632e-24, 4.341697056751361e-22, 5.8726273238538236e-21, 4.4843898194812937e-07, 0.9999995231628418, 0.0]]], [[[0.4510110914707184, 0.2915627658367157, 0.07483506947755814, 0.014876510947942734, 0.02605193480849266, 0.016588183119893074, 0.001282591954804957, 0.12379175424575806, 0.0], [0.10806117951869965, 0.19468529522418976, 0.20558710396289825, 0.16525140404701233, 0.002321709180250764, 0.007844079285860062, 0.005696116480976343, 0.3105531334877014, 0.0], [0.3538966476917267, 0.0872587263584137, 0.05689086392521858, 0.06654951721429825, 0.040931928902864456, 0.0142580671235919, 0.002674124436452985, 0.37754005193710327, 0.0], [0.0024087545461952686, 0.0004986737621948123, 0.8990319967269897, 0.031190484762191772, 0.0002624480111990124, 0.009978003799915314, 0.02258113957941532, 0.03404852747917175, 0.0], [0.0035854403395205736, 0.020064914599061012, 0.0010864840587601066, 0.014184788800776005, 0.8632736802101135, 0.00010257905523758382, 0.0003159407351631671, 0.09738609939813614, 0.0], [0.0016091077122837305, 0.002401946345344186, 0.007171433884650469, 0.001456035883165896, 0.3002031445503235, 0.05482477694749832, 0.035977933555841446, 0.5963556170463562, 0.0], [0.005879444535821676, 0.0005920092226006091, 0.0020446134731173515, 0.0691922977566719, 0.3262634575366974, 0.011852883733808994, 0.313382089138031, 0.27079322934150696, 0.0], [0.0002702518831938505, 0.00025830738013610244, 0.0021094230469316244, 0.0035204575397074223, 0.0027430818881839514, 0.0031896948348730803, 0.012239565141499043, 0.975669264793396, 0.0]], [[0.722902774810791, 0.11120568960905075, 0.02578669600188732, 0.12228251993656158, 0.0001828582026064396, 0.008698691613972187, 0.0017558790277689695, 0.0071848612278699875, 0.0], [0.0008529348415322602, 0.7390732169151306, 0.24762935936450958, 0.0021827833261340857, 0.00013322372979018837, 7.210002513602376e-05, 7.631471089553088e-05, 0.009980147704482079, 0.0], [0.006870057433843613, 0.2039606273174286, 0.6524143218994141, 0.009436537511646748, 0.023643774911761284, 0.02339850552380085, 0.004053670447319746, 0.07622256875038147, 0.0], [0.011630892753601074, 8.315454033436254e-05, 0.007573171518743038, 0.19969092309474945, 0.08659934252500534, 0.11264071613550186, 0.10338016599416733, 0.47840163111686707, 0.0], [0.0008493654895573854, 0.00019081539358012378, 0.0006235711043700576, 0.6255812048912048, 0.24670471251010895, 0.009189091622829437, 0.009494737721979618, 0.10736648738384247, 0.0], [0.003358149668201804, 9.850256174104288e-05, 0.0014034280320629478, 0.06431379914283752, 0.007223387714475393, 0.18592174351215363, 0.3229738175868988, 0.4147071838378906, 0.0], [0.00011635853297775611, 1.630885890335776e-05, 0.0008976878598332405, 0.0030684471130371094, 0.0007296536350622773, 0.06262534111738205, 0.7276089787483215, 0.20493727922439575, 0.0], [0.00025709308101795614, 0.0004874967271462083, 0.013506445102393627, 0.018676089122891426, 0.006878367159515619, 0.020538462325930595, 0.162753626704216, 0.776902437210083, 0.0]], [[0.039041899144649506, 0.012947877869009972, 0.006162544712424278, 0.0027143980842083693, 0.016866281628608704, 0.04100394621491432, 0.03139448165893555, 0.8498685359954834, 0.0], [0.15577206015586853, 0.002736731432378292, 0.04665595665574074, 0.00587324658408761, 0.09931527078151703, 0.004983530379831791, 0.015251060016453266, 0.6694121360778809, 0.0], [0.7076337933540344, 0.012772927060723305, 0.02006346918642521, 0.034806862473487854, 0.003661802038550377, 0.002536485204473138, 0.002891184762120247, 0.21563346683979034, 0.0], [0.001792876748368144, 0.6992217302322388, 0.02913210541009903, 0.004453522618860006, 0.022000765427947044, 0.008538336493074894, 0.0004201231640763581, 0.23444056510925293, 0.0], [0.0006684320978820324, 0.05574234947562218, 0.8616493344306946, 0.003382008755579591, 0.008604327216744423, 0.0015258961357176304, 0.0007998582441359758, 0.06762769818305969, 0.0], [0.0028576639015227556, 0.023663854226469994, 0.022884050384163857, 0.7407347559928894, 0.023998098447918892, 0.003857995383441448, 0.013975691981613636, 0.16802778840065002, 0.0], [7.760449079796672e-05, 0.008101189509034157, 0.0012959097512066364, 0.014059321954846382, 0.950369656085968, 0.01438195165246725, 0.0050249407067894936, 0.006689348258078098, 0.0], [0.0047571719624102116, 0.0018143737688660622, 0.03458594158291817, 0.0007112077437341213, 0.0024422239512205124, 0.002921421080827713, 0.0023285245988518, 0.9504390954971313, 0.0]], [[0.00042304969974793494, 0.00384338921867311, 0.01762453094124794, 0.0331546813249588, 0.7841964960098267, 0.10885310918092728, 0.00297791650518775, 0.04892686381936073, 0.0], [0.005883477162569761, 0.1278458833694458, 0.00804223958402872, 0.011885673739016056, 0.1135982871055603, 0.5180717706680298, 0.042302973568439484, 0.17236967384815216, 0.0], [0.19945484399795532, 0.048513974994421005, 0.29273349046707153, 0.011023025028407574, 0.004561110865324736, 0.0361722968518734, 0.06825839728116989, 0.3392828702926636, 0.0], [0.215630441904068, 0.2916865944862366, 0.0050825742073357105, 0.0008039872045628726, 0.08063991367816925, 0.010168629698455334, 0.028753597289323807, 0.3672342002391815, 0.0], [0.002181342337280512, 0.27278512716293335, 0.07988296449184418, 0.0006789144827052951, 0.021648941561579704, 0.004363643936812878, 0.02536650374531746, 0.5930926203727722, 0.0], [0.008955433964729309, 0.00586097314953804, 0.4596756398677826, 0.03329633176326752, 0.030764030292630196, 0.020290862768888474, 0.01452488824725151, 0.4266318082809448, 0.0], [0.0008958421531133354, 0.018801642581820488, 0.14298860728740692, 0.01342530082911253, 0.040632668882608414, 0.5142034888267517, 0.01383241731673479, 0.255219966173172, 0.0], [0.0013997649075463414, 0.000614518707152456, 0.0020189897622913122, 0.005465960595756769, 0.01739710196852684, 0.07990340888500214, 0.025430813431739807, 0.8677694201469421, 0.0]], [[0.0008351888973265886, 0.0038545315619558096, 0.02024202048778534, 0.9629789590835571, 0.0001418962056050077, 0.00025965095846913755, 0.008973113261163235, 0.0027146218344569206, 0.0], [0.00801979098469019, 0.16401039063930511, 0.01824451982975006, 0.5961588025093079, 0.01166410930454731, 0.008701619692146778, 0.12341415137052536, 0.06978656351566315, 0.0], [0.07706400752067566, 0.01004405040293932, 0.029425950720906258, 0.11028938740491867, 0.017299452796578407, 0.10279922187328339, 0.31238630414009094, 0.34069162607192993, 0.0], [0.012044806964695454, 0.0025536573957651854, 0.005584460683166981, 0.06127459928393364, 0.0032025121618062258, 0.02134624496102333, 0.6602845788002014, 0.2337091565132141, 0.0], [0.0007324402104131877, 0.012087349779903889, 0.030819982290267944, 0.024188343435525894, 0.008281581103801727, 0.0080707473680377, 0.3500208258628845, 0.5657987594604492, 0.0], [0.0008864655392244458, 0.00460461899638176, 0.013736833818256855, 0.011095941066741943, 0.005073321517556906, 0.5575549602508545, 0.017852453514933586, 0.38919544219970703, 0.0], [0.001044103060849011, 0.000968857784755528, 0.00987892784178257, 0.008978848345577717, 0.05795855075120926, 0.07210155576467514, 0.044489722698926926, 0.8045794367790222, 0.0], [0.00012084604531992227, 0.01520457211881876, 0.001891224761493504, 0.005964869633316994, 0.007951157167553902, 0.010045325383543968, 0.07917612046003342, 0.8796459436416626, 0.0]], [[0.4873424470424652, 0.22371599078178406, 0.07179843634366989, 0.10374800860881805, 0.034536682069301605, 0.018484506756067276, 0.0006783850840292871, 0.05969548225402832, 0.0], [0.7372004985809326, 0.03210750222206116, 0.04311954230070114, 0.01157967746257782, 0.09814820438623428, 0.010717613622546196, 9.706168930279091e-05, 0.06703004986047745, 0.0], [0.001023329677991569, 0.006112437695264816, 0.11124157160520554, 0.6910603046417236, 0.06059291213750839, 0.02433241531252861, 0.010065829381346703, 0.09557116776704788, 0.0], [0.013150738552212715, 0.006609003525227308, 0.7570560574531555, 0.018334059044718742, 0.040621593594551086, 0.04647527635097504, 0.0014799913624301553, 0.11627333611249924, 0.0], [0.0001015739471768029, 0.007713687606155872, 0.009330451488494873, 0.007015536539256573, 0.7454932332038879, 0.03407139331102371, 0.006983681581914425, 0.18929047882556915, 0.0], [0.0003361599228810519, 0.0034821133594959974, 0.007638588082045317, 0.06283622235059738, 0.2508779466152191, 0.08754927664995193, 0.1213848665356636, 0.4658947288990021, 0.0], [0.00029417002224363387, 0.0002537771943025291, 0.0009827284375205636, 0.0006021230365149677, 0.03444140776991844, 0.5853816866874695, 0.02579333819448948, 0.3522507846355438, 0.0], [0.0008864214760251343, 0.0006810447084717453, 0.0024388101883232594, 0.002350208116695285, 0.010758857242763042, 0.01110251434147358, 0.0009277771459892392, 0.9708544015884399, 0.0]], [[0.9965013265609741, 0.0013442372437566519, 6.717491487506777e-05, 0.00031649452284909785, 0.00010127026325790212, 0.0004436186281964183, 0.0001962390961125493, 0.0010297801345586777, 0.0], [0.0652531087398529, 0.7855706810951233, 0.013946892693638802, 0.003135038772597909, 0.021687589585781097, 0.014804317615926266, 0.008245588280260563, 0.08735682815313339, 0.0], [6.496192509075627e-05, 0.015196063555777073, 0.8611443042755127, 0.005571841727942228, 0.0011439034715294838, 0.0028603249229490757, 0.022370923310518265, 0.09164776653051376, 0.0], [0.005336227361112833, 0.05329834669828415, 0.18486569821834564, 0.0901792049407959, 0.08674512058496475, 0.03735481575131416, 0.020303333178162575, 0.5219172835350037, 0.0], [2.0176157704554498e-05, 0.00034328902256675065, 0.0017771960701793432, 0.0003847818588837981, 0.8733987212181091, 0.07307223975658417, 0.008167924359440804, 0.04283571615815163, 0.0], [0.0007858852040953934, 0.0018858467228710651, 0.000552742974832654, 0.0012624087976291776, 0.0019161025993525982, 0.47435668110847473, 0.4445772171020508, 0.07466315478086472, 0.0], [0.0016874833963811398, 1.6500238416483626e-05, 0.00010515096073504537, 0.00018180866027250886, 0.0003554813447408378, 0.013478891924023628, 0.9251829385757446, 0.058991674333810806, 0.0], [0.0002329567214474082, 7.513909804401919e-05, 0.0006025278125889599, 0.0011196205159649253, 0.004745750222355127, 0.007099096663296223, 0.041839420795440674, 0.9442854523658752, 0.0]], [[0.0031442204490303993, 0.8115465044975281, 0.06484150141477585, 0.03605526685714722, 0.0535687617957592, 0.008435758762061596, 0.0008087819442152977, 0.021599268540740013, 0.0], [3.341469346196391e-05, 0.0015353253111243248, 0.9780374765396118, 0.004023770801723003, 0.004419622477144003, 0.0042732711881399155, 0.0005627030041068792, 0.007114427164196968, 0.0], [0.0007966503617353737, 0.006699569523334503, 0.030574165284633636, 0.1675325334072113, 0.07273711264133453, 0.07277245074510574, 0.007290434092283249, 0.6415970921516418, 0.0], [4.677567631006241e-05, 0.00624949811026454, 0.006991720758378506, 0.006932899355888367, 0.796072781085968, 0.01562947779893875, 0.0003812369250226766, 0.1676957607269287, 0.0], [4.719823118648492e-05, 0.00035542913246899843, 0.0030223955400288105, 0.0005616250564344227, 0.03217248246073723, 0.6482805013656616, 0.00494221830740571, 0.3106182813644409, 0.0], [0.0009582903003320098, 0.0035853267181664705, 0.0013404249912127852, 0.00019740597053896636, 0.009728837758302689, 0.12115952372550964, 0.015102925710380077, 0.8479272723197937, 0.0], [3.284365084255114e-05, 0.0037735349033027887, 0.0001950114092323929, 0.00018680878565646708, 0.0255536250770092, 0.18774837255477905, 0.03494850546121597, 0.7475612759590149, 0.0], [2.4003591079235775e-06, 1.8810642359312624e-05, 0.00015358548262156546, 0.0001806320360628888, 0.005634554196149111, 0.0034511368721723557, 0.0003718264924827963, 0.9901870489120483, 0.0]]]], \"left_text\": [\"Q\", \"Y\", \"S\", \"V\", \"L\", \"I\", \"F\", \"<eos>\"], \"right_text\": [\"E\", \"Q\", \"V\", \"T\", \"N\", \"V\", \"G\", \"<eos>\", \"<pad>\"]}], \"default_filter\": \"0\", \"display_mode\": \"light\", \"root_div_id\": \"bertviz-db5558ca8f5441c6adf55dfdccd23421\", \"include_layers\": [0, 1, 2, 3], \"include_heads\": [0, 1, 2, 3, 4, 5, 6, 7], \"total_heads\": 8}; // HACK: {\"attention\": [{\"name\": \"Encoder\", \"attn\": [[[[0.1146475151181221, 0.8302609324455261, 0.05499810352921486, 9.310716995969415e-05, 3.2050306231212744e-07, 1.2516911063187308e-08, 7.378405664226761e-10, 7.338711652984734e-18, 0.0], [0.9965884685516357, 0.00319258077070117, 0.00021891901269555092, 7.131946144767198e-09, 3.7235422671632115e-14, 1.0594716691618758e-15, 2.986244877680594e-13, 1.5077189563053843e-18, 0.0], [0.0007748212665319443, 0.9886252880096436, 0.010592875070869923, 7.099294634826947e-06, 2.9330312050629415e-12, 4.867065066800893e-19, 1.2053653386810058e-16, 4.915391026137773e-19, 0.0], [6.6201431238777e-15, 4.930248906021006e-06, 0.9982879757881165, 0.0017070421017706394, 8.053864775092734e-08, 3.4694178351960523e-16, 1.2884961705582968e-20, 8.40507865344103e-24, 0.0], [2.165715980726162e-31, 2.7438980921570674e-18, 5.929719577579817e-07, 0.9999587535858154, 4.0670773159945384e-05, 1.622509906377273e-13, 3.430885844425089e-24, 2.249003768865295e-36, 0.0], [8.407790785948902e-45, 2.530848750458741e-34, 3.639165050029902e-22, 4.833199227505247e-07, 0.9999983310699463, 1.2085919252058375e-06, 5.915515473298161e-15, 3.858943699851171e-30, 0.0], [0.0, 0.0, 2.0228700879005765e-35, 1.8551015454073948e-19, 5.715916131521226e-07, 0.9999796152114868, 1.9752867956412956e-05, 5.474055757912046e-20, 0.0], [0.0, 0.0, 0.0, 0.0, 0.0, 0.0, 0.0, 1.0, 0.0], [8.688050478813866e-44, 0.0, 0.0, 0.0, 6.848145595155381e-42, 5.8678960895539935e-24, 1.9878171331200178e-10, 1.0, 0.0]], [[3.6176526184428237e-12, 1.0, 4.7526499614604415e-19, 0.0, 0.0, 0.0, 0.0, 0.0, 0.0], [1.847306382190679e-28, 5.291930522260957e-12, 1.0, 2.1292922677592965e-17, 3.6952240504245426e-42, 0.0, 0.0, 0.0, 0.0], [0.0, 1.8163148738189084e-22, 9.327834504802013e-09, 1.0, 4.2203525396633523e-11, 2.6050979230876944e-40, 0.0, 0.0, 0.0], [0.0, 1.2833091336286675e-41, 8.848619846178817e-19, 6.295255289279211e-11, 1.0, 6.059313715654682e-17, 2.464183349515191e-40, 0.0, 0.0], [0.0, 0.0, 1.5391722202297358e-40, 1.1885753453899144e-24, 8.49358292032143e-11, 1.0, 1.8898755824170443e-11, 1.6639743277478012e-37, 0.0], [7.788332786809474e-39, 0.0, 0.0, 1.2611686178923354e-44, 1.2398003043717576e-23, 3.761607345054152e-11, 1.0, 1.2459634954940064e-16, 0.0], [1.0691054457403315e-22, 2.1468490121646038e-35, 0.0, 0.0, 9.80908925027372e-45, 2.5322756518413357e-24, 1.0390421856243393e-08, 1.0, 0.0], [0.0, 0.0, 0.0, 0.0, 0.0, 0.0, 2.1184045456522563e-39, 1.0, 0.0], [1.2099839945443403e-29, 2.361229917369201e-06, 0.999997615814209, 3.092370448598558e-08, 2.914712501651462e-17, 3.121961467215335e-34, 1.7909652275975748e-28, 2.9039857633777202e-21, 0.0]], [[0.005840528756380081, 0.01814328320324421, 0.20564234256744385, 0.4318316876888275, 0.2409166842699051, 0.07430310547351837, 0.01336608175188303, 0.009956233203411102, 0.0], [0.12840265035629272, 0.0821705088019371, 0.1577286422252655, 0.15655124187469482, 0.19041293859481812, 0.11191384494304657, 0.038688622415065765, 0.13413147628307343, 0.0], [0.3549915552139282, 0.1483001708984375, 0.0743449255824089, 0.0462186299264431, 0.04053156450390816, 0.031639084219932556, 0.043072961270809174, 0.2609011232852936, 0.0], [0.27902427315711975, 0.357711523771286, 0.16289390623569489, 0.03490887209773064, 0.013537702150642872, 0.00810605101287365, 0.01913018524646759, 0.12468738108873367, 0.0], [0.07186396420001984, 0.33080002665519714, 0.4159316122531891, 0.1206669732928276, 0.02593226358294487, 0.005744625348597765, 0.008949988521635532, 0.020110558718442917, 0.0], [0.004151626024395227, 0.057971831411123276, 0.29076075553894043, 0.4546601474285126, 0.15352682769298553, 0.023072965443134308, 0.013438382185995579, 0.0024174938444048166, 0.0], [0.000600641593337059, 0.005172075238078833, 0.06079595535993576, 0.38390177488327026, 0.3813099265098572, 0.14058658480644226, 0.0269246157258749, 0.0007083996315486729, 0.0], [0.0004775326233357191, 1.2995842553209513e-05, 0.0005075368680991232, 0.00224393792450428, 0.0086582126095891, 0.009983562864363194, 0.0006650147261098027, 0.9774511456489563, 0.0], [0.00827823393046856, 0.00330919586122036, 0.004306737333536148, 0.029630107805132866, 0.11275821924209595, 0.4726405143737793, 0.3284088969230652, 0.040668096393346786, 0.0]], [[0.03724818304181099, 0.19076916575431824, 0.1850205510854721, 0.16105258464813232, 0.3610203266143799, 0.03477085009217262, 0.01558060571551323, 0.014537589624524117, 0.0], [0.13475681841373444, 0.11252230405807495, 0.2728704512119293, 0.22096660733222961, 0.19573456048965454, 0.02594050206243992, 0.020253358408808708, 0.016955384984612465, 0.0], [0.09113786369562149, 0.3686482608318329, 0.09320414066314697, 0.13277789950370789, 0.250879168510437, 0.02427232265472412, 0.02134430781006813, 0.017736144363880157, 0.0], [0.07577396184206009, 0.28845006227493286, 0.13064342737197876, 0.10628533363342285, 0.33186212182044983, 0.036941710859537125, 0.01791125163435936, 0.012132174335420132, 0.0], [0.09656352549791336, 0.22966596484184265, 0.16008925437927246, 0.22617661952972412, 0.09786460548639297, 0.10056539624929428, 0.0650506392121315, 0.024024004116654396, 0.0], [0.012269849888980389, 0.0711890459060669, 0.024379471316933632, 0.08436507731676102, 0.4924497604370117, 0.12204565107822418, 0.14271734654903412, 0.05058377608656883, 0.0], [0.009878497570753098, 0.04762081801891327, 0.027717113494873047, 0.05304097756743431, 0.3847890794277191, 0.28548628091812134, 0.0813688114285469, 0.11009834706783295, 0.0], [4.776571131515084e-06, 4.6799282245046925e-06, 9.69502070802264e-06, 6.26429682597518e-05, 0.00016828264051582664, 0.0020492637995630503, 0.011923277750611305, 0.9857774376869202, 0.0], [0.019763847813010216, 0.02134031057357788, 0.009342550300061703, 0.038431450724601746, 0.09494511038064957, 0.13382816314697266, 0.45406919717788696, 0.22827935218811035, 0.0]], [[0.03647022694349289, 0.90770024061203, 0.008290794678032398, 0.004264139104634523, 0.027198616415262222, 0.0007861534249968827, 0.0013337767450138927, 0.013956255279481411, 0.0], [0.3660840690135956, 0.5009379982948303, 0.022206855937838554, 0.010289468802511692, 0.0328810028731823, 0.002872177865356207, 0.00414961576461792, 0.06057876721024513, 0.0], [0.21746470034122467, 0.7295443415641785, 0.010648240335285664, 0.0068717398680746555, 0.01651030406355858, 0.0015208981931209564, 0.0030436678789556026, 0.014396139420568943, 0.0], [0.11146926879882812, 0.8025796413421631, 0.025957804173231125, 0.016030212864279747, 0.03427140787243843, 0.001839831005781889, 0.004036250989884138, 0.0038156278897076845, 0.0], [0.0810311958193779, 0.7442671060562134, 0.0783277153968811, 0.040063679218292236, 0.04094884544610977, 0.0044021992944180965, 0.006498438771814108, 0.0044607967138290405, 0.0], [0.007494499906897545, 0.2646062672138214, 0.06948374211788177, 0.12429538369178772, 0.49139517545700073, 0.01779916323721409, 0.022612303495407104, 0.002313549630343914, 0.0], [0.000670968962367624, 0.023126276209950447, 0.024832911789417267, 0.1312142312526703, 0.739524781703949, 0.05184305086731911, 0.02801431715488434, 0.00077350705396384, 0.0], [0.00022512076247949153, 0.00011250108218519017, 0.00041636661626398563, 0.00029450684087350965, 0.0018047132762148976, 0.004061631392687559, 0.004527481272816658, 0.9885576963424683, 0.0], [0.001287722261622548, 0.004767010919749737, 0.005569335073232651, 0.05084673687815666, 0.4618363380432129, 0.25331175327301025, 0.2161525934934616, 0.006228458136320114, 0.0]], [[0.07087291032075882, 0.1789996474981308, 0.150530144572258, 0.2536708116531372, 0.15788958966732025, 0.059101033955812454, 0.05937585607171059, 0.06956009566783905, 0.0], [0.19300056993961334, 0.1204719990491867, 0.18810954689979553, 0.2005879431962967, 0.13934902846813202, 0.04043561965227127, 0.04765915125608444, 0.07038617879152298, 0.0], [0.10859354585409164, 0.22456154227256775, 0.12952794134616852, 0.2682099938392639, 0.11493097990751266, 0.03994433954358101, 0.052202533930540085, 0.06202913448214531, 0.0], [0.11935099959373474, 0.18800567090511322, 0.2110554426908493, 0.14449799060821533, 0.16162827610969543, 0.057631224393844604, 0.06395315378904343, 0.053877249360084534, 0.0], [0.03613826632499695, 0.11183816194534302, 0.14721901714801788, 0.37251901626586914, 0.11141204088926315, 0.09017626196146011, 0.07936438173055649, 0.05133288353681564, 0.0], [0.014515182934701443, 0.03868139162659645, 0.05089869350194931, 0.2692490518093109, 0.23981408774852753, 0.1323663890361786, 0.14339923858642578, 0.1110759899020195, 0.0], [0.01695718802511692, 0.02611851692199707, 0.05740595981478691, 0.15316814184188843, 0.20000715553760529, 0.219066321849823, 0.07769343256950378, 0.24958331882953644, 0.0], [0.00030540869920514524, 0.00016259332187473774, 0.0005990362842567265, 0.0007770265219733119, 0.0014136150712147355, 0.007517339661717415, 0.01645430363714695, 0.972770631313324, 0.0], [0.07339583337306976, 0.04524325951933861, 0.06283599138259888, 0.07709994912147522, 0.14787223935127258, 0.21003565192222595, 0.1930309385061264, 0.19048616290092468, 0.0]], [[0.04635489359498024, 6.984911306062713e-05, 7.39714305382222e-05, 0.00044742587488144636, 0.003537410404533148, 0.014280018396675587, 0.0005020117969252169, 0.9347344636917114, 0.0], [0.8145745992660522, 0.008531348779797554, 0.0008161806617863476, 0.00046914632548578084, 0.0009172986610792577, 0.001213714829646051, 0.001162051223218441, 0.172315776348114, 0.0], [0.819759726524353, 0.14433224499225616, 0.017875799909234047, 0.0009708505822345614, 0.00012210772547405213, 8.009112207219005e-05, 0.0003625847166404128, 0.016496503725647926, 0.0], [0.16070683300495148, 0.5430623292922974, 0.27663204073905945, 0.01567562110722065, 0.0006793388747610152, 6.612033030251041e-05, 0.00012976027210243046, 0.0030480599962174892, 0.0], [0.0044455332681536674, 0.18049871921539307, 0.6338465213775635, 0.17403730750083923, 0.006903178058564663, 9.568934183334932e-05, 1.9398446966079064e-05, 0.0001537070784252137, 0.0], [7.21483156667091e-05, 0.003014696529135108, 0.11025575548410416, 0.5922569036483765, 0.2864537239074707, 0.007599429227411747, 0.0001740127190714702, 0.00017334852600470185, 0.0], [7.007350291132752e-07, 1.3578436664829496e-05, 0.00037915914435870945, 0.048946741968393326, 0.8776665925979614, 0.07039632648229599, 0.002553352853283286, 4.350784729467705e-05, 0.0], [6.222900528207731e-10, 9.650412691186716e-10, 1.5240708250985335e-07, 0.0002495755616109818, 0.06980680674314499, 0.8155116438865662, 0.11432097852230072, 0.00011087138409493491, 0.0], [5.90021772950422e-06, 1.6094150851131417e-05, 2.6256360797560774e-05, 0.000613104784861207, 0.026450978592038155, 0.07495994120836258, 0.897473156452179, 0.00045455334475263953, 0.0]], [[0.02615111693739891, 0.20442746579647064, 0.32108190655708313, 0.31491619348526, 0.10228481888771057, 0.017900660634040833, 0.01020270586013794, 0.0030352335888892412, 0.0], [0.002417336218059063, 0.016429679468274117, 0.12207166850566864, 0.48819500207901, 0.3273407816886902, 0.03369263559579849, 0.008204986341297626, 0.0016478387406095862, 0.0], [0.000886776833795011, 0.0037130070850253105, 0.021397560834884644, 0.19363203644752502, 0.612265408039093, 0.14148373901844025, 0.023512907326221466, 0.003108557080850005, 0.0], [0.002192437183111906, 0.003128605894744396, 0.009046128951013088, 0.05100299045443535, 0.4285740852355957, 0.31837162375450134, 0.1540740728378296, 0.03361004590988159, 0.0], [0.004653386306017637, 0.0033664314541965723, 0.0049132779240608215, 0.01197745744138956, 0.11165765672922134, 0.2517492175102234, 0.3561273515224457, 0.25555527210235596, 0.0], [0.005932680331170559, 0.002386905951425433, 0.0019063025247305632, 0.0023831496946513653, 0.018999027088284492, 0.09459753334522247, 0.315588116645813, 0.5582062602043152, 0.0], [0.00833191443234682, 0.006267805118113756, 0.005792437121272087, 0.0022901101037859917, 0.0050352090038359165, 0.012549156323075294, 0.07203520089387894, 0.887698233127594, 0.0], [0.022771060466766357, 0.015926867723464966, 0.018484387546777725, 0.0028068311512470245, 0.002477807691320777, 0.004773993045091629, 0.04828726127743721, 0.8844717741012573, 0.0], [0.032943565398454666, 0.08942873775959015, 0.23690539598464966, 0.20228441059589386, 0.17092420160770416, 0.054543863981962204, 0.08565333485603333, 0.12731651961803436, 0.0]]], [[[0.028782334178686142, 0.007709038443863392, 0.0039958469569683075, 0.001997515093535185, 0.015389776788651943, 0.00984504260122776, 0.0033899543341249228, 0.9288905262947083, 0.0], [0.03547639399766922, 0.010259473696351051, 0.0037160171195864677, 0.002109269145876169, 0.004967539105564356, 0.006202328018844128, 0.0012623285874724388, 0.9360066652297974, 0.0], [0.08818719536066055, 0.016641933470964432, 0.008652674965560436, 0.00397805031388998, 0.009505596943199635, 0.0016494669253006577, 0.0015762019902467728, 0.8698088526725769, 0.0], [0.007101171649992466, 0.1034320741891861, 0.034239284694194794, 0.022815922275185585, 0.008245319128036499, 0.0005255262949503958, 0.0010683212894946337, 0.8225724101066589, 0.0], [0.011926737613976002, 0.016087068244814873, 0.09112237393856049, 0.0654430016875267, 0.02654046192765236, 0.0004405798972584307, 0.007019359152764082, 0.7814204692840576, 0.0], [0.005696816835552454, 0.025482768192887306, 0.012952140532433987, 0.1555335968732834, 0.06637894362211227, 0.004358042497187853, 0.002493835985660553, 0.7271038293838501, 0.0], [0.0037395216058939695, 0.00850803591310978, 0.010610447265207767, 0.03488911688327789, 0.12235672026872635, 0.03322873264551163, 0.017897339537739754, 0.7687700986862183, 0.0], [0.001145007205195725, 0.002511341357603669, 0.000999940442852676, 0.0012150303227826953, 0.0016077749896794558, 0.0006264746771194041, 0.002589364070445299, 0.9893051385879517, 0.0], [0.0019399395678192377, 0.0024599905591458082, 0.000548778974916786, 0.0007235176162794232, 0.0010708787012845278, 0.0004429281398188323, 0.0007450248231180012, 0.9920690059661865, 0.0]], [[0.008569694124162197, 0.022611984983086586, 0.02244097925722599, 0.03287903219461441, 0.20982535183429718, 0.0038413992151618004, 0.017956331372261047, 0.6818751692771912, 0.0], [0.054151348769664764, 0.009755207225680351, 0.02473207376897335, 0.08280102163553238, 0.05183159559965134, 0.003041465999558568, 0.012687056325376034, 0.7610002756118774, 0.0], [0.017994962632656097, 0.054551851004362106, 0.012451715767383575, 0.021545039489865303, 0.0725739598274231, 0.004685217514634132, 0.015595569275319576, 0.8006016612052917, 0.0], [0.01737508922815323, 0.04008695110678673, 0.039452120661735535, 0.018760891631245613, 0.11018198728561401, 0.004636949859559536, 0.04929990693926811, 0.7202061414718628, 0.0], [0.02239004708826542, 0.041626859456300735, 0.015612898394465446, 0.099403515458107, 0.02480638399720192, 0.0028034213464707136, 0.030239617452025414, 0.7631173133850098, 0.0], [0.008094589225947857, 0.05418743938207626, 0.018574636429548264, 0.049801118671894073, 0.039607103914022446, 0.02231721021234989, 0.033028725534677505, 0.7743892073631287, 0.0], [0.007080847397446632, 0.02930055931210518, 0.005053256172686815, 0.050682224333286285, 0.055608391761779785, 0.05050438642501831, 0.009227815084159374, 0.792542576789856, 0.0], [0.0009238098282366991, 0.003281167708337307, 0.0005999157438054681, 0.0023010659497231245, 0.005126649048179388, 0.00014692723925691098, 0.0004521585942711681, 0.9871683120727539, 0.0], [0.0021984875202178955, 0.007253697607666254, 0.0007133966428227723, 0.004320895299315453, 0.005967326927930117, 0.00015549793897662312, 0.0002669811074156314, 0.9791237115859985, 0.0]], [[0.007456254679709673, 0.14285118877887726, 0.009107501246035099, 0.01593688875436783, 0.02035382390022278, 0.0028016623109579086, 0.0042777894996106625, 0.7972148656845093, 0.0], [0.01949729211628437, 0.014325442723929882, 0.0639086663722992, 0.02584102749824524, 0.028857385739684105, 0.001936656073667109, 0.007946111261844635, 0.8376873731613159, 0.0], [0.004787852056324482, 0.017234405502676964, 0.00808787252753973, 0.1075650155544281, 0.020932834595441818, 0.006083475425839424, 0.009006267413496971, 0.8263023495674133, 0.0], [0.008531915955245495, 0.030951539054512978, 0.04262857139110565, 0.010879048146307468, 0.0733298659324646, 0.0063307262025773525, 0.014139299280941486, 0.8132089972496033, 0.0], [0.00487026060000062, 0.016089098528027534, 0.006010508630424738, 0.04998364672064781, 0.02481507882475853, 0.012965476140379906, 0.017555877566337585, 0.8677100539207458, 0.0], [0.0008116023964248598, 0.007685416378080845, 0.006059393752366304, 0.06453364342451096, 0.016190769150853157, 0.009754263795912266, 0.03579030558466911, 0.8591746091842651, 0.0], [0.004090255592018366, 0.012118171900510788, 0.002380045596510172, 0.016878405585885048, 0.01145442295819521, 0.01670430786907673, 0.008948738686740398, 0.9274256825447083, 0.0], [0.00013831359683535993, 0.001047008205205202, 0.0006872969097457826, 0.0014504592400044203, 0.0020427550189197063, 0.00027441440033726394, 0.00021508098870981485, 0.9941447377204895, 0.0], [0.00022914254805073142, 0.0020642683375626802, 0.0005782800726592541, 0.002174838213250041, 0.0019308467162773013, 0.00014202852617017925, 0.0001172056799987331, 0.992763340473175, 0.0]], [[0.01851704716682434, 0.01051325909793377, 0.011726749129593372, 0.016670050099492073, 0.016602369025349617, 0.0015704010147601366, 0.002418267074972391, 0.9219818711280823, 0.0], [0.10624030232429504, 0.009399842470884323, 0.020627181977033615, 0.00840042531490326, 0.004102638922631741, 0.008174259215593338, 0.004671861417591572, 0.8383834958076477, 0.0], [0.005889926105737686, 0.16493630409240723, 0.023129431530833244, 0.009332188405096531, 0.017360525205731392, 0.004496392328292131, 0.005293542984873056, 0.7695617079734802, 0.0], [0.00598836038261652, 0.013214590959250927, 0.08622252196073532, 0.015351480804383755, 0.02033437415957451, 0.001284502213820815, 0.0037528418470174074, 0.8538513779640198, 0.0], [0.004485324025154114, 0.005656546447426081, 0.010444432497024536, 0.22098127007484436, 0.011236390098929405, 0.005304633639752865, 0.002724127843976021, 0.7391672730445862, 0.0], [0.003017999930307269, 0.009448323398828506, 0.0030050056520849466, 0.009926454164087772, 0.16416369378566742, 0.013442210853099823, 0.0036323643289506435, 0.7933639287948608, 0.0], [0.0018254459137097, 0.01367349736392498, 0.0002954101946670562, 0.005424905568361282, 0.025476839393377304, 0.14769743382930756, 0.012034473940730095, 0.793571949005127, 0.0], [0.0004902015789411962, 0.0013012494891881943, 0.0007341228774748743, 0.0017564399167895317, 0.001060092938132584, 0.0002334576565772295, 0.0019056103192269802, 0.9925187826156616, 0.0], [0.0004687550535891205, 0.001744134584441781, 0.0007786498754285276, 0.0013107501436024904, 0.0007137136999517679, 0.00015506078489124775, 0.0006447048508562148, 0.9941841959953308, 0.0]], [[0.009645828045904636, 0.026887133717536926, 0.08102060854434967, 0.08730266988277435, 0.0456903874874115, 0.016938071697950363, 0.0029350186232477427, 0.729580283164978, 0.0], [0.015386897139251232, 0.015229126438498497, 0.01716230995953083, 0.04121062904596329, 0.07525626569986343, 0.027887465432286263, 0.0018261352088302374, 0.8060411214828491, 0.0], [0.05187153443694115, 0.013632627204060555, 0.006006333045661449, 0.01367124356329441, 0.03238306939601898, 0.0662594810128212, 0.007057970389723778, 0.8091177344322205, 0.0], [0.03988564386963844, 0.0510353185236454, 0.022000577300786972, 0.02402321994304657, 0.009325719438493252, 0.01730547472834587, 0.01974445953965187, 0.8166795969009399, 0.0], [0.014918632805347443, 0.0662417858839035, 0.024925269186496735, 0.011032532900571823, 0.01575404219329357, 0.0057418630458414555, 0.006338949780911207, 0.8550469279289246, 0.0], [0.001800236408598721, 0.024321522563695908, 0.020830800756812096, 0.04936649650335312, 0.03109847381711006, 0.001477811485528946, 0.0023034478072077036, 0.8688012361526489, 0.0], [0.0029686344787478447, 0.00686512840911746, 0.008972732350230217, 0.1923130452632904, 0.05723614990711212, 0.0032615484669804573, 0.0024486249312758446, 0.7259341478347778, 0.0], [0.0013038116740062833, 0.0017062285915017128, 0.0012921402230858803, 0.0011651746463030577, 0.0018800923135131598, 0.0010390988318249583, 0.0003512474650051445, 0.9912621974945068, 0.0], [0.0022013091947883368, 0.001618539565242827, 0.0010467426618561149, 0.0011091744527220726, 0.0019780679140239954, 0.001250176690518856, 0.0001363983319606632, 0.9906595945358276, 0.0]], [[0.0201546773314476, 0.06963133066892624, 0.012458357028663158, 0.012290148064494133, 0.0338284969329834, 0.0036112195812165737, 0.00275677558965981, 0.845268964767456, 0.0], [0.012497041374444962, 0.014466437511146069, 0.09328219294548035, 0.02810475416481495, 0.0224530640989542, 0.000744700722862035, 0.008057708851993084, 0.8203940391540527, 0.0], [0.010551484301686287, 0.009107982739806175, 0.027022361755371094, 0.10832364857196808, 0.024954903870821, 0.0027678522747009993, 0.004295589402318001, 0.8129761219024658, 0.0], [0.022416289895772934, 0.011951364576816559, 0.011804776266217232, 0.04053623229265213, 0.2505652606487274, 0.019866803660988808, 0.009729724377393723, 0.6331295371055603, 0.0], [0.0062362621538341045, 0.010979673825204372, 0.002312436467036605, 0.020846448838710785, 0.023875711485743523, 0.04155014827847481, 0.011424031108617783, 0.8827752470970154, 0.0], [0.004644498229026794, 0.009880218654870987, 0.0049367630854249, 0.007122177630662918, 0.025460902601480484, 0.007560846395790577, 0.049288999289274216, 0.891105592250824, 0.0], [0.004099688492715359, 0.006586066447198391, 0.001814653747715056, 0.0034431316889822483, 0.012667830102145672, 0.005284152925014496, 0.012107612565159798, 0.9539968967437744, 0.0], [0.00017012536409310997, 0.0008939224062487483, 0.0003570610424503684, 0.0008245101198554039, 0.004759080242365599, 0.0002664439962245524, 0.00010660326370270923, 0.9926222562789917, 0.0], [0.00019217294175177813, 0.0007283927407115698, 0.00019018474267795682, 0.0008517012465745211, 0.005549522582441568, 9.594613948138431e-05, 5.699706161976792e-05, 0.9923350214958191, 0.0]], [[0.027376996353268623, 0.032201606780290604, 0.0019899981562048197, 0.008865438401699066, 0.017885610461235046, 0.002852381905540824, 0.0008772119181230664, 0.907950758934021, 0.0], [0.06206472963094711, 0.005479990504682064, 0.0014400689397007227, 0.006875788327306509, 0.017009209841489792, 0.002784003969281912, 0.00031324930023401976, 0.9040330052375793, 0.0], [0.08423442393541336, 0.03923575580120087, 0.0011512420605868101, 0.014208642765879631, 0.008878162130713463, 0.0012522543547675014, 0.00035924784606322646, 0.8506803512573242, 0.0], [0.06046508997678757, 0.037817783653736115, 0.003717384533956647, 0.021662065759301186, 0.018160851672291756, 0.0007027775864116848, 0.00046491975081153214, 0.8570091724395752, 0.0], [0.011503971181809902, 0.04409725219011307, 0.005011227447539568, 0.037452612072229385, 0.01467384397983551, 0.0034658622462302446, 0.0037149512208998203, 0.8800802230834961, 0.0], [0.005664529744535685, 0.06834743171930313, 0.006894474849104881, 0.026721898466348648, 0.02596415765583515, 0.0014906978467479348, 0.0014941671397536993, 0.863422691822052, 0.0], [0.005536695476621389, 0.017198670655488968, 0.007660332135856152, 0.09787378460168839, 0.026748113334178925, 0.020809059962630272, 0.009139499627053738, 0.8150338530540466, 0.0], [0.0015635869931429625, 0.0011367257684469223, 2.608792965475004e-05, 0.0008143922896124423, 0.003591018496081233, 3.8515881897183135e-05, 1.6146434063557535e-05, 0.9928135275840759, 0.0], [0.0025543831288814545, 0.0015116542344912887, 2.185464109061286e-05, 0.0007871517445892096, 0.003182572778314352, 2.7098963983007707e-05, 8.610270924691577e-06, 0.9919066429138184, 0.0]], [[0.03614989295601845, 0.06278949230909348, 0.12652303278446198, 0.05286039039492607, 0.024236183613538742, 0.004993915092200041, 0.014107436873018742, 0.6783396601676941, 0.0], [0.004892418626695871, 0.008611498400568962, 0.042669910937547684, 0.09807988256216049, 0.05807005241513252, 0.010126597248017788, 0.018299954012036324, 0.7592496871948242, 0.0], [0.001549941604025662, 0.00555983604863286, 0.0029722219333052635, 0.021427003666758537, 0.14937961101531982, 0.05076758190989494, 0.014650396071374416, 0.7536934614181519, 0.0], [0.002512215869501233, 0.0036595165729522705, 0.0007422668859362602, 0.006204162258654833, 0.07252015173435211, 0.11109374463558197, 0.05753667280077934, 0.7457312941551208, 0.0], [0.0050852857530117035, 0.006982619408518076, 0.00205405056476593, 0.005263160448521376, 0.021374834701418877, 0.08103451877832413, 0.13399407267570496, 0.7442113757133484, 0.0], [0.003302175085991621, 0.012599275447428226, 0.003353092586621642, 0.007770265452563763, 0.015385588631033897, 0.012625599279999733, 0.03274708613753319, 0.9122169017791748, 0.0], [0.001463878434151411, 0.006428855936974287, 0.00521259568631649, 0.004551478195935488, 0.008257114328444004, 0.0047234524972736835, 0.01576969586312771, 0.9535928964614868, 0.0], [0.0006988248787820339, 0.00031467730877920985, 0.00042335555190220475, 0.0024814556818455458, 0.007574265822768211, 0.0011022057151421905, 0.0009031184599734843, 0.9865021109580994, 0.0], [0.00030910075292922556, 0.0002716558228712529, 0.0003050027007702738, 0.0031121608335524797, 0.011098519898951054, 0.0009162550559267402, 0.0006993162678554654, 0.9832879900932312, 0.0]]], [[[0.0027915253303945065, 0.050616465508937836, 0.018198661506175995, 0.01895286701619625, 0.006371527444571257, 0.004318739753216505, 0.011695853434503078, 0.8870543837547302, 0.0], [0.0019759577699005604, 0.006467735860496759, 0.2767632007598877, 0.004387059714645147, 0.0007458338513970375, 0.00038591603515669703, 0.0032598006073385477, 0.7060144543647766, 0.0], [0.0012707485584542155, 0.010495691560208797, 0.006442199926823378, 0.1376834660768509, 0.0040176622569561005, 0.004352486226707697, 0.0157750453799963, 0.8199626803398132, 0.0], [0.0017941247206181288, 0.010356608778238297, 0.004731117282062769, 0.002456143032759428, 0.08146917074918747, 0.00834702793508768, 0.0020447822753340006, 0.8888010382652283, 0.0], [0.00348247354850173, 0.014225480146706104, 0.001509610447101295, 0.0070510548539459705, 0.01437370851635933, 0.09985270351171494, 0.010165542364120483, 0.8493394255638123, 0.0], [0.008045919239521027, 0.007542060688138008, 0.004111044574528933, 0.009674846194684505, 0.004550375044345856, 0.009728392586112022, 0.06664591282606125, 0.8897014260292053, 0.0], [0.002625618362799287, 0.005922251380980015, 0.0015164759242907166, 0.002650067675858736, 0.003750093514099717, 0.017433403059840202, 0.011224277317523956, 0.9548777937889099, 0.0], [0.0005558761768043041, 0.001531958463601768, 0.001160302897915244, 0.0030323900282382965, 0.004296824336051941, 0.002680644392967224, 0.0016693215584382415, 0.985072672367096, 0.0], [0.000573394529055804, 0.0018162211636081338, 0.001552596571855247, 0.004380030557513237, 0.004265926778316498, 0.001635445049032569, 0.0011843966785818338, 0.9845920205116272, 0.0]], [[0.003871888853609562, 0.2497687190771103, 0.01651059277355671, 0.007687660399824381, 0.012747949920594692, 0.002835551043972373, 0.0075247022323310375, 0.6990528702735901, 0.0], [0.0015301121165975928, 0.005850393325090408, 0.02595159038901329, 0.2950977683067322, 0.005263383965939283, 0.002235466381534934, 0.002165094716474414, 0.6619061231613159, 0.0], [0.0006985099753364921, 0.007010727189481258, 0.01143074594438076, 0.011235722340643406, 0.02827143669128418, 0.006057284772396088, 0.005415475927293301, 0.9298800826072693, 0.0], [0.0007333795074373484, 0.025911808013916016, 0.020678134635090828, 0.004499292001128197, 0.023304225876927376, 0.0071489205583930016, 0.00457499735057354, 0.9131492376327515, 0.0], [0.0021411371417343616, 0.0006482505123130977, 0.0035130390897393227, 0.02341987006366253, 0.004093158524483442, 0.021489107981324196, 0.004119318909943104, 0.9405761361122131, 0.0], [0.00024896019021980464, 0.006471311207860708, 0.003035160480067134, 0.00405464181676507, 0.028622163459658623, 0.009955111891031265, 0.012875049374997616, 0.9347375631332397, 0.0], [0.002103908685967326, 0.0028387424536049366, 0.006578706670552492, 0.004676970653235912, 0.013360923156142235, 0.011052577756345272, 0.0024036853574216366, 0.9569844603538513, 0.0], [0.0002540729474276304, 0.0016922283684834838, 0.0018756571225821972, 0.005109373014420271, 0.004624255001544952, 0.002842488931491971, 0.0016465323278680444, 0.981955349445343, 0.0], [0.0002977143449243158, 0.0020927521400153637, 0.0025867202784866095, 0.006794265937060118, 0.005240767262876034, 0.0025565538089722395, 0.0013914004666730762, 0.9790398478507996, 0.0]], [[0.005265328101813793, 0.006344974506646395, 0.0008945164154283702, 0.007800351828336716, 0.016890766099095345, 0.016300691291689873, 0.003315350040793419, 0.9431880712509155, 0.0], [0.05664994567632675, 0.007747513707727194, 0.007825070060789585, 0.003699453780427575, 0.003551695728674531, 0.010439323261380196, 0.003929363563656807, 0.9061576128005981, 0.0], [0.005716606974601746, 0.12182588875293732, 0.01602497696876526, 0.005951174069195986, 0.003963912837207317, 0.0013194293715059757, 0.007038120646029711, 0.8381599187850952, 0.0], [0.0032976160291582346, 0.007953866384923458, 0.05247344821691513, 0.022531066089868546, 0.007698340807110071, 0.0003850519424304366, 0.007870352827012539, 0.897790253162384, 0.0], [0.0008800897048786283, 0.002103012753650546, 0.009418844245374203, 0.049327850341796875, 0.003985431045293808, 0.002233239822089672, 0.002783604897558689, 0.9292680025100708, 0.0], [0.0008445210405625403, 0.0010567331919446588, 0.0011073750210925937, 0.007163797039538622, 0.08824840933084488, 0.01615835539996624, 0.00527576357126236, 0.8801450729370117, 0.0], [0.0040530916303396225, 0.003787573892623186, 0.00014319409092422575, 0.01412623468786478, 0.05991946905851364, 0.11631210893392563, 0.007853523828089237, 0.7938047647476196, 0.0], [0.0020659705623984337, 0.002916343044489622, 0.004269586410373449, 0.004344424698501825, 0.004784072749316692, 0.004677900578826666, 0.009341821074485779, 0.9675998687744141, 0.0], [0.0030287746340036392, 0.005275943782180548, 0.004758775699883699, 0.003284275531768799, 0.0032299768645316362, 0.003550393506884575, 0.007915277034044266, 0.9689565896987915, 0.0]], [[0.0017981581622734666, 0.07398653030395508, 0.036526817828416824, 0.019149374216794968, 0.16676975786685944, 0.010220076888799667, 0.0035264277830719948, 0.6880228519439697, 0.0], [0.0025999583303928375, 0.016488762572407722, 0.07974620163440704, 0.04320424795150757, 0.015255718491971493, 0.053865429013967514, 0.0020790910348296165, 0.7867605686187744, 0.0], [0.024227475747466087, 0.00656643183901906, 0.003079986898228526, 0.008516883477568626, 0.03564407303929329, 0.0037518914323300123, 0.020945502445101738, 0.8972676992416382, 0.0], [0.002174090128391981, 0.024975817650556564, 0.006381757091730833, 0.004682866390794516, 0.007863066159188747, 0.029226599261164665, 0.012804643251001835, 0.9118911623954773, 0.0], [0.001881247153505683, 0.0019735645037144423, 0.032456062734127045, 0.010804757475852966, 0.005934939719736576, 0.024847541004419327, 0.007206960581243038, 0.9148949980735779, 0.0], [0.003162141889333725, 0.004344395361840725, 0.012060953304171562, 0.029406199231743813, 0.04763822630047798, 0.012461076490581036, 0.03561361879110336, 0.8553133606910706, 0.0], [0.0012321742251515388, 0.011182775720953941, 0.0038238053675740957, 0.016439465805888176, 0.02251237817108631, 0.01075577549636364, 0.0033895892556756735, 0.9306640028953552, 0.0], [0.000484548945678398, 0.002395718125626445, 0.0025354395620524883, 0.003055889392271638, 0.0059535265900194645, 0.0036373555194586515, 0.0017849468858912587, 0.9801525473594666, 0.0], [0.0006597937317565084, 0.002698916709050536, 0.002554824808612466, 0.0035910785663872957, 0.006083521526306868, 0.003602743148803711, 0.0016168701695278287, 0.9791922569274902, 0.0]], [[0.01501019299030304, 0.002845661249011755, 0.0467241033911705, 0.05849296599626541, 0.107782743871212, 0.017797213047742844, 0.003036028705537319, 0.7483111023902893, 0.0], [0.002001585904508829, 0.002612170297652483, 0.0020253134425729513, 0.026367956772446632, 0.26031196117401123, 0.009930195286870003, 0.00543853547424078, 0.6913122534751892, 0.0], [0.01046040840446949, 0.0020403238013386726, 0.0005907183513045311, 0.014520305208861828, 0.048084985464811325, 0.04973195120692253, 0.002432741690427065, 0.8721385598182678, 0.0], [0.02847186289727688, 0.016450906172394753, 0.003154470818117261, 0.020995937287807465, 0.005998946726322174, 0.005748855881392956, 0.007126561366021633, 0.9120524525642395, 0.0], [0.0030284645035862923, 0.040441352874040604, 0.010255697183310986, 0.004841612186282873, 0.002899449784308672, 0.002367623383179307, 0.018489453941583633, 0.9176763296127319, 0.0], [0.0017708067316561937, 0.003763073356822133, 0.01443635206669569, 0.01722417213022709, 0.004674031399190426, 0.0018289696890860796, 0.004151900298893452, 0.9521507620811462, 0.0], [0.0005974502419121563, 0.00118457549251616, 0.001725445850752294, 0.009994102641940117, 0.018265673890709877, 0.00646050414070487, 0.004893250297755003, 0.9568790197372437, 0.0], [0.0011214741971343756, 0.0051929340697824955, 0.001193306758068502, 0.0021127203945070505, 0.010055391117930412, 0.002375248121097684, 0.004761006683111191, 0.9731878638267517, 0.0], [0.0017224738840013742, 0.004596530459821224, 0.0009338529780507088, 0.002394990064203739, 0.014222517609596252, 0.003389134770259261, 0.003751312382519245, 0.9689891934394836, 0.0]], [[0.021451283246278763, 0.13179931044578552, 0.011362872086465359, 0.0073281037621200085, 0.003960355184972286, 0.0021914481185376644, 0.007524017710238695, 0.8143825531005859, 0.0], [0.0004978417418897152, 0.006556212902069092, 0.04678443819284439, 0.01060404721647501, 0.04118916392326355, 0.00031718998798169196, 0.0014106949092820287, 0.8926404118537903, 0.0], [0.0007793499389663339, 0.0028512966819107533, 0.006401699967682362, 0.0562111958861351, 0.025915151461958885, 0.001366378623060882, 0.003500149818137288, 0.9029747843742371, 0.0], [0.0028998011257499456, 0.005978183355182409, 0.0016938337357714772, 0.004490477964282036, 0.15655000507831573, 0.007417277432978153, 0.004423741716891527, 0.8165466785430908, 0.0], [0.0007791569223627448, 0.004195305053144693, 0.0006152585847303271, 0.003434550715610385, 0.0050958567298948765, 0.05818697437644005, 0.0077903177589178085, 0.9199025630950928, 0.0], [0.00285476166754961, 0.004078818950802088, 0.0007283801678568125, 0.004853087477385998, 0.006708165630698204, 0.009578180499374866, 0.1472344696521759, 0.8239641785621643, 0.0], [0.005603400524705648, 0.014578606933355331, 0.00481213815510273, 0.004589952994138002, 0.0020990921184420586, 0.0076896133832633495, 0.016214510425925255, 0.9444127082824707, 0.0], [0.0011164461029693484, 0.003279933240264654, 0.0017396027687937021, 0.0029572173953056335, 0.00698115723207593, 0.00430833688005805, 0.0019603644032031298, 0.977656900882721, 0.0], [0.0007800396997481585, 0.0031251395121216774, 0.0022150487639009953, 0.004670003429055214, 0.008577872067689896, 0.0027916706167161465, 0.0011726187076419592, 0.9766676425933838, 0.0]], [[0.004530205857008696, 0.0011802965309470892, 0.0026165477465838194, 0.003673253348097205, 0.08526653796434402, 0.03563104197382927, 0.04782875254750252, 0.8192733526229858, 0.0], [0.018359322100877762, 0.0030991153325885534, 0.0010755887487903237, 0.0018240307690575719, 0.002795272506773472, 0.01907879114151001, 0.01989663951098919, 0.9338712692260742, 0.0], [0.08022858202457428, 0.010565669275820255, 0.0030610805843025446, 0.00424110796302557, 0.010647638700902462, 0.0039141178131103516, 0.009932979941368103, 0.8774088025093079, 0.0], [0.015795260667800903, 0.14065437018871307, 0.016844071447849274, 0.006422355771064758, 0.004133273381739855, 0.0008748007821850479, 0.008128557354211807, 0.8071472644805908, 0.0], [0.004438004922121763, 0.015628401190042496, 0.08470674604177475, 0.012205323204398155, 0.010831430554389954, 0.0006749042076990008, 0.006720787845551968, 0.8647944331169128, 0.0], [0.0008247466175816953, 0.0042095729149878025, 0.014585443772375584, 0.08679056912660599, 0.02300211414694786, 0.004221935290843248, 0.0013610993046313524, 0.8650045394897461, 0.0], [0.003291295375674963, 0.002258456079289317, 0.004583908244967461, 0.026855118572711945, 0.13398583233356476, 0.02759764902293682, 0.004597170744091272, 0.7968305349349976, 0.0], [0.0017198041314259171, 0.003241518745198846, 0.0028692339546978474, 0.005095453467220068, 0.00743623124435544, 0.006933319848030806, 0.00934051163494587, 0.9633639454841614, 0.0], [0.0032940104138106108, 0.003416577121242881, 0.001700628432445228, 0.0033788762520998716, 0.005709515418857336, 0.0068205855786800385, 0.008251810446381569, 0.9674280285835266, 0.0]], [[0.00381774315610528, 0.07094961404800415, 0.04311571642756462, 0.03270943462848663, 0.016468504443764687, 0.0023284272756427526, 0.005709366872906685, 0.8249011635780334, 0.0], [0.017402222380042076, 0.006709027569741011, 0.015726812183856964, 0.04796534776687622, 0.0350969024002552, 0.0015322051476687193, 0.010200823657214642, 0.8653666377067566, 0.0], [0.005233787000179291, 0.11592508852481842, 0.006322537083178759, 0.0566486194729805, 0.11141721159219742, 0.0026407905388623476, 0.007840116508305073, 0.6939718127250671, 0.0], [0.01538387592881918, 0.015103533864021301, 0.007896172814071178, 0.009048670530319214, 0.04966510832309723, 0.0024268263950943947, 0.004949184600263834, 0.8955267071723938, 0.0], [0.011527442373335361, 0.004882473964244127, 0.0038543830160051584, 0.07340788096189499, 0.02275381237268448, 0.015047155320644379, 0.026240142062306404, 0.8422867059707642, 0.0], [0.0013624648563563824, 0.006087311077862978, 0.0025339839048683643, 0.033432282507419586, 0.04565528407692909, 0.05340858921408653, 0.030408456921577454, 0.8271116018295288, 0.0], [0.0008738341857679188, 0.0030243920627981424, 0.0005289425607770681, 0.015835290774703026, 0.06516890227794647, 0.041334737092256546, 0.011063405312597752, 0.8621704578399658, 0.0], [0.0003241034864913672, 0.0016860479954630136, 0.0010600980604067445, 0.003252627793699503, 0.0066440291702747345, 0.0012631752761080861, 0.0015786167932674289, 0.9841912984848022, 0.0], [0.0005355799221433699, 0.0027598494198173285, 0.001369177596643567, 0.005079435184597969, 0.008119627833366394, 0.0010928487172350287, 0.0012023337185382843, 0.9798411130905151, 0.0]]], [[[0.0018548760563135147, 0.002861026441678405, 0.004831510130316019, 0.007525406777858734, 0.05621568486094475, 0.012518814764916897, 0.0050843749195337296, 0.9091083407402039, 0.0], [0.006107337772846222, 0.0040931738913059235, 0.005238785408437252, 0.002625427208840847, 0.017818907275795937, 0.016193334013223648, 0.008314653299748898, 0.9396083354949951, 0.0], [0.046602874994277954, 0.0015281492378562689, 0.021493222564458847, 0.002476965542882681, 0.00870895478874445, 0.003903032513335347, 0.0014446640852838755, 0.9138420820236206, 0.0], [0.0030450376216322184, 0.062338899821043015, 0.05899573490023613, 0.007675107102841139, 0.0012015898246318102, 0.006274808198213577, 0.00535596301779151, 0.8551127910614014, 0.0], [0.0010944424429908395, 0.012010622769594193, 0.059417326003313065, 0.012767884880304337, 0.0032426174730062485, 0.001311154686845839, 0.007616178132593632, 0.9025397896766663, 0.0], [0.0007191530894488096, 0.0019969434943050146, 0.02927268110215664, 0.017442578449845314, 0.019630566239356995, 0.0055671329610049725, 0.0007911660941317677, 0.9245797991752625, 0.0], [0.000985901104286313, 0.0005716932937502861, 0.0020955675281584263, 0.006507915910333395, 0.1046571359038353, 0.011225560680031776, 0.0025574914179742336, 0.8713987469673157, 0.0], [0.0026195652317255735, 0.0046700891107320786, 0.009927792474627495, 0.014859350398182869, 0.04544001445174217, 0.03208578750491142, 0.05954068526625633, 0.8308567404747009, 0.0], [0.003263024613261223, 0.00466102035716176, 0.008494778536260128, 0.012500474229454994, 0.04272168129682541, 0.034267909824848175, 0.05772855877876282, 0.8363626003265381, 0.0]], [[0.002647607820108533, 0.0070641664788126945, 0.0020361102651804686, 0.030575944110751152, 0.01065432745963335, 0.00881655141711235, 0.0016024467768147588, 0.936602771282196, 0.0], [0.02249765954911709, 0.012596404179930687, 0.004388862289488316, 0.004805960692465305, 0.003705317620187998, 0.009289680048823357, 0.0036336504854261875, 0.9390825033187866, 0.0], [0.0016638519009575248, 0.04812515154480934, 0.021091265603899956, 0.0055088382214307785, 0.0064656734466552734, 0.004854450933635235, 0.00220564310438931, 0.910085141658783, 0.0], [0.000935319229029119, 0.0012410953640937805, 0.05677327886223793, 0.019723588600754738, 0.001434630830772221, 0.0012309426674619317, 0.00256327074021101, 0.9160978198051453, 0.0], [0.0012221201322972775, 0.0023393796291202307, 0.014674479141831398, 0.10696040093898773, 0.02276402711868286, 0.00430965656414628, 0.0017287223599851131, 0.8460012078285217, 0.0], [0.001349327969364822, 0.0029787037055939436, 0.003366635413840413, 0.008906546048820019, 0.06334623694419861, 0.012679590843617916, 0.0022239668760448694, 0.9051490426063538, 0.0], [0.005630579311400652, 0.0009308304288424551, 0.0008351791184395552, 0.003235215786844492, 0.012095564976334572, 0.1294420212507248, 0.0076868836767971516, 0.8401436805725098, 0.0], [0.002497212728485465, 0.002398850629106164, 0.011956235393881798, 0.008781902492046356, 0.01621514931321144, 0.027266427874565125, 0.06890076398849487, 0.8619834780693054, 0.0], [0.0026543813291937113, 0.0026667022611945868, 0.011836400255560875, 0.007750580087304115, 0.014084532856941223, 0.02436385117471218, 0.06830962002277374, 0.8683339357376099, 0.0]], [[0.02558172307908535, 0.02408337965607643, 0.005377933848649263, 0.04514813795685768, 0.018039520829916, 0.004798450507223606, 0.010902371257543564, 0.8660685420036316, 0.0], [0.005334846675395966, 0.0007815384306013584, 0.0034772211220115423, 0.005937517154961824, 0.01236055325716734, 0.0007449118420481682, 0.001689523458480835, 0.9696738719940186, 0.0], [0.008244127966463566, 0.039433520287275314, 0.003916864283382893, 0.008092358708381653, 0.0417327880859375, 0.0026199996937066317, 0.006294316612184048, 0.8896660804748535, 0.0], [0.005665309727191925, 0.0014719548635184765, 0.0021607354283332825, 0.025477835908532143, 0.14044688642024994, 0.0011837048223242164, 0.007237488403916359, 0.8163560628890991, 0.0], [0.001569629181176424, 0.002863195724785328, 0.0570196732878685, 0.03704330325126648, 0.0007331734523177147, 0.07489702105522156, 0.03944365680217743, 0.7864303588867188, 0.0], [0.0025485092774033546, 0.005160126369446516, 0.004625328816473484, 0.005752114113420248, 0.07975058257579803, 0.039497435092926025, 0.04848799854516983, 0.8141778707504272, 0.0], [0.0008626548806205392, 0.00021699345961678773, 0.0055845691822469234, 0.0002240924077341333, 0.04929887875914574, 0.0839877799153328, 0.005004122853279114, 0.8548209071159363, 0.0], [0.00284586101770401, 0.0020854021422564983, 0.015611144714057446, 0.0030667914543300867, 0.012038946151733398, 0.026577429845929146, 0.04830359295010567, 0.8894708156585693, 0.0], [0.0032394893933087587, 0.002320708241313696, 0.016012093052268028, 0.003202972700819373, 0.01216385792940855, 0.025189770385622978, 0.046507492661476135, 0.8913636207580566, 0.0]], [[0.014399734325706959, 0.02844618633389473, 0.009163238108158112, 0.058159247040748596, 0.011304006911814213, 0.009559497237205505, 0.00028834465774707496, 0.8686798214912415, 0.0], [0.08606042712926865, 0.0033040300477296114, 0.005856208968907595, 0.004138526041060686, 0.0065077212639153, 0.005301649682223797, 0.0031818212009966373, 0.885649561882019, 0.0], [0.004660776350647211, 0.05245204269886017, 0.01652878150343895, 0.003461205866187811, 0.008330892771482468, 0.002588753355666995, 0.0049430509097874165, 0.9070345163345337, 0.0], [0.004976159892976284, 0.006016547325998545, 0.08246520906686783, 0.013958380557596684, 0.00349253648892045, 0.00018839006952475756, 0.003712090663611889, 0.8851907253265381, 0.0], [0.00032070197630673647, 0.0011187952477484941, 0.012491033412516117, 0.4556606113910675, 0.007931782864034176, 0.01460694894194603, 0.0043749441392719746, 0.5034951567649841, 0.0], [0.0015943273901939392, 0.0011882444377988577, 0.0006968275993131101, 0.010454757139086723, 0.0743957906961441, 0.017874309793114662, 0.004216304048895836, 0.8895794749259949, 0.0], [0.0024382525589317083, 0.005546146538108587, 7.347141217906028e-05, 0.010356789454817772, 0.06900123506784439, 0.03935088962316513, 0.004411744419485331, 0.868821382522583, 0.0], [0.003663556184619665, 0.0036303242668509483, 0.006304402370005846, 0.04873830825090408, 0.026425417512655258, 0.030981579795479774, 0.09885723143815994, 0.7813991904258728, 0.0], [0.004134987015277147, 0.004563967697322369, 0.006321918684989214, 0.04162305220961571, 0.021892288699746132, 0.028884267434477806, 0.10049741715192795, 0.7920820713043213, 0.0]], [[0.004483578260987997, 0.04377297684550285, 0.05372508242726326, 0.01689450815320015, 0.013279425911605358, 0.006325123365968466, 0.007474383804947138, 0.8540448546409607, 0.0], [0.002311994321644306, 0.012745563872158527, 0.04673255607485771, 0.02328512817621231, 0.013978852890431881, 0.006749048829078674, 0.0708228349685669, 0.8233739733695984, 0.0], [0.0076003167778253555, 0.029847925528883934, 0.002012368757277727, 0.06754028797149658, 0.02877499908208847, 0.0024383647833019495, 0.02595643885433674, 0.8358292579650879, 0.0], [0.0011482067639008164, 0.006132904440164566, 0.005484743509441614, 0.00856288243085146, 0.01241245400160551, 0.017709584906697273, 0.0026853508315980434, 0.9458639025688171, 0.0], [0.001958186738193035, 0.0005764294182881713, 0.0038176747038960457, 0.0863003358244896, 0.015933239832520485, 0.12609009444713593, 0.004969912115484476, 0.7603541016578674, 0.0], [0.00020486197900027037, 0.004752629436552525, 0.001484669977799058, 0.023703135550022125, 0.00732350954785943, 0.004037150647491217, 0.1061270460486412, 0.8523669838905334, 0.0], [0.0006072674295864999, 0.00361602078191936, 0.003090726211667061, 0.0018901656148955226, 0.005785238463431597, 0.018814094364643097, 0.010359351523220539, 0.955837070941925, 0.0], [0.0017480440437793732, 0.005963433999568224, 0.008799228817224503, 0.017988255247473717, 0.013334409333765507, 0.011584058403968811, 0.009416443295776844, 0.9311661720275879, 0.0], [0.0018809845205396414, 0.006468234583735466, 0.009241628460586071, 0.018962254747748375, 0.013635686598718166, 0.010865922085940838, 0.009052232839167118, 0.9298930764198303, 0.0]], [[0.01711767166852951, 0.0037624335382133722, 0.03132336586713791, 0.09966239333152771, 0.017203476279973984, 0.024028554558753967, 0.0015441401628777385, 0.8053579926490784, 0.0], [0.007764886599034071, 0.0020051980391144753, 0.0020941265393048525, 0.012585782445967197, 0.05488519370555878, 0.01593008264899254, 0.0006145809311419725, 0.9041202068328857, 0.0], [0.0010560392402112484, 0.0012658580671995878, 0.027416370809078217, 0.009546887129545212, 0.01085919514298439, 0.08717402815818787, 0.08160509914159775, 0.7810765504837036, 0.0], [0.000422317796619609, 0.027309158816933632, 0.03175647556781769, 0.021383313462138176, 0.0056540025398135185, 0.03922165185213089, 0.004395460244268179, 0.869857668876648, 0.0], [0.014951517805457115, 0.01884707808494568, 0.0012142057530581951, 0.006922990083694458, 0.10350389033555984, 0.0045984117314219475, 0.009084117598831654, 0.8408778309822083, 0.0], [0.00028332037618383765, 0.0017475233180448413, 0.014350366778671741, 0.002956469776108861, 0.008568043820559978, 0.011403561569750309, 0.004716348834335804, 0.9559743404388428, 0.0], [0.0008144647581502795, 0.003971082624047995, 0.011982136406004429, 0.016505736857652664, 0.002278441097587347, 0.003837788011878729, 0.00931218359619379, 0.951298177242279, 0.0], [0.0025589861907064915, 0.009764263406395912, 0.010466896928846836, 0.009262281470000744, 0.010325695388019085, 0.01447649858891964, 0.031078172847628593, 0.9120671153068542, 0.0], [0.0026276179123669863, 0.008669386617839336, 0.01018714252859354, 0.010116771794855595, 0.01071107480674982, 0.01601269096136093, 0.032688867300748825, 0.9089864492416382, 0.0]], [[0.006042556371539831, 0.08247068524360657, 0.008275010623037815, 0.007345386315137148, 0.004627184476703405, 0.00527125084772706, 0.01231714803725481, 0.8736507892608643, 0.0], [0.001059369184076786, 0.006590271834284067, 0.09386400878429413, 0.002496382687240839, 0.010350273922085762, 0.0006363344728015363, 0.0012428462505340576, 0.8837605118751526, 0.0], [0.0011617469135671854, 0.002494239713996649, 0.0034868267830461264, 0.1515452265739441, 0.01370252389460802, 0.0017706857761368155, 0.0013183181872591376, 0.8245204091072083, 0.0], [0.005244460888206959, 0.0008886182331480086, 0.008660737425088882, 0.0036640057805925608, 0.13523855805397034, 0.005496105644851923, 0.0005710433470085263, 0.8402364253997803, 0.0], [0.0008602376910857856, 0.00904645211994648, 0.002445235149934888, 0.001549634849652648, 0.005999348126351833, 0.22174371778964996, 0.005965336691588163, 0.7523900270462036, 0.0], [0.0019199696835130453, 0.0033868735190480947, 0.0021653862204402685, 0.00376985059119761, 0.0026896607596427202, 0.012845330871641636, 0.17245535552501678, 0.8007675409317017, 0.0], [0.0007687798934057355, 0.005241393577307463, 0.002694835187867284, 0.002193479100242257, 0.0063689155504107475, 0.006593251600861549, 0.011825046502053738, 0.964314341545105, 0.0], [0.011722211726009846, 0.00755958491936326, 0.008491866290569305, 0.007974289357662201, 0.02694448083639145, 0.010356082580983639, 0.002846629125997424, 0.9241048693656921, 0.0], [0.01029165368527174, 0.00799936056137085, 0.009411816485226154, 0.009987454861402512, 0.025453567504882812, 0.008198780938982964, 0.0024163899943232536, 0.9262409806251526, 0.0]], [[0.007459969259798527, 0.008714204654097557, 0.02635175734758377, 0.00314122112467885, 0.005256625823676586, 0.06425759941339493, 0.01721583679318428, 0.8676027655601501, 0.0], [0.0033947229385375977, 0.004060268867760897, 0.005821122322231531, 0.00945256557315588, 0.011781349778175354, 0.0043143052607774734, 0.008755510672926903, 0.9524201154708862, 0.0], [0.044172316789627075, 0.023362034931778908, 0.017468610778450966, 0.006122624967247248, 0.019059818238019943, 0.01553729735314846, 0.003582895966246724, 0.8706944584846497, 0.0], [0.03044181689620018, 0.005248830653727055, 0.004083688370883465, 0.002090763533487916, 0.06409629434347153, 0.0038117924705147743, 0.001736196456477046, 0.888490617275238, 0.0], [0.0012497897259891033, 0.0015077247517183423, 0.0011972931679338217, 0.0343719907104969, 0.05540270730853081, 0.006372845731675625, 0.007413407787680626, 0.892484188079834, 0.0], [0.0014152884250506759, 0.0016148894792422652, 0.006405464373528957, 0.026226302608847618, 0.006539750844240189, 0.007012894377112389, 0.010548615828156471, 0.9402367472648621, 0.0], [0.002790699480101466, 0.0013892797287553549, 0.0026729670353233814, 0.0024124570190906525, 0.0327695831656456, 0.007693249266594648, 0.008289690129458904, 0.9419820308685303, 0.0], [0.0019220366375520825, 0.004330570809543133, 0.005054148379713297, 0.021266840398311615, 0.030727382749319077, 0.012342961505055428, 0.046145688742399216, 0.8782103061676025, 0.0], [0.0021264422684907913, 0.00471083726733923, 0.005357358604669571, 0.02083231694996357, 0.02946498990058899, 0.012748613953590393, 0.04464978724718094, 0.8801096081733704, 0.0]]]], \"left_text\": [\"E\", \"Q\", \"V\", \"T\", \"N\", \"V\", \"G\", \"<eos>\", \"<pad>\"], \"right_text\": [\"E\", \"Q\", \"V\", \"T\", \"N\", \"V\", \"G\", \"<eos>\", \"<pad>\"]}, {\"name\": \"Decoder\", \"attn\": [[[[1.0, 0.0, 0.0, 0.0, 0.0, 0.0, 0.0, 0.0], [1.0, 1.3751132945109188e-35, 0.0, 0.0, 0.0, 0.0, 0.0, 0.0], [0.0, 0.0, 1.0, 0.0, 0.0, 0.0, 0.0, 0.0], [0.0, 0.0, 1.0, 4.4060632286751624e-17, 0.0, 0.0, 0.0, 0.0], [0.0, 0.0, 2.0303143465057505e-23, 4.246482310655685e-37, 1.0, 0.0, 0.0, 0.0], [0.0, 0.0, 0.0, 0.0, 1.0, 0.0, 0.0, 0.0], [0.0, 0.0, 0.0, 0.0, 0.0, 0.0, 1.0, 0.0], [0.0, 0.0, 0.0, 0.0, 0.0, 0.0, 5.918524248621815e-31, 1.0]], [[1.0, 0.0, 0.0, 0.0, 0.0, 0.0, 0.0, 0.0], [1.0, 0.0, 0.0, 0.0, 0.0, 0.0, 0.0, 0.0], [0.0, 1.0, 0.0, 0.0, 0.0, 0.0, 0.0, 0.0], [0.0, 0.0, 1.0, 1.401298464324817e-45, 0.0, 0.0, 0.0, 0.0], [0.0, 0.0, 0.0, 1.0, 0.0, 0.0, 0.0, 0.0], [0.0, 0.0, 0.0, 2.802596928649634e-45, 1.0, 0.0, 0.0, 0.0], [0.0, 0.0, 0.0, 0.0, 0.0, 1.0, 0.0, 0.0], [0.0, 0.0, 0.0, 0.0, 0.0, 0.0, 1.0, 0.0]], [[1.0, 0.0, 0.0, 0.0, 0.0, 0.0, 0.0, 0.0], [0.9932088255882263, 0.0067911637015640736, 0.0, 0.0, 0.0, 0.0, 0.0, 0.0], [0.22654198110103607, 0.7454136610031128, 0.028044406324625015, 0.0, 0.0, 0.0, 0.0, 0.0], [0.04117241129279137, 0.044268421828746796, 0.8608278632164001, 0.053731389343738556, 0.0, 0.0, 0.0, 0.0], [0.01330542005598545, 0.001368849421851337, 0.1566973477602005, 0.7999187707901001, 0.02870960161089897, 0.0, 0.0, 0.0], [0.008237672969698906, 2.7061272703576833e-05, 0.0011693235719576478, 0.09571829438209534, 0.8481020331382751, 0.046745575964450836, 0.0, 0.0], [0.009078802540898323, 8.730989975447301e-07, 5.869722826901125e-06, 0.0003640104259829968, 0.0742054432630539, 0.7811369895935059, 0.13520798087120056, 0.0], [0.004875240381807089, 5.527743383026973e-07, 8.739606016661128e-08, 8.850443009578157e-07, 0.0002937337849289179, 0.02848631702363491, 0.9134148955345154, 0.05292823538184166]], [[1.0, 0.0, 0.0, 0.0, 0.0, 0.0, 0.0, 0.0], [1.0, 0.0, 0.0, 0.0, 0.0, 0.0, 0.0, 0.0], [0.0, 5.749118644180896e-37, 1.0, 0.0, 0.0, 0.0, 0.0, 0.0], [0.0, 0.0, 0.0, 1.0, 0.0, 0.0, 0.0, 0.0], [0.0, 0.0, 0.0, 0.0, 1.0, 0.0, 0.0, 0.0], [0.0, 0.0, 0.0, 0.0, 0.0, 1.0, 0.0, 0.0], [0.0, 0.0, 0.0, 0.0, 0.0, 0.0, 1.0, 0.0], [0.0, 0.0, 0.0, 0.0, 0.0, 0.0, 0.0, 1.0]], [[1.0, 0.0, 0.0, 0.0, 0.0, 0.0, 0.0, 0.0], [0.9997062087059021, 0.00029373078723438084, 0.0, 0.0, 0.0, 0.0, 0.0, 0.0], [0.9873046278953552, 0.01268297340720892, 1.2408178918121848e-05, 0.0, 0.0, 0.0, 0.0, 0.0], [0.0683666318655014, 0.8978580832481384, 0.03347519785165787, 0.00030009570764377713, 0.0, 0.0, 0.0, 0.0], [8.799839633866213e-06, 0.009379846975207329, 0.959180474281311, 0.03142998740077019, 9.285618034482468e-07, 0.0, 0.0, 0.0], [4.0733480477506134e-10, 1.0142993005501921e-06, 0.05383266508579254, 0.942733645439148, 0.003432667814195156, 8.352016322987765e-08, 0.0, 0.0], [1.957425725884765e-18, 9.138865049240037e-16, 1.7846457645021019e-09, 0.006382146384567022, 0.9914432168006897, 0.0021747068967670202, 1.4583478868956945e-09, 0.0], [4.1576008822599565e-27, 5.1846893067659586e-27, 2.1376592694486346e-21, 2.3420421851882978e-11, 0.005650314502418041, 0.9899404644966125, 0.004409240558743477, 3.6123739416416e-11]], [[1.0, 0.0, 0.0, 0.0, 0.0, 0.0, 0.0, 0.0], [1.0, 5.3252078772607445e-36, 0.0, 0.0, 0.0, 0.0, 0.0, 0.0], [8.756714103565782e-42, 1.0, 1.4804437750134928e-22, 0.0, 0.0, 0.0, 0.0, 0.0], [0.0, 7.394565651016016e-27, 1.0, 4.0842737447273315e-20, 0.0, 0.0, 0.0, 0.0], [0.0, 0.0, 8.104481066574786e-33, 1.0, 5.125351179094811e-19, 0.0, 0.0, 0.0], [0.0, 0.0, 0.0, 4.9498503758609025e-23, 1.0, 2.3404335173989144e-26, 0.0, 0.0], [0.0, 0.0, 0.0, 0.0, 9.389867381291088e-16, 1.0, 7.951543505840824e-19, 0.0], [0.0, 0.0, 0.0, 0.0, 0.0, 0.0, 1.0, 5.149169298054043e-40]], [[1.0, 0.0, 0.0, 0.0, 0.0, 0.0, 0.0, 0.0], [0.0, 1.0, 0.0, 0.0, 0.0, 0.0, 0.0, 0.0], [0.0, 1.0, 0.0, 0.0, 0.0, 0.0, 0.0, 0.0], [0.0, 1.0, 0.0, 0.0, 0.0, 0.0, 0.0, 0.0], [0.0, 0.0, 0.0, 0.0, 1.0, 0.0, 0.0, 0.0], [0.0, 0.0, 0.0, 0.0, 0.0, 1.0, 0.0, 0.0], [0.0, 0.0, 0.0, 0.0, 0.0, 1.0, 3.023018477626566e-35, 0.0], [0.0, 0.0, 0.0, 0.0, 0.0, 1.0, 6.402665661412319e-26, 0.0]], [[1.0, 0.0, 0.0, 0.0, 0.0, 0.0, 0.0, 0.0], [0.31315580010414124, 0.6868441700935364, 0.0, 0.0, 0.0, 0.0, 0.0, 0.0], [0.31578540802001953, 0.011760846711695194, 0.6724537014961243, 0.0, 0.0, 0.0, 0.0, 0.0], [0.40160834789276123, 0.005151915829628706, 0.07794369757175446, 0.5152960419654846, 0.0, 0.0, 0.0, 0.0], [0.42544811964035034, 0.004707967862486839, 0.051090508699417114, 0.15348151326179504, 0.3652719557285309, 0.0, 0.0, 0.0], [0.43328234553337097, 0.007426020223647356, 0.055265218019485474, 0.0620543509721756, 0.14537082612514496, 0.29660120606422424, 0.0, 0.0], [0.47264721989631653, 0.009583023376762867, 0.06695263832807541, 0.0687074139714241, 0.07377822697162628, 0.08100741356611252, 0.2273240089416504, 0.0], [0.3449081480503082, 0.013796275481581688, 0.05823880061507225, 0.09332268685102463, 0.04916948452591896, 0.032639384269714355, 0.08884558081626892, 0.31907960772514343]]], [[[1.0, 0.0, 0.0, 0.0, 0.0, 0.0, 0.0, 0.0], [0.9925340414047241, 0.007465919945389032, 0.0, 0.0, 0.0, 0.0, 0.0, 0.0], [0.9438528418540955, 0.049248240888118744, 0.006898933555930853, 0.0, 0.0, 0.0, 0.0, 0.0], [0.9129356741905212, 0.06138012930750847, 0.012881590984761715, 0.012802548706531525, 0.0, 0.0, 0.0, 0.0], [0.9824932813644409, 0.003159251296892762, 0.0030438615940511227, 0.003484707558527589, 0.00781880784779787, 0.0, 0.0, 0.0], [0.38225647807121277, 0.00033318373607471585, 0.010907383635640144, 0.1999835968017578, 0.3938804268836975, 0.012638832442462444, 0.0, 0.0], [0.4957408905029297, 0.0015448570484295487, 0.0007428014650940895, 0.281386137008667, 0.08908736705780029, 0.06571123749017715, 0.0657866969704628, 0.0], [0.7562954425811768, 0.006367218680679798, 0.003688866039738059, 0.009020513854920864, 0.04937279596924782, 0.0817592442035675, 0.0731469914317131, 0.020348893478512764]], [[1.0, 0.0, 0.0, 0.0, 0.0, 0.0, 0.0, 0.0], [0.9933788776397705, 0.0066211046651005745, 0.0, 0.0, 0.0, 0.0, 0.0, 0.0], [0.9237172603607178, 0.07194191962480545, 0.004340823274105787, 0.0, 0.0, 0.0, 0.0, 0.0], [0.9116879105567932, 0.02339426800608635, 0.03959384188055992, 0.025324011221528053, 0.0, 0.0, 0.0, 0.0], [0.6245944499969482, 0.02066783234477043, 0.041372332721948624, 0.2941748797893524, 0.019190458580851555, 0.0, 0.0, 0.0], [0.7424573302268982, 0.0010898245964199305, 0.005181383341550827, 0.05743135139346123, 0.13427995145320892, 0.05956006050109863, 0.0, 0.0], [0.536212682723999, 0.002063268795609474, 0.005606666672974825, 0.002919096266850829, 0.04183170199394226, 0.3855997323989868, 0.025766752660274506, 0.0], [0.7906786799430847, 0.005521468818187714, 0.0064881169237196445, 0.0017580834683030844, 0.006822335533797741, 0.07854263484477997, 0.09955497831106186, 0.010633794590830803]], [[1.0, 0.0, 0.0, 0.0, 0.0, 0.0, 0.0, 0.0], [0.9950142502784729, 0.004985733889043331, 0.0, 0.0, 0.0, 0.0, 0.0, 0.0], [0.968414843082428, 0.03038804419338703, 0.0011971464846283197, 0.0, 0.0, 0.0, 0.0, 0.0], [0.9435144662857056, 0.04686034098267555, 0.0027267485857009888, 0.006898495834320784, 0.0, 0.0, 0.0, 0.0], [0.5051921606063843, 0.0332537516951561, 0.01952768675982952, 0.4281145930290222, 0.013911849819123745, 0.0, 0.0, 0.0], [0.5827329158782959, 0.0033600563183426857, 0.03881167992949486, 0.35617172718048096, 0.015152920968830585, 0.0037707360461354256, 0.0, 0.0], [0.7385711073875427, 0.004330884665250778, 0.01365745160728693, 0.19773706793785095, 0.04157450795173645, 0.002811583224684, 0.0013172090984880924, 0.0], [0.7657648921012878, 0.01895167864859104, 0.01126040518283844, 0.0819249078631401, 0.045091208070516586, 0.04945547506213188, 0.014450562186539173, 0.013100949116051197]], [[1.0, 0.0, 0.0, 0.0, 0.0, 0.0, 0.0, 0.0], [0.9958117008209229, 0.004188315477222204, 0.0, 0.0, 0.0, 0.0, 0.0, 0.0], [0.9863730669021606, 0.010450072586536407, 0.0031767638865858316, 0.0, 0.0, 0.0, 0.0, 0.0], [0.81229567527771, 0.06690015643835068, 0.07207807898521423, 0.04872613027691841, 0.0, 0.0, 0.0, 0.0], [0.6674233078956604, 0.05165768787264824, 0.1961335986852646, 0.08075810223817825, 0.004027298651635647, 0.0, 0.0, 0.0], [0.2928240895271301, 0.005769429728388786, 0.08772432804107666, 0.5772979855537415, 0.03127378597855568, 0.005110353697091341, 0.0, 0.0], [0.5618669390678406, 0.012313145212829113, 0.012804915197193623, 0.13386081159114838, 0.14788725972175598, 0.08054178953170776, 0.050725072622299194, 0.0], [0.718855082988739, 0.0279677901417017, 0.003331379499286413, 0.014832944609224796, 0.02598356269299984, 0.09887798130512238, 0.10105567425489426, 0.009095589630305767]], [[1.0, 0.0, 0.0, 0.0, 0.0, 0.0, 0.0, 0.0], [0.9917705059051514, 0.008229498751461506, 0.0, 0.0, 0.0, 0.0, 0.0, 0.0], [0.9552366137504578, 0.03240841627120972, 0.012354949489235878, 0.0, 0.0, 0.0, 0.0, 0.0], [0.670482337474823, 0.02489667944610119, 0.2638304531574249, 0.04079053923487663, 0.0, 0.0, 0.0, 0.0], [0.8100218176841736, 0.0039072418585419655, 0.009050874970853329, 0.14533567428588867, 0.031684327870607376, 0.0, 0.0, 0.0], [0.5984808206558228, 0.0071801841259002686, 0.0054059624671936035, 0.038268979638814926, 0.3285527527332306, 0.022111261263489723, 0.0, 0.0], [0.7925899028778076, 0.007790687028318644, 0.006344677414745092, 0.0028846622444689274, 0.043698616325855255, 0.12896014750003815, 0.017731238156557083, 0.0], [0.7375054955482483, 0.007302801590412855, 0.005234701558947563, 0.0006601477507501841, 0.00557309715077281, 0.049880001693964005, 0.18246246874332428, 0.011381278745830059]], [[1.0, 0.0, 0.0, 0.0, 0.0, 0.0, 0.0, 0.0], [0.959634006023407, 0.040365952998399734, 0.0, 0.0, 0.0, 0.0, 0.0, 0.0], [0.9015865921974182, 0.08562343567609787, 0.01278993021696806, 0.0, 0.0, 0.0, 0.0, 0.0], [0.9145070910453796, 0.015868496149778366, 0.0662592351436615, 0.0033651271369308233, 0.0, 0.0, 0.0, 0.0], [0.6902948617935181, 0.1290857046842575, 0.1648252308368683, 0.010637261904776096, 0.005157007835805416, 0.0, 0.0, 0.0], [0.7724131345748901, 0.0337272509932518, 0.03201369568705559, 0.11065380275249481, 0.002436456037685275, 0.04875567927956581, 0.0, 0.0], [0.712204098701477, 0.004483533091843128, 0.040607091039419174, 0.10067781060934067, 0.0021667226683348417, 0.1296015828847885, 0.010259181261062622, 0.0], [0.8843401074409485, 0.015042872168123722, 0.048735737800598145, 0.007621161639690399, 0.006275765132158995, 0.02065144293010235, 0.00551548320800066, 0.011817453429102898]], [[1.0, 0.0, 0.0, 0.0, 0.0, 0.0, 0.0, 0.0], [0.9942194223403931, 0.005780586041510105, 0.0, 0.0, 0.0, 0.0, 0.0, 0.0], [0.9302158355712891, 0.04341861233115196, 0.02636561542749405, 0.0, 0.0, 0.0, 0.0, 0.0], [0.9603214859962463, 0.0008270363905467093, 0.008675508201122284, 0.030176077038049698, 0.0, 0.0, 0.0, 0.0], [0.4440273344516754, 0.014009686186909676, 0.02224244363605976, 0.5114194750785828, 0.008300979621708393, 0.0, 0.0, 0.0], [0.5001918077468872, 0.03368056192994118, 0.02387172169983387, 0.40720996260643005, 0.007519983220845461, 0.027525966987013817, 0.0, 0.0], [0.7966787815093994, 0.09459242969751358, 0.0035421436186879873, 0.046641264110803604, 0.0015977504663169384, 0.04638640955090523, 0.010561276227235794, 0.0], [0.8951393961906433, 0.012586679309606552, 0.004702612292021513, 0.014773991890251637, 0.001825117040425539, 0.017279885709285736, 0.025319118052721024, 0.028373191133141518]], [[1.0, 0.0, 0.0, 0.0, 0.0, 0.0, 0.0, 0.0], [0.9962899684906006, 0.003710043616592884, 0.0, 0.0, 0.0, 0.0, 0.0, 0.0], [0.9550417065620422, 0.006128603592514992, 0.03882965072989464, 0.0, 0.0, 0.0, 0.0, 0.0], [0.8310548067092896, 0.019861606881022453, 0.14717720448970795, 0.0019063486251980066, 0.0, 0.0, 0.0, 0.0], [0.5567519068717957, 0.03595517575740814, 0.4036800265312195, 0.002326369285583496, 0.0012864976888522506, 0.0, 0.0, 0.0], [0.5951518416404724, 0.03606075793504715, 0.14766815304756165, 0.05087588354945183, 0.13110938668251038, 0.03913396969437599, 0.0, 0.0], [0.3680802881717682, 0.004199481103569269, 0.043001674115657806, 0.014530119486153126, 0.26488566398620605, 0.2919972836971283, 0.013305477797985077, 0.0], [0.7016053199768066, 0.0059455097652971745, 0.022484734654426575, 0.005234438925981522, 0.06144722178578377, 0.08664656430482864, 0.0884471982717514, 0.02818898670375347]]], [[[1.0, 0.0, 0.0, 0.0, 0.0, 0.0, 0.0, 0.0], [0.9892802834510803, 0.010719723999500275, 0.0, 0.0, 0.0, 0.0, 0.0, 0.0], [0.30164650082588196, 0.6479396224021912, 0.05041389539837837, 0.0, 0.0, 0.0, 0.0, 0.0], [0.1095491498708725, 0.0006935088313184679, 0.8800163269042969, 0.009740901179611683, 0.0, 0.0, 0.0, 0.0], [0.030250191688537598, 0.011594301089644432, 0.003978311084210873, 0.9366228580474854, 0.01755439303815365, 0.0, 0.0, 0.0], [0.2556639015674591, 0.04902644455432892, 0.014173563569784164, 0.013148248195648193, 0.6563393473625183, 0.011648574844002724, 0.0, 0.0], [0.012211297638714314, 0.002584409434348345, 0.0001579755189595744, 0.00017461366951465607, 0.002188328420743346, 0.9432754516601562, 0.03940789774060249, 0.0], [0.06228712201118469, 0.04089570418000221, 0.01529034785926342, 0.0006447048508562148, 0.008846965618431568, 0.06594815105199814, 0.6975125074386597, 0.10857446491718292]], [[1.0, 0.0, 0.0, 0.0, 0.0, 0.0, 0.0, 0.0], [0.9688528776168823, 0.031147126108407974, 0.0, 0.0, 0.0, 0.0, 0.0, 0.0], [0.78211909532547, 0.20244072377681732, 0.0154402581974864, 0.0, 0.0, 0.0, 0.0, 0.0], [0.328712522983551, 0.6275190114974976, 0.005712693557143211, 0.03805578872561455, 0.0, 0.0, 0.0, 0.0], [0.5291469097137451, 0.13547174632549286, 0.05200745537877083, 0.24783019721508026, 0.03554370999336243, 0.0, 0.0, 0.0], [0.29298797249794006, 0.015982048586010933, 0.006242890376597643, 0.07853858172893524, 0.5968625545501709, 0.009386016987264156, 0.0, 0.0], [0.20692358911037445, 0.003083550138399005, 0.03752032294869423, 0.2027110606431961, 0.09917664527893066, 0.008925867266952991, 0.44165900349617004, 0.0], [0.02372431568801403, 0.0008827600395306945, 0.000252595724305138, 0.005334961693733931, 0.26690834760665894, 0.027847500517964363, 0.6720708012580872, 0.0029787258245050907]], [[1.0, 0.0, 0.0, 0.0, 0.0, 0.0, 0.0, 0.0], [0.7831052541732788, 0.21689467132091522, 0.0, 0.0, 0.0, 0.0, 0.0, 0.0], [0.5557984113693237, 0.25212037563323975, 0.19208112359046936, 0.0, 0.0, 0.0, 0.0, 0.0], [0.4751052260398865, 0.3516062796115875, 0.17214801907539368, 0.001140393316745758, 0.0, 0.0, 0.0, 0.0], [0.4738202691078186, 0.02964419685304165, 0.18677371740341187, 0.2852911055088043, 0.024470673874020576, 0.0, 0.0, 0.0], [0.37899526953697205, 0.005077532958239317, 0.0020358641631901264, 0.03436730429530144, 0.5635936260223389, 0.015930449590086937, 0.0, 0.0], [0.6322338581085205, 0.003537406912073493, 0.00012790414621122181, 0.00681457482278347, 0.3087661862373352, 0.047575097531080246, 0.0009449917706660926, 0.0], [0.09218136966228485, 0.01085731666535139, 0.0011022237595170736, 0.020226774737238884, 0.0126341562718153, 0.1911761611700058, 0.6714580059051514, 0.0003640189243014902]], [[1.0, 0.0, 0.0, 0.0, 0.0, 0.0, 0.0, 0.0], [0.5396891236305237, 0.46031084656715393, 0.0, 0.0, 0.0, 0.0, 0.0, 0.0], [0.5980775356292725, 0.13349521160125732, 0.2684272527694702, 0.0, 0.0, 0.0, 0.0, 0.0], [0.09177216142416, 0.015363314189016819, 0.8905492424964905, 0.0023153198417276144, 0.0, 0.0, 0.0, 0.0], [0.09023510664701462, 0.0007663407013751566, 0.03179578483104706, 0.8613736033439636, 0.01582925021648407, 0.0, 0.0, 0.0], [0.14720067381858826, 8.971868373919278e-05, 0.04897584393620491, 0.007804505061358213, 0.7360441088676453, 0.0598851777613163, 0.0, 0.0], [0.011444684118032455, 0.0006968713132664561, 2.914619653893169e-05, 0.00030073962989263237, 0.002061439212411642, 0.07695285975933075, 0.9085142016410828, 0.0], [0.0005338832852430642, 8.431283276877366e-06, 0.0001235382369486615, 4.025124326290097e-06, 3.1074621801963076e-05, 0.003328432561829686, 0.8967633843421936, 0.09920729696750641]], [[1.0, 0.0, 0.0, 0.0, 0.0, 0.0, 0.0, 0.0], [0.9990838766098022, 0.000916074903216213, 0.0, 0.0, 0.0, 0.0, 0.0, 0.0], [0.9275023937225342, 0.034331128001213074, 0.038166508078575134, 0.0, 0.0, 0.0, 0.0, 0.0], [0.7549185156822205, 0.18288347125053406, 0.047899309545755386, 0.014298714697360992, 0.0, 0.0, 0.0, 0.0], [0.4730452597141266, 0.09229151159524918, 0.09656830132007599, 0.32971709966659546, 0.008377841673791409, 0.0, 0.0, 0.0], [0.05762890353798866, 0.00010571356688160449, 0.16481398046016693, 0.7602958083152771, 0.015869664028286934, 0.0012859010603278875, 0.0, 0.0], [0.0772821381688118, 0.0015801341505721211, 0.010677050799131393, 0.0034087421372532845, 0.7507674098014832, 0.14697426557540894, 0.009310211054980755, 0.0], [0.0022188264410942793, 0.0006049997755326331, 0.001011960906907916, 0.00046269723679870367, 0.08077358454465866, 0.6441980004310608, 0.2704639136791229, 0.00026602085563354194]], [[1.0, 0.0, 0.0, 0.0, 0.0, 0.0, 0.0, 0.0], [0.7726597189903259, 0.22734032571315765, 0.0, 0.0, 0.0, 0.0, 0.0, 0.0], [0.8068283200263977, 0.04568597674369812, 0.1474856585264206, 0.0, 0.0, 0.0, 0.0, 0.0], [0.11925516277551651, 0.0037864907644689083, 0.8763779997825623, 0.0005803884123452008, 0.0, 0.0, 0.0, 0.0], [0.42215538024902344, 0.021348286420106888, 0.5304844379425049, 0.02293604612350464, 0.0030757777858525515, 0.0, 0.0, 0.0], [0.5326846241950989, 0.04261557012796402, 0.2118591070175171, 0.08780873566865921, 0.12199819833040237, 0.003033702727407217, 0.0, 0.0], [0.26691189408302307, 0.0010878723114728928, 0.06474192440509796, 0.14514145255088806, 0.08043140918016434, 0.4109424352645874, 0.030743049457669258, 0.0], [0.612298846244812, 0.06941544264554977, 0.02507081814110279, 0.0036892711650580168, 0.0012475935509428382, 0.0033724596723914146, 0.06784225255250931, 0.21706338226795197]], [[1.0, 0.0, 0.0, 0.0, 0.0, 0.0, 0.0, 0.0], [0.994204580783844, 0.0057954671792685986, 0.0, 0.0, 0.0, 0.0, 0.0, 0.0], [0.9852854609489441, 0.0015436233952641487, 0.013170914724469185, 0.0, 0.0, 0.0, 0.0, 0.0], [0.27268949151039124, 0.015068805776536465, 0.7087670564651489, 0.0034746399614959955, 0.0, 0.0, 0.0, 0.0], [0.554250955581665, 0.06328272074460983, 0.3638836443424225, 0.014391559176146984, 0.004191163461655378, 0.0, 0.0, 0.0], [0.5276049971580505, 0.017602890729904175, 0.12650920450687408, 0.0021492638625204563, 0.16436675190925598, 0.16176681220531464, 0.0, 0.0], [0.27736788988113403, 0.0018691731384024024, 0.035469356924295425, 0.001225322368554771, 0.0607706643640995, 0.009226026944816113, 0.6140715479850769, 0.0], [0.026277126744389534, 0.0004204515425954014, 0.010424706153571606, 2.8839656806667335e-05, 0.000662557256873697, 0.00937348511070013, 0.7445379495620728, 0.2082749456167221]], [[1.0, 0.0, 0.0, 0.0, 0.0, 0.0, 0.0, 0.0], [0.9891465902328491, 0.010853460058569908, 0.0, 0.0, 0.0, 0.0, 0.0, 0.0], [0.6437697410583496, 0.006057451944798231, 0.35017281770706177, 0.0, 0.0, 0.0, 0.0, 0.0], [0.08398483693599701, 0.0256227757781744, 0.8883921504020691, 0.002000190317630768, 0.0, 0.0, 0.0, 0.0], [0.36387237906455994, 0.0021839148830622435, 0.6058275699615479, 0.018219253048300743, 0.009897024370729923, 0.0, 0.0, 0.0], [0.7160477042198181, 0.0019690333865582943, 0.14005537331104279, 0.09681061655282974, 0.005746492184698582, 0.03937068209052086, 0.0, 0.0], [0.024168744683265686, 0.00020133661746513098, 0.10507325828075409, 0.0005788806010968983, 0.000751282786950469, 0.8418411612510681, 0.027385346591472626, 0.0], [0.07566327601671219, 0.0014250976964831352, 0.8754017949104309, 0.005718855187296867, 0.0013448683312162757, 0.01771392859518528, 0.009142361581325531, 0.013589899986982346]]], [[[1.0, 0.0, 0.0, 0.0, 0.0, 0.0, 0.0, 0.0], [0.8818316459655762, 0.11816836148500443, 0.0, 0.0, 0.0, 0.0, 0.0, 0.0], [0.013100570067763329, 0.9867021441459656, 0.0001972432219190523, 0.0, 0.0, 0.0, 0.0, 0.0], [0.9180817008018494, 0.017675694078207016, 0.043424736708402634, 0.020817873999476433, 0.0, 0.0, 0.0, 0.0], [0.14843198657035828, 0.0014647649368271232, 0.19868159294128418, 0.6470096111297607, 0.0044120620004832745, 0.0, 0.0, 0.0], [0.05087830126285553, 0.003370753489434719, 0.001879884977824986, 0.16589291393756866, 0.7636969089508057, 0.014281230047345161, 0.0, 0.0], [0.039746273308992386, 0.0007665865705348551, 0.0016381435561925173, 0.04599469527602196, 0.9111523628234863, 0.00016474119911435992, 0.0005371378501877189, 0.0], [0.739149808883667, 0.009047969244420528, 0.0023167349863797426, 0.02211753837764263, 0.04893636330962181, 0.019393956288695335, 0.058594826608896255, 0.1004428118467331]], [[1.0, 0.0, 0.0, 0.0, 0.0, 0.0, 0.0, 0.0], [0.8272583484649658, 0.17274169623851776, 0.0, 0.0, 0.0, 0.0, 0.0, 0.0], [0.7546809911727905, 0.24283456802368164, 0.0024844964500516653, 0.0, 0.0, 0.0, 0.0, 0.0], [0.8427939414978027, 0.05337890237569809, 0.09853124618530273, 0.005295946262776852, 0.0, 0.0, 0.0, 0.0], [0.23626968264579773, 0.4313364028930664, 0.18492388725280762, 0.0042739929631352425, 0.14319603145122528, 0.0, 0.0, 0.0], [0.10432624816894531, 0.007184556219726801, 0.286166250705719, 0.19521383941173553, 0.39408501982688904, 0.013024079613387585, 0.0, 0.0], [0.04429050162434578, 0.0055689685977995396, 0.12061186134815216, 0.02750316448509693, 0.6660147905349731, 0.01277645118534565, 0.12323428690433502, 0.0], [0.3534969389438629, 0.02369477041065693, 0.0005906331934966147, 0.05639388784766197, 0.3342531621456146, 0.12446831911802292, 0.011268297210335732, 0.09583409130573273]], [[1.0, 0.0, 0.0, 0.0, 0.0, 0.0, 0.0, 0.0], [0.9274395108222961, 0.07256048917770386, 0.0, 0.0, 0.0, 0.0, 0.0, 0.0], [0.6237738728523254, 0.36111509799957275, 0.015110976994037628, 0.0, 0.0, 0.0, 0.0, 0.0], [0.8735990524291992, 0.050089363008737564, 0.07161741703748703, 0.004694212228059769, 0.0, 0.0, 0.0, 0.0], [0.04232596233487129, 9.177710307994857e-05, 0.946806788444519, 0.00977962464094162, 0.000995889538899064, 0.0, 0.0, 0.0], [0.5194441676139832, 0.010706953704357147, 0.15071627497673035, 0.0711640864610672, 0.012589732185006142, 0.23537880182266235, 0.0, 0.0], [0.01935468055307865, 0.0020583143923431635, 0.00039848737651482224, 0.0033059478737413883, 0.0038679507561028004, 0.9628481268882751, 0.008166478946805, 0.0], [0.5130122303962708, 0.0083594536408782, 0.04167652502655983, 0.012273537926375866, 0.0029226343613117933, 0.27562415599823, 0.01663193851709366, 0.12949945032596588]], [[1.0, 0.0, 0.0, 0.0, 0.0, 0.0, 0.0, 0.0], [0.9934444427490234, 0.0065555265173316, 0.0, 0.0, 0.0, 0.0, 0.0, 0.0], [0.706883430480957, 0.11745188385248184, 0.17566470801830292, 0.0, 0.0, 0.0, 0.0, 0.0], [0.25726139545440674, 0.3914088308811188, 0.32947754859924316, 0.02185223437845707, 0.0, 0.0, 0.0, 0.0], [0.20533134043216705, 0.21227146685123444, 0.5022372603416443, 0.04952502250671387, 0.030634939670562744, 0.0, 0.0, 0.0], [0.05223727971315384, 0.03584021329879761, 0.15422971546649933, 0.036535486578941345, 0.04105581343173981, 0.6801015138626099, 0.0, 0.0], [0.016706977039575577, 0.0015481117879971862, 0.008324163034558296, 0.0002480811963323504, 0.001341668190434575, 0.9686247706413269, 0.0032062726095318794, 0.0], [0.38948842883110046, 0.010188027285039425, 0.20232278108596802, 0.01331623736768961, 0.15286211669445038, 0.13491219282150269, 0.07088153809309006, 0.026028627529740334]], [[1.0, 0.0, 0.0, 0.0, 0.0, 0.0, 0.0, 0.0], [0.9806705713272095, 0.01932939700782299, 0.0, 0.0, 0.0, 0.0, 0.0, 0.0], [0.828686535358429, 0.07299662381410599, 0.09831691533327103, 0.0, 0.0, 0.0, 0.0, 0.0], [0.12880054116249084, 0.022084396332502365, 0.8021527528762817, 0.04696226865053177, 0.0, 0.0, 0.0, 0.0], [0.2249060720205307, 0.41497373580932617, 0.22858324646949768, 0.126234233379364, 0.00530271977186203, 0.0, 0.0, 0.0], [0.3184986710548401, 0.022832153365015984, 0.26320987939834595, 0.08869591355323792, 0.10775955766439438, 0.19900383055210114, 0.0, 0.0], [0.02502172440290451, 0.004057659767568111, 0.005849204491823912, 0.003426403971388936, 0.04779203236103058, 0.8899871706962585, 0.023865777999162674, 0.0], [0.22395990788936615, 0.20496582984924316, 0.049734871834516525, 0.1489284634590149, 0.21377314627170563, 0.08807791769504547, 0.03899184241890907, 0.03156808763742447]], [[1.0, 0.0, 0.0, 0.0, 0.0, 0.0, 0.0, 0.0], [0.9583103656768799, 0.0416896715760231, 0.0, 0.0, 0.0, 0.0, 0.0, 0.0], [0.5195457935333252, 0.46232739090919495, 0.01812676712870598, 0.0, 0.0, 0.0, 0.0, 0.0], [0.12340303510427475, 0.11865293979644775, 0.04478117451071739, 0.7131628394126892, 0.0, 0.0, 0.0, 0.0], [0.01473979838192463, 0.0011618941789492965, 0.08083327859640121, 0.875813901424408, 0.02745114639401436, 0.0, 0.0, 0.0], [0.12528371810913086, 0.007969613187015057, 0.005363358184695244, 0.4898921847343445, 0.36892858147621155, 0.0025625794660300016, 0.0, 0.0], [0.03189248964190483, 0.002160806907340884, 0.04507650434970856, 0.5070335865020752, 0.07896691560745239, 0.28885042667388916, 0.04601912945508957, 0.0], [0.49114716053009033, 0.04495508596301079, 0.0282927043735981, 0.02201668545603752, 0.012357426807284355, 0.30364981293678284, 0.07781918346881866, 0.019761858507990837]], [[1.0, 0.0, 0.0, 0.0, 0.0, 0.0, 0.0, 0.0], [0.8277081251144409, 0.17229187488555908, 0.0, 0.0, 0.0, 0.0, 0.0, 0.0], [0.8934963345527649, 0.03053751215338707, 0.07596616446971893, 0.0, 0.0, 0.0, 0.0, 0.0], [0.39724409580230713, 0.021469581872224808, 0.5432333946228027, 0.03805297240614891, 0.0, 0.0, 0.0, 0.0], [0.17916004359722137, 0.37263354659080505, 0.07040046900510788, 0.22032524645328522, 0.15748059749603271, 0.0, 0.0, 0.0], [0.10993529856204987, 0.007008686196058989, 0.34388044476509094, 0.14878499507904053, 0.3827342987060547, 0.007656280416995287, 0.0, 0.0], [0.004703792277723551, 0.0009138330351561308, 0.0025175209157168865, 0.043799616396427155, 0.013071691617369652, 0.003881581826135516, 0.9311120510101318, 0.0], [0.13918066024780273, 0.00025889030075632036, 0.004870750475674868, 0.10512290894985199, 0.0029104556888341904, 0.0023291283287107944, 0.10004033893346786, 0.6452868580818176]], [[1.0, 0.0, 0.0, 0.0, 0.0, 0.0, 0.0, 0.0], [0.9773470759391785, 0.022652940824627876, 0.0, 0.0, 0.0, 0.0, 0.0, 0.0], [0.7418619394302368, 0.18094076216220856, 0.07719730585813522, 0.0, 0.0, 0.0, 0.0, 0.0], [0.033800769597291946, 0.006253779400140047, 0.9596149921417236, 0.00033046730095520616, 0.0, 0.0, 0.0, 0.0], [0.20509421825408936, 0.19735100865364075, 0.36151957511901855, 0.005614050198346376, 0.23042112588882446, 0.0, 0.0, 0.0], [0.061397965997457504, 0.10671523213386536, 0.05265360698103905, 0.0002276891900692135, 0.5226184725761414, 0.25638702511787415, 0.0, 0.0], [0.04804930463433266, 0.020806042477488518, 0.2706914246082306, 0.00017822142399381846, 0.580023467540741, 0.05750236287713051, 0.022749152034521103, 0.0], [0.11973903328180313, 0.0002405643608653918, 0.03256601095199585, 0.0031827474012970924, 0.7745680212974548, 0.046570755541324615, 0.019490031525492668, 0.003642876399680972]]]], \"left_text\": [\"Q\", \"Y\", \"S\", \"V\", \"L\", \"I\", \"F\", \"<eos>\"], \"right_text\": [\"Q\", \"Y\", \"S\", \"V\", \"L\", \"I\", \"F\", \"<eos>\"]}, {\"name\": \"Cross\", \"attn\": [[[[0.9942237734794617, 0.0054429760202765465, 7.035928865661845e-05, 4.435313167050481e-05, 1.2882705050287768e-05, 4.533458559308201e-05, 6.774735084036365e-05, 9.243898239219561e-05, 0.0], [0.008393458090722561, 0.9894208908081055, 0.0016692002536728978, 9.142259841610212e-06, 3.5682503494172124e-06, 5.5297723520197906e-06, 5.942282223259099e-05, 0.0004387483058962971, 0.0], [3.4707012673607096e-05, 0.017462238669395447, 0.9603572487831116, 0.020074844360351562, 1.0818483133334666e-05, 3.932965739750216e-07, 4.0776268406261806e-07, 0.002059416612610221, 0.0], [3.443529567448422e-05, 3.135976294288412e-05, 0.030443497002124786, 0.5634071826934814, 0.39667949080467224, 1.0901104360527825e-05, 1.125477027130728e-07, 0.009393061511218548, 0.0], [1.591765339981066e-06, 1.2799046089639887e-07, 2.8070362532162108e-06, 0.020575905218720436, 0.907551646232605, 0.07183542847633362, 6.546124495798722e-07, 3.186741378158331e-05, 0.0], [5.573531780100893e-06, 4.5167137585622186e-08, 6.880856440183436e-10, 5.876218551748025e-07, 0.0001591258478583768, 0.9970813393592834, 0.0026232702657580376, 0.00013006287917960435, 0.0], [3.299949457868934e-05, 3.3066453397623263e-06, 2.6364455063543346e-10, 1.7460723622172991e-12, 3.5468525338977486e-10, 0.0008811348816379905, 0.9943986535072327, 0.004683947190642357, 0.0], [1.922396222653333e-05, 0.0008240705356001854, 6.031012134144476e-08, 6.475726205268373e-12, 2.8167992569515243e-14, 2.7231097932123305e-10, 0.010695691220462322, 0.988460898399353, 0.0]], [[0.01734287478029728, 0.12547658383846283, 0.006581353023648262, 6.843497249064967e-05, 0.817101240158081, 0.024299263954162598, 0.00040671881288290024, 0.008723587729036808, 0.0], [0.02650091052055359, 0.2707943618297577, 0.6638835668563843, 0.0024990651290863752, 0.0021674344316124916, 0.010808113031089306, 0.0022411923855543137, 0.02110544964671135, 0.0], [0.039031725376844406, 0.39720508456230164, 0.4778381884098053, 0.0013764940667897463, 0.013789485208690166, 0.010522211901843548, 0.0019776264671236277, 0.05825914442539215, 0.0], [0.0034689183812588453, 0.003400427056476474, 0.846335232257843, 0.0045281401835381985, 0.06008516252040863, 0.02265038900077343, 0.005313567817211151, 0.054218217730522156, 0.0], [0.0062578883953392506, 0.004355236887931824, 0.02795826643705368, 0.03666766360402107, 0.7633800506591797, 0.046390146017074585, 0.003297232324257493, 0.11169341206550598, 0.0], [0.0009002566221170127, 0.000895257864613086, 0.004339669365435839, 9.015414252644405e-05, 0.9150159358978271, 0.04380720853805542, 0.008455781266093254, 0.026495780795812607, 0.0], [0.002714630449190736, 0.00020545523148030043, 0.00022681348491460085, 0.00033327945857308805, 0.8017846941947937, 0.07978826761245728, 0.06633878499269485, 0.048608142882585526, 0.0], [0.0034664066042751074, 0.01352139562368393, 0.009060995653271675, 0.0017179034184664488, 0.23414631187915802, 0.4086463153362274, 0.16565725207328796, 0.1637834757566452, 0.0]], [[0.14995938539505005, 0.14143891632556915, 0.000676328840199858, 0.000208633195143193, 0.08390258252620697, 0.0030914826784282923, 0.003453865647315979, 0.6172688007354736, 0.0], [0.5722790956497192, 0.07715749740600586, 0.0034543813671916723, 0.0017620316939428449, 0.023218845948576927, 0.001864384044893086, 0.005659595597535372, 0.31460413336753845, 0.0], [0.19234606623649597, 0.7451444268226624, 0.012743025086820126, 0.0038504665717482567, 0.00042103786836378276, 0.0031570978462696075, 0.007650384213775396, 0.034687433391809464, 0.0], [0.007503715809434652, 0.37872010469436646, 0.4561697542667389, 0.11561597138643265, 0.0009643036755733192, 0.0034950056578963995, 0.006037109065800905, 0.031494103372097015, 0.0], [0.001223713275976479, 0.603181004524231, 0.19408319890499115, 0.09390030801296234, 0.04354125261306763, 0.0007451640558429062, 0.002823387971147895, 0.060501981526613235, 0.0], [0.0004460587806534022, 0.00205022725276649, 0.0455506406724453, 0.2385970652103424, 0.6674513220787048, 0.0012025419855490327, 0.0036810734309256077, 0.04102097451686859, 0.0], [0.0006446763291023672, 0.00013232101628091186, 0.00019582109234761447, 0.018281487748026848, 0.8041113018989563, 0.1317669153213501, 0.03187974914908409, 0.012987782247364521, 0.0], [0.0010329129872843623, 0.00017526576993986964, 0.00014623893366660923, 0.0014053336344659328, 0.012575844302773476, 0.5167203545570374, 0.4547865688800812, 0.013157431967556477, 0.0]], [[0.0043885475024580956, 0.140689417719841, 0.12561719119548798, 0.2273242026567459, 0.4682104289531708, 0.0009561913320794702, 0.0015230124117806554, 0.03129097446799278, 0.0], [0.0007943891687318683, 0.005689246580004692, 0.01953379437327385, 0.33044981956481934, 0.5919407606124878, 0.001098734443075955, 0.00012246092956047505, 0.05037078633904457, 0.0], [0.004243409726768732, 0.002997836098074913, 0.0018213973380625248, 0.054536122828722, 0.7490350008010864, 0.07889808714389801, 0.003599154995754361, 0.10486889630556107, 0.0], [0.03427988290786743, 0.004288914147764444, 0.0011109631741419435, 0.0013663803692907095, 0.0363294817507267, 0.6161902546882629, 0.08185278624296188, 0.22458143532276154, 0.0], [0.09040750563144684, 0.01708425022661686, 0.008977762423455715, 0.0015854801749810576, 0.009205663576722145, 0.1524192988872528, 0.20795808732509613, 0.5123618841171265, 0.0], [0.005197267513722181, 0.04959340766072273, 0.04791399836540222, 0.0012554002460092306, 0.0028242762200534344, 0.014261731877923012, 0.20620845258235931, 0.6727454662322998, 0.0], [0.0009811740601435304, 0.028855571523308754, 0.08833519369363785, 0.029534678906202316, 0.002978378441184759, 0.0005658311420120299, 0.010724125429987907, 0.8380250334739685, 0.0], [0.0008060919935815036, 0.006312873680144548, 0.05248955264687538, 0.04339548572897911, 0.032533805817365646, 0.0009235410252586007, 0.001479536877013743, 0.8620590567588806, 0.0]], [[0.00048323863302357495, 0.79558926820755, 5.2622053772211075e-05, 8.755947055760771e-05, 0.1629532128572464, 0.0002917636011261493, 0.0337030403316021, 0.006839400622993708, 0.0], [0.011945059522986412, 0.6456836462020874, 0.2337782084941864, 0.030084820464253426, 0.014341557398438454, 0.00012747038272209466, 0.028578681871294975, 0.035460591316223145, 0.0], [0.005953589454293251, 0.44864344596862793, 0.1720438152551651, 0.09052657335996628, 0.1083763837814331, 0.0013115409528836608, 0.04306180030107498, 0.13008272647857666, 0.0], [0.0002915020158980042, 0.0026960275135934353, 0.01750253140926361, 0.03351934254169464, 0.7530529499053955, 0.002365842228755355, 0.029317514970898628, 0.16125431656837463, 0.0], [1.5063846149132587e-05, 0.0004682966391555965, 0.00015543855261057615, 0.0008267944795079529, 0.8840252161026001, 0.0009732955950312316, 0.08914471417665482, 0.0243911724537611, 0.0], [2.3383718144032173e-05, 0.0005982753355056047, 2.2120602807262912e-05, 0.00011199411528650671, 0.04864662140607834, 0.012830340303480625, 0.9081781506538391, 0.0295890960842371, 0.0], [5.877056537428871e-05, 0.0029540667310357094, 4.491508661885746e-05, 1.679992419667542e-05, 0.023327598348259926, 0.019342266023159027, 0.8753834366798401, 0.07887210696935654, 0.0], [0.00010063670197268948, 0.0027143422048538923, 9.347376180812716e-05, 2.586731716291979e-05, 0.00330998282879591, 0.0012646118411794305, 0.8709813952445984, 0.12150965631008148, 0.0]], [[0.037738069891929626, 0.03748279809951782, 0.03112304024398327, 0.7520806789398193, 0.07628581672906876, 0.005353787913918495, 0.0005960405105724931, 0.05933975428342819, 0.0], [0.03385035693645477, 0.13020385801792145, 0.2790958881378174, 0.26481345295906067, 0.23555544018745422, 0.00044652269571088254, 0.00040020805317908525, 0.05563434213399887, 0.0], [0.0033275692258030176, 0.01615176536142826, 0.052032992243766785, 0.567510724067688, 0.10779234766960144, 0.011439365334808826, 0.0067014433443546295, 0.23504377901554108, 0.0], [0.007332836277782917, 0.4028979539871216, 0.030859770253300667, 0.10973498970270157, 0.18369220197200775, 0.007737259846180677, 0.00738930469378829, 0.25035566091537476, 0.0], [0.0012917006388306618, 0.02743123099207878, 0.01712251454591751, 0.3389475643634796, 0.14375026524066925, 0.24605391919612885, 0.054161187261343, 0.17124156653881073, 0.0], [0.0011992144864052534, 7.970896695042029e-05, 0.0008213127148337662, 0.005379816982895136, 0.3583040237426758, 0.42725807428359985, 0.13541635870933533, 0.07154151052236557, 0.0], [0.0006443775491788983, 0.0003730918688233942, 0.007363417651504278, 0.004666088614612818, 0.008599127642810345, 0.4625249207019806, 0.2725777328014374, 0.2432512640953064, 0.0], [0.006568229757249355, 0.0004159352683927864, 0.002135275397449732, 0.004574236925691366, 0.02808312512934208, 0.0630401223897934, 0.49683189392089844, 0.39835119247436523, 0.0]], [[0.011167220771312714, 8.336173777934164e-05, 9.761512956174556e-06, 2.5043867935892195e-05, 5.4230138630373403e-05, 3.6082071801502025e-06, 2.671143192856107e-05, 0.9886300563812256, 0.0], [0.951503574848175, 0.027599796652793884, 0.0003333070199005306, 2.372666131122969e-05, 2.5238168746000156e-05, 0.00686733890324831, 0.010024935007095337, 0.0036221237387508154, 0.0], [0.00683793006464839, 0.9894207715988159, 0.003506503300741315, 5.5810564845160116e-06, 5.23849621458794e-07, 8.082557769739651e-07, 6.206572834344115e-06, 0.0002217860019300133, 0.0], [0.00014830045984126627, 0.11983270198106766, 0.7118616104125977, 0.13312627375125885, 0.0009381695417687297, 4.484538294491358e-06, 5.624729601549916e-05, 0.034032195806503296, 0.0], [4.5423911387842963e-07, 4.811701728613116e-05, 0.006181827746331692, 0.18817541003227234, 0.8021970987319946, 4.328925115260063e-06, 5.354151966230347e-08, 0.0033926109317690134, 0.0], [9.817928514621599e-08, 1.8430002413083457e-08, 2.066846889192675e-07, 0.0027344715781509876, 0.9969968795776367, 0.0001742878812365234, 1.5776305417602998e-06, 9.255918848793954e-05, 0.0], [7.43917280487949e-06, 2.0730055894091493e-07, 1.2204632859891262e-09, 1.8305563571630046e-06, 0.6912168860435486, 0.24309982359409332, 0.06509241461753845, 0.0005814238102175295, 0.0], [0.0002575214020907879, 8.298927241412457e-06, 3.7886269121933935e-10, 7.263083467989873e-10, 1.4680917047371622e-05, 0.0061233555898070335, 0.9922221302986145, 0.0013740193098783493, 0.0]], [[0.007857500575482845, 0.16611900925636292, 0.0037212788593024015, 0.39077186584472656, 0.004621764179319143, 0.008834750391542912, 0.33336585760116577, 0.08470793068408966, 0.0], [0.023881183937191963, 0.6744598150253296, 0.13516870141029358, 0.04613901674747467, 0.006012342870235443, 0.001883198507130146, 0.04239489883184433, 0.07006094604730606, 0.0], [0.01978195086121559, 0.22970031201839447, 0.29439568519592285, 0.26993170380592346, 0.006260276772081852, 0.003930558916181326, 0.010558422654867172, 0.16544109582901, 0.0], [0.002327350899577141, 0.014058375731110573, 0.033327315002679825, 0.3065134584903717, 0.027928439900279045, 0.035915620625019073, 0.02828708104789257, 0.5516423583030701, 0.0], [0.0002733347937464714, 0.00046753216884098947, 0.002952490234747529, 0.34913158416748047, 0.04651357978582382, 0.18585386872291565, 0.13062511384487152, 0.28418248891830444, 0.0], [0.00012928235810250044, 0.00023332223645411432, 0.00036295081372372806, 0.011107104830443859, 0.009445843286812305, 0.1135689988732338, 0.7113443613052368, 0.15380816161632538, 0.0], [3.6581841413863e-05, 3.775754521484487e-05, 1.1860143786179833e-05, 0.000415909948060289, 0.0004001575580332428, 0.010786803439259529, 0.9203729629516602, 0.06793802231550217, 0.0], [0.00040582945803180337, 0.002499717054888606, 0.0006950501701794565, 0.0005363185191527009, 0.0004920861683785915, 0.02107350528240204, 0.5903998613357544, 0.383897602558136, 0.0]]], [[[2.198546553699998e-06, 0.0001557814102852717, 0.9993057250976562, 0.0004529560683295131, 1.8055507098324597e-06, 8.649584742670413e-06, 4.849048451660565e-08, 7.292184454854578e-05, 0.0], [0.000286339083686471, 0.015536854043602943, 0.9036426544189453, 0.04704129695892334, 0.02224380522966385, 0.005845050327479839, 2.3379352569463663e-05, 0.005380585789680481, 0.0], [0.0005718792672269046, 0.0012865560129284859, 0.00929939839988947, 0.09321772307157516, 0.08262251317501068, 0.3004235625267029, 0.040642619132995605, 0.4719356894493103, 0.0], [0.0003565603110473603, 8.243834599852562e-05, 0.0011871422175318003, 3.71734713553451e-05, 0.016349544748663902, 0.6789891719818115, 0.02108093537390232, 0.2819169759750366, 0.0], [0.0015721656382083893, 0.0005368359852582216, 0.0044932374730706215, 1.923924901348073e-05, 0.00021005963208153844, 0.1644323468208313, 0.10728027671575546, 0.7214558124542236, 0.0], [0.0024313232861459255, 0.015657752752304077, 0.007405619136989117, 0.00010319556895410642, 3.0403600248973817e-05, 0.1368102878332138, 0.10146252065896988, 0.7360988855361938, 0.0], [0.000346485641784966, 0.007861579768359661, 0.0008327936520799994, 4.067030658916337e-06, 1.1970689229201525e-05, 0.016340870410203934, 0.009765902534127235, 0.9648362994194031, 0.0], [0.00020626701007131487, 0.0012334909988567233, 0.002402883255854249, 0.00046646010014228523, 0.005098176188766956, 0.030992962419986725, 0.0060766516253352165, 0.9535230994224548, 0.0]], [[1.1363184446413379e-20, 3.78922359982696e-37, 1.0789998175301091e-43, 5.465085534811199e-37, 2.2252577574524165e-39, 2.802596928649634e-45, 0.0, 1.0, 0.0], [1.0, 1.1362277221524386e-12, 5.7526140769286776e-27, 5.565310107414417e-30, 9.477094080842977e-24, 3.646076191345712e-15, 7.156027160341173e-18, 3.151142558287289e-17, 0.0], [5.1180941429418425e-11, 1.0, 2.6229642902109163e-09, 1.2085171882431017e-26, 1.1840360805225377e-32, 4.178818467271282e-27, 2.672709497618294e-16, 7.860531924968911e-17, 0.0], [1.2315716530130107e-28, 4.302532635724887e-11, 1.0, 4.0256509237224236e-08, 2.1301855077525535e-25, 1.7040284089925327e-34, 8.775620162221964e-31, 5.200987106061072e-17, 0.0], [6.176628046080136e-25, 8.234645036511332e-19, 1.3048131108917005e-07, 0.9999996423721313, 2.5519241830807005e-07, 1.4707973102243795e-19, 1.5474803962320686e-26, 1.5669091729415136e-13, 0.0], [7.282148565494309e-25, 5.424918252449156e-27, 3.349788736451101e-20, 6.851941236618586e-10, 0.9999994039535522, 6.501771849798388e-07, 1.1746195481643895e-17, 2.7701005551883373e-12, 0.0], [1.1129138183423732e-18, 1.4251673526401793e-24, 1.4404401698366093e-29, 6.820071533812992e-27, 1.1972087383960162e-11, 1.0, 2.066822490931486e-09, 4.5922091135167445e-14, 0.0], [7.0826417647440465e-12, 1.8350188176700227e-13, 1.4920819858874859e-24, 2.503336295994196e-32, 1.5519643974812903e-23, 1.525290893589215e-09, 1.0, 2.975661980274963e-13, 0.0]], [[5.404670461173211e-11, 1.4367012113325472e-07, 0.9999998807907104, 4.30730118239353e-08, 5.642068462210765e-16, 1.178277009960854e-18, 2.7977972586260003e-13, 1.813308678193999e-16, 0.0], [0.041235558688640594, 0.0014373447047546506, 0.03323647752404213, 0.7081244587898254, 0.13822698593139648, 0.0010381446918472648, 3.07760237774346e-05, 0.07667026668787003, 0.0], [0.05866041034460068, 0.024727020412683487, 0.012014842592179775, 0.013648449443280697, 0.659338653087616, 0.061107784509658813, 0.00011046182771679014, 0.17039239406585693, 0.0], [0.00036332698073238134, 0.002596708480268717, 0.0002688636595848948, 5.69868425372988e-05, 0.010537199676036835, 0.7518649697303772, 0.011233105324208736, 0.22307880222797394, 0.0], [0.003410171251744032, 0.002909198170527816, 0.0006732691545039415, 0.0002495491353329271, 0.00026314027491025627, 0.13988257944583893, 0.2162562757730484, 0.6363558173179626, 0.0], [0.00292275776155293, 0.001892710104584694, 0.0009037898271344602, 6.614213634748012e-05, 0.00019637620425783098, 0.012748956680297852, 0.014795615337789059, 0.9664736986160278, 0.0], [0.004104639869183302, 0.0018865062156692147, 0.0009722619433887303, 0.00024586240760982037, 9.691694867797196e-05, 0.0010907270479947329, 0.00015778260421939194, 0.9914453029632568, 0.0], [0.03744891658425331, 0.013630877248942852, 0.00337348785251379, 0.004143033642321825, 0.007261108607053757, 0.001584969344548881, 0.00032881926745176315, 0.9322288036346436, 0.0]], [[0.005324074067175388, 0.9893214702606201, 0.003571700071915984, 0.000282179971691221, 4.279776021576254e-06, 1.001117198029533e-05, 0.0003400716232135892, 0.0011460715904831886, 0.0], [8.118027471937239e-05, 0.0387376993894577, 0.9532591700553894, 0.0071536824107170105, 2.3010861696093343e-05, 7.882700714390012e-08, 3.6948611068510218e-06, 0.0007415027939714491, 0.0], [9.435413630853873e-06, 0.00011315463052596897, 0.02665131539106369, 0.9663771390914917, 0.005090953782200813, 6.710045909130713e-06, 5.972422201239169e-08, 0.0017512041376903653, 0.0], [8.554493433621246e-06, 1.0512051176192472e-06, 6.229562359294505e-07, 0.01203734427690506, 0.9639054536819458, 0.020959192886948586, 2.2547494609170826e-06, 0.0030854842625558376, 0.0], [9.120120375882834e-05, 0.00010766509512905031, 8.142197657434735e-06, 1.1148928933835123e-05, 0.008616293780505657, 0.908407986164093, 0.053366679698228836, 0.02939087711274624, 0.0], [2.7675650926539674e-05, 0.00025326089235022664, 1.1950067346333526e-05, 2.1153626050818275e-07, 2.5579223802196793e-05, 0.05012321472167969, 0.8440537452697754, 0.1055043563246727, 0.0], [3.035387180716498e-06, 0.000445127283455804, 0.00017975688388105482, 1.252420815944788e-06, 3.6554304188030073e-06, 1.5221405192278326e-05, 0.008951088413596153, 0.9904008507728577, 0.0], [6.046533599146642e-06, 0.0003579092735890299, 0.0033576320856809616, 0.002318119863048196, 4.084757165401243e-05, 1.109872414417623e-06, 4.493678716244176e-05, 0.9938734769821167, 0.0]], [[0.07913651317358017, 0.18200042843818665, 0.7115164995193481, 0.007847496308386326, 0.00011883587285410613, 0.00046119745820760727, 0.010912660509347916, 0.008006365969777107, 0.0], [0.0007238719845190644, 0.002549361437559128, 0.9551526308059692, 0.03989819809794426, 0.00012154912838013843, 1.535996671009343e-05, 0.00043465240742079914, 0.001104345778003335, 0.0], [0.0020186398178339005, 0.035375870764255524, 0.013032052665948868, 0.20768174529075623, 0.7127089500427246, 7.66617595218122e-05, 0.00014460398233495653, 0.028961550444364548, 0.0], [0.00016755542310420424, 9.030471119331196e-06, 0.000168259022757411, 0.015796035528182983, 0.8277527093887329, 0.0030801689717918634, 0.0164002925157547, 0.13662593066692352, 0.0], [0.0003627908881753683, 7.82975839683786e-05, 0.00036576707498170435, 0.0061694420874118805, 0.6213740110397339, 0.10038084536790848, 0.13769610226154327, 0.1335727721452713, 0.0], [0.0023959411773830652, 0.0004932906595058739, 9.926041821017861e-05, 0.0020922606345266104, 0.28547629714012146, 0.06802491098642349, 0.2401982694864273, 0.40121978521347046, 0.0], [0.0005555907846428454, 0.000748327118344605, 0.0020653423853218555, 0.000649237132165581, 0.013897872529923916, 0.005321401637047529, 0.2579456567764282, 0.7188165783882141, 0.0], [0.0018396517261862755, 0.01063894759863615, 0.007704947143793106, 0.0024620594922453165, 0.04020877182483673, 0.01652197726070881, 0.09613672643899918, 0.8244869709014893, 0.0]], [[0.030241696164011955, 0.7127370238304138, 0.003030825173482299, 0.1825309693813324, 0.02410528063774109, 4.706215622718446e-05, 4.266008181730285e-05, 0.047264404594898224, 0.0], [0.1623430699110031, 0.38117915391921997, 0.02127458155155182, 0.07272728532552719, 0.04440275952219963, 0.008889867924153805, 0.008865203708410263, 0.3003181219100952, 0.0], [0.005956081207841635, 0.009862354025244713, 0.13318659365177155, 0.03004634939134121, 0.5020563006401062, 0.0989997535943985, 0.03278905898332596, 0.18710342049598694, 0.0], [0.0059837899170815945, 0.9467135071754456, 0.0010754296090453863, 0.0036516652908176184, 0.003509112633764744, 0.0011400560615584254, 0.001224164734594524, 0.036702193319797516, 0.0], [0.03536941856145859, 0.1066044270992279, 0.19215795397758484, 0.02038155309855938, 0.039533115923404694, 0.3124222457408905, 0.010212155990302563, 0.2833192050457001, 0.0], [0.0029474617913365364, 0.005130082368850708, 0.2094460129737854, 0.02344461902976036, 0.014664312824606895, 0.5604850053787231, 0.042431753128767014, 0.1414506584405899, 0.0], [0.003908672835677862, 0.024184120818972588, 0.025620410218834877, 0.042927395552396774, 0.29310697317123413, 0.30192986130714417, 0.13413389027118683, 0.17418864369392395, 0.0], [0.00408909423276782, 0.006554063409566879, 0.01009261142462492, 0.012594204396009445, 0.04982056841254234, 0.5597888827323914, 0.18526287376880646, 0.17179764807224274, 0.0]], [[9.433616246244802e-27, 1.3211263101192711e-22, 1.0, 2.2638507279730546e-13, 1.8435724591799247e-31, 8.614481045622544e-33, 2.767171963132783e-23, 2.937769780039953e-25, 0.0], [1.6061015364887687e-12, 3.6866318916910223e-13, 1.6870715935368708e-09, 1.0, 4.938484288175005e-09, 6.609623186776774e-23, 1.130041561540398e-28, 3.745573406185861e-17, 0.0], [1.7142021135896357e-08, 1.0404629241511643e-10, 3.228282441716801e-13, 2.235772080894094e-05, 0.9999769926071167, 6.116595727689855e-07, 3.032374849243098e-19, 4.3205890254416346e-12, 0.0], [6.28160229994984e-13, 1.2629628855860726e-14, 1.2801500151128648e-19, 2.207062889392616e-19, 1.0961847607404707e-07, 0.9999661445617676, 3.378210385562852e-05, 3.277324939210402e-11, 0.0], [1.9174264953569775e-10, 1.3107749607943475e-10, 9.447479385989773e-15, 3.661627103213069e-20, 8.153811047845964e-15, 1.079567755368771e-05, 0.9996390342712402, 0.00035006547113880515, 0.0], [7.08105751812127e-09, 6.273328523320743e-08, 1.057599979814583e-10, 8.688450796218643e-19, 6.94780791238083e-20, 1.2720795011973707e-13, 4.0080845792545006e-05, 0.9999598264694214, 0.0], [3.034633209608728e-06, 1.2906405117973918e-06, 4.991120294839391e-10, 3.770118576053652e-14, 1.683622610028148e-19, 2.2283103482074903e-20, 5.622551764314842e-18, 0.9999957084655762, 0.0], [0.6388672590255737, 0.05297872796654701, 1.0867874152609147e-05, 8.633792276668828e-06, 6.1893490332920464e-09, 7.086131594696843e-12, 8.182492456942721e-17, 0.3081344962120056, 0.0]], [[0.8458365797996521, 0.011065257713198662, 0.004050227347761393, 0.005993987899273634, 0.0010388015070930123, 0.0008240656461566687, 0.003016981529071927, 0.12817412614822388, 0.0], [0.08667019009590149, 0.6693417429924011, 0.04151574522256851, 0.015266845934092999, 0.0014053693739697337, 0.00880101602524519, 0.0032967037986963987, 0.17370231449604034, 0.0], [0.02283669263124466, 0.8162437677383423, 0.05917692929506302, 0.0007659316179342568, 0.000785606331191957, 0.0002929088950622827, 0.022725911810994148, 0.07717221975326538, 0.0], [0.00029267813079059124, 0.3019638657569885, 0.23735001683235168, 0.030578501522541046, 0.12079434096813202, 5.387349665397778e-05, 0.00996658019721508, 0.29900020360946655, 0.0], [0.0007309620268642902, 0.016365572810173035, 0.1073123887181282, 0.7875643968582153, 0.02736865170300007, 0.008963244035840034, 0.0022583426907658577, 0.04943655803799629, 0.0], [0.0007737294654361904, 0.0014170052018016577, 0.013729611411690712, 0.5123659372329712, 0.036801040172576904, 0.2831575572490692, 0.007552944589406252, 0.14420214295387268, 0.0], [0.0019740022253245115, 0.0009468783973716199, 0.00043663056567311287, 0.0033716955222189426, 0.02883579209446907, 0.8764742612838745, 0.042484886944293976, 0.04547584056854248, 0.0], [0.0030217349994927645, 0.0046564810909330845, 0.00036701865610666573, 0.000277985556749627, 0.005222506821155548, 0.05044921487569809, 0.907507598400116, 0.02849746122956276, 0.0]]], [[[2.0323857370385667e-06, 2.8496246159193106e-05, 0.006367678288370371, 0.9896267652511597, 0.002940364880487323, 3.849954737233929e-06, 3.890916673299216e-07, 0.0010304262395948172, 0.0], [0.005808163434267044, 0.001929816440679133, 0.0010381662286818027, 0.03264019265770912, 0.9171988368034363, 0.02541988529264927, 5.759323903475888e-05, 0.015907227993011475, 0.0], [0.0006730430759489536, 0.0008753443253226578, 0.00029731192626059055, 0.0011234928388148546, 0.0019785594195127487, 0.6768373250961304, 0.04898658022284508, 0.26922836899757385, 0.0], [0.0004032964934594929, 3.188801656506257e-06, 0.0001440681517124176, 7.036383613012731e-05, 2.0502935512922704e-05, 0.010280276648700237, 0.6140223145484924, 0.37505608797073364, 0.0], [0.0005592556553892791, 1.1869446097989567e-05, 8.3002314568148e-06, 1.0972733434755355e-05, 0.0001238094555446878, 0.0001354682317469269, 0.04768320545554161, 0.9514670968055725, 0.0], [0.00022959803754929453, 6.836581451352686e-05, 0.0019380735466256738, 0.0006327654118649662, 4.443644866114482e-05, 0.0005031385226175189, 0.00539135467261076, 0.9911922812461853, 0.0], [0.0009630161803215742, 0.0004293151432648301, 0.0005788553971797228, 9.761498949956149e-05, 5.813631560158683e-06, 0.0001011048152577132, 0.0010430169058963656, 0.9967812299728394, 0.0], [0.0008446877473033965, 0.0016332130180671811, 0.0006799818947911263, 4.2851064790738747e-05, 0.00011038800585083663, 0.007253672927618027, 0.0009430301724933088, 0.9884922504425049, 0.0]], [[0.00011747934331651777, 0.014496293850243092, 0.9133173823356628, 0.05366542190313339, 0.00019380764570087194, 1.3219867469160818e-05, 0.0005248910747468472, 0.017671700567007065, 0.0], [0.0006620550411753356, 0.00011226896458538249, 0.004131819121539593, 0.9939557909965515, 0.00027032356592826545, 1.2366951523290481e-05, 8.000863999768626e-06, 0.0008474194910377264, 0.0], [0.0002952456707134843, 0.002518939785659313, 0.02603134885430336, 0.16227111220359802, 0.18477201461791992, 0.29195764660835266, 0.0040218583308160305, 0.3281318247318268, 0.0], [9.758941450854763e-05, 1.4931863006495405e-05, 0.0018365980358794332, 0.0013441042974591255, 0.020664473995566368, 0.3034959137439728, 0.05203733965754509, 0.6205090284347534, 0.0], [2.4212838980020024e-05, 4.198443639324978e-05, 0.0003548100357875228, 0.00012721598614007235, 0.0009089683298952878, 0.360532283782959, 0.3572152256965637, 0.28079527616500854, 0.0], [4.520405491348356e-05, 2.6771993361762725e-05, 0.0004702547157648951, 0.0001476950419601053, 0.0009782842826098204, 0.0965924859046936, 0.14185307919979095, 0.7598862648010254, 0.0], [4.375493881525472e-05, 0.00015276053454726934, 0.001530700596049428, 0.00026901077944785357, 0.00035483422107063234, 0.0003513636183924973, 0.006920139770954847, 0.9903774857521057, 0.0], [0.002394184935837984, 0.00034974110894836485, 0.0005002541001886129, 0.014741777442395687, 0.017026808112859726, 0.006851027719676495, 0.0005594472168013453, 0.9575767517089844, 0.0]], [[0.011423279531300068, 0.0002627447829581797, 0.006054676603525877, 0.9356169700622559, 0.018592853099107742, 0.022258006036281586, 2.3726002837065607e-05, 0.00576761644333601, 0.0], [0.010732139460742474, 0.00040124767110683024, 0.014573565684258938, 0.00585355656221509, 0.010277804918587208, 0.883339524269104, 0.043272435665130615, 0.03154986724257469, 0.0], [0.4670691192150116, 0.007364282384514809, 0.01965726912021637, 0.0011259918101131916, 0.0011211966630071402, 0.10511135309934616, 0.06094653531908989, 0.337604284286499, 0.0], [0.0005914297071285546, 0.003893786109983921, 0.007902532815933228, 0.013646177016198635, 0.00044725954649038613, 0.0023175524547696114, 0.03865205496549606, 0.9325491786003113, 0.0], [0.0019567215349525213, 0.0012783012352883816, 0.0006991669069975615, 0.0001541258825454861, 8.530842023901641e-05, 0.005415474530309439, 0.00661502918228507, 0.9837958812713623, 0.0], [0.00014159495185595006, 0.00626707449555397, 0.0006154911825433373, 1.0028369615611155e-05, 0.00010410381219116971, 0.008061453700065613, 0.012282688170671463, 0.9725176095962524, 0.0], [0.0004747029161080718, 0.004999886266887188, 0.004240009002387524, 0.0002736191963776946, 0.0005731041892431676, 0.0046182419173419476, 0.02412233129143715, 0.9606980681419373, 0.0], [0.002125260652974248, 0.007901309989392757, 0.07062464207410812, 0.00037303808494471014, 0.0037213307805359364, 0.10238371044397354, 0.010609129443764687, 0.8022616505622864, 0.0]], [[0.07443553954362869, 0.3873360753059387, 0.019676964730024338, 0.01671021804213524, 0.20828808844089508, 0.00024018072872422636, 0.18200670182704926, 0.11130620539188385, 0.0], [0.00021202854986768216, 0.803007960319519, 0.051204863935709, 0.00043811186333186924, 0.06867001205682755, 0.0017025797860696912, 0.007608452811837196, 0.06715589016675949, 0.0], [0.011376791633665562, 0.6824490427970886, 0.20543642342090607, 0.013001826591789722, 0.007190507370978594, 0.0023857925552874804, 0.008913877420127392, 0.06924563646316528, 0.0], [0.006016633938997984, 0.033087924122810364, 0.8101661801338196, 0.047595538198947906, 0.003069973085075617, 0.005126642528921366, 0.005029723513871431, 0.08990731090307236, 0.0], [0.0009992888662964106, 0.11828674376010895, 0.09254169464111328, 0.03345411270856857, 0.2503153681755066, 0.04396925866603851, 0.013239698484539986, 0.44719380140304565, 0.0], [0.006730559282004833, 0.019253429025411606, 0.007082509808242321, 0.0034237809013575315, 0.3603169322013855, 0.14044518768787384, 0.11056386679410934, 0.35218366980552673, 0.0], [0.001932725659571588, 0.00401858426630497, 0.00764235807582736, 0.0017317836172878742, 0.19616521894931793, 0.45303186774253845, 0.06356234103441238, 0.27191513776779175, 0.0], [0.0004942635423503816, 0.001290152664296329, 0.00027921912260353565, 0.01193612813949585, 0.0050151473842561245, 0.9430933594703674, 0.007778724655508995, 0.030113104730844498, 0.0]], [[0.007838593795895576, 0.012748491019010544, 0.0012045884504914284, 0.0733615905046463, 0.7748413681983948, 0.03777008131146431, 0.022295381873846054, 0.06993992626667023, 0.0], [0.044793374836444855, 0.09512245655059814, 0.09286820888519287, 0.14890147745609283, 0.019606543704867363, 0.08791890740394592, 0.22996965050697327, 0.2808193266391754, 0.0], [0.008689944632351398, 0.09070217609405518, 0.10229168832302094, 0.05085163190960884, 0.017715446650981903, 0.01583779603242874, 0.20065321028232574, 0.513258159160614, 0.0], [0.0245809406042099, 0.09793750196695328, 0.0217093825340271, 0.32636669278144836, 0.009297451935708523, 0.013938971795141697, 0.0173441581428051, 0.4888249635696411, 0.0], [0.09695497900247574, 0.012085596099495888, 0.005598457995802164, 0.25809940695762634, 0.1441739946603775, 0.0487944521009922, 0.07152476906776428, 0.36276835203170776, 0.0], [0.0009994328720495105, 0.0015695838956162333, 0.0017599238781258464, 0.06466025114059448, 0.022455373778939247, 0.07846131175756454, 0.05482163280248642, 0.7752724885940552, 0.0], [0.0011631351662799716, 0.0014314708532765508, 0.003082993673160672, 0.015958182513713837, 0.00274115358479321, 0.034831732511520386, 0.02320416085422039, 0.9175872206687927, 0.0], [0.0020506861619651318, 0.023989450186491013, 0.041761308908462524, 0.002803155919536948, 0.005892367102205753, 0.1200854629278183, 0.19802065193653107, 0.6053968667984009, 0.0]], [[0.14430809020996094, 0.13790415227413177, 0.2122969627380371, 0.4419301748275757, 0.0045307232066988945, 0.011677948758006096, 0.00027586345095187426, 0.0470760278403759, 0.0], [0.06711935997009277, 0.1114119365811348, 0.2664525508880615, 0.16534070670604706, 0.007552450057119131, 0.055337969213724136, 0.02210664376616478, 0.304678350687027, 0.0], [0.00015217794862110168, 0.008696082979440689, 0.08750880509614944, 0.5824168920516968, 0.11445536464452744, 0.00848470814526081, 0.0016038503963500261, 0.19668211042881012, 0.0], [0.008801238611340523, 0.001874048262834549, 0.007951807230710983, 0.3282667100429535, 0.14080892503261566, 0.007796484045684338, 0.0034799666609615088, 0.5010208487510681, 0.0], [0.0012345992727205157, 0.0009821339044719934, 0.05342288687825203, 0.027498722076416016, 0.02945554070174694, 0.06186212599277496, 0.0317278653383255, 0.7938161492347717, 0.0], [0.0018295617774128914, 0.008935176767408848, 0.01052806992083788, 0.0014105860609561205, 0.17607800662517548, 0.424378365278244, 0.024166040122509003, 0.3526741862297058, 0.0], [0.006010671146214008, 0.03654509410262108, 0.019101230427622795, 0.0005240535829216242, 0.052588511258363724, 0.05577889829874039, 0.08019945025444031, 0.7492520809173584, 0.0], [0.0002272245765198022, 0.005622636526823044, 0.0032812959980219603, 0.00016698356193955988, 0.06520337611436844, 0.01284510176628828, 0.6371167302131653, 0.27553656697273254, 0.0]], [[0.0034034771379083395, 0.07197874039411545, 0.0072906771674752235, 0.5989660024642944, 0.22414624691009521, 0.004103498067706823, 0.008199895732104778, 0.08191142231225967, 0.0], [0.015123465098440647, 0.11761016398668289, 0.05627267062664032, 0.037838421761989594, 0.5049026608467102, 0.014040450565516949, 0.13776281476020813, 0.11644937098026276, 0.0], [0.004544953815639019, 0.10616951435804367, 0.8311175107955933, 0.0035502153914421797, 0.0011039678938686848, 0.023041455075144768, 0.00018709454161580652, 0.030285250395536423, 0.0], [0.0006569360266439617, 0.02082185447216034, 0.6971856355667114, 0.18249057233333588, 0.0011296378215774894, 0.04908793047070503, 0.002096449490636587, 0.04653097316622734, 0.0], [0.00032500349334441125, 0.00026577210519462824, 0.23168344795703888, 0.45831048488616943, 0.006938080303370953, 0.07723287492990494, 0.005980808287858963, 0.21926353871822357, 0.0], [0.00034684306592680514, 0.024620825424790382, 0.0011141435243189335, 0.0048552812077105045, 0.01417325995862484, 0.04685365781188011, 0.09667909890413284, 0.8113568425178528, 0.0], [6.439710705308244e-05, 0.00037110038101673126, 0.001202041283249855, 0.006757598835974932, 0.008389264345169067, 0.36393290758132935, 0.32012584805488586, 0.2991568446159363, 0.0], [0.0022850707173347473, 0.00048765004612505436, 0.000921019702218473, 6.118592864368111e-05, 0.11667950451374054, 0.33676275610923767, 0.3720707893371582, 0.17073212563991547, 0.0]], [[1.0, 5.167519190329983e-12, 2.360301458289303e-19, 1.7812198733574324e-20, 2.015337232830921e-15, 4.880497395109984e-11, 2.2653655616959242e-14, 2.463003231206667e-17, 0.0], [4.0501633158385175e-09, 1.0, 8.347150748377885e-10, 5.7495471493988835e-18, 7.265704096550763e-16, 4.793273008138074e-18, 9.44897545793286e-16, 1.0597561890535179e-11, 0.0], [7.092779488737655e-12, 1.8322666051062697e-07, 0.9929296374320984, 0.007070181425660849, 1.1447831614955217e-12, 1.636899640898408e-14, 1.2469416861991871e-18, 7.260949111929926e-13, 0.0], [2.17372543241544e-17, 3.1760614983175406e-18, 1.1678610552581792e-12, 1.0, 3.5477060200163335e-13, 7.6940514667401185e-22, 3.385100089273354e-22, 7.161809876605955e-20, 0.0], [2.474782738078759e-19, 1.172520039692638e-18, 1.161098174698141e-19, 6.68431442466498e-14, 1.0, 5.8332626448891374e-15, 1.3441442615916616e-22, 1.8642259937987083e-20, 0.0], [1.7865859798482078e-16, 1.963340315418703e-17, 3.496192864296116e-15, 7.074951052601788e-18, 9.310124692669605e-14, 1.0, 2.4906931985618774e-12, 6.808704939914242e-14, 0.0], [7.258015369271398e-12, 5.030739280015295e-13, 1.5937243598736065e-15, 1.7279145169270087e-14, 1.1372441616891438e-12, 3.5412017762581627e-09, 0.9999786615371704, 2.13574730878463e-05, 0.0], [6.220595734482068e-14, 1.4392281947908405e-18, 1.1351845396415365e-17, 9.27738526521632e-24, 4.341697056751361e-22, 5.8726273238538236e-21, 4.4843898194812937e-07, 0.9999995231628418, 0.0]]], [[[0.4510110914707184, 0.2915627658367157, 0.07483506947755814, 0.014876510947942734, 0.02605193480849266, 0.016588183119893074, 0.001282591954804957, 0.12379175424575806, 0.0], [0.10806117951869965, 0.19468529522418976, 0.20558710396289825, 0.16525140404701233, 0.002321709180250764, 0.007844079285860062, 0.005696116480976343, 0.3105531334877014, 0.0], [0.3538966476917267, 0.0872587263584137, 0.05689086392521858, 0.06654951721429825, 0.040931928902864456, 0.0142580671235919, 0.002674124436452985, 0.37754005193710327, 0.0], [0.0024087545461952686, 0.0004986737621948123, 0.8990319967269897, 0.031190484762191772, 0.0002624480111990124, 0.009978003799915314, 0.02258113957941532, 0.03404852747917175, 0.0], [0.0035854403395205736, 0.020064914599061012, 0.0010864840587601066, 0.014184788800776005, 0.8632736802101135, 0.00010257905523758382, 0.0003159407351631671, 0.09738609939813614, 0.0], [0.0016091077122837305, 0.002401946345344186, 0.007171433884650469, 0.001456035883165896, 0.3002031445503235, 0.05482477694749832, 0.035977933555841446, 0.5963556170463562, 0.0], [0.005879444535821676, 0.0005920092226006091, 0.0020446134731173515, 0.0691922977566719, 0.3262634575366974, 0.011852883733808994, 0.313382089138031, 0.27079322934150696, 0.0], [0.0002702518831938505, 0.00025830738013610244, 0.0021094230469316244, 0.0035204575397074223, 0.0027430818881839514, 0.0031896948348730803, 0.012239565141499043, 0.975669264793396, 0.0]], [[0.722902774810791, 0.11120568960905075, 0.02578669600188732, 0.12228251993656158, 0.0001828582026064396, 0.008698691613972187, 0.0017558790277689695, 0.0071848612278699875, 0.0], [0.0008529348415322602, 0.7390732169151306, 0.24762935936450958, 0.0021827833261340857, 0.00013322372979018837, 7.210002513602376e-05, 7.631471089553088e-05, 0.009980147704482079, 0.0], [0.006870057433843613, 0.2039606273174286, 0.6524143218994141, 0.009436537511646748, 0.023643774911761284, 0.02339850552380085, 0.004053670447319746, 0.07622256875038147, 0.0], [0.011630892753601074, 8.315454033436254e-05, 0.007573171518743038, 0.19969092309474945, 0.08659934252500534, 0.11264071613550186, 0.10338016599416733, 0.47840163111686707, 0.0], [0.0008493654895573854, 0.00019081539358012378, 0.0006235711043700576, 0.6255812048912048, 0.24670471251010895, 0.009189091622829437, 0.009494737721979618, 0.10736648738384247, 0.0], [0.003358149668201804, 9.850256174104288e-05, 0.0014034280320629478, 0.06431379914283752, 0.007223387714475393, 0.18592174351215363, 0.3229738175868988, 0.4147071838378906, 0.0], [0.00011635853297775611, 1.630885890335776e-05, 0.0008976878598332405, 0.0030684471130371094, 0.0007296536350622773, 0.06262534111738205, 0.7276089787483215, 0.20493727922439575, 0.0], [0.00025709308101795614, 0.0004874967271462083, 0.013506445102393627, 0.018676089122891426, 0.006878367159515619, 0.020538462325930595, 0.162753626704216, 0.776902437210083, 0.0]], [[0.039041899144649506, 0.012947877869009972, 0.006162544712424278, 0.0027143980842083693, 0.016866281628608704, 0.04100394621491432, 0.03139448165893555, 0.8498685359954834, 0.0], [0.15577206015586853, 0.002736731432378292, 0.04665595665574074, 0.00587324658408761, 0.09931527078151703, 0.004983530379831791, 0.015251060016453266, 0.6694121360778809, 0.0], [0.7076337933540344, 0.012772927060723305, 0.02006346918642521, 0.034806862473487854, 0.003661802038550377, 0.002536485204473138, 0.002891184762120247, 0.21563346683979034, 0.0], [0.001792876748368144, 0.6992217302322388, 0.02913210541009903, 0.004453522618860006, 0.022000765427947044, 0.008538336493074894, 0.0004201231640763581, 0.23444056510925293, 0.0], [0.0006684320978820324, 0.05574234947562218, 0.8616493344306946, 0.003382008755579591, 0.008604327216744423, 0.0015258961357176304, 0.0007998582441359758, 0.06762769818305969, 0.0], [0.0028576639015227556, 0.023663854226469994, 0.022884050384163857, 0.7407347559928894, 0.023998098447918892, 0.003857995383441448, 0.013975691981613636, 0.16802778840065002, 0.0], [7.760449079796672e-05, 0.008101189509034157, 0.0012959097512066364, 0.014059321954846382, 0.950369656085968, 0.01438195165246725, 0.0050249407067894936, 0.006689348258078098, 0.0], [0.0047571719624102116, 0.0018143737688660622, 0.03458594158291817, 0.0007112077437341213, 0.0024422239512205124, 0.002921421080827713, 0.0023285245988518, 0.9504390954971313, 0.0]], [[0.00042304969974793494, 0.00384338921867311, 0.01762453094124794, 0.0331546813249588, 0.7841964960098267, 0.10885310918092728, 0.00297791650518775, 0.04892686381936073, 0.0], [0.005883477162569761, 0.1278458833694458, 0.00804223958402872, 0.011885673739016056, 0.1135982871055603, 0.5180717706680298, 0.042302973568439484, 0.17236967384815216, 0.0], [0.19945484399795532, 0.048513974994421005, 0.29273349046707153, 0.011023025028407574, 0.004561110865324736, 0.0361722968518734, 0.06825839728116989, 0.3392828702926636, 0.0], [0.215630441904068, 0.2916865944862366, 0.0050825742073357105, 0.0008039872045628726, 0.08063991367816925, 0.010168629698455334, 0.028753597289323807, 0.3672342002391815, 0.0], [0.002181342337280512, 0.27278512716293335, 0.07988296449184418, 0.0006789144827052951, 0.021648941561579704, 0.004363643936812878, 0.02536650374531746, 0.5930926203727722, 0.0], [0.008955433964729309, 0.00586097314953804, 0.4596756398677826, 0.03329633176326752, 0.030764030292630196, 0.020290862768888474, 0.01452488824725151, 0.4266318082809448, 0.0], [0.0008958421531133354, 0.018801642581820488, 0.14298860728740692, 0.01342530082911253, 0.040632668882608414, 0.5142034888267517, 0.01383241731673479, 0.255219966173172, 0.0], [0.0013997649075463414, 0.000614518707152456, 0.0020189897622913122, 0.005465960595756769, 0.01739710196852684, 0.07990340888500214, 0.025430813431739807, 0.8677694201469421, 0.0]], [[0.0008351888973265886, 0.0038545315619558096, 0.02024202048778534, 0.9629789590835571, 0.0001418962056050077, 0.00025965095846913755, 0.008973113261163235, 0.0027146218344569206, 0.0], [0.00801979098469019, 0.16401039063930511, 0.01824451982975006, 0.5961588025093079, 0.01166410930454731, 0.008701619692146778, 0.12341415137052536, 0.06978656351566315, 0.0], [0.07706400752067566, 0.01004405040293932, 0.029425950720906258, 0.11028938740491867, 0.017299452796578407, 0.10279922187328339, 0.31238630414009094, 0.34069162607192993, 0.0], [0.012044806964695454, 0.0025536573957651854, 0.005584460683166981, 0.06127459928393364, 0.0032025121618062258, 0.02134624496102333, 0.6602845788002014, 0.2337091565132141, 0.0], [0.0007324402104131877, 0.012087349779903889, 0.030819982290267944, 0.024188343435525894, 0.008281581103801727, 0.0080707473680377, 0.3500208258628845, 0.5657987594604492, 0.0], [0.0008864655392244458, 0.00460461899638176, 0.013736833818256855, 0.011095941066741943, 0.005073321517556906, 0.5575549602508545, 0.017852453514933586, 0.38919544219970703, 0.0], [0.001044103060849011, 0.000968857784755528, 0.00987892784178257, 0.008978848345577717, 0.05795855075120926, 0.07210155576467514, 0.044489722698926926, 0.8045794367790222, 0.0], [0.00012084604531992227, 0.01520457211881876, 0.001891224761493504, 0.005964869633316994, 0.007951157167553902, 0.010045325383543968, 0.07917612046003342, 0.8796459436416626, 0.0]], [[0.4873424470424652, 0.22371599078178406, 0.07179843634366989, 0.10374800860881805, 0.034536682069301605, 0.018484506756067276, 0.0006783850840292871, 0.05969548225402832, 0.0], [0.7372004985809326, 0.03210750222206116, 0.04311954230070114, 0.01157967746257782, 0.09814820438623428, 0.010717613622546196, 9.706168930279091e-05, 0.06703004986047745, 0.0], [0.001023329677991569, 0.006112437695264816, 0.11124157160520554, 0.6910603046417236, 0.06059291213750839, 0.02433241531252861, 0.010065829381346703, 0.09557116776704788, 0.0], [0.013150738552212715, 0.006609003525227308, 0.7570560574531555, 0.018334059044718742, 0.040621593594551086, 0.04647527635097504, 0.0014799913624301553, 0.11627333611249924, 0.0], [0.0001015739471768029, 0.007713687606155872, 0.009330451488494873, 0.007015536539256573, 0.7454932332038879, 0.03407139331102371, 0.006983681581914425, 0.18929047882556915, 0.0], [0.0003361599228810519, 0.0034821133594959974, 0.007638588082045317, 0.06283622235059738, 0.2508779466152191, 0.08754927664995193, 0.1213848665356636, 0.4658947288990021, 0.0], [0.00029417002224363387, 0.0002537771943025291, 0.0009827284375205636, 0.0006021230365149677, 0.03444140776991844, 0.5853816866874695, 0.02579333819448948, 0.3522507846355438, 0.0], [0.0008864214760251343, 0.0006810447084717453, 0.0024388101883232594, 0.002350208116695285, 0.010758857242763042, 0.01110251434147358, 0.0009277771459892392, 0.9708544015884399, 0.0]], [[0.9965013265609741, 0.0013442372437566519, 6.717491487506777e-05, 0.00031649452284909785, 0.00010127026325790212, 0.0004436186281964183, 0.0001962390961125493, 0.0010297801345586777, 0.0], [0.0652531087398529, 0.7855706810951233, 0.013946892693638802, 0.003135038772597909, 0.021687589585781097, 0.014804317615926266, 0.008245588280260563, 0.08735682815313339, 0.0], [6.496192509075627e-05, 0.015196063555777073, 0.8611443042755127, 0.005571841727942228, 0.0011439034715294838, 0.0028603249229490757, 0.022370923310518265, 0.09164776653051376, 0.0], [0.005336227361112833, 0.05329834669828415, 0.18486569821834564, 0.0901792049407959, 0.08674512058496475, 0.03735481575131416, 0.020303333178162575, 0.5219172835350037, 0.0], [2.0176157704554498e-05, 0.00034328902256675065, 0.0017771960701793432, 0.0003847818588837981, 0.8733987212181091, 0.07307223975658417, 0.008167924359440804, 0.04283571615815163, 0.0], [0.0007858852040953934, 0.0018858467228710651, 0.000552742974832654, 0.0012624087976291776, 0.0019161025993525982, 0.47435668110847473, 0.4445772171020508, 0.07466315478086472, 0.0], [0.0016874833963811398, 1.6500238416483626e-05, 0.00010515096073504537, 0.00018180866027250886, 0.0003554813447408378, 0.013478891924023628, 0.9251829385757446, 0.058991674333810806, 0.0], [0.0002329567214474082, 7.513909804401919e-05, 0.0006025278125889599, 0.0011196205159649253, 0.004745750222355127, 0.007099096663296223, 0.041839420795440674, 0.9442854523658752, 0.0]], [[0.0031442204490303993, 0.8115465044975281, 0.06484150141477585, 0.03605526685714722, 0.0535687617957592, 0.008435758762061596, 0.0008087819442152977, 0.021599268540740013, 0.0], [3.341469346196391e-05, 0.0015353253111243248, 0.9780374765396118, 0.004023770801723003, 0.004419622477144003, 0.0042732711881399155, 0.0005627030041068792, 0.007114427164196968, 0.0], [0.0007966503617353737, 0.006699569523334503, 0.030574165284633636, 0.1675325334072113, 0.07273711264133453, 0.07277245074510574, 0.007290434092283249, 0.6415970921516418, 0.0], [4.677567631006241e-05, 0.00624949811026454, 0.006991720758378506, 0.006932899355888367, 0.796072781085968, 0.01562947779893875, 0.0003812369250226766, 0.1676957607269287, 0.0], [4.719823118648492e-05, 0.00035542913246899843, 0.0030223955400288105, 0.0005616250564344227, 0.03217248246073723, 0.6482805013656616, 0.00494221830740571, 0.3106182813644409, 0.0], [0.0009582903003320098, 0.0035853267181664705, 0.0013404249912127852, 0.00019740597053896636, 0.009728837758302689, 0.12115952372550964, 0.015102925710380077, 0.8479272723197937, 0.0], [3.284365084255114e-05, 0.0037735349033027887, 0.0001950114092323929, 0.00018680878565646708, 0.0255536250770092, 0.18774837255477905, 0.03494850546121597, 0.7475612759590149, 0.0], [2.4003591079235775e-06, 1.8810642359312624e-05, 0.00015358548262156546, 0.0001806320360628888, 0.005634554196149111, 0.0034511368721723557, 0.0003718264924827963, 0.9901870489120483, 0.0]]]], \"left_text\": [\"Q\", \"Y\", \"S\", \"V\", \"L\", \"I\", \"F\", \"<eos>\"], \"right_text\": [\"E\", \"Q\", \"V\", \"T\", \"N\", \"V\", \"G\", \"<eos>\", \"<pad>\"]}], \"default_filter\": \"0\", \"display_mode\": \"light\", \"root_div_id\": \"bertviz-db5558ca8f5441c6adf55dfdccd23421\", \"include_layers\": [0, 1, 2, 3], \"include_heads\": [0, 1, 2, 3, 4, 5, 6, 7], \"total_heads\": 8} is a template marker that is replaced by actual params.\n        const config = {};\n\n        const MIN_X = 0;\n        const MIN_Y = 0;\n        const DIV_WIDTH = 970;\n        const THUMBNAIL_PADDING = 5;\n        const DETAIL_WIDTH = 300;\n        const DETAIL_ATTENTION_WIDTH = 140;\n        const DETAIL_BOX_WIDTH = 80;\n        const DETAIL_BOX_HEIGHT = 18;\n        const DETAIL_PADDING = 15;\n        const ATTN_PADDING = 0;\n        const DETAIL_HEADING_HEIGHT = 25;\n        const HEADING_TEXT_SIZE = 15;\n        const HEADING_PADDING = 5;\n        const TEXT_SIZE = 13;\n        const TEXT_PADDING = 5;\n        const LAYER_COLORS = d3.schemeCategory10;\n        const PALETTE = {\n            'light': {\n                'text': 'black',\n                'background': 'white',\n                'highlight': '#F5F5F5'\n            },\n            'dark': {\n                'text': '#ccc',\n                'background': 'black',\n                'highlight': '#222'\n            }\n        }\n\n        function render() {\n\n            // Set global state variables\n\n            var attData = config.attention[config.filter];\n            config.leftText = attData.left_text;\n            config.rightText = attData.right_text;\n            config.attn = attData.attn;\n            config.numLayers = config.attn.length;\n            config.numHeads = config.attn[0].length;\n            config.thumbnailBoxHeight = 7 * (12 / config.totalHeads);\n            const axisSize = HEADING_TEXT_SIZE + HEADING_PADDING + TEXT_SIZE + TEXT_PADDING;\n            config.thumbnailHeight = Math.max(config.leftText.length, config.rightText.length) * config.thumbnailBoxHeight + 2 * THUMBNAIL_PADDING;\n            config.thumbnailWidth = (DIV_WIDTH - axisSize) / config.totalHeads;\n            config.detailHeight = Math.max(config.leftText.length, config.rightText.length) * DETAIL_BOX_HEIGHT + 2 * DETAIL_PADDING + DETAIL_HEADING_HEIGHT;\n            config.divHeight = Math.max(config.numLayers * config.thumbnailHeight + axisSize, config.detailHeight);\n\n            const vis = $(`#${config.rootDivId} #vis`)\n            vis.empty();\n            vis.attr(\"height\", config.divHeight);\n            config.svg = d3.select(`#${config.rootDivId} #vis`)\n                .append('svg')\n                .attr(\"width\", DIV_WIDTH)\n                .attr(\"height\", config.divHeight)\n                .attr(\"fill\", getBackgroundColor());\n\n            renderAxisLabels();\n\n            var i;\n            var j;\n            for (i = 0; i < config.numLayers; i++) {\n                for (j = 0; j < config.numHeads; j++) {\n                    renderThumbnail(i, j);\n                }\n            }\n        }\n\n        function renderAxisLabels() {\n            const axisSize = HEADING_TEXT_SIZE + HEADING_PADDING + TEXT_SIZE + TEXT_PADDING;\n            const tableWidth = config.thumbnailWidth * config.heads.length;\n            config.svg.append(\"text\")\n                .text(\"Heads\")\n                .attr(\"fill\", \"black\")\n                .attr(\"font-weight\", \"bold\")\n                .attr(\"font-size\", HEADING_TEXT_SIZE + \"px\")\n                .attr(\"x\", axisSize + tableWidth / 2)\n                .attr(\"text-anchor\", \"middle\")\n                .attr(\"y\", 0)\n                .attr(\"dy\", HEADING_TEXT_SIZE);\n            for (let i = 0; i < config.numHeads; i++) {\n                config.svg.append(\"text\")\n                    .text(config.heads[i])\n                    .attr(\"fill\", \"black\")\n                    .attr(\"font-size\", TEXT_SIZE + \"px\")\n                    .attr(\"x\", axisSize + (i + .5) * config.thumbnailWidth)\n                    .attr(\"text-anchor\", \"middle\")\n                    .attr(\"y\", HEADING_TEXT_SIZE + HEADING_PADDING)\n                    .attr(\"dy\", TEXT_SIZE);\n            }\n            let x = 0;\n            let y = axisSize + config.thumbnailHeight * config.layers.length / 2;\n            console.log(\"x\", x, y)\n            config.svg.append(\"text\")\n                .text(\"Layers\")\n                .attr(\"fill\", \"black\")\n                .attr(\"font-weight\", \"bold\")\n                .attr(\"transform\", \"rotate(270, \" + x  + \", \" + y + \")\")\n                .attr(\"font-size\", HEADING_TEXT_SIZE + \"px\")\n                .attr(\"x\", x)\n                .attr(\"text-anchor\", \"middle\")\n                .attr(\"y\", y)\n                .attr(\"dy\", HEADING_TEXT_SIZE);\n            for (let i = 0; i < config.numLayers; i++) {\n                x = HEADING_TEXT_SIZE + HEADING_PADDING + TEXT_SIZE; // HACK\n                y = axisSize + (i + .5) * config.thumbnailHeight;\n                config.svg.append(\"text\")\n                    .text(config.layers[i])\n                    .attr(\"fill\", \"black\")\n                    .attr(\"font-size\", TEXT_SIZE + \"px\")\n                    .attr(\"x\", x)\n                    .attr(\"text-anchor\", \"end\")\n                    .attr(\"y\", y)\n                    .attr(\"dy\", TEXT_SIZE / 2);\n            }\n        }\n\n\n        function renderThumbnail(layerIndex, headIndex) {\n            const axisSize = HEADING_TEXT_SIZE + HEADING_PADDING + TEXT_SIZE + TEXT_PADDING\n            const x = headIndex * config.thumbnailWidth + axisSize;\n            const y = layerIndex * config.thumbnailHeight + axisSize;\n            renderThumbnailAttn(x, y, config.attn[layerIndex][headIndex], layerIndex, headIndex);\n        }\n\n        function renderDetail(att, layerIndex, headIndex) {\n            const axisSize = TEXT_SIZE + HEADING_PADDING + TEXT_SIZE + TEXT_PADDING;\n            var xOffset = .8 * config.thumbnailWidth;\n            var maxX = DIV_WIDTH;\n            var maxY = config.divHeight - 3;\n            var leftPos = axisSize + headIndex * config.thumbnailWidth;\n            var x = leftPos + THUMBNAIL_PADDING + xOffset;\n            if (x < MIN_X) {\n                x = MIN_X;\n            } else if (x + DETAIL_WIDTH > maxX) {\n                x = leftPos + THUMBNAIL_PADDING - DETAIL_WIDTH + 8;\n            }\n            var posLeftText = x;\n            var posAttention = posLeftText + DETAIL_BOX_WIDTH;\n            var posRightText = posAttention + DETAIL_ATTENTION_WIDTH;\n            var thumbnailHeight = Math.max(config.leftText.length, config.rightText.length) * config.thumbnailBoxHeight + 2 * THUMBNAIL_PADDING;\n            var yOffset = 20;\n            var y = layerIndex * thumbnailHeight + THUMBNAIL_PADDING + yOffset;\n            if (y < MIN_Y) {\n                y = MIN_Y;\n            } else if (y + config.detailHeight > maxY) {\n                y = maxY - config.detailHeight;\n            }\n            renderDetailFrame(x, y, layerIndex);\n            y = y + DETAIL_PADDING;\n            renderDetailHeading(x, y, layerIndex, headIndex);\n            y = y + DETAIL_HEADING_HEIGHT;\n            renderDetailText(config.leftText, \"leftText\", posLeftText, y , layerIndex);\n            renderDetailAttn(posAttention, y, att, layerIndex, headIndex);\n            renderDetailText(config.rightText, \"rightText\", posRightText, y, layerIndex);\n        }\n\n        function renderDetailHeading(x, y, layerIndex, headIndex) {\n            var fillColor = getTextColor();\n            config.svg.append(\"text\")\n                .classed(\"detail\", true)\n                .text('Layer ' + config.layers[layerIndex] + \", Head \" + config.heads[headIndex])\n                .attr(\"font-size\", TEXT_SIZE + \"px\")\n                .attr(\"font-weight\", \"bold\")\n                .style(\"cursor\", \"default\")\n                .style(\"-webkit-user-select\", \"none\")\n                .attr(\"fill\", fillColor)\n                .attr(\"x\", x + DETAIL_WIDTH / 2)\n                .attr(\"text-anchor\", \"middle\")\n                .attr(\"y\", y)\n                .attr(\"height\", DETAIL_HEADING_HEIGHT)\n                .attr(\"width\", DETAIL_WIDTH)\n                .attr(\"dy\", HEADING_TEXT_SIZE);\n        }\n\n        function renderDetailText(text, id, x, y, layerIndex) {\n            var tokenContainer = config.svg.append(\"svg:g\")\n                .classed(\"detail\", true)\n                .selectAll(\"g\")\n                .data(text)\n                .enter()\n                .append(\"g\");\n\n            var fillColor = getTextColor();\n\n            tokenContainer.append(\"rect\")\n                .classed(\"highlight\", true)\n                .attr(\"fill\", fillColor)\n                .style(\"opacity\", 0.0)\n                .attr(\"height\", DETAIL_BOX_HEIGHT)\n                .attr(\"width\", DETAIL_BOX_WIDTH)\n                .attr(\"x\", x)\n                .attr(\"y\", function (d, i) {\n                    return y + i * DETAIL_BOX_HEIGHT;\n                });\n\n            var textContainer = tokenContainer.append(\"text\")\n                .classed(\"token\", true)\n                .text(function (d) {\n                    return d;\n                })\n                .attr(\"font-size\", TEXT_SIZE + \"px\")\n                .style(\"cursor\", \"default\")\n                .style(\"-webkit-user-select\", \"none\")\n                .attr(\"fill\", fillColor)\n                .attr(\"x\", x)\n                .attr(\"y\", function (d, i) {\n                    return i * DETAIL_BOX_HEIGHT + y;\n                })\n                .attr(\"height\", DETAIL_BOX_HEIGHT)\n                .attr(\"width\", DETAIL_BOX_WIDTH)\n                .attr(\"dy\", TEXT_SIZE);\n\n            if (id == \"leftText\") {\n                textContainer.style(\"text-anchor\", \"end\")\n                    .attr(\"dx\", DETAIL_BOX_WIDTH - 2);\n                tokenContainer.on(\"mouseover\", function (d, index) {\n                    highlightSelection(index);\n                });\n                tokenContainer.on(\"mouseleave\", function () {\n                    unhighlightSelection();\n                });\n            }\n        }\n\n        function highlightSelection(index) {\n            config.svg.select(\"#leftText\")\n                .selectAll(\".highlight\")\n                .style(\"opacity\", function (d, i) {\n                    return i == index ? 1.0 : 0.0;\n                });\n            config.svg.selectAll(\".attn-line-group\")\n                .style(\"opacity\", function (d, i) {\n                    return i == index ? 1.0 : 0.0;\n                });\n        }\n\n        function unhighlightSelection() {\n            config.svg.select(\"#leftText\")\n                .selectAll(\".highlight\")\n                .style(\"opacity\", 0.0);\n            config.svg.selectAll(\".attn-line-group\")\n                .style(\"opacity\", 1);\n        }\n\n        function renderThumbnailAttn(x, y, att, layerIndex, headIndex) {\n\n            var attnContainer = config.svg.append(\"svg:g\");\n\n            var attnBackground = attnContainer.append(\"rect\")\n                .attr(\"id\", 'attn_background_' + layerIndex + \"_\" + headIndex)\n                .classed(\"attn_background\", true)\n                .attr(\"x\", x)\n                .attr(\"y\", y)\n                .attr(\"height\", config.thumbnailHeight)\n                .attr(\"width\", config.thumbnailWidth)\n                .attr(\"stroke-width\", 2)\n                .attr(\"stroke\", getLayerColor(layerIndex))\n                .attr(\"stroke-opacity\", 0)\n                .attr(\"fill\", getBackgroundColor());\n            var x1 = x + THUMBNAIL_PADDING;\n            var x2 = x1 + config.thumbnailWidth - 14;\n            var y1 = y + THUMBNAIL_PADDING;\n\n            attnContainer.selectAll(\"g\")\n                .data(att)\n                .enter()\n                .append(\"g\") // Add group for each source token\n                .attr(\"source-index\", function (d, i) { // Save index of source token\n                    return i;\n                })\n                .selectAll(\"line\")\n                .data(function (d) { // Loop over all target tokens\n                    return d;\n                })\n                .enter() // When entering\n                .append(\"line\")\n                .attr(\"x1\", x1)\n                .attr(\"y1\", function (d) {\n                    var sourceIndex = +this.parentNode.getAttribute(\"source-index\");\n                    return y1 + (sourceIndex + .5) * config.thumbnailBoxHeight;\n                })\n                .attr(\"x2\", x2)\n                .attr(\"y2\", function (d, targetIndex) {\n                    return y1 + (targetIndex + .5) * config.thumbnailBoxHeight;\n                })\n                .attr(\"stroke-width\", 2.2)\n                .attr(\"stroke\", getLayerColor(layerIndex))\n                .attr(\"stroke-opacity\", function (d) {\n                    return d;\n                });\n\n            var clickRegion = attnContainer.append(\"rect\")\n                .attr(\"x\", x)\n                .attr(\"y\", y)\n                .attr(\"height\", config.thumbnailHeight)\n                .attr(\"width\", config.thumbnailWidth)\n                .style(\"opacity\", 0);\n\n            clickRegion.on(\"click\", function (d, index) {\n                var attnBackgroundOther = config.svg.selectAll(\".attn_background\");\n                attnBackgroundOther.attr(\"fill\", getBackgroundColor());\n                attnBackgroundOther.attr(\"stroke-opacity\", 0);\n\n                config.svg.selectAll(\".detail\").remove();\n                if (config.detail_layer != layerIndex || config.detail_head != headIndex) {\n                    renderDetail(att, layerIndex, headIndex);\n                    config.detail_layer = layerIndex;\n                    config.detail_head = headIndex;\n                    attnBackground.attr(\"fill\", getHighlightColor());\n                    attnBackground.attr(\"stroke-opacity\", .8);\n                } else {\n                    config.detail_layer = null;\n                    config.detail_head = null;\n                    attnBackground.attr(\"fill\", getBackgroundColor());\n                    attnBackground.attr(\"stroke-opacity\", 0);\n                }\n            });\n\n            clickRegion.on(\"mouseover\", function (d) {\n                d3.select(this).style(\"cursor\", \"pointer\");\n            });\n        }\n\n        function renderDetailFrame(x, y, layerIndex) {\n            var detailFrame = config.svg.append(\"rect\")\n                .classed(\"detail\", true)\n                .attr(\"x\", x)\n                .attr(\"y\", y)\n                .attr(\"height\", config.detailHeight)\n                .attr(\"width\", DETAIL_WIDTH)\n                .style(\"opacity\", 1)\n                .attr(\"stroke-width\", 1.5)\n                .attr(\"stroke-opacity\", 0.7)\n                .attr(\"stroke\", getLayerColor(layerIndex));\n        }\n\n        function renderDetailAttn(x, y, att, layerIndex) {\n            var attnContainer = config.svg.append(\"svg:g\")\n                .classed(\"detail\", true)\n                .attr(\"pointer-events\", \"none\");\n            attnContainer.selectAll(\"g\")\n                .data(att)\n                .enter()\n                .append(\"g\") // Add group for each source token\n                .classed('attn-line-group', true)\n                .attr(\"source-index\", function (d, i) { // Save index of source token\n                    return i;\n                })\n                .selectAll(\"line\")\n                .data(function (d) { // Loop over all target tokens\n                    return d;\n                })\n                .enter()\n                .append(\"line\")\n                .attr(\"x1\", x + ATTN_PADDING)\n                .attr(\"y1\", function (d) {\n                    var sourceIndex = +this.parentNode.getAttribute(\"source-index\");\n                    return y + (sourceIndex + .5) * DETAIL_BOX_HEIGHT;\n                })\n                .attr(\"x2\", x + DETAIL_ATTENTION_WIDTH - ATTN_PADDING)\n                .attr(\"y2\", function (d, targetIndex) {\n                    return y + (targetIndex + .5) * DETAIL_BOX_HEIGHT;\n                })\n                .attr(\"stroke-width\", 2.2)\n                .attr(\"stroke\", getLayerColor(layerIndex))\n                .attr(\"stroke-opacity\", function (d) {\n                    return d;\n                });\n        }\n\n        function getLayerColor(layer) {\n          return LAYER_COLORS[config.layers[layer] % 10];\n        }\n\n        function getTextColor() {\n            return PALETTE[config.mode]['text']\n        }\n\n        function getBackgroundColor() {\n           return PALETTE[config.mode]['background']\n        }\n\n        function getHighlightColor() {\n           return PALETTE[config.mode]['highlight']\n        }\n\n        function initialize() {\n            config.attention = params['attention'];\n            config.filter = params['default_filter'];\n            config.mode = params['display_mode'];\n            config.layers = params['include_layers']\n            config.heads = params['include_heads']\n            config.totalHeads = params['total_heads']\n            config.rootDivId = params['root_div_id'];\n            $(`#${config.rootDivId} #filter`).on('change', function (e) {\n                config.filter = e.currentTarget.value;\n                render();\n            });\n        }\n\n        initialize();\n        render();\n\n    });",
      "text/plain": [
       "<IPython.core.display.Javascript object>"
      ]
     },
     "metadata": {},
     "output_type": "display_data"
    }
   ],
   "source": [
    "from bertviz import model_view\n",
    "\n",
    "model_view(\n",
    "\tencoder_attention=encoder_self_attention, \n",
    "\tdecoder_attention=decoder_self_attention,\n",
    "\tcross_attention=decoder_encoder_attention, \n",
    "\tencoder_tokens=encoder_text,\n",
    "\tdecoder_tokens=decoder_text, \n",
    "\tdisplay_mode=\"light\"\n",
    ")"
   ]
  },
  {
   "cell_type": "code",
   "execution_count": 115,
   "metadata": {},
   "outputs": [
    {
     "data": {
      "text/html": [
       "<script src=\"https://cdnjs.cloudflare.com/ajax/libs/require.js/2.3.6/require.min.js\"></script>"
      ],
      "text/plain": [
       "<IPython.core.display.HTML object>"
      ]
     },
     "metadata": {},
     "output_type": "display_data"
    },
    {
     "data": {
      "text/html": [
       "      \n",
       "        <div id=\"bertviz-c743078893e94f6fbe3acebda3f93a47\" style=\"font-family:'Helvetica Neue', Helvetica, Arial, sans-serif;\">\n",
       "            <span style=\"user-select:none\">\n",
       "                Layer: <select id=\"layer\"></select>\n",
       "                Attention: <select id=\"filter\"><option value=\"0\">Encoder</option>\n",
       "<option value=\"1\">Decoder</option>\n",
       "<option value=\"2\">Cross</option></select>\n",
       "            </span>\n",
       "            <div id='vis'></div>\n",
       "        </div>\n",
       "    "
      ],
      "text/plain": [
       "<IPython.core.display.HTML object>"
      ]
     },
     "metadata": {},
     "output_type": "display_data"
    },
    {
     "data": {
      "application/javascript": "/**\n * @fileoverview Transformer Visualization D3 javascript code.\n *\n *\n *  Based on: https://github.com/tensorflow/tensor2tensor/blob/master/tensor2tensor/visualization/attention.js\n *\n * Change log:\n *\n * 12/19/18  Jesse Vig   Assorted cleanup. Changed orientation of attention matrices.\n * 12/29/20  Jesse Vig   Significant refactor.\n * 12/31/20  Jesse Vig   Support multiple visualizations in single notebook.\n * 02/06/21  Jesse Vig   Move require config from separate jupyter notebook step\n * 05/03/21  Jesse Vig   Adjust height of visualization dynamically\n * 07/25/21  Jesse Vig   Support layer filtering\n * 03/23/22  Daniel SC   Update requirement URLs for d3 and jQuery (source of bug not allowing end result to be displayed on browsers)\n **/\n\nrequire.config({\n  paths: {\n      d3: 'https://cdnjs.cloudflare.com/ajax/libs/d3/5.7.0/d3.min',\n    jquery: 'https://cdnjs.cloudflare.com/ajax/libs/jquery/2.0.0/jquery.min',\n  }\n});\n\nrequirejs(['jquery', 'd3'], function ($, d3) {\n\n    const params = {\"attention\": [{\"name\": \"Encoder\", \"attn\": [[[[0.1146475151181221, 0.8302609324455261, 0.05499810352921486, 9.310716995969415e-05, 3.2050306231212744e-07, 1.2516911063187308e-08, 7.378405664226761e-10, 7.338711652984734e-18, 0.0], [0.9965884685516357, 0.00319258077070117, 0.00021891901269555092, 7.131946144767198e-09, 3.7235422671632115e-14, 1.0594716691618758e-15, 2.986244877680594e-13, 1.5077189563053843e-18, 0.0], [0.0007748212665319443, 0.9886252880096436, 0.010592875070869923, 7.099294634826947e-06, 2.9330312050629415e-12, 4.867065066800893e-19, 1.2053653386810058e-16, 4.915391026137773e-19, 0.0], [6.6201431238777e-15, 4.930248906021006e-06, 0.9982879757881165, 0.0017070421017706394, 8.053864775092734e-08, 3.4694178351960523e-16, 1.2884961705582968e-20, 8.40507865344103e-24, 0.0], [2.165715980726162e-31, 2.7438980921570674e-18, 5.929719577579817e-07, 0.9999587535858154, 4.0670773159945384e-05, 1.622509906377273e-13, 3.430885844425089e-24, 2.249003768865295e-36, 0.0], [8.407790785948902e-45, 2.530848750458741e-34, 3.639165050029902e-22, 4.833199227505247e-07, 0.9999983310699463, 1.2085919252058375e-06, 5.915515473298161e-15, 3.858943699851171e-30, 0.0], [0.0, 0.0, 2.0228700879005765e-35, 1.8551015454073948e-19, 5.715916131521226e-07, 0.9999796152114868, 1.9752867956412956e-05, 5.474055757912046e-20, 0.0], [0.0, 0.0, 0.0, 0.0, 0.0, 0.0, 0.0, 1.0, 0.0], [8.688050478813866e-44, 0.0, 0.0, 0.0, 6.848145595155381e-42, 5.8678960895539935e-24, 1.9878171331200178e-10, 1.0, 0.0]], [[3.6176526184428237e-12, 1.0, 4.7526499614604415e-19, 0.0, 0.0, 0.0, 0.0, 0.0, 0.0], [1.847306382190679e-28, 5.291930522260957e-12, 1.0, 2.1292922677592965e-17, 3.6952240504245426e-42, 0.0, 0.0, 0.0, 0.0], [0.0, 1.8163148738189084e-22, 9.327834504802013e-09, 1.0, 4.2203525396633523e-11, 2.6050979230876944e-40, 0.0, 0.0, 0.0], [0.0, 1.2833091336286675e-41, 8.848619846178817e-19, 6.295255289279211e-11, 1.0, 6.059313715654682e-17, 2.464183349515191e-40, 0.0, 0.0], [0.0, 0.0, 1.5391722202297358e-40, 1.1885753453899144e-24, 8.49358292032143e-11, 1.0, 1.8898755824170443e-11, 1.6639743277478012e-37, 0.0], [7.788332786809474e-39, 0.0, 0.0, 1.2611686178923354e-44, 1.2398003043717576e-23, 3.761607345054152e-11, 1.0, 1.2459634954940064e-16, 0.0], [1.0691054457403315e-22, 2.1468490121646038e-35, 0.0, 0.0, 9.80908925027372e-45, 2.5322756518413357e-24, 1.0390421856243393e-08, 1.0, 0.0], [0.0, 0.0, 0.0, 0.0, 0.0, 0.0, 2.1184045456522563e-39, 1.0, 0.0], [1.2099839945443403e-29, 2.361229917369201e-06, 0.999997615814209, 3.092370448598558e-08, 2.914712501651462e-17, 3.121961467215335e-34, 1.7909652275975748e-28, 2.9039857633777202e-21, 0.0]], [[0.005840528756380081, 0.01814328320324421, 0.20564234256744385, 0.4318316876888275, 0.2409166842699051, 0.07430310547351837, 0.01336608175188303, 0.009956233203411102, 0.0], [0.12840265035629272, 0.0821705088019371, 0.1577286422252655, 0.15655124187469482, 0.19041293859481812, 0.11191384494304657, 0.038688622415065765, 0.13413147628307343, 0.0], [0.3549915552139282, 0.1483001708984375, 0.0743449255824089, 0.0462186299264431, 0.04053156450390816, 0.031639084219932556, 0.043072961270809174, 0.2609011232852936, 0.0], [0.27902427315711975, 0.357711523771286, 0.16289390623569489, 0.03490887209773064, 0.013537702150642872, 0.00810605101287365, 0.01913018524646759, 0.12468738108873367, 0.0], [0.07186396420001984, 0.33080002665519714, 0.4159316122531891, 0.1206669732928276, 0.02593226358294487, 0.005744625348597765, 0.008949988521635532, 0.020110558718442917, 0.0], [0.004151626024395227, 0.057971831411123276, 0.29076075553894043, 0.4546601474285126, 0.15352682769298553, 0.023072965443134308, 0.013438382185995579, 0.0024174938444048166, 0.0], [0.000600641593337059, 0.005172075238078833, 0.06079595535993576, 0.38390177488327026, 0.3813099265098572, 0.14058658480644226, 0.0269246157258749, 0.0007083996315486729, 0.0], [0.0004775326233357191, 1.2995842553209513e-05, 0.0005075368680991232, 0.00224393792450428, 0.0086582126095891, 0.009983562864363194, 0.0006650147261098027, 0.9774511456489563, 0.0], [0.00827823393046856, 0.00330919586122036, 0.004306737333536148, 0.029630107805132866, 0.11275821924209595, 0.4726405143737793, 0.3284088969230652, 0.040668096393346786, 0.0]], [[0.03724818304181099, 0.19076916575431824, 0.1850205510854721, 0.16105258464813232, 0.3610203266143799, 0.03477085009217262, 0.01558060571551323, 0.014537589624524117, 0.0], [0.13475681841373444, 0.11252230405807495, 0.2728704512119293, 0.22096660733222961, 0.19573456048965454, 0.02594050206243992, 0.020253358408808708, 0.016955384984612465, 0.0], [0.09113786369562149, 0.3686482608318329, 0.09320414066314697, 0.13277789950370789, 0.250879168510437, 0.02427232265472412, 0.02134430781006813, 0.017736144363880157, 0.0], [0.07577396184206009, 0.28845006227493286, 0.13064342737197876, 0.10628533363342285, 0.33186212182044983, 0.036941710859537125, 0.01791125163435936, 0.012132174335420132, 0.0], [0.09656352549791336, 0.22966596484184265, 0.16008925437927246, 0.22617661952972412, 0.09786460548639297, 0.10056539624929428, 0.0650506392121315, 0.024024004116654396, 0.0], [0.012269849888980389, 0.0711890459060669, 0.024379471316933632, 0.08436507731676102, 0.4924497604370117, 0.12204565107822418, 0.14271734654903412, 0.05058377608656883, 0.0], [0.009878497570753098, 0.04762081801891327, 0.027717113494873047, 0.05304097756743431, 0.3847890794277191, 0.28548628091812134, 0.0813688114285469, 0.11009834706783295, 0.0], [4.776571131515084e-06, 4.6799282245046925e-06, 9.69502070802264e-06, 6.26429682597518e-05, 0.00016828264051582664, 0.0020492637995630503, 0.011923277750611305, 0.9857774376869202, 0.0], [0.019763847813010216, 0.02134031057357788, 0.009342550300061703, 0.038431450724601746, 0.09494511038064957, 0.13382816314697266, 0.45406919717788696, 0.22827935218811035, 0.0]], [[0.03647022694349289, 0.90770024061203, 0.008290794678032398, 0.004264139104634523, 0.027198616415262222, 0.0007861534249968827, 0.0013337767450138927, 0.013956255279481411, 0.0], [0.3660840690135956, 0.5009379982948303, 0.022206855937838554, 0.010289468802511692, 0.0328810028731823, 0.002872177865356207, 0.00414961576461792, 0.06057876721024513, 0.0], [0.21746470034122467, 0.7295443415641785, 0.010648240335285664, 0.0068717398680746555, 0.01651030406355858, 0.0015208981931209564, 0.0030436678789556026, 0.014396139420568943, 0.0], [0.11146926879882812, 0.8025796413421631, 0.025957804173231125, 0.016030212864279747, 0.03427140787243843, 0.001839831005781889, 0.004036250989884138, 0.0038156278897076845, 0.0], [0.0810311958193779, 0.7442671060562134, 0.0783277153968811, 0.040063679218292236, 0.04094884544610977, 0.0044021992944180965, 0.006498438771814108, 0.0044607967138290405, 0.0], [0.007494499906897545, 0.2646062672138214, 0.06948374211788177, 0.12429538369178772, 0.49139517545700073, 0.01779916323721409, 0.022612303495407104, 0.002313549630343914, 0.0], [0.000670968962367624, 0.023126276209950447, 0.024832911789417267, 0.1312142312526703, 0.739524781703949, 0.05184305086731911, 0.02801431715488434, 0.00077350705396384, 0.0], [0.00022512076247949153, 0.00011250108218519017, 0.00041636661626398563, 0.00029450684087350965, 0.0018047132762148976, 0.004061631392687559, 0.004527481272816658, 0.9885576963424683, 0.0], [0.001287722261622548, 0.004767010919749737, 0.005569335073232651, 0.05084673687815666, 0.4618363380432129, 0.25331175327301025, 0.2161525934934616, 0.006228458136320114, 0.0]], [[0.07087291032075882, 0.1789996474981308, 0.150530144572258, 0.2536708116531372, 0.15788958966732025, 0.059101033955812454, 0.05937585607171059, 0.06956009566783905, 0.0], [0.19300056993961334, 0.1204719990491867, 0.18810954689979553, 0.2005879431962967, 0.13934902846813202, 0.04043561965227127, 0.04765915125608444, 0.07038617879152298, 0.0], [0.10859354585409164, 0.22456154227256775, 0.12952794134616852, 0.2682099938392639, 0.11493097990751266, 0.03994433954358101, 0.052202533930540085, 0.06202913448214531, 0.0], [0.11935099959373474, 0.18800567090511322, 0.2110554426908493, 0.14449799060821533, 0.16162827610969543, 0.057631224393844604, 0.06395315378904343, 0.053877249360084534, 0.0], [0.03613826632499695, 0.11183816194534302, 0.14721901714801788, 0.37251901626586914, 0.11141204088926315, 0.09017626196146011, 0.07936438173055649, 0.05133288353681564, 0.0], [0.014515182934701443, 0.03868139162659645, 0.05089869350194931, 0.2692490518093109, 0.23981408774852753, 0.1323663890361786, 0.14339923858642578, 0.1110759899020195, 0.0], [0.01695718802511692, 0.02611851692199707, 0.05740595981478691, 0.15316814184188843, 0.20000715553760529, 0.219066321849823, 0.07769343256950378, 0.24958331882953644, 0.0], [0.00030540869920514524, 0.00016259332187473774, 0.0005990362842567265, 0.0007770265219733119, 0.0014136150712147355, 0.007517339661717415, 0.01645430363714695, 0.972770631313324, 0.0], [0.07339583337306976, 0.04524325951933861, 0.06283599138259888, 0.07709994912147522, 0.14787223935127258, 0.21003565192222595, 0.1930309385061264, 0.19048616290092468, 0.0]], [[0.04635489359498024, 6.984911306062713e-05, 7.39714305382222e-05, 0.00044742587488144636, 0.003537410404533148, 0.014280018396675587, 0.0005020117969252169, 0.9347344636917114, 0.0], [0.8145745992660522, 0.008531348779797554, 0.0008161806617863476, 0.00046914632548578084, 0.0009172986610792577, 0.001213714829646051, 0.001162051223218441, 0.172315776348114, 0.0], [0.819759726524353, 0.14433224499225616, 0.017875799909234047, 0.0009708505822345614, 0.00012210772547405213, 8.009112207219005e-05, 0.0003625847166404128, 0.016496503725647926, 0.0], [0.16070683300495148, 0.5430623292922974, 0.27663204073905945, 0.01567562110722065, 0.0006793388747610152, 6.612033030251041e-05, 0.00012976027210243046, 0.0030480599962174892, 0.0], [0.0044455332681536674, 0.18049871921539307, 0.6338465213775635, 0.17403730750083923, 0.006903178058564663, 9.568934183334932e-05, 1.9398446966079064e-05, 0.0001537070784252137, 0.0], [7.21483156667091e-05, 0.003014696529135108, 0.11025575548410416, 0.5922569036483765, 0.2864537239074707, 0.007599429227411747, 0.0001740127190714702, 0.00017334852600470185, 0.0], [7.007350291132752e-07, 1.3578436664829496e-05, 0.00037915914435870945, 0.048946741968393326, 0.8776665925979614, 0.07039632648229599, 0.002553352853283286, 4.350784729467705e-05, 0.0], [6.222900528207731e-10, 9.650412691186716e-10, 1.5240708250985335e-07, 0.0002495755616109818, 0.06980680674314499, 0.8155116438865662, 0.11432097852230072, 0.00011087138409493491, 0.0], [5.90021772950422e-06, 1.6094150851131417e-05, 2.6256360797560774e-05, 0.000613104784861207, 0.026450978592038155, 0.07495994120836258, 0.897473156452179, 0.00045455334475263953, 0.0]], [[0.02615111693739891, 0.20442746579647064, 0.32108190655708313, 0.31491619348526, 0.10228481888771057, 0.017900660634040833, 0.01020270586013794, 0.0030352335888892412, 0.0], [0.002417336218059063, 0.016429679468274117, 0.12207166850566864, 0.48819500207901, 0.3273407816886902, 0.03369263559579849, 0.008204986341297626, 0.0016478387406095862, 0.0], [0.000886776833795011, 0.0037130070850253105, 0.021397560834884644, 0.19363203644752502, 0.612265408039093, 0.14148373901844025, 0.023512907326221466, 0.003108557080850005, 0.0], [0.002192437183111906, 0.003128605894744396, 0.009046128951013088, 0.05100299045443535, 0.4285740852355957, 0.31837162375450134, 0.1540740728378296, 0.03361004590988159, 0.0], [0.004653386306017637, 0.0033664314541965723, 0.0049132779240608215, 0.01197745744138956, 0.11165765672922134, 0.2517492175102234, 0.3561273515224457, 0.25555527210235596, 0.0], [0.005932680331170559, 0.002386905951425433, 0.0019063025247305632, 0.0023831496946513653, 0.018999027088284492, 0.09459753334522247, 0.315588116645813, 0.5582062602043152, 0.0], [0.00833191443234682, 0.006267805118113756, 0.005792437121272087, 0.0022901101037859917, 0.0050352090038359165, 0.012549156323075294, 0.07203520089387894, 0.887698233127594, 0.0], [0.022771060466766357, 0.015926867723464966, 0.018484387546777725, 0.0028068311512470245, 0.002477807691320777, 0.004773993045091629, 0.04828726127743721, 0.8844717741012573, 0.0], [0.032943565398454666, 0.08942873775959015, 0.23690539598464966, 0.20228441059589386, 0.17092420160770416, 0.054543863981962204, 0.08565333485603333, 0.12731651961803436, 0.0]]], [[[0.028782334178686142, 0.007709038443863392, 0.0039958469569683075, 0.001997515093535185, 0.015389776788651943, 0.00984504260122776, 0.0033899543341249228, 0.9288905262947083, 0.0], [0.03547639399766922, 0.010259473696351051, 0.0037160171195864677, 0.002109269145876169, 0.004967539105564356, 0.006202328018844128, 0.0012623285874724388, 0.9360066652297974, 0.0], [0.08818719536066055, 0.016641933470964432, 0.008652674965560436, 0.00397805031388998, 0.009505596943199635, 0.0016494669253006577, 0.0015762019902467728, 0.8698088526725769, 0.0], [0.007101171649992466, 0.1034320741891861, 0.034239284694194794, 0.022815922275185585, 0.008245319128036499, 0.0005255262949503958, 0.0010683212894946337, 0.8225724101066589, 0.0], [0.011926737613976002, 0.016087068244814873, 0.09112237393856049, 0.0654430016875267, 0.02654046192765236, 0.0004405798972584307, 0.007019359152764082, 0.7814204692840576, 0.0], [0.005696816835552454, 0.025482768192887306, 0.012952140532433987, 0.1555335968732834, 0.06637894362211227, 0.004358042497187853, 0.002493835985660553, 0.7271038293838501, 0.0], [0.0037395216058939695, 0.00850803591310978, 0.010610447265207767, 0.03488911688327789, 0.12235672026872635, 0.03322873264551163, 0.017897339537739754, 0.7687700986862183, 0.0], [0.001145007205195725, 0.002511341357603669, 0.000999940442852676, 0.0012150303227826953, 0.0016077749896794558, 0.0006264746771194041, 0.002589364070445299, 0.9893051385879517, 0.0], [0.0019399395678192377, 0.0024599905591458082, 0.000548778974916786, 0.0007235176162794232, 0.0010708787012845278, 0.0004429281398188323, 0.0007450248231180012, 0.9920690059661865, 0.0]], [[0.008569694124162197, 0.022611984983086586, 0.02244097925722599, 0.03287903219461441, 0.20982535183429718, 0.0038413992151618004, 0.017956331372261047, 0.6818751692771912, 0.0], [0.054151348769664764, 0.009755207225680351, 0.02473207376897335, 0.08280102163553238, 0.05183159559965134, 0.003041465999558568, 0.012687056325376034, 0.7610002756118774, 0.0], [0.017994962632656097, 0.054551851004362106, 0.012451715767383575, 0.021545039489865303, 0.0725739598274231, 0.004685217514634132, 0.015595569275319576, 0.8006016612052917, 0.0], [0.01737508922815323, 0.04008695110678673, 0.039452120661735535, 0.018760891631245613, 0.11018198728561401, 0.004636949859559536, 0.04929990693926811, 0.7202061414718628, 0.0], [0.02239004708826542, 0.041626859456300735, 0.015612898394465446, 0.099403515458107, 0.02480638399720192, 0.0028034213464707136, 0.030239617452025414, 0.7631173133850098, 0.0], [0.008094589225947857, 0.05418743938207626, 0.018574636429548264, 0.049801118671894073, 0.039607103914022446, 0.02231721021234989, 0.033028725534677505, 0.7743892073631287, 0.0], [0.007080847397446632, 0.02930055931210518, 0.005053256172686815, 0.050682224333286285, 0.055608391761779785, 0.05050438642501831, 0.009227815084159374, 0.792542576789856, 0.0], [0.0009238098282366991, 0.003281167708337307, 0.0005999157438054681, 0.0023010659497231245, 0.005126649048179388, 0.00014692723925691098, 0.0004521585942711681, 0.9871683120727539, 0.0], [0.0021984875202178955, 0.007253697607666254, 0.0007133966428227723, 0.004320895299315453, 0.005967326927930117, 0.00015549793897662312, 0.0002669811074156314, 0.9791237115859985, 0.0]], [[0.007456254679709673, 0.14285118877887726, 0.009107501246035099, 0.01593688875436783, 0.02035382390022278, 0.0028016623109579086, 0.0042777894996106625, 0.7972148656845093, 0.0], [0.01949729211628437, 0.014325442723929882, 0.0639086663722992, 0.02584102749824524, 0.028857385739684105, 0.001936656073667109, 0.007946111261844635, 0.8376873731613159, 0.0], [0.004787852056324482, 0.017234405502676964, 0.00808787252753973, 0.1075650155544281, 0.020932834595441818, 0.006083475425839424, 0.009006267413496971, 0.8263023495674133, 0.0], [0.008531915955245495, 0.030951539054512978, 0.04262857139110565, 0.010879048146307468, 0.0733298659324646, 0.0063307262025773525, 0.014139299280941486, 0.8132089972496033, 0.0], [0.00487026060000062, 0.016089098528027534, 0.006010508630424738, 0.04998364672064781, 0.02481507882475853, 0.012965476140379906, 0.017555877566337585, 0.8677100539207458, 0.0], [0.0008116023964248598, 0.007685416378080845, 0.006059393752366304, 0.06453364342451096, 0.016190769150853157, 0.009754263795912266, 0.03579030558466911, 0.8591746091842651, 0.0], [0.004090255592018366, 0.012118171900510788, 0.002380045596510172, 0.016878405585885048, 0.01145442295819521, 0.01670430786907673, 0.008948738686740398, 0.9274256825447083, 0.0], [0.00013831359683535993, 0.001047008205205202, 0.0006872969097457826, 0.0014504592400044203, 0.0020427550189197063, 0.00027441440033726394, 0.00021508098870981485, 0.9941447377204895, 0.0], [0.00022914254805073142, 0.0020642683375626802, 0.0005782800726592541, 0.002174838213250041, 0.0019308467162773013, 0.00014202852617017925, 0.0001172056799987331, 0.992763340473175, 0.0]], [[0.01851704716682434, 0.01051325909793377, 0.011726749129593372, 0.016670050099492073, 0.016602369025349617, 0.0015704010147601366, 0.002418267074972391, 0.9219818711280823, 0.0], [0.10624030232429504, 0.009399842470884323, 0.020627181977033615, 0.00840042531490326, 0.004102638922631741, 0.008174259215593338, 0.004671861417591572, 0.8383834958076477, 0.0], [0.005889926105737686, 0.16493630409240723, 0.023129431530833244, 0.009332188405096531, 0.017360525205731392, 0.004496392328292131, 0.005293542984873056, 0.7695617079734802, 0.0], [0.00598836038261652, 0.013214590959250927, 0.08622252196073532, 0.015351480804383755, 0.02033437415957451, 0.001284502213820815, 0.0037528418470174074, 0.8538513779640198, 0.0], [0.004485324025154114, 0.005656546447426081, 0.010444432497024536, 0.22098127007484436, 0.011236390098929405, 0.005304633639752865, 0.002724127843976021, 0.7391672730445862, 0.0], [0.003017999930307269, 0.009448323398828506, 0.0030050056520849466, 0.009926454164087772, 0.16416369378566742, 0.013442210853099823, 0.0036323643289506435, 0.7933639287948608, 0.0], [0.0018254459137097, 0.01367349736392498, 0.0002954101946670562, 0.005424905568361282, 0.025476839393377304, 0.14769743382930756, 0.012034473940730095, 0.793571949005127, 0.0], [0.0004902015789411962, 0.0013012494891881943, 0.0007341228774748743, 0.0017564399167895317, 0.001060092938132584, 0.0002334576565772295, 0.0019056103192269802, 0.9925187826156616, 0.0], [0.0004687550535891205, 0.001744134584441781, 0.0007786498754285276, 0.0013107501436024904, 0.0007137136999517679, 0.00015506078489124775, 0.0006447048508562148, 0.9941841959953308, 0.0]], [[0.009645828045904636, 0.026887133717536926, 0.08102060854434967, 0.08730266988277435, 0.0456903874874115, 0.016938071697950363, 0.0029350186232477427, 0.729580283164978, 0.0], [0.015386897139251232, 0.015229126438498497, 0.01716230995953083, 0.04121062904596329, 0.07525626569986343, 0.027887465432286263, 0.0018261352088302374, 0.8060411214828491, 0.0], [0.05187153443694115, 0.013632627204060555, 0.006006333045661449, 0.01367124356329441, 0.03238306939601898, 0.0662594810128212, 0.007057970389723778, 0.8091177344322205, 0.0], [0.03988564386963844, 0.0510353185236454, 0.022000577300786972, 0.02402321994304657, 0.009325719438493252, 0.01730547472834587, 0.01974445953965187, 0.8166795969009399, 0.0], [0.014918632805347443, 0.0662417858839035, 0.024925269186496735, 0.011032532900571823, 0.01575404219329357, 0.0057418630458414555, 0.006338949780911207, 0.8550469279289246, 0.0], [0.001800236408598721, 0.024321522563695908, 0.020830800756812096, 0.04936649650335312, 0.03109847381711006, 0.001477811485528946, 0.0023034478072077036, 0.8688012361526489, 0.0], [0.0029686344787478447, 0.00686512840911746, 0.008972732350230217, 0.1923130452632904, 0.05723614990711212, 0.0032615484669804573, 0.0024486249312758446, 0.7259341478347778, 0.0], [0.0013038116740062833, 0.0017062285915017128, 0.0012921402230858803, 0.0011651746463030577, 0.0018800923135131598, 0.0010390988318249583, 0.0003512474650051445, 0.9912621974945068, 0.0], [0.0022013091947883368, 0.001618539565242827, 0.0010467426618561149, 0.0011091744527220726, 0.0019780679140239954, 0.001250176690518856, 0.0001363983319606632, 0.9906595945358276, 0.0]], [[0.0201546773314476, 0.06963133066892624, 0.012458357028663158, 0.012290148064494133, 0.0338284969329834, 0.0036112195812165737, 0.00275677558965981, 0.845268964767456, 0.0], [0.012497041374444962, 0.014466437511146069, 0.09328219294548035, 0.02810475416481495, 0.0224530640989542, 0.000744700722862035, 0.008057708851993084, 0.8203940391540527, 0.0], [0.010551484301686287, 0.009107982739806175, 0.027022361755371094, 0.10832364857196808, 0.024954903870821, 0.0027678522747009993, 0.004295589402318001, 0.8129761219024658, 0.0], [0.022416289895772934, 0.011951364576816559, 0.011804776266217232, 0.04053623229265213, 0.2505652606487274, 0.019866803660988808, 0.009729724377393723, 0.6331295371055603, 0.0], [0.0062362621538341045, 0.010979673825204372, 0.002312436467036605, 0.020846448838710785, 0.023875711485743523, 0.04155014827847481, 0.011424031108617783, 0.8827752470970154, 0.0], [0.004644498229026794, 0.009880218654870987, 0.0049367630854249, 0.007122177630662918, 0.025460902601480484, 0.007560846395790577, 0.049288999289274216, 0.891105592250824, 0.0], [0.004099688492715359, 0.006586066447198391, 0.001814653747715056, 0.0034431316889822483, 0.012667830102145672, 0.005284152925014496, 0.012107612565159798, 0.9539968967437744, 0.0], [0.00017012536409310997, 0.0008939224062487483, 0.0003570610424503684, 0.0008245101198554039, 0.004759080242365599, 0.0002664439962245524, 0.00010660326370270923, 0.9926222562789917, 0.0], [0.00019217294175177813, 0.0007283927407115698, 0.00019018474267795682, 0.0008517012465745211, 0.005549522582441568, 9.594613948138431e-05, 5.699706161976792e-05, 0.9923350214958191, 0.0]], [[0.027376996353268623, 0.032201606780290604, 0.0019899981562048197, 0.008865438401699066, 0.017885610461235046, 0.002852381905540824, 0.0008772119181230664, 0.907950758934021, 0.0], [0.06206472963094711, 0.005479990504682064, 0.0014400689397007227, 0.006875788327306509, 0.017009209841489792, 0.002784003969281912, 0.00031324930023401976, 0.9040330052375793, 0.0], [0.08423442393541336, 0.03923575580120087, 0.0011512420605868101, 0.014208642765879631, 0.008878162130713463, 0.0012522543547675014, 0.00035924784606322646, 0.8506803512573242, 0.0], [0.06046508997678757, 0.037817783653736115, 0.003717384533956647, 0.021662065759301186, 0.018160851672291756, 0.0007027775864116848, 0.00046491975081153214, 0.8570091724395752, 0.0], [0.011503971181809902, 0.04409725219011307, 0.005011227447539568, 0.037452612072229385, 0.01467384397983551, 0.0034658622462302446, 0.0037149512208998203, 0.8800802230834961, 0.0], [0.005664529744535685, 0.06834743171930313, 0.006894474849104881, 0.026721898466348648, 0.02596415765583515, 0.0014906978467479348, 0.0014941671397536993, 0.863422691822052, 0.0], [0.005536695476621389, 0.017198670655488968, 0.007660332135856152, 0.09787378460168839, 0.026748113334178925, 0.020809059962630272, 0.009139499627053738, 0.8150338530540466, 0.0], [0.0015635869931429625, 0.0011367257684469223, 2.608792965475004e-05, 0.0008143922896124423, 0.003591018496081233, 3.8515881897183135e-05, 1.6146434063557535e-05, 0.9928135275840759, 0.0], [0.0025543831288814545, 0.0015116542344912887, 2.185464109061286e-05, 0.0007871517445892096, 0.003182572778314352, 2.7098963983007707e-05, 8.610270924691577e-06, 0.9919066429138184, 0.0]], [[0.03614989295601845, 0.06278949230909348, 0.12652303278446198, 0.05286039039492607, 0.024236183613538742, 0.004993915092200041, 0.014107436873018742, 0.6783396601676941, 0.0], [0.004892418626695871, 0.008611498400568962, 0.042669910937547684, 0.09807988256216049, 0.05807005241513252, 0.010126597248017788, 0.018299954012036324, 0.7592496871948242, 0.0], [0.001549941604025662, 0.00555983604863286, 0.0029722219333052635, 0.021427003666758537, 0.14937961101531982, 0.05076758190989494, 0.014650396071374416, 0.7536934614181519, 0.0], [0.002512215869501233, 0.0036595165729522705, 0.0007422668859362602, 0.006204162258654833, 0.07252015173435211, 0.11109374463558197, 0.05753667280077934, 0.7457312941551208, 0.0], [0.0050852857530117035, 0.006982619408518076, 0.00205405056476593, 0.005263160448521376, 0.021374834701418877, 0.08103451877832413, 0.13399407267570496, 0.7442113757133484, 0.0], [0.003302175085991621, 0.012599275447428226, 0.003353092586621642, 0.007770265452563763, 0.015385588631033897, 0.012625599279999733, 0.03274708613753319, 0.9122169017791748, 0.0], [0.001463878434151411, 0.006428855936974287, 0.00521259568631649, 0.004551478195935488, 0.008257114328444004, 0.0047234524972736835, 0.01576969586312771, 0.9535928964614868, 0.0], [0.0006988248787820339, 0.00031467730877920985, 0.00042335555190220475, 0.0024814556818455458, 0.007574265822768211, 0.0011022057151421905, 0.0009031184599734843, 0.9865021109580994, 0.0], [0.00030910075292922556, 0.0002716558228712529, 0.0003050027007702738, 0.0031121608335524797, 0.011098519898951054, 0.0009162550559267402, 0.0006993162678554654, 0.9832879900932312, 0.0]]], [[[0.0027915253303945065, 0.050616465508937836, 0.018198661506175995, 0.01895286701619625, 0.006371527444571257, 0.004318739753216505, 0.011695853434503078, 0.8870543837547302, 0.0], [0.0019759577699005604, 0.006467735860496759, 0.2767632007598877, 0.004387059714645147, 0.0007458338513970375, 0.00038591603515669703, 0.0032598006073385477, 0.7060144543647766, 0.0], [0.0012707485584542155, 0.010495691560208797, 0.006442199926823378, 0.1376834660768509, 0.0040176622569561005, 0.004352486226707697, 0.0157750453799963, 0.8199626803398132, 0.0], [0.0017941247206181288, 0.010356608778238297, 0.004731117282062769, 0.002456143032759428, 0.08146917074918747, 0.00834702793508768, 0.0020447822753340006, 0.8888010382652283, 0.0], [0.00348247354850173, 0.014225480146706104, 0.001509610447101295, 0.0070510548539459705, 0.01437370851635933, 0.09985270351171494, 0.010165542364120483, 0.8493394255638123, 0.0], [0.008045919239521027, 0.007542060688138008, 0.004111044574528933, 0.009674846194684505, 0.004550375044345856, 0.009728392586112022, 0.06664591282606125, 0.8897014260292053, 0.0], [0.002625618362799287, 0.005922251380980015, 0.0015164759242907166, 0.002650067675858736, 0.003750093514099717, 0.017433403059840202, 0.011224277317523956, 0.9548777937889099, 0.0], [0.0005558761768043041, 0.001531958463601768, 0.001160302897915244, 0.0030323900282382965, 0.004296824336051941, 0.002680644392967224, 0.0016693215584382415, 0.985072672367096, 0.0], [0.000573394529055804, 0.0018162211636081338, 0.001552596571855247, 0.004380030557513237, 0.004265926778316498, 0.001635445049032569, 0.0011843966785818338, 0.9845920205116272, 0.0]], [[0.003871888853609562, 0.2497687190771103, 0.01651059277355671, 0.007687660399824381, 0.012747949920594692, 0.002835551043972373, 0.0075247022323310375, 0.6990528702735901, 0.0], [0.0015301121165975928, 0.005850393325090408, 0.02595159038901329, 0.2950977683067322, 0.005263383965939283, 0.002235466381534934, 0.002165094716474414, 0.6619061231613159, 0.0], [0.0006985099753364921, 0.007010727189481258, 0.01143074594438076, 0.011235722340643406, 0.02827143669128418, 0.006057284772396088, 0.005415475927293301, 0.9298800826072693, 0.0], [0.0007333795074373484, 0.025911808013916016, 0.020678134635090828, 0.004499292001128197, 0.023304225876927376, 0.0071489205583930016, 0.00457499735057354, 0.9131492376327515, 0.0], [0.0021411371417343616, 0.0006482505123130977, 0.0035130390897393227, 0.02341987006366253, 0.004093158524483442, 0.021489107981324196, 0.004119318909943104, 0.9405761361122131, 0.0], [0.00024896019021980464, 0.006471311207860708, 0.003035160480067134, 0.00405464181676507, 0.028622163459658623, 0.009955111891031265, 0.012875049374997616, 0.9347375631332397, 0.0], [0.002103908685967326, 0.0028387424536049366, 0.006578706670552492, 0.004676970653235912, 0.013360923156142235, 0.011052577756345272, 0.0024036853574216366, 0.9569844603538513, 0.0], [0.0002540729474276304, 0.0016922283684834838, 0.0018756571225821972, 0.005109373014420271, 0.004624255001544952, 0.002842488931491971, 0.0016465323278680444, 0.981955349445343, 0.0], [0.0002977143449243158, 0.0020927521400153637, 0.0025867202784866095, 0.006794265937060118, 0.005240767262876034, 0.0025565538089722395, 0.0013914004666730762, 0.9790398478507996, 0.0]], [[0.005265328101813793, 0.006344974506646395, 0.0008945164154283702, 0.007800351828336716, 0.016890766099095345, 0.016300691291689873, 0.003315350040793419, 0.9431880712509155, 0.0], [0.05664994567632675, 0.007747513707727194, 0.007825070060789585, 0.003699453780427575, 0.003551695728674531, 0.010439323261380196, 0.003929363563656807, 0.9061576128005981, 0.0], [0.005716606974601746, 0.12182588875293732, 0.01602497696876526, 0.005951174069195986, 0.003963912837207317, 0.0013194293715059757, 0.007038120646029711, 0.8381599187850952, 0.0], [0.0032976160291582346, 0.007953866384923458, 0.05247344821691513, 0.022531066089868546, 0.007698340807110071, 0.0003850519424304366, 0.007870352827012539, 0.897790253162384, 0.0], [0.0008800897048786283, 0.002103012753650546, 0.009418844245374203, 0.049327850341796875, 0.003985431045293808, 0.002233239822089672, 0.002783604897558689, 0.9292680025100708, 0.0], [0.0008445210405625403, 0.0010567331919446588, 0.0011073750210925937, 0.007163797039538622, 0.08824840933084488, 0.01615835539996624, 0.00527576357126236, 0.8801450729370117, 0.0], [0.0040530916303396225, 0.003787573892623186, 0.00014319409092422575, 0.01412623468786478, 0.05991946905851364, 0.11631210893392563, 0.007853523828089237, 0.7938047647476196, 0.0], [0.0020659705623984337, 0.002916343044489622, 0.004269586410373449, 0.004344424698501825, 0.004784072749316692, 0.004677900578826666, 0.009341821074485779, 0.9675998687744141, 0.0], [0.0030287746340036392, 0.005275943782180548, 0.004758775699883699, 0.003284275531768799, 0.0032299768645316362, 0.003550393506884575, 0.007915277034044266, 0.9689565896987915, 0.0]], [[0.0017981581622734666, 0.07398653030395508, 0.036526817828416824, 0.019149374216794968, 0.16676975786685944, 0.010220076888799667, 0.0035264277830719948, 0.6880228519439697, 0.0], [0.0025999583303928375, 0.016488762572407722, 0.07974620163440704, 0.04320424795150757, 0.015255718491971493, 0.053865429013967514, 0.0020790910348296165, 0.7867605686187744, 0.0], [0.024227475747466087, 0.00656643183901906, 0.003079986898228526, 0.008516883477568626, 0.03564407303929329, 0.0037518914323300123, 0.020945502445101738, 0.8972676992416382, 0.0], [0.002174090128391981, 0.024975817650556564, 0.006381757091730833, 0.004682866390794516, 0.007863066159188747, 0.029226599261164665, 0.012804643251001835, 0.9118911623954773, 0.0], [0.001881247153505683, 0.0019735645037144423, 0.032456062734127045, 0.010804757475852966, 0.005934939719736576, 0.024847541004419327, 0.007206960581243038, 0.9148949980735779, 0.0], [0.003162141889333725, 0.004344395361840725, 0.012060953304171562, 0.029406199231743813, 0.04763822630047798, 0.012461076490581036, 0.03561361879110336, 0.8553133606910706, 0.0], [0.0012321742251515388, 0.011182775720953941, 0.0038238053675740957, 0.016439465805888176, 0.02251237817108631, 0.01075577549636364, 0.0033895892556756735, 0.9306640028953552, 0.0], [0.000484548945678398, 0.002395718125626445, 0.0025354395620524883, 0.003055889392271638, 0.0059535265900194645, 0.0036373555194586515, 0.0017849468858912587, 0.9801525473594666, 0.0], [0.0006597937317565084, 0.002698916709050536, 0.002554824808612466, 0.0035910785663872957, 0.006083521526306868, 0.003602743148803711, 0.0016168701695278287, 0.9791922569274902, 0.0]], [[0.01501019299030304, 0.002845661249011755, 0.0467241033911705, 0.05849296599626541, 0.107782743871212, 0.017797213047742844, 0.003036028705537319, 0.7483111023902893, 0.0], [0.002001585904508829, 0.002612170297652483, 0.0020253134425729513, 0.026367956772446632, 0.26031196117401123, 0.009930195286870003, 0.00543853547424078, 0.6913122534751892, 0.0], [0.01046040840446949, 0.0020403238013386726, 0.0005907183513045311, 0.014520305208861828, 0.048084985464811325, 0.04973195120692253, 0.002432741690427065, 0.8721385598182678, 0.0], [0.02847186289727688, 0.016450906172394753, 0.003154470818117261, 0.020995937287807465, 0.005998946726322174, 0.005748855881392956, 0.007126561366021633, 0.9120524525642395, 0.0], [0.0030284645035862923, 0.040441352874040604, 0.010255697183310986, 0.004841612186282873, 0.002899449784308672, 0.002367623383179307, 0.018489453941583633, 0.9176763296127319, 0.0], [0.0017708067316561937, 0.003763073356822133, 0.01443635206669569, 0.01722417213022709, 0.004674031399190426, 0.0018289696890860796, 0.004151900298893452, 0.9521507620811462, 0.0], [0.0005974502419121563, 0.00118457549251616, 0.001725445850752294, 0.009994102641940117, 0.018265673890709877, 0.00646050414070487, 0.004893250297755003, 0.9568790197372437, 0.0], [0.0011214741971343756, 0.0051929340697824955, 0.001193306758068502, 0.0021127203945070505, 0.010055391117930412, 0.002375248121097684, 0.004761006683111191, 0.9731878638267517, 0.0], [0.0017224738840013742, 0.004596530459821224, 0.0009338529780507088, 0.002394990064203739, 0.014222517609596252, 0.003389134770259261, 0.003751312382519245, 0.9689891934394836, 0.0]], [[0.021451283246278763, 0.13179931044578552, 0.011362872086465359, 0.0073281037621200085, 0.003960355184972286, 0.0021914481185376644, 0.007524017710238695, 0.8143825531005859, 0.0], [0.0004978417418897152, 0.006556212902069092, 0.04678443819284439, 0.01060404721647501, 0.04118916392326355, 0.00031718998798169196, 0.0014106949092820287, 0.8926404118537903, 0.0], [0.0007793499389663339, 0.0028512966819107533, 0.006401699967682362, 0.0562111958861351, 0.025915151461958885, 0.001366378623060882, 0.003500149818137288, 0.9029747843742371, 0.0], [0.0028998011257499456, 0.005978183355182409, 0.0016938337357714772, 0.004490477964282036, 0.15655000507831573, 0.007417277432978153, 0.004423741716891527, 0.8165466785430908, 0.0], [0.0007791569223627448, 0.004195305053144693, 0.0006152585847303271, 0.003434550715610385, 0.0050958567298948765, 0.05818697437644005, 0.0077903177589178085, 0.9199025630950928, 0.0], [0.00285476166754961, 0.004078818950802088, 0.0007283801678568125, 0.004853087477385998, 0.006708165630698204, 0.009578180499374866, 0.1472344696521759, 0.8239641785621643, 0.0], [0.005603400524705648, 0.014578606933355331, 0.00481213815510273, 0.004589952994138002, 0.0020990921184420586, 0.0076896133832633495, 0.016214510425925255, 0.9444127082824707, 0.0], [0.0011164461029693484, 0.003279933240264654, 0.0017396027687937021, 0.0029572173953056335, 0.00698115723207593, 0.00430833688005805, 0.0019603644032031298, 0.977656900882721, 0.0], [0.0007800396997481585, 0.0031251395121216774, 0.0022150487639009953, 0.004670003429055214, 0.008577872067689896, 0.0027916706167161465, 0.0011726187076419592, 0.9766676425933838, 0.0]], [[0.004530205857008696, 0.0011802965309470892, 0.0026165477465838194, 0.003673253348097205, 0.08526653796434402, 0.03563104197382927, 0.04782875254750252, 0.8192733526229858, 0.0], [0.018359322100877762, 0.0030991153325885534, 0.0010755887487903237, 0.0018240307690575719, 0.002795272506773472, 0.01907879114151001, 0.01989663951098919, 0.9338712692260742, 0.0], [0.08022858202457428, 0.010565669275820255, 0.0030610805843025446, 0.00424110796302557, 0.010647638700902462, 0.0039141178131103516, 0.009932979941368103, 0.8774088025093079, 0.0], [0.015795260667800903, 0.14065437018871307, 0.016844071447849274, 0.006422355771064758, 0.004133273381739855, 0.0008748007821850479, 0.008128557354211807, 0.8071472644805908, 0.0], [0.004438004922121763, 0.015628401190042496, 0.08470674604177475, 0.012205323204398155, 0.010831430554389954, 0.0006749042076990008, 0.006720787845551968, 0.8647944331169128, 0.0], [0.0008247466175816953, 0.0042095729149878025, 0.014585443772375584, 0.08679056912660599, 0.02300211414694786, 0.004221935290843248, 0.0013610993046313524, 0.8650045394897461, 0.0], [0.003291295375674963, 0.002258456079289317, 0.004583908244967461, 0.026855118572711945, 0.13398583233356476, 0.02759764902293682, 0.004597170744091272, 0.7968305349349976, 0.0], [0.0017198041314259171, 0.003241518745198846, 0.0028692339546978474, 0.005095453467220068, 0.00743623124435544, 0.006933319848030806, 0.00934051163494587, 0.9633639454841614, 0.0], [0.0032940104138106108, 0.003416577121242881, 0.001700628432445228, 0.0033788762520998716, 0.005709515418857336, 0.0068205855786800385, 0.008251810446381569, 0.9674280285835266, 0.0]], [[0.00381774315610528, 0.07094961404800415, 0.04311571642756462, 0.03270943462848663, 0.016468504443764687, 0.0023284272756427526, 0.005709366872906685, 0.8249011635780334, 0.0], [0.017402222380042076, 0.006709027569741011, 0.015726812183856964, 0.04796534776687622, 0.0350969024002552, 0.0015322051476687193, 0.010200823657214642, 0.8653666377067566, 0.0], [0.005233787000179291, 0.11592508852481842, 0.006322537083178759, 0.0566486194729805, 0.11141721159219742, 0.0026407905388623476, 0.007840116508305073, 0.6939718127250671, 0.0], [0.01538387592881918, 0.015103533864021301, 0.007896172814071178, 0.009048670530319214, 0.04966510832309723, 0.0024268263950943947, 0.004949184600263834, 0.8955267071723938, 0.0], [0.011527442373335361, 0.004882473964244127, 0.0038543830160051584, 0.07340788096189499, 0.02275381237268448, 0.015047155320644379, 0.026240142062306404, 0.8422867059707642, 0.0], [0.0013624648563563824, 0.006087311077862978, 0.0025339839048683643, 0.033432282507419586, 0.04565528407692909, 0.05340858921408653, 0.030408456921577454, 0.8271116018295288, 0.0], [0.0008738341857679188, 0.0030243920627981424, 0.0005289425607770681, 0.015835290774703026, 0.06516890227794647, 0.041334737092256546, 0.011063405312597752, 0.8621704578399658, 0.0], [0.0003241034864913672, 0.0016860479954630136, 0.0010600980604067445, 0.003252627793699503, 0.0066440291702747345, 0.0012631752761080861, 0.0015786167932674289, 0.9841912984848022, 0.0], [0.0005355799221433699, 0.0027598494198173285, 0.001369177596643567, 0.005079435184597969, 0.008119627833366394, 0.0010928487172350287, 0.0012023337185382843, 0.9798411130905151, 0.0]]], [[[0.0018548760563135147, 0.002861026441678405, 0.004831510130316019, 0.007525406777858734, 0.05621568486094475, 0.012518814764916897, 0.0050843749195337296, 0.9091083407402039, 0.0], [0.006107337772846222, 0.0040931738913059235, 0.005238785408437252, 0.002625427208840847, 0.017818907275795937, 0.016193334013223648, 0.008314653299748898, 0.9396083354949951, 0.0], [0.046602874994277954, 0.0015281492378562689, 0.021493222564458847, 0.002476965542882681, 0.00870895478874445, 0.003903032513335347, 0.0014446640852838755, 0.9138420820236206, 0.0], [0.0030450376216322184, 0.062338899821043015, 0.05899573490023613, 0.007675107102841139, 0.0012015898246318102, 0.006274808198213577, 0.00535596301779151, 0.8551127910614014, 0.0], [0.0010944424429908395, 0.012010622769594193, 0.059417326003313065, 0.012767884880304337, 0.0032426174730062485, 0.001311154686845839, 0.007616178132593632, 0.9025397896766663, 0.0], [0.0007191530894488096, 0.0019969434943050146, 0.02927268110215664, 0.017442578449845314, 0.019630566239356995, 0.0055671329610049725, 0.0007911660941317677, 0.9245797991752625, 0.0], [0.000985901104286313, 0.0005716932937502861, 0.0020955675281584263, 0.006507915910333395, 0.1046571359038353, 0.011225560680031776, 0.0025574914179742336, 0.8713987469673157, 0.0], [0.0026195652317255735, 0.0046700891107320786, 0.009927792474627495, 0.014859350398182869, 0.04544001445174217, 0.03208578750491142, 0.05954068526625633, 0.8308567404747009, 0.0], [0.003263024613261223, 0.00466102035716176, 0.008494778536260128, 0.012500474229454994, 0.04272168129682541, 0.034267909824848175, 0.05772855877876282, 0.8363626003265381, 0.0]], [[0.002647607820108533, 0.0070641664788126945, 0.0020361102651804686, 0.030575944110751152, 0.01065432745963335, 0.00881655141711235, 0.0016024467768147588, 0.936602771282196, 0.0], [0.02249765954911709, 0.012596404179930687, 0.004388862289488316, 0.004805960692465305, 0.003705317620187998, 0.009289680048823357, 0.0036336504854261875, 0.9390825033187866, 0.0], [0.0016638519009575248, 0.04812515154480934, 0.021091265603899956, 0.0055088382214307785, 0.0064656734466552734, 0.004854450933635235, 0.00220564310438931, 0.910085141658783, 0.0], [0.000935319229029119, 0.0012410953640937805, 0.05677327886223793, 0.019723588600754738, 0.001434630830772221, 0.0012309426674619317, 0.00256327074021101, 0.9160978198051453, 0.0], [0.0012221201322972775, 0.0023393796291202307, 0.014674479141831398, 0.10696040093898773, 0.02276402711868286, 0.00430965656414628, 0.0017287223599851131, 0.8460012078285217, 0.0], [0.001349327969364822, 0.0029787037055939436, 0.003366635413840413, 0.008906546048820019, 0.06334623694419861, 0.012679590843617916, 0.0022239668760448694, 0.9051490426063538, 0.0], [0.005630579311400652, 0.0009308304288424551, 0.0008351791184395552, 0.003235215786844492, 0.012095564976334572, 0.1294420212507248, 0.0076868836767971516, 0.8401436805725098, 0.0], [0.002497212728485465, 0.002398850629106164, 0.011956235393881798, 0.008781902492046356, 0.01621514931321144, 0.027266427874565125, 0.06890076398849487, 0.8619834780693054, 0.0], [0.0026543813291937113, 0.0026667022611945868, 0.011836400255560875, 0.007750580087304115, 0.014084532856941223, 0.02436385117471218, 0.06830962002277374, 0.8683339357376099, 0.0]], [[0.02558172307908535, 0.02408337965607643, 0.005377933848649263, 0.04514813795685768, 0.018039520829916, 0.004798450507223606, 0.010902371257543564, 0.8660685420036316, 0.0], [0.005334846675395966, 0.0007815384306013584, 0.0034772211220115423, 0.005937517154961824, 0.01236055325716734, 0.0007449118420481682, 0.001689523458480835, 0.9696738719940186, 0.0], [0.008244127966463566, 0.039433520287275314, 0.003916864283382893, 0.008092358708381653, 0.0417327880859375, 0.0026199996937066317, 0.006294316612184048, 0.8896660804748535, 0.0], [0.005665309727191925, 0.0014719548635184765, 0.0021607354283332825, 0.025477835908532143, 0.14044688642024994, 0.0011837048223242164, 0.007237488403916359, 0.8163560628890991, 0.0], [0.001569629181176424, 0.002863195724785328, 0.0570196732878685, 0.03704330325126648, 0.0007331734523177147, 0.07489702105522156, 0.03944365680217743, 0.7864303588867188, 0.0], [0.0025485092774033546, 0.005160126369446516, 0.004625328816473484, 0.005752114113420248, 0.07975058257579803, 0.039497435092926025, 0.04848799854516983, 0.8141778707504272, 0.0], [0.0008626548806205392, 0.00021699345961678773, 0.0055845691822469234, 0.0002240924077341333, 0.04929887875914574, 0.0839877799153328, 0.005004122853279114, 0.8548209071159363, 0.0], [0.00284586101770401, 0.0020854021422564983, 0.015611144714057446, 0.0030667914543300867, 0.012038946151733398, 0.026577429845929146, 0.04830359295010567, 0.8894708156585693, 0.0], [0.0032394893933087587, 0.002320708241313696, 0.016012093052268028, 0.003202972700819373, 0.01216385792940855, 0.025189770385622978, 0.046507492661476135, 0.8913636207580566, 0.0]], [[0.014399734325706959, 0.02844618633389473, 0.009163238108158112, 0.058159247040748596, 0.011304006911814213, 0.009559497237205505, 0.00028834465774707496, 0.8686798214912415, 0.0], [0.08606042712926865, 0.0033040300477296114, 0.005856208968907595, 0.004138526041060686, 0.0065077212639153, 0.005301649682223797, 0.0031818212009966373, 0.885649561882019, 0.0], [0.004660776350647211, 0.05245204269886017, 0.01652878150343895, 0.003461205866187811, 0.008330892771482468, 0.002588753355666995, 0.0049430509097874165, 0.9070345163345337, 0.0], [0.004976159892976284, 0.006016547325998545, 0.08246520906686783, 0.013958380557596684, 0.00349253648892045, 0.00018839006952475756, 0.003712090663611889, 0.8851907253265381, 0.0], [0.00032070197630673647, 0.0011187952477484941, 0.012491033412516117, 0.4556606113910675, 0.007931782864034176, 0.01460694894194603, 0.0043749441392719746, 0.5034951567649841, 0.0], [0.0015943273901939392, 0.0011882444377988577, 0.0006968275993131101, 0.010454757139086723, 0.0743957906961441, 0.017874309793114662, 0.004216304048895836, 0.8895794749259949, 0.0], [0.0024382525589317083, 0.005546146538108587, 7.347141217906028e-05, 0.010356789454817772, 0.06900123506784439, 0.03935088962316513, 0.004411744419485331, 0.868821382522583, 0.0], [0.003663556184619665, 0.0036303242668509483, 0.006304402370005846, 0.04873830825090408, 0.026425417512655258, 0.030981579795479774, 0.09885723143815994, 0.7813991904258728, 0.0], [0.004134987015277147, 0.004563967697322369, 0.006321918684989214, 0.04162305220961571, 0.021892288699746132, 0.028884267434477806, 0.10049741715192795, 0.7920820713043213, 0.0]], [[0.004483578260987997, 0.04377297684550285, 0.05372508242726326, 0.01689450815320015, 0.013279425911605358, 0.006325123365968466, 0.007474383804947138, 0.8540448546409607, 0.0], [0.002311994321644306, 0.012745563872158527, 0.04673255607485771, 0.02328512817621231, 0.013978852890431881, 0.006749048829078674, 0.0708228349685669, 0.8233739733695984, 0.0], [0.0076003167778253555, 0.029847925528883934, 0.002012368757277727, 0.06754028797149658, 0.02877499908208847, 0.0024383647833019495, 0.02595643885433674, 0.8358292579650879, 0.0], [0.0011482067639008164, 0.006132904440164566, 0.005484743509441614, 0.00856288243085146, 0.01241245400160551, 0.017709584906697273, 0.0026853508315980434, 0.9458639025688171, 0.0], [0.001958186738193035, 0.0005764294182881713, 0.0038176747038960457, 0.0863003358244896, 0.015933239832520485, 0.12609009444713593, 0.004969912115484476, 0.7603541016578674, 0.0], [0.00020486197900027037, 0.004752629436552525, 0.001484669977799058, 0.023703135550022125, 0.00732350954785943, 0.004037150647491217, 0.1061270460486412, 0.8523669838905334, 0.0], [0.0006072674295864999, 0.00361602078191936, 0.003090726211667061, 0.0018901656148955226, 0.005785238463431597, 0.018814094364643097, 0.010359351523220539, 0.955837070941925, 0.0], [0.0017480440437793732, 0.005963433999568224, 0.008799228817224503, 0.017988255247473717, 0.013334409333765507, 0.011584058403968811, 0.009416443295776844, 0.9311661720275879, 0.0], [0.0018809845205396414, 0.006468234583735466, 0.009241628460586071, 0.018962254747748375, 0.013635686598718166, 0.010865922085940838, 0.009052232839167118, 0.9298930764198303, 0.0]], [[0.01711767166852951, 0.0037624335382133722, 0.03132336586713791, 0.09966239333152771, 0.017203476279973984, 0.024028554558753967, 0.0015441401628777385, 0.8053579926490784, 0.0], [0.007764886599034071, 0.0020051980391144753, 0.0020941265393048525, 0.012585782445967197, 0.05488519370555878, 0.01593008264899254, 0.0006145809311419725, 0.9041202068328857, 0.0], [0.0010560392402112484, 0.0012658580671995878, 0.027416370809078217, 0.009546887129545212, 0.01085919514298439, 0.08717402815818787, 0.08160509914159775, 0.7810765504837036, 0.0], [0.000422317796619609, 0.027309158816933632, 0.03175647556781769, 0.021383313462138176, 0.0056540025398135185, 0.03922165185213089, 0.004395460244268179, 0.869857668876648, 0.0], [0.014951517805457115, 0.01884707808494568, 0.0012142057530581951, 0.006922990083694458, 0.10350389033555984, 0.0045984117314219475, 0.009084117598831654, 0.8408778309822083, 0.0], [0.00028332037618383765, 0.0017475233180448413, 0.014350366778671741, 0.002956469776108861, 0.008568043820559978, 0.011403561569750309, 0.004716348834335804, 0.9559743404388428, 0.0], [0.0008144647581502795, 0.003971082624047995, 0.011982136406004429, 0.016505736857652664, 0.002278441097587347, 0.003837788011878729, 0.00931218359619379, 0.951298177242279, 0.0], [0.0025589861907064915, 0.009764263406395912, 0.010466896928846836, 0.009262281470000744, 0.010325695388019085, 0.01447649858891964, 0.031078172847628593, 0.9120671153068542, 0.0], [0.0026276179123669863, 0.008669386617839336, 0.01018714252859354, 0.010116771794855595, 0.01071107480674982, 0.01601269096136093, 0.032688867300748825, 0.9089864492416382, 0.0]], [[0.006042556371539831, 0.08247068524360657, 0.008275010623037815, 0.007345386315137148, 0.004627184476703405, 0.00527125084772706, 0.01231714803725481, 0.8736507892608643, 0.0], [0.001059369184076786, 0.006590271834284067, 0.09386400878429413, 0.002496382687240839, 0.010350273922085762, 0.0006363344728015363, 0.0012428462505340576, 0.8837605118751526, 0.0], [0.0011617469135671854, 0.002494239713996649, 0.0034868267830461264, 0.1515452265739441, 0.01370252389460802, 0.0017706857761368155, 0.0013183181872591376, 0.8245204091072083, 0.0], [0.005244460888206959, 0.0008886182331480086, 0.008660737425088882, 0.0036640057805925608, 0.13523855805397034, 0.005496105644851923, 0.0005710433470085263, 0.8402364253997803, 0.0], [0.0008602376910857856, 0.00904645211994648, 0.002445235149934888, 0.001549634849652648, 0.005999348126351833, 0.22174371778964996, 0.005965336691588163, 0.7523900270462036, 0.0], [0.0019199696835130453, 0.0033868735190480947, 0.0021653862204402685, 0.00376985059119761, 0.0026896607596427202, 0.012845330871641636, 0.17245535552501678, 0.8007675409317017, 0.0], [0.0007687798934057355, 0.005241393577307463, 0.002694835187867284, 0.002193479100242257, 0.0063689155504107475, 0.006593251600861549, 0.011825046502053738, 0.964314341545105, 0.0], [0.011722211726009846, 0.00755958491936326, 0.008491866290569305, 0.007974289357662201, 0.02694448083639145, 0.010356082580983639, 0.002846629125997424, 0.9241048693656921, 0.0], [0.01029165368527174, 0.00799936056137085, 0.009411816485226154, 0.009987454861402512, 0.025453567504882812, 0.008198780938982964, 0.0024163899943232536, 0.9262409806251526, 0.0]], [[0.007459969259798527, 0.008714204654097557, 0.02635175734758377, 0.00314122112467885, 0.005256625823676586, 0.06425759941339493, 0.01721583679318428, 0.8676027655601501, 0.0], [0.0033947229385375977, 0.004060268867760897, 0.005821122322231531, 0.00945256557315588, 0.011781349778175354, 0.0043143052607774734, 0.008755510672926903, 0.9524201154708862, 0.0], [0.044172316789627075, 0.023362034931778908, 0.017468610778450966, 0.006122624967247248, 0.019059818238019943, 0.01553729735314846, 0.003582895966246724, 0.8706944584846497, 0.0], [0.03044181689620018, 0.005248830653727055, 0.004083688370883465, 0.002090763533487916, 0.06409629434347153, 0.0038117924705147743, 0.001736196456477046, 0.888490617275238, 0.0], [0.0012497897259891033, 0.0015077247517183423, 0.0011972931679338217, 0.0343719907104969, 0.05540270730853081, 0.006372845731675625, 0.007413407787680626, 0.892484188079834, 0.0], [0.0014152884250506759, 0.0016148894792422652, 0.006405464373528957, 0.026226302608847618, 0.006539750844240189, 0.007012894377112389, 0.010548615828156471, 0.9402367472648621, 0.0], [0.002790699480101466, 0.0013892797287553549, 0.0026729670353233814, 0.0024124570190906525, 0.0327695831656456, 0.007693249266594648, 0.008289690129458904, 0.9419820308685303, 0.0], [0.0019220366375520825, 0.004330570809543133, 0.005054148379713297, 0.021266840398311615, 0.030727382749319077, 0.012342961505055428, 0.046145688742399216, 0.8782103061676025, 0.0], [0.0021264422684907913, 0.00471083726733923, 0.005357358604669571, 0.02083231694996357, 0.02946498990058899, 0.012748613953590393, 0.04464978724718094, 0.8801096081733704, 0.0]]]], \"left_text\": [\"E\", \"Q\", \"V\", \"T\", \"N\", \"V\", \"G\", \"<eos>\", \"<pad>\"], \"right_text\": [\"E\", \"Q\", \"V\", \"T\", \"N\", \"V\", \"G\", \"<eos>\", \"<pad>\"]}, {\"name\": \"Decoder\", \"attn\": [[[[1.0, 0.0, 0.0, 0.0, 0.0, 0.0, 0.0, 0.0], [1.0, 1.3751132945109188e-35, 0.0, 0.0, 0.0, 0.0, 0.0, 0.0], [0.0, 0.0, 1.0, 0.0, 0.0, 0.0, 0.0, 0.0], [0.0, 0.0, 1.0, 4.4060632286751624e-17, 0.0, 0.0, 0.0, 0.0], [0.0, 0.0, 2.0303143465057505e-23, 4.246482310655685e-37, 1.0, 0.0, 0.0, 0.0], [0.0, 0.0, 0.0, 0.0, 1.0, 0.0, 0.0, 0.0], [0.0, 0.0, 0.0, 0.0, 0.0, 0.0, 1.0, 0.0], [0.0, 0.0, 0.0, 0.0, 0.0, 0.0, 5.918524248621815e-31, 1.0]], [[1.0, 0.0, 0.0, 0.0, 0.0, 0.0, 0.0, 0.0], [1.0, 0.0, 0.0, 0.0, 0.0, 0.0, 0.0, 0.0], [0.0, 1.0, 0.0, 0.0, 0.0, 0.0, 0.0, 0.0], [0.0, 0.0, 1.0, 1.401298464324817e-45, 0.0, 0.0, 0.0, 0.0], [0.0, 0.0, 0.0, 1.0, 0.0, 0.0, 0.0, 0.0], [0.0, 0.0, 0.0, 2.802596928649634e-45, 1.0, 0.0, 0.0, 0.0], [0.0, 0.0, 0.0, 0.0, 0.0, 1.0, 0.0, 0.0], [0.0, 0.0, 0.0, 0.0, 0.0, 0.0, 1.0, 0.0]], [[1.0, 0.0, 0.0, 0.0, 0.0, 0.0, 0.0, 0.0], [0.9932088255882263, 0.0067911637015640736, 0.0, 0.0, 0.0, 0.0, 0.0, 0.0], [0.22654198110103607, 0.7454136610031128, 0.028044406324625015, 0.0, 0.0, 0.0, 0.0, 0.0], [0.04117241129279137, 0.044268421828746796, 0.8608278632164001, 0.053731389343738556, 0.0, 0.0, 0.0, 0.0], [0.01330542005598545, 0.001368849421851337, 0.1566973477602005, 0.7999187707901001, 0.02870960161089897, 0.0, 0.0, 0.0], [0.008237672969698906, 2.7061272703576833e-05, 0.0011693235719576478, 0.09571829438209534, 0.8481020331382751, 0.046745575964450836, 0.0, 0.0], [0.009078802540898323, 8.730989975447301e-07, 5.869722826901125e-06, 0.0003640104259829968, 0.0742054432630539, 0.7811369895935059, 0.13520798087120056, 0.0], [0.004875240381807089, 5.527743383026973e-07, 8.739606016661128e-08, 8.850443009578157e-07, 0.0002937337849289179, 0.02848631702363491, 0.9134148955345154, 0.05292823538184166]], [[1.0, 0.0, 0.0, 0.0, 0.0, 0.0, 0.0, 0.0], [1.0, 0.0, 0.0, 0.0, 0.0, 0.0, 0.0, 0.0], [0.0, 5.749118644180896e-37, 1.0, 0.0, 0.0, 0.0, 0.0, 0.0], [0.0, 0.0, 0.0, 1.0, 0.0, 0.0, 0.0, 0.0], [0.0, 0.0, 0.0, 0.0, 1.0, 0.0, 0.0, 0.0], [0.0, 0.0, 0.0, 0.0, 0.0, 1.0, 0.0, 0.0], [0.0, 0.0, 0.0, 0.0, 0.0, 0.0, 1.0, 0.0], [0.0, 0.0, 0.0, 0.0, 0.0, 0.0, 0.0, 1.0]], [[1.0, 0.0, 0.0, 0.0, 0.0, 0.0, 0.0, 0.0], [0.9997062087059021, 0.00029373078723438084, 0.0, 0.0, 0.0, 0.0, 0.0, 0.0], [0.9873046278953552, 0.01268297340720892, 1.2408178918121848e-05, 0.0, 0.0, 0.0, 0.0, 0.0], [0.0683666318655014, 0.8978580832481384, 0.03347519785165787, 0.00030009570764377713, 0.0, 0.0, 0.0, 0.0], [8.799839633866213e-06, 0.009379846975207329, 0.959180474281311, 0.03142998740077019, 9.285618034482468e-07, 0.0, 0.0, 0.0], [4.0733480477506134e-10, 1.0142993005501921e-06, 0.05383266508579254, 0.942733645439148, 0.003432667814195156, 8.352016322987765e-08, 0.0, 0.0], [1.957425725884765e-18, 9.138865049240037e-16, 1.7846457645021019e-09, 0.006382146384567022, 0.9914432168006897, 0.0021747068967670202, 1.4583478868956945e-09, 0.0], [4.1576008822599565e-27, 5.1846893067659586e-27, 2.1376592694486346e-21, 2.3420421851882978e-11, 0.005650314502418041, 0.9899404644966125, 0.004409240558743477, 3.6123739416416e-11]], [[1.0, 0.0, 0.0, 0.0, 0.0, 0.0, 0.0, 0.0], [1.0, 5.3252078772607445e-36, 0.0, 0.0, 0.0, 0.0, 0.0, 0.0], [8.756714103565782e-42, 1.0, 1.4804437750134928e-22, 0.0, 0.0, 0.0, 0.0, 0.0], [0.0, 7.394565651016016e-27, 1.0, 4.0842737447273315e-20, 0.0, 0.0, 0.0, 0.0], [0.0, 0.0, 8.104481066574786e-33, 1.0, 5.125351179094811e-19, 0.0, 0.0, 0.0], [0.0, 0.0, 0.0, 4.9498503758609025e-23, 1.0, 2.3404335173989144e-26, 0.0, 0.0], [0.0, 0.0, 0.0, 0.0, 9.389867381291088e-16, 1.0, 7.951543505840824e-19, 0.0], [0.0, 0.0, 0.0, 0.0, 0.0, 0.0, 1.0, 5.149169298054043e-40]], [[1.0, 0.0, 0.0, 0.0, 0.0, 0.0, 0.0, 0.0], [0.0, 1.0, 0.0, 0.0, 0.0, 0.0, 0.0, 0.0], [0.0, 1.0, 0.0, 0.0, 0.0, 0.0, 0.0, 0.0], [0.0, 1.0, 0.0, 0.0, 0.0, 0.0, 0.0, 0.0], [0.0, 0.0, 0.0, 0.0, 1.0, 0.0, 0.0, 0.0], [0.0, 0.0, 0.0, 0.0, 0.0, 1.0, 0.0, 0.0], [0.0, 0.0, 0.0, 0.0, 0.0, 1.0, 3.023018477626566e-35, 0.0], [0.0, 0.0, 0.0, 0.0, 0.0, 1.0, 6.402665661412319e-26, 0.0]], [[1.0, 0.0, 0.0, 0.0, 0.0, 0.0, 0.0, 0.0], [0.31315580010414124, 0.6868441700935364, 0.0, 0.0, 0.0, 0.0, 0.0, 0.0], [0.31578540802001953, 0.011760846711695194, 0.6724537014961243, 0.0, 0.0, 0.0, 0.0, 0.0], [0.40160834789276123, 0.005151915829628706, 0.07794369757175446, 0.5152960419654846, 0.0, 0.0, 0.0, 0.0], [0.42544811964035034, 0.004707967862486839, 0.051090508699417114, 0.15348151326179504, 0.3652719557285309, 0.0, 0.0, 0.0], [0.43328234553337097, 0.007426020223647356, 0.055265218019485474, 0.0620543509721756, 0.14537082612514496, 0.29660120606422424, 0.0, 0.0], [0.47264721989631653, 0.009583023376762867, 0.06695263832807541, 0.0687074139714241, 0.07377822697162628, 0.08100741356611252, 0.2273240089416504, 0.0], [0.3449081480503082, 0.013796275481581688, 0.05823880061507225, 0.09332268685102463, 0.04916948452591896, 0.032639384269714355, 0.08884558081626892, 0.31907960772514343]]], [[[1.0, 0.0, 0.0, 0.0, 0.0, 0.0, 0.0, 0.0], [0.9925340414047241, 0.007465919945389032, 0.0, 0.0, 0.0, 0.0, 0.0, 0.0], [0.9438528418540955, 0.049248240888118744, 0.006898933555930853, 0.0, 0.0, 0.0, 0.0, 0.0], [0.9129356741905212, 0.06138012930750847, 0.012881590984761715, 0.012802548706531525, 0.0, 0.0, 0.0, 0.0], [0.9824932813644409, 0.003159251296892762, 0.0030438615940511227, 0.003484707558527589, 0.00781880784779787, 0.0, 0.0, 0.0], [0.38225647807121277, 0.00033318373607471585, 0.010907383635640144, 0.1999835968017578, 0.3938804268836975, 0.012638832442462444, 0.0, 0.0], [0.4957408905029297, 0.0015448570484295487, 0.0007428014650940895, 0.281386137008667, 0.08908736705780029, 0.06571123749017715, 0.0657866969704628, 0.0], [0.7562954425811768, 0.006367218680679798, 0.003688866039738059, 0.009020513854920864, 0.04937279596924782, 0.0817592442035675, 0.0731469914317131, 0.020348893478512764]], [[1.0, 0.0, 0.0, 0.0, 0.0, 0.0, 0.0, 0.0], [0.9933788776397705, 0.0066211046651005745, 0.0, 0.0, 0.0, 0.0, 0.0, 0.0], [0.9237172603607178, 0.07194191962480545, 0.004340823274105787, 0.0, 0.0, 0.0, 0.0, 0.0], [0.9116879105567932, 0.02339426800608635, 0.03959384188055992, 0.025324011221528053, 0.0, 0.0, 0.0, 0.0], [0.6245944499969482, 0.02066783234477043, 0.041372332721948624, 0.2941748797893524, 0.019190458580851555, 0.0, 0.0, 0.0], [0.7424573302268982, 0.0010898245964199305, 0.005181383341550827, 0.05743135139346123, 0.13427995145320892, 0.05956006050109863, 0.0, 0.0], [0.536212682723999, 0.002063268795609474, 0.005606666672974825, 0.002919096266850829, 0.04183170199394226, 0.3855997323989868, 0.025766752660274506, 0.0], [0.7906786799430847, 0.005521468818187714, 0.0064881169237196445, 0.0017580834683030844, 0.006822335533797741, 0.07854263484477997, 0.09955497831106186, 0.010633794590830803]], [[1.0, 0.0, 0.0, 0.0, 0.0, 0.0, 0.0, 0.0], [0.9950142502784729, 0.004985733889043331, 0.0, 0.0, 0.0, 0.0, 0.0, 0.0], [0.968414843082428, 0.03038804419338703, 0.0011971464846283197, 0.0, 0.0, 0.0, 0.0, 0.0], [0.9435144662857056, 0.04686034098267555, 0.0027267485857009888, 0.006898495834320784, 0.0, 0.0, 0.0, 0.0], [0.5051921606063843, 0.0332537516951561, 0.01952768675982952, 0.4281145930290222, 0.013911849819123745, 0.0, 0.0, 0.0], [0.5827329158782959, 0.0033600563183426857, 0.03881167992949486, 0.35617172718048096, 0.015152920968830585, 0.0037707360461354256, 0.0, 0.0], [0.7385711073875427, 0.004330884665250778, 0.01365745160728693, 0.19773706793785095, 0.04157450795173645, 0.002811583224684, 0.0013172090984880924, 0.0], [0.7657648921012878, 0.01895167864859104, 0.01126040518283844, 0.0819249078631401, 0.045091208070516586, 0.04945547506213188, 0.014450562186539173, 0.013100949116051197]], [[1.0, 0.0, 0.0, 0.0, 0.0, 0.0, 0.0, 0.0], [0.9958117008209229, 0.004188315477222204, 0.0, 0.0, 0.0, 0.0, 0.0, 0.0], [0.9863730669021606, 0.010450072586536407, 0.0031767638865858316, 0.0, 0.0, 0.0, 0.0, 0.0], [0.81229567527771, 0.06690015643835068, 0.07207807898521423, 0.04872613027691841, 0.0, 0.0, 0.0, 0.0], [0.6674233078956604, 0.05165768787264824, 0.1961335986852646, 0.08075810223817825, 0.004027298651635647, 0.0, 0.0, 0.0], [0.2928240895271301, 0.005769429728388786, 0.08772432804107666, 0.5772979855537415, 0.03127378597855568, 0.005110353697091341, 0.0, 0.0], [0.5618669390678406, 0.012313145212829113, 0.012804915197193623, 0.13386081159114838, 0.14788725972175598, 0.08054178953170776, 0.050725072622299194, 0.0], [0.718855082988739, 0.0279677901417017, 0.003331379499286413, 0.014832944609224796, 0.02598356269299984, 0.09887798130512238, 0.10105567425489426, 0.009095589630305767]], [[1.0, 0.0, 0.0, 0.0, 0.0, 0.0, 0.0, 0.0], [0.9917705059051514, 0.008229498751461506, 0.0, 0.0, 0.0, 0.0, 0.0, 0.0], [0.9552366137504578, 0.03240841627120972, 0.012354949489235878, 0.0, 0.0, 0.0, 0.0, 0.0], [0.670482337474823, 0.02489667944610119, 0.2638304531574249, 0.04079053923487663, 0.0, 0.0, 0.0, 0.0], [0.8100218176841736, 0.0039072418585419655, 0.009050874970853329, 0.14533567428588867, 0.031684327870607376, 0.0, 0.0, 0.0], [0.5984808206558228, 0.0071801841259002686, 0.0054059624671936035, 0.038268979638814926, 0.3285527527332306, 0.022111261263489723, 0.0, 0.0], [0.7925899028778076, 0.007790687028318644, 0.006344677414745092, 0.0028846622444689274, 0.043698616325855255, 0.12896014750003815, 0.017731238156557083, 0.0], [0.7375054955482483, 0.007302801590412855, 0.005234701558947563, 0.0006601477507501841, 0.00557309715077281, 0.049880001693964005, 0.18246246874332428, 0.011381278745830059]], [[1.0, 0.0, 0.0, 0.0, 0.0, 0.0, 0.0, 0.0], [0.959634006023407, 0.040365952998399734, 0.0, 0.0, 0.0, 0.0, 0.0, 0.0], [0.9015865921974182, 0.08562343567609787, 0.01278993021696806, 0.0, 0.0, 0.0, 0.0, 0.0], [0.9145070910453796, 0.015868496149778366, 0.0662592351436615, 0.0033651271369308233, 0.0, 0.0, 0.0, 0.0], [0.6902948617935181, 0.1290857046842575, 0.1648252308368683, 0.010637261904776096, 0.005157007835805416, 0.0, 0.0, 0.0], [0.7724131345748901, 0.0337272509932518, 0.03201369568705559, 0.11065380275249481, 0.002436456037685275, 0.04875567927956581, 0.0, 0.0], [0.712204098701477, 0.004483533091843128, 0.040607091039419174, 0.10067781060934067, 0.0021667226683348417, 0.1296015828847885, 0.010259181261062622, 0.0], [0.8843401074409485, 0.015042872168123722, 0.048735737800598145, 0.007621161639690399, 0.006275765132158995, 0.02065144293010235, 0.00551548320800066, 0.011817453429102898]], [[1.0, 0.0, 0.0, 0.0, 0.0, 0.0, 0.0, 0.0], [0.9942194223403931, 0.005780586041510105, 0.0, 0.0, 0.0, 0.0, 0.0, 0.0], [0.9302158355712891, 0.04341861233115196, 0.02636561542749405, 0.0, 0.0, 0.0, 0.0, 0.0], [0.9603214859962463, 0.0008270363905467093, 0.008675508201122284, 0.030176077038049698, 0.0, 0.0, 0.0, 0.0], [0.4440273344516754, 0.014009686186909676, 0.02224244363605976, 0.5114194750785828, 0.008300979621708393, 0.0, 0.0, 0.0], [0.5001918077468872, 0.03368056192994118, 0.02387172169983387, 0.40720996260643005, 0.007519983220845461, 0.027525966987013817, 0.0, 0.0], [0.7966787815093994, 0.09459242969751358, 0.0035421436186879873, 0.046641264110803604, 0.0015977504663169384, 0.04638640955090523, 0.010561276227235794, 0.0], [0.8951393961906433, 0.012586679309606552, 0.004702612292021513, 0.014773991890251637, 0.001825117040425539, 0.017279885709285736, 0.025319118052721024, 0.028373191133141518]], [[1.0, 0.0, 0.0, 0.0, 0.0, 0.0, 0.0, 0.0], [0.9962899684906006, 0.003710043616592884, 0.0, 0.0, 0.0, 0.0, 0.0, 0.0], [0.9550417065620422, 0.006128603592514992, 0.03882965072989464, 0.0, 0.0, 0.0, 0.0, 0.0], [0.8310548067092896, 0.019861606881022453, 0.14717720448970795, 0.0019063486251980066, 0.0, 0.0, 0.0, 0.0], [0.5567519068717957, 0.03595517575740814, 0.4036800265312195, 0.002326369285583496, 0.0012864976888522506, 0.0, 0.0, 0.0], [0.5951518416404724, 0.03606075793504715, 0.14766815304756165, 0.05087588354945183, 0.13110938668251038, 0.03913396969437599, 0.0, 0.0], [0.3680802881717682, 0.004199481103569269, 0.043001674115657806, 0.014530119486153126, 0.26488566398620605, 0.2919972836971283, 0.013305477797985077, 0.0], [0.7016053199768066, 0.0059455097652971745, 0.022484734654426575, 0.005234438925981522, 0.06144722178578377, 0.08664656430482864, 0.0884471982717514, 0.02818898670375347]]], [[[1.0, 0.0, 0.0, 0.0, 0.0, 0.0, 0.0, 0.0], [0.9892802834510803, 0.010719723999500275, 0.0, 0.0, 0.0, 0.0, 0.0, 0.0], [0.30164650082588196, 0.6479396224021912, 0.05041389539837837, 0.0, 0.0, 0.0, 0.0, 0.0], [0.1095491498708725, 0.0006935088313184679, 0.8800163269042969, 0.009740901179611683, 0.0, 0.0, 0.0, 0.0], [0.030250191688537598, 0.011594301089644432, 0.003978311084210873, 0.9366228580474854, 0.01755439303815365, 0.0, 0.0, 0.0], [0.2556639015674591, 0.04902644455432892, 0.014173563569784164, 0.013148248195648193, 0.6563393473625183, 0.011648574844002724, 0.0, 0.0], [0.012211297638714314, 0.002584409434348345, 0.0001579755189595744, 0.00017461366951465607, 0.002188328420743346, 0.9432754516601562, 0.03940789774060249, 0.0], [0.06228712201118469, 0.04089570418000221, 0.01529034785926342, 0.0006447048508562148, 0.008846965618431568, 0.06594815105199814, 0.6975125074386597, 0.10857446491718292]], [[1.0, 0.0, 0.0, 0.0, 0.0, 0.0, 0.0, 0.0], [0.9688528776168823, 0.031147126108407974, 0.0, 0.0, 0.0, 0.0, 0.0, 0.0], [0.78211909532547, 0.20244072377681732, 0.0154402581974864, 0.0, 0.0, 0.0, 0.0, 0.0], [0.328712522983551, 0.6275190114974976, 0.005712693557143211, 0.03805578872561455, 0.0, 0.0, 0.0, 0.0], [0.5291469097137451, 0.13547174632549286, 0.05200745537877083, 0.24783019721508026, 0.03554370999336243, 0.0, 0.0, 0.0], [0.29298797249794006, 0.015982048586010933, 0.006242890376597643, 0.07853858172893524, 0.5968625545501709, 0.009386016987264156, 0.0, 0.0], [0.20692358911037445, 0.003083550138399005, 0.03752032294869423, 0.2027110606431961, 0.09917664527893066, 0.008925867266952991, 0.44165900349617004, 0.0], [0.02372431568801403, 0.0008827600395306945, 0.000252595724305138, 0.005334961693733931, 0.26690834760665894, 0.027847500517964363, 0.6720708012580872, 0.0029787258245050907]], [[1.0, 0.0, 0.0, 0.0, 0.0, 0.0, 0.0, 0.0], [0.7831052541732788, 0.21689467132091522, 0.0, 0.0, 0.0, 0.0, 0.0, 0.0], [0.5557984113693237, 0.25212037563323975, 0.19208112359046936, 0.0, 0.0, 0.0, 0.0, 0.0], [0.4751052260398865, 0.3516062796115875, 0.17214801907539368, 0.001140393316745758, 0.0, 0.0, 0.0, 0.0], [0.4738202691078186, 0.02964419685304165, 0.18677371740341187, 0.2852911055088043, 0.024470673874020576, 0.0, 0.0, 0.0], [0.37899526953697205, 0.005077532958239317, 0.0020358641631901264, 0.03436730429530144, 0.5635936260223389, 0.015930449590086937, 0.0, 0.0], [0.6322338581085205, 0.003537406912073493, 0.00012790414621122181, 0.00681457482278347, 0.3087661862373352, 0.047575097531080246, 0.0009449917706660926, 0.0], [0.09218136966228485, 0.01085731666535139, 0.0011022237595170736, 0.020226774737238884, 0.0126341562718153, 0.1911761611700058, 0.6714580059051514, 0.0003640189243014902]], [[1.0, 0.0, 0.0, 0.0, 0.0, 0.0, 0.0, 0.0], [0.5396891236305237, 0.46031084656715393, 0.0, 0.0, 0.0, 0.0, 0.0, 0.0], [0.5980775356292725, 0.13349521160125732, 0.2684272527694702, 0.0, 0.0, 0.0, 0.0, 0.0], [0.09177216142416, 0.015363314189016819, 0.8905492424964905, 0.0023153198417276144, 0.0, 0.0, 0.0, 0.0], [0.09023510664701462, 0.0007663407013751566, 0.03179578483104706, 0.8613736033439636, 0.01582925021648407, 0.0, 0.0, 0.0], [0.14720067381858826, 8.971868373919278e-05, 0.04897584393620491, 0.007804505061358213, 0.7360441088676453, 0.0598851777613163, 0.0, 0.0], [0.011444684118032455, 0.0006968713132664561, 2.914619653893169e-05, 0.00030073962989263237, 0.002061439212411642, 0.07695285975933075, 0.9085142016410828, 0.0], [0.0005338832852430642, 8.431283276877366e-06, 0.0001235382369486615, 4.025124326290097e-06, 3.1074621801963076e-05, 0.003328432561829686, 0.8967633843421936, 0.09920729696750641]], [[1.0, 0.0, 0.0, 0.0, 0.0, 0.0, 0.0, 0.0], [0.9990838766098022, 0.000916074903216213, 0.0, 0.0, 0.0, 0.0, 0.0, 0.0], [0.9275023937225342, 0.034331128001213074, 0.038166508078575134, 0.0, 0.0, 0.0, 0.0, 0.0], [0.7549185156822205, 0.18288347125053406, 0.047899309545755386, 0.014298714697360992, 0.0, 0.0, 0.0, 0.0], [0.4730452597141266, 0.09229151159524918, 0.09656830132007599, 0.32971709966659546, 0.008377841673791409, 0.0, 0.0, 0.0], [0.05762890353798866, 0.00010571356688160449, 0.16481398046016693, 0.7602958083152771, 0.015869664028286934, 0.0012859010603278875, 0.0, 0.0], [0.0772821381688118, 0.0015801341505721211, 0.010677050799131393, 0.0034087421372532845, 0.7507674098014832, 0.14697426557540894, 0.009310211054980755, 0.0], [0.0022188264410942793, 0.0006049997755326331, 0.001011960906907916, 0.00046269723679870367, 0.08077358454465866, 0.6441980004310608, 0.2704639136791229, 0.00026602085563354194]], [[1.0, 0.0, 0.0, 0.0, 0.0, 0.0, 0.0, 0.0], [0.7726597189903259, 0.22734032571315765, 0.0, 0.0, 0.0, 0.0, 0.0, 0.0], [0.8068283200263977, 0.04568597674369812, 0.1474856585264206, 0.0, 0.0, 0.0, 0.0, 0.0], [0.11925516277551651, 0.0037864907644689083, 0.8763779997825623, 0.0005803884123452008, 0.0, 0.0, 0.0, 0.0], [0.42215538024902344, 0.021348286420106888, 0.5304844379425049, 0.02293604612350464, 0.0030757777858525515, 0.0, 0.0, 0.0], [0.5326846241950989, 0.04261557012796402, 0.2118591070175171, 0.08780873566865921, 0.12199819833040237, 0.003033702727407217, 0.0, 0.0], [0.26691189408302307, 0.0010878723114728928, 0.06474192440509796, 0.14514145255088806, 0.08043140918016434, 0.4109424352645874, 0.030743049457669258, 0.0], [0.612298846244812, 0.06941544264554977, 0.02507081814110279, 0.0036892711650580168, 0.0012475935509428382, 0.0033724596723914146, 0.06784225255250931, 0.21706338226795197]], [[1.0, 0.0, 0.0, 0.0, 0.0, 0.0, 0.0, 0.0], [0.994204580783844, 0.0057954671792685986, 0.0, 0.0, 0.0, 0.0, 0.0, 0.0], [0.9852854609489441, 0.0015436233952641487, 0.013170914724469185, 0.0, 0.0, 0.0, 0.0, 0.0], [0.27268949151039124, 0.015068805776536465, 0.7087670564651489, 0.0034746399614959955, 0.0, 0.0, 0.0, 0.0], [0.554250955581665, 0.06328272074460983, 0.3638836443424225, 0.014391559176146984, 0.004191163461655378, 0.0, 0.0, 0.0], [0.5276049971580505, 0.017602890729904175, 0.12650920450687408, 0.0021492638625204563, 0.16436675190925598, 0.16176681220531464, 0.0, 0.0], [0.27736788988113403, 0.0018691731384024024, 0.035469356924295425, 0.001225322368554771, 0.0607706643640995, 0.009226026944816113, 0.6140715479850769, 0.0], [0.026277126744389534, 0.0004204515425954014, 0.010424706153571606, 2.8839656806667335e-05, 0.000662557256873697, 0.00937348511070013, 0.7445379495620728, 0.2082749456167221]], [[1.0, 0.0, 0.0, 0.0, 0.0, 0.0, 0.0, 0.0], [0.9891465902328491, 0.010853460058569908, 0.0, 0.0, 0.0, 0.0, 0.0, 0.0], [0.6437697410583496, 0.006057451944798231, 0.35017281770706177, 0.0, 0.0, 0.0, 0.0, 0.0], [0.08398483693599701, 0.0256227757781744, 0.8883921504020691, 0.002000190317630768, 0.0, 0.0, 0.0, 0.0], [0.36387237906455994, 0.0021839148830622435, 0.6058275699615479, 0.018219253048300743, 0.009897024370729923, 0.0, 0.0, 0.0], [0.7160477042198181, 0.0019690333865582943, 0.14005537331104279, 0.09681061655282974, 0.005746492184698582, 0.03937068209052086, 0.0, 0.0], [0.024168744683265686, 0.00020133661746513098, 0.10507325828075409, 0.0005788806010968983, 0.000751282786950469, 0.8418411612510681, 0.027385346591472626, 0.0], [0.07566327601671219, 0.0014250976964831352, 0.8754017949104309, 0.005718855187296867, 0.0013448683312162757, 0.01771392859518528, 0.009142361581325531, 0.013589899986982346]]], [[[1.0, 0.0, 0.0, 0.0, 0.0, 0.0, 0.0, 0.0], [0.8818316459655762, 0.11816836148500443, 0.0, 0.0, 0.0, 0.0, 0.0, 0.0], [0.013100570067763329, 0.9867021441459656, 0.0001972432219190523, 0.0, 0.0, 0.0, 0.0, 0.0], [0.9180817008018494, 0.017675694078207016, 0.043424736708402634, 0.020817873999476433, 0.0, 0.0, 0.0, 0.0], [0.14843198657035828, 0.0014647649368271232, 0.19868159294128418, 0.6470096111297607, 0.0044120620004832745, 0.0, 0.0, 0.0], [0.05087830126285553, 0.003370753489434719, 0.001879884977824986, 0.16589291393756866, 0.7636969089508057, 0.014281230047345161, 0.0, 0.0], [0.039746273308992386, 0.0007665865705348551, 0.0016381435561925173, 0.04599469527602196, 0.9111523628234863, 0.00016474119911435992, 0.0005371378501877189, 0.0], [0.739149808883667, 0.009047969244420528, 0.0023167349863797426, 0.02211753837764263, 0.04893636330962181, 0.019393956288695335, 0.058594826608896255, 0.1004428118467331]], [[1.0, 0.0, 0.0, 0.0, 0.0, 0.0, 0.0, 0.0], [0.8272583484649658, 0.17274169623851776, 0.0, 0.0, 0.0, 0.0, 0.0, 0.0], [0.7546809911727905, 0.24283456802368164, 0.0024844964500516653, 0.0, 0.0, 0.0, 0.0, 0.0], [0.8427939414978027, 0.05337890237569809, 0.09853124618530273, 0.005295946262776852, 0.0, 0.0, 0.0, 0.0], [0.23626968264579773, 0.4313364028930664, 0.18492388725280762, 0.0042739929631352425, 0.14319603145122528, 0.0, 0.0, 0.0], [0.10432624816894531, 0.007184556219726801, 0.286166250705719, 0.19521383941173553, 0.39408501982688904, 0.013024079613387585, 0.0, 0.0], [0.04429050162434578, 0.0055689685977995396, 0.12061186134815216, 0.02750316448509693, 0.6660147905349731, 0.01277645118534565, 0.12323428690433502, 0.0], [0.3534969389438629, 0.02369477041065693, 0.0005906331934966147, 0.05639388784766197, 0.3342531621456146, 0.12446831911802292, 0.011268297210335732, 0.09583409130573273]], [[1.0, 0.0, 0.0, 0.0, 0.0, 0.0, 0.0, 0.0], [0.9274395108222961, 0.07256048917770386, 0.0, 0.0, 0.0, 0.0, 0.0, 0.0], [0.6237738728523254, 0.36111509799957275, 0.015110976994037628, 0.0, 0.0, 0.0, 0.0, 0.0], [0.8735990524291992, 0.050089363008737564, 0.07161741703748703, 0.004694212228059769, 0.0, 0.0, 0.0, 0.0], [0.04232596233487129, 9.177710307994857e-05, 0.946806788444519, 0.00977962464094162, 0.000995889538899064, 0.0, 0.0, 0.0], [0.5194441676139832, 0.010706953704357147, 0.15071627497673035, 0.0711640864610672, 0.012589732185006142, 0.23537880182266235, 0.0, 0.0], [0.01935468055307865, 0.0020583143923431635, 0.00039848737651482224, 0.0033059478737413883, 0.0038679507561028004, 0.9628481268882751, 0.008166478946805, 0.0], [0.5130122303962708, 0.0083594536408782, 0.04167652502655983, 0.012273537926375866, 0.0029226343613117933, 0.27562415599823, 0.01663193851709366, 0.12949945032596588]], [[1.0, 0.0, 0.0, 0.0, 0.0, 0.0, 0.0, 0.0], [0.9934444427490234, 0.0065555265173316, 0.0, 0.0, 0.0, 0.0, 0.0, 0.0], [0.706883430480957, 0.11745188385248184, 0.17566470801830292, 0.0, 0.0, 0.0, 0.0, 0.0], [0.25726139545440674, 0.3914088308811188, 0.32947754859924316, 0.02185223437845707, 0.0, 0.0, 0.0, 0.0], [0.20533134043216705, 0.21227146685123444, 0.5022372603416443, 0.04952502250671387, 0.030634939670562744, 0.0, 0.0, 0.0], [0.05223727971315384, 0.03584021329879761, 0.15422971546649933, 0.036535486578941345, 0.04105581343173981, 0.6801015138626099, 0.0, 0.0], [0.016706977039575577, 0.0015481117879971862, 0.008324163034558296, 0.0002480811963323504, 0.001341668190434575, 0.9686247706413269, 0.0032062726095318794, 0.0], [0.38948842883110046, 0.010188027285039425, 0.20232278108596802, 0.01331623736768961, 0.15286211669445038, 0.13491219282150269, 0.07088153809309006, 0.026028627529740334]], [[1.0, 0.0, 0.0, 0.0, 0.0, 0.0, 0.0, 0.0], [0.9806705713272095, 0.01932939700782299, 0.0, 0.0, 0.0, 0.0, 0.0, 0.0], [0.828686535358429, 0.07299662381410599, 0.09831691533327103, 0.0, 0.0, 0.0, 0.0, 0.0], [0.12880054116249084, 0.022084396332502365, 0.8021527528762817, 0.04696226865053177, 0.0, 0.0, 0.0, 0.0], [0.2249060720205307, 0.41497373580932617, 0.22858324646949768, 0.126234233379364, 0.00530271977186203, 0.0, 0.0, 0.0], [0.3184986710548401, 0.022832153365015984, 0.26320987939834595, 0.08869591355323792, 0.10775955766439438, 0.19900383055210114, 0.0, 0.0], [0.02502172440290451, 0.004057659767568111, 0.005849204491823912, 0.003426403971388936, 0.04779203236103058, 0.8899871706962585, 0.023865777999162674, 0.0], [0.22395990788936615, 0.20496582984924316, 0.049734871834516525, 0.1489284634590149, 0.21377314627170563, 0.08807791769504547, 0.03899184241890907, 0.03156808763742447]], [[1.0, 0.0, 0.0, 0.0, 0.0, 0.0, 0.0, 0.0], [0.9583103656768799, 0.0416896715760231, 0.0, 0.0, 0.0, 0.0, 0.0, 0.0], [0.5195457935333252, 0.46232739090919495, 0.01812676712870598, 0.0, 0.0, 0.0, 0.0, 0.0], [0.12340303510427475, 0.11865293979644775, 0.04478117451071739, 0.7131628394126892, 0.0, 0.0, 0.0, 0.0], [0.01473979838192463, 0.0011618941789492965, 0.08083327859640121, 0.875813901424408, 0.02745114639401436, 0.0, 0.0, 0.0], [0.12528371810913086, 0.007969613187015057, 0.005363358184695244, 0.4898921847343445, 0.36892858147621155, 0.0025625794660300016, 0.0, 0.0], [0.03189248964190483, 0.002160806907340884, 0.04507650434970856, 0.5070335865020752, 0.07896691560745239, 0.28885042667388916, 0.04601912945508957, 0.0], [0.49114716053009033, 0.04495508596301079, 0.0282927043735981, 0.02201668545603752, 0.012357426807284355, 0.30364981293678284, 0.07781918346881866, 0.019761858507990837]], [[1.0, 0.0, 0.0, 0.0, 0.0, 0.0, 0.0, 0.0], [0.8277081251144409, 0.17229187488555908, 0.0, 0.0, 0.0, 0.0, 0.0, 0.0], [0.8934963345527649, 0.03053751215338707, 0.07596616446971893, 0.0, 0.0, 0.0, 0.0, 0.0], [0.39724409580230713, 0.021469581872224808, 0.5432333946228027, 0.03805297240614891, 0.0, 0.0, 0.0, 0.0], [0.17916004359722137, 0.37263354659080505, 0.07040046900510788, 0.22032524645328522, 0.15748059749603271, 0.0, 0.0, 0.0], [0.10993529856204987, 0.007008686196058989, 0.34388044476509094, 0.14878499507904053, 0.3827342987060547, 0.007656280416995287, 0.0, 0.0], [0.004703792277723551, 0.0009138330351561308, 0.0025175209157168865, 0.043799616396427155, 0.013071691617369652, 0.003881581826135516, 0.9311120510101318, 0.0], [0.13918066024780273, 0.00025889030075632036, 0.004870750475674868, 0.10512290894985199, 0.0029104556888341904, 0.0023291283287107944, 0.10004033893346786, 0.6452868580818176]], [[1.0, 0.0, 0.0, 0.0, 0.0, 0.0, 0.0, 0.0], [0.9773470759391785, 0.022652940824627876, 0.0, 0.0, 0.0, 0.0, 0.0, 0.0], [0.7418619394302368, 0.18094076216220856, 0.07719730585813522, 0.0, 0.0, 0.0, 0.0, 0.0], [0.033800769597291946, 0.006253779400140047, 0.9596149921417236, 0.00033046730095520616, 0.0, 0.0, 0.0, 0.0], [0.20509421825408936, 0.19735100865364075, 0.36151957511901855, 0.005614050198346376, 0.23042112588882446, 0.0, 0.0, 0.0], [0.061397965997457504, 0.10671523213386536, 0.05265360698103905, 0.0002276891900692135, 0.5226184725761414, 0.25638702511787415, 0.0, 0.0], [0.04804930463433266, 0.020806042477488518, 0.2706914246082306, 0.00017822142399381846, 0.580023467540741, 0.05750236287713051, 0.022749152034521103, 0.0], [0.11973903328180313, 0.0002405643608653918, 0.03256601095199585, 0.0031827474012970924, 0.7745680212974548, 0.046570755541324615, 0.019490031525492668, 0.003642876399680972]]]], \"left_text\": [\"Q\", \"Y\", \"S\", \"V\", \"L\", \"I\", \"F\", \"<eos>\"], \"right_text\": [\"Q\", \"Y\", \"S\", \"V\", \"L\", \"I\", \"F\", \"<eos>\"]}, {\"name\": \"Cross\", \"attn\": [[[[0.9942237734794617, 0.0054429760202765465, 7.035928865661845e-05, 4.435313167050481e-05, 1.2882705050287768e-05, 4.533458559308201e-05, 6.774735084036365e-05, 9.243898239219561e-05, 0.0], [0.008393458090722561, 0.9894208908081055, 0.0016692002536728978, 9.142259841610212e-06, 3.5682503494172124e-06, 5.5297723520197906e-06, 5.942282223259099e-05, 0.0004387483058962971, 0.0], [3.4707012673607096e-05, 0.017462238669395447, 0.9603572487831116, 0.020074844360351562, 1.0818483133334666e-05, 3.932965739750216e-07, 4.0776268406261806e-07, 0.002059416612610221, 0.0], [3.443529567448422e-05, 3.135976294288412e-05, 0.030443497002124786, 0.5634071826934814, 0.39667949080467224, 1.0901104360527825e-05, 1.125477027130728e-07, 0.009393061511218548, 0.0], [1.591765339981066e-06, 1.2799046089639887e-07, 2.8070362532162108e-06, 0.020575905218720436, 0.907551646232605, 0.07183542847633362, 6.546124495798722e-07, 3.186741378158331e-05, 0.0], [5.573531780100893e-06, 4.5167137585622186e-08, 6.880856440183436e-10, 5.876218551748025e-07, 0.0001591258478583768, 0.9970813393592834, 0.0026232702657580376, 0.00013006287917960435, 0.0], [3.299949457868934e-05, 3.3066453397623263e-06, 2.6364455063543346e-10, 1.7460723622172991e-12, 3.5468525338977486e-10, 0.0008811348816379905, 0.9943986535072327, 0.004683947190642357, 0.0], [1.922396222653333e-05, 0.0008240705356001854, 6.031012134144476e-08, 6.475726205268373e-12, 2.8167992569515243e-14, 2.7231097932123305e-10, 0.010695691220462322, 0.988460898399353, 0.0]], [[0.01734287478029728, 0.12547658383846283, 0.006581353023648262, 6.843497249064967e-05, 0.817101240158081, 0.024299263954162598, 0.00040671881288290024, 0.008723587729036808, 0.0], [0.02650091052055359, 0.2707943618297577, 0.6638835668563843, 0.0024990651290863752, 0.0021674344316124916, 0.010808113031089306, 0.0022411923855543137, 0.02110544964671135, 0.0], [0.039031725376844406, 0.39720508456230164, 0.4778381884098053, 0.0013764940667897463, 0.013789485208690166, 0.010522211901843548, 0.0019776264671236277, 0.05825914442539215, 0.0], [0.0034689183812588453, 0.003400427056476474, 0.846335232257843, 0.0045281401835381985, 0.06008516252040863, 0.02265038900077343, 0.005313567817211151, 0.054218217730522156, 0.0], [0.0062578883953392506, 0.004355236887931824, 0.02795826643705368, 0.03666766360402107, 0.7633800506591797, 0.046390146017074585, 0.003297232324257493, 0.11169341206550598, 0.0], [0.0009002566221170127, 0.000895257864613086, 0.004339669365435839, 9.015414252644405e-05, 0.9150159358978271, 0.04380720853805542, 0.008455781266093254, 0.026495780795812607, 0.0], [0.002714630449190736, 0.00020545523148030043, 0.00022681348491460085, 0.00033327945857308805, 0.8017846941947937, 0.07978826761245728, 0.06633878499269485, 0.048608142882585526, 0.0], [0.0034664066042751074, 0.01352139562368393, 0.009060995653271675, 0.0017179034184664488, 0.23414631187915802, 0.4086463153362274, 0.16565725207328796, 0.1637834757566452, 0.0]], [[0.14995938539505005, 0.14143891632556915, 0.000676328840199858, 0.000208633195143193, 0.08390258252620697, 0.0030914826784282923, 0.003453865647315979, 0.6172688007354736, 0.0], [0.5722790956497192, 0.07715749740600586, 0.0034543813671916723, 0.0017620316939428449, 0.023218845948576927, 0.001864384044893086, 0.005659595597535372, 0.31460413336753845, 0.0], [0.19234606623649597, 0.7451444268226624, 0.012743025086820126, 0.0038504665717482567, 0.00042103786836378276, 0.0031570978462696075, 0.007650384213775396, 0.034687433391809464, 0.0], [0.007503715809434652, 0.37872010469436646, 0.4561697542667389, 0.11561597138643265, 0.0009643036755733192, 0.0034950056578963995, 0.006037109065800905, 0.031494103372097015, 0.0], [0.001223713275976479, 0.603181004524231, 0.19408319890499115, 0.09390030801296234, 0.04354125261306763, 0.0007451640558429062, 0.002823387971147895, 0.060501981526613235, 0.0], [0.0004460587806534022, 0.00205022725276649, 0.0455506406724453, 0.2385970652103424, 0.6674513220787048, 0.0012025419855490327, 0.0036810734309256077, 0.04102097451686859, 0.0], [0.0006446763291023672, 0.00013232101628091186, 0.00019582109234761447, 0.018281487748026848, 0.8041113018989563, 0.1317669153213501, 0.03187974914908409, 0.012987782247364521, 0.0], [0.0010329129872843623, 0.00017526576993986964, 0.00014623893366660923, 0.0014053336344659328, 0.012575844302773476, 0.5167203545570374, 0.4547865688800812, 0.013157431967556477, 0.0]], [[0.0043885475024580956, 0.140689417719841, 0.12561719119548798, 0.2273242026567459, 0.4682104289531708, 0.0009561913320794702, 0.0015230124117806554, 0.03129097446799278, 0.0], [0.0007943891687318683, 0.005689246580004692, 0.01953379437327385, 0.33044981956481934, 0.5919407606124878, 0.001098734443075955, 0.00012246092956047505, 0.05037078633904457, 0.0], [0.004243409726768732, 0.002997836098074913, 0.0018213973380625248, 0.054536122828722, 0.7490350008010864, 0.07889808714389801, 0.003599154995754361, 0.10486889630556107, 0.0], [0.03427988290786743, 0.004288914147764444, 0.0011109631741419435, 0.0013663803692907095, 0.0363294817507267, 0.6161902546882629, 0.08185278624296188, 0.22458143532276154, 0.0], [0.09040750563144684, 0.01708425022661686, 0.008977762423455715, 0.0015854801749810576, 0.009205663576722145, 0.1524192988872528, 0.20795808732509613, 0.5123618841171265, 0.0], [0.005197267513722181, 0.04959340766072273, 0.04791399836540222, 0.0012554002460092306, 0.0028242762200534344, 0.014261731877923012, 0.20620845258235931, 0.6727454662322998, 0.0], [0.0009811740601435304, 0.028855571523308754, 0.08833519369363785, 0.029534678906202316, 0.002978378441184759, 0.0005658311420120299, 0.010724125429987907, 0.8380250334739685, 0.0], [0.0008060919935815036, 0.006312873680144548, 0.05248955264687538, 0.04339548572897911, 0.032533805817365646, 0.0009235410252586007, 0.001479536877013743, 0.8620590567588806, 0.0]], [[0.00048323863302357495, 0.79558926820755, 5.2622053772211075e-05, 8.755947055760771e-05, 0.1629532128572464, 0.0002917636011261493, 0.0337030403316021, 0.006839400622993708, 0.0], [0.011945059522986412, 0.6456836462020874, 0.2337782084941864, 0.030084820464253426, 0.014341557398438454, 0.00012747038272209466, 0.028578681871294975, 0.035460591316223145, 0.0], [0.005953589454293251, 0.44864344596862793, 0.1720438152551651, 0.09052657335996628, 0.1083763837814331, 0.0013115409528836608, 0.04306180030107498, 0.13008272647857666, 0.0], [0.0002915020158980042, 0.0026960275135934353, 0.01750253140926361, 0.03351934254169464, 0.7530529499053955, 0.002365842228755355, 0.029317514970898628, 0.16125431656837463, 0.0], [1.5063846149132587e-05, 0.0004682966391555965, 0.00015543855261057615, 0.0008267944795079529, 0.8840252161026001, 0.0009732955950312316, 0.08914471417665482, 0.0243911724537611, 0.0], [2.3383718144032173e-05, 0.0005982753355056047, 2.2120602807262912e-05, 0.00011199411528650671, 0.04864662140607834, 0.012830340303480625, 0.9081781506538391, 0.0295890960842371, 0.0], [5.877056537428871e-05, 0.0029540667310357094, 4.491508661885746e-05, 1.679992419667542e-05, 0.023327598348259926, 0.019342266023159027, 0.8753834366798401, 0.07887210696935654, 0.0], [0.00010063670197268948, 0.0027143422048538923, 9.347376180812716e-05, 2.586731716291979e-05, 0.00330998282879591, 0.0012646118411794305, 0.8709813952445984, 0.12150965631008148, 0.0]], [[0.037738069891929626, 0.03748279809951782, 0.03112304024398327, 0.7520806789398193, 0.07628581672906876, 0.005353787913918495, 0.0005960405105724931, 0.05933975428342819, 0.0], [0.03385035693645477, 0.13020385801792145, 0.2790958881378174, 0.26481345295906067, 0.23555544018745422, 0.00044652269571088254, 0.00040020805317908525, 0.05563434213399887, 0.0], [0.0033275692258030176, 0.01615176536142826, 0.052032992243766785, 0.567510724067688, 0.10779234766960144, 0.011439365334808826, 0.0067014433443546295, 0.23504377901554108, 0.0], [0.007332836277782917, 0.4028979539871216, 0.030859770253300667, 0.10973498970270157, 0.18369220197200775, 0.007737259846180677, 0.00738930469378829, 0.25035566091537476, 0.0], [0.0012917006388306618, 0.02743123099207878, 0.01712251454591751, 0.3389475643634796, 0.14375026524066925, 0.24605391919612885, 0.054161187261343, 0.17124156653881073, 0.0], [0.0011992144864052534, 7.970896695042029e-05, 0.0008213127148337662, 0.005379816982895136, 0.3583040237426758, 0.42725807428359985, 0.13541635870933533, 0.07154151052236557, 0.0], [0.0006443775491788983, 0.0003730918688233942, 0.007363417651504278, 0.004666088614612818, 0.008599127642810345, 0.4625249207019806, 0.2725777328014374, 0.2432512640953064, 0.0], [0.006568229757249355, 0.0004159352683927864, 0.002135275397449732, 0.004574236925691366, 0.02808312512934208, 0.0630401223897934, 0.49683189392089844, 0.39835119247436523, 0.0]], [[0.011167220771312714, 8.336173777934164e-05, 9.761512956174556e-06, 2.5043867935892195e-05, 5.4230138630373403e-05, 3.6082071801502025e-06, 2.671143192856107e-05, 0.9886300563812256, 0.0], [0.951503574848175, 0.027599796652793884, 0.0003333070199005306, 2.372666131122969e-05, 2.5238168746000156e-05, 0.00686733890324831, 0.010024935007095337, 0.0036221237387508154, 0.0], [0.00683793006464839, 0.9894207715988159, 0.003506503300741315, 5.5810564845160116e-06, 5.23849621458794e-07, 8.082557769739651e-07, 6.206572834344115e-06, 0.0002217860019300133, 0.0], [0.00014830045984126627, 0.11983270198106766, 0.7118616104125977, 0.13312627375125885, 0.0009381695417687297, 4.484538294491358e-06, 5.624729601549916e-05, 0.034032195806503296, 0.0], [4.5423911387842963e-07, 4.811701728613116e-05, 0.006181827746331692, 0.18817541003227234, 0.8021970987319946, 4.328925115260063e-06, 5.354151966230347e-08, 0.0033926109317690134, 0.0], [9.817928514621599e-08, 1.8430002413083457e-08, 2.066846889192675e-07, 0.0027344715781509876, 0.9969968795776367, 0.0001742878812365234, 1.5776305417602998e-06, 9.255918848793954e-05, 0.0], [7.43917280487949e-06, 2.0730055894091493e-07, 1.2204632859891262e-09, 1.8305563571630046e-06, 0.6912168860435486, 0.24309982359409332, 0.06509241461753845, 0.0005814238102175295, 0.0], [0.0002575214020907879, 8.298927241412457e-06, 3.7886269121933935e-10, 7.263083467989873e-10, 1.4680917047371622e-05, 0.0061233555898070335, 0.9922221302986145, 0.0013740193098783493, 0.0]], [[0.007857500575482845, 0.16611900925636292, 0.0037212788593024015, 0.39077186584472656, 0.004621764179319143, 0.008834750391542912, 0.33336585760116577, 0.08470793068408966, 0.0], [0.023881183937191963, 0.6744598150253296, 0.13516870141029358, 0.04613901674747467, 0.006012342870235443, 0.001883198507130146, 0.04239489883184433, 0.07006094604730606, 0.0], [0.01978195086121559, 0.22970031201839447, 0.29439568519592285, 0.26993170380592346, 0.006260276772081852, 0.003930558916181326, 0.010558422654867172, 0.16544109582901, 0.0], [0.002327350899577141, 0.014058375731110573, 0.033327315002679825, 0.3065134584903717, 0.027928439900279045, 0.035915620625019073, 0.02828708104789257, 0.5516423583030701, 0.0], [0.0002733347937464714, 0.00046753216884098947, 0.002952490234747529, 0.34913158416748047, 0.04651357978582382, 0.18585386872291565, 0.13062511384487152, 0.28418248891830444, 0.0], [0.00012928235810250044, 0.00023332223645411432, 0.00036295081372372806, 0.011107104830443859, 0.009445843286812305, 0.1135689988732338, 0.7113443613052368, 0.15380816161632538, 0.0], [3.6581841413863e-05, 3.775754521484487e-05, 1.1860143786179833e-05, 0.000415909948060289, 0.0004001575580332428, 0.010786803439259529, 0.9203729629516602, 0.06793802231550217, 0.0], [0.00040582945803180337, 0.002499717054888606, 0.0006950501701794565, 0.0005363185191527009, 0.0004920861683785915, 0.02107350528240204, 0.5903998613357544, 0.383897602558136, 0.0]]], [[[2.198546553699998e-06, 0.0001557814102852717, 0.9993057250976562, 0.0004529560683295131, 1.8055507098324597e-06, 8.649584742670413e-06, 4.849048451660565e-08, 7.292184454854578e-05, 0.0], [0.000286339083686471, 0.015536854043602943, 0.9036426544189453, 0.04704129695892334, 0.02224380522966385, 0.005845050327479839, 2.3379352569463663e-05, 0.005380585789680481, 0.0], [0.0005718792672269046, 0.0012865560129284859, 0.00929939839988947, 0.09321772307157516, 0.08262251317501068, 0.3004235625267029, 0.040642619132995605, 0.4719356894493103, 0.0], [0.0003565603110473603, 8.243834599852562e-05, 0.0011871422175318003, 3.71734713553451e-05, 0.016349544748663902, 0.6789891719818115, 0.02108093537390232, 0.2819169759750366, 0.0], [0.0015721656382083893, 0.0005368359852582216, 0.0044932374730706215, 1.923924901348073e-05, 0.00021005963208153844, 0.1644323468208313, 0.10728027671575546, 0.7214558124542236, 0.0], [0.0024313232861459255, 0.015657752752304077, 0.007405619136989117, 0.00010319556895410642, 3.0403600248973817e-05, 0.1368102878332138, 0.10146252065896988, 0.7360988855361938, 0.0], [0.000346485641784966, 0.007861579768359661, 0.0008327936520799994, 4.067030658916337e-06, 1.1970689229201525e-05, 0.016340870410203934, 0.009765902534127235, 0.9648362994194031, 0.0], [0.00020626701007131487, 0.0012334909988567233, 0.002402883255854249, 0.00046646010014228523, 0.005098176188766956, 0.030992962419986725, 0.0060766516253352165, 0.9535230994224548, 0.0]], [[1.1363184446413379e-20, 3.78922359982696e-37, 1.0789998175301091e-43, 5.465085534811199e-37, 2.2252577574524165e-39, 2.802596928649634e-45, 0.0, 1.0, 0.0], [1.0, 1.1362277221524386e-12, 5.7526140769286776e-27, 5.565310107414417e-30, 9.477094080842977e-24, 3.646076191345712e-15, 7.156027160341173e-18, 3.151142558287289e-17, 0.0], [5.1180941429418425e-11, 1.0, 2.6229642902109163e-09, 1.2085171882431017e-26, 1.1840360805225377e-32, 4.178818467271282e-27, 2.672709497618294e-16, 7.860531924968911e-17, 0.0], [1.2315716530130107e-28, 4.302532635724887e-11, 1.0, 4.0256509237224236e-08, 2.1301855077525535e-25, 1.7040284089925327e-34, 8.775620162221964e-31, 5.200987106061072e-17, 0.0], [6.176628046080136e-25, 8.234645036511332e-19, 1.3048131108917005e-07, 0.9999996423721313, 2.5519241830807005e-07, 1.4707973102243795e-19, 1.5474803962320686e-26, 1.5669091729415136e-13, 0.0], [7.282148565494309e-25, 5.424918252449156e-27, 3.349788736451101e-20, 6.851941236618586e-10, 0.9999994039535522, 6.501771849798388e-07, 1.1746195481643895e-17, 2.7701005551883373e-12, 0.0], [1.1129138183423732e-18, 1.4251673526401793e-24, 1.4404401698366093e-29, 6.820071533812992e-27, 1.1972087383960162e-11, 1.0, 2.066822490931486e-09, 4.5922091135167445e-14, 0.0], [7.0826417647440465e-12, 1.8350188176700227e-13, 1.4920819858874859e-24, 2.503336295994196e-32, 1.5519643974812903e-23, 1.525290893589215e-09, 1.0, 2.975661980274963e-13, 0.0]], [[5.404670461173211e-11, 1.4367012113325472e-07, 0.9999998807907104, 4.30730118239353e-08, 5.642068462210765e-16, 1.178277009960854e-18, 2.7977972586260003e-13, 1.813308678193999e-16, 0.0], [0.041235558688640594, 0.0014373447047546506, 0.03323647752404213, 0.7081244587898254, 0.13822698593139648, 0.0010381446918472648, 3.07760237774346e-05, 0.07667026668787003, 0.0], [0.05866041034460068, 0.024727020412683487, 0.012014842592179775, 0.013648449443280697, 0.659338653087616, 0.061107784509658813, 0.00011046182771679014, 0.17039239406585693, 0.0], [0.00036332698073238134, 0.002596708480268717, 0.0002688636595848948, 5.69868425372988e-05, 0.010537199676036835, 0.7518649697303772, 0.011233105324208736, 0.22307880222797394, 0.0], [0.003410171251744032, 0.002909198170527816, 0.0006732691545039415, 0.0002495491353329271, 0.00026314027491025627, 0.13988257944583893, 0.2162562757730484, 0.6363558173179626, 0.0], [0.00292275776155293, 0.001892710104584694, 0.0009037898271344602, 6.614213634748012e-05, 0.00019637620425783098, 0.012748956680297852, 0.014795615337789059, 0.9664736986160278, 0.0], [0.004104639869183302, 0.0018865062156692147, 0.0009722619433887303, 0.00024586240760982037, 9.691694867797196e-05, 0.0010907270479947329, 0.00015778260421939194, 0.9914453029632568, 0.0], [0.03744891658425331, 0.013630877248942852, 0.00337348785251379, 0.004143033642321825, 0.007261108607053757, 0.001584969344548881, 0.00032881926745176315, 0.9322288036346436, 0.0]], [[0.005324074067175388, 0.9893214702606201, 0.003571700071915984, 0.000282179971691221, 4.279776021576254e-06, 1.001117198029533e-05, 0.0003400716232135892, 0.0011460715904831886, 0.0], [8.118027471937239e-05, 0.0387376993894577, 0.9532591700553894, 0.0071536824107170105, 2.3010861696093343e-05, 7.882700714390012e-08, 3.6948611068510218e-06, 0.0007415027939714491, 0.0], [9.435413630853873e-06, 0.00011315463052596897, 0.02665131539106369, 0.9663771390914917, 0.005090953782200813, 6.710045909130713e-06, 5.972422201239169e-08, 0.0017512041376903653, 0.0], [8.554493433621246e-06, 1.0512051176192472e-06, 6.229562359294505e-07, 0.01203734427690506, 0.9639054536819458, 0.020959192886948586, 2.2547494609170826e-06, 0.0030854842625558376, 0.0], [9.120120375882834e-05, 0.00010766509512905031, 8.142197657434735e-06, 1.1148928933835123e-05, 0.008616293780505657, 0.908407986164093, 0.053366679698228836, 0.02939087711274624, 0.0], [2.7675650926539674e-05, 0.00025326089235022664, 1.1950067346333526e-05, 2.1153626050818275e-07, 2.5579223802196793e-05, 0.05012321472167969, 0.8440537452697754, 0.1055043563246727, 0.0], [3.035387180716498e-06, 0.000445127283455804, 0.00017975688388105482, 1.252420815944788e-06, 3.6554304188030073e-06, 1.5221405192278326e-05, 0.008951088413596153, 0.9904008507728577, 0.0], [6.046533599146642e-06, 0.0003579092735890299, 0.0033576320856809616, 0.002318119863048196, 4.084757165401243e-05, 1.109872414417623e-06, 4.493678716244176e-05, 0.9938734769821167, 0.0]], [[0.07913651317358017, 0.18200042843818665, 0.7115164995193481, 0.007847496308386326, 0.00011883587285410613, 0.00046119745820760727, 0.010912660509347916, 0.008006365969777107, 0.0], [0.0007238719845190644, 0.002549361437559128, 0.9551526308059692, 0.03989819809794426, 0.00012154912838013843, 1.535996671009343e-05, 0.00043465240742079914, 0.001104345778003335, 0.0], [0.0020186398178339005, 0.035375870764255524, 0.013032052665948868, 0.20768174529075623, 0.7127089500427246, 7.66617595218122e-05, 0.00014460398233495653, 0.028961550444364548, 0.0], [0.00016755542310420424, 9.030471119331196e-06, 0.000168259022757411, 0.015796035528182983, 0.8277527093887329, 0.0030801689717918634, 0.0164002925157547, 0.13662593066692352, 0.0], [0.0003627908881753683, 7.82975839683786e-05, 0.00036576707498170435, 0.0061694420874118805, 0.6213740110397339, 0.10038084536790848, 0.13769610226154327, 0.1335727721452713, 0.0], [0.0023959411773830652, 0.0004932906595058739, 9.926041821017861e-05, 0.0020922606345266104, 0.28547629714012146, 0.06802491098642349, 0.2401982694864273, 0.40121978521347046, 0.0], [0.0005555907846428454, 0.000748327118344605, 0.0020653423853218555, 0.000649237132165581, 0.013897872529923916, 0.005321401637047529, 0.2579456567764282, 0.7188165783882141, 0.0], [0.0018396517261862755, 0.01063894759863615, 0.007704947143793106, 0.0024620594922453165, 0.04020877182483673, 0.01652197726070881, 0.09613672643899918, 0.8244869709014893, 0.0]], [[0.030241696164011955, 0.7127370238304138, 0.003030825173482299, 0.1825309693813324, 0.02410528063774109, 4.706215622718446e-05, 4.266008181730285e-05, 0.047264404594898224, 0.0], [0.1623430699110031, 0.38117915391921997, 0.02127458155155182, 0.07272728532552719, 0.04440275952219963, 0.008889867924153805, 0.008865203708410263, 0.3003181219100952, 0.0], [0.005956081207841635, 0.009862354025244713, 0.13318659365177155, 0.03004634939134121, 0.5020563006401062, 0.0989997535943985, 0.03278905898332596, 0.18710342049598694, 0.0], [0.0059837899170815945, 0.9467135071754456, 0.0010754296090453863, 0.0036516652908176184, 0.003509112633764744, 0.0011400560615584254, 0.001224164734594524, 0.036702193319797516, 0.0], [0.03536941856145859, 0.1066044270992279, 0.19215795397758484, 0.02038155309855938, 0.039533115923404694, 0.3124222457408905, 0.010212155990302563, 0.2833192050457001, 0.0], [0.0029474617913365364, 0.005130082368850708, 0.2094460129737854, 0.02344461902976036, 0.014664312824606895, 0.5604850053787231, 0.042431753128767014, 0.1414506584405899, 0.0], [0.003908672835677862, 0.024184120818972588, 0.025620410218834877, 0.042927395552396774, 0.29310697317123413, 0.30192986130714417, 0.13413389027118683, 0.17418864369392395, 0.0], [0.00408909423276782, 0.006554063409566879, 0.01009261142462492, 0.012594204396009445, 0.04982056841254234, 0.5597888827323914, 0.18526287376880646, 0.17179764807224274, 0.0]], [[9.433616246244802e-27, 1.3211263101192711e-22, 1.0, 2.2638507279730546e-13, 1.8435724591799247e-31, 8.614481045622544e-33, 2.767171963132783e-23, 2.937769780039953e-25, 0.0], [1.6061015364887687e-12, 3.6866318916910223e-13, 1.6870715935368708e-09, 1.0, 4.938484288175005e-09, 6.609623186776774e-23, 1.130041561540398e-28, 3.745573406185861e-17, 0.0], [1.7142021135896357e-08, 1.0404629241511643e-10, 3.228282441716801e-13, 2.235772080894094e-05, 0.9999769926071167, 6.116595727689855e-07, 3.032374849243098e-19, 4.3205890254416346e-12, 0.0], [6.28160229994984e-13, 1.2629628855860726e-14, 1.2801500151128648e-19, 2.207062889392616e-19, 1.0961847607404707e-07, 0.9999661445617676, 3.378210385562852e-05, 3.277324939210402e-11, 0.0], [1.9174264953569775e-10, 1.3107749607943475e-10, 9.447479385989773e-15, 3.661627103213069e-20, 8.153811047845964e-15, 1.079567755368771e-05, 0.9996390342712402, 0.00035006547113880515, 0.0], [7.08105751812127e-09, 6.273328523320743e-08, 1.057599979814583e-10, 8.688450796218643e-19, 6.94780791238083e-20, 1.2720795011973707e-13, 4.0080845792545006e-05, 0.9999598264694214, 0.0], [3.034633209608728e-06, 1.2906405117973918e-06, 4.991120294839391e-10, 3.770118576053652e-14, 1.683622610028148e-19, 2.2283103482074903e-20, 5.622551764314842e-18, 0.9999957084655762, 0.0], [0.6388672590255737, 0.05297872796654701, 1.0867874152609147e-05, 8.633792276668828e-06, 6.1893490332920464e-09, 7.086131594696843e-12, 8.182492456942721e-17, 0.3081344962120056, 0.0]], [[0.8458365797996521, 0.011065257713198662, 0.004050227347761393, 0.005993987899273634, 0.0010388015070930123, 0.0008240656461566687, 0.003016981529071927, 0.12817412614822388, 0.0], [0.08667019009590149, 0.6693417429924011, 0.04151574522256851, 0.015266845934092999, 0.0014053693739697337, 0.00880101602524519, 0.0032967037986963987, 0.17370231449604034, 0.0], [0.02283669263124466, 0.8162437677383423, 0.05917692929506302, 0.0007659316179342568, 0.000785606331191957, 0.0002929088950622827, 0.022725911810994148, 0.07717221975326538, 0.0], [0.00029267813079059124, 0.3019638657569885, 0.23735001683235168, 0.030578501522541046, 0.12079434096813202, 5.387349665397778e-05, 0.00996658019721508, 0.29900020360946655, 0.0], [0.0007309620268642902, 0.016365572810173035, 0.1073123887181282, 0.7875643968582153, 0.02736865170300007, 0.008963244035840034, 0.0022583426907658577, 0.04943655803799629, 0.0], [0.0007737294654361904, 0.0014170052018016577, 0.013729611411690712, 0.5123659372329712, 0.036801040172576904, 0.2831575572490692, 0.007552944589406252, 0.14420214295387268, 0.0], [0.0019740022253245115, 0.0009468783973716199, 0.00043663056567311287, 0.0033716955222189426, 0.02883579209446907, 0.8764742612838745, 0.042484886944293976, 0.04547584056854248, 0.0], [0.0030217349994927645, 0.0046564810909330845, 0.00036701865610666573, 0.000277985556749627, 0.005222506821155548, 0.05044921487569809, 0.907507598400116, 0.02849746122956276, 0.0]]], [[[2.0323857370385667e-06, 2.8496246159193106e-05, 0.006367678288370371, 0.9896267652511597, 0.002940364880487323, 3.849954737233929e-06, 3.890916673299216e-07, 0.0010304262395948172, 0.0], [0.005808163434267044, 0.001929816440679133, 0.0010381662286818027, 0.03264019265770912, 0.9171988368034363, 0.02541988529264927, 5.759323903475888e-05, 0.015907227993011475, 0.0], [0.0006730430759489536, 0.0008753443253226578, 0.00029731192626059055, 0.0011234928388148546, 0.0019785594195127487, 0.6768373250961304, 0.04898658022284508, 0.26922836899757385, 0.0], [0.0004032964934594929, 3.188801656506257e-06, 0.0001440681517124176, 7.036383613012731e-05, 2.0502935512922704e-05, 0.010280276648700237, 0.6140223145484924, 0.37505608797073364, 0.0], [0.0005592556553892791, 1.1869446097989567e-05, 8.3002314568148e-06, 1.0972733434755355e-05, 0.0001238094555446878, 0.0001354682317469269, 0.04768320545554161, 0.9514670968055725, 0.0], [0.00022959803754929453, 6.836581451352686e-05, 0.0019380735466256738, 0.0006327654118649662, 4.443644866114482e-05, 0.0005031385226175189, 0.00539135467261076, 0.9911922812461853, 0.0], [0.0009630161803215742, 0.0004293151432648301, 0.0005788553971797228, 9.761498949956149e-05, 5.813631560158683e-06, 0.0001011048152577132, 0.0010430169058963656, 0.9967812299728394, 0.0], [0.0008446877473033965, 0.0016332130180671811, 0.0006799818947911263, 4.2851064790738747e-05, 0.00011038800585083663, 0.007253672927618027, 0.0009430301724933088, 0.9884922504425049, 0.0]], [[0.00011747934331651777, 0.014496293850243092, 0.9133173823356628, 0.05366542190313339, 0.00019380764570087194, 1.3219867469160818e-05, 0.0005248910747468472, 0.017671700567007065, 0.0], [0.0006620550411753356, 0.00011226896458538249, 0.004131819121539593, 0.9939557909965515, 0.00027032356592826545, 1.2366951523290481e-05, 8.000863999768626e-06, 0.0008474194910377264, 0.0], [0.0002952456707134843, 0.002518939785659313, 0.02603134885430336, 0.16227111220359802, 0.18477201461791992, 0.29195764660835266, 0.0040218583308160305, 0.3281318247318268, 0.0], [9.758941450854763e-05, 1.4931863006495405e-05, 0.0018365980358794332, 0.0013441042974591255, 0.020664473995566368, 0.3034959137439728, 0.05203733965754509, 0.6205090284347534, 0.0], [2.4212838980020024e-05, 4.198443639324978e-05, 0.0003548100357875228, 0.00012721598614007235, 0.0009089683298952878, 0.360532283782959, 0.3572152256965637, 0.28079527616500854, 0.0], [4.520405491348356e-05, 2.6771993361762725e-05, 0.0004702547157648951, 0.0001476950419601053, 0.0009782842826098204, 0.0965924859046936, 0.14185307919979095, 0.7598862648010254, 0.0], [4.375493881525472e-05, 0.00015276053454726934, 0.001530700596049428, 0.00026901077944785357, 0.00035483422107063234, 0.0003513636183924973, 0.006920139770954847, 0.9903774857521057, 0.0], [0.002394184935837984, 0.00034974110894836485, 0.0005002541001886129, 0.014741777442395687, 0.017026808112859726, 0.006851027719676495, 0.0005594472168013453, 0.9575767517089844, 0.0]], [[0.011423279531300068, 0.0002627447829581797, 0.006054676603525877, 0.9356169700622559, 0.018592853099107742, 0.022258006036281586, 2.3726002837065607e-05, 0.00576761644333601, 0.0], [0.010732139460742474, 0.00040124767110683024, 0.014573565684258938, 0.00585355656221509, 0.010277804918587208, 0.883339524269104, 0.043272435665130615, 0.03154986724257469, 0.0], [0.4670691192150116, 0.007364282384514809, 0.01965726912021637, 0.0011259918101131916, 0.0011211966630071402, 0.10511135309934616, 0.06094653531908989, 0.337604284286499, 0.0], [0.0005914297071285546, 0.003893786109983921, 0.007902532815933228, 0.013646177016198635, 0.00044725954649038613, 0.0023175524547696114, 0.03865205496549606, 0.9325491786003113, 0.0], [0.0019567215349525213, 0.0012783012352883816, 0.0006991669069975615, 0.0001541258825454861, 8.530842023901641e-05, 0.005415474530309439, 0.00661502918228507, 0.9837958812713623, 0.0], [0.00014159495185595006, 0.00626707449555397, 0.0006154911825433373, 1.0028369615611155e-05, 0.00010410381219116971, 0.008061453700065613, 0.012282688170671463, 0.9725176095962524, 0.0], [0.0004747029161080718, 0.004999886266887188, 0.004240009002387524, 0.0002736191963776946, 0.0005731041892431676, 0.0046182419173419476, 0.02412233129143715, 0.9606980681419373, 0.0], [0.002125260652974248, 0.007901309989392757, 0.07062464207410812, 0.00037303808494471014, 0.0037213307805359364, 0.10238371044397354, 0.010609129443764687, 0.8022616505622864, 0.0]], [[0.07443553954362869, 0.3873360753059387, 0.019676964730024338, 0.01671021804213524, 0.20828808844089508, 0.00024018072872422636, 0.18200670182704926, 0.11130620539188385, 0.0], [0.00021202854986768216, 0.803007960319519, 0.051204863935709, 0.00043811186333186924, 0.06867001205682755, 0.0017025797860696912, 0.007608452811837196, 0.06715589016675949, 0.0], [0.011376791633665562, 0.6824490427970886, 0.20543642342090607, 0.013001826591789722, 0.007190507370978594, 0.0023857925552874804, 0.008913877420127392, 0.06924563646316528, 0.0], [0.006016633938997984, 0.033087924122810364, 0.8101661801338196, 0.047595538198947906, 0.003069973085075617, 0.005126642528921366, 0.005029723513871431, 0.08990731090307236, 0.0], [0.0009992888662964106, 0.11828674376010895, 0.09254169464111328, 0.03345411270856857, 0.2503153681755066, 0.04396925866603851, 0.013239698484539986, 0.44719380140304565, 0.0], [0.006730559282004833, 0.019253429025411606, 0.007082509808242321, 0.0034237809013575315, 0.3603169322013855, 0.14044518768787384, 0.11056386679410934, 0.35218366980552673, 0.0], [0.001932725659571588, 0.00401858426630497, 0.00764235807582736, 0.0017317836172878742, 0.19616521894931793, 0.45303186774253845, 0.06356234103441238, 0.27191513776779175, 0.0], [0.0004942635423503816, 0.001290152664296329, 0.00027921912260353565, 0.01193612813949585, 0.0050151473842561245, 0.9430933594703674, 0.007778724655508995, 0.030113104730844498, 0.0]], [[0.007838593795895576, 0.012748491019010544, 0.0012045884504914284, 0.0733615905046463, 0.7748413681983948, 0.03777008131146431, 0.022295381873846054, 0.06993992626667023, 0.0], [0.044793374836444855, 0.09512245655059814, 0.09286820888519287, 0.14890147745609283, 0.019606543704867363, 0.08791890740394592, 0.22996965050697327, 0.2808193266391754, 0.0], [0.008689944632351398, 0.09070217609405518, 0.10229168832302094, 0.05085163190960884, 0.017715446650981903, 0.01583779603242874, 0.20065321028232574, 0.513258159160614, 0.0], [0.0245809406042099, 0.09793750196695328, 0.0217093825340271, 0.32636669278144836, 0.009297451935708523, 0.013938971795141697, 0.0173441581428051, 0.4888249635696411, 0.0], [0.09695497900247574, 0.012085596099495888, 0.005598457995802164, 0.25809940695762634, 0.1441739946603775, 0.0487944521009922, 0.07152476906776428, 0.36276835203170776, 0.0], [0.0009994328720495105, 0.0015695838956162333, 0.0017599238781258464, 0.06466025114059448, 0.022455373778939247, 0.07846131175756454, 0.05482163280248642, 0.7752724885940552, 0.0], [0.0011631351662799716, 0.0014314708532765508, 0.003082993673160672, 0.015958182513713837, 0.00274115358479321, 0.034831732511520386, 0.02320416085422039, 0.9175872206687927, 0.0], [0.0020506861619651318, 0.023989450186491013, 0.041761308908462524, 0.002803155919536948, 0.005892367102205753, 0.1200854629278183, 0.19802065193653107, 0.6053968667984009, 0.0]], [[0.14430809020996094, 0.13790415227413177, 0.2122969627380371, 0.4419301748275757, 0.0045307232066988945, 0.011677948758006096, 0.00027586345095187426, 0.0470760278403759, 0.0], [0.06711935997009277, 0.1114119365811348, 0.2664525508880615, 0.16534070670604706, 0.007552450057119131, 0.055337969213724136, 0.02210664376616478, 0.304678350687027, 0.0], [0.00015217794862110168, 0.008696082979440689, 0.08750880509614944, 0.5824168920516968, 0.11445536464452744, 0.00848470814526081, 0.0016038503963500261, 0.19668211042881012, 0.0], [0.008801238611340523, 0.001874048262834549, 0.007951807230710983, 0.3282667100429535, 0.14080892503261566, 0.007796484045684338, 0.0034799666609615088, 0.5010208487510681, 0.0], [0.0012345992727205157, 0.0009821339044719934, 0.05342288687825203, 0.027498722076416016, 0.02945554070174694, 0.06186212599277496, 0.0317278653383255, 0.7938161492347717, 0.0], [0.0018295617774128914, 0.008935176767408848, 0.01052806992083788, 0.0014105860609561205, 0.17607800662517548, 0.424378365278244, 0.024166040122509003, 0.3526741862297058, 0.0], [0.006010671146214008, 0.03654509410262108, 0.019101230427622795, 0.0005240535829216242, 0.052588511258363724, 0.05577889829874039, 0.08019945025444031, 0.7492520809173584, 0.0], [0.0002272245765198022, 0.005622636526823044, 0.0032812959980219603, 0.00016698356193955988, 0.06520337611436844, 0.01284510176628828, 0.6371167302131653, 0.27553656697273254, 0.0]], [[0.0034034771379083395, 0.07197874039411545, 0.0072906771674752235, 0.5989660024642944, 0.22414624691009521, 0.004103498067706823, 0.008199895732104778, 0.08191142231225967, 0.0], [0.015123465098440647, 0.11761016398668289, 0.05627267062664032, 0.037838421761989594, 0.5049026608467102, 0.014040450565516949, 0.13776281476020813, 0.11644937098026276, 0.0], [0.004544953815639019, 0.10616951435804367, 0.8311175107955933, 0.0035502153914421797, 0.0011039678938686848, 0.023041455075144768, 0.00018709454161580652, 0.030285250395536423, 0.0], [0.0006569360266439617, 0.02082185447216034, 0.6971856355667114, 0.18249057233333588, 0.0011296378215774894, 0.04908793047070503, 0.002096449490636587, 0.04653097316622734, 0.0], [0.00032500349334441125, 0.00026577210519462824, 0.23168344795703888, 0.45831048488616943, 0.006938080303370953, 0.07723287492990494, 0.005980808287858963, 0.21926353871822357, 0.0], [0.00034684306592680514, 0.024620825424790382, 0.0011141435243189335, 0.0048552812077105045, 0.01417325995862484, 0.04685365781188011, 0.09667909890413284, 0.8113568425178528, 0.0], [6.439710705308244e-05, 0.00037110038101673126, 0.001202041283249855, 0.006757598835974932, 0.008389264345169067, 0.36393290758132935, 0.32012584805488586, 0.2991568446159363, 0.0], [0.0022850707173347473, 0.00048765004612505436, 0.000921019702218473, 6.118592864368111e-05, 0.11667950451374054, 0.33676275610923767, 0.3720707893371582, 0.17073212563991547, 0.0]], [[1.0, 5.167519190329983e-12, 2.360301458289303e-19, 1.7812198733574324e-20, 2.015337232830921e-15, 4.880497395109984e-11, 2.2653655616959242e-14, 2.463003231206667e-17, 0.0], [4.0501633158385175e-09, 1.0, 8.347150748377885e-10, 5.7495471493988835e-18, 7.265704096550763e-16, 4.793273008138074e-18, 9.44897545793286e-16, 1.0597561890535179e-11, 0.0], [7.092779488737655e-12, 1.8322666051062697e-07, 0.9929296374320984, 0.007070181425660849, 1.1447831614955217e-12, 1.636899640898408e-14, 1.2469416861991871e-18, 7.260949111929926e-13, 0.0], [2.17372543241544e-17, 3.1760614983175406e-18, 1.1678610552581792e-12, 1.0, 3.5477060200163335e-13, 7.6940514667401185e-22, 3.385100089273354e-22, 7.161809876605955e-20, 0.0], [2.474782738078759e-19, 1.172520039692638e-18, 1.161098174698141e-19, 6.68431442466498e-14, 1.0, 5.8332626448891374e-15, 1.3441442615916616e-22, 1.8642259937987083e-20, 0.0], [1.7865859798482078e-16, 1.963340315418703e-17, 3.496192864296116e-15, 7.074951052601788e-18, 9.310124692669605e-14, 1.0, 2.4906931985618774e-12, 6.808704939914242e-14, 0.0], [7.258015369271398e-12, 5.030739280015295e-13, 1.5937243598736065e-15, 1.7279145169270087e-14, 1.1372441616891438e-12, 3.5412017762581627e-09, 0.9999786615371704, 2.13574730878463e-05, 0.0], [6.220595734482068e-14, 1.4392281947908405e-18, 1.1351845396415365e-17, 9.27738526521632e-24, 4.341697056751361e-22, 5.8726273238538236e-21, 4.4843898194812937e-07, 0.9999995231628418, 0.0]]], [[[0.4510110914707184, 0.2915627658367157, 0.07483506947755814, 0.014876510947942734, 0.02605193480849266, 0.016588183119893074, 0.001282591954804957, 0.12379175424575806, 0.0], [0.10806117951869965, 0.19468529522418976, 0.20558710396289825, 0.16525140404701233, 0.002321709180250764, 0.007844079285860062, 0.005696116480976343, 0.3105531334877014, 0.0], [0.3538966476917267, 0.0872587263584137, 0.05689086392521858, 0.06654951721429825, 0.040931928902864456, 0.0142580671235919, 0.002674124436452985, 0.37754005193710327, 0.0], [0.0024087545461952686, 0.0004986737621948123, 0.8990319967269897, 0.031190484762191772, 0.0002624480111990124, 0.009978003799915314, 0.02258113957941532, 0.03404852747917175, 0.0], [0.0035854403395205736, 0.020064914599061012, 0.0010864840587601066, 0.014184788800776005, 0.8632736802101135, 0.00010257905523758382, 0.0003159407351631671, 0.09738609939813614, 0.0], [0.0016091077122837305, 0.002401946345344186, 0.007171433884650469, 0.001456035883165896, 0.3002031445503235, 0.05482477694749832, 0.035977933555841446, 0.5963556170463562, 0.0], [0.005879444535821676, 0.0005920092226006091, 0.0020446134731173515, 0.0691922977566719, 0.3262634575366974, 0.011852883733808994, 0.313382089138031, 0.27079322934150696, 0.0], [0.0002702518831938505, 0.00025830738013610244, 0.0021094230469316244, 0.0035204575397074223, 0.0027430818881839514, 0.0031896948348730803, 0.012239565141499043, 0.975669264793396, 0.0]], [[0.722902774810791, 0.11120568960905075, 0.02578669600188732, 0.12228251993656158, 0.0001828582026064396, 0.008698691613972187, 0.0017558790277689695, 0.0071848612278699875, 0.0], [0.0008529348415322602, 0.7390732169151306, 0.24762935936450958, 0.0021827833261340857, 0.00013322372979018837, 7.210002513602376e-05, 7.631471089553088e-05, 0.009980147704482079, 0.0], [0.006870057433843613, 0.2039606273174286, 0.6524143218994141, 0.009436537511646748, 0.023643774911761284, 0.02339850552380085, 0.004053670447319746, 0.07622256875038147, 0.0], [0.011630892753601074, 8.315454033436254e-05, 0.007573171518743038, 0.19969092309474945, 0.08659934252500534, 0.11264071613550186, 0.10338016599416733, 0.47840163111686707, 0.0], [0.0008493654895573854, 0.00019081539358012378, 0.0006235711043700576, 0.6255812048912048, 0.24670471251010895, 0.009189091622829437, 0.009494737721979618, 0.10736648738384247, 0.0], [0.003358149668201804, 9.850256174104288e-05, 0.0014034280320629478, 0.06431379914283752, 0.007223387714475393, 0.18592174351215363, 0.3229738175868988, 0.4147071838378906, 0.0], [0.00011635853297775611, 1.630885890335776e-05, 0.0008976878598332405, 0.0030684471130371094, 0.0007296536350622773, 0.06262534111738205, 0.7276089787483215, 0.20493727922439575, 0.0], [0.00025709308101795614, 0.0004874967271462083, 0.013506445102393627, 0.018676089122891426, 0.006878367159515619, 0.020538462325930595, 0.162753626704216, 0.776902437210083, 0.0]], [[0.039041899144649506, 0.012947877869009972, 0.006162544712424278, 0.0027143980842083693, 0.016866281628608704, 0.04100394621491432, 0.03139448165893555, 0.8498685359954834, 0.0], [0.15577206015586853, 0.002736731432378292, 0.04665595665574074, 0.00587324658408761, 0.09931527078151703, 0.004983530379831791, 0.015251060016453266, 0.6694121360778809, 0.0], [0.7076337933540344, 0.012772927060723305, 0.02006346918642521, 0.034806862473487854, 0.003661802038550377, 0.002536485204473138, 0.002891184762120247, 0.21563346683979034, 0.0], [0.001792876748368144, 0.6992217302322388, 0.02913210541009903, 0.004453522618860006, 0.022000765427947044, 0.008538336493074894, 0.0004201231640763581, 0.23444056510925293, 0.0], [0.0006684320978820324, 0.05574234947562218, 0.8616493344306946, 0.003382008755579591, 0.008604327216744423, 0.0015258961357176304, 0.0007998582441359758, 0.06762769818305969, 0.0], [0.0028576639015227556, 0.023663854226469994, 0.022884050384163857, 0.7407347559928894, 0.023998098447918892, 0.003857995383441448, 0.013975691981613636, 0.16802778840065002, 0.0], [7.760449079796672e-05, 0.008101189509034157, 0.0012959097512066364, 0.014059321954846382, 0.950369656085968, 0.01438195165246725, 0.0050249407067894936, 0.006689348258078098, 0.0], [0.0047571719624102116, 0.0018143737688660622, 0.03458594158291817, 0.0007112077437341213, 0.0024422239512205124, 0.002921421080827713, 0.0023285245988518, 0.9504390954971313, 0.0]], [[0.00042304969974793494, 0.00384338921867311, 0.01762453094124794, 0.0331546813249588, 0.7841964960098267, 0.10885310918092728, 0.00297791650518775, 0.04892686381936073, 0.0], [0.005883477162569761, 0.1278458833694458, 0.00804223958402872, 0.011885673739016056, 0.1135982871055603, 0.5180717706680298, 0.042302973568439484, 0.17236967384815216, 0.0], [0.19945484399795532, 0.048513974994421005, 0.29273349046707153, 0.011023025028407574, 0.004561110865324736, 0.0361722968518734, 0.06825839728116989, 0.3392828702926636, 0.0], [0.215630441904068, 0.2916865944862366, 0.0050825742073357105, 0.0008039872045628726, 0.08063991367816925, 0.010168629698455334, 0.028753597289323807, 0.3672342002391815, 0.0], [0.002181342337280512, 0.27278512716293335, 0.07988296449184418, 0.0006789144827052951, 0.021648941561579704, 0.004363643936812878, 0.02536650374531746, 0.5930926203727722, 0.0], [0.008955433964729309, 0.00586097314953804, 0.4596756398677826, 0.03329633176326752, 0.030764030292630196, 0.020290862768888474, 0.01452488824725151, 0.4266318082809448, 0.0], [0.0008958421531133354, 0.018801642581820488, 0.14298860728740692, 0.01342530082911253, 0.040632668882608414, 0.5142034888267517, 0.01383241731673479, 0.255219966173172, 0.0], [0.0013997649075463414, 0.000614518707152456, 0.0020189897622913122, 0.005465960595756769, 0.01739710196852684, 0.07990340888500214, 0.025430813431739807, 0.8677694201469421, 0.0]], [[0.0008351888973265886, 0.0038545315619558096, 0.02024202048778534, 0.9629789590835571, 0.0001418962056050077, 0.00025965095846913755, 0.008973113261163235, 0.0027146218344569206, 0.0], [0.00801979098469019, 0.16401039063930511, 0.01824451982975006, 0.5961588025093079, 0.01166410930454731, 0.008701619692146778, 0.12341415137052536, 0.06978656351566315, 0.0], [0.07706400752067566, 0.01004405040293932, 0.029425950720906258, 0.11028938740491867, 0.017299452796578407, 0.10279922187328339, 0.31238630414009094, 0.34069162607192993, 0.0], [0.012044806964695454, 0.0025536573957651854, 0.005584460683166981, 0.06127459928393364, 0.0032025121618062258, 0.02134624496102333, 0.6602845788002014, 0.2337091565132141, 0.0], [0.0007324402104131877, 0.012087349779903889, 0.030819982290267944, 0.024188343435525894, 0.008281581103801727, 0.0080707473680377, 0.3500208258628845, 0.5657987594604492, 0.0], [0.0008864655392244458, 0.00460461899638176, 0.013736833818256855, 0.011095941066741943, 0.005073321517556906, 0.5575549602508545, 0.017852453514933586, 0.38919544219970703, 0.0], [0.001044103060849011, 0.000968857784755528, 0.00987892784178257, 0.008978848345577717, 0.05795855075120926, 0.07210155576467514, 0.044489722698926926, 0.8045794367790222, 0.0], [0.00012084604531992227, 0.01520457211881876, 0.001891224761493504, 0.005964869633316994, 0.007951157167553902, 0.010045325383543968, 0.07917612046003342, 0.8796459436416626, 0.0]], [[0.4873424470424652, 0.22371599078178406, 0.07179843634366989, 0.10374800860881805, 0.034536682069301605, 0.018484506756067276, 0.0006783850840292871, 0.05969548225402832, 0.0], [0.7372004985809326, 0.03210750222206116, 0.04311954230070114, 0.01157967746257782, 0.09814820438623428, 0.010717613622546196, 9.706168930279091e-05, 0.06703004986047745, 0.0], [0.001023329677991569, 0.006112437695264816, 0.11124157160520554, 0.6910603046417236, 0.06059291213750839, 0.02433241531252861, 0.010065829381346703, 0.09557116776704788, 0.0], [0.013150738552212715, 0.006609003525227308, 0.7570560574531555, 0.018334059044718742, 0.040621593594551086, 0.04647527635097504, 0.0014799913624301553, 0.11627333611249924, 0.0], [0.0001015739471768029, 0.007713687606155872, 0.009330451488494873, 0.007015536539256573, 0.7454932332038879, 0.03407139331102371, 0.006983681581914425, 0.18929047882556915, 0.0], [0.0003361599228810519, 0.0034821133594959974, 0.007638588082045317, 0.06283622235059738, 0.2508779466152191, 0.08754927664995193, 0.1213848665356636, 0.4658947288990021, 0.0], [0.00029417002224363387, 0.0002537771943025291, 0.0009827284375205636, 0.0006021230365149677, 0.03444140776991844, 0.5853816866874695, 0.02579333819448948, 0.3522507846355438, 0.0], [0.0008864214760251343, 0.0006810447084717453, 0.0024388101883232594, 0.002350208116695285, 0.010758857242763042, 0.01110251434147358, 0.0009277771459892392, 0.9708544015884399, 0.0]], [[0.9965013265609741, 0.0013442372437566519, 6.717491487506777e-05, 0.00031649452284909785, 0.00010127026325790212, 0.0004436186281964183, 0.0001962390961125493, 0.0010297801345586777, 0.0], [0.0652531087398529, 0.7855706810951233, 0.013946892693638802, 0.003135038772597909, 0.021687589585781097, 0.014804317615926266, 0.008245588280260563, 0.08735682815313339, 0.0], [6.496192509075627e-05, 0.015196063555777073, 0.8611443042755127, 0.005571841727942228, 0.0011439034715294838, 0.0028603249229490757, 0.022370923310518265, 0.09164776653051376, 0.0], [0.005336227361112833, 0.05329834669828415, 0.18486569821834564, 0.0901792049407959, 0.08674512058496475, 0.03735481575131416, 0.020303333178162575, 0.5219172835350037, 0.0], [2.0176157704554498e-05, 0.00034328902256675065, 0.0017771960701793432, 0.0003847818588837981, 0.8733987212181091, 0.07307223975658417, 0.008167924359440804, 0.04283571615815163, 0.0], [0.0007858852040953934, 0.0018858467228710651, 0.000552742974832654, 0.0012624087976291776, 0.0019161025993525982, 0.47435668110847473, 0.4445772171020508, 0.07466315478086472, 0.0], [0.0016874833963811398, 1.6500238416483626e-05, 0.00010515096073504537, 0.00018180866027250886, 0.0003554813447408378, 0.013478891924023628, 0.9251829385757446, 0.058991674333810806, 0.0], [0.0002329567214474082, 7.513909804401919e-05, 0.0006025278125889599, 0.0011196205159649253, 0.004745750222355127, 0.007099096663296223, 0.041839420795440674, 0.9442854523658752, 0.0]], [[0.0031442204490303993, 0.8115465044975281, 0.06484150141477585, 0.03605526685714722, 0.0535687617957592, 0.008435758762061596, 0.0008087819442152977, 0.021599268540740013, 0.0], [3.341469346196391e-05, 0.0015353253111243248, 0.9780374765396118, 0.004023770801723003, 0.004419622477144003, 0.0042732711881399155, 0.0005627030041068792, 0.007114427164196968, 0.0], [0.0007966503617353737, 0.006699569523334503, 0.030574165284633636, 0.1675325334072113, 0.07273711264133453, 0.07277245074510574, 0.007290434092283249, 0.6415970921516418, 0.0], [4.677567631006241e-05, 0.00624949811026454, 0.006991720758378506, 0.006932899355888367, 0.796072781085968, 0.01562947779893875, 0.0003812369250226766, 0.1676957607269287, 0.0], [4.719823118648492e-05, 0.00035542913246899843, 0.0030223955400288105, 0.0005616250564344227, 0.03217248246073723, 0.6482805013656616, 0.00494221830740571, 0.3106182813644409, 0.0], [0.0009582903003320098, 0.0035853267181664705, 0.0013404249912127852, 0.00019740597053896636, 0.009728837758302689, 0.12115952372550964, 0.015102925710380077, 0.8479272723197937, 0.0], [3.284365084255114e-05, 0.0037735349033027887, 0.0001950114092323929, 0.00018680878565646708, 0.0255536250770092, 0.18774837255477905, 0.03494850546121597, 0.7475612759590149, 0.0], [2.4003591079235775e-06, 1.8810642359312624e-05, 0.00015358548262156546, 0.0001806320360628888, 0.005634554196149111, 0.0034511368721723557, 0.0003718264924827963, 0.9901870489120483, 0.0]]]], \"left_text\": [\"Q\", \"Y\", \"S\", \"V\", \"L\", \"I\", \"F\", \"<eos>\"], \"right_text\": [\"E\", \"Q\", \"V\", \"T\", \"N\", \"V\", \"G\", \"<eos>\", \"<pad>\"]}], \"default_filter\": \"0\", \"root_div_id\": \"bertviz-c743078893e94f6fbe3acebda3f93a47\", \"layer\": null, \"heads\": null, \"include_layers\": [0, 1, 2, 3]}; // HACK: {\"attention\": [{\"name\": \"Encoder\", \"attn\": [[[[0.1146475151181221, 0.8302609324455261, 0.05499810352921486, 9.310716995969415e-05, 3.2050306231212744e-07, 1.2516911063187308e-08, 7.378405664226761e-10, 7.338711652984734e-18, 0.0], [0.9965884685516357, 0.00319258077070117, 0.00021891901269555092, 7.131946144767198e-09, 3.7235422671632115e-14, 1.0594716691618758e-15, 2.986244877680594e-13, 1.5077189563053843e-18, 0.0], [0.0007748212665319443, 0.9886252880096436, 0.010592875070869923, 7.099294634826947e-06, 2.9330312050629415e-12, 4.867065066800893e-19, 1.2053653386810058e-16, 4.915391026137773e-19, 0.0], [6.6201431238777e-15, 4.930248906021006e-06, 0.9982879757881165, 0.0017070421017706394, 8.053864775092734e-08, 3.4694178351960523e-16, 1.2884961705582968e-20, 8.40507865344103e-24, 0.0], [2.165715980726162e-31, 2.7438980921570674e-18, 5.929719577579817e-07, 0.9999587535858154, 4.0670773159945384e-05, 1.622509906377273e-13, 3.430885844425089e-24, 2.249003768865295e-36, 0.0], [8.407790785948902e-45, 2.530848750458741e-34, 3.639165050029902e-22, 4.833199227505247e-07, 0.9999983310699463, 1.2085919252058375e-06, 5.915515473298161e-15, 3.858943699851171e-30, 0.0], [0.0, 0.0, 2.0228700879005765e-35, 1.8551015454073948e-19, 5.715916131521226e-07, 0.9999796152114868, 1.9752867956412956e-05, 5.474055757912046e-20, 0.0], [0.0, 0.0, 0.0, 0.0, 0.0, 0.0, 0.0, 1.0, 0.0], [8.688050478813866e-44, 0.0, 0.0, 0.0, 6.848145595155381e-42, 5.8678960895539935e-24, 1.9878171331200178e-10, 1.0, 0.0]], [[3.6176526184428237e-12, 1.0, 4.7526499614604415e-19, 0.0, 0.0, 0.0, 0.0, 0.0, 0.0], [1.847306382190679e-28, 5.291930522260957e-12, 1.0, 2.1292922677592965e-17, 3.6952240504245426e-42, 0.0, 0.0, 0.0, 0.0], [0.0, 1.8163148738189084e-22, 9.327834504802013e-09, 1.0, 4.2203525396633523e-11, 2.6050979230876944e-40, 0.0, 0.0, 0.0], [0.0, 1.2833091336286675e-41, 8.848619846178817e-19, 6.295255289279211e-11, 1.0, 6.059313715654682e-17, 2.464183349515191e-40, 0.0, 0.0], [0.0, 0.0, 1.5391722202297358e-40, 1.1885753453899144e-24, 8.49358292032143e-11, 1.0, 1.8898755824170443e-11, 1.6639743277478012e-37, 0.0], [7.788332786809474e-39, 0.0, 0.0, 1.2611686178923354e-44, 1.2398003043717576e-23, 3.761607345054152e-11, 1.0, 1.2459634954940064e-16, 0.0], [1.0691054457403315e-22, 2.1468490121646038e-35, 0.0, 0.0, 9.80908925027372e-45, 2.5322756518413357e-24, 1.0390421856243393e-08, 1.0, 0.0], [0.0, 0.0, 0.0, 0.0, 0.0, 0.0, 2.1184045456522563e-39, 1.0, 0.0], [1.2099839945443403e-29, 2.361229917369201e-06, 0.999997615814209, 3.092370448598558e-08, 2.914712501651462e-17, 3.121961467215335e-34, 1.7909652275975748e-28, 2.9039857633777202e-21, 0.0]], [[0.005840528756380081, 0.01814328320324421, 0.20564234256744385, 0.4318316876888275, 0.2409166842699051, 0.07430310547351837, 0.01336608175188303, 0.009956233203411102, 0.0], [0.12840265035629272, 0.0821705088019371, 0.1577286422252655, 0.15655124187469482, 0.19041293859481812, 0.11191384494304657, 0.038688622415065765, 0.13413147628307343, 0.0], [0.3549915552139282, 0.1483001708984375, 0.0743449255824089, 0.0462186299264431, 0.04053156450390816, 0.031639084219932556, 0.043072961270809174, 0.2609011232852936, 0.0], [0.27902427315711975, 0.357711523771286, 0.16289390623569489, 0.03490887209773064, 0.013537702150642872, 0.00810605101287365, 0.01913018524646759, 0.12468738108873367, 0.0], [0.07186396420001984, 0.33080002665519714, 0.4159316122531891, 0.1206669732928276, 0.02593226358294487, 0.005744625348597765, 0.008949988521635532, 0.020110558718442917, 0.0], [0.004151626024395227, 0.057971831411123276, 0.29076075553894043, 0.4546601474285126, 0.15352682769298553, 0.023072965443134308, 0.013438382185995579, 0.0024174938444048166, 0.0], [0.000600641593337059, 0.005172075238078833, 0.06079595535993576, 0.38390177488327026, 0.3813099265098572, 0.14058658480644226, 0.0269246157258749, 0.0007083996315486729, 0.0], [0.0004775326233357191, 1.2995842553209513e-05, 0.0005075368680991232, 0.00224393792450428, 0.0086582126095891, 0.009983562864363194, 0.0006650147261098027, 0.9774511456489563, 0.0], [0.00827823393046856, 0.00330919586122036, 0.004306737333536148, 0.029630107805132866, 0.11275821924209595, 0.4726405143737793, 0.3284088969230652, 0.040668096393346786, 0.0]], [[0.03724818304181099, 0.19076916575431824, 0.1850205510854721, 0.16105258464813232, 0.3610203266143799, 0.03477085009217262, 0.01558060571551323, 0.014537589624524117, 0.0], [0.13475681841373444, 0.11252230405807495, 0.2728704512119293, 0.22096660733222961, 0.19573456048965454, 0.02594050206243992, 0.020253358408808708, 0.016955384984612465, 0.0], [0.09113786369562149, 0.3686482608318329, 0.09320414066314697, 0.13277789950370789, 0.250879168510437, 0.02427232265472412, 0.02134430781006813, 0.017736144363880157, 0.0], [0.07577396184206009, 0.28845006227493286, 0.13064342737197876, 0.10628533363342285, 0.33186212182044983, 0.036941710859537125, 0.01791125163435936, 0.012132174335420132, 0.0], [0.09656352549791336, 0.22966596484184265, 0.16008925437927246, 0.22617661952972412, 0.09786460548639297, 0.10056539624929428, 0.0650506392121315, 0.024024004116654396, 0.0], [0.012269849888980389, 0.0711890459060669, 0.024379471316933632, 0.08436507731676102, 0.4924497604370117, 0.12204565107822418, 0.14271734654903412, 0.05058377608656883, 0.0], [0.009878497570753098, 0.04762081801891327, 0.027717113494873047, 0.05304097756743431, 0.3847890794277191, 0.28548628091812134, 0.0813688114285469, 0.11009834706783295, 0.0], [4.776571131515084e-06, 4.6799282245046925e-06, 9.69502070802264e-06, 6.26429682597518e-05, 0.00016828264051582664, 0.0020492637995630503, 0.011923277750611305, 0.9857774376869202, 0.0], [0.019763847813010216, 0.02134031057357788, 0.009342550300061703, 0.038431450724601746, 0.09494511038064957, 0.13382816314697266, 0.45406919717788696, 0.22827935218811035, 0.0]], [[0.03647022694349289, 0.90770024061203, 0.008290794678032398, 0.004264139104634523, 0.027198616415262222, 0.0007861534249968827, 0.0013337767450138927, 0.013956255279481411, 0.0], [0.3660840690135956, 0.5009379982948303, 0.022206855937838554, 0.010289468802511692, 0.0328810028731823, 0.002872177865356207, 0.00414961576461792, 0.06057876721024513, 0.0], [0.21746470034122467, 0.7295443415641785, 0.010648240335285664, 0.0068717398680746555, 0.01651030406355858, 0.0015208981931209564, 0.0030436678789556026, 0.014396139420568943, 0.0], [0.11146926879882812, 0.8025796413421631, 0.025957804173231125, 0.016030212864279747, 0.03427140787243843, 0.001839831005781889, 0.004036250989884138, 0.0038156278897076845, 0.0], [0.0810311958193779, 0.7442671060562134, 0.0783277153968811, 0.040063679218292236, 0.04094884544610977, 0.0044021992944180965, 0.006498438771814108, 0.0044607967138290405, 0.0], [0.007494499906897545, 0.2646062672138214, 0.06948374211788177, 0.12429538369178772, 0.49139517545700073, 0.01779916323721409, 0.022612303495407104, 0.002313549630343914, 0.0], [0.000670968962367624, 0.023126276209950447, 0.024832911789417267, 0.1312142312526703, 0.739524781703949, 0.05184305086731911, 0.02801431715488434, 0.00077350705396384, 0.0], [0.00022512076247949153, 0.00011250108218519017, 0.00041636661626398563, 0.00029450684087350965, 0.0018047132762148976, 0.004061631392687559, 0.004527481272816658, 0.9885576963424683, 0.0], [0.001287722261622548, 0.004767010919749737, 0.005569335073232651, 0.05084673687815666, 0.4618363380432129, 0.25331175327301025, 0.2161525934934616, 0.006228458136320114, 0.0]], [[0.07087291032075882, 0.1789996474981308, 0.150530144572258, 0.2536708116531372, 0.15788958966732025, 0.059101033955812454, 0.05937585607171059, 0.06956009566783905, 0.0], [0.19300056993961334, 0.1204719990491867, 0.18810954689979553, 0.2005879431962967, 0.13934902846813202, 0.04043561965227127, 0.04765915125608444, 0.07038617879152298, 0.0], [0.10859354585409164, 0.22456154227256775, 0.12952794134616852, 0.2682099938392639, 0.11493097990751266, 0.03994433954358101, 0.052202533930540085, 0.06202913448214531, 0.0], [0.11935099959373474, 0.18800567090511322, 0.2110554426908493, 0.14449799060821533, 0.16162827610969543, 0.057631224393844604, 0.06395315378904343, 0.053877249360084534, 0.0], [0.03613826632499695, 0.11183816194534302, 0.14721901714801788, 0.37251901626586914, 0.11141204088926315, 0.09017626196146011, 0.07936438173055649, 0.05133288353681564, 0.0], [0.014515182934701443, 0.03868139162659645, 0.05089869350194931, 0.2692490518093109, 0.23981408774852753, 0.1323663890361786, 0.14339923858642578, 0.1110759899020195, 0.0], [0.01695718802511692, 0.02611851692199707, 0.05740595981478691, 0.15316814184188843, 0.20000715553760529, 0.219066321849823, 0.07769343256950378, 0.24958331882953644, 0.0], [0.00030540869920514524, 0.00016259332187473774, 0.0005990362842567265, 0.0007770265219733119, 0.0014136150712147355, 0.007517339661717415, 0.01645430363714695, 0.972770631313324, 0.0], [0.07339583337306976, 0.04524325951933861, 0.06283599138259888, 0.07709994912147522, 0.14787223935127258, 0.21003565192222595, 0.1930309385061264, 0.19048616290092468, 0.0]], [[0.04635489359498024, 6.984911306062713e-05, 7.39714305382222e-05, 0.00044742587488144636, 0.003537410404533148, 0.014280018396675587, 0.0005020117969252169, 0.9347344636917114, 0.0], [0.8145745992660522, 0.008531348779797554, 0.0008161806617863476, 0.00046914632548578084, 0.0009172986610792577, 0.001213714829646051, 0.001162051223218441, 0.172315776348114, 0.0], [0.819759726524353, 0.14433224499225616, 0.017875799909234047, 0.0009708505822345614, 0.00012210772547405213, 8.009112207219005e-05, 0.0003625847166404128, 0.016496503725647926, 0.0], [0.16070683300495148, 0.5430623292922974, 0.27663204073905945, 0.01567562110722065, 0.0006793388747610152, 6.612033030251041e-05, 0.00012976027210243046, 0.0030480599962174892, 0.0], [0.0044455332681536674, 0.18049871921539307, 0.6338465213775635, 0.17403730750083923, 0.006903178058564663, 9.568934183334932e-05, 1.9398446966079064e-05, 0.0001537070784252137, 0.0], [7.21483156667091e-05, 0.003014696529135108, 0.11025575548410416, 0.5922569036483765, 0.2864537239074707, 0.007599429227411747, 0.0001740127190714702, 0.00017334852600470185, 0.0], [7.007350291132752e-07, 1.3578436664829496e-05, 0.00037915914435870945, 0.048946741968393326, 0.8776665925979614, 0.07039632648229599, 0.002553352853283286, 4.350784729467705e-05, 0.0], [6.222900528207731e-10, 9.650412691186716e-10, 1.5240708250985335e-07, 0.0002495755616109818, 0.06980680674314499, 0.8155116438865662, 0.11432097852230072, 0.00011087138409493491, 0.0], [5.90021772950422e-06, 1.6094150851131417e-05, 2.6256360797560774e-05, 0.000613104784861207, 0.026450978592038155, 0.07495994120836258, 0.897473156452179, 0.00045455334475263953, 0.0]], [[0.02615111693739891, 0.20442746579647064, 0.32108190655708313, 0.31491619348526, 0.10228481888771057, 0.017900660634040833, 0.01020270586013794, 0.0030352335888892412, 0.0], [0.002417336218059063, 0.016429679468274117, 0.12207166850566864, 0.48819500207901, 0.3273407816886902, 0.03369263559579849, 0.008204986341297626, 0.0016478387406095862, 0.0], [0.000886776833795011, 0.0037130070850253105, 0.021397560834884644, 0.19363203644752502, 0.612265408039093, 0.14148373901844025, 0.023512907326221466, 0.003108557080850005, 0.0], [0.002192437183111906, 0.003128605894744396, 0.009046128951013088, 0.05100299045443535, 0.4285740852355957, 0.31837162375450134, 0.1540740728378296, 0.03361004590988159, 0.0], [0.004653386306017637, 0.0033664314541965723, 0.0049132779240608215, 0.01197745744138956, 0.11165765672922134, 0.2517492175102234, 0.3561273515224457, 0.25555527210235596, 0.0], [0.005932680331170559, 0.002386905951425433, 0.0019063025247305632, 0.0023831496946513653, 0.018999027088284492, 0.09459753334522247, 0.315588116645813, 0.5582062602043152, 0.0], [0.00833191443234682, 0.006267805118113756, 0.005792437121272087, 0.0022901101037859917, 0.0050352090038359165, 0.012549156323075294, 0.07203520089387894, 0.887698233127594, 0.0], [0.022771060466766357, 0.015926867723464966, 0.018484387546777725, 0.0028068311512470245, 0.002477807691320777, 0.004773993045091629, 0.04828726127743721, 0.8844717741012573, 0.0], [0.032943565398454666, 0.08942873775959015, 0.23690539598464966, 0.20228441059589386, 0.17092420160770416, 0.054543863981962204, 0.08565333485603333, 0.12731651961803436, 0.0]]], [[[0.028782334178686142, 0.007709038443863392, 0.0039958469569683075, 0.001997515093535185, 0.015389776788651943, 0.00984504260122776, 0.0033899543341249228, 0.9288905262947083, 0.0], [0.03547639399766922, 0.010259473696351051, 0.0037160171195864677, 0.002109269145876169, 0.004967539105564356, 0.006202328018844128, 0.0012623285874724388, 0.9360066652297974, 0.0], [0.08818719536066055, 0.016641933470964432, 0.008652674965560436, 0.00397805031388998, 0.009505596943199635, 0.0016494669253006577, 0.0015762019902467728, 0.8698088526725769, 0.0], [0.007101171649992466, 0.1034320741891861, 0.034239284694194794, 0.022815922275185585, 0.008245319128036499, 0.0005255262949503958, 0.0010683212894946337, 0.8225724101066589, 0.0], [0.011926737613976002, 0.016087068244814873, 0.09112237393856049, 0.0654430016875267, 0.02654046192765236, 0.0004405798972584307, 0.007019359152764082, 0.7814204692840576, 0.0], [0.005696816835552454, 0.025482768192887306, 0.012952140532433987, 0.1555335968732834, 0.06637894362211227, 0.004358042497187853, 0.002493835985660553, 0.7271038293838501, 0.0], [0.0037395216058939695, 0.00850803591310978, 0.010610447265207767, 0.03488911688327789, 0.12235672026872635, 0.03322873264551163, 0.017897339537739754, 0.7687700986862183, 0.0], [0.001145007205195725, 0.002511341357603669, 0.000999940442852676, 0.0012150303227826953, 0.0016077749896794558, 0.0006264746771194041, 0.002589364070445299, 0.9893051385879517, 0.0], [0.0019399395678192377, 0.0024599905591458082, 0.000548778974916786, 0.0007235176162794232, 0.0010708787012845278, 0.0004429281398188323, 0.0007450248231180012, 0.9920690059661865, 0.0]], [[0.008569694124162197, 0.022611984983086586, 0.02244097925722599, 0.03287903219461441, 0.20982535183429718, 0.0038413992151618004, 0.017956331372261047, 0.6818751692771912, 0.0], [0.054151348769664764, 0.009755207225680351, 0.02473207376897335, 0.08280102163553238, 0.05183159559965134, 0.003041465999558568, 0.012687056325376034, 0.7610002756118774, 0.0], [0.017994962632656097, 0.054551851004362106, 0.012451715767383575, 0.021545039489865303, 0.0725739598274231, 0.004685217514634132, 0.015595569275319576, 0.8006016612052917, 0.0], [0.01737508922815323, 0.04008695110678673, 0.039452120661735535, 0.018760891631245613, 0.11018198728561401, 0.004636949859559536, 0.04929990693926811, 0.7202061414718628, 0.0], [0.02239004708826542, 0.041626859456300735, 0.015612898394465446, 0.099403515458107, 0.02480638399720192, 0.0028034213464707136, 0.030239617452025414, 0.7631173133850098, 0.0], [0.008094589225947857, 0.05418743938207626, 0.018574636429548264, 0.049801118671894073, 0.039607103914022446, 0.02231721021234989, 0.033028725534677505, 0.7743892073631287, 0.0], [0.007080847397446632, 0.02930055931210518, 0.005053256172686815, 0.050682224333286285, 0.055608391761779785, 0.05050438642501831, 0.009227815084159374, 0.792542576789856, 0.0], [0.0009238098282366991, 0.003281167708337307, 0.0005999157438054681, 0.0023010659497231245, 0.005126649048179388, 0.00014692723925691098, 0.0004521585942711681, 0.9871683120727539, 0.0], [0.0021984875202178955, 0.007253697607666254, 0.0007133966428227723, 0.004320895299315453, 0.005967326927930117, 0.00015549793897662312, 0.0002669811074156314, 0.9791237115859985, 0.0]], [[0.007456254679709673, 0.14285118877887726, 0.009107501246035099, 0.01593688875436783, 0.02035382390022278, 0.0028016623109579086, 0.0042777894996106625, 0.7972148656845093, 0.0], [0.01949729211628437, 0.014325442723929882, 0.0639086663722992, 0.02584102749824524, 0.028857385739684105, 0.001936656073667109, 0.007946111261844635, 0.8376873731613159, 0.0], [0.004787852056324482, 0.017234405502676964, 0.00808787252753973, 0.1075650155544281, 0.020932834595441818, 0.006083475425839424, 0.009006267413496971, 0.8263023495674133, 0.0], [0.008531915955245495, 0.030951539054512978, 0.04262857139110565, 0.010879048146307468, 0.0733298659324646, 0.0063307262025773525, 0.014139299280941486, 0.8132089972496033, 0.0], [0.00487026060000062, 0.016089098528027534, 0.006010508630424738, 0.04998364672064781, 0.02481507882475853, 0.012965476140379906, 0.017555877566337585, 0.8677100539207458, 0.0], [0.0008116023964248598, 0.007685416378080845, 0.006059393752366304, 0.06453364342451096, 0.016190769150853157, 0.009754263795912266, 0.03579030558466911, 0.8591746091842651, 0.0], [0.004090255592018366, 0.012118171900510788, 0.002380045596510172, 0.016878405585885048, 0.01145442295819521, 0.01670430786907673, 0.008948738686740398, 0.9274256825447083, 0.0], [0.00013831359683535993, 0.001047008205205202, 0.0006872969097457826, 0.0014504592400044203, 0.0020427550189197063, 0.00027441440033726394, 0.00021508098870981485, 0.9941447377204895, 0.0], [0.00022914254805073142, 0.0020642683375626802, 0.0005782800726592541, 0.002174838213250041, 0.0019308467162773013, 0.00014202852617017925, 0.0001172056799987331, 0.992763340473175, 0.0]], [[0.01851704716682434, 0.01051325909793377, 0.011726749129593372, 0.016670050099492073, 0.016602369025349617, 0.0015704010147601366, 0.002418267074972391, 0.9219818711280823, 0.0], [0.10624030232429504, 0.009399842470884323, 0.020627181977033615, 0.00840042531490326, 0.004102638922631741, 0.008174259215593338, 0.004671861417591572, 0.8383834958076477, 0.0], [0.005889926105737686, 0.16493630409240723, 0.023129431530833244, 0.009332188405096531, 0.017360525205731392, 0.004496392328292131, 0.005293542984873056, 0.7695617079734802, 0.0], [0.00598836038261652, 0.013214590959250927, 0.08622252196073532, 0.015351480804383755, 0.02033437415957451, 0.001284502213820815, 0.0037528418470174074, 0.8538513779640198, 0.0], [0.004485324025154114, 0.005656546447426081, 0.010444432497024536, 0.22098127007484436, 0.011236390098929405, 0.005304633639752865, 0.002724127843976021, 0.7391672730445862, 0.0], [0.003017999930307269, 0.009448323398828506, 0.0030050056520849466, 0.009926454164087772, 0.16416369378566742, 0.013442210853099823, 0.0036323643289506435, 0.7933639287948608, 0.0], [0.0018254459137097, 0.01367349736392498, 0.0002954101946670562, 0.005424905568361282, 0.025476839393377304, 0.14769743382930756, 0.012034473940730095, 0.793571949005127, 0.0], [0.0004902015789411962, 0.0013012494891881943, 0.0007341228774748743, 0.0017564399167895317, 0.001060092938132584, 0.0002334576565772295, 0.0019056103192269802, 0.9925187826156616, 0.0], [0.0004687550535891205, 0.001744134584441781, 0.0007786498754285276, 0.0013107501436024904, 0.0007137136999517679, 0.00015506078489124775, 0.0006447048508562148, 0.9941841959953308, 0.0]], [[0.009645828045904636, 0.026887133717536926, 0.08102060854434967, 0.08730266988277435, 0.0456903874874115, 0.016938071697950363, 0.0029350186232477427, 0.729580283164978, 0.0], [0.015386897139251232, 0.015229126438498497, 0.01716230995953083, 0.04121062904596329, 0.07525626569986343, 0.027887465432286263, 0.0018261352088302374, 0.8060411214828491, 0.0], [0.05187153443694115, 0.013632627204060555, 0.006006333045661449, 0.01367124356329441, 0.03238306939601898, 0.0662594810128212, 0.007057970389723778, 0.8091177344322205, 0.0], [0.03988564386963844, 0.0510353185236454, 0.022000577300786972, 0.02402321994304657, 0.009325719438493252, 0.01730547472834587, 0.01974445953965187, 0.8166795969009399, 0.0], [0.014918632805347443, 0.0662417858839035, 0.024925269186496735, 0.011032532900571823, 0.01575404219329357, 0.0057418630458414555, 0.006338949780911207, 0.8550469279289246, 0.0], [0.001800236408598721, 0.024321522563695908, 0.020830800756812096, 0.04936649650335312, 0.03109847381711006, 0.001477811485528946, 0.0023034478072077036, 0.8688012361526489, 0.0], [0.0029686344787478447, 0.00686512840911746, 0.008972732350230217, 0.1923130452632904, 0.05723614990711212, 0.0032615484669804573, 0.0024486249312758446, 0.7259341478347778, 0.0], [0.0013038116740062833, 0.0017062285915017128, 0.0012921402230858803, 0.0011651746463030577, 0.0018800923135131598, 0.0010390988318249583, 0.0003512474650051445, 0.9912621974945068, 0.0], [0.0022013091947883368, 0.001618539565242827, 0.0010467426618561149, 0.0011091744527220726, 0.0019780679140239954, 0.001250176690518856, 0.0001363983319606632, 0.9906595945358276, 0.0]], [[0.0201546773314476, 0.06963133066892624, 0.012458357028663158, 0.012290148064494133, 0.0338284969329834, 0.0036112195812165737, 0.00275677558965981, 0.845268964767456, 0.0], [0.012497041374444962, 0.014466437511146069, 0.09328219294548035, 0.02810475416481495, 0.0224530640989542, 0.000744700722862035, 0.008057708851993084, 0.8203940391540527, 0.0], [0.010551484301686287, 0.009107982739806175, 0.027022361755371094, 0.10832364857196808, 0.024954903870821, 0.0027678522747009993, 0.004295589402318001, 0.8129761219024658, 0.0], [0.022416289895772934, 0.011951364576816559, 0.011804776266217232, 0.04053623229265213, 0.2505652606487274, 0.019866803660988808, 0.009729724377393723, 0.6331295371055603, 0.0], [0.0062362621538341045, 0.010979673825204372, 0.002312436467036605, 0.020846448838710785, 0.023875711485743523, 0.04155014827847481, 0.011424031108617783, 0.8827752470970154, 0.0], [0.004644498229026794, 0.009880218654870987, 0.0049367630854249, 0.007122177630662918, 0.025460902601480484, 0.007560846395790577, 0.049288999289274216, 0.891105592250824, 0.0], [0.004099688492715359, 0.006586066447198391, 0.001814653747715056, 0.0034431316889822483, 0.012667830102145672, 0.005284152925014496, 0.012107612565159798, 0.9539968967437744, 0.0], [0.00017012536409310997, 0.0008939224062487483, 0.0003570610424503684, 0.0008245101198554039, 0.004759080242365599, 0.0002664439962245524, 0.00010660326370270923, 0.9926222562789917, 0.0], [0.00019217294175177813, 0.0007283927407115698, 0.00019018474267795682, 0.0008517012465745211, 0.005549522582441568, 9.594613948138431e-05, 5.699706161976792e-05, 0.9923350214958191, 0.0]], [[0.027376996353268623, 0.032201606780290604, 0.0019899981562048197, 0.008865438401699066, 0.017885610461235046, 0.002852381905540824, 0.0008772119181230664, 0.907950758934021, 0.0], [0.06206472963094711, 0.005479990504682064, 0.0014400689397007227, 0.006875788327306509, 0.017009209841489792, 0.002784003969281912, 0.00031324930023401976, 0.9040330052375793, 0.0], [0.08423442393541336, 0.03923575580120087, 0.0011512420605868101, 0.014208642765879631, 0.008878162130713463, 0.0012522543547675014, 0.00035924784606322646, 0.8506803512573242, 0.0], [0.06046508997678757, 0.037817783653736115, 0.003717384533956647, 0.021662065759301186, 0.018160851672291756, 0.0007027775864116848, 0.00046491975081153214, 0.8570091724395752, 0.0], [0.011503971181809902, 0.04409725219011307, 0.005011227447539568, 0.037452612072229385, 0.01467384397983551, 0.0034658622462302446, 0.0037149512208998203, 0.8800802230834961, 0.0], [0.005664529744535685, 0.06834743171930313, 0.006894474849104881, 0.026721898466348648, 0.02596415765583515, 0.0014906978467479348, 0.0014941671397536993, 0.863422691822052, 0.0], [0.005536695476621389, 0.017198670655488968, 0.007660332135856152, 0.09787378460168839, 0.026748113334178925, 0.020809059962630272, 0.009139499627053738, 0.8150338530540466, 0.0], [0.0015635869931429625, 0.0011367257684469223, 2.608792965475004e-05, 0.0008143922896124423, 0.003591018496081233, 3.8515881897183135e-05, 1.6146434063557535e-05, 0.9928135275840759, 0.0], [0.0025543831288814545, 0.0015116542344912887, 2.185464109061286e-05, 0.0007871517445892096, 0.003182572778314352, 2.7098963983007707e-05, 8.610270924691577e-06, 0.9919066429138184, 0.0]], [[0.03614989295601845, 0.06278949230909348, 0.12652303278446198, 0.05286039039492607, 0.024236183613538742, 0.004993915092200041, 0.014107436873018742, 0.6783396601676941, 0.0], [0.004892418626695871, 0.008611498400568962, 0.042669910937547684, 0.09807988256216049, 0.05807005241513252, 0.010126597248017788, 0.018299954012036324, 0.7592496871948242, 0.0], [0.001549941604025662, 0.00555983604863286, 0.0029722219333052635, 0.021427003666758537, 0.14937961101531982, 0.05076758190989494, 0.014650396071374416, 0.7536934614181519, 0.0], [0.002512215869501233, 0.0036595165729522705, 0.0007422668859362602, 0.006204162258654833, 0.07252015173435211, 0.11109374463558197, 0.05753667280077934, 0.7457312941551208, 0.0], [0.0050852857530117035, 0.006982619408518076, 0.00205405056476593, 0.005263160448521376, 0.021374834701418877, 0.08103451877832413, 0.13399407267570496, 0.7442113757133484, 0.0], [0.003302175085991621, 0.012599275447428226, 0.003353092586621642, 0.007770265452563763, 0.015385588631033897, 0.012625599279999733, 0.03274708613753319, 0.9122169017791748, 0.0], [0.001463878434151411, 0.006428855936974287, 0.00521259568631649, 0.004551478195935488, 0.008257114328444004, 0.0047234524972736835, 0.01576969586312771, 0.9535928964614868, 0.0], [0.0006988248787820339, 0.00031467730877920985, 0.00042335555190220475, 0.0024814556818455458, 0.007574265822768211, 0.0011022057151421905, 0.0009031184599734843, 0.9865021109580994, 0.0], [0.00030910075292922556, 0.0002716558228712529, 0.0003050027007702738, 0.0031121608335524797, 0.011098519898951054, 0.0009162550559267402, 0.0006993162678554654, 0.9832879900932312, 0.0]]], [[[0.0027915253303945065, 0.050616465508937836, 0.018198661506175995, 0.01895286701619625, 0.006371527444571257, 0.004318739753216505, 0.011695853434503078, 0.8870543837547302, 0.0], [0.0019759577699005604, 0.006467735860496759, 0.2767632007598877, 0.004387059714645147, 0.0007458338513970375, 0.00038591603515669703, 0.0032598006073385477, 0.7060144543647766, 0.0], [0.0012707485584542155, 0.010495691560208797, 0.006442199926823378, 0.1376834660768509, 0.0040176622569561005, 0.004352486226707697, 0.0157750453799963, 0.8199626803398132, 0.0], [0.0017941247206181288, 0.010356608778238297, 0.004731117282062769, 0.002456143032759428, 0.08146917074918747, 0.00834702793508768, 0.0020447822753340006, 0.8888010382652283, 0.0], [0.00348247354850173, 0.014225480146706104, 0.001509610447101295, 0.0070510548539459705, 0.01437370851635933, 0.09985270351171494, 0.010165542364120483, 0.8493394255638123, 0.0], [0.008045919239521027, 0.007542060688138008, 0.004111044574528933, 0.009674846194684505, 0.004550375044345856, 0.009728392586112022, 0.06664591282606125, 0.8897014260292053, 0.0], [0.002625618362799287, 0.005922251380980015, 0.0015164759242907166, 0.002650067675858736, 0.003750093514099717, 0.017433403059840202, 0.011224277317523956, 0.9548777937889099, 0.0], [0.0005558761768043041, 0.001531958463601768, 0.001160302897915244, 0.0030323900282382965, 0.004296824336051941, 0.002680644392967224, 0.0016693215584382415, 0.985072672367096, 0.0], [0.000573394529055804, 0.0018162211636081338, 0.001552596571855247, 0.004380030557513237, 0.004265926778316498, 0.001635445049032569, 0.0011843966785818338, 0.9845920205116272, 0.0]], [[0.003871888853609562, 0.2497687190771103, 0.01651059277355671, 0.007687660399824381, 0.012747949920594692, 0.002835551043972373, 0.0075247022323310375, 0.6990528702735901, 0.0], [0.0015301121165975928, 0.005850393325090408, 0.02595159038901329, 0.2950977683067322, 0.005263383965939283, 0.002235466381534934, 0.002165094716474414, 0.6619061231613159, 0.0], [0.0006985099753364921, 0.007010727189481258, 0.01143074594438076, 0.011235722340643406, 0.02827143669128418, 0.006057284772396088, 0.005415475927293301, 0.9298800826072693, 0.0], [0.0007333795074373484, 0.025911808013916016, 0.020678134635090828, 0.004499292001128197, 0.023304225876927376, 0.0071489205583930016, 0.00457499735057354, 0.9131492376327515, 0.0], [0.0021411371417343616, 0.0006482505123130977, 0.0035130390897393227, 0.02341987006366253, 0.004093158524483442, 0.021489107981324196, 0.004119318909943104, 0.9405761361122131, 0.0], [0.00024896019021980464, 0.006471311207860708, 0.003035160480067134, 0.00405464181676507, 0.028622163459658623, 0.009955111891031265, 0.012875049374997616, 0.9347375631332397, 0.0], [0.002103908685967326, 0.0028387424536049366, 0.006578706670552492, 0.004676970653235912, 0.013360923156142235, 0.011052577756345272, 0.0024036853574216366, 0.9569844603538513, 0.0], [0.0002540729474276304, 0.0016922283684834838, 0.0018756571225821972, 0.005109373014420271, 0.004624255001544952, 0.002842488931491971, 0.0016465323278680444, 0.981955349445343, 0.0], [0.0002977143449243158, 0.0020927521400153637, 0.0025867202784866095, 0.006794265937060118, 0.005240767262876034, 0.0025565538089722395, 0.0013914004666730762, 0.9790398478507996, 0.0]], [[0.005265328101813793, 0.006344974506646395, 0.0008945164154283702, 0.007800351828336716, 0.016890766099095345, 0.016300691291689873, 0.003315350040793419, 0.9431880712509155, 0.0], [0.05664994567632675, 0.007747513707727194, 0.007825070060789585, 0.003699453780427575, 0.003551695728674531, 0.010439323261380196, 0.003929363563656807, 0.9061576128005981, 0.0], [0.005716606974601746, 0.12182588875293732, 0.01602497696876526, 0.005951174069195986, 0.003963912837207317, 0.0013194293715059757, 0.007038120646029711, 0.8381599187850952, 0.0], [0.0032976160291582346, 0.007953866384923458, 0.05247344821691513, 0.022531066089868546, 0.007698340807110071, 0.0003850519424304366, 0.007870352827012539, 0.897790253162384, 0.0], [0.0008800897048786283, 0.002103012753650546, 0.009418844245374203, 0.049327850341796875, 0.003985431045293808, 0.002233239822089672, 0.002783604897558689, 0.9292680025100708, 0.0], [0.0008445210405625403, 0.0010567331919446588, 0.0011073750210925937, 0.007163797039538622, 0.08824840933084488, 0.01615835539996624, 0.00527576357126236, 0.8801450729370117, 0.0], [0.0040530916303396225, 0.003787573892623186, 0.00014319409092422575, 0.01412623468786478, 0.05991946905851364, 0.11631210893392563, 0.007853523828089237, 0.7938047647476196, 0.0], [0.0020659705623984337, 0.002916343044489622, 0.004269586410373449, 0.004344424698501825, 0.004784072749316692, 0.004677900578826666, 0.009341821074485779, 0.9675998687744141, 0.0], [0.0030287746340036392, 0.005275943782180548, 0.004758775699883699, 0.003284275531768799, 0.0032299768645316362, 0.003550393506884575, 0.007915277034044266, 0.9689565896987915, 0.0]], [[0.0017981581622734666, 0.07398653030395508, 0.036526817828416824, 0.019149374216794968, 0.16676975786685944, 0.010220076888799667, 0.0035264277830719948, 0.6880228519439697, 0.0], [0.0025999583303928375, 0.016488762572407722, 0.07974620163440704, 0.04320424795150757, 0.015255718491971493, 0.053865429013967514, 0.0020790910348296165, 0.7867605686187744, 0.0], [0.024227475747466087, 0.00656643183901906, 0.003079986898228526, 0.008516883477568626, 0.03564407303929329, 0.0037518914323300123, 0.020945502445101738, 0.8972676992416382, 0.0], [0.002174090128391981, 0.024975817650556564, 0.006381757091730833, 0.004682866390794516, 0.007863066159188747, 0.029226599261164665, 0.012804643251001835, 0.9118911623954773, 0.0], [0.001881247153505683, 0.0019735645037144423, 0.032456062734127045, 0.010804757475852966, 0.005934939719736576, 0.024847541004419327, 0.007206960581243038, 0.9148949980735779, 0.0], [0.003162141889333725, 0.004344395361840725, 0.012060953304171562, 0.029406199231743813, 0.04763822630047798, 0.012461076490581036, 0.03561361879110336, 0.8553133606910706, 0.0], [0.0012321742251515388, 0.011182775720953941, 0.0038238053675740957, 0.016439465805888176, 0.02251237817108631, 0.01075577549636364, 0.0033895892556756735, 0.9306640028953552, 0.0], [0.000484548945678398, 0.002395718125626445, 0.0025354395620524883, 0.003055889392271638, 0.0059535265900194645, 0.0036373555194586515, 0.0017849468858912587, 0.9801525473594666, 0.0], [0.0006597937317565084, 0.002698916709050536, 0.002554824808612466, 0.0035910785663872957, 0.006083521526306868, 0.003602743148803711, 0.0016168701695278287, 0.9791922569274902, 0.0]], [[0.01501019299030304, 0.002845661249011755, 0.0467241033911705, 0.05849296599626541, 0.107782743871212, 0.017797213047742844, 0.003036028705537319, 0.7483111023902893, 0.0], [0.002001585904508829, 0.002612170297652483, 0.0020253134425729513, 0.026367956772446632, 0.26031196117401123, 0.009930195286870003, 0.00543853547424078, 0.6913122534751892, 0.0], [0.01046040840446949, 0.0020403238013386726, 0.0005907183513045311, 0.014520305208861828, 0.048084985464811325, 0.04973195120692253, 0.002432741690427065, 0.8721385598182678, 0.0], [0.02847186289727688, 0.016450906172394753, 0.003154470818117261, 0.020995937287807465, 0.005998946726322174, 0.005748855881392956, 0.007126561366021633, 0.9120524525642395, 0.0], [0.0030284645035862923, 0.040441352874040604, 0.010255697183310986, 0.004841612186282873, 0.002899449784308672, 0.002367623383179307, 0.018489453941583633, 0.9176763296127319, 0.0], [0.0017708067316561937, 0.003763073356822133, 0.01443635206669569, 0.01722417213022709, 0.004674031399190426, 0.0018289696890860796, 0.004151900298893452, 0.9521507620811462, 0.0], [0.0005974502419121563, 0.00118457549251616, 0.001725445850752294, 0.009994102641940117, 0.018265673890709877, 0.00646050414070487, 0.004893250297755003, 0.9568790197372437, 0.0], [0.0011214741971343756, 0.0051929340697824955, 0.001193306758068502, 0.0021127203945070505, 0.010055391117930412, 0.002375248121097684, 0.004761006683111191, 0.9731878638267517, 0.0], [0.0017224738840013742, 0.004596530459821224, 0.0009338529780507088, 0.002394990064203739, 0.014222517609596252, 0.003389134770259261, 0.003751312382519245, 0.9689891934394836, 0.0]], [[0.021451283246278763, 0.13179931044578552, 0.011362872086465359, 0.0073281037621200085, 0.003960355184972286, 0.0021914481185376644, 0.007524017710238695, 0.8143825531005859, 0.0], [0.0004978417418897152, 0.006556212902069092, 0.04678443819284439, 0.01060404721647501, 0.04118916392326355, 0.00031718998798169196, 0.0014106949092820287, 0.8926404118537903, 0.0], [0.0007793499389663339, 0.0028512966819107533, 0.006401699967682362, 0.0562111958861351, 0.025915151461958885, 0.001366378623060882, 0.003500149818137288, 0.9029747843742371, 0.0], [0.0028998011257499456, 0.005978183355182409, 0.0016938337357714772, 0.004490477964282036, 0.15655000507831573, 0.007417277432978153, 0.004423741716891527, 0.8165466785430908, 0.0], [0.0007791569223627448, 0.004195305053144693, 0.0006152585847303271, 0.003434550715610385, 0.0050958567298948765, 0.05818697437644005, 0.0077903177589178085, 0.9199025630950928, 0.0], [0.00285476166754961, 0.004078818950802088, 0.0007283801678568125, 0.004853087477385998, 0.006708165630698204, 0.009578180499374866, 0.1472344696521759, 0.8239641785621643, 0.0], [0.005603400524705648, 0.014578606933355331, 0.00481213815510273, 0.004589952994138002, 0.0020990921184420586, 0.0076896133832633495, 0.016214510425925255, 0.9444127082824707, 0.0], [0.0011164461029693484, 0.003279933240264654, 0.0017396027687937021, 0.0029572173953056335, 0.00698115723207593, 0.00430833688005805, 0.0019603644032031298, 0.977656900882721, 0.0], [0.0007800396997481585, 0.0031251395121216774, 0.0022150487639009953, 0.004670003429055214, 0.008577872067689896, 0.0027916706167161465, 0.0011726187076419592, 0.9766676425933838, 0.0]], [[0.004530205857008696, 0.0011802965309470892, 0.0026165477465838194, 0.003673253348097205, 0.08526653796434402, 0.03563104197382927, 0.04782875254750252, 0.8192733526229858, 0.0], [0.018359322100877762, 0.0030991153325885534, 0.0010755887487903237, 0.0018240307690575719, 0.002795272506773472, 0.01907879114151001, 0.01989663951098919, 0.9338712692260742, 0.0], [0.08022858202457428, 0.010565669275820255, 0.0030610805843025446, 0.00424110796302557, 0.010647638700902462, 0.0039141178131103516, 0.009932979941368103, 0.8774088025093079, 0.0], [0.015795260667800903, 0.14065437018871307, 0.016844071447849274, 0.006422355771064758, 0.004133273381739855, 0.0008748007821850479, 0.008128557354211807, 0.8071472644805908, 0.0], [0.004438004922121763, 0.015628401190042496, 0.08470674604177475, 0.012205323204398155, 0.010831430554389954, 0.0006749042076990008, 0.006720787845551968, 0.8647944331169128, 0.0], [0.0008247466175816953, 0.0042095729149878025, 0.014585443772375584, 0.08679056912660599, 0.02300211414694786, 0.004221935290843248, 0.0013610993046313524, 0.8650045394897461, 0.0], [0.003291295375674963, 0.002258456079289317, 0.004583908244967461, 0.026855118572711945, 0.13398583233356476, 0.02759764902293682, 0.004597170744091272, 0.7968305349349976, 0.0], [0.0017198041314259171, 0.003241518745198846, 0.0028692339546978474, 0.005095453467220068, 0.00743623124435544, 0.006933319848030806, 0.00934051163494587, 0.9633639454841614, 0.0], [0.0032940104138106108, 0.003416577121242881, 0.001700628432445228, 0.0033788762520998716, 0.005709515418857336, 0.0068205855786800385, 0.008251810446381569, 0.9674280285835266, 0.0]], [[0.00381774315610528, 0.07094961404800415, 0.04311571642756462, 0.03270943462848663, 0.016468504443764687, 0.0023284272756427526, 0.005709366872906685, 0.8249011635780334, 0.0], [0.017402222380042076, 0.006709027569741011, 0.015726812183856964, 0.04796534776687622, 0.0350969024002552, 0.0015322051476687193, 0.010200823657214642, 0.8653666377067566, 0.0], [0.005233787000179291, 0.11592508852481842, 0.006322537083178759, 0.0566486194729805, 0.11141721159219742, 0.0026407905388623476, 0.007840116508305073, 0.6939718127250671, 0.0], [0.01538387592881918, 0.015103533864021301, 0.007896172814071178, 0.009048670530319214, 0.04966510832309723, 0.0024268263950943947, 0.004949184600263834, 0.8955267071723938, 0.0], [0.011527442373335361, 0.004882473964244127, 0.0038543830160051584, 0.07340788096189499, 0.02275381237268448, 0.015047155320644379, 0.026240142062306404, 0.8422867059707642, 0.0], [0.0013624648563563824, 0.006087311077862978, 0.0025339839048683643, 0.033432282507419586, 0.04565528407692909, 0.05340858921408653, 0.030408456921577454, 0.8271116018295288, 0.0], [0.0008738341857679188, 0.0030243920627981424, 0.0005289425607770681, 0.015835290774703026, 0.06516890227794647, 0.041334737092256546, 0.011063405312597752, 0.8621704578399658, 0.0], [0.0003241034864913672, 0.0016860479954630136, 0.0010600980604067445, 0.003252627793699503, 0.0066440291702747345, 0.0012631752761080861, 0.0015786167932674289, 0.9841912984848022, 0.0], [0.0005355799221433699, 0.0027598494198173285, 0.001369177596643567, 0.005079435184597969, 0.008119627833366394, 0.0010928487172350287, 0.0012023337185382843, 0.9798411130905151, 0.0]]], [[[0.0018548760563135147, 0.002861026441678405, 0.004831510130316019, 0.007525406777858734, 0.05621568486094475, 0.012518814764916897, 0.0050843749195337296, 0.9091083407402039, 0.0], [0.006107337772846222, 0.0040931738913059235, 0.005238785408437252, 0.002625427208840847, 0.017818907275795937, 0.016193334013223648, 0.008314653299748898, 0.9396083354949951, 0.0], [0.046602874994277954, 0.0015281492378562689, 0.021493222564458847, 0.002476965542882681, 0.00870895478874445, 0.003903032513335347, 0.0014446640852838755, 0.9138420820236206, 0.0], [0.0030450376216322184, 0.062338899821043015, 0.05899573490023613, 0.007675107102841139, 0.0012015898246318102, 0.006274808198213577, 0.00535596301779151, 0.8551127910614014, 0.0], [0.0010944424429908395, 0.012010622769594193, 0.059417326003313065, 0.012767884880304337, 0.0032426174730062485, 0.001311154686845839, 0.007616178132593632, 0.9025397896766663, 0.0], [0.0007191530894488096, 0.0019969434943050146, 0.02927268110215664, 0.017442578449845314, 0.019630566239356995, 0.0055671329610049725, 0.0007911660941317677, 0.9245797991752625, 0.0], [0.000985901104286313, 0.0005716932937502861, 0.0020955675281584263, 0.006507915910333395, 0.1046571359038353, 0.011225560680031776, 0.0025574914179742336, 0.8713987469673157, 0.0], [0.0026195652317255735, 0.0046700891107320786, 0.009927792474627495, 0.014859350398182869, 0.04544001445174217, 0.03208578750491142, 0.05954068526625633, 0.8308567404747009, 0.0], [0.003263024613261223, 0.00466102035716176, 0.008494778536260128, 0.012500474229454994, 0.04272168129682541, 0.034267909824848175, 0.05772855877876282, 0.8363626003265381, 0.0]], [[0.002647607820108533, 0.0070641664788126945, 0.0020361102651804686, 0.030575944110751152, 0.01065432745963335, 0.00881655141711235, 0.0016024467768147588, 0.936602771282196, 0.0], [0.02249765954911709, 0.012596404179930687, 0.004388862289488316, 0.004805960692465305, 0.003705317620187998, 0.009289680048823357, 0.0036336504854261875, 0.9390825033187866, 0.0], [0.0016638519009575248, 0.04812515154480934, 0.021091265603899956, 0.0055088382214307785, 0.0064656734466552734, 0.004854450933635235, 0.00220564310438931, 0.910085141658783, 0.0], [0.000935319229029119, 0.0012410953640937805, 0.05677327886223793, 0.019723588600754738, 0.001434630830772221, 0.0012309426674619317, 0.00256327074021101, 0.9160978198051453, 0.0], [0.0012221201322972775, 0.0023393796291202307, 0.014674479141831398, 0.10696040093898773, 0.02276402711868286, 0.00430965656414628, 0.0017287223599851131, 0.8460012078285217, 0.0], [0.001349327969364822, 0.0029787037055939436, 0.003366635413840413, 0.008906546048820019, 0.06334623694419861, 0.012679590843617916, 0.0022239668760448694, 0.9051490426063538, 0.0], [0.005630579311400652, 0.0009308304288424551, 0.0008351791184395552, 0.003235215786844492, 0.012095564976334572, 0.1294420212507248, 0.0076868836767971516, 0.8401436805725098, 0.0], [0.002497212728485465, 0.002398850629106164, 0.011956235393881798, 0.008781902492046356, 0.01621514931321144, 0.027266427874565125, 0.06890076398849487, 0.8619834780693054, 0.0], [0.0026543813291937113, 0.0026667022611945868, 0.011836400255560875, 0.007750580087304115, 0.014084532856941223, 0.02436385117471218, 0.06830962002277374, 0.8683339357376099, 0.0]], [[0.02558172307908535, 0.02408337965607643, 0.005377933848649263, 0.04514813795685768, 0.018039520829916, 0.004798450507223606, 0.010902371257543564, 0.8660685420036316, 0.0], [0.005334846675395966, 0.0007815384306013584, 0.0034772211220115423, 0.005937517154961824, 0.01236055325716734, 0.0007449118420481682, 0.001689523458480835, 0.9696738719940186, 0.0], [0.008244127966463566, 0.039433520287275314, 0.003916864283382893, 0.008092358708381653, 0.0417327880859375, 0.0026199996937066317, 0.006294316612184048, 0.8896660804748535, 0.0], [0.005665309727191925, 0.0014719548635184765, 0.0021607354283332825, 0.025477835908532143, 0.14044688642024994, 0.0011837048223242164, 0.007237488403916359, 0.8163560628890991, 0.0], [0.001569629181176424, 0.002863195724785328, 0.0570196732878685, 0.03704330325126648, 0.0007331734523177147, 0.07489702105522156, 0.03944365680217743, 0.7864303588867188, 0.0], [0.0025485092774033546, 0.005160126369446516, 0.004625328816473484, 0.005752114113420248, 0.07975058257579803, 0.039497435092926025, 0.04848799854516983, 0.8141778707504272, 0.0], [0.0008626548806205392, 0.00021699345961678773, 0.0055845691822469234, 0.0002240924077341333, 0.04929887875914574, 0.0839877799153328, 0.005004122853279114, 0.8548209071159363, 0.0], [0.00284586101770401, 0.0020854021422564983, 0.015611144714057446, 0.0030667914543300867, 0.012038946151733398, 0.026577429845929146, 0.04830359295010567, 0.8894708156585693, 0.0], [0.0032394893933087587, 0.002320708241313696, 0.016012093052268028, 0.003202972700819373, 0.01216385792940855, 0.025189770385622978, 0.046507492661476135, 0.8913636207580566, 0.0]], [[0.014399734325706959, 0.02844618633389473, 0.009163238108158112, 0.058159247040748596, 0.011304006911814213, 0.009559497237205505, 0.00028834465774707496, 0.8686798214912415, 0.0], [0.08606042712926865, 0.0033040300477296114, 0.005856208968907595, 0.004138526041060686, 0.0065077212639153, 0.005301649682223797, 0.0031818212009966373, 0.885649561882019, 0.0], [0.004660776350647211, 0.05245204269886017, 0.01652878150343895, 0.003461205866187811, 0.008330892771482468, 0.002588753355666995, 0.0049430509097874165, 0.9070345163345337, 0.0], [0.004976159892976284, 0.006016547325998545, 0.08246520906686783, 0.013958380557596684, 0.00349253648892045, 0.00018839006952475756, 0.003712090663611889, 0.8851907253265381, 0.0], [0.00032070197630673647, 0.0011187952477484941, 0.012491033412516117, 0.4556606113910675, 0.007931782864034176, 0.01460694894194603, 0.0043749441392719746, 0.5034951567649841, 0.0], [0.0015943273901939392, 0.0011882444377988577, 0.0006968275993131101, 0.010454757139086723, 0.0743957906961441, 0.017874309793114662, 0.004216304048895836, 0.8895794749259949, 0.0], [0.0024382525589317083, 0.005546146538108587, 7.347141217906028e-05, 0.010356789454817772, 0.06900123506784439, 0.03935088962316513, 0.004411744419485331, 0.868821382522583, 0.0], [0.003663556184619665, 0.0036303242668509483, 0.006304402370005846, 0.04873830825090408, 0.026425417512655258, 0.030981579795479774, 0.09885723143815994, 0.7813991904258728, 0.0], [0.004134987015277147, 0.004563967697322369, 0.006321918684989214, 0.04162305220961571, 0.021892288699746132, 0.028884267434477806, 0.10049741715192795, 0.7920820713043213, 0.0]], [[0.004483578260987997, 0.04377297684550285, 0.05372508242726326, 0.01689450815320015, 0.013279425911605358, 0.006325123365968466, 0.007474383804947138, 0.8540448546409607, 0.0], [0.002311994321644306, 0.012745563872158527, 0.04673255607485771, 0.02328512817621231, 0.013978852890431881, 0.006749048829078674, 0.0708228349685669, 0.8233739733695984, 0.0], [0.0076003167778253555, 0.029847925528883934, 0.002012368757277727, 0.06754028797149658, 0.02877499908208847, 0.0024383647833019495, 0.02595643885433674, 0.8358292579650879, 0.0], [0.0011482067639008164, 0.006132904440164566, 0.005484743509441614, 0.00856288243085146, 0.01241245400160551, 0.017709584906697273, 0.0026853508315980434, 0.9458639025688171, 0.0], [0.001958186738193035, 0.0005764294182881713, 0.0038176747038960457, 0.0863003358244896, 0.015933239832520485, 0.12609009444713593, 0.004969912115484476, 0.7603541016578674, 0.0], [0.00020486197900027037, 0.004752629436552525, 0.001484669977799058, 0.023703135550022125, 0.00732350954785943, 0.004037150647491217, 0.1061270460486412, 0.8523669838905334, 0.0], [0.0006072674295864999, 0.00361602078191936, 0.003090726211667061, 0.0018901656148955226, 0.005785238463431597, 0.018814094364643097, 0.010359351523220539, 0.955837070941925, 0.0], [0.0017480440437793732, 0.005963433999568224, 0.008799228817224503, 0.017988255247473717, 0.013334409333765507, 0.011584058403968811, 0.009416443295776844, 0.9311661720275879, 0.0], [0.0018809845205396414, 0.006468234583735466, 0.009241628460586071, 0.018962254747748375, 0.013635686598718166, 0.010865922085940838, 0.009052232839167118, 0.9298930764198303, 0.0]], [[0.01711767166852951, 0.0037624335382133722, 0.03132336586713791, 0.09966239333152771, 0.017203476279973984, 0.024028554558753967, 0.0015441401628777385, 0.8053579926490784, 0.0], [0.007764886599034071, 0.0020051980391144753, 0.0020941265393048525, 0.012585782445967197, 0.05488519370555878, 0.01593008264899254, 0.0006145809311419725, 0.9041202068328857, 0.0], [0.0010560392402112484, 0.0012658580671995878, 0.027416370809078217, 0.009546887129545212, 0.01085919514298439, 0.08717402815818787, 0.08160509914159775, 0.7810765504837036, 0.0], [0.000422317796619609, 0.027309158816933632, 0.03175647556781769, 0.021383313462138176, 0.0056540025398135185, 0.03922165185213089, 0.004395460244268179, 0.869857668876648, 0.0], [0.014951517805457115, 0.01884707808494568, 0.0012142057530581951, 0.006922990083694458, 0.10350389033555984, 0.0045984117314219475, 0.009084117598831654, 0.8408778309822083, 0.0], [0.00028332037618383765, 0.0017475233180448413, 0.014350366778671741, 0.002956469776108861, 0.008568043820559978, 0.011403561569750309, 0.004716348834335804, 0.9559743404388428, 0.0], [0.0008144647581502795, 0.003971082624047995, 0.011982136406004429, 0.016505736857652664, 0.002278441097587347, 0.003837788011878729, 0.00931218359619379, 0.951298177242279, 0.0], [0.0025589861907064915, 0.009764263406395912, 0.010466896928846836, 0.009262281470000744, 0.010325695388019085, 0.01447649858891964, 0.031078172847628593, 0.9120671153068542, 0.0], [0.0026276179123669863, 0.008669386617839336, 0.01018714252859354, 0.010116771794855595, 0.01071107480674982, 0.01601269096136093, 0.032688867300748825, 0.9089864492416382, 0.0]], [[0.006042556371539831, 0.08247068524360657, 0.008275010623037815, 0.007345386315137148, 0.004627184476703405, 0.00527125084772706, 0.01231714803725481, 0.8736507892608643, 0.0], [0.001059369184076786, 0.006590271834284067, 0.09386400878429413, 0.002496382687240839, 0.010350273922085762, 0.0006363344728015363, 0.0012428462505340576, 0.8837605118751526, 0.0], [0.0011617469135671854, 0.002494239713996649, 0.0034868267830461264, 0.1515452265739441, 0.01370252389460802, 0.0017706857761368155, 0.0013183181872591376, 0.8245204091072083, 0.0], [0.005244460888206959, 0.0008886182331480086, 0.008660737425088882, 0.0036640057805925608, 0.13523855805397034, 0.005496105644851923, 0.0005710433470085263, 0.8402364253997803, 0.0], [0.0008602376910857856, 0.00904645211994648, 0.002445235149934888, 0.001549634849652648, 0.005999348126351833, 0.22174371778964996, 0.005965336691588163, 0.7523900270462036, 0.0], [0.0019199696835130453, 0.0033868735190480947, 0.0021653862204402685, 0.00376985059119761, 0.0026896607596427202, 0.012845330871641636, 0.17245535552501678, 0.8007675409317017, 0.0], [0.0007687798934057355, 0.005241393577307463, 0.002694835187867284, 0.002193479100242257, 0.0063689155504107475, 0.006593251600861549, 0.011825046502053738, 0.964314341545105, 0.0], [0.011722211726009846, 0.00755958491936326, 0.008491866290569305, 0.007974289357662201, 0.02694448083639145, 0.010356082580983639, 0.002846629125997424, 0.9241048693656921, 0.0], [0.01029165368527174, 0.00799936056137085, 0.009411816485226154, 0.009987454861402512, 0.025453567504882812, 0.008198780938982964, 0.0024163899943232536, 0.9262409806251526, 0.0]], [[0.007459969259798527, 0.008714204654097557, 0.02635175734758377, 0.00314122112467885, 0.005256625823676586, 0.06425759941339493, 0.01721583679318428, 0.8676027655601501, 0.0], [0.0033947229385375977, 0.004060268867760897, 0.005821122322231531, 0.00945256557315588, 0.011781349778175354, 0.0043143052607774734, 0.008755510672926903, 0.9524201154708862, 0.0], [0.044172316789627075, 0.023362034931778908, 0.017468610778450966, 0.006122624967247248, 0.019059818238019943, 0.01553729735314846, 0.003582895966246724, 0.8706944584846497, 0.0], [0.03044181689620018, 0.005248830653727055, 0.004083688370883465, 0.002090763533487916, 0.06409629434347153, 0.0038117924705147743, 0.001736196456477046, 0.888490617275238, 0.0], [0.0012497897259891033, 0.0015077247517183423, 0.0011972931679338217, 0.0343719907104969, 0.05540270730853081, 0.006372845731675625, 0.007413407787680626, 0.892484188079834, 0.0], [0.0014152884250506759, 0.0016148894792422652, 0.006405464373528957, 0.026226302608847618, 0.006539750844240189, 0.007012894377112389, 0.010548615828156471, 0.9402367472648621, 0.0], [0.002790699480101466, 0.0013892797287553549, 0.0026729670353233814, 0.0024124570190906525, 0.0327695831656456, 0.007693249266594648, 0.008289690129458904, 0.9419820308685303, 0.0], [0.0019220366375520825, 0.004330570809543133, 0.005054148379713297, 0.021266840398311615, 0.030727382749319077, 0.012342961505055428, 0.046145688742399216, 0.8782103061676025, 0.0], [0.0021264422684907913, 0.00471083726733923, 0.005357358604669571, 0.02083231694996357, 0.02946498990058899, 0.012748613953590393, 0.04464978724718094, 0.8801096081733704, 0.0]]]], \"left_text\": [\"E\", \"Q\", \"V\", \"T\", \"N\", \"V\", \"G\", \"<eos>\", \"<pad>\"], \"right_text\": [\"E\", \"Q\", \"V\", \"T\", \"N\", \"V\", \"G\", \"<eos>\", \"<pad>\"]}, {\"name\": \"Decoder\", \"attn\": [[[[1.0, 0.0, 0.0, 0.0, 0.0, 0.0, 0.0, 0.0], [1.0, 1.3751132945109188e-35, 0.0, 0.0, 0.0, 0.0, 0.0, 0.0], [0.0, 0.0, 1.0, 0.0, 0.0, 0.0, 0.0, 0.0], [0.0, 0.0, 1.0, 4.4060632286751624e-17, 0.0, 0.0, 0.0, 0.0], [0.0, 0.0, 2.0303143465057505e-23, 4.246482310655685e-37, 1.0, 0.0, 0.0, 0.0], [0.0, 0.0, 0.0, 0.0, 1.0, 0.0, 0.0, 0.0], [0.0, 0.0, 0.0, 0.0, 0.0, 0.0, 1.0, 0.0], [0.0, 0.0, 0.0, 0.0, 0.0, 0.0, 5.918524248621815e-31, 1.0]], [[1.0, 0.0, 0.0, 0.0, 0.0, 0.0, 0.0, 0.0], [1.0, 0.0, 0.0, 0.0, 0.0, 0.0, 0.0, 0.0], [0.0, 1.0, 0.0, 0.0, 0.0, 0.0, 0.0, 0.0], [0.0, 0.0, 1.0, 1.401298464324817e-45, 0.0, 0.0, 0.0, 0.0], [0.0, 0.0, 0.0, 1.0, 0.0, 0.0, 0.0, 0.0], [0.0, 0.0, 0.0, 2.802596928649634e-45, 1.0, 0.0, 0.0, 0.0], [0.0, 0.0, 0.0, 0.0, 0.0, 1.0, 0.0, 0.0], [0.0, 0.0, 0.0, 0.0, 0.0, 0.0, 1.0, 0.0]], [[1.0, 0.0, 0.0, 0.0, 0.0, 0.0, 0.0, 0.0], [0.9932088255882263, 0.0067911637015640736, 0.0, 0.0, 0.0, 0.0, 0.0, 0.0], [0.22654198110103607, 0.7454136610031128, 0.028044406324625015, 0.0, 0.0, 0.0, 0.0, 0.0], [0.04117241129279137, 0.044268421828746796, 0.8608278632164001, 0.053731389343738556, 0.0, 0.0, 0.0, 0.0], [0.01330542005598545, 0.001368849421851337, 0.1566973477602005, 0.7999187707901001, 0.02870960161089897, 0.0, 0.0, 0.0], [0.008237672969698906, 2.7061272703576833e-05, 0.0011693235719576478, 0.09571829438209534, 0.8481020331382751, 0.046745575964450836, 0.0, 0.0], [0.009078802540898323, 8.730989975447301e-07, 5.869722826901125e-06, 0.0003640104259829968, 0.0742054432630539, 0.7811369895935059, 0.13520798087120056, 0.0], [0.004875240381807089, 5.527743383026973e-07, 8.739606016661128e-08, 8.850443009578157e-07, 0.0002937337849289179, 0.02848631702363491, 0.9134148955345154, 0.05292823538184166]], [[1.0, 0.0, 0.0, 0.0, 0.0, 0.0, 0.0, 0.0], [1.0, 0.0, 0.0, 0.0, 0.0, 0.0, 0.0, 0.0], [0.0, 5.749118644180896e-37, 1.0, 0.0, 0.0, 0.0, 0.0, 0.0], [0.0, 0.0, 0.0, 1.0, 0.0, 0.0, 0.0, 0.0], [0.0, 0.0, 0.0, 0.0, 1.0, 0.0, 0.0, 0.0], [0.0, 0.0, 0.0, 0.0, 0.0, 1.0, 0.0, 0.0], [0.0, 0.0, 0.0, 0.0, 0.0, 0.0, 1.0, 0.0], [0.0, 0.0, 0.0, 0.0, 0.0, 0.0, 0.0, 1.0]], [[1.0, 0.0, 0.0, 0.0, 0.0, 0.0, 0.0, 0.0], [0.9997062087059021, 0.00029373078723438084, 0.0, 0.0, 0.0, 0.0, 0.0, 0.0], [0.9873046278953552, 0.01268297340720892, 1.2408178918121848e-05, 0.0, 0.0, 0.0, 0.0, 0.0], [0.0683666318655014, 0.8978580832481384, 0.03347519785165787, 0.00030009570764377713, 0.0, 0.0, 0.0, 0.0], [8.799839633866213e-06, 0.009379846975207329, 0.959180474281311, 0.03142998740077019, 9.285618034482468e-07, 0.0, 0.0, 0.0], [4.0733480477506134e-10, 1.0142993005501921e-06, 0.05383266508579254, 0.942733645439148, 0.003432667814195156, 8.352016322987765e-08, 0.0, 0.0], [1.957425725884765e-18, 9.138865049240037e-16, 1.7846457645021019e-09, 0.006382146384567022, 0.9914432168006897, 0.0021747068967670202, 1.4583478868956945e-09, 0.0], [4.1576008822599565e-27, 5.1846893067659586e-27, 2.1376592694486346e-21, 2.3420421851882978e-11, 0.005650314502418041, 0.9899404644966125, 0.004409240558743477, 3.6123739416416e-11]], [[1.0, 0.0, 0.0, 0.0, 0.0, 0.0, 0.0, 0.0], [1.0, 5.3252078772607445e-36, 0.0, 0.0, 0.0, 0.0, 0.0, 0.0], [8.756714103565782e-42, 1.0, 1.4804437750134928e-22, 0.0, 0.0, 0.0, 0.0, 0.0], [0.0, 7.394565651016016e-27, 1.0, 4.0842737447273315e-20, 0.0, 0.0, 0.0, 0.0], [0.0, 0.0, 8.104481066574786e-33, 1.0, 5.125351179094811e-19, 0.0, 0.0, 0.0], [0.0, 0.0, 0.0, 4.9498503758609025e-23, 1.0, 2.3404335173989144e-26, 0.0, 0.0], [0.0, 0.0, 0.0, 0.0, 9.389867381291088e-16, 1.0, 7.951543505840824e-19, 0.0], [0.0, 0.0, 0.0, 0.0, 0.0, 0.0, 1.0, 5.149169298054043e-40]], [[1.0, 0.0, 0.0, 0.0, 0.0, 0.0, 0.0, 0.0], [0.0, 1.0, 0.0, 0.0, 0.0, 0.0, 0.0, 0.0], [0.0, 1.0, 0.0, 0.0, 0.0, 0.0, 0.0, 0.0], [0.0, 1.0, 0.0, 0.0, 0.0, 0.0, 0.0, 0.0], [0.0, 0.0, 0.0, 0.0, 1.0, 0.0, 0.0, 0.0], [0.0, 0.0, 0.0, 0.0, 0.0, 1.0, 0.0, 0.0], [0.0, 0.0, 0.0, 0.0, 0.0, 1.0, 3.023018477626566e-35, 0.0], [0.0, 0.0, 0.0, 0.0, 0.0, 1.0, 6.402665661412319e-26, 0.0]], [[1.0, 0.0, 0.0, 0.0, 0.0, 0.0, 0.0, 0.0], [0.31315580010414124, 0.6868441700935364, 0.0, 0.0, 0.0, 0.0, 0.0, 0.0], [0.31578540802001953, 0.011760846711695194, 0.6724537014961243, 0.0, 0.0, 0.0, 0.0, 0.0], [0.40160834789276123, 0.005151915829628706, 0.07794369757175446, 0.5152960419654846, 0.0, 0.0, 0.0, 0.0], [0.42544811964035034, 0.004707967862486839, 0.051090508699417114, 0.15348151326179504, 0.3652719557285309, 0.0, 0.0, 0.0], [0.43328234553337097, 0.007426020223647356, 0.055265218019485474, 0.0620543509721756, 0.14537082612514496, 0.29660120606422424, 0.0, 0.0], [0.47264721989631653, 0.009583023376762867, 0.06695263832807541, 0.0687074139714241, 0.07377822697162628, 0.08100741356611252, 0.2273240089416504, 0.0], [0.3449081480503082, 0.013796275481581688, 0.05823880061507225, 0.09332268685102463, 0.04916948452591896, 0.032639384269714355, 0.08884558081626892, 0.31907960772514343]]], [[[1.0, 0.0, 0.0, 0.0, 0.0, 0.0, 0.0, 0.0], [0.9925340414047241, 0.007465919945389032, 0.0, 0.0, 0.0, 0.0, 0.0, 0.0], [0.9438528418540955, 0.049248240888118744, 0.006898933555930853, 0.0, 0.0, 0.0, 0.0, 0.0], [0.9129356741905212, 0.06138012930750847, 0.012881590984761715, 0.012802548706531525, 0.0, 0.0, 0.0, 0.0], [0.9824932813644409, 0.003159251296892762, 0.0030438615940511227, 0.003484707558527589, 0.00781880784779787, 0.0, 0.0, 0.0], [0.38225647807121277, 0.00033318373607471585, 0.010907383635640144, 0.1999835968017578, 0.3938804268836975, 0.012638832442462444, 0.0, 0.0], [0.4957408905029297, 0.0015448570484295487, 0.0007428014650940895, 0.281386137008667, 0.08908736705780029, 0.06571123749017715, 0.0657866969704628, 0.0], [0.7562954425811768, 0.006367218680679798, 0.003688866039738059, 0.009020513854920864, 0.04937279596924782, 0.0817592442035675, 0.0731469914317131, 0.020348893478512764]], [[1.0, 0.0, 0.0, 0.0, 0.0, 0.0, 0.0, 0.0], [0.9933788776397705, 0.0066211046651005745, 0.0, 0.0, 0.0, 0.0, 0.0, 0.0], [0.9237172603607178, 0.07194191962480545, 0.004340823274105787, 0.0, 0.0, 0.0, 0.0, 0.0], [0.9116879105567932, 0.02339426800608635, 0.03959384188055992, 0.025324011221528053, 0.0, 0.0, 0.0, 0.0], [0.6245944499969482, 0.02066783234477043, 0.041372332721948624, 0.2941748797893524, 0.019190458580851555, 0.0, 0.0, 0.0], [0.7424573302268982, 0.0010898245964199305, 0.005181383341550827, 0.05743135139346123, 0.13427995145320892, 0.05956006050109863, 0.0, 0.0], [0.536212682723999, 0.002063268795609474, 0.005606666672974825, 0.002919096266850829, 0.04183170199394226, 0.3855997323989868, 0.025766752660274506, 0.0], [0.7906786799430847, 0.005521468818187714, 0.0064881169237196445, 0.0017580834683030844, 0.006822335533797741, 0.07854263484477997, 0.09955497831106186, 0.010633794590830803]], [[1.0, 0.0, 0.0, 0.0, 0.0, 0.0, 0.0, 0.0], [0.9950142502784729, 0.004985733889043331, 0.0, 0.0, 0.0, 0.0, 0.0, 0.0], [0.968414843082428, 0.03038804419338703, 0.0011971464846283197, 0.0, 0.0, 0.0, 0.0, 0.0], [0.9435144662857056, 0.04686034098267555, 0.0027267485857009888, 0.006898495834320784, 0.0, 0.0, 0.0, 0.0], [0.5051921606063843, 0.0332537516951561, 0.01952768675982952, 0.4281145930290222, 0.013911849819123745, 0.0, 0.0, 0.0], [0.5827329158782959, 0.0033600563183426857, 0.03881167992949486, 0.35617172718048096, 0.015152920968830585, 0.0037707360461354256, 0.0, 0.0], [0.7385711073875427, 0.004330884665250778, 0.01365745160728693, 0.19773706793785095, 0.04157450795173645, 0.002811583224684, 0.0013172090984880924, 0.0], [0.7657648921012878, 0.01895167864859104, 0.01126040518283844, 0.0819249078631401, 0.045091208070516586, 0.04945547506213188, 0.014450562186539173, 0.013100949116051197]], [[1.0, 0.0, 0.0, 0.0, 0.0, 0.0, 0.0, 0.0], [0.9958117008209229, 0.004188315477222204, 0.0, 0.0, 0.0, 0.0, 0.0, 0.0], [0.9863730669021606, 0.010450072586536407, 0.0031767638865858316, 0.0, 0.0, 0.0, 0.0, 0.0], [0.81229567527771, 0.06690015643835068, 0.07207807898521423, 0.04872613027691841, 0.0, 0.0, 0.0, 0.0], [0.6674233078956604, 0.05165768787264824, 0.1961335986852646, 0.08075810223817825, 0.004027298651635647, 0.0, 0.0, 0.0], [0.2928240895271301, 0.005769429728388786, 0.08772432804107666, 0.5772979855537415, 0.03127378597855568, 0.005110353697091341, 0.0, 0.0], [0.5618669390678406, 0.012313145212829113, 0.012804915197193623, 0.13386081159114838, 0.14788725972175598, 0.08054178953170776, 0.050725072622299194, 0.0], [0.718855082988739, 0.0279677901417017, 0.003331379499286413, 0.014832944609224796, 0.02598356269299984, 0.09887798130512238, 0.10105567425489426, 0.009095589630305767]], [[1.0, 0.0, 0.0, 0.0, 0.0, 0.0, 0.0, 0.0], [0.9917705059051514, 0.008229498751461506, 0.0, 0.0, 0.0, 0.0, 0.0, 0.0], [0.9552366137504578, 0.03240841627120972, 0.012354949489235878, 0.0, 0.0, 0.0, 0.0, 0.0], [0.670482337474823, 0.02489667944610119, 0.2638304531574249, 0.04079053923487663, 0.0, 0.0, 0.0, 0.0], [0.8100218176841736, 0.0039072418585419655, 0.009050874970853329, 0.14533567428588867, 0.031684327870607376, 0.0, 0.0, 0.0], [0.5984808206558228, 0.0071801841259002686, 0.0054059624671936035, 0.038268979638814926, 0.3285527527332306, 0.022111261263489723, 0.0, 0.0], [0.7925899028778076, 0.007790687028318644, 0.006344677414745092, 0.0028846622444689274, 0.043698616325855255, 0.12896014750003815, 0.017731238156557083, 0.0], [0.7375054955482483, 0.007302801590412855, 0.005234701558947563, 0.0006601477507501841, 0.00557309715077281, 0.049880001693964005, 0.18246246874332428, 0.011381278745830059]], [[1.0, 0.0, 0.0, 0.0, 0.0, 0.0, 0.0, 0.0], [0.959634006023407, 0.040365952998399734, 0.0, 0.0, 0.0, 0.0, 0.0, 0.0], [0.9015865921974182, 0.08562343567609787, 0.01278993021696806, 0.0, 0.0, 0.0, 0.0, 0.0], [0.9145070910453796, 0.015868496149778366, 0.0662592351436615, 0.0033651271369308233, 0.0, 0.0, 0.0, 0.0], [0.6902948617935181, 0.1290857046842575, 0.1648252308368683, 0.010637261904776096, 0.005157007835805416, 0.0, 0.0, 0.0], [0.7724131345748901, 0.0337272509932518, 0.03201369568705559, 0.11065380275249481, 0.002436456037685275, 0.04875567927956581, 0.0, 0.0], [0.712204098701477, 0.004483533091843128, 0.040607091039419174, 0.10067781060934067, 0.0021667226683348417, 0.1296015828847885, 0.010259181261062622, 0.0], [0.8843401074409485, 0.015042872168123722, 0.048735737800598145, 0.007621161639690399, 0.006275765132158995, 0.02065144293010235, 0.00551548320800066, 0.011817453429102898]], [[1.0, 0.0, 0.0, 0.0, 0.0, 0.0, 0.0, 0.0], [0.9942194223403931, 0.005780586041510105, 0.0, 0.0, 0.0, 0.0, 0.0, 0.0], [0.9302158355712891, 0.04341861233115196, 0.02636561542749405, 0.0, 0.0, 0.0, 0.0, 0.0], [0.9603214859962463, 0.0008270363905467093, 0.008675508201122284, 0.030176077038049698, 0.0, 0.0, 0.0, 0.0], [0.4440273344516754, 0.014009686186909676, 0.02224244363605976, 0.5114194750785828, 0.008300979621708393, 0.0, 0.0, 0.0], [0.5001918077468872, 0.03368056192994118, 0.02387172169983387, 0.40720996260643005, 0.007519983220845461, 0.027525966987013817, 0.0, 0.0], [0.7966787815093994, 0.09459242969751358, 0.0035421436186879873, 0.046641264110803604, 0.0015977504663169384, 0.04638640955090523, 0.010561276227235794, 0.0], [0.8951393961906433, 0.012586679309606552, 0.004702612292021513, 0.014773991890251637, 0.001825117040425539, 0.017279885709285736, 0.025319118052721024, 0.028373191133141518]], [[1.0, 0.0, 0.0, 0.0, 0.0, 0.0, 0.0, 0.0], [0.9962899684906006, 0.003710043616592884, 0.0, 0.0, 0.0, 0.0, 0.0, 0.0], [0.9550417065620422, 0.006128603592514992, 0.03882965072989464, 0.0, 0.0, 0.0, 0.0, 0.0], [0.8310548067092896, 0.019861606881022453, 0.14717720448970795, 0.0019063486251980066, 0.0, 0.0, 0.0, 0.0], [0.5567519068717957, 0.03595517575740814, 0.4036800265312195, 0.002326369285583496, 0.0012864976888522506, 0.0, 0.0, 0.0], [0.5951518416404724, 0.03606075793504715, 0.14766815304756165, 0.05087588354945183, 0.13110938668251038, 0.03913396969437599, 0.0, 0.0], [0.3680802881717682, 0.004199481103569269, 0.043001674115657806, 0.014530119486153126, 0.26488566398620605, 0.2919972836971283, 0.013305477797985077, 0.0], [0.7016053199768066, 0.0059455097652971745, 0.022484734654426575, 0.005234438925981522, 0.06144722178578377, 0.08664656430482864, 0.0884471982717514, 0.02818898670375347]]], [[[1.0, 0.0, 0.0, 0.0, 0.0, 0.0, 0.0, 0.0], [0.9892802834510803, 0.010719723999500275, 0.0, 0.0, 0.0, 0.0, 0.0, 0.0], [0.30164650082588196, 0.6479396224021912, 0.05041389539837837, 0.0, 0.0, 0.0, 0.0, 0.0], [0.1095491498708725, 0.0006935088313184679, 0.8800163269042969, 0.009740901179611683, 0.0, 0.0, 0.0, 0.0], [0.030250191688537598, 0.011594301089644432, 0.003978311084210873, 0.9366228580474854, 0.01755439303815365, 0.0, 0.0, 0.0], [0.2556639015674591, 0.04902644455432892, 0.014173563569784164, 0.013148248195648193, 0.6563393473625183, 0.011648574844002724, 0.0, 0.0], [0.012211297638714314, 0.002584409434348345, 0.0001579755189595744, 0.00017461366951465607, 0.002188328420743346, 0.9432754516601562, 0.03940789774060249, 0.0], [0.06228712201118469, 0.04089570418000221, 0.01529034785926342, 0.0006447048508562148, 0.008846965618431568, 0.06594815105199814, 0.6975125074386597, 0.10857446491718292]], [[1.0, 0.0, 0.0, 0.0, 0.0, 0.0, 0.0, 0.0], [0.9688528776168823, 0.031147126108407974, 0.0, 0.0, 0.0, 0.0, 0.0, 0.0], [0.78211909532547, 0.20244072377681732, 0.0154402581974864, 0.0, 0.0, 0.0, 0.0, 0.0], [0.328712522983551, 0.6275190114974976, 0.005712693557143211, 0.03805578872561455, 0.0, 0.0, 0.0, 0.0], [0.5291469097137451, 0.13547174632549286, 0.05200745537877083, 0.24783019721508026, 0.03554370999336243, 0.0, 0.0, 0.0], [0.29298797249794006, 0.015982048586010933, 0.006242890376597643, 0.07853858172893524, 0.5968625545501709, 0.009386016987264156, 0.0, 0.0], [0.20692358911037445, 0.003083550138399005, 0.03752032294869423, 0.2027110606431961, 0.09917664527893066, 0.008925867266952991, 0.44165900349617004, 0.0], [0.02372431568801403, 0.0008827600395306945, 0.000252595724305138, 0.005334961693733931, 0.26690834760665894, 0.027847500517964363, 0.6720708012580872, 0.0029787258245050907]], [[1.0, 0.0, 0.0, 0.0, 0.0, 0.0, 0.0, 0.0], [0.7831052541732788, 0.21689467132091522, 0.0, 0.0, 0.0, 0.0, 0.0, 0.0], [0.5557984113693237, 0.25212037563323975, 0.19208112359046936, 0.0, 0.0, 0.0, 0.0, 0.0], [0.4751052260398865, 0.3516062796115875, 0.17214801907539368, 0.001140393316745758, 0.0, 0.0, 0.0, 0.0], [0.4738202691078186, 0.02964419685304165, 0.18677371740341187, 0.2852911055088043, 0.024470673874020576, 0.0, 0.0, 0.0], [0.37899526953697205, 0.005077532958239317, 0.0020358641631901264, 0.03436730429530144, 0.5635936260223389, 0.015930449590086937, 0.0, 0.0], [0.6322338581085205, 0.003537406912073493, 0.00012790414621122181, 0.00681457482278347, 0.3087661862373352, 0.047575097531080246, 0.0009449917706660926, 0.0], [0.09218136966228485, 0.01085731666535139, 0.0011022237595170736, 0.020226774737238884, 0.0126341562718153, 0.1911761611700058, 0.6714580059051514, 0.0003640189243014902]], [[1.0, 0.0, 0.0, 0.0, 0.0, 0.0, 0.0, 0.0], [0.5396891236305237, 0.46031084656715393, 0.0, 0.0, 0.0, 0.0, 0.0, 0.0], [0.5980775356292725, 0.13349521160125732, 0.2684272527694702, 0.0, 0.0, 0.0, 0.0, 0.0], [0.09177216142416, 0.015363314189016819, 0.8905492424964905, 0.0023153198417276144, 0.0, 0.0, 0.0, 0.0], [0.09023510664701462, 0.0007663407013751566, 0.03179578483104706, 0.8613736033439636, 0.01582925021648407, 0.0, 0.0, 0.0], [0.14720067381858826, 8.971868373919278e-05, 0.04897584393620491, 0.007804505061358213, 0.7360441088676453, 0.0598851777613163, 0.0, 0.0], [0.011444684118032455, 0.0006968713132664561, 2.914619653893169e-05, 0.00030073962989263237, 0.002061439212411642, 0.07695285975933075, 0.9085142016410828, 0.0], [0.0005338832852430642, 8.431283276877366e-06, 0.0001235382369486615, 4.025124326290097e-06, 3.1074621801963076e-05, 0.003328432561829686, 0.8967633843421936, 0.09920729696750641]], [[1.0, 0.0, 0.0, 0.0, 0.0, 0.0, 0.0, 0.0], [0.9990838766098022, 0.000916074903216213, 0.0, 0.0, 0.0, 0.0, 0.0, 0.0], [0.9275023937225342, 0.034331128001213074, 0.038166508078575134, 0.0, 0.0, 0.0, 0.0, 0.0], [0.7549185156822205, 0.18288347125053406, 0.047899309545755386, 0.014298714697360992, 0.0, 0.0, 0.0, 0.0], [0.4730452597141266, 0.09229151159524918, 0.09656830132007599, 0.32971709966659546, 0.008377841673791409, 0.0, 0.0, 0.0], [0.05762890353798866, 0.00010571356688160449, 0.16481398046016693, 0.7602958083152771, 0.015869664028286934, 0.0012859010603278875, 0.0, 0.0], [0.0772821381688118, 0.0015801341505721211, 0.010677050799131393, 0.0034087421372532845, 0.7507674098014832, 0.14697426557540894, 0.009310211054980755, 0.0], [0.0022188264410942793, 0.0006049997755326331, 0.001011960906907916, 0.00046269723679870367, 0.08077358454465866, 0.6441980004310608, 0.2704639136791229, 0.00026602085563354194]], [[1.0, 0.0, 0.0, 0.0, 0.0, 0.0, 0.0, 0.0], [0.7726597189903259, 0.22734032571315765, 0.0, 0.0, 0.0, 0.0, 0.0, 0.0], [0.8068283200263977, 0.04568597674369812, 0.1474856585264206, 0.0, 0.0, 0.0, 0.0, 0.0], [0.11925516277551651, 0.0037864907644689083, 0.8763779997825623, 0.0005803884123452008, 0.0, 0.0, 0.0, 0.0], [0.42215538024902344, 0.021348286420106888, 0.5304844379425049, 0.02293604612350464, 0.0030757777858525515, 0.0, 0.0, 0.0], [0.5326846241950989, 0.04261557012796402, 0.2118591070175171, 0.08780873566865921, 0.12199819833040237, 0.003033702727407217, 0.0, 0.0], [0.26691189408302307, 0.0010878723114728928, 0.06474192440509796, 0.14514145255088806, 0.08043140918016434, 0.4109424352645874, 0.030743049457669258, 0.0], [0.612298846244812, 0.06941544264554977, 0.02507081814110279, 0.0036892711650580168, 0.0012475935509428382, 0.0033724596723914146, 0.06784225255250931, 0.21706338226795197]], [[1.0, 0.0, 0.0, 0.0, 0.0, 0.0, 0.0, 0.0], [0.994204580783844, 0.0057954671792685986, 0.0, 0.0, 0.0, 0.0, 0.0, 0.0], [0.9852854609489441, 0.0015436233952641487, 0.013170914724469185, 0.0, 0.0, 0.0, 0.0, 0.0], [0.27268949151039124, 0.015068805776536465, 0.7087670564651489, 0.0034746399614959955, 0.0, 0.0, 0.0, 0.0], [0.554250955581665, 0.06328272074460983, 0.3638836443424225, 0.014391559176146984, 0.004191163461655378, 0.0, 0.0, 0.0], [0.5276049971580505, 0.017602890729904175, 0.12650920450687408, 0.0021492638625204563, 0.16436675190925598, 0.16176681220531464, 0.0, 0.0], [0.27736788988113403, 0.0018691731384024024, 0.035469356924295425, 0.001225322368554771, 0.0607706643640995, 0.009226026944816113, 0.6140715479850769, 0.0], [0.026277126744389534, 0.0004204515425954014, 0.010424706153571606, 2.8839656806667335e-05, 0.000662557256873697, 0.00937348511070013, 0.7445379495620728, 0.2082749456167221]], [[1.0, 0.0, 0.0, 0.0, 0.0, 0.0, 0.0, 0.0], [0.9891465902328491, 0.010853460058569908, 0.0, 0.0, 0.0, 0.0, 0.0, 0.0], [0.6437697410583496, 0.006057451944798231, 0.35017281770706177, 0.0, 0.0, 0.0, 0.0, 0.0], [0.08398483693599701, 0.0256227757781744, 0.8883921504020691, 0.002000190317630768, 0.0, 0.0, 0.0, 0.0], [0.36387237906455994, 0.0021839148830622435, 0.6058275699615479, 0.018219253048300743, 0.009897024370729923, 0.0, 0.0, 0.0], [0.7160477042198181, 0.0019690333865582943, 0.14005537331104279, 0.09681061655282974, 0.005746492184698582, 0.03937068209052086, 0.0, 0.0], [0.024168744683265686, 0.00020133661746513098, 0.10507325828075409, 0.0005788806010968983, 0.000751282786950469, 0.8418411612510681, 0.027385346591472626, 0.0], [0.07566327601671219, 0.0014250976964831352, 0.8754017949104309, 0.005718855187296867, 0.0013448683312162757, 0.01771392859518528, 0.009142361581325531, 0.013589899986982346]]], [[[1.0, 0.0, 0.0, 0.0, 0.0, 0.0, 0.0, 0.0], [0.8818316459655762, 0.11816836148500443, 0.0, 0.0, 0.0, 0.0, 0.0, 0.0], [0.013100570067763329, 0.9867021441459656, 0.0001972432219190523, 0.0, 0.0, 0.0, 0.0, 0.0], [0.9180817008018494, 0.017675694078207016, 0.043424736708402634, 0.020817873999476433, 0.0, 0.0, 0.0, 0.0], [0.14843198657035828, 0.0014647649368271232, 0.19868159294128418, 0.6470096111297607, 0.0044120620004832745, 0.0, 0.0, 0.0], [0.05087830126285553, 0.003370753489434719, 0.001879884977824986, 0.16589291393756866, 0.7636969089508057, 0.014281230047345161, 0.0, 0.0], [0.039746273308992386, 0.0007665865705348551, 0.0016381435561925173, 0.04599469527602196, 0.9111523628234863, 0.00016474119911435992, 0.0005371378501877189, 0.0], [0.739149808883667, 0.009047969244420528, 0.0023167349863797426, 0.02211753837764263, 0.04893636330962181, 0.019393956288695335, 0.058594826608896255, 0.1004428118467331]], [[1.0, 0.0, 0.0, 0.0, 0.0, 0.0, 0.0, 0.0], [0.8272583484649658, 0.17274169623851776, 0.0, 0.0, 0.0, 0.0, 0.0, 0.0], [0.7546809911727905, 0.24283456802368164, 0.0024844964500516653, 0.0, 0.0, 0.0, 0.0, 0.0], [0.8427939414978027, 0.05337890237569809, 0.09853124618530273, 0.005295946262776852, 0.0, 0.0, 0.0, 0.0], [0.23626968264579773, 0.4313364028930664, 0.18492388725280762, 0.0042739929631352425, 0.14319603145122528, 0.0, 0.0, 0.0], [0.10432624816894531, 0.007184556219726801, 0.286166250705719, 0.19521383941173553, 0.39408501982688904, 0.013024079613387585, 0.0, 0.0], [0.04429050162434578, 0.0055689685977995396, 0.12061186134815216, 0.02750316448509693, 0.6660147905349731, 0.01277645118534565, 0.12323428690433502, 0.0], [0.3534969389438629, 0.02369477041065693, 0.0005906331934966147, 0.05639388784766197, 0.3342531621456146, 0.12446831911802292, 0.011268297210335732, 0.09583409130573273]], [[1.0, 0.0, 0.0, 0.0, 0.0, 0.0, 0.0, 0.0], [0.9274395108222961, 0.07256048917770386, 0.0, 0.0, 0.0, 0.0, 0.0, 0.0], [0.6237738728523254, 0.36111509799957275, 0.015110976994037628, 0.0, 0.0, 0.0, 0.0, 0.0], [0.8735990524291992, 0.050089363008737564, 0.07161741703748703, 0.004694212228059769, 0.0, 0.0, 0.0, 0.0], [0.04232596233487129, 9.177710307994857e-05, 0.946806788444519, 0.00977962464094162, 0.000995889538899064, 0.0, 0.0, 0.0], [0.5194441676139832, 0.010706953704357147, 0.15071627497673035, 0.0711640864610672, 0.012589732185006142, 0.23537880182266235, 0.0, 0.0], [0.01935468055307865, 0.0020583143923431635, 0.00039848737651482224, 0.0033059478737413883, 0.0038679507561028004, 0.9628481268882751, 0.008166478946805, 0.0], [0.5130122303962708, 0.0083594536408782, 0.04167652502655983, 0.012273537926375866, 0.0029226343613117933, 0.27562415599823, 0.01663193851709366, 0.12949945032596588]], [[1.0, 0.0, 0.0, 0.0, 0.0, 0.0, 0.0, 0.0], [0.9934444427490234, 0.0065555265173316, 0.0, 0.0, 0.0, 0.0, 0.0, 0.0], [0.706883430480957, 0.11745188385248184, 0.17566470801830292, 0.0, 0.0, 0.0, 0.0, 0.0], [0.25726139545440674, 0.3914088308811188, 0.32947754859924316, 0.02185223437845707, 0.0, 0.0, 0.0, 0.0], [0.20533134043216705, 0.21227146685123444, 0.5022372603416443, 0.04952502250671387, 0.030634939670562744, 0.0, 0.0, 0.0], [0.05223727971315384, 0.03584021329879761, 0.15422971546649933, 0.036535486578941345, 0.04105581343173981, 0.6801015138626099, 0.0, 0.0], [0.016706977039575577, 0.0015481117879971862, 0.008324163034558296, 0.0002480811963323504, 0.001341668190434575, 0.9686247706413269, 0.0032062726095318794, 0.0], [0.38948842883110046, 0.010188027285039425, 0.20232278108596802, 0.01331623736768961, 0.15286211669445038, 0.13491219282150269, 0.07088153809309006, 0.026028627529740334]], [[1.0, 0.0, 0.0, 0.0, 0.0, 0.0, 0.0, 0.0], [0.9806705713272095, 0.01932939700782299, 0.0, 0.0, 0.0, 0.0, 0.0, 0.0], [0.828686535358429, 0.07299662381410599, 0.09831691533327103, 0.0, 0.0, 0.0, 0.0, 0.0], [0.12880054116249084, 0.022084396332502365, 0.8021527528762817, 0.04696226865053177, 0.0, 0.0, 0.0, 0.0], [0.2249060720205307, 0.41497373580932617, 0.22858324646949768, 0.126234233379364, 0.00530271977186203, 0.0, 0.0, 0.0], [0.3184986710548401, 0.022832153365015984, 0.26320987939834595, 0.08869591355323792, 0.10775955766439438, 0.19900383055210114, 0.0, 0.0], [0.02502172440290451, 0.004057659767568111, 0.005849204491823912, 0.003426403971388936, 0.04779203236103058, 0.8899871706962585, 0.023865777999162674, 0.0], [0.22395990788936615, 0.20496582984924316, 0.049734871834516525, 0.1489284634590149, 0.21377314627170563, 0.08807791769504547, 0.03899184241890907, 0.03156808763742447]], [[1.0, 0.0, 0.0, 0.0, 0.0, 0.0, 0.0, 0.0], [0.9583103656768799, 0.0416896715760231, 0.0, 0.0, 0.0, 0.0, 0.0, 0.0], [0.5195457935333252, 0.46232739090919495, 0.01812676712870598, 0.0, 0.0, 0.0, 0.0, 0.0], [0.12340303510427475, 0.11865293979644775, 0.04478117451071739, 0.7131628394126892, 0.0, 0.0, 0.0, 0.0], [0.01473979838192463, 0.0011618941789492965, 0.08083327859640121, 0.875813901424408, 0.02745114639401436, 0.0, 0.0, 0.0], [0.12528371810913086, 0.007969613187015057, 0.005363358184695244, 0.4898921847343445, 0.36892858147621155, 0.0025625794660300016, 0.0, 0.0], [0.03189248964190483, 0.002160806907340884, 0.04507650434970856, 0.5070335865020752, 0.07896691560745239, 0.28885042667388916, 0.04601912945508957, 0.0], [0.49114716053009033, 0.04495508596301079, 0.0282927043735981, 0.02201668545603752, 0.012357426807284355, 0.30364981293678284, 0.07781918346881866, 0.019761858507990837]], [[1.0, 0.0, 0.0, 0.0, 0.0, 0.0, 0.0, 0.0], [0.8277081251144409, 0.17229187488555908, 0.0, 0.0, 0.0, 0.0, 0.0, 0.0], [0.8934963345527649, 0.03053751215338707, 0.07596616446971893, 0.0, 0.0, 0.0, 0.0, 0.0], [0.39724409580230713, 0.021469581872224808, 0.5432333946228027, 0.03805297240614891, 0.0, 0.0, 0.0, 0.0], [0.17916004359722137, 0.37263354659080505, 0.07040046900510788, 0.22032524645328522, 0.15748059749603271, 0.0, 0.0, 0.0], [0.10993529856204987, 0.007008686196058989, 0.34388044476509094, 0.14878499507904053, 0.3827342987060547, 0.007656280416995287, 0.0, 0.0], [0.004703792277723551, 0.0009138330351561308, 0.0025175209157168865, 0.043799616396427155, 0.013071691617369652, 0.003881581826135516, 0.9311120510101318, 0.0], [0.13918066024780273, 0.00025889030075632036, 0.004870750475674868, 0.10512290894985199, 0.0029104556888341904, 0.0023291283287107944, 0.10004033893346786, 0.6452868580818176]], [[1.0, 0.0, 0.0, 0.0, 0.0, 0.0, 0.0, 0.0], [0.9773470759391785, 0.022652940824627876, 0.0, 0.0, 0.0, 0.0, 0.0, 0.0], [0.7418619394302368, 0.18094076216220856, 0.07719730585813522, 0.0, 0.0, 0.0, 0.0, 0.0], [0.033800769597291946, 0.006253779400140047, 0.9596149921417236, 0.00033046730095520616, 0.0, 0.0, 0.0, 0.0], [0.20509421825408936, 0.19735100865364075, 0.36151957511901855, 0.005614050198346376, 0.23042112588882446, 0.0, 0.0, 0.0], [0.061397965997457504, 0.10671523213386536, 0.05265360698103905, 0.0002276891900692135, 0.5226184725761414, 0.25638702511787415, 0.0, 0.0], [0.04804930463433266, 0.020806042477488518, 0.2706914246082306, 0.00017822142399381846, 0.580023467540741, 0.05750236287713051, 0.022749152034521103, 0.0], [0.11973903328180313, 0.0002405643608653918, 0.03256601095199585, 0.0031827474012970924, 0.7745680212974548, 0.046570755541324615, 0.019490031525492668, 0.003642876399680972]]]], \"left_text\": [\"Q\", \"Y\", \"S\", \"V\", \"L\", \"I\", \"F\", \"<eos>\"], \"right_text\": [\"Q\", \"Y\", \"S\", \"V\", \"L\", \"I\", \"F\", \"<eos>\"]}, {\"name\": \"Cross\", \"attn\": [[[[0.9942237734794617, 0.0054429760202765465, 7.035928865661845e-05, 4.435313167050481e-05, 1.2882705050287768e-05, 4.533458559308201e-05, 6.774735084036365e-05, 9.243898239219561e-05, 0.0], [0.008393458090722561, 0.9894208908081055, 0.0016692002536728978, 9.142259841610212e-06, 3.5682503494172124e-06, 5.5297723520197906e-06, 5.942282223259099e-05, 0.0004387483058962971, 0.0], [3.4707012673607096e-05, 0.017462238669395447, 0.9603572487831116, 0.020074844360351562, 1.0818483133334666e-05, 3.932965739750216e-07, 4.0776268406261806e-07, 0.002059416612610221, 0.0], [3.443529567448422e-05, 3.135976294288412e-05, 0.030443497002124786, 0.5634071826934814, 0.39667949080467224, 1.0901104360527825e-05, 1.125477027130728e-07, 0.009393061511218548, 0.0], [1.591765339981066e-06, 1.2799046089639887e-07, 2.8070362532162108e-06, 0.020575905218720436, 0.907551646232605, 0.07183542847633362, 6.546124495798722e-07, 3.186741378158331e-05, 0.0], [5.573531780100893e-06, 4.5167137585622186e-08, 6.880856440183436e-10, 5.876218551748025e-07, 0.0001591258478583768, 0.9970813393592834, 0.0026232702657580376, 0.00013006287917960435, 0.0], [3.299949457868934e-05, 3.3066453397623263e-06, 2.6364455063543346e-10, 1.7460723622172991e-12, 3.5468525338977486e-10, 0.0008811348816379905, 0.9943986535072327, 0.004683947190642357, 0.0], [1.922396222653333e-05, 0.0008240705356001854, 6.031012134144476e-08, 6.475726205268373e-12, 2.8167992569515243e-14, 2.7231097932123305e-10, 0.010695691220462322, 0.988460898399353, 0.0]], [[0.01734287478029728, 0.12547658383846283, 0.006581353023648262, 6.843497249064967e-05, 0.817101240158081, 0.024299263954162598, 0.00040671881288290024, 0.008723587729036808, 0.0], [0.02650091052055359, 0.2707943618297577, 0.6638835668563843, 0.0024990651290863752, 0.0021674344316124916, 0.010808113031089306, 0.0022411923855543137, 0.02110544964671135, 0.0], [0.039031725376844406, 0.39720508456230164, 0.4778381884098053, 0.0013764940667897463, 0.013789485208690166, 0.010522211901843548, 0.0019776264671236277, 0.05825914442539215, 0.0], [0.0034689183812588453, 0.003400427056476474, 0.846335232257843, 0.0045281401835381985, 0.06008516252040863, 0.02265038900077343, 0.005313567817211151, 0.054218217730522156, 0.0], [0.0062578883953392506, 0.004355236887931824, 0.02795826643705368, 0.03666766360402107, 0.7633800506591797, 0.046390146017074585, 0.003297232324257493, 0.11169341206550598, 0.0], [0.0009002566221170127, 0.000895257864613086, 0.004339669365435839, 9.015414252644405e-05, 0.9150159358978271, 0.04380720853805542, 0.008455781266093254, 0.026495780795812607, 0.0], [0.002714630449190736, 0.00020545523148030043, 0.00022681348491460085, 0.00033327945857308805, 0.8017846941947937, 0.07978826761245728, 0.06633878499269485, 0.048608142882585526, 0.0], [0.0034664066042751074, 0.01352139562368393, 0.009060995653271675, 0.0017179034184664488, 0.23414631187915802, 0.4086463153362274, 0.16565725207328796, 0.1637834757566452, 0.0]], [[0.14995938539505005, 0.14143891632556915, 0.000676328840199858, 0.000208633195143193, 0.08390258252620697, 0.0030914826784282923, 0.003453865647315979, 0.6172688007354736, 0.0], [0.5722790956497192, 0.07715749740600586, 0.0034543813671916723, 0.0017620316939428449, 0.023218845948576927, 0.001864384044893086, 0.005659595597535372, 0.31460413336753845, 0.0], [0.19234606623649597, 0.7451444268226624, 0.012743025086820126, 0.0038504665717482567, 0.00042103786836378276, 0.0031570978462696075, 0.007650384213775396, 0.034687433391809464, 0.0], [0.007503715809434652, 0.37872010469436646, 0.4561697542667389, 0.11561597138643265, 0.0009643036755733192, 0.0034950056578963995, 0.006037109065800905, 0.031494103372097015, 0.0], [0.001223713275976479, 0.603181004524231, 0.19408319890499115, 0.09390030801296234, 0.04354125261306763, 0.0007451640558429062, 0.002823387971147895, 0.060501981526613235, 0.0], [0.0004460587806534022, 0.00205022725276649, 0.0455506406724453, 0.2385970652103424, 0.6674513220787048, 0.0012025419855490327, 0.0036810734309256077, 0.04102097451686859, 0.0], [0.0006446763291023672, 0.00013232101628091186, 0.00019582109234761447, 0.018281487748026848, 0.8041113018989563, 0.1317669153213501, 0.03187974914908409, 0.012987782247364521, 0.0], [0.0010329129872843623, 0.00017526576993986964, 0.00014623893366660923, 0.0014053336344659328, 0.012575844302773476, 0.5167203545570374, 0.4547865688800812, 0.013157431967556477, 0.0]], [[0.0043885475024580956, 0.140689417719841, 0.12561719119548798, 0.2273242026567459, 0.4682104289531708, 0.0009561913320794702, 0.0015230124117806554, 0.03129097446799278, 0.0], [0.0007943891687318683, 0.005689246580004692, 0.01953379437327385, 0.33044981956481934, 0.5919407606124878, 0.001098734443075955, 0.00012246092956047505, 0.05037078633904457, 0.0], [0.004243409726768732, 0.002997836098074913, 0.0018213973380625248, 0.054536122828722, 0.7490350008010864, 0.07889808714389801, 0.003599154995754361, 0.10486889630556107, 0.0], [0.03427988290786743, 0.004288914147764444, 0.0011109631741419435, 0.0013663803692907095, 0.0363294817507267, 0.6161902546882629, 0.08185278624296188, 0.22458143532276154, 0.0], [0.09040750563144684, 0.01708425022661686, 0.008977762423455715, 0.0015854801749810576, 0.009205663576722145, 0.1524192988872528, 0.20795808732509613, 0.5123618841171265, 0.0], [0.005197267513722181, 0.04959340766072273, 0.04791399836540222, 0.0012554002460092306, 0.0028242762200534344, 0.014261731877923012, 0.20620845258235931, 0.6727454662322998, 0.0], [0.0009811740601435304, 0.028855571523308754, 0.08833519369363785, 0.029534678906202316, 0.002978378441184759, 0.0005658311420120299, 0.010724125429987907, 0.8380250334739685, 0.0], [0.0008060919935815036, 0.006312873680144548, 0.05248955264687538, 0.04339548572897911, 0.032533805817365646, 0.0009235410252586007, 0.001479536877013743, 0.8620590567588806, 0.0]], [[0.00048323863302357495, 0.79558926820755, 5.2622053772211075e-05, 8.755947055760771e-05, 0.1629532128572464, 0.0002917636011261493, 0.0337030403316021, 0.006839400622993708, 0.0], [0.011945059522986412, 0.6456836462020874, 0.2337782084941864, 0.030084820464253426, 0.014341557398438454, 0.00012747038272209466, 0.028578681871294975, 0.035460591316223145, 0.0], [0.005953589454293251, 0.44864344596862793, 0.1720438152551651, 0.09052657335996628, 0.1083763837814331, 0.0013115409528836608, 0.04306180030107498, 0.13008272647857666, 0.0], [0.0002915020158980042, 0.0026960275135934353, 0.01750253140926361, 0.03351934254169464, 0.7530529499053955, 0.002365842228755355, 0.029317514970898628, 0.16125431656837463, 0.0], [1.5063846149132587e-05, 0.0004682966391555965, 0.00015543855261057615, 0.0008267944795079529, 0.8840252161026001, 0.0009732955950312316, 0.08914471417665482, 0.0243911724537611, 0.0], [2.3383718144032173e-05, 0.0005982753355056047, 2.2120602807262912e-05, 0.00011199411528650671, 0.04864662140607834, 0.012830340303480625, 0.9081781506538391, 0.0295890960842371, 0.0], [5.877056537428871e-05, 0.0029540667310357094, 4.491508661885746e-05, 1.679992419667542e-05, 0.023327598348259926, 0.019342266023159027, 0.8753834366798401, 0.07887210696935654, 0.0], [0.00010063670197268948, 0.0027143422048538923, 9.347376180812716e-05, 2.586731716291979e-05, 0.00330998282879591, 0.0012646118411794305, 0.8709813952445984, 0.12150965631008148, 0.0]], [[0.037738069891929626, 0.03748279809951782, 0.03112304024398327, 0.7520806789398193, 0.07628581672906876, 0.005353787913918495, 0.0005960405105724931, 0.05933975428342819, 0.0], [0.03385035693645477, 0.13020385801792145, 0.2790958881378174, 0.26481345295906067, 0.23555544018745422, 0.00044652269571088254, 0.00040020805317908525, 0.05563434213399887, 0.0], [0.0033275692258030176, 0.01615176536142826, 0.052032992243766785, 0.567510724067688, 0.10779234766960144, 0.011439365334808826, 0.0067014433443546295, 0.23504377901554108, 0.0], [0.007332836277782917, 0.4028979539871216, 0.030859770253300667, 0.10973498970270157, 0.18369220197200775, 0.007737259846180677, 0.00738930469378829, 0.25035566091537476, 0.0], [0.0012917006388306618, 0.02743123099207878, 0.01712251454591751, 0.3389475643634796, 0.14375026524066925, 0.24605391919612885, 0.054161187261343, 0.17124156653881073, 0.0], [0.0011992144864052534, 7.970896695042029e-05, 0.0008213127148337662, 0.005379816982895136, 0.3583040237426758, 0.42725807428359985, 0.13541635870933533, 0.07154151052236557, 0.0], [0.0006443775491788983, 0.0003730918688233942, 0.007363417651504278, 0.004666088614612818, 0.008599127642810345, 0.4625249207019806, 0.2725777328014374, 0.2432512640953064, 0.0], [0.006568229757249355, 0.0004159352683927864, 0.002135275397449732, 0.004574236925691366, 0.02808312512934208, 0.0630401223897934, 0.49683189392089844, 0.39835119247436523, 0.0]], [[0.011167220771312714, 8.336173777934164e-05, 9.761512956174556e-06, 2.5043867935892195e-05, 5.4230138630373403e-05, 3.6082071801502025e-06, 2.671143192856107e-05, 0.9886300563812256, 0.0], [0.951503574848175, 0.027599796652793884, 0.0003333070199005306, 2.372666131122969e-05, 2.5238168746000156e-05, 0.00686733890324831, 0.010024935007095337, 0.0036221237387508154, 0.0], [0.00683793006464839, 0.9894207715988159, 0.003506503300741315, 5.5810564845160116e-06, 5.23849621458794e-07, 8.082557769739651e-07, 6.206572834344115e-06, 0.0002217860019300133, 0.0], [0.00014830045984126627, 0.11983270198106766, 0.7118616104125977, 0.13312627375125885, 0.0009381695417687297, 4.484538294491358e-06, 5.624729601549916e-05, 0.034032195806503296, 0.0], [4.5423911387842963e-07, 4.811701728613116e-05, 0.006181827746331692, 0.18817541003227234, 0.8021970987319946, 4.328925115260063e-06, 5.354151966230347e-08, 0.0033926109317690134, 0.0], [9.817928514621599e-08, 1.8430002413083457e-08, 2.066846889192675e-07, 0.0027344715781509876, 0.9969968795776367, 0.0001742878812365234, 1.5776305417602998e-06, 9.255918848793954e-05, 0.0], [7.43917280487949e-06, 2.0730055894091493e-07, 1.2204632859891262e-09, 1.8305563571630046e-06, 0.6912168860435486, 0.24309982359409332, 0.06509241461753845, 0.0005814238102175295, 0.0], [0.0002575214020907879, 8.298927241412457e-06, 3.7886269121933935e-10, 7.263083467989873e-10, 1.4680917047371622e-05, 0.0061233555898070335, 0.9922221302986145, 0.0013740193098783493, 0.0]], [[0.007857500575482845, 0.16611900925636292, 0.0037212788593024015, 0.39077186584472656, 0.004621764179319143, 0.008834750391542912, 0.33336585760116577, 0.08470793068408966, 0.0], [0.023881183937191963, 0.6744598150253296, 0.13516870141029358, 0.04613901674747467, 0.006012342870235443, 0.001883198507130146, 0.04239489883184433, 0.07006094604730606, 0.0], [0.01978195086121559, 0.22970031201839447, 0.29439568519592285, 0.26993170380592346, 0.006260276772081852, 0.003930558916181326, 0.010558422654867172, 0.16544109582901, 0.0], [0.002327350899577141, 0.014058375731110573, 0.033327315002679825, 0.3065134584903717, 0.027928439900279045, 0.035915620625019073, 0.02828708104789257, 0.5516423583030701, 0.0], [0.0002733347937464714, 0.00046753216884098947, 0.002952490234747529, 0.34913158416748047, 0.04651357978582382, 0.18585386872291565, 0.13062511384487152, 0.28418248891830444, 0.0], [0.00012928235810250044, 0.00023332223645411432, 0.00036295081372372806, 0.011107104830443859, 0.009445843286812305, 0.1135689988732338, 0.7113443613052368, 0.15380816161632538, 0.0], [3.6581841413863e-05, 3.775754521484487e-05, 1.1860143786179833e-05, 0.000415909948060289, 0.0004001575580332428, 0.010786803439259529, 0.9203729629516602, 0.06793802231550217, 0.0], [0.00040582945803180337, 0.002499717054888606, 0.0006950501701794565, 0.0005363185191527009, 0.0004920861683785915, 0.02107350528240204, 0.5903998613357544, 0.383897602558136, 0.0]]], [[[2.198546553699998e-06, 0.0001557814102852717, 0.9993057250976562, 0.0004529560683295131, 1.8055507098324597e-06, 8.649584742670413e-06, 4.849048451660565e-08, 7.292184454854578e-05, 0.0], [0.000286339083686471, 0.015536854043602943, 0.9036426544189453, 0.04704129695892334, 0.02224380522966385, 0.005845050327479839, 2.3379352569463663e-05, 0.005380585789680481, 0.0], [0.0005718792672269046, 0.0012865560129284859, 0.00929939839988947, 0.09321772307157516, 0.08262251317501068, 0.3004235625267029, 0.040642619132995605, 0.4719356894493103, 0.0], [0.0003565603110473603, 8.243834599852562e-05, 0.0011871422175318003, 3.71734713553451e-05, 0.016349544748663902, 0.6789891719818115, 0.02108093537390232, 0.2819169759750366, 0.0], [0.0015721656382083893, 0.0005368359852582216, 0.0044932374730706215, 1.923924901348073e-05, 0.00021005963208153844, 0.1644323468208313, 0.10728027671575546, 0.7214558124542236, 0.0], [0.0024313232861459255, 0.015657752752304077, 0.007405619136989117, 0.00010319556895410642, 3.0403600248973817e-05, 0.1368102878332138, 0.10146252065896988, 0.7360988855361938, 0.0], [0.000346485641784966, 0.007861579768359661, 0.0008327936520799994, 4.067030658916337e-06, 1.1970689229201525e-05, 0.016340870410203934, 0.009765902534127235, 0.9648362994194031, 0.0], [0.00020626701007131487, 0.0012334909988567233, 0.002402883255854249, 0.00046646010014228523, 0.005098176188766956, 0.030992962419986725, 0.0060766516253352165, 0.9535230994224548, 0.0]], [[1.1363184446413379e-20, 3.78922359982696e-37, 1.0789998175301091e-43, 5.465085534811199e-37, 2.2252577574524165e-39, 2.802596928649634e-45, 0.0, 1.0, 0.0], [1.0, 1.1362277221524386e-12, 5.7526140769286776e-27, 5.565310107414417e-30, 9.477094080842977e-24, 3.646076191345712e-15, 7.156027160341173e-18, 3.151142558287289e-17, 0.0], [5.1180941429418425e-11, 1.0, 2.6229642902109163e-09, 1.2085171882431017e-26, 1.1840360805225377e-32, 4.178818467271282e-27, 2.672709497618294e-16, 7.860531924968911e-17, 0.0], [1.2315716530130107e-28, 4.302532635724887e-11, 1.0, 4.0256509237224236e-08, 2.1301855077525535e-25, 1.7040284089925327e-34, 8.775620162221964e-31, 5.200987106061072e-17, 0.0], [6.176628046080136e-25, 8.234645036511332e-19, 1.3048131108917005e-07, 0.9999996423721313, 2.5519241830807005e-07, 1.4707973102243795e-19, 1.5474803962320686e-26, 1.5669091729415136e-13, 0.0], [7.282148565494309e-25, 5.424918252449156e-27, 3.349788736451101e-20, 6.851941236618586e-10, 0.9999994039535522, 6.501771849798388e-07, 1.1746195481643895e-17, 2.7701005551883373e-12, 0.0], [1.1129138183423732e-18, 1.4251673526401793e-24, 1.4404401698366093e-29, 6.820071533812992e-27, 1.1972087383960162e-11, 1.0, 2.066822490931486e-09, 4.5922091135167445e-14, 0.0], [7.0826417647440465e-12, 1.8350188176700227e-13, 1.4920819858874859e-24, 2.503336295994196e-32, 1.5519643974812903e-23, 1.525290893589215e-09, 1.0, 2.975661980274963e-13, 0.0]], [[5.404670461173211e-11, 1.4367012113325472e-07, 0.9999998807907104, 4.30730118239353e-08, 5.642068462210765e-16, 1.178277009960854e-18, 2.7977972586260003e-13, 1.813308678193999e-16, 0.0], [0.041235558688640594, 0.0014373447047546506, 0.03323647752404213, 0.7081244587898254, 0.13822698593139648, 0.0010381446918472648, 3.07760237774346e-05, 0.07667026668787003, 0.0], [0.05866041034460068, 0.024727020412683487, 0.012014842592179775, 0.013648449443280697, 0.659338653087616, 0.061107784509658813, 0.00011046182771679014, 0.17039239406585693, 0.0], [0.00036332698073238134, 0.002596708480268717, 0.0002688636595848948, 5.69868425372988e-05, 0.010537199676036835, 0.7518649697303772, 0.011233105324208736, 0.22307880222797394, 0.0], [0.003410171251744032, 0.002909198170527816, 0.0006732691545039415, 0.0002495491353329271, 0.00026314027491025627, 0.13988257944583893, 0.2162562757730484, 0.6363558173179626, 0.0], [0.00292275776155293, 0.001892710104584694, 0.0009037898271344602, 6.614213634748012e-05, 0.00019637620425783098, 0.012748956680297852, 0.014795615337789059, 0.9664736986160278, 0.0], [0.004104639869183302, 0.0018865062156692147, 0.0009722619433887303, 0.00024586240760982037, 9.691694867797196e-05, 0.0010907270479947329, 0.00015778260421939194, 0.9914453029632568, 0.0], [0.03744891658425331, 0.013630877248942852, 0.00337348785251379, 0.004143033642321825, 0.007261108607053757, 0.001584969344548881, 0.00032881926745176315, 0.9322288036346436, 0.0]], [[0.005324074067175388, 0.9893214702606201, 0.003571700071915984, 0.000282179971691221, 4.279776021576254e-06, 1.001117198029533e-05, 0.0003400716232135892, 0.0011460715904831886, 0.0], [8.118027471937239e-05, 0.0387376993894577, 0.9532591700553894, 0.0071536824107170105, 2.3010861696093343e-05, 7.882700714390012e-08, 3.6948611068510218e-06, 0.0007415027939714491, 0.0], [9.435413630853873e-06, 0.00011315463052596897, 0.02665131539106369, 0.9663771390914917, 0.005090953782200813, 6.710045909130713e-06, 5.972422201239169e-08, 0.0017512041376903653, 0.0], [8.554493433621246e-06, 1.0512051176192472e-06, 6.229562359294505e-07, 0.01203734427690506, 0.9639054536819458, 0.020959192886948586, 2.2547494609170826e-06, 0.0030854842625558376, 0.0], [9.120120375882834e-05, 0.00010766509512905031, 8.142197657434735e-06, 1.1148928933835123e-05, 0.008616293780505657, 0.908407986164093, 0.053366679698228836, 0.02939087711274624, 0.0], [2.7675650926539674e-05, 0.00025326089235022664, 1.1950067346333526e-05, 2.1153626050818275e-07, 2.5579223802196793e-05, 0.05012321472167969, 0.8440537452697754, 0.1055043563246727, 0.0], [3.035387180716498e-06, 0.000445127283455804, 0.00017975688388105482, 1.252420815944788e-06, 3.6554304188030073e-06, 1.5221405192278326e-05, 0.008951088413596153, 0.9904008507728577, 0.0], [6.046533599146642e-06, 0.0003579092735890299, 0.0033576320856809616, 0.002318119863048196, 4.084757165401243e-05, 1.109872414417623e-06, 4.493678716244176e-05, 0.9938734769821167, 0.0]], [[0.07913651317358017, 0.18200042843818665, 0.7115164995193481, 0.007847496308386326, 0.00011883587285410613, 0.00046119745820760727, 0.010912660509347916, 0.008006365969777107, 0.0], [0.0007238719845190644, 0.002549361437559128, 0.9551526308059692, 0.03989819809794426, 0.00012154912838013843, 1.535996671009343e-05, 0.00043465240742079914, 0.001104345778003335, 0.0], [0.0020186398178339005, 0.035375870764255524, 0.013032052665948868, 0.20768174529075623, 0.7127089500427246, 7.66617595218122e-05, 0.00014460398233495653, 0.028961550444364548, 0.0], [0.00016755542310420424, 9.030471119331196e-06, 0.000168259022757411, 0.015796035528182983, 0.8277527093887329, 0.0030801689717918634, 0.0164002925157547, 0.13662593066692352, 0.0], [0.0003627908881753683, 7.82975839683786e-05, 0.00036576707498170435, 0.0061694420874118805, 0.6213740110397339, 0.10038084536790848, 0.13769610226154327, 0.1335727721452713, 0.0], [0.0023959411773830652, 0.0004932906595058739, 9.926041821017861e-05, 0.0020922606345266104, 0.28547629714012146, 0.06802491098642349, 0.2401982694864273, 0.40121978521347046, 0.0], [0.0005555907846428454, 0.000748327118344605, 0.0020653423853218555, 0.000649237132165581, 0.013897872529923916, 0.005321401637047529, 0.2579456567764282, 0.7188165783882141, 0.0], [0.0018396517261862755, 0.01063894759863615, 0.007704947143793106, 0.0024620594922453165, 0.04020877182483673, 0.01652197726070881, 0.09613672643899918, 0.8244869709014893, 0.0]], [[0.030241696164011955, 0.7127370238304138, 0.003030825173482299, 0.1825309693813324, 0.02410528063774109, 4.706215622718446e-05, 4.266008181730285e-05, 0.047264404594898224, 0.0], [0.1623430699110031, 0.38117915391921997, 0.02127458155155182, 0.07272728532552719, 0.04440275952219963, 0.008889867924153805, 0.008865203708410263, 0.3003181219100952, 0.0], [0.005956081207841635, 0.009862354025244713, 0.13318659365177155, 0.03004634939134121, 0.5020563006401062, 0.0989997535943985, 0.03278905898332596, 0.18710342049598694, 0.0], [0.0059837899170815945, 0.9467135071754456, 0.0010754296090453863, 0.0036516652908176184, 0.003509112633764744, 0.0011400560615584254, 0.001224164734594524, 0.036702193319797516, 0.0], [0.03536941856145859, 0.1066044270992279, 0.19215795397758484, 0.02038155309855938, 0.039533115923404694, 0.3124222457408905, 0.010212155990302563, 0.2833192050457001, 0.0], [0.0029474617913365364, 0.005130082368850708, 0.2094460129737854, 0.02344461902976036, 0.014664312824606895, 0.5604850053787231, 0.042431753128767014, 0.1414506584405899, 0.0], [0.003908672835677862, 0.024184120818972588, 0.025620410218834877, 0.042927395552396774, 0.29310697317123413, 0.30192986130714417, 0.13413389027118683, 0.17418864369392395, 0.0], [0.00408909423276782, 0.006554063409566879, 0.01009261142462492, 0.012594204396009445, 0.04982056841254234, 0.5597888827323914, 0.18526287376880646, 0.17179764807224274, 0.0]], [[9.433616246244802e-27, 1.3211263101192711e-22, 1.0, 2.2638507279730546e-13, 1.8435724591799247e-31, 8.614481045622544e-33, 2.767171963132783e-23, 2.937769780039953e-25, 0.0], [1.6061015364887687e-12, 3.6866318916910223e-13, 1.6870715935368708e-09, 1.0, 4.938484288175005e-09, 6.609623186776774e-23, 1.130041561540398e-28, 3.745573406185861e-17, 0.0], [1.7142021135896357e-08, 1.0404629241511643e-10, 3.228282441716801e-13, 2.235772080894094e-05, 0.9999769926071167, 6.116595727689855e-07, 3.032374849243098e-19, 4.3205890254416346e-12, 0.0], [6.28160229994984e-13, 1.2629628855860726e-14, 1.2801500151128648e-19, 2.207062889392616e-19, 1.0961847607404707e-07, 0.9999661445617676, 3.378210385562852e-05, 3.277324939210402e-11, 0.0], [1.9174264953569775e-10, 1.3107749607943475e-10, 9.447479385989773e-15, 3.661627103213069e-20, 8.153811047845964e-15, 1.079567755368771e-05, 0.9996390342712402, 0.00035006547113880515, 0.0], [7.08105751812127e-09, 6.273328523320743e-08, 1.057599979814583e-10, 8.688450796218643e-19, 6.94780791238083e-20, 1.2720795011973707e-13, 4.0080845792545006e-05, 0.9999598264694214, 0.0], [3.034633209608728e-06, 1.2906405117973918e-06, 4.991120294839391e-10, 3.770118576053652e-14, 1.683622610028148e-19, 2.2283103482074903e-20, 5.622551764314842e-18, 0.9999957084655762, 0.0], [0.6388672590255737, 0.05297872796654701, 1.0867874152609147e-05, 8.633792276668828e-06, 6.1893490332920464e-09, 7.086131594696843e-12, 8.182492456942721e-17, 0.3081344962120056, 0.0]], [[0.8458365797996521, 0.011065257713198662, 0.004050227347761393, 0.005993987899273634, 0.0010388015070930123, 0.0008240656461566687, 0.003016981529071927, 0.12817412614822388, 0.0], [0.08667019009590149, 0.6693417429924011, 0.04151574522256851, 0.015266845934092999, 0.0014053693739697337, 0.00880101602524519, 0.0032967037986963987, 0.17370231449604034, 0.0], [0.02283669263124466, 0.8162437677383423, 0.05917692929506302, 0.0007659316179342568, 0.000785606331191957, 0.0002929088950622827, 0.022725911810994148, 0.07717221975326538, 0.0], [0.00029267813079059124, 0.3019638657569885, 0.23735001683235168, 0.030578501522541046, 0.12079434096813202, 5.387349665397778e-05, 0.00996658019721508, 0.29900020360946655, 0.0], [0.0007309620268642902, 0.016365572810173035, 0.1073123887181282, 0.7875643968582153, 0.02736865170300007, 0.008963244035840034, 0.0022583426907658577, 0.04943655803799629, 0.0], [0.0007737294654361904, 0.0014170052018016577, 0.013729611411690712, 0.5123659372329712, 0.036801040172576904, 0.2831575572490692, 0.007552944589406252, 0.14420214295387268, 0.0], [0.0019740022253245115, 0.0009468783973716199, 0.00043663056567311287, 0.0033716955222189426, 0.02883579209446907, 0.8764742612838745, 0.042484886944293976, 0.04547584056854248, 0.0], [0.0030217349994927645, 0.0046564810909330845, 0.00036701865610666573, 0.000277985556749627, 0.005222506821155548, 0.05044921487569809, 0.907507598400116, 0.02849746122956276, 0.0]]], [[[2.0323857370385667e-06, 2.8496246159193106e-05, 0.006367678288370371, 0.9896267652511597, 0.002940364880487323, 3.849954737233929e-06, 3.890916673299216e-07, 0.0010304262395948172, 0.0], [0.005808163434267044, 0.001929816440679133, 0.0010381662286818027, 0.03264019265770912, 0.9171988368034363, 0.02541988529264927, 5.759323903475888e-05, 0.015907227993011475, 0.0], [0.0006730430759489536, 0.0008753443253226578, 0.00029731192626059055, 0.0011234928388148546, 0.0019785594195127487, 0.6768373250961304, 0.04898658022284508, 0.26922836899757385, 0.0], [0.0004032964934594929, 3.188801656506257e-06, 0.0001440681517124176, 7.036383613012731e-05, 2.0502935512922704e-05, 0.010280276648700237, 0.6140223145484924, 0.37505608797073364, 0.0], [0.0005592556553892791, 1.1869446097989567e-05, 8.3002314568148e-06, 1.0972733434755355e-05, 0.0001238094555446878, 0.0001354682317469269, 0.04768320545554161, 0.9514670968055725, 0.0], [0.00022959803754929453, 6.836581451352686e-05, 0.0019380735466256738, 0.0006327654118649662, 4.443644866114482e-05, 0.0005031385226175189, 0.00539135467261076, 0.9911922812461853, 0.0], [0.0009630161803215742, 0.0004293151432648301, 0.0005788553971797228, 9.761498949956149e-05, 5.813631560158683e-06, 0.0001011048152577132, 0.0010430169058963656, 0.9967812299728394, 0.0], [0.0008446877473033965, 0.0016332130180671811, 0.0006799818947911263, 4.2851064790738747e-05, 0.00011038800585083663, 0.007253672927618027, 0.0009430301724933088, 0.9884922504425049, 0.0]], [[0.00011747934331651777, 0.014496293850243092, 0.9133173823356628, 0.05366542190313339, 0.00019380764570087194, 1.3219867469160818e-05, 0.0005248910747468472, 0.017671700567007065, 0.0], [0.0006620550411753356, 0.00011226896458538249, 0.004131819121539593, 0.9939557909965515, 0.00027032356592826545, 1.2366951523290481e-05, 8.000863999768626e-06, 0.0008474194910377264, 0.0], [0.0002952456707134843, 0.002518939785659313, 0.02603134885430336, 0.16227111220359802, 0.18477201461791992, 0.29195764660835266, 0.0040218583308160305, 0.3281318247318268, 0.0], [9.758941450854763e-05, 1.4931863006495405e-05, 0.0018365980358794332, 0.0013441042974591255, 0.020664473995566368, 0.3034959137439728, 0.05203733965754509, 0.6205090284347534, 0.0], [2.4212838980020024e-05, 4.198443639324978e-05, 0.0003548100357875228, 0.00012721598614007235, 0.0009089683298952878, 0.360532283782959, 0.3572152256965637, 0.28079527616500854, 0.0], [4.520405491348356e-05, 2.6771993361762725e-05, 0.0004702547157648951, 0.0001476950419601053, 0.0009782842826098204, 0.0965924859046936, 0.14185307919979095, 0.7598862648010254, 0.0], [4.375493881525472e-05, 0.00015276053454726934, 0.001530700596049428, 0.00026901077944785357, 0.00035483422107063234, 0.0003513636183924973, 0.006920139770954847, 0.9903774857521057, 0.0], [0.002394184935837984, 0.00034974110894836485, 0.0005002541001886129, 0.014741777442395687, 0.017026808112859726, 0.006851027719676495, 0.0005594472168013453, 0.9575767517089844, 0.0]], [[0.011423279531300068, 0.0002627447829581797, 0.006054676603525877, 0.9356169700622559, 0.018592853099107742, 0.022258006036281586, 2.3726002837065607e-05, 0.00576761644333601, 0.0], [0.010732139460742474, 0.00040124767110683024, 0.014573565684258938, 0.00585355656221509, 0.010277804918587208, 0.883339524269104, 0.043272435665130615, 0.03154986724257469, 0.0], [0.4670691192150116, 0.007364282384514809, 0.01965726912021637, 0.0011259918101131916, 0.0011211966630071402, 0.10511135309934616, 0.06094653531908989, 0.337604284286499, 0.0], [0.0005914297071285546, 0.003893786109983921, 0.007902532815933228, 0.013646177016198635, 0.00044725954649038613, 0.0023175524547696114, 0.03865205496549606, 0.9325491786003113, 0.0], [0.0019567215349525213, 0.0012783012352883816, 0.0006991669069975615, 0.0001541258825454861, 8.530842023901641e-05, 0.005415474530309439, 0.00661502918228507, 0.9837958812713623, 0.0], [0.00014159495185595006, 0.00626707449555397, 0.0006154911825433373, 1.0028369615611155e-05, 0.00010410381219116971, 0.008061453700065613, 0.012282688170671463, 0.9725176095962524, 0.0], [0.0004747029161080718, 0.004999886266887188, 0.004240009002387524, 0.0002736191963776946, 0.0005731041892431676, 0.0046182419173419476, 0.02412233129143715, 0.9606980681419373, 0.0], [0.002125260652974248, 0.007901309989392757, 0.07062464207410812, 0.00037303808494471014, 0.0037213307805359364, 0.10238371044397354, 0.010609129443764687, 0.8022616505622864, 0.0]], [[0.07443553954362869, 0.3873360753059387, 0.019676964730024338, 0.01671021804213524, 0.20828808844089508, 0.00024018072872422636, 0.18200670182704926, 0.11130620539188385, 0.0], [0.00021202854986768216, 0.803007960319519, 0.051204863935709, 0.00043811186333186924, 0.06867001205682755, 0.0017025797860696912, 0.007608452811837196, 0.06715589016675949, 0.0], [0.011376791633665562, 0.6824490427970886, 0.20543642342090607, 0.013001826591789722, 0.007190507370978594, 0.0023857925552874804, 0.008913877420127392, 0.06924563646316528, 0.0], [0.006016633938997984, 0.033087924122810364, 0.8101661801338196, 0.047595538198947906, 0.003069973085075617, 0.005126642528921366, 0.005029723513871431, 0.08990731090307236, 0.0], [0.0009992888662964106, 0.11828674376010895, 0.09254169464111328, 0.03345411270856857, 0.2503153681755066, 0.04396925866603851, 0.013239698484539986, 0.44719380140304565, 0.0], [0.006730559282004833, 0.019253429025411606, 0.007082509808242321, 0.0034237809013575315, 0.3603169322013855, 0.14044518768787384, 0.11056386679410934, 0.35218366980552673, 0.0], [0.001932725659571588, 0.00401858426630497, 0.00764235807582736, 0.0017317836172878742, 0.19616521894931793, 0.45303186774253845, 0.06356234103441238, 0.27191513776779175, 0.0], [0.0004942635423503816, 0.001290152664296329, 0.00027921912260353565, 0.01193612813949585, 0.0050151473842561245, 0.9430933594703674, 0.007778724655508995, 0.030113104730844498, 0.0]], [[0.007838593795895576, 0.012748491019010544, 0.0012045884504914284, 0.0733615905046463, 0.7748413681983948, 0.03777008131146431, 0.022295381873846054, 0.06993992626667023, 0.0], [0.044793374836444855, 0.09512245655059814, 0.09286820888519287, 0.14890147745609283, 0.019606543704867363, 0.08791890740394592, 0.22996965050697327, 0.2808193266391754, 0.0], [0.008689944632351398, 0.09070217609405518, 0.10229168832302094, 0.05085163190960884, 0.017715446650981903, 0.01583779603242874, 0.20065321028232574, 0.513258159160614, 0.0], [0.0245809406042099, 0.09793750196695328, 0.0217093825340271, 0.32636669278144836, 0.009297451935708523, 0.013938971795141697, 0.0173441581428051, 0.4888249635696411, 0.0], [0.09695497900247574, 0.012085596099495888, 0.005598457995802164, 0.25809940695762634, 0.1441739946603775, 0.0487944521009922, 0.07152476906776428, 0.36276835203170776, 0.0], [0.0009994328720495105, 0.0015695838956162333, 0.0017599238781258464, 0.06466025114059448, 0.022455373778939247, 0.07846131175756454, 0.05482163280248642, 0.7752724885940552, 0.0], [0.0011631351662799716, 0.0014314708532765508, 0.003082993673160672, 0.015958182513713837, 0.00274115358479321, 0.034831732511520386, 0.02320416085422039, 0.9175872206687927, 0.0], [0.0020506861619651318, 0.023989450186491013, 0.041761308908462524, 0.002803155919536948, 0.005892367102205753, 0.1200854629278183, 0.19802065193653107, 0.6053968667984009, 0.0]], [[0.14430809020996094, 0.13790415227413177, 0.2122969627380371, 0.4419301748275757, 0.0045307232066988945, 0.011677948758006096, 0.00027586345095187426, 0.0470760278403759, 0.0], [0.06711935997009277, 0.1114119365811348, 0.2664525508880615, 0.16534070670604706, 0.007552450057119131, 0.055337969213724136, 0.02210664376616478, 0.304678350687027, 0.0], [0.00015217794862110168, 0.008696082979440689, 0.08750880509614944, 0.5824168920516968, 0.11445536464452744, 0.00848470814526081, 0.0016038503963500261, 0.19668211042881012, 0.0], [0.008801238611340523, 0.001874048262834549, 0.007951807230710983, 0.3282667100429535, 0.14080892503261566, 0.007796484045684338, 0.0034799666609615088, 0.5010208487510681, 0.0], [0.0012345992727205157, 0.0009821339044719934, 0.05342288687825203, 0.027498722076416016, 0.02945554070174694, 0.06186212599277496, 0.0317278653383255, 0.7938161492347717, 0.0], [0.0018295617774128914, 0.008935176767408848, 0.01052806992083788, 0.0014105860609561205, 0.17607800662517548, 0.424378365278244, 0.024166040122509003, 0.3526741862297058, 0.0], [0.006010671146214008, 0.03654509410262108, 0.019101230427622795, 0.0005240535829216242, 0.052588511258363724, 0.05577889829874039, 0.08019945025444031, 0.7492520809173584, 0.0], [0.0002272245765198022, 0.005622636526823044, 0.0032812959980219603, 0.00016698356193955988, 0.06520337611436844, 0.01284510176628828, 0.6371167302131653, 0.27553656697273254, 0.0]], [[0.0034034771379083395, 0.07197874039411545, 0.0072906771674752235, 0.5989660024642944, 0.22414624691009521, 0.004103498067706823, 0.008199895732104778, 0.08191142231225967, 0.0], [0.015123465098440647, 0.11761016398668289, 0.05627267062664032, 0.037838421761989594, 0.5049026608467102, 0.014040450565516949, 0.13776281476020813, 0.11644937098026276, 0.0], [0.004544953815639019, 0.10616951435804367, 0.8311175107955933, 0.0035502153914421797, 0.0011039678938686848, 0.023041455075144768, 0.00018709454161580652, 0.030285250395536423, 0.0], [0.0006569360266439617, 0.02082185447216034, 0.6971856355667114, 0.18249057233333588, 0.0011296378215774894, 0.04908793047070503, 0.002096449490636587, 0.04653097316622734, 0.0], [0.00032500349334441125, 0.00026577210519462824, 0.23168344795703888, 0.45831048488616943, 0.006938080303370953, 0.07723287492990494, 0.005980808287858963, 0.21926353871822357, 0.0], [0.00034684306592680514, 0.024620825424790382, 0.0011141435243189335, 0.0048552812077105045, 0.01417325995862484, 0.04685365781188011, 0.09667909890413284, 0.8113568425178528, 0.0], [6.439710705308244e-05, 0.00037110038101673126, 0.001202041283249855, 0.006757598835974932, 0.008389264345169067, 0.36393290758132935, 0.32012584805488586, 0.2991568446159363, 0.0], [0.0022850707173347473, 0.00048765004612505436, 0.000921019702218473, 6.118592864368111e-05, 0.11667950451374054, 0.33676275610923767, 0.3720707893371582, 0.17073212563991547, 0.0]], [[1.0, 5.167519190329983e-12, 2.360301458289303e-19, 1.7812198733574324e-20, 2.015337232830921e-15, 4.880497395109984e-11, 2.2653655616959242e-14, 2.463003231206667e-17, 0.0], [4.0501633158385175e-09, 1.0, 8.347150748377885e-10, 5.7495471493988835e-18, 7.265704096550763e-16, 4.793273008138074e-18, 9.44897545793286e-16, 1.0597561890535179e-11, 0.0], [7.092779488737655e-12, 1.8322666051062697e-07, 0.9929296374320984, 0.007070181425660849, 1.1447831614955217e-12, 1.636899640898408e-14, 1.2469416861991871e-18, 7.260949111929926e-13, 0.0], [2.17372543241544e-17, 3.1760614983175406e-18, 1.1678610552581792e-12, 1.0, 3.5477060200163335e-13, 7.6940514667401185e-22, 3.385100089273354e-22, 7.161809876605955e-20, 0.0], [2.474782738078759e-19, 1.172520039692638e-18, 1.161098174698141e-19, 6.68431442466498e-14, 1.0, 5.8332626448891374e-15, 1.3441442615916616e-22, 1.8642259937987083e-20, 0.0], [1.7865859798482078e-16, 1.963340315418703e-17, 3.496192864296116e-15, 7.074951052601788e-18, 9.310124692669605e-14, 1.0, 2.4906931985618774e-12, 6.808704939914242e-14, 0.0], [7.258015369271398e-12, 5.030739280015295e-13, 1.5937243598736065e-15, 1.7279145169270087e-14, 1.1372441616891438e-12, 3.5412017762581627e-09, 0.9999786615371704, 2.13574730878463e-05, 0.0], [6.220595734482068e-14, 1.4392281947908405e-18, 1.1351845396415365e-17, 9.27738526521632e-24, 4.341697056751361e-22, 5.8726273238538236e-21, 4.4843898194812937e-07, 0.9999995231628418, 0.0]]], [[[0.4510110914707184, 0.2915627658367157, 0.07483506947755814, 0.014876510947942734, 0.02605193480849266, 0.016588183119893074, 0.001282591954804957, 0.12379175424575806, 0.0], [0.10806117951869965, 0.19468529522418976, 0.20558710396289825, 0.16525140404701233, 0.002321709180250764, 0.007844079285860062, 0.005696116480976343, 0.3105531334877014, 0.0], [0.3538966476917267, 0.0872587263584137, 0.05689086392521858, 0.06654951721429825, 0.040931928902864456, 0.0142580671235919, 0.002674124436452985, 0.37754005193710327, 0.0], [0.0024087545461952686, 0.0004986737621948123, 0.8990319967269897, 0.031190484762191772, 0.0002624480111990124, 0.009978003799915314, 0.02258113957941532, 0.03404852747917175, 0.0], [0.0035854403395205736, 0.020064914599061012, 0.0010864840587601066, 0.014184788800776005, 0.8632736802101135, 0.00010257905523758382, 0.0003159407351631671, 0.09738609939813614, 0.0], [0.0016091077122837305, 0.002401946345344186, 0.007171433884650469, 0.001456035883165896, 0.3002031445503235, 0.05482477694749832, 0.035977933555841446, 0.5963556170463562, 0.0], [0.005879444535821676, 0.0005920092226006091, 0.0020446134731173515, 0.0691922977566719, 0.3262634575366974, 0.011852883733808994, 0.313382089138031, 0.27079322934150696, 0.0], [0.0002702518831938505, 0.00025830738013610244, 0.0021094230469316244, 0.0035204575397074223, 0.0027430818881839514, 0.0031896948348730803, 0.012239565141499043, 0.975669264793396, 0.0]], [[0.722902774810791, 0.11120568960905075, 0.02578669600188732, 0.12228251993656158, 0.0001828582026064396, 0.008698691613972187, 0.0017558790277689695, 0.0071848612278699875, 0.0], [0.0008529348415322602, 0.7390732169151306, 0.24762935936450958, 0.0021827833261340857, 0.00013322372979018837, 7.210002513602376e-05, 7.631471089553088e-05, 0.009980147704482079, 0.0], [0.006870057433843613, 0.2039606273174286, 0.6524143218994141, 0.009436537511646748, 0.023643774911761284, 0.02339850552380085, 0.004053670447319746, 0.07622256875038147, 0.0], [0.011630892753601074, 8.315454033436254e-05, 0.007573171518743038, 0.19969092309474945, 0.08659934252500534, 0.11264071613550186, 0.10338016599416733, 0.47840163111686707, 0.0], [0.0008493654895573854, 0.00019081539358012378, 0.0006235711043700576, 0.6255812048912048, 0.24670471251010895, 0.009189091622829437, 0.009494737721979618, 0.10736648738384247, 0.0], [0.003358149668201804, 9.850256174104288e-05, 0.0014034280320629478, 0.06431379914283752, 0.007223387714475393, 0.18592174351215363, 0.3229738175868988, 0.4147071838378906, 0.0], [0.00011635853297775611, 1.630885890335776e-05, 0.0008976878598332405, 0.0030684471130371094, 0.0007296536350622773, 0.06262534111738205, 0.7276089787483215, 0.20493727922439575, 0.0], [0.00025709308101795614, 0.0004874967271462083, 0.013506445102393627, 0.018676089122891426, 0.006878367159515619, 0.020538462325930595, 0.162753626704216, 0.776902437210083, 0.0]], [[0.039041899144649506, 0.012947877869009972, 0.006162544712424278, 0.0027143980842083693, 0.016866281628608704, 0.04100394621491432, 0.03139448165893555, 0.8498685359954834, 0.0], [0.15577206015586853, 0.002736731432378292, 0.04665595665574074, 0.00587324658408761, 0.09931527078151703, 0.004983530379831791, 0.015251060016453266, 0.6694121360778809, 0.0], [0.7076337933540344, 0.012772927060723305, 0.02006346918642521, 0.034806862473487854, 0.003661802038550377, 0.002536485204473138, 0.002891184762120247, 0.21563346683979034, 0.0], [0.001792876748368144, 0.6992217302322388, 0.02913210541009903, 0.004453522618860006, 0.022000765427947044, 0.008538336493074894, 0.0004201231640763581, 0.23444056510925293, 0.0], [0.0006684320978820324, 0.05574234947562218, 0.8616493344306946, 0.003382008755579591, 0.008604327216744423, 0.0015258961357176304, 0.0007998582441359758, 0.06762769818305969, 0.0], [0.0028576639015227556, 0.023663854226469994, 0.022884050384163857, 0.7407347559928894, 0.023998098447918892, 0.003857995383441448, 0.013975691981613636, 0.16802778840065002, 0.0], [7.760449079796672e-05, 0.008101189509034157, 0.0012959097512066364, 0.014059321954846382, 0.950369656085968, 0.01438195165246725, 0.0050249407067894936, 0.006689348258078098, 0.0], [0.0047571719624102116, 0.0018143737688660622, 0.03458594158291817, 0.0007112077437341213, 0.0024422239512205124, 0.002921421080827713, 0.0023285245988518, 0.9504390954971313, 0.0]], [[0.00042304969974793494, 0.00384338921867311, 0.01762453094124794, 0.0331546813249588, 0.7841964960098267, 0.10885310918092728, 0.00297791650518775, 0.04892686381936073, 0.0], [0.005883477162569761, 0.1278458833694458, 0.00804223958402872, 0.011885673739016056, 0.1135982871055603, 0.5180717706680298, 0.042302973568439484, 0.17236967384815216, 0.0], [0.19945484399795532, 0.048513974994421005, 0.29273349046707153, 0.011023025028407574, 0.004561110865324736, 0.0361722968518734, 0.06825839728116989, 0.3392828702926636, 0.0], [0.215630441904068, 0.2916865944862366, 0.0050825742073357105, 0.0008039872045628726, 0.08063991367816925, 0.010168629698455334, 0.028753597289323807, 0.3672342002391815, 0.0], [0.002181342337280512, 0.27278512716293335, 0.07988296449184418, 0.0006789144827052951, 0.021648941561579704, 0.004363643936812878, 0.02536650374531746, 0.5930926203727722, 0.0], [0.008955433964729309, 0.00586097314953804, 0.4596756398677826, 0.03329633176326752, 0.030764030292630196, 0.020290862768888474, 0.01452488824725151, 0.4266318082809448, 0.0], [0.0008958421531133354, 0.018801642581820488, 0.14298860728740692, 0.01342530082911253, 0.040632668882608414, 0.5142034888267517, 0.01383241731673479, 0.255219966173172, 0.0], [0.0013997649075463414, 0.000614518707152456, 0.0020189897622913122, 0.005465960595756769, 0.01739710196852684, 0.07990340888500214, 0.025430813431739807, 0.8677694201469421, 0.0]], [[0.0008351888973265886, 0.0038545315619558096, 0.02024202048778534, 0.9629789590835571, 0.0001418962056050077, 0.00025965095846913755, 0.008973113261163235, 0.0027146218344569206, 0.0], [0.00801979098469019, 0.16401039063930511, 0.01824451982975006, 0.5961588025093079, 0.01166410930454731, 0.008701619692146778, 0.12341415137052536, 0.06978656351566315, 0.0], [0.07706400752067566, 0.01004405040293932, 0.029425950720906258, 0.11028938740491867, 0.017299452796578407, 0.10279922187328339, 0.31238630414009094, 0.34069162607192993, 0.0], [0.012044806964695454, 0.0025536573957651854, 0.005584460683166981, 0.06127459928393364, 0.0032025121618062258, 0.02134624496102333, 0.6602845788002014, 0.2337091565132141, 0.0], [0.0007324402104131877, 0.012087349779903889, 0.030819982290267944, 0.024188343435525894, 0.008281581103801727, 0.0080707473680377, 0.3500208258628845, 0.5657987594604492, 0.0], [0.0008864655392244458, 0.00460461899638176, 0.013736833818256855, 0.011095941066741943, 0.005073321517556906, 0.5575549602508545, 0.017852453514933586, 0.38919544219970703, 0.0], [0.001044103060849011, 0.000968857784755528, 0.00987892784178257, 0.008978848345577717, 0.05795855075120926, 0.07210155576467514, 0.044489722698926926, 0.8045794367790222, 0.0], [0.00012084604531992227, 0.01520457211881876, 0.001891224761493504, 0.005964869633316994, 0.007951157167553902, 0.010045325383543968, 0.07917612046003342, 0.8796459436416626, 0.0]], [[0.4873424470424652, 0.22371599078178406, 0.07179843634366989, 0.10374800860881805, 0.034536682069301605, 0.018484506756067276, 0.0006783850840292871, 0.05969548225402832, 0.0], [0.7372004985809326, 0.03210750222206116, 0.04311954230070114, 0.01157967746257782, 0.09814820438623428, 0.010717613622546196, 9.706168930279091e-05, 0.06703004986047745, 0.0], [0.001023329677991569, 0.006112437695264816, 0.11124157160520554, 0.6910603046417236, 0.06059291213750839, 0.02433241531252861, 0.010065829381346703, 0.09557116776704788, 0.0], [0.013150738552212715, 0.006609003525227308, 0.7570560574531555, 0.018334059044718742, 0.040621593594551086, 0.04647527635097504, 0.0014799913624301553, 0.11627333611249924, 0.0], [0.0001015739471768029, 0.007713687606155872, 0.009330451488494873, 0.007015536539256573, 0.7454932332038879, 0.03407139331102371, 0.006983681581914425, 0.18929047882556915, 0.0], [0.0003361599228810519, 0.0034821133594959974, 0.007638588082045317, 0.06283622235059738, 0.2508779466152191, 0.08754927664995193, 0.1213848665356636, 0.4658947288990021, 0.0], [0.00029417002224363387, 0.0002537771943025291, 0.0009827284375205636, 0.0006021230365149677, 0.03444140776991844, 0.5853816866874695, 0.02579333819448948, 0.3522507846355438, 0.0], [0.0008864214760251343, 0.0006810447084717453, 0.0024388101883232594, 0.002350208116695285, 0.010758857242763042, 0.01110251434147358, 0.0009277771459892392, 0.9708544015884399, 0.0]], [[0.9965013265609741, 0.0013442372437566519, 6.717491487506777e-05, 0.00031649452284909785, 0.00010127026325790212, 0.0004436186281964183, 0.0001962390961125493, 0.0010297801345586777, 0.0], [0.0652531087398529, 0.7855706810951233, 0.013946892693638802, 0.003135038772597909, 0.021687589585781097, 0.014804317615926266, 0.008245588280260563, 0.08735682815313339, 0.0], [6.496192509075627e-05, 0.015196063555777073, 0.8611443042755127, 0.005571841727942228, 0.0011439034715294838, 0.0028603249229490757, 0.022370923310518265, 0.09164776653051376, 0.0], [0.005336227361112833, 0.05329834669828415, 0.18486569821834564, 0.0901792049407959, 0.08674512058496475, 0.03735481575131416, 0.020303333178162575, 0.5219172835350037, 0.0], [2.0176157704554498e-05, 0.00034328902256675065, 0.0017771960701793432, 0.0003847818588837981, 0.8733987212181091, 0.07307223975658417, 0.008167924359440804, 0.04283571615815163, 0.0], [0.0007858852040953934, 0.0018858467228710651, 0.000552742974832654, 0.0012624087976291776, 0.0019161025993525982, 0.47435668110847473, 0.4445772171020508, 0.07466315478086472, 0.0], [0.0016874833963811398, 1.6500238416483626e-05, 0.00010515096073504537, 0.00018180866027250886, 0.0003554813447408378, 0.013478891924023628, 0.9251829385757446, 0.058991674333810806, 0.0], [0.0002329567214474082, 7.513909804401919e-05, 0.0006025278125889599, 0.0011196205159649253, 0.004745750222355127, 0.007099096663296223, 0.041839420795440674, 0.9442854523658752, 0.0]], [[0.0031442204490303993, 0.8115465044975281, 0.06484150141477585, 0.03605526685714722, 0.0535687617957592, 0.008435758762061596, 0.0008087819442152977, 0.021599268540740013, 0.0], [3.341469346196391e-05, 0.0015353253111243248, 0.9780374765396118, 0.004023770801723003, 0.004419622477144003, 0.0042732711881399155, 0.0005627030041068792, 0.007114427164196968, 0.0], [0.0007966503617353737, 0.006699569523334503, 0.030574165284633636, 0.1675325334072113, 0.07273711264133453, 0.07277245074510574, 0.007290434092283249, 0.6415970921516418, 0.0], [4.677567631006241e-05, 0.00624949811026454, 0.006991720758378506, 0.006932899355888367, 0.796072781085968, 0.01562947779893875, 0.0003812369250226766, 0.1676957607269287, 0.0], [4.719823118648492e-05, 0.00035542913246899843, 0.0030223955400288105, 0.0005616250564344227, 0.03217248246073723, 0.6482805013656616, 0.00494221830740571, 0.3106182813644409, 0.0], [0.0009582903003320098, 0.0035853267181664705, 0.0013404249912127852, 0.00019740597053896636, 0.009728837758302689, 0.12115952372550964, 0.015102925710380077, 0.8479272723197937, 0.0], [3.284365084255114e-05, 0.0037735349033027887, 0.0001950114092323929, 0.00018680878565646708, 0.0255536250770092, 0.18774837255477905, 0.03494850546121597, 0.7475612759590149, 0.0], [2.4003591079235775e-06, 1.8810642359312624e-05, 0.00015358548262156546, 0.0001806320360628888, 0.005634554196149111, 0.0034511368721723557, 0.0003718264924827963, 0.9901870489120483, 0.0]]]], \"left_text\": [\"Q\", \"Y\", \"S\", \"V\", \"L\", \"I\", \"F\", \"<eos>\"], \"right_text\": [\"E\", \"Q\", \"V\", \"T\", \"N\", \"V\", \"G\", \"<eos>\", \"<pad>\"]}], \"default_filter\": \"0\", \"root_div_id\": \"bertviz-c743078893e94f6fbe3acebda3f93a47\", \"layer\": null, \"heads\": null, \"include_layers\": [0, 1, 2, 3]} is a template marker that is replaced by actual params.\n    const TEXT_SIZE = 15;\n    const BOXWIDTH = 110;\n    const BOXHEIGHT = 22.5;\n    const MATRIX_WIDTH = 115;\n    const CHECKBOX_SIZE = 20;\n    const TEXT_TOP = 30;\n\n    console.log(\"d3 version\", d3.version)\n    let headColors;\n    try {\n        headColors = d3.scaleOrdinal(d3.schemeCategory10);\n    } catch (err) {\n        console.log('Older d3 version')\n        headColors = d3.scale.category10();\n    }\n    let config = {};\n    initialize();\n    renderVis();\n\n    function initialize() {\n        config.attention = params['attention'];\n        config.filter = params['default_filter'];\n        config.rootDivId = params['root_div_id'];\n        config.nLayers = config.attention[config.filter]['attn'].length;\n        config.nHeads = config.attention[config.filter]['attn'][0].length;\n        config.layers = params['include_layers']\n\n        if (params['heads']) {\n            config.headVis = new Array(config.nHeads).fill(false);\n            params['heads'].forEach(x => config.headVis[x] = true);\n        } else {\n            config.headVis = new Array(config.nHeads).fill(true);\n        }\n        config.initialTextLength = config.attention[config.filter].right_text.length;\n        config.layer_seq = (params['layer'] == null ? 0 : config.layers.findIndex(layer => params['layer'] === layer));\n        config.layer = config.layers[config.layer_seq]\n\n        let layerEl = $(`#${config.rootDivId} #layer`);\n        for (const layer of config.layers) {\n            layerEl.append($(\"<option />\").val(layer).text(layer));\n        }\n        layerEl.val(config.layer).change();\n        layerEl.on('change', function (e) {\n            config.layer = +e.currentTarget.value;\n            config.layer_seq = config.layers.findIndex(layer => config.layer === layer);\n            renderVis();\n        });\n\n        $(`#${config.rootDivId} #filter`).on('change', function (e) {\n            config.filter = e.currentTarget.value;\n            renderVis();\n        });\n    }\n\n    function renderVis() {\n\n        // Load parameters\n        const attnData = config.attention[config.filter];\n        const leftText = attnData.left_text;\n        const rightText = attnData.right_text;\n\n        // Select attention for given layer\n        const layerAttention = attnData.attn[config.layer_seq];\n\n        // Clear vis\n        $(`#${config.rootDivId} #vis`).empty();\n\n        // Determine size of visualization\n        const height = Math.max(leftText.length, rightText.length) * BOXHEIGHT + TEXT_TOP;\n        const svg = d3.select(`#${config.rootDivId} #vis`)\n            .append('svg')\n            .attr(\"width\", \"100%\")\n            .attr(\"height\", height + \"px\");\n\n        // Display tokens on left and right side of visualization\n        renderText(svg, leftText, true, layerAttention, 0);\n        renderText(svg, rightText, false, layerAttention, MATRIX_WIDTH + BOXWIDTH);\n\n        // Render attention arcs\n        renderAttention(svg, layerAttention);\n\n        // Draw squares at top of visualization, one for each head\n        drawCheckboxes(0, svg, layerAttention);\n    }\n\n    function renderText(svg, text, isLeft, attention, leftPos) {\n\n        const textContainer = svg.append(\"svg:g\")\n            .attr(\"id\", isLeft ? \"left\" : \"right\");\n\n        // Add attention highlights superimposed over words\n        textContainer.append(\"g\")\n            .classed(\"attentionBoxes\", true)\n            .selectAll(\"g\")\n            .data(attention)\n            .enter()\n            .append(\"g\")\n            .attr(\"head-index\", (d, i) => i)\n            .selectAll(\"rect\")\n            .data(d => isLeft ? d : transpose(d)) // if right text, transpose attention to get right-to-left weights\n            .enter()\n            .append(\"rect\")\n            .attr(\"x\", function () {\n                var headIndex = +this.parentNode.getAttribute(\"head-index\");\n                return leftPos + boxOffsets(headIndex);\n            })\n            .attr(\"y\", (+1) * BOXHEIGHT)\n            .attr(\"width\", BOXWIDTH / activeHeads())\n            .attr(\"height\", BOXHEIGHT)\n            .attr(\"fill\", function () {\n                return headColors(+this.parentNode.getAttribute(\"head-index\"))\n            })\n            .style(\"opacity\", 0.0);\n\n        const tokenContainer = textContainer.append(\"g\").selectAll(\"g\")\n            .data(text)\n            .enter()\n            .append(\"g\");\n\n        // Add gray background that appears when hovering over text\n        tokenContainer.append(\"rect\")\n            .classed(\"background\", true)\n            .style(\"opacity\", 0.0)\n            .attr(\"fill\", \"lightgray\")\n            .attr(\"x\", leftPos)\n            .attr(\"y\", (d, i) => TEXT_TOP + i * BOXHEIGHT)\n            .attr(\"width\", BOXWIDTH)\n            .attr(\"height\", BOXHEIGHT);\n\n        // Add token text\n        const textEl = tokenContainer.append(\"text\")\n            .text(d => d)\n            .attr(\"font-size\", TEXT_SIZE + \"px\")\n            .style(\"cursor\", \"default\")\n            .style(\"-webkit-user-select\", \"none\")\n            .attr(\"x\", leftPos)\n            .attr(\"y\", (d, i) => TEXT_TOP + i * BOXHEIGHT);\n\n        if (isLeft) {\n            textEl.style(\"text-anchor\", \"end\")\n                .attr(\"dx\", BOXWIDTH - 0.5 * TEXT_SIZE)\n                .attr(\"dy\", TEXT_SIZE);\n        } else {\n            textEl.style(\"text-anchor\", \"start\")\n                .attr(\"dx\", +0.5 * TEXT_SIZE)\n                .attr(\"dy\", TEXT_SIZE);\n        }\n\n        tokenContainer.on(\"mouseover\", function (d, index) {\n\n            // Show gray background for moused-over token\n            textContainer.selectAll(\".background\")\n                .style(\"opacity\", (d, i) => i === index ? 1.0 : 0.0)\n\n            // Reset visibility attribute for any previously highlighted attention arcs\n            svg.select(\"#attention\")\n                .selectAll(\"line[visibility='visible']\")\n                .attr(\"visibility\", null)\n\n            // Hide group containing attention arcs\n            svg.select(\"#attention\").attr(\"visibility\", \"hidden\");\n\n            // Set to visible appropriate attention arcs to be highlighted\n            if (isLeft) {\n                svg.select(\"#attention\").selectAll(\"line[left-token-index='\" + index + \"']\").attr(\"visibility\", \"visible\");\n            } else {\n                svg.select(\"#attention\").selectAll(\"line[right-token-index='\" + index + \"']\").attr(\"visibility\", \"visible\");\n            }\n\n            // Update color boxes superimposed over tokens\n            const id = isLeft ? \"right\" : \"left\";\n            const leftPos = isLeft ? MATRIX_WIDTH + BOXWIDTH : 0;\n            svg.select(\"#\" + id)\n                .selectAll(\".attentionBoxes\")\n                .selectAll(\"g\")\n                .attr(\"head-index\", (d, i) => i)\n                .selectAll(\"rect\")\n                .attr(\"x\", function () {\n                    const headIndex = +this.parentNode.getAttribute(\"head-index\");\n                    return leftPos + boxOffsets(headIndex);\n                })\n                .attr(\"y\", (d, i) => TEXT_TOP + i * BOXHEIGHT)\n                .attr(\"width\", BOXWIDTH / activeHeads())\n                .attr(\"height\", BOXHEIGHT)\n                .style(\"opacity\", function (d) {\n                    const headIndex = +this.parentNode.getAttribute(\"head-index\");\n                    if (config.headVis[headIndex])\n                        if (d) {\n                            return d[index];\n                        } else {\n                            return 0.0;\n                        }\n                    else\n                        return 0.0;\n                });\n        });\n\n        textContainer.on(\"mouseleave\", function () {\n\n            // Unhighlight selected token\n            d3.select(this).selectAll(\".background\")\n                .style(\"opacity\", 0.0);\n\n            // Reset visibility attributes for previously selected lines\n            svg.select(\"#attention\")\n                .selectAll(\"line[visibility='visible']\")\n                .attr(\"visibility\", null) ;\n            svg.select(\"#attention\").attr(\"visibility\", \"visible\");\n\n            // Reset highlights superimposed over tokens\n            svg.selectAll(\".attentionBoxes\")\n                .selectAll(\"g\")\n                .selectAll(\"rect\")\n                .style(\"opacity\", 0.0);\n        });\n    }\n\n    function renderAttention(svg, attention) {\n\n        // Remove previous dom elements\n        svg.select(\"#attention\").remove();\n\n        // Add new elements\n        svg.append(\"g\")\n            .attr(\"id\", \"attention\") // Container for all attention arcs\n            .selectAll(\".headAttention\")\n            .data(attention)\n            .enter()\n            .append(\"g\")\n            .classed(\"headAttention\", true) // Group attention arcs by head\n            .attr(\"head-index\", (d, i) => i)\n            .selectAll(\".tokenAttention\")\n            .data(d => d)\n            .enter()\n            .append(\"g\")\n            .classed(\"tokenAttention\", true) // Group attention arcs by left token\n            .attr(\"left-token-index\", (d, i) => i)\n            .selectAll(\"line\")\n            .data(d => d)\n            .enter()\n            .append(\"line\")\n            .attr(\"x1\", BOXWIDTH)\n            .attr(\"y1\", function () {\n                const leftTokenIndex = +this.parentNode.getAttribute(\"left-token-index\")\n                return TEXT_TOP + leftTokenIndex * BOXHEIGHT + (BOXHEIGHT / 2)\n            })\n            .attr(\"x2\", BOXWIDTH + MATRIX_WIDTH)\n            .attr(\"y2\", (d, rightTokenIndex) => TEXT_TOP + rightTokenIndex * BOXHEIGHT + (BOXHEIGHT / 2))\n            .attr(\"stroke-width\", 2)\n            .attr(\"stroke\", function () {\n                const headIndex = +this.parentNode.parentNode.getAttribute(\"head-index\");\n                return headColors(headIndex)\n            })\n            .attr(\"left-token-index\", function () {\n                return +this.parentNode.getAttribute(\"left-token-index\")\n            })\n            .attr(\"right-token-index\", (d, i) => i)\n        ;\n        updateAttention(svg)\n    }\n\n    function updateAttention(svg) {\n        svg.select(\"#attention\")\n            .selectAll(\"line\")\n            .attr(\"stroke-opacity\", function (d) {\n                const headIndex = +this.parentNode.parentNode.getAttribute(\"head-index\");\n                // If head is selected\n                if (config.headVis[headIndex]) {\n                    // Set opacity to attention weight divided by number of active heads\n                    return d / activeHeads()\n                } else {\n                    return 0.0;\n                }\n            })\n    }\n\n    function boxOffsets(i) {\n        const numHeadsAbove = config.headVis.reduce(\n            function (acc, val, cur) {\n                return val && cur < i ? acc + 1 : acc;\n            }, 0);\n        return numHeadsAbove * (BOXWIDTH / activeHeads());\n    }\n\n    function activeHeads() {\n        return config.headVis.reduce(function (acc, val) {\n            return val ? acc + 1 : acc;\n        }, 0);\n    }\n\n    function drawCheckboxes(top, svg) {\n        const checkboxContainer = svg.append(\"g\");\n        const checkbox = checkboxContainer.selectAll(\"rect\")\n            .data(config.headVis)\n            .enter()\n            .append(\"rect\")\n            .attr(\"fill\", (d, i) => headColors(i))\n            .attr(\"x\", (d, i) => i * CHECKBOX_SIZE)\n            .attr(\"y\", top)\n            .attr(\"width\", CHECKBOX_SIZE)\n            .attr(\"height\", CHECKBOX_SIZE);\n\n        function updateCheckboxes() {\n            checkboxContainer.selectAll(\"rect\")\n                .data(config.headVis)\n                .attr(\"fill\", (d, i) => d ? headColors(i): lighten(headColors(i)));\n        }\n\n        updateCheckboxes();\n\n        checkbox.on(\"click\", function (d, i) {\n            if (config.headVis[i] && activeHeads() === 1) return;\n            config.headVis[i] = !config.headVis[i];\n            updateCheckboxes();\n            updateAttention(svg);\n        });\n\n        checkbox.on(\"dblclick\", function (d, i) {\n            // If we double click on the only active head then reset\n            if (config.headVis[i] && activeHeads() === 1) {\n                config.headVis = new Array(config.nHeads).fill(true);\n            } else {\n                config.headVis = new Array(config.nHeads).fill(false);\n                config.headVis[i] = true;\n            }\n            updateCheckboxes();\n            updateAttention(svg);\n        });\n    }\n\n    function lighten(color) {\n        const c = d3.hsl(color);\n        const increment = (1 - c.l) * 0.6;\n        c.l += increment;\n        c.s -= increment;\n        return c;\n    }\n\n    function transpose(mat) {\n        return mat[0].map(function (col, i) {\n            return mat.map(function (row) {\n                return row[i];\n            });\n        });\n    }\n\n});",
      "text/plain": [
       "<IPython.core.display.Javascript object>"
      ]
     },
     "metadata": {},
     "output_type": "display_data"
    }
   ],
   "source": [
    "from bertviz import head_view\n",
    "head_view(\n",
    "\tencoder_attention=encoder_self_attention, \n",
    "\tdecoder_attention=decoder_self_attention,\n",
    "\tcross_attention=decoder_encoder_attention, \n",
    "\tencoder_tokens=encoder_text,\n",
    "\tdecoder_tokens=decoder_text, \n",
    ")"
   ]
  },
  {
   "cell_type": "markdown",
   "metadata": {},
   "source": [
    "neuron view requires access to key, value and query information. It is not currently available."
   ]
  },
  {
   "cell_type": "markdown",
   "metadata": {},
   "source": [
    "#### Probability interpretation"
   ]
  },
  {
   "cell_type": "markdown",
   "metadata": {},
   "source": [
    "\"Given the target sequence, if such a target-peptide $\\beta$-strand interaction exists in nature, the probality of generated sequence being such a peptide.\""
   ]
  },
  {
   "cell_type": "markdown",
   "metadata": {},
   "source": [
    "#### Probability quality guidance"
   ]
  },
  {
   "cell_type": "markdown",
   "metadata": {},
   "source": [
    "Training data are labeled with probability: $0.9^{(l+1)}$. <br>\n",
    "Training data length 8 labeled probability: $0.9^{9} = 0.387420489$ <br>\n",
    "Random data length 8 labeled probability with special token: $ (\\frac{1}{24}) ^{9} = 3.7852871 \\times 10^{-13} $ <br>\n",
    "Random data length 8 labeled probability without special token: $(\\frac{1}{20}) ^{9} = 1.953125 \\times 10^{-12} $"
   ]
  },
  {
   "cell_type": "markdown",
   "metadata": {},
   "source": [
    "#### Number of parameters calculation "
   ]
  },
  {
   "cell_type": "markdown",
   "metadata": {},
   "source": [
    "N: number of layers <br>\n",
    "H: hidden dimensions\n",
    "\n",
    "Encoder embedding: $24 \\times H$ <br>\n",
    "\n",
    "Encoder self attention -- key projection, value projection, query projection, final projection: $H^{2} \\times 4$ <br>\n",
    "Encoder pointwise MLP: $H \\times 4H \\times 2 = H^{2} \\times 8$\n",
    "\n",
    "Decoder embedding: $24 \\times H$ <br>\n",
    "\n",
    "Decoder self attention -- key projection, value projection, query projection, final projection: $H^{2} \\times 4$ <br>\n",
    "Decoder-encoder attention -- key projection, value projection, query projection, final projection: $H^{2} \\times 4$ <br>\n",
    "Decoder pointwise MLP: $H \\times 4H \\times 2 = H^{2} \\times 8$\n",
    "\n",
    "Ouput Projection: $H \\times 24$ \n",
    "\n",
    "Total parameters: $24 \\times H + (H^{2} \\times 4 + H^{2} \\times 8) \\times N + 24 \\times H + (H^{2} \\times 4 + H^{2} \\times 4 + H^{2} \\times 8) \\times N + H \\times 24  $ <br> \n",
    "$ = 28 \\times H^{2} \\times N + 72 \\times H$"
   ]
  },
  {
   "cell_type": "markdown",
   "metadata": {},
   "source": [
    "#### Potential problems"
   ]
  },
  {
   "cell_type": "markdown",
   "metadata": {},
   "source": [
    "1. Positional encoding failed to work in predict sequences------------- fixed \n",
    "2. 'bos', 'eos' not trained? ------------------------------------------ fixed \n",
    "3. Ramdomize each batch ----------------------------------------------- fixed \n",
    "4. Softmax in prediction ---------------------------------------------- fixed \n",
    "5. write functions for training-preposessing -------------------------- fixed\n",
    "6. write functions for prediction ------------------------------------- fixed\n",
    "7. label smoothing: alter learning truth distribution ----------------- fixed \n",
    "8. weighting of each sample: sample weights in loss ------------------- fixed\n",
    "9. adjust learning rate ----------------------------------------------- not changed since adam is insensitive to learning rate\n",
    "10. loss shown too small ---------------------------------------------- fixed \n",
    "11. batch size and training steps and all other hyperparameter--------- set"
   ]
  },
  {
   "cell_type": "markdown",
   "metadata": {},
   "source": [
    "#### Things to do"
   ]
  },
  {
   "cell_type": "markdown",
   "metadata": {},
   "source": [
    "1. Assigne weights to each sample ------------------------------- done \n",
    "2. hyperparameter for base model training ----------------------- done \n",
    "3. train on imperial GPU ---------------------------------------- done \n",
    "4. Write sampling sequence + prob function ---------------------- moved \n",
    "5. Write functions for prob of pair sequences ------------------- moved\n",
    "6. Consider anti para / para condition -------------------------- ignore this condition + ignore hb_pattern for now\n",
    "7. save model parameters with current time ---------------------- done \n",
    "8. check GPU availablity ---------------------------------------- done\n",
    "9. Request a notebook for longer or more GPU on jupyter? 100epochs==50hours for 1 GPU  ---- done \n",
    "10. Save loss plots --------------------------------------------- done \n",
    "11. Convert jupyter notebook to scriptfor trainning ------------- done \n",
    "12. Lean how to train on one GPU on imperial cluster ------------ done\n",
    "13. Embedding and linear initialization adjust ------------------ done \n",
    "14. Examine on both training and validation --------------------- done \n",
    "15. Hamming distance systematically lower (valida) -------------- done \n",
    "16. Prob of training model comple peptides by model systemtically higher than random comple peptides (train)\n",
    "17. Write sampling sequence + prob function --------------------- done \n",
    "18. Write functions for prob of pair sequences\n",
    "19. Extract attention weights to view correlation\n",
    "20. Maybe train a base line version with only equal weights length 7 and 8 ---- not now\n",
    "21. try to predict binding energy \n",
    "22. Track validation loss or find another good metric ----------- done\n",
    "23. clean notebook ---------------------------------------------- done \n",
    "24. maybe data augmentation or alphafold to add high quality model\n",
    "25. batch sampling procedure and batch prediction---------------- done \n",
    "26. try gated attention from alphafold2\n",
    "27. try data augmentation and expand dataset from alphafold2\n",
    "28. try bidirectional mask from BERT alphafold2\n"
   ]
  },
  {
   "cell_type": "markdown",
   "metadata": {},
   "source": [
    "#### HPC version tracker"
   ]
  },
  {
   "cell_type": "markdown",
   "metadata": {},
   "source": [
    "1. model_base: 13072022_UROP_model_base_modified\n",
    "2. model_wide: 14072022_UROP_model_wide\n",
    "3. model_base_validation: 17072022_UROP_model_base_validation\n",
    "4. model_wide_validation: 17072022_UROP_model_wide_validation"
   ]
  }
 ],
 "metadata": {
  "kernelspec": {
   "display_name": "Python 3.10.4 ('pt')",
   "language": "python",
   "name": "python3"
  },
  "language_info": {
   "codemirror_mode": {
    "name": "ipython",
    "version": 3
   },
   "file_extension": ".py",
   "mimetype": "text/x-python",
   "name": "python",
   "nbconvert_exporter": "python",
   "pygments_lexer": "ipython3",
   "version": "3.10.4"
  },
  "orig_nbformat": 4,
  "vscode": {
   "interpreter": {
    "hash": "78bf9874701a3957232b8c741c196d0ac3fa790968bd4270c0e2fd5bdf999274"
   }
  }
 },
 "nbformat": 4,
 "nbformat_minor": 2
}
