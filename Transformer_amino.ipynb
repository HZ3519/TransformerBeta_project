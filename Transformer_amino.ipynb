{
 "cells": [
  {
   "cell_type": "code",
   "execution_count": 3,
   "metadata": {},
   "outputs": [],
   "source": [
    "import math\n",
    "import os\n",
    "# os.environ['CUDA_LAUNCH_BLOCKING'] = '1'\n",
    "import torch\n",
    "from torch import nn\n",
    "from torch.distributions.categorical import Categorical\n",
    "from d2l import torch as d2l\n",
    "import pandas as pd\n",
    "import pickle\n",
    "import numpy as np \n",
    "import time \n",
    "import matplotlib.pyplot as plt "
   ]
  },
  {
   "cell_type": "markdown",
   "metadata": {},
   "source": [
    "#### Check GPU availability"
   ]
  },
  {
   "cell_type": "code",
   "execution_count": 4,
   "metadata": {},
   "outputs": [
    {
     "name": "stdout",
     "output_type": "stream",
     "text": [
      "GPU availability: False\n",
      "Number of GPU available: 0\n"
     ]
    }
   ],
   "source": [
    "print(\"GPU availability: {}\".format(torch.cuda.is_available()))\n",
    "print(\"Number of GPU available: {}\".format(torch.cuda.device_count()))"
   ]
  },
  {
   "cell_type": "markdown",
   "metadata": {},
   "source": [
    "#### Clean GPU usage"
   ]
  },
  {
   "cell_type": "code",
   "execution_count": 5,
   "metadata": {},
   "outputs": [],
   "source": [
    "# to train a new model, restart kernel after freeing gpu memory\n",
    "# and load all pretraining data\n",
    "\n",
    "from GPUtil import showUtilization as gpu_usage\n",
    "from numba import cuda\n",
    "\n",
    "def free_gpu_cache():\n",
    "    print(\"Initial GPU Usage\")\n",
    "    gpu_usage()                             \n",
    "\n",
    "    torch.cuda.empty_cache()\n",
    "\n",
    "    cuda.select_device(0)\n",
    "    cuda.close()\n",
    "    cuda.select_device(0)\n",
    "\n",
    "    print(\"GPU Usage after emptying the cache\")\n",
    "    gpu_usage()"
   ]
  },
  {
   "cell_type": "code",
   "execution_count": 6,
   "metadata": {},
   "outputs": [],
   "source": [
    "# check gpu_usage\n",
    "#gpu_usage()"
   ]
  },
  {
   "cell_type": "markdown",
   "metadata": {},
   "source": [
    "#### Masked sequence"
   ]
  },
  {
   "cell_type": "code",
   "execution_count": 7,
   "metadata": {},
   "outputs": [],
   "source": [
    "# X: (5, 10)\n",
    "# value: [1, 5, 3, 6, 2] -- matching the rows \n",
    "\n",
    "def sequence_mask(X, valid_len, value=0):\n",
    "\t\"\"\"Mask irrelevant entries in sequences.\"\"\"\n",
    "\n",
    "\tmaxlen = X.size(1)\n",
    "\tmask = torch.arange((maxlen), dtype=torch.float32, device=X.device)[None, :] < valid_len[:, None]\n",
    "\t#print(mask)\n",
    "\n",
    "\tX[~mask] = value # set the masked elements to value \n",
    "\treturn X"
   ]
  },
  {
   "cell_type": "markdown",
   "metadata": {},
   "source": [
    "#### Masked softmax operation"
   ]
  },
  {
   "cell_type": "code",
   "execution_count": 8,
   "metadata": {},
   "outputs": [],
   "source": [
    "# X: (2, 3, 4) -- attention weights\n",
    "# valid lens: specify how many elements to mask in each minibatch \n",
    "# valid lens (high dim): specify how to mask each minibatch \n",
    "def masked_softmax(X, valid_lens):\n",
    "\t\"\"\"Perform softmax operation by masking elements on the last axis\"\"\"\n",
    "\n",
    "\tif valid_lens == None:\n",
    "\t\treturn nn.functional.softmax(X, dim=-1)\n",
    "\telse:\n",
    "\t\tshape = X.shape\n",
    "\t\tif valid_lens.dim() == 1:\n",
    "\t\t\t# \n",
    "\t\t\tvalid_lens = torch.repeat_interleave(valid_lens, shape[1])\n",
    "\t\telse:\n",
    "\t\t\tvalid_lens = valid_lens.reshape(-1)\n",
    "\t\tX = sequence_mask(X.reshape(-1, shape[-1]), valid_lens, value=-1e6)\n",
    "\n",
    "\t\treturn nn.functional.softmax(X.reshape(shape), dim=-1)"
   ]
  },
  {
   "cell_type": "markdown",
   "metadata": {},
   "source": [
    "#### Positional encoding"
   ]
  },
  {
   "cell_type": "code",
   "execution_count": 9,
   "metadata": {},
   "outputs": [],
   "source": [
    "class PositionalEncoding(nn.Module):\n",
    "\t\"\"\"Position encoding X+P with dropout\"\"\"\n",
    "\n",
    "\tdef __init__(self, num_hiddens, dropout, max_len=1000):\n",
    "\t\tsuper(PositionalEncoding, self).__init__()\n",
    "\t\tself.dropout = nn.Dropout(dropout)\n",
    "\n",
    "\t\t# create a single batch_size 1, long enough P, longer than sequence length\n",
    "\t\tself.P = torch.zeros((1, max_len, num_hiddens))\n",
    "\t\tX = torch.arange(max_len, dtype=torch.float32).reshape(-1, 1) / torch.pow(10000, torch.arange(0, num_hiddens, 2, dtype=torch.float32)/num_hiddens)\n",
    "\t\tself.P[:, :, 0::2] = torch.sin(X)\n",
    "\t\tself.P[:, :, 1::2] = torch.cos(X)\n",
    "\n",
    "\tdef forward(self, X):\n",
    "\t\tX = X + self.P[:, :X.shape[1], :].to(X.device)\n",
    "\t\treturn self.dropout(X)"
   ]
  },
  {
   "cell_type": "markdown",
   "metadata": {},
   "source": [
    "#### Scaled dot-product attention"
   ]
  },
  {
   "cell_type": "code",
   "execution_count": 10,
   "metadata": {},
   "outputs": [],
   "source": [
    "class DotProductAttention(nn.Module):\n",
    "\t\"\"\"\"Scaled dot product attention with dropout\"\"\"\n",
    "\n",
    "\tdef __init__(self, dropout, **kwargs):\n",
    "\t\tsuper(DotProductAttention, self).__init__(**kwargs)\n",
    "\t\tself.dropout = nn.Dropout(dropout)\n",
    "\n",
    "\t\t# query: (batch_size, no. of queries, 'd')\n",
    "\t\t# key: (batch_size, no. of key-value pairs, 'd')\n",
    "\t\t# value: (batch_size, no. of key-value pairs, d_value)\n",
    "\t\t# valid_lens: (batch_size, ) or (batch_size, no. of queries)\n",
    "\t\n",
    "\tdef forward(self, queries, keys, values, valid_lens=None):\n",
    "\t\td = queries.shape[-1]\n",
    "\n",
    "\t\tscores = torch.bmm(queries, keys.transpose(1, 2)) / math.sqrt(d)\n",
    "\t\tself.attention_weights = masked_softmax(scores, valid_lens)\n",
    "\t\treturn torch.bmm(self.dropout(self.attention_weights), values)"
   ]
  },
  {
   "cell_type": "markdown",
   "metadata": {},
   "source": [
    "#### Multi-head attention"
   ]
  },
  {
   "cell_type": "code",
   "execution_count": 11,
   "metadata": {},
   "outputs": [],
   "source": [
    "def transpose_qkv(X, num_heads):\n",
    "\t\"\"\"Transposition for parallel computation of multiple attention heads\"\"\"\n",
    "\n",
    "\tX = X.reshape(X.shape[0], X.shape[1], num_heads, -1)\n",
    "\tX = X.permute(0, 2, 1, 3)\n",
    "\n",
    "\treturn X.reshape(-1, X.shape[2], X.shape[3])\n",
    "\n",
    "def transpose_output(X, num_heads):\n",
    "\t\"\"\"Reverse the operation of transpose_qkv\"\"\"\n",
    "\n",
    "\tX = X.reshape(-1, num_heads, X.shape[1], X.shape[2])\n",
    "\tX = X.permute(0, 2, 1, 3)\n",
    "\n",
    "\treturn X.reshape(X.shape[0], X.shape[1], -1)"
   ]
  },
  {
   "cell_type": "code",
   "execution_count": 12,
   "metadata": {},
   "outputs": [],
   "source": [
    "# valid_lens: (batch_size, ) or (batch_size, no. of queries)\n",
    "# Note: the mask (valid_len) used here, I copy it num_heads times\n",
    "\n",
    "class MultiHeadAttention(nn.Module):\n",
    "\t\"\"\"Multi-head attention\"\"\"\n",
    "\n",
    "\tdef __init__(self, key_size, query_size, value_size, num_hiddens, num_heads, dropout, use_bias=False, **kwargs):\n",
    "\t\tsuper(MultiHeadAttention, self).__init__(**kwargs)\n",
    "\t\tself.num_heads = num_heads\n",
    "\t\tself.attention = DotProductAttention(dropout)\n",
    "\t\tself.W_q = nn.Linear(query_size, num_hiddens, bias=use_bias) # (in_feature, out_feature)\n",
    "\t\tself.W_k = nn.Linear(key_size, num_hiddens, bias=use_bias)\n",
    "\t\tself.W_v = nn.Linear(value_size, num_hiddens, bias=use_bias)\n",
    "\t\tself.W_o = nn.Linear(num_hiddens, num_hiddens, bias=use_bias)\n",
    "\t\n",
    "\tdef forward(self, queries, keys, values, valid_lens):\n",
    "\t\t\n",
    "\t\t# queries, keys, values:\n",
    "\t\t# (batch_size, no. of queries / keys/ values, num_hiddens) ---------------------note here we choose queries_size, value_size, key_size to be num_hiddens\n",
    "\t\t# valid_lens: (batch_size, ) or (batch_size, no. of queries)\n",
    "\n",
    "\t\tqueries = transpose_qkv(self.W_q(queries), self.num_heads)\n",
    "\t\tkeys = transpose_qkv(self.W_k(keys), self.num_heads)\n",
    "\t\tvalues = transpose_qkv(self.W_v(values), self.num_heads)\n",
    "\n",
    "\t\tif valid_lens is not None:\n",
    "\t\t\tvalid_lens = torch.repeat_interleave(valid_lens, repeats=self.num_heads, dim=0)\n",
    "\t\t\n",
    "\t\toutput = self.attention(queries, keys, values, valid_lens)\n",
    "\n",
    "\t\toutput_concat = transpose_output(output, self.num_heads)\n",
    "\n",
    "\t\treturn self.W_o(output_concat)"
   ]
  },
  {
   "cell_type": "markdown",
   "metadata": {},
   "source": [
    "#### Positionwise Feed-Forward Networks"
   ]
  },
  {
   "cell_type": "code",
   "execution_count": 13,
   "metadata": {},
   "outputs": [],
   "source": [
    "class PositionWiseFFN(nn.Module):\n",
    "\t\"\"\"Positionwise feed-forward network\"\"\"\n",
    "\n",
    "\tdef __init__(self, ffn_num_input, ffn_num_hiddens, ffn_num_outputs, **kwargs):\n",
    "\t\tsuper(PositionWiseFFN, self).__init__(**kwargs)\n",
    "\t\tself.dense1 = nn.Linear(ffn_num_input, ffn_num_hiddens)\n",
    "\t\tself.relu = nn.ReLU()\n",
    "\t\tself.dense2 = nn.Linear(ffn_num_hiddens, ffn_num_outputs)\n",
    "\n",
    "\tdef forward(self, X):\n",
    "\t\treturn self.dense2(self.relu(self.dense1(X)))"
   ]
  },
  {
   "cell_type": "markdown",
   "metadata": {},
   "source": [
    "#### Residual connection and layer normalization"
   ]
  },
  {
   "cell_type": "code",
   "execution_count": 14,
   "metadata": {},
   "outputs": [],
   "source": [
    "# input: (batch_size, seq_length, features_dim)\n",
    "# normalized shape is input.size()[1: ]\n",
    "# the normalizing direction is features_dim -- nomalizing along second dimension\n",
    "\n",
    "# X is input \n",
    "# Y is Multiattention(X)\n",
    "\n",
    "class AddNorm(nn.Module):\n",
    "\t\"\"\"Residual connection followed by layer normalization with dropout implementation\"\"\"\n",
    "\n",
    "\tdef __init__(self, normalized_shape, dropout, **kwargs):\n",
    "\t\tsuper(AddNorm, self).__init__(**kwargs)\n",
    "\t\tself.dropout = nn.Dropout(dropout)\n",
    "\t\tself.ln = nn.LayerNorm(normalized_shape)\n",
    "\n",
    "\tdef forward(self, X, Y): \n",
    "\t\treturn self.ln(self.dropout(Y) + X)"
   ]
  },
  {
   "cell_type": "markdown",
   "metadata": {},
   "source": [
    "#### Encoder"
   ]
  },
  {
   "cell_type": "code",
   "execution_count": 15,
   "metadata": {},
   "outputs": [],
   "source": [
    "class EncoderBlock(nn.Module):\n",
    "\t\"\"\"Transformer encoder block.\"\"\"\n",
    "\n",
    "\tdef __init__(self, key_size, query_size, value_size, num_hiddens, norm_shape, ffn_num_input, ffn_num_hiddens, num_heads, dropout, use_bias=False, **kwargs):\n",
    "\t\tsuper(EncoderBlock, self).__init__(**kwargs)\n",
    "\t\tself.attention = MultiHeadAttention(key_size=key_size, query_size=query_size, value_size=value_size, num_hiddens=num_hiddens, num_heads=num_heads, dropout=dropout, use_bias=use_bias)\n",
    "\t\tself.addnorm1 = AddNorm(norm_shape, dropout)\n",
    "\t\tself.ffn = PositionWiseFFN(ffn_num_input, ffn_num_hiddens, num_hiddens)\n",
    "\t\tself.addnorm2 = AddNorm(norm_shape, dropout)\n",
    "\n",
    "\tdef forward(self, X, valid_lens):\n",
    "\t\tY = self.addnorm1(X, self.attention(X, X, X, valid_lens))\n",
    "\t\treturn self.addnorm2(Y, self.ffn(Y))"
   ]
  },
  {
   "cell_type": "markdown",
   "metadata": {},
   "source": [
    "#### Transformer encoder"
   ]
  },
  {
   "cell_type": "code",
   "execution_count": 16,
   "metadata": {},
   "outputs": [],
   "source": [
    "# we can now stack the blocks of encoders\n",
    "# we also need to rescale to learnable input embeddings by sqrt(embedding dim) to [-1, 1]. This is because each value of positional embeddding is [-1, 1]\n",
    "# num_layers: number of blocks of encoder\n",
    "# vocab_size: size of vocabulary dictionary\n",
    "\n",
    "class TransformerEncoder(d2l.Encoder):\n",
    "\t\"\"\"Transformer encoder.\"\"\"\n",
    "\n",
    "\tdef __init__(self, vocab_size, key_size, query_size, value_size, num_hiddens, norm_shape, ffn_num_input, ffn_num_hiddens, num_heads, num_layers, dropout, use_bias=False, **kwargs):\n",
    "\t\tsuper(TransformerEncoder, self).__init__(**kwargs)\n",
    "\t\tself.num_hiddens = num_hiddens\n",
    "\t\tself.embedding = nn.Embedding(vocab_size, num_hiddens) # here we randomly initialize a input embedding matrix \n",
    "\t\tself.pos_encoding = PositionalEncoding(num_hiddens, dropout)\n",
    "\t\tself.blks = nn.Sequential()\n",
    "\t\tfor i in range(num_layers):\n",
    "\t\t\tself.blks.add_module(\"Block\"+str(i), EncoderBlock(key_size, query_size, value_size, num_hiddens, norm_shape, ffn_num_input, ffn_num_hiddens, num_heads, dropout, use_bias=use_bias))\n",
    "\t\n",
    "\tdef forward(self, X, valid_lens, *args):\n",
    "\t\tX = self.pos_encoding(self.embedding(X) * math.sqrt(self.num_hiddens))\n",
    "\t\tself.attention_weights = [None] * len(self.blks) # create a attention weight list to hold attention weights at each block\n",
    "\t\tfor i, blk in enumerate(self.blks):\n",
    "\t\t\tX = blk(X, valid_lens)\n",
    "\t\t\tself.attention_weights[i] = blk.attention.attention.attention_weights # the actual attention weights is stored in the ScaledDotAttention\n",
    "\t\t\n",
    "\t\treturn X"
   ]
  },
  {
   "cell_type": "markdown",
   "metadata": {},
   "source": [
    "#### Decoder"
   ]
  },
  {
   "cell_type": "code",
   "execution_count": 17,
   "metadata": {},
   "outputs": [],
   "source": [
    "# self.i stores all previous representations\n",
    "\n",
    "class DecoderBlock(nn.Module):\n",
    "\t\"\"\"The ith decoder block\"\"\"\n",
    "\tdef __init__(self, key_size, query_size, value_size, num_hiddens, norm_shape, ffn_num_input, ffn_num_hiddens, num_heads, dropout, i, **kwargs):\n",
    "\t\tsuper(DecoderBlock, self).__init__(**kwargs)\n",
    "\t\tself.i = i\n",
    "\t\tself.attention1 = MultiHeadAttention(key_size=key_size, query_size=query_size, value_size=value_size, num_hiddens=num_hiddens, num_heads=num_heads, dropout=dropout)\n",
    "\t\tself.addnorm1 = AddNorm(norm_shape, dropout)\n",
    "\t\tself.attention2 = MultiHeadAttention(key_size=key_size, query_size=query_size, value_size=value_size, num_hiddens=num_hiddens, num_heads=num_heads, dropout=dropout)\n",
    "\t\tself.addnorm2 = AddNorm(norm_shape, dropout)\n",
    "\t\tself.ffn = PositionWiseFFN(ffn_num_input, ffn_num_hiddens, num_hiddens)\n",
    "\t\tself.addnorm3 = AddNorm(norm_shape, dropout)\n",
    "\n",
    "\tdef forward(self, X, state):\n",
    "\t\t# state: (encoder_output, encoder_valid_len, some info)\n",
    "\t\tenc_outputs, enc_valid_lens = state[0], state[1]\n",
    "\t\t\n",
    "\t\tbatch_size, num_steps, _ = X.shape # (batch_size, previous_timesteps, hidden_dimension)\n",
    "\t\tdec_valid_lens = torch.arange(1, num_steps + 1, device=X.device).repeat(batch_size, 1) # repeat to size (2, 1), this specifies how we mask each row in each minibatch\n",
    "\t\t\n",
    "\t\t# main model\n",
    "\t\t# q, k, v as defined\n",
    "\t\tX2 = self.attention1(X, X, X, dec_valid_lens) # training: all X, but we mask all after, prediction: queries=current timestep repr, keys_values, all previous \n",
    "\t\tY = self.addnorm1(X, X2)\n",
    "\t\tY2 = self.attention2(Y, enc_outputs, enc_outputs, enc_valid_lens) # in the case encoder is masked \n",
    "\t\tZ = self.addnorm2(Y, Y2)\n",
    "\n",
    "\t\treturn self.addnorm3(Z, self.ffn(Z)), state # state here is passed as it was \n",
    "\n",
    "\t# some additional notes: \n",
    "\t# decoder consists of 2 functionality: training and prediction \n",
    "\n",
    "\t# during training: we use the whole sequence but mask attention weights\n",
    "\t# The attention weights matrix has dimension (q, k) -- the second query will only get acess to the first 2 key\n",
    "\t# state[2] is [None]\n",
    "\n",
    "\t# during prediction: we only have current embedding -- 1 query \n",
    "\t# the key-values combine current and all previous key-valuee to search for -- decoder self attention "
   ]
  },
  {
   "cell_type": "markdown",
   "metadata": {},
   "source": [
    "#### Transformer Decoder"
   ]
  },
  {
   "cell_type": "code",
   "execution_count": 18,
   "metadata": {},
   "outputs": [],
   "source": [
    "class TransformerDecoder(d2l.AttentionDecoder):\n",
    "\n",
    "\tdef __init__(self, vocab_size,  key_size, query_size, value_size, num_hiddens, norm_shape, ffn_num_input, ffn_num_hiddens, num_heads, num_layers, dropout, **kwargs):\n",
    "\t\tsuper(TransformerDecoder, self).__init__(**kwargs)\n",
    "\t\tself.num_hiddens = num_hiddens\n",
    "\t\tself.num_layers = num_layers\n",
    "\t\tself.embedding = nn.Embedding(vocab_size, num_hiddens)\n",
    "\t\tself.pos_encoding = PositionalEncoding(num_hiddens, dropout)\n",
    "\t\tself.blks = nn.Sequential()\n",
    "\t\tfor i in range(num_layers):\n",
    "\t\t\tself.blks.add_module(\"block\"+str(i), DecoderBlock(key_size, query_size, value_size, num_hiddens, norm_shape, ffn_num_input, ffn_num_hiddens, num_heads, dropout, i))\n",
    "\t\tself.dense = nn.Linear(num_hiddens, vocab_size)\n",
    "\t\t# prediction: we have (1, num_hiddens) --> (1, num_vocab_size)\n",
    "\n",
    "\tdef init_state(self, enc_outputs, enc_valid_lens, *args):\n",
    "\t\tself.seqX = None\n",
    "\t\treturn [enc_outputs, enc_valid_lens]\n",
    "\n",
    "\tdef forward(self, X, state):\n",
    "\n",
    "\t\tif not self.training:\n",
    "\t\t\tif self.seqX is None:\n",
    "\t\t\t\tself.seqX = X\n",
    "\t\t\telse:\n",
    "\t\t\t\tself.seqX = torch.cat((self.seqX, X), dim=1)\n",
    "\t\t\tX = self.seqX\n",
    "\n",
    "\t\tX = self.pos_encoding(self.embedding(X) * math.sqrt(self.num_hiddens))\n",
    "\t\tself._attention_weights = [[None] * len(self.blks) for _ in range(2)] # here we record attention from 2 attention module (2, i)\n",
    "\t\t\n",
    "\t\tfor i, blk in enumerate(self.blks):\n",
    "\n",
    "\t\t\tX, state = blk(X, state)\n",
    "\t\t\t# Decoder self-attention weights\n",
    "\t\t\tself._attention_weights[0][i] = blk.attention1.attention.attention_weights\n",
    "\t\t\t# Encoder-decoder attention weights\n",
    "\t\t\tself._attention_weights[1][i] = blk.attention2.attention.attention_weights\n",
    "\t\t\n",
    "\t\tif not self.training:\n",
    "\t\t\treturn self.dense(X)[:, -1:, :], state\n",
    "\t\t\n",
    "\t\treturn self.dense(X), state\n",
    "\n",
    "\tdef attention_weights(self):\n",
    "\t\treturn self._attention_weights"
   ]
  },
  {
   "cell_type": "markdown",
   "metadata": {},
   "source": [
    "#### Encoder to Decoder architecture"
   ]
  },
  {
   "cell_type": "code",
   "execution_count": 19,
   "metadata": {},
   "outputs": [],
   "source": [
    "class EncoderDecoder(nn.Module):\n",
    "    \"\"\"The base class for the encoder-decoder architecture.\"\"\"\n",
    "    def __init__(self, encoder, decoder, **kwargs):\n",
    "        super(EncoderDecoder, self).__init__(**kwargs)\n",
    "        self.encoder = encoder\n",
    "        self.decoder = decoder\n",
    "\n",
    "    def forward(self, enc_X, dec_X, *args):\n",
    "        enc_outputs = self.encoder(enc_X, *args)  # feature representation from encoder\n",
    "        dec_state = self.decoder.init_state(enc_outputs, *args) # use the feature representation from encoder to process a decoder init: (training--None), (prediction -- previous important information)\n",
    "        return self.decoder(dec_X, dec_state)"
   ]
  },
  {
   "cell_type": "markdown",
   "metadata": {},
   "source": [
    "#### The softmax cross-entropy loss with mask"
   ]
  },
  {
   "cell_type": "code",
   "execution_count": 20,
   "metadata": {},
   "outputs": [],
   "source": [
    "class MaskedSoftmaxCELoss(nn.CrossEntropyLoss):\n",
    "\t\"\"\"The softmax cross-entropy loss with masks.\"\"\"\n",
    "\t# 'pred' shape: ('batch_size', 'num_steps', 'vocab_size')  ---> shape should be (0, 2, 1)\n",
    "\t# 'label' shape: ('batch_size', num_steps) --- each number is a number between 0 and vocab_size/prob\n",
    "\t# 'valid_len' shape: ('batch_size', )\n",
    "\n",
    "\t# \"none\" return same shape as 'label'\n",
    "\t\n",
    "\t# num_steps have to be the same \n",
    "\t# during training, our labeled/pred length can be very long. We can restrict the length of each batch.\n",
    "\t# we ignore the irrelevant part\n",
    "\tdef forward(self, pred, label, valid_len, sample_weights, label_smoothing):\n",
    "\t\tmasks = torch.ones_like(label)\n",
    "\t\tmasks = sequence_mask(masks, valid_len)\n",
    "\t\tself.reduction = 'none'\n",
    "\t\tself.label_smoothing = label_smoothing\n",
    "\t\tunmaskeded_loss = super(MaskedSoftmaxCELoss, self).forward(pred.permute(0, 2, 1), label)\n",
    "\t\tmasked_loss = (unmaskeded_loss * masks).mean(dim=1) # mean of each batch along num_steps\n",
    "\n",
    "\t\tweighted_masked_loss = masked_loss * sample_weights\n",
    "\t\tweighted_average_masked_loss = weighted_masked_loss.sum() / sample_weights.sum()  # weighted average across batch\n",
    "\t\treturn weighted_average_masked_loss"
   ]
  },
  {
   "cell_type": "markdown",
   "metadata": {},
   "source": [
    "#### Hamming distance"
   ]
  },
  {
   "cell_type": "code",
   "execution_count": 21,
   "metadata": {},
   "outputs": [],
   "source": [
    "def hamming_distance_training(seq_pred, seq_true):\n",
    "\t\"\"\"Return the Hamming distancefor training between 2 equal lists of equal-length sequences(list of number).\"\"\"\n",
    "\t\n",
    "\thd_list = [(x!=y).sum() for x, y in zip(seq_pred, seq_true)]\n",
    "\n",
    "\treturn torch.sum(torch.stack(hd_list))\n"
   ]
  },
  {
   "cell_type": "code",
   "execution_count": 22,
   "metadata": {},
   "outputs": [],
   "source": [
    "def hamming_distance_sum(seq_pred, seq_true):\n",
    "\t\"\"\"Return the Hamming distance sum between 2 equal list of equal-length sequences(list of amino sequences).\"\"\"\n",
    "\n",
    "\thd_list = [sum(np.array(list(x))!=np.array(list(y))) for x, y in zip(seq_pred, seq_true)]\n",
    "\n",
    "\treturn sum(hd_list)"
   ]
  },
  {
   "cell_type": "code",
   "execution_count": 23,
   "metadata": {},
   "outputs": [],
   "source": [
    "def hamming_distance_list(seq_pred, seq_true):\n",
    "\t\"\"\"Return the Hamming distance list between 2 equal list of equal-length sequences(list of amino sequences).\"\"\"\n",
    "\n",
    "\thd_list = [sum(np.array(list(x))!=np.array(list(y))) for x, y in zip(seq_pred, seq_true)]\n",
    "\n",
    "\treturn hd_list"
   ]
  },
  {
   "cell_type": "markdown",
   "metadata": {},
   "source": [
    "#### Transformer training"
   ]
  },
  {
   "cell_type": "code",
   "execution_count": 24,
   "metadata": {},
   "outputs": [],
   "source": [
    "# input: list of training target sequences, list of training complementary peptides \n",
    "\n",
    "def preprocess_train(X_train_letter, Y_train_letter, amino_dict, num_steps, X_validation_letter=None, Y_validation_letter=None):\n",
    "\n",
    "\tX_train_letter_split = [list(sequence) for sequence in X_train_letter]\n",
    "\tY_train_letter_split = [list(sequence) for sequence in Y_train_letter]\n",
    "\n",
    "\tX_train_unpad= [[amino_dict[letter] for letter in sequence] + [amino_dict['<eos>']] for sequence in X_train_letter_split]\n",
    "\tY_train_unpad = [[amino_dict[letter] for letter in sequence] + [amino_dict['<eos>']] for sequence in Y_train_letter_split]\n",
    "\n",
    "\tX_valid_len = torch.tensor([len(sequence) for sequence in X_train_unpad])\n",
    "\tY_valid_len = torch.tensor([len(sequence) for sequence in Y_train_unpad])\n",
    "\n",
    "\tX_train = torch.tensor([d2l.truncate_pad(sequence, num_steps, amino_dict['<pad>']) for sequence in X_train_unpad])\n",
    "\tY_train = torch.tensor([d2l.truncate_pad(sequence, num_steps, amino_dict['<pad>']) for sequence in Y_train_unpad])\n",
    "\t# 2 more space for bos and eos \n",
    "\n",
    "\tif X_validation_letter is not None:\n",
    "\n",
    "\t\tX_validation_letter_split = [list(sequence) for sequence in X_validation_letter]\n",
    "\t\tY_validation_letter_split = [list(sequence) for sequence in Y_validation_letter]\n",
    "\n",
    "\t\tX_validation_unpad= [[amino_dict[letter] for letter in sequence] + [amino_dict['<eos>']] for sequence in X_validation_letter_split]\n",
    "\t\tY_validation_unpad = [[amino_dict[letter] for letter in sequence] + [amino_dict['<eos>']] for sequence in Y_validation_letter_split]\n",
    "\n",
    "\t\tX_validation_valid_len = torch.tensor([len(sequence) for sequence in X_validation_unpad])\n",
    "\t\tY_validation_valid_len = torch.tensor([len(sequence) for sequence in Y_validation_unpad])\n",
    "\n",
    "\t\tX_validation = torch.tensor([d2l.truncate_pad(sequence, num_steps, amino_dict['<pad>']) for sequence in X_validation_unpad])\n",
    "\t\tY_validation = torch.tensor([d2l.truncate_pad(sequence, num_steps, amino_dict['<pad>']) for sequence in Y_validation_unpad])\n",
    "\t\t\n",
    "\t\treturn X_train, X_valid_len, Y_train, Y_valid_len, X_validation, X_validation_valid_len, Y_validation, Y_validation_valid_len\n",
    "\n",
    "\treturn X_train, X_valid_len, Y_train, Y_valid_len"
   ]
  },
  {
   "cell_type": "code",
   "execution_count": 25,
   "metadata": {},
   "outputs": [],
   "source": [
    "# Here we enforce the first word <bos>\n",
    "\n",
    "def train_seq2seq(net, X_train, X_valid_len, Y_train, Y_valid_len, sample_weights, lr, num_epochs, batch_size, label_smoothing, amino_dict, device, warmup=1, model_name = 'model_demo', X_validation=None, X_validation_valid_len=None, Y_validation=None, Y_validation_valid_len=None):\n",
    "\t\"\"\"Train a model for sequence to sequence.\"\"\"\n",
    "\n",
    "\tdef init_weights(module):\n",
    "\t\tif isinstance(module, (nn.Linear)):\n",
    "\t\t\tnn.init.normal_(module.weight, mean=0.0, std=0.01) # I always use 0.01 instead of 0.02\n",
    "\t\tif isinstance(module, (nn.Embedding)):\n",
    "\t\t\tnn.init.normal_(module.weight, mean=0.0, std=1e-5) # tiny values, instead of 0.01\n",
    "\n",
    "\tnet.apply(init_weights)\n",
    "\tnet.to(device)\n",
    "\toptimizer = torch.optim.Adam(net.parameters(), lr=lr, betas=(0.9, 0.98), eps = 1.0e-9)\n",
    "\tscheduler = torch.optim.lr_scheduler.LinearLR(optimizer, total_iters=warmup, start_factor=1/warmup)\n",
    "\tloss = MaskedSoftmaxCELoss()\n",
    "\tnet.train()\n",
    "\n",
    "\tanimator = d2l.Animator(xlabel='epoch', ylabel='loss')\n",
    "\ttraining_loss = []\n",
    "\tvalidation_score = []\n",
    "\n",
    "\n",
    "\tfor epoch in range(num_epochs):\n",
    "\t\t\n",
    "\t\t# training step\n",
    "\t\tnet.train()\n",
    "\n",
    "\t\ttimer = d2l.Timer()\n",
    "\t\tmetric = d2l.Accumulator(2)  # Sum of training loss, no. of tokens\n",
    "\n",
    "\t\t# random shuffle\n",
    "\t\tindex = torch.randperm(X_train.shape[0])\n",
    "\t\tX_train_shuffled = X_train[index]\n",
    "\t\tX_valid_len_shuffled = X_valid_len[index]\n",
    "\t\tY_train_shuffled = Y_train[index]\n",
    "\t\tY_valid_len_shuffled = Y_valid_len[index]\n",
    "\t\tsample_weights_shuffled = sample_weights[index]\n",
    "\n",
    "\t\t# batch operation at each epoch\n",
    "\t\tX_train_batch = torch.split(X_train_shuffled, batch_size)\n",
    "\t\tX_valid_len_batch = torch.split(X_valid_len_shuffled, batch_size)\n",
    "\t\tY_train_batch = torch.split(Y_train_shuffled, batch_size)\n",
    "\t\tY_valid_len_batch = torch.split(Y_valid_len_shuffled, batch_size)\n",
    "\t\tsample_weights_batch = torch.split(sample_weights_shuffled, batch_size)\n",
    "\n",
    "\n",
    "\n",
    "\t\tfor batch in zip(X_train_batch, X_valid_len_batch, Y_train_batch, Y_valid_len_batch, sample_weights_batch):\n",
    "\t\t\t\n",
    "\t\t\toptimizer.zero_grad()\n",
    "\t\t\tX_train_minibatch, X_valid_len_minibatch, Y_train_minibatch, Y_valid_len_minibatch, sample_weights_minibatch = [x.to(device) for x in batch]\n",
    "\t\t\tbos = torch.tensor([amino_dict['<bos>']] * Y_train_minibatch.shape[0],\n",
    "\t\t\t\t\t\t\t\tdevice=device).reshape(-1, 1)\n",
    "\t\t\tdec_input = torch.cat([bos, Y_train_minibatch[:, :-1]], 1)  # Teacher forcing -------> the first word at all batch is <bos>\n",
    "\t\t\t\n",
    "\t\t\tY_hat, _ = net(X_train_minibatch, dec_input, X_valid_len_minibatch)\n",
    "\t\t\tl = loss(Y_hat, Y_train_minibatch, Y_valid_len_minibatch, sample_weights_minibatch, label_smoothing)\n",
    "\t\t\tl.backward()  # l is loss per token\n",
    "\t\t\td2l.grad_clipping(net, 1)\n",
    "\t\t\tnum_tokens = Y_valid_len_minibatch.sum()\n",
    "\t\t\toptimizer.step()\n",
    "\t\t\tscheduler.step()\n",
    "\t\t\twith torch.no_grad():\n",
    "\t\t\t\tmetric.add(l*num_tokens, num_tokens) # loss per batch, num_tokens per batch\n",
    "\n",
    "\t\t# print + save training loss at each epoch\n",
    "\t\tanimator.add(epoch + 1, (metric[0] / metric[1],))\n",
    "\t\ttraining_loss.append(metric[0] / metric[1])\n",
    "\t\tprint(\"epoch {}, loss: {}\".format(epoch+1, metric[0] / metric[1]))\n",
    "\n",
    "\t\t# evaluation step:\n",
    "\t\tif X_validation is not None:\n",
    "\t\t\tnet.eval()\n",
    "\n",
    "\t\t\twith torch.no_grad():\n",
    "\t\t\t\t# set device\n",
    "\t\t\t\tsoftmax_layer = nn.Softmax(dim=2)\n",
    "\t\t\t\tX_validation = X_validation.to(device)\n",
    "\t\t\t\tX_validation_valid_len = X_validation_valid_len.to(device)\n",
    "\t\t\t\tY_validation = Y_validation.to(device)\n",
    "\t\t\t\tY_validation_valid_len = Y_validation_valid_len.to(device)\n",
    "\n",
    "\t\t\t\t# teacher force Y_truth\n",
    "\t\t\t\tbos = torch.tensor([amino_dict['<bos>']] * Y_validation.shape[0],\n",
    "\t\t\t\t\t\t\t\t\tdevice=device).reshape(-1, 1)\n",
    "\t\t\t\tY_true = torch.cat([bos, Y_validation[:, :-1]], 1)  # Teacher forcing -------> the first word at all batch is <bos> + keep total length same\n",
    "\t\t\t\tY_true = Y_true.type(torch.int32)\n",
    "\n",
    "\t\t\t\t# construct Y_pred\n",
    "\t\t\t\tenc_outputs = net.encoder(X_validation, X_validation_valid_len) # encoder only use X infomation\n",
    "\t\t\t\tdec_state = net.decoder.init_state(enc_outputs, X_validation_valid_len)\n",
    "\n",
    "\t\t\t\tdec_X = torch.tensor([amino_dict['<bos>']] * X_validation.shape[0],\n",
    "\t\t\t\t\t\t\t\t\tdevice=device).reshape(-1, 1) # only use info from X\n",
    "\n",
    "\t\t\t\tfor i in range(Y_validation.shape[1]-1): # here we have <bos> in pos 0\n",
    "\n",
    "\t\t\t\t\t\tY_raw, dec_state = net.decoder(dec_X, dec_state)\n",
    "\n",
    "\t\t\t\t\t\t# apply softmax to the output\n",
    "\t\t\t\t\t\tY = softmax_layer(Y_raw)\n",
    "\n",
    "\t\t\t\t\t\t# We use the token with the highest prediction likelihood as the input\n",
    "\t\t\t\t\t\t# of the decoder at the next time step\n",
    "\t\t\t\t\t\tdec_X = Y.argmax(dim=2)\n",
    "\t\t\t\t\t\tY_pred = dec_X.type(torch.int32) # (batch, 1)\n",
    "\n",
    "\t\t\t\t\t\t# we fill in prediction and do not stop\n",
    "\n",
    "\t\t\t\t# concatenate last prediction with previous ones saved by the model\n",
    "\t\t\t\tY_pred = torch.cat((net.decoder.seqX, dec_X), dim=1).type(torch.int32)\n",
    "\t\t\t\t\n",
    "\t\t\t\t# evaluate + print + save validation metric at each epoch\n",
    "\t\t\t\thamming_scores = hamming_distance_training(Y_pred, Y_true)\n",
    "\t\t\t\tvalidation_score.append(hamming_scores.cpu().numpy())\n",
    "\t\t\t\tprint(\"epoch {}, hamming distance: {}\".format(epoch+1,hamming_scores))\n",
    "\n",
    "\n",
    "\t# print useful info after all\n",
    "\tprint(f'loss {metric[0] / metric[1]:.3f}, {metric[1] / timer.stop():.1f} tokens/sec on {str(device)}')\n",
    "\n",
    "\n",
    "\t# save training loss plot\n",
    "\tplt.figure(figsize=(12, 8), facecolor=(1, 1, 1))\n",
    "\tx = list(range(1, num_epochs+1))\n",
    "\tfile_time = time.strftime('%y%b%d_%I%M%p', time.gmtime())\n",
    "\tplt.plot(x,training_loss,label=\"weighted_average_loss\")\n",
    "\tplt.xlabel('Epochs')\n",
    "\tplt.ylabel('Weighted average loss')\n",
    "\tplt.title(\"transformer <{}> training loss\".format(model_name))\n",
    "\tplt.grid()\n",
    "\tplt.legend()\n",
    "\tplt.savefig('{}_lossplot_{}.png'.format(model_name, file_time))\n",
    "\n",
    "\t# save validation metic plot\n",
    "\tplt.figure(figsize=(12, 8), facecolor=(1, 1, 1))\n",
    "\tx = list(range(1, num_epochs+1))\n",
    "\tplt.plot(x,validation_score,label=\"hamming_distance\")\n",
    "\tplt.xlabel('Epochs')\n",
    "\tplt.ylabel('Hamming distance sum')\n",
    "\tplt.title(\"transformer <{}> validation scores\".format(model_name))\n",
    "\tplt.grid()\n",
    "\tplt.legend()\n",
    "\tplt.savefig('{}_validationplot_{}.png'.format(model_name, file_time))\n",
    "\t\n",
    "\n",
    "\t# save model weights\n",
    "\t#file_time = time.strftime('%y%b%d_%I%M%p', time.gmtime())\n",
    "\tfile_name = model_name + '_' + file_time\n",
    "\n",
    "\ttorch.save(net.state_dict(), file_name)\n",
    "\t#pickle.dump(net, open(file_name, \"wb\"))"
   ]
  },
  {
   "cell_type": "code",
   "execution_count": 26,
   "metadata": {},
   "outputs": [],
   "source": [
    "# some notes about validation implementation\n",
    "\n",
    "# example: X_validation and Y_validation input has to be design to hold equal length sequence + <bos> + <eos>: \n",
    "# in this case: 8+1+1\n",
    "\n",
    "# total possible missmatch is num_steps*batch: 10*5000"
   ]
  },
  {
   "cell_type": "markdown",
   "metadata": {},
   "source": [
    "#### Transformer prediction"
   ]
  },
  {
   "cell_type": "code",
   "execution_count": 27,
   "metadata": {},
   "outputs": [],
   "source": [
    "# function to return key for any value\n",
    "\n",
    "def get_key(val, my_dict):\n",
    "    for key, value in my_dict.items():\n",
    "         if val == value:\n",
    "             return key\n",
    " \n",
    "    return \"key doesn't exist\""
   ]
  },
  {
   "cell_type": "code",
   "execution_count": 28,
   "metadata": {},
   "outputs": [],
   "source": [
    "# greedy single prediction with attention weights saved\n",
    "def predict_greedy_single(net, target_sequence_raw, amino_dict, num_steps, device, save_attention_weights=False, print_info=False):\n",
    "\t\"\"\"Predict for sequence to sequence.\"\"\"\n",
    "\n",
    "\tsoftmax_layer = nn.Softmax(dim=2)\n",
    "\ttarget_sequence = list(target_sequence_raw) # 'AEAG' -----------> ['A', 'E', 'A', 'G']\n",
    "\t\n",
    "\t# Set `net` to eval mode for inference\n",
    "\tnet.eval()\n",
    "\ttarget_sequence_unpad = [amino_dict[letter] for letter in target_sequence] + [amino_dict['<eos>']]\n",
    "\ttarget_valid_len = torch.tensor([len(target_sequence_unpad)], dtype=torch.long, device=device)\n",
    "\ttarget_sequence = d2l.truncate_pad(target_sequence_unpad, num_steps, amino_dict['<pad>'])\n",
    "\n",
    "\t# add batch to axis\n",
    "\ttarget_sequence_batch = torch.unsqueeze(torch.tensor(target_sequence, dtype=torch.long, device=device), dim=0)\n",
    "\n",
    "\tenc_outputs = net.encoder(target_sequence_batch, target_valid_len)\n",
    "\tdec_state = net.decoder.init_state(enc_outputs, target_valid_len)\n",
    "\n",
    "\t# add batch to axis\n",
    "\tdec_X = torch.unsqueeze(torch.tensor([amino_dict['<bos>']], dtype=torch.long, device=device), dim=0)\n",
    "\toutput_seq, attention_weight_seq = [], []\n",
    "\n",
    "\t# track probability\n",
    "\tprob = 1\n",
    "\n",
    "\tfor i in range(num_steps):\n",
    "\n",
    "\t\tY_raw, dec_state = net.decoder(dec_X, dec_state)\n",
    "\n",
    "\t\t# apply softmax to the output\n",
    "\t\tY = softmax_layer(Y_raw)\n",
    "\n",
    "\t\t# We use the token with the highest prediction likelihood as the input\n",
    "\t\t# of the decoder at the next time step\n",
    "\t\tdec_X = Y.argmax(dim=2)\n",
    "\t\tpred = dec_X.squeeze(dim=0).type(torch.int32).item()\n",
    "\n",
    "\t\t# track proba\n",
    "\t\tprob_i = torch.max(Y, dim=2).values.squeeze(dim=0).type(torch.float32).item()\n",
    "\t\tprob *= prob_i\n",
    "\n",
    "\t\tif print_info == True:\n",
    "\t\t\tprint(\"Conditional probability at position {} is {}\".format(i+1, prob_i))\n",
    "\n",
    "\t\t# Save attention weights (to be covered later)\n",
    "\t\tif save_attention_weights:\n",
    "\t\t\tattention_weight_seq.append(net.decoder.attention_weights())\n",
    "\t\t# Once the end-of-sequence token is predicted, the generation of the\n",
    "\t\t# output sequence is complete\n",
    "\t\tif pred == amino_dict['<eos>']:\n",
    "\t\t\tbreak\n",
    "\t\toutput_seq.append(pred) # do not append last token\n",
    "\n",
    "\tcomple_peptide_pred = \"\".join([get_key(number, amino_dict) for number in output_seq])\n",
    "\n",
    "\t# print info \n",
    "\tif print_info == True:\n",
    "\t\tprint('Input target sequence is {}, predicted complementary peptide is {}'.format(target_sequence_raw, comple_peptide_pred))\n",
    "\t\tprint(\"Condition on input, predicted probability is {}\".format(prob))\n",
    "\n",
    "\treturn comple_peptide_pred, prob, attention_weight_seq"
   ]
  },
  {
   "cell_type": "code",
   "execution_count": 29,
   "metadata": {},
   "outputs": [],
   "source": [
    "# greedy batch prediction (equal length target)\n",
    "# num_step chosen to be appropriate avoid unnecessary computational cost and correct final prediction -- prediction length + 1 + 1\n",
    "# prob includes <eos> position\n",
    "def predict_greedy_batch(net, target_sequence_list, amino_dict, num_steps, device):\n",
    "\t\"\"\"Predict for lists of target sequence to lists of complementary peptides sequence.\"\"\"\n",
    "\n",
    "\t# Set `net` to eval mode for inference\n",
    "\tnet.eval()\n",
    "\tsoftmax_layer = nn.Softmax(dim=2)\n",
    "\n",
    "\t# Preprocess batched target sequence list   \n",
    "\ttarget_sequence_list_split = [list(sequence) for sequence in target_sequence_list]\n",
    "\ttarget_sequence_unpad= [[amino_dict[letter] for letter in sequence] + [amino_dict['<eos>']] for sequence in target_sequence_list_split]\n",
    "\ttarget_valid_len = torch.tensor([len(sequence) for sequence in target_sequence_unpad], dtype=torch.long, device=device)\n",
    "\ttarget_sequence_batch = torch.tensor([d2l.truncate_pad(sequence, num_steps, amino_dict['<pad>']) for sequence in target_sequence_unpad], dtype=torch.long, device=device)\n",
    "\n",
    "\t# Encode target data\n",
    "\tenc_outputs = net.encoder(target_sequence_batch, target_valid_len)\n",
    "\tdec_state = net.decoder.init_state(enc_outputs, target_valid_len)\n",
    "\n",
    "\t# teacher enforce first \n",
    "\tdec_X = torch.tensor([amino_dict['<bos>']] * target_sequence_batch.shape[0], device=device).reshape(-1, 1) # only use info from X\n",
    "\t\n",
    "\t# track probability\n",
    "\tprob = torch.tensor([1] * target_sequence_batch.shape[0], device=device).reshape(-1, 1)\n",
    "\n",
    "\tfor i in range(num_steps-1): # here we have <bos> in pos 0\n",
    "\n",
    "\t\t\tY_raw, dec_state = net.decoder(dec_X, dec_state)\n",
    "\n",
    "\t\t\t# apply softmax to the output\n",
    "\t\t\tY = softmax_layer(Y_raw)\n",
    "\n",
    "\t\t\t# We use the token with the highest prediction likelihood as the input\n",
    "\t\t\t# of the decoder at the next time step\n",
    "\t\t\tdec_X = Y.argmax(dim=2)\n",
    "\t\t\tY_pred = dec_X.type(torch.int32) # (batch, 1)\n",
    "\n",
    "\t\t\t# track prob\n",
    "\t\t\tprob_i = torch.max(Y, dim=2).values.squeeze(dim=0)\n",
    "\t\t\tprob = torch.mul(prob, prob_i)\n",
    "\n",
    "\t\t\t# we fill in prediction and do not stop\n",
    "\n",
    "\t# concatenate last prediction with previous ones saved by the model\n",
    "\tY_pred = torch.cat((net.decoder.seqX, dec_X), dim=1).type(torch.int32)\n",
    "\n",
    "\t# join all prediction string back \n",
    "\tcomple_peptide_pred = [\"\".join([get_key(number, amino_dict) for number in output_seq]) for output_seq in Y_pred[:, 1:-1]]\n",
    "\n",
    "\t# put info together \n",
    "\tfinal = zip(target_sequence_list, comple_peptide_pred, prob.reshape(-1).tolist())\n",
    "\treturn np.array(list(final)) # to print zip object"
   ]
  },
  {
   "cell_type": "code",
   "execution_count": 30,
   "metadata": {},
   "outputs": [],
   "source": [
    "def predict_greedy_minibatch(net, target_sequence_list, amino_dict, num_steps, device, num_minibatch):\n",
    "\n",
    "\tpeptide_pred_list = []\n",
    "\n",
    "\tif len(target_sequence_list)%num_minibatch == 0:\n",
    "\t\tnum_iter = int(len(target_sequence_list)//num_minibatch)\n",
    "\telse:\n",
    "\t\tnum_iter = int(len(target_sequence_list)//num_minibatch + 1)\n",
    "\n",
    "\tfor i in range(num_iter):\n",
    "\n",
    "\t\t# deal with minibatch ending\n",
    "\t\tif num_minibatch*i+num_minibatch > len(target_sequence_list):\n",
    "\t\t\tpeptide_pred = predict_greedy_batch(net, target_sequence_list[num_minibatch*i:], amino_dict, num_steps, device)\n",
    "\t\t\tpeptide_pred_list.append(peptide_pred)\n",
    "\t\t\tbreak\n",
    "\n",
    "\t\tpeptide_pred = predict_greedy_batch(net, target_sequence_list[num_minibatch*i:num_minibatch*i+num_minibatch], amino_dict, num_steps, device)\n",
    "\t\tpeptide_pred_list.append(peptide_pred)\n",
    "\n",
    "\t\t# track iteration\n",
    "\t\tif i%1 == 0:\n",
    "\t\t\tprint(\"Iteration: {}\".format(i))\n",
    "\n",
    "\tpeptide_pred_array = np.vstack(peptide_pred_list)\n",
    "\treturn peptide_pred_array"
   ]
  },
  {
   "cell_type": "code",
   "execution_count": 31,
   "metadata": {},
   "outputs": [],
   "source": [
    "# Given one target sequence, sample a list of unique probable candidates\n",
    "# 2 common reasons: select a few less good candidates or select one better than greedy\n",
    "# 2 common uses: sample a large number if enough memory (not recommended) or select a small number but repeat frequently\n",
    "# note: repeatation is possible since last token not shown or rounding error\n",
    "\n",
    "def unique(x, dim=None):\n",
    "    \"\"\"Unique elements of x and indices of those unique elements\"\"\"\n",
    "    unique, inverse = torch.unique(\n",
    "        x, sorted=True, return_inverse=True, dim=dim)\n",
    "    perm = torch.arange(inverse.size(0), dtype=inverse.dtype,\n",
    "                        device=inverse.device)\n",
    "    inverse, perm = inverse.flip([0]), perm.flip([0])\n",
    "    return unique, inverse.new_empty(unique.size(0)).scatter_(0, inverse, perm)\n",
    "\n",
    "\n",
    "def sample_candidates(net, target_sequence_raw, num_candidates, amino_dict, num_steps, device, max_iter=100):\n",
    "\t\"\"\"Given one target sequence, sample a list of unique probable candidates.\"\"\"\n",
    "\n",
    "\t# extract special tokens to remove\n",
    "\tbos = amino_dict['<bos>']\n",
    "\teos = amino_dict['<eos>']\n",
    "\tpad = amino_dict['<pad>']\n",
    "\tunk = amino_dict['<unk>']\n",
    "\t\n",
    "\t# Set `net` to eval mode for inference\n",
    "\tnet.eval()\n",
    "\tsoftmax_layer = nn.Softmax(dim=2)\n",
    "\ttarget_sequence = list(target_sequence_raw)\n",
    "\n",
    "\t# num_remaining to produce\n",
    "\tnum_remaining = num_candidates\n",
    "\n",
    "\t# track pred and prob \n",
    "\tY_pred_track = torch.tensor([1] *(num_steps-2), device=device, dtype=torch.int32).reshape(1, -1) # track all other than <eos> and <bos>\n",
    "\tprob_track = torch.tensor([1], device=device, dtype=torch.long).reshape(1, 1) # only use info from X\n",
    "\n",
    "\t# move out for stability\n",
    "\ttarget_sequence_unpad = [amino_dict[letter] for letter in target_sequence] + [amino_dict['<eos>']]\n",
    "\n",
    "\t# track total number \n",
    "\tsamples_total = 0\n",
    "\n",
    "\tfor j in range(max_iter):\n",
    "\n",
    "\t\t# Preprocess batched target sequence\n",
    "\t\ttarget_valid_len = torch.tensor([len(target_sequence_unpad)], dtype=torch.long, device=device).repeat_interleave(num_remaining*2)\n",
    "\t\ttarget_sequence = torch.tensor(d2l.truncate_pad(target_sequence_unpad, num_steps, amino_dict['<pad>']), dtype=torch.long, device=device)\n",
    "\t\ttarget_sequence_batch = target_sequence.repeat(num_remaining*2, 1)\n",
    "\n",
    "\t\t# Encode target data\n",
    "\t\tenc_outputs = net.encoder(target_sequence_batch, target_valid_len)\n",
    "\t\tdec_state = net.decoder.init_state(enc_outputs, target_valid_len)\n",
    "\n",
    "\t\t# teacher enforce first \n",
    "\t\tdec_X = torch.tensor([amino_dict['<bos>']] * target_sequence_batch.shape[0], device=device).reshape(-1, 1) # only use info from X\n",
    "\t\t\n",
    "\t\t# track probability\n",
    "\t\tprob = torch.tensor([1] * target_sequence_batch.shape[0], dtype = torch.long, device=device).reshape(-1, 1)\n",
    "\n",
    "\n",
    "\t\tfor i in range(num_steps-2): # here we have <bos> in pos 0 and <eos> in pos -1\n",
    "\n",
    "\t\t\t\tY_raw, dec_state = net.decoder(dec_X, dec_state)\n",
    "\n",
    "\t\t\t\t# apply softmax to the output\n",
    "\t\t\t\tY = softmax_layer(Y_raw)\n",
    "\n",
    "\t\t\t\t# We sample a token from the probability distribution as the input\n",
    "\t\t\t\t# of the decoder at the next time step\n",
    "\t\t\t\t\n",
    "\t\t\t\tm = Categorical(probs=Y)\n",
    "\t\t\t\tdec_X = m.sample()\n",
    "\t\t\t\tY_pred = dec_X.type(torch.int32) # (batch, 1)\n",
    "\t\t\t\t\n",
    "\t\t\t\tindex = Y_pred.type(torch.int64)\n",
    "\t\t\t\t# track prob\n",
    "\t\t\t\tprob_i = torch.gather(Y, dim=2, index = index.unsqueeze(dim=2))\n",
    "\t\t\t\tprob_i = prob_i.squeeze(dim=2).squeeze(dim=0)\n",
    "\t\t\t\tprob = torch.mul(prob, prob_i)\n",
    "\n",
    "\t\t\t\t# we fill in prediction and do not stop for seq \n",
    "\t\t\t\t\n",
    "\t\t# concatenate last prediction with previous ones saved by the model\n",
    "\t\tY_pred = torch.cat((net.decoder.seqX, dec_X), dim=1).type(torch.int32)\n",
    "\t\tsamples_total += Y_pred.shape[0]\n",
    "\n",
    "\t\t# multiply prob for <eos> to be consistent -- go through one more time and take max\n",
    "\t\tY_raw, dec_state = net.decoder(dec_X, dec_state)\n",
    "\t\tY = softmax_layer(Y_raw)\n",
    "\t\tprob_i = torch.max(Y, dim=2).values.squeeze(dim=0)\n",
    "\t\tprob = torch.mul(prob, prob_i)\n",
    "\n",
    "\t\t# keep track\n",
    "\t\tY_pred = Y_pred[:, 1:] # remove <bos>\n",
    "\t\tY_pred_track = torch.cat((Y_pred_track, Y_pred), dim=0)\n",
    "\t\tprob_track = torch.cat((prob_track, prob), dim=0)\n",
    "\n",
    "\t\t# remove the track first rows\n",
    "\t\tif j==0:\n",
    "\t\t\tY_pred_track = Y_pred_track[1:, :]\n",
    "\t\t\tprob_track = prob_track[1:, :]\n",
    "\n",
    "\t\t# uniqueness check for the main track\n",
    "\t\tY_pred_track, unique_indices = unique(Y_pred_track, dim=0)\n",
    "\t\tprob_track = prob_track[unique_indices] # sequential undate prob track \n",
    "\t\t\n",
    "\t\t# remove the sequences containing special tokens\n",
    "\t\t\n",
    "\t\tprob_track = prob_track[~(Y_pred_track == bos).any(1), :]\n",
    "\t\tY_pred_track = Y_pred_track[~(Y_pred_track == bos).any(1), :]\n",
    "\n",
    "\t\tprob_track = prob_track[~(Y_pred_track == eos).any(1), :]\n",
    "\t\tY_pred_track = Y_pred_track[~(Y_pred_track == eos).any(1), :]\n",
    "\n",
    "\t\tprob_track = prob_track[~(Y_pred_track == pad).any(1), :]\n",
    "\t\tY_pred_track = Y_pred_track[~(Y_pred_track == pad).any(1), :]\n",
    "\n",
    "\t\tprob_track = prob_track[~(Y_pred_track == unk).any(1), :]\n",
    "\t\tY_pred_track = Y_pred_track[~(Y_pred_track == unk).any(1), :]\t\t\n",
    "\n",
    "\t\t# check whether we have enough candidates, if yes stop and produce the required amount\n",
    "\t\tif Y_pred_track.shape[0] >= num_candidates:\n",
    "\t\n",
    "\t\t\t\t# join all prediction string back \n",
    "\t\t\t\tcomple_peptide_pred = [\"\".join([get_key(number, amino_dict) for number in output_seq]) for output_seq in Y_pred_track] \n",
    "\n",
    "\t\t\t\tprob_track = prob_track.reshape(-1).tolist()\n",
    "\n",
    "\t\t\t\tdtype = [('peptide', '<U21'), ('prob', float)]\n",
    "\t\t\t\tvalues = list(zip(comple_peptide_pred, prob_track))\n",
    "\n",
    "\t\t\t\ta = np.array(values, dtype=dtype)\n",
    "\n",
    "\t\t\t\tfinal = list(np.sort(a, order='prob')[-1::-1])\n",
    "\n",
    "\t\t\t\tprint(\"number of total candidates sampled: {}\".format(samples_total))\n",
    "\t\t\t\tprint(\"number of unique top candidates successfully sampled: {}\".format(num_candidates))\n",
    "\t\t\t\treturn final[0:num_candidates]\n",
    "\n",
    "\n",
    "\t\t# if not update remaining\n",
    "\t\tnum_remaining = num_candidates - Y_pred_track.shape[0]\n",
    "\n",
    "\t# if exceeds maximum iteration, stop and return all produced \n",
    "\n",
    "\t# join all prediction string back \n",
    "\tcomple_peptide_pred = [\"\".join([get_key(number, amino_dict) for number in output_seq]) for output_seq in Y_pred_track[:, 1:-1]]\n",
    "\n",
    "\tprob_track = prob_track.reshape(-1).tolist()\n",
    "\n",
    "\tdtype = [('peptide', '<U21'), ('prob', float)]\n",
    "\tvalues = list(zip(comple_peptide_pred, prob_track))\n",
    "\n",
    "\ta = np.array(values, dtype=dtype)\n",
    "\tfinal = list(np.sort(a, order='prob')[-1::-1])\n",
    "\n",
    "\tprint(\"number of total candidates sampled: {}\".format(samples_total))\n",
    "\tprint(\"number of unique candidates successfully sampled: {}\".format(len(final)))\n",
    "\treturn final\n"
   ]
  },
  {
   "cell_type": "code",
   "execution_count": 32,
   "metadata": {},
   "outputs": [],
   "source": [
    "# evaluate a complementary peptide against a target\n",
    "def evaluate_single(net, target_sequence_raw, peptide_sequence_raw,amino_dict, num_steps, device, save_attention_weights=False, print_info=False):\n",
    "\t\"\"\"Predict for sequence to sequence.\"\"\"\n",
    "\n",
    "\t# Set `net` to eval mode for inference\n",
    "\tnet.eval()\n",
    "\tsoftmax_layer = nn.Softmax(dim=2)\n",
    "\n",
    "\ttarget_sequence = list(target_sequence_raw)\n",
    "\tpeptide_sequence = list(peptide_sequence_raw)\n",
    "\t\n",
    "\t# preprocess target sequence\n",
    "\ttarget_sequence_unpad = [amino_dict[letter] for letter in target_sequence] + [amino_dict['<eos>']]\n",
    "\ttarget_valid_len = torch.tensor([len(target_sequence_unpad)], dtype=torch.long, device=device)\n",
    "\ttarget_sequence = d2l.truncate_pad(target_sequence_unpad, num_steps, amino_dict['<pad>'])\n",
    "\ttarget_sequence_batch = torch.unsqueeze(torch.tensor(target_sequence, dtype=torch.long, device=device), dim=0)\n",
    "\n",
    "\t# preprocess peptide sequence\n",
    "\tpeptide_sequence_unpad = [amino_dict[letter] for letter in peptide_sequence] + [amino_dict['<eos>']]\n",
    "\tpeptide_valid_len = torch.tensor([len(peptide_sequence_unpad)], dtype=torch.long, device=device)\n",
    "\tpeptide_sequence = d2l.truncate_pad(peptide_sequence_unpad, num_steps, amino_dict['<pad>'])\n",
    "\tpeptide_sequence_batch = torch.unsqueeze(torch.tensor(peptide_sequence, dtype=torch.long, device=device), dim=0)\n",
    "\n",
    "\n",
    "\tenc_outputs = net.encoder(target_sequence_batch, target_valid_len)\n",
    "\tdec_state = net.decoder.init_state(enc_outputs, target_valid_len)\n",
    "\tdec_X = torch.unsqueeze(torch.tensor([amino_dict['<bos>']], dtype=torch.long, device=device), dim=0)\n",
    "\toutput_seq, attention_weight_seq = [], []\n",
    "\n",
    "\t# track probability\n",
    "\tprob = 1\n",
    "\n",
    "\tfor i in range(num_steps):\n",
    "\t\n",
    "\t\tY_raw, dec_state = net.decoder(dec_X, dec_state)\n",
    "\n",
    "\t\t# apply softmax to the output\n",
    "\t\tY = softmax_layer(Y_raw)\n",
    "\n",
    "\t\t# We use the true label as the input\n",
    "\t\t# of the decoder at the next time step\n",
    "\t\tdec_X = peptide_sequence_batch[:, i].reshape(1,-1) # (1, 1)\n",
    "\n",
    "\t\t# track proba\n",
    "\t\tindex_i =  peptide_sequence_batch[:, i].squeeze(dim=0).item()\n",
    "\t\tprob_i = Y[:, :, index_i].squeeze(dim=0).squeeze(dim=0).type(torch.float32).item()\n",
    "\t\tprob *= prob_i\n",
    "\n",
    "\t\tif print_info == True:\n",
    "\t\t\tprint(\"Conditional probability at position {} is {}\".format(i+1, prob_i))\n",
    "\n",
    "\t\t# Save attention weights (to be covered later)\n",
    "\t\tif save_attention_weights:\n",
    "\t\t\tattention_weight_seq.append(net.decoder.attention_weights())\n",
    "\n",
    "\t\tif peptide_sequence_unpad[i] == amino_dict['<eos>']:\n",
    "\t\t\tbreak\n",
    "\n",
    "\t# print info \n",
    "\tif print_info == True:\n",
    "\t\tprint('Input target sequence is {}, complementary peptide is {}, evaluated probability is {}'.format(target_sequence_raw, peptide_sequence_raw, prob))\n",
    "\n",
    "\treturn prob, attention_weight_seq"
   ]
  },
  {
   "cell_type": "markdown",
   "metadata": {},
   "source": [
    "#### Dateset target search"
   ]
  },
  {
   "cell_type": "code",
   "execution_count": 33,
   "metadata": {},
   "outputs": [],
   "source": [
    "def search_target(seq_list, seq):\n",
    "\t\"\"\"Search whether one target are in the dataset or not.\"\"\"\n",
    "\n",
    "\treturn seq_list[seq_list[:, 0]==seq]"
   ]
  },
  {
   "cell_type": "markdown",
   "metadata": {},
   "source": [
    "# Data Preprocessing"
   ]
  },
  {
   "cell_type": "markdown",
   "metadata": {},
   "source": [
    "#### Initialize amino dictionary"
   ]
  },
  {
   "cell_type": "code",
   "execution_count": 34,
   "metadata": {},
   "outputs": [],
   "source": [
    "amino_dict = {\n",
    "\t\t'<bos>': 0, \n",
    "\t\t'<eos>': 1, \n",
    "\t\t'<pad>': 2, \n",
    "\t\t'<unk>': 3,\n",
    "\t\t'A': 4,\n",
    "\t\t'C': 5,\n",
    "\t\t'D': 6, \n",
    "\t\t'E': 7,\n",
    "\t\t'F': 8, \n",
    "\t\t'G': 9, \n",
    "\t\t'H': 10,\n",
    "\t\t'I': 11, \n",
    "\t\t'K': 12, \n",
    "\t\t'L': 13, \n",
    "\t\t'M': 14, \n",
    "\t\t'N': 15, \n",
    "\t\t'P': 16, \n",
    "\t\t'Q': 17, \n",
    "\t\t'R': 18, \n",
    "\t\t'S': 19, \n",
    "\t\t'T': 20, \n",
    "\t\t'V': 21, \n",
    "\t\t'W': 22, \n",
    "\t\t'Y': 23 \n",
    "\t\t }"
   ]
  },
  {
   "cell_type": "markdown",
   "metadata": {},
   "source": [
    "#### Inspection of dataset"
   ]
  },
  {
   "cell_type": "code",
   "execution_count": 35,
   "metadata": {},
   "outputs": [
    {
     "name": "stderr",
     "output_type": "stream",
     "text": [
      "WARNING mybio.py module not found - excecution may fail\n",
      "WARNING zyggregator not found!!!\n"
     ]
    }
   ],
   "source": [
    "data_list_antiparallel= []\n",
    "data_list_parallel= []\n",
    "\n",
    "for i in range(1, 9):\n",
    "\twith open('BSn_libraries/BSn_libraries_copy/anti_frag_dic_{}.pkl'.format(i), 'rb') as f:\n",
    "\t\tdata = pickle.load(f, encoding='latin1')\n",
    "\t\tdata_list_antiparallel.append(data)\n",
    "\n",
    "\twith open('BSn_libraries/BSn_libraries_copy/para_frag_dic_{}.pkl'.format(i), 'rb') as f:\n",
    "\t\tdata = pickle.load(f, encoding='latin1')\n",
    "\t\tdata_list_parallel.append(data)"
   ]
  },
  {
   "cell_type": "markdown",
   "metadata": {},
   "source": [
    "Working score: $C = \\sum_{i=1}^{n} (l_i^2c_i - 0.01l_ip_i)$"
   ]
  },
  {
   "cell_type": "code",
   "execution_count": 36,
   "metadata": {},
   "outputs": [],
   "source": [
    "# 0 for parallel\n",
    "# 1 for antiparallel\n",
    "\n",
    "# target, complementary_seq, counts, promiscuity, length, working_score, hb_pattern, para/anti, freq\n",
    "BSn_data = []\n",
    "least_length = 3\n",
    "\n",
    "for frag_i_data in data_list_parallel[least_length-1:]:\n",
    "\tfor keys in frag_i_data.keys():\n",
    "\n",
    "\t\tlength = len(keys)\n",
    "\t\tfreq = len(frag_i_data[keys])\n",
    "\t\tfor element in frag_i_data[keys]:\n",
    "\n",
    "\t\t\tworking_score = length**2 * element.count_score - 0.01 * length * element.promiscuity_score\n",
    "\t\t\tlist_i = [keys, element.complementary_sequence, element.count_score, element.promiscuity_score, length, working_score, element.hb_pattern, 0, freq]\n",
    "\t\t\tBSn_data.append(list_i)\n",
    "\n",
    "for frag_i_data in data_list_antiparallel[least_length-1:]:\n",
    "\tfor keys in frag_i_data.keys():\n",
    "\n",
    "\t\tlength = len(keys)\n",
    "\t\tfreq = len(frag_i_data[keys])\n",
    "\t\tfor element in frag_i_data[keys]:\n",
    "\n",
    "\t\t\tworking_score = length**2 * element.count_score - 0.01 * length * element.promiscuity_score\n",
    "\t\t\tlist_i = [keys, element.complementary_sequence, element.count_score, element.promiscuity_score, length, working_score, element.hb_pattern, 1, freq]\n",
    "\t\t\tBSn_data.append(list_i)"
   ]
  },
  {
   "cell_type": "code",
   "execution_count": 37,
   "metadata": {},
   "outputs": [
    {
     "name": "stdout",
     "output_type": "stream",
     "text": [
      "2206533\n",
      "['MLGVTFE', 'ALSFETK', 1, 0, 7, 49.0, ((None, None), (0, 0), (None, None), (0, 0), (None, None), (0, 0), (None, None)), 1, 2]\n",
      "['MLGVTFE', 'VYTKTLR', 1, 0, 7, 49.0, ((0, 0), (None, None), (0, 0), (None, None), (0, 0), (None, None), (0, 0)), 1, 2]\n"
     ]
    }
   ],
   "source": [
    "print(len(BSn_data))\n",
    "print(BSn_data[2100004])\n",
    "print(BSn_data[2100005])\n",
    "# target, complementary_seq, counts, promiscuity, length, working_score, hb_pattern, para/anti, freq"
   ]
  },
  {
   "cell_type": "markdown",
   "metadata": {},
   "source": [
    "#### Tailor the dataset for training"
   ]
  },
  {
   "cell_type": "code",
   "execution_count": 38,
   "metadata": {},
   "outputs": [
    {
     "name": "stdout",
     "output_type": "stream",
     "text": [
      "(2105108, 9)\n",
      "(2105108, 9)\n"
     ]
    }
   ],
   "source": [
    "# assign working scores and remove bad samples\n",
    "\n",
    "BSn_data_dataset_sequence = np.array(BSn_data, dtype=object)\n",
    "\n",
    "# here we manually eliminate those with sample negative weights\n",
    "BSn_data_dataset1 = np.array(BSn_data_dataset_sequence[BSn_data_dataset_sequence[:, 5] >= 0])\n",
    "BSn_data_dataset2 = np.array(BSn_data_dataset_sequence[BSn_data_dataset_sequence[:, 5] >= 0])\n",
    "\n",
    "print(BSn_data_dataset1.shape)\n",
    "print(BSn_data_dataset2.shape)"
   ]
  },
  {
   "cell_type": "markdown",
   "metadata": {},
   "source": [
    "Only run one of following!"
   ]
  },
  {
   "cell_type": "code",
   "execution_count": 39,
   "metadata": {},
   "outputs": [
    {
     "name": "stdout",
     "output_type": "stream",
     "text": [
      "torch.Size([2105108, 10])\n",
      "torch.Size([2105108, 10])\n",
      "torch.Size([2105108])\n",
      "torch.Size([2105108])\n",
      "torch.Size([2105108])\n"
     ]
    }
   ],
   "source": [
    "# use the whole dataset in training\n",
    "\n",
    "num_steps_training = 10 # maximum length of training sequences\n",
    "\n",
    "X_train, X_valid_len, Y_train, Y_valid_len = preprocess_train(BSn_data_dataset1[:, 0], BSn_data_dataset1[:, 1], amino_dict, num_steps_training)\n",
    "\n",
    "working_score_tensor = torch.tensor(list(BSn_data_dataset1[:, 5]))\n",
    "\n",
    "print(X_train.shape)\n",
    "print(Y_train.shape)\n",
    "print(X_valid_len.shape)\n",
    "print(Y_valid_len.shape)\n",
    "print(working_score_tensor.shape)"
   ]
  },
  {
   "cell_type": "code",
   "execution_count": 40,
   "metadata": {},
   "outputs": [
    {
     "name": "stdout",
     "output_type": "stream",
     "text": [
      "number of length 8 samples:  (51714, 10)\n",
      "number of unique length 8 sample:  (39952, 10)\n",
      "[2087203 2061823 2089262 ... 2085913 2079467 2060323]\n",
      "------------data below---------\n",
      "(2100108,)\n",
      "(2100108,)\n",
      "(5000,)\n",
      "(5000,)\n"
     ]
    }
   ],
   "source": [
    "# or the follow two cells: 5000 unique length 8 seq\n",
    "\n",
    "target_indices = np.arange(BSn_data_dataset2.shape[0]).reshape(-1, 1)\n",
    "BSn_data_dataset2_indices = np.hstack([BSn_data_dataset2, target_indices])\n",
    "\n",
    "condition1 = np.nonzero(np.array([length==8 for length in BSn_data_dataset2_indices[:, 4]]))\n",
    "BSn_data_dataset2_indices_length8 = BSn_data_dataset2_indices[condition1]\n",
    "\n",
    "condition2 = np.nonzero(np.array([freq==1 for freq in BSn_data_dataset2_indices_length8[:, -2]]))\n",
    "BSn_data_dataset2_indices_length8_unique = BSn_data_dataset2_indices_length8[condition2]\n",
    "\n",
    "# set seed\n",
    "np.random.seed(0)\n",
    "validation_indices = np.random.choice(BSn_data_dataset2_indices_length8_unique[:, -1], size=5000, replace=False).astype(np.int32)\n",
    "\n",
    "X_train_letter = np.delete(BSn_data_dataset2[:, 0], validation_indices, axis=0)\n",
    "Y_train_letter = np.delete(BSn_data_dataset2[:, 1], validation_indices, axis=0)\n",
    "X_validation_letter = BSn_data_dataset2[validation_indices, 0]\n",
    "Y_validation_letter = BSn_data_dataset2[validation_indices, 1]\n",
    "\n",
    "print(\"number of length 8 samples: \", BSn_data_dataset2_indices_length8.shape)\n",
    "print(\"number of unique length 8 sample: \", BSn_data_dataset2_indices_length8_unique.shape)\n",
    "print(validation_indices)\n",
    "print(\"------------data below---------\")\n",
    "print(X_train_letter.shape)\n",
    "print(Y_train_letter.shape)\n",
    "print(X_validation_letter.shape)\n",
    "print(Y_validation_letter.shape)"
   ]
  },
  {
   "cell_type": "code",
   "execution_count": 41,
   "metadata": {},
   "outputs": [
    {
     "name": "stdout",
     "output_type": "stream",
     "text": [
      "---------training info----------\n",
      "torch.Size([2100108, 10])\n",
      "torch.Size([2100108, 10])\n",
      "torch.Size([2100108])\n",
      "torch.Size([2100108])\n",
      "tensor([ 8.9400,  8.5500,  8.6400,  5.8500,  3.3600,  8.1900,  7.8000, 14.9100,\n",
      "         8.4600,  8.4300,  8.3400,  7.9500,  7.5900,  5.0700, 20.0400,  7.1100,\n",
      "         6.5700,  5.2500,  5.0100,  8.9400])\n",
      "---------validation info------------\n",
      "torch.Size([5000, 10])\n",
      "torch.Size([5000, 10])\n",
      "torch.Size([5000])\n",
      "torch.Size([5000])\n"
     ]
    }
   ],
   "source": [
    "# split the data in training and validation\n",
    "\n",
    "num_steps_training = 10 # maximum length of training sequences\n",
    "\n",
    "X_train, X_valid_len, Y_train, Y_valid_len, X_validation, X_validation_valid_len, Y_validation, Y_validation_valid_len = preprocess_train(X_train_letter, Y_train_letter, amino_dict, num_steps_training, X_validation_letter=X_validation_letter, Y_validation_letter=Y_validation_letter)\n",
    "\n",
    "working_score_tensor = torch.tensor(list(np.delete(BSn_data_dataset2[:, 5], validation_indices, axis=0)))\n",
    "\n",
    "print('---------training info----------')\n",
    "print(X_train.shape)\n",
    "print(Y_train.shape)\n",
    "print(X_valid_len.shape)\n",
    "print(Y_valid_len.shape)\n",
    "print(working_score_tensor[:20])\n",
    "print('---------validation info------------')\n",
    "print(X_validation.shape)\n",
    "print(Y_validation.shape)\n",
    "print(X_validation_valid_len.shape)\n",
    "print(Y_validation_valid_len.shape)"
   ]
  },
  {
   "cell_type": "markdown",
   "metadata": {},
   "source": [
    "# Task 1: Generative ability test on protein dataset"
   ]
  },
  {
   "cell_type": "markdown",
   "metadata": {},
   "source": [
    "#### Build demo model"
   ]
  },
  {
   "cell_type": "code",
   "execution_count": null,
   "metadata": {},
   "outputs": [],
   "source": [
    "query_size, key_size, value_size, num_hiddens = 32, 32, 32, 32\n",
    "num_layers, dropout = 1, 0.1\n",
    "lr, num_epochs, batch_size, label_smoothing = 0.005, 3, 6000, 0.1\n",
    "ffn_num_input, ffn_num_hiddens, num_heads = 32, 64, 4\n",
    "\n",
    "norm_shape = [32] # 32 corresponds to the dim of such number to normalize\n",
    "device = d2l.try_gpu()"
   ]
  },
  {
   "cell_type": "code",
   "execution_count": null,
   "metadata": {},
   "outputs": [],
   "source": [
    "encoder_demo = TransformerEncoder(\n",
    "\tlen(amino_dict), key_size, query_size, value_size, num_hiddens, \n",
    "\tnorm_shape, ffn_num_input, ffn_num_hiddens, num_heads,\n",
    "\tnum_layers, dropout)\n",
    "decoder_demo = TransformerDecoder(\n",
    "\tlen(amino_dict), key_size, query_size, value_size, num_hiddens, \n",
    "\tnorm_shape, ffn_num_input, ffn_num_hiddens, num_heads,\n",
    "\tnum_layers, dropout)\n",
    "model_demo = EncoderDecoder(encoder_demo, decoder_demo)"
   ]
  },
  {
   "cell_type": "code",
   "execution_count": null,
   "metadata": {},
   "outputs": [
    {
     "name": "stdout",
     "output_type": "stream",
     "text": [
      "total number of parameters: 23320\n",
      "total number of trainable parameters: 23320\n"
     ]
    }
   ],
   "source": [
    "pytorch_total_params = sum(p.numel() for p in model_demo.parameters())\n",
    "pytorch_total_trainable_params = sum(p.numel() for p in model_demo.parameters() if p.requires_grad)\n",
    "\n",
    "print('total number of parameters: {}'.format(pytorch_total_params))\n",
    "print('total number of trainable parameters: {}'.format(pytorch_total_trainable_params))"
   ]
  },
  {
   "cell_type": "markdown",
   "metadata": {},
   "source": [
    "#### Model training"
   ]
  },
  {
   "cell_type": "code",
   "execution_count": null,
   "metadata": {},
   "outputs": [
    {
     "name": "stdout",
     "output_type": "stream",
     "text": [
      "epoch 3, loss: 1.508983238801253\n",
      "epoch 3, hamming distance: 34884\n",
      "loss 1.509, 26065.3 tokens/sec on cpu\n"
     ]
    },
    {
     "data": {
      "image/svg+xml": "<?xml version=\"1.0\" encoding=\"utf-8\" standalone=\"no\"?>\n<!DOCTYPE svg PUBLIC \"-//W3C//DTD SVG 1.1//EN\"\n  \"http://www.w3.org/Graphics/SVG/1.1/DTD/svg11.dtd\">\n<svg xmlns:xlink=\"http://www.w3.org/1999/xlink\" width=\"252.64375pt\" height=\"180.65625pt\" viewBox=\"0 0 252.64375 180.65625\" xmlns=\"http://www.w3.org/2000/svg\" version=\"1.1\">\n <metadata>\n  <rdf:RDF xmlns:dc=\"http://purl.org/dc/elements/1.1/\" xmlns:cc=\"http://creativecommons.org/ns#\" xmlns:rdf=\"http://www.w3.org/1999/02/22-rdf-syntax-ns#\">\n   <cc:Work>\n    <dc:type rdf:resource=\"http://purl.org/dc/dcmitype/StillImage\"/>\n    <dc:date>2022-07-15T15:51:07.172768</dc:date>\n    <dc:format>image/svg+xml</dc:format>\n    <dc:creator>\n     <cc:Agent>\n      <dc:title>Matplotlib v3.5.2, https://matplotlib.org/</dc:title>\n     </cc:Agent>\n    </dc:creator>\n   </cc:Work>\n  </rdf:RDF>\n </metadata>\n <defs>\n  <style type=\"text/css\">*{stroke-linejoin: round; stroke-linecap: butt}</style>\n </defs>\n <g id=\"figure_1\">\n  <g id=\"patch_1\">\n   <path d=\"M 0 180.65625 \nL 252.64375 180.65625 \nL 252.64375 0 \nL 0 0 \nL 0 180.65625 \nz\n\" style=\"fill: none\"/>\n  </g>\n  <g id=\"axes_1\">\n   <g id=\"patch_2\">\n    <path d=\"M 50.14375 143.1 \nL 245.44375 143.1 \nL 245.44375 7.2 \nL 50.14375 7.2 \nz\n\" style=\"fill: #ffffff\"/>\n   </g>\n   <g id=\"matplotlib.axis_1\">\n    <g id=\"xtick_1\">\n     <g id=\"line2d_1\">\n      <path d=\"M 59.021023 143.1 \nL 59.021023 7.2 \n\" clip-path=\"url(#pfe7605b769)\" style=\"fill: none; stroke: #b0b0b0; stroke-width: 0.8; stroke-linecap: square\"/>\n     </g>\n     <g id=\"line2d_2\">\n      <defs>\n       <path id=\"mfbd79eb955\" d=\"M 0 0 \nL 0 3.5 \n\" style=\"stroke: #000000; stroke-width: 0.8\"/>\n      </defs>\n      <g>\n       <use xlink:href=\"#mfbd79eb955\" x=\"59.021023\" y=\"143.1\" style=\"stroke: #000000; stroke-width: 0.8\"/>\n      </g>\n     </g>\n     <g id=\"text_1\">\n      <!-- 1.0 -->\n      <g transform=\"translate(51.06946 157.698438)scale(0.1 -0.1)\">\n       <defs>\n        <path id=\"DejaVuSans-31\" d=\"M 794 531 \nL 1825 531 \nL 1825 4091 \nL 703 3866 \nL 703 4441 \nL 1819 4666 \nL 2450 4666 \nL 2450 531 \nL 3481 531 \nL 3481 0 \nL 794 0 \nL 794 531 \nz\n\" transform=\"scale(0.015625)\"/>\n        <path id=\"DejaVuSans-2e\" d=\"M 684 794 \nL 1344 794 \nL 1344 0 \nL 684 0 \nL 684 794 \nz\n\" transform=\"scale(0.015625)\"/>\n        <path id=\"DejaVuSans-30\" d=\"M 2034 4250 \nQ 1547 4250 1301 3770 \nQ 1056 3291 1056 2328 \nQ 1056 1369 1301 889 \nQ 1547 409 2034 409 \nQ 2525 409 2770 889 \nQ 3016 1369 3016 2328 \nQ 3016 3291 2770 3770 \nQ 2525 4250 2034 4250 \nz\nM 2034 4750 \nQ 2819 4750 3233 4129 \nQ 3647 3509 3647 2328 \nQ 3647 1150 3233 529 \nQ 2819 -91 2034 -91 \nQ 1250 -91 836 529 \nQ 422 1150 422 2328 \nQ 422 3509 836 4129 \nQ 1250 4750 2034 4750 \nz\n\" transform=\"scale(0.015625)\"/>\n       </defs>\n       <use xlink:href=\"#DejaVuSans-31\"/>\n       <use xlink:href=\"#DejaVuSans-2e\" x=\"63.623047\"/>\n       <use xlink:href=\"#DejaVuSans-30\" x=\"95.410156\"/>\n      </g>\n     </g>\n    </g>\n    <g id=\"xtick_2\">\n     <g id=\"line2d_3\">\n      <path d=\"M 103.407386 143.1 \nL 103.407386 7.2 \n\" clip-path=\"url(#pfe7605b769)\" style=\"fill: none; stroke: #b0b0b0; stroke-width: 0.8; stroke-linecap: square\"/>\n     </g>\n     <g id=\"line2d_4\">\n      <g>\n       <use xlink:href=\"#mfbd79eb955\" x=\"103.407386\" y=\"143.1\" style=\"stroke: #000000; stroke-width: 0.8\"/>\n      </g>\n     </g>\n     <g id=\"text_2\">\n      <!-- 1.5 -->\n      <g transform=\"translate(95.455824 157.698438)scale(0.1 -0.1)\">\n       <defs>\n        <path id=\"DejaVuSans-35\" d=\"M 691 4666 \nL 3169 4666 \nL 3169 4134 \nL 1269 4134 \nL 1269 2991 \nQ 1406 3038 1543 3061 \nQ 1681 3084 1819 3084 \nQ 2600 3084 3056 2656 \nQ 3513 2228 3513 1497 \nQ 3513 744 3044 326 \nQ 2575 -91 1722 -91 \nQ 1428 -91 1123 -41 \nQ 819 9 494 109 \nL 494 744 \nQ 775 591 1075 516 \nQ 1375 441 1709 441 \nQ 2250 441 2565 725 \nQ 2881 1009 2881 1497 \nQ 2881 1984 2565 2268 \nQ 2250 2553 1709 2553 \nQ 1456 2553 1204 2497 \nQ 953 2441 691 2322 \nL 691 4666 \nz\n\" transform=\"scale(0.015625)\"/>\n       </defs>\n       <use xlink:href=\"#DejaVuSans-31\"/>\n       <use xlink:href=\"#DejaVuSans-2e\" x=\"63.623047\"/>\n       <use xlink:href=\"#DejaVuSans-35\" x=\"95.410156\"/>\n      </g>\n     </g>\n    </g>\n    <g id=\"xtick_3\">\n     <g id=\"line2d_5\">\n      <path d=\"M 147.79375 143.1 \nL 147.79375 7.2 \n\" clip-path=\"url(#pfe7605b769)\" style=\"fill: none; stroke: #b0b0b0; stroke-width: 0.8; stroke-linecap: square\"/>\n     </g>\n     <g id=\"line2d_6\">\n      <g>\n       <use xlink:href=\"#mfbd79eb955\" x=\"147.79375\" y=\"143.1\" style=\"stroke: #000000; stroke-width: 0.8\"/>\n      </g>\n     </g>\n     <g id=\"text_3\">\n      <!-- 2.0 -->\n      <g transform=\"translate(139.842188 157.698438)scale(0.1 -0.1)\">\n       <defs>\n        <path id=\"DejaVuSans-32\" d=\"M 1228 531 \nL 3431 531 \nL 3431 0 \nL 469 0 \nL 469 531 \nQ 828 903 1448 1529 \nQ 2069 2156 2228 2338 \nQ 2531 2678 2651 2914 \nQ 2772 3150 2772 3378 \nQ 2772 3750 2511 3984 \nQ 2250 4219 1831 4219 \nQ 1534 4219 1204 4116 \nQ 875 4013 500 3803 \nL 500 4441 \nQ 881 4594 1212 4672 \nQ 1544 4750 1819 4750 \nQ 2544 4750 2975 4387 \nQ 3406 4025 3406 3419 \nQ 3406 3131 3298 2873 \nQ 3191 2616 2906 2266 \nQ 2828 2175 2409 1742 \nQ 1991 1309 1228 531 \nz\n\" transform=\"scale(0.015625)\"/>\n       </defs>\n       <use xlink:href=\"#DejaVuSans-32\"/>\n       <use xlink:href=\"#DejaVuSans-2e\" x=\"63.623047\"/>\n       <use xlink:href=\"#DejaVuSans-30\" x=\"95.410156\"/>\n      </g>\n     </g>\n    </g>\n    <g id=\"xtick_4\">\n     <g id=\"line2d_7\">\n      <path d=\"M 192.180114 143.1 \nL 192.180114 7.2 \n\" clip-path=\"url(#pfe7605b769)\" style=\"fill: none; stroke: #b0b0b0; stroke-width: 0.8; stroke-linecap: square\"/>\n     </g>\n     <g id=\"line2d_8\">\n      <g>\n       <use xlink:href=\"#mfbd79eb955\" x=\"192.180114\" y=\"143.1\" style=\"stroke: #000000; stroke-width: 0.8\"/>\n      </g>\n     </g>\n     <g id=\"text_4\">\n      <!-- 2.5 -->\n      <g transform=\"translate(184.228551 157.698438)scale(0.1 -0.1)\">\n       <use xlink:href=\"#DejaVuSans-32\"/>\n       <use xlink:href=\"#DejaVuSans-2e\" x=\"63.623047\"/>\n       <use xlink:href=\"#DejaVuSans-35\" x=\"95.410156\"/>\n      </g>\n     </g>\n    </g>\n    <g id=\"xtick_5\">\n     <g id=\"line2d_9\">\n      <path d=\"M 236.566477 143.1 \nL 236.566477 7.2 \n\" clip-path=\"url(#pfe7605b769)\" style=\"fill: none; stroke: #b0b0b0; stroke-width: 0.8; stroke-linecap: square\"/>\n     </g>\n     <g id=\"line2d_10\">\n      <g>\n       <use xlink:href=\"#mfbd79eb955\" x=\"236.566477\" y=\"143.1\" style=\"stroke: #000000; stroke-width: 0.8\"/>\n      </g>\n     </g>\n     <g id=\"text_5\">\n      <!-- 3.0 -->\n      <g transform=\"translate(228.614915 157.698438)scale(0.1 -0.1)\">\n       <defs>\n        <path id=\"DejaVuSans-33\" d=\"M 2597 2516 \nQ 3050 2419 3304 2112 \nQ 3559 1806 3559 1356 \nQ 3559 666 3084 287 \nQ 2609 -91 1734 -91 \nQ 1441 -91 1130 -33 \nQ 819 25 488 141 \nL 488 750 \nQ 750 597 1062 519 \nQ 1375 441 1716 441 \nQ 2309 441 2620 675 \nQ 2931 909 2931 1356 \nQ 2931 1769 2642 2001 \nQ 2353 2234 1838 2234 \nL 1294 2234 \nL 1294 2753 \nL 1863 2753 \nQ 2328 2753 2575 2939 \nQ 2822 3125 2822 3475 \nQ 2822 3834 2567 4026 \nQ 2313 4219 1838 4219 \nQ 1578 4219 1281 4162 \nQ 984 4106 628 3988 \nL 628 4550 \nQ 988 4650 1302 4700 \nQ 1616 4750 1894 4750 \nQ 2613 4750 3031 4423 \nQ 3450 4097 3450 3541 \nQ 3450 3153 3228 2886 \nQ 3006 2619 2597 2516 \nz\n\" transform=\"scale(0.015625)\"/>\n       </defs>\n       <use xlink:href=\"#DejaVuSans-33\"/>\n       <use xlink:href=\"#DejaVuSans-2e\" x=\"63.623047\"/>\n       <use xlink:href=\"#DejaVuSans-30\" x=\"95.410156\"/>\n      </g>\n     </g>\n    </g>\n    <g id=\"text_6\">\n     <!-- epoch -->\n     <g transform=\"translate(132.565625 171.376563)scale(0.1 -0.1)\">\n      <defs>\n       <path id=\"DejaVuSans-65\" d=\"M 3597 1894 \nL 3597 1613 \nL 953 1613 \nQ 991 1019 1311 708 \nQ 1631 397 2203 397 \nQ 2534 397 2845 478 \nQ 3156 559 3463 722 \nL 3463 178 \nQ 3153 47 2828 -22 \nQ 2503 -91 2169 -91 \nQ 1331 -91 842 396 \nQ 353 884 353 1716 \nQ 353 2575 817 3079 \nQ 1281 3584 2069 3584 \nQ 2775 3584 3186 3129 \nQ 3597 2675 3597 1894 \nz\nM 3022 2063 \nQ 3016 2534 2758 2815 \nQ 2500 3097 2075 3097 \nQ 1594 3097 1305 2825 \nQ 1016 2553 972 2059 \nL 3022 2063 \nz\n\" transform=\"scale(0.015625)\"/>\n       <path id=\"DejaVuSans-70\" d=\"M 1159 525 \nL 1159 -1331 \nL 581 -1331 \nL 581 3500 \nL 1159 3500 \nL 1159 2969 \nQ 1341 3281 1617 3432 \nQ 1894 3584 2278 3584 \nQ 2916 3584 3314 3078 \nQ 3713 2572 3713 1747 \nQ 3713 922 3314 415 \nQ 2916 -91 2278 -91 \nQ 1894 -91 1617 61 \nQ 1341 213 1159 525 \nz\nM 3116 1747 \nQ 3116 2381 2855 2742 \nQ 2594 3103 2138 3103 \nQ 1681 3103 1420 2742 \nQ 1159 2381 1159 1747 \nQ 1159 1113 1420 752 \nQ 1681 391 2138 391 \nQ 2594 391 2855 752 \nQ 3116 1113 3116 1747 \nz\n\" transform=\"scale(0.015625)\"/>\n       <path id=\"DejaVuSans-6f\" d=\"M 1959 3097 \nQ 1497 3097 1228 2736 \nQ 959 2375 959 1747 \nQ 959 1119 1226 758 \nQ 1494 397 1959 397 \nQ 2419 397 2687 759 \nQ 2956 1122 2956 1747 \nQ 2956 2369 2687 2733 \nQ 2419 3097 1959 3097 \nz\nM 1959 3584 \nQ 2709 3584 3137 3096 \nQ 3566 2609 3566 1747 \nQ 3566 888 3137 398 \nQ 2709 -91 1959 -91 \nQ 1206 -91 779 398 \nQ 353 888 353 1747 \nQ 353 2609 779 3096 \nQ 1206 3584 1959 3584 \nz\n\" transform=\"scale(0.015625)\"/>\n       <path id=\"DejaVuSans-63\" d=\"M 3122 3366 \nL 3122 2828 \nQ 2878 2963 2633 3030 \nQ 2388 3097 2138 3097 \nQ 1578 3097 1268 2742 \nQ 959 2388 959 1747 \nQ 959 1106 1268 751 \nQ 1578 397 2138 397 \nQ 2388 397 2633 464 \nQ 2878 531 3122 666 \nL 3122 134 \nQ 2881 22 2623 -34 \nQ 2366 -91 2075 -91 \nQ 1284 -91 818 406 \nQ 353 903 353 1747 \nQ 353 2603 823 3093 \nQ 1294 3584 2113 3584 \nQ 2378 3584 2631 3529 \nQ 2884 3475 3122 3366 \nz\n\" transform=\"scale(0.015625)\"/>\n       <path id=\"DejaVuSans-68\" d=\"M 3513 2113 \nL 3513 0 \nL 2938 0 \nL 2938 2094 \nQ 2938 2591 2744 2837 \nQ 2550 3084 2163 3084 \nQ 1697 3084 1428 2787 \nQ 1159 2491 1159 1978 \nL 1159 0 \nL 581 0 \nL 581 4863 \nL 1159 4863 \nL 1159 2956 \nQ 1366 3272 1645 3428 \nQ 1925 3584 2291 3584 \nQ 2894 3584 3203 3211 \nQ 3513 2838 3513 2113 \nz\n\" transform=\"scale(0.015625)\"/>\n      </defs>\n      <use xlink:href=\"#DejaVuSans-65\"/>\n      <use xlink:href=\"#DejaVuSans-70\" x=\"61.523438\"/>\n      <use xlink:href=\"#DejaVuSans-6f\" x=\"125\"/>\n      <use xlink:href=\"#DejaVuSans-63\" x=\"186.181641\"/>\n      <use xlink:href=\"#DejaVuSans-68\" x=\"241.162109\"/>\n     </g>\n    </g>\n   </g>\n   <g id=\"matplotlib.axis_2\">\n    <g id=\"ytick_1\">\n     <g id=\"line2d_11\">\n      <path d=\"M 50.14375 134.428712 \nL 245.44375 134.428712 \n\" clip-path=\"url(#pfe7605b769)\" style=\"fill: none; stroke: #b0b0b0; stroke-width: 0.8; stroke-linecap: square\"/>\n     </g>\n     <g id=\"line2d_12\">\n      <defs>\n       <path id=\"mb4eb5a2207\" d=\"M 0 0 \nL -3.5 0 \n\" style=\"stroke: #000000; stroke-width: 0.8\"/>\n      </defs>\n      <g>\n       <use xlink:href=\"#mb4eb5a2207\" x=\"50.14375\" y=\"134.428712\" style=\"stroke: #000000; stroke-width: 0.8\"/>\n      </g>\n     </g>\n     <g id=\"text_7\">\n      <!-- 1.51 -->\n      <g transform=\"translate(20.878125 138.22793)scale(0.1 -0.1)\">\n       <use xlink:href=\"#DejaVuSans-31\"/>\n       <use xlink:href=\"#DejaVuSans-2e\" x=\"63.623047\"/>\n       <use xlink:href=\"#DejaVuSans-35\" x=\"95.410156\"/>\n       <use xlink:href=\"#DejaVuSans-31\" x=\"159.033203\"/>\n      </g>\n     </g>\n    </g>\n    <g id=\"ytick_2\">\n     <g id=\"line2d_13\">\n      <path d=\"M 50.14375 109.899691 \nL 245.44375 109.899691 \n\" clip-path=\"url(#pfe7605b769)\" style=\"fill: none; stroke: #b0b0b0; stroke-width: 0.8; stroke-linecap: square\"/>\n     </g>\n     <g id=\"line2d_14\">\n      <g>\n       <use xlink:href=\"#mb4eb5a2207\" x=\"50.14375\" y=\"109.899691\" style=\"stroke: #000000; stroke-width: 0.8\"/>\n      </g>\n     </g>\n     <g id=\"text_8\">\n      <!-- 1.52 -->\n      <g transform=\"translate(20.878125 113.69891)scale(0.1 -0.1)\">\n       <use xlink:href=\"#DejaVuSans-31\"/>\n       <use xlink:href=\"#DejaVuSans-2e\" x=\"63.623047\"/>\n       <use xlink:href=\"#DejaVuSans-35\" x=\"95.410156\"/>\n       <use xlink:href=\"#DejaVuSans-32\" x=\"159.033203\"/>\n      </g>\n     </g>\n    </g>\n    <g id=\"ytick_3\">\n     <g id=\"line2d_15\">\n      <path d=\"M 50.14375 85.370671 \nL 245.44375 85.370671 \n\" clip-path=\"url(#pfe7605b769)\" style=\"fill: none; stroke: #b0b0b0; stroke-width: 0.8; stroke-linecap: square\"/>\n     </g>\n     <g id=\"line2d_16\">\n      <g>\n       <use xlink:href=\"#mb4eb5a2207\" x=\"50.14375\" y=\"85.370671\" style=\"stroke: #000000; stroke-width: 0.8\"/>\n      </g>\n     </g>\n     <g id=\"text_9\">\n      <!-- 1.53 -->\n      <g transform=\"translate(20.878125 89.16989)scale(0.1 -0.1)\">\n       <use xlink:href=\"#DejaVuSans-31\"/>\n       <use xlink:href=\"#DejaVuSans-2e\" x=\"63.623047\"/>\n       <use xlink:href=\"#DejaVuSans-35\" x=\"95.410156\"/>\n       <use xlink:href=\"#DejaVuSans-33\" x=\"159.033203\"/>\n      </g>\n     </g>\n    </g>\n    <g id=\"ytick_4\">\n     <g id=\"line2d_17\">\n      <path d=\"M 50.14375 60.841651 \nL 245.44375 60.841651 \n\" clip-path=\"url(#pfe7605b769)\" style=\"fill: none; stroke: #b0b0b0; stroke-width: 0.8; stroke-linecap: square\"/>\n     </g>\n     <g id=\"line2d_18\">\n      <g>\n       <use xlink:href=\"#mb4eb5a2207\" x=\"50.14375\" y=\"60.841651\" style=\"stroke: #000000; stroke-width: 0.8\"/>\n      </g>\n     </g>\n     <g id=\"text_10\">\n      <!-- 1.54 -->\n      <g transform=\"translate(20.878125 64.640869)scale(0.1 -0.1)\">\n       <defs>\n        <path id=\"DejaVuSans-34\" d=\"M 2419 4116 \nL 825 1625 \nL 2419 1625 \nL 2419 4116 \nz\nM 2253 4666 \nL 3047 4666 \nL 3047 1625 \nL 3713 1625 \nL 3713 1100 \nL 3047 1100 \nL 3047 0 \nL 2419 0 \nL 2419 1100 \nL 313 1100 \nL 313 1709 \nL 2253 4666 \nz\n\" transform=\"scale(0.015625)\"/>\n       </defs>\n       <use xlink:href=\"#DejaVuSans-31\"/>\n       <use xlink:href=\"#DejaVuSans-2e\" x=\"63.623047\"/>\n       <use xlink:href=\"#DejaVuSans-35\" x=\"95.410156\"/>\n       <use xlink:href=\"#DejaVuSans-34\" x=\"159.033203\"/>\n      </g>\n     </g>\n    </g>\n    <g id=\"ytick_5\">\n     <g id=\"line2d_19\">\n      <path d=\"M 50.14375 36.31263 \nL 245.44375 36.31263 \n\" clip-path=\"url(#pfe7605b769)\" style=\"fill: none; stroke: #b0b0b0; stroke-width: 0.8; stroke-linecap: square\"/>\n     </g>\n     <g id=\"line2d_20\">\n      <g>\n       <use xlink:href=\"#mb4eb5a2207\" x=\"50.14375\" y=\"36.31263\" style=\"stroke: #000000; stroke-width: 0.8\"/>\n      </g>\n     </g>\n     <g id=\"text_11\">\n      <!-- 1.55 -->\n      <g transform=\"translate(20.878125 40.111849)scale(0.1 -0.1)\">\n       <use xlink:href=\"#DejaVuSans-31\"/>\n       <use xlink:href=\"#DejaVuSans-2e\" x=\"63.623047\"/>\n       <use xlink:href=\"#DejaVuSans-35\" x=\"95.410156\"/>\n       <use xlink:href=\"#DejaVuSans-35\" x=\"159.033203\"/>\n      </g>\n     </g>\n    </g>\n    <g id=\"ytick_6\">\n     <g id=\"line2d_21\">\n      <path d=\"M 50.14375 11.78361 \nL 245.44375 11.78361 \n\" clip-path=\"url(#pfe7605b769)\" style=\"fill: none; stroke: #b0b0b0; stroke-width: 0.8; stroke-linecap: square\"/>\n     </g>\n     <g id=\"line2d_22\">\n      <g>\n       <use xlink:href=\"#mb4eb5a2207\" x=\"50.14375\" y=\"11.78361\" style=\"stroke: #000000; stroke-width: 0.8\"/>\n      </g>\n     </g>\n     <g id=\"text_12\">\n      <!-- 1.56 -->\n      <g transform=\"translate(20.878125 15.582829)scale(0.1 -0.1)\">\n       <defs>\n        <path id=\"DejaVuSans-36\" d=\"M 2113 2584 \nQ 1688 2584 1439 2293 \nQ 1191 2003 1191 1497 \nQ 1191 994 1439 701 \nQ 1688 409 2113 409 \nQ 2538 409 2786 701 \nQ 3034 994 3034 1497 \nQ 3034 2003 2786 2293 \nQ 2538 2584 2113 2584 \nz\nM 3366 4563 \nL 3366 3988 \nQ 3128 4100 2886 4159 \nQ 2644 4219 2406 4219 \nQ 1781 4219 1451 3797 \nQ 1122 3375 1075 2522 \nQ 1259 2794 1537 2939 \nQ 1816 3084 2150 3084 \nQ 2853 3084 3261 2657 \nQ 3669 2231 3669 1497 \nQ 3669 778 3244 343 \nQ 2819 -91 2113 -91 \nQ 1303 -91 875 529 \nQ 447 1150 447 2328 \nQ 447 3434 972 4092 \nQ 1497 4750 2381 4750 \nQ 2619 4750 2861 4703 \nQ 3103 4656 3366 4563 \nz\n\" transform=\"scale(0.015625)\"/>\n       </defs>\n       <use xlink:href=\"#DejaVuSans-31\"/>\n       <use xlink:href=\"#DejaVuSans-2e\" x=\"63.623047\"/>\n       <use xlink:href=\"#DejaVuSans-35\" x=\"95.410156\"/>\n       <use xlink:href=\"#DejaVuSans-36\" x=\"159.033203\"/>\n      </g>\n     </g>\n    </g>\n    <g id=\"text_13\">\n     <!-- loss -->\n     <g transform=\"translate(14.798437 84.807813)rotate(-90)scale(0.1 -0.1)\">\n      <defs>\n       <path id=\"DejaVuSans-6c\" d=\"M 603 4863 \nL 1178 4863 \nL 1178 0 \nL 603 0 \nL 603 4863 \nz\n\" transform=\"scale(0.015625)\"/>\n       <path id=\"DejaVuSans-73\" d=\"M 2834 3397 \nL 2834 2853 \nQ 2591 2978 2328 3040 \nQ 2066 3103 1784 3103 \nQ 1356 3103 1142 2972 \nQ 928 2841 928 2578 \nQ 928 2378 1081 2264 \nQ 1234 2150 1697 2047 \nL 1894 2003 \nQ 2506 1872 2764 1633 \nQ 3022 1394 3022 966 \nQ 3022 478 2636 193 \nQ 2250 -91 1575 -91 \nQ 1294 -91 989 -36 \nQ 684 19 347 128 \nL 347 722 \nQ 666 556 975 473 \nQ 1284 391 1588 391 \nQ 1994 391 2212 530 \nQ 2431 669 2431 922 \nQ 2431 1156 2273 1281 \nQ 2116 1406 1581 1522 \nL 1381 1569 \nQ 847 1681 609 1914 \nQ 372 2147 372 2553 \nQ 372 3047 722 3315 \nQ 1072 3584 1716 3584 \nQ 2034 3584 2315 3537 \nQ 2597 3491 2834 3397 \nz\n\" transform=\"scale(0.015625)\"/>\n      </defs>\n      <use xlink:href=\"#DejaVuSans-6c\"/>\n      <use xlink:href=\"#DejaVuSans-6f\" x=\"27.783203\"/>\n      <use xlink:href=\"#DejaVuSans-73\" x=\"88.964844\"/>\n      <use xlink:href=\"#DejaVuSans-73\" x=\"141.064453\"/>\n     </g>\n    </g>\n   </g>\n   <g id=\"line2d_23\">\n    <path d=\"M 59.021023 13.377273 \nL 147.79375 114.785596 \nL 236.566477 136.922727 \n\" clip-path=\"url(#pfe7605b769)\" style=\"fill: none; stroke: #1f77b4; stroke-width: 1.5; stroke-linecap: square\"/>\n   </g>\n   <g id=\"patch_3\">\n    <path d=\"M 50.14375 143.1 \nL 50.14375 7.2 \n\" style=\"fill: none; stroke: #000000; stroke-width: 0.8; stroke-linejoin: miter; stroke-linecap: square\"/>\n   </g>\n   <g id=\"patch_4\">\n    <path d=\"M 245.44375 143.1 \nL 245.44375 7.2 \n\" style=\"fill: none; stroke: #000000; stroke-width: 0.8; stroke-linejoin: miter; stroke-linecap: square\"/>\n   </g>\n   <g id=\"patch_5\">\n    <path d=\"M 50.14375 143.1 \nL 245.44375 143.1 \n\" style=\"fill: none; stroke: #000000; stroke-width: 0.8; stroke-linejoin: miter; stroke-linecap: square\"/>\n   </g>\n   <g id=\"patch_6\">\n    <path d=\"M 50.14375 7.2 \nL 245.44375 7.2 \n\" style=\"fill: none; stroke: #000000; stroke-width: 0.8; stroke-linejoin: miter; stroke-linecap: square\"/>\n   </g>\n  </g>\n </g>\n <defs>\n  <clipPath id=\"pfe7605b769\">\n   <rect x=\"50.14375\" y=\"7.2\" width=\"195.3\" height=\"135.9\"/>\n  </clipPath>\n </defs>\n</svg>\n",
      "text/plain": [
       "<Figure size 252x180 with 1 Axes>"
      ]
     },
     "metadata": {
      "needs_background": "light"
     },
     "output_type": "display_data"
    },
    {
     "data": {
      "image/svg+xml": "<?xml version=\"1.0\" encoding=\"utf-8\" standalone=\"no\"?>\n<!DOCTYPE svg PUBLIC \"-//W3C//DTD SVG 1.1//EN\"\n  \"http://www.w3.org/Graphics/SVG/1.1/DTD/svg11.dtd\">\n<svg xmlns:xlink=\"http://www.w3.org/1999/xlink\" width=\"726.94375pt\" height=\"494.754375pt\" viewBox=\"0 0 726.94375 494.754375\" xmlns=\"http://www.w3.org/2000/svg\" version=\"1.1\">\n <metadata>\n  <rdf:RDF xmlns:dc=\"http://purl.org/dc/elements/1.1/\" xmlns:cc=\"http://creativecommons.org/ns#\" xmlns:rdf=\"http://www.w3.org/1999/02/22-rdf-syntax-ns#\">\n   <cc:Work>\n    <dc:type rdf:resource=\"http://purl.org/dc/dcmitype/StillImage\"/>\n    <dc:date>2022-07-15T15:51:07.322701</dc:date>\n    <dc:format>image/svg+xml</dc:format>\n    <dc:creator>\n     <cc:Agent>\n      <dc:title>Matplotlib v3.5.2, https://matplotlib.org/</dc:title>\n     </cc:Agent>\n    </dc:creator>\n   </cc:Work>\n  </rdf:RDF>\n </metadata>\n <defs>\n  <style type=\"text/css\">*{stroke-linejoin: round; stroke-linecap: butt}</style>\n </defs>\n <g id=\"figure_1\">\n  <g id=\"patch_1\">\n   <path d=\"M 0 494.754375 \nL 726.94375 494.754375 \nL 726.94375 0 \nL 0 0 \nz\n\" style=\"fill: #ffffff\"/>\n  </g>\n  <g id=\"axes_1\">\n   <g id=\"patch_2\">\n    <path d=\"M 50.14375 457.198125 \nL 719.74375 457.198125 \nL 719.74375 22.318125 \nL 50.14375 22.318125 \nz\n\" style=\"fill: #ffffff\"/>\n   </g>\n   <g id=\"matplotlib.axis_1\">\n    <g id=\"xtick_1\">\n     <g id=\"line2d_1\">\n      <path d=\"M 80.580114 457.198125 \nL 80.580114 22.318125 \n\" clip-path=\"url(#pd83c086792)\" style=\"fill: none; stroke: #b0b0b0; stroke-width: 0.8; stroke-linecap: square\"/>\n     </g>\n     <g id=\"line2d_2\">\n      <defs>\n       <path id=\"m534cce887f\" d=\"M 0 0 \nL 0 3.5 \n\" style=\"stroke: #000000; stroke-width: 0.8\"/>\n      </defs>\n      <g>\n       <use xlink:href=\"#m534cce887f\" x=\"80.580114\" y=\"457.198125\" style=\"stroke: #000000; stroke-width: 0.8\"/>\n      </g>\n     </g>\n     <g id=\"text_1\">\n      <!-- 1.00 -->\n      <g transform=\"translate(69.447301 471.796562)scale(0.1 -0.1)\">\n       <defs>\n        <path id=\"DejaVuSans-31\" d=\"M 794 531 \nL 1825 531 \nL 1825 4091 \nL 703 3866 \nL 703 4441 \nL 1819 4666 \nL 2450 4666 \nL 2450 531 \nL 3481 531 \nL 3481 0 \nL 794 0 \nL 794 531 \nz\n\" transform=\"scale(0.015625)\"/>\n        <path id=\"DejaVuSans-2e\" d=\"M 684 794 \nL 1344 794 \nL 1344 0 \nL 684 0 \nL 684 794 \nz\n\" transform=\"scale(0.015625)\"/>\n        <path id=\"DejaVuSans-30\" d=\"M 2034 4250 \nQ 1547 4250 1301 3770 \nQ 1056 3291 1056 2328 \nQ 1056 1369 1301 889 \nQ 1547 409 2034 409 \nQ 2525 409 2770 889 \nQ 3016 1369 3016 2328 \nQ 3016 3291 2770 3770 \nQ 2525 4250 2034 4250 \nz\nM 2034 4750 \nQ 2819 4750 3233 4129 \nQ 3647 3509 3647 2328 \nQ 3647 1150 3233 529 \nQ 2819 -91 2034 -91 \nQ 1250 -91 836 529 \nQ 422 1150 422 2328 \nQ 422 3509 836 4129 \nQ 1250 4750 2034 4750 \nz\n\" transform=\"scale(0.015625)\"/>\n       </defs>\n       <use xlink:href=\"#DejaVuSans-31\"/>\n       <use xlink:href=\"#DejaVuSans-2e\" x=\"63.623047\"/>\n       <use xlink:href=\"#DejaVuSans-30\" x=\"95.410156\"/>\n       <use xlink:href=\"#DejaVuSans-30\" x=\"159.033203\"/>\n      </g>\n     </g>\n    </g>\n    <g id=\"xtick_2\">\n     <g id=\"line2d_3\">\n      <path d=\"M 156.671023 457.198125 \nL 156.671023 22.318125 \n\" clip-path=\"url(#pd83c086792)\" style=\"fill: none; stroke: #b0b0b0; stroke-width: 0.8; stroke-linecap: square\"/>\n     </g>\n     <g id=\"line2d_4\">\n      <g>\n       <use xlink:href=\"#m534cce887f\" x=\"156.671023\" y=\"457.198125\" style=\"stroke: #000000; stroke-width: 0.8\"/>\n      </g>\n     </g>\n     <g id=\"text_2\">\n      <!-- 1.25 -->\n      <g transform=\"translate(145.53821 471.796562)scale(0.1 -0.1)\">\n       <defs>\n        <path id=\"DejaVuSans-32\" d=\"M 1228 531 \nL 3431 531 \nL 3431 0 \nL 469 0 \nL 469 531 \nQ 828 903 1448 1529 \nQ 2069 2156 2228 2338 \nQ 2531 2678 2651 2914 \nQ 2772 3150 2772 3378 \nQ 2772 3750 2511 3984 \nQ 2250 4219 1831 4219 \nQ 1534 4219 1204 4116 \nQ 875 4013 500 3803 \nL 500 4441 \nQ 881 4594 1212 4672 \nQ 1544 4750 1819 4750 \nQ 2544 4750 2975 4387 \nQ 3406 4025 3406 3419 \nQ 3406 3131 3298 2873 \nQ 3191 2616 2906 2266 \nQ 2828 2175 2409 1742 \nQ 1991 1309 1228 531 \nz\n\" transform=\"scale(0.015625)\"/>\n        <path id=\"DejaVuSans-35\" d=\"M 691 4666 \nL 3169 4666 \nL 3169 4134 \nL 1269 4134 \nL 1269 2991 \nQ 1406 3038 1543 3061 \nQ 1681 3084 1819 3084 \nQ 2600 3084 3056 2656 \nQ 3513 2228 3513 1497 \nQ 3513 744 3044 326 \nQ 2575 -91 1722 -91 \nQ 1428 -91 1123 -41 \nQ 819 9 494 109 \nL 494 744 \nQ 775 591 1075 516 \nQ 1375 441 1709 441 \nQ 2250 441 2565 725 \nQ 2881 1009 2881 1497 \nQ 2881 1984 2565 2268 \nQ 2250 2553 1709 2553 \nQ 1456 2553 1204 2497 \nQ 953 2441 691 2322 \nL 691 4666 \nz\n\" transform=\"scale(0.015625)\"/>\n       </defs>\n       <use xlink:href=\"#DejaVuSans-31\"/>\n       <use xlink:href=\"#DejaVuSans-2e\" x=\"63.623047\"/>\n       <use xlink:href=\"#DejaVuSans-32\" x=\"95.410156\"/>\n       <use xlink:href=\"#DejaVuSans-35\" x=\"159.033203\"/>\n      </g>\n     </g>\n    </g>\n    <g id=\"xtick_3\">\n     <g id=\"line2d_5\">\n      <path d=\"M 232.761932 457.198125 \nL 232.761932 22.318125 \n\" clip-path=\"url(#pd83c086792)\" style=\"fill: none; stroke: #b0b0b0; stroke-width: 0.8; stroke-linecap: square\"/>\n     </g>\n     <g id=\"line2d_6\">\n      <g>\n       <use xlink:href=\"#m534cce887f\" x=\"232.761932\" y=\"457.198125\" style=\"stroke: #000000; stroke-width: 0.8\"/>\n      </g>\n     </g>\n     <g id=\"text_3\">\n      <!-- 1.50 -->\n      <g transform=\"translate(221.629119 471.796562)scale(0.1 -0.1)\">\n       <use xlink:href=\"#DejaVuSans-31\"/>\n       <use xlink:href=\"#DejaVuSans-2e\" x=\"63.623047\"/>\n       <use xlink:href=\"#DejaVuSans-35\" x=\"95.410156\"/>\n       <use xlink:href=\"#DejaVuSans-30\" x=\"159.033203\"/>\n      </g>\n     </g>\n    </g>\n    <g id=\"xtick_4\">\n     <g id=\"line2d_7\">\n      <path d=\"M 308.852841 457.198125 \nL 308.852841 22.318125 \n\" clip-path=\"url(#pd83c086792)\" style=\"fill: none; stroke: #b0b0b0; stroke-width: 0.8; stroke-linecap: square\"/>\n     </g>\n     <g id=\"line2d_8\">\n      <g>\n       <use xlink:href=\"#m534cce887f\" x=\"308.852841\" y=\"457.198125\" style=\"stroke: #000000; stroke-width: 0.8\"/>\n      </g>\n     </g>\n     <g id=\"text_4\">\n      <!-- 1.75 -->\n      <g transform=\"translate(297.720028 471.796562)scale(0.1 -0.1)\">\n       <defs>\n        <path id=\"DejaVuSans-37\" d=\"M 525 4666 \nL 3525 4666 \nL 3525 4397 \nL 1831 0 \nL 1172 0 \nL 2766 4134 \nL 525 4134 \nL 525 4666 \nz\n\" transform=\"scale(0.015625)\"/>\n       </defs>\n       <use xlink:href=\"#DejaVuSans-31\"/>\n       <use xlink:href=\"#DejaVuSans-2e\" x=\"63.623047\"/>\n       <use xlink:href=\"#DejaVuSans-37\" x=\"95.410156\"/>\n       <use xlink:href=\"#DejaVuSans-35\" x=\"159.033203\"/>\n      </g>\n     </g>\n    </g>\n    <g id=\"xtick_5\">\n     <g id=\"line2d_9\">\n      <path d=\"M 384.94375 457.198125 \nL 384.94375 22.318125 \n\" clip-path=\"url(#pd83c086792)\" style=\"fill: none; stroke: #b0b0b0; stroke-width: 0.8; stroke-linecap: square\"/>\n     </g>\n     <g id=\"line2d_10\">\n      <g>\n       <use xlink:href=\"#m534cce887f\" x=\"384.94375\" y=\"457.198125\" style=\"stroke: #000000; stroke-width: 0.8\"/>\n      </g>\n     </g>\n     <g id=\"text_5\">\n      <!-- 2.00 -->\n      <g transform=\"translate(373.810938 471.796562)scale(0.1 -0.1)\">\n       <use xlink:href=\"#DejaVuSans-32\"/>\n       <use xlink:href=\"#DejaVuSans-2e\" x=\"63.623047\"/>\n       <use xlink:href=\"#DejaVuSans-30\" x=\"95.410156\"/>\n       <use xlink:href=\"#DejaVuSans-30\" x=\"159.033203\"/>\n      </g>\n     </g>\n    </g>\n    <g id=\"xtick_6\">\n     <g id=\"line2d_11\">\n      <path d=\"M 461.034659 457.198125 \nL 461.034659 22.318125 \n\" clip-path=\"url(#pd83c086792)\" style=\"fill: none; stroke: #b0b0b0; stroke-width: 0.8; stroke-linecap: square\"/>\n     </g>\n     <g id=\"line2d_12\">\n      <g>\n       <use xlink:href=\"#m534cce887f\" x=\"461.034659\" y=\"457.198125\" style=\"stroke: #000000; stroke-width: 0.8\"/>\n      </g>\n     </g>\n     <g id=\"text_6\">\n      <!-- 2.25 -->\n      <g transform=\"translate(449.901847 471.796562)scale(0.1 -0.1)\">\n       <use xlink:href=\"#DejaVuSans-32\"/>\n       <use xlink:href=\"#DejaVuSans-2e\" x=\"63.623047\"/>\n       <use xlink:href=\"#DejaVuSans-32\" x=\"95.410156\"/>\n       <use xlink:href=\"#DejaVuSans-35\" x=\"159.033203\"/>\n      </g>\n     </g>\n    </g>\n    <g id=\"xtick_7\">\n     <g id=\"line2d_13\">\n      <path d=\"M 537.125568 457.198125 \nL 537.125568 22.318125 \n\" clip-path=\"url(#pd83c086792)\" style=\"fill: none; stroke: #b0b0b0; stroke-width: 0.8; stroke-linecap: square\"/>\n     </g>\n     <g id=\"line2d_14\">\n      <g>\n       <use xlink:href=\"#m534cce887f\" x=\"537.125568\" y=\"457.198125\" style=\"stroke: #000000; stroke-width: 0.8\"/>\n      </g>\n     </g>\n     <g id=\"text_7\">\n      <!-- 2.50 -->\n      <g transform=\"translate(525.992756 471.796562)scale(0.1 -0.1)\">\n       <use xlink:href=\"#DejaVuSans-32\"/>\n       <use xlink:href=\"#DejaVuSans-2e\" x=\"63.623047\"/>\n       <use xlink:href=\"#DejaVuSans-35\" x=\"95.410156\"/>\n       <use xlink:href=\"#DejaVuSans-30\" x=\"159.033203\"/>\n      </g>\n     </g>\n    </g>\n    <g id=\"xtick_8\">\n     <g id=\"line2d_15\">\n      <path d=\"M 613.216477 457.198125 \nL 613.216477 22.318125 \n\" clip-path=\"url(#pd83c086792)\" style=\"fill: none; stroke: #b0b0b0; stroke-width: 0.8; stroke-linecap: square\"/>\n     </g>\n     <g id=\"line2d_16\">\n      <g>\n       <use xlink:href=\"#m534cce887f\" x=\"613.216477\" y=\"457.198125\" style=\"stroke: #000000; stroke-width: 0.8\"/>\n      </g>\n     </g>\n     <g id=\"text_8\">\n      <!-- 2.75 -->\n      <g transform=\"translate(602.083665 471.796562)scale(0.1 -0.1)\">\n       <use xlink:href=\"#DejaVuSans-32\"/>\n       <use xlink:href=\"#DejaVuSans-2e\" x=\"63.623047\"/>\n       <use xlink:href=\"#DejaVuSans-37\" x=\"95.410156\"/>\n       <use xlink:href=\"#DejaVuSans-35\" x=\"159.033203\"/>\n      </g>\n     </g>\n    </g>\n    <g id=\"xtick_9\">\n     <g id=\"line2d_17\">\n      <path d=\"M 689.307386 457.198125 \nL 689.307386 22.318125 \n\" clip-path=\"url(#pd83c086792)\" style=\"fill: none; stroke: #b0b0b0; stroke-width: 0.8; stroke-linecap: square\"/>\n     </g>\n     <g id=\"line2d_18\">\n      <g>\n       <use xlink:href=\"#m534cce887f\" x=\"689.307386\" y=\"457.198125\" style=\"stroke: #000000; stroke-width: 0.8\"/>\n      </g>\n     </g>\n     <g id=\"text_9\">\n      <!-- 3.00 -->\n      <g transform=\"translate(678.174574 471.796562)scale(0.1 -0.1)\">\n       <defs>\n        <path id=\"DejaVuSans-33\" d=\"M 2597 2516 \nQ 3050 2419 3304 2112 \nQ 3559 1806 3559 1356 \nQ 3559 666 3084 287 \nQ 2609 -91 1734 -91 \nQ 1441 -91 1130 -33 \nQ 819 25 488 141 \nL 488 750 \nQ 750 597 1062 519 \nQ 1375 441 1716 441 \nQ 2309 441 2620 675 \nQ 2931 909 2931 1356 \nQ 2931 1769 2642 2001 \nQ 2353 2234 1838 2234 \nL 1294 2234 \nL 1294 2753 \nL 1863 2753 \nQ 2328 2753 2575 2939 \nQ 2822 3125 2822 3475 \nQ 2822 3834 2567 4026 \nQ 2313 4219 1838 4219 \nQ 1578 4219 1281 4162 \nQ 984 4106 628 3988 \nL 628 4550 \nQ 988 4650 1302 4700 \nQ 1616 4750 1894 4750 \nQ 2613 4750 3031 4423 \nQ 3450 4097 3450 3541 \nQ 3450 3153 3228 2886 \nQ 3006 2619 2597 2516 \nz\n\" transform=\"scale(0.015625)\"/>\n       </defs>\n       <use xlink:href=\"#DejaVuSans-33\"/>\n       <use xlink:href=\"#DejaVuSans-2e\" x=\"63.623047\"/>\n       <use xlink:href=\"#DejaVuSans-30\" x=\"95.410156\"/>\n       <use xlink:href=\"#DejaVuSans-30\" x=\"159.033203\"/>\n      </g>\n     </g>\n    </g>\n    <g id=\"text_10\">\n     <!-- Epochs -->\n     <g transform=\"translate(367.028125 485.474687)scale(0.1 -0.1)\">\n      <defs>\n       <path id=\"DejaVuSans-45\" d=\"M 628 4666 \nL 3578 4666 \nL 3578 4134 \nL 1259 4134 \nL 1259 2753 \nL 3481 2753 \nL 3481 2222 \nL 1259 2222 \nL 1259 531 \nL 3634 531 \nL 3634 0 \nL 628 0 \nL 628 4666 \nz\n\" transform=\"scale(0.015625)\"/>\n       <path id=\"DejaVuSans-70\" d=\"M 1159 525 \nL 1159 -1331 \nL 581 -1331 \nL 581 3500 \nL 1159 3500 \nL 1159 2969 \nQ 1341 3281 1617 3432 \nQ 1894 3584 2278 3584 \nQ 2916 3584 3314 3078 \nQ 3713 2572 3713 1747 \nQ 3713 922 3314 415 \nQ 2916 -91 2278 -91 \nQ 1894 -91 1617 61 \nQ 1341 213 1159 525 \nz\nM 3116 1747 \nQ 3116 2381 2855 2742 \nQ 2594 3103 2138 3103 \nQ 1681 3103 1420 2742 \nQ 1159 2381 1159 1747 \nQ 1159 1113 1420 752 \nQ 1681 391 2138 391 \nQ 2594 391 2855 752 \nQ 3116 1113 3116 1747 \nz\n\" transform=\"scale(0.015625)\"/>\n       <path id=\"DejaVuSans-6f\" d=\"M 1959 3097 \nQ 1497 3097 1228 2736 \nQ 959 2375 959 1747 \nQ 959 1119 1226 758 \nQ 1494 397 1959 397 \nQ 2419 397 2687 759 \nQ 2956 1122 2956 1747 \nQ 2956 2369 2687 2733 \nQ 2419 3097 1959 3097 \nz\nM 1959 3584 \nQ 2709 3584 3137 3096 \nQ 3566 2609 3566 1747 \nQ 3566 888 3137 398 \nQ 2709 -91 1959 -91 \nQ 1206 -91 779 398 \nQ 353 888 353 1747 \nQ 353 2609 779 3096 \nQ 1206 3584 1959 3584 \nz\n\" transform=\"scale(0.015625)\"/>\n       <path id=\"DejaVuSans-63\" d=\"M 3122 3366 \nL 3122 2828 \nQ 2878 2963 2633 3030 \nQ 2388 3097 2138 3097 \nQ 1578 3097 1268 2742 \nQ 959 2388 959 1747 \nQ 959 1106 1268 751 \nQ 1578 397 2138 397 \nQ 2388 397 2633 464 \nQ 2878 531 3122 666 \nL 3122 134 \nQ 2881 22 2623 -34 \nQ 2366 -91 2075 -91 \nQ 1284 -91 818 406 \nQ 353 903 353 1747 \nQ 353 2603 823 3093 \nQ 1294 3584 2113 3584 \nQ 2378 3584 2631 3529 \nQ 2884 3475 3122 3366 \nz\n\" transform=\"scale(0.015625)\"/>\n       <path id=\"DejaVuSans-68\" d=\"M 3513 2113 \nL 3513 0 \nL 2938 0 \nL 2938 2094 \nQ 2938 2591 2744 2837 \nQ 2550 3084 2163 3084 \nQ 1697 3084 1428 2787 \nQ 1159 2491 1159 1978 \nL 1159 0 \nL 581 0 \nL 581 4863 \nL 1159 4863 \nL 1159 2956 \nQ 1366 3272 1645 3428 \nQ 1925 3584 2291 3584 \nQ 2894 3584 3203 3211 \nQ 3513 2838 3513 2113 \nz\n\" transform=\"scale(0.015625)\"/>\n       <path id=\"DejaVuSans-73\" d=\"M 2834 3397 \nL 2834 2853 \nQ 2591 2978 2328 3040 \nQ 2066 3103 1784 3103 \nQ 1356 3103 1142 2972 \nQ 928 2841 928 2578 \nQ 928 2378 1081 2264 \nQ 1234 2150 1697 2047 \nL 1894 2003 \nQ 2506 1872 2764 1633 \nQ 3022 1394 3022 966 \nQ 3022 478 2636 193 \nQ 2250 -91 1575 -91 \nQ 1294 -91 989 -36 \nQ 684 19 347 128 \nL 347 722 \nQ 666 556 975 473 \nQ 1284 391 1588 391 \nQ 1994 391 2212 530 \nQ 2431 669 2431 922 \nQ 2431 1156 2273 1281 \nQ 2116 1406 1581 1522 \nL 1381 1569 \nQ 847 1681 609 1914 \nQ 372 2147 372 2553 \nQ 372 3047 722 3315 \nQ 1072 3584 1716 3584 \nQ 2034 3584 2315 3537 \nQ 2597 3491 2834 3397 \nz\n\" transform=\"scale(0.015625)\"/>\n      </defs>\n      <use xlink:href=\"#DejaVuSans-45\"/>\n      <use xlink:href=\"#DejaVuSans-70\" x=\"63.183594\"/>\n      <use xlink:href=\"#DejaVuSans-6f\" x=\"126.660156\"/>\n      <use xlink:href=\"#DejaVuSans-63\" x=\"187.841797\"/>\n      <use xlink:href=\"#DejaVuSans-68\" x=\"242.822266\"/>\n      <use xlink:href=\"#DejaVuSans-73\" x=\"306.201172\"/>\n     </g>\n    </g>\n   </g>\n   <g id=\"matplotlib.axis_2\">\n    <g id=\"ytick_1\">\n     <g id=\"line2d_19\">\n      <path d=\"M 50.14375 429.450002 \nL 719.74375 429.450002 \n\" clip-path=\"url(#pd83c086792)\" style=\"fill: none; stroke: #b0b0b0; stroke-width: 0.8; stroke-linecap: square\"/>\n     </g>\n     <g id=\"line2d_20\">\n      <defs>\n       <path id=\"m28a6f15813\" d=\"M 0 0 \nL -3.5 0 \n\" style=\"stroke: #000000; stroke-width: 0.8\"/>\n      </defs>\n      <g>\n       <use xlink:href=\"#m28a6f15813\" x=\"50.14375\" y=\"429.450002\" style=\"stroke: #000000; stroke-width: 0.8\"/>\n      </g>\n     </g>\n     <g id=\"text_11\">\n      <!-- 1.51 -->\n      <g transform=\"translate(20.878125 433.249221)scale(0.1 -0.1)\">\n       <use xlink:href=\"#DejaVuSans-31\"/>\n       <use xlink:href=\"#DejaVuSans-2e\" x=\"63.623047\"/>\n       <use xlink:href=\"#DejaVuSans-35\" x=\"95.410156\"/>\n       <use xlink:href=\"#DejaVuSans-31\" x=\"159.033203\"/>\n      </g>\n     </g>\n    </g>\n    <g id=\"ytick_2\">\n     <g id=\"line2d_21\">\n      <path d=\"M 50.14375 350.957137 \nL 719.74375 350.957137 \n\" clip-path=\"url(#pd83c086792)\" style=\"fill: none; stroke: #b0b0b0; stroke-width: 0.8; stroke-linecap: square\"/>\n     </g>\n     <g id=\"line2d_22\">\n      <g>\n       <use xlink:href=\"#m28a6f15813\" x=\"50.14375\" y=\"350.957137\" style=\"stroke: #000000; stroke-width: 0.8\"/>\n      </g>\n     </g>\n     <g id=\"text_12\">\n      <!-- 1.52 -->\n      <g transform=\"translate(20.878125 354.756356)scale(0.1 -0.1)\">\n       <use xlink:href=\"#DejaVuSans-31\"/>\n       <use xlink:href=\"#DejaVuSans-2e\" x=\"63.623047\"/>\n       <use xlink:href=\"#DejaVuSans-35\" x=\"95.410156\"/>\n       <use xlink:href=\"#DejaVuSans-32\" x=\"159.033203\"/>\n      </g>\n     </g>\n    </g>\n    <g id=\"ytick_3\">\n     <g id=\"line2d_23\">\n      <path d=\"M 50.14375 272.464272 \nL 719.74375 272.464272 \n\" clip-path=\"url(#pd83c086792)\" style=\"fill: none; stroke: #b0b0b0; stroke-width: 0.8; stroke-linecap: square\"/>\n     </g>\n     <g id=\"line2d_24\">\n      <g>\n       <use xlink:href=\"#m28a6f15813\" x=\"50.14375\" y=\"272.464272\" style=\"stroke: #000000; stroke-width: 0.8\"/>\n      </g>\n     </g>\n     <g id=\"text_13\">\n      <!-- 1.53 -->\n      <g transform=\"translate(20.878125 276.263491)scale(0.1 -0.1)\">\n       <use xlink:href=\"#DejaVuSans-31\"/>\n       <use xlink:href=\"#DejaVuSans-2e\" x=\"63.623047\"/>\n       <use xlink:href=\"#DejaVuSans-35\" x=\"95.410156\"/>\n       <use xlink:href=\"#DejaVuSans-33\" x=\"159.033203\"/>\n      </g>\n     </g>\n    </g>\n    <g id=\"ytick_4\">\n     <g id=\"line2d_25\">\n      <path d=\"M 50.14375 193.971407 \nL 719.74375 193.971407 \n\" clip-path=\"url(#pd83c086792)\" style=\"fill: none; stroke: #b0b0b0; stroke-width: 0.8; stroke-linecap: square\"/>\n     </g>\n     <g id=\"line2d_26\">\n      <g>\n       <use xlink:href=\"#m28a6f15813\" x=\"50.14375\" y=\"193.971407\" style=\"stroke: #000000; stroke-width: 0.8\"/>\n      </g>\n     </g>\n     <g id=\"text_14\">\n      <!-- 1.54 -->\n      <g transform=\"translate(20.878125 197.770626)scale(0.1 -0.1)\">\n       <defs>\n        <path id=\"DejaVuSans-34\" d=\"M 2419 4116 \nL 825 1625 \nL 2419 1625 \nL 2419 4116 \nz\nM 2253 4666 \nL 3047 4666 \nL 3047 1625 \nL 3713 1625 \nL 3713 1100 \nL 3047 1100 \nL 3047 0 \nL 2419 0 \nL 2419 1100 \nL 313 1100 \nL 313 1709 \nL 2253 4666 \nz\n\" transform=\"scale(0.015625)\"/>\n       </defs>\n       <use xlink:href=\"#DejaVuSans-31\"/>\n       <use xlink:href=\"#DejaVuSans-2e\" x=\"63.623047\"/>\n       <use xlink:href=\"#DejaVuSans-35\" x=\"95.410156\"/>\n       <use xlink:href=\"#DejaVuSans-34\" x=\"159.033203\"/>\n      </g>\n     </g>\n    </g>\n    <g id=\"ytick_5\">\n     <g id=\"line2d_27\">\n      <path d=\"M 50.14375 115.478542 \nL 719.74375 115.478542 \n\" clip-path=\"url(#pd83c086792)\" style=\"fill: none; stroke: #b0b0b0; stroke-width: 0.8; stroke-linecap: square\"/>\n     </g>\n     <g id=\"line2d_28\">\n      <g>\n       <use xlink:href=\"#m28a6f15813\" x=\"50.14375\" y=\"115.478542\" style=\"stroke: #000000; stroke-width: 0.8\"/>\n      </g>\n     </g>\n     <g id=\"text_15\">\n      <!-- 1.55 -->\n      <g transform=\"translate(20.878125 119.277761)scale(0.1 -0.1)\">\n       <use xlink:href=\"#DejaVuSans-31\"/>\n       <use xlink:href=\"#DejaVuSans-2e\" x=\"63.623047\"/>\n       <use xlink:href=\"#DejaVuSans-35\" x=\"95.410156\"/>\n       <use xlink:href=\"#DejaVuSans-35\" x=\"159.033203\"/>\n      </g>\n     </g>\n    </g>\n    <g id=\"ytick_6\">\n     <g id=\"line2d_29\">\n      <path d=\"M 50.14375 36.985677 \nL 719.74375 36.985677 \n\" clip-path=\"url(#pd83c086792)\" style=\"fill: none; stroke: #b0b0b0; stroke-width: 0.8; stroke-linecap: square\"/>\n     </g>\n     <g id=\"line2d_30\">\n      <g>\n       <use xlink:href=\"#m28a6f15813\" x=\"50.14375\" y=\"36.985677\" style=\"stroke: #000000; stroke-width: 0.8\"/>\n      </g>\n     </g>\n     <g id=\"text_16\">\n      <!-- 1.56 -->\n      <g transform=\"translate(20.878125 40.784896)scale(0.1 -0.1)\">\n       <defs>\n        <path id=\"DejaVuSans-36\" d=\"M 2113 2584 \nQ 1688 2584 1439 2293 \nQ 1191 2003 1191 1497 \nQ 1191 994 1439 701 \nQ 1688 409 2113 409 \nQ 2538 409 2786 701 \nQ 3034 994 3034 1497 \nQ 3034 2003 2786 2293 \nQ 2538 2584 2113 2584 \nz\nM 3366 4563 \nL 3366 3988 \nQ 3128 4100 2886 4159 \nQ 2644 4219 2406 4219 \nQ 1781 4219 1451 3797 \nQ 1122 3375 1075 2522 \nQ 1259 2794 1537 2939 \nQ 1816 3084 2150 3084 \nQ 2853 3084 3261 2657 \nQ 3669 2231 3669 1497 \nQ 3669 778 3244 343 \nQ 2819 -91 2113 -91 \nQ 1303 -91 875 529 \nQ 447 1150 447 2328 \nQ 447 3434 972 4092 \nQ 1497 4750 2381 4750 \nQ 2619 4750 2861 4703 \nQ 3103 4656 3366 4563 \nz\n\" transform=\"scale(0.015625)\"/>\n       </defs>\n       <use xlink:href=\"#DejaVuSans-31\"/>\n       <use xlink:href=\"#DejaVuSans-2e\" x=\"63.623047\"/>\n       <use xlink:href=\"#DejaVuSans-35\" x=\"95.410156\"/>\n       <use xlink:href=\"#DejaVuSans-36\" x=\"159.033203\"/>\n      </g>\n     </g>\n    </g>\n    <g id=\"text_17\">\n     <!-- Weighted average loss -->\n     <g transform=\"translate(14.798438 296.733906)rotate(-90)scale(0.1 -0.1)\">\n      <defs>\n       <path id=\"DejaVuSans-57\" d=\"M 213 4666 \nL 850 4666 \nL 1831 722 \nL 2809 4666 \nL 3519 4666 \nL 4500 722 \nL 5478 4666 \nL 6119 4666 \nL 4947 0 \nL 4153 0 \nL 3169 4050 \nL 2175 0 \nL 1381 0 \nL 213 4666 \nz\n\" transform=\"scale(0.015625)\"/>\n       <path id=\"DejaVuSans-65\" d=\"M 3597 1894 \nL 3597 1613 \nL 953 1613 \nQ 991 1019 1311 708 \nQ 1631 397 2203 397 \nQ 2534 397 2845 478 \nQ 3156 559 3463 722 \nL 3463 178 \nQ 3153 47 2828 -22 \nQ 2503 -91 2169 -91 \nQ 1331 -91 842 396 \nQ 353 884 353 1716 \nQ 353 2575 817 3079 \nQ 1281 3584 2069 3584 \nQ 2775 3584 3186 3129 \nQ 3597 2675 3597 1894 \nz\nM 3022 2063 \nQ 3016 2534 2758 2815 \nQ 2500 3097 2075 3097 \nQ 1594 3097 1305 2825 \nQ 1016 2553 972 2059 \nL 3022 2063 \nz\n\" transform=\"scale(0.015625)\"/>\n       <path id=\"DejaVuSans-69\" d=\"M 603 3500 \nL 1178 3500 \nL 1178 0 \nL 603 0 \nL 603 3500 \nz\nM 603 4863 \nL 1178 4863 \nL 1178 4134 \nL 603 4134 \nL 603 4863 \nz\n\" transform=\"scale(0.015625)\"/>\n       <path id=\"DejaVuSans-67\" d=\"M 2906 1791 \nQ 2906 2416 2648 2759 \nQ 2391 3103 1925 3103 \nQ 1463 3103 1205 2759 \nQ 947 2416 947 1791 \nQ 947 1169 1205 825 \nQ 1463 481 1925 481 \nQ 2391 481 2648 825 \nQ 2906 1169 2906 1791 \nz\nM 3481 434 \nQ 3481 -459 3084 -895 \nQ 2688 -1331 1869 -1331 \nQ 1566 -1331 1297 -1286 \nQ 1028 -1241 775 -1147 \nL 775 -588 \nQ 1028 -725 1275 -790 \nQ 1522 -856 1778 -856 \nQ 2344 -856 2625 -561 \nQ 2906 -266 2906 331 \nL 2906 616 \nQ 2728 306 2450 153 \nQ 2172 0 1784 0 \nQ 1141 0 747 490 \nQ 353 981 353 1791 \nQ 353 2603 747 3093 \nQ 1141 3584 1784 3584 \nQ 2172 3584 2450 3431 \nQ 2728 3278 2906 2969 \nL 2906 3500 \nL 3481 3500 \nL 3481 434 \nz\n\" transform=\"scale(0.015625)\"/>\n       <path id=\"DejaVuSans-74\" d=\"M 1172 4494 \nL 1172 3500 \nL 2356 3500 \nL 2356 3053 \nL 1172 3053 \nL 1172 1153 \nQ 1172 725 1289 603 \nQ 1406 481 1766 481 \nL 2356 481 \nL 2356 0 \nL 1766 0 \nQ 1100 0 847 248 \nQ 594 497 594 1153 \nL 594 3053 \nL 172 3053 \nL 172 3500 \nL 594 3500 \nL 594 4494 \nL 1172 4494 \nz\n\" transform=\"scale(0.015625)\"/>\n       <path id=\"DejaVuSans-64\" d=\"M 2906 2969 \nL 2906 4863 \nL 3481 4863 \nL 3481 0 \nL 2906 0 \nL 2906 525 \nQ 2725 213 2448 61 \nQ 2172 -91 1784 -91 \nQ 1150 -91 751 415 \nQ 353 922 353 1747 \nQ 353 2572 751 3078 \nQ 1150 3584 1784 3584 \nQ 2172 3584 2448 3432 \nQ 2725 3281 2906 2969 \nz\nM 947 1747 \nQ 947 1113 1208 752 \nQ 1469 391 1925 391 \nQ 2381 391 2643 752 \nQ 2906 1113 2906 1747 \nQ 2906 2381 2643 2742 \nQ 2381 3103 1925 3103 \nQ 1469 3103 1208 2742 \nQ 947 2381 947 1747 \nz\n\" transform=\"scale(0.015625)\"/>\n       <path id=\"DejaVuSans-20\" transform=\"scale(0.015625)\"/>\n       <path id=\"DejaVuSans-61\" d=\"M 2194 1759 \nQ 1497 1759 1228 1600 \nQ 959 1441 959 1056 \nQ 959 750 1161 570 \nQ 1363 391 1709 391 \nQ 2188 391 2477 730 \nQ 2766 1069 2766 1631 \nL 2766 1759 \nL 2194 1759 \nz\nM 3341 1997 \nL 3341 0 \nL 2766 0 \nL 2766 531 \nQ 2569 213 2275 61 \nQ 1981 -91 1556 -91 \nQ 1019 -91 701 211 \nQ 384 513 384 1019 \nQ 384 1609 779 1909 \nQ 1175 2209 1959 2209 \nL 2766 2209 \nL 2766 2266 \nQ 2766 2663 2505 2880 \nQ 2244 3097 1772 3097 \nQ 1472 3097 1187 3025 \nQ 903 2953 641 2809 \nL 641 3341 \nQ 956 3463 1253 3523 \nQ 1550 3584 1831 3584 \nQ 2591 3584 2966 3190 \nQ 3341 2797 3341 1997 \nz\n\" transform=\"scale(0.015625)\"/>\n       <path id=\"DejaVuSans-76\" d=\"M 191 3500 \nL 800 3500 \nL 1894 563 \nL 2988 3500 \nL 3597 3500 \nL 2284 0 \nL 1503 0 \nL 191 3500 \nz\n\" transform=\"scale(0.015625)\"/>\n       <path id=\"DejaVuSans-72\" d=\"M 2631 2963 \nQ 2534 3019 2420 3045 \nQ 2306 3072 2169 3072 \nQ 1681 3072 1420 2755 \nQ 1159 2438 1159 1844 \nL 1159 0 \nL 581 0 \nL 581 3500 \nL 1159 3500 \nL 1159 2956 \nQ 1341 3275 1631 3429 \nQ 1922 3584 2338 3584 \nQ 2397 3584 2469 3576 \nQ 2541 3569 2628 3553 \nL 2631 2963 \nz\n\" transform=\"scale(0.015625)\"/>\n       <path id=\"DejaVuSans-6c\" d=\"M 603 4863 \nL 1178 4863 \nL 1178 0 \nL 603 0 \nL 603 4863 \nz\n\" transform=\"scale(0.015625)\"/>\n      </defs>\n      <use xlink:href=\"#DejaVuSans-57\"/>\n      <use xlink:href=\"#DejaVuSans-65\" x=\"93.001953\"/>\n      <use xlink:href=\"#DejaVuSans-69\" x=\"154.525391\"/>\n      <use xlink:href=\"#DejaVuSans-67\" x=\"182.308594\"/>\n      <use xlink:href=\"#DejaVuSans-68\" x=\"245.785156\"/>\n      <use xlink:href=\"#DejaVuSans-74\" x=\"309.164062\"/>\n      <use xlink:href=\"#DejaVuSans-65\" x=\"348.373047\"/>\n      <use xlink:href=\"#DejaVuSans-64\" x=\"409.896484\"/>\n      <use xlink:href=\"#DejaVuSans-20\" x=\"473.373047\"/>\n      <use xlink:href=\"#DejaVuSans-61\" x=\"505.160156\"/>\n      <use xlink:href=\"#DejaVuSans-76\" x=\"566.439453\"/>\n      <use xlink:href=\"#DejaVuSans-65\" x=\"625.619141\"/>\n      <use xlink:href=\"#DejaVuSans-72\" x=\"687.142578\"/>\n      <use xlink:href=\"#DejaVuSans-61\" x=\"728.255859\"/>\n      <use xlink:href=\"#DejaVuSans-67\" x=\"789.535156\"/>\n      <use xlink:href=\"#DejaVuSans-65\" x=\"853.011719\"/>\n      <use xlink:href=\"#DejaVuSans-20\" x=\"914.535156\"/>\n      <use xlink:href=\"#DejaVuSans-6c\" x=\"946.322266\"/>\n      <use xlink:href=\"#DejaVuSans-6f\" x=\"974.105469\"/>\n      <use xlink:href=\"#DejaVuSans-73\" x=\"1035.287109\"/>\n      <use xlink:href=\"#DejaVuSans-73\" x=\"1087.386719\"/>\n     </g>\n    </g>\n   </g>\n   <g id=\"line2d_31\">\n    <path d=\"M 80.580114 42.085398 \nL 384.94375 366.592034 \nL 689.307386 437.430852 \n\" clip-path=\"url(#pd83c086792)\" style=\"fill: none; stroke: #1f77b4; stroke-width: 1.5; stroke-linecap: square\"/>\n   </g>\n   <g id=\"patch_3\">\n    <path d=\"M 50.14375 457.198125 \nL 50.14375 22.318125 \n\" style=\"fill: none; stroke: #000000; stroke-width: 0.8; stroke-linejoin: miter; stroke-linecap: square\"/>\n   </g>\n   <g id=\"patch_4\">\n    <path d=\"M 719.74375 457.198125 \nL 719.74375 22.318125 \n\" style=\"fill: none; stroke: #000000; stroke-width: 0.8; stroke-linejoin: miter; stroke-linecap: square\"/>\n   </g>\n   <g id=\"patch_5\">\n    <path d=\"M 50.14375 457.198125 \nL 719.74375 457.198125 \n\" style=\"fill: none; stroke: #000000; stroke-width: 0.8; stroke-linejoin: miter; stroke-linecap: square\"/>\n   </g>\n   <g id=\"patch_6\">\n    <path d=\"M 50.14375 22.318125 \nL 719.74375 22.318125 \n\" style=\"fill: none; stroke: #000000; stroke-width: 0.8; stroke-linejoin: miter; stroke-linecap: square\"/>\n   </g>\n   <g id=\"text_18\">\n    <!-- transformer &lt;model_demo&gt; training loss -->\n    <g transform=\"translate(260.063125 16.318125)scale(0.12 -0.12)\">\n     <defs>\n      <path id=\"DejaVuSans-6e\" d=\"M 3513 2113 \nL 3513 0 \nL 2938 0 \nL 2938 2094 \nQ 2938 2591 2744 2837 \nQ 2550 3084 2163 3084 \nQ 1697 3084 1428 2787 \nQ 1159 2491 1159 1978 \nL 1159 0 \nL 581 0 \nL 581 3500 \nL 1159 3500 \nL 1159 2956 \nQ 1366 3272 1645 3428 \nQ 1925 3584 2291 3584 \nQ 2894 3584 3203 3211 \nQ 3513 2838 3513 2113 \nz\n\" transform=\"scale(0.015625)\"/>\n      <path id=\"DejaVuSans-66\" d=\"M 2375 4863 \nL 2375 4384 \nL 1825 4384 \nQ 1516 4384 1395 4259 \nQ 1275 4134 1275 3809 \nL 1275 3500 \nL 2222 3500 \nL 2222 3053 \nL 1275 3053 \nL 1275 0 \nL 697 0 \nL 697 3053 \nL 147 3053 \nL 147 3500 \nL 697 3500 \nL 697 3744 \nQ 697 4328 969 4595 \nQ 1241 4863 1831 4863 \nL 2375 4863 \nz\n\" transform=\"scale(0.015625)\"/>\n      <path id=\"DejaVuSans-6d\" d=\"M 3328 2828 \nQ 3544 3216 3844 3400 \nQ 4144 3584 4550 3584 \nQ 5097 3584 5394 3201 \nQ 5691 2819 5691 2113 \nL 5691 0 \nL 5113 0 \nL 5113 2094 \nQ 5113 2597 4934 2840 \nQ 4756 3084 4391 3084 \nQ 3944 3084 3684 2787 \nQ 3425 2491 3425 1978 \nL 3425 0 \nL 2847 0 \nL 2847 2094 \nQ 2847 2600 2669 2842 \nQ 2491 3084 2119 3084 \nQ 1678 3084 1418 2786 \nQ 1159 2488 1159 1978 \nL 1159 0 \nL 581 0 \nL 581 3500 \nL 1159 3500 \nL 1159 2956 \nQ 1356 3278 1631 3431 \nQ 1906 3584 2284 3584 \nQ 2666 3584 2933 3390 \nQ 3200 3197 3328 2828 \nz\n\" transform=\"scale(0.015625)\"/>\n      <path id=\"DejaVuSans-3c\" d=\"M 4684 3150 \nL 1459 2003 \nL 4684 863 \nL 4684 294 \nL 678 1747 \nL 678 2266 \nL 4684 3719 \nL 4684 3150 \nz\n\" transform=\"scale(0.015625)\"/>\n      <path id=\"DejaVuSans-5f\" d=\"M 3263 -1063 \nL 3263 -1509 \nL -63 -1509 \nL -63 -1063 \nL 3263 -1063 \nz\n\" transform=\"scale(0.015625)\"/>\n      <path id=\"DejaVuSans-3e\" d=\"M 678 3150 \nL 678 3719 \nL 4684 2266 \nL 4684 1747 \nL 678 294 \nL 678 863 \nL 3897 2003 \nL 678 3150 \nz\n\" transform=\"scale(0.015625)\"/>\n     </defs>\n     <use xlink:href=\"#DejaVuSans-74\"/>\n     <use xlink:href=\"#DejaVuSans-72\" x=\"39.208984\"/>\n     <use xlink:href=\"#DejaVuSans-61\" x=\"80.322266\"/>\n     <use xlink:href=\"#DejaVuSans-6e\" x=\"141.601562\"/>\n     <use xlink:href=\"#DejaVuSans-73\" x=\"204.980469\"/>\n     <use xlink:href=\"#DejaVuSans-66\" x=\"257.080078\"/>\n     <use xlink:href=\"#DejaVuSans-6f\" x=\"292.285156\"/>\n     <use xlink:href=\"#DejaVuSans-72\" x=\"353.466797\"/>\n     <use xlink:href=\"#DejaVuSans-6d\" x=\"392.830078\"/>\n     <use xlink:href=\"#DejaVuSans-65\" x=\"490.242188\"/>\n     <use xlink:href=\"#DejaVuSans-72\" x=\"551.765625\"/>\n     <use xlink:href=\"#DejaVuSans-20\" x=\"592.878906\"/>\n     <use xlink:href=\"#DejaVuSans-3c\" x=\"624.666016\"/>\n     <use xlink:href=\"#DejaVuSans-6d\" x=\"708.455078\"/>\n     <use xlink:href=\"#DejaVuSans-6f\" x=\"805.867188\"/>\n     <use xlink:href=\"#DejaVuSans-64\" x=\"867.048828\"/>\n     <use xlink:href=\"#DejaVuSans-65\" x=\"930.525391\"/>\n     <use xlink:href=\"#DejaVuSans-6c\" x=\"992.048828\"/>\n     <use xlink:href=\"#DejaVuSans-5f\" x=\"1019.832031\"/>\n     <use xlink:href=\"#DejaVuSans-64\" x=\"1069.832031\"/>\n     <use xlink:href=\"#DejaVuSans-65\" x=\"1133.308594\"/>\n     <use xlink:href=\"#DejaVuSans-6d\" x=\"1194.832031\"/>\n     <use xlink:href=\"#DejaVuSans-6f\" x=\"1292.244141\"/>\n     <use xlink:href=\"#DejaVuSans-3e\" x=\"1353.425781\"/>\n     <use xlink:href=\"#DejaVuSans-20\" x=\"1437.214844\"/>\n     <use xlink:href=\"#DejaVuSans-74\" x=\"1469.001953\"/>\n     <use xlink:href=\"#DejaVuSans-72\" x=\"1508.210938\"/>\n     <use xlink:href=\"#DejaVuSans-61\" x=\"1549.324219\"/>\n     <use xlink:href=\"#DejaVuSans-69\" x=\"1610.603516\"/>\n     <use xlink:href=\"#DejaVuSans-6e\" x=\"1638.386719\"/>\n     <use xlink:href=\"#DejaVuSans-69\" x=\"1701.765625\"/>\n     <use xlink:href=\"#DejaVuSans-6e\" x=\"1729.548828\"/>\n     <use xlink:href=\"#DejaVuSans-67\" x=\"1792.927734\"/>\n     <use xlink:href=\"#DejaVuSans-20\" x=\"1856.404297\"/>\n     <use xlink:href=\"#DejaVuSans-6c\" x=\"1888.191406\"/>\n     <use xlink:href=\"#DejaVuSans-6f\" x=\"1915.974609\"/>\n     <use xlink:href=\"#DejaVuSans-73\" x=\"1977.15625\"/>\n     <use xlink:href=\"#DejaVuSans-73\" x=\"2029.255859\"/>\n    </g>\n   </g>\n   <g id=\"legend_1\">\n    <g id=\"patch_7\">\n     <path d=\"M 564.270313 45.274375 \nL 712.74375 45.274375 \nQ 714.74375 45.274375 714.74375 43.274375 \nL 714.74375 29.318125 \nQ 714.74375 27.318125 712.74375 27.318125 \nL 564.270313 27.318125 \nQ 562.270313 27.318125 562.270313 29.318125 \nL 562.270313 43.274375 \nQ 562.270313 45.274375 564.270313 45.274375 \nz\n\" style=\"fill: #ffffff; opacity: 0.8; stroke: #cccccc; stroke-linejoin: miter\"/>\n    </g>\n    <g id=\"line2d_32\">\n     <path d=\"M 566.270313 35.416562 \nL 576.270313 35.416562 \nL 586.270313 35.416562 \n\" style=\"fill: none; stroke: #1f77b4; stroke-width: 1.5; stroke-linecap: square\"/>\n    </g>\n    <g id=\"text_19\">\n     <!-- weighted_average_loss -->\n     <g transform=\"translate(594.270313 38.916562)scale(0.1 -0.1)\">\n      <defs>\n       <path id=\"DejaVuSans-77\" d=\"M 269 3500 \nL 844 3500 \nL 1563 769 \nL 2278 3500 \nL 2956 3500 \nL 3675 769 \nL 4391 3500 \nL 4966 3500 \nL 4050 0 \nL 3372 0 \nL 2619 2869 \nL 1863 0 \nL 1184 0 \nL 269 3500 \nz\n\" transform=\"scale(0.015625)\"/>\n      </defs>\n      <use xlink:href=\"#DejaVuSans-77\"/>\n      <use xlink:href=\"#DejaVuSans-65\" x=\"81.787109\"/>\n      <use xlink:href=\"#DejaVuSans-69\" x=\"143.310547\"/>\n      <use xlink:href=\"#DejaVuSans-67\" x=\"171.09375\"/>\n      <use xlink:href=\"#DejaVuSans-68\" x=\"234.570312\"/>\n      <use xlink:href=\"#DejaVuSans-74\" x=\"297.949219\"/>\n      <use xlink:href=\"#DejaVuSans-65\" x=\"337.158203\"/>\n      <use xlink:href=\"#DejaVuSans-64\" x=\"398.681641\"/>\n      <use xlink:href=\"#DejaVuSans-5f\" x=\"462.158203\"/>\n      <use xlink:href=\"#DejaVuSans-61\" x=\"512.158203\"/>\n      <use xlink:href=\"#DejaVuSans-76\" x=\"573.4375\"/>\n      <use xlink:href=\"#DejaVuSans-65\" x=\"632.617188\"/>\n      <use xlink:href=\"#DejaVuSans-72\" x=\"694.140625\"/>\n      <use xlink:href=\"#DejaVuSans-61\" x=\"735.253906\"/>\n      <use xlink:href=\"#DejaVuSans-67\" x=\"796.533203\"/>\n      <use xlink:href=\"#DejaVuSans-65\" x=\"860.009766\"/>\n      <use xlink:href=\"#DejaVuSans-5f\" x=\"921.533203\"/>\n      <use xlink:href=\"#DejaVuSans-6c\" x=\"971.533203\"/>\n      <use xlink:href=\"#DejaVuSans-6f\" x=\"999.316406\"/>\n      <use xlink:href=\"#DejaVuSans-73\" x=\"1060.498047\"/>\n      <use xlink:href=\"#DejaVuSans-73\" x=\"1112.597656\"/>\n     </g>\n    </g>\n   </g>\n  </g>\n </g>\n <defs>\n  <clipPath id=\"pd83c086792\">\n   <rect x=\"50.14375\" y=\"22.318125\" width=\"669.6\" height=\"434.88\"/>\n  </clipPath>\n </defs>\n</svg>\n",
      "text/plain": [
       "<Figure size 864x576 with 1 Axes>"
      ]
     },
     "metadata": {},
     "output_type": "display_data"
    },
    {
     "data": {
      "image/svg+xml": "<?xml version=\"1.0\" encoding=\"utf-8\" standalone=\"no\"?>\n<!DOCTYPE svg PUBLIC \"-//W3C//DTD SVG 1.1//EN\"\n  \"http://www.w3.org/Graphics/SVG/1.1/DTD/svg11.dtd\">\n<svg xmlns:xlink=\"http://www.w3.org/1999/xlink\" width=\"736.490625pt\" height=\"494.754375pt\" viewBox=\"0 0 736.490625 494.754375\" xmlns=\"http://www.w3.org/2000/svg\" version=\"1.1\">\n <metadata>\n  <rdf:RDF xmlns:dc=\"http://purl.org/dc/elements/1.1/\" xmlns:cc=\"http://creativecommons.org/ns#\" xmlns:rdf=\"http://www.w3.org/1999/02/22-rdf-syntax-ns#\">\n   <cc:Work>\n    <dc:type rdf:resource=\"http://purl.org/dc/dcmitype/StillImage\"/>\n    <dc:date>2022-07-15T15:51:07.568600</dc:date>\n    <dc:format>image/svg+xml</dc:format>\n    <dc:creator>\n     <cc:Agent>\n      <dc:title>Matplotlib v3.5.2, https://matplotlib.org/</dc:title>\n     </cc:Agent>\n    </dc:creator>\n   </cc:Work>\n  </rdf:RDF>\n </metadata>\n <defs>\n  <style type=\"text/css\">*{stroke-linejoin: round; stroke-linecap: butt}</style>\n </defs>\n <g id=\"figure_1\">\n  <g id=\"patch_1\">\n   <path d=\"M 0 494.754375 \nL 736.490625 494.754375 \nL 736.490625 0 \nL 0 0 \nz\n\" style=\"fill: #ffffff\"/>\n  </g>\n  <g id=\"axes_1\">\n   <g id=\"patch_2\">\n    <path d=\"M 59.690625 457.198125 \nL 729.290625 457.198125 \nL 729.290625 22.318125 \nL 59.690625 22.318125 \nz\n\" style=\"fill: #ffffff\"/>\n   </g>\n   <g id=\"matplotlib.axis_1\">\n    <g id=\"xtick_1\">\n     <g id=\"line2d_1\">\n      <path d=\"M 90.126989 457.198125 \nL 90.126989 22.318125 \n\" clip-path=\"url(#p7c04271152)\" style=\"fill: none; stroke: #b0b0b0; stroke-width: 0.8; stroke-linecap: square\"/>\n     </g>\n     <g id=\"line2d_2\">\n      <defs>\n       <path id=\"m7ea190433b\" d=\"M 0 0 \nL 0 3.5 \n\" style=\"stroke: #000000; stroke-width: 0.8\"/>\n      </defs>\n      <g>\n       <use xlink:href=\"#m7ea190433b\" x=\"90.126989\" y=\"457.198125\" style=\"stroke: #000000; stroke-width: 0.8\"/>\n      </g>\n     </g>\n     <g id=\"text_1\">\n      <!-- 1.00 -->\n      <g transform=\"translate(78.994176 471.796562)scale(0.1 -0.1)\">\n       <defs>\n        <path id=\"DejaVuSans-31\" d=\"M 794 531 \nL 1825 531 \nL 1825 4091 \nL 703 3866 \nL 703 4441 \nL 1819 4666 \nL 2450 4666 \nL 2450 531 \nL 3481 531 \nL 3481 0 \nL 794 0 \nL 794 531 \nz\n\" transform=\"scale(0.015625)\"/>\n        <path id=\"DejaVuSans-2e\" d=\"M 684 794 \nL 1344 794 \nL 1344 0 \nL 684 0 \nL 684 794 \nz\n\" transform=\"scale(0.015625)\"/>\n        <path id=\"DejaVuSans-30\" d=\"M 2034 4250 \nQ 1547 4250 1301 3770 \nQ 1056 3291 1056 2328 \nQ 1056 1369 1301 889 \nQ 1547 409 2034 409 \nQ 2525 409 2770 889 \nQ 3016 1369 3016 2328 \nQ 3016 3291 2770 3770 \nQ 2525 4250 2034 4250 \nz\nM 2034 4750 \nQ 2819 4750 3233 4129 \nQ 3647 3509 3647 2328 \nQ 3647 1150 3233 529 \nQ 2819 -91 2034 -91 \nQ 1250 -91 836 529 \nQ 422 1150 422 2328 \nQ 422 3509 836 4129 \nQ 1250 4750 2034 4750 \nz\n\" transform=\"scale(0.015625)\"/>\n       </defs>\n       <use xlink:href=\"#DejaVuSans-31\"/>\n       <use xlink:href=\"#DejaVuSans-2e\" x=\"63.623047\"/>\n       <use xlink:href=\"#DejaVuSans-30\" x=\"95.410156\"/>\n       <use xlink:href=\"#DejaVuSans-30\" x=\"159.033203\"/>\n      </g>\n     </g>\n    </g>\n    <g id=\"xtick_2\">\n     <g id=\"line2d_3\">\n      <path d=\"M 166.217898 457.198125 \nL 166.217898 22.318125 \n\" clip-path=\"url(#p7c04271152)\" style=\"fill: none; stroke: #b0b0b0; stroke-width: 0.8; stroke-linecap: square\"/>\n     </g>\n     <g id=\"line2d_4\">\n      <g>\n       <use xlink:href=\"#m7ea190433b\" x=\"166.217898\" y=\"457.198125\" style=\"stroke: #000000; stroke-width: 0.8\"/>\n      </g>\n     </g>\n     <g id=\"text_2\">\n      <!-- 1.25 -->\n      <g transform=\"translate(155.085085 471.796562)scale(0.1 -0.1)\">\n       <defs>\n        <path id=\"DejaVuSans-32\" d=\"M 1228 531 \nL 3431 531 \nL 3431 0 \nL 469 0 \nL 469 531 \nQ 828 903 1448 1529 \nQ 2069 2156 2228 2338 \nQ 2531 2678 2651 2914 \nQ 2772 3150 2772 3378 \nQ 2772 3750 2511 3984 \nQ 2250 4219 1831 4219 \nQ 1534 4219 1204 4116 \nQ 875 4013 500 3803 \nL 500 4441 \nQ 881 4594 1212 4672 \nQ 1544 4750 1819 4750 \nQ 2544 4750 2975 4387 \nQ 3406 4025 3406 3419 \nQ 3406 3131 3298 2873 \nQ 3191 2616 2906 2266 \nQ 2828 2175 2409 1742 \nQ 1991 1309 1228 531 \nz\n\" transform=\"scale(0.015625)\"/>\n        <path id=\"DejaVuSans-35\" d=\"M 691 4666 \nL 3169 4666 \nL 3169 4134 \nL 1269 4134 \nL 1269 2991 \nQ 1406 3038 1543 3061 \nQ 1681 3084 1819 3084 \nQ 2600 3084 3056 2656 \nQ 3513 2228 3513 1497 \nQ 3513 744 3044 326 \nQ 2575 -91 1722 -91 \nQ 1428 -91 1123 -41 \nQ 819 9 494 109 \nL 494 744 \nQ 775 591 1075 516 \nQ 1375 441 1709 441 \nQ 2250 441 2565 725 \nQ 2881 1009 2881 1497 \nQ 2881 1984 2565 2268 \nQ 2250 2553 1709 2553 \nQ 1456 2553 1204 2497 \nQ 953 2441 691 2322 \nL 691 4666 \nz\n\" transform=\"scale(0.015625)\"/>\n       </defs>\n       <use xlink:href=\"#DejaVuSans-31\"/>\n       <use xlink:href=\"#DejaVuSans-2e\" x=\"63.623047\"/>\n       <use xlink:href=\"#DejaVuSans-32\" x=\"95.410156\"/>\n       <use xlink:href=\"#DejaVuSans-35\" x=\"159.033203\"/>\n      </g>\n     </g>\n    </g>\n    <g id=\"xtick_3\">\n     <g id=\"line2d_5\">\n      <path d=\"M 242.308807 457.198125 \nL 242.308807 22.318125 \n\" clip-path=\"url(#p7c04271152)\" style=\"fill: none; stroke: #b0b0b0; stroke-width: 0.8; stroke-linecap: square\"/>\n     </g>\n     <g id=\"line2d_6\">\n      <g>\n       <use xlink:href=\"#m7ea190433b\" x=\"242.308807\" y=\"457.198125\" style=\"stroke: #000000; stroke-width: 0.8\"/>\n      </g>\n     </g>\n     <g id=\"text_3\">\n      <!-- 1.50 -->\n      <g transform=\"translate(231.175994 471.796562)scale(0.1 -0.1)\">\n       <use xlink:href=\"#DejaVuSans-31\"/>\n       <use xlink:href=\"#DejaVuSans-2e\" x=\"63.623047\"/>\n       <use xlink:href=\"#DejaVuSans-35\" x=\"95.410156\"/>\n       <use xlink:href=\"#DejaVuSans-30\" x=\"159.033203\"/>\n      </g>\n     </g>\n    </g>\n    <g id=\"xtick_4\">\n     <g id=\"line2d_7\">\n      <path d=\"M 318.399716 457.198125 \nL 318.399716 22.318125 \n\" clip-path=\"url(#p7c04271152)\" style=\"fill: none; stroke: #b0b0b0; stroke-width: 0.8; stroke-linecap: square\"/>\n     </g>\n     <g id=\"line2d_8\">\n      <g>\n       <use xlink:href=\"#m7ea190433b\" x=\"318.399716\" y=\"457.198125\" style=\"stroke: #000000; stroke-width: 0.8\"/>\n      </g>\n     </g>\n     <g id=\"text_4\">\n      <!-- 1.75 -->\n      <g transform=\"translate(307.266903 471.796562)scale(0.1 -0.1)\">\n       <defs>\n        <path id=\"DejaVuSans-37\" d=\"M 525 4666 \nL 3525 4666 \nL 3525 4397 \nL 1831 0 \nL 1172 0 \nL 2766 4134 \nL 525 4134 \nL 525 4666 \nz\n\" transform=\"scale(0.015625)\"/>\n       </defs>\n       <use xlink:href=\"#DejaVuSans-31\"/>\n       <use xlink:href=\"#DejaVuSans-2e\" x=\"63.623047\"/>\n       <use xlink:href=\"#DejaVuSans-37\" x=\"95.410156\"/>\n       <use xlink:href=\"#DejaVuSans-35\" x=\"159.033203\"/>\n      </g>\n     </g>\n    </g>\n    <g id=\"xtick_5\">\n     <g id=\"line2d_9\">\n      <path d=\"M 394.490625 457.198125 \nL 394.490625 22.318125 \n\" clip-path=\"url(#p7c04271152)\" style=\"fill: none; stroke: #b0b0b0; stroke-width: 0.8; stroke-linecap: square\"/>\n     </g>\n     <g id=\"line2d_10\">\n      <g>\n       <use xlink:href=\"#m7ea190433b\" x=\"394.490625\" y=\"457.198125\" style=\"stroke: #000000; stroke-width: 0.8\"/>\n      </g>\n     </g>\n     <g id=\"text_5\">\n      <!-- 2.00 -->\n      <g transform=\"translate(383.357813 471.796562)scale(0.1 -0.1)\">\n       <use xlink:href=\"#DejaVuSans-32\"/>\n       <use xlink:href=\"#DejaVuSans-2e\" x=\"63.623047\"/>\n       <use xlink:href=\"#DejaVuSans-30\" x=\"95.410156\"/>\n       <use xlink:href=\"#DejaVuSans-30\" x=\"159.033203\"/>\n      </g>\n     </g>\n    </g>\n    <g id=\"xtick_6\">\n     <g id=\"line2d_11\">\n      <path d=\"M 470.581534 457.198125 \nL 470.581534 22.318125 \n\" clip-path=\"url(#p7c04271152)\" style=\"fill: none; stroke: #b0b0b0; stroke-width: 0.8; stroke-linecap: square\"/>\n     </g>\n     <g id=\"line2d_12\">\n      <g>\n       <use xlink:href=\"#m7ea190433b\" x=\"470.581534\" y=\"457.198125\" style=\"stroke: #000000; stroke-width: 0.8\"/>\n      </g>\n     </g>\n     <g id=\"text_6\">\n      <!-- 2.25 -->\n      <g transform=\"translate(459.448722 471.796562)scale(0.1 -0.1)\">\n       <use xlink:href=\"#DejaVuSans-32\"/>\n       <use xlink:href=\"#DejaVuSans-2e\" x=\"63.623047\"/>\n       <use xlink:href=\"#DejaVuSans-32\" x=\"95.410156\"/>\n       <use xlink:href=\"#DejaVuSans-35\" x=\"159.033203\"/>\n      </g>\n     </g>\n    </g>\n    <g id=\"xtick_7\">\n     <g id=\"line2d_13\">\n      <path d=\"M 546.672443 457.198125 \nL 546.672443 22.318125 \n\" clip-path=\"url(#p7c04271152)\" style=\"fill: none; stroke: #b0b0b0; stroke-width: 0.8; stroke-linecap: square\"/>\n     </g>\n     <g id=\"line2d_14\">\n      <g>\n       <use xlink:href=\"#m7ea190433b\" x=\"546.672443\" y=\"457.198125\" style=\"stroke: #000000; stroke-width: 0.8\"/>\n      </g>\n     </g>\n     <g id=\"text_7\">\n      <!-- 2.50 -->\n      <g transform=\"translate(535.539631 471.796562)scale(0.1 -0.1)\">\n       <use xlink:href=\"#DejaVuSans-32\"/>\n       <use xlink:href=\"#DejaVuSans-2e\" x=\"63.623047\"/>\n       <use xlink:href=\"#DejaVuSans-35\" x=\"95.410156\"/>\n       <use xlink:href=\"#DejaVuSans-30\" x=\"159.033203\"/>\n      </g>\n     </g>\n    </g>\n    <g id=\"xtick_8\">\n     <g id=\"line2d_15\">\n      <path d=\"M 622.763352 457.198125 \nL 622.763352 22.318125 \n\" clip-path=\"url(#p7c04271152)\" style=\"fill: none; stroke: #b0b0b0; stroke-width: 0.8; stroke-linecap: square\"/>\n     </g>\n     <g id=\"line2d_16\">\n      <g>\n       <use xlink:href=\"#m7ea190433b\" x=\"622.763352\" y=\"457.198125\" style=\"stroke: #000000; stroke-width: 0.8\"/>\n      </g>\n     </g>\n     <g id=\"text_8\">\n      <!-- 2.75 -->\n      <g transform=\"translate(611.63054 471.796562)scale(0.1 -0.1)\">\n       <use xlink:href=\"#DejaVuSans-32\"/>\n       <use xlink:href=\"#DejaVuSans-2e\" x=\"63.623047\"/>\n       <use xlink:href=\"#DejaVuSans-37\" x=\"95.410156\"/>\n       <use xlink:href=\"#DejaVuSans-35\" x=\"159.033203\"/>\n      </g>\n     </g>\n    </g>\n    <g id=\"xtick_9\">\n     <g id=\"line2d_17\">\n      <path d=\"M 698.854261 457.198125 \nL 698.854261 22.318125 \n\" clip-path=\"url(#p7c04271152)\" style=\"fill: none; stroke: #b0b0b0; stroke-width: 0.8; stroke-linecap: square\"/>\n     </g>\n     <g id=\"line2d_18\">\n      <g>\n       <use xlink:href=\"#m7ea190433b\" x=\"698.854261\" y=\"457.198125\" style=\"stroke: #000000; stroke-width: 0.8\"/>\n      </g>\n     </g>\n     <g id=\"text_9\">\n      <!-- 3.00 -->\n      <g transform=\"translate(687.721449 471.796562)scale(0.1 -0.1)\">\n       <defs>\n        <path id=\"DejaVuSans-33\" d=\"M 2597 2516 \nQ 3050 2419 3304 2112 \nQ 3559 1806 3559 1356 \nQ 3559 666 3084 287 \nQ 2609 -91 1734 -91 \nQ 1441 -91 1130 -33 \nQ 819 25 488 141 \nL 488 750 \nQ 750 597 1062 519 \nQ 1375 441 1716 441 \nQ 2309 441 2620 675 \nQ 2931 909 2931 1356 \nQ 2931 1769 2642 2001 \nQ 2353 2234 1838 2234 \nL 1294 2234 \nL 1294 2753 \nL 1863 2753 \nQ 2328 2753 2575 2939 \nQ 2822 3125 2822 3475 \nQ 2822 3834 2567 4026 \nQ 2313 4219 1838 4219 \nQ 1578 4219 1281 4162 \nQ 984 4106 628 3988 \nL 628 4550 \nQ 988 4650 1302 4700 \nQ 1616 4750 1894 4750 \nQ 2613 4750 3031 4423 \nQ 3450 4097 3450 3541 \nQ 3450 3153 3228 2886 \nQ 3006 2619 2597 2516 \nz\n\" transform=\"scale(0.015625)\"/>\n       </defs>\n       <use xlink:href=\"#DejaVuSans-33\"/>\n       <use xlink:href=\"#DejaVuSans-2e\" x=\"63.623047\"/>\n       <use xlink:href=\"#DejaVuSans-30\" x=\"95.410156\"/>\n       <use xlink:href=\"#DejaVuSans-30\" x=\"159.033203\"/>\n      </g>\n     </g>\n    </g>\n    <g id=\"text_10\">\n     <!-- Epochs -->\n     <g transform=\"translate(376.575 485.474687)scale(0.1 -0.1)\">\n      <defs>\n       <path id=\"DejaVuSans-45\" d=\"M 628 4666 \nL 3578 4666 \nL 3578 4134 \nL 1259 4134 \nL 1259 2753 \nL 3481 2753 \nL 3481 2222 \nL 1259 2222 \nL 1259 531 \nL 3634 531 \nL 3634 0 \nL 628 0 \nL 628 4666 \nz\n\" transform=\"scale(0.015625)\"/>\n       <path id=\"DejaVuSans-70\" d=\"M 1159 525 \nL 1159 -1331 \nL 581 -1331 \nL 581 3500 \nL 1159 3500 \nL 1159 2969 \nQ 1341 3281 1617 3432 \nQ 1894 3584 2278 3584 \nQ 2916 3584 3314 3078 \nQ 3713 2572 3713 1747 \nQ 3713 922 3314 415 \nQ 2916 -91 2278 -91 \nQ 1894 -91 1617 61 \nQ 1341 213 1159 525 \nz\nM 3116 1747 \nQ 3116 2381 2855 2742 \nQ 2594 3103 2138 3103 \nQ 1681 3103 1420 2742 \nQ 1159 2381 1159 1747 \nQ 1159 1113 1420 752 \nQ 1681 391 2138 391 \nQ 2594 391 2855 752 \nQ 3116 1113 3116 1747 \nz\n\" transform=\"scale(0.015625)\"/>\n       <path id=\"DejaVuSans-6f\" d=\"M 1959 3097 \nQ 1497 3097 1228 2736 \nQ 959 2375 959 1747 \nQ 959 1119 1226 758 \nQ 1494 397 1959 397 \nQ 2419 397 2687 759 \nQ 2956 1122 2956 1747 \nQ 2956 2369 2687 2733 \nQ 2419 3097 1959 3097 \nz\nM 1959 3584 \nQ 2709 3584 3137 3096 \nQ 3566 2609 3566 1747 \nQ 3566 888 3137 398 \nQ 2709 -91 1959 -91 \nQ 1206 -91 779 398 \nQ 353 888 353 1747 \nQ 353 2609 779 3096 \nQ 1206 3584 1959 3584 \nz\n\" transform=\"scale(0.015625)\"/>\n       <path id=\"DejaVuSans-63\" d=\"M 3122 3366 \nL 3122 2828 \nQ 2878 2963 2633 3030 \nQ 2388 3097 2138 3097 \nQ 1578 3097 1268 2742 \nQ 959 2388 959 1747 \nQ 959 1106 1268 751 \nQ 1578 397 2138 397 \nQ 2388 397 2633 464 \nQ 2878 531 3122 666 \nL 3122 134 \nQ 2881 22 2623 -34 \nQ 2366 -91 2075 -91 \nQ 1284 -91 818 406 \nQ 353 903 353 1747 \nQ 353 2603 823 3093 \nQ 1294 3584 2113 3584 \nQ 2378 3584 2631 3529 \nQ 2884 3475 3122 3366 \nz\n\" transform=\"scale(0.015625)\"/>\n       <path id=\"DejaVuSans-68\" d=\"M 3513 2113 \nL 3513 0 \nL 2938 0 \nL 2938 2094 \nQ 2938 2591 2744 2837 \nQ 2550 3084 2163 3084 \nQ 1697 3084 1428 2787 \nQ 1159 2491 1159 1978 \nL 1159 0 \nL 581 0 \nL 581 4863 \nL 1159 4863 \nL 1159 2956 \nQ 1366 3272 1645 3428 \nQ 1925 3584 2291 3584 \nQ 2894 3584 3203 3211 \nQ 3513 2838 3513 2113 \nz\n\" transform=\"scale(0.015625)\"/>\n       <path id=\"DejaVuSans-73\" d=\"M 2834 3397 \nL 2834 2853 \nQ 2591 2978 2328 3040 \nQ 2066 3103 1784 3103 \nQ 1356 3103 1142 2972 \nQ 928 2841 928 2578 \nQ 928 2378 1081 2264 \nQ 1234 2150 1697 2047 \nL 1894 2003 \nQ 2506 1872 2764 1633 \nQ 3022 1394 3022 966 \nQ 3022 478 2636 193 \nQ 2250 -91 1575 -91 \nQ 1294 -91 989 -36 \nQ 684 19 347 128 \nL 347 722 \nQ 666 556 975 473 \nQ 1284 391 1588 391 \nQ 1994 391 2212 530 \nQ 2431 669 2431 922 \nQ 2431 1156 2273 1281 \nQ 2116 1406 1581 1522 \nL 1381 1569 \nQ 847 1681 609 1914 \nQ 372 2147 372 2553 \nQ 372 3047 722 3315 \nQ 1072 3584 1716 3584 \nQ 2034 3584 2315 3537 \nQ 2597 3491 2834 3397 \nz\n\" transform=\"scale(0.015625)\"/>\n      </defs>\n      <use xlink:href=\"#DejaVuSans-45\"/>\n      <use xlink:href=\"#DejaVuSans-70\" x=\"63.183594\"/>\n      <use xlink:href=\"#DejaVuSans-6f\" x=\"126.660156\"/>\n      <use xlink:href=\"#DejaVuSans-63\" x=\"187.841797\"/>\n      <use xlink:href=\"#DejaVuSans-68\" x=\"242.822266\"/>\n      <use xlink:href=\"#DejaVuSans-73\" x=\"306.201172\"/>\n     </g>\n    </g>\n   </g>\n   <g id=\"matplotlib.axis_2\">\n    <g id=\"ytick_1\">\n     <g id=\"line2d_19\">\n      <path d=\"M 59.690625 420.195083 \nL 729.290625 420.195083 \n\" clip-path=\"url(#p7c04271152)\" style=\"fill: none; stroke: #b0b0b0; stroke-width: 0.8; stroke-linecap: square\"/>\n     </g>\n     <g id=\"line2d_20\">\n      <defs>\n       <path id=\"md408a2e3b7\" d=\"M 0 0 \nL -3.5 0 \n\" style=\"stroke: #000000; stroke-width: 0.8\"/>\n      </defs>\n      <g>\n       <use xlink:href=\"#md408a2e3b7\" x=\"59.690625\" y=\"420.195083\" style=\"stroke: #000000; stroke-width: 0.8\"/>\n      </g>\n     </g>\n     <g id=\"text_11\">\n      <!-- 34900 -->\n      <g transform=\"translate(20.878125 423.994302)scale(0.1 -0.1)\">\n       <defs>\n        <path id=\"DejaVuSans-34\" d=\"M 2419 4116 \nL 825 1625 \nL 2419 1625 \nL 2419 4116 \nz\nM 2253 4666 \nL 3047 4666 \nL 3047 1625 \nL 3713 1625 \nL 3713 1100 \nL 3047 1100 \nL 3047 0 \nL 2419 0 \nL 2419 1100 \nL 313 1100 \nL 313 1709 \nL 2253 4666 \nz\n\" transform=\"scale(0.015625)\"/>\n        <path id=\"DejaVuSans-39\" d=\"M 703 97 \nL 703 672 \nQ 941 559 1184 500 \nQ 1428 441 1663 441 \nQ 2288 441 2617 861 \nQ 2947 1281 2994 2138 \nQ 2813 1869 2534 1725 \nQ 2256 1581 1919 1581 \nQ 1219 1581 811 2004 \nQ 403 2428 403 3163 \nQ 403 3881 828 4315 \nQ 1253 4750 1959 4750 \nQ 2769 4750 3195 4129 \nQ 3622 3509 3622 2328 \nQ 3622 1225 3098 567 \nQ 2575 -91 1691 -91 \nQ 1453 -91 1209 -44 \nQ 966 3 703 97 \nz\nM 1959 2075 \nQ 2384 2075 2632 2365 \nQ 2881 2656 2881 3163 \nQ 2881 3666 2632 3958 \nQ 2384 4250 1959 4250 \nQ 1534 4250 1286 3958 \nQ 1038 3666 1038 3163 \nQ 1038 2656 1286 2365 \nQ 1534 2075 1959 2075 \nz\n\" transform=\"scale(0.015625)\"/>\n       </defs>\n       <use xlink:href=\"#DejaVuSans-33\"/>\n       <use xlink:href=\"#DejaVuSans-34\" x=\"63.623047\"/>\n       <use xlink:href=\"#DejaVuSans-39\" x=\"127.246094\"/>\n       <use xlink:href=\"#DejaVuSans-30\" x=\"190.869141\"/>\n       <use xlink:href=\"#DejaVuSans-30\" x=\"254.492188\"/>\n      </g>\n     </g>\n    </g>\n    <g id=\"ytick_2\">\n     <g id=\"line2d_21\">\n      <path d=\"M 59.690625 366.333305 \nL 729.290625 366.333305 \n\" clip-path=\"url(#p7c04271152)\" style=\"fill: none; stroke: #b0b0b0; stroke-width: 0.8; stroke-linecap: square\"/>\n     </g>\n     <g id=\"line2d_22\">\n      <g>\n       <use xlink:href=\"#md408a2e3b7\" x=\"59.690625\" y=\"366.333305\" style=\"stroke: #000000; stroke-width: 0.8\"/>\n      </g>\n     </g>\n     <g id=\"text_12\">\n      <!-- 34950 -->\n      <g transform=\"translate(20.878125 370.132523)scale(0.1 -0.1)\">\n       <use xlink:href=\"#DejaVuSans-33\"/>\n       <use xlink:href=\"#DejaVuSans-34\" x=\"63.623047\"/>\n       <use xlink:href=\"#DejaVuSans-39\" x=\"127.246094\"/>\n       <use xlink:href=\"#DejaVuSans-35\" x=\"190.869141\"/>\n       <use xlink:href=\"#DejaVuSans-30\" x=\"254.492188\"/>\n      </g>\n     </g>\n    </g>\n    <g id=\"ytick_3\">\n     <g id=\"line2d_23\">\n      <path d=\"M 59.690625 312.471526 \nL 729.290625 312.471526 \n\" clip-path=\"url(#p7c04271152)\" style=\"fill: none; stroke: #b0b0b0; stroke-width: 0.8; stroke-linecap: square\"/>\n     </g>\n     <g id=\"line2d_24\">\n      <g>\n       <use xlink:href=\"#md408a2e3b7\" x=\"59.690625\" y=\"312.471526\" style=\"stroke: #000000; stroke-width: 0.8\"/>\n      </g>\n     </g>\n     <g id=\"text_13\">\n      <!-- 35000 -->\n      <g transform=\"translate(20.878125 316.270745)scale(0.1 -0.1)\">\n       <use xlink:href=\"#DejaVuSans-33\"/>\n       <use xlink:href=\"#DejaVuSans-35\" x=\"63.623047\"/>\n       <use xlink:href=\"#DejaVuSans-30\" x=\"127.246094\"/>\n       <use xlink:href=\"#DejaVuSans-30\" x=\"190.869141\"/>\n       <use xlink:href=\"#DejaVuSans-30\" x=\"254.492188\"/>\n      </g>\n     </g>\n    </g>\n    <g id=\"ytick_4\">\n     <g id=\"line2d_25\">\n      <path d=\"M 59.690625 258.609747 \nL 729.290625 258.609747 \n\" clip-path=\"url(#p7c04271152)\" style=\"fill: none; stroke: #b0b0b0; stroke-width: 0.8; stroke-linecap: square\"/>\n     </g>\n     <g id=\"line2d_26\">\n      <g>\n       <use xlink:href=\"#md408a2e3b7\" x=\"59.690625\" y=\"258.609747\" style=\"stroke: #000000; stroke-width: 0.8\"/>\n      </g>\n     </g>\n     <g id=\"text_14\">\n      <!-- 35050 -->\n      <g transform=\"translate(20.878125 262.408966)scale(0.1 -0.1)\">\n       <use xlink:href=\"#DejaVuSans-33\"/>\n       <use xlink:href=\"#DejaVuSans-35\" x=\"63.623047\"/>\n       <use xlink:href=\"#DejaVuSans-30\" x=\"127.246094\"/>\n       <use xlink:href=\"#DejaVuSans-35\" x=\"190.869141\"/>\n       <use xlink:href=\"#DejaVuSans-30\" x=\"254.492188\"/>\n      </g>\n     </g>\n    </g>\n    <g id=\"ytick_5\">\n     <g id=\"line2d_27\">\n      <path d=\"M 59.690625 204.747969 \nL 729.290625 204.747969 \n\" clip-path=\"url(#p7c04271152)\" style=\"fill: none; stroke: #b0b0b0; stroke-width: 0.8; stroke-linecap: square\"/>\n     </g>\n     <g id=\"line2d_28\">\n      <g>\n       <use xlink:href=\"#md408a2e3b7\" x=\"59.690625\" y=\"204.747969\" style=\"stroke: #000000; stroke-width: 0.8\"/>\n      </g>\n     </g>\n     <g id=\"text_15\">\n      <!-- 35100 -->\n      <g transform=\"translate(20.878125 208.547188)scale(0.1 -0.1)\">\n       <use xlink:href=\"#DejaVuSans-33\"/>\n       <use xlink:href=\"#DejaVuSans-35\" x=\"63.623047\"/>\n       <use xlink:href=\"#DejaVuSans-31\" x=\"127.246094\"/>\n       <use xlink:href=\"#DejaVuSans-30\" x=\"190.869141\"/>\n       <use xlink:href=\"#DejaVuSans-30\" x=\"254.492188\"/>\n      </g>\n     </g>\n    </g>\n    <g id=\"ytick_6\">\n     <g id=\"line2d_29\">\n      <path d=\"M 59.690625 150.88619 \nL 729.290625 150.88619 \n\" clip-path=\"url(#p7c04271152)\" style=\"fill: none; stroke: #b0b0b0; stroke-width: 0.8; stroke-linecap: square\"/>\n     </g>\n     <g id=\"line2d_30\">\n      <g>\n       <use xlink:href=\"#md408a2e3b7\" x=\"59.690625\" y=\"150.88619\" style=\"stroke: #000000; stroke-width: 0.8\"/>\n      </g>\n     </g>\n     <g id=\"text_16\">\n      <!-- 35150 -->\n      <g transform=\"translate(20.878125 154.685409)scale(0.1 -0.1)\">\n       <use xlink:href=\"#DejaVuSans-33\"/>\n       <use xlink:href=\"#DejaVuSans-35\" x=\"63.623047\"/>\n       <use xlink:href=\"#DejaVuSans-31\" x=\"127.246094\"/>\n       <use xlink:href=\"#DejaVuSans-35\" x=\"190.869141\"/>\n       <use xlink:href=\"#DejaVuSans-30\" x=\"254.492188\"/>\n      </g>\n     </g>\n    </g>\n    <g id=\"ytick_7\">\n     <g id=\"line2d_31\">\n      <path d=\"M 59.690625 97.024412 \nL 729.290625 97.024412 \n\" clip-path=\"url(#p7c04271152)\" style=\"fill: none; stroke: #b0b0b0; stroke-width: 0.8; stroke-linecap: square\"/>\n     </g>\n     <g id=\"line2d_32\">\n      <g>\n       <use xlink:href=\"#md408a2e3b7\" x=\"59.690625\" y=\"97.024412\" style=\"stroke: #000000; stroke-width: 0.8\"/>\n      </g>\n     </g>\n     <g id=\"text_17\">\n      <!-- 35200 -->\n      <g transform=\"translate(20.878125 100.823631)scale(0.1 -0.1)\">\n       <use xlink:href=\"#DejaVuSans-33\"/>\n       <use xlink:href=\"#DejaVuSans-35\" x=\"63.623047\"/>\n       <use xlink:href=\"#DejaVuSans-32\" x=\"127.246094\"/>\n       <use xlink:href=\"#DejaVuSans-30\" x=\"190.869141\"/>\n       <use xlink:href=\"#DejaVuSans-30\" x=\"254.492188\"/>\n      </g>\n     </g>\n    </g>\n    <g id=\"ytick_8\">\n     <g id=\"line2d_33\">\n      <path d=\"M 59.690625 43.162633 \nL 729.290625 43.162633 \n\" clip-path=\"url(#p7c04271152)\" style=\"fill: none; stroke: #b0b0b0; stroke-width: 0.8; stroke-linecap: square\"/>\n     </g>\n     <g id=\"line2d_34\">\n      <g>\n       <use xlink:href=\"#md408a2e3b7\" x=\"59.690625\" y=\"43.162633\" style=\"stroke: #000000; stroke-width: 0.8\"/>\n      </g>\n     </g>\n     <g id=\"text_18\">\n      <!-- 35250 -->\n      <g transform=\"translate(20.878125 46.961852)scale(0.1 -0.1)\">\n       <use xlink:href=\"#DejaVuSans-33\"/>\n       <use xlink:href=\"#DejaVuSans-35\" x=\"63.623047\"/>\n       <use xlink:href=\"#DejaVuSans-32\" x=\"127.246094\"/>\n       <use xlink:href=\"#DejaVuSans-35\" x=\"190.869141\"/>\n       <use xlink:href=\"#DejaVuSans-30\" x=\"254.492188\"/>\n      </g>\n     </g>\n    </g>\n    <g id=\"text_19\">\n     <!-- Hamming distance sum -->\n     <g transform=\"translate(14.798438 299.063594)rotate(-90)scale(0.1 -0.1)\">\n      <defs>\n       <path id=\"DejaVuSans-48\" d=\"M 628 4666 \nL 1259 4666 \nL 1259 2753 \nL 3553 2753 \nL 3553 4666 \nL 4184 4666 \nL 4184 0 \nL 3553 0 \nL 3553 2222 \nL 1259 2222 \nL 1259 0 \nL 628 0 \nL 628 4666 \nz\n\" transform=\"scale(0.015625)\"/>\n       <path id=\"DejaVuSans-61\" d=\"M 2194 1759 \nQ 1497 1759 1228 1600 \nQ 959 1441 959 1056 \nQ 959 750 1161 570 \nQ 1363 391 1709 391 \nQ 2188 391 2477 730 \nQ 2766 1069 2766 1631 \nL 2766 1759 \nL 2194 1759 \nz\nM 3341 1997 \nL 3341 0 \nL 2766 0 \nL 2766 531 \nQ 2569 213 2275 61 \nQ 1981 -91 1556 -91 \nQ 1019 -91 701 211 \nQ 384 513 384 1019 \nQ 384 1609 779 1909 \nQ 1175 2209 1959 2209 \nL 2766 2209 \nL 2766 2266 \nQ 2766 2663 2505 2880 \nQ 2244 3097 1772 3097 \nQ 1472 3097 1187 3025 \nQ 903 2953 641 2809 \nL 641 3341 \nQ 956 3463 1253 3523 \nQ 1550 3584 1831 3584 \nQ 2591 3584 2966 3190 \nQ 3341 2797 3341 1997 \nz\n\" transform=\"scale(0.015625)\"/>\n       <path id=\"DejaVuSans-6d\" d=\"M 3328 2828 \nQ 3544 3216 3844 3400 \nQ 4144 3584 4550 3584 \nQ 5097 3584 5394 3201 \nQ 5691 2819 5691 2113 \nL 5691 0 \nL 5113 0 \nL 5113 2094 \nQ 5113 2597 4934 2840 \nQ 4756 3084 4391 3084 \nQ 3944 3084 3684 2787 \nQ 3425 2491 3425 1978 \nL 3425 0 \nL 2847 0 \nL 2847 2094 \nQ 2847 2600 2669 2842 \nQ 2491 3084 2119 3084 \nQ 1678 3084 1418 2786 \nQ 1159 2488 1159 1978 \nL 1159 0 \nL 581 0 \nL 581 3500 \nL 1159 3500 \nL 1159 2956 \nQ 1356 3278 1631 3431 \nQ 1906 3584 2284 3584 \nQ 2666 3584 2933 3390 \nQ 3200 3197 3328 2828 \nz\n\" transform=\"scale(0.015625)\"/>\n       <path id=\"DejaVuSans-69\" d=\"M 603 3500 \nL 1178 3500 \nL 1178 0 \nL 603 0 \nL 603 3500 \nz\nM 603 4863 \nL 1178 4863 \nL 1178 4134 \nL 603 4134 \nL 603 4863 \nz\n\" transform=\"scale(0.015625)\"/>\n       <path id=\"DejaVuSans-6e\" d=\"M 3513 2113 \nL 3513 0 \nL 2938 0 \nL 2938 2094 \nQ 2938 2591 2744 2837 \nQ 2550 3084 2163 3084 \nQ 1697 3084 1428 2787 \nQ 1159 2491 1159 1978 \nL 1159 0 \nL 581 0 \nL 581 3500 \nL 1159 3500 \nL 1159 2956 \nQ 1366 3272 1645 3428 \nQ 1925 3584 2291 3584 \nQ 2894 3584 3203 3211 \nQ 3513 2838 3513 2113 \nz\n\" transform=\"scale(0.015625)\"/>\n       <path id=\"DejaVuSans-67\" d=\"M 2906 1791 \nQ 2906 2416 2648 2759 \nQ 2391 3103 1925 3103 \nQ 1463 3103 1205 2759 \nQ 947 2416 947 1791 \nQ 947 1169 1205 825 \nQ 1463 481 1925 481 \nQ 2391 481 2648 825 \nQ 2906 1169 2906 1791 \nz\nM 3481 434 \nQ 3481 -459 3084 -895 \nQ 2688 -1331 1869 -1331 \nQ 1566 -1331 1297 -1286 \nQ 1028 -1241 775 -1147 \nL 775 -588 \nQ 1028 -725 1275 -790 \nQ 1522 -856 1778 -856 \nQ 2344 -856 2625 -561 \nQ 2906 -266 2906 331 \nL 2906 616 \nQ 2728 306 2450 153 \nQ 2172 0 1784 0 \nQ 1141 0 747 490 \nQ 353 981 353 1791 \nQ 353 2603 747 3093 \nQ 1141 3584 1784 3584 \nQ 2172 3584 2450 3431 \nQ 2728 3278 2906 2969 \nL 2906 3500 \nL 3481 3500 \nL 3481 434 \nz\n\" transform=\"scale(0.015625)\"/>\n       <path id=\"DejaVuSans-20\" transform=\"scale(0.015625)\"/>\n       <path id=\"DejaVuSans-64\" d=\"M 2906 2969 \nL 2906 4863 \nL 3481 4863 \nL 3481 0 \nL 2906 0 \nL 2906 525 \nQ 2725 213 2448 61 \nQ 2172 -91 1784 -91 \nQ 1150 -91 751 415 \nQ 353 922 353 1747 \nQ 353 2572 751 3078 \nQ 1150 3584 1784 3584 \nQ 2172 3584 2448 3432 \nQ 2725 3281 2906 2969 \nz\nM 947 1747 \nQ 947 1113 1208 752 \nQ 1469 391 1925 391 \nQ 2381 391 2643 752 \nQ 2906 1113 2906 1747 \nQ 2906 2381 2643 2742 \nQ 2381 3103 1925 3103 \nQ 1469 3103 1208 2742 \nQ 947 2381 947 1747 \nz\n\" transform=\"scale(0.015625)\"/>\n       <path id=\"DejaVuSans-74\" d=\"M 1172 4494 \nL 1172 3500 \nL 2356 3500 \nL 2356 3053 \nL 1172 3053 \nL 1172 1153 \nQ 1172 725 1289 603 \nQ 1406 481 1766 481 \nL 2356 481 \nL 2356 0 \nL 1766 0 \nQ 1100 0 847 248 \nQ 594 497 594 1153 \nL 594 3053 \nL 172 3053 \nL 172 3500 \nL 594 3500 \nL 594 4494 \nL 1172 4494 \nz\n\" transform=\"scale(0.015625)\"/>\n       <path id=\"DejaVuSans-65\" d=\"M 3597 1894 \nL 3597 1613 \nL 953 1613 \nQ 991 1019 1311 708 \nQ 1631 397 2203 397 \nQ 2534 397 2845 478 \nQ 3156 559 3463 722 \nL 3463 178 \nQ 3153 47 2828 -22 \nQ 2503 -91 2169 -91 \nQ 1331 -91 842 396 \nQ 353 884 353 1716 \nQ 353 2575 817 3079 \nQ 1281 3584 2069 3584 \nQ 2775 3584 3186 3129 \nQ 3597 2675 3597 1894 \nz\nM 3022 2063 \nQ 3016 2534 2758 2815 \nQ 2500 3097 2075 3097 \nQ 1594 3097 1305 2825 \nQ 1016 2553 972 2059 \nL 3022 2063 \nz\n\" transform=\"scale(0.015625)\"/>\n       <path id=\"DejaVuSans-75\" d=\"M 544 1381 \nL 544 3500 \nL 1119 3500 \nL 1119 1403 \nQ 1119 906 1312 657 \nQ 1506 409 1894 409 \nQ 2359 409 2629 706 \nQ 2900 1003 2900 1516 \nL 2900 3500 \nL 3475 3500 \nL 3475 0 \nL 2900 0 \nL 2900 538 \nQ 2691 219 2414 64 \nQ 2138 -91 1772 -91 \nQ 1169 -91 856 284 \nQ 544 659 544 1381 \nz\nM 1991 3584 \nL 1991 3584 \nz\n\" transform=\"scale(0.015625)\"/>\n      </defs>\n      <use xlink:href=\"#DejaVuSans-48\"/>\n      <use xlink:href=\"#DejaVuSans-61\" x=\"75.195312\"/>\n      <use xlink:href=\"#DejaVuSans-6d\" x=\"136.474609\"/>\n      <use xlink:href=\"#DejaVuSans-6d\" x=\"233.886719\"/>\n      <use xlink:href=\"#DejaVuSans-69\" x=\"331.298828\"/>\n      <use xlink:href=\"#DejaVuSans-6e\" x=\"359.082031\"/>\n      <use xlink:href=\"#DejaVuSans-67\" x=\"422.460938\"/>\n      <use xlink:href=\"#DejaVuSans-20\" x=\"485.9375\"/>\n      <use xlink:href=\"#DejaVuSans-64\" x=\"517.724609\"/>\n      <use xlink:href=\"#DejaVuSans-69\" x=\"581.201172\"/>\n      <use xlink:href=\"#DejaVuSans-73\" x=\"608.984375\"/>\n      <use xlink:href=\"#DejaVuSans-74\" x=\"661.083984\"/>\n      <use xlink:href=\"#DejaVuSans-61\" x=\"700.292969\"/>\n      <use xlink:href=\"#DejaVuSans-6e\" x=\"761.572266\"/>\n      <use xlink:href=\"#DejaVuSans-63\" x=\"824.951172\"/>\n      <use xlink:href=\"#DejaVuSans-65\" x=\"879.931641\"/>\n      <use xlink:href=\"#DejaVuSans-20\" x=\"941.455078\"/>\n      <use xlink:href=\"#DejaVuSans-73\" x=\"973.242188\"/>\n      <use xlink:href=\"#DejaVuSans-75\" x=\"1025.341797\"/>\n      <use xlink:href=\"#DejaVuSans-6d\" x=\"1088.720703\"/>\n     </g>\n    </g>\n   </g>\n   <g id=\"line2d_35\">\n    <path d=\"M 90.126989 42.085398 \nL 394.490625 426.658497 \nL 698.854261 437.430852 \n\" clip-path=\"url(#p7c04271152)\" style=\"fill: none; stroke: #1f77b4; stroke-width: 1.5; stroke-linecap: square\"/>\n   </g>\n   <g id=\"patch_3\">\n    <path d=\"M 59.690625 457.198125 \nL 59.690625 22.318125 \n\" style=\"fill: none; stroke: #000000; stroke-width: 0.8; stroke-linejoin: miter; stroke-linecap: square\"/>\n   </g>\n   <g id=\"patch_4\">\n    <path d=\"M 729.290625 457.198125 \nL 729.290625 22.318125 \n\" style=\"fill: none; stroke: #000000; stroke-width: 0.8; stroke-linejoin: miter; stroke-linecap: square\"/>\n   </g>\n   <g id=\"patch_5\">\n    <path d=\"M 59.690625 457.198125 \nL 729.290625 457.198125 \n\" style=\"fill: none; stroke: #000000; stroke-width: 0.8; stroke-linejoin: miter; stroke-linecap: square\"/>\n   </g>\n   <g id=\"patch_6\">\n    <path d=\"M 59.690625 22.318125 \nL 729.290625 22.318125 \n\" style=\"fill: none; stroke: #000000; stroke-width: 0.8; stroke-linejoin: miter; stroke-linecap: square\"/>\n   </g>\n   <g id=\"text_20\">\n    <!-- transformer &lt;model_demo&gt; validation scores -->\n    <g transform=\"translate(255.657188 16.318125)scale(0.12 -0.12)\">\n     <defs>\n      <path id=\"DejaVuSans-72\" d=\"M 2631 2963 \nQ 2534 3019 2420 3045 \nQ 2306 3072 2169 3072 \nQ 1681 3072 1420 2755 \nQ 1159 2438 1159 1844 \nL 1159 0 \nL 581 0 \nL 581 3500 \nL 1159 3500 \nL 1159 2956 \nQ 1341 3275 1631 3429 \nQ 1922 3584 2338 3584 \nQ 2397 3584 2469 3576 \nQ 2541 3569 2628 3553 \nL 2631 2963 \nz\n\" transform=\"scale(0.015625)\"/>\n      <path id=\"DejaVuSans-66\" d=\"M 2375 4863 \nL 2375 4384 \nL 1825 4384 \nQ 1516 4384 1395 4259 \nQ 1275 4134 1275 3809 \nL 1275 3500 \nL 2222 3500 \nL 2222 3053 \nL 1275 3053 \nL 1275 0 \nL 697 0 \nL 697 3053 \nL 147 3053 \nL 147 3500 \nL 697 3500 \nL 697 3744 \nQ 697 4328 969 4595 \nQ 1241 4863 1831 4863 \nL 2375 4863 \nz\n\" transform=\"scale(0.015625)\"/>\n      <path id=\"DejaVuSans-3c\" d=\"M 4684 3150 \nL 1459 2003 \nL 4684 863 \nL 4684 294 \nL 678 1747 \nL 678 2266 \nL 4684 3719 \nL 4684 3150 \nz\n\" transform=\"scale(0.015625)\"/>\n      <path id=\"DejaVuSans-6c\" d=\"M 603 4863 \nL 1178 4863 \nL 1178 0 \nL 603 0 \nL 603 4863 \nz\n\" transform=\"scale(0.015625)\"/>\n      <path id=\"DejaVuSans-5f\" d=\"M 3263 -1063 \nL 3263 -1509 \nL -63 -1509 \nL -63 -1063 \nL 3263 -1063 \nz\n\" transform=\"scale(0.015625)\"/>\n      <path id=\"DejaVuSans-3e\" d=\"M 678 3150 \nL 678 3719 \nL 4684 2266 \nL 4684 1747 \nL 678 294 \nL 678 863 \nL 3897 2003 \nL 678 3150 \nz\n\" transform=\"scale(0.015625)\"/>\n      <path id=\"DejaVuSans-76\" d=\"M 191 3500 \nL 800 3500 \nL 1894 563 \nL 2988 3500 \nL 3597 3500 \nL 2284 0 \nL 1503 0 \nL 191 3500 \nz\n\" transform=\"scale(0.015625)\"/>\n     </defs>\n     <use xlink:href=\"#DejaVuSans-74\"/>\n     <use xlink:href=\"#DejaVuSans-72\" x=\"39.208984\"/>\n     <use xlink:href=\"#DejaVuSans-61\" x=\"80.322266\"/>\n     <use xlink:href=\"#DejaVuSans-6e\" x=\"141.601562\"/>\n     <use xlink:href=\"#DejaVuSans-73\" x=\"204.980469\"/>\n     <use xlink:href=\"#DejaVuSans-66\" x=\"257.080078\"/>\n     <use xlink:href=\"#DejaVuSans-6f\" x=\"292.285156\"/>\n     <use xlink:href=\"#DejaVuSans-72\" x=\"353.466797\"/>\n     <use xlink:href=\"#DejaVuSans-6d\" x=\"392.830078\"/>\n     <use xlink:href=\"#DejaVuSans-65\" x=\"490.242188\"/>\n     <use xlink:href=\"#DejaVuSans-72\" x=\"551.765625\"/>\n     <use xlink:href=\"#DejaVuSans-20\" x=\"592.878906\"/>\n     <use xlink:href=\"#DejaVuSans-3c\" x=\"624.666016\"/>\n     <use xlink:href=\"#DejaVuSans-6d\" x=\"708.455078\"/>\n     <use xlink:href=\"#DejaVuSans-6f\" x=\"805.867188\"/>\n     <use xlink:href=\"#DejaVuSans-64\" x=\"867.048828\"/>\n     <use xlink:href=\"#DejaVuSans-65\" x=\"930.525391\"/>\n     <use xlink:href=\"#DejaVuSans-6c\" x=\"992.048828\"/>\n     <use xlink:href=\"#DejaVuSans-5f\" x=\"1019.832031\"/>\n     <use xlink:href=\"#DejaVuSans-64\" x=\"1069.832031\"/>\n     <use xlink:href=\"#DejaVuSans-65\" x=\"1133.308594\"/>\n     <use xlink:href=\"#DejaVuSans-6d\" x=\"1194.832031\"/>\n     <use xlink:href=\"#DejaVuSans-6f\" x=\"1292.244141\"/>\n     <use xlink:href=\"#DejaVuSans-3e\" x=\"1353.425781\"/>\n     <use xlink:href=\"#DejaVuSans-20\" x=\"1437.214844\"/>\n     <use xlink:href=\"#DejaVuSans-76\" x=\"1469.001953\"/>\n     <use xlink:href=\"#DejaVuSans-61\" x=\"1528.181641\"/>\n     <use xlink:href=\"#DejaVuSans-6c\" x=\"1589.460938\"/>\n     <use xlink:href=\"#DejaVuSans-69\" x=\"1617.244141\"/>\n     <use xlink:href=\"#DejaVuSans-64\" x=\"1645.027344\"/>\n     <use xlink:href=\"#DejaVuSans-61\" x=\"1708.503906\"/>\n     <use xlink:href=\"#DejaVuSans-74\" x=\"1769.783203\"/>\n     <use xlink:href=\"#DejaVuSans-69\" x=\"1808.992188\"/>\n     <use xlink:href=\"#DejaVuSans-6f\" x=\"1836.775391\"/>\n     <use xlink:href=\"#DejaVuSans-6e\" x=\"1897.957031\"/>\n     <use xlink:href=\"#DejaVuSans-20\" x=\"1961.335938\"/>\n     <use xlink:href=\"#DejaVuSans-73\" x=\"1993.123047\"/>\n     <use xlink:href=\"#DejaVuSans-63\" x=\"2045.222656\"/>\n     <use xlink:href=\"#DejaVuSans-6f\" x=\"2100.203125\"/>\n     <use xlink:href=\"#DejaVuSans-72\" x=\"2161.384766\"/>\n     <use xlink:href=\"#DejaVuSans-65\" x=\"2200.248047\"/>\n     <use xlink:href=\"#DejaVuSans-73\" x=\"2261.771484\"/>\n    </g>\n   </g>\n   <g id=\"legend_1\">\n    <g id=\"patch_7\">\n     <path d=\"M 595.50625 45.274375 \nL 722.290625 45.274375 \nQ 724.290625 45.274375 724.290625 43.274375 \nL 724.290625 29.318125 \nQ 724.290625 27.318125 722.290625 27.318125 \nL 595.50625 27.318125 \nQ 593.50625 27.318125 593.50625 29.318125 \nL 593.50625 43.274375 \nQ 593.50625 45.274375 595.50625 45.274375 \nz\n\" style=\"fill: #ffffff; opacity: 0.8; stroke: #cccccc; stroke-linejoin: miter\"/>\n    </g>\n    <g id=\"line2d_36\">\n     <path d=\"M 597.50625 35.416562 \nL 607.50625 35.416562 \nL 617.50625 35.416562 \n\" style=\"fill: none; stroke: #1f77b4; stroke-width: 1.5; stroke-linecap: square\"/>\n    </g>\n    <g id=\"text_21\">\n     <!-- hamming_distance -->\n     <g transform=\"translate(625.50625 38.916562)scale(0.1 -0.1)\">\n      <use xlink:href=\"#DejaVuSans-68\"/>\n      <use xlink:href=\"#DejaVuSans-61\" x=\"63.378906\"/>\n      <use xlink:href=\"#DejaVuSans-6d\" x=\"124.658203\"/>\n      <use xlink:href=\"#DejaVuSans-6d\" x=\"222.070312\"/>\n      <use xlink:href=\"#DejaVuSans-69\" x=\"319.482422\"/>\n      <use xlink:href=\"#DejaVuSans-6e\" x=\"347.265625\"/>\n      <use xlink:href=\"#DejaVuSans-67\" x=\"410.644531\"/>\n      <use xlink:href=\"#DejaVuSans-5f\" x=\"474.121094\"/>\n      <use xlink:href=\"#DejaVuSans-64\" x=\"524.121094\"/>\n      <use xlink:href=\"#DejaVuSans-69\" x=\"587.597656\"/>\n      <use xlink:href=\"#DejaVuSans-73\" x=\"615.380859\"/>\n      <use xlink:href=\"#DejaVuSans-74\" x=\"667.480469\"/>\n      <use xlink:href=\"#DejaVuSans-61\" x=\"706.689453\"/>\n      <use xlink:href=\"#DejaVuSans-6e\" x=\"767.96875\"/>\n      <use xlink:href=\"#DejaVuSans-63\" x=\"831.347656\"/>\n      <use xlink:href=\"#DejaVuSans-65\" x=\"886.328125\"/>\n     </g>\n    </g>\n   </g>\n  </g>\n </g>\n <defs>\n  <clipPath id=\"p7c04271152\">\n   <rect x=\"59.690625\" y=\"22.318125\" width=\"669.6\" height=\"434.88\"/>\n  </clipPath>\n </defs>\n</svg>\n",
      "text/plain": [
       "<Figure size 864x576 with 1 Axes>"
      ]
     },
     "metadata": {},
     "output_type": "display_data"
    }
   ],
   "source": [
    "# train without validation\n",
    "# train_seq2seq(model_demo, X_train, X_valid_len, Y_train, Y_valid_len, working_score_tensor, lr, num_epochs, batch_size, label_smoothing, amino_dict, device, model_name='model_demo')\n",
    "\n",
    "# train with validation \n",
    "train_seq2seq(model_demo, X_train, X_valid_len, Y_train, Y_valid_len, working_score_tensor, lr, num_epochs, batch_size, label_smoothing, amino_dict, device, model_name='model_demo', X_validation=X_validation, Y_validation=Y_validation, X_validation_valid_len=X_validation_valid_len, Y_validation_valid_len=Y_validation_valid_len)"
   ]
  },
  {
   "cell_type": "code",
   "execution_count": null,
   "metadata": {},
   "outputs": [
    {
     "data": {
      "text/plain": [
       "<All keys matched successfully>"
      ]
     },
     "execution_count": 87,
     "metadata": {},
     "output_type": "execute_result"
    }
   ],
   "source": [
    "# save model \n",
    "# torch.save(net.state_dict(), file_name)\n",
    "# pickle.dump(model_demo, open(\"model_demo.pkl\", \"wb\"))\n",
    "\n",
    "# load model\n",
    "# model_demo = pickle.load(open(\"model_demo_22Jul12_0913AM\", \"rb\"))\n",
    "# model_demo = EncoderDecoder(encoder_demo, decoder_demo)\n",
    "model_demo.load_state_dict(torch.load(\"model_demo_22Jul12_1024AM\", map_location = ('cpu')))\n",
    "# model.eval()\n"
   ]
  },
  {
   "cell_type": "markdown",
   "metadata": {},
   "source": [
    "#### Model predicting"
   ]
  },
  {
   "cell_type": "code",
   "execution_count": null,
   "metadata": {},
   "outputs": [
    {
     "name": "stdout",
     "output_type": "stream",
     "text": [
      "Conditional probability at position 1 is 0.08397284150123596\n",
      "Conditional probability at position 2 is 0.13720513880252838\n",
      "Conditional probability at position 3 is 0.16785955429077148\n",
      "Conditional probability at position 4 is 0.9203442931175232\n",
      "Input target sequence is SPT, predicted complementary peptide is TVT\n",
      "Condition on input, predicted probability is 0.0017799410373475649\n"
     ]
    }
   ],
   "source": [
    "target = ['SPT']\n",
    "num_steps_prediction = 10 # max length of sequence to predict\n",
    "\n",
    "dec_comple_peptide_pred, dec_prob, dec_attention_weight_seq = predict_greedy_single(model_demo, target[0], amino_dict, num_steps_prediction, device, save_attention_weights=True, print_info=True)"
   ]
  },
  {
   "cell_type": "markdown",
   "metadata": {},
   "source": [
    "# Task 2: Train a base model "
   ]
  },
  {
   "cell_type": "markdown",
   "metadata": {},
   "source": [
    "#### Build base model"
   ]
  },
  {
   "cell_type": "code",
   "execution_count": null,
   "metadata": {},
   "outputs": [],
   "source": [
    "query_size, key_size, value_size, num_hiddens = 256, 256, 256, 256\n",
    "num_layers, dropout = 4, 0.1\n",
    "lr, num_epochs, batch_size, label_smoothing = 0.0004, 500, 6000, 0.1\n",
    "ffn_num_input, ffn_num_hiddens, num_heads = 256, 1024, 8\n",
    "\n",
    "norm_shape = [256] # 32 corresponds to the dim of such number to normalize\n",
    "device = d2l.try_gpu()"
   ]
  },
  {
   "cell_type": "code",
   "execution_count": null,
   "metadata": {},
   "outputs": [],
   "source": [
    "encoder_base = TransformerEncoder(\n",
    "\tlen(amino_dict), key_size, query_size, value_size, num_hiddens, \n",
    "\tnorm_shape, ffn_num_input, ffn_num_hiddens, num_heads,\n",
    "\tnum_layers, dropout)\n",
    "decoder_base = TransformerDecoder(\n",
    "\tlen(amino_dict), key_size, query_size, value_size, num_hiddens, \n",
    "\tnorm_shape, ffn_num_input, ffn_num_hiddens, num_heads,\n",
    "\tnum_layers, dropout)\n",
    "model_base = EncoderDecoder(encoder_base, decoder_base)"
   ]
  },
  {
   "cell_type": "code",
   "execution_count": null,
   "metadata": {},
   "outputs": [
    {
     "name": "stdout",
     "output_type": "stream",
     "text": [
      "Base model: total number of parameters: 7378968\n",
      "Base model: total number of trainable parameters: 7378968\n"
     ]
    }
   ],
   "source": [
    "model_base_total_params = sum(p.numel() for p in model_base.parameters())\n",
    "model_base_total_trainable_params = sum(p.numel() for p in model_base.parameters() if p.requires_grad)\n",
    "\n",
    "print('Base model: total number of parameters: {}'.format(model_base_total_params))\n",
    "print('Base model: total number of trainable parameters: {}'.format(model_base_total_trainable_params))"
   ]
  },
  {
   "cell_type": "markdown",
   "metadata": {},
   "source": [
    "#### Model training"
   ]
  },
  {
   "cell_type": "code",
   "execution_count": null,
   "metadata": {},
   "outputs": [],
   "source": [
    "# To train a new model on GPU:\n",
    "# 1. free GPU usage\n",
    "# 2. restart kernel\n",
    "# 3. reload all pretraining data\n",
    "\n",
    "# check gpu_usage\n",
    "#gpu_usage()\n",
    "\n",
    "# free GPU usage\n",
    "#free_gpu_cache()    "
   ]
  },
  {
   "cell_type": "code",
   "execution_count": null,
   "metadata": {},
   "outputs": [],
   "source": [
    "# train without validation\n",
    "# train_seq2seq(model_base, X_train, X_valid_len, Y_train, Y_valid_len, working_score_tensor, lr, num_epochs, batch_size, label_smoothing, amino_dict, device, model_name='model_base', warmup=16000)\n",
    "\n",
    "# train with validation\n",
    "# train_seq2seq(model_base, X_train, X_valid_len, Y_train, Y_valid_len, working_score_tensor, lr, num_epochs, batch_size, label_smoothing, amino_dict, device, model_name='model_base_validation', warmup=16000, X_validation=X_validation, Y_validation=Y_validation, X_validation_valid_len=X_validation_valid_len, Y_validation_valid_len=Y_validation_valid_len)\n"
   ]
  },
  {
   "cell_type": "code",
   "execution_count": null,
   "metadata": {},
   "outputs": [
    {
     "data": {
      "text/plain": [
       "<All keys matched successfully>"
      ]
     },
     "execution_count": 43,
     "metadata": {},
     "output_type": "execute_result"
    }
   ],
   "source": [
    "# save model \n",
    "# torch.save(net.state_dict(), file_name)\n",
    "# pickle.dump(model_base, open(\"model_base.pkl\", \"wb\"))\n",
    "\n",
    "# load model\n",
    "# model_base = pickle.load(open(\"model_base.pkl\", \"rb\"))\n",
    "# model_demo = EncoderDecoder(encoder_demo, decoder_demo)\n",
    "model_base.load_state_dict(torch.load(\"model_base_22Jul14_0326AM\", map_location = ('cpu')))\n",
    "# model.eval()"
   ]
  },
  {
   "cell_type": "markdown",
   "metadata": {},
   "source": [
    "#### Model prediction"
   ]
  },
  {
   "cell_type": "code",
   "execution_count": null,
   "metadata": {},
   "outputs": [
    {
     "name": "stdout",
     "output_type": "stream",
     "text": [
      "['KEMIQEVI' 'FTMLELYE' 'KQVFTVPY' 'DYEVTLTR' 'FHLDVDIS' 'DLRAMPAH'\n",
      " 'KTIYIYNV' 'SREYHICV' 'VYSILTSS' 'KVRVKMET']\n",
      "['LAKPIYLT' 'VRGIEYVK' 'HIIVKLEG' 'RVTLTALY' 'LHFTVKGI' 'SNVWKLGA'\n",
      " 'GTFICGIN' 'TLTVVAHV' 'FYLTAETI' 'TVEVEFSN']\n",
      "Conditional probability at position 1 is 0.9551613330841064\n",
      "Conditional probability at position 2 is 0.9726256132125854\n",
      "Conditional probability at position 3 is 0.9443170428276062\n",
      "Conditional probability at position 4 is 0.9340344071388245\n",
      "Conditional probability at position 5 is 0.954649806022644\n",
      "Conditional probability at position 6 is 0.9690737724304199\n",
      "Conditional probability at position 7 is 0.9708462953567505\n",
      "Conditional probability at position 8 is 0.9615175724029541\n",
      "Conditional probability at position 9 is 0.9101818203926086\n",
      "Input target sequence is KSATTTVM, predicted complementary peptide is EVAIALGG\n",
      "Condition on input, predicted probability is 0.6440801670176379\n"
     ]
    }
   ],
   "source": [
    "num_steps_prediction = 10 # max length of target sequence to predict\n",
    "\n",
    "print(X_validation_letter[0:10])\n",
    "print(Y_validation_letter[0:10])\n",
    "\n",
    "dec_comple_peptide_pred, dec_prob, dec_attention_weight_seq = predict_greedy_single(model_base, 'KSATTTVM', amino_dict, num_steps_prediction, device, save_attention_weights=True, print_info=True)"
   ]
  },
  {
   "cell_type": "markdown",
   "metadata": {},
   "source": [
    "# Task 3: Train a wide model "
   ]
  },
  {
   "cell_type": "markdown",
   "metadata": {},
   "source": [
    "#### Build wide model"
   ]
  },
  {
   "cell_type": "code",
   "execution_count": 42,
   "metadata": {},
   "outputs": [],
   "source": [
    "query_size, key_size, value_size, num_hiddens = 512, 512, 512, 512\n",
    "num_layers, dropout = 4, 0.1\n",
    "lr, num_epochs, batch_size, label_smoothing = 0.0004, 500, 6000, 0.1\n",
    "ffn_num_input, ffn_num_hiddens, num_heads = 512, 2048, 8\n",
    "\n",
    "norm_shape = [512] # 32 corresponds to the dim of such number to normalize\n",
    "device = d2l.try_gpu()"
   ]
  },
  {
   "cell_type": "code",
   "execution_count": 43,
   "metadata": {},
   "outputs": [],
   "source": [
    "encoder_wide = TransformerEncoder(\n",
    "\tlen(amino_dict), key_size, query_size, value_size, num_hiddens, \n",
    "\tnorm_shape, ffn_num_input, ffn_num_hiddens, num_heads,\n",
    "\tnum_layers, dropout)\n",
    "decoder_wide = TransformerDecoder(\n",
    "\tlen(amino_dict), key_size, query_size, value_size, num_hiddens, \n",
    "\tnorm_shape, ffn_num_input, ffn_num_hiddens, num_heads,\n",
    "\tnum_layers, dropout)\n",
    "model_wide = EncoderDecoder(encoder_wide, decoder_wide)"
   ]
  },
  {
   "cell_type": "code",
   "execution_count": 44,
   "metadata": {},
   "outputs": [
    {
     "name": "stdout",
     "output_type": "stream",
     "text": [
      "Base model: total number of parameters: 29437976\n",
      "Base model: total number of trainable parameters: 29437976\n"
     ]
    }
   ],
   "source": [
    "model_wide_total_params = sum(p.numel() for p in model_wide.parameters())\n",
    "model_wide_total_trainable_params = sum(p.numel() for p in model_wide.parameters() if p.requires_grad)\n",
    "\n",
    "print('Base model: total number of parameters: {}'.format(model_wide_total_params))\n",
    "print('Base model: total number of trainable parameters: {}'.format(model_wide_total_trainable_params))"
   ]
  },
  {
   "cell_type": "markdown",
   "metadata": {},
   "source": [
    "#### Model training"
   ]
  },
  {
   "cell_type": "code",
   "execution_count": 114,
   "metadata": {},
   "outputs": [],
   "source": [
    "# train without validation\n",
    "# train_seq2seq(model_wide, X_train, X_valid_len, Y_train, Y_valid_len, working_score_tensor, lr, num_epochs, batch_size, label_smoothing, amino_dict, device, model_name='model_wide', warmup=35000)\n",
    "\n",
    "# train with validation \n",
    "# train_seq2seq(model_wide, X_train, X_valid_len, Y_train, Y_valid_len, working_score_tensor, lr, num_epochs, batch_size, label_smoothing, amino_dict, device, model_name='model_wide_validation', warmup=35000, X_validation=X_validation, Y_validation=Y_validation, X_validation_valid_len=X_validation_valid_len, Y_validation_valid_len=Y_validation_valid_len)"
   ]
  },
  {
   "cell_type": "code",
   "execution_count": 45,
   "metadata": {},
   "outputs": [
    {
     "data": {
      "text/plain": [
       "<All keys matched successfully>"
      ]
     },
     "execution_count": 45,
     "metadata": {},
     "output_type": "execute_result"
    }
   ],
   "source": [
    "model_wide.load_state_dict(torch.load(\"model_wide_22Jul16_1011AM\", map_location = ('cpu')))"
   ]
  },
  {
   "cell_type": "markdown",
   "metadata": {},
   "source": [
    "#### Model prediction"
   ]
  },
  {
   "cell_type": "code",
   "execution_count": 47,
   "metadata": {},
   "outputs": [],
   "source": [
    "# interesting examples to demonstrate the power of the model\n",
    "\n",
    "PDB_beta_strand_1 = 'NRIELKGT' # PDB labels = 'VVARTKYK' (training sample that generate different labels)\n",
    "PNAS_target_1 = 'EQVTNVG' # paper chosen peptide = 'EILVSYQ' (alpha-synuclein residues 61-67)\n",
    "PNAS_target_2 = 'QKLVFFA' # paper chosen peptide = 'FKLSVIT' (Abeta42 residues 15-22)\n",
    "PNAS_target_3 = 'VVTGVTA' # paper chosen peptide = 'FQEAVSG' (alpha-synuclein residues 70-76)\n",
    "\n",
    "task_target_1 = None\n",
    "\n",
    "prediction_length = 7"
   ]
  },
  {
   "cell_type": "code",
   "execution_count": 48,
   "metadata": {},
   "outputs": [
    {
     "name": "stdout",
     "output_type": "stream",
     "text": [
      "Dataset search result: \n",
      " []\n"
     ]
    }
   ],
   "source": [
    "# search whether the target exists in PDB\n",
    "\n",
    "# target, complementary_seq, counts, promiscuity, length, working_score, hb_pattern, para/anti, freq\n",
    "\n",
    "# BSn_data_dataset_sequence -- dataset contains all samples\n",
    "# BSn_data_dataset2 -- dataset with negative working scores removed\n",
    "\n",
    "print(\"Dataset search result: \\n\", search_target(BSn_data_dataset_sequence[:, :6], 'EQVTNVG'))"
   ]
  },
  {
   "cell_type": "code",
   "execution_count": 49,
   "metadata": {},
   "outputs": [
    {
     "name": "stdout",
     "output_type": "stream",
     "text": [
      "Conditional probability at position 1 is 0.8766991496086121\n",
      "Conditional probability at position 2 is 0.9402917623519897\n",
      "Conditional probability at position 3 is 0.9251704216003418\n",
      "Conditional probability at position 4 is 0.955545961856842\n",
      "Conditional probability at position 5 is 0.9349386692047119\n",
      "Conditional probability at position 6 is 0.9246085286140442\n",
      "Conditional probability at position 7 is 0.8873682618141174\n",
      "Conditional probability at position 8 is 0.924082338809967\n",
      "Input target sequence is EQVTNVG, predicted complementary peptide is QYSVLIF\n",
      "Condition on input, predicted probability is 0.5165853870927324\n"
     ]
    }
   ],
   "source": [
    "# greedy single prediction\n",
    "\n",
    "dec_comple_peptide_pred, dec_prob, dec_attention_weight_seq = predict_greedy_single(model_wide, 'EQVTNVG', amino_dict, prediction_length + 2, device, save_attention_weights=True, print_info=True)"
   ]
  },
  {
   "cell_type": "code",
   "execution_count": 50,
   "metadata": {},
   "outputs": [
    {
     "name": "stdout",
     "output_type": "stream",
     "text": [
      "number of total candidates sampled: 150\n",
      "number of unique top candidates successfully sampled: 50\n"
     ]
    },
    {
     "data": {
      "text/plain": [
       "[('QYSVLIF', 0.51658571),\n",
       " ('QYSVLIA', 0.01648752),\n",
       " ('KYSVLIF', 0.00980914),\n",
       " ('QYSVLIT', 0.0080247),\n",
       " ('QYSVLIG', 0.00696116),\n",
       " ('QYSVLVY', 0.00650663),\n",
       " ('NYSVLIF', 0.00345615),\n",
       " ('QYSVLIV', 0.00343376),\n",
       " ('QYSVLIH', 0.0031378),\n",
       " ('LYSVLIF', 0.0027281),\n",
       " ('QYSVLIN', 0.00269287),\n",
       " ('HYSVLIF', 0.00251687),\n",
       " ('QYSVTIT', 0.00230142),\n",
       " ('TTYSWYI', 0.00206827),\n",
       " ('QYNVLIF', 0.0020558),\n",
       " ('QYSVLCF', 0.00174331),\n",
       " ('QYSVLSF', 0.00147748),\n",
       " ('QYSVMIF', 0.00146672),\n",
       " ('QYSVPIS', 0.00111305),\n",
       " ('QYSVLLR', 0.00094485),\n",
       " ('QYSVQVY', 0.00073222),\n",
       " ('QYSVLPI', 0.00070833),\n",
       " ('QYRVRVF', 0.00055912),\n",
       " ('QYSYAVY', 0.00054819),\n",
       " ('QYSVLAV', 0.00042895),\n",
       " ('QYSVHIK', 0.0004214),\n",
       " ('QYSVQYT', 0.00027955),\n",
       " ('QYSMQIE', 0.00024676),\n",
       " ('QYSVLRW', 0.00010693),\n",
       " ('EDVLWMQ', 6.98262156e-05),\n",
       " ('WEYRGLT', 5.33882885e-05),\n",
       " ('FTSLYVY', 3.7018759e-05),\n",
       " ('QYSVWIV', 2.98659379e-05),\n",
       " ('QYSLTAF', 2.24247469e-05),\n",
       " ('FTWAKLK', 1.66849131e-05),\n",
       " ('LKYVIFA', 1.00509951e-05),\n",
       " ('QYYDAIW', 9.72734415e-06),\n",
       " ('QYSVLWY', 6.84002543e-06),\n",
       " ('QYQLSAG', 3.18231741e-06),\n",
       " ('QYRVRYV', 3.02128296e-06),\n",
       " ('TTEVFIF', 2.95955283e-06),\n",
       " ('FTGSFEN', 1.52710174e-06),\n",
       " ('QYWVHHE', 1.19004551e-06),\n",
       " ('QTCTTNL', 8.23464006e-07),\n",
       " ('EDIFTYT', 4.50778202e-07),\n",
       " ('NYSVLAF', 2.33697875e-07),\n",
       " ('QYNVLWD', 1.37031265e-07),\n",
       " ('QHFVWQQ', 3.74590563e-08),\n",
       " ('QAWIRYT', 1.83017459e-08),\n",
       " ('TEWQLAQ', 3.14641022e-11)]"
      ]
     },
     "execution_count": 50,
     "metadata": {},
     "output_type": "execute_result"
    }
   ],
   "source": [
    "# unique top candidates sampling\n",
    "\n",
    "# large num_candidates is recommended if we have enough memory\n",
    "\n",
    "num_candidates = 50\n",
    "max_iter = 20\n",
    "\n",
    "peptide_candidates = sample_candidates(model_wide, 'EQVTNVG', num_candidates, amino_dict, prediction_length + 2, device, max_iter=max_iter)\n",
    "peptide_candidates"
   ]
  },
  {
   "cell_type": "code",
   "execution_count": 52,
   "metadata": {},
   "outputs": [
    {
     "name": "stdout",
     "output_type": "stream",
     "text": [
      "Conditional probability at position 1 is 0.8766991496086121\n",
      "Conditional probability at position 2 is 0.9402917623519897\n",
      "Conditional probability at position 3 is 0.9251704216003418\n",
      "Conditional probability at position 4 is 0.955545961856842\n",
      "Conditional probability at position 5 is 0.9349386692047119\n",
      "Conditional probability at position 6 is 0.9246085286140442\n",
      "Conditional probability at position 7 is 0.000687932304572314\n",
      "Conditional probability at position 8 is 0.924099862575531\n",
      "Input target sequence is EQVTNVG, complementary peptide is QYSVLIE, evaluated probability is 0.0004004904505669424\n"
     ]
    }
   ],
   "source": [
    "# target and complementary peptide evaluation\n",
    "\n",
    "dec_prob, dec_attention_weight_seq = evaluate_single(model_wide, 'EQVTNVG', 'QYSVLIE',amino_dict, prediction_length + 2, device, save_attention_weights=True, print_info=True)"
   ]
  },
  {
   "cell_type": "code",
   "execution_count": 70,
   "metadata": {},
   "outputs": [
    {
     "name": "stdout",
     "output_type": "stream",
     "text": [
      "['KEMIQEVI' 'FTMLELYE' 'KQVFTVPY' 'DYEVTLTR' 'FHLDVDIS' 'DLRAMPAH'\n",
      " 'KTIYIYNV' 'SREYHICV' 'VYSILTSS' 'KVRVKMET']\n",
      "['LAKPIYLT' 'VRGIEYVK' 'HIIVKLEG' 'RVTLTALY' 'LHFTVKGI' 'SNVWKLGA'\n",
      " 'GTFICGIN' 'TLTVVAHV' 'FYLTAETI' 'TVEVEFSN']\n",
      "Greedy batch prediction: \n",
      " [['KEMIQEVI' 'LAKPIYLT' '0.601555347442627']\n",
      " ['FTMLELYE' 'VRGIEYVK' '0.44587305188179016']\n",
      " ['KQVFTVPY' 'HIIVKLEG' '0.6263747215270996']\n",
      " ['DYEVTLTR' 'RVTLTALY' '0.6022646427154541']\n",
      " ['FHLDVDIS' 'LHFTVKGI' '0.6096101403236389']\n",
      " ['DLRAMPAH' 'SNVWKLGA' '0.5396904945373535']\n",
      " ['KTIYIYNV' 'GTFICGIN' '0.5399317145347595']\n",
      " ['SREYHICV' 'TLTVVAHV' '0.5907752513885498']\n",
      " ['VYSILTSS' 'FYLTAETI' '0.5898668169975281']\n",
      " ['KVRVKMET' 'TVEVEFSN' '0.5440295338630676']]\n"
     ]
    }
   ],
   "source": [
    "# greedy batch prediction -- can be used to scan possible target region\n",
    "\n",
    "print(X_validation_letter[:10])\n",
    "print(Y_validation_letter[:10])\n",
    "\n",
    "peptide_pred = predict_greedy_batch(model_wide, X_validation_letter[:10], amino_dict, prediction_length + 2, device)\n",
    "print(\"Greedy batch prediction: \\n\", peptide_pred)"
   ]
  },
  {
   "cell_type": "code",
   "execution_count": 71,
   "metadata": {},
   "outputs": [
    {
     "name": "stdout",
     "output_type": "stream",
     "text": [
      "Iteration: 0\n",
      "Iteration: 1\n",
      "Iteration: 2\n",
      "Iteration: 3\n",
      "Iteration: 4\n",
      "Iteration: 5\n",
      "Iteration: 6\n",
      "Iteration: 7\n",
      "Iteration: 8\n",
      "Iteration: 9\n",
      "Greedy minibatch prediction number: \n",
      " 501\n",
      "Greedy minibatch prediction: \n",
      " [['KEMIQEVI' 'LAKPIYLT' '0.6015552878379822']\n",
      " ['FTMLELYE' 'VRGIEYVK' '0.4458731412887573']\n",
      " ['KQVFTVPY' 'HIIVKLEG' '0.6263746023178101']\n",
      " ['DYEVTLTR' 'RVTLTALY' '0.6022647619247437']\n",
      " ['FHLDVDIS' 'LHFTVKGI' '0.6096100807189941']\n",
      " ['DLRAMPAH' 'SNVWKLGA' '0.5396904945373535']\n",
      " ['KTIYIYNV' 'GTFICGIN' '0.5399318933486938']\n",
      " ['SREYHICV' 'TLTVVAHV' '0.5907752513885498']\n",
      " ['VYSILTSS' 'FYLTAETI' '0.5898668169975281']\n",
      " ['KVRVKMET' 'TVEVEFSN' '0.5440292358398438']]\n"
     ]
    }
   ],
   "source": [
    "# greedy mini_batch prediction -- can be used to scan possible target region\n",
    "\n",
    "num_minibatch = 50\n",
    "peptide_pred = predict_greedy_minibatch(model_wide, X_validation_letter[:501], amino_dict, prediction_length + 2, device, num_minibatch=num_minibatch)\n",
    "print(\"Greedy minibatch prediction number: \\n\", len(peptide_pred))\n",
    "print(\"Greedy minibatch prediction: \\n\", peptide_pred[:10])"
   ]
  },
  {
   "cell_type": "markdown",
   "metadata": {},
   "source": [
    "# Task 4: Model Base Validation analysis"
   ]
  },
  {
   "cell_type": "markdown",
   "metadata": {},
   "source": [
    "#### Build model base validation"
   ]
  },
  {
   "cell_type": "code",
   "execution_count": 58,
   "metadata": {},
   "outputs": [],
   "source": [
    "query_size, key_size, value_size, num_hiddens = 256, 256, 256, 256\n",
    "num_layers, dropout = 4, 0.1\n",
    "lr, num_epochs, batch_size, label_smoothing = 0.0004, 500, 6000, 0.1\n",
    "ffn_num_input, ffn_num_hiddens, num_heads = 256, 1024, 8\n",
    "\n",
    "norm_shape = [256] # 32 corresponds to the dim of such number to normalize\n",
    "device = d2l.try_gpu()"
   ]
  },
  {
   "cell_type": "code",
   "execution_count": 59,
   "metadata": {},
   "outputs": [],
   "source": [
    "encoder_base = TransformerEncoder(\n",
    "\tlen(amino_dict), key_size, query_size, value_size, num_hiddens, \n",
    "\tnorm_shape, ffn_num_input, ffn_num_hiddens, num_heads,\n",
    "\tnum_layers, dropout)\n",
    "decoder_base = TransformerDecoder(\n",
    "\tlen(amino_dict), key_size, query_size, value_size, num_hiddens, \n",
    "\tnorm_shape, ffn_num_input, ffn_num_hiddens, num_heads,\n",
    "\tnum_layers, dropout)\n",
    "model_base_validation = EncoderDecoder(encoder_base, decoder_base)"
   ]
  },
  {
   "cell_type": "code",
   "execution_count": 60,
   "metadata": {},
   "outputs": [
    {
     "name": "stdout",
     "output_type": "stream",
     "text": [
      "Base model: total number of parameters: 7378968\n",
      "Base model: total number of trainable parameters: 7378968\n"
     ]
    }
   ],
   "source": [
    "model_base_validation_total_params = sum(p.numel() for p in model_base_validation.parameters())\n",
    "model_base_validation_total_trainable_params = sum(p.numel() for p in model_base_validation.parameters() if p.requires_grad)\n",
    "\n",
    "print('Base model: total number of parameters: {}'.format(model_base_validation_total_params))\n",
    "print('Base model: total number of trainable parameters: {}'.format(model_base_validation_total_trainable_params))"
   ]
  },
  {
   "cell_type": "code",
   "execution_count": 61,
   "metadata": {},
   "outputs": [
    {
     "data": {
      "text/plain": [
       "<All keys matched successfully>"
      ]
     },
     "execution_count": 61,
     "metadata": {},
     "output_type": "execute_result"
    }
   ],
   "source": [
    "# load the model\n",
    "model_base_validation.load_state_dict(torch.load(\"model_base_validation_22Jul18_0536AM\", map_location = ('cpu')))\n"
   ]
  },
  {
   "cell_type": "markdown",
   "metadata": {},
   "source": [
    "#### Hamming distance analysis on validation set"
   ]
  },
  {
   "cell_type": "code",
   "execution_count": 62,
   "metadata": {},
   "outputs": [
    {
     "name": "stdout",
     "output_type": "stream",
     "text": [
      "['KEMIQEVI' 'FTMLELYE' 'KQVFTVPY' 'DYEVTLTR' 'FHLDVDIS' 'DLRAMPAH'\n",
      " 'KTIYIYNV' 'SREYHICV' 'VYSILTSS' 'KVRVKMET']\n",
      "['LAKPIYLT' 'VRGIEYVK' 'HIIVKLEG' 'RVTLTALY' 'LHFTVKGI' 'SNVWKLGA'\n",
      " 'GTFICGIN' 'TLTVVAHV' 'FYLTAETI' 'TVEVEFSN']\n",
      "(5000, 4)\n"
     ]
    }
   ],
   "source": [
    "prediction_length = 8\n",
    "\n",
    "num_minibatch = 50\n",
    "\n",
    "print(X_validation_letter[:10])\n",
    "print(Y_validation_letter[:10])\n",
    "\n",
    "peptide_pred_list = []\n",
    "num_iter = int(len(X_validation_letter)/num_minibatch)\n",
    "\n",
    "for i in range(num_iter):\n",
    "\tpeptide_pred = predict_greedy_batch(model_base_validation, X_validation_letter[num_minibatch*i:num_minibatch*i+num_minibatch], amino_dict, prediction_length + 2, device)\n",
    "\tpeptide_pred_list.append(peptide_pred)\n",
    "peptide_pred_array = np.vstack(peptide_pred_list)\n",
    "peptide_pred_array_new = np.hstack([peptide_pred_array, np.array(Y_validation_letter).reshape(-1, 1)])\n",
    "# target, prediction, greedy_prob, label\n",
    "\n",
    "print(peptide_pred_array_new.shape)"
   ]
  },
  {
   "cell_type": "code",
   "execution_count": 63,
   "metadata": {},
   "outputs": [
    {
     "name": "stdout",
     "output_type": "stream",
     "text": [
      "Sequence length: 8\n",
      "mismatched sequences: 1428, total sequences: 5000\n",
      "mismatched residues: 6164, total residues: 40000\n",
      "----------------------------------------------------------\n",
      "Sequences prediction accuracy:  0.7144\n",
      "Residue prediction accuracy:  0.8459\n"
     ]
    }
   ],
   "source": [
    "# process the results to study mismatched sequences\n",
    "# target, prediction, prob, label\n",
    "\n",
    "num_validation = len(X_validation_letter)\n",
    "total_residue = num_validation * prediction_length\n",
    "print(\"Sequence length:\", prediction_length)\n",
    "\n",
    "peptide_validation_mismatchs = peptide_pred_array_new[peptide_pred_array_new[:, 1] != np.array(Y_validation_letter)]\n",
    "print(\"mismatched sequences: {}, total sequences: {}\".format(peptide_validation_mismatchs.shape[0], num_validation))\n",
    "\n",
    "peptide_validation_hamming = hamming_distance_sum(peptide_pred_array_new[:, 1], np.array(Y_validation_letter))\n",
    "print(\"mismatched residues: {}, total residues: {}\".format(peptide_validation_hamming, total_residue))\n",
    "\n",
    "print(\"----------------------------------------------------------\")\n",
    "print(\"Sequences prediction accuracy: \", (num_validation-peptide_validation_mismatchs.shape[0])/num_validation)\n",
    "print(\"Residue prediction accuracy: \", (total_residue-peptide_validation_hamming)/total_residue) "
   ]
  },
  {
   "cell_type": "code",
   "execution_count": 64,
   "metadata": {},
   "outputs": [
    {
     "name": "stdout",
     "output_type": "stream",
     "text": [
      "target      prediction      probability       PDB_label\n",
      "[['KVRVKMET' 'SILVDFAT' '0.008602997288107872' 'TVEVEFSN']\n",
      " ['TEGIWRGV' 'WTFPVNII' '0.11936737596988678' 'ATFPVNII']\n",
      " ['LVYETVRV' 'LTYVKVEL' '0.01129102148115635' 'AVPYTYLS']\n",
      " ['TMQMMFGC' 'VSTSFYRM' '0.13841383159160614' 'MGTLFYRL']\n",
      " ['VAGQYEAA' 'AVVRHVQH' '0.3287472426891327' 'AAVQTQEH']\n",
      " ['FFQLFYTL' 'CLSLVIIF' '0.002241917420178652' 'KCGTHIQF']\n",
      " ['KLVHYDVL' 'VVNYIRTV' '0.49400004744529724' 'VVNYIRTI']\n",
      " ['IAIEYTSI' 'LNIRYADY' '0.0031037142034620047' 'REIVTDER']\n",
      " ['HLSVQGPY' 'YFSYTAEY' '0.1979689598083496' 'YFSYTAEF']\n",
      " ['YRLRIDLT' 'PLLKMTTH' '0.26479727029800415' 'PLLKMTTM']\n",
      " ['EIRLTRIL' 'EVRYVLEF' '0.10515044629573822' 'AVRYVLEF']\n",
      " ['NRIELKGT' 'VEARTKYK' '0.2505059540271759' 'VVARTKYK']\n",
      " ['TGWTGYFD' 'LNWDTKLS' '0.2468978762626648' 'LNWDTKLV']\n",
      " ['QFEISITS' 'QFVFMYLH' '0.00542890839278698' 'YSKYSITV']\n",
      " ['PQFKVDGK' 'YEWRSGIW' '0.021402446553111076' 'FKAETNIS']\n",
      " ['LHKTFISV' 'KITYEYKE' '0.167838454246521' 'KITYEYKF']\n",
      " ['RVLVVCAE' 'GVILAAAG' '0.4933861196041107' 'GIILAAAG']\n",
      " ['GVRAIHYS' 'FLSYSEIK' '0.11568101495504379' 'GAGIRDEF']\n",
      " ['AQGFILDL' 'KVGLMGMR' '0.08665251731872559' 'VTRAELRA']\n",
      " ['KGLFYALD' 'TLEYIEIE' '0.0018249814165756106' 'GLLVRMVR']]\n"
     ]
    }
   ],
   "source": [
    "print(\"target      prediction      probability       PDB_label\")\n",
    "print(peptide_validation_mismatchs[0:20, :])"
   ]
  },
  {
   "cell_type": "code",
   "execution_count": 65,
   "metadata": {},
   "outputs": [
    {
     "name": "stdout",
     "output_type": "stream",
     "text": [
      "Conditional probability at position 1 is 0.5547669529914856\n",
      "Conditional probability at position 2 is 0.5106884837150574\n",
      "Conditional probability at position 3 is 0.35666120052337646\n",
      "Conditional probability at position 4 is 0.928555428981781\n",
      "Conditional probability at position 5 is 0.8865200281143188\n",
      "Conditional probability at position 6 is 0.35324156284332275\n",
      "Conditional probability at position 7 is 0.3998695909976959\n",
      "Conditional probability at position 8 is 0.8044186234474182\n",
      "Conditional probability at position 9 is 0.9102398753166199\n",
      "Input target sequence is KVRVKMET, predicted complementary peptide is SILVDFAT\n",
      "Condition on input, predicted probability is 0.00860294306477206\n"
     ]
    }
   ],
   "source": [
    "dec_comple_peptide_pred, dec_prob, dec_attention_weight_seq = predict_greedy_single(model_base_validation, 'KVRVKMET', amino_dict, prediction_length + 2, device, save_attention_weights=True, print_info=True)"
   ]
  },
  {
   "cell_type": "code",
   "execution_count": 66,
   "metadata": {},
   "outputs": [
    {
     "name": "stdout",
     "output_type": "stream",
     "text": [
      "number of total candidates sampled: 400\n",
      "number of unique top candidates successfully sampled: 200\n"
     ]
    },
    {
     "data": {
      "text/plain": [
       "[('TVEVEFSN', 0.03208165),\n",
       " ('TVEVEFSA', 0.03043992),\n",
       " ('SVEVEFSN', 0.02112612),\n",
       " ('SIVVEFSN', 0.01900584),\n",
       " ('SIEVEFSA', 0.01688151),\n",
       " ('SIEVEFSN', 0.01668579),\n",
       " ('SVEVEFSA', 0.01624979),\n",
       " ('EVEVEFSN', 0.01564283),\n",
       " ('EVEVEFSA', 0.00834312),\n",
       " ('SIVVEFSA', 0.00530461),\n",
       " ('EIEVEFSN', 0.00451858),\n",
       " ('VVEVEFSN', 0.00445714),\n",
       " ('NVEVEFSA', 0.00428088),\n",
       " ('EIEVEFSA', 0.00379015),\n",
       " ('TVEVEFAK', 0.00341043),\n",
       " ('STLILVHG', 0.00337687),\n",
       " ('SVEVEFAK', 0.00321075),\n",
       " ('VVEVEFSA', 0.00316605),\n",
       " ('SYLVEFSN', 0.00303602),\n",
       " ('TIEVEFSA', 0.00291795),\n",
       " ('IVEVEFSN', 0.00265904),\n",
       " ('TVVVEFSN', 0.00258578),\n",
       " ('SILVDFSI', 0.00222193),\n",
       " ('DVEVEFSN', 0.00215328),\n",
       " ('DVEVEFSA', 0.00213032),\n",
       " ('SILVDLTI', 0.0020582),\n",
       " ('SLEVEFSN', 0.00198717),\n",
       " ('SYTVEFSA', 0.00193645),\n",
       " ('SYLVEFSA', 0.00187258),\n",
       " ('IVEVEFSA', 0.00187005),\n",
       " ('SVTVEFSA', 0.00164539),\n",
       " ('SVVVEFSN', 0.0016094),\n",
       " ('SILVDLIK', 0.00143755),\n",
       " ('SVTVEFSN', 0.00142241),\n",
       " ('WVEVEFSN', 0.00127238),\n",
       " ('SILVDEEG', 0.0011791),\n",
       " ('SILVDEYE', 0.00103522),\n",
       " ('SYTVEFSN', 0.00102662),\n",
       " ('SISVEFSN', 0.00102141),\n",
       " ('SILVDSVA', 0.00099049),\n",
       " ('SVIVEFAK', 0.00093816),\n",
       " ('SIAVEFSA', 0.00081942),\n",
       " ('KVEVEFSA', 0.00080043),\n",
       " ('FVEVEFSN', 0.00078246),\n",
       " ('TVEVEFSC', 0.00075491),\n",
       " ('SIVVEFQE', 0.00075156),\n",
       " ('SILVDEQE', 0.00073679),\n",
       " ('SILILVHG', 0.00070703),\n",
       " ('NVEVEFAK', 0.00070308),\n",
       " ('SISVEFSA', 0.00066328),\n",
       " ('SVVVEFSA', 0.00058071),\n",
       " ('SILVDLMV', 0.00051226),\n",
       " ('TIVVEFSN', 0.00045466),\n",
       " ('MVEVEFSA', 0.00042254),\n",
       " ('SILVDFQI', 0.00041937),\n",
       " ('SVEVEFSC', 0.00039571),\n",
       " ('TVIVEFSN', 0.00039331),\n",
       " ('SILVDFQV', 0.00036038),\n",
       " ('EVEVTFVN', 0.00035889),\n",
       " ('SILVDLRS', 0.00035666),\n",
       " ('EVEVEFSH', 0.00032353),\n",
       " ('SILVDFWT', 0.00030792),\n",
       " ('TIEVEFAK', 0.00029245),\n",
       " ('TVEVEFSY', 0.00027008),\n",
       " ('RYTVEFSA', 0.0002667),\n",
       " ('SYLVDFRV', 0.00025745),\n",
       " ('SVDIFVTG', 0.00024726),\n",
       " ('TVEVESNV', 0.00024409),\n",
       " ('SVEVEFSS', 0.00023052),\n",
       " ('SILVDMFC', 0.0002288),\n",
       " ('TVSVEFSN', 0.00022713),\n",
       " ('SILVDVWA', 0.0002177),\n",
       " ('NVVVEFSA', 0.00019962),\n",
       " ('SIRVEFSN', 0.00019297),\n",
       " ('SEEVEFSN', 0.00018893),\n",
       " ('GVEVEFSN', 0.00018009),\n",
       " ('TYLVEFSN', 0.00016601),\n",
       " ('NVEVTFSN', 0.00015009),\n",
       " ('EVEVTFGS', 0.00014607),\n",
       " ('SILVDFTV', 0.00013536),\n",
       " ('SILVDFET', 0.00013362),\n",
       " ('EFEVTFSN', 0.00013276),\n",
       " ('SILIVAHG', 0.00012568),\n",
       " ('SILVESRL', 0.00012289),\n",
       " ('NYTVEFSA', 0.00012131),\n",
       " ('SIVVEFSP', 0.00011338),\n",
       " ('SILVDFWQ', 0.00010543),\n",
       " ('SIVVEAVG', 9.97296738e-05),\n",
       " ('TVEVEFSG', 9.01891108e-05),\n",
       " ('SIEIVAVK', 8.37164553e-05),\n",
       " ('SIVVEFSY', 8.13387815e-05),\n",
       " ('SILVDVSG', 7.83077267e-05),\n",
       " ('IVEVEFSH', 7.62673735e-05),\n",
       " ('TVHIEFSN', 7.32409026e-05),\n",
       " ('YAEIVVHG', 6.57430137e-05),\n",
       " ('SIRVDMFL', 6.41694787e-05),\n",
       " ('TVEVTYVE', 6.11333817e-05),\n",
       " ('SVIVEFNG', 5.84296686e-05),\n",
       " ('SVEVFAKF', 5.79427833e-05),\n",
       " ('TDTVEFSA', 5.37283377e-05),\n",
       " ('SILVDFRQ', 4.92812469e-05),\n",
       " ('STLILVSG', 4.81588577e-05),\n",
       " ('TVEVQARY', 3.98354205e-05),\n",
       " ('SIRVDMAT', 3.81306818e-05),\n",
       " ('SIPVDKRI', 3.69022673e-05),\n",
       " ('SILVEFAT', 3.30867661e-05),\n",
       " ('EVEVVFTV', 2.82660203e-05),\n",
       " ('QIEVEFSA', 2.78646676e-05),\n",
       " ('SVDVFVAT', 2.65752915e-05),\n",
       " ('EVEVEFAC', 2.64901064e-05),\n",
       " ('MLEVTFSN', 2.6437936e-05),\n",
       " ('SYLRPSRY', 2.48890919e-05),\n",
       " ('SIFVEQSI', 2.40564004e-05),\n",
       " ('SIFVQAKC', 2.35320204e-05),\n",
       " ('EVEVCEFK', 2.2889044e-05),\n",
       " ('SIRVDLRI', 2.23347488e-05),\n",
       " ('TVPESVTG', 2.16227745e-05),\n",
       " ('TVEVESWA', 2.13672993e-05),\n",
       " ('SILVDMSE', 2.09531809e-05),\n",
       " ('SYLRSFRV', 2.07976664e-05),\n",
       " ('DVEVEFNL', 2.07238209e-05),\n",
       " ('ILTVEFSN', 1.82028143e-05),\n",
       " ('SILVAFTV', 1.80273928e-05),\n",
       " ('SVDEHASA', 1.77831771e-05),\n",
       " ('YLVVEFSA', 1.6835631e-05),\n",
       " ('CYELVARY', 1.65451675e-05),\n",
       " ('SIRVDMPG', 1.61346597e-05),\n",
       " ('TVIVEFAN', 1.55403195e-05),\n",
       " ('SIVVEFKT', 1.39194544e-05),\n",
       " ('STLVVAVQ', 1.34099037e-05),\n",
       " ('SILVEDSG', 1.30449653e-05),\n",
       " ('NYEIVAVK', 1.2791179e-05),\n",
       " ('SVVVEFSP', 1.21647463e-05),\n",
       " ('SIVVESEA', 9.90218086e-06),\n",
       " ('SVTGEIEG', 9.72758062e-06),\n",
       " ('HVTVEFAA', 9.51339916e-06),\n",
       " ('TVEVWGSG', 9.18622209e-06),\n",
       " ('TVEVPFSA', 9.09463688e-06),\n",
       " ('SILIEFRL', 8.58292606e-06),\n",
       " ('SEEVVETG', 7.34911009e-06),\n",
       " ('SYLVDMTI', 7.08114612e-06),\n",
       " ('SILVEFGV', 6.87547572e-06),\n",
       " ('SEEVVISG', 6.32416413e-06),\n",
       " ('DVEVIVSG', 6.12424856e-06),\n",
       " ('SYRVDMHG', 5.73471834e-06),\n",
       " ('TVEEDQEG', 4.76845162e-06),\n",
       " ('YAEIVVIS', 4.34248523e-06),\n",
       " ('SYSYVFSH', 4.18197033e-06),\n",
       " ('EWTIEFSN', 4.1577814e-06),\n",
       " ('HYTREMNV', 4.07280777e-06),\n",
       " ('TVEVTWEL', 3.67099551e-06),\n",
       " ('QVDVFVFG', 3.49607376e-06),\n",
       " ('SVEEEQES', 2.97404563e-06),\n",
       " ('DYEIVVIH', 2.85481087e-06),\n",
       " ('RYLVEFSH', 2.42663009e-06),\n",
       " ('SILVDSQD', 2.21548726e-06),\n",
       " ('TVEVWLHG', 1.98738144e-06),\n",
       " ('SVDFQRSS', 1.88526792e-06),\n",
       " ('EVYVEFAK', 1.8790106e-06),\n",
       " ('SYLAEFSA', 1.81531277e-06),\n",
       " ('SILVECGY', 1.7935447e-06),\n",
       " ('SILILLIK', 1.6466779e-06),\n",
       " ('EVEVETHA', 1.64144751e-06),\n",
       " ('SIVVDCDY', 1.62572246e-06),\n",
       " ('TVPVDMHE', 1.61770743e-06),\n",
       " ('VNVVEFSN', 1.51894847e-06),\n",
       " ('STLILLHR', 1.49378468e-06),\n",
       " ('TVRITMPI', 1.39385338e-06),\n",
       " ('SIGVFAVD', 1.38380312e-06),\n",
       " ('TYTEEMNV', 1.30026763e-06),\n",
       " ('SILVDFMH', 1.29942146e-06),\n",
       " ('SIRIHAKF', 1.29550233e-06),\n",
       " ('STEITQES', 1.25083307e-06),\n",
       " ('SITIRQSV', 1.24949065e-06),\n",
       " ('TVEVVTYK', 1.23415634e-06),\n",
       " ('SREIVLYE', 1.16191472e-06),\n",
       " ('TTQVWGSG', 1.05201468e-06),\n",
       " ('SVVVEFNS', 1.02893125e-06),\n",
       " ('NLAIITSA', 8.96859603e-07),\n",
       " ('SREVLFSE', 8.78836829e-07),\n",
       " ('SVRIIFTQ', 8.72103783e-07),\n",
       " ('DTEITVSD', 8.32473177e-07),\n",
       " ('TVEVPIVG', 7.81315634e-07),\n",
       " ('SVQVLFTH', 7.49540845e-07),\n",
       " ('SVKVQFDS', 7.07188633e-07),\n",
       " ('TYEIFWRE', 5.9753836e-07),\n",
       " ('EIVVEFDS', 5.19432319e-07),\n",
       " ('EVEVEAME', 4.94748178e-07),\n",
       " ('SYLFDVTM', 4.76108625e-07),\n",
       " ('TIEIIFKA', 4.67943778e-07),\n",
       " ('NHVTFGSA', 4.47425862e-07),\n",
       " ('SILVQANT', 4.40103094e-07),\n",
       " ('WVEIIFTV', 4.21102698e-07),\n",
       " ('SYLVDWAW', 4.20037992e-07),\n",
       " ('HVVGEGEA', 4.09999359e-07),\n",
       " ('SILVKVKL', 3.95819626e-07),\n",
       " ('PIAVDCNV', 3.9195865e-07),\n",
       " ('YAEVAVMK', 3.77024435e-07),\n",
       " ('SVEVIAAK', 3.66566951e-07),\n",
       " ('NVEFRVKT', 3.50839059e-07)]"
      ]
     },
     "execution_count": 66,
     "metadata": {},
     "output_type": "execute_result"
    }
   ],
   "source": [
    "num_candidates = 200\n",
    "max_iter = 20\n",
    "\n",
    "peptide_candidates = sample_candidates(model_base_validation, 'KVRVKMET', num_candidates, amino_dict, prediction_length + 2, device, max_iter=max_iter)\n",
    "peptide_candidates"
   ]
  },
  {
   "cell_type": "markdown",
   "metadata": {},
   "source": [
    "# Task 5: Conditional probability vs Hamming distance analysis (model wide)"
   ]
  },
  {
   "cell_type": "markdown",
   "metadata": {},
   "source": [
    "#### Build a wide model"
   ]
  },
  {
   "cell_type": "code",
   "execution_count": 67,
   "metadata": {},
   "outputs": [
    {
     "name": "stdout",
     "output_type": "stream",
     "text": [
      "Base model: total number of parameters: 29437976\n",
      "Base model: total number of trainable parameters: 29437976\n"
     ]
    },
    {
     "data": {
      "text/plain": [
       "<All keys matched successfully>"
      ]
     },
     "execution_count": 67,
     "metadata": {},
     "output_type": "execute_result"
    }
   ],
   "source": [
    "query_size, key_size, value_size, num_hiddens = 512, 512, 512, 512\n",
    "num_layers, dropout = 4, 0.1\n",
    "lr, num_epochs, batch_size, label_smoothing = 0.0004, 500, 6000, 0.1\n",
    "ffn_num_input, ffn_num_hiddens, num_heads = 512, 2048, 8\n",
    "\n",
    "norm_shape = [512] # 32 corresponds to the dim of such number to normalize\n",
    "device = d2l.try_gpu()\n",
    "\n",
    "\n",
    "encoder_wide = TransformerEncoder(\n",
    "\tlen(amino_dict), key_size, query_size, value_size, num_hiddens, \n",
    "\tnorm_shape, ffn_num_input, ffn_num_hiddens, num_heads,\n",
    "\tnum_layers, dropout)\n",
    "decoder_wide = TransformerDecoder(\n",
    "\tlen(amino_dict), key_size, query_size, value_size, num_hiddens, \n",
    "\tnorm_shape, ffn_num_input, ffn_num_hiddens, num_heads,\n",
    "\tnum_layers, dropout)\n",
    "model_wide = EncoderDecoder(encoder_wide, decoder_wide)\n",
    "\n",
    "\n",
    "model_wide_total_params = sum(p.numel() for p in model_wide.parameters())\n",
    "model_wide_total_trainable_params = sum(p.numel() for p in model_wide.parameters() if p.requires_grad)\n",
    "\n",
    "print('Wide model: total number of parameters: {}'.format(model_wide_total_params))\n",
    "print('Wide model: total number of trainable parameters: {}'.format(model_wide_total_trainable_params))\n",
    "\n",
    "\n",
    "model_wide.load_state_dict(torch.load(\"model_wide_22Jul16_1011AM\", map_location = ('cpu')))"
   ]
  },
  {
   "cell_type": "markdown",
   "metadata": {},
   "source": [
    "#### Select random targets"
   ]
  },
  {
   "cell_type": "code",
   "execution_count": 41,
   "metadata": {},
   "outputs": [
    {
     "name": "stdout",
     "output_type": "stream",
     "text": [
      "['YIRPMYWA' 'ELCLAFDT']\n"
     ]
    }
   ],
   "source": [
    "np.random.seed(0)\n",
    "max_index = BSn_data_dataset2_indices_length8_unique.shape[0]\n",
    "random_index = np.random.choice(max_index)\n",
    "\n",
    "random_target_info = BSn_data_dataset2_indices_length8_unique[random_index, :2]\n",
    "print(random_target_info)"
   ]
  },
  {
   "cell_type": "markdown",
   "metadata": {},
   "source": [
    "#### Sampling from model"
   ]
  },
  {
   "cell_type": "markdown",
   "metadata": {},
   "source": [
    "Do not run following cells on local machine! This is time consuming. "
   ]
  },
  {
   "cell_type": "code",
   "execution_count": 42,
   "metadata": {},
   "outputs": [
    {
     "name": "stdout",
     "output_type": "stream",
     "text": [
      "random target: YIRPMYWA\n",
      "random label: ELCLAFDT\n"
     ]
    }
   ],
   "source": [
    "target = random_target_info[0]\n",
    "label = random_target_info[1]\n",
    "\n",
    "print(\"random target:\", target)\n",
    "print(\"random label:\", label)"
   ]
  },
  {
   "cell_type": "code",
   "execution_count": 44,
   "metadata": {},
   "outputs": [
    {
     "name": "stdout",
     "output_type": "stream",
     "text": [
      "number of total candidates sampled: 312\n",
      "number of unique top candidates successfully sampled: 100\n",
      "number of clean samples obtained: 100\n"
     ]
    }
   ],
   "source": [
    "# unique top candidates sampling\n",
    "\n",
    "# large num_candidates is recommended if we have enough memory\n",
    "\n",
    "num_candidates = 100\n",
    "max_iter = 10\n",
    "prediction_length = 8\n",
    "\n",
    "peptide_candidates = sample_candidates(model_wide, target, num_candidates, amino_dict, prediction_length + 2, device, max_iter=max_iter)\n",
    "peptide_candidates_array = np.array(peptide_candidates)"
   ]
  },
  {
   "cell_type": "code",
   "execution_count": 45,
   "metadata": {},
   "outputs": [
    {
     "data": {
      "text/plain": [
       "Text(0.5, 1.0, '<model_wide> sampling distribution plot')"
      ]
     },
     "execution_count": 45,
     "metadata": {},
     "output_type": "execute_result"
    },
    {
     "data": {
      "image/png": "[encoded data removed]",
      "text/plain": [
       "<Figure size 1728x1152 with 1 Axes>"
      ]
     },
     "metadata": {},
     "output_type": "display_data"
    }
   ],
   "source": [
    "random_samples = list(list(zip(*peptide_candidates_array))[0])\n",
    "random_samples_probs = list(list(zip(*peptide_candidates_array))[1])\n",
    "label_list = [label]*num_candidates\n",
    "random_samples_hamming = hamming_distance_list(random_samples, label_list)\n",
    "\n",
    "# prob vs hamming plot \n",
    "plt.figure(figsize=(24, 16), facecolor=(1, 1, 1))\n",
    "file_time = time.strftime('%y%b%d_%I%M%p', time.gmtime())\n",
    "model_name = 'model_wide'\n",
    "\n",
    "plt.scatter(random_samples_hamming, random_samples_probs, label='Target:       {} \\n PDB label: {}'.format(target, label), c='r', s=5)\n",
    "plt.xlabel('Hamming distances')\n",
    "plt.ylabel('Probability of generation')\n",
    "plt.legend()\n",
    "plt.yscale('log')\n",
    "plt.title(\"<{}> sampling distribution plot\".format(model_name))\n",
    "# plt.grid()\n",
    "# plt.savefig('{}_prob_hamming_plot_{}.png'.format(model_name, file_time))"
   ]
  },
  {
   "cell_type": "markdown",
   "metadata": {},
   "source": [
    "#### Save unique length 7 predictions in a folder/files/table"
   ]
  },
  {
   "cell_type": "code",
   "execution_count": 107,
   "metadata": {},
   "outputs": [
    {
     "name": "stdout",
     "output_type": "stream",
     "text": [
      "number of length 7 samples:  (99856, 10)\n",
      "number of unique length 7 sample:  (76435, 10)\n"
     ]
    }
   ],
   "source": [
    "prediction_length = 7\n",
    "\n",
    "# unique length 7 targets\n",
    "target_indices = np.arange(BSn_data_dataset2.shape[0]).reshape(-1, 1)\n",
    "BSn_data_dataset2_indices = np.hstack([BSn_data_dataset2, target_indices])\n",
    "\n",
    "condition1 = np.nonzero(np.array([length==prediction_length for length in BSn_data_dataset2_indices[:, 4]]))\n",
    "BSn_data_dataset2_indices_length_7 = BSn_data_dataset2_indices[condition1]\n",
    "\n",
    "condition2 = np.nonzero(np.array([freq==1 for freq in BSn_data_dataset2_indices_length_7[:, -2]]))\n",
    "BSn_data_dataset2_indices_length_7_unique = BSn_data_dataset2_indices_length_7[condition2]\n",
    "\n",
    "\n",
    "print(\"number of length 7 samples: \", BSn_data_dataset2_indices_length_7.shape)\n",
    "print(\"number of unique length 7 sample: \", BSn_data_dataset2_indices_length_7_unique.shape)\n",
    "# target, complementary_seq, counts, promiscuity, length, working_score, hb_pattern, para/anti, freq, indices"
   ]
  },
  {
   "cell_type": "code",
   "execution_count": 69,
   "metadata": {},
   "outputs": [
    {
     "name": "stdout",
     "output_type": "stream",
     "text": [
      "['WLLTGYI' 'TVNLHGF' 'LYELISR' 'IFVTLLI' 'AVQQRII' 'EVIVQWT' 'EIRIRDG'\n",
      " 'HVMVVGH' 'YQLNQVF' 'KIRIFVP']\n",
      "['FRLELRS' 'KVNLFLI' 'IKRIFVP' 'VHLTAIA' 'NLKANVV' 'TLALSID' 'QIDIGCF'\n",
      " 'FVHGWLY' 'IKISVVY' 'EAVIIDV']\n"
     ]
    }
   ],
   "source": [
    "target_array = BSn_data_dataset2_indices_length_7_unique[:, 0]\n",
    "label_array = BSn_data_dataset2_indices_length_7_unique[:, 1]\n",
    "\n",
    "print(target_array[:10])\n",
    "print(label_array[:10])"
   ]
  },
  {
   "cell_type": "code",
   "execution_count": 104,
   "metadata": {},
   "outputs": [
    {
     "name": "stdout",
     "output_type": "stream",
     "text": [
      "number of total candidates sampled: 348\n",
      "number of unique top candidates successfully sampled: 100\n"
     ]
    }
   ],
   "source": [
    "# predicted peptides, prob, hamming\n",
    "\n",
    "num_candidates = 2000\n",
    "max_iter = 1000\n",
    "\n",
    "total_num_files = target_array.shape[0]\n",
    "\n",
    "count = 1\n",
    "\n",
    "for target, label in zip(target_array, label_array):\n",
    "\tfinal_array = np.zeros((num_candidates, 3), dtype=object)\n",
    "\n",
    "\tpeptide_candidates = sample_candidates(model_wide, target, num_candidates, amino_dict, prediction_length + 2, device, max_iter=max_iter)\n",
    "\tpeptide_candidates_array = np.array(peptide_candidates)\n",
    "\trandom_samples = list(list(zip(*peptide_candidates_array))[0]) # < ----------------\n",
    "\trandom_samples_probs = list(list(zip(*peptide_candidates_array))[1]) # <-----------\n",
    "\tlabel_list = [label]*num_candidates\n",
    "\trandom_samples_hamming = hamming_distance_list(random_samples, label_list) # < -----\n",
    "\n",
    "\trandom_samples_array = np.array(random_samples)\n",
    "\trandom_samples_probs_array = np.array(random_samples_probs)\n",
    "\trandom_samples_hamming_array = np.array(random_samples_hamming)\n",
    "\n",
    "\tfinal_array[:, 0] = random_samples_array\n",
    "\tfinal_array[:, 1] = random_samples_probs_array\n",
    "\tfinal_array[:, 2] = random_samples_hamming_array\n",
    "\n",
    "\t# save to csv file\n",
    "\tnp.savetxt('{}_{}.csv'.format(target, label), final_array, delimiter=',', fmt='%s')\n",
    "\n",
    "\tprint(\"{}/{} file saved\".format(count, total_num_files))\n",
    "\tcount += 1\n"
   ]
  },
  {
   "cell_type": "code",
   "execution_count": 105,
   "metadata": {},
   "outputs": [],
   "source": [
    "# load data \n",
    "# data = np.loadtxt('data.csv', delimiter=',', dtype=object)\n",
    "# data[:, 1] = data[:, 1].astype(np.float64)\n",
    "# data[:, 2] = data[:, 2].astype(np.int64)"
   ]
  },
  {
   "cell_type": "markdown",
   "metadata": {},
   "source": [
    "# Task 6: Model Wide Validation analysis"
   ]
  },
  {
   "cell_type": "markdown",
   "metadata": {},
   "source": [
    "#### Build Model Wide Validation"
   ]
  },
  {
   "cell_type": "code",
   "execution_count": 77,
   "metadata": {},
   "outputs": [
    {
     "name": "stdout",
     "output_type": "stream",
     "text": [
      "Wide model: total number of parameters: 29437976\n",
      "Wide model: total number of trainable parameters: 29437976\n"
     ]
    },
    {
     "data": {
      "text/plain": [
       "<All keys matched successfully>"
      ]
     },
     "execution_count": 77,
     "metadata": {},
     "output_type": "execute_result"
    }
   ],
   "source": [
    "query_size, key_size, value_size, num_hiddens = 512, 512, 512, 512\n",
    "num_layers, dropout = 4, 0.1\n",
    "lr, num_epochs, batch_size, label_smoothing = 0.0004, 500, 6000, 0.1\n",
    "ffn_num_input, ffn_num_hiddens, num_heads = 512, 2048, 8\n",
    "\n",
    "norm_shape = [512] # 32 corresponds to the dim of such number to normalize\n",
    "device = d2l.try_gpu()\n",
    "\n",
    "\n",
    "encoder_wide = TransformerEncoder(\n",
    "\tlen(amino_dict), key_size, query_size, value_size, num_hiddens, \n",
    "\tnorm_shape, ffn_num_input, ffn_num_hiddens, num_heads,\n",
    "\tnum_layers, dropout)\n",
    "decoder_wide = TransformerDecoder(\n",
    "\tlen(amino_dict), key_size, query_size, value_size, num_hiddens, \n",
    "\tnorm_shape, ffn_num_input, ffn_num_hiddens, num_heads,\n",
    "\tnum_layers, dropout)\n",
    "model_wide_validation = EncoderDecoder(encoder_wide, decoder_wide)\n",
    "\n",
    "\n",
    "model_wide_validation_total_params = sum(p.numel() for p in model_wide_validation.parameters())\n",
    "model_wide_validation_total_trainable_params = sum(p.numel() for p in model_wide_validation.parameters() if p.requires_grad)\n",
    "\n",
    "print('Wide model: total number of parameters: {}'.format(model_wide_validation_total_params))\n",
    "print('Wide model: total number of trainable parameters: {}'.format(model_wide_validation_total_trainable_params))\n",
    "\n",
    "\n",
    "model_wide_validation.load_state_dict(torch.load(\"model_wide_validation_22Jul19_0332PM\", map_location = ('cpu')))"
   ]
  },
  {
   "cell_type": "markdown",
   "metadata": {},
   "source": [
    "#### Hamming distance analysis on validation set"
   ]
  },
  {
   "cell_type": "code",
   "execution_count": 78,
   "metadata": {},
   "outputs": [
    {
     "name": "stdout",
     "output_type": "stream",
     "text": [
      "['KEMIQEVI' 'FTMLELYE' 'KQVFTVPY' 'DYEVTLTR' 'FHLDVDIS' 'DLRAMPAH'\n",
      " 'KTIYIYNV' 'SREYHICV' 'VYSILTSS' 'KVRVKMET']\n",
      "['LAKPIYLT' 'VRGIEYVK' 'HIIVKLEG' 'RVTLTALY' 'LHFTVKGI' 'SNVWKLGA'\n",
      " 'GTFICGIN' 'TLTVVAHV' 'FYLTAETI' 'TVEVEFSN']\n",
      "(5000, 4)\n"
     ]
    }
   ],
   "source": [
    "prediction_length = 8\n",
    "\n",
    "num_minibatch = 50\n",
    "\n",
    "print(X_validation_letter[:10])\n",
    "print(Y_validation_letter[:10])\n",
    "\n",
    "peptide_pred_list = []\n",
    "num_iter = int(len(X_validation_letter)/num_minibatch)\n",
    "\n",
    "for i in range(num_iter):\n",
    "\tpeptide_pred = predict_greedy_batch(model_wide_validation, X_validation_letter[num_minibatch*i:num_minibatch*i+num_minibatch], amino_dict, prediction_length + 2, device)\n",
    "\tpeptide_pred_list.append(peptide_pred)\n",
    "peptide_pred_array = np.vstack(peptide_pred_list)\n",
    "peptide_pred_array_new = np.hstack([peptide_pred_array, np.array(Y_validation_letter).reshape(-1, 1)])\n",
    "# target, prediction, greedy_prob, label\n",
    "\n",
    "print(peptide_pred_array_new.shape)"
   ]
  },
  {
   "cell_type": "code",
   "execution_count": 80,
   "metadata": {},
   "outputs": [
    {
     "name": "stdout",
     "output_type": "stream",
     "text": [
      "target      prediction      probability       PDB_label\n",
      "[['KEMIQEVI' 'LAKPIYLT' '0.5870164036750793' 'LAKPIYLT']\n",
      " ['FTMLELYE' 'VRGIEYVK' '0.5109961628913879' 'VRGIEYVK']\n",
      " ['KQVFTVPY' 'HIIVKLEG' '0.6000309586524963' 'HIIVKLEG']\n",
      " ['DYEVTLTR' 'RVTLTALY' '0.6115418672561646' 'RVTLTALY']\n",
      " ['FHLDVDIS' 'LHFTVKGI' '0.4980522394180298' 'LHFTVKGI']\n",
      " ['DLRAMPAH' 'SNVWKLGA' '0.6242100596427917' 'SNVWKLGA']\n",
      " ['KTIYIYNV' 'GTFICGIN' '0.5452306270599365' 'GTFICGIN']\n",
      " ['SREYHICV' 'TLTVVAHV' '0.5450505018234253' 'TLTVVAHV']\n",
      " ['VYSILTSS' 'FYLTAETI' '0.5651091933250427' 'FYLTAETI']\n",
      " ['KVRVKMET' 'TVEVEFSN' '0.45552313327789307' 'TVEVEFSN']\n",
      " ['LEGVFSFS' 'VRITQSDR' '0.5577001571655273' 'VRITQSDR']\n",
      " ['GTNSIKLV' 'ASLSWVIS' '0.572431206703186' 'ASLSWVIS']\n",
      " ['TEGIWRGV' 'ATFPVNII' '0.5230062007904053' 'ATFPVNII']\n",
      " ['KRTEDKTS' 'DFQINQTV' '0.5170217752456665' 'DFQINQTV']\n",
      " ['FVEEVFEN' 'RLRVWRRR' '0.5139182209968567' 'RLRVWRRR']\n",
      " ['EFFIIAYE' 'RIFEFKVV' '0.5361490845680237' 'RIFEFKVV']\n",
      " ['TNASLVIK' 'GFSNSLVY' '0.5385259985923767' 'GFSNSLVY']\n",
      " ['AIFDGTVT' 'IYESFKYS' '0.5170488953590393' 'IYESFKYS']\n",
      " ['CFEVASIP' 'RIREMRLI' '0.602592945098877' 'RIREMRLI']\n",
      " ['KCNYRIWT' 'VFRVNTVN' '0.5146044492721558' 'VFRVNTVN']]\n"
     ]
    }
   ],
   "source": [
    "print(\"target      prediction      probability       PDB_label\")\n",
    "print(peptide_pred_array_new[0:20, :])"
   ]
  },
  {
   "cell_type": "code",
   "execution_count": 79,
   "metadata": {},
   "outputs": [
    {
     "name": "stdout",
     "output_type": "stream",
     "text": [
      "Sequence length: 8\n",
      "mismatched sequences: 346, total sequences: 5000\n",
      "mismatched residues: 1931, total residues: 40000\n",
      "hamming distance (per sequence): 0.3862\n",
      "----------------------------------------------------------\n",
      "Sequences prediction accuracy:  0.9308\n",
      "Residue prediction accuracy:  0.951725\n"
     ]
    }
   ],
   "source": [
    "# process the results to study mismatched sequences\n",
    "# target, prediction, prob, label\n",
    "\n",
    "num_validation = len(X_validation_letter)\n",
    "total_residue = num_validation * prediction_length\n",
    "print(\"Sequence length:\", prediction_length)\n",
    "\n",
    "peptide_validation_mismatchs = peptide_pred_array_new[peptide_pred_array_new[:, 1] != np.array(Y_validation_letter)]\n",
    "print(\"mismatched sequences: {}, total sequences: {}\".format(peptide_validation_mismatchs.shape[0], num_validation))\n",
    "\n",
    "peptide_validation_hamming = hamming_distance_sum(peptide_pred_array_new[:, 1], np.array(Y_validation_letter))\n",
    "print(\"mismatched residues: {}, total residues: {}\".format(peptide_validation_hamming, total_residue))\n",
    "\n",
    "print(\"hamming distance (per sequence): {}\".format(peptide_validation_hamming/peptide_pred_array_new.shape[0]))\n",
    "\n",
    "print(\"----------------------------------------------------------\")\n",
    "print(\"Sequences prediction accuracy: \", (num_validation-peptide_validation_mismatchs.shape[0])/num_validation)\n",
    "print(\"Residue prediction accuracy: \", (total_residue-peptide_validation_hamming)/total_residue) "
   ]
  },
  {
   "cell_type": "code",
   "execution_count": 76,
   "metadata": {},
   "outputs": [
    {
     "name": "stdout",
     "output_type": "stream",
     "text": [
      "target      prediction      probability       PDB_label\n",
      "[['LLETNQTL' 'PQKLTFTS' '0.2816137373447418' 'PQKLTFTF']\n",
      " ['NRIELKGT' 'VELDGDVK' '0.2329992800951004' 'VVARTKYK']\n",
      " ['PQFKVDGK' 'NYFEVNCT' '0.06316174566745758' 'FKAETNIS']\n",
      " ['IRATWVLG' 'PSNHYALT' '0.07798828184604645' 'GQTILIAT']\n",
      " ['NIGCIFTG' 'CDLIDIYA' '0.34383484721183777' 'VNYIYITK']\n",
      " ['AQGFILDL' 'KVGFLGLL' '0.12808415293693542' 'VTRAELRA']\n",
      " ['LKLFSIDR' 'VVVCSASF' '0.3233669698238373' 'VVVCSASH']\n",
      " ['SRIIHLSV' 'ALTFSVET' '0.2309432029724121' 'LLTFSVET']\n",
      " ['KGEFQVIG' 'ELHIFGSI' '0.5181494355201721' 'TYRYIGTL']\n",
      " ['ALENRSIT' 'AVSEESIA' '0.3945940136909485' 'ALGMENRQ']\n",
      " ['HIKADMKL' 'THDIHLHG' '0.3814409077167511' 'EYSYKFET']\n",
      " ['NSAILKTW' 'FSISQNLV' '0.42294007539749146' 'FNISQNLV']\n",
      " ['TLSLDVLY' 'NYRVGFYY' '0.26332971453666687' 'GVGLRVGL']\n",
      " ['KLRMEGNV' 'YNKVRFYG' '0.23072834312915802' 'DGDIVFHH']\n",
      " ['HRVVAGYD' 'GAYQGFFQ' '0.17023536562919617' 'YQGAVSVY']\n",
      " ['SLYVSATV' 'PIRAVSVA' '0.05192862078547478' 'QIGFIVFA']\n",
      " ['NIEVTVIN' 'TVAYQLTL' '0.49306103587150574' 'RFKYTKRG']\n",
      " ['GIFSKDLV' 'MEIFKYPL' '0.2678166925907135' 'MEIFKYPV']\n",
      " ['DIEITFAF' 'NLSQTASV' '0.15161684155464172' 'GVKIRCTA']\n",
      " ['HMKIEEKI' 'RLMIMGHL' '0.48440036177635193' 'STETTFLV']]\n"
     ]
    }
   ],
   "source": [
    "print(\"target      prediction      probability       PDB_label\")\n",
    "print(peptide_validation_mismatchs[0:20, :])"
   ]
  },
  {
   "cell_type": "markdown",
   "metadata": {},
   "source": [
    "#### Individual mismatch sampling"
   ]
  },
  {
   "cell_type": "code",
   "execution_count": 89,
   "metadata": {},
   "outputs": [
    {
     "name": "stdout",
     "output_type": "stream",
     "text": [
      "Conditional probability at position 1 is 0.9628952741622925\n",
      "Conditional probability at position 2 is 0.9390546679496765\n",
      "Conditional probability at position 3 is 0.9531745314598083\n",
      "Conditional probability at position 4 is 0.9435302019119263\n",
      "Conditional probability at position 5 is 0.9461644887924194\n",
      "Conditional probability at position 6 is 0.9449514150619507\n",
      "Conditional probability at position 7 is 0.9540488123893738\n",
      "Conditional probability at position 8 is 0.50467449426651\n",
      "Conditional probability at position 9 is 0.9237192869186401\n",
      "Input target sequence is LKLFSIDR, predicted complementary peptide is VVVCSASF\n",
      "Condition on input, predicted probability is 0.32336741449507644\n"
     ]
    }
   ],
   "source": [
    "dec_comple_peptide_pred, dec_prob, dec_attention_weight_seq = predict_greedy_single(model_wide_validation, 'HIKADMKL', amino_dict, prediction_length + 2, device, save_attention_weights=True, print_info=True)"
   ]
  },
  {
   "cell_type": "code",
   "execution_count": 103,
   "metadata": {},
   "outputs": [
    {
     "name": "stdout",
     "output_type": "stream",
     "text": [
      "number of total candidates sampled: 324\n",
      "number of unique top candidates successfully sampled: 100\n"
     ]
    },
    {
     "data": {
      "text/plain": [
       "[('RLMIMGHL', 0.48440048),\n",
       " ('STETTFLV', 0.08871287),\n",
       " ('ELMIMGHL', 0.00347034),\n",
       " ('RLMIMGHR', 0.00267642),\n",
       " ('RLMIMGHN', 0.00235397),\n",
       " ('RLMIMGHS', 0.00229233),\n",
       " ('RLMIMGEG', 0.00189569),\n",
       " ('RLMIMGHP', 0.00178945),\n",
       " ('RLMIMGHF', 0.00171192),\n",
       " ('RLMIMGCK', 0.00166817),\n",
       " ('RLRIMGHL', 0.00145146),\n",
       " ('RLMIMGPW', 0.00133409),\n",
       " ('RLMIMGHV', 0.00133044),\n",
       " ('RLMIMGSR', 0.00123854),\n",
       " ('RLMITLLR', 0.00106754),\n",
       " ('RLMIMGHT', 0.00101379),\n",
       " ('RLLIMGHL', 0.00069795),\n",
       " ('RLMIMGDY', 0.00068726),\n",
       " ('RLMIMGVL', 0.00067319),\n",
       " ('SLETTFLV', 0.00062553),\n",
       " ('RLMIMGFH', 0.00059342),\n",
       " ('RLMIHSVK', 0.00053626),\n",
       " ('RLMIMGNL', 0.00052722),\n",
       " ('RLMIMGWG', 0.00043342),\n",
       " ('KLMIMGHL', 0.00036688),\n",
       " ('RLKIAIST', 0.00035189),\n",
       " ('RLMIMGQH', 0.00034069),\n",
       " ('STETTFPV', 0.00031824),\n",
       " ('RLMIMIAH', 0.00031623),\n",
       " ('STETTFLR', 0.00031487),\n",
       " ('RLMSNAYL', 0.00026317),\n",
       " ('RLMIMTGF', 0.000201),\n",
       " ('RLMIMGPS', 0.00019776),\n",
       " ('STETTFTS', 0.00018746),\n",
       " ('RLMIMTSK', 0.00018731),\n",
       " ('STETTFLN', 0.00018028),\n",
       " ('STETTFEL', 0.00016491),\n",
       " ('STETTPTK', 0.00015704),\n",
       " ('RLMWLVLL', 0.00014117),\n",
       " ('STETTFCL', 0.00013821),\n",
       " ('RLMISLFK', 0.00012452),\n",
       " ('STETTFNL', 0.00011729),\n",
       " ('STETTITK', 8.54830796e-05),\n",
       " ('RLMPTSLV', 8.41732763e-05),\n",
       " ('RLAYGRWF', 4.83518888e-05),\n",
       " ('RLSYRRSF', 4.62539392e-05),\n",
       " ('RLFIYSKH', 4.34987851e-05),\n",
       " ('RLMIMGGW', 4.10191969e-05),\n",
       " ('RLMIWAKR', 3.57892932e-05),\n",
       " ('RLMIKIMH', 2.86002978e-05),\n",
       " ('RLMIIKSV', 2.84875168e-05),\n",
       " ('RLMIGISI', 2.55055184e-05),\n",
       " ('DWEIYKWV', 2.09575755e-05),\n",
       " ('RLMCMFLV', 2.0282745e-05),\n",
       " ('RRSMYLGY', 1.98378893e-05),\n",
       " ('RLMIMHSW', 1.96274705e-05),\n",
       " ('RLMIMGCT', 1.66688969e-05),\n",
       " ('RLMICTSL', 1.63516652e-05),\n",
       " ('RLMIMGDD', 1.47508999e-05),\n",
       " ('RLMIMSLV', 1.11670615e-05),\n",
       " ('RLMICIVR', 1.06163843e-05),\n",
       " ('RLQLTFLV', 8.78384708e-06),\n",
       " ('RLMLMIKR', 7.73426746e-06),\n",
       " ('RLMINLKI', 5.51023504e-06),\n",
       " ('STETTAGY', 4.54835936e-06),\n",
       " ('RCRYIVKH', 4.38785037e-06),\n",
       " ('RLMIEGPY', 3.91991307e-06),\n",
       " ('RKVVYAGH', 3.8358603e-06),\n",
       " ('RLMIGLYR', 2.73627074e-06),\n",
       " ('RLHPVAGH', 2.65593371e-06),\n",
       " ('RLCIYLFK', 2.54014867e-06),\n",
       " ('REKIVISC', 6.28397743e-07),\n",
       " ('RLYIFYKA', 4.23724686e-07),\n",
       " ('STERKLEK', 3.97041703e-07),\n",
       " ('SLVGVYWG', 3.21661474e-07),\n",
       " ('SMEYYKEG', 3.04987282e-07),\n",
       " ('EGEGDYKS', 2.84919707e-07),\n",
       " ('RTVLTLLV', 2.76992552e-07),\n",
       " ('RLMIVWGA', 2.5128827e-07),\n",
       " ('DWEQGKSV', 2.37149479e-07),\n",
       " ('FVMYRSTL', 2.36652809e-07),\n",
       " ('RHVIADIK', 2.20334258e-07),\n",
       " ('RLMDNASM', 1.87264604e-07),\n",
       " ('HIVMGHFS', 1.86418433e-07),\n",
       " ('RLMTKQSY', 1.64163708e-07),\n",
       " ('STETDFSL', 1.10783638e-07),\n",
       " ('STDVVYAS', 5.63930698e-08),\n",
       " ('RLMHTRTL', 3.7938495e-08),\n",
       " ('RDVHVVEG', 3.48733877e-08),\n",
       " ('DWEIYSRI', 9.99386529e-09),\n",
       " ('RLMRWTVV', 8.50812931e-09),\n",
       " ('ALMYRSTY', 6.41347908e-09),\n",
       " ('TLTIEYWT', 5.49727996e-09),\n",
       " ('STKIQSTP', 5.0492992e-09),\n",
       " ('RLKMYLGM', 4.21701518e-09),\n",
       " ('RAMLYKKR', 2.48994048e-09),\n",
       " ('REERHSAT', 2.29135155e-09),\n",
       " ('SDTETYLV', 2.13989693e-09),\n",
       " ('RLDDVTME', 1.36791234e-09),\n",
       " ('RGPFGRIG', 7.84691867e-10)]"
      ]
     },
     "execution_count": 103,
     "metadata": {},
     "output_type": "execute_result"
    }
   ],
   "source": [
    "num_candidates = 100\n",
    "max_iter = 20\n",
    "\n",
    "peptide_candidates = sample_candidates(model_wide_validation, 'HMKIEEKI', num_candidates, amino_dict, prediction_length + 2, device, max_iter=max_iter)\n",
    "peptide_candidates"
   ]
  },
  {
   "cell_type": "markdown",
   "metadata": {},
   "source": [
    "#### Further sampling validation"
   ]
  },
  {
   "cell_type": "code",
   "execution_count": 91,
   "metadata": {},
   "outputs": [
    {
     "name": "stdout",
     "output_type": "stream",
     "text": [
      "number of total candidates sampled: 384\n",
      "number of unique top candidates successfully sampled: 100\n",
      "Quality of current prediction: 1\n",
      "number of total candidates sampled: 260\n",
      "number of unique top candidates successfully sampled: 100\n",
      "Quality of current prediction: 3\n",
      "number of total candidates sampled: 200\n",
      "number of unique top candidates successfully sampled: 100\n",
      "Quality of current prediction: 0\n",
      "number of total candidates sampled: 226\n",
      "number of unique top candidates successfully sampled: 100\n",
      "Quality of current prediction: 0\n",
      "number of total candidates sampled: 274\n",
      "number of unique top candidates successfully sampled: 100\n",
      "Quality of current prediction: 1\n",
      "number of total candidates sampled: 218\n",
      "number of unique top candidates successfully sampled: 100\n",
      "Quality of current prediction: 2\n",
      "number of total candidates sampled: 374\n",
      "number of unique top candidates successfully sampled: 100\n",
      "Quality of current prediction: 1\n",
      "number of total candidates sampled: 256\n",
      "number of unique top candidates successfully sampled: 100\n",
      "Quality of current prediction: 0\n",
      "number of total candidates sampled: 386\n",
      "number of unique top candidates successfully sampled: 100\n",
      "Quality of current prediction: 1\n",
      "number of total candidates sampled: 264\n",
      "number of unique top candidates successfully sampled: 100\n",
      "Quality of current prediction: 1\n",
      "number of total candidates sampled: 264\n",
      "number of unique top candidates successfully sampled: 100\n",
      "Quality of current prediction: 1\n",
      "number of total candidates sampled: 296\n",
      "number of unique top candidates successfully sampled: 100\n",
      "Quality of current prediction: 1\n",
      "number of total candidates sampled: 326\n",
      "number of unique top candidates successfully sampled: 100\n",
      "Quality of current prediction: 1\n",
      "number of total candidates sampled: 272\n",
      "number of unique top candidates successfully sampled: 100\n",
      "Quality of current prediction: 1\n",
      "number of total candidates sampled: 252\n",
      "number of unique top candidates successfully sampled: 100\n",
      "Quality of current prediction: 1\n",
      "number of total candidates sampled: 200\n",
      "number of unique top candidates successfully sampled: 100\n",
      "Quality of current prediction: 0\n",
      "number of total candidates sampled: 294\n",
      "number of unique top candidates successfully sampled: 100\n",
      "Quality of current prediction: 1\n",
      "number of total candidates sampled: 340\n",
      "number of unique top candidates successfully sampled: 100\n",
      "Quality of current prediction: 2\n",
      "number of total candidates sampled: 332\n",
      "number of unique top candidates successfully sampled: 100\n",
      "Quality of current prediction: 0\n",
      "number of total candidates sampled: 376\n",
      "number of unique top candidates successfully sampled: 100\n",
      "Quality of current prediction: 1\n",
      "number of total candidates sampled: 314\n",
      "number of unique top candidates successfully sampled: 100\n",
      "Quality of current prediction: 1\n",
      "number of total candidates sampled: 362\n",
      "number of unique top candidates successfully sampled: 100\n",
      "Quality of current prediction: 1\n",
      "number of total candidates sampled: 282\n",
      "number of unique top candidates successfully sampled: 100\n",
      "Quality of current prediction: 1\n",
      "number of total candidates sampled: 244\n",
      "number of unique top candidates successfully sampled: 100\n",
      "Quality of current prediction: 1\n",
      "number of total candidates sampled: 326\n",
      "number of unique top candidates successfully sampled: 100\n",
      "Quality of current prediction: 1\n",
      "number of total candidates sampled: 292\n",
      "number of unique top candidates successfully sampled: 100\n",
      "Quality of current prediction: 1\n",
      "number of total candidates sampled: 320\n",
      "number of unique top candidates successfully sampled: 100\n",
      "Quality of current prediction: 1\n",
      "number of total candidates sampled: 348\n",
      "number of unique top candidates successfully sampled: 100\n",
      "Quality of current prediction: 1\n",
      "number of total candidates sampled: 338\n",
      "number of unique top candidates successfully sampled: 100\n",
      "Quality of current prediction: 1\n",
      "number of total candidates sampled: 272\n",
      "number of unique top candidates successfully sampled: 100\n",
      "Quality of current prediction: 2\n",
      "number of total candidates sampled: 290\n",
      "number of unique top candidates successfully sampled: 100\n",
      "Quality of current prediction: 3\n",
      "number of total candidates sampled: 350\n",
      "number of unique top candidates successfully sampled: 100\n",
      "Quality of current prediction: 0\n",
      "number of total candidates sampled: 366\n",
      "number of unique top candidates successfully sampled: 100\n",
      "Quality of current prediction: 2\n",
      "number of total candidates sampled: 306\n",
      "number of unique top candidates successfully sampled: 100\n",
      "Quality of current prediction: 1\n",
      "number of total candidates sampled: 266\n",
      "number of unique top candidates successfully sampled: 100\n",
      "Quality of current prediction: 1\n",
      "number of total candidates sampled: 596\n",
      "number of unique top candidates successfully sampled: 100\n",
      "Quality of current prediction: 1\n",
      "number of total candidates sampled: 224\n",
      "number of unique top candidates successfully sampled: 100\n",
      "Quality of current prediction: 0\n",
      "number of total candidates sampled: 334\n",
      "number of unique top candidates successfully sampled: 100\n",
      "Quality of current prediction: 1\n",
      "number of total candidates sampled: 200\n",
      "number of unique top candidates successfully sampled: 100\n",
      "Quality of current prediction: 3\n",
      "number of total candidates sampled: 238\n",
      "number of unique top candidates successfully sampled: 100\n",
      "Quality of current prediction: 1\n",
      "number of total candidates sampled: 322\n",
      "number of unique top candidates successfully sampled: 100\n",
      "Quality of current prediction: 0\n",
      "number of total candidates sampled: 224\n",
      "number of unique top candidates successfully sampled: 100\n",
      "Quality of current prediction: 0\n",
      "number of total candidates sampled: 270\n",
      "number of unique top candidates successfully sampled: 100\n",
      "Quality of current prediction: 2\n",
      "number of total candidates sampled: 216\n",
      "number of unique top candidates successfully sampled: 100\n",
      "Quality of current prediction: 2\n",
      "number of total candidates sampled: 352\n",
      "number of unique top candidates successfully sampled: 100\n",
      "Quality of current prediction: 3\n",
      "number of total candidates sampled: 254\n",
      "number of unique top candidates successfully sampled: 100\n",
      "Quality of current prediction: 1\n",
      "number of total candidates sampled: 274\n",
      "number of unique top candidates successfully sampled: 100\n",
      "Quality of current prediction: 1\n",
      "number of total candidates sampled: 298\n",
      "number of unique top candidates successfully sampled: 100\n",
      "Quality of current prediction: 5\n",
      "number of total candidates sampled: 310\n",
      "number of unique top candidates successfully sampled: 100\n",
      "Quality of current prediction: 1\n",
      "number of total candidates sampled: 424\n",
      "number of unique top candidates successfully sampled: 100\n",
      "Quality of current prediction: 1\n",
      "number of total candidates sampled: 314\n",
      "number of unique top candidates successfully sampled: 100\n",
      "Quality of current prediction: 1\n",
      "number of total candidates sampled: 350\n",
      "number of unique top candidates successfully sampled: 100\n",
      "Quality of current prediction: 1\n",
      "number of total candidates sampled: 268\n",
      "number of unique top candidates successfully sampled: 100\n",
      "Quality of current prediction: 1\n",
      "number of total candidates sampled: 348\n",
      "number of unique top candidates successfully sampled: 100\n",
      "Quality of current prediction: 2\n",
      "number of total candidates sampled: 292\n",
      "number of unique top candidates successfully sampled: 100\n",
      "Quality of current prediction: 3\n",
      "number of total candidates sampled: 296\n",
      "number of unique top candidates successfully sampled: 100\n",
      "Quality of current prediction: 1\n",
      "number of total candidates sampled: 222\n",
      "number of unique top candidates successfully sampled: 100\n",
      "Quality of current prediction: 2\n",
      "number of total candidates sampled: 288\n",
      "number of unique top candidates successfully sampled: 100\n",
      "Quality of current prediction: 1\n",
      "number of total candidates sampled: 382\n",
      "number of unique top candidates successfully sampled: 100\n",
      "Quality of current prediction: 1\n",
      "number of total candidates sampled: 278\n",
      "number of unique top candidates successfully sampled: 100\n",
      "Quality of current prediction: 0\n",
      "number of total candidates sampled: 278\n",
      "number of unique top candidates successfully sampled: 100\n",
      "Quality of current prediction: 1\n",
      "number of total candidates sampled: 274\n",
      "number of unique top candidates successfully sampled: 100\n",
      "Quality of current prediction: 1\n",
      "number of total candidates sampled: 316\n",
      "number of unique top candidates successfully sampled: 100\n",
      "Quality of current prediction: 1\n",
      "number of total candidates sampled: 242\n",
      "number of unique top candidates successfully sampled: 100\n",
      "Quality of current prediction: 0\n",
      "number of total candidates sampled: 270\n",
      "number of unique top candidates successfully sampled: 100\n",
      "Quality of current prediction: 3\n",
      "number of total candidates sampled: 224\n",
      "number of unique top candidates successfully sampled: 100\n",
      "Quality of current prediction: 1\n",
      "number of total candidates sampled: 284\n",
      "number of unique top candidates successfully sampled: 100\n",
      "Quality of current prediction: 0\n",
      "number of total candidates sampled: 260\n",
      "number of unique top candidates successfully sampled: 100\n",
      "Quality of current prediction: 1\n",
      "number of total candidates sampled: 366\n",
      "number of unique top candidates successfully sampled: 100\n",
      "Quality of current prediction: 1\n",
      "number of total candidates sampled: 218\n",
      "number of unique top candidates successfully sampled: 100\n",
      "Quality of current prediction: 0\n",
      "number of total candidates sampled: 200\n",
      "number of unique top candidates successfully sampled: 100\n",
      "Quality of current prediction: 0\n",
      "number of total candidates sampled: 288\n",
      "number of unique top candidates successfully sampled: 100\n",
      "Quality of current prediction: 0\n",
      "number of total candidates sampled: 294\n",
      "number of unique top candidates successfully sampled: 100\n",
      "Quality of current prediction: 2\n",
      "number of total candidates sampled: 200\n",
      "number of unique top candidates successfully sampled: 100\n",
      "Quality of current prediction: 0\n",
      "number of total candidates sampled: 330\n",
      "number of unique top candidates successfully sampled: 100\n",
      "Quality of current prediction: 1\n",
      "number of total candidates sampled: 292\n",
      "number of unique top candidates successfully sampled: 100\n",
      "Quality of current prediction: 1\n",
      "number of total candidates sampled: 244\n",
      "number of unique top candidates successfully sampled: 100\n",
      "Quality of current prediction: 1\n",
      "number of total candidates sampled: 314\n",
      "number of unique top candidates successfully sampled: 100\n",
      "Quality of current prediction: 1\n",
      "number of total candidates sampled: 268\n",
      "number of unique top candidates successfully sampled: 100\n",
      "Quality of current prediction: 0\n",
      "number of total candidates sampled: 262\n",
      "number of unique top candidates successfully sampled: 100\n",
      "Quality of current prediction: 0\n",
      "number of total candidates sampled: 224\n",
      "number of unique top candidates successfully sampled: 100\n",
      "Quality of current prediction: 0\n",
      "number of total candidates sampled: 252\n",
      "number of unique top candidates successfully sampled: 100\n",
      "Quality of current prediction: 0\n",
      "number of total candidates sampled: 236\n",
      "number of unique top candidates successfully sampled: 100\n",
      "Quality of current prediction: 0\n",
      "number of total candidates sampled: 286\n",
      "number of unique top candidates successfully sampled: 100\n",
      "Quality of current prediction: 1\n",
      "number of total candidates sampled: 370\n",
      "number of unique top candidates successfully sampled: 100\n",
      "Quality of current prediction: 1\n",
      "number of total candidates sampled: 258\n",
      "number of unique top candidates successfully sampled: 100\n",
      "Quality of current prediction: 1\n",
      "number of total candidates sampled: 302\n",
      "number of unique top candidates successfully sampled: 100\n",
      "Quality of current prediction: 0\n",
      "number of total candidates sampled: 434\n",
      "number of unique top candidates successfully sampled: 100\n",
      "Quality of current prediction: 2\n",
      "number of total candidates sampled: 236\n",
      "number of unique top candidates successfully sampled: 100\n",
      "Quality of current prediction: 0\n",
      "number of total candidates sampled: 376\n",
      "number of unique top candidates successfully sampled: 100\n",
      "Quality of current prediction: 1\n",
      "number of total candidates sampled: 262\n",
      "number of unique top candidates successfully sampled: 100\n",
      "Quality of current prediction: 3\n",
      "number of total candidates sampled: 310\n",
      "number of unique top candidates successfully sampled: 100\n",
      "Quality of current prediction: 1\n",
      "number of total candidates sampled: 366\n",
      "number of unique top candidates successfully sampled: 100\n",
      "Quality of current prediction: 1\n",
      "number of total candidates sampled: 200\n",
      "number of unique top candidates successfully sampled: 100\n",
      "Quality of current prediction: 0\n",
      "number of total candidates sampled: 308\n",
      "number of unique top candidates successfully sampled: 100\n",
      "Quality of current prediction: 0\n",
      "number of total candidates sampled: 200\n",
      "number of unique top candidates successfully sampled: 100\n",
      "Quality of current prediction: 1\n",
      "number of total candidates sampled: 264\n",
      "number of unique top candidates successfully sampled: 100\n",
      "Quality of current prediction: 1\n",
      "number of total candidates sampled: 320\n",
      "number of unique top candidates successfully sampled: 100\n",
      "Quality of current prediction: 3\n",
      "number of total candidates sampled: 284\n",
      "number of unique top candidates successfully sampled: 100\n",
      "Quality of current prediction: 0\n",
      "number of total candidates sampled: 310\n",
      "number of unique top candidates successfully sampled: 100\n",
      "Quality of current prediction: 0\n",
      "number of total candidates sampled: 298\n",
      "number of unique top candidates successfully sampled: 100\n",
      "Quality of current prediction: 1\n",
      "number of total candidates sampled: 414\n",
      "number of unique top candidates successfully sampled: 100\n",
      "Quality of current prediction: 1\n",
      "number of total candidates sampled: 238\n",
      "number of unique top candidates successfully sampled: 100\n",
      "Quality of current prediction: 3\n",
      "number of total candidates sampled: 374\n",
      "number of unique top candidates successfully sampled: 100\n",
      "Quality of current prediction: 0\n",
      "number of total candidates sampled: 246\n",
      "number of unique top candidates successfully sampled: 100\n",
      "Quality of current prediction: 1\n",
      "number of total candidates sampled: 324\n",
      "number of unique top candidates successfully sampled: 100\n",
      "Quality of current prediction: 1\n",
      "number of total candidates sampled: 278\n",
      "number of unique top candidates successfully sampled: 100\n",
      "Quality of current prediction: 1\n",
      "number of total candidates sampled: 220\n",
      "number of unique top candidates successfully sampled: 100\n",
      "Quality of current prediction: 0\n",
      "number of total candidates sampled: 340\n",
      "number of unique top candidates successfully sampled: 100\n",
      "Quality of current prediction: 2\n",
      "number of total candidates sampled: 342\n",
      "number of unique top candidates successfully sampled: 100\n",
      "Quality of current prediction: 0\n",
      "number of total candidates sampled: 354\n",
      "number of unique top candidates successfully sampled: 100\n",
      "Quality of current prediction: 1\n",
      "number of total candidates sampled: 248\n",
      "number of unique top candidates successfully sampled: 100\n",
      "Quality of current prediction: 2\n",
      "number of total candidates sampled: 220\n",
      "number of unique top candidates successfully sampled: 100\n",
      "Quality of current prediction: 1\n",
      "number of total candidates sampled: 312\n",
      "number of unique top candidates successfully sampled: 100\n",
      "Quality of current prediction: 1\n",
      "number of total candidates sampled: 346\n",
      "number of unique top candidates successfully sampled: 100\n",
      "Quality of current prediction: 1\n",
      "number of total candidates sampled: 308\n",
      "number of unique top candidates successfully sampled: 100\n",
      "Quality of current prediction: 1\n",
      "number of total candidates sampled: 266\n",
      "number of unique top candidates successfully sampled: 100\n",
      "Quality of current prediction: 1\n",
      "number of total candidates sampled: 268\n",
      "number of unique top candidates successfully sampled: 100\n",
      "Quality of current prediction: 1\n",
      "number of total candidates sampled: 288\n",
      "number of unique top candidates successfully sampled: 100\n",
      "Quality of current prediction: 1\n",
      "number of total candidates sampled: 358\n",
      "number of unique top candidates successfully sampled: 100\n",
      "Quality of current prediction: 1\n",
      "number of total candidates sampled: 200\n",
      "number of unique top candidates successfully sampled: 100\n",
      "Quality of current prediction: 0\n",
      "number of total candidates sampled: 278\n",
      "number of unique top candidates successfully sampled: 100\n",
      "Quality of current prediction: 1\n",
      "number of total candidates sampled: 200\n",
      "number of unique top candidates successfully sampled: 100\n",
      "Quality of current prediction: 0\n",
      "number of total candidates sampled: 290\n",
      "number of unique top candidates successfully sampled: 100\n",
      "Quality of current prediction: 0\n",
      "number of total candidates sampled: 290\n",
      "number of unique top candidates successfully sampled: 100\n",
      "Quality of current prediction: 1\n",
      "number of total candidates sampled: 288\n",
      "number of unique top candidates successfully sampled: 100\n",
      "Quality of current prediction: 1\n",
      "number of total candidates sampled: 324\n",
      "number of unique top candidates successfully sampled: 100\n",
      "Quality of current prediction: 1\n",
      "number of total candidates sampled: 298\n",
      "number of unique top candidates successfully sampled: 100\n",
      "Quality of current prediction: 1\n",
      "number of total candidates sampled: 200\n",
      "number of unique top candidates successfully sampled: 100\n",
      "Quality of current prediction: 0\n",
      "number of total candidates sampled: 256\n",
      "number of unique top candidates successfully sampled: 100\n",
      "Quality of current prediction: 1\n",
      "number of total candidates sampled: 260\n",
      "number of unique top candidates successfully sampled: 100\n",
      "Quality of current prediction: 1\n",
      "number of total candidates sampled: 254\n",
      "number of unique top candidates successfully sampled: 100\n",
      "Quality of current prediction: 2\n",
      "number of total candidates sampled: 258\n",
      "number of unique top candidates successfully sampled: 100\n",
      "Quality of current prediction: 1\n",
      "number of total candidates sampled: 262\n",
      "number of unique top candidates successfully sampled: 100\n",
      "Quality of current prediction: 0\n",
      "number of total candidates sampled: 300\n",
      "number of unique top candidates successfully sampled: 100\n",
      "Quality of current prediction: 1\n",
      "number of total candidates sampled: 248\n",
      "number of unique top candidates successfully sampled: 100\n",
      "Quality of current prediction: 4\n",
      "number of total candidates sampled: 314\n",
      "number of unique top candidates successfully sampled: 100\n",
      "Quality of current prediction: 2\n",
      "number of total candidates sampled: 300\n",
      "number of unique top candidates successfully sampled: 100\n",
      "Quality of current prediction: 2\n",
      "number of total candidates sampled: 298\n",
      "number of unique top candidates successfully sampled: 100\n",
      "Quality of current prediction: 2\n",
      "number of total candidates sampled: 388\n",
      "number of unique top candidates successfully sampled: 100\n",
      "Quality of current prediction: 1\n",
      "number of total candidates sampled: 258\n",
      "number of unique top candidates successfully sampled: 100\n",
      "Quality of current prediction: 1\n",
      "number of total candidates sampled: 254\n",
      "number of unique top candidates successfully sampled: 100\n",
      "Quality of current prediction: 1\n",
      "number of total candidates sampled: 206\n",
      "number of unique top candidates successfully sampled: 100\n",
      "Quality of current prediction: 2\n",
      "number of total candidates sampled: 276\n",
      "number of unique top candidates successfully sampled: 100\n",
      "Quality of current prediction: 0\n",
      "number of total candidates sampled: 348\n",
      "number of unique top candidates successfully sampled: 100\n",
      "Quality of current prediction: 1\n",
      "number of total candidates sampled: 278\n",
      "number of unique top candidates successfully sampled: 100\n",
      "Quality of current prediction: 1\n",
      "number of total candidates sampled: 272\n",
      "number of unique top candidates successfully sampled: 100\n",
      "Quality of current prediction: 1\n",
      "number of total candidates sampled: 218\n",
      "number of unique top candidates successfully sampled: 100\n",
      "Quality of current prediction: 1\n",
      "number of total candidates sampled: 352\n",
      "number of unique top candidates successfully sampled: 100\n",
      "Quality of current prediction: 1\n",
      "number of total candidates sampled: 224\n",
      "number of unique top candidates successfully sampled: 100\n",
      "Quality of current prediction: 0\n",
      "number of total candidates sampled: 284\n",
      "number of unique top candidates successfully sampled: 100\n",
      "Quality of current prediction: 3\n",
      "number of total candidates sampled: 228\n",
      "number of unique top candidates successfully sampled: 100\n",
      "Quality of current prediction: 0\n",
      "number of total candidates sampled: 280\n",
      "number of unique top candidates successfully sampled: 100\n",
      "Quality of current prediction: 0\n",
      "number of total candidates sampled: 274\n",
      "number of unique top candidates successfully sampled: 100\n",
      "Quality of current prediction: 0\n",
      "number of total candidates sampled: 324\n",
      "number of unique top candidates successfully sampled: 100\n",
      "Quality of current prediction: 2\n",
      "number of total candidates sampled: 244\n",
      "number of unique top candidates successfully sampled: 100\n",
      "Quality of current prediction: 0\n",
      "number of total candidates sampled: 302\n",
      "number of unique top candidates successfully sampled: 100\n",
      "Quality of current prediction: 1\n",
      "number of total candidates sampled: 272\n",
      "number of unique top candidates successfully sampled: 100\n",
      "Quality of current prediction: 0\n",
      "number of total candidates sampled: 334\n",
      "number of unique top candidates successfully sampled: 100\n",
      "Quality of current prediction: 1\n",
      "number of total candidates sampled: 314\n",
      "number of unique top candidates successfully sampled: 100\n",
      "Quality of current prediction: 1\n",
      "number of total candidates sampled: 334\n",
      "number of unique top candidates successfully sampled: 100\n",
      "Quality of current prediction: 1\n",
      "number of total candidates sampled: 278\n",
      "number of unique top candidates successfully sampled: 100\n",
      "Quality of current prediction: 6\n",
      "number of total candidates sampled: 294\n",
      "number of unique top candidates successfully sampled: 100\n",
      "Quality of current prediction: 1\n",
      "number of total candidates sampled: 302\n",
      "number of unique top candidates successfully sampled: 100\n",
      "Quality of current prediction: 2\n",
      "number of total candidates sampled: 294\n",
      "number of unique top candidates successfully sampled: 100\n",
      "Quality of current prediction: 0\n",
      "number of total candidates sampled: 302\n",
      "number of unique top candidates successfully sampled: 100\n",
      "Quality of current prediction: 2\n",
      "number of total candidates sampled: 276\n",
      "number of unique top candidates successfully sampled: 100\n",
      "Quality of current prediction: 1\n",
      "number of total candidates sampled: 286\n",
      "number of unique top candidates successfully sampled: 100\n",
      "Quality of current prediction: 0\n",
      "number of total candidates sampled: 272\n",
      "number of unique top candidates successfully sampled: 100\n",
      "Quality of current prediction: 3\n",
      "number of total candidates sampled: 316\n",
      "number of unique top candidates successfully sampled: 100\n",
      "Quality of current prediction: 2\n",
      "number of total candidates sampled: 314\n",
      "number of unique top candidates successfully sampled: 100\n",
      "Quality of current prediction: 0\n",
      "number of total candidates sampled: 352\n",
      "number of unique top candidates successfully sampled: 100\n",
      "Quality of current prediction: 1\n",
      "number of total candidates sampled: 304\n",
      "number of unique top candidates successfully sampled: 100\n",
      "Quality of current prediction: 2\n",
      "number of total candidates sampled: 254\n",
      "number of unique top candidates successfully sampled: 100\n",
      "Quality of current prediction: 1\n",
      "number of total candidates sampled: 250\n",
      "number of unique top candidates successfully sampled: 100\n",
      "Quality of current prediction: 2\n",
      "number of total candidates sampled: 232\n",
      "number of unique top candidates successfully sampled: 100\n",
      "Quality of current prediction: 0\n",
      "number of total candidates sampled: 294\n",
      "number of unique top candidates successfully sampled: 100\n",
      "Quality of current prediction: 1\n",
      "number of total candidates sampled: 362\n",
      "number of unique top candidates successfully sampled: 100\n",
      "Quality of current prediction: 1\n",
      "number of total candidates sampled: 252\n",
      "number of unique top candidates successfully sampled: 100\n",
      "Quality of current prediction: 1\n",
      "number of total candidates sampled: 330\n",
      "number of unique top candidates successfully sampled: 100\n",
      "Quality of current prediction: 1\n",
      "number of total candidates sampled: 282\n",
      "number of unique top candidates successfully sampled: 100\n",
      "Quality of current prediction: 1\n",
      "number of total candidates sampled: 294\n",
      "number of unique top candidates successfully sampled: 100\n",
      "Quality of current prediction: 2\n",
      "number of total candidates sampled: 290\n",
      "number of unique top candidates successfully sampled: 100\n",
      "Quality of current prediction: 1\n",
      "number of total candidates sampled: 278\n",
      "number of unique top candidates successfully sampled: 100\n",
      "Quality of current prediction: 1\n",
      "number of total candidates sampled: 322\n",
      "number of unique top candidates successfully sampled: 100\n",
      "Quality of current prediction: 2\n",
      "number of total candidates sampled: 252\n",
      "number of unique top candidates successfully sampled: 100\n",
      "Quality of current prediction: 1\n",
      "number of total candidates sampled: 272\n",
      "number of unique top candidates successfully sampled: 100\n",
      "Quality of current prediction: 0\n",
      "number of total candidates sampled: 260\n",
      "number of unique top candidates successfully sampled: 100\n",
      "Quality of current prediction: 1\n",
      "number of total candidates sampled: 236\n",
      "number of unique top candidates successfully sampled: 100\n",
      "Quality of current prediction: 1\n",
      "number of total candidates sampled: 274\n",
      "number of unique top candidates successfully sampled: 100\n",
      "Quality of current prediction: 3\n",
      "number of total candidates sampled: 304\n",
      "number of unique top candidates successfully sampled: 100\n",
      "Quality of current prediction: 2\n",
      "number of total candidates sampled: 278\n",
      "number of unique top candidates successfully sampled: 100\n",
      "Quality of current prediction: 1\n",
      "number of total candidates sampled: 332\n",
      "number of unique top candidates successfully sampled: 100\n",
      "Quality of current prediction: 1\n",
      "number of total candidates sampled: 340\n",
      "number of unique top candidates successfully sampled: 100\n",
      "Quality of current prediction: 1\n",
      "number of total candidates sampled: 300\n",
      "number of unique top candidates successfully sampled: 100\n",
      "Quality of current prediction: 1\n",
      "number of total candidates sampled: 238\n",
      "number of unique top candidates successfully sampled: 100\n",
      "Quality of current prediction: 0\n",
      "number of total candidates sampled: 252\n",
      "number of unique top candidates successfully sampled: 100\n",
      "Quality of current prediction: 0\n",
      "number of total candidates sampled: 324\n",
      "number of unique top candidates successfully sampled: 100\n",
      "Quality of current prediction: 1\n",
      "number of total candidates sampled: 322\n",
      "number of unique top candidates successfully sampled: 100\n",
      "Quality of current prediction: 1\n",
      "number of total candidates sampled: 320\n",
      "number of unique top candidates successfully sampled: 100\n",
      "Quality of current prediction: 1\n",
      "number of total candidates sampled: 302\n",
      "number of unique top candidates successfully sampled: 100\n",
      "Quality of current prediction: 0\n",
      "number of total candidates sampled: 302\n",
      "number of unique top candidates successfully sampled: 100\n",
      "Quality of current prediction: 1\n",
      "number of total candidates sampled: 340\n",
      "number of unique top candidates successfully sampled: 100\n",
      "Quality of current prediction: 1\n",
      "number of total candidates sampled: 212\n",
      "number of unique top candidates successfully sampled: 100\n",
      "Quality of current prediction: 0\n",
      "number of total candidates sampled: 300\n",
      "number of unique top candidates successfully sampled: 100\n",
      "Quality of current prediction: 1\n",
      "number of total candidates sampled: 280\n",
      "number of unique top candidates successfully sampled: 100\n",
      "Quality of current prediction: 1\n",
      "number of total candidates sampled: 424\n",
      "number of unique top candidates successfully sampled: 100\n",
      "Quality of current prediction: 1\n",
      "number of total candidates sampled: 422\n",
      "number of unique top candidates successfully sampled: 100\n",
      "Quality of current prediction: 1\n",
      "number of total candidates sampled: 266\n",
      "number of unique top candidates successfully sampled: 100\n",
      "Quality of current prediction: 1\n",
      "number of total candidates sampled: 248\n",
      "number of unique top candidates successfully sampled: 100\n",
      "Quality of current prediction: 3\n",
      "number of total candidates sampled: 284\n",
      "number of unique top candidates successfully sampled: 100\n",
      "Quality of current prediction: 0\n",
      "number of total candidates sampled: 300\n",
      "number of unique top candidates successfully sampled: 100\n",
      "Quality of current prediction: 1\n",
      "number of total candidates sampled: 282\n",
      "number of unique top candidates successfully sampled: 100\n",
      "Quality of current prediction: 1\n",
      "number of total candidates sampled: 466\n",
      "number of unique top candidates successfully sampled: 100\n",
      "Quality of current prediction: 1\n",
      "number of total candidates sampled: 342\n",
      "number of unique top candidates successfully sampled: 100\n",
      "Quality of current prediction: 3\n",
      "number of total candidates sampled: 296\n",
      "number of unique top candidates successfully sampled: 100\n",
      "Quality of current prediction: 1\n",
      "number of total candidates sampled: 336\n",
      "number of unique top candidates successfully sampled: 100\n",
      "Quality of current prediction: 1\n",
      "number of total candidates sampled: 266\n",
      "number of unique top candidates successfully sampled: 100\n",
      "Quality of current prediction: 1\n",
      "number of total candidates sampled: 372\n",
      "number of unique top candidates successfully sampled: 100\n",
      "Quality of current prediction: 1\n",
      "number of total candidates sampled: 340\n",
      "number of unique top candidates successfully sampled: 100\n",
      "Quality of current prediction: 1\n",
      "number of total candidates sampled: 306\n",
      "number of unique top candidates successfully sampled: 100\n",
      "Quality of current prediction: 1\n",
      "number of total candidates sampled: 324\n",
      "number of unique top candidates successfully sampled: 100\n",
      "Quality of current prediction: 1\n",
      "number of total candidates sampled: 292\n",
      "number of unique top candidates successfully sampled: 100\n",
      "Quality of current prediction: 1\n",
      "number of total candidates sampled: 242\n",
      "number of unique top candidates successfully sampled: 100\n",
      "Quality of current prediction: 0\n",
      "number of total candidates sampled: 224\n",
      "number of unique top candidates successfully sampled: 100\n",
      "Quality of current prediction: 2\n",
      "number of total candidates sampled: 200\n",
      "number of unique top candidates successfully sampled: 100\n",
      "Quality of current prediction: 0\n",
      "number of total candidates sampled: 274\n",
      "number of unique top candidates successfully sampled: 100\n",
      "Quality of current prediction: 1\n",
      "number of total candidates sampled: 330\n",
      "number of unique top candidates successfully sampled: 100\n",
      "Quality of current prediction: 1\n",
      "number of total candidates sampled: 332\n",
      "number of unique top candidates successfully sampled: 100\n",
      "Quality of current prediction: 1\n",
      "number of total candidates sampled: 290\n",
      "number of unique top candidates successfully sampled: 100\n",
      "Quality of current prediction: 4\n",
      "number of total candidates sampled: 346\n",
      "number of unique top candidates successfully sampled: 100\n",
      "Quality of current prediction: 1\n",
      "number of total candidates sampled: 220\n",
      "number of unique top candidates successfully sampled: 100\n",
      "Quality of current prediction: 5\n",
      "number of total candidates sampled: 400\n",
      "number of unique top candidates successfully sampled: 100\n",
      "Quality of current prediction: 4\n",
      "number of total candidates sampled: 368\n",
      "number of unique top candidates successfully sampled: 100\n",
      "Quality of current prediction: 1\n",
      "number of total candidates sampled: 246\n",
      "number of unique top candidates successfully sampled: 100\n",
      "Quality of current prediction: 0\n",
      "number of total candidates sampled: 298\n",
      "number of unique top candidates successfully sampled: 100\n",
      "Quality of current prediction: 1\n",
      "number of total candidates sampled: 336\n",
      "number of unique top candidates successfully sampled: 100\n",
      "Quality of current prediction: 1\n",
      "number of total candidates sampled: 298\n",
      "number of unique top candidates successfully sampled: 100\n",
      "Quality of current prediction: 2\n",
      "number of total candidates sampled: 272\n",
      "number of unique top candidates successfully sampled: 100\n",
      "Quality of current prediction: 1\n",
      "number of total candidates sampled: 328\n",
      "number of unique top candidates successfully sampled: 100\n",
      "Quality of current prediction: 1\n",
      "number of total candidates sampled: 226\n",
      "number of unique top candidates successfully sampled: 100\n",
      "Quality of current prediction: 4\n",
      "number of total candidates sampled: 276\n",
      "number of unique top candidates successfully sampled: 100\n",
      "Quality of current prediction: 0\n",
      "number of total candidates sampled: 238\n",
      "number of unique top candidates successfully sampled: 100\n",
      "Quality of current prediction: 2\n",
      "number of total candidates sampled: 220\n",
      "number of unique top candidates successfully sampled: 100\n",
      "Quality of current prediction: 0\n",
      "number of total candidates sampled: 302\n",
      "number of unique top candidates successfully sampled: 100\n",
      "Quality of current prediction: 1\n",
      "number of total candidates sampled: 300\n",
      "number of unique top candidates successfully sampled: 100\n",
      "Quality of current prediction: 1\n",
      "number of total candidates sampled: 288\n",
      "number of unique top candidates successfully sampled: 100\n",
      "Quality of current prediction: 1\n",
      "number of total candidates sampled: 316\n",
      "number of unique top candidates successfully sampled: 100\n",
      "Quality of current prediction: 1\n",
      "number of total candidates sampled: 320\n",
      "number of unique top candidates successfully sampled: 100\n",
      "Quality of current prediction: 4\n",
      "number of total candidates sampled: 200\n",
      "number of unique top candidates successfully sampled: 100\n",
      "Quality of current prediction: 0\n",
      "number of total candidates sampled: 330\n",
      "number of unique top candidates successfully sampled: 100\n",
      "Quality of current prediction: 0\n",
      "number of total candidates sampled: 466\n",
      "number of unique top candidates successfully sampled: 100\n",
      "Quality of current prediction: 2\n",
      "number of total candidates sampled: 230\n",
      "number of unique top candidates successfully sampled: 100\n",
      "Quality of current prediction: 2\n",
      "number of total candidates sampled: 264\n",
      "number of unique top candidates successfully sampled: 100\n",
      "Quality of current prediction: 1\n",
      "number of total candidates sampled: 272\n",
      "number of unique top candidates successfully sampled: 100\n",
      "Quality of current prediction: 0\n",
      "number of total candidates sampled: 374\n",
      "number of unique top candidates successfully sampled: 100\n",
      "Quality of current prediction: 1\n",
      "number of total candidates sampled: 244\n",
      "number of unique top candidates successfully sampled: 100\n",
      "Quality of current prediction: 1\n",
      "number of total candidates sampled: 240\n",
      "number of unique top candidates successfully sampled: 100\n",
      "Quality of current prediction: 0\n",
      "number of total candidates sampled: 262\n",
      "number of unique top candidates successfully sampled: 100\n",
      "Quality of current prediction: 4\n",
      "number of total candidates sampled: 286\n",
      "number of unique top candidates successfully sampled: 100\n",
      "Quality of current prediction: 1\n",
      "number of total candidates sampled: 266\n",
      "number of unique top candidates successfully sampled: 100\n",
      "Quality of current prediction: 0\n",
      "number of total candidates sampled: 366\n",
      "number of unique top candidates successfully sampled: 100\n",
      "Quality of current prediction: 1\n",
      "number of total candidates sampled: 214\n",
      "number of unique top candidates successfully sampled: 100\n",
      "Quality of current prediction: 0\n",
      "number of total candidates sampled: 240\n",
      "number of unique top candidates successfully sampled: 100\n",
      "Quality of current prediction: 0\n",
      "number of total candidates sampled: 250\n",
      "number of unique top candidates successfully sampled: 100\n",
      "Quality of current prediction: 0\n",
      "number of total candidates sampled: 244\n",
      "number of unique top candidates successfully sampled: 100\n",
      "Quality of current prediction: 2\n",
      "number of total candidates sampled: 336\n",
      "number of unique top candidates successfully sampled: 100\n",
      "Quality of current prediction: 2\n",
      "number of total candidates sampled: 330\n",
      "number of unique top candidates successfully sampled: 100\n",
      "Quality of current prediction: 0\n",
      "number of total candidates sampled: 298\n",
      "number of unique top candidates successfully sampled: 100\n",
      "Quality of current prediction: 1\n",
      "number of total candidates sampled: 338\n",
      "number of unique top candidates successfully sampled: 100\n",
      "Quality of current prediction: 1\n",
      "number of total candidates sampled: 300\n",
      "number of unique top candidates successfully sampled: 100\n",
      "Quality of current prediction: 1\n",
      "number of total candidates sampled: 306\n",
      "number of unique top candidates successfully sampled: 100\n",
      "Quality of current prediction: 1\n",
      "number of total candidates sampled: 354\n",
      "number of unique top candidates successfully sampled: 100\n",
      "Quality of current prediction: 2\n",
      "number of total candidates sampled: 218\n",
      "number of unique top candidates successfully sampled: 100\n",
      "Quality of current prediction: 0\n",
      "number of total candidates sampled: 258\n",
      "number of unique top candidates successfully sampled: 100\n",
      "Quality of current prediction: 1\n",
      "number of total candidates sampled: 222\n",
      "number of unique top candidates successfully sampled: 100\n",
      "Quality of current prediction: 0\n",
      "number of total candidates sampled: 294\n",
      "number of unique top candidates successfully sampled: 100\n",
      "Quality of current prediction: 1\n",
      "number of total candidates sampled: 252\n",
      "number of unique top candidates successfully sampled: 100\n",
      "Quality of current prediction: 1\n",
      "number of total candidates sampled: 270\n",
      "number of unique top candidates successfully sampled: 100\n",
      "Quality of current prediction: 6\n",
      "number of total candidates sampled: 244\n",
      "number of unique top candidates successfully sampled: 100\n",
      "Quality of current prediction: 2\n",
      "number of total candidates sampled: 234\n",
      "number of unique top candidates successfully sampled: 100\n",
      "Quality of current prediction: 3\n",
      "number of total candidates sampled: 346\n",
      "number of unique top candidates successfully sampled: 100\n",
      "Quality of current prediction: 1\n",
      "number of total candidates sampled: 248\n",
      "number of unique top candidates successfully sampled: 100\n",
      "Quality of current prediction: 1\n",
      "number of total candidates sampled: 282\n",
      "number of unique top candidates successfully sampled: 100\n",
      "Quality of current prediction: 1\n",
      "number of total candidates sampled: 396\n",
      "number of unique top candidates successfully sampled: 100\n",
      "Quality of current prediction: 1\n",
      "number of total candidates sampled: 326\n",
      "number of unique top candidates successfully sampled: 100\n",
      "Quality of current prediction: 0\n",
      "number of total candidates sampled: 340\n",
      "number of unique top candidates successfully sampled: 100\n",
      "Quality of current prediction: 1\n",
      "number of total candidates sampled: 352\n",
      "number of unique top candidates successfully sampled: 100\n",
      "Quality of current prediction: 1\n",
      "number of total candidates sampled: 294\n",
      "number of unique top candidates successfully sampled: 100\n",
      "Quality of current prediction: 1\n",
      "number of total candidates sampled: 200\n",
      "number of unique top candidates successfully sampled: 100\n",
      "Quality of current prediction: 0\n",
      "number of total candidates sampled: 354\n",
      "number of unique top candidates successfully sampled: 100\n",
      "Quality of current prediction: 3\n",
      "number of total candidates sampled: 272\n",
      "number of unique top candidates successfully sampled: 100\n",
      "Quality of current prediction: 1\n",
      "number of total candidates sampled: 300\n",
      "number of unique top candidates successfully sampled: 100\n",
      "Quality of current prediction: 1\n",
      "number of total candidates sampled: 260\n",
      "number of unique top candidates successfully sampled: 100\n",
      "Quality of current prediction: 1\n",
      "number of total candidates sampled: 228\n",
      "number of unique top candidates successfully sampled: 100\n",
      "Quality of current prediction: 1\n",
      "number of total candidates sampled: 288\n",
      "number of unique top candidates successfully sampled: 100\n",
      "Quality of current prediction: 1\n",
      "number of total candidates sampled: 364\n",
      "number of unique top candidates successfully sampled: 100\n",
      "Quality of current prediction: 2\n",
      "number of total candidates sampled: 358\n",
      "number of unique top candidates successfully sampled: 100\n",
      "Quality of current prediction: 1\n",
      "number of total candidates sampled: 258\n",
      "number of unique top candidates successfully sampled: 100\n",
      "Quality of current prediction: 1\n",
      "number of total candidates sampled: 314\n",
      "number of unique top candidates successfully sampled: 100\n",
      "Quality of current prediction: 0\n",
      "number of total candidates sampled: 316\n",
      "number of unique top candidates successfully sampled: 100\n",
      "Quality of current prediction: 1\n",
      "number of total candidates sampled: 258\n",
      "number of unique top candidates successfully sampled: 100\n",
      "Quality of current prediction: 0\n",
      "number of total candidates sampled: 244\n",
      "number of unique top candidates successfully sampled: 100\n",
      "Quality of current prediction: 1\n",
      "number of total candidates sampled: 248\n",
      "number of unique top candidates successfully sampled: 100\n",
      "Quality of current prediction: 0\n",
      "number of total candidates sampled: 302\n",
      "number of unique top candidates successfully sampled: 100\n",
      "Quality of current prediction: 1\n",
      "number of total candidates sampled: 308\n",
      "number of unique top candidates successfully sampled: 100\n",
      "Quality of current prediction: 0\n",
      "number of total candidates sampled: 264\n",
      "number of unique top candidates successfully sampled: 100\n",
      "Quality of current prediction: 2\n",
      "number of total candidates sampled: 352\n",
      "number of unique top candidates successfully sampled: 100\n",
      "Quality of current prediction: 1\n",
      "number of total candidates sampled: 260\n",
      "number of unique top candidates successfully sampled: 100\n",
      "Quality of current prediction: 2\n",
      "number of total candidates sampled: 338\n",
      "number of unique top candidates successfully sampled: 100\n",
      "Quality of current prediction: 1\n",
      "number of total candidates sampled: 248\n",
      "number of unique top candidates successfully sampled: 100\n",
      "Quality of current prediction: 0\n",
      "number of total candidates sampled: 358\n",
      "number of unique top candidates successfully sampled: 100\n",
      "Quality of current prediction: 1\n",
      "number of total candidates sampled: 220\n",
      "number of unique top candidates successfully sampled: 100\n",
      "Quality of current prediction: 0\n",
      "number of total candidates sampled: 220\n",
      "number of unique top candidates successfully sampled: 100\n",
      "Quality of current prediction: 2\n",
      "number of total candidates sampled: 376\n",
      "number of unique top candidates successfully sampled: 100\n",
      "Quality of current prediction: 1\n",
      "number of total candidates sampled: 292\n",
      "number of unique top candidates successfully sampled: 100\n",
      "Quality of current prediction: 1\n",
      "number of total candidates sampled: 316\n",
      "number of unique top candidates successfully sampled: 100\n",
      "Quality of current prediction: 3\n",
      "number of total candidates sampled: 266\n",
      "number of unique top candidates successfully sampled: 100\n",
      "Quality of current prediction: 0\n",
      "number of total candidates sampled: 334\n",
      "number of unique top candidates successfully sampled: 100\n",
      "Quality of current prediction: 1\n",
      "number of total candidates sampled: 276\n",
      "number of unique top candidates successfully sampled: 100\n",
      "Quality of current prediction: 0\n",
      "number of total candidates sampled: 298\n",
      "number of unique top candidates successfully sampled: 100\n",
      "Quality of current prediction: 0\n",
      "number of total candidates sampled: 278\n",
      "number of unique top candidates successfully sampled: 100\n",
      "Quality of current prediction: 0\n",
      "number of total candidates sampled: 334\n",
      "number of unique top candidates successfully sampled: 100\n",
      "Quality of current prediction: 1\n",
      "number of total candidates sampled: 334\n",
      "number of unique top candidates successfully sampled: 100\n",
      "Quality of current prediction: 3\n",
      "number of total candidates sampled: 238\n",
      "number of unique top candidates successfully sampled: 100\n",
      "Quality of current prediction: 2\n",
      "number of total candidates sampled: 334\n",
      "number of unique top candidates successfully sampled: 100\n",
      "Quality of current prediction: 1\n",
      "number of total candidates sampled: 232\n",
      "number of unique top candidates successfully sampled: 100\n",
      "Quality of current prediction: 0\n",
      "number of total candidates sampled: 342\n",
      "number of unique top candidates successfully sampled: 100\n",
      "Quality of current prediction: 1\n",
      "number of total candidates sampled: 282\n",
      "number of unique top candidates successfully sampled: 100\n",
      "Quality of current prediction: 1\n",
      "number of total candidates sampled: 260\n",
      "number of unique top candidates successfully sampled: 100\n",
      "Quality of current prediction: 1\n",
      "number of total candidates sampled: 276\n",
      "number of unique top candidates successfully sampled: 100\n",
      "Quality of current prediction: 1\n",
      "number of total candidates sampled: 332\n",
      "number of unique top candidates successfully sampled: 100\n",
      "Quality of current prediction: 0\n",
      "number of total candidates sampled: 322\n",
      "number of unique top candidates successfully sampled: 100\n",
      "Quality of current prediction: 2\n",
      "number of total candidates sampled: 234\n",
      "number of unique top candidates successfully sampled: 100\n",
      "Quality of current prediction: 1\n",
      "number of total candidates sampled: 296\n",
      "number of unique top candidates successfully sampled: 100\n",
      "Quality of current prediction: 0\n",
      "number of total candidates sampled: 396\n",
      "number of unique top candidates successfully sampled: 100\n",
      "Quality of current prediction: 1\n",
      "number of total candidates sampled: 284\n",
      "number of unique top candidates successfully sampled: 100\n",
      "Quality of current prediction: 0\n",
      "number of total candidates sampled: 212\n",
      "number of unique top candidates successfully sampled: 100\n",
      "Quality of current prediction: 2\n",
      "number of total candidates sampled: 376\n",
      "number of unique top candidates successfully sampled: 100\n",
      "Quality of current prediction: 1\n",
      "number of total candidates sampled: 238\n",
      "number of unique top candidates successfully sampled: 100\n",
      "Quality of current prediction: 1\n",
      "number of total candidates sampled: 316\n",
      "number of unique top candidates successfully sampled: 100\n",
      "Quality of current prediction: 1\n",
      "number of total candidates sampled: 280\n",
      "number of unique top candidates successfully sampled: 100\n",
      "Quality of current prediction: 1\n",
      "number of total candidates sampled: 278\n",
      "number of unique top candidates successfully sampled: 100\n",
      "Quality of current prediction: 1\n",
      "number of total candidates sampled: 268\n",
      "number of unique top candidates successfully sampled: 100\n",
      "Quality of current prediction: 0\n",
      "number of total candidates sampled: 218\n",
      "number of unique top candidates successfully sampled: 100\n",
      "Quality of current prediction: 1\n",
      "number of total candidates sampled: 320\n",
      "number of unique top candidates successfully sampled: 100\n",
      "Quality of current prediction: 1\n"
     ]
    }
   ],
   "source": [
    "prediction_length = 8\n",
    "num_candidates = 100\n",
    "max_iter = 100\n",
    "\n",
    "target_list = peptide_validation_mismatchs[:, 0]\n",
    "label_list = peptide_validation_mismatchs[:, 3]\n",
    "\n",
    "validation_rank_list = []\n",
    "\n",
    "for target, label in zip(target_list, label_list):\n",
    "\tpeptide_candidates = sample_candidates(model_wide_validation, target, num_candidates, amino_dict, prediction_length + 2, device, max_iter=max_iter)\n",
    "\t\n",
    "\tcount = 0\n",
    "\tfor pred, prob in peptide_candidates:\n",
    "\t\tif pred == label:\n",
    "\t\t\tvalidation_rank_list.append(count)\n",
    "\t\t\tprint(\"Quality of current prediction:\", count)\n",
    "\t\t\tbreak \n",
    "\t\tcount += 1\n"
   ]
  },
  {
   "cell_type": "code",
   "execution_count": 92,
   "metadata": {},
   "outputs": [
    {
     "name": "stdout",
     "output_type": "stream",
     "text": [
      "------------------------\n",
      "Frequency of elements is:\n",
      "Counter({1: 191, 0: 85, 2: 42, 3: 18, 4: 6, 5: 2, 6: 2})\n"
     ]
    }
   ],
   "source": [
    "import collections\n",
    "\n",
    "frequencyDict = collections.Counter(validation_rank_list)\n",
    "\n",
    "print('------------------------')\n",
    "print(\"Frequency of elements is:\")\n",
    "print(frequencyDict)"
   ]
  },
  {
   "cell_type": "markdown",
   "metadata": {},
   "source": [
    "# Task 6+: Model Wide Validation comparison with Model Wide"
   ]
  },
  {
   "cell_type": "markdown",
   "metadata": {},
   "source": [
    "#### Build Model Wide"
   ]
  },
  {
   "cell_type": "code",
   "execution_count": 85,
   "metadata": {},
   "outputs": [
    {
     "name": "stdout",
     "output_type": "stream",
     "text": [
      "Wide model: total number of parameters: 29437976\n",
      "Wide model: total number of trainable parameters: 29437976\n"
     ]
    },
    {
     "data": {
      "text/plain": [
       "<All keys matched successfully>"
      ]
     },
     "execution_count": 85,
     "metadata": {},
     "output_type": "execute_result"
    }
   ],
   "source": [
    "query_size, key_size, value_size, num_hiddens = 512, 512, 512, 512\n",
    "num_layers, dropout = 4, 0.1\n",
    "lr, num_epochs, batch_size, label_smoothing = 0.0004, 500, 6000, 0.1\n",
    "ffn_num_input, ffn_num_hiddens, num_heads = 512, 2048, 8\n",
    "\n",
    "norm_shape = [512] # 32 corresponds to the dim of such number to normalize\n",
    "device = d2l.try_gpu()\n",
    "\n",
    "\n",
    "encoder_wide = TransformerEncoder(\n",
    "\tlen(amino_dict), key_size, query_size, value_size, num_hiddens, \n",
    "\tnorm_shape, ffn_num_input, ffn_num_hiddens, num_heads,\n",
    "\tnum_layers, dropout)\n",
    "decoder_wide = TransformerDecoder(\n",
    "\tlen(amino_dict), key_size, query_size, value_size, num_hiddens, \n",
    "\tnorm_shape, ffn_num_input, ffn_num_hiddens, num_heads,\n",
    "\tnum_layers, dropout)\n",
    "model_wide = EncoderDecoder(encoder_wide, decoder_wide)\n",
    "\n",
    "\n",
    "model_wide_total_params = sum(p.numel() for p in model_wide.parameters())\n",
    "model_wide_total_trainable_params = sum(p.numel() for p in model_wide.parameters() if p.requires_grad)\n",
    "\n",
    "print('Wide model: total number of parameters: {}'.format(model_wide_total_params))\n",
    "print('Wide model: total number of trainable parameters: {}'.format(model_wide_total_trainable_params))\n",
    "\n",
    "\n",
    "model_wide.load_state_dict(torch.load(\"model_wide_22Jul16_1011AM\", map_location = ('cpu')))"
   ]
  },
  {
   "cell_type": "code",
   "execution_count": 86,
   "metadata": {},
   "outputs": [
    {
     "name": "stdout",
     "output_type": "stream",
     "text": [
      "Iteration: 0\n",
      "Iteration: 1\n",
      "Iteration: 2\n",
      "(346, 4)\n"
     ]
    }
   ],
   "source": [
    "# generated peptides 2d array\n",
    "\n",
    "PDB_targets = list(peptide_validation_mismatchs[:, 0])\n",
    "\n",
    "num_minibatch = 100\n",
    "\n",
    "peptide_pred_list = []\n",
    "num_iter = int(len(PDB_targets)//num_minibatch + 1)\n",
    "\n",
    "for i in range(num_iter):\n",
    "\n",
    "\t# deal with minibatch ending\n",
    "\tif num_minibatch*i+num_minibatch > len(PDB_targets):\n",
    "\t\tpeptide_pred = predict_greedy_batch(model_wide, PDB_targets[num_minibatch*i:], amino_dict, prediction_length + 2, device)\n",
    "\t\tpeptide_pred_list.append(peptide_pred)\n",
    "\t\tbreak\n",
    "\n",
    "\tpeptide_pred = predict_greedy_batch(model_wide, PDB_targets[num_minibatch*i:num_minibatch*i+num_minibatch], amino_dict, prediction_length + 2, device)\n",
    "\tpeptide_pred_list.append(peptide_pred)\n",
    "\n",
    "\t# track iteration\n",
    "\tif i%1 == 0:\n",
    "\t\tprint(\"Iteration: {}\".format(i))\n",
    "\n",
    "peptide_pred_array = np.vstack(peptide_pred_list)\n",
    "peptide_pred_array_new = np.hstack([peptide_pred_array, np.array(peptide_validation_mismatchs[:, 3]).reshape(-1, 1)])\n",
    "# target, prediction, greedy_prob, label\n",
    "\n",
    "print(peptide_pred_array_new.shape)"
   ]
  },
  {
   "cell_type": "code",
   "execution_count": 89,
   "metadata": {},
   "outputs": [
    {
     "name": "stdout",
     "output_type": "stream",
     "text": [
      "target      prediction      probability       PDB_label\n",
      "[['LLETNQTL' 'PQKLTFTF' '0.5374112129211426' 'PQKLTFTF']\n",
      " ['NRIELKGT' 'VEARTKYK' '0.4158034920692444' 'VVARTKYK']\n",
      " ['PQFKVDGK' 'FKAETNIS' '0.4542434513568878' 'FKAETNIS']\n",
      " ['IRATWVLG' 'GQTILIAT' '0.4963897168636322' 'GQTILIAT']\n",
      " ['NIGCIFTG' 'VNYIYITK' '0.32092902064323425' 'VNYIYITK']\n",
      " ['AQGFILDL' 'VTRAELRA' '0.35875627398490906' 'VTRAELRA']\n",
      " ['LKLFSIDR' 'VVVCSASH' '0.5300334095954895' 'VVVCSASH']\n",
      " ['SRIIHLSV' 'LLTFSVET' '0.6091046333312988' 'LLTFSVET']\n",
      " ['KGEFQVIG' 'TYRYIGTL' '0.39827749133110046' 'TYRYIGTL']\n",
      " ['ALENRSIT' 'AVSEESIA' '0.34858235716819763' 'ALGMENRQ']\n",
      " ['HIKADMKL' 'EYSYKFET' '0.35157835483551025' 'EYSYKFET']\n",
      " ['NSAILKTW' 'FNISQNLV' '0.5170300006866455' 'FNISQNLV']\n",
      " ['TLSLDVLY' 'GVGLRVGL' '0.43975403904914856' 'GVGLRVGL']\n",
      " ['KLRMEGNV' 'DGDIVFHH' '0.12972690165042877' 'DGDIVFHH']\n",
      " ['HRVVAGYD' 'YQGAVSVY' '0.3505645990371704' 'YQGAVSVY']\n",
      " ['SLYVSATV' 'QIGFIVFA' '0.5406473278999329' 'QIGFIVFA']\n",
      " ['NIEVTVIN' 'TVAYQLTL' '0.49298208951950073' 'RFKYTKRG']\n",
      " ['GIFSKDLV' 'MEIFKYPV' '0.3879748284816742' 'MEIFKYPV']\n",
      " ['DIEITFAF' 'GVKIRCTA' '0.3516589105129242' 'GVKIRCTA']\n",
      " ['HMKIEEKI' 'RLMIMGHL' '0.3747875690460205' 'STETTFLV']]\n",
      "Number of model wide validation mismatches classified correct by model wide: 274\n"
     ]
    }
   ],
   "source": [
    "print(\"target      prediction      probability       PDB_label\")\n",
    "print(peptide_pred_array_new[0:20, :])\n",
    "print(\"Number of model wide validation mismatches classified correct by model wide:\", sum(peptide_pred_array_new[:,1] == peptide_pred_array_new[:,3]))"
   ]
  },
  {
   "cell_type": "markdown",
   "metadata": {},
   "source": [
    "# Task 7: Model Wide Random Peptides Scoring"
   ]
  },
  {
   "cell_type": "markdown",
   "metadata": {},
   "source": [
    "#### Build model wide"
   ]
  },
  {
   "cell_type": "code",
   "execution_count": 40,
   "metadata": {},
   "outputs": [
    {
     "name": "stdout",
     "output_type": "stream",
     "text": [
      "Wide model: total number of parameters: 29437976\n",
      "Wide model: total number of trainable parameters: 29437976\n"
     ]
    },
    {
     "data": {
      "text/plain": [
       "<All keys matched successfully>"
      ]
     },
     "execution_count": 40,
     "metadata": {},
     "output_type": "execute_result"
    }
   ],
   "source": [
    "query_size, key_size, value_size, num_hiddens = 512, 512, 512, 512\n",
    "num_layers, dropout = 4, 0.1\n",
    "lr, num_epochs, batch_size, label_smoothing = 0.0004, 500, 6000, 0.1\n",
    "ffn_num_input, ffn_num_hiddens, num_heads = 512, 2048, 8\n",
    "\n",
    "norm_shape = [512] # 32 corresponds to the dim of such number to normalize\n",
    "device = d2l.try_gpu()\n",
    "\n",
    "\n",
    "encoder_wide = TransformerEncoder(\n",
    "\tlen(amino_dict), key_size, query_size, value_size, num_hiddens, \n",
    "\tnorm_shape, ffn_num_input, ffn_num_hiddens, num_heads,\n",
    "\tnum_layers, dropout)\n",
    "decoder_wide = TransformerDecoder(\n",
    "\tlen(amino_dict), key_size, query_size, value_size, num_hiddens, \n",
    "\tnorm_shape, ffn_num_input, ffn_num_hiddens, num_heads,\n",
    "\tnum_layers, dropout)\n",
    "model_wide = EncoderDecoder(encoder_wide, decoder_wide)\n",
    "\n",
    "\n",
    "model_wide_total_params = sum(p.numel() for p in model_wide.parameters())\n",
    "model_wide_total_trainable_params = sum(p.numel() for p in model_wide.parameters() if p.requires_grad)\n",
    "\n",
    "print('Wide model: total number of parameters: {}'.format(model_wide_total_params))\n",
    "print('Wide model: total number of trainable parameters: {}'.format(model_wide_total_trainable_params))\n",
    "\n",
    "\n",
    "model_wide.load_state_dict(torch.load(\"model_wide_22Jul16_1011AM\", map_location = ('cpu')))"
   ]
  },
  {
   "cell_type": "markdown",
   "metadata": {},
   "source": [
    "#### Sample_random_labels"
   ]
  },
  {
   "cell_type": "code",
   "execution_count": 81,
   "metadata": {},
   "outputs": [],
   "source": [
    "num_random_sequences = 10000\n",
    "PBD_target = 'HMKIEEKI' \n",
    "\n",
    "amino_list = list(amino_dict.keys())[4:]\n",
    "\n",
    "random_labels = [\"\".join(list(np.random.choice(amino_list, 8))) for i in range(num_random_sequences)]"
   ]
  },
  {
   "cell_type": "code",
   "execution_count": 82,
   "metadata": {},
   "outputs": [],
   "source": [
    "prediction_length = 8\n",
    "\n",
    "random_probs = []\n",
    "for random_label in random_labels:\n",
    "\tprob = evaluate_single(model_wide, PBD_target, random_label,amino_dict, prediction_length + 2, device, print_info=False)\n",
    "\trandom_probs.append(prob)\n",
    "\n",
    "random_evaluation = list(zip(random_labels, random_probs))"
   ]
  },
  {
   "cell_type": "code",
   "execution_count": 83,
   "metadata": {},
   "outputs": [
    {
     "name": "stdout",
     "output_type": "stream",
     "text": [
      "Number of random labels evaluated: 10000\n"
     ]
    },
    {
     "data": {
      "text/plain": [
       "[('VDRWFFNR', 1.6898096544368358e-19),\n",
       " ('DKEEYDEL', 4.054197965552743e-15),\n",
       " ('EHCYTFLG', 7.159238665080767e-15),\n",
       " ('RYWFFNED', 3.928847362980809e-15),\n",
       " ('FGNSKPGF', 5.030933287987126e-20),\n",
       " ('DHGLMRHS', 9.792497540585932e-20),\n",
       " ('LCFWCIRF', 1.3745241553917255e-20),\n",
       " ('HGTGRQCN', 1.506221163107636e-13),\n",
       " ('NYQVYSAH', 6.390941832776163e-17),\n",
       " ('HSMWDITT', 4.2444908051179135e-16),\n",
       " ('VCTTQLEF', 1.576450439330073e-17),\n",
       " ('LYASQHNI', 7.372559497277601e-15),\n",
       " ('YNLMRYNV', 5.3469059956310115e-17),\n",
       " ('DRCPKFCQ', 4.4248493653467896e-17),\n",
       " ('KLKVQMPV', 8.249862578802475e-15),\n",
       " ('MWREFCEQ', 6.501000107068834e-19),\n",
       " ('SRIKQLIN', 5.364662895734981e-16),\n",
       " ('PMNSNWHR', 1.533988095089106e-19),\n",
       " ('GKNICKCV', 2.3185984424901615e-18),\n",
       " ('YTGGNGKD', 4.806006310216482e-18)]"
      ]
     },
     "execution_count": 83,
     "metadata": {},
     "output_type": "execute_result"
    }
   ],
   "source": [
    "print('Number of random labels evaluated: {}'.format(num_random_sequences))\n",
    "random_evaluation[:20]"
   ]
  },
  {
   "cell_type": "markdown",
   "metadata": {},
   "source": [
    "#### Statistical analysis"
   ]
  },
  {
   "cell_type": "code",
   "execution_count": 84,
   "metadata": {},
   "outputs": [
    {
     "data": {
      "text/plain": [
       "count    1.000000e+04\n",
       "mean     2.784817e-11\n",
       "std      2.757911e-09\n",
       "min      5.837174e-24\n",
       "25%      4.414028e-19\n",
       "50%      8.484333e-18\n",
       "75%      2.069746e-16\n",
       "max      2.757901e-07\n",
       "dtype: float64"
      ]
     },
     "execution_count": 84,
     "metadata": {},
     "output_type": "execute_result"
    }
   ],
   "source": [
    "random_probs_series = pd.Series(random_probs)\n",
    "random_probs_series.describe()"
   ]
  },
  {
   "cell_type": "markdown",
   "metadata": {},
   "source": [
    "# Task 8: Model Wide Generation Frequency Check"
   ]
  },
  {
   "cell_type": "markdown",
   "metadata": {},
   "source": [
    "#### Build model wide"
   ]
  },
  {
   "cell_type": "code",
   "execution_count": 40,
   "metadata": {},
   "outputs": [
    {
     "name": "stdout",
     "output_type": "stream",
     "text": [
      "Wide model: total number of parameters: 29437976\n",
      "Wide model: total number of trainable parameters: 29437976\n"
     ]
    },
    {
     "data": {
      "text/plain": [
       "<All keys matched successfully>"
      ]
     },
     "execution_count": 40,
     "metadata": {},
     "output_type": "execute_result"
    }
   ],
   "source": [
    "query_size, key_size, value_size, num_hiddens = 512, 512, 512, 512\n",
    "num_layers, dropout = 4, 0.1\n",
    "lr, num_epochs, batch_size, label_smoothing = 0.0004, 500, 6000, 0.1\n",
    "ffn_num_input, ffn_num_hiddens, num_heads = 512, 2048, 8\n",
    "\n",
    "norm_shape = [512] # 32 corresponds to the dim of such number to normalize\n",
    "device = d2l.try_gpu()\n",
    "\n",
    "\n",
    "encoder_wide = TransformerEncoder(\n",
    "\tlen(amino_dict), key_size, query_size, value_size, num_hiddens, \n",
    "\tnorm_shape, ffn_num_input, ffn_num_hiddens, num_heads,\n",
    "\tnum_layers, dropout)\n",
    "decoder_wide = TransformerDecoder(\n",
    "\tlen(amino_dict), key_size, query_size, value_size, num_hiddens, \n",
    "\tnorm_shape, ffn_num_input, ffn_num_hiddens, num_heads,\n",
    "\tnum_layers, dropout)\n",
    "model_wide = EncoderDecoder(encoder_wide, decoder_wide)\n",
    "\n",
    "\n",
    "model_wide_total_params = sum(p.numel() for p in model_wide.parameters())\n",
    "model_wide_total_trainable_params = sum(p.numel() for p in model_wide.parameters() if p.requires_grad)\n",
    "\n",
    "print('Wide model: total number of parameters: {}'.format(model_wide_total_params))\n",
    "print('Wide model: total number of trainable parameters: {}'.format(model_wide_total_trainable_params))\n",
    "\n",
    "\n",
    "model_wide.load_state_dict(torch.load(\"model_wide_22Jul16_1011AM\", map_location = ('cpu')))"
   ]
  },
  {
   "cell_type": "markdown",
   "metadata": {},
   "source": [
    "#### Prepare length 8 samples"
   ]
  },
  {
   "cell_type": "code",
   "execution_count": 41,
   "metadata": {},
   "outputs": [
    {
     "name": "stdout",
     "output_type": "stream",
     "text": [
      "number of length 8 samples:  (51714, 10)\n",
      "number of unique length 8 sample:  (39952, 10)\n"
     ]
    }
   ],
   "source": [
    "# select unique length 8 samples\n",
    "\n",
    "prediction_length = 8\n",
    "\n",
    "# unique length 8 targets\n",
    "target_indices = np.arange(BSn_data_dataset2.shape[0]).reshape(-1, 1)\n",
    "BSn_data_dataset2_indices = np.hstack([BSn_data_dataset2, target_indices])\n",
    "\n",
    "condition1 = np.nonzero(np.array([length==prediction_length for length in BSn_data_dataset2_indices[:, 4]]))\n",
    "BSn_data_dataset2_indices_length_8 = BSn_data_dataset2_indices[condition1]\n",
    "\n",
    "condition2 = np.nonzero(np.array([freq==1 for freq in BSn_data_dataset2_indices_length_8[:, -2]]))\n",
    "BSn_data_dataset2_indices_length_8_unique = BSn_data_dataset2_indices_length_8[condition2]\n",
    "\n",
    "\n",
    "print(\"number of length 8 samples: \", BSn_data_dataset2_indices_length_8.shape)\n",
    "print(\"number of unique length 8 sample: \", BSn_data_dataset2_indices_length_8_unique.shape)\n",
    "# target, complementary_seq, counts, promiscuity, length, working_score, hb_pattern, para/anti, freq, indices"
   ]
  },
  {
   "cell_type": "code",
   "execution_count": 43,
   "metadata": {},
   "outputs": [
    {
     "name": "stdout",
     "output_type": "stream",
     "text": [
      "(39952, 8)\n",
      "[[ 4 12 21  7 11  5 22 21]\n",
      " [13  6  8 21 13  4 20  4]\n",
      " [21 13 18 10 15 20 19 20]\n",
      " [12 22 15  4 21  4 13 22]]\n"
     ]
    }
   ],
   "source": [
    "# process PDB label to 2d array \n",
    "PDB_labels = BSn_data_dataset2_indices_length_8_unique[:, 1]\n",
    "PDB_label_2darray = np.array([[amino_dict[letter] for letter in label] for label in PDB_labels])\n",
    "print(PDB_label_2darray.shape)\n",
    "print(PDB_label_2darray[1:5, :])"
   ]
  },
  {
   "cell_type": "code",
   "execution_count": 49,
   "metadata": {},
   "outputs": [
    {
     "name": "stdout",
     "output_type": "stream",
     "text": [
      "Iteration: 0\n",
      "Iteration: 50\n",
      "Iteration: 100\n",
      "Iteration: 150\n",
      "Iteration: 200\n",
      "Iteration: 250\n",
      "Iteration: 300\n",
      "Iteration: 350\n",
      "(39952, 4)\n"
     ]
    }
   ],
   "source": [
    "# generated peptides 2d array\n",
    "\n",
    "PDB_targets = list(BSn_data_dataset2_indices_length_8_unique[:, 0])\n",
    "\n",
    "num_minibatch = 100\n",
    "\n",
    "peptide_pred_list = []\n",
    "num_iter = int(len(PDB_targets)//num_minibatch + 1)\n",
    "\n",
    "for i in range(num_iter):\n",
    "\n",
    "\t# deal with minibatch ending\n",
    "\tif num_minibatch*i+num_minibatch > len(PDB_targets):\n",
    "\t\tpeptide_pred = predict_greedy_batch(model_wide, PDB_targets[num_minibatch*i:], amino_dict, prediction_length + 2, device)\n",
    "\t\tpeptide_pred_list.append(peptide_pred)\n",
    "\t\tbreak\n",
    "\n",
    "\tpeptide_pred = predict_greedy_batch(model_wide, PDB_targets[num_minibatch*i:num_minibatch*i+num_minibatch], amino_dict, prediction_length + 2, device)\n",
    "\tpeptide_pred_list.append(peptide_pred)\n",
    "\n",
    "\t# track iteration\n",
    "\tif i%50 == 0:\n",
    "\t\tprint(\"Iteration: {}\".format(i))\n",
    "\n",
    "peptide_pred_array = np.vstack(peptide_pred_list)\n",
    "peptide_pred_array_new = np.hstack([peptide_pred_array, np.array(PDB_labels).reshape(-1, 1)])\n",
    "# target, prediction, greedy_prob, label\n",
    "\n",
    "print(peptide_pred_array_new.shape)"
   ]
  },
  {
   "cell_type": "code",
   "execution_count": 50,
   "metadata": {},
   "outputs": [
    {
     "name": "stdout",
     "output_type": "stream",
     "text": [
      "(39952, 8)\n",
      "[[ 4 12 21  7 11  5 22 21]\n",
      " [13  6  8 21 13  4 20  4]\n",
      " [21 13 18 10 15 20 19 20]\n",
      " [12 22 15  4 21  4 13 22]]\n"
     ]
    }
   ],
   "source": [
    "# Process model prediction to 2d array \n",
    "\n",
    "Generated_peptides_2darray = np.array([[amino_dict[letter] for letter in label] for label in peptide_pred_array_new[:, 1]])\n",
    "print(Generated_peptides_2darray.shape)\n",
    "print(Generated_peptides_2darray[1:5, :])"
   ]
  },
  {
   "cell_type": "markdown",
   "metadata": {},
   "source": [
    "#### Save frequency table"
   ]
  },
  {
   "cell_type": "code",
   "execution_count": 66,
   "metadata": {},
   "outputs": [
    {
     "name": "stdout",
     "output_type": "stream",
     "text": [
      "------------------------\n",
      "(20, 8)\n",
      "Frequency Table is:\n",
      "[[0.05724369 0.06750601 0.07101021]\n",
      " [0.01281538 0.01486784 0.01704545]\n",
      " [0.04465358 0.02961053 0.03051161]\n",
      " [0.05749399 0.0551662  0.05321386]\n",
      " [0.05456548 0.06132359 0.0597467 ]\n",
      " [0.04703144 0.05188726 0.05551662]\n",
      " [0.02490489 0.02182619 0.02215158]\n",
      " [0.07291249 0.08415098 0.08269924]\n",
      " [0.05401482 0.04680617 0.04385262]\n",
      " [0.08840609 0.09731678 0.09749199]\n",
      " [0.01596916 0.01842211 0.01829696]\n",
      " [0.0384962  0.02625651 0.02610633]\n",
      " [0.02738286 0.01168903 0.00971165]\n",
      " [0.03524229 0.03153785 0.03128755]\n",
      " [0.05444033 0.05231278 0.04813276]\n",
      " [0.05829495 0.0534141  0.0574189 ]\n",
      " [0.07388867 0.07664197 0.08164798]\n",
      " [0.10770425 0.12297257 0.12685222]\n",
      " [0.01732078 0.01897277 0.0164197 ]\n",
      " [0.05721866 0.05731878 0.05088606]]\n"
     ]
    }
   ],
   "source": [
    "import collections\n",
    "PDB_frequency = np.zeros((24, 8))\n",
    "\n",
    "for pos in range(8):\n",
    "\tPDB_frequency_dict = collections.Counter(PDB_label_2darray[:, pos])\n",
    "\tfor key in PDB_frequency_dict.keys():\n",
    "\t\tPDB_frequency[key, pos] = PDB_frequency_dict[key]\n",
    "\n",
    "PDB_frequency_new = np.delete(PDB_frequency, [0, 1, 2, 3], axis=0) / PDB_label_2darray.shape[0]\n",
    "\n",
    "# save to csv file\n",
    "np.savetxt('PDB_label_frequency.csv', PDB_frequency_new, delimiter=',', fmt='%s')\n",
    "\n",
    "\n",
    "print('------------------------')\n",
    "print(PDB_frequency_new.shape)\n",
    "print(\"Frequency Table is:\")\n",
    "print(PDB_frequency_new[:, 0:3])"
   ]
  },
  {
   "cell_type": "code",
   "execution_count": 67,
   "metadata": {},
   "outputs": [
    {
     "name": "stdout",
     "output_type": "stream",
     "text": [
      "------------------------\n",
      "(20, 8)\n",
      "Frequency Table is:\n",
      "[[0.05671806 0.06725571 0.07113536]\n",
      " [0.01306568 0.0149179  0.01697036]\n",
      " [0.04477873 0.02956047 0.0305867 ]\n",
      " [0.05751902 0.05536644 0.05338907]\n",
      " [0.05504105 0.06192431 0.0597467 ]\n",
      " [0.04745695 0.05188726 0.05511614]\n",
      " [0.0250801  0.02177613 0.02210152]\n",
      " [0.07246195 0.08422607 0.08292451]\n",
      " [0.05411494 0.04680617 0.0437525 ]\n",
      " [0.08780537 0.09731678 0.09711654]\n",
      " [0.01619443 0.01827193 0.01822187]\n",
      " [0.03859632 0.0263316  0.02613136]\n",
      " [0.02775831 0.01171406 0.00973668]\n",
      " [0.03511714 0.03128755 0.03121245]\n",
      " [0.05429015 0.05233781 0.04843312]\n",
      " [0.05784441 0.05313877 0.0571686 ]\n",
      " [0.07383861 0.07634161 0.08182319]\n",
      " [0.10742891 0.12367341 0.12687725]\n",
      " [0.01744594 0.01884762 0.01656988]\n",
      " [0.05744393 0.05701842 0.05098618]]\n"
     ]
    }
   ],
   "source": [
    "import collections\n",
    "generated_frequency = np.zeros((24, 8))\n",
    "\n",
    "for pos in range(8):\n",
    "\tgenerated_frequency_dict = collections.Counter(Generated_peptides_2darray[:, pos])\n",
    "\tfor key in generated_frequency_dict.keys():\n",
    "\t\tgenerated_frequency[key, pos] = generated_frequency_dict[key]\n",
    "\n",
    "generated_frequency_new = np.delete(generated_frequency, [0, 1, 2, 3], axis=0) / Generated_peptides_2darray.shape[0]\n",
    "\n",
    "# save to csv file\n",
    "np.savetxt('Generated_peptides_frequency.csv', generated_frequency_new, delimiter=',', fmt='%s')\n",
    "\n",
    "\n",
    "print('------------------------')\n",
    "print(generated_frequency_new.shape)\n",
    "print(\"Frequency Table is:\")\n",
    "print(generated_frequency_new[:, 0:3])"
   ]
  },
  {
   "cell_type": "markdown",
   "metadata": {},
   "source": [
    "# Task 9: Visualize attention weights"
   ]
  },
  {
   "cell_type": "markdown",
   "metadata": {},
   "source": [
    "#### Build Model Wide"
   ]
  },
  {
   "cell_type": "code",
   "execution_count": 89,
   "metadata": {},
   "outputs": [
    {
     "name": "stdout",
     "output_type": "stream",
     "text": [
      "Wide model: total number of parameters: 29437976\n",
      "Wide model: total number of trainable parameters: 29437976\n"
     ]
    },
    {
     "data": {
      "text/plain": [
       "<All keys matched successfully>"
      ]
     },
     "execution_count": 89,
     "metadata": {},
     "output_type": "execute_result"
    }
   ],
   "source": [
    "query_size, key_size, value_size, num_hiddens = 512, 512, 512, 512\n",
    "num_layers, dropout = 4, 0.1\n",
    "lr, num_epochs, batch_size, label_smoothing = 0.0004, 500, 6000, 0.1\n",
    "ffn_num_input, ffn_num_hiddens, num_heads = 512, 2048, 8\n",
    "\n",
    "norm_shape = [512] # 32 corresponds to the dim of such number to normalize\n",
    "device = d2l.try_gpu()\n",
    "\n",
    "\n",
    "encoder_wide = TransformerEncoder(\n",
    "\tlen(amino_dict), key_size, query_size, value_size, num_hiddens, \n",
    "\tnorm_shape, ffn_num_input, ffn_num_hiddens, num_heads,\n",
    "\tnum_layers, dropout)\n",
    "decoder_wide = TransformerDecoder(\n",
    "\tlen(amino_dict), key_size, query_size, value_size, num_hiddens, \n",
    "\tnorm_shape, ffn_num_input, ffn_num_hiddens, num_heads,\n",
    "\tnum_layers, dropout)\n",
    "model_wide = EncoderDecoder(encoder_wide, decoder_wide)\n",
    "\n",
    "\n",
    "model_wide_total_params = sum(p.numel() for p in model_wide.parameters())\n",
    "model_wide_total_trainable_params = sum(p.numel() for p in model_wide.parameters() if p.requires_grad)\n",
    "\n",
    "print('Wide model: total number of parameters: {}'.format(model_wide_total_params))\n",
    "print('Wide model: total number of trainable parameters: {}'.format(model_wide_total_trainable_params))\n",
    "\n",
    "\n",
    "model_wide.load_state_dict(torch.load(\"model_wide_22Jul16_1011AM\", map_location = ('cpu')))"
   ]
  },
  {
   "cell_type": "markdown",
   "metadata": {},
   "source": [
    "#### Save attention weights for one prediction"
   ]
  },
  {
   "cell_type": "code",
   "execution_count": 95,
   "metadata": {},
   "outputs": [],
   "source": [
    "# interesting examples to demonstrate the power of the model\n",
    "\n",
    "PDB_beta_strand_1 = 'NRIELKGT' # PDB labels = 'VVARTKYK' (training sample that generate different labels)\n",
    "PNAS_target_1 = 'EQVTNVG' # paper chosen peptide = 'EILVSYQ' (alpha-synuclein residues 61-67)\n",
    "PNAS_target_2 = 'QKLVFFA' # paper chosen peptide = 'FKLSVIT' (Abeta42 residues 15-22)\n",
    "PNAS_target_3 = 'VVTGVTA' # paper chosen peptide = 'FQEAVSG' (alpha-synuclein residues 70-76)\n",
    "\n",
    "task_target = 'VVTGVTA'\n",
    "eval_peptide = 'EFLCLAA'\n",
    "prediction_length = 7"
   ]
  },
  {
   "cell_type": "code",
   "execution_count": 96,
   "metadata": {},
   "outputs": [
    {
     "name": "stdout",
     "output_type": "stream",
     "text": [
      "Conditional probability at position 1 is 0.6734055876731873\n",
      "Conditional probability at position 2 is 0.8873187899589539\n",
      "Conditional probability at position 3 is 0.45613613724708557\n",
      "Conditional probability at position 4 is 0.5773751735687256\n",
      "Conditional probability at position 5 is 0.5940417647361755\n",
      "Conditional probability at position 6 is 0.2155466228723526\n",
      "Conditional probability at position 7 is 0.4334782660007477\n",
      "Conditional probability at position 8 is 0.9241675734519958\n",
      "Input target sequence is VVTGVTA, complementary peptide is EFLCLAA, evaluated probability is 0.008072075890476845\n"
     ]
    }
   ],
   "source": [
    "# dec_comple_peptide_pred, dec_prob, dec_attention_weight_seq = predict_greedy_single(model_wide, task_target, amino_dict, prediction_length + 2, device, save_attention_weights=True, print_info=True)\n",
    "eval_prob = evaluate_single(model_wide, task_target, eval_peptide, amino_dict, prediction_length + 2, device, print_info=True)"
   ]
  },
  {
   "cell_type": "markdown",
   "metadata": {},
   "source": [
    "#### Bertviz visualization"
   ]
  },
  {
   "cell_type": "code",
   "execution_count": 97,
   "metadata": {},
   "outputs": [
    {
     "name": "stdout",
     "output_type": "stream",
     "text": [
      "torch.Size([1, 8, 9, 9])\n",
      "torch.Size([1, 8, 8, 8])\n",
      "torch.Size([1, 8, 8, 9])\n",
      "['V', 'V', 'T', 'G', 'V', 'T', 'A', '<eos>', '<pad>']\n",
      "['E', 'F', 'L', 'C', 'L', 'A', 'A', '<eos>']\n"
     ]
    }
   ],
   "source": [
    "encoder_self_attention = [torch.unsqueeze(attention, dim=0) for attention in model_wide.encoder.attention_weights]\n",
    "decoder_self_attention = [torch.unsqueeze(attention, dim=0) for attention in dec_attention_weight_seq[-1][0]]\n",
    "decoder_encoder_attention = [torch.unsqueeze(attention, dim=0) for attention in dec_attention_weight_seq[-1][1]]\n",
    "\n",
    "encoder_text = d2l.truncate_pad(list(task_target) + ['<eos>'], prediction_length+2, '<pad>')\n",
    "decoder_text = list(dec_comple_peptide_pred) + ['<eos>']\n",
    "\n",
    "print(encoder_self_attention[0].shape)\n",
    "print(decoder_self_attention[0].shape)\n",
    "print(decoder_encoder_attention[0].shape)\n",
    "print(encoder_text)\n",
    "print(decoder_text)"
   ]
  },
  {
   "cell_type": "code",
   "execution_count": 92,
   "metadata": {},
   "outputs": [
    {
     "data": {
      "text/html": [
       "<script src=\"https://cdnjs.cloudflare.com/ajax/libs/require.js/2.3.6/require.min.js\"></script>"
      ],
      "text/plain": [
       "<IPython.core.display.HTML object>"
      ]
     },
     "metadata": {},
     "output_type": "display_data"
    },
    {
     "data": {
      "text/html": [
       "      \n",
       "        <div id=\"bertviz-1d12bc00c51140fcbd08acd4eee41778\" style=\"font-family:'Helvetica Neue', Helvetica, Arial, sans-serif;\">\n",
       "            <span style=\"user-select:none\">\n",
       "                Attention: <select id=\"filter\"><option value=\"0\">Encoder</option>\n",
       "<option value=\"1\">Decoder</option>\n",
       "<option value=\"2\">Cross</option></select>\n",
       "            </span>\n",
       "            <div id='vis'></div>\n",
       "        </div>\n",
       "    "
      ],
      "text/plain": [
       "<IPython.core.display.HTML object>"
      ]
     },
     "metadata": {},
     "output_type": "display_data"
    },
    {
     "data": {
      "application/javascript": "/**\n * @fileoverview Transformer Visualization D3 javascript code.\n *\n * Based on: https://github.com/tensorflow/tensor2tensor/blob/master/tensor2tensor/visualization/attention.js\n *\n * Change log:\n *\n * 02/01/19  Jesse Vig   Initial implementation\n * 12/31/20  Jesse Vig   Support multiple visualizations in single notebook.\n * 01/19/21  Jesse Vig   Support light/dark modes\n * 02/06/21  Jesse Vig   Move require config from separate jupyter notebook step\n * 05/03/21  Jesse Vig   Adjust visualization height dynamically\n * 03/23/22  Daniel SC   Update requirement URLs for d3 and jQuery (source of bug not allowing end result to be displayed on browsers)\n **/\n\nrequire.config({\n  paths: {\n      d3: 'https://cdnjs.cloudflare.com/ajax/libs/d3/5.7.0/d3.min',\n    jquery: 'https://cdnjs.cloudflare.com/ajax/libs/jquery/2.0.0/jquery.min',\n  }\n});\n\nrequirejs(['jquery', 'd3'], function($, d3) {\n\n        const params = {\"attention\": [{\"name\": \"Encoder\", \"attn\": [[[[0.5109282732009888, 0.2881547510623932, 0.20042012631893158, 0.0004964193212799728, 8.047328492466477e-08, 1.5685648691032839e-07, 2.2383191833341698e-07, 1.776128896735507e-11, 0.0], [0.624721348285675, 0.365185409784317, 0.010093054734170437, 1.3889440708680922e-07, 6.457513560334527e-14, 5.334551160182666e-13, 7.250175459994068e-11, 1.7900984243101464e-13, 0.0], [0.00018209038535133004, 0.9972518086433411, 0.0025652695912867785, 8.414351100327622e-07, 7.84199230075347e-14, 4.565517925458336e-19, 2.119565219325714e-16, 5.4931611950490925e-17, 0.0], [8.911452584770018e-16, 1.7938201608558302e-06, 0.9986485838890076, 0.0013496767496690154, 3.2195330845752324e-09, 6.038143185929244e-17, 5.67571613085233e-22, 1.679110851620334e-27, 0.0], [6.49117164073683e-34, 7.75691446699086e-21, 1.3441818964565755e-06, 0.9998854398727417, 0.00011317819735268131, 4.3381881420501145e-11, 3.658478081551042e-21, 7.137981970615421e-32, 0.0], [1.1210387714598537e-44, 1.4583281180282188e-33, 1.3009475005992073e-20, 9.813377346290508e-07, 0.9998316764831543, 0.0001673563092481345, 2.365135214413283e-12, 3.3870291470512303e-26, 0.0], [0.0, 0.0, 1.457025965309039e-35, 1.9351993424357868e-21, 3.3596005977187815e-08, 0.9999998807907104, 1.298145662076422e-07, 2.9328663192607124e-24, 0.0], [0.0, 0.0, 0.0, 0.0, 0.0, 0.0, 0.0, 1.0, 0.0], [4.203895392974451e-45, 0.0, 0.0, 0.0, 1.478650139555547e-41, 6.781586028872816e-23, 2.9660351952287556e-09, 1.0, 0.0]], [[9.271941436850284e-09, 1.0, 4.1792307461929745e-13, 0.0, 0.0, 0.0, 0.0, 0.0, 0.0], [6.884805995675713e-31, 1.1037400993174629e-09, 1.0, 2.0818815175957582e-16, 0.0, 0.0, 0.0, 0.0, 0.0], [0.0, 2.830159540297677e-22, 3.739620613174566e-09, 1.0, 4.155408643353629e-17, 0.0, 0.0, 0.0, 0.0], [0.0, 4.8765186558503634e-43, 1.0158099398747276e-22, 3.2299798252699574e-11, 1.0, 1.3927746488669873e-13, 1.3632675199572772e-35, 0.0, 0.0], [0.0, 0.0, 6.1477205707472645e-40, 2.211990979450614e-20, 8.841245602297931e-08, 0.9999998807907104, 9.682604718008747e-10, 3.4540513921963156e-37, 0.0], [5.187089802165974e-35, 1.533180267996283e-39, 0.0, 4.7117216516568825e-36, 4.897864442206838e-21, 1.9235869407746575e-12, 1.0, 3.376999446749675e-15, 0.0], [2.292935608184688e-23, 1.8543482158939127e-31, 4.203895392974451e-45, 0.0, 8.211609000943428e-43, 4.318751680482251e-22, 8.189987283913069e-07, 0.9999991655349731, 0.0], [0.0, 0.0, 0.0, 0.0, 0.0, 0.0, 6.221765181602188e-43, 1.0, 0.0], [1.0679085527944223e-32, 1.7080570291483355e-09, 0.999510645866394, 0.0004893843433819711, 6.698580033387108e-24, 3.1204888850344415e-34, 7.51471486206667e-31, 1.782739615784607e-21, 0.0]], [[0.007741524837911129, 0.03314046189188957, 0.17199259996414185, 0.3444600999355316, 0.2847835123538971, 0.09280020743608475, 0.05433032661676407, 0.010751263238489628, 0.0], [0.13297870755195618, 0.08855536580085754, 0.10160152614116669, 0.12044128775596619, 0.15856391191482544, 0.12115363031625748, 0.14068908989429474, 0.1360166221857071, 0.0], [0.3865416944026947, 0.17579330503940582, 0.055934641510248184, 0.03329507261514664, 0.024059781804680824, 0.019040368497371674, 0.05039707571268082, 0.2549380362033844, 0.0], [0.3270535171031952, 0.3213706314563751, 0.14777609705924988, 0.04146076738834381, 0.011731286533176899, 0.010717245750129223, 0.03001081384718418, 0.10987969487905502, 0.0], [0.036753393709659576, 0.23457422852516174, 0.4717406928539276, 0.1909315586090088, 0.022346097975969315, 0.010861827060580254, 0.015199595130980015, 0.017592649906873703, 0.0], [0.004468902945518494, 0.07045221328735352, 0.3406253159046173, 0.4475031793117523, 0.09839363396167755, 0.021620552986860275, 0.01400194875895977, 0.0029341340996325016, 0.0], [0.0005385316908359528, 0.005594057496637106, 0.08091113716363907, 0.30267518758773804, 0.42101171612739563, 0.15754050016403198, 0.03103526495397091, 0.0006935796700417995, 0.0], [0.0016332302475348115, 0.000226473857765086, 0.0003017343988176435, 0.0009247356792911887, 0.013557999394834042, 0.005935304798185825, 0.0026864379178732634, 0.9747340679168701, 0.0], [0.00881192833185196, 0.0021135350689291954, 0.0037420738954097033, 0.018741492182016373, 0.13757415115833282, 0.4106714427471161, 0.3872174322605133, 0.03112788312137127, 0.0]], [[0.0642230436205864, 0.11993001401424408, 0.23499996960163116, 0.34219345450401306, 0.10727165639400482, 0.05801090970635414, 0.049952615052461624, 0.023418432101607323, 0.0], [0.07612886279821396, 0.12857508659362793, 0.24775780737400055, 0.3148334324359894, 0.09061585366725922, 0.05570531263947487, 0.0559658519923687, 0.03041771613061428, 0.0], [0.11546961963176727, 0.2003432959318161, 0.209305077791214, 0.2888159453868866, 0.11227498203516006, 0.03286748379468918, 0.021240796893835068, 0.019682668149471283, 0.0], [0.10007581114768982, 0.1984981894493103, 0.22419936954975128, 0.11017975956201553, 0.22134262323379517, 0.068410225212574, 0.04675674811005592, 0.030537279322743416, 0.0], [0.015666034072637558, 0.035390011966228485, 0.10849779099225998, 0.3246701657772064, 0.1733069270849228, 0.14697223901748657, 0.15272097289562225, 0.04277569800615311, 0.0], [0.016531948000192642, 0.03415890783071518, 0.058039046823978424, 0.23021237552165985, 0.2710951864719391, 0.17519786953926086, 0.15043087303638458, 0.06433384120464325, 0.0], [0.008051689714193344, 0.014005103148519993, 0.025065718218684196, 0.10579846799373627, 0.2494819015264511, 0.31844672560691833, 0.14659884572029114, 0.13255144655704498, 0.0], [1.0800194104376715e-05, 7.0521377892873716e-06, 1.9880515537806787e-05, 1.6622489056317136e-05, 0.0001990948076127097, 0.004202204290777445, 0.010834744200110435, 0.9847095608711243, 0.0], [0.007252327632158995, 0.006261823698878288, 0.015772351995110512, 0.03341008722782135, 0.04175866022706032, 0.2259323000907898, 0.4845959544181824, 0.1850164532661438, 0.0]], [[0.09039327502250671, 0.13259722292423248, 0.12325315177440643, 0.3030196726322174, 0.04356001317501068, 0.012176340445876122, 0.03179088979959488, 0.26320940256118774, 0.0], [0.2341599017381668, 0.15617169439792633, 0.11316188424825668, 0.16615961492061615, 0.03456771373748779, 0.019345195963978767, 0.040881674736738205, 0.2355523407459259, 0.0], [0.2996181845664978, 0.21720319986343384, 0.167263463139534, 0.16909855604171753, 0.027787212282419205, 0.0201957356184721, 0.027237404137849808, 0.07159620523452759, 0.0], [0.20876352488994598, 0.2789745628833771, 0.256144255399704, 0.14793480932712555, 0.029180655255913734, 0.018915589898824692, 0.027206210419535637, 0.03288034349679947, 0.0], [0.02872512675821781, 0.13031579554080963, 0.2912920117378235, 0.4273206293582916, 0.04699837788939476, 0.023774579167366028, 0.03580697625875473, 0.015766486525535583, 0.0], [0.0016661122208461165, 0.024855276569724083, 0.18169791996479034, 0.6240121126174927, 0.09357655793428421, 0.03934619203209877, 0.03283313661813736, 0.00201267353259027, 0.0], [0.0003116489388048649, 0.005486724432557821, 0.06453311443328857, 0.4470001757144928, 0.26725614070892334, 0.11526433378458023, 0.0973346158862114, 0.002813162514939904, 0.0], [0.0004588007868733257, 0.0002524792216718197, 0.00011327917309245095, 0.0006107279332354665, 0.0023862491361796856, 0.0011050315806642175, 0.006237385328859091, 0.9888361096382141, 0.0], [0.0012187105603516102, 0.0016234348295256495, 0.009250612929463387, 0.03209002688527107, 0.13982707262039185, 0.42074838280677795, 0.3887729346752167, 0.006468777544796467, 0.0]], [[0.07186829298734665, 0.09092747420072556, 0.23418013751506805, 0.2251792550086975, 0.09810753166675568, 0.1232822984457016, 0.07095712423324585, 0.08549778908491135, 0.0], [0.09799905121326447, 0.11843220144510269, 0.2689339518547058, 0.19689364731311798, 0.07136452943086624, 0.0997876450419426, 0.06761427968740463, 0.07897469401359558, 0.0], [0.15314361453056335, 0.20825904607772827, 0.14401832222938538, 0.28027215600013733, 0.07736532390117645, 0.03005959466099739, 0.049545928835868835, 0.05733608826994896, 0.0], [0.08785054832696915, 0.16820138692855835, 0.3825708329677582, 0.10125875473022461, 0.10275241732597351, 0.0873701274394989, 0.030123818665742874, 0.03987192362546921, 0.0], [0.016337022185325623, 0.03769880160689354, 0.21888788044452667, 0.27873679995536804, 0.11913283169269562, 0.1943305879831314, 0.07934506982564926, 0.055531032383441925, 0.0], [0.020026257261633873, 0.041447319090366364, 0.06424352526664734, 0.2966121733188629, 0.2064552903175354, 0.11307696253061295, 0.13726800680160522, 0.12087048590183258, 0.0], [0.007209645584225655, 0.01555093564093113, 0.08270445466041565, 0.07526644319295883, 0.16937361657619476, 0.3976706266403198, 0.06527154892683029, 0.18695278465747833, 0.0], [0.0007578551885671914, 0.0005202612956054509, 0.0004722128214780241, 0.0004091217997483909, 0.0022278616670519114, 0.005925825331360102, 0.014771520160138607, 0.9749153256416321, 0.0], [0.08793723583221436, 0.07164813578128815, 0.06880497932434082, 0.03772842511534691, 0.11678177118301392, 0.22998762130737305, 0.1898418664932251, 0.19727002084255219, 0.0]], [[0.04762425273656845, 0.0001309385261265561, 2.035777288256213e-05, 6.424618914024904e-05, 0.007418820168823004, 0.01126898918300867, 0.0004458495241124183, 0.9330264925956726, 0.0], [0.7446044087409973, 0.015051628462970257, 0.0009187273681163788, 0.0002104049053741619, 0.0006132172420620918, 0.0015523823676630855, 0.0010674018412828445, 0.23598189651966095, 0.0], [0.7335838675498962, 0.22254136204719543, 0.018685588613152504, 0.0008730593835934997, 0.000105799495941028, 0.00014947449380997568, 0.00040398648707196116, 0.023656697943806648, 0.0], [0.10079436749219894, 0.5621716976165771, 0.314057856798172, 0.021822359412908554, 0.00026468990836292505, 4.276339677744545e-05, 3.6873319913866e-05, 0.0008093458018265665, 0.0], [0.0040226709097623825, 0.13706886768341064, 0.629115104675293, 0.22169341146945953, 0.007566073443740606, 0.0002023157139774412, 2.570115429989528e-05, 0.0003057343128602952, 0.0], [7.772937533445656e-05, 0.002173913177102804, 0.0789807066321373, 0.644745945930481, 0.2637796998023987, 0.009719453752040863, 0.00026238319696858525, 0.00026028259890154004, 0.0], [8.711353416401835e-07, 7.026069852145156e-06, 0.0006903354660607874, 0.07141256332397461, 0.7088356018066406, 0.21206670999526978, 0.006848045624792576, 0.0001388576638419181, 0.0], [3.3312691494202795e-10, 8.064613421510103e-10, 1.4767744005439454e-07, 8.514929504599422e-05, 0.04730888828635216, 0.7902001142501831, 0.1623324751853943, 7.328374340431765e-05, 0.0], [2.198557240262744e-06, 5.4350866776076145e-06, 5.049024912295863e-05, 0.0006036336999386549, 0.003470152383670211, 0.14414532482624054, 0.8513858914375305, 0.0003369049809407443, 0.0]], [[0.02217932604253292, 0.10093583166599274, 0.3726268410682678, 0.3412022590637207, 0.10413163900375366, 0.042015526443719864, 0.012985373847186565, 0.00392318656668067, 0.0], [0.001969102304428816, 0.013698802329599857, 0.14284297823905945, 0.48376208543777466, 0.26374614238739014, 0.08006875962018967, 0.011955562978982925, 0.001956537365913391, 0.0], [0.000976973446086049, 0.00459330715239048, 0.041372694075107574, 0.3663679361343384, 0.38385069370269775, 0.16556744277477264, 0.03147488087415695, 0.005796074401587248, 0.0], [0.0017265909118577838, 0.003460137639194727, 0.014628011733293533, 0.1286763846874237, 0.3803718686103821, 0.299991250038147, 0.12612390518188477, 0.045021817088127136, 0.0], [0.003559870645403862, 0.001817053067497909, 0.0020809643901884556, 0.01240536104887724, 0.08438298106193542, 0.2660437822341919, 0.452056884765625, 0.17765313386917114, 0.0], [0.0066866627894341946, 0.003804976586252451, 0.001474095624871552, 0.00387187791056931, 0.010560558177530766, 0.04427232965826988, 0.2612023949623108, 0.6681270599365234, 0.0], [0.008541030809283257, 0.008884519338607788, 0.0035214214585721493, 0.004085127264261246, 0.004647394642233849, 0.014019214548170567, 0.1127885952591896, 0.8435127139091492, 0.0], [0.026574278250336647, 0.04793746769428253, 0.012843555770814419, 0.004907127469778061, 0.0019266187446191907, 0.0033171256072819233, 0.0327904112637043, 0.8697034120559692, 0.0], [0.020665299147367477, 0.10112103074789047, 0.21535032987594604, 0.3617717921733856, 0.0928448736667633, 0.049581125378608704, 0.043466925621032715, 0.11519862711429596, 0.0]]], [[[0.016741666942834854, 0.0056237103417515755, 0.005018358584493399, 0.0018440482672303915, 0.001885186997242272, 0.004726529587060213, 0.000776707602199167, 0.9633838534355164, 0.0], [0.05305149406194687, 0.007153927348554134, 0.003013747511431575, 0.0018916957778856158, 0.00022321926371660084, 0.0011307935928925872, 0.00031790288630872965, 0.9332171678543091, 0.0], [0.11906447261571884, 0.00832363124936819, 0.007448770105838776, 0.004764642100781202, 0.0005696387961506844, 0.005448729265481234, 0.002293951576575637, 0.8520861864089966, 0.0], [0.004829937592148781, 0.16318543255329132, 0.031133385375142097, 0.01135460939258337, 0.0005481725675053895, 0.0009024458122439682, 0.0014061168767511845, 0.7866398692131042, 0.0], [0.0030063013546168804, 0.01631341129541397, 0.2445790320634842, 0.05760619044303894, 0.00563471857458353, 0.0011636762646958232, 0.0048127202317118645, 0.6668839454650879, 0.0], [0.002444887300953269, 0.006784974131733179, 0.01674639992415905, 0.20058566331863403, 0.031244704499840736, 0.006721068639308214, 0.002551402198150754, 0.7329208850860596, 0.0], [0.0011559337144717574, 0.002061458071693778, 0.025002242997288704, 0.07413852959871292, 0.15089046955108643, 0.044798050075769424, 0.007950710132718086, 0.694002628326416, 0.0], [0.000576202233787626, 0.0008446482243016362, 0.0009581707417964935, 0.0005847946158610284, 0.0005651981336995959, 0.002293370198458433, 0.0027785690035670996, 0.9913990497589111, 0.0], [0.0009751528850756586, 0.0009564185165800154, 0.0005325408419594169, 0.00031563767697662115, 0.0003805503947660327, 0.001080733840353787, 0.0006399637786671519, 0.9951189756393433, 0.0]], [[0.00836160872131586, 0.010415234602987766, 0.02054492197930813, 0.04499495401978493, 0.024609139189124107, 0.03485504910349846, 0.19452789425849915, 0.6616911888122559, 0.0], [0.011060936376452446, 0.0021711052395403385, 0.010634089820086956, 0.052289269864559174, 0.003849871689453721, 0.022019987925887108, 0.14462468028068542, 0.7533500790596008, 0.0], [0.008853720501065254, 0.007350079249590635, 0.015464285388588905, 0.08760719746351242, 0.001292789471335709, 0.007514875382184982, 0.11448556184768677, 0.7574314475059509, 0.0], [0.007512685842812061, 0.03167504817247391, 0.03152335435152054, 0.01653915084898472, 0.002768751233816147, 0.0075356909073889256, 0.024978971108794212, 0.8774663209915161, 0.0], [0.0019909986294806004, 0.016345757991075516, 0.02775094285607338, 0.09907329827547073, 0.01410781592130661, 0.013291082344949245, 0.06147786229848862, 0.7659621834754944, 0.0], [0.00020814765593968332, 0.0009007054031826556, 0.011876426637172699, 0.11829876154661179, 0.02003544010221958, 0.02363736182451248, 0.08591555058956146, 0.7391276359558105, 0.0], [0.00023888428404461592, 0.00046787556493654847, 0.002491411752998829, 0.05278947204351425, 0.028895679861307144, 0.06405715644359589, 0.024306926876306534, 0.8267526030540466, 0.0], [0.0001024511584546417, 0.0002791218284983188, 0.0015248511917889118, 0.006277947686612606, 0.00045804184628650546, 0.0005308369291014969, 0.0003432751109357923, 0.9904835224151611, 0.0], [0.0003294980269856751, 0.0006858218694105744, 0.0018050139769911766, 0.00894910003989935, 0.0008090278715826571, 0.0005497977253980935, 0.00010865733202081174, 0.986763060092926, 0.0]], [[0.015525268390774727, 0.06798452883958817, 0.05132634565234184, 0.023283449932932854, 0.0017675968119874597, 0.007266452070325613, 0.004018844570964575, 0.8288275003433228, 0.0], [0.02238576114177704, 0.021617047488689423, 0.059249307960271835, 0.027867628261446953, 0.0050477273762226105, 0.0040025594644248486, 0.020577378571033478, 0.8392525911331177, 0.0], [0.017261622473597527, 0.05295050889253616, 0.014032648876309395, 0.038888897746801376, 0.004011319484561682, 0.0017524517606943846, 0.014882519841194153, 0.8562200665473938, 0.0], [0.0041215489618480206, 0.005777198821306229, 0.018851187080144882, 0.012211764231324196, 0.03649260476231575, 0.011777147650718689, 0.007262921892106533, 0.9035056233406067, 0.0], [0.002423721831291914, 0.009858233854174614, 0.009681281633675098, 0.02601095661520958, 0.009884183295071125, 0.13600265979766846, 0.026195799931883812, 0.7799431085586548, 0.0], [0.0006054382538422942, 0.0016370780067518353, 0.0038980513345450163, 0.028864610940217972, 0.01333483774214983, 0.01358863990753889, 0.12310738116502762, 0.8149639368057251, 0.0], [0.0006415460375137627, 0.0015847865724936128, 0.0038711270317435265, 0.024547787383198738, 0.019457045942544937, 0.029678987339138985, 0.007775852456688881, 0.9124428629875183, 0.0], [5.316961323842406e-05, 0.00029129558242857456, 0.0013471458805724978, 0.0012634191662073135, 0.0006731683970429003, 0.000769329140894115, 0.00014173993258737028, 0.9954606890678406, 0.0], [0.00012110437091905624, 0.0005334338056854904, 0.0012906076153740287, 0.001445876550860703, 0.0007831993279978633, 0.0005168608040548861, 5.819441139465198e-05, 0.9952507019042969, 0.0]], [[0.04194141924381256, 0.03522297367453575, 0.030950693413615227, 0.019413955509662628, 0.0031423689797520638, 0.0024730805307626724, 0.0027146274223923683, 0.8641408681869507, 0.0], [0.09302650392055511, 0.014017227105796337, 0.029952576383948326, 0.011562392115592957, 0.0017543904250487685, 0.010203970596194267, 0.0065788705833256245, 0.832904040813446, 0.0], [0.002237789798527956, 0.15281233191490173, 0.017233435064554214, 0.00797312892973423, 0.002813284983858466, 0.003030534368008375, 0.0027421985287219286, 0.8111573457717896, 0.0], [0.008164625614881516, 0.03808038309216499, 0.06397384405136108, 0.017894094809889793, 0.01735091768205166, 0.0007713609375059605, 0.004146193154156208, 0.8496186137199402, 0.0], [0.004011661279946566, 0.004269138909876347, 0.018765456974506378, 0.11463427543640137, 0.014764454215765, 0.004253515508025885, 0.0011065328726544976, 0.8381949663162231, 0.0], [0.0004316221456974745, 0.0009242589585483074, 0.003256026888266206, 0.02621256560087204, 0.16825386881828308, 0.013324849307537079, 0.005344713106751442, 0.7822521328926086, 0.0], [0.0011480489047244191, 0.006157126743346453, 0.0009295370546169579, 0.01975991018116474, 0.017646905034780502, 0.11455002427101135, 0.01277832593768835, 0.8270301222801208, 0.0], [0.000227264579734765, 0.0007502589141950011, 0.003213009564206004, 0.0009910602821037173, 0.0007824574713595212, 0.0009716268396005034, 0.0011188029311597347, 0.9919454455375671, 0.0], [0.0002928696048911661, 0.0013984051765874028, 0.002950449241325259, 0.0008548173937015235, 0.0005751382559537888, 0.0005929049220867455, 0.0003647531848400831, 0.9929706454277039, 0.0]], [[0.007140757981687784, 0.010471729561686516, 0.023347873240709305, 0.04043200612068176, 0.13912031054496765, 0.0455903485417366, 0.00465104216709733, 0.7292459607124329, 0.0], [0.012919136323034763, 0.004819491412490606, 0.009653614833950996, 0.026615943759679794, 0.15188191831111908, 0.10754639655351639, 0.009005012921988964, 0.6775584816932678, 0.0], [0.022978421300649643, 0.0055215307511389256, 0.003244708525016904, 0.013707282952964306, 0.036077115684747696, 0.045855000615119934, 0.022884754464030266, 0.8497311472892761, 0.0], [0.009207806549966335, 0.013066952116787434, 0.009165800176560879, 0.016606340184807777, 0.008413192816078663, 0.02823079377412796, 0.014182311482727528, 0.9011267423629761, 0.0], [0.011450651101768017, 0.18383243680000305, 0.040560655295848846, 0.01958584040403366, 0.0079782260581851, 0.0022887142840772867, 0.007442789617925882, 0.7268606424331665, 0.0], [0.0011902841506525874, 0.0083088967949152, 0.07248552143573761, 0.05564865097403526, 0.02635330520570278, 0.001733473502099514, 0.004684667568653822, 0.8295952081680298, 0.0], [0.0005848342552781105, 0.0004688798217102885, 0.02250615693628788, 0.08511541783809662, 0.04203585162758827, 0.03060450404882431, 0.010889858938753605, 0.807794451713562, 0.0], [0.00034613479510881007, 0.0006870886427350342, 0.0004281353612896055, 0.001350888516753912, 0.0011769664706662297, 0.0006378188845701516, 0.00033693076693452895, 0.9950360655784607, 0.0], [0.0006882164743728936, 0.0008266327786259353, 0.0003006603801622987, 0.0010673770448192954, 0.0017686252249404788, 0.0008556029060855508, 0.00013001664774492383, 0.9943628311157227, 0.0]], [[0.004335394129157066, 0.05010148510336876, 0.03671472519636154, 0.026152629405260086, 0.0024681619834154844, 0.0024482877925038338, 0.0029809954576194286, 0.8747982978820801, 0.0], [0.005067556165158749, 0.00972040556371212, 0.1041923239827156, 0.07257269322872162, 0.003992757294327021, 0.0005570737994275987, 0.0061156307347118855, 0.7977815866470337, 0.0], [0.0032446044497191906, 0.003230562200769782, 0.01866522803902626, 0.1528659462928772, 0.003920387476682663, 0.004004491027444601, 0.0048658461309969425, 0.8092029690742493, 0.0], [0.0005890934844501317, 0.000386416184483096, 0.005528957117348909, 0.01670614816248417, 0.03843390569090843, 0.019285917282104492, 0.008798537775874138, 0.9102709889411926, 0.0], [0.0008644074550829828, 0.0019066986860707402, 0.0028317233081907034, 0.018502559512853622, 0.009402385912835598, 0.06956154108047485, 0.01666077971458435, 0.8802699446678162, 0.0], [0.0005379688227549195, 0.0012573671992868185, 0.0037644957192242146, 0.008507424034178257, 0.00469503877684474, 0.014245033264160156, 0.07962875813245773, 0.8873639106750488, 0.0], [0.0008193664252758026, 0.0013667292660102248, 0.0033064994495362043, 0.004127020947635174, 0.0029259019065648317, 0.015829959884285927, 0.020831355825066566, 0.9507932066917419, 0.0], [1.869121661002282e-05, 7.846506923669949e-05, 0.0003813373623415828, 0.0015148421516641974, 0.00040227192221209407, 0.00043805388850159943, 0.0001858167233876884, 0.9969804883003235, 0.0], [1.8763246771413833e-05, 6.676777411485091e-05, 0.0002865052374545485, 0.0021039308048784733, 0.00032110113534145057, 0.00017524472787044942, 8.891716424841434e-05, 0.9969388246536255, 0.0]], [[0.012964603491127491, 0.02223319001495838, 0.09878133982419968, 0.0020218247082084417, 0.0016145652625709772, 0.010409997776150703, 0.00013730178761761636, 0.851837158203125, 0.0], [0.03817048668861389, 0.019380874931812286, 0.05818716809153557, 0.003479281673207879, 0.0011654517147690058, 0.006508639547973871, 0.00019381599850021303, 0.8729143142700195, 0.0], [0.038142308592796326, 0.02037380449473858, 0.019446834921836853, 0.0004722679441329092, 0.001626359298825264, 0.0030491838697344065, 9.073755063582212e-05, 0.91679847240448, 0.0], [0.025533227249979973, 0.03438793122768402, 0.07361170649528503, 0.0013868409441784024, 0.0017311004921793938, 0.0032454263418912888, 0.0003825546009466052, 0.8597212433815002, 0.0], [0.002961324993520975, 0.012366579845547676, 0.11271502077579498, 0.009436247870326042, 0.0004948707646690309, 0.0055533102713525295, 0.0005726521485485137, 0.85589998960495, 0.0], [0.002951497444882989, 0.004054850898683071, 0.07035920023918152, 0.006094937678426504, 0.004345098976045847, 0.020827243104577065, 0.0004663747677113861, 0.8909007906913757, 0.0], [0.001165263936854899, 0.0021618253085762262, 0.014683373272418976, 0.0649624764919281, 0.003799188882112503, 0.019518742337822914, 0.011877868324518204, 0.8818312883377075, 0.0], [4.530618025455624e-05, 6.913666584296152e-05, 0.0019767875783145428, 7.001984340604395e-05, 4.529913712758571e-05, 0.0009784133872017264, 1.0906415809586179e-05, 0.9968041181564331, 0.0], [9.690239676274359e-05, 0.00010928078700089827, 0.001979028107598424, 5.473053897731006e-05, 4.252576400176622e-05, 0.00071094767190516, 5.4908050515223294e-06, 0.9970011115074158, 0.0]], [[0.011989268474280834, 0.028757669031620026, 0.09906225651502609, 0.08328709006309509, 0.04734822362661362, 0.013597157783806324, 0.021791644394397736, 0.6941666603088379, 0.0], [0.0026865946128964424, 0.006870870478451252, 0.039788439869880676, 0.12602557241916656, 0.12981532514095306, 0.025391457602381706, 0.025633104145526886, 0.6437885761260986, 0.0], [0.0017992882058024406, 0.0021018164698034525, 0.01252678968012333, 0.03252379596233368, 0.1703786998987198, 0.06502650678157806, 0.025272950530052185, 0.6903701424598694, 0.0], [0.0007889618864282966, 0.0010165800340473652, 0.0025774575769901276, 0.011031857691705227, 0.039681922644376755, 0.31895965337753296, 0.039006613194942474, 0.5869369506835938, 0.0], [0.0006614034646190703, 0.0008101246785372496, 0.0017921009566634893, 0.003200675593689084, 0.013477769680321217, 0.1263832449913025, 0.0789349153637886, 0.7747398018836975, 0.0], [0.0008054053760133684, 0.0008082950953394175, 0.002495674416422844, 0.0023626789916306734, 0.0031596666667610407, 0.026364151388406754, 0.035507094115018845, 0.9284970760345459, 0.0], [0.0008637396967969835, 0.000898362195584923, 0.0052607678808271885, 0.0034049435053020716, 0.006165723782032728, 0.022117305546998978, 0.03174436092376709, 0.9295447468757629, 0.0], [0.00013060714991297573, 8.178075222531334e-05, 0.0007418306777253747, 0.0011929634492844343, 0.001976878149434924, 0.0021709210705012083, 0.0008519869297742844, 0.9928529858589172, 0.0], [6.454584945458919e-05, 6.144001235952601e-05, 0.0005233671399764717, 0.0017658647848293185, 0.003598072100430727, 0.00197924068197608, 0.0007528993883170187, 0.9912545680999756, 0.0]]], [[[0.0049539776518940926, 0.049189724028110504, 0.019271960482001305, 0.0062457239255309105, 0.001736754085868597, 0.00451712915673852, 0.0032479825895279646, 0.9108367562294006, 0.0], [0.004142467398196459, 0.010182561352849007, 0.06939837336540222, 0.01875172182917595, 0.005999003071337938, 0.0009227209957316518, 0.0057567995972931385, 0.8848463296890259, 0.0], [0.0012014256790280342, 0.006329472176730633, 0.02786872163414955, 0.04054132476449013, 0.0028454891871660948, 0.004262203350663185, 0.007305712439119816, 0.9096456170082092, 0.0], [0.0007139916415326297, 0.0011213432298973203, 0.0037799018900841475, 0.005667660851031542, 0.21364575624465942, 0.0017539277905598283, 0.0018684044480323792, 0.7714490294456482, 0.0], [0.0004645555454771966, 0.0019296397222205997, 0.0011197492713108659, 0.0028493311256170273, 0.009519978426396847, 0.13074563443660736, 0.016602182760834694, 0.8367688655853271, 0.0], [0.0009695045300759375, 0.0033502434380352497, 0.012362132780253887, 0.004953487776219845, 0.0037507314700633287, 0.024021456018090248, 0.05906401574611664, 0.8915283679962158, 0.0], [0.0014822332886978984, 0.002845282666385174, 0.005318989511579275, 0.0010234878864139318, 0.0040497626177966595, 0.006420292891561985, 0.0035621519200503826, 0.9752978682518005, 0.0], [0.0002856229548342526, 0.0005944593576714396, 0.004195177927613258, 0.00317287421785295, 0.004736369010061026, 0.0036811181344091892, 0.0011119056725874543, 0.9822224378585815, 0.0], [0.00030084894387982786, 0.0007109473808668554, 0.005205332301557064, 0.004859365522861481, 0.004701818805187941, 0.0023113859351724386, 0.000668585707899183, 0.9812417030334473, 0.0]], [[0.012884634546935558, 0.051836684346199036, 0.1111135184764862, 0.2339392900466919, 0.0029786010272800922, 0.0011677041184157133, 0.001251995679922402, 0.5848276019096375, 0.0], [0.006927614565938711, 0.03804102912545204, 0.0483250617980957, 0.14381399750709534, 0.01632082648575306, 0.002304602414369583, 0.0010387146612629294, 0.7432281374931335, 0.0], [0.00585291488096118, 0.011111849918961525, 0.018939826637506485, 0.024847539141774178, 0.06605524569749832, 0.006417315918952227, 0.0022697828244417906, 0.8645054697990417, 0.0], [0.00045572599628940225, 0.0005447783623822033, 0.004743268247693777, 0.002470760839059949, 0.014617227017879486, 0.06214917078614235, 0.004106116946786642, 0.9109129309654236, 0.0], [0.0003010777581948787, 0.001810397021472454, 0.0014904238050803542, 0.009098904207348824, 0.01169211883097887, 0.00826353020966053, 0.006237137597054243, 0.9611064195632935, 0.0], [0.0017117453971877694, 0.004046015441417694, 0.010851925238966942, 0.0043959119357168674, 0.0382937453687191, 0.011237185448408127, 0.00537733593955636, 0.9240860939025879, 0.0], [0.00010678075341274962, 0.0006079112063162029, 0.00304999528452754, 0.000544195354450494, 0.01972501166164875, 0.011630057357251644, 0.006008517928421497, 0.9583275318145752, 0.0], [0.00014191237278282642, 0.0004310479562263936, 0.0018660167697817087, 0.0019108657725155354, 0.0043328446336090565, 0.001981383888050914, 0.0020836256444454193, 0.9872523546218872, 0.0], [0.0002061468258034438, 0.0006559127941727638, 0.002381665399298072, 0.0027780234813690186, 0.006637951824814081, 0.0020812805742025375, 0.0015139725292101502, 0.9837449789047241, 0.0]], [[0.009514733217656612, 0.0024365615099668503, 0.004990867804735899, 0.019687587395310402, 0.017196979373693466, 0.1473311483860016, 0.002148224739357829, 0.7966938614845276, 0.0], [0.05495670065283775, 0.007330598775297403, 0.015489357523620129, 0.007424879353493452, 0.0010636064689606428, 0.022389575839042664, 0.009576886892318726, 0.8817683458328247, 0.0], [0.0020611099898815155, 0.08708266913890839, 0.038350142538547516, 0.006571060046553612, 0.0002484169090166688, 0.005337726790457964, 0.012089095078408718, 0.8482597470283508, 0.0], [0.0010121254017576575, 0.01083606667816639, 0.1331205815076828, 0.01700802706182003, 0.0022931380663067102, 0.00022894788708072156, 0.0017122378339990973, 0.8337888717651367, 0.0], [0.00022161823289934546, 0.0003027758502867073, 0.0038282610476017, 0.0392305813729763, 0.011484362185001373, 0.0014284179778769612, 0.0002583865716587752, 0.9432456493377686, 0.0], [0.0002144749742001295, 0.0005137517582625151, 0.00399822648614645, 0.016610994935035706, 0.12216717004776001, 0.0079112583771348, 0.0061586652882397175, 0.8424254655838013, 0.0], [0.0005753537407144904, 0.0011493146885186434, 0.00016752685769461095, 0.005644337274134159, 0.017415283247828484, 0.2974458634853363, 0.03801140934228897, 0.639590859413147, 0.0], [0.0009535205317661166, 0.003130656434223056, 0.0014017901849001646, 0.005568669177591801, 0.003641807707026601, 0.0030129719525575638, 0.010319999419152737, 0.9719706177711487, 0.0], [0.0016917022876441479, 0.005890947766602039, 0.0017149007180705667, 0.004001526162028313, 0.002252067206427455, 0.0021865328308194876, 0.006802778225392103, 0.9754595756530762, 0.0]], [[0.0003896583802998066, 0.0017033234471455216, 0.021503644064068794, 0.40691253542900085, 0.007933016866445541, 0.006713570095598698, 0.002126820385456085, 0.5527174472808838, 0.0], [0.0006370691698975861, 0.0015405573649331927, 0.009302031248807907, 0.16117973625659943, 0.017130451276898384, 0.01402740366756916, 0.004335847683250904, 0.7918468713760376, 0.0], [0.008498306386172771, 0.00991884060204029, 0.005995333194732666, 0.001991014927625656, 0.07031983882188797, 0.037300169467926025, 0.03170308098196983, 0.8342733979225159, 0.0], [0.01071477122604847, 0.03430856764316559, 0.006374785676598549, 0.0120957400649786, 0.024303041398525238, 0.0038288801442831755, 0.011030725203454494, 0.8973434567451477, 0.0], [0.0004045751702506095, 0.0011027362197637558, 0.005720999091863632, 0.062484897673130035, 0.0032846403773874044, 0.0033114454708993435, 0.0014831360895186663, 0.9222075343132019, 0.0], [0.0008343043737113476, 0.001131031895056367, 0.0027725882828235626, 0.004558165557682514, 0.018018070608377457, 0.014678003266453743, 0.053920093923807144, 0.9040877223014832, 0.0], [0.0009372461936436594, 0.0012430357746779919, 0.011083273217082024, 0.005873569753021002, 0.01025586761534214, 0.04819890484213829, 0.008325263857841492, 0.9140828847885132, 0.0], [0.0006743519916199148, 0.0012043697061017156, 0.002259097993373871, 0.002622259547933936, 0.0021616697777062654, 0.003987073432654142, 0.0013124251272529364, 0.98577880859375, 0.0], [0.0009663373348303139, 0.0015970353269949555, 0.002582801738753915, 0.0034246807917952538, 0.002758486196398735, 0.003739571198821068, 0.0011110372142866254, 0.9838200807571411, 0.0]], [[0.005330863408744335, 0.008631803095340729, 0.009827678091824055, 0.11337082087993622, 0.4361688196659088, 0.012192578986287117, 0.0010596021311357617, 0.413417786359787, 0.0], [0.002763201482594013, 0.0012211877619847655, 0.0025156536139547825, 0.09255701303482056, 0.3641187846660614, 0.037406131625175476, 0.0026993711944669485, 0.4967186152935028, 0.0], [0.00653268676251173, 0.0010376042919233441, 0.003650784259662032, 0.026265770196914673, 0.00845077633857727, 0.02610427513718605, 0.008140009827911854, 0.919818103313446, 0.0], [0.01836695894598961, 0.022130444645881653, 0.009358190931379795, 0.028020456433296204, 0.0035012769512832165, 0.015279566869139671, 0.009860272519290447, 0.8934828042984009, 0.0], [0.001960208872333169, 0.01055075041949749, 0.021352561190724373, 0.005918700248003006, 0.0031029079109430313, 0.003989339340478182, 0.0021618364844471216, 0.9509637355804443, 0.0], [0.0007299992139451206, 0.004590245895087719, 0.16603507101535797, 0.008218653500080109, 0.0021058570127934217, 0.0035127790179103613, 0.0016800359589979053, 0.8131274580955505, 0.0], [0.0002882689004763961, 0.0005078705144114792, 0.0032139436807483435, 0.015681341290473938, 0.019165851175785065, 0.012564524076879025, 0.001495400327257812, 0.9470828175544739, 0.0], [0.000651544367428869, 0.0008752697031013668, 0.00316909933462739, 0.004536926280707121, 0.0021426999010145664, 0.003565306542441249, 0.0018811422633007169, 0.9831780791282654, 0.0], [0.0009387225727550685, 0.0007676825043745339, 0.0022841468453407288, 0.00466448999941349, 0.003113334998488426, 0.004195849876850843, 0.001417550491169095, 0.9826182126998901, 0.0]], [[0.005873677786439657, 0.03472230210900307, 0.15803763270378113, 0.01661527343094349, 0.0005425460985861719, 0.007739979773759842, 0.007878460921347141, 0.7685901522636414, 0.0], [0.0004370486713014543, 0.007001523394137621, 0.08973786234855652, 0.03525616228580475, 0.0032250836957246065, 0.0007658473332412541, 0.007071645464748144, 0.8565047979354858, 0.0], [0.00042380354716442525, 0.0007088106940500438, 0.010550431907176971, 0.061432674527168274, 0.009984157979488373, 0.0012542486656457186, 0.0035498091019690037, 0.9120960831642151, 0.0], [0.0007285886094905436, 0.0013358459109440446, 0.002308734692633152, 0.0022226653527468443, 0.11129099130630493, 0.011635681614279747, 0.003922917880117893, 0.8665545582771301, 0.0], [0.0008659357554279268, 0.001140989945270121, 0.0013437730958685279, 0.0013055977178737521, 0.0074157388880848885, 0.2668215334415436, 0.0046316469088196754, 0.716474711894989, 0.0], [0.00139102921821177, 0.0018431658390909433, 0.00456396397203207, 0.003834295552223921, 0.004083416424691677, 0.034840118139982224, 0.13015244901180267, 0.8192915320396423, 0.0], [0.0016581236850470304, 0.0034228204749524593, 0.008902177214622498, 0.0035967619623988867, 0.0015886458568274975, 0.003902610158547759, 0.028897790238261223, 0.9480310082435608, 0.0], [0.0008545630844309926, 0.0007198746898211539, 0.0027096024714410305, 0.005106545984745026, 0.00275848968885839, 0.004001261200755835, 0.0022489898838102818, 0.9816006422042847, 0.0], [0.0006408206536434591, 0.0007032164139673114, 0.0032136680092662573, 0.00778947351500392, 0.002726268256083131, 0.002465979428961873, 0.0011475385399535298, 0.9813129901885986, 0.0]], [[0.004926969297230244, 0.0017042647814378142, 0.0015134681016206741, 0.01980770006775856, 0.15427492558956146, 0.12613961100578308, 0.06643813848495483, 0.6251949071884155, 0.0], [0.014791959896683693, 0.0019329192582517862, 0.0013701007701456547, 0.010995601303875446, 0.008370730094611645, 0.05381190404295921, 0.033441342413425446, 0.8752854466438293, 0.0], [0.04578801617026329, 0.0032315205316990614, 0.006494245491921902, 0.005520590115338564, 0.000803303555585444, 0.010794976726174355, 0.01303816307336092, 0.9143291711807251, 0.0], [0.008451886475086212, 0.11548202484846115, 0.012652887962758541, 0.017001468688249588, 0.00018168242240790278, 0.0014713442651554942, 0.0020826724357903004, 0.842676043510437, 0.0], [0.0015908342320472002, 0.03268617391586304, 0.18605266511440277, 0.03421389311552048, 0.004365929402410984, 0.00025625983835197985, 0.005042743869125843, 0.7357915043830872, 0.0], [0.0003300097887404263, 0.0018675311002880335, 0.11506057530641556, 0.06898004561662674, 0.011078327894210815, 0.006029547657817602, 0.0022762881126254797, 0.7943776845932007, 0.0], [0.00017652282258495688, 0.00011697204172378406, 0.002030708594247699, 0.04231399670243263, 0.10250169038772583, 0.01512075774371624, 0.00460480060428381, 0.8331345915794373, 0.0], [0.0020893916953355074, 0.0021146147046238184, 0.004595846403390169, 0.0042784372344613075, 0.00370677188038826, 0.007945860736072063, 0.008342639543116093, 0.9669264554977417, 0.0], [0.004096257966011763, 0.002326265210285783, 0.002770082326605916, 0.0023189280182123184, 0.003021242329850793, 0.007752501871436834, 0.0056955222971737385, 0.9720191359519958, 0.0]], [[0.005974628031253815, 0.012941702269017696, 0.12920895218849182, 0.015292366035282612, 0.002574657090008259, 0.01743617281317711, 0.0013808713993057609, 0.8151906728744507, 0.0], [0.007724011782556772, 0.013940676115453243, 0.03867562115192413, 0.04149690270423889, 0.002406274899840355, 0.0059273019433021545, 0.001513585913926363, 0.8883156180381775, 0.0], [0.00204634852707386, 0.010195323266088963, 0.010651253163814545, 0.15712057054042816, 0.0017251813551411033, 0.002867255825549364, 0.020641978830099106, 0.7947520613670349, 0.0], [0.0016041751950979233, 0.013261704705655575, 0.02313743345439434, 0.009115914814174175, 0.015803813934326172, 0.019047118723392487, 0.00783008337020874, 0.9101998209953308, 0.0], [0.0002101501595461741, 0.001157776452600956, 0.013689869083464146, 0.09271449595689774, 0.012431984767317772, 0.10521454364061356, 0.008242473006248474, 0.7663387060165405, 0.0], [0.00025176460621878505, 0.001195119577459991, 0.004558346699923277, 0.05520407855510712, 0.010008418001234531, 0.03244376927614212, 0.03993627056479454, 0.8564022183418274, 0.0], [7.39331662771292e-05, 0.00018958034343086183, 0.00032228551572188735, 0.07539835572242737, 0.010394012555480003, 0.026913033798336983, 0.025684263557195663, 0.8610244989395142, 0.0], [7.088336133165285e-05, 0.0002451043692417443, 0.0023642294108867645, 0.0066283694468438625, 0.002506957156583667, 0.0033063869923353195, 0.0009043276077136397, 0.9839736819267273, 0.0], [0.0001577644725330174, 0.0005140264402143657, 0.0032665531616657972, 0.008749006316065788, 0.0031051672995090485, 0.0033573885448276997, 0.0005672411061823368, 0.9802829027175903, 0.0]]], [[[0.008317654952406883, 0.0036479951813817024, 0.009787688963115215, 0.027644207701086998, 0.05030674859881401, 0.012527033686637878, 0.010194502770900726, 0.87757408618927, 0.0], [0.017487313598394394, 0.0040278625674545765, 0.0019138159696012735, 0.002249570330604911, 0.007554033305495977, 0.005558864213526249, 0.0011793377343565226, 0.960029125213623, 0.0], [0.012229609303176403, 0.0016657409723848104, 0.002521844580769539, 0.003275893395766616, 0.0013925627572461963, 0.001687762443907559, 0.0020003574900329113, 0.9752261638641357, 0.0], [0.0011695919092744589, 0.01643228903412819, 0.017657961696386337, 0.015781663358211517, 0.0005472626071423292, 0.0005544345476664603, 0.001699403510428965, 0.9461573958396912, 0.0], [0.0023148939944803715, 0.01869119703769684, 0.14576804637908936, 0.006027229130268097, 0.007368159014731646, 0.0002551671932451427, 0.0007980027003213763, 0.818777322769165, 0.0], [0.0032991061452776194, 0.0013858838938176632, 0.005745085421949625, 0.05688418447971344, 0.015268382616341114, 0.0008848897996358573, 0.0006059579318389297, 0.9159265160560608, 0.0], [0.0001812538248486817, 0.0001599071256350726, 0.0022892262786626816, 0.032366178929805756, 0.012598486617207527, 0.034951403737068176, 0.004291052930057049, 0.9131624698638916, 0.0], [0.0028113452717661858, 0.0034621465019881725, 0.013587013818323612, 0.02644279971718788, 0.039299726486206055, 0.04123739153146744, 0.05004492029547691, 0.8231146335601807, 0.0], [0.004085558000952005, 0.00393176544457674, 0.009513571858406067, 0.01849684864282608, 0.03238793835043907, 0.038441531360149384, 0.04218161106109619, 0.8509611487388611, 0.0]], [[0.030869634822010994, 0.013276580721139908, 0.0024307630956172943, 0.022127632051706314, 0.0021404654253274202, 0.0008370926952920854, 0.0007264870801009238, 0.9275913238525391, 0.0], [0.05754769966006279, 0.023796113207936287, 0.0027198053430765867, 0.010354817844927311, 0.0033508073538541794, 0.0011211158707737923, 0.0009271103190258145, 0.9001824855804443, 0.0], [0.010259585455060005, 0.12526509165763855, 0.007096556946635246, 0.0010406734654679894, 0.0025332127697765827, 0.0008765999227762222, 0.0004345671331975609, 0.8524937033653259, 0.0], [0.0030406340956687927, 0.0016124309040606022, 0.053520213812589645, 0.05471142753958702, 0.0005556084215641022, 0.00046056153951212764, 0.007239360827952623, 0.8788596987724304, 0.0], [0.00338224065490067, 0.0015501847956329584, 0.003054346889257431, 0.16550301015377045, 0.015744319185614586, 0.002798615489155054, 0.00027231196872889996, 0.8076949119567871, 0.0], [0.0007228914764709771, 0.0019834532868117094, 0.0021531207021325827, 0.0050097256898880005, 0.06822231411933899, 0.024281702935695648, 0.0006072776159271598, 0.8970195055007935, 0.0], [0.002345099113881588, 0.00042026990558952093, 0.0008463929407298565, 0.023895522579550743, 0.005104860290884972, 0.047531574964523315, 0.006124009843915701, 0.9137322902679443, 0.0], [0.004403652623295784, 0.0030653057619929314, 0.0058290171436965466, 0.007758529856801033, 0.010159027762711048, 0.015095540322363377, 0.05962279811501503, 0.8940661549568176, 0.0], [0.005127534735947847, 0.004319168161600828, 0.006571941077709198, 0.006534992251545191, 0.007035248912870884, 0.011586903594434261, 0.053213488310575485, 0.9056107401847839, 0.0]], [[0.13982678949832916, 0.08647053688764572, 0.0073966383934021, 0.004458504728972912, 0.004073314368724823, 0.011491908691823483, 0.005132022779434919, 0.7411502599716187, 0.0], [0.06757521629333496, 0.056486524641513824, 0.010465970262885094, 0.0032829877454787493, 0.004019221756607294, 0.0056457254104316235, 0.001866788836196065, 0.8506575226783752, 0.0], [0.009172795340418816, 0.03277066349983215, 0.003290472785010934, 0.029535558074712753, 0.023895464837551117, 0.0040273829363286495, 0.0036457940004765987, 0.8936618566513062, 0.0], [0.0006944742053747177, 0.0016747430199757218, 0.024483831599354744, 0.022448154166340828, 0.005753400269895792, 0.0026191293727606535, 0.0015505016781389713, 0.9407758116722107, 0.0], [0.0014386598486453295, 0.0020459466613829136, 0.010756933130323887, 0.018779542297124863, 0.012267925776541233, 0.01255006343126297, 0.009550508111715317, 0.9326104521751404, 0.0], [0.00032730333623476326, 0.0004710375505965203, 0.0024139820598065853, 0.04315789416432381, 0.029834672808647156, 0.005867750383913517, 0.009187721647322178, 0.9087396264076233, 0.0], [0.000536165724042803, 0.0005873504560440779, 0.00209730863571167, 0.010146362707018852, 0.014143312349915504, 0.012562645599246025, 0.013642307370901108, 0.9462845325469971, 0.0], [0.001630057580769062, 0.0023703326005488634, 0.00377113395370543, 0.017921224236488342, 0.01619672402739525, 0.010350068099796772, 0.03082405775785446, 0.9169363975524902, 0.0], [0.00199194997549057, 0.002972979564219713, 0.004760188981890678, 0.019457560032606125, 0.01590609923005104, 0.008741986006498337, 0.023518851026892662, 0.9226503968238831, 0.0]], [[0.016405997797846794, 0.003994046710431576, 0.003226236905902624, 0.11668281257152557, 0.010872196406126022, 0.005519172176718712, 0.002513537649065256, 0.8407859206199646, 0.0], [0.0168768223375082, 0.0007989061996340752, 0.007100190035998821, 0.08458350598812103, 0.00018243918020743877, 0.0013569073053076863, 0.0026339516043663025, 0.8864672780036926, 0.0], [0.0016202371334657073, 0.032774701714515686, 0.03200704604387283, 0.029065538197755814, 0.00022202171385288239, 0.0016517041949555278, 0.002165868179872632, 0.9004928469657898, 0.0], [0.008760608732700348, 0.03219828009605408, 0.08192385733127594, 0.007060757838189602, 0.0016297829570248723, 0.0003636227047536522, 0.004021730739623308, 0.8640413880348206, 0.0], [0.0006554757128469646, 0.00012541910109575838, 0.0066552055068314075, 0.17947998642921448, 0.011306594125926495, 0.00515388697385788, 0.0004975795745849609, 0.7961258888244629, 0.0], [0.00010160201054532081, 0.00014187867054715753, 0.0018059572903439403, 0.005293995141983032, 0.03485701605677605, 0.02605654112994671, 0.001875959918834269, 0.9298670887947083, 0.0], [0.0015660627977922559, 0.0012454676907509565, 0.00013028921966906637, 0.006981222424656153, 0.003410627832636237, 0.2211293876171112, 0.009271944873034954, 0.7562649846076965, 0.0], [0.0056712087243795395, 0.002764858305454254, 0.008417409844696522, 0.0146818608045578, 0.013698546215891838, 0.04496892914175987, 0.06518230587244034, 0.8446149230003357, 0.0], [0.0070409029722213745, 0.004649203736335039, 0.009636708535254002, 0.012927915900945663, 0.008870364166796207, 0.030554378405213356, 0.04760519787669182, 0.8787152767181396, 0.0]], [[0.06509312987327576, 0.06019321456551552, 0.009480948559939861, 0.026884011924266815, 0.0013464355142787099, 0.0010456531308591366, 0.0028038397431373596, 0.8331527709960938, 0.0], [0.02859249897301197, 0.05215967446565628, 0.010487611405551434, 0.06955858319997787, 0.0024318413343280554, 0.0005536220269277692, 0.0009782308479771018, 0.835237979888916, 0.0], [0.012216695584356785, 0.027969175949692726, 0.010819722898304462, 0.0196799635887146, 0.023536531254649162, 0.009545299224555492, 0.01422093529254198, 0.8820116519927979, 0.0], [0.0007940912619233131, 0.0006108967354521155, 0.004414909984916449, 0.003226382425054908, 0.010263347998261452, 0.021717961877584457, 0.0025175255723297596, 0.9564549326896667, 0.0], [0.0015485266922041774, 0.0013904267689213157, 0.00028536372701637447, 0.005343555938452482, 0.0021029675845056772, 0.006738757248967886, 0.004607924725860357, 0.9779825210571289, 0.0], [0.002378517761826515, 0.00504764961078763, 0.0038484211545437574, 0.015526828356087208, 0.015061180107295513, 0.018471622839570045, 0.048411499708890915, 0.8912542462348938, 0.0], [0.001300250762142241, 0.0018375160871073604, 0.001544963102787733, 0.005189820192754269, 0.012400307692587376, 0.02891548164188862, 0.011434439569711685, 0.9373772740364075, 0.0], [0.0036847174633294344, 0.002450298983603716, 0.0062318225391209126, 0.008085982874035835, 0.005066522862762213, 0.006958209443837404, 0.0027053363155573606, 0.9648171067237854, 0.0], [0.004418626427650452, 0.0032713685650378466, 0.0075899758376181126, 0.010035818442702293, 0.005554250441491604, 0.006776594091206789, 0.0023449319414794445, 0.9600083827972412, 0.0]], [[0.00343615235760808, 0.0051777558401227, 0.0005404426483437419, 0.06580158323049545, 0.03229774162173271, 0.0013589863665401936, 0.001093282364308834, 0.890294075012207, 0.0], [0.0007285464089363813, 0.0010815041605383158, 0.0009504170739091933, 0.016694916412234306, 0.020682143047451973, 0.008577332831919193, 0.001048276200890541, 0.9502367973327637, 0.0], [0.001729155657812953, 0.0012739310041069984, 0.0012804717989638448, 0.000732345855794847, 0.04775579273700714, 0.05903501436114311, 0.003419737098738551, 0.8847735524177551, 0.0], [0.031328022480010986, 0.04058593884110451, 0.002538812579587102, 0.003938521258533001, 0.0074404822662472725, 0.0114755155518651, 0.009905380196869373, 0.8927872776985168, 0.0], [0.011218074709177017, 0.0225171260535717, 0.0002909168542828411, 0.004281139932572842, 0.005017885006964207, 0.0007417537271976471, 0.0010144863044843078, 0.9549186825752258, 0.0], [0.012604541145265102, 0.03177815303206444, 0.0017510739853605628, 0.000753947882913053, 0.007344392128288746, 0.0018189805559813976, 0.0019146844279021025, 0.9420341849327087, 0.0], [0.0021431127097457647, 0.0028055787552148104, 0.0009266833076253533, 0.02830316312611103, 0.005942909047007561, 0.0020154283847659826, 0.0005342260701581836, 0.9573289155960083, 0.0], [0.0037039942108094692, 0.005884487181901932, 0.008368286304175854, 0.021228298544883728, 0.013923347927629948, 0.014061921276152134, 0.006026191636919975, 0.9268035292625427, 0.0], [0.003949429374188185, 0.005683190654963255, 0.00795795675367117, 0.020207766443490982, 0.018058834597468376, 0.016428006812930107, 0.0063838837668299675, 0.9213308691978455, 0.0]], [[0.007519492879509926, 0.08331199735403061, 0.006662619300186634, 0.006457943469285965, 0.007917233742773533, 0.004677614662796259, 0.006381905172020197, 0.8770712018013, 0.0], [0.0010309092467650771, 0.008859090507030487, 0.028174208477139473, 0.00904688611626625, 0.0049282098188996315, 0.0007266951142810285, 0.00406460277736187, 0.9431694149971008, 0.0], [0.0021086654160171747, 0.0016119902720674872, 0.02024422213435173, 0.05626950412988663, 0.0030523408204317093, 0.00079410953912884, 0.0007045226520858705, 0.9152147173881531, 0.0], [0.00021625046792905778, 0.0003451817319728434, 0.002298622392117977, 0.005786420777440071, 0.19486930966377258, 0.005784034263342619, 0.0035631023347377777, 0.7871370911598206, 0.0], [0.0002150351501768455, 0.00046698874211870134, 0.0009082158212549984, 0.0018247388070449233, 0.005354718770831823, 0.17543689906597137, 0.007212856784462929, 0.8085805177688599, 0.0], [0.002539344597607851, 0.0016185118583962321, 0.0012785028666257858, 0.009004445746541023, 0.0021028181072324514, 0.006245102267712355, 0.026751495897769928, 0.9504597783088684, 0.0], [0.0012489616638049483, 0.005776220001280308, 0.00448970403522253, 0.004833718296140432, 0.010355648584663868, 0.005979584995657206, 0.013243983499705791, 0.9540721774101257, 0.0], [0.00857686810195446, 0.003742012195289135, 0.005377760622650385, 0.012935762293636799, 0.010022050701081753, 0.004796384833753109, 0.0035043915268033743, 0.9510447978973389, 0.0], [0.006950353737920523, 0.003832590999081731, 0.006566761527210474, 0.016343187540769577, 0.009746733121573925, 0.003522707847878337, 0.0023253299295902252, 0.950712263584137, 0.0]], [[0.126543790102005, 0.1697969138622284, 0.0033686826936900616, 0.023475736379623413, 0.1679784059524536, 0.004218542482703924, 0.005069556180387735, 0.49954837560653687, 0.0], [0.029719365760684013, 0.020311087369918823, 0.0016461856430396438, 0.01950007490813732, 0.07506401836872101, 0.0011375928297638893, 0.0005185780464671552, 0.852103054523468, 0.0], [0.008028320968151093, 0.009123335592448711, 0.014041997492313385, 0.004439333453774452, 0.005790808238089085, 0.005036496091634035, 0.001657456741668284, 0.9518822431564331, 0.0], [0.0016596843488514423, 0.003024082398042083, 0.059276968240737915, 0.012789997272193432, 0.0027610354591161013, 0.00774538004770875, 0.00566905690357089, 0.9070738554000854, 0.0], [0.00031069331453181803, 0.0020537932869046926, 0.0049101002514362335, 0.01248200237751007, 0.01542567741125822, 0.005769170355051756, 0.00023193194647319615, 0.958816647529602, 0.0], [0.002068121684715152, 0.0017032838659361005, 0.011424009688198566, 0.007665219716727734, 0.008526166900992393, 0.027828963473439217, 0.0019396484130993485, 0.9388445615768433, 0.0], [0.0003431728109717369, 0.00025021651526913047, 0.00272521935403347, 0.05062912032008171, 0.007109027821570635, 0.02729271724820137, 0.0011702157789841294, 0.910480260848999, 0.0], [0.001491520437411964, 0.002468493999913335, 0.009233968332409859, 0.020811311900615692, 0.0066303228959441185, 0.029124774038791656, 0.009709961712360382, 0.9205296635627747, 0.0], [0.001787894987501204, 0.0029642856679856777, 0.010441496968269348, 0.020024051889777184, 0.0069936830550432205, 0.026264719665050507, 0.007994848303496838, 0.9235290288925171, 0.0]]]], \"left_text\": [\"V\", \"V\", \"T\", \"G\", \"V\", \"T\", \"A\", \"<eos>\", \"<pad>\"], \"right_text\": [\"V\", \"V\", \"T\", \"G\", \"V\", \"T\", \"A\", \"<eos>\", \"<pad>\"]}, {\"name\": \"Decoder\", \"attn\": [[[[1.0, 0.0, 0.0, 0.0, 0.0, 0.0, 0.0, 0.0], [1.0, 2.2462814383126818e-42, 0.0, 0.0, 0.0, 0.0, 0.0, 0.0], [0.0, 0.0, 1.0, 0.0, 0.0, 0.0, 0.0, 0.0], [0.0, 0.0, 1.0, 0.0, 0.0, 0.0, 0.0, 0.0], [0.0, 0.0, 0.0, 0.0, 1.0, 0.0, 0.0, 0.0], [0.0, 0.0, 0.0, 0.0, 1.0, 0.0, 0.0, 0.0], [0.0, 0.0, 0.0, 0.0, 1.0, 0.0, 0.0, 0.0], [0.0, 0.0, 0.0, 0.0, 1.0, 0.0, 0.0, 0.0]], [[1.0, 0.0, 0.0, 0.0, 0.0, 0.0, 0.0, 0.0], [1.0, 0.0, 0.0, 0.0, 0.0, 0.0, 0.0, 0.0], [0.0, 1.0, 0.0, 0.0, 0.0, 0.0, 0.0, 0.0], [0.0, 0.0, 1.0, 7.006492321624085e-45, 0.0, 0.0, 0.0, 0.0], [0.0, 0.0, 0.0, 1.0, 0.0, 0.0, 0.0, 0.0], [0.0, 0.0, 0.0, 0.0, 1.0, 0.0, 0.0, 0.0], [0.0, 0.0, 0.0, 0.0, 0.0, 1.0, 0.0, 0.0], [0.0, 0.0, 0.0, 0.0, 0.0, 0.0, 1.0, 0.0]], [[1.0, 0.0, 0.0, 0.0, 0.0, 0.0, 0.0, 0.0], [0.9604994058609009, 0.03950056806206703, 0.0, 0.0, 0.0, 0.0, 0.0, 0.0], [0.15826883912086487, 0.7833244800567627, 0.058406706899404526, 0.0, 0.0, 0.0, 0.0, 0.0], [0.004990891553461552, 0.049267444759607315, 0.9191138744354248, 0.02662784233689308, 0.0, 0.0, 0.0, 0.0], [0.10620158165693283, 0.0010528028942644596, 0.15822336077690125, 0.6623520851135254, 0.072170190513134, 0.0, 0.0, 0.0], [0.008155569434165955, 1.4128637303656433e-05, 0.0010198968229815364, 0.006146405357867479, 0.9383843541145325, 0.0462796688079834, 0.0, 0.0], [0.0036612616386264563, 2.2398134547074733e-07, 2.0931574908900075e-06, 0.00013224930444266647, 0.053884055465459824, 0.8241540193557739, 0.11816609650850296, 0.0], [0.002093835501000285, 2.9908983378845733e-07, 1.3233584184035863e-07, 8.666791018185904e-07, 0.0004974829498678446, 0.07285219430923462, 0.5710710883140564, 0.35348406434059143]], [[1.0, 0.0, 0.0, 0.0, 0.0, 0.0, 0.0, 0.0], [1.0, 0.0, 0.0, 0.0, 0.0, 0.0, 0.0, 0.0], [0.0, 0.0, 1.0, 0.0, 0.0, 0.0, 0.0, 0.0], [0.0, 0.0, 0.0, 1.0, 0.0, 0.0, 0.0, 0.0], [0.0, 0.0, 0.0, 0.0, 1.0, 0.0, 0.0, 0.0], [0.0, 0.0, 0.0, 0.0, 0.0, 1.0, 0.0, 0.0], [0.0, 0.0, 0.0, 0.0, 0.0, 0.0, 1.0, 0.0], [0.0, 0.0, 0.0, 0.0, 0.0, 0.0, 0.0, 1.0]], [[1.0, 0.0, 0.0, 0.0, 0.0, 0.0, 0.0, 0.0], [0.9998286962509155, 0.0001712262019282207, 0.0, 0.0, 0.0, 0.0, 0.0, 0.0], [0.9855778813362122, 0.014412393793463707, 9.727348697197158e-06, 0.0, 0.0, 0.0, 0.0, 0.0], [0.10405576229095459, 0.814724326133728, 0.08102811872959137, 0.00019186186545994133, 0.0, 0.0, 0.0, 0.0], [1.1660910786304157e-05, 0.0032161776907742023, 0.970367968082428, 0.026402030140161514, 2.140332753697294e-06, 0.0, 0.0, 0.0], [4.845381873508359e-10, 1.4766113736186526e-06, 0.11957218497991562, 0.873715341091156, 0.006710948888212442, 9.93500819390647e-08, 0.0, 0.0], [1.013220149761104e-16, 9.627372243327641e-15, 2.3957289485565525e-08, 0.016413651406764984, 0.9627257585525513, 0.02086051180958748, 2.848055302706598e-08, 0.0], [6.55528929245479e-27, 1.6614182961862208e-27, 3.978014155550512e-21, 1.0312091458519745e-11, 0.0004093918832950294, 0.9985122084617615, 0.001078433240763843, 1.5062766312023967e-10]], [[1.0, 0.0, 0.0, 0.0, 0.0, 0.0, 0.0, 0.0], [1.0, 1.9950288877523003e-30, 0.0, 0.0, 0.0, 0.0, 0.0, 0.0], [2.2884465091042155e-40, 1.0, 1.4058152141285238e-24, 0.0, 0.0, 0.0, 0.0, 0.0], [0.0, 1.0594239287688645e-20, 1.0, 9.654913519607615e-16, 0.0, 0.0, 0.0, 0.0], [0.0, 0.0, 1.002703162366786e-25, 1.0, 3.171031007500235e-22, 0.0, 0.0, 0.0], [0.0, 0.0, 0.0, 1.9120458279613686e-31, 1.0, 2.215749481358902e-20, 0.0, 0.0], [0.0, 0.0, 0.0, 0.0, 1.2122266180628434e-23, 1.0, 2.744920539092971e-19, 0.0], [0.0, 0.0, 0.0, 0.0, 0.0, 3.552975297221039e-35, 1.0, 1.8241662959680464e-24]], [[1.0, 0.0, 0.0, 0.0, 0.0, 0.0, 0.0, 0.0], [1.0, 0.0, 0.0, 0.0, 0.0, 0.0, 0.0, 0.0], [0.0, 2.4802982818549262e-43, 1.0, 0.0, 0.0, 0.0, 0.0, 0.0], [0.0, 0.0, 0.0, 1.0, 0.0, 0.0, 0.0, 0.0], [0.0, 0.0, 0.0, 1.0, 0.0, 0.0, 0.0, 0.0], [0.0, 0.0, 0.0, 0.0, 0.0, 1.0, 0.0, 0.0], [0.0, 0.0, 0.0, 0.0, 0.0, 1.0, 3.4490511594233952e-28, 0.0], [0.0, 0.0, 0.0, 0.0, 0.0, 9.80908925027372e-45, 3.9889525051862964e-32, 1.0]], [[1.0, 0.0, 0.0, 0.0, 0.0, 0.0, 0.0, 0.0], [0.2028065323829651, 0.7971934676170349, 0.0, 0.0, 0.0, 0.0, 0.0, 0.0], [0.2814235985279083, 0.05577857047319412, 0.6627978086471558, 0.0, 0.0, 0.0, 0.0, 0.0], [0.5499498844146729, 0.026557868346571922, 0.08013440668582916, 0.3433578312397003, 0.0, 0.0, 0.0, 0.0], [0.5694552063941956, 0.03582997992634773, 0.060328949242830276, 0.1254757046699524, 0.20891010761260986, 0.0, 0.0, 0.0], [0.4835054576396942, 0.019172141328454018, 0.02661634050309658, 0.09143004566431046, 0.048294827342033386, 0.33098116517066956, 0.0, 0.0], [0.6134853363037109, 0.02031875215470791, 0.03878426551818848, 0.06545094400644302, 0.02753698080778122, 0.07199880480766296, 0.16242501139640808, 0.0], [0.5696744918823242, 0.026591813191771507, 0.041568197309970856, 0.06311319768428802, 0.018376220017671585, 0.024167586117982864, 0.047934241592884064, 0.20857416093349457]]], [[[1.0, 0.0, 0.0, 0.0, 0.0, 0.0, 0.0, 0.0], [0.9835157990455627, 0.016484137624502182, 0.0, 0.0, 0.0, 0.0, 0.0, 0.0], [0.6248724460601807, 0.37463727593421936, 0.0004903210792690516, 0.0, 0.0, 0.0, 0.0, 0.0], [0.835975706577301, 0.08098147064447403, 0.021057775244116783, 0.06198509782552719, 0.0, 0.0, 0.0, 0.0], [0.63725745677948, 0.003862598678097129, 0.009206331335008144, 0.3321358561515808, 0.01753764972090721, 0.0, 0.0, 0.0], [0.7340127825737, 0.004434346687048674, 0.004976390395313501, 0.11256151646375656, 0.1067681610584259, 0.03724677488207817, 0.0, 0.0], [0.9591043591499329, 0.0006208375561982393, 7.69426696933806e-05, 0.007632562890648842, 0.015247673727571964, 0.012237573973834515, 0.005080030765384436, 0.0], [0.9304541349411011, 0.001204383559525013, 0.0005118126864545047, 0.003518051467835903, 0.014945246279239655, 0.009376506321132183, 0.027560176327824593, 0.012429763562977314]], [[1.0, 0.0, 0.0, 0.0, 0.0, 0.0, 0.0, 0.0], [0.9919192790985107, 0.008080647327005863, 0.0, 0.0, 0.0, 0.0, 0.0, 0.0], [0.8751956820487976, 0.12005322426557541, 0.004751069005578756, 0.0, 0.0, 0.0, 0.0, 0.0], [0.8383838534355164, 0.03157752752304077, 0.10746558755636215, 0.022573059424757957, 0.0, 0.0, 0.0, 0.0], [0.7866697311401367, 0.0050446875393390656, 0.052824102342128754, 0.11151103675365448, 0.04395030438899994, 0.0, 0.0, 0.0], [0.8313796520233154, 0.013597648590803146, 0.0077538639307022095, 0.00805717334151268, 0.11808589100837708, 0.021125776693224907, 0.0, 0.0], [0.651357889175415, 0.006351839285343885, 0.0025083001237362623, 0.010213666595518589, 0.05914557725191116, 0.2555241286754608, 0.014898554421961308, 0.0], [0.7769012451171875, 0.005525579210370779, 0.005922520533204079, 0.016565460711717606, 0.03366309031844139, 0.08678170293569565, 0.06272315979003906, 0.011917205527424812]], [[1.0, 0.0, 0.0, 0.0, 0.0, 0.0, 0.0, 0.0], [0.9993165731430054, 0.0006834241794422269, 0.0, 0.0, 0.0, 0.0, 0.0, 0.0], [0.985736072063446, 0.008865589275956154, 0.005398331210017204, 0.0, 0.0, 0.0, 0.0, 0.0], [0.9041123986244202, 0.055680934339761734, 0.019112324342131615, 0.02109440229833126, 0.0, 0.0, 0.0, 0.0], [0.9037834405899048, 0.005988525226712227, 0.0035358406603336334, 0.048701588064432144, 0.037990693002939224, 0.0, 0.0, 0.0], [0.8921692371368408, 0.00915574561804533, 0.009582126513123512, 0.016322240233421326, 0.06740406155586243, 0.005366475787013769, 0.0, 0.0], [0.8127565383911133, 0.0033064871095120907, 0.0007078932248987257, 0.01462104544043541, 0.13667888939380646, 0.014000054448843002, 0.017929179593920708, 0.0], [0.6837623119354248, 0.0052499920129776, 0.0024010464549064636, 0.015739504247903824, 0.09951682388782501, 0.04179937392473221, 0.12432830780744553, 0.027202581986784935]], [[1.0, 0.0, 0.0, 0.0, 0.0, 0.0, 0.0, 0.0], [0.997238039970398, 0.0027618990279734135, 0.0, 0.0, 0.0, 0.0, 0.0, 0.0], [0.9948511719703674, 0.004092360381036997, 0.001056463923305273, 0.0, 0.0, 0.0, 0.0, 0.0], [0.9303910732269287, 0.032370809465646744, 0.006715001072734594, 0.030523153021931648, 0.0, 0.0, 0.0, 0.0], [0.9417009353637695, 0.008236220106482506, 0.02088608406484127, 0.02381398156285286, 0.005362780299037695, 0.0, 0.0, 0.0], [0.8228136301040649, 0.006595874670892954, 0.04863822087645531, 0.08983847498893738, 0.01566792093217373, 0.016445893794298172, 0.0, 0.0], [0.6016473174095154, 0.0038954445626586676, 0.009892676025629044, 0.061743758618831635, 0.16538619995117188, 0.09689782559871674, 0.060536690056324005, 0.0], [0.661734938621521, 0.008073298260569572, 0.004589394200593233, 0.0264827162027359, 0.08481968194246292, 0.08180911093950272, 0.11746474355459213, 0.01502611767500639]], [[1.0, 0.0, 0.0, 0.0, 0.0, 0.0, 0.0, 0.0], [0.9985223412513733, 0.0014776199823245406, 0.0, 0.0, 0.0, 0.0, 0.0, 0.0], [0.9282305836677551, 0.03839770331978798, 0.033371683210134506, 0.0, 0.0, 0.0, 0.0, 0.0], [0.8781004548072815, 0.014928418211638927, 0.07394533604383469, 0.03302580490708351, 0.0, 0.0, 0.0, 0.0], [0.7996442317962646, 0.002429609652608633, 0.015177025459706783, 0.17025530338287354, 0.012493797577917576, 0.0, 0.0, 0.0], [0.8448978662490845, 0.002437099115923047, 0.0026702112518250942, 0.027275988832116127, 0.10192142426967621, 0.020797422155737877, 0.0, 0.0], [0.6943091154098511, 0.0018462804146111012, 0.0019252209458500147, 0.012713749893009663, 0.05549177527427673, 0.20949749648571014, 0.024216340854763985, 0.0], [0.6721048951148987, 0.012598024681210518, 0.0068063014186918736, 0.006627372931689024, 0.015104047954082489, 0.024523135274648666, 0.23960232734680176, 0.022633861750364304]], [[1.0, 0.0, 0.0, 0.0, 0.0, 0.0, 0.0, 0.0], [0.9822449088096619, 0.017755167558789253, 0.0, 0.0, 0.0, 0.0, 0.0, 0.0], [0.962537407875061, 0.035414669662714005, 0.0020479965023696423, 0.0, 0.0, 0.0, 0.0, 0.0], [0.8456704020500183, 0.1425219476222992, 0.009419399313628674, 0.0023882705718278885, 0.0, 0.0, 0.0, 0.0], [0.7525839805603027, 0.0152613939717412, 0.1865280717611313, 0.04406117647886276, 0.0015653105219826102, 0.0, 0.0, 0.0], [0.8302904367446899, 0.03950243443250656, 0.009819011203944683, 0.0734015479683876, 0.02869962528347969, 0.018286826089024544, 0.0, 0.0], [0.5521471500396729, 0.03885932266712189, 0.015133127570152283, 0.0723007395863533, 0.055407337844371796, 0.24885150790214539, 0.017300859093666077, 0.0], [0.594245195388794, 0.03836151584982872, 0.0284742284566164, 0.06048575043678284, 0.1059165894985199, 0.0954168513417244, 0.05858001857995987, 0.018519749864935875]], [[1.0, 0.0, 0.0, 0.0, 0.0, 0.0, 0.0, 0.0], [0.9959285855293274, 0.004071390256285667, 0.0, 0.0, 0.0, 0.0, 0.0, 0.0], [0.9259911775588989, 0.06648262590169907, 0.0075261835008859634, 0.0, 0.0, 0.0, 0.0, 0.0], [0.9241878390312195, 0.06508680433034897, 0.00919693149626255, 0.0015284435357898474, 0.0, 0.0, 0.0, 0.0], [0.8954710364341736, 0.013596347533166409, 0.01172776147723198, 0.03935288265347481, 0.039851874113082886, 0.0, 0.0, 0.0], [0.5960922241210938, 0.004393912851810455, 0.0004624587018042803, 0.0072807129472494125, 0.3835657835006714, 0.008204901590943336, 0.0, 0.0], [0.8721479177474976, 0.004420778714120388, 0.00015437672846019268, 0.002520979382097721, 0.015131200663745403, 0.013748829253017902, 0.09187577664852142, 0.0], [0.8164393901824951, 0.009283866733312607, 0.003082945477217436, 0.001664889045059681, 0.008075356483459473, 0.011410076171159744, 0.10454635322093964, 0.04549715667963028]], [[1.0, 0.0, 0.0, 0.0, 0.0, 0.0, 0.0, 0.0], [0.9964906573295593, 0.003509264439344406, 0.0, 0.0, 0.0, 0.0, 0.0, 0.0], [0.9976932406425476, 0.000822218949906528, 0.0014845345867797732, 0.0, 0.0, 0.0, 0.0, 0.0], [0.7601897716522217, 0.0036041042767465115, 0.20360428094863892, 0.03260185196995735, 0.0, 0.0, 0.0, 0.0], [0.9304896593093872, 0.0019560460932552814, 0.047008711844682693, 0.009202500805258751, 0.011343096382915974, 0.0, 0.0, 0.0], [0.7658867239952087, 0.0007660459377802908, 0.02017192728817463, 0.03785069286823273, 0.17063045501708984, 0.00469424482434988, 0.0, 0.0], [0.9070665836334229, 0.0015993270790204406, 0.005857143085449934, 0.0033800844103097916, 0.0746697261929512, 0.0037897212896496058, 0.0036373690236359835, 0.0], [0.8835440278053284, 0.0035381601192057133, 0.003707403317093849, 0.007637267932295799, 0.04011102393269539, 0.01237526535987854, 0.029700346291065216, 0.01938665471971035]]], [[[1.0, 0.0, 0.0, 0.0, 0.0, 0.0, 0.0, 0.0], [0.9650675058364868, 0.034932538866996765, 0.0, 0.0, 0.0, 0.0, 0.0, 0.0], [0.32045456767082214, 0.6266271471977234, 0.05291832610964775, 0.0, 0.0, 0.0, 0.0, 0.0], [0.43319839239120483, 0.09749564528465271, 0.4257928133010864, 0.04351309686899185, 0.0, 0.0, 0.0, 0.0], [0.07753028720617294, 0.004720001481473446, 0.016670331358909607, 0.8219191431999207, 0.0791601911187172, 0.0, 0.0, 0.0], [0.1459490805864334, 0.005640855990350246, 0.012010900303721428, 0.10811256617307663, 0.5599513649940491, 0.1683352142572403, 0.0, 0.0], [0.2023920714855194, 0.00430191308259964, 0.003495209850370884, 0.06739063560962677, 0.036306221038103104, 0.17955589294433594, 0.5065580010414124, 0.0], [0.006726167164742947, 0.0004810116079170257, 0.002817489905282855, 0.0046844868920743465, 0.019125696271657944, 0.008554796688258648, 0.9165253043174744, 0.04108511656522751]], [[1.0, 0.0, 0.0, 0.0, 0.0, 0.0, 0.0, 0.0], [0.5289773344993591, 0.47102269530296326, 0.0, 0.0, 0.0, 0.0, 0.0, 0.0], [0.7464597821235657, 0.2490696758031845, 0.004470588639378548, 0.0, 0.0, 0.0, 0.0, 0.0], [0.7043574452400208, 0.19772619009017944, 0.05767787620425224, 0.04023844748735428, 0.0, 0.0, 0.0, 0.0], [0.5255283117294312, 0.004391883034259081, 0.041459254920482635, 0.24932461977005005, 0.17929595708847046, 0.0, 0.0, 0.0], [0.4057183861732483, 0.023233557119965553, 0.029514852911233902, 0.2808486819267273, 0.15251342952251434, 0.10817112028598785, 0.0, 0.0], [0.42268383502960205, 0.02122291550040245, 0.0008511939668096602, 0.0344858281314373, 0.45992782711982727, 0.03479108214378357, 0.0260371845215559, 0.0], [0.21683765947818756, 0.07214733958244324, 0.010751530528068542, 0.29852309823036194, 0.01670531928539276, 0.28666335344314575, 0.09330794215202332, 0.005063686054199934]], [[1.0, 0.0, 0.0, 0.0, 0.0, 0.0, 0.0, 0.0], [0.9967122077941895, 0.0032877700868993998, 0.0, 0.0, 0.0, 0.0, 0.0, 0.0], [0.9760320782661438, 0.022095810621976852, 0.0018721396336331964, 0.0, 0.0, 0.0, 0.0, 0.0], [0.7398888468742371, 0.2241615355014801, 0.017440730705857277, 0.018508946523070335, 0.0, 0.0, 0.0, 0.0], [0.2038218080997467, 0.039564479142427444, 0.015391680411994457, 0.7275044322013855, 0.013717502355575562, 0.0, 0.0, 0.0], [0.4058536887168884, 0.01406367588788271, 0.04548051208257675, 0.17558641731739044, 0.008855997584760189, 0.3501596450805664, 0.0, 0.0], [0.21379472315311432, 0.005343906115740538, 0.0003038001887034625, 0.10030674189329147, 0.4053040146827698, 0.25356703996658325, 0.021379688754677773, 0.0], [0.04119807481765747, 0.0016406297218054533, 0.000939690915402025, 0.04647123068571091, 0.01773250102996826, 0.8692200779914856, 0.018295714631676674, 0.004502123221755028]], [[1.0, 0.0, 0.0, 0.0, 0.0, 0.0, 0.0, 0.0], [0.9892058372497559, 0.010794160887598991, 0.0, 0.0, 0.0, 0.0, 0.0, 0.0], [0.4096786677837372, 0.04597989469766617, 0.5443413853645325, 0.0, 0.0, 0.0, 0.0, 0.0], [0.12366165220737457, 0.0003684554249048233, 0.8676294088363647, 0.008340409025549889, 0.0, 0.0, 0.0, 0.0], [0.4526441693305969, 0.0017404267564415932, 0.02965104952454567, 0.4158768355846405, 0.10008753091096878, 0.0, 0.0, 0.0], [0.553806722164154, 0.001632325816899538, 0.005156395491212606, 0.019890479743480682, 0.31745389103889465, 0.10206016153097153, 0.0, 0.0], [0.13654161989688873, 0.00010337667481508106, 0.000758589303586632, 0.0045915208756923676, 0.014994221739470959, 0.8044507503509521, 0.03855995088815689, 0.0], [0.004556747619062662, 0.00018240665667690337, 2.656071046658326e-05, 0.00037056728615425527, 0.003167972434312105, 0.030401218682527542, 0.9247465133666992, 0.036547984927892685]], [[1.0, 0.0, 0.0, 0.0, 0.0, 0.0, 0.0, 0.0], [0.9995651841163635, 0.0004347858775872737, 0.0, 0.0, 0.0, 0.0, 0.0, 0.0], [0.9960477948188782, 0.003275123657658696, 0.0006770440377295017, 0.0, 0.0, 0.0, 0.0, 0.0], [0.8780504465103149, 0.10481435060501099, 0.016688039526343346, 0.00044719409197568893, 0.0, 0.0, 0.0, 0.0], [0.13763286173343658, 0.034754011780023575, 0.5365051031112671, 0.28932055830955505, 0.0017873842734843493, 0.0, 0.0, 0.0], [0.07229142636060715, 0.0006322328699752688, 0.025177234783768654, 0.8981596231460571, 0.0005585674662142992, 0.0031809634529054165, 0.0, 0.0], [0.05337614566087723, 0.006862177513539791, 0.002546201692894101, 0.010149192996323109, 0.6596227884292603, 0.09806142002344131, 0.16938206553459167, 0.0], [0.002054678974673152, 0.0004809811362065375, 0.0006869944627396762, 0.010070707648992538, 0.028019431978464127, 0.087330162525177, 0.8709144592285156, 0.000442581920651719]], [[1.0, 0.0, 0.0, 0.0, 0.0, 0.0, 0.0, 0.0], [0.9555383324623108, 0.044461626559495926, 0.0, 0.0, 0.0, 0.0, 0.0, 0.0], [0.8602166175842285, 0.13514578342437744, 0.00463765999302268, 0.0, 0.0, 0.0, 0.0, 0.0], [0.4900975227355957, 0.032350264489650726, 0.47112202644348145, 0.006430167239159346, 0.0, 0.0, 0.0, 0.0], [0.5899673104286194, 0.08609521389007568, 0.14961004257202148, 0.1146828904747963, 0.05964462086558342, 0.0, 0.0, 0.0], [0.11809013038873672, 0.00147531577385962, 0.0009538035374134779, 0.02769416943192482, 0.841133713722229, 0.010652925819158554, 0.0, 0.0], [0.11936894059181213, 0.0015644460218027234, 0.024873819202184677, 0.01673579029738903, 0.6536397933959961, 0.17322760820388794, 0.010589520446956158, 0.0], [0.18974089622497559, 0.0011325179366394877, 0.03834940493106842, 0.002025134861469269, 0.3022291660308838, 0.3521871566772461, 0.054928623139858246, 0.059407055377960205]], [[1.0, 0.0, 0.0, 0.0, 0.0, 0.0, 0.0, 0.0], [0.9926839470863342, 0.007316099014133215, 0.0, 0.0, 0.0, 0.0, 0.0, 0.0], [0.1444702446460724, 0.6689537167549133, 0.18657605350017548, 0.0, 0.0, 0.0, 0.0, 0.0], [0.07946249097585678, 0.0066713569685816765, 0.9103384613990784, 0.0035277174320071936, 0.0, 0.0, 0.0, 0.0], [0.3410564363002777, 0.00959539134055376, 0.5747078657150269, 0.019128940999507904, 0.05551129952073097, 0.0, 0.0, 0.0], [0.4010857343673706, 0.0016227001324295998, 0.14486323297023773, 0.016862183809280396, 0.39136284589767456, 0.04420330375432968, 0.0, 0.0], [0.4917221665382385, 0.0010664481669664383, 0.06347426027059555, 0.2770378291606903, 0.06575477868318558, 0.05117052420973778, 0.04977401718497276, 0.0], [0.12993498146533966, 0.00030893587972968817, 0.04226433113217354, 0.27490368485450745, 0.2379555106163025, 0.10019581019878387, 0.2062736451625824, 0.008163132704794407]], [[1.0, 0.0, 0.0, 0.0, 0.0, 0.0, 0.0, 0.0], [0.9627530574798584, 0.037246931344270706, 0.0, 0.0, 0.0, 0.0, 0.0, 0.0], [0.8978430032730103, 0.06069708243012428, 0.04145989939570427, 0.0, 0.0, 0.0, 0.0, 0.0], [0.5408993363380432, 0.4024154841899872, 0.04536893963813782, 0.01131622027605772, 0.0, 0.0, 0.0, 0.0], [0.3977753818035126, 0.016754042357206345, 0.044318098574876785, 0.47621211409568787, 0.06494038552045822, 0.0, 0.0, 0.0], [0.23201318085193634, 0.03400856629014015, 0.0024320364464074373, 0.03676972910761833, 0.6599962115287781, 0.03478024899959564, 0.0, 0.0], [0.046825021505355835, 0.00022342981537804008, 0.00896572694182396, 0.30332711338996887, 0.011322462931275368, 0.6160197854042053, 0.013316435739398003, 0.0], [0.0638836920261383, 9.33243427425623e-05, 0.02125164121389389, 0.4368171691894531, 0.042897798120975494, 0.23794396221637726, 0.16323761641979218, 0.03387480974197388]]], [[[1.0, 0.0, 0.0, 0.0, 0.0, 0.0, 0.0, 0.0], [0.1418083906173706, 0.8581916689872742, 0.0, 0.0, 0.0, 0.0, 0.0, 0.0], [0.4960503876209259, 0.1825355738401413, 0.321414053440094, 0.0, 0.0, 0.0, 0.0, 0.0], [0.15439119935035706, 0.0610220767557621, 0.1207740381360054, 0.6638126969337463, 0.0, 0.0, 0.0, 0.0], [0.24235820770263672, 0.27067404985427856, 0.0010218595853075385, 0.43885931372642517, 0.04708661511540413, 0.0, 0.0, 0.0], [0.010938353836536407, 0.023302795365452766, 0.008397779427468777, 0.8907273411750793, 0.0055325450375676155, 0.06110116094350815, 0.0, 0.0], [0.05066341161727905, 0.03978918492794037, 0.0014681199099868536, 0.3738301396369934, 0.1447388380765915, 0.3757930099964142, 0.01371734868735075, 0.0], [0.713167130947113, 0.06646011024713516, 0.026335911825299263, 0.021425874903798103, 0.02155951038002968, 0.003780514234676957, 0.015135656110942364, 0.13213534653186798]], [[1.0, 0.0, 0.0, 0.0, 0.0, 0.0, 0.0, 0.0], [0.9982870221138, 0.0017129307379946113, 0.0, 0.0, 0.0, 0.0, 0.0, 0.0], [0.8773615956306458, 0.0136038176715374, 0.10903459787368774, 0.0, 0.0, 0.0, 0.0, 0.0], [0.8040584325790405, 0.02501475065946579, 0.04193485528230667, 0.1289920210838318, 0.0, 0.0, 0.0, 0.0], [0.17677493393421173, 0.21526651084423065, 0.17159968614578247, 0.04754938557744026, 0.38880956172943115, 0.0, 0.0, 0.0], [0.00761379161849618, 0.0002375207404838875, 0.0006029067444615066, 0.010562192648649216, 0.9808820486068726, 0.00010162894614040852, 0.0, 0.0], [0.021762019023299217, 3.0321150916279294e-05, 0.002910923445597291, 0.2421654313802719, 0.7284016609191895, 0.0027098667342215776, 0.002019783714786172, 0.0], [0.2007034420967102, 0.0006123353959992528, 0.07141394913196564, 0.009563744068145752, 0.20054037868976593, 0.04073581472039223, 0.4241841435432434, 0.052246108651161194]], [[1.0, 0.0, 0.0, 0.0, 0.0, 0.0, 0.0, 0.0], [0.8589006662368774, 0.14109936356544495, 0.0, 0.0, 0.0, 0.0, 0.0, 0.0], [0.9658491015434265, 0.02259928174316883, 0.011551544070243835, 0.0, 0.0, 0.0, 0.0, 0.0], [0.4867764115333557, 0.03498125821352005, 0.1287531852722168, 0.3494892418384552, 0.0, 0.0, 0.0, 0.0], [0.527608335018158, 0.3700530529022217, 0.00961549673229456, 0.09047868847846985, 0.002244366565719247, 0.0, 0.0, 0.0], [0.38305971026420593, 0.08835494518280029, 0.0057602827437222, 0.4481482207775116, 0.06901635974645615, 0.005660506896674633, 0.0, 0.0], [0.7413314580917358, 0.18607157468795776, 0.0075849988497793674, 0.007063118740916252, 0.017574816942214966, 0.039076562970876694, 0.0012974459677934647, 0.0], [0.45873400568962097, 0.03506713733077049, 0.07638300955295563, 0.028580207377672195, 0.2387140393257141, 0.01068525854498148, 0.011637846007943153, 0.14019843935966492]], [[1.0, 0.0, 0.0, 0.0, 0.0, 0.0, 0.0, 0.0], [0.9741687178611755, 0.0258311964571476, 0.0, 0.0, 0.0, 0.0, 0.0, 0.0], [0.5111456513404846, 0.4882705807685852, 0.000583832326810807, 0.0, 0.0, 0.0, 0.0, 0.0], [0.5221339464187622, 0.2908651530742645, 0.007243745494633913, 0.17975713312625885, 0.0, 0.0, 0.0, 0.0], [0.01290510781109333, 0.0023578600957989693, 0.004490371327847242, 0.9779320359230042, 0.002314717508852482, 0.0, 0.0, 0.0], [0.7471922636032104, 0.004571669269353151, 0.030687622725963593, 0.06688130646944046, 0.0615725964307785, 0.08909454941749573, 0.0, 0.0], [0.10358532518148422, 0.008116290904581547, 0.003415851853787899, 0.4050486981868744, 0.005832667462527752, 0.31562021374702454, 0.15838104486465454, 0.0], [0.20751136541366577, 0.0007009607506915927, 0.01135397981852293, 0.003052394138649106, 0.14912965893745422, 0.051783669739961624, 0.5646157264709473, 0.01185227558016777]], [[1.0, 0.0, 0.0, 0.0, 0.0, 0.0, 0.0, 0.0], [0.8428134322166443, 0.15718652307987213, 0.0, 0.0, 0.0, 0.0, 0.0, 0.0], [0.3958456516265869, 0.585610568523407, 0.01854374259710312, 0.0, 0.0, 0.0, 0.0, 0.0], [0.06973189860582352, 0.06855475902557373, 0.8593201637268066, 0.002393146511167288, 0.0, 0.0, 0.0, 0.0], [0.5742790102958679, 0.017476044595241547, 0.04250100627541542, 0.30771178007125854, 0.05803212895989418, 0.0, 0.0, 0.0], [0.08082393556833267, 0.02839798666536808, 0.020000047981739044, 0.00971856340765953, 0.3057232201099396, 0.5553362965583801, 0.0, 0.0], [0.21569770574569702, 0.010773872956633568, 0.0845598578453064, 0.06885530054569244, 0.5400466322898865, 0.031018421053886414, 0.04904813691973686, 0.0], [0.48615509271621704, 0.0075877816416323185, 0.010700788348913193, 0.013270602561533451, 0.3558867275714874, 0.05376071855425835, 0.009034501388669014, 0.06360384821891785]], [[1.0, 0.0, 0.0, 0.0, 0.0, 0.0, 0.0, 0.0], [0.9790105819702148, 0.020989377051591873, 0.0, 0.0, 0.0, 0.0, 0.0, 0.0], [0.9376208782196045, 0.053077150136232376, 0.009301995858550072, 0.0, 0.0, 0.0, 0.0, 0.0], [0.159297376871109, 0.7920405864715576, 0.04263583943247795, 0.006026210263371468, 0.0, 0.0, 0.0, 0.0], [0.420055091381073, 0.020701607689261436, 0.0024442365393042564, 0.43181559443473816, 0.12498347461223602, 0.0, 0.0, 0.0], [0.21185874938964844, 0.00693309074267745, 0.008190872147679329, 0.026740627363324165, 0.003222094848752022, 0.7430545687675476, 0.0, 0.0], [0.5716597437858582, 0.004582419525831938, 0.06149764358997345, 0.01913621835410595, 0.04175595939159393, 0.20435994863510132, 0.09700817614793777, 0.0], [0.2891212999820709, 0.12161286175251007, 0.0029753735288977623, 0.04787307605147362, 0.10215037316083908, 0.0321175791323185, 0.4007871448993683, 0.0033623017370700836]], [[1.0, 0.0, 0.0, 0.0, 0.0, 0.0, 0.0, 0.0], [0.9928128123283386, 0.007187194190919399, 0.0, 0.0, 0.0, 0.0, 0.0, 0.0], [0.8885430693626404, 0.09945801645517349, 0.011998877860605717, 0.0, 0.0, 0.0, 0.0, 0.0], [0.8096309304237366, 0.028467940166592598, 0.15427052974700928, 0.007630603387951851, 0.0, 0.0, 0.0, 0.0], [0.28627809882164, 0.003135479986667633, 0.17130117118358612, 0.4989073872566223, 0.04037778079509735, 0.0, 0.0, 0.0], [0.11719753593206406, 0.007359722629189491, 0.219379261136055, 0.028252461925148964, 0.029489096254110336, 0.5983218550682068, 0.0, 0.0], [0.04813206195831299, 0.003994723781943321, 0.08034256845712662, 0.007253062911331654, 0.008240423165261745, 0.43627333641052246, 0.41576382517814636, 0.0], [0.06253636628389359, 0.00020330944971647114, 0.0060523985885083675, 0.00014072065823711455, 0.049281615763902664, 0.20197263360023499, 0.003321882337331772, 0.6764910221099854]], [[1.0, 0.0, 0.0, 0.0, 0.0, 0.0, 0.0, 0.0], [0.9790372848510742, 0.020962703973054886, 0.0, 0.0, 0.0, 0.0, 0.0, 0.0], [0.9461640119552612, 0.04374922066926956, 0.010086704045534134, 0.0, 0.0, 0.0, 0.0, 0.0], [0.24197344481945038, 0.002285253955051303, 0.13920846581459045, 0.6165328025817871, 0.0, 0.0, 0.0, 0.0], [0.2397938072681427, 0.015667734667658806, 0.3203606903553009, 0.38068556785583496, 0.04349224269390106, 0.0, 0.0, 0.0], [0.625575065612793, 0.023692313581705093, 0.20243224501609802, 0.06754431128501892, 0.0653720274567604, 0.015384005382657051, 0.0, 0.0], [0.19343283772468567, 0.041337382048368454, 0.015009284019470215, 0.23340950906276703, 0.05165985971689224, 0.3663201630115509, 0.098830945789814, 0.0], [0.022369101643562317, 0.00018198788166046143, 0.0031656224746257067, 0.004356302786618471, 0.013299309648573399, 0.9518834352493286, 0.004087431821972132, 0.0006568176322616637]]]], \"left_text\": [\"E\", \"F\", \"L\", \"C\", \"L\", \"A\", \"A\", \"<eos>\"], \"right_text\": [\"E\", \"F\", \"L\", \"C\", \"L\", \"A\", \"A\", \"<eos>\"]}, {\"name\": \"Cross\", \"attn\": [[[[0.9846152663230896, 0.014208759181201458, 0.00039051941712386906, 6.731546454830095e-05, 7.801060746714938e-06, 0.00010183086851611733, 0.00032401896896772087, 0.00028440155438147485, 0.0], [0.013627043925225735, 0.9468741416931152, 0.037669386714696884, 0.00016524913371540606, 3.1827310067455983e-06, 6.055137419025414e-06, 0.00022676255321130157, 0.001428109360858798, 0.0], [3.935773565899581e-05, 0.002822414506226778, 0.9937591552734375, 0.0031293779611587524, 2.776254461878125e-07, 8.1453332967385e-09, 3.4883036903465836e-08, 0.0002494833606760949, 0.0], [0.000629791000392288, 0.0006863911403343081, 0.16506215929985046, 0.791562020778656, 0.039722416549921036, 1.868914637270791e-06, 1.4772561840459275e-08, 0.0023352992720901966, 0.0], [3.203487040082109e-07, 1.1819503242804785e-07, 2.7278038032818586e-06, 0.009567820467054844, 0.9670725464820862, 0.02316748909652233, 3.2988219800245133e-07, 0.0001886581303551793, 0.0], [4.127817192056682e-06, 9.03630052562221e-07, 1.1270787858563835e-08, 2.7200821151041055e-08, 0.000634524505585432, 0.9989176988601685, 0.0003443732566665858, 9.841663995757699e-05, 0.0], [6.0683360061375424e-06, 2.3310090000450145e-06, 3.2572300412425648e-09, 4.7863751156951295e-11, 5.392329360809356e-10, 0.0008129885536618531, 0.9812927842140198, 0.017885733395814896, 0.0], [6.631221913266927e-05, 0.0001221111451741308, 1.1241260011729537e-07, 2.2143205238162045e-12, 2.2754570275262172e-15, 6.245676892335794e-11, 0.027835356071591377, 0.9719761610031128, 0.0]], [[0.00022094775340519845, 0.00011922261182917282, 0.00020185687753837556, 0.9947980642318726, 0.0009928346844390035, 1.2194546798127703e-05, 0.0007573417387902737, 0.002897437196224928, 0.0], [0.1431579291820526, 0.0982641875743866, 0.011479102075099945, 0.6678304076194763, 0.022159654647111893, 0.00011778785847127438, 0.008121838793158531, 0.048869092017412186, 0.0], [0.23973293602466583, 0.2894355058670044, 0.011322417296469212, 0.3032149076461792, 0.024000946432352066, 0.0002366574335610494, 0.03271779417991638, 0.09933880716562271, 0.0], [0.0011480612447485328, 0.004708875436335802, 0.0039835418574512005, 0.9185212850570679, 0.0030539364088326693, 7.427976379403844e-05, 0.008484330028295517, 0.06002571061253548, 0.0], [0.0011448799632489681, 0.0023353612050414085, 0.002279455540701747, 0.8413272500038147, 0.034519538283348083, 0.0007788458024151623, 0.04245603084564209, 0.07515861093997955, 0.0], [0.00012273371976334602, 0.00018142569751944393, 0.006085734348744154, 0.5848883390426636, 0.052825912833213806, 0.00722177978605032, 0.21575678884983063, 0.1329173594713211, 0.0], [0.00016535463510081172, 5.2363215218065307e-05, 0.0005394311156123877, 0.10334286093711853, 0.017338985577225685, 0.008985179476439953, 0.7490835189819336, 0.12049233913421631, 0.0], [6.847457552794367e-05, 3.8243862945819274e-05, 0.00010616266081342474, 0.026844821870326996, 0.002428914187476039, 0.0008641283493489027, 0.9049254059791565, 0.06472384184598923, 0.0]], [[0.017653917893767357, 0.008433224633336067, 0.003324887715280056, 0.23600827157497406, 0.009452606551349163, 0.003512623952701688, 0.001301956595852971, 0.7203124761581421, 0.0], [0.7846659421920776, 0.03874431550502777, 0.0010085109388455749, 0.05400782451033592, 0.009478996507823467, 0.0022269354667514563, 0.007759825326502323, 0.10210761427879333, 0.0], [0.44903433322906494, 0.42572832107543945, 0.028145311400294304, 0.003927017096430063, 0.0007774433470331132, 0.0023587720934301615, 0.028889333829283714, 0.06113949045538902, 0.0], [0.04657448083162308, 0.358346551656723, 0.1823177933692932, 0.30123764276504517, 0.0008583604940213263, 0.00028389031649567187, 0.004804966039955616, 0.10557636618614197, 0.0], [0.0011217152932658792, 0.01078470516949892, 0.1534995585680008, 0.7726646065711975, 0.006528148427605629, 0.0013515850296244025, 0.0006857310072518885, 0.05336398631334305, 0.0], [0.0006902528111822903, 0.001020788331516087, 0.013633324764668941, 0.8501408696174622, 0.09277810156345367, 0.0030128152575343847, 0.0008244473137892783, 0.03789932280778885, 0.0], [0.0005725719383917749, 0.00012495217379182577, 0.0011992909712716937, 0.13107013702392578, 0.5750265121459961, 0.2545827329158783, 0.010159873403608799, 0.027263907715678215, 0.0], [0.00040477555012330413, 4.896063546766527e-05, 4.518209971138276e-05, 0.003998999949544668, 0.05214061588048935, 0.8077628016471863, 0.12309308350086212, 0.012505530379712582, 0.0]], [[0.014235840179026127, 0.10432800650596619, 0.6368729472160339, 0.16852252185344696, 0.010311060585081577, 0.02587220072746277, 0.0010817261645570397, 0.038775764405727386, 0.0], [0.0008206768543459475, 0.0014328407123684883, 0.07015234977006912, 0.8570513725280762, 0.0364132896065712, 0.0037875401321798563, 5.530362977879122e-05, 0.0302866343408823, 0.0], [0.001896967296488583, 0.0012875116663053632, 0.00203547696582973, 0.06479198485612869, 0.7119176387786865, 0.1400127410888672, 0.0009578304016031325, 0.07709992676973343, 0.0], [0.04299371317028999, 0.03730744868516922, 0.0037242963444441557, 0.0032605817541480064, 0.16219188272953033, 0.4610063433647156, 0.05338578298687935, 0.23612992465496063, 0.0], [0.01760653592646122, 0.03182359039783478, 0.0013442900963127613, 0.001029958133585751, 0.002053775591775775, 0.06772328168153763, 0.3874061703681946, 0.4910123944282532, 0.0], [0.011248860508203506, 0.07940137386322021, 0.02675224095582962, 0.01104088593274355, 0.003798846388235688, 0.001349649508483708, 0.10985741019248962, 0.7565507292747498, 0.0], [0.007379768881946802, 0.027135083451867104, 0.021959790959954262, 0.05582427978515625, 0.006686371751129627, 0.0002754496817942709, 0.01068640686571598, 0.8700528740882874, 0.0], [0.00527042243629694, 0.0057242801412940025, 0.012172178365290165, 0.06319623440504074, 0.042959731072187424, 0.0003217608609702438, 0.004927264526486397, 0.8654281497001648, 0.0]], [[0.00011080154945375398, 2.303235487488564e-05, 1.9188926671631634e-05, 0.9987412095069885, 8.156910553225316e-06, 1.7876887795864604e-05, 1.0778074283734895e-05, 0.0010688826441764832, 0.0], [0.00021843149443157017, 0.0004426683590281755, 0.00041003627120517194, 0.9973969459533691, 1.252800643669616e-06, 2.0495508579188026e-06, 5.615769259748049e-05, 0.001472416683100164, 0.0], [0.0013723138254135847, 0.006823987700045109, 0.0422859787940979, 0.8681706786155701, 0.0031967556569725275, 0.0011831235606223345, 0.0011325195664539933, 0.07583460956811905, 0.0], [9.999309986596927e-05, 0.00010352923709433526, 0.0030016046948730946, 0.8980429172515869, 0.0029515556525439024, 0.0031204696279019117, 0.0004414600261952728, 0.09223856776952744, 0.0], [0.00025836698478087783, 0.0009303383994847536, 0.0004603875568136573, 0.6926373243331909, 0.07801494002342224, 0.013944880105555058, 0.017391830682754517, 0.1963619887828827, 0.0], [8.234468259615824e-05, 3.5211178328609094e-05, 0.0003449032665230334, 0.15719634294509888, 0.004942396655678749, 0.3355896472930908, 0.12935970723628998, 0.3724493980407715, 0.0], [0.0019227167358621955, 0.002536824671551585, 0.002073290990665555, 0.0001381636393489316, 0.011828587390482426, 0.7524274587631226, 0.08707866072654724, 0.14199437201023102, 0.0], [0.005255476105958223, 0.008018430322408676, 0.007864299230277538, 0.0005473765195347369, 0.004053918179124594, 0.22342874109745026, 0.1690302938222885, 0.5818014740943909, 0.0]], [[0.008715590462088585, 0.08621354401111603, 0.8711946606636047, 0.0027434160001575947, 0.0023256440181285143, 0.006632830016314983, 1.851562956289854e-05, 0.022155828773975372, 0.0], [0.019711114466190338, 0.027713097631931305, 0.9187248349189758, 0.005273320246487856, 0.000960896722972393, 0.0031941658817231655, 6.972206028876826e-05, 0.024352816864848137, 0.0], [0.018699655309319496, 0.07511855661869049, 0.8458500504493713, 0.015179703012108803, 0.016196932643651962, 0.0021590825635939837, 0.0011674416018649936, 0.025628579780459404, 0.0], [0.008986186236143112, 0.038534291088581085, 0.4966467022895813, 0.02117917500436306, 0.07471111416816711, 0.23348751664161682, 0.006186284124851227, 0.12026875466108322, 0.0], [0.036339160054922104, 0.019112344831228256, 0.07492805272340775, 0.010612616315484047, 0.10859876871109009, 0.39899352192878723, 0.014619698747992516, 0.3367958664894104, 0.0], [0.0008107333560474217, 0.0007473691366612911, 0.006149260327219963, 0.0029836208559572697, 0.13725526630878448, 0.5498793721199036, 0.11604154855012894, 0.18613286316394806, 0.0], [0.0031006732024252415, 0.004050347022712231, 0.011351658031344414, 0.0005139665445312858, 0.046584613621234894, 0.5753718614578247, 0.045477673411369324, 0.31354907155036926, 0.0], [0.006812429986894131, 0.009223372675478458, 0.008153676055371761, 0.0030972857493907213, 0.03918079659342766, 0.31132248044013977, 0.08984893560409546, 0.5323610305786133, 0.0]], [[0.03298507258296013, 0.00013344247417990118, 6.0506604313559365e-06, 1.5152460036915727e-05, 1.6393547412008047e-05, 4.814897692995146e-06, 6.50627953291405e-06, 0.9668325781822205, 0.0], [0.9719923734664917, 0.01744384691119194, 6.967228546272963e-05, 2.7528683403943432e-06, 9.171547389996704e-06, 0.0006657798076048493, 0.005490458104759455, 0.004325988702476025, 0.0], [0.013731235638260841, 0.8365666270256042, 0.14905087649822235, 4.422890197020024e-05, 1.0799080740753197e-08, 6.023430501045368e-07, 1.5321467799367383e-05, 0.0005911029875278473, 0.0], [4.3076764995930716e-05, 0.003828271757811308, 0.988064706325531, 0.006120078731328249, 1.2621699170267675e-06, 1.1131203336844919e-07, 7.243492063935264e-07, 0.0019416703144088387, 0.0], [1.0370158634032123e-06, 7.769472176732961e-06, 0.17739713191986084, 0.7623664736747742, 0.05029970780014992, 0.00019393049296922982, 2.0728621166199446e-06, 0.00973181240260601, 0.0], [4.011154430827446e-07, 1.6500818844633613e-07, 0.00012778083328157663, 0.01132222916930914, 0.8797228932380676, 0.10726098716259003, 7.876453310018405e-06, 0.001557780778966844, 0.0], [5.259943236524123e-07, 2.846355329211292e-08, 1.959802453654902e-08, 1.1059081543862703e-06, 0.006046994589269161, 0.9901081323623657, 0.0032245824113488197, 0.0006186526152305305, 0.0], [8.721466656425036e-06, 6.096336164773675e-07, 1.562697704571292e-08, 2.6139470588049107e-09, 1.2014745607302757e-06, 0.10602720081806183, 0.8907264471054077, 0.003235775511711836, 0.0]], [[0.04622030258178711, 0.02247983030974865, 0.23420028388500214, 0.014778848737478256, 0.30188095569610596, 0.206772580742836, 0.0004667314642574638, 0.17320047318935394, 0.0], [0.1435825377702713, 0.4759412407875061, 0.1892150640487671, 0.0283560398966074, 0.02761421725153923, 0.0026879191864281893, 0.0022155686747282743, 0.13038744032382965, 0.0], [0.06036466360092163, 0.16455695033073425, 0.28971433639526367, 0.4163492023944855, 0.006333714351058006, 0.008921356871724129, 0.006381393875926733, 0.04737834259867668, 0.0], [0.009806073270738125, 0.0121820829808712, 0.3820895254611969, 0.1843976527452469, 0.153818741440773, 0.0872129425406456, 0.002521604299545288, 0.16797147691249847, 0.0], [0.0006734898779541254, 0.0019821501336991787, 0.005601264536380768, 0.2664636969566345, 0.24817189574241638, 0.08675011247396469, 0.05711878836154938, 0.3332386314868927, 0.0], [0.0008287797099910676, 0.00016323888849001378, 0.0003255234914831817, 0.005721337627619505, 0.04015658423304558, 0.7537771463394165, 0.06704775989055634, 0.13197961449623108, 0.0], [9.437513654120266e-05, 9.206453250953928e-05, 0.000346788001479581, 0.0021568110678344965, 0.0038930452428758144, 0.26842066645622253, 0.08278946578502655, 0.6422067880630493, 0.0], [0.00022285987506620586, 0.0002123823796864599, 0.0004734083195216954, 0.0005646733334288001, 0.0009517683065496385, 0.059959277510643005, 0.04621138796210289, 0.8914042711257935, 0.0]]], [[[0.035107534378767014, 0.6116145849227905, 0.0033066170290112495, 0.28296762704849243, 0.0520898662507534, 8.366860697606171e-07, 0.0004681156133301556, 0.014444989152252674, 0.0], [0.006318942178040743, 0.002380356192588806, 0.00015114744019228965, 0.20405416190624237, 0.7729780077934265, 6.870531069580466e-05, 0.0004164162673987448, 0.013632211834192276, 0.0], [0.004705915227532387, 0.0019650219473987818, 2.2751022697775625e-05, 0.03809213265776634, 0.8254532217979431, 0.0011320917401462793, 0.04410918429493904, 0.08451970666646957, 0.0], [0.0019105917308479548, 0.00018552690744400024, 2.303269866388291e-06, 0.00018795405048877, 0.3507331311702728, 0.00797010026872158, 0.11676568537950516, 0.5222448110580444, 0.0], [0.0005853939219377935, 0.00015458320558536798, 6.517777364933863e-05, 0.0004731865774374455, 0.0008737354655750096, 0.001585308345966041, 0.0953705832362175, 0.9008920788764954, 0.0], [0.001235111034475267, 0.000507969583850354, 0.00023911612515803427, 3.953534906031564e-05, 0.0069080013781785965, 0.0020302371121942997, 0.05131705105304718, 0.9377229809761047, 0.0], [0.0004991036257706583, 0.0008368246490135789, 0.001822599908336997, 0.0002622081956360489, 0.0015099534066393971, 0.0009888020576909184, 0.18351133167743683, 0.810569167137146, 0.0], [0.0015563939232379198, 0.0010050113778561354, 0.00024772758479230106, 0.0031926268711686134, 0.02021118253469467, 0.0019807445351034403, 0.054919470101594925, 0.9168868660926819, 0.0]], [[7.401093975188788e-17, 9.511313326604696e-40, 0.0, 3.0828566215145976e-44, 3.0101761444466476e-35, 0.0, 0.0, 1.0, 0.0], [1.0, 3.9059527834339747e-10, 3.289748646482445e-30, 1.310979854867555e-30, 4.4120151240547265e-18, 8.816671351330463e-13, 9.27406263763475e-13, 6.161153333936013e-15, 0.0], [2.960748868297003e-10, 1.0, 1.7814090480516853e-10, 1.296889025409107e-29, 7.462054452376083e-41, 2.361609733914636e-32, 3.240461917877459e-16, 1.9478069078304804e-19, 0.0], [4.493798264422691e-20, 3.863815489779654e-09, 1.0, 2.794260656191483e-10, 4.5015199702190184e-27, 3.830101018143011e-31, 1.732477860701204e-23, 9.36328169714196e-18, 0.0], [5.880627357931174e-23, 1.256768301070633e-20, 3.545918836334039e-10, 1.0, 9.11151154525669e-09, 6.862408496815918e-25, 1.1922694413791434e-28, 3.331868260770545e-15, 0.0], [1.2630438069541688e-22, 1.5508080950271786e-26, 1.7502537367950921e-23, 1.5193398622548315e-11, 1.0, 7.428330728309618e-10, 3.270966683764019e-22, 1.5932963964770063e-15, 0.0], [3.0352292968640345e-22, 4.180490463352502e-28, 8.097867441483472e-33, 2.270418352645298e-25, 3.267898104897249e-11, 1.0, 3.7629526773198807e-13, 2.835268355086195e-16, 0.0], [2.1740914190465643e-12, 2.0940319790663242e-12, 2.003662901703912e-22, 3.937938911637991e-25, 2.9555128955293084e-21, 9.764793418298723e-08, 0.9999998807907104, 1.3576925694813724e-10, 0.0]], [[7.948924296563575e-10, 2.415560516055848e-07, 0.9999997615814209, 1.067307664470718e-08, 1.1014629761770426e-19, 1.3375929749843703e-20, 1.5557418905649129e-13, 1.3051357613513137e-16, 0.0], [0.0032531251199543476, 0.0008321457426063716, 0.008323521353304386, 0.961513340473175, 0.0147956358268857, 7.336824637604877e-06, 1.155508243755321e-06, 0.011273668147623539, 0.0], [0.0010803983313962817, 0.0003168622497469187, 0.00034142317599616945, 0.007589494343847036, 0.9305221438407898, 0.02151424251496792, 1.0498736628505867e-05, 0.03862489014863968, 0.0], [0.007807794958353043, 0.0021432877983897924, 0.0003715227067004889, 0.0012854024535045028, 0.18541474640369415, 0.3941737413406372, 0.006426488049328327, 0.40237709879875183, 0.0], [0.008946195244789124, 0.0023121791891753674, 0.001755651319399476, 0.0013225623406469822, 0.00061554997228086, 0.012137718498706818, 0.21432945132255554, 0.7585806846618652, 0.0], [0.004659260623157024, 0.004190762527287006, 0.001103375107049942, 0.0018535028211772442, 0.00048214333946816623, 7.849530084058642e-05, 0.005796089302748442, 0.9818363785743713, 0.0], [0.009562550112605095, 0.021946365013718605, 0.0036831034813076258, 0.0010771132074296474, 0.0005899271345697343, 0.00018404315051157027, 0.0014427312416955829, 0.9615141153335571, 0.0], [0.03507580980658531, 0.03979235142469406, 0.002631767885759473, 0.0044222441501915455, 0.02469586580991745, 0.003580226330086589, 0.0012766171712428331, 0.8885250687599182, 0.0]], [[0.015420466661453247, 0.9713507294654846, 0.00811836589127779, 0.0003938401350751519, 6.435903924284503e-05, 3.892858876497485e-05, 0.0001630508340895176, 0.004450300708413124, 0.0], [3.5844368539983407e-06, 0.0009768365416675806, 0.998775064945221, 0.00021964510960970074, 2.225060669047707e-08, 7.402693458224974e-10, 2.7093904009234393e-08, 2.4923860109993257e-05, 0.0], [1.1591067959670909e-05, 1.7527563613839447e-05, 0.004624749533832073, 0.8664276003837585, 0.12812279164791107, 3.67612699392339e-07, 1.1301781732697691e-09, 0.0007953072199597955, 0.0], [4.790830644196831e-05, 2.2979718323767884e-06, 1.8380627807346173e-05, 0.0009142532362602651, 0.9786847233772278, 0.013523840345442295, 3.866221618409327e-07, 0.0068083256483078, 0.0], [0.0005871958564966917, 0.0001721064472803846, 4.42510918219341e-06, 1.0389447197667323e-05, 0.008185361512005329, 0.9712874889373779, 0.0009107043733820319, 0.01884235255420208, 0.0], [0.0003641383955255151, 3.820441634161398e-05, 1.3088669220451266e-05, 1.1221311524423072e-06, 5.666551078320481e-05, 0.004269416909664869, 0.23200111091136932, 0.763256311416626, 0.0], [0.00032474618637934327, 0.0007457987521775067, 0.0007538728532381356, 3.3267756407440174e-06, 6.228618190107227e-07, 5.7475936046103016e-06, 0.005058731883764267, 0.9931071400642395, 0.0], [0.00028116253088228405, 0.0006305741262622178, 0.0026658016722649336, 0.0035815758164972067, 4.694768722401932e-05, 1.8249553477289737e-06, 1.5891462680883706e-05, 0.9927762746810913, 0.0]], [[0.366214394569397, 0.2434583604335785, 0.0007788348011672497, 0.3808552026748657, 0.0004156987415626645, 1.0544061296968721e-05, 0.0014252469409257174, 0.006841733120381832, 0.0], [0.01985698752105236, 0.14180630445480347, 0.012998958118259907, 0.7981385588645935, 0.002311376389116049, 2.3970062102307566e-05, 0.00756697217002511, 0.017296837642788887, 0.0], [6.417811528081074e-05, 2.517084067221731e-05, 0.00024240624043159187, 0.9755915403366089, 0.0006281917449086905, 3.999819455202669e-05, 0.0009224666864611208, 0.022486062720417976, 0.0], [0.0001146419599535875, 0.00012232435983605683, 0.004082073457539082, 0.3438695967197418, 0.12436559051275253, 0.0759066492319107, 0.001718237646855414, 0.4498208463191986, 0.0], [0.004192110151052475, 0.005964318756014109, 0.0003966293588746339, 0.005952311679720879, 0.11088557541370392, 0.1255660355091095, 0.04735738784074783, 0.6996856331825256, 0.0], [3.301936521893367e-05, 4.998872827854939e-05, 0.00027147767832502723, 0.0001319544535363093, 0.005734030157327652, 0.5205665826797485, 0.10976647585630417, 0.363446444272995, 0.0], [0.00044156640069559216, 0.0010563210817053914, 0.0015337900258600712, 0.0006797764217481017, 0.0005775991594418883, 0.15765075385570526, 0.21581444144248962, 0.622245728969574, 0.0], [0.005684035364538431, 0.006406647153198719, 0.015096912160515785, 0.018386665731668472, 0.004426651168614626, 0.022128798067569733, 0.5071372985839844, 0.42073291540145874, 0.0]], [[0.004222488030791283, 0.0018536188872531056, 0.7533417344093323, 0.08714937418699265, 0.0035679778084158897, 0.002743347082287073, 5.7870209275279194e-05, 0.14706361293792725, 0.0], [0.0501825287938118, 0.023769810795783997, 0.3037428855895996, 0.24226446449756622, 0.02226436883211136, 0.06283707171678543, 0.00046511695836670697, 0.294473797082901, 0.0], [0.8691985011100769, 0.08783557265996933, 0.0004401681071612984, 3.7510893889702857e-05, 0.007907728664577007, 0.00030125922057777643, 0.0003500795573927462, 0.03392922878265381, 0.0], [0.35850632190704346, 0.23465941846370697, 0.010926468297839165, 0.03070312738418579, 0.03329405561089516, 0.006804156117141247, 0.030516162514686584, 0.2945902645587921, 0.0], [0.06086347624659538, 0.1919238269329071, 0.05359773337841034, 0.08560535311698914, 0.25750547647476196, 0.005581172648817301, 0.015110772103071213, 0.3298121988773346, 0.0], [0.02609226293861866, 0.040191393345594406, 0.04715337976813316, 0.23585568368434906, 0.11715716123580933, 0.04853684827685356, 0.08303166180849075, 0.40198150277137756, 0.0], [0.004215977154672146, 0.0006640976062044501, 0.010949580930173397, 0.498109370470047, 0.04195092245936394, 0.1303999423980713, 0.054340001195669174, 0.2593701481819153, 0.0], [0.0170940812677145, 0.00653900345787406, 0.01061938889324665, 0.23297767341136932, 0.08805537968873978, 0.16363801062107086, 0.09386696666479111, 0.3872094750404358, 0.0]], [[4.1856093777297316e-22, 2.245746507726541e-19, 1.0, 2.8848060864575794e-19, 9.367111306834886e-39, 4.136279715266096e-36, 1.2247100066220812e-25, 5.171840503660578e-26, 0.0], [8.574734347045754e-13, 9.652971781279329e-14, 1.0034039155115693e-09, 1.0, 7.186768069544769e-09, 2.853554403027902e-29, 1.0224064301305187e-31, 4.597666299965209e-19, 0.0], [4.154939535331616e-14, 2.0099803169516123e-13, 9.865787136386901e-17, 2.379093366755569e-09, 1.0, 3.1396005795159e-09, 3.6082152678163046e-25, 2.578834688958672e-16, 0.0], [1.3279065745421307e-15, 9.088624560523069e-15, 2.9050053717270298e-18, 5.814234431059332e-19, 1.3829335898662976e-08, 1.0, 3.795496694714018e-10, 4.4671961442477315e-12, 0.0], [5.2654135392071755e-12, 5.099988573814551e-12, 8.171821509403432e-14, 1.9780172240115362e-19, 3.529405237916194e-16, 0.00026530458126217127, 0.9997010827064514, 3.363182258908637e-05, 0.0], [2.724819125887734e-07, 6.402726882015486e-08, 8.095804027163922e-10, 1.394147939149206e-15, 1.1588342950989176e-17, 5.931633764895416e-13, 0.0007580938399769366, 0.9992415904998779, 0.0], [2.388212305959314e-05, 2.4409016532445094e-06, 1.07013908845488e-09, 8.866968791154672e-12, 2.9094756625524195e-18, 5.137770217461665e-24, 1.8016314555133715e-14, 0.9999736547470093, 0.0], [0.35450252890586853, 0.4393879771232605, 1.1994293345196638e-05, 0.0006697208737023175, 1.9960591089329682e-05, 1.9834711130484184e-12, 5.288356016118489e-13, 0.20540779829025269, 0.0]], [[0.9235702753067017, 0.01630713790655136, 0.0004603286215569824, 0.00016977143241092563, 0.00014391780132427812, 0.0002194157859776169, 0.00013654064969159663, 0.058992527425289154, 0.0], [0.668497622013092, 0.10023295879364014, 0.0006808115867897868, 0.0019004861824214458, 0.00034736754605546594, 0.0004696869582403451, 0.0007157497457228601, 0.22715525329113007, 0.0], [0.03719913214445114, 0.24345189332962036, 0.05476173013448715, 0.06080419197678566, 7.61532828619238e-06, 0.00010760048462543637, 0.0829954743385315, 0.5206724405288696, 0.0], [0.02819657139480114, 0.11813431978225708, 0.5209794044494629, 0.022963933646678925, 0.00024148817465174943, 6.362581189023331e-05, 0.0003821535501629114, 0.3090386390686035, 0.0], [0.0016245172591879964, 0.005689714569598436, 0.5299034714698792, 0.12104790657758713, 0.1284441351890564, 0.007206345908343792, 0.0004299768479540944, 0.20565392076969147, 0.0], [0.002128085121512413, 0.00011594338138820603, 0.060112133622169495, 0.49639877676963806, 0.02777845412492752, 0.08349984139204025, 0.008979863487184048, 0.32098695635795593, 0.0], [0.0016410000389441848, 0.0006536155706271529, 3.304440178908408e-05, 0.2512124180793762, 0.2160828411579132, 0.16030895709991455, 0.21678797900676727, 0.15328018367290497, 0.0], [0.00821677315980196, 0.009967410936951637, 0.0011487002484500408, 0.028043340891599655, 0.01813555881381035, 0.14939230680465698, 0.638914942741394, 0.14618101716041565, 0.0]]], [[[3.759156243177131e-05, 0.00018309145525563508, 0.005660955794155598, 0.9917357563972473, 0.0006566675729118288, 6.617676149289764e-07, 4.3830826257362787e-07, 0.0017247428186237812, 0.0], [0.0006791626219637692, 0.0016397448489442468, 6.0486356233013794e-05, 0.0006498565780930221, 0.9945077300071716, 0.0002126098406733945, 9.744571798364632e-06, 0.00224068621173501, 0.0], [0.0009232900338247418, 0.0005509642651304603, 0.00033311330480501056, 0.0003253551840316504, 0.0017395770410075784, 0.8926660418510437, 0.005094109568744898, 0.09836750477552414, 0.0], [0.0011094164801761508, 0.00011337250907672569, 6.440879224101081e-05, 0.0001907723635667935, 0.000458491820609197, 0.008267635479569435, 0.5046992897987366, 0.48509663343429565, 0.0], [0.00023282320762518793, 0.004616484045982361, 0.026891285553574562, 4.462900324142538e-05, 0.006523542106151581, 0.007201739586889744, 0.21646638214588165, 0.7380231022834778, 0.0], [0.00121996586676687, 0.001641630893573165, 0.0018317943904548883, 0.0006245998665690422, 0.005047095473855734, 0.00018324224220123142, 0.0014333472354337573, 0.9880183935165405, 0.0], [0.005293317139148712, 0.020801568403840065, 0.005998117383569479, 0.0010391196701675653, 0.016718586906790733, 4.803422052646056e-05, 0.0006284611881710589, 0.9494727849960327, 0.0], [0.007665165234357119, 0.08712702989578247, 0.0005510819610208273, 0.0004539983347058296, 0.01783067174255848, 0.0010072720469906926, 0.0023869394790381193, 0.8829778432846069, 0.0]], [[0.04235485941171646, 0.8620492219924927, 0.06649988889694214, 0.004433848895132542, 0.00033212380367331207, 1.0718868907133583e-05, 0.0003829592315014452, 0.023936282843351364, 0.0], [0.0003548516833689064, 0.0002737634058576077, 0.005279134958982468, 0.9792758226394653, 0.0032871400471776724, 1.3277648577059153e-05, 2.6968247766490094e-05, 0.01148900669068098, 0.0], [0.0005137367988936603, 0.0007202908745966852, 0.0007285764440894127, 0.019395234063267708, 0.8938687443733215, 0.005706118419766426, 0.0007519476930610836, 0.07831522822380066, 0.0], [0.0011917473748326302, 0.00033169682137668133, 0.0006715269410051405, 0.004457594361156225, 0.05219927802681923, 0.4532751441001892, 0.0031108770053833723, 0.48476219177246094, 0.0], [0.0007525724358856678, 0.0031941868364810944, 0.000978334923274815, 0.012017627246677876, 0.0062652952037751675, 0.014463990926742554, 0.3569360673427582, 0.6053919196128845, 0.0], [0.00047838815953582525, 0.0009155157022178173, 0.0005084464210085571, 0.00010593084152787924, 0.00020927353762090206, 0.02926931530237198, 0.008307969197630882, 0.9602051973342896, 0.0], [0.00033646522206254303, 0.0007353863911703229, 0.0009070138912647963, 0.0005524992593564093, 0.00017920439131557941, 0.0008067336748354137, 0.01823974773287773, 0.9782428741455078, 0.0], [0.0008712098351679742, 0.0003531668335199356, 0.0002558806736487895, 0.004750677850097418, 0.011103375814855099, 0.0006947384099476039, 0.004247401840984821, 0.9777235388755798, 0.0]], [[0.0003848886117339134, 0.00041377078741788864, 0.0009530892129987478, 0.10020303726196289, 0.8842710256576538, 0.007923685014247894, 0.0013647256419062614, 0.004485805984586477, 0.0], [0.0006824142765253782, 0.0015109076630324125, 0.007719872985035181, 0.00468291575089097, 0.40763553977012634, 0.29959094524383545, 0.1719696819782257, 0.10620765388011932, 0.0], [0.011965327896177769, 0.00663146423175931, 0.01244099996984005, 0.0005907953018322587, 0.009179859422147274, 0.19780902564525604, 0.1893586665391922, 0.5720238089561462, 0.0], [0.0003404135350137949, 0.001079667592421174, 0.0006703283870592713, 2.422967918391805e-05, 0.0037619967479258776, 0.010295507498085499, 0.041005704551935196, 0.9428220987319946, 0.0], [0.0007663010037504137, 9.704756666906178e-05, 0.005991696380078793, 0.0012066512135788798, 0.011658715084195137, 0.011518404819071293, 0.03533288463950157, 0.9334282875061035, 0.0], [0.0003286443534307182, 6.829026096966118e-05, 0.0012075118720531464, 1.0436309821670875e-05, 0.0003212913288734853, 0.0065737273544073105, 0.013016780838370323, 0.9784733057022095, 0.0], [0.0009410865022800863, 0.0011952124768868089, 0.002879476174712181, 0.000171710315044038, 0.005886636674404144, 0.0017727819504216313, 0.047037526965141296, 0.9401155710220337, 0.0], [0.00042916182428598404, 0.0006454461836256087, 0.002152201486751437, 0.00042703436338342726, 0.006296147592365742, 0.02222553640604019, 0.11761824786663055, 0.850206196308136, 0.0]], [[0.0005457427469082177, 0.0002944476727861911, 0.0006116115837357938, 0.9958971738815308, 0.00015983611228875816, 4.6736979129491374e-05, 0.00026414994499646127, 0.002180278766900301, 0.0], [0.1938050389289856, 0.11908300220966339, 0.2225339710712433, 0.36488714814186096, 0.024770312011241913, 0.0068240039981901646, 0.00316408253274858, 0.06493241339921951, 0.0], [0.1432252675294876, 0.1588294804096222, 0.01695176400244236, 0.014838173985481262, 0.010209537111222744, 0.005150120239704847, 0.05962853878736496, 0.5911670923233032, 0.0], [0.05648979917168617, 0.46837127208709717, 0.025727570056915283, 0.0032515686471015215, 0.08185434341430664, 0.017683526501059532, 0.01645653136074543, 0.33016538619995117, 0.0], [0.0006851826328784227, 0.0024133361876010895, 0.047793880105018616, 0.034291643649339676, 0.22073416411876678, 0.01000884547829628, 0.29964855313301086, 0.3844243288040161, 0.0], [0.005895957350730896, 0.028019515797495842, 0.07148659974336624, 0.0021199409384280443, 0.3448125422000885, 0.10167845338582993, 0.04448319971561432, 0.4015038311481476, 0.0], [0.00021456865943036973, 0.003328009508550167, 0.01993791200220585, 0.16464237868785858, 0.011874902993440628, 0.14489606022834778, 0.3781627416610718, 0.2769434452056885, 0.0], [8.490546315442771e-05, 6.369966286001727e-05, 0.0012366916052997112, 0.0021390849724411964, 0.0010275967651978135, 0.029057802632451057, 0.8774171471595764, 0.0889730453491211, 0.0]], [[0.001038186950609088, 0.0005760382628068328, 0.009698446840047836, 0.027639497071504593, 0.10070231556892395, 0.7678108811378479, 0.0010200046235695481, 0.09151466935873032, 0.0], [0.0063404422253370285, 0.0008955520461313426, 0.034291092306375504, 0.02183002606034279, 0.003113497979938984, 0.24151554703712463, 0.482806921005249, 0.20920687913894653, 0.0], [0.010715890675783157, 0.0030495093669742346, 0.05749695748090744, 0.039172135293483734, 0.005229463800787926, 0.03908534720540047, 0.5499507784843445, 0.2952999770641327, 0.0], [0.044755492359399796, 0.020619366317987442, 0.03649115562438965, 0.0006983073544688523, 0.003933019004762173, 0.03786228969693184, 0.006181149743497372, 0.8494592308998108, 0.0], [0.009562473744153976, 0.014694935642182827, 0.0013246603775769472, 0.3004612326622009, 0.0778699442744255, 0.009265257976949215, 0.012358269654214382, 0.5744631886482239, 0.0], [0.0010989531874656677, 0.0013849865645170212, 0.0021474116947501898, 0.029431123286485672, 0.0354531854391098, 0.02486746944487095, 0.009970590472221375, 0.8956462740898132, 0.0], [0.005110675003379583, 0.0035740616731345654, 0.0005153337842784822, 0.03858599066734314, 0.10362539440393448, 0.01668866164982319, 0.3098331391811371, 0.5220667123794556, 0.0], [0.003685485804453492, 0.002619416918605566, 0.0036794105544686317, 0.0054064905270934105, 0.033747196197509766, 0.2710581421852112, 0.3726089298725128, 0.3071949779987335, 0.0]], [[0.18355193734169006, 0.17397548258304596, 0.09117954224348068, 0.05044470727443695, 0.4399401843547821, 0.00848997849971056, 0.00385279580950737, 0.04856530576944351, 0.0], [0.04918781295418739, 0.02031732350587845, 0.13343675434589386, 0.33832284808158875, 0.10273038595914841, 0.14761817455291748, 0.10828181356191635, 0.10010482370853424, 0.0], [0.002594858407974243, 0.013026941567659378, 0.005139035172760487, 0.04739437624812126, 0.3814822733402252, 0.021357985213398933, 0.10488961637020111, 0.42411482334136963, 0.0], [0.0019641690887510777, 0.0023891879245638847, 0.001230516703799367, 0.01819770038127899, 0.3281288146972656, 0.06794332712888718, 0.15549591183662415, 0.4246503710746765, 0.0], [0.10180407762527466, 0.024661315605044365, 0.03712891414761543, 0.14550122618675232, 0.25763750076293945, 0.011129333637654781, 0.03381385654211044, 0.38832375407218933, 0.0], [0.0023366890382021666, 0.0026047348510473967, 0.0006628604023717344, 0.1260865479707718, 0.22049134969711304, 0.006922912318259478, 0.03647606074810028, 0.6044188737869263, 0.0], [0.013282155618071556, 0.005015432834625244, 0.00020472118922043592, 0.0015070963418111205, 0.735342264175415, 0.006817817222326994, 0.06398041546344757, 0.17385020852088928, 0.0], [0.023012684658169746, 0.007669169921427965, 0.00027498003328219056, 0.0016092678997665644, 0.19160543382167816, 0.011262040585279465, 0.4223298728466034, 0.34223663806915283, 0.0]], [[0.029370183125138283, 0.011197705753147602, 0.04826442897319794, 0.5020469427108765, 0.07029730081558228, 0.050951965153217316, 0.0034977267496287823, 0.28437376022338867, 0.0], [0.23956938087940216, 0.025939060375094414, 0.07774864137172699, 0.2844501733779907, 0.005961183458566666, 0.013426234014332294, 0.06643544882535934, 0.2864699065685272, 0.0], [0.004265536554157734, 0.0011053591733798385, 0.0009272998431697488, 0.8819936513900757, 0.014859503135085106, 0.00011838969658128917, 0.0017433163011446595, 0.09498689323663712, 0.0], [0.002102975267916918, 0.003431616583839059, 0.004880658816546202, 0.7952847480773926, 0.029239337891340256, 0.0029731537215411663, 0.0016811612294986844, 0.16040626168251038, 0.0], [0.0018348853336647153, 0.0008585311006754637, 4.465047823032364e-05, 0.079209104180336, 0.4794657528400421, 0.0005994518869556487, 0.0182763934135437, 0.41971123218536377, 0.0], [0.0016758900601416826, 0.0006350526236928999, 0.0024278697092086077, 0.18225082755088806, 0.07619520276784897, 0.13705992698669434, 0.006853965576738119, 0.5929011702537537, 0.0], [0.0004476329777389765, 0.00011647002975223586, 0.00014389920397661626, 0.09891927242279053, 0.013677000068128109, 0.04643029719591141, 0.22715961933135986, 0.6131057739257812, 0.0], [0.00012595552834682167, 4.122058817301877e-05, 1.3059174079899094e-06, 0.0014492063783109188, 0.0018835508963093162, 0.0014394420431926847, 0.9147630929946899, 0.08029630780220032, 0.0]], [[1.0, 3.103960111161541e-08, 1.677419546425461e-17, 5.287308829285799e-16, 3.125748826438013e-10, 7.653978006949558e-10, 4.518296153888102e-11, 9.64542573415883e-14, 0.0], [1.3870119275338766e-08, 0.9999997615814209, 1.8677222612950573e-07, 2.2712798364798843e-21, 1.5487369258908603e-28, 4.5740669778849656e-26, 6.219777407349047e-18, 6.4290834076797046e-15, 0.0], [1.4398044388685971e-12, 4.961211530485343e-08, 1.0, 2.189844217070913e-08, 1.0685775578949903e-18, 6.65286438651283e-20, 1.2601294008557259e-19, 5.266730926161908e-14, 0.0], [2.7125197814414502e-17, 4.101405081728308e-18, 7.04245863014652e-12, 1.0, 1.3194080160025545e-12, 5.152300028749321e-21, 1.9456013082752902e-19, 2.0187121578542782e-18, 0.0], [2.512746412851319e-13, 6.035835232906213e-15, 1.5480624018739033e-15, 1.5101551363854316e-15, 1.0, 3.3807653898598744e-10, 5.121949915813569e-19, 1.091660403465197e-15, 0.0], [2.2313663070039347e-11, 5.4703557239577094e-09, 1.9982242349669832e-07, 6.618384768182495e-13, 6.20272791462817e-11, 0.9999997615814209, 1.7825719789144046e-09, 4.829763700087142e-09, 0.0], [1.3239978774795547e-13, 2.783803956700004e-16, 8.430969857211289e-23, 3.9401748107410167e-19, 4.63472851505156e-21, 1.073258344176653e-12, 0.9999998807907104, 1.44624706877039e-07, 0.0], [1.9467971478599397e-14, 1.5734047276832455e-17, 1.184855069472283e-22, 2.1852428697040557e-29, 1.2969801425992233e-25, 4.3996389382025876e-20, 3.296846387002006e-07, 0.9999996423721313, 0.0]]], [[[0.6672091484069824, 0.20145612955093384, 0.019792191684246063, 0.00900217890739441, 0.013582741841673851, 0.0005193621036596596, 0.007797519210726023, 0.08064062148332596, 0.0], [0.2779846489429474, 0.225919708609581, 0.009800688363611698, 0.08512014150619507, 0.12161152064800262, 0.002060821047052741, 0.0009627436520531774, 0.27653977274894714, 0.0], [0.1721746027469635, 0.2068958729505539, 0.2201300412416458, 0.028523577377200127, 0.04880169406533241, 0.019267944619059563, 0.003890539286658168, 0.300315797328949, 0.0], [0.0019196545472368598, 0.030267342925071716, 0.15609776973724365, 0.10970623791217804, 0.11761537194252014, 0.2448112964630127, 0.10565730184316635, 0.23392504453659058, 0.0], [0.002714194357395172, 0.0022628470323979855, 0.03577195480465889, 0.18259672820568085, 0.0799570083618164, 0.05443883314728737, 0.13480716943740845, 0.5074512958526611, 0.0], [0.002235710620880127, 0.005446210037916899, 0.04186733067035675, 0.15257641673088074, 0.09313412755727768, 0.08062553405761719, 0.05699960142374039, 0.567115068435669, 0.0], [0.0009911148808896542, 0.004919559694826603, 0.05854306370019913, 0.020383195951581, 0.3545856475830078, 0.26590651273727417, 0.1518556922674179, 0.1428152322769165, 0.0], [0.0002147156628780067, 0.00018981362518388778, 0.0004760427982546389, 0.0037220120429992676, 0.2445184588432312, 0.0018472669180482626, 0.004834056831896305, 0.74419766664505, 0.0]], [[0.3429321348667145, 0.2514926791191101, 0.0759400725364685, 0.1493307501077652, 0.0031737880781292915, 0.0241840947419405, 0.02369452267885208, 0.1292518824338913, 0.0], [0.06261927634477615, 0.03377354517579079, 0.3469827473163605, 0.31787997484207153, 0.00036248506512492895, 0.015392706729471684, 0.003085644217208028, 0.21990357339382172, 0.0], [0.0007806235807947814, 0.030372295528650284, 0.12064965814352036, 0.34166860580444336, 0.0011915849754586816, 0.015595336444675922, 0.010089888237416744, 0.47965195775032043, 0.0], [0.00022581033408641815, 0.002204819582402706, 0.012266306206583977, 0.025088945403695107, 0.21079964935779572, 0.01525169052183628, 0.002708380576223135, 0.7314543128013611, 0.0], [0.0004731461813207716, 0.002571098506450653, 0.001391960890032351, 0.26955947279930115, 0.03523722290992737, 0.03730449452996254, 0.012627203948795795, 0.6408353447914124, 0.0], [9.442258306080475e-05, 0.004004457499831915, 0.002062243176624179, 0.0005998268024995923, 0.003154090140014887, 0.8081800937652588, 0.00028165915864519775, 0.1816231906414032, 0.0], [0.0006982370978221297, 0.0007514782482758164, 0.00046062140609137714, 0.020462684333324432, 0.04434431344270706, 0.13155969977378845, 0.16848407685756683, 0.6332389116287231, 0.0], [0.00016600682283751667, 0.00014446819841396064, 0.0003055939741898328, 0.024058617651462555, 0.0008796395268291235, 0.014640051871538162, 0.05921013280749321, 0.9005954265594482, 0.0]], [[0.0643387883901596, 0.013968713581562042, 0.00030997206340543926, 0.0034713582135736942, 0.016468102112412453, 0.08730074763298035, 0.10718358308076859, 0.7069587111473083, 0.0], [0.2887928783893585, 0.0650842934846878, 0.00025940555497072637, 0.004236816428601742, 0.006569175515323877, 0.011842183768749237, 0.009170569479465485, 0.6140446066856384, 0.0], [0.5462640523910522, 0.30148181319236755, 0.00039427823503501713, 0.0004789418599102646, 0.0009776691440492868, 0.00011722851922968403, 0.00021893612574785948, 0.15006710588932037, 0.0], [0.04251514747738838, 0.49368682503700256, 0.016509201377630234, 0.024663584306836128, 0.02810027450323105, 0.0017829935532063246, 0.003489437513053417, 0.38925251364707947, 0.0], [0.0013933468144387007, 0.001721888198517263, 0.8323050737380981, 0.059586573392152786, 0.002424923935905099, 0.04559032991528511, 0.0005900105461478233, 0.05638781189918518, 0.0], [0.005993078928440809, 0.019452884793281555, 0.010137046687304974, 0.7581997513771057, 0.0644577294588089, 0.024894243106245995, 0.0015186622040346265, 0.11534661799669266, 0.0], [0.001774413394741714, 0.011387799866497517, 0.005830480717122555, 0.014678074978291988, 0.8775749206542969, 0.03407420963048935, 0.0037433409597724676, 0.05093679949641228, 0.0], [0.04177100583910942, 0.017712879925966263, 0.00045613371185027063, 0.017321225255727768, 0.009809310548007488, 0.002777372719720006, 0.016508731991052628, 0.8936433792114258, 0.0]], [[0.0004801911418326199, 0.0017363147344440222, 0.00206474750302732, 0.019565735012292862, 0.9422475099563599, 0.011742059141397476, 0.0005839727818965912, 0.021579457446932793, 0.0], [0.0026961180847138166, 0.0026273143012076616, 0.02741101197898388, 0.16087277233600616, 0.0073782773688435555, 0.10508120805025101, 0.1311395913362503, 0.5627937316894531, 0.0], [0.04372381418943405, 0.01770220510661602, 0.011044349521398544, 0.09434688091278076, 0.009483195841312408, 0.020694030448794365, 0.2712318003177643, 0.5317736864089966, 0.0], [0.05753912404179573, 0.1257563680410385, 0.1577354371547699, 0.004665311425924301, 0.12342062592506409, 0.01600034162402153, 0.016537070274353027, 0.49834561347961426, 0.0], [0.026830410584807396, 0.031974565237760544, 0.002460189862176776, 0.03078913502395153, 0.0737290158867836, 0.007439523935317993, 0.011549183167517185, 0.8152279853820801, 0.0], [0.005106774624437094, 0.01644175313413143, 0.0013518158812075853, 0.12290386855602264, 0.6888205409049988, 0.0025032793637365103, 0.025655081495642662, 0.13721692562103271, 0.0], [0.0020939710084348917, 0.009621333330869675, 0.0002411259920336306, 0.00103238713927567, 0.9366056323051453, 0.0015276154736056924, 0.007145649287849665, 0.041732288897037506, 0.0], [0.00025479038595221937, 0.0015837836544960737, 0.0010198645759373903, 0.0011231141397729516, 0.02055390179157257, 0.009003015235066414, 0.025498364120721817, 0.9409632086753845, 0.0]], [[0.012470980174839497, 0.03441028669476509, 0.1383122205734253, 0.7214842438697815, 0.02247345820069313, 0.03584131598472595, 0.0015901317819952965, 0.03341727703809738, 0.0], [0.0029869149439036846, 0.006298370193690062, 0.027559615671634674, 0.015137464739382267, 0.013374913483858109, 0.7061722278594971, 0.003558509750291705, 0.22491201758384705, 0.0], [0.005349937826395035, 0.01571268029510975, 0.01980086974799633, 0.9160616397857666, 0.0020631523802876472, 0.016999894753098488, 0.000632530776783824, 0.02337942272424698, 0.0], [0.005979744717478752, 0.002162603661417961, 0.029531225562095642, 0.29963329434394836, 0.009990926831960678, 0.22189423441886902, 0.062418870627880096, 0.3683891296386719, 0.0], [0.015655802562832832, 0.004593375138938427, 0.01290148962289095, 0.004220924805849791, 0.02408180572092533, 0.253665030002594, 0.012502615340054035, 0.6723789572715759, 0.0], [0.006723484490066767, 0.001979209715500474, 0.05847332626581192, 0.04129783436655998, 0.0034615674521774054, 0.09229499846696854, 0.015814561396837234, 0.7799550294876099, 0.0], [0.00251278979703784, 0.0005843121907673776, 0.20588846504688263, 0.10724318772554398, 0.018471218645572662, 0.13006959855556488, 0.06043955311179161, 0.47479087114334106, 0.0], [0.00016046497330535203, 0.0002520470297895372, 0.0006127444794401526, 0.002214073436334729, 0.003390402067452669, 0.05518851801753044, 0.009838487021625042, 0.9283432364463806, 0.0]], [[0.7570709586143494, 0.15032747387886047, 0.02282870188355446, 0.022524122148752213, 0.0025796820409595966, 0.003995582927018404, 0.0011455006897449493, 0.03952798247337341, 0.0], [0.022217292338609695, 0.656995952129364, 0.14577922224998474, 0.012226546183228493, 0.03443002700805664, 0.0005476273945532739, 0.030341779813170433, 0.09746149927377701, 0.0], [0.007799298036843538, 0.013755274005234241, 0.27066177129745483, 0.6293318867683411, 0.0003444140311330557, 0.0029002304654568434, 0.0006738246302120388, 0.07453326135873795, 0.0], [0.011357378214597702, 0.006252753548324108, 0.24343173205852509, 0.05018638074398041, 0.0682939812541008, 0.08160445094108582, 0.04166293889284134, 0.49721041321754456, 0.0], [0.00038424626109190285, 0.0001496626646257937, 0.0028559237252920866, 0.0006111517432145774, 0.06847476214170456, 0.22178931534290314, 0.008561592549085617, 0.6971732974052429, 0.0], [8.440830424660817e-05, 0.00012014080857625231, 0.008917232044041157, 0.0011920580873265862, 0.0054502361454069614, 0.1268734186887741, 0.039347413927316666, 0.8180150985717773, 0.0], [1.7643749743001536e-05, 6.798941467422992e-05, 0.00011309367255307734, 8.572944352636114e-06, 0.0011638442520052195, 0.0644134134054184, 0.7955935597419739, 0.13862185180187225, 0.0], [0.00016590068116784096, 7.983569230418652e-05, 0.0027395044453442097, 0.0017870746087282896, 0.014263749122619629, 0.005115664564073086, 0.0037385548930615187, 0.9721097350120544, 0.0]], [[0.9795656204223633, 0.008719006553292274, 0.00025082757929340005, 0.00031728448811918497, 0.0016585318371653557, 0.0008204320329241455, 0.00023825847893022, 0.008430112153291702, 0.0], [0.019930360838770866, 0.750922441482544, 0.04996825382113457, 0.03982650488615036, 0.0006241656956262887, 0.0010907517280429602, 0.000446117453975603, 0.13719132542610168, 0.0], [0.0034598323982208967, 0.10992719978094101, 0.6478261947631836, 0.02071215771138668, 0.0006507540820166469, 0.00340632745064795, 0.0003358604444656521, 0.21368169784545898, 0.0], [8.62375891301781e-05, 0.00013061249046586454, 0.02924731746315956, 0.877097487449646, 0.004275312647223473, 0.013055521994829178, 0.003907948266714811, 0.07219955325126648, 0.0], [0.022542323917150497, 0.01669161021709442, 0.0031206475105136633, 0.001982762711122632, 0.05228470265865326, 0.09679405391216278, 0.003533940529450774, 0.8030499815940857, 0.0], [0.0009865418542176485, 0.0015839588595554233, 0.0008921860135160387, 0.0016322719166055322, 0.166446253657341, 0.5502740740776062, 0.0010995136108249426, 0.27708524465560913, 0.0], [0.0004954156465828419, 0.00015400453412439674, 0.00021529737568926066, 0.00012494524708017707, 0.30391305685043335, 0.22938060760498047, 0.20182034373283386, 0.2638964056968689, 0.0], [3.7161080399528146e-05, 0.00010324974573450163, 0.00037080899346619844, 0.001700060092844069, 0.0017665565246716142, 0.006988379172980785, 0.1364215910434723, 0.8526122570037842, 0.0]], [[0.16844800114631653, 0.7515051364898682, 0.002742453943938017, 0.014389551244676113, 0.03388027474284172, 0.00048689075629226863, 0.010445144027471542, 0.01810244843363762, 0.0], [0.027421973645687103, 0.12264962494373322, 0.3396819233894348, 0.10952550917863846, 0.173872709274292, 0.003058094996958971, 0.003111473983153701, 0.2206786870956421, 0.0], [0.0027441729325801134, 0.004843644332140684, 0.04248730465769768, 0.21965862810611725, 0.19470414519309998, 0.036100123077631, 0.01420053280889988, 0.4852614402770996, 0.0], [0.0011000999948009849, 0.0011007190914824605, 0.0020198114216327667, 0.04574856534600258, 0.38896673917770386, 0.03131500259041786, 0.0525263287127018, 0.477222740650177, 0.0], [0.0002339252532692626, 0.000981021556071937, 1.5827743482077494e-05, 0.0011127860052511096, 0.9112635254859924, 0.005978640168905258, 0.00043576056486926973, 0.07997852563858032, 0.0], [0.0005120327114127576, 0.0007365645724348724, 0.0015265822876244783, 0.06368237733840942, 0.0032670614309608936, 0.024687718600034714, 0.03082500584423542, 0.8747626543045044, 0.0], [0.0011609828798100352, 0.000480949500342831, 0.001843297854065895, 0.004738551564514637, 0.001610922277905047, 0.010740552097558975, 0.14986306428909302, 0.8295616507530212, 0.0], [1.4452162986344774e-06, 2.967699856526451e-06, 3.634609674918465e-05, 5.727020834456198e-05, 0.0020299030002206564, 0.00075286696664989, 0.0005324643570929766, 0.9965866804122925, 0.0]]]], \"left_text\": [\"E\", \"F\", \"L\", \"C\", \"L\", \"A\", \"A\", \"<eos>\"], \"right_text\": [\"V\", \"V\", \"T\", \"G\", \"V\", \"T\", \"A\", \"<eos>\", \"<pad>\"]}], \"default_filter\": \"0\", \"display_mode\": \"light\", \"root_div_id\": \"bertviz-1d12bc00c51140fcbd08acd4eee41778\", \"include_layers\": [0, 1, 2, 3], \"include_heads\": [0, 1, 2, 3, 4, 5, 6, 7], \"total_heads\": 8}; // HACK: {\"attention\": [{\"name\": \"Encoder\", \"attn\": [[[[0.5109282732009888, 0.2881547510623932, 0.20042012631893158, 0.0004964193212799728, 8.047328492466477e-08, 1.5685648691032839e-07, 2.2383191833341698e-07, 1.776128896735507e-11, 0.0], [0.624721348285675, 0.365185409784317, 0.010093054734170437, 1.3889440708680922e-07, 6.457513560334527e-14, 5.334551160182666e-13, 7.250175459994068e-11, 1.7900984243101464e-13, 0.0], [0.00018209038535133004, 0.9972518086433411, 0.0025652695912867785, 8.414351100327622e-07, 7.84199230075347e-14, 4.565517925458336e-19, 2.119565219325714e-16, 5.4931611950490925e-17, 0.0], [8.911452584770018e-16, 1.7938201608558302e-06, 0.9986485838890076, 0.0013496767496690154, 3.2195330845752324e-09, 6.038143185929244e-17, 5.67571613085233e-22, 1.679110851620334e-27, 0.0], [6.49117164073683e-34, 7.75691446699086e-21, 1.3441818964565755e-06, 0.9998854398727417, 0.00011317819735268131, 4.3381881420501145e-11, 3.658478081551042e-21, 7.137981970615421e-32, 0.0], [1.1210387714598537e-44, 1.4583281180282188e-33, 1.3009475005992073e-20, 9.813377346290508e-07, 0.9998316764831543, 0.0001673563092481345, 2.365135214413283e-12, 3.3870291470512303e-26, 0.0], [0.0, 0.0, 1.457025965309039e-35, 1.9351993424357868e-21, 3.3596005977187815e-08, 0.9999998807907104, 1.298145662076422e-07, 2.9328663192607124e-24, 0.0], [0.0, 0.0, 0.0, 0.0, 0.0, 0.0, 0.0, 1.0, 0.0], [4.203895392974451e-45, 0.0, 0.0, 0.0, 1.478650139555547e-41, 6.781586028872816e-23, 2.9660351952287556e-09, 1.0, 0.0]], [[9.271941436850284e-09, 1.0, 4.1792307461929745e-13, 0.0, 0.0, 0.0, 0.0, 0.0, 0.0], [6.884805995675713e-31, 1.1037400993174629e-09, 1.0, 2.0818815175957582e-16, 0.0, 0.0, 0.0, 0.0, 0.0], [0.0, 2.830159540297677e-22, 3.739620613174566e-09, 1.0, 4.155408643353629e-17, 0.0, 0.0, 0.0, 0.0], [0.0, 4.8765186558503634e-43, 1.0158099398747276e-22, 3.2299798252699574e-11, 1.0, 1.3927746488669873e-13, 1.3632675199572772e-35, 0.0, 0.0], [0.0, 0.0, 6.1477205707472645e-40, 2.211990979450614e-20, 8.841245602297931e-08, 0.9999998807907104, 9.682604718008747e-10, 3.4540513921963156e-37, 0.0], [5.187089802165974e-35, 1.533180267996283e-39, 0.0, 4.7117216516568825e-36, 4.897864442206838e-21, 1.9235869407746575e-12, 1.0, 3.376999446749675e-15, 0.0], [2.292935608184688e-23, 1.8543482158939127e-31, 4.203895392974451e-45, 0.0, 8.211609000943428e-43, 4.318751680482251e-22, 8.189987283913069e-07, 0.9999991655349731, 0.0], [0.0, 0.0, 0.0, 0.0, 0.0, 0.0, 6.221765181602188e-43, 1.0, 0.0], [1.0679085527944223e-32, 1.7080570291483355e-09, 0.999510645866394, 0.0004893843433819711, 6.698580033387108e-24, 3.1204888850344415e-34, 7.51471486206667e-31, 1.782739615784607e-21, 0.0]], [[0.007741524837911129, 0.03314046189188957, 0.17199259996414185, 0.3444600999355316, 0.2847835123538971, 0.09280020743608475, 0.05433032661676407, 0.010751263238489628, 0.0], [0.13297870755195618, 0.08855536580085754, 0.10160152614116669, 0.12044128775596619, 0.15856391191482544, 0.12115363031625748, 0.14068908989429474, 0.1360166221857071, 0.0], [0.3865416944026947, 0.17579330503940582, 0.055934641510248184, 0.03329507261514664, 0.024059781804680824, 0.019040368497371674, 0.05039707571268082, 0.2549380362033844, 0.0], [0.3270535171031952, 0.3213706314563751, 0.14777609705924988, 0.04146076738834381, 0.011731286533176899, 0.010717245750129223, 0.03001081384718418, 0.10987969487905502, 0.0], [0.036753393709659576, 0.23457422852516174, 0.4717406928539276, 0.1909315586090088, 0.022346097975969315, 0.010861827060580254, 0.015199595130980015, 0.017592649906873703, 0.0], [0.004468902945518494, 0.07045221328735352, 0.3406253159046173, 0.4475031793117523, 0.09839363396167755, 0.021620552986860275, 0.01400194875895977, 0.0029341340996325016, 0.0], [0.0005385316908359528, 0.005594057496637106, 0.08091113716363907, 0.30267518758773804, 0.42101171612739563, 0.15754050016403198, 0.03103526495397091, 0.0006935796700417995, 0.0], [0.0016332302475348115, 0.000226473857765086, 0.0003017343988176435, 0.0009247356792911887, 0.013557999394834042, 0.005935304798185825, 0.0026864379178732634, 0.9747340679168701, 0.0], [0.00881192833185196, 0.0021135350689291954, 0.0037420738954097033, 0.018741492182016373, 0.13757415115833282, 0.4106714427471161, 0.3872174322605133, 0.03112788312137127, 0.0]], [[0.0642230436205864, 0.11993001401424408, 0.23499996960163116, 0.34219345450401306, 0.10727165639400482, 0.05801090970635414, 0.049952615052461624, 0.023418432101607323, 0.0], [0.07612886279821396, 0.12857508659362793, 0.24775780737400055, 0.3148334324359894, 0.09061585366725922, 0.05570531263947487, 0.0559658519923687, 0.03041771613061428, 0.0], [0.11546961963176727, 0.2003432959318161, 0.209305077791214, 0.2888159453868866, 0.11227498203516006, 0.03286748379468918, 0.021240796893835068, 0.019682668149471283, 0.0], [0.10007581114768982, 0.1984981894493103, 0.22419936954975128, 0.11017975956201553, 0.22134262323379517, 0.068410225212574, 0.04675674811005592, 0.030537279322743416, 0.0], [0.015666034072637558, 0.035390011966228485, 0.10849779099225998, 0.3246701657772064, 0.1733069270849228, 0.14697223901748657, 0.15272097289562225, 0.04277569800615311, 0.0], [0.016531948000192642, 0.03415890783071518, 0.058039046823978424, 0.23021237552165985, 0.2710951864719391, 0.17519786953926086, 0.15043087303638458, 0.06433384120464325, 0.0], [0.008051689714193344, 0.014005103148519993, 0.025065718218684196, 0.10579846799373627, 0.2494819015264511, 0.31844672560691833, 0.14659884572029114, 0.13255144655704498, 0.0], [1.0800194104376715e-05, 7.0521377892873716e-06, 1.9880515537806787e-05, 1.6622489056317136e-05, 0.0001990948076127097, 0.004202204290777445, 0.010834744200110435, 0.9847095608711243, 0.0], [0.007252327632158995, 0.006261823698878288, 0.015772351995110512, 0.03341008722782135, 0.04175866022706032, 0.2259323000907898, 0.4845959544181824, 0.1850164532661438, 0.0]], [[0.09039327502250671, 0.13259722292423248, 0.12325315177440643, 0.3030196726322174, 0.04356001317501068, 0.012176340445876122, 0.03179088979959488, 0.26320940256118774, 0.0], [0.2341599017381668, 0.15617169439792633, 0.11316188424825668, 0.16615961492061615, 0.03456771373748779, 0.019345195963978767, 0.040881674736738205, 0.2355523407459259, 0.0], [0.2996181845664978, 0.21720319986343384, 0.167263463139534, 0.16909855604171753, 0.027787212282419205, 0.0201957356184721, 0.027237404137849808, 0.07159620523452759, 0.0], [0.20876352488994598, 0.2789745628833771, 0.256144255399704, 0.14793480932712555, 0.029180655255913734, 0.018915589898824692, 0.027206210419535637, 0.03288034349679947, 0.0], [0.02872512675821781, 0.13031579554080963, 0.2912920117378235, 0.4273206293582916, 0.04699837788939476, 0.023774579167366028, 0.03580697625875473, 0.015766486525535583, 0.0], [0.0016661122208461165, 0.024855276569724083, 0.18169791996479034, 0.6240121126174927, 0.09357655793428421, 0.03934619203209877, 0.03283313661813736, 0.00201267353259027, 0.0], [0.0003116489388048649, 0.005486724432557821, 0.06453311443328857, 0.4470001757144928, 0.26725614070892334, 0.11526433378458023, 0.0973346158862114, 0.002813162514939904, 0.0], [0.0004588007868733257, 0.0002524792216718197, 0.00011327917309245095, 0.0006107279332354665, 0.0023862491361796856, 0.0011050315806642175, 0.006237385328859091, 0.9888361096382141, 0.0], [0.0012187105603516102, 0.0016234348295256495, 0.009250612929463387, 0.03209002688527107, 0.13982707262039185, 0.42074838280677795, 0.3887729346752167, 0.006468777544796467, 0.0]], [[0.07186829298734665, 0.09092747420072556, 0.23418013751506805, 0.2251792550086975, 0.09810753166675568, 0.1232822984457016, 0.07095712423324585, 0.08549778908491135, 0.0], [0.09799905121326447, 0.11843220144510269, 0.2689339518547058, 0.19689364731311798, 0.07136452943086624, 0.0997876450419426, 0.06761427968740463, 0.07897469401359558, 0.0], [0.15314361453056335, 0.20825904607772827, 0.14401832222938538, 0.28027215600013733, 0.07736532390117645, 0.03005959466099739, 0.049545928835868835, 0.05733608826994896, 0.0], [0.08785054832696915, 0.16820138692855835, 0.3825708329677582, 0.10125875473022461, 0.10275241732597351, 0.0873701274394989, 0.030123818665742874, 0.03987192362546921, 0.0], [0.016337022185325623, 0.03769880160689354, 0.21888788044452667, 0.27873679995536804, 0.11913283169269562, 0.1943305879831314, 0.07934506982564926, 0.055531032383441925, 0.0], [0.020026257261633873, 0.041447319090366364, 0.06424352526664734, 0.2966121733188629, 0.2064552903175354, 0.11307696253061295, 0.13726800680160522, 0.12087048590183258, 0.0], [0.007209645584225655, 0.01555093564093113, 0.08270445466041565, 0.07526644319295883, 0.16937361657619476, 0.3976706266403198, 0.06527154892683029, 0.18695278465747833, 0.0], [0.0007578551885671914, 0.0005202612956054509, 0.0004722128214780241, 0.0004091217997483909, 0.0022278616670519114, 0.005925825331360102, 0.014771520160138607, 0.9749153256416321, 0.0], [0.08793723583221436, 0.07164813578128815, 0.06880497932434082, 0.03772842511534691, 0.11678177118301392, 0.22998762130737305, 0.1898418664932251, 0.19727002084255219, 0.0]], [[0.04762425273656845, 0.0001309385261265561, 2.035777288256213e-05, 6.424618914024904e-05, 0.007418820168823004, 0.01126898918300867, 0.0004458495241124183, 0.9330264925956726, 0.0], [0.7446044087409973, 0.015051628462970257, 0.0009187273681163788, 0.0002104049053741619, 0.0006132172420620918, 0.0015523823676630855, 0.0010674018412828445, 0.23598189651966095, 0.0], [0.7335838675498962, 0.22254136204719543, 0.018685588613152504, 0.0008730593835934997, 0.000105799495941028, 0.00014947449380997568, 0.00040398648707196116, 0.023656697943806648, 0.0], [0.10079436749219894, 0.5621716976165771, 0.314057856798172, 0.021822359412908554, 0.00026468990836292505, 4.276339677744545e-05, 3.6873319913866e-05, 0.0008093458018265665, 0.0], [0.0040226709097623825, 0.13706886768341064, 0.629115104675293, 0.22169341146945953, 0.007566073443740606, 0.0002023157139774412, 2.570115429989528e-05, 0.0003057343128602952, 0.0], [7.772937533445656e-05, 0.002173913177102804, 0.0789807066321373, 0.644745945930481, 0.2637796998023987, 0.009719453752040863, 0.00026238319696858525, 0.00026028259890154004, 0.0], [8.711353416401835e-07, 7.026069852145156e-06, 0.0006903354660607874, 0.07141256332397461, 0.7088356018066406, 0.21206670999526978, 0.006848045624792576, 0.0001388576638419181, 0.0], [3.3312691494202795e-10, 8.064613421510103e-10, 1.4767744005439454e-07, 8.514929504599422e-05, 0.04730888828635216, 0.7902001142501831, 0.1623324751853943, 7.328374340431765e-05, 0.0], [2.198557240262744e-06, 5.4350866776076145e-06, 5.049024912295863e-05, 0.0006036336999386549, 0.003470152383670211, 0.14414532482624054, 0.8513858914375305, 0.0003369049809407443, 0.0]], [[0.02217932604253292, 0.10093583166599274, 0.3726268410682678, 0.3412022590637207, 0.10413163900375366, 0.042015526443719864, 0.012985373847186565, 0.00392318656668067, 0.0], [0.001969102304428816, 0.013698802329599857, 0.14284297823905945, 0.48376208543777466, 0.26374614238739014, 0.08006875962018967, 0.011955562978982925, 0.001956537365913391, 0.0], [0.000976973446086049, 0.00459330715239048, 0.041372694075107574, 0.3663679361343384, 0.38385069370269775, 0.16556744277477264, 0.03147488087415695, 0.005796074401587248, 0.0], [0.0017265909118577838, 0.003460137639194727, 0.014628011733293533, 0.1286763846874237, 0.3803718686103821, 0.299991250038147, 0.12612390518188477, 0.045021817088127136, 0.0], [0.003559870645403862, 0.001817053067497909, 0.0020809643901884556, 0.01240536104887724, 0.08438298106193542, 0.2660437822341919, 0.452056884765625, 0.17765313386917114, 0.0], [0.0066866627894341946, 0.003804976586252451, 0.001474095624871552, 0.00387187791056931, 0.010560558177530766, 0.04427232965826988, 0.2612023949623108, 0.6681270599365234, 0.0], [0.008541030809283257, 0.008884519338607788, 0.0035214214585721493, 0.004085127264261246, 0.004647394642233849, 0.014019214548170567, 0.1127885952591896, 0.8435127139091492, 0.0], [0.026574278250336647, 0.04793746769428253, 0.012843555770814419, 0.004907127469778061, 0.0019266187446191907, 0.0033171256072819233, 0.0327904112637043, 0.8697034120559692, 0.0], [0.020665299147367477, 0.10112103074789047, 0.21535032987594604, 0.3617717921733856, 0.0928448736667633, 0.049581125378608704, 0.043466925621032715, 0.11519862711429596, 0.0]]], [[[0.016741666942834854, 0.0056237103417515755, 0.005018358584493399, 0.0018440482672303915, 0.001885186997242272, 0.004726529587060213, 0.000776707602199167, 0.9633838534355164, 0.0], [0.05305149406194687, 0.007153927348554134, 0.003013747511431575, 0.0018916957778856158, 0.00022321926371660084, 0.0011307935928925872, 0.00031790288630872965, 0.9332171678543091, 0.0], [0.11906447261571884, 0.00832363124936819, 0.007448770105838776, 0.004764642100781202, 0.0005696387961506844, 0.005448729265481234, 0.002293951576575637, 0.8520861864089966, 0.0], [0.004829937592148781, 0.16318543255329132, 0.031133385375142097, 0.01135460939258337, 0.0005481725675053895, 0.0009024458122439682, 0.0014061168767511845, 0.7866398692131042, 0.0], [0.0030063013546168804, 0.01631341129541397, 0.2445790320634842, 0.05760619044303894, 0.00563471857458353, 0.0011636762646958232, 0.0048127202317118645, 0.6668839454650879, 0.0], [0.002444887300953269, 0.006784974131733179, 0.01674639992415905, 0.20058566331863403, 0.031244704499840736, 0.006721068639308214, 0.002551402198150754, 0.7329208850860596, 0.0], [0.0011559337144717574, 0.002061458071693778, 0.025002242997288704, 0.07413852959871292, 0.15089046955108643, 0.044798050075769424, 0.007950710132718086, 0.694002628326416, 0.0], [0.000576202233787626, 0.0008446482243016362, 0.0009581707417964935, 0.0005847946158610284, 0.0005651981336995959, 0.002293370198458433, 0.0027785690035670996, 0.9913990497589111, 0.0], [0.0009751528850756586, 0.0009564185165800154, 0.0005325408419594169, 0.00031563767697662115, 0.0003805503947660327, 0.001080733840353787, 0.0006399637786671519, 0.9951189756393433, 0.0]], [[0.00836160872131586, 0.010415234602987766, 0.02054492197930813, 0.04499495401978493, 0.024609139189124107, 0.03485504910349846, 0.19452789425849915, 0.6616911888122559, 0.0], [0.011060936376452446, 0.0021711052395403385, 0.010634089820086956, 0.052289269864559174, 0.003849871689453721, 0.022019987925887108, 0.14462468028068542, 0.7533500790596008, 0.0], [0.008853720501065254, 0.007350079249590635, 0.015464285388588905, 0.08760719746351242, 0.001292789471335709, 0.007514875382184982, 0.11448556184768677, 0.7574314475059509, 0.0], [0.007512685842812061, 0.03167504817247391, 0.03152335435152054, 0.01653915084898472, 0.002768751233816147, 0.0075356909073889256, 0.024978971108794212, 0.8774663209915161, 0.0], [0.0019909986294806004, 0.016345757991075516, 0.02775094285607338, 0.09907329827547073, 0.01410781592130661, 0.013291082344949245, 0.06147786229848862, 0.7659621834754944, 0.0], [0.00020814765593968332, 0.0009007054031826556, 0.011876426637172699, 0.11829876154661179, 0.02003544010221958, 0.02363736182451248, 0.08591555058956146, 0.7391276359558105, 0.0], [0.00023888428404461592, 0.00046787556493654847, 0.002491411752998829, 0.05278947204351425, 0.028895679861307144, 0.06405715644359589, 0.024306926876306534, 0.8267526030540466, 0.0], [0.0001024511584546417, 0.0002791218284983188, 0.0015248511917889118, 0.006277947686612606, 0.00045804184628650546, 0.0005308369291014969, 0.0003432751109357923, 0.9904835224151611, 0.0], [0.0003294980269856751, 0.0006858218694105744, 0.0018050139769911766, 0.00894910003989935, 0.0008090278715826571, 0.0005497977253980935, 0.00010865733202081174, 0.986763060092926, 0.0]], [[0.015525268390774727, 0.06798452883958817, 0.05132634565234184, 0.023283449932932854, 0.0017675968119874597, 0.007266452070325613, 0.004018844570964575, 0.8288275003433228, 0.0], [0.02238576114177704, 0.021617047488689423, 0.059249307960271835, 0.027867628261446953, 0.0050477273762226105, 0.0040025594644248486, 0.020577378571033478, 0.8392525911331177, 0.0], [0.017261622473597527, 0.05295050889253616, 0.014032648876309395, 0.038888897746801376, 0.004011319484561682, 0.0017524517606943846, 0.014882519841194153, 0.8562200665473938, 0.0], [0.0041215489618480206, 0.005777198821306229, 0.018851187080144882, 0.012211764231324196, 0.03649260476231575, 0.011777147650718689, 0.007262921892106533, 0.9035056233406067, 0.0], [0.002423721831291914, 0.009858233854174614, 0.009681281633675098, 0.02601095661520958, 0.009884183295071125, 0.13600265979766846, 0.026195799931883812, 0.7799431085586548, 0.0], [0.0006054382538422942, 0.0016370780067518353, 0.0038980513345450163, 0.028864610940217972, 0.01333483774214983, 0.01358863990753889, 0.12310738116502762, 0.8149639368057251, 0.0], [0.0006415460375137627, 0.0015847865724936128, 0.0038711270317435265, 0.024547787383198738, 0.019457045942544937, 0.029678987339138985, 0.007775852456688881, 0.9124428629875183, 0.0], [5.316961323842406e-05, 0.00029129558242857456, 0.0013471458805724978, 0.0012634191662073135, 0.0006731683970429003, 0.000769329140894115, 0.00014173993258737028, 0.9954606890678406, 0.0], [0.00012110437091905624, 0.0005334338056854904, 0.0012906076153740287, 0.001445876550860703, 0.0007831993279978633, 0.0005168608040548861, 5.819441139465198e-05, 0.9952507019042969, 0.0]], [[0.04194141924381256, 0.03522297367453575, 0.030950693413615227, 0.019413955509662628, 0.0031423689797520638, 0.0024730805307626724, 0.0027146274223923683, 0.8641408681869507, 0.0], [0.09302650392055511, 0.014017227105796337, 0.029952576383948326, 0.011562392115592957, 0.0017543904250487685, 0.010203970596194267, 0.0065788705833256245, 0.832904040813446, 0.0], [0.002237789798527956, 0.15281233191490173, 0.017233435064554214, 0.00797312892973423, 0.002813284983858466, 0.003030534368008375, 0.0027421985287219286, 0.8111573457717896, 0.0], [0.008164625614881516, 0.03808038309216499, 0.06397384405136108, 0.017894094809889793, 0.01735091768205166, 0.0007713609375059605, 0.004146193154156208, 0.8496186137199402, 0.0], [0.004011661279946566, 0.004269138909876347, 0.018765456974506378, 0.11463427543640137, 0.014764454215765, 0.004253515508025885, 0.0011065328726544976, 0.8381949663162231, 0.0], [0.0004316221456974745, 0.0009242589585483074, 0.003256026888266206, 0.02621256560087204, 0.16825386881828308, 0.013324849307537079, 0.005344713106751442, 0.7822521328926086, 0.0], [0.0011480489047244191, 0.006157126743346453, 0.0009295370546169579, 0.01975991018116474, 0.017646905034780502, 0.11455002427101135, 0.01277832593768835, 0.8270301222801208, 0.0], [0.000227264579734765, 0.0007502589141950011, 0.003213009564206004, 0.0009910602821037173, 0.0007824574713595212, 0.0009716268396005034, 0.0011188029311597347, 0.9919454455375671, 0.0], [0.0002928696048911661, 0.0013984051765874028, 0.002950449241325259, 0.0008548173937015235, 0.0005751382559537888, 0.0005929049220867455, 0.0003647531848400831, 0.9929706454277039, 0.0]], [[0.007140757981687784, 0.010471729561686516, 0.023347873240709305, 0.04043200612068176, 0.13912031054496765, 0.0455903485417366, 0.00465104216709733, 0.7292459607124329, 0.0], [0.012919136323034763, 0.004819491412490606, 0.009653614833950996, 0.026615943759679794, 0.15188191831111908, 0.10754639655351639, 0.009005012921988964, 0.6775584816932678, 0.0], [0.022978421300649643, 0.0055215307511389256, 0.003244708525016904, 0.013707282952964306, 0.036077115684747696, 0.045855000615119934, 0.022884754464030266, 0.8497311472892761, 0.0], [0.009207806549966335, 0.013066952116787434, 0.009165800176560879, 0.016606340184807777, 0.008413192816078663, 0.02823079377412796, 0.014182311482727528, 0.9011267423629761, 0.0], [0.011450651101768017, 0.18383243680000305, 0.040560655295848846, 0.01958584040403366, 0.0079782260581851, 0.0022887142840772867, 0.007442789617925882, 0.7268606424331665, 0.0], [0.0011902841506525874, 0.0083088967949152, 0.07248552143573761, 0.05564865097403526, 0.02635330520570278, 0.001733473502099514, 0.004684667568653822, 0.8295952081680298, 0.0], [0.0005848342552781105, 0.0004688798217102885, 0.02250615693628788, 0.08511541783809662, 0.04203585162758827, 0.03060450404882431, 0.010889858938753605, 0.807794451713562, 0.0], [0.00034613479510881007, 0.0006870886427350342, 0.0004281353612896055, 0.001350888516753912, 0.0011769664706662297, 0.0006378188845701516, 0.00033693076693452895, 0.9950360655784607, 0.0], [0.0006882164743728936, 0.0008266327786259353, 0.0003006603801622987, 0.0010673770448192954, 0.0017686252249404788, 0.0008556029060855508, 0.00013001664774492383, 0.9943628311157227, 0.0]], [[0.004335394129157066, 0.05010148510336876, 0.03671472519636154, 0.026152629405260086, 0.0024681619834154844, 0.0024482877925038338, 0.0029809954576194286, 0.8747982978820801, 0.0], [0.005067556165158749, 0.00972040556371212, 0.1041923239827156, 0.07257269322872162, 0.003992757294327021, 0.0005570737994275987, 0.0061156307347118855, 0.7977815866470337, 0.0], [0.0032446044497191906, 0.003230562200769782, 0.01866522803902626, 0.1528659462928772, 0.003920387476682663, 0.004004491027444601, 0.0048658461309969425, 0.8092029690742493, 0.0], [0.0005890934844501317, 0.000386416184483096, 0.005528957117348909, 0.01670614816248417, 0.03843390569090843, 0.019285917282104492, 0.008798537775874138, 0.9102709889411926, 0.0], [0.0008644074550829828, 0.0019066986860707402, 0.0028317233081907034, 0.018502559512853622, 0.009402385912835598, 0.06956154108047485, 0.01666077971458435, 0.8802699446678162, 0.0], [0.0005379688227549195, 0.0012573671992868185, 0.0037644957192242146, 0.008507424034178257, 0.00469503877684474, 0.014245033264160156, 0.07962875813245773, 0.8873639106750488, 0.0], [0.0008193664252758026, 0.0013667292660102248, 0.0033064994495362043, 0.004127020947635174, 0.0029259019065648317, 0.015829959884285927, 0.020831355825066566, 0.9507932066917419, 0.0], [1.869121661002282e-05, 7.846506923669949e-05, 0.0003813373623415828, 0.0015148421516641974, 0.00040227192221209407, 0.00043805388850159943, 0.0001858167233876884, 0.9969804883003235, 0.0], [1.8763246771413833e-05, 6.676777411485091e-05, 0.0002865052374545485, 0.0021039308048784733, 0.00032110113534145057, 0.00017524472787044942, 8.891716424841434e-05, 0.9969388246536255, 0.0]], [[0.012964603491127491, 0.02223319001495838, 0.09878133982419968, 0.0020218247082084417, 0.0016145652625709772, 0.010409997776150703, 0.00013730178761761636, 0.851837158203125, 0.0], [0.03817048668861389, 0.019380874931812286, 0.05818716809153557, 0.003479281673207879, 0.0011654517147690058, 0.006508639547973871, 0.00019381599850021303, 0.8729143142700195, 0.0], [0.038142308592796326, 0.02037380449473858, 0.019446834921836853, 0.0004722679441329092, 0.001626359298825264, 0.0030491838697344065, 9.073755063582212e-05, 0.91679847240448, 0.0], [0.025533227249979973, 0.03438793122768402, 0.07361170649528503, 0.0013868409441784024, 0.0017311004921793938, 0.0032454263418912888, 0.0003825546009466052, 0.8597212433815002, 0.0], [0.002961324993520975, 0.012366579845547676, 0.11271502077579498, 0.009436247870326042, 0.0004948707646690309, 0.0055533102713525295, 0.0005726521485485137, 0.85589998960495, 0.0], [0.002951497444882989, 0.004054850898683071, 0.07035920023918152, 0.006094937678426504, 0.004345098976045847, 0.020827243104577065, 0.0004663747677113861, 0.8909007906913757, 0.0], [0.001165263936854899, 0.0021618253085762262, 0.014683373272418976, 0.0649624764919281, 0.003799188882112503, 0.019518742337822914, 0.011877868324518204, 0.8818312883377075, 0.0], [4.530618025455624e-05, 6.913666584296152e-05, 0.0019767875783145428, 7.001984340604395e-05, 4.529913712758571e-05, 0.0009784133872017264, 1.0906415809586179e-05, 0.9968041181564331, 0.0], [9.690239676274359e-05, 0.00010928078700089827, 0.001979028107598424, 5.473053897731006e-05, 4.252576400176622e-05, 0.00071094767190516, 5.4908050515223294e-06, 0.9970011115074158, 0.0]], [[0.011989268474280834, 0.028757669031620026, 0.09906225651502609, 0.08328709006309509, 0.04734822362661362, 0.013597157783806324, 0.021791644394397736, 0.6941666603088379, 0.0], [0.0026865946128964424, 0.006870870478451252, 0.039788439869880676, 0.12602557241916656, 0.12981532514095306, 0.025391457602381706, 0.025633104145526886, 0.6437885761260986, 0.0], [0.0017992882058024406, 0.0021018164698034525, 0.01252678968012333, 0.03252379596233368, 0.1703786998987198, 0.06502650678157806, 0.025272950530052185, 0.6903701424598694, 0.0], [0.0007889618864282966, 0.0010165800340473652, 0.0025774575769901276, 0.011031857691705227, 0.039681922644376755, 0.31895965337753296, 0.039006613194942474, 0.5869369506835938, 0.0], [0.0006614034646190703, 0.0008101246785372496, 0.0017921009566634893, 0.003200675593689084, 0.013477769680321217, 0.1263832449913025, 0.0789349153637886, 0.7747398018836975, 0.0], [0.0008054053760133684, 0.0008082950953394175, 0.002495674416422844, 0.0023626789916306734, 0.0031596666667610407, 0.026364151388406754, 0.035507094115018845, 0.9284970760345459, 0.0], [0.0008637396967969835, 0.000898362195584923, 0.0052607678808271885, 0.0034049435053020716, 0.006165723782032728, 0.022117305546998978, 0.03174436092376709, 0.9295447468757629, 0.0], [0.00013060714991297573, 8.178075222531334e-05, 0.0007418306777253747, 0.0011929634492844343, 0.001976878149434924, 0.0021709210705012083, 0.0008519869297742844, 0.9928529858589172, 0.0], [6.454584945458919e-05, 6.144001235952601e-05, 0.0005233671399764717, 0.0017658647848293185, 0.003598072100430727, 0.00197924068197608, 0.0007528993883170187, 0.9912545680999756, 0.0]]], [[[0.0049539776518940926, 0.049189724028110504, 0.019271960482001305, 0.0062457239255309105, 0.001736754085868597, 0.00451712915673852, 0.0032479825895279646, 0.9108367562294006, 0.0], [0.004142467398196459, 0.010182561352849007, 0.06939837336540222, 0.01875172182917595, 0.005999003071337938, 0.0009227209957316518, 0.0057567995972931385, 0.8848463296890259, 0.0], [0.0012014256790280342, 0.006329472176730633, 0.02786872163414955, 0.04054132476449013, 0.0028454891871660948, 0.004262203350663185, 0.007305712439119816, 0.9096456170082092, 0.0], [0.0007139916415326297, 0.0011213432298973203, 0.0037799018900841475, 0.005667660851031542, 0.21364575624465942, 0.0017539277905598283, 0.0018684044480323792, 0.7714490294456482, 0.0], [0.0004645555454771966, 0.0019296397222205997, 0.0011197492713108659, 0.0028493311256170273, 0.009519978426396847, 0.13074563443660736, 0.016602182760834694, 0.8367688655853271, 0.0], [0.0009695045300759375, 0.0033502434380352497, 0.012362132780253887, 0.004953487776219845, 0.0037507314700633287, 0.024021456018090248, 0.05906401574611664, 0.8915283679962158, 0.0], [0.0014822332886978984, 0.002845282666385174, 0.005318989511579275, 0.0010234878864139318, 0.0040497626177966595, 0.006420292891561985, 0.0035621519200503826, 0.9752978682518005, 0.0], [0.0002856229548342526, 0.0005944593576714396, 0.004195177927613258, 0.00317287421785295, 0.004736369010061026, 0.0036811181344091892, 0.0011119056725874543, 0.9822224378585815, 0.0], [0.00030084894387982786, 0.0007109473808668554, 0.005205332301557064, 0.004859365522861481, 0.004701818805187941, 0.0023113859351724386, 0.000668585707899183, 0.9812417030334473, 0.0]], [[0.012884634546935558, 0.051836684346199036, 0.1111135184764862, 0.2339392900466919, 0.0029786010272800922, 0.0011677041184157133, 0.001251995679922402, 0.5848276019096375, 0.0], [0.006927614565938711, 0.03804102912545204, 0.0483250617980957, 0.14381399750709534, 0.01632082648575306, 0.002304602414369583, 0.0010387146612629294, 0.7432281374931335, 0.0], [0.00585291488096118, 0.011111849918961525, 0.018939826637506485, 0.024847539141774178, 0.06605524569749832, 0.006417315918952227, 0.0022697828244417906, 0.8645054697990417, 0.0], [0.00045572599628940225, 0.0005447783623822033, 0.004743268247693777, 0.002470760839059949, 0.014617227017879486, 0.06214917078614235, 0.004106116946786642, 0.9109129309654236, 0.0], [0.0003010777581948787, 0.001810397021472454, 0.0014904238050803542, 0.009098904207348824, 0.01169211883097887, 0.00826353020966053, 0.006237137597054243, 0.9611064195632935, 0.0], [0.0017117453971877694, 0.004046015441417694, 0.010851925238966942, 0.0043959119357168674, 0.0382937453687191, 0.011237185448408127, 0.00537733593955636, 0.9240860939025879, 0.0], [0.00010678075341274962, 0.0006079112063162029, 0.00304999528452754, 0.000544195354450494, 0.01972501166164875, 0.011630057357251644, 0.006008517928421497, 0.9583275318145752, 0.0], [0.00014191237278282642, 0.0004310479562263936, 0.0018660167697817087, 0.0019108657725155354, 0.0043328446336090565, 0.001981383888050914, 0.0020836256444454193, 0.9872523546218872, 0.0], [0.0002061468258034438, 0.0006559127941727638, 0.002381665399298072, 0.0027780234813690186, 0.006637951824814081, 0.0020812805742025375, 0.0015139725292101502, 0.9837449789047241, 0.0]], [[0.009514733217656612, 0.0024365615099668503, 0.004990867804735899, 0.019687587395310402, 0.017196979373693466, 0.1473311483860016, 0.002148224739357829, 0.7966938614845276, 0.0], [0.05495670065283775, 0.007330598775297403, 0.015489357523620129, 0.007424879353493452, 0.0010636064689606428, 0.022389575839042664, 0.009576886892318726, 0.8817683458328247, 0.0], [0.0020611099898815155, 0.08708266913890839, 0.038350142538547516, 0.006571060046553612, 0.0002484169090166688, 0.005337726790457964, 0.012089095078408718, 0.8482597470283508, 0.0], [0.0010121254017576575, 0.01083606667816639, 0.1331205815076828, 0.01700802706182003, 0.0022931380663067102, 0.00022894788708072156, 0.0017122378339990973, 0.8337888717651367, 0.0], [0.00022161823289934546, 0.0003027758502867073, 0.0038282610476017, 0.0392305813729763, 0.011484362185001373, 0.0014284179778769612, 0.0002583865716587752, 0.9432456493377686, 0.0], [0.0002144749742001295, 0.0005137517582625151, 0.00399822648614645, 0.016610994935035706, 0.12216717004776001, 0.0079112583771348, 0.0061586652882397175, 0.8424254655838013, 0.0], [0.0005753537407144904, 0.0011493146885186434, 0.00016752685769461095, 0.005644337274134159, 0.017415283247828484, 0.2974458634853363, 0.03801140934228897, 0.639590859413147, 0.0], [0.0009535205317661166, 0.003130656434223056, 0.0014017901849001646, 0.005568669177591801, 0.003641807707026601, 0.0030129719525575638, 0.010319999419152737, 0.9719706177711487, 0.0], [0.0016917022876441479, 0.005890947766602039, 0.0017149007180705667, 0.004001526162028313, 0.002252067206427455, 0.0021865328308194876, 0.006802778225392103, 0.9754595756530762, 0.0]], [[0.0003896583802998066, 0.0017033234471455216, 0.021503644064068794, 0.40691253542900085, 0.007933016866445541, 0.006713570095598698, 0.002126820385456085, 0.5527174472808838, 0.0], [0.0006370691698975861, 0.0015405573649331927, 0.009302031248807907, 0.16117973625659943, 0.017130451276898384, 0.01402740366756916, 0.004335847683250904, 0.7918468713760376, 0.0], [0.008498306386172771, 0.00991884060204029, 0.005995333194732666, 0.001991014927625656, 0.07031983882188797, 0.037300169467926025, 0.03170308098196983, 0.8342733979225159, 0.0], [0.01071477122604847, 0.03430856764316559, 0.006374785676598549, 0.0120957400649786, 0.024303041398525238, 0.0038288801442831755, 0.011030725203454494, 0.8973434567451477, 0.0], [0.0004045751702506095, 0.0011027362197637558, 0.005720999091863632, 0.062484897673130035, 0.0032846403773874044, 0.0033114454708993435, 0.0014831360895186663, 0.9222075343132019, 0.0], [0.0008343043737113476, 0.001131031895056367, 0.0027725882828235626, 0.004558165557682514, 0.018018070608377457, 0.014678003266453743, 0.053920093923807144, 0.9040877223014832, 0.0], [0.0009372461936436594, 0.0012430357746779919, 0.011083273217082024, 0.005873569753021002, 0.01025586761534214, 0.04819890484213829, 0.008325263857841492, 0.9140828847885132, 0.0], [0.0006743519916199148, 0.0012043697061017156, 0.002259097993373871, 0.002622259547933936, 0.0021616697777062654, 0.003987073432654142, 0.0013124251272529364, 0.98577880859375, 0.0], [0.0009663373348303139, 0.0015970353269949555, 0.002582801738753915, 0.0034246807917952538, 0.002758486196398735, 0.003739571198821068, 0.0011110372142866254, 0.9838200807571411, 0.0]], [[0.005330863408744335, 0.008631803095340729, 0.009827678091824055, 0.11337082087993622, 0.4361688196659088, 0.012192578986287117, 0.0010596021311357617, 0.413417786359787, 0.0], [0.002763201482594013, 0.0012211877619847655, 0.0025156536139547825, 0.09255701303482056, 0.3641187846660614, 0.037406131625175476, 0.0026993711944669485, 0.4967186152935028, 0.0], [0.00653268676251173, 0.0010376042919233441, 0.003650784259662032, 0.026265770196914673, 0.00845077633857727, 0.02610427513718605, 0.008140009827911854, 0.919818103313446, 0.0], [0.01836695894598961, 0.022130444645881653, 0.009358190931379795, 0.028020456433296204, 0.0035012769512832165, 0.015279566869139671, 0.009860272519290447, 0.8934828042984009, 0.0], [0.001960208872333169, 0.01055075041949749, 0.021352561190724373, 0.005918700248003006, 0.0031029079109430313, 0.003989339340478182, 0.0021618364844471216, 0.9509637355804443, 0.0], [0.0007299992139451206, 0.004590245895087719, 0.16603507101535797, 0.008218653500080109, 0.0021058570127934217, 0.0035127790179103613, 0.0016800359589979053, 0.8131274580955505, 0.0], [0.0002882689004763961, 0.0005078705144114792, 0.0032139436807483435, 0.015681341290473938, 0.019165851175785065, 0.012564524076879025, 0.001495400327257812, 0.9470828175544739, 0.0], [0.000651544367428869, 0.0008752697031013668, 0.00316909933462739, 0.004536926280707121, 0.0021426999010145664, 0.003565306542441249, 0.0018811422633007169, 0.9831780791282654, 0.0], [0.0009387225727550685, 0.0007676825043745339, 0.0022841468453407288, 0.00466448999941349, 0.003113334998488426, 0.004195849876850843, 0.001417550491169095, 0.9826182126998901, 0.0]], [[0.005873677786439657, 0.03472230210900307, 0.15803763270378113, 0.01661527343094349, 0.0005425460985861719, 0.007739979773759842, 0.007878460921347141, 0.7685901522636414, 0.0], [0.0004370486713014543, 0.007001523394137621, 0.08973786234855652, 0.03525616228580475, 0.0032250836957246065, 0.0007658473332412541, 0.007071645464748144, 0.8565047979354858, 0.0], [0.00042380354716442525, 0.0007088106940500438, 0.010550431907176971, 0.061432674527168274, 0.009984157979488373, 0.0012542486656457186, 0.0035498091019690037, 0.9120960831642151, 0.0], [0.0007285886094905436, 0.0013358459109440446, 0.002308734692633152, 0.0022226653527468443, 0.11129099130630493, 0.011635681614279747, 0.003922917880117893, 0.8665545582771301, 0.0], [0.0008659357554279268, 0.001140989945270121, 0.0013437730958685279, 0.0013055977178737521, 0.0074157388880848885, 0.2668215334415436, 0.0046316469088196754, 0.716474711894989, 0.0], [0.00139102921821177, 0.0018431658390909433, 0.00456396397203207, 0.003834295552223921, 0.004083416424691677, 0.034840118139982224, 0.13015244901180267, 0.8192915320396423, 0.0], [0.0016581236850470304, 0.0034228204749524593, 0.008902177214622498, 0.0035967619623988867, 0.0015886458568274975, 0.003902610158547759, 0.028897790238261223, 0.9480310082435608, 0.0], [0.0008545630844309926, 0.0007198746898211539, 0.0027096024714410305, 0.005106545984745026, 0.00275848968885839, 0.004001261200755835, 0.0022489898838102818, 0.9816006422042847, 0.0], [0.0006408206536434591, 0.0007032164139673114, 0.0032136680092662573, 0.00778947351500392, 0.002726268256083131, 0.002465979428961873, 0.0011475385399535298, 0.9813129901885986, 0.0]], [[0.004926969297230244, 0.0017042647814378142, 0.0015134681016206741, 0.01980770006775856, 0.15427492558956146, 0.12613961100578308, 0.06643813848495483, 0.6251949071884155, 0.0], [0.014791959896683693, 0.0019329192582517862, 0.0013701007701456547, 0.010995601303875446, 0.008370730094611645, 0.05381190404295921, 0.033441342413425446, 0.8752854466438293, 0.0], [0.04578801617026329, 0.0032315205316990614, 0.006494245491921902, 0.005520590115338564, 0.000803303555585444, 0.010794976726174355, 0.01303816307336092, 0.9143291711807251, 0.0], [0.008451886475086212, 0.11548202484846115, 0.012652887962758541, 0.017001468688249588, 0.00018168242240790278, 0.0014713442651554942, 0.0020826724357903004, 0.842676043510437, 0.0], [0.0015908342320472002, 0.03268617391586304, 0.18605266511440277, 0.03421389311552048, 0.004365929402410984, 0.00025625983835197985, 0.005042743869125843, 0.7357915043830872, 0.0], [0.0003300097887404263, 0.0018675311002880335, 0.11506057530641556, 0.06898004561662674, 0.011078327894210815, 0.006029547657817602, 0.0022762881126254797, 0.7943776845932007, 0.0], [0.00017652282258495688, 0.00011697204172378406, 0.002030708594247699, 0.04231399670243263, 0.10250169038772583, 0.01512075774371624, 0.00460480060428381, 0.8331345915794373, 0.0], [0.0020893916953355074, 0.0021146147046238184, 0.004595846403390169, 0.0042784372344613075, 0.00370677188038826, 0.007945860736072063, 0.008342639543116093, 0.9669264554977417, 0.0], [0.004096257966011763, 0.002326265210285783, 0.002770082326605916, 0.0023189280182123184, 0.003021242329850793, 0.007752501871436834, 0.0056955222971737385, 0.9720191359519958, 0.0]], [[0.005974628031253815, 0.012941702269017696, 0.12920895218849182, 0.015292366035282612, 0.002574657090008259, 0.01743617281317711, 0.0013808713993057609, 0.8151906728744507, 0.0], [0.007724011782556772, 0.013940676115453243, 0.03867562115192413, 0.04149690270423889, 0.002406274899840355, 0.0059273019433021545, 0.001513585913926363, 0.8883156180381775, 0.0], [0.00204634852707386, 0.010195323266088963, 0.010651253163814545, 0.15712057054042816, 0.0017251813551411033, 0.002867255825549364, 0.020641978830099106, 0.7947520613670349, 0.0], [0.0016041751950979233, 0.013261704705655575, 0.02313743345439434, 0.009115914814174175, 0.015803813934326172, 0.019047118723392487, 0.00783008337020874, 0.9101998209953308, 0.0], [0.0002101501595461741, 0.001157776452600956, 0.013689869083464146, 0.09271449595689774, 0.012431984767317772, 0.10521454364061356, 0.008242473006248474, 0.7663387060165405, 0.0], [0.00025176460621878505, 0.001195119577459991, 0.004558346699923277, 0.05520407855510712, 0.010008418001234531, 0.03244376927614212, 0.03993627056479454, 0.8564022183418274, 0.0], [7.39331662771292e-05, 0.00018958034343086183, 0.00032228551572188735, 0.07539835572242737, 0.010394012555480003, 0.026913033798336983, 0.025684263557195663, 0.8610244989395142, 0.0], [7.088336133165285e-05, 0.0002451043692417443, 0.0023642294108867645, 0.0066283694468438625, 0.002506957156583667, 0.0033063869923353195, 0.0009043276077136397, 0.9839736819267273, 0.0], [0.0001577644725330174, 0.0005140264402143657, 0.0032665531616657972, 0.008749006316065788, 0.0031051672995090485, 0.0033573885448276997, 0.0005672411061823368, 0.9802829027175903, 0.0]]], [[[0.008317654952406883, 0.0036479951813817024, 0.009787688963115215, 0.027644207701086998, 0.05030674859881401, 0.012527033686637878, 0.010194502770900726, 0.87757408618927, 0.0], [0.017487313598394394, 0.0040278625674545765, 0.0019138159696012735, 0.002249570330604911, 0.007554033305495977, 0.005558864213526249, 0.0011793377343565226, 0.960029125213623, 0.0], [0.012229609303176403, 0.0016657409723848104, 0.002521844580769539, 0.003275893395766616, 0.0013925627572461963, 0.001687762443907559, 0.0020003574900329113, 0.9752261638641357, 0.0], [0.0011695919092744589, 0.01643228903412819, 0.017657961696386337, 0.015781663358211517, 0.0005472626071423292, 0.0005544345476664603, 0.001699403510428965, 0.9461573958396912, 0.0], [0.0023148939944803715, 0.01869119703769684, 0.14576804637908936, 0.006027229130268097, 0.007368159014731646, 0.0002551671932451427, 0.0007980027003213763, 0.818777322769165, 0.0], [0.0032991061452776194, 0.0013858838938176632, 0.005745085421949625, 0.05688418447971344, 0.015268382616341114, 0.0008848897996358573, 0.0006059579318389297, 0.9159265160560608, 0.0], [0.0001812538248486817, 0.0001599071256350726, 0.0022892262786626816, 0.032366178929805756, 0.012598486617207527, 0.034951403737068176, 0.004291052930057049, 0.9131624698638916, 0.0], [0.0028113452717661858, 0.0034621465019881725, 0.013587013818323612, 0.02644279971718788, 0.039299726486206055, 0.04123739153146744, 0.05004492029547691, 0.8231146335601807, 0.0], [0.004085558000952005, 0.00393176544457674, 0.009513571858406067, 0.01849684864282608, 0.03238793835043907, 0.038441531360149384, 0.04218161106109619, 0.8509611487388611, 0.0]], [[0.030869634822010994, 0.013276580721139908, 0.0024307630956172943, 0.022127632051706314, 0.0021404654253274202, 0.0008370926952920854, 0.0007264870801009238, 0.9275913238525391, 0.0], [0.05754769966006279, 0.023796113207936287, 0.0027198053430765867, 0.010354817844927311, 0.0033508073538541794, 0.0011211158707737923, 0.0009271103190258145, 0.9001824855804443, 0.0], [0.010259585455060005, 0.12526509165763855, 0.007096556946635246, 0.0010406734654679894, 0.0025332127697765827, 0.0008765999227762222, 0.0004345671331975609, 0.8524937033653259, 0.0], [0.0030406340956687927, 0.0016124309040606022, 0.053520213812589645, 0.05471142753958702, 0.0005556084215641022, 0.00046056153951212764, 0.007239360827952623, 0.8788596987724304, 0.0], [0.00338224065490067, 0.0015501847956329584, 0.003054346889257431, 0.16550301015377045, 0.015744319185614586, 0.002798615489155054, 0.00027231196872889996, 0.8076949119567871, 0.0], [0.0007228914764709771, 0.0019834532868117094, 0.0021531207021325827, 0.0050097256898880005, 0.06822231411933899, 0.024281702935695648, 0.0006072776159271598, 0.8970195055007935, 0.0], [0.002345099113881588, 0.00042026990558952093, 0.0008463929407298565, 0.023895522579550743, 0.005104860290884972, 0.047531574964523315, 0.006124009843915701, 0.9137322902679443, 0.0], [0.004403652623295784, 0.0030653057619929314, 0.0058290171436965466, 0.007758529856801033, 0.010159027762711048, 0.015095540322363377, 0.05962279811501503, 0.8940661549568176, 0.0], [0.005127534735947847, 0.004319168161600828, 0.006571941077709198, 0.006534992251545191, 0.007035248912870884, 0.011586903594434261, 0.053213488310575485, 0.9056107401847839, 0.0]], [[0.13982678949832916, 0.08647053688764572, 0.0073966383934021, 0.004458504728972912, 0.004073314368724823, 0.011491908691823483, 0.005132022779434919, 0.7411502599716187, 0.0], [0.06757521629333496, 0.056486524641513824, 0.010465970262885094, 0.0032829877454787493, 0.004019221756607294, 0.0056457254104316235, 0.001866788836196065, 0.8506575226783752, 0.0], [0.009172795340418816, 0.03277066349983215, 0.003290472785010934, 0.029535558074712753, 0.023895464837551117, 0.0040273829363286495, 0.0036457940004765987, 0.8936618566513062, 0.0], [0.0006944742053747177, 0.0016747430199757218, 0.024483831599354744, 0.022448154166340828, 0.005753400269895792, 0.0026191293727606535, 0.0015505016781389713, 0.9407758116722107, 0.0], [0.0014386598486453295, 0.0020459466613829136, 0.010756933130323887, 0.018779542297124863, 0.012267925776541233, 0.01255006343126297, 0.009550508111715317, 0.9326104521751404, 0.0], [0.00032730333623476326, 0.0004710375505965203, 0.0024139820598065853, 0.04315789416432381, 0.029834672808647156, 0.005867750383913517, 0.009187721647322178, 0.9087396264076233, 0.0], [0.000536165724042803, 0.0005873504560440779, 0.00209730863571167, 0.010146362707018852, 0.014143312349915504, 0.012562645599246025, 0.013642307370901108, 0.9462845325469971, 0.0], [0.001630057580769062, 0.0023703326005488634, 0.00377113395370543, 0.017921224236488342, 0.01619672402739525, 0.010350068099796772, 0.03082405775785446, 0.9169363975524902, 0.0], [0.00199194997549057, 0.002972979564219713, 0.004760188981890678, 0.019457560032606125, 0.01590609923005104, 0.008741986006498337, 0.023518851026892662, 0.9226503968238831, 0.0]], [[0.016405997797846794, 0.003994046710431576, 0.003226236905902624, 0.11668281257152557, 0.010872196406126022, 0.005519172176718712, 0.002513537649065256, 0.8407859206199646, 0.0], [0.0168768223375082, 0.0007989061996340752, 0.007100190035998821, 0.08458350598812103, 0.00018243918020743877, 0.0013569073053076863, 0.0026339516043663025, 0.8864672780036926, 0.0], [0.0016202371334657073, 0.032774701714515686, 0.03200704604387283, 0.029065538197755814, 0.00022202171385288239, 0.0016517041949555278, 0.002165868179872632, 0.9004928469657898, 0.0], [0.008760608732700348, 0.03219828009605408, 0.08192385733127594, 0.007060757838189602, 0.0016297829570248723, 0.0003636227047536522, 0.004021730739623308, 0.8640413880348206, 0.0], [0.0006554757128469646, 0.00012541910109575838, 0.0066552055068314075, 0.17947998642921448, 0.011306594125926495, 0.00515388697385788, 0.0004975795745849609, 0.7961258888244629, 0.0], [0.00010160201054532081, 0.00014187867054715753, 0.0018059572903439403, 0.005293995141983032, 0.03485701605677605, 0.02605654112994671, 0.001875959918834269, 0.9298670887947083, 0.0], [0.0015660627977922559, 0.0012454676907509565, 0.00013028921966906637, 0.006981222424656153, 0.003410627832636237, 0.2211293876171112, 0.009271944873034954, 0.7562649846076965, 0.0], [0.0056712087243795395, 0.002764858305454254, 0.008417409844696522, 0.0146818608045578, 0.013698546215891838, 0.04496892914175987, 0.06518230587244034, 0.8446149230003357, 0.0], [0.0070409029722213745, 0.004649203736335039, 0.009636708535254002, 0.012927915900945663, 0.008870364166796207, 0.030554378405213356, 0.04760519787669182, 0.8787152767181396, 0.0]], [[0.06509312987327576, 0.06019321456551552, 0.009480948559939861, 0.026884011924266815, 0.0013464355142787099, 0.0010456531308591366, 0.0028038397431373596, 0.8331527709960938, 0.0], [0.02859249897301197, 0.05215967446565628, 0.010487611405551434, 0.06955858319997787, 0.0024318413343280554, 0.0005536220269277692, 0.0009782308479771018, 0.835237979888916, 0.0], [0.012216695584356785, 0.027969175949692726, 0.010819722898304462, 0.0196799635887146, 0.023536531254649162, 0.009545299224555492, 0.01422093529254198, 0.8820116519927979, 0.0], [0.0007940912619233131, 0.0006108967354521155, 0.004414909984916449, 0.003226382425054908, 0.010263347998261452, 0.021717961877584457, 0.0025175255723297596, 0.9564549326896667, 0.0], [0.0015485266922041774, 0.0013904267689213157, 0.00028536372701637447, 0.005343555938452482, 0.0021029675845056772, 0.006738757248967886, 0.004607924725860357, 0.9779825210571289, 0.0], [0.002378517761826515, 0.00504764961078763, 0.0038484211545437574, 0.015526828356087208, 0.015061180107295513, 0.018471622839570045, 0.048411499708890915, 0.8912542462348938, 0.0], [0.001300250762142241, 0.0018375160871073604, 0.001544963102787733, 0.005189820192754269, 0.012400307692587376, 0.02891548164188862, 0.011434439569711685, 0.9373772740364075, 0.0], [0.0036847174633294344, 0.002450298983603716, 0.0062318225391209126, 0.008085982874035835, 0.005066522862762213, 0.006958209443837404, 0.0027053363155573606, 0.9648171067237854, 0.0], [0.004418626427650452, 0.0032713685650378466, 0.0075899758376181126, 0.010035818442702293, 0.005554250441491604, 0.006776594091206789, 0.0023449319414794445, 0.9600083827972412, 0.0]], [[0.00343615235760808, 0.0051777558401227, 0.0005404426483437419, 0.06580158323049545, 0.03229774162173271, 0.0013589863665401936, 0.001093282364308834, 0.890294075012207, 0.0], [0.0007285464089363813, 0.0010815041605383158, 0.0009504170739091933, 0.016694916412234306, 0.020682143047451973, 0.008577332831919193, 0.001048276200890541, 0.9502367973327637, 0.0], [0.001729155657812953, 0.0012739310041069984, 0.0012804717989638448, 0.000732345855794847, 0.04775579273700714, 0.05903501436114311, 0.003419737098738551, 0.8847735524177551, 0.0], [0.031328022480010986, 0.04058593884110451, 0.002538812579587102, 0.003938521258533001, 0.0074404822662472725, 0.0114755155518651, 0.009905380196869373, 0.8927872776985168, 0.0], [0.011218074709177017, 0.0225171260535717, 0.0002909168542828411, 0.004281139932572842, 0.005017885006964207, 0.0007417537271976471, 0.0010144863044843078, 0.9549186825752258, 0.0], [0.012604541145265102, 0.03177815303206444, 0.0017510739853605628, 0.000753947882913053, 0.007344392128288746, 0.0018189805559813976, 0.0019146844279021025, 0.9420341849327087, 0.0], [0.0021431127097457647, 0.0028055787552148104, 0.0009266833076253533, 0.02830316312611103, 0.005942909047007561, 0.0020154283847659826, 0.0005342260701581836, 0.9573289155960083, 0.0], [0.0037039942108094692, 0.005884487181901932, 0.008368286304175854, 0.021228298544883728, 0.013923347927629948, 0.014061921276152134, 0.006026191636919975, 0.9268035292625427, 0.0], [0.003949429374188185, 0.005683190654963255, 0.00795795675367117, 0.020207766443490982, 0.018058834597468376, 0.016428006812930107, 0.0063838837668299675, 0.9213308691978455, 0.0]], [[0.007519492879509926, 0.08331199735403061, 0.006662619300186634, 0.006457943469285965, 0.007917233742773533, 0.004677614662796259, 0.006381905172020197, 0.8770712018013, 0.0], [0.0010309092467650771, 0.008859090507030487, 0.028174208477139473, 0.00904688611626625, 0.0049282098188996315, 0.0007266951142810285, 0.00406460277736187, 0.9431694149971008, 0.0], [0.0021086654160171747, 0.0016119902720674872, 0.02024422213435173, 0.05626950412988663, 0.0030523408204317093, 0.00079410953912884, 0.0007045226520858705, 0.9152147173881531, 0.0], [0.00021625046792905778, 0.0003451817319728434, 0.002298622392117977, 0.005786420777440071, 0.19486930966377258, 0.005784034263342619, 0.0035631023347377777, 0.7871370911598206, 0.0], [0.0002150351501768455, 0.00046698874211870134, 0.0009082158212549984, 0.0018247388070449233, 0.005354718770831823, 0.17543689906597137, 0.007212856784462929, 0.8085805177688599, 0.0], [0.002539344597607851, 0.0016185118583962321, 0.0012785028666257858, 0.009004445746541023, 0.0021028181072324514, 0.006245102267712355, 0.026751495897769928, 0.9504597783088684, 0.0], [0.0012489616638049483, 0.005776220001280308, 0.00448970403522253, 0.004833718296140432, 0.010355648584663868, 0.005979584995657206, 0.013243983499705791, 0.9540721774101257, 0.0], [0.00857686810195446, 0.003742012195289135, 0.005377760622650385, 0.012935762293636799, 0.010022050701081753, 0.004796384833753109, 0.0035043915268033743, 0.9510447978973389, 0.0], [0.006950353737920523, 0.003832590999081731, 0.006566761527210474, 0.016343187540769577, 0.009746733121573925, 0.003522707847878337, 0.0023253299295902252, 0.950712263584137, 0.0]], [[0.126543790102005, 0.1697969138622284, 0.0033686826936900616, 0.023475736379623413, 0.1679784059524536, 0.004218542482703924, 0.005069556180387735, 0.49954837560653687, 0.0], [0.029719365760684013, 0.020311087369918823, 0.0016461856430396438, 0.01950007490813732, 0.07506401836872101, 0.0011375928297638893, 0.0005185780464671552, 0.852103054523468, 0.0], [0.008028320968151093, 0.009123335592448711, 0.014041997492313385, 0.004439333453774452, 0.005790808238089085, 0.005036496091634035, 0.001657456741668284, 0.9518822431564331, 0.0], [0.0016596843488514423, 0.003024082398042083, 0.059276968240737915, 0.012789997272193432, 0.0027610354591161013, 0.00774538004770875, 0.00566905690357089, 0.9070738554000854, 0.0], [0.00031069331453181803, 0.0020537932869046926, 0.0049101002514362335, 0.01248200237751007, 0.01542567741125822, 0.005769170355051756, 0.00023193194647319615, 0.958816647529602, 0.0], [0.002068121684715152, 0.0017032838659361005, 0.011424009688198566, 0.007665219716727734, 0.008526166900992393, 0.027828963473439217, 0.0019396484130993485, 0.9388445615768433, 0.0], [0.0003431728109717369, 0.00025021651526913047, 0.00272521935403347, 0.05062912032008171, 0.007109027821570635, 0.02729271724820137, 0.0011702157789841294, 0.910480260848999, 0.0], [0.001491520437411964, 0.002468493999913335, 0.009233968332409859, 0.020811311900615692, 0.0066303228959441185, 0.029124774038791656, 0.009709961712360382, 0.9205296635627747, 0.0], [0.001787894987501204, 0.0029642856679856777, 0.010441496968269348, 0.020024051889777184, 0.0069936830550432205, 0.026264719665050507, 0.007994848303496838, 0.9235290288925171, 0.0]]]], \"left_text\": [\"V\", \"V\", \"T\", \"G\", \"V\", \"T\", \"A\", \"<eos>\", \"<pad>\"], \"right_text\": [\"V\", \"V\", \"T\", \"G\", \"V\", \"T\", \"A\", \"<eos>\", \"<pad>\"]}, {\"name\": \"Decoder\", \"attn\": [[[[1.0, 0.0, 0.0, 0.0, 0.0, 0.0, 0.0, 0.0], [1.0, 2.2462814383126818e-42, 0.0, 0.0, 0.0, 0.0, 0.0, 0.0], [0.0, 0.0, 1.0, 0.0, 0.0, 0.0, 0.0, 0.0], [0.0, 0.0, 1.0, 0.0, 0.0, 0.0, 0.0, 0.0], [0.0, 0.0, 0.0, 0.0, 1.0, 0.0, 0.0, 0.0], [0.0, 0.0, 0.0, 0.0, 1.0, 0.0, 0.0, 0.0], [0.0, 0.0, 0.0, 0.0, 1.0, 0.0, 0.0, 0.0], [0.0, 0.0, 0.0, 0.0, 1.0, 0.0, 0.0, 0.0]], [[1.0, 0.0, 0.0, 0.0, 0.0, 0.0, 0.0, 0.0], [1.0, 0.0, 0.0, 0.0, 0.0, 0.0, 0.0, 0.0], [0.0, 1.0, 0.0, 0.0, 0.0, 0.0, 0.0, 0.0], [0.0, 0.0, 1.0, 7.006492321624085e-45, 0.0, 0.0, 0.0, 0.0], [0.0, 0.0, 0.0, 1.0, 0.0, 0.0, 0.0, 0.0], [0.0, 0.0, 0.0, 0.0, 1.0, 0.0, 0.0, 0.0], [0.0, 0.0, 0.0, 0.0, 0.0, 1.0, 0.0, 0.0], [0.0, 0.0, 0.0, 0.0, 0.0, 0.0, 1.0, 0.0]], [[1.0, 0.0, 0.0, 0.0, 0.0, 0.0, 0.0, 0.0], [0.9604994058609009, 0.03950056806206703, 0.0, 0.0, 0.0, 0.0, 0.0, 0.0], [0.15826883912086487, 0.7833244800567627, 0.058406706899404526, 0.0, 0.0, 0.0, 0.0, 0.0], [0.004990891553461552, 0.049267444759607315, 0.9191138744354248, 0.02662784233689308, 0.0, 0.0, 0.0, 0.0], [0.10620158165693283, 0.0010528028942644596, 0.15822336077690125, 0.6623520851135254, 0.072170190513134, 0.0, 0.0, 0.0], [0.008155569434165955, 1.4128637303656433e-05, 0.0010198968229815364, 0.006146405357867479, 0.9383843541145325, 0.0462796688079834, 0.0, 0.0], [0.0036612616386264563, 2.2398134547074733e-07, 2.0931574908900075e-06, 0.00013224930444266647, 0.053884055465459824, 0.8241540193557739, 0.11816609650850296, 0.0], [0.002093835501000285, 2.9908983378845733e-07, 1.3233584184035863e-07, 8.666791018185904e-07, 0.0004974829498678446, 0.07285219430923462, 0.5710710883140564, 0.35348406434059143]], [[1.0, 0.0, 0.0, 0.0, 0.0, 0.0, 0.0, 0.0], [1.0, 0.0, 0.0, 0.0, 0.0, 0.0, 0.0, 0.0], [0.0, 0.0, 1.0, 0.0, 0.0, 0.0, 0.0, 0.0], [0.0, 0.0, 0.0, 1.0, 0.0, 0.0, 0.0, 0.0], [0.0, 0.0, 0.0, 0.0, 1.0, 0.0, 0.0, 0.0], [0.0, 0.0, 0.0, 0.0, 0.0, 1.0, 0.0, 0.0], [0.0, 0.0, 0.0, 0.0, 0.0, 0.0, 1.0, 0.0], [0.0, 0.0, 0.0, 0.0, 0.0, 0.0, 0.0, 1.0]], [[1.0, 0.0, 0.0, 0.0, 0.0, 0.0, 0.0, 0.0], [0.9998286962509155, 0.0001712262019282207, 0.0, 0.0, 0.0, 0.0, 0.0, 0.0], [0.9855778813362122, 0.014412393793463707, 9.727348697197158e-06, 0.0, 0.0, 0.0, 0.0, 0.0], [0.10405576229095459, 0.814724326133728, 0.08102811872959137, 0.00019186186545994133, 0.0, 0.0, 0.0, 0.0], [1.1660910786304157e-05, 0.0032161776907742023, 0.970367968082428, 0.026402030140161514, 2.140332753697294e-06, 0.0, 0.0, 0.0], [4.845381873508359e-10, 1.4766113736186526e-06, 0.11957218497991562, 0.873715341091156, 0.006710948888212442, 9.93500819390647e-08, 0.0, 0.0], [1.013220149761104e-16, 9.627372243327641e-15, 2.3957289485565525e-08, 0.016413651406764984, 0.9627257585525513, 0.02086051180958748, 2.848055302706598e-08, 0.0], [6.55528929245479e-27, 1.6614182961862208e-27, 3.978014155550512e-21, 1.0312091458519745e-11, 0.0004093918832950294, 0.9985122084617615, 0.001078433240763843, 1.5062766312023967e-10]], [[1.0, 0.0, 0.0, 0.0, 0.0, 0.0, 0.0, 0.0], [1.0, 1.9950288877523003e-30, 0.0, 0.0, 0.0, 0.0, 0.0, 0.0], [2.2884465091042155e-40, 1.0, 1.4058152141285238e-24, 0.0, 0.0, 0.0, 0.0, 0.0], [0.0, 1.0594239287688645e-20, 1.0, 9.654913519607615e-16, 0.0, 0.0, 0.0, 0.0], [0.0, 0.0, 1.002703162366786e-25, 1.0, 3.171031007500235e-22, 0.0, 0.0, 0.0], [0.0, 0.0, 0.0, 1.9120458279613686e-31, 1.0, 2.215749481358902e-20, 0.0, 0.0], [0.0, 0.0, 0.0, 0.0, 1.2122266180628434e-23, 1.0, 2.744920539092971e-19, 0.0], [0.0, 0.0, 0.0, 0.0, 0.0, 3.552975297221039e-35, 1.0, 1.8241662959680464e-24]], [[1.0, 0.0, 0.0, 0.0, 0.0, 0.0, 0.0, 0.0], [1.0, 0.0, 0.0, 0.0, 0.0, 0.0, 0.0, 0.0], [0.0, 2.4802982818549262e-43, 1.0, 0.0, 0.0, 0.0, 0.0, 0.0], [0.0, 0.0, 0.0, 1.0, 0.0, 0.0, 0.0, 0.0], [0.0, 0.0, 0.0, 1.0, 0.0, 0.0, 0.0, 0.0], [0.0, 0.0, 0.0, 0.0, 0.0, 1.0, 0.0, 0.0], [0.0, 0.0, 0.0, 0.0, 0.0, 1.0, 3.4490511594233952e-28, 0.0], [0.0, 0.0, 0.0, 0.0, 0.0, 9.80908925027372e-45, 3.9889525051862964e-32, 1.0]], [[1.0, 0.0, 0.0, 0.0, 0.0, 0.0, 0.0, 0.0], [0.2028065323829651, 0.7971934676170349, 0.0, 0.0, 0.0, 0.0, 0.0, 0.0], [0.2814235985279083, 0.05577857047319412, 0.6627978086471558, 0.0, 0.0, 0.0, 0.0, 0.0], [0.5499498844146729, 0.026557868346571922, 0.08013440668582916, 0.3433578312397003, 0.0, 0.0, 0.0, 0.0], [0.5694552063941956, 0.03582997992634773, 0.060328949242830276, 0.1254757046699524, 0.20891010761260986, 0.0, 0.0, 0.0], [0.4835054576396942, 0.019172141328454018, 0.02661634050309658, 0.09143004566431046, 0.048294827342033386, 0.33098116517066956, 0.0, 0.0], [0.6134853363037109, 0.02031875215470791, 0.03878426551818848, 0.06545094400644302, 0.02753698080778122, 0.07199880480766296, 0.16242501139640808, 0.0], [0.5696744918823242, 0.026591813191771507, 0.041568197309970856, 0.06311319768428802, 0.018376220017671585, 0.024167586117982864, 0.047934241592884064, 0.20857416093349457]]], [[[1.0, 0.0, 0.0, 0.0, 0.0, 0.0, 0.0, 0.0], [0.9835157990455627, 0.016484137624502182, 0.0, 0.0, 0.0, 0.0, 0.0, 0.0], [0.6248724460601807, 0.37463727593421936, 0.0004903210792690516, 0.0, 0.0, 0.0, 0.0, 0.0], [0.835975706577301, 0.08098147064447403, 0.021057775244116783, 0.06198509782552719, 0.0, 0.0, 0.0, 0.0], [0.63725745677948, 0.003862598678097129, 0.009206331335008144, 0.3321358561515808, 0.01753764972090721, 0.0, 0.0, 0.0], [0.7340127825737, 0.004434346687048674, 0.004976390395313501, 0.11256151646375656, 0.1067681610584259, 0.03724677488207817, 0.0, 0.0], [0.9591043591499329, 0.0006208375561982393, 7.69426696933806e-05, 0.007632562890648842, 0.015247673727571964, 0.012237573973834515, 0.005080030765384436, 0.0], [0.9304541349411011, 0.001204383559525013, 0.0005118126864545047, 0.003518051467835903, 0.014945246279239655, 0.009376506321132183, 0.027560176327824593, 0.012429763562977314]], [[1.0, 0.0, 0.0, 0.0, 0.0, 0.0, 0.0, 0.0], [0.9919192790985107, 0.008080647327005863, 0.0, 0.0, 0.0, 0.0, 0.0, 0.0], [0.8751956820487976, 0.12005322426557541, 0.004751069005578756, 0.0, 0.0, 0.0, 0.0, 0.0], [0.8383838534355164, 0.03157752752304077, 0.10746558755636215, 0.022573059424757957, 0.0, 0.0, 0.0, 0.0], [0.7866697311401367, 0.0050446875393390656, 0.052824102342128754, 0.11151103675365448, 0.04395030438899994, 0.0, 0.0, 0.0], [0.8313796520233154, 0.013597648590803146, 0.0077538639307022095, 0.00805717334151268, 0.11808589100837708, 0.021125776693224907, 0.0, 0.0], [0.651357889175415, 0.006351839285343885, 0.0025083001237362623, 0.010213666595518589, 0.05914557725191116, 0.2555241286754608, 0.014898554421961308, 0.0], [0.7769012451171875, 0.005525579210370779, 0.005922520533204079, 0.016565460711717606, 0.03366309031844139, 0.08678170293569565, 0.06272315979003906, 0.011917205527424812]], [[1.0, 0.0, 0.0, 0.0, 0.0, 0.0, 0.0, 0.0], [0.9993165731430054, 0.0006834241794422269, 0.0, 0.0, 0.0, 0.0, 0.0, 0.0], [0.985736072063446, 0.008865589275956154, 0.005398331210017204, 0.0, 0.0, 0.0, 0.0, 0.0], [0.9041123986244202, 0.055680934339761734, 0.019112324342131615, 0.02109440229833126, 0.0, 0.0, 0.0, 0.0], [0.9037834405899048, 0.005988525226712227, 0.0035358406603336334, 0.048701588064432144, 0.037990693002939224, 0.0, 0.0, 0.0], [0.8921692371368408, 0.00915574561804533, 0.009582126513123512, 0.016322240233421326, 0.06740406155586243, 0.005366475787013769, 0.0, 0.0], [0.8127565383911133, 0.0033064871095120907, 0.0007078932248987257, 0.01462104544043541, 0.13667888939380646, 0.014000054448843002, 0.017929179593920708, 0.0], [0.6837623119354248, 0.0052499920129776, 0.0024010464549064636, 0.015739504247903824, 0.09951682388782501, 0.04179937392473221, 0.12432830780744553, 0.027202581986784935]], [[1.0, 0.0, 0.0, 0.0, 0.0, 0.0, 0.0, 0.0], [0.997238039970398, 0.0027618990279734135, 0.0, 0.0, 0.0, 0.0, 0.0, 0.0], [0.9948511719703674, 0.004092360381036997, 0.001056463923305273, 0.0, 0.0, 0.0, 0.0, 0.0], [0.9303910732269287, 0.032370809465646744, 0.006715001072734594, 0.030523153021931648, 0.0, 0.0, 0.0, 0.0], [0.9417009353637695, 0.008236220106482506, 0.02088608406484127, 0.02381398156285286, 0.005362780299037695, 0.0, 0.0, 0.0], [0.8228136301040649, 0.006595874670892954, 0.04863822087645531, 0.08983847498893738, 0.01566792093217373, 0.016445893794298172, 0.0, 0.0], [0.6016473174095154, 0.0038954445626586676, 0.009892676025629044, 0.061743758618831635, 0.16538619995117188, 0.09689782559871674, 0.060536690056324005, 0.0], [0.661734938621521, 0.008073298260569572, 0.004589394200593233, 0.0264827162027359, 0.08481968194246292, 0.08180911093950272, 0.11746474355459213, 0.01502611767500639]], [[1.0, 0.0, 0.0, 0.0, 0.0, 0.0, 0.0, 0.0], [0.9985223412513733, 0.0014776199823245406, 0.0, 0.0, 0.0, 0.0, 0.0, 0.0], [0.9282305836677551, 0.03839770331978798, 0.033371683210134506, 0.0, 0.0, 0.0, 0.0, 0.0], [0.8781004548072815, 0.014928418211638927, 0.07394533604383469, 0.03302580490708351, 0.0, 0.0, 0.0, 0.0], [0.7996442317962646, 0.002429609652608633, 0.015177025459706783, 0.17025530338287354, 0.012493797577917576, 0.0, 0.0, 0.0], [0.8448978662490845, 0.002437099115923047, 0.0026702112518250942, 0.027275988832116127, 0.10192142426967621, 0.020797422155737877, 0.0, 0.0], [0.6943091154098511, 0.0018462804146111012, 0.0019252209458500147, 0.012713749893009663, 0.05549177527427673, 0.20949749648571014, 0.024216340854763985, 0.0], [0.6721048951148987, 0.012598024681210518, 0.0068063014186918736, 0.006627372931689024, 0.015104047954082489, 0.024523135274648666, 0.23960232734680176, 0.022633861750364304]], [[1.0, 0.0, 0.0, 0.0, 0.0, 0.0, 0.0, 0.0], [0.9822449088096619, 0.017755167558789253, 0.0, 0.0, 0.0, 0.0, 0.0, 0.0], [0.962537407875061, 0.035414669662714005, 0.0020479965023696423, 0.0, 0.0, 0.0, 0.0, 0.0], [0.8456704020500183, 0.1425219476222992, 0.009419399313628674, 0.0023882705718278885, 0.0, 0.0, 0.0, 0.0], [0.7525839805603027, 0.0152613939717412, 0.1865280717611313, 0.04406117647886276, 0.0015653105219826102, 0.0, 0.0, 0.0], [0.8302904367446899, 0.03950243443250656, 0.009819011203944683, 0.0734015479683876, 0.02869962528347969, 0.018286826089024544, 0.0, 0.0], [0.5521471500396729, 0.03885932266712189, 0.015133127570152283, 0.0723007395863533, 0.055407337844371796, 0.24885150790214539, 0.017300859093666077, 0.0], [0.594245195388794, 0.03836151584982872, 0.0284742284566164, 0.06048575043678284, 0.1059165894985199, 0.0954168513417244, 0.05858001857995987, 0.018519749864935875]], [[1.0, 0.0, 0.0, 0.0, 0.0, 0.0, 0.0, 0.0], [0.9959285855293274, 0.004071390256285667, 0.0, 0.0, 0.0, 0.0, 0.0, 0.0], [0.9259911775588989, 0.06648262590169907, 0.0075261835008859634, 0.0, 0.0, 0.0, 0.0, 0.0], [0.9241878390312195, 0.06508680433034897, 0.00919693149626255, 0.0015284435357898474, 0.0, 0.0, 0.0, 0.0], [0.8954710364341736, 0.013596347533166409, 0.01172776147723198, 0.03935288265347481, 0.039851874113082886, 0.0, 0.0, 0.0], [0.5960922241210938, 0.004393912851810455, 0.0004624587018042803, 0.0072807129472494125, 0.3835657835006714, 0.008204901590943336, 0.0, 0.0], [0.8721479177474976, 0.004420778714120388, 0.00015437672846019268, 0.002520979382097721, 0.015131200663745403, 0.013748829253017902, 0.09187577664852142, 0.0], [0.8164393901824951, 0.009283866733312607, 0.003082945477217436, 0.001664889045059681, 0.008075356483459473, 0.011410076171159744, 0.10454635322093964, 0.04549715667963028]], [[1.0, 0.0, 0.0, 0.0, 0.0, 0.0, 0.0, 0.0], [0.9964906573295593, 0.003509264439344406, 0.0, 0.0, 0.0, 0.0, 0.0, 0.0], [0.9976932406425476, 0.000822218949906528, 0.0014845345867797732, 0.0, 0.0, 0.0, 0.0, 0.0], [0.7601897716522217, 0.0036041042767465115, 0.20360428094863892, 0.03260185196995735, 0.0, 0.0, 0.0, 0.0], [0.9304896593093872, 0.0019560460932552814, 0.047008711844682693, 0.009202500805258751, 0.011343096382915974, 0.0, 0.0, 0.0], [0.7658867239952087, 0.0007660459377802908, 0.02017192728817463, 0.03785069286823273, 0.17063045501708984, 0.00469424482434988, 0.0, 0.0], [0.9070665836334229, 0.0015993270790204406, 0.005857143085449934, 0.0033800844103097916, 0.0746697261929512, 0.0037897212896496058, 0.0036373690236359835, 0.0], [0.8835440278053284, 0.0035381601192057133, 0.003707403317093849, 0.007637267932295799, 0.04011102393269539, 0.01237526535987854, 0.029700346291065216, 0.01938665471971035]]], [[[1.0, 0.0, 0.0, 0.0, 0.0, 0.0, 0.0, 0.0], [0.9650675058364868, 0.034932538866996765, 0.0, 0.0, 0.0, 0.0, 0.0, 0.0], [0.32045456767082214, 0.6266271471977234, 0.05291832610964775, 0.0, 0.0, 0.0, 0.0, 0.0], [0.43319839239120483, 0.09749564528465271, 0.4257928133010864, 0.04351309686899185, 0.0, 0.0, 0.0, 0.0], [0.07753028720617294, 0.004720001481473446, 0.016670331358909607, 0.8219191431999207, 0.0791601911187172, 0.0, 0.0, 0.0], [0.1459490805864334, 0.005640855990350246, 0.012010900303721428, 0.10811256617307663, 0.5599513649940491, 0.1683352142572403, 0.0, 0.0], [0.2023920714855194, 0.00430191308259964, 0.003495209850370884, 0.06739063560962677, 0.036306221038103104, 0.17955589294433594, 0.5065580010414124, 0.0], [0.006726167164742947, 0.0004810116079170257, 0.002817489905282855, 0.0046844868920743465, 0.019125696271657944, 0.008554796688258648, 0.9165253043174744, 0.04108511656522751]], [[1.0, 0.0, 0.0, 0.0, 0.0, 0.0, 0.0, 0.0], [0.5289773344993591, 0.47102269530296326, 0.0, 0.0, 0.0, 0.0, 0.0, 0.0], [0.7464597821235657, 0.2490696758031845, 0.004470588639378548, 0.0, 0.0, 0.0, 0.0, 0.0], [0.7043574452400208, 0.19772619009017944, 0.05767787620425224, 0.04023844748735428, 0.0, 0.0, 0.0, 0.0], [0.5255283117294312, 0.004391883034259081, 0.041459254920482635, 0.24932461977005005, 0.17929595708847046, 0.0, 0.0, 0.0], [0.4057183861732483, 0.023233557119965553, 0.029514852911233902, 0.2808486819267273, 0.15251342952251434, 0.10817112028598785, 0.0, 0.0], [0.42268383502960205, 0.02122291550040245, 0.0008511939668096602, 0.0344858281314373, 0.45992782711982727, 0.03479108214378357, 0.0260371845215559, 0.0], [0.21683765947818756, 0.07214733958244324, 0.010751530528068542, 0.29852309823036194, 0.01670531928539276, 0.28666335344314575, 0.09330794215202332, 0.005063686054199934]], [[1.0, 0.0, 0.0, 0.0, 0.0, 0.0, 0.0, 0.0], [0.9967122077941895, 0.0032877700868993998, 0.0, 0.0, 0.0, 0.0, 0.0, 0.0], [0.9760320782661438, 0.022095810621976852, 0.0018721396336331964, 0.0, 0.0, 0.0, 0.0, 0.0], [0.7398888468742371, 0.2241615355014801, 0.017440730705857277, 0.018508946523070335, 0.0, 0.0, 0.0, 0.0], [0.2038218080997467, 0.039564479142427444, 0.015391680411994457, 0.7275044322013855, 0.013717502355575562, 0.0, 0.0, 0.0], [0.4058536887168884, 0.01406367588788271, 0.04548051208257675, 0.17558641731739044, 0.008855997584760189, 0.3501596450805664, 0.0, 0.0], [0.21379472315311432, 0.005343906115740538, 0.0003038001887034625, 0.10030674189329147, 0.4053040146827698, 0.25356703996658325, 0.021379688754677773, 0.0], [0.04119807481765747, 0.0016406297218054533, 0.000939690915402025, 0.04647123068571091, 0.01773250102996826, 0.8692200779914856, 0.018295714631676674, 0.004502123221755028]], [[1.0, 0.0, 0.0, 0.0, 0.0, 0.0, 0.0, 0.0], [0.9892058372497559, 0.010794160887598991, 0.0, 0.0, 0.0, 0.0, 0.0, 0.0], [0.4096786677837372, 0.04597989469766617, 0.5443413853645325, 0.0, 0.0, 0.0, 0.0, 0.0], [0.12366165220737457, 0.0003684554249048233, 0.8676294088363647, 0.008340409025549889, 0.0, 0.0, 0.0, 0.0], [0.4526441693305969, 0.0017404267564415932, 0.02965104952454567, 0.4158768355846405, 0.10008753091096878, 0.0, 0.0, 0.0], [0.553806722164154, 0.001632325816899538, 0.005156395491212606, 0.019890479743480682, 0.31745389103889465, 0.10206016153097153, 0.0, 0.0], [0.13654161989688873, 0.00010337667481508106, 0.000758589303586632, 0.0045915208756923676, 0.014994221739470959, 0.8044507503509521, 0.03855995088815689, 0.0], [0.004556747619062662, 0.00018240665667690337, 2.656071046658326e-05, 0.00037056728615425527, 0.003167972434312105, 0.030401218682527542, 0.9247465133666992, 0.036547984927892685]], [[1.0, 0.0, 0.0, 0.0, 0.0, 0.0, 0.0, 0.0], [0.9995651841163635, 0.0004347858775872737, 0.0, 0.0, 0.0, 0.0, 0.0, 0.0], [0.9960477948188782, 0.003275123657658696, 0.0006770440377295017, 0.0, 0.0, 0.0, 0.0, 0.0], [0.8780504465103149, 0.10481435060501099, 0.016688039526343346, 0.00044719409197568893, 0.0, 0.0, 0.0, 0.0], [0.13763286173343658, 0.034754011780023575, 0.5365051031112671, 0.28932055830955505, 0.0017873842734843493, 0.0, 0.0, 0.0], [0.07229142636060715, 0.0006322328699752688, 0.025177234783768654, 0.8981596231460571, 0.0005585674662142992, 0.0031809634529054165, 0.0, 0.0], [0.05337614566087723, 0.006862177513539791, 0.002546201692894101, 0.010149192996323109, 0.6596227884292603, 0.09806142002344131, 0.16938206553459167, 0.0], [0.002054678974673152, 0.0004809811362065375, 0.0006869944627396762, 0.010070707648992538, 0.028019431978464127, 0.087330162525177, 0.8709144592285156, 0.000442581920651719]], [[1.0, 0.0, 0.0, 0.0, 0.0, 0.0, 0.0, 0.0], [0.9555383324623108, 0.044461626559495926, 0.0, 0.0, 0.0, 0.0, 0.0, 0.0], [0.8602166175842285, 0.13514578342437744, 0.00463765999302268, 0.0, 0.0, 0.0, 0.0, 0.0], [0.4900975227355957, 0.032350264489650726, 0.47112202644348145, 0.006430167239159346, 0.0, 0.0, 0.0, 0.0], [0.5899673104286194, 0.08609521389007568, 0.14961004257202148, 0.1146828904747963, 0.05964462086558342, 0.0, 0.0, 0.0], [0.11809013038873672, 0.00147531577385962, 0.0009538035374134779, 0.02769416943192482, 0.841133713722229, 0.010652925819158554, 0.0, 0.0], [0.11936894059181213, 0.0015644460218027234, 0.024873819202184677, 0.01673579029738903, 0.6536397933959961, 0.17322760820388794, 0.010589520446956158, 0.0], [0.18974089622497559, 0.0011325179366394877, 0.03834940493106842, 0.002025134861469269, 0.3022291660308838, 0.3521871566772461, 0.054928623139858246, 0.059407055377960205]], [[1.0, 0.0, 0.0, 0.0, 0.0, 0.0, 0.0, 0.0], [0.9926839470863342, 0.007316099014133215, 0.0, 0.0, 0.0, 0.0, 0.0, 0.0], [0.1444702446460724, 0.6689537167549133, 0.18657605350017548, 0.0, 0.0, 0.0, 0.0, 0.0], [0.07946249097585678, 0.0066713569685816765, 0.9103384613990784, 0.0035277174320071936, 0.0, 0.0, 0.0, 0.0], [0.3410564363002777, 0.00959539134055376, 0.5747078657150269, 0.019128940999507904, 0.05551129952073097, 0.0, 0.0, 0.0], [0.4010857343673706, 0.0016227001324295998, 0.14486323297023773, 0.016862183809280396, 0.39136284589767456, 0.04420330375432968, 0.0, 0.0], [0.4917221665382385, 0.0010664481669664383, 0.06347426027059555, 0.2770378291606903, 0.06575477868318558, 0.05117052420973778, 0.04977401718497276, 0.0], [0.12993498146533966, 0.00030893587972968817, 0.04226433113217354, 0.27490368485450745, 0.2379555106163025, 0.10019581019878387, 0.2062736451625824, 0.008163132704794407]], [[1.0, 0.0, 0.0, 0.0, 0.0, 0.0, 0.0, 0.0], [0.9627530574798584, 0.037246931344270706, 0.0, 0.0, 0.0, 0.0, 0.0, 0.0], [0.8978430032730103, 0.06069708243012428, 0.04145989939570427, 0.0, 0.0, 0.0, 0.0, 0.0], [0.5408993363380432, 0.4024154841899872, 0.04536893963813782, 0.01131622027605772, 0.0, 0.0, 0.0, 0.0], [0.3977753818035126, 0.016754042357206345, 0.044318098574876785, 0.47621211409568787, 0.06494038552045822, 0.0, 0.0, 0.0], [0.23201318085193634, 0.03400856629014015, 0.0024320364464074373, 0.03676972910761833, 0.6599962115287781, 0.03478024899959564, 0.0, 0.0], [0.046825021505355835, 0.00022342981537804008, 0.00896572694182396, 0.30332711338996887, 0.011322462931275368, 0.6160197854042053, 0.013316435739398003, 0.0], [0.0638836920261383, 9.33243427425623e-05, 0.02125164121389389, 0.4368171691894531, 0.042897798120975494, 0.23794396221637726, 0.16323761641979218, 0.03387480974197388]]], [[[1.0, 0.0, 0.0, 0.0, 0.0, 0.0, 0.0, 0.0], [0.1418083906173706, 0.8581916689872742, 0.0, 0.0, 0.0, 0.0, 0.0, 0.0], [0.4960503876209259, 0.1825355738401413, 0.321414053440094, 0.0, 0.0, 0.0, 0.0, 0.0], [0.15439119935035706, 0.0610220767557621, 0.1207740381360054, 0.6638126969337463, 0.0, 0.0, 0.0, 0.0], [0.24235820770263672, 0.27067404985427856, 0.0010218595853075385, 0.43885931372642517, 0.04708661511540413, 0.0, 0.0, 0.0], [0.010938353836536407, 0.023302795365452766, 0.008397779427468777, 0.8907273411750793, 0.0055325450375676155, 0.06110116094350815, 0.0, 0.0], [0.05066341161727905, 0.03978918492794037, 0.0014681199099868536, 0.3738301396369934, 0.1447388380765915, 0.3757930099964142, 0.01371734868735075, 0.0], [0.713167130947113, 0.06646011024713516, 0.026335911825299263, 0.021425874903798103, 0.02155951038002968, 0.003780514234676957, 0.015135656110942364, 0.13213534653186798]], [[1.0, 0.0, 0.0, 0.0, 0.0, 0.0, 0.0, 0.0], [0.9982870221138, 0.0017129307379946113, 0.0, 0.0, 0.0, 0.0, 0.0, 0.0], [0.8773615956306458, 0.0136038176715374, 0.10903459787368774, 0.0, 0.0, 0.0, 0.0, 0.0], [0.8040584325790405, 0.02501475065946579, 0.04193485528230667, 0.1289920210838318, 0.0, 0.0, 0.0, 0.0], [0.17677493393421173, 0.21526651084423065, 0.17159968614578247, 0.04754938557744026, 0.38880956172943115, 0.0, 0.0, 0.0], [0.00761379161849618, 0.0002375207404838875, 0.0006029067444615066, 0.010562192648649216, 0.9808820486068726, 0.00010162894614040852, 0.0, 0.0], [0.021762019023299217, 3.0321150916279294e-05, 0.002910923445597291, 0.2421654313802719, 0.7284016609191895, 0.0027098667342215776, 0.002019783714786172, 0.0], [0.2007034420967102, 0.0006123353959992528, 0.07141394913196564, 0.009563744068145752, 0.20054037868976593, 0.04073581472039223, 0.4241841435432434, 0.052246108651161194]], [[1.0, 0.0, 0.0, 0.0, 0.0, 0.0, 0.0, 0.0], [0.8589006662368774, 0.14109936356544495, 0.0, 0.0, 0.0, 0.0, 0.0, 0.0], [0.9658491015434265, 0.02259928174316883, 0.011551544070243835, 0.0, 0.0, 0.0, 0.0, 0.0], [0.4867764115333557, 0.03498125821352005, 0.1287531852722168, 0.3494892418384552, 0.0, 0.0, 0.0, 0.0], [0.527608335018158, 0.3700530529022217, 0.00961549673229456, 0.09047868847846985, 0.002244366565719247, 0.0, 0.0, 0.0], [0.38305971026420593, 0.08835494518280029, 0.0057602827437222, 0.4481482207775116, 0.06901635974645615, 0.005660506896674633, 0.0, 0.0], [0.7413314580917358, 0.18607157468795776, 0.0075849988497793674, 0.007063118740916252, 0.017574816942214966, 0.039076562970876694, 0.0012974459677934647, 0.0], [0.45873400568962097, 0.03506713733077049, 0.07638300955295563, 0.028580207377672195, 0.2387140393257141, 0.01068525854498148, 0.011637846007943153, 0.14019843935966492]], [[1.0, 0.0, 0.0, 0.0, 0.0, 0.0, 0.0, 0.0], [0.9741687178611755, 0.0258311964571476, 0.0, 0.0, 0.0, 0.0, 0.0, 0.0], [0.5111456513404846, 0.4882705807685852, 0.000583832326810807, 0.0, 0.0, 0.0, 0.0, 0.0], [0.5221339464187622, 0.2908651530742645, 0.007243745494633913, 0.17975713312625885, 0.0, 0.0, 0.0, 0.0], [0.01290510781109333, 0.0023578600957989693, 0.004490371327847242, 0.9779320359230042, 0.002314717508852482, 0.0, 0.0, 0.0], [0.7471922636032104, 0.004571669269353151, 0.030687622725963593, 0.06688130646944046, 0.0615725964307785, 0.08909454941749573, 0.0, 0.0], [0.10358532518148422, 0.008116290904581547, 0.003415851853787899, 0.4050486981868744, 0.005832667462527752, 0.31562021374702454, 0.15838104486465454, 0.0], [0.20751136541366577, 0.0007009607506915927, 0.01135397981852293, 0.003052394138649106, 0.14912965893745422, 0.051783669739961624, 0.5646157264709473, 0.01185227558016777]], [[1.0, 0.0, 0.0, 0.0, 0.0, 0.0, 0.0, 0.0], [0.8428134322166443, 0.15718652307987213, 0.0, 0.0, 0.0, 0.0, 0.0, 0.0], [0.3958456516265869, 0.585610568523407, 0.01854374259710312, 0.0, 0.0, 0.0, 0.0, 0.0], [0.06973189860582352, 0.06855475902557373, 0.8593201637268066, 0.002393146511167288, 0.0, 0.0, 0.0, 0.0], [0.5742790102958679, 0.017476044595241547, 0.04250100627541542, 0.30771178007125854, 0.05803212895989418, 0.0, 0.0, 0.0], [0.08082393556833267, 0.02839798666536808, 0.020000047981739044, 0.00971856340765953, 0.3057232201099396, 0.5553362965583801, 0.0, 0.0], [0.21569770574569702, 0.010773872956633568, 0.0845598578453064, 0.06885530054569244, 0.5400466322898865, 0.031018421053886414, 0.04904813691973686, 0.0], [0.48615509271621704, 0.0075877816416323185, 0.010700788348913193, 0.013270602561533451, 0.3558867275714874, 0.05376071855425835, 0.009034501388669014, 0.06360384821891785]], [[1.0, 0.0, 0.0, 0.0, 0.0, 0.0, 0.0, 0.0], [0.9790105819702148, 0.020989377051591873, 0.0, 0.0, 0.0, 0.0, 0.0, 0.0], [0.9376208782196045, 0.053077150136232376, 0.009301995858550072, 0.0, 0.0, 0.0, 0.0, 0.0], [0.159297376871109, 0.7920405864715576, 0.04263583943247795, 0.006026210263371468, 0.0, 0.0, 0.0, 0.0], [0.420055091381073, 0.020701607689261436, 0.0024442365393042564, 0.43181559443473816, 0.12498347461223602, 0.0, 0.0, 0.0], [0.21185874938964844, 0.00693309074267745, 0.008190872147679329, 0.026740627363324165, 0.003222094848752022, 0.7430545687675476, 0.0, 0.0], [0.5716597437858582, 0.004582419525831938, 0.06149764358997345, 0.01913621835410595, 0.04175595939159393, 0.20435994863510132, 0.09700817614793777, 0.0], [0.2891212999820709, 0.12161286175251007, 0.0029753735288977623, 0.04787307605147362, 0.10215037316083908, 0.0321175791323185, 0.4007871448993683, 0.0033623017370700836]], [[1.0, 0.0, 0.0, 0.0, 0.0, 0.0, 0.0, 0.0], [0.9928128123283386, 0.007187194190919399, 0.0, 0.0, 0.0, 0.0, 0.0, 0.0], [0.8885430693626404, 0.09945801645517349, 0.011998877860605717, 0.0, 0.0, 0.0, 0.0, 0.0], [0.8096309304237366, 0.028467940166592598, 0.15427052974700928, 0.007630603387951851, 0.0, 0.0, 0.0, 0.0], [0.28627809882164, 0.003135479986667633, 0.17130117118358612, 0.4989073872566223, 0.04037778079509735, 0.0, 0.0, 0.0], [0.11719753593206406, 0.007359722629189491, 0.219379261136055, 0.028252461925148964, 0.029489096254110336, 0.5983218550682068, 0.0, 0.0], [0.04813206195831299, 0.003994723781943321, 0.08034256845712662, 0.007253062911331654, 0.008240423165261745, 0.43627333641052246, 0.41576382517814636, 0.0], [0.06253636628389359, 0.00020330944971647114, 0.0060523985885083675, 0.00014072065823711455, 0.049281615763902664, 0.20197263360023499, 0.003321882337331772, 0.6764910221099854]], [[1.0, 0.0, 0.0, 0.0, 0.0, 0.0, 0.0, 0.0], [0.9790372848510742, 0.020962703973054886, 0.0, 0.0, 0.0, 0.0, 0.0, 0.0], [0.9461640119552612, 0.04374922066926956, 0.010086704045534134, 0.0, 0.0, 0.0, 0.0, 0.0], [0.24197344481945038, 0.002285253955051303, 0.13920846581459045, 0.6165328025817871, 0.0, 0.0, 0.0, 0.0], [0.2397938072681427, 0.015667734667658806, 0.3203606903553009, 0.38068556785583496, 0.04349224269390106, 0.0, 0.0, 0.0], [0.625575065612793, 0.023692313581705093, 0.20243224501609802, 0.06754431128501892, 0.0653720274567604, 0.015384005382657051, 0.0, 0.0], [0.19343283772468567, 0.041337382048368454, 0.015009284019470215, 0.23340950906276703, 0.05165985971689224, 0.3663201630115509, 0.098830945789814, 0.0], [0.022369101643562317, 0.00018198788166046143, 0.0031656224746257067, 0.004356302786618471, 0.013299309648573399, 0.9518834352493286, 0.004087431821972132, 0.0006568176322616637]]]], \"left_text\": [\"E\", \"F\", \"L\", \"C\", \"L\", \"A\", \"A\", \"<eos>\"], \"right_text\": [\"E\", \"F\", \"L\", \"C\", \"L\", \"A\", \"A\", \"<eos>\"]}, {\"name\": \"Cross\", \"attn\": [[[[0.9846152663230896, 0.014208759181201458, 0.00039051941712386906, 6.731546454830095e-05, 7.801060746714938e-06, 0.00010183086851611733, 0.00032401896896772087, 0.00028440155438147485, 0.0], [0.013627043925225735, 0.9468741416931152, 0.037669386714696884, 0.00016524913371540606, 3.1827310067455983e-06, 6.055137419025414e-06, 0.00022676255321130157, 0.001428109360858798, 0.0], [3.935773565899581e-05, 0.002822414506226778, 0.9937591552734375, 0.0031293779611587524, 2.776254461878125e-07, 8.1453332967385e-09, 3.4883036903465836e-08, 0.0002494833606760949, 0.0], [0.000629791000392288, 0.0006863911403343081, 0.16506215929985046, 0.791562020778656, 0.039722416549921036, 1.868914637270791e-06, 1.4772561840459275e-08, 0.0023352992720901966, 0.0], [3.203487040082109e-07, 1.1819503242804785e-07, 2.7278038032818586e-06, 0.009567820467054844, 0.9670725464820862, 0.02316748909652233, 3.2988219800245133e-07, 0.0001886581303551793, 0.0], [4.127817192056682e-06, 9.03630052562221e-07, 1.1270787858563835e-08, 2.7200821151041055e-08, 0.000634524505585432, 0.9989176988601685, 0.0003443732566665858, 9.841663995757699e-05, 0.0], [6.0683360061375424e-06, 2.3310090000450145e-06, 3.2572300412425648e-09, 4.7863751156951295e-11, 5.392329360809356e-10, 0.0008129885536618531, 0.9812927842140198, 0.017885733395814896, 0.0], [6.631221913266927e-05, 0.0001221111451741308, 1.1241260011729537e-07, 2.2143205238162045e-12, 2.2754570275262172e-15, 6.245676892335794e-11, 0.027835356071591377, 0.9719761610031128, 0.0]], [[0.00022094775340519845, 0.00011922261182917282, 0.00020185687753837556, 0.9947980642318726, 0.0009928346844390035, 1.2194546798127703e-05, 0.0007573417387902737, 0.002897437196224928, 0.0], [0.1431579291820526, 0.0982641875743866, 0.011479102075099945, 0.6678304076194763, 0.022159654647111893, 0.00011778785847127438, 0.008121838793158531, 0.048869092017412186, 0.0], [0.23973293602466583, 0.2894355058670044, 0.011322417296469212, 0.3032149076461792, 0.024000946432352066, 0.0002366574335610494, 0.03271779417991638, 0.09933880716562271, 0.0], [0.0011480612447485328, 0.004708875436335802, 0.0039835418574512005, 0.9185212850570679, 0.0030539364088326693, 7.427976379403844e-05, 0.008484330028295517, 0.06002571061253548, 0.0], [0.0011448799632489681, 0.0023353612050414085, 0.002279455540701747, 0.8413272500038147, 0.034519538283348083, 0.0007788458024151623, 0.04245603084564209, 0.07515861093997955, 0.0], [0.00012273371976334602, 0.00018142569751944393, 0.006085734348744154, 0.5848883390426636, 0.052825912833213806, 0.00722177978605032, 0.21575678884983063, 0.1329173594713211, 0.0], [0.00016535463510081172, 5.2363215218065307e-05, 0.0005394311156123877, 0.10334286093711853, 0.017338985577225685, 0.008985179476439953, 0.7490835189819336, 0.12049233913421631, 0.0], [6.847457552794367e-05, 3.8243862945819274e-05, 0.00010616266081342474, 0.026844821870326996, 0.002428914187476039, 0.0008641283493489027, 0.9049254059791565, 0.06472384184598923, 0.0]], [[0.017653917893767357, 0.008433224633336067, 0.003324887715280056, 0.23600827157497406, 0.009452606551349163, 0.003512623952701688, 0.001301956595852971, 0.7203124761581421, 0.0], [0.7846659421920776, 0.03874431550502777, 0.0010085109388455749, 0.05400782451033592, 0.009478996507823467, 0.0022269354667514563, 0.007759825326502323, 0.10210761427879333, 0.0], [0.44903433322906494, 0.42572832107543945, 0.028145311400294304, 0.003927017096430063, 0.0007774433470331132, 0.0023587720934301615, 0.028889333829283714, 0.06113949045538902, 0.0], [0.04657448083162308, 0.358346551656723, 0.1823177933692932, 0.30123764276504517, 0.0008583604940213263, 0.00028389031649567187, 0.004804966039955616, 0.10557636618614197, 0.0], [0.0011217152932658792, 0.01078470516949892, 0.1534995585680008, 0.7726646065711975, 0.006528148427605629, 0.0013515850296244025, 0.0006857310072518885, 0.05336398631334305, 0.0], [0.0006902528111822903, 0.001020788331516087, 0.013633324764668941, 0.8501408696174622, 0.09277810156345367, 0.0030128152575343847, 0.0008244473137892783, 0.03789932280778885, 0.0], [0.0005725719383917749, 0.00012495217379182577, 0.0011992909712716937, 0.13107013702392578, 0.5750265121459961, 0.2545827329158783, 0.010159873403608799, 0.027263907715678215, 0.0], [0.00040477555012330413, 4.896063546766527e-05, 4.518209971138276e-05, 0.003998999949544668, 0.05214061588048935, 0.8077628016471863, 0.12309308350086212, 0.012505530379712582, 0.0]], [[0.014235840179026127, 0.10432800650596619, 0.6368729472160339, 0.16852252185344696, 0.010311060585081577, 0.02587220072746277, 0.0010817261645570397, 0.038775764405727386, 0.0], [0.0008206768543459475, 0.0014328407123684883, 0.07015234977006912, 0.8570513725280762, 0.0364132896065712, 0.0037875401321798563, 5.530362977879122e-05, 0.0302866343408823, 0.0], [0.001896967296488583, 0.0012875116663053632, 0.00203547696582973, 0.06479198485612869, 0.7119176387786865, 0.1400127410888672, 0.0009578304016031325, 0.07709992676973343, 0.0], [0.04299371317028999, 0.03730744868516922, 0.0037242963444441557, 0.0032605817541480064, 0.16219188272953033, 0.4610063433647156, 0.05338578298687935, 0.23612992465496063, 0.0], [0.01760653592646122, 0.03182359039783478, 0.0013442900963127613, 0.001029958133585751, 0.002053775591775775, 0.06772328168153763, 0.3874061703681946, 0.4910123944282532, 0.0], [0.011248860508203506, 0.07940137386322021, 0.02675224095582962, 0.01104088593274355, 0.003798846388235688, 0.001349649508483708, 0.10985741019248962, 0.7565507292747498, 0.0], [0.007379768881946802, 0.027135083451867104, 0.021959790959954262, 0.05582427978515625, 0.006686371751129627, 0.0002754496817942709, 0.01068640686571598, 0.8700528740882874, 0.0], [0.00527042243629694, 0.0057242801412940025, 0.012172178365290165, 0.06319623440504074, 0.042959731072187424, 0.0003217608609702438, 0.004927264526486397, 0.8654281497001648, 0.0]], [[0.00011080154945375398, 2.303235487488564e-05, 1.9188926671631634e-05, 0.9987412095069885, 8.156910553225316e-06, 1.7876887795864604e-05, 1.0778074283734895e-05, 0.0010688826441764832, 0.0], [0.00021843149443157017, 0.0004426683590281755, 0.00041003627120517194, 0.9973969459533691, 1.252800643669616e-06, 2.0495508579188026e-06, 5.615769259748049e-05, 0.001472416683100164, 0.0], [0.0013723138254135847, 0.006823987700045109, 0.0422859787940979, 0.8681706786155701, 0.0031967556569725275, 0.0011831235606223345, 0.0011325195664539933, 0.07583460956811905, 0.0], [9.999309986596927e-05, 0.00010352923709433526, 0.0030016046948730946, 0.8980429172515869, 0.0029515556525439024, 0.0031204696279019117, 0.0004414600261952728, 0.09223856776952744, 0.0], [0.00025836698478087783, 0.0009303383994847536, 0.0004603875568136573, 0.6926373243331909, 0.07801494002342224, 0.013944880105555058, 0.017391830682754517, 0.1963619887828827, 0.0], [8.234468259615824e-05, 3.5211178328609094e-05, 0.0003449032665230334, 0.15719634294509888, 0.004942396655678749, 0.3355896472930908, 0.12935970723628998, 0.3724493980407715, 0.0], [0.0019227167358621955, 0.002536824671551585, 0.002073290990665555, 0.0001381636393489316, 0.011828587390482426, 0.7524274587631226, 0.08707866072654724, 0.14199437201023102, 0.0], [0.005255476105958223, 0.008018430322408676, 0.007864299230277538, 0.0005473765195347369, 0.004053918179124594, 0.22342874109745026, 0.1690302938222885, 0.5818014740943909, 0.0]], [[0.008715590462088585, 0.08621354401111603, 0.8711946606636047, 0.0027434160001575947, 0.0023256440181285143, 0.006632830016314983, 1.851562956289854e-05, 0.022155828773975372, 0.0], [0.019711114466190338, 0.027713097631931305, 0.9187248349189758, 0.005273320246487856, 0.000960896722972393, 0.0031941658817231655, 6.972206028876826e-05, 0.024352816864848137, 0.0], [0.018699655309319496, 0.07511855661869049, 0.8458500504493713, 0.015179703012108803, 0.016196932643651962, 0.0021590825635939837, 0.0011674416018649936, 0.025628579780459404, 0.0], [0.008986186236143112, 0.038534291088581085, 0.4966467022895813, 0.02117917500436306, 0.07471111416816711, 0.23348751664161682, 0.006186284124851227, 0.12026875466108322, 0.0], [0.036339160054922104, 0.019112344831228256, 0.07492805272340775, 0.010612616315484047, 0.10859876871109009, 0.39899352192878723, 0.014619698747992516, 0.3367958664894104, 0.0], [0.0008107333560474217, 0.0007473691366612911, 0.006149260327219963, 0.0029836208559572697, 0.13725526630878448, 0.5498793721199036, 0.11604154855012894, 0.18613286316394806, 0.0], [0.0031006732024252415, 0.004050347022712231, 0.011351658031344414, 0.0005139665445312858, 0.046584613621234894, 0.5753718614578247, 0.045477673411369324, 0.31354907155036926, 0.0], [0.006812429986894131, 0.009223372675478458, 0.008153676055371761, 0.0030972857493907213, 0.03918079659342766, 0.31132248044013977, 0.08984893560409546, 0.5323610305786133, 0.0]], [[0.03298507258296013, 0.00013344247417990118, 6.0506604313559365e-06, 1.5152460036915727e-05, 1.6393547412008047e-05, 4.814897692995146e-06, 6.50627953291405e-06, 0.9668325781822205, 0.0], [0.9719923734664917, 0.01744384691119194, 6.967228546272963e-05, 2.7528683403943432e-06, 9.171547389996704e-06, 0.0006657798076048493, 0.005490458104759455, 0.004325988702476025, 0.0], [0.013731235638260841, 0.8365666270256042, 0.14905087649822235, 4.422890197020024e-05, 1.0799080740753197e-08, 6.023430501045368e-07, 1.5321467799367383e-05, 0.0005911029875278473, 0.0], [4.3076764995930716e-05, 0.003828271757811308, 0.988064706325531, 0.006120078731328249, 1.2621699170267675e-06, 1.1131203336844919e-07, 7.243492063935264e-07, 0.0019416703144088387, 0.0], [1.0370158634032123e-06, 7.769472176732961e-06, 0.17739713191986084, 0.7623664736747742, 0.05029970780014992, 0.00019393049296922982, 2.0728621166199446e-06, 0.00973181240260601, 0.0], [4.011154430827446e-07, 1.6500818844633613e-07, 0.00012778083328157663, 0.01132222916930914, 0.8797228932380676, 0.10726098716259003, 7.876453310018405e-06, 0.001557780778966844, 0.0], [5.259943236524123e-07, 2.846355329211292e-08, 1.959802453654902e-08, 1.1059081543862703e-06, 0.006046994589269161, 0.9901081323623657, 0.0032245824113488197, 0.0006186526152305305, 0.0], [8.721466656425036e-06, 6.096336164773675e-07, 1.562697704571292e-08, 2.6139470588049107e-09, 1.2014745607302757e-06, 0.10602720081806183, 0.8907264471054077, 0.003235775511711836, 0.0]], [[0.04622030258178711, 0.02247983030974865, 0.23420028388500214, 0.014778848737478256, 0.30188095569610596, 0.206772580742836, 0.0004667314642574638, 0.17320047318935394, 0.0], [0.1435825377702713, 0.4759412407875061, 0.1892150640487671, 0.0283560398966074, 0.02761421725153923, 0.0026879191864281893, 0.0022155686747282743, 0.13038744032382965, 0.0], [0.06036466360092163, 0.16455695033073425, 0.28971433639526367, 0.4163492023944855, 0.006333714351058006, 0.008921356871724129, 0.006381393875926733, 0.04737834259867668, 0.0], [0.009806073270738125, 0.0121820829808712, 0.3820895254611969, 0.1843976527452469, 0.153818741440773, 0.0872129425406456, 0.002521604299545288, 0.16797147691249847, 0.0], [0.0006734898779541254, 0.0019821501336991787, 0.005601264536380768, 0.2664636969566345, 0.24817189574241638, 0.08675011247396469, 0.05711878836154938, 0.3332386314868927, 0.0], [0.0008287797099910676, 0.00016323888849001378, 0.0003255234914831817, 0.005721337627619505, 0.04015658423304558, 0.7537771463394165, 0.06704775989055634, 0.13197961449623108, 0.0], [9.437513654120266e-05, 9.206453250953928e-05, 0.000346788001479581, 0.0021568110678344965, 0.0038930452428758144, 0.26842066645622253, 0.08278946578502655, 0.6422067880630493, 0.0], [0.00022285987506620586, 0.0002123823796864599, 0.0004734083195216954, 0.0005646733334288001, 0.0009517683065496385, 0.059959277510643005, 0.04621138796210289, 0.8914042711257935, 0.0]]], [[[0.035107534378767014, 0.6116145849227905, 0.0033066170290112495, 0.28296762704849243, 0.0520898662507534, 8.366860697606171e-07, 0.0004681156133301556, 0.014444989152252674, 0.0], [0.006318942178040743, 0.002380356192588806, 0.00015114744019228965, 0.20405416190624237, 0.7729780077934265, 6.870531069580466e-05, 0.0004164162673987448, 0.013632211834192276, 0.0], [0.004705915227532387, 0.0019650219473987818, 2.2751022697775625e-05, 0.03809213265776634, 0.8254532217979431, 0.0011320917401462793, 0.04410918429493904, 0.08451970666646957, 0.0], [0.0019105917308479548, 0.00018552690744400024, 2.303269866388291e-06, 0.00018795405048877, 0.3507331311702728, 0.00797010026872158, 0.11676568537950516, 0.5222448110580444, 0.0], [0.0005853939219377935, 0.00015458320558536798, 6.517777364933863e-05, 0.0004731865774374455, 0.0008737354655750096, 0.001585308345966041, 0.0953705832362175, 0.9008920788764954, 0.0], [0.001235111034475267, 0.000507969583850354, 0.00023911612515803427, 3.953534906031564e-05, 0.0069080013781785965, 0.0020302371121942997, 0.05131705105304718, 0.9377229809761047, 0.0], [0.0004991036257706583, 0.0008368246490135789, 0.001822599908336997, 0.0002622081956360489, 0.0015099534066393971, 0.0009888020576909184, 0.18351133167743683, 0.810569167137146, 0.0], [0.0015563939232379198, 0.0010050113778561354, 0.00024772758479230106, 0.0031926268711686134, 0.02021118253469467, 0.0019807445351034403, 0.054919470101594925, 0.9168868660926819, 0.0]], [[7.401093975188788e-17, 9.511313326604696e-40, 0.0, 3.0828566215145976e-44, 3.0101761444466476e-35, 0.0, 0.0, 1.0, 0.0], [1.0, 3.9059527834339747e-10, 3.289748646482445e-30, 1.310979854867555e-30, 4.4120151240547265e-18, 8.816671351330463e-13, 9.27406263763475e-13, 6.161153333936013e-15, 0.0], [2.960748868297003e-10, 1.0, 1.7814090480516853e-10, 1.296889025409107e-29, 7.462054452376083e-41, 2.361609733914636e-32, 3.240461917877459e-16, 1.9478069078304804e-19, 0.0], [4.493798264422691e-20, 3.863815489779654e-09, 1.0, 2.794260656191483e-10, 4.5015199702190184e-27, 3.830101018143011e-31, 1.732477860701204e-23, 9.36328169714196e-18, 0.0], [5.880627357931174e-23, 1.256768301070633e-20, 3.545918836334039e-10, 1.0, 9.11151154525669e-09, 6.862408496815918e-25, 1.1922694413791434e-28, 3.331868260770545e-15, 0.0], [1.2630438069541688e-22, 1.5508080950271786e-26, 1.7502537367950921e-23, 1.5193398622548315e-11, 1.0, 7.428330728309618e-10, 3.270966683764019e-22, 1.5932963964770063e-15, 0.0], [3.0352292968640345e-22, 4.180490463352502e-28, 8.097867441483472e-33, 2.270418352645298e-25, 3.267898104897249e-11, 1.0, 3.7629526773198807e-13, 2.835268355086195e-16, 0.0], [2.1740914190465643e-12, 2.0940319790663242e-12, 2.003662901703912e-22, 3.937938911637991e-25, 2.9555128955293084e-21, 9.764793418298723e-08, 0.9999998807907104, 1.3576925694813724e-10, 0.0]], [[7.948924296563575e-10, 2.415560516055848e-07, 0.9999997615814209, 1.067307664470718e-08, 1.1014629761770426e-19, 1.3375929749843703e-20, 1.5557418905649129e-13, 1.3051357613513137e-16, 0.0], [0.0032531251199543476, 0.0008321457426063716, 0.008323521353304386, 0.961513340473175, 0.0147956358268857, 7.336824637604877e-06, 1.155508243755321e-06, 0.011273668147623539, 0.0], [0.0010803983313962817, 0.0003168622497469187, 0.00034142317599616945, 0.007589494343847036, 0.9305221438407898, 0.02151424251496792, 1.0498736628505867e-05, 0.03862489014863968, 0.0], [0.007807794958353043, 0.0021432877983897924, 0.0003715227067004889, 0.0012854024535045028, 0.18541474640369415, 0.3941737413406372, 0.006426488049328327, 0.40237709879875183, 0.0], [0.008946195244789124, 0.0023121791891753674, 0.001755651319399476, 0.0013225623406469822, 0.00061554997228086, 0.012137718498706818, 0.21432945132255554, 0.7585806846618652, 0.0], [0.004659260623157024, 0.004190762527287006, 0.001103375107049942, 0.0018535028211772442, 0.00048214333946816623, 7.849530084058642e-05, 0.005796089302748442, 0.9818363785743713, 0.0], [0.009562550112605095, 0.021946365013718605, 0.0036831034813076258, 0.0010771132074296474, 0.0005899271345697343, 0.00018404315051157027, 0.0014427312416955829, 0.9615141153335571, 0.0], [0.03507580980658531, 0.03979235142469406, 0.002631767885759473, 0.0044222441501915455, 0.02469586580991745, 0.003580226330086589, 0.0012766171712428331, 0.8885250687599182, 0.0]], [[0.015420466661453247, 0.9713507294654846, 0.00811836589127779, 0.0003938401350751519, 6.435903924284503e-05, 3.892858876497485e-05, 0.0001630508340895176, 0.004450300708413124, 0.0], [3.5844368539983407e-06, 0.0009768365416675806, 0.998775064945221, 0.00021964510960970074, 2.225060669047707e-08, 7.402693458224974e-10, 2.7093904009234393e-08, 2.4923860109993257e-05, 0.0], [1.1591067959670909e-05, 1.7527563613839447e-05, 0.004624749533832073, 0.8664276003837585, 0.12812279164791107, 3.67612699392339e-07, 1.1301781732697691e-09, 0.0007953072199597955, 0.0], [4.790830644196831e-05, 2.2979718323767884e-06, 1.8380627807346173e-05, 0.0009142532362602651, 0.9786847233772278, 0.013523840345442295, 3.866221618409327e-07, 0.0068083256483078, 0.0], [0.0005871958564966917, 0.0001721064472803846, 4.42510918219341e-06, 1.0389447197667323e-05, 0.008185361512005329, 0.9712874889373779, 0.0009107043733820319, 0.01884235255420208, 0.0], [0.0003641383955255151, 3.820441634161398e-05, 1.3088669220451266e-05, 1.1221311524423072e-06, 5.666551078320481e-05, 0.004269416909664869, 0.23200111091136932, 0.763256311416626, 0.0], [0.00032474618637934327, 0.0007457987521775067, 0.0007538728532381356, 3.3267756407440174e-06, 6.228618190107227e-07, 5.7475936046103016e-06, 0.005058731883764267, 0.9931071400642395, 0.0], [0.00028116253088228405, 0.0006305741262622178, 0.0026658016722649336, 0.0035815758164972067, 4.694768722401932e-05, 1.8249553477289737e-06, 1.5891462680883706e-05, 0.9927762746810913, 0.0]], [[0.366214394569397, 0.2434583604335785, 0.0007788348011672497, 0.3808552026748657, 0.0004156987415626645, 1.0544061296968721e-05, 0.0014252469409257174, 0.006841733120381832, 0.0], [0.01985698752105236, 0.14180630445480347, 0.012998958118259907, 0.7981385588645935, 0.002311376389116049, 2.3970062102307566e-05, 0.00756697217002511, 0.017296837642788887, 0.0], [6.417811528081074e-05, 2.517084067221731e-05, 0.00024240624043159187, 0.9755915403366089, 0.0006281917449086905, 3.999819455202669e-05, 0.0009224666864611208, 0.022486062720417976, 0.0], [0.0001146419599535875, 0.00012232435983605683, 0.004082073457539082, 0.3438695967197418, 0.12436559051275253, 0.0759066492319107, 0.001718237646855414, 0.4498208463191986, 0.0], [0.004192110151052475, 0.005964318756014109, 0.0003966293588746339, 0.005952311679720879, 0.11088557541370392, 0.1255660355091095, 0.04735738784074783, 0.6996856331825256, 0.0], [3.301936521893367e-05, 4.998872827854939e-05, 0.00027147767832502723, 0.0001319544535363093, 0.005734030157327652, 0.5205665826797485, 0.10976647585630417, 0.363446444272995, 0.0], [0.00044156640069559216, 0.0010563210817053914, 0.0015337900258600712, 0.0006797764217481017, 0.0005775991594418883, 0.15765075385570526, 0.21581444144248962, 0.622245728969574, 0.0], [0.005684035364538431, 0.006406647153198719, 0.015096912160515785, 0.018386665731668472, 0.004426651168614626, 0.022128798067569733, 0.5071372985839844, 0.42073291540145874, 0.0]], [[0.004222488030791283, 0.0018536188872531056, 0.7533417344093323, 0.08714937418699265, 0.0035679778084158897, 0.002743347082287073, 5.7870209275279194e-05, 0.14706361293792725, 0.0], [0.0501825287938118, 0.023769810795783997, 0.3037428855895996, 0.24226446449756622, 0.02226436883211136, 0.06283707171678543, 0.00046511695836670697, 0.294473797082901, 0.0], [0.8691985011100769, 0.08783557265996933, 0.0004401681071612984, 3.7510893889702857e-05, 0.007907728664577007, 0.00030125922057777643, 0.0003500795573927462, 0.03392922878265381, 0.0], [0.35850632190704346, 0.23465941846370697, 0.010926468297839165, 0.03070312738418579, 0.03329405561089516, 0.006804156117141247, 0.030516162514686584, 0.2945902645587921, 0.0], [0.06086347624659538, 0.1919238269329071, 0.05359773337841034, 0.08560535311698914, 0.25750547647476196, 0.005581172648817301, 0.015110772103071213, 0.3298121988773346, 0.0], [0.02609226293861866, 0.040191393345594406, 0.04715337976813316, 0.23585568368434906, 0.11715716123580933, 0.04853684827685356, 0.08303166180849075, 0.40198150277137756, 0.0], [0.004215977154672146, 0.0006640976062044501, 0.010949580930173397, 0.498109370470047, 0.04195092245936394, 0.1303999423980713, 0.054340001195669174, 0.2593701481819153, 0.0], [0.0170940812677145, 0.00653900345787406, 0.01061938889324665, 0.23297767341136932, 0.08805537968873978, 0.16363801062107086, 0.09386696666479111, 0.3872094750404358, 0.0]], [[4.1856093777297316e-22, 2.245746507726541e-19, 1.0, 2.8848060864575794e-19, 9.367111306834886e-39, 4.136279715266096e-36, 1.2247100066220812e-25, 5.171840503660578e-26, 0.0], [8.574734347045754e-13, 9.652971781279329e-14, 1.0034039155115693e-09, 1.0, 7.186768069544769e-09, 2.853554403027902e-29, 1.0224064301305187e-31, 4.597666299965209e-19, 0.0], [4.154939535331616e-14, 2.0099803169516123e-13, 9.865787136386901e-17, 2.379093366755569e-09, 1.0, 3.1396005795159e-09, 3.6082152678163046e-25, 2.578834688958672e-16, 0.0], [1.3279065745421307e-15, 9.088624560523069e-15, 2.9050053717270298e-18, 5.814234431059332e-19, 1.3829335898662976e-08, 1.0, 3.795496694714018e-10, 4.4671961442477315e-12, 0.0], [5.2654135392071755e-12, 5.099988573814551e-12, 8.171821509403432e-14, 1.9780172240115362e-19, 3.529405237916194e-16, 0.00026530458126217127, 0.9997010827064514, 3.363182258908637e-05, 0.0], [2.724819125887734e-07, 6.402726882015486e-08, 8.095804027163922e-10, 1.394147939149206e-15, 1.1588342950989176e-17, 5.931633764895416e-13, 0.0007580938399769366, 0.9992415904998779, 0.0], [2.388212305959314e-05, 2.4409016532445094e-06, 1.07013908845488e-09, 8.866968791154672e-12, 2.9094756625524195e-18, 5.137770217461665e-24, 1.8016314555133715e-14, 0.9999736547470093, 0.0], [0.35450252890586853, 0.4393879771232605, 1.1994293345196638e-05, 0.0006697208737023175, 1.9960591089329682e-05, 1.9834711130484184e-12, 5.288356016118489e-13, 0.20540779829025269, 0.0]], [[0.9235702753067017, 0.01630713790655136, 0.0004603286215569824, 0.00016977143241092563, 0.00014391780132427812, 0.0002194157859776169, 0.00013654064969159663, 0.058992527425289154, 0.0], [0.668497622013092, 0.10023295879364014, 0.0006808115867897868, 0.0019004861824214458, 0.00034736754605546594, 0.0004696869582403451, 0.0007157497457228601, 0.22715525329113007, 0.0], [0.03719913214445114, 0.24345189332962036, 0.05476173013448715, 0.06080419197678566, 7.61532828619238e-06, 0.00010760048462543637, 0.0829954743385315, 0.5206724405288696, 0.0], [0.02819657139480114, 0.11813431978225708, 0.5209794044494629, 0.022963933646678925, 0.00024148817465174943, 6.362581189023331e-05, 0.0003821535501629114, 0.3090386390686035, 0.0], [0.0016245172591879964, 0.005689714569598436, 0.5299034714698792, 0.12104790657758713, 0.1284441351890564, 0.007206345908343792, 0.0004299768479540944, 0.20565392076969147, 0.0], [0.002128085121512413, 0.00011594338138820603, 0.060112133622169495, 0.49639877676963806, 0.02777845412492752, 0.08349984139204025, 0.008979863487184048, 0.32098695635795593, 0.0], [0.0016410000389441848, 0.0006536155706271529, 3.304440178908408e-05, 0.2512124180793762, 0.2160828411579132, 0.16030895709991455, 0.21678797900676727, 0.15328018367290497, 0.0], [0.00821677315980196, 0.009967410936951637, 0.0011487002484500408, 0.028043340891599655, 0.01813555881381035, 0.14939230680465698, 0.638914942741394, 0.14618101716041565, 0.0]]], [[[3.759156243177131e-05, 0.00018309145525563508, 0.005660955794155598, 0.9917357563972473, 0.0006566675729118288, 6.617676149289764e-07, 4.3830826257362787e-07, 0.0017247428186237812, 0.0], [0.0006791626219637692, 0.0016397448489442468, 6.0486356233013794e-05, 0.0006498565780930221, 0.9945077300071716, 0.0002126098406733945, 9.744571798364632e-06, 0.00224068621173501, 0.0], [0.0009232900338247418, 0.0005509642651304603, 0.00033311330480501056, 0.0003253551840316504, 0.0017395770410075784, 0.8926660418510437, 0.005094109568744898, 0.09836750477552414, 0.0], [0.0011094164801761508, 0.00011337250907672569, 6.440879224101081e-05, 0.0001907723635667935, 0.000458491820609197, 0.008267635479569435, 0.5046992897987366, 0.48509663343429565, 0.0], [0.00023282320762518793, 0.004616484045982361, 0.026891285553574562, 4.462900324142538e-05, 0.006523542106151581, 0.007201739586889744, 0.21646638214588165, 0.7380231022834778, 0.0], [0.00121996586676687, 0.001641630893573165, 0.0018317943904548883, 0.0006245998665690422, 0.005047095473855734, 0.00018324224220123142, 0.0014333472354337573, 0.9880183935165405, 0.0], [0.005293317139148712, 0.020801568403840065, 0.005998117383569479, 0.0010391196701675653, 0.016718586906790733, 4.803422052646056e-05, 0.0006284611881710589, 0.9494727849960327, 0.0], [0.007665165234357119, 0.08712702989578247, 0.0005510819610208273, 0.0004539983347058296, 0.01783067174255848, 0.0010072720469906926, 0.0023869394790381193, 0.8829778432846069, 0.0]], [[0.04235485941171646, 0.8620492219924927, 0.06649988889694214, 0.004433848895132542, 0.00033212380367331207, 1.0718868907133583e-05, 0.0003829592315014452, 0.023936282843351364, 0.0], [0.0003548516833689064, 0.0002737634058576077, 0.005279134958982468, 0.9792758226394653, 0.0032871400471776724, 1.3277648577059153e-05, 2.6968247766490094e-05, 0.01148900669068098, 0.0], [0.0005137367988936603, 0.0007202908745966852, 0.0007285764440894127, 0.019395234063267708, 0.8938687443733215, 0.005706118419766426, 0.0007519476930610836, 0.07831522822380066, 0.0], [0.0011917473748326302, 0.00033169682137668133, 0.0006715269410051405, 0.004457594361156225, 0.05219927802681923, 0.4532751441001892, 0.0031108770053833723, 0.48476219177246094, 0.0], [0.0007525724358856678, 0.0031941868364810944, 0.000978334923274815, 0.012017627246677876, 0.0062652952037751675, 0.014463990926742554, 0.3569360673427582, 0.6053919196128845, 0.0], [0.00047838815953582525, 0.0009155157022178173, 0.0005084464210085571, 0.00010593084152787924, 0.00020927353762090206, 0.02926931530237198, 0.008307969197630882, 0.9602051973342896, 0.0], [0.00033646522206254303, 0.0007353863911703229, 0.0009070138912647963, 0.0005524992593564093, 0.00017920439131557941, 0.0008067336748354137, 0.01823974773287773, 0.9782428741455078, 0.0], [0.0008712098351679742, 0.0003531668335199356, 0.0002558806736487895, 0.004750677850097418, 0.011103375814855099, 0.0006947384099476039, 0.004247401840984821, 0.9777235388755798, 0.0]], [[0.0003848886117339134, 0.00041377078741788864, 0.0009530892129987478, 0.10020303726196289, 0.8842710256576538, 0.007923685014247894, 0.0013647256419062614, 0.004485805984586477, 0.0], [0.0006824142765253782, 0.0015109076630324125, 0.007719872985035181, 0.00468291575089097, 0.40763553977012634, 0.29959094524383545, 0.1719696819782257, 0.10620765388011932, 0.0], [0.011965327896177769, 0.00663146423175931, 0.01244099996984005, 0.0005907953018322587, 0.009179859422147274, 0.19780902564525604, 0.1893586665391922, 0.5720238089561462, 0.0], [0.0003404135350137949, 0.001079667592421174, 0.0006703283870592713, 2.422967918391805e-05, 0.0037619967479258776, 0.010295507498085499, 0.041005704551935196, 0.9428220987319946, 0.0], [0.0007663010037504137, 9.704756666906178e-05, 0.005991696380078793, 0.0012066512135788798, 0.011658715084195137, 0.011518404819071293, 0.03533288463950157, 0.9334282875061035, 0.0], [0.0003286443534307182, 6.829026096966118e-05, 0.0012075118720531464, 1.0436309821670875e-05, 0.0003212913288734853, 0.0065737273544073105, 0.013016780838370323, 0.9784733057022095, 0.0], [0.0009410865022800863, 0.0011952124768868089, 0.002879476174712181, 0.000171710315044038, 0.005886636674404144, 0.0017727819504216313, 0.047037526965141296, 0.9401155710220337, 0.0], [0.00042916182428598404, 0.0006454461836256087, 0.002152201486751437, 0.00042703436338342726, 0.006296147592365742, 0.02222553640604019, 0.11761824786663055, 0.850206196308136, 0.0]], [[0.0005457427469082177, 0.0002944476727861911, 0.0006116115837357938, 0.9958971738815308, 0.00015983611228875816, 4.6736979129491374e-05, 0.00026414994499646127, 0.002180278766900301, 0.0], [0.1938050389289856, 0.11908300220966339, 0.2225339710712433, 0.36488714814186096, 0.024770312011241913, 0.0068240039981901646, 0.00316408253274858, 0.06493241339921951, 0.0], [0.1432252675294876, 0.1588294804096222, 0.01695176400244236, 0.014838173985481262, 0.010209537111222744, 0.005150120239704847, 0.05962853878736496, 0.5911670923233032, 0.0], [0.05648979917168617, 0.46837127208709717, 0.025727570056915283, 0.0032515686471015215, 0.08185434341430664, 0.017683526501059532, 0.01645653136074543, 0.33016538619995117, 0.0], [0.0006851826328784227, 0.0024133361876010895, 0.047793880105018616, 0.034291643649339676, 0.22073416411876678, 0.01000884547829628, 0.29964855313301086, 0.3844243288040161, 0.0], [0.005895957350730896, 0.028019515797495842, 0.07148659974336624, 0.0021199409384280443, 0.3448125422000885, 0.10167845338582993, 0.04448319971561432, 0.4015038311481476, 0.0], [0.00021456865943036973, 0.003328009508550167, 0.01993791200220585, 0.16464237868785858, 0.011874902993440628, 0.14489606022834778, 0.3781627416610718, 0.2769434452056885, 0.0], [8.490546315442771e-05, 6.369966286001727e-05, 0.0012366916052997112, 0.0021390849724411964, 0.0010275967651978135, 0.029057802632451057, 0.8774171471595764, 0.0889730453491211, 0.0]], [[0.001038186950609088, 0.0005760382628068328, 0.009698446840047836, 0.027639497071504593, 0.10070231556892395, 0.7678108811378479, 0.0010200046235695481, 0.09151466935873032, 0.0], [0.0063404422253370285, 0.0008955520461313426, 0.034291092306375504, 0.02183002606034279, 0.003113497979938984, 0.24151554703712463, 0.482806921005249, 0.20920687913894653, 0.0], [0.010715890675783157, 0.0030495093669742346, 0.05749695748090744, 0.039172135293483734, 0.005229463800787926, 0.03908534720540047, 0.5499507784843445, 0.2952999770641327, 0.0], [0.044755492359399796, 0.020619366317987442, 0.03649115562438965, 0.0006983073544688523, 0.003933019004762173, 0.03786228969693184, 0.006181149743497372, 0.8494592308998108, 0.0], [0.009562473744153976, 0.014694935642182827, 0.0013246603775769472, 0.3004612326622009, 0.0778699442744255, 0.009265257976949215, 0.012358269654214382, 0.5744631886482239, 0.0], [0.0010989531874656677, 0.0013849865645170212, 0.0021474116947501898, 0.029431123286485672, 0.0354531854391098, 0.02486746944487095, 0.009970590472221375, 0.8956462740898132, 0.0], [0.005110675003379583, 0.0035740616731345654, 0.0005153337842784822, 0.03858599066734314, 0.10362539440393448, 0.01668866164982319, 0.3098331391811371, 0.5220667123794556, 0.0], [0.003685485804453492, 0.002619416918605566, 0.0036794105544686317, 0.0054064905270934105, 0.033747196197509766, 0.2710581421852112, 0.3726089298725128, 0.3071949779987335, 0.0]], [[0.18355193734169006, 0.17397548258304596, 0.09117954224348068, 0.05044470727443695, 0.4399401843547821, 0.00848997849971056, 0.00385279580950737, 0.04856530576944351, 0.0], [0.04918781295418739, 0.02031732350587845, 0.13343675434589386, 0.33832284808158875, 0.10273038595914841, 0.14761817455291748, 0.10828181356191635, 0.10010482370853424, 0.0], [0.002594858407974243, 0.013026941567659378, 0.005139035172760487, 0.04739437624812126, 0.3814822733402252, 0.021357985213398933, 0.10488961637020111, 0.42411482334136963, 0.0], [0.0019641690887510777, 0.0023891879245638847, 0.001230516703799367, 0.01819770038127899, 0.3281288146972656, 0.06794332712888718, 0.15549591183662415, 0.4246503710746765, 0.0], [0.10180407762527466, 0.024661315605044365, 0.03712891414761543, 0.14550122618675232, 0.25763750076293945, 0.011129333637654781, 0.03381385654211044, 0.38832375407218933, 0.0], [0.0023366890382021666, 0.0026047348510473967, 0.0006628604023717344, 0.1260865479707718, 0.22049134969711304, 0.006922912318259478, 0.03647606074810028, 0.6044188737869263, 0.0], [0.013282155618071556, 0.005015432834625244, 0.00020472118922043592, 0.0015070963418111205, 0.735342264175415, 0.006817817222326994, 0.06398041546344757, 0.17385020852088928, 0.0], [0.023012684658169746, 0.007669169921427965, 0.00027498003328219056, 0.0016092678997665644, 0.19160543382167816, 0.011262040585279465, 0.4223298728466034, 0.34223663806915283, 0.0]], [[0.029370183125138283, 0.011197705753147602, 0.04826442897319794, 0.5020469427108765, 0.07029730081558228, 0.050951965153217316, 0.0034977267496287823, 0.28437376022338867, 0.0], [0.23956938087940216, 0.025939060375094414, 0.07774864137172699, 0.2844501733779907, 0.005961183458566666, 0.013426234014332294, 0.06643544882535934, 0.2864699065685272, 0.0], [0.004265536554157734, 0.0011053591733798385, 0.0009272998431697488, 0.8819936513900757, 0.014859503135085106, 0.00011838969658128917, 0.0017433163011446595, 0.09498689323663712, 0.0], [0.002102975267916918, 0.003431616583839059, 0.004880658816546202, 0.7952847480773926, 0.029239337891340256, 0.0029731537215411663, 0.0016811612294986844, 0.16040626168251038, 0.0], [0.0018348853336647153, 0.0008585311006754637, 4.465047823032364e-05, 0.079209104180336, 0.4794657528400421, 0.0005994518869556487, 0.0182763934135437, 0.41971123218536377, 0.0], [0.0016758900601416826, 0.0006350526236928999, 0.0024278697092086077, 0.18225082755088806, 0.07619520276784897, 0.13705992698669434, 0.006853965576738119, 0.5929011702537537, 0.0], [0.0004476329777389765, 0.00011647002975223586, 0.00014389920397661626, 0.09891927242279053, 0.013677000068128109, 0.04643029719591141, 0.22715961933135986, 0.6131057739257812, 0.0], [0.00012595552834682167, 4.122058817301877e-05, 1.3059174079899094e-06, 0.0014492063783109188, 0.0018835508963093162, 0.0014394420431926847, 0.9147630929946899, 0.08029630780220032, 0.0]], [[1.0, 3.103960111161541e-08, 1.677419546425461e-17, 5.287308829285799e-16, 3.125748826438013e-10, 7.653978006949558e-10, 4.518296153888102e-11, 9.64542573415883e-14, 0.0], [1.3870119275338766e-08, 0.9999997615814209, 1.8677222612950573e-07, 2.2712798364798843e-21, 1.5487369258908603e-28, 4.5740669778849656e-26, 6.219777407349047e-18, 6.4290834076797046e-15, 0.0], [1.4398044388685971e-12, 4.961211530485343e-08, 1.0, 2.189844217070913e-08, 1.0685775578949903e-18, 6.65286438651283e-20, 1.2601294008557259e-19, 5.266730926161908e-14, 0.0], [2.7125197814414502e-17, 4.101405081728308e-18, 7.04245863014652e-12, 1.0, 1.3194080160025545e-12, 5.152300028749321e-21, 1.9456013082752902e-19, 2.0187121578542782e-18, 0.0], [2.512746412851319e-13, 6.035835232906213e-15, 1.5480624018739033e-15, 1.5101551363854316e-15, 1.0, 3.3807653898598744e-10, 5.121949915813569e-19, 1.091660403465197e-15, 0.0], [2.2313663070039347e-11, 5.4703557239577094e-09, 1.9982242349669832e-07, 6.618384768182495e-13, 6.20272791462817e-11, 0.9999997615814209, 1.7825719789144046e-09, 4.829763700087142e-09, 0.0], [1.3239978774795547e-13, 2.783803956700004e-16, 8.430969857211289e-23, 3.9401748107410167e-19, 4.63472851505156e-21, 1.073258344176653e-12, 0.9999998807907104, 1.44624706877039e-07, 0.0], [1.9467971478599397e-14, 1.5734047276832455e-17, 1.184855069472283e-22, 2.1852428697040557e-29, 1.2969801425992233e-25, 4.3996389382025876e-20, 3.296846387002006e-07, 0.9999996423721313, 0.0]]], [[[0.6672091484069824, 0.20145612955093384, 0.019792191684246063, 0.00900217890739441, 0.013582741841673851, 0.0005193621036596596, 0.007797519210726023, 0.08064062148332596, 0.0], [0.2779846489429474, 0.225919708609581, 0.009800688363611698, 0.08512014150619507, 0.12161152064800262, 0.002060821047052741, 0.0009627436520531774, 0.27653977274894714, 0.0], [0.1721746027469635, 0.2068958729505539, 0.2201300412416458, 0.028523577377200127, 0.04880169406533241, 0.019267944619059563, 0.003890539286658168, 0.300315797328949, 0.0], [0.0019196545472368598, 0.030267342925071716, 0.15609776973724365, 0.10970623791217804, 0.11761537194252014, 0.2448112964630127, 0.10565730184316635, 0.23392504453659058, 0.0], [0.002714194357395172, 0.0022628470323979855, 0.03577195480465889, 0.18259672820568085, 0.0799570083618164, 0.05443883314728737, 0.13480716943740845, 0.5074512958526611, 0.0], [0.002235710620880127, 0.005446210037916899, 0.04186733067035675, 0.15257641673088074, 0.09313412755727768, 0.08062553405761719, 0.05699960142374039, 0.567115068435669, 0.0], [0.0009911148808896542, 0.004919559694826603, 0.05854306370019913, 0.020383195951581, 0.3545856475830078, 0.26590651273727417, 0.1518556922674179, 0.1428152322769165, 0.0], [0.0002147156628780067, 0.00018981362518388778, 0.0004760427982546389, 0.0037220120429992676, 0.2445184588432312, 0.0018472669180482626, 0.004834056831896305, 0.74419766664505, 0.0]], [[0.3429321348667145, 0.2514926791191101, 0.0759400725364685, 0.1493307501077652, 0.0031737880781292915, 0.0241840947419405, 0.02369452267885208, 0.1292518824338913, 0.0], [0.06261927634477615, 0.03377354517579079, 0.3469827473163605, 0.31787997484207153, 0.00036248506512492895, 0.015392706729471684, 0.003085644217208028, 0.21990357339382172, 0.0], [0.0007806235807947814, 0.030372295528650284, 0.12064965814352036, 0.34166860580444336, 0.0011915849754586816, 0.015595336444675922, 0.010089888237416744, 0.47965195775032043, 0.0], [0.00022581033408641815, 0.002204819582402706, 0.012266306206583977, 0.025088945403695107, 0.21079964935779572, 0.01525169052183628, 0.002708380576223135, 0.7314543128013611, 0.0], [0.0004731461813207716, 0.002571098506450653, 0.001391960890032351, 0.26955947279930115, 0.03523722290992737, 0.03730449452996254, 0.012627203948795795, 0.6408353447914124, 0.0], [9.442258306080475e-05, 0.004004457499831915, 0.002062243176624179, 0.0005998268024995923, 0.003154090140014887, 0.8081800937652588, 0.00028165915864519775, 0.1816231906414032, 0.0], [0.0006982370978221297, 0.0007514782482758164, 0.00046062140609137714, 0.020462684333324432, 0.04434431344270706, 0.13155969977378845, 0.16848407685756683, 0.6332389116287231, 0.0], [0.00016600682283751667, 0.00014446819841396064, 0.0003055939741898328, 0.024058617651462555, 0.0008796395268291235, 0.014640051871538162, 0.05921013280749321, 0.9005954265594482, 0.0]], [[0.0643387883901596, 0.013968713581562042, 0.00030997206340543926, 0.0034713582135736942, 0.016468102112412453, 0.08730074763298035, 0.10718358308076859, 0.7069587111473083, 0.0], [0.2887928783893585, 0.0650842934846878, 0.00025940555497072637, 0.004236816428601742, 0.006569175515323877, 0.011842183768749237, 0.009170569479465485, 0.6140446066856384, 0.0], [0.5462640523910522, 0.30148181319236755, 0.00039427823503501713, 0.0004789418599102646, 0.0009776691440492868, 0.00011722851922968403, 0.00021893612574785948, 0.15006710588932037, 0.0], [0.04251514747738838, 0.49368682503700256, 0.016509201377630234, 0.024663584306836128, 0.02810027450323105, 0.0017829935532063246, 0.003489437513053417, 0.38925251364707947, 0.0], [0.0013933468144387007, 0.001721888198517263, 0.8323050737380981, 0.059586573392152786, 0.002424923935905099, 0.04559032991528511, 0.0005900105461478233, 0.05638781189918518, 0.0], [0.005993078928440809, 0.019452884793281555, 0.010137046687304974, 0.7581997513771057, 0.0644577294588089, 0.024894243106245995, 0.0015186622040346265, 0.11534661799669266, 0.0], [0.001774413394741714, 0.011387799866497517, 0.005830480717122555, 0.014678074978291988, 0.8775749206542969, 0.03407420963048935, 0.0037433409597724676, 0.05093679949641228, 0.0], [0.04177100583910942, 0.017712879925966263, 0.00045613371185027063, 0.017321225255727768, 0.009809310548007488, 0.002777372719720006, 0.016508731991052628, 0.8936433792114258, 0.0]], [[0.0004801911418326199, 0.0017363147344440222, 0.00206474750302732, 0.019565735012292862, 0.9422475099563599, 0.011742059141397476, 0.0005839727818965912, 0.021579457446932793, 0.0], [0.0026961180847138166, 0.0026273143012076616, 0.02741101197898388, 0.16087277233600616, 0.0073782773688435555, 0.10508120805025101, 0.1311395913362503, 0.5627937316894531, 0.0], [0.04372381418943405, 0.01770220510661602, 0.011044349521398544, 0.09434688091278076, 0.009483195841312408, 0.020694030448794365, 0.2712318003177643, 0.5317736864089966, 0.0], [0.05753912404179573, 0.1257563680410385, 0.1577354371547699, 0.004665311425924301, 0.12342062592506409, 0.01600034162402153, 0.016537070274353027, 0.49834561347961426, 0.0], [0.026830410584807396, 0.031974565237760544, 0.002460189862176776, 0.03078913502395153, 0.0737290158867836, 0.007439523935317993, 0.011549183167517185, 0.8152279853820801, 0.0], [0.005106774624437094, 0.01644175313413143, 0.0013518158812075853, 0.12290386855602264, 0.6888205409049988, 0.0025032793637365103, 0.025655081495642662, 0.13721692562103271, 0.0], [0.0020939710084348917, 0.009621333330869675, 0.0002411259920336306, 0.00103238713927567, 0.9366056323051453, 0.0015276154736056924, 0.007145649287849665, 0.041732288897037506, 0.0], [0.00025479038595221937, 0.0015837836544960737, 0.0010198645759373903, 0.0011231141397729516, 0.02055390179157257, 0.009003015235066414, 0.025498364120721817, 0.9409632086753845, 0.0]], [[0.012470980174839497, 0.03441028669476509, 0.1383122205734253, 0.7214842438697815, 0.02247345820069313, 0.03584131598472595, 0.0015901317819952965, 0.03341727703809738, 0.0], [0.0029869149439036846, 0.006298370193690062, 0.027559615671634674, 0.015137464739382267, 0.013374913483858109, 0.7061722278594971, 0.003558509750291705, 0.22491201758384705, 0.0], [0.005349937826395035, 0.01571268029510975, 0.01980086974799633, 0.9160616397857666, 0.0020631523802876472, 0.016999894753098488, 0.000632530776783824, 0.02337942272424698, 0.0], [0.005979744717478752, 0.002162603661417961, 0.029531225562095642, 0.29963329434394836, 0.009990926831960678, 0.22189423441886902, 0.062418870627880096, 0.3683891296386719, 0.0], [0.015655802562832832, 0.004593375138938427, 0.01290148962289095, 0.004220924805849791, 0.02408180572092533, 0.253665030002594, 0.012502615340054035, 0.6723789572715759, 0.0], [0.006723484490066767, 0.001979209715500474, 0.05847332626581192, 0.04129783436655998, 0.0034615674521774054, 0.09229499846696854, 0.015814561396837234, 0.7799550294876099, 0.0], [0.00251278979703784, 0.0005843121907673776, 0.20588846504688263, 0.10724318772554398, 0.018471218645572662, 0.13006959855556488, 0.06043955311179161, 0.47479087114334106, 0.0], [0.00016046497330535203, 0.0002520470297895372, 0.0006127444794401526, 0.002214073436334729, 0.003390402067452669, 0.05518851801753044, 0.009838487021625042, 0.9283432364463806, 0.0]], [[0.7570709586143494, 0.15032747387886047, 0.02282870188355446, 0.022524122148752213, 0.0025796820409595966, 0.003995582927018404, 0.0011455006897449493, 0.03952798247337341, 0.0], [0.022217292338609695, 0.656995952129364, 0.14577922224998474, 0.012226546183228493, 0.03443002700805664, 0.0005476273945532739, 0.030341779813170433, 0.09746149927377701, 0.0], [0.007799298036843538, 0.013755274005234241, 0.27066177129745483, 0.6293318867683411, 0.0003444140311330557, 0.0029002304654568434, 0.0006738246302120388, 0.07453326135873795, 0.0], [0.011357378214597702, 0.006252753548324108, 0.24343173205852509, 0.05018638074398041, 0.0682939812541008, 0.08160445094108582, 0.04166293889284134, 0.49721041321754456, 0.0], [0.00038424626109190285, 0.0001496626646257937, 0.0028559237252920866, 0.0006111517432145774, 0.06847476214170456, 0.22178931534290314, 0.008561592549085617, 0.6971732974052429, 0.0], [8.440830424660817e-05, 0.00012014080857625231, 0.008917232044041157, 0.0011920580873265862, 0.0054502361454069614, 0.1268734186887741, 0.039347413927316666, 0.8180150985717773, 0.0], [1.7643749743001536e-05, 6.798941467422992e-05, 0.00011309367255307734, 8.572944352636114e-06, 0.0011638442520052195, 0.0644134134054184, 0.7955935597419739, 0.13862185180187225, 0.0], [0.00016590068116784096, 7.983569230418652e-05, 0.0027395044453442097, 0.0017870746087282896, 0.014263749122619629, 0.005115664564073086, 0.0037385548930615187, 0.9721097350120544, 0.0]], [[0.9795656204223633, 0.008719006553292274, 0.00025082757929340005, 0.00031728448811918497, 0.0016585318371653557, 0.0008204320329241455, 0.00023825847893022, 0.008430112153291702, 0.0], [0.019930360838770866, 0.750922441482544, 0.04996825382113457, 0.03982650488615036, 0.0006241656956262887, 0.0010907517280429602, 0.000446117453975603, 0.13719132542610168, 0.0], [0.0034598323982208967, 0.10992719978094101, 0.6478261947631836, 0.02071215771138668, 0.0006507540820166469, 0.00340632745064795, 0.0003358604444656521, 0.21368169784545898, 0.0], [8.62375891301781e-05, 0.00013061249046586454, 0.02924731746315956, 0.877097487449646, 0.004275312647223473, 0.013055521994829178, 0.003907948266714811, 0.07219955325126648, 0.0], [0.022542323917150497, 0.01669161021709442, 0.0031206475105136633, 0.001982762711122632, 0.05228470265865326, 0.09679405391216278, 0.003533940529450774, 0.8030499815940857, 0.0], [0.0009865418542176485, 0.0015839588595554233, 0.0008921860135160387, 0.0016322719166055322, 0.166446253657341, 0.5502740740776062, 0.0010995136108249426, 0.27708524465560913, 0.0], [0.0004954156465828419, 0.00015400453412439674, 0.00021529737568926066, 0.00012494524708017707, 0.30391305685043335, 0.22938060760498047, 0.20182034373283386, 0.2638964056968689, 0.0], [3.7161080399528146e-05, 0.00010324974573450163, 0.00037080899346619844, 0.001700060092844069, 0.0017665565246716142, 0.006988379172980785, 0.1364215910434723, 0.8526122570037842, 0.0]], [[0.16844800114631653, 0.7515051364898682, 0.002742453943938017, 0.014389551244676113, 0.03388027474284172, 0.00048689075629226863, 0.010445144027471542, 0.01810244843363762, 0.0], [0.027421973645687103, 0.12264962494373322, 0.3396819233894348, 0.10952550917863846, 0.173872709274292, 0.003058094996958971, 0.003111473983153701, 0.2206786870956421, 0.0], [0.0027441729325801134, 0.004843644332140684, 0.04248730465769768, 0.21965862810611725, 0.19470414519309998, 0.036100123077631, 0.01420053280889988, 0.4852614402770996, 0.0], [0.0011000999948009849, 0.0011007190914824605, 0.0020198114216327667, 0.04574856534600258, 0.38896673917770386, 0.03131500259041786, 0.0525263287127018, 0.477222740650177, 0.0], [0.0002339252532692626, 0.000981021556071937, 1.5827743482077494e-05, 0.0011127860052511096, 0.9112635254859924, 0.005978640168905258, 0.00043576056486926973, 0.07997852563858032, 0.0], [0.0005120327114127576, 0.0007365645724348724, 0.0015265822876244783, 0.06368237733840942, 0.0032670614309608936, 0.024687718600034714, 0.03082500584423542, 0.8747626543045044, 0.0], [0.0011609828798100352, 0.000480949500342831, 0.001843297854065895, 0.004738551564514637, 0.001610922277905047, 0.010740552097558975, 0.14986306428909302, 0.8295616507530212, 0.0], [1.4452162986344774e-06, 2.967699856526451e-06, 3.634609674918465e-05, 5.727020834456198e-05, 0.0020299030002206564, 0.00075286696664989, 0.0005324643570929766, 0.9965866804122925, 0.0]]]], \"left_text\": [\"E\", \"F\", \"L\", \"C\", \"L\", \"A\", \"A\", \"<eos>\"], \"right_text\": [\"V\", \"V\", \"T\", \"G\", \"V\", \"T\", \"A\", \"<eos>\", \"<pad>\"]}], \"default_filter\": \"0\", \"display_mode\": \"light\", \"root_div_id\": \"bertviz-1d12bc00c51140fcbd08acd4eee41778\", \"include_layers\": [0, 1, 2, 3], \"include_heads\": [0, 1, 2, 3, 4, 5, 6, 7], \"total_heads\": 8} is a template marker that is replaced by actual params.\n        const config = {};\n\n        const MIN_X = 0;\n        const MIN_Y = 0;\n        const DIV_WIDTH = 970;\n        const THUMBNAIL_PADDING = 5;\n        const DETAIL_WIDTH = 300;\n        const DETAIL_ATTENTION_WIDTH = 140;\n        const DETAIL_BOX_WIDTH = 80;\n        const DETAIL_BOX_HEIGHT = 18;\n        const DETAIL_PADDING = 15;\n        const ATTN_PADDING = 0;\n        const DETAIL_HEADING_HEIGHT = 25;\n        const HEADING_TEXT_SIZE = 15;\n        const HEADING_PADDING = 5;\n        const TEXT_SIZE = 13;\n        const TEXT_PADDING = 5;\n        const LAYER_COLORS = d3.schemeCategory10;\n        const PALETTE = {\n            'light': {\n                'text': 'black',\n                'background': 'white',\n                'highlight': '#F5F5F5'\n            },\n            'dark': {\n                'text': '#ccc',\n                'background': 'black',\n                'highlight': '#222'\n            }\n        }\n\n        function render() {\n\n            // Set global state variables\n\n            var attData = config.attention[config.filter];\n            config.leftText = attData.left_text;\n            config.rightText = attData.right_text;\n            config.attn = attData.attn;\n            config.numLayers = config.attn.length;\n            config.numHeads = config.attn[0].length;\n            config.thumbnailBoxHeight = 7 * (12 / config.totalHeads);\n            const axisSize = HEADING_TEXT_SIZE + HEADING_PADDING + TEXT_SIZE + TEXT_PADDING;\n            config.thumbnailHeight = Math.max(config.leftText.length, config.rightText.length) * config.thumbnailBoxHeight + 2 * THUMBNAIL_PADDING;\n            config.thumbnailWidth = (DIV_WIDTH - axisSize) / config.totalHeads;\n            config.detailHeight = Math.max(config.leftText.length, config.rightText.length) * DETAIL_BOX_HEIGHT + 2 * DETAIL_PADDING + DETAIL_HEADING_HEIGHT;\n            config.divHeight = Math.max(config.numLayers * config.thumbnailHeight + axisSize, config.detailHeight);\n\n            const vis = $(`#${config.rootDivId} #vis`)\n            vis.empty();\n            vis.attr(\"height\", config.divHeight);\n            config.svg = d3.select(`#${config.rootDivId} #vis`)\n                .append('svg')\n                .attr(\"width\", DIV_WIDTH)\n                .attr(\"height\", config.divHeight)\n                .attr(\"fill\", getBackgroundColor());\n\n            renderAxisLabels();\n\n            var i;\n            var j;\n            for (i = 0; i < config.numLayers; i++) {\n                for (j = 0; j < config.numHeads; j++) {\n                    renderThumbnail(i, j);\n                }\n            }\n        }\n\n        function renderAxisLabels() {\n            const axisSize = HEADING_TEXT_SIZE + HEADING_PADDING + TEXT_SIZE + TEXT_PADDING;\n            const tableWidth = config.thumbnailWidth * config.heads.length;\n            config.svg.append(\"text\")\n                .text(\"Heads\")\n                .attr(\"fill\", \"black\")\n                .attr(\"font-weight\", \"bold\")\n                .attr(\"font-size\", HEADING_TEXT_SIZE + \"px\")\n                .attr(\"x\", axisSize + tableWidth / 2)\n                .attr(\"text-anchor\", \"middle\")\n                .attr(\"y\", 0)\n                .attr(\"dy\", HEADING_TEXT_SIZE);\n            for (let i = 0; i < config.numHeads; i++) {\n                config.svg.append(\"text\")\n                    .text(config.heads[i])\n                    .attr(\"fill\", \"black\")\n                    .attr(\"font-size\", TEXT_SIZE + \"px\")\n                    .attr(\"x\", axisSize + (i + .5) * config.thumbnailWidth)\n                    .attr(\"text-anchor\", \"middle\")\n                    .attr(\"y\", HEADING_TEXT_SIZE + HEADING_PADDING)\n                    .attr(\"dy\", TEXT_SIZE);\n            }\n            let x = 0;\n            let y = axisSize + config.thumbnailHeight * config.layers.length / 2;\n            console.log(\"x\", x, y)\n            config.svg.append(\"text\")\n                .text(\"Layers\")\n                .attr(\"fill\", \"black\")\n                .attr(\"font-weight\", \"bold\")\n                .attr(\"transform\", \"rotate(270, \" + x  + \", \" + y + \")\")\n                .attr(\"font-size\", HEADING_TEXT_SIZE + \"px\")\n                .attr(\"x\", x)\n                .attr(\"text-anchor\", \"middle\")\n                .attr(\"y\", y)\n                .attr(\"dy\", HEADING_TEXT_SIZE);\n            for (let i = 0; i < config.numLayers; i++) {\n                x = HEADING_TEXT_SIZE + HEADING_PADDING + TEXT_SIZE; // HACK\n                y = axisSize + (i + .5) * config.thumbnailHeight;\n                config.svg.append(\"text\")\n                    .text(config.layers[i])\n                    .attr(\"fill\", \"black\")\n                    .attr(\"font-size\", TEXT_SIZE + \"px\")\n                    .attr(\"x\", x)\n                    .attr(\"text-anchor\", \"end\")\n                    .attr(\"y\", y)\n                    .attr(\"dy\", TEXT_SIZE / 2);\n            }\n        }\n\n\n        function renderThumbnail(layerIndex, headIndex) {\n            const axisSize = HEADING_TEXT_SIZE + HEADING_PADDING + TEXT_SIZE + TEXT_PADDING\n            const x = headIndex * config.thumbnailWidth + axisSize;\n            const y = layerIndex * config.thumbnailHeight + axisSize;\n            renderThumbnailAttn(x, y, config.attn[layerIndex][headIndex], layerIndex, headIndex);\n        }\n\n        function renderDetail(att, layerIndex, headIndex) {\n            const axisSize = TEXT_SIZE + HEADING_PADDING + TEXT_SIZE + TEXT_PADDING;\n            var xOffset = .8 * config.thumbnailWidth;\n            var maxX = DIV_WIDTH;\n            var maxY = config.divHeight - 3;\n            var leftPos = axisSize + headIndex * config.thumbnailWidth;\n            var x = leftPos + THUMBNAIL_PADDING + xOffset;\n            if (x < MIN_X) {\n                x = MIN_X;\n            } else if (x + DETAIL_WIDTH > maxX) {\n                x = leftPos + THUMBNAIL_PADDING - DETAIL_WIDTH + 8;\n            }\n            var posLeftText = x;\n            var posAttention = posLeftText + DETAIL_BOX_WIDTH;\n            var posRightText = posAttention + DETAIL_ATTENTION_WIDTH;\n            var thumbnailHeight = Math.max(config.leftText.length, config.rightText.length) * config.thumbnailBoxHeight + 2 * THUMBNAIL_PADDING;\n            var yOffset = 20;\n            var y = layerIndex * thumbnailHeight + THUMBNAIL_PADDING + yOffset;\n            if (y < MIN_Y) {\n                y = MIN_Y;\n            } else if (y + config.detailHeight > maxY) {\n                y = maxY - config.detailHeight;\n            }\n            renderDetailFrame(x, y, layerIndex);\n            y = y + DETAIL_PADDING;\n            renderDetailHeading(x, y, layerIndex, headIndex);\n            y = y + DETAIL_HEADING_HEIGHT;\n            renderDetailText(config.leftText, \"leftText\", posLeftText, y , layerIndex);\n            renderDetailAttn(posAttention, y, att, layerIndex, headIndex);\n            renderDetailText(config.rightText, \"rightText\", posRightText, y, layerIndex);\n        }\n\n        function renderDetailHeading(x, y, layerIndex, headIndex) {\n            var fillColor = getTextColor();\n            config.svg.append(\"text\")\n                .classed(\"detail\", true)\n                .text('Layer ' + config.layers[layerIndex] + \", Head \" + config.heads[headIndex])\n                .attr(\"font-size\", TEXT_SIZE + \"px\")\n                .attr(\"font-weight\", \"bold\")\n                .style(\"cursor\", \"default\")\n                .style(\"-webkit-user-select\", \"none\")\n                .attr(\"fill\", fillColor)\n                .attr(\"x\", x + DETAIL_WIDTH / 2)\n                .attr(\"text-anchor\", \"middle\")\n                .attr(\"y\", y)\n                .attr(\"height\", DETAIL_HEADING_HEIGHT)\n                .attr(\"width\", DETAIL_WIDTH)\n                .attr(\"dy\", HEADING_TEXT_SIZE);\n        }\n\n        function renderDetailText(text, id, x, y, layerIndex) {\n            var tokenContainer = config.svg.append(\"svg:g\")\n                .classed(\"detail\", true)\n                .selectAll(\"g\")\n                .data(text)\n                .enter()\n                .append(\"g\");\n\n            var fillColor = getTextColor();\n\n            tokenContainer.append(\"rect\")\n                .classed(\"highlight\", true)\n                .attr(\"fill\", fillColor)\n                .style(\"opacity\", 0.0)\n                .attr(\"height\", DETAIL_BOX_HEIGHT)\n                .attr(\"width\", DETAIL_BOX_WIDTH)\n                .attr(\"x\", x)\n                .attr(\"y\", function (d, i) {\n                    return y + i * DETAIL_BOX_HEIGHT;\n                });\n\n            var textContainer = tokenContainer.append(\"text\")\n                .classed(\"token\", true)\n                .text(function (d) {\n                    return d;\n                })\n                .attr(\"font-size\", TEXT_SIZE + \"px\")\n                .style(\"cursor\", \"default\")\n                .style(\"-webkit-user-select\", \"none\")\n                .attr(\"fill\", fillColor)\n                .attr(\"x\", x)\n                .attr(\"y\", function (d, i) {\n                    return i * DETAIL_BOX_HEIGHT + y;\n                })\n                .attr(\"height\", DETAIL_BOX_HEIGHT)\n                .attr(\"width\", DETAIL_BOX_WIDTH)\n                .attr(\"dy\", TEXT_SIZE);\n\n            if (id == \"leftText\") {\n                textContainer.style(\"text-anchor\", \"end\")\n                    .attr(\"dx\", DETAIL_BOX_WIDTH - 2);\n                tokenContainer.on(\"mouseover\", function (d, index) {\n                    highlightSelection(index);\n                });\n                tokenContainer.on(\"mouseleave\", function () {\n                    unhighlightSelection();\n                });\n            }\n        }\n\n        function highlightSelection(index) {\n            config.svg.select(\"#leftText\")\n                .selectAll(\".highlight\")\n                .style(\"opacity\", function (d, i) {\n                    return i == index ? 1.0 : 0.0;\n                });\n            config.svg.selectAll(\".attn-line-group\")\n                .style(\"opacity\", function (d, i) {\n                    return i == index ? 1.0 : 0.0;\n                });\n        }\n\n        function unhighlightSelection() {\n            config.svg.select(\"#leftText\")\n                .selectAll(\".highlight\")\n                .style(\"opacity\", 0.0);\n            config.svg.selectAll(\".attn-line-group\")\n                .style(\"opacity\", 1);\n        }\n\n        function renderThumbnailAttn(x, y, att, layerIndex, headIndex) {\n\n            var attnContainer = config.svg.append(\"svg:g\");\n\n            var attnBackground = attnContainer.append(\"rect\")\n                .attr(\"id\", 'attn_background_' + layerIndex + \"_\" + headIndex)\n                .classed(\"attn_background\", true)\n                .attr(\"x\", x)\n                .attr(\"y\", y)\n                .attr(\"height\", config.thumbnailHeight)\n                .attr(\"width\", config.thumbnailWidth)\n                .attr(\"stroke-width\", 2)\n                .attr(\"stroke\", getLayerColor(layerIndex))\n                .attr(\"stroke-opacity\", 0)\n                .attr(\"fill\", getBackgroundColor());\n            var x1 = x + THUMBNAIL_PADDING;\n            var x2 = x1 + config.thumbnailWidth - 14;\n            var y1 = y + THUMBNAIL_PADDING;\n\n            attnContainer.selectAll(\"g\")\n                .data(att)\n                .enter()\n                .append(\"g\") // Add group for each source token\n                .attr(\"source-index\", function (d, i) { // Save index of source token\n                    return i;\n                })\n                .selectAll(\"line\")\n                .data(function (d) { // Loop over all target tokens\n                    return d;\n                })\n                .enter() // When entering\n                .append(\"line\")\n                .attr(\"x1\", x1)\n                .attr(\"y1\", function (d) {\n                    var sourceIndex = +this.parentNode.getAttribute(\"source-index\");\n                    return y1 + (sourceIndex + .5) * config.thumbnailBoxHeight;\n                })\n                .attr(\"x2\", x2)\n                .attr(\"y2\", function (d, targetIndex) {\n                    return y1 + (targetIndex + .5) * config.thumbnailBoxHeight;\n                })\n                .attr(\"stroke-width\", 2.2)\n                .attr(\"stroke\", getLayerColor(layerIndex))\n                .attr(\"stroke-opacity\", function (d) {\n                    return d;\n                });\n\n            var clickRegion = attnContainer.append(\"rect\")\n                .attr(\"x\", x)\n                .attr(\"y\", y)\n                .attr(\"height\", config.thumbnailHeight)\n                .attr(\"width\", config.thumbnailWidth)\n                .style(\"opacity\", 0);\n\n            clickRegion.on(\"click\", function (d, index) {\n                var attnBackgroundOther = config.svg.selectAll(\".attn_background\");\n                attnBackgroundOther.attr(\"fill\", getBackgroundColor());\n                attnBackgroundOther.attr(\"stroke-opacity\", 0);\n\n                config.svg.selectAll(\".detail\").remove();\n                if (config.detail_layer != layerIndex || config.detail_head != headIndex) {\n                    renderDetail(att, layerIndex, headIndex);\n                    config.detail_layer = layerIndex;\n                    config.detail_head = headIndex;\n                    attnBackground.attr(\"fill\", getHighlightColor());\n                    attnBackground.attr(\"stroke-opacity\", .8);\n                } else {\n                    config.detail_layer = null;\n                    config.detail_head = null;\n                    attnBackground.attr(\"fill\", getBackgroundColor());\n                    attnBackground.attr(\"stroke-opacity\", 0);\n                }\n            });\n\n            clickRegion.on(\"mouseover\", function (d) {\n                d3.select(this).style(\"cursor\", \"pointer\");\n            });\n        }\n\n        function renderDetailFrame(x, y, layerIndex) {\n            var detailFrame = config.svg.append(\"rect\")\n                .classed(\"detail\", true)\n                .attr(\"x\", x)\n                .attr(\"y\", y)\n                .attr(\"height\", config.detailHeight)\n                .attr(\"width\", DETAIL_WIDTH)\n                .style(\"opacity\", 1)\n                .attr(\"stroke-width\", 1.5)\n                .attr(\"stroke-opacity\", 0.7)\n                .attr(\"stroke\", getLayerColor(layerIndex));\n        }\n\n        function renderDetailAttn(x, y, att, layerIndex) {\n            var attnContainer = config.svg.append(\"svg:g\")\n                .classed(\"detail\", true)\n                .attr(\"pointer-events\", \"none\");\n            attnContainer.selectAll(\"g\")\n                .data(att)\n                .enter()\n                .append(\"g\") // Add group for each source token\n                .classed('attn-line-group', true)\n                .attr(\"source-index\", function (d, i) { // Save index of source token\n                    return i;\n                })\n                .selectAll(\"line\")\n                .data(function (d) { // Loop over all target tokens\n                    return d;\n                })\n                .enter()\n                .append(\"line\")\n                .attr(\"x1\", x + ATTN_PADDING)\n                .attr(\"y1\", function (d) {\n                    var sourceIndex = +this.parentNode.getAttribute(\"source-index\");\n                    return y + (sourceIndex + .5) * DETAIL_BOX_HEIGHT;\n                })\n                .attr(\"x2\", x + DETAIL_ATTENTION_WIDTH - ATTN_PADDING)\n                .attr(\"y2\", function (d, targetIndex) {\n                    return y + (targetIndex + .5) * DETAIL_BOX_HEIGHT;\n                })\n                .attr(\"stroke-width\", 2.2)\n                .attr(\"stroke\", getLayerColor(layerIndex))\n                .attr(\"stroke-opacity\", function (d) {\n                    return d;\n                });\n        }\n\n        function getLayerColor(layer) {\n          return LAYER_COLORS[config.layers[layer] % 10];\n        }\n\n        function getTextColor() {\n            return PALETTE[config.mode]['text']\n        }\n\n        function getBackgroundColor() {\n           return PALETTE[config.mode]['background']\n        }\n\n        function getHighlightColor() {\n           return PALETTE[config.mode]['highlight']\n        }\n\n        function initialize() {\n            config.attention = params['attention'];\n            config.filter = params['default_filter'];\n            config.mode = params['display_mode'];\n            config.layers = params['include_layers']\n            config.heads = params['include_heads']\n            config.totalHeads = params['total_heads']\n            config.rootDivId = params['root_div_id'];\n            $(`#${config.rootDivId} #filter`).on('change', function (e) {\n                config.filter = e.currentTarget.value;\n                render();\n            });\n        }\n\n        initialize();\n        render();\n\n    });",
      "text/plain": [
       "<IPython.core.display.Javascript object>"
      ]
     },
     "metadata": {},
     "output_type": "display_data"
    }
   ],
   "source": [
    "from bertviz import model_view\n",
    "\n",
    "model_view(\n",
    "\tencoder_attention=encoder_self_attention, \n",
    "\tdecoder_attention=decoder_self_attention,\n",
    "\tcross_attention=decoder_encoder_attention, \n",
    "\tencoder_tokens=encoder_text,\n",
    "\tdecoder_tokens=decoder_text, \n",
    "\tdisplay_mode=\"light\"\n",
    ")"
   ]
  },
  {
   "cell_type": "code",
   "execution_count": 87,
   "metadata": {},
   "outputs": [
    {
     "data": {
      "text/html": [
       "<script src=\"https://cdnjs.cloudflare.com/ajax/libs/require.js/2.3.6/require.min.js\"></script>"
      ],
      "text/plain": [
       "<IPython.core.display.HTML object>"
      ]
     },
     "metadata": {},
     "output_type": "display_data"
    },
    {
     "data": {
      "text/html": [
       "      \n",
       "        <div id=\"bertviz-8769fc9a66b649ef8bea2de8ff7bf4d6\" style=\"font-family:'Helvetica Neue', Helvetica, Arial, sans-serif;\">\n",
       "            <span style=\"user-select:none\">\n",
       "                Layer: <select id=\"layer\"></select>\n",
       "                Attention: <select id=\"filter\"><option value=\"0\">Encoder</option>\n",
       "<option value=\"1\">Decoder</option>\n",
       "<option value=\"2\">Cross</option></select>\n",
       "            </span>\n",
       "            <div id='vis'></div>\n",
       "        </div>\n",
       "    "
      ],
      "text/plain": [
       "<IPython.core.display.HTML object>"
      ]
     },
     "metadata": {},
     "output_type": "display_data"
    },
    {
     "data": {
      "application/javascript": "/**\n * @fileoverview Transformer Visualization D3 javascript code.\n *\n *\n *  Based on: https://github.com/tensorflow/tensor2tensor/blob/master/tensor2tensor/visualization/attention.js\n *\n * Change log:\n *\n * 12/19/18  Jesse Vig   Assorted cleanup. Changed orientation of attention matrices.\n * 12/29/20  Jesse Vig   Significant refactor.\n * 12/31/20  Jesse Vig   Support multiple visualizations in single notebook.\n * 02/06/21  Jesse Vig   Move require config from separate jupyter notebook step\n * 05/03/21  Jesse Vig   Adjust height of visualization dynamically\n * 07/25/21  Jesse Vig   Support layer filtering\n * 03/23/22  Daniel SC   Update requirement URLs for d3 and jQuery (source of bug not allowing end result to be displayed on browsers)\n **/\n\nrequire.config({\n  paths: {\n      d3: 'https://cdnjs.cloudflare.com/ajax/libs/d3/5.7.0/d3.min',\n    jquery: 'https://cdnjs.cloudflare.com/ajax/libs/jquery/2.0.0/jquery.min',\n  }\n});\n\nrequirejs(['jquery', 'd3'], function ($, d3) {\n\n    const params = {\"attention\": [{\"name\": \"Encoder\", \"attn\": [[[[0.5109282732009888, 0.2881547510623932, 0.20042012631893158, 0.0004964193212799728, 8.047328492466477e-08, 1.5685648691032839e-07, 2.2383191833341698e-07, 1.776128896735507e-11, 0.0], [0.624721348285675, 0.365185409784317, 0.010093054734170437, 1.3889440708680922e-07, 6.457513560334527e-14, 5.334551160182666e-13, 7.250175459994068e-11, 1.7900984243101464e-13, 0.0], [0.00018209038535133004, 0.9972518086433411, 0.0025652695912867785, 8.414351100327622e-07, 7.84199230075347e-14, 4.565517925458336e-19, 2.119565219325714e-16, 5.4931611950490925e-17, 0.0], [8.911452584770018e-16, 1.7938201608558302e-06, 0.9986485838890076, 0.0013496767496690154, 3.2195330845752324e-09, 6.038143185929244e-17, 5.67571613085233e-22, 1.679110851620334e-27, 0.0], [6.49117164073683e-34, 7.75691446699086e-21, 1.3441818964565755e-06, 0.9998854398727417, 0.00011317819735268131, 4.3381881420501145e-11, 3.658478081551042e-21, 7.137981970615421e-32, 0.0], [1.1210387714598537e-44, 1.4583281180282188e-33, 1.3009475005992073e-20, 9.813377346290508e-07, 0.9998316764831543, 0.0001673563092481345, 2.365135214413283e-12, 3.3870291470512303e-26, 0.0], [0.0, 0.0, 1.457025965309039e-35, 1.9351993424357868e-21, 3.3596005977187815e-08, 0.9999998807907104, 1.298145662076422e-07, 2.9328663192607124e-24, 0.0], [0.0, 0.0, 0.0, 0.0, 0.0, 0.0, 0.0, 1.0, 0.0], [4.203895392974451e-45, 0.0, 0.0, 0.0, 1.478650139555547e-41, 6.781586028872816e-23, 2.9660351952287556e-09, 1.0, 0.0]], [[9.271941436850284e-09, 1.0, 4.1792307461929745e-13, 0.0, 0.0, 0.0, 0.0, 0.0, 0.0], [6.884805995675713e-31, 1.1037400993174629e-09, 1.0, 2.0818815175957582e-16, 0.0, 0.0, 0.0, 0.0, 0.0], [0.0, 2.830159540297677e-22, 3.739620613174566e-09, 1.0, 4.155408643353629e-17, 0.0, 0.0, 0.0, 0.0], [0.0, 4.8765186558503634e-43, 1.0158099398747276e-22, 3.2299798252699574e-11, 1.0, 1.3927746488669873e-13, 1.3632675199572772e-35, 0.0, 0.0], [0.0, 0.0, 6.1477205707472645e-40, 2.211990979450614e-20, 8.841245602297931e-08, 0.9999998807907104, 9.682604718008747e-10, 3.4540513921963156e-37, 0.0], [5.187089802165974e-35, 1.533180267996283e-39, 0.0, 4.7117216516568825e-36, 4.897864442206838e-21, 1.9235869407746575e-12, 1.0, 3.376999446749675e-15, 0.0], [2.292935608184688e-23, 1.8543482158939127e-31, 4.203895392974451e-45, 0.0, 8.211609000943428e-43, 4.318751680482251e-22, 8.189987283913069e-07, 0.9999991655349731, 0.0], [0.0, 0.0, 0.0, 0.0, 0.0, 0.0, 6.221765181602188e-43, 1.0, 0.0], [1.0679085527944223e-32, 1.7080570291483355e-09, 0.999510645866394, 0.0004893843433819711, 6.698580033387108e-24, 3.1204888850344415e-34, 7.51471486206667e-31, 1.782739615784607e-21, 0.0]], [[0.007741524837911129, 0.03314046189188957, 0.17199259996414185, 0.3444600999355316, 0.2847835123538971, 0.09280020743608475, 0.05433032661676407, 0.010751263238489628, 0.0], [0.13297870755195618, 0.08855536580085754, 0.10160152614116669, 0.12044128775596619, 0.15856391191482544, 0.12115363031625748, 0.14068908989429474, 0.1360166221857071, 0.0], [0.3865416944026947, 0.17579330503940582, 0.055934641510248184, 0.03329507261514664, 0.024059781804680824, 0.019040368497371674, 0.05039707571268082, 0.2549380362033844, 0.0], [0.3270535171031952, 0.3213706314563751, 0.14777609705924988, 0.04146076738834381, 0.011731286533176899, 0.010717245750129223, 0.03001081384718418, 0.10987969487905502, 0.0], [0.036753393709659576, 0.23457422852516174, 0.4717406928539276, 0.1909315586090088, 0.022346097975969315, 0.010861827060580254, 0.015199595130980015, 0.017592649906873703, 0.0], [0.004468902945518494, 0.07045221328735352, 0.3406253159046173, 0.4475031793117523, 0.09839363396167755, 0.021620552986860275, 0.01400194875895977, 0.0029341340996325016, 0.0], [0.0005385316908359528, 0.005594057496637106, 0.08091113716363907, 0.30267518758773804, 0.42101171612739563, 0.15754050016403198, 0.03103526495397091, 0.0006935796700417995, 0.0], [0.0016332302475348115, 0.000226473857765086, 0.0003017343988176435, 0.0009247356792911887, 0.013557999394834042, 0.005935304798185825, 0.0026864379178732634, 0.9747340679168701, 0.0], [0.00881192833185196, 0.0021135350689291954, 0.0037420738954097033, 0.018741492182016373, 0.13757415115833282, 0.4106714427471161, 0.3872174322605133, 0.03112788312137127, 0.0]], [[0.0642230436205864, 0.11993001401424408, 0.23499996960163116, 0.34219345450401306, 0.10727165639400482, 0.05801090970635414, 0.049952615052461624, 0.023418432101607323, 0.0], [0.07612886279821396, 0.12857508659362793, 0.24775780737400055, 0.3148334324359894, 0.09061585366725922, 0.05570531263947487, 0.0559658519923687, 0.03041771613061428, 0.0], [0.11546961963176727, 0.2003432959318161, 0.209305077791214, 0.2888159453868866, 0.11227498203516006, 0.03286748379468918, 0.021240796893835068, 0.019682668149471283, 0.0], [0.10007581114768982, 0.1984981894493103, 0.22419936954975128, 0.11017975956201553, 0.22134262323379517, 0.068410225212574, 0.04675674811005592, 0.030537279322743416, 0.0], [0.015666034072637558, 0.035390011966228485, 0.10849779099225998, 0.3246701657772064, 0.1733069270849228, 0.14697223901748657, 0.15272097289562225, 0.04277569800615311, 0.0], [0.016531948000192642, 0.03415890783071518, 0.058039046823978424, 0.23021237552165985, 0.2710951864719391, 0.17519786953926086, 0.15043087303638458, 0.06433384120464325, 0.0], [0.008051689714193344, 0.014005103148519993, 0.025065718218684196, 0.10579846799373627, 0.2494819015264511, 0.31844672560691833, 0.14659884572029114, 0.13255144655704498, 0.0], [1.0800194104376715e-05, 7.0521377892873716e-06, 1.9880515537806787e-05, 1.6622489056317136e-05, 0.0001990948076127097, 0.004202204290777445, 0.010834744200110435, 0.9847095608711243, 0.0], [0.007252327632158995, 0.006261823698878288, 0.015772351995110512, 0.03341008722782135, 0.04175866022706032, 0.2259323000907898, 0.4845959544181824, 0.1850164532661438, 0.0]], [[0.09039327502250671, 0.13259722292423248, 0.12325315177440643, 0.3030196726322174, 0.04356001317501068, 0.012176340445876122, 0.03179088979959488, 0.26320940256118774, 0.0], [0.2341599017381668, 0.15617169439792633, 0.11316188424825668, 0.16615961492061615, 0.03456771373748779, 0.019345195963978767, 0.040881674736738205, 0.2355523407459259, 0.0], [0.2996181845664978, 0.21720319986343384, 0.167263463139534, 0.16909855604171753, 0.027787212282419205, 0.0201957356184721, 0.027237404137849808, 0.07159620523452759, 0.0], [0.20876352488994598, 0.2789745628833771, 0.256144255399704, 0.14793480932712555, 0.029180655255913734, 0.018915589898824692, 0.027206210419535637, 0.03288034349679947, 0.0], [0.02872512675821781, 0.13031579554080963, 0.2912920117378235, 0.4273206293582916, 0.04699837788939476, 0.023774579167366028, 0.03580697625875473, 0.015766486525535583, 0.0], [0.0016661122208461165, 0.024855276569724083, 0.18169791996479034, 0.6240121126174927, 0.09357655793428421, 0.03934619203209877, 0.03283313661813736, 0.00201267353259027, 0.0], [0.0003116489388048649, 0.005486724432557821, 0.06453311443328857, 0.4470001757144928, 0.26725614070892334, 0.11526433378458023, 0.0973346158862114, 0.002813162514939904, 0.0], [0.0004588007868733257, 0.0002524792216718197, 0.00011327917309245095, 0.0006107279332354665, 0.0023862491361796856, 0.0011050315806642175, 0.006237385328859091, 0.9888361096382141, 0.0], [0.0012187105603516102, 0.0016234348295256495, 0.009250612929463387, 0.03209002688527107, 0.13982707262039185, 0.42074838280677795, 0.3887729346752167, 0.006468777544796467, 0.0]], [[0.07186829298734665, 0.09092747420072556, 0.23418013751506805, 0.2251792550086975, 0.09810753166675568, 0.1232822984457016, 0.07095712423324585, 0.08549778908491135, 0.0], [0.09799905121326447, 0.11843220144510269, 0.2689339518547058, 0.19689364731311798, 0.07136452943086624, 0.0997876450419426, 0.06761427968740463, 0.07897469401359558, 0.0], [0.15314361453056335, 0.20825904607772827, 0.14401832222938538, 0.28027215600013733, 0.07736532390117645, 0.03005959466099739, 0.049545928835868835, 0.05733608826994896, 0.0], [0.08785054832696915, 0.16820138692855835, 0.3825708329677582, 0.10125875473022461, 0.10275241732597351, 0.0873701274394989, 0.030123818665742874, 0.03987192362546921, 0.0], [0.016337022185325623, 0.03769880160689354, 0.21888788044452667, 0.27873679995536804, 0.11913283169269562, 0.1943305879831314, 0.07934506982564926, 0.055531032383441925, 0.0], [0.020026257261633873, 0.041447319090366364, 0.06424352526664734, 0.2966121733188629, 0.2064552903175354, 0.11307696253061295, 0.13726800680160522, 0.12087048590183258, 0.0], [0.007209645584225655, 0.01555093564093113, 0.08270445466041565, 0.07526644319295883, 0.16937361657619476, 0.3976706266403198, 0.06527154892683029, 0.18695278465747833, 0.0], [0.0007578551885671914, 0.0005202612956054509, 0.0004722128214780241, 0.0004091217997483909, 0.0022278616670519114, 0.005925825331360102, 0.014771520160138607, 0.9749153256416321, 0.0], [0.08793723583221436, 0.07164813578128815, 0.06880497932434082, 0.03772842511534691, 0.11678177118301392, 0.22998762130737305, 0.1898418664932251, 0.19727002084255219, 0.0]], [[0.04762425273656845, 0.0001309385261265561, 2.035777288256213e-05, 6.424618914024904e-05, 0.007418820168823004, 0.01126898918300867, 0.0004458495241124183, 0.9330264925956726, 0.0], [0.7446044087409973, 0.015051628462970257, 0.0009187273681163788, 0.0002104049053741619, 0.0006132172420620918, 0.0015523823676630855, 0.0010674018412828445, 0.23598189651966095, 0.0], [0.7335838675498962, 0.22254136204719543, 0.018685588613152504, 0.0008730593835934997, 0.000105799495941028, 0.00014947449380997568, 0.00040398648707196116, 0.023656697943806648, 0.0], [0.10079436749219894, 0.5621716976165771, 0.314057856798172, 0.021822359412908554, 0.00026468990836292505, 4.276339677744545e-05, 3.6873319913866e-05, 0.0008093458018265665, 0.0], [0.0040226709097623825, 0.13706886768341064, 0.629115104675293, 0.22169341146945953, 0.007566073443740606, 0.0002023157139774412, 2.570115429989528e-05, 0.0003057343128602952, 0.0], [7.772937533445656e-05, 0.002173913177102804, 0.0789807066321373, 0.644745945930481, 0.2637796998023987, 0.009719453752040863, 0.00026238319696858525, 0.00026028259890154004, 0.0], [8.711353416401835e-07, 7.026069852145156e-06, 0.0006903354660607874, 0.07141256332397461, 0.7088356018066406, 0.21206670999526978, 0.006848045624792576, 0.0001388576638419181, 0.0], [3.3312691494202795e-10, 8.064613421510103e-10, 1.4767744005439454e-07, 8.514929504599422e-05, 0.04730888828635216, 0.7902001142501831, 0.1623324751853943, 7.328374340431765e-05, 0.0], [2.198557240262744e-06, 5.4350866776076145e-06, 5.049024912295863e-05, 0.0006036336999386549, 0.003470152383670211, 0.14414532482624054, 0.8513858914375305, 0.0003369049809407443, 0.0]], [[0.02217932604253292, 0.10093583166599274, 0.3726268410682678, 0.3412022590637207, 0.10413163900375366, 0.042015526443719864, 0.012985373847186565, 0.00392318656668067, 0.0], [0.001969102304428816, 0.013698802329599857, 0.14284297823905945, 0.48376208543777466, 0.26374614238739014, 0.08006875962018967, 0.011955562978982925, 0.001956537365913391, 0.0], [0.000976973446086049, 0.00459330715239048, 0.041372694075107574, 0.3663679361343384, 0.38385069370269775, 0.16556744277477264, 0.03147488087415695, 0.005796074401587248, 0.0], [0.0017265909118577838, 0.003460137639194727, 0.014628011733293533, 0.1286763846874237, 0.3803718686103821, 0.299991250038147, 0.12612390518188477, 0.045021817088127136, 0.0], [0.003559870645403862, 0.001817053067497909, 0.0020809643901884556, 0.01240536104887724, 0.08438298106193542, 0.2660437822341919, 0.452056884765625, 0.17765313386917114, 0.0], [0.0066866627894341946, 0.003804976586252451, 0.001474095624871552, 0.00387187791056931, 0.010560558177530766, 0.04427232965826988, 0.2612023949623108, 0.6681270599365234, 0.0], [0.008541030809283257, 0.008884519338607788, 0.0035214214585721493, 0.004085127264261246, 0.004647394642233849, 0.014019214548170567, 0.1127885952591896, 0.8435127139091492, 0.0], [0.026574278250336647, 0.04793746769428253, 0.012843555770814419, 0.004907127469778061, 0.0019266187446191907, 0.0033171256072819233, 0.0327904112637043, 0.8697034120559692, 0.0], [0.020665299147367477, 0.10112103074789047, 0.21535032987594604, 0.3617717921733856, 0.0928448736667633, 0.049581125378608704, 0.043466925621032715, 0.11519862711429596, 0.0]]], [[[0.016741666942834854, 0.0056237103417515755, 0.005018358584493399, 0.0018440482672303915, 0.001885186997242272, 0.004726529587060213, 0.000776707602199167, 0.9633838534355164, 0.0], [0.05305149406194687, 0.007153927348554134, 0.003013747511431575, 0.0018916957778856158, 0.00022321926371660084, 0.0011307935928925872, 0.00031790288630872965, 0.9332171678543091, 0.0], [0.11906447261571884, 0.00832363124936819, 0.007448770105838776, 0.004764642100781202, 0.0005696387961506844, 0.005448729265481234, 0.002293951576575637, 0.8520861864089966, 0.0], [0.004829937592148781, 0.16318543255329132, 0.031133385375142097, 0.01135460939258337, 0.0005481725675053895, 0.0009024458122439682, 0.0014061168767511845, 0.7866398692131042, 0.0], [0.0030063013546168804, 0.01631341129541397, 0.2445790320634842, 0.05760619044303894, 0.00563471857458353, 0.0011636762646958232, 0.0048127202317118645, 0.6668839454650879, 0.0], [0.002444887300953269, 0.006784974131733179, 0.01674639992415905, 0.20058566331863403, 0.031244704499840736, 0.006721068639308214, 0.002551402198150754, 0.7329208850860596, 0.0], [0.0011559337144717574, 0.002061458071693778, 0.025002242997288704, 0.07413852959871292, 0.15089046955108643, 0.044798050075769424, 0.007950710132718086, 0.694002628326416, 0.0], [0.000576202233787626, 0.0008446482243016362, 0.0009581707417964935, 0.0005847946158610284, 0.0005651981336995959, 0.002293370198458433, 0.0027785690035670996, 0.9913990497589111, 0.0], [0.0009751528850756586, 0.0009564185165800154, 0.0005325408419594169, 0.00031563767697662115, 0.0003805503947660327, 0.001080733840353787, 0.0006399637786671519, 0.9951189756393433, 0.0]], [[0.00836160872131586, 0.010415234602987766, 0.02054492197930813, 0.04499495401978493, 0.024609139189124107, 0.03485504910349846, 0.19452789425849915, 0.6616911888122559, 0.0], [0.011060936376452446, 0.0021711052395403385, 0.010634089820086956, 0.052289269864559174, 0.003849871689453721, 0.022019987925887108, 0.14462468028068542, 0.7533500790596008, 0.0], [0.008853720501065254, 0.007350079249590635, 0.015464285388588905, 0.08760719746351242, 0.001292789471335709, 0.007514875382184982, 0.11448556184768677, 0.7574314475059509, 0.0], [0.007512685842812061, 0.03167504817247391, 0.03152335435152054, 0.01653915084898472, 0.002768751233816147, 0.0075356909073889256, 0.024978971108794212, 0.8774663209915161, 0.0], [0.0019909986294806004, 0.016345757991075516, 0.02775094285607338, 0.09907329827547073, 0.01410781592130661, 0.013291082344949245, 0.06147786229848862, 0.7659621834754944, 0.0], [0.00020814765593968332, 0.0009007054031826556, 0.011876426637172699, 0.11829876154661179, 0.02003544010221958, 0.02363736182451248, 0.08591555058956146, 0.7391276359558105, 0.0], [0.00023888428404461592, 0.00046787556493654847, 0.002491411752998829, 0.05278947204351425, 0.028895679861307144, 0.06405715644359589, 0.024306926876306534, 0.8267526030540466, 0.0], [0.0001024511584546417, 0.0002791218284983188, 0.0015248511917889118, 0.006277947686612606, 0.00045804184628650546, 0.0005308369291014969, 0.0003432751109357923, 0.9904835224151611, 0.0], [0.0003294980269856751, 0.0006858218694105744, 0.0018050139769911766, 0.00894910003989935, 0.0008090278715826571, 0.0005497977253980935, 0.00010865733202081174, 0.986763060092926, 0.0]], [[0.015525268390774727, 0.06798452883958817, 0.05132634565234184, 0.023283449932932854, 0.0017675968119874597, 0.007266452070325613, 0.004018844570964575, 0.8288275003433228, 0.0], [0.02238576114177704, 0.021617047488689423, 0.059249307960271835, 0.027867628261446953, 0.0050477273762226105, 0.0040025594644248486, 0.020577378571033478, 0.8392525911331177, 0.0], [0.017261622473597527, 0.05295050889253616, 0.014032648876309395, 0.038888897746801376, 0.004011319484561682, 0.0017524517606943846, 0.014882519841194153, 0.8562200665473938, 0.0], [0.0041215489618480206, 0.005777198821306229, 0.018851187080144882, 0.012211764231324196, 0.03649260476231575, 0.011777147650718689, 0.007262921892106533, 0.9035056233406067, 0.0], [0.002423721831291914, 0.009858233854174614, 0.009681281633675098, 0.02601095661520958, 0.009884183295071125, 0.13600265979766846, 0.026195799931883812, 0.7799431085586548, 0.0], [0.0006054382538422942, 0.0016370780067518353, 0.0038980513345450163, 0.028864610940217972, 0.01333483774214983, 0.01358863990753889, 0.12310738116502762, 0.8149639368057251, 0.0], [0.0006415460375137627, 0.0015847865724936128, 0.0038711270317435265, 0.024547787383198738, 0.019457045942544937, 0.029678987339138985, 0.007775852456688881, 0.9124428629875183, 0.0], [5.316961323842406e-05, 0.00029129558242857456, 0.0013471458805724978, 0.0012634191662073135, 0.0006731683970429003, 0.000769329140894115, 0.00014173993258737028, 0.9954606890678406, 0.0], [0.00012110437091905624, 0.0005334338056854904, 0.0012906076153740287, 0.001445876550860703, 0.0007831993279978633, 0.0005168608040548861, 5.819441139465198e-05, 0.9952507019042969, 0.0]], [[0.04194141924381256, 0.03522297367453575, 0.030950693413615227, 0.019413955509662628, 0.0031423689797520638, 0.0024730805307626724, 0.0027146274223923683, 0.8641408681869507, 0.0], [0.09302650392055511, 0.014017227105796337, 0.029952576383948326, 0.011562392115592957, 0.0017543904250487685, 0.010203970596194267, 0.0065788705833256245, 0.832904040813446, 0.0], [0.002237789798527956, 0.15281233191490173, 0.017233435064554214, 0.00797312892973423, 0.002813284983858466, 0.003030534368008375, 0.0027421985287219286, 0.8111573457717896, 0.0], [0.008164625614881516, 0.03808038309216499, 0.06397384405136108, 0.017894094809889793, 0.01735091768205166, 0.0007713609375059605, 0.004146193154156208, 0.8496186137199402, 0.0], [0.004011661279946566, 0.004269138909876347, 0.018765456974506378, 0.11463427543640137, 0.014764454215765, 0.004253515508025885, 0.0011065328726544976, 0.8381949663162231, 0.0], [0.0004316221456974745, 0.0009242589585483074, 0.003256026888266206, 0.02621256560087204, 0.16825386881828308, 0.013324849307537079, 0.005344713106751442, 0.7822521328926086, 0.0], [0.0011480489047244191, 0.006157126743346453, 0.0009295370546169579, 0.01975991018116474, 0.017646905034780502, 0.11455002427101135, 0.01277832593768835, 0.8270301222801208, 0.0], [0.000227264579734765, 0.0007502589141950011, 0.003213009564206004, 0.0009910602821037173, 0.0007824574713595212, 0.0009716268396005034, 0.0011188029311597347, 0.9919454455375671, 0.0], [0.0002928696048911661, 0.0013984051765874028, 0.002950449241325259, 0.0008548173937015235, 0.0005751382559537888, 0.0005929049220867455, 0.0003647531848400831, 0.9929706454277039, 0.0]], [[0.007140757981687784, 0.010471729561686516, 0.023347873240709305, 0.04043200612068176, 0.13912031054496765, 0.0455903485417366, 0.00465104216709733, 0.7292459607124329, 0.0], [0.012919136323034763, 0.004819491412490606, 0.009653614833950996, 0.026615943759679794, 0.15188191831111908, 0.10754639655351639, 0.009005012921988964, 0.6775584816932678, 0.0], [0.022978421300649643, 0.0055215307511389256, 0.003244708525016904, 0.013707282952964306, 0.036077115684747696, 0.045855000615119934, 0.022884754464030266, 0.8497311472892761, 0.0], [0.009207806549966335, 0.013066952116787434, 0.009165800176560879, 0.016606340184807777, 0.008413192816078663, 0.02823079377412796, 0.014182311482727528, 0.9011267423629761, 0.0], [0.011450651101768017, 0.18383243680000305, 0.040560655295848846, 0.01958584040403366, 0.0079782260581851, 0.0022887142840772867, 0.007442789617925882, 0.7268606424331665, 0.0], [0.0011902841506525874, 0.0083088967949152, 0.07248552143573761, 0.05564865097403526, 0.02635330520570278, 0.001733473502099514, 0.004684667568653822, 0.8295952081680298, 0.0], [0.0005848342552781105, 0.0004688798217102885, 0.02250615693628788, 0.08511541783809662, 0.04203585162758827, 0.03060450404882431, 0.010889858938753605, 0.807794451713562, 0.0], [0.00034613479510881007, 0.0006870886427350342, 0.0004281353612896055, 0.001350888516753912, 0.0011769664706662297, 0.0006378188845701516, 0.00033693076693452895, 0.9950360655784607, 0.0], [0.0006882164743728936, 0.0008266327786259353, 0.0003006603801622987, 0.0010673770448192954, 0.0017686252249404788, 0.0008556029060855508, 0.00013001664774492383, 0.9943628311157227, 0.0]], [[0.004335394129157066, 0.05010148510336876, 0.03671472519636154, 0.026152629405260086, 0.0024681619834154844, 0.0024482877925038338, 0.0029809954576194286, 0.8747982978820801, 0.0], [0.005067556165158749, 0.00972040556371212, 0.1041923239827156, 0.07257269322872162, 0.003992757294327021, 0.0005570737994275987, 0.0061156307347118855, 0.7977815866470337, 0.0], [0.0032446044497191906, 0.003230562200769782, 0.01866522803902626, 0.1528659462928772, 0.003920387476682663, 0.004004491027444601, 0.0048658461309969425, 0.8092029690742493, 0.0], [0.0005890934844501317, 0.000386416184483096, 0.005528957117348909, 0.01670614816248417, 0.03843390569090843, 0.019285917282104492, 0.008798537775874138, 0.9102709889411926, 0.0], [0.0008644074550829828, 0.0019066986860707402, 0.0028317233081907034, 0.018502559512853622, 0.009402385912835598, 0.06956154108047485, 0.01666077971458435, 0.8802699446678162, 0.0], [0.0005379688227549195, 0.0012573671992868185, 0.0037644957192242146, 0.008507424034178257, 0.00469503877684474, 0.014245033264160156, 0.07962875813245773, 0.8873639106750488, 0.0], [0.0008193664252758026, 0.0013667292660102248, 0.0033064994495362043, 0.004127020947635174, 0.0029259019065648317, 0.015829959884285927, 0.020831355825066566, 0.9507932066917419, 0.0], [1.869121661002282e-05, 7.846506923669949e-05, 0.0003813373623415828, 0.0015148421516641974, 0.00040227192221209407, 0.00043805388850159943, 0.0001858167233876884, 0.9969804883003235, 0.0], [1.8763246771413833e-05, 6.676777411485091e-05, 0.0002865052374545485, 0.0021039308048784733, 0.00032110113534145057, 0.00017524472787044942, 8.891716424841434e-05, 0.9969388246536255, 0.0]], [[0.012964603491127491, 0.02223319001495838, 0.09878133982419968, 0.0020218247082084417, 0.0016145652625709772, 0.010409997776150703, 0.00013730178761761636, 0.851837158203125, 0.0], [0.03817048668861389, 0.019380874931812286, 0.05818716809153557, 0.003479281673207879, 0.0011654517147690058, 0.006508639547973871, 0.00019381599850021303, 0.8729143142700195, 0.0], [0.038142308592796326, 0.02037380449473858, 0.019446834921836853, 0.0004722679441329092, 0.001626359298825264, 0.0030491838697344065, 9.073755063582212e-05, 0.91679847240448, 0.0], [0.025533227249979973, 0.03438793122768402, 0.07361170649528503, 0.0013868409441784024, 0.0017311004921793938, 0.0032454263418912888, 0.0003825546009466052, 0.8597212433815002, 0.0], [0.002961324993520975, 0.012366579845547676, 0.11271502077579498, 0.009436247870326042, 0.0004948707646690309, 0.0055533102713525295, 0.0005726521485485137, 0.85589998960495, 0.0], [0.002951497444882989, 0.004054850898683071, 0.07035920023918152, 0.006094937678426504, 0.004345098976045847, 0.020827243104577065, 0.0004663747677113861, 0.8909007906913757, 0.0], [0.001165263936854899, 0.0021618253085762262, 0.014683373272418976, 0.0649624764919281, 0.003799188882112503, 0.019518742337822914, 0.011877868324518204, 0.8818312883377075, 0.0], [4.530618025455624e-05, 6.913666584296152e-05, 0.0019767875783145428, 7.001984340604395e-05, 4.529913712758571e-05, 0.0009784133872017264, 1.0906415809586179e-05, 0.9968041181564331, 0.0], [9.690239676274359e-05, 0.00010928078700089827, 0.001979028107598424, 5.473053897731006e-05, 4.252576400176622e-05, 0.00071094767190516, 5.4908050515223294e-06, 0.9970011115074158, 0.0]], [[0.011989268474280834, 0.028757669031620026, 0.09906225651502609, 0.08328709006309509, 0.04734822362661362, 0.013597157783806324, 0.021791644394397736, 0.6941666603088379, 0.0], [0.0026865946128964424, 0.006870870478451252, 0.039788439869880676, 0.12602557241916656, 0.12981532514095306, 0.025391457602381706, 0.025633104145526886, 0.6437885761260986, 0.0], [0.0017992882058024406, 0.0021018164698034525, 0.01252678968012333, 0.03252379596233368, 0.1703786998987198, 0.06502650678157806, 0.025272950530052185, 0.6903701424598694, 0.0], [0.0007889618864282966, 0.0010165800340473652, 0.0025774575769901276, 0.011031857691705227, 0.039681922644376755, 0.31895965337753296, 0.039006613194942474, 0.5869369506835938, 0.0], [0.0006614034646190703, 0.0008101246785372496, 0.0017921009566634893, 0.003200675593689084, 0.013477769680321217, 0.1263832449913025, 0.0789349153637886, 0.7747398018836975, 0.0], [0.0008054053760133684, 0.0008082950953394175, 0.002495674416422844, 0.0023626789916306734, 0.0031596666667610407, 0.026364151388406754, 0.035507094115018845, 0.9284970760345459, 0.0], [0.0008637396967969835, 0.000898362195584923, 0.0052607678808271885, 0.0034049435053020716, 0.006165723782032728, 0.022117305546998978, 0.03174436092376709, 0.9295447468757629, 0.0], [0.00013060714991297573, 8.178075222531334e-05, 0.0007418306777253747, 0.0011929634492844343, 0.001976878149434924, 0.0021709210705012083, 0.0008519869297742844, 0.9928529858589172, 0.0], [6.454584945458919e-05, 6.144001235952601e-05, 0.0005233671399764717, 0.0017658647848293185, 0.003598072100430727, 0.00197924068197608, 0.0007528993883170187, 0.9912545680999756, 0.0]]], [[[0.0049539776518940926, 0.049189724028110504, 0.019271960482001305, 0.0062457239255309105, 0.001736754085868597, 0.00451712915673852, 0.0032479825895279646, 0.9108367562294006, 0.0], [0.004142467398196459, 0.010182561352849007, 0.06939837336540222, 0.01875172182917595, 0.005999003071337938, 0.0009227209957316518, 0.0057567995972931385, 0.8848463296890259, 0.0], [0.0012014256790280342, 0.006329472176730633, 0.02786872163414955, 0.04054132476449013, 0.0028454891871660948, 0.004262203350663185, 0.007305712439119816, 0.9096456170082092, 0.0], [0.0007139916415326297, 0.0011213432298973203, 0.0037799018900841475, 0.005667660851031542, 0.21364575624465942, 0.0017539277905598283, 0.0018684044480323792, 0.7714490294456482, 0.0], [0.0004645555454771966, 0.0019296397222205997, 0.0011197492713108659, 0.0028493311256170273, 0.009519978426396847, 0.13074563443660736, 0.016602182760834694, 0.8367688655853271, 0.0], [0.0009695045300759375, 0.0033502434380352497, 0.012362132780253887, 0.004953487776219845, 0.0037507314700633287, 0.024021456018090248, 0.05906401574611664, 0.8915283679962158, 0.0], [0.0014822332886978984, 0.002845282666385174, 0.005318989511579275, 0.0010234878864139318, 0.0040497626177966595, 0.006420292891561985, 0.0035621519200503826, 0.9752978682518005, 0.0], [0.0002856229548342526, 0.0005944593576714396, 0.004195177927613258, 0.00317287421785295, 0.004736369010061026, 0.0036811181344091892, 0.0011119056725874543, 0.9822224378585815, 0.0], [0.00030084894387982786, 0.0007109473808668554, 0.005205332301557064, 0.004859365522861481, 0.004701818805187941, 0.0023113859351724386, 0.000668585707899183, 0.9812417030334473, 0.0]], [[0.012884634546935558, 0.051836684346199036, 0.1111135184764862, 0.2339392900466919, 0.0029786010272800922, 0.0011677041184157133, 0.001251995679922402, 0.5848276019096375, 0.0], [0.006927614565938711, 0.03804102912545204, 0.0483250617980957, 0.14381399750709534, 0.01632082648575306, 0.002304602414369583, 0.0010387146612629294, 0.7432281374931335, 0.0], [0.00585291488096118, 0.011111849918961525, 0.018939826637506485, 0.024847539141774178, 0.06605524569749832, 0.006417315918952227, 0.0022697828244417906, 0.8645054697990417, 0.0], [0.00045572599628940225, 0.0005447783623822033, 0.004743268247693777, 0.002470760839059949, 0.014617227017879486, 0.06214917078614235, 0.004106116946786642, 0.9109129309654236, 0.0], [0.0003010777581948787, 0.001810397021472454, 0.0014904238050803542, 0.009098904207348824, 0.01169211883097887, 0.00826353020966053, 0.006237137597054243, 0.9611064195632935, 0.0], [0.0017117453971877694, 0.004046015441417694, 0.010851925238966942, 0.0043959119357168674, 0.0382937453687191, 0.011237185448408127, 0.00537733593955636, 0.9240860939025879, 0.0], [0.00010678075341274962, 0.0006079112063162029, 0.00304999528452754, 0.000544195354450494, 0.01972501166164875, 0.011630057357251644, 0.006008517928421497, 0.9583275318145752, 0.0], [0.00014191237278282642, 0.0004310479562263936, 0.0018660167697817087, 0.0019108657725155354, 0.0043328446336090565, 0.001981383888050914, 0.0020836256444454193, 0.9872523546218872, 0.0], [0.0002061468258034438, 0.0006559127941727638, 0.002381665399298072, 0.0027780234813690186, 0.006637951824814081, 0.0020812805742025375, 0.0015139725292101502, 0.9837449789047241, 0.0]], [[0.009514733217656612, 0.0024365615099668503, 0.004990867804735899, 0.019687587395310402, 0.017196979373693466, 0.1473311483860016, 0.002148224739357829, 0.7966938614845276, 0.0], [0.05495670065283775, 0.007330598775297403, 0.015489357523620129, 0.007424879353493452, 0.0010636064689606428, 0.022389575839042664, 0.009576886892318726, 0.8817683458328247, 0.0], [0.0020611099898815155, 0.08708266913890839, 0.038350142538547516, 0.006571060046553612, 0.0002484169090166688, 0.005337726790457964, 0.012089095078408718, 0.8482597470283508, 0.0], [0.0010121254017576575, 0.01083606667816639, 0.1331205815076828, 0.01700802706182003, 0.0022931380663067102, 0.00022894788708072156, 0.0017122378339990973, 0.8337888717651367, 0.0], [0.00022161823289934546, 0.0003027758502867073, 0.0038282610476017, 0.0392305813729763, 0.011484362185001373, 0.0014284179778769612, 0.0002583865716587752, 0.9432456493377686, 0.0], [0.0002144749742001295, 0.0005137517582625151, 0.00399822648614645, 0.016610994935035706, 0.12216717004776001, 0.0079112583771348, 0.0061586652882397175, 0.8424254655838013, 0.0], [0.0005753537407144904, 0.0011493146885186434, 0.00016752685769461095, 0.005644337274134159, 0.017415283247828484, 0.2974458634853363, 0.03801140934228897, 0.639590859413147, 0.0], [0.0009535205317661166, 0.003130656434223056, 0.0014017901849001646, 0.005568669177591801, 0.003641807707026601, 0.0030129719525575638, 0.010319999419152737, 0.9719706177711487, 0.0], [0.0016917022876441479, 0.005890947766602039, 0.0017149007180705667, 0.004001526162028313, 0.002252067206427455, 0.0021865328308194876, 0.006802778225392103, 0.9754595756530762, 0.0]], [[0.0003896583802998066, 0.0017033234471455216, 0.021503644064068794, 0.40691253542900085, 0.007933016866445541, 0.006713570095598698, 0.002126820385456085, 0.5527174472808838, 0.0], [0.0006370691698975861, 0.0015405573649331927, 0.009302031248807907, 0.16117973625659943, 0.017130451276898384, 0.01402740366756916, 0.004335847683250904, 0.7918468713760376, 0.0], [0.008498306386172771, 0.00991884060204029, 0.005995333194732666, 0.001991014927625656, 0.07031983882188797, 0.037300169467926025, 0.03170308098196983, 0.8342733979225159, 0.0], [0.01071477122604847, 0.03430856764316559, 0.006374785676598549, 0.0120957400649786, 0.024303041398525238, 0.0038288801442831755, 0.011030725203454494, 0.8973434567451477, 0.0], [0.0004045751702506095, 0.0011027362197637558, 0.005720999091863632, 0.062484897673130035, 0.0032846403773874044, 0.0033114454708993435, 0.0014831360895186663, 0.9222075343132019, 0.0], [0.0008343043737113476, 0.001131031895056367, 0.0027725882828235626, 0.004558165557682514, 0.018018070608377457, 0.014678003266453743, 0.053920093923807144, 0.9040877223014832, 0.0], [0.0009372461936436594, 0.0012430357746779919, 0.011083273217082024, 0.005873569753021002, 0.01025586761534214, 0.04819890484213829, 0.008325263857841492, 0.9140828847885132, 0.0], [0.0006743519916199148, 0.0012043697061017156, 0.002259097993373871, 0.002622259547933936, 0.0021616697777062654, 0.003987073432654142, 0.0013124251272529364, 0.98577880859375, 0.0], [0.0009663373348303139, 0.0015970353269949555, 0.002582801738753915, 0.0034246807917952538, 0.002758486196398735, 0.003739571198821068, 0.0011110372142866254, 0.9838200807571411, 0.0]], [[0.005330863408744335, 0.008631803095340729, 0.009827678091824055, 0.11337082087993622, 0.4361688196659088, 0.012192578986287117, 0.0010596021311357617, 0.413417786359787, 0.0], [0.002763201482594013, 0.0012211877619847655, 0.0025156536139547825, 0.09255701303482056, 0.3641187846660614, 0.037406131625175476, 0.0026993711944669485, 0.4967186152935028, 0.0], [0.00653268676251173, 0.0010376042919233441, 0.003650784259662032, 0.026265770196914673, 0.00845077633857727, 0.02610427513718605, 0.008140009827911854, 0.919818103313446, 0.0], [0.01836695894598961, 0.022130444645881653, 0.009358190931379795, 0.028020456433296204, 0.0035012769512832165, 0.015279566869139671, 0.009860272519290447, 0.8934828042984009, 0.0], [0.001960208872333169, 0.01055075041949749, 0.021352561190724373, 0.005918700248003006, 0.0031029079109430313, 0.003989339340478182, 0.0021618364844471216, 0.9509637355804443, 0.0], [0.0007299992139451206, 0.004590245895087719, 0.16603507101535797, 0.008218653500080109, 0.0021058570127934217, 0.0035127790179103613, 0.0016800359589979053, 0.8131274580955505, 0.0], [0.0002882689004763961, 0.0005078705144114792, 0.0032139436807483435, 0.015681341290473938, 0.019165851175785065, 0.012564524076879025, 0.001495400327257812, 0.9470828175544739, 0.0], [0.000651544367428869, 0.0008752697031013668, 0.00316909933462739, 0.004536926280707121, 0.0021426999010145664, 0.003565306542441249, 0.0018811422633007169, 0.9831780791282654, 0.0], [0.0009387225727550685, 0.0007676825043745339, 0.0022841468453407288, 0.00466448999941349, 0.003113334998488426, 0.004195849876850843, 0.001417550491169095, 0.9826182126998901, 0.0]], [[0.005873677786439657, 0.03472230210900307, 0.15803763270378113, 0.01661527343094349, 0.0005425460985861719, 0.007739979773759842, 0.007878460921347141, 0.7685901522636414, 0.0], [0.0004370486713014543, 0.007001523394137621, 0.08973786234855652, 0.03525616228580475, 0.0032250836957246065, 0.0007658473332412541, 0.007071645464748144, 0.8565047979354858, 0.0], [0.00042380354716442525, 0.0007088106940500438, 0.010550431907176971, 0.061432674527168274, 0.009984157979488373, 0.0012542486656457186, 0.0035498091019690037, 0.9120960831642151, 0.0], [0.0007285886094905436, 0.0013358459109440446, 0.002308734692633152, 0.0022226653527468443, 0.11129099130630493, 0.011635681614279747, 0.003922917880117893, 0.8665545582771301, 0.0], [0.0008659357554279268, 0.001140989945270121, 0.0013437730958685279, 0.0013055977178737521, 0.0074157388880848885, 0.2668215334415436, 0.0046316469088196754, 0.716474711894989, 0.0], [0.00139102921821177, 0.0018431658390909433, 0.00456396397203207, 0.003834295552223921, 0.004083416424691677, 0.034840118139982224, 0.13015244901180267, 0.8192915320396423, 0.0], [0.0016581236850470304, 0.0034228204749524593, 0.008902177214622498, 0.0035967619623988867, 0.0015886458568274975, 0.003902610158547759, 0.028897790238261223, 0.9480310082435608, 0.0], [0.0008545630844309926, 0.0007198746898211539, 0.0027096024714410305, 0.005106545984745026, 0.00275848968885839, 0.004001261200755835, 0.0022489898838102818, 0.9816006422042847, 0.0], [0.0006408206536434591, 0.0007032164139673114, 0.0032136680092662573, 0.00778947351500392, 0.002726268256083131, 0.002465979428961873, 0.0011475385399535298, 0.9813129901885986, 0.0]], [[0.004926969297230244, 0.0017042647814378142, 0.0015134681016206741, 0.01980770006775856, 0.15427492558956146, 0.12613961100578308, 0.06643813848495483, 0.6251949071884155, 0.0], [0.014791959896683693, 0.0019329192582517862, 0.0013701007701456547, 0.010995601303875446, 0.008370730094611645, 0.05381190404295921, 0.033441342413425446, 0.8752854466438293, 0.0], [0.04578801617026329, 0.0032315205316990614, 0.006494245491921902, 0.005520590115338564, 0.000803303555585444, 0.010794976726174355, 0.01303816307336092, 0.9143291711807251, 0.0], [0.008451886475086212, 0.11548202484846115, 0.012652887962758541, 0.017001468688249588, 0.00018168242240790278, 0.0014713442651554942, 0.0020826724357903004, 0.842676043510437, 0.0], [0.0015908342320472002, 0.03268617391586304, 0.18605266511440277, 0.03421389311552048, 0.004365929402410984, 0.00025625983835197985, 0.005042743869125843, 0.7357915043830872, 0.0], [0.0003300097887404263, 0.0018675311002880335, 0.11506057530641556, 0.06898004561662674, 0.011078327894210815, 0.006029547657817602, 0.0022762881126254797, 0.7943776845932007, 0.0], [0.00017652282258495688, 0.00011697204172378406, 0.002030708594247699, 0.04231399670243263, 0.10250169038772583, 0.01512075774371624, 0.00460480060428381, 0.8331345915794373, 0.0], [0.0020893916953355074, 0.0021146147046238184, 0.004595846403390169, 0.0042784372344613075, 0.00370677188038826, 0.007945860736072063, 0.008342639543116093, 0.9669264554977417, 0.0], [0.004096257966011763, 0.002326265210285783, 0.002770082326605916, 0.0023189280182123184, 0.003021242329850793, 0.007752501871436834, 0.0056955222971737385, 0.9720191359519958, 0.0]], [[0.005974628031253815, 0.012941702269017696, 0.12920895218849182, 0.015292366035282612, 0.002574657090008259, 0.01743617281317711, 0.0013808713993057609, 0.8151906728744507, 0.0], [0.007724011782556772, 0.013940676115453243, 0.03867562115192413, 0.04149690270423889, 0.002406274899840355, 0.0059273019433021545, 0.001513585913926363, 0.8883156180381775, 0.0], [0.00204634852707386, 0.010195323266088963, 0.010651253163814545, 0.15712057054042816, 0.0017251813551411033, 0.002867255825549364, 0.020641978830099106, 0.7947520613670349, 0.0], [0.0016041751950979233, 0.013261704705655575, 0.02313743345439434, 0.009115914814174175, 0.015803813934326172, 0.019047118723392487, 0.00783008337020874, 0.9101998209953308, 0.0], [0.0002101501595461741, 0.001157776452600956, 0.013689869083464146, 0.09271449595689774, 0.012431984767317772, 0.10521454364061356, 0.008242473006248474, 0.7663387060165405, 0.0], [0.00025176460621878505, 0.001195119577459991, 0.004558346699923277, 0.05520407855510712, 0.010008418001234531, 0.03244376927614212, 0.03993627056479454, 0.8564022183418274, 0.0], [7.39331662771292e-05, 0.00018958034343086183, 0.00032228551572188735, 0.07539835572242737, 0.010394012555480003, 0.026913033798336983, 0.025684263557195663, 0.8610244989395142, 0.0], [7.088336133165285e-05, 0.0002451043692417443, 0.0023642294108867645, 0.0066283694468438625, 0.002506957156583667, 0.0033063869923353195, 0.0009043276077136397, 0.9839736819267273, 0.0], [0.0001577644725330174, 0.0005140264402143657, 0.0032665531616657972, 0.008749006316065788, 0.0031051672995090485, 0.0033573885448276997, 0.0005672411061823368, 0.9802829027175903, 0.0]]], [[[0.008317654952406883, 0.0036479951813817024, 0.009787688963115215, 0.027644207701086998, 0.05030674859881401, 0.012527033686637878, 0.010194502770900726, 0.87757408618927, 0.0], [0.017487313598394394, 0.0040278625674545765, 0.0019138159696012735, 0.002249570330604911, 0.007554033305495977, 0.005558864213526249, 0.0011793377343565226, 0.960029125213623, 0.0], [0.012229609303176403, 0.0016657409723848104, 0.002521844580769539, 0.003275893395766616, 0.0013925627572461963, 0.001687762443907559, 0.0020003574900329113, 0.9752261638641357, 0.0], [0.0011695919092744589, 0.01643228903412819, 0.017657961696386337, 0.015781663358211517, 0.0005472626071423292, 0.0005544345476664603, 0.001699403510428965, 0.9461573958396912, 0.0], [0.0023148939944803715, 0.01869119703769684, 0.14576804637908936, 0.006027229130268097, 0.007368159014731646, 0.0002551671932451427, 0.0007980027003213763, 0.818777322769165, 0.0], [0.0032991061452776194, 0.0013858838938176632, 0.005745085421949625, 0.05688418447971344, 0.015268382616341114, 0.0008848897996358573, 0.0006059579318389297, 0.9159265160560608, 0.0], [0.0001812538248486817, 0.0001599071256350726, 0.0022892262786626816, 0.032366178929805756, 0.012598486617207527, 0.034951403737068176, 0.004291052930057049, 0.9131624698638916, 0.0], [0.0028113452717661858, 0.0034621465019881725, 0.013587013818323612, 0.02644279971718788, 0.039299726486206055, 0.04123739153146744, 0.05004492029547691, 0.8231146335601807, 0.0], [0.004085558000952005, 0.00393176544457674, 0.009513571858406067, 0.01849684864282608, 0.03238793835043907, 0.038441531360149384, 0.04218161106109619, 0.8509611487388611, 0.0]], [[0.030869634822010994, 0.013276580721139908, 0.0024307630956172943, 0.022127632051706314, 0.0021404654253274202, 0.0008370926952920854, 0.0007264870801009238, 0.9275913238525391, 0.0], [0.05754769966006279, 0.023796113207936287, 0.0027198053430765867, 0.010354817844927311, 0.0033508073538541794, 0.0011211158707737923, 0.0009271103190258145, 0.9001824855804443, 0.0], [0.010259585455060005, 0.12526509165763855, 0.007096556946635246, 0.0010406734654679894, 0.0025332127697765827, 0.0008765999227762222, 0.0004345671331975609, 0.8524937033653259, 0.0], [0.0030406340956687927, 0.0016124309040606022, 0.053520213812589645, 0.05471142753958702, 0.0005556084215641022, 0.00046056153951212764, 0.007239360827952623, 0.8788596987724304, 0.0], [0.00338224065490067, 0.0015501847956329584, 0.003054346889257431, 0.16550301015377045, 0.015744319185614586, 0.002798615489155054, 0.00027231196872889996, 0.8076949119567871, 0.0], [0.0007228914764709771, 0.0019834532868117094, 0.0021531207021325827, 0.0050097256898880005, 0.06822231411933899, 0.024281702935695648, 0.0006072776159271598, 0.8970195055007935, 0.0], [0.002345099113881588, 0.00042026990558952093, 0.0008463929407298565, 0.023895522579550743, 0.005104860290884972, 0.047531574964523315, 0.006124009843915701, 0.9137322902679443, 0.0], [0.004403652623295784, 0.0030653057619929314, 0.0058290171436965466, 0.007758529856801033, 0.010159027762711048, 0.015095540322363377, 0.05962279811501503, 0.8940661549568176, 0.0], [0.005127534735947847, 0.004319168161600828, 0.006571941077709198, 0.006534992251545191, 0.007035248912870884, 0.011586903594434261, 0.053213488310575485, 0.9056107401847839, 0.0]], [[0.13982678949832916, 0.08647053688764572, 0.0073966383934021, 0.004458504728972912, 0.004073314368724823, 0.011491908691823483, 0.005132022779434919, 0.7411502599716187, 0.0], [0.06757521629333496, 0.056486524641513824, 0.010465970262885094, 0.0032829877454787493, 0.004019221756607294, 0.0056457254104316235, 0.001866788836196065, 0.8506575226783752, 0.0], [0.009172795340418816, 0.03277066349983215, 0.003290472785010934, 0.029535558074712753, 0.023895464837551117, 0.0040273829363286495, 0.0036457940004765987, 0.8936618566513062, 0.0], [0.0006944742053747177, 0.0016747430199757218, 0.024483831599354744, 0.022448154166340828, 0.005753400269895792, 0.0026191293727606535, 0.0015505016781389713, 0.9407758116722107, 0.0], [0.0014386598486453295, 0.0020459466613829136, 0.010756933130323887, 0.018779542297124863, 0.012267925776541233, 0.01255006343126297, 0.009550508111715317, 0.9326104521751404, 0.0], [0.00032730333623476326, 0.0004710375505965203, 0.0024139820598065853, 0.04315789416432381, 0.029834672808647156, 0.005867750383913517, 0.009187721647322178, 0.9087396264076233, 0.0], [0.000536165724042803, 0.0005873504560440779, 0.00209730863571167, 0.010146362707018852, 0.014143312349915504, 0.012562645599246025, 0.013642307370901108, 0.9462845325469971, 0.0], [0.001630057580769062, 0.0023703326005488634, 0.00377113395370543, 0.017921224236488342, 0.01619672402739525, 0.010350068099796772, 0.03082405775785446, 0.9169363975524902, 0.0], [0.00199194997549057, 0.002972979564219713, 0.004760188981890678, 0.019457560032606125, 0.01590609923005104, 0.008741986006498337, 0.023518851026892662, 0.9226503968238831, 0.0]], [[0.016405997797846794, 0.003994046710431576, 0.003226236905902624, 0.11668281257152557, 0.010872196406126022, 0.005519172176718712, 0.002513537649065256, 0.8407859206199646, 0.0], [0.0168768223375082, 0.0007989061996340752, 0.007100190035998821, 0.08458350598812103, 0.00018243918020743877, 0.0013569073053076863, 0.0026339516043663025, 0.8864672780036926, 0.0], [0.0016202371334657073, 0.032774701714515686, 0.03200704604387283, 0.029065538197755814, 0.00022202171385288239, 0.0016517041949555278, 0.002165868179872632, 0.9004928469657898, 0.0], [0.008760608732700348, 0.03219828009605408, 0.08192385733127594, 0.007060757838189602, 0.0016297829570248723, 0.0003636227047536522, 0.004021730739623308, 0.8640413880348206, 0.0], [0.0006554757128469646, 0.00012541910109575838, 0.0066552055068314075, 0.17947998642921448, 0.011306594125926495, 0.00515388697385788, 0.0004975795745849609, 0.7961258888244629, 0.0], [0.00010160201054532081, 0.00014187867054715753, 0.0018059572903439403, 0.005293995141983032, 0.03485701605677605, 0.02605654112994671, 0.001875959918834269, 0.9298670887947083, 0.0], [0.0015660627977922559, 0.0012454676907509565, 0.00013028921966906637, 0.006981222424656153, 0.003410627832636237, 0.2211293876171112, 0.009271944873034954, 0.7562649846076965, 0.0], [0.0056712087243795395, 0.002764858305454254, 0.008417409844696522, 0.0146818608045578, 0.013698546215891838, 0.04496892914175987, 0.06518230587244034, 0.8446149230003357, 0.0], [0.0070409029722213745, 0.004649203736335039, 0.009636708535254002, 0.012927915900945663, 0.008870364166796207, 0.030554378405213356, 0.04760519787669182, 0.8787152767181396, 0.0]], [[0.06509312987327576, 0.06019321456551552, 0.009480948559939861, 0.026884011924266815, 0.0013464355142787099, 0.0010456531308591366, 0.0028038397431373596, 0.8331527709960938, 0.0], [0.02859249897301197, 0.05215967446565628, 0.010487611405551434, 0.06955858319997787, 0.0024318413343280554, 0.0005536220269277692, 0.0009782308479771018, 0.835237979888916, 0.0], [0.012216695584356785, 0.027969175949692726, 0.010819722898304462, 0.0196799635887146, 0.023536531254649162, 0.009545299224555492, 0.01422093529254198, 0.8820116519927979, 0.0], [0.0007940912619233131, 0.0006108967354521155, 0.004414909984916449, 0.003226382425054908, 0.010263347998261452, 0.021717961877584457, 0.0025175255723297596, 0.9564549326896667, 0.0], [0.0015485266922041774, 0.0013904267689213157, 0.00028536372701637447, 0.005343555938452482, 0.0021029675845056772, 0.006738757248967886, 0.004607924725860357, 0.9779825210571289, 0.0], [0.002378517761826515, 0.00504764961078763, 0.0038484211545437574, 0.015526828356087208, 0.015061180107295513, 0.018471622839570045, 0.048411499708890915, 0.8912542462348938, 0.0], [0.001300250762142241, 0.0018375160871073604, 0.001544963102787733, 0.005189820192754269, 0.012400307692587376, 0.02891548164188862, 0.011434439569711685, 0.9373772740364075, 0.0], [0.0036847174633294344, 0.002450298983603716, 0.0062318225391209126, 0.008085982874035835, 0.005066522862762213, 0.006958209443837404, 0.0027053363155573606, 0.9648171067237854, 0.0], [0.004418626427650452, 0.0032713685650378466, 0.0075899758376181126, 0.010035818442702293, 0.005554250441491604, 0.006776594091206789, 0.0023449319414794445, 0.9600083827972412, 0.0]], [[0.00343615235760808, 0.0051777558401227, 0.0005404426483437419, 0.06580158323049545, 0.03229774162173271, 0.0013589863665401936, 0.001093282364308834, 0.890294075012207, 0.0], [0.0007285464089363813, 0.0010815041605383158, 0.0009504170739091933, 0.016694916412234306, 0.020682143047451973, 0.008577332831919193, 0.001048276200890541, 0.9502367973327637, 0.0], [0.001729155657812953, 0.0012739310041069984, 0.0012804717989638448, 0.000732345855794847, 0.04775579273700714, 0.05903501436114311, 0.003419737098738551, 0.8847735524177551, 0.0], [0.031328022480010986, 0.04058593884110451, 0.002538812579587102, 0.003938521258533001, 0.0074404822662472725, 0.0114755155518651, 0.009905380196869373, 0.8927872776985168, 0.0], [0.011218074709177017, 0.0225171260535717, 0.0002909168542828411, 0.004281139932572842, 0.005017885006964207, 0.0007417537271976471, 0.0010144863044843078, 0.9549186825752258, 0.0], [0.012604541145265102, 0.03177815303206444, 0.0017510739853605628, 0.000753947882913053, 0.007344392128288746, 0.0018189805559813976, 0.0019146844279021025, 0.9420341849327087, 0.0], [0.0021431127097457647, 0.0028055787552148104, 0.0009266833076253533, 0.02830316312611103, 0.005942909047007561, 0.0020154283847659826, 0.0005342260701581836, 0.9573289155960083, 0.0], [0.0037039942108094692, 0.005884487181901932, 0.008368286304175854, 0.021228298544883728, 0.013923347927629948, 0.014061921276152134, 0.006026191636919975, 0.9268035292625427, 0.0], [0.003949429374188185, 0.005683190654963255, 0.00795795675367117, 0.020207766443490982, 0.018058834597468376, 0.016428006812930107, 0.0063838837668299675, 0.9213308691978455, 0.0]], [[0.007519492879509926, 0.08331199735403061, 0.006662619300186634, 0.006457943469285965, 0.007917233742773533, 0.004677614662796259, 0.006381905172020197, 0.8770712018013, 0.0], [0.0010309092467650771, 0.008859090507030487, 0.028174208477139473, 0.00904688611626625, 0.0049282098188996315, 0.0007266951142810285, 0.00406460277736187, 0.9431694149971008, 0.0], [0.0021086654160171747, 0.0016119902720674872, 0.02024422213435173, 0.05626950412988663, 0.0030523408204317093, 0.00079410953912884, 0.0007045226520858705, 0.9152147173881531, 0.0], [0.00021625046792905778, 0.0003451817319728434, 0.002298622392117977, 0.005786420777440071, 0.19486930966377258, 0.005784034263342619, 0.0035631023347377777, 0.7871370911598206, 0.0], [0.0002150351501768455, 0.00046698874211870134, 0.0009082158212549984, 0.0018247388070449233, 0.005354718770831823, 0.17543689906597137, 0.007212856784462929, 0.8085805177688599, 0.0], [0.002539344597607851, 0.0016185118583962321, 0.0012785028666257858, 0.009004445746541023, 0.0021028181072324514, 0.006245102267712355, 0.026751495897769928, 0.9504597783088684, 0.0], [0.0012489616638049483, 0.005776220001280308, 0.00448970403522253, 0.004833718296140432, 0.010355648584663868, 0.005979584995657206, 0.013243983499705791, 0.9540721774101257, 0.0], [0.00857686810195446, 0.003742012195289135, 0.005377760622650385, 0.012935762293636799, 0.010022050701081753, 0.004796384833753109, 0.0035043915268033743, 0.9510447978973389, 0.0], [0.006950353737920523, 0.003832590999081731, 0.006566761527210474, 0.016343187540769577, 0.009746733121573925, 0.003522707847878337, 0.0023253299295902252, 0.950712263584137, 0.0]], [[0.126543790102005, 0.1697969138622284, 0.0033686826936900616, 0.023475736379623413, 0.1679784059524536, 0.004218542482703924, 0.005069556180387735, 0.49954837560653687, 0.0], [0.029719365760684013, 0.020311087369918823, 0.0016461856430396438, 0.01950007490813732, 0.07506401836872101, 0.0011375928297638893, 0.0005185780464671552, 0.852103054523468, 0.0], [0.008028320968151093, 0.009123335592448711, 0.014041997492313385, 0.004439333453774452, 0.005790808238089085, 0.005036496091634035, 0.001657456741668284, 0.9518822431564331, 0.0], [0.0016596843488514423, 0.003024082398042083, 0.059276968240737915, 0.012789997272193432, 0.0027610354591161013, 0.00774538004770875, 0.00566905690357089, 0.9070738554000854, 0.0], [0.00031069331453181803, 0.0020537932869046926, 0.0049101002514362335, 0.01248200237751007, 0.01542567741125822, 0.005769170355051756, 0.00023193194647319615, 0.958816647529602, 0.0], [0.002068121684715152, 0.0017032838659361005, 0.011424009688198566, 0.007665219716727734, 0.008526166900992393, 0.027828963473439217, 0.0019396484130993485, 0.9388445615768433, 0.0], [0.0003431728109717369, 0.00025021651526913047, 0.00272521935403347, 0.05062912032008171, 0.007109027821570635, 0.02729271724820137, 0.0011702157789841294, 0.910480260848999, 0.0], [0.001491520437411964, 0.002468493999913335, 0.009233968332409859, 0.020811311900615692, 0.0066303228959441185, 0.029124774038791656, 0.009709961712360382, 0.9205296635627747, 0.0], [0.001787894987501204, 0.0029642856679856777, 0.010441496968269348, 0.020024051889777184, 0.0069936830550432205, 0.026264719665050507, 0.007994848303496838, 0.9235290288925171, 0.0]]]], \"left_text\": [\"V\", \"V\", \"T\", \"G\", \"V\", \"T\", \"A\", \"<eos>\", \"<pad>\"], \"right_text\": [\"V\", \"V\", \"T\", \"G\", \"V\", \"T\", \"A\", \"<eos>\", \"<pad>\"]}, {\"name\": \"Decoder\", \"attn\": [[[[1.0, 0.0, 0.0, 0.0, 0.0, 0.0, 0.0, 0.0], [1.0, 2.2462814383126818e-42, 0.0, 0.0, 0.0, 0.0, 0.0, 0.0], [0.0, 0.0, 1.0, 0.0, 0.0, 0.0, 0.0, 0.0], [0.0, 0.0, 1.0, 0.0, 0.0, 0.0, 0.0, 0.0], [0.0, 0.0, 0.0, 0.0, 1.0, 0.0, 0.0, 0.0], [0.0, 0.0, 0.0, 0.0, 1.0, 0.0, 0.0, 0.0], [0.0, 0.0, 0.0, 0.0, 1.0, 0.0, 0.0, 0.0], [0.0, 0.0, 0.0, 0.0, 1.0, 0.0, 0.0, 0.0]], [[1.0, 0.0, 0.0, 0.0, 0.0, 0.0, 0.0, 0.0], [1.0, 0.0, 0.0, 0.0, 0.0, 0.0, 0.0, 0.0], [0.0, 1.0, 0.0, 0.0, 0.0, 0.0, 0.0, 0.0], [0.0, 0.0, 1.0, 7.006492321624085e-45, 0.0, 0.0, 0.0, 0.0], [0.0, 0.0, 0.0, 1.0, 0.0, 0.0, 0.0, 0.0], [0.0, 0.0, 0.0, 0.0, 1.0, 0.0, 0.0, 0.0], [0.0, 0.0, 0.0, 0.0, 0.0, 1.0, 0.0, 0.0], [0.0, 0.0, 0.0, 0.0, 0.0, 0.0, 1.0, 0.0]], [[1.0, 0.0, 0.0, 0.0, 0.0, 0.0, 0.0, 0.0], [0.9604994058609009, 0.03950056806206703, 0.0, 0.0, 0.0, 0.0, 0.0, 0.0], [0.15826883912086487, 0.7833244800567627, 0.058406706899404526, 0.0, 0.0, 0.0, 0.0, 0.0], [0.004990891553461552, 0.049267444759607315, 0.9191138744354248, 0.02662784233689308, 0.0, 0.0, 0.0, 0.0], [0.10620158165693283, 0.0010528028942644596, 0.15822336077690125, 0.6623520851135254, 0.072170190513134, 0.0, 0.0, 0.0], [0.008155569434165955, 1.4128637303656433e-05, 0.0010198968229815364, 0.006146405357867479, 0.9383843541145325, 0.0462796688079834, 0.0, 0.0], [0.0036612616386264563, 2.2398134547074733e-07, 2.0931574908900075e-06, 0.00013224930444266647, 0.053884055465459824, 0.8241540193557739, 0.11816609650850296, 0.0], [0.002093835501000285, 2.9908983378845733e-07, 1.3233584184035863e-07, 8.666791018185904e-07, 0.0004974829498678446, 0.07285219430923462, 0.5710710883140564, 0.35348406434059143]], [[1.0, 0.0, 0.0, 0.0, 0.0, 0.0, 0.0, 0.0], [1.0, 0.0, 0.0, 0.0, 0.0, 0.0, 0.0, 0.0], [0.0, 0.0, 1.0, 0.0, 0.0, 0.0, 0.0, 0.0], [0.0, 0.0, 0.0, 1.0, 0.0, 0.0, 0.0, 0.0], [0.0, 0.0, 0.0, 0.0, 1.0, 0.0, 0.0, 0.0], [0.0, 0.0, 0.0, 0.0, 0.0, 1.0, 0.0, 0.0], [0.0, 0.0, 0.0, 0.0, 0.0, 0.0, 1.0, 0.0], [0.0, 0.0, 0.0, 0.0, 0.0, 0.0, 0.0, 1.0]], [[1.0, 0.0, 0.0, 0.0, 0.0, 0.0, 0.0, 0.0], [0.9998286962509155, 0.0001712262019282207, 0.0, 0.0, 0.0, 0.0, 0.0, 0.0], [0.9855778813362122, 0.014412393793463707, 9.727348697197158e-06, 0.0, 0.0, 0.0, 0.0, 0.0], [0.10405576229095459, 0.814724326133728, 0.08102811872959137, 0.00019186186545994133, 0.0, 0.0, 0.0, 0.0], [1.1660910786304157e-05, 0.0032161776907742023, 0.970367968082428, 0.026402030140161514, 2.140332753697294e-06, 0.0, 0.0, 0.0], [4.845381873508359e-10, 1.4766113736186526e-06, 0.11957218497991562, 0.873715341091156, 0.006710948888212442, 9.93500819390647e-08, 0.0, 0.0], [1.013220149761104e-16, 9.627372243327641e-15, 2.3957289485565525e-08, 0.016413651406764984, 0.9627257585525513, 0.02086051180958748, 2.848055302706598e-08, 0.0], [6.55528929245479e-27, 1.6614182961862208e-27, 3.978014155550512e-21, 1.0312091458519745e-11, 0.0004093918832950294, 0.9985122084617615, 0.001078433240763843, 1.5062766312023967e-10]], [[1.0, 0.0, 0.0, 0.0, 0.0, 0.0, 0.0, 0.0], [1.0, 1.9950288877523003e-30, 0.0, 0.0, 0.0, 0.0, 0.0, 0.0], [2.2884465091042155e-40, 1.0, 1.4058152141285238e-24, 0.0, 0.0, 0.0, 0.0, 0.0], [0.0, 1.0594239287688645e-20, 1.0, 9.654913519607615e-16, 0.0, 0.0, 0.0, 0.0], [0.0, 0.0, 1.002703162366786e-25, 1.0, 3.171031007500235e-22, 0.0, 0.0, 0.0], [0.0, 0.0, 0.0, 1.9120458279613686e-31, 1.0, 2.215749481358902e-20, 0.0, 0.0], [0.0, 0.0, 0.0, 0.0, 1.2122266180628434e-23, 1.0, 2.744920539092971e-19, 0.0], [0.0, 0.0, 0.0, 0.0, 0.0, 3.552975297221039e-35, 1.0, 1.8241662959680464e-24]], [[1.0, 0.0, 0.0, 0.0, 0.0, 0.0, 0.0, 0.0], [1.0, 0.0, 0.0, 0.0, 0.0, 0.0, 0.0, 0.0], [0.0, 2.4802982818549262e-43, 1.0, 0.0, 0.0, 0.0, 0.0, 0.0], [0.0, 0.0, 0.0, 1.0, 0.0, 0.0, 0.0, 0.0], [0.0, 0.0, 0.0, 1.0, 0.0, 0.0, 0.0, 0.0], [0.0, 0.0, 0.0, 0.0, 0.0, 1.0, 0.0, 0.0], [0.0, 0.0, 0.0, 0.0, 0.0, 1.0, 3.4490511594233952e-28, 0.0], [0.0, 0.0, 0.0, 0.0, 0.0, 9.80908925027372e-45, 3.9889525051862964e-32, 1.0]], [[1.0, 0.0, 0.0, 0.0, 0.0, 0.0, 0.0, 0.0], [0.2028065323829651, 0.7971934676170349, 0.0, 0.0, 0.0, 0.0, 0.0, 0.0], [0.2814235985279083, 0.05577857047319412, 0.6627978086471558, 0.0, 0.0, 0.0, 0.0, 0.0], [0.5499498844146729, 0.026557868346571922, 0.08013440668582916, 0.3433578312397003, 0.0, 0.0, 0.0, 0.0], [0.5694552063941956, 0.03582997992634773, 0.060328949242830276, 0.1254757046699524, 0.20891010761260986, 0.0, 0.0, 0.0], [0.4835054576396942, 0.019172141328454018, 0.02661634050309658, 0.09143004566431046, 0.048294827342033386, 0.33098116517066956, 0.0, 0.0], [0.6134853363037109, 0.02031875215470791, 0.03878426551818848, 0.06545094400644302, 0.02753698080778122, 0.07199880480766296, 0.16242501139640808, 0.0], [0.5696744918823242, 0.026591813191771507, 0.041568197309970856, 0.06311319768428802, 0.018376220017671585, 0.024167586117982864, 0.047934241592884064, 0.20857416093349457]]], [[[1.0, 0.0, 0.0, 0.0, 0.0, 0.0, 0.0, 0.0], [0.9835157990455627, 0.016484137624502182, 0.0, 0.0, 0.0, 0.0, 0.0, 0.0], [0.6248724460601807, 0.37463727593421936, 0.0004903210792690516, 0.0, 0.0, 0.0, 0.0, 0.0], [0.835975706577301, 0.08098147064447403, 0.021057775244116783, 0.06198509782552719, 0.0, 0.0, 0.0, 0.0], [0.63725745677948, 0.003862598678097129, 0.009206331335008144, 0.3321358561515808, 0.01753764972090721, 0.0, 0.0, 0.0], [0.7340127825737, 0.004434346687048674, 0.004976390395313501, 0.11256151646375656, 0.1067681610584259, 0.03724677488207817, 0.0, 0.0], [0.9591043591499329, 0.0006208375561982393, 7.69426696933806e-05, 0.007632562890648842, 0.015247673727571964, 0.012237573973834515, 0.005080030765384436, 0.0], [0.9304541349411011, 0.001204383559525013, 0.0005118126864545047, 0.003518051467835903, 0.014945246279239655, 0.009376506321132183, 0.027560176327824593, 0.012429763562977314]], [[1.0, 0.0, 0.0, 0.0, 0.0, 0.0, 0.0, 0.0], [0.9919192790985107, 0.008080647327005863, 0.0, 0.0, 0.0, 0.0, 0.0, 0.0], [0.8751956820487976, 0.12005322426557541, 0.004751069005578756, 0.0, 0.0, 0.0, 0.0, 0.0], [0.8383838534355164, 0.03157752752304077, 0.10746558755636215, 0.022573059424757957, 0.0, 0.0, 0.0, 0.0], [0.7866697311401367, 0.0050446875393390656, 0.052824102342128754, 0.11151103675365448, 0.04395030438899994, 0.0, 0.0, 0.0], [0.8313796520233154, 0.013597648590803146, 0.0077538639307022095, 0.00805717334151268, 0.11808589100837708, 0.021125776693224907, 0.0, 0.0], [0.651357889175415, 0.006351839285343885, 0.0025083001237362623, 0.010213666595518589, 0.05914557725191116, 0.2555241286754608, 0.014898554421961308, 0.0], [0.7769012451171875, 0.005525579210370779, 0.005922520533204079, 0.016565460711717606, 0.03366309031844139, 0.08678170293569565, 0.06272315979003906, 0.011917205527424812]], [[1.0, 0.0, 0.0, 0.0, 0.0, 0.0, 0.0, 0.0], [0.9993165731430054, 0.0006834241794422269, 0.0, 0.0, 0.0, 0.0, 0.0, 0.0], [0.985736072063446, 0.008865589275956154, 0.005398331210017204, 0.0, 0.0, 0.0, 0.0, 0.0], [0.9041123986244202, 0.055680934339761734, 0.019112324342131615, 0.02109440229833126, 0.0, 0.0, 0.0, 0.0], [0.9037834405899048, 0.005988525226712227, 0.0035358406603336334, 0.048701588064432144, 0.037990693002939224, 0.0, 0.0, 0.0], [0.8921692371368408, 0.00915574561804533, 0.009582126513123512, 0.016322240233421326, 0.06740406155586243, 0.005366475787013769, 0.0, 0.0], [0.8127565383911133, 0.0033064871095120907, 0.0007078932248987257, 0.01462104544043541, 0.13667888939380646, 0.014000054448843002, 0.017929179593920708, 0.0], [0.6837623119354248, 0.0052499920129776, 0.0024010464549064636, 0.015739504247903824, 0.09951682388782501, 0.04179937392473221, 0.12432830780744553, 0.027202581986784935]], [[1.0, 0.0, 0.0, 0.0, 0.0, 0.0, 0.0, 0.0], [0.997238039970398, 0.0027618990279734135, 0.0, 0.0, 0.0, 0.0, 0.0, 0.0], [0.9948511719703674, 0.004092360381036997, 0.001056463923305273, 0.0, 0.0, 0.0, 0.0, 0.0], [0.9303910732269287, 0.032370809465646744, 0.006715001072734594, 0.030523153021931648, 0.0, 0.0, 0.0, 0.0], [0.9417009353637695, 0.008236220106482506, 0.02088608406484127, 0.02381398156285286, 0.005362780299037695, 0.0, 0.0, 0.0], [0.8228136301040649, 0.006595874670892954, 0.04863822087645531, 0.08983847498893738, 0.01566792093217373, 0.016445893794298172, 0.0, 0.0], [0.6016473174095154, 0.0038954445626586676, 0.009892676025629044, 0.061743758618831635, 0.16538619995117188, 0.09689782559871674, 0.060536690056324005, 0.0], [0.661734938621521, 0.008073298260569572, 0.004589394200593233, 0.0264827162027359, 0.08481968194246292, 0.08180911093950272, 0.11746474355459213, 0.01502611767500639]], [[1.0, 0.0, 0.0, 0.0, 0.0, 0.0, 0.0, 0.0], [0.9985223412513733, 0.0014776199823245406, 0.0, 0.0, 0.0, 0.0, 0.0, 0.0], [0.9282305836677551, 0.03839770331978798, 0.033371683210134506, 0.0, 0.0, 0.0, 0.0, 0.0], [0.8781004548072815, 0.014928418211638927, 0.07394533604383469, 0.03302580490708351, 0.0, 0.0, 0.0, 0.0], [0.7996442317962646, 0.002429609652608633, 0.015177025459706783, 0.17025530338287354, 0.012493797577917576, 0.0, 0.0, 0.0], [0.8448978662490845, 0.002437099115923047, 0.0026702112518250942, 0.027275988832116127, 0.10192142426967621, 0.020797422155737877, 0.0, 0.0], [0.6943091154098511, 0.0018462804146111012, 0.0019252209458500147, 0.012713749893009663, 0.05549177527427673, 0.20949749648571014, 0.024216340854763985, 0.0], [0.6721048951148987, 0.012598024681210518, 0.0068063014186918736, 0.006627372931689024, 0.015104047954082489, 0.024523135274648666, 0.23960232734680176, 0.022633861750364304]], [[1.0, 0.0, 0.0, 0.0, 0.0, 0.0, 0.0, 0.0], [0.9822449088096619, 0.017755167558789253, 0.0, 0.0, 0.0, 0.0, 0.0, 0.0], [0.962537407875061, 0.035414669662714005, 0.0020479965023696423, 0.0, 0.0, 0.0, 0.0, 0.0], [0.8456704020500183, 0.1425219476222992, 0.009419399313628674, 0.0023882705718278885, 0.0, 0.0, 0.0, 0.0], [0.7525839805603027, 0.0152613939717412, 0.1865280717611313, 0.04406117647886276, 0.0015653105219826102, 0.0, 0.0, 0.0], [0.8302904367446899, 0.03950243443250656, 0.009819011203944683, 0.0734015479683876, 0.02869962528347969, 0.018286826089024544, 0.0, 0.0], [0.5521471500396729, 0.03885932266712189, 0.015133127570152283, 0.0723007395863533, 0.055407337844371796, 0.24885150790214539, 0.017300859093666077, 0.0], [0.594245195388794, 0.03836151584982872, 0.0284742284566164, 0.06048575043678284, 0.1059165894985199, 0.0954168513417244, 0.05858001857995987, 0.018519749864935875]], [[1.0, 0.0, 0.0, 0.0, 0.0, 0.0, 0.0, 0.0], [0.9959285855293274, 0.004071390256285667, 0.0, 0.0, 0.0, 0.0, 0.0, 0.0], [0.9259911775588989, 0.06648262590169907, 0.0075261835008859634, 0.0, 0.0, 0.0, 0.0, 0.0], [0.9241878390312195, 0.06508680433034897, 0.00919693149626255, 0.0015284435357898474, 0.0, 0.0, 0.0, 0.0], [0.8954710364341736, 0.013596347533166409, 0.01172776147723198, 0.03935288265347481, 0.039851874113082886, 0.0, 0.0, 0.0], [0.5960922241210938, 0.004393912851810455, 0.0004624587018042803, 0.0072807129472494125, 0.3835657835006714, 0.008204901590943336, 0.0, 0.0], [0.8721479177474976, 0.004420778714120388, 0.00015437672846019268, 0.002520979382097721, 0.015131200663745403, 0.013748829253017902, 0.09187577664852142, 0.0], [0.8164393901824951, 0.009283866733312607, 0.003082945477217436, 0.001664889045059681, 0.008075356483459473, 0.011410076171159744, 0.10454635322093964, 0.04549715667963028]], [[1.0, 0.0, 0.0, 0.0, 0.0, 0.0, 0.0, 0.0], [0.9964906573295593, 0.003509264439344406, 0.0, 0.0, 0.0, 0.0, 0.0, 0.0], [0.9976932406425476, 0.000822218949906528, 0.0014845345867797732, 0.0, 0.0, 0.0, 0.0, 0.0], [0.7601897716522217, 0.0036041042767465115, 0.20360428094863892, 0.03260185196995735, 0.0, 0.0, 0.0, 0.0], [0.9304896593093872, 0.0019560460932552814, 0.047008711844682693, 0.009202500805258751, 0.011343096382915974, 0.0, 0.0, 0.0], [0.7658867239952087, 0.0007660459377802908, 0.02017192728817463, 0.03785069286823273, 0.17063045501708984, 0.00469424482434988, 0.0, 0.0], [0.9070665836334229, 0.0015993270790204406, 0.005857143085449934, 0.0033800844103097916, 0.0746697261929512, 0.0037897212896496058, 0.0036373690236359835, 0.0], [0.8835440278053284, 0.0035381601192057133, 0.003707403317093849, 0.007637267932295799, 0.04011102393269539, 0.01237526535987854, 0.029700346291065216, 0.01938665471971035]]], [[[1.0, 0.0, 0.0, 0.0, 0.0, 0.0, 0.0, 0.0], [0.9650675058364868, 0.034932538866996765, 0.0, 0.0, 0.0, 0.0, 0.0, 0.0], [0.32045456767082214, 0.6266271471977234, 0.05291832610964775, 0.0, 0.0, 0.0, 0.0, 0.0], [0.43319839239120483, 0.09749564528465271, 0.4257928133010864, 0.04351309686899185, 0.0, 0.0, 0.0, 0.0], [0.07753028720617294, 0.004720001481473446, 0.016670331358909607, 0.8219191431999207, 0.0791601911187172, 0.0, 0.0, 0.0], [0.1459490805864334, 0.005640855990350246, 0.012010900303721428, 0.10811256617307663, 0.5599513649940491, 0.1683352142572403, 0.0, 0.0], [0.2023920714855194, 0.00430191308259964, 0.003495209850370884, 0.06739063560962677, 0.036306221038103104, 0.17955589294433594, 0.5065580010414124, 0.0], [0.006726167164742947, 0.0004810116079170257, 0.002817489905282855, 0.0046844868920743465, 0.019125696271657944, 0.008554796688258648, 0.9165253043174744, 0.04108511656522751]], [[1.0, 0.0, 0.0, 0.0, 0.0, 0.0, 0.0, 0.0], [0.5289773344993591, 0.47102269530296326, 0.0, 0.0, 0.0, 0.0, 0.0, 0.0], [0.7464597821235657, 0.2490696758031845, 0.004470588639378548, 0.0, 0.0, 0.0, 0.0, 0.0], [0.7043574452400208, 0.19772619009017944, 0.05767787620425224, 0.04023844748735428, 0.0, 0.0, 0.0, 0.0], [0.5255283117294312, 0.004391883034259081, 0.041459254920482635, 0.24932461977005005, 0.17929595708847046, 0.0, 0.0, 0.0], [0.4057183861732483, 0.023233557119965553, 0.029514852911233902, 0.2808486819267273, 0.15251342952251434, 0.10817112028598785, 0.0, 0.0], [0.42268383502960205, 0.02122291550040245, 0.0008511939668096602, 0.0344858281314373, 0.45992782711982727, 0.03479108214378357, 0.0260371845215559, 0.0], [0.21683765947818756, 0.07214733958244324, 0.010751530528068542, 0.29852309823036194, 0.01670531928539276, 0.28666335344314575, 0.09330794215202332, 0.005063686054199934]], [[1.0, 0.0, 0.0, 0.0, 0.0, 0.0, 0.0, 0.0], [0.9967122077941895, 0.0032877700868993998, 0.0, 0.0, 0.0, 0.0, 0.0, 0.0], [0.9760320782661438, 0.022095810621976852, 0.0018721396336331964, 0.0, 0.0, 0.0, 0.0, 0.0], [0.7398888468742371, 0.2241615355014801, 0.017440730705857277, 0.018508946523070335, 0.0, 0.0, 0.0, 0.0], [0.2038218080997467, 0.039564479142427444, 0.015391680411994457, 0.7275044322013855, 0.013717502355575562, 0.0, 0.0, 0.0], [0.4058536887168884, 0.01406367588788271, 0.04548051208257675, 0.17558641731739044, 0.008855997584760189, 0.3501596450805664, 0.0, 0.0], [0.21379472315311432, 0.005343906115740538, 0.0003038001887034625, 0.10030674189329147, 0.4053040146827698, 0.25356703996658325, 0.021379688754677773, 0.0], [0.04119807481765747, 0.0016406297218054533, 0.000939690915402025, 0.04647123068571091, 0.01773250102996826, 0.8692200779914856, 0.018295714631676674, 0.004502123221755028]], [[1.0, 0.0, 0.0, 0.0, 0.0, 0.0, 0.0, 0.0], [0.9892058372497559, 0.010794160887598991, 0.0, 0.0, 0.0, 0.0, 0.0, 0.0], [0.4096786677837372, 0.04597989469766617, 0.5443413853645325, 0.0, 0.0, 0.0, 0.0, 0.0], [0.12366165220737457, 0.0003684554249048233, 0.8676294088363647, 0.008340409025549889, 0.0, 0.0, 0.0, 0.0], [0.4526441693305969, 0.0017404267564415932, 0.02965104952454567, 0.4158768355846405, 0.10008753091096878, 0.0, 0.0, 0.0], [0.553806722164154, 0.001632325816899538, 0.005156395491212606, 0.019890479743480682, 0.31745389103889465, 0.10206016153097153, 0.0, 0.0], [0.13654161989688873, 0.00010337667481508106, 0.000758589303586632, 0.0045915208756923676, 0.014994221739470959, 0.8044507503509521, 0.03855995088815689, 0.0], [0.004556747619062662, 0.00018240665667690337, 2.656071046658326e-05, 0.00037056728615425527, 0.003167972434312105, 0.030401218682527542, 0.9247465133666992, 0.036547984927892685]], [[1.0, 0.0, 0.0, 0.0, 0.0, 0.0, 0.0, 0.0], [0.9995651841163635, 0.0004347858775872737, 0.0, 0.0, 0.0, 0.0, 0.0, 0.0], [0.9960477948188782, 0.003275123657658696, 0.0006770440377295017, 0.0, 0.0, 0.0, 0.0, 0.0], [0.8780504465103149, 0.10481435060501099, 0.016688039526343346, 0.00044719409197568893, 0.0, 0.0, 0.0, 0.0], [0.13763286173343658, 0.034754011780023575, 0.5365051031112671, 0.28932055830955505, 0.0017873842734843493, 0.0, 0.0, 0.0], [0.07229142636060715, 0.0006322328699752688, 0.025177234783768654, 0.8981596231460571, 0.0005585674662142992, 0.0031809634529054165, 0.0, 0.0], [0.05337614566087723, 0.006862177513539791, 0.002546201692894101, 0.010149192996323109, 0.6596227884292603, 0.09806142002344131, 0.16938206553459167, 0.0], [0.002054678974673152, 0.0004809811362065375, 0.0006869944627396762, 0.010070707648992538, 0.028019431978464127, 0.087330162525177, 0.8709144592285156, 0.000442581920651719]], [[1.0, 0.0, 0.0, 0.0, 0.0, 0.0, 0.0, 0.0], [0.9555383324623108, 0.044461626559495926, 0.0, 0.0, 0.0, 0.0, 0.0, 0.0], [0.8602166175842285, 0.13514578342437744, 0.00463765999302268, 0.0, 0.0, 0.0, 0.0, 0.0], [0.4900975227355957, 0.032350264489650726, 0.47112202644348145, 0.006430167239159346, 0.0, 0.0, 0.0, 0.0], [0.5899673104286194, 0.08609521389007568, 0.14961004257202148, 0.1146828904747963, 0.05964462086558342, 0.0, 0.0, 0.0], [0.11809013038873672, 0.00147531577385962, 0.0009538035374134779, 0.02769416943192482, 0.841133713722229, 0.010652925819158554, 0.0, 0.0], [0.11936894059181213, 0.0015644460218027234, 0.024873819202184677, 0.01673579029738903, 0.6536397933959961, 0.17322760820388794, 0.010589520446956158, 0.0], [0.18974089622497559, 0.0011325179366394877, 0.03834940493106842, 0.002025134861469269, 0.3022291660308838, 0.3521871566772461, 0.054928623139858246, 0.059407055377960205]], [[1.0, 0.0, 0.0, 0.0, 0.0, 0.0, 0.0, 0.0], [0.9926839470863342, 0.007316099014133215, 0.0, 0.0, 0.0, 0.0, 0.0, 0.0], [0.1444702446460724, 0.6689537167549133, 0.18657605350017548, 0.0, 0.0, 0.0, 0.0, 0.0], [0.07946249097585678, 0.0066713569685816765, 0.9103384613990784, 0.0035277174320071936, 0.0, 0.0, 0.0, 0.0], [0.3410564363002777, 0.00959539134055376, 0.5747078657150269, 0.019128940999507904, 0.05551129952073097, 0.0, 0.0, 0.0], [0.4010857343673706, 0.0016227001324295998, 0.14486323297023773, 0.016862183809280396, 0.39136284589767456, 0.04420330375432968, 0.0, 0.0], [0.4917221665382385, 0.0010664481669664383, 0.06347426027059555, 0.2770378291606903, 0.06575477868318558, 0.05117052420973778, 0.04977401718497276, 0.0], [0.12993498146533966, 0.00030893587972968817, 0.04226433113217354, 0.27490368485450745, 0.2379555106163025, 0.10019581019878387, 0.2062736451625824, 0.008163132704794407]], [[1.0, 0.0, 0.0, 0.0, 0.0, 0.0, 0.0, 0.0], [0.9627530574798584, 0.037246931344270706, 0.0, 0.0, 0.0, 0.0, 0.0, 0.0], [0.8978430032730103, 0.06069708243012428, 0.04145989939570427, 0.0, 0.0, 0.0, 0.0, 0.0], [0.5408993363380432, 0.4024154841899872, 0.04536893963813782, 0.01131622027605772, 0.0, 0.0, 0.0, 0.0], [0.3977753818035126, 0.016754042357206345, 0.044318098574876785, 0.47621211409568787, 0.06494038552045822, 0.0, 0.0, 0.0], [0.23201318085193634, 0.03400856629014015, 0.0024320364464074373, 0.03676972910761833, 0.6599962115287781, 0.03478024899959564, 0.0, 0.0], [0.046825021505355835, 0.00022342981537804008, 0.00896572694182396, 0.30332711338996887, 0.011322462931275368, 0.6160197854042053, 0.013316435739398003, 0.0], [0.0638836920261383, 9.33243427425623e-05, 0.02125164121389389, 0.4368171691894531, 0.042897798120975494, 0.23794396221637726, 0.16323761641979218, 0.03387480974197388]]], [[[1.0, 0.0, 0.0, 0.0, 0.0, 0.0, 0.0, 0.0], [0.1418083906173706, 0.8581916689872742, 0.0, 0.0, 0.0, 0.0, 0.0, 0.0], [0.4960503876209259, 0.1825355738401413, 0.321414053440094, 0.0, 0.0, 0.0, 0.0, 0.0], [0.15439119935035706, 0.0610220767557621, 0.1207740381360054, 0.6638126969337463, 0.0, 0.0, 0.0, 0.0], [0.24235820770263672, 0.27067404985427856, 0.0010218595853075385, 0.43885931372642517, 0.04708661511540413, 0.0, 0.0, 0.0], [0.010938353836536407, 0.023302795365452766, 0.008397779427468777, 0.8907273411750793, 0.0055325450375676155, 0.06110116094350815, 0.0, 0.0], [0.05066341161727905, 0.03978918492794037, 0.0014681199099868536, 0.3738301396369934, 0.1447388380765915, 0.3757930099964142, 0.01371734868735075, 0.0], [0.713167130947113, 0.06646011024713516, 0.026335911825299263, 0.021425874903798103, 0.02155951038002968, 0.003780514234676957, 0.015135656110942364, 0.13213534653186798]], [[1.0, 0.0, 0.0, 0.0, 0.0, 0.0, 0.0, 0.0], [0.9982870221138, 0.0017129307379946113, 0.0, 0.0, 0.0, 0.0, 0.0, 0.0], [0.8773615956306458, 0.0136038176715374, 0.10903459787368774, 0.0, 0.0, 0.0, 0.0, 0.0], [0.8040584325790405, 0.02501475065946579, 0.04193485528230667, 0.1289920210838318, 0.0, 0.0, 0.0, 0.0], [0.17677493393421173, 0.21526651084423065, 0.17159968614578247, 0.04754938557744026, 0.38880956172943115, 0.0, 0.0, 0.0], [0.00761379161849618, 0.0002375207404838875, 0.0006029067444615066, 0.010562192648649216, 0.9808820486068726, 0.00010162894614040852, 0.0, 0.0], [0.021762019023299217, 3.0321150916279294e-05, 0.002910923445597291, 0.2421654313802719, 0.7284016609191895, 0.0027098667342215776, 0.002019783714786172, 0.0], [0.2007034420967102, 0.0006123353959992528, 0.07141394913196564, 0.009563744068145752, 0.20054037868976593, 0.04073581472039223, 0.4241841435432434, 0.052246108651161194]], [[1.0, 0.0, 0.0, 0.0, 0.0, 0.0, 0.0, 0.0], [0.8589006662368774, 0.14109936356544495, 0.0, 0.0, 0.0, 0.0, 0.0, 0.0], [0.9658491015434265, 0.02259928174316883, 0.011551544070243835, 0.0, 0.0, 0.0, 0.0, 0.0], [0.4867764115333557, 0.03498125821352005, 0.1287531852722168, 0.3494892418384552, 0.0, 0.0, 0.0, 0.0], [0.527608335018158, 0.3700530529022217, 0.00961549673229456, 0.09047868847846985, 0.002244366565719247, 0.0, 0.0, 0.0], [0.38305971026420593, 0.08835494518280029, 0.0057602827437222, 0.4481482207775116, 0.06901635974645615, 0.005660506896674633, 0.0, 0.0], [0.7413314580917358, 0.18607157468795776, 0.0075849988497793674, 0.007063118740916252, 0.017574816942214966, 0.039076562970876694, 0.0012974459677934647, 0.0], [0.45873400568962097, 0.03506713733077049, 0.07638300955295563, 0.028580207377672195, 0.2387140393257141, 0.01068525854498148, 0.011637846007943153, 0.14019843935966492]], [[1.0, 0.0, 0.0, 0.0, 0.0, 0.0, 0.0, 0.0], [0.9741687178611755, 0.0258311964571476, 0.0, 0.0, 0.0, 0.0, 0.0, 0.0], [0.5111456513404846, 0.4882705807685852, 0.000583832326810807, 0.0, 0.0, 0.0, 0.0, 0.0], [0.5221339464187622, 0.2908651530742645, 0.007243745494633913, 0.17975713312625885, 0.0, 0.0, 0.0, 0.0], [0.01290510781109333, 0.0023578600957989693, 0.004490371327847242, 0.9779320359230042, 0.002314717508852482, 0.0, 0.0, 0.0], [0.7471922636032104, 0.004571669269353151, 0.030687622725963593, 0.06688130646944046, 0.0615725964307785, 0.08909454941749573, 0.0, 0.0], [0.10358532518148422, 0.008116290904581547, 0.003415851853787899, 0.4050486981868744, 0.005832667462527752, 0.31562021374702454, 0.15838104486465454, 0.0], [0.20751136541366577, 0.0007009607506915927, 0.01135397981852293, 0.003052394138649106, 0.14912965893745422, 0.051783669739961624, 0.5646157264709473, 0.01185227558016777]], [[1.0, 0.0, 0.0, 0.0, 0.0, 0.0, 0.0, 0.0], [0.8428134322166443, 0.15718652307987213, 0.0, 0.0, 0.0, 0.0, 0.0, 0.0], [0.3958456516265869, 0.585610568523407, 0.01854374259710312, 0.0, 0.0, 0.0, 0.0, 0.0], [0.06973189860582352, 0.06855475902557373, 0.8593201637268066, 0.002393146511167288, 0.0, 0.0, 0.0, 0.0], [0.5742790102958679, 0.017476044595241547, 0.04250100627541542, 0.30771178007125854, 0.05803212895989418, 0.0, 0.0, 0.0], [0.08082393556833267, 0.02839798666536808, 0.020000047981739044, 0.00971856340765953, 0.3057232201099396, 0.5553362965583801, 0.0, 0.0], [0.21569770574569702, 0.010773872956633568, 0.0845598578453064, 0.06885530054569244, 0.5400466322898865, 0.031018421053886414, 0.04904813691973686, 0.0], [0.48615509271621704, 0.0075877816416323185, 0.010700788348913193, 0.013270602561533451, 0.3558867275714874, 0.05376071855425835, 0.009034501388669014, 0.06360384821891785]], [[1.0, 0.0, 0.0, 0.0, 0.0, 0.0, 0.0, 0.0], [0.9790105819702148, 0.020989377051591873, 0.0, 0.0, 0.0, 0.0, 0.0, 0.0], [0.9376208782196045, 0.053077150136232376, 0.009301995858550072, 0.0, 0.0, 0.0, 0.0, 0.0], [0.159297376871109, 0.7920405864715576, 0.04263583943247795, 0.006026210263371468, 0.0, 0.0, 0.0, 0.0], [0.420055091381073, 0.020701607689261436, 0.0024442365393042564, 0.43181559443473816, 0.12498347461223602, 0.0, 0.0, 0.0], [0.21185874938964844, 0.00693309074267745, 0.008190872147679329, 0.026740627363324165, 0.003222094848752022, 0.7430545687675476, 0.0, 0.0], [0.5716597437858582, 0.004582419525831938, 0.06149764358997345, 0.01913621835410595, 0.04175595939159393, 0.20435994863510132, 0.09700817614793777, 0.0], [0.2891212999820709, 0.12161286175251007, 0.0029753735288977623, 0.04787307605147362, 0.10215037316083908, 0.0321175791323185, 0.4007871448993683, 0.0033623017370700836]], [[1.0, 0.0, 0.0, 0.0, 0.0, 0.0, 0.0, 0.0], [0.9928128123283386, 0.007187194190919399, 0.0, 0.0, 0.0, 0.0, 0.0, 0.0], [0.8885430693626404, 0.09945801645517349, 0.011998877860605717, 0.0, 0.0, 0.0, 0.0, 0.0], [0.8096309304237366, 0.028467940166592598, 0.15427052974700928, 0.007630603387951851, 0.0, 0.0, 0.0, 0.0], [0.28627809882164, 0.003135479986667633, 0.17130117118358612, 0.4989073872566223, 0.04037778079509735, 0.0, 0.0, 0.0], [0.11719753593206406, 0.007359722629189491, 0.219379261136055, 0.028252461925148964, 0.029489096254110336, 0.5983218550682068, 0.0, 0.0], [0.04813206195831299, 0.003994723781943321, 0.08034256845712662, 0.007253062911331654, 0.008240423165261745, 0.43627333641052246, 0.41576382517814636, 0.0], [0.06253636628389359, 0.00020330944971647114, 0.0060523985885083675, 0.00014072065823711455, 0.049281615763902664, 0.20197263360023499, 0.003321882337331772, 0.6764910221099854]], [[1.0, 0.0, 0.0, 0.0, 0.0, 0.0, 0.0, 0.0], [0.9790372848510742, 0.020962703973054886, 0.0, 0.0, 0.0, 0.0, 0.0, 0.0], [0.9461640119552612, 0.04374922066926956, 0.010086704045534134, 0.0, 0.0, 0.0, 0.0, 0.0], [0.24197344481945038, 0.002285253955051303, 0.13920846581459045, 0.6165328025817871, 0.0, 0.0, 0.0, 0.0], [0.2397938072681427, 0.015667734667658806, 0.3203606903553009, 0.38068556785583496, 0.04349224269390106, 0.0, 0.0, 0.0], [0.625575065612793, 0.023692313581705093, 0.20243224501609802, 0.06754431128501892, 0.0653720274567604, 0.015384005382657051, 0.0, 0.0], [0.19343283772468567, 0.041337382048368454, 0.015009284019470215, 0.23340950906276703, 0.05165985971689224, 0.3663201630115509, 0.098830945789814, 0.0], [0.022369101643562317, 0.00018198788166046143, 0.0031656224746257067, 0.004356302786618471, 0.013299309648573399, 0.9518834352493286, 0.004087431821972132, 0.0006568176322616637]]]], \"left_text\": [\"E\", \"F\", \"L\", \"C\", \"L\", \"A\", \"A\", \"<eos>\"], \"right_text\": [\"E\", \"F\", \"L\", \"C\", \"L\", \"A\", \"A\", \"<eos>\"]}, {\"name\": \"Cross\", \"attn\": [[[[0.9846152663230896, 0.014208759181201458, 0.00039051941712386906, 6.731546454830095e-05, 7.801060746714938e-06, 0.00010183086851611733, 0.00032401896896772087, 0.00028440155438147485, 0.0], [0.013627043925225735, 0.9468741416931152, 0.037669386714696884, 0.00016524913371540606, 3.1827310067455983e-06, 6.055137419025414e-06, 0.00022676255321130157, 0.001428109360858798, 0.0], [3.935773565899581e-05, 0.002822414506226778, 0.9937591552734375, 0.0031293779611587524, 2.776254461878125e-07, 8.1453332967385e-09, 3.4883036903465836e-08, 0.0002494833606760949, 0.0], [0.000629791000392288, 0.0006863911403343081, 0.16506215929985046, 0.791562020778656, 0.039722416549921036, 1.868914637270791e-06, 1.4772561840459275e-08, 0.0023352992720901966, 0.0], [3.203487040082109e-07, 1.1819503242804785e-07, 2.7278038032818586e-06, 0.009567820467054844, 0.9670725464820862, 0.02316748909652233, 3.2988219800245133e-07, 0.0001886581303551793, 0.0], [4.127817192056682e-06, 9.03630052562221e-07, 1.1270787858563835e-08, 2.7200821151041055e-08, 0.000634524505585432, 0.9989176988601685, 0.0003443732566665858, 9.841663995757699e-05, 0.0], [6.0683360061375424e-06, 2.3310090000450145e-06, 3.2572300412425648e-09, 4.7863751156951295e-11, 5.392329360809356e-10, 0.0008129885536618531, 0.9812927842140198, 0.017885733395814896, 0.0], [6.631221913266927e-05, 0.0001221111451741308, 1.1241260011729537e-07, 2.2143205238162045e-12, 2.2754570275262172e-15, 6.245676892335794e-11, 0.027835356071591377, 0.9719761610031128, 0.0]], [[0.00022094775340519845, 0.00011922261182917282, 0.00020185687753837556, 0.9947980642318726, 0.0009928346844390035, 1.2194546798127703e-05, 0.0007573417387902737, 0.002897437196224928, 0.0], [0.1431579291820526, 0.0982641875743866, 0.011479102075099945, 0.6678304076194763, 0.022159654647111893, 0.00011778785847127438, 0.008121838793158531, 0.048869092017412186, 0.0], [0.23973293602466583, 0.2894355058670044, 0.011322417296469212, 0.3032149076461792, 0.024000946432352066, 0.0002366574335610494, 0.03271779417991638, 0.09933880716562271, 0.0], [0.0011480612447485328, 0.004708875436335802, 0.0039835418574512005, 0.9185212850570679, 0.0030539364088326693, 7.427976379403844e-05, 0.008484330028295517, 0.06002571061253548, 0.0], [0.0011448799632489681, 0.0023353612050414085, 0.002279455540701747, 0.8413272500038147, 0.034519538283348083, 0.0007788458024151623, 0.04245603084564209, 0.07515861093997955, 0.0], [0.00012273371976334602, 0.00018142569751944393, 0.006085734348744154, 0.5848883390426636, 0.052825912833213806, 0.00722177978605032, 0.21575678884983063, 0.1329173594713211, 0.0], [0.00016535463510081172, 5.2363215218065307e-05, 0.0005394311156123877, 0.10334286093711853, 0.017338985577225685, 0.008985179476439953, 0.7490835189819336, 0.12049233913421631, 0.0], [6.847457552794367e-05, 3.8243862945819274e-05, 0.00010616266081342474, 0.026844821870326996, 0.002428914187476039, 0.0008641283493489027, 0.9049254059791565, 0.06472384184598923, 0.0]], [[0.017653917893767357, 0.008433224633336067, 0.003324887715280056, 0.23600827157497406, 0.009452606551349163, 0.003512623952701688, 0.001301956595852971, 0.7203124761581421, 0.0], [0.7846659421920776, 0.03874431550502777, 0.0010085109388455749, 0.05400782451033592, 0.009478996507823467, 0.0022269354667514563, 0.007759825326502323, 0.10210761427879333, 0.0], [0.44903433322906494, 0.42572832107543945, 0.028145311400294304, 0.003927017096430063, 0.0007774433470331132, 0.0023587720934301615, 0.028889333829283714, 0.06113949045538902, 0.0], [0.04657448083162308, 0.358346551656723, 0.1823177933692932, 0.30123764276504517, 0.0008583604940213263, 0.00028389031649567187, 0.004804966039955616, 0.10557636618614197, 0.0], [0.0011217152932658792, 0.01078470516949892, 0.1534995585680008, 0.7726646065711975, 0.006528148427605629, 0.0013515850296244025, 0.0006857310072518885, 0.05336398631334305, 0.0], [0.0006902528111822903, 0.001020788331516087, 0.013633324764668941, 0.8501408696174622, 0.09277810156345367, 0.0030128152575343847, 0.0008244473137892783, 0.03789932280778885, 0.0], [0.0005725719383917749, 0.00012495217379182577, 0.0011992909712716937, 0.13107013702392578, 0.5750265121459961, 0.2545827329158783, 0.010159873403608799, 0.027263907715678215, 0.0], [0.00040477555012330413, 4.896063546766527e-05, 4.518209971138276e-05, 0.003998999949544668, 0.05214061588048935, 0.8077628016471863, 0.12309308350086212, 0.012505530379712582, 0.0]], [[0.014235840179026127, 0.10432800650596619, 0.6368729472160339, 0.16852252185344696, 0.010311060585081577, 0.02587220072746277, 0.0010817261645570397, 0.038775764405727386, 0.0], [0.0008206768543459475, 0.0014328407123684883, 0.07015234977006912, 0.8570513725280762, 0.0364132896065712, 0.0037875401321798563, 5.530362977879122e-05, 0.0302866343408823, 0.0], [0.001896967296488583, 0.0012875116663053632, 0.00203547696582973, 0.06479198485612869, 0.7119176387786865, 0.1400127410888672, 0.0009578304016031325, 0.07709992676973343, 0.0], [0.04299371317028999, 0.03730744868516922, 0.0037242963444441557, 0.0032605817541480064, 0.16219188272953033, 0.4610063433647156, 0.05338578298687935, 0.23612992465496063, 0.0], [0.01760653592646122, 0.03182359039783478, 0.0013442900963127613, 0.001029958133585751, 0.002053775591775775, 0.06772328168153763, 0.3874061703681946, 0.4910123944282532, 0.0], [0.011248860508203506, 0.07940137386322021, 0.02675224095582962, 0.01104088593274355, 0.003798846388235688, 0.001349649508483708, 0.10985741019248962, 0.7565507292747498, 0.0], [0.007379768881946802, 0.027135083451867104, 0.021959790959954262, 0.05582427978515625, 0.006686371751129627, 0.0002754496817942709, 0.01068640686571598, 0.8700528740882874, 0.0], [0.00527042243629694, 0.0057242801412940025, 0.012172178365290165, 0.06319623440504074, 0.042959731072187424, 0.0003217608609702438, 0.004927264526486397, 0.8654281497001648, 0.0]], [[0.00011080154945375398, 2.303235487488564e-05, 1.9188926671631634e-05, 0.9987412095069885, 8.156910553225316e-06, 1.7876887795864604e-05, 1.0778074283734895e-05, 0.0010688826441764832, 0.0], [0.00021843149443157017, 0.0004426683590281755, 0.00041003627120517194, 0.9973969459533691, 1.252800643669616e-06, 2.0495508579188026e-06, 5.615769259748049e-05, 0.001472416683100164, 0.0], [0.0013723138254135847, 0.006823987700045109, 0.0422859787940979, 0.8681706786155701, 0.0031967556569725275, 0.0011831235606223345, 0.0011325195664539933, 0.07583460956811905, 0.0], [9.999309986596927e-05, 0.00010352923709433526, 0.0030016046948730946, 0.8980429172515869, 0.0029515556525439024, 0.0031204696279019117, 0.0004414600261952728, 0.09223856776952744, 0.0], [0.00025836698478087783, 0.0009303383994847536, 0.0004603875568136573, 0.6926373243331909, 0.07801494002342224, 0.013944880105555058, 0.017391830682754517, 0.1963619887828827, 0.0], [8.234468259615824e-05, 3.5211178328609094e-05, 0.0003449032665230334, 0.15719634294509888, 0.004942396655678749, 0.3355896472930908, 0.12935970723628998, 0.3724493980407715, 0.0], [0.0019227167358621955, 0.002536824671551585, 0.002073290990665555, 0.0001381636393489316, 0.011828587390482426, 0.7524274587631226, 0.08707866072654724, 0.14199437201023102, 0.0], [0.005255476105958223, 0.008018430322408676, 0.007864299230277538, 0.0005473765195347369, 0.004053918179124594, 0.22342874109745026, 0.1690302938222885, 0.5818014740943909, 0.0]], [[0.008715590462088585, 0.08621354401111603, 0.8711946606636047, 0.0027434160001575947, 0.0023256440181285143, 0.006632830016314983, 1.851562956289854e-05, 0.022155828773975372, 0.0], [0.019711114466190338, 0.027713097631931305, 0.9187248349189758, 0.005273320246487856, 0.000960896722972393, 0.0031941658817231655, 6.972206028876826e-05, 0.024352816864848137, 0.0], [0.018699655309319496, 0.07511855661869049, 0.8458500504493713, 0.015179703012108803, 0.016196932643651962, 0.0021590825635939837, 0.0011674416018649936, 0.025628579780459404, 0.0], [0.008986186236143112, 0.038534291088581085, 0.4966467022895813, 0.02117917500436306, 0.07471111416816711, 0.23348751664161682, 0.006186284124851227, 0.12026875466108322, 0.0], [0.036339160054922104, 0.019112344831228256, 0.07492805272340775, 0.010612616315484047, 0.10859876871109009, 0.39899352192878723, 0.014619698747992516, 0.3367958664894104, 0.0], [0.0008107333560474217, 0.0007473691366612911, 0.006149260327219963, 0.0029836208559572697, 0.13725526630878448, 0.5498793721199036, 0.11604154855012894, 0.18613286316394806, 0.0], [0.0031006732024252415, 0.004050347022712231, 0.011351658031344414, 0.0005139665445312858, 0.046584613621234894, 0.5753718614578247, 0.045477673411369324, 0.31354907155036926, 0.0], [0.006812429986894131, 0.009223372675478458, 0.008153676055371761, 0.0030972857493907213, 0.03918079659342766, 0.31132248044013977, 0.08984893560409546, 0.5323610305786133, 0.0]], [[0.03298507258296013, 0.00013344247417990118, 6.0506604313559365e-06, 1.5152460036915727e-05, 1.6393547412008047e-05, 4.814897692995146e-06, 6.50627953291405e-06, 0.9668325781822205, 0.0], [0.9719923734664917, 0.01744384691119194, 6.967228546272963e-05, 2.7528683403943432e-06, 9.171547389996704e-06, 0.0006657798076048493, 0.005490458104759455, 0.004325988702476025, 0.0], [0.013731235638260841, 0.8365666270256042, 0.14905087649822235, 4.422890197020024e-05, 1.0799080740753197e-08, 6.023430501045368e-07, 1.5321467799367383e-05, 0.0005911029875278473, 0.0], [4.3076764995930716e-05, 0.003828271757811308, 0.988064706325531, 0.006120078731328249, 1.2621699170267675e-06, 1.1131203336844919e-07, 7.243492063935264e-07, 0.0019416703144088387, 0.0], [1.0370158634032123e-06, 7.769472176732961e-06, 0.17739713191986084, 0.7623664736747742, 0.05029970780014992, 0.00019393049296922982, 2.0728621166199446e-06, 0.00973181240260601, 0.0], [4.011154430827446e-07, 1.6500818844633613e-07, 0.00012778083328157663, 0.01132222916930914, 0.8797228932380676, 0.10726098716259003, 7.876453310018405e-06, 0.001557780778966844, 0.0], [5.259943236524123e-07, 2.846355329211292e-08, 1.959802453654902e-08, 1.1059081543862703e-06, 0.006046994589269161, 0.9901081323623657, 0.0032245824113488197, 0.0006186526152305305, 0.0], [8.721466656425036e-06, 6.096336164773675e-07, 1.562697704571292e-08, 2.6139470588049107e-09, 1.2014745607302757e-06, 0.10602720081806183, 0.8907264471054077, 0.003235775511711836, 0.0]], [[0.04622030258178711, 0.02247983030974865, 0.23420028388500214, 0.014778848737478256, 0.30188095569610596, 0.206772580742836, 0.0004667314642574638, 0.17320047318935394, 0.0], [0.1435825377702713, 0.4759412407875061, 0.1892150640487671, 0.0283560398966074, 0.02761421725153923, 0.0026879191864281893, 0.0022155686747282743, 0.13038744032382965, 0.0], [0.06036466360092163, 0.16455695033073425, 0.28971433639526367, 0.4163492023944855, 0.006333714351058006, 0.008921356871724129, 0.006381393875926733, 0.04737834259867668, 0.0], [0.009806073270738125, 0.0121820829808712, 0.3820895254611969, 0.1843976527452469, 0.153818741440773, 0.0872129425406456, 0.002521604299545288, 0.16797147691249847, 0.0], [0.0006734898779541254, 0.0019821501336991787, 0.005601264536380768, 0.2664636969566345, 0.24817189574241638, 0.08675011247396469, 0.05711878836154938, 0.3332386314868927, 0.0], [0.0008287797099910676, 0.00016323888849001378, 0.0003255234914831817, 0.005721337627619505, 0.04015658423304558, 0.7537771463394165, 0.06704775989055634, 0.13197961449623108, 0.0], [9.437513654120266e-05, 9.206453250953928e-05, 0.000346788001479581, 0.0021568110678344965, 0.0038930452428758144, 0.26842066645622253, 0.08278946578502655, 0.6422067880630493, 0.0], [0.00022285987506620586, 0.0002123823796864599, 0.0004734083195216954, 0.0005646733334288001, 0.0009517683065496385, 0.059959277510643005, 0.04621138796210289, 0.8914042711257935, 0.0]]], [[[0.035107534378767014, 0.6116145849227905, 0.0033066170290112495, 0.28296762704849243, 0.0520898662507534, 8.366860697606171e-07, 0.0004681156133301556, 0.014444989152252674, 0.0], [0.006318942178040743, 0.002380356192588806, 0.00015114744019228965, 0.20405416190624237, 0.7729780077934265, 6.870531069580466e-05, 0.0004164162673987448, 0.013632211834192276, 0.0], [0.004705915227532387, 0.0019650219473987818, 2.2751022697775625e-05, 0.03809213265776634, 0.8254532217979431, 0.0011320917401462793, 0.04410918429493904, 0.08451970666646957, 0.0], [0.0019105917308479548, 0.00018552690744400024, 2.303269866388291e-06, 0.00018795405048877, 0.3507331311702728, 0.00797010026872158, 0.11676568537950516, 0.5222448110580444, 0.0], [0.0005853939219377935, 0.00015458320558536798, 6.517777364933863e-05, 0.0004731865774374455, 0.0008737354655750096, 0.001585308345966041, 0.0953705832362175, 0.9008920788764954, 0.0], [0.001235111034475267, 0.000507969583850354, 0.00023911612515803427, 3.953534906031564e-05, 0.0069080013781785965, 0.0020302371121942997, 0.05131705105304718, 0.9377229809761047, 0.0], [0.0004991036257706583, 0.0008368246490135789, 0.001822599908336997, 0.0002622081956360489, 0.0015099534066393971, 0.0009888020576909184, 0.18351133167743683, 0.810569167137146, 0.0], [0.0015563939232379198, 0.0010050113778561354, 0.00024772758479230106, 0.0031926268711686134, 0.02021118253469467, 0.0019807445351034403, 0.054919470101594925, 0.9168868660926819, 0.0]], [[7.401093975188788e-17, 9.511313326604696e-40, 0.0, 3.0828566215145976e-44, 3.0101761444466476e-35, 0.0, 0.0, 1.0, 0.0], [1.0, 3.9059527834339747e-10, 3.289748646482445e-30, 1.310979854867555e-30, 4.4120151240547265e-18, 8.816671351330463e-13, 9.27406263763475e-13, 6.161153333936013e-15, 0.0], [2.960748868297003e-10, 1.0, 1.7814090480516853e-10, 1.296889025409107e-29, 7.462054452376083e-41, 2.361609733914636e-32, 3.240461917877459e-16, 1.9478069078304804e-19, 0.0], [4.493798264422691e-20, 3.863815489779654e-09, 1.0, 2.794260656191483e-10, 4.5015199702190184e-27, 3.830101018143011e-31, 1.732477860701204e-23, 9.36328169714196e-18, 0.0], [5.880627357931174e-23, 1.256768301070633e-20, 3.545918836334039e-10, 1.0, 9.11151154525669e-09, 6.862408496815918e-25, 1.1922694413791434e-28, 3.331868260770545e-15, 0.0], [1.2630438069541688e-22, 1.5508080950271786e-26, 1.7502537367950921e-23, 1.5193398622548315e-11, 1.0, 7.428330728309618e-10, 3.270966683764019e-22, 1.5932963964770063e-15, 0.0], [3.0352292968640345e-22, 4.180490463352502e-28, 8.097867441483472e-33, 2.270418352645298e-25, 3.267898104897249e-11, 1.0, 3.7629526773198807e-13, 2.835268355086195e-16, 0.0], [2.1740914190465643e-12, 2.0940319790663242e-12, 2.003662901703912e-22, 3.937938911637991e-25, 2.9555128955293084e-21, 9.764793418298723e-08, 0.9999998807907104, 1.3576925694813724e-10, 0.0]], [[7.948924296563575e-10, 2.415560516055848e-07, 0.9999997615814209, 1.067307664470718e-08, 1.1014629761770426e-19, 1.3375929749843703e-20, 1.5557418905649129e-13, 1.3051357613513137e-16, 0.0], [0.0032531251199543476, 0.0008321457426063716, 0.008323521353304386, 0.961513340473175, 0.0147956358268857, 7.336824637604877e-06, 1.155508243755321e-06, 0.011273668147623539, 0.0], [0.0010803983313962817, 0.0003168622497469187, 0.00034142317599616945, 0.007589494343847036, 0.9305221438407898, 0.02151424251496792, 1.0498736628505867e-05, 0.03862489014863968, 0.0], [0.007807794958353043, 0.0021432877983897924, 0.0003715227067004889, 0.0012854024535045028, 0.18541474640369415, 0.3941737413406372, 0.006426488049328327, 0.40237709879875183, 0.0], [0.008946195244789124, 0.0023121791891753674, 0.001755651319399476, 0.0013225623406469822, 0.00061554997228086, 0.012137718498706818, 0.21432945132255554, 0.7585806846618652, 0.0], [0.004659260623157024, 0.004190762527287006, 0.001103375107049942, 0.0018535028211772442, 0.00048214333946816623, 7.849530084058642e-05, 0.005796089302748442, 0.9818363785743713, 0.0], [0.009562550112605095, 0.021946365013718605, 0.0036831034813076258, 0.0010771132074296474, 0.0005899271345697343, 0.00018404315051157027, 0.0014427312416955829, 0.9615141153335571, 0.0], [0.03507580980658531, 0.03979235142469406, 0.002631767885759473, 0.0044222441501915455, 0.02469586580991745, 0.003580226330086589, 0.0012766171712428331, 0.8885250687599182, 0.0]], [[0.015420466661453247, 0.9713507294654846, 0.00811836589127779, 0.0003938401350751519, 6.435903924284503e-05, 3.892858876497485e-05, 0.0001630508340895176, 0.004450300708413124, 0.0], [3.5844368539983407e-06, 0.0009768365416675806, 0.998775064945221, 0.00021964510960970074, 2.225060669047707e-08, 7.402693458224974e-10, 2.7093904009234393e-08, 2.4923860109993257e-05, 0.0], [1.1591067959670909e-05, 1.7527563613839447e-05, 0.004624749533832073, 0.8664276003837585, 0.12812279164791107, 3.67612699392339e-07, 1.1301781732697691e-09, 0.0007953072199597955, 0.0], [4.790830644196831e-05, 2.2979718323767884e-06, 1.8380627807346173e-05, 0.0009142532362602651, 0.9786847233772278, 0.013523840345442295, 3.866221618409327e-07, 0.0068083256483078, 0.0], [0.0005871958564966917, 0.0001721064472803846, 4.42510918219341e-06, 1.0389447197667323e-05, 0.008185361512005329, 0.9712874889373779, 0.0009107043733820319, 0.01884235255420208, 0.0], [0.0003641383955255151, 3.820441634161398e-05, 1.3088669220451266e-05, 1.1221311524423072e-06, 5.666551078320481e-05, 0.004269416909664869, 0.23200111091136932, 0.763256311416626, 0.0], [0.00032474618637934327, 0.0007457987521775067, 0.0007538728532381356, 3.3267756407440174e-06, 6.228618190107227e-07, 5.7475936046103016e-06, 0.005058731883764267, 0.9931071400642395, 0.0], [0.00028116253088228405, 0.0006305741262622178, 0.0026658016722649336, 0.0035815758164972067, 4.694768722401932e-05, 1.8249553477289737e-06, 1.5891462680883706e-05, 0.9927762746810913, 0.0]], [[0.366214394569397, 0.2434583604335785, 0.0007788348011672497, 0.3808552026748657, 0.0004156987415626645, 1.0544061296968721e-05, 0.0014252469409257174, 0.006841733120381832, 0.0], [0.01985698752105236, 0.14180630445480347, 0.012998958118259907, 0.7981385588645935, 0.002311376389116049, 2.3970062102307566e-05, 0.00756697217002511, 0.017296837642788887, 0.0], [6.417811528081074e-05, 2.517084067221731e-05, 0.00024240624043159187, 0.9755915403366089, 0.0006281917449086905, 3.999819455202669e-05, 0.0009224666864611208, 0.022486062720417976, 0.0], [0.0001146419599535875, 0.00012232435983605683, 0.004082073457539082, 0.3438695967197418, 0.12436559051275253, 0.0759066492319107, 0.001718237646855414, 0.4498208463191986, 0.0], [0.004192110151052475, 0.005964318756014109, 0.0003966293588746339, 0.005952311679720879, 0.11088557541370392, 0.1255660355091095, 0.04735738784074783, 0.6996856331825256, 0.0], [3.301936521893367e-05, 4.998872827854939e-05, 0.00027147767832502723, 0.0001319544535363093, 0.005734030157327652, 0.5205665826797485, 0.10976647585630417, 0.363446444272995, 0.0], [0.00044156640069559216, 0.0010563210817053914, 0.0015337900258600712, 0.0006797764217481017, 0.0005775991594418883, 0.15765075385570526, 0.21581444144248962, 0.622245728969574, 0.0], [0.005684035364538431, 0.006406647153198719, 0.015096912160515785, 0.018386665731668472, 0.004426651168614626, 0.022128798067569733, 0.5071372985839844, 0.42073291540145874, 0.0]], [[0.004222488030791283, 0.0018536188872531056, 0.7533417344093323, 0.08714937418699265, 0.0035679778084158897, 0.002743347082287073, 5.7870209275279194e-05, 0.14706361293792725, 0.0], [0.0501825287938118, 0.023769810795783997, 0.3037428855895996, 0.24226446449756622, 0.02226436883211136, 0.06283707171678543, 0.00046511695836670697, 0.294473797082901, 0.0], [0.8691985011100769, 0.08783557265996933, 0.0004401681071612984, 3.7510893889702857e-05, 0.007907728664577007, 0.00030125922057777643, 0.0003500795573927462, 0.03392922878265381, 0.0], [0.35850632190704346, 0.23465941846370697, 0.010926468297839165, 0.03070312738418579, 0.03329405561089516, 0.006804156117141247, 0.030516162514686584, 0.2945902645587921, 0.0], [0.06086347624659538, 0.1919238269329071, 0.05359773337841034, 0.08560535311698914, 0.25750547647476196, 0.005581172648817301, 0.015110772103071213, 0.3298121988773346, 0.0], [0.02609226293861866, 0.040191393345594406, 0.04715337976813316, 0.23585568368434906, 0.11715716123580933, 0.04853684827685356, 0.08303166180849075, 0.40198150277137756, 0.0], [0.004215977154672146, 0.0006640976062044501, 0.010949580930173397, 0.498109370470047, 0.04195092245936394, 0.1303999423980713, 0.054340001195669174, 0.2593701481819153, 0.0], [0.0170940812677145, 0.00653900345787406, 0.01061938889324665, 0.23297767341136932, 0.08805537968873978, 0.16363801062107086, 0.09386696666479111, 0.3872094750404358, 0.0]], [[4.1856093777297316e-22, 2.245746507726541e-19, 1.0, 2.8848060864575794e-19, 9.367111306834886e-39, 4.136279715266096e-36, 1.2247100066220812e-25, 5.171840503660578e-26, 0.0], [8.574734347045754e-13, 9.652971781279329e-14, 1.0034039155115693e-09, 1.0, 7.186768069544769e-09, 2.853554403027902e-29, 1.0224064301305187e-31, 4.597666299965209e-19, 0.0], [4.154939535331616e-14, 2.0099803169516123e-13, 9.865787136386901e-17, 2.379093366755569e-09, 1.0, 3.1396005795159e-09, 3.6082152678163046e-25, 2.578834688958672e-16, 0.0], [1.3279065745421307e-15, 9.088624560523069e-15, 2.9050053717270298e-18, 5.814234431059332e-19, 1.3829335898662976e-08, 1.0, 3.795496694714018e-10, 4.4671961442477315e-12, 0.0], [5.2654135392071755e-12, 5.099988573814551e-12, 8.171821509403432e-14, 1.9780172240115362e-19, 3.529405237916194e-16, 0.00026530458126217127, 0.9997010827064514, 3.363182258908637e-05, 0.0], [2.724819125887734e-07, 6.402726882015486e-08, 8.095804027163922e-10, 1.394147939149206e-15, 1.1588342950989176e-17, 5.931633764895416e-13, 0.0007580938399769366, 0.9992415904998779, 0.0], [2.388212305959314e-05, 2.4409016532445094e-06, 1.07013908845488e-09, 8.866968791154672e-12, 2.9094756625524195e-18, 5.137770217461665e-24, 1.8016314555133715e-14, 0.9999736547470093, 0.0], [0.35450252890586853, 0.4393879771232605, 1.1994293345196638e-05, 0.0006697208737023175, 1.9960591089329682e-05, 1.9834711130484184e-12, 5.288356016118489e-13, 0.20540779829025269, 0.0]], [[0.9235702753067017, 0.01630713790655136, 0.0004603286215569824, 0.00016977143241092563, 0.00014391780132427812, 0.0002194157859776169, 0.00013654064969159663, 0.058992527425289154, 0.0], [0.668497622013092, 0.10023295879364014, 0.0006808115867897868, 0.0019004861824214458, 0.00034736754605546594, 0.0004696869582403451, 0.0007157497457228601, 0.22715525329113007, 0.0], [0.03719913214445114, 0.24345189332962036, 0.05476173013448715, 0.06080419197678566, 7.61532828619238e-06, 0.00010760048462543637, 0.0829954743385315, 0.5206724405288696, 0.0], [0.02819657139480114, 0.11813431978225708, 0.5209794044494629, 0.022963933646678925, 0.00024148817465174943, 6.362581189023331e-05, 0.0003821535501629114, 0.3090386390686035, 0.0], [0.0016245172591879964, 0.005689714569598436, 0.5299034714698792, 0.12104790657758713, 0.1284441351890564, 0.007206345908343792, 0.0004299768479540944, 0.20565392076969147, 0.0], [0.002128085121512413, 0.00011594338138820603, 0.060112133622169495, 0.49639877676963806, 0.02777845412492752, 0.08349984139204025, 0.008979863487184048, 0.32098695635795593, 0.0], [0.0016410000389441848, 0.0006536155706271529, 3.304440178908408e-05, 0.2512124180793762, 0.2160828411579132, 0.16030895709991455, 0.21678797900676727, 0.15328018367290497, 0.0], [0.00821677315980196, 0.009967410936951637, 0.0011487002484500408, 0.028043340891599655, 0.01813555881381035, 0.14939230680465698, 0.638914942741394, 0.14618101716041565, 0.0]]], [[[3.759156243177131e-05, 0.00018309145525563508, 0.005660955794155598, 0.9917357563972473, 0.0006566675729118288, 6.617676149289764e-07, 4.3830826257362787e-07, 0.0017247428186237812, 0.0], [0.0006791626219637692, 0.0016397448489442468, 6.0486356233013794e-05, 0.0006498565780930221, 0.9945077300071716, 0.0002126098406733945, 9.744571798364632e-06, 0.00224068621173501, 0.0], [0.0009232900338247418, 0.0005509642651304603, 0.00033311330480501056, 0.0003253551840316504, 0.0017395770410075784, 0.8926660418510437, 0.005094109568744898, 0.09836750477552414, 0.0], [0.0011094164801761508, 0.00011337250907672569, 6.440879224101081e-05, 0.0001907723635667935, 0.000458491820609197, 0.008267635479569435, 0.5046992897987366, 0.48509663343429565, 0.0], [0.00023282320762518793, 0.004616484045982361, 0.026891285553574562, 4.462900324142538e-05, 0.006523542106151581, 0.007201739586889744, 0.21646638214588165, 0.7380231022834778, 0.0], [0.00121996586676687, 0.001641630893573165, 0.0018317943904548883, 0.0006245998665690422, 0.005047095473855734, 0.00018324224220123142, 0.0014333472354337573, 0.9880183935165405, 0.0], [0.005293317139148712, 0.020801568403840065, 0.005998117383569479, 0.0010391196701675653, 0.016718586906790733, 4.803422052646056e-05, 0.0006284611881710589, 0.9494727849960327, 0.0], [0.007665165234357119, 0.08712702989578247, 0.0005510819610208273, 0.0004539983347058296, 0.01783067174255848, 0.0010072720469906926, 0.0023869394790381193, 0.8829778432846069, 0.0]], [[0.04235485941171646, 0.8620492219924927, 0.06649988889694214, 0.004433848895132542, 0.00033212380367331207, 1.0718868907133583e-05, 0.0003829592315014452, 0.023936282843351364, 0.0], [0.0003548516833689064, 0.0002737634058576077, 0.005279134958982468, 0.9792758226394653, 0.0032871400471776724, 1.3277648577059153e-05, 2.6968247766490094e-05, 0.01148900669068098, 0.0], [0.0005137367988936603, 0.0007202908745966852, 0.0007285764440894127, 0.019395234063267708, 0.8938687443733215, 0.005706118419766426, 0.0007519476930610836, 0.07831522822380066, 0.0], [0.0011917473748326302, 0.00033169682137668133, 0.0006715269410051405, 0.004457594361156225, 0.05219927802681923, 0.4532751441001892, 0.0031108770053833723, 0.48476219177246094, 0.0], [0.0007525724358856678, 0.0031941868364810944, 0.000978334923274815, 0.012017627246677876, 0.0062652952037751675, 0.014463990926742554, 0.3569360673427582, 0.6053919196128845, 0.0], [0.00047838815953582525, 0.0009155157022178173, 0.0005084464210085571, 0.00010593084152787924, 0.00020927353762090206, 0.02926931530237198, 0.008307969197630882, 0.9602051973342896, 0.0], [0.00033646522206254303, 0.0007353863911703229, 0.0009070138912647963, 0.0005524992593564093, 0.00017920439131557941, 0.0008067336748354137, 0.01823974773287773, 0.9782428741455078, 0.0], [0.0008712098351679742, 0.0003531668335199356, 0.0002558806736487895, 0.004750677850097418, 0.011103375814855099, 0.0006947384099476039, 0.004247401840984821, 0.9777235388755798, 0.0]], [[0.0003848886117339134, 0.00041377078741788864, 0.0009530892129987478, 0.10020303726196289, 0.8842710256576538, 0.007923685014247894, 0.0013647256419062614, 0.004485805984586477, 0.0], [0.0006824142765253782, 0.0015109076630324125, 0.007719872985035181, 0.00468291575089097, 0.40763553977012634, 0.29959094524383545, 0.1719696819782257, 0.10620765388011932, 0.0], [0.011965327896177769, 0.00663146423175931, 0.01244099996984005, 0.0005907953018322587, 0.009179859422147274, 0.19780902564525604, 0.1893586665391922, 0.5720238089561462, 0.0], [0.0003404135350137949, 0.001079667592421174, 0.0006703283870592713, 2.422967918391805e-05, 0.0037619967479258776, 0.010295507498085499, 0.041005704551935196, 0.9428220987319946, 0.0], [0.0007663010037504137, 9.704756666906178e-05, 0.005991696380078793, 0.0012066512135788798, 0.011658715084195137, 0.011518404819071293, 0.03533288463950157, 0.9334282875061035, 0.0], [0.0003286443534307182, 6.829026096966118e-05, 0.0012075118720531464, 1.0436309821670875e-05, 0.0003212913288734853, 0.0065737273544073105, 0.013016780838370323, 0.9784733057022095, 0.0], [0.0009410865022800863, 0.0011952124768868089, 0.002879476174712181, 0.000171710315044038, 0.005886636674404144, 0.0017727819504216313, 0.047037526965141296, 0.9401155710220337, 0.0], [0.00042916182428598404, 0.0006454461836256087, 0.002152201486751437, 0.00042703436338342726, 0.006296147592365742, 0.02222553640604019, 0.11761824786663055, 0.850206196308136, 0.0]], [[0.0005457427469082177, 0.0002944476727861911, 0.0006116115837357938, 0.9958971738815308, 0.00015983611228875816, 4.6736979129491374e-05, 0.00026414994499646127, 0.002180278766900301, 0.0], [0.1938050389289856, 0.11908300220966339, 0.2225339710712433, 0.36488714814186096, 0.024770312011241913, 0.0068240039981901646, 0.00316408253274858, 0.06493241339921951, 0.0], [0.1432252675294876, 0.1588294804096222, 0.01695176400244236, 0.014838173985481262, 0.010209537111222744, 0.005150120239704847, 0.05962853878736496, 0.5911670923233032, 0.0], [0.05648979917168617, 0.46837127208709717, 0.025727570056915283, 0.0032515686471015215, 0.08185434341430664, 0.017683526501059532, 0.01645653136074543, 0.33016538619995117, 0.0], [0.0006851826328784227, 0.0024133361876010895, 0.047793880105018616, 0.034291643649339676, 0.22073416411876678, 0.01000884547829628, 0.29964855313301086, 0.3844243288040161, 0.0], [0.005895957350730896, 0.028019515797495842, 0.07148659974336624, 0.0021199409384280443, 0.3448125422000885, 0.10167845338582993, 0.04448319971561432, 0.4015038311481476, 0.0], [0.00021456865943036973, 0.003328009508550167, 0.01993791200220585, 0.16464237868785858, 0.011874902993440628, 0.14489606022834778, 0.3781627416610718, 0.2769434452056885, 0.0], [8.490546315442771e-05, 6.369966286001727e-05, 0.0012366916052997112, 0.0021390849724411964, 0.0010275967651978135, 0.029057802632451057, 0.8774171471595764, 0.0889730453491211, 0.0]], [[0.001038186950609088, 0.0005760382628068328, 0.009698446840047836, 0.027639497071504593, 0.10070231556892395, 0.7678108811378479, 0.0010200046235695481, 0.09151466935873032, 0.0], [0.0063404422253370285, 0.0008955520461313426, 0.034291092306375504, 0.02183002606034279, 0.003113497979938984, 0.24151554703712463, 0.482806921005249, 0.20920687913894653, 0.0], [0.010715890675783157, 0.0030495093669742346, 0.05749695748090744, 0.039172135293483734, 0.005229463800787926, 0.03908534720540047, 0.5499507784843445, 0.2952999770641327, 0.0], [0.044755492359399796, 0.020619366317987442, 0.03649115562438965, 0.0006983073544688523, 0.003933019004762173, 0.03786228969693184, 0.006181149743497372, 0.8494592308998108, 0.0], [0.009562473744153976, 0.014694935642182827, 0.0013246603775769472, 0.3004612326622009, 0.0778699442744255, 0.009265257976949215, 0.012358269654214382, 0.5744631886482239, 0.0], [0.0010989531874656677, 0.0013849865645170212, 0.0021474116947501898, 0.029431123286485672, 0.0354531854391098, 0.02486746944487095, 0.009970590472221375, 0.8956462740898132, 0.0], [0.005110675003379583, 0.0035740616731345654, 0.0005153337842784822, 0.03858599066734314, 0.10362539440393448, 0.01668866164982319, 0.3098331391811371, 0.5220667123794556, 0.0], [0.003685485804453492, 0.002619416918605566, 0.0036794105544686317, 0.0054064905270934105, 0.033747196197509766, 0.2710581421852112, 0.3726089298725128, 0.3071949779987335, 0.0]], [[0.18355193734169006, 0.17397548258304596, 0.09117954224348068, 0.05044470727443695, 0.4399401843547821, 0.00848997849971056, 0.00385279580950737, 0.04856530576944351, 0.0], [0.04918781295418739, 0.02031732350587845, 0.13343675434589386, 0.33832284808158875, 0.10273038595914841, 0.14761817455291748, 0.10828181356191635, 0.10010482370853424, 0.0], [0.002594858407974243, 0.013026941567659378, 0.005139035172760487, 0.04739437624812126, 0.3814822733402252, 0.021357985213398933, 0.10488961637020111, 0.42411482334136963, 0.0], [0.0019641690887510777, 0.0023891879245638847, 0.001230516703799367, 0.01819770038127899, 0.3281288146972656, 0.06794332712888718, 0.15549591183662415, 0.4246503710746765, 0.0], [0.10180407762527466, 0.024661315605044365, 0.03712891414761543, 0.14550122618675232, 0.25763750076293945, 0.011129333637654781, 0.03381385654211044, 0.38832375407218933, 0.0], [0.0023366890382021666, 0.0026047348510473967, 0.0006628604023717344, 0.1260865479707718, 0.22049134969711304, 0.006922912318259478, 0.03647606074810028, 0.6044188737869263, 0.0], [0.013282155618071556, 0.005015432834625244, 0.00020472118922043592, 0.0015070963418111205, 0.735342264175415, 0.006817817222326994, 0.06398041546344757, 0.17385020852088928, 0.0], [0.023012684658169746, 0.007669169921427965, 0.00027498003328219056, 0.0016092678997665644, 0.19160543382167816, 0.011262040585279465, 0.4223298728466034, 0.34223663806915283, 0.0]], [[0.029370183125138283, 0.011197705753147602, 0.04826442897319794, 0.5020469427108765, 0.07029730081558228, 0.050951965153217316, 0.0034977267496287823, 0.28437376022338867, 0.0], [0.23956938087940216, 0.025939060375094414, 0.07774864137172699, 0.2844501733779907, 0.005961183458566666, 0.013426234014332294, 0.06643544882535934, 0.2864699065685272, 0.0], [0.004265536554157734, 0.0011053591733798385, 0.0009272998431697488, 0.8819936513900757, 0.014859503135085106, 0.00011838969658128917, 0.0017433163011446595, 0.09498689323663712, 0.0], [0.002102975267916918, 0.003431616583839059, 0.004880658816546202, 0.7952847480773926, 0.029239337891340256, 0.0029731537215411663, 0.0016811612294986844, 0.16040626168251038, 0.0], [0.0018348853336647153, 0.0008585311006754637, 4.465047823032364e-05, 0.079209104180336, 0.4794657528400421, 0.0005994518869556487, 0.0182763934135437, 0.41971123218536377, 0.0], [0.0016758900601416826, 0.0006350526236928999, 0.0024278697092086077, 0.18225082755088806, 0.07619520276784897, 0.13705992698669434, 0.006853965576738119, 0.5929011702537537, 0.0], [0.0004476329777389765, 0.00011647002975223586, 0.00014389920397661626, 0.09891927242279053, 0.013677000068128109, 0.04643029719591141, 0.22715961933135986, 0.6131057739257812, 0.0], [0.00012595552834682167, 4.122058817301877e-05, 1.3059174079899094e-06, 0.0014492063783109188, 0.0018835508963093162, 0.0014394420431926847, 0.9147630929946899, 0.08029630780220032, 0.0]], [[1.0, 3.103960111161541e-08, 1.677419546425461e-17, 5.287308829285799e-16, 3.125748826438013e-10, 7.653978006949558e-10, 4.518296153888102e-11, 9.64542573415883e-14, 0.0], [1.3870119275338766e-08, 0.9999997615814209, 1.8677222612950573e-07, 2.2712798364798843e-21, 1.5487369258908603e-28, 4.5740669778849656e-26, 6.219777407349047e-18, 6.4290834076797046e-15, 0.0], [1.4398044388685971e-12, 4.961211530485343e-08, 1.0, 2.189844217070913e-08, 1.0685775578949903e-18, 6.65286438651283e-20, 1.2601294008557259e-19, 5.266730926161908e-14, 0.0], [2.7125197814414502e-17, 4.101405081728308e-18, 7.04245863014652e-12, 1.0, 1.3194080160025545e-12, 5.152300028749321e-21, 1.9456013082752902e-19, 2.0187121578542782e-18, 0.0], [2.512746412851319e-13, 6.035835232906213e-15, 1.5480624018739033e-15, 1.5101551363854316e-15, 1.0, 3.3807653898598744e-10, 5.121949915813569e-19, 1.091660403465197e-15, 0.0], [2.2313663070039347e-11, 5.4703557239577094e-09, 1.9982242349669832e-07, 6.618384768182495e-13, 6.20272791462817e-11, 0.9999997615814209, 1.7825719789144046e-09, 4.829763700087142e-09, 0.0], [1.3239978774795547e-13, 2.783803956700004e-16, 8.430969857211289e-23, 3.9401748107410167e-19, 4.63472851505156e-21, 1.073258344176653e-12, 0.9999998807907104, 1.44624706877039e-07, 0.0], [1.9467971478599397e-14, 1.5734047276832455e-17, 1.184855069472283e-22, 2.1852428697040557e-29, 1.2969801425992233e-25, 4.3996389382025876e-20, 3.296846387002006e-07, 0.9999996423721313, 0.0]]], [[[0.6672091484069824, 0.20145612955093384, 0.019792191684246063, 0.00900217890739441, 0.013582741841673851, 0.0005193621036596596, 0.007797519210726023, 0.08064062148332596, 0.0], [0.2779846489429474, 0.225919708609581, 0.009800688363611698, 0.08512014150619507, 0.12161152064800262, 0.002060821047052741, 0.0009627436520531774, 0.27653977274894714, 0.0], [0.1721746027469635, 0.2068958729505539, 0.2201300412416458, 0.028523577377200127, 0.04880169406533241, 0.019267944619059563, 0.003890539286658168, 0.300315797328949, 0.0], [0.0019196545472368598, 0.030267342925071716, 0.15609776973724365, 0.10970623791217804, 0.11761537194252014, 0.2448112964630127, 0.10565730184316635, 0.23392504453659058, 0.0], [0.002714194357395172, 0.0022628470323979855, 0.03577195480465889, 0.18259672820568085, 0.0799570083618164, 0.05443883314728737, 0.13480716943740845, 0.5074512958526611, 0.0], [0.002235710620880127, 0.005446210037916899, 0.04186733067035675, 0.15257641673088074, 0.09313412755727768, 0.08062553405761719, 0.05699960142374039, 0.567115068435669, 0.0], [0.0009911148808896542, 0.004919559694826603, 0.05854306370019913, 0.020383195951581, 0.3545856475830078, 0.26590651273727417, 0.1518556922674179, 0.1428152322769165, 0.0], [0.0002147156628780067, 0.00018981362518388778, 0.0004760427982546389, 0.0037220120429992676, 0.2445184588432312, 0.0018472669180482626, 0.004834056831896305, 0.74419766664505, 0.0]], [[0.3429321348667145, 0.2514926791191101, 0.0759400725364685, 0.1493307501077652, 0.0031737880781292915, 0.0241840947419405, 0.02369452267885208, 0.1292518824338913, 0.0], [0.06261927634477615, 0.03377354517579079, 0.3469827473163605, 0.31787997484207153, 0.00036248506512492895, 0.015392706729471684, 0.003085644217208028, 0.21990357339382172, 0.0], [0.0007806235807947814, 0.030372295528650284, 0.12064965814352036, 0.34166860580444336, 0.0011915849754586816, 0.015595336444675922, 0.010089888237416744, 0.47965195775032043, 0.0], [0.00022581033408641815, 0.002204819582402706, 0.012266306206583977, 0.025088945403695107, 0.21079964935779572, 0.01525169052183628, 0.002708380576223135, 0.7314543128013611, 0.0], [0.0004731461813207716, 0.002571098506450653, 0.001391960890032351, 0.26955947279930115, 0.03523722290992737, 0.03730449452996254, 0.012627203948795795, 0.6408353447914124, 0.0], [9.442258306080475e-05, 0.004004457499831915, 0.002062243176624179, 0.0005998268024995923, 0.003154090140014887, 0.8081800937652588, 0.00028165915864519775, 0.1816231906414032, 0.0], [0.0006982370978221297, 0.0007514782482758164, 0.00046062140609137714, 0.020462684333324432, 0.04434431344270706, 0.13155969977378845, 0.16848407685756683, 0.6332389116287231, 0.0], [0.00016600682283751667, 0.00014446819841396064, 0.0003055939741898328, 0.024058617651462555, 0.0008796395268291235, 0.014640051871538162, 0.05921013280749321, 0.9005954265594482, 0.0]], [[0.0643387883901596, 0.013968713581562042, 0.00030997206340543926, 0.0034713582135736942, 0.016468102112412453, 0.08730074763298035, 0.10718358308076859, 0.7069587111473083, 0.0], [0.2887928783893585, 0.0650842934846878, 0.00025940555497072637, 0.004236816428601742, 0.006569175515323877, 0.011842183768749237, 0.009170569479465485, 0.6140446066856384, 0.0], [0.5462640523910522, 0.30148181319236755, 0.00039427823503501713, 0.0004789418599102646, 0.0009776691440492868, 0.00011722851922968403, 0.00021893612574785948, 0.15006710588932037, 0.0], [0.04251514747738838, 0.49368682503700256, 0.016509201377630234, 0.024663584306836128, 0.02810027450323105, 0.0017829935532063246, 0.003489437513053417, 0.38925251364707947, 0.0], [0.0013933468144387007, 0.001721888198517263, 0.8323050737380981, 0.059586573392152786, 0.002424923935905099, 0.04559032991528511, 0.0005900105461478233, 0.05638781189918518, 0.0], [0.005993078928440809, 0.019452884793281555, 0.010137046687304974, 0.7581997513771057, 0.0644577294588089, 0.024894243106245995, 0.0015186622040346265, 0.11534661799669266, 0.0], [0.001774413394741714, 0.011387799866497517, 0.005830480717122555, 0.014678074978291988, 0.8775749206542969, 0.03407420963048935, 0.0037433409597724676, 0.05093679949641228, 0.0], [0.04177100583910942, 0.017712879925966263, 0.00045613371185027063, 0.017321225255727768, 0.009809310548007488, 0.002777372719720006, 0.016508731991052628, 0.8936433792114258, 0.0]], [[0.0004801911418326199, 0.0017363147344440222, 0.00206474750302732, 0.019565735012292862, 0.9422475099563599, 0.011742059141397476, 0.0005839727818965912, 0.021579457446932793, 0.0], [0.0026961180847138166, 0.0026273143012076616, 0.02741101197898388, 0.16087277233600616, 0.0073782773688435555, 0.10508120805025101, 0.1311395913362503, 0.5627937316894531, 0.0], [0.04372381418943405, 0.01770220510661602, 0.011044349521398544, 0.09434688091278076, 0.009483195841312408, 0.020694030448794365, 0.2712318003177643, 0.5317736864089966, 0.0], [0.05753912404179573, 0.1257563680410385, 0.1577354371547699, 0.004665311425924301, 0.12342062592506409, 0.01600034162402153, 0.016537070274353027, 0.49834561347961426, 0.0], [0.026830410584807396, 0.031974565237760544, 0.002460189862176776, 0.03078913502395153, 0.0737290158867836, 0.007439523935317993, 0.011549183167517185, 0.8152279853820801, 0.0], [0.005106774624437094, 0.01644175313413143, 0.0013518158812075853, 0.12290386855602264, 0.6888205409049988, 0.0025032793637365103, 0.025655081495642662, 0.13721692562103271, 0.0], [0.0020939710084348917, 0.009621333330869675, 0.0002411259920336306, 0.00103238713927567, 0.9366056323051453, 0.0015276154736056924, 0.007145649287849665, 0.041732288897037506, 0.0], [0.00025479038595221937, 0.0015837836544960737, 0.0010198645759373903, 0.0011231141397729516, 0.02055390179157257, 0.009003015235066414, 0.025498364120721817, 0.9409632086753845, 0.0]], [[0.012470980174839497, 0.03441028669476509, 0.1383122205734253, 0.7214842438697815, 0.02247345820069313, 0.03584131598472595, 0.0015901317819952965, 0.03341727703809738, 0.0], [0.0029869149439036846, 0.006298370193690062, 0.027559615671634674, 0.015137464739382267, 0.013374913483858109, 0.7061722278594971, 0.003558509750291705, 0.22491201758384705, 0.0], [0.005349937826395035, 0.01571268029510975, 0.01980086974799633, 0.9160616397857666, 0.0020631523802876472, 0.016999894753098488, 0.000632530776783824, 0.02337942272424698, 0.0], [0.005979744717478752, 0.002162603661417961, 0.029531225562095642, 0.29963329434394836, 0.009990926831960678, 0.22189423441886902, 0.062418870627880096, 0.3683891296386719, 0.0], [0.015655802562832832, 0.004593375138938427, 0.01290148962289095, 0.004220924805849791, 0.02408180572092533, 0.253665030002594, 0.012502615340054035, 0.6723789572715759, 0.0], [0.006723484490066767, 0.001979209715500474, 0.05847332626581192, 0.04129783436655998, 0.0034615674521774054, 0.09229499846696854, 0.015814561396837234, 0.7799550294876099, 0.0], [0.00251278979703784, 0.0005843121907673776, 0.20588846504688263, 0.10724318772554398, 0.018471218645572662, 0.13006959855556488, 0.06043955311179161, 0.47479087114334106, 0.0], [0.00016046497330535203, 0.0002520470297895372, 0.0006127444794401526, 0.002214073436334729, 0.003390402067452669, 0.05518851801753044, 0.009838487021625042, 0.9283432364463806, 0.0]], [[0.7570709586143494, 0.15032747387886047, 0.02282870188355446, 0.022524122148752213, 0.0025796820409595966, 0.003995582927018404, 0.0011455006897449493, 0.03952798247337341, 0.0], [0.022217292338609695, 0.656995952129364, 0.14577922224998474, 0.012226546183228493, 0.03443002700805664, 0.0005476273945532739, 0.030341779813170433, 0.09746149927377701, 0.0], [0.007799298036843538, 0.013755274005234241, 0.27066177129745483, 0.6293318867683411, 0.0003444140311330557, 0.0029002304654568434, 0.0006738246302120388, 0.07453326135873795, 0.0], [0.011357378214597702, 0.006252753548324108, 0.24343173205852509, 0.05018638074398041, 0.0682939812541008, 0.08160445094108582, 0.04166293889284134, 0.49721041321754456, 0.0], [0.00038424626109190285, 0.0001496626646257937, 0.0028559237252920866, 0.0006111517432145774, 0.06847476214170456, 0.22178931534290314, 0.008561592549085617, 0.6971732974052429, 0.0], [8.440830424660817e-05, 0.00012014080857625231, 0.008917232044041157, 0.0011920580873265862, 0.0054502361454069614, 0.1268734186887741, 0.039347413927316666, 0.8180150985717773, 0.0], [1.7643749743001536e-05, 6.798941467422992e-05, 0.00011309367255307734, 8.572944352636114e-06, 0.0011638442520052195, 0.0644134134054184, 0.7955935597419739, 0.13862185180187225, 0.0], [0.00016590068116784096, 7.983569230418652e-05, 0.0027395044453442097, 0.0017870746087282896, 0.014263749122619629, 0.005115664564073086, 0.0037385548930615187, 0.9721097350120544, 0.0]], [[0.9795656204223633, 0.008719006553292274, 0.00025082757929340005, 0.00031728448811918497, 0.0016585318371653557, 0.0008204320329241455, 0.00023825847893022, 0.008430112153291702, 0.0], [0.019930360838770866, 0.750922441482544, 0.04996825382113457, 0.03982650488615036, 0.0006241656956262887, 0.0010907517280429602, 0.000446117453975603, 0.13719132542610168, 0.0], [0.0034598323982208967, 0.10992719978094101, 0.6478261947631836, 0.02071215771138668, 0.0006507540820166469, 0.00340632745064795, 0.0003358604444656521, 0.21368169784545898, 0.0], [8.62375891301781e-05, 0.00013061249046586454, 0.02924731746315956, 0.877097487449646, 0.004275312647223473, 0.013055521994829178, 0.003907948266714811, 0.07219955325126648, 0.0], [0.022542323917150497, 0.01669161021709442, 0.0031206475105136633, 0.001982762711122632, 0.05228470265865326, 0.09679405391216278, 0.003533940529450774, 0.8030499815940857, 0.0], [0.0009865418542176485, 0.0015839588595554233, 0.0008921860135160387, 0.0016322719166055322, 0.166446253657341, 0.5502740740776062, 0.0010995136108249426, 0.27708524465560913, 0.0], [0.0004954156465828419, 0.00015400453412439674, 0.00021529737568926066, 0.00012494524708017707, 0.30391305685043335, 0.22938060760498047, 0.20182034373283386, 0.2638964056968689, 0.0], [3.7161080399528146e-05, 0.00010324974573450163, 0.00037080899346619844, 0.001700060092844069, 0.0017665565246716142, 0.006988379172980785, 0.1364215910434723, 0.8526122570037842, 0.0]], [[0.16844800114631653, 0.7515051364898682, 0.002742453943938017, 0.014389551244676113, 0.03388027474284172, 0.00048689075629226863, 0.010445144027471542, 0.01810244843363762, 0.0], [0.027421973645687103, 0.12264962494373322, 0.3396819233894348, 0.10952550917863846, 0.173872709274292, 0.003058094996958971, 0.003111473983153701, 0.2206786870956421, 0.0], [0.0027441729325801134, 0.004843644332140684, 0.04248730465769768, 0.21965862810611725, 0.19470414519309998, 0.036100123077631, 0.01420053280889988, 0.4852614402770996, 0.0], [0.0011000999948009849, 0.0011007190914824605, 0.0020198114216327667, 0.04574856534600258, 0.38896673917770386, 0.03131500259041786, 0.0525263287127018, 0.477222740650177, 0.0], [0.0002339252532692626, 0.000981021556071937, 1.5827743482077494e-05, 0.0011127860052511096, 0.9112635254859924, 0.005978640168905258, 0.00043576056486926973, 0.07997852563858032, 0.0], [0.0005120327114127576, 0.0007365645724348724, 0.0015265822876244783, 0.06368237733840942, 0.0032670614309608936, 0.024687718600034714, 0.03082500584423542, 0.8747626543045044, 0.0], [0.0011609828798100352, 0.000480949500342831, 0.001843297854065895, 0.004738551564514637, 0.001610922277905047, 0.010740552097558975, 0.14986306428909302, 0.8295616507530212, 0.0], [1.4452162986344774e-06, 2.967699856526451e-06, 3.634609674918465e-05, 5.727020834456198e-05, 0.0020299030002206564, 0.00075286696664989, 0.0005324643570929766, 0.9965866804122925, 0.0]]]], \"left_text\": [\"E\", \"F\", \"L\", \"C\", \"L\", \"A\", \"A\", \"<eos>\"], \"right_text\": [\"V\", \"V\", \"T\", \"G\", \"V\", \"T\", \"A\", \"<eos>\", \"<pad>\"]}], \"default_filter\": \"0\", \"root_div_id\": \"bertviz-8769fc9a66b649ef8bea2de8ff7bf4d6\", \"layer\": null, \"heads\": null, \"include_layers\": [0, 1, 2, 3]}; // HACK: {\"attention\": [{\"name\": \"Encoder\", \"attn\": [[[[0.5109282732009888, 0.2881547510623932, 0.20042012631893158, 0.0004964193212799728, 8.047328492466477e-08, 1.5685648691032839e-07, 2.2383191833341698e-07, 1.776128896735507e-11, 0.0], [0.624721348285675, 0.365185409784317, 0.010093054734170437, 1.3889440708680922e-07, 6.457513560334527e-14, 5.334551160182666e-13, 7.250175459994068e-11, 1.7900984243101464e-13, 0.0], [0.00018209038535133004, 0.9972518086433411, 0.0025652695912867785, 8.414351100327622e-07, 7.84199230075347e-14, 4.565517925458336e-19, 2.119565219325714e-16, 5.4931611950490925e-17, 0.0], [8.911452584770018e-16, 1.7938201608558302e-06, 0.9986485838890076, 0.0013496767496690154, 3.2195330845752324e-09, 6.038143185929244e-17, 5.67571613085233e-22, 1.679110851620334e-27, 0.0], [6.49117164073683e-34, 7.75691446699086e-21, 1.3441818964565755e-06, 0.9998854398727417, 0.00011317819735268131, 4.3381881420501145e-11, 3.658478081551042e-21, 7.137981970615421e-32, 0.0], [1.1210387714598537e-44, 1.4583281180282188e-33, 1.3009475005992073e-20, 9.813377346290508e-07, 0.9998316764831543, 0.0001673563092481345, 2.365135214413283e-12, 3.3870291470512303e-26, 0.0], [0.0, 0.0, 1.457025965309039e-35, 1.9351993424357868e-21, 3.3596005977187815e-08, 0.9999998807907104, 1.298145662076422e-07, 2.9328663192607124e-24, 0.0], [0.0, 0.0, 0.0, 0.0, 0.0, 0.0, 0.0, 1.0, 0.0], [4.203895392974451e-45, 0.0, 0.0, 0.0, 1.478650139555547e-41, 6.781586028872816e-23, 2.9660351952287556e-09, 1.0, 0.0]], [[9.271941436850284e-09, 1.0, 4.1792307461929745e-13, 0.0, 0.0, 0.0, 0.0, 0.0, 0.0], [6.884805995675713e-31, 1.1037400993174629e-09, 1.0, 2.0818815175957582e-16, 0.0, 0.0, 0.0, 0.0, 0.0], [0.0, 2.830159540297677e-22, 3.739620613174566e-09, 1.0, 4.155408643353629e-17, 0.0, 0.0, 0.0, 0.0], [0.0, 4.8765186558503634e-43, 1.0158099398747276e-22, 3.2299798252699574e-11, 1.0, 1.3927746488669873e-13, 1.3632675199572772e-35, 0.0, 0.0], [0.0, 0.0, 6.1477205707472645e-40, 2.211990979450614e-20, 8.841245602297931e-08, 0.9999998807907104, 9.682604718008747e-10, 3.4540513921963156e-37, 0.0], [5.187089802165974e-35, 1.533180267996283e-39, 0.0, 4.7117216516568825e-36, 4.897864442206838e-21, 1.9235869407746575e-12, 1.0, 3.376999446749675e-15, 0.0], [2.292935608184688e-23, 1.8543482158939127e-31, 4.203895392974451e-45, 0.0, 8.211609000943428e-43, 4.318751680482251e-22, 8.189987283913069e-07, 0.9999991655349731, 0.0], [0.0, 0.0, 0.0, 0.0, 0.0, 0.0, 6.221765181602188e-43, 1.0, 0.0], [1.0679085527944223e-32, 1.7080570291483355e-09, 0.999510645866394, 0.0004893843433819711, 6.698580033387108e-24, 3.1204888850344415e-34, 7.51471486206667e-31, 1.782739615784607e-21, 0.0]], [[0.007741524837911129, 0.03314046189188957, 0.17199259996414185, 0.3444600999355316, 0.2847835123538971, 0.09280020743608475, 0.05433032661676407, 0.010751263238489628, 0.0], [0.13297870755195618, 0.08855536580085754, 0.10160152614116669, 0.12044128775596619, 0.15856391191482544, 0.12115363031625748, 0.14068908989429474, 0.1360166221857071, 0.0], [0.3865416944026947, 0.17579330503940582, 0.055934641510248184, 0.03329507261514664, 0.024059781804680824, 0.019040368497371674, 0.05039707571268082, 0.2549380362033844, 0.0], [0.3270535171031952, 0.3213706314563751, 0.14777609705924988, 0.04146076738834381, 0.011731286533176899, 0.010717245750129223, 0.03001081384718418, 0.10987969487905502, 0.0], [0.036753393709659576, 0.23457422852516174, 0.4717406928539276, 0.1909315586090088, 0.022346097975969315, 0.010861827060580254, 0.015199595130980015, 0.017592649906873703, 0.0], [0.004468902945518494, 0.07045221328735352, 0.3406253159046173, 0.4475031793117523, 0.09839363396167755, 0.021620552986860275, 0.01400194875895977, 0.0029341340996325016, 0.0], [0.0005385316908359528, 0.005594057496637106, 0.08091113716363907, 0.30267518758773804, 0.42101171612739563, 0.15754050016403198, 0.03103526495397091, 0.0006935796700417995, 0.0], [0.0016332302475348115, 0.000226473857765086, 0.0003017343988176435, 0.0009247356792911887, 0.013557999394834042, 0.005935304798185825, 0.0026864379178732634, 0.9747340679168701, 0.0], [0.00881192833185196, 0.0021135350689291954, 0.0037420738954097033, 0.018741492182016373, 0.13757415115833282, 0.4106714427471161, 0.3872174322605133, 0.03112788312137127, 0.0]], [[0.0642230436205864, 0.11993001401424408, 0.23499996960163116, 0.34219345450401306, 0.10727165639400482, 0.05801090970635414, 0.049952615052461624, 0.023418432101607323, 0.0], [0.07612886279821396, 0.12857508659362793, 0.24775780737400055, 0.3148334324359894, 0.09061585366725922, 0.05570531263947487, 0.0559658519923687, 0.03041771613061428, 0.0], [0.11546961963176727, 0.2003432959318161, 0.209305077791214, 0.2888159453868866, 0.11227498203516006, 0.03286748379468918, 0.021240796893835068, 0.019682668149471283, 0.0], [0.10007581114768982, 0.1984981894493103, 0.22419936954975128, 0.11017975956201553, 0.22134262323379517, 0.068410225212574, 0.04675674811005592, 0.030537279322743416, 0.0], [0.015666034072637558, 0.035390011966228485, 0.10849779099225998, 0.3246701657772064, 0.1733069270849228, 0.14697223901748657, 0.15272097289562225, 0.04277569800615311, 0.0], [0.016531948000192642, 0.03415890783071518, 0.058039046823978424, 0.23021237552165985, 0.2710951864719391, 0.17519786953926086, 0.15043087303638458, 0.06433384120464325, 0.0], [0.008051689714193344, 0.014005103148519993, 0.025065718218684196, 0.10579846799373627, 0.2494819015264511, 0.31844672560691833, 0.14659884572029114, 0.13255144655704498, 0.0], [1.0800194104376715e-05, 7.0521377892873716e-06, 1.9880515537806787e-05, 1.6622489056317136e-05, 0.0001990948076127097, 0.004202204290777445, 0.010834744200110435, 0.9847095608711243, 0.0], [0.007252327632158995, 0.006261823698878288, 0.015772351995110512, 0.03341008722782135, 0.04175866022706032, 0.2259323000907898, 0.4845959544181824, 0.1850164532661438, 0.0]], [[0.09039327502250671, 0.13259722292423248, 0.12325315177440643, 0.3030196726322174, 0.04356001317501068, 0.012176340445876122, 0.03179088979959488, 0.26320940256118774, 0.0], [0.2341599017381668, 0.15617169439792633, 0.11316188424825668, 0.16615961492061615, 0.03456771373748779, 0.019345195963978767, 0.040881674736738205, 0.2355523407459259, 0.0], [0.2996181845664978, 0.21720319986343384, 0.167263463139534, 0.16909855604171753, 0.027787212282419205, 0.0201957356184721, 0.027237404137849808, 0.07159620523452759, 0.0], [0.20876352488994598, 0.2789745628833771, 0.256144255399704, 0.14793480932712555, 0.029180655255913734, 0.018915589898824692, 0.027206210419535637, 0.03288034349679947, 0.0], [0.02872512675821781, 0.13031579554080963, 0.2912920117378235, 0.4273206293582916, 0.04699837788939476, 0.023774579167366028, 0.03580697625875473, 0.015766486525535583, 0.0], [0.0016661122208461165, 0.024855276569724083, 0.18169791996479034, 0.6240121126174927, 0.09357655793428421, 0.03934619203209877, 0.03283313661813736, 0.00201267353259027, 0.0], [0.0003116489388048649, 0.005486724432557821, 0.06453311443328857, 0.4470001757144928, 0.26725614070892334, 0.11526433378458023, 0.0973346158862114, 0.002813162514939904, 0.0], [0.0004588007868733257, 0.0002524792216718197, 0.00011327917309245095, 0.0006107279332354665, 0.0023862491361796856, 0.0011050315806642175, 0.006237385328859091, 0.9888361096382141, 0.0], [0.0012187105603516102, 0.0016234348295256495, 0.009250612929463387, 0.03209002688527107, 0.13982707262039185, 0.42074838280677795, 0.3887729346752167, 0.006468777544796467, 0.0]], [[0.07186829298734665, 0.09092747420072556, 0.23418013751506805, 0.2251792550086975, 0.09810753166675568, 0.1232822984457016, 0.07095712423324585, 0.08549778908491135, 0.0], [0.09799905121326447, 0.11843220144510269, 0.2689339518547058, 0.19689364731311798, 0.07136452943086624, 0.0997876450419426, 0.06761427968740463, 0.07897469401359558, 0.0], [0.15314361453056335, 0.20825904607772827, 0.14401832222938538, 0.28027215600013733, 0.07736532390117645, 0.03005959466099739, 0.049545928835868835, 0.05733608826994896, 0.0], [0.08785054832696915, 0.16820138692855835, 0.3825708329677582, 0.10125875473022461, 0.10275241732597351, 0.0873701274394989, 0.030123818665742874, 0.03987192362546921, 0.0], [0.016337022185325623, 0.03769880160689354, 0.21888788044452667, 0.27873679995536804, 0.11913283169269562, 0.1943305879831314, 0.07934506982564926, 0.055531032383441925, 0.0], [0.020026257261633873, 0.041447319090366364, 0.06424352526664734, 0.2966121733188629, 0.2064552903175354, 0.11307696253061295, 0.13726800680160522, 0.12087048590183258, 0.0], [0.007209645584225655, 0.01555093564093113, 0.08270445466041565, 0.07526644319295883, 0.16937361657619476, 0.3976706266403198, 0.06527154892683029, 0.18695278465747833, 0.0], [0.0007578551885671914, 0.0005202612956054509, 0.0004722128214780241, 0.0004091217997483909, 0.0022278616670519114, 0.005925825331360102, 0.014771520160138607, 0.9749153256416321, 0.0], [0.08793723583221436, 0.07164813578128815, 0.06880497932434082, 0.03772842511534691, 0.11678177118301392, 0.22998762130737305, 0.1898418664932251, 0.19727002084255219, 0.0]], [[0.04762425273656845, 0.0001309385261265561, 2.035777288256213e-05, 6.424618914024904e-05, 0.007418820168823004, 0.01126898918300867, 0.0004458495241124183, 0.9330264925956726, 0.0], [0.7446044087409973, 0.015051628462970257, 0.0009187273681163788, 0.0002104049053741619, 0.0006132172420620918, 0.0015523823676630855, 0.0010674018412828445, 0.23598189651966095, 0.0], [0.7335838675498962, 0.22254136204719543, 0.018685588613152504, 0.0008730593835934997, 0.000105799495941028, 0.00014947449380997568, 0.00040398648707196116, 0.023656697943806648, 0.0], [0.10079436749219894, 0.5621716976165771, 0.314057856798172, 0.021822359412908554, 0.00026468990836292505, 4.276339677744545e-05, 3.6873319913866e-05, 0.0008093458018265665, 0.0], [0.0040226709097623825, 0.13706886768341064, 0.629115104675293, 0.22169341146945953, 0.007566073443740606, 0.0002023157139774412, 2.570115429989528e-05, 0.0003057343128602952, 0.0], [7.772937533445656e-05, 0.002173913177102804, 0.0789807066321373, 0.644745945930481, 0.2637796998023987, 0.009719453752040863, 0.00026238319696858525, 0.00026028259890154004, 0.0], [8.711353416401835e-07, 7.026069852145156e-06, 0.0006903354660607874, 0.07141256332397461, 0.7088356018066406, 0.21206670999526978, 0.006848045624792576, 0.0001388576638419181, 0.0], [3.3312691494202795e-10, 8.064613421510103e-10, 1.4767744005439454e-07, 8.514929504599422e-05, 0.04730888828635216, 0.7902001142501831, 0.1623324751853943, 7.328374340431765e-05, 0.0], [2.198557240262744e-06, 5.4350866776076145e-06, 5.049024912295863e-05, 0.0006036336999386549, 0.003470152383670211, 0.14414532482624054, 0.8513858914375305, 0.0003369049809407443, 0.0]], [[0.02217932604253292, 0.10093583166599274, 0.3726268410682678, 0.3412022590637207, 0.10413163900375366, 0.042015526443719864, 0.012985373847186565, 0.00392318656668067, 0.0], [0.001969102304428816, 0.013698802329599857, 0.14284297823905945, 0.48376208543777466, 0.26374614238739014, 0.08006875962018967, 0.011955562978982925, 0.001956537365913391, 0.0], [0.000976973446086049, 0.00459330715239048, 0.041372694075107574, 0.3663679361343384, 0.38385069370269775, 0.16556744277477264, 0.03147488087415695, 0.005796074401587248, 0.0], [0.0017265909118577838, 0.003460137639194727, 0.014628011733293533, 0.1286763846874237, 0.3803718686103821, 0.299991250038147, 0.12612390518188477, 0.045021817088127136, 0.0], [0.003559870645403862, 0.001817053067497909, 0.0020809643901884556, 0.01240536104887724, 0.08438298106193542, 0.2660437822341919, 0.452056884765625, 0.17765313386917114, 0.0], [0.0066866627894341946, 0.003804976586252451, 0.001474095624871552, 0.00387187791056931, 0.010560558177530766, 0.04427232965826988, 0.2612023949623108, 0.6681270599365234, 0.0], [0.008541030809283257, 0.008884519338607788, 0.0035214214585721493, 0.004085127264261246, 0.004647394642233849, 0.014019214548170567, 0.1127885952591896, 0.8435127139091492, 0.0], [0.026574278250336647, 0.04793746769428253, 0.012843555770814419, 0.004907127469778061, 0.0019266187446191907, 0.0033171256072819233, 0.0327904112637043, 0.8697034120559692, 0.0], [0.020665299147367477, 0.10112103074789047, 0.21535032987594604, 0.3617717921733856, 0.0928448736667633, 0.049581125378608704, 0.043466925621032715, 0.11519862711429596, 0.0]]], [[[0.016741666942834854, 0.0056237103417515755, 0.005018358584493399, 0.0018440482672303915, 0.001885186997242272, 0.004726529587060213, 0.000776707602199167, 0.9633838534355164, 0.0], [0.05305149406194687, 0.007153927348554134, 0.003013747511431575, 0.0018916957778856158, 0.00022321926371660084, 0.0011307935928925872, 0.00031790288630872965, 0.9332171678543091, 0.0], [0.11906447261571884, 0.00832363124936819, 0.007448770105838776, 0.004764642100781202, 0.0005696387961506844, 0.005448729265481234, 0.002293951576575637, 0.8520861864089966, 0.0], [0.004829937592148781, 0.16318543255329132, 0.031133385375142097, 0.01135460939258337, 0.0005481725675053895, 0.0009024458122439682, 0.0014061168767511845, 0.7866398692131042, 0.0], [0.0030063013546168804, 0.01631341129541397, 0.2445790320634842, 0.05760619044303894, 0.00563471857458353, 0.0011636762646958232, 0.0048127202317118645, 0.6668839454650879, 0.0], [0.002444887300953269, 0.006784974131733179, 0.01674639992415905, 0.20058566331863403, 0.031244704499840736, 0.006721068639308214, 0.002551402198150754, 0.7329208850860596, 0.0], [0.0011559337144717574, 0.002061458071693778, 0.025002242997288704, 0.07413852959871292, 0.15089046955108643, 0.044798050075769424, 0.007950710132718086, 0.694002628326416, 0.0], [0.000576202233787626, 0.0008446482243016362, 0.0009581707417964935, 0.0005847946158610284, 0.0005651981336995959, 0.002293370198458433, 0.0027785690035670996, 0.9913990497589111, 0.0], [0.0009751528850756586, 0.0009564185165800154, 0.0005325408419594169, 0.00031563767697662115, 0.0003805503947660327, 0.001080733840353787, 0.0006399637786671519, 0.9951189756393433, 0.0]], [[0.00836160872131586, 0.010415234602987766, 0.02054492197930813, 0.04499495401978493, 0.024609139189124107, 0.03485504910349846, 0.19452789425849915, 0.6616911888122559, 0.0], [0.011060936376452446, 0.0021711052395403385, 0.010634089820086956, 0.052289269864559174, 0.003849871689453721, 0.022019987925887108, 0.14462468028068542, 0.7533500790596008, 0.0], [0.008853720501065254, 0.007350079249590635, 0.015464285388588905, 0.08760719746351242, 0.001292789471335709, 0.007514875382184982, 0.11448556184768677, 0.7574314475059509, 0.0], [0.007512685842812061, 0.03167504817247391, 0.03152335435152054, 0.01653915084898472, 0.002768751233816147, 0.0075356909073889256, 0.024978971108794212, 0.8774663209915161, 0.0], [0.0019909986294806004, 0.016345757991075516, 0.02775094285607338, 0.09907329827547073, 0.01410781592130661, 0.013291082344949245, 0.06147786229848862, 0.7659621834754944, 0.0], [0.00020814765593968332, 0.0009007054031826556, 0.011876426637172699, 0.11829876154661179, 0.02003544010221958, 0.02363736182451248, 0.08591555058956146, 0.7391276359558105, 0.0], [0.00023888428404461592, 0.00046787556493654847, 0.002491411752998829, 0.05278947204351425, 0.028895679861307144, 0.06405715644359589, 0.024306926876306534, 0.8267526030540466, 0.0], [0.0001024511584546417, 0.0002791218284983188, 0.0015248511917889118, 0.006277947686612606, 0.00045804184628650546, 0.0005308369291014969, 0.0003432751109357923, 0.9904835224151611, 0.0], [0.0003294980269856751, 0.0006858218694105744, 0.0018050139769911766, 0.00894910003989935, 0.0008090278715826571, 0.0005497977253980935, 0.00010865733202081174, 0.986763060092926, 0.0]], [[0.015525268390774727, 0.06798452883958817, 0.05132634565234184, 0.023283449932932854, 0.0017675968119874597, 0.007266452070325613, 0.004018844570964575, 0.8288275003433228, 0.0], [0.02238576114177704, 0.021617047488689423, 0.059249307960271835, 0.027867628261446953, 0.0050477273762226105, 0.0040025594644248486, 0.020577378571033478, 0.8392525911331177, 0.0], [0.017261622473597527, 0.05295050889253616, 0.014032648876309395, 0.038888897746801376, 0.004011319484561682, 0.0017524517606943846, 0.014882519841194153, 0.8562200665473938, 0.0], [0.0041215489618480206, 0.005777198821306229, 0.018851187080144882, 0.012211764231324196, 0.03649260476231575, 0.011777147650718689, 0.007262921892106533, 0.9035056233406067, 0.0], [0.002423721831291914, 0.009858233854174614, 0.009681281633675098, 0.02601095661520958, 0.009884183295071125, 0.13600265979766846, 0.026195799931883812, 0.7799431085586548, 0.0], [0.0006054382538422942, 0.0016370780067518353, 0.0038980513345450163, 0.028864610940217972, 0.01333483774214983, 0.01358863990753889, 0.12310738116502762, 0.8149639368057251, 0.0], [0.0006415460375137627, 0.0015847865724936128, 0.0038711270317435265, 0.024547787383198738, 0.019457045942544937, 0.029678987339138985, 0.007775852456688881, 0.9124428629875183, 0.0], [5.316961323842406e-05, 0.00029129558242857456, 0.0013471458805724978, 0.0012634191662073135, 0.0006731683970429003, 0.000769329140894115, 0.00014173993258737028, 0.9954606890678406, 0.0], [0.00012110437091905624, 0.0005334338056854904, 0.0012906076153740287, 0.001445876550860703, 0.0007831993279978633, 0.0005168608040548861, 5.819441139465198e-05, 0.9952507019042969, 0.0]], [[0.04194141924381256, 0.03522297367453575, 0.030950693413615227, 0.019413955509662628, 0.0031423689797520638, 0.0024730805307626724, 0.0027146274223923683, 0.8641408681869507, 0.0], [0.09302650392055511, 0.014017227105796337, 0.029952576383948326, 0.011562392115592957, 0.0017543904250487685, 0.010203970596194267, 0.0065788705833256245, 0.832904040813446, 0.0], [0.002237789798527956, 0.15281233191490173, 0.017233435064554214, 0.00797312892973423, 0.002813284983858466, 0.003030534368008375, 0.0027421985287219286, 0.8111573457717896, 0.0], [0.008164625614881516, 0.03808038309216499, 0.06397384405136108, 0.017894094809889793, 0.01735091768205166, 0.0007713609375059605, 0.004146193154156208, 0.8496186137199402, 0.0], [0.004011661279946566, 0.004269138909876347, 0.018765456974506378, 0.11463427543640137, 0.014764454215765, 0.004253515508025885, 0.0011065328726544976, 0.8381949663162231, 0.0], [0.0004316221456974745, 0.0009242589585483074, 0.003256026888266206, 0.02621256560087204, 0.16825386881828308, 0.013324849307537079, 0.005344713106751442, 0.7822521328926086, 0.0], [0.0011480489047244191, 0.006157126743346453, 0.0009295370546169579, 0.01975991018116474, 0.017646905034780502, 0.11455002427101135, 0.01277832593768835, 0.8270301222801208, 0.0], [0.000227264579734765, 0.0007502589141950011, 0.003213009564206004, 0.0009910602821037173, 0.0007824574713595212, 0.0009716268396005034, 0.0011188029311597347, 0.9919454455375671, 0.0], [0.0002928696048911661, 0.0013984051765874028, 0.002950449241325259, 0.0008548173937015235, 0.0005751382559537888, 0.0005929049220867455, 0.0003647531848400831, 0.9929706454277039, 0.0]], [[0.007140757981687784, 0.010471729561686516, 0.023347873240709305, 0.04043200612068176, 0.13912031054496765, 0.0455903485417366, 0.00465104216709733, 0.7292459607124329, 0.0], [0.012919136323034763, 0.004819491412490606, 0.009653614833950996, 0.026615943759679794, 0.15188191831111908, 0.10754639655351639, 0.009005012921988964, 0.6775584816932678, 0.0], [0.022978421300649643, 0.0055215307511389256, 0.003244708525016904, 0.013707282952964306, 0.036077115684747696, 0.045855000615119934, 0.022884754464030266, 0.8497311472892761, 0.0], [0.009207806549966335, 0.013066952116787434, 0.009165800176560879, 0.016606340184807777, 0.008413192816078663, 0.02823079377412796, 0.014182311482727528, 0.9011267423629761, 0.0], [0.011450651101768017, 0.18383243680000305, 0.040560655295848846, 0.01958584040403366, 0.0079782260581851, 0.0022887142840772867, 0.007442789617925882, 0.7268606424331665, 0.0], [0.0011902841506525874, 0.0083088967949152, 0.07248552143573761, 0.05564865097403526, 0.02635330520570278, 0.001733473502099514, 0.004684667568653822, 0.8295952081680298, 0.0], [0.0005848342552781105, 0.0004688798217102885, 0.02250615693628788, 0.08511541783809662, 0.04203585162758827, 0.03060450404882431, 0.010889858938753605, 0.807794451713562, 0.0], [0.00034613479510881007, 0.0006870886427350342, 0.0004281353612896055, 0.001350888516753912, 0.0011769664706662297, 0.0006378188845701516, 0.00033693076693452895, 0.9950360655784607, 0.0], [0.0006882164743728936, 0.0008266327786259353, 0.0003006603801622987, 0.0010673770448192954, 0.0017686252249404788, 0.0008556029060855508, 0.00013001664774492383, 0.9943628311157227, 0.0]], [[0.004335394129157066, 0.05010148510336876, 0.03671472519636154, 0.026152629405260086, 0.0024681619834154844, 0.0024482877925038338, 0.0029809954576194286, 0.8747982978820801, 0.0], [0.005067556165158749, 0.00972040556371212, 0.1041923239827156, 0.07257269322872162, 0.003992757294327021, 0.0005570737994275987, 0.0061156307347118855, 0.7977815866470337, 0.0], [0.0032446044497191906, 0.003230562200769782, 0.01866522803902626, 0.1528659462928772, 0.003920387476682663, 0.004004491027444601, 0.0048658461309969425, 0.8092029690742493, 0.0], [0.0005890934844501317, 0.000386416184483096, 0.005528957117348909, 0.01670614816248417, 0.03843390569090843, 0.019285917282104492, 0.008798537775874138, 0.9102709889411926, 0.0], [0.0008644074550829828, 0.0019066986860707402, 0.0028317233081907034, 0.018502559512853622, 0.009402385912835598, 0.06956154108047485, 0.01666077971458435, 0.8802699446678162, 0.0], [0.0005379688227549195, 0.0012573671992868185, 0.0037644957192242146, 0.008507424034178257, 0.00469503877684474, 0.014245033264160156, 0.07962875813245773, 0.8873639106750488, 0.0], [0.0008193664252758026, 0.0013667292660102248, 0.0033064994495362043, 0.004127020947635174, 0.0029259019065648317, 0.015829959884285927, 0.020831355825066566, 0.9507932066917419, 0.0], [1.869121661002282e-05, 7.846506923669949e-05, 0.0003813373623415828, 0.0015148421516641974, 0.00040227192221209407, 0.00043805388850159943, 0.0001858167233876884, 0.9969804883003235, 0.0], [1.8763246771413833e-05, 6.676777411485091e-05, 0.0002865052374545485, 0.0021039308048784733, 0.00032110113534145057, 0.00017524472787044942, 8.891716424841434e-05, 0.9969388246536255, 0.0]], [[0.012964603491127491, 0.02223319001495838, 0.09878133982419968, 0.0020218247082084417, 0.0016145652625709772, 0.010409997776150703, 0.00013730178761761636, 0.851837158203125, 0.0], [0.03817048668861389, 0.019380874931812286, 0.05818716809153557, 0.003479281673207879, 0.0011654517147690058, 0.006508639547973871, 0.00019381599850021303, 0.8729143142700195, 0.0], [0.038142308592796326, 0.02037380449473858, 0.019446834921836853, 0.0004722679441329092, 0.001626359298825264, 0.0030491838697344065, 9.073755063582212e-05, 0.91679847240448, 0.0], [0.025533227249979973, 0.03438793122768402, 0.07361170649528503, 0.0013868409441784024, 0.0017311004921793938, 0.0032454263418912888, 0.0003825546009466052, 0.8597212433815002, 0.0], [0.002961324993520975, 0.012366579845547676, 0.11271502077579498, 0.009436247870326042, 0.0004948707646690309, 0.0055533102713525295, 0.0005726521485485137, 0.85589998960495, 0.0], [0.002951497444882989, 0.004054850898683071, 0.07035920023918152, 0.006094937678426504, 0.004345098976045847, 0.020827243104577065, 0.0004663747677113861, 0.8909007906913757, 0.0], [0.001165263936854899, 0.0021618253085762262, 0.014683373272418976, 0.0649624764919281, 0.003799188882112503, 0.019518742337822914, 0.011877868324518204, 0.8818312883377075, 0.0], [4.530618025455624e-05, 6.913666584296152e-05, 0.0019767875783145428, 7.001984340604395e-05, 4.529913712758571e-05, 0.0009784133872017264, 1.0906415809586179e-05, 0.9968041181564331, 0.0], [9.690239676274359e-05, 0.00010928078700089827, 0.001979028107598424, 5.473053897731006e-05, 4.252576400176622e-05, 0.00071094767190516, 5.4908050515223294e-06, 0.9970011115074158, 0.0]], [[0.011989268474280834, 0.028757669031620026, 0.09906225651502609, 0.08328709006309509, 0.04734822362661362, 0.013597157783806324, 0.021791644394397736, 0.6941666603088379, 0.0], [0.0026865946128964424, 0.006870870478451252, 0.039788439869880676, 0.12602557241916656, 0.12981532514095306, 0.025391457602381706, 0.025633104145526886, 0.6437885761260986, 0.0], [0.0017992882058024406, 0.0021018164698034525, 0.01252678968012333, 0.03252379596233368, 0.1703786998987198, 0.06502650678157806, 0.025272950530052185, 0.6903701424598694, 0.0], [0.0007889618864282966, 0.0010165800340473652, 0.0025774575769901276, 0.011031857691705227, 0.039681922644376755, 0.31895965337753296, 0.039006613194942474, 0.5869369506835938, 0.0], [0.0006614034646190703, 0.0008101246785372496, 0.0017921009566634893, 0.003200675593689084, 0.013477769680321217, 0.1263832449913025, 0.0789349153637886, 0.7747398018836975, 0.0], [0.0008054053760133684, 0.0008082950953394175, 0.002495674416422844, 0.0023626789916306734, 0.0031596666667610407, 0.026364151388406754, 0.035507094115018845, 0.9284970760345459, 0.0], [0.0008637396967969835, 0.000898362195584923, 0.0052607678808271885, 0.0034049435053020716, 0.006165723782032728, 0.022117305546998978, 0.03174436092376709, 0.9295447468757629, 0.0], [0.00013060714991297573, 8.178075222531334e-05, 0.0007418306777253747, 0.0011929634492844343, 0.001976878149434924, 0.0021709210705012083, 0.0008519869297742844, 0.9928529858589172, 0.0], [6.454584945458919e-05, 6.144001235952601e-05, 0.0005233671399764717, 0.0017658647848293185, 0.003598072100430727, 0.00197924068197608, 0.0007528993883170187, 0.9912545680999756, 0.0]]], [[[0.0049539776518940926, 0.049189724028110504, 0.019271960482001305, 0.0062457239255309105, 0.001736754085868597, 0.00451712915673852, 0.0032479825895279646, 0.9108367562294006, 0.0], [0.004142467398196459, 0.010182561352849007, 0.06939837336540222, 0.01875172182917595, 0.005999003071337938, 0.0009227209957316518, 0.0057567995972931385, 0.8848463296890259, 0.0], [0.0012014256790280342, 0.006329472176730633, 0.02786872163414955, 0.04054132476449013, 0.0028454891871660948, 0.004262203350663185, 0.007305712439119816, 0.9096456170082092, 0.0], [0.0007139916415326297, 0.0011213432298973203, 0.0037799018900841475, 0.005667660851031542, 0.21364575624465942, 0.0017539277905598283, 0.0018684044480323792, 0.7714490294456482, 0.0], [0.0004645555454771966, 0.0019296397222205997, 0.0011197492713108659, 0.0028493311256170273, 0.009519978426396847, 0.13074563443660736, 0.016602182760834694, 0.8367688655853271, 0.0], [0.0009695045300759375, 0.0033502434380352497, 0.012362132780253887, 0.004953487776219845, 0.0037507314700633287, 0.024021456018090248, 0.05906401574611664, 0.8915283679962158, 0.0], [0.0014822332886978984, 0.002845282666385174, 0.005318989511579275, 0.0010234878864139318, 0.0040497626177966595, 0.006420292891561985, 0.0035621519200503826, 0.9752978682518005, 0.0], [0.0002856229548342526, 0.0005944593576714396, 0.004195177927613258, 0.00317287421785295, 0.004736369010061026, 0.0036811181344091892, 0.0011119056725874543, 0.9822224378585815, 0.0], [0.00030084894387982786, 0.0007109473808668554, 0.005205332301557064, 0.004859365522861481, 0.004701818805187941, 0.0023113859351724386, 0.000668585707899183, 0.9812417030334473, 0.0]], [[0.012884634546935558, 0.051836684346199036, 0.1111135184764862, 0.2339392900466919, 0.0029786010272800922, 0.0011677041184157133, 0.001251995679922402, 0.5848276019096375, 0.0], [0.006927614565938711, 0.03804102912545204, 0.0483250617980957, 0.14381399750709534, 0.01632082648575306, 0.002304602414369583, 0.0010387146612629294, 0.7432281374931335, 0.0], [0.00585291488096118, 0.011111849918961525, 0.018939826637506485, 0.024847539141774178, 0.06605524569749832, 0.006417315918952227, 0.0022697828244417906, 0.8645054697990417, 0.0], [0.00045572599628940225, 0.0005447783623822033, 0.004743268247693777, 0.002470760839059949, 0.014617227017879486, 0.06214917078614235, 0.004106116946786642, 0.9109129309654236, 0.0], [0.0003010777581948787, 0.001810397021472454, 0.0014904238050803542, 0.009098904207348824, 0.01169211883097887, 0.00826353020966053, 0.006237137597054243, 0.9611064195632935, 0.0], [0.0017117453971877694, 0.004046015441417694, 0.010851925238966942, 0.0043959119357168674, 0.0382937453687191, 0.011237185448408127, 0.00537733593955636, 0.9240860939025879, 0.0], [0.00010678075341274962, 0.0006079112063162029, 0.00304999528452754, 0.000544195354450494, 0.01972501166164875, 0.011630057357251644, 0.006008517928421497, 0.9583275318145752, 0.0], [0.00014191237278282642, 0.0004310479562263936, 0.0018660167697817087, 0.0019108657725155354, 0.0043328446336090565, 0.001981383888050914, 0.0020836256444454193, 0.9872523546218872, 0.0], [0.0002061468258034438, 0.0006559127941727638, 0.002381665399298072, 0.0027780234813690186, 0.006637951824814081, 0.0020812805742025375, 0.0015139725292101502, 0.9837449789047241, 0.0]], [[0.009514733217656612, 0.0024365615099668503, 0.004990867804735899, 0.019687587395310402, 0.017196979373693466, 0.1473311483860016, 0.002148224739357829, 0.7966938614845276, 0.0], [0.05495670065283775, 0.007330598775297403, 0.015489357523620129, 0.007424879353493452, 0.0010636064689606428, 0.022389575839042664, 0.009576886892318726, 0.8817683458328247, 0.0], [0.0020611099898815155, 0.08708266913890839, 0.038350142538547516, 0.006571060046553612, 0.0002484169090166688, 0.005337726790457964, 0.012089095078408718, 0.8482597470283508, 0.0], [0.0010121254017576575, 0.01083606667816639, 0.1331205815076828, 0.01700802706182003, 0.0022931380663067102, 0.00022894788708072156, 0.0017122378339990973, 0.8337888717651367, 0.0], [0.00022161823289934546, 0.0003027758502867073, 0.0038282610476017, 0.0392305813729763, 0.011484362185001373, 0.0014284179778769612, 0.0002583865716587752, 0.9432456493377686, 0.0], [0.0002144749742001295, 0.0005137517582625151, 0.00399822648614645, 0.016610994935035706, 0.12216717004776001, 0.0079112583771348, 0.0061586652882397175, 0.8424254655838013, 0.0], [0.0005753537407144904, 0.0011493146885186434, 0.00016752685769461095, 0.005644337274134159, 0.017415283247828484, 0.2974458634853363, 0.03801140934228897, 0.639590859413147, 0.0], [0.0009535205317661166, 0.003130656434223056, 0.0014017901849001646, 0.005568669177591801, 0.003641807707026601, 0.0030129719525575638, 0.010319999419152737, 0.9719706177711487, 0.0], [0.0016917022876441479, 0.005890947766602039, 0.0017149007180705667, 0.004001526162028313, 0.002252067206427455, 0.0021865328308194876, 0.006802778225392103, 0.9754595756530762, 0.0]], [[0.0003896583802998066, 0.0017033234471455216, 0.021503644064068794, 0.40691253542900085, 0.007933016866445541, 0.006713570095598698, 0.002126820385456085, 0.5527174472808838, 0.0], [0.0006370691698975861, 0.0015405573649331927, 0.009302031248807907, 0.16117973625659943, 0.017130451276898384, 0.01402740366756916, 0.004335847683250904, 0.7918468713760376, 0.0], [0.008498306386172771, 0.00991884060204029, 0.005995333194732666, 0.001991014927625656, 0.07031983882188797, 0.037300169467926025, 0.03170308098196983, 0.8342733979225159, 0.0], [0.01071477122604847, 0.03430856764316559, 0.006374785676598549, 0.0120957400649786, 0.024303041398525238, 0.0038288801442831755, 0.011030725203454494, 0.8973434567451477, 0.0], [0.0004045751702506095, 0.0011027362197637558, 0.005720999091863632, 0.062484897673130035, 0.0032846403773874044, 0.0033114454708993435, 0.0014831360895186663, 0.9222075343132019, 0.0], [0.0008343043737113476, 0.001131031895056367, 0.0027725882828235626, 0.004558165557682514, 0.018018070608377457, 0.014678003266453743, 0.053920093923807144, 0.9040877223014832, 0.0], [0.0009372461936436594, 0.0012430357746779919, 0.011083273217082024, 0.005873569753021002, 0.01025586761534214, 0.04819890484213829, 0.008325263857841492, 0.9140828847885132, 0.0], [0.0006743519916199148, 0.0012043697061017156, 0.002259097993373871, 0.002622259547933936, 0.0021616697777062654, 0.003987073432654142, 0.0013124251272529364, 0.98577880859375, 0.0], [0.0009663373348303139, 0.0015970353269949555, 0.002582801738753915, 0.0034246807917952538, 0.002758486196398735, 0.003739571198821068, 0.0011110372142866254, 0.9838200807571411, 0.0]], [[0.005330863408744335, 0.008631803095340729, 0.009827678091824055, 0.11337082087993622, 0.4361688196659088, 0.012192578986287117, 0.0010596021311357617, 0.413417786359787, 0.0], [0.002763201482594013, 0.0012211877619847655, 0.0025156536139547825, 0.09255701303482056, 0.3641187846660614, 0.037406131625175476, 0.0026993711944669485, 0.4967186152935028, 0.0], [0.00653268676251173, 0.0010376042919233441, 0.003650784259662032, 0.026265770196914673, 0.00845077633857727, 0.02610427513718605, 0.008140009827911854, 0.919818103313446, 0.0], [0.01836695894598961, 0.022130444645881653, 0.009358190931379795, 0.028020456433296204, 0.0035012769512832165, 0.015279566869139671, 0.009860272519290447, 0.8934828042984009, 0.0], [0.001960208872333169, 0.01055075041949749, 0.021352561190724373, 0.005918700248003006, 0.0031029079109430313, 0.003989339340478182, 0.0021618364844471216, 0.9509637355804443, 0.0], [0.0007299992139451206, 0.004590245895087719, 0.16603507101535797, 0.008218653500080109, 0.0021058570127934217, 0.0035127790179103613, 0.0016800359589979053, 0.8131274580955505, 0.0], [0.0002882689004763961, 0.0005078705144114792, 0.0032139436807483435, 0.015681341290473938, 0.019165851175785065, 0.012564524076879025, 0.001495400327257812, 0.9470828175544739, 0.0], [0.000651544367428869, 0.0008752697031013668, 0.00316909933462739, 0.004536926280707121, 0.0021426999010145664, 0.003565306542441249, 0.0018811422633007169, 0.9831780791282654, 0.0], [0.0009387225727550685, 0.0007676825043745339, 0.0022841468453407288, 0.00466448999941349, 0.003113334998488426, 0.004195849876850843, 0.001417550491169095, 0.9826182126998901, 0.0]], [[0.005873677786439657, 0.03472230210900307, 0.15803763270378113, 0.01661527343094349, 0.0005425460985861719, 0.007739979773759842, 0.007878460921347141, 0.7685901522636414, 0.0], [0.0004370486713014543, 0.007001523394137621, 0.08973786234855652, 0.03525616228580475, 0.0032250836957246065, 0.0007658473332412541, 0.007071645464748144, 0.8565047979354858, 0.0], [0.00042380354716442525, 0.0007088106940500438, 0.010550431907176971, 0.061432674527168274, 0.009984157979488373, 0.0012542486656457186, 0.0035498091019690037, 0.9120960831642151, 0.0], [0.0007285886094905436, 0.0013358459109440446, 0.002308734692633152, 0.0022226653527468443, 0.11129099130630493, 0.011635681614279747, 0.003922917880117893, 0.8665545582771301, 0.0], [0.0008659357554279268, 0.001140989945270121, 0.0013437730958685279, 0.0013055977178737521, 0.0074157388880848885, 0.2668215334415436, 0.0046316469088196754, 0.716474711894989, 0.0], [0.00139102921821177, 0.0018431658390909433, 0.00456396397203207, 0.003834295552223921, 0.004083416424691677, 0.034840118139982224, 0.13015244901180267, 0.8192915320396423, 0.0], [0.0016581236850470304, 0.0034228204749524593, 0.008902177214622498, 0.0035967619623988867, 0.0015886458568274975, 0.003902610158547759, 0.028897790238261223, 0.9480310082435608, 0.0], [0.0008545630844309926, 0.0007198746898211539, 0.0027096024714410305, 0.005106545984745026, 0.00275848968885839, 0.004001261200755835, 0.0022489898838102818, 0.9816006422042847, 0.0], [0.0006408206536434591, 0.0007032164139673114, 0.0032136680092662573, 0.00778947351500392, 0.002726268256083131, 0.002465979428961873, 0.0011475385399535298, 0.9813129901885986, 0.0]], [[0.004926969297230244, 0.0017042647814378142, 0.0015134681016206741, 0.01980770006775856, 0.15427492558956146, 0.12613961100578308, 0.06643813848495483, 0.6251949071884155, 0.0], [0.014791959896683693, 0.0019329192582517862, 0.0013701007701456547, 0.010995601303875446, 0.008370730094611645, 0.05381190404295921, 0.033441342413425446, 0.8752854466438293, 0.0], [0.04578801617026329, 0.0032315205316990614, 0.006494245491921902, 0.005520590115338564, 0.000803303555585444, 0.010794976726174355, 0.01303816307336092, 0.9143291711807251, 0.0], [0.008451886475086212, 0.11548202484846115, 0.012652887962758541, 0.017001468688249588, 0.00018168242240790278, 0.0014713442651554942, 0.0020826724357903004, 0.842676043510437, 0.0], [0.0015908342320472002, 0.03268617391586304, 0.18605266511440277, 0.03421389311552048, 0.004365929402410984, 0.00025625983835197985, 0.005042743869125843, 0.7357915043830872, 0.0], [0.0003300097887404263, 0.0018675311002880335, 0.11506057530641556, 0.06898004561662674, 0.011078327894210815, 0.006029547657817602, 0.0022762881126254797, 0.7943776845932007, 0.0], [0.00017652282258495688, 0.00011697204172378406, 0.002030708594247699, 0.04231399670243263, 0.10250169038772583, 0.01512075774371624, 0.00460480060428381, 0.8331345915794373, 0.0], [0.0020893916953355074, 0.0021146147046238184, 0.004595846403390169, 0.0042784372344613075, 0.00370677188038826, 0.007945860736072063, 0.008342639543116093, 0.9669264554977417, 0.0], [0.004096257966011763, 0.002326265210285783, 0.002770082326605916, 0.0023189280182123184, 0.003021242329850793, 0.007752501871436834, 0.0056955222971737385, 0.9720191359519958, 0.0]], [[0.005974628031253815, 0.012941702269017696, 0.12920895218849182, 0.015292366035282612, 0.002574657090008259, 0.01743617281317711, 0.0013808713993057609, 0.8151906728744507, 0.0], [0.007724011782556772, 0.013940676115453243, 0.03867562115192413, 0.04149690270423889, 0.002406274899840355, 0.0059273019433021545, 0.001513585913926363, 0.8883156180381775, 0.0], [0.00204634852707386, 0.010195323266088963, 0.010651253163814545, 0.15712057054042816, 0.0017251813551411033, 0.002867255825549364, 0.020641978830099106, 0.7947520613670349, 0.0], [0.0016041751950979233, 0.013261704705655575, 0.02313743345439434, 0.009115914814174175, 0.015803813934326172, 0.019047118723392487, 0.00783008337020874, 0.9101998209953308, 0.0], [0.0002101501595461741, 0.001157776452600956, 0.013689869083464146, 0.09271449595689774, 0.012431984767317772, 0.10521454364061356, 0.008242473006248474, 0.7663387060165405, 0.0], [0.00025176460621878505, 0.001195119577459991, 0.004558346699923277, 0.05520407855510712, 0.010008418001234531, 0.03244376927614212, 0.03993627056479454, 0.8564022183418274, 0.0], [7.39331662771292e-05, 0.00018958034343086183, 0.00032228551572188735, 0.07539835572242737, 0.010394012555480003, 0.026913033798336983, 0.025684263557195663, 0.8610244989395142, 0.0], [7.088336133165285e-05, 0.0002451043692417443, 0.0023642294108867645, 0.0066283694468438625, 0.002506957156583667, 0.0033063869923353195, 0.0009043276077136397, 0.9839736819267273, 0.0], [0.0001577644725330174, 0.0005140264402143657, 0.0032665531616657972, 0.008749006316065788, 0.0031051672995090485, 0.0033573885448276997, 0.0005672411061823368, 0.9802829027175903, 0.0]]], [[[0.008317654952406883, 0.0036479951813817024, 0.009787688963115215, 0.027644207701086998, 0.05030674859881401, 0.012527033686637878, 0.010194502770900726, 0.87757408618927, 0.0], [0.017487313598394394, 0.0040278625674545765, 0.0019138159696012735, 0.002249570330604911, 0.007554033305495977, 0.005558864213526249, 0.0011793377343565226, 0.960029125213623, 0.0], [0.012229609303176403, 0.0016657409723848104, 0.002521844580769539, 0.003275893395766616, 0.0013925627572461963, 0.001687762443907559, 0.0020003574900329113, 0.9752261638641357, 0.0], [0.0011695919092744589, 0.01643228903412819, 0.017657961696386337, 0.015781663358211517, 0.0005472626071423292, 0.0005544345476664603, 0.001699403510428965, 0.9461573958396912, 0.0], [0.0023148939944803715, 0.01869119703769684, 0.14576804637908936, 0.006027229130268097, 0.007368159014731646, 0.0002551671932451427, 0.0007980027003213763, 0.818777322769165, 0.0], [0.0032991061452776194, 0.0013858838938176632, 0.005745085421949625, 0.05688418447971344, 0.015268382616341114, 0.0008848897996358573, 0.0006059579318389297, 0.9159265160560608, 0.0], [0.0001812538248486817, 0.0001599071256350726, 0.0022892262786626816, 0.032366178929805756, 0.012598486617207527, 0.034951403737068176, 0.004291052930057049, 0.9131624698638916, 0.0], [0.0028113452717661858, 0.0034621465019881725, 0.013587013818323612, 0.02644279971718788, 0.039299726486206055, 0.04123739153146744, 0.05004492029547691, 0.8231146335601807, 0.0], [0.004085558000952005, 0.00393176544457674, 0.009513571858406067, 0.01849684864282608, 0.03238793835043907, 0.038441531360149384, 0.04218161106109619, 0.8509611487388611, 0.0]], [[0.030869634822010994, 0.013276580721139908, 0.0024307630956172943, 0.022127632051706314, 0.0021404654253274202, 0.0008370926952920854, 0.0007264870801009238, 0.9275913238525391, 0.0], [0.05754769966006279, 0.023796113207936287, 0.0027198053430765867, 0.010354817844927311, 0.0033508073538541794, 0.0011211158707737923, 0.0009271103190258145, 0.9001824855804443, 0.0], [0.010259585455060005, 0.12526509165763855, 0.007096556946635246, 0.0010406734654679894, 0.0025332127697765827, 0.0008765999227762222, 0.0004345671331975609, 0.8524937033653259, 0.0], [0.0030406340956687927, 0.0016124309040606022, 0.053520213812589645, 0.05471142753958702, 0.0005556084215641022, 0.00046056153951212764, 0.007239360827952623, 0.8788596987724304, 0.0], [0.00338224065490067, 0.0015501847956329584, 0.003054346889257431, 0.16550301015377045, 0.015744319185614586, 0.002798615489155054, 0.00027231196872889996, 0.8076949119567871, 0.0], [0.0007228914764709771, 0.0019834532868117094, 0.0021531207021325827, 0.0050097256898880005, 0.06822231411933899, 0.024281702935695648, 0.0006072776159271598, 0.8970195055007935, 0.0], [0.002345099113881588, 0.00042026990558952093, 0.0008463929407298565, 0.023895522579550743, 0.005104860290884972, 0.047531574964523315, 0.006124009843915701, 0.9137322902679443, 0.0], [0.004403652623295784, 0.0030653057619929314, 0.0058290171436965466, 0.007758529856801033, 0.010159027762711048, 0.015095540322363377, 0.05962279811501503, 0.8940661549568176, 0.0], [0.005127534735947847, 0.004319168161600828, 0.006571941077709198, 0.006534992251545191, 0.007035248912870884, 0.011586903594434261, 0.053213488310575485, 0.9056107401847839, 0.0]], [[0.13982678949832916, 0.08647053688764572, 0.0073966383934021, 0.004458504728972912, 0.004073314368724823, 0.011491908691823483, 0.005132022779434919, 0.7411502599716187, 0.0], [0.06757521629333496, 0.056486524641513824, 0.010465970262885094, 0.0032829877454787493, 0.004019221756607294, 0.0056457254104316235, 0.001866788836196065, 0.8506575226783752, 0.0], [0.009172795340418816, 0.03277066349983215, 0.003290472785010934, 0.029535558074712753, 0.023895464837551117, 0.0040273829363286495, 0.0036457940004765987, 0.8936618566513062, 0.0], [0.0006944742053747177, 0.0016747430199757218, 0.024483831599354744, 0.022448154166340828, 0.005753400269895792, 0.0026191293727606535, 0.0015505016781389713, 0.9407758116722107, 0.0], [0.0014386598486453295, 0.0020459466613829136, 0.010756933130323887, 0.018779542297124863, 0.012267925776541233, 0.01255006343126297, 0.009550508111715317, 0.9326104521751404, 0.0], [0.00032730333623476326, 0.0004710375505965203, 0.0024139820598065853, 0.04315789416432381, 0.029834672808647156, 0.005867750383913517, 0.009187721647322178, 0.9087396264076233, 0.0], [0.000536165724042803, 0.0005873504560440779, 0.00209730863571167, 0.010146362707018852, 0.014143312349915504, 0.012562645599246025, 0.013642307370901108, 0.9462845325469971, 0.0], [0.001630057580769062, 0.0023703326005488634, 0.00377113395370543, 0.017921224236488342, 0.01619672402739525, 0.010350068099796772, 0.03082405775785446, 0.9169363975524902, 0.0], [0.00199194997549057, 0.002972979564219713, 0.004760188981890678, 0.019457560032606125, 0.01590609923005104, 0.008741986006498337, 0.023518851026892662, 0.9226503968238831, 0.0]], [[0.016405997797846794, 0.003994046710431576, 0.003226236905902624, 0.11668281257152557, 0.010872196406126022, 0.005519172176718712, 0.002513537649065256, 0.8407859206199646, 0.0], [0.0168768223375082, 0.0007989061996340752, 0.007100190035998821, 0.08458350598812103, 0.00018243918020743877, 0.0013569073053076863, 0.0026339516043663025, 0.8864672780036926, 0.0], [0.0016202371334657073, 0.032774701714515686, 0.03200704604387283, 0.029065538197755814, 0.00022202171385288239, 0.0016517041949555278, 0.002165868179872632, 0.9004928469657898, 0.0], [0.008760608732700348, 0.03219828009605408, 0.08192385733127594, 0.007060757838189602, 0.0016297829570248723, 0.0003636227047536522, 0.004021730739623308, 0.8640413880348206, 0.0], [0.0006554757128469646, 0.00012541910109575838, 0.0066552055068314075, 0.17947998642921448, 0.011306594125926495, 0.00515388697385788, 0.0004975795745849609, 0.7961258888244629, 0.0], [0.00010160201054532081, 0.00014187867054715753, 0.0018059572903439403, 0.005293995141983032, 0.03485701605677605, 0.02605654112994671, 0.001875959918834269, 0.9298670887947083, 0.0], [0.0015660627977922559, 0.0012454676907509565, 0.00013028921966906637, 0.006981222424656153, 0.003410627832636237, 0.2211293876171112, 0.009271944873034954, 0.7562649846076965, 0.0], [0.0056712087243795395, 0.002764858305454254, 0.008417409844696522, 0.0146818608045578, 0.013698546215891838, 0.04496892914175987, 0.06518230587244034, 0.8446149230003357, 0.0], [0.0070409029722213745, 0.004649203736335039, 0.009636708535254002, 0.012927915900945663, 0.008870364166796207, 0.030554378405213356, 0.04760519787669182, 0.8787152767181396, 0.0]], [[0.06509312987327576, 0.06019321456551552, 0.009480948559939861, 0.026884011924266815, 0.0013464355142787099, 0.0010456531308591366, 0.0028038397431373596, 0.8331527709960938, 0.0], [0.02859249897301197, 0.05215967446565628, 0.010487611405551434, 0.06955858319997787, 0.0024318413343280554, 0.0005536220269277692, 0.0009782308479771018, 0.835237979888916, 0.0], [0.012216695584356785, 0.027969175949692726, 0.010819722898304462, 0.0196799635887146, 0.023536531254649162, 0.009545299224555492, 0.01422093529254198, 0.8820116519927979, 0.0], [0.0007940912619233131, 0.0006108967354521155, 0.004414909984916449, 0.003226382425054908, 0.010263347998261452, 0.021717961877584457, 0.0025175255723297596, 0.9564549326896667, 0.0], [0.0015485266922041774, 0.0013904267689213157, 0.00028536372701637447, 0.005343555938452482, 0.0021029675845056772, 0.006738757248967886, 0.004607924725860357, 0.9779825210571289, 0.0], [0.002378517761826515, 0.00504764961078763, 0.0038484211545437574, 0.015526828356087208, 0.015061180107295513, 0.018471622839570045, 0.048411499708890915, 0.8912542462348938, 0.0], [0.001300250762142241, 0.0018375160871073604, 0.001544963102787733, 0.005189820192754269, 0.012400307692587376, 0.02891548164188862, 0.011434439569711685, 0.9373772740364075, 0.0], [0.0036847174633294344, 0.002450298983603716, 0.0062318225391209126, 0.008085982874035835, 0.005066522862762213, 0.006958209443837404, 0.0027053363155573606, 0.9648171067237854, 0.0], [0.004418626427650452, 0.0032713685650378466, 0.0075899758376181126, 0.010035818442702293, 0.005554250441491604, 0.006776594091206789, 0.0023449319414794445, 0.9600083827972412, 0.0]], [[0.00343615235760808, 0.0051777558401227, 0.0005404426483437419, 0.06580158323049545, 0.03229774162173271, 0.0013589863665401936, 0.001093282364308834, 0.890294075012207, 0.0], [0.0007285464089363813, 0.0010815041605383158, 0.0009504170739091933, 0.016694916412234306, 0.020682143047451973, 0.008577332831919193, 0.001048276200890541, 0.9502367973327637, 0.0], [0.001729155657812953, 0.0012739310041069984, 0.0012804717989638448, 0.000732345855794847, 0.04775579273700714, 0.05903501436114311, 0.003419737098738551, 0.8847735524177551, 0.0], [0.031328022480010986, 0.04058593884110451, 0.002538812579587102, 0.003938521258533001, 0.0074404822662472725, 0.0114755155518651, 0.009905380196869373, 0.8927872776985168, 0.0], [0.011218074709177017, 0.0225171260535717, 0.0002909168542828411, 0.004281139932572842, 0.005017885006964207, 0.0007417537271976471, 0.0010144863044843078, 0.9549186825752258, 0.0], [0.012604541145265102, 0.03177815303206444, 0.0017510739853605628, 0.000753947882913053, 0.007344392128288746, 0.0018189805559813976, 0.0019146844279021025, 0.9420341849327087, 0.0], [0.0021431127097457647, 0.0028055787552148104, 0.0009266833076253533, 0.02830316312611103, 0.005942909047007561, 0.0020154283847659826, 0.0005342260701581836, 0.9573289155960083, 0.0], [0.0037039942108094692, 0.005884487181901932, 0.008368286304175854, 0.021228298544883728, 0.013923347927629948, 0.014061921276152134, 0.006026191636919975, 0.9268035292625427, 0.0], [0.003949429374188185, 0.005683190654963255, 0.00795795675367117, 0.020207766443490982, 0.018058834597468376, 0.016428006812930107, 0.0063838837668299675, 0.9213308691978455, 0.0]], [[0.007519492879509926, 0.08331199735403061, 0.006662619300186634, 0.006457943469285965, 0.007917233742773533, 0.004677614662796259, 0.006381905172020197, 0.8770712018013, 0.0], [0.0010309092467650771, 0.008859090507030487, 0.028174208477139473, 0.00904688611626625, 0.0049282098188996315, 0.0007266951142810285, 0.00406460277736187, 0.9431694149971008, 0.0], [0.0021086654160171747, 0.0016119902720674872, 0.02024422213435173, 0.05626950412988663, 0.0030523408204317093, 0.00079410953912884, 0.0007045226520858705, 0.9152147173881531, 0.0], [0.00021625046792905778, 0.0003451817319728434, 0.002298622392117977, 0.005786420777440071, 0.19486930966377258, 0.005784034263342619, 0.0035631023347377777, 0.7871370911598206, 0.0], [0.0002150351501768455, 0.00046698874211870134, 0.0009082158212549984, 0.0018247388070449233, 0.005354718770831823, 0.17543689906597137, 0.007212856784462929, 0.8085805177688599, 0.0], [0.002539344597607851, 0.0016185118583962321, 0.0012785028666257858, 0.009004445746541023, 0.0021028181072324514, 0.006245102267712355, 0.026751495897769928, 0.9504597783088684, 0.0], [0.0012489616638049483, 0.005776220001280308, 0.00448970403522253, 0.004833718296140432, 0.010355648584663868, 0.005979584995657206, 0.013243983499705791, 0.9540721774101257, 0.0], [0.00857686810195446, 0.003742012195289135, 0.005377760622650385, 0.012935762293636799, 0.010022050701081753, 0.004796384833753109, 0.0035043915268033743, 0.9510447978973389, 0.0], [0.006950353737920523, 0.003832590999081731, 0.006566761527210474, 0.016343187540769577, 0.009746733121573925, 0.003522707847878337, 0.0023253299295902252, 0.950712263584137, 0.0]], [[0.126543790102005, 0.1697969138622284, 0.0033686826936900616, 0.023475736379623413, 0.1679784059524536, 0.004218542482703924, 0.005069556180387735, 0.49954837560653687, 0.0], [0.029719365760684013, 0.020311087369918823, 0.0016461856430396438, 0.01950007490813732, 0.07506401836872101, 0.0011375928297638893, 0.0005185780464671552, 0.852103054523468, 0.0], [0.008028320968151093, 0.009123335592448711, 0.014041997492313385, 0.004439333453774452, 0.005790808238089085, 0.005036496091634035, 0.001657456741668284, 0.9518822431564331, 0.0], [0.0016596843488514423, 0.003024082398042083, 0.059276968240737915, 0.012789997272193432, 0.0027610354591161013, 0.00774538004770875, 0.00566905690357089, 0.9070738554000854, 0.0], [0.00031069331453181803, 0.0020537932869046926, 0.0049101002514362335, 0.01248200237751007, 0.01542567741125822, 0.005769170355051756, 0.00023193194647319615, 0.958816647529602, 0.0], [0.002068121684715152, 0.0017032838659361005, 0.011424009688198566, 0.007665219716727734, 0.008526166900992393, 0.027828963473439217, 0.0019396484130993485, 0.9388445615768433, 0.0], [0.0003431728109717369, 0.00025021651526913047, 0.00272521935403347, 0.05062912032008171, 0.007109027821570635, 0.02729271724820137, 0.0011702157789841294, 0.910480260848999, 0.0], [0.001491520437411964, 0.002468493999913335, 0.009233968332409859, 0.020811311900615692, 0.0066303228959441185, 0.029124774038791656, 0.009709961712360382, 0.9205296635627747, 0.0], [0.001787894987501204, 0.0029642856679856777, 0.010441496968269348, 0.020024051889777184, 0.0069936830550432205, 0.026264719665050507, 0.007994848303496838, 0.9235290288925171, 0.0]]]], \"left_text\": [\"V\", \"V\", \"T\", \"G\", \"V\", \"T\", \"A\", \"<eos>\", \"<pad>\"], \"right_text\": [\"V\", \"V\", \"T\", \"G\", \"V\", \"T\", \"A\", \"<eos>\", \"<pad>\"]}, {\"name\": \"Decoder\", \"attn\": [[[[1.0, 0.0, 0.0, 0.0, 0.0, 0.0, 0.0, 0.0], [1.0, 2.2462814383126818e-42, 0.0, 0.0, 0.0, 0.0, 0.0, 0.0], [0.0, 0.0, 1.0, 0.0, 0.0, 0.0, 0.0, 0.0], [0.0, 0.0, 1.0, 0.0, 0.0, 0.0, 0.0, 0.0], [0.0, 0.0, 0.0, 0.0, 1.0, 0.0, 0.0, 0.0], [0.0, 0.0, 0.0, 0.0, 1.0, 0.0, 0.0, 0.0], [0.0, 0.0, 0.0, 0.0, 1.0, 0.0, 0.0, 0.0], [0.0, 0.0, 0.0, 0.0, 1.0, 0.0, 0.0, 0.0]], [[1.0, 0.0, 0.0, 0.0, 0.0, 0.0, 0.0, 0.0], [1.0, 0.0, 0.0, 0.0, 0.0, 0.0, 0.0, 0.0], [0.0, 1.0, 0.0, 0.0, 0.0, 0.0, 0.0, 0.0], [0.0, 0.0, 1.0, 7.006492321624085e-45, 0.0, 0.0, 0.0, 0.0], [0.0, 0.0, 0.0, 1.0, 0.0, 0.0, 0.0, 0.0], [0.0, 0.0, 0.0, 0.0, 1.0, 0.0, 0.0, 0.0], [0.0, 0.0, 0.0, 0.0, 0.0, 1.0, 0.0, 0.0], [0.0, 0.0, 0.0, 0.0, 0.0, 0.0, 1.0, 0.0]], [[1.0, 0.0, 0.0, 0.0, 0.0, 0.0, 0.0, 0.0], [0.9604994058609009, 0.03950056806206703, 0.0, 0.0, 0.0, 0.0, 0.0, 0.0], [0.15826883912086487, 0.7833244800567627, 0.058406706899404526, 0.0, 0.0, 0.0, 0.0, 0.0], [0.004990891553461552, 0.049267444759607315, 0.9191138744354248, 0.02662784233689308, 0.0, 0.0, 0.0, 0.0], [0.10620158165693283, 0.0010528028942644596, 0.15822336077690125, 0.6623520851135254, 0.072170190513134, 0.0, 0.0, 0.0], [0.008155569434165955, 1.4128637303656433e-05, 0.0010198968229815364, 0.006146405357867479, 0.9383843541145325, 0.0462796688079834, 0.0, 0.0], [0.0036612616386264563, 2.2398134547074733e-07, 2.0931574908900075e-06, 0.00013224930444266647, 0.053884055465459824, 0.8241540193557739, 0.11816609650850296, 0.0], [0.002093835501000285, 2.9908983378845733e-07, 1.3233584184035863e-07, 8.666791018185904e-07, 0.0004974829498678446, 0.07285219430923462, 0.5710710883140564, 0.35348406434059143]], [[1.0, 0.0, 0.0, 0.0, 0.0, 0.0, 0.0, 0.0], [1.0, 0.0, 0.0, 0.0, 0.0, 0.0, 0.0, 0.0], [0.0, 0.0, 1.0, 0.0, 0.0, 0.0, 0.0, 0.0], [0.0, 0.0, 0.0, 1.0, 0.0, 0.0, 0.0, 0.0], [0.0, 0.0, 0.0, 0.0, 1.0, 0.0, 0.0, 0.0], [0.0, 0.0, 0.0, 0.0, 0.0, 1.0, 0.0, 0.0], [0.0, 0.0, 0.0, 0.0, 0.0, 0.0, 1.0, 0.0], [0.0, 0.0, 0.0, 0.0, 0.0, 0.0, 0.0, 1.0]], [[1.0, 0.0, 0.0, 0.0, 0.0, 0.0, 0.0, 0.0], [0.9998286962509155, 0.0001712262019282207, 0.0, 0.0, 0.0, 0.0, 0.0, 0.0], [0.9855778813362122, 0.014412393793463707, 9.727348697197158e-06, 0.0, 0.0, 0.0, 0.0, 0.0], [0.10405576229095459, 0.814724326133728, 0.08102811872959137, 0.00019186186545994133, 0.0, 0.0, 0.0, 0.0], [1.1660910786304157e-05, 0.0032161776907742023, 0.970367968082428, 0.026402030140161514, 2.140332753697294e-06, 0.0, 0.0, 0.0], [4.845381873508359e-10, 1.4766113736186526e-06, 0.11957218497991562, 0.873715341091156, 0.006710948888212442, 9.93500819390647e-08, 0.0, 0.0], [1.013220149761104e-16, 9.627372243327641e-15, 2.3957289485565525e-08, 0.016413651406764984, 0.9627257585525513, 0.02086051180958748, 2.848055302706598e-08, 0.0], [6.55528929245479e-27, 1.6614182961862208e-27, 3.978014155550512e-21, 1.0312091458519745e-11, 0.0004093918832950294, 0.9985122084617615, 0.001078433240763843, 1.5062766312023967e-10]], [[1.0, 0.0, 0.0, 0.0, 0.0, 0.0, 0.0, 0.0], [1.0, 1.9950288877523003e-30, 0.0, 0.0, 0.0, 0.0, 0.0, 0.0], [2.2884465091042155e-40, 1.0, 1.4058152141285238e-24, 0.0, 0.0, 0.0, 0.0, 0.0], [0.0, 1.0594239287688645e-20, 1.0, 9.654913519607615e-16, 0.0, 0.0, 0.0, 0.0], [0.0, 0.0, 1.002703162366786e-25, 1.0, 3.171031007500235e-22, 0.0, 0.0, 0.0], [0.0, 0.0, 0.0, 1.9120458279613686e-31, 1.0, 2.215749481358902e-20, 0.0, 0.0], [0.0, 0.0, 0.0, 0.0, 1.2122266180628434e-23, 1.0, 2.744920539092971e-19, 0.0], [0.0, 0.0, 0.0, 0.0, 0.0, 3.552975297221039e-35, 1.0, 1.8241662959680464e-24]], [[1.0, 0.0, 0.0, 0.0, 0.0, 0.0, 0.0, 0.0], [1.0, 0.0, 0.0, 0.0, 0.0, 0.0, 0.0, 0.0], [0.0, 2.4802982818549262e-43, 1.0, 0.0, 0.0, 0.0, 0.0, 0.0], [0.0, 0.0, 0.0, 1.0, 0.0, 0.0, 0.0, 0.0], [0.0, 0.0, 0.0, 1.0, 0.0, 0.0, 0.0, 0.0], [0.0, 0.0, 0.0, 0.0, 0.0, 1.0, 0.0, 0.0], [0.0, 0.0, 0.0, 0.0, 0.0, 1.0, 3.4490511594233952e-28, 0.0], [0.0, 0.0, 0.0, 0.0, 0.0, 9.80908925027372e-45, 3.9889525051862964e-32, 1.0]], [[1.0, 0.0, 0.0, 0.0, 0.0, 0.0, 0.0, 0.0], [0.2028065323829651, 0.7971934676170349, 0.0, 0.0, 0.0, 0.0, 0.0, 0.0], [0.2814235985279083, 0.05577857047319412, 0.6627978086471558, 0.0, 0.0, 0.0, 0.0, 0.0], [0.5499498844146729, 0.026557868346571922, 0.08013440668582916, 0.3433578312397003, 0.0, 0.0, 0.0, 0.0], [0.5694552063941956, 0.03582997992634773, 0.060328949242830276, 0.1254757046699524, 0.20891010761260986, 0.0, 0.0, 0.0], [0.4835054576396942, 0.019172141328454018, 0.02661634050309658, 0.09143004566431046, 0.048294827342033386, 0.33098116517066956, 0.0, 0.0], [0.6134853363037109, 0.02031875215470791, 0.03878426551818848, 0.06545094400644302, 0.02753698080778122, 0.07199880480766296, 0.16242501139640808, 0.0], [0.5696744918823242, 0.026591813191771507, 0.041568197309970856, 0.06311319768428802, 0.018376220017671585, 0.024167586117982864, 0.047934241592884064, 0.20857416093349457]]], [[[1.0, 0.0, 0.0, 0.0, 0.0, 0.0, 0.0, 0.0], [0.9835157990455627, 0.016484137624502182, 0.0, 0.0, 0.0, 0.0, 0.0, 0.0], [0.6248724460601807, 0.37463727593421936, 0.0004903210792690516, 0.0, 0.0, 0.0, 0.0, 0.0], [0.835975706577301, 0.08098147064447403, 0.021057775244116783, 0.06198509782552719, 0.0, 0.0, 0.0, 0.0], [0.63725745677948, 0.003862598678097129, 0.009206331335008144, 0.3321358561515808, 0.01753764972090721, 0.0, 0.0, 0.0], [0.7340127825737, 0.004434346687048674, 0.004976390395313501, 0.11256151646375656, 0.1067681610584259, 0.03724677488207817, 0.0, 0.0], [0.9591043591499329, 0.0006208375561982393, 7.69426696933806e-05, 0.007632562890648842, 0.015247673727571964, 0.012237573973834515, 0.005080030765384436, 0.0], [0.9304541349411011, 0.001204383559525013, 0.0005118126864545047, 0.003518051467835903, 0.014945246279239655, 0.009376506321132183, 0.027560176327824593, 0.012429763562977314]], [[1.0, 0.0, 0.0, 0.0, 0.0, 0.0, 0.0, 0.0], [0.9919192790985107, 0.008080647327005863, 0.0, 0.0, 0.0, 0.0, 0.0, 0.0], [0.8751956820487976, 0.12005322426557541, 0.004751069005578756, 0.0, 0.0, 0.0, 0.0, 0.0], [0.8383838534355164, 0.03157752752304077, 0.10746558755636215, 0.022573059424757957, 0.0, 0.0, 0.0, 0.0], [0.7866697311401367, 0.0050446875393390656, 0.052824102342128754, 0.11151103675365448, 0.04395030438899994, 0.0, 0.0, 0.0], [0.8313796520233154, 0.013597648590803146, 0.0077538639307022095, 0.00805717334151268, 0.11808589100837708, 0.021125776693224907, 0.0, 0.0], [0.651357889175415, 0.006351839285343885, 0.0025083001237362623, 0.010213666595518589, 0.05914557725191116, 0.2555241286754608, 0.014898554421961308, 0.0], [0.7769012451171875, 0.005525579210370779, 0.005922520533204079, 0.016565460711717606, 0.03366309031844139, 0.08678170293569565, 0.06272315979003906, 0.011917205527424812]], [[1.0, 0.0, 0.0, 0.0, 0.0, 0.0, 0.0, 0.0], [0.9993165731430054, 0.0006834241794422269, 0.0, 0.0, 0.0, 0.0, 0.0, 0.0], [0.985736072063446, 0.008865589275956154, 0.005398331210017204, 0.0, 0.0, 0.0, 0.0, 0.0], [0.9041123986244202, 0.055680934339761734, 0.019112324342131615, 0.02109440229833126, 0.0, 0.0, 0.0, 0.0], [0.9037834405899048, 0.005988525226712227, 0.0035358406603336334, 0.048701588064432144, 0.037990693002939224, 0.0, 0.0, 0.0], [0.8921692371368408, 0.00915574561804533, 0.009582126513123512, 0.016322240233421326, 0.06740406155586243, 0.005366475787013769, 0.0, 0.0], [0.8127565383911133, 0.0033064871095120907, 0.0007078932248987257, 0.01462104544043541, 0.13667888939380646, 0.014000054448843002, 0.017929179593920708, 0.0], [0.6837623119354248, 0.0052499920129776, 0.0024010464549064636, 0.015739504247903824, 0.09951682388782501, 0.04179937392473221, 0.12432830780744553, 0.027202581986784935]], [[1.0, 0.0, 0.0, 0.0, 0.0, 0.0, 0.0, 0.0], [0.997238039970398, 0.0027618990279734135, 0.0, 0.0, 0.0, 0.0, 0.0, 0.0], [0.9948511719703674, 0.004092360381036997, 0.001056463923305273, 0.0, 0.0, 0.0, 0.0, 0.0], [0.9303910732269287, 0.032370809465646744, 0.006715001072734594, 0.030523153021931648, 0.0, 0.0, 0.0, 0.0], [0.9417009353637695, 0.008236220106482506, 0.02088608406484127, 0.02381398156285286, 0.005362780299037695, 0.0, 0.0, 0.0], [0.8228136301040649, 0.006595874670892954, 0.04863822087645531, 0.08983847498893738, 0.01566792093217373, 0.016445893794298172, 0.0, 0.0], [0.6016473174095154, 0.0038954445626586676, 0.009892676025629044, 0.061743758618831635, 0.16538619995117188, 0.09689782559871674, 0.060536690056324005, 0.0], [0.661734938621521, 0.008073298260569572, 0.004589394200593233, 0.0264827162027359, 0.08481968194246292, 0.08180911093950272, 0.11746474355459213, 0.01502611767500639]], [[1.0, 0.0, 0.0, 0.0, 0.0, 0.0, 0.0, 0.0], [0.9985223412513733, 0.0014776199823245406, 0.0, 0.0, 0.0, 0.0, 0.0, 0.0], [0.9282305836677551, 0.03839770331978798, 0.033371683210134506, 0.0, 0.0, 0.0, 0.0, 0.0], [0.8781004548072815, 0.014928418211638927, 0.07394533604383469, 0.03302580490708351, 0.0, 0.0, 0.0, 0.0], [0.7996442317962646, 0.002429609652608633, 0.015177025459706783, 0.17025530338287354, 0.012493797577917576, 0.0, 0.0, 0.0], [0.8448978662490845, 0.002437099115923047, 0.0026702112518250942, 0.027275988832116127, 0.10192142426967621, 0.020797422155737877, 0.0, 0.0], [0.6943091154098511, 0.0018462804146111012, 0.0019252209458500147, 0.012713749893009663, 0.05549177527427673, 0.20949749648571014, 0.024216340854763985, 0.0], [0.6721048951148987, 0.012598024681210518, 0.0068063014186918736, 0.006627372931689024, 0.015104047954082489, 0.024523135274648666, 0.23960232734680176, 0.022633861750364304]], [[1.0, 0.0, 0.0, 0.0, 0.0, 0.0, 0.0, 0.0], [0.9822449088096619, 0.017755167558789253, 0.0, 0.0, 0.0, 0.0, 0.0, 0.0], [0.962537407875061, 0.035414669662714005, 0.0020479965023696423, 0.0, 0.0, 0.0, 0.0, 0.0], [0.8456704020500183, 0.1425219476222992, 0.009419399313628674, 0.0023882705718278885, 0.0, 0.0, 0.0, 0.0], [0.7525839805603027, 0.0152613939717412, 0.1865280717611313, 0.04406117647886276, 0.0015653105219826102, 0.0, 0.0, 0.0], [0.8302904367446899, 0.03950243443250656, 0.009819011203944683, 0.0734015479683876, 0.02869962528347969, 0.018286826089024544, 0.0, 0.0], [0.5521471500396729, 0.03885932266712189, 0.015133127570152283, 0.0723007395863533, 0.055407337844371796, 0.24885150790214539, 0.017300859093666077, 0.0], [0.594245195388794, 0.03836151584982872, 0.0284742284566164, 0.06048575043678284, 0.1059165894985199, 0.0954168513417244, 0.05858001857995987, 0.018519749864935875]], [[1.0, 0.0, 0.0, 0.0, 0.0, 0.0, 0.0, 0.0], [0.9959285855293274, 0.004071390256285667, 0.0, 0.0, 0.0, 0.0, 0.0, 0.0], [0.9259911775588989, 0.06648262590169907, 0.0075261835008859634, 0.0, 0.0, 0.0, 0.0, 0.0], [0.9241878390312195, 0.06508680433034897, 0.00919693149626255, 0.0015284435357898474, 0.0, 0.0, 0.0, 0.0], [0.8954710364341736, 0.013596347533166409, 0.01172776147723198, 0.03935288265347481, 0.039851874113082886, 0.0, 0.0, 0.0], [0.5960922241210938, 0.004393912851810455, 0.0004624587018042803, 0.0072807129472494125, 0.3835657835006714, 0.008204901590943336, 0.0, 0.0], [0.8721479177474976, 0.004420778714120388, 0.00015437672846019268, 0.002520979382097721, 0.015131200663745403, 0.013748829253017902, 0.09187577664852142, 0.0], [0.8164393901824951, 0.009283866733312607, 0.003082945477217436, 0.001664889045059681, 0.008075356483459473, 0.011410076171159744, 0.10454635322093964, 0.04549715667963028]], [[1.0, 0.0, 0.0, 0.0, 0.0, 0.0, 0.0, 0.0], [0.9964906573295593, 0.003509264439344406, 0.0, 0.0, 0.0, 0.0, 0.0, 0.0], [0.9976932406425476, 0.000822218949906528, 0.0014845345867797732, 0.0, 0.0, 0.0, 0.0, 0.0], [0.7601897716522217, 0.0036041042767465115, 0.20360428094863892, 0.03260185196995735, 0.0, 0.0, 0.0, 0.0], [0.9304896593093872, 0.0019560460932552814, 0.047008711844682693, 0.009202500805258751, 0.011343096382915974, 0.0, 0.0, 0.0], [0.7658867239952087, 0.0007660459377802908, 0.02017192728817463, 0.03785069286823273, 0.17063045501708984, 0.00469424482434988, 0.0, 0.0], [0.9070665836334229, 0.0015993270790204406, 0.005857143085449934, 0.0033800844103097916, 0.0746697261929512, 0.0037897212896496058, 0.0036373690236359835, 0.0], [0.8835440278053284, 0.0035381601192057133, 0.003707403317093849, 0.007637267932295799, 0.04011102393269539, 0.01237526535987854, 0.029700346291065216, 0.01938665471971035]]], [[[1.0, 0.0, 0.0, 0.0, 0.0, 0.0, 0.0, 0.0], [0.9650675058364868, 0.034932538866996765, 0.0, 0.0, 0.0, 0.0, 0.0, 0.0], [0.32045456767082214, 0.6266271471977234, 0.05291832610964775, 0.0, 0.0, 0.0, 0.0, 0.0], [0.43319839239120483, 0.09749564528465271, 0.4257928133010864, 0.04351309686899185, 0.0, 0.0, 0.0, 0.0], [0.07753028720617294, 0.004720001481473446, 0.016670331358909607, 0.8219191431999207, 0.0791601911187172, 0.0, 0.0, 0.0], [0.1459490805864334, 0.005640855990350246, 0.012010900303721428, 0.10811256617307663, 0.5599513649940491, 0.1683352142572403, 0.0, 0.0], [0.2023920714855194, 0.00430191308259964, 0.003495209850370884, 0.06739063560962677, 0.036306221038103104, 0.17955589294433594, 0.5065580010414124, 0.0], [0.006726167164742947, 0.0004810116079170257, 0.002817489905282855, 0.0046844868920743465, 0.019125696271657944, 0.008554796688258648, 0.9165253043174744, 0.04108511656522751]], [[1.0, 0.0, 0.0, 0.0, 0.0, 0.0, 0.0, 0.0], [0.5289773344993591, 0.47102269530296326, 0.0, 0.0, 0.0, 0.0, 0.0, 0.0], [0.7464597821235657, 0.2490696758031845, 0.004470588639378548, 0.0, 0.0, 0.0, 0.0, 0.0], [0.7043574452400208, 0.19772619009017944, 0.05767787620425224, 0.04023844748735428, 0.0, 0.0, 0.0, 0.0], [0.5255283117294312, 0.004391883034259081, 0.041459254920482635, 0.24932461977005005, 0.17929595708847046, 0.0, 0.0, 0.0], [0.4057183861732483, 0.023233557119965553, 0.029514852911233902, 0.2808486819267273, 0.15251342952251434, 0.10817112028598785, 0.0, 0.0], [0.42268383502960205, 0.02122291550040245, 0.0008511939668096602, 0.0344858281314373, 0.45992782711982727, 0.03479108214378357, 0.0260371845215559, 0.0], [0.21683765947818756, 0.07214733958244324, 0.010751530528068542, 0.29852309823036194, 0.01670531928539276, 0.28666335344314575, 0.09330794215202332, 0.005063686054199934]], [[1.0, 0.0, 0.0, 0.0, 0.0, 0.0, 0.0, 0.0], [0.9967122077941895, 0.0032877700868993998, 0.0, 0.0, 0.0, 0.0, 0.0, 0.0], [0.9760320782661438, 0.022095810621976852, 0.0018721396336331964, 0.0, 0.0, 0.0, 0.0, 0.0], [0.7398888468742371, 0.2241615355014801, 0.017440730705857277, 0.018508946523070335, 0.0, 0.0, 0.0, 0.0], [0.2038218080997467, 0.039564479142427444, 0.015391680411994457, 0.7275044322013855, 0.013717502355575562, 0.0, 0.0, 0.0], [0.4058536887168884, 0.01406367588788271, 0.04548051208257675, 0.17558641731739044, 0.008855997584760189, 0.3501596450805664, 0.0, 0.0], [0.21379472315311432, 0.005343906115740538, 0.0003038001887034625, 0.10030674189329147, 0.4053040146827698, 0.25356703996658325, 0.021379688754677773, 0.0], [0.04119807481765747, 0.0016406297218054533, 0.000939690915402025, 0.04647123068571091, 0.01773250102996826, 0.8692200779914856, 0.018295714631676674, 0.004502123221755028]], [[1.0, 0.0, 0.0, 0.0, 0.0, 0.0, 0.0, 0.0], [0.9892058372497559, 0.010794160887598991, 0.0, 0.0, 0.0, 0.0, 0.0, 0.0], [0.4096786677837372, 0.04597989469766617, 0.5443413853645325, 0.0, 0.0, 0.0, 0.0, 0.0], [0.12366165220737457, 0.0003684554249048233, 0.8676294088363647, 0.008340409025549889, 0.0, 0.0, 0.0, 0.0], [0.4526441693305969, 0.0017404267564415932, 0.02965104952454567, 0.4158768355846405, 0.10008753091096878, 0.0, 0.0, 0.0], [0.553806722164154, 0.001632325816899538, 0.005156395491212606, 0.019890479743480682, 0.31745389103889465, 0.10206016153097153, 0.0, 0.0], [0.13654161989688873, 0.00010337667481508106, 0.000758589303586632, 0.0045915208756923676, 0.014994221739470959, 0.8044507503509521, 0.03855995088815689, 0.0], [0.004556747619062662, 0.00018240665667690337, 2.656071046658326e-05, 0.00037056728615425527, 0.003167972434312105, 0.030401218682527542, 0.9247465133666992, 0.036547984927892685]], [[1.0, 0.0, 0.0, 0.0, 0.0, 0.0, 0.0, 0.0], [0.9995651841163635, 0.0004347858775872737, 0.0, 0.0, 0.0, 0.0, 0.0, 0.0], [0.9960477948188782, 0.003275123657658696, 0.0006770440377295017, 0.0, 0.0, 0.0, 0.0, 0.0], [0.8780504465103149, 0.10481435060501099, 0.016688039526343346, 0.00044719409197568893, 0.0, 0.0, 0.0, 0.0], [0.13763286173343658, 0.034754011780023575, 0.5365051031112671, 0.28932055830955505, 0.0017873842734843493, 0.0, 0.0, 0.0], [0.07229142636060715, 0.0006322328699752688, 0.025177234783768654, 0.8981596231460571, 0.0005585674662142992, 0.0031809634529054165, 0.0, 0.0], [0.05337614566087723, 0.006862177513539791, 0.002546201692894101, 0.010149192996323109, 0.6596227884292603, 0.09806142002344131, 0.16938206553459167, 0.0], [0.002054678974673152, 0.0004809811362065375, 0.0006869944627396762, 0.010070707648992538, 0.028019431978464127, 0.087330162525177, 0.8709144592285156, 0.000442581920651719]], [[1.0, 0.0, 0.0, 0.0, 0.0, 0.0, 0.0, 0.0], [0.9555383324623108, 0.044461626559495926, 0.0, 0.0, 0.0, 0.0, 0.0, 0.0], [0.8602166175842285, 0.13514578342437744, 0.00463765999302268, 0.0, 0.0, 0.0, 0.0, 0.0], [0.4900975227355957, 0.032350264489650726, 0.47112202644348145, 0.006430167239159346, 0.0, 0.0, 0.0, 0.0], [0.5899673104286194, 0.08609521389007568, 0.14961004257202148, 0.1146828904747963, 0.05964462086558342, 0.0, 0.0, 0.0], [0.11809013038873672, 0.00147531577385962, 0.0009538035374134779, 0.02769416943192482, 0.841133713722229, 0.010652925819158554, 0.0, 0.0], [0.11936894059181213, 0.0015644460218027234, 0.024873819202184677, 0.01673579029738903, 0.6536397933959961, 0.17322760820388794, 0.010589520446956158, 0.0], [0.18974089622497559, 0.0011325179366394877, 0.03834940493106842, 0.002025134861469269, 0.3022291660308838, 0.3521871566772461, 0.054928623139858246, 0.059407055377960205]], [[1.0, 0.0, 0.0, 0.0, 0.0, 0.0, 0.0, 0.0], [0.9926839470863342, 0.007316099014133215, 0.0, 0.0, 0.0, 0.0, 0.0, 0.0], [0.1444702446460724, 0.6689537167549133, 0.18657605350017548, 0.0, 0.0, 0.0, 0.0, 0.0], [0.07946249097585678, 0.0066713569685816765, 0.9103384613990784, 0.0035277174320071936, 0.0, 0.0, 0.0, 0.0], [0.3410564363002777, 0.00959539134055376, 0.5747078657150269, 0.019128940999507904, 0.05551129952073097, 0.0, 0.0, 0.0], [0.4010857343673706, 0.0016227001324295998, 0.14486323297023773, 0.016862183809280396, 0.39136284589767456, 0.04420330375432968, 0.0, 0.0], [0.4917221665382385, 0.0010664481669664383, 0.06347426027059555, 0.2770378291606903, 0.06575477868318558, 0.05117052420973778, 0.04977401718497276, 0.0], [0.12993498146533966, 0.00030893587972968817, 0.04226433113217354, 0.27490368485450745, 0.2379555106163025, 0.10019581019878387, 0.2062736451625824, 0.008163132704794407]], [[1.0, 0.0, 0.0, 0.0, 0.0, 0.0, 0.0, 0.0], [0.9627530574798584, 0.037246931344270706, 0.0, 0.0, 0.0, 0.0, 0.0, 0.0], [0.8978430032730103, 0.06069708243012428, 0.04145989939570427, 0.0, 0.0, 0.0, 0.0, 0.0], [0.5408993363380432, 0.4024154841899872, 0.04536893963813782, 0.01131622027605772, 0.0, 0.0, 0.0, 0.0], [0.3977753818035126, 0.016754042357206345, 0.044318098574876785, 0.47621211409568787, 0.06494038552045822, 0.0, 0.0, 0.0], [0.23201318085193634, 0.03400856629014015, 0.0024320364464074373, 0.03676972910761833, 0.6599962115287781, 0.03478024899959564, 0.0, 0.0], [0.046825021505355835, 0.00022342981537804008, 0.00896572694182396, 0.30332711338996887, 0.011322462931275368, 0.6160197854042053, 0.013316435739398003, 0.0], [0.0638836920261383, 9.33243427425623e-05, 0.02125164121389389, 0.4368171691894531, 0.042897798120975494, 0.23794396221637726, 0.16323761641979218, 0.03387480974197388]]], [[[1.0, 0.0, 0.0, 0.0, 0.0, 0.0, 0.0, 0.0], [0.1418083906173706, 0.8581916689872742, 0.0, 0.0, 0.0, 0.0, 0.0, 0.0], [0.4960503876209259, 0.1825355738401413, 0.321414053440094, 0.0, 0.0, 0.0, 0.0, 0.0], [0.15439119935035706, 0.0610220767557621, 0.1207740381360054, 0.6638126969337463, 0.0, 0.0, 0.0, 0.0], [0.24235820770263672, 0.27067404985427856, 0.0010218595853075385, 0.43885931372642517, 0.04708661511540413, 0.0, 0.0, 0.0], [0.010938353836536407, 0.023302795365452766, 0.008397779427468777, 0.8907273411750793, 0.0055325450375676155, 0.06110116094350815, 0.0, 0.0], [0.05066341161727905, 0.03978918492794037, 0.0014681199099868536, 0.3738301396369934, 0.1447388380765915, 0.3757930099964142, 0.01371734868735075, 0.0], [0.713167130947113, 0.06646011024713516, 0.026335911825299263, 0.021425874903798103, 0.02155951038002968, 0.003780514234676957, 0.015135656110942364, 0.13213534653186798]], [[1.0, 0.0, 0.0, 0.0, 0.0, 0.0, 0.0, 0.0], [0.9982870221138, 0.0017129307379946113, 0.0, 0.0, 0.0, 0.0, 0.0, 0.0], [0.8773615956306458, 0.0136038176715374, 0.10903459787368774, 0.0, 0.0, 0.0, 0.0, 0.0], [0.8040584325790405, 0.02501475065946579, 0.04193485528230667, 0.1289920210838318, 0.0, 0.0, 0.0, 0.0], [0.17677493393421173, 0.21526651084423065, 0.17159968614578247, 0.04754938557744026, 0.38880956172943115, 0.0, 0.0, 0.0], [0.00761379161849618, 0.0002375207404838875, 0.0006029067444615066, 0.010562192648649216, 0.9808820486068726, 0.00010162894614040852, 0.0, 0.0], [0.021762019023299217, 3.0321150916279294e-05, 0.002910923445597291, 0.2421654313802719, 0.7284016609191895, 0.0027098667342215776, 0.002019783714786172, 0.0], [0.2007034420967102, 0.0006123353959992528, 0.07141394913196564, 0.009563744068145752, 0.20054037868976593, 0.04073581472039223, 0.4241841435432434, 0.052246108651161194]], [[1.0, 0.0, 0.0, 0.0, 0.0, 0.0, 0.0, 0.0], [0.8589006662368774, 0.14109936356544495, 0.0, 0.0, 0.0, 0.0, 0.0, 0.0], [0.9658491015434265, 0.02259928174316883, 0.011551544070243835, 0.0, 0.0, 0.0, 0.0, 0.0], [0.4867764115333557, 0.03498125821352005, 0.1287531852722168, 0.3494892418384552, 0.0, 0.0, 0.0, 0.0], [0.527608335018158, 0.3700530529022217, 0.00961549673229456, 0.09047868847846985, 0.002244366565719247, 0.0, 0.0, 0.0], [0.38305971026420593, 0.08835494518280029, 0.0057602827437222, 0.4481482207775116, 0.06901635974645615, 0.005660506896674633, 0.0, 0.0], [0.7413314580917358, 0.18607157468795776, 0.0075849988497793674, 0.007063118740916252, 0.017574816942214966, 0.039076562970876694, 0.0012974459677934647, 0.0], [0.45873400568962097, 0.03506713733077049, 0.07638300955295563, 0.028580207377672195, 0.2387140393257141, 0.01068525854498148, 0.011637846007943153, 0.14019843935966492]], [[1.0, 0.0, 0.0, 0.0, 0.0, 0.0, 0.0, 0.0], [0.9741687178611755, 0.0258311964571476, 0.0, 0.0, 0.0, 0.0, 0.0, 0.0], [0.5111456513404846, 0.4882705807685852, 0.000583832326810807, 0.0, 0.0, 0.0, 0.0, 0.0], [0.5221339464187622, 0.2908651530742645, 0.007243745494633913, 0.17975713312625885, 0.0, 0.0, 0.0, 0.0], [0.01290510781109333, 0.0023578600957989693, 0.004490371327847242, 0.9779320359230042, 0.002314717508852482, 0.0, 0.0, 0.0], [0.7471922636032104, 0.004571669269353151, 0.030687622725963593, 0.06688130646944046, 0.0615725964307785, 0.08909454941749573, 0.0, 0.0], [0.10358532518148422, 0.008116290904581547, 0.003415851853787899, 0.4050486981868744, 0.005832667462527752, 0.31562021374702454, 0.15838104486465454, 0.0], [0.20751136541366577, 0.0007009607506915927, 0.01135397981852293, 0.003052394138649106, 0.14912965893745422, 0.051783669739961624, 0.5646157264709473, 0.01185227558016777]], [[1.0, 0.0, 0.0, 0.0, 0.0, 0.0, 0.0, 0.0], [0.8428134322166443, 0.15718652307987213, 0.0, 0.0, 0.0, 0.0, 0.0, 0.0], [0.3958456516265869, 0.585610568523407, 0.01854374259710312, 0.0, 0.0, 0.0, 0.0, 0.0], [0.06973189860582352, 0.06855475902557373, 0.8593201637268066, 0.002393146511167288, 0.0, 0.0, 0.0, 0.0], [0.5742790102958679, 0.017476044595241547, 0.04250100627541542, 0.30771178007125854, 0.05803212895989418, 0.0, 0.0, 0.0], [0.08082393556833267, 0.02839798666536808, 0.020000047981739044, 0.00971856340765953, 0.3057232201099396, 0.5553362965583801, 0.0, 0.0], [0.21569770574569702, 0.010773872956633568, 0.0845598578453064, 0.06885530054569244, 0.5400466322898865, 0.031018421053886414, 0.04904813691973686, 0.0], [0.48615509271621704, 0.0075877816416323185, 0.010700788348913193, 0.013270602561533451, 0.3558867275714874, 0.05376071855425835, 0.009034501388669014, 0.06360384821891785]], [[1.0, 0.0, 0.0, 0.0, 0.0, 0.0, 0.0, 0.0], [0.9790105819702148, 0.020989377051591873, 0.0, 0.0, 0.0, 0.0, 0.0, 0.0], [0.9376208782196045, 0.053077150136232376, 0.009301995858550072, 0.0, 0.0, 0.0, 0.0, 0.0], [0.159297376871109, 0.7920405864715576, 0.04263583943247795, 0.006026210263371468, 0.0, 0.0, 0.0, 0.0], [0.420055091381073, 0.020701607689261436, 0.0024442365393042564, 0.43181559443473816, 0.12498347461223602, 0.0, 0.0, 0.0], [0.21185874938964844, 0.00693309074267745, 0.008190872147679329, 0.026740627363324165, 0.003222094848752022, 0.7430545687675476, 0.0, 0.0], [0.5716597437858582, 0.004582419525831938, 0.06149764358997345, 0.01913621835410595, 0.04175595939159393, 0.20435994863510132, 0.09700817614793777, 0.0], [0.2891212999820709, 0.12161286175251007, 0.0029753735288977623, 0.04787307605147362, 0.10215037316083908, 0.0321175791323185, 0.4007871448993683, 0.0033623017370700836]], [[1.0, 0.0, 0.0, 0.0, 0.0, 0.0, 0.0, 0.0], [0.9928128123283386, 0.007187194190919399, 0.0, 0.0, 0.0, 0.0, 0.0, 0.0], [0.8885430693626404, 0.09945801645517349, 0.011998877860605717, 0.0, 0.0, 0.0, 0.0, 0.0], [0.8096309304237366, 0.028467940166592598, 0.15427052974700928, 0.007630603387951851, 0.0, 0.0, 0.0, 0.0], [0.28627809882164, 0.003135479986667633, 0.17130117118358612, 0.4989073872566223, 0.04037778079509735, 0.0, 0.0, 0.0], [0.11719753593206406, 0.007359722629189491, 0.219379261136055, 0.028252461925148964, 0.029489096254110336, 0.5983218550682068, 0.0, 0.0], [0.04813206195831299, 0.003994723781943321, 0.08034256845712662, 0.007253062911331654, 0.008240423165261745, 0.43627333641052246, 0.41576382517814636, 0.0], [0.06253636628389359, 0.00020330944971647114, 0.0060523985885083675, 0.00014072065823711455, 0.049281615763902664, 0.20197263360023499, 0.003321882337331772, 0.6764910221099854]], [[1.0, 0.0, 0.0, 0.0, 0.0, 0.0, 0.0, 0.0], [0.9790372848510742, 0.020962703973054886, 0.0, 0.0, 0.0, 0.0, 0.0, 0.0], [0.9461640119552612, 0.04374922066926956, 0.010086704045534134, 0.0, 0.0, 0.0, 0.0, 0.0], [0.24197344481945038, 0.002285253955051303, 0.13920846581459045, 0.6165328025817871, 0.0, 0.0, 0.0, 0.0], [0.2397938072681427, 0.015667734667658806, 0.3203606903553009, 0.38068556785583496, 0.04349224269390106, 0.0, 0.0, 0.0], [0.625575065612793, 0.023692313581705093, 0.20243224501609802, 0.06754431128501892, 0.0653720274567604, 0.015384005382657051, 0.0, 0.0], [0.19343283772468567, 0.041337382048368454, 0.015009284019470215, 0.23340950906276703, 0.05165985971689224, 0.3663201630115509, 0.098830945789814, 0.0], [0.022369101643562317, 0.00018198788166046143, 0.0031656224746257067, 0.004356302786618471, 0.013299309648573399, 0.9518834352493286, 0.004087431821972132, 0.0006568176322616637]]]], \"left_text\": [\"E\", \"F\", \"L\", \"C\", \"L\", \"A\", \"A\", \"<eos>\"], \"right_text\": [\"E\", \"F\", \"L\", \"C\", \"L\", \"A\", \"A\", \"<eos>\"]}, {\"name\": \"Cross\", \"attn\": [[[[0.9846152663230896, 0.014208759181201458, 0.00039051941712386906, 6.731546454830095e-05, 7.801060746714938e-06, 0.00010183086851611733, 0.00032401896896772087, 0.00028440155438147485, 0.0], [0.013627043925225735, 0.9468741416931152, 0.037669386714696884, 0.00016524913371540606, 3.1827310067455983e-06, 6.055137419025414e-06, 0.00022676255321130157, 0.001428109360858798, 0.0], [3.935773565899581e-05, 0.002822414506226778, 0.9937591552734375, 0.0031293779611587524, 2.776254461878125e-07, 8.1453332967385e-09, 3.4883036903465836e-08, 0.0002494833606760949, 0.0], [0.000629791000392288, 0.0006863911403343081, 0.16506215929985046, 0.791562020778656, 0.039722416549921036, 1.868914637270791e-06, 1.4772561840459275e-08, 0.0023352992720901966, 0.0], [3.203487040082109e-07, 1.1819503242804785e-07, 2.7278038032818586e-06, 0.009567820467054844, 0.9670725464820862, 0.02316748909652233, 3.2988219800245133e-07, 0.0001886581303551793, 0.0], [4.127817192056682e-06, 9.03630052562221e-07, 1.1270787858563835e-08, 2.7200821151041055e-08, 0.000634524505585432, 0.9989176988601685, 0.0003443732566665858, 9.841663995757699e-05, 0.0], [6.0683360061375424e-06, 2.3310090000450145e-06, 3.2572300412425648e-09, 4.7863751156951295e-11, 5.392329360809356e-10, 0.0008129885536618531, 0.9812927842140198, 0.017885733395814896, 0.0], [6.631221913266927e-05, 0.0001221111451741308, 1.1241260011729537e-07, 2.2143205238162045e-12, 2.2754570275262172e-15, 6.245676892335794e-11, 0.027835356071591377, 0.9719761610031128, 0.0]], [[0.00022094775340519845, 0.00011922261182917282, 0.00020185687753837556, 0.9947980642318726, 0.0009928346844390035, 1.2194546798127703e-05, 0.0007573417387902737, 0.002897437196224928, 0.0], [0.1431579291820526, 0.0982641875743866, 0.011479102075099945, 0.6678304076194763, 0.022159654647111893, 0.00011778785847127438, 0.008121838793158531, 0.048869092017412186, 0.0], [0.23973293602466583, 0.2894355058670044, 0.011322417296469212, 0.3032149076461792, 0.024000946432352066, 0.0002366574335610494, 0.03271779417991638, 0.09933880716562271, 0.0], [0.0011480612447485328, 0.004708875436335802, 0.0039835418574512005, 0.9185212850570679, 0.0030539364088326693, 7.427976379403844e-05, 0.008484330028295517, 0.06002571061253548, 0.0], [0.0011448799632489681, 0.0023353612050414085, 0.002279455540701747, 0.8413272500038147, 0.034519538283348083, 0.0007788458024151623, 0.04245603084564209, 0.07515861093997955, 0.0], [0.00012273371976334602, 0.00018142569751944393, 0.006085734348744154, 0.5848883390426636, 0.052825912833213806, 0.00722177978605032, 0.21575678884983063, 0.1329173594713211, 0.0], [0.00016535463510081172, 5.2363215218065307e-05, 0.0005394311156123877, 0.10334286093711853, 0.017338985577225685, 0.008985179476439953, 0.7490835189819336, 0.12049233913421631, 0.0], [6.847457552794367e-05, 3.8243862945819274e-05, 0.00010616266081342474, 0.026844821870326996, 0.002428914187476039, 0.0008641283493489027, 0.9049254059791565, 0.06472384184598923, 0.0]], [[0.017653917893767357, 0.008433224633336067, 0.003324887715280056, 0.23600827157497406, 0.009452606551349163, 0.003512623952701688, 0.001301956595852971, 0.7203124761581421, 0.0], [0.7846659421920776, 0.03874431550502777, 0.0010085109388455749, 0.05400782451033592, 0.009478996507823467, 0.0022269354667514563, 0.007759825326502323, 0.10210761427879333, 0.0], [0.44903433322906494, 0.42572832107543945, 0.028145311400294304, 0.003927017096430063, 0.0007774433470331132, 0.0023587720934301615, 0.028889333829283714, 0.06113949045538902, 0.0], [0.04657448083162308, 0.358346551656723, 0.1823177933692932, 0.30123764276504517, 0.0008583604940213263, 0.00028389031649567187, 0.004804966039955616, 0.10557636618614197, 0.0], [0.0011217152932658792, 0.01078470516949892, 0.1534995585680008, 0.7726646065711975, 0.006528148427605629, 0.0013515850296244025, 0.0006857310072518885, 0.05336398631334305, 0.0], [0.0006902528111822903, 0.001020788331516087, 0.013633324764668941, 0.8501408696174622, 0.09277810156345367, 0.0030128152575343847, 0.0008244473137892783, 0.03789932280778885, 0.0], [0.0005725719383917749, 0.00012495217379182577, 0.0011992909712716937, 0.13107013702392578, 0.5750265121459961, 0.2545827329158783, 0.010159873403608799, 0.027263907715678215, 0.0], [0.00040477555012330413, 4.896063546766527e-05, 4.518209971138276e-05, 0.003998999949544668, 0.05214061588048935, 0.8077628016471863, 0.12309308350086212, 0.012505530379712582, 0.0]], [[0.014235840179026127, 0.10432800650596619, 0.6368729472160339, 0.16852252185344696, 0.010311060585081577, 0.02587220072746277, 0.0010817261645570397, 0.038775764405727386, 0.0], [0.0008206768543459475, 0.0014328407123684883, 0.07015234977006912, 0.8570513725280762, 0.0364132896065712, 0.0037875401321798563, 5.530362977879122e-05, 0.0302866343408823, 0.0], [0.001896967296488583, 0.0012875116663053632, 0.00203547696582973, 0.06479198485612869, 0.7119176387786865, 0.1400127410888672, 0.0009578304016031325, 0.07709992676973343, 0.0], [0.04299371317028999, 0.03730744868516922, 0.0037242963444441557, 0.0032605817541480064, 0.16219188272953033, 0.4610063433647156, 0.05338578298687935, 0.23612992465496063, 0.0], [0.01760653592646122, 0.03182359039783478, 0.0013442900963127613, 0.001029958133585751, 0.002053775591775775, 0.06772328168153763, 0.3874061703681946, 0.4910123944282532, 0.0], [0.011248860508203506, 0.07940137386322021, 0.02675224095582962, 0.01104088593274355, 0.003798846388235688, 0.001349649508483708, 0.10985741019248962, 0.7565507292747498, 0.0], [0.007379768881946802, 0.027135083451867104, 0.021959790959954262, 0.05582427978515625, 0.006686371751129627, 0.0002754496817942709, 0.01068640686571598, 0.8700528740882874, 0.0], [0.00527042243629694, 0.0057242801412940025, 0.012172178365290165, 0.06319623440504074, 0.042959731072187424, 0.0003217608609702438, 0.004927264526486397, 0.8654281497001648, 0.0]], [[0.00011080154945375398, 2.303235487488564e-05, 1.9188926671631634e-05, 0.9987412095069885, 8.156910553225316e-06, 1.7876887795864604e-05, 1.0778074283734895e-05, 0.0010688826441764832, 0.0], [0.00021843149443157017, 0.0004426683590281755, 0.00041003627120517194, 0.9973969459533691, 1.252800643669616e-06, 2.0495508579188026e-06, 5.615769259748049e-05, 0.001472416683100164, 0.0], [0.0013723138254135847, 0.006823987700045109, 0.0422859787940979, 0.8681706786155701, 0.0031967556569725275, 0.0011831235606223345, 0.0011325195664539933, 0.07583460956811905, 0.0], [9.999309986596927e-05, 0.00010352923709433526, 0.0030016046948730946, 0.8980429172515869, 0.0029515556525439024, 0.0031204696279019117, 0.0004414600261952728, 0.09223856776952744, 0.0], [0.00025836698478087783, 0.0009303383994847536, 0.0004603875568136573, 0.6926373243331909, 0.07801494002342224, 0.013944880105555058, 0.017391830682754517, 0.1963619887828827, 0.0], [8.234468259615824e-05, 3.5211178328609094e-05, 0.0003449032665230334, 0.15719634294509888, 0.004942396655678749, 0.3355896472930908, 0.12935970723628998, 0.3724493980407715, 0.0], [0.0019227167358621955, 0.002536824671551585, 0.002073290990665555, 0.0001381636393489316, 0.011828587390482426, 0.7524274587631226, 0.08707866072654724, 0.14199437201023102, 0.0], [0.005255476105958223, 0.008018430322408676, 0.007864299230277538, 0.0005473765195347369, 0.004053918179124594, 0.22342874109745026, 0.1690302938222885, 0.5818014740943909, 0.0]], [[0.008715590462088585, 0.08621354401111603, 0.8711946606636047, 0.0027434160001575947, 0.0023256440181285143, 0.006632830016314983, 1.851562956289854e-05, 0.022155828773975372, 0.0], [0.019711114466190338, 0.027713097631931305, 0.9187248349189758, 0.005273320246487856, 0.000960896722972393, 0.0031941658817231655, 6.972206028876826e-05, 0.024352816864848137, 0.0], [0.018699655309319496, 0.07511855661869049, 0.8458500504493713, 0.015179703012108803, 0.016196932643651962, 0.0021590825635939837, 0.0011674416018649936, 0.025628579780459404, 0.0], [0.008986186236143112, 0.038534291088581085, 0.4966467022895813, 0.02117917500436306, 0.07471111416816711, 0.23348751664161682, 0.006186284124851227, 0.12026875466108322, 0.0], [0.036339160054922104, 0.019112344831228256, 0.07492805272340775, 0.010612616315484047, 0.10859876871109009, 0.39899352192878723, 0.014619698747992516, 0.3367958664894104, 0.0], [0.0008107333560474217, 0.0007473691366612911, 0.006149260327219963, 0.0029836208559572697, 0.13725526630878448, 0.5498793721199036, 0.11604154855012894, 0.18613286316394806, 0.0], [0.0031006732024252415, 0.004050347022712231, 0.011351658031344414, 0.0005139665445312858, 0.046584613621234894, 0.5753718614578247, 0.045477673411369324, 0.31354907155036926, 0.0], [0.006812429986894131, 0.009223372675478458, 0.008153676055371761, 0.0030972857493907213, 0.03918079659342766, 0.31132248044013977, 0.08984893560409546, 0.5323610305786133, 0.0]], [[0.03298507258296013, 0.00013344247417990118, 6.0506604313559365e-06, 1.5152460036915727e-05, 1.6393547412008047e-05, 4.814897692995146e-06, 6.50627953291405e-06, 0.9668325781822205, 0.0], [0.9719923734664917, 0.01744384691119194, 6.967228546272963e-05, 2.7528683403943432e-06, 9.171547389996704e-06, 0.0006657798076048493, 0.005490458104759455, 0.004325988702476025, 0.0], [0.013731235638260841, 0.8365666270256042, 0.14905087649822235, 4.422890197020024e-05, 1.0799080740753197e-08, 6.023430501045368e-07, 1.5321467799367383e-05, 0.0005911029875278473, 0.0], [4.3076764995930716e-05, 0.003828271757811308, 0.988064706325531, 0.006120078731328249, 1.2621699170267675e-06, 1.1131203336844919e-07, 7.243492063935264e-07, 0.0019416703144088387, 0.0], [1.0370158634032123e-06, 7.769472176732961e-06, 0.17739713191986084, 0.7623664736747742, 0.05029970780014992, 0.00019393049296922982, 2.0728621166199446e-06, 0.00973181240260601, 0.0], [4.011154430827446e-07, 1.6500818844633613e-07, 0.00012778083328157663, 0.01132222916930914, 0.8797228932380676, 0.10726098716259003, 7.876453310018405e-06, 0.001557780778966844, 0.0], [5.259943236524123e-07, 2.846355329211292e-08, 1.959802453654902e-08, 1.1059081543862703e-06, 0.006046994589269161, 0.9901081323623657, 0.0032245824113488197, 0.0006186526152305305, 0.0], [8.721466656425036e-06, 6.096336164773675e-07, 1.562697704571292e-08, 2.6139470588049107e-09, 1.2014745607302757e-06, 0.10602720081806183, 0.8907264471054077, 0.003235775511711836, 0.0]], [[0.04622030258178711, 0.02247983030974865, 0.23420028388500214, 0.014778848737478256, 0.30188095569610596, 0.206772580742836, 0.0004667314642574638, 0.17320047318935394, 0.0], [0.1435825377702713, 0.4759412407875061, 0.1892150640487671, 0.0283560398966074, 0.02761421725153923, 0.0026879191864281893, 0.0022155686747282743, 0.13038744032382965, 0.0], [0.06036466360092163, 0.16455695033073425, 0.28971433639526367, 0.4163492023944855, 0.006333714351058006, 0.008921356871724129, 0.006381393875926733, 0.04737834259867668, 0.0], [0.009806073270738125, 0.0121820829808712, 0.3820895254611969, 0.1843976527452469, 0.153818741440773, 0.0872129425406456, 0.002521604299545288, 0.16797147691249847, 0.0], [0.0006734898779541254, 0.0019821501336991787, 0.005601264536380768, 0.2664636969566345, 0.24817189574241638, 0.08675011247396469, 0.05711878836154938, 0.3332386314868927, 0.0], [0.0008287797099910676, 0.00016323888849001378, 0.0003255234914831817, 0.005721337627619505, 0.04015658423304558, 0.7537771463394165, 0.06704775989055634, 0.13197961449623108, 0.0], [9.437513654120266e-05, 9.206453250953928e-05, 0.000346788001479581, 0.0021568110678344965, 0.0038930452428758144, 0.26842066645622253, 0.08278946578502655, 0.6422067880630493, 0.0], [0.00022285987506620586, 0.0002123823796864599, 0.0004734083195216954, 0.0005646733334288001, 0.0009517683065496385, 0.059959277510643005, 0.04621138796210289, 0.8914042711257935, 0.0]]], [[[0.035107534378767014, 0.6116145849227905, 0.0033066170290112495, 0.28296762704849243, 0.0520898662507534, 8.366860697606171e-07, 0.0004681156133301556, 0.014444989152252674, 0.0], [0.006318942178040743, 0.002380356192588806, 0.00015114744019228965, 0.20405416190624237, 0.7729780077934265, 6.870531069580466e-05, 0.0004164162673987448, 0.013632211834192276, 0.0], [0.004705915227532387, 0.0019650219473987818, 2.2751022697775625e-05, 0.03809213265776634, 0.8254532217979431, 0.0011320917401462793, 0.04410918429493904, 0.08451970666646957, 0.0], [0.0019105917308479548, 0.00018552690744400024, 2.303269866388291e-06, 0.00018795405048877, 0.3507331311702728, 0.00797010026872158, 0.11676568537950516, 0.5222448110580444, 0.0], [0.0005853939219377935, 0.00015458320558536798, 6.517777364933863e-05, 0.0004731865774374455, 0.0008737354655750096, 0.001585308345966041, 0.0953705832362175, 0.9008920788764954, 0.0], [0.001235111034475267, 0.000507969583850354, 0.00023911612515803427, 3.953534906031564e-05, 0.0069080013781785965, 0.0020302371121942997, 0.05131705105304718, 0.9377229809761047, 0.0], [0.0004991036257706583, 0.0008368246490135789, 0.001822599908336997, 0.0002622081956360489, 0.0015099534066393971, 0.0009888020576909184, 0.18351133167743683, 0.810569167137146, 0.0], [0.0015563939232379198, 0.0010050113778561354, 0.00024772758479230106, 0.0031926268711686134, 0.02021118253469467, 0.0019807445351034403, 0.054919470101594925, 0.9168868660926819, 0.0]], [[7.401093975188788e-17, 9.511313326604696e-40, 0.0, 3.0828566215145976e-44, 3.0101761444466476e-35, 0.0, 0.0, 1.0, 0.0], [1.0, 3.9059527834339747e-10, 3.289748646482445e-30, 1.310979854867555e-30, 4.4120151240547265e-18, 8.816671351330463e-13, 9.27406263763475e-13, 6.161153333936013e-15, 0.0], [2.960748868297003e-10, 1.0, 1.7814090480516853e-10, 1.296889025409107e-29, 7.462054452376083e-41, 2.361609733914636e-32, 3.240461917877459e-16, 1.9478069078304804e-19, 0.0], [4.493798264422691e-20, 3.863815489779654e-09, 1.0, 2.794260656191483e-10, 4.5015199702190184e-27, 3.830101018143011e-31, 1.732477860701204e-23, 9.36328169714196e-18, 0.0], [5.880627357931174e-23, 1.256768301070633e-20, 3.545918836334039e-10, 1.0, 9.11151154525669e-09, 6.862408496815918e-25, 1.1922694413791434e-28, 3.331868260770545e-15, 0.0], [1.2630438069541688e-22, 1.5508080950271786e-26, 1.7502537367950921e-23, 1.5193398622548315e-11, 1.0, 7.428330728309618e-10, 3.270966683764019e-22, 1.5932963964770063e-15, 0.0], [3.0352292968640345e-22, 4.180490463352502e-28, 8.097867441483472e-33, 2.270418352645298e-25, 3.267898104897249e-11, 1.0, 3.7629526773198807e-13, 2.835268355086195e-16, 0.0], [2.1740914190465643e-12, 2.0940319790663242e-12, 2.003662901703912e-22, 3.937938911637991e-25, 2.9555128955293084e-21, 9.764793418298723e-08, 0.9999998807907104, 1.3576925694813724e-10, 0.0]], [[7.948924296563575e-10, 2.415560516055848e-07, 0.9999997615814209, 1.067307664470718e-08, 1.1014629761770426e-19, 1.3375929749843703e-20, 1.5557418905649129e-13, 1.3051357613513137e-16, 0.0], [0.0032531251199543476, 0.0008321457426063716, 0.008323521353304386, 0.961513340473175, 0.0147956358268857, 7.336824637604877e-06, 1.155508243755321e-06, 0.011273668147623539, 0.0], [0.0010803983313962817, 0.0003168622497469187, 0.00034142317599616945, 0.007589494343847036, 0.9305221438407898, 0.02151424251496792, 1.0498736628505867e-05, 0.03862489014863968, 0.0], [0.007807794958353043, 0.0021432877983897924, 0.0003715227067004889, 0.0012854024535045028, 0.18541474640369415, 0.3941737413406372, 0.006426488049328327, 0.40237709879875183, 0.0], [0.008946195244789124, 0.0023121791891753674, 0.001755651319399476, 0.0013225623406469822, 0.00061554997228086, 0.012137718498706818, 0.21432945132255554, 0.7585806846618652, 0.0], [0.004659260623157024, 0.004190762527287006, 0.001103375107049942, 0.0018535028211772442, 0.00048214333946816623, 7.849530084058642e-05, 0.005796089302748442, 0.9818363785743713, 0.0], [0.009562550112605095, 0.021946365013718605, 0.0036831034813076258, 0.0010771132074296474, 0.0005899271345697343, 0.00018404315051157027, 0.0014427312416955829, 0.9615141153335571, 0.0], [0.03507580980658531, 0.03979235142469406, 0.002631767885759473, 0.0044222441501915455, 0.02469586580991745, 0.003580226330086589, 0.0012766171712428331, 0.8885250687599182, 0.0]], [[0.015420466661453247, 0.9713507294654846, 0.00811836589127779, 0.0003938401350751519, 6.435903924284503e-05, 3.892858876497485e-05, 0.0001630508340895176, 0.004450300708413124, 0.0], [3.5844368539983407e-06, 0.0009768365416675806, 0.998775064945221, 0.00021964510960970074, 2.225060669047707e-08, 7.402693458224974e-10, 2.7093904009234393e-08, 2.4923860109993257e-05, 0.0], [1.1591067959670909e-05, 1.7527563613839447e-05, 0.004624749533832073, 0.8664276003837585, 0.12812279164791107, 3.67612699392339e-07, 1.1301781732697691e-09, 0.0007953072199597955, 0.0], [4.790830644196831e-05, 2.2979718323767884e-06, 1.8380627807346173e-05, 0.0009142532362602651, 0.9786847233772278, 0.013523840345442295, 3.866221618409327e-07, 0.0068083256483078, 0.0], [0.0005871958564966917, 0.0001721064472803846, 4.42510918219341e-06, 1.0389447197667323e-05, 0.008185361512005329, 0.9712874889373779, 0.0009107043733820319, 0.01884235255420208, 0.0], [0.0003641383955255151, 3.820441634161398e-05, 1.3088669220451266e-05, 1.1221311524423072e-06, 5.666551078320481e-05, 0.004269416909664869, 0.23200111091136932, 0.763256311416626, 0.0], [0.00032474618637934327, 0.0007457987521775067, 0.0007538728532381356, 3.3267756407440174e-06, 6.228618190107227e-07, 5.7475936046103016e-06, 0.005058731883764267, 0.9931071400642395, 0.0], [0.00028116253088228405, 0.0006305741262622178, 0.0026658016722649336, 0.0035815758164972067, 4.694768722401932e-05, 1.8249553477289737e-06, 1.5891462680883706e-05, 0.9927762746810913, 0.0]], [[0.366214394569397, 0.2434583604335785, 0.0007788348011672497, 0.3808552026748657, 0.0004156987415626645, 1.0544061296968721e-05, 0.0014252469409257174, 0.006841733120381832, 0.0], [0.01985698752105236, 0.14180630445480347, 0.012998958118259907, 0.7981385588645935, 0.002311376389116049, 2.3970062102307566e-05, 0.00756697217002511, 0.017296837642788887, 0.0], [6.417811528081074e-05, 2.517084067221731e-05, 0.00024240624043159187, 0.9755915403366089, 0.0006281917449086905, 3.999819455202669e-05, 0.0009224666864611208, 0.022486062720417976, 0.0], [0.0001146419599535875, 0.00012232435983605683, 0.004082073457539082, 0.3438695967197418, 0.12436559051275253, 0.0759066492319107, 0.001718237646855414, 0.4498208463191986, 0.0], [0.004192110151052475, 0.005964318756014109, 0.0003966293588746339, 0.005952311679720879, 0.11088557541370392, 0.1255660355091095, 0.04735738784074783, 0.6996856331825256, 0.0], [3.301936521893367e-05, 4.998872827854939e-05, 0.00027147767832502723, 0.0001319544535363093, 0.005734030157327652, 0.5205665826797485, 0.10976647585630417, 0.363446444272995, 0.0], [0.00044156640069559216, 0.0010563210817053914, 0.0015337900258600712, 0.0006797764217481017, 0.0005775991594418883, 0.15765075385570526, 0.21581444144248962, 0.622245728969574, 0.0], [0.005684035364538431, 0.006406647153198719, 0.015096912160515785, 0.018386665731668472, 0.004426651168614626, 0.022128798067569733, 0.5071372985839844, 0.42073291540145874, 0.0]], [[0.004222488030791283, 0.0018536188872531056, 0.7533417344093323, 0.08714937418699265, 0.0035679778084158897, 0.002743347082287073, 5.7870209275279194e-05, 0.14706361293792725, 0.0], [0.0501825287938118, 0.023769810795783997, 0.3037428855895996, 0.24226446449756622, 0.02226436883211136, 0.06283707171678543, 0.00046511695836670697, 0.294473797082901, 0.0], [0.8691985011100769, 0.08783557265996933, 0.0004401681071612984, 3.7510893889702857e-05, 0.007907728664577007, 0.00030125922057777643, 0.0003500795573927462, 0.03392922878265381, 0.0], [0.35850632190704346, 0.23465941846370697, 0.010926468297839165, 0.03070312738418579, 0.03329405561089516, 0.006804156117141247, 0.030516162514686584, 0.2945902645587921, 0.0], [0.06086347624659538, 0.1919238269329071, 0.05359773337841034, 0.08560535311698914, 0.25750547647476196, 0.005581172648817301, 0.015110772103071213, 0.3298121988773346, 0.0], [0.02609226293861866, 0.040191393345594406, 0.04715337976813316, 0.23585568368434906, 0.11715716123580933, 0.04853684827685356, 0.08303166180849075, 0.40198150277137756, 0.0], [0.004215977154672146, 0.0006640976062044501, 0.010949580930173397, 0.498109370470047, 0.04195092245936394, 0.1303999423980713, 0.054340001195669174, 0.2593701481819153, 0.0], [0.0170940812677145, 0.00653900345787406, 0.01061938889324665, 0.23297767341136932, 0.08805537968873978, 0.16363801062107086, 0.09386696666479111, 0.3872094750404358, 0.0]], [[4.1856093777297316e-22, 2.245746507726541e-19, 1.0, 2.8848060864575794e-19, 9.367111306834886e-39, 4.136279715266096e-36, 1.2247100066220812e-25, 5.171840503660578e-26, 0.0], [8.574734347045754e-13, 9.652971781279329e-14, 1.0034039155115693e-09, 1.0, 7.186768069544769e-09, 2.853554403027902e-29, 1.0224064301305187e-31, 4.597666299965209e-19, 0.0], [4.154939535331616e-14, 2.0099803169516123e-13, 9.865787136386901e-17, 2.379093366755569e-09, 1.0, 3.1396005795159e-09, 3.6082152678163046e-25, 2.578834688958672e-16, 0.0], [1.3279065745421307e-15, 9.088624560523069e-15, 2.9050053717270298e-18, 5.814234431059332e-19, 1.3829335898662976e-08, 1.0, 3.795496694714018e-10, 4.4671961442477315e-12, 0.0], [5.2654135392071755e-12, 5.099988573814551e-12, 8.171821509403432e-14, 1.9780172240115362e-19, 3.529405237916194e-16, 0.00026530458126217127, 0.9997010827064514, 3.363182258908637e-05, 0.0], [2.724819125887734e-07, 6.402726882015486e-08, 8.095804027163922e-10, 1.394147939149206e-15, 1.1588342950989176e-17, 5.931633764895416e-13, 0.0007580938399769366, 0.9992415904998779, 0.0], [2.388212305959314e-05, 2.4409016532445094e-06, 1.07013908845488e-09, 8.866968791154672e-12, 2.9094756625524195e-18, 5.137770217461665e-24, 1.8016314555133715e-14, 0.9999736547470093, 0.0], [0.35450252890586853, 0.4393879771232605, 1.1994293345196638e-05, 0.0006697208737023175, 1.9960591089329682e-05, 1.9834711130484184e-12, 5.288356016118489e-13, 0.20540779829025269, 0.0]], [[0.9235702753067017, 0.01630713790655136, 0.0004603286215569824, 0.00016977143241092563, 0.00014391780132427812, 0.0002194157859776169, 0.00013654064969159663, 0.058992527425289154, 0.0], [0.668497622013092, 0.10023295879364014, 0.0006808115867897868, 0.0019004861824214458, 0.00034736754605546594, 0.0004696869582403451, 0.0007157497457228601, 0.22715525329113007, 0.0], [0.03719913214445114, 0.24345189332962036, 0.05476173013448715, 0.06080419197678566, 7.61532828619238e-06, 0.00010760048462543637, 0.0829954743385315, 0.5206724405288696, 0.0], [0.02819657139480114, 0.11813431978225708, 0.5209794044494629, 0.022963933646678925, 0.00024148817465174943, 6.362581189023331e-05, 0.0003821535501629114, 0.3090386390686035, 0.0], [0.0016245172591879964, 0.005689714569598436, 0.5299034714698792, 0.12104790657758713, 0.1284441351890564, 0.007206345908343792, 0.0004299768479540944, 0.20565392076969147, 0.0], [0.002128085121512413, 0.00011594338138820603, 0.060112133622169495, 0.49639877676963806, 0.02777845412492752, 0.08349984139204025, 0.008979863487184048, 0.32098695635795593, 0.0], [0.0016410000389441848, 0.0006536155706271529, 3.304440178908408e-05, 0.2512124180793762, 0.2160828411579132, 0.16030895709991455, 0.21678797900676727, 0.15328018367290497, 0.0], [0.00821677315980196, 0.009967410936951637, 0.0011487002484500408, 0.028043340891599655, 0.01813555881381035, 0.14939230680465698, 0.638914942741394, 0.14618101716041565, 0.0]]], [[[3.759156243177131e-05, 0.00018309145525563508, 0.005660955794155598, 0.9917357563972473, 0.0006566675729118288, 6.617676149289764e-07, 4.3830826257362787e-07, 0.0017247428186237812, 0.0], [0.0006791626219637692, 0.0016397448489442468, 6.0486356233013794e-05, 0.0006498565780930221, 0.9945077300071716, 0.0002126098406733945, 9.744571798364632e-06, 0.00224068621173501, 0.0], [0.0009232900338247418, 0.0005509642651304603, 0.00033311330480501056, 0.0003253551840316504, 0.0017395770410075784, 0.8926660418510437, 0.005094109568744898, 0.09836750477552414, 0.0], [0.0011094164801761508, 0.00011337250907672569, 6.440879224101081e-05, 0.0001907723635667935, 0.000458491820609197, 0.008267635479569435, 0.5046992897987366, 0.48509663343429565, 0.0], [0.00023282320762518793, 0.004616484045982361, 0.026891285553574562, 4.462900324142538e-05, 0.006523542106151581, 0.007201739586889744, 0.21646638214588165, 0.7380231022834778, 0.0], [0.00121996586676687, 0.001641630893573165, 0.0018317943904548883, 0.0006245998665690422, 0.005047095473855734, 0.00018324224220123142, 0.0014333472354337573, 0.9880183935165405, 0.0], [0.005293317139148712, 0.020801568403840065, 0.005998117383569479, 0.0010391196701675653, 0.016718586906790733, 4.803422052646056e-05, 0.0006284611881710589, 0.9494727849960327, 0.0], [0.007665165234357119, 0.08712702989578247, 0.0005510819610208273, 0.0004539983347058296, 0.01783067174255848, 0.0010072720469906926, 0.0023869394790381193, 0.8829778432846069, 0.0]], [[0.04235485941171646, 0.8620492219924927, 0.06649988889694214, 0.004433848895132542, 0.00033212380367331207, 1.0718868907133583e-05, 0.0003829592315014452, 0.023936282843351364, 0.0], [0.0003548516833689064, 0.0002737634058576077, 0.005279134958982468, 0.9792758226394653, 0.0032871400471776724, 1.3277648577059153e-05, 2.6968247766490094e-05, 0.01148900669068098, 0.0], [0.0005137367988936603, 0.0007202908745966852, 0.0007285764440894127, 0.019395234063267708, 0.8938687443733215, 0.005706118419766426, 0.0007519476930610836, 0.07831522822380066, 0.0], [0.0011917473748326302, 0.00033169682137668133, 0.0006715269410051405, 0.004457594361156225, 0.05219927802681923, 0.4532751441001892, 0.0031108770053833723, 0.48476219177246094, 0.0], [0.0007525724358856678, 0.0031941868364810944, 0.000978334923274815, 0.012017627246677876, 0.0062652952037751675, 0.014463990926742554, 0.3569360673427582, 0.6053919196128845, 0.0], [0.00047838815953582525, 0.0009155157022178173, 0.0005084464210085571, 0.00010593084152787924, 0.00020927353762090206, 0.02926931530237198, 0.008307969197630882, 0.9602051973342896, 0.0], [0.00033646522206254303, 0.0007353863911703229, 0.0009070138912647963, 0.0005524992593564093, 0.00017920439131557941, 0.0008067336748354137, 0.01823974773287773, 0.9782428741455078, 0.0], [0.0008712098351679742, 0.0003531668335199356, 0.0002558806736487895, 0.004750677850097418, 0.011103375814855099, 0.0006947384099476039, 0.004247401840984821, 0.9777235388755798, 0.0]], [[0.0003848886117339134, 0.00041377078741788864, 0.0009530892129987478, 0.10020303726196289, 0.8842710256576538, 0.007923685014247894, 0.0013647256419062614, 0.004485805984586477, 0.0], [0.0006824142765253782, 0.0015109076630324125, 0.007719872985035181, 0.00468291575089097, 0.40763553977012634, 0.29959094524383545, 0.1719696819782257, 0.10620765388011932, 0.0], [0.011965327896177769, 0.00663146423175931, 0.01244099996984005, 0.0005907953018322587, 0.009179859422147274, 0.19780902564525604, 0.1893586665391922, 0.5720238089561462, 0.0], [0.0003404135350137949, 0.001079667592421174, 0.0006703283870592713, 2.422967918391805e-05, 0.0037619967479258776, 0.010295507498085499, 0.041005704551935196, 0.9428220987319946, 0.0], [0.0007663010037504137, 9.704756666906178e-05, 0.005991696380078793, 0.0012066512135788798, 0.011658715084195137, 0.011518404819071293, 0.03533288463950157, 0.9334282875061035, 0.0], [0.0003286443534307182, 6.829026096966118e-05, 0.0012075118720531464, 1.0436309821670875e-05, 0.0003212913288734853, 0.0065737273544073105, 0.013016780838370323, 0.9784733057022095, 0.0], [0.0009410865022800863, 0.0011952124768868089, 0.002879476174712181, 0.000171710315044038, 0.005886636674404144, 0.0017727819504216313, 0.047037526965141296, 0.9401155710220337, 0.0], [0.00042916182428598404, 0.0006454461836256087, 0.002152201486751437, 0.00042703436338342726, 0.006296147592365742, 0.02222553640604019, 0.11761824786663055, 0.850206196308136, 0.0]], [[0.0005457427469082177, 0.0002944476727861911, 0.0006116115837357938, 0.9958971738815308, 0.00015983611228875816, 4.6736979129491374e-05, 0.00026414994499646127, 0.002180278766900301, 0.0], [0.1938050389289856, 0.11908300220966339, 0.2225339710712433, 0.36488714814186096, 0.024770312011241913, 0.0068240039981901646, 0.00316408253274858, 0.06493241339921951, 0.0], [0.1432252675294876, 0.1588294804096222, 0.01695176400244236, 0.014838173985481262, 0.010209537111222744, 0.005150120239704847, 0.05962853878736496, 0.5911670923233032, 0.0], [0.05648979917168617, 0.46837127208709717, 0.025727570056915283, 0.0032515686471015215, 0.08185434341430664, 0.017683526501059532, 0.01645653136074543, 0.33016538619995117, 0.0], [0.0006851826328784227, 0.0024133361876010895, 0.047793880105018616, 0.034291643649339676, 0.22073416411876678, 0.01000884547829628, 0.29964855313301086, 0.3844243288040161, 0.0], [0.005895957350730896, 0.028019515797495842, 0.07148659974336624, 0.0021199409384280443, 0.3448125422000885, 0.10167845338582993, 0.04448319971561432, 0.4015038311481476, 0.0], [0.00021456865943036973, 0.003328009508550167, 0.01993791200220585, 0.16464237868785858, 0.011874902993440628, 0.14489606022834778, 0.3781627416610718, 0.2769434452056885, 0.0], [8.490546315442771e-05, 6.369966286001727e-05, 0.0012366916052997112, 0.0021390849724411964, 0.0010275967651978135, 0.029057802632451057, 0.8774171471595764, 0.0889730453491211, 0.0]], [[0.001038186950609088, 0.0005760382628068328, 0.009698446840047836, 0.027639497071504593, 0.10070231556892395, 0.7678108811378479, 0.0010200046235695481, 0.09151466935873032, 0.0], [0.0063404422253370285, 0.0008955520461313426, 0.034291092306375504, 0.02183002606034279, 0.003113497979938984, 0.24151554703712463, 0.482806921005249, 0.20920687913894653, 0.0], [0.010715890675783157, 0.0030495093669742346, 0.05749695748090744, 0.039172135293483734, 0.005229463800787926, 0.03908534720540047, 0.5499507784843445, 0.2952999770641327, 0.0], [0.044755492359399796, 0.020619366317987442, 0.03649115562438965, 0.0006983073544688523, 0.003933019004762173, 0.03786228969693184, 0.006181149743497372, 0.8494592308998108, 0.0], [0.009562473744153976, 0.014694935642182827, 0.0013246603775769472, 0.3004612326622009, 0.0778699442744255, 0.009265257976949215, 0.012358269654214382, 0.5744631886482239, 0.0], [0.0010989531874656677, 0.0013849865645170212, 0.0021474116947501898, 0.029431123286485672, 0.0354531854391098, 0.02486746944487095, 0.009970590472221375, 0.8956462740898132, 0.0], [0.005110675003379583, 0.0035740616731345654, 0.0005153337842784822, 0.03858599066734314, 0.10362539440393448, 0.01668866164982319, 0.3098331391811371, 0.5220667123794556, 0.0], [0.003685485804453492, 0.002619416918605566, 0.0036794105544686317, 0.0054064905270934105, 0.033747196197509766, 0.2710581421852112, 0.3726089298725128, 0.3071949779987335, 0.0]], [[0.18355193734169006, 0.17397548258304596, 0.09117954224348068, 0.05044470727443695, 0.4399401843547821, 0.00848997849971056, 0.00385279580950737, 0.04856530576944351, 0.0], [0.04918781295418739, 0.02031732350587845, 0.13343675434589386, 0.33832284808158875, 0.10273038595914841, 0.14761817455291748, 0.10828181356191635, 0.10010482370853424, 0.0], [0.002594858407974243, 0.013026941567659378, 0.005139035172760487, 0.04739437624812126, 0.3814822733402252, 0.021357985213398933, 0.10488961637020111, 0.42411482334136963, 0.0], [0.0019641690887510777, 0.0023891879245638847, 0.001230516703799367, 0.01819770038127899, 0.3281288146972656, 0.06794332712888718, 0.15549591183662415, 0.4246503710746765, 0.0], [0.10180407762527466, 0.024661315605044365, 0.03712891414761543, 0.14550122618675232, 0.25763750076293945, 0.011129333637654781, 0.03381385654211044, 0.38832375407218933, 0.0], [0.0023366890382021666, 0.0026047348510473967, 0.0006628604023717344, 0.1260865479707718, 0.22049134969711304, 0.006922912318259478, 0.03647606074810028, 0.6044188737869263, 0.0], [0.013282155618071556, 0.005015432834625244, 0.00020472118922043592, 0.0015070963418111205, 0.735342264175415, 0.006817817222326994, 0.06398041546344757, 0.17385020852088928, 0.0], [0.023012684658169746, 0.007669169921427965, 0.00027498003328219056, 0.0016092678997665644, 0.19160543382167816, 0.011262040585279465, 0.4223298728466034, 0.34223663806915283, 0.0]], [[0.029370183125138283, 0.011197705753147602, 0.04826442897319794, 0.5020469427108765, 0.07029730081558228, 0.050951965153217316, 0.0034977267496287823, 0.28437376022338867, 0.0], [0.23956938087940216, 0.025939060375094414, 0.07774864137172699, 0.2844501733779907, 0.005961183458566666, 0.013426234014332294, 0.06643544882535934, 0.2864699065685272, 0.0], [0.004265536554157734, 0.0011053591733798385, 0.0009272998431697488, 0.8819936513900757, 0.014859503135085106, 0.00011838969658128917, 0.0017433163011446595, 0.09498689323663712, 0.0], [0.002102975267916918, 0.003431616583839059, 0.004880658816546202, 0.7952847480773926, 0.029239337891340256, 0.0029731537215411663, 0.0016811612294986844, 0.16040626168251038, 0.0], [0.0018348853336647153, 0.0008585311006754637, 4.465047823032364e-05, 0.079209104180336, 0.4794657528400421, 0.0005994518869556487, 0.0182763934135437, 0.41971123218536377, 0.0], [0.0016758900601416826, 0.0006350526236928999, 0.0024278697092086077, 0.18225082755088806, 0.07619520276784897, 0.13705992698669434, 0.006853965576738119, 0.5929011702537537, 0.0], [0.0004476329777389765, 0.00011647002975223586, 0.00014389920397661626, 0.09891927242279053, 0.013677000068128109, 0.04643029719591141, 0.22715961933135986, 0.6131057739257812, 0.0], [0.00012595552834682167, 4.122058817301877e-05, 1.3059174079899094e-06, 0.0014492063783109188, 0.0018835508963093162, 0.0014394420431926847, 0.9147630929946899, 0.08029630780220032, 0.0]], [[1.0, 3.103960111161541e-08, 1.677419546425461e-17, 5.287308829285799e-16, 3.125748826438013e-10, 7.653978006949558e-10, 4.518296153888102e-11, 9.64542573415883e-14, 0.0], [1.3870119275338766e-08, 0.9999997615814209, 1.8677222612950573e-07, 2.2712798364798843e-21, 1.5487369258908603e-28, 4.5740669778849656e-26, 6.219777407349047e-18, 6.4290834076797046e-15, 0.0], [1.4398044388685971e-12, 4.961211530485343e-08, 1.0, 2.189844217070913e-08, 1.0685775578949903e-18, 6.65286438651283e-20, 1.2601294008557259e-19, 5.266730926161908e-14, 0.0], [2.7125197814414502e-17, 4.101405081728308e-18, 7.04245863014652e-12, 1.0, 1.3194080160025545e-12, 5.152300028749321e-21, 1.9456013082752902e-19, 2.0187121578542782e-18, 0.0], [2.512746412851319e-13, 6.035835232906213e-15, 1.5480624018739033e-15, 1.5101551363854316e-15, 1.0, 3.3807653898598744e-10, 5.121949915813569e-19, 1.091660403465197e-15, 0.0], [2.2313663070039347e-11, 5.4703557239577094e-09, 1.9982242349669832e-07, 6.618384768182495e-13, 6.20272791462817e-11, 0.9999997615814209, 1.7825719789144046e-09, 4.829763700087142e-09, 0.0], [1.3239978774795547e-13, 2.783803956700004e-16, 8.430969857211289e-23, 3.9401748107410167e-19, 4.63472851505156e-21, 1.073258344176653e-12, 0.9999998807907104, 1.44624706877039e-07, 0.0], [1.9467971478599397e-14, 1.5734047276832455e-17, 1.184855069472283e-22, 2.1852428697040557e-29, 1.2969801425992233e-25, 4.3996389382025876e-20, 3.296846387002006e-07, 0.9999996423721313, 0.0]]], [[[0.6672091484069824, 0.20145612955093384, 0.019792191684246063, 0.00900217890739441, 0.013582741841673851, 0.0005193621036596596, 0.007797519210726023, 0.08064062148332596, 0.0], [0.2779846489429474, 0.225919708609581, 0.009800688363611698, 0.08512014150619507, 0.12161152064800262, 0.002060821047052741, 0.0009627436520531774, 0.27653977274894714, 0.0], [0.1721746027469635, 0.2068958729505539, 0.2201300412416458, 0.028523577377200127, 0.04880169406533241, 0.019267944619059563, 0.003890539286658168, 0.300315797328949, 0.0], [0.0019196545472368598, 0.030267342925071716, 0.15609776973724365, 0.10970623791217804, 0.11761537194252014, 0.2448112964630127, 0.10565730184316635, 0.23392504453659058, 0.0], [0.002714194357395172, 0.0022628470323979855, 0.03577195480465889, 0.18259672820568085, 0.0799570083618164, 0.05443883314728737, 0.13480716943740845, 0.5074512958526611, 0.0], [0.002235710620880127, 0.005446210037916899, 0.04186733067035675, 0.15257641673088074, 0.09313412755727768, 0.08062553405761719, 0.05699960142374039, 0.567115068435669, 0.0], [0.0009911148808896542, 0.004919559694826603, 0.05854306370019913, 0.020383195951581, 0.3545856475830078, 0.26590651273727417, 0.1518556922674179, 0.1428152322769165, 0.0], [0.0002147156628780067, 0.00018981362518388778, 0.0004760427982546389, 0.0037220120429992676, 0.2445184588432312, 0.0018472669180482626, 0.004834056831896305, 0.74419766664505, 0.0]], [[0.3429321348667145, 0.2514926791191101, 0.0759400725364685, 0.1493307501077652, 0.0031737880781292915, 0.0241840947419405, 0.02369452267885208, 0.1292518824338913, 0.0], [0.06261927634477615, 0.03377354517579079, 0.3469827473163605, 0.31787997484207153, 0.00036248506512492895, 0.015392706729471684, 0.003085644217208028, 0.21990357339382172, 0.0], [0.0007806235807947814, 0.030372295528650284, 0.12064965814352036, 0.34166860580444336, 0.0011915849754586816, 0.015595336444675922, 0.010089888237416744, 0.47965195775032043, 0.0], [0.00022581033408641815, 0.002204819582402706, 0.012266306206583977, 0.025088945403695107, 0.21079964935779572, 0.01525169052183628, 0.002708380576223135, 0.7314543128013611, 0.0], [0.0004731461813207716, 0.002571098506450653, 0.001391960890032351, 0.26955947279930115, 0.03523722290992737, 0.03730449452996254, 0.012627203948795795, 0.6408353447914124, 0.0], [9.442258306080475e-05, 0.004004457499831915, 0.002062243176624179, 0.0005998268024995923, 0.003154090140014887, 0.8081800937652588, 0.00028165915864519775, 0.1816231906414032, 0.0], [0.0006982370978221297, 0.0007514782482758164, 0.00046062140609137714, 0.020462684333324432, 0.04434431344270706, 0.13155969977378845, 0.16848407685756683, 0.6332389116287231, 0.0], [0.00016600682283751667, 0.00014446819841396064, 0.0003055939741898328, 0.024058617651462555, 0.0008796395268291235, 0.014640051871538162, 0.05921013280749321, 0.9005954265594482, 0.0]], [[0.0643387883901596, 0.013968713581562042, 0.00030997206340543926, 0.0034713582135736942, 0.016468102112412453, 0.08730074763298035, 0.10718358308076859, 0.7069587111473083, 0.0], [0.2887928783893585, 0.0650842934846878, 0.00025940555497072637, 0.004236816428601742, 0.006569175515323877, 0.011842183768749237, 0.009170569479465485, 0.6140446066856384, 0.0], [0.5462640523910522, 0.30148181319236755, 0.00039427823503501713, 0.0004789418599102646, 0.0009776691440492868, 0.00011722851922968403, 0.00021893612574785948, 0.15006710588932037, 0.0], [0.04251514747738838, 0.49368682503700256, 0.016509201377630234, 0.024663584306836128, 0.02810027450323105, 0.0017829935532063246, 0.003489437513053417, 0.38925251364707947, 0.0], [0.0013933468144387007, 0.001721888198517263, 0.8323050737380981, 0.059586573392152786, 0.002424923935905099, 0.04559032991528511, 0.0005900105461478233, 0.05638781189918518, 0.0], [0.005993078928440809, 0.019452884793281555, 0.010137046687304974, 0.7581997513771057, 0.0644577294588089, 0.024894243106245995, 0.0015186622040346265, 0.11534661799669266, 0.0], [0.001774413394741714, 0.011387799866497517, 0.005830480717122555, 0.014678074978291988, 0.8775749206542969, 0.03407420963048935, 0.0037433409597724676, 0.05093679949641228, 0.0], [0.04177100583910942, 0.017712879925966263, 0.00045613371185027063, 0.017321225255727768, 0.009809310548007488, 0.002777372719720006, 0.016508731991052628, 0.8936433792114258, 0.0]], [[0.0004801911418326199, 0.0017363147344440222, 0.00206474750302732, 0.019565735012292862, 0.9422475099563599, 0.011742059141397476, 0.0005839727818965912, 0.021579457446932793, 0.0], [0.0026961180847138166, 0.0026273143012076616, 0.02741101197898388, 0.16087277233600616, 0.0073782773688435555, 0.10508120805025101, 0.1311395913362503, 0.5627937316894531, 0.0], [0.04372381418943405, 0.01770220510661602, 0.011044349521398544, 0.09434688091278076, 0.009483195841312408, 0.020694030448794365, 0.2712318003177643, 0.5317736864089966, 0.0], [0.05753912404179573, 0.1257563680410385, 0.1577354371547699, 0.004665311425924301, 0.12342062592506409, 0.01600034162402153, 0.016537070274353027, 0.49834561347961426, 0.0], [0.026830410584807396, 0.031974565237760544, 0.002460189862176776, 0.03078913502395153, 0.0737290158867836, 0.007439523935317993, 0.011549183167517185, 0.8152279853820801, 0.0], [0.005106774624437094, 0.01644175313413143, 0.0013518158812075853, 0.12290386855602264, 0.6888205409049988, 0.0025032793637365103, 0.025655081495642662, 0.13721692562103271, 0.0], [0.0020939710084348917, 0.009621333330869675, 0.0002411259920336306, 0.00103238713927567, 0.9366056323051453, 0.0015276154736056924, 0.007145649287849665, 0.041732288897037506, 0.0], [0.00025479038595221937, 0.0015837836544960737, 0.0010198645759373903, 0.0011231141397729516, 0.02055390179157257, 0.009003015235066414, 0.025498364120721817, 0.9409632086753845, 0.0]], [[0.012470980174839497, 0.03441028669476509, 0.1383122205734253, 0.7214842438697815, 0.02247345820069313, 0.03584131598472595, 0.0015901317819952965, 0.03341727703809738, 0.0], [0.0029869149439036846, 0.006298370193690062, 0.027559615671634674, 0.015137464739382267, 0.013374913483858109, 0.7061722278594971, 0.003558509750291705, 0.22491201758384705, 0.0], [0.005349937826395035, 0.01571268029510975, 0.01980086974799633, 0.9160616397857666, 0.0020631523802876472, 0.016999894753098488, 0.000632530776783824, 0.02337942272424698, 0.0], [0.005979744717478752, 0.002162603661417961, 0.029531225562095642, 0.29963329434394836, 0.009990926831960678, 0.22189423441886902, 0.062418870627880096, 0.3683891296386719, 0.0], [0.015655802562832832, 0.004593375138938427, 0.01290148962289095, 0.004220924805849791, 0.02408180572092533, 0.253665030002594, 0.012502615340054035, 0.6723789572715759, 0.0], [0.006723484490066767, 0.001979209715500474, 0.05847332626581192, 0.04129783436655998, 0.0034615674521774054, 0.09229499846696854, 0.015814561396837234, 0.7799550294876099, 0.0], [0.00251278979703784, 0.0005843121907673776, 0.20588846504688263, 0.10724318772554398, 0.018471218645572662, 0.13006959855556488, 0.06043955311179161, 0.47479087114334106, 0.0], [0.00016046497330535203, 0.0002520470297895372, 0.0006127444794401526, 0.002214073436334729, 0.003390402067452669, 0.05518851801753044, 0.009838487021625042, 0.9283432364463806, 0.0]], [[0.7570709586143494, 0.15032747387886047, 0.02282870188355446, 0.022524122148752213, 0.0025796820409595966, 0.003995582927018404, 0.0011455006897449493, 0.03952798247337341, 0.0], [0.022217292338609695, 0.656995952129364, 0.14577922224998474, 0.012226546183228493, 0.03443002700805664, 0.0005476273945532739, 0.030341779813170433, 0.09746149927377701, 0.0], [0.007799298036843538, 0.013755274005234241, 0.27066177129745483, 0.6293318867683411, 0.0003444140311330557, 0.0029002304654568434, 0.0006738246302120388, 0.07453326135873795, 0.0], [0.011357378214597702, 0.006252753548324108, 0.24343173205852509, 0.05018638074398041, 0.0682939812541008, 0.08160445094108582, 0.04166293889284134, 0.49721041321754456, 0.0], [0.00038424626109190285, 0.0001496626646257937, 0.0028559237252920866, 0.0006111517432145774, 0.06847476214170456, 0.22178931534290314, 0.008561592549085617, 0.6971732974052429, 0.0], [8.440830424660817e-05, 0.00012014080857625231, 0.008917232044041157, 0.0011920580873265862, 0.0054502361454069614, 0.1268734186887741, 0.039347413927316666, 0.8180150985717773, 0.0], [1.7643749743001536e-05, 6.798941467422992e-05, 0.00011309367255307734, 8.572944352636114e-06, 0.0011638442520052195, 0.0644134134054184, 0.7955935597419739, 0.13862185180187225, 0.0], [0.00016590068116784096, 7.983569230418652e-05, 0.0027395044453442097, 0.0017870746087282896, 0.014263749122619629, 0.005115664564073086, 0.0037385548930615187, 0.9721097350120544, 0.0]], [[0.9795656204223633, 0.008719006553292274, 0.00025082757929340005, 0.00031728448811918497, 0.0016585318371653557, 0.0008204320329241455, 0.00023825847893022, 0.008430112153291702, 0.0], [0.019930360838770866, 0.750922441482544, 0.04996825382113457, 0.03982650488615036, 0.0006241656956262887, 0.0010907517280429602, 0.000446117453975603, 0.13719132542610168, 0.0], [0.0034598323982208967, 0.10992719978094101, 0.6478261947631836, 0.02071215771138668, 0.0006507540820166469, 0.00340632745064795, 0.0003358604444656521, 0.21368169784545898, 0.0], [8.62375891301781e-05, 0.00013061249046586454, 0.02924731746315956, 0.877097487449646, 0.004275312647223473, 0.013055521994829178, 0.003907948266714811, 0.07219955325126648, 0.0], [0.022542323917150497, 0.01669161021709442, 0.0031206475105136633, 0.001982762711122632, 0.05228470265865326, 0.09679405391216278, 0.003533940529450774, 0.8030499815940857, 0.0], [0.0009865418542176485, 0.0015839588595554233, 0.0008921860135160387, 0.0016322719166055322, 0.166446253657341, 0.5502740740776062, 0.0010995136108249426, 0.27708524465560913, 0.0], [0.0004954156465828419, 0.00015400453412439674, 0.00021529737568926066, 0.00012494524708017707, 0.30391305685043335, 0.22938060760498047, 0.20182034373283386, 0.2638964056968689, 0.0], [3.7161080399528146e-05, 0.00010324974573450163, 0.00037080899346619844, 0.001700060092844069, 0.0017665565246716142, 0.006988379172980785, 0.1364215910434723, 0.8526122570037842, 0.0]], [[0.16844800114631653, 0.7515051364898682, 0.002742453943938017, 0.014389551244676113, 0.03388027474284172, 0.00048689075629226863, 0.010445144027471542, 0.01810244843363762, 0.0], [0.027421973645687103, 0.12264962494373322, 0.3396819233894348, 0.10952550917863846, 0.173872709274292, 0.003058094996958971, 0.003111473983153701, 0.2206786870956421, 0.0], [0.0027441729325801134, 0.004843644332140684, 0.04248730465769768, 0.21965862810611725, 0.19470414519309998, 0.036100123077631, 0.01420053280889988, 0.4852614402770996, 0.0], [0.0011000999948009849, 0.0011007190914824605, 0.0020198114216327667, 0.04574856534600258, 0.38896673917770386, 0.03131500259041786, 0.0525263287127018, 0.477222740650177, 0.0], [0.0002339252532692626, 0.000981021556071937, 1.5827743482077494e-05, 0.0011127860052511096, 0.9112635254859924, 0.005978640168905258, 0.00043576056486926973, 0.07997852563858032, 0.0], [0.0005120327114127576, 0.0007365645724348724, 0.0015265822876244783, 0.06368237733840942, 0.0032670614309608936, 0.024687718600034714, 0.03082500584423542, 0.8747626543045044, 0.0], [0.0011609828798100352, 0.000480949500342831, 0.001843297854065895, 0.004738551564514637, 0.001610922277905047, 0.010740552097558975, 0.14986306428909302, 0.8295616507530212, 0.0], [1.4452162986344774e-06, 2.967699856526451e-06, 3.634609674918465e-05, 5.727020834456198e-05, 0.0020299030002206564, 0.00075286696664989, 0.0005324643570929766, 0.9965866804122925, 0.0]]]], \"left_text\": [\"E\", \"F\", \"L\", \"C\", \"L\", \"A\", \"A\", \"<eos>\"], \"right_text\": [\"V\", \"V\", \"T\", \"G\", \"V\", \"T\", \"A\", \"<eos>\", \"<pad>\"]}], \"default_filter\": \"0\", \"root_div_id\": \"bertviz-8769fc9a66b649ef8bea2de8ff7bf4d6\", \"layer\": null, \"heads\": null, \"include_layers\": [0, 1, 2, 3]} is a template marker that is replaced by actual params.\n    const TEXT_SIZE = 15;\n    const BOXWIDTH = 110;\n    const BOXHEIGHT = 22.5;\n    const MATRIX_WIDTH = 115;\n    const CHECKBOX_SIZE = 20;\n    const TEXT_TOP = 30;\n\n    console.log(\"d3 version\", d3.version)\n    let headColors;\n    try {\n        headColors = d3.scaleOrdinal(d3.schemeCategory10);\n    } catch (err) {\n        console.log('Older d3 version')\n        headColors = d3.scale.category10();\n    }\n    let config = {};\n    initialize();\n    renderVis();\n\n    function initialize() {\n        config.attention = params['attention'];\n        config.filter = params['default_filter'];\n        config.rootDivId = params['root_div_id'];\n        config.nLayers = config.attention[config.filter]['attn'].length;\n        config.nHeads = config.attention[config.filter]['attn'][0].length;\n        config.layers = params['include_layers']\n\n        if (params['heads']) {\n            config.headVis = new Array(config.nHeads).fill(false);\n            params['heads'].forEach(x => config.headVis[x] = true);\n        } else {\n            config.headVis = new Array(config.nHeads).fill(true);\n        }\n        config.initialTextLength = config.attention[config.filter].right_text.length;\n        config.layer_seq = (params['layer'] == null ? 0 : config.layers.findIndex(layer => params['layer'] === layer));\n        config.layer = config.layers[config.layer_seq]\n\n        let layerEl = $(`#${config.rootDivId} #layer`);\n        for (const layer of config.layers) {\n            layerEl.append($(\"<option />\").val(layer).text(layer));\n        }\n        layerEl.val(config.layer).change();\n        layerEl.on('change', function (e) {\n            config.layer = +e.currentTarget.value;\n            config.layer_seq = config.layers.findIndex(layer => config.layer === layer);\n            renderVis();\n        });\n\n        $(`#${config.rootDivId} #filter`).on('change', function (e) {\n            config.filter = e.currentTarget.value;\n            renderVis();\n        });\n    }\n\n    function renderVis() {\n\n        // Load parameters\n        const attnData = config.attention[config.filter];\n        const leftText = attnData.left_text;\n        const rightText = attnData.right_text;\n\n        // Select attention for given layer\n        const layerAttention = attnData.attn[config.layer_seq];\n\n        // Clear vis\n        $(`#${config.rootDivId} #vis`).empty();\n\n        // Determine size of visualization\n        const height = Math.max(leftText.length, rightText.length) * BOXHEIGHT + TEXT_TOP;\n        const svg = d3.select(`#${config.rootDivId} #vis`)\n            .append('svg')\n            .attr(\"width\", \"100%\")\n            .attr(\"height\", height + \"px\");\n\n        // Display tokens on left and right side of visualization\n        renderText(svg, leftText, true, layerAttention, 0);\n        renderText(svg, rightText, false, layerAttention, MATRIX_WIDTH + BOXWIDTH);\n\n        // Render attention arcs\n        renderAttention(svg, layerAttention);\n\n        // Draw squares at top of visualization, one for each head\n        drawCheckboxes(0, svg, layerAttention);\n    }\n\n    function renderText(svg, text, isLeft, attention, leftPos) {\n\n        const textContainer = svg.append(\"svg:g\")\n            .attr(\"id\", isLeft ? \"left\" : \"right\");\n\n        // Add attention highlights superimposed over words\n        textContainer.append(\"g\")\n            .classed(\"attentionBoxes\", true)\n            .selectAll(\"g\")\n            .data(attention)\n            .enter()\n            .append(\"g\")\n            .attr(\"head-index\", (d, i) => i)\n            .selectAll(\"rect\")\n            .data(d => isLeft ? d : transpose(d)) // if right text, transpose attention to get right-to-left weights\n            .enter()\n            .append(\"rect\")\n            .attr(\"x\", function () {\n                var headIndex = +this.parentNode.getAttribute(\"head-index\");\n                return leftPos + boxOffsets(headIndex);\n            })\n            .attr(\"y\", (+1) * BOXHEIGHT)\n            .attr(\"width\", BOXWIDTH / activeHeads())\n            .attr(\"height\", BOXHEIGHT)\n            .attr(\"fill\", function () {\n                return headColors(+this.parentNode.getAttribute(\"head-index\"))\n            })\n            .style(\"opacity\", 0.0);\n\n        const tokenContainer = textContainer.append(\"g\").selectAll(\"g\")\n            .data(text)\n            .enter()\n            .append(\"g\");\n\n        // Add gray background that appears when hovering over text\n        tokenContainer.append(\"rect\")\n            .classed(\"background\", true)\n            .style(\"opacity\", 0.0)\n            .attr(\"fill\", \"lightgray\")\n            .attr(\"x\", leftPos)\n            .attr(\"y\", (d, i) => TEXT_TOP + i * BOXHEIGHT)\n            .attr(\"width\", BOXWIDTH)\n            .attr(\"height\", BOXHEIGHT);\n\n        // Add token text\n        const textEl = tokenContainer.append(\"text\")\n            .text(d => d)\n            .attr(\"font-size\", TEXT_SIZE + \"px\")\n            .style(\"cursor\", \"default\")\n            .style(\"-webkit-user-select\", \"none\")\n            .attr(\"x\", leftPos)\n            .attr(\"y\", (d, i) => TEXT_TOP + i * BOXHEIGHT);\n\n        if (isLeft) {\n            textEl.style(\"text-anchor\", \"end\")\n                .attr(\"dx\", BOXWIDTH - 0.5 * TEXT_SIZE)\n                .attr(\"dy\", TEXT_SIZE);\n        } else {\n            textEl.style(\"text-anchor\", \"start\")\n                .attr(\"dx\", +0.5 * TEXT_SIZE)\n                .attr(\"dy\", TEXT_SIZE);\n        }\n\n        tokenContainer.on(\"mouseover\", function (d, index) {\n\n            // Show gray background for moused-over token\n            textContainer.selectAll(\".background\")\n                .style(\"opacity\", (d, i) => i === index ? 1.0 : 0.0)\n\n            // Reset visibility attribute for any previously highlighted attention arcs\n            svg.select(\"#attention\")\n                .selectAll(\"line[visibility='visible']\")\n                .attr(\"visibility\", null)\n\n            // Hide group containing attention arcs\n            svg.select(\"#attention\").attr(\"visibility\", \"hidden\");\n\n            // Set to visible appropriate attention arcs to be highlighted\n            if (isLeft) {\n                svg.select(\"#attention\").selectAll(\"line[left-token-index='\" + index + \"']\").attr(\"visibility\", \"visible\");\n            } else {\n                svg.select(\"#attention\").selectAll(\"line[right-token-index='\" + index + \"']\").attr(\"visibility\", \"visible\");\n            }\n\n            // Update color boxes superimposed over tokens\n            const id = isLeft ? \"right\" : \"left\";\n            const leftPos = isLeft ? MATRIX_WIDTH + BOXWIDTH : 0;\n            svg.select(\"#\" + id)\n                .selectAll(\".attentionBoxes\")\n                .selectAll(\"g\")\n                .attr(\"head-index\", (d, i) => i)\n                .selectAll(\"rect\")\n                .attr(\"x\", function () {\n                    const headIndex = +this.parentNode.getAttribute(\"head-index\");\n                    return leftPos + boxOffsets(headIndex);\n                })\n                .attr(\"y\", (d, i) => TEXT_TOP + i * BOXHEIGHT)\n                .attr(\"width\", BOXWIDTH / activeHeads())\n                .attr(\"height\", BOXHEIGHT)\n                .style(\"opacity\", function (d) {\n                    const headIndex = +this.parentNode.getAttribute(\"head-index\");\n                    if (config.headVis[headIndex])\n                        if (d) {\n                            return d[index];\n                        } else {\n                            return 0.0;\n                        }\n                    else\n                        return 0.0;\n                });\n        });\n\n        textContainer.on(\"mouseleave\", function () {\n\n            // Unhighlight selected token\n            d3.select(this).selectAll(\".background\")\n                .style(\"opacity\", 0.0);\n\n            // Reset visibility attributes for previously selected lines\n            svg.select(\"#attention\")\n                .selectAll(\"line[visibility='visible']\")\n                .attr(\"visibility\", null) ;\n            svg.select(\"#attention\").attr(\"visibility\", \"visible\");\n\n            // Reset highlights superimposed over tokens\n            svg.selectAll(\".attentionBoxes\")\n                .selectAll(\"g\")\n                .selectAll(\"rect\")\n                .style(\"opacity\", 0.0);\n        });\n    }\n\n    function renderAttention(svg, attention) {\n\n        // Remove previous dom elements\n        svg.select(\"#attention\").remove();\n\n        // Add new elements\n        svg.append(\"g\")\n            .attr(\"id\", \"attention\") // Container for all attention arcs\n            .selectAll(\".headAttention\")\n            .data(attention)\n            .enter()\n            .append(\"g\")\n            .classed(\"headAttention\", true) // Group attention arcs by head\n            .attr(\"head-index\", (d, i) => i)\n            .selectAll(\".tokenAttention\")\n            .data(d => d)\n            .enter()\n            .append(\"g\")\n            .classed(\"tokenAttention\", true) // Group attention arcs by left token\n            .attr(\"left-token-index\", (d, i) => i)\n            .selectAll(\"line\")\n            .data(d => d)\n            .enter()\n            .append(\"line\")\n            .attr(\"x1\", BOXWIDTH)\n            .attr(\"y1\", function () {\n                const leftTokenIndex = +this.parentNode.getAttribute(\"left-token-index\")\n                return TEXT_TOP + leftTokenIndex * BOXHEIGHT + (BOXHEIGHT / 2)\n            })\n            .attr(\"x2\", BOXWIDTH + MATRIX_WIDTH)\n            .attr(\"y2\", (d, rightTokenIndex) => TEXT_TOP + rightTokenIndex * BOXHEIGHT + (BOXHEIGHT / 2))\n            .attr(\"stroke-width\", 2)\n            .attr(\"stroke\", function () {\n                const headIndex = +this.parentNode.parentNode.getAttribute(\"head-index\");\n                return headColors(headIndex)\n            })\n            .attr(\"left-token-index\", function () {\n                return +this.parentNode.getAttribute(\"left-token-index\")\n            })\n            .attr(\"right-token-index\", (d, i) => i)\n        ;\n        updateAttention(svg)\n    }\n\n    function updateAttention(svg) {\n        svg.select(\"#attention\")\n            .selectAll(\"line\")\n            .attr(\"stroke-opacity\", function (d) {\n                const headIndex = +this.parentNode.parentNode.getAttribute(\"head-index\");\n                // If head is selected\n                if (config.headVis[headIndex]) {\n                    // Set opacity to attention weight divided by number of active heads\n                    return d / activeHeads()\n                } else {\n                    return 0.0;\n                }\n            })\n    }\n\n    function boxOffsets(i) {\n        const numHeadsAbove = config.headVis.reduce(\n            function (acc, val, cur) {\n                return val && cur < i ? acc + 1 : acc;\n            }, 0);\n        return numHeadsAbove * (BOXWIDTH / activeHeads());\n    }\n\n    function activeHeads() {\n        return config.headVis.reduce(function (acc, val) {\n            return val ? acc + 1 : acc;\n        }, 0);\n    }\n\n    function drawCheckboxes(top, svg) {\n        const checkboxContainer = svg.append(\"g\");\n        const checkbox = checkboxContainer.selectAll(\"rect\")\n            .data(config.headVis)\n            .enter()\n            .append(\"rect\")\n            .attr(\"fill\", (d, i) => headColors(i))\n            .attr(\"x\", (d, i) => i * CHECKBOX_SIZE)\n            .attr(\"y\", top)\n            .attr(\"width\", CHECKBOX_SIZE)\n            .attr(\"height\", CHECKBOX_SIZE);\n\n        function updateCheckboxes() {\n            checkboxContainer.selectAll(\"rect\")\n                .data(config.headVis)\n                .attr(\"fill\", (d, i) => d ? headColors(i): lighten(headColors(i)));\n        }\n\n        updateCheckboxes();\n\n        checkbox.on(\"click\", function (d, i) {\n            if (config.headVis[i] && activeHeads() === 1) return;\n            config.headVis[i] = !config.headVis[i];\n            updateCheckboxes();\n            updateAttention(svg);\n        });\n\n        checkbox.on(\"dblclick\", function (d, i) {\n            // If we double click on the only active head then reset\n            if (config.headVis[i] && activeHeads() === 1) {\n                config.headVis = new Array(config.nHeads).fill(true);\n            } else {\n                config.headVis = new Array(config.nHeads).fill(false);\n                config.headVis[i] = true;\n            }\n            updateCheckboxes();\n            updateAttention(svg);\n        });\n    }\n\n    function lighten(color) {\n        const c = d3.hsl(color);\n        const increment = (1 - c.l) * 0.6;\n        c.l += increment;\n        c.s -= increment;\n        return c;\n    }\n\n    function transpose(mat) {\n        return mat[0].map(function (col, i) {\n            return mat.map(function (row) {\n                return row[i];\n            });\n        });\n    }\n\n});",
      "text/plain": [
       "<IPython.core.display.Javascript object>"
      ]
     },
     "metadata": {},
     "output_type": "display_data"
    }
   ],
   "source": [
    "from bertviz import head_view\n",
    "head_view(\n",
    "\tencoder_attention=encoder_self_attention, \n",
    "\tdecoder_attention=decoder_self_attention,\n",
    "\tcross_attention=decoder_encoder_attention, \n",
    "\tencoder_tokens=encoder_text,\n",
    "\tdecoder_tokens=decoder_text, \n",
    ")"
   ]
  },
  {
   "cell_type": "markdown",
   "metadata": {},
   "source": [
    "neuron view requires access to key, value and query information. It is not currently available."
   ]
  },
  {
   "cell_type": "markdown",
   "metadata": {},
   "source": [
    "#### Probability interpretation"
   ]
  },
  {
   "cell_type": "markdown",
   "metadata": {},
   "source": [
    "\"Given the target sequence, if such a target-peptide $\\beta$-strand interaction exists in nature, the probality of generated sequence being such a peptide.\""
   ]
  },
  {
   "cell_type": "markdown",
   "metadata": {},
   "source": [
    "#### Probability quality guidance"
   ]
  },
  {
   "cell_type": "markdown",
   "metadata": {},
   "source": [
    "Training data are labeled with probability: $0.9^{(l+1)}$. <br>\n",
    "Training data length 8 labeled probability: $0.9^{9} = 0.387420489$ <br>\n",
    "Random data length 8 labeled probability with special token: $ (\\frac{1}{24}) ^{9} = 3.7852871 \\times 10^{-13} $ <br>\n",
    "Random data length 8 labeled probability without special token: $(\\frac{1}{20}) ^{9} = 1.953125 \\times 10^{-12} $"
   ]
  },
  {
   "cell_type": "markdown",
   "metadata": {},
   "source": [
    "#### Number of parameters calculation "
   ]
  },
  {
   "cell_type": "markdown",
   "metadata": {},
   "source": [
    "N: number of layers <br>\n",
    "H: hidden dimensions\n",
    "\n",
    "Encoder embedding: $24 \\times H$ <br>\n",
    "\n",
    "Encoder self attention -- key projection, value projection, query projection, final projection: $H^{2} \\times 4$ <br>\n",
    "Encoder pointwise MLP: $H \\times 4H \\times 2 = H^{2} \\times 8$\n",
    "\n",
    "Decoder embedding: $24 \\times H$ <br>\n",
    "\n",
    "Decoder self attention -- key projection, value projection, query projection, final projection: $H^{2} \\times 4$ <br>\n",
    "Decoder-encoder attention -- key projection, value projection, query projection, final projection: $H^{2} \\times 4$ <br>\n",
    "Decoder pointwise MLP: $H \\times 4H \\times 2 = H^{2} \\times 8$\n",
    "\n",
    "Ouput Projection: $H \\times 24$ \n",
    "\n",
    "Total parameters: $24 \\times H + (H^{2} \\times 4 + H^{2} \\times 8) \\times N + 24 \\times H + (H^{2} \\times 4 + H^{2} \\times 4 + H^{2} \\times 8) \\times N + H \\times 24  $ <br> \n",
    "$ = 28 \\times H^{2} \\times N + 72 \\times H$"
   ]
  },
  {
   "cell_type": "markdown",
   "metadata": {},
   "source": [
    "#### Potential problems"
   ]
  },
  {
   "cell_type": "markdown",
   "metadata": {},
   "source": [
    "1. Positional encoding failed to work in predict sequences------------- fixed \n",
    "2. 'bos', 'eos' not trained? ------------------------------------------ fixed \n",
    "3. Ramdomize each batch ----------------------------------------------- fixed \n",
    "4. Softmax in prediction ---------------------------------------------- fixed \n",
    "5. write functions for training-preposessing -------------------------- fixed\n",
    "6. write functions for prediction ------------------------------------- fixed\n",
    "7. label smoothing: alter learning truth distribution ----------------- fixed \n",
    "8. weighting of each sample: sample weights in loss ------------------- fixed\n",
    "9. adjust learning rate ----------------------------------------------- not changed since adam is insensitive to learning rate\n",
    "10. loss shown too small ---------------------------------------------- fixed \n",
    "11. batch size and training steps and all other hyperparameter--------- set"
   ]
  },
  {
   "cell_type": "markdown",
   "metadata": {},
   "source": [
    "#### Things to do"
   ]
  },
  {
   "cell_type": "markdown",
   "metadata": {},
   "source": [
    "1. Assigne weights to each sample ------------------------------- done \n",
    "2. hyperparameter for base model training ----------------------- done \n",
    "3. train on imperial GPU ---------------------------------------- done \n",
    "4. Write sampling sequence + prob function ---------------------- moved \n",
    "5. Write functions for prob of pair sequences ------------------- moved\n",
    "6. Consider anti para / para condition -------------------------- ignore this condition + ignore hb_pattern for now\n",
    "7. save model parameters with current time ---------------------- done \n",
    "8. check GPU availablity ---------------------------------------- done\n",
    "9. Request a notebook for longer or more GPU on jupyter? 100epochs==50hours for 1 GPU  ---- done \n",
    "10. Save loss plots --------------------------------------------- done \n",
    "11. Convert jupyter notebook to scriptfor trainning ------------- done \n",
    "12. Lean how to train on one GPU on imperial cluster ------------ done\n",
    "13. Embedding and linear initialization adjust ------------------ done \n",
    "14. Examine on both training and validation --------------------- done \n",
    "15. Hamming distance systematically lower (valida) -------------- done \n",
    "16. Prob of training model comple peptides by model systemtically higher than random comple peptides (train)\n",
    "17. Write sampling sequence + prob function --------------------- done \n",
    "18. Write functions for prob of pair sequences\n",
    "19. Extract attention weights to view correlation\n",
    "20. Maybe train a base line version with only equal weights length 7 and 8 ---- not now\n",
    "21. try to predict binding energy \n",
    "22. Track validation loss or find another good metric ----------- done\n",
    "23. clean notebook ---------------------------------------------- done \n",
    "24. maybe data augmentation or alphafold to add high quality model\n",
    "25. batch sampling procedure and batch prediction---------------- done \n",
    "26. try gated attention from alphafold2\n",
    "27. try data augmentation and expand dataset from alphafold2\n",
    "28. try bidirectional mask from BERT alphafold2\n"
   ]
  },
  {
   "cell_type": "markdown",
   "metadata": {},
   "source": [
    "#### HPC version tracker"
   ]
  },
  {
   "cell_type": "markdown",
   "metadata": {},
   "source": [
    "1. model_base: 13072022_UROP_model_base_modified\n",
    "2. model_wide: 14072022_UROP_model_wide\n",
    "3. model_base_validation: 17072022_UROP_model_base_validation\n",
    "4. model_wide_validation: 17072022_UROP_model_wide_validation"
   ]
  }
 ],
 "metadata": {
  "kernelspec": {
   "display_name": "Python 3.10.4 ('pt')",
   "language": "python",
   "name": "python3"
  },
  "language_info": {
   "codemirror_mode": {
    "name": "ipython",
    "version": 3
   },
   "file_extension": ".py",
   "mimetype": "text/x-python",
   "name": "python",
   "nbconvert_exporter": "python",
   "pygments_lexer": "ipython3",
   "version": "3.10.4"
  },
  "orig_nbformat": 4,
  "vscode": {
   "interpreter": {
    "hash": "78bf9874701a3957232b8c741c196d0ac3fa790968bd4270c0e2fd5bdf999274"
   }
  }
 },
 "nbformat": 4,
 "nbformat_minor": 2
}
