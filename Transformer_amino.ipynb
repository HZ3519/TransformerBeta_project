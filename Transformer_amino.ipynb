{
 "cells": [
  {
   "cell_type": "code",
   "execution_count": 1,
   "metadata": {},
   "outputs": [],
   "source": [
    "import math\n",
    "import os\n",
    "# os.environ['CUDA_LAUNCH_BLOCKING'] = '1'\n",
    "import torch\n",
    "from torch import nn\n",
    "from torch.distributions.categorical import Categorical\n",
    "from d2l import torch as d2l\n",
    "import pandas as pd\n",
    "import pickle\n",
    "import numpy as np \n",
    "import time \n",
    "import matplotlib.pyplot as plt "
   ]
  },
  {
   "cell_type": "markdown",
   "metadata": {},
   "source": [
    "#### Check GPU availability"
   ]
  },
  {
   "cell_type": "code",
   "execution_count": 2,
   "metadata": {},
   "outputs": [
    {
     "name": "stdout",
     "output_type": "stream",
     "text": [
      "GPU availability: False\n",
      "Number of GPU available: 0\n"
     ]
    }
   ],
   "source": [
    "print(\"GPU availability: {}\".format(torch.cuda.is_available()))\n",
    "print(\"Number of GPU available: {}\".format(torch.cuda.device_count()))"
   ]
  },
  {
   "cell_type": "markdown",
   "metadata": {},
   "source": [
    "#### Clean GPU usage"
   ]
  },
  {
   "cell_type": "code",
   "execution_count": 3,
   "metadata": {},
   "outputs": [],
   "source": [
    "# to train a new model, restart kernel after freeing gpu memory\n",
    "# and load all pretraining data\n",
    "\n",
    "from GPUtil import showUtilization as gpu_usage\n",
    "from numba import cuda\n",
    "\n",
    "def free_gpu_cache():\n",
    "    print(\"Initial GPU Usage\")\n",
    "    gpu_usage()                             \n",
    "\n",
    "    torch.cuda.empty_cache()\n",
    "\n",
    "    cuda.select_device(0)\n",
    "    cuda.close()\n",
    "    cuda.select_device(0)\n",
    "\n",
    "    print(\"GPU Usage after emptying the cache\")\n",
    "    gpu_usage()"
   ]
  },
  {
   "cell_type": "code",
   "execution_count": 4,
   "metadata": {},
   "outputs": [],
   "source": [
    "# check gpu_usage\n",
    "#gpu_usage()"
   ]
  },
  {
   "cell_type": "markdown",
   "metadata": {},
   "source": [
    "#### Heatmap"
   ]
  },
  {
   "cell_type": "code",
   "execution_count": 5,
   "metadata": {},
   "outputs": [],
   "source": [
    "def show_heatmaps(matrices, xlabel, ylabel, titles=None, figsize=(2.5, 2.5), cmap=\"Reds\"):\n",
    "\td2l.use_svg_display()\n",
    "\tnum_rows, num_cols = matrices.shape[0], matrices.shape[1]\n",
    "\tfig, axes = d2l.plt.subplots(num_rows, num_cols, figsize=figsize, sharex=True, sharey=True, squeeze=False) # shape0, shape1 -- number of subplots\n",
    "\n",
    "\tfor i, (row_axes, row_matrices) in enumerate(zip(axes, matrices)): # row_axes seperate out first dimension -- (1, 1, 10, 10) to (1, 10, 10)\n",
    "\t\tfor j, (ax, matrix) in enumerate(zip(row_axes, row_matrices)): # ax seperate out second dimension -- (1, 10, 10) to (10, 10)\n",
    "\t\t\tpcm = ax.imshow(matrix.detach().numpy(), cmap=cmap)\n",
    "\t\t\tif i == num_rows - 1:\n",
    "\t\t\t\tax.set_xlabel(xlabel) # we may have (row, col) subplots -- we set xlabel at once at the bottom\n",
    "\t\t\tif j == 0:\n",
    "\t\t\t\tax.set_ylabel(ylabel)\n",
    "\t\t\tif titles:\n",
    "\t\t\t\tax.set_title(titles[j]) # a list a subtitles\n",
    "\tfig.colorbar(pcm, ax=axes, shrink=0.6)"
   ]
  },
  {
   "cell_type": "markdown",
   "metadata": {},
   "source": [
    "#### Masked sequence"
   ]
  },
  {
   "cell_type": "code",
   "execution_count": 6,
   "metadata": {},
   "outputs": [],
   "source": [
    "# X: (5, 10)\n",
    "# value: [1, 5, 3, 6, 2] -- matching the rows \n",
    "\n",
    "def sequence_mask(X, valid_len, value=0):\n",
    "\t\"\"\"Mask irrelevant entries in sequences.\"\"\"\n",
    "\n",
    "\tmaxlen = X.size(1)\n",
    "\tmask = torch.arange((maxlen), dtype=torch.float32, device=X.device)[None, :] < valid_len[:, None]\n",
    "\t#print(mask)\n",
    "\n",
    "\tX[~mask] = value # set the masked elements to value \n",
    "\treturn X"
   ]
  },
  {
   "cell_type": "markdown",
   "metadata": {},
   "source": [
    "#### Masked softmax operation"
   ]
  },
  {
   "cell_type": "code",
   "execution_count": 7,
   "metadata": {},
   "outputs": [],
   "source": [
    "# X: (2, 3, 4) -- attention weights\n",
    "# valid lens: specify how many elements to mask in each minibatch \n",
    "# valid lens (high dim): specify how to mask each minibatch \n",
    "def masked_softmax(X, valid_lens):\n",
    "\t\"\"\"Perform softmax operation by masking elements on the last axis\"\"\"\n",
    "\n",
    "\tif valid_lens == None:\n",
    "\t\treturn nn.functional.softmax(X, dim=-1)\n",
    "\telse:\n",
    "\t\tshape = X.shape\n",
    "\t\tif valid_lens.dim() == 1:\n",
    "\t\t\t# \n",
    "\t\t\tvalid_lens = torch.repeat_interleave(valid_lens, shape[1])\n",
    "\t\telse:\n",
    "\t\t\tvalid_lens = valid_lens.reshape(-1)\n",
    "\t\tX = sequence_mask(X.reshape(-1, shape[-1]), valid_lens, value=-1e6)\n",
    "\n",
    "\t\treturn nn.functional.softmax(X.reshape(shape), dim=-1)"
   ]
  },
  {
   "cell_type": "markdown",
   "metadata": {},
   "source": [
    "#### Positional encoding"
   ]
  },
  {
   "cell_type": "code",
   "execution_count": 8,
   "metadata": {},
   "outputs": [],
   "source": [
    "class PositionalEncoding(nn.Module):\n",
    "\t\"\"\"Position encoding X+P with dropout\"\"\"\n",
    "\n",
    "\tdef __init__(self, num_hiddens, dropout, max_len=1000):\n",
    "\t\tsuper(PositionalEncoding, self).__init__()\n",
    "\t\tself.dropout = nn.Dropout(dropout)\n",
    "\n",
    "\t\t# create a single batch_size 1, long enough P, longer than sequence length\n",
    "\t\tself.P = torch.zeros((1, max_len, num_hiddens))\n",
    "\t\tX = torch.arange(max_len, dtype=torch.float32).reshape(-1, 1) / torch.pow(10000, torch.arange(0, num_hiddens, 2, dtype=torch.float32)/num_hiddens)\n",
    "\t\tself.P[:, :, 0::2] = torch.sin(X)\n",
    "\t\tself.P[:, :, 1::2] = torch.cos(X)\n",
    "\n",
    "\tdef forward(self, X):\n",
    "\t\tX = X + self.P[:, :X.shape[1], :].to(X.device)\n",
    "\t\treturn self.dropout(X)"
   ]
  },
  {
   "cell_type": "markdown",
   "metadata": {},
   "source": [
    "#### Scaled dot-product attention"
   ]
  },
  {
   "cell_type": "code",
   "execution_count": 9,
   "metadata": {},
   "outputs": [],
   "source": [
    "class DotProductAttention(nn.Module):\n",
    "\t\"\"\"\"Scaled dot product attention with dropout\"\"\"\n",
    "\n",
    "\tdef __init__(self, dropout, **kwargs):\n",
    "\t\tsuper(DotProductAttention, self).__init__(**kwargs)\n",
    "\t\tself.dropout = nn.Dropout(dropout)\n",
    "\n",
    "\t\t# query: (batch_size, no. of queries, 'd')\n",
    "\t\t# key: (batch_size, no. of key-value pairs, 'd')\n",
    "\t\t# value: (batch_size, no. of key-value pairs, d_value)\n",
    "\t\t# valid_lens: (batch_size, ) or (batch_size, no. of queries)\n",
    "\t\n",
    "\tdef forward(self, queries, keys, values, valid_lens=None):\n",
    "\t\td = queries.shape[-1]\n",
    "\n",
    "\t\tscores = torch.bmm(queries, keys.transpose(1, 2)) / math.sqrt(d)\n",
    "\t\tself.attention_weights = masked_softmax(scores, valid_lens)\n",
    "\t\treturn torch.bmm(self.dropout(self.attention_weights), values)"
   ]
  },
  {
   "cell_type": "markdown",
   "metadata": {},
   "source": [
    "#### Multi-head attention"
   ]
  },
  {
   "cell_type": "code",
   "execution_count": 10,
   "metadata": {},
   "outputs": [],
   "source": [
    "def transpose_qkv(X, num_heads):\n",
    "\t\"\"\"Transposition for parallel computation of multiple attention heads\"\"\"\n",
    "\n",
    "\tX = X.reshape(X.shape[0], X.shape[1], num_heads, -1)\n",
    "\tX = X.permute(0, 2, 1, 3)\n",
    "\n",
    "\treturn X.reshape(-1, X.shape[2], X.shape[3])\n",
    "\n",
    "def transpose_output(X, num_heads):\n",
    "\t\"\"\"Reverse the operation of transpose_qkv\"\"\"\n",
    "\n",
    "\tX = X.reshape(-1, num_heads, X.shape[1], X.shape[2])\n",
    "\tX = X.permute(0, 2, 1, 3)\n",
    "\n",
    "\treturn X.reshape(X.shape[0], X.shape[1], -1)"
   ]
  },
  {
   "cell_type": "code",
   "execution_count": 11,
   "metadata": {},
   "outputs": [],
   "source": [
    "# valid_lens: (batch_size, ) or (batch_size, no. of queries)\n",
    "# Note: the mask (valid_len) used here, I copy it num_heads times\n",
    "\n",
    "class MultiHeadAttention(nn.Module):\n",
    "\t\"\"\"Multi-head attention\"\"\"\n",
    "\n",
    "\tdef __init__(self, key_size, query_size, value_size, num_hiddens, num_heads, dropout, use_bias=False, **kwargs):\n",
    "\t\tsuper(MultiHeadAttention, self).__init__(**kwargs)\n",
    "\t\tself.num_heads = num_heads\n",
    "\t\tself.attention = DotProductAttention(dropout)\n",
    "\t\tself.W_q = nn.Linear(query_size, num_hiddens, bias=use_bias) # (in_feature, out_feature)\n",
    "\t\tself.W_k = nn.Linear(key_size, num_hiddens, bias=use_bias)\n",
    "\t\tself.W_v = nn.Linear(value_size, num_hiddens, bias=use_bias)\n",
    "\t\tself.W_o = nn.Linear(num_hiddens, num_hiddens, bias=use_bias)\n",
    "\t\n",
    "\tdef forward(self, queries, keys, values, valid_lens):\n",
    "\t\t\n",
    "\t\t# queries, keys, values:\n",
    "\t\t# (batch_size, no. of queries / keys/ values, num_hiddens) ---------------------note here we choose queries_size, value_size, key_size to be num_hiddens\n",
    "\t\t# valid_lens: (batch_size, ) or (batch_size, no. of queries)\n",
    "\n",
    "\t\tqueries = transpose_qkv(self.W_q(queries), self.num_heads)\n",
    "\t\tkeys = transpose_qkv(self.W_k(keys), self.num_heads)\n",
    "\t\tvalues = transpose_qkv(self.W_v(values), self.num_heads)\n",
    "\n",
    "\t\tif valid_lens is not None:\n",
    "\t\t\tvalid_lens = torch.repeat_interleave(valid_lens, repeats=self.num_heads, dim=0)\n",
    "\t\t\n",
    "\t\toutput = self.attention(queries, keys, values, valid_lens)\n",
    "\n",
    "\t\toutput_concat = transpose_output(output, self.num_heads)\n",
    "\n",
    "\t\treturn self.W_o(output_concat)"
   ]
  },
  {
   "cell_type": "markdown",
   "metadata": {},
   "source": [
    "#### Positionwise Feed-Forward Networks"
   ]
  },
  {
   "cell_type": "code",
   "execution_count": 12,
   "metadata": {},
   "outputs": [],
   "source": [
    "class PositionWiseFFN(nn.Module):\n",
    "\t\"\"\"Positionwise feed-forward network\"\"\"\n",
    "\n",
    "\tdef __init__(self, ffn_num_input, ffn_num_hiddens, ffn_num_outputs, **kwargs):\n",
    "\t\tsuper(PositionWiseFFN, self).__init__(**kwargs)\n",
    "\t\tself.dense1 = nn.Linear(ffn_num_input, ffn_num_hiddens)\n",
    "\t\tself.relu = nn.ReLU()\n",
    "\t\tself.dense2 = nn.Linear(ffn_num_hiddens, ffn_num_outputs)\n",
    "\n",
    "\tdef forward(self, X):\n",
    "\t\treturn self.dense2(self.relu(self.dense1(X)))"
   ]
  },
  {
   "cell_type": "markdown",
   "metadata": {},
   "source": [
    "#### Residual connection and layer normalization"
   ]
  },
  {
   "cell_type": "code",
   "execution_count": 13,
   "metadata": {},
   "outputs": [],
   "source": [
    "# input: (batch_size, seq_length, features_dim)\n",
    "# normalized shape is input.size()[1: ]\n",
    "# the normalizing direction is features_dim -- nomalizing along second dimension\n",
    "\n",
    "# X is input \n",
    "# Y is Multiattention(X)\n",
    "\n",
    "class AddNorm(nn.Module):\n",
    "\t\"\"\"Residual connection followed by layer normalization with dropout implementation\"\"\"\n",
    "\n",
    "\tdef __init__(self, normalized_shape, dropout, **kwargs):\n",
    "\t\tsuper(AddNorm, self).__init__(**kwargs)\n",
    "\t\tself.dropout = nn.Dropout(dropout)\n",
    "\t\tself.ln = nn.LayerNorm(normalized_shape)\n",
    "\n",
    "\tdef forward(self, X, Y): \n",
    "\t\treturn self.ln(self.dropout(Y) + X)"
   ]
  },
  {
   "cell_type": "markdown",
   "metadata": {},
   "source": [
    "#### Encoder"
   ]
  },
  {
   "cell_type": "code",
   "execution_count": 14,
   "metadata": {},
   "outputs": [],
   "source": [
    "class EncoderBlock(nn.Module):\n",
    "\t\"\"\"Transformer encoder block.\"\"\"\n",
    "\n",
    "\tdef __init__(self, key_size, query_size, value_size, num_hiddens, norm_shape, ffn_num_input, ffn_num_hiddens, num_heads, dropout, use_bias=False, **kwargs):\n",
    "\t\tsuper(EncoderBlock, self).__init__(**kwargs)\n",
    "\t\tself.attention = MultiHeadAttention(key_size=key_size, query_size=query_size, value_size=value_size, num_hiddens=num_hiddens, num_heads=num_heads, dropout=dropout, use_bias=use_bias)\n",
    "\t\tself.addnorm1 = AddNorm(norm_shape, dropout)\n",
    "\t\tself.ffn = PositionWiseFFN(ffn_num_input, ffn_num_hiddens, num_hiddens)\n",
    "\t\tself.addnorm2 = AddNorm(norm_shape, dropout)\n",
    "\n",
    "\tdef forward(self, X, valid_lens):\n",
    "\t\tY = self.addnorm1(X, self.attention(X, X, X, valid_lens))\n",
    "\t\treturn self.addnorm2(Y, self.ffn(Y))"
   ]
  },
  {
   "cell_type": "markdown",
   "metadata": {},
   "source": [
    "#### Transformer encoder"
   ]
  },
  {
   "cell_type": "code",
   "execution_count": 15,
   "metadata": {},
   "outputs": [],
   "source": [
    "# we can now stack the blocks of encoders\n",
    "# we also need to rescale to learnable input embeddings by sqrt(embedding dim) to [-1, 1]. This is because each value of positional embeddding is [-1, 1]\n",
    "# num_layers: number of blocks of encoder\n",
    "# vocab_size: size of vocabulary dictionary\n",
    "\n",
    "class TransformerEncoder(d2l.Encoder):\n",
    "\t\"\"\"Transformer encoder.\"\"\"\n",
    "\n",
    "\tdef __init__(self, vocab_size, key_size, query_size, value_size, num_hiddens, norm_shape, ffn_num_input, ffn_num_hiddens, num_heads, num_layers, dropout, use_bias=False, **kwargs):\n",
    "\t\tsuper(TransformerEncoder, self).__init__(**kwargs)\n",
    "\t\tself.num_hiddens = num_hiddens\n",
    "\t\tself.embedding = nn.Embedding(vocab_size, num_hiddens) # here we randomly initialize a input embedding matrix \n",
    "\t\tself.pos_encoding = PositionalEncoding(num_hiddens, dropout)\n",
    "\t\tself.blks = nn.Sequential()\n",
    "\t\tfor i in range(num_layers):\n",
    "\t\t\tself.blks.add_module(\"Block\"+str(i), EncoderBlock(key_size, query_size, value_size, num_hiddens, norm_shape, ffn_num_input, ffn_num_hiddens, num_heads, dropout, use_bias=use_bias))\n",
    "\t\n",
    "\tdef forward(self, X, valid_lens, *args):\n",
    "\t\tX = self.pos_encoding(self.embedding(X) * math.sqrt(self.num_hiddens))\n",
    "\t\tself.attention_weights = [None] * len(self.blks) # create a attention weight list to hold attention weights at each block\n",
    "\t\tfor i, blk in enumerate(self.blks):\n",
    "\t\t\tX = blk(X, valid_lens)\n",
    "\t\t\tself.attention_weights[i] = blk.attention.attention.attention_weights # the actual attention weights is stored in the ScaledDotAttention\n",
    "\t\t\n",
    "\t\treturn X"
   ]
  },
  {
   "cell_type": "markdown",
   "metadata": {},
   "source": [
    "#### Decoder"
   ]
  },
  {
   "cell_type": "code",
   "execution_count": 16,
   "metadata": {},
   "outputs": [],
   "source": [
    "# self.i stores all previous representations\n",
    "\n",
    "class DecoderBlock(nn.Module):\n",
    "\t\"\"\"The ith decoder block\"\"\"\n",
    "\tdef __init__(self, key_size, query_size, value_size, num_hiddens, norm_shape, ffn_num_input, ffn_num_hiddens, num_heads, dropout, i, **kwargs):\n",
    "\t\tsuper(DecoderBlock, self).__init__(**kwargs)\n",
    "\t\tself.i = i\n",
    "\t\tself.attention1 = MultiHeadAttention(key_size=key_size, query_size=query_size, value_size=value_size, num_hiddens=num_hiddens, num_heads=num_heads, dropout=dropout)\n",
    "\t\tself.addnorm1 = AddNorm(norm_shape, dropout)\n",
    "\t\tself.attention2 = MultiHeadAttention(key_size=key_size, query_size=query_size, value_size=value_size, num_hiddens=num_hiddens, num_heads=num_heads, dropout=dropout)\n",
    "\t\tself.addnorm2 = AddNorm(norm_shape, dropout)\n",
    "\t\tself.ffn = PositionWiseFFN(ffn_num_input, ffn_num_hiddens, num_hiddens)\n",
    "\t\tself.addnorm3 = AddNorm(norm_shape, dropout)\n",
    "\n",
    "\tdef forward(self, X, state):\n",
    "\t\t# state: (encoder_output, encoder_valid_len, some info)\n",
    "\t\tenc_outputs, enc_valid_lens = state[0], state[1]\n",
    "\t\t\n",
    "\t\tbatch_size, num_steps, _ = X.shape # (batch_size, previous_timesteps, hidden_dimension)\n",
    "\t\tdec_valid_lens = torch.arange(1, num_steps + 1, device=X.device).repeat(batch_size, 1) # repeat to size (2, 1), this specifies how we mask each row in each minibatch\n",
    "\t\t\n",
    "\t\t# main model\n",
    "\t\t# q, k, v as defined\n",
    "\t\tX2 = self.attention1(X, X, X, dec_valid_lens) # training: all X, but we mask all after, prediction: queries=current timestep repr, keys_values, all previous \n",
    "\t\tY = self.addnorm1(X, X2)\n",
    "\t\tY2 = self.attention2(Y, enc_outputs, enc_outputs, enc_valid_lens) # in the case encoder is masked \n",
    "\t\tZ = self.addnorm2(Y, Y2)\n",
    "\n",
    "\t\treturn self.addnorm3(Z, self.ffn(Z)), state # state here is passed as it was \n",
    "\n",
    "\t# some additional notes: \n",
    "\t# decoder consists of 2 functionality: training and prediction \n",
    "\n",
    "\t# during training: we use the whole sequence but mask attention weights\n",
    "\t# The attention weights matrix has dimension (q, k) -- the second query will only get acess to the first 2 key\n",
    "\t# state[2] is [None]\n",
    "\n",
    "\t# during prediction: we only have current embedding -- 1 query \n",
    "\t# the key-values combine current and all previous key-valuee to search for -- decoder self attention "
   ]
  },
  {
   "cell_type": "markdown",
   "metadata": {},
   "source": [
    "#### Transformer Decoder"
   ]
  },
  {
   "cell_type": "code",
   "execution_count": 17,
   "metadata": {},
   "outputs": [],
   "source": [
    "class TransformerDecoder(d2l.AttentionDecoder):\n",
    "\n",
    "\tdef __init__(self, vocab_size,  key_size, query_size, value_size, num_hiddens, norm_shape, ffn_num_input, ffn_num_hiddens, num_heads, num_layers, dropout, **kwargs):\n",
    "\t\tsuper(TransformerDecoder, self).__init__(**kwargs)\n",
    "\t\tself.num_hiddens = num_hiddens\n",
    "\t\tself.num_layers = num_layers\n",
    "\t\tself.embedding = nn.Embedding(vocab_size, num_hiddens)\n",
    "\t\tself.pos_encoding = PositionalEncoding(num_hiddens, dropout)\n",
    "\t\tself.blks = nn.Sequential()\n",
    "\t\tfor i in range(num_layers):\n",
    "\t\t\tself.blks.add_module(\"block\"+str(i), DecoderBlock(key_size, query_size, value_size, num_hiddens, norm_shape, ffn_num_input, ffn_num_hiddens, num_heads, dropout, i))\n",
    "\t\tself.dense = nn.Linear(num_hiddens, vocab_size)\n",
    "\t\t# prediction: we have (1, num_hiddens) --> (1, num_vocab_size)\n",
    "\n",
    "\tdef init_state(self, enc_outputs, enc_valid_lens, *args):\n",
    "\t\tself.seqX = None\n",
    "\t\treturn [enc_outputs, enc_valid_lens]\n",
    "\n",
    "\tdef forward(self, X, state):\n",
    "\n",
    "\t\tif not self.training:\n",
    "\t\t\tif self.seqX is None:\n",
    "\t\t\t\tself.seqX = X\n",
    "\t\t\telse:\n",
    "\t\t\t\tself.seqX = torch.cat((self.seqX, X), dim=1)\n",
    "\t\t\tX = self.seqX\n",
    "\n",
    "\t\tX = self.pos_encoding(self.embedding(X) * math.sqrt(self.num_hiddens))\n",
    "\t\tself._attention_weights = [[None] * len(self.blks) for _ in range(2)] # here we record attention from 2 attention module (2, i)\n",
    "\t\t\n",
    "\t\tfor i, blk in enumerate(self.blks):\n",
    "\n",
    "\t\t\tX, state = blk(X, state)\n",
    "\t\t\t# Decoder self-attention weights\n",
    "\t\t\tself._attention_weights[0][i] = blk.attention1.attention.attention_weights\n",
    "\t\t\t# Encoder-decoder attention weights\n",
    "\t\t\tself._attention_weights[1][i] = blk.attention2.attention.attention_weights\n",
    "\t\t\n",
    "\t\tif not self.training:\n",
    "\t\t\treturn self.dense(X)[:, -1:, :], state\n",
    "\t\t\n",
    "\t\treturn self.dense(X), state\n",
    "\n",
    "\tdef attention_weights(self):\n",
    "\t\treturn self._attention_weights"
   ]
  },
  {
   "cell_type": "markdown",
   "metadata": {},
   "source": [
    "#### Encoder to Decoder architecture"
   ]
  },
  {
   "cell_type": "code",
   "execution_count": 18,
   "metadata": {},
   "outputs": [],
   "source": [
    "class EncoderDecoder(nn.Module):\n",
    "    \"\"\"The base class for the encoder-decoder architecture.\"\"\"\n",
    "    def __init__(self, encoder, decoder, **kwargs):\n",
    "        super(EncoderDecoder, self).__init__(**kwargs)\n",
    "        self.encoder = encoder\n",
    "        self.decoder = decoder\n",
    "\n",
    "    def forward(self, enc_X, dec_X, *args):\n",
    "        enc_outputs = self.encoder(enc_X, *args)  # feature representation from encoder\n",
    "        dec_state = self.decoder.init_state(enc_outputs, *args) # use the feature representation from encoder to process a decoder init: (training--None), (prediction -- previous important information)\n",
    "        return self.decoder(dec_X, dec_state)"
   ]
  },
  {
   "cell_type": "markdown",
   "metadata": {},
   "source": [
    "#### The softmax cross-entropy loss with mask"
   ]
  },
  {
   "cell_type": "code",
   "execution_count": 19,
   "metadata": {},
   "outputs": [],
   "source": [
    "class MaskedSoftmaxCELoss(nn.CrossEntropyLoss):\n",
    "\t\"\"\"The softmax cross-entropy loss with masks.\"\"\"\n",
    "\t# 'pred' shape: ('batch_size', 'num_steps', 'vocab_size')  ---> shape should be (0, 2, 1)\n",
    "\t# 'label' shape: ('batch_size', num_steps) --- each number is a number between 0 and vocab_size/prob\n",
    "\t# 'valid_len' shape: ('batch_size', )\n",
    "\n",
    "\t# \"none\" return same shape as 'label'\n",
    "\t\n",
    "\t# num_steps have to be the same \n",
    "\t# during training, our labeled/pred length can be very long. We can restrict the length of each batch.\n",
    "\t# we ignore the irrelevant part\n",
    "\tdef forward(self, pred, label, valid_len, sample_weights, label_smoothing):\n",
    "\t\tmasks = torch.ones_like(label)\n",
    "\t\tmasks = sequence_mask(masks, valid_len)\n",
    "\t\tself.reduction = 'none'\n",
    "\t\tself.label_smoothing = label_smoothing\n",
    "\t\tunmaskeded_loss = super(MaskedSoftmaxCELoss, self).forward(pred.permute(0, 2, 1), label)\n",
    "\t\tmasked_loss = (unmaskeded_loss * masks).mean(dim=1) # mean of each batch along num_steps\n",
    "\n",
    "\t\tweighted_masked_loss = masked_loss * sample_weights\n",
    "\t\tweighted_average_masked_loss = weighted_masked_loss.sum() / sample_weights.sum()  # weighted average across batch\n",
    "\t\treturn weighted_average_masked_loss"
   ]
  },
  {
   "cell_type": "markdown",
   "metadata": {},
   "source": [
    "#### Hamming distance"
   ]
  },
  {
   "cell_type": "code",
   "execution_count": 20,
   "metadata": {},
   "outputs": [],
   "source": [
    "def hamming_distance_training(seq_pred, seq_true):\n",
    "\t\"\"\"Return the Hamming distancefor training between 2 equal lists of equal-length sequences(list of number).\"\"\"\n",
    "\t\n",
    "\thd_list = [(x!=y).sum() for x, y in zip(seq_pred, seq_true)]\n",
    "\n",
    "\treturn torch.sum(torch.stack(hd_list))\n"
   ]
  },
  {
   "cell_type": "code",
   "execution_count": 21,
   "metadata": {},
   "outputs": [],
   "source": [
    "def hamming_distance_sum(seq_pred, seq_true):\n",
    "\t\"\"\"Return the Hamming distance sum between 2 equal list of equal-length sequences(list of amino sequences).\"\"\"\n",
    "\n",
    "\thd_list = [sum(np.array(list(x))!=np.array(list(y))) for x, y in zip(seq_pred, seq_true)]\n",
    "\n",
    "\treturn sum(hd_list)"
   ]
  },
  {
   "cell_type": "code",
   "execution_count": 22,
   "metadata": {},
   "outputs": [],
   "source": [
    "def hamming_distance_list(seq_pred, seq_true):\n",
    "\t\"\"\"Return the Hamming distance list between 2 equal list of equal-length sequences(list of amino sequences).\"\"\"\n",
    "\n",
    "\thd_list = [sum(np.array(list(x))!=np.array(list(y))) for x, y in zip(seq_pred, seq_true)]\n",
    "\n",
    "\treturn hd_list"
   ]
  },
  {
   "cell_type": "markdown",
   "metadata": {},
   "source": [
    "#### Transformer training"
   ]
  },
  {
   "cell_type": "code",
   "execution_count": 23,
   "metadata": {},
   "outputs": [],
   "source": [
    "# input: list of training target sequences, list of training complementary peptides \n",
    "\n",
    "def preprocess_train(X_train_letter, Y_train_letter, amino_dict, num_steps, X_validation_letter=None, Y_validation_letter=None):\n",
    "\n",
    "\tX_train_letter_split = [list(sequence) for sequence in X_train_letter]\n",
    "\tY_train_letter_split = [list(sequence) for sequence in Y_train_letter]\n",
    "\n",
    "\tX_train_unpad= [[amino_dict[letter] for letter in sequence] + [amino_dict['<eos>']] for sequence in X_train_letter_split]\n",
    "\tY_train_unpad = [[amino_dict[letter] for letter in sequence] + [amino_dict['<eos>']] for sequence in Y_train_letter_split]\n",
    "\n",
    "\tX_valid_len = torch.tensor([len(sequence) for sequence in X_train_unpad])\n",
    "\tY_valid_len = torch.tensor([len(sequence) for sequence in Y_train_unpad])\n",
    "\n",
    "\tX_train = torch.tensor([d2l.truncate_pad(sequence, num_steps, amino_dict['<pad>']) for sequence in X_train_unpad])\n",
    "\tY_train = torch.tensor([d2l.truncate_pad(sequence, num_steps, amino_dict['<pad>']) for sequence in Y_train_unpad])\n",
    "\t# 2 more space for bos and eos \n",
    "\n",
    "\tif X_validation_letter is not None:\n",
    "\n",
    "\t\tX_validation_letter_split = [list(sequence) for sequence in X_validation_letter]\n",
    "\t\tY_validation_letter_split = [list(sequence) for sequence in Y_validation_letter]\n",
    "\n",
    "\t\tX_validation_unpad= [[amino_dict[letter] for letter in sequence] + [amino_dict['<eos>']] for sequence in X_validation_letter_split]\n",
    "\t\tY_validation_unpad = [[amino_dict[letter] for letter in sequence] + [amino_dict['<eos>']] for sequence in Y_validation_letter_split]\n",
    "\n",
    "\t\tX_validation_valid_len = torch.tensor([len(sequence) for sequence in X_validation_unpad])\n",
    "\t\tY_validation_valid_len = torch.tensor([len(sequence) for sequence in Y_validation_unpad])\n",
    "\n",
    "\t\tX_validation = torch.tensor([d2l.truncate_pad(sequence, num_steps, amino_dict['<pad>']) for sequence in X_validation_unpad])\n",
    "\t\tY_validation = torch.tensor([d2l.truncate_pad(sequence, num_steps, amino_dict['<pad>']) for sequence in Y_validation_unpad])\n",
    "\t\t\n",
    "\t\treturn X_train, X_valid_len, Y_train, Y_valid_len, X_validation, X_validation_valid_len, Y_validation, Y_validation_valid_len\n",
    "\n",
    "\treturn X_train, X_valid_len, Y_train, Y_valid_len"
   ]
  },
  {
   "cell_type": "code",
   "execution_count": 24,
   "metadata": {},
   "outputs": [],
   "source": [
    "# Here we enforce the first word <bos>\n",
    "\n",
    "def train_seq2seq(net, X_train, X_valid_len, Y_train, Y_valid_len, sample_weights, lr, num_epochs, batch_size, label_smoothing, amino_dict, device, warmup=1, model_name = 'model_demo', X_validation=None, X_validation_valid_len=None, Y_validation=None, Y_validation_valid_len=None):\n",
    "\t\"\"\"Train a model for sequence to sequence.\"\"\"\n",
    "\n",
    "\tdef init_weights(module):\n",
    "\t\tif isinstance(module, (nn.Linear)):\n",
    "\t\t\tnn.init.normal_(module.weight, mean=0.0, std=0.01) # I always use 0.01 instead of 0.02\n",
    "\t\tif isinstance(module, (nn.Embedding)):\n",
    "\t\t\tnn.init.normal_(module.weight, mean=0.0, std=1e-5) # tiny values, instead of 0.01\n",
    "\n",
    "\tnet.apply(init_weights)\n",
    "\tnet.to(device)\n",
    "\toptimizer = torch.optim.Adam(net.parameters(), lr=lr, betas=(0.9, 0.98), eps = 1.0e-9)\n",
    "\tscheduler = torch.optim.lr_scheduler.LinearLR(optimizer, total_iters=warmup, start_factor=1/warmup)\n",
    "\tloss = MaskedSoftmaxCELoss()\n",
    "\tnet.train()\n",
    "\n",
    "\tanimator = d2l.Animator(xlabel='epoch', ylabel='loss')\n",
    "\ttraining_loss = []\n",
    "\tvalidation_score = []\n",
    "\n",
    "\n",
    "\tfor epoch in range(num_epochs):\n",
    "\t\t\n",
    "\t\t# training step\n",
    "\t\tnet.train()\n",
    "\n",
    "\t\ttimer = d2l.Timer()\n",
    "\t\tmetric = d2l.Accumulator(2)  # Sum of training loss, no. of tokens\n",
    "\n",
    "\t\t# random shuffle\n",
    "\t\tindex = torch.randperm(X_train.shape[0])\n",
    "\t\tX_train_shuffled = X_train[index]\n",
    "\t\tX_valid_len_shuffled = X_valid_len[index]\n",
    "\t\tY_train_shuffled = Y_train[index]\n",
    "\t\tY_valid_len_shuffled = Y_valid_len[index]\n",
    "\t\tsample_weights_shuffled = sample_weights[index]\n",
    "\n",
    "\t\t# batch operation at each epoch\n",
    "\t\tX_train_batch = torch.split(X_train_shuffled, batch_size)\n",
    "\t\tX_valid_len_batch = torch.split(X_valid_len_shuffled, batch_size)\n",
    "\t\tY_train_batch = torch.split(Y_train_shuffled, batch_size)\n",
    "\t\tY_valid_len_batch = torch.split(Y_valid_len_shuffled, batch_size)\n",
    "\t\tsample_weights_batch = torch.split(sample_weights_shuffled, batch_size)\n",
    "\n",
    "\n",
    "\n",
    "\t\tfor batch in zip(X_train_batch, X_valid_len_batch, Y_train_batch, Y_valid_len_batch, sample_weights_batch):\n",
    "\t\t\t\n",
    "\t\t\toptimizer.zero_grad()\n",
    "\t\t\tX_train_minibatch, X_valid_len_minibatch, Y_train_minibatch, Y_valid_len_minibatch, sample_weights_minibatch = [x.to(device) for x in batch]\n",
    "\t\t\tbos = torch.tensor([amino_dict['<bos>']] * Y_train_minibatch.shape[0],\n",
    "\t\t\t\t\t\t\t\tdevice=device).reshape(-1, 1)\n",
    "\t\t\tdec_input = torch.cat([bos, Y_train_minibatch[:, :-1]], 1)  # Teacher forcing -------> the first word at all batch is <bos>\n",
    "\t\t\t\n",
    "\t\t\tY_hat, _ = net(X_train_minibatch, dec_input, X_valid_len_minibatch)\n",
    "\t\t\tl = loss(Y_hat, Y_train_minibatch, Y_valid_len_minibatch, sample_weights_minibatch, label_smoothing)\n",
    "\t\t\tl.backward()  # l is loss per token\n",
    "\t\t\td2l.grad_clipping(net, 1)\n",
    "\t\t\tnum_tokens = Y_valid_len_minibatch.sum()\n",
    "\t\t\toptimizer.step()\n",
    "\t\t\tscheduler.step()\n",
    "\t\t\twith torch.no_grad():\n",
    "\t\t\t\tmetric.add(l*num_tokens, num_tokens) # loss per batch, num_tokens per batch\n",
    "\n",
    "\t\t# print + save training loss at each epoch\n",
    "\t\tanimator.add(epoch + 1, (metric[0] / metric[1],))\n",
    "\t\ttraining_loss.append(metric[0] / metric[1])\n",
    "\t\tprint(\"epoch {}, loss: {}\".format(epoch+1, metric[0] / metric[1]))\n",
    "\n",
    "\t\t# evaluation step:\n",
    "\t\tif X_validation is not None:\n",
    "\t\t\tnet.eval()\n",
    "\n",
    "\t\t\twith torch.no_grad():\n",
    "\t\t\t\t# set device\n",
    "\t\t\t\tsoftmax_layer = nn.Softmax(dim=2)\n",
    "\t\t\t\tX_validation = X_validation.to(device)\n",
    "\t\t\t\tX_validation_valid_len = X_validation_valid_len.to(device)\n",
    "\t\t\t\tY_validation = Y_validation.to(device)\n",
    "\t\t\t\tY_validation_valid_len = Y_validation_valid_len.to(device)\n",
    "\n",
    "\t\t\t\t# teacher force Y_truth\n",
    "\t\t\t\tbos = torch.tensor([amino_dict['<bos>']] * Y_validation.shape[0],\n",
    "\t\t\t\t\t\t\t\t\tdevice=device).reshape(-1, 1)\n",
    "\t\t\t\tY_true = torch.cat([bos, Y_validation[:, :-1]], 1)  # Teacher forcing -------> the first word at all batch is <bos> + keep total length same\n",
    "\t\t\t\tY_true = Y_true.type(torch.int32)\n",
    "\n",
    "\t\t\t\t# construct Y_pred\n",
    "\t\t\t\tenc_outputs = net.encoder(X_validation, X_validation_valid_len) # encoder only use X infomation\n",
    "\t\t\t\tdec_state = net.decoder.init_state(enc_outputs, X_validation_valid_len)\n",
    "\n",
    "\t\t\t\tdec_X = torch.tensor([amino_dict['<bos>']] * X_validation.shape[0],\n",
    "\t\t\t\t\t\t\t\t\tdevice=device).reshape(-1, 1) # only use info from X\n",
    "\n",
    "\t\t\t\tfor i in range(Y_validation.shape[1]-1): # here we have <bos> in pos 0\n",
    "\n",
    "\t\t\t\t\t\tY_raw, dec_state = net.decoder(dec_X, dec_state)\n",
    "\n",
    "\t\t\t\t\t\t# apply softmax to the output\n",
    "\t\t\t\t\t\tY = softmax_layer(Y_raw)\n",
    "\n",
    "\t\t\t\t\t\t# We use the token with the highest prediction likelihood as the input\n",
    "\t\t\t\t\t\t# of the decoder at the next time step\n",
    "\t\t\t\t\t\tdec_X = Y.argmax(dim=2)\n",
    "\t\t\t\t\t\tY_pred = dec_X.type(torch.int32) # (batch, 1)\n",
    "\n",
    "\t\t\t\t\t\t# we fill in prediction and do not stop\n",
    "\n",
    "\t\t\t\t# concatenate last prediction with previous ones saved by the model\n",
    "\t\t\t\tY_pred = torch.cat((net.decoder.seqX, dec_X), dim=1).type(torch.int32)\n",
    "\t\t\t\t\n",
    "\t\t\t\t# evaluate + print + save validation metric at each epoch\n",
    "\t\t\t\thamming_scores = hamming_distance_training(Y_pred, Y_true)\n",
    "\t\t\t\tvalidation_score.append(hamming_scores.cpu().numpy())\n",
    "\t\t\t\tprint(\"epoch {}, hamming distance: {}\".format(epoch+1,hamming_scores))\n",
    "\n",
    "\n",
    "\t# print useful info after all\n",
    "\tprint(f'loss {metric[0] / metric[1]:.3f}, {metric[1] / timer.stop():.1f} tokens/sec on {str(device)}')\n",
    "\n",
    "\n",
    "\t# save training loss plot\n",
    "\tplt.figure(figsize=(12, 8), facecolor=(1, 1, 1))\n",
    "\tx = list(range(1, num_epochs+1))\n",
    "\tfile_time = time.strftime('%y%b%d_%I%M%p', time.gmtime())\n",
    "\tplt.plot(x,training_loss,label=\"weighted_average_loss\")\n",
    "\tplt.xlabel('Epochs')\n",
    "\tplt.ylabel('Weighted average loss')\n",
    "\tplt.title(\"transformer <{}> training loss\".format(model_name))\n",
    "\tplt.grid()\n",
    "\tplt.legend()\n",
    "\tplt.savefig('{}_lossplot_{}.png'.format(model_name, file_time))\n",
    "\n",
    "\t# save validation metic plot\n",
    "\tplt.figure(figsize=(12, 8), facecolor=(1, 1, 1))\n",
    "\tx = list(range(1, num_epochs+1))\n",
    "\tplt.plot(x,validation_score,label=\"hamming_distance\")\n",
    "\tplt.xlabel('Epochs')\n",
    "\tplt.ylabel('Hamming distance sum')\n",
    "\tplt.title(\"transformer <{}> validation scores\".format(model_name))\n",
    "\tplt.grid()\n",
    "\tplt.legend()\n",
    "\tplt.savefig('{}_validationplot_{}.png'.format(model_name, file_time))\n",
    "\t\n",
    "\n",
    "\t# save model weights\n",
    "\t#file_time = time.strftime('%y%b%d_%I%M%p', time.gmtime())\n",
    "\tfile_name = model_name + '_' + file_time\n",
    "\n",
    "\ttorch.save(net.state_dict(), file_name)\n",
    "\t#pickle.dump(net, open(file_name, \"wb\"))"
   ]
  },
  {
   "cell_type": "code",
   "execution_count": 25,
   "metadata": {},
   "outputs": [],
   "source": [
    "# some notes about validation implementation\n",
    "\n",
    "# example: X_validation and Y_validation input has to be design to hold equal length sequence + <bos> + <eos>: \n",
    "# in this case: 8+1+1\n",
    "\n",
    "# total possible missmatch is num_steps*batch: 10*5000"
   ]
  },
  {
   "cell_type": "markdown",
   "metadata": {},
   "source": [
    "#### Transformer prediction"
   ]
  },
  {
   "cell_type": "code",
   "execution_count": 26,
   "metadata": {},
   "outputs": [],
   "source": [
    "# function to return key for any value\n",
    "\n",
    "def get_key(val, my_dict):\n",
    "    for key, value in my_dict.items():\n",
    "         if val == value:\n",
    "             return key\n",
    " \n",
    "    return \"key doesn't exist\""
   ]
  },
  {
   "cell_type": "code",
   "execution_count": 27,
   "metadata": {},
   "outputs": [],
   "source": [
    "# greedy single prediction with attention weights saved\n",
    "def predict_greedy_single(net, target_sequence_raw, amino_dict, num_steps, device, save_attention_weights=False, print_info=False):\n",
    "\t\"\"\"Predict for sequence to sequence.\"\"\"\n",
    "\n",
    "\tsoftmax_layer = nn.Softmax(dim=2)\n",
    "\ttarget_sequence = list(target_sequence_raw) # 'AEAG' -----------> ['A', 'E', 'A', 'G']\n",
    "\t\n",
    "\t# Set `net` to eval mode for inference\n",
    "\tnet.eval()\n",
    "\ttarget_sequence_unpad = [amino_dict[letter] for letter in target_sequence] + [amino_dict['<eos>']]\n",
    "\ttarget_valid_len = torch.tensor([len(target_sequence_unpad)], dtype=torch.long, device=device)\n",
    "\ttarget_sequence = d2l.truncate_pad(target_sequence_unpad, num_steps, amino_dict['<pad>'])\n",
    "\n",
    "\t# add batch to axis\n",
    "\ttarget_sequence_batch = torch.unsqueeze(torch.tensor(target_sequence, dtype=torch.long, device=device), dim=0)\n",
    "\n",
    "\tenc_outputs = net.encoder(target_sequence_batch, target_valid_len)\n",
    "\tdec_state = net.decoder.init_state(enc_outputs, target_valid_len)\n",
    "\n",
    "\t# add batch to axis\n",
    "\tdec_X = torch.unsqueeze(torch.tensor([amino_dict['<bos>']], dtype=torch.long, device=device), dim=0)\n",
    "\toutput_seq, attention_weight_seq = [], []\n",
    "\n",
    "\t# track probability\n",
    "\tprob = 1\n",
    "\n",
    "\tfor i in range(num_steps):\n",
    "\n",
    "\t\tY_raw, dec_state = net.decoder(dec_X, dec_state)\n",
    "\n",
    "\t\t# apply softmax to the output\n",
    "\t\tY = softmax_layer(Y_raw)\n",
    "\n",
    "\t\t# We use the token with the highest prediction likelihood as the input\n",
    "\t\t# of the decoder at the next time step\n",
    "\t\tdec_X = Y.argmax(dim=2)\n",
    "\t\tpred = dec_X.squeeze(dim=0).type(torch.int32).item()\n",
    "\n",
    "\t\t# track proba\n",
    "\t\tprob_i = torch.max(Y, dim=2).values.squeeze(dim=0).type(torch.float32).item()\n",
    "\t\tprob *= prob_i\n",
    "\n",
    "\t\tif print_info == True:\n",
    "\t\t\tprint(\"Conditional probability at position {} is {}\".format(i+1, prob_i))\n",
    "\n",
    "\t\t# Save attention weights (to be covered later)\n",
    "\t\tif save_attention_weights:\n",
    "\t\t\tattention_weight_seq.append(net.decoder.attention_weights())\n",
    "\t\t# Once the end-of-sequence token is predicted, the generation of the\n",
    "\t\t# output sequence is complete\n",
    "\t\tif pred == amino_dict['<eos>']:\n",
    "\t\t\tbreak\n",
    "\t\toutput_seq.append(pred) # do not append last token\n",
    "\n",
    "\tcomple_peptide_pred = \"\".join([get_key(number, amino_dict) for number in output_seq])\n",
    "\n",
    "\t# print info \n",
    "\tif print_info == True:\n",
    "\t\tprint('Input target sequence is {}, predicted complementary peptide is {}'.format(target_sequence_raw, comple_peptide_pred))\n",
    "\t\tprint(\"Condition on input, predicted probability is {}\".format(prob))\n",
    "\n",
    "\treturn comple_peptide_pred, prob, attention_weight_seq"
   ]
  },
  {
   "cell_type": "code",
   "execution_count": 28,
   "metadata": {},
   "outputs": [],
   "source": [
    "# greedy batch prediction (equal length target)\n",
    "# num_step chosen to be appropriate avoid unnecessary computational cost and correct final prediction -- prediction length + 1 + 1\n",
    "# prob includes <eos> position\n",
    "def predict_greedy_batch(net, target_sequence_list, amino_dict, num_steps, device):\n",
    "\t\"\"\"Predict for lists of target sequence to lists of complementary peptides sequence.\"\"\"\n",
    "\n",
    "\t# Set `net` to eval mode for inference\n",
    "\tnet.eval()\n",
    "\tsoftmax_layer = nn.Softmax(dim=2)\n",
    "\n",
    "\t# Preprocess batched target sequence list   \n",
    "\ttarget_sequence_list_split = [list(sequence) for sequence in target_sequence_list]\n",
    "\ttarget_sequence_unpad= [[amino_dict[letter] for letter in sequence] + [amino_dict['<eos>']] for sequence in target_sequence_list_split]\n",
    "\ttarget_valid_len = torch.tensor([len(sequence) for sequence in target_sequence_unpad], dtype=torch.long, device=device)\n",
    "\ttarget_sequence_batch = torch.tensor([d2l.truncate_pad(sequence, num_steps, amino_dict['<pad>']) for sequence in target_sequence_unpad], dtype=torch.long, device=device)\n",
    "\n",
    "\t# Encode target data\n",
    "\tenc_outputs = net.encoder(target_sequence_batch, target_valid_len)\n",
    "\tdec_state = net.decoder.init_state(enc_outputs, target_valid_len)\n",
    "\n",
    "\t# teacher enforce first \n",
    "\tdec_X = torch.tensor([amino_dict['<bos>']] * target_sequence_batch.shape[0], device=device).reshape(-1, 1) # only use info from X\n",
    "\t\n",
    "\t# track probability\n",
    "\tprob = torch.tensor([1] * target_sequence_batch.shape[0], device=device).reshape(-1, 1)\n",
    "\n",
    "\tfor i in range(num_steps-1): # here we have <bos> in pos 0\n",
    "\n",
    "\t\t\tY_raw, dec_state = net.decoder(dec_X, dec_state)\n",
    "\n",
    "\t\t\t# apply softmax to the output\n",
    "\t\t\tY = softmax_layer(Y_raw)\n",
    "\n",
    "\t\t\t# We use the token with the highest prediction likelihood as the input\n",
    "\t\t\t# of the decoder at the next time step\n",
    "\t\t\tdec_X = Y.argmax(dim=2)\n",
    "\t\t\tY_pred = dec_X.type(torch.int32) # (batch, 1)\n",
    "\n",
    "\t\t\t# track prob\n",
    "\t\t\tprob_i = torch.max(Y, dim=2).values.squeeze(dim=0)\n",
    "\t\t\tprob = torch.mul(prob, prob_i)\n",
    "\n",
    "\t\t\t# we fill in prediction and do not stop\n",
    "\n",
    "\t# concatenate last prediction with previous ones saved by the model\n",
    "\tY_pred = torch.cat((net.decoder.seqX, dec_X), dim=1).type(torch.int32)\n",
    "\n",
    "\t# join all prediction string back \n",
    "\tcomple_peptide_pred = [\"\".join([get_key(number, amino_dict) for number in output_seq]) for output_seq in Y_pred[:, 1:-1]]\n",
    "\n",
    "\t# put info together \n",
    "\tfinal = zip(target_sequence_list, comple_peptide_pred, prob.reshape(-1).tolist())\n",
    "\treturn np.array(list(final)) # to print zip object"
   ]
  },
  {
   "cell_type": "code",
   "execution_count": 29,
   "metadata": {},
   "outputs": [],
   "source": [
    "# Given one target sequence, sample a list of unique probable candidates\n",
    "# 2 common reasons: select a few less good candidates or select one better than greedy\n",
    "# 2 common uses: sample a large number if enough memory (not recommended) or select a small number but repeat frequently\n",
    "# note: repeatation is possible since last token not shown or rounding error\n",
    "\n",
    "def unique(x, dim=None):\n",
    "    \"\"\"Unique elements of x and indices of those unique elements\"\"\"\n",
    "    unique, inverse = torch.unique(\n",
    "        x, sorted=True, return_inverse=True, dim=dim)\n",
    "    perm = torch.arange(inverse.size(0), dtype=inverse.dtype,\n",
    "                        device=inverse.device)\n",
    "    inverse, perm = inverse.flip([0]), perm.flip([0])\n",
    "    return unique, inverse.new_empty(unique.size(0)).scatter_(0, inverse, perm)\n",
    "\n",
    "\n",
    "def sample_candidates(net, target_sequence_raw, num_candidates, amino_dict, num_steps, device, max_iter=100):\n",
    "\t\"\"\"Given one target sequence, sample a list of unique probable candidates.\"\"\"\n",
    "\n",
    "\t# extract special tokens to remove\n",
    "\tbos = amino_dict['<bos>']\n",
    "\teos = amino_dict['<eos>']\n",
    "\tpad = amino_dict['<pad>']\n",
    "\tunk = amino_dict['<unk>']\n",
    "\t\n",
    "\t# Set `net` to eval mode for inference\n",
    "\tnet.eval()\n",
    "\tsoftmax_layer = nn.Softmax(dim=2)\n",
    "\ttarget_sequence = list(target_sequence_raw)\n",
    "\n",
    "\t# num_remaining to produce\n",
    "\tnum_remaining = num_candidates\n",
    "\n",
    "\t# track pred and prob \n",
    "\tY_pred_track = torch.tensor([1] *(num_steps-2), device=device, dtype=torch.int32).reshape(1, -1) # track all other than <eos> and <bos>\n",
    "\tprob_track = torch.tensor([1], device=device, dtype=torch.long).reshape(1, 1) # only use info from X\n",
    "\n",
    "\t# move out for stability\n",
    "\ttarget_sequence_unpad = [amino_dict[letter] for letter in target_sequence] + [amino_dict['<eos>']]\n",
    "\n",
    "\t# track total number \n",
    "\tsamples_total = 0\n",
    "\n",
    "\tfor j in range(max_iter):\n",
    "\n",
    "\t\t# Preprocess batched target sequence\n",
    "\t\ttarget_valid_len = torch.tensor([len(target_sequence_unpad)], dtype=torch.long, device=device).repeat_interleave(num_remaining*2)\n",
    "\t\ttarget_sequence = torch.tensor(d2l.truncate_pad(target_sequence_unpad, num_steps, amino_dict['<pad>']), dtype=torch.long, device=device)\n",
    "\t\ttarget_sequence_batch = target_sequence.repeat(num_remaining*2, 1)\n",
    "\n",
    "\t\t# Encode target data\n",
    "\t\tenc_outputs = net.encoder(target_sequence_batch, target_valid_len)\n",
    "\t\tdec_state = net.decoder.init_state(enc_outputs, target_valid_len)\n",
    "\n",
    "\t\t# teacher enforce first \n",
    "\t\tdec_X = torch.tensor([amino_dict['<bos>']] * target_sequence_batch.shape[0], device=device).reshape(-1, 1) # only use info from X\n",
    "\t\t\n",
    "\t\t# track probability\n",
    "\t\tprob = torch.tensor([1] * target_sequence_batch.shape[0], dtype = torch.long, device=device).reshape(-1, 1)\n",
    "\n",
    "\n",
    "\t\tfor i in range(num_steps-2): # here we have <bos> in pos 0 and <eos> in pos -1\n",
    "\n",
    "\t\t\t\tY_raw, dec_state = net.decoder(dec_X, dec_state)\n",
    "\n",
    "\t\t\t\t# apply softmax to the output\n",
    "\t\t\t\tY = softmax_layer(Y_raw)\n",
    "\n",
    "\t\t\t\t# We sample a token from the probability distribution as the input\n",
    "\t\t\t\t# of the decoder at the next time step\n",
    "\t\t\t\t\n",
    "\t\t\t\tm = Categorical(probs=Y)\n",
    "\t\t\t\tdec_X = m.sample()\n",
    "\t\t\t\tY_pred = dec_X.type(torch.int32) # (batch, 1)\n",
    "\t\t\t\t\n",
    "\t\t\t\tindex = Y_pred.type(torch.int64)\n",
    "\t\t\t\t# track prob\n",
    "\t\t\t\tprob_i = torch.gather(Y, dim=2, index = index.unsqueeze(dim=2))\n",
    "\t\t\t\tprob_i = prob_i.squeeze(dim=2).squeeze(dim=0)\n",
    "\t\t\t\tprob = torch.mul(prob, prob_i)\n",
    "\n",
    "\t\t\t\t# we fill in prediction and do not stop for seq \n",
    "\t\t\t\t\n",
    "\t\t# concatenate last prediction with previous ones saved by the model\n",
    "\t\tY_pred = torch.cat((net.decoder.seqX, dec_X), dim=1).type(torch.int32)\n",
    "\t\tsamples_total += Y_pred.shape[0]\n",
    "\n",
    "\t\t# multiply prob for <eos> to be consistent -- go through one more time and take max\n",
    "\t\tY_raw, dec_state = net.decoder(dec_X, dec_state)\n",
    "\t\tY = softmax_layer(Y_raw)\n",
    "\t\tprob_i = torch.max(Y, dim=2).values.squeeze(dim=0)\n",
    "\t\tprob = torch.mul(prob, prob_i)\n",
    "\n",
    "\t\t# keep track\n",
    "\t\tY_pred = Y_pred[:, 1:] # remove <bos>\n",
    "\t\tY_pred_track = torch.cat((Y_pred_track, Y_pred), dim=0)\n",
    "\t\tprob_track = torch.cat((prob_track, prob), dim=0)\n",
    "\n",
    "\t\t# remove the track first rows\n",
    "\t\tif j==0:\n",
    "\t\t\tY_pred_track = Y_pred_track[1:, :]\n",
    "\t\t\tprob_track = prob_track[1:, :]\n",
    "\n",
    "\t\t# uniqueness check for the main track\n",
    "\t\tY_pred_track, unique_indices = unique(Y_pred_track, dim=0)\n",
    "\t\tprob_track = prob_track[unique_indices] # sequential undate prob track \n",
    "\t\t\n",
    "\t\t# remove the sequences containing special tokens\n",
    "\t\t\n",
    "\t\tprob_track = prob_track[~(Y_pred_track == bos).any(1), :]\n",
    "\t\tY_pred_track = Y_pred_track[~(Y_pred_track == bos).any(1), :]\n",
    "\n",
    "\t\tprob_track = prob_track[~(Y_pred_track == eos).any(1), :]\n",
    "\t\tY_pred_track = Y_pred_track[~(Y_pred_track == eos).any(1), :]\n",
    "\n",
    "\t\tprob_track = prob_track[~(Y_pred_track == pad).any(1), :]\n",
    "\t\tY_pred_track = Y_pred_track[~(Y_pred_track == pad).any(1), :]\n",
    "\n",
    "\t\tprob_track = prob_track[~(Y_pred_track == unk).any(1), :]\n",
    "\t\tY_pred_track = Y_pred_track[~(Y_pred_track == unk).any(1), :]\t\t\n",
    "\n",
    "\t\t# check whether we have enough candidates, if yes stop and produce the required amount\n",
    "\t\tif Y_pred_track.shape[0] >= num_candidates:\n",
    "\t\n",
    "\t\t\t\t# join all prediction string back \n",
    "\t\t\t\tcomple_peptide_pred = [\"\".join([get_key(number, amino_dict) for number in output_seq]) for output_seq in Y_pred_track] \n",
    "\n",
    "\t\t\t\tprob_track = prob_track.reshape(-1).tolist()\n",
    "\n",
    "\t\t\t\tdtype = [('peptide', '<U21'), ('prob', float)]\n",
    "\t\t\t\tvalues = list(zip(comple_peptide_pred, prob_track))\n",
    "\n",
    "\t\t\t\ta = np.array(values, dtype=dtype)\n",
    "\n",
    "\t\t\t\tfinal = list(np.sort(a, order='prob')[-1::-1])\n",
    "\n",
    "\t\t\t\tprint(\"number of total candidates sampled: {}\".format(samples_total))\n",
    "\t\t\t\tprint(\"number of unique top candidates successfully sampled: {}\".format(num_candidates))\n",
    "\t\t\t\treturn final[0:num_candidates]\n",
    "\n",
    "\n",
    "\t\t# if not update remaining\n",
    "\t\tnum_remaining = num_candidates - Y_pred_track.shape[0]\n",
    "\n",
    "\t# if exceeds maximum iteration, stop and return all produced \n",
    "\n",
    "\t# join all prediction string back \n",
    "\tcomple_peptide_pred = [\"\".join([get_key(number, amino_dict) for number in output_seq]) for output_seq in Y_pred_track[:, 1:-1]]\n",
    "\n",
    "\tprob_track = prob_track.reshape(-1).tolist()\n",
    "\n",
    "\tdtype = [('peptide', '<U21'), ('prob', float)]\n",
    "\tvalues = list(zip(comple_peptide_pred, prob_track))\n",
    "\n",
    "\ta = np.array(values, dtype=dtype)\n",
    "\tfinal = list(np.sort(a, order='prob')[-1::-1])\n",
    "\n",
    "\tprint(\"number of total candidates sampled: {}\".format(samples_total))\n",
    "\tprint(\"number of unique candidates successfully sampled: {}\".format(len(final)))\n",
    "\treturn final\n"
   ]
  },
  {
   "cell_type": "code",
   "execution_count": 50,
   "metadata": {},
   "outputs": [],
   "source": [
    "# evaluate a complementary peptide against a target\n",
    "def evaluate_single(net, target_sequence_raw, peptide_sequence_raw,amino_dict, num_steps, device, print_info=False):\n",
    "\t\"\"\"Predict for sequence to sequence.\"\"\"\n",
    "\n",
    "\t# Set `net` to eval mode for inference\n",
    "\tnet.eval()\n",
    "\tsoftmax_layer = nn.Softmax(dim=2)\n",
    "\n",
    "\ttarget_sequence = list(target_sequence_raw)\n",
    "\tpeptide_sequence = list(peptide_sequence_raw)\n",
    "\t\n",
    "\t# preprocess target sequence\n",
    "\ttarget_sequence_unpad = [amino_dict[letter] for letter in target_sequence] + [amino_dict['<eos>']]\n",
    "\ttarget_valid_len = torch.tensor([len(target_sequence_unpad)], dtype=torch.long, device=device)\n",
    "\ttarget_sequence = d2l.truncate_pad(target_sequence_unpad, num_steps, amino_dict['<pad>'])\n",
    "\ttarget_sequence_batch = torch.unsqueeze(torch.tensor(target_sequence, dtype=torch.long, device=device), dim=0)\n",
    "\n",
    "\t# preprocess peptide sequence\n",
    "\tpeptide_sequence_unpad = [amino_dict[letter] for letter in peptide_sequence] + [amino_dict['<eos>']]\n",
    "\tpeptide_valid_len = torch.tensor([len(peptide_sequence_unpad)], dtype=torch.long, device=device)\n",
    "\tpeptide_sequence = d2l.truncate_pad(peptide_sequence_unpad, num_steps, amino_dict['<pad>'])\n",
    "\tpeptide_sequence_batch = torch.unsqueeze(torch.tensor(peptide_sequence, dtype=torch.long, device=device), dim=0)\n",
    "\n",
    "\n",
    "\tenc_outputs = net.encoder(target_sequence_batch, target_valid_len)\n",
    "\tdec_state = net.decoder.init_state(enc_outputs, target_valid_len)\n",
    "\tdec_X = torch.unsqueeze(torch.tensor([amino_dict['<bos>']], dtype=torch.long, device=device), dim=0)\n",
    "\toutput_seq = []\n",
    "\n",
    "\t# track probability\n",
    "\tprob = 1\n",
    "\n",
    "\tfor i in range(num_steps):\n",
    "\t\n",
    "\t\tY_raw, dec_state = net.decoder(dec_X, dec_state)\n",
    "\n",
    "\t\t# apply softmax to the output\n",
    "\t\tY = softmax_layer(Y_raw)\n",
    "\n",
    "\t\t# We use the token with the highest prediction likelihood as the input\n",
    "\t\t# of the decoder at the next time step\n",
    "\t\tdec_X = peptide_sequence_batch[:, i].reshape(1,-1) # (1, 1)\n",
    "\n",
    "\t\t# track proba\n",
    "\t\tindex_i =  peptide_sequence_batch[:, i].squeeze(dim=0).item()\n",
    "\t\tprob_i = Y[:, :, index_i].squeeze(dim=0).squeeze(dim=0).type(torch.float32).item()\n",
    "\t\tprob *= prob_i\n",
    "\n",
    "\t\tif print_info == True:\n",
    "\t\t\tprint(\"Conditional probability at position {} is {}\".format(i+1, prob_i))\n",
    "\n",
    "\t\tif peptide_sequence_unpad[i] == amino_dict['<eos>']:\n",
    "\t\t\tbreak\n",
    "\n",
    "\t# print info \n",
    "\tif print_info == True:\n",
    "\t\tprint('Input target sequence is {}, complementary peptide is {}, evaluated probability is {}'.format(target_sequence_raw, peptide_sequence_raw, prob))\n",
    "\n",
    "\treturn prob"
   ]
  },
  {
   "cell_type": "markdown",
   "metadata": {},
   "source": [
    "#### Dateset target search"
   ]
  },
  {
   "cell_type": "code",
   "execution_count": 31,
   "metadata": {},
   "outputs": [],
   "source": [
    "def search_target(seq_list, seq):\n",
    "\t\"\"\"Search whether one target are in the dataset or not.\"\"\"\n",
    "\n",
    "\treturn seq_list[seq_list[:, 0]==seq]"
   ]
  },
  {
   "cell_type": "markdown",
   "metadata": {},
   "source": [
    "# Data Preprocessing"
   ]
  },
  {
   "cell_type": "markdown",
   "metadata": {},
   "source": [
    "#### Initialize amino dictionary"
   ]
  },
  {
   "cell_type": "code",
   "execution_count": 32,
   "metadata": {},
   "outputs": [],
   "source": [
    "amino_dict = {\n",
    "\t\t'<bos>': 0, \n",
    "\t\t'<eos>': 1, \n",
    "\t\t'<pad>': 2, \n",
    "\t\t'<unk>': 3,\n",
    "\t\t'A': 4,\n",
    "\t\t'C': 5,\n",
    "\t\t'D': 6, \n",
    "\t\t'E': 7,\n",
    "\t\t'F': 8, \n",
    "\t\t'G': 9, \n",
    "\t\t'H': 10,\n",
    "\t\t'I': 11, \n",
    "\t\t'K': 12, \n",
    "\t\t'L': 13, \n",
    "\t\t'M': 14, \n",
    "\t\t'N': 15, \n",
    "\t\t'P': 16, \n",
    "\t\t'Q': 17, \n",
    "\t\t'R': 18, \n",
    "\t\t'S': 19, \n",
    "\t\t'T': 20, \n",
    "\t\t'V': 21, \n",
    "\t\t'W': 22, \n",
    "\t\t'Y': 23 \n",
    "\t\t }"
   ]
  },
  {
   "cell_type": "markdown",
   "metadata": {},
   "source": [
    "#### Inspection of dataset"
   ]
  },
  {
   "cell_type": "code",
   "execution_count": 33,
   "metadata": {},
   "outputs": [
    {
     "name": "stderr",
     "output_type": "stream",
     "text": [
      "WARNING mybio.py module not found - excecution may fail\n",
      "WARNING zyggregator not found!!!\n"
     ]
    }
   ],
   "source": [
    "data_list_antiparallel= []\n",
    "data_list_parallel= []\n",
    "\n",
    "for i in range(1, 9):\n",
    "\twith open('BSn_libraries/BSn_libraries_copy/anti_frag_dic_{}.pkl'.format(i), 'rb') as f:\n",
    "\t\tdata = pickle.load(f, encoding='latin1')\n",
    "\t\tdata_list_antiparallel.append(data)\n",
    "\n",
    "\twith open('BSn_libraries/BSn_libraries_copy/para_frag_dic_{}.pkl'.format(i), 'rb') as f:\n",
    "\t\tdata = pickle.load(f, encoding='latin1')\n",
    "\t\tdata_list_parallel.append(data)"
   ]
  },
  {
   "cell_type": "markdown",
   "metadata": {},
   "source": [
    "Working score: $C = \\sum_{i=1}^{n} (l_i^2c_i - 0.01l_ip_i)$"
   ]
  },
  {
   "cell_type": "code",
   "execution_count": 34,
   "metadata": {},
   "outputs": [],
   "source": [
    "# 0 for parallel\n",
    "# 1 for antiparallel\n",
    "\n",
    "# target, complementary_seq, counts, promiscuity, length, working_score, hb_pattern, para/anti, freq\n",
    "BSn_data = []\n",
    "least_length = 3\n",
    "\n",
    "for frag_i_data in data_list_parallel[least_length-1:]:\n",
    "\tfor keys in frag_i_data.keys():\n",
    "\n",
    "\t\tlength = len(keys)\n",
    "\t\tfreq = len(frag_i_data[keys])\n",
    "\t\tfor element in frag_i_data[keys]:\n",
    "\n",
    "\t\t\tworking_score = length**2 * element.count_score - 0.01 * length * element.promiscuity_score\n",
    "\t\t\tlist_i = [keys, element.complementary_sequence, element.count_score, element.promiscuity_score, length, working_score, element.hb_pattern, 0, freq]\n",
    "\t\t\tBSn_data.append(list_i)\n",
    "\n",
    "for frag_i_data in data_list_antiparallel[least_length-1:]:\n",
    "\tfor keys in frag_i_data.keys():\n",
    "\n",
    "\t\tlength = len(keys)\n",
    "\t\tfreq = len(frag_i_data[keys])\n",
    "\t\tfor element in frag_i_data[keys]:\n",
    "\n",
    "\t\t\tworking_score = length**2 * element.count_score - 0.01 * length * element.promiscuity_score\n",
    "\t\t\tlist_i = [keys, element.complementary_sequence, element.count_score, element.promiscuity_score, length, working_score, element.hb_pattern, 1, freq]\n",
    "\t\t\tBSn_data.append(list_i)"
   ]
  },
  {
   "cell_type": "code",
   "execution_count": 35,
   "metadata": {},
   "outputs": [
    {
     "name": "stdout",
     "output_type": "stream",
     "text": [
      "2206533\n",
      "['MLGVTFE', 'ALSFETK', 1, 0, 7, 49.0, ((None, None), (0, 0), (None, None), (0, 0), (None, None), (0, 0), (None, None)), 1, 2]\n",
      "['MLGVTFE', 'VYTKTLR', 1, 0, 7, 49.0, ((0, 0), (None, None), (0, 0), (None, None), (0, 0), (None, None), (0, 0)), 1, 2]\n"
     ]
    }
   ],
   "source": [
    "print(len(BSn_data))\n",
    "print(BSn_data[2100004])\n",
    "print(BSn_data[2100005])\n",
    "# target, complementary_seq, counts, promiscuity, length, working_score, hb_pattern, para/anti, freq"
   ]
  },
  {
   "cell_type": "markdown",
   "metadata": {},
   "source": [
    "#### Tailor the dataset for training"
   ]
  },
  {
   "cell_type": "code",
   "execution_count": 36,
   "metadata": {},
   "outputs": [
    {
     "name": "stdout",
     "output_type": "stream",
     "text": [
      "(2105108, 9)\n",
      "(2105108, 9)\n"
     ]
    }
   ],
   "source": [
    "# assign working scores and remove bad samples\n",
    "\n",
    "BSn_data_dataset_sequence = np.array(BSn_data, dtype=object)\n",
    "\n",
    "# here we manually eliminate those with sample negative weights\n",
    "BSn_data_dataset1 = np.array(BSn_data_dataset_sequence[BSn_data_dataset_sequence[:, 5] >= 0])\n",
    "BSn_data_dataset2 = np.array(BSn_data_dataset_sequence[BSn_data_dataset_sequence[:, 5] >= 0])\n",
    "\n",
    "print(BSn_data_dataset1.shape)\n",
    "print(BSn_data_dataset2.shape)"
   ]
  },
  {
   "cell_type": "markdown",
   "metadata": {},
   "source": [
    "Only run one of following!"
   ]
  },
  {
   "cell_type": "code",
   "execution_count": 37,
   "metadata": {},
   "outputs": [
    {
     "name": "stdout",
     "output_type": "stream",
     "text": [
      "torch.Size([2105108, 10])\n",
      "torch.Size([2105108, 10])\n",
      "torch.Size([2105108])\n",
      "torch.Size([2105108])\n",
      "torch.Size([2105108])\n"
     ]
    }
   ],
   "source": [
    "# use the whole dataset in training\n",
    "\n",
    "num_steps_training = 10 # maximum length of training sequences\n",
    "\n",
    "X_train, X_valid_len, Y_train, Y_valid_len = preprocess_train(BSn_data_dataset1[:, 0], BSn_data_dataset1[:, 1], amino_dict, num_steps_training)\n",
    "\n",
    "working_score_tensor = torch.tensor(list(BSn_data_dataset1[:, 5]))\n",
    "\n",
    "print(X_train.shape)\n",
    "print(Y_train.shape)\n",
    "print(X_valid_len.shape)\n",
    "print(Y_valid_len.shape)\n",
    "print(working_score_tensor.shape)"
   ]
  },
  {
   "cell_type": "code",
   "execution_count": 38,
   "metadata": {},
   "outputs": [
    {
     "name": "stdout",
     "output_type": "stream",
     "text": [
      "number of length 8 samples:  (51714, 10)\n",
      "number of unique length 8 sample:  (39952, 10)\n",
      "[2087203 2061823 2089262 ... 2085913 2079467 2060323]\n",
      "------------data below---------\n",
      "(2100108,)\n",
      "(2100108,)\n",
      "(5000,)\n",
      "(5000,)\n"
     ]
    }
   ],
   "source": [
    "# or the follow two cells: 5000 unique length 8 seq\n",
    "\n",
    "target_indices = np.arange(BSn_data_dataset2.shape[0]).reshape(-1, 1)\n",
    "BSn_data_dataset2_indices = np.hstack([BSn_data_dataset2, target_indices])\n",
    "\n",
    "condition1 = np.nonzero(np.array([length==8 for length in BSn_data_dataset2_indices[:, 4]]))\n",
    "BSn_data_dataset2_indices_length8 = BSn_data_dataset2_indices[condition1]\n",
    "\n",
    "condition2 = np.nonzero(np.array([freq==1 for freq in BSn_data_dataset2_indices_length8[:, -2]]))\n",
    "BSn_data_dataset2_indices_length8_unique = BSn_data_dataset2_indices_length8[condition2]\n",
    "\n",
    "# set seed\n",
    "np.random.seed(0)\n",
    "validation_indices = np.random.choice(BSn_data_dataset2_indices_length8_unique[:, -1], size=5000, replace=False).astype(np.int32)\n",
    "\n",
    "X_train_letter = np.delete(BSn_data_dataset2[:, 0], validation_indices, axis=0)\n",
    "Y_train_letter = np.delete(BSn_data_dataset2[:, 1], validation_indices, axis=0)\n",
    "X_validation_letter = BSn_data_dataset2[validation_indices, 0]\n",
    "Y_validation_letter = BSn_data_dataset2[validation_indices, 1]\n",
    "\n",
    "print(\"number of length 8 samples: \", BSn_data_dataset2_indices_length8.shape)\n",
    "print(\"number of unique length 8 sample: \", BSn_data_dataset2_indices_length8_unique.shape)\n",
    "print(validation_indices)\n",
    "print(\"------------data below---------\")\n",
    "print(X_train_letter.shape)\n",
    "print(Y_train_letter.shape)\n",
    "print(X_validation_letter.shape)\n",
    "print(Y_validation_letter.shape)"
   ]
  },
  {
   "cell_type": "code",
   "execution_count": 39,
   "metadata": {},
   "outputs": [
    {
     "name": "stdout",
     "output_type": "stream",
     "text": [
      "---------training info----------\n",
      "torch.Size([2100108, 10])\n",
      "torch.Size([2100108, 10])\n",
      "torch.Size([2100108])\n",
      "torch.Size([2100108])\n",
      "tensor([ 8.9400,  8.5500,  8.6400,  5.8500,  3.3600,  8.1900,  7.8000, 14.9100,\n",
      "         8.4600,  8.4300,  8.3400,  7.9500,  7.5900,  5.0700, 20.0400,  7.1100,\n",
      "         6.5700,  5.2500,  5.0100,  8.9400])\n",
      "---------validation info------------\n",
      "torch.Size([5000, 10])\n",
      "torch.Size([5000, 10])\n",
      "torch.Size([5000])\n",
      "torch.Size([5000])\n"
     ]
    }
   ],
   "source": [
    "# split the data in training and validation\n",
    "\n",
    "num_steps_training = 10 # maximum length of training sequences\n",
    "\n",
    "X_train, X_valid_len, Y_train, Y_valid_len, X_validation, X_validation_valid_len, Y_validation, Y_validation_valid_len = preprocess_train(X_train_letter, Y_train_letter, amino_dict, num_steps_training, X_validation_letter=X_validation_letter, Y_validation_letter=Y_validation_letter)\n",
    "\n",
    "working_score_tensor = torch.tensor(list(np.delete(BSn_data_dataset2[:, 5], validation_indices, axis=0)))\n",
    "\n",
    "print('---------training info----------')\n",
    "print(X_train.shape)\n",
    "print(Y_train.shape)\n",
    "print(X_valid_len.shape)\n",
    "print(Y_valid_len.shape)\n",
    "print(working_score_tensor[:20])\n",
    "print('---------validation info------------')\n",
    "print(X_validation.shape)\n",
    "print(Y_validation.shape)\n",
    "print(X_validation_valid_len.shape)\n",
    "print(Y_validation_valid_len.shape)"
   ]
  },
  {
   "cell_type": "markdown",
   "metadata": {},
   "source": [
    "# Task 1: Generative ability test on protein dataset"
   ]
  },
  {
   "cell_type": "markdown",
   "metadata": {},
   "source": [
    "#### Build demo model"
   ]
  },
  {
   "cell_type": "code",
   "execution_count": 131,
   "metadata": {},
   "outputs": [],
   "source": [
    "query_size, key_size, value_size, num_hiddens = 32, 32, 32, 32\n",
    "num_layers, dropout = 1, 0.1\n",
    "lr, num_epochs, batch_size, label_smoothing = 0.005, 3, 6000, 0.1\n",
    "ffn_num_input, ffn_num_hiddens, num_heads = 32, 64, 4\n",
    "\n",
    "norm_shape = [32] # 32 corresponds to the dim of such number to normalize\n",
    "device = d2l.try_gpu()"
   ]
  },
  {
   "cell_type": "code",
   "execution_count": 132,
   "metadata": {},
   "outputs": [],
   "source": [
    "encoder_demo = TransformerEncoder(\n",
    "\tlen(amino_dict), key_size, query_size, value_size, num_hiddens, \n",
    "\tnorm_shape, ffn_num_input, ffn_num_hiddens, num_heads,\n",
    "\tnum_layers, dropout)\n",
    "decoder_demo = TransformerDecoder(\n",
    "\tlen(amino_dict), key_size, query_size, value_size, num_hiddens, \n",
    "\tnorm_shape, ffn_num_input, ffn_num_hiddens, num_heads,\n",
    "\tnum_layers, dropout)\n",
    "model_demo = EncoderDecoder(encoder_demo, decoder_demo)"
   ]
  },
  {
   "cell_type": "code",
   "execution_count": 133,
   "metadata": {},
   "outputs": [
    {
     "name": "stdout",
     "output_type": "stream",
     "text": [
      "total number of parameters: 23320\n",
      "total number of trainable parameters: 23320\n"
     ]
    }
   ],
   "source": [
    "pytorch_total_params = sum(p.numel() for p in model_demo.parameters())\n",
    "pytorch_total_trainable_params = sum(p.numel() for p in model_demo.parameters() if p.requires_grad)\n",
    "\n",
    "print('total number of parameters: {}'.format(pytorch_total_params))\n",
    "print('total number of trainable parameters: {}'.format(pytorch_total_trainable_params))"
   ]
  },
  {
   "cell_type": "markdown",
   "metadata": {},
   "source": [
    "#### Model training"
   ]
  },
  {
   "cell_type": "code",
   "execution_count": 135,
   "metadata": {},
   "outputs": [
    {
     "name": "stdout",
     "output_type": "stream",
     "text": [
      "epoch 3, loss: 1.508983238801253\n",
      "epoch 3, hamming distance: 34884\n",
      "loss 1.509, 26065.3 tokens/sec on cpu\n"
     ]
    },
    {
     "data": {
      "image/svg+xml": "<?xml version=\"1.0\" encoding=\"utf-8\" standalone=\"no\"?>\n<!DOCTYPE svg PUBLIC \"-//W3C//DTD SVG 1.1//EN\"\n  \"http://www.w3.org/Graphics/SVG/1.1/DTD/svg11.dtd\">\n<svg xmlns:xlink=\"http://www.w3.org/1999/xlink\" width=\"252.64375pt\" height=\"180.65625pt\" viewBox=\"0 0 252.64375 180.65625\" xmlns=\"http://www.w3.org/2000/svg\" version=\"1.1\">\n <metadata>\n  <rdf:RDF xmlns:dc=\"http://purl.org/dc/elements/1.1/\" xmlns:cc=\"http://creativecommons.org/ns#\" xmlns:rdf=\"http://www.w3.org/1999/02/22-rdf-syntax-ns#\">\n   <cc:Work>\n    <dc:type rdf:resource=\"http://purl.org/dc/dcmitype/StillImage\"/>\n    <dc:date>2022-07-15T15:51:07.172768</dc:date>\n    <dc:format>image/svg+xml</dc:format>\n    <dc:creator>\n     <cc:Agent>\n      <dc:title>Matplotlib v3.5.2, https://matplotlib.org/</dc:title>\n     </cc:Agent>\n    </dc:creator>\n   </cc:Work>\n  </rdf:RDF>\n </metadata>\n <defs>\n  <style type=\"text/css\">*{stroke-linejoin: round; stroke-linecap: butt}</style>\n </defs>\n <g id=\"figure_1\">\n  <g id=\"patch_1\">\n   <path d=\"M 0 180.65625 \nL 252.64375 180.65625 \nL 252.64375 0 \nL 0 0 \nL 0 180.65625 \nz\n\" style=\"fill: none\"/>\n  </g>\n  <g id=\"axes_1\">\n   <g id=\"patch_2\">\n    <path d=\"M 50.14375 143.1 \nL 245.44375 143.1 \nL 245.44375 7.2 \nL 50.14375 7.2 \nz\n\" style=\"fill: #ffffff\"/>\n   </g>\n   <g id=\"matplotlib.axis_1\">\n    <g id=\"xtick_1\">\n     <g id=\"line2d_1\">\n      <path d=\"M 59.021023 143.1 \nL 59.021023 7.2 \n\" clip-path=\"url(#pfe7605b769)\" style=\"fill: none; stroke: #b0b0b0; stroke-width: 0.8; stroke-linecap: square\"/>\n     </g>\n     <g id=\"line2d_2\">\n      <defs>\n       <path id=\"mfbd79eb955\" d=\"M 0 0 \nL 0 3.5 \n\" style=\"stroke: #000000; stroke-width: 0.8\"/>\n      </defs>\n      <g>\n       <use xlink:href=\"#mfbd79eb955\" x=\"59.021023\" y=\"143.1\" style=\"stroke: #000000; stroke-width: 0.8\"/>\n      </g>\n     </g>\n     <g id=\"text_1\">\n      <!-- 1.0 -->\n      <g transform=\"translate(51.06946 157.698438)scale(0.1 -0.1)\">\n       <defs>\n        <path id=\"DejaVuSans-31\" d=\"M 794 531 \nL 1825 531 \nL 1825 4091 \nL 703 3866 \nL 703 4441 \nL 1819 4666 \nL 2450 4666 \nL 2450 531 \nL 3481 531 \nL 3481 0 \nL 794 0 \nL 794 531 \nz\n\" transform=\"scale(0.015625)\"/>\n        <path id=\"DejaVuSans-2e\" d=\"M 684 794 \nL 1344 794 \nL 1344 0 \nL 684 0 \nL 684 794 \nz\n\" transform=\"scale(0.015625)\"/>\n        <path id=\"DejaVuSans-30\" d=\"M 2034 4250 \nQ 1547 4250 1301 3770 \nQ 1056 3291 1056 2328 \nQ 1056 1369 1301 889 \nQ 1547 409 2034 409 \nQ 2525 409 2770 889 \nQ 3016 1369 3016 2328 \nQ 3016 3291 2770 3770 \nQ 2525 4250 2034 4250 \nz\nM 2034 4750 \nQ 2819 4750 3233 4129 \nQ 3647 3509 3647 2328 \nQ 3647 1150 3233 529 \nQ 2819 -91 2034 -91 \nQ 1250 -91 836 529 \nQ 422 1150 422 2328 \nQ 422 3509 836 4129 \nQ 1250 4750 2034 4750 \nz\n\" transform=\"scale(0.015625)\"/>\n       </defs>\n       <use xlink:href=\"#DejaVuSans-31\"/>\n       <use xlink:href=\"#DejaVuSans-2e\" x=\"63.623047\"/>\n       <use xlink:href=\"#DejaVuSans-30\" x=\"95.410156\"/>\n      </g>\n     </g>\n    </g>\n    <g id=\"xtick_2\">\n     <g id=\"line2d_3\">\n      <path d=\"M 103.407386 143.1 \nL 103.407386 7.2 \n\" clip-path=\"url(#pfe7605b769)\" style=\"fill: none; stroke: #b0b0b0; stroke-width: 0.8; stroke-linecap: square\"/>\n     </g>\n     <g id=\"line2d_4\">\n      <g>\n       <use xlink:href=\"#mfbd79eb955\" x=\"103.407386\" y=\"143.1\" style=\"stroke: #000000; stroke-width: 0.8\"/>\n      </g>\n     </g>\n     <g id=\"text_2\">\n      <!-- 1.5 -->\n      <g transform=\"translate(95.455824 157.698438)scale(0.1 -0.1)\">\n       <defs>\n        <path id=\"DejaVuSans-35\" d=\"M 691 4666 \nL 3169 4666 \nL 3169 4134 \nL 1269 4134 \nL 1269 2991 \nQ 1406 3038 1543 3061 \nQ 1681 3084 1819 3084 \nQ 2600 3084 3056 2656 \nQ 3513 2228 3513 1497 \nQ 3513 744 3044 326 \nQ 2575 -91 1722 -91 \nQ 1428 -91 1123 -41 \nQ 819 9 494 109 \nL 494 744 \nQ 775 591 1075 516 \nQ 1375 441 1709 441 \nQ 2250 441 2565 725 \nQ 2881 1009 2881 1497 \nQ 2881 1984 2565 2268 \nQ 2250 2553 1709 2553 \nQ 1456 2553 1204 2497 \nQ 953 2441 691 2322 \nL 691 4666 \nz\n\" transform=\"scale(0.015625)\"/>\n       </defs>\n       <use xlink:href=\"#DejaVuSans-31\"/>\n       <use xlink:href=\"#DejaVuSans-2e\" x=\"63.623047\"/>\n       <use xlink:href=\"#DejaVuSans-35\" x=\"95.410156\"/>\n      </g>\n     </g>\n    </g>\n    <g id=\"xtick_3\">\n     <g id=\"line2d_5\">\n      <path d=\"M 147.79375 143.1 \nL 147.79375 7.2 \n\" clip-path=\"url(#pfe7605b769)\" style=\"fill: none; stroke: #b0b0b0; stroke-width: 0.8; stroke-linecap: square\"/>\n     </g>\n     <g id=\"line2d_6\">\n      <g>\n       <use xlink:href=\"#mfbd79eb955\" x=\"147.79375\" y=\"143.1\" style=\"stroke: #000000; stroke-width: 0.8\"/>\n      </g>\n     </g>\n     <g id=\"text_3\">\n      <!-- 2.0 -->\n      <g transform=\"translate(139.842188 157.698438)scale(0.1 -0.1)\">\n       <defs>\n        <path id=\"DejaVuSans-32\" d=\"M 1228 531 \nL 3431 531 \nL 3431 0 \nL 469 0 \nL 469 531 \nQ 828 903 1448 1529 \nQ 2069 2156 2228 2338 \nQ 2531 2678 2651 2914 \nQ 2772 3150 2772 3378 \nQ 2772 3750 2511 3984 \nQ 2250 4219 1831 4219 \nQ 1534 4219 1204 4116 \nQ 875 4013 500 3803 \nL 500 4441 \nQ 881 4594 1212 4672 \nQ 1544 4750 1819 4750 \nQ 2544 4750 2975 4387 \nQ 3406 4025 3406 3419 \nQ 3406 3131 3298 2873 \nQ 3191 2616 2906 2266 \nQ 2828 2175 2409 1742 \nQ 1991 1309 1228 531 \nz\n\" transform=\"scale(0.015625)\"/>\n       </defs>\n       <use xlink:href=\"#DejaVuSans-32\"/>\n       <use xlink:href=\"#DejaVuSans-2e\" x=\"63.623047\"/>\n       <use xlink:href=\"#DejaVuSans-30\" x=\"95.410156\"/>\n      </g>\n     </g>\n    </g>\n    <g id=\"xtick_4\">\n     <g id=\"line2d_7\">\n      <path d=\"M 192.180114 143.1 \nL 192.180114 7.2 \n\" clip-path=\"url(#pfe7605b769)\" style=\"fill: none; stroke: #b0b0b0; stroke-width: 0.8; stroke-linecap: square\"/>\n     </g>\n     <g id=\"line2d_8\">\n      <g>\n       <use xlink:href=\"#mfbd79eb955\" x=\"192.180114\" y=\"143.1\" style=\"stroke: #000000; stroke-width: 0.8\"/>\n      </g>\n     </g>\n     <g id=\"text_4\">\n      <!-- 2.5 -->\n      <g transform=\"translate(184.228551 157.698438)scale(0.1 -0.1)\">\n       <use xlink:href=\"#DejaVuSans-32\"/>\n       <use xlink:href=\"#DejaVuSans-2e\" x=\"63.623047\"/>\n       <use xlink:href=\"#DejaVuSans-35\" x=\"95.410156\"/>\n      </g>\n     </g>\n    </g>\n    <g id=\"xtick_5\">\n     <g id=\"line2d_9\">\n      <path d=\"M 236.566477 143.1 \nL 236.566477 7.2 \n\" clip-path=\"url(#pfe7605b769)\" style=\"fill: none; stroke: #b0b0b0; stroke-width: 0.8; stroke-linecap: square\"/>\n     </g>\n     <g id=\"line2d_10\">\n      <g>\n       <use xlink:href=\"#mfbd79eb955\" x=\"236.566477\" y=\"143.1\" style=\"stroke: #000000; stroke-width: 0.8\"/>\n      </g>\n     </g>\n     <g id=\"text_5\">\n      <!-- 3.0 -->\n      <g transform=\"translate(228.614915 157.698438)scale(0.1 -0.1)\">\n       <defs>\n        <path id=\"DejaVuSans-33\" d=\"M 2597 2516 \nQ 3050 2419 3304 2112 \nQ 3559 1806 3559 1356 \nQ 3559 666 3084 287 \nQ 2609 -91 1734 -91 \nQ 1441 -91 1130 -33 \nQ 819 25 488 141 \nL 488 750 \nQ 750 597 1062 519 \nQ 1375 441 1716 441 \nQ 2309 441 2620 675 \nQ 2931 909 2931 1356 \nQ 2931 1769 2642 2001 \nQ 2353 2234 1838 2234 \nL 1294 2234 \nL 1294 2753 \nL 1863 2753 \nQ 2328 2753 2575 2939 \nQ 2822 3125 2822 3475 \nQ 2822 3834 2567 4026 \nQ 2313 4219 1838 4219 \nQ 1578 4219 1281 4162 \nQ 984 4106 628 3988 \nL 628 4550 \nQ 988 4650 1302 4700 \nQ 1616 4750 1894 4750 \nQ 2613 4750 3031 4423 \nQ 3450 4097 3450 3541 \nQ 3450 3153 3228 2886 \nQ 3006 2619 2597 2516 \nz\n\" transform=\"scale(0.015625)\"/>\n       </defs>\n       <use xlink:href=\"#DejaVuSans-33\"/>\n       <use xlink:href=\"#DejaVuSans-2e\" x=\"63.623047\"/>\n       <use xlink:href=\"#DejaVuSans-30\" x=\"95.410156\"/>\n      </g>\n     </g>\n    </g>\n    <g id=\"text_6\">\n     <!-- epoch -->\n     <g transform=\"translate(132.565625 171.376563)scale(0.1 -0.1)\">\n      <defs>\n       <path id=\"DejaVuSans-65\" d=\"M 3597 1894 \nL 3597 1613 \nL 953 1613 \nQ 991 1019 1311 708 \nQ 1631 397 2203 397 \nQ 2534 397 2845 478 \nQ 3156 559 3463 722 \nL 3463 178 \nQ 3153 47 2828 -22 \nQ 2503 -91 2169 -91 \nQ 1331 -91 842 396 \nQ 353 884 353 1716 \nQ 353 2575 817 3079 \nQ 1281 3584 2069 3584 \nQ 2775 3584 3186 3129 \nQ 3597 2675 3597 1894 \nz\nM 3022 2063 \nQ 3016 2534 2758 2815 \nQ 2500 3097 2075 3097 \nQ 1594 3097 1305 2825 \nQ 1016 2553 972 2059 \nL 3022 2063 \nz\n\" transform=\"scale(0.015625)\"/>\n       <path id=\"DejaVuSans-70\" d=\"M 1159 525 \nL 1159 -1331 \nL 581 -1331 \nL 581 3500 \nL 1159 3500 \nL 1159 2969 \nQ 1341 3281 1617 3432 \nQ 1894 3584 2278 3584 \nQ 2916 3584 3314 3078 \nQ 3713 2572 3713 1747 \nQ 3713 922 3314 415 \nQ 2916 -91 2278 -91 \nQ 1894 -91 1617 61 \nQ 1341 213 1159 525 \nz\nM 3116 1747 \nQ 3116 2381 2855 2742 \nQ 2594 3103 2138 3103 \nQ 1681 3103 1420 2742 \nQ 1159 2381 1159 1747 \nQ 1159 1113 1420 752 \nQ 1681 391 2138 391 \nQ 2594 391 2855 752 \nQ 3116 1113 3116 1747 \nz\n\" transform=\"scale(0.015625)\"/>\n       <path id=\"DejaVuSans-6f\" d=\"M 1959 3097 \nQ 1497 3097 1228 2736 \nQ 959 2375 959 1747 \nQ 959 1119 1226 758 \nQ 1494 397 1959 397 \nQ 2419 397 2687 759 \nQ 2956 1122 2956 1747 \nQ 2956 2369 2687 2733 \nQ 2419 3097 1959 3097 \nz\nM 1959 3584 \nQ 2709 3584 3137 3096 \nQ 3566 2609 3566 1747 \nQ 3566 888 3137 398 \nQ 2709 -91 1959 -91 \nQ 1206 -91 779 398 \nQ 353 888 353 1747 \nQ 353 2609 779 3096 \nQ 1206 3584 1959 3584 \nz\n\" transform=\"scale(0.015625)\"/>\n       <path id=\"DejaVuSans-63\" d=\"M 3122 3366 \nL 3122 2828 \nQ 2878 2963 2633 3030 \nQ 2388 3097 2138 3097 \nQ 1578 3097 1268 2742 \nQ 959 2388 959 1747 \nQ 959 1106 1268 751 \nQ 1578 397 2138 397 \nQ 2388 397 2633 464 \nQ 2878 531 3122 666 \nL 3122 134 \nQ 2881 22 2623 -34 \nQ 2366 -91 2075 -91 \nQ 1284 -91 818 406 \nQ 353 903 353 1747 \nQ 353 2603 823 3093 \nQ 1294 3584 2113 3584 \nQ 2378 3584 2631 3529 \nQ 2884 3475 3122 3366 \nz\n\" transform=\"scale(0.015625)\"/>\n       <path id=\"DejaVuSans-68\" d=\"M 3513 2113 \nL 3513 0 \nL 2938 0 \nL 2938 2094 \nQ 2938 2591 2744 2837 \nQ 2550 3084 2163 3084 \nQ 1697 3084 1428 2787 \nQ 1159 2491 1159 1978 \nL 1159 0 \nL 581 0 \nL 581 4863 \nL 1159 4863 \nL 1159 2956 \nQ 1366 3272 1645 3428 \nQ 1925 3584 2291 3584 \nQ 2894 3584 3203 3211 \nQ 3513 2838 3513 2113 \nz\n\" transform=\"scale(0.015625)\"/>\n      </defs>\n      <use xlink:href=\"#DejaVuSans-65\"/>\n      <use xlink:href=\"#DejaVuSans-70\" x=\"61.523438\"/>\n      <use xlink:href=\"#DejaVuSans-6f\" x=\"125\"/>\n      <use xlink:href=\"#DejaVuSans-63\" x=\"186.181641\"/>\n      <use xlink:href=\"#DejaVuSans-68\" x=\"241.162109\"/>\n     </g>\n    </g>\n   </g>\n   <g id=\"matplotlib.axis_2\">\n    <g id=\"ytick_1\">\n     <g id=\"line2d_11\">\n      <path d=\"M 50.14375 134.428712 \nL 245.44375 134.428712 \n\" clip-path=\"url(#pfe7605b769)\" style=\"fill: none; stroke: #b0b0b0; stroke-width: 0.8; stroke-linecap: square\"/>\n     </g>\n     <g id=\"line2d_12\">\n      <defs>\n       <path id=\"mb4eb5a2207\" d=\"M 0 0 \nL -3.5 0 \n\" style=\"stroke: #000000; stroke-width: 0.8\"/>\n      </defs>\n      <g>\n       <use xlink:href=\"#mb4eb5a2207\" x=\"50.14375\" y=\"134.428712\" style=\"stroke: #000000; stroke-width: 0.8\"/>\n      </g>\n     </g>\n     <g id=\"text_7\">\n      <!-- 1.51 -->\n      <g transform=\"translate(20.878125 138.22793)scale(0.1 -0.1)\">\n       <use xlink:href=\"#DejaVuSans-31\"/>\n       <use xlink:href=\"#DejaVuSans-2e\" x=\"63.623047\"/>\n       <use xlink:href=\"#DejaVuSans-35\" x=\"95.410156\"/>\n       <use xlink:href=\"#DejaVuSans-31\" x=\"159.033203\"/>\n      </g>\n     </g>\n    </g>\n    <g id=\"ytick_2\">\n     <g id=\"line2d_13\">\n      <path d=\"M 50.14375 109.899691 \nL 245.44375 109.899691 \n\" clip-path=\"url(#pfe7605b769)\" style=\"fill: none; stroke: #b0b0b0; stroke-width: 0.8; stroke-linecap: square\"/>\n     </g>\n     <g id=\"line2d_14\">\n      <g>\n       <use xlink:href=\"#mb4eb5a2207\" x=\"50.14375\" y=\"109.899691\" style=\"stroke: #000000; stroke-width: 0.8\"/>\n      </g>\n     </g>\n     <g id=\"text_8\">\n      <!-- 1.52 -->\n      <g transform=\"translate(20.878125 113.69891)scale(0.1 -0.1)\">\n       <use xlink:href=\"#DejaVuSans-31\"/>\n       <use xlink:href=\"#DejaVuSans-2e\" x=\"63.623047\"/>\n       <use xlink:href=\"#DejaVuSans-35\" x=\"95.410156\"/>\n       <use xlink:href=\"#DejaVuSans-32\" x=\"159.033203\"/>\n      </g>\n     </g>\n    </g>\n    <g id=\"ytick_3\">\n     <g id=\"line2d_15\">\n      <path d=\"M 50.14375 85.370671 \nL 245.44375 85.370671 \n\" clip-path=\"url(#pfe7605b769)\" style=\"fill: none; stroke: #b0b0b0; stroke-width: 0.8; stroke-linecap: square\"/>\n     </g>\n     <g id=\"line2d_16\">\n      <g>\n       <use xlink:href=\"#mb4eb5a2207\" x=\"50.14375\" y=\"85.370671\" style=\"stroke: #000000; stroke-width: 0.8\"/>\n      </g>\n     </g>\n     <g id=\"text_9\">\n      <!-- 1.53 -->\n      <g transform=\"translate(20.878125 89.16989)scale(0.1 -0.1)\">\n       <use xlink:href=\"#DejaVuSans-31\"/>\n       <use xlink:href=\"#DejaVuSans-2e\" x=\"63.623047\"/>\n       <use xlink:href=\"#DejaVuSans-35\" x=\"95.410156\"/>\n       <use xlink:href=\"#DejaVuSans-33\" x=\"159.033203\"/>\n      </g>\n     </g>\n    </g>\n    <g id=\"ytick_4\">\n     <g id=\"line2d_17\">\n      <path d=\"M 50.14375 60.841651 \nL 245.44375 60.841651 \n\" clip-path=\"url(#pfe7605b769)\" style=\"fill: none; stroke: #b0b0b0; stroke-width: 0.8; stroke-linecap: square\"/>\n     </g>\n     <g id=\"line2d_18\">\n      <g>\n       <use xlink:href=\"#mb4eb5a2207\" x=\"50.14375\" y=\"60.841651\" style=\"stroke: #000000; stroke-width: 0.8\"/>\n      </g>\n     </g>\n     <g id=\"text_10\">\n      <!-- 1.54 -->\n      <g transform=\"translate(20.878125 64.640869)scale(0.1 -0.1)\">\n       <defs>\n        <path id=\"DejaVuSans-34\" d=\"M 2419 4116 \nL 825 1625 \nL 2419 1625 \nL 2419 4116 \nz\nM 2253 4666 \nL 3047 4666 \nL 3047 1625 \nL 3713 1625 \nL 3713 1100 \nL 3047 1100 \nL 3047 0 \nL 2419 0 \nL 2419 1100 \nL 313 1100 \nL 313 1709 \nL 2253 4666 \nz\n\" transform=\"scale(0.015625)\"/>\n       </defs>\n       <use xlink:href=\"#DejaVuSans-31\"/>\n       <use xlink:href=\"#DejaVuSans-2e\" x=\"63.623047\"/>\n       <use xlink:href=\"#DejaVuSans-35\" x=\"95.410156\"/>\n       <use xlink:href=\"#DejaVuSans-34\" x=\"159.033203\"/>\n      </g>\n     </g>\n    </g>\n    <g id=\"ytick_5\">\n     <g id=\"line2d_19\">\n      <path d=\"M 50.14375 36.31263 \nL 245.44375 36.31263 \n\" clip-path=\"url(#pfe7605b769)\" style=\"fill: none; stroke: #b0b0b0; stroke-width: 0.8; stroke-linecap: square\"/>\n     </g>\n     <g id=\"line2d_20\">\n      <g>\n       <use xlink:href=\"#mb4eb5a2207\" x=\"50.14375\" y=\"36.31263\" style=\"stroke: #000000; stroke-width: 0.8\"/>\n      </g>\n     </g>\n     <g id=\"text_11\">\n      <!-- 1.55 -->\n      <g transform=\"translate(20.878125 40.111849)scale(0.1 -0.1)\">\n       <use xlink:href=\"#DejaVuSans-31\"/>\n       <use xlink:href=\"#DejaVuSans-2e\" x=\"63.623047\"/>\n       <use xlink:href=\"#DejaVuSans-35\" x=\"95.410156\"/>\n       <use xlink:href=\"#DejaVuSans-35\" x=\"159.033203\"/>\n      </g>\n     </g>\n    </g>\n    <g id=\"ytick_6\">\n     <g id=\"line2d_21\">\n      <path d=\"M 50.14375 11.78361 \nL 245.44375 11.78361 \n\" clip-path=\"url(#pfe7605b769)\" style=\"fill: none; stroke: #b0b0b0; stroke-width: 0.8; stroke-linecap: square\"/>\n     </g>\n     <g id=\"line2d_22\">\n      <g>\n       <use xlink:href=\"#mb4eb5a2207\" x=\"50.14375\" y=\"11.78361\" style=\"stroke: #000000; stroke-width: 0.8\"/>\n      </g>\n     </g>\n     <g id=\"text_12\">\n      <!-- 1.56 -->\n      <g transform=\"translate(20.878125 15.582829)scale(0.1 -0.1)\">\n       <defs>\n        <path id=\"DejaVuSans-36\" d=\"M 2113 2584 \nQ 1688 2584 1439 2293 \nQ 1191 2003 1191 1497 \nQ 1191 994 1439 701 \nQ 1688 409 2113 409 \nQ 2538 409 2786 701 \nQ 3034 994 3034 1497 \nQ 3034 2003 2786 2293 \nQ 2538 2584 2113 2584 \nz\nM 3366 4563 \nL 3366 3988 \nQ 3128 4100 2886 4159 \nQ 2644 4219 2406 4219 \nQ 1781 4219 1451 3797 \nQ 1122 3375 1075 2522 \nQ 1259 2794 1537 2939 \nQ 1816 3084 2150 3084 \nQ 2853 3084 3261 2657 \nQ 3669 2231 3669 1497 \nQ 3669 778 3244 343 \nQ 2819 -91 2113 -91 \nQ 1303 -91 875 529 \nQ 447 1150 447 2328 \nQ 447 3434 972 4092 \nQ 1497 4750 2381 4750 \nQ 2619 4750 2861 4703 \nQ 3103 4656 3366 4563 \nz\n\" transform=\"scale(0.015625)\"/>\n       </defs>\n       <use xlink:href=\"#DejaVuSans-31\"/>\n       <use xlink:href=\"#DejaVuSans-2e\" x=\"63.623047\"/>\n       <use xlink:href=\"#DejaVuSans-35\" x=\"95.410156\"/>\n       <use xlink:href=\"#DejaVuSans-36\" x=\"159.033203\"/>\n      </g>\n     </g>\n    </g>\n    <g id=\"text_13\">\n     <!-- loss -->\n     <g transform=\"translate(14.798437 84.807813)rotate(-90)scale(0.1 -0.1)\">\n      <defs>\n       <path id=\"DejaVuSans-6c\" d=\"M 603 4863 \nL 1178 4863 \nL 1178 0 \nL 603 0 \nL 603 4863 \nz\n\" transform=\"scale(0.015625)\"/>\n       <path id=\"DejaVuSans-73\" d=\"M 2834 3397 \nL 2834 2853 \nQ 2591 2978 2328 3040 \nQ 2066 3103 1784 3103 \nQ 1356 3103 1142 2972 \nQ 928 2841 928 2578 \nQ 928 2378 1081 2264 \nQ 1234 2150 1697 2047 \nL 1894 2003 \nQ 2506 1872 2764 1633 \nQ 3022 1394 3022 966 \nQ 3022 478 2636 193 \nQ 2250 -91 1575 -91 \nQ 1294 -91 989 -36 \nQ 684 19 347 128 \nL 347 722 \nQ 666 556 975 473 \nQ 1284 391 1588 391 \nQ 1994 391 2212 530 \nQ 2431 669 2431 922 \nQ 2431 1156 2273 1281 \nQ 2116 1406 1581 1522 \nL 1381 1569 \nQ 847 1681 609 1914 \nQ 372 2147 372 2553 \nQ 372 3047 722 3315 \nQ 1072 3584 1716 3584 \nQ 2034 3584 2315 3537 \nQ 2597 3491 2834 3397 \nz\n\" transform=\"scale(0.015625)\"/>\n      </defs>\n      <use xlink:href=\"#DejaVuSans-6c\"/>\n      <use xlink:href=\"#DejaVuSans-6f\" x=\"27.783203\"/>\n      <use xlink:href=\"#DejaVuSans-73\" x=\"88.964844\"/>\n      <use xlink:href=\"#DejaVuSans-73\" x=\"141.064453\"/>\n     </g>\n    </g>\n   </g>\n   <g id=\"line2d_23\">\n    <path d=\"M 59.021023 13.377273 \nL 147.79375 114.785596 \nL 236.566477 136.922727 \n\" clip-path=\"url(#pfe7605b769)\" style=\"fill: none; stroke: #1f77b4; stroke-width: 1.5; stroke-linecap: square\"/>\n   </g>\n   <g id=\"patch_3\">\n    <path d=\"M 50.14375 143.1 \nL 50.14375 7.2 \n\" style=\"fill: none; stroke: #000000; stroke-width: 0.8; stroke-linejoin: miter; stroke-linecap: square\"/>\n   </g>\n   <g id=\"patch_4\">\n    <path d=\"M 245.44375 143.1 \nL 245.44375 7.2 \n\" style=\"fill: none; stroke: #000000; stroke-width: 0.8; stroke-linejoin: miter; stroke-linecap: square\"/>\n   </g>\n   <g id=\"patch_5\">\n    <path d=\"M 50.14375 143.1 \nL 245.44375 143.1 \n\" style=\"fill: none; stroke: #000000; stroke-width: 0.8; stroke-linejoin: miter; stroke-linecap: square\"/>\n   </g>\n   <g id=\"patch_6\">\n    <path d=\"M 50.14375 7.2 \nL 245.44375 7.2 \n\" style=\"fill: none; stroke: #000000; stroke-width: 0.8; stroke-linejoin: miter; stroke-linecap: square\"/>\n   </g>\n  </g>\n </g>\n <defs>\n  <clipPath id=\"pfe7605b769\">\n   <rect x=\"50.14375\" y=\"7.2\" width=\"195.3\" height=\"135.9\"/>\n  </clipPath>\n </defs>\n</svg>\n",
      "text/plain": [
       "<Figure size 252x180 with 1 Axes>"
      ]
     },
     "metadata": {
      "needs_background": "light"
     },
     "output_type": "display_data"
    },
    {
     "data": {
      "image/svg+xml": "<?xml version=\"1.0\" encoding=\"utf-8\" standalone=\"no\"?>\n<!DOCTYPE svg PUBLIC \"-//W3C//DTD SVG 1.1//EN\"\n  \"http://www.w3.org/Graphics/SVG/1.1/DTD/svg11.dtd\">\n<svg xmlns:xlink=\"http://www.w3.org/1999/xlink\" width=\"726.94375pt\" height=\"494.754375pt\" viewBox=\"0 0 726.94375 494.754375\" xmlns=\"http://www.w3.org/2000/svg\" version=\"1.1\">\n <metadata>\n  <rdf:RDF xmlns:dc=\"http://purl.org/dc/elements/1.1/\" xmlns:cc=\"http://creativecommons.org/ns#\" xmlns:rdf=\"http://www.w3.org/1999/02/22-rdf-syntax-ns#\">\n   <cc:Work>\n    <dc:type rdf:resource=\"http://purl.org/dc/dcmitype/StillImage\"/>\n    <dc:date>2022-07-15T15:51:07.322701</dc:date>\n    <dc:format>image/svg+xml</dc:format>\n    <dc:creator>\n     <cc:Agent>\n      <dc:title>Matplotlib v3.5.2, https://matplotlib.org/</dc:title>\n     </cc:Agent>\n    </dc:creator>\n   </cc:Work>\n  </rdf:RDF>\n </metadata>\n <defs>\n  <style type=\"text/css\">*{stroke-linejoin: round; stroke-linecap: butt}</style>\n </defs>\n <g id=\"figure_1\">\n  <g id=\"patch_1\">\n   <path d=\"M 0 494.754375 \nL 726.94375 494.754375 \nL 726.94375 0 \nL 0 0 \nz\n\" style=\"fill: #ffffff\"/>\n  </g>\n  <g id=\"axes_1\">\n   <g id=\"patch_2\">\n    <path d=\"M 50.14375 457.198125 \nL 719.74375 457.198125 \nL 719.74375 22.318125 \nL 50.14375 22.318125 \nz\n\" style=\"fill: #ffffff\"/>\n   </g>\n   <g id=\"matplotlib.axis_1\">\n    <g id=\"xtick_1\">\n     <g id=\"line2d_1\">\n      <path d=\"M 80.580114 457.198125 \nL 80.580114 22.318125 \n\" clip-path=\"url(#pd83c086792)\" style=\"fill: none; stroke: #b0b0b0; stroke-width: 0.8; stroke-linecap: square\"/>\n     </g>\n     <g id=\"line2d_2\">\n      <defs>\n       <path id=\"m534cce887f\" d=\"M 0 0 \nL 0 3.5 \n\" style=\"stroke: #000000; stroke-width: 0.8\"/>\n      </defs>\n      <g>\n       <use xlink:href=\"#m534cce887f\" x=\"80.580114\" y=\"457.198125\" style=\"stroke: #000000; stroke-width: 0.8\"/>\n      </g>\n     </g>\n     <g id=\"text_1\">\n      <!-- 1.00 -->\n      <g transform=\"translate(69.447301 471.796562)scale(0.1 -0.1)\">\n       <defs>\n        <path id=\"DejaVuSans-31\" d=\"M 794 531 \nL 1825 531 \nL 1825 4091 \nL 703 3866 \nL 703 4441 \nL 1819 4666 \nL 2450 4666 \nL 2450 531 \nL 3481 531 \nL 3481 0 \nL 794 0 \nL 794 531 \nz\n\" transform=\"scale(0.015625)\"/>\n        <path id=\"DejaVuSans-2e\" d=\"M 684 794 \nL 1344 794 \nL 1344 0 \nL 684 0 \nL 684 794 \nz\n\" transform=\"scale(0.015625)\"/>\n        <path id=\"DejaVuSans-30\" d=\"M 2034 4250 \nQ 1547 4250 1301 3770 \nQ 1056 3291 1056 2328 \nQ 1056 1369 1301 889 \nQ 1547 409 2034 409 \nQ 2525 409 2770 889 \nQ 3016 1369 3016 2328 \nQ 3016 3291 2770 3770 \nQ 2525 4250 2034 4250 \nz\nM 2034 4750 \nQ 2819 4750 3233 4129 \nQ 3647 3509 3647 2328 \nQ 3647 1150 3233 529 \nQ 2819 -91 2034 -91 \nQ 1250 -91 836 529 \nQ 422 1150 422 2328 \nQ 422 3509 836 4129 \nQ 1250 4750 2034 4750 \nz\n\" transform=\"scale(0.015625)\"/>\n       </defs>\n       <use xlink:href=\"#DejaVuSans-31\"/>\n       <use xlink:href=\"#DejaVuSans-2e\" x=\"63.623047\"/>\n       <use xlink:href=\"#DejaVuSans-30\" x=\"95.410156\"/>\n       <use xlink:href=\"#DejaVuSans-30\" x=\"159.033203\"/>\n      </g>\n     </g>\n    </g>\n    <g id=\"xtick_2\">\n     <g id=\"line2d_3\">\n      <path d=\"M 156.671023 457.198125 \nL 156.671023 22.318125 \n\" clip-path=\"url(#pd83c086792)\" style=\"fill: none; stroke: #b0b0b0; stroke-width: 0.8; stroke-linecap: square\"/>\n     </g>\n     <g id=\"line2d_4\">\n      <g>\n       <use xlink:href=\"#m534cce887f\" x=\"156.671023\" y=\"457.198125\" style=\"stroke: #000000; stroke-width: 0.8\"/>\n      </g>\n     </g>\n     <g id=\"text_2\">\n      <!-- 1.25 -->\n      <g transform=\"translate(145.53821 471.796562)scale(0.1 -0.1)\">\n       <defs>\n        <path id=\"DejaVuSans-32\" d=\"M 1228 531 \nL 3431 531 \nL 3431 0 \nL 469 0 \nL 469 531 \nQ 828 903 1448 1529 \nQ 2069 2156 2228 2338 \nQ 2531 2678 2651 2914 \nQ 2772 3150 2772 3378 \nQ 2772 3750 2511 3984 \nQ 2250 4219 1831 4219 \nQ 1534 4219 1204 4116 \nQ 875 4013 500 3803 \nL 500 4441 \nQ 881 4594 1212 4672 \nQ 1544 4750 1819 4750 \nQ 2544 4750 2975 4387 \nQ 3406 4025 3406 3419 \nQ 3406 3131 3298 2873 \nQ 3191 2616 2906 2266 \nQ 2828 2175 2409 1742 \nQ 1991 1309 1228 531 \nz\n\" transform=\"scale(0.015625)\"/>\n        <path id=\"DejaVuSans-35\" d=\"M 691 4666 \nL 3169 4666 \nL 3169 4134 \nL 1269 4134 \nL 1269 2991 \nQ 1406 3038 1543 3061 \nQ 1681 3084 1819 3084 \nQ 2600 3084 3056 2656 \nQ 3513 2228 3513 1497 \nQ 3513 744 3044 326 \nQ 2575 -91 1722 -91 \nQ 1428 -91 1123 -41 \nQ 819 9 494 109 \nL 494 744 \nQ 775 591 1075 516 \nQ 1375 441 1709 441 \nQ 2250 441 2565 725 \nQ 2881 1009 2881 1497 \nQ 2881 1984 2565 2268 \nQ 2250 2553 1709 2553 \nQ 1456 2553 1204 2497 \nQ 953 2441 691 2322 \nL 691 4666 \nz\n\" transform=\"scale(0.015625)\"/>\n       </defs>\n       <use xlink:href=\"#DejaVuSans-31\"/>\n       <use xlink:href=\"#DejaVuSans-2e\" x=\"63.623047\"/>\n       <use xlink:href=\"#DejaVuSans-32\" x=\"95.410156\"/>\n       <use xlink:href=\"#DejaVuSans-35\" x=\"159.033203\"/>\n      </g>\n     </g>\n    </g>\n    <g id=\"xtick_3\">\n     <g id=\"line2d_5\">\n      <path d=\"M 232.761932 457.198125 \nL 232.761932 22.318125 \n\" clip-path=\"url(#pd83c086792)\" style=\"fill: none; stroke: #b0b0b0; stroke-width: 0.8; stroke-linecap: square\"/>\n     </g>\n     <g id=\"line2d_6\">\n      <g>\n       <use xlink:href=\"#m534cce887f\" x=\"232.761932\" y=\"457.198125\" style=\"stroke: #000000; stroke-width: 0.8\"/>\n      </g>\n     </g>\n     <g id=\"text_3\">\n      <!-- 1.50 -->\n      <g transform=\"translate(221.629119 471.796562)scale(0.1 -0.1)\">\n       <use xlink:href=\"#DejaVuSans-31\"/>\n       <use xlink:href=\"#DejaVuSans-2e\" x=\"63.623047\"/>\n       <use xlink:href=\"#DejaVuSans-35\" x=\"95.410156\"/>\n       <use xlink:href=\"#DejaVuSans-30\" x=\"159.033203\"/>\n      </g>\n     </g>\n    </g>\n    <g id=\"xtick_4\">\n     <g id=\"line2d_7\">\n      <path d=\"M 308.852841 457.198125 \nL 308.852841 22.318125 \n\" clip-path=\"url(#pd83c086792)\" style=\"fill: none; stroke: #b0b0b0; stroke-width: 0.8; stroke-linecap: square\"/>\n     </g>\n     <g id=\"line2d_8\">\n      <g>\n       <use xlink:href=\"#m534cce887f\" x=\"308.852841\" y=\"457.198125\" style=\"stroke: #000000; stroke-width: 0.8\"/>\n      </g>\n     </g>\n     <g id=\"text_4\">\n      <!-- 1.75 -->\n      <g transform=\"translate(297.720028 471.796562)scale(0.1 -0.1)\">\n       <defs>\n        <path id=\"DejaVuSans-37\" d=\"M 525 4666 \nL 3525 4666 \nL 3525 4397 \nL 1831 0 \nL 1172 0 \nL 2766 4134 \nL 525 4134 \nL 525 4666 \nz\n\" transform=\"scale(0.015625)\"/>\n       </defs>\n       <use xlink:href=\"#DejaVuSans-31\"/>\n       <use xlink:href=\"#DejaVuSans-2e\" x=\"63.623047\"/>\n       <use xlink:href=\"#DejaVuSans-37\" x=\"95.410156\"/>\n       <use xlink:href=\"#DejaVuSans-35\" x=\"159.033203\"/>\n      </g>\n     </g>\n    </g>\n    <g id=\"xtick_5\">\n     <g id=\"line2d_9\">\n      <path d=\"M 384.94375 457.198125 \nL 384.94375 22.318125 \n\" clip-path=\"url(#pd83c086792)\" style=\"fill: none; stroke: #b0b0b0; stroke-width: 0.8; stroke-linecap: square\"/>\n     </g>\n     <g id=\"line2d_10\">\n      <g>\n       <use xlink:href=\"#m534cce887f\" x=\"384.94375\" y=\"457.198125\" style=\"stroke: #000000; stroke-width: 0.8\"/>\n      </g>\n     </g>\n     <g id=\"text_5\">\n      <!-- 2.00 -->\n      <g transform=\"translate(373.810938 471.796562)scale(0.1 -0.1)\">\n       <use xlink:href=\"#DejaVuSans-32\"/>\n       <use xlink:href=\"#DejaVuSans-2e\" x=\"63.623047\"/>\n       <use xlink:href=\"#DejaVuSans-30\" x=\"95.410156\"/>\n       <use xlink:href=\"#DejaVuSans-30\" x=\"159.033203\"/>\n      </g>\n     </g>\n    </g>\n    <g id=\"xtick_6\">\n     <g id=\"line2d_11\">\n      <path d=\"M 461.034659 457.198125 \nL 461.034659 22.318125 \n\" clip-path=\"url(#pd83c086792)\" style=\"fill: none; stroke: #b0b0b0; stroke-width: 0.8; stroke-linecap: square\"/>\n     </g>\n     <g id=\"line2d_12\">\n      <g>\n       <use xlink:href=\"#m534cce887f\" x=\"461.034659\" y=\"457.198125\" style=\"stroke: #000000; stroke-width: 0.8\"/>\n      </g>\n     </g>\n     <g id=\"text_6\">\n      <!-- 2.25 -->\n      <g transform=\"translate(449.901847 471.796562)scale(0.1 -0.1)\">\n       <use xlink:href=\"#DejaVuSans-32\"/>\n       <use xlink:href=\"#DejaVuSans-2e\" x=\"63.623047\"/>\n       <use xlink:href=\"#DejaVuSans-32\" x=\"95.410156\"/>\n       <use xlink:href=\"#DejaVuSans-35\" x=\"159.033203\"/>\n      </g>\n     </g>\n    </g>\n    <g id=\"xtick_7\">\n     <g id=\"line2d_13\">\n      <path d=\"M 537.125568 457.198125 \nL 537.125568 22.318125 \n\" clip-path=\"url(#pd83c086792)\" style=\"fill: none; stroke: #b0b0b0; stroke-width: 0.8; stroke-linecap: square\"/>\n     </g>\n     <g id=\"line2d_14\">\n      <g>\n       <use xlink:href=\"#m534cce887f\" x=\"537.125568\" y=\"457.198125\" style=\"stroke: #000000; stroke-width: 0.8\"/>\n      </g>\n     </g>\n     <g id=\"text_7\">\n      <!-- 2.50 -->\n      <g transform=\"translate(525.992756 471.796562)scale(0.1 -0.1)\">\n       <use xlink:href=\"#DejaVuSans-32\"/>\n       <use xlink:href=\"#DejaVuSans-2e\" x=\"63.623047\"/>\n       <use xlink:href=\"#DejaVuSans-35\" x=\"95.410156\"/>\n       <use xlink:href=\"#DejaVuSans-30\" x=\"159.033203\"/>\n      </g>\n     </g>\n    </g>\n    <g id=\"xtick_8\">\n     <g id=\"line2d_15\">\n      <path d=\"M 613.216477 457.198125 \nL 613.216477 22.318125 \n\" clip-path=\"url(#pd83c086792)\" style=\"fill: none; stroke: #b0b0b0; stroke-width: 0.8; stroke-linecap: square\"/>\n     </g>\n     <g id=\"line2d_16\">\n      <g>\n       <use xlink:href=\"#m534cce887f\" x=\"613.216477\" y=\"457.198125\" style=\"stroke: #000000; stroke-width: 0.8\"/>\n      </g>\n     </g>\n     <g id=\"text_8\">\n      <!-- 2.75 -->\n      <g transform=\"translate(602.083665 471.796562)scale(0.1 -0.1)\">\n       <use xlink:href=\"#DejaVuSans-32\"/>\n       <use xlink:href=\"#DejaVuSans-2e\" x=\"63.623047\"/>\n       <use xlink:href=\"#DejaVuSans-37\" x=\"95.410156\"/>\n       <use xlink:href=\"#DejaVuSans-35\" x=\"159.033203\"/>\n      </g>\n     </g>\n    </g>\n    <g id=\"xtick_9\">\n     <g id=\"line2d_17\">\n      <path d=\"M 689.307386 457.198125 \nL 689.307386 22.318125 \n\" clip-path=\"url(#pd83c086792)\" style=\"fill: none; stroke: #b0b0b0; stroke-width: 0.8; stroke-linecap: square\"/>\n     </g>\n     <g id=\"line2d_18\">\n      <g>\n       <use xlink:href=\"#m534cce887f\" x=\"689.307386\" y=\"457.198125\" style=\"stroke: #000000; stroke-width: 0.8\"/>\n      </g>\n     </g>\n     <g id=\"text_9\">\n      <!-- 3.00 -->\n      <g transform=\"translate(678.174574 471.796562)scale(0.1 -0.1)\">\n       <defs>\n        <path id=\"DejaVuSans-33\" d=\"M 2597 2516 \nQ 3050 2419 3304 2112 \nQ 3559 1806 3559 1356 \nQ 3559 666 3084 287 \nQ 2609 -91 1734 -91 \nQ 1441 -91 1130 -33 \nQ 819 25 488 141 \nL 488 750 \nQ 750 597 1062 519 \nQ 1375 441 1716 441 \nQ 2309 441 2620 675 \nQ 2931 909 2931 1356 \nQ 2931 1769 2642 2001 \nQ 2353 2234 1838 2234 \nL 1294 2234 \nL 1294 2753 \nL 1863 2753 \nQ 2328 2753 2575 2939 \nQ 2822 3125 2822 3475 \nQ 2822 3834 2567 4026 \nQ 2313 4219 1838 4219 \nQ 1578 4219 1281 4162 \nQ 984 4106 628 3988 \nL 628 4550 \nQ 988 4650 1302 4700 \nQ 1616 4750 1894 4750 \nQ 2613 4750 3031 4423 \nQ 3450 4097 3450 3541 \nQ 3450 3153 3228 2886 \nQ 3006 2619 2597 2516 \nz\n\" transform=\"scale(0.015625)\"/>\n       </defs>\n       <use xlink:href=\"#DejaVuSans-33\"/>\n       <use xlink:href=\"#DejaVuSans-2e\" x=\"63.623047\"/>\n       <use xlink:href=\"#DejaVuSans-30\" x=\"95.410156\"/>\n       <use xlink:href=\"#DejaVuSans-30\" x=\"159.033203\"/>\n      </g>\n     </g>\n    </g>\n    <g id=\"text_10\">\n     <!-- Epochs -->\n     <g transform=\"translate(367.028125 485.474687)scale(0.1 -0.1)\">\n      <defs>\n       <path id=\"DejaVuSans-45\" d=\"M 628 4666 \nL 3578 4666 \nL 3578 4134 \nL 1259 4134 \nL 1259 2753 \nL 3481 2753 \nL 3481 2222 \nL 1259 2222 \nL 1259 531 \nL 3634 531 \nL 3634 0 \nL 628 0 \nL 628 4666 \nz\n\" transform=\"scale(0.015625)\"/>\n       <path id=\"DejaVuSans-70\" d=\"M 1159 525 \nL 1159 -1331 \nL 581 -1331 \nL 581 3500 \nL 1159 3500 \nL 1159 2969 \nQ 1341 3281 1617 3432 \nQ 1894 3584 2278 3584 \nQ 2916 3584 3314 3078 \nQ 3713 2572 3713 1747 \nQ 3713 922 3314 415 \nQ 2916 -91 2278 -91 \nQ 1894 -91 1617 61 \nQ 1341 213 1159 525 \nz\nM 3116 1747 \nQ 3116 2381 2855 2742 \nQ 2594 3103 2138 3103 \nQ 1681 3103 1420 2742 \nQ 1159 2381 1159 1747 \nQ 1159 1113 1420 752 \nQ 1681 391 2138 391 \nQ 2594 391 2855 752 \nQ 3116 1113 3116 1747 \nz\n\" transform=\"scale(0.015625)\"/>\n       <path id=\"DejaVuSans-6f\" d=\"M 1959 3097 \nQ 1497 3097 1228 2736 \nQ 959 2375 959 1747 \nQ 959 1119 1226 758 \nQ 1494 397 1959 397 \nQ 2419 397 2687 759 \nQ 2956 1122 2956 1747 \nQ 2956 2369 2687 2733 \nQ 2419 3097 1959 3097 \nz\nM 1959 3584 \nQ 2709 3584 3137 3096 \nQ 3566 2609 3566 1747 \nQ 3566 888 3137 398 \nQ 2709 -91 1959 -91 \nQ 1206 -91 779 398 \nQ 353 888 353 1747 \nQ 353 2609 779 3096 \nQ 1206 3584 1959 3584 \nz\n\" transform=\"scale(0.015625)\"/>\n       <path id=\"DejaVuSans-63\" d=\"M 3122 3366 \nL 3122 2828 \nQ 2878 2963 2633 3030 \nQ 2388 3097 2138 3097 \nQ 1578 3097 1268 2742 \nQ 959 2388 959 1747 \nQ 959 1106 1268 751 \nQ 1578 397 2138 397 \nQ 2388 397 2633 464 \nQ 2878 531 3122 666 \nL 3122 134 \nQ 2881 22 2623 -34 \nQ 2366 -91 2075 -91 \nQ 1284 -91 818 406 \nQ 353 903 353 1747 \nQ 353 2603 823 3093 \nQ 1294 3584 2113 3584 \nQ 2378 3584 2631 3529 \nQ 2884 3475 3122 3366 \nz\n\" transform=\"scale(0.015625)\"/>\n       <path id=\"DejaVuSans-68\" d=\"M 3513 2113 \nL 3513 0 \nL 2938 0 \nL 2938 2094 \nQ 2938 2591 2744 2837 \nQ 2550 3084 2163 3084 \nQ 1697 3084 1428 2787 \nQ 1159 2491 1159 1978 \nL 1159 0 \nL 581 0 \nL 581 4863 \nL 1159 4863 \nL 1159 2956 \nQ 1366 3272 1645 3428 \nQ 1925 3584 2291 3584 \nQ 2894 3584 3203 3211 \nQ 3513 2838 3513 2113 \nz\n\" transform=\"scale(0.015625)\"/>\n       <path id=\"DejaVuSans-73\" d=\"M 2834 3397 \nL 2834 2853 \nQ 2591 2978 2328 3040 \nQ 2066 3103 1784 3103 \nQ 1356 3103 1142 2972 \nQ 928 2841 928 2578 \nQ 928 2378 1081 2264 \nQ 1234 2150 1697 2047 \nL 1894 2003 \nQ 2506 1872 2764 1633 \nQ 3022 1394 3022 966 \nQ 3022 478 2636 193 \nQ 2250 -91 1575 -91 \nQ 1294 -91 989 -36 \nQ 684 19 347 128 \nL 347 722 \nQ 666 556 975 473 \nQ 1284 391 1588 391 \nQ 1994 391 2212 530 \nQ 2431 669 2431 922 \nQ 2431 1156 2273 1281 \nQ 2116 1406 1581 1522 \nL 1381 1569 \nQ 847 1681 609 1914 \nQ 372 2147 372 2553 \nQ 372 3047 722 3315 \nQ 1072 3584 1716 3584 \nQ 2034 3584 2315 3537 \nQ 2597 3491 2834 3397 \nz\n\" transform=\"scale(0.015625)\"/>\n      </defs>\n      <use xlink:href=\"#DejaVuSans-45\"/>\n      <use xlink:href=\"#DejaVuSans-70\" x=\"63.183594\"/>\n      <use xlink:href=\"#DejaVuSans-6f\" x=\"126.660156\"/>\n      <use xlink:href=\"#DejaVuSans-63\" x=\"187.841797\"/>\n      <use xlink:href=\"#DejaVuSans-68\" x=\"242.822266\"/>\n      <use xlink:href=\"#DejaVuSans-73\" x=\"306.201172\"/>\n     </g>\n    </g>\n   </g>\n   <g id=\"matplotlib.axis_2\">\n    <g id=\"ytick_1\">\n     <g id=\"line2d_19\">\n      <path d=\"M 50.14375 429.450002 \nL 719.74375 429.450002 \n\" clip-path=\"url(#pd83c086792)\" style=\"fill: none; stroke: #b0b0b0; stroke-width: 0.8; stroke-linecap: square\"/>\n     </g>\n     <g id=\"line2d_20\">\n      <defs>\n       <path id=\"m28a6f15813\" d=\"M 0 0 \nL -3.5 0 \n\" style=\"stroke: #000000; stroke-width: 0.8\"/>\n      </defs>\n      <g>\n       <use xlink:href=\"#m28a6f15813\" x=\"50.14375\" y=\"429.450002\" style=\"stroke: #000000; stroke-width: 0.8\"/>\n      </g>\n     </g>\n     <g id=\"text_11\">\n      <!-- 1.51 -->\n      <g transform=\"translate(20.878125 433.249221)scale(0.1 -0.1)\">\n       <use xlink:href=\"#DejaVuSans-31\"/>\n       <use xlink:href=\"#DejaVuSans-2e\" x=\"63.623047\"/>\n       <use xlink:href=\"#DejaVuSans-35\" x=\"95.410156\"/>\n       <use xlink:href=\"#DejaVuSans-31\" x=\"159.033203\"/>\n      </g>\n     </g>\n    </g>\n    <g id=\"ytick_2\">\n     <g id=\"line2d_21\">\n      <path d=\"M 50.14375 350.957137 \nL 719.74375 350.957137 \n\" clip-path=\"url(#pd83c086792)\" style=\"fill: none; stroke: #b0b0b0; stroke-width: 0.8; stroke-linecap: square\"/>\n     </g>\n     <g id=\"line2d_22\">\n      <g>\n       <use xlink:href=\"#m28a6f15813\" x=\"50.14375\" y=\"350.957137\" style=\"stroke: #000000; stroke-width: 0.8\"/>\n      </g>\n     </g>\n     <g id=\"text_12\">\n      <!-- 1.52 -->\n      <g transform=\"translate(20.878125 354.756356)scale(0.1 -0.1)\">\n       <use xlink:href=\"#DejaVuSans-31\"/>\n       <use xlink:href=\"#DejaVuSans-2e\" x=\"63.623047\"/>\n       <use xlink:href=\"#DejaVuSans-35\" x=\"95.410156\"/>\n       <use xlink:href=\"#DejaVuSans-32\" x=\"159.033203\"/>\n      </g>\n     </g>\n    </g>\n    <g id=\"ytick_3\">\n     <g id=\"line2d_23\">\n      <path d=\"M 50.14375 272.464272 \nL 719.74375 272.464272 \n\" clip-path=\"url(#pd83c086792)\" style=\"fill: none; stroke: #b0b0b0; stroke-width: 0.8; stroke-linecap: square\"/>\n     </g>\n     <g id=\"line2d_24\">\n      <g>\n       <use xlink:href=\"#m28a6f15813\" x=\"50.14375\" y=\"272.464272\" style=\"stroke: #000000; stroke-width: 0.8\"/>\n      </g>\n     </g>\n     <g id=\"text_13\">\n      <!-- 1.53 -->\n      <g transform=\"translate(20.878125 276.263491)scale(0.1 -0.1)\">\n       <use xlink:href=\"#DejaVuSans-31\"/>\n       <use xlink:href=\"#DejaVuSans-2e\" x=\"63.623047\"/>\n       <use xlink:href=\"#DejaVuSans-35\" x=\"95.410156\"/>\n       <use xlink:href=\"#DejaVuSans-33\" x=\"159.033203\"/>\n      </g>\n     </g>\n    </g>\n    <g id=\"ytick_4\">\n     <g id=\"line2d_25\">\n      <path d=\"M 50.14375 193.971407 \nL 719.74375 193.971407 \n\" clip-path=\"url(#pd83c086792)\" style=\"fill: none; stroke: #b0b0b0; stroke-width: 0.8; stroke-linecap: square\"/>\n     </g>\n     <g id=\"line2d_26\">\n      <g>\n       <use xlink:href=\"#m28a6f15813\" x=\"50.14375\" y=\"193.971407\" style=\"stroke: #000000; stroke-width: 0.8\"/>\n      </g>\n     </g>\n     <g id=\"text_14\">\n      <!-- 1.54 -->\n      <g transform=\"translate(20.878125 197.770626)scale(0.1 -0.1)\">\n       <defs>\n        <path id=\"DejaVuSans-34\" d=\"M 2419 4116 \nL 825 1625 \nL 2419 1625 \nL 2419 4116 \nz\nM 2253 4666 \nL 3047 4666 \nL 3047 1625 \nL 3713 1625 \nL 3713 1100 \nL 3047 1100 \nL 3047 0 \nL 2419 0 \nL 2419 1100 \nL 313 1100 \nL 313 1709 \nL 2253 4666 \nz\n\" transform=\"scale(0.015625)\"/>\n       </defs>\n       <use xlink:href=\"#DejaVuSans-31\"/>\n       <use xlink:href=\"#DejaVuSans-2e\" x=\"63.623047\"/>\n       <use xlink:href=\"#DejaVuSans-35\" x=\"95.410156\"/>\n       <use xlink:href=\"#DejaVuSans-34\" x=\"159.033203\"/>\n      </g>\n     </g>\n    </g>\n    <g id=\"ytick_5\">\n     <g id=\"line2d_27\">\n      <path d=\"M 50.14375 115.478542 \nL 719.74375 115.478542 \n\" clip-path=\"url(#pd83c086792)\" style=\"fill: none; stroke: #b0b0b0; stroke-width: 0.8; stroke-linecap: square\"/>\n     </g>\n     <g id=\"line2d_28\">\n      <g>\n       <use xlink:href=\"#m28a6f15813\" x=\"50.14375\" y=\"115.478542\" style=\"stroke: #000000; stroke-width: 0.8\"/>\n      </g>\n     </g>\n     <g id=\"text_15\">\n      <!-- 1.55 -->\n      <g transform=\"translate(20.878125 119.277761)scale(0.1 -0.1)\">\n       <use xlink:href=\"#DejaVuSans-31\"/>\n       <use xlink:href=\"#DejaVuSans-2e\" x=\"63.623047\"/>\n       <use xlink:href=\"#DejaVuSans-35\" x=\"95.410156\"/>\n       <use xlink:href=\"#DejaVuSans-35\" x=\"159.033203\"/>\n      </g>\n     </g>\n    </g>\n    <g id=\"ytick_6\">\n     <g id=\"line2d_29\">\n      <path d=\"M 50.14375 36.985677 \nL 719.74375 36.985677 \n\" clip-path=\"url(#pd83c086792)\" style=\"fill: none; stroke: #b0b0b0; stroke-width: 0.8; stroke-linecap: square\"/>\n     </g>\n     <g id=\"line2d_30\">\n      <g>\n       <use xlink:href=\"#m28a6f15813\" x=\"50.14375\" y=\"36.985677\" style=\"stroke: #000000; stroke-width: 0.8\"/>\n      </g>\n     </g>\n     <g id=\"text_16\">\n      <!-- 1.56 -->\n      <g transform=\"translate(20.878125 40.784896)scale(0.1 -0.1)\">\n       <defs>\n        <path id=\"DejaVuSans-36\" d=\"M 2113 2584 \nQ 1688 2584 1439 2293 \nQ 1191 2003 1191 1497 \nQ 1191 994 1439 701 \nQ 1688 409 2113 409 \nQ 2538 409 2786 701 \nQ 3034 994 3034 1497 \nQ 3034 2003 2786 2293 \nQ 2538 2584 2113 2584 \nz\nM 3366 4563 \nL 3366 3988 \nQ 3128 4100 2886 4159 \nQ 2644 4219 2406 4219 \nQ 1781 4219 1451 3797 \nQ 1122 3375 1075 2522 \nQ 1259 2794 1537 2939 \nQ 1816 3084 2150 3084 \nQ 2853 3084 3261 2657 \nQ 3669 2231 3669 1497 \nQ 3669 778 3244 343 \nQ 2819 -91 2113 -91 \nQ 1303 -91 875 529 \nQ 447 1150 447 2328 \nQ 447 3434 972 4092 \nQ 1497 4750 2381 4750 \nQ 2619 4750 2861 4703 \nQ 3103 4656 3366 4563 \nz\n\" transform=\"scale(0.015625)\"/>\n       </defs>\n       <use xlink:href=\"#DejaVuSans-31\"/>\n       <use xlink:href=\"#DejaVuSans-2e\" x=\"63.623047\"/>\n       <use xlink:href=\"#DejaVuSans-35\" x=\"95.410156\"/>\n       <use xlink:href=\"#DejaVuSans-36\" x=\"159.033203\"/>\n      </g>\n     </g>\n    </g>\n    <g id=\"text_17\">\n     <!-- Weighted average loss -->\n     <g transform=\"translate(14.798438 296.733906)rotate(-90)scale(0.1 -0.1)\">\n      <defs>\n       <path id=\"DejaVuSans-57\" d=\"M 213 4666 \nL 850 4666 \nL 1831 722 \nL 2809 4666 \nL 3519 4666 \nL 4500 722 \nL 5478 4666 \nL 6119 4666 \nL 4947 0 \nL 4153 0 \nL 3169 4050 \nL 2175 0 \nL 1381 0 \nL 213 4666 \nz\n\" transform=\"scale(0.015625)\"/>\n       <path id=\"DejaVuSans-65\" d=\"M 3597 1894 \nL 3597 1613 \nL 953 1613 \nQ 991 1019 1311 708 \nQ 1631 397 2203 397 \nQ 2534 397 2845 478 \nQ 3156 559 3463 722 \nL 3463 178 \nQ 3153 47 2828 -22 \nQ 2503 -91 2169 -91 \nQ 1331 -91 842 396 \nQ 353 884 353 1716 \nQ 353 2575 817 3079 \nQ 1281 3584 2069 3584 \nQ 2775 3584 3186 3129 \nQ 3597 2675 3597 1894 \nz\nM 3022 2063 \nQ 3016 2534 2758 2815 \nQ 2500 3097 2075 3097 \nQ 1594 3097 1305 2825 \nQ 1016 2553 972 2059 \nL 3022 2063 \nz\n\" transform=\"scale(0.015625)\"/>\n       <path id=\"DejaVuSans-69\" d=\"M 603 3500 \nL 1178 3500 \nL 1178 0 \nL 603 0 \nL 603 3500 \nz\nM 603 4863 \nL 1178 4863 \nL 1178 4134 \nL 603 4134 \nL 603 4863 \nz\n\" transform=\"scale(0.015625)\"/>\n       <path id=\"DejaVuSans-67\" d=\"M 2906 1791 \nQ 2906 2416 2648 2759 \nQ 2391 3103 1925 3103 \nQ 1463 3103 1205 2759 \nQ 947 2416 947 1791 \nQ 947 1169 1205 825 \nQ 1463 481 1925 481 \nQ 2391 481 2648 825 \nQ 2906 1169 2906 1791 \nz\nM 3481 434 \nQ 3481 -459 3084 -895 \nQ 2688 -1331 1869 -1331 \nQ 1566 -1331 1297 -1286 \nQ 1028 -1241 775 -1147 \nL 775 -588 \nQ 1028 -725 1275 -790 \nQ 1522 -856 1778 -856 \nQ 2344 -856 2625 -561 \nQ 2906 -266 2906 331 \nL 2906 616 \nQ 2728 306 2450 153 \nQ 2172 0 1784 0 \nQ 1141 0 747 490 \nQ 353 981 353 1791 \nQ 353 2603 747 3093 \nQ 1141 3584 1784 3584 \nQ 2172 3584 2450 3431 \nQ 2728 3278 2906 2969 \nL 2906 3500 \nL 3481 3500 \nL 3481 434 \nz\n\" transform=\"scale(0.015625)\"/>\n       <path id=\"DejaVuSans-74\" d=\"M 1172 4494 \nL 1172 3500 \nL 2356 3500 \nL 2356 3053 \nL 1172 3053 \nL 1172 1153 \nQ 1172 725 1289 603 \nQ 1406 481 1766 481 \nL 2356 481 \nL 2356 0 \nL 1766 0 \nQ 1100 0 847 248 \nQ 594 497 594 1153 \nL 594 3053 \nL 172 3053 \nL 172 3500 \nL 594 3500 \nL 594 4494 \nL 1172 4494 \nz\n\" transform=\"scale(0.015625)\"/>\n       <path id=\"DejaVuSans-64\" d=\"M 2906 2969 \nL 2906 4863 \nL 3481 4863 \nL 3481 0 \nL 2906 0 \nL 2906 525 \nQ 2725 213 2448 61 \nQ 2172 -91 1784 -91 \nQ 1150 -91 751 415 \nQ 353 922 353 1747 \nQ 353 2572 751 3078 \nQ 1150 3584 1784 3584 \nQ 2172 3584 2448 3432 \nQ 2725 3281 2906 2969 \nz\nM 947 1747 \nQ 947 1113 1208 752 \nQ 1469 391 1925 391 \nQ 2381 391 2643 752 \nQ 2906 1113 2906 1747 \nQ 2906 2381 2643 2742 \nQ 2381 3103 1925 3103 \nQ 1469 3103 1208 2742 \nQ 947 2381 947 1747 \nz\n\" transform=\"scale(0.015625)\"/>\n       <path id=\"DejaVuSans-20\" transform=\"scale(0.015625)\"/>\n       <path id=\"DejaVuSans-61\" d=\"M 2194 1759 \nQ 1497 1759 1228 1600 \nQ 959 1441 959 1056 \nQ 959 750 1161 570 \nQ 1363 391 1709 391 \nQ 2188 391 2477 730 \nQ 2766 1069 2766 1631 \nL 2766 1759 \nL 2194 1759 \nz\nM 3341 1997 \nL 3341 0 \nL 2766 0 \nL 2766 531 \nQ 2569 213 2275 61 \nQ 1981 -91 1556 -91 \nQ 1019 -91 701 211 \nQ 384 513 384 1019 \nQ 384 1609 779 1909 \nQ 1175 2209 1959 2209 \nL 2766 2209 \nL 2766 2266 \nQ 2766 2663 2505 2880 \nQ 2244 3097 1772 3097 \nQ 1472 3097 1187 3025 \nQ 903 2953 641 2809 \nL 641 3341 \nQ 956 3463 1253 3523 \nQ 1550 3584 1831 3584 \nQ 2591 3584 2966 3190 \nQ 3341 2797 3341 1997 \nz\n\" transform=\"scale(0.015625)\"/>\n       <path id=\"DejaVuSans-76\" d=\"M 191 3500 \nL 800 3500 \nL 1894 563 \nL 2988 3500 \nL 3597 3500 \nL 2284 0 \nL 1503 0 \nL 191 3500 \nz\n\" transform=\"scale(0.015625)\"/>\n       <path id=\"DejaVuSans-72\" d=\"M 2631 2963 \nQ 2534 3019 2420 3045 \nQ 2306 3072 2169 3072 \nQ 1681 3072 1420 2755 \nQ 1159 2438 1159 1844 \nL 1159 0 \nL 581 0 \nL 581 3500 \nL 1159 3500 \nL 1159 2956 \nQ 1341 3275 1631 3429 \nQ 1922 3584 2338 3584 \nQ 2397 3584 2469 3576 \nQ 2541 3569 2628 3553 \nL 2631 2963 \nz\n\" transform=\"scale(0.015625)\"/>\n       <path id=\"DejaVuSans-6c\" d=\"M 603 4863 \nL 1178 4863 \nL 1178 0 \nL 603 0 \nL 603 4863 \nz\n\" transform=\"scale(0.015625)\"/>\n      </defs>\n      <use xlink:href=\"#DejaVuSans-57\"/>\n      <use xlink:href=\"#DejaVuSans-65\" x=\"93.001953\"/>\n      <use xlink:href=\"#DejaVuSans-69\" x=\"154.525391\"/>\n      <use xlink:href=\"#DejaVuSans-67\" x=\"182.308594\"/>\n      <use xlink:href=\"#DejaVuSans-68\" x=\"245.785156\"/>\n      <use xlink:href=\"#DejaVuSans-74\" x=\"309.164062\"/>\n      <use xlink:href=\"#DejaVuSans-65\" x=\"348.373047\"/>\n      <use xlink:href=\"#DejaVuSans-64\" x=\"409.896484\"/>\n      <use xlink:href=\"#DejaVuSans-20\" x=\"473.373047\"/>\n      <use xlink:href=\"#DejaVuSans-61\" x=\"505.160156\"/>\n      <use xlink:href=\"#DejaVuSans-76\" x=\"566.439453\"/>\n      <use xlink:href=\"#DejaVuSans-65\" x=\"625.619141\"/>\n      <use xlink:href=\"#DejaVuSans-72\" x=\"687.142578\"/>\n      <use xlink:href=\"#DejaVuSans-61\" x=\"728.255859\"/>\n      <use xlink:href=\"#DejaVuSans-67\" x=\"789.535156\"/>\n      <use xlink:href=\"#DejaVuSans-65\" x=\"853.011719\"/>\n      <use xlink:href=\"#DejaVuSans-20\" x=\"914.535156\"/>\n      <use xlink:href=\"#DejaVuSans-6c\" x=\"946.322266\"/>\n      <use xlink:href=\"#DejaVuSans-6f\" x=\"974.105469\"/>\n      <use xlink:href=\"#DejaVuSans-73\" x=\"1035.287109\"/>\n      <use xlink:href=\"#DejaVuSans-73\" x=\"1087.386719\"/>\n     </g>\n    </g>\n   </g>\n   <g id=\"line2d_31\">\n    <path d=\"M 80.580114 42.085398 \nL 384.94375 366.592034 \nL 689.307386 437.430852 \n\" clip-path=\"url(#pd83c086792)\" style=\"fill: none; stroke: #1f77b4; stroke-width: 1.5; stroke-linecap: square\"/>\n   </g>\n   <g id=\"patch_3\">\n    <path d=\"M 50.14375 457.198125 \nL 50.14375 22.318125 \n\" style=\"fill: none; stroke: #000000; stroke-width: 0.8; stroke-linejoin: miter; stroke-linecap: square\"/>\n   </g>\n   <g id=\"patch_4\">\n    <path d=\"M 719.74375 457.198125 \nL 719.74375 22.318125 \n\" style=\"fill: none; stroke: #000000; stroke-width: 0.8; stroke-linejoin: miter; stroke-linecap: square\"/>\n   </g>\n   <g id=\"patch_5\">\n    <path d=\"M 50.14375 457.198125 \nL 719.74375 457.198125 \n\" style=\"fill: none; stroke: #000000; stroke-width: 0.8; stroke-linejoin: miter; stroke-linecap: square\"/>\n   </g>\n   <g id=\"patch_6\">\n    <path d=\"M 50.14375 22.318125 \nL 719.74375 22.318125 \n\" style=\"fill: none; stroke: #000000; stroke-width: 0.8; stroke-linejoin: miter; stroke-linecap: square\"/>\n   </g>\n   <g id=\"text_18\">\n    <!-- transformer &lt;model_demo&gt; training loss -->\n    <g transform=\"translate(260.063125 16.318125)scale(0.12 -0.12)\">\n     <defs>\n      <path id=\"DejaVuSans-6e\" d=\"M 3513 2113 \nL 3513 0 \nL 2938 0 \nL 2938 2094 \nQ 2938 2591 2744 2837 \nQ 2550 3084 2163 3084 \nQ 1697 3084 1428 2787 \nQ 1159 2491 1159 1978 \nL 1159 0 \nL 581 0 \nL 581 3500 \nL 1159 3500 \nL 1159 2956 \nQ 1366 3272 1645 3428 \nQ 1925 3584 2291 3584 \nQ 2894 3584 3203 3211 \nQ 3513 2838 3513 2113 \nz\n\" transform=\"scale(0.015625)\"/>\n      <path id=\"DejaVuSans-66\" d=\"M 2375 4863 \nL 2375 4384 \nL 1825 4384 \nQ 1516 4384 1395 4259 \nQ 1275 4134 1275 3809 \nL 1275 3500 \nL 2222 3500 \nL 2222 3053 \nL 1275 3053 \nL 1275 0 \nL 697 0 \nL 697 3053 \nL 147 3053 \nL 147 3500 \nL 697 3500 \nL 697 3744 \nQ 697 4328 969 4595 \nQ 1241 4863 1831 4863 \nL 2375 4863 \nz\n\" transform=\"scale(0.015625)\"/>\n      <path id=\"DejaVuSans-6d\" d=\"M 3328 2828 \nQ 3544 3216 3844 3400 \nQ 4144 3584 4550 3584 \nQ 5097 3584 5394 3201 \nQ 5691 2819 5691 2113 \nL 5691 0 \nL 5113 0 \nL 5113 2094 \nQ 5113 2597 4934 2840 \nQ 4756 3084 4391 3084 \nQ 3944 3084 3684 2787 \nQ 3425 2491 3425 1978 \nL 3425 0 \nL 2847 0 \nL 2847 2094 \nQ 2847 2600 2669 2842 \nQ 2491 3084 2119 3084 \nQ 1678 3084 1418 2786 \nQ 1159 2488 1159 1978 \nL 1159 0 \nL 581 0 \nL 581 3500 \nL 1159 3500 \nL 1159 2956 \nQ 1356 3278 1631 3431 \nQ 1906 3584 2284 3584 \nQ 2666 3584 2933 3390 \nQ 3200 3197 3328 2828 \nz\n\" transform=\"scale(0.015625)\"/>\n      <path id=\"DejaVuSans-3c\" d=\"M 4684 3150 \nL 1459 2003 \nL 4684 863 \nL 4684 294 \nL 678 1747 \nL 678 2266 \nL 4684 3719 \nL 4684 3150 \nz\n\" transform=\"scale(0.015625)\"/>\n      <path id=\"DejaVuSans-5f\" d=\"M 3263 -1063 \nL 3263 -1509 \nL -63 -1509 \nL -63 -1063 \nL 3263 -1063 \nz\n\" transform=\"scale(0.015625)\"/>\n      <path id=\"DejaVuSans-3e\" d=\"M 678 3150 \nL 678 3719 \nL 4684 2266 \nL 4684 1747 \nL 678 294 \nL 678 863 \nL 3897 2003 \nL 678 3150 \nz\n\" transform=\"scale(0.015625)\"/>\n     </defs>\n     <use xlink:href=\"#DejaVuSans-74\"/>\n     <use xlink:href=\"#DejaVuSans-72\" x=\"39.208984\"/>\n     <use xlink:href=\"#DejaVuSans-61\" x=\"80.322266\"/>\n     <use xlink:href=\"#DejaVuSans-6e\" x=\"141.601562\"/>\n     <use xlink:href=\"#DejaVuSans-73\" x=\"204.980469\"/>\n     <use xlink:href=\"#DejaVuSans-66\" x=\"257.080078\"/>\n     <use xlink:href=\"#DejaVuSans-6f\" x=\"292.285156\"/>\n     <use xlink:href=\"#DejaVuSans-72\" x=\"353.466797\"/>\n     <use xlink:href=\"#DejaVuSans-6d\" x=\"392.830078\"/>\n     <use xlink:href=\"#DejaVuSans-65\" x=\"490.242188\"/>\n     <use xlink:href=\"#DejaVuSans-72\" x=\"551.765625\"/>\n     <use xlink:href=\"#DejaVuSans-20\" x=\"592.878906\"/>\n     <use xlink:href=\"#DejaVuSans-3c\" x=\"624.666016\"/>\n     <use xlink:href=\"#DejaVuSans-6d\" x=\"708.455078\"/>\n     <use xlink:href=\"#DejaVuSans-6f\" x=\"805.867188\"/>\n     <use xlink:href=\"#DejaVuSans-64\" x=\"867.048828\"/>\n     <use xlink:href=\"#DejaVuSans-65\" x=\"930.525391\"/>\n     <use xlink:href=\"#DejaVuSans-6c\" x=\"992.048828\"/>\n     <use xlink:href=\"#DejaVuSans-5f\" x=\"1019.832031\"/>\n     <use xlink:href=\"#DejaVuSans-64\" x=\"1069.832031\"/>\n     <use xlink:href=\"#DejaVuSans-65\" x=\"1133.308594\"/>\n     <use xlink:href=\"#DejaVuSans-6d\" x=\"1194.832031\"/>\n     <use xlink:href=\"#DejaVuSans-6f\" x=\"1292.244141\"/>\n     <use xlink:href=\"#DejaVuSans-3e\" x=\"1353.425781\"/>\n     <use xlink:href=\"#DejaVuSans-20\" x=\"1437.214844\"/>\n     <use xlink:href=\"#DejaVuSans-74\" x=\"1469.001953\"/>\n     <use xlink:href=\"#DejaVuSans-72\" x=\"1508.210938\"/>\n     <use xlink:href=\"#DejaVuSans-61\" x=\"1549.324219\"/>\n     <use xlink:href=\"#DejaVuSans-69\" x=\"1610.603516\"/>\n     <use xlink:href=\"#DejaVuSans-6e\" x=\"1638.386719\"/>\n     <use xlink:href=\"#DejaVuSans-69\" x=\"1701.765625\"/>\n     <use xlink:href=\"#DejaVuSans-6e\" x=\"1729.548828\"/>\n     <use xlink:href=\"#DejaVuSans-67\" x=\"1792.927734\"/>\n     <use xlink:href=\"#DejaVuSans-20\" x=\"1856.404297\"/>\n     <use xlink:href=\"#DejaVuSans-6c\" x=\"1888.191406\"/>\n     <use xlink:href=\"#DejaVuSans-6f\" x=\"1915.974609\"/>\n     <use xlink:href=\"#DejaVuSans-73\" x=\"1977.15625\"/>\n     <use xlink:href=\"#DejaVuSans-73\" x=\"2029.255859\"/>\n    </g>\n   </g>\n   <g id=\"legend_1\">\n    <g id=\"patch_7\">\n     <path d=\"M 564.270313 45.274375 \nL 712.74375 45.274375 \nQ 714.74375 45.274375 714.74375 43.274375 \nL 714.74375 29.318125 \nQ 714.74375 27.318125 712.74375 27.318125 \nL 564.270313 27.318125 \nQ 562.270313 27.318125 562.270313 29.318125 \nL 562.270313 43.274375 \nQ 562.270313 45.274375 564.270313 45.274375 \nz\n\" style=\"fill: #ffffff; opacity: 0.8; stroke: #cccccc; stroke-linejoin: miter\"/>\n    </g>\n    <g id=\"line2d_32\">\n     <path d=\"M 566.270313 35.416562 \nL 576.270313 35.416562 \nL 586.270313 35.416562 \n\" style=\"fill: none; stroke: #1f77b4; stroke-width: 1.5; stroke-linecap: square\"/>\n    </g>\n    <g id=\"text_19\">\n     <!-- weighted_average_loss -->\n     <g transform=\"translate(594.270313 38.916562)scale(0.1 -0.1)\">\n      <defs>\n       <path id=\"DejaVuSans-77\" d=\"M 269 3500 \nL 844 3500 \nL 1563 769 \nL 2278 3500 \nL 2956 3500 \nL 3675 769 \nL 4391 3500 \nL 4966 3500 \nL 4050 0 \nL 3372 0 \nL 2619 2869 \nL 1863 0 \nL 1184 0 \nL 269 3500 \nz\n\" transform=\"scale(0.015625)\"/>\n      </defs>\n      <use xlink:href=\"#DejaVuSans-77\"/>\n      <use xlink:href=\"#DejaVuSans-65\" x=\"81.787109\"/>\n      <use xlink:href=\"#DejaVuSans-69\" x=\"143.310547\"/>\n      <use xlink:href=\"#DejaVuSans-67\" x=\"171.09375\"/>\n      <use xlink:href=\"#DejaVuSans-68\" x=\"234.570312\"/>\n      <use xlink:href=\"#DejaVuSans-74\" x=\"297.949219\"/>\n      <use xlink:href=\"#DejaVuSans-65\" x=\"337.158203\"/>\n      <use xlink:href=\"#DejaVuSans-64\" x=\"398.681641\"/>\n      <use xlink:href=\"#DejaVuSans-5f\" x=\"462.158203\"/>\n      <use xlink:href=\"#DejaVuSans-61\" x=\"512.158203\"/>\n      <use xlink:href=\"#DejaVuSans-76\" x=\"573.4375\"/>\n      <use xlink:href=\"#DejaVuSans-65\" x=\"632.617188\"/>\n      <use xlink:href=\"#DejaVuSans-72\" x=\"694.140625\"/>\n      <use xlink:href=\"#DejaVuSans-61\" x=\"735.253906\"/>\n      <use xlink:href=\"#DejaVuSans-67\" x=\"796.533203\"/>\n      <use xlink:href=\"#DejaVuSans-65\" x=\"860.009766\"/>\n      <use xlink:href=\"#DejaVuSans-5f\" x=\"921.533203\"/>\n      <use xlink:href=\"#DejaVuSans-6c\" x=\"971.533203\"/>\n      <use xlink:href=\"#DejaVuSans-6f\" x=\"999.316406\"/>\n      <use xlink:href=\"#DejaVuSans-73\" x=\"1060.498047\"/>\n      <use xlink:href=\"#DejaVuSans-73\" x=\"1112.597656\"/>\n     </g>\n    </g>\n   </g>\n  </g>\n </g>\n <defs>\n  <clipPath id=\"pd83c086792\">\n   <rect x=\"50.14375\" y=\"22.318125\" width=\"669.6\" height=\"434.88\"/>\n  </clipPath>\n </defs>\n</svg>\n",
      "text/plain": [
       "<Figure size 864x576 with 1 Axes>"
      ]
     },
     "metadata": {},
     "output_type": "display_data"
    },
    {
     "data": {
      "image/svg+xml": "<?xml version=\"1.0\" encoding=\"utf-8\" standalone=\"no\"?>\n<!DOCTYPE svg PUBLIC \"-//W3C//DTD SVG 1.1//EN\"\n  \"http://www.w3.org/Graphics/SVG/1.1/DTD/svg11.dtd\">\n<svg xmlns:xlink=\"http://www.w3.org/1999/xlink\" width=\"736.490625pt\" height=\"494.754375pt\" viewBox=\"0 0 736.490625 494.754375\" xmlns=\"http://www.w3.org/2000/svg\" version=\"1.1\">\n <metadata>\n  <rdf:RDF xmlns:dc=\"http://purl.org/dc/elements/1.1/\" xmlns:cc=\"http://creativecommons.org/ns#\" xmlns:rdf=\"http://www.w3.org/1999/02/22-rdf-syntax-ns#\">\n   <cc:Work>\n    <dc:type rdf:resource=\"http://purl.org/dc/dcmitype/StillImage\"/>\n    <dc:date>2022-07-15T15:51:07.568600</dc:date>\n    <dc:format>image/svg+xml</dc:format>\n    <dc:creator>\n     <cc:Agent>\n      <dc:title>Matplotlib v3.5.2, https://matplotlib.org/</dc:title>\n     </cc:Agent>\n    </dc:creator>\n   </cc:Work>\n  </rdf:RDF>\n </metadata>\n <defs>\n  <style type=\"text/css\">*{stroke-linejoin: round; stroke-linecap: butt}</style>\n </defs>\n <g id=\"figure_1\">\n  <g id=\"patch_1\">\n   <path d=\"M 0 494.754375 \nL 736.490625 494.754375 \nL 736.490625 0 \nL 0 0 \nz\n\" style=\"fill: #ffffff\"/>\n  </g>\n  <g id=\"axes_1\">\n   <g id=\"patch_2\">\n    <path d=\"M 59.690625 457.198125 \nL 729.290625 457.198125 \nL 729.290625 22.318125 \nL 59.690625 22.318125 \nz\n\" style=\"fill: #ffffff\"/>\n   </g>\n   <g id=\"matplotlib.axis_1\">\n    <g id=\"xtick_1\">\n     <g id=\"line2d_1\">\n      <path d=\"M 90.126989 457.198125 \nL 90.126989 22.318125 \n\" clip-path=\"url(#p7c04271152)\" style=\"fill: none; stroke: #b0b0b0; stroke-width: 0.8; stroke-linecap: square\"/>\n     </g>\n     <g id=\"line2d_2\">\n      <defs>\n       <path id=\"m7ea190433b\" d=\"M 0 0 \nL 0 3.5 \n\" style=\"stroke: #000000; stroke-width: 0.8\"/>\n      </defs>\n      <g>\n       <use xlink:href=\"#m7ea190433b\" x=\"90.126989\" y=\"457.198125\" style=\"stroke: #000000; stroke-width: 0.8\"/>\n      </g>\n     </g>\n     <g id=\"text_1\">\n      <!-- 1.00 -->\n      <g transform=\"translate(78.994176 471.796562)scale(0.1 -0.1)\">\n       <defs>\n        <path id=\"DejaVuSans-31\" d=\"M 794 531 \nL 1825 531 \nL 1825 4091 \nL 703 3866 \nL 703 4441 \nL 1819 4666 \nL 2450 4666 \nL 2450 531 \nL 3481 531 \nL 3481 0 \nL 794 0 \nL 794 531 \nz\n\" transform=\"scale(0.015625)\"/>\n        <path id=\"DejaVuSans-2e\" d=\"M 684 794 \nL 1344 794 \nL 1344 0 \nL 684 0 \nL 684 794 \nz\n\" transform=\"scale(0.015625)\"/>\n        <path id=\"DejaVuSans-30\" d=\"M 2034 4250 \nQ 1547 4250 1301 3770 \nQ 1056 3291 1056 2328 \nQ 1056 1369 1301 889 \nQ 1547 409 2034 409 \nQ 2525 409 2770 889 \nQ 3016 1369 3016 2328 \nQ 3016 3291 2770 3770 \nQ 2525 4250 2034 4250 \nz\nM 2034 4750 \nQ 2819 4750 3233 4129 \nQ 3647 3509 3647 2328 \nQ 3647 1150 3233 529 \nQ 2819 -91 2034 -91 \nQ 1250 -91 836 529 \nQ 422 1150 422 2328 \nQ 422 3509 836 4129 \nQ 1250 4750 2034 4750 \nz\n\" transform=\"scale(0.015625)\"/>\n       </defs>\n       <use xlink:href=\"#DejaVuSans-31\"/>\n       <use xlink:href=\"#DejaVuSans-2e\" x=\"63.623047\"/>\n       <use xlink:href=\"#DejaVuSans-30\" x=\"95.410156\"/>\n       <use xlink:href=\"#DejaVuSans-30\" x=\"159.033203\"/>\n      </g>\n     </g>\n    </g>\n    <g id=\"xtick_2\">\n     <g id=\"line2d_3\">\n      <path d=\"M 166.217898 457.198125 \nL 166.217898 22.318125 \n\" clip-path=\"url(#p7c04271152)\" style=\"fill: none; stroke: #b0b0b0; stroke-width: 0.8; stroke-linecap: square\"/>\n     </g>\n     <g id=\"line2d_4\">\n      <g>\n       <use xlink:href=\"#m7ea190433b\" x=\"166.217898\" y=\"457.198125\" style=\"stroke: #000000; stroke-width: 0.8\"/>\n      </g>\n     </g>\n     <g id=\"text_2\">\n      <!-- 1.25 -->\n      <g transform=\"translate(155.085085 471.796562)scale(0.1 -0.1)\">\n       <defs>\n        <path id=\"DejaVuSans-32\" d=\"M 1228 531 \nL 3431 531 \nL 3431 0 \nL 469 0 \nL 469 531 \nQ 828 903 1448 1529 \nQ 2069 2156 2228 2338 \nQ 2531 2678 2651 2914 \nQ 2772 3150 2772 3378 \nQ 2772 3750 2511 3984 \nQ 2250 4219 1831 4219 \nQ 1534 4219 1204 4116 \nQ 875 4013 500 3803 \nL 500 4441 \nQ 881 4594 1212 4672 \nQ 1544 4750 1819 4750 \nQ 2544 4750 2975 4387 \nQ 3406 4025 3406 3419 \nQ 3406 3131 3298 2873 \nQ 3191 2616 2906 2266 \nQ 2828 2175 2409 1742 \nQ 1991 1309 1228 531 \nz\n\" transform=\"scale(0.015625)\"/>\n        <path id=\"DejaVuSans-35\" d=\"M 691 4666 \nL 3169 4666 \nL 3169 4134 \nL 1269 4134 \nL 1269 2991 \nQ 1406 3038 1543 3061 \nQ 1681 3084 1819 3084 \nQ 2600 3084 3056 2656 \nQ 3513 2228 3513 1497 \nQ 3513 744 3044 326 \nQ 2575 -91 1722 -91 \nQ 1428 -91 1123 -41 \nQ 819 9 494 109 \nL 494 744 \nQ 775 591 1075 516 \nQ 1375 441 1709 441 \nQ 2250 441 2565 725 \nQ 2881 1009 2881 1497 \nQ 2881 1984 2565 2268 \nQ 2250 2553 1709 2553 \nQ 1456 2553 1204 2497 \nQ 953 2441 691 2322 \nL 691 4666 \nz\n\" transform=\"scale(0.015625)\"/>\n       </defs>\n       <use xlink:href=\"#DejaVuSans-31\"/>\n       <use xlink:href=\"#DejaVuSans-2e\" x=\"63.623047\"/>\n       <use xlink:href=\"#DejaVuSans-32\" x=\"95.410156\"/>\n       <use xlink:href=\"#DejaVuSans-35\" x=\"159.033203\"/>\n      </g>\n     </g>\n    </g>\n    <g id=\"xtick_3\">\n     <g id=\"line2d_5\">\n      <path d=\"M 242.308807 457.198125 \nL 242.308807 22.318125 \n\" clip-path=\"url(#p7c04271152)\" style=\"fill: none; stroke: #b0b0b0; stroke-width: 0.8; stroke-linecap: square\"/>\n     </g>\n     <g id=\"line2d_6\">\n      <g>\n       <use xlink:href=\"#m7ea190433b\" x=\"242.308807\" y=\"457.198125\" style=\"stroke: #000000; stroke-width: 0.8\"/>\n      </g>\n     </g>\n     <g id=\"text_3\">\n      <!-- 1.50 -->\n      <g transform=\"translate(231.175994 471.796562)scale(0.1 -0.1)\">\n       <use xlink:href=\"#DejaVuSans-31\"/>\n       <use xlink:href=\"#DejaVuSans-2e\" x=\"63.623047\"/>\n       <use xlink:href=\"#DejaVuSans-35\" x=\"95.410156\"/>\n       <use xlink:href=\"#DejaVuSans-30\" x=\"159.033203\"/>\n      </g>\n     </g>\n    </g>\n    <g id=\"xtick_4\">\n     <g id=\"line2d_7\">\n      <path d=\"M 318.399716 457.198125 \nL 318.399716 22.318125 \n\" clip-path=\"url(#p7c04271152)\" style=\"fill: none; stroke: #b0b0b0; stroke-width: 0.8; stroke-linecap: square\"/>\n     </g>\n     <g id=\"line2d_8\">\n      <g>\n       <use xlink:href=\"#m7ea190433b\" x=\"318.399716\" y=\"457.198125\" style=\"stroke: #000000; stroke-width: 0.8\"/>\n      </g>\n     </g>\n     <g id=\"text_4\">\n      <!-- 1.75 -->\n      <g transform=\"translate(307.266903 471.796562)scale(0.1 -0.1)\">\n       <defs>\n        <path id=\"DejaVuSans-37\" d=\"M 525 4666 \nL 3525 4666 \nL 3525 4397 \nL 1831 0 \nL 1172 0 \nL 2766 4134 \nL 525 4134 \nL 525 4666 \nz\n\" transform=\"scale(0.015625)\"/>\n       </defs>\n       <use xlink:href=\"#DejaVuSans-31\"/>\n       <use xlink:href=\"#DejaVuSans-2e\" x=\"63.623047\"/>\n       <use xlink:href=\"#DejaVuSans-37\" x=\"95.410156\"/>\n       <use xlink:href=\"#DejaVuSans-35\" x=\"159.033203\"/>\n      </g>\n     </g>\n    </g>\n    <g id=\"xtick_5\">\n     <g id=\"line2d_9\">\n      <path d=\"M 394.490625 457.198125 \nL 394.490625 22.318125 \n\" clip-path=\"url(#p7c04271152)\" style=\"fill: none; stroke: #b0b0b0; stroke-width: 0.8; stroke-linecap: square\"/>\n     </g>\n     <g id=\"line2d_10\">\n      <g>\n       <use xlink:href=\"#m7ea190433b\" x=\"394.490625\" y=\"457.198125\" style=\"stroke: #000000; stroke-width: 0.8\"/>\n      </g>\n     </g>\n     <g id=\"text_5\">\n      <!-- 2.00 -->\n      <g transform=\"translate(383.357813 471.796562)scale(0.1 -0.1)\">\n       <use xlink:href=\"#DejaVuSans-32\"/>\n       <use xlink:href=\"#DejaVuSans-2e\" x=\"63.623047\"/>\n       <use xlink:href=\"#DejaVuSans-30\" x=\"95.410156\"/>\n       <use xlink:href=\"#DejaVuSans-30\" x=\"159.033203\"/>\n      </g>\n     </g>\n    </g>\n    <g id=\"xtick_6\">\n     <g id=\"line2d_11\">\n      <path d=\"M 470.581534 457.198125 \nL 470.581534 22.318125 \n\" clip-path=\"url(#p7c04271152)\" style=\"fill: none; stroke: #b0b0b0; stroke-width: 0.8; stroke-linecap: square\"/>\n     </g>\n     <g id=\"line2d_12\">\n      <g>\n       <use xlink:href=\"#m7ea190433b\" x=\"470.581534\" y=\"457.198125\" style=\"stroke: #000000; stroke-width: 0.8\"/>\n      </g>\n     </g>\n     <g id=\"text_6\">\n      <!-- 2.25 -->\n      <g transform=\"translate(459.448722 471.796562)scale(0.1 -0.1)\">\n       <use xlink:href=\"#DejaVuSans-32\"/>\n       <use xlink:href=\"#DejaVuSans-2e\" x=\"63.623047\"/>\n       <use xlink:href=\"#DejaVuSans-32\" x=\"95.410156\"/>\n       <use xlink:href=\"#DejaVuSans-35\" x=\"159.033203\"/>\n      </g>\n     </g>\n    </g>\n    <g id=\"xtick_7\">\n     <g id=\"line2d_13\">\n      <path d=\"M 546.672443 457.198125 \nL 546.672443 22.318125 \n\" clip-path=\"url(#p7c04271152)\" style=\"fill: none; stroke: #b0b0b0; stroke-width: 0.8; stroke-linecap: square\"/>\n     </g>\n     <g id=\"line2d_14\">\n      <g>\n       <use xlink:href=\"#m7ea190433b\" x=\"546.672443\" y=\"457.198125\" style=\"stroke: #000000; stroke-width: 0.8\"/>\n      </g>\n     </g>\n     <g id=\"text_7\">\n      <!-- 2.50 -->\n      <g transform=\"translate(535.539631 471.796562)scale(0.1 -0.1)\">\n       <use xlink:href=\"#DejaVuSans-32\"/>\n       <use xlink:href=\"#DejaVuSans-2e\" x=\"63.623047\"/>\n       <use xlink:href=\"#DejaVuSans-35\" x=\"95.410156\"/>\n       <use xlink:href=\"#DejaVuSans-30\" x=\"159.033203\"/>\n      </g>\n     </g>\n    </g>\n    <g id=\"xtick_8\">\n     <g id=\"line2d_15\">\n      <path d=\"M 622.763352 457.198125 \nL 622.763352 22.318125 \n\" clip-path=\"url(#p7c04271152)\" style=\"fill: none; stroke: #b0b0b0; stroke-width: 0.8; stroke-linecap: square\"/>\n     </g>\n     <g id=\"line2d_16\">\n      <g>\n       <use xlink:href=\"#m7ea190433b\" x=\"622.763352\" y=\"457.198125\" style=\"stroke: #000000; stroke-width: 0.8\"/>\n      </g>\n     </g>\n     <g id=\"text_8\">\n      <!-- 2.75 -->\n      <g transform=\"translate(611.63054 471.796562)scale(0.1 -0.1)\">\n       <use xlink:href=\"#DejaVuSans-32\"/>\n       <use xlink:href=\"#DejaVuSans-2e\" x=\"63.623047\"/>\n       <use xlink:href=\"#DejaVuSans-37\" x=\"95.410156\"/>\n       <use xlink:href=\"#DejaVuSans-35\" x=\"159.033203\"/>\n      </g>\n     </g>\n    </g>\n    <g id=\"xtick_9\">\n     <g id=\"line2d_17\">\n      <path d=\"M 698.854261 457.198125 \nL 698.854261 22.318125 \n\" clip-path=\"url(#p7c04271152)\" style=\"fill: none; stroke: #b0b0b0; stroke-width: 0.8; stroke-linecap: square\"/>\n     </g>\n     <g id=\"line2d_18\">\n      <g>\n       <use xlink:href=\"#m7ea190433b\" x=\"698.854261\" y=\"457.198125\" style=\"stroke: #000000; stroke-width: 0.8\"/>\n      </g>\n     </g>\n     <g id=\"text_9\">\n      <!-- 3.00 -->\n      <g transform=\"translate(687.721449 471.796562)scale(0.1 -0.1)\">\n       <defs>\n        <path id=\"DejaVuSans-33\" d=\"M 2597 2516 \nQ 3050 2419 3304 2112 \nQ 3559 1806 3559 1356 \nQ 3559 666 3084 287 \nQ 2609 -91 1734 -91 \nQ 1441 -91 1130 -33 \nQ 819 25 488 141 \nL 488 750 \nQ 750 597 1062 519 \nQ 1375 441 1716 441 \nQ 2309 441 2620 675 \nQ 2931 909 2931 1356 \nQ 2931 1769 2642 2001 \nQ 2353 2234 1838 2234 \nL 1294 2234 \nL 1294 2753 \nL 1863 2753 \nQ 2328 2753 2575 2939 \nQ 2822 3125 2822 3475 \nQ 2822 3834 2567 4026 \nQ 2313 4219 1838 4219 \nQ 1578 4219 1281 4162 \nQ 984 4106 628 3988 \nL 628 4550 \nQ 988 4650 1302 4700 \nQ 1616 4750 1894 4750 \nQ 2613 4750 3031 4423 \nQ 3450 4097 3450 3541 \nQ 3450 3153 3228 2886 \nQ 3006 2619 2597 2516 \nz\n\" transform=\"scale(0.015625)\"/>\n       </defs>\n       <use xlink:href=\"#DejaVuSans-33\"/>\n       <use xlink:href=\"#DejaVuSans-2e\" x=\"63.623047\"/>\n       <use xlink:href=\"#DejaVuSans-30\" x=\"95.410156\"/>\n       <use xlink:href=\"#DejaVuSans-30\" x=\"159.033203\"/>\n      </g>\n     </g>\n    </g>\n    <g id=\"text_10\">\n     <!-- Epochs -->\n     <g transform=\"translate(376.575 485.474687)scale(0.1 -0.1)\">\n      <defs>\n       <path id=\"DejaVuSans-45\" d=\"M 628 4666 \nL 3578 4666 \nL 3578 4134 \nL 1259 4134 \nL 1259 2753 \nL 3481 2753 \nL 3481 2222 \nL 1259 2222 \nL 1259 531 \nL 3634 531 \nL 3634 0 \nL 628 0 \nL 628 4666 \nz\n\" transform=\"scale(0.015625)\"/>\n       <path id=\"DejaVuSans-70\" d=\"M 1159 525 \nL 1159 -1331 \nL 581 -1331 \nL 581 3500 \nL 1159 3500 \nL 1159 2969 \nQ 1341 3281 1617 3432 \nQ 1894 3584 2278 3584 \nQ 2916 3584 3314 3078 \nQ 3713 2572 3713 1747 \nQ 3713 922 3314 415 \nQ 2916 -91 2278 -91 \nQ 1894 -91 1617 61 \nQ 1341 213 1159 525 \nz\nM 3116 1747 \nQ 3116 2381 2855 2742 \nQ 2594 3103 2138 3103 \nQ 1681 3103 1420 2742 \nQ 1159 2381 1159 1747 \nQ 1159 1113 1420 752 \nQ 1681 391 2138 391 \nQ 2594 391 2855 752 \nQ 3116 1113 3116 1747 \nz\n\" transform=\"scale(0.015625)\"/>\n       <path id=\"DejaVuSans-6f\" d=\"M 1959 3097 \nQ 1497 3097 1228 2736 \nQ 959 2375 959 1747 \nQ 959 1119 1226 758 \nQ 1494 397 1959 397 \nQ 2419 397 2687 759 \nQ 2956 1122 2956 1747 \nQ 2956 2369 2687 2733 \nQ 2419 3097 1959 3097 \nz\nM 1959 3584 \nQ 2709 3584 3137 3096 \nQ 3566 2609 3566 1747 \nQ 3566 888 3137 398 \nQ 2709 -91 1959 -91 \nQ 1206 -91 779 398 \nQ 353 888 353 1747 \nQ 353 2609 779 3096 \nQ 1206 3584 1959 3584 \nz\n\" transform=\"scale(0.015625)\"/>\n       <path id=\"DejaVuSans-63\" d=\"M 3122 3366 \nL 3122 2828 \nQ 2878 2963 2633 3030 \nQ 2388 3097 2138 3097 \nQ 1578 3097 1268 2742 \nQ 959 2388 959 1747 \nQ 959 1106 1268 751 \nQ 1578 397 2138 397 \nQ 2388 397 2633 464 \nQ 2878 531 3122 666 \nL 3122 134 \nQ 2881 22 2623 -34 \nQ 2366 -91 2075 -91 \nQ 1284 -91 818 406 \nQ 353 903 353 1747 \nQ 353 2603 823 3093 \nQ 1294 3584 2113 3584 \nQ 2378 3584 2631 3529 \nQ 2884 3475 3122 3366 \nz\n\" transform=\"scale(0.015625)\"/>\n       <path id=\"DejaVuSans-68\" d=\"M 3513 2113 \nL 3513 0 \nL 2938 0 \nL 2938 2094 \nQ 2938 2591 2744 2837 \nQ 2550 3084 2163 3084 \nQ 1697 3084 1428 2787 \nQ 1159 2491 1159 1978 \nL 1159 0 \nL 581 0 \nL 581 4863 \nL 1159 4863 \nL 1159 2956 \nQ 1366 3272 1645 3428 \nQ 1925 3584 2291 3584 \nQ 2894 3584 3203 3211 \nQ 3513 2838 3513 2113 \nz\n\" transform=\"scale(0.015625)\"/>\n       <path id=\"DejaVuSans-73\" d=\"M 2834 3397 \nL 2834 2853 \nQ 2591 2978 2328 3040 \nQ 2066 3103 1784 3103 \nQ 1356 3103 1142 2972 \nQ 928 2841 928 2578 \nQ 928 2378 1081 2264 \nQ 1234 2150 1697 2047 \nL 1894 2003 \nQ 2506 1872 2764 1633 \nQ 3022 1394 3022 966 \nQ 3022 478 2636 193 \nQ 2250 -91 1575 -91 \nQ 1294 -91 989 -36 \nQ 684 19 347 128 \nL 347 722 \nQ 666 556 975 473 \nQ 1284 391 1588 391 \nQ 1994 391 2212 530 \nQ 2431 669 2431 922 \nQ 2431 1156 2273 1281 \nQ 2116 1406 1581 1522 \nL 1381 1569 \nQ 847 1681 609 1914 \nQ 372 2147 372 2553 \nQ 372 3047 722 3315 \nQ 1072 3584 1716 3584 \nQ 2034 3584 2315 3537 \nQ 2597 3491 2834 3397 \nz\n\" transform=\"scale(0.015625)\"/>\n      </defs>\n      <use xlink:href=\"#DejaVuSans-45\"/>\n      <use xlink:href=\"#DejaVuSans-70\" x=\"63.183594\"/>\n      <use xlink:href=\"#DejaVuSans-6f\" x=\"126.660156\"/>\n      <use xlink:href=\"#DejaVuSans-63\" x=\"187.841797\"/>\n      <use xlink:href=\"#DejaVuSans-68\" x=\"242.822266\"/>\n      <use xlink:href=\"#DejaVuSans-73\" x=\"306.201172\"/>\n     </g>\n    </g>\n   </g>\n   <g id=\"matplotlib.axis_2\">\n    <g id=\"ytick_1\">\n     <g id=\"line2d_19\">\n      <path d=\"M 59.690625 420.195083 \nL 729.290625 420.195083 \n\" clip-path=\"url(#p7c04271152)\" style=\"fill: none; stroke: #b0b0b0; stroke-width: 0.8; stroke-linecap: square\"/>\n     </g>\n     <g id=\"line2d_20\">\n      <defs>\n       <path id=\"md408a2e3b7\" d=\"M 0 0 \nL -3.5 0 \n\" style=\"stroke: #000000; stroke-width: 0.8\"/>\n      </defs>\n      <g>\n       <use xlink:href=\"#md408a2e3b7\" x=\"59.690625\" y=\"420.195083\" style=\"stroke: #000000; stroke-width: 0.8\"/>\n      </g>\n     </g>\n     <g id=\"text_11\">\n      <!-- 34900 -->\n      <g transform=\"translate(20.878125 423.994302)scale(0.1 -0.1)\">\n       <defs>\n        <path id=\"DejaVuSans-34\" d=\"M 2419 4116 \nL 825 1625 \nL 2419 1625 \nL 2419 4116 \nz\nM 2253 4666 \nL 3047 4666 \nL 3047 1625 \nL 3713 1625 \nL 3713 1100 \nL 3047 1100 \nL 3047 0 \nL 2419 0 \nL 2419 1100 \nL 313 1100 \nL 313 1709 \nL 2253 4666 \nz\n\" transform=\"scale(0.015625)\"/>\n        <path id=\"DejaVuSans-39\" d=\"M 703 97 \nL 703 672 \nQ 941 559 1184 500 \nQ 1428 441 1663 441 \nQ 2288 441 2617 861 \nQ 2947 1281 2994 2138 \nQ 2813 1869 2534 1725 \nQ 2256 1581 1919 1581 \nQ 1219 1581 811 2004 \nQ 403 2428 403 3163 \nQ 403 3881 828 4315 \nQ 1253 4750 1959 4750 \nQ 2769 4750 3195 4129 \nQ 3622 3509 3622 2328 \nQ 3622 1225 3098 567 \nQ 2575 -91 1691 -91 \nQ 1453 -91 1209 -44 \nQ 966 3 703 97 \nz\nM 1959 2075 \nQ 2384 2075 2632 2365 \nQ 2881 2656 2881 3163 \nQ 2881 3666 2632 3958 \nQ 2384 4250 1959 4250 \nQ 1534 4250 1286 3958 \nQ 1038 3666 1038 3163 \nQ 1038 2656 1286 2365 \nQ 1534 2075 1959 2075 \nz\n\" transform=\"scale(0.015625)\"/>\n       </defs>\n       <use xlink:href=\"#DejaVuSans-33\"/>\n       <use xlink:href=\"#DejaVuSans-34\" x=\"63.623047\"/>\n       <use xlink:href=\"#DejaVuSans-39\" x=\"127.246094\"/>\n       <use xlink:href=\"#DejaVuSans-30\" x=\"190.869141\"/>\n       <use xlink:href=\"#DejaVuSans-30\" x=\"254.492188\"/>\n      </g>\n     </g>\n    </g>\n    <g id=\"ytick_2\">\n     <g id=\"line2d_21\">\n      <path d=\"M 59.690625 366.333305 \nL 729.290625 366.333305 \n\" clip-path=\"url(#p7c04271152)\" style=\"fill: none; stroke: #b0b0b0; stroke-width: 0.8; stroke-linecap: square\"/>\n     </g>\n     <g id=\"line2d_22\">\n      <g>\n       <use xlink:href=\"#md408a2e3b7\" x=\"59.690625\" y=\"366.333305\" style=\"stroke: #000000; stroke-width: 0.8\"/>\n      </g>\n     </g>\n     <g id=\"text_12\">\n      <!-- 34950 -->\n      <g transform=\"translate(20.878125 370.132523)scale(0.1 -0.1)\">\n       <use xlink:href=\"#DejaVuSans-33\"/>\n       <use xlink:href=\"#DejaVuSans-34\" x=\"63.623047\"/>\n       <use xlink:href=\"#DejaVuSans-39\" x=\"127.246094\"/>\n       <use xlink:href=\"#DejaVuSans-35\" x=\"190.869141\"/>\n       <use xlink:href=\"#DejaVuSans-30\" x=\"254.492188\"/>\n      </g>\n     </g>\n    </g>\n    <g id=\"ytick_3\">\n     <g id=\"line2d_23\">\n      <path d=\"M 59.690625 312.471526 \nL 729.290625 312.471526 \n\" clip-path=\"url(#p7c04271152)\" style=\"fill: none; stroke: #b0b0b0; stroke-width: 0.8; stroke-linecap: square\"/>\n     </g>\n     <g id=\"line2d_24\">\n      <g>\n       <use xlink:href=\"#md408a2e3b7\" x=\"59.690625\" y=\"312.471526\" style=\"stroke: #000000; stroke-width: 0.8\"/>\n      </g>\n     </g>\n     <g id=\"text_13\">\n      <!-- 35000 -->\n      <g transform=\"translate(20.878125 316.270745)scale(0.1 -0.1)\">\n       <use xlink:href=\"#DejaVuSans-33\"/>\n       <use xlink:href=\"#DejaVuSans-35\" x=\"63.623047\"/>\n       <use xlink:href=\"#DejaVuSans-30\" x=\"127.246094\"/>\n       <use xlink:href=\"#DejaVuSans-30\" x=\"190.869141\"/>\n       <use xlink:href=\"#DejaVuSans-30\" x=\"254.492188\"/>\n      </g>\n     </g>\n    </g>\n    <g id=\"ytick_4\">\n     <g id=\"line2d_25\">\n      <path d=\"M 59.690625 258.609747 \nL 729.290625 258.609747 \n\" clip-path=\"url(#p7c04271152)\" style=\"fill: none; stroke: #b0b0b0; stroke-width: 0.8; stroke-linecap: square\"/>\n     </g>\n     <g id=\"line2d_26\">\n      <g>\n       <use xlink:href=\"#md408a2e3b7\" x=\"59.690625\" y=\"258.609747\" style=\"stroke: #000000; stroke-width: 0.8\"/>\n      </g>\n     </g>\n     <g id=\"text_14\">\n      <!-- 35050 -->\n      <g transform=\"translate(20.878125 262.408966)scale(0.1 -0.1)\">\n       <use xlink:href=\"#DejaVuSans-33\"/>\n       <use xlink:href=\"#DejaVuSans-35\" x=\"63.623047\"/>\n       <use xlink:href=\"#DejaVuSans-30\" x=\"127.246094\"/>\n       <use xlink:href=\"#DejaVuSans-35\" x=\"190.869141\"/>\n       <use xlink:href=\"#DejaVuSans-30\" x=\"254.492188\"/>\n      </g>\n     </g>\n    </g>\n    <g id=\"ytick_5\">\n     <g id=\"line2d_27\">\n      <path d=\"M 59.690625 204.747969 \nL 729.290625 204.747969 \n\" clip-path=\"url(#p7c04271152)\" style=\"fill: none; stroke: #b0b0b0; stroke-width: 0.8; stroke-linecap: square\"/>\n     </g>\n     <g id=\"line2d_28\">\n      <g>\n       <use xlink:href=\"#md408a2e3b7\" x=\"59.690625\" y=\"204.747969\" style=\"stroke: #000000; stroke-width: 0.8\"/>\n      </g>\n     </g>\n     <g id=\"text_15\">\n      <!-- 35100 -->\n      <g transform=\"translate(20.878125 208.547188)scale(0.1 -0.1)\">\n       <use xlink:href=\"#DejaVuSans-33\"/>\n       <use xlink:href=\"#DejaVuSans-35\" x=\"63.623047\"/>\n       <use xlink:href=\"#DejaVuSans-31\" x=\"127.246094\"/>\n       <use xlink:href=\"#DejaVuSans-30\" x=\"190.869141\"/>\n       <use xlink:href=\"#DejaVuSans-30\" x=\"254.492188\"/>\n      </g>\n     </g>\n    </g>\n    <g id=\"ytick_6\">\n     <g id=\"line2d_29\">\n      <path d=\"M 59.690625 150.88619 \nL 729.290625 150.88619 \n\" clip-path=\"url(#p7c04271152)\" style=\"fill: none; stroke: #b0b0b0; stroke-width: 0.8; stroke-linecap: square\"/>\n     </g>\n     <g id=\"line2d_30\">\n      <g>\n       <use xlink:href=\"#md408a2e3b7\" x=\"59.690625\" y=\"150.88619\" style=\"stroke: #000000; stroke-width: 0.8\"/>\n      </g>\n     </g>\n     <g id=\"text_16\">\n      <!-- 35150 -->\n      <g transform=\"translate(20.878125 154.685409)scale(0.1 -0.1)\">\n       <use xlink:href=\"#DejaVuSans-33\"/>\n       <use xlink:href=\"#DejaVuSans-35\" x=\"63.623047\"/>\n       <use xlink:href=\"#DejaVuSans-31\" x=\"127.246094\"/>\n       <use xlink:href=\"#DejaVuSans-35\" x=\"190.869141\"/>\n       <use xlink:href=\"#DejaVuSans-30\" x=\"254.492188\"/>\n      </g>\n     </g>\n    </g>\n    <g id=\"ytick_7\">\n     <g id=\"line2d_31\">\n      <path d=\"M 59.690625 97.024412 \nL 729.290625 97.024412 \n\" clip-path=\"url(#p7c04271152)\" style=\"fill: none; stroke: #b0b0b0; stroke-width: 0.8; stroke-linecap: square\"/>\n     </g>\n     <g id=\"line2d_32\">\n      <g>\n       <use xlink:href=\"#md408a2e3b7\" x=\"59.690625\" y=\"97.024412\" style=\"stroke: #000000; stroke-width: 0.8\"/>\n      </g>\n     </g>\n     <g id=\"text_17\">\n      <!-- 35200 -->\n      <g transform=\"translate(20.878125 100.823631)scale(0.1 -0.1)\">\n       <use xlink:href=\"#DejaVuSans-33\"/>\n       <use xlink:href=\"#DejaVuSans-35\" x=\"63.623047\"/>\n       <use xlink:href=\"#DejaVuSans-32\" x=\"127.246094\"/>\n       <use xlink:href=\"#DejaVuSans-30\" x=\"190.869141\"/>\n       <use xlink:href=\"#DejaVuSans-30\" x=\"254.492188\"/>\n      </g>\n     </g>\n    </g>\n    <g id=\"ytick_8\">\n     <g id=\"line2d_33\">\n      <path d=\"M 59.690625 43.162633 \nL 729.290625 43.162633 \n\" clip-path=\"url(#p7c04271152)\" style=\"fill: none; stroke: #b0b0b0; stroke-width: 0.8; stroke-linecap: square\"/>\n     </g>\n     <g id=\"line2d_34\">\n      <g>\n       <use xlink:href=\"#md408a2e3b7\" x=\"59.690625\" y=\"43.162633\" style=\"stroke: #000000; stroke-width: 0.8\"/>\n      </g>\n     </g>\n     <g id=\"text_18\">\n      <!-- 35250 -->\n      <g transform=\"translate(20.878125 46.961852)scale(0.1 -0.1)\">\n       <use xlink:href=\"#DejaVuSans-33\"/>\n       <use xlink:href=\"#DejaVuSans-35\" x=\"63.623047\"/>\n       <use xlink:href=\"#DejaVuSans-32\" x=\"127.246094\"/>\n       <use xlink:href=\"#DejaVuSans-35\" x=\"190.869141\"/>\n       <use xlink:href=\"#DejaVuSans-30\" x=\"254.492188\"/>\n      </g>\n     </g>\n    </g>\n    <g id=\"text_19\">\n     <!-- Hamming distance sum -->\n     <g transform=\"translate(14.798438 299.063594)rotate(-90)scale(0.1 -0.1)\">\n      <defs>\n       <path id=\"DejaVuSans-48\" d=\"M 628 4666 \nL 1259 4666 \nL 1259 2753 \nL 3553 2753 \nL 3553 4666 \nL 4184 4666 \nL 4184 0 \nL 3553 0 \nL 3553 2222 \nL 1259 2222 \nL 1259 0 \nL 628 0 \nL 628 4666 \nz\n\" transform=\"scale(0.015625)\"/>\n       <path id=\"DejaVuSans-61\" d=\"M 2194 1759 \nQ 1497 1759 1228 1600 \nQ 959 1441 959 1056 \nQ 959 750 1161 570 \nQ 1363 391 1709 391 \nQ 2188 391 2477 730 \nQ 2766 1069 2766 1631 \nL 2766 1759 \nL 2194 1759 \nz\nM 3341 1997 \nL 3341 0 \nL 2766 0 \nL 2766 531 \nQ 2569 213 2275 61 \nQ 1981 -91 1556 -91 \nQ 1019 -91 701 211 \nQ 384 513 384 1019 \nQ 384 1609 779 1909 \nQ 1175 2209 1959 2209 \nL 2766 2209 \nL 2766 2266 \nQ 2766 2663 2505 2880 \nQ 2244 3097 1772 3097 \nQ 1472 3097 1187 3025 \nQ 903 2953 641 2809 \nL 641 3341 \nQ 956 3463 1253 3523 \nQ 1550 3584 1831 3584 \nQ 2591 3584 2966 3190 \nQ 3341 2797 3341 1997 \nz\n\" transform=\"scale(0.015625)\"/>\n       <path id=\"DejaVuSans-6d\" d=\"M 3328 2828 \nQ 3544 3216 3844 3400 \nQ 4144 3584 4550 3584 \nQ 5097 3584 5394 3201 \nQ 5691 2819 5691 2113 \nL 5691 0 \nL 5113 0 \nL 5113 2094 \nQ 5113 2597 4934 2840 \nQ 4756 3084 4391 3084 \nQ 3944 3084 3684 2787 \nQ 3425 2491 3425 1978 \nL 3425 0 \nL 2847 0 \nL 2847 2094 \nQ 2847 2600 2669 2842 \nQ 2491 3084 2119 3084 \nQ 1678 3084 1418 2786 \nQ 1159 2488 1159 1978 \nL 1159 0 \nL 581 0 \nL 581 3500 \nL 1159 3500 \nL 1159 2956 \nQ 1356 3278 1631 3431 \nQ 1906 3584 2284 3584 \nQ 2666 3584 2933 3390 \nQ 3200 3197 3328 2828 \nz\n\" transform=\"scale(0.015625)\"/>\n       <path id=\"DejaVuSans-69\" d=\"M 603 3500 \nL 1178 3500 \nL 1178 0 \nL 603 0 \nL 603 3500 \nz\nM 603 4863 \nL 1178 4863 \nL 1178 4134 \nL 603 4134 \nL 603 4863 \nz\n\" transform=\"scale(0.015625)\"/>\n       <path id=\"DejaVuSans-6e\" d=\"M 3513 2113 \nL 3513 0 \nL 2938 0 \nL 2938 2094 \nQ 2938 2591 2744 2837 \nQ 2550 3084 2163 3084 \nQ 1697 3084 1428 2787 \nQ 1159 2491 1159 1978 \nL 1159 0 \nL 581 0 \nL 581 3500 \nL 1159 3500 \nL 1159 2956 \nQ 1366 3272 1645 3428 \nQ 1925 3584 2291 3584 \nQ 2894 3584 3203 3211 \nQ 3513 2838 3513 2113 \nz\n\" transform=\"scale(0.015625)\"/>\n       <path id=\"DejaVuSans-67\" d=\"M 2906 1791 \nQ 2906 2416 2648 2759 \nQ 2391 3103 1925 3103 \nQ 1463 3103 1205 2759 \nQ 947 2416 947 1791 \nQ 947 1169 1205 825 \nQ 1463 481 1925 481 \nQ 2391 481 2648 825 \nQ 2906 1169 2906 1791 \nz\nM 3481 434 \nQ 3481 -459 3084 -895 \nQ 2688 -1331 1869 -1331 \nQ 1566 -1331 1297 -1286 \nQ 1028 -1241 775 -1147 \nL 775 -588 \nQ 1028 -725 1275 -790 \nQ 1522 -856 1778 -856 \nQ 2344 -856 2625 -561 \nQ 2906 -266 2906 331 \nL 2906 616 \nQ 2728 306 2450 153 \nQ 2172 0 1784 0 \nQ 1141 0 747 490 \nQ 353 981 353 1791 \nQ 353 2603 747 3093 \nQ 1141 3584 1784 3584 \nQ 2172 3584 2450 3431 \nQ 2728 3278 2906 2969 \nL 2906 3500 \nL 3481 3500 \nL 3481 434 \nz\n\" transform=\"scale(0.015625)\"/>\n       <path id=\"DejaVuSans-20\" transform=\"scale(0.015625)\"/>\n       <path id=\"DejaVuSans-64\" d=\"M 2906 2969 \nL 2906 4863 \nL 3481 4863 \nL 3481 0 \nL 2906 0 \nL 2906 525 \nQ 2725 213 2448 61 \nQ 2172 -91 1784 -91 \nQ 1150 -91 751 415 \nQ 353 922 353 1747 \nQ 353 2572 751 3078 \nQ 1150 3584 1784 3584 \nQ 2172 3584 2448 3432 \nQ 2725 3281 2906 2969 \nz\nM 947 1747 \nQ 947 1113 1208 752 \nQ 1469 391 1925 391 \nQ 2381 391 2643 752 \nQ 2906 1113 2906 1747 \nQ 2906 2381 2643 2742 \nQ 2381 3103 1925 3103 \nQ 1469 3103 1208 2742 \nQ 947 2381 947 1747 \nz\n\" transform=\"scale(0.015625)\"/>\n       <path id=\"DejaVuSans-74\" d=\"M 1172 4494 \nL 1172 3500 \nL 2356 3500 \nL 2356 3053 \nL 1172 3053 \nL 1172 1153 \nQ 1172 725 1289 603 \nQ 1406 481 1766 481 \nL 2356 481 \nL 2356 0 \nL 1766 0 \nQ 1100 0 847 248 \nQ 594 497 594 1153 \nL 594 3053 \nL 172 3053 \nL 172 3500 \nL 594 3500 \nL 594 4494 \nL 1172 4494 \nz\n\" transform=\"scale(0.015625)\"/>\n       <path id=\"DejaVuSans-65\" d=\"M 3597 1894 \nL 3597 1613 \nL 953 1613 \nQ 991 1019 1311 708 \nQ 1631 397 2203 397 \nQ 2534 397 2845 478 \nQ 3156 559 3463 722 \nL 3463 178 \nQ 3153 47 2828 -22 \nQ 2503 -91 2169 -91 \nQ 1331 -91 842 396 \nQ 353 884 353 1716 \nQ 353 2575 817 3079 \nQ 1281 3584 2069 3584 \nQ 2775 3584 3186 3129 \nQ 3597 2675 3597 1894 \nz\nM 3022 2063 \nQ 3016 2534 2758 2815 \nQ 2500 3097 2075 3097 \nQ 1594 3097 1305 2825 \nQ 1016 2553 972 2059 \nL 3022 2063 \nz\n\" transform=\"scale(0.015625)\"/>\n       <path id=\"DejaVuSans-75\" d=\"M 544 1381 \nL 544 3500 \nL 1119 3500 \nL 1119 1403 \nQ 1119 906 1312 657 \nQ 1506 409 1894 409 \nQ 2359 409 2629 706 \nQ 2900 1003 2900 1516 \nL 2900 3500 \nL 3475 3500 \nL 3475 0 \nL 2900 0 \nL 2900 538 \nQ 2691 219 2414 64 \nQ 2138 -91 1772 -91 \nQ 1169 -91 856 284 \nQ 544 659 544 1381 \nz\nM 1991 3584 \nL 1991 3584 \nz\n\" transform=\"scale(0.015625)\"/>\n      </defs>\n      <use xlink:href=\"#DejaVuSans-48\"/>\n      <use xlink:href=\"#DejaVuSans-61\" x=\"75.195312\"/>\n      <use xlink:href=\"#DejaVuSans-6d\" x=\"136.474609\"/>\n      <use xlink:href=\"#DejaVuSans-6d\" x=\"233.886719\"/>\n      <use xlink:href=\"#DejaVuSans-69\" x=\"331.298828\"/>\n      <use xlink:href=\"#DejaVuSans-6e\" x=\"359.082031\"/>\n      <use xlink:href=\"#DejaVuSans-67\" x=\"422.460938\"/>\n      <use xlink:href=\"#DejaVuSans-20\" x=\"485.9375\"/>\n      <use xlink:href=\"#DejaVuSans-64\" x=\"517.724609\"/>\n      <use xlink:href=\"#DejaVuSans-69\" x=\"581.201172\"/>\n      <use xlink:href=\"#DejaVuSans-73\" x=\"608.984375\"/>\n      <use xlink:href=\"#DejaVuSans-74\" x=\"661.083984\"/>\n      <use xlink:href=\"#DejaVuSans-61\" x=\"700.292969\"/>\n      <use xlink:href=\"#DejaVuSans-6e\" x=\"761.572266\"/>\n      <use xlink:href=\"#DejaVuSans-63\" x=\"824.951172\"/>\n      <use xlink:href=\"#DejaVuSans-65\" x=\"879.931641\"/>\n      <use xlink:href=\"#DejaVuSans-20\" x=\"941.455078\"/>\n      <use xlink:href=\"#DejaVuSans-73\" x=\"973.242188\"/>\n      <use xlink:href=\"#DejaVuSans-75\" x=\"1025.341797\"/>\n      <use xlink:href=\"#DejaVuSans-6d\" x=\"1088.720703\"/>\n     </g>\n    </g>\n   </g>\n   <g id=\"line2d_35\">\n    <path d=\"M 90.126989 42.085398 \nL 394.490625 426.658497 \nL 698.854261 437.430852 \n\" clip-path=\"url(#p7c04271152)\" style=\"fill: none; stroke: #1f77b4; stroke-width: 1.5; stroke-linecap: square\"/>\n   </g>\n   <g id=\"patch_3\">\n    <path d=\"M 59.690625 457.198125 \nL 59.690625 22.318125 \n\" style=\"fill: none; stroke: #000000; stroke-width: 0.8; stroke-linejoin: miter; stroke-linecap: square\"/>\n   </g>\n   <g id=\"patch_4\">\n    <path d=\"M 729.290625 457.198125 \nL 729.290625 22.318125 \n\" style=\"fill: none; stroke: #000000; stroke-width: 0.8; stroke-linejoin: miter; stroke-linecap: square\"/>\n   </g>\n   <g id=\"patch_5\">\n    <path d=\"M 59.690625 457.198125 \nL 729.290625 457.198125 \n\" style=\"fill: none; stroke: #000000; stroke-width: 0.8; stroke-linejoin: miter; stroke-linecap: square\"/>\n   </g>\n   <g id=\"patch_6\">\n    <path d=\"M 59.690625 22.318125 \nL 729.290625 22.318125 \n\" style=\"fill: none; stroke: #000000; stroke-width: 0.8; stroke-linejoin: miter; stroke-linecap: square\"/>\n   </g>\n   <g id=\"text_20\">\n    <!-- transformer &lt;model_demo&gt; validation scores -->\n    <g transform=\"translate(255.657188 16.318125)scale(0.12 -0.12)\">\n     <defs>\n      <path id=\"DejaVuSans-72\" d=\"M 2631 2963 \nQ 2534 3019 2420 3045 \nQ 2306 3072 2169 3072 \nQ 1681 3072 1420 2755 \nQ 1159 2438 1159 1844 \nL 1159 0 \nL 581 0 \nL 581 3500 \nL 1159 3500 \nL 1159 2956 \nQ 1341 3275 1631 3429 \nQ 1922 3584 2338 3584 \nQ 2397 3584 2469 3576 \nQ 2541 3569 2628 3553 \nL 2631 2963 \nz\n\" transform=\"scale(0.015625)\"/>\n      <path id=\"DejaVuSans-66\" d=\"M 2375 4863 \nL 2375 4384 \nL 1825 4384 \nQ 1516 4384 1395 4259 \nQ 1275 4134 1275 3809 \nL 1275 3500 \nL 2222 3500 \nL 2222 3053 \nL 1275 3053 \nL 1275 0 \nL 697 0 \nL 697 3053 \nL 147 3053 \nL 147 3500 \nL 697 3500 \nL 697 3744 \nQ 697 4328 969 4595 \nQ 1241 4863 1831 4863 \nL 2375 4863 \nz\n\" transform=\"scale(0.015625)\"/>\n      <path id=\"DejaVuSans-3c\" d=\"M 4684 3150 \nL 1459 2003 \nL 4684 863 \nL 4684 294 \nL 678 1747 \nL 678 2266 \nL 4684 3719 \nL 4684 3150 \nz\n\" transform=\"scale(0.015625)\"/>\n      <path id=\"DejaVuSans-6c\" d=\"M 603 4863 \nL 1178 4863 \nL 1178 0 \nL 603 0 \nL 603 4863 \nz\n\" transform=\"scale(0.015625)\"/>\n      <path id=\"DejaVuSans-5f\" d=\"M 3263 -1063 \nL 3263 -1509 \nL -63 -1509 \nL -63 -1063 \nL 3263 -1063 \nz\n\" transform=\"scale(0.015625)\"/>\n      <path id=\"DejaVuSans-3e\" d=\"M 678 3150 \nL 678 3719 \nL 4684 2266 \nL 4684 1747 \nL 678 294 \nL 678 863 \nL 3897 2003 \nL 678 3150 \nz\n\" transform=\"scale(0.015625)\"/>\n      <path id=\"DejaVuSans-76\" d=\"M 191 3500 \nL 800 3500 \nL 1894 563 \nL 2988 3500 \nL 3597 3500 \nL 2284 0 \nL 1503 0 \nL 191 3500 \nz\n\" transform=\"scale(0.015625)\"/>\n     </defs>\n     <use xlink:href=\"#DejaVuSans-74\"/>\n     <use xlink:href=\"#DejaVuSans-72\" x=\"39.208984\"/>\n     <use xlink:href=\"#DejaVuSans-61\" x=\"80.322266\"/>\n     <use xlink:href=\"#DejaVuSans-6e\" x=\"141.601562\"/>\n     <use xlink:href=\"#DejaVuSans-73\" x=\"204.980469\"/>\n     <use xlink:href=\"#DejaVuSans-66\" x=\"257.080078\"/>\n     <use xlink:href=\"#DejaVuSans-6f\" x=\"292.285156\"/>\n     <use xlink:href=\"#DejaVuSans-72\" x=\"353.466797\"/>\n     <use xlink:href=\"#DejaVuSans-6d\" x=\"392.830078\"/>\n     <use xlink:href=\"#DejaVuSans-65\" x=\"490.242188\"/>\n     <use xlink:href=\"#DejaVuSans-72\" x=\"551.765625\"/>\n     <use xlink:href=\"#DejaVuSans-20\" x=\"592.878906\"/>\n     <use xlink:href=\"#DejaVuSans-3c\" x=\"624.666016\"/>\n     <use xlink:href=\"#DejaVuSans-6d\" x=\"708.455078\"/>\n     <use xlink:href=\"#DejaVuSans-6f\" x=\"805.867188\"/>\n     <use xlink:href=\"#DejaVuSans-64\" x=\"867.048828\"/>\n     <use xlink:href=\"#DejaVuSans-65\" x=\"930.525391\"/>\n     <use xlink:href=\"#DejaVuSans-6c\" x=\"992.048828\"/>\n     <use xlink:href=\"#DejaVuSans-5f\" x=\"1019.832031\"/>\n     <use xlink:href=\"#DejaVuSans-64\" x=\"1069.832031\"/>\n     <use xlink:href=\"#DejaVuSans-65\" x=\"1133.308594\"/>\n     <use xlink:href=\"#DejaVuSans-6d\" x=\"1194.832031\"/>\n     <use xlink:href=\"#DejaVuSans-6f\" x=\"1292.244141\"/>\n     <use xlink:href=\"#DejaVuSans-3e\" x=\"1353.425781\"/>\n     <use xlink:href=\"#DejaVuSans-20\" x=\"1437.214844\"/>\n     <use xlink:href=\"#DejaVuSans-76\" x=\"1469.001953\"/>\n     <use xlink:href=\"#DejaVuSans-61\" x=\"1528.181641\"/>\n     <use xlink:href=\"#DejaVuSans-6c\" x=\"1589.460938\"/>\n     <use xlink:href=\"#DejaVuSans-69\" x=\"1617.244141\"/>\n     <use xlink:href=\"#DejaVuSans-64\" x=\"1645.027344\"/>\n     <use xlink:href=\"#DejaVuSans-61\" x=\"1708.503906\"/>\n     <use xlink:href=\"#DejaVuSans-74\" x=\"1769.783203\"/>\n     <use xlink:href=\"#DejaVuSans-69\" x=\"1808.992188\"/>\n     <use xlink:href=\"#DejaVuSans-6f\" x=\"1836.775391\"/>\n     <use xlink:href=\"#DejaVuSans-6e\" x=\"1897.957031\"/>\n     <use xlink:href=\"#DejaVuSans-20\" x=\"1961.335938\"/>\n     <use xlink:href=\"#DejaVuSans-73\" x=\"1993.123047\"/>\n     <use xlink:href=\"#DejaVuSans-63\" x=\"2045.222656\"/>\n     <use xlink:href=\"#DejaVuSans-6f\" x=\"2100.203125\"/>\n     <use xlink:href=\"#DejaVuSans-72\" x=\"2161.384766\"/>\n     <use xlink:href=\"#DejaVuSans-65\" x=\"2200.248047\"/>\n     <use xlink:href=\"#DejaVuSans-73\" x=\"2261.771484\"/>\n    </g>\n   </g>\n   <g id=\"legend_1\">\n    <g id=\"patch_7\">\n     <path d=\"M 595.50625 45.274375 \nL 722.290625 45.274375 \nQ 724.290625 45.274375 724.290625 43.274375 \nL 724.290625 29.318125 \nQ 724.290625 27.318125 722.290625 27.318125 \nL 595.50625 27.318125 \nQ 593.50625 27.318125 593.50625 29.318125 \nL 593.50625 43.274375 \nQ 593.50625 45.274375 595.50625 45.274375 \nz\n\" style=\"fill: #ffffff; opacity: 0.8; stroke: #cccccc; stroke-linejoin: miter\"/>\n    </g>\n    <g id=\"line2d_36\">\n     <path d=\"M 597.50625 35.416562 \nL 607.50625 35.416562 \nL 617.50625 35.416562 \n\" style=\"fill: none; stroke: #1f77b4; stroke-width: 1.5; stroke-linecap: square\"/>\n    </g>\n    <g id=\"text_21\">\n     <!-- hamming_distance -->\n     <g transform=\"translate(625.50625 38.916562)scale(0.1 -0.1)\">\n      <use xlink:href=\"#DejaVuSans-68\"/>\n      <use xlink:href=\"#DejaVuSans-61\" x=\"63.378906\"/>\n      <use xlink:href=\"#DejaVuSans-6d\" x=\"124.658203\"/>\n      <use xlink:href=\"#DejaVuSans-6d\" x=\"222.070312\"/>\n      <use xlink:href=\"#DejaVuSans-69\" x=\"319.482422\"/>\n      <use xlink:href=\"#DejaVuSans-6e\" x=\"347.265625\"/>\n      <use xlink:href=\"#DejaVuSans-67\" x=\"410.644531\"/>\n      <use xlink:href=\"#DejaVuSans-5f\" x=\"474.121094\"/>\n      <use xlink:href=\"#DejaVuSans-64\" x=\"524.121094\"/>\n      <use xlink:href=\"#DejaVuSans-69\" x=\"587.597656\"/>\n      <use xlink:href=\"#DejaVuSans-73\" x=\"615.380859\"/>\n      <use xlink:href=\"#DejaVuSans-74\" x=\"667.480469\"/>\n      <use xlink:href=\"#DejaVuSans-61\" x=\"706.689453\"/>\n      <use xlink:href=\"#DejaVuSans-6e\" x=\"767.96875\"/>\n      <use xlink:href=\"#DejaVuSans-63\" x=\"831.347656\"/>\n      <use xlink:href=\"#DejaVuSans-65\" x=\"886.328125\"/>\n     </g>\n    </g>\n   </g>\n  </g>\n </g>\n <defs>\n  <clipPath id=\"p7c04271152\">\n   <rect x=\"59.690625\" y=\"22.318125\" width=\"669.6\" height=\"434.88\"/>\n  </clipPath>\n </defs>\n</svg>\n",
      "text/plain": [
       "<Figure size 864x576 with 1 Axes>"
      ]
     },
     "metadata": {},
     "output_type": "display_data"
    }
   ],
   "source": [
    "# train without validation\n",
    "# train_seq2seq(model_demo, X_train, X_valid_len, Y_train, Y_valid_len, working_score_tensor, lr, num_epochs, batch_size, label_smoothing, amino_dict, device, model_name='model_demo')\n",
    "\n",
    "# train with validation \n",
    "train_seq2seq(model_demo, X_train, X_valid_len, Y_train, Y_valid_len, working_score_tensor, lr, num_epochs, batch_size, label_smoothing, amino_dict, device, model_name='model_demo', X_validation=X_validation, Y_validation=Y_validation, X_validation_valid_len=X_validation_valid_len, Y_validation_valid_len=Y_validation_valid_len)"
   ]
  },
  {
   "cell_type": "code",
   "execution_count": 87,
   "metadata": {},
   "outputs": [
    {
     "data": {
      "text/plain": [
       "<All keys matched successfully>"
      ]
     },
     "execution_count": 87,
     "metadata": {},
     "output_type": "execute_result"
    }
   ],
   "source": [
    "# save model \n",
    "# torch.save(net.state_dict(), file_name)\n",
    "# pickle.dump(model_demo, open(\"model_demo.pkl\", \"wb\"))\n",
    "\n",
    "# load model\n",
    "# model_demo = pickle.load(open(\"model_demo_22Jul12_0913AM\", \"rb\"))\n",
    "# model_demo = EncoderDecoder(encoder_demo, decoder_demo)\n",
    "model_demo.load_state_dict(torch.load(\"model_demo_22Jul12_1024AM\", map_location = ('cpu')))\n",
    "# model.eval()\n"
   ]
  },
  {
   "cell_type": "markdown",
   "metadata": {},
   "source": [
    "#### Model predicting"
   ]
  },
  {
   "cell_type": "code",
   "execution_count": 88,
   "metadata": {},
   "outputs": [
    {
     "name": "stdout",
     "output_type": "stream",
     "text": [
      "Conditional probability at position 1 is 0.08397284150123596\n",
      "Conditional probability at position 2 is 0.13720513880252838\n",
      "Conditional probability at position 3 is 0.16785955429077148\n",
      "Conditional probability at position 4 is 0.9203442931175232\n",
      "Input target sequence is SPT, predicted complementary peptide is TVT\n",
      "Condition on input, predicted probability is 0.0017799410373475649\n"
     ]
    }
   ],
   "source": [
    "target = ['SPT']\n",
    "num_steps_prediction = 10 # max length of sequence to predict\n",
    "\n",
    "dec_comple_peptide_pred, dec_prob, dec_attention_weight_seq = predict_greedy_single(model_demo, target[0], amino_dict, num_steps_prediction, device, save_attention_weights=True, print_info=True)"
   ]
  },
  {
   "cell_type": "markdown",
   "metadata": {},
   "source": [
    "# Task 2: Train a base model "
   ]
  },
  {
   "cell_type": "markdown",
   "metadata": {},
   "source": [
    "#### Build base model"
   ]
  },
  {
   "cell_type": "code",
   "execution_count": 40,
   "metadata": {},
   "outputs": [],
   "source": [
    "query_size, key_size, value_size, num_hiddens = 256, 256, 256, 256\n",
    "num_layers, dropout = 4, 0.1\n",
    "lr, num_epochs, batch_size, label_smoothing = 0.0004, 500, 6000, 0.1\n",
    "ffn_num_input, ffn_num_hiddens, num_heads = 256, 1024, 8\n",
    "\n",
    "norm_shape = [256] # 32 corresponds to the dim of such number to normalize\n",
    "device = d2l.try_gpu()"
   ]
  },
  {
   "cell_type": "code",
   "execution_count": 41,
   "metadata": {},
   "outputs": [],
   "source": [
    "encoder_base = TransformerEncoder(\n",
    "\tlen(amino_dict), key_size, query_size, value_size, num_hiddens, \n",
    "\tnorm_shape, ffn_num_input, ffn_num_hiddens, num_heads,\n",
    "\tnum_layers, dropout)\n",
    "decoder_base = TransformerDecoder(\n",
    "\tlen(amino_dict), key_size, query_size, value_size, num_hiddens, \n",
    "\tnorm_shape, ffn_num_input, ffn_num_hiddens, num_heads,\n",
    "\tnum_layers, dropout)\n",
    "model_base = EncoderDecoder(encoder_base, decoder_base)"
   ]
  },
  {
   "cell_type": "code",
   "execution_count": 42,
   "metadata": {},
   "outputs": [
    {
     "name": "stdout",
     "output_type": "stream",
     "text": [
      "Base model: total number of parameters: 7378968\n",
      "Base model: total number of trainable parameters: 7378968\n"
     ]
    }
   ],
   "source": [
    "model_base_total_params = sum(p.numel() for p in model_base.parameters())\n",
    "model_base_total_trainable_params = sum(p.numel() for p in model_base.parameters() if p.requires_grad)\n",
    "\n",
    "print('Base model: total number of parameters: {}'.format(model_base_total_params))\n",
    "print('Base model: total number of trainable parameters: {}'.format(model_base_total_trainable_params))"
   ]
  },
  {
   "cell_type": "markdown",
   "metadata": {},
   "source": [
    "#### Model training"
   ]
  },
  {
   "cell_type": "code",
   "execution_count": 5,
   "metadata": {},
   "outputs": [],
   "source": [
    "# To train a new model on GPU:\n",
    "# 1. free GPU usage\n",
    "# 2. restart kernel\n",
    "# 3. reload all pretraining data\n",
    "\n",
    "# check gpu_usage\n",
    "#gpu_usage()\n",
    "\n",
    "# free GPU usage\n",
    "#free_gpu_cache()    "
   ]
  },
  {
   "cell_type": "code",
   "execution_count": 1,
   "metadata": {},
   "outputs": [],
   "source": [
    "# train without validation\n",
    "# train_seq2seq(model_base, X_train, X_valid_len, Y_train, Y_valid_len, working_score_tensor, lr, num_epochs, batch_size, label_smoothing, amino_dict, device, model_name='model_base', warmup=16000)\n",
    "\n",
    "# train with validation\n",
    "# train_seq2seq(model_base, X_train, X_valid_len, Y_train, Y_valid_len, working_score_tensor, lr, num_epochs, batch_size, label_smoothing, amino_dict, device, model_name='model_base_validation', warmup=16000, X_validation=X_validation, Y_validation=Y_validation, X_validation_valid_len=X_validation_valid_len, Y_validation_valid_len=Y_validation_valid_len)\n"
   ]
  },
  {
   "cell_type": "code",
   "execution_count": 43,
   "metadata": {},
   "outputs": [
    {
     "data": {
      "text/plain": [
       "<All keys matched successfully>"
      ]
     },
     "execution_count": 43,
     "metadata": {},
     "output_type": "execute_result"
    }
   ],
   "source": [
    "# save model \n",
    "# torch.save(net.state_dict(), file_name)\n",
    "# pickle.dump(model_base, open(\"model_base.pkl\", \"wb\"))\n",
    "\n",
    "# load model\n",
    "# model_base = pickle.load(open(\"model_base.pkl\", \"rb\"))\n",
    "# model_demo = EncoderDecoder(encoder_demo, decoder_demo)\n",
    "model_base.load_state_dict(torch.load(\"model_base_22Jul14_0326AM\", map_location = ('cpu')))\n",
    "# model.eval()"
   ]
  },
  {
   "cell_type": "markdown",
   "metadata": {},
   "source": [
    "#### Model prediction"
   ]
  },
  {
   "cell_type": "code",
   "execution_count": 44,
   "metadata": {},
   "outputs": [
    {
     "name": "stdout",
     "output_type": "stream",
     "text": [
      "['KEMIQEVI' 'FTMLELYE' 'KQVFTVPY' 'DYEVTLTR' 'FHLDVDIS' 'DLRAMPAH'\n",
      " 'KTIYIYNV' 'SREYHICV' 'VYSILTSS' 'KVRVKMET']\n",
      "['LAKPIYLT' 'VRGIEYVK' 'HIIVKLEG' 'RVTLTALY' 'LHFTVKGI' 'SNVWKLGA'\n",
      " 'GTFICGIN' 'TLTVVAHV' 'FYLTAETI' 'TVEVEFSN']\n",
      "Conditional probability at position 1 is 0.9551613330841064\n",
      "Conditional probability at position 2 is 0.9726256132125854\n",
      "Conditional probability at position 3 is 0.9443170428276062\n",
      "Conditional probability at position 4 is 0.9340344071388245\n",
      "Conditional probability at position 5 is 0.954649806022644\n",
      "Conditional probability at position 6 is 0.9690737724304199\n",
      "Conditional probability at position 7 is 0.9708462953567505\n",
      "Conditional probability at position 8 is 0.9615175724029541\n",
      "Conditional probability at position 9 is 0.9101818203926086\n",
      "Input target sequence is KSATTTVM, predicted complementary peptide is EVAIALGG\n",
      "Condition on input, predicted probability is 0.6440801670176379\n"
     ]
    }
   ],
   "source": [
    "num_steps_prediction = 10 # max length of target sequence to predict\n",
    "\n",
    "print(X_validation_letter[0:10])\n",
    "print(Y_validation_letter[0:10])\n",
    "\n",
    "dec_comple_peptide_pred, dec_prob, dec_attention_weight_seq = predict_greedy_single(model_base, 'KSATTTVM', amino_dict, num_steps_prediction, device, save_attention_weights=True, print_info=True)"
   ]
  },
  {
   "cell_type": "markdown",
   "metadata": {},
   "source": [
    "# Task 3: Train a wide model "
   ]
  },
  {
   "cell_type": "markdown",
   "metadata": {},
   "source": [
    "#### Build wide model"
   ]
  },
  {
   "cell_type": "code",
   "execution_count": 40,
   "metadata": {},
   "outputs": [],
   "source": [
    "query_size, key_size, value_size, num_hiddens = 512, 512, 512, 512\n",
    "num_layers, dropout = 4, 0.1\n",
    "lr, num_epochs, batch_size, label_smoothing = 0.0004, 500, 6000, 0.1\n",
    "ffn_num_input, ffn_num_hiddens, num_heads = 512, 2048, 8\n",
    "\n",
    "norm_shape = [512] # 32 corresponds to the dim of such number to normalize\n",
    "device = d2l.try_gpu()"
   ]
  },
  {
   "cell_type": "code",
   "execution_count": 41,
   "metadata": {},
   "outputs": [],
   "source": [
    "encoder_wide = TransformerEncoder(\n",
    "\tlen(amino_dict), key_size, query_size, value_size, num_hiddens, \n",
    "\tnorm_shape, ffn_num_input, ffn_num_hiddens, num_heads,\n",
    "\tnum_layers, dropout)\n",
    "decoder_wide = TransformerDecoder(\n",
    "\tlen(amino_dict), key_size, query_size, value_size, num_hiddens, \n",
    "\tnorm_shape, ffn_num_input, ffn_num_hiddens, num_heads,\n",
    "\tnum_layers, dropout)\n",
    "model_wide = EncoderDecoder(encoder_wide, decoder_wide)"
   ]
  },
  {
   "cell_type": "code",
   "execution_count": 42,
   "metadata": {},
   "outputs": [
    {
     "name": "stdout",
     "output_type": "stream",
     "text": [
      "Base model: total number of parameters: 29437976\n",
      "Base model: total number of trainable parameters: 29437976\n"
     ]
    }
   ],
   "source": [
    "model_wide_total_params = sum(p.numel() for p in model_wide.parameters())\n",
    "model_wide_total_trainable_params = sum(p.numel() for p in model_wide.parameters() if p.requires_grad)\n",
    "\n",
    "print('Base model: total number of parameters: {}'.format(model_wide_total_params))\n",
    "print('Base model: total number of trainable parameters: {}'.format(model_wide_total_trainable_params))"
   ]
  },
  {
   "cell_type": "markdown",
   "metadata": {},
   "source": [
    "#### Model training"
   ]
  },
  {
   "cell_type": "code",
   "execution_count": 114,
   "metadata": {},
   "outputs": [],
   "source": [
    "# train without validation\n",
    "# train_seq2seq(model_wide, X_train, X_valid_len, Y_train, Y_valid_len, working_score_tensor, lr, num_epochs, batch_size, label_smoothing, amino_dict, device, model_name='model_wide', warmup=35000)\n",
    "\n",
    "# train with validation \n",
    "# train_seq2seq(model_wide, X_train, X_valid_len, Y_train, Y_valid_len, working_score_tensor, lr, num_epochs, batch_size, label_smoothing, amino_dict, device, model_name='model_wide_validation', warmup=35000, X_validation=X_validation, Y_validation=Y_validation, X_validation_valid_len=X_validation_valid_len, Y_validation_valid_len=Y_validation_valid_len)\n"
   ]
  },
  {
   "cell_type": "code",
   "execution_count": 43,
   "metadata": {},
   "outputs": [
    {
     "data": {
      "text/plain": [
       "<All keys matched successfully>"
      ]
     },
     "execution_count": 43,
     "metadata": {},
     "output_type": "execute_result"
    }
   ],
   "source": [
    "model_wide.load_state_dict(torch.load(\"model_wide_22Jul16_1011AM\", map_location = ('cpu')))"
   ]
  },
  {
   "cell_type": "markdown",
   "metadata": {},
   "source": [
    "#### Model prediction"
   ]
  },
  {
   "cell_type": "code",
   "execution_count": 44,
   "metadata": {},
   "outputs": [],
   "source": [
    "# interesting examples to demonstrate the power of the model\n",
    "\n",
    "PDB_beta_strand_1 = 'NRIELKGT' # PDB labels = 'VVARTKYK' (training sample that generate different labels)\n",
    "Biochem_target_1 = 'EQVTNVG' # paper chosen peptide = 'EILVSYQ' (alpha-synuclein residues 61-67)\n",
    "Biochem_target_2 = 'QKLVFFA' # paper chosen peptide = 'FKLSVIT' (Abeta42 residues 15-22)\n",
    "PNAS_target_1 = 'FGAILSS' # paper chosen peptide = 'RLGVYQR' (IAPP 23-29)\n",
    "\n",
    "\n",
    "task_target_1 = None\n",
    "\n",
    "prediction_length = 8"
   ]
  },
  {
   "cell_type": "code",
   "execution_count": 45,
   "metadata": {},
   "outputs": [
    {
     "name": "stdout",
     "output_type": "stream",
     "text": [
      "Dataset search result: \n",
      " []\n"
     ]
    }
   ],
   "source": [
    "# search whether the target exists in PDB\n",
    "\n",
    "# target, complementary_seq, counts, promiscuity, length, working_score, hb_pattern, para/anti, freq\n",
    "\n",
    "# BSn_data_dataset_sequence -- dataset contains all samples\n",
    "# BSn_data_dataset2 -- dataset with negative working scores removed\n",
    "\n",
    "print(\"Dataset search result: \\n\", search_target(BSn_data_dataset_sequence[:, :6], 'FGAILSS'))"
   ]
  },
  {
   "cell_type": "code",
   "execution_count": 46,
   "metadata": {},
   "outputs": [
    {
     "name": "stdout",
     "output_type": "stream",
     "text": [
      "Conditional probability at position 1 is 0.24961581826210022\n",
      "Conditional probability at position 2 is 0.5463156700134277\n",
      "Conditional probability at position 3 is 0.24481281638145447\n",
      "Conditional probability at position 4 is 0.8274489641189575\n",
      "Conditional probability at position 5 is 0.7676637768745422\n",
      "Conditional probability at position 6 is 0.4261205494403839\n",
      "Conditional probability at position 7 is 0.6034224033355713\n",
      "Conditional probability at position 8 is 0.9245035648345947\n",
      "Input target sequence is FGAILSS, predicted complementary peptide is IVRVGTI\n",
      "Condition on input, predicted probability is 0.0050410925959675276\n"
     ]
    }
   ],
   "source": [
    "# greedy single prediction\n",
    "\n",
    "dec_comple_peptide_pred, dec_prob, dec_attention_weight_seq = predict_greedy_single(model_wide, 'FGAILSS', amino_dict, prediction_length + 2, device, save_attention_weights=True, print_info=True)"
   ]
  },
  {
   "cell_type": "code",
   "execution_count": 48,
   "metadata": {},
   "outputs": [],
   "source": [
    "# unique top candidates sampling\n",
    "\n",
    "# large num_candidates is recommended if we have enough memory\n",
    "\n",
    "num_candidates = 50\n",
    "max_iter = 20\n",
    "\n",
    "peptide_candidates = sample_candidates(model_wide, 'FGAILSS', num_candidates, amino_dict, prediction_length + 2, device, max_iter=max_iter)\n",
    "peptide_candidates"
   ]
  },
  {
   "cell_type": "code",
   "execution_count": 56,
   "metadata": {},
   "outputs": [
    {
     "name": "stdout",
     "output_type": "stream",
     "text": [
      "Conditional probability at position 1 is 0.9358905553817749\n",
      "Conditional probability at position 2 is 0.043088313192129135\n",
      "Conditional probability at position 3 is 0.921801745891571\n",
      "Conditional probability at position 4 is 0.9240824580192566\n",
      "Conditional probability at position 5 is 0.9230687618255615\n",
      "Conditional probability at position 6 is 0.9244361519813538\n",
      "Conditional probability at position 7 is 0.9250525832176208\n",
      "Conditional probability at position 8 is 0.9524264931678772\n",
      "Conditional probability at position 9 is 0.9239492416381836\n",
      "Input target sequence is NRIELKGT, complementary peptide is VVARTKYK, evaluated probability is 0.023861062918231507\n"
     ]
    }
   ],
   "source": [
    "# target and complementary peptide evaluation\n",
    "\n",
    "evaluate_single(model_wide, 'NRIELKGT', 'VVARTKYK',amino_dict, prediction_length + 2, device, print_info=True)"
   ]
  },
  {
   "cell_type": "code",
   "execution_count": 57,
   "metadata": {},
   "outputs": [
    {
     "name": "stdout",
     "output_type": "stream",
     "text": [
      "['KEMIQEVI' 'FTMLELYE' 'KQVFTVPY' 'DYEVTLTR' 'FHLDVDIS' 'DLRAMPAH'\n",
      " 'KTIYIYNV' 'SREYHICV' 'VYSILTSS' 'KVRVKMET']\n",
      "['LAKPIYLT' 'VRGIEYVK' 'HIIVKLEG' 'RVTLTALY' 'LHFTVKGI' 'SNVWKLGA'\n",
      " 'GTFICGIN' 'TLTVVAHV' 'FYLTAETI' 'TVEVEFSN']\n",
      "Greedy batch prediction: \n",
      " [['KEMIQEVI' 'LAKPIYLT' '0.601555347442627']\n",
      " ['FTMLELYE' 'VRGIEYVK' '0.44587305188179016']\n",
      " ['KQVFTVPY' 'HIIVKLEG' '0.6263747215270996']\n",
      " ['DYEVTLTR' 'RVTLTALY' '0.6022646427154541']\n",
      " ['FHLDVDIS' 'LHFTVKGI' '0.6096101403236389']\n",
      " ['DLRAMPAH' 'SNVWKLGA' '0.5396904945373535']\n",
      " ['KTIYIYNV' 'GTFICGIN' '0.5399317145347595']\n",
      " ['SREYHICV' 'TLTVVAHV' '0.5907752513885498']\n",
      " ['VYSILTSS' 'FYLTAETI' '0.5898668169975281']\n",
      " ['KVRVKMET' 'TVEVEFSN' '0.5440295338630676']]\n"
     ]
    }
   ],
   "source": [
    "# greedy batch prediction -- can be used to scan possible targets\n",
    "\n",
    "print(X_validation_letter[:10])\n",
    "print(Y_validation_letter[:10])\n",
    "\n",
    "peptide_pred = predict_greedy_batch(model_wide, X_validation_letter[:10], amino_dict, prediction_length + 2, device)\n",
    "print(\"Greedy batch prediction: \\n\", peptide_pred)"
   ]
  },
  {
   "cell_type": "markdown",
   "metadata": {},
   "source": [
    "# Task 4: Model Base Validation analysis"
   ]
  },
  {
   "cell_type": "markdown",
   "metadata": {},
   "source": [
    "#### Build model base validation"
   ]
  },
  {
   "cell_type": "code",
   "execution_count": 58,
   "metadata": {},
   "outputs": [],
   "source": [
    "query_size, key_size, value_size, num_hiddens = 256, 256, 256, 256\n",
    "num_layers, dropout = 4, 0.1\n",
    "lr, num_epochs, batch_size, label_smoothing = 0.0004, 500, 6000, 0.1\n",
    "ffn_num_input, ffn_num_hiddens, num_heads = 256, 1024, 8\n",
    "\n",
    "norm_shape = [256] # 32 corresponds to the dim of such number to normalize\n",
    "device = d2l.try_gpu()"
   ]
  },
  {
   "cell_type": "code",
   "execution_count": 59,
   "metadata": {},
   "outputs": [],
   "source": [
    "encoder_base = TransformerEncoder(\n",
    "\tlen(amino_dict), key_size, query_size, value_size, num_hiddens, \n",
    "\tnorm_shape, ffn_num_input, ffn_num_hiddens, num_heads,\n",
    "\tnum_layers, dropout)\n",
    "decoder_base = TransformerDecoder(\n",
    "\tlen(amino_dict), key_size, query_size, value_size, num_hiddens, \n",
    "\tnorm_shape, ffn_num_input, ffn_num_hiddens, num_heads,\n",
    "\tnum_layers, dropout)\n",
    "model_base_validation = EncoderDecoder(encoder_base, decoder_base)"
   ]
  },
  {
   "cell_type": "code",
   "execution_count": 60,
   "metadata": {},
   "outputs": [
    {
     "name": "stdout",
     "output_type": "stream",
     "text": [
      "Base model: total number of parameters: 7378968\n",
      "Base model: total number of trainable parameters: 7378968\n"
     ]
    }
   ],
   "source": [
    "model_base_validation_total_params = sum(p.numel() for p in model_base_validation.parameters())\n",
    "model_base_validation_total_trainable_params = sum(p.numel() for p in model_base_validation.parameters() if p.requires_grad)\n",
    "\n",
    "print('Base model: total number of parameters: {}'.format(model_base_validation_total_params))\n",
    "print('Base model: total number of trainable parameters: {}'.format(model_base_validation_total_trainable_params))"
   ]
  },
  {
   "cell_type": "code",
   "execution_count": 61,
   "metadata": {},
   "outputs": [
    {
     "data": {
      "text/plain": [
       "<All keys matched successfully>"
      ]
     },
     "execution_count": 61,
     "metadata": {},
     "output_type": "execute_result"
    }
   ],
   "source": [
    "# load the model\n",
    "model_base_validation.load_state_dict(torch.load(\"model_base_validation_22Jul18_0536AM\", map_location = ('cpu')))\n"
   ]
  },
  {
   "cell_type": "markdown",
   "metadata": {},
   "source": [
    "#### Hamming distance analysis on validation set"
   ]
  },
  {
   "cell_type": "code",
   "execution_count": 62,
   "metadata": {},
   "outputs": [
    {
     "name": "stdout",
     "output_type": "stream",
     "text": [
      "['KEMIQEVI' 'FTMLELYE' 'KQVFTVPY' 'DYEVTLTR' 'FHLDVDIS' 'DLRAMPAH'\n",
      " 'KTIYIYNV' 'SREYHICV' 'VYSILTSS' 'KVRVKMET']\n",
      "['LAKPIYLT' 'VRGIEYVK' 'HIIVKLEG' 'RVTLTALY' 'LHFTVKGI' 'SNVWKLGA'\n",
      " 'GTFICGIN' 'TLTVVAHV' 'FYLTAETI' 'TVEVEFSN']\n",
      "(5000, 4)\n"
     ]
    }
   ],
   "source": [
    "prediction_length = 8\n",
    "\n",
    "num_minibatch = 50\n",
    "\n",
    "print(X_validation_letter[:10])\n",
    "print(Y_validation_letter[:10])\n",
    "\n",
    "peptide_pred_list = []\n",
    "num_iter = int(len(X_validation_letter)/num_minibatch)\n",
    "\n",
    "for i in range(num_iter):\n",
    "\tpeptide_pred = predict_greedy_batch(model_base_validation, X_validation_letter[num_minibatch*i:num_minibatch*i+num_minibatch], amino_dict, prediction_length + 2, device)\n",
    "\tpeptide_pred_list.append(peptide_pred)\n",
    "peptide_pred_array = np.vstack(peptide_pred_list)\n",
    "peptide_pred_array_new = np.hstack([peptide_pred_array, np.array(Y_validation_letter).reshape(-1, 1)])\n",
    "# target, prediction, greedy_prob, label\n",
    "\n",
    "print(peptide_pred_array_new.shape)"
   ]
  },
  {
   "cell_type": "code",
   "execution_count": 63,
   "metadata": {},
   "outputs": [
    {
     "name": "stdout",
     "output_type": "stream",
     "text": [
      "Sequence length: 8\n",
      "mismatched sequences: 1428, total sequences: 5000\n",
      "mismatched residues: 6164, total residues: 40000\n",
      "----------------------------------------------------------\n",
      "Sequences prediction accuracy:  0.7144\n",
      "Residue prediction accuracy:  0.8459\n"
     ]
    }
   ],
   "source": [
    "# process the results to study mismatched sequences\n",
    "# target, prediction, prob, label\n",
    "\n",
    "num_validation = len(X_validation_letter)\n",
    "total_residue = num_validation * prediction_length\n",
    "print(\"Sequence length:\", prediction_length)\n",
    "\n",
    "peptide_validation_mismatchs = peptide_pred_array_new[peptide_pred_array_new[:, 1] != np.array(Y_validation_letter)]\n",
    "print(\"mismatched sequences: {}, total sequences: {}\".format(peptide_validation_mismatchs.shape[0], num_validation))\n",
    "\n",
    "peptide_validation_hamming = hamming_distance_sum(peptide_pred_array_new[:, 1], np.array(Y_validation_letter))\n",
    "print(\"mismatched residues: {}, total residues: {}\".format(peptide_validation_hamming, total_residue))\n",
    "\n",
    "print(\"----------------------------------------------------------\")\n",
    "print(\"Sequences prediction accuracy: \", (num_validation-peptide_validation_mismatchs.shape[0])/num_validation)\n",
    "print(\"Residue prediction accuracy: \", (total_residue-peptide_validation_hamming)/total_residue) "
   ]
  },
  {
   "cell_type": "code",
   "execution_count": 64,
   "metadata": {},
   "outputs": [
    {
     "name": "stdout",
     "output_type": "stream",
     "text": [
      "target      prediction      probability       PDB_label\n",
      "[['KVRVKMET' 'SILVDFAT' '0.008602997288107872' 'TVEVEFSN']\n",
      " ['TEGIWRGV' 'WTFPVNII' '0.11936737596988678' 'ATFPVNII']\n",
      " ['LVYETVRV' 'LTYVKVEL' '0.01129102148115635' 'AVPYTYLS']\n",
      " ['TMQMMFGC' 'VSTSFYRM' '0.13841383159160614' 'MGTLFYRL']\n",
      " ['VAGQYEAA' 'AVVRHVQH' '0.3287472426891327' 'AAVQTQEH']\n",
      " ['FFQLFYTL' 'CLSLVIIF' '0.002241917420178652' 'KCGTHIQF']\n",
      " ['KLVHYDVL' 'VVNYIRTV' '0.49400004744529724' 'VVNYIRTI']\n",
      " ['IAIEYTSI' 'LNIRYADY' '0.0031037142034620047' 'REIVTDER']\n",
      " ['HLSVQGPY' 'YFSYTAEY' '0.1979689598083496' 'YFSYTAEF']\n",
      " ['YRLRIDLT' 'PLLKMTTH' '0.26479727029800415' 'PLLKMTTM']\n",
      " ['EIRLTRIL' 'EVRYVLEF' '0.10515044629573822' 'AVRYVLEF']\n",
      " ['NRIELKGT' 'VEARTKYK' '0.2505059540271759' 'VVARTKYK']\n",
      " ['TGWTGYFD' 'LNWDTKLS' '0.2468978762626648' 'LNWDTKLV']\n",
      " ['QFEISITS' 'QFVFMYLH' '0.00542890839278698' 'YSKYSITV']\n",
      " ['PQFKVDGK' 'YEWRSGIW' '0.021402446553111076' 'FKAETNIS']\n",
      " ['LHKTFISV' 'KITYEYKE' '0.167838454246521' 'KITYEYKF']\n",
      " ['RVLVVCAE' 'GVILAAAG' '0.4933861196041107' 'GIILAAAG']\n",
      " ['GVRAIHYS' 'FLSYSEIK' '0.11568101495504379' 'GAGIRDEF']\n",
      " ['AQGFILDL' 'KVGLMGMR' '0.08665251731872559' 'VTRAELRA']\n",
      " ['KGLFYALD' 'TLEYIEIE' '0.0018249814165756106' 'GLLVRMVR']]\n"
     ]
    }
   ],
   "source": [
    "print(\"target      prediction      probability       PDB_label\")\n",
    "print(peptide_validation_mismatchs[0:20, :])"
   ]
  },
  {
   "cell_type": "code",
   "execution_count": 65,
   "metadata": {},
   "outputs": [
    {
     "name": "stdout",
     "output_type": "stream",
     "text": [
      "Conditional probability at position 1 is 0.5547669529914856\n",
      "Conditional probability at position 2 is 0.5106884837150574\n",
      "Conditional probability at position 3 is 0.35666120052337646\n",
      "Conditional probability at position 4 is 0.928555428981781\n",
      "Conditional probability at position 5 is 0.8865200281143188\n",
      "Conditional probability at position 6 is 0.35324156284332275\n",
      "Conditional probability at position 7 is 0.3998695909976959\n",
      "Conditional probability at position 8 is 0.8044186234474182\n",
      "Conditional probability at position 9 is 0.9102398753166199\n",
      "Input target sequence is KVRVKMET, predicted complementary peptide is SILVDFAT\n",
      "Condition on input, predicted probability is 0.00860294306477206\n"
     ]
    }
   ],
   "source": [
    "dec_comple_peptide_pred, dec_prob, dec_attention_weight_seq = predict_greedy_single(model_base_validation, 'KVRVKMET', amino_dict, prediction_length + 2, device, save_attention_weights=True, print_info=True)"
   ]
  },
  {
   "cell_type": "code",
   "execution_count": 66,
   "metadata": {},
   "outputs": [
    {
     "name": "stdout",
     "output_type": "stream",
     "text": [
      "number of total candidates sampled: 400\n",
      "number of unique top candidates successfully sampled: 200\n"
     ]
    },
    {
     "data": {
      "text/plain": [
       "[('TVEVEFSN', 0.03208165),\n",
       " ('TVEVEFSA', 0.03043992),\n",
       " ('SVEVEFSN', 0.02112612),\n",
       " ('SIVVEFSN', 0.01900584),\n",
       " ('SIEVEFSA', 0.01688151),\n",
       " ('SIEVEFSN', 0.01668579),\n",
       " ('SVEVEFSA', 0.01624979),\n",
       " ('EVEVEFSN', 0.01564283),\n",
       " ('EVEVEFSA', 0.00834312),\n",
       " ('SIVVEFSA', 0.00530461),\n",
       " ('EIEVEFSN', 0.00451858),\n",
       " ('VVEVEFSN', 0.00445714),\n",
       " ('NVEVEFSA', 0.00428088),\n",
       " ('EIEVEFSA', 0.00379015),\n",
       " ('TVEVEFAK', 0.00341043),\n",
       " ('STLILVHG', 0.00337687),\n",
       " ('SVEVEFAK', 0.00321075),\n",
       " ('VVEVEFSA', 0.00316605),\n",
       " ('SYLVEFSN', 0.00303602),\n",
       " ('TIEVEFSA', 0.00291795),\n",
       " ('IVEVEFSN', 0.00265904),\n",
       " ('TVVVEFSN', 0.00258578),\n",
       " ('SILVDFSI', 0.00222193),\n",
       " ('DVEVEFSN', 0.00215328),\n",
       " ('DVEVEFSA', 0.00213032),\n",
       " ('SILVDLTI', 0.0020582),\n",
       " ('SLEVEFSN', 0.00198717),\n",
       " ('SYTVEFSA', 0.00193645),\n",
       " ('SYLVEFSA', 0.00187258),\n",
       " ('IVEVEFSA', 0.00187005),\n",
       " ('SVTVEFSA', 0.00164539),\n",
       " ('SVVVEFSN', 0.0016094),\n",
       " ('SILVDLIK', 0.00143755),\n",
       " ('SVTVEFSN', 0.00142241),\n",
       " ('WVEVEFSN', 0.00127238),\n",
       " ('SILVDEEG', 0.0011791),\n",
       " ('SILVDEYE', 0.00103522),\n",
       " ('SYTVEFSN', 0.00102662),\n",
       " ('SISVEFSN', 0.00102141),\n",
       " ('SILVDSVA', 0.00099049),\n",
       " ('SVIVEFAK', 0.00093816),\n",
       " ('SIAVEFSA', 0.00081942),\n",
       " ('KVEVEFSA', 0.00080043),\n",
       " ('FVEVEFSN', 0.00078246),\n",
       " ('TVEVEFSC', 0.00075491),\n",
       " ('SIVVEFQE', 0.00075156),\n",
       " ('SILVDEQE', 0.00073679),\n",
       " ('SILILVHG', 0.00070703),\n",
       " ('NVEVEFAK', 0.00070308),\n",
       " ('SISVEFSA', 0.00066328),\n",
       " ('SVVVEFSA', 0.00058071),\n",
       " ('SILVDLMV', 0.00051226),\n",
       " ('TIVVEFSN', 0.00045466),\n",
       " ('MVEVEFSA', 0.00042254),\n",
       " ('SILVDFQI', 0.00041937),\n",
       " ('SVEVEFSC', 0.00039571),\n",
       " ('TVIVEFSN', 0.00039331),\n",
       " ('SILVDFQV', 0.00036038),\n",
       " ('EVEVTFVN', 0.00035889),\n",
       " ('SILVDLRS', 0.00035666),\n",
       " ('EVEVEFSH', 0.00032353),\n",
       " ('SILVDFWT', 0.00030792),\n",
       " ('TIEVEFAK', 0.00029245),\n",
       " ('TVEVEFSY', 0.00027008),\n",
       " ('RYTVEFSA', 0.0002667),\n",
       " ('SYLVDFRV', 0.00025745),\n",
       " ('SVDIFVTG', 0.00024726),\n",
       " ('TVEVESNV', 0.00024409),\n",
       " ('SVEVEFSS', 0.00023052),\n",
       " ('SILVDMFC', 0.0002288),\n",
       " ('TVSVEFSN', 0.00022713),\n",
       " ('SILVDVWA', 0.0002177),\n",
       " ('NVVVEFSA', 0.00019962),\n",
       " ('SIRVEFSN', 0.00019297),\n",
       " ('SEEVEFSN', 0.00018893),\n",
       " ('GVEVEFSN', 0.00018009),\n",
       " ('TYLVEFSN', 0.00016601),\n",
       " ('NVEVTFSN', 0.00015009),\n",
       " ('EVEVTFGS', 0.00014607),\n",
       " ('SILVDFTV', 0.00013536),\n",
       " ('SILVDFET', 0.00013362),\n",
       " ('EFEVTFSN', 0.00013276),\n",
       " ('SILIVAHG', 0.00012568),\n",
       " ('SILVESRL', 0.00012289),\n",
       " ('NYTVEFSA', 0.00012131),\n",
       " ('SIVVEFSP', 0.00011338),\n",
       " ('SILVDFWQ', 0.00010543),\n",
       " ('SIVVEAVG', 9.97296738e-05),\n",
       " ('TVEVEFSG', 9.01891108e-05),\n",
       " ('SIEIVAVK', 8.37164553e-05),\n",
       " ('SIVVEFSY', 8.13387815e-05),\n",
       " ('SILVDVSG', 7.83077267e-05),\n",
       " ('IVEVEFSH', 7.62673735e-05),\n",
       " ('TVHIEFSN', 7.32409026e-05),\n",
       " ('YAEIVVHG', 6.57430137e-05),\n",
       " ('SIRVDMFL', 6.41694787e-05),\n",
       " ('TVEVTYVE', 6.11333817e-05),\n",
       " ('SVIVEFNG', 5.84296686e-05),\n",
       " ('SVEVFAKF', 5.79427833e-05),\n",
       " ('TDTVEFSA', 5.37283377e-05),\n",
       " ('SILVDFRQ', 4.92812469e-05),\n",
       " ('STLILVSG', 4.81588577e-05),\n",
       " ('TVEVQARY', 3.98354205e-05),\n",
       " ('SIRVDMAT', 3.81306818e-05),\n",
       " ('SIPVDKRI', 3.69022673e-05),\n",
       " ('SILVEFAT', 3.30867661e-05),\n",
       " ('EVEVVFTV', 2.82660203e-05),\n",
       " ('QIEVEFSA', 2.78646676e-05),\n",
       " ('SVDVFVAT', 2.65752915e-05),\n",
       " ('EVEVEFAC', 2.64901064e-05),\n",
       " ('MLEVTFSN', 2.6437936e-05),\n",
       " ('SYLRPSRY', 2.48890919e-05),\n",
       " ('SIFVEQSI', 2.40564004e-05),\n",
       " ('SIFVQAKC', 2.35320204e-05),\n",
       " ('EVEVCEFK', 2.2889044e-05),\n",
       " ('SIRVDLRI', 2.23347488e-05),\n",
       " ('TVPESVTG', 2.16227745e-05),\n",
       " ('TVEVESWA', 2.13672993e-05),\n",
       " ('SILVDMSE', 2.09531809e-05),\n",
       " ('SYLRSFRV', 2.07976664e-05),\n",
       " ('DVEVEFNL', 2.07238209e-05),\n",
       " ('ILTVEFSN', 1.82028143e-05),\n",
       " ('SILVAFTV', 1.80273928e-05),\n",
       " ('SVDEHASA', 1.77831771e-05),\n",
       " ('YLVVEFSA', 1.6835631e-05),\n",
       " ('CYELVARY', 1.65451675e-05),\n",
       " ('SIRVDMPG', 1.61346597e-05),\n",
       " ('TVIVEFAN', 1.55403195e-05),\n",
       " ('SIVVEFKT', 1.39194544e-05),\n",
       " ('STLVVAVQ', 1.34099037e-05),\n",
       " ('SILVEDSG', 1.30449653e-05),\n",
       " ('NYEIVAVK', 1.2791179e-05),\n",
       " ('SVVVEFSP', 1.21647463e-05),\n",
       " ('SIVVESEA', 9.90218086e-06),\n",
       " ('SVTGEIEG', 9.72758062e-06),\n",
       " ('HVTVEFAA', 9.51339916e-06),\n",
       " ('TVEVWGSG', 9.18622209e-06),\n",
       " ('TVEVPFSA', 9.09463688e-06),\n",
       " ('SILIEFRL', 8.58292606e-06),\n",
       " ('SEEVVETG', 7.34911009e-06),\n",
       " ('SYLVDMTI', 7.08114612e-06),\n",
       " ('SILVEFGV', 6.87547572e-06),\n",
       " ('SEEVVISG', 6.32416413e-06),\n",
       " ('DVEVIVSG', 6.12424856e-06),\n",
       " ('SYRVDMHG', 5.73471834e-06),\n",
       " ('TVEEDQEG', 4.76845162e-06),\n",
       " ('YAEIVVIS', 4.34248523e-06),\n",
       " ('SYSYVFSH', 4.18197033e-06),\n",
       " ('EWTIEFSN', 4.1577814e-06),\n",
       " ('HYTREMNV', 4.07280777e-06),\n",
       " ('TVEVTWEL', 3.67099551e-06),\n",
       " ('QVDVFVFG', 3.49607376e-06),\n",
       " ('SVEEEQES', 2.97404563e-06),\n",
       " ('DYEIVVIH', 2.85481087e-06),\n",
       " ('RYLVEFSH', 2.42663009e-06),\n",
       " ('SILVDSQD', 2.21548726e-06),\n",
       " ('TVEVWLHG', 1.98738144e-06),\n",
       " ('SVDFQRSS', 1.88526792e-06),\n",
       " ('EVYVEFAK', 1.8790106e-06),\n",
       " ('SYLAEFSA', 1.81531277e-06),\n",
       " ('SILVECGY', 1.7935447e-06),\n",
       " ('SILILLIK', 1.6466779e-06),\n",
       " ('EVEVETHA', 1.64144751e-06),\n",
       " ('SIVVDCDY', 1.62572246e-06),\n",
       " ('TVPVDMHE', 1.61770743e-06),\n",
       " ('VNVVEFSN', 1.51894847e-06),\n",
       " ('STLILLHR', 1.49378468e-06),\n",
       " ('TVRITMPI', 1.39385338e-06),\n",
       " ('SIGVFAVD', 1.38380312e-06),\n",
       " ('TYTEEMNV', 1.30026763e-06),\n",
       " ('SILVDFMH', 1.29942146e-06),\n",
       " ('SIRIHAKF', 1.29550233e-06),\n",
       " ('STEITQES', 1.25083307e-06),\n",
       " ('SITIRQSV', 1.24949065e-06),\n",
       " ('TVEVVTYK', 1.23415634e-06),\n",
       " ('SREIVLYE', 1.16191472e-06),\n",
       " ('TTQVWGSG', 1.05201468e-06),\n",
       " ('SVVVEFNS', 1.02893125e-06),\n",
       " ('NLAIITSA', 8.96859603e-07),\n",
       " ('SREVLFSE', 8.78836829e-07),\n",
       " ('SVRIIFTQ', 8.72103783e-07),\n",
       " ('DTEITVSD', 8.32473177e-07),\n",
       " ('TVEVPIVG', 7.81315634e-07),\n",
       " ('SVQVLFTH', 7.49540845e-07),\n",
       " ('SVKVQFDS', 7.07188633e-07),\n",
       " ('TYEIFWRE', 5.9753836e-07),\n",
       " ('EIVVEFDS', 5.19432319e-07),\n",
       " ('EVEVEAME', 4.94748178e-07),\n",
       " ('SYLFDVTM', 4.76108625e-07),\n",
       " ('TIEIIFKA', 4.67943778e-07),\n",
       " ('NHVTFGSA', 4.47425862e-07),\n",
       " ('SILVQANT', 4.40103094e-07),\n",
       " ('WVEIIFTV', 4.21102698e-07),\n",
       " ('SYLVDWAW', 4.20037992e-07),\n",
       " ('HVVGEGEA', 4.09999359e-07),\n",
       " ('SILVKVKL', 3.95819626e-07),\n",
       " ('PIAVDCNV', 3.9195865e-07),\n",
       " ('YAEVAVMK', 3.77024435e-07),\n",
       " ('SVEVIAAK', 3.66566951e-07),\n",
       " ('NVEFRVKT', 3.50839059e-07)]"
      ]
     },
     "execution_count": 66,
     "metadata": {},
     "output_type": "execute_result"
    }
   ],
   "source": [
    "num_candidates = 200\n",
    "max_iter = 20\n",
    "\n",
    "peptide_candidates = sample_candidates(model_base_validation, 'KVRVKMET', num_candidates, amino_dict, prediction_length + 2, device, max_iter=max_iter)\n",
    "peptide_candidates"
   ]
  },
  {
   "cell_type": "markdown",
   "metadata": {},
   "source": [
    "# Task 5: Conditional probability vs Hamming distance analysis (model wide)"
   ]
  },
  {
   "cell_type": "markdown",
   "metadata": {},
   "source": [
    "#### Build a wide model"
   ]
  },
  {
   "cell_type": "code",
   "execution_count": 67,
   "metadata": {},
   "outputs": [
    {
     "name": "stdout",
     "output_type": "stream",
     "text": [
      "Base model: total number of parameters: 29437976\n",
      "Base model: total number of trainable parameters: 29437976\n"
     ]
    },
    {
     "data": {
      "text/plain": [
       "<All keys matched successfully>"
      ]
     },
     "execution_count": 67,
     "metadata": {},
     "output_type": "execute_result"
    }
   ],
   "source": [
    "query_size, key_size, value_size, num_hiddens = 512, 512, 512, 512\n",
    "num_layers, dropout = 4, 0.1\n",
    "lr, num_epochs, batch_size, label_smoothing = 0.0004, 500, 6000, 0.1\n",
    "ffn_num_input, ffn_num_hiddens, num_heads = 512, 2048, 8\n",
    "\n",
    "norm_shape = [512] # 32 corresponds to the dim of such number to normalize\n",
    "device = d2l.try_gpu()\n",
    "\n",
    "\n",
    "encoder_wide = TransformerEncoder(\n",
    "\tlen(amino_dict), key_size, query_size, value_size, num_hiddens, \n",
    "\tnorm_shape, ffn_num_input, ffn_num_hiddens, num_heads,\n",
    "\tnum_layers, dropout)\n",
    "decoder_wide = TransformerDecoder(\n",
    "\tlen(amino_dict), key_size, query_size, value_size, num_hiddens, \n",
    "\tnorm_shape, ffn_num_input, ffn_num_hiddens, num_heads,\n",
    "\tnum_layers, dropout)\n",
    "model_wide = EncoderDecoder(encoder_wide, decoder_wide)\n",
    "\n",
    "\n",
    "model_wide_total_params = sum(p.numel() for p in model_wide.parameters())\n",
    "model_wide_total_trainable_params = sum(p.numel() for p in model_wide.parameters() if p.requires_grad)\n",
    "\n",
    "print('Wide model: total number of parameters: {}'.format(model_wide_total_params))\n",
    "print('Wide model: total number of trainable parameters: {}'.format(model_wide_total_trainable_params))\n",
    "\n",
    "\n",
    "model_wide.load_state_dict(torch.load(\"model_wide_22Jul16_1011AM\", map_location = ('cpu')))"
   ]
  },
  {
   "cell_type": "markdown",
   "metadata": {},
   "source": [
    "#### Select random targets"
   ]
  },
  {
   "cell_type": "code",
   "execution_count": 41,
   "metadata": {},
   "outputs": [
    {
     "name": "stdout",
     "output_type": "stream",
     "text": [
      "['YIRPMYWA' 'ELCLAFDT']\n"
     ]
    }
   ],
   "source": [
    "np.random.seed(0)\n",
    "max_index = BSn_data_dataset2_indices_length8_unique.shape[0]\n",
    "random_index = np.random.choice(max_index)\n",
    "\n",
    "random_target_info = BSn_data_dataset2_indices_length8_unique[random_index, :2]\n",
    "print(random_target_info)"
   ]
  },
  {
   "cell_type": "markdown",
   "metadata": {},
   "source": [
    "#### Sampling from model"
   ]
  },
  {
   "cell_type": "markdown",
   "metadata": {},
   "source": [
    "Do not run following cells on local machine! This is time consuming. "
   ]
  },
  {
   "cell_type": "code",
   "execution_count": 42,
   "metadata": {},
   "outputs": [
    {
     "name": "stdout",
     "output_type": "stream",
     "text": [
      "random target: YIRPMYWA\n",
      "random label: ELCLAFDT\n"
     ]
    }
   ],
   "source": [
    "target = random_target_info[0]\n",
    "label = random_target_info[1]\n",
    "\n",
    "print(\"random target:\", target)\n",
    "print(\"random label:\", label)"
   ]
  },
  {
   "cell_type": "code",
   "execution_count": 44,
   "metadata": {},
   "outputs": [
    {
     "name": "stdout",
     "output_type": "stream",
     "text": [
      "number of total candidates sampled: 312\n",
      "number of unique top candidates successfully sampled: 100\n",
      "number of clean samples obtained: 100\n"
     ]
    }
   ],
   "source": [
    "# unique top candidates sampling\n",
    "\n",
    "# large num_candidates is recommended if we have enough memory\n",
    "\n",
    "num_candidates = 100\n",
    "max_iter = 10\n",
    "prediction_length = 8\n",
    "\n",
    "peptide_candidates = sample_candidates(model_wide, target, num_candidates, amino_dict, prediction_length + 2, device, max_iter=max_iter)\n",
    "peptide_candidates_array = np.array(peptide_candidates)"
   ]
  },
  {
   "cell_type": "code",
   "execution_count": 45,
   "metadata": {},
   "outputs": [
    {
     "data": {
      "text/plain": [
       "Text(0.5, 1.0, '<model_wide> sampling distribution plot')"
      ]
     },
     "execution_count": 45,
     "metadata": {},
     "output_type": "execute_result"
    },
    {
     "data": {
      "image/png": "[encoded data removed]",
      "text/plain": [
       "<Figure size 1728x1152 with 1 Axes>"
      ]
     },
     "metadata": {},
     "output_type": "display_data"
    }
   ],
   "source": [
    "random_samples = list(list(zip(*peptide_candidates_array))[0])\n",
    "random_samples_probs = list(list(zip(*peptide_candidates_array))[1])\n",
    "label_list = [label]*num_candidates\n",
    "random_samples_hamming = hamming_distance_list(random_samples, label_list)\n",
    "\n",
    "# prob vs hamming plot \n",
    "plt.figure(figsize=(24, 16), facecolor=(1, 1, 1))\n",
    "file_time = time.strftime('%y%b%d_%I%M%p', time.gmtime())\n",
    "model_name = 'model_wide'\n",
    "\n",
    "plt.scatter(random_samples_hamming, random_samples_probs, label='Target:       {} \\n PDB label: {}'.format(target, label), c='r', s=5)\n",
    "plt.xlabel('Hamming distances')\n",
    "plt.ylabel('Probability of generation')\n",
    "plt.legend()\n",
    "plt.yscale('log')\n",
    "plt.title(\"<{}> sampling distribution plot\".format(model_name))\n",
    "# plt.grid()\n",
    "# plt.savefig('{}_prob_hamming_plot_{}.png'.format(model_name, file_time))"
   ]
  },
  {
   "cell_type": "markdown",
   "metadata": {},
   "source": [
    "#### Save unique length 7 predictions in a folder/files/table"
   ]
  },
  {
   "cell_type": "code",
   "execution_count": 107,
   "metadata": {},
   "outputs": [
    {
     "name": "stdout",
     "output_type": "stream",
     "text": [
      "number of length 7 samples:  (99856, 10)\n",
      "number of unique length 7 sample:  (76435, 10)\n"
     ]
    }
   ],
   "source": [
    "prediction_length = 7\n",
    "\n",
    "# unique length 7 targets\n",
    "target_indices = np.arange(BSn_data_dataset2.shape[0]).reshape(-1, 1)\n",
    "BSn_data_dataset2_indices = np.hstack([BSn_data_dataset2, target_indices])\n",
    "\n",
    "condition1 = np.nonzero(np.array([length==prediction_length for length in BSn_data_dataset2_indices[:, 4]]))\n",
    "BSn_data_dataset2_indices_length_7 = BSn_data_dataset2_indices[condition1]\n",
    "\n",
    "condition2 = np.nonzero(np.array([freq==1 for freq in BSn_data_dataset2_indices_length_7[:, -2]]))\n",
    "BSn_data_dataset2_indices_length_7_unique = BSn_data_dataset2_indices_length_7[condition2]\n",
    "\n",
    "\n",
    "print(\"number of length 7 samples: \", BSn_data_dataset2_indices_length_7.shape)\n",
    "print(\"number of unique length 7 sample: \", BSn_data_dataset2_indices_length_7_unique.shape)\n",
    "# target, complementary_seq, counts, promiscuity, length, working_score, hb_pattern, para/anti, freq, indices"
   ]
  },
  {
   "cell_type": "code",
   "execution_count": 69,
   "metadata": {},
   "outputs": [
    {
     "name": "stdout",
     "output_type": "stream",
     "text": [
      "['WLLTGYI' 'TVNLHGF' 'LYELISR' 'IFVTLLI' 'AVQQRII' 'EVIVQWT' 'EIRIRDG'\n",
      " 'HVMVVGH' 'YQLNQVF' 'KIRIFVP']\n",
      "['FRLELRS' 'KVNLFLI' 'IKRIFVP' 'VHLTAIA' 'NLKANVV' 'TLALSID' 'QIDIGCF'\n",
      " 'FVHGWLY' 'IKISVVY' 'EAVIIDV']\n"
     ]
    }
   ],
   "source": [
    "target_array = BSn_data_dataset2_indices_length_7_unique[:, 0]\n",
    "label_array = BSn_data_dataset2_indices_length_7_unique[:, 1]\n",
    "\n",
    "print(target_array[:10])\n",
    "print(label_array[:10])"
   ]
  },
  {
   "cell_type": "code",
   "execution_count": 104,
   "metadata": {},
   "outputs": [
    {
     "name": "stdout",
     "output_type": "stream",
     "text": [
      "number of total candidates sampled: 348\n",
      "number of unique top candidates successfully sampled: 100\n"
     ]
    }
   ],
   "source": [
    "# predicted peptides, prob, hamming\n",
    "\n",
    "num_candidates = 2000\n",
    "max_iter = 1000\n",
    "\n",
    "total_num_files = target_array.shape[0]\n",
    "\n",
    "count = 1\n",
    "\n",
    "for target, label in zip(target_array, label_array):\n",
    "\tfinal_array = np.zeros((num_candidates, 3), dtype=object)\n",
    "\n",
    "\tpeptide_candidates = sample_candidates(model_wide, target, num_candidates, amino_dict, prediction_length + 2, device, max_iter=max_iter)\n",
    "\tpeptide_candidates_array = np.array(peptide_candidates)\n",
    "\trandom_samples = list(list(zip(*peptide_candidates_array))[0]) # < ----------------\n",
    "\trandom_samples_probs = list(list(zip(*peptide_candidates_array))[1]) # <-----------\n",
    "\tlabel_list = [label]*num_candidates\n",
    "\trandom_samples_hamming = hamming_distance_list(random_samples, label_list) # < -----\n",
    "\n",
    "\trandom_samples_array = np.array(random_samples)\n",
    "\trandom_samples_probs_array = np.array(random_samples_probs)\n",
    "\trandom_samples_hamming_array = np.array(random_samples_hamming)\n",
    "\n",
    "\tfinal_array[:, 0] = random_samples_array\n",
    "\tfinal_array[:, 1] = random_samples_probs_array\n",
    "\tfinal_array[:, 2] = random_samples_hamming_array\n",
    "\n",
    "\t# save to csv file\n",
    "\tnp.savetxt('{}_{}.csv'.format(target, label), final_array, delimiter=',', fmt='%s')\n",
    "\n",
    "\tprint(\"{}/{} file saved\".format(count, total_num_files))\n",
    "\tcount += 1\n"
   ]
  },
  {
   "cell_type": "code",
   "execution_count": 105,
   "metadata": {},
   "outputs": [],
   "source": [
    "# load data \n",
    "# data = np.loadtxt('data.csv', delimiter=',', dtype=object)\n",
    "# data[:, 1] = data[:, 1].astype(np.float64)\n",
    "# data[:, 2] = data[:, 2].astype(np.int64)"
   ]
  },
  {
   "cell_type": "markdown",
   "metadata": {},
   "source": [
    "# Task 6: Model Wide Validation analysis"
   ]
  },
  {
   "cell_type": "markdown",
   "metadata": {},
   "source": [
    "#### Build Model Wide Validation"
   ]
  },
  {
   "cell_type": "code",
   "execution_count": 73,
   "metadata": {},
   "outputs": [
    {
     "name": "stdout",
     "output_type": "stream",
     "text": [
      "Wide model: total number of parameters: 29437976\n",
      "Wide model: total number of trainable parameters: 29437976\n"
     ]
    },
    {
     "data": {
      "text/plain": [
       "<All keys matched successfully>"
      ]
     },
     "execution_count": 73,
     "metadata": {},
     "output_type": "execute_result"
    }
   ],
   "source": [
    "query_size, key_size, value_size, num_hiddens = 512, 512, 512, 512\n",
    "num_layers, dropout = 4, 0.1\n",
    "lr, num_epochs, batch_size, label_smoothing = 0.0004, 500, 6000, 0.1\n",
    "ffn_num_input, ffn_num_hiddens, num_heads = 512, 2048, 8\n",
    "\n",
    "norm_shape = [512] # 32 corresponds to the dim of such number to normalize\n",
    "device = d2l.try_gpu()\n",
    "\n",
    "\n",
    "encoder_wide = TransformerEncoder(\n",
    "\tlen(amino_dict), key_size, query_size, value_size, num_hiddens, \n",
    "\tnorm_shape, ffn_num_input, ffn_num_hiddens, num_heads,\n",
    "\tnum_layers, dropout)\n",
    "decoder_wide = TransformerDecoder(\n",
    "\tlen(amino_dict), key_size, query_size, value_size, num_hiddens, \n",
    "\tnorm_shape, ffn_num_input, ffn_num_hiddens, num_heads,\n",
    "\tnum_layers, dropout)\n",
    "model_wide_validation = EncoderDecoder(encoder_wide, decoder_wide)\n",
    "\n",
    "\n",
    "model_wide_validation_total_params = sum(p.numel() for p in model_wide_validation.parameters())\n",
    "model_wide_validation_total_trainable_params = sum(p.numel() for p in model_wide_validation.parameters() if p.requires_grad)\n",
    "\n",
    "print('Wide model: total number of parameters: {}'.format(model_wide_validation_total_params))\n",
    "print('Wide model: total number of trainable parameters: {}'.format(model_wide_validation_total_trainable_params))\n",
    "\n",
    "\n",
    "model_wide_validation.load_state_dict(torch.load(\"model_wide_validation_22Jul19_0332PM\", map_location = ('cpu')))"
   ]
  },
  {
   "cell_type": "markdown",
   "metadata": {},
   "source": [
    "#### Hamming distance analysis on validation set"
   ]
  },
  {
   "cell_type": "code",
   "execution_count": 74,
   "metadata": {},
   "outputs": [
    {
     "name": "stdout",
     "output_type": "stream",
     "text": [
      "['KEMIQEVI' 'FTMLELYE' 'KQVFTVPY' 'DYEVTLTR' 'FHLDVDIS' 'DLRAMPAH'\n",
      " 'KTIYIYNV' 'SREYHICV' 'VYSILTSS' 'KVRVKMET']\n",
      "['LAKPIYLT' 'VRGIEYVK' 'HIIVKLEG' 'RVTLTALY' 'LHFTVKGI' 'SNVWKLGA'\n",
      " 'GTFICGIN' 'TLTVVAHV' 'FYLTAETI' 'TVEVEFSN']\n",
      "(5000, 4)\n"
     ]
    }
   ],
   "source": [
    "prediction_length = 8\n",
    "\n",
    "num_minibatch = 50\n",
    "\n",
    "print(X_validation_letter[:10])\n",
    "print(Y_validation_letter[:10])\n",
    "\n",
    "peptide_pred_list = []\n",
    "num_iter = int(len(X_validation_letter)/num_minibatch)\n",
    "\n",
    "for i in range(num_iter):\n",
    "\tpeptide_pred = predict_greedy_batch(model_wide_validation, X_validation_letter[num_minibatch*i:num_minibatch*i+num_minibatch], amino_dict, prediction_length + 2, device)\n",
    "\tpeptide_pred_list.append(peptide_pred)\n",
    "peptide_pred_array = np.vstack(peptide_pred_list)\n",
    "peptide_pred_array_new = np.hstack([peptide_pred_array, np.array(Y_validation_letter).reshape(-1, 1)])\n",
    "# target, prediction, greedy_prob, label\n",
    "\n",
    "print(peptide_pred_array_new.shape)"
   ]
  },
  {
   "cell_type": "code",
   "execution_count": 75,
   "metadata": {},
   "outputs": [
    {
     "name": "stdout",
     "output_type": "stream",
     "text": [
      "Sequence length: 8\n",
      "mismatched sequences: 346, total sequences: 5000\n",
      "mismatched residues: 1931, total residues: 40000\n",
      "hamming distance (per sequence): 0.3862\n",
      "----------------------------------------------------------\n",
      "Sequences prediction accuracy:  0.9308\n",
      "Residue prediction accuracy:  0.951725\n"
     ]
    }
   ],
   "source": [
    "# process the results to study mismatched sequences\n",
    "# target, prediction, prob, label\n",
    "\n",
    "num_validation = len(X_validation_letter)\n",
    "total_residue = num_validation * prediction_length\n",
    "print(\"Sequence length:\", prediction_length)\n",
    "\n",
    "peptide_validation_mismatchs = peptide_pred_array_new[peptide_pred_array_new[:, 1] != np.array(Y_validation_letter)]\n",
    "print(\"mismatched sequences: {}, total sequences: {}\".format(peptide_validation_mismatchs.shape[0], num_validation))\n",
    "\n",
    "peptide_validation_hamming = hamming_distance_sum(peptide_pred_array_new[:, 1], np.array(Y_validation_letter))\n",
    "print(\"mismatched residues: {}, total residues: {}\".format(peptide_validation_hamming, total_residue))\n",
    "\n",
    "print(\"hamming distance (per sequence): {}\".format(peptide_validation_hamming/peptide_pred_array_new.shape[0]))\n",
    "\n",
    "print(\"----------------------------------------------------------\")\n",
    "print(\"Sequences prediction accuracy: \", (num_validation-peptide_validation_mismatchs.shape[0])/num_validation)\n",
    "print(\"Residue prediction accuracy: \", (total_residue-peptide_validation_hamming)/total_residue) "
   ]
  },
  {
   "cell_type": "code",
   "execution_count": 76,
   "metadata": {},
   "outputs": [
    {
     "name": "stdout",
     "output_type": "stream",
     "text": [
      "target      prediction      probability       PDB_label\n",
      "[['LLETNQTL' 'PQKLTFTS' '0.2816137373447418' 'PQKLTFTF']\n",
      " ['NRIELKGT' 'VELDGDVK' '0.2329992800951004' 'VVARTKYK']\n",
      " ['PQFKVDGK' 'NYFEVNCT' '0.06316174566745758' 'FKAETNIS']\n",
      " ['IRATWVLG' 'PSNHYALT' '0.07798828184604645' 'GQTILIAT']\n",
      " ['NIGCIFTG' 'CDLIDIYA' '0.34383484721183777' 'VNYIYITK']\n",
      " ['AQGFILDL' 'KVGFLGLL' '0.12808415293693542' 'VTRAELRA']\n",
      " ['LKLFSIDR' 'VVVCSASF' '0.3233669698238373' 'VVVCSASH']\n",
      " ['SRIIHLSV' 'ALTFSVET' '0.2309432029724121' 'LLTFSVET']\n",
      " ['KGEFQVIG' 'ELHIFGSI' '0.5181494355201721' 'TYRYIGTL']\n",
      " ['ALENRSIT' 'AVSEESIA' '0.3945940136909485' 'ALGMENRQ']\n",
      " ['HIKADMKL' 'THDIHLHG' '0.3814409077167511' 'EYSYKFET']\n",
      " ['NSAILKTW' 'FSISQNLV' '0.42294007539749146' 'FNISQNLV']\n",
      " ['TLSLDVLY' 'NYRVGFYY' '0.26332971453666687' 'GVGLRVGL']\n",
      " ['KLRMEGNV' 'YNKVRFYG' '0.23072834312915802' 'DGDIVFHH']\n",
      " ['HRVVAGYD' 'GAYQGFFQ' '0.17023536562919617' 'YQGAVSVY']\n",
      " ['SLYVSATV' 'PIRAVSVA' '0.05192862078547478' 'QIGFIVFA']\n",
      " ['NIEVTVIN' 'TVAYQLTL' '0.49306103587150574' 'RFKYTKRG']\n",
      " ['GIFSKDLV' 'MEIFKYPL' '0.2678166925907135' 'MEIFKYPV']\n",
      " ['DIEITFAF' 'NLSQTASV' '0.15161684155464172' 'GVKIRCTA']\n",
      " ['HMKIEEKI' 'RLMIMGHL' '0.48440036177635193' 'STETTFLV']]\n"
     ]
    }
   ],
   "source": [
    "print(\"target      prediction      probability       PDB_label\")\n",
    "print(peptide_validation_mismatchs[0:20, :])"
   ]
  },
  {
   "cell_type": "code",
   "execution_count": 89,
   "metadata": {},
   "outputs": [
    {
     "name": "stdout",
     "output_type": "stream",
     "text": [
      "Conditional probability at position 1 is 0.9628952741622925\n",
      "Conditional probability at position 2 is 0.9390546679496765\n",
      "Conditional probability at position 3 is 0.9531745314598083\n",
      "Conditional probability at position 4 is 0.9435302019119263\n",
      "Conditional probability at position 5 is 0.9461644887924194\n",
      "Conditional probability at position 6 is 0.9449514150619507\n",
      "Conditional probability at position 7 is 0.9540488123893738\n",
      "Conditional probability at position 8 is 0.50467449426651\n",
      "Conditional probability at position 9 is 0.9237192869186401\n",
      "Input target sequence is LKLFSIDR, predicted complementary peptide is VVVCSASF\n",
      "Condition on input, predicted probability is 0.32336741449507644\n"
     ]
    }
   ],
   "source": [
    "dec_comple_peptide_pred, dec_prob, dec_attention_weight_seq = predict_greedy_single(model_wide_validation, 'HIKADMKL', amino_dict, prediction_length + 2, device, save_attention_weights=True, print_info=True)"
   ]
  },
  {
   "cell_type": "code",
   "execution_count": 103,
   "metadata": {},
   "outputs": [
    {
     "name": "stdout",
     "output_type": "stream",
     "text": [
      "number of total candidates sampled: 324\n",
      "number of unique top candidates successfully sampled: 100\n"
     ]
    },
    {
     "data": {
      "text/plain": [
       "[('RLMIMGHL', 0.48440048),\n",
       " ('STETTFLV', 0.08871287),\n",
       " ('ELMIMGHL', 0.00347034),\n",
       " ('RLMIMGHR', 0.00267642),\n",
       " ('RLMIMGHN', 0.00235397),\n",
       " ('RLMIMGHS', 0.00229233),\n",
       " ('RLMIMGEG', 0.00189569),\n",
       " ('RLMIMGHP', 0.00178945),\n",
       " ('RLMIMGHF', 0.00171192),\n",
       " ('RLMIMGCK', 0.00166817),\n",
       " ('RLRIMGHL', 0.00145146),\n",
       " ('RLMIMGPW', 0.00133409),\n",
       " ('RLMIMGHV', 0.00133044),\n",
       " ('RLMIMGSR', 0.00123854),\n",
       " ('RLMITLLR', 0.00106754),\n",
       " ('RLMIMGHT', 0.00101379),\n",
       " ('RLLIMGHL', 0.00069795),\n",
       " ('RLMIMGDY', 0.00068726),\n",
       " ('RLMIMGVL', 0.00067319),\n",
       " ('SLETTFLV', 0.00062553),\n",
       " ('RLMIMGFH', 0.00059342),\n",
       " ('RLMIHSVK', 0.00053626),\n",
       " ('RLMIMGNL', 0.00052722),\n",
       " ('RLMIMGWG', 0.00043342),\n",
       " ('KLMIMGHL', 0.00036688),\n",
       " ('RLKIAIST', 0.00035189),\n",
       " ('RLMIMGQH', 0.00034069),\n",
       " ('STETTFPV', 0.00031824),\n",
       " ('RLMIMIAH', 0.00031623),\n",
       " ('STETTFLR', 0.00031487),\n",
       " ('RLMSNAYL', 0.00026317),\n",
       " ('RLMIMTGF', 0.000201),\n",
       " ('RLMIMGPS', 0.00019776),\n",
       " ('STETTFTS', 0.00018746),\n",
       " ('RLMIMTSK', 0.00018731),\n",
       " ('STETTFLN', 0.00018028),\n",
       " ('STETTFEL', 0.00016491),\n",
       " ('STETTPTK', 0.00015704),\n",
       " ('RLMWLVLL', 0.00014117),\n",
       " ('STETTFCL', 0.00013821),\n",
       " ('RLMISLFK', 0.00012452),\n",
       " ('STETTFNL', 0.00011729),\n",
       " ('STETTITK', 8.54830796e-05),\n",
       " ('RLMPTSLV', 8.41732763e-05),\n",
       " ('RLAYGRWF', 4.83518888e-05),\n",
       " ('RLSYRRSF', 4.62539392e-05),\n",
       " ('RLFIYSKH', 4.34987851e-05),\n",
       " ('RLMIMGGW', 4.10191969e-05),\n",
       " ('RLMIWAKR', 3.57892932e-05),\n",
       " ('RLMIKIMH', 2.86002978e-05),\n",
       " ('RLMIIKSV', 2.84875168e-05),\n",
       " ('RLMIGISI', 2.55055184e-05),\n",
       " ('DWEIYKWV', 2.09575755e-05),\n",
       " ('RLMCMFLV', 2.0282745e-05),\n",
       " ('RRSMYLGY', 1.98378893e-05),\n",
       " ('RLMIMHSW', 1.96274705e-05),\n",
       " ('RLMIMGCT', 1.66688969e-05),\n",
       " ('RLMICTSL', 1.63516652e-05),\n",
       " ('RLMIMGDD', 1.47508999e-05),\n",
       " ('RLMIMSLV', 1.11670615e-05),\n",
       " ('RLMICIVR', 1.06163843e-05),\n",
       " ('RLQLTFLV', 8.78384708e-06),\n",
       " ('RLMLMIKR', 7.73426746e-06),\n",
       " ('RLMINLKI', 5.51023504e-06),\n",
       " ('STETTAGY', 4.54835936e-06),\n",
       " ('RCRYIVKH', 4.38785037e-06),\n",
       " ('RLMIEGPY', 3.91991307e-06),\n",
       " ('RKVVYAGH', 3.8358603e-06),\n",
       " ('RLMIGLYR', 2.73627074e-06),\n",
       " ('RLHPVAGH', 2.65593371e-06),\n",
       " ('RLCIYLFK', 2.54014867e-06),\n",
       " ('REKIVISC', 6.28397743e-07),\n",
       " ('RLYIFYKA', 4.23724686e-07),\n",
       " ('STERKLEK', 3.97041703e-07),\n",
       " ('SLVGVYWG', 3.21661474e-07),\n",
       " ('SMEYYKEG', 3.04987282e-07),\n",
       " ('EGEGDYKS', 2.84919707e-07),\n",
       " ('RTVLTLLV', 2.76992552e-07),\n",
       " ('RLMIVWGA', 2.5128827e-07),\n",
       " ('DWEQGKSV', 2.37149479e-07),\n",
       " ('FVMYRSTL', 2.36652809e-07),\n",
       " ('RHVIADIK', 2.20334258e-07),\n",
       " ('RLMDNASM', 1.87264604e-07),\n",
       " ('HIVMGHFS', 1.86418433e-07),\n",
       " ('RLMTKQSY', 1.64163708e-07),\n",
       " ('STETDFSL', 1.10783638e-07),\n",
       " ('STDVVYAS', 5.63930698e-08),\n",
       " ('RLMHTRTL', 3.7938495e-08),\n",
       " ('RDVHVVEG', 3.48733877e-08),\n",
       " ('DWEIYSRI', 9.99386529e-09),\n",
       " ('RLMRWTVV', 8.50812931e-09),\n",
       " ('ALMYRSTY', 6.41347908e-09),\n",
       " ('TLTIEYWT', 5.49727996e-09),\n",
       " ('STKIQSTP', 5.0492992e-09),\n",
       " ('RLKMYLGM', 4.21701518e-09),\n",
       " ('RAMLYKKR', 2.48994048e-09),\n",
       " ('REERHSAT', 2.29135155e-09),\n",
       " ('SDTETYLV', 2.13989693e-09),\n",
       " ('RLDDVTME', 1.36791234e-09),\n",
       " ('RGPFGRIG', 7.84691867e-10)]"
      ]
     },
     "execution_count": 103,
     "metadata": {},
     "output_type": "execute_result"
    }
   ],
   "source": [
    "num_candidates = 100\n",
    "max_iter = 20\n",
    "\n",
    "peptide_candidates = sample_candidates(model_wide_validation, 'HMKIEEKI', num_candidates, amino_dict, prediction_length + 2, device, max_iter=max_iter)\n",
    "peptide_candidates"
   ]
  },
  {
   "cell_type": "markdown",
   "metadata": {},
   "source": [
    "#### Further sampling validation"
   ]
  },
  {
   "cell_type": "code",
   "execution_count": 109,
   "metadata": {},
   "outputs": [
    {
     "name": "stdout",
     "output_type": "stream",
     "text": [
      "number of total candidates sampled: 406\n",
      "number of unique top candidates successfully sampled: 100\n",
      "number of total candidates sampled: 290\n",
      "number of unique top candidates successfully sampled: 100\n",
      "number of total candidates sampled: 370\n",
      "number of unique top candidates successfully sampled: 100\n",
      "number of total candidates sampled: 490\n",
      "number of unique top candidates successfully sampled: 100\n",
      "number of total candidates sampled: 284\n",
      "number of unique top candidates successfully sampled: 100\n"
     ]
    }
   ],
   "source": [
    "prediction_length = 8\n",
    "num_candidates = 100\n",
    "max_iter = 100\n",
    "\n",
    "target_list = X_validation_letter[:5]\n",
    "label_list = Y_validation_letter[:5]\n",
    "\n",
    "validation_rank_list = []\n",
    "\n",
    "for target, label in zip(target_list, label_list):\n",
    "\tpeptide_candidates = sample_candidates(model_wide_validation, target, num_candidates, amino_dict, prediction_length + 2, device, max_iter=max_iter)\n",
    "\t\n",
    "\tcount = 0\n",
    "\tfor pred, prob in peptide_candidates:\n",
    "\t\tif pred == label:\n",
    "\t\t\tvalidation_rank_list.append(count)\n",
    "\t\t\tbreak \n",
    "\t\tcount += 1\n"
   ]
  },
  {
   "cell_type": "code",
   "execution_count": 110,
   "metadata": {},
   "outputs": [
    {
     "name": "stdout",
     "output_type": "stream",
     "text": [
      "------------------------\n",
      "Frequency of elements is:\n",
      "Counter({0: 5})\n"
     ]
    }
   ],
   "source": [
    "import collections\n",
    "\n",
    "frequencyDict = collections.Counter(validation_rank_list)\n",
    "\n",
    "print('------------------------')\n",
    "print(\"Frequency of elements is:\")\n",
    "print(frequencyDict)"
   ]
  },
  {
   "cell_type": "markdown",
   "metadata": {},
   "source": [
    "# Task 7: Model Wide Random Peptides Scoring"
   ]
  },
  {
   "cell_type": "markdown",
   "metadata": {},
   "source": [
    "#### Build model wide"
   ]
  },
  {
   "cell_type": "code",
   "execution_count": 40,
   "metadata": {},
   "outputs": [
    {
     "name": "stdout",
     "output_type": "stream",
     "text": [
      "Wide model: total number of parameters: 29437976\n",
      "Wide model: total number of trainable parameters: 29437976\n"
     ]
    },
    {
     "data": {
      "text/plain": [
       "<All keys matched successfully>"
      ]
     },
     "execution_count": 40,
     "metadata": {},
     "output_type": "execute_result"
    }
   ],
   "source": [
    "query_size, key_size, value_size, num_hiddens = 512, 512, 512, 512\n",
    "num_layers, dropout = 4, 0.1\n",
    "lr, num_epochs, batch_size, label_smoothing = 0.0004, 500, 6000, 0.1\n",
    "ffn_num_input, ffn_num_hiddens, num_heads = 512, 2048, 8\n",
    "\n",
    "norm_shape = [512] # 32 corresponds to the dim of such number to normalize\n",
    "device = d2l.try_gpu()\n",
    "\n",
    "\n",
    "encoder_wide = TransformerEncoder(\n",
    "\tlen(amino_dict), key_size, query_size, value_size, num_hiddens, \n",
    "\tnorm_shape, ffn_num_input, ffn_num_hiddens, num_heads,\n",
    "\tnum_layers, dropout)\n",
    "decoder_wide = TransformerDecoder(\n",
    "\tlen(amino_dict), key_size, query_size, value_size, num_hiddens, \n",
    "\tnorm_shape, ffn_num_input, ffn_num_hiddens, num_heads,\n",
    "\tnum_layers, dropout)\n",
    "model_wide = EncoderDecoder(encoder_wide, decoder_wide)\n",
    "\n",
    "\n",
    "model_wide_total_params = sum(p.numel() for p in model_wide.parameters())\n",
    "model_wide_total_trainable_params = sum(p.numel() for p in model_wide.parameters() if p.requires_grad)\n",
    "\n",
    "print('Wide model: total number of parameters: {}'.format(model_wide_total_params))\n",
    "print('Wide model: total number of trainable parameters: {}'.format(model_wide_total_trainable_params))\n",
    "\n",
    "\n",
    "model_wide.load_state_dict(torch.load(\"model_wide_22Jul16_1011AM\", map_location = ('cpu')))"
   ]
  },
  {
   "cell_type": "markdown",
   "metadata": {},
   "source": [
    "#### Sample_random_labels"
   ]
  },
  {
   "cell_type": "code",
   "execution_count": 76,
   "metadata": {},
   "outputs": [],
   "source": [
    "num_random_sequences = 1000\n",
    "PBD_target = 'HMKIEEKI' \n",
    "\n",
    "amino_list = list(amino_dict.keys())[4:]\n",
    "\n",
    "random_labels = [\"\".join(list(np.random.choice(amino_list, 8))) for i in range(num_random_sequences)]"
   ]
  },
  {
   "cell_type": "code",
   "execution_count": 77,
   "metadata": {},
   "outputs": [],
   "source": [
    "prediction_length = 8\n",
    "\n",
    "random_probs = []\n",
    "for random_label in random_labels:\n",
    "\tprob = evaluate_single(model_wide, PBD_target, random_label,amino_dict, prediction_length + 2, device, print_info=False)\n",
    "\trandom_probs.append(prob)\n",
    "\n",
    "random_evaluation = list(zip(random_labels, random_probs))"
   ]
  },
  {
   "cell_type": "code",
   "execution_count": 78,
   "metadata": {},
   "outputs": [
    {
     "name": "stdout",
     "output_type": "stream",
     "text": [
      "Number of random labels evaluated: 1000\n"
     ]
    },
    {
     "data": {
      "text/plain": [
       "[('YKAPGFQH', 5.196590912292007e-19),\n",
       " ('TKPLVSAV', 1.1587097122807582e-16),\n",
       " ('GCMWWYNI', 7.453549843386369e-17),\n",
       " ('KGQTWIPI', 2.899980285968041e-16),\n",
       " ('LWRMYNLW', 4.1121240352225496e-20),\n",
       " ('QVVCWFGL', 1.2564357074512119e-16),\n",
       " ('RTANDKNV', 2.742816876826299e-13),\n",
       " ('WMIHWFMN', 3.4727988000585816e-18),\n",
       " ('EDQCEHCM', 1.8379593604050997e-19),\n",
       " ('ANCRYYEP', 5.610819180742083e-19),\n",
       " ('TEGERDDY', 3.9709956292680756e-18),\n",
       " ('YRTDVTYN', 1.5771915724517032e-19),\n",
       " ('FHNCNKGG', 2.713621580804852e-18),\n",
       " ('SRNMEDPH', 1.674335137691207e-18),\n",
       " ('DVQQFYFR', 1.360854174977983e-18),\n",
       " ('QSLRWYDM', 8.114457544701007e-19),\n",
       " ('GVQARNDS', 7.966931900421495e-19),\n",
       " ('DDHNPFCQ', 7.770382019032567e-19),\n",
       " ('WVHQVLVG', 1.030208942707157e-15),\n",
       " ('WHDEKDWI', 2.1083487364898335e-16)]"
      ]
     },
     "execution_count": 78,
     "metadata": {},
     "output_type": "execute_result"
    }
   ],
   "source": [
    "print('Number of random labels evaluated: {}'.format(num_random_sequences))\n",
    "random_evaluation[:20]"
   ]
  },
  {
   "cell_type": "markdown",
   "metadata": {},
   "source": [
    "#### Statistical analysis"
   ]
  },
  {
   "cell_type": "code",
   "execution_count": 80,
   "metadata": {},
   "outputs": [
    {
     "data": {
      "text/plain": [
       "count    1.000000e+03\n",
       "mean     1.183123e-13\n",
       "std      1.659286e-12\n",
       "min      2.998714e-23\n",
       "25%      5.291594e-19\n",
       "50%      7.733274e-18\n",
       "75%      1.989162e-16\n",
       "max      3.638942e-11\n",
       "dtype: float64"
      ]
     },
     "execution_count": 80,
     "metadata": {},
     "output_type": "execute_result"
    }
   ],
   "source": [
    "random_probs_series = pd.Series(random_probs)\n",
    "random_probs_series.describe()"
   ]
  },
  {
   "cell_type": "code",
   "execution_count": 75,
   "metadata": {},
   "outputs": [
    {
     "data": {
      "text/plain": [
       "(array([98.,  1.,  0.,  0.,  0.,  0.,  0.,  0.,  0.,  1.]),\n",
       " array([2.70510369e-22, 6.96702079e-13, 1.39340416e-12, 2.09010624e-12,\n",
       "        2.78680832e-12, 3.48351039e-12, 4.18021247e-12, 4.87691455e-12,\n",
       "        5.57361663e-12, 6.27031871e-12, 6.96702079e-12]),\n",
       " <BarContainer object of 10 artists>)"
      ]
     },
     "execution_count": 75,
     "metadata": {},
     "output_type": "execute_result"
    },
    {
     "data": {
      "image/png": "[encoded data removed]",
      "text/plain": [
       "<Figure size 432x288 with 1 Axes>"
      ]
     },
     "metadata": {
      "needs_background": "light"
     },
     "output_type": "display_data"
    }
   ],
   "source": [
    "bin_list = list(np.logspace(-25, 0, num=26, base = 10))\n",
    "plt.hist(random_probs, density=False, color='red')\n",
    "#plt.show()"
   ]
  },
  {
   "cell_type": "markdown",
   "metadata": {},
   "source": [
    "# Task 8: Model Wide Generation Frequency Check"
   ]
  },
  {
   "cell_type": "code",
   "execution_count": null,
   "metadata": {},
   "outputs": [],
   "source": []
  },
  {
   "cell_type": "markdown",
   "metadata": {},
   "source": [
    "#### Model attention analysis"
   ]
  },
  {
   "cell_type": "markdown",
   "metadata": {},
   "source": [
    "#### Probability interpretation"
   ]
  },
  {
   "cell_type": "markdown",
   "metadata": {},
   "source": [
    "\"Given the target sequence, if such a target-peptide $\\beta$-strand interaction exists in nature, the probality of generated sequence being such a peptide.\""
   ]
  },
  {
   "cell_type": "markdown",
   "metadata": {},
   "source": [
    "#### Probability quality guidance"
   ]
  },
  {
   "cell_type": "markdown",
   "metadata": {},
   "source": [
    "Training data are labeled with probability: $0.9^{(l+1)}$. <br>\n",
    "Training data length 8 labeled probability: $0.9^{9} = 0.387420489$ <br>\n",
    "Random data length 8 labeled probability with special token: $ (\\frac{1}{24}) ^{9} = 3.7852871 \\times 10^{-13} $ <br>\n",
    "Random data length 8 labeled probability without special token: $(\\frac{1}{20}) ^{9} = 1.953125 \\times 10^{-12} $"
   ]
  },
  {
   "cell_type": "markdown",
   "metadata": {},
   "source": [
    "#### Number of parameters calculation "
   ]
  },
  {
   "cell_type": "markdown",
   "metadata": {},
   "source": [
    "N: number of layers <br>\n",
    "H: hidden dimensions\n",
    "\n",
    "Encoder embedding: $24 \\times H$ <br>\n",
    "\n",
    "Encoder self attention -- key projection, value projection, query projection, final projection: $H^{2} \\times 4$ <br>\n",
    "Encoder pointwise MLP: $H \\times 4H \\times 2 = H^{2} \\times 8$\n",
    "\n",
    "Decoder embedding: $24 \\times H$ <br>\n",
    "\n",
    "Decoder self attention -- key projection, value projection, query projection, final projection: $H^{2} \\times 4$ <br>\n",
    "Decoder-encoder attention -- key projection, value projection, query projection, final projection: $H^{2} \\times 4$ <br>\n",
    "Decoder pointwise MLP: $H \\times 4H \\times 2 = H^{2} \\times 8$\n",
    "\n",
    "Ouput Projection: $H \\times 24$ \n",
    "\n",
    "Total parameters: $24 \\times H + (H^{2} \\times 4 + H^{2} \\times 8) \\times N + 24 \\times H + (H^{2} \\times 4 + H^{2} \\times 4 + H^{2} \\times 8) \\times N + H \\times 24  $ <br> \n",
    "$ = 28 \\times H^{2} \\times N + 72 \\times H$"
   ]
  },
  {
   "cell_type": "markdown",
   "metadata": {},
   "source": [
    "#### Potential problems"
   ]
  },
  {
   "cell_type": "markdown",
   "metadata": {},
   "source": [
    "1. Positional encoding failed to work in predict sequences------------- fixed \n",
    "2. 'bos', 'eos' not trained? ------------------------------------------ fixed \n",
    "3. Ramdomize each batch ----------------------------------------------- fixed \n",
    "4. Softmax in prediction ---------------------------------------------- fixed \n",
    "5. write functions for training-preposessing -------------------------- fixed\n",
    "6. write functions for prediction ------------------------------------- fixed\n",
    "7. label smoothing: alter learning truth distribution ----------------- fixed \n",
    "8. weighting of each sample: sample weights in loss ------------------- fixed\n",
    "9. adjust learning rate ----------------------------------------------- not changed since adam is insensitive to learning rate\n",
    "10. loss shown too small ---------------------------------------------- fixed \n",
    "11. batch size and training steps and all other hyperparameter--------- set"
   ]
  },
  {
   "cell_type": "markdown",
   "metadata": {},
   "source": [
    "#### Things to do"
   ]
  },
  {
   "cell_type": "markdown",
   "metadata": {},
   "source": [
    "1. Assigne weights to each sample ------------------------------- done \n",
    "2. hyperparameter for base model training ----------------------- done \n",
    "3. train on imperial GPU ---------------------------------------- done \n",
    "4. Write sampling sequence + prob function ---------------------- moved \n",
    "5. Write functions for prob of pair sequences ------------------- moved\n",
    "6. Consider anti para / para condition -------------------------- ignore this condition + ignore hb_pattern for now\n",
    "7. save model parameters with current time ---------------------- done \n",
    "8. check GPU availablity ---------------------------------------- done\n",
    "9. Request a notebook for longer or more GPU on jupyter? 100epochs==50hours for 1 GPU  ---- done \n",
    "10. Save loss plots --------------------------------------------- done \n",
    "11. Convert jupyter notebook to scriptfor trainning ------------- done \n",
    "12. Lean how to train on one GPU on imperial cluster ------------ done\n",
    "13. Embedding and linear initialization adjust ------------------ done \n",
    "14. Examine on both training and validation --------------------- done \n",
    "15. Hamming distance systematically lower (valida) -------------- done \n",
    "16. Prob of training model comple peptides by model systemtically higher than random comple peptides (train)\n",
    "17. Write sampling sequence + prob function --------------------- done \n",
    "18. Write functions for prob of pair sequences\n",
    "19. Extract attention weights to view correlation\n",
    "20. Maybe train a base line version with only equal weights length 7 and 8 ---- not now\n",
    "21. try to predict binding energy \n",
    "22. Track validation loss or find another good metric ----------- done\n",
    "23. clean notebook ---------------------------------------------- done \n",
    "24. maybe data augmentation or alphafold to add high quality model\n",
    "25. batch sampling procedure and batch prediction---------------- done \n",
    "26. try gated attention from alphafold2\n",
    "27. try data augmentation and expand dataset from alphafold2\n",
    "28. try bidirectional mask from BERT alphafold2\n"
   ]
  },
  {
   "cell_type": "markdown",
   "metadata": {},
   "source": [
    "#### HPC version tracker"
   ]
  },
  {
   "cell_type": "markdown",
   "metadata": {},
   "source": [
    "1. model_base: 13072022_UROP_model_base_modified\n",
    "2. model_wide: 14072022_UROP_model_wide\n",
    "3. model_base_validation: 17072022_UROP_model_base_validation\n",
    "4. model_wide_validation: 17072022_UROP_model_wide_validation"
   ]
  }
 ],
 "metadata": {
  "kernelspec": {
   "display_name": "Python 3.10.4 ('pt')",
   "language": "python",
   "name": "python3"
  },
  "language_info": {
   "codemirror_mode": {
    "name": "ipython",
    "version": 3
   },
   "file_extension": ".py",
   "mimetype": "text/x-python",
   "name": "python",
   "nbconvert_exporter": "python",
   "pygments_lexer": "ipython3",
   "version": "3.10.4"
  },
  "orig_nbformat": 4,
  "vscode": {
   "interpreter": {
    "hash": "78bf9874701a3957232b8c741c196d0ac3fa790968bd4270c0e2fd5bdf999274"
   }
  }
 },
 "nbformat": 4,
 "nbformat_minor": 2
}
