{
 "cells": [
  {
   "cell_type": "markdown",
   "metadata": {},
   "source": [
    "# Multi-head attention"
   ]
  },
  {
   "cell_type": "code",
   "execution_count": 22,
   "metadata": {},
   "outputs": [],
   "source": [
    "import math \n",
    "import torch\n",
    "from torch import nn \n",
    "from d2l import torch as d2l\n",
    "from IPython.display import Image"
   ]
  },
  {
   "cell_type": "markdown",
   "metadata": {},
   "source": [
    "#### Multi-head attention model implementation"
   ]
  },
  {
   "cell_type": "code",
   "execution_count": 23,
   "metadata": {},
   "outputs": [
    {
     "data": {
      "text/html": [
       "<img src=\"Multihead_attention_photo.png\" width=\"800\" height=\"400\"/>"
      ],
      "text/plain": [
       "<IPython.core.display.Image object>"
      ]
     },
     "execution_count": 23,
     "metadata": {},
     "output_type": "execute_result"
    }
   ],
   "source": [
    "Image(url=\"Multihead_attention_photo.png\", width=800, height=400)"
   ]
  },
  {
   "cell_type": "code",
   "execution_count": 24,
   "metadata": {},
   "outputs": [],
   "source": [
    "def transpose_qkv(X, num_heads):\n",
    "\t\"\"\"Transposition for parallel computation of multiple attention heads\"\"\"\n",
    "\n",
    "\tX = X.reshape(X.shape[0], X.shape[1], num_heads, -1)\n",
    "\tX = X.permute(0, 2, 1, 3)\n",
    "\n",
    "\treturn X.reshape(-1, X.shape[2], X.shape[3])\n",
    "\n",
    "def transpose_output(X, num_heads):\n",
    "\t\"\"\"Reverse the operation of transpose_qkv\"\"\"\n",
    "\n",
    "\tX = X.reshape(-1, num_heads, X.shape[1], X.shape[2])\n",
    "\tX = X.permute(0, 2, 1, 3)\n",
    "\n",
    "\treturn X.reshape(X.shape[0], X.shape[1], -1)"
   ]
  },
  {
   "cell_type": "code",
   "execution_count": 25,
   "metadata": {},
   "outputs": [],
   "source": [
    "# valid_lens: (batch_size, ) or (batch_size, no. of queries)\n",
    "# Note: the mask (valid_len) used here, I copy it num_heads times\n",
    "\n",
    "class MultiheadAttention(nn.Module):\n",
    "\t\"\"\"Multi-head attention\"\"\"\n",
    "\n",
    "\tdef __init__(self, key_size, query_size, value_size, num_hiddens, num_heads, dropout, bias=False, **kwargs):\n",
    "\t\tsuper(MultiheadAttention, self).__init__(**kwargs)\n",
    "\t\tself.num_heads = num_heads\n",
    "\t\tself.attention = d2l.DotProductAttention(dropout)\n",
    "\t\tself.W_q = nn.Linear(query_size, num_hiddens, bias=bias) # (in_feature, out_feature)\n",
    "\t\tself.W_k = nn.Linear(key_size, num_hiddens, bias=bias)\n",
    "\t\tself.W_v = nn.Linear(value_size, num_hiddens, bias=bias)\n",
    "\t\tself.W_o = nn.Linear(num_hiddens, num_hiddens, bias=bias)\n",
    "\t\n",
    "\tdef forward(self, queries, keys, values, valid_lens):\n",
    "\t\t\n",
    "\t\t# queries, keys, values:\n",
    "\t\t# (batch_size, no. of queries / keys/ values, num_hiddens) ---------------------note here we choose queries_size, value_size, key_size to be num_hiddens\n",
    "\t\t# valid_lens: (batch_size, ) or (batch_size, no. of queries)\n",
    "\n",
    "\t\tif valid_lens is not None:\n",
    "\t\t\tvalid_lens = torch.repeat_interleave(valid_lens, repeats=self.num_heads, dim=0)\n",
    "\t\t\n",
    "\t\toutput = self.attention(queries, keys, values, valid_lens)\n",
    "\n",
    "\t\toutput_concat = transpose_output(output, self.num_heads)\n",
    "\n",
    "\t\treturn self.W_o(output_concat)"
   ]
  },
  {
   "cell_type": "markdown",
   "metadata": {},
   "source": [
    "The above code is written for parallel computation, avoiding loops for each head. The idea is illustrated in the flowchart below."
   ]
  },
  {
   "cell_type": "code",
   "execution_count": 26,
   "metadata": {},
   "outputs": [
    {
     "data": {
      "text/html": [
       "<img src=\"Multihead_attention_parallel_computation_flowchart.png\" width=\"800\" height=\"800\"/>"
      ],
      "text/plain": [
       "<IPython.core.display.Image object>"
      ]
     },
     "execution_count": 26,
     "metadata": {},
     "output_type": "execute_result"
    }
   ],
   "source": [
    "Image(url=\"Multihead_attention_parallel_computation_flowchart.png\", width=800, height=800)"
   ]
  },
  {
   "cell_type": "code",
   "execution_count": 27,
   "metadata": {},
   "outputs": [
    {
     "data": {
      "text/plain": [
       "MultiheadAttention(\n",
       "  (attention): DotProductAttention(\n",
       "    (dropout): Dropout(p=0.5, inplace=False)\n",
       "  )\n",
       "  (W_q): Linear(in_features=100, out_features=100, bias=False)\n",
       "  (W_k): Linear(in_features=100, out_features=100, bias=False)\n",
       "  (W_v): Linear(in_features=100, out_features=100, bias=False)\n",
       "  (W_o): Linear(in_features=100, out_features=100, bias=False)\n",
       ")"
      ]
     },
     "execution_count": 27,
     "metadata": {},
     "output_type": "execute_result"
    }
   ],
   "source": [
    "# test above implementation\n",
    "num_hiddens, num_heads = 100, 5\n",
    "attention = MultiheadAttention(key_size=num_hiddens, query_size=num_hiddens, value_size=num_hiddens, num_hiddens=num_hiddens, num_heads=num_heads, dropout=0.5, bias=False)\n",
    "attention.eval()"
   ]
  },
  {
   "cell_type": "code",
   "execution_count": 28,
   "metadata": {},
   "outputs": [
    {
     "ename": "IndexError",
     "evalue": "The shape of the mask [40, 6] at index 0 does not match the shape of the indexed tensor [8, 6] at index 0",
     "output_type": "error",
     "traceback": [
      "\u001b[1;31m---------------------------------------------------------------------------\u001b[0m",
      "\u001b[1;31mIndexError\u001b[0m                                Traceback (most recent call last)",
      "\u001b[1;32mc:\\Users\\10331\\Haowen_academic_in_use\\UROP\\Transformer_based_model\\Multihead_attention.ipynb Cell 10'\u001b[0m in \u001b[0;36m<cell line: 4>\u001b[1;34m()\u001b[0m\n\u001b[0;32m      <a href='vscode-notebook-cell:/c%3A/Users/10331/Haowen_academic_in_use/UROP/Transformer_based_model/Multihead_attention.ipynb#ch0000015?line=1'>2</a>\u001b[0m X \u001b[39m=\u001b[39m torch\u001b[39m.\u001b[39mones((batch_size, num_queries, num_hiddens))\n\u001b[0;32m      <a href='vscode-notebook-cell:/c%3A/Users/10331/Haowen_academic_in_use/UROP/Transformer_based_model/Multihead_attention.ipynb#ch0000015?line=2'>3</a>\u001b[0m Y \u001b[39m=\u001b[39m torch\u001b[39m.\u001b[39mones((batch_size, num_kvpairs, num_hiddens))\n\u001b[1;32m----> <a href='vscode-notebook-cell:/c%3A/Users/10331/Haowen_academic_in_use/UROP/Transformer_based_model/Multihead_attention.ipynb#ch0000015?line=3'>4</a>\u001b[0m attention(X, Y, Y, valid_lens)\u001b[39m.\u001b[39mshape\n",
      "File \u001b[1;32mc:\\Users\\10331\\anaconda3\\envs\\pt\\lib\\site-packages\\torch\\nn\\modules\\module.py:1130\u001b[0m, in \u001b[0;36mModule._call_impl\u001b[1;34m(self, *input, **kwargs)\u001b[0m\n\u001b[0;32m   1126\u001b[0m \u001b[39m# If we don't have any hooks, we want to skip the rest of the logic in\u001b[39;00m\n\u001b[0;32m   1127\u001b[0m \u001b[39m# this function, and just call forward.\u001b[39;00m\n\u001b[0;32m   1128\u001b[0m \u001b[39mif\u001b[39;00m \u001b[39mnot\u001b[39;00m (\u001b[39mself\u001b[39m\u001b[39m.\u001b[39m_backward_hooks \u001b[39mor\u001b[39;00m \u001b[39mself\u001b[39m\u001b[39m.\u001b[39m_forward_hooks \u001b[39mor\u001b[39;00m \u001b[39mself\u001b[39m\u001b[39m.\u001b[39m_forward_pre_hooks \u001b[39mor\u001b[39;00m _global_backward_hooks\n\u001b[0;32m   1129\u001b[0m         \u001b[39mor\u001b[39;00m _global_forward_hooks \u001b[39mor\u001b[39;00m _global_forward_pre_hooks):\n\u001b[1;32m-> 1130\u001b[0m     \u001b[39mreturn\u001b[39;00m forward_call(\u001b[39m*\u001b[39m\u001b[39minput\u001b[39m, \u001b[39m*\u001b[39m\u001b[39m*\u001b[39mkwargs)\n\u001b[0;32m   1131\u001b[0m \u001b[39m# Do not call functions when jit is used\u001b[39;00m\n\u001b[0;32m   1132\u001b[0m full_backward_hooks, non_full_backward_hooks \u001b[39m=\u001b[39m [], []\n",
      "\u001b[1;32mc:\\Users\\10331\\Haowen_academic_in_use\\UROP\\Transformer_based_model\\Multihead_attention.ipynb Cell 6'\u001b[0m in \u001b[0;36mMultiheadAttention.forward\u001b[1;34m(self, queries, keys, values, valid_lens)\u001b[0m\n\u001b[0;32m     <a href='vscode-notebook-cell:/c%3A/Users/10331/Haowen_academic_in_use/UROP/Transformer_based_model/Multihead_attention.ipynb#ch0000010?line=21'>22</a>\u001b[0m \u001b[39mif\u001b[39;00m valid_lens \u001b[39mis\u001b[39;00m \u001b[39mnot\u001b[39;00m \u001b[39mNone\u001b[39;00m:\n\u001b[0;32m     <a href='vscode-notebook-cell:/c%3A/Users/10331/Haowen_academic_in_use/UROP/Transformer_based_model/Multihead_attention.ipynb#ch0000010?line=22'>23</a>\u001b[0m \tvalid_lens \u001b[39m=\u001b[39m torch\u001b[39m.\u001b[39mrepeat_interleave(valid_lens, repeats\u001b[39m=\u001b[39m\u001b[39mself\u001b[39m\u001b[39m.\u001b[39mnum_heads, dim\u001b[39m=\u001b[39m\u001b[39m0\u001b[39m)\n\u001b[1;32m---> <a href='vscode-notebook-cell:/c%3A/Users/10331/Haowen_academic_in_use/UROP/Transformer_based_model/Multihead_attention.ipynb#ch0000010?line=24'>25</a>\u001b[0m output \u001b[39m=\u001b[39m \u001b[39mself\u001b[39;49m\u001b[39m.\u001b[39;49mattention(queries, keys, values, valid_lens)\n\u001b[0;32m     <a href='vscode-notebook-cell:/c%3A/Users/10331/Haowen_academic_in_use/UROP/Transformer_based_model/Multihead_attention.ipynb#ch0000010?line=26'>27</a>\u001b[0m output_concat \u001b[39m=\u001b[39m transpose_output(output, \u001b[39mself\u001b[39m\u001b[39m.\u001b[39mnum_heads)\n\u001b[0;32m     <a href='vscode-notebook-cell:/c%3A/Users/10331/Haowen_academic_in_use/UROP/Transformer_based_model/Multihead_attention.ipynb#ch0000010?line=28'>29</a>\u001b[0m \u001b[39mreturn\u001b[39;00m \u001b[39mself\u001b[39m\u001b[39m.\u001b[39mW_o(output_concat)\n",
      "File \u001b[1;32mc:\\Users\\10331\\anaconda3\\envs\\pt\\lib\\site-packages\\torch\\nn\\modules\\module.py:1130\u001b[0m, in \u001b[0;36mModule._call_impl\u001b[1;34m(self, *input, **kwargs)\u001b[0m\n\u001b[0;32m   1126\u001b[0m \u001b[39m# If we don't have any hooks, we want to skip the rest of the logic in\u001b[39;00m\n\u001b[0;32m   1127\u001b[0m \u001b[39m# this function, and just call forward.\u001b[39;00m\n\u001b[0;32m   1128\u001b[0m \u001b[39mif\u001b[39;00m \u001b[39mnot\u001b[39;00m (\u001b[39mself\u001b[39m\u001b[39m.\u001b[39m_backward_hooks \u001b[39mor\u001b[39;00m \u001b[39mself\u001b[39m\u001b[39m.\u001b[39m_forward_hooks \u001b[39mor\u001b[39;00m \u001b[39mself\u001b[39m\u001b[39m.\u001b[39m_forward_pre_hooks \u001b[39mor\u001b[39;00m _global_backward_hooks\n\u001b[0;32m   1129\u001b[0m         \u001b[39mor\u001b[39;00m _global_forward_hooks \u001b[39mor\u001b[39;00m _global_forward_pre_hooks):\n\u001b[1;32m-> 1130\u001b[0m     \u001b[39mreturn\u001b[39;00m forward_call(\u001b[39m*\u001b[39m\u001b[39minput\u001b[39m, \u001b[39m*\u001b[39m\u001b[39m*\u001b[39mkwargs)\n\u001b[0;32m   1131\u001b[0m \u001b[39m# Do not call functions when jit is used\u001b[39;00m\n\u001b[0;32m   1132\u001b[0m full_backward_hooks, non_full_backward_hooks \u001b[39m=\u001b[39m [], []\n",
      "File \u001b[1;32mc:\\Users\\10331\\anaconda3\\envs\\pt\\lib\\site-packages\\d2l\\torch.py:1083\u001b[0m, in \u001b[0;36mDotProductAttention.forward\u001b[1;34m(self, queries, keys, values, valid_lens, window_mask)\u001b[0m\n\u001b[0;32m   1077\u001b[0m     scores \u001b[39m=\u001b[39m d2l\u001b[39m.\u001b[39mreshape(\n\u001b[0;32m   1078\u001b[0m         scores, (n\u001b[39m/\u001b[39m\u001b[39m/\u001b[39m(num_windows\u001b[39m*\u001b[39m\u001b[39mself\u001b[39m\u001b[39m.\u001b[39mnum_heads), num_windows,\n\u001b[0;32m   1079\u001b[0m                  \u001b[39mself\u001b[39m\u001b[39m.\u001b[39mnum_heads, num_queries, num_kv_pairs\n\u001b[0;32m   1080\u001b[0m                 )) \u001b[39m+\u001b[39m d2l\u001b[39m.\u001b[39mexpand_dims(\n\u001b[0;32m   1081\u001b[0m         d2l\u001b[39m.\u001b[39mexpand_dims(window_mask, \u001b[39m1\u001b[39m), \u001b[39m0\u001b[39m)\n\u001b[0;32m   1082\u001b[0m     scores \u001b[39m=\u001b[39m d2l\u001b[39m.\u001b[39mreshape(scores, (n, num_queries, num_kv_pairs))\n\u001b[1;32m-> 1083\u001b[0m \u001b[39mself\u001b[39m\u001b[39m.\u001b[39mattention_weights \u001b[39m=\u001b[39m masked_softmax(scores, valid_lens)\n\u001b[0;32m   1084\u001b[0m \u001b[39mreturn\u001b[39;00m torch\u001b[39m.\u001b[39mbmm(\u001b[39mself\u001b[39m\u001b[39m.\u001b[39mdropout(\u001b[39mself\u001b[39m\u001b[39m.\u001b[39mattention_weights), values)\n",
      "File \u001b[1;32mc:\\Users\\10331\\anaconda3\\envs\\pt\\lib\\site-packages\\d2l\\torch.py:1024\u001b[0m, in \u001b[0;36mmasked_softmax\u001b[1;34m(X, valid_lens)\u001b[0m\n\u001b[0;32m   1021\u001b[0m     valid_lens \u001b[39m=\u001b[39m valid_lens\u001b[39m.\u001b[39mreshape(\u001b[39m-\u001b[39m\u001b[39m1\u001b[39m)\n\u001b[0;32m   1022\u001b[0m \u001b[39m# On the last axis, replace masked elements with a very large negative\u001b[39;00m\n\u001b[0;32m   1023\u001b[0m \u001b[39m# value, whose exponentiation outputs 0\u001b[39;00m\n\u001b[1;32m-> 1024\u001b[0m X \u001b[39m=\u001b[39m _sequence_mask(X\u001b[39m.\u001b[39;49mreshape(\u001b[39m-\u001b[39;49m\u001b[39m1\u001b[39;49m, shape[\u001b[39m-\u001b[39;49m\u001b[39m1\u001b[39;49m]), valid_lens, value\u001b[39m=\u001b[39;49m\u001b[39m-\u001b[39;49m\u001b[39m1e6\u001b[39;49m)\n\u001b[0;32m   1025\u001b[0m \u001b[39mreturn\u001b[39;00m nn\u001b[39m.\u001b[39mfunctional\u001b[39m.\u001b[39msoftmax(X\u001b[39m.\u001b[39mreshape(shape), dim\u001b[39m=\u001b[39m\u001b[39m-\u001b[39m\u001b[39m1\u001b[39m)\n",
      "File \u001b[1;32mc:\\Users\\10331\\anaconda3\\envs\\pt\\lib\\site-packages\\d2l\\torch.py:1011\u001b[0m, in \u001b[0;36mmasked_softmax.<locals>._sequence_mask\u001b[1;34m(X, valid_len, value)\u001b[0m\n\u001b[0;32m   1008\u001b[0m maxlen \u001b[39m=\u001b[39m X\u001b[39m.\u001b[39msize(\u001b[39m1\u001b[39m)\n\u001b[0;32m   1009\u001b[0m mask \u001b[39m=\u001b[39m torch\u001b[39m.\u001b[39marange((maxlen), dtype\u001b[39m=\u001b[39mtorch\u001b[39m.\u001b[39mfloat32,\n\u001b[0;32m   1010\u001b[0m                     device\u001b[39m=\u001b[39mX\u001b[39m.\u001b[39mdevice)[\u001b[39mNone\u001b[39;00m, :] \u001b[39m<\u001b[39m valid_len[:, \u001b[39mNone\u001b[39;00m]\n\u001b[1;32m-> 1011\u001b[0m X[\u001b[39m~\u001b[39mmask] \u001b[39m=\u001b[39m value\n\u001b[0;32m   1012\u001b[0m \u001b[39mreturn\u001b[39;00m X\n",
      "\u001b[1;31mIndexError\u001b[0m: The shape of the mask [40, 6] at index 0 does not match the shape of the indexed tensor [8, 6] at index 0"
     ]
    }
   ],
   "source": [
    "batch_size, num_queries, num_kvpairs, valid_lens = 2, 4, 6, torch.tensor([3, 2])\n",
    "X = torch.ones((batch_size, num_queries, num_hiddens))\n",
    "Y = torch.ones((batch_size, num_kvpairs, num_hiddens))\n",
    "attention(X, Y, Y, valid_lens).shape # final_shape should be (batch_size, num_queries, num_hiddens)"
   ]
  }
 ],
 "metadata": {
  "kernelspec": {
   "display_name": "Python 3.10.4 ('pt')",
   "language": "python",
   "name": "python3"
  },
  "language_info": {
   "codemirror_mode": {
    "name": "ipython",
    "version": 3
   },
   "file_extension": ".py",
   "mimetype": "text/x-python",
   "name": "python",
   "nbconvert_exporter": "python",
   "pygments_lexer": "ipython3",
   "version": "3.10.4"
  },
  "orig_nbformat": 4,
  "vscode": {
   "interpreter": {
    "hash": "78bf9874701a3957232b8c741c196d0ac3fa790968bd4270c0e2fd5bdf999274"
   }
  }
 },
 "nbformat": 4,
 "nbformat_minor": 2
}
