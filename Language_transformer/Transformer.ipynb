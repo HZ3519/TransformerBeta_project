{
 "cells": [
  {
   "cell_type": "markdown",
   "metadata": {},
   "source": [
    "# Transformer"
   ]
  },
  {
   "cell_type": "code",
   "execution_count": 685,
   "metadata": {},
   "outputs": [],
   "source": [
    "import math \n",
    "import pandas as pd\n",
    "import torch\n",
    "from torch import nn \n",
    "from d2l import torch as d2l\n",
    "from IPython.display import Image"
   ]
  },
  {
   "cell_type": "markdown",
   "metadata": {},
   "source": [
    "Below is the transformer architecture from paper \"Attention all you need\". "
   ]
  },
  {
   "cell_type": "code",
   "execution_count": 686,
   "metadata": {},
   "outputs": [
    {
     "data": {
      "text/html": [
       "<img src=\"Transformer_architecture.png\" width=\"800\" height=\"800\"/>"
      ],
      "text/plain": [
       "<IPython.core.display.Image object>"
      ]
     },
     "execution_count": 686,
     "metadata": {},
     "output_type": "execute_result"
    }
   ],
   "source": [
    "Image(url=\"Transformer_architecture.png\", width=800, height=800)"
   ]
  },
  {
   "cell_type": "markdown",
   "metadata": {},
   "source": [
    "#### Positionwise Feed-Forward Networks"
   ]
  },
  {
   "cell_type": "code",
   "execution_count": 687,
   "metadata": {},
   "outputs": [],
   "source": [
    "class PositionWiseFFN(nn.Module):\n",
    "\t\"\"\"Positionwise feed-forward network\"\"\"\n",
    "\n",
    "\tdef __init__(self, ffn_num_input, ffn_num_hiddens, ffn_num_outputs, **kwargs):\n",
    "\t\tsuper(PositionWiseFFN, self).__init__(**kwargs)\n",
    "\t\tself.dense1 = nn.Linear(ffn_num_input, ffn_num_hiddens)\n",
    "\t\tself.relu = nn.ReLU()\n",
    "\t\tself.dense2 = nn.Linear(ffn_num_hiddens, ffn_num_outputs)\n",
    "\n",
    "\tdef forward(self, X):\n",
    "\t\treturn self.dense2(self.relu(self.dense1(X)))"
   ]
  },
  {
   "cell_type": "code",
   "execution_count": 688,
   "metadata": {},
   "outputs": [
    {
     "data": {
      "text/plain": [
       "PositionWiseFFN(\n",
       "  (dense1): Linear(in_features=4, out_features=4, bias=True)\n",
       "  (relu): ReLU()\n",
       "  (dense2): Linear(in_features=4, out_features=8, bias=True)\n",
       ")"
      ]
     },
     "execution_count": 688,
     "metadata": {},
     "output_type": "execute_result"
    }
   ],
   "source": [
    "ffn = PositionWiseFFN(4, 4, 8)\n",
    "ffn.eval()"
   ]
  },
  {
   "cell_type": "code",
   "execution_count": 689,
   "metadata": {},
   "outputs": [
    {
     "name": "stdout",
     "output_type": "stream",
     "text": [
      "torch.Size([3, 8])\n",
      "torch.Size([3, 8])\n"
     ]
    }
   ],
   "source": [
    "# test (batch_size, sequence_positions, hidden_dimesions)\n",
    "\n",
    "# extract one batch before feed-forward\n",
    "print(ffn(torch.ones((2, 3, 4))[0]).shape)\n",
    "\n",
    "# extract one batch after feed-forward\n",
    "print(ffn(torch.ones((2, 3, 4)))[0].shape)"
   ]
  },
  {
   "cell_type": "markdown",
   "metadata": {},
   "source": [
    "#### Residual connection and layer normalization"
   ]
  },
  {
   "cell_type": "code",
   "execution_count": 690,
   "metadata": {},
   "outputs": [
    {
     "name": "stdout",
     "output_type": "stream",
     "text": [
      "layer norm:  tensor([[-1.0000,  1.0000],\n",
      "        [-1.0000,  1.0000]], grad_fn=<NativeLayerNormBackward0>) \n",
      "batch norm:  tensor([[-1.0000, -1.0000],\n",
      "        [ 1.0000,  1.0000]], grad_fn=<NativeBatchNormBackward0>)\n"
     ]
    }
   ],
   "source": [
    "ln = nn.LayerNorm(2)\n",
    "bn = nn.BatchNorm1d(2)\n",
    "X = torch.tensor([[1, 2], [2, 3]], dtype=torch.float32)\n",
    "\n",
    "# Compute mean and variance from 'X' in the training mode\n",
    "print('layer norm: ', ln(X), '\\nbatch norm: ', bn(X))\n",
    "\n",
    "# batch norm is normalization across batch dimension\n",
    "# layer norm is normalization across layer dimension \n",
    "# In sequence task, layer norm is preferred since we normalize along one sequence. This is more stable than batch norm when the sequences are of vairable lengths"
   ]
  },
  {
   "cell_type": "code",
   "execution_count": 691,
   "metadata": {},
   "outputs": [],
   "source": [
    "# input: (batch_size, seq_length, features_dim)\n",
    "# normalized shape is input.size()[1: ]\n",
    "# the normalizing direction is features_dim -- nomalizing along second dimension\n",
    "\n",
    "# X is input \n",
    "# Y is Multiattention(X)\n",
    "\n",
    "class AddNorm(nn.Module):\n",
    "\t\"\"\"Residual connection followed by layer normalization with dropout implementation\"\"\"\n",
    "\n",
    "\tdef __init__(self, normalized_shape, dropout, **kwargs):\n",
    "\t\tsuper(AddNorm, self).__init__(**kwargs)\n",
    "\t\tself.dropout = nn.Dropout(dropout)\n",
    "\t\tself.ln = nn.LayerNorm(normalized_shape)\n",
    "\n",
    "\tdef forward(self, X, Y): \n",
    "\t\treturn self.ln(self.dropout(Y) + X)"
   ]
  },
  {
   "cell_type": "code",
   "execution_count": 692,
   "metadata": {},
   "outputs": [
    {
     "data": {
      "text/plain": [
       "AddNorm(\n",
       "  (dropout): Dropout(p=0.5, inplace=False)\n",
       "  (ln): LayerNorm((3, 4), eps=1e-05, elementwise_affine=True)\n",
       ")"
      ]
     },
     "execution_count": 692,
     "metadata": {},
     "output_type": "execute_result"
    }
   ],
   "source": [
    "# test \n",
    "add_norm = AddNorm([3, 4], dropout=0.5)\n",
    "add_norm.eval()"
   ]
  },
  {
   "cell_type": "code",
   "execution_count": 693,
   "metadata": {},
   "outputs": [
    {
     "data": {
      "text/plain": [
       "torch.Size([2, 3, 4])"
      ]
     },
     "execution_count": 693,
     "metadata": {},
     "output_type": "execute_result"
    }
   ],
   "source": [
    "add_norm(torch.ones((2, 3, 4)), torch.ones((2, 3, 4))).shape"
   ]
  },
  {
   "cell_type": "markdown",
   "metadata": {},
   "source": [
    "#### Encoder"
   ]
  },
  {
   "cell_type": "code",
   "execution_count": 694,
   "metadata": {},
   "outputs": [],
   "source": [
    "# one block of encoder consists of multi-head self attention and positionwise feed-foward network, each follows by a Add&Norm\n",
    "\n",
    "class EncoderBlock(nn.Module):\n",
    "\t\"\"\"Transformer encoder block.\"\"\"\n",
    "\n",
    "\tdef __init__(self, key_size, query_size, value_size, num_hiddens, norm_shape, ffn_num_input, ffn_num_hiddens, num_heads, dropout, use_bias=False, **kwargs):\n",
    "\t\tsuper(EncoderBlock, self).__init__(**kwargs)\n",
    "\t\tself.attention = d2l.MultiHeadAttention(key_size=key_size, query_size=query_size, value_size=value_size, num_hiddens=num_hiddens, num_heads=num_heads, dropout=dropout, use_bias=use_bias)\n",
    "\t\tself.addnorm1 = AddNorm(norm_shape, dropout)\n",
    "\t\tself.ffn = PositionWiseFFN(ffn_num_input, ffn_num_hiddens, num_hiddens)\n",
    "\t\tself.addnorm2 = AddNorm(norm_shape, dropout)\n",
    "\n",
    "\tdef forward(self, X, valid_lens):\n",
    "\t\tY = self.addnorm1(X, self.attention(X, X, X, valid_lens))\n",
    "\t\treturn self.addnorm2(Y, self.ffn(Y))"
   ]
  },
  {
   "cell_type": "code",
   "execution_count": 695,
   "metadata": {},
   "outputs": [
    {
     "data": {
      "text/plain": [
       "EncoderBlock(\n",
       "  (attention): MultiHeadAttention(\n",
       "    (attention): DotProductAttention(\n",
       "      (dropout): Dropout(p=0.5, inplace=False)\n",
       "    )\n",
       "    (W_q): LazyLinear(in_features=0, out_features=24, bias=False)\n",
       "    (W_k): LazyLinear(in_features=0, out_features=24, bias=False)\n",
       "    (W_v): LazyLinear(in_features=0, out_features=24, bias=False)\n",
       "    (W_o): LazyLinear(in_features=0, out_features=24, bias=False)\n",
       "  )\n",
       "  (addnorm1): AddNorm(\n",
       "    (dropout): Dropout(p=0.5, inplace=False)\n",
       "    (ln): LayerNorm((100, 24), eps=1e-05, elementwise_affine=True)\n",
       "  )\n",
       "  (ffn): PositionWiseFFN(\n",
       "    (dense1): Linear(in_features=24, out_features=48, bias=True)\n",
       "    (relu): ReLU()\n",
       "    (dense2): Linear(in_features=48, out_features=24, bias=True)\n",
       "  )\n",
       "  (addnorm2): AddNorm(\n",
       "    (dropout): Dropout(p=0.5, inplace=False)\n",
       "    (ln): LayerNorm((100, 24), eps=1e-05, elementwise_affine=True)\n",
       "  )\n",
       ")"
      ]
     },
     "execution_count": 695,
     "metadata": {},
     "output_type": "execute_result"
    }
   ],
   "source": [
    "# test \n",
    "\n",
    "X = torch.ones((2, 100, 24))\n",
    "valid_lens = torch.tensor([3, 2]) # same as batch size\n",
    "\n",
    "# key_size = query_size = value_size = num_hiddens = 24\n",
    "# norm_shape = each batch size\n",
    "# ffn_num_input = 24\n",
    "# ffn_num_hiddens = 48\n",
    "# num_heads = 8\n",
    "# dropout = 0.5\n",
    "# use_bias = False\n",
    "encoder_blk = EncoderBlock(24, 24, 24, 24, [100, 24], 24, 48, 8, 0.5)\n",
    "encoder_blk.eval() # summary of blocks"
   ]
  },
  {
   "cell_type": "code",
   "execution_count": 696,
   "metadata": {},
   "outputs": [
    {
     "data": {
      "text/plain": [
       "torch.Size([2, 100, 24])"
      ]
     },
     "execution_count": 696,
     "metadata": {},
     "output_type": "execute_result"
    }
   ],
   "source": [
    "# Note all layers in encoder does not change the shape of output\n",
    "encoder_blk(X, valid_lens).shape"
   ]
  },
  {
   "cell_type": "markdown",
   "metadata": {},
   "source": [
    "#### Transformer encoder"
   ]
  },
  {
   "cell_type": "code",
   "execution_count": 697,
   "metadata": {},
   "outputs": [],
   "source": [
    "# we can now stack the blocks of encoders\n",
    "# we also need to rescale to learnable input embeddings by sqrt(embedding dim) to [-1, 1]. This is because each value of positional embeddding is [-1, 1]\n",
    "# num_layers: number of blocks of encoder\n",
    "# vocab_size: size of vocabulary dictionary\n",
    "\n",
    "class TransformerEncoder(d2l.Encoder):\n",
    "\t\"\"\"Transformer encoder.\"\"\"\n",
    "\n",
    "\tdef __init__(self, vocab_size, key_size, query_size, value_size, num_hiddens, norm_shape, ffn_num_input, ffn_num_hiddens, num_heads, num_layers, dropout, use_bias=False, **kwargs):\n",
    "\t\tsuper(TransformerEncoder, self).__init__(**kwargs)\n",
    "\t\tself.num_hiddens = num_hiddens\n",
    "\t\tself.embedding = nn.Embedding(vocab_size, num_hiddens) # here we randomly initialize a input embedding matrix \n",
    "\t\tself.pos_encoding = d2l.PositionalEncoding(num_hiddens, dropout)\n",
    "\t\tself.blks = nn.Sequential()\n",
    "\t\tfor i in range(num_layers):\n",
    "\t\t\tself.blks.add_module(\"Block\"+str(i), EncoderBlock(key_size, query_size, value_size, num_hiddens, norm_shape, ffn_num_input, ffn_num_hiddens, num_heads, dropout, use_bias=use_bias))\n",
    "\t\n",
    "\tdef forward(self, X, valid_lens, *args):\n",
    "\t\t\n",
    "\t\tX = self.pos_encoding(self.embedding(X) * math.sqrt(self.num_hiddens))\n",
    "\t\tself.attention_weights = [None] * len(self.blks) # create a attention weight list to hold attention weights at each block\n",
    "\t\tfor i, blk in enumerate(self.blks):\n",
    "\t\t\tX = blk(X, valid_lens)\n",
    "\t\t\tself.attention_weights[i] = blk.attention.attention.attention_weights # the actual attention weights is stored in the ScaledDotAttention\n",
    "\t\t\n",
    "\t\treturn X"
   ]
  },
  {
   "cell_type": "code",
   "execution_count": 698,
   "metadata": {},
   "outputs": [
    {
     "data": {
      "text/plain": [
       "TransformerEncoder(\n",
       "  (embedding): Embedding(200, 24)\n",
       "  (pos_encoding): PositionalEncoding(\n",
       "    (dropout): Dropout(p=0.5, inplace=False)\n",
       "  )\n",
       "  (blks): Sequential(\n",
       "    (Block0): EncoderBlock(\n",
       "      (attention): MultiHeadAttention(\n",
       "        (attention): DotProductAttention(\n",
       "          (dropout): Dropout(p=0.5, inplace=False)\n",
       "        )\n",
       "        (W_q): LazyLinear(in_features=0, out_features=24, bias=False)\n",
       "        (W_k): LazyLinear(in_features=0, out_features=24, bias=False)\n",
       "        (W_v): LazyLinear(in_features=0, out_features=24, bias=False)\n",
       "        (W_o): LazyLinear(in_features=0, out_features=24, bias=False)\n",
       "      )\n",
       "      (addnorm1): AddNorm(\n",
       "        (dropout): Dropout(p=0.5, inplace=False)\n",
       "        (ln): LayerNorm((100, 24), eps=1e-05, elementwise_affine=True)\n",
       "      )\n",
       "      (ffn): PositionWiseFFN(\n",
       "        (dense1): Linear(in_features=24, out_features=48, bias=True)\n",
       "        (relu): ReLU()\n",
       "        (dense2): Linear(in_features=48, out_features=24, bias=True)\n",
       "      )\n",
       "      (addnorm2): AddNorm(\n",
       "        (dropout): Dropout(p=0.5, inplace=False)\n",
       "        (ln): LayerNorm((100, 24), eps=1e-05, elementwise_affine=True)\n",
       "      )\n",
       "    )\n",
       "    (Block1): EncoderBlock(\n",
       "      (attention): MultiHeadAttention(\n",
       "        (attention): DotProductAttention(\n",
       "          (dropout): Dropout(p=0.5, inplace=False)\n",
       "        )\n",
       "        (W_q): LazyLinear(in_features=0, out_features=24, bias=False)\n",
       "        (W_k): LazyLinear(in_features=0, out_features=24, bias=False)\n",
       "        (W_v): LazyLinear(in_features=0, out_features=24, bias=False)\n",
       "        (W_o): LazyLinear(in_features=0, out_features=24, bias=False)\n",
       "      )\n",
       "      (addnorm1): AddNorm(\n",
       "        (dropout): Dropout(p=0.5, inplace=False)\n",
       "        (ln): LayerNorm((100, 24), eps=1e-05, elementwise_affine=True)\n",
       "      )\n",
       "      (ffn): PositionWiseFFN(\n",
       "        (dense1): Linear(in_features=24, out_features=48, bias=True)\n",
       "        (relu): ReLU()\n",
       "        (dense2): Linear(in_features=48, out_features=24, bias=True)\n",
       "      )\n",
       "      (addnorm2): AddNorm(\n",
       "        (dropout): Dropout(p=0.5, inplace=False)\n",
       "        (ln): LayerNorm((100, 24), eps=1e-05, elementwise_affine=True)\n",
       "      )\n",
       "    )\n",
       "  )\n",
       ")"
      ]
     },
     "execution_count": 698,
     "metadata": {},
     "output_type": "execute_result"
    }
   ],
   "source": [
    "# test\n",
    "\n",
    "# vocab_size = 200\n",
    "# num_layers = 2\n",
    "\n",
    "encoder = TransformerEncoder(200, 24, 24, 24, 24, [100, 24], 24, 48, 8, 2, 0.5)\n",
    "encoder.eval()"
   ]
  },
  {
   "cell_type": "code",
   "execution_count": 699,
   "metadata": {},
   "outputs": [
    {
     "data": {
      "text/plain": [
       "torch.Size([2, 100, 24])"
      ]
     },
     "execution_count": 699,
     "metadata": {},
     "output_type": "execute_result"
    }
   ],
   "source": [
    "encoder(torch.ones((2, 100), dtype=torch.long), valid_lens).shape"
   ]
  },
  {
   "cell_type": "markdown",
   "metadata": {},
   "source": [
    "#### Decoder"
   ]
  },
  {
   "cell_type": "code",
   "execution_count": 700,
   "metadata": {},
   "outputs": [],
   "source": [
    "# self.i stores all previous representations\n",
    "\n",
    "class DecoderBlock(nn.Module):\n",
    "\t\"\"\"The ith decoder block\"\"\"\n",
    "\tdef __init__(self, key_size, query_size, value_size, num_hiddens, norm_shape, ffn_num_input, ffn_num_hiddens, num_heads, dropout, i, **kwargs):\n",
    "\t\tsuper(DecoderBlock, self).__init__(**kwargs)\n",
    "\t\tself.i = i\n",
    "\t\tself.attention1 = d2l.MultiHeadAttention(key_size=key_size, query_size=query_size, value_size=value_size, num_hiddens=num_hiddens, num_heads=num_heads, dropout=dropout)\n",
    "\t\tself.addnorm1 = AddNorm(norm_shape, dropout)\n",
    "\t\tself.attention2 = d2l.MultiHeadAttention(key_size=key_size, query_size=query_size, value_size=value_size, num_hiddens=num_hiddens, num_heads=num_heads, dropout=dropout)\n",
    "\t\tself.addnorm2 = AddNorm(norm_shape, dropout)\n",
    "\t\tself.ffn = PositionWiseFFN(ffn_num_input, ffn_num_hiddens, num_hiddens)\n",
    "\t\tself.addnorm3 = AddNorm(norm_shape, dropout)\n",
    "\n",
    "\tdef forward(self, X, state):\n",
    "\t\t# state: (encoder_output, encoder_valid_len, some info)\n",
    "\t\tenc_outputs, enc_valid_lens = state[0], state[1]\n",
    "\n",
    "\t\tif state[2][self.i] is None: # if nothing is stored previously, we use all X. This only occurs during training\n",
    "\t\t\tkey_values = X\n",
    "\t\telse:\n",
    "\t\t\tkey_values = torch.cat((state[2][self.i], X), axis=1) # we combine the previous with current X. This often occurs during prediction ------------------- ?potential issues\n",
    "\t\tstate[2][self.i] = key_values\n",
    "\n",
    "\t\tif self.training: # True if training procedure applied\n",
    "\t\t\tbatch_size, num_steps, _ = X.shape # (batch_size, previous_timesteps, hidden_dimension)\n",
    "\t\t\tdec_valid_lens = torch.arange(1, num_steps + 1, device=X.device).repeat(batch_size, 1) # repeat to size (2, 1), this specifies how we mask each row in each minibatch\n",
    "\t\telse:\n",
    "\t\t\tdec_valid_lens = None # for prediction, we do not need mask, since we do not know what is after\n",
    "\t\t\n",
    "\t\t# main model\n",
    "\t\t# q, k, v as defined\n",
    "\t\tX2 = self.attention1(X, key_values, key_values, dec_valid_lens) # training: all X, but we mask all after, prediction: queries=current timestep repr, keys_values, all previous \n",
    "\t\tY = self.addnorm1(X, X2)\n",
    "\t\tY2 = self.attention2(Y, enc_outputs, enc_outputs, enc_valid_lens) # in the case encoder is masked \n",
    "\t\tZ = self.addnorm2(Y, Y2)\n",
    "\n",
    "\t\treturn self.addnorm3(Z, self.ffn(Z)), state # state here is passed as it was \n",
    "\n",
    "\t# some additional notes: \n",
    "\t# decoder consists of 2 functionality: training and prediction \n",
    "\n",
    "\t# during training: we use the whole sequence but mask attention weights\n",
    "\t# The attention weights matrix has dimension (q, k) -- the second query will only get acess to the first 2 key\n",
    "\t# state[2] is [None]\n",
    "\n",
    "\t# during prediction: we only have current embedding -- 1 query \n",
    "\t# the key-values combine current and all previous key-valuee to search for -- decoder self attention \n"
   ]
  },
  {
   "cell_type": "code",
   "execution_count": 701,
   "metadata": {},
   "outputs": [
    {
     "data": {
      "text/plain": [
       "torch.Size([2, 100, 24])"
      ]
     },
     "execution_count": 701,
     "metadata": {},
     "output_type": "execute_result"
    }
   ],
   "source": [
    "decoder_blk = DecoderBlock(24, 24, 24, 24, [100, 24], 24, 48, 8, 0.5, 0)\n",
    "decoder_blk.eval()\n",
    "X = torch.ones((2, 100, 24))\n",
    "state = [encoder_blk(X, valid_lens), valid_lens, [None]]\n",
    "decoder_blk(X, state)[0].shape\n"
   ]
  },
  {
   "cell_type": "code",
   "execution_count": 702,
   "metadata": {},
   "outputs": [
    {
     "name": "stdout",
     "output_type": "stream",
     "text": [
      "tensor([[1, 2]])\n",
      "tensor([[1, 2]])\n",
      "tensor([[1, 2, 1, 2]])\n"
     ]
    }
   ],
   "source": [
    "from matplotlib.pyplot import axis\n",
    "\n",
    "\n",
    "A = torch.tensor([[1, 2]])\n",
    "B = torch.tensor([[1, 2]])\n",
    "print(A)\n",
    "print(B)\n",
    "\n",
    "C = torch.cat((A, B), axis=1)\n",
    "print(C)"
   ]
  },
  {
   "cell_type": "markdown",
   "metadata": {},
   "source": [
    "#### Transformer Decoder"
   ]
  },
  {
   "cell_type": "code",
   "execution_count": 703,
   "metadata": {},
   "outputs": [],
   "source": [
    "class TransformerDecoder(d2l.AttentionDecoder):\n",
    "\n",
    "\tdef __init__(self, vocab_size,  key_size, query_size, value_size, num_hiddens, norm_shape, ffn_num_input, ffn_num_hiddens, num_heads, num_layers, dropout, **kwargs):\n",
    "\t\tsuper(TransformerDecoder, self).__init__(**kwargs)\n",
    "\t\tself.num_hiddens = num_hiddens\n",
    "\t\tself.num_layers = num_layers\n",
    "\t\tself.embedding = nn.Embedding(vocab_size, num_hiddens)\n",
    "\t\tself.pos_encoding = d2l.PositionalEncoding(num_hiddens, dropout)\n",
    "\t\tself.blks = nn.Sequential()\n",
    "\t\tfor i in range(num_layers):\n",
    "\t\t\tself.blks.add_module(\"block\"+str(i), DecoderBlock(key_size, query_size, value_size, num_hiddens, norm_shape, ffn_num_input, ffn_num_hiddens, num_heads, dropout, i))\n",
    "\t\tself.dense = nn.Linear(num_hiddens, vocab_size)\n",
    "\t\t# prediction: we have (1, num_hiddens) --> (1, num_vocab_size)\n",
    "\n",
    "\tdef init_state(self, enc_outputs, enc_valid_lens, *args):\n",
    "\t\treturn [enc_outputs, enc_valid_lens, [None]*self.num_layers]\n",
    "\n",
    "\tdef forward(self, X, state):\n",
    "\t\tX = self.pos_encoding(self.embedding(X) * math.sqrt(self.num_hiddens))\n",
    "\t\tself._attention_weights = [[None] * len(self.blks) for _ in range(2)] # here we record attention from 2 attention module (2, i)\n",
    "\t\tfor i, blk in enumerate(self.blks):\n",
    "\n",
    "\t\t\tX, state = blk(X, state)\n",
    "\t\t\t# Decoder self-attention weights\n",
    "\t\t\tself._attention_weights[0][i] = blk.attention1.attention.attention_weights\n",
    "\t\t\t# Encoder-decoder attention weights\n",
    "\t\t\tself._attention_weights[1][i] = blk.attention2.attention.attention_weights\n",
    "\t\t\n",
    "\t\treturn self.dense(X), state\n",
    "\n",
    "\tdef attention_weights(self):\n",
    "\t\treturn self._attention_weights\n"
   ]
  },
  {
   "cell_type": "code",
   "execution_count": 704,
   "metadata": {},
   "outputs": [],
   "source": [
    "# test \n",
    "\n",
    "num_hiddens, num_layers, dropout, batch_size, num_steps = 32, 2, 0.1, 64, 10\n",
    "lr, num_epochs, device = 0.005, 200, d2l.try_gpu()\n",
    "ffn_num_input, ffn_num_hiddens, num_heads = 32, 64, 4\n",
    "key_size, query_size, value_size = 32, 32, 32\n",
    "norm_shape = [32] # 32 corresponds to the dim of such number to normalize  "
   ]
  },
  {
   "cell_type": "code",
   "execution_count": 705,
   "metadata": {},
   "outputs": [],
   "source": [
    "train_iter, src_vocab, tgt_vocab = d2l.load_data_nmt(batch_size, num_steps)"
   ]
  },
  {
   "cell_type": "code",
   "execution_count": 706,
   "metadata": {},
   "outputs": [
    {
     "name": "stdout",
     "output_type": "stream",
     "text": [
      "10\n",
      "184\n",
      "195\n"
     ]
    }
   ],
   "source": [
    "print(len(train_iter))\n",
    "print(len(src_vocab))\n",
    "print(len(tgt_vocab))"
   ]
  },
  {
   "cell_type": "markdown",
   "metadata": {},
   "source": [
    "#### Encoder to Decoder architecture"
   ]
  },
  {
   "cell_type": "code",
   "execution_count": 707,
   "metadata": {},
   "outputs": [],
   "source": [
    "class EncoderDecoder(nn.Module):\n",
    "    \"\"\"The base class for the encoder-decoder architecture.\"\"\"\n",
    "    def __init__(self, encoder, decoder, **kwargs):\n",
    "        super(EncoderDecoder, self).__init__(**kwargs)\n",
    "        self.encoder = encoder\n",
    "        self.decoder = decoder\n",
    "\n",
    "    def forward(self, enc_X, dec_X, *args):\n",
    "        enc_outputs = self.encoder(enc_X, *args)  # feature representation from encoder\n",
    "        dec_state = self.decoder.init_state(enc_outputs, *args) # use the feature representation from encoder to process a decoder init: (training--None), (prediction -- previous important information)\n",
    "        return self.decoder(dec_X, dec_state)"
   ]
  },
  {
   "cell_type": "markdown",
   "metadata": {},
   "source": [
    "#### The softmax cross-entropy loss with mask"
   ]
  },
  {
   "cell_type": "code",
   "execution_count": 708,
   "metadata": {},
   "outputs": [],
   "source": [
    "class MaskedSoftmaxCELoss(nn.CrossEntropyLoss):\n",
    "\t\"\"\"The softmax cross-entropy loss with masks.\"\"\"\n",
    "\t# 'pred' shape: ('batch_size', 'num_steps', 'vocab_size')  ---> shape should be (0, 2, 1)\n",
    "\t# 'label' shape: ('batch_size', num_steps) --- each number is a number between 0 and vocab_size/prob\n",
    "\t# 'valid_len' shape: ('batch_size', )\n",
    "\n",
    "\t# \"none\" return same shape as 'label'\n",
    "\t\n",
    "\t# num_steps have to be the same \n",
    "\t# during training, our labeled/pred length can be very long. We can restrict the length of each batch.\n",
    "\t# we ignore the irrelevant part\n",
    "\tdef forward(self, pred, label, valid_len):\n",
    "\t\tweights = torch.ones_like(label)\n",
    "\t\tweights = d2l.sequence_mask(weights, valid_len)\n",
    "\t\tself.reduction = 'none'\n",
    "\t\tunweighted_loss = super(MaskedSoftmaxCELoss, self).forward(pred.permute(0, 2, 1), label)\n",
    "\t\tweighted_loss = (unweighted_loss * weights).mean(dim=1) # mean of each batch along num_steps\n",
    "\t\treturn weighted_loss"
   ]
  },
  {
   "cell_type": "code",
   "execution_count": 709,
   "metadata": {},
   "outputs": [
    {
     "data": {
      "text/plain": [
       "tensor([2.3026, 1.1513, 0.0000])"
      ]
     },
     "execution_count": 709,
     "metadata": {},
     "output_type": "execute_result"
    }
   ],
   "source": [
    "loss = MaskedSoftmaxCELoss()\n",
    "loss(torch.ones(3, 4, 10), torch.ones((3, 4), dtype=torch.long), torch.tensor([4, 2, 0]))"
   ]
  },
  {
   "cell_type": "markdown",
   "metadata": {},
   "source": [
    "#### Transformer training"
   ]
  },
  {
   "cell_type": "code",
   "execution_count": 710,
   "metadata": {},
   "outputs": [],
   "source": [
    "# Here we enforce the first word <bos>\n",
    "\n",
    "def train_seq2seq(net, data_iter, lr, num_epochs, tgt_vocab, device):\n",
    "    \"\"\"Train a model for sequence to sequence.\"\"\"\n",
    "    def xavier_init_weights(m):\n",
    "        if type(m) == nn.Linear:\n",
    "            nn.init.xavier_uniform_(m.weight)\n",
    "        if type(m) == nn.GRU:\n",
    "            for param in m._flat_weights_names:\n",
    "                if \"weight\" in param:\n",
    "                    nn.init.xavier_uniform_(m._parameters[param])\n",
    "    net.apply(xavier_init_weights)\n",
    "    net.to(device)\n",
    "    optimizer = torch.optim.Adam(net.parameters(), lr=lr)\n",
    "    loss = MaskedSoftmaxCELoss()\n",
    "    net.train()\n",
    "    animator = d2l.Animator(xlabel='epoch', ylabel='loss',\n",
    "                            xlim=[10, num_epochs])\n",
    "    for epoch in range(num_epochs):\n",
    "        timer = d2l.Timer()\n",
    "        metric = d2l.Accumulator(2)  # Sum of training loss, no. of tokens\n",
    "        for batch in data_iter:\n",
    "            optimizer.zero_grad()\n",
    "            X, X_valid_len, Y, Y_valid_len = [x.to(device) for x in batch]\n",
    "            bos = torch.tensor([tgt_vocab['<bos>']] * Y.shape[0],\n",
    "                               device=device).reshape(-1, 1)\n",
    "            dec_input = torch.cat([bos, Y[:, :-1]], 1)  # Teacher forcing\n",
    "            Y_hat, _ = net(X, dec_input, X_valid_len)\n",
    "            l = loss(Y_hat, Y, Y_valid_len)\n",
    "            l.sum().backward()  # Make the loss scalar for `backward`\n",
    "            d2l.grad_clipping(net, 1)\n",
    "            num_tokens = Y_valid_len.sum()\n",
    "            optimizer.step()\n",
    "            with torch.no_grad():\n",
    "                metric.add(l.sum(), num_tokens)\n",
    "        if (epoch + 1) % 10 == 0:\n",
    "            animator.add(epoch + 1, (metric[0] / metric[1],))\n",
    "    print(f'loss {metric[0] / metric[1]:.3f}, {metric[1] / timer.stop():.1f} '\n",
    "          f'tokens/sec on {str(device)}')"
   ]
  },
  {
   "cell_type": "code",
   "execution_count": 711,
   "metadata": {},
   "outputs": [
    {
     "name": "stdout",
     "output_type": "stream",
     "text": [
      "loss 0.029, 4728.9 tokens/sec on cpu\n"
     ]
    },
    {
     "data": {
      "image/svg+xml": "<?xml version=\"1.0\" encoding=\"utf-8\" standalone=\"no\"?>\n<!DOCTYPE svg PUBLIC \"-//W3C//DTD SVG 1.1//EN\"\n  \"http://www.w3.org/Graphics/SVG/1.1/DTD/svg11.dtd\">\n<svg xmlns:xlink=\"http://www.w3.org/1999/xlink\" width=\"268.55pt\" height=\"180.65625pt\" viewBox=\"0 0 268.55 180.65625\" xmlns=\"http://www.w3.org/2000/svg\" version=\"1.1\">\n <metadata>\n  <rdf:RDF xmlns:dc=\"http://purl.org/dc/elements/1.1/\" xmlns:cc=\"http://creativecommons.org/ns#\" xmlns:rdf=\"http://www.w3.org/1999/02/22-rdf-syntax-ns#\">\n   <cc:Work>\n    <dc:type rdf:resource=\"http://purl.org/dc/dcmitype/StillImage\"/>\n    <dc:date>2022-07-06T20:14:16.167531</dc:date>\n    <dc:format>image/svg+xml</dc:format>\n    <dc:creator>\n     <cc:Agent>\n      <dc:title>Matplotlib v3.5.2, https://matplotlib.org/</dc:title>\n     </cc:Agent>\n    </dc:creator>\n   </cc:Work>\n  </rdf:RDF>\n </metadata>\n <defs>\n  <style type=\"text/css\">*{stroke-linejoin: round; stroke-linecap: butt}</style>\n </defs>\n <g id=\"figure_1\">\n  <g id=\"patch_1\">\n   <path d=\"M -0 180.65625 \nL 268.55 180.65625 \nL 268.55 0 \nL -0 0 \nL -0 180.65625 \nz\n\" style=\"fill: none\"/>\n  </g>\n  <g id=\"axes_1\">\n   <g id=\"patch_2\">\n    <path d=\"M 56.50625 143.1 \nL 251.80625 143.1 \nL 251.80625 7.2 \nL 56.50625 7.2 \nz\n\" style=\"fill: #ffffff\"/>\n   </g>\n   <g id=\"matplotlib.axis_1\">\n    <g id=\"xtick_1\">\n     <g id=\"line2d_1\">\n      <path d=\"M 97.622039 143.1 \nL 97.622039 7.2 \n\" clip-path=\"url(#p97e35124c0)\" style=\"fill: none; stroke: #b0b0b0; stroke-width: 0.8; stroke-linecap: square\"/>\n     </g>\n     <g id=\"line2d_2\">\n      <defs>\n       <path id=\"m6dc37ca59a\" d=\"M 0 0 \nL 0 3.5 \n\" style=\"stroke: #000000; stroke-width: 0.8\"/>\n      </defs>\n      <g>\n       <use xlink:href=\"#m6dc37ca59a\" x=\"97.622039\" y=\"143.1\" style=\"stroke: #000000; stroke-width: 0.8\"/>\n      </g>\n     </g>\n     <g id=\"text_1\">\n      <!-- 50 -->\n      <g transform=\"translate(91.259539 157.698438)scale(0.1 -0.1)\">\n       <defs>\n        <path id=\"DejaVuSans-35\" d=\"M 691 4666 \nL 3169 4666 \nL 3169 4134 \nL 1269 4134 \nL 1269 2991 \nQ 1406 3038 1543 3061 \nQ 1681 3084 1819 3084 \nQ 2600 3084 3056 2656 \nQ 3513 2228 3513 1497 \nQ 3513 744 3044 326 \nQ 2575 -91 1722 -91 \nQ 1428 -91 1123 -41 \nQ 819 9 494 109 \nL 494 744 \nQ 775 591 1075 516 \nQ 1375 441 1709 441 \nQ 2250 441 2565 725 \nQ 2881 1009 2881 1497 \nQ 2881 1984 2565 2268 \nQ 2250 2553 1709 2553 \nQ 1456 2553 1204 2497 \nQ 953 2441 691 2322 \nL 691 4666 \nz\n\" transform=\"scale(0.015625)\"/>\n        <path id=\"DejaVuSans-30\" d=\"M 2034 4250 \nQ 1547 4250 1301 3770 \nQ 1056 3291 1056 2328 \nQ 1056 1369 1301 889 \nQ 1547 409 2034 409 \nQ 2525 409 2770 889 \nQ 3016 1369 3016 2328 \nQ 3016 3291 2770 3770 \nQ 2525 4250 2034 4250 \nz\nM 2034 4750 \nQ 2819 4750 3233 4129 \nQ 3647 3509 3647 2328 \nQ 3647 1150 3233 529 \nQ 2819 -91 2034 -91 \nQ 1250 -91 836 529 \nQ 422 1150 422 2328 \nQ 422 3509 836 4129 \nQ 1250 4750 2034 4750 \nz\n\" transform=\"scale(0.015625)\"/>\n       </defs>\n       <use xlink:href=\"#DejaVuSans-35\"/>\n       <use xlink:href=\"#DejaVuSans-30\" x=\"63.623047\"/>\n      </g>\n     </g>\n    </g>\n    <g id=\"xtick_2\">\n     <g id=\"line2d_3\">\n      <path d=\"M 149.016776 143.1 \nL 149.016776 7.2 \n\" clip-path=\"url(#p97e35124c0)\" style=\"fill: none; stroke: #b0b0b0; stroke-width: 0.8; stroke-linecap: square\"/>\n     </g>\n     <g id=\"line2d_4\">\n      <g>\n       <use xlink:href=\"#m6dc37ca59a\" x=\"149.016776\" y=\"143.1\" style=\"stroke: #000000; stroke-width: 0.8\"/>\n      </g>\n     </g>\n     <g id=\"text_2\">\n      <!-- 100 -->\n      <g transform=\"translate(139.473026 157.698438)scale(0.1 -0.1)\">\n       <defs>\n        <path id=\"DejaVuSans-31\" d=\"M 794 531 \nL 1825 531 \nL 1825 4091 \nL 703 3866 \nL 703 4441 \nL 1819 4666 \nL 2450 4666 \nL 2450 531 \nL 3481 531 \nL 3481 0 \nL 794 0 \nL 794 531 \nz\n\" transform=\"scale(0.015625)\"/>\n       </defs>\n       <use xlink:href=\"#DejaVuSans-31\"/>\n       <use xlink:href=\"#DejaVuSans-30\" x=\"63.623047\"/>\n       <use xlink:href=\"#DejaVuSans-30\" x=\"127.246094\"/>\n      </g>\n     </g>\n    </g>\n    <g id=\"xtick_3\">\n     <g id=\"line2d_5\">\n      <path d=\"M 200.411513 143.1 \nL 200.411513 7.2 \n\" clip-path=\"url(#p97e35124c0)\" style=\"fill: none; stroke: #b0b0b0; stroke-width: 0.8; stroke-linecap: square\"/>\n     </g>\n     <g id=\"line2d_6\">\n      <g>\n       <use xlink:href=\"#m6dc37ca59a\" x=\"200.411513\" y=\"143.1\" style=\"stroke: #000000; stroke-width: 0.8\"/>\n      </g>\n     </g>\n     <g id=\"text_3\">\n      <!-- 150 -->\n      <g transform=\"translate(190.867763 157.698438)scale(0.1 -0.1)\">\n       <use xlink:href=\"#DejaVuSans-31\"/>\n       <use xlink:href=\"#DejaVuSans-35\" x=\"63.623047\"/>\n       <use xlink:href=\"#DejaVuSans-30\" x=\"127.246094\"/>\n      </g>\n     </g>\n    </g>\n    <g id=\"xtick_4\">\n     <g id=\"line2d_7\">\n      <path d=\"M 251.80625 143.1 \nL 251.80625 7.2 \n\" clip-path=\"url(#p97e35124c0)\" style=\"fill: none; stroke: #b0b0b0; stroke-width: 0.8; stroke-linecap: square\"/>\n     </g>\n     <g id=\"line2d_8\">\n      <g>\n       <use xlink:href=\"#m6dc37ca59a\" x=\"251.80625\" y=\"143.1\" style=\"stroke: #000000; stroke-width: 0.8\"/>\n      </g>\n     </g>\n     <g id=\"text_4\">\n      <!-- 200 -->\n      <g transform=\"translate(242.2625 157.698438)scale(0.1 -0.1)\">\n       <defs>\n        <path id=\"DejaVuSans-32\" d=\"M 1228 531 \nL 3431 531 \nL 3431 0 \nL 469 0 \nL 469 531 \nQ 828 903 1448 1529 \nQ 2069 2156 2228 2338 \nQ 2531 2678 2651 2914 \nQ 2772 3150 2772 3378 \nQ 2772 3750 2511 3984 \nQ 2250 4219 1831 4219 \nQ 1534 4219 1204 4116 \nQ 875 4013 500 3803 \nL 500 4441 \nQ 881 4594 1212 4672 \nQ 1544 4750 1819 4750 \nQ 2544 4750 2975 4387 \nQ 3406 4025 3406 3419 \nQ 3406 3131 3298 2873 \nQ 3191 2616 2906 2266 \nQ 2828 2175 2409 1742 \nQ 1991 1309 1228 531 \nz\n\" transform=\"scale(0.015625)\"/>\n       </defs>\n       <use xlink:href=\"#DejaVuSans-32\"/>\n       <use xlink:href=\"#DejaVuSans-30\" x=\"63.623047\"/>\n       <use xlink:href=\"#DejaVuSans-30\" x=\"127.246094\"/>\n      </g>\n     </g>\n    </g>\n    <g id=\"text_5\">\n     <!-- epoch -->\n     <g transform=\"translate(138.928125 171.376563)scale(0.1 -0.1)\">\n      <defs>\n       <path id=\"DejaVuSans-65\" d=\"M 3597 1894 \nL 3597 1613 \nL 953 1613 \nQ 991 1019 1311 708 \nQ 1631 397 2203 397 \nQ 2534 397 2845 478 \nQ 3156 559 3463 722 \nL 3463 178 \nQ 3153 47 2828 -22 \nQ 2503 -91 2169 -91 \nQ 1331 -91 842 396 \nQ 353 884 353 1716 \nQ 353 2575 817 3079 \nQ 1281 3584 2069 3584 \nQ 2775 3584 3186 3129 \nQ 3597 2675 3597 1894 \nz\nM 3022 2063 \nQ 3016 2534 2758 2815 \nQ 2500 3097 2075 3097 \nQ 1594 3097 1305 2825 \nQ 1016 2553 972 2059 \nL 3022 2063 \nz\n\" transform=\"scale(0.015625)\"/>\n       <path id=\"DejaVuSans-70\" d=\"M 1159 525 \nL 1159 -1331 \nL 581 -1331 \nL 581 3500 \nL 1159 3500 \nL 1159 2969 \nQ 1341 3281 1617 3432 \nQ 1894 3584 2278 3584 \nQ 2916 3584 3314 3078 \nQ 3713 2572 3713 1747 \nQ 3713 922 3314 415 \nQ 2916 -91 2278 -91 \nQ 1894 -91 1617 61 \nQ 1341 213 1159 525 \nz\nM 3116 1747 \nQ 3116 2381 2855 2742 \nQ 2594 3103 2138 3103 \nQ 1681 3103 1420 2742 \nQ 1159 2381 1159 1747 \nQ 1159 1113 1420 752 \nQ 1681 391 2138 391 \nQ 2594 391 2855 752 \nQ 3116 1113 3116 1747 \nz\n\" transform=\"scale(0.015625)\"/>\n       <path id=\"DejaVuSans-6f\" d=\"M 1959 3097 \nQ 1497 3097 1228 2736 \nQ 959 2375 959 1747 \nQ 959 1119 1226 758 \nQ 1494 397 1959 397 \nQ 2419 397 2687 759 \nQ 2956 1122 2956 1747 \nQ 2956 2369 2687 2733 \nQ 2419 3097 1959 3097 \nz\nM 1959 3584 \nQ 2709 3584 3137 3096 \nQ 3566 2609 3566 1747 \nQ 3566 888 3137 398 \nQ 2709 -91 1959 -91 \nQ 1206 -91 779 398 \nQ 353 888 353 1747 \nQ 353 2609 779 3096 \nQ 1206 3584 1959 3584 \nz\n\" transform=\"scale(0.015625)\"/>\n       <path id=\"DejaVuSans-63\" d=\"M 3122 3366 \nL 3122 2828 \nQ 2878 2963 2633 3030 \nQ 2388 3097 2138 3097 \nQ 1578 3097 1268 2742 \nQ 959 2388 959 1747 \nQ 959 1106 1268 751 \nQ 1578 397 2138 397 \nQ 2388 397 2633 464 \nQ 2878 531 3122 666 \nL 3122 134 \nQ 2881 22 2623 -34 \nQ 2366 -91 2075 -91 \nQ 1284 -91 818 406 \nQ 353 903 353 1747 \nQ 353 2603 823 3093 \nQ 1294 3584 2113 3584 \nQ 2378 3584 2631 3529 \nQ 2884 3475 3122 3366 \nz\n\" transform=\"scale(0.015625)\"/>\n       <path id=\"DejaVuSans-68\" d=\"M 3513 2113 \nL 3513 0 \nL 2938 0 \nL 2938 2094 \nQ 2938 2591 2744 2837 \nQ 2550 3084 2163 3084 \nQ 1697 3084 1428 2787 \nQ 1159 2491 1159 1978 \nL 1159 0 \nL 581 0 \nL 581 4863 \nL 1159 4863 \nL 1159 2956 \nQ 1366 3272 1645 3428 \nQ 1925 3584 2291 3584 \nQ 2894 3584 3203 3211 \nQ 3513 2838 3513 2113 \nz\n\" transform=\"scale(0.015625)\"/>\n      </defs>\n      <use xlink:href=\"#DejaVuSans-65\"/>\n      <use xlink:href=\"#DejaVuSans-70\" x=\"61.523438\"/>\n      <use xlink:href=\"#DejaVuSans-6f\" x=\"125\"/>\n      <use xlink:href=\"#DejaVuSans-63\" x=\"186.181641\"/>\n      <use xlink:href=\"#DejaVuSans-68\" x=\"241.162109\"/>\n     </g>\n    </g>\n   </g>\n   <g id=\"matplotlib.axis_2\">\n    <g id=\"ytick_1\">\n     <g id=\"line2d_9\">\n      <path d=\"M 56.50625 141.016602 \nL 251.80625 141.016602 \n\" clip-path=\"url(#p97e35124c0)\" style=\"fill: none; stroke: #b0b0b0; stroke-width: 0.8; stroke-linecap: square\"/>\n     </g>\n     <g id=\"line2d_10\">\n      <defs>\n       <path id=\"m1be36ebe26\" d=\"M 0 0 \nL -3.5 0 \n\" style=\"stroke: #000000; stroke-width: 0.8\"/>\n      </defs>\n      <g>\n       <use xlink:href=\"#m1be36ebe26\" x=\"56.50625\" y=\"141.016602\" style=\"stroke: #000000; stroke-width: 0.8\"/>\n      </g>\n     </g>\n     <g id=\"text_6\">\n      <!-- 0.025 -->\n      <g transform=\"translate(20.878125 144.81582)scale(0.1 -0.1)\">\n       <defs>\n        <path id=\"DejaVuSans-2e\" d=\"M 684 794 \nL 1344 794 \nL 1344 0 \nL 684 0 \nL 684 794 \nz\n\" transform=\"scale(0.015625)\"/>\n       </defs>\n       <use xlink:href=\"#DejaVuSans-30\"/>\n       <use xlink:href=\"#DejaVuSans-2e\" x=\"63.623047\"/>\n       <use xlink:href=\"#DejaVuSans-30\" x=\"95.410156\"/>\n       <use xlink:href=\"#DejaVuSans-32\" x=\"159.033203\"/>\n       <use xlink:href=\"#DejaVuSans-35\" x=\"222.65625\"/>\n      </g>\n     </g>\n    </g>\n    <g id=\"ytick_2\">\n     <g id=\"line2d_11\">\n      <path d=\"M 56.50625 113.84845 \nL 251.80625 113.84845 \n\" clip-path=\"url(#p97e35124c0)\" style=\"fill: none; stroke: #b0b0b0; stroke-width: 0.8; stroke-linecap: square\"/>\n     </g>\n     <g id=\"line2d_12\">\n      <g>\n       <use xlink:href=\"#m1be36ebe26\" x=\"56.50625\" y=\"113.84845\" style=\"stroke: #000000; stroke-width: 0.8\"/>\n      </g>\n     </g>\n     <g id=\"text_7\">\n      <!-- 0.050 -->\n      <g transform=\"translate(20.878125 117.647668)scale(0.1 -0.1)\">\n       <use xlink:href=\"#DejaVuSans-30\"/>\n       <use xlink:href=\"#DejaVuSans-2e\" x=\"63.623047\"/>\n       <use xlink:href=\"#DejaVuSans-30\" x=\"95.410156\"/>\n       <use xlink:href=\"#DejaVuSans-35\" x=\"159.033203\"/>\n       <use xlink:href=\"#DejaVuSans-30\" x=\"222.65625\"/>\n      </g>\n     </g>\n    </g>\n    <g id=\"ytick_3\">\n     <g id=\"line2d_13\">\n      <path d=\"M 56.50625 86.680297 \nL 251.80625 86.680297 \n\" clip-path=\"url(#p97e35124c0)\" style=\"fill: none; stroke: #b0b0b0; stroke-width: 0.8; stroke-linecap: square\"/>\n     </g>\n     <g id=\"line2d_14\">\n      <g>\n       <use xlink:href=\"#m1be36ebe26\" x=\"56.50625\" y=\"86.680297\" style=\"stroke: #000000; stroke-width: 0.8\"/>\n      </g>\n     </g>\n     <g id=\"text_8\">\n      <!-- 0.075 -->\n      <g transform=\"translate(20.878125 90.479516)scale(0.1 -0.1)\">\n       <defs>\n        <path id=\"DejaVuSans-37\" d=\"M 525 4666 \nL 3525 4666 \nL 3525 4397 \nL 1831 0 \nL 1172 0 \nL 2766 4134 \nL 525 4134 \nL 525 4666 \nz\n\" transform=\"scale(0.015625)\"/>\n       </defs>\n       <use xlink:href=\"#DejaVuSans-30\"/>\n       <use xlink:href=\"#DejaVuSans-2e\" x=\"63.623047\"/>\n       <use xlink:href=\"#DejaVuSans-30\" x=\"95.410156\"/>\n       <use xlink:href=\"#DejaVuSans-37\" x=\"159.033203\"/>\n       <use xlink:href=\"#DejaVuSans-35\" x=\"222.65625\"/>\n      </g>\n     </g>\n    </g>\n    <g id=\"ytick_4\">\n     <g id=\"line2d_15\">\n      <path d=\"M 56.50625 59.512145 \nL 251.80625 59.512145 \n\" clip-path=\"url(#p97e35124c0)\" style=\"fill: none; stroke: #b0b0b0; stroke-width: 0.8; stroke-linecap: square\"/>\n     </g>\n     <g id=\"line2d_16\">\n      <g>\n       <use xlink:href=\"#m1be36ebe26\" x=\"56.50625\" y=\"59.512145\" style=\"stroke: #000000; stroke-width: 0.8\"/>\n      </g>\n     </g>\n     <g id=\"text_9\">\n      <!-- 0.100 -->\n      <g transform=\"translate(20.878125 63.311364)scale(0.1 -0.1)\">\n       <use xlink:href=\"#DejaVuSans-30\"/>\n       <use xlink:href=\"#DejaVuSans-2e\" x=\"63.623047\"/>\n       <use xlink:href=\"#DejaVuSans-31\" x=\"95.410156\"/>\n       <use xlink:href=\"#DejaVuSans-30\" x=\"159.033203\"/>\n       <use xlink:href=\"#DejaVuSans-30\" x=\"222.65625\"/>\n      </g>\n     </g>\n    </g>\n    <g id=\"ytick_5\">\n     <g id=\"line2d_17\">\n      <path d=\"M 56.50625 32.343993 \nL 251.80625 32.343993 \n\" clip-path=\"url(#p97e35124c0)\" style=\"fill: none; stroke: #b0b0b0; stroke-width: 0.8; stroke-linecap: square\"/>\n     </g>\n     <g id=\"line2d_18\">\n      <g>\n       <use xlink:href=\"#m1be36ebe26\" x=\"56.50625\" y=\"32.343993\" style=\"stroke: #000000; stroke-width: 0.8\"/>\n      </g>\n     </g>\n     <g id=\"text_10\">\n      <!-- 0.125 -->\n      <g transform=\"translate(20.878125 36.143212)scale(0.1 -0.1)\">\n       <use xlink:href=\"#DejaVuSans-30\"/>\n       <use xlink:href=\"#DejaVuSans-2e\" x=\"63.623047\"/>\n       <use xlink:href=\"#DejaVuSans-31\" x=\"95.410156\"/>\n       <use xlink:href=\"#DejaVuSans-32\" x=\"159.033203\"/>\n       <use xlink:href=\"#DejaVuSans-35\" x=\"222.65625\"/>\n      </g>\n     </g>\n    </g>\n    <g id=\"text_11\">\n     <!-- loss -->\n     <g transform=\"translate(14.798438 84.807812)rotate(-90)scale(0.1 -0.1)\">\n      <defs>\n       <path id=\"DejaVuSans-6c\" d=\"M 603 4863 \nL 1178 4863 \nL 1178 0 \nL 603 0 \nL 603 4863 \nz\n\" transform=\"scale(0.015625)\"/>\n       <path id=\"DejaVuSans-73\" d=\"M 2834 3397 \nL 2834 2853 \nQ 2591 2978 2328 3040 \nQ 2066 3103 1784 3103 \nQ 1356 3103 1142 2972 \nQ 928 2841 928 2578 \nQ 928 2378 1081 2264 \nQ 1234 2150 1697 2047 \nL 1894 2003 \nQ 2506 1872 2764 1633 \nQ 3022 1394 3022 966 \nQ 3022 478 2636 193 \nQ 2250 -91 1575 -91 \nQ 1294 -91 989 -36 \nQ 684 19 347 128 \nL 347 722 \nQ 666 556 975 473 \nQ 1284 391 1588 391 \nQ 1994 391 2212 530 \nQ 2431 669 2431 922 \nQ 2431 1156 2273 1281 \nQ 2116 1406 1581 1522 \nL 1381 1569 \nQ 847 1681 609 1914 \nQ 372 2147 372 2553 \nQ 372 3047 722 3315 \nQ 1072 3584 1716 3584 \nQ 2034 3584 2315 3537 \nQ 2597 3491 2834 3397 \nz\n\" transform=\"scale(0.015625)\"/>\n      </defs>\n      <use xlink:href=\"#DejaVuSans-6c\"/>\n      <use xlink:href=\"#DejaVuSans-6f\" x=\"27.783203\"/>\n      <use xlink:href=\"#DejaVuSans-73\" x=\"88.964844\"/>\n      <use xlink:href=\"#DejaVuSans-73\" x=\"141.064453\"/>\n     </g>\n    </g>\n   </g>\n   <g id=\"line2d_19\">\n    <path d=\"M 56.50625 13.377273 \nL 66.785197 70.280999 \nL 77.064145 98.65154 \nL 87.343092 110.761639 \nL 97.622039 116.296675 \nL 107.900987 122.168245 \nL 118.179934 128.311057 \nL 128.458882 127.835136 \nL 138.737829 129.663545 \nL 149.016776 132.194064 \nL 159.295724 130.426026 \nL 169.574671 132.965248 \nL 179.853618 132.171558 \nL 190.132566 135.159883 \nL 200.411513 135.46043 \nL 210.690461 135.672996 \nL 220.969408 136.05967 \nL 231.248355 136.234155 \nL 241.527303 136.233759 \nL 251.80625 136.922727 \n\" clip-path=\"url(#p97e35124c0)\" style=\"fill: none; stroke: #1f77b4; stroke-width: 1.5; stroke-linecap: square\"/>\n   </g>\n   <g id=\"patch_3\">\n    <path d=\"M 56.50625 143.1 \nL 56.50625 7.2 \n\" style=\"fill: none; stroke: #000000; stroke-width: 0.8; stroke-linejoin: miter; stroke-linecap: square\"/>\n   </g>\n   <g id=\"patch_4\">\n    <path d=\"M 251.80625 143.1 \nL 251.80625 7.2 \n\" style=\"fill: none; stroke: #000000; stroke-width: 0.8; stroke-linejoin: miter; stroke-linecap: square\"/>\n   </g>\n   <g id=\"patch_5\">\n    <path d=\"M 56.50625 143.1 \nL 251.80625 143.1 \n\" style=\"fill: none; stroke: #000000; stroke-width: 0.8; stroke-linejoin: miter; stroke-linecap: square\"/>\n   </g>\n   <g id=\"patch_6\">\n    <path d=\"M 56.50625 7.2 \nL 251.80625 7.2 \n\" style=\"fill: none; stroke: #000000; stroke-width: 0.8; stroke-linejoin: miter; stroke-linecap: square\"/>\n   </g>\n  </g>\n </g>\n <defs>\n  <clipPath id=\"p97e35124c0\">\n   <rect x=\"56.50625\" y=\"7.2\" width=\"195.3\" height=\"135.9\"/>\n  </clipPath>\n </defs>\n</svg>\n",
      "text/plain": [
       "<Figure size 252x180 with 1 Axes>"
      ]
     },
     "metadata": {
      "needs_background": "light"
     },
     "output_type": "display_data"
    }
   ],
   "source": [
    "encoder = TransformerEncoder(\n",
    "\tlen(src_vocab), key_size, query_size, value_size, num_hiddens, \n",
    "\tnorm_shape, ffn_num_input, ffn_num_hiddens, num_heads,\n",
    "\tnum_layers, dropout)\n",
    "decoder = TransformerDecoder(\n",
    "\tlen(tgt_vocab), key_size, query_size, value_size, num_hiddens, \n",
    "\tnorm_shape, ffn_num_input, ffn_num_hiddens, num_heads,\n",
    "\tnum_layers, dropout)\n",
    "net = EncoderDecoder(encoder, decoder)\n",
    "train_seq2seq(net, train_iter, lr, num_epochs, tgt_vocab, device)"
   ]
  },
  {
   "cell_type": "markdown",
   "metadata": {},
   "source": [
    "#### Transformer prediction "
   ]
  },
  {
   "cell_type": "code",
   "execution_count": 712,
   "metadata": {},
   "outputs": [],
   "source": [
    "def predict_seq2seq(net, src_sentence, src_vocab, tgt_vocab, num_steps,\n",
    "                    device, save_attention_weights=False):\n",
    "    \"\"\"Predict for sequence to sequence.\"\"\"\n",
    "    # Set `net` to eval mode for inference\n",
    "    net.eval()\n",
    "    src_tokens = src_vocab[src_sentence.lower().split(' ')] + [\n",
    "        src_vocab['<eos>']]\n",
    "    enc_valid_len = torch.tensor([len(src_tokens)], device=device)\n",
    "    src_tokens = d2l.truncate_pad(src_tokens, num_steps, src_vocab['<pad>'])\n",
    "    # Add the batch axis\n",
    "    enc_X = torch.unsqueeze(\n",
    "        torch.tensor(src_tokens, dtype=torch.long, device=device), dim=0)\n",
    "    enc_outputs = net.encoder(enc_X, enc_valid_len)\n",
    "    dec_state = net.decoder.init_state(enc_outputs, enc_valid_len)\n",
    "\n",
    "\n",
    "    # Add the batch axis\n",
    "    dec_X = torch.unsqueeze(torch.tensor(\n",
    "        [tgt_vocab['<bos>']], dtype=torch.long, device=device), dim=0)\n",
    "    output_seq, attention_weight_seq = [], []\n",
    "    for _ in range(num_steps):\n",
    "\n",
    "        Y, dec_state = net.decoder(dec_X, dec_state)\n",
    "        # We use the token with the highest prediction likelihood as the input\n",
    "        # of the decoder at the next time step\n",
    "        dec_X = Y.argmax(dim=2)\n",
    "        pred = dec_X.squeeze(dim=0).type(torch.int32).item()\n",
    "        # Save attention weights (to be covered later)\n",
    "        if save_attention_weights:\n",
    "            attention_weight_seq.append(net.decoder.attention_weights())\n",
    "        # Once the end-of-sequence token is predicted, the generation of the\n",
    "        # output sequence is complete\n",
    "        if pred == tgt_vocab['<eos>']:\n",
    "            break\n",
    "        output_seq.append(pred)\n",
    "    return ' '.join(tgt_vocab.to_tokens(output_seq)), attention_weight_seq"
   ]
  },
  {
   "cell_type": "code",
   "execution_count": 713,
   "metadata": {},
   "outputs": [
    {
     "name": "stdout",
     "output_type": "stream",
     "text": [
      "go . => va !,  bleu 1.000\n",
      "i lost . => j'ai perdu .,  bleu 1.000\n",
      "he's calm . => il est <unk> .,  bleu 0.658\n",
      "i'm home . => je suis chez moi .,  bleu 1.000\n"
     ]
    }
   ],
   "source": [
    "engs = ['go .', \"i lost .\", 'he\\'s calm .', 'i\\'m home .']\n",
    "fras = ['va !']\n",
    "fras = ['va !', 'j\\'ai perdu .', 'il est calme .', 'je suis chez moi .']\n",
    "for eng, fra in zip(engs, fras):\n",
    "    translation, dec_attention_weight_seq = predict_seq2seq(\n",
    "        net, eng, src_vocab, tgt_vocab, num_steps, device, True)\n",
    "    print(f'{eng} => {translation}, ',\n",
    "          f'bleu {d2l.bleu(translation, fra, k=2):.3f}')"
   ]
  },
  {
   "cell_type": "markdown",
   "metadata": {},
   "source": [
    "#### Visualize encoder attention weights"
   ]
  },
  {
   "cell_type": "code",
   "execution_count": 714,
   "metadata": {},
   "outputs": [
    {
     "data": {
      "text/plain": [
       "torch.Size([2, 4, 10, 10])"
      ]
     },
     "execution_count": 714,
     "metadata": {},
     "output_type": "execute_result"
    }
   ],
   "source": [
    "enc_attention_weights = torch.cat(net.encoder.attention_weights, 0).reshape((num_layers, num_heads,\n",
    "    -1, num_steps))\n",
    "enc_attention_weights.shape"
   ]
  },
  {
   "cell_type": "code",
   "execution_count": 715,
   "metadata": {},
   "outputs": [
    {
     "data": {
      "image/svg+xml": "<?xml version=\"1.0\" encoding=\"utf-8\" standalone=\"no\"?>\n<!DOCTYPE svg PUBLIC \"-//W3C//DTD SVG 1.1//EN\"\n  \"http://www.w3.org/Graphics/SVG/1.1/DTD/svg11.dtd\">\n<svg xmlns:xlink=\"http://www.w3.org/1999/xlink\" width=\"402.06155pt\" height=\"231.582992pt\" viewBox=\"0 0 402.06155 231.582992\" xmlns=\"http://www.w3.org/2000/svg\" version=\"1.1\">\n <metadata>\n  <rdf:RDF xmlns:dc=\"http://purl.org/dc/elements/1.1/\" xmlns:cc=\"http://creativecommons.org/ns#\" xmlns:rdf=\"http://www.w3.org/1999/02/22-rdf-syntax-ns#\">\n   <cc:Work>\n    <dc:type rdf:resource=\"http://purl.org/dc/dcmitype/StillImage\"/>\n    <dc:date>2022-07-06T20:14:17.462420</dc:date>\n    <dc:format>image/svg+xml</dc:format>\n    <dc:creator>\n     <cc:Agent>\n      <dc:title>Matplotlib v3.5.2, https://matplotlib.org/</dc:title>\n     </cc:Agent>\n    </dc:creator>\n   </cc:Work>\n  </rdf:RDF>\n </metadata>\n <defs>\n  <style type=\"text/css\">*{stroke-linejoin: round; stroke-linecap: butt}</style>\n </defs>\n <g id=\"figure_1\">\n  <g id=\"patch_1\">\n   <path d=\"M 0 231.582992 \nL 402.06155 231.582992 \nL 402.06155 0 \nL 0 0 \nL 0 231.582992 \nz\n\" style=\"fill: none\"/>\n  </g>\n  <g id=\"axes_1\">\n   <g id=\"patch_2\">\n    <path d=\"M 34.240625 90.24856 \nL 102.17106 90.24856 \nL 102.17106 22.318125 \nL 34.240625 22.318125 \nz\n\" style=\"fill: #ffffff\"/>\n   </g>\n   <g clip-path=\"url(#p8f7644a673)\">\n    <image xlink:href=\"data:image/png;base64,\niVBORw0KGgoAAAANSUhEUgAAAEQAAABECAYAAAA4E5OyAAAA40lEQVR4nO3bQWrCQBiAUcetPYKez/ZCxfOJB+jCrHX/0biwEbW8tw1Jho+Bn4FkXKafy2pBn5vt7LXDdFryVQ+xfvYCXo0gIUgIEoKEICFICBKChCAhSAgSgoQgIUgIEoKEICFICBKChCAhSAgSgoQgIUgIEoKEICFICBKChCAhSAgSgoQgIUgIEuPWh7tfm93sjd/n4+8PHOPvq3oiOyQECUFCkBAkBImbY/ce/pf5ZwQJQUKQECTGfvUxO2XeYSoszQ4JQUKQECQECUHi7sPd3CHu3Ue1HRKChCAhSAgSgsQVC04f8y2c/u8AAAAASUVORK5CYII=\" id=\"imagee7d50aa2bb\" transform=\"scale(1 -1)translate(0 -68)\" x=\"34.240625\" y=\"-22.24856\" width=\"68\" height=\"68\"/>\n   </g>\n   <g id=\"matplotlib.axis_1\">\n    <g id=\"xtick_1\">\n     <g id=\"line2d_1\">\n      <defs>\n       <path id=\"me4e02c16b8\" d=\"M 0 0 \nL 0 3.5 \n\" style=\"stroke: #000000; stroke-width: 0.8\"/>\n      </defs>\n      <g>\n       <use xlink:href=\"#me4e02c16b8\" x=\"37.637147\" y=\"90.24856\" style=\"stroke: #000000; stroke-width: 0.8\"/>\n      </g>\n     </g>\n    </g>\n    <g id=\"xtick_2\">\n     <g id=\"line2d_2\">\n      <g>\n       <use xlink:href=\"#me4e02c16b8\" x=\"71.602364\" y=\"90.24856\" style=\"stroke: #000000; stroke-width: 0.8\"/>\n      </g>\n     </g>\n    </g>\n   </g>\n   <g id=\"matplotlib.axis_2\">\n    <g id=\"ytick_1\">\n     <g id=\"line2d_3\">\n      <defs>\n       <path id=\"mc5e4ee6fe9\" d=\"M 0 0 \nL -3.5 0 \n\" style=\"stroke: #000000; stroke-width: 0.8\"/>\n      </defs>\n      <g>\n       <use xlink:href=\"#mc5e4ee6fe9\" x=\"34.240625\" y=\"25.714647\" style=\"stroke: #000000; stroke-width: 0.8\"/>\n      </g>\n     </g>\n     <g id=\"text_1\">\n      <!-- 0 -->\n      <g transform=\"translate(20.878125 29.513865)scale(0.1 -0.1)\">\n       <defs>\n        <path id=\"DejaVuSans-30\" d=\"M 2034 4250 \nQ 1547 4250 1301 3770 \nQ 1056 3291 1056 2328 \nQ 1056 1369 1301 889 \nQ 1547 409 2034 409 \nQ 2525 409 2770 889 \nQ 3016 1369 3016 2328 \nQ 3016 3291 2770 3770 \nQ 2525 4250 2034 4250 \nz\nM 2034 4750 \nQ 2819 4750 3233 4129 \nQ 3647 3509 3647 2328 \nQ 3647 1150 3233 529 \nQ 2819 -91 2034 -91 \nQ 1250 -91 836 529 \nQ 422 1150 422 2328 \nQ 422 3509 836 4129 \nQ 1250 4750 2034 4750 \nz\n\" transform=\"scale(0.015625)\"/>\n       </defs>\n       <use xlink:href=\"#DejaVuSans-30\"/>\n      </g>\n     </g>\n    </g>\n    <g id=\"ytick_2\">\n     <g id=\"line2d_4\">\n      <g>\n       <use xlink:href=\"#mc5e4ee6fe9\" x=\"34.240625\" y=\"59.679864\" style=\"stroke: #000000; stroke-width: 0.8\"/>\n      </g>\n     </g>\n     <g id=\"text_2\">\n      <!-- 5 -->\n      <g transform=\"translate(20.878125 63.479083)scale(0.1 -0.1)\">\n       <defs>\n        <path id=\"DejaVuSans-35\" d=\"M 691 4666 \nL 3169 4666 \nL 3169 4134 \nL 1269 4134 \nL 1269 2991 \nQ 1406 3038 1543 3061 \nQ 1681 3084 1819 3084 \nQ 2600 3084 3056 2656 \nQ 3513 2228 3513 1497 \nQ 3513 744 3044 326 \nQ 2575 -91 1722 -91 \nQ 1428 -91 1123 -41 \nQ 819 9 494 109 \nL 494 744 \nQ 775 591 1075 516 \nQ 1375 441 1709 441 \nQ 2250 441 2565 725 \nQ 2881 1009 2881 1497 \nQ 2881 1984 2565 2268 \nQ 2250 2553 1709 2553 \nQ 1456 2553 1204 2497 \nQ 953 2441 691 2322 \nL 691 4666 \nz\n\" transform=\"scale(0.015625)\"/>\n       </defs>\n       <use xlink:href=\"#DejaVuSans-35\"/>\n      </g>\n     </g>\n    </g>\n    <g id=\"text_3\">\n     <!-- Query positions -->\n     <g transform=\"translate(14.798437 95.477874)rotate(-90)scale(0.1 -0.1)\">\n      <defs>\n       <path id=\"DejaVuSans-51\" d=\"M 2522 4238 \nQ 1834 4238 1429 3725 \nQ 1025 3213 1025 2328 \nQ 1025 1447 1429 934 \nQ 1834 422 2522 422 \nQ 3209 422 3611 934 \nQ 4013 1447 4013 2328 \nQ 4013 3213 3611 3725 \nQ 3209 4238 2522 4238 \nz\nM 3406 84 \nL 4238 -825 \nL 3475 -825 \nL 2784 -78 \nQ 2681 -84 2626 -87 \nQ 2572 -91 2522 -91 \nQ 1538 -91 948 567 \nQ 359 1225 359 2328 \nQ 359 3434 948 4092 \nQ 1538 4750 2522 4750 \nQ 3503 4750 4090 4092 \nQ 4678 3434 4678 2328 \nQ 4678 1516 4351 937 \nQ 4025 359 3406 84 \nz\n\" transform=\"scale(0.015625)\"/>\n       <path id=\"DejaVuSans-75\" d=\"M 544 1381 \nL 544 3500 \nL 1119 3500 \nL 1119 1403 \nQ 1119 906 1312 657 \nQ 1506 409 1894 409 \nQ 2359 409 2629 706 \nQ 2900 1003 2900 1516 \nL 2900 3500 \nL 3475 3500 \nL 3475 0 \nL 2900 0 \nL 2900 538 \nQ 2691 219 2414 64 \nQ 2138 -91 1772 -91 \nQ 1169 -91 856 284 \nQ 544 659 544 1381 \nz\nM 1991 3584 \nL 1991 3584 \nz\n\" transform=\"scale(0.015625)\"/>\n       <path id=\"DejaVuSans-65\" d=\"M 3597 1894 \nL 3597 1613 \nL 953 1613 \nQ 991 1019 1311 708 \nQ 1631 397 2203 397 \nQ 2534 397 2845 478 \nQ 3156 559 3463 722 \nL 3463 178 \nQ 3153 47 2828 -22 \nQ 2503 -91 2169 -91 \nQ 1331 -91 842 396 \nQ 353 884 353 1716 \nQ 353 2575 817 3079 \nQ 1281 3584 2069 3584 \nQ 2775 3584 3186 3129 \nQ 3597 2675 3597 1894 \nz\nM 3022 2063 \nQ 3016 2534 2758 2815 \nQ 2500 3097 2075 3097 \nQ 1594 3097 1305 2825 \nQ 1016 2553 972 2059 \nL 3022 2063 \nz\n\" transform=\"scale(0.015625)\"/>\n       <path id=\"DejaVuSans-72\" d=\"M 2631 2963 \nQ 2534 3019 2420 3045 \nQ 2306 3072 2169 3072 \nQ 1681 3072 1420 2755 \nQ 1159 2438 1159 1844 \nL 1159 0 \nL 581 0 \nL 581 3500 \nL 1159 3500 \nL 1159 2956 \nQ 1341 3275 1631 3429 \nQ 1922 3584 2338 3584 \nQ 2397 3584 2469 3576 \nQ 2541 3569 2628 3553 \nL 2631 2963 \nz\n\" transform=\"scale(0.015625)\"/>\n       <path id=\"DejaVuSans-79\" d=\"M 2059 -325 \nQ 1816 -950 1584 -1140 \nQ 1353 -1331 966 -1331 \nL 506 -1331 \nL 506 -850 \nL 844 -850 \nQ 1081 -850 1212 -737 \nQ 1344 -625 1503 -206 \nL 1606 56 \nL 191 3500 \nL 800 3500 \nL 1894 763 \nL 2988 3500 \nL 3597 3500 \nL 2059 -325 \nz\n\" transform=\"scale(0.015625)\"/>\n       <path id=\"DejaVuSans-20\" transform=\"scale(0.015625)\"/>\n       <path id=\"DejaVuSans-70\" d=\"M 1159 525 \nL 1159 -1331 \nL 581 -1331 \nL 581 3500 \nL 1159 3500 \nL 1159 2969 \nQ 1341 3281 1617 3432 \nQ 1894 3584 2278 3584 \nQ 2916 3584 3314 3078 \nQ 3713 2572 3713 1747 \nQ 3713 922 3314 415 \nQ 2916 -91 2278 -91 \nQ 1894 -91 1617 61 \nQ 1341 213 1159 525 \nz\nM 3116 1747 \nQ 3116 2381 2855 2742 \nQ 2594 3103 2138 3103 \nQ 1681 3103 1420 2742 \nQ 1159 2381 1159 1747 \nQ 1159 1113 1420 752 \nQ 1681 391 2138 391 \nQ 2594 391 2855 752 \nQ 3116 1113 3116 1747 \nz\n\" transform=\"scale(0.015625)\"/>\n       <path id=\"DejaVuSans-6f\" d=\"M 1959 3097 \nQ 1497 3097 1228 2736 \nQ 959 2375 959 1747 \nQ 959 1119 1226 758 \nQ 1494 397 1959 397 \nQ 2419 397 2687 759 \nQ 2956 1122 2956 1747 \nQ 2956 2369 2687 2733 \nQ 2419 3097 1959 3097 \nz\nM 1959 3584 \nQ 2709 3584 3137 3096 \nQ 3566 2609 3566 1747 \nQ 3566 888 3137 398 \nQ 2709 -91 1959 -91 \nQ 1206 -91 779 398 \nQ 353 888 353 1747 \nQ 353 2609 779 3096 \nQ 1206 3584 1959 3584 \nz\n\" transform=\"scale(0.015625)\"/>\n       <path id=\"DejaVuSans-73\" d=\"M 2834 3397 \nL 2834 2853 \nQ 2591 2978 2328 3040 \nQ 2066 3103 1784 3103 \nQ 1356 3103 1142 2972 \nQ 928 2841 928 2578 \nQ 928 2378 1081 2264 \nQ 1234 2150 1697 2047 \nL 1894 2003 \nQ 2506 1872 2764 1633 \nQ 3022 1394 3022 966 \nQ 3022 478 2636 193 \nQ 2250 -91 1575 -91 \nQ 1294 -91 989 -36 \nQ 684 19 347 128 \nL 347 722 \nQ 666 556 975 473 \nQ 1284 391 1588 391 \nQ 1994 391 2212 530 \nQ 2431 669 2431 922 \nQ 2431 1156 2273 1281 \nQ 2116 1406 1581 1522 \nL 1381 1569 \nQ 847 1681 609 1914 \nQ 372 2147 372 2553 \nQ 372 3047 722 3315 \nQ 1072 3584 1716 3584 \nQ 2034 3584 2315 3537 \nQ 2597 3491 2834 3397 \nz\n\" transform=\"scale(0.015625)\"/>\n       <path id=\"DejaVuSans-69\" d=\"M 603 3500 \nL 1178 3500 \nL 1178 0 \nL 603 0 \nL 603 3500 \nz\nM 603 4863 \nL 1178 4863 \nL 1178 4134 \nL 603 4134 \nL 603 4863 \nz\n\" transform=\"scale(0.015625)\"/>\n       <path id=\"DejaVuSans-74\" d=\"M 1172 4494 \nL 1172 3500 \nL 2356 3500 \nL 2356 3053 \nL 1172 3053 \nL 1172 1153 \nQ 1172 725 1289 603 \nQ 1406 481 1766 481 \nL 2356 481 \nL 2356 0 \nL 1766 0 \nQ 1100 0 847 248 \nQ 594 497 594 1153 \nL 594 3053 \nL 172 3053 \nL 172 3500 \nL 594 3500 \nL 594 4494 \nL 1172 4494 \nz\n\" transform=\"scale(0.015625)\"/>\n       <path id=\"DejaVuSans-6e\" d=\"M 3513 2113 \nL 3513 0 \nL 2938 0 \nL 2938 2094 \nQ 2938 2591 2744 2837 \nQ 2550 3084 2163 3084 \nQ 1697 3084 1428 2787 \nQ 1159 2491 1159 1978 \nL 1159 0 \nL 581 0 \nL 581 3500 \nL 1159 3500 \nL 1159 2956 \nQ 1366 3272 1645 3428 \nQ 1925 3584 2291 3584 \nQ 2894 3584 3203 3211 \nQ 3513 2838 3513 2113 \nz\n\" transform=\"scale(0.015625)\"/>\n      </defs>\n      <use xlink:href=\"#DejaVuSans-51\"/>\n      <use xlink:href=\"#DejaVuSans-75\" x=\"78.710938\"/>\n      <use xlink:href=\"#DejaVuSans-65\" x=\"142.089844\"/>\n      <use xlink:href=\"#DejaVuSans-72\" x=\"203.613281\"/>\n      <use xlink:href=\"#DejaVuSans-79\" x=\"244.726562\"/>\n      <use xlink:href=\"#DejaVuSans-20\" x=\"303.90625\"/>\n      <use xlink:href=\"#DejaVuSans-70\" x=\"335.693359\"/>\n      <use xlink:href=\"#DejaVuSans-6f\" x=\"399.169922\"/>\n      <use xlink:href=\"#DejaVuSans-73\" x=\"460.351562\"/>\n      <use xlink:href=\"#DejaVuSans-69\" x=\"512.451172\"/>\n      <use xlink:href=\"#DejaVuSans-74\" x=\"540.234375\"/>\n      <use xlink:href=\"#DejaVuSans-69\" x=\"579.443359\"/>\n      <use xlink:href=\"#DejaVuSans-6f\" x=\"607.226562\"/>\n      <use xlink:href=\"#DejaVuSans-6e\" x=\"668.408203\"/>\n      <use xlink:href=\"#DejaVuSans-73\" x=\"731.787109\"/>\n     </g>\n    </g>\n   </g>\n   <g id=\"patch_3\">\n    <path d=\"M 34.240625 90.24856 \nL 34.240625 22.318125 \n\" style=\"fill: none; stroke: #000000; stroke-width: 0.8; stroke-linejoin: miter; stroke-linecap: square\"/>\n   </g>\n   <g id=\"patch_4\">\n    <path d=\"M 102.17106 90.24856 \nL 102.17106 22.318125 \n\" style=\"fill: none; stroke: #000000; stroke-width: 0.8; stroke-linejoin: miter; stroke-linecap: square\"/>\n   </g>\n   <g id=\"patch_5\">\n    <path d=\"M 34.240625 90.24856 \nL 102.17106 90.24856 \n\" style=\"fill: none; stroke: #000000; stroke-width: 0.8; stroke-linejoin: miter; stroke-linecap: square\"/>\n   </g>\n   <g id=\"patch_6\">\n    <path d=\"M 34.240625 22.318125 \nL 102.17106 22.318125 \n\" style=\"fill: none; stroke: #000000; stroke-width: 0.8; stroke-linejoin: miter; stroke-linecap: square\"/>\n   </g>\n   <g id=\"text_4\">\n    <!-- Head 1 -->\n    <g transform=\"translate(46.791467 16.318125)scale(0.12 -0.12)\">\n     <defs>\n      <path id=\"DejaVuSans-48\" d=\"M 628 4666 \nL 1259 4666 \nL 1259 2753 \nL 3553 2753 \nL 3553 4666 \nL 4184 4666 \nL 4184 0 \nL 3553 0 \nL 3553 2222 \nL 1259 2222 \nL 1259 0 \nL 628 0 \nL 628 4666 \nz\n\" transform=\"scale(0.015625)\"/>\n      <path id=\"DejaVuSans-61\" d=\"M 2194 1759 \nQ 1497 1759 1228 1600 \nQ 959 1441 959 1056 \nQ 959 750 1161 570 \nQ 1363 391 1709 391 \nQ 2188 391 2477 730 \nQ 2766 1069 2766 1631 \nL 2766 1759 \nL 2194 1759 \nz\nM 3341 1997 \nL 3341 0 \nL 2766 0 \nL 2766 531 \nQ 2569 213 2275 61 \nQ 1981 -91 1556 -91 \nQ 1019 -91 701 211 \nQ 384 513 384 1019 \nQ 384 1609 779 1909 \nQ 1175 2209 1959 2209 \nL 2766 2209 \nL 2766 2266 \nQ 2766 2663 2505 2880 \nQ 2244 3097 1772 3097 \nQ 1472 3097 1187 3025 \nQ 903 2953 641 2809 \nL 641 3341 \nQ 956 3463 1253 3523 \nQ 1550 3584 1831 3584 \nQ 2591 3584 2966 3190 \nQ 3341 2797 3341 1997 \nz\n\" transform=\"scale(0.015625)\"/>\n      <path id=\"DejaVuSans-64\" d=\"M 2906 2969 \nL 2906 4863 \nL 3481 4863 \nL 3481 0 \nL 2906 0 \nL 2906 525 \nQ 2725 213 2448 61 \nQ 2172 -91 1784 -91 \nQ 1150 -91 751 415 \nQ 353 922 353 1747 \nQ 353 2572 751 3078 \nQ 1150 3584 1784 3584 \nQ 2172 3584 2448 3432 \nQ 2725 3281 2906 2969 \nz\nM 947 1747 \nQ 947 1113 1208 752 \nQ 1469 391 1925 391 \nQ 2381 391 2643 752 \nQ 2906 1113 2906 1747 \nQ 2906 2381 2643 2742 \nQ 2381 3103 1925 3103 \nQ 1469 3103 1208 2742 \nQ 947 2381 947 1747 \nz\n\" transform=\"scale(0.015625)\"/>\n      <path id=\"DejaVuSans-31\" d=\"M 794 531 \nL 1825 531 \nL 1825 4091 \nL 703 3866 \nL 703 4441 \nL 1819 4666 \nL 2450 4666 \nL 2450 531 \nL 3481 531 \nL 3481 0 \nL 794 0 \nL 794 531 \nz\n\" transform=\"scale(0.015625)\"/>\n     </defs>\n     <use xlink:href=\"#DejaVuSans-48\"/>\n     <use xlink:href=\"#DejaVuSans-65\" x=\"75.195312\"/>\n     <use xlink:href=\"#DejaVuSans-61\" x=\"136.71875\"/>\n     <use xlink:href=\"#DejaVuSans-64\" x=\"197.998047\"/>\n     <use xlink:href=\"#DejaVuSans-20\" x=\"261.474609\"/>\n     <use xlink:href=\"#DejaVuSans-31\" x=\"293.261719\"/>\n    </g>\n   </g>\n  </g>\n  <g id=\"axes_2\">\n   <g id=\"patch_7\">\n    <path d=\"M 115.757147 90.24856 \nL 183.687582 90.24856 \nL 183.687582 22.318125 \nL 115.757147 22.318125 \nz\n\" style=\"fill: #ffffff\"/>\n   </g>\n   <g clip-path=\"url(#p4fac5b98c7)\">\n    <image xlink:href=\"data:image/png;base64,\niVBORw0KGgoAAAANSUhEUgAAAEQAAABECAYAAAA4E5OyAAAA8ElEQVR4nO3bMUoDQRiA0WxIJ1ilNFdL7ZFsvUxOkU7BJoUIAbu1/2AWYqFZeK/9YXb5GBgWZqf5+jlvBp4fnkajzcv1fThbs+1/v8C9ESQECUFCkBAkBAlBQpAQJAQJQUKQECQECUFCkBAkBAlBQpAQJAQJQUKQECQECUFCkBAkBAlBQpAQJAQJQUKQECQECUFiWrq4u2R0qXftF3rtkBAkBAlBQpAQJHZLQ//LIEgJEoKEIDG9Pu6HH3fHj/PNC86Xt/HD9oeb1/trdkgIEoKEICFICBK709f3cHj8xYJrOFqX2CEhSAgSgoQgIUj8APNlG3PSXdyuAAAAAElFTkSuQmCC\" id=\"imagee7266ae51d\" transform=\"scale(1 -1)translate(0 -68)\" x=\"115.757147\" y=\"-22.24856\" width=\"68\" height=\"68\"/>\n   </g>\n   <g id=\"matplotlib.axis_3\">\n    <g id=\"xtick_3\">\n     <g id=\"line2d_5\">\n      <g>\n       <use xlink:href=\"#me4e02c16b8\" x=\"119.153668\" y=\"90.24856\" style=\"stroke: #000000; stroke-width: 0.8\"/>\n      </g>\n     </g>\n    </g>\n    <g id=\"xtick_4\">\n     <g id=\"line2d_6\">\n      <g>\n       <use xlink:href=\"#me4e02c16b8\" x=\"153.118886\" y=\"90.24856\" style=\"stroke: #000000; stroke-width: 0.8\"/>\n      </g>\n     </g>\n    </g>\n   </g>\n   <g id=\"matplotlib.axis_4\">\n    <g id=\"ytick_3\">\n     <g id=\"line2d_7\">\n      <g>\n       <use xlink:href=\"#mc5e4ee6fe9\" x=\"115.757147\" y=\"25.714647\" style=\"stroke: #000000; stroke-width: 0.8\"/>\n      </g>\n     </g>\n    </g>\n    <g id=\"ytick_4\">\n     <g id=\"line2d_8\">\n      <g>\n       <use xlink:href=\"#mc5e4ee6fe9\" x=\"115.757147\" y=\"59.679864\" style=\"stroke: #000000; stroke-width: 0.8\"/>\n      </g>\n     </g>\n    </g>\n   </g>\n   <g id=\"patch_8\">\n    <path d=\"M 115.757147 90.24856 \nL 115.757147 22.318125 \n\" style=\"fill: none; stroke: #000000; stroke-width: 0.8; stroke-linejoin: miter; stroke-linecap: square\"/>\n   </g>\n   <g id=\"patch_9\">\n    <path d=\"M 183.687582 90.24856 \nL 183.687582 22.318125 \n\" style=\"fill: none; stroke: #000000; stroke-width: 0.8; stroke-linejoin: miter; stroke-linecap: square\"/>\n   </g>\n   <g id=\"patch_10\">\n    <path d=\"M 115.757147 90.24856 \nL 183.687582 90.24856 \n\" style=\"fill: none; stroke: #000000; stroke-width: 0.8; stroke-linejoin: miter; stroke-linecap: square\"/>\n   </g>\n   <g id=\"patch_11\">\n    <path d=\"M 115.757147 22.318125 \nL 183.687582 22.318125 \n\" style=\"fill: none; stroke: #000000; stroke-width: 0.8; stroke-linejoin: miter; stroke-linecap: square\"/>\n   </g>\n   <g id=\"text_5\">\n    <!-- Head 2 -->\n    <g transform=\"translate(128.307989 16.318125)scale(0.12 -0.12)\">\n     <defs>\n      <path id=\"DejaVuSans-32\" d=\"M 1228 531 \nL 3431 531 \nL 3431 0 \nL 469 0 \nL 469 531 \nQ 828 903 1448 1529 \nQ 2069 2156 2228 2338 \nQ 2531 2678 2651 2914 \nQ 2772 3150 2772 3378 \nQ 2772 3750 2511 3984 \nQ 2250 4219 1831 4219 \nQ 1534 4219 1204 4116 \nQ 875 4013 500 3803 \nL 500 4441 \nQ 881 4594 1212 4672 \nQ 1544 4750 1819 4750 \nQ 2544 4750 2975 4387 \nQ 3406 4025 3406 3419 \nQ 3406 3131 3298 2873 \nQ 3191 2616 2906 2266 \nQ 2828 2175 2409 1742 \nQ 1991 1309 1228 531 \nz\n\" transform=\"scale(0.015625)\"/>\n     </defs>\n     <use xlink:href=\"#DejaVuSans-48\"/>\n     <use xlink:href=\"#DejaVuSans-65\" x=\"75.195312\"/>\n     <use xlink:href=\"#DejaVuSans-61\" x=\"136.71875\"/>\n     <use xlink:href=\"#DejaVuSans-64\" x=\"197.998047\"/>\n     <use xlink:href=\"#DejaVuSans-20\" x=\"261.474609\"/>\n     <use xlink:href=\"#DejaVuSans-32\" x=\"293.261719\"/>\n    </g>\n   </g>\n  </g>\n  <g id=\"axes_3\">\n   <g id=\"patch_12\">\n    <path d=\"M 197.273668 90.24856 \nL 265.204103 90.24856 \nL 265.204103 22.318125 \nL 197.273668 22.318125 \nz\n\" style=\"fill: #ffffff\"/>\n   </g>\n   <g clip-path=\"url(#pc98f6a76fb)\">\n    <image xlink:href=\"data:image/png;base64,\niVBORw0KGgoAAAANSUhEUgAAAEQAAABECAYAAAA4E5OyAAAAyklEQVR4nO3bMQrCQBBA0Y2tHsH76ZE8oAewSR37T9IEwQTeK7dYls/AVjMt82cZOzyv99Xz1/zec91hXP79gKMRJAQJQUKQECQECUFCkBAkBAlBQpAQJAQJQUKQECQECUFCkBAkBAlBQpAQJAQJQUKQECQECUFCkBAkBAlBQpAQJAQJQUKQECQECUFCkBAkBAlBQpAQJAQJQUKQmPZuZW7Z2tYc4xwbmyYkBAlBQpAQJASJ6TFum9/uGb7JXzMhIUgIEoKEICFIfAFQUxIv7EIXUAAAAABJRU5ErkJggg==\" id=\"image3802aebde3\" transform=\"scale(1 -1)translate(0 -68)\" x=\"197.273668\" y=\"-22.24856\" width=\"68\" height=\"68\"/>\n   </g>\n   <g id=\"matplotlib.axis_5\">\n    <g id=\"xtick_5\">\n     <g id=\"line2d_9\">\n      <g>\n       <use xlink:href=\"#me4e02c16b8\" x=\"200.67019\" y=\"90.24856\" style=\"stroke: #000000; stroke-width: 0.8\"/>\n      </g>\n     </g>\n    </g>\n    <g id=\"xtick_6\">\n     <g id=\"line2d_10\">\n      <g>\n       <use xlink:href=\"#me4e02c16b8\" x=\"234.635408\" y=\"90.24856\" style=\"stroke: #000000; stroke-width: 0.8\"/>\n      </g>\n     </g>\n    </g>\n   </g>\n   <g id=\"matplotlib.axis_6\">\n    <g id=\"ytick_5\">\n     <g id=\"line2d_11\">\n      <g>\n       <use xlink:href=\"#mc5e4ee6fe9\" x=\"197.273668\" y=\"25.714647\" style=\"stroke: #000000; stroke-width: 0.8\"/>\n      </g>\n     </g>\n    </g>\n    <g id=\"ytick_6\">\n     <g id=\"line2d_12\">\n      <g>\n       <use xlink:href=\"#mc5e4ee6fe9\" x=\"197.273668\" y=\"59.679864\" style=\"stroke: #000000; stroke-width: 0.8\"/>\n      </g>\n     </g>\n    </g>\n   </g>\n   <g id=\"patch_13\">\n    <path d=\"M 197.273668 90.24856 \nL 197.273668 22.318125 \n\" style=\"fill: none; stroke: #000000; stroke-width: 0.8; stroke-linejoin: miter; stroke-linecap: square\"/>\n   </g>\n   <g id=\"patch_14\">\n    <path d=\"M 265.204103 90.24856 \nL 265.204103 22.318125 \n\" style=\"fill: none; stroke: #000000; stroke-width: 0.8; stroke-linejoin: miter; stroke-linecap: square\"/>\n   </g>\n   <g id=\"patch_15\">\n    <path d=\"M 197.273668 90.24856 \nL 265.204103 90.24856 \n\" style=\"fill: none; stroke: #000000; stroke-width: 0.8; stroke-linejoin: miter; stroke-linecap: square\"/>\n   </g>\n   <g id=\"patch_16\">\n    <path d=\"M 197.273668 22.318125 \nL 265.204103 22.318125 \n\" style=\"fill: none; stroke: #000000; stroke-width: 0.8; stroke-linejoin: miter; stroke-linecap: square\"/>\n   </g>\n   <g id=\"text_6\">\n    <!-- Head 3 -->\n    <g transform=\"translate(209.824511 16.318125)scale(0.12 -0.12)\">\n     <defs>\n      <path id=\"DejaVuSans-33\" d=\"M 2597 2516 \nQ 3050 2419 3304 2112 \nQ 3559 1806 3559 1356 \nQ 3559 666 3084 287 \nQ 2609 -91 1734 -91 \nQ 1441 -91 1130 -33 \nQ 819 25 488 141 \nL 488 750 \nQ 750 597 1062 519 \nQ 1375 441 1716 441 \nQ 2309 441 2620 675 \nQ 2931 909 2931 1356 \nQ 2931 1769 2642 2001 \nQ 2353 2234 1838 2234 \nL 1294 2234 \nL 1294 2753 \nL 1863 2753 \nQ 2328 2753 2575 2939 \nQ 2822 3125 2822 3475 \nQ 2822 3834 2567 4026 \nQ 2313 4219 1838 4219 \nQ 1578 4219 1281 4162 \nQ 984 4106 628 3988 \nL 628 4550 \nQ 988 4650 1302 4700 \nQ 1616 4750 1894 4750 \nQ 2613 4750 3031 4423 \nQ 3450 4097 3450 3541 \nQ 3450 3153 3228 2886 \nQ 3006 2619 2597 2516 \nz\n\" transform=\"scale(0.015625)\"/>\n     </defs>\n     <use xlink:href=\"#DejaVuSans-48\"/>\n     <use xlink:href=\"#DejaVuSans-65\" x=\"75.195312\"/>\n     <use xlink:href=\"#DejaVuSans-61\" x=\"136.71875\"/>\n     <use xlink:href=\"#DejaVuSans-64\" x=\"197.998047\"/>\n     <use xlink:href=\"#DejaVuSans-20\" x=\"261.474609\"/>\n     <use xlink:href=\"#DejaVuSans-33\" x=\"293.261719\"/>\n    </g>\n   </g>\n  </g>\n  <g id=\"axes_4\">\n   <g id=\"patch_17\">\n    <path d=\"M 278.79019 90.24856 \nL 346.720625 90.24856 \nL 346.720625 22.318125 \nL 278.79019 22.318125 \nz\n\" style=\"fill: #ffffff\"/>\n   </g>\n   <g clip-path=\"url(#p10cc402977)\">\n    <image xlink:href=\"data:image/png;base64,\niVBORw0KGgoAAAANSUhEUgAAAEQAAABECAYAAAA4E5OyAAAAwklEQVR4nO3asQnDMBBAUTttVsiAGSkDZgA3rp3+g1y4iQXvtWrE50AIbj327VgG3s/X6Gj57N/h2cwe/77A3QgSgoQgIUgIEoKEICFICBKChCAhSAgSgoQgIUgIEoKEICFICBKChCAhSAgSgoQgIUgIEoKEICFICBKChCAhSAgSgoQgsZ4t7l4x+7KvCQlBQpAQJAQJQeL02Z39Cb3ChIQgIUgIEoKEz12YkBAkBAlBQpAQJAQJQUKQECQECUFCkPgBDEMcEd3SGC4AAAAASUVORK5CYII=\" id=\"image0b750a3b82\" transform=\"scale(1 -1)translate(0 -68)\" x=\"278.79019\" y=\"-22.24856\" width=\"68\" height=\"68\"/>\n   </g>\n   <g id=\"matplotlib.axis_7\">\n    <g id=\"xtick_7\">\n     <g id=\"line2d_13\">\n      <g>\n       <use xlink:href=\"#me4e02c16b8\" x=\"282.186712\" y=\"90.24856\" style=\"stroke: #000000; stroke-width: 0.8\"/>\n      </g>\n     </g>\n    </g>\n    <g id=\"xtick_8\">\n     <g id=\"line2d_14\">\n      <g>\n       <use xlink:href=\"#me4e02c16b8\" x=\"316.151929\" y=\"90.24856\" style=\"stroke: #000000; stroke-width: 0.8\"/>\n      </g>\n     </g>\n    </g>\n   </g>\n   <g id=\"matplotlib.axis_8\">\n    <g id=\"ytick_7\">\n     <g id=\"line2d_15\">\n      <g>\n       <use xlink:href=\"#mc5e4ee6fe9\" x=\"278.79019\" y=\"25.714647\" style=\"stroke: #000000; stroke-width: 0.8\"/>\n      </g>\n     </g>\n    </g>\n    <g id=\"ytick_8\">\n     <g id=\"line2d_16\">\n      <g>\n       <use xlink:href=\"#mc5e4ee6fe9\" x=\"278.79019\" y=\"59.679864\" style=\"stroke: #000000; stroke-width: 0.8\"/>\n      </g>\n     </g>\n    </g>\n   </g>\n   <g id=\"patch_18\">\n    <path d=\"M 278.79019 90.24856 \nL 278.79019 22.318125 \n\" style=\"fill: none; stroke: #000000; stroke-width: 0.8; stroke-linejoin: miter; stroke-linecap: square\"/>\n   </g>\n   <g id=\"patch_19\">\n    <path d=\"M 346.720625 90.24856 \nL 346.720625 22.318125 \n\" style=\"fill: none; stroke: #000000; stroke-width: 0.8; stroke-linejoin: miter; stroke-linecap: square\"/>\n   </g>\n   <g id=\"patch_20\">\n    <path d=\"M 278.79019 90.24856 \nL 346.720625 90.24856 \n\" style=\"fill: none; stroke: #000000; stroke-width: 0.8; stroke-linejoin: miter; stroke-linecap: square\"/>\n   </g>\n   <g id=\"patch_21\">\n    <path d=\"M 278.79019 22.318125 \nL 346.720625 22.318125 \n\" style=\"fill: none; stroke: #000000; stroke-width: 0.8; stroke-linejoin: miter; stroke-linecap: square\"/>\n   </g>\n   <g id=\"text_7\">\n    <!-- Head 4 -->\n    <g transform=\"translate(291.341033 16.318125)scale(0.12 -0.12)\">\n     <defs>\n      <path id=\"DejaVuSans-34\" d=\"M 2419 4116 \nL 825 1625 \nL 2419 1625 \nL 2419 4116 \nz\nM 2253 4666 \nL 3047 4666 \nL 3047 1625 \nL 3713 1625 \nL 3713 1100 \nL 3047 1100 \nL 3047 0 \nL 2419 0 \nL 2419 1100 \nL 313 1100 \nL 313 1709 \nL 2253 4666 \nz\n\" transform=\"scale(0.015625)\"/>\n     </defs>\n     <use xlink:href=\"#DejaVuSans-48\"/>\n     <use xlink:href=\"#DejaVuSans-65\" x=\"75.195312\"/>\n     <use xlink:href=\"#DejaVuSans-61\" x=\"136.71875\"/>\n     <use xlink:href=\"#DejaVuSans-64\" x=\"197.998047\"/>\n     <use xlink:href=\"#DejaVuSans-20\" x=\"261.474609\"/>\n     <use xlink:href=\"#DejaVuSans-34\" x=\"293.261719\"/>\n    </g>\n   </g>\n  </g>\n  <g id=\"axes_5\">\n   <g id=\"patch_22\">\n    <path d=\"M 34.240625 194.026742 \nL 102.17106 194.026742 \nL 102.17106 126.096307 \nL 34.240625 126.096307 \nz\n\" style=\"fill: #ffffff\"/>\n   </g>\n   <g clip-path=\"url(#p5d1a13ee92)\">\n    <image xlink:href=\"data:image/png;base64,\niVBORw0KGgoAAAANSUhEUgAAAEQAAABECAYAAAA4E5OyAAABTUlEQVR4nO3bQUrDQBhA4fmTtFQQNy7ceznBtQsvIIgnEC/hdcSdIIhYEEEXQkncP/IHDZWk5X3LDJOGx8CQpIn2460riWgW2VDZXJ33H396Sees7u7Tsbmopr6AuTEIGAQMAgYBg0AzemaVtOzSXXwnuELAIGAQMAgYBAwC47fdtu0/HjH6lHPgCgGDgEHAIGAQ2PouE7W7zF4xCBgEDAIGAYNAU8qWn4FWbrt7xSBgEDAIGAQMAuPvdrNnp62vMveKQcAgYBAwCBgE4qI+SvfJm/VjPnG5+pcLmporBAwCBgGDgEHAINCcLOp8dPOdDnUD39Jkohr4rZlwhYBBwCBgEDAIRPv5nt7cXR+fphMvXx/6B7rk/6ullFge/P7KJuIKAYOAQcAgYBAwCMRZOUy33duv5z+fsBv4KjN24NMRVwgYBAwCBgGDgEHgB3YxKkEcLKf6AAAAAElFTkSuQmCC\" id=\"image06abaf106a\" transform=\"scale(1 -1)translate(0 -68)\" x=\"34.240625\" y=\"-126.026742\" width=\"68\" height=\"68\"/>\n   </g>\n   <g id=\"matplotlib.axis_9\">\n    <g id=\"xtick_9\">\n     <g id=\"line2d_17\">\n      <g>\n       <use xlink:href=\"#me4e02c16b8\" x=\"37.637147\" y=\"194.026742\" style=\"stroke: #000000; stroke-width: 0.8\"/>\n      </g>\n     </g>\n     <g id=\"text_8\">\n      <!-- 0 -->\n      <g transform=\"translate(34.455897 208.625179)scale(0.1 -0.1)\">\n       <use xlink:href=\"#DejaVuSans-30\"/>\n      </g>\n     </g>\n    </g>\n    <g id=\"xtick_10\">\n     <g id=\"line2d_18\">\n      <g>\n       <use xlink:href=\"#me4e02c16b8\" x=\"71.602364\" y=\"194.026742\" style=\"stroke: #000000; stroke-width: 0.8\"/>\n      </g>\n     </g>\n     <g id=\"text_9\">\n      <!-- 5 -->\n      <g transform=\"translate(68.421114 208.625179)scale(0.1 -0.1)\">\n       <use xlink:href=\"#DejaVuSans-35\"/>\n      </g>\n     </g>\n    </g>\n    <g id=\"text_10\">\n     <!-- Key positions -->\n     <g transform=\"translate(35.142561 222.303304)scale(0.1 -0.1)\">\n      <defs>\n       <path id=\"DejaVuSans-4b\" d=\"M 628 4666 \nL 1259 4666 \nL 1259 2694 \nL 3353 4666 \nL 4166 4666 \nL 1850 2491 \nL 4331 0 \nL 3500 0 \nL 1259 2247 \nL 1259 0 \nL 628 0 \nL 628 4666 \nz\n\" transform=\"scale(0.015625)\"/>\n      </defs>\n      <use xlink:href=\"#DejaVuSans-4b\"/>\n      <use xlink:href=\"#DejaVuSans-65\" x=\"60.576172\"/>\n      <use xlink:href=\"#DejaVuSans-79\" x=\"122.099609\"/>\n      <use xlink:href=\"#DejaVuSans-20\" x=\"181.279297\"/>\n      <use xlink:href=\"#DejaVuSans-70\" x=\"213.066406\"/>\n      <use xlink:href=\"#DejaVuSans-6f\" x=\"276.542969\"/>\n      <use xlink:href=\"#DejaVuSans-73\" x=\"337.724609\"/>\n      <use xlink:href=\"#DejaVuSans-69\" x=\"389.824219\"/>\n      <use xlink:href=\"#DejaVuSans-74\" x=\"417.607422\"/>\n      <use xlink:href=\"#DejaVuSans-69\" x=\"456.816406\"/>\n      <use xlink:href=\"#DejaVuSans-6f\" x=\"484.599609\"/>\n      <use xlink:href=\"#DejaVuSans-6e\" x=\"545.78125\"/>\n      <use xlink:href=\"#DejaVuSans-73\" x=\"609.160156\"/>\n     </g>\n    </g>\n   </g>\n   <g id=\"matplotlib.axis_10\">\n    <g id=\"ytick_9\">\n     <g id=\"line2d_19\">\n      <g>\n       <use xlink:href=\"#mc5e4ee6fe9\" x=\"34.240625\" y=\"129.492829\" style=\"stroke: #000000; stroke-width: 0.8\"/>\n      </g>\n     </g>\n     <g id=\"text_11\">\n      <!-- 0 -->\n      <g transform=\"translate(20.878125 133.292047)scale(0.1 -0.1)\">\n       <use xlink:href=\"#DejaVuSans-30\"/>\n      </g>\n     </g>\n    </g>\n    <g id=\"ytick_10\">\n     <g id=\"line2d_20\">\n      <g>\n       <use xlink:href=\"#mc5e4ee6fe9\" x=\"34.240625\" y=\"163.458046\" style=\"stroke: #000000; stroke-width: 0.8\"/>\n      </g>\n     </g>\n     <g id=\"text_12\">\n      <!-- 5 -->\n      <g transform=\"translate(20.878125 167.257265)scale(0.1 -0.1)\">\n       <use xlink:href=\"#DejaVuSans-35\"/>\n      </g>\n     </g>\n    </g>\n    <g id=\"text_13\">\n     <!-- Query positions -->\n     <g transform=\"translate(14.798437 199.256055)rotate(-90)scale(0.1 -0.1)\">\n      <use xlink:href=\"#DejaVuSans-51\"/>\n      <use xlink:href=\"#DejaVuSans-75\" x=\"78.710938\"/>\n      <use xlink:href=\"#DejaVuSans-65\" x=\"142.089844\"/>\n      <use xlink:href=\"#DejaVuSans-72\" x=\"203.613281\"/>\n      <use xlink:href=\"#DejaVuSans-79\" x=\"244.726562\"/>\n      <use xlink:href=\"#DejaVuSans-20\" x=\"303.90625\"/>\n      <use xlink:href=\"#DejaVuSans-70\" x=\"335.693359\"/>\n      <use xlink:href=\"#DejaVuSans-6f\" x=\"399.169922\"/>\n      <use xlink:href=\"#DejaVuSans-73\" x=\"460.351562\"/>\n      <use xlink:href=\"#DejaVuSans-69\" x=\"512.451172\"/>\n      <use xlink:href=\"#DejaVuSans-74\" x=\"540.234375\"/>\n      <use xlink:href=\"#DejaVuSans-69\" x=\"579.443359\"/>\n      <use xlink:href=\"#DejaVuSans-6f\" x=\"607.226562\"/>\n      <use xlink:href=\"#DejaVuSans-6e\" x=\"668.408203\"/>\n      <use xlink:href=\"#DejaVuSans-73\" x=\"731.787109\"/>\n     </g>\n    </g>\n   </g>\n   <g id=\"patch_23\">\n    <path d=\"M 34.240625 194.026742 \nL 34.240625 126.096307 \n\" style=\"fill: none; stroke: #000000; stroke-width: 0.8; stroke-linejoin: miter; stroke-linecap: square\"/>\n   </g>\n   <g id=\"patch_24\">\n    <path d=\"M 102.17106 194.026742 \nL 102.17106 126.096307 \n\" style=\"fill: none; stroke: #000000; stroke-width: 0.8; stroke-linejoin: miter; stroke-linecap: square\"/>\n   </g>\n   <g id=\"patch_25\">\n    <path d=\"M 34.240625 194.026742 \nL 102.17106 194.026742 \n\" style=\"fill: none; stroke: #000000; stroke-width: 0.8; stroke-linejoin: miter; stroke-linecap: square\"/>\n   </g>\n   <g id=\"patch_26\">\n    <path d=\"M 34.240625 126.096307 \nL 102.17106 126.096307 \n\" style=\"fill: none; stroke: #000000; stroke-width: 0.8; stroke-linejoin: miter; stroke-linecap: square\"/>\n   </g>\n   <g id=\"text_14\">\n    <!-- Head 1 -->\n    <g transform=\"translate(46.791467 120.096307)scale(0.12 -0.12)\">\n     <use xlink:href=\"#DejaVuSans-48\"/>\n     <use xlink:href=\"#DejaVuSans-65\" x=\"75.195312\"/>\n     <use xlink:href=\"#DejaVuSans-61\" x=\"136.71875\"/>\n     <use xlink:href=\"#DejaVuSans-64\" x=\"197.998047\"/>\n     <use xlink:href=\"#DejaVuSans-20\" x=\"261.474609\"/>\n     <use xlink:href=\"#DejaVuSans-31\" x=\"293.261719\"/>\n    </g>\n   </g>\n  </g>\n  <g id=\"axes_6\">\n   <g id=\"patch_27\">\n    <path d=\"M 115.757147 194.026742 \nL 183.687582 194.026742 \nL 183.687582 126.096307 \nL 115.757147 126.096307 \nz\n\" style=\"fill: #ffffff\"/>\n   </g>\n   <g clip-path=\"url(#p839d59dfca)\">\n    <image xlink:href=\"data:image/png;base64,\niVBORw0KGgoAAAANSUhEUgAAAEQAAABECAYAAAA4E5OyAAABXklEQVR4nO3bMUrEQBSA4Z1k1IiF2mghFjbeRCvxCt5QS09gIx5A6+1ERFR0V93E/idvEMTdDf5fmUdg+HkwbGDTxfZuNwqcXp1Ho1HaO+wfVFX8TlWHs2URn/6fMggYBAwCBgGDQG6qFE8/JoVXg9u6C2/xQXBDwCBgEDAIGAQMArkp/DrtJm/hLEXXa+EWHwI3BAwCBgGDgEEg16lwLcw+53eSJeGGgEHAIGAQMAgYBPKs9A20Xolnpet6wNwQMAgYBAwCBgGDQJ628bWb1tbneJTl4IaAQcAgYBAwCBgE8s3rezg83tkPZymv/sV5Fs4NAYOAQcAgYBAwCOTx9CuebmyFoy74OJ0G/vHZDQGDgEHAIGAQSO3zQ/xRtfAvyvbuuvf55dFZ+M7J+PbnJ1sQNwQMAgYBg4BBwCCQU53DYffyGL/5dN/7+GCz+e2ZFsoNAYOAQcAgYBAwCHwDYCwugXCafHQAAAAASUVORK5CYII=\" id=\"imagef073d9a77f\" transform=\"scale(1 -1)translate(0 -68)\" x=\"115.757147\" y=\"-126.026742\" width=\"68\" height=\"68\"/>\n   </g>\n   <g id=\"matplotlib.axis_11\">\n    <g id=\"xtick_11\">\n     <g id=\"line2d_21\">\n      <g>\n       <use xlink:href=\"#me4e02c16b8\" x=\"119.153668\" y=\"194.026742\" style=\"stroke: #000000; stroke-width: 0.8\"/>\n      </g>\n     </g>\n     <g id=\"text_15\">\n      <!-- 0 -->\n      <g transform=\"translate(115.972418 208.625179)scale(0.1 -0.1)\">\n       <use xlink:href=\"#DejaVuSans-30\"/>\n      </g>\n     </g>\n    </g>\n    <g id=\"xtick_12\">\n     <g id=\"line2d_22\">\n      <g>\n       <use xlink:href=\"#me4e02c16b8\" x=\"153.118886\" y=\"194.026742\" style=\"stroke: #000000; stroke-width: 0.8\"/>\n      </g>\n     </g>\n     <g id=\"text_16\">\n      <!-- 5 -->\n      <g transform=\"translate(149.937636 208.625179)scale(0.1 -0.1)\">\n       <use xlink:href=\"#DejaVuSans-35\"/>\n      </g>\n     </g>\n    </g>\n    <g id=\"text_17\">\n     <!-- Key positions -->\n     <g transform=\"translate(116.659083 222.303304)scale(0.1 -0.1)\">\n      <use xlink:href=\"#DejaVuSans-4b\"/>\n      <use xlink:href=\"#DejaVuSans-65\" x=\"60.576172\"/>\n      <use xlink:href=\"#DejaVuSans-79\" x=\"122.099609\"/>\n      <use xlink:href=\"#DejaVuSans-20\" x=\"181.279297\"/>\n      <use xlink:href=\"#DejaVuSans-70\" x=\"213.066406\"/>\n      <use xlink:href=\"#DejaVuSans-6f\" x=\"276.542969\"/>\n      <use xlink:href=\"#DejaVuSans-73\" x=\"337.724609\"/>\n      <use xlink:href=\"#DejaVuSans-69\" x=\"389.824219\"/>\n      <use xlink:href=\"#DejaVuSans-74\" x=\"417.607422\"/>\n      <use xlink:href=\"#DejaVuSans-69\" x=\"456.816406\"/>\n      <use xlink:href=\"#DejaVuSans-6f\" x=\"484.599609\"/>\n      <use xlink:href=\"#DejaVuSans-6e\" x=\"545.78125\"/>\n      <use xlink:href=\"#DejaVuSans-73\" x=\"609.160156\"/>\n     </g>\n    </g>\n   </g>\n   <g id=\"matplotlib.axis_12\">\n    <g id=\"ytick_11\">\n     <g id=\"line2d_23\">\n      <g>\n       <use xlink:href=\"#mc5e4ee6fe9\" x=\"115.757147\" y=\"129.492829\" style=\"stroke: #000000; stroke-width: 0.8\"/>\n      </g>\n     </g>\n    </g>\n    <g id=\"ytick_12\">\n     <g id=\"line2d_24\">\n      <g>\n       <use xlink:href=\"#mc5e4ee6fe9\" x=\"115.757147\" y=\"163.458046\" style=\"stroke: #000000; stroke-width: 0.8\"/>\n      </g>\n     </g>\n    </g>\n   </g>\n   <g id=\"patch_28\">\n    <path d=\"M 115.757147 194.026742 \nL 115.757147 126.096307 \n\" style=\"fill: none; stroke: #000000; stroke-width: 0.8; stroke-linejoin: miter; stroke-linecap: square\"/>\n   </g>\n   <g id=\"patch_29\">\n    <path d=\"M 183.687582 194.026742 \nL 183.687582 126.096307 \n\" style=\"fill: none; stroke: #000000; stroke-width: 0.8; stroke-linejoin: miter; stroke-linecap: square\"/>\n   </g>\n   <g id=\"patch_30\">\n    <path d=\"M 115.757147 194.026742 \nL 183.687582 194.026742 \n\" style=\"fill: none; stroke: #000000; stroke-width: 0.8; stroke-linejoin: miter; stroke-linecap: square\"/>\n   </g>\n   <g id=\"patch_31\">\n    <path d=\"M 115.757147 126.096307 \nL 183.687582 126.096307 \n\" style=\"fill: none; stroke: #000000; stroke-width: 0.8; stroke-linejoin: miter; stroke-linecap: square\"/>\n   </g>\n   <g id=\"text_18\">\n    <!-- Head 2 -->\n    <g transform=\"translate(128.307989 120.096307)scale(0.12 -0.12)\">\n     <use xlink:href=\"#DejaVuSans-48\"/>\n     <use xlink:href=\"#DejaVuSans-65\" x=\"75.195312\"/>\n     <use xlink:href=\"#DejaVuSans-61\" x=\"136.71875\"/>\n     <use xlink:href=\"#DejaVuSans-64\" x=\"197.998047\"/>\n     <use xlink:href=\"#DejaVuSans-20\" x=\"261.474609\"/>\n     <use xlink:href=\"#DejaVuSans-32\" x=\"293.261719\"/>\n    </g>\n   </g>\n  </g>\n  <g id=\"axes_7\">\n   <g id=\"patch_32\">\n    <path d=\"M 197.273668 194.026742 \nL 265.204103 194.026742 \nL 265.204103 126.096307 \nL 197.273668 126.096307 \nz\n\" style=\"fill: #ffffff\"/>\n   </g>\n   <g clip-path=\"url(#p22da14f7f9)\">\n    <image xlink:href=\"data:image/png;base64,\niVBORw0KGgoAAAANSUhEUgAAAEQAAABECAYAAAA4E5OyAAABg0lEQVR4nO3bMUoDQRhA4Zk4iQEtTWlj6UHsPYWdJ7HRxgNYCLbewRvYWAQbGwsRgihoduwf+w9IILvC+8r5GRkeA0uSNXcvTzUF6uotGqXu/qZ/z3IZ7ple3IazsZgMfYCxMQgYBAwCBgGDQEk5x9NJo1e0b91tdqKBeUPAIGAQMAgYBAwCJa2/42nXeISW0rucy86GRxqWNwQMAgYBg4BBoNSvj3jarcNRnu32rtf5fNMzDcobAgYBg4BBwCBgECip9djNjV7TWbA+3exEA/OGgEHAIGAQMAgYBEqaNL4DbXzaTZPgp8zW97D/gDcEDAIGAYOAQcAgkM/Sfvji7vXzQ7zz4LB/vYZ/LuXWG0kjMf4TbplBwCBgEDAIGATKXuNRWNc/4SxHj9fa+rQ7/v7jP+GWGQQMAgYBg0CuH+/xf2X+xO+wrk5PetfnR4twz+zy7g9HG4Y3BAwCBgGDgEHAIFDq5yocni+Ow9nV62P/oPXT6D/gDQGDgEHAIGAQMAj8ArROPD2RzGMWAAAAAElFTkSuQmCC\" id=\"imaged388b37615\" transform=\"scale(1 -1)translate(0 -68)\" x=\"197.273668\" y=\"-126.026742\" width=\"68\" height=\"68\"/>\n   </g>\n   <g id=\"matplotlib.axis_13\">\n    <g id=\"xtick_13\">\n     <g id=\"line2d_25\">\n      <g>\n       <use xlink:href=\"#me4e02c16b8\" x=\"200.67019\" y=\"194.026742\" style=\"stroke: #000000; stroke-width: 0.8\"/>\n      </g>\n     </g>\n     <g id=\"text_19\">\n      <!-- 0 -->\n      <g transform=\"translate(197.48894 208.625179)scale(0.1 -0.1)\">\n       <use xlink:href=\"#DejaVuSans-30\"/>\n      </g>\n     </g>\n    </g>\n    <g id=\"xtick_14\">\n     <g id=\"line2d_26\">\n      <g>\n       <use xlink:href=\"#me4e02c16b8\" x=\"234.635408\" y=\"194.026742\" style=\"stroke: #000000; stroke-width: 0.8\"/>\n      </g>\n     </g>\n     <g id=\"text_20\">\n      <!-- 5 -->\n      <g transform=\"translate(231.454158 208.625179)scale(0.1 -0.1)\">\n       <use xlink:href=\"#DejaVuSans-35\"/>\n      </g>\n     </g>\n    </g>\n    <g id=\"text_21\">\n     <!-- Key positions -->\n     <g transform=\"translate(198.175605 222.303304)scale(0.1 -0.1)\">\n      <use xlink:href=\"#DejaVuSans-4b\"/>\n      <use xlink:href=\"#DejaVuSans-65\" x=\"60.576172\"/>\n      <use xlink:href=\"#DejaVuSans-79\" x=\"122.099609\"/>\n      <use xlink:href=\"#DejaVuSans-20\" x=\"181.279297\"/>\n      <use xlink:href=\"#DejaVuSans-70\" x=\"213.066406\"/>\n      <use xlink:href=\"#DejaVuSans-6f\" x=\"276.542969\"/>\n      <use xlink:href=\"#DejaVuSans-73\" x=\"337.724609\"/>\n      <use xlink:href=\"#DejaVuSans-69\" x=\"389.824219\"/>\n      <use xlink:href=\"#DejaVuSans-74\" x=\"417.607422\"/>\n      <use xlink:href=\"#DejaVuSans-69\" x=\"456.816406\"/>\n      <use xlink:href=\"#DejaVuSans-6f\" x=\"484.599609\"/>\n      <use xlink:href=\"#DejaVuSans-6e\" x=\"545.78125\"/>\n      <use xlink:href=\"#DejaVuSans-73\" x=\"609.160156\"/>\n     </g>\n    </g>\n   </g>\n   <g id=\"matplotlib.axis_14\">\n    <g id=\"ytick_13\">\n     <g id=\"line2d_27\">\n      <g>\n       <use xlink:href=\"#mc5e4ee6fe9\" x=\"197.273668\" y=\"129.492829\" style=\"stroke: #000000; stroke-width: 0.8\"/>\n      </g>\n     </g>\n    </g>\n    <g id=\"ytick_14\">\n     <g id=\"line2d_28\">\n      <g>\n       <use xlink:href=\"#mc5e4ee6fe9\" x=\"197.273668\" y=\"163.458046\" style=\"stroke: #000000; stroke-width: 0.8\"/>\n      </g>\n     </g>\n    </g>\n   </g>\n   <g id=\"patch_33\">\n    <path d=\"M 197.273668 194.026742 \nL 197.273668 126.096307 \n\" style=\"fill: none; stroke: #000000; stroke-width: 0.8; stroke-linejoin: miter; stroke-linecap: square\"/>\n   </g>\n   <g id=\"patch_34\">\n    <path d=\"M 265.204103 194.026742 \nL 265.204103 126.096307 \n\" style=\"fill: none; stroke: #000000; stroke-width: 0.8; stroke-linejoin: miter; stroke-linecap: square\"/>\n   </g>\n   <g id=\"patch_35\">\n    <path d=\"M 197.273668 194.026742 \nL 265.204103 194.026742 \n\" style=\"fill: none; stroke: #000000; stroke-width: 0.8; stroke-linejoin: miter; stroke-linecap: square\"/>\n   </g>\n   <g id=\"patch_36\">\n    <path d=\"M 197.273668 126.096307 \nL 265.204103 126.096307 \n\" style=\"fill: none; stroke: #000000; stroke-width: 0.8; stroke-linejoin: miter; stroke-linecap: square\"/>\n   </g>\n   <g id=\"text_22\">\n    <!-- Head 3 -->\n    <g transform=\"translate(209.824511 120.096307)scale(0.12 -0.12)\">\n     <use xlink:href=\"#DejaVuSans-48\"/>\n     <use xlink:href=\"#DejaVuSans-65\" x=\"75.195312\"/>\n     <use xlink:href=\"#DejaVuSans-61\" x=\"136.71875\"/>\n     <use xlink:href=\"#DejaVuSans-64\" x=\"197.998047\"/>\n     <use xlink:href=\"#DejaVuSans-20\" x=\"261.474609\"/>\n     <use xlink:href=\"#DejaVuSans-33\" x=\"293.261719\"/>\n    </g>\n   </g>\n  </g>\n  <g id=\"axes_8\">\n   <g id=\"patch_37\">\n    <path d=\"M 278.79019 194.026742 \nL 346.720625 194.026742 \nL 346.720625 126.096307 \nL 278.79019 126.096307 \nz\n\" style=\"fill: #ffffff\"/>\n   </g>\n   <g clip-path=\"url(#p898fdcce5d)\">\n    <image xlink:href=\"data:image/png;base64,\niVBORw0KGgoAAAANSUhEUgAAAEQAAABECAYAAAA4E5OyAAABeklEQVR4nO3aPUoDQRxA8dnNahHExkrsLPQGdjYewCKNN9Da03gKD2BlZ2NjJxG0UMHCxkIRkpixf+x/zQe4G3i/cofZDI+BYdgU0/fnnAJPh0fRUNq9vqp9nt8ewznl/kE41hVl2wvoGoOAQcAgYBAwCFSpjJuMJ9P531j2llhO+9whYBAwCBgEDAIGgSpN46O16hUNU8NL8kpzh4BBwCBgEDAIVOlnEg72+1U8M9efMrnhfavAHQIGAYOAQcAgYBD449hdi2cGx24aj5ZcUrvcIWAQMAgYBAwCBoGG6+yC8gKfPzvEHQIGAYOAQcAgYBAoztJG+E3y4vNl/hcWTZ8/u88dAgYBg4BBwCBgEKi21xsuvKPvhpnrtY9zETcuGv4k3BXdX+E/MwgYBAwCBoEif32El7vLnb1w4uD+Jnpl/GObWzMvrC3uEDAIGAQMAgYBg0A1Pj8JBwevw3AsP9zWPx/ehXN6x6czL6wt7hAwCBgEDAIGAYPAL1cuN0Hat9PYAAAAAElFTkSuQmCC\" id=\"imagef6ffc83b45\" transform=\"scale(1 -1)translate(0 -68)\" x=\"278.79019\" y=\"-126.026742\" width=\"68\" height=\"68\"/>\n   </g>\n   <g id=\"matplotlib.axis_15\">\n    <g id=\"xtick_15\">\n     <g id=\"line2d_29\">\n      <g>\n       <use xlink:href=\"#me4e02c16b8\" x=\"282.186712\" y=\"194.026742\" style=\"stroke: #000000; stroke-width: 0.8\"/>\n      </g>\n     </g>\n     <g id=\"text_23\">\n      <!-- 0 -->\n      <g transform=\"translate(279.005462 208.625179)scale(0.1 -0.1)\">\n       <use xlink:href=\"#DejaVuSans-30\"/>\n      </g>\n     </g>\n    </g>\n    <g id=\"xtick_16\">\n     <g id=\"line2d_30\">\n      <g>\n       <use xlink:href=\"#me4e02c16b8\" x=\"316.151929\" y=\"194.026742\" style=\"stroke: #000000; stroke-width: 0.8\"/>\n      </g>\n     </g>\n     <g id=\"text_24\">\n      <!-- 5 -->\n      <g transform=\"translate(312.970679 208.625179)scale(0.1 -0.1)\">\n       <use xlink:href=\"#DejaVuSans-35\"/>\n      </g>\n     </g>\n    </g>\n    <g id=\"text_25\">\n     <!-- Key positions -->\n     <g transform=\"translate(279.692126 222.303304)scale(0.1 -0.1)\">\n      <use xlink:href=\"#DejaVuSans-4b\"/>\n      <use xlink:href=\"#DejaVuSans-65\" x=\"60.576172\"/>\n      <use xlink:href=\"#DejaVuSans-79\" x=\"122.099609\"/>\n      <use xlink:href=\"#DejaVuSans-20\" x=\"181.279297\"/>\n      <use xlink:href=\"#DejaVuSans-70\" x=\"213.066406\"/>\n      <use xlink:href=\"#DejaVuSans-6f\" x=\"276.542969\"/>\n      <use xlink:href=\"#DejaVuSans-73\" x=\"337.724609\"/>\n      <use xlink:href=\"#DejaVuSans-69\" x=\"389.824219\"/>\n      <use xlink:href=\"#DejaVuSans-74\" x=\"417.607422\"/>\n      <use xlink:href=\"#DejaVuSans-69\" x=\"456.816406\"/>\n      <use xlink:href=\"#DejaVuSans-6f\" x=\"484.599609\"/>\n      <use xlink:href=\"#DejaVuSans-6e\" x=\"545.78125\"/>\n      <use xlink:href=\"#DejaVuSans-73\" x=\"609.160156\"/>\n     </g>\n    </g>\n   </g>\n   <g id=\"matplotlib.axis_16\">\n    <g id=\"ytick_15\">\n     <g id=\"line2d_31\">\n      <g>\n       <use xlink:href=\"#mc5e4ee6fe9\" x=\"278.79019\" y=\"129.492829\" style=\"stroke: #000000; stroke-width: 0.8\"/>\n      </g>\n     </g>\n    </g>\n    <g id=\"ytick_16\">\n     <g id=\"line2d_32\">\n      <g>\n       <use xlink:href=\"#mc5e4ee6fe9\" x=\"278.79019\" y=\"163.458046\" style=\"stroke: #000000; stroke-width: 0.8\"/>\n      </g>\n     </g>\n    </g>\n   </g>\n   <g id=\"patch_38\">\n    <path d=\"M 278.79019 194.026742 \nL 278.79019 126.096307 \n\" style=\"fill: none; stroke: #000000; stroke-width: 0.8; stroke-linejoin: miter; stroke-linecap: square\"/>\n   </g>\n   <g id=\"patch_39\">\n    <path d=\"M 346.720625 194.026742 \nL 346.720625 126.096307 \n\" style=\"fill: none; stroke: #000000; stroke-width: 0.8; stroke-linejoin: miter; stroke-linecap: square\"/>\n   </g>\n   <g id=\"patch_40\">\n    <path d=\"M 278.79019 194.026742 \nL 346.720625 194.026742 \n\" style=\"fill: none; stroke: #000000; stroke-width: 0.8; stroke-linejoin: miter; stroke-linecap: square\"/>\n   </g>\n   <g id=\"patch_41\">\n    <path d=\"M 278.79019 126.096307 \nL 346.720625 126.096307 \n\" style=\"fill: none; stroke: #000000; stroke-width: 0.8; stroke-linejoin: miter; stroke-linecap: square\"/>\n   </g>\n   <g id=\"text_26\">\n    <!-- Head 4 -->\n    <g transform=\"translate(291.341033 120.096307)scale(0.12 -0.12)\">\n     <use xlink:href=\"#DejaVuSans-48\"/>\n     <use xlink:href=\"#DejaVuSans-65\" x=\"75.195312\"/>\n     <use xlink:href=\"#DejaVuSans-61\" x=\"136.71875\"/>\n     <use xlink:href=\"#DejaVuSans-64\" x=\"197.998047\"/>\n     <use xlink:href=\"#DejaVuSans-20\" x=\"261.474609\"/>\n     <use xlink:href=\"#DejaVuSans-34\" x=\"293.261719\"/>\n    </g>\n   </g>\n  </g>\n  <g id=\"axes_9\">\n   <g id=\"patch_42\">\n    <path d=\"M 366.250625 165.250433 \nL 371.958425 165.250433 \nL 371.958425 51.094433 \nL 366.250625 51.094433 \nz\n\" style=\"fill: #ffffff\"/>\n   </g>\n   <g id=\"patch_43\">\n    <path clip-path=\"url(#pd157d20beb)\" style=\"fill: #ffffff; stroke: #ffffff; stroke-width: 0.01; stroke-linejoin: miter\"/>\n   </g>\n   <image xlink:href=\"data:image/png;base64,\niVBORw0KGgoAAAANSUhEUgAAAAYAAAByCAYAAABwf6CfAAAAzElEQVR4nLXWQQ7DIBBDUSpx/7N2001hhl6AF2kQzTKW/fGQkLzW573a5upt5e5+6y0pBIS1RZwwlhmKqgtkZLkHhZgSCIfgkZhxDW5hjr3g5boHBTAOetAxNat6lGd1bz/cQ7M66KGH+qAH34/6fujIuAivCwcF9Z4HC5IBIcWgow5f89pyzRg8E6tRGTjbQ0LqaxAS6gxHlRmTzeuMfdJTD/0BpAQktZ5NBc1AVCiKDjP2hqeCcnBWFhTF5Q7tIB2zPJLvvSg6xv8ZP9W5DE4Qbu8+AAAAAElFTkSuQmCC\" id=\"imagedee0f640c8\" transform=\"scale(1 -1)translate(0 -114)\" x=\"366\" y=\"-51\" width=\"6\" height=\"114\"/>\n   <g id=\"matplotlib.axis_17\">\n    <g id=\"ytick_17\">\n     <g id=\"line2d_33\">\n      <defs>\n       <path id=\"md83e7613e7\" d=\"M 0 0 \nL 3.5 0 \n\" style=\"stroke: #000000; stroke-width: 0.8\"/>\n      </defs>\n      <g>\n       <use xlink:href=\"#md83e7613e7\" x=\"371.958425\" y=\"165.250433\" style=\"stroke: #000000; stroke-width: 0.8\"/>\n      </g>\n     </g>\n     <g id=\"text_27\">\n      <!-- 0.0 -->\n      <g transform=\"translate(378.958425 169.049652)scale(0.1 -0.1)\">\n       <defs>\n        <path id=\"DejaVuSans-2e\" d=\"M 684 794 \nL 1344 794 \nL 1344 0 \nL 684 0 \nL 684 794 \nz\n\" transform=\"scale(0.015625)\"/>\n       </defs>\n       <use xlink:href=\"#DejaVuSans-30\"/>\n       <use xlink:href=\"#DejaVuSans-2e\" x=\"63.623047\"/>\n       <use xlink:href=\"#DejaVuSans-30\" x=\"95.410156\"/>\n      </g>\n     </g>\n    </g>\n    <g id=\"ytick_18\">\n     <g id=\"line2d_34\">\n      <g>\n       <use xlink:href=\"#md83e7613e7\" x=\"371.958425\" y=\"142.127456\" style=\"stroke: #000000; stroke-width: 0.8\"/>\n      </g>\n     </g>\n     <g id=\"text_28\">\n      <!-- 0.2 -->\n      <g transform=\"translate(378.958425 145.926675)scale(0.1 -0.1)\">\n       <use xlink:href=\"#DejaVuSans-30\"/>\n       <use xlink:href=\"#DejaVuSans-2e\" x=\"63.623047\"/>\n       <use xlink:href=\"#DejaVuSans-32\" x=\"95.410156\"/>\n      </g>\n     </g>\n    </g>\n    <g id=\"ytick_19\">\n     <g id=\"line2d_35\">\n      <g>\n       <use xlink:href=\"#md83e7613e7\" x=\"371.958425\" y=\"119.00448\" style=\"stroke: #000000; stroke-width: 0.8\"/>\n      </g>\n     </g>\n     <g id=\"text_29\">\n      <!-- 0.4 -->\n      <g transform=\"translate(378.958425 122.803698)scale(0.1 -0.1)\">\n       <use xlink:href=\"#DejaVuSans-30\"/>\n       <use xlink:href=\"#DejaVuSans-2e\" x=\"63.623047\"/>\n       <use xlink:href=\"#DejaVuSans-34\" x=\"95.410156\"/>\n      </g>\n     </g>\n    </g>\n    <g id=\"ytick_20\">\n     <g id=\"line2d_36\">\n      <g>\n       <use xlink:href=\"#md83e7613e7\" x=\"371.958425\" y=\"95.881503\" style=\"stroke: #000000; stroke-width: 0.8\"/>\n      </g>\n     </g>\n     <g id=\"text_30\">\n      <!-- 0.6 -->\n      <g transform=\"translate(378.958425 99.680721)scale(0.1 -0.1)\">\n       <defs>\n        <path id=\"DejaVuSans-36\" d=\"M 2113 2584 \nQ 1688 2584 1439 2293 \nQ 1191 2003 1191 1497 \nQ 1191 994 1439 701 \nQ 1688 409 2113 409 \nQ 2538 409 2786 701 \nQ 3034 994 3034 1497 \nQ 3034 2003 2786 2293 \nQ 2538 2584 2113 2584 \nz\nM 3366 4563 \nL 3366 3988 \nQ 3128 4100 2886 4159 \nQ 2644 4219 2406 4219 \nQ 1781 4219 1451 3797 \nQ 1122 3375 1075 2522 \nQ 1259 2794 1537 2939 \nQ 1816 3084 2150 3084 \nQ 2853 3084 3261 2657 \nQ 3669 2231 3669 1497 \nQ 3669 778 3244 343 \nQ 2819 -91 2113 -91 \nQ 1303 -91 875 529 \nQ 447 1150 447 2328 \nQ 447 3434 972 4092 \nQ 1497 4750 2381 4750 \nQ 2619 4750 2861 4703 \nQ 3103 4656 3366 4563 \nz\n\" transform=\"scale(0.015625)\"/>\n       </defs>\n       <use xlink:href=\"#DejaVuSans-30\"/>\n       <use xlink:href=\"#DejaVuSans-2e\" x=\"63.623047\"/>\n       <use xlink:href=\"#DejaVuSans-36\" x=\"95.410156\"/>\n      </g>\n     </g>\n    </g>\n    <g id=\"ytick_21\">\n     <g id=\"line2d_37\">\n      <g>\n       <use xlink:href=\"#md83e7613e7\" x=\"371.958425\" y=\"72.758526\" style=\"stroke: #000000; stroke-width: 0.8\"/>\n      </g>\n     </g>\n     <g id=\"text_31\">\n      <!-- 0.8 -->\n      <g transform=\"translate(378.958425 76.557745)scale(0.1 -0.1)\">\n       <defs>\n        <path id=\"DejaVuSans-38\" d=\"M 2034 2216 \nQ 1584 2216 1326 1975 \nQ 1069 1734 1069 1313 \nQ 1069 891 1326 650 \nQ 1584 409 2034 409 \nQ 2484 409 2743 651 \nQ 3003 894 3003 1313 \nQ 3003 1734 2745 1975 \nQ 2488 2216 2034 2216 \nz\nM 1403 2484 \nQ 997 2584 770 2862 \nQ 544 3141 544 3541 \nQ 544 4100 942 4425 \nQ 1341 4750 2034 4750 \nQ 2731 4750 3128 4425 \nQ 3525 4100 3525 3541 \nQ 3525 3141 3298 2862 \nQ 3072 2584 2669 2484 \nQ 3125 2378 3379 2068 \nQ 3634 1759 3634 1313 \nQ 3634 634 3220 271 \nQ 2806 -91 2034 -91 \nQ 1263 -91 848 271 \nQ 434 634 434 1313 \nQ 434 1759 690 2068 \nQ 947 2378 1403 2484 \nz\nM 1172 3481 \nQ 1172 3119 1398 2916 \nQ 1625 2713 2034 2713 \nQ 2441 2713 2670 2916 \nQ 2900 3119 2900 3481 \nQ 2900 3844 2670 4047 \nQ 2441 4250 2034 4250 \nQ 1625 4250 1398 4047 \nQ 1172 3844 1172 3481 \nz\n\" transform=\"scale(0.015625)\"/>\n       </defs>\n       <use xlink:href=\"#DejaVuSans-30\"/>\n       <use xlink:href=\"#DejaVuSans-2e\" x=\"63.623047\"/>\n       <use xlink:href=\"#DejaVuSans-38\" x=\"95.410156\"/>\n      </g>\n     </g>\n    </g>\n   </g>\n   <g id=\"LineCollection_1\"/>\n   <g id=\"patch_44\">\n    <path d=\"M 366.250625 165.250433 \nL 369.104525 165.250433 \nL 371.958425 165.250433 \nL 371.958425 51.094433 \nL 369.104525 51.094433 \nL 366.250625 51.094433 \nL 366.250625 165.250433 \nz\n\" style=\"fill: none; stroke: #000000; stroke-width: 0.8; stroke-linejoin: miter; stroke-linecap: square\"/>\n   </g>\n  </g>\n </g>\n <defs>\n  <clipPath id=\"p8f7644a673\">\n   <rect x=\"34.240625\" y=\"22.318125\" width=\"67.930435\" height=\"67.930435\"/>\n  </clipPath>\n  <clipPath id=\"p4fac5b98c7\">\n   <rect x=\"115.757147\" y=\"22.318125\" width=\"67.930435\" height=\"67.930435\"/>\n  </clipPath>\n  <clipPath id=\"pc98f6a76fb\">\n   <rect x=\"197.273668\" y=\"22.318125\" width=\"67.930435\" height=\"67.930435\"/>\n  </clipPath>\n  <clipPath id=\"p10cc402977\">\n   <rect x=\"278.79019\" y=\"22.318125\" width=\"67.930435\" height=\"67.930435\"/>\n  </clipPath>\n  <clipPath id=\"p5d1a13ee92\">\n   <rect x=\"34.240625\" y=\"126.096307\" width=\"67.930435\" height=\"67.930435\"/>\n  </clipPath>\n  <clipPath id=\"p839d59dfca\">\n   <rect x=\"115.757147\" y=\"126.096307\" width=\"67.930435\" height=\"67.930435\"/>\n  </clipPath>\n  <clipPath id=\"p22da14f7f9\">\n   <rect x=\"197.273668\" y=\"126.096307\" width=\"67.930435\" height=\"67.930435\"/>\n  </clipPath>\n  <clipPath id=\"p898fdcce5d\">\n   <rect x=\"278.79019\" y=\"126.096307\" width=\"67.930435\" height=\"67.930435\"/>\n  </clipPath>\n  <clipPath id=\"pd157d20beb\">\n   <rect x=\"366.250625\" y=\"51.094433\" width=\"5.7078\" height=\"114.156\"/>\n  </clipPath>\n </defs>\n</svg>\n",
      "text/plain": [
       "<Figure size 504x252 with 9 Axes>"
      ]
     },
     "metadata": {
      "needs_background": "light"
     },
     "output_type": "display_data"
    }
   ],
   "source": [
    "d2l.show_heatmaps(\n",
    "    enc_attention_weights.cpu(), xlabel='Key positions',\n",
    "    ylabel='Query positions', titles=['Head %d' % i for i in range(1, 5)],\n",
    "    figsize=(7, 3.5))"
   ]
  },
  {
   "cell_type": "markdown",
   "metadata": {},
   "source": [
    "#### Visualize decoder attention weights"
   ]
  },
  {
   "cell_type": "code",
   "execution_count": 716,
   "metadata": {},
   "outputs": [
    {
     "data": {
      "text/plain": [
       "(torch.Size([2, 4, 6, 10]), torch.Size([2, 4, 6, 10]))"
      ]
     },
     "execution_count": 716,
     "metadata": {},
     "output_type": "execute_result"
    }
   ],
   "source": [
    "dec_attention_weights_2d = [head[0].tolist()\n",
    "                            for step in dec_attention_weight_seq\n",
    "                            for attn in step for blk in attn for head in blk] # dec_attention_weight_seq is from prediction of sequences\n",
    "dec_attention_weights_filled = torch.tensor(\n",
    "    pd.DataFrame(dec_attention_weights_2d).fillna(0.0).values)\n",
    "dec_attention_weights = dec_attention_weights_filled.reshape((-1, 2, num_layers, num_heads, num_steps))\n",
    "dec_self_attention_weights, dec_inter_attention_weights = \\\n",
    "    dec_attention_weights.permute(1, 2, 3, 0, 4)\n",
    "dec_self_attention_weights.shape, dec_inter_attention_weights.shape"
   ]
  },
  {
   "cell_type": "code",
   "execution_count": 717,
   "metadata": {},
   "outputs": [
    {
     "data": {
      "image/svg+xml": "<?xml version=\"1.0\" encoding=\"utf-8\" standalone=\"no\"?>\n<!DOCTYPE svg PUBLIC \"-//W3C//DTD SVG 1.1//EN\"\n  \"http://www.w3.org/Graphics/SVG/1.1/DTD/svg11.dtd\">\n<svg xmlns:xlink=\"http://www.w3.org/1999/xlink\" width=\"402.06155pt\" height=\"231.582992pt\" viewBox=\"0 0 402.06155 231.582992\" xmlns=\"http://www.w3.org/2000/svg\" version=\"1.1\">\n <metadata>\n  <rdf:RDF xmlns:dc=\"http://purl.org/dc/elements/1.1/\" xmlns:cc=\"http://creativecommons.org/ns#\" xmlns:rdf=\"http://www.w3.org/1999/02/22-rdf-syntax-ns#\">\n   <cc:Work>\n    <dc:type rdf:resource=\"http://purl.org/dc/dcmitype/StillImage\"/>\n    <dc:date>2022-07-06T20:14:18.678664</dc:date>\n    <dc:format>image/svg+xml</dc:format>\n    <dc:creator>\n     <cc:Agent>\n      <dc:title>Matplotlib v3.5.2, https://matplotlib.org/</dc:title>\n     </cc:Agent>\n    </dc:creator>\n   </cc:Work>\n  </rdf:RDF>\n </metadata>\n <defs>\n  <style type=\"text/css\">*{stroke-linejoin: round; stroke-linecap: butt}</style>\n </defs>\n <g id=\"figure_1\">\n  <g id=\"patch_1\">\n   <path d=\"M 0 231.582992 \nL 402.06155 231.582992 \nL 402.06155 0 \nL 0 0 \nL 0 231.582992 \nz\n\" style=\"fill: none\"/>\n  </g>\n  <g id=\"axes_1\">\n   <g id=\"patch_2\">\n    <path d=\"M 34.240625 90.24856 \nL 102.17106 90.24856 \nL 102.17106 22.318125 \nL 34.240625 22.318125 \nz\n\" style=\"fill: #ffffff\"/>\n   </g>\n   <g clip-path=\"url(#p50d04efb85)\">\n    <image xlink:href=\"data:image/png;base64,\niVBORw0KGgoAAAANSUhEUgAAAEQAAABECAYAAAA4E5OyAAAAxklEQVR4nO3asQ3CMBRAwZgWRmA/MhIDMgBN6tBfFRdIBL2rXVhPv7Blj31778vJrNf71Prn9jq89jK7mX9XEBQEBUFBUBAUBAVBQVAQjMdyO3x0nzkCn1UTgoKgICgICoKCoCAoCAqCgqAgGN98hph5LviVe1ITgoKgICgICoKCoCAoCAqCgqAgKAgKgoKgICgICoKCoCAoCAqCfhChCUFBUBAUBAVBQVAQFAQFQUFQEBQEBUFBUBAUBAVBQVAQFAQFQUHwAacrFhGvp5y4AAAAAElFTkSuQmCC\" id=\"image8393a91e79\" transform=\"scale(1 -1)translate(0 -68)\" x=\"34.240625\" y=\"-22.24856\" width=\"68\" height=\"68\"/>\n   </g>\n   <g id=\"matplotlib.axis_1\">\n    <g id=\"xtick_1\">\n     <g id=\"line2d_1\">\n      <defs>\n       <path id=\"m0a1fd60e9a\" d=\"M 0 0 \nL 0 3.5 \n\" style=\"stroke: #000000; stroke-width: 0.8\"/>\n      </defs>\n      <g>\n       <use xlink:href=\"#m0a1fd60e9a\" x=\"39.901495\" y=\"90.24856\" style=\"stroke: #000000; stroke-width: 0.8\"/>\n      </g>\n     </g>\n    </g>\n    <g id=\"xtick_2\">\n     <g id=\"line2d_2\">\n      <g>\n       <use xlink:href=\"#m0a1fd60e9a\" x=\"96.51019\" y=\"90.24856\" style=\"stroke: #000000; stroke-width: 0.8\"/>\n      </g>\n     </g>\n    </g>\n   </g>\n   <g id=\"matplotlib.axis_2\">\n    <g id=\"ytick_1\">\n     <g id=\"line2d_3\">\n      <defs>\n       <path id=\"m1b97e36be4\" d=\"M 0 0 \nL -3.5 0 \n\" style=\"stroke: #000000; stroke-width: 0.8\"/>\n      </defs>\n      <g>\n       <use xlink:href=\"#m1b97e36be4\" x=\"34.240625\" y=\"27.978995\" style=\"stroke: #000000; stroke-width: 0.8\"/>\n      </g>\n     </g>\n     <g id=\"text_1\">\n      <!-- 0 -->\n      <g transform=\"translate(20.878125 31.778213)scale(0.1 -0.1)\">\n       <defs>\n        <path id=\"DejaVuSans-30\" d=\"M 2034 4250 \nQ 1547 4250 1301 3770 \nQ 1056 3291 1056 2328 \nQ 1056 1369 1301 889 \nQ 1547 409 2034 409 \nQ 2525 409 2770 889 \nQ 3016 1369 3016 2328 \nQ 3016 3291 2770 3770 \nQ 2525 4250 2034 4250 \nz\nM 2034 4750 \nQ 2819 4750 3233 4129 \nQ 3647 3509 3647 2328 \nQ 3647 1150 3233 529 \nQ 2819 -91 2034 -91 \nQ 1250 -91 836 529 \nQ 422 1150 422 2328 \nQ 422 3509 836 4129 \nQ 1250 4750 2034 4750 \nz\n\" transform=\"scale(0.015625)\"/>\n       </defs>\n       <use xlink:href=\"#DejaVuSans-30\"/>\n      </g>\n     </g>\n    </g>\n    <g id=\"ytick_2\">\n     <g id=\"line2d_4\">\n      <g>\n       <use xlink:href=\"#m1b97e36be4\" x=\"34.240625\" y=\"50.622473\" style=\"stroke: #000000; stroke-width: 0.8\"/>\n      </g>\n     </g>\n     <g id=\"text_2\">\n      <!-- 2 -->\n      <g transform=\"translate(20.878125 54.421692)scale(0.1 -0.1)\">\n       <defs>\n        <path id=\"DejaVuSans-32\" d=\"M 1228 531 \nL 3431 531 \nL 3431 0 \nL 469 0 \nL 469 531 \nQ 828 903 1448 1529 \nQ 2069 2156 2228 2338 \nQ 2531 2678 2651 2914 \nQ 2772 3150 2772 3378 \nQ 2772 3750 2511 3984 \nQ 2250 4219 1831 4219 \nQ 1534 4219 1204 4116 \nQ 875 4013 500 3803 \nL 500 4441 \nQ 881 4594 1212 4672 \nQ 1544 4750 1819 4750 \nQ 2544 4750 2975 4387 \nQ 3406 4025 3406 3419 \nQ 3406 3131 3298 2873 \nQ 3191 2616 2906 2266 \nQ 2828 2175 2409 1742 \nQ 1991 1309 1228 531 \nz\n\" transform=\"scale(0.015625)\"/>\n       </defs>\n       <use xlink:href=\"#DejaVuSans-32\"/>\n      </g>\n     </g>\n    </g>\n    <g id=\"ytick_3\">\n     <g id=\"line2d_5\">\n      <g>\n       <use xlink:href=\"#m1b97e36be4\" x=\"34.240625\" y=\"73.265951\" style=\"stroke: #000000; stroke-width: 0.8\"/>\n      </g>\n     </g>\n     <g id=\"text_3\">\n      <!-- 4 -->\n      <g transform=\"translate(20.878125 77.06517)scale(0.1 -0.1)\">\n       <defs>\n        <path id=\"DejaVuSans-34\" d=\"M 2419 4116 \nL 825 1625 \nL 2419 1625 \nL 2419 4116 \nz\nM 2253 4666 \nL 3047 4666 \nL 3047 1625 \nL 3713 1625 \nL 3713 1100 \nL 3047 1100 \nL 3047 0 \nL 2419 0 \nL 2419 1100 \nL 313 1100 \nL 313 1709 \nL 2253 4666 \nz\n\" transform=\"scale(0.015625)\"/>\n       </defs>\n       <use xlink:href=\"#DejaVuSans-34\"/>\n      </g>\n     </g>\n    </g>\n    <g id=\"text_4\">\n     <!-- Query positions -->\n     <g transform=\"translate(14.798437 95.477874)rotate(-90)scale(0.1 -0.1)\">\n      <defs>\n       <path id=\"DejaVuSans-51\" d=\"M 2522 4238 \nQ 1834 4238 1429 3725 \nQ 1025 3213 1025 2328 \nQ 1025 1447 1429 934 \nQ 1834 422 2522 422 \nQ 3209 422 3611 934 \nQ 4013 1447 4013 2328 \nQ 4013 3213 3611 3725 \nQ 3209 4238 2522 4238 \nz\nM 3406 84 \nL 4238 -825 \nL 3475 -825 \nL 2784 -78 \nQ 2681 -84 2626 -87 \nQ 2572 -91 2522 -91 \nQ 1538 -91 948 567 \nQ 359 1225 359 2328 \nQ 359 3434 948 4092 \nQ 1538 4750 2522 4750 \nQ 3503 4750 4090 4092 \nQ 4678 3434 4678 2328 \nQ 4678 1516 4351 937 \nQ 4025 359 3406 84 \nz\n\" transform=\"scale(0.015625)\"/>\n       <path id=\"DejaVuSans-75\" d=\"M 544 1381 \nL 544 3500 \nL 1119 3500 \nL 1119 1403 \nQ 1119 906 1312 657 \nQ 1506 409 1894 409 \nQ 2359 409 2629 706 \nQ 2900 1003 2900 1516 \nL 2900 3500 \nL 3475 3500 \nL 3475 0 \nL 2900 0 \nL 2900 538 \nQ 2691 219 2414 64 \nQ 2138 -91 1772 -91 \nQ 1169 -91 856 284 \nQ 544 659 544 1381 \nz\nM 1991 3584 \nL 1991 3584 \nz\n\" transform=\"scale(0.015625)\"/>\n       <path id=\"DejaVuSans-65\" d=\"M 3597 1894 \nL 3597 1613 \nL 953 1613 \nQ 991 1019 1311 708 \nQ 1631 397 2203 397 \nQ 2534 397 2845 478 \nQ 3156 559 3463 722 \nL 3463 178 \nQ 3153 47 2828 -22 \nQ 2503 -91 2169 -91 \nQ 1331 -91 842 396 \nQ 353 884 353 1716 \nQ 353 2575 817 3079 \nQ 1281 3584 2069 3584 \nQ 2775 3584 3186 3129 \nQ 3597 2675 3597 1894 \nz\nM 3022 2063 \nQ 3016 2534 2758 2815 \nQ 2500 3097 2075 3097 \nQ 1594 3097 1305 2825 \nQ 1016 2553 972 2059 \nL 3022 2063 \nz\n\" transform=\"scale(0.015625)\"/>\n       <path id=\"DejaVuSans-72\" d=\"M 2631 2963 \nQ 2534 3019 2420 3045 \nQ 2306 3072 2169 3072 \nQ 1681 3072 1420 2755 \nQ 1159 2438 1159 1844 \nL 1159 0 \nL 581 0 \nL 581 3500 \nL 1159 3500 \nL 1159 2956 \nQ 1341 3275 1631 3429 \nQ 1922 3584 2338 3584 \nQ 2397 3584 2469 3576 \nQ 2541 3569 2628 3553 \nL 2631 2963 \nz\n\" transform=\"scale(0.015625)\"/>\n       <path id=\"DejaVuSans-79\" d=\"M 2059 -325 \nQ 1816 -950 1584 -1140 \nQ 1353 -1331 966 -1331 \nL 506 -1331 \nL 506 -850 \nL 844 -850 \nQ 1081 -850 1212 -737 \nQ 1344 -625 1503 -206 \nL 1606 56 \nL 191 3500 \nL 800 3500 \nL 1894 763 \nL 2988 3500 \nL 3597 3500 \nL 2059 -325 \nz\n\" transform=\"scale(0.015625)\"/>\n       <path id=\"DejaVuSans-20\" transform=\"scale(0.015625)\"/>\n       <path id=\"DejaVuSans-70\" d=\"M 1159 525 \nL 1159 -1331 \nL 581 -1331 \nL 581 3500 \nL 1159 3500 \nL 1159 2969 \nQ 1341 3281 1617 3432 \nQ 1894 3584 2278 3584 \nQ 2916 3584 3314 3078 \nQ 3713 2572 3713 1747 \nQ 3713 922 3314 415 \nQ 2916 -91 2278 -91 \nQ 1894 -91 1617 61 \nQ 1341 213 1159 525 \nz\nM 3116 1747 \nQ 3116 2381 2855 2742 \nQ 2594 3103 2138 3103 \nQ 1681 3103 1420 2742 \nQ 1159 2381 1159 1747 \nQ 1159 1113 1420 752 \nQ 1681 391 2138 391 \nQ 2594 391 2855 752 \nQ 3116 1113 3116 1747 \nz\n\" transform=\"scale(0.015625)\"/>\n       <path id=\"DejaVuSans-6f\" d=\"M 1959 3097 \nQ 1497 3097 1228 2736 \nQ 959 2375 959 1747 \nQ 959 1119 1226 758 \nQ 1494 397 1959 397 \nQ 2419 397 2687 759 \nQ 2956 1122 2956 1747 \nQ 2956 2369 2687 2733 \nQ 2419 3097 1959 3097 \nz\nM 1959 3584 \nQ 2709 3584 3137 3096 \nQ 3566 2609 3566 1747 \nQ 3566 888 3137 398 \nQ 2709 -91 1959 -91 \nQ 1206 -91 779 398 \nQ 353 888 353 1747 \nQ 353 2609 779 3096 \nQ 1206 3584 1959 3584 \nz\n\" transform=\"scale(0.015625)\"/>\n       <path id=\"DejaVuSans-73\" d=\"M 2834 3397 \nL 2834 2853 \nQ 2591 2978 2328 3040 \nQ 2066 3103 1784 3103 \nQ 1356 3103 1142 2972 \nQ 928 2841 928 2578 \nQ 928 2378 1081 2264 \nQ 1234 2150 1697 2047 \nL 1894 2003 \nQ 2506 1872 2764 1633 \nQ 3022 1394 3022 966 \nQ 3022 478 2636 193 \nQ 2250 -91 1575 -91 \nQ 1294 -91 989 -36 \nQ 684 19 347 128 \nL 347 722 \nQ 666 556 975 473 \nQ 1284 391 1588 391 \nQ 1994 391 2212 530 \nQ 2431 669 2431 922 \nQ 2431 1156 2273 1281 \nQ 2116 1406 1581 1522 \nL 1381 1569 \nQ 847 1681 609 1914 \nQ 372 2147 372 2553 \nQ 372 3047 722 3315 \nQ 1072 3584 1716 3584 \nQ 2034 3584 2315 3537 \nQ 2597 3491 2834 3397 \nz\n\" transform=\"scale(0.015625)\"/>\n       <path id=\"DejaVuSans-69\" d=\"M 603 3500 \nL 1178 3500 \nL 1178 0 \nL 603 0 \nL 603 3500 \nz\nM 603 4863 \nL 1178 4863 \nL 1178 4134 \nL 603 4134 \nL 603 4863 \nz\n\" transform=\"scale(0.015625)\"/>\n       <path id=\"DejaVuSans-74\" d=\"M 1172 4494 \nL 1172 3500 \nL 2356 3500 \nL 2356 3053 \nL 1172 3053 \nL 1172 1153 \nQ 1172 725 1289 603 \nQ 1406 481 1766 481 \nL 2356 481 \nL 2356 0 \nL 1766 0 \nQ 1100 0 847 248 \nQ 594 497 594 1153 \nL 594 3053 \nL 172 3053 \nL 172 3500 \nL 594 3500 \nL 594 4494 \nL 1172 4494 \nz\n\" transform=\"scale(0.015625)\"/>\n       <path id=\"DejaVuSans-6e\" d=\"M 3513 2113 \nL 3513 0 \nL 2938 0 \nL 2938 2094 \nQ 2938 2591 2744 2837 \nQ 2550 3084 2163 3084 \nQ 1697 3084 1428 2787 \nQ 1159 2491 1159 1978 \nL 1159 0 \nL 581 0 \nL 581 3500 \nL 1159 3500 \nL 1159 2956 \nQ 1366 3272 1645 3428 \nQ 1925 3584 2291 3584 \nQ 2894 3584 3203 3211 \nQ 3513 2838 3513 2113 \nz\n\" transform=\"scale(0.015625)\"/>\n      </defs>\n      <use xlink:href=\"#DejaVuSans-51\"/>\n      <use xlink:href=\"#DejaVuSans-75\" x=\"78.710938\"/>\n      <use xlink:href=\"#DejaVuSans-65\" x=\"142.089844\"/>\n      <use xlink:href=\"#DejaVuSans-72\" x=\"203.613281\"/>\n      <use xlink:href=\"#DejaVuSans-79\" x=\"244.726562\"/>\n      <use xlink:href=\"#DejaVuSans-20\" x=\"303.90625\"/>\n      <use xlink:href=\"#DejaVuSans-70\" x=\"335.693359\"/>\n      <use xlink:href=\"#DejaVuSans-6f\" x=\"399.169922\"/>\n      <use xlink:href=\"#DejaVuSans-73\" x=\"460.351562\"/>\n      <use xlink:href=\"#DejaVuSans-69\" x=\"512.451172\"/>\n      <use xlink:href=\"#DejaVuSans-74\" x=\"540.234375\"/>\n      <use xlink:href=\"#DejaVuSans-69\" x=\"579.443359\"/>\n      <use xlink:href=\"#DejaVuSans-6f\" x=\"607.226562\"/>\n      <use xlink:href=\"#DejaVuSans-6e\" x=\"668.408203\"/>\n      <use xlink:href=\"#DejaVuSans-73\" x=\"731.787109\"/>\n     </g>\n    </g>\n   </g>\n   <g id=\"patch_3\">\n    <path d=\"M 34.240625 90.24856 \nL 34.240625 22.318125 \n\" style=\"fill: none; stroke: #000000; stroke-width: 0.8; stroke-linejoin: miter; stroke-linecap: square\"/>\n   </g>\n   <g id=\"patch_4\">\n    <path d=\"M 102.17106 90.24856 \nL 102.17106 22.318125 \n\" style=\"fill: none; stroke: #000000; stroke-width: 0.8; stroke-linejoin: miter; stroke-linecap: square\"/>\n   </g>\n   <g id=\"patch_5\">\n    <path d=\"M 34.240625 90.24856 \nL 102.17106 90.24856 \n\" style=\"fill: none; stroke: #000000; stroke-width: 0.8; stroke-linejoin: miter; stroke-linecap: square\"/>\n   </g>\n   <g id=\"patch_6\">\n    <path d=\"M 34.240625 22.318125 \nL 102.17106 22.318125 \n\" style=\"fill: none; stroke: #000000; stroke-width: 0.8; stroke-linejoin: miter; stroke-linecap: square\"/>\n   </g>\n   <g id=\"text_5\">\n    <!-- Head 1 -->\n    <g transform=\"translate(46.791467 16.318125)scale(0.12 -0.12)\">\n     <defs>\n      <path id=\"DejaVuSans-48\" d=\"M 628 4666 \nL 1259 4666 \nL 1259 2753 \nL 3553 2753 \nL 3553 4666 \nL 4184 4666 \nL 4184 0 \nL 3553 0 \nL 3553 2222 \nL 1259 2222 \nL 1259 0 \nL 628 0 \nL 628 4666 \nz\n\" transform=\"scale(0.015625)\"/>\n      <path id=\"DejaVuSans-61\" d=\"M 2194 1759 \nQ 1497 1759 1228 1600 \nQ 959 1441 959 1056 \nQ 959 750 1161 570 \nQ 1363 391 1709 391 \nQ 2188 391 2477 730 \nQ 2766 1069 2766 1631 \nL 2766 1759 \nL 2194 1759 \nz\nM 3341 1997 \nL 3341 0 \nL 2766 0 \nL 2766 531 \nQ 2569 213 2275 61 \nQ 1981 -91 1556 -91 \nQ 1019 -91 701 211 \nQ 384 513 384 1019 \nQ 384 1609 779 1909 \nQ 1175 2209 1959 2209 \nL 2766 2209 \nL 2766 2266 \nQ 2766 2663 2505 2880 \nQ 2244 3097 1772 3097 \nQ 1472 3097 1187 3025 \nQ 903 2953 641 2809 \nL 641 3341 \nQ 956 3463 1253 3523 \nQ 1550 3584 1831 3584 \nQ 2591 3584 2966 3190 \nQ 3341 2797 3341 1997 \nz\n\" transform=\"scale(0.015625)\"/>\n      <path id=\"DejaVuSans-64\" d=\"M 2906 2969 \nL 2906 4863 \nL 3481 4863 \nL 3481 0 \nL 2906 0 \nL 2906 525 \nQ 2725 213 2448 61 \nQ 2172 -91 1784 -91 \nQ 1150 -91 751 415 \nQ 353 922 353 1747 \nQ 353 2572 751 3078 \nQ 1150 3584 1784 3584 \nQ 2172 3584 2448 3432 \nQ 2725 3281 2906 2969 \nz\nM 947 1747 \nQ 947 1113 1208 752 \nQ 1469 391 1925 391 \nQ 2381 391 2643 752 \nQ 2906 1113 2906 1747 \nQ 2906 2381 2643 2742 \nQ 2381 3103 1925 3103 \nQ 1469 3103 1208 2742 \nQ 947 2381 947 1747 \nz\n\" transform=\"scale(0.015625)\"/>\n      <path id=\"DejaVuSans-31\" d=\"M 794 531 \nL 1825 531 \nL 1825 4091 \nL 703 3866 \nL 703 4441 \nL 1819 4666 \nL 2450 4666 \nL 2450 531 \nL 3481 531 \nL 3481 0 \nL 794 0 \nL 794 531 \nz\n\" transform=\"scale(0.015625)\"/>\n     </defs>\n     <use xlink:href=\"#DejaVuSans-48\"/>\n     <use xlink:href=\"#DejaVuSans-65\" x=\"75.195312\"/>\n     <use xlink:href=\"#DejaVuSans-61\" x=\"136.71875\"/>\n     <use xlink:href=\"#DejaVuSans-64\" x=\"197.998047\"/>\n     <use xlink:href=\"#DejaVuSans-20\" x=\"261.474609\"/>\n     <use xlink:href=\"#DejaVuSans-31\" x=\"293.261719\"/>\n    </g>\n   </g>\n  </g>\n  <g id=\"axes_2\">\n   <g id=\"patch_7\">\n    <path d=\"M 115.757147 90.24856 \nL 183.687582 90.24856 \nL 183.687582 22.318125 \nL 115.757147 22.318125 \nz\n\" style=\"fill: #ffffff\"/>\n   </g>\n   <g clip-path=\"url(#p45323b8f4f)\">\n    <image xlink:href=\"data:image/png;base64,\niVBORw0KGgoAAAANSUhEUgAAAEQAAABECAYAAAA4E5OyAAAAx0lEQVR4nO3Zuw3CMBRA0ZgWRmA/GIkBGYAmdai5VVIgjHRO7cK6eoU/47ZctmWnx/rcu/RvnX69gdkIEoKEICFICBKChCAhSAgSY1tfu4/us7ifr4fWH7lymJAQJAQJQUKQECQECUFCkBAkBInhG+KTCQlBQpAQJAQJQUKQECQECUHi0DfEN5//Z2FCQpAQJAQJQUKQECQECUFCkPDqHiYkBAlBQpAQJAQJQUKQECQECUFCkBAkBAlBQpAQJAQJQUKQECQEiTcisxnzh8JcnQAAAABJRU5ErkJggg==\" id=\"image86e4e19629\" transform=\"scale(1 -1)translate(0 -68)\" x=\"115.757147\" y=\"-22.24856\" width=\"68\" height=\"68\"/>\n   </g>\n   <g id=\"matplotlib.axis_3\">\n    <g id=\"xtick_3\">\n     <g id=\"line2d_6\">\n      <g>\n       <use xlink:href=\"#m0a1fd60e9a\" x=\"121.418016\" y=\"90.24856\" style=\"stroke: #000000; stroke-width: 0.8\"/>\n      </g>\n     </g>\n    </g>\n    <g id=\"xtick_4\">\n     <g id=\"line2d_7\">\n      <g>\n       <use xlink:href=\"#m0a1fd60e9a\" x=\"178.026712\" y=\"90.24856\" style=\"stroke: #000000; stroke-width: 0.8\"/>\n      </g>\n     </g>\n    </g>\n   </g>\n   <g id=\"matplotlib.axis_4\">\n    <g id=\"ytick_4\">\n     <g id=\"line2d_8\">\n      <g>\n       <use xlink:href=\"#m1b97e36be4\" x=\"115.757147\" y=\"27.978995\" style=\"stroke: #000000; stroke-width: 0.8\"/>\n      </g>\n     </g>\n    </g>\n    <g id=\"ytick_5\">\n     <g id=\"line2d_9\">\n      <g>\n       <use xlink:href=\"#m1b97e36be4\" x=\"115.757147\" y=\"50.622473\" style=\"stroke: #000000; stroke-width: 0.8\"/>\n      </g>\n     </g>\n    </g>\n    <g id=\"ytick_6\">\n     <g id=\"line2d_10\">\n      <g>\n       <use xlink:href=\"#m1b97e36be4\" x=\"115.757147\" y=\"73.265951\" style=\"stroke: #000000; stroke-width: 0.8\"/>\n      </g>\n     </g>\n    </g>\n   </g>\n   <g id=\"patch_8\">\n    <path d=\"M 115.757147 90.24856 \nL 115.757147 22.318125 \n\" style=\"fill: none; stroke: #000000; stroke-width: 0.8; stroke-linejoin: miter; stroke-linecap: square\"/>\n   </g>\n   <g id=\"patch_9\">\n    <path d=\"M 183.687582 90.24856 \nL 183.687582 22.318125 \n\" style=\"fill: none; stroke: #000000; stroke-width: 0.8; stroke-linejoin: miter; stroke-linecap: square\"/>\n   </g>\n   <g id=\"patch_10\">\n    <path d=\"M 115.757147 90.24856 \nL 183.687582 90.24856 \n\" style=\"fill: none; stroke: #000000; stroke-width: 0.8; stroke-linejoin: miter; stroke-linecap: square\"/>\n   </g>\n   <g id=\"patch_11\">\n    <path d=\"M 115.757147 22.318125 \nL 183.687582 22.318125 \n\" style=\"fill: none; stroke: #000000; stroke-width: 0.8; stroke-linejoin: miter; stroke-linecap: square\"/>\n   </g>\n   <g id=\"text_6\">\n    <!-- Head 2 -->\n    <g transform=\"translate(128.307989 16.318125)scale(0.12 -0.12)\">\n     <use xlink:href=\"#DejaVuSans-48\"/>\n     <use xlink:href=\"#DejaVuSans-65\" x=\"75.195312\"/>\n     <use xlink:href=\"#DejaVuSans-61\" x=\"136.71875\"/>\n     <use xlink:href=\"#DejaVuSans-64\" x=\"197.998047\"/>\n     <use xlink:href=\"#DejaVuSans-20\" x=\"261.474609\"/>\n     <use xlink:href=\"#DejaVuSans-32\" x=\"293.261719\"/>\n    </g>\n   </g>\n  </g>\n  <g id=\"axes_3\">\n   <g id=\"patch_12\">\n    <path d=\"M 197.273668 90.24856 \nL 265.204103 90.24856 \nL 265.204103 22.318125 \nL 197.273668 22.318125 \nz\n\" style=\"fill: #ffffff\"/>\n   </g>\n   <g clip-path=\"url(#p3fd45fcc07)\">\n    <image xlink:href=\"data:image/png;base64,\niVBORw0KGgoAAAANSUhEUgAAAEQAAABECAYAAAA4E5OyAAAAyElEQVR4nO3asQ3CMBBAUYcWRmA/GIkBGYAmdeh/lRSWEum92rKir6ucW7b1t40TeN+fu89+1u+077hNu/miBAlBQpAQJAQJQUKQECQECUFCkBAkBAlBQpAQJAQJQUKQECQEieU1Hrt/Q8x8/j8LExKChCAhSAgSgoQgIUgIEoKEICFICBKChCAhSAgSgoQgIUgIEsuR5f8jC/pjXPOV3oSEICFICBKChCAhSAgSgoQgIUjYIAoTEoKEICFICBKChCAhSAgSgsQf0ZMWEf8YbwQAAAAASUVORK5CYII=\" id=\"image3078ca2909\" transform=\"scale(1 -1)translate(0 -68)\" x=\"197.273668\" y=\"-22.24856\" width=\"68\" height=\"68\"/>\n   </g>\n   <g id=\"matplotlib.axis_5\">\n    <g id=\"xtick_5\">\n     <g id=\"line2d_11\">\n      <g>\n       <use xlink:href=\"#m0a1fd60e9a\" x=\"202.934538\" y=\"90.24856\" style=\"stroke: #000000; stroke-width: 0.8\"/>\n      </g>\n     </g>\n    </g>\n    <g id=\"xtick_6\">\n     <g id=\"line2d_12\">\n      <g>\n       <use xlink:href=\"#m0a1fd60e9a\" x=\"259.543234\" y=\"90.24856\" style=\"stroke: #000000; stroke-width: 0.8\"/>\n      </g>\n     </g>\n    </g>\n   </g>\n   <g id=\"matplotlib.axis_6\">\n    <g id=\"ytick_7\">\n     <g id=\"line2d_13\">\n      <g>\n       <use xlink:href=\"#m1b97e36be4\" x=\"197.273668\" y=\"27.978995\" style=\"stroke: #000000; stroke-width: 0.8\"/>\n      </g>\n     </g>\n    </g>\n    <g id=\"ytick_8\">\n     <g id=\"line2d_14\">\n      <g>\n       <use xlink:href=\"#m1b97e36be4\" x=\"197.273668\" y=\"50.622473\" style=\"stroke: #000000; stroke-width: 0.8\"/>\n      </g>\n     </g>\n    </g>\n    <g id=\"ytick_9\">\n     <g id=\"line2d_15\">\n      <g>\n       <use xlink:href=\"#m1b97e36be4\" x=\"197.273668\" y=\"73.265951\" style=\"stroke: #000000; stroke-width: 0.8\"/>\n      </g>\n     </g>\n    </g>\n   </g>\n   <g id=\"patch_13\">\n    <path d=\"M 197.273668 90.24856 \nL 197.273668 22.318125 \n\" style=\"fill: none; stroke: #000000; stroke-width: 0.8; stroke-linejoin: miter; stroke-linecap: square\"/>\n   </g>\n   <g id=\"patch_14\">\n    <path d=\"M 265.204103 90.24856 \nL 265.204103 22.318125 \n\" style=\"fill: none; stroke: #000000; stroke-width: 0.8; stroke-linejoin: miter; stroke-linecap: square\"/>\n   </g>\n   <g id=\"patch_15\">\n    <path d=\"M 197.273668 90.24856 \nL 265.204103 90.24856 \n\" style=\"fill: none; stroke: #000000; stroke-width: 0.8; stroke-linejoin: miter; stroke-linecap: square\"/>\n   </g>\n   <g id=\"patch_16\">\n    <path d=\"M 197.273668 22.318125 \nL 265.204103 22.318125 \n\" style=\"fill: none; stroke: #000000; stroke-width: 0.8; stroke-linejoin: miter; stroke-linecap: square\"/>\n   </g>\n   <g id=\"text_7\">\n    <!-- Head 3 -->\n    <g transform=\"translate(209.824511 16.318125)scale(0.12 -0.12)\">\n     <defs>\n      <path id=\"DejaVuSans-33\" d=\"M 2597 2516 \nQ 3050 2419 3304 2112 \nQ 3559 1806 3559 1356 \nQ 3559 666 3084 287 \nQ 2609 -91 1734 -91 \nQ 1441 -91 1130 -33 \nQ 819 25 488 141 \nL 488 750 \nQ 750 597 1062 519 \nQ 1375 441 1716 441 \nQ 2309 441 2620 675 \nQ 2931 909 2931 1356 \nQ 2931 1769 2642 2001 \nQ 2353 2234 1838 2234 \nL 1294 2234 \nL 1294 2753 \nL 1863 2753 \nQ 2328 2753 2575 2939 \nQ 2822 3125 2822 3475 \nQ 2822 3834 2567 4026 \nQ 2313 4219 1838 4219 \nQ 1578 4219 1281 4162 \nQ 984 4106 628 3988 \nL 628 4550 \nQ 988 4650 1302 4700 \nQ 1616 4750 1894 4750 \nQ 2613 4750 3031 4423 \nQ 3450 4097 3450 3541 \nQ 3450 3153 3228 2886 \nQ 3006 2619 2597 2516 \nz\n\" transform=\"scale(0.015625)\"/>\n     </defs>\n     <use xlink:href=\"#DejaVuSans-48\"/>\n     <use xlink:href=\"#DejaVuSans-65\" x=\"75.195312\"/>\n     <use xlink:href=\"#DejaVuSans-61\" x=\"136.71875\"/>\n     <use xlink:href=\"#DejaVuSans-64\" x=\"197.998047\"/>\n     <use xlink:href=\"#DejaVuSans-20\" x=\"261.474609\"/>\n     <use xlink:href=\"#DejaVuSans-33\" x=\"293.261719\"/>\n    </g>\n   </g>\n  </g>\n  <g id=\"axes_4\">\n   <g id=\"patch_17\">\n    <path d=\"M 278.79019 90.24856 \nL 346.720625 90.24856 \nL 346.720625 22.318125 \nL 278.79019 22.318125 \nz\n\" style=\"fill: #ffffff\"/>\n   </g>\n   <g clip-path=\"url(#p84af76fbf2)\">\n    <image xlink:href=\"data:image/png;base64,\niVBORw0KGgoAAAANSUhEUgAAAEQAAABECAYAAAA4E5OyAAAAyUlEQVR4nO3ZsQ3CMBBA0YQWRmA/GIkBGYAmdeh/FReWAnqvdmF9XXGW13377Mufe17vh89eJt7jJwkSgoQgIUgIEoKEICFICBLrzNV9ZGV+be9Z1xhiQkKQECQECUFCkBAkBAlBQpAQJKa+ZUac5d1jQkKQECQECUFCkBAkBAlBQpBYH8vt8Op+lq+CmUxICBKChCAhSAgSgoQgIUgIEoKEICFICBKChCAhSAgSgoQgIUgIEoKEICFICBKChCAhSAgSgoQgIUh8AQALFqDDo0o5AAAAAElFTkSuQmCC\" id=\"image78ea06de41\" transform=\"scale(1 -1)translate(0 -68)\" x=\"278.79019\" y=\"-22.24856\" width=\"68\" height=\"68\"/>\n   </g>\n   <g id=\"matplotlib.axis_7\">\n    <g id=\"xtick_7\">\n     <g id=\"line2d_16\">\n      <g>\n       <use xlink:href=\"#m0a1fd60e9a\" x=\"284.45106\" y=\"90.24856\" style=\"stroke: #000000; stroke-width: 0.8\"/>\n      </g>\n     </g>\n    </g>\n    <g id=\"xtick_8\">\n     <g id=\"line2d_17\">\n      <g>\n       <use xlink:href=\"#m0a1fd60e9a\" x=\"341.059755\" y=\"90.24856\" style=\"stroke: #000000; stroke-width: 0.8\"/>\n      </g>\n     </g>\n    </g>\n   </g>\n   <g id=\"matplotlib.axis_8\">\n    <g id=\"ytick_10\">\n     <g id=\"line2d_18\">\n      <g>\n       <use xlink:href=\"#m1b97e36be4\" x=\"278.79019\" y=\"27.978995\" style=\"stroke: #000000; stroke-width: 0.8\"/>\n      </g>\n     </g>\n    </g>\n    <g id=\"ytick_11\">\n     <g id=\"line2d_19\">\n      <g>\n       <use xlink:href=\"#m1b97e36be4\" x=\"278.79019\" y=\"50.622473\" style=\"stroke: #000000; stroke-width: 0.8\"/>\n      </g>\n     </g>\n    </g>\n    <g id=\"ytick_12\">\n     <g id=\"line2d_20\">\n      <g>\n       <use xlink:href=\"#m1b97e36be4\" x=\"278.79019\" y=\"73.265951\" style=\"stroke: #000000; stroke-width: 0.8\"/>\n      </g>\n     </g>\n    </g>\n   </g>\n   <g id=\"patch_18\">\n    <path d=\"M 278.79019 90.24856 \nL 278.79019 22.318125 \n\" style=\"fill: none; stroke: #000000; stroke-width: 0.8; stroke-linejoin: miter; stroke-linecap: square\"/>\n   </g>\n   <g id=\"patch_19\">\n    <path d=\"M 346.720625 90.24856 \nL 346.720625 22.318125 \n\" style=\"fill: none; stroke: #000000; stroke-width: 0.8; stroke-linejoin: miter; stroke-linecap: square\"/>\n   </g>\n   <g id=\"patch_20\">\n    <path d=\"M 278.79019 90.24856 \nL 346.720625 90.24856 \n\" style=\"fill: none; stroke: #000000; stroke-width: 0.8; stroke-linejoin: miter; stroke-linecap: square\"/>\n   </g>\n   <g id=\"patch_21\">\n    <path d=\"M 278.79019 22.318125 \nL 346.720625 22.318125 \n\" style=\"fill: none; stroke: #000000; stroke-width: 0.8; stroke-linejoin: miter; stroke-linecap: square\"/>\n   </g>\n   <g id=\"text_8\">\n    <!-- Head 4 -->\n    <g transform=\"translate(291.341033 16.318125)scale(0.12 -0.12)\">\n     <use xlink:href=\"#DejaVuSans-48\"/>\n     <use xlink:href=\"#DejaVuSans-65\" x=\"75.195312\"/>\n     <use xlink:href=\"#DejaVuSans-61\" x=\"136.71875\"/>\n     <use xlink:href=\"#DejaVuSans-64\" x=\"197.998047\"/>\n     <use xlink:href=\"#DejaVuSans-20\" x=\"261.474609\"/>\n     <use xlink:href=\"#DejaVuSans-34\" x=\"293.261719\"/>\n    </g>\n   </g>\n  </g>\n  <g id=\"axes_5\">\n   <g id=\"patch_22\">\n    <path d=\"M 34.240625 194.026742 \nL 102.17106 194.026742 \nL 102.17106 126.096307 \nL 34.240625 126.096307 \nz\n\" style=\"fill: #ffffff\"/>\n   </g>\n   <g clip-path=\"url(#p39d20b98bf)\">\n    <image xlink:href=\"data:image/png;base64,\niVBORw0KGgoAAAANSUhEUgAAAEQAAABECAYAAAA4E5OyAAABQElEQVR4nO3aoUqDYRSA4fPJj6JuQczCwCbYTRajl2EQvQiLxSzClgzeh0bBrtWgYtSyCYZN+5vOCWOC75MPH4eXEwb/2mz8+RNJ07Oj7GhERHTn1+nZ6c1FerbtH5b2WBrs5mdLL/8DBgGDgEHAIGAQMAgYBAwCBoE2+3hP/3SP76/a6/3N9OjtYCc9e/B0X1qj9TbSs14IGAQMAgYBg4BBwCBgEDAIGAQMAl0sr6aH28pa6fGT9a307HDyWnp7XrwQMAgYBAwCBgGDgEHAIGAQMAi00+inP0NcjV9qj7dWXmjRvBAwCBgEDAIGAYOAQcAgYBAwCHSXd6P08MN2/k/0ERF7z4/VfRbOCwGDgEHAIGAQMAgYBAwCBgGDgEGgHUcv/RliNHmb5y5/ghcCBgGDgEHAIGAQMAgYBAwCBoFfGSgjIe7tU7cAAAAASUVORK5CYII=\" id=\"image4e7d11d03f\" transform=\"scale(1 -1)translate(0 -68)\" x=\"34.240625\" y=\"-126.026742\" width=\"68\" height=\"68\"/>\n   </g>\n   <g id=\"matplotlib.axis_9\">\n    <g id=\"xtick_9\">\n     <g id=\"line2d_21\">\n      <g>\n       <use xlink:href=\"#m0a1fd60e9a\" x=\"39.901495\" y=\"194.026742\" style=\"stroke: #000000; stroke-width: 0.8\"/>\n      </g>\n     </g>\n     <g id=\"text_9\">\n      <!-- 0 -->\n      <g transform=\"translate(36.720245 208.625179)scale(0.1 -0.1)\">\n       <use xlink:href=\"#DejaVuSans-30\"/>\n      </g>\n     </g>\n    </g>\n    <g id=\"xtick_10\">\n     <g id=\"line2d_22\">\n      <g>\n       <use xlink:href=\"#m0a1fd60e9a\" x=\"96.51019\" y=\"194.026742\" style=\"stroke: #000000; stroke-width: 0.8\"/>\n      </g>\n     </g>\n     <g id=\"text_10\">\n      <!-- 5 -->\n      <g transform=\"translate(93.32894 208.625179)scale(0.1 -0.1)\">\n       <defs>\n        <path id=\"DejaVuSans-35\" d=\"M 691 4666 \nL 3169 4666 \nL 3169 4134 \nL 1269 4134 \nL 1269 2991 \nQ 1406 3038 1543 3061 \nQ 1681 3084 1819 3084 \nQ 2600 3084 3056 2656 \nQ 3513 2228 3513 1497 \nQ 3513 744 3044 326 \nQ 2575 -91 1722 -91 \nQ 1428 -91 1123 -41 \nQ 819 9 494 109 \nL 494 744 \nQ 775 591 1075 516 \nQ 1375 441 1709 441 \nQ 2250 441 2565 725 \nQ 2881 1009 2881 1497 \nQ 2881 1984 2565 2268 \nQ 2250 2553 1709 2553 \nQ 1456 2553 1204 2497 \nQ 953 2441 691 2322 \nL 691 4666 \nz\n\" transform=\"scale(0.015625)\"/>\n       </defs>\n       <use xlink:href=\"#DejaVuSans-35\"/>\n      </g>\n     </g>\n    </g>\n    <g id=\"text_11\">\n     <!-- Key positions -->\n     <g transform=\"translate(35.142561 222.303304)scale(0.1 -0.1)\">\n      <defs>\n       <path id=\"DejaVuSans-4b\" d=\"M 628 4666 \nL 1259 4666 \nL 1259 2694 \nL 3353 4666 \nL 4166 4666 \nL 1850 2491 \nL 4331 0 \nL 3500 0 \nL 1259 2247 \nL 1259 0 \nL 628 0 \nL 628 4666 \nz\n\" transform=\"scale(0.015625)\"/>\n      </defs>\n      <use xlink:href=\"#DejaVuSans-4b\"/>\n      <use xlink:href=\"#DejaVuSans-65\" x=\"60.576172\"/>\n      <use xlink:href=\"#DejaVuSans-79\" x=\"122.099609\"/>\n      <use xlink:href=\"#DejaVuSans-20\" x=\"181.279297\"/>\n      <use xlink:href=\"#DejaVuSans-70\" x=\"213.066406\"/>\n      <use xlink:href=\"#DejaVuSans-6f\" x=\"276.542969\"/>\n      <use xlink:href=\"#DejaVuSans-73\" x=\"337.724609\"/>\n      <use xlink:href=\"#DejaVuSans-69\" x=\"389.824219\"/>\n      <use xlink:href=\"#DejaVuSans-74\" x=\"417.607422\"/>\n      <use xlink:href=\"#DejaVuSans-69\" x=\"456.816406\"/>\n      <use xlink:href=\"#DejaVuSans-6f\" x=\"484.599609\"/>\n      <use xlink:href=\"#DejaVuSans-6e\" x=\"545.78125\"/>\n      <use xlink:href=\"#DejaVuSans-73\" x=\"609.160156\"/>\n     </g>\n    </g>\n   </g>\n   <g id=\"matplotlib.axis_10\">\n    <g id=\"ytick_13\">\n     <g id=\"line2d_23\">\n      <g>\n       <use xlink:href=\"#m1b97e36be4\" x=\"34.240625\" y=\"131.757176\" style=\"stroke: #000000; stroke-width: 0.8\"/>\n      </g>\n     </g>\n     <g id=\"text_12\">\n      <!-- 0 -->\n      <g transform=\"translate(20.878125 135.556395)scale(0.1 -0.1)\">\n       <use xlink:href=\"#DejaVuSans-30\"/>\n      </g>\n     </g>\n    </g>\n    <g id=\"ytick_14\">\n     <g id=\"line2d_24\">\n      <g>\n       <use xlink:href=\"#m1b97e36be4\" x=\"34.240625\" y=\"154.400655\" style=\"stroke: #000000; stroke-width: 0.8\"/>\n      </g>\n     </g>\n     <g id=\"text_13\">\n      <!-- 2 -->\n      <g transform=\"translate(20.878125 158.199873)scale(0.1 -0.1)\">\n       <use xlink:href=\"#DejaVuSans-32\"/>\n      </g>\n     </g>\n    </g>\n    <g id=\"ytick_15\">\n     <g id=\"line2d_25\">\n      <g>\n       <use xlink:href=\"#m1b97e36be4\" x=\"34.240625\" y=\"177.044133\" style=\"stroke: #000000; stroke-width: 0.8\"/>\n      </g>\n     </g>\n     <g id=\"text_14\">\n      <!-- 4 -->\n      <g transform=\"translate(20.878125 180.843352)scale(0.1 -0.1)\">\n       <use xlink:href=\"#DejaVuSans-34\"/>\n      </g>\n     </g>\n    </g>\n    <g id=\"text_15\">\n     <!-- Query positions -->\n     <g transform=\"translate(14.798437 199.256055)rotate(-90)scale(0.1 -0.1)\">\n      <use xlink:href=\"#DejaVuSans-51\"/>\n      <use xlink:href=\"#DejaVuSans-75\" x=\"78.710938\"/>\n      <use xlink:href=\"#DejaVuSans-65\" x=\"142.089844\"/>\n      <use xlink:href=\"#DejaVuSans-72\" x=\"203.613281\"/>\n      <use xlink:href=\"#DejaVuSans-79\" x=\"244.726562\"/>\n      <use xlink:href=\"#DejaVuSans-20\" x=\"303.90625\"/>\n      <use xlink:href=\"#DejaVuSans-70\" x=\"335.693359\"/>\n      <use xlink:href=\"#DejaVuSans-6f\" x=\"399.169922\"/>\n      <use xlink:href=\"#DejaVuSans-73\" x=\"460.351562\"/>\n      <use xlink:href=\"#DejaVuSans-69\" x=\"512.451172\"/>\n      <use xlink:href=\"#DejaVuSans-74\" x=\"540.234375\"/>\n      <use xlink:href=\"#DejaVuSans-69\" x=\"579.443359\"/>\n      <use xlink:href=\"#DejaVuSans-6f\" x=\"607.226562\"/>\n      <use xlink:href=\"#DejaVuSans-6e\" x=\"668.408203\"/>\n      <use xlink:href=\"#DejaVuSans-73\" x=\"731.787109\"/>\n     </g>\n    </g>\n   </g>\n   <g id=\"patch_23\">\n    <path d=\"M 34.240625 194.026742 \nL 34.240625 126.096307 \n\" style=\"fill: none; stroke: #000000; stroke-width: 0.8; stroke-linejoin: miter; stroke-linecap: square\"/>\n   </g>\n   <g id=\"patch_24\">\n    <path d=\"M 102.17106 194.026742 \nL 102.17106 126.096307 \n\" style=\"fill: none; stroke: #000000; stroke-width: 0.8; stroke-linejoin: miter; stroke-linecap: square\"/>\n   </g>\n   <g id=\"patch_25\">\n    <path d=\"M 34.240625 194.026742 \nL 102.17106 194.026742 \n\" style=\"fill: none; stroke: #000000; stroke-width: 0.8; stroke-linejoin: miter; stroke-linecap: square\"/>\n   </g>\n   <g id=\"patch_26\">\n    <path d=\"M 34.240625 126.096307 \nL 102.17106 126.096307 \n\" style=\"fill: none; stroke: #000000; stroke-width: 0.8; stroke-linejoin: miter; stroke-linecap: square\"/>\n   </g>\n   <g id=\"text_16\">\n    <!-- Head 1 -->\n    <g transform=\"translate(46.791467 120.096307)scale(0.12 -0.12)\">\n     <use xlink:href=\"#DejaVuSans-48\"/>\n     <use xlink:href=\"#DejaVuSans-65\" x=\"75.195312\"/>\n     <use xlink:href=\"#DejaVuSans-61\" x=\"136.71875\"/>\n     <use xlink:href=\"#DejaVuSans-64\" x=\"197.998047\"/>\n     <use xlink:href=\"#DejaVuSans-20\" x=\"261.474609\"/>\n     <use xlink:href=\"#DejaVuSans-31\" x=\"293.261719\"/>\n    </g>\n   </g>\n  </g>\n  <g id=\"axes_6\">\n   <g id=\"patch_27\">\n    <path d=\"M 115.757147 194.026742 \nL 183.687582 194.026742 \nL 183.687582 126.096307 \nL 115.757147 126.096307 \nz\n\" style=\"fill: #ffffff\"/>\n   </g>\n   <g clip-path=\"url(#pc1880dddba)\">\n    <image xlink:href=\"data:image/png;base64,\niVBORw0KGgoAAAANSUhEUgAAAEQAAABECAYAAAA4E5OyAAABNklEQVR4nO3ZMUoDURRA0fmDlUQFqyFlQFfgIlyBLkFwIe5AkLQJBBu7pLOztjJFCBZicAMynTrpb/VeMSTIPfXj8bn84g9Tft9fuyqobkbR0V49Ds9S89df6/BsnT3Mf2cQMAgYBAwCBgGDgEHAIGAQOMg8x/8+lqnl3csiPrt8C89ebVapc2R4Q8AgYBAwCBgEDAIGAYOAQcAgYBAot9VR+DfEffuZWt514dVVKSW1uy/eEDAIGAQMAgYBg4BBwCBgEDAIlJ/JXfh9/T2epZafPM3jBzk8Tu3uizcEDAIGAYOAQcAgYBAwCBgEDAJlftqEn+6Xz9PU8vr8In2gXfOGgEHAIGAQMAgYBAwCBgGDgEHAIFBuqkH4W+ah3fR5lr3gDQGDgEHAIGAQMAgYBAwCBgGDwBZ72ycZfYj+QQAAAABJRU5ErkJggg==\" id=\"image4015dfb236\" transform=\"scale(1 -1)translate(0 -68)\" x=\"115.757147\" y=\"-126.026742\" width=\"68\" height=\"68\"/>\n   </g>\n   <g id=\"matplotlib.axis_11\">\n    <g id=\"xtick_11\">\n     <g id=\"line2d_26\">\n      <g>\n       <use xlink:href=\"#m0a1fd60e9a\" x=\"121.418016\" y=\"194.026742\" style=\"stroke: #000000; stroke-width: 0.8\"/>\n      </g>\n     </g>\n     <g id=\"text_17\">\n      <!-- 0 -->\n      <g transform=\"translate(118.236766 208.625179)scale(0.1 -0.1)\">\n       <use xlink:href=\"#DejaVuSans-30\"/>\n      </g>\n     </g>\n    </g>\n    <g id=\"xtick_12\">\n     <g id=\"line2d_27\">\n      <g>\n       <use xlink:href=\"#m0a1fd60e9a\" x=\"178.026712\" y=\"194.026742\" style=\"stroke: #000000; stroke-width: 0.8\"/>\n      </g>\n     </g>\n     <g id=\"text_18\">\n      <!-- 5 -->\n      <g transform=\"translate(174.845462 208.625179)scale(0.1 -0.1)\">\n       <use xlink:href=\"#DejaVuSans-35\"/>\n      </g>\n     </g>\n    </g>\n    <g id=\"text_19\">\n     <!-- Key positions -->\n     <g transform=\"translate(116.659083 222.303304)scale(0.1 -0.1)\">\n      <use xlink:href=\"#DejaVuSans-4b\"/>\n      <use xlink:href=\"#DejaVuSans-65\" x=\"60.576172\"/>\n      <use xlink:href=\"#DejaVuSans-79\" x=\"122.099609\"/>\n      <use xlink:href=\"#DejaVuSans-20\" x=\"181.279297\"/>\n      <use xlink:href=\"#DejaVuSans-70\" x=\"213.066406\"/>\n      <use xlink:href=\"#DejaVuSans-6f\" x=\"276.542969\"/>\n      <use xlink:href=\"#DejaVuSans-73\" x=\"337.724609\"/>\n      <use xlink:href=\"#DejaVuSans-69\" x=\"389.824219\"/>\n      <use xlink:href=\"#DejaVuSans-74\" x=\"417.607422\"/>\n      <use xlink:href=\"#DejaVuSans-69\" x=\"456.816406\"/>\n      <use xlink:href=\"#DejaVuSans-6f\" x=\"484.599609\"/>\n      <use xlink:href=\"#DejaVuSans-6e\" x=\"545.78125\"/>\n      <use xlink:href=\"#DejaVuSans-73\" x=\"609.160156\"/>\n     </g>\n    </g>\n   </g>\n   <g id=\"matplotlib.axis_12\">\n    <g id=\"ytick_16\">\n     <g id=\"line2d_28\">\n      <g>\n       <use xlink:href=\"#m1b97e36be4\" x=\"115.757147\" y=\"131.757176\" style=\"stroke: #000000; stroke-width: 0.8\"/>\n      </g>\n     </g>\n    </g>\n    <g id=\"ytick_17\">\n     <g id=\"line2d_29\">\n      <g>\n       <use xlink:href=\"#m1b97e36be4\" x=\"115.757147\" y=\"154.400655\" style=\"stroke: #000000; stroke-width: 0.8\"/>\n      </g>\n     </g>\n    </g>\n    <g id=\"ytick_18\">\n     <g id=\"line2d_30\">\n      <g>\n       <use xlink:href=\"#m1b97e36be4\" x=\"115.757147\" y=\"177.044133\" style=\"stroke: #000000; stroke-width: 0.8\"/>\n      </g>\n     </g>\n    </g>\n   </g>\n   <g id=\"patch_28\">\n    <path d=\"M 115.757147 194.026742 \nL 115.757147 126.096307 \n\" style=\"fill: none; stroke: #000000; stroke-width: 0.8; stroke-linejoin: miter; stroke-linecap: square\"/>\n   </g>\n   <g id=\"patch_29\">\n    <path d=\"M 183.687582 194.026742 \nL 183.687582 126.096307 \n\" style=\"fill: none; stroke: #000000; stroke-width: 0.8; stroke-linejoin: miter; stroke-linecap: square\"/>\n   </g>\n   <g id=\"patch_30\">\n    <path d=\"M 115.757147 194.026742 \nL 183.687582 194.026742 \n\" style=\"fill: none; stroke: #000000; stroke-width: 0.8; stroke-linejoin: miter; stroke-linecap: square\"/>\n   </g>\n   <g id=\"patch_31\">\n    <path d=\"M 115.757147 126.096307 \nL 183.687582 126.096307 \n\" style=\"fill: none; stroke: #000000; stroke-width: 0.8; stroke-linejoin: miter; stroke-linecap: square\"/>\n   </g>\n   <g id=\"text_20\">\n    <!-- Head 2 -->\n    <g transform=\"translate(128.307989 120.096307)scale(0.12 -0.12)\">\n     <use xlink:href=\"#DejaVuSans-48\"/>\n     <use xlink:href=\"#DejaVuSans-65\" x=\"75.195312\"/>\n     <use xlink:href=\"#DejaVuSans-61\" x=\"136.71875\"/>\n     <use xlink:href=\"#DejaVuSans-64\" x=\"197.998047\"/>\n     <use xlink:href=\"#DejaVuSans-20\" x=\"261.474609\"/>\n     <use xlink:href=\"#DejaVuSans-32\" x=\"293.261719\"/>\n    </g>\n   </g>\n  </g>\n  <g id=\"axes_7\">\n   <g id=\"patch_32\">\n    <path d=\"M 197.273668 194.026742 \nL 265.204103 194.026742 \nL 265.204103 126.096307 \nL 197.273668 126.096307 \nz\n\" style=\"fill: #ffffff\"/>\n   </g>\n   <g clip-path=\"url(#p2daf6b22fe)\">\n    <image xlink:href=\"data:image/png;base64,\niVBORw0KGgoAAAANSUhEUgAAAEQAAABECAYAAAA4E5OyAAABOUlEQVR4nO3YIUtDYRSA4XvGnVNBBMeCNjEsGwR/wH6MZT/EYF2y+i+GwSpos1hk1SQMYYx57W86JwyUvU8+HC4vX/i+Gz9fn12TFG0/O1rWrb7TszE4LO2+HZ6nZ3ulzTvAIGAQMAgYBAwCBgGDgEHAIBDru2n+6n55Xdu+n79i984u8nuPR6XPiL2D/HeUNu8Ag4BBwCBgEDAIGAQMAgYBg4BBIDbvz/m3zMlpafl8fJWenXy8pWcjovQdFZ4QMAgYBAwCBgGDgEHAIGAQMAi03ctTenh5/1BaPnl9TM9u8zpe4QkBg4BBwCBgEDAIGAQMAgYBg0DcNEfpv+6z5aK2/I9cxys8IWAQMAgYBAwCBgGDgEHAIGAQMAi0XZN+yvzLt0mVJwQMAgYBg4BBwCBgEDAIGAQMAr91Wh9rMWypDwAAAABJRU5ErkJggg==\" id=\"image14cb57981a\" transform=\"scale(1 -1)translate(0 -68)\" x=\"197.273668\" y=\"-126.026742\" width=\"68\" height=\"68\"/>\n   </g>\n   <g id=\"matplotlib.axis_13\">\n    <g id=\"xtick_13\">\n     <g id=\"line2d_31\">\n      <g>\n       <use xlink:href=\"#m0a1fd60e9a\" x=\"202.934538\" y=\"194.026742\" style=\"stroke: #000000; stroke-width: 0.8\"/>\n      </g>\n     </g>\n     <g id=\"text_21\">\n      <!-- 0 -->\n      <g transform=\"translate(199.753288 208.625179)scale(0.1 -0.1)\">\n       <use xlink:href=\"#DejaVuSans-30\"/>\n      </g>\n     </g>\n    </g>\n    <g id=\"xtick_14\">\n     <g id=\"line2d_32\">\n      <g>\n       <use xlink:href=\"#m0a1fd60e9a\" x=\"259.543234\" y=\"194.026742\" style=\"stroke: #000000; stroke-width: 0.8\"/>\n      </g>\n     </g>\n     <g id=\"text_22\">\n      <!-- 5 -->\n      <g transform=\"translate(256.361984 208.625179)scale(0.1 -0.1)\">\n       <use xlink:href=\"#DejaVuSans-35\"/>\n      </g>\n     </g>\n    </g>\n    <g id=\"text_23\">\n     <!-- Key positions -->\n     <g transform=\"translate(198.175605 222.303304)scale(0.1 -0.1)\">\n      <use xlink:href=\"#DejaVuSans-4b\"/>\n      <use xlink:href=\"#DejaVuSans-65\" x=\"60.576172\"/>\n      <use xlink:href=\"#DejaVuSans-79\" x=\"122.099609\"/>\n      <use xlink:href=\"#DejaVuSans-20\" x=\"181.279297\"/>\n      <use xlink:href=\"#DejaVuSans-70\" x=\"213.066406\"/>\n      <use xlink:href=\"#DejaVuSans-6f\" x=\"276.542969\"/>\n      <use xlink:href=\"#DejaVuSans-73\" x=\"337.724609\"/>\n      <use xlink:href=\"#DejaVuSans-69\" x=\"389.824219\"/>\n      <use xlink:href=\"#DejaVuSans-74\" x=\"417.607422\"/>\n      <use xlink:href=\"#DejaVuSans-69\" x=\"456.816406\"/>\n      <use xlink:href=\"#DejaVuSans-6f\" x=\"484.599609\"/>\n      <use xlink:href=\"#DejaVuSans-6e\" x=\"545.78125\"/>\n      <use xlink:href=\"#DejaVuSans-73\" x=\"609.160156\"/>\n     </g>\n    </g>\n   </g>\n   <g id=\"matplotlib.axis_14\">\n    <g id=\"ytick_19\">\n     <g id=\"line2d_33\">\n      <g>\n       <use xlink:href=\"#m1b97e36be4\" x=\"197.273668\" y=\"131.757176\" style=\"stroke: #000000; stroke-width: 0.8\"/>\n      </g>\n     </g>\n    </g>\n    <g id=\"ytick_20\">\n     <g id=\"line2d_34\">\n      <g>\n       <use xlink:href=\"#m1b97e36be4\" x=\"197.273668\" y=\"154.400655\" style=\"stroke: #000000; stroke-width: 0.8\"/>\n      </g>\n     </g>\n    </g>\n    <g id=\"ytick_21\">\n     <g id=\"line2d_35\">\n      <g>\n       <use xlink:href=\"#m1b97e36be4\" x=\"197.273668\" y=\"177.044133\" style=\"stroke: #000000; stroke-width: 0.8\"/>\n      </g>\n     </g>\n    </g>\n   </g>\n   <g id=\"patch_33\">\n    <path d=\"M 197.273668 194.026742 \nL 197.273668 126.096307 \n\" style=\"fill: none; stroke: #000000; stroke-width: 0.8; stroke-linejoin: miter; stroke-linecap: square\"/>\n   </g>\n   <g id=\"patch_34\">\n    <path d=\"M 265.204103 194.026742 \nL 265.204103 126.096307 \n\" style=\"fill: none; stroke: #000000; stroke-width: 0.8; stroke-linejoin: miter; stroke-linecap: square\"/>\n   </g>\n   <g id=\"patch_35\">\n    <path d=\"M 197.273668 194.026742 \nL 265.204103 194.026742 \n\" style=\"fill: none; stroke: #000000; stroke-width: 0.8; stroke-linejoin: miter; stroke-linecap: square\"/>\n   </g>\n   <g id=\"patch_36\">\n    <path d=\"M 197.273668 126.096307 \nL 265.204103 126.096307 \n\" style=\"fill: none; stroke: #000000; stroke-width: 0.8; stroke-linejoin: miter; stroke-linecap: square\"/>\n   </g>\n   <g id=\"text_24\">\n    <!-- Head 3 -->\n    <g transform=\"translate(209.824511 120.096307)scale(0.12 -0.12)\">\n     <use xlink:href=\"#DejaVuSans-48\"/>\n     <use xlink:href=\"#DejaVuSans-65\" x=\"75.195312\"/>\n     <use xlink:href=\"#DejaVuSans-61\" x=\"136.71875\"/>\n     <use xlink:href=\"#DejaVuSans-64\" x=\"197.998047\"/>\n     <use xlink:href=\"#DejaVuSans-20\" x=\"261.474609\"/>\n     <use xlink:href=\"#DejaVuSans-33\" x=\"293.261719\"/>\n    </g>\n   </g>\n  </g>\n  <g id=\"axes_8\">\n   <g id=\"patch_37\">\n    <path d=\"M 278.79019 194.026742 \nL 346.720625 194.026742 \nL 346.720625 126.096307 \nL 278.79019 126.096307 \nz\n\" style=\"fill: #ffffff\"/>\n   </g>\n   <g clip-path=\"url(#p6943db4f77)\">\n    <image xlink:href=\"data:image/png;base64,\niVBORw0KGgoAAAANSUhEUgAAAEQAAABECAYAAAA4E5OyAAABO0lEQVR4nO3aIUpEURSA4XOfMxh0RHABJrvgFkwmMboBweRCDNrcgVEmi3vQLBYRTDLBmSAy79n/dE6QQfy/fLgcfm54D25bPj4MkdTtHWRHIyKif39Jz7atnfTs5+lJaY/J3X16tiud/A8YBAwCBgGDgEHAIGAQMAgYBFo/n6U/3asuJrvp2ev562+tUeINAYOAQcAgYBAwCBgEDAIGAYOAQWAUH2/p4en+Yenwq9lzenbol+nZ1q2V9qjwhoBBwCBgEDAIGAQMAgYBg4BBYBQb2+nhp8VX6fDj8XpxndXzhoBBwCBgEDAIGAQMAgYBg4BBoH2fH6VfEA1D7bHR+PK2vNCqeUPAIGAQMAgYBAwCBgGDgEHAIGAQaGexmf5BuVnkXxv9Vd4QMAgYBAwCBgGDgEHAIGAQMAj8AOx8J5UKdSquAAAAAElFTkSuQmCC\" id=\"image573b60974a\" transform=\"scale(1 -1)translate(0 -68)\" x=\"278.79019\" y=\"-126.026742\" width=\"68\" height=\"68\"/>\n   </g>\n   <g id=\"matplotlib.axis_15\">\n    <g id=\"xtick_15\">\n     <g id=\"line2d_36\">\n      <g>\n       <use xlink:href=\"#m0a1fd60e9a\" x=\"284.45106\" y=\"194.026742\" style=\"stroke: #000000; stroke-width: 0.8\"/>\n      </g>\n     </g>\n     <g id=\"text_25\">\n      <!-- 0 -->\n      <g transform=\"translate(281.26981 208.625179)scale(0.1 -0.1)\">\n       <use xlink:href=\"#DejaVuSans-30\"/>\n      </g>\n     </g>\n    </g>\n    <g id=\"xtick_16\">\n     <g id=\"line2d_37\">\n      <g>\n       <use xlink:href=\"#m0a1fd60e9a\" x=\"341.059755\" y=\"194.026742\" style=\"stroke: #000000; stroke-width: 0.8\"/>\n      </g>\n     </g>\n     <g id=\"text_26\">\n      <!-- 5 -->\n      <g transform=\"translate(337.878505 208.625179)scale(0.1 -0.1)\">\n       <use xlink:href=\"#DejaVuSans-35\"/>\n      </g>\n     </g>\n    </g>\n    <g id=\"text_27\">\n     <!-- Key positions -->\n     <g transform=\"translate(279.692126 222.303304)scale(0.1 -0.1)\">\n      <use xlink:href=\"#DejaVuSans-4b\"/>\n      <use xlink:href=\"#DejaVuSans-65\" x=\"60.576172\"/>\n      <use xlink:href=\"#DejaVuSans-79\" x=\"122.099609\"/>\n      <use xlink:href=\"#DejaVuSans-20\" x=\"181.279297\"/>\n      <use xlink:href=\"#DejaVuSans-70\" x=\"213.066406\"/>\n      <use xlink:href=\"#DejaVuSans-6f\" x=\"276.542969\"/>\n      <use xlink:href=\"#DejaVuSans-73\" x=\"337.724609\"/>\n      <use xlink:href=\"#DejaVuSans-69\" x=\"389.824219\"/>\n      <use xlink:href=\"#DejaVuSans-74\" x=\"417.607422\"/>\n      <use xlink:href=\"#DejaVuSans-69\" x=\"456.816406\"/>\n      <use xlink:href=\"#DejaVuSans-6f\" x=\"484.599609\"/>\n      <use xlink:href=\"#DejaVuSans-6e\" x=\"545.78125\"/>\n      <use xlink:href=\"#DejaVuSans-73\" x=\"609.160156\"/>\n     </g>\n    </g>\n   </g>\n   <g id=\"matplotlib.axis_16\">\n    <g id=\"ytick_22\">\n     <g id=\"line2d_38\">\n      <g>\n       <use xlink:href=\"#m1b97e36be4\" x=\"278.79019\" y=\"131.757176\" style=\"stroke: #000000; stroke-width: 0.8\"/>\n      </g>\n     </g>\n    </g>\n    <g id=\"ytick_23\">\n     <g id=\"line2d_39\">\n      <g>\n       <use xlink:href=\"#m1b97e36be4\" x=\"278.79019\" y=\"154.400655\" style=\"stroke: #000000; stroke-width: 0.8\"/>\n      </g>\n     </g>\n    </g>\n    <g id=\"ytick_24\">\n     <g id=\"line2d_40\">\n      <g>\n       <use xlink:href=\"#m1b97e36be4\" x=\"278.79019\" y=\"177.044133\" style=\"stroke: #000000; stroke-width: 0.8\"/>\n      </g>\n     </g>\n    </g>\n   </g>\n   <g id=\"patch_38\">\n    <path d=\"M 278.79019 194.026742 \nL 278.79019 126.096307 \n\" style=\"fill: none; stroke: #000000; stroke-width: 0.8; stroke-linejoin: miter; stroke-linecap: square\"/>\n   </g>\n   <g id=\"patch_39\">\n    <path d=\"M 346.720625 194.026742 \nL 346.720625 126.096307 \n\" style=\"fill: none; stroke: #000000; stroke-width: 0.8; stroke-linejoin: miter; stroke-linecap: square\"/>\n   </g>\n   <g id=\"patch_40\">\n    <path d=\"M 278.79019 194.026742 \nL 346.720625 194.026742 \n\" style=\"fill: none; stroke: #000000; stroke-width: 0.8; stroke-linejoin: miter; stroke-linecap: square\"/>\n   </g>\n   <g id=\"patch_41\">\n    <path d=\"M 278.79019 126.096307 \nL 346.720625 126.096307 \n\" style=\"fill: none; stroke: #000000; stroke-width: 0.8; stroke-linejoin: miter; stroke-linecap: square\"/>\n   </g>\n   <g id=\"text_28\">\n    <!-- Head 4 -->\n    <g transform=\"translate(291.341033 120.096307)scale(0.12 -0.12)\">\n     <use xlink:href=\"#DejaVuSans-48\"/>\n     <use xlink:href=\"#DejaVuSans-65\" x=\"75.195312\"/>\n     <use xlink:href=\"#DejaVuSans-61\" x=\"136.71875\"/>\n     <use xlink:href=\"#DejaVuSans-64\" x=\"197.998047\"/>\n     <use xlink:href=\"#DejaVuSans-20\" x=\"261.474609\"/>\n     <use xlink:href=\"#DejaVuSans-34\" x=\"293.261719\"/>\n    </g>\n   </g>\n  </g>\n  <g id=\"axes_9\">\n   <g id=\"patch_42\">\n    <path d=\"M 366.250625 165.250433 \nL 371.958425 165.250433 \nL 371.958425 51.094433 \nL 366.250625 51.094433 \nz\n\" style=\"fill: #ffffff\"/>\n   </g>\n   <g id=\"patch_43\">\n    <path clip-path=\"url(#p98cb026d00)\" style=\"fill: #ffffff; stroke: #ffffff; stroke-width: 0.01; stroke-linejoin: miter\"/>\n   </g>\n   <image xlink:href=\"data:image/png;base64,\niVBORw0KGgoAAAANSUhEUgAAAAYAAAByCAYAAABwf6CfAAAAzElEQVR4nLXWQQ7DIBBDUSpx/7N2001hhl6AF2kQzTKW/fGQkLzW573a5upt5e5+6y0pBIS1RZwwlhmKqgtkZLkHhZgSCIfgkZhxDW5hjr3g5boHBTAOetAxNat6lGd1bz/cQ7M66KGH+qAH34/6fujIuAivCwcF9Z4HC5IBIcWgow5f89pyzRg8E6tRGTjbQ0LqaxAS6gxHlRmTzeuMfdJTD/0BpAQktZ5NBc1AVCiKDjP2hqeCcnBWFhTF5Q7tIB2zPJLvvSg6xv8ZP9W5DE4Qbu8+AAAAAElFTkSuQmCC\" id=\"imageec023c98e3\" transform=\"scale(1 -1)translate(0 -114)\" x=\"366\" y=\"-51\" width=\"6\" height=\"114\"/>\n   <g id=\"matplotlib.axis_17\">\n    <g id=\"ytick_25\">\n     <g id=\"line2d_41\">\n      <defs>\n       <path id=\"m92b1009e6e\" d=\"M 0 0 \nL 3.5 0 \n\" style=\"stroke: #000000; stroke-width: 0.8\"/>\n      </defs>\n      <g>\n       <use xlink:href=\"#m92b1009e6e\" x=\"371.958425\" y=\"165.250433\" style=\"stroke: #000000; stroke-width: 0.8\"/>\n      </g>\n     </g>\n     <g id=\"text_29\">\n      <!-- 0.0 -->\n      <g transform=\"translate(378.958425 169.049652)scale(0.1 -0.1)\">\n       <defs>\n        <path id=\"DejaVuSans-2e\" d=\"M 684 794 \nL 1344 794 \nL 1344 0 \nL 684 0 \nL 684 794 \nz\n\" transform=\"scale(0.015625)\"/>\n       </defs>\n       <use xlink:href=\"#DejaVuSans-30\"/>\n       <use xlink:href=\"#DejaVuSans-2e\" x=\"63.623047\"/>\n       <use xlink:href=\"#DejaVuSans-30\" x=\"95.410156\"/>\n      </g>\n     </g>\n    </g>\n    <g id=\"ytick_26\">\n     <g id=\"line2d_42\">\n      <g>\n       <use xlink:href=\"#m92b1009e6e\" x=\"371.958425\" y=\"142.419233\" style=\"stroke: #000000; stroke-width: 0.8\"/>\n      </g>\n     </g>\n     <g id=\"text_30\">\n      <!-- 0.2 -->\n      <g transform=\"translate(378.958425 146.218452)scale(0.1 -0.1)\">\n       <use xlink:href=\"#DejaVuSans-30\"/>\n       <use xlink:href=\"#DejaVuSans-2e\" x=\"63.623047\"/>\n       <use xlink:href=\"#DejaVuSans-32\" x=\"95.410156\"/>\n      </g>\n     </g>\n    </g>\n    <g id=\"ytick_27\">\n     <g id=\"line2d_43\">\n      <g>\n       <use xlink:href=\"#m92b1009e6e\" x=\"371.958425\" y=\"119.588033\" style=\"stroke: #000000; stroke-width: 0.8\"/>\n      </g>\n     </g>\n     <g id=\"text_31\">\n      <!-- 0.4 -->\n      <g transform=\"translate(378.958425 123.387252)scale(0.1 -0.1)\">\n       <use xlink:href=\"#DejaVuSans-30\"/>\n       <use xlink:href=\"#DejaVuSans-2e\" x=\"63.623047\"/>\n       <use xlink:href=\"#DejaVuSans-34\" x=\"95.410156\"/>\n      </g>\n     </g>\n    </g>\n    <g id=\"ytick_28\">\n     <g id=\"line2d_44\">\n      <g>\n       <use xlink:href=\"#m92b1009e6e\" x=\"371.958425\" y=\"96.756833\" style=\"stroke: #000000; stroke-width: 0.8\"/>\n      </g>\n     </g>\n     <g id=\"text_32\">\n      <!-- 0.6 -->\n      <g transform=\"translate(378.958425 100.556052)scale(0.1 -0.1)\">\n       <defs>\n        <path id=\"DejaVuSans-36\" d=\"M 2113 2584 \nQ 1688 2584 1439 2293 \nQ 1191 2003 1191 1497 \nQ 1191 994 1439 701 \nQ 1688 409 2113 409 \nQ 2538 409 2786 701 \nQ 3034 994 3034 1497 \nQ 3034 2003 2786 2293 \nQ 2538 2584 2113 2584 \nz\nM 3366 4563 \nL 3366 3988 \nQ 3128 4100 2886 4159 \nQ 2644 4219 2406 4219 \nQ 1781 4219 1451 3797 \nQ 1122 3375 1075 2522 \nQ 1259 2794 1537 2939 \nQ 1816 3084 2150 3084 \nQ 2853 3084 3261 2657 \nQ 3669 2231 3669 1497 \nQ 3669 778 3244 343 \nQ 2819 -91 2113 -91 \nQ 1303 -91 875 529 \nQ 447 1150 447 2328 \nQ 447 3434 972 4092 \nQ 1497 4750 2381 4750 \nQ 2619 4750 2861 4703 \nQ 3103 4656 3366 4563 \nz\n\" transform=\"scale(0.015625)\"/>\n       </defs>\n       <use xlink:href=\"#DejaVuSans-30\"/>\n       <use xlink:href=\"#DejaVuSans-2e\" x=\"63.623047\"/>\n       <use xlink:href=\"#DejaVuSans-36\" x=\"95.410156\"/>\n      </g>\n     </g>\n    </g>\n    <g id=\"ytick_29\">\n     <g id=\"line2d_45\">\n      <g>\n       <use xlink:href=\"#m92b1009e6e\" x=\"371.958425\" y=\"73.925633\" style=\"stroke: #000000; stroke-width: 0.8\"/>\n      </g>\n     </g>\n     <g id=\"text_33\">\n      <!-- 0.8 -->\n      <g transform=\"translate(378.958425 77.724852)scale(0.1 -0.1)\">\n       <defs>\n        <path id=\"DejaVuSans-38\" d=\"M 2034 2216 \nQ 1584 2216 1326 1975 \nQ 1069 1734 1069 1313 \nQ 1069 891 1326 650 \nQ 1584 409 2034 409 \nQ 2484 409 2743 651 \nQ 3003 894 3003 1313 \nQ 3003 1734 2745 1975 \nQ 2488 2216 2034 2216 \nz\nM 1403 2484 \nQ 997 2584 770 2862 \nQ 544 3141 544 3541 \nQ 544 4100 942 4425 \nQ 1341 4750 2034 4750 \nQ 2731 4750 3128 4425 \nQ 3525 4100 3525 3541 \nQ 3525 3141 3298 2862 \nQ 3072 2584 2669 2484 \nQ 3125 2378 3379 2068 \nQ 3634 1759 3634 1313 \nQ 3634 634 3220 271 \nQ 2806 -91 2034 -91 \nQ 1263 -91 848 271 \nQ 434 634 434 1313 \nQ 434 1759 690 2068 \nQ 947 2378 1403 2484 \nz\nM 1172 3481 \nQ 1172 3119 1398 2916 \nQ 1625 2713 2034 2713 \nQ 2441 2713 2670 2916 \nQ 2900 3119 2900 3481 \nQ 2900 3844 2670 4047 \nQ 2441 4250 2034 4250 \nQ 1625 4250 1398 4047 \nQ 1172 3844 1172 3481 \nz\n\" transform=\"scale(0.015625)\"/>\n       </defs>\n       <use xlink:href=\"#DejaVuSans-30\"/>\n       <use xlink:href=\"#DejaVuSans-2e\" x=\"63.623047\"/>\n       <use xlink:href=\"#DejaVuSans-38\" x=\"95.410156\"/>\n      </g>\n     </g>\n    </g>\n    <g id=\"ytick_30\">\n     <g id=\"line2d_46\">\n      <g>\n       <use xlink:href=\"#m92b1009e6e\" x=\"371.958425\" y=\"51.094433\" style=\"stroke: #000000; stroke-width: 0.8\"/>\n      </g>\n     </g>\n     <g id=\"text_34\">\n      <!-- 1.0 -->\n      <g transform=\"translate(378.958425 54.893652)scale(0.1 -0.1)\">\n       <use xlink:href=\"#DejaVuSans-31\"/>\n       <use xlink:href=\"#DejaVuSans-2e\" x=\"63.623047\"/>\n       <use xlink:href=\"#DejaVuSans-30\" x=\"95.410156\"/>\n      </g>\n     </g>\n    </g>\n   </g>\n   <g id=\"LineCollection_1\"/>\n   <g id=\"patch_44\">\n    <path d=\"M 366.250625 165.250433 \nL 369.104525 165.250433 \nL 371.958425 165.250433 \nL 371.958425 51.094433 \nL 369.104525 51.094433 \nL 366.250625 51.094433 \nL 366.250625 165.250433 \nz\n\" style=\"fill: none; stroke: #000000; stroke-width: 0.8; stroke-linejoin: miter; stroke-linecap: square\"/>\n   </g>\n  </g>\n </g>\n <defs>\n  <clipPath id=\"p50d04efb85\">\n   <rect x=\"34.240625\" y=\"22.318125\" width=\"67.930435\" height=\"67.930435\"/>\n  </clipPath>\n  <clipPath id=\"p45323b8f4f\">\n   <rect x=\"115.757147\" y=\"22.318125\" width=\"67.930435\" height=\"67.930435\"/>\n  </clipPath>\n  <clipPath id=\"p3fd45fcc07\">\n   <rect x=\"197.273668\" y=\"22.318125\" width=\"67.930435\" height=\"67.930435\"/>\n  </clipPath>\n  <clipPath id=\"p84af76fbf2\">\n   <rect x=\"278.79019\" y=\"22.318125\" width=\"67.930435\" height=\"67.930435\"/>\n  </clipPath>\n  <clipPath id=\"p39d20b98bf\">\n   <rect x=\"34.240625\" y=\"126.096307\" width=\"67.930435\" height=\"67.930435\"/>\n  </clipPath>\n  <clipPath id=\"pc1880dddba\">\n   <rect x=\"115.757147\" y=\"126.096307\" width=\"67.930435\" height=\"67.930435\"/>\n  </clipPath>\n  <clipPath id=\"p2daf6b22fe\">\n   <rect x=\"197.273668\" y=\"126.096307\" width=\"67.930435\" height=\"67.930435\"/>\n  </clipPath>\n  <clipPath id=\"p6943db4f77\">\n   <rect x=\"278.79019\" y=\"126.096307\" width=\"67.930435\" height=\"67.930435\"/>\n  </clipPath>\n  <clipPath id=\"p98cb026d00\">\n   <rect x=\"366.250625\" y=\"51.094433\" width=\"5.7078\" height=\"114.156\"/>\n  </clipPath>\n </defs>\n</svg>\n",
      "text/plain": [
       "<Figure size 504x252 with 9 Axes>"
      ]
     },
     "metadata": {
      "needs_background": "light"
     },
     "output_type": "display_data"
    }
   ],
   "source": [
    "# This is decoder self attention\n",
    "\n",
    "# Plus one to include the beginning-of-sequence token\n",
    "d2l.show_heatmaps(\n",
    "    dec_self_attention_weights[:, :, :, :len(translation.split()) + 1],\n",
    "    xlabel='Key positions', ylabel='Query positions',\n",
    "    titles=['Head %d' % i for i in range(1, 5)], figsize=(7, 3.5))"
   ]
  },
  {
   "cell_type": "code",
   "execution_count": 718,
   "metadata": {},
   "outputs": [
    {
     "data": {
      "image/svg+xml": "<?xml version=\"1.0\" encoding=\"utf-8\" standalone=\"no\"?>\n<!DOCTYPE svg PUBLIC \"-//W3C//DTD SVG 1.1//EN\"\n  \"http://www.w3.org/Graphics/SVG/1.1/DTD/svg11.dtd\">\n<svg xmlns:xlink=\"http://www.w3.org/1999/xlink\" width=\"402.06155pt\" height=\"208.108094pt\" viewBox=\"0 0 402.06155 208.108094\" xmlns=\"http://www.w3.org/2000/svg\" version=\"1.1\">\n <metadata>\n  <rdf:RDF xmlns:dc=\"http://purl.org/dc/elements/1.1/\" xmlns:cc=\"http://creativecommons.org/ns#\" xmlns:rdf=\"http://www.w3.org/1999/02/22-rdf-syntax-ns#\">\n   <cc:Work>\n    <dc:type rdf:resource=\"http://purl.org/dc/dcmitype/StillImage\"/>\n    <dc:date>2022-07-06T20:14:19.371617</dc:date>\n    <dc:format>image/svg+xml</dc:format>\n    <dc:creator>\n     <cc:Agent>\n      <dc:title>Matplotlib v3.5.2, https://matplotlib.org/</dc:title>\n     </cc:Agent>\n    </dc:creator>\n   </cc:Work>\n  </rdf:RDF>\n </metadata>\n <defs>\n  <style type=\"text/css\">*{stroke-linejoin: round; stroke-linecap: butt}</style>\n </defs>\n <g id=\"figure_1\">\n  <g id=\"patch_1\">\n   <path d=\"M 0 208.108094 \nL 402.06155 208.108094 \nL 402.06155 0 \nL 0 0 \nL 0 208.108094 \nz\n\" style=\"fill: none\"/>\n  </g>\n  <g id=\"axes_1\">\n   <g id=\"patch_2\">\n    <path d=\"M 34.240625 66.773662 \nL 102.17106 66.773662 \nL 102.17106 26.015401 \nL 34.240625 26.015401 \nz\n\" style=\"fill: #ffffff\"/>\n   </g>\n   <g clip-path=\"url(#p99383f28bc)\">\n    <image xlink:href=\"data:image/png;base64,\niVBORw0KGgoAAAANSUhEUgAAAEQAAAApCAYAAACMeY82AAABKElEQVR4nO3VLU+CURiH8efN4HCDQNQPYKERTHYLzU/AgOJIRhKBRLYYKDqLwc2XZIDExiegEkmisDkGz0O/dm6Hc+7A9v/Fc++cnV072wlXvXYWGKJK1RoFwWLmXP6+rptbDm+f7PN2ROT7ArtGQUBBQEFAQUBBIPy8KJvf7tH9s7kxHY/cgzg298SnZ9vfzBO9EFAQUBBQEFAQUBAIs8WH+e02csfmxpuvifvAaL8b7/ft/4GCgIKAgoCCgIJAmM6m5rebDl/MjauHO+d6Ursy98Sl819czQ+9EFAQUBBQEFAQSNa9jjmcP76bs/xr3z3I0r/eySu9EFAQUBBQEFAQUBBIfhoW3gbmbNm8dK4ftLr2gcWT7W7lkV4IKAgoCCgIKAgoCGwAVDotbGiNlS0AAAAASUVORK5CYII=\" id=\"image810cf2c673\" transform=\"scale(1 -1)translate(0 -41)\" x=\"34.240625\" y=\"-25.773662\" width=\"68\" height=\"41\"/>\n   </g>\n   <g id=\"matplotlib.axis_1\">\n    <g id=\"xtick_1\">\n     <g id=\"line2d_1\">\n      <defs>\n       <path id=\"m260332acb5\" d=\"M 0 0 \nL 0 3.5 \n\" style=\"stroke: #000000; stroke-width: 0.8\"/>\n      </defs>\n      <g>\n       <use xlink:href=\"#m260332acb5\" x=\"37.637147\" y=\"66.773662\" style=\"stroke: #000000; stroke-width: 0.8\"/>\n      </g>\n     </g>\n    </g>\n    <g id=\"xtick_2\">\n     <g id=\"line2d_2\">\n      <g>\n       <use xlink:href=\"#m260332acb5\" x=\"71.602364\" y=\"66.773662\" style=\"stroke: #000000; stroke-width: 0.8\"/>\n      </g>\n     </g>\n    </g>\n   </g>\n   <g id=\"matplotlib.axis_2\">\n    <g id=\"ytick_1\">\n     <g id=\"line2d_3\">\n      <defs>\n       <path id=\"m87b7b13fdc\" d=\"M 0 0 \nL -3.5 0 \n\" style=\"stroke: #000000; stroke-width: 0.8\"/>\n      </defs>\n      <g>\n       <use xlink:href=\"#m87b7b13fdc\" x=\"34.240625\" y=\"29.411923\" style=\"stroke: #000000; stroke-width: 0.8\"/>\n      </g>\n     </g>\n     <g id=\"text_1\">\n      <!-- 0 -->\n      <g transform=\"translate(20.878125 33.211141)scale(0.1 -0.1)\">\n       <defs>\n        <path id=\"DejaVuSans-30\" d=\"M 2034 4250 \nQ 1547 4250 1301 3770 \nQ 1056 3291 1056 2328 \nQ 1056 1369 1301 889 \nQ 1547 409 2034 409 \nQ 2525 409 2770 889 \nQ 3016 1369 3016 2328 \nQ 3016 3291 2770 3770 \nQ 2525 4250 2034 4250 \nz\nM 2034 4750 \nQ 2819 4750 3233 4129 \nQ 3647 3509 3647 2328 \nQ 3647 1150 3233 529 \nQ 2819 -91 2034 -91 \nQ 1250 -91 836 529 \nQ 422 1150 422 2328 \nQ 422 3509 836 4129 \nQ 1250 4750 2034 4750 \nz\n\" transform=\"scale(0.015625)\"/>\n       </defs>\n       <use xlink:href=\"#DejaVuSans-30\"/>\n      </g>\n     </g>\n    </g>\n    <g id=\"ytick_2\">\n     <g id=\"line2d_4\">\n      <g>\n       <use xlink:href=\"#m87b7b13fdc\" x=\"34.240625\" y=\"63.37714\" style=\"stroke: #000000; stroke-width: 0.8\"/>\n      </g>\n     </g>\n     <g id=\"text_2\">\n      <!-- 5 -->\n      <g transform=\"translate(20.878125 67.176359)scale(0.1 -0.1)\">\n       <defs>\n        <path id=\"DejaVuSans-35\" d=\"M 691 4666 \nL 3169 4666 \nL 3169 4134 \nL 1269 4134 \nL 1269 2991 \nQ 1406 3038 1543 3061 \nQ 1681 3084 1819 3084 \nQ 2600 3084 3056 2656 \nQ 3513 2228 3513 1497 \nQ 3513 744 3044 326 \nQ 2575 -91 1722 -91 \nQ 1428 -91 1123 -41 \nQ 819 9 494 109 \nL 494 744 \nQ 775 591 1075 516 \nQ 1375 441 1709 441 \nQ 2250 441 2565 725 \nQ 2881 1009 2881 1497 \nQ 2881 1984 2565 2268 \nQ 2250 2553 1709 2553 \nQ 1456 2553 1204 2497 \nQ 953 2441 691 2322 \nL 691 4666 \nz\n\" transform=\"scale(0.015625)\"/>\n       </defs>\n       <use xlink:href=\"#DejaVuSans-35\"/>\n      </g>\n     </g>\n    </g>\n    <g id=\"text_3\">\n     <!-- Query positions -->\n     <g transform=\"translate(14.798437 85.589063)rotate(-90)scale(0.1 -0.1)\">\n      <defs>\n       <path id=\"DejaVuSans-51\" d=\"M 2522 4238 \nQ 1834 4238 1429 3725 \nQ 1025 3213 1025 2328 \nQ 1025 1447 1429 934 \nQ 1834 422 2522 422 \nQ 3209 422 3611 934 \nQ 4013 1447 4013 2328 \nQ 4013 3213 3611 3725 \nQ 3209 4238 2522 4238 \nz\nM 3406 84 \nL 4238 -825 \nL 3475 -825 \nL 2784 -78 \nQ 2681 -84 2626 -87 \nQ 2572 -91 2522 -91 \nQ 1538 -91 948 567 \nQ 359 1225 359 2328 \nQ 359 3434 948 4092 \nQ 1538 4750 2522 4750 \nQ 3503 4750 4090 4092 \nQ 4678 3434 4678 2328 \nQ 4678 1516 4351 937 \nQ 4025 359 3406 84 \nz\n\" transform=\"scale(0.015625)\"/>\n       <path id=\"DejaVuSans-75\" d=\"M 544 1381 \nL 544 3500 \nL 1119 3500 \nL 1119 1403 \nQ 1119 906 1312 657 \nQ 1506 409 1894 409 \nQ 2359 409 2629 706 \nQ 2900 1003 2900 1516 \nL 2900 3500 \nL 3475 3500 \nL 3475 0 \nL 2900 0 \nL 2900 538 \nQ 2691 219 2414 64 \nQ 2138 -91 1772 -91 \nQ 1169 -91 856 284 \nQ 544 659 544 1381 \nz\nM 1991 3584 \nL 1991 3584 \nz\n\" transform=\"scale(0.015625)\"/>\n       <path id=\"DejaVuSans-65\" d=\"M 3597 1894 \nL 3597 1613 \nL 953 1613 \nQ 991 1019 1311 708 \nQ 1631 397 2203 397 \nQ 2534 397 2845 478 \nQ 3156 559 3463 722 \nL 3463 178 \nQ 3153 47 2828 -22 \nQ 2503 -91 2169 -91 \nQ 1331 -91 842 396 \nQ 353 884 353 1716 \nQ 353 2575 817 3079 \nQ 1281 3584 2069 3584 \nQ 2775 3584 3186 3129 \nQ 3597 2675 3597 1894 \nz\nM 3022 2063 \nQ 3016 2534 2758 2815 \nQ 2500 3097 2075 3097 \nQ 1594 3097 1305 2825 \nQ 1016 2553 972 2059 \nL 3022 2063 \nz\n\" transform=\"scale(0.015625)\"/>\n       <path id=\"DejaVuSans-72\" d=\"M 2631 2963 \nQ 2534 3019 2420 3045 \nQ 2306 3072 2169 3072 \nQ 1681 3072 1420 2755 \nQ 1159 2438 1159 1844 \nL 1159 0 \nL 581 0 \nL 581 3500 \nL 1159 3500 \nL 1159 2956 \nQ 1341 3275 1631 3429 \nQ 1922 3584 2338 3584 \nQ 2397 3584 2469 3576 \nQ 2541 3569 2628 3553 \nL 2631 2963 \nz\n\" transform=\"scale(0.015625)\"/>\n       <path id=\"DejaVuSans-79\" d=\"M 2059 -325 \nQ 1816 -950 1584 -1140 \nQ 1353 -1331 966 -1331 \nL 506 -1331 \nL 506 -850 \nL 844 -850 \nQ 1081 -850 1212 -737 \nQ 1344 -625 1503 -206 \nL 1606 56 \nL 191 3500 \nL 800 3500 \nL 1894 763 \nL 2988 3500 \nL 3597 3500 \nL 2059 -325 \nz\n\" transform=\"scale(0.015625)\"/>\n       <path id=\"DejaVuSans-20\" transform=\"scale(0.015625)\"/>\n       <path id=\"DejaVuSans-70\" d=\"M 1159 525 \nL 1159 -1331 \nL 581 -1331 \nL 581 3500 \nL 1159 3500 \nL 1159 2969 \nQ 1341 3281 1617 3432 \nQ 1894 3584 2278 3584 \nQ 2916 3584 3314 3078 \nQ 3713 2572 3713 1747 \nQ 3713 922 3314 415 \nQ 2916 -91 2278 -91 \nQ 1894 -91 1617 61 \nQ 1341 213 1159 525 \nz\nM 3116 1747 \nQ 3116 2381 2855 2742 \nQ 2594 3103 2138 3103 \nQ 1681 3103 1420 2742 \nQ 1159 2381 1159 1747 \nQ 1159 1113 1420 752 \nQ 1681 391 2138 391 \nQ 2594 391 2855 752 \nQ 3116 1113 3116 1747 \nz\n\" transform=\"scale(0.015625)\"/>\n       <path id=\"DejaVuSans-6f\" d=\"M 1959 3097 \nQ 1497 3097 1228 2736 \nQ 959 2375 959 1747 \nQ 959 1119 1226 758 \nQ 1494 397 1959 397 \nQ 2419 397 2687 759 \nQ 2956 1122 2956 1747 \nQ 2956 2369 2687 2733 \nQ 2419 3097 1959 3097 \nz\nM 1959 3584 \nQ 2709 3584 3137 3096 \nQ 3566 2609 3566 1747 \nQ 3566 888 3137 398 \nQ 2709 -91 1959 -91 \nQ 1206 -91 779 398 \nQ 353 888 353 1747 \nQ 353 2609 779 3096 \nQ 1206 3584 1959 3584 \nz\n\" transform=\"scale(0.015625)\"/>\n       <path id=\"DejaVuSans-73\" d=\"M 2834 3397 \nL 2834 2853 \nQ 2591 2978 2328 3040 \nQ 2066 3103 1784 3103 \nQ 1356 3103 1142 2972 \nQ 928 2841 928 2578 \nQ 928 2378 1081 2264 \nQ 1234 2150 1697 2047 \nL 1894 2003 \nQ 2506 1872 2764 1633 \nQ 3022 1394 3022 966 \nQ 3022 478 2636 193 \nQ 2250 -91 1575 -91 \nQ 1294 -91 989 -36 \nQ 684 19 347 128 \nL 347 722 \nQ 666 556 975 473 \nQ 1284 391 1588 391 \nQ 1994 391 2212 530 \nQ 2431 669 2431 922 \nQ 2431 1156 2273 1281 \nQ 2116 1406 1581 1522 \nL 1381 1569 \nQ 847 1681 609 1914 \nQ 372 2147 372 2553 \nQ 372 3047 722 3315 \nQ 1072 3584 1716 3584 \nQ 2034 3584 2315 3537 \nQ 2597 3491 2834 3397 \nz\n\" transform=\"scale(0.015625)\"/>\n       <path id=\"DejaVuSans-69\" d=\"M 603 3500 \nL 1178 3500 \nL 1178 0 \nL 603 0 \nL 603 3500 \nz\nM 603 4863 \nL 1178 4863 \nL 1178 4134 \nL 603 4134 \nL 603 4863 \nz\n\" transform=\"scale(0.015625)\"/>\n       <path id=\"DejaVuSans-74\" d=\"M 1172 4494 \nL 1172 3500 \nL 2356 3500 \nL 2356 3053 \nL 1172 3053 \nL 1172 1153 \nQ 1172 725 1289 603 \nQ 1406 481 1766 481 \nL 2356 481 \nL 2356 0 \nL 1766 0 \nQ 1100 0 847 248 \nQ 594 497 594 1153 \nL 594 3053 \nL 172 3053 \nL 172 3500 \nL 594 3500 \nL 594 4494 \nL 1172 4494 \nz\n\" transform=\"scale(0.015625)\"/>\n       <path id=\"DejaVuSans-6e\" d=\"M 3513 2113 \nL 3513 0 \nL 2938 0 \nL 2938 2094 \nQ 2938 2591 2744 2837 \nQ 2550 3084 2163 3084 \nQ 1697 3084 1428 2787 \nQ 1159 2491 1159 1978 \nL 1159 0 \nL 581 0 \nL 581 3500 \nL 1159 3500 \nL 1159 2956 \nQ 1366 3272 1645 3428 \nQ 1925 3584 2291 3584 \nQ 2894 3584 3203 3211 \nQ 3513 2838 3513 2113 \nz\n\" transform=\"scale(0.015625)\"/>\n      </defs>\n      <use xlink:href=\"#DejaVuSans-51\"/>\n      <use xlink:href=\"#DejaVuSans-75\" x=\"78.710938\"/>\n      <use xlink:href=\"#DejaVuSans-65\" x=\"142.089844\"/>\n      <use xlink:href=\"#DejaVuSans-72\" x=\"203.613281\"/>\n      <use xlink:href=\"#DejaVuSans-79\" x=\"244.726562\"/>\n      <use xlink:href=\"#DejaVuSans-20\" x=\"303.90625\"/>\n      <use xlink:href=\"#DejaVuSans-70\" x=\"335.693359\"/>\n      <use xlink:href=\"#DejaVuSans-6f\" x=\"399.169922\"/>\n      <use xlink:href=\"#DejaVuSans-73\" x=\"460.351562\"/>\n      <use xlink:href=\"#DejaVuSans-69\" x=\"512.451172\"/>\n      <use xlink:href=\"#DejaVuSans-74\" x=\"540.234375\"/>\n      <use xlink:href=\"#DejaVuSans-69\" x=\"579.443359\"/>\n      <use xlink:href=\"#DejaVuSans-6f\" x=\"607.226562\"/>\n      <use xlink:href=\"#DejaVuSans-6e\" x=\"668.408203\"/>\n      <use xlink:href=\"#DejaVuSans-73\" x=\"731.787109\"/>\n     </g>\n    </g>\n   </g>\n   <g id=\"patch_3\">\n    <path d=\"M 34.240625 66.773662 \nL 34.240625 26.015401 \n\" style=\"fill: none; stroke: #000000; stroke-width: 0.8; stroke-linejoin: miter; stroke-linecap: square\"/>\n   </g>\n   <g id=\"patch_4\">\n    <path d=\"M 102.17106 66.773662 \nL 102.17106 26.015401 \n\" style=\"fill: none; stroke: #000000; stroke-width: 0.8; stroke-linejoin: miter; stroke-linecap: square\"/>\n   </g>\n   <g id=\"patch_5\">\n    <path d=\"M 34.240625 66.773662 \nL 102.17106 66.773662 \n\" style=\"fill: none; stroke: #000000; stroke-width: 0.8; stroke-linejoin: miter; stroke-linecap: square\"/>\n   </g>\n   <g id=\"patch_6\">\n    <path d=\"M 34.240625 26.015401 \nL 102.17106 26.015401 \n\" style=\"fill: none; stroke: #000000; stroke-width: 0.8; stroke-linejoin: miter; stroke-linecap: square\"/>\n   </g>\n   <g id=\"text_4\">\n    <!-- Head 1 -->\n    <g transform=\"translate(46.791467 20.015401)scale(0.12 -0.12)\">\n     <defs>\n      <path id=\"DejaVuSans-48\" d=\"M 628 4666 \nL 1259 4666 \nL 1259 2753 \nL 3553 2753 \nL 3553 4666 \nL 4184 4666 \nL 4184 0 \nL 3553 0 \nL 3553 2222 \nL 1259 2222 \nL 1259 0 \nL 628 0 \nL 628 4666 \nz\n\" transform=\"scale(0.015625)\"/>\n      <path id=\"DejaVuSans-61\" d=\"M 2194 1759 \nQ 1497 1759 1228 1600 \nQ 959 1441 959 1056 \nQ 959 750 1161 570 \nQ 1363 391 1709 391 \nQ 2188 391 2477 730 \nQ 2766 1069 2766 1631 \nL 2766 1759 \nL 2194 1759 \nz\nM 3341 1997 \nL 3341 0 \nL 2766 0 \nL 2766 531 \nQ 2569 213 2275 61 \nQ 1981 -91 1556 -91 \nQ 1019 -91 701 211 \nQ 384 513 384 1019 \nQ 384 1609 779 1909 \nQ 1175 2209 1959 2209 \nL 2766 2209 \nL 2766 2266 \nQ 2766 2663 2505 2880 \nQ 2244 3097 1772 3097 \nQ 1472 3097 1187 3025 \nQ 903 2953 641 2809 \nL 641 3341 \nQ 956 3463 1253 3523 \nQ 1550 3584 1831 3584 \nQ 2591 3584 2966 3190 \nQ 3341 2797 3341 1997 \nz\n\" transform=\"scale(0.015625)\"/>\n      <path id=\"DejaVuSans-64\" d=\"M 2906 2969 \nL 2906 4863 \nL 3481 4863 \nL 3481 0 \nL 2906 0 \nL 2906 525 \nQ 2725 213 2448 61 \nQ 2172 -91 1784 -91 \nQ 1150 -91 751 415 \nQ 353 922 353 1747 \nQ 353 2572 751 3078 \nQ 1150 3584 1784 3584 \nQ 2172 3584 2448 3432 \nQ 2725 3281 2906 2969 \nz\nM 947 1747 \nQ 947 1113 1208 752 \nQ 1469 391 1925 391 \nQ 2381 391 2643 752 \nQ 2906 1113 2906 1747 \nQ 2906 2381 2643 2742 \nQ 2381 3103 1925 3103 \nQ 1469 3103 1208 2742 \nQ 947 2381 947 1747 \nz\n\" transform=\"scale(0.015625)\"/>\n      <path id=\"DejaVuSans-31\" d=\"M 794 531 \nL 1825 531 \nL 1825 4091 \nL 703 3866 \nL 703 4441 \nL 1819 4666 \nL 2450 4666 \nL 2450 531 \nL 3481 531 \nL 3481 0 \nL 794 0 \nL 794 531 \nz\n\" transform=\"scale(0.015625)\"/>\n     </defs>\n     <use xlink:href=\"#DejaVuSans-48\"/>\n     <use xlink:href=\"#DejaVuSans-65\" x=\"75.195312\"/>\n     <use xlink:href=\"#DejaVuSans-61\" x=\"136.71875\"/>\n     <use xlink:href=\"#DejaVuSans-64\" x=\"197.998047\"/>\n     <use xlink:href=\"#DejaVuSans-20\" x=\"261.474609\"/>\n     <use xlink:href=\"#DejaVuSans-31\" x=\"293.261719\"/>\n    </g>\n   </g>\n  </g>\n  <g id=\"axes_2\">\n   <g id=\"patch_7\">\n    <path d=\"M 115.757147 66.773662 \nL 183.687582 66.773662 \nL 183.687582 26.015401 \nL 115.757147 26.015401 \nz\n\" style=\"fill: #ffffff\"/>\n   </g>\n   <g clip-path=\"url(#p1747c3d3c6)\">\n    <image xlink:href=\"data:image/png;base64,\niVBORw0KGgoAAAANSUhEUgAAAEQAAAApCAYAAACMeY82AAABAElEQVR4nO3asU7CYBRA4bb5qQwuOCgmJA4OPAgjIXHyBRx4Cp7AXVx5Ap7D0cnNhZ3EsBkL7ie9LpX8Hc439qbJzcmdoOVx93EqIvUwHDWb5/bBfh++k1av4awvqtwL9I1BwCBgEDAIGARSeXUbDk/NTzj7fntvfV5P7zovlZMXAgYBg4BBwCBgEEjNdh0Oq9ljOLt4mLcPBoOuO2XlhYBBwCBgEDAIGARStXgKh83LKpyV1zftg/Gk605ZeSFgEDAIGAQMAuWyuAz/ylx/fcYvpvosC+XmhYBBwCBgEDAIGATS/fCP30AP8ddAxWj8/9v0gBcCBgGDgEHAIGAQ+AVwOhwLDYGnMAAAAABJRU5ErkJggg==\" id=\"imagedc2658a81e\" transform=\"scale(1 -1)translate(0 -41)\" x=\"115.757147\" y=\"-25.773662\" width=\"68\" height=\"41\"/>\n   </g>\n   <g id=\"matplotlib.axis_3\">\n    <g id=\"xtick_3\">\n     <g id=\"line2d_5\">\n      <g>\n       <use xlink:href=\"#m260332acb5\" x=\"119.153668\" y=\"66.773662\" style=\"stroke: #000000; stroke-width: 0.8\"/>\n      </g>\n     </g>\n    </g>\n    <g id=\"xtick_4\">\n     <g id=\"line2d_6\">\n      <g>\n       <use xlink:href=\"#m260332acb5\" x=\"153.118886\" y=\"66.773662\" style=\"stroke: #000000; stroke-width: 0.8\"/>\n      </g>\n     </g>\n    </g>\n   </g>\n   <g id=\"matplotlib.axis_4\">\n    <g id=\"ytick_3\">\n     <g id=\"line2d_7\">\n      <g>\n       <use xlink:href=\"#m87b7b13fdc\" x=\"115.757147\" y=\"29.411923\" style=\"stroke: #000000; stroke-width: 0.8\"/>\n      </g>\n     </g>\n    </g>\n    <g id=\"ytick_4\">\n     <g id=\"line2d_8\">\n      <g>\n       <use xlink:href=\"#m87b7b13fdc\" x=\"115.757147\" y=\"63.37714\" style=\"stroke: #000000; stroke-width: 0.8\"/>\n      </g>\n     </g>\n    </g>\n   </g>\n   <g id=\"patch_8\">\n    <path d=\"M 115.757147 66.773662 \nL 115.757147 26.015401 \n\" style=\"fill: none; stroke: #000000; stroke-width: 0.8; stroke-linejoin: miter; stroke-linecap: square\"/>\n   </g>\n   <g id=\"patch_9\">\n    <path d=\"M 183.687582 66.773662 \nL 183.687582 26.015401 \n\" style=\"fill: none; stroke: #000000; stroke-width: 0.8; stroke-linejoin: miter; stroke-linecap: square\"/>\n   </g>\n   <g id=\"patch_10\">\n    <path d=\"M 115.757147 66.773662 \nL 183.687582 66.773662 \n\" style=\"fill: none; stroke: #000000; stroke-width: 0.8; stroke-linejoin: miter; stroke-linecap: square\"/>\n   </g>\n   <g id=\"patch_11\">\n    <path d=\"M 115.757147 26.015401 \nL 183.687582 26.015401 \n\" style=\"fill: none; stroke: #000000; stroke-width: 0.8; stroke-linejoin: miter; stroke-linecap: square\"/>\n   </g>\n   <g id=\"text_5\">\n    <!-- Head 2 -->\n    <g transform=\"translate(128.307989 20.015401)scale(0.12 -0.12)\">\n     <defs>\n      <path id=\"DejaVuSans-32\" d=\"M 1228 531 \nL 3431 531 \nL 3431 0 \nL 469 0 \nL 469 531 \nQ 828 903 1448 1529 \nQ 2069 2156 2228 2338 \nQ 2531 2678 2651 2914 \nQ 2772 3150 2772 3378 \nQ 2772 3750 2511 3984 \nQ 2250 4219 1831 4219 \nQ 1534 4219 1204 4116 \nQ 875 4013 500 3803 \nL 500 4441 \nQ 881 4594 1212 4672 \nQ 1544 4750 1819 4750 \nQ 2544 4750 2975 4387 \nQ 3406 4025 3406 3419 \nQ 3406 3131 3298 2873 \nQ 3191 2616 2906 2266 \nQ 2828 2175 2409 1742 \nQ 1991 1309 1228 531 \nz\n\" transform=\"scale(0.015625)\"/>\n     </defs>\n     <use xlink:href=\"#DejaVuSans-48\"/>\n     <use xlink:href=\"#DejaVuSans-65\" x=\"75.195312\"/>\n     <use xlink:href=\"#DejaVuSans-61\" x=\"136.71875\"/>\n     <use xlink:href=\"#DejaVuSans-64\" x=\"197.998047\"/>\n     <use xlink:href=\"#DejaVuSans-20\" x=\"261.474609\"/>\n     <use xlink:href=\"#DejaVuSans-32\" x=\"293.261719\"/>\n    </g>\n   </g>\n  </g>\n  <g id=\"axes_3\">\n   <g id=\"patch_12\">\n    <path d=\"M 197.273668 66.773662 \nL 265.204103 66.773662 \nL 265.204103 26.015401 \nL 197.273668 26.015401 \nz\n\" style=\"fill: #ffffff\"/>\n   </g>\n   <g clip-path=\"url(#peb71028666)\">\n    <image xlink:href=\"data:image/png;base64,\niVBORw0KGgoAAAANSUhEUgAAAEQAAAApCAYAAACMeY82AAABHklEQVR4nO3XMUoDQRiG4Yy7iES0SKs30CPELuQAio21RQTFXsgpUuiVcgAhTSSRQBQLBYm4YmbtP+aDbWRSvE+5Pz87vAwsG6rLft0yyts7N2qFvU7yeXx9tjvFcdfONsVW7gNsGoIIggiCCIIIgohQrz7sZ3ewe2gXH1aLfzlQbtwQQRBBEEEQQRBBEFFWV6d2eP85t7P1ZJweLKZ2p+hdND5YLtwQQRBBEEEQQRBBEBHi+9L+7Y4OjuzizXKSHsToX7a90/xkmXBDBEEEQQRBBEFEGLU79itz/fZkF+vqKz1Y//qXtfebnywTboggiCCIIIggiCCIKAfDczuM80e/+fOdfFy/zOxKcXLW9FzZcEMEQQRBBEEEQQRBxB+GKzI4mnhC4AAAAABJRU5ErkJggg==\" id=\"image0bf0513235\" transform=\"scale(1 -1)translate(0 -41)\" x=\"197.273668\" y=\"-25.773662\" width=\"68\" height=\"41\"/>\n   </g>\n   <g id=\"matplotlib.axis_5\">\n    <g id=\"xtick_5\">\n     <g id=\"line2d_9\">\n      <g>\n       <use xlink:href=\"#m260332acb5\" x=\"200.67019\" y=\"66.773662\" style=\"stroke: #000000; stroke-width: 0.8\"/>\n      </g>\n     </g>\n    </g>\n    <g id=\"xtick_6\">\n     <g id=\"line2d_10\">\n      <g>\n       <use xlink:href=\"#m260332acb5\" x=\"234.635408\" y=\"66.773662\" style=\"stroke: #000000; stroke-width: 0.8\"/>\n      </g>\n     </g>\n    </g>\n   </g>\n   <g id=\"matplotlib.axis_6\">\n    <g id=\"ytick_5\">\n     <g id=\"line2d_11\">\n      <g>\n       <use xlink:href=\"#m87b7b13fdc\" x=\"197.273668\" y=\"29.411923\" style=\"stroke: #000000; stroke-width: 0.8\"/>\n      </g>\n     </g>\n    </g>\n    <g id=\"ytick_6\">\n     <g id=\"line2d_12\">\n      <g>\n       <use xlink:href=\"#m87b7b13fdc\" x=\"197.273668\" y=\"63.37714\" style=\"stroke: #000000; stroke-width: 0.8\"/>\n      </g>\n     </g>\n    </g>\n   </g>\n   <g id=\"patch_13\">\n    <path d=\"M 197.273668 66.773662 \nL 197.273668 26.015401 \n\" style=\"fill: none; stroke: #000000; stroke-width: 0.8; stroke-linejoin: miter; stroke-linecap: square\"/>\n   </g>\n   <g id=\"patch_14\">\n    <path d=\"M 265.204103 66.773662 \nL 265.204103 26.015401 \n\" style=\"fill: none; stroke: #000000; stroke-width: 0.8; stroke-linejoin: miter; stroke-linecap: square\"/>\n   </g>\n   <g id=\"patch_15\">\n    <path d=\"M 197.273668 66.773662 \nL 265.204103 66.773662 \n\" style=\"fill: none; stroke: #000000; stroke-width: 0.8; stroke-linejoin: miter; stroke-linecap: square\"/>\n   </g>\n   <g id=\"patch_16\">\n    <path d=\"M 197.273668 26.015401 \nL 265.204103 26.015401 \n\" style=\"fill: none; stroke: #000000; stroke-width: 0.8; stroke-linejoin: miter; stroke-linecap: square\"/>\n   </g>\n   <g id=\"text_6\">\n    <!-- Head 3 -->\n    <g transform=\"translate(209.824511 20.015401)scale(0.12 -0.12)\">\n     <defs>\n      <path id=\"DejaVuSans-33\" d=\"M 2597 2516 \nQ 3050 2419 3304 2112 \nQ 3559 1806 3559 1356 \nQ 3559 666 3084 287 \nQ 2609 -91 1734 -91 \nQ 1441 -91 1130 -33 \nQ 819 25 488 141 \nL 488 750 \nQ 750 597 1062 519 \nQ 1375 441 1716 441 \nQ 2309 441 2620 675 \nQ 2931 909 2931 1356 \nQ 2931 1769 2642 2001 \nQ 2353 2234 1838 2234 \nL 1294 2234 \nL 1294 2753 \nL 1863 2753 \nQ 2328 2753 2575 2939 \nQ 2822 3125 2822 3475 \nQ 2822 3834 2567 4026 \nQ 2313 4219 1838 4219 \nQ 1578 4219 1281 4162 \nQ 984 4106 628 3988 \nL 628 4550 \nQ 988 4650 1302 4700 \nQ 1616 4750 1894 4750 \nQ 2613 4750 3031 4423 \nQ 3450 4097 3450 3541 \nQ 3450 3153 3228 2886 \nQ 3006 2619 2597 2516 \nz\n\" transform=\"scale(0.015625)\"/>\n     </defs>\n     <use xlink:href=\"#DejaVuSans-48\"/>\n     <use xlink:href=\"#DejaVuSans-65\" x=\"75.195312\"/>\n     <use xlink:href=\"#DejaVuSans-61\" x=\"136.71875\"/>\n     <use xlink:href=\"#DejaVuSans-64\" x=\"197.998047\"/>\n     <use xlink:href=\"#DejaVuSans-20\" x=\"261.474609\"/>\n     <use xlink:href=\"#DejaVuSans-33\" x=\"293.261719\"/>\n    </g>\n   </g>\n  </g>\n  <g id=\"axes_4\">\n   <g id=\"patch_17\">\n    <path d=\"M 278.79019 66.773662 \nL 346.720625 66.773662 \nL 346.720625 26.015401 \nL 278.79019 26.015401 \nz\n\" style=\"fill: #ffffff\"/>\n   </g>\n   <g clip-path=\"url(#pc75a3c41bc)\">\n    <image xlink:href=\"data:image/png;base64,\niVBORw0KGgoAAAANSUhEUgAAAEQAAAApCAYAAACMeY82AAABE0lEQVR4nO3Xv0rDUBhA8VzTSQWfwLE4CFInIa/g5FMI+g6dfIQOXXRxd6urm45uXbqJm+AfmoCDbbof8kGL0GQ4vzGXL7kcLlySyouizgK795NoKVtOX5oXyq9wJj87D9e6YqftDXSNQcAgYBAwCBgE0vLnI7x2FzdX8eDJafPC0SCcyY+LtTfWFk8IGAQMAgYBg4BBoPfcH4SLxew1nvytGh/X889/bqldnhAwCBgEDAIGAYNAqqvv8G/3eu8wHByVb5t/LKWNZ7bNEwIGAYOAQcAgkC6z/fCWGVfv29xLJ3hCwCBgEDAIGAQMAunvdhheu/O7h3Dw4PEpeGP8A5fy3vo7a4knBAwCBgGDgEHAILAC9BEpi7VqNr8AAAAASUVORK5CYII=\" id=\"image304f32220b\" transform=\"scale(1 -1)translate(0 -41)\" x=\"278.79019\" y=\"-25.773662\" width=\"68\" height=\"41\"/>\n   </g>\n   <g id=\"matplotlib.axis_7\">\n    <g id=\"xtick_7\">\n     <g id=\"line2d_13\">\n      <g>\n       <use xlink:href=\"#m260332acb5\" x=\"282.186712\" y=\"66.773662\" style=\"stroke: #000000; stroke-width: 0.8\"/>\n      </g>\n     </g>\n    </g>\n    <g id=\"xtick_8\">\n     <g id=\"line2d_14\">\n      <g>\n       <use xlink:href=\"#m260332acb5\" x=\"316.151929\" y=\"66.773662\" style=\"stroke: #000000; stroke-width: 0.8\"/>\n      </g>\n     </g>\n    </g>\n   </g>\n   <g id=\"matplotlib.axis_8\">\n    <g id=\"ytick_7\">\n     <g id=\"line2d_15\">\n      <g>\n       <use xlink:href=\"#m87b7b13fdc\" x=\"278.79019\" y=\"29.411923\" style=\"stroke: #000000; stroke-width: 0.8\"/>\n      </g>\n     </g>\n    </g>\n    <g id=\"ytick_8\">\n     <g id=\"line2d_16\">\n      <g>\n       <use xlink:href=\"#m87b7b13fdc\" x=\"278.79019\" y=\"63.37714\" style=\"stroke: #000000; stroke-width: 0.8\"/>\n      </g>\n     </g>\n    </g>\n   </g>\n   <g id=\"patch_18\">\n    <path d=\"M 278.79019 66.773662 \nL 278.79019 26.015401 \n\" style=\"fill: none; stroke: #000000; stroke-width: 0.8; stroke-linejoin: miter; stroke-linecap: square\"/>\n   </g>\n   <g id=\"patch_19\">\n    <path d=\"M 346.720625 66.773662 \nL 346.720625 26.015401 \n\" style=\"fill: none; stroke: #000000; stroke-width: 0.8; stroke-linejoin: miter; stroke-linecap: square\"/>\n   </g>\n   <g id=\"patch_20\">\n    <path d=\"M 278.79019 66.773662 \nL 346.720625 66.773662 \n\" style=\"fill: none; stroke: #000000; stroke-width: 0.8; stroke-linejoin: miter; stroke-linecap: square\"/>\n   </g>\n   <g id=\"patch_21\">\n    <path d=\"M 278.79019 26.015401 \nL 346.720625 26.015401 \n\" style=\"fill: none; stroke: #000000; stroke-width: 0.8; stroke-linejoin: miter; stroke-linecap: square\"/>\n   </g>\n   <g id=\"text_7\">\n    <!-- Head 4 -->\n    <g transform=\"translate(291.341033 20.015401)scale(0.12 -0.12)\">\n     <defs>\n      <path id=\"DejaVuSans-34\" d=\"M 2419 4116 \nL 825 1625 \nL 2419 1625 \nL 2419 4116 \nz\nM 2253 4666 \nL 3047 4666 \nL 3047 1625 \nL 3713 1625 \nL 3713 1100 \nL 3047 1100 \nL 3047 0 \nL 2419 0 \nL 2419 1100 \nL 313 1100 \nL 313 1709 \nL 2253 4666 \nz\n\" transform=\"scale(0.015625)\"/>\n     </defs>\n     <use xlink:href=\"#DejaVuSans-48\"/>\n     <use xlink:href=\"#DejaVuSans-65\" x=\"75.195312\"/>\n     <use xlink:href=\"#DejaVuSans-61\" x=\"136.71875\"/>\n     <use xlink:href=\"#DejaVuSans-64\" x=\"197.998047\"/>\n     <use xlink:href=\"#DejaVuSans-20\" x=\"261.474609\"/>\n     <use xlink:href=\"#DejaVuSans-34\" x=\"293.261719\"/>\n    </g>\n   </g>\n  </g>\n  <g id=\"axes_5\">\n   <g id=\"patch_22\">\n    <path d=\"M 34.240625 170.551844 \nL 102.17106 170.551844 \nL 102.17106 129.793583 \nL 34.240625 129.793583 \nz\n\" style=\"fill: #ffffff\"/>\n   </g>\n   <g clip-path=\"url(#pd6ecf8a9a3)\">\n    <image xlink:href=\"data:image/png;base64,\niVBORw0KGgoAAAANSUhEUgAAAEQAAAApCAYAAACMeY82AAABFUlEQVR4nO3YMU4CQRiG4f3ZUbOJFiY0ViRegnILSzpD6wFs7TgDhbHyCh6DFi/AAawpiCQkiKz9l/kINOyavE85fwYmbybZ7MbPy2NTGOXk1Y2K/eIzP1iv7J6yHttZV/TaPkDXEEQQRBBEEEQQRKQYP/lpL9lRM59l16Oq/O/VR56qRdwQQRBBEEEQQRBBEJHi7t4Of98mdhYPo/ygsS/P/wI3RBBEEEQQRBBEEETE/ntpn5PPNwO78X39dfqfRZy859y4IYIggiCCIIIgIh16GRtcXfid201+vfTfYYt0eeSx2sMNEQQRBBEEEQQRBBGx+5j65+5t3++srvPru63dUg7Nd9gO4YYIggiCCIIIggiCiD8YISKM5ZpAPwAAAABJRU5ErkJggg==\" id=\"imagea6d78e079c\" transform=\"scale(1 -1)translate(0 -41)\" x=\"34.240625\" y=\"-129.551844\" width=\"68\" height=\"41\"/>\n   </g>\n   <g id=\"matplotlib.axis_9\">\n    <g id=\"xtick_9\">\n     <g id=\"line2d_17\">\n      <g>\n       <use xlink:href=\"#m260332acb5\" x=\"37.637147\" y=\"170.551844\" style=\"stroke: #000000; stroke-width: 0.8\"/>\n      </g>\n     </g>\n     <g id=\"text_8\">\n      <!-- 0 -->\n      <g transform=\"translate(34.455897 185.150281)scale(0.1 -0.1)\">\n       <use xlink:href=\"#DejaVuSans-30\"/>\n      </g>\n     </g>\n    </g>\n    <g id=\"xtick_10\">\n     <g id=\"line2d_18\">\n      <g>\n       <use xlink:href=\"#m260332acb5\" x=\"71.602364\" y=\"170.551844\" style=\"stroke: #000000; stroke-width: 0.8\"/>\n      </g>\n     </g>\n     <g id=\"text_9\">\n      <!-- 5 -->\n      <g transform=\"translate(68.421114 185.150281)scale(0.1 -0.1)\">\n       <use xlink:href=\"#DejaVuSans-35\"/>\n      </g>\n     </g>\n    </g>\n    <g id=\"text_10\">\n     <!-- Key positions -->\n     <g transform=\"translate(35.142561 198.828406)scale(0.1 -0.1)\">\n      <defs>\n       <path id=\"DejaVuSans-4b\" d=\"M 628 4666 \nL 1259 4666 \nL 1259 2694 \nL 3353 4666 \nL 4166 4666 \nL 1850 2491 \nL 4331 0 \nL 3500 0 \nL 1259 2247 \nL 1259 0 \nL 628 0 \nL 628 4666 \nz\n\" transform=\"scale(0.015625)\"/>\n      </defs>\n      <use xlink:href=\"#DejaVuSans-4b\"/>\n      <use xlink:href=\"#DejaVuSans-65\" x=\"60.576172\"/>\n      <use xlink:href=\"#DejaVuSans-79\" x=\"122.099609\"/>\n      <use xlink:href=\"#DejaVuSans-20\" x=\"181.279297\"/>\n      <use xlink:href=\"#DejaVuSans-70\" x=\"213.066406\"/>\n      <use xlink:href=\"#DejaVuSans-6f\" x=\"276.542969\"/>\n      <use xlink:href=\"#DejaVuSans-73\" x=\"337.724609\"/>\n      <use xlink:href=\"#DejaVuSans-69\" x=\"389.824219\"/>\n      <use xlink:href=\"#DejaVuSans-74\" x=\"417.607422\"/>\n      <use xlink:href=\"#DejaVuSans-69\" x=\"456.816406\"/>\n      <use xlink:href=\"#DejaVuSans-6f\" x=\"484.599609\"/>\n      <use xlink:href=\"#DejaVuSans-6e\" x=\"545.78125\"/>\n      <use xlink:href=\"#DejaVuSans-73\" x=\"609.160156\"/>\n     </g>\n    </g>\n   </g>\n   <g id=\"matplotlib.axis_10\">\n    <g id=\"ytick_9\">\n     <g id=\"line2d_19\">\n      <g>\n       <use xlink:href=\"#m87b7b13fdc\" x=\"34.240625\" y=\"133.190104\" style=\"stroke: #000000; stroke-width: 0.8\"/>\n      </g>\n     </g>\n     <g id=\"text_11\">\n      <!-- 0 -->\n      <g transform=\"translate(20.878125 136.989323)scale(0.1 -0.1)\">\n       <use xlink:href=\"#DejaVuSans-30\"/>\n      </g>\n     </g>\n    </g>\n    <g id=\"ytick_10\">\n     <g id=\"line2d_20\">\n      <g>\n       <use xlink:href=\"#m87b7b13fdc\" x=\"34.240625\" y=\"167.155322\" style=\"stroke: #000000; stroke-width: 0.8\"/>\n      </g>\n     </g>\n     <g id=\"text_12\">\n      <!-- 5 -->\n      <g transform=\"translate(20.878125 170.954541)scale(0.1 -0.1)\">\n       <use xlink:href=\"#DejaVuSans-35\"/>\n      </g>\n     </g>\n    </g>\n    <g id=\"text_13\">\n     <!-- Query positions -->\n     <g transform=\"translate(14.798437 189.367244)rotate(-90)scale(0.1 -0.1)\">\n      <use xlink:href=\"#DejaVuSans-51\"/>\n      <use xlink:href=\"#DejaVuSans-75\" x=\"78.710938\"/>\n      <use xlink:href=\"#DejaVuSans-65\" x=\"142.089844\"/>\n      <use xlink:href=\"#DejaVuSans-72\" x=\"203.613281\"/>\n      <use xlink:href=\"#DejaVuSans-79\" x=\"244.726562\"/>\n      <use xlink:href=\"#DejaVuSans-20\" x=\"303.90625\"/>\n      <use xlink:href=\"#DejaVuSans-70\" x=\"335.693359\"/>\n      <use xlink:href=\"#DejaVuSans-6f\" x=\"399.169922\"/>\n      <use xlink:href=\"#DejaVuSans-73\" x=\"460.351562\"/>\n      <use xlink:href=\"#DejaVuSans-69\" x=\"512.451172\"/>\n      <use xlink:href=\"#DejaVuSans-74\" x=\"540.234375\"/>\n      <use xlink:href=\"#DejaVuSans-69\" x=\"579.443359\"/>\n      <use xlink:href=\"#DejaVuSans-6f\" x=\"607.226562\"/>\n      <use xlink:href=\"#DejaVuSans-6e\" x=\"668.408203\"/>\n      <use xlink:href=\"#DejaVuSans-73\" x=\"731.787109\"/>\n     </g>\n    </g>\n   </g>\n   <g id=\"patch_23\">\n    <path d=\"M 34.240625 170.551844 \nL 34.240625 129.793583 \n\" style=\"fill: none; stroke: #000000; stroke-width: 0.8; stroke-linejoin: miter; stroke-linecap: square\"/>\n   </g>\n   <g id=\"patch_24\">\n    <path d=\"M 102.17106 170.551844 \nL 102.17106 129.793583 \n\" style=\"fill: none; stroke: #000000; stroke-width: 0.8; stroke-linejoin: miter; stroke-linecap: square\"/>\n   </g>\n   <g id=\"patch_25\">\n    <path d=\"M 34.240625 170.551844 \nL 102.17106 170.551844 \n\" style=\"fill: none; stroke: #000000; stroke-width: 0.8; stroke-linejoin: miter; stroke-linecap: square\"/>\n   </g>\n   <g id=\"patch_26\">\n    <path d=\"M 34.240625 129.793583 \nL 102.17106 129.793583 \n\" style=\"fill: none; stroke: #000000; stroke-width: 0.8; stroke-linejoin: miter; stroke-linecap: square\"/>\n   </g>\n   <g id=\"text_14\">\n    <!-- Head 1 -->\n    <g transform=\"translate(46.791467 123.793583)scale(0.12 -0.12)\">\n     <use xlink:href=\"#DejaVuSans-48\"/>\n     <use xlink:href=\"#DejaVuSans-65\" x=\"75.195312\"/>\n     <use xlink:href=\"#DejaVuSans-61\" x=\"136.71875\"/>\n     <use xlink:href=\"#DejaVuSans-64\" x=\"197.998047\"/>\n     <use xlink:href=\"#DejaVuSans-20\" x=\"261.474609\"/>\n     <use xlink:href=\"#DejaVuSans-31\" x=\"293.261719\"/>\n    </g>\n   </g>\n  </g>\n  <g id=\"axes_6\">\n   <g id=\"patch_27\">\n    <path d=\"M 115.757147 170.551844 \nL 183.687582 170.551844 \nL 183.687582 129.793583 \nL 115.757147 129.793583 \nz\n\" style=\"fill: #ffffff\"/>\n   </g>\n   <g clip-path=\"url(#pcbb8ee4cd0)\">\n    <image xlink:href=\"data:image/png;base64,\niVBORw0KGgoAAAANSUhEUgAAAEQAAAApCAYAAACMeY82AAAA4klEQVR4nO3YMQrCQBQAUTdGURC00N7KG3gjwWNo5RkEj2VlKViZRgTtTOyHfBEsojKv3M+SZVgISSqP+6oV6fbD0WO3qR8Mh+GefLEKZ98ia/oA38YgYBAwCBgEDAJ5WZzCYTabh7M0ntSuV8X540M1yRsCBgGDgEHAIGAQyFOnF0/v13hWPurXX3zt/gJvCBgEDAIGAYOAQSBVt0v4k3k1moYb18WhfpC144e187cP1hRvCBgEDAIGAYNAWrYG4Vtme4v/t/4rbwgYBAwCBgGDgEHAIGAQMAgYBAwCBgGDwBMwgBw0VS0EnwAAAABJRU5ErkJggg==\" id=\"image7af6ec306d\" transform=\"scale(1 -1)translate(0 -41)\" x=\"115.757147\" y=\"-129.551844\" width=\"68\" height=\"41\"/>\n   </g>\n   <g id=\"matplotlib.axis_11\">\n    <g id=\"xtick_11\">\n     <g id=\"line2d_21\">\n      <g>\n       <use xlink:href=\"#m260332acb5\" x=\"119.153668\" y=\"170.551844\" style=\"stroke: #000000; stroke-width: 0.8\"/>\n      </g>\n     </g>\n     <g id=\"text_15\">\n      <!-- 0 -->\n      <g transform=\"translate(115.972418 185.150281)scale(0.1 -0.1)\">\n       <use xlink:href=\"#DejaVuSans-30\"/>\n      </g>\n     </g>\n    </g>\n    <g id=\"xtick_12\">\n     <g id=\"line2d_22\">\n      <g>\n       <use xlink:href=\"#m260332acb5\" x=\"153.118886\" y=\"170.551844\" style=\"stroke: #000000; stroke-width: 0.8\"/>\n      </g>\n     </g>\n     <g id=\"text_16\">\n      <!-- 5 -->\n      <g transform=\"translate(149.937636 185.150281)scale(0.1 -0.1)\">\n       <use xlink:href=\"#DejaVuSans-35\"/>\n      </g>\n     </g>\n    </g>\n    <g id=\"text_17\">\n     <!-- Key positions -->\n     <g transform=\"translate(116.659083 198.828406)scale(0.1 -0.1)\">\n      <use xlink:href=\"#DejaVuSans-4b\"/>\n      <use xlink:href=\"#DejaVuSans-65\" x=\"60.576172\"/>\n      <use xlink:href=\"#DejaVuSans-79\" x=\"122.099609\"/>\n      <use xlink:href=\"#DejaVuSans-20\" x=\"181.279297\"/>\n      <use xlink:href=\"#DejaVuSans-70\" x=\"213.066406\"/>\n      <use xlink:href=\"#DejaVuSans-6f\" x=\"276.542969\"/>\n      <use xlink:href=\"#DejaVuSans-73\" x=\"337.724609\"/>\n      <use xlink:href=\"#DejaVuSans-69\" x=\"389.824219\"/>\n      <use xlink:href=\"#DejaVuSans-74\" x=\"417.607422\"/>\n      <use xlink:href=\"#DejaVuSans-69\" x=\"456.816406\"/>\n      <use xlink:href=\"#DejaVuSans-6f\" x=\"484.599609\"/>\n      <use xlink:href=\"#DejaVuSans-6e\" x=\"545.78125\"/>\n      <use xlink:href=\"#DejaVuSans-73\" x=\"609.160156\"/>\n     </g>\n    </g>\n   </g>\n   <g id=\"matplotlib.axis_12\">\n    <g id=\"ytick_11\">\n     <g id=\"line2d_23\">\n      <g>\n       <use xlink:href=\"#m87b7b13fdc\" x=\"115.757147\" y=\"133.190104\" style=\"stroke: #000000; stroke-width: 0.8\"/>\n      </g>\n     </g>\n    </g>\n    <g id=\"ytick_12\">\n     <g id=\"line2d_24\">\n      <g>\n       <use xlink:href=\"#m87b7b13fdc\" x=\"115.757147\" y=\"167.155322\" style=\"stroke: #000000; stroke-width: 0.8\"/>\n      </g>\n     </g>\n    </g>\n   </g>\n   <g id=\"patch_28\">\n    <path d=\"M 115.757147 170.551844 \nL 115.757147 129.793583 \n\" style=\"fill: none; stroke: #000000; stroke-width: 0.8; stroke-linejoin: miter; stroke-linecap: square\"/>\n   </g>\n   <g id=\"patch_29\">\n    <path d=\"M 183.687582 170.551844 \nL 183.687582 129.793583 \n\" style=\"fill: none; stroke: #000000; stroke-width: 0.8; stroke-linejoin: miter; stroke-linecap: square\"/>\n   </g>\n   <g id=\"patch_30\">\n    <path d=\"M 115.757147 170.551844 \nL 183.687582 170.551844 \n\" style=\"fill: none; stroke: #000000; stroke-width: 0.8; stroke-linejoin: miter; stroke-linecap: square\"/>\n   </g>\n   <g id=\"patch_31\">\n    <path d=\"M 115.757147 129.793583 \nL 183.687582 129.793583 \n\" style=\"fill: none; stroke: #000000; stroke-width: 0.8; stroke-linejoin: miter; stroke-linecap: square\"/>\n   </g>\n   <g id=\"text_18\">\n    <!-- Head 2 -->\n    <g transform=\"translate(128.307989 123.793583)scale(0.12 -0.12)\">\n     <use xlink:href=\"#DejaVuSans-48\"/>\n     <use xlink:href=\"#DejaVuSans-65\" x=\"75.195312\"/>\n     <use xlink:href=\"#DejaVuSans-61\" x=\"136.71875\"/>\n     <use xlink:href=\"#DejaVuSans-64\" x=\"197.998047\"/>\n     <use xlink:href=\"#DejaVuSans-20\" x=\"261.474609\"/>\n     <use xlink:href=\"#DejaVuSans-32\" x=\"293.261719\"/>\n    </g>\n   </g>\n  </g>\n  <g id=\"axes_7\">\n   <g id=\"patch_32\">\n    <path d=\"M 197.273668 170.551844 \nL 265.204103 170.551844 \nL 265.204103 129.793583 \nL 197.273668 129.793583 \nz\n\" style=\"fill: #ffffff\"/>\n   </g>\n   <g clip-path=\"url(#pa630b30d2b)\">\n    <image xlink:href=\"data:image/png;base64,\niVBORw0KGgoAAAANSUhEUgAAAEQAAAApCAYAAACMeY82AAABFUlEQVR4nO3aMUpDQRRA0ZlkQFIIIiIYe0sLG0EstHYJ7sPeFbiBtArBHSi4AisbEURsBUlhChHJj/1lHgSCTIp7yv8Y8rgMfPgkdx/v8xT5/gpH3f1t9fn85Tk8Uy5H4WxV9FovsGoMAgYBg4BBwCBQ0togHHZ3N/HJblZ9nA+Plt2pKW8IGAQMAgYBg4BBoMyuLsJh3j+IZ8dn9cHvz7I7NeUNAYOAQcAgYBAwCORuOgk/Ml/v7oUHz18f64NeP/6xwfrimzXiDQGDgEHAIGAQyA9bw/Atc/L2FJ+cTurPg2+tKaWUN3cWXqwVbwgYBAwCBgGDgEGgjD/jfwmd9kt8cmP7H9ZpzxsCBgGDgEHAIGAQ+AOfKCeu5diOoQAAAABJRU5ErkJggg==\" id=\"imagedff73e392b\" transform=\"scale(1 -1)translate(0 -41)\" x=\"197.273668\" y=\"-129.551844\" width=\"68\" height=\"41\"/>\n   </g>\n   <g id=\"matplotlib.axis_13\">\n    <g id=\"xtick_13\">\n     <g id=\"line2d_25\">\n      <g>\n       <use xlink:href=\"#m260332acb5\" x=\"200.67019\" y=\"170.551844\" style=\"stroke: #000000; stroke-width: 0.8\"/>\n      </g>\n     </g>\n     <g id=\"text_19\">\n      <!-- 0 -->\n      <g transform=\"translate(197.48894 185.150281)scale(0.1 -0.1)\">\n       <use xlink:href=\"#DejaVuSans-30\"/>\n      </g>\n     </g>\n    </g>\n    <g id=\"xtick_14\">\n     <g id=\"line2d_26\">\n      <g>\n       <use xlink:href=\"#m260332acb5\" x=\"234.635408\" y=\"170.551844\" style=\"stroke: #000000; stroke-width: 0.8\"/>\n      </g>\n     </g>\n     <g id=\"text_20\">\n      <!-- 5 -->\n      <g transform=\"translate(231.454158 185.150281)scale(0.1 -0.1)\">\n       <use xlink:href=\"#DejaVuSans-35\"/>\n      </g>\n     </g>\n    </g>\n    <g id=\"text_21\">\n     <!-- Key positions -->\n     <g transform=\"translate(198.175605 198.828406)scale(0.1 -0.1)\">\n      <use xlink:href=\"#DejaVuSans-4b\"/>\n      <use xlink:href=\"#DejaVuSans-65\" x=\"60.576172\"/>\n      <use xlink:href=\"#DejaVuSans-79\" x=\"122.099609\"/>\n      <use xlink:href=\"#DejaVuSans-20\" x=\"181.279297\"/>\n      <use xlink:href=\"#DejaVuSans-70\" x=\"213.066406\"/>\n      <use xlink:href=\"#DejaVuSans-6f\" x=\"276.542969\"/>\n      <use xlink:href=\"#DejaVuSans-73\" x=\"337.724609\"/>\n      <use xlink:href=\"#DejaVuSans-69\" x=\"389.824219\"/>\n      <use xlink:href=\"#DejaVuSans-74\" x=\"417.607422\"/>\n      <use xlink:href=\"#DejaVuSans-69\" x=\"456.816406\"/>\n      <use xlink:href=\"#DejaVuSans-6f\" x=\"484.599609\"/>\n      <use xlink:href=\"#DejaVuSans-6e\" x=\"545.78125\"/>\n      <use xlink:href=\"#DejaVuSans-73\" x=\"609.160156\"/>\n     </g>\n    </g>\n   </g>\n   <g id=\"matplotlib.axis_14\">\n    <g id=\"ytick_13\">\n     <g id=\"line2d_27\">\n      <g>\n       <use xlink:href=\"#m87b7b13fdc\" x=\"197.273668\" y=\"133.190104\" style=\"stroke: #000000; stroke-width: 0.8\"/>\n      </g>\n     </g>\n    </g>\n    <g id=\"ytick_14\">\n     <g id=\"line2d_28\">\n      <g>\n       <use xlink:href=\"#m87b7b13fdc\" x=\"197.273668\" y=\"167.155322\" style=\"stroke: #000000; stroke-width: 0.8\"/>\n      </g>\n     </g>\n    </g>\n   </g>\n   <g id=\"patch_33\">\n    <path d=\"M 197.273668 170.551844 \nL 197.273668 129.793583 \n\" style=\"fill: none; stroke: #000000; stroke-width: 0.8; stroke-linejoin: miter; stroke-linecap: square\"/>\n   </g>\n   <g id=\"patch_34\">\n    <path d=\"M 265.204103 170.551844 \nL 265.204103 129.793583 \n\" style=\"fill: none; stroke: #000000; stroke-width: 0.8; stroke-linejoin: miter; stroke-linecap: square\"/>\n   </g>\n   <g id=\"patch_35\">\n    <path d=\"M 197.273668 170.551844 \nL 265.204103 170.551844 \n\" style=\"fill: none; stroke: #000000; stroke-width: 0.8; stroke-linejoin: miter; stroke-linecap: square\"/>\n   </g>\n   <g id=\"patch_36\">\n    <path d=\"M 197.273668 129.793583 \nL 265.204103 129.793583 \n\" style=\"fill: none; stroke: #000000; stroke-width: 0.8; stroke-linejoin: miter; stroke-linecap: square\"/>\n   </g>\n   <g id=\"text_22\">\n    <!-- Head 3 -->\n    <g transform=\"translate(209.824511 123.793583)scale(0.12 -0.12)\">\n     <use xlink:href=\"#DejaVuSans-48\"/>\n     <use xlink:href=\"#DejaVuSans-65\" x=\"75.195312\"/>\n     <use xlink:href=\"#DejaVuSans-61\" x=\"136.71875\"/>\n     <use xlink:href=\"#DejaVuSans-64\" x=\"197.998047\"/>\n     <use xlink:href=\"#DejaVuSans-20\" x=\"261.474609\"/>\n     <use xlink:href=\"#DejaVuSans-33\" x=\"293.261719\"/>\n    </g>\n   </g>\n  </g>\n  <g id=\"axes_8\">\n   <g id=\"patch_37\">\n    <path d=\"M 278.79019 170.551844 \nL 346.720625 170.551844 \nL 346.720625 129.793583 \nL 278.79019 129.793583 \nz\n\" style=\"fill: #ffffff\"/>\n   </g>\n   <g clip-path=\"url(#p0c59eaf545)\">\n    <image xlink:href=\"data:image/png;base64,\niVBORw0KGgoAAAANSUhEUgAAAEQAAAApCAYAAACMeY82AAABCUlEQVR4nO3XMWvCQByG8TsJKYZDtNDJtZujUz5Rv47QwS/QrWPHzqU4+CXsUigGodlak+4veUGQcoLPb7w/l5wPB5LYfTd9MOJo5Ebh+Pw4uP65erJ75m8bO7sU/hdfKYIIggiCCIIIgogiHH/ssP/t/OywH1yf3d+dfaicuCGCIIIggiCCIIIgInZfO/u1+76o7cZ6+zo8KCv/sjQ9+WC5cEMEQQRBBEEEQQRBRBGriR2+NK2d1enWPLE890xZcUMEQQRBBEEEQUTR9/bbLizTjd/ZNsPraeb3lOMTj5UPN0QQRBBEEEQQRBBExIeQ7P/uuv3wG2P8lwPlxg0RBBEEEQQRBBEEEX9shyV2hQ6RjAAAAABJRU5ErkJggg==\" id=\"image3be22301a2\" transform=\"scale(1 -1)translate(0 -41)\" x=\"278.79019\" y=\"-129.551844\" width=\"68\" height=\"41\"/>\n   </g>\n   <g id=\"matplotlib.axis_15\">\n    <g id=\"xtick_15\">\n     <g id=\"line2d_29\">\n      <g>\n       <use xlink:href=\"#m260332acb5\" x=\"282.186712\" y=\"170.551844\" style=\"stroke: #000000; stroke-width: 0.8\"/>\n      </g>\n     </g>\n     <g id=\"text_23\">\n      <!-- 0 -->\n      <g transform=\"translate(279.005462 185.150281)scale(0.1 -0.1)\">\n       <use xlink:href=\"#DejaVuSans-30\"/>\n      </g>\n     </g>\n    </g>\n    <g id=\"xtick_16\">\n     <g id=\"line2d_30\">\n      <g>\n       <use xlink:href=\"#m260332acb5\" x=\"316.151929\" y=\"170.551844\" style=\"stroke: #000000; stroke-width: 0.8\"/>\n      </g>\n     </g>\n     <g id=\"text_24\">\n      <!-- 5 -->\n      <g transform=\"translate(312.970679 185.150281)scale(0.1 -0.1)\">\n       <use xlink:href=\"#DejaVuSans-35\"/>\n      </g>\n     </g>\n    </g>\n    <g id=\"text_25\">\n     <!-- Key positions -->\n     <g transform=\"translate(279.692126 198.828406)scale(0.1 -0.1)\">\n      <use xlink:href=\"#DejaVuSans-4b\"/>\n      <use xlink:href=\"#DejaVuSans-65\" x=\"60.576172\"/>\n      <use xlink:href=\"#DejaVuSans-79\" x=\"122.099609\"/>\n      <use xlink:href=\"#DejaVuSans-20\" x=\"181.279297\"/>\n      <use xlink:href=\"#DejaVuSans-70\" x=\"213.066406\"/>\n      <use xlink:href=\"#DejaVuSans-6f\" x=\"276.542969\"/>\n      <use xlink:href=\"#DejaVuSans-73\" x=\"337.724609\"/>\n      <use xlink:href=\"#DejaVuSans-69\" x=\"389.824219\"/>\n      <use xlink:href=\"#DejaVuSans-74\" x=\"417.607422\"/>\n      <use xlink:href=\"#DejaVuSans-69\" x=\"456.816406\"/>\n      <use xlink:href=\"#DejaVuSans-6f\" x=\"484.599609\"/>\n      <use xlink:href=\"#DejaVuSans-6e\" x=\"545.78125\"/>\n      <use xlink:href=\"#DejaVuSans-73\" x=\"609.160156\"/>\n     </g>\n    </g>\n   </g>\n   <g id=\"matplotlib.axis_16\">\n    <g id=\"ytick_15\">\n     <g id=\"line2d_31\">\n      <g>\n       <use xlink:href=\"#m87b7b13fdc\" x=\"278.79019\" y=\"133.190104\" style=\"stroke: #000000; stroke-width: 0.8\"/>\n      </g>\n     </g>\n    </g>\n    <g id=\"ytick_16\">\n     <g id=\"line2d_32\">\n      <g>\n       <use xlink:href=\"#m87b7b13fdc\" x=\"278.79019\" y=\"167.155322\" style=\"stroke: #000000; stroke-width: 0.8\"/>\n      </g>\n     </g>\n    </g>\n   </g>\n   <g id=\"patch_38\">\n    <path d=\"M 278.79019 170.551844 \nL 278.79019 129.793583 \n\" style=\"fill: none; stroke: #000000; stroke-width: 0.8; stroke-linejoin: miter; stroke-linecap: square\"/>\n   </g>\n   <g id=\"patch_39\">\n    <path d=\"M 346.720625 170.551844 \nL 346.720625 129.793583 \n\" style=\"fill: none; stroke: #000000; stroke-width: 0.8; stroke-linejoin: miter; stroke-linecap: square\"/>\n   </g>\n   <g id=\"patch_40\">\n    <path d=\"M 278.79019 170.551844 \nL 346.720625 170.551844 \n\" style=\"fill: none; stroke: #000000; stroke-width: 0.8; stroke-linejoin: miter; stroke-linecap: square\"/>\n   </g>\n   <g id=\"patch_41\">\n    <path d=\"M 278.79019 129.793583 \nL 346.720625 129.793583 \n\" style=\"fill: none; stroke: #000000; stroke-width: 0.8; stroke-linejoin: miter; stroke-linecap: square\"/>\n   </g>\n   <g id=\"text_26\">\n    <!-- Head 4 -->\n    <g transform=\"translate(291.341033 123.793583)scale(0.12 -0.12)\">\n     <use xlink:href=\"#DejaVuSans-48\"/>\n     <use xlink:href=\"#DejaVuSans-65\" x=\"75.195312\"/>\n     <use xlink:href=\"#DejaVuSans-61\" x=\"136.71875\"/>\n     <use xlink:href=\"#DejaVuSans-64\" x=\"197.998047\"/>\n     <use xlink:href=\"#DejaVuSans-20\" x=\"261.474609\"/>\n     <use xlink:href=\"#DejaVuSans-34\" x=\"293.261719\"/>\n    </g>\n   </g>\n  </g>\n  <g id=\"axes_9\">\n   <g id=\"patch_42\">\n    <path d=\"M 366.250625 155.361622 \nL 371.958425 155.361622 \nL 371.958425 41.205622 \nL 366.250625 41.205622 \nz\n\" style=\"fill: #ffffff\"/>\n   </g>\n   <g id=\"patch_43\">\n    <path clip-path=\"url(#pe8db4899ce)\" style=\"fill: #ffffff; stroke: #ffffff; stroke-width: 0.01; stroke-linejoin: miter\"/>\n   </g>\n   <image xlink:href=\"data:image/png;base64,\niVBORw0KGgoAAAANSUhEUgAAAAYAAAByCAYAAABwf6CfAAAAzUlEQVR4nLWVQQ7EMAgDqcT/v7qXPTUQ+gGmklHaY9Bgm6TJVf9fWfO51e7WzW0nFJhoJSYaxQQVBjl0u1gIKCSJoyscSaxTrdhV6jmAKN1VkLiegzVoiHorJA7mOLhRg1lhDvoNBjl0uyBeg/2QcyAha1SiuErUoivjnPhe5+xiISiHbjfhbk8k6PFKKrxoyK3kQsb3GkEam15OLPQba+aJRL9uvg3FgQi0S610cSQwYH8O3wjYDvPFhNoKiRv8etBIdI2FJ1FuhcQNxAMVLAxITCrWxAAAAABJRU5ErkJggg==\" id=\"image3d2a747217\" transform=\"scale(1 -1)translate(0 -114)\" x=\"366\" y=\"-41\" width=\"6\" height=\"114\"/>\n   <g id=\"matplotlib.axis_17\">\n    <g id=\"ytick_17\">\n     <g id=\"line2d_33\">\n      <defs>\n       <path id=\"mbd1f4055f9\" d=\"M 0 0 \nL 3.5 0 \n\" style=\"stroke: #000000; stroke-width: 0.8\"/>\n      </defs>\n      <g>\n       <use xlink:href=\"#mbd1f4055f9\" x=\"371.958425\" y=\"155.361622\" style=\"stroke: #000000; stroke-width: 0.8\"/>\n      </g>\n     </g>\n     <g id=\"text_27\">\n      <!-- 0.0 -->\n      <g transform=\"translate(378.958425 159.160841)scale(0.1 -0.1)\">\n       <defs>\n        <path id=\"DejaVuSans-2e\" d=\"M 684 794 \nL 1344 794 \nL 1344 0 \nL 684 0 \nL 684 794 \nz\n\" transform=\"scale(0.015625)\"/>\n       </defs>\n       <use xlink:href=\"#DejaVuSans-30\"/>\n       <use xlink:href=\"#DejaVuSans-2e\" x=\"63.623047\"/>\n       <use xlink:href=\"#DejaVuSans-30\" x=\"95.410156\"/>\n      </g>\n     </g>\n    </g>\n    <g id=\"ytick_18\">\n     <g id=\"line2d_34\">\n      <g>\n       <use xlink:href=\"#mbd1f4055f9\" x=\"371.958425\" y=\"132.416073\" style=\"stroke: #000000; stroke-width: 0.8\"/>\n      </g>\n     </g>\n     <g id=\"text_28\">\n      <!-- 0.2 -->\n      <g transform=\"translate(378.958425 136.215292)scale(0.1 -0.1)\">\n       <use xlink:href=\"#DejaVuSans-30\"/>\n       <use xlink:href=\"#DejaVuSans-2e\" x=\"63.623047\"/>\n       <use xlink:href=\"#DejaVuSans-32\" x=\"95.410156\"/>\n      </g>\n     </g>\n    </g>\n    <g id=\"ytick_19\">\n     <g id=\"line2d_35\">\n      <g>\n       <use xlink:href=\"#mbd1f4055f9\" x=\"371.958425\" y=\"109.470525\" style=\"stroke: #000000; stroke-width: 0.8\"/>\n      </g>\n     </g>\n     <g id=\"text_29\">\n      <!-- 0.4 -->\n      <g transform=\"translate(378.958425 113.269743)scale(0.1 -0.1)\">\n       <use xlink:href=\"#DejaVuSans-30\"/>\n       <use xlink:href=\"#DejaVuSans-2e\" x=\"63.623047\"/>\n       <use xlink:href=\"#DejaVuSans-34\" x=\"95.410156\"/>\n      </g>\n     </g>\n    </g>\n    <g id=\"ytick_20\">\n     <g id=\"line2d_36\">\n      <g>\n       <use xlink:href=\"#mbd1f4055f9\" x=\"371.958425\" y=\"86.524976\" style=\"stroke: #000000; stroke-width: 0.8\"/>\n      </g>\n     </g>\n     <g id=\"text_30\">\n      <!-- 0.6 -->\n      <g transform=\"translate(378.958425 90.324195)scale(0.1 -0.1)\">\n       <defs>\n        <path id=\"DejaVuSans-36\" d=\"M 2113 2584 \nQ 1688 2584 1439 2293 \nQ 1191 2003 1191 1497 \nQ 1191 994 1439 701 \nQ 1688 409 2113 409 \nQ 2538 409 2786 701 \nQ 3034 994 3034 1497 \nQ 3034 2003 2786 2293 \nQ 2538 2584 2113 2584 \nz\nM 3366 4563 \nL 3366 3988 \nQ 3128 4100 2886 4159 \nQ 2644 4219 2406 4219 \nQ 1781 4219 1451 3797 \nQ 1122 3375 1075 2522 \nQ 1259 2794 1537 2939 \nQ 1816 3084 2150 3084 \nQ 2853 3084 3261 2657 \nQ 3669 2231 3669 1497 \nQ 3669 778 3244 343 \nQ 2819 -91 2113 -91 \nQ 1303 -91 875 529 \nQ 447 1150 447 2328 \nQ 447 3434 972 4092 \nQ 1497 4750 2381 4750 \nQ 2619 4750 2861 4703 \nQ 3103 4656 3366 4563 \nz\n\" transform=\"scale(0.015625)\"/>\n       </defs>\n       <use xlink:href=\"#DejaVuSans-30\"/>\n       <use xlink:href=\"#DejaVuSans-2e\" x=\"63.623047\"/>\n       <use xlink:href=\"#DejaVuSans-36\" x=\"95.410156\"/>\n      </g>\n     </g>\n    </g>\n    <g id=\"ytick_21\">\n     <g id=\"line2d_37\">\n      <g>\n       <use xlink:href=\"#mbd1f4055f9\" x=\"371.958425\" y=\"63.579427\" style=\"stroke: #000000; stroke-width: 0.8\"/>\n      </g>\n     </g>\n     <g id=\"text_31\">\n      <!-- 0.8 -->\n      <g transform=\"translate(378.958425 67.378646)scale(0.1 -0.1)\">\n       <defs>\n        <path id=\"DejaVuSans-38\" d=\"M 2034 2216 \nQ 1584 2216 1326 1975 \nQ 1069 1734 1069 1313 \nQ 1069 891 1326 650 \nQ 1584 409 2034 409 \nQ 2484 409 2743 651 \nQ 3003 894 3003 1313 \nQ 3003 1734 2745 1975 \nQ 2488 2216 2034 2216 \nz\nM 1403 2484 \nQ 997 2584 770 2862 \nQ 544 3141 544 3541 \nQ 544 4100 942 4425 \nQ 1341 4750 2034 4750 \nQ 2731 4750 3128 4425 \nQ 3525 4100 3525 3541 \nQ 3525 3141 3298 2862 \nQ 3072 2584 2669 2484 \nQ 3125 2378 3379 2068 \nQ 3634 1759 3634 1313 \nQ 3634 634 3220 271 \nQ 2806 -91 2034 -91 \nQ 1263 -91 848 271 \nQ 434 634 434 1313 \nQ 434 1759 690 2068 \nQ 947 2378 1403 2484 \nz\nM 1172 3481 \nQ 1172 3119 1398 2916 \nQ 1625 2713 2034 2713 \nQ 2441 2713 2670 2916 \nQ 2900 3119 2900 3481 \nQ 2900 3844 2670 4047 \nQ 2441 4250 2034 4250 \nQ 1625 4250 1398 4047 \nQ 1172 3844 1172 3481 \nz\n\" transform=\"scale(0.015625)\"/>\n       </defs>\n       <use xlink:href=\"#DejaVuSans-30\"/>\n       <use xlink:href=\"#DejaVuSans-2e\" x=\"63.623047\"/>\n       <use xlink:href=\"#DejaVuSans-38\" x=\"95.410156\"/>\n      </g>\n     </g>\n    </g>\n   </g>\n   <g id=\"LineCollection_1\"/>\n   <g id=\"patch_44\">\n    <path d=\"M 366.250625 155.361622 \nL 369.104525 155.361622 \nL 371.958425 155.361622 \nL 371.958425 41.205622 \nL 369.104525 41.205622 \nL 366.250625 41.205622 \nL 366.250625 155.361622 \nz\n\" style=\"fill: none; stroke: #000000; stroke-width: 0.8; stroke-linejoin: miter; stroke-linecap: square\"/>\n   </g>\n  </g>\n </g>\n <defs>\n  <clipPath id=\"p99383f28bc\">\n   <rect x=\"34.240625\" y=\"26.015401\" width=\"67.930435\" height=\"40.758261\"/>\n  </clipPath>\n  <clipPath id=\"p1747c3d3c6\">\n   <rect x=\"115.757147\" y=\"26.015401\" width=\"67.930435\" height=\"40.758261\"/>\n  </clipPath>\n  <clipPath id=\"peb71028666\">\n   <rect x=\"197.273668\" y=\"26.015401\" width=\"67.930435\" height=\"40.758261\"/>\n  </clipPath>\n  <clipPath id=\"pc75a3c41bc\">\n   <rect x=\"278.79019\" y=\"26.015401\" width=\"67.930435\" height=\"40.758261\"/>\n  </clipPath>\n  <clipPath id=\"pd6ecf8a9a3\">\n   <rect x=\"34.240625\" y=\"129.793583\" width=\"67.930435\" height=\"40.758261\"/>\n  </clipPath>\n  <clipPath id=\"pcbb8ee4cd0\">\n   <rect x=\"115.757147\" y=\"129.793583\" width=\"67.930435\" height=\"40.758261\"/>\n  </clipPath>\n  <clipPath id=\"pa630b30d2b\">\n   <rect x=\"197.273668\" y=\"129.793583\" width=\"67.930435\" height=\"40.758261\"/>\n  </clipPath>\n  <clipPath id=\"p0c59eaf545\">\n   <rect x=\"278.79019\" y=\"129.793583\" width=\"67.930435\" height=\"40.758261\"/>\n  </clipPath>\n  <clipPath id=\"pe8db4899ce\">\n   <rect x=\"366.250625\" y=\"41.205622\" width=\"5.7078\" height=\"114.156\"/>\n  </clipPath>\n </defs>\n</svg>\n",
      "text/plain": [
       "<Figure size 504x252 with 9 Axes>"
      ]
     },
     "metadata": {
      "needs_background": "light"
     },
     "output_type": "display_data"
    }
   ],
   "source": [
    "# This is decoder-encoder self attention\n",
    "\n",
    "d2l.show_heatmaps(\n",
    "    dec_inter_attention_weights, xlabel='Key positions',\n",
    "    ylabel='Query positions', titles=['Head %d' % i for i in range(1, 5)],\n",
    "    figsize=(7, 3.5))"
   ]
  },
  {
   "cell_type": "markdown",
   "metadata": {},
   "source": [
    "Note: preseq2seq--position issue remains"
   ]
  }
 ],
 "metadata": {
  "kernelspec": {
   "display_name": "Python 3.10.4 ('pt')",
   "language": "python",
   "name": "python3"
  },
  "language_info": {
   "codemirror_mode": {
    "name": "ipython",
    "version": 3
   },
   "file_extension": ".py",
   "mimetype": "text/x-python",
   "name": "python",
   "nbconvert_exporter": "python",
   "pygments_lexer": "ipython3",
   "version": "3.10.4"
  },
  "orig_nbformat": 4,
  "vscode": {
   "interpreter": {
    "hash": "78bf9874701a3957232b8c741c196d0ac3fa790968bd4270c0e2fd5bdf999274"
   }
  }
 },
 "nbformat": 4,
 "nbformat_minor": 2
}
